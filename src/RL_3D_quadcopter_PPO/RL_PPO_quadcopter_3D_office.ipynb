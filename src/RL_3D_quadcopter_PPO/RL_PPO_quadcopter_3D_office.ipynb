{
 "cells": [
  {
   "cell_type": "code",
   "execution_count": 1,
   "id": "285d18fd",
   "metadata": {},
   "outputs": [],
   "source": [
    "using Pkg\n",
    "if isfile(\"Project.toml\") && isfile(\"Manifest.toml\")\n",
    "    Pkg.activate(\".\")\n",
    "end"
   ]
  },
  {
   "cell_type": "markdown",
   "id": "0649b76a",
   "metadata": {},
   "source": [
    "# Init Bionic VTOL"
   ]
  },
  {
   "cell_type": "code",
   "execution_count": 2,
   "id": "96751412",
   "metadata": {},
   "outputs": [],
   "source": [
    "include(\"../Flyonic.jl\");\n",
    "using .Flyonic;\n",
    "\n",
    "using Rotations; # used for initial position\n",
    "\n",
    "using ReinforcementLearning;\n",
    "using StableRNGs;\n",
    "using Flux;\n",
    "using Flux.Losses;\n",
    "using Random;\n",
    "using IntervalSets;\n",
    "using LinearAlgebra;\n",
    "using Distributions;\n",
    "\n",
    "using Plots;\n",
    "using Statistics;\n",
    "\n",
    "using TensorBoardLogger\n",
    "using Logging\n",
    "\n",
    "\n",
    "using JLD;\n",
    "using BSON: @save, @load # save mode"
   ]
  },
  {
   "cell_type": "code",
   "execution_count": 3,
   "id": "587302ad",
   "metadata": {},
   "outputs": [],
   "source": [
    "# todo set office or generated"
   ]
  },
  {
   "cell_type": "code",
   "execution_count": 4,
   "id": "f7e4ee64",
   "metadata": {},
   "outputs": [
    {
     "name": "stderr",
     "output_type": "stream",
     "text": [
      "\u001b[36m\u001b[1m┌ \u001b[22m\u001b[39m\u001b[36m\u001b[1mInfo: \u001b[22m\u001b[39mMeshCat server started. You can open the visualizer by visiting the following URL in your browser:\n",
      "\u001b[36m\u001b[1m└ \u001b[22m\u001b[39mhttp://127.0.0.1:8700\n"
     ]
    }
   ],
   "source": [
    "create_visualization();"
   ]
  },
  {
   "cell_type": "code",
   "execution_count": 5,
   "id": "d435a5d6",
   "metadata": {},
   "outputs": [],
   "source": [
    "# TODO: set as desired\n",
    "R_TOL = 0.5;\n",
    "N_WAYPOINTS = 4; # including startpoint, >= 2\n",
    "\n",
    "OFFICE = true;\n",
    "SLOW_MODE = false;\n",
    "TRAINING = false;\n",
    "EVALUATION = true;\n",
    "VIDEO = true;"
   ]
  },
  {
   "cell_type": "code",
   "execution_count": 6,
   "id": "41e43877",
   "metadata": {},
   "outputs": [
    {
     "data": {
      "text/plain": [
       "10-element Vector{Vector{Float64}}:\n",
       " [11.0, 3.0, 0.4]\n",
       " [7.0, 1.5, 0.4]\n",
       " [5.0, 3.0, 0.4]\n",
       " [-3.0, 2.5, 0.4]\n",
       " [-6.0, 1.5, 0.4]\n",
       " [-8.0, 3.5, 0.4]\n",
       " [-9.0, 4.0, 0.4]\n",
       " [-9.5, 3.0, 0.4]\n",
       " [-8.5, 1.0, 0.4]\n",
       " [-8.0, 0.5, 0.4]"
      ]
     },
     "execution_count": 6,
     "metadata": {},
     "output_type": "execute_result"
    }
   ],
   "source": [
    "if OFFICE\n",
    "    N_WAYPOINTS_office = 9;\n",
    "    WAYPOINTS_office =    \n",
    "                [[11.0, 3.0, 0.4],\n",
    "                [7.0, 1.5, 0.4],\n",
    "                [5.0, 3.0, 0.4],\n",
    "                [-3.0, 2.5, 0.4], \n",
    "                [-6.0, 1.5, 0.4],\n",
    "                [-8.0, 3.5, 0.4],\n",
    "                [-9.0, 4.0, 0.4],\n",
    "                [-9.5, 3.0, 0.4], \n",
    "                [-8.5, 1.0, 0.4], \n",
    "                [-8.0, 0.5, 0.4]];\n",
    "end"
   ]
  },
  {
   "cell_type": "code",
   "execution_count": 7,
   "id": "897ce270",
   "metadata": {},
   "outputs": [
    {
     "data": {
      "text/plain": [
       "20000000"
      ]
     },
     "execution_count": 7,
     "metadata": {},
     "output_type": "execute_result"
    }
   ],
   "source": [
    "# number of steps\n",
    "steps_slow = 20_000_000\n",
    "steps_fast = 20_000_000\n",
    "load_from_slow_step = 40_000_000 #30_000_000 # TODO: choose slow model\n",
    "load_from_fast_step = 60_000_000 #30_000_000 # TODO: choose fast model\n",
    "\n",
    "save_freq = 100_000\n",
    "validate_freq = 100_000\n",
    "\n",
    "steps = 0\n",
    "if SLOW_MODE\n",
    "    steps = steps_slow\n",
    "else\n",
    "    steps = steps_fast\n",
    "end"
   ]
  },
  {
   "cell_type": "code",
   "execution_count": 8,
   "id": "e19cce80",
   "metadata": {},
   "outputs": [],
   "source": [
    "# TensorBoard\n",
    "if TRAINING\n",
    "    logger = TBLogger(\"tensorboard_PPO_office\", tb_increment)\n",
    "end"
   ]
  },
  {
   "cell_type": "code",
   "execution_count": 9,
   "id": "7d9557df",
   "metadata": {},
   "outputs": [
    {
     "data": {
      "text/plain": [
       "1"
      ]
     },
     "execution_count": 9,
     "metadata": {},
     "output_type": "execute_result"
    }
   ],
   "source": [
    "# indicates how many threads Julia was started with. This is important for the multi-threaded environment\n",
    "Threads.nthreads()"
   ]
  },
  {
   "cell_type": "code",
   "execution_count": 10,
   "id": "10d945ff",
   "metadata": {},
   "outputs": [],
   "source": [
    "Δt = 0.025;"
   ]
  },
  {
   "cell_type": "markdown",
   "id": "5411db62",
   "metadata": {},
   "source": [
    "# Create Reinforcement Learning Environment"
   ]
  },
  {
   "cell_type": "code",
   "execution_count": 11,
   "id": "96af6ee0",
   "metadata": {},
   "outputs": [],
   "source": [
    "mutable struct VtolEnv{A,T,ACT,R<:AbstractRNG} <: AbstractEnv # Parametric Constructor for a subtype of AbstractEnv\n",
    "    action_space::A # All possible actions the agent can take\n",
    "    observation_space::Space{Vector{ClosedInterval{T}}} # All possible states that the agent can observe.\n",
    "    state::Vector{T} # Current state\n",
    "    action::ACT # next action the agent wants to apply in the environment.\n",
    "    done::Bool # shows whether a terminal condition has been reached.\n",
    "    t::T # time\n",
    "    rng::R # random number generator\n",
    "\n",
    "    name::String # for different naming of multible environoments\n",
    "    visualization::Bool # activate visualisation (Faster computation without visualisation)\n",
    "    realtime::Bool # visualization in \"real-world\" time (only for watching or filming).\n",
    "    \n",
    "    # Overall state of the environment. This does not correspond to the observation space of the agent but contains all states that describe the environment.\n",
    "    x_W::Vector{T} # Position in World frame\n",
    "    v_B::Vector{T} # Velocity in Body frame\n",
    "    R_W::Matrix{T} # Rotation (matrix) in World frame\n",
    "    ω_B::Vector{T} # Rotation velocity in Body frame\n",
    "    wind_W::Vector{T} # Externel linear velocity acting on the drone\n",
    "    Δt::T # Time step for physics simulation in seconds\n",
    "\n",
    "    ###NEW###\n",
    "    # Current Bonus / Target\n",
    "    num_waypoints::Int # includig start point\n",
    "    waypoints::Vector{Vector{T}}\n",
    "    reached_goal::BitVector\n",
    "    \n",
    "    norm_way::T\n",
    "    progress::T\n",
    "    progress_prev::T\n",
    "    current_point::Int\n",
    "    reached_goal_in_step::Bool\n",
    "    \n",
    "    r_tol::T\n",
    "    projected_position::Vector{T}\n",
    "\n",
    "    slow_mode::Bool\n",
    "    ######\n",
    "end"
   ]
  },
  {
   "cell_type": "code",
   "execution_count": 12,
   "id": "14a6873d",
   "metadata": {},
   "outputs": [],
   "source": [
    "# define a keyword-based constructor for the type declared in the mutable struct typedef. \n",
    "# It could also be done with the macro Base.@kwdef.\n",
    "function VtolEnv(;\n",
    "    rng = Random.GLOBAL_RNG, # Random number generation\n",
    "    name = \"Crazyflie\",\n",
    "    visualization = false,\n",
    "    realtime = false,\n",
    "    kwargs... # let the function take an arbitrary number of keyword arguments\n",
    ")\n",
    "    \n",
    "    T = Float64; # explicit type which is used e.g. in state. Cannot be altered due to the poor matrix defininon.\n",
    "    \n",
    "    # final PWM Values for Crazyflie. The interval definition has no effect in the current implementation.\n",
    "    action_space = Space(\n",
    "        ClosedInterval{T}[\n",
    "            0..1#0..65535, # motor 1\n",
    "            0..1#0..65535, # motor 2\n",
    "            0..1#0..65535, # motor 3\n",
    "            0..1#0..65535, # motor 4\n",
    "            ], \n",
    "    )\n",
    "\n",
    "    \n",
    "    state_space = Space( # Three continuous values in state space.\n",
    "        ClosedInterval{T}[\n",
    "            typemin(T)..typemax(T), # 4  World Vector UP x\n",
    "            typemin(T)..typemax(T), # 5  World Vector UP y\n",
    "            typemin(T)..typemax(T), # 6  World Vector UP z\n",
    "\n",
    "            typemin(T)..typemax(T), # 7  World Vector FRONT x\n",
    "            typemin(T)..typemax(T), # 8  World Vector FRONT y\n",
    "            typemin(T)..typemax(T), # 9  World Vector FRONT z\n",
    "            \n",
    "            typemin(T)..typemax(T), # 7  \n",
    "            typemin(T)..typemax(T), # 8  \n",
    "            typemin(T)..typemax(T), # 9  \n",
    "            \n",
    "            typemin(T)..typemax(T), # 10 Body velocity along x\n",
    "            typemin(T)..typemax(T), # 11 Body velocity along y\n",
    "            typemin(T)..typemax(T), # 12 Body velocity along z\n",
    "            \n",
    "            typemin(T)..typemax(T), # 13 Body rotational velocity around x\n",
    "            typemin(T)..typemax(T), # 14 Body rotational velocity around y\n",
    "            typemin(T)..typemax(T), # 15 Body rotational velocity around z\n",
    "            \n",
    "            typemin(T)..typemax(T), # 16 position error along x (next gate - current position)\n",
    "            typemin(T)..typemax(T), # 17 position error along y (next gate - current position)\n",
    "            typemin(T)..typemax(T), # 18 position error along z (next gate - current position)\n",
    "            \n",
    "            typemin(T)..typemax(T), # 19 way to next next gate x (next next gate - next gate)\n",
    "            typemin(T)..typemax(T), # 20 way to next next gate y (next next gate - next gate)\n",
    "            typemin(T)..typemax(T), # 21 way to next next gate z (next next gate - next gate)\n",
    "            ],  \n",
    "    )\n",
    "    num_waypoints = N_WAYPOINTS\n",
    "    waypoints = generate_straight_trajectory(num_waypoints + 1) # trajectory with num_waypoints waypoints (+ start point), (with dummy points) \n",
    "    ###NEW###\n",
    "    if OFFICE\n",
    "        num_waypoints = N_WAYPOINTS_office # number of waypoints, includig start point #todo\n",
    "        waypoints = WAYPOINTS_office\n",
    "    end\n",
    "    \n",
    "    reached_goal = falses(num_waypoints)\n",
    "    \n",
    "    norm_way = 0.0 \n",
    "    for i in 1:(num_waypoints - 1)\n",
    "        norm_way += norm(waypoints[i] - waypoints[i + 1])\n",
    "    end\n",
    "    ######\n",
    "    \n",
    "    if visualization\n",
    "        create_Crazyflie(name, actuators = true);\n",
    "        visualize_waypoints(waypoints[1:num_waypoints], 0.05)\n",
    "\n",
    "        set_Crazyflie_actuators(name, [0.0; 0.0; 0.0; 0.0]);\n",
    "        set_transform(name, [0.0; 0.0; 0.0] ,one(QuatRotation));\n",
    "        set_arrow(string(name, \"vel\"), color_vec=[0.0; 1.0; 0.0; 1.0]);\n",
    "        transform_arrow(string(name, \"vel\"), [0.0; 0.0; 0.0], [0.0; 0.0; 1.0], max_head_radius=0.05)\n",
    "#         set_arrow(string(name, \"_vel_current\"), color_vec=[1.0; 0.0; 0.0; 1.0]);\n",
    "#         transform_arrow(string(name, \"_vel_current\"), [0.0; 0.0; 0.0], [0.0; 0.0; 1.0], max_head_radius=0.02)                  \n",
    "    end\n",
    "    \n",
    "\n",
    "\n",
    "    environment = VtolEnv(\n",
    "        action_space,\n",
    "        state_space,\n",
    "        zeros(T, length(state_space)), # current state, needs to be extended.\n",
    "        [0.25; 0.25; 0.25; 0.25],#rand(action_space), \n",
    "        false, # episode done ?\n",
    "        0.0, # time\n",
    "        rng, # random number generator  \n",
    "\n",
    "        name,\n",
    "        visualization,\n",
    "        realtime,\n",
    "\n",
    "        zeros(T, 3), # x_W\n",
    "        zeros(T, 3), # v_B\n",
    "        Matrix(one(QuatRotation)), # Float64... so T needs to be Float64\n",
    "        zeros(T, 3), # ω_B\n",
    "        zeros(T, 3), # wind_W\n",
    "        Δt, # Δt\n",
    "\n",
    "        num_waypoints, # includig start point\n",
    "        waypoints, \n",
    "        reached_goal,\n",
    "\n",
    "        norm_way, # norm_way\n",
    "        0.0, # progress\n",
    "        0.0, # progress_prev\n",
    "        2, # current point\n",
    "        false, # reached_goal_in_step\n",
    "        \n",
    "        R_TOL, # r_tol\n",
    "        zeros(T, 3), # projected_position\n",
    "\n",
    "        SLOW_MODE # slow_mode\n",
    "\n",
    "        )\n",
    "    \n",
    "    \n",
    "    RLBase.reset!(environment)\n",
    "    \n",
    "    return environment\n",
    "    \n",
    "end;"
   ]
  },
  {
   "cell_type": "markdown",
   "id": "ec660d5e",
   "metadata": {},
   "source": [
    "Just for explanation:\n",
    "\n",
    "1. A mutable Struct is created. A struct is a constructor and a constructor is a function that creates new objects.\n",
    "2. A outer keyword-based constructor method is added for the type declared in the mutable struct typedef before.\n",
    "\n",
    "So now we have a function with two methods. Julia will decide which method to call by multiple dispatch."
   ]
  },
  {
   "cell_type": "code",
   "execution_count": 13,
   "id": "23dd4047",
   "metadata": {},
   "outputs": [
    {
     "data": {
      "text/html": [
       "# 2 methods for type constructor:<ul><li> VtolEnv(; <i>rng, name, visualization, realtime, kwargs...</i>) in Main at In[12]:3</li> <li> VtolEnv(action_space::<b>A</b>, observation_space::<b>Space{Array{ClosedInterval{T}, 1}}</b>, state::<b>Vector{T}</b>, action::<b>ACT</b>, done::<b>Bool</b>, t::<b>T</b>, rng::<b>R</b>, name::<b>String</b>, visualization::<b>Bool</b>, realtime::<b>Bool</b>, x_W::<b>Vector{T}</b>, v_B::<b>Vector{T}</b>, R_W::<b>Matrix{T}</b>, ω_B::<b>Vector{T}</b>, wind_W::<b>Vector{T}</b>, Δt::<b>T</b>, num_waypoints::<b>Int64</b>, waypoints::<b>Array{Vector{T}, 1}</b>, reached_goal::<b>BitVector</b>, norm_way::<b>T</b>, progress::<b>T</b>, progress_prev::<b>T</b>, current_point::<b>Int64</b>, reached_goal_in_step::<b>Bool</b>, r_tol::<b>T</b>, projected_position::<b>Vector{T}</b>, slow_mode::<b>Bool</b>)<i> where {A, T, ACT, R<:AbstractRNG}</i> in Main at In[11]:2</li> </ul>"
      ],
      "text/plain": [
       "# 2 methods for type constructor:\n",
       "[1] VtolEnv(; rng, name, visualization, realtime, kwargs...) in Main at In[12]:3\n",
       "[2] VtolEnv(action_space::A, observation_space::Space{Array{ClosedInterval{T}, 1}}, state::Vector{T}, action::ACT, done::Bool, t::T, rng::R, name::String, visualization::Bool, realtime::Bool, x_W::Vector{T}, v_B::Vector{T}, R_W::Matrix{T}, ω_B::Vector{T}, wind_W::Vector{T}, Δt::T, num_waypoints::Int64, waypoints::Array{Vector{T}, 1}, reached_goal::BitVector, norm_way::T, progress::T, progress_prev::T, current_point::Int64, reached_goal_in_step::Bool, r_tol::T, projected_position::Vector{T}, slow_mode::Bool) where {A, T, ACT, R<:AbstractRNG} in Main at In[11]:2"
      ]
     },
     "execution_count": 13,
     "metadata": {},
     "output_type": "execute_result"
    }
   ],
   "source": [
    "methods(VtolEnv)"
   ]
  },
  {
   "cell_type": "markdown",
   "id": "806413d1",
   "metadata": {},
   "source": [
    "# Define the RL interface"
   ]
  },
  {
   "cell_type": "code",
   "execution_count": 14,
   "id": "0f822029",
   "metadata": {},
   "outputs": [],
   "source": [
    "Random.seed!(env::VtolEnv, seed) = Random.seed!(env.rng, seed)\n",
    "RLBase.action_space(env::VtolEnv) = env.action_space\n",
    "RLBase.state_space(env::VtolEnv) = env.observation_space\n",
    "RLBase.is_terminated(env::VtolEnv) = env.done\n",
    "RLBase.state(env::VtolEnv) = env.state"
   ]
  },
  {
   "cell_type": "code",
   "execution_count": 15,
   "id": "b5e32e25",
   "metadata": {},
   "outputs": [],
   "source": [
    "function scale_for_slowmode(slow_mode::Bool, v_min::T, v_max::T, d_max::T, x_W::Vector{T}, projected_position::Vector{T}, v_B::Vector{T}) where T\n",
    "    \n",
    "    if slow_mode == false\n",
    "        return 1\n",
    "    else\n",
    "        if norm(v_B) > v_max\n",
    "            s_vmax = 10^(v_max - norm(v_B))\n",
    "        else\n",
    "            s_vmax = 1\n",
    "        end\n",
    "\n",
    "        if norm(v_B) < v_min\n",
    "            s_vmin = 10^(norm(v_B) - v_min)\n",
    "        else\n",
    "            s_vmin = 1\n",
    "        end\n",
    "\n",
    "        if norm(x_W - projected_position) > d_max\n",
    "            s_gd = exp(-norm(x_W - projected_position) + d_max)\n",
    "        else\n",
    "            s_gd = 1\n",
    "        end\n",
    "        s = s_vmax * s_vmin * s_gd\n",
    "    end\n",
    "    return s\n",
    "end;"
   ]
  },
  {
   "cell_type": "code",
   "execution_count": 16,
   "id": "1f7fb89c",
   "metadata": {},
   "outputs": [],
   "source": [
    "function computeReward(env::VtolEnv{A,T}) where {A,T}\n",
    "    \n",
    "    \n",
    "    if env.slow_mode\n",
    "        v_min = 1.0 # min velocity\n",
    "        v_max = 3.0 # max velocity\n",
    "        d_max = 0.5 \n",
    "    else\n",
    "        v_min = 4.0 # min velocity\n",
    "        v_max = 50.0 # max velocity\n",
    "        d_max = 1.0 \n",
    "    end\n",
    "\n",
    "\n",
    "    s = scale_for_slowmode(true, v_min, v_max, d_max, env.x_W, env.projected_position, env.v_B)\n",
    "    \n",
    "    k_p = 5.0 * s #/ env.norm_way # factor for progress (between current position and last position) reward \n",
    "    r_p = (env.progress - env.progress_prev); # reward for progress (between current position and last position)\n",
    "\n",
    "    k_s = s * (2 * v_max * env.Δt) / env.norm_way # factor for reached distance (overall) reward\n",
    "    r_s = env.progress # reward for reached distance (overall)\n",
    "    \n",
    "    k_wp = 50.0 # factor for reached gate reward\n",
    "    r_wp = 0.0 # reward for reached gate\n",
    "    if env.reached_goal_in_step\n",
    "        r_wp = exp(-norm(env.x_W - env.waypoints[env.current_point - 1])/env.r_tol)\n",
    "    end \n",
    "\n",
    "    # factor for too high body rate penalty\n",
    "    if env.slow_mode\n",
    "        k_ω = 0.01\n",
    "    else\n",
    "        k_ω = 0.001\n",
    "    end\n",
    "    #norm_ω = norm(env.ω_B[3]) # penalty for body rate\n",
    "    norm_ω = norm(env.ω_B) # penalty for body rate\n",
    "\n",
    "    if env.x_W[3] < 0\n",
    "        fall = 1\n",
    "    else\n",
    "        fall = 0\n",
    "    end\n",
    "    \n",
    "    if !env.slow_mode\n",
    "        k_s /= env.norm_way\n",
    "        k_p /= env.norm_way\n",
    "    end\n",
    "    \n",
    "    return k_p * r_p + k_s * r_s + k_wp * r_wp - k_ω * norm_ω - fall\n",
    "    \n",
    "end\n",
    "\n",
    "\n",
    "RLBase.reward(env::VtolEnv{A,T}) where {A,T} = computeReward(env)"
   ]
  },
  {
   "cell_type": "code",
   "execution_count": 17,
   "id": "ae45ec04",
   "metadata": {},
   "outputs": [],
   "source": [
    "function RLBase.reset!(env::VtolEnv{A,T}) where {A,T}\n",
    "    \n",
    "    env.waypoints = generate_straight_trajectory(env.num_waypoints + 1); # Dummy points\n",
    "    if OFFICE\n",
    "        env.num_waypoints = N_WAYPOINTS_office\n",
    "        env.waypoints = WAYPOINTS_office\n",
    "    end\n",
    "    \n",
    "    env.x_W = env.waypoints[1];\n",
    "    env.v_B = [0.0; 0.0; 0.0];\n",
    "    env.R_W = Matrix(one(QuatRotation)); # Identity matrix (no rotation)\n",
    "    env.ω_B = [0.0; 0.0; 0.0];\n",
    "    env.wind_W = [0.0; 0.0; 0.0];\n",
    "\n",
    "    env.reached_goal = falses(env.num_waypoints);\n",
    "    env.reached_goal[1] = true; # set first point to reached (start point)\n",
    "    \n",
    "    env.current_point = 2;\n",
    "    env.reached_goal_in_step = false;\n",
    "    #env.r_tol = 0.3;\n",
    "    \n",
    "    if env.visualization\n",
    "        visualize_waypoints(env.waypoints[1:env.num_waypoints], 0.05); \n",
    "    end\n",
    "    \n",
    "    norm_way = 0.0 \n",
    "    for i in 1:(env.num_waypoints - 1)\n",
    "        norm_way += norm(env.waypoints[i] - env.waypoints[i + 1])\n",
    "    end\n",
    "    \n",
    "    env.norm_way = norm_way\n",
    "    env.progress = 0.0;\n",
    "    env.progress_prev = 0.0;\n",
    "        \n",
    "\n",
    "    env.state = [\n",
    "#                  0;#env.x_W[1]; # 1 position along x\n",
    "#                  0;#env.x_W[2]; # 2 position along y\n",
    "#                  0;#env.x_W[3]; # 3 position along z\n",
    "\n",
    "                 env.R_W[1,1];\n",
    "                 env.R_W[2,1];\n",
    "                 env.R_W[3,1];\n",
    "\n",
    "                 env.R_W[1,2]; # 7  World Vector FRONT x \n",
    "                 env.R_W[2,2]; # 8  World Vector FRONT y  \n",
    "                 env.R_W[3,2]; # 9  World Vector FRONT z  \n",
    "        \n",
    "                 env.R_W[1,3]; # 4  World Vector UP x\n",
    "                 env.R_W[2,3]; # 5  World Vector UP y\n",
    "                 env.R_W[3,3]; # 6  World Vector UP z\n",
    "\n",
    "                 env.v_B[1]; #  10 Body velocity along x\n",
    "                 env.v_B[2]; #  11 Body velocity along y\n",
    "                 env.v_B[3]; #  12 Body velocity along z\n",
    "\n",
    "                 env.ω_B[1]; #  13  Body rotational velocity around x\n",
    "                 env.ω_B[2]; #  14  Body rotational velocity around y\n",
    "                 env.ω_B[3]; #  15  Body rotational velocity around z\n",
    "\n",
    "                 env.waypoints[2][1] - env.x_W[1]; # 16 position error to next gate along x\n",
    "                 env.waypoints[2][2] - env.x_W[2]; # 17 position error to next gate along z\n",
    "                 env.waypoints[2][3] - env.x_W[3]; # 18 position error to next gate along z\n",
    "                 \n",
    "                 env.waypoints[3][1] - env.waypoints[2][1]; # 19 way to next next gate x \n",
    "                 env.waypoints[3][2] - env.waypoints[2][2]; # 20 way to next next gate y\n",
    "                 env.waypoints[3][3] - env.waypoints[2][3]]  # 21 way to next next gate z \n",
    "    \n",
    "\n",
    "    env.t = 0.0; # time 0s\n",
    "    env.action = [0.25; 0.25; 0.25; 0.25] # normalized \n",
    "\n",
    "    env.done = false # reset termination\n",
    "\n",
    "    env.projected_position = [0; 0; 0]\n",
    "    \n",
    "    if env.visualization\n",
    "        # Visualize initial state\n",
    "        set_transform(env.name, env.x_W,QuatRotation(env.R_W));\n",
    "        set_Crazyflie_actuators(env.name, [0.0; 0.0; 0.0; 0.0]);\n",
    "        #transform_arrow(string(env.name, \"_vel\"), env.x_W, env.v_W_target, max_head_radius=0.05) \n",
    "        transform_arrow(string(env.name, \"vel\"), env.x_W, [0.0; 0.0; 0.0], max_head_radius=0.05) \n",
    "    end\n",
    "    \n",
    "    nothing # return nothing\n",
    "end;"
   ]
  },
  {
   "cell_type": "code",
   "execution_count": 18,
   "id": "1cf1a7b7",
   "metadata": {},
   "outputs": [],
   "source": [
    "# defines a methods for a callable object.\n",
    "# So when a VtolEnv object is created, it has this method that can be called\n",
    "function (env::VtolEnv)(a)\n",
    "\n",
    "\n",
    "    # call the step on the environoment with the next action \n",
    "    _step!(env, a)\n",
    "        \n",
    "end"
   ]
  },
  {
   "cell_type": "code",
   "execution_count": 19,
   "id": "26a5a0da",
   "metadata": {},
   "outputs": [],
   "source": [
    "env = VtolEnv();"
   ]
  },
  {
   "cell_type": "code",
   "execution_count": 20,
   "id": "ff8f68a7",
   "metadata": {},
   "outputs": [
    {
     "data": {
      "text/html": [
       "# 3 methods for callable object:<ul><li> (env::<b>VtolEnv</b>)(a) in Main at In[18]:3</li> <li> (env::<b>AbstractEnv</b>)(action) in ReinforcementLearningBase</li> <li> (env::<b>AbstractEnv</b>)(action, player) in ReinforcementLearningBase</li> </ul>"
      ],
      "text/plain": [
       "# 3 methods for callable object:\n",
       "[1] (env::VtolEnv)(a) in Main at In[18]:3\n",
       "[2] (env::AbstractEnv)(action) in ReinforcementLearningBase\n",
       "[3] (env::AbstractEnv)(action, player) in ReinforcementLearningBase"
      ]
     },
     "execution_count": 20,
     "metadata": {},
     "output_type": "execute_result"
    }
   ],
   "source": [
    "methods(env) # Just to explain which methods the object has"
   ]
  },
  {
   "cell_type": "code",
   "execution_count": 21,
   "id": "d4d67302",
   "metadata": {},
   "outputs": [
    {
     "data": {
      "text/plain": [
       "scale_actions (generic function with 1 method)"
      ]
     },
     "execution_count": 21,
     "metadata": {},
     "output_type": "execute_result"
    }
   ],
   "source": [
    "function scale_actions(next_action)\n",
    "    return next_action*22000.0\n",
    "end"
   ]
  },
  {
   "cell_type": "code",
   "execution_count": 22,
   "id": "9e7d4727",
   "metadata": {},
   "outputs": [],
   "source": [
    "function _step!(env::VtolEnv, next_action)\n",
    "    \n",
    "\n",
    "    #env.last_action = copy(env.current_action)\n",
    "    #env.current_action[1] = next_action[1]\n",
    "    #env.current_action[2] = next_action[2]\n",
    "    #env.current_action[3] = next_action[3]\n",
    "    #env.current_action[4] = next_action[4]\n",
    "    \n",
    "    \n",
    "    \n",
    "    scaled_actions = scale_actions.(next_action) # between 0 and 1 for neual network\n",
    "    # caluclate wind impact\n",
    "    v_in_wind_B = vtol_add_wind(env.v_B, env.R_W, env.wind_W)\n",
    "    # caluclate aerodynamic forces\n",
    "    torque_B, force_B = crazyflie_model(scaled_actions);\n",
    "    # integrate rigid body dynamics for Δt\n",
    "    env.x_W, env.v_B, env.R_W, env.ω_B, env.t = rigid_body_simple(torque_B, force_B, env.x_W, env.v_B, env.R_W, env.ω_B, env.t, env.Δt, crazyflie_param)\n",
    "\n",
    "    \n",
    "    env.reached_goal_in_step = false;\n",
    "    if norm(env.x_W - env.waypoints[env.current_point]) < env.r_tol\n",
    "        env.reached_goal_in_step = true;\n",
    "        env.reached_goal[env.current_point] = true;\n",
    "        env.current_point += 1;\n",
    "    end\n",
    "        \n",
    "            \n",
    "    # calculate progress on trajectory\n",
    "    env.progress_prev = env.progress\n",
    "    \n",
    "    current_progress = 0.0\n",
    "    line_segment, env.projected_position = calculate_progress(env.waypoints, env.x_W)\n",
    "    \n",
    "    #env.current_point = line_segment + 1\n",
    "\n",
    "    for i in 2:(line_segment)\n",
    "       current_progress +=  norm(env.waypoints[i] - env.waypoints[i - 1])  \n",
    "    end\n",
    "    current_progress += norm(env.waypoints[line_segment] - env.projected_position)\n",
    "    \n",
    "    env.progress = current_progress\n",
    "    \n",
    "\n",
    "    if env.realtime\n",
    "        sleep(env.Δt) # TODO: just a dirty hack. this is of course slower than real time.\n",
    "    end\n",
    "\n",
    "\n",
    "\n",
    "    if env.visualization\n",
    "        set_transform(env.name, env.x_W,QuatRotation(env.R_W));\n",
    "        set_Crazyflie_actuators(env.name, next_action[1:4])\n",
    "        #transform_arrow(string(env.name, \"_vel\"), env.x_W, env.v_W_target, max_head_radius=0.05)               \n",
    "        transform_arrow(string(env.name, \"vel\"), env.x_W, env.R_W*env.v_B, max_head_radius=0.05) \n",
    "    \n",
    "        for i in eachindex(env.reached_goal)\n",
    "            if env.reached_goal[i]\n",
    "                create_sphere(\"fixgoal_$i\", 0.05, color=RGBA{Float32}(1.0, 0.0, 0.0, 1.0));\n",
    "                set_transform(\"fixgoal_$i\", env.waypoints[i]);\n",
    "            end\n",
    "        end\n",
    "\n",
    "    end\n",
    "    \n",
    "    \n",
    "    #v_B_target = transpose(env.R_W)*env.v_W_target\n",
    "    \n",
    "    \n",
    "    # State space\n",
    "    env.state = [\n",
    "#                  env.x_W[1]; # 1 position along x\n",
    "#                  env.x_W[2]; # 2 position along y\n",
    "#                  env.x_W[3]; # 3 position along z\n",
    "\n",
    "                 env.R_W[1,1];\n",
    "                 env.R_W[2,1];\n",
    "                 env.R_W[3,1];\n",
    "\n",
    "                 env.R_W[1,2]; # 7  World Vector FRONT x \n",
    "                 env.R_W[2,2]; # 8  World Vector FRONT y  \n",
    "                 env.R_W[3,2]; # 9  World Vector FRONT z  \n",
    "        \n",
    "                 env.R_W[1,3]; # 4  World Vector UP x\n",
    "                 env.R_W[2,3]; # 5  World Vector UP y\n",
    "                 env.R_W[3,3]; # 6  World Vector UP z\n",
    "\n",
    "                 env.v_B[1]; #  10 Body velocity along x\n",
    "                 env.v_B[2]; #  11 Body velocity along y\n",
    "                 env.v_B[3]; #  12 Body velocity along z\n",
    "\n",
    "                 env.ω_B[1]; #  13  Body rotational velocity around x\n",
    "                 env.ω_B[2]; #  14  Body rotational velocity around y\n",
    "                 env.ω_B[3]; #  15  Body rotational velocity around z\n",
    "\n",
    "                 env.waypoints[env.current_point][1] - env.x_W[1]; # 16 position error to next gate along x\n",
    "                 env.waypoints[env.current_point][2] - env.x_W[2]; # 17 position error to next gate along z\n",
    "                 env.waypoints[env.current_point][3] - env.x_W[3]; # 18 position error to next gate along z\n",
    "                 \n",
    "                 0; # 19 way to next next gate x \n",
    "                 0; # 20 way to next next gate y\n",
    "                 0] \n",
    "    \n",
    "    if env.current_point <= env.num_waypoints\n",
    "        env.state[19] = env.waypoints[env.current_point + 1][1] - env.waypoints[env.current_point][1]; # 16 way to next next gate x (next next gate - next gate), dummy integriert\n",
    "        env.state[20] = env.waypoints[env.current_point + 1][2] - env.waypoints[env.current_point][2]; # 17 way to next next gate y (next next gate - next gate), dummy integriert\n",
    "        env.state[21] = env.waypoints[env.current_point + 1][3] - env.waypoints[env.current_point][3]; # 18 way to next next gate z (next next gate - next gate), dummy integriert\n",
    "    end\n",
    "\n",
    "    \n",
    "    \n",
    "    # Termination criteria\n",
    "    env.done = #true\n",
    "        # After time... How fast is drone+Range of desired point\n",
    "        # After reaching position (circle of r_tol)\n",
    "        norm(env.ω_B) > 100.0 || \n",
    "        norm(env.v_B) > 100.0 || # stop if body is too fast_point \n",
    "        #env.x_W[3] < -1.0 || # stop if body is below -5m\n",
    "        env.t > env.num_waypoints * 3.0 ||# stop after 3s per point \n",
    "        norm(env.x_W - env.projected_position) > 1.0 || # too far off the path \n",
    "        env.reached_goal == trues(env.num_waypoints)\n",
    "\n",
    "    nothing\n",
    "end;"
   ]
  },
  {
   "cell_type": "code",
   "execution_count": 23,
   "id": "6e1cd988",
   "metadata": {},
   "outputs": [
    {
     "name": "stdout",
     "output_type": "stream",
     "text": [
      "\u001b[0m\u001b[1mTest Summary:              | \u001b[22m\u001b[32m\u001b[1mPass  \u001b[22m\u001b[39m\u001b[36m\u001b[1mTotal  \u001b[22m\u001b[39m\u001b[0m\u001b[1mTime\u001b[22m\n",
      "random policy with VtolEnv | \u001b[32m2000  \u001b[39m\u001b[36m 2000  \u001b[39m\u001b[0m1.9s\n"
     ]
    },
    {
     "data": {
      "text/plain": [
       "Test.DefaultTestSet(\"random policy with VtolEnv\", Any[], 2000, false, false, true, 1.677615175883292e9, 1.677615177774034e9)"
      ]
     },
     "execution_count": 23,
     "metadata": {},
     "output_type": "execute_result"
    }
   ],
   "source": [
    "RLBase.test_runnable!(env)"
   ]
  },
  {
   "cell_type": "markdown",
   "id": "c223a31f",
   "metadata": {},
   "source": [
    "Show an overview of the environment."
   ]
  },
  {
   "cell_type": "markdown",
   "id": "ffe6de74",
   "metadata": {},
   "source": [
    "# Setup of a reinforcement learning experiment."
   ]
  },
  {
   "cell_type": "code",
   "execution_count": 24,
   "id": "e5683fe8",
   "metadata": {},
   "outputs": [
    {
     "data": {
      "text/markdown": [
       "MultiThreadEnv(8 x VtolEnv)"
      ],
      "text/plain": [
       "MultiThreadEnv(8 x VtolEnv)"
      ]
     },
     "execution_count": 24,
     "metadata": {},
     "output_type": "execute_result"
    }
   ],
   "source": [
    "seed = 123    \n",
    "rng = StableRNG(seed)\n",
    "N_ENV = 8\n",
    "UPDATE_FREQ = 1024\n",
    "    \n",
    "    \n",
    "    # define multiple environments for parallel training\n",
    "    env = MultiThreadEnv([\n",
    "        # use different names for the visualization\n",
    "        VtolEnv(; rng = StableRNG(hash(seed+i)), name = \"cf_PPO$i\") for i in 1:N_ENV\n",
    "    ])\n",
    "\n"
   ]
  },
  {
   "cell_type": "code",
   "execution_count": 25,
   "id": "d1f128b2",
   "metadata": {},
   "outputs": [],
   "source": [
    "# Define the function approximator\n",
    "    ns, na = length(state(env[1])), length(action_space(env[1]))\n",
    "    approximator = ActorCritic(\n",
    "                actor = GaussianNetwork(\n",
    "                    pre = Chain(\n",
    "                    Dense(ns, 256, relu; initW = glorot_uniform(rng)),\n",
    "                    Dense(256, 128, relu; initW = glorot_uniform(rng)),\n",
    "                    ),\n",
    "                    μ = Chain(Dense(128, na; initW = glorot_uniform(rng))),\n",
    "                    logσ = Chain(Dense(128, na; initW = glorot_uniform(rng))),\n",
    "                ),\n",
    "                critic = Chain(\n",
    "                    Dense(ns, 256, relu; initW = glorot_uniform(rng)),\n",
    "                    Dense(256, 128, relu; initW = glorot_uniform(rng)),\n",
    "                    \n",
    "                    Dense(128, 1; initW = glorot_uniform(rng)),\n",
    "                ),\n",
    "                optimizer = ADAM(1e-4),\n",
    "            );"
   ]
  },
  {
   "cell_type": "code",
   "execution_count": 26,
   "id": "7ea4c37c",
   "metadata": {},
   "outputs": [],
   "source": [
    "    agent = Agent( # A wrapper of an AbstractPolicy\n",
    "         \n",
    "\n",
    "        # AbstractPolicy: the policy to use\n",
    "        policy = PPOPolicy(;\n",
    "                    approximator = approximator |> cpu,\n",
    "                    update_freq=UPDATE_FREQ,\n",
    "                    dist = Normal,\n",
    "                    # For parameters visit the docu: https://juliareinforcementlearning.org/docs/rlzoo/#ReinforcementLearningZoo.PPOPolicy\n",
    "                    ),\n",
    "        \n",
    "        # AbstractTrajectory: used to store transitions between an agent and an environment source\n",
    "        trajectory = PPOTrajectory(;\n",
    "            capacity = UPDATE_FREQ,\n",
    "            state = Matrix{Float64} => (ns, N_ENV),\n",
    "            action = Matrix{Float64} => (na, N_ENV),\n",
    "            action_log_prob = Vector{Float64} => (N_ENV,),\n",
    "            reward = Vector{Float64} => (N_ENV,),\n",
    "            terminal = Vector{Bool} => (N_ENV,),\n",
    "        ),\n",
    "    );\n"
   ]
  },
  {
   "cell_type": "code",
   "execution_count": 27,
   "id": "7f158a93",
   "metadata": {},
   "outputs": [],
   "source": [
    "function saveModel(t, agent, env)\n",
    "    model = cpu(agent.policy.approximator)\n",
    "    if SLOW_MODE\n",
    "        f = joinpath(\"./office_test/RL_models_slow/\", \"cf_ppo_$(t).bson\") #todo\n",
    "    else\n",
    "        f = joinpath(\"./office_test/RL_models_fast/\", \"cf_ppo_$(t).bson\") \n",
    "    end\n",
    "    @save f model\n",
    "    println(\"parameters at step $t saved to $f\")\n",
    "end;\n"
   ]
  },
  {
   "cell_type": "code",
   "execution_count": 28,
   "id": "301a9bd8",
   "metadata": {},
   "outputs": [],
   "source": [
    "function loadModel()\n",
    "    if SLOW_MODE\n",
    "        f = joinpath(\"./RL_models_slow/\", \"cf_ppo_$(load_from_slow_step).bson\")\n",
    "#         f = joinpath(\"./office_test/RL_models_slow/\", \"cf_ppo_1000000.bson\") #todo\n",
    "    else\n",
    "        f = joinpath(\"./RL_models_fast/\", \"cf_ppo_$(load_from_fast_step).bson\") # todo\n",
    "    end\n",
    "    @load f model\n",
    "    return model\n",
    "end;"
   ]
  },
  {
   "cell_type": "code",
   "execution_count": 29,
   "id": "751137af",
   "metadata": {},
   "outputs": [],
   "source": [
    "function validate_policy(t, agent, env)\n",
    "    # for validation extract the policy from the agend\n",
    "    run(agent.policy, test_env, StopAfterEpisode(1), \n",
    "        ComposedHook(\n",
    "        episode_test_step_hook, \n",
    "        episode_test_reward_hook\n",
    "    ),\n",
    "        )\n",
    "    # the result of the hook\n",
    "    reward = round((episode_test_reward_hook.rewards[end]),digits = 3)\n",
    "    length = episode_test_step_hook.steps[end-1]\n",
    "    \n",
    "    println(\"step: \", t, \" reward : \",reward, \" length: \", length)\n",
    "\n",
    "    with_logger(logger) do\n",
    "        @info \"evaluating\" avg_length = length  avg_reward = reward  log_step_increment = 0\n",
    "    end\n",
    "end;\n",
    "\n",
    "episode_test_reward_hook = TotalRewardPerEpisode( is_display_on_exit=false)\n",
    "episode_test_step_hook = StepsPerEpisode()\n",
    "# create a env only for reward test\n",
    "\n",
    "test_env = VtolEnv(;name = \"test_cf\", visualization = true, realtime = true);\n",
    "#test_env = VtolEnv(;name = \"test_cf\", visualization = false, realtime = false);"
   ]
  },
  {
   "cell_type": "code",
   "execution_count": 30,
   "id": "0e8fad8f",
   "metadata": {},
   "outputs": [],
   "source": [
    "# Define hook which is called during the training\n",
    "total_batch_reward_per_episode = TotalBatchRewardPerEpisode(N_ENV, is_display_on_exit = false)\n",
    "hook = ComposedHook(\n",
    "    total_batch_reward_per_episode,\n",
    "    DoEveryNStep(saveModel, n=save_freq),\n",
    "    DoEveryNStep(validate_policy, n=validate_freq),\n",
    "    #=\n",
    "    DoEveryNStep() do t, agent, env\n",
    "        p = agent.policy\n",
    "        with_logger(logger) do\n",
    "            @info \"training\" loss = mean(p.loss)  actor_loss = mean(p.actor_loss)  critic_loss = mean(p.critic_loss)\n",
    "        end\n",
    "    end,\n",
    "    =#\n",
    "    DoEveryNStep() do t, agent, env\n",
    "        with_logger(logger) do\n",
    "            rewards = [\n",
    "                total_batch_reward_per_episode.rewards[i][end] for i in 1:length(env)  if is_terminated(env[i])\n",
    "                    ]\n",
    "            if length(rewards) > 0\n",
    "                @info \"training\" reward = mean(rewards)\n",
    "            end\n",
    "        end\n",
    "    end,\n",
    "    #=\n",
    "    DoEveryNStep() do t, agent, env\n",
    "        with_logger(logger) do\n",
    "            @info \"training\" action_thrust_1 = env[1].action[1]  action_thrust_2 = env[1].action[2] action_thrust_3 = env[1].action[3] action_thrust_4 = env[1].action[4]\n",
    "        end\n",
    "    end,\n",
    "    =#\n",
    ");"
   ]
  },
  {
   "cell_type": "code",
   "execution_count": 31,
   "id": "174f8124",
   "metadata": {},
   "outputs": [],
   "source": [
    "agent.policy.approximator = loadModel(); "
   ]
  },
  {
   "cell_type": "code",
   "execution_count": 32,
   "id": "45dfdb68",
   "metadata": {
    "scrolled": false
   },
   "outputs": [],
   "source": [
    "if TRAINING\n",
    "    ReinforcementLearning.run(\n",
    "        agent,\n",
    "        env,\n",
    "        StopAfterStep(steps),\n",
    "        hook\n",
    "    )\n",
    "end"
   ]
  },
  {
   "cell_type": "code",
   "execution_count": 33,
   "id": "21a5d7b6",
   "metadata": {},
   "outputs": [],
   "source": [
    "if TRAINING\n",
    "    plot(episode_test_reward_hook.rewards)\n",
    "end"
   ]
  },
  {
   "cell_type": "code",
   "execution_count": 34,
   "id": "41c1dc36",
   "metadata": {},
   "outputs": [],
   "source": [
    "if TRAINING\n",
    "    plot(episode_test_step_hook.steps[1:2:end])\n",
    "end"
   ]
  },
  {
   "cell_type": "code",
   "execution_count": 35,
   "id": "0be19c7e",
   "metadata": {},
   "outputs": [],
   "source": [
    "close_visualization(); # closes the MeshCat visualization"
   ]
  },
  {
   "cell_type": "markdown",
   "id": "d1be7fc6",
   "metadata": {},
   "source": [
    "# Evaluation"
   ]
  },
  {
   "cell_type": "code",
   "execution_count": 36,
   "id": "8a39200a",
   "metadata": {},
   "outputs": [],
   "source": [
    "test_env = VtolEnv(;name = \"test_cf\");"
   ]
  },
  {
   "cell_type": "code",
   "execution_count": 37,
   "id": "345f65ce",
   "metadata": {},
   "outputs": [],
   "source": [
    "function loadModel(path, num)\n",
    "    f = joinpath(path, \"cf_ppo_$num.bson\") \n",
    "    @load f model\n",
    "    return model\n",
    "end;"
   ]
  },
  {
   "cell_type": "code",
   "execution_count": 38,
   "id": "ed379703",
   "metadata": {},
   "outputs": [],
   "source": [
    "function validate(num_models, num_test)\n",
    "    episode_test_reward_hook = TotalRewardPerEpisode(;is_display_on_exit=false)\n",
    "    # create a env only for reward test\n",
    "    for i in 1:num_models\n",
    "          \n",
    "        sum_rewards_model = 0;\n",
    "        sum_successes_model = 0;\n",
    "        sum_avg_vel_model = 0;\n",
    "        sum_compl_time = 0;\n",
    "        n_success = 0;\n",
    "        \n",
    "        for exp in 1:num_test\n",
    "            if SLOW_MODE\n",
    "#                 path = \"./RL_models_slow/\" #todo\n",
    "                path = \"./office_test/RL_models_slow/\" #todo\n",
    "            else\n",
    "#                 path = \"./RL_models_fast/\" #todo\n",
    "                path = \"./office_test/RL_models_fast/\" #todo\n",
    "            end\n",
    "            agent.policy.approximator = loadModel(path, i * save_freq); \n",
    "            RLBase.reset!(test_env)\n",
    "            \n",
    "            run(agent.policy, test_env, StopAfterEpisode(1), episode_test_reward_hook)\n",
    "            # the result of the hook\n",
    "            sum_rewards_model += episode_test_reward_hook.rewards[end];\n",
    "            \n",
    "            if test_env.reached_goal == trues(test_env.num_waypoints)\n",
    "                n_success += 1\n",
    "                sum_avg_vel_model += test_env.norm_way / test_env.t\n",
    "                sum_compl_time += test_env.t\n",
    "                if best_compl_time[i] > test_env.t\n",
    "                    best_compl_time[i] = test_env.t\n",
    "                end\n",
    "            end\n",
    "        end\n",
    "        \n",
    "        rewards[i] = sum_rewards_model / num_test;\n",
    "        success_rate[i] = n_success / num_test;\n",
    "        if n_success > 0\n",
    "            avg_velocity[i] = sum_avg_vel_model / n_success;\n",
    "            avg_compl_time[i] = sum_compl_time / n_success;\n",
    "        else\n",
    "            avg_velocity[i] = NaN\n",
    "            avg_compl_time[i] = NaN\n",
    "        end\n",
    "        percent = percent = round(i * 100 / num_models, digits=2)\n",
    "        print(\"progress: $(percent)%   \\r\")\n",
    "        flush(stdout)\n",
    "        \n",
    "    end\n",
    "    \n",
    "    \n",
    "end;"
   ]
  },
  {
   "cell_type": "code",
   "execution_count": 39,
   "id": "21a98dd6",
   "metadata": {
    "scrolled": true
   },
   "outputs": [
    {
     "name": "stdout",
     "output_type": "stream",
     "text": [
      "progress: 100.0%   \r"
     ]
    }
   ],
   "source": [
    "if EVALUATION\n",
    "    \n",
    "    NUM_MODELS = Int(steps / save_freq);  \n",
    "    NUM_TEST = 200; # TODO: change as desired \n",
    "\n",
    "    rewards = zeros(NUM_MODELS, 1);\n",
    "    success_rate = zeros(NUM_MODELS, 1);\n",
    "    avg_velocity = zeros(NUM_MODELS, 1);\n",
    "    avg_compl_time = zeros(NUM_MODELS, 1);\n",
    "    best_compl_time = zeros(NUM_MODELS, 1);\n",
    "    best_compl_time[1:end] .= 500\n",
    "    \n",
    "    validate(NUM_MODELS, NUM_TEST);\n",
    "    \n",
    "    for i in 1:NUM_MODELS\n",
    "        if best_compl_time[i] == 500\n",
    "            best_compl_time[i] = NaN\n",
    "        end\n",
    "    end\n",
    "end;"
   ]
  },
  {
   "cell_type": "code",
   "execution_count": 40,
   "id": "ab909865",
   "metadata": {},
   "outputs": [],
   "source": [
    "if EVALUATION\n",
    "    results_path = pwd() * \"/office_test/plots/\";\n",
    "    if SLOW_MODE\n",
    "        results_path = results_path * \"slow/\"\n",
    "    else\n",
    "        results_path = results_path * \"fast/\"\n",
    "    end\n",
    "    \n",
    "    save(results_path * \"iterations.jld\", \"data\", [1:NUM_MODELS] * save_freq) \n",
    "    \n",
    "    save(results_path * \"avg_comp_time.jld\", \"data\", avg_compl_time)\n",
    "    \n",
    "    save(results_path * \"avg_velocity.jld\", \"data\", avg_velocity)\n",
    "    \n",
    "    save(results_path * \"reward.jld\", \"data\", rewards) \n",
    "        \n",
    "    save(results_path * \"success_rate.jld\", \"data\", success_rate)\n",
    "    \n",
    "    save(results_path * \"best_compl_time.jld\", \"data\", best_compl_time)\n",
    "end;"
   ]
  },
  {
   "cell_type": "code",
   "execution_count": 41,
   "id": "0ea2a032",
   "metadata": {},
   "outputs": [],
   "source": [
    "results_path = pwd() * \"/office_test/plots/\";\n",
    "if SLOW_MODE\n",
    "    results_path = results_path * \"slow/\"\n",
    "else\n",
    "    results_path = results_path * \"fast/\"\n",
    "end\n",
    "\n",
    "iterations = load(results_path * \"iterations.jld\")[\"data\"];\n",
    "avg_compl_time = load(results_path * \"avg_comp_time.jld\")[\"data\"];\n",
    "avg_velocity = load(results_path * \"avg_velocity.jld\")[\"data\"];\n",
    "rewards = load(results_path * \"reward.jld\")[\"data\"];\n",
    "success_rate = load(results_path * \"success_rate.jld\")[\"data\"];\n",
    "best_compl_time = load(results_path * \"best_compl_time.jld\")[\"data\"];"
   ]
  },
  {
   "cell_type": "code",
   "execution_count": 42,
   "id": "26466af1",
   "metadata": {},
   "outputs": [
    {
     "data": {
      "text/plain": [
       "\"/home/larissa/Documents/Projects/ADLR/ADLR_project/src/RL_3D_quadcopter_PPO/office_test/plots/fast/\""
      ]
     },
     "execution_count": 42,
     "metadata": {},
     "output_type": "execute_result"
    }
   ],
   "source": [
    "fig_path = pwd() * \"/office_test/plots/\";\n",
    "if SLOW_MODE\n",
    "    fig_path = fig_path * \"slow/\"\n",
    "else\n",
    "    fig_path = fig_path * \"fast/\"\n",
    "end"
   ]
  },
  {
   "cell_type": "code",
   "execution_count": 43,
   "id": "c4cc649e",
   "metadata": {},
   "outputs": [
    {
     "data": {
      "image/svg+xml": [
       "<?xml version=\"1.0\" encoding=\"utf-8\"?>\n",
       "<svg xmlns=\"http://www.w3.org/2000/svg\" xmlns:xlink=\"http://www.w3.org/1999/xlink\" width=\"600\" height=\"400\" viewBox=\"0 0 2400 1600\">\n",
       "<defs>\n",
       "  <clipPath id=\"clip390\">\n",
       "    <rect x=\"0\" y=\"0\" width=\"2400\" height=\"1600\"/>\n",
       "  </clipPath>\n",
       "</defs>\n",
       "<path clip-path=\"url(#clip390)\" d=\"\n",
       "M0 1600 L2400 1600 L2400 0 L0 0  Z\n",
       "  \" fill=\"#ffffff\" fill-rule=\"evenodd\" fill-opacity=\"1\"/>\n",
       "<defs>\n",
       "  <clipPath id=\"clip391\">\n",
       "    <rect x=\"480\" y=\"0\" width=\"1681\" height=\"1600\"/>\n",
       "  </clipPath>\n",
       "</defs>\n",
       "<path clip-path=\"url(#clip390)\" d=\"\n",
       "M232.389 1410.9 L2352.76 1410.9 L2352.76 47.2441 L232.389 47.2441  Z\n",
       "  \" fill=\"#ffffff\" fill-rule=\"evenodd\" fill-opacity=\"1\"/>\n",
       "<defs>\n",
       "  <clipPath id=\"clip392\">\n",
       "    <rect x=\"232\" y=\"47\" width=\"2121\" height=\"1365\"/>\n",
       "  </clipPath>\n",
       "</defs>\n",
       "<polyline clip-path=\"url(#clip392)\" style=\"stroke:#000000; stroke-linecap:round; stroke-linejoin:round; stroke-width:2; stroke-opacity:0.1; fill:none\" points=\"\n",
       "  282.348,1410.9 282.348,47.2441 \n",
       "  \"/>\n",
       "<polyline clip-path=\"url(#clip392)\" style=\"stroke:#000000; stroke-linecap:round; stroke-linejoin:round; stroke-width:2; stroke-opacity:0.1; fill:none\" points=\"\n",
       "  784.947,1410.9 784.947,47.2441 \n",
       "  \"/>\n",
       "<polyline clip-path=\"url(#clip392)\" style=\"stroke:#000000; stroke-linecap:round; stroke-linejoin:round; stroke-width:2; stroke-opacity:0.1; fill:none\" points=\"\n",
       "  1287.55,1410.9 1287.55,47.2441 \n",
       "  \"/>\n",
       "<polyline clip-path=\"url(#clip392)\" style=\"stroke:#000000; stroke-linecap:round; stroke-linejoin:round; stroke-width:2; stroke-opacity:0.1; fill:none\" points=\"\n",
       "  1790.15,1410.9 1790.15,47.2441 \n",
       "  \"/>\n",
       "<polyline clip-path=\"url(#clip392)\" style=\"stroke:#000000; stroke-linecap:round; stroke-linejoin:round; stroke-width:2; stroke-opacity:0.1; fill:none\" points=\"\n",
       "  2292.75,1410.9 2292.75,47.2441 \n",
       "  \"/>\n",
       "<polyline clip-path=\"url(#clip390)\" style=\"stroke:#000000; stroke-linecap:round; stroke-linejoin:round; stroke-width:4; stroke-opacity:1; fill:none\" points=\"\n",
       "  232.389,1410.9 2352.76,1410.9 \n",
       "  \"/>\n",
       "<polyline clip-path=\"url(#clip390)\" style=\"stroke:#000000; stroke-linecap:round; stroke-linejoin:round; stroke-width:4; stroke-opacity:1; fill:none\" points=\"\n",
       "  282.348,1410.9 282.348,1392 \n",
       "  \"/>\n",
       "<polyline clip-path=\"url(#clip390)\" style=\"stroke:#000000; stroke-linecap:round; stroke-linejoin:round; stroke-width:4; stroke-opacity:1; fill:none\" points=\"\n",
       "  784.947,1410.9 784.947,1392 \n",
       "  \"/>\n",
       "<polyline clip-path=\"url(#clip390)\" style=\"stroke:#000000; stroke-linecap:round; stroke-linejoin:round; stroke-width:4; stroke-opacity:1; fill:none\" points=\"\n",
       "  1287.55,1410.9 1287.55,1392 \n",
       "  \"/>\n",
       "<polyline clip-path=\"url(#clip390)\" style=\"stroke:#000000; stroke-linecap:round; stroke-linejoin:round; stroke-width:4; stroke-opacity:1; fill:none\" points=\"\n",
       "  1790.15,1410.9 1790.15,1392 \n",
       "  \"/>\n",
       "<polyline clip-path=\"url(#clip390)\" style=\"stroke:#000000; stroke-linecap:round; stroke-linejoin:round; stroke-width:4; stroke-opacity:1; fill:none\" points=\"\n",
       "  2292.75,1410.9 2292.75,1392 \n",
       "  \"/>\n",
       "<path clip-path=\"url(#clip390)\" d=\"M282.348 1441.82 Q278.737 1441.82 276.908 1445.38 Q275.102 1448.92 275.102 1456.05 Q275.102 1463.16 276.908 1466.72 Q278.737 1470.26 282.348 1470.26 Q285.982 1470.26 287.788 1466.72 Q289.616 1463.16 289.616 1456.05 Q289.616 1448.92 287.788 1445.38 Q285.982 1441.82 282.348 1441.82 M282.348 1438.11 Q288.158 1438.11 291.213 1442.72 Q294.292 1447.3 294.292 1456.05 Q294.292 1464.78 291.213 1469.38 Q288.158 1473.97 282.348 1473.97 Q276.538 1473.97 273.459 1469.38 Q270.403 1464.78 270.403 1456.05 Q270.403 1447.3 273.459 1442.72 Q276.538 1438.11 282.348 1438.11 Z\" fill=\"#000000\" fill-rule=\"evenodd\" fill-opacity=\"1\" /><path clip-path=\"url(#clip390)\" d=\"M677.312 1454.4 L695.669 1454.4 L695.669 1458.33 L681.595 1458.33 L681.595 1466.8 Q682.613 1466.46 683.632 1466.29 Q684.65 1466.11 685.669 1466.11 Q691.456 1466.11 694.836 1469.28 Q698.215 1472.45 698.215 1477.87 Q698.215 1483.45 694.743 1486.55 Q691.271 1489.63 684.951 1489.63 Q682.775 1489.63 680.507 1489.26 Q678.262 1488.89 675.854 1488.15 L675.854 1483.45 Q677.937 1484.58 680.16 1485.14 Q682.382 1485.69 684.859 1485.69 Q688.863 1485.69 691.201 1483.59 Q693.539 1481.48 693.539 1477.87 Q693.539 1474.26 691.201 1472.15 Q688.863 1470.04 684.859 1470.04 Q682.984 1470.04 681.109 1470.46 Q679.257 1470.88 677.312 1471.76 L677.312 1454.4 Z\" fill=\"#000000\" fill-rule=\"evenodd\" fill-opacity=\"1\" /><path clip-path=\"url(#clip390)\" d=\"M707.428 1483.08 L712.312 1483.08 L712.312 1488.96 L707.428 1488.96 L707.428 1483.08 Z\" fill=\"#000000\" fill-rule=\"evenodd\" fill-opacity=\"1\" /><path clip-path=\"url(#clip390)\" d=\"M732.497 1457.48 Q728.886 1457.48 727.058 1461.04 Q725.252 1464.58 725.252 1471.71 Q725.252 1478.82 727.058 1482.38 Q728.886 1485.92 732.497 1485.92 Q736.132 1485.92 737.937 1482.38 Q739.766 1478.82 739.766 1471.71 Q739.766 1464.58 737.937 1461.04 Q736.132 1457.48 732.497 1457.48 M732.497 1453.77 Q738.308 1453.77 741.363 1458.38 Q744.442 1462.96 744.442 1471.71 Q744.442 1480.44 741.363 1485.04 Q738.308 1489.63 732.497 1489.63 Q726.687 1489.63 723.609 1485.04 Q720.553 1480.44 720.553 1471.71 Q720.553 1462.96 723.609 1458.38 Q726.687 1453.77 732.497 1453.77 Z\" fill=\"#000000\" fill-rule=\"evenodd\" fill-opacity=\"1\" /><path clip-path=\"url(#clip390)\" d=\"M762.659 1457.48 Q759.048 1457.48 757.219 1461.04 Q755.414 1464.58 755.414 1471.71 Q755.414 1478.82 757.219 1482.38 Q759.048 1485.92 762.659 1485.92 Q766.293 1485.92 768.099 1482.38 Q769.928 1478.82 769.928 1471.71 Q769.928 1464.58 768.099 1461.04 Q766.293 1457.48 762.659 1457.48 M762.659 1453.77 Q768.469 1453.77 771.525 1458.38 Q774.604 1462.96 774.604 1471.71 Q774.604 1480.44 771.525 1485.04 Q768.469 1489.63 762.659 1489.63 Q756.849 1489.63 753.77 1485.04 Q750.715 1480.44 750.715 1471.71 Q750.715 1462.96 753.77 1458.38 Q756.849 1453.77 762.659 1453.77 Z\" fill=\"#000000\" fill-rule=\"evenodd\" fill-opacity=\"1\" /><path clip-path=\"url(#clip390)\" d=\"M810.992 1463.49 L800.414 1474.12 L810.992 1484.7 L808.238 1487.5 L797.613 1476.87 L786.988 1487.5 L784.256 1484.7 L794.812 1474.12 L784.256 1463.49 L786.988 1460.69 L797.613 1471.32 L808.238 1460.69 L810.992 1463.49 Z\" fill=\"#000000\" fill-rule=\"evenodd\" fill-opacity=\"1\" /><path clip-path=\"url(#clip390)\" d=\"M823.353 1485.02 L830.992 1485.02 L830.992 1458.66 L822.682 1460.32 L822.682 1456.06 L830.946 1454.4 L835.622 1454.4 L835.622 1485.02 L843.261 1485.02 L843.261 1488.96 L823.353 1488.96 L823.353 1485.02 Z\" fill=\"#000000\" fill-rule=\"evenodd\" fill-opacity=\"1\" /><path clip-path=\"url(#clip390)\" d=\"M862.705 1457.48 Q859.094 1457.48 857.265 1461.04 Q855.46 1464.58 855.46 1471.71 Q855.46 1478.82 857.265 1482.38 Q859.094 1485.92 862.705 1485.92 Q866.339 1485.92 868.145 1482.38 Q869.973 1478.82 869.973 1471.71 Q869.973 1464.58 868.145 1461.04 Q866.339 1457.48 862.705 1457.48 M862.705 1453.77 Q868.515 1453.77 871.571 1458.38 Q874.649 1462.96 874.649 1471.71 Q874.649 1480.44 871.571 1485.04 Q868.515 1489.63 862.705 1489.63 Q856.895 1489.63 853.816 1485.04 Q850.761 1480.44 850.761 1471.71 Q850.761 1462.96 853.816 1458.38 Q856.895 1453.77 862.705 1453.77 Z\" fill=\"#000000\" fill-rule=\"evenodd\" fill-opacity=\"1\" /><path clip-path=\"url(#clip390)\" d=\"M884.674 1445.99 Q882.116 1445.99 880.611 1447.74 Q879.126 1449.49 879.126 1452.54 Q879.126 1455.57 880.611 1457.33 Q882.116 1459.08 884.674 1459.08 Q887.232 1459.08 888.718 1457.33 Q890.222 1455.57 890.222 1452.54 Q890.222 1449.49 888.718 1447.74 Q887.232 1445.99 884.674 1445.99 M892.216 1434.09 L892.216 1437.55 Q890.786 1436.87 889.319 1436.51 Q887.871 1436.16 886.442 1436.16 Q882.68 1436.16 880.687 1438.69 Q878.712 1441.23 878.43 1446.37 Q879.539 1444.73 881.213 1443.87 Q882.887 1442.98 884.9 1442.98 Q889.131 1442.98 891.576 1445.56 Q894.04 1448.12 894.04 1452.54 Q894.04 1456.86 891.482 1459.48 Q888.924 1462.09 884.674 1462.09 Q879.803 1462.09 877.226 1458.37 Q874.649 1454.62 874.649 1447.53 Q874.649 1440.88 877.809 1436.93 Q880.969 1432.96 886.291 1432.96 Q887.721 1432.96 889.169 1433.24 Q890.636 1433.52 892.216 1434.09 Z\" fill=\"#000000\" fill-rule=\"evenodd\" fill-opacity=\"1\" /><path clip-path=\"url(#clip390)\" d=\"M1180.57 1485.02 L1188.21 1485.02 L1188.21 1458.66 L1179.9 1460.32 L1179.9 1456.06 L1188.16 1454.4 L1192.84 1454.4 L1192.84 1485.02 L1200.48 1485.02 L1200.48 1488.96 L1180.57 1488.96 L1180.57 1485.02 Z\" fill=\"#000000\" fill-rule=\"evenodd\" fill-opacity=\"1\" /><path clip-path=\"url(#clip390)\" d=\"M1209.92 1483.08 L1214.8 1483.08 L1214.8 1488.96 L1209.92 1488.96 L1209.92 1483.08 Z\" fill=\"#000000\" fill-rule=\"evenodd\" fill-opacity=\"1\" /><path clip-path=\"url(#clip390)\" d=\"M1234.99 1457.48 Q1231.38 1457.48 1229.55 1461.04 Q1227.74 1464.58 1227.74 1471.71 Q1227.74 1478.82 1229.55 1482.38 Q1231.38 1485.92 1234.99 1485.92 Q1238.62 1485.92 1240.43 1482.38 Q1242.26 1478.82 1242.26 1471.71 Q1242.26 1464.58 1240.43 1461.04 Q1238.62 1457.48 1234.99 1457.48 M1234.99 1453.77 Q1240.8 1453.77 1243.85 1458.38 Q1246.93 1462.96 1246.93 1471.71 Q1246.93 1480.44 1243.85 1485.04 Q1240.8 1489.63 1234.99 1489.63 Q1229.18 1489.63 1226.1 1485.04 Q1223.04 1480.44 1223.04 1471.71 Q1223.04 1462.96 1226.1 1458.38 Q1229.18 1453.77 1234.99 1453.77 Z\" fill=\"#000000\" fill-rule=\"evenodd\" fill-opacity=\"1\" /><path clip-path=\"url(#clip390)\" d=\"M1265.15 1457.48 Q1261.54 1457.48 1259.71 1461.04 Q1257.91 1464.58 1257.91 1471.71 Q1257.91 1478.82 1259.71 1482.38 Q1261.54 1485.92 1265.15 1485.92 Q1268.79 1485.92 1270.59 1482.38 Q1272.42 1478.82 1272.42 1471.71 Q1272.42 1464.58 1270.59 1461.04 Q1268.79 1457.48 1265.15 1457.48 M1265.15 1453.77 Q1270.96 1453.77 1274.02 1458.38 Q1277.1 1462.96 1277.1 1471.71 Q1277.1 1480.44 1274.02 1485.04 Q1270.96 1489.63 1265.15 1489.63 Q1259.34 1489.63 1256.26 1485.04 Q1253.21 1480.44 1253.21 1471.71 Q1253.21 1462.96 1256.26 1458.38 Q1259.34 1453.77 1265.15 1453.77 Z\" fill=\"#000000\" fill-rule=\"evenodd\" fill-opacity=\"1\" /><path clip-path=\"url(#clip390)\" d=\"M1313.48 1463.49 L1302.91 1474.12 L1313.48 1484.7 L1310.73 1487.5 L1300.1 1476.87 L1289.48 1487.5 L1286.75 1484.7 L1297.3 1474.12 L1286.75 1463.49 L1289.48 1460.69 L1300.1 1471.32 L1310.73 1460.69 L1313.48 1463.49 Z\" fill=\"#000000\" fill-rule=\"evenodd\" fill-opacity=\"1\" /><path clip-path=\"url(#clip390)\" d=\"M1325.85 1485.02 L1333.48 1485.02 L1333.48 1458.66 L1325.17 1460.32 L1325.17 1456.06 L1333.44 1454.4 L1338.11 1454.4 L1338.11 1485.02 L1345.75 1485.02 L1345.75 1488.96 L1325.85 1488.96 L1325.85 1485.02 Z\" fill=\"#000000\" fill-rule=\"evenodd\" fill-opacity=\"1\" /><path clip-path=\"url(#clip390)\" d=\"M1365.2 1457.48 Q1361.59 1457.48 1359.76 1461.04 Q1357.95 1464.58 1357.95 1471.71 Q1357.95 1478.82 1359.76 1482.38 Q1361.59 1485.92 1365.2 1485.92 Q1368.83 1485.92 1370.64 1482.38 Q1372.47 1478.82 1372.47 1471.71 Q1372.47 1464.58 1370.64 1461.04 Q1368.83 1457.48 1365.2 1457.48 M1365.2 1453.77 Q1371.01 1453.77 1374.06 1458.38 Q1377.14 1462.96 1377.14 1471.71 Q1377.14 1480.44 1374.06 1485.04 Q1371.01 1489.63 1365.2 1489.63 Q1359.39 1489.63 1356.31 1485.04 Q1353.25 1480.44 1353.25 1471.71 Q1353.25 1462.96 1356.31 1458.38 Q1359.39 1453.77 1365.2 1453.77 Z\" fill=\"#000000\" fill-rule=\"evenodd\" fill-opacity=\"1\" /><path clip-path=\"url(#clip390)\" d=\"M1377.14 1433.47 L1395.2 1433.47 L1395.2 1435.08 L1385 1461.55 L1381.03 1461.55 L1390.63 1436.66 L1377.14 1436.66 L1377.14 1433.47 Z\" fill=\"#000000\" fill-rule=\"evenodd\" fill-opacity=\"1\" /><path clip-path=\"url(#clip390)\" d=\"M1683.17 1485.02 L1690.81 1485.02 L1690.81 1458.66 L1682.5 1460.32 L1682.5 1456.06 L1690.76 1454.4 L1695.44 1454.4 L1695.44 1485.02 L1703.07 1485.02 L1703.07 1488.96 L1683.17 1488.96 L1683.17 1485.02 Z\" fill=\"#000000\" fill-rule=\"evenodd\" fill-opacity=\"1\" /><path clip-path=\"url(#clip390)\" d=\"M1712.52 1483.08 L1717.4 1483.08 L1717.4 1488.96 L1712.52 1488.96 L1712.52 1483.08 Z\" fill=\"#000000\" fill-rule=\"evenodd\" fill-opacity=\"1\" /><path clip-path=\"url(#clip390)\" d=\"M1727.63 1454.4 L1745.99 1454.4 L1745.99 1458.33 L1731.92 1458.33 L1731.92 1466.8 Q1732.94 1466.46 1733.95 1466.29 Q1734.97 1466.11 1735.99 1466.11 Q1741.78 1466.11 1745.16 1469.28 Q1748.54 1472.45 1748.54 1477.87 Q1748.54 1483.45 1745.07 1486.55 Q1741.59 1489.63 1735.27 1489.63 Q1733.1 1489.63 1730.83 1489.26 Q1728.58 1488.89 1726.18 1488.15 L1726.18 1483.45 Q1728.26 1484.58 1730.48 1485.14 Q1732.7 1485.69 1735.18 1485.69 Q1739.19 1485.69 1741.52 1483.59 Q1743.86 1481.48 1743.86 1477.87 Q1743.86 1474.26 1741.52 1472.15 Q1739.19 1470.04 1735.18 1470.04 Q1733.31 1470.04 1731.43 1470.46 Q1729.58 1470.88 1727.63 1471.76 L1727.63 1454.4 Z\" fill=\"#000000\" fill-rule=\"evenodd\" fill-opacity=\"1\" /><path clip-path=\"url(#clip390)\" d=\"M1767.75 1457.48 Q1764.14 1457.48 1762.31 1461.04 Q1760.51 1464.58 1760.51 1471.71 Q1760.51 1478.82 1762.31 1482.38 Q1764.14 1485.92 1767.75 1485.92 Q1771.38 1485.92 1773.19 1482.38 Q1775.02 1478.82 1775.02 1471.71 Q1775.02 1464.58 1773.19 1461.04 Q1771.38 1457.48 1767.75 1457.48 M1767.75 1453.77 Q1773.56 1453.77 1776.62 1458.38 Q1779.69 1462.96 1779.69 1471.71 Q1779.69 1480.44 1776.62 1485.04 Q1773.56 1489.63 1767.75 1489.63 Q1761.94 1489.63 1758.86 1485.04 Q1755.81 1480.44 1755.81 1471.71 Q1755.81 1462.96 1758.86 1458.38 Q1761.94 1453.77 1767.75 1453.77 Z\" fill=\"#000000\" fill-rule=\"evenodd\" fill-opacity=\"1\" /><path clip-path=\"url(#clip390)\" d=\"M1816.08 1463.49 L1805.5 1474.12 L1816.08 1484.7 L1813.33 1487.5 L1802.7 1476.87 L1792.08 1487.5 L1789.35 1484.7 L1799.9 1474.12 L1789.35 1463.49 L1792.08 1460.69 L1802.7 1471.32 L1813.33 1460.69 L1816.08 1463.49 Z\" fill=\"#000000\" fill-rule=\"evenodd\" fill-opacity=\"1\" /><path clip-path=\"url(#clip390)\" d=\"M1828.44 1485.02 L1836.08 1485.02 L1836.08 1458.66 L1827.77 1460.32 L1827.77 1456.06 L1836.04 1454.4 L1840.71 1454.4 L1840.71 1485.02 L1848.35 1485.02 L1848.35 1488.96 L1828.44 1488.96 L1828.44 1485.02 Z\" fill=\"#000000\" fill-rule=\"evenodd\" fill-opacity=\"1\" /><path clip-path=\"url(#clip390)\" d=\"M1867.8 1457.48 Q1864.19 1457.48 1862.36 1461.04 Q1860.55 1464.58 1860.55 1471.71 Q1860.55 1478.82 1862.36 1482.38 Q1864.19 1485.92 1867.8 1485.92 Q1871.43 1485.92 1873.24 1482.38 Q1875.06 1478.82 1875.06 1471.71 Q1875.06 1464.58 1873.24 1461.04 Q1871.43 1457.48 1867.8 1457.48 M1867.8 1453.77 Q1873.61 1453.77 1876.66 1458.38 Q1879.74 1462.96 1879.74 1471.71 Q1879.74 1480.44 1876.66 1485.04 Q1873.61 1489.63 1867.8 1489.63 Q1861.99 1489.63 1858.91 1485.04 Q1855.85 1480.44 1855.85 1471.71 Q1855.85 1462.96 1858.91 1458.38 Q1861.99 1453.77 1867.8 1453.77 Z\" fill=\"#000000\" fill-rule=\"evenodd\" fill-opacity=\"1\" /><path clip-path=\"url(#clip390)\" d=\"M1879.74 1433.47 L1897.8 1433.47 L1897.8 1435.08 L1887.6 1461.55 L1883.63 1461.55 L1893.23 1436.66 L1879.74 1436.66 L1879.74 1433.47 Z\" fill=\"#000000\" fill-rule=\"evenodd\" fill-opacity=\"1\" /><path clip-path=\"url(#clip390)\" d=\"M2189.85 1485.02 L2206.17 1485.02 L2206.17 1488.96 L2184.23 1488.96 L2184.23 1485.02 Q2186.89 1482.27 2191.47 1477.64 Q2196.08 1472.98 2197.26 1471.64 Q2199.51 1469.12 2200.38 1467.38 Q2201.29 1465.62 2201.29 1463.93 Q2201.29 1461.18 2199.34 1459.44 Q2197.42 1457.71 2194.32 1457.71 Q2192.12 1457.71 2189.67 1458.47 Q2187.24 1459.23 2184.46 1460.79 L2184.46 1456.06 Q2187.28 1454.93 2189.74 1454.35 Q2192.19 1453.77 2194.23 1453.77 Q2199.6 1453.77 2202.79 1456.46 Q2205.99 1459.14 2205.99 1463.63 Q2205.99 1465.76 2205.18 1467.68 Q2204.39 1469.58 2202.28 1472.17 Q2201.7 1472.85 2198.6 1476.06 Q2195.5 1479.26 2189.85 1485.02 Z\" fill=\"#000000\" fill-rule=\"evenodd\" fill-opacity=\"1\" /><path clip-path=\"url(#clip390)\" d=\"M2215.99 1483.08 L2220.87 1483.08 L2220.87 1488.96 L2215.99 1488.96 L2215.99 1483.08 Z\" fill=\"#000000\" fill-rule=\"evenodd\" fill-opacity=\"1\" /><path clip-path=\"url(#clip390)\" d=\"M2241.06 1457.48 Q2237.44 1457.48 2235.62 1461.04 Q2233.81 1464.58 2233.81 1471.71 Q2233.81 1478.82 2235.62 1482.38 Q2237.44 1485.92 2241.06 1485.92 Q2244.69 1485.92 2246.5 1482.38 Q2248.32 1478.82 2248.32 1471.71 Q2248.32 1464.58 2246.5 1461.04 Q2244.69 1457.48 2241.06 1457.48 M2241.06 1453.77 Q2246.87 1453.77 2249.92 1458.38 Q2253 1462.96 2253 1471.71 Q2253 1480.44 2249.92 1485.04 Q2246.87 1489.63 2241.06 1489.63 Q2235.25 1489.63 2232.17 1485.04 Q2229.11 1480.44 2229.11 1471.71 Q2229.11 1462.96 2232.17 1458.38 Q2235.25 1453.77 2241.06 1453.77 Z\" fill=\"#000000\" fill-rule=\"evenodd\" fill-opacity=\"1\" /><path clip-path=\"url(#clip390)\" d=\"M2271.22 1457.48 Q2267.61 1457.48 2265.78 1461.04 Q2263.97 1464.58 2263.97 1471.71 Q2263.97 1478.82 2265.78 1482.38 Q2267.61 1485.92 2271.22 1485.92 Q2274.85 1485.92 2276.66 1482.38 Q2278.49 1478.82 2278.49 1471.71 Q2278.49 1464.58 2276.66 1461.04 Q2274.85 1457.48 2271.22 1457.48 M2271.22 1453.77 Q2277.03 1453.77 2280.08 1458.38 Q2283.16 1462.96 2283.16 1471.71 Q2283.16 1480.44 2280.08 1485.04 Q2277.03 1489.63 2271.22 1489.63 Q2265.41 1489.63 2262.33 1485.04 Q2259.27 1480.44 2259.27 1471.71 Q2259.27 1462.96 2262.33 1458.38 Q2265.41 1453.77 2271.22 1453.77 Z\" fill=\"#000000\" fill-rule=\"evenodd\" fill-opacity=\"1\" /><path clip-path=\"url(#clip390)\" d=\"M2319.55 1463.49 L2308.97 1474.12 L2319.55 1484.7 L2316.8 1487.5 L2306.17 1476.87 L2295.55 1487.5 L2292.81 1484.7 L2303.37 1474.12 L2292.81 1463.49 L2295.55 1460.69 L2306.17 1471.32 L2316.8 1460.69 L2319.55 1463.49 Z\" fill=\"#000000\" fill-rule=\"evenodd\" fill-opacity=\"1\" /><path clip-path=\"url(#clip390)\" d=\"M2331.91 1485.02 L2339.55 1485.02 L2339.55 1458.66 L2331.24 1460.32 L2331.24 1456.06 L2339.5 1454.4 L2344.18 1454.4 L2344.18 1485.02 L2351.82 1485.02 L2351.82 1488.96 L2331.91 1488.96 L2331.91 1485.02 Z\" fill=\"#000000\" fill-rule=\"evenodd\" fill-opacity=\"1\" /><path clip-path=\"url(#clip390)\" d=\"M2371.26 1457.48 Q2367.65 1457.48 2365.82 1461.04 Q2364.02 1464.58 2364.02 1471.71 Q2364.02 1478.82 2365.82 1482.38 Q2367.65 1485.92 2371.26 1485.92 Q2374.9 1485.92 2376.7 1482.38 Q2378.53 1478.82 2378.53 1471.71 Q2378.53 1464.58 2376.7 1461.04 Q2374.9 1457.48 2371.26 1457.48 M2371.26 1453.77 Q2377.07 1453.77 2380.13 1458.38 Q2383.21 1462.96 2383.21 1471.71 Q2383.21 1480.44 2380.13 1485.04 Q2377.07 1489.63 2371.26 1489.63 Q2365.45 1489.63 2362.37 1485.04 Q2359.32 1480.44 2359.32 1471.71 Q2359.32 1462.96 2362.37 1458.38 Q2365.45 1453.77 2371.26 1453.77 Z\" fill=\"#000000\" fill-rule=\"evenodd\" fill-opacity=\"1\" /><path clip-path=\"url(#clip390)\" d=\"M2383.21 1433.47 L2401.26 1433.47 L2401.26 1435.08 L2391.07 1461.55 L2387.1 1461.55 L2396.69 1436.66 L2383.21 1436.66 L2383.21 1433.47 Z\" fill=\"#000000\" fill-rule=\"evenodd\" fill-opacity=\"1\" /><path clip-path=\"url(#clip390)\" d=\"M1142.14 1526.67 L1148.56 1526.67 L1148.56 1574.19 L1142.14 1574.19 L1142.14 1526.67 Z\" fill=\"#000000\" fill-rule=\"evenodd\" fill-opacity=\"1\" /><path clip-path=\"url(#clip390)\" d=\"M1166.9 1528.42 L1166.9 1538.54 L1178.96 1538.54 L1178.96 1543.09 L1166.9 1543.09 L1166.9 1562.44 Q1166.9 1566.8 1168.08 1568.04 Q1169.28 1569.28 1172.95 1569.28 L1178.96 1569.28 L1178.96 1574.19 L1172.95 1574.19 Q1166.17 1574.19 1163.59 1571.67 Q1161.01 1569.12 1161.01 1562.44 L1161.01 1543.09 L1156.71 1543.09 L1156.71 1538.54 L1161.01 1538.54 L1161.01 1528.42 L1166.9 1528.42 Z\" fill=\"#000000\" fill-rule=\"evenodd\" fill-opacity=\"1\" /><path clip-path=\"url(#clip390)\" d=\"M1217.15 1554.9 L1217.15 1557.76 L1190.23 1557.76 Q1190.61 1563.81 1193.86 1566.99 Q1197.13 1570.14 1202.96 1570.14 Q1206.33 1570.14 1209.48 1569.32 Q1212.67 1568.49 1215.79 1566.83 L1215.79 1572.37 Q1212.64 1573.71 1209.33 1574.41 Q1206.01 1575.11 1202.61 1575.11 Q1194.08 1575.11 1189.08 1570.14 Q1184.12 1565.18 1184.12 1556.71 Q1184.12 1547.96 1188.83 1542.83 Q1193.57 1537.68 1201.59 1537.68 Q1208.78 1537.68 1212.95 1542.33 Q1217.15 1546.94 1217.15 1554.9 M1211.3 1553.18 Q1211.23 1548.37 1208.59 1545.51 Q1205.98 1542.64 1201.65 1542.64 Q1196.75 1542.64 1193.79 1545.41 Q1190.86 1548.18 1190.42 1553.21 L1211.3 1553.18 Z\" fill=\"#000000\" fill-rule=\"evenodd\" fill-opacity=\"1\" /><path clip-path=\"url(#clip390)\" d=\"M1247.42 1544.01 Q1246.44 1543.44 1245.26 1543.18 Q1244.11 1542.9 1242.71 1542.9 Q1237.75 1542.9 1235.07 1546.14 Q1232.43 1549.36 1232.43 1555.41 L1232.43 1574.19 L1226.54 1574.19 L1226.54 1538.54 L1232.43 1538.54 L1232.43 1544.08 Q1234.28 1540.83 1237.24 1539.27 Q1240.2 1537.68 1244.43 1537.68 Q1245.04 1537.68 1245.77 1537.77 Q1246.5 1537.84 1247.39 1538 L1247.42 1544.01 Z\" fill=\"#000000\" fill-rule=\"evenodd\" fill-opacity=\"1\" /><path clip-path=\"url(#clip390)\" d=\"M1269.77 1556.27 Q1262.67 1556.27 1259.93 1557.89 Q1257.2 1559.51 1257.2 1563.43 Q1257.2 1566.55 1259.23 1568.39 Q1261.3 1570.21 1264.83 1570.21 Q1269.7 1570.21 1272.63 1566.77 Q1275.59 1563.3 1275.59 1557.57 L1275.59 1556.27 L1269.77 1556.27 M1281.45 1553.85 L1281.45 1574.19 L1275.59 1574.19 L1275.59 1568.77 Q1273.59 1572.02 1270.6 1573.58 Q1267.6 1575.11 1263.27 1575.11 Q1257.8 1575.11 1254.55 1572.05 Q1251.34 1568.97 1251.34 1563.81 Q1251.34 1557.79 1255.35 1554.74 Q1259.39 1551.68 1267.38 1551.68 L1275.59 1551.68 L1275.59 1551.11 Q1275.59 1547.07 1272.92 1544.87 Q1270.28 1542.64 1265.47 1542.64 Q1262.42 1542.64 1259.52 1543.38 Q1256.62 1544.11 1253.95 1545.57 L1253.95 1540.16 Q1257.16 1538.92 1260.19 1538.31 Q1263.21 1537.68 1266.08 1537.68 Q1273.81 1537.68 1277.63 1541.69 Q1281.45 1545.7 1281.45 1553.85 Z\" fill=\"#000000\" fill-rule=\"evenodd\" fill-opacity=\"1\" /><path clip-path=\"url(#clip390)\" d=\"M1299.3 1528.42 L1299.3 1538.54 L1311.37 1538.54 L1311.37 1543.09 L1299.3 1543.09 L1299.3 1562.44 Q1299.3 1566.8 1300.48 1568.04 Q1301.69 1569.28 1305.35 1569.28 L1311.37 1569.28 L1311.37 1574.19 L1305.35 1574.19 Q1298.57 1574.19 1295.99 1571.67 Q1293.42 1569.12 1293.42 1562.44 L1293.42 1543.09 L1289.12 1543.09 L1289.12 1538.54 L1293.42 1538.54 L1293.42 1528.42 L1299.3 1528.42 Z\" fill=\"#000000\" fill-rule=\"evenodd\" fill-opacity=\"1\" /><path clip-path=\"url(#clip390)\" d=\"M1319.07 1538.54 L1324.93 1538.54 L1324.93 1574.19 L1319.07 1574.19 L1319.07 1538.54 M1319.07 1524.66 L1324.93 1524.66 L1324.93 1532.08 L1319.07 1532.08 L1319.07 1524.66 Z\" fill=\"#000000\" fill-rule=\"evenodd\" fill-opacity=\"1\" /><path clip-path=\"url(#clip390)\" d=\"M1350.99 1542.64 Q1346.28 1542.64 1343.55 1546.34 Q1340.81 1550 1340.81 1556.39 Q1340.81 1562.79 1343.51 1566.48 Q1346.25 1570.14 1350.99 1570.14 Q1355.67 1570.14 1358.41 1566.45 Q1361.15 1562.76 1361.15 1556.39 Q1361.15 1550.06 1358.41 1546.37 Q1355.67 1542.64 1350.99 1542.64 M1350.99 1537.68 Q1358.63 1537.68 1362.99 1542.64 Q1367.35 1547.61 1367.35 1556.39 Q1367.35 1565.15 1362.99 1570.14 Q1358.63 1575.11 1350.99 1575.11 Q1343.32 1575.11 1338.96 1570.14 Q1334.63 1565.15 1334.63 1556.39 Q1334.63 1547.61 1338.96 1542.64 Q1343.32 1537.68 1350.99 1537.68 Z\" fill=\"#000000\" fill-rule=\"evenodd\" fill-opacity=\"1\" /><path clip-path=\"url(#clip390)\" d=\"M1406.69 1552.67 L1406.69 1574.19 L1400.84 1574.19 L1400.84 1552.86 Q1400.84 1547.8 1398.86 1545.29 Q1396.89 1542.77 1392.94 1542.77 Q1388.2 1542.77 1385.46 1545.79 Q1382.73 1548.82 1382.73 1554.04 L1382.73 1574.19 L1376.84 1574.19 L1376.84 1538.54 L1382.73 1538.54 L1382.73 1544.08 Q1384.83 1540.86 1387.66 1539.27 Q1390.52 1537.68 1394.25 1537.68 Q1400.39 1537.68 1403.54 1541.5 Q1406.69 1545.29 1406.69 1552.67 Z\" fill=\"#000000\" fill-rule=\"evenodd\" fill-opacity=\"1\" /><path clip-path=\"url(#clip390)\" d=\"M1441.1 1539.59 L1441.1 1545.13 Q1438.62 1543.85 1435.94 1543.22 Q1433.27 1542.58 1430.41 1542.58 Q1426.05 1542.58 1423.85 1543.92 Q1421.69 1545.25 1421.69 1547.93 Q1421.69 1549.96 1423.24 1551.14 Q1424.8 1552.29 1429.51 1553.34 L1431.52 1553.78 Q1437.76 1555.12 1440.37 1557.57 Q1443.01 1559.99 1443.01 1564.35 Q1443.01 1569.32 1439.06 1572.21 Q1435.15 1575.11 1428.27 1575.11 Q1425.41 1575.11 1422.29 1574.54 Q1419.2 1573.99 1415.76 1572.88 L1415.76 1566.83 Q1419.01 1568.52 1422.16 1569.38 Q1425.31 1570.21 1428.4 1570.21 Q1432.54 1570.21 1434.77 1568.81 Q1436.99 1567.37 1436.99 1564.8 Q1436.99 1562.41 1435.37 1561.14 Q1433.78 1559.86 1428.34 1558.68 L1426.3 1558.21 Q1420.86 1557.06 1418.44 1554.71 Q1416.02 1552.32 1416.02 1548.18 Q1416.02 1543.15 1419.58 1540.42 Q1423.15 1537.68 1429.71 1537.68 Q1432.95 1537.68 1435.82 1538.16 Q1438.68 1538.63 1441.1 1539.59 Z\" fill=\"#000000\" fill-rule=\"evenodd\" fill-opacity=\"1\" /><polyline clip-path=\"url(#clip392)\" style=\"stroke:#000000; stroke-linecap:round; stroke-linejoin:round; stroke-width:2; stroke-opacity:0.1; fill:none\" points=\"\n",
       "  232.389,1398.65 2352.76,1398.65 \n",
       "  \"/>\n",
       "<polyline clip-path=\"url(#clip392)\" style=\"stroke:#000000; stroke-linecap:round; stroke-linejoin:round; stroke-width:2; stroke-opacity:0.1; fill:none\" points=\"\n",
       "  232.389,1100.56 2352.76,1100.56 \n",
       "  \"/>\n",
       "<polyline clip-path=\"url(#clip392)\" style=\"stroke:#000000; stroke-linecap:round; stroke-linejoin:round; stroke-width:2; stroke-opacity:0.1; fill:none\" points=\"\n",
       "  232.389,802.476 2352.76,802.476 \n",
       "  \"/>\n",
       "<polyline clip-path=\"url(#clip392)\" style=\"stroke:#000000; stroke-linecap:round; stroke-linejoin:round; stroke-width:2; stroke-opacity:0.1; fill:none\" points=\"\n",
       "  232.389,504.389 2352.76,504.389 \n",
       "  \"/>\n",
       "<polyline clip-path=\"url(#clip392)\" style=\"stroke:#000000; stroke-linecap:round; stroke-linejoin:round; stroke-width:2; stroke-opacity:0.1; fill:none\" points=\"\n",
       "  232.389,206.301 2352.76,206.301 \n",
       "  \"/>\n",
       "<polyline clip-path=\"url(#clip390)\" style=\"stroke:#000000; stroke-linecap:round; stroke-linejoin:round; stroke-width:4; stroke-opacity:1; fill:none\" points=\"\n",
       "  232.389,1410.9 232.389,47.2441 \n",
       "  \"/>\n",
       "<polyline clip-path=\"url(#clip390)\" style=\"stroke:#000000; stroke-linecap:round; stroke-linejoin:round; stroke-width:4; stroke-opacity:1; fill:none\" points=\"\n",
       "  232.389,1398.65 251.287,1398.65 \n",
       "  \"/>\n",
       "<polyline clip-path=\"url(#clip390)\" style=\"stroke:#000000; stroke-linecap:round; stroke-linejoin:round; stroke-width:4; stroke-opacity:1; fill:none\" points=\"\n",
       "  232.389,1100.56 251.287,1100.56 \n",
       "  \"/>\n",
       "<polyline clip-path=\"url(#clip390)\" style=\"stroke:#000000; stroke-linecap:round; stroke-linejoin:round; stroke-width:4; stroke-opacity:1; fill:none\" points=\"\n",
       "  232.389,802.476 251.287,802.476 \n",
       "  \"/>\n",
       "<polyline clip-path=\"url(#clip390)\" style=\"stroke:#000000; stroke-linecap:round; stroke-linejoin:round; stroke-width:4; stroke-opacity:1; fill:none\" points=\"\n",
       "  232.389,504.389 251.287,504.389 \n",
       "  \"/>\n",
       "<polyline clip-path=\"url(#clip390)\" style=\"stroke:#000000; stroke-linecap:round; stroke-linejoin:round; stroke-width:4; stroke-opacity:1; fill:none\" points=\"\n",
       "  232.389,206.301 251.287,206.301 \n",
       "  \"/>\n",
       "<path clip-path=\"url(#clip390)\" d=\"M114.931 1412 L122.57 1412 L122.57 1385.63 L114.26 1387.3 L114.26 1383.04 L122.524 1381.37 L127.2 1381.37 L127.2 1412 L134.839 1412 L134.839 1415.93 L114.931 1415.93 L114.931 1412 Z\" fill=\"#000000\" fill-rule=\"evenodd\" fill-opacity=\"1\" /><path clip-path=\"url(#clip390)\" d=\"M158.45 1397.3 Q161.806 1398.01 163.681 1400.28 Q165.579 1402.55 165.579 1405.88 Q165.579 1411 162.061 1413.8 Q158.542 1416.6 152.061 1416.6 Q149.885 1416.6 147.57 1416.16 Q145.279 1415.75 142.825 1414.89 L142.825 1410.38 Q144.769 1411.51 147.084 1412.09 Q149.399 1412.67 151.922 1412.67 Q156.32 1412.67 158.612 1410.93 Q160.927 1409.19 160.927 1405.88 Q160.927 1402.83 158.774 1401.12 Q156.644 1399.38 152.825 1399.38 L148.797 1399.38 L148.797 1395.54 L153.01 1395.54 Q156.459 1395.54 158.288 1394.17 Q160.116 1392.78 160.116 1390.19 Q160.116 1387.53 158.218 1386.12 Q156.343 1384.68 152.825 1384.68 Q150.903 1384.68 148.704 1385.1 Q146.505 1385.51 143.866 1386.39 L143.866 1382.23 Q146.529 1381.49 148.843 1381.12 Q151.181 1380.75 153.241 1380.75 Q158.565 1380.75 161.667 1383.18 Q164.769 1385.58 164.769 1389.7 Q164.769 1392.57 163.126 1394.57 Q161.482 1396.53 158.45 1397.3 Z\" fill=\"#000000\" fill-rule=\"evenodd\" fill-opacity=\"1\" /><path clip-path=\"url(#clip390)\" d=\"M184.445 1384.45 Q180.834 1384.45 179.005 1388.01 Q177.2 1391.56 177.2 1398.69 Q177.2 1405.79 179.005 1409.36 Q180.834 1412.9 184.445 1412.9 Q188.079 1412.9 189.885 1409.36 Q191.713 1405.79 191.713 1398.69 Q191.713 1391.56 189.885 1388.01 Q188.079 1384.45 184.445 1384.45 M184.445 1380.75 Q190.255 1380.75 193.311 1385.35 Q196.389 1389.94 196.389 1398.69 Q196.389 1407.41 193.311 1412.02 Q190.255 1416.6 184.445 1416.6 Q178.635 1416.6 175.556 1412.02 Q172.501 1407.41 172.501 1398.69 Q172.501 1389.94 175.556 1385.35 Q178.635 1380.75 184.445 1380.75 Z\" fill=\"#000000\" fill-rule=\"evenodd\" fill-opacity=\"1\" /><path clip-path=\"url(#clip390)\" d=\"M114.931 1113.91 L122.57 1113.91 L122.57 1087.54 L114.26 1089.21 L114.26 1084.95 L122.524 1083.28 L127.2 1083.28 L127.2 1113.91 L134.839 1113.91 L134.839 1117.84 L114.931 1117.84 L114.931 1113.91 Z\" fill=\"#000000\" fill-rule=\"evenodd\" fill-opacity=\"1\" /><path clip-path=\"url(#clip390)\" d=\"M157.13 1087.36 L145.325 1105.81 L157.13 1105.81 L157.13 1087.36 M155.903 1083.28 L161.783 1083.28 L161.783 1105.81 L166.714 1105.81 L166.714 1109.7 L161.783 1109.7 L161.783 1117.84 L157.13 1117.84 L157.13 1109.7 L141.529 1109.7 L141.529 1105.18 L155.903 1083.28 Z\" fill=\"#000000\" fill-rule=\"evenodd\" fill-opacity=\"1\" /><path clip-path=\"url(#clip390)\" d=\"M184.445 1086.36 Q180.834 1086.36 179.005 1089.93 Q177.2 1093.47 177.2 1100.6 Q177.2 1107.7 179.005 1111.27 Q180.834 1114.81 184.445 1114.81 Q188.079 1114.81 189.885 1111.27 Q191.713 1107.7 191.713 1100.6 Q191.713 1093.47 189.885 1089.93 Q188.079 1086.36 184.445 1086.36 M184.445 1082.66 Q190.255 1082.66 193.311 1087.26 Q196.389 1091.85 196.389 1100.6 Q196.389 1109.33 193.311 1113.93 Q190.255 1118.51 184.445 1118.51 Q178.635 1118.51 175.556 1113.93 Q172.501 1109.33 172.501 1100.6 Q172.501 1091.85 175.556 1087.26 Q178.635 1082.66 184.445 1082.66 Z\" fill=\"#000000\" fill-rule=\"evenodd\" fill-opacity=\"1\" /><path clip-path=\"url(#clip390)\" d=\"M114.931 815.821 L122.57 815.821 L122.57 789.455 L114.26 791.122 L114.26 786.863 L122.524 785.196 L127.2 785.196 L127.2 815.821 L134.839 815.821 L134.839 819.756 L114.931 819.756 L114.931 815.821 Z\" fill=\"#000000\" fill-rule=\"evenodd\" fill-opacity=\"1\" /><path clip-path=\"url(#clip390)\" d=\"M144.329 785.196 L162.686 785.196 L162.686 789.131 L148.612 789.131 L148.612 797.603 Q149.63 797.256 150.649 797.094 Q151.667 796.909 152.686 796.909 Q158.473 796.909 161.852 800.08 Q165.232 803.252 165.232 808.668 Q165.232 814.247 161.76 817.349 Q158.288 820.427 151.968 820.427 Q149.792 820.427 147.524 820.057 Q145.279 819.687 142.871 818.946 L142.871 814.247 Q144.954 815.381 147.177 815.937 Q149.399 816.492 151.876 816.492 Q155.88 816.492 158.218 814.386 Q160.556 812.279 160.556 808.668 Q160.556 805.057 158.218 802.951 Q155.88 800.844 151.876 800.844 Q150.001 800.844 148.126 801.261 Q146.274 801.678 144.329 802.557 L144.329 785.196 Z\" fill=\"#000000\" fill-rule=\"evenodd\" fill-opacity=\"1\" /><path clip-path=\"url(#clip390)\" d=\"M184.445 788.275 Q180.834 788.275 179.005 791.84 Q177.2 795.381 177.2 802.511 Q177.2 809.617 179.005 813.182 Q180.834 816.724 184.445 816.724 Q188.079 816.724 189.885 813.182 Q191.713 809.617 191.713 802.511 Q191.713 795.381 189.885 791.84 Q188.079 788.275 184.445 788.275 M184.445 784.571 Q190.255 784.571 193.311 789.178 Q196.389 793.761 196.389 802.511 Q196.389 811.238 193.311 815.844 Q190.255 820.427 184.445 820.427 Q178.635 820.427 175.556 815.844 Q172.501 811.238 172.501 802.511 Q172.501 793.761 175.556 789.178 Q178.635 784.571 184.445 784.571 Z\" fill=\"#000000\" fill-rule=\"evenodd\" fill-opacity=\"1\" /><path clip-path=\"url(#clip390)\" d=\"M114.931 517.734 L122.57 517.734 L122.57 491.368 L114.26 493.035 L114.26 488.775 L122.524 487.109 L127.2 487.109 L127.2 517.734 L134.839 517.734 L134.839 521.669 L114.931 521.669 L114.931 517.734 Z\" fill=\"#000000\" fill-rule=\"evenodd\" fill-opacity=\"1\" /><path clip-path=\"url(#clip390)\" d=\"M154.862 502.525 Q151.714 502.525 149.862 504.678 Q148.033 506.831 148.033 510.581 Q148.033 514.308 149.862 516.484 Q151.714 518.636 154.862 518.636 Q158.01 518.636 159.839 516.484 Q161.69 514.308 161.69 510.581 Q161.69 506.831 159.839 504.678 Q158.01 502.525 154.862 502.525 M164.144 487.873 L164.144 492.132 Q162.385 491.299 160.579 490.859 Q158.797 490.419 157.038 490.419 Q152.408 490.419 149.954 493.544 Q147.524 496.669 147.177 502.988 Q148.542 500.974 150.603 499.91 Q152.663 498.822 155.14 498.822 Q160.348 498.822 163.357 501.993 Q166.39 505.141 166.39 510.581 Q166.39 515.905 163.241 519.122 Q160.093 522.34 154.862 522.34 Q148.866 522.34 145.695 517.757 Q142.524 513.15 142.524 504.423 Q142.524 496.229 146.413 491.368 Q150.302 486.484 156.853 486.484 Q158.612 486.484 160.394 486.831 Q162.2 487.178 164.144 487.873 Z\" fill=\"#000000\" fill-rule=\"evenodd\" fill-opacity=\"1\" /><path clip-path=\"url(#clip390)\" d=\"M184.445 490.187 Q180.834 490.187 179.005 493.752 Q177.2 497.294 177.2 504.423 Q177.2 511.53 179.005 515.095 Q180.834 518.636 184.445 518.636 Q188.079 518.636 189.885 515.095 Q191.713 511.53 191.713 504.423 Q191.713 497.294 189.885 493.752 Q188.079 490.187 184.445 490.187 M184.445 486.484 Q190.255 486.484 193.311 491.09 Q196.389 495.674 196.389 504.423 Q196.389 513.15 193.311 517.757 Q190.255 522.34 184.445 522.34 Q178.635 522.34 175.556 517.757 Q172.501 513.15 172.501 504.423 Q172.501 495.674 175.556 491.09 Q178.635 486.484 184.445 486.484 Z\" fill=\"#000000\" fill-rule=\"evenodd\" fill-opacity=\"1\" /><path clip-path=\"url(#clip390)\" d=\"M114.931 219.646 L122.57 219.646 L122.57 193.281 L114.26 194.947 L114.26 190.688 L122.524 189.021 L127.2 189.021 L127.2 219.646 L134.839 219.646 L134.839 223.581 L114.931 223.581 L114.931 219.646 Z\" fill=\"#000000\" fill-rule=\"evenodd\" fill-opacity=\"1\" /><path clip-path=\"url(#clip390)\" d=\"M143.103 189.021 L165.325 189.021 L165.325 191.012 L152.778 223.581 L147.894 223.581 L159.7 192.957 L143.103 192.957 L143.103 189.021 Z\" fill=\"#000000\" fill-rule=\"evenodd\" fill-opacity=\"1\" /><path clip-path=\"url(#clip390)\" d=\"M184.445 192.1 Q180.834 192.1 179.005 195.665 Q177.2 199.207 177.2 206.336 Q177.2 213.443 179.005 217.007 Q180.834 220.549 184.445 220.549 Q188.079 220.549 189.885 217.007 Q191.713 213.443 191.713 206.336 Q191.713 199.207 189.885 195.665 Q188.079 192.1 184.445 192.1 M184.445 188.396 Q190.255 188.396 193.311 193.003 Q196.389 197.586 196.389 206.336 Q196.389 215.063 193.311 219.669 Q190.255 224.253 184.445 224.253 Q178.635 224.253 175.556 219.669 Q172.501 215.063 172.501 206.336 Q172.501 197.586 175.556 193.003 Q178.635 188.396 184.445 188.396 Z\" fill=\"#000000\" fill-rule=\"evenodd\" fill-opacity=\"1\" /><path clip-path=\"url(#clip390)\" d=\"M41.7242 821.755 Q42.4244 819.686 44.7161 817.745 Q47.0077 815.771 51.0181 813.798 L64.0042 807.273 L64.0042 814.18 L51.8138 820.259 Q47.0395 822.614 45.48 824.842 Q43.9204 827.039 43.9204 830.858 L43.9204 837.86 L64.0042 837.86 L64.0042 844.29 L16.4842 844.29 L16.4842 829.776 Q16.4842 821.628 19.8898 817.617 Q23.2955 813.607 30.1704 813.607 Q34.6582 813.607 37.6183 815.708 Q40.5784 817.776 41.7242 821.755 M21.7677 837.86 L38.6368 837.86 L38.6368 829.776 Q38.6368 825.129 36.5043 822.774 Q34.34 820.386 30.1704 820.386 Q26.0009 820.386 23.9002 822.774 Q21.7677 825.129 21.7677 829.776 L21.7677 837.86 Z\" fill=\"#000000\" fill-rule=\"evenodd\" fill-opacity=\"1\" /><path clip-path=\"url(#clip390)\" d=\"M44.7161 771.689 L47.5806 771.689 L47.5806 798.616 Q53.6281 798.234 56.8109 794.987 Q59.9619 791.709 59.9619 785.884 Q59.9619 782.51 59.1344 779.359 Q58.3069 776.177 56.6518 773.057 L62.1899 773.057 Q63.5267 776.208 64.227 779.519 Q64.9272 782.829 64.9272 786.234 Q64.9272 794.764 59.9619 799.762 Q54.9967 804.727 46.5303 804.727 Q37.7774 804.727 32.6531 800.016 Q27.4968 795.274 27.4968 787.253 Q27.4968 780.06 32.1438 775.89 Q36.7589 771.689 44.7161 771.689 M42.9973 777.545 Q38.1912 777.609 35.3266 780.251 Q32.4621 782.861 32.4621 787.189 Q32.4621 792.091 35.2312 795.051 Q38.0002 797.979 43.0292 798.425 L42.9973 777.545 Z\" fill=\"#000000\" fill-rule=\"evenodd\" fill-opacity=\"1\" /><path clip-path=\"url(#clip390)\" d=\"M28.3562 765.482 L28.3562 759.626 L56.1743 752.305 L28.3562 745.016 L28.3562 738.11 L56.1743 730.789 L28.3562 723.5 L28.3562 717.644 L64.0042 726.97 L64.0042 733.876 L34.7856 741.547 L64.0042 749.25 L64.0042 756.156 L28.3562 765.482 Z\" fill=\"#000000\" fill-rule=\"evenodd\" fill-opacity=\"1\" /><path clip-path=\"url(#clip390)\" d=\"M46.0847 692.563 Q46.0847 699.661 47.7079 702.398 Q49.3312 705.135 53.2461 705.135 Q56.3653 705.135 58.2114 703.098 Q60.0256 701.029 60.0256 697.496 Q60.0256 692.627 56.5881 689.698 Q53.1188 686.738 47.3897 686.738 L46.0847 686.738 L46.0847 692.563 M43.6657 680.882 L64.0042 680.882 L64.0042 686.738 L58.5933 686.738 Q61.8398 688.744 63.3994 691.735 Q64.9272 694.727 64.9272 699.056 Q64.9272 704.531 61.8716 707.777 Q58.7843 710.992 53.6281 710.992 Q47.6125 710.992 44.5569 706.981 Q41.5014 702.939 41.5014 694.95 L41.5014 686.738 L40.9285 686.738 Q36.8862 686.738 34.6901 689.412 Q32.4621 692.054 32.4621 696.86 Q32.4621 699.915 33.1941 702.812 Q33.9262 705.708 35.3903 708.382 L29.9795 708.382 Q28.7381 705.167 28.1334 702.143 Q27.4968 699.12 27.4968 696.255 Q27.4968 688.521 31.5072 684.701 Q35.5176 680.882 43.6657 680.882 Z\" fill=\"#000000\" fill-rule=\"evenodd\" fill-opacity=\"1\" /><path clip-path=\"url(#clip390)\" d=\"M33.8307 648.162 Q33.2578 649.149 33.0032 650.327 Q32.7167 651.472 32.7167 652.873 Q32.7167 657.838 35.9632 660.512 Q39.1779 663.153 45.2253 663.153 L64.0042 663.153 L64.0042 669.042 L28.3562 669.042 L28.3562 663.153 L33.8944 663.153 Q30.6479 661.307 29.0883 658.347 Q27.4968 655.387 27.4968 651.154 Q27.4968 650.549 27.5923 649.817 Q27.656 649.085 27.8151 648.194 L33.8307 648.162 Z\" fill=\"#000000\" fill-rule=\"evenodd\" fill-opacity=\"1\" /><path clip-path=\"url(#clip390)\" d=\"M33.7671 619.708 L14.479 619.708 L14.479 613.851 L64.0042 613.851 L64.0042 619.708 L58.657 619.708 Q61.8398 621.554 63.3994 624.386 Q64.9272 627.187 64.9272 631.134 Q64.9272 637.595 59.771 641.669 Q54.6147 645.711 46.212 645.711 Q37.8093 645.711 32.6531 641.669 Q27.4968 637.595 27.4968 631.134 Q27.4968 627.187 29.0564 624.386 Q30.5842 621.554 33.7671 619.708 M46.212 639.664 Q52.6732 639.664 56.3653 637.022 Q60.0256 634.349 60.0256 629.702 Q60.0256 625.055 56.3653 622.381 Q52.6732 619.708 46.212 619.708 Q39.7508 619.708 36.0905 622.381 Q32.3984 625.055 32.3984 629.702 Q32.3984 634.349 36.0905 637.022 Q39.7508 639.664 46.212 639.664 Z\" fill=\"#000000\" fill-rule=\"evenodd\" fill-opacity=\"1\" /><polyline clip-path=\"url(#clip392)\" style=\"stroke:#009af9; stroke-linecap:round; stroke-linejoin:round; stroke-width:4; stroke-opacity:1; fill:none\" points=\"\n",
       "  292.4,159.773 302.452,122.052 312.504,106.19 322.556,119.415 332.608,121.906 342.66,107.814 352.712,110.184 362.764,85.838 372.816,104.465 382.868,104.034 \n",
       "  392.92,99.1659 402.972,130.473 413.024,114.733 423.076,129.74 433.128,159.279 443.18,138.414 453.232,155.19 463.284,135.691 473.336,130.538 483.388,142.544 \n",
       "  493.44,94.876 503.491,109.679 513.543,119.667 523.595,164.263 533.647,142.697 543.699,119.975 553.751,159.225 563.803,137.271 573.855,168.87 583.907,146.042 \n",
       "  593.959,97.0649 604.011,86.4814 614.063,133.38 624.115,146.736 634.167,149.588 644.219,140.321 654.271,182.814 664.323,142.305 674.375,140.18 684.427,161.241 \n",
       "  694.479,147.483 704.531,221.823 714.583,294.14 724.635,393.049 734.687,266.028 744.739,246.046 754.791,178.337 764.843,150.249 774.895,166.946 784.947,167.621 \n",
       "  794.999,218.412 805.051,203.166 815.103,141.384 825.155,191.424 835.207,185.801 845.259,266.376 855.311,157.743 865.363,215.815 875.415,281.728 885.467,299.94 \n",
       "  895.519,287.253 905.571,257.192 915.623,324.852 925.675,357.01 935.727,299.065 945.779,284.098 955.831,179.007 965.883,279.513 975.935,224.445 985.987,277.528 \n",
       "  996.039,233.872 1006.09,309.463 1016.14,209.639 1026.19,214.456 1036.25,228.956 1046.3,208.758 1056.35,361.549 1066.4,297.507 1076.45,220.466 1086.51,254.576 \n",
       "  1096.56,242.707 1106.61,225.792 1116.66,265.044 1126.71,695.927 1136.77,400.358 1146.82,303.71 1156.87,299.793 1166.92,515.308 1176.97,358.055 1187.03,426.536 \n",
       "  1197.08,299.671 1207.13,198.969 1217.18,805.833 1227.23,521.83 1237.29,794.959 1247.34,706.738 1257.39,282.981 1267.44,294.507 1277.49,253.561 1287.55,315.041 \n",
       "  1297.6,365.993 1307.65,302.733 1317.7,382.671 1327.75,1159.48 1337.81,645.738 1347.86,222.018 1357.91,282.322 1367.96,225.641 1378.01,250.854 1388.07,274.043 \n",
       "  1398.12,318.784 1408.17,360.573 1418.22,270.405 1428.27,842.485 1438.33,679.029 1448.38,741.973 1458.43,471.776 1468.48,732.731 1478.53,528.05 1488.59,1053.63 \n",
       "  1498.64,857.636 1508.69,1079.7 1518.74,728.715 1528.79,429.776 1538.85,467.902 1548.9,937.689 1558.95,655.804 1569,650.348 1579.05,293.875 1589.11,215.32 \n",
       "  1599.16,200.532 1609.21,182.966 1619.26,185.186 1629.31,225.092 1639.37,249.083 1649.42,238.915 1659.47,229.728 1669.52,275.606 1679.57,244.243 1689.63,254.904 \n",
       "  1699.68,260.14 1709.73,218.521 1719.78,275.578 1729.83,239.172 1739.89,209.173 1749.94,387.31 1759.99,265.528 1770.04,287.679 1780.09,351.483 1790.15,555.886 \n",
       "  1800.2,558.954 1810.25,700.458 1820.3,429.809 1830.35,273.485 1840.41,374.145 1850.46,235.298 1860.51,193.354 1870.56,215.713 1880.61,315.973 1890.67,201.587 \n",
       "  1900.72,217.627 1910.77,172.487 1920.82,341.958 1930.87,212.773 1940.93,226.711 1950.98,164.906 1961.03,252.327 1971.08,407.662 1981.13,277.997 1991.19,221.382 \n",
       "  2001.24,203.158 2011.29,171.837 2021.34,205.428 2031.39,233.962 2041.45,264.768 2051.5,242.95 2061.55,404.347 2071.6,373.515 2081.65,220.549 2091.71,238.913 \n",
       "  2101.76,230.364 2111.81,226.948 2121.86,140.546 2131.91,253.807 2141.97,392.506 2152.02,899.786 2162.07,342.72 2172.12,323.024 2182.17,290.361 2192.23,925.126 \n",
       "  2202.28,1224.77 2212.33,874.913 2222.38,835.81 2232.43,1239.36 2242.49,1168.18 2252.54,1372.3 2262.59,738.074 2272.64,303.896 2282.69,323.739 2292.75,269.532 \n",
       "  \n",
       "  \"/>\n",
       "</svg>\n"
      ]
     },
     "execution_count": 43,
     "metadata": {},
     "output_type": "execute_result"
    }
   ],
   "source": [
    "plot(iterations, rewards, xlabel=\"Iterations\", ylabel=\"Reward\", legend = false, xformatter = :scientific)"
   ]
  },
  {
   "cell_type": "code",
   "execution_count": 44,
   "id": "405bd6ad",
   "metadata": {},
   "outputs": [
    {
     "data": {
      "text/plain": [
       "\"/home/larissa/Documents/Projects/ADLR/ADLR_project/src/RL_3D_quadcopter_PPO/office_test/plots/fast/reward.svg\""
      ]
     },
     "execution_count": 44,
     "metadata": {},
     "output_type": "execute_result"
    }
   ],
   "source": [
    "savefig(fig_path * \"reward.svg\")"
   ]
  },
  {
   "cell_type": "code",
   "execution_count": 45,
   "id": "9535a7a5",
   "metadata": {},
   "outputs": [
    {
     "data": {
      "image/svg+xml": [
       "<?xml version=\"1.0\" encoding=\"utf-8\"?>\n",
       "<svg xmlns=\"http://www.w3.org/2000/svg\" xmlns:xlink=\"http://www.w3.org/1999/xlink\" width=\"600\" height=\"400\" viewBox=\"0 0 2400 1600\">\n",
       "<defs>\n",
       "  <clipPath id=\"clip470\">\n",
       "    <rect x=\"0\" y=\"0\" width=\"2400\" height=\"1600\"/>\n",
       "  </clipPath>\n",
       "</defs>\n",
       "<path clip-path=\"url(#clip470)\" d=\"\n",
       "M0 1600 L2400 1600 L2400 0 L0 0  Z\n",
       "  \" fill=\"#ffffff\" fill-rule=\"evenodd\" fill-opacity=\"1\"/>\n",
       "<defs>\n",
       "  <clipPath id=\"clip471\">\n",
       "    <rect x=\"480\" y=\"0\" width=\"1681\" height=\"1600\"/>\n",
       "  </clipPath>\n",
       "</defs>\n",
       "<path clip-path=\"url(#clip470)\" d=\"\n",
       "M249.542 1410.9 L2352.76 1410.9 L2352.76 47.2441 L249.542 47.2441  Z\n",
       "  \" fill=\"#ffffff\" fill-rule=\"evenodd\" fill-opacity=\"1\"/>\n",
       "<defs>\n",
       "  <clipPath id=\"clip472\">\n",
       "    <rect x=\"249\" y=\"47\" width=\"2104\" height=\"1365\"/>\n",
       "  </clipPath>\n",
       "</defs>\n",
       "<polyline clip-path=\"url(#clip472)\" style=\"stroke:#000000; stroke-linecap:round; stroke-linejoin:round; stroke-width:2; stroke-opacity:0.1; fill:none\" points=\"\n",
       "  299.096,1410.9 299.096,47.2441 \n",
       "  \"/>\n",
       "<polyline clip-path=\"url(#clip472)\" style=\"stroke:#000000; stroke-linecap:round; stroke-linejoin:round; stroke-width:2; stroke-opacity:0.1; fill:none\" points=\"\n",
       "  797.63,1410.9 797.63,47.2441 \n",
       "  \"/>\n",
       "<polyline clip-path=\"url(#clip472)\" style=\"stroke:#000000; stroke-linecap:round; stroke-linejoin:round; stroke-width:2; stroke-opacity:0.1; fill:none\" points=\"\n",
       "  1296.16,1410.9 1296.16,47.2441 \n",
       "  \"/>\n",
       "<polyline clip-path=\"url(#clip472)\" style=\"stroke:#000000; stroke-linecap:round; stroke-linejoin:round; stroke-width:2; stroke-opacity:0.1; fill:none\" points=\"\n",
       "  1794.7,1410.9 1794.7,47.2441 \n",
       "  \"/>\n",
       "<polyline clip-path=\"url(#clip472)\" style=\"stroke:#000000; stroke-linecap:round; stroke-linejoin:round; stroke-width:2; stroke-opacity:0.1; fill:none\" points=\"\n",
       "  2293.23,1410.9 2293.23,47.2441 \n",
       "  \"/>\n",
       "<polyline clip-path=\"url(#clip470)\" style=\"stroke:#000000; stroke-linecap:round; stroke-linejoin:round; stroke-width:4; stroke-opacity:1; fill:none\" points=\"\n",
       "  249.542,1410.9 2352.76,1410.9 \n",
       "  \"/>\n",
       "<polyline clip-path=\"url(#clip470)\" style=\"stroke:#000000; stroke-linecap:round; stroke-linejoin:round; stroke-width:4; stroke-opacity:1; fill:none\" points=\"\n",
       "  299.096,1410.9 299.096,1392 \n",
       "  \"/>\n",
       "<polyline clip-path=\"url(#clip470)\" style=\"stroke:#000000; stroke-linecap:round; stroke-linejoin:round; stroke-width:4; stroke-opacity:1; fill:none\" points=\"\n",
       "  797.63,1410.9 797.63,1392 \n",
       "  \"/>\n",
       "<polyline clip-path=\"url(#clip470)\" style=\"stroke:#000000; stroke-linecap:round; stroke-linejoin:round; stroke-width:4; stroke-opacity:1; fill:none\" points=\"\n",
       "  1296.16,1410.9 1296.16,1392 \n",
       "  \"/>\n",
       "<polyline clip-path=\"url(#clip470)\" style=\"stroke:#000000; stroke-linecap:round; stroke-linejoin:round; stroke-width:4; stroke-opacity:1; fill:none\" points=\"\n",
       "  1794.7,1410.9 1794.7,1392 \n",
       "  \"/>\n",
       "<polyline clip-path=\"url(#clip470)\" style=\"stroke:#000000; stroke-linecap:round; stroke-linejoin:round; stroke-width:4; stroke-opacity:1; fill:none\" points=\"\n",
       "  2293.23,1410.9 2293.23,1392 \n",
       "  \"/>\n",
       "<path clip-path=\"url(#clip470)\" d=\"M299.096 1441.82 Q295.485 1441.82 293.656 1445.38 Q291.851 1448.92 291.851 1456.05 Q291.851 1463.16 293.656 1466.72 Q295.485 1470.26 299.096 1470.26 Q302.731 1470.26 304.536 1466.72 Q306.365 1463.16 306.365 1456.05 Q306.365 1448.92 304.536 1445.38 Q302.731 1441.82 299.096 1441.82 M299.096 1438.11 Q304.906 1438.11 307.962 1442.72 Q311.041 1447.3 311.041 1456.05 Q311.041 1464.78 307.962 1469.38 Q304.906 1473.97 299.096 1473.97 Q293.286 1473.97 290.207 1469.38 Q287.152 1464.78 287.152 1456.05 Q287.152 1447.3 290.207 1442.72 Q293.286 1438.11 299.096 1438.11 Z\" fill=\"#000000\" fill-rule=\"evenodd\" fill-opacity=\"1\" /><path clip-path=\"url(#clip470)\" d=\"M689.995 1454.4 L708.352 1454.4 L708.352 1458.33 L694.278 1458.33 L694.278 1466.8 Q695.296 1466.46 696.315 1466.29 Q697.333 1466.11 698.352 1466.11 Q704.139 1466.11 707.518 1469.28 Q710.898 1472.45 710.898 1477.87 Q710.898 1483.45 707.426 1486.55 Q703.954 1489.63 697.634 1489.63 Q695.458 1489.63 693.19 1489.26 Q690.944 1488.89 688.537 1488.15 L688.537 1483.45 Q690.62 1484.58 692.842 1485.14 Q695.065 1485.69 697.542 1485.69 Q701.546 1485.69 703.884 1483.59 Q706.222 1481.48 706.222 1477.87 Q706.222 1474.26 703.884 1472.15 Q701.546 1470.04 697.542 1470.04 Q695.667 1470.04 693.792 1470.46 Q691.94 1470.88 689.995 1471.76 L689.995 1454.4 Z\" fill=\"#000000\" fill-rule=\"evenodd\" fill-opacity=\"1\" /><path clip-path=\"url(#clip470)\" d=\"M720.111 1483.08 L724.995 1483.08 L724.995 1488.96 L720.111 1488.96 L720.111 1483.08 Z\" fill=\"#000000\" fill-rule=\"evenodd\" fill-opacity=\"1\" /><path clip-path=\"url(#clip470)\" d=\"M745.18 1457.48 Q741.569 1457.48 739.74 1461.04 Q737.935 1464.58 737.935 1471.71 Q737.935 1478.82 739.74 1482.38 Q741.569 1485.92 745.18 1485.92 Q748.814 1485.92 750.62 1482.38 Q752.449 1478.82 752.449 1471.71 Q752.449 1464.58 750.62 1461.04 Q748.814 1457.48 745.18 1457.48 M745.18 1453.77 Q750.99 1453.77 754.046 1458.38 Q757.125 1462.96 757.125 1471.71 Q757.125 1480.44 754.046 1485.04 Q750.99 1489.63 745.18 1489.63 Q739.37 1489.63 736.291 1485.04 Q733.236 1480.44 733.236 1471.71 Q733.236 1462.96 736.291 1458.38 Q739.37 1453.77 745.18 1453.77 Z\" fill=\"#000000\" fill-rule=\"evenodd\" fill-opacity=\"1\" /><path clip-path=\"url(#clip470)\" d=\"M775.342 1457.48 Q771.731 1457.48 769.902 1461.04 Q768.097 1464.58 768.097 1471.71 Q768.097 1478.82 769.902 1482.38 Q771.731 1485.92 775.342 1485.92 Q778.976 1485.92 780.782 1482.38 Q782.611 1478.82 782.611 1471.71 Q782.611 1464.58 780.782 1461.04 Q778.976 1457.48 775.342 1457.48 M775.342 1453.77 Q781.152 1453.77 784.208 1458.38 Q787.286 1462.96 787.286 1471.71 Q787.286 1480.44 784.208 1485.04 Q781.152 1489.63 775.342 1489.63 Q769.532 1489.63 766.453 1485.04 Q763.398 1480.44 763.398 1471.71 Q763.398 1462.96 766.453 1458.38 Q769.532 1453.77 775.342 1453.77 Z\" fill=\"#000000\" fill-rule=\"evenodd\" fill-opacity=\"1\" /><path clip-path=\"url(#clip470)\" d=\"M823.675 1463.49 L813.096 1474.12 L823.675 1484.7 L820.92 1487.5 L810.296 1476.87 L799.671 1487.5 L796.939 1484.7 L807.495 1474.12 L796.939 1463.49 L799.671 1460.69 L810.296 1471.32 L820.92 1460.69 L823.675 1463.49 Z\" fill=\"#000000\" fill-rule=\"evenodd\" fill-opacity=\"1\" /><path clip-path=\"url(#clip470)\" d=\"M836.036 1485.02 L843.675 1485.02 L843.675 1458.66 L835.365 1460.32 L835.365 1456.06 L843.629 1454.4 L848.305 1454.4 L848.305 1485.02 L855.943 1485.02 L855.943 1488.96 L836.036 1488.96 L836.036 1485.02 Z\" fill=\"#000000\" fill-rule=\"evenodd\" fill-opacity=\"1\" /><path clip-path=\"url(#clip470)\" d=\"M875.388 1457.48 Q871.777 1457.48 869.948 1461.04 Q868.142 1464.58 868.142 1471.71 Q868.142 1478.82 869.948 1482.38 Q871.777 1485.92 875.388 1485.92 Q879.022 1485.92 880.828 1482.38 Q882.656 1478.82 882.656 1471.71 Q882.656 1464.58 880.828 1461.04 Q879.022 1457.48 875.388 1457.48 M875.388 1453.77 Q881.198 1453.77 884.253 1458.38 Q887.332 1462.96 887.332 1471.71 Q887.332 1480.44 884.253 1485.04 Q881.198 1489.63 875.388 1489.63 Q869.578 1489.63 866.499 1485.04 Q863.443 1480.44 863.443 1471.71 Q863.443 1462.96 866.499 1458.38 Q869.578 1453.77 875.388 1453.77 Z\" fill=\"#000000\" fill-rule=\"evenodd\" fill-opacity=\"1\" /><path clip-path=\"url(#clip470)\" d=\"M897.357 1445.99 Q894.799 1445.99 893.294 1447.74 Q891.808 1449.49 891.808 1452.54 Q891.808 1455.57 893.294 1457.33 Q894.799 1459.08 897.357 1459.08 Q899.915 1459.08 901.4 1457.33 Q902.905 1455.57 902.905 1452.54 Q902.905 1449.49 901.4 1447.74 Q899.915 1445.99 897.357 1445.99 M904.899 1434.09 L904.899 1437.55 Q903.469 1436.87 902.002 1436.51 Q900.554 1436.16 899.125 1436.16 Q895.363 1436.16 893.369 1438.69 Q891.395 1441.23 891.113 1446.37 Q892.222 1444.73 893.896 1443.87 Q895.57 1442.98 897.582 1442.98 Q901.814 1442.98 904.259 1445.56 Q906.723 1448.12 906.723 1452.54 Q906.723 1456.86 904.165 1459.48 Q901.607 1462.09 897.357 1462.09 Q892.485 1462.09 889.909 1458.37 Q887.332 1454.62 887.332 1447.53 Q887.332 1440.88 890.492 1436.93 Q893.652 1432.96 898.974 1432.96 Q900.404 1432.96 901.852 1433.24 Q903.319 1433.52 904.899 1434.09 Z\" fill=\"#000000\" fill-rule=\"evenodd\" fill-opacity=\"1\" /><path clip-path=\"url(#clip470)\" d=\"M1189.19 1485.02 L1196.82 1485.02 L1196.82 1458.66 L1188.51 1460.32 L1188.51 1456.06 L1196.78 1454.4 L1201.45 1454.4 L1201.45 1485.02 L1209.09 1485.02 L1209.09 1488.96 L1189.19 1488.96 L1189.19 1485.02 Z\" fill=\"#000000\" fill-rule=\"evenodd\" fill-opacity=\"1\" /><path clip-path=\"url(#clip470)\" d=\"M1218.54 1483.08 L1223.42 1483.08 L1223.42 1488.96 L1218.54 1488.96 L1218.54 1483.08 Z\" fill=\"#000000\" fill-rule=\"evenodd\" fill-opacity=\"1\" /><path clip-path=\"url(#clip470)\" d=\"M1243.61 1457.48 Q1239.99 1457.48 1238.17 1461.04 Q1236.36 1464.58 1236.36 1471.71 Q1236.36 1478.82 1238.17 1482.38 Q1239.99 1485.92 1243.61 1485.92 Q1247.24 1485.92 1249.05 1482.38 Q1250.87 1478.82 1250.87 1471.71 Q1250.87 1464.58 1249.05 1461.04 Q1247.24 1457.48 1243.61 1457.48 M1243.61 1453.77 Q1249.42 1453.77 1252.47 1458.38 Q1255.55 1462.96 1255.55 1471.71 Q1255.55 1480.44 1252.47 1485.04 Q1249.42 1489.63 1243.61 1489.63 Q1237.8 1489.63 1234.72 1485.04 Q1231.66 1480.44 1231.66 1471.71 Q1231.66 1462.96 1234.72 1458.38 Q1237.8 1453.77 1243.61 1453.77 Z\" fill=\"#000000\" fill-rule=\"evenodd\" fill-opacity=\"1\" /><path clip-path=\"url(#clip470)\" d=\"M1273.77 1457.48 Q1270.16 1457.48 1268.33 1461.04 Q1266.52 1464.58 1266.52 1471.71 Q1266.52 1478.82 1268.33 1482.38 Q1270.16 1485.92 1273.77 1485.92 Q1277.4 1485.92 1279.21 1482.38 Q1281.04 1478.82 1281.04 1471.71 Q1281.04 1464.58 1279.21 1461.04 Q1277.4 1457.48 1273.77 1457.48 M1273.77 1453.77 Q1279.58 1453.77 1282.63 1458.38 Q1285.71 1462.96 1285.71 1471.71 Q1285.71 1480.44 1282.63 1485.04 Q1279.58 1489.63 1273.77 1489.63 Q1267.96 1489.63 1264.88 1485.04 Q1261.82 1480.44 1261.82 1471.71 Q1261.82 1462.96 1264.88 1458.38 Q1267.96 1453.77 1273.77 1453.77 Z\" fill=\"#000000\" fill-rule=\"evenodd\" fill-opacity=\"1\" /><path clip-path=\"url(#clip470)\" d=\"M1322.1 1463.49 L1311.52 1474.12 L1322.1 1484.7 L1319.35 1487.5 L1308.72 1476.87 L1298.1 1487.5 L1295.37 1484.7 L1305.92 1474.12 L1295.37 1463.49 L1298.1 1460.69 L1308.72 1471.32 L1319.35 1460.69 L1322.1 1463.49 Z\" fill=\"#000000\" fill-rule=\"evenodd\" fill-opacity=\"1\" /><path clip-path=\"url(#clip470)\" d=\"M1334.46 1485.02 L1342.1 1485.02 L1342.1 1458.66 L1333.79 1460.32 L1333.79 1456.06 L1342.05 1454.4 L1346.73 1454.4 L1346.73 1485.02 L1354.37 1485.02 L1354.37 1488.96 L1334.46 1488.96 L1334.46 1485.02 Z\" fill=\"#000000\" fill-rule=\"evenodd\" fill-opacity=\"1\" /><path clip-path=\"url(#clip470)\" d=\"M1373.81 1457.48 Q1370.2 1457.48 1368.37 1461.04 Q1366.57 1464.58 1366.57 1471.71 Q1366.57 1478.82 1368.37 1482.38 Q1370.2 1485.92 1373.81 1485.92 Q1377.45 1485.92 1379.25 1482.38 Q1381.08 1478.82 1381.08 1471.71 Q1381.08 1464.58 1379.25 1461.04 Q1377.45 1457.48 1373.81 1457.48 M1373.81 1453.77 Q1379.62 1453.77 1382.68 1458.38 Q1385.76 1462.96 1385.76 1471.71 Q1385.76 1480.44 1382.68 1485.04 Q1379.62 1489.63 1373.81 1489.63 Q1368 1489.63 1364.92 1485.04 Q1361.87 1480.44 1361.87 1471.71 Q1361.87 1462.96 1364.92 1458.38 Q1368 1453.77 1373.81 1453.77 Z\" fill=\"#000000\" fill-rule=\"evenodd\" fill-opacity=\"1\" /><path clip-path=\"url(#clip470)\" d=\"M1385.76 1433.47 L1403.81 1433.47 L1403.81 1435.08 L1393.62 1461.55 L1389.65 1461.55 L1399.24 1436.66 L1385.76 1436.66 L1385.76 1433.47 Z\" fill=\"#000000\" fill-rule=\"evenodd\" fill-opacity=\"1\" /><path clip-path=\"url(#clip470)\" d=\"M1687.72 1485.02 L1695.36 1485.02 L1695.36 1458.66 L1687.05 1460.32 L1687.05 1456.06 L1695.31 1454.4 L1699.99 1454.4 L1699.99 1485.02 L1707.63 1485.02 L1707.63 1488.96 L1687.72 1488.96 L1687.72 1485.02 Z\" fill=\"#000000\" fill-rule=\"evenodd\" fill-opacity=\"1\" /><path clip-path=\"url(#clip470)\" d=\"M1717.07 1483.08 L1721.95 1483.08 L1721.95 1488.96 L1717.07 1488.96 L1717.07 1483.08 Z\" fill=\"#000000\" fill-rule=\"evenodd\" fill-opacity=\"1\" /><path clip-path=\"url(#clip470)\" d=\"M1732.19 1454.4 L1750.54 1454.4 L1750.54 1458.33 L1736.47 1458.33 L1736.47 1466.8 Q1737.49 1466.46 1738.51 1466.29 Q1739.52 1466.11 1740.54 1466.11 Q1746.33 1466.11 1749.71 1469.28 Q1753.09 1472.45 1753.09 1477.87 Q1753.09 1483.45 1749.62 1486.55 Q1746.14 1489.63 1739.82 1489.63 Q1737.65 1489.63 1735.38 1489.26 Q1733.14 1488.89 1730.73 1488.15 L1730.73 1483.45 Q1732.81 1484.58 1735.03 1485.14 Q1737.26 1485.69 1739.73 1485.69 Q1743.74 1485.69 1746.07 1483.59 Q1748.41 1481.48 1748.41 1477.87 Q1748.41 1474.26 1746.07 1472.15 Q1743.74 1470.04 1739.73 1470.04 Q1737.86 1470.04 1735.98 1470.46 Q1734.13 1470.88 1732.19 1471.76 L1732.19 1454.4 Z\" fill=\"#000000\" fill-rule=\"evenodd\" fill-opacity=\"1\" /><path clip-path=\"url(#clip470)\" d=\"M1772.3 1457.48 Q1768.69 1457.48 1766.86 1461.04 Q1765.06 1464.58 1765.06 1471.71 Q1765.06 1478.82 1766.86 1482.38 Q1768.69 1485.92 1772.3 1485.92 Q1775.94 1485.92 1777.74 1482.38 Q1779.57 1478.82 1779.57 1471.71 Q1779.57 1464.58 1777.74 1461.04 Q1775.94 1457.48 1772.3 1457.48 M1772.3 1453.77 Q1778.11 1453.77 1781.17 1458.38 Q1784.25 1462.96 1784.25 1471.71 Q1784.25 1480.44 1781.17 1485.04 Q1778.11 1489.63 1772.3 1489.63 Q1766.49 1489.63 1763.41 1485.04 Q1760.36 1480.44 1760.36 1471.71 Q1760.36 1462.96 1763.41 1458.38 Q1766.49 1453.77 1772.3 1453.77 Z\" fill=\"#000000\" fill-rule=\"evenodd\" fill-opacity=\"1\" /><path clip-path=\"url(#clip470)\" d=\"M1820.63 1463.49 L1810.06 1474.12 L1820.63 1484.7 L1817.88 1487.5 L1807.26 1476.87 L1796.63 1487.5 L1793.9 1484.7 L1804.45 1474.12 L1793.9 1463.49 L1796.63 1460.69 L1807.26 1471.32 L1817.88 1460.69 L1820.63 1463.49 Z\" fill=\"#000000\" fill-rule=\"evenodd\" fill-opacity=\"1\" /><path clip-path=\"url(#clip470)\" d=\"M1833 1485.02 L1840.63 1485.02 L1840.63 1458.66 L1832.32 1460.32 L1832.32 1456.06 L1840.59 1454.4 L1845.26 1454.4 L1845.26 1485.02 L1852.9 1485.02 L1852.9 1488.96 L1833 1488.96 L1833 1485.02 Z\" fill=\"#000000\" fill-rule=\"evenodd\" fill-opacity=\"1\" /><path clip-path=\"url(#clip470)\" d=\"M1872.35 1457.48 Q1868.74 1457.48 1866.91 1461.04 Q1865.1 1464.58 1865.1 1471.71 Q1865.1 1478.82 1866.91 1482.38 Q1868.74 1485.92 1872.35 1485.92 Q1875.98 1485.92 1877.79 1482.38 Q1879.62 1478.82 1879.62 1471.71 Q1879.62 1464.58 1877.79 1461.04 Q1875.98 1457.48 1872.35 1457.48 M1872.35 1453.77 Q1878.16 1453.77 1881.21 1458.38 Q1884.29 1462.96 1884.29 1471.71 Q1884.29 1480.44 1881.21 1485.04 Q1878.16 1489.63 1872.35 1489.63 Q1866.54 1489.63 1863.46 1485.04 Q1860.4 1480.44 1860.4 1471.71 Q1860.4 1462.96 1863.46 1458.38 Q1866.54 1453.77 1872.35 1453.77 Z\" fill=\"#000000\" fill-rule=\"evenodd\" fill-opacity=\"1\" /><path clip-path=\"url(#clip470)\" d=\"M1884.29 1433.47 L1902.35 1433.47 L1902.35 1435.08 L1892.15 1461.55 L1888.18 1461.55 L1897.78 1436.66 L1884.29 1436.66 L1884.29 1433.47 Z\" fill=\"#000000\" fill-rule=\"evenodd\" fill-opacity=\"1\" /><path clip-path=\"url(#clip470)\" d=\"M2190.34 1485.02 L2206.66 1485.02 L2206.66 1488.96 L2184.71 1488.96 L2184.71 1485.02 Q2187.38 1482.27 2191.96 1477.64 Q2196.56 1472.98 2197.75 1471.64 Q2199.99 1469.12 2200.87 1467.38 Q2201.77 1465.62 2201.77 1463.93 Q2201.77 1461.18 2199.83 1459.44 Q2197.91 1457.71 2194.81 1457.71 Q2192.61 1457.71 2190.15 1458.47 Q2187.72 1459.23 2184.94 1460.79 L2184.94 1456.06 Q2187.77 1454.93 2190.22 1454.35 Q2192.68 1453.77 2194.71 1453.77 Q2200.08 1453.77 2203.28 1456.46 Q2206.47 1459.14 2206.47 1463.63 Q2206.47 1465.76 2205.66 1467.68 Q2204.87 1469.58 2202.77 1472.17 Q2202.19 1472.85 2199.09 1476.06 Q2195.99 1479.26 2190.34 1485.02 Z\" fill=\"#000000\" fill-rule=\"evenodd\" fill-opacity=\"1\" /><path clip-path=\"url(#clip470)\" d=\"M2216.47 1483.08 L2221.36 1483.08 L2221.36 1488.96 L2216.47 1488.96 L2216.47 1483.08 Z\" fill=\"#000000\" fill-rule=\"evenodd\" fill-opacity=\"1\" /><path clip-path=\"url(#clip470)\" d=\"M2241.54 1457.48 Q2237.93 1457.48 2236.1 1461.04 Q2234.3 1464.58 2234.3 1471.71 Q2234.3 1478.82 2236.1 1482.38 Q2237.93 1485.92 2241.54 1485.92 Q2245.18 1485.92 2246.98 1482.38 Q2248.81 1478.82 2248.81 1471.71 Q2248.81 1464.58 2246.98 1461.04 Q2245.18 1457.48 2241.54 1457.48 M2241.54 1453.77 Q2247.35 1453.77 2250.41 1458.38 Q2253.49 1462.96 2253.49 1471.71 Q2253.49 1480.44 2250.41 1485.04 Q2247.35 1489.63 2241.54 1489.63 Q2235.73 1489.63 2232.65 1485.04 Q2229.6 1480.44 2229.6 1471.71 Q2229.6 1462.96 2232.65 1458.38 Q2235.73 1453.77 2241.54 1453.77 Z\" fill=\"#000000\" fill-rule=\"evenodd\" fill-opacity=\"1\" /><path clip-path=\"url(#clip470)\" d=\"M2271.7 1457.48 Q2268.09 1457.48 2266.26 1461.04 Q2264.46 1464.58 2264.46 1471.71 Q2264.46 1478.82 2266.26 1482.38 Q2268.09 1485.92 2271.7 1485.92 Q2275.34 1485.92 2277.14 1482.38 Q2278.97 1478.82 2278.97 1471.71 Q2278.97 1464.58 2277.14 1461.04 Q2275.34 1457.48 2271.7 1457.48 M2271.7 1453.77 Q2277.51 1453.77 2280.57 1458.38 Q2283.65 1462.96 2283.65 1471.71 Q2283.65 1480.44 2280.57 1485.04 Q2277.51 1489.63 2271.7 1489.63 Q2265.89 1489.63 2262.81 1485.04 Q2259.76 1480.44 2259.76 1471.71 Q2259.76 1462.96 2262.81 1458.38 Q2265.89 1453.77 2271.7 1453.77 Z\" fill=\"#000000\" fill-rule=\"evenodd\" fill-opacity=\"1\" /><path clip-path=\"url(#clip470)\" d=\"M2320.04 1463.49 L2309.46 1474.12 L2320.04 1484.7 L2317.28 1487.5 L2306.66 1476.87 L2296.03 1487.5 L2293.3 1484.7 L2303.86 1474.12 L2293.3 1463.49 L2296.03 1460.69 L2306.66 1471.32 L2317.28 1460.69 L2320.04 1463.49 Z\" fill=\"#000000\" fill-rule=\"evenodd\" fill-opacity=\"1\" /><path clip-path=\"url(#clip470)\" d=\"M2332.4 1485.02 L2340.04 1485.02 L2340.04 1458.66 L2331.73 1460.32 L2331.73 1456.06 L2339.99 1454.4 L2344.67 1454.4 L2344.67 1485.02 L2352.3 1485.02 L2352.3 1488.96 L2332.4 1488.96 L2332.4 1485.02 Z\" fill=\"#000000\" fill-rule=\"evenodd\" fill-opacity=\"1\" /><path clip-path=\"url(#clip470)\" d=\"M2371.75 1457.48 Q2368.14 1457.48 2366.31 1461.04 Q2364.5 1464.58 2364.5 1471.71 Q2364.5 1478.82 2366.31 1482.38 Q2368.14 1485.92 2371.75 1485.92 Q2375.38 1485.92 2377.19 1482.38 Q2379.02 1478.82 2379.02 1471.71 Q2379.02 1464.58 2377.19 1461.04 Q2375.38 1457.48 2371.75 1457.48 M2371.75 1453.77 Q2377.56 1453.77 2380.61 1458.38 Q2383.69 1462.96 2383.69 1471.71 Q2383.69 1480.44 2380.61 1485.04 Q2377.56 1489.63 2371.75 1489.63 Q2365.94 1489.63 2362.86 1485.04 Q2359.8 1480.44 2359.8 1471.71 Q2359.8 1462.96 2362.86 1458.38 Q2365.94 1453.77 2371.75 1453.77 Z\" fill=\"#000000\" fill-rule=\"evenodd\" fill-opacity=\"1\" /><path clip-path=\"url(#clip470)\" d=\"M2383.69 1433.47 L2401.75 1433.47 L2401.75 1435.08 L2391.56 1461.55 L2387.59 1461.55 L2397.18 1436.66 L2383.69 1436.66 L2383.69 1433.47 Z\" fill=\"#000000\" fill-rule=\"evenodd\" fill-opacity=\"1\" /><path clip-path=\"url(#clip470)\" d=\"M1150.71 1526.67 L1157.14 1526.67 L1157.14 1574.19 L1150.71 1574.19 L1150.71 1526.67 Z\" fill=\"#000000\" fill-rule=\"evenodd\" fill-opacity=\"1\" /><path clip-path=\"url(#clip470)\" d=\"M1175.47 1528.42 L1175.47 1538.54 L1187.54 1538.54 L1187.54 1543.09 L1175.47 1543.09 L1175.47 1562.44 Q1175.47 1566.8 1176.65 1568.04 Q1177.86 1569.28 1181.52 1569.28 L1187.54 1569.28 L1187.54 1574.19 L1181.52 1574.19 Q1174.74 1574.19 1172.16 1571.67 Q1169.59 1569.12 1169.59 1562.44 L1169.59 1543.09 L1165.29 1543.09 L1165.29 1538.54 L1169.59 1538.54 L1169.59 1528.42 L1175.47 1528.42 Z\" fill=\"#000000\" fill-rule=\"evenodd\" fill-opacity=\"1\" /><path clip-path=\"url(#clip470)\" d=\"M1225.73 1554.9 L1225.73 1557.76 L1198.8 1557.76 Q1199.19 1563.81 1202.43 1566.99 Q1205.71 1570.14 1211.54 1570.14 Q1214.91 1570.14 1218.06 1569.32 Q1221.24 1568.49 1224.36 1566.83 L1224.36 1572.37 Q1221.21 1573.71 1217.9 1574.41 Q1214.59 1575.11 1211.19 1575.11 Q1202.66 1575.11 1197.66 1570.14 Q1192.69 1565.18 1192.69 1556.71 Q1192.69 1547.96 1197.4 1542.83 Q1202.15 1537.68 1210.17 1537.68 Q1217.36 1537.68 1221.53 1542.33 Q1225.73 1546.94 1225.73 1554.9 M1219.87 1553.18 Q1219.81 1548.37 1217.17 1545.51 Q1214.56 1542.64 1210.23 1542.64 Q1205.33 1542.64 1202.37 1545.41 Q1199.44 1548.18 1199 1553.21 L1219.87 1553.18 Z\" fill=\"#000000\" fill-rule=\"evenodd\" fill-opacity=\"1\" /><path clip-path=\"url(#clip470)\" d=\"M1256 1544.01 Q1255.01 1543.44 1253.84 1543.18 Q1252.69 1542.9 1251.29 1542.9 Q1246.32 1542.9 1243.65 1546.14 Q1241.01 1549.36 1241.01 1555.41 L1241.01 1574.19 L1235.12 1574.19 L1235.12 1538.54 L1241.01 1538.54 L1241.01 1544.08 Q1242.86 1540.83 1245.82 1539.27 Q1248.78 1537.68 1253.01 1537.68 Q1253.61 1537.68 1254.35 1537.77 Q1255.08 1537.84 1255.97 1538 L1256 1544.01 Z\" fill=\"#000000\" fill-rule=\"evenodd\" fill-opacity=\"1\" /><path clip-path=\"url(#clip470)\" d=\"M1278.34 1556.27 Q1271.25 1556.27 1268.51 1557.89 Q1265.77 1559.51 1265.77 1563.43 Q1265.77 1566.55 1267.81 1568.39 Q1269.88 1570.21 1273.41 1570.21 Q1278.28 1570.21 1281.21 1566.77 Q1284.17 1563.3 1284.17 1557.57 L1284.17 1556.27 L1278.34 1556.27 M1290.02 1553.85 L1290.02 1574.19 L1284.17 1574.19 L1284.17 1568.77 Q1282.16 1572.02 1279.17 1573.58 Q1276.18 1575.11 1271.85 1575.11 Q1266.38 1575.11 1263.13 1572.05 Q1259.92 1568.97 1259.92 1563.81 Q1259.92 1557.79 1263.93 1554.74 Q1267.97 1551.68 1275.96 1551.68 L1284.17 1551.68 L1284.17 1551.11 Q1284.17 1547.07 1281.49 1544.87 Q1278.85 1542.64 1274.05 1542.64 Q1270.99 1542.64 1268.1 1543.38 Q1265.2 1544.11 1262.53 1545.57 L1262.53 1540.16 Q1265.74 1538.92 1268.76 1538.31 Q1271.79 1537.68 1274.65 1537.68 Q1282.39 1537.68 1286.21 1541.69 Q1290.02 1545.7 1290.02 1553.85 Z\" fill=\"#000000\" fill-rule=\"evenodd\" fill-opacity=\"1\" /><path clip-path=\"url(#clip470)\" d=\"M1307.88 1528.42 L1307.88 1538.54 L1319.94 1538.54 L1319.94 1543.09 L1307.88 1543.09 L1307.88 1562.44 Q1307.88 1566.8 1309.06 1568.04 Q1310.27 1569.28 1313.93 1569.28 L1319.94 1569.28 L1319.94 1574.19 L1313.93 1574.19 Q1307.15 1574.19 1304.57 1571.67 Q1301.99 1569.12 1301.99 1562.44 L1301.99 1543.09 L1297.7 1543.09 L1297.7 1538.54 L1301.99 1538.54 L1301.99 1528.42 L1307.88 1528.42 Z\" fill=\"#000000\" fill-rule=\"evenodd\" fill-opacity=\"1\" /><path clip-path=\"url(#clip470)\" d=\"M1327.65 1538.54 L1333.5 1538.54 L1333.5 1574.19 L1327.65 1574.19 L1327.65 1538.54 M1327.65 1524.66 L1333.5 1524.66 L1333.5 1532.08 L1327.65 1532.08 L1327.65 1524.66 Z\" fill=\"#000000\" fill-rule=\"evenodd\" fill-opacity=\"1\" /><path clip-path=\"url(#clip470)\" d=\"M1359.57 1542.64 Q1354.86 1542.64 1352.12 1546.34 Q1349.39 1550 1349.39 1556.39 Q1349.39 1562.79 1352.09 1566.48 Q1354.83 1570.14 1359.57 1570.14 Q1364.25 1570.14 1366.99 1566.45 Q1369.72 1562.76 1369.72 1556.39 Q1369.72 1550.06 1366.99 1546.37 Q1364.25 1542.64 1359.57 1542.64 M1359.57 1537.68 Q1367.21 1537.68 1371.57 1542.64 Q1375.93 1547.61 1375.93 1556.39 Q1375.93 1565.15 1371.57 1570.14 Q1367.21 1575.11 1359.57 1575.11 Q1351.9 1575.11 1347.54 1570.14 Q1343.21 1565.15 1343.21 1556.39 Q1343.21 1547.61 1347.54 1542.64 Q1351.9 1537.68 1359.57 1537.68 Z\" fill=\"#000000\" fill-rule=\"evenodd\" fill-opacity=\"1\" /><path clip-path=\"url(#clip470)\" d=\"M1415.27 1552.67 L1415.27 1574.19 L1409.41 1574.19 L1409.41 1552.86 Q1409.41 1547.8 1407.44 1545.29 Q1405.47 1542.77 1401.52 1542.77 Q1396.78 1542.77 1394.04 1545.79 Q1391.3 1548.82 1391.3 1554.04 L1391.3 1574.19 L1385.42 1574.19 L1385.42 1538.54 L1391.3 1538.54 L1391.3 1544.08 Q1393.4 1540.86 1396.24 1539.27 Q1399.1 1537.68 1402.83 1537.68 Q1408.97 1537.68 1412.12 1541.5 Q1415.27 1545.29 1415.27 1552.67 Z\" fill=\"#000000\" fill-rule=\"evenodd\" fill-opacity=\"1\" /><path clip-path=\"url(#clip470)\" d=\"M1449.68 1539.59 L1449.68 1545.13 Q1447.19 1543.85 1444.52 1543.22 Q1441.85 1542.58 1438.98 1542.58 Q1434.62 1542.58 1432.43 1543.92 Q1430.26 1545.25 1430.26 1547.93 Q1430.26 1549.96 1431.82 1551.14 Q1433.38 1552.29 1438.09 1553.34 L1440.1 1553.78 Q1446.33 1555.12 1448.94 1557.57 Q1451.59 1559.99 1451.59 1564.35 Q1451.59 1569.32 1447.64 1572.21 Q1443.72 1575.11 1436.85 1575.11 Q1433.99 1575.11 1430.87 1574.54 Q1427.78 1573.99 1424.34 1572.88 L1424.34 1566.83 Q1427.59 1568.52 1430.74 1569.38 Q1433.89 1570.21 1436.98 1570.21 Q1441.11 1570.21 1443.34 1568.81 Q1445.57 1567.37 1445.57 1564.8 Q1445.57 1562.41 1443.95 1561.14 Q1442.36 1559.86 1436.91 1558.68 L1434.88 1558.21 Q1429.43 1557.06 1427.01 1554.71 Q1424.6 1552.32 1424.6 1548.18 Q1424.6 1543.15 1428.16 1540.42 Q1431.73 1537.68 1438.28 1537.68 Q1441.53 1537.68 1444.39 1538.16 Q1447.26 1538.63 1449.68 1539.59 Z\" fill=\"#000000\" fill-rule=\"evenodd\" fill-opacity=\"1\" /><polyline clip-path=\"url(#clip472)\" style=\"stroke:#000000; stroke-linecap:round; stroke-linejoin:round; stroke-width:2; stroke-opacity:0.1; fill:none\" points=\"\n",
       "  249.542,1348.91 2352.76,1348.91 \n",
       "  \"/>\n",
       "<polyline clip-path=\"url(#clip472)\" style=\"stroke:#000000; stroke-linecap:round; stroke-linejoin:round; stroke-width:2; stroke-opacity:0.1; fill:none\" points=\"\n",
       "  249.542,1038.99 2352.76,1038.99 \n",
       "  \"/>\n",
       "<polyline clip-path=\"url(#clip472)\" style=\"stroke:#000000; stroke-linecap:round; stroke-linejoin:round; stroke-width:2; stroke-opacity:0.1; fill:none\" points=\"\n",
       "  249.542,729.07 2352.76,729.07 \n",
       "  \"/>\n",
       "<polyline clip-path=\"url(#clip472)\" style=\"stroke:#000000; stroke-linecap:round; stroke-linejoin:round; stroke-width:2; stroke-opacity:0.1; fill:none\" points=\"\n",
       "  249.542,419.149 2352.76,419.149 \n",
       "  \"/>\n",
       "<polyline clip-path=\"url(#clip472)\" style=\"stroke:#000000; stroke-linecap:round; stroke-linejoin:round; stroke-width:2; stroke-opacity:0.1; fill:none\" points=\"\n",
       "  249.542,109.228 2352.76,109.228 \n",
       "  \"/>\n",
       "<polyline clip-path=\"url(#clip470)\" style=\"stroke:#000000; stroke-linecap:round; stroke-linejoin:round; stroke-width:4; stroke-opacity:1; fill:none\" points=\"\n",
       "  249.542,1410.9 249.542,47.2441 \n",
       "  \"/>\n",
       "<polyline clip-path=\"url(#clip470)\" style=\"stroke:#000000; stroke-linecap:round; stroke-linejoin:round; stroke-width:4; stroke-opacity:1; fill:none\" points=\"\n",
       "  249.542,1348.91 268.44,1348.91 \n",
       "  \"/>\n",
       "<polyline clip-path=\"url(#clip470)\" style=\"stroke:#000000; stroke-linecap:round; stroke-linejoin:round; stroke-width:4; stroke-opacity:1; fill:none\" points=\"\n",
       "  249.542,1038.99 268.44,1038.99 \n",
       "  \"/>\n",
       "<polyline clip-path=\"url(#clip470)\" style=\"stroke:#000000; stroke-linecap:round; stroke-linejoin:round; stroke-width:4; stroke-opacity:1; fill:none\" points=\"\n",
       "  249.542,729.07 268.44,729.07 \n",
       "  \"/>\n",
       "<polyline clip-path=\"url(#clip470)\" style=\"stroke:#000000; stroke-linecap:round; stroke-linejoin:round; stroke-width:4; stroke-opacity:1; fill:none\" points=\"\n",
       "  249.542,419.149 268.44,419.149 \n",
       "  \"/>\n",
       "<polyline clip-path=\"url(#clip470)\" style=\"stroke:#000000; stroke-linecap:round; stroke-linejoin:round; stroke-width:4; stroke-opacity:1; fill:none\" points=\"\n",
       "  249.542,109.228 268.44,109.228 \n",
       "  \"/>\n",
       "<path clip-path=\"url(#clip470)\" d=\"M126.205 1334.71 Q122.593 1334.71 120.765 1338.28 Q118.959 1341.82 118.959 1348.95 Q118.959 1356.05 120.765 1359.62 Q122.593 1363.16 126.205 1363.16 Q129.839 1363.16 131.644 1359.62 Q133.473 1356.05 133.473 1348.95 Q133.473 1341.82 131.644 1338.28 Q129.839 1334.71 126.205 1334.71 M126.205 1331.01 Q132.015 1331.01 135.07 1335.61 Q138.149 1340.2 138.149 1348.95 Q138.149 1357.67 135.07 1362.28 Q132.015 1366.86 126.205 1366.86 Q120.394 1366.86 117.316 1362.28 Q114.26 1357.67 114.26 1348.95 Q114.26 1340.2 117.316 1335.61 Q120.394 1331.01 126.205 1331.01 Z\" fill=\"#000000\" fill-rule=\"evenodd\" fill-opacity=\"1\" /><path clip-path=\"url(#clip470)\" d=\"M146.366 1360.31 L151.251 1360.31 L151.251 1366.19 L146.366 1366.19 L146.366 1360.31 Z\" fill=\"#000000\" fill-rule=\"evenodd\" fill-opacity=\"1\" /><path clip-path=\"url(#clip470)\" d=\"M171.436 1334.71 Q167.825 1334.71 165.996 1338.28 Q164.19 1341.82 164.19 1348.95 Q164.19 1356.05 165.996 1359.62 Q167.825 1363.16 171.436 1363.16 Q175.07 1363.16 176.876 1359.62 Q178.704 1356.05 178.704 1348.95 Q178.704 1341.82 176.876 1338.28 Q175.07 1334.71 171.436 1334.71 M171.436 1331.01 Q177.246 1331.01 180.301 1335.61 Q183.38 1340.2 183.38 1348.95 Q183.38 1357.67 180.301 1362.28 Q177.246 1366.86 171.436 1366.86 Q165.626 1366.86 162.547 1362.28 Q159.491 1357.67 159.491 1348.95 Q159.491 1340.2 162.547 1335.61 Q165.626 1331.01 171.436 1331.01 Z\" fill=\"#000000\" fill-rule=\"evenodd\" fill-opacity=\"1\" /><path clip-path=\"url(#clip470)\" d=\"M201.598 1334.71 Q197.987 1334.71 196.158 1338.28 Q194.352 1341.82 194.352 1348.95 Q194.352 1356.05 196.158 1359.62 Q197.987 1363.16 201.598 1363.16 Q205.232 1363.16 207.037 1359.62 Q208.866 1356.05 208.866 1348.95 Q208.866 1341.82 207.037 1338.28 Q205.232 1334.71 201.598 1334.71 M201.598 1331.01 Q207.408 1331.01 210.463 1335.61 Q213.542 1340.2 213.542 1348.95 Q213.542 1357.67 210.463 1362.28 Q207.408 1366.86 201.598 1366.86 Q195.787 1366.86 192.709 1362.28 Q189.653 1357.67 189.653 1348.95 Q189.653 1340.2 192.709 1335.61 Q195.787 1331.01 201.598 1331.01 Z\" fill=\"#000000\" fill-rule=\"evenodd\" fill-opacity=\"1\" /><path clip-path=\"url(#clip470)\" d=\"M127.2 1024.79 Q123.589 1024.79 121.76 1028.35 Q119.955 1031.9 119.955 1039.03 Q119.955 1046.13 121.76 1049.7 Q123.589 1053.24 127.2 1053.24 Q130.834 1053.24 132.64 1049.7 Q134.468 1046.13 134.468 1039.03 Q134.468 1031.9 132.64 1028.35 Q130.834 1024.79 127.2 1024.79 M127.2 1021.09 Q133.01 1021.09 136.066 1025.69 Q139.144 1030.28 139.144 1039.03 Q139.144 1047.75 136.066 1052.36 Q133.01 1056.94 127.2 1056.94 Q121.39 1056.94 118.311 1052.36 Q115.256 1047.75 115.256 1039.03 Q115.256 1030.28 118.311 1025.69 Q121.39 1021.09 127.2 1021.09 Z\" fill=\"#000000\" fill-rule=\"evenodd\" fill-opacity=\"1\" /><path clip-path=\"url(#clip470)\" d=\"M147.362 1050.39 L152.246 1050.39 L152.246 1056.27 L147.362 1056.27 L147.362 1050.39 Z\" fill=\"#000000\" fill-rule=\"evenodd\" fill-opacity=\"1\" /><path clip-path=\"url(#clip470)\" d=\"M166.459 1052.34 L182.778 1052.34 L182.778 1056.27 L160.834 1056.27 L160.834 1052.34 Q163.496 1049.58 168.079 1044.95 Q172.686 1040.3 173.866 1038.96 Q176.112 1036.43 176.991 1034.7 Q177.894 1032.94 177.894 1031.25 Q177.894 1028.49 175.95 1026.76 Q174.028 1025.02 170.927 1025.02 Q168.727 1025.02 166.274 1025.79 Q163.843 1026.55 161.065 1028.1 L161.065 1023.38 Q163.89 1022.24 166.343 1021.67 Q168.797 1021.09 170.834 1021.09 Q176.204 1021.09 179.399 1023.77 Q182.593 1026.46 182.593 1030.95 Q182.593 1033.08 181.783 1035 Q180.996 1036.9 178.889 1039.49 Q178.311 1040.16 175.209 1043.38 Q172.107 1046.57 166.459 1052.34 Z\" fill=\"#000000\" fill-rule=\"evenodd\" fill-opacity=\"1\" /><path clip-path=\"url(#clip470)\" d=\"M192.639 1021.71 L210.996 1021.71 L210.996 1025.65 L196.922 1025.65 L196.922 1034.12 Q197.94 1033.77 198.959 1033.61 Q199.977 1033.42 200.996 1033.42 Q206.783 1033.42 210.162 1036.6 Q213.542 1039.77 213.542 1045.18 Q213.542 1050.76 210.07 1053.86 Q206.598 1056.94 200.278 1056.94 Q198.102 1056.94 195.834 1056.57 Q193.588 1056.2 191.181 1055.46 L191.181 1050.76 Q193.264 1051.9 195.487 1052.45 Q197.709 1053.01 200.186 1053.01 Q204.19 1053.01 206.528 1050.9 Q208.866 1048.79 208.866 1045.18 Q208.866 1041.57 206.528 1039.47 Q204.19 1037.36 200.186 1037.36 Q198.311 1037.36 196.436 1037.78 Q194.584 1038.19 192.639 1039.07 L192.639 1021.71 Z\" fill=\"#000000\" fill-rule=\"evenodd\" fill-opacity=\"1\" /><path clip-path=\"url(#clip470)\" d=\"M126.205 714.869 Q122.593 714.869 120.765 718.434 Q118.959 721.975 118.959 729.105 Q118.959 736.212 120.765 739.776 Q122.593 743.318 126.205 743.318 Q129.839 743.318 131.644 739.776 Q133.473 736.212 133.473 729.105 Q133.473 721.975 131.644 718.434 Q129.839 714.869 126.205 714.869 M126.205 711.165 Q132.015 711.165 135.07 715.772 Q138.149 720.355 138.149 729.105 Q138.149 737.832 135.07 742.438 Q132.015 747.022 126.205 747.022 Q120.394 747.022 117.316 742.438 Q114.26 737.832 114.26 729.105 Q114.26 720.355 117.316 715.772 Q120.394 711.165 126.205 711.165 Z\" fill=\"#000000\" fill-rule=\"evenodd\" fill-opacity=\"1\" /><path clip-path=\"url(#clip470)\" d=\"M146.366 740.471 L151.251 740.471 L151.251 746.35 L146.366 746.35 L146.366 740.471 Z\" fill=\"#000000\" fill-rule=\"evenodd\" fill-opacity=\"1\" /><path clip-path=\"url(#clip470)\" d=\"M161.482 711.79 L179.839 711.79 L179.839 715.726 L165.765 715.726 L165.765 724.198 Q166.783 723.85 167.802 723.688 Q168.82 723.503 169.839 723.503 Q175.626 723.503 179.005 726.675 Q182.385 729.846 182.385 735.262 Q182.385 740.841 178.913 743.943 Q175.44 747.022 169.121 747.022 Q166.945 747.022 164.677 746.651 Q162.431 746.281 160.024 745.54 L160.024 740.841 Q162.107 741.975 164.329 742.531 Q166.552 743.086 169.028 743.086 Q173.033 743.086 175.371 740.98 Q177.709 738.874 177.709 735.262 Q177.709 731.651 175.371 729.545 Q173.033 727.438 169.028 727.438 Q167.153 727.438 165.278 727.855 Q163.427 728.272 161.482 729.151 L161.482 711.79 Z\" fill=\"#000000\" fill-rule=\"evenodd\" fill-opacity=\"1\" /><path clip-path=\"url(#clip470)\" d=\"M201.598 714.869 Q197.987 714.869 196.158 718.434 Q194.352 721.975 194.352 729.105 Q194.352 736.212 196.158 739.776 Q197.987 743.318 201.598 743.318 Q205.232 743.318 207.037 739.776 Q208.866 736.212 208.866 729.105 Q208.866 721.975 207.037 718.434 Q205.232 714.869 201.598 714.869 M201.598 711.165 Q207.408 711.165 210.463 715.772 Q213.542 720.355 213.542 729.105 Q213.542 737.832 210.463 742.438 Q207.408 747.022 201.598 747.022 Q195.787 747.022 192.709 742.438 Q189.653 737.832 189.653 729.105 Q189.653 720.355 192.709 715.772 Q195.787 711.165 201.598 711.165 Z\" fill=\"#000000\" fill-rule=\"evenodd\" fill-opacity=\"1\" /><path clip-path=\"url(#clip470)\" d=\"M127.2 404.948 Q123.589 404.948 121.76 408.513 Q119.955 412.054 119.955 419.184 Q119.955 426.291 121.76 429.855 Q123.589 433.397 127.2 433.397 Q130.834 433.397 132.64 429.855 Q134.468 426.291 134.468 419.184 Q134.468 412.054 132.64 408.513 Q130.834 404.948 127.2 404.948 M127.2 401.244 Q133.01 401.244 136.066 405.851 Q139.144 410.434 139.144 419.184 Q139.144 427.911 136.066 432.517 Q133.01 437.101 127.2 437.101 Q121.39 437.101 118.311 432.517 Q115.256 427.911 115.256 419.184 Q115.256 410.434 118.311 405.851 Q121.39 401.244 127.2 401.244 Z\" fill=\"#000000\" fill-rule=\"evenodd\" fill-opacity=\"1\" /><path clip-path=\"url(#clip470)\" d=\"M147.362 430.55 L152.246 430.55 L152.246 436.429 L147.362 436.429 L147.362 430.55 Z\" fill=\"#000000\" fill-rule=\"evenodd\" fill-opacity=\"1\" /><path clip-path=\"url(#clip470)\" d=\"M161.251 401.869 L183.473 401.869 L183.473 403.86 L170.927 436.429 L166.042 436.429 L177.848 405.804 L161.251 405.804 L161.251 401.869 Z\" fill=\"#000000\" fill-rule=\"evenodd\" fill-opacity=\"1\" /><path clip-path=\"url(#clip470)\" d=\"M192.639 401.869 L210.996 401.869 L210.996 405.804 L196.922 405.804 L196.922 414.277 Q197.94 413.929 198.959 413.767 Q199.977 413.582 200.996 413.582 Q206.783 413.582 210.162 416.754 Q213.542 419.925 213.542 425.341 Q213.542 430.92 210.07 434.022 Q206.598 437.101 200.278 437.101 Q198.102 437.101 195.834 436.73 Q193.588 436.36 191.181 435.619 L191.181 430.92 Q193.264 432.054 195.487 432.61 Q197.709 433.165 200.186 433.165 Q204.19 433.165 206.528 431.059 Q208.866 428.953 208.866 425.341 Q208.866 421.73 206.528 419.624 Q204.19 417.517 200.186 417.517 Q198.311 417.517 196.436 417.934 Q194.584 418.351 192.639 419.23 L192.639 401.869 Z\" fill=\"#000000\" fill-rule=\"evenodd\" fill-opacity=\"1\" /><path clip-path=\"url(#clip470)\" d=\"M117.015 122.573 L124.654 122.573 L124.654 96.2075 L116.343 97.8742 L116.343 93.615 L124.607 91.9483 L129.283 91.9483 L129.283 122.573 L136.922 122.573 L136.922 126.508 L117.015 126.508 L117.015 122.573 Z\" fill=\"#000000\" fill-rule=\"evenodd\" fill-opacity=\"1\" /><path clip-path=\"url(#clip470)\" d=\"M146.366 120.629 L151.251 120.629 L151.251 126.508 L146.366 126.508 L146.366 120.629 Z\" fill=\"#000000\" fill-rule=\"evenodd\" fill-opacity=\"1\" /><path clip-path=\"url(#clip470)\" d=\"M171.436 95.027 Q167.825 95.027 165.996 98.5918 Q164.19 102.133 164.19 109.263 Q164.19 116.369 165.996 119.934 Q167.825 123.476 171.436 123.476 Q175.07 123.476 176.876 119.934 Q178.704 116.369 178.704 109.263 Q178.704 102.133 176.876 98.5918 Q175.07 95.027 171.436 95.027 M171.436 91.3233 Q177.246 91.3233 180.301 95.9298 Q183.38 100.513 183.38 109.263 Q183.38 117.99 180.301 122.596 Q177.246 127.18 171.436 127.18 Q165.626 127.18 162.547 122.596 Q159.491 117.99 159.491 109.263 Q159.491 100.513 162.547 95.9298 Q165.626 91.3233 171.436 91.3233 Z\" fill=\"#000000\" fill-rule=\"evenodd\" fill-opacity=\"1\" /><path clip-path=\"url(#clip470)\" d=\"M201.598 95.027 Q197.987 95.027 196.158 98.5918 Q194.352 102.133 194.352 109.263 Q194.352 116.369 196.158 119.934 Q197.987 123.476 201.598 123.476 Q205.232 123.476 207.037 119.934 Q208.866 116.369 208.866 109.263 Q208.866 102.133 207.037 98.5918 Q205.232 95.027 201.598 95.027 M201.598 91.3233 Q207.408 91.3233 210.463 95.9298 Q213.542 100.513 213.542 109.263 Q213.542 117.99 210.463 122.596 Q207.408 127.18 201.598 127.18 Q195.787 127.18 192.709 122.596 Q189.653 117.99 189.653 109.263 Q189.653 100.513 192.709 95.9298 Q195.787 91.3233 201.598 91.3233 Z\" fill=\"#000000\" fill-rule=\"evenodd\" fill-opacity=\"1\" /><path clip-path=\"url(#clip470)\" d=\"M18.0438 910.891 L24.314 910.891 Q22.5634 914.551 21.704 917.798 Q20.8447 921.044 20.8447 924.068 Q20.8447 929.32 22.8817 932.184 Q24.9187 935.017 28.6745 935.017 Q31.8255 935.017 33.4488 933.139 Q35.0402 931.229 36.0269 925.946 L36.8226 922.063 Q38.1912 914.869 41.6605 911.464 Q45.098 908.026 50.8908 908.026 Q57.7976 908.026 61.3624 912.673 Q64.9272 917.288 64.9272 926.232 Q64.9272 929.606 64.1633 933.425 Q63.3994 937.213 61.9035 941.287 L55.2831 941.287 Q57.4793 937.372 58.5933 933.616 Q59.7073 929.861 59.7073 926.232 Q59.7073 920.726 57.543 917.734 Q55.3786 914.742 51.3682 914.742 Q47.8671 914.742 45.8937 916.906 Q43.9204 919.039 42.9337 923.941 L42.1698 927.855 Q40.7375 935.049 37.682 938.263 Q34.6264 941.478 29.1837 941.478 Q22.8817 941.478 19.2532 937.054 Q15.6248 932.598 15.6248 924.8 Q15.6248 921.458 16.2295 917.989 Q16.8343 914.519 18.0438 910.891 Z\" fill=\"#000000\" fill-rule=\"evenodd\" fill-opacity=\"1\" /><path clip-path=\"url(#clip470)\" d=\"M49.9359 898.86 L28.3562 898.86 L28.3562 893.003 L49.7131 893.003 Q54.7739 893.003 57.3202 891.03 Q59.8346 889.056 59.8346 885.11 Q59.8346 880.367 56.8109 877.63 Q53.7872 874.861 48.5673 874.861 L28.3562 874.861 L28.3562 869.005 L64.0042 869.005 L64.0042 874.861 L58.5296 874.861 Q61.7762 876.993 63.3676 879.826 Q64.9272 882.627 64.9272 886.351 Q64.9272 892.494 61.1078 895.677 Q57.2883 898.86 49.9359 898.86 M27.4968 884.123 L27.4968 884.123 Z\" fill=\"#000000\" fill-rule=\"evenodd\" fill-opacity=\"1\" /><path clip-path=\"url(#clip470)\" d=\"M29.7248 831.288 L35.1993 831.288 Q33.8307 833.77 33.1623 836.285 Q32.4621 838.767 32.4621 841.314 Q32.4621 847.011 36.0905 850.162 Q39.6872 853.313 46.212 853.313 Q52.7369 853.313 56.3653 850.162 Q59.9619 847.011 59.9619 841.314 Q59.9619 838.767 59.2935 836.285 Q58.5933 833.77 57.2247 831.288 L62.6355 831.288 Q63.7814 833.738 64.3543 836.38 Q64.9272 838.99 64.9272 841.95 Q64.9272 850.003 59.8664 854.745 Q54.8057 859.488 46.212 859.488 Q37.491 859.488 32.4939 854.714 Q27.4968 849.907 27.4968 841.568 Q27.4968 838.863 28.0697 836.285 Q28.6108 833.707 29.7248 831.288 Z\" fill=\"#000000\" fill-rule=\"evenodd\" fill-opacity=\"1\" /><path clip-path=\"url(#clip470)\" d=\"M29.7248 795.449 L35.1993 795.449 Q33.8307 797.931 33.1623 800.446 Q32.4621 802.928 32.4621 805.475 Q32.4621 811.172 36.0905 814.323 Q39.6872 817.474 46.212 817.474 Q52.7369 817.474 56.3653 814.323 Q59.9619 811.172 59.9619 805.475 Q59.9619 802.928 59.2935 800.446 Q58.5933 797.931 57.2247 795.449 L62.6355 795.449 Q63.7814 797.9 64.3543 800.541 Q64.9272 803.151 64.9272 806.111 Q64.9272 814.164 59.8664 818.906 Q54.8057 823.649 46.212 823.649 Q37.491 823.649 32.4939 818.875 Q27.4968 814.068 27.4968 805.729 Q27.4968 803.024 28.0697 800.446 Q28.6108 797.868 29.7248 795.449 Z\" fill=\"#000000\" fill-rule=\"evenodd\" fill-opacity=\"1\" /><path clip-path=\"url(#clip470)\" d=\"M44.7161 754.772 L47.5806 754.772 L47.5806 781.699 Q53.6281 781.317 56.8109 778.07 Q59.9619 774.792 59.9619 768.967 Q59.9619 765.594 59.1344 762.443 Q58.3069 759.26 56.6518 756.141 L62.1899 756.141 Q63.5267 759.292 64.227 762.602 Q64.9272 765.912 64.9272 769.318 Q64.9272 777.848 59.9619 782.845 Q54.9967 787.81 46.5303 787.81 Q37.7774 787.81 32.6531 783.099 Q27.4968 778.357 27.4968 770.336 Q27.4968 763.143 32.1438 758.973 Q36.7589 754.772 44.7161 754.772 M42.9973 760.628 Q38.1912 760.692 35.3266 763.334 Q32.4621 765.944 32.4621 770.272 Q32.4621 775.174 35.2312 778.134 Q38.0002 781.062 43.0292 781.508 L42.9973 760.628 Z\" fill=\"#000000\" fill-rule=\"evenodd\" fill-opacity=\"1\" /><path clip-path=\"url(#clip470)\" d=\"M29.4065 722.434 L34.9447 722.434 Q33.6716 724.917 33.035 727.59 Q32.3984 730.264 32.3984 733.129 Q32.3984 737.489 33.7352 739.685 Q35.072 741.85 37.7456 741.85 Q39.7826 741.85 40.9603 740.29 Q42.1061 738.73 43.1565 734.02 L43.6021 732.015 Q44.9389 725.776 47.3897 723.166 Q49.8086 720.524 54.1691 720.524 Q59.1344 720.524 62.0308 724.471 Q64.9272 728.386 64.9272 735.261 Q64.9272 738.126 64.3543 741.245 Q63.8132 744.332 62.6992 747.77 L56.6518 747.77 Q58.3387 744.523 59.198 741.372 Q60.0256 738.221 60.0256 735.134 Q60.0256 730.996 58.6251 728.768 Q57.1929 726.54 54.6147 726.54 Q52.2276 726.54 50.9545 728.163 Q49.6813 729.755 48.5037 735.197 L48.0262 737.234 Q46.8804 742.677 44.5251 745.096 Q42.138 747.515 38.0002 747.515 Q32.9713 747.515 30.2341 743.95 Q27.4968 740.385 27.4968 733.829 Q27.4968 730.582 27.9743 727.718 Q28.4517 724.853 29.4065 722.434 Z\" fill=\"#000000\" fill-rule=\"evenodd\" fill-opacity=\"1\" /><path clip-path=\"url(#clip470)\" d=\"M29.4065 688.473 L34.9447 688.473 Q33.6716 690.956 33.035 693.629 Q32.3984 696.303 32.3984 699.167 Q32.3984 703.528 33.7352 705.724 Q35.072 707.888 37.7456 707.888 Q39.7826 707.888 40.9603 706.329 Q42.1061 704.769 43.1565 700.059 L43.6021 698.053 Q44.9389 691.815 47.3897 689.205 Q49.8086 686.563 54.1691 686.563 Q59.1344 686.563 62.0308 690.51 Q64.9272 694.425 64.9272 701.3 Q64.9272 704.165 64.3543 707.284 Q63.8132 710.371 62.6992 713.809 L56.6518 713.809 Q58.3387 710.562 59.198 707.411 Q60.0256 704.26 60.0256 701.173 Q60.0256 697.035 58.6251 694.807 Q57.1929 692.579 54.6147 692.579 Q52.2276 692.579 50.9545 694.202 Q49.6813 695.794 48.5037 701.236 L48.0262 703.273 Q46.8804 708.716 44.5251 711.135 Q42.138 713.554 38.0002 713.554 Q32.9713 713.554 30.2341 709.989 Q27.4968 706.424 27.4968 699.868 Q27.4968 696.621 27.9743 693.757 Q28.4517 690.892 29.4065 688.473 Z\" fill=\"#000000\" fill-rule=\"evenodd\" fill-opacity=\"1\" /><path clip-path=\"url(#clip470)\" d=\"M41.7242 633.728 Q42.4244 631.659 44.7161 629.718 Q47.0077 627.744 51.0181 625.771 L64.0042 619.246 L64.0042 626.153 L51.8138 632.232 Q47.0395 634.587 45.48 636.815 Q43.9204 639.012 43.9204 642.831 L43.9204 649.833 L64.0042 649.833 L64.0042 656.263 L16.4842 656.263 L16.4842 641.749 Q16.4842 633.601 19.8898 629.59 Q23.2955 625.58 30.1704 625.58 Q34.6582 625.58 37.6183 627.681 Q40.5784 629.749 41.7242 633.728 M21.7677 649.833 L38.6368 649.833 L38.6368 641.749 Q38.6368 637.102 36.5043 634.747 Q34.34 632.359 30.1704 632.359 Q26.0009 632.359 23.9002 634.747 Q21.7677 637.102 21.7677 641.749 L21.7677 649.833 Z\" fill=\"#000000\" fill-rule=\"evenodd\" fill-opacity=\"1\" /><path clip-path=\"url(#clip470)\" d=\"M46.0847 596.457 Q46.0847 603.555 47.7079 606.292 Q49.3312 609.029 53.2461 609.029 Q56.3653 609.029 58.2114 606.992 Q60.0256 604.923 60.0256 601.39 Q60.0256 596.52 56.5881 593.592 Q53.1188 590.632 47.3897 590.632 L46.0847 590.632 L46.0847 596.457 M43.6657 584.776 L64.0042 584.776 L64.0042 590.632 L58.5933 590.632 Q61.8398 592.637 63.3994 595.629 Q64.9272 598.621 64.9272 602.95 Q64.9272 608.424 61.8716 611.671 Q58.7843 614.886 53.6281 614.886 Q47.6125 614.886 44.5569 610.875 Q41.5014 606.833 41.5014 598.844 L41.5014 590.632 L40.9285 590.632 Q36.8862 590.632 34.6901 593.306 Q32.4621 595.948 32.4621 600.754 Q32.4621 603.809 33.1941 606.706 Q33.9262 609.602 35.3903 612.276 L29.9795 612.276 Q28.7381 609.061 28.1334 606.037 Q27.4968 603.013 27.4968 600.149 Q27.4968 592.415 31.5072 588.595 Q35.5176 584.776 43.6657 584.776 Z\" fill=\"#000000\" fill-rule=\"evenodd\" fill-opacity=\"1\" /><path clip-path=\"url(#clip470)\" d=\"M18.2347 566.92 L28.3562 566.92 L28.3562 554.857 L32.9077 554.857 L32.9077 566.92 L52.2594 566.92 Q56.6199 566.92 57.8613 565.742 Q59.1026 564.533 59.1026 560.872 L59.1026 554.857 L64.0042 554.857 L64.0042 560.872 Q64.0042 567.652 61.4897 570.23 Q58.9434 572.808 52.2594 572.808 L32.9077 572.808 L32.9077 577.105 L28.3562 577.105 L28.3562 572.808 L18.2347 572.808 L18.2347 566.92 Z\" fill=\"#000000\" fill-rule=\"evenodd\" fill-opacity=\"1\" /><path clip-path=\"url(#clip470)\" d=\"M44.7161 516.663 L47.5806 516.663 L47.5806 543.59 Q53.6281 543.208 56.8109 539.961 Q59.9619 536.683 59.9619 530.858 Q59.9619 527.484 59.1344 524.333 Q58.3069 521.15 56.6518 518.031 L62.1899 518.031 Q63.5267 521.182 64.227 524.492 Q64.9272 527.803 64.9272 531.208 Q64.9272 539.738 59.9619 544.735 Q54.9967 549.701 46.5303 549.701 Q37.7774 549.701 32.6531 544.99 Q27.4968 540.248 27.4968 532.227 Q27.4968 525.034 32.1438 520.864 Q36.7589 516.663 44.7161 516.663 M42.9973 522.519 Q38.1912 522.583 35.3266 525.225 Q32.4621 527.834 32.4621 532.163 Q32.4621 537.065 35.2312 540.025 Q38.0002 542.953 43.0292 543.399 L42.9973 522.519 Z\" fill=\"#000000\" fill-rule=\"evenodd\" fill-opacity=\"1\" /><polyline clip-path=\"url(#clip472)\" style=\"stroke:#009af9; stroke-linecap:round; stroke-linejoin:round; stroke-width:4; stroke-opacity:1; fill:none\" points=\"\n",
       "  309.067,115.427 319.038,109.228 329.008,109.228 338.979,109.228 348.95,109.228 358.92,109.228 368.891,109.228 378.862,109.228 388.832,109.228 398.803,109.228 \n",
       "  408.774,109.228 418.744,115.427 428.715,109.228 438.686,109.228 448.656,115.427 458.627,109.228 468.598,109.228 478.568,109.228 488.539,109.228 498.51,109.228 \n",
       "  508.48,109.228 518.451,109.228 528.422,109.228 538.392,115.427 548.363,109.228 558.334,115.427 568.304,115.427 578.275,115.427 588.246,109.228 598.216,109.228 \n",
       "  608.187,109.228 618.158,109.228 628.129,109.228 638.099,109.228 648.07,115.427 658.041,109.228 668.011,109.228 677.982,109.228 687.953,109.228 697.923,115.427 \n",
       "  707.894,109.228 717.865,127.824 727.835,134.022 737.806,177.411 747.777,140.22 757.747,134.022 767.718,115.427 777.689,115.427 787.659,115.427 797.63,109.228 \n",
       "  807.601,121.625 817.571,121.625 827.542,115.427 837.513,121.625 847.483,121.625 857.454,146.419 867.425,115.427 877.395,121.625 887.366,134.022 897.337,158.816 \n",
       "  907.307,158.816 917.278,140.22 927.249,183.609 937.219,220.8 947.19,189.808 957.161,183.609 967.131,127.824 977.102,171.213 987.073,140.22 997.043,158.816 \n",
       "  1007.01,140.22 1016.98,177.411 1026.96,134.022 1036.93,134.022 1046.9,134.022 1056.87,127.824 1066.84,177.411 1076.81,146.419 1086.78,134.022 1096.75,140.22 \n",
       "  1106.72,127.824 1116.69,134.022 1126.66,140.22 1136.63,264.189 1146.6,165.014 1156.57,140.22 1166.54,134.022 1176.52,196.006 1186.49,146.419 1196.46,177.411 \n",
       "  1206.43,140.22 1216.4,121.625 1226.37,288.983 1236.34,202.205 1246.31,295.181 1256.28,264.189 1266.25,134.022 1276.22,146.419 1286.19,134.022 1296.16,152.617 \n",
       "  1306.13,158.816 1316.1,134.022 1326.08,158.816 1336.05,381.959 1346.02,239.395 1355.99,121.625 1365.96,134.022 1375.93,127.824 1385.9,140.22 1395.87,140.22 \n",
       "  1405.84,152.617 1415.81,165.014 1425.78,134.022 1435.75,307.578 1445.72,251.792 1455.69,264.189 1465.67,177.411 1475.64,245.594 1485.61,189.808 1495.58,338.57 \n",
       "  1505.55,288.983 1515.52,350.967 1525.49,251.792 1535.46,171.213 1545.43,177.411 1555.4,313.776 1565.37,239.395 1575.34,239.395 1585.31,134.022 1595.28,121.625 \n",
       "  1605.25,115.427 1615.23,109.228 1625.2,109.228 1635.17,109.228 1645.14,115.427 1655.11,127.824 1665.08,121.625 1675.05,134.022 1685.02,121.625 1694.99,127.824 \n",
       "  1704.96,127.824 1714.93,115.427 1724.9,134.022 1734.87,134.022 1744.84,115.427 1754.81,171.213 1764.79,127.824 1774.76,134.022 1784.73,158.816 1794.7,214.601 \n",
       "  1804.67,214.601 1814.64,251.792 1824.61,177.411 1834.58,165.014 1844.55,208.403 1854.52,140.22 1864.49,115.427 1874.46,134.022 1884.43,196.006 1894.4,127.824 \n",
       "  1904.37,134.022 1914.35,121.625 1924.32,165.014 1934.29,134.022 1944.26,146.419 1954.23,121.625 1964.2,152.617 1974.17,189.808 1984.14,146.419 1994.11,140.22 \n",
       "  2004.08,115.427 2014.05,115.427 2024.02,127.824 2033.99,134.022 2043.96,140.22 2053.93,134.022 2063.91,183.609 2073.88,177.411 2083.85,152.617 2093.82,140.22 \n",
       "  2103.79,134.022 2113.76,134.022 2123.73,109.228 2133.7,140.22 2143.67,177.411 2153.64,313.776 2163.61,177.411 2173.58,152.617 2183.55,140.22 2193.52,319.975 \n",
       "  2203.49,400.554 2213.47,313.776 2223.44,301.379 2233.41,419.149 2243.38,388.157 2253.35,443.943 2263.32,264.189 2273.29,146.419 2283.26,140.22 2293.23,127.824 \n",
       "  \n",
       "  \"/>\n",
       "</svg>\n"
      ]
     },
     "execution_count": 45,
     "metadata": {},
     "output_type": "execute_result"
    }
   ],
   "source": [
    "plot(iterations, success_rate, xlabel=\"Iterations\", ylabel=\"Success Rate\", legend = false, xformatter = :scientific, ylims=(-0.05,1.05))"
   ]
  },
  {
   "cell_type": "code",
   "execution_count": 46,
   "id": "4e57d828",
   "metadata": {},
   "outputs": [
    {
     "data": {
      "text/plain": [
       "\"/home/larissa/Documents/Projects/ADLR/ADLR_project/src/RL_3D_quadcopter_PPO/office_test/plots/fast/success_rate.svg\""
      ]
     },
     "execution_count": 46,
     "metadata": {},
     "output_type": "execute_result"
    }
   ],
   "source": [
    "savefig(fig_path * \"success_rate.svg\")"
   ]
  },
  {
   "cell_type": "code",
   "execution_count": 47,
   "id": "480d67d7",
   "metadata": {
    "scrolled": false
   },
   "outputs": [
    {
     "data": {
      "image/svg+xml": [
       "<?xml version=\"1.0\" encoding=\"utf-8\"?>\n",
       "<svg xmlns=\"http://www.w3.org/2000/svg\" xmlns:xlink=\"http://www.w3.org/1999/xlink\" width=\"600\" height=\"400\" viewBox=\"0 0 2400 1600\">\n",
       "<defs>\n",
       "  <clipPath id=\"clip550\">\n",
       "    <rect x=\"0\" y=\"0\" width=\"2400\" height=\"1600\"/>\n",
       "  </clipPath>\n",
       "</defs>\n",
       "<path clip-path=\"url(#clip550)\" d=\"\n",
       "M0 1600 L2400 1600 L2400 0 L0 0  Z\n",
       "  \" fill=\"#ffffff\" fill-rule=\"evenodd\" fill-opacity=\"1\"/>\n",
       "<defs>\n",
       "  <clipPath id=\"clip551\">\n",
       "    <rect x=\"480\" y=\"0\" width=\"1681\" height=\"1600\"/>\n",
       "  </clipPath>\n",
       "</defs>\n",
       "<path clip-path=\"url(#clip550)\" d=\"\n",
       "M220.676 1410.9 L2352.76 1410.9 L2352.76 47.2441 L220.676 47.2441  Z\n",
       "  \" fill=\"#ffffff\" fill-rule=\"evenodd\" fill-opacity=\"1\"/>\n",
       "<defs>\n",
       "  <clipPath id=\"clip552\">\n",
       "    <rect x=\"220\" y=\"47\" width=\"2133\" height=\"1365\"/>\n",
       "  </clipPath>\n",
       "</defs>\n",
       "<polyline clip-path=\"url(#clip552)\" style=\"stroke:#000000; stroke-linecap:round; stroke-linejoin:round; stroke-width:2; stroke-opacity:0.1; fill:none\" points=\"\n",
       "  270.911,1410.9 270.911,47.2441 \n",
       "  \"/>\n",
       "<polyline clip-path=\"url(#clip552)\" style=\"stroke:#000000; stroke-linecap:round; stroke-linejoin:round; stroke-width:2; stroke-opacity:0.1; fill:none\" points=\"\n",
       "  776.287,1410.9 776.287,47.2441 \n",
       "  \"/>\n",
       "<polyline clip-path=\"url(#clip552)\" style=\"stroke:#000000; stroke-linecap:round; stroke-linejoin:round; stroke-width:2; stroke-opacity:0.1; fill:none\" points=\"\n",
       "  1281.66,1410.9 1281.66,47.2441 \n",
       "  \"/>\n",
       "<polyline clip-path=\"url(#clip552)\" style=\"stroke:#000000; stroke-linecap:round; stroke-linejoin:round; stroke-width:2; stroke-opacity:0.1; fill:none\" points=\"\n",
       "  1787.04,1410.9 1787.04,47.2441 \n",
       "  \"/>\n",
       "<polyline clip-path=\"url(#clip552)\" style=\"stroke:#000000; stroke-linecap:round; stroke-linejoin:round; stroke-width:2; stroke-opacity:0.1; fill:none\" points=\"\n",
       "  2292.41,1410.9 2292.41,47.2441 \n",
       "  \"/>\n",
       "<polyline clip-path=\"url(#clip550)\" style=\"stroke:#000000; stroke-linecap:round; stroke-linejoin:round; stroke-width:4; stroke-opacity:1; fill:none\" points=\"\n",
       "  220.676,1410.9 2352.76,1410.9 \n",
       "  \"/>\n",
       "<polyline clip-path=\"url(#clip550)\" style=\"stroke:#000000; stroke-linecap:round; stroke-linejoin:round; stroke-width:4; stroke-opacity:1; fill:none\" points=\"\n",
       "  270.911,1410.9 270.911,1392 \n",
       "  \"/>\n",
       "<polyline clip-path=\"url(#clip550)\" style=\"stroke:#000000; stroke-linecap:round; stroke-linejoin:round; stroke-width:4; stroke-opacity:1; fill:none\" points=\"\n",
       "  776.287,1410.9 776.287,1392 \n",
       "  \"/>\n",
       "<polyline clip-path=\"url(#clip550)\" style=\"stroke:#000000; stroke-linecap:round; stroke-linejoin:round; stroke-width:4; stroke-opacity:1; fill:none\" points=\"\n",
       "  1281.66,1410.9 1281.66,1392 \n",
       "  \"/>\n",
       "<polyline clip-path=\"url(#clip550)\" style=\"stroke:#000000; stroke-linecap:round; stroke-linejoin:round; stroke-width:4; stroke-opacity:1; fill:none\" points=\"\n",
       "  1787.04,1410.9 1787.04,1392 \n",
       "  \"/>\n",
       "<polyline clip-path=\"url(#clip550)\" style=\"stroke:#000000; stroke-linecap:round; stroke-linejoin:round; stroke-width:4; stroke-opacity:1; fill:none\" points=\"\n",
       "  2292.41,1410.9 2292.41,1392 \n",
       "  \"/>\n",
       "<path clip-path=\"url(#clip550)\" d=\"M270.911 1441.82 Q267.3 1441.82 265.471 1445.38 Q263.665 1448.92 263.665 1456.05 Q263.665 1463.16 265.471 1466.72 Q267.3 1470.26 270.911 1470.26 Q274.545 1470.26 276.351 1466.72 Q278.179 1463.16 278.179 1456.05 Q278.179 1448.92 276.351 1445.38 Q274.545 1441.82 270.911 1441.82 M270.911 1438.11 Q276.721 1438.11 279.776 1442.72 Q282.855 1447.3 282.855 1456.05 Q282.855 1464.78 279.776 1469.38 Q276.721 1473.97 270.911 1473.97 Q265.101 1473.97 262.022 1469.38 Q258.966 1464.78 258.966 1456.05 Q258.966 1447.3 262.022 1442.72 Q265.101 1438.11 270.911 1438.11 Z\" fill=\"#000000\" fill-rule=\"evenodd\" fill-opacity=\"1\" /><path clip-path=\"url(#clip550)\" d=\"M668.652 1454.4 L687.008 1454.4 L687.008 1458.33 L672.934 1458.33 L672.934 1466.8 Q673.953 1466.46 674.971 1466.29 Q675.99 1466.11 677.008 1466.11 Q682.795 1466.11 686.175 1469.28 Q689.555 1472.45 689.555 1477.87 Q689.555 1483.45 686.082 1486.55 Q682.61 1489.63 676.291 1489.63 Q674.115 1489.63 671.846 1489.26 Q669.601 1488.89 667.194 1488.15 L667.194 1483.45 Q669.277 1484.58 671.499 1485.14 Q673.721 1485.69 676.198 1485.69 Q680.203 1485.69 682.541 1483.59 Q684.879 1481.48 684.879 1477.87 Q684.879 1474.26 682.541 1472.15 Q680.203 1470.04 676.198 1470.04 Q674.323 1470.04 672.448 1470.46 Q670.596 1470.88 668.652 1471.76 L668.652 1454.4 Z\" fill=\"#000000\" fill-rule=\"evenodd\" fill-opacity=\"1\" /><path clip-path=\"url(#clip550)\" d=\"M698.767 1483.08 L703.652 1483.08 L703.652 1488.96 L698.767 1488.96 L698.767 1483.08 Z\" fill=\"#000000\" fill-rule=\"evenodd\" fill-opacity=\"1\" /><path clip-path=\"url(#clip550)\" d=\"M723.837 1457.48 Q720.226 1457.48 718.397 1461.04 Q716.591 1464.58 716.591 1471.71 Q716.591 1478.82 718.397 1482.38 Q720.226 1485.92 723.837 1485.92 Q727.471 1485.92 729.277 1482.38 Q731.105 1478.82 731.105 1471.71 Q731.105 1464.58 729.277 1461.04 Q727.471 1457.48 723.837 1457.48 M723.837 1453.77 Q729.647 1453.77 732.702 1458.38 Q735.781 1462.96 735.781 1471.71 Q735.781 1480.44 732.702 1485.04 Q729.647 1489.63 723.837 1489.63 Q718.027 1489.63 714.948 1485.04 Q711.892 1480.44 711.892 1471.71 Q711.892 1462.96 714.948 1458.38 Q718.027 1453.77 723.837 1453.77 Z\" fill=\"#000000\" fill-rule=\"evenodd\" fill-opacity=\"1\" /><path clip-path=\"url(#clip550)\" d=\"M753.999 1457.48 Q750.388 1457.48 748.559 1461.04 Q746.753 1464.58 746.753 1471.71 Q746.753 1478.82 748.559 1482.38 Q750.388 1485.92 753.999 1485.92 Q757.633 1485.92 759.438 1482.38 Q761.267 1478.82 761.267 1471.71 Q761.267 1464.58 759.438 1461.04 Q757.633 1457.48 753.999 1457.48 M753.999 1453.77 Q759.809 1453.77 762.864 1458.38 Q765.943 1462.96 765.943 1471.71 Q765.943 1480.44 762.864 1485.04 Q759.809 1489.63 753.999 1489.63 Q748.189 1489.63 745.11 1485.04 Q742.054 1480.44 742.054 1471.71 Q742.054 1462.96 745.11 1458.38 Q748.189 1453.77 753.999 1453.77 Z\" fill=\"#000000\" fill-rule=\"evenodd\" fill-opacity=\"1\" /><path clip-path=\"url(#clip550)\" d=\"M802.332 1463.49 L791.753 1474.12 L802.332 1484.7 L799.577 1487.5 L788.952 1476.87 L778.327 1487.5 L775.596 1484.7 L786.151 1474.12 L775.596 1463.49 L778.327 1460.69 L788.952 1471.32 L799.577 1460.69 L802.332 1463.49 Z\" fill=\"#000000\" fill-rule=\"evenodd\" fill-opacity=\"1\" /><path clip-path=\"url(#clip550)\" d=\"M814.693 1485.02 L822.332 1485.02 L822.332 1458.66 L814.022 1460.32 L814.022 1456.06 L822.285 1454.4 L826.961 1454.4 L826.961 1485.02 L834.6 1485.02 L834.6 1488.96 L814.693 1488.96 L814.693 1485.02 Z\" fill=\"#000000\" fill-rule=\"evenodd\" fill-opacity=\"1\" /><path clip-path=\"url(#clip550)\" d=\"M854.044 1457.48 Q850.433 1457.48 848.605 1461.04 Q846.799 1464.58 846.799 1471.71 Q846.799 1478.82 848.605 1482.38 Q850.433 1485.92 854.044 1485.92 Q857.679 1485.92 859.484 1482.38 Q861.313 1478.82 861.313 1471.71 Q861.313 1464.58 859.484 1461.04 Q857.679 1457.48 854.044 1457.48 M854.044 1453.77 Q859.855 1453.77 862.91 1458.38 Q865.989 1462.96 865.989 1471.71 Q865.989 1480.44 862.91 1485.04 Q859.855 1489.63 854.044 1489.63 Q848.234 1489.63 845.156 1485.04 Q842.1 1480.44 842.1 1471.71 Q842.1 1462.96 845.156 1458.38 Q848.234 1453.77 854.044 1453.77 Z\" fill=\"#000000\" fill-rule=\"evenodd\" fill-opacity=\"1\" /><path clip-path=\"url(#clip550)\" d=\"M876.013 1445.99 Q873.456 1445.99 871.951 1447.74 Q870.465 1449.49 870.465 1452.54 Q870.465 1455.57 871.951 1457.33 Q873.456 1459.08 876.013 1459.08 Q878.571 1459.08 880.057 1457.33 Q881.562 1455.57 881.562 1452.54 Q881.562 1449.49 880.057 1447.74 Q878.571 1445.99 876.013 1445.99 M883.555 1434.09 L883.555 1437.55 Q882.126 1436.87 880.659 1436.51 Q879.211 1436.16 877.781 1436.16 Q874.02 1436.16 872.026 1438.69 Q870.051 1441.23 869.769 1446.37 Q870.879 1444.73 872.553 1443.87 Q874.227 1442.98 876.239 1442.98 Q880.471 1442.98 882.916 1445.56 Q885.38 1448.12 885.38 1452.54 Q885.38 1456.86 882.822 1459.48 Q880.264 1462.09 876.013 1462.09 Q871.142 1462.09 868.565 1458.37 Q865.989 1454.62 865.989 1447.53 Q865.989 1440.88 869.149 1436.93 Q872.308 1432.96 877.631 1432.96 Q879.06 1432.96 880.508 1433.24 Q881.975 1433.52 883.555 1434.09 Z\" fill=\"#000000\" fill-rule=\"evenodd\" fill-opacity=\"1\" /><path clip-path=\"url(#clip550)\" d=\"M1174.68 1485.02 L1182.32 1485.02 L1182.32 1458.66 L1174.01 1460.32 L1174.01 1456.06 L1182.28 1454.4 L1186.95 1454.4 L1186.95 1485.02 L1194.59 1485.02 L1194.59 1488.96 L1174.68 1488.96 L1174.68 1485.02 Z\" fill=\"#000000\" fill-rule=\"evenodd\" fill-opacity=\"1\" /><path clip-path=\"url(#clip550)\" d=\"M1204.04 1483.08 L1208.92 1483.08 L1208.92 1488.96 L1204.04 1488.96 L1204.04 1483.08 Z\" fill=\"#000000\" fill-rule=\"evenodd\" fill-opacity=\"1\" /><path clip-path=\"url(#clip550)\" d=\"M1229.1 1457.48 Q1225.49 1457.48 1223.67 1461.04 Q1221.86 1464.58 1221.86 1471.71 Q1221.86 1478.82 1223.67 1482.38 Q1225.49 1485.92 1229.1 1485.92 Q1232.74 1485.92 1234.54 1482.38 Q1236.37 1478.82 1236.37 1471.71 Q1236.37 1464.58 1234.54 1461.04 Q1232.74 1457.48 1229.1 1457.48 M1229.1 1453.77 Q1234.91 1453.77 1237.97 1458.38 Q1241.05 1462.96 1241.05 1471.71 Q1241.05 1480.44 1237.97 1485.04 Q1234.91 1489.63 1229.1 1489.63 Q1223.29 1489.63 1220.22 1485.04 Q1217.16 1480.44 1217.16 1471.71 Q1217.16 1462.96 1220.22 1458.38 Q1223.29 1453.77 1229.1 1453.77 Z\" fill=\"#000000\" fill-rule=\"evenodd\" fill-opacity=\"1\" /><path clip-path=\"url(#clip550)\" d=\"M1259.27 1457.48 Q1255.66 1457.48 1253.83 1461.04 Q1252.02 1464.58 1252.02 1471.71 Q1252.02 1478.82 1253.83 1482.38 Q1255.66 1485.92 1259.27 1485.92 Q1262.9 1485.92 1264.71 1482.38 Q1266.54 1478.82 1266.54 1471.71 Q1266.54 1464.58 1264.71 1461.04 Q1262.9 1457.48 1259.27 1457.48 M1259.27 1453.77 Q1265.08 1453.77 1268.13 1458.38 Q1271.21 1462.96 1271.21 1471.71 Q1271.21 1480.44 1268.13 1485.04 Q1265.08 1489.63 1259.27 1489.63 Q1253.46 1489.63 1250.38 1485.04 Q1247.32 1480.44 1247.32 1471.71 Q1247.32 1462.96 1250.38 1458.38 Q1253.46 1453.77 1259.27 1453.77 Z\" fill=\"#000000\" fill-rule=\"evenodd\" fill-opacity=\"1\" /><path clip-path=\"url(#clip550)\" d=\"M1307.6 1463.49 L1297.02 1474.12 L1307.6 1484.7 L1304.85 1487.5 L1294.22 1476.87 L1283.6 1487.5 L1280.86 1484.7 L1291.42 1474.12 L1280.86 1463.49 L1283.6 1460.69 L1294.22 1471.32 L1304.85 1460.69 L1307.6 1463.49 Z\" fill=\"#000000\" fill-rule=\"evenodd\" fill-opacity=\"1\" /><path clip-path=\"url(#clip550)\" d=\"M1319.96 1485.02 L1327.6 1485.02 L1327.6 1458.66 L1319.29 1460.32 L1319.29 1456.06 L1327.55 1454.4 L1332.23 1454.4 L1332.23 1485.02 L1339.87 1485.02 L1339.87 1488.96 L1319.96 1488.96 L1319.96 1485.02 Z\" fill=\"#000000\" fill-rule=\"evenodd\" fill-opacity=\"1\" /><path clip-path=\"url(#clip550)\" d=\"M1359.31 1457.48 Q1355.7 1457.48 1353.87 1461.04 Q1352.07 1464.58 1352.07 1471.71 Q1352.07 1478.82 1353.87 1482.38 Q1355.7 1485.92 1359.31 1485.92 Q1362.95 1485.92 1364.75 1482.38 Q1366.58 1478.82 1366.58 1471.71 Q1366.58 1464.58 1364.75 1461.04 Q1362.95 1457.48 1359.31 1457.48 M1359.31 1453.77 Q1365.12 1453.77 1368.18 1458.38 Q1371.26 1462.96 1371.26 1471.71 Q1371.26 1480.44 1368.18 1485.04 Q1365.12 1489.63 1359.31 1489.63 Q1353.5 1489.63 1350.42 1485.04 Q1347.37 1480.44 1347.37 1471.71 Q1347.37 1462.96 1350.42 1458.38 Q1353.5 1453.77 1359.31 1453.77 Z\" fill=\"#000000\" fill-rule=\"evenodd\" fill-opacity=\"1\" /><path clip-path=\"url(#clip550)\" d=\"M1371.26 1433.47 L1389.31 1433.47 L1389.31 1435.08 L1379.12 1461.55 L1375.15 1461.55 L1384.74 1436.66 L1371.26 1436.66 L1371.26 1433.47 Z\" fill=\"#000000\" fill-rule=\"evenodd\" fill-opacity=\"1\" /><path clip-path=\"url(#clip550)\" d=\"M1680.06 1485.02 L1687.7 1485.02 L1687.7 1458.66 L1679.39 1460.32 L1679.39 1456.06 L1687.65 1454.4 L1692.33 1454.4 L1692.33 1485.02 L1699.97 1485.02 L1699.97 1488.96 L1680.06 1488.96 L1680.06 1485.02 Z\" fill=\"#000000\" fill-rule=\"evenodd\" fill-opacity=\"1\" /><path clip-path=\"url(#clip550)\" d=\"M1709.41 1483.08 L1714.3 1483.08 L1714.3 1488.96 L1709.41 1488.96 L1709.41 1483.08 Z\" fill=\"#000000\" fill-rule=\"evenodd\" fill-opacity=\"1\" /><path clip-path=\"url(#clip550)\" d=\"M1724.53 1454.4 L1742.88 1454.4 L1742.88 1458.33 L1728.81 1458.33 L1728.81 1466.8 Q1729.83 1466.46 1730.85 1466.29 Q1731.86 1466.11 1732.88 1466.11 Q1738.67 1466.11 1742.05 1469.28 Q1745.43 1472.45 1745.43 1477.87 Q1745.43 1483.45 1741.96 1486.55 Q1738.49 1489.63 1732.17 1489.63 Q1729.99 1489.63 1727.72 1489.26 Q1725.48 1488.89 1723.07 1488.15 L1723.07 1483.45 Q1725.15 1484.58 1727.37 1485.14 Q1729.6 1485.69 1732.07 1485.69 Q1736.08 1485.69 1738.42 1483.59 Q1740.75 1481.48 1740.75 1477.87 Q1740.75 1474.26 1738.42 1472.15 Q1736.08 1470.04 1732.07 1470.04 Q1730.2 1470.04 1728.32 1470.46 Q1726.47 1470.88 1724.53 1471.76 L1724.53 1454.4 Z\" fill=\"#000000\" fill-rule=\"evenodd\" fill-opacity=\"1\" /><path clip-path=\"url(#clip550)\" d=\"M1764.64 1457.48 Q1761.03 1457.48 1759.2 1461.04 Q1757.4 1464.58 1757.4 1471.71 Q1757.4 1478.82 1759.2 1482.38 Q1761.03 1485.92 1764.64 1485.92 Q1768.28 1485.92 1770.08 1482.38 Q1771.91 1478.82 1771.91 1471.71 Q1771.91 1464.58 1770.08 1461.04 Q1768.28 1457.48 1764.64 1457.48 M1764.64 1453.77 Q1770.45 1453.77 1773.51 1458.38 Q1776.59 1462.96 1776.59 1471.71 Q1776.59 1480.44 1773.51 1485.04 Q1770.45 1489.63 1764.64 1489.63 Q1758.83 1489.63 1755.75 1485.04 Q1752.7 1480.44 1752.7 1471.71 Q1752.7 1462.96 1755.75 1458.38 Q1758.83 1453.77 1764.64 1453.77 Z\" fill=\"#000000\" fill-rule=\"evenodd\" fill-opacity=\"1\" /><path clip-path=\"url(#clip550)\" d=\"M1812.98 1463.49 L1802.4 1474.12 L1812.98 1484.7 L1810.22 1487.5 L1799.6 1476.87 L1788.97 1487.5 L1786.24 1484.7 L1796.8 1474.12 L1786.24 1463.49 L1788.97 1460.69 L1799.6 1471.32 L1810.22 1460.69 L1812.98 1463.49 Z\" fill=\"#000000\" fill-rule=\"evenodd\" fill-opacity=\"1\" /><path clip-path=\"url(#clip550)\" d=\"M1825.34 1485.02 L1832.98 1485.02 L1832.98 1458.66 L1824.67 1460.32 L1824.67 1456.06 L1832.93 1454.4 L1837.61 1454.4 L1837.61 1485.02 L1845.24 1485.02 L1845.24 1488.96 L1825.34 1488.96 L1825.34 1485.02 Z\" fill=\"#000000\" fill-rule=\"evenodd\" fill-opacity=\"1\" /><path clip-path=\"url(#clip550)\" d=\"M1864.69 1457.48 Q1861.08 1457.48 1859.25 1461.04 Q1857.44 1464.58 1857.44 1471.71 Q1857.44 1478.82 1859.25 1482.38 Q1861.08 1485.92 1864.69 1485.92 Q1868.32 1485.92 1870.13 1482.38 Q1871.96 1478.82 1871.96 1471.71 Q1871.96 1464.58 1870.13 1461.04 Q1868.32 1457.48 1864.69 1457.48 M1864.69 1453.77 Q1870.5 1453.77 1873.55 1458.38 Q1876.63 1462.96 1876.63 1471.71 Q1876.63 1480.44 1873.55 1485.04 Q1870.5 1489.63 1864.69 1489.63 Q1858.88 1489.63 1855.8 1485.04 Q1852.74 1480.44 1852.74 1471.71 Q1852.74 1462.96 1855.8 1458.38 Q1858.88 1453.77 1864.69 1453.77 Z\" fill=\"#000000\" fill-rule=\"evenodd\" fill-opacity=\"1\" /><path clip-path=\"url(#clip550)\" d=\"M1876.63 1433.47 L1894.69 1433.47 L1894.69 1435.08 L1884.49 1461.55 L1880.53 1461.55 L1890.12 1436.66 L1876.63 1436.66 L1876.63 1433.47 Z\" fill=\"#000000\" fill-rule=\"evenodd\" fill-opacity=\"1\" /><path clip-path=\"url(#clip550)\" d=\"M2189.52 1485.02 L2205.84 1485.02 L2205.84 1488.96 L2183.9 1488.96 L2183.9 1485.02 Q2186.56 1482.27 2191.14 1477.64 Q2195.75 1472.98 2196.93 1471.64 Q2199.17 1469.12 2200.05 1467.38 Q2200.96 1465.62 2200.96 1463.93 Q2200.96 1461.18 2199.01 1459.44 Q2197.09 1457.71 2193.99 1457.71 Q2191.79 1457.71 2189.34 1458.47 Q2186.91 1459.23 2184.13 1460.79 L2184.13 1456.06 Q2186.95 1454.93 2189.41 1454.35 Q2191.86 1453.77 2193.9 1453.77 Q2199.27 1453.77 2202.46 1456.46 Q2205.66 1459.14 2205.66 1463.63 Q2205.66 1465.76 2204.85 1467.68 Q2204.06 1469.58 2201.95 1472.17 Q2201.37 1472.85 2198.27 1476.06 Q2195.17 1479.26 2189.52 1485.02 Z\" fill=\"#000000\" fill-rule=\"evenodd\" fill-opacity=\"1\" /><path clip-path=\"url(#clip550)\" d=\"M2215.66 1483.08 L2220.54 1483.08 L2220.54 1488.96 L2215.66 1488.96 L2215.66 1483.08 Z\" fill=\"#000000\" fill-rule=\"evenodd\" fill-opacity=\"1\" /><path clip-path=\"url(#clip550)\" d=\"M2240.72 1457.48 Q2237.11 1457.48 2235.28 1461.04 Q2233.48 1464.58 2233.48 1471.71 Q2233.48 1478.82 2235.28 1482.38 Q2237.11 1485.92 2240.72 1485.92 Q2244.36 1485.92 2246.16 1482.38 Q2247.99 1478.82 2247.99 1471.71 Q2247.99 1464.58 2246.16 1461.04 Q2244.36 1457.48 2240.72 1457.48 M2240.72 1453.77 Q2246.53 1453.77 2249.59 1458.38 Q2252.67 1462.96 2252.67 1471.71 Q2252.67 1480.44 2249.59 1485.04 Q2246.53 1489.63 2240.72 1489.63 Q2234.91 1489.63 2231.84 1485.04 Q2228.78 1480.44 2228.78 1471.71 Q2228.78 1462.96 2231.84 1458.38 Q2234.91 1453.77 2240.72 1453.77 Z\" fill=\"#000000\" fill-rule=\"evenodd\" fill-opacity=\"1\" /><path clip-path=\"url(#clip550)\" d=\"M2270.89 1457.48 Q2267.28 1457.48 2265.45 1461.04 Q2263.64 1464.58 2263.64 1471.71 Q2263.64 1478.82 2265.45 1482.38 Q2267.28 1485.92 2270.89 1485.92 Q2274.52 1485.92 2276.33 1482.38 Q2278.15 1478.82 2278.15 1471.71 Q2278.15 1464.58 2276.33 1461.04 Q2274.52 1457.48 2270.89 1457.48 M2270.89 1453.77 Q2276.7 1453.77 2279.75 1458.38 Q2282.83 1462.96 2282.83 1471.71 Q2282.83 1480.44 2279.75 1485.04 Q2276.7 1489.63 2270.89 1489.63 Q2265.08 1489.63 2262 1485.04 Q2258.94 1480.44 2258.94 1471.71 Q2258.94 1462.96 2262 1458.38 Q2265.08 1453.77 2270.89 1453.77 Z\" fill=\"#000000\" fill-rule=\"evenodd\" fill-opacity=\"1\" /><path clip-path=\"url(#clip550)\" d=\"M2319.22 1463.49 L2308.64 1474.12 L2319.22 1484.7 L2316.46 1487.5 L2305.84 1476.87 L2295.21 1487.5 L2292.48 1484.7 L2303.04 1474.12 L2292.48 1463.49 L2295.21 1460.69 L2305.84 1471.32 L2316.46 1460.69 L2319.22 1463.49 Z\" fill=\"#000000\" fill-rule=\"evenodd\" fill-opacity=\"1\" /><path clip-path=\"url(#clip550)\" d=\"M2331.58 1485.02 L2339.22 1485.02 L2339.22 1458.66 L2330.91 1460.32 L2330.91 1456.06 L2339.17 1454.4 L2343.85 1454.4 L2343.85 1485.02 L2351.49 1485.02 L2351.49 1488.96 L2331.58 1488.96 L2331.58 1485.02 Z\" fill=\"#000000\" fill-rule=\"evenodd\" fill-opacity=\"1\" /><path clip-path=\"url(#clip550)\" d=\"M2370.93 1457.48 Q2367.32 1457.48 2365.49 1461.04 Q2363.69 1464.58 2363.69 1471.71 Q2363.69 1478.82 2365.49 1482.38 Q2367.32 1485.92 2370.93 1485.92 Q2374.57 1485.92 2376.37 1482.38 Q2378.2 1478.82 2378.2 1471.71 Q2378.2 1464.58 2376.37 1461.04 Q2374.57 1457.48 2370.93 1457.48 M2370.93 1453.77 Q2376.74 1453.77 2379.8 1458.38 Q2382.88 1462.96 2382.88 1471.71 Q2382.88 1480.44 2379.8 1485.04 Q2376.74 1489.63 2370.93 1489.63 Q2365.12 1489.63 2362.04 1485.04 Q2358.99 1480.44 2358.99 1471.71 Q2358.99 1462.96 2362.04 1458.38 Q2365.12 1453.77 2370.93 1453.77 Z\" fill=\"#000000\" fill-rule=\"evenodd\" fill-opacity=\"1\" /><path clip-path=\"url(#clip550)\" d=\"M2382.88 1433.47 L2400.93 1433.47 L2400.93 1435.08 L2390.74 1461.55 L2386.77 1461.55 L2396.36 1436.66 L2382.88 1436.66 L2382.88 1433.47 Z\" fill=\"#000000\" fill-rule=\"evenodd\" fill-opacity=\"1\" /><path clip-path=\"url(#clip550)\" d=\"M1136.28 1526.67 L1142.71 1526.67 L1142.71 1574.19 L1136.28 1574.19 L1136.28 1526.67 Z\" fill=\"#000000\" fill-rule=\"evenodd\" fill-opacity=\"1\" /><path clip-path=\"url(#clip550)\" d=\"M1161.04 1528.42 L1161.04 1538.54 L1173.1 1538.54 L1173.1 1543.09 L1161.04 1543.09 L1161.04 1562.44 Q1161.04 1566.8 1162.22 1568.04 Q1163.43 1569.28 1167.09 1569.28 L1173.1 1569.28 L1173.1 1574.19 L1167.09 1574.19 Q1160.31 1574.19 1157.73 1571.67 Q1155.15 1569.12 1155.15 1562.44 L1155.15 1543.09 L1150.86 1543.09 L1150.86 1538.54 L1155.15 1538.54 L1155.15 1528.42 L1161.04 1528.42 Z\" fill=\"#000000\" fill-rule=\"evenodd\" fill-opacity=\"1\" /><path clip-path=\"url(#clip550)\" d=\"M1211.3 1554.9 L1211.3 1557.76 L1184.37 1557.76 Q1184.75 1563.81 1188 1566.99 Q1191.28 1570.14 1197.1 1570.14 Q1200.48 1570.14 1203.63 1569.32 Q1206.81 1568.49 1209.93 1566.83 L1209.93 1572.37 Q1206.78 1573.71 1203.47 1574.41 Q1200.16 1575.11 1196.75 1575.11 Q1188.22 1575.11 1183.23 1570.14 Q1178.26 1565.18 1178.26 1556.71 Q1178.26 1547.96 1182.97 1542.83 Q1187.71 1537.68 1195.73 1537.68 Q1202.93 1537.68 1207.1 1542.33 Q1211.3 1546.94 1211.3 1554.9 M1205.44 1553.18 Q1205.38 1548.37 1202.74 1545.51 Q1200.13 1542.64 1195.8 1542.64 Q1190.9 1542.64 1187.94 1545.41 Q1185.01 1548.18 1184.56 1553.21 L1205.44 1553.18 Z\" fill=\"#000000\" fill-rule=\"evenodd\" fill-opacity=\"1\" /><path clip-path=\"url(#clip550)\" d=\"M1241.57 1544.01 Q1240.58 1543.44 1239.4 1543.18 Q1238.26 1542.9 1236.86 1542.9 Q1231.89 1542.9 1229.22 1546.14 Q1226.58 1549.36 1226.58 1555.41 L1226.58 1574.19 L1220.69 1574.19 L1220.69 1538.54 L1226.58 1538.54 L1226.58 1544.08 Q1228.42 1540.83 1231.38 1539.27 Q1234.34 1537.68 1238.58 1537.68 Q1239.18 1537.68 1239.91 1537.77 Q1240.64 1537.84 1241.54 1538 L1241.57 1544.01 Z\" fill=\"#000000\" fill-rule=\"evenodd\" fill-opacity=\"1\" /><path clip-path=\"url(#clip550)\" d=\"M1263.91 1556.27 Q1256.81 1556.27 1254.08 1557.89 Q1251.34 1559.51 1251.34 1563.43 Q1251.34 1566.55 1253.38 1568.39 Q1255.44 1570.21 1258.98 1570.21 Q1263.85 1570.21 1266.78 1566.77 Q1269.74 1563.3 1269.74 1557.57 L1269.74 1556.27 L1263.91 1556.27 M1275.59 1553.85 L1275.59 1574.19 L1269.74 1574.19 L1269.74 1568.77 Q1267.73 1572.02 1264.74 1573.58 Q1261.75 1575.11 1257.42 1575.11 Q1251.94 1575.11 1248.7 1572.05 Q1245.48 1568.97 1245.48 1563.81 Q1245.48 1557.79 1249.49 1554.74 Q1253.53 1551.68 1261.52 1551.68 L1269.74 1551.68 L1269.74 1551.11 Q1269.74 1547.07 1267.06 1544.87 Q1264.42 1542.64 1259.61 1542.64 Q1256.56 1542.64 1253.66 1543.38 Q1250.77 1544.11 1248.09 1545.57 L1248.09 1540.16 Q1251.31 1538.92 1254.33 1538.31 Q1257.35 1537.68 1260.22 1537.68 Q1267.95 1537.68 1271.77 1541.69 Q1275.59 1545.7 1275.59 1553.85 Z\" fill=\"#000000\" fill-rule=\"evenodd\" fill-opacity=\"1\" /><path clip-path=\"url(#clip550)\" d=\"M1293.45 1528.42 L1293.45 1538.54 L1305.51 1538.54 L1305.51 1543.09 L1293.45 1543.09 L1293.45 1562.44 Q1293.45 1566.8 1294.63 1568.04 Q1295.84 1569.28 1299.5 1569.28 L1305.51 1569.28 L1305.51 1574.19 L1299.5 1574.19 Q1292.72 1574.19 1290.14 1571.67 Q1287.56 1569.12 1287.56 1562.44 L1287.56 1543.09 L1283.26 1543.09 L1283.26 1538.54 L1287.56 1538.54 L1287.56 1528.42 L1293.45 1528.42 Z\" fill=\"#000000\" fill-rule=\"evenodd\" fill-opacity=\"1\" /><path clip-path=\"url(#clip550)\" d=\"M1313.21 1538.54 L1319.07 1538.54 L1319.07 1574.19 L1313.21 1574.19 L1313.21 1538.54 M1313.21 1524.66 L1319.07 1524.66 L1319.07 1532.08 L1313.21 1532.08 L1313.21 1524.66 Z\" fill=\"#000000\" fill-rule=\"evenodd\" fill-opacity=\"1\" /><path clip-path=\"url(#clip550)\" d=\"M1345.14 1542.64 Q1340.43 1542.64 1337.69 1546.34 Q1334.95 1550 1334.95 1556.39 Q1334.95 1562.79 1337.66 1566.48 Q1340.39 1570.14 1345.14 1570.14 Q1349.82 1570.14 1352.55 1566.45 Q1355.29 1562.76 1355.29 1556.39 Q1355.29 1550.06 1352.55 1546.37 Q1349.82 1542.64 1345.14 1542.64 M1345.14 1537.68 Q1352.78 1537.68 1357.14 1542.64 Q1361.5 1547.61 1361.5 1556.39 Q1361.5 1565.15 1357.14 1570.14 Q1352.78 1575.11 1345.14 1575.11 Q1337.47 1575.11 1333.11 1570.14 Q1328.78 1565.15 1328.78 1556.39 Q1328.78 1547.61 1333.11 1542.64 Q1337.47 1537.68 1345.14 1537.68 Z\" fill=\"#000000\" fill-rule=\"evenodd\" fill-opacity=\"1\" /><path clip-path=\"url(#clip550)\" d=\"M1400.84 1552.67 L1400.84 1574.19 L1394.98 1574.19 L1394.98 1552.86 Q1394.98 1547.8 1393.01 1545.29 Q1391.03 1542.77 1387.09 1542.77 Q1382.35 1542.77 1379.61 1545.79 Q1376.87 1548.82 1376.87 1554.04 L1376.87 1574.19 L1370.98 1574.19 L1370.98 1538.54 L1376.87 1538.54 L1376.87 1544.08 Q1378.97 1540.86 1381.8 1539.27 Q1384.67 1537.68 1388.39 1537.68 Q1394.54 1537.68 1397.69 1541.5 Q1400.84 1545.29 1400.84 1552.67 Z\" fill=\"#000000\" fill-rule=\"evenodd\" fill-opacity=\"1\" /><path clip-path=\"url(#clip550)\" d=\"M1435.24 1539.59 L1435.24 1545.13 Q1432.76 1543.85 1430.09 1543.22 Q1427.41 1542.58 1424.55 1542.58 Q1420.19 1542.58 1417.99 1543.92 Q1415.83 1545.25 1415.83 1547.93 Q1415.83 1549.96 1417.39 1551.14 Q1418.95 1552.29 1423.66 1553.34 L1425.66 1553.78 Q1431.9 1555.12 1434.51 1557.57 Q1437.15 1559.99 1437.15 1564.35 Q1437.15 1569.32 1433.21 1572.21 Q1429.29 1575.11 1422.42 1575.11 Q1419.55 1575.11 1416.43 1574.54 Q1413.35 1573.99 1409.91 1572.88 L1409.91 1566.83 Q1413.16 1568.52 1416.31 1569.38 Q1419.46 1570.21 1422.54 1570.21 Q1426.68 1570.21 1428.91 1568.81 Q1431.14 1567.37 1431.14 1564.8 Q1431.14 1562.41 1429.51 1561.14 Q1427.92 1559.86 1422.48 1558.68 L1420.44 1558.21 Q1415 1557.06 1412.58 1554.71 Q1410.16 1552.32 1410.16 1548.18 Q1410.16 1543.15 1413.73 1540.42 Q1417.29 1537.68 1423.85 1537.68 Q1427.1 1537.68 1429.96 1538.16 Q1432.83 1538.63 1435.24 1539.59 Z\" fill=\"#000000\" fill-rule=\"evenodd\" fill-opacity=\"1\" /><polyline clip-path=\"url(#clip552)\" style=\"stroke:#000000; stroke-linecap:round; stroke-linejoin:round; stroke-width:2; stroke-opacity:0.1; fill:none\" points=\"\n",
       "  220.676,1210.39 2352.76,1210.39 \n",
       "  \"/>\n",
       "<polyline clip-path=\"url(#clip552)\" style=\"stroke:#000000; stroke-linecap:round; stroke-linejoin:round; stroke-width:2; stroke-opacity:0.1; fill:none\" points=\"\n",
       "  220.676,989.154 2352.76,989.154 \n",
       "  \"/>\n",
       "<polyline clip-path=\"url(#clip552)\" style=\"stroke:#000000; stroke-linecap:round; stroke-linejoin:round; stroke-width:2; stroke-opacity:0.1; fill:none\" points=\"\n",
       "  220.676,767.913 2352.76,767.913 \n",
       "  \"/>\n",
       "<polyline clip-path=\"url(#clip552)\" style=\"stroke:#000000; stroke-linecap:round; stroke-linejoin:round; stroke-width:2; stroke-opacity:0.1; fill:none\" points=\"\n",
       "  220.676,546.673 2352.76,546.673 \n",
       "  \"/>\n",
       "<polyline clip-path=\"url(#clip552)\" style=\"stroke:#000000; stroke-linecap:round; stroke-linejoin:round; stroke-width:2; stroke-opacity:0.1; fill:none\" points=\"\n",
       "  220.676,325.432 2352.76,325.432 \n",
       "  \"/>\n",
       "<polyline clip-path=\"url(#clip552)\" style=\"stroke:#000000; stroke-linecap:round; stroke-linejoin:round; stroke-width:2; stroke-opacity:0.1; fill:none\" points=\"\n",
       "  220.676,104.191 2352.76,104.191 \n",
       "  \"/>\n",
       "<polyline clip-path=\"url(#clip550)\" style=\"stroke:#000000; stroke-linecap:round; stroke-linejoin:round; stroke-width:4; stroke-opacity:1; fill:none\" points=\"\n",
       "  220.676,1410.9 220.676,47.2441 \n",
       "  \"/>\n",
       "<polyline clip-path=\"url(#clip550)\" style=\"stroke:#000000; stroke-linecap:round; stroke-linejoin:round; stroke-width:4; stroke-opacity:1; fill:none\" points=\"\n",
       "  220.676,1210.39 239.574,1210.39 \n",
       "  \"/>\n",
       "<polyline clip-path=\"url(#clip550)\" style=\"stroke:#000000; stroke-linecap:round; stroke-linejoin:round; stroke-width:4; stroke-opacity:1; fill:none\" points=\"\n",
       "  220.676,989.154 239.574,989.154 \n",
       "  \"/>\n",
       "<polyline clip-path=\"url(#clip550)\" style=\"stroke:#000000; stroke-linecap:round; stroke-linejoin:round; stroke-width:4; stroke-opacity:1; fill:none\" points=\"\n",
       "  220.676,767.913 239.574,767.913 \n",
       "  \"/>\n",
       "<polyline clip-path=\"url(#clip550)\" style=\"stroke:#000000; stroke-linecap:round; stroke-linejoin:round; stroke-width:4; stroke-opacity:1; fill:none\" points=\"\n",
       "  220.676,546.673 239.574,546.673 \n",
       "  \"/>\n",
       "<polyline clip-path=\"url(#clip550)\" style=\"stroke:#000000; stroke-linecap:round; stroke-linejoin:round; stroke-width:4; stroke-opacity:1; fill:none\" points=\"\n",
       "  220.676,325.432 239.574,325.432 \n",
       "  \"/>\n",
       "<polyline clip-path=\"url(#clip550)\" style=\"stroke:#000000; stroke-linecap:round; stroke-linejoin:round; stroke-width:4; stroke-opacity:1; fill:none\" points=\"\n",
       "  220.676,104.191 239.574,104.191 \n",
       "  \"/>\n",
       "<path clip-path=\"url(#clip550)\" d=\"M130.996 1197.19 L119.191 1215.64 L130.996 1215.64 L130.996 1197.19 M129.769 1193.11 L135.649 1193.11 L135.649 1215.64 L140.579 1215.64 L140.579 1219.53 L135.649 1219.53 L135.649 1227.67 L130.996 1227.67 L130.996 1219.53 L115.394 1219.53 L115.394 1215.01 L129.769 1193.11 Z\" fill=\"#000000\" fill-rule=\"evenodd\" fill-opacity=\"1\" /><path clip-path=\"url(#clip550)\" d=\"M148.311 1221.79 L153.195 1221.79 L153.195 1227.67 L148.311 1227.67 L148.311 1221.79 Z\" fill=\"#000000\" fill-rule=\"evenodd\" fill-opacity=\"1\" /><path clip-path=\"url(#clip550)\" d=\"M177.547 1209.04 Q180.903 1209.76 182.778 1212.03 Q184.676 1214.29 184.676 1217.63 Q184.676 1222.74 181.158 1225.54 Q177.639 1228.35 171.158 1228.35 Q168.982 1228.35 166.667 1227.91 Q164.376 1227.49 161.922 1226.63 L161.922 1222.12 Q163.866 1223.25 166.181 1223.83 Q168.496 1224.41 171.019 1224.41 Q175.417 1224.41 177.709 1222.67 Q180.024 1220.94 180.024 1217.63 Q180.024 1214.57 177.871 1212.86 Q175.741 1211.12 171.922 1211.12 L167.894 1211.12 L167.894 1207.28 L172.107 1207.28 Q175.556 1207.28 177.385 1205.92 Q179.214 1204.53 179.214 1201.93 Q179.214 1199.27 177.315 1197.86 Q175.44 1196.42 171.922 1196.42 Q170.001 1196.42 167.802 1196.84 Q165.602 1197.26 162.964 1198.14 L162.964 1193.97 Q165.626 1193.23 167.94 1192.86 Q170.278 1192.49 172.339 1192.49 Q177.663 1192.49 180.764 1194.92 Q183.866 1197.33 183.866 1201.45 Q183.866 1204.32 182.223 1206.31 Q180.579 1208.28 177.547 1209.04 Z\" fill=\"#000000\" fill-rule=\"evenodd\" fill-opacity=\"1\" /><path clip-path=\"url(#clip550)\" d=\"M129.862 975.948 L118.056 994.397 L129.862 994.397 L129.862 975.948 M128.635 971.874 L134.515 971.874 L134.515 994.397 L139.445 994.397 L139.445 998.286 L134.515 998.286 L134.515 1006.43 L129.862 1006.43 L129.862 998.286 L114.26 998.286 L114.26 993.772 L128.635 971.874 Z\" fill=\"#000000\" fill-rule=\"evenodd\" fill-opacity=\"1\" /><path clip-path=\"url(#clip550)\" d=\"M147.177 1000.55 L152.061 1000.55 L152.061 1006.43 L147.177 1006.43 L147.177 1000.55 Z\" fill=\"#000000\" fill-rule=\"evenodd\" fill-opacity=\"1\" /><path clip-path=\"url(#clip550)\" d=\"M175.093 975.948 L163.288 994.397 L175.093 994.397 L175.093 975.948 M173.866 971.874 L179.746 971.874 L179.746 994.397 L184.676 994.397 L184.676 998.286 L179.746 998.286 L179.746 1006.43 L175.093 1006.43 L175.093 998.286 L159.491 998.286 L159.491 993.772 L173.866 971.874 Z\" fill=\"#000000\" fill-rule=\"evenodd\" fill-opacity=\"1\" /><path clip-path=\"url(#clip550)\" d=\"M131.343 754.707 L119.538 773.156 L131.343 773.156 L131.343 754.707 M130.117 750.633 L135.996 750.633 L135.996 773.156 L140.927 773.156 L140.927 777.045 L135.996 777.045 L135.996 785.193 L131.343 785.193 L131.343 777.045 L115.742 777.045 L115.742 772.531 L130.117 750.633 Z\" fill=\"#000000\" fill-rule=\"evenodd\" fill-opacity=\"1\" /><path clip-path=\"url(#clip550)\" d=\"M148.658 779.314 L153.542 779.314 L153.542 785.193 L148.658 785.193 L148.658 779.314 Z\" fill=\"#000000\" fill-rule=\"evenodd\" fill-opacity=\"1\" /><path clip-path=\"url(#clip550)\" d=\"M163.774 750.633 L182.13 750.633 L182.13 754.568 L168.056 754.568 L168.056 763.041 Q169.075 762.693 170.093 762.531 Q171.112 762.346 172.13 762.346 Q177.917 762.346 181.297 765.517 Q184.676 768.689 184.676 774.105 Q184.676 779.684 181.204 782.786 Q177.732 785.864 171.413 785.864 Q169.237 785.864 166.968 785.494 Q164.723 785.124 162.315 784.383 L162.315 779.684 Q164.399 780.818 166.621 781.374 Q168.843 781.929 171.32 781.929 Q175.325 781.929 177.663 779.823 Q180.001 777.716 180.001 774.105 Q180.001 770.494 177.663 768.388 Q175.325 766.281 171.32 766.281 Q169.445 766.281 167.57 766.698 Q165.718 767.115 163.774 767.994 L163.774 750.633 Z\" fill=\"#000000\" fill-rule=\"evenodd\" fill-opacity=\"1\" /><path clip-path=\"url(#clip550)\" d=\"M130.186 533.467 L118.381 551.916 L130.186 551.916 L130.186 533.467 M128.959 529.393 L134.839 529.393 L134.839 551.916 L139.769 551.916 L139.769 555.804 L134.839 555.804 L134.839 563.953 L130.186 563.953 L130.186 555.804 L114.584 555.804 L114.584 551.291 L128.959 529.393 Z\" fill=\"#000000\" fill-rule=\"evenodd\" fill-opacity=\"1\" /><path clip-path=\"url(#clip550)\" d=\"M147.501 558.073 L152.385 558.073 L152.385 563.953 L147.501 563.953 L147.501 558.073 Z\" fill=\"#000000\" fill-rule=\"evenodd\" fill-opacity=\"1\" /><path clip-path=\"url(#clip550)\" d=\"M173.149 544.809 Q170.001 544.809 168.149 546.962 Q166.32 549.115 166.32 552.865 Q166.32 556.591 168.149 558.767 Q170.001 560.92 173.149 560.92 Q176.297 560.92 178.126 558.767 Q179.977 556.591 179.977 552.865 Q179.977 549.115 178.126 546.962 Q176.297 544.809 173.149 544.809 M182.431 530.156 L182.431 534.416 Q180.672 533.582 178.866 533.143 Q177.084 532.703 175.325 532.703 Q170.695 532.703 168.241 535.828 Q165.811 538.953 165.464 545.272 Q166.829 543.258 168.889 542.193 Q170.95 541.105 173.427 541.105 Q178.635 541.105 181.644 544.277 Q184.676 547.425 184.676 552.865 Q184.676 558.189 181.528 561.406 Q178.38 564.624 173.149 564.624 Q167.153 564.624 163.982 560.041 Q160.811 555.434 160.811 546.707 Q160.811 538.513 164.7 533.652 Q168.589 528.768 175.139 528.768 Q176.899 528.768 178.681 529.115 Q180.487 529.462 182.431 530.156 Z\" fill=\"#000000\" fill-rule=\"evenodd\" fill-opacity=\"1\" /><path clip-path=\"url(#clip550)\" d=\"M131.251 312.226 L119.445 330.675 L131.251 330.675 L131.251 312.226 M130.024 308.152 L135.904 308.152 L135.904 330.675 L140.834 330.675 L140.834 334.564 L135.904 334.564 L135.904 342.712 L131.251 342.712 L131.251 334.564 L115.649 334.564 L115.649 330.05 L130.024 308.152 Z\" fill=\"#000000\" fill-rule=\"evenodd\" fill-opacity=\"1\" /><path clip-path=\"url(#clip550)\" d=\"M148.566 336.832 L153.45 336.832 L153.45 342.712 L148.566 342.712 L148.566 336.832 Z\" fill=\"#000000\" fill-rule=\"evenodd\" fill-opacity=\"1\" /><path clip-path=\"url(#clip550)\" d=\"M162.454 308.152 L184.676 308.152 L184.676 310.143 L172.13 342.712 L167.246 342.712 L179.051 312.087 L162.454 312.087 L162.454 308.152 Z\" fill=\"#000000\" fill-rule=\"evenodd\" fill-opacity=\"1\" /><path clip-path=\"url(#clip550)\" d=\"M130.441 90.9853 L118.635 109.434 L130.441 109.434 L130.441 90.9853 M129.214 86.9112 L135.093 86.9112 L135.093 109.434 L140.024 109.434 L140.024 113.323 L135.093 113.323 L135.093 121.471 L130.441 121.471 L130.441 113.323 L114.839 113.323 L114.839 108.809 L129.214 86.9112 Z\" fill=\"#000000\" fill-rule=\"evenodd\" fill-opacity=\"1\" /><path clip-path=\"url(#clip550)\" d=\"M147.755 115.592 L152.64 115.592 L152.64 121.471 L147.755 121.471 L147.755 115.592 Z\" fill=\"#000000\" fill-rule=\"evenodd\" fill-opacity=\"1\" /><path clip-path=\"url(#clip550)\" d=\"M172.825 105.059 Q169.491 105.059 167.57 106.842 Q165.672 108.624 165.672 111.749 Q165.672 114.874 167.57 116.656 Q169.491 118.439 172.825 118.439 Q176.158 118.439 178.079 116.656 Q180.001 114.851 180.001 111.749 Q180.001 108.624 178.079 106.842 Q176.181 105.059 172.825 105.059 M168.149 103.069 Q165.14 102.328 163.45 100.268 Q161.783 98.2075 161.783 95.2445 Q161.783 91.101 164.723 88.6936 Q167.686 86.2862 172.825 86.2862 Q177.987 86.2862 180.926 88.6936 Q183.866 91.101 183.866 95.2445 Q183.866 98.2075 182.176 100.268 Q180.51 102.328 177.524 103.069 Q180.903 103.856 182.778 106.147 Q184.676 108.439 184.676 111.749 Q184.676 116.772 181.598 119.457 Q178.542 122.143 172.825 122.143 Q167.107 122.143 164.028 119.457 Q160.973 116.772 160.973 111.749 Q160.973 108.439 162.871 106.147 Q164.769 103.856 168.149 103.069 M166.436 95.6843 Q166.436 98.3695 168.102 99.8741 Q169.792 101.379 172.825 101.379 Q175.834 101.379 177.524 99.8741 Q179.237 98.3695 179.237 95.6843 Q179.237 92.9992 177.524 91.4945 Q175.834 89.9899 172.825 89.9899 Q169.792 89.9899 168.102 91.4945 Q166.436 92.9992 166.436 95.6843 Z\" fill=\"#000000\" fill-rule=\"evenodd\" fill-opacity=\"1\" /><path clip-path=\"url(#clip550)\" d=\"M22.818 978.129 L46.4666 986.85 L46.4666 969.376 L22.818 978.129 M16.4842 981.757 L16.4842 974.468 L64.0042 956.358 L64.0042 963.042 L51.8138 967.371 L51.8138 988.791 L64.0042 993.12 L64.0042 999.899 L16.4842 981.757 Z\" fill=\"#000000\" fill-rule=\"evenodd\" fill-opacity=\"1\" /><path clip-path=\"url(#clip550)\" d=\"M28.3562 957.695 L28.3562 951.488 L58.275 940.348 L28.3562 929.208 L28.3562 923.002 L64.0042 936.37 L64.0042 944.327 L28.3562 957.695 Z\" fill=\"#000000\" fill-rule=\"evenodd\" fill-opacity=\"1\" /><path clip-path=\"url(#clip550)\" d=\"M44.7161 884.425 L47.5806 884.425 L47.5806 911.352 Q53.6281 910.97 56.8109 907.724 Q59.9619 904.446 59.9619 898.621 Q59.9619 895.247 59.1344 892.096 Q58.3069 888.913 56.6518 885.794 L62.1899 885.794 Q63.5267 888.945 64.227 892.255 Q64.9272 895.565 64.9272 898.971 Q64.9272 907.501 59.9619 912.498 Q54.9967 917.463 46.5303 917.463 Q37.7774 917.463 32.6531 912.753 Q27.4968 908.01 27.4968 899.99 Q27.4968 892.796 32.1438 888.627 Q36.7589 884.425 44.7161 884.425 M42.9973 890.282 Q38.1912 890.346 35.3266 892.987 Q32.4621 895.597 32.4621 899.926 Q32.4621 904.828 35.2312 907.788 Q38.0002 910.716 43.0292 911.161 L42.9973 890.282 Z\" fill=\"#000000\" fill-rule=\"evenodd\" fill-opacity=\"1\" /><path clip-path=\"url(#clip550)\" d=\"M33.8307 854.157 Q33.2578 855.143 33.0032 856.321 Q32.7167 857.467 32.7167 858.867 Q32.7167 863.832 35.9632 866.506 Q39.1779 869.148 45.2253 869.148 L64.0042 869.148 L64.0042 875.036 L28.3562 875.036 L28.3562 869.148 L33.8944 869.148 Q30.6479 867.302 29.0883 864.342 Q27.4968 861.382 27.4968 857.148 Q27.4968 856.544 27.5923 855.812 Q27.656 855.08 27.8151 854.188 L33.8307 854.157 Z\" fill=\"#000000\" fill-rule=\"evenodd\" fill-opacity=\"1\" /><path clip-path=\"url(#clip550)\" d=\"M46.0847 831.813 Q46.0847 838.911 47.7079 841.648 Q49.3312 844.385 53.2461 844.385 Q56.3653 844.385 58.2114 842.348 Q60.0256 840.279 60.0256 836.746 Q60.0256 831.877 56.5881 828.948 Q53.1188 825.988 47.3897 825.988 L46.0847 825.988 L46.0847 831.813 M43.6657 820.132 L64.0042 820.132 L64.0042 825.988 L58.5933 825.988 Q61.8398 827.993 63.3994 830.985 Q64.9272 833.977 64.9272 838.306 Q64.9272 843.78 61.8716 847.027 Q58.7843 850.242 53.6281 850.242 Q47.6125 850.242 44.5569 846.231 Q41.5014 842.189 41.5014 834.2 L41.5014 825.988 L40.9285 825.988 Q36.8862 825.988 34.6901 828.662 Q32.4621 831.304 32.4621 836.11 Q32.4621 839.165 33.1941 842.062 Q33.9262 844.958 35.3903 847.632 L29.9795 847.632 Q28.7381 844.417 28.1334 841.393 Q27.4968 838.37 27.4968 835.505 Q27.4968 827.771 31.5072 823.951 Q35.5176 820.132 43.6657 820.132 Z\" fill=\"#000000\" fill-rule=\"evenodd\" fill-opacity=\"1\" /><path clip-path=\"url(#clip550)\" d=\"M45.7664 784.611 Q39.4007 784.611 35.8996 787.253 Q32.3984 789.863 32.3984 794.605 Q32.3984 799.316 35.8996 801.958 Q39.4007 804.568 45.7664 804.568 Q52.1003 804.568 55.6014 801.958 Q59.1026 799.316 59.1026 794.605 Q59.1026 789.863 55.6014 787.253 Q52.1003 784.611 45.7664 784.611 M59.58 778.755 Q68.683 778.755 73.1071 782.797 Q77.5631 786.839 77.5631 795.178 Q77.5631 798.266 77.0857 801.003 Q76.6401 803.74 75.6852 806.318 L69.9879 806.318 Q71.3884 803.74 72.0568 801.226 Q72.7252 798.711 72.7252 796.101 Q72.7252 790.34 69.7015 787.476 Q66.7096 784.611 60.6303 784.611 L57.7339 784.611 Q60.885 786.425 62.4446 789.258 Q64.0042 792.091 64.0042 796.038 Q64.0042 802.594 59.0071 806.605 Q54.01 810.615 45.7664 810.615 Q37.491 810.615 32.4939 806.605 Q27.4968 802.594 27.4968 796.038 Q27.4968 792.091 29.0564 789.258 Q30.616 786.425 33.7671 784.611 L28.3562 784.611 L28.3562 778.755 L59.58 778.755 Z\" fill=\"#000000\" fill-rule=\"evenodd\" fill-opacity=\"1\" /><path clip-path=\"url(#clip550)\" d=\"M44.7161 736.2 L47.5806 736.2 L47.5806 763.127 Q53.6281 762.745 56.8109 759.498 Q59.9619 756.22 59.9619 750.395 Q59.9619 747.022 59.1344 743.871 Q58.3069 740.688 56.6518 737.569 L62.1899 737.569 Q63.5267 740.72 64.227 744.03 Q64.9272 747.34 64.9272 750.746 Q64.9272 759.276 59.9619 764.273 Q54.9967 769.238 46.5303 769.238 Q37.7774 769.238 32.6531 764.527 Q27.4968 759.785 27.4968 751.764 Q27.4968 744.571 32.1438 740.401 Q36.7589 736.2 44.7161 736.2 M42.9973 742.056 Q38.1912 742.12 35.3266 744.762 Q32.4621 747.372 32.4621 751.7 Q32.4621 756.602 35.2312 759.562 Q38.0002 762.49 43.0292 762.936 L42.9973 742.056 Z\" fill=\"#000000\" fill-rule=\"evenodd\" fill-opacity=\"1\" /><path clip-path=\"url(#clip550)\" d=\"M64.0042 693.359 L16.4842 711.501 L16.4842 704.785 L56.4926 689.73 L16.4842 674.644 L16.4842 667.96 L64.0042 686.07 L64.0042 693.359 Z\" fill=\"#000000\" fill-rule=\"evenodd\" fill-opacity=\"1\" /><path clip-path=\"url(#clip550)\" d=\"M44.7161 635.845 L47.5806 635.845 L47.5806 662.772 Q53.6281 662.39 56.8109 659.143 Q59.9619 655.865 59.9619 650.04 Q59.9619 646.666 59.1344 643.515 Q58.3069 640.332 56.6518 637.213 L62.1899 637.213 Q63.5267 640.364 64.227 643.674 Q64.9272 646.985 64.9272 650.39 Q64.9272 658.92 59.9619 663.917 Q54.9967 668.883 46.5303 668.883 Q37.7774 668.883 32.6531 664.172 Q27.4968 659.43 27.4968 651.409 Q27.4968 644.215 32.1438 640.046 Q36.7589 635.845 44.7161 635.845 M42.9973 641.701 Q38.1912 641.765 35.3266 644.406 Q32.4621 647.016 32.4621 651.345 Q32.4621 656.247 35.2312 659.207 Q38.0002 662.135 43.0292 662.581 L42.9973 641.701 Z\" fill=\"#000000\" fill-rule=\"evenodd\" fill-opacity=\"1\" /><path clip-path=\"url(#clip550)\" d=\"M14.479 626.232 L14.479 620.376 L64.0042 620.376 L64.0042 626.232 L14.479 626.232 Z\" fill=\"#000000\" fill-rule=\"evenodd\" fill-opacity=\"1\" /><path clip-path=\"url(#clip550)\" d=\"M32.4621 594.308 Q32.4621 599.019 36.1542 601.756 Q39.8145 604.493 46.212 604.493 Q52.6095 604.493 56.3017 601.788 Q59.9619 599.051 59.9619 594.308 Q59.9619 589.63 56.2698 586.892 Q52.5777 584.155 46.212 584.155 Q39.8781 584.155 36.186 586.892 Q32.4621 589.63 32.4621 594.308 M27.4968 594.308 Q27.4968 586.67 32.4621 582.309 Q37.4273 577.948 46.212 577.948 Q54.9649 577.948 59.9619 582.309 Q64.9272 586.67 64.9272 594.308 Q64.9272 601.979 59.9619 606.34 Q54.9649 610.668 46.212 610.668 Q37.4273 610.668 32.4621 606.34 Q27.4968 601.979 27.4968 594.308 Z\" fill=\"#000000\" fill-rule=\"evenodd\" fill-opacity=\"1\" /><path clip-path=\"url(#clip550)\" d=\"M29.7248 542.587 L35.1993 542.587 Q33.8307 545.07 33.1623 547.584 Q32.4621 550.067 32.4621 552.613 Q32.4621 558.31 36.0905 561.461 Q39.6872 564.612 46.212 564.612 Q52.7369 564.612 56.3653 561.461 Q59.9619 558.31 59.9619 552.613 Q59.9619 550.067 59.2935 547.584 Q58.5933 545.07 57.2247 542.587 L62.6355 542.587 Q63.7814 545.038 64.3543 547.68 Q64.9272 550.289 64.9272 553.25 Q64.9272 561.302 59.8664 566.045 Q54.8057 570.787 46.212 570.787 Q37.491 570.787 32.4939 566.013 Q27.4968 561.207 27.4968 552.868 Q27.4968 550.162 28.0697 547.584 Q28.6108 545.006 29.7248 542.587 Z\" fill=\"#000000\" fill-rule=\"evenodd\" fill-opacity=\"1\" /><path clip-path=\"url(#clip550)\" d=\"M28.3562 532.402 L28.3562 526.545 L64.0042 526.545 L64.0042 532.402 L28.3562 532.402 M14.479 532.402 L14.479 526.545 L21.895 526.545 L21.895 532.402 L14.479 532.402 Z\" fill=\"#000000\" fill-rule=\"evenodd\" fill-opacity=\"1\" /><path clip-path=\"url(#clip550)\" d=\"M18.2347 508.499 L28.3562 508.499 L28.3562 496.436 L32.9077 496.436 L32.9077 508.499 L52.2594 508.499 Q56.6199 508.499 57.8613 507.321 Q59.1026 506.111 59.1026 502.451 L59.1026 496.436 L64.0042 496.436 L64.0042 502.451 Q64.0042 509.231 61.4897 511.809 Q58.9434 514.387 52.2594 514.387 L32.9077 514.387 L32.9077 518.684 L28.3562 518.684 L28.3562 514.387 L18.2347 514.387 L18.2347 508.499 Z\" fill=\"#000000\" fill-rule=\"evenodd\" fill-opacity=\"1\" /><path clip-path=\"url(#clip550)\" d=\"M67.3143 473.901 Q73.68 476.384 75.6216 478.739 Q77.5631 481.094 77.5631 485.041 L77.5631 489.72 L72.6615 489.72 L72.6615 486.282 Q72.6615 483.863 71.5157 482.527 Q70.3699 481.19 66.1048 479.566 L63.4312 478.516 L28.3562 492.934 L28.3562 486.728 L56.238 475.588 L28.3562 464.448 L28.3562 458.241 L67.3143 473.901 Z\" fill=\"#000000\" fill-rule=\"evenodd\" fill-opacity=\"1\" /><polyline clip-path=\"url(#clip552)\" style=\"stroke:#009af9; stroke-linecap:round; stroke-linejoin:round; stroke-width:4; stroke-opacity:1; fill:none\" points=\"\n",
       "  281.018,555.701 291.126,404.672 301.233,333.363 311.341,405.995 321.448,430.242 331.556,418.221 341.663,531.29 351.771,403.968 361.878,341.456 371.986,446.623 \n",
       "  382.093,506.053 392.201,617.389 402.309,569.086 412.416,600.027 422.524,653.442 432.631,648.735 442.739,611.96 452.846,527.503 462.954,551.04 473.061,462.287 \n",
       "  483.169,382.431 493.276,496.472 503.384,512.408 513.491,541.101 523.599,433.078 533.706,371.093 543.814,585.626 553.921,360.356 564.029,465.904 574.136,284.096 \n",
       "  584.244,311.595 594.351,202.762 604.459,352.713 614.566,422.812 624.674,457.857 634.781,449.128 644.889,650.28 654.996,572.511 665.104,583.512 675.211,437.608 \n",
       "  685.319,420.907 695.426,619.3 705.534,741.815 715.642,928.857 725.749,620.514 735.857,574.615 745.964,426.408 756.072,312.234 766.179,263.725 776.287,462.139 \n",
       "  786.394,537.54 796.502,151.005 806.609,85.838 816.717,180.967 826.824,265.385 836.932,193.427 847.039,284.819 857.147,406.588 867.254,509.641 877.362,466.506 \n",
       "  887.469,469.83 897.577,479.415 907.684,320.45 917.792,318.598 927.899,304.253 938.007,397.049 948.114,309.321 958.222,360.245 968.329,448.008 978.437,677.5 \n",
       "  988.544,672.826 998.652,587.747 1008.76,649.853 1018.87,651.495 1028.97,618.567 1039.08,479.51 1049.19,652.455 1059.3,801.905 1069.4,676.306 1079.51,753.295 \n",
       "  1089.62,833.443 1099.73,612.429 1109.83,810.293 1119.94,1332.93 1130.05,1160.69 1140.16,992.829 1150.26,1179.37 1160.37,1169.2 1170.48,1219.2 1180.59,1372.3 \n",
       "  1190.69,1016.53 1200.8,812.814 1210.91,919.535 1221.02,1080.83 1231.12,1067.09 1241.23,938.912 1251.34,953.658 1261.45,985.36 1271.55,989.071 1281.66,1055.76 \n",
       "  1291.77,1004.23 1301.88,1044.42 1311.98,1132.93 1322.09,1087.65 1332.2,812.078 1342.31,858.682 1352.42,862.623 1362.52,853.932 1372.63,819.639 1382.74,800.717 \n",
       "  1392.85,889.108 1402.95,926.475 1413.06,883.931 1423.17,933.537 1433.28,906.313 1443.38,928.948 1453.49,1009.04 1463.6,1183.41 1473.71,1183.54 1483.81,1186.77 \n",
       "  1493.92,1114.85 1504.03,1175.12 1514.14,1086.5 1524.24,1004.08 1534.35,1142.42 1544.46,968.064 1554.57,868.029 1564.67,784.099 1574.78,688.557 1584.89,779.544 \n",
       "  1595,743.458 1605.1,743.493 1615.21,952.927 1625.32,904.293 1635.43,1099.07 1645.53,1250.47 1655.64,1212.33 1665.75,1263.45 1675.86,1371.59 1685.96,1103.47 \n",
       "  1696.07,1043.68 1706.18,856.376 1716.29,736.329 1726.39,734.675 1736.5,722.046 1746.61,1018.44 1756.72,999.757 1766.82,1026.11 1776.93,1025.49 1787.04,1094 \n",
       "  1797.15,1253.8 1807.25,1284.57 1817.36,1039.75 1827.47,849.524 1837.58,928.537 1847.68,993.475 1857.79,956.046 1867.9,779.84 1878.01,742.297 1888.11,905.598 \n",
       "  1898.22,856.631 1908.33,964.082 1918.44,1084.9 1928.54,1024.03 1938.65,1083.25 1948.76,1096.67 1958.87,972.089 1968.97,1100.04 1979.08,1133.78 1989.19,756.827 \n",
       "  1999.3,744.462 2009.4,705.75 2019.51,684.941 2029.62,732.687 2039.73,731.505 2049.83,776.245 2059.94,893.328 2070.05,930.815 2080.16,846.081 2090.26,893.23 \n",
       "  2100.37,895.706 2110.48,785.171 2120.59,697.644 2130.69,669.211 2140.8,656.698 2150.91,796.821 2161.02,686.789 2171.12,949.731 2181.23,1092.38 2191.34,1279.96 \n",
       "  2201.45,1291.04 2211.55,986.14 2221.66,863.142 2231.77,961.209 2241.88,964.253 2251.98,975.457 2262.09,1119.3 2272.2,1078.82 2282.31,1116.05 2292.41,1095.44 \n",
       "  \n",
       "  \"/>\n",
       "</svg>\n"
      ]
     },
     "execution_count": 47,
     "metadata": {},
     "output_type": "execute_result"
    }
   ],
   "source": [
    "plot(iterations, avg_velocity, xlabel=\"Iterations\", ylabel=\"Average Velocity\", legend = false, xformatter = :scientific)"
   ]
  },
  {
   "cell_type": "code",
   "execution_count": 48,
   "id": "c3113dc1",
   "metadata": {},
   "outputs": [
    {
     "data": {
      "text/plain": [
       "\"/home/larissa/Documents/Projects/ADLR/ADLR_project/src/RL_3D_quadcopter_PPO/office_test/plots/fast/avg_velocity.svg\""
      ]
     },
     "execution_count": 48,
     "metadata": {},
     "output_type": "execute_result"
    }
   ],
   "source": [
    "savefig(fig_path * \"avg_velocity.svg\")"
   ]
  },
  {
   "cell_type": "code",
   "execution_count": 49,
   "id": "1b4de56f",
   "metadata": {},
   "outputs": [
    {
     "data": {
      "image/svg+xml": [
       "<?xml version=\"1.0\" encoding=\"utf-8\"?>\n",
       "<svg xmlns=\"http://www.w3.org/2000/svg\" xmlns:xlink=\"http://www.w3.org/1999/xlink\" width=\"600\" height=\"400\" viewBox=\"0 0 2400 1600\">\n",
       "<defs>\n",
       "  <clipPath id=\"clip630\">\n",
       "    <rect x=\"0\" y=\"0\" width=\"2400\" height=\"1600\"/>\n",
       "  </clipPath>\n",
       "</defs>\n",
       "<path clip-path=\"url(#clip630)\" d=\"\n",
       "M0 1600 L2400 1600 L2400 0 L0 0  Z\n",
       "  \" fill=\"#ffffff\" fill-rule=\"evenodd\" fill-opacity=\"1\"/>\n",
       "<defs>\n",
       "  <clipPath id=\"clip631\">\n",
       "    <rect x=\"480\" y=\"0\" width=\"1681\" height=\"1600\"/>\n",
       "  </clipPath>\n",
       "</defs>\n",
       "<path clip-path=\"url(#clip630)\" d=\"\n",
       "M219.334 1410.9 L2352.76 1410.9 L2352.76 47.2441 L219.334 47.2441  Z\n",
       "  \" fill=\"#ffffff\" fill-rule=\"evenodd\" fill-opacity=\"1\"/>\n",
       "<defs>\n",
       "  <clipPath id=\"clip632\">\n",
       "    <rect x=\"219\" y=\"47\" width=\"2134\" height=\"1365\"/>\n",
       "  </clipPath>\n",
       "</defs>\n",
       "<polyline clip-path=\"url(#clip632)\" style=\"stroke:#000000; stroke-linecap:round; stroke-linejoin:round; stroke-width:2; stroke-opacity:0.1; fill:none\" points=\"\n",
       "  269.6,1410.9 269.6,47.2441 \n",
       "  \"/>\n",
       "<polyline clip-path=\"url(#clip632)\" style=\"stroke:#000000; stroke-linecap:round; stroke-linejoin:round; stroke-width:2; stroke-opacity:0.1; fill:none\" points=\"\n",
       "  775.294,1410.9 775.294,47.2441 \n",
       "  \"/>\n",
       "<polyline clip-path=\"url(#clip632)\" style=\"stroke:#000000; stroke-linecap:round; stroke-linejoin:round; stroke-width:2; stroke-opacity:0.1; fill:none\" points=\"\n",
       "  1280.99,1410.9 1280.99,47.2441 \n",
       "  \"/>\n",
       "<polyline clip-path=\"url(#clip632)\" style=\"stroke:#000000; stroke-linecap:round; stroke-linejoin:round; stroke-width:2; stroke-opacity:0.1; fill:none\" points=\"\n",
       "  1786.68,1410.9 1786.68,47.2441 \n",
       "  \"/>\n",
       "<polyline clip-path=\"url(#clip632)\" style=\"stroke:#000000; stroke-linecap:round; stroke-linejoin:round; stroke-width:2; stroke-opacity:0.1; fill:none\" points=\"\n",
       "  2292.38,1410.9 2292.38,47.2441 \n",
       "  \"/>\n",
       "<polyline clip-path=\"url(#clip630)\" style=\"stroke:#000000; stroke-linecap:round; stroke-linejoin:round; stroke-width:4; stroke-opacity:1; fill:none\" points=\"\n",
       "  219.334,1410.9 2352.76,1410.9 \n",
       "  \"/>\n",
       "<polyline clip-path=\"url(#clip630)\" style=\"stroke:#000000; stroke-linecap:round; stroke-linejoin:round; stroke-width:4; stroke-opacity:1; fill:none\" points=\"\n",
       "  269.6,1410.9 269.6,1392 \n",
       "  \"/>\n",
       "<polyline clip-path=\"url(#clip630)\" style=\"stroke:#000000; stroke-linecap:round; stroke-linejoin:round; stroke-width:4; stroke-opacity:1; fill:none\" points=\"\n",
       "  775.294,1410.9 775.294,1392 \n",
       "  \"/>\n",
       "<polyline clip-path=\"url(#clip630)\" style=\"stroke:#000000; stroke-linecap:round; stroke-linejoin:round; stroke-width:4; stroke-opacity:1; fill:none\" points=\"\n",
       "  1280.99,1410.9 1280.99,1392 \n",
       "  \"/>\n",
       "<polyline clip-path=\"url(#clip630)\" style=\"stroke:#000000; stroke-linecap:round; stroke-linejoin:round; stroke-width:4; stroke-opacity:1; fill:none\" points=\"\n",
       "  1786.68,1410.9 1786.68,1392 \n",
       "  \"/>\n",
       "<polyline clip-path=\"url(#clip630)\" style=\"stroke:#000000; stroke-linecap:round; stroke-linejoin:round; stroke-width:4; stroke-opacity:1; fill:none\" points=\"\n",
       "  2292.38,1410.9 2292.38,1392 \n",
       "  \"/>\n",
       "<path clip-path=\"url(#clip630)\" d=\"M269.6 1441.82 Q265.989 1441.82 264.16 1445.38 Q262.355 1448.92 262.355 1456.05 Q262.355 1463.16 264.16 1466.72 Q265.989 1470.26 269.6 1470.26 Q273.234 1470.26 275.04 1466.72 Q276.868 1463.16 276.868 1456.05 Q276.868 1448.92 275.04 1445.38 Q273.234 1441.82 269.6 1441.82 M269.6 1438.11 Q275.41 1438.11 278.466 1442.72 Q281.544 1447.3 281.544 1456.05 Q281.544 1464.78 278.466 1469.38 Q275.41 1473.97 269.6 1473.97 Q263.79 1473.97 260.711 1469.38 Q257.655 1464.78 257.655 1456.05 Q257.655 1447.3 260.711 1442.72 Q263.79 1438.11 269.6 1438.11 Z\" fill=\"#000000\" fill-rule=\"evenodd\" fill-opacity=\"1\" /><path clip-path=\"url(#clip630)\" d=\"M667.659 1454.4 L686.016 1454.4 L686.016 1458.33 L671.942 1458.33 L671.942 1466.8 Q672.96 1466.46 673.979 1466.29 Q674.997 1466.11 676.016 1466.11 Q681.803 1466.11 685.182 1469.28 Q688.562 1472.45 688.562 1477.87 Q688.562 1483.45 685.09 1486.55 Q681.617 1489.63 675.298 1489.63 Q673.122 1489.63 670.854 1489.26 Q668.608 1488.89 666.201 1488.15 L666.201 1483.45 Q668.284 1484.58 670.506 1485.14 Q672.729 1485.69 675.205 1485.69 Q679.21 1485.69 681.548 1483.59 Q683.886 1481.48 683.886 1477.87 Q683.886 1474.26 681.548 1472.15 Q679.21 1470.04 675.205 1470.04 Q673.33 1470.04 671.455 1470.46 Q669.604 1470.88 667.659 1471.76 L667.659 1454.4 Z\" fill=\"#000000\" fill-rule=\"evenodd\" fill-opacity=\"1\" /><path clip-path=\"url(#clip630)\" d=\"M697.775 1483.08 L702.659 1483.08 L702.659 1488.96 L697.775 1488.96 L697.775 1483.08 Z\" fill=\"#000000\" fill-rule=\"evenodd\" fill-opacity=\"1\" /><path clip-path=\"url(#clip630)\" d=\"M722.844 1457.48 Q719.233 1457.48 717.404 1461.04 Q715.599 1464.58 715.599 1471.71 Q715.599 1478.82 717.404 1482.38 Q719.233 1485.92 722.844 1485.92 Q726.478 1485.92 728.284 1482.38 Q730.113 1478.82 730.113 1471.71 Q730.113 1464.58 728.284 1461.04 Q726.478 1457.48 722.844 1457.48 M722.844 1453.77 Q728.654 1453.77 731.71 1458.38 Q734.788 1462.96 734.788 1471.71 Q734.788 1480.44 731.71 1485.04 Q728.654 1489.63 722.844 1489.63 Q717.034 1489.63 713.955 1485.04 Q710.9 1480.44 710.9 1471.71 Q710.9 1462.96 713.955 1458.38 Q717.034 1453.77 722.844 1453.77 Z\" fill=\"#000000\" fill-rule=\"evenodd\" fill-opacity=\"1\" /><path clip-path=\"url(#clip630)\" d=\"M753.006 1457.48 Q749.395 1457.48 747.566 1461.04 Q745.761 1464.58 745.761 1471.71 Q745.761 1478.82 747.566 1482.38 Q749.395 1485.92 753.006 1485.92 Q756.64 1485.92 758.446 1482.38 Q760.274 1478.82 760.274 1471.71 Q760.274 1464.58 758.446 1461.04 Q756.64 1457.48 753.006 1457.48 M753.006 1453.77 Q758.816 1453.77 761.872 1458.38 Q764.95 1462.96 764.95 1471.71 Q764.95 1480.44 761.872 1485.04 Q758.816 1489.63 753.006 1489.63 Q747.196 1489.63 744.117 1485.04 Q741.062 1480.44 741.062 1471.71 Q741.062 1462.96 744.117 1458.38 Q747.196 1453.77 753.006 1453.77 Z\" fill=\"#000000\" fill-rule=\"evenodd\" fill-opacity=\"1\" /><path clip-path=\"url(#clip630)\" d=\"M801.339 1463.49 L790.76 1474.12 L801.339 1484.7 L798.584 1487.5 L787.959 1476.87 L777.335 1487.5 L774.603 1484.7 L785.159 1474.12 L774.603 1463.49 L777.335 1460.69 L787.959 1471.32 L798.584 1460.69 L801.339 1463.49 Z\" fill=\"#000000\" fill-rule=\"evenodd\" fill-opacity=\"1\" /><path clip-path=\"url(#clip630)\" d=\"M813.7 1485.02 L821.339 1485.02 L821.339 1458.66 L813.029 1460.32 L813.029 1456.06 L821.293 1454.4 L825.969 1454.4 L825.969 1485.02 L833.607 1485.02 L833.607 1488.96 L813.7 1488.96 L813.7 1485.02 Z\" fill=\"#000000\" fill-rule=\"evenodd\" fill-opacity=\"1\" /><path clip-path=\"url(#clip630)\" d=\"M853.052 1457.48 Q849.441 1457.48 847.612 1461.04 Q845.806 1464.58 845.806 1471.71 Q845.806 1478.82 847.612 1482.38 Q849.441 1485.92 853.052 1485.92 Q856.686 1485.92 858.492 1482.38 Q860.32 1478.82 860.32 1471.71 Q860.32 1464.58 858.492 1461.04 Q856.686 1457.48 853.052 1457.48 M853.052 1453.77 Q858.862 1453.77 861.917 1458.38 Q864.996 1462.96 864.996 1471.71 Q864.996 1480.44 861.917 1485.04 Q858.862 1489.63 853.052 1489.63 Q847.242 1489.63 844.163 1485.04 Q841.107 1480.44 841.107 1471.71 Q841.107 1462.96 844.163 1458.38 Q847.242 1453.77 853.052 1453.77 Z\" fill=\"#000000\" fill-rule=\"evenodd\" fill-opacity=\"1\" /><path clip-path=\"url(#clip630)\" d=\"M875.021 1445.99 Q872.463 1445.99 870.958 1447.74 Q869.472 1449.49 869.472 1452.54 Q869.472 1455.57 870.958 1457.33 Q872.463 1459.08 875.021 1459.08 Q877.579 1459.08 879.064 1457.33 Q880.569 1455.57 880.569 1452.54 Q880.569 1449.49 879.064 1447.74 Q877.579 1445.99 875.021 1445.99 M882.563 1434.09 L882.563 1437.55 Q881.133 1436.87 879.666 1436.51 Q878.218 1436.16 876.789 1436.16 Q873.027 1436.16 871.033 1438.69 Q869.059 1441.23 868.776 1446.37 Q869.886 1444.73 871.56 1443.87 Q873.234 1442.98 875.246 1442.98 Q879.478 1442.98 881.923 1445.56 Q884.387 1448.12 884.387 1452.54 Q884.387 1456.86 881.829 1459.48 Q879.271 1462.09 875.021 1462.09 Q870.149 1462.09 867.573 1458.37 Q864.996 1454.62 864.996 1447.53 Q864.996 1440.88 868.156 1436.93 Q871.316 1432.96 876.638 1432.96 Q878.068 1432.96 879.516 1433.24 Q880.983 1433.52 882.563 1434.09 Z\" fill=\"#000000\" fill-rule=\"evenodd\" fill-opacity=\"1\" /><path clip-path=\"url(#clip630)\" d=\"M1174.01 1485.02 L1181.65 1485.02 L1181.65 1458.66 L1173.34 1460.32 L1173.34 1456.06 L1181.6 1454.4 L1186.28 1454.4 L1186.28 1485.02 L1193.92 1485.02 L1193.92 1488.96 L1174.01 1488.96 L1174.01 1485.02 Z\" fill=\"#000000\" fill-rule=\"evenodd\" fill-opacity=\"1\" /><path clip-path=\"url(#clip630)\" d=\"M1203.36 1483.08 L1208.25 1483.08 L1208.25 1488.96 L1203.36 1488.96 L1203.36 1483.08 Z\" fill=\"#000000\" fill-rule=\"evenodd\" fill-opacity=\"1\" /><path clip-path=\"url(#clip630)\" d=\"M1228.43 1457.48 Q1224.82 1457.48 1222.99 1461.04 Q1221.19 1464.58 1221.19 1471.71 Q1221.19 1478.82 1222.99 1482.38 Q1224.82 1485.92 1228.43 1485.92 Q1232.06 1485.92 1233.87 1482.38 Q1235.7 1478.82 1235.7 1471.71 Q1235.7 1464.58 1233.87 1461.04 Q1232.06 1457.48 1228.43 1457.48 M1228.43 1453.77 Q1234.24 1453.77 1237.3 1458.38 Q1240.37 1462.96 1240.37 1471.71 Q1240.37 1480.44 1237.3 1485.04 Q1234.24 1489.63 1228.43 1489.63 Q1222.62 1489.63 1219.54 1485.04 Q1216.49 1480.44 1216.49 1471.71 Q1216.49 1462.96 1219.54 1458.38 Q1222.62 1453.77 1228.43 1453.77 Z\" fill=\"#000000\" fill-rule=\"evenodd\" fill-opacity=\"1\" /><path clip-path=\"url(#clip630)\" d=\"M1258.59 1457.48 Q1254.98 1457.48 1253.15 1461.04 Q1251.35 1464.58 1251.35 1471.71 Q1251.35 1478.82 1253.15 1482.38 Q1254.98 1485.92 1258.59 1485.92 Q1262.23 1485.92 1264.03 1482.38 Q1265.86 1478.82 1265.86 1471.71 Q1265.86 1464.58 1264.03 1461.04 Q1262.23 1457.48 1258.59 1457.48 M1258.59 1453.77 Q1264.4 1453.77 1267.46 1458.38 Q1270.54 1462.96 1270.54 1471.71 Q1270.54 1480.44 1267.46 1485.04 Q1264.4 1489.63 1258.59 1489.63 Q1252.78 1489.63 1249.7 1485.04 Q1246.65 1480.44 1246.65 1471.71 Q1246.65 1462.96 1249.7 1458.38 Q1252.78 1453.77 1258.59 1453.77 Z\" fill=\"#000000\" fill-rule=\"evenodd\" fill-opacity=\"1\" /><path clip-path=\"url(#clip630)\" d=\"M1306.93 1463.49 L1296.35 1474.12 L1306.93 1484.7 L1304.17 1487.5 L1293.55 1476.87 L1282.92 1487.5 L1280.19 1484.7 L1290.74 1474.12 L1280.19 1463.49 L1282.92 1460.69 L1293.55 1471.32 L1304.17 1460.69 L1306.93 1463.49 Z\" fill=\"#000000\" fill-rule=\"evenodd\" fill-opacity=\"1\" /><path clip-path=\"url(#clip630)\" d=\"M1319.29 1485.02 L1326.93 1485.02 L1326.93 1458.66 L1318.62 1460.32 L1318.62 1456.06 L1326.88 1454.4 L1331.55 1454.4 L1331.55 1485.02 L1339.19 1485.02 L1339.19 1488.96 L1319.29 1488.96 L1319.29 1485.02 Z\" fill=\"#000000\" fill-rule=\"evenodd\" fill-opacity=\"1\" /><path clip-path=\"url(#clip630)\" d=\"M1358.64 1457.48 Q1355.03 1457.48 1353.2 1461.04 Q1351.39 1464.58 1351.39 1471.71 Q1351.39 1478.82 1353.2 1482.38 Q1355.03 1485.92 1358.64 1485.92 Q1362.27 1485.92 1364.08 1482.38 Q1365.91 1478.82 1365.91 1471.71 Q1365.91 1464.58 1364.08 1461.04 Q1362.27 1457.48 1358.64 1457.48 M1358.64 1453.77 Q1364.45 1453.77 1367.5 1458.38 Q1370.58 1462.96 1370.58 1471.71 Q1370.58 1480.44 1367.5 1485.04 Q1364.45 1489.63 1358.64 1489.63 Q1352.83 1489.63 1349.75 1485.04 Q1346.69 1480.44 1346.69 1471.71 Q1346.69 1462.96 1349.75 1458.38 Q1352.83 1453.77 1358.64 1453.77 Z\" fill=\"#000000\" fill-rule=\"evenodd\" fill-opacity=\"1\" /><path clip-path=\"url(#clip630)\" d=\"M1370.58 1433.47 L1388.64 1433.47 L1388.64 1435.08 L1378.44 1461.55 L1374.48 1461.55 L1384.07 1436.66 L1370.58 1436.66 L1370.58 1433.47 Z\" fill=\"#000000\" fill-rule=\"evenodd\" fill-opacity=\"1\" /><path clip-path=\"url(#clip630)\" d=\"M1679.7 1485.02 L1687.34 1485.02 L1687.34 1458.66 L1679.03 1460.32 L1679.03 1456.06 L1687.3 1454.4 L1691.97 1454.4 L1691.97 1485.02 L1699.61 1485.02 L1699.61 1488.96 L1679.7 1488.96 L1679.7 1485.02 Z\" fill=\"#000000\" fill-rule=\"evenodd\" fill-opacity=\"1\" /><path clip-path=\"url(#clip630)\" d=\"M1709.06 1483.08 L1713.94 1483.08 L1713.94 1488.96 L1709.06 1488.96 L1709.06 1483.08 Z\" fill=\"#000000\" fill-rule=\"evenodd\" fill-opacity=\"1\" /><path clip-path=\"url(#clip630)\" d=\"M1724.17 1454.4 L1742.53 1454.4 L1742.53 1458.33 L1728.45 1458.33 L1728.45 1466.8 Q1729.47 1466.46 1730.49 1466.29 Q1731.51 1466.11 1732.53 1466.11 Q1738.31 1466.11 1741.69 1469.28 Q1745.07 1472.45 1745.07 1477.87 Q1745.07 1483.45 1741.6 1486.55 Q1738.13 1489.63 1731.81 1489.63 Q1729.63 1489.63 1727.37 1489.26 Q1725.12 1488.89 1722.71 1488.15 L1722.71 1483.45 Q1724.8 1484.58 1727.02 1485.14 Q1729.24 1485.69 1731.72 1485.69 Q1735.72 1485.69 1738.06 1483.59 Q1740.4 1481.48 1740.4 1477.87 Q1740.4 1474.26 1738.06 1472.15 Q1735.72 1470.04 1731.72 1470.04 Q1729.84 1470.04 1727.97 1470.46 Q1726.12 1470.88 1724.17 1471.76 L1724.17 1454.4 Z\" fill=\"#000000\" fill-rule=\"evenodd\" fill-opacity=\"1\" /><path clip-path=\"url(#clip630)\" d=\"M1764.29 1457.48 Q1760.68 1457.48 1758.85 1461.04 Q1757.04 1464.58 1757.04 1471.71 Q1757.04 1478.82 1758.85 1482.38 Q1760.68 1485.92 1764.29 1485.92 Q1767.92 1485.92 1769.73 1482.38 Q1771.55 1478.82 1771.55 1471.71 Q1771.55 1464.58 1769.73 1461.04 Q1767.92 1457.48 1764.29 1457.48 M1764.29 1453.77 Q1770.1 1453.77 1773.15 1458.38 Q1776.23 1462.96 1776.23 1471.71 Q1776.23 1480.44 1773.15 1485.04 Q1770.1 1489.63 1764.29 1489.63 Q1758.48 1489.63 1755.4 1485.04 Q1752.34 1480.44 1752.34 1471.71 Q1752.34 1462.96 1755.4 1458.38 Q1758.48 1453.77 1764.29 1453.77 Z\" fill=\"#000000\" fill-rule=\"evenodd\" fill-opacity=\"1\" /><path clip-path=\"url(#clip630)\" d=\"M1812.62 1463.49 L1802.04 1474.12 L1812.62 1484.7 L1809.86 1487.5 L1799.24 1476.87 L1788.61 1487.5 L1785.88 1484.7 L1796.44 1474.12 L1785.88 1463.49 L1788.61 1460.69 L1799.24 1471.32 L1809.86 1460.69 L1812.62 1463.49 Z\" fill=\"#000000\" fill-rule=\"evenodd\" fill-opacity=\"1\" /><path clip-path=\"url(#clip630)\" d=\"M1824.98 1485.02 L1832.62 1485.02 L1832.62 1458.66 L1824.31 1460.32 L1824.31 1456.06 L1832.57 1454.4 L1837.25 1454.4 L1837.25 1485.02 L1844.89 1485.02 L1844.89 1488.96 L1824.98 1488.96 L1824.98 1485.02 Z\" fill=\"#000000\" fill-rule=\"evenodd\" fill-opacity=\"1\" /><path clip-path=\"url(#clip630)\" d=\"M1864.33 1457.48 Q1860.72 1457.48 1858.89 1461.04 Q1857.09 1464.58 1857.09 1471.71 Q1857.09 1478.82 1858.89 1482.38 Q1860.72 1485.92 1864.33 1485.92 Q1867.97 1485.92 1869.77 1482.38 Q1871.6 1478.82 1871.6 1471.71 Q1871.6 1464.58 1869.77 1461.04 Q1867.97 1457.48 1864.33 1457.48 M1864.33 1453.77 Q1870.14 1453.77 1873.2 1458.38 Q1876.28 1462.96 1876.28 1471.71 Q1876.28 1480.44 1873.2 1485.04 Q1870.14 1489.63 1864.33 1489.63 Q1858.52 1489.63 1855.44 1485.04 Q1852.39 1480.44 1852.39 1471.71 Q1852.39 1462.96 1855.44 1458.38 Q1858.52 1453.77 1864.33 1453.77 Z\" fill=\"#000000\" fill-rule=\"evenodd\" fill-opacity=\"1\" /><path clip-path=\"url(#clip630)\" d=\"M1876.28 1433.47 L1894.33 1433.47 L1894.33 1435.08 L1884.14 1461.55 L1880.17 1461.55 L1889.76 1436.66 L1876.28 1436.66 L1876.28 1433.47 Z\" fill=\"#000000\" fill-rule=\"evenodd\" fill-opacity=\"1\" /><path clip-path=\"url(#clip630)\" d=\"M2189.48 1485.02 L2205.8 1485.02 L2205.8 1488.96 L2183.86 1488.96 L2183.86 1485.02 Q2186.52 1482.27 2191.1 1477.64 Q2195.71 1472.98 2196.89 1471.64 Q2199.14 1469.12 2200.02 1467.38 Q2200.92 1465.62 2200.92 1463.93 Q2200.92 1461.18 2198.97 1459.44 Q2197.05 1457.71 2193.95 1457.71 Q2191.75 1457.71 2189.3 1458.47 Q2186.87 1459.23 2184.09 1460.79 L2184.09 1456.06 Q2186.91 1454.93 2189.37 1454.35 Q2191.82 1453.77 2193.86 1453.77 Q2199.23 1453.77 2202.42 1456.46 Q2205.62 1459.14 2205.62 1463.63 Q2205.62 1465.76 2204.81 1467.68 Q2204.02 1469.58 2201.91 1472.17 Q2201.33 1472.85 2198.23 1476.06 Q2195.13 1479.26 2189.48 1485.02 Z\" fill=\"#000000\" fill-rule=\"evenodd\" fill-opacity=\"1\" /><path clip-path=\"url(#clip630)\" d=\"M2215.62 1483.08 L2220.5 1483.08 L2220.5 1488.96 L2215.62 1488.96 L2215.62 1483.08 Z\" fill=\"#000000\" fill-rule=\"evenodd\" fill-opacity=\"1\" /><path clip-path=\"url(#clip630)\" d=\"M2240.69 1457.48 Q2237.08 1457.48 2235.25 1461.04 Q2233.44 1464.58 2233.44 1471.71 Q2233.44 1478.82 2235.25 1482.38 Q2237.08 1485.92 2240.69 1485.92 Q2244.32 1485.92 2246.13 1482.38 Q2247.95 1478.82 2247.95 1471.71 Q2247.95 1464.58 2246.13 1461.04 Q2244.32 1457.48 2240.69 1457.48 M2240.69 1453.77 Q2246.5 1453.77 2249.55 1458.38 Q2252.63 1462.96 2252.63 1471.71 Q2252.63 1480.44 2249.55 1485.04 Q2246.5 1489.63 2240.69 1489.63 Q2234.88 1489.63 2231.8 1485.04 Q2228.74 1480.44 2228.74 1471.71 Q2228.74 1462.96 2231.8 1458.38 Q2234.88 1453.77 2240.69 1453.77 Z\" fill=\"#000000\" fill-rule=\"evenodd\" fill-opacity=\"1\" /><path clip-path=\"url(#clip630)\" d=\"M2270.85 1457.48 Q2267.24 1457.48 2265.41 1461.04 Q2263.6 1464.58 2263.6 1471.71 Q2263.6 1478.82 2265.41 1482.38 Q2267.24 1485.92 2270.85 1485.92 Q2274.48 1485.92 2276.29 1482.38 Q2278.12 1478.82 2278.12 1471.71 Q2278.12 1464.58 2276.29 1461.04 Q2274.48 1457.48 2270.85 1457.48 M2270.85 1453.77 Q2276.66 1453.77 2279.71 1458.38 Q2282.79 1462.96 2282.79 1471.71 Q2282.79 1480.44 2279.71 1485.04 Q2276.66 1489.63 2270.85 1489.63 Q2265.04 1489.63 2261.96 1485.04 Q2258.9 1480.44 2258.9 1471.71 Q2258.9 1462.96 2261.96 1458.38 Q2265.04 1453.77 2270.85 1453.77 Z\" fill=\"#000000\" fill-rule=\"evenodd\" fill-opacity=\"1\" /><path clip-path=\"url(#clip630)\" d=\"M2319.18 1463.49 L2308.6 1474.12 L2319.18 1484.7 L2316.43 1487.5 L2305.8 1476.87 L2295.18 1487.5 L2292.45 1484.7 L2303 1474.12 L2292.45 1463.49 L2295.18 1460.69 L2305.8 1471.32 L2316.43 1460.69 L2319.18 1463.49 Z\" fill=\"#000000\" fill-rule=\"evenodd\" fill-opacity=\"1\" /><path clip-path=\"url(#clip630)\" d=\"M2331.54 1485.02 L2339.18 1485.02 L2339.18 1458.66 L2330.87 1460.32 L2330.87 1456.06 L2339.14 1454.4 L2343.81 1454.4 L2343.81 1485.02 L2351.45 1485.02 L2351.45 1488.96 L2331.54 1488.96 L2331.54 1485.02 Z\" fill=\"#000000\" fill-rule=\"evenodd\" fill-opacity=\"1\" /><path clip-path=\"url(#clip630)\" d=\"M2370.89 1457.48 Q2367.28 1457.48 2365.45 1461.04 Q2363.65 1464.58 2363.65 1471.71 Q2363.65 1478.82 2365.45 1482.38 Q2367.28 1485.92 2370.89 1485.92 Q2374.53 1485.92 2376.33 1482.38 Q2378.16 1478.82 2378.16 1471.71 Q2378.16 1464.58 2376.33 1461.04 Q2374.53 1457.48 2370.89 1457.48 M2370.89 1453.77 Q2376.7 1453.77 2379.76 1458.38 Q2382.84 1462.96 2382.84 1471.71 Q2382.84 1480.44 2379.76 1485.04 Q2376.7 1489.63 2370.89 1489.63 Q2365.08 1489.63 2362.01 1485.04 Q2358.95 1480.44 2358.95 1471.71 Q2358.95 1462.96 2362.01 1458.38 Q2365.08 1453.77 2370.89 1453.77 Z\" fill=\"#000000\" fill-rule=\"evenodd\" fill-opacity=\"1\" /><path clip-path=\"url(#clip630)\" d=\"M2382.84 1433.47 L2400.89 1433.47 L2400.89 1435.08 L2390.7 1461.55 L2386.73 1461.55 L2396.32 1436.66 L2382.84 1436.66 L2382.84 1433.47 Z\" fill=\"#000000\" fill-rule=\"evenodd\" fill-opacity=\"1\" /><path clip-path=\"url(#clip630)\" d=\"M1135.61 1526.67 L1142.04 1526.67 L1142.04 1574.19 L1135.61 1574.19 L1135.61 1526.67 Z\" fill=\"#000000\" fill-rule=\"evenodd\" fill-opacity=\"1\" /><path clip-path=\"url(#clip630)\" d=\"M1160.37 1528.42 L1160.37 1538.54 L1172.43 1538.54 L1172.43 1543.09 L1160.37 1543.09 L1160.37 1562.44 Q1160.37 1566.8 1161.55 1568.04 Q1162.76 1569.28 1166.42 1569.28 L1172.43 1569.28 L1172.43 1574.19 L1166.42 1574.19 Q1159.64 1574.19 1157.06 1571.67 Q1154.48 1569.12 1154.48 1562.44 L1154.48 1543.09 L1150.18 1543.09 L1150.18 1538.54 L1154.48 1538.54 L1154.48 1528.42 L1160.37 1528.42 Z\" fill=\"#000000\" fill-rule=\"evenodd\" fill-opacity=\"1\" /><path clip-path=\"url(#clip630)\" d=\"M1210.63 1554.9 L1210.63 1557.76 L1183.7 1557.76 Q1184.08 1563.81 1187.33 1566.99 Q1190.61 1570.14 1196.43 1570.14 Q1199.81 1570.14 1202.96 1569.32 Q1206.14 1568.49 1209.26 1566.83 L1209.26 1572.37 Q1206.11 1573.71 1202.8 1574.41 Q1199.49 1575.11 1196.08 1575.11 Q1187.55 1575.11 1182.55 1570.14 Q1177.59 1565.18 1177.59 1556.71 Q1177.59 1547.96 1182.3 1542.83 Q1187.04 1537.68 1195.06 1537.68 Q1202.26 1537.68 1206.43 1542.33 Q1210.63 1546.94 1210.63 1554.9 M1204.77 1553.18 Q1204.71 1548.37 1202.07 1545.51 Q1199.46 1542.64 1195.13 1542.64 Q1190.23 1542.64 1187.27 1545.41 Q1184.34 1548.18 1183.89 1553.21 L1204.77 1553.18 Z\" fill=\"#000000\" fill-rule=\"evenodd\" fill-opacity=\"1\" /><path clip-path=\"url(#clip630)\" d=\"M1240.9 1544.01 Q1239.91 1543.44 1238.73 1543.18 Q1237.59 1542.9 1236.19 1542.9 Q1231.22 1542.9 1228.55 1546.14 Q1225.9 1549.36 1225.9 1555.41 L1225.9 1574.19 L1220.02 1574.19 L1220.02 1538.54 L1225.9 1538.54 L1225.9 1544.08 Q1227.75 1540.83 1230.71 1539.27 Q1233.67 1537.68 1237.9 1537.68 Q1238.51 1537.68 1239.24 1537.77 Q1239.97 1537.84 1240.86 1538 L1240.9 1544.01 Z\" fill=\"#000000\" fill-rule=\"evenodd\" fill-opacity=\"1\" /><path clip-path=\"url(#clip630)\" d=\"M1263.24 1556.27 Q1256.14 1556.27 1253.4 1557.89 Q1250.67 1559.51 1250.67 1563.43 Q1250.67 1566.55 1252.7 1568.39 Q1254.77 1570.21 1258.31 1570.21 Q1263.18 1570.21 1266.1 1566.77 Q1269.06 1563.3 1269.06 1557.57 L1269.06 1556.27 L1263.24 1556.27 M1274.92 1553.85 L1274.92 1574.19 L1269.06 1574.19 L1269.06 1568.77 Q1267.06 1572.02 1264.07 1573.58 Q1261.08 1575.11 1256.75 1575.11 Q1251.27 1575.11 1248.03 1572.05 Q1244.81 1568.97 1244.81 1563.81 Q1244.81 1557.79 1248.82 1554.74 Q1252.86 1551.68 1260.85 1551.68 L1269.06 1551.68 L1269.06 1551.11 Q1269.06 1547.07 1266.39 1544.87 Q1263.75 1542.64 1258.94 1542.64 Q1255.89 1542.64 1252.99 1543.38 Q1250.09 1544.11 1247.42 1545.57 L1247.42 1540.16 Q1250.64 1538.92 1253.66 1538.31 Q1256.68 1537.68 1259.55 1537.68 Q1267.28 1537.68 1271.1 1541.69 Q1274.92 1545.7 1274.92 1553.85 Z\" fill=\"#000000\" fill-rule=\"evenodd\" fill-opacity=\"1\" /><path clip-path=\"url(#clip630)\" d=\"M1292.78 1528.42 L1292.78 1538.54 L1304.84 1538.54 L1304.84 1543.09 L1292.78 1543.09 L1292.78 1562.44 Q1292.78 1566.8 1293.95 1568.04 Q1295.16 1569.28 1298.82 1569.28 L1304.84 1569.28 L1304.84 1574.19 L1298.82 1574.19 Q1292.04 1574.19 1289.47 1571.67 Q1286.89 1569.12 1286.89 1562.44 L1286.89 1543.09 L1282.59 1543.09 L1282.59 1538.54 L1286.89 1538.54 L1286.89 1528.42 L1292.78 1528.42 Z\" fill=\"#000000\" fill-rule=\"evenodd\" fill-opacity=\"1\" /><path clip-path=\"url(#clip630)\" d=\"M1312.54 1538.54 L1318.4 1538.54 L1318.4 1574.19 L1312.54 1574.19 L1312.54 1538.54 M1312.54 1524.66 L1318.4 1524.66 L1318.4 1532.08 L1312.54 1532.08 L1312.54 1524.66 Z\" fill=\"#000000\" fill-rule=\"evenodd\" fill-opacity=\"1\" /><path clip-path=\"url(#clip630)\" d=\"M1344.47 1542.64 Q1339.76 1542.64 1337.02 1546.34 Q1334.28 1550 1334.28 1556.39 Q1334.28 1562.79 1336.99 1566.48 Q1339.72 1570.14 1344.47 1570.14 Q1349.14 1570.14 1351.88 1566.45 Q1354.62 1562.76 1354.62 1556.39 Q1354.62 1550.06 1351.88 1546.37 Q1349.14 1542.64 1344.47 1542.64 M1344.47 1537.68 Q1352.11 1537.68 1356.47 1542.64 Q1360.83 1547.61 1360.83 1556.39 Q1360.83 1565.15 1356.47 1570.14 Q1352.11 1575.11 1344.47 1575.11 Q1336.8 1575.11 1332.43 1570.14 Q1328.11 1565.15 1328.11 1556.39 Q1328.11 1547.61 1332.43 1542.64 Q1336.8 1537.68 1344.47 1537.68 Z\" fill=\"#000000\" fill-rule=\"evenodd\" fill-opacity=\"1\" /><path clip-path=\"url(#clip630)\" d=\"M1400.17 1552.67 L1400.17 1574.19 L1394.31 1574.19 L1394.31 1552.86 Q1394.31 1547.8 1392.34 1545.29 Q1390.36 1542.77 1386.42 1542.77 Q1381.67 1542.77 1378.94 1545.79 Q1376.2 1548.82 1376.2 1554.04 L1376.2 1574.19 L1370.31 1574.19 L1370.31 1538.54 L1376.2 1538.54 L1376.2 1544.08 Q1378.3 1540.86 1381.13 1539.27 Q1384 1537.68 1387.72 1537.68 Q1393.86 1537.68 1397.02 1541.5 Q1400.17 1545.29 1400.17 1552.67 Z\" fill=\"#000000\" fill-rule=\"evenodd\" fill-opacity=\"1\" /><path clip-path=\"url(#clip630)\" d=\"M1434.57 1539.59 L1434.57 1545.13 Q1432.09 1543.85 1429.42 1543.22 Q1426.74 1542.58 1423.88 1542.58 Q1419.52 1542.58 1417.32 1543.92 Q1415.16 1545.25 1415.16 1547.93 Q1415.16 1549.96 1416.72 1551.14 Q1418.28 1552.29 1422.99 1553.34 L1424.99 1553.78 Q1431.23 1555.12 1433.84 1557.57 Q1436.48 1559.99 1436.48 1564.35 Q1436.48 1569.32 1432.54 1572.21 Q1428.62 1575.11 1421.75 1575.11 Q1418.88 1575.11 1415.76 1574.54 Q1412.67 1573.99 1409.24 1572.88 L1409.24 1566.83 Q1412.48 1568.52 1415.63 1569.38 Q1418.79 1570.21 1421.87 1570.21 Q1426.01 1570.21 1428.24 1568.81 Q1430.47 1567.37 1430.47 1564.8 Q1430.47 1562.41 1428.84 1561.14 Q1427.25 1559.86 1421.81 1558.68 L1419.77 1558.21 Q1414.33 1557.06 1411.91 1554.71 Q1409.49 1552.32 1409.49 1548.18 Q1409.49 1543.15 1413.06 1540.42 Q1416.62 1537.68 1423.18 1537.68 Q1426.42 1537.68 1429.29 1538.16 Q1432.15 1538.63 1434.57 1539.59 Z\" fill=\"#000000\" fill-rule=\"evenodd\" fill-opacity=\"1\" /><polyline clip-path=\"url(#clip632)\" style=\"stroke:#000000; stroke-linecap:round; stroke-linejoin:round; stroke-width:2; stroke-opacity:0.1; fill:none\" points=\"\n",
       "  219.334,1127.57 2352.76,1127.57 \n",
       "  \"/>\n",
       "<polyline clip-path=\"url(#clip632)\" style=\"stroke:#000000; stroke-linecap:round; stroke-linejoin:round; stroke-width:2; stroke-opacity:0.1; fill:none\" points=\"\n",
       "  219.334,788.472 2352.76,788.472 \n",
       "  \"/>\n",
       "<polyline clip-path=\"url(#clip632)\" style=\"stroke:#000000; stroke-linecap:round; stroke-linejoin:round; stroke-width:2; stroke-opacity:0.1; fill:none\" points=\"\n",
       "  219.334,449.378 2352.76,449.378 \n",
       "  \"/>\n",
       "<polyline clip-path=\"url(#clip632)\" style=\"stroke:#000000; stroke-linecap:round; stroke-linejoin:round; stroke-width:2; stroke-opacity:0.1; fill:none\" points=\"\n",
       "  219.334,110.283 2352.76,110.283 \n",
       "  \"/>\n",
       "<polyline clip-path=\"url(#clip630)\" style=\"stroke:#000000; stroke-linecap:round; stroke-linejoin:round; stroke-width:4; stroke-opacity:1; fill:none\" points=\"\n",
       "  219.334,1410.9 219.334,47.2441 \n",
       "  \"/>\n",
       "<polyline clip-path=\"url(#clip630)\" style=\"stroke:#000000; stroke-linecap:round; stroke-linejoin:round; stroke-width:4; stroke-opacity:1; fill:none\" points=\"\n",
       "  219.334,1127.57 238.231,1127.57 \n",
       "  \"/>\n",
       "<polyline clip-path=\"url(#clip630)\" style=\"stroke:#000000; stroke-linecap:round; stroke-linejoin:round; stroke-width:4; stroke-opacity:1; fill:none\" points=\"\n",
       "  219.334,788.472 238.231,788.472 \n",
       "  \"/>\n",
       "<polyline clip-path=\"url(#clip630)\" style=\"stroke:#000000; stroke-linecap:round; stroke-linejoin:round; stroke-width:4; stroke-opacity:1; fill:none\" points=\"\n",
       "  219.334,449.378 238.231,449.378 \n",
       "  \"/>\n",
       "<polyline clip-path=\"url(#clip630)\" style=\"stroke:#000000; stroke-linecap:round; stroke-linejoin:round; stroke-width:4; stroke-opacity:1; fill:none\" points=\"\n",
       "  219.334,110.283 238.231,110.283 \n",
       "  \"/>\n",
       "<path clip-path=\"url(#clip630)\" d=\"M115.718 1110.29 L134.075 1110.29 L134.075 1114.22 L120.001 1114.22 L120.001 1122.69 Q121.019 1122.35 122.038 1122.18 Q123.056 1122 124.075 1122 Q129.862 1122 133.242 1125.17 Q136.621 1128.34 136.621 1133.76 Q136.621 1139.34 133.149 1142.44 Q129.677 1145.52 123.357 1145.52 Q121.181 1145.52 118.913 1145.15 Q116.668 1144.78 114.26 1144.04 L114.26 1139.34 Q116.343 1140.47 118.566 1141.03 Q120.788 1141.58 123.265 1141.58 Q127.269 1141.58 129.607 1139.48 Q131.945 1137.37 131.945 1133.76 Q131.945 1130.15 129.607 1128.04 Q127.269 1125.93 123.265 1125.93 Q121.39 1125.93 119.515 1126.35 Q117.663 1126.77 115.718 1127.65 L115.718 1110.29 Z\" fill=\"#000000\" fill-rule=\"evenodd\" fill-opacity=\"1\" /><path clip-path=\"url(#clip630)\" d=\"M145.834 1138.97 L150.718 1138.97 L150.718 1144.85 L145.834 1144.85 L145.834 1138.97 Z\" fill=\"#000000\" fill-rule=\"evenodd\" fill-opacity=\"1\" /><path clip-path=\"url(#clip630)\" d=\"M173.751 1114.36 L161.945 1132.81 L173.751 1132.81 L173.751 1114.36 M172.524 1110.29 L178.403 1110.29 L178.403 1132.81 L183.334 1132.81 L183.334 1136.7 L178.403 1136.7 L178.403 1144.85 L173.751 1144.85 L173.751 1136.7 L158.149 1136.7 L158.149 1132.18 L172.524 1110.29 Z\" fill=\"#000000\" fill-rule=\"evenodd\" fill-opacity=\"1\" /><path clip-path=\"url(#clip630)\" d=\"M116.043 771.192 L134.399 771.192 L134.399 775.127 L120.325 775.127 L120.325 783.6 Q121.343 783.252 122.362 783.09 Q123.38 782.905 124.399 782.905 Q130.186 782.905 133.566 786.076 Q136.945 789.248 136.945 794.664 Q136.945 800.243 133.473 803.345 Q130.001 806.424 123.681 806.424 Q121.505 806.424 119.237 806.053 Q116.992 805.683 114.584 804.942 L114.584 800.243 Q116.668 801.377 118.89 801.933 Q121.112 802.488 123.589 802.488 Q127.593 802.488 129.931 800.382 Q132.269 798.275 132.269 794.664 Q132.269 791.053 129.931 788.947 Q127.593 786.84 123.589 786.84 Q121.714 786.84 119.839 787.257 Q117.987 787.674 116.043 788.553 L116.043 771.192 Z\" fill=\"#000000\" fill-rule=\"evenodd\" fill-opacity=\"1\" /><path clip-path=\"url(#clip630)\" d=\"M146.158 799.873 L151.042 799.873 L151.042 805.752 L146.158 805.752 L146.158 799.873 Z\" fill=\"#000000\" fill-rule=\"evenodd\" fill-opacity=\"1\" /><path clip-path=\"url(#clip630)\" d=\"M171.806 786.609 Q168.658 786.609 166.806 788.762 Q164.977 790.914 164.977 794.664 Q164.977 798.391 166.806 800.567 Q168.658 802.72 171.806 802.72 Q174.954 802.72 176.783 800.567 Q178.635 798.391 178.635 794.664 Q178.635 790.914 176.783 788.762 Q174.954 786.609 171.806 786.609 M181.089 771.956 L181.089 776.215 Q179.329 775.382 177.524 774.942 Q175.741 774.502 173.982 774.502 Q169.352 774.502 166.899 777.627 Q164.468 780.752 164.121 787.072 Q165.487 785.058 167.547 783.993 Q169.607 782.905 172.084 782.905 Q177.292 782.905 180.301 786.076 Q183.334 789.225 183.334 794.664 Q183.334 799.988 180.186 803.206 Q177.038 806.424 171.806 806.424 Q165.811 806.424 162.64 801.84 Q159.468 797.234 159.468 788.507 Q159.468 780.313 163.357 775.452 Q167.246 770.567 173.797 770.567 Q175.556 770.567 177.339 770.915 Q179.144 771.262 181.089 771.956 Z\" fill=\"#000000\" fill-rule=\"evenodd\" fill-opacity=\"1\" /><path clip-path=\"url(#clip630)\" d=\"M116.297 432.098 L134.654 432.098 L134.654 436.033 L120.58 436.033 L120.58 444.505 Q121.598 444.158 122.617 443.996 Q123.635 443.811 124.654 443.811 Q130.441 443.811 133.82 446.982 Q137.2 450.153 137.2 455.57 Q137.2 461.149 133.728 464.25 Q130.255 467.329 123.936 467.329 Q121.76 467.329 119.492 466.959 Q117.246 466.588 114.839 465.848 L114.839 461.149 Q116.922 462.283 119.144 462.838 Q121.367 463.394 123.843 463.394 Q127.848 463.394 130.186 461.287 Q132.524 459.181 132.524 455.57 Q132.524 451.959 130.186 449.852 Q127.848 447.746 123.843 447.746 Q121.968 447.746 120.093 448.163 Q118.242 448.579 116.297 449.459 L116.297 432.098 Z\" fill=\"#000000\" fill-rule=\"evenodd\" fill-opacity=\"1\" /><path clip-path=\"url(#clip630)\" d=\"M146.413 460.778 L151.297 460.778 L151.297 466.658 L146.413 466.658 L146.413 460.778 Z\" fill=\"#000000\" fill-rule=\"evenodd\" fill-opacity=\"1\" /><path clip-path=\"url(#clip630)\" d=\"M171.482 450.246 Q168.149 450.246 166.227 452.028 Q164.329 453.811 164.329 456.936 Q164.329 460.061 166.227 461.843 Q168.149 463.625 171.482 463.625 Q174.815 463.625 176.737 461.843 Q178.658 460.037 178.658 456.936 Q178.658 453.811 176.737 452.028 Q174.839 450.246 171.482 450.246 M166.806 448.255 Q163.797 447.514 162.107 445.454 Q160.44 443.394 160.44 440.431 Q160.44 436.288 163.38 433.88 Q166.343 431.473 171.482 431.473 Q176.644 431.473 179.584 433.88 Q182.524 436.288 182.524 440.431 Q182.524 443.394 180.834 445.454 Q179.167 447.514 176.181 448.255 Q179.561 449.042 181.436 451.334 Q183.334 453.625 183.334 456.936 Q183.334 461.959 180.255 464.644 Q177.2 467.329 171.482 467.329 Q165.765 467.329 162.686 464.644 Q159.63 461.959 159.63 456.936 Q159.63 453.625 161.528 451.334 Q163.427 449.042 166.806 448.255 M165.093 440.871 Q165.093 443.556 166.76 445.061 Q168.45 446.565 171.482 446.565 Q174.491 446.565 176.181 445.061 Q177.894 443.556 177.894 440.871 Q177.894 438.186 176.181 436.681 Q174.491 435.177 171.482 435.177 Q168.45 435.177 166.76 436.681 Q165.093 438.186 165.093 440.871 Z\" fill=\"#000000\" fill-rule=\"evenodd\" fill-opacity=\"1\" /><path clip-path=\"url(#clip630)\" d=\"M126.737 108.42 Q123.589 108.42 121.737 110.573 Q119.908 112.725 119.908 116.475 Q119.908 120.202 121.737 122.378 Q123.589 124.531 126.737 124.531 Q129.885 124.531 131.714 122.378 Q133.566 120.202 133.566 116.475 Q133.566 112.725 131.714 110.573 Q129.885 108.42 126.737 108.42 M136.019 93.7672 L136.019 98.0265 Q134.26 97.1931 132.455 96.7533 Q130.672 96.3135 128.913 96.3135 Q124.283 96.3135 121.83 99.4385 Q119.399 102.563 119.052 108.883 Q120.418 106.869 122.478 105.804 Q124.538 104.716 127.015 104.716 Q132.223 104.716 135.232 107.888 Q138.265 111.036 138.265 116.475 Q138.265 121.799 135.117 125.017 Q131.968 128.235 126.737 128.235 Q120.742 128.235 117.57 123.651 Q114.399 119.045 114.399 110.318 Q114.399 102.124 118.288 97.2626 Q122.177 92.3783 128.728 92.3783 Q130.487 92.3783 132.269 92.7256 Q134.075 93.0728 136.019 93.7672 Z\" fill=\"#000000\" fill-rule=\"evenodd\" fill-opacity=\"1\" /><path clip-path=\"url(#clip630)\" d=\"M146.32 121.684 L151.204 121.684 L151.204 127.563 L146.32 127.563 L146.32 121.684 Z\" fill=\"#000000\" fill-rule=\"evenodd\" fill-opacity=\"1\" /><path clip-path=\"url(#clip630)\" d=\"M171.389 96.082 Q167.778 96.082 165.95 99.6468 Q164.144 103.188 164.144 110.318 Q164.144 117.425 165.95 120.989 Q167.778 124.531 171.389 124.531 Q175.024 124.531 176.829 120.989 Q178.658 117.425 178.658 110.318 Q178.658 103.188 176.829 99.6468 Q175.024 96.082 171.389 96.082 M171.389 92.3783 Q177.2 92.3783 180.255 96.9848 Q183.334 101.568 183.334 110.318 Q183.334 119.045 180.255 123.651 Q177.2 128.235 171.389 128.235 Q165.579 128.235 162.501 123.651 Q159.445 119.045 159.445 110.318 Q159.445 101.568 162.501 96.9848 Q165.579 92.3783 171.389 92.3783 Z\" fill=\"#000000\" fill-rule=\"evenodd\" fill-opacity=\"1\" /><path clip-path=\"url(#clip630)\" d=\"M22.818 1126.31 L46.4666 1135.03 L46.4666 1117.55 L22.818 1126.31 M16.4842 1129.93 L16.4842 1122.65 L64.0042 1104.54 L64.0042 1111.22 L51.8138 1115.55 L51.8138 1136.97 L64.0042 1141.3 L64.0042 1148.08 L16.4842 1129.93 Z\" fill=\"#000000\" fill-rule=\"evenodd\" fill-opacity=\"1\" /><path clip-path=\"url(#clip630)\" d=\"M28.3562 1105.87 L28.3562 1099.67 L58.275 1088.53 L28.3562 1077.39 L28.3562 1071.18 L64.0042 1084.55 L64.0042 1092.5 L28.3562 1105.87 Z\" fill=\"#000000\" fill-rule=\"evenodd\" fill-opacity=\"1\" /><path clip-path=\"url(#clip630)\" d=\"M44.7161 1032.6 L47.5806 1032.6 L47.5806 1059.53 Q53.6281 1059.15 56.8109 1055.9 Q59.9619 1052.62 59.9619 1046.8 Q59.9619 1043.42 59.1344 1040.27 Q58.3069 1037.09 56.6518 1033.97 L62.1899 1033.97 Q63.5267 1037.12 64.227 1040.43 Q64.9272 1043.74 64.9272 1047.15 Q64.9272 1055.68 59.9619 1060.68 Q54.9967 1065.64 46.5303 1065.64 Q37.7774 1065.64 32.6531 1060.93 Q27.4968 1056.19 27.4968 1048.17 Q27.4968 1040.97 32.1438 1036.8 Q36.7589 1032.6 44.7161 1032.6 M42.9973 1038.46 Q38.1912 1038.52 35.3266 1041.17 Q32.4621 1043.77 32.4621 1048.1 Q32.4621 1053.01 35.2312 1055.97 Q38.0002 1058.89 43.0292 1059.34 L42.9973 1038.46 Z\" fill=\"#000000\" fill-rule=\"evenodd\" fill-opacity=\"1\" /><path clip-path=\"url(#clip630)\" d=\"M33.8307 1002.33 Q33.2578 1003.32 33.0032 1004.5 Q32.7167 1005.64 32.7167 1007.04 Q32.7167 1012.01 35.9632 1014.68 Q39.1779 1017.33 45.2253 1017.33 L64.0042 1017.33 L64.0042 1023.21 L28.3562 1023.21 L28.3562 1017.33 L33.8944 1017.33 Q30.6479 1015.48 29.0883 1012.52 Q27.4968 1009.56 27.4968 1005.33 Q27.4968 1004.72 27.5923 1003.99 Q27.656 1003.26 27.8151 1002.37 L33.8307 1002.33 Z\" fill=\"#000000\" fill-rule=\"evenodd\" fill-opacity=\"1\" /><path clip-path=\"url(#clip630)\" d=\"M46.0847 979.991 Q46.0847 987.088 47.7079 989.826 Q49.3312 992.563 53.2461 992.563 Q56.3653 992.563 58.2114 990.526 Q60.0256 988.457 60.0256 984.924 Q60.0256 980.054 56.5881 977.126 Q53.1188 974.166 47.3897 974.166 L46.0847 974.166 L46.0847 979.991 M43.6657 968.31 L64.0042 968.31 L64.0042 974.166 L58.5933 974.166 Q61.8398 976.171 63.3994 979.163 Q64.9272 982.155 64.9272 986.484 Q64.9272 991.958 61.8716 995.205 Q58.7843 998.419 53.6281 998.419 Q47.6125 998.419 44.5569 994.409 Q41.5014 990.367 41.5014 982.378 L41.5014 974.166 L40.9285 974.166 Q36.8862 974.166 34.6901 976.84 Q32.4621 979.481 32.4621 984.287 Q32.4621 987.343 33.1941 990.239 Q33.9262 993.136 35.3903 995.809 L29.9795 995.809 Q28.7381 992.595 28.1334 989.571 Q27.4968 986.547 27.4968 983.683 Q27.4968 975.948 31.5072 972.129 Q35.5176 968.31 43.6657 968.31 Z\" fill=\"#000000\" fill-rule=\"evenodd\" fill-opacity=\"1\" /><path clip-path=\"url(#clip630)\" d=\"M45.7664 932.789 Q39.4007 932.789 35.8996 935.431 Q32.3984 938.041 32.3984 942.783 Q32.3984 947.494 35.8996 950.135 Q39.4007 952.745 45.7664 952.745 Q52.1003 952.745 55.6014 950.135 Q59.1026 947.494 59.1026 942.783 Q59.1026 938.041 55.6014 935.431 Q52.1003 932.789 45.7664 932.789 M59.58 926.932 Q68.683 926.932 73.1071 930.975 Q77.5631 935.017 77.5631 943.356 Q77.5631 946.443 77.0857 949.181 Q76.6401 951.918 75.6852 954.496 L69.9879 954.496 Q71.3884 951.918 72.0568 949.403 Q72.7252 946.889 72.7252 944.279 Q72.7252 938.518 69.7015 935.653 Q66.7096 932.789 60.6303 932.789 L57.7339 932.789 Q60.885 934.603 62.4446 937.436 Q64.0042 940.269 64.0042 944.215 Q64.0042 950.772 59.0071 954.782 Q54.01 958.793 45.7664 958.793 Q37.491 958.793 32.4939 954.782 Q27.4968 950.772 27.4968 944.215 Q27.4968 940.269 29.0564 937.436 Q30.616 934.603 33.7671 932.789 L28.3562 932.789 L28.3562 926.932 L59.58 926.932 Z\" fill=\"#000000\" fill-rule=\"evenodd\" fill-opacity=\"1\" /><path clip-path=\"url(#clip630)\" d=\"M44.7161 884.378 L47.5806 884.378 L47.5806 911.305 Q53.6281 910.923 56.8109 907.676 Q59.9619 904.398 59.9619 898.573 Q59.9619 895.199 59.1344 892.048 Q58.3069 888.866 56.6518 885.746 L62.1899 885.746 Q63.5267 888.897 64.227 892.208 Q64.9272 895.518 64.9272 898.923 Q64.9272 907.453 59.9619 912.45 Q54.9967 917.416 46.5303 917.416 Q37.7774 917.416 32.6531 912.705 Q27.4968 907.963 27.4968 899.942 Q27.4968 892.749 32.1438 888.579 Q36.7589 884.378 44.7161 884.378 M42.9973 890.234 Q38.1912 890.298 35.3266 892.94 Q32.4621 895.55 32.4621 899.878 Q32.4621 904.78 35.2312 907.74 Q38.0002 910.668 43.0292 911.114 L42.9973 890.234 Z\" fill=\"#000000\" fill-rule=\"evenodd\" fill-opacity=\"1\" /><path clip-path=\"url(#clip630)\" d=\"M20.1444 818.206 L26.9239 818.206 Q23.9002 821.453 22.4043 825.145 Q20.9083 828.805 20.9083 832.943 Q20.9083 841.091 25.9054 845.42 Q30.8707 849.748 40.2919 849.748 Q49.6813 849.748 54.6784 845.42 Q59.6436 841.091 59.6436 832.943 Q59.6436 828.805 58.1477 825.145 Q56.6518 821.453 53.6281 818.206 L60.3439 818.206 Q62.6355 821.58 63.7814 825.368 Q64.9272 829.123 64.9272 833.325 Q64.9272 844.115 58.3387 850.321 Q51.7183 856.528 40.2919 856.528 Q28.8336 856.528 22.2451 850.321 Q15.6248 844.115 15.6248 833.325 Q15.6248 829.06 16.7706 825.304 Q17.8846 821.516 20.1444 818.206 Z\" fill=\"#000000\" fill-rule=\"evenodd\" fill-opacity=\"1\" /><path clip-path=\"url(#clip630)\" d=\"M32.4621 794.717 Q32.4621 799.427 36.1542 802.165 Q39.8145 804.902 46.212 804.902 Q52.6095 804.902 56.3017 802.196 Q59.9619 799.459 59.9619 794.717 Q59.9619 790.038 56.2698 787.301 Q52.5777 784.563 46.212 784.563 Q39.8781 784.563 36.186 787.301 Q32.4621 790.038 32.4621 794.717 M27.4968 794.717 Q27.4968 787.078 32.4621 782.717 Q37.4273 778.357 46.212 778.357 Q54.9649 778.357 59.9619 782.717 Q64.9272 787.078 64.9272 794.717 Q64.9272 802.387 59.9619 806.748 Q54.9649 811.077 46.212 811.077 Q37.4273 811.077 32.4621 806.748 Q27.4968 802.387 27.4968 794.717 Z\" fill=\"#000000\" fill-rule=\"evenodd\" fill-opacity=\"1\" /><path clip-path=\"url(#clip630)\" d=\"M35.1993 740.895 Q31.2526 738.698 29.3747 735.643 Q27.4968 732.587 27.4968 728.45 Q27.4968 722.88 31.4117 719.856 Q35.2948 716.832 42.4881 716.832 L64.0042 716.832 L64.0042 722.721 L42.679 722.721 Q37.5546 722.721 35.072 724.535 Q32.5894 726.349 32.5894 730.073 Q32.5894 734.624 35.6131 737.266 Q38.6368 739.908 43.8567 739.908 L64.0042 739.908 L64.0042 745.796 L42.679 745.796 Q37.5228 745.796 35.072 747.61 Q32.5894 749.425 32.5894 753.212 Q32.5894 757.7 35.6449 760.342 Q38.6686 762.984 43.8567 762.984 L64.0042 762.984 L64.0042 768.872 L28.3562 768.872 L28.3562 762.984 L33.8944 762.984 Q30.616 760.978 29.0564 758.178 Q27.4968 755.377 27.4968 751.525 Q27.4968 747.642 29.4702 744.937 Q31.4436 742.2 35.1993 740.895 Z\" fill=\"#000000\" fill-rule=\"evenodd\" fill-opacity=\"1\" /><path clip-path=\"url(#clip630)\" d=\"M58.657 699.486 L77.5631 699.486 L77.5631 705.374 L28.3562 705.374 L28.3562 699.486 L33.7671 699.486 Q30.5842 697.64 29.0564 694.839 Q27.4968 692.006 27.4968 688.091 Q27.4968 681.598 32.6531 677.556 Q37.8093 673.482 46.212 673.482 Q54.6147 673.482 59.771 677.556 Q64.9272 681.598 64.9272 688.091 Q64.9272 692.006 63.3994 694.839 Q61.8398 697.64 58.657 699.486 M46.212 679.561 Q39.7508 679.561 36.0905 682.235 Q32.3984 684.876 32.3984 689.523 Q32.3984 694.17 36.0905 696.844 Q39.7508 699.486 46.212 699.486 Q52.6732 699.486 56.3653 696.844 Q60.0256 694.17 60.0256 689.523 Q60.0256 684.876 56.3653 682.235 Q52.6732 679.561 46.212 679.561 Z\" fill=\"#000000\" fill-rule=\"evenodd\" fill-opacity=\"1\" /><path clip-path=\"url(#clip630)\" d=\"M14.479 663.774 L14.479 657.918 L64.0042 657.918 L64.0042 663.774 L14.479 663.774 Z\" fill=\"#000000\" fill-rule=\"evenodd\" fill-opacity=\"1\" /><path clip-path=\"url(#clip630)\" d=\"M44.7161 615.172 L47.5806 615.172 L47.5806 642.099 Q53.6281 641.717 56.8109 638.47 Q59.9619 635.192 59.9619 629.367 Q59.9619 625.994 59.1344 622.843 Q58.3069 619.66 56.6518 616.541 L62.1899 616.541 Q63.5267 619.692 64.227 623.002 Q64.9272 626.312 64.9272 629.718 Q64.9272 638.248 59.9619 643.245 Q54.9967 648.21 46.5303 648.21 Q37.7774 648.21 32.6531 643.499 Q27.4968 638.757 27.4968 630.736 Q27.4968 623.543 32.1438 619.373 Q36.7589 615.172 44.7161 615.172 M42.9973 621.028 Q38.1912 621.092 35.3266 623.734 Q32.4621 626.344 32.4621 630.672 Q32.4621 635.574 35.2312 638.534 Q38.0002 641.462 43.0292 641.908 L42.9973 621.028 Z\" fill=\"#000000\" fill-rule=\"evenodd\" fill-opacity=\"1\" /><path clip-path=\"url(#clip630)\" d=\"M18.2347 599.767 L28.3562 599.767 L28.3562 587.704 L32.9077 587.704 L32.9077 599.767 L52.2594 599.767 Q56.6199 599.767 57.8613 598.589 Q59.1026 597.38 59.1026 593.72 L59.1026 587.704 L64.0042 587.704 L64.0042 593.72 Q64.0042 600.499 61.4897 603.077 Q58.9434 605.655 52.2594 605.655 L32.9077 605.655 L32.9077 609.952 L28.3562 609.952 L28.3562 605.655 L18.2347 605.655 L18.2347 599.767 Z\" fill=\"#000000\" fill-rule=\"evenodd\" fill-opacity=\"1\" /><path clip-path=\"url(#clip630)\" d=\"M28.3562 580.001 L28.3562 574.145 L64.0042 574.145 L64.0042 580.001 L28.3562 580.001 M14.479 580.001 L14.479 574.145 L21.895 574.145 L21.895 580.001 L14.479 580.001 Z\" fill=\"#000000\" fill-rule=\"evenodd\" fill-opacity=\"1\" /><path clip-path=\"url(#clip630)\" d=\"M32.4621 548.077 Q32.4621 552.788 36.1542 555.525 Q39.8145 558.263 46.212 558.263 Q52.6095 558.263 56.3017 555.557 Q59.9619 552.82 59.9619 548.077 Q59.9619 543.399 56.2698 540.661 Q52.5777 537.924 46.212 537.924 Q39.8781 537.924 36.186 540.661 Q32.4621 543.399 32.4621 548.077 M27.4968 548.077 Q27.4968 540.439 32.4621 536.078 Q37.4273 531.718 46.212 531.718 Q54.9649 531.718 59.9619 536.078 Q64.9272 540.439 64.9272 548.077 Q64.9272 555.748 59.9619 560.109 Q54.9649 564.437 46.212 564.437 Q37.4273 564.437 32.4621 560.109 Q27.4968 555.748 27.4968 548.077 Z\" fill=\"#000000\" fill-rule=\"evenodd\" fill-opacity=\"1\" /><path clip-path=\"url(#clip630)\" d=\"M42.4881 492.377 L64.0042 492.377 L64.0042 498.234 L42.679 498.234 Q37.6183 498.234 35.1038 500.207 Q32.5894 502.181 32.5894 506.127 Q32.5894 510.87 35.6131 513.607 Q38.6368 516.344 43.8567 516.344 L64.0042 516.344 L64.0042 522.233 L28.3562 522.233 L28.3562 516.344 L33.8944 516.344 Q30.6797 514.244 29.0883 511.411 Q27.4968 508.546 27.4968 504.822 Q27.4968 498.68 31.3163 495.529 Q35.1038 492.377 42.4881 492.377 Z\" fill=\"#000000\" fill-rule=\"evenodd\" fill-opacity=\"1\" /><path clip-path=\"url(#clip630)\" d=\"M16.4842 466.31 L16.4842 426.11 L21.895 426.11 L21.895 442.98 L64.0042 442.98 L64.0042 449.441 L21.895 449.441 L21.895 466.31 L16.4842 466.31 Z\" fill=\"#000000\" fill-rule=\"evenodd\" fill-opacity=\"1\" /><path clip-path=\"url(#clip630)\" d=\"M28.3562 422.164 L28.3562 416.307 L64.0042 416.307 L64.0042 422.164 L28.3562 422.164 M14.479 422.164 L14.479 416.307 L21.895 416.307 L21.895 422.164 L14.479 422.164 Z\" fill=\"#000000\" fill-rule=\"evenodd\" fill-opacity=\"1\" /><path clip-path=\"url(#clip630)\" d=\"M35.1993 376.299 Q31.2526 374.103 29.3747 371.047 Q27.4968 367.992 27.4968 363.854 Q27.4968 358.284 31.4117 355.26 Q35.2948 352.236 42.4881 352.236 L64.0042 352.236 L64.0042 358.125 L42.679 358.125 Q37.5546 358.125 35.072 359.939 Q32.5894 361.753 32.5894 365.477 Q32.5894 370.029 35.6131 372.67 Q38.6368 375.312 43.8567 375.312 L64.0042 375.312 L64.0042 381.2 L42.679 381.2 Q37.5228 381.2 35.072 383.015 Q32.5894 384.829 32.5894 388.616 Q32.5894 393.104 35.6449 395.746 Q38.6686 398.388 43.8567 398.388 L64.0042 398.388 L64.0042 404.276 L28.3562 404.276 L28.3562 398.388 L33.8944 398.388 Q30.616 396.383 29.0564 393.582 Q27.4968 390.781 27.4968 386.93 Q27.4968 383.046 29.4702 380.341 Q31.4436 377.604 35.1993 376.299 Z\" fill=\"#000000\" fill-rule=\"evenodd\" fill-opacity=\"1\" /><path clip-path=\"url(#clip630)\" d=\"M44.7161 310.064 L47.5806 310.064 L47.5806 336.991 Q53.6281 336.609 56.8109 333.362 Q59.9619 330.084 59.9619 324.259 Q59.9619 320.885 59.1344 317.734 Q58.3069 314.551 56.6518 311.432 L62.1899 311.432 Q63.5267 314.583 64.227 317.893 Q64.9272 321.204 64.9272 324.609 Q64.9272 333.139 59.9619 338.136 Q54.9967 343.102 46.5303 343.102 Q37.7774 343.102 32.6531 338.391 Q27.4968 333.649 27.4968 325.628 Q27.4968 318.435 32.1438 314.265 Q36.7589 310.064 44.7161 310.064 M42.9973 315.92 Q38.1912 315.984 35.3266 318.626 Q32.4621 321.235 32.4621 325.564 Q32.4621 330.466 35.2312 333.426 Q38.0002 336.354 43.0292 336.8 L42.9973 315.92 Z\" fill=\"#000000\" fill-rule=\"evenodd\" fill-opacity=\"1\" /><polyline clip-path=\"url(#clip632)\" style=\"stroke:#009af9; stroke-linecap:round; stroke-linejoin:round; stroke-width:4; stroke-opacity:1; fill:none\" points=\"\n",
       "  279.714,941.193 289.828,1094.29 299.941,1161.9 310.055,1098.74 320.169,1078.61 330.283,1088.36 340.397,987.478 350.511,1102.35 360.625,1157.87 370.739,1063.99 \n",
       "  380.853,1009.73 390.966,905.409 401.08,951.873 411.194,923.05 421.308,871.116 431.422,873.882 441.536,910.758 451.65,990.657 461.764,966.497 471.877,1047.67 \n",
       "  481.991,1118.03 492.105,1010.79 502.219,992.989 512.333,957.168 522.447,1058.69 532.561,1112.02 542.675,923.94 552.789,1132.89 562.902,1036.65 573.016,1198.99 \n",
       "  583.13,1176.52 593.244,1266.17 603.358,1130.75 613.472,1065.68 623.586,1028.1 633.7,1039.4 643.813,847.178 653.927,916.269 664.041,905.036 674.155,1041.52 \n",
       "  684.269,1056.99 694.383,873.676 704.497,753.438 714.611,558.148 724.724,862.595 734.838,908.496 744.952,1048.97 755.066,1163.56 765.18,1213.41 775.294,1025.84 \n",
       "  785.408,940.679 795.522,1315.31 805.636,1372.3 815.749,1283.41 825.863,1219.83 835.977,1281.16 846.091,1202.12 856.205,1092.89 866.319,992.621 876.433,1037.05 \n",
       "  886.547,1034.85 896.66,1027.14 906.774,1171.08 916.888,1169.02 927.002,1184.01 937.116,1104.12 947.23,1171.67 957.344,1128.68 967.458,1052.57 977.572,840.352 \n",
       "  987.685,843.249 997.799,925.949 1007.91,864.812 1018.03,868.921 1028.14,889.682 1038.25,1028.16 1048.37,854.856 1058.48,692.556 1068.6,823.723 1078.71,750.868 \n",
       "  1088.82,657.439 1098.94,892.06 1109.05,695.221 1119.17,125.3 1129.28,323.771 1139.39,501.764 1149.51,289.995 1159.62,304.898 1169.74,258.637 1179.85,85.838 \n",
       "  1189.96,481.548 1200.08,691.282 1210.19,587.197 1220.3,415.01 1230.42,421.951 1240.53,556.919 1250.65,549.506 1260.76,508.807 1270.87,507.768 1280.99,440.813 \n",
       "  1291.1,478.077 1301.22,459.109 1311.33,358.864 1321.44,414.327 1331.56,706.303 1341.67,654.033 1351.79,653.743 1361.9,663.033 1372.01,701.525 1382.13,719.784 \n",
       "  1392.24,631.443 1402.35,596.289 1412.47,629.954 1422.58,582.846 1432.7,615.093 1442.81,595.673 1452.92,503.427 1463.04,323.17 1473.15,316.777 1483.27,317.797 \n",
       "  1493.38,402.777 1503.49,326.43 1513.61,435.728 1523.72,520.543 1533.83,365.053 1543.95,548.619 1554.06,652.55 1564.18,740.402 1574.29,830.643 1584.4,739.021 \n",
       "  1594.52,776.544 1604.63,778.723 1614.75,541.781 1624.86,604.725 1634.97,391.229 1645.09,213.346 1655.2,268.485 1665.32,221.008 1675.43,98.5092 1685.54,399.676 \n",
       "  1695.66,453.466 1705.77,642.994 1715.88,773.983 1726,774.632 1736.11,791.88 1746.23,481.056 1756.34,518.875 1766.45,487.223 1776.57,491.323 1786.68,421.815 \n",
       "  1796.8,243.003 1806.91,219.962 1817.02,475.169 1827.14,670.854 1837.25,596.81 1847.37,528.5 1857.48,571.426 1867.59,743.923 1877.71,776.622 1887.82,616.128 \n",
       "  1897.93,664.556 1908.05,566.477 1918.16,430.958 1928.28,496.955 1938.39,431.025 1948.5,421.12 1958.62,545.352 1968.73,403.138 1978.85,373.344 1988.96,741.086 \n",
       "  1999.07,755.244 2009.19,795.075 2019.3,807.191 2029.42,762.089 2039.53,767.605 2049.64,725.541 2059.76,616.22 2069.87,573.174 2079.98,660.873 2090.1,618.273 \n",
       "  2100.21,616.979 2110.33,731.812 2120.44,816.024 2130.55,843.249 2140.67,846.558 2150.78,708.521 2160.9,818.973 2171.01,568.852 2181.12,427.641 2191.24,232.082 \n",
       "  2201.35,213.064 2211.46,538.466 2221.58,663.068 2231.69,564.105 2241.81,557.122 2251.92,546.345 2262.03,398.271 2272.15,440.201 2282.26,400.47 2292.38,428.292 \n",
       "  \n",
       "  \"/>\n",
       "</svg>\n"
      ]
     },
     "execution_count": 49,
     "metadata": {},
     "output_type": "execute_result"
    }
   ],
   "source": [
    "plot(iterations, avg_compl_time, xlabel=\"Iterations\", ylabel=\"Average Completion Time\", legend = false, xformatter = :scientific)"
   ]
  },
  {
   "cell_type": "code",
   "execution_count": 50,
   "id": "4739f3dc",
   "metadata": {},
   "outputs": [
    {
     "data": {
      "text/plain": [
       "\"/home/larissa/Documents/Projects/ADLR/ADLR_project/src/RL_3D_quadcopter_PPO/office_test/plots/fast/best_comp_time.svg\""
      ]
     },
     "execution_count": 50,
     "metadata": {},
     "output_type": "execute_result"
    }
   ],
   "source": [
    "savefig(fig_path * \"best_comp_time.svg\")"
   ]
  },
  {
   "cell_type": "code",
   "execution_count": 51,
   "id": "bb729491",
   "metadata": {},
   "outputs": [
    {
     "data": {
      "image/svg+xml": [
       "<?xml version=\"1.0\" encoding=\"utf-8\"?>\n",
       "<svg xmlns=\"http://www.w3.org/2000/svg\" xmlns:xlink=\"http://www.w3.org/1999/xlink\" width=\"600\" height=\"400\" viewBox=\"0 0 2400 1600\">\n",
       "<defs>\n",
       "  <clipPath id=\"clip710\">\n",
       "    <rect x=\"0\" y=\"0\" width=\"2400\" height=\"1600\"/>\n",
       "  </clipPath>\n",
       "</defs>\n",
       "<path clip-path=\"url(#clip710)\" d=\"\n",
       "M0 1600 L2400 1600 L2400 0 L0 0  Z\n",
       "  \" fill=\"#ffffff\" fill-rule=\"evenodd\" fill-opacity=\"1\"/>\n",
       "<defs>\n",
       "  <clipPath id=\"clip711\">\n",
       "    <rect x=\"480\" y=\"0\" width=\"1681\" height=\"1600\"/>\n",
       "  </clipPath>\n",
       "</defs>\n",
       "<path clip-path=\"url(#clip710)\" d=\"\n",
       "M220.098 1410.9 L2352.76 1410.9 L2352.76 47.2441 L220.098 47.2441  Z\n",
       "  \" fill=\"#ffffff\" fill-rule=\"evenodd\" fill-opacity=\"1\"/>\n",
       "<defs>\n",
       "  <clipPath id=\"clip712\">\n",
       "    <rect x=\"220\" y=\"47\" width=\"2134\" height=\"1365\"/>\n",
       "  </clipPath>\n",
       "</defs>\n",
       "<polyline clip-path=\"url(#clip712)\" style=\"stroke:#000000; stroke-linecap:round; stroke-linejoin:round; stroke-width:2; stroke-opacity:0.1; fill:none\" points=\"\n",
       "  270.346,1410.9 270.346,47.2441 \n",
       "  \"/>\n",
       "<polyline clip-path=\"url(#clip712)\" style=\"stroke:#000000; stroke-linecap:round; stroke-linejoin:round; stroke-width:2; stroke-opacity:0.1; fill:none\" points=\"\n",
       "  775.859,1410.9 775.859,47.2441 \n",
       "  \"/>\n",
       "<polyline clip-path=\"url(#clip712)\" style=\"stroke:#000000; stroke-linecap:round; stroke-linejoin:round; stroke-width:2; stroke-opacity:0.1; fill:none\" points=\"\n",
       "  1281.37,1410.9 1281.37,47.2441 \n",
       "  \"/>\n",
       "<polyline clip-path=\"url(#clip712)\" style=\"stroke:#000000; stroke-linecap:round; stroke-linejoin:round; stroke-width:2; stroke-opacity:0.1; fill:none\" points=\"\n",
       "  1786.88,1410.9 1786.88,47.2441 \n",
       "  \"/>\n",
       "<polyline clip-path=\"url(#clip712)\" style=\"stroke:#000000; stroke-linecap:round; stroke-linejoin:round; stroke-width:2; stroke-opacity:0.1; fill:none\" points=\"\n",
       "  2292.4,1410.9 2292.4,47.2441 \n",
       "  \"/>\n",
       "<polyline clip-path=\"url(#clip710)\" style=\"stroke:#000000; stroke-linecap:round; stroke-linejoin:round; stroke-width:4; stroke-opacity:1; fill:none\" points=\"\n",
       "  220.098,1410.9 2352.76,1410.9 \n",
       "  \"/>\n",
       "<polyline clip-path=\"url(#clip710)\" style=\"stroke:#000000; stroke-linecap:round; stroke-linejoin:round; stroke-width:4; stroke-opacity:1; fill:none\" points=\"\n",
       "  270.346,1410.9 270.346,1392 \n",
       "  \"/>\n",
       "<polyline clip-path=\"url(#clip710)\" style=\"stroke:#000000; stroke-linecap:round; stroke-linejoin:round; stroke-width:4; stroke-opacity:1; fill:none\" points=\"\n",
       "  775.859,1410.9 775.859,1392 \n",
       "  \"/>\n",
       "<polyline clip-path=\"url(#clip710)\" style=\"stroke:#000000; stroke-linecap:round; stroke-linejoin:round; stroke-width:4; stroke-opacity:1; fill:none\" points=\"\n",
       "  1281.37,1410.9 1281.37,1392 \n",
       "  \"/>\n",
       "<polyline clip-path=\"url(#clip710)\" style=\"stroke:#000000; stroke-linecap:round; stroke-linejoin:round; stroke-width:4; stroke-opacity:1; fill:none\" points=\"\n",
       "  1786.88,1410.9 1786.88,1392 \n",
       "  \"/>\n",
       "<polyline clip-path=\"url(#clip710)\" style=\"stroke:#000000; stroke-linecap:round; stroke-linejoin:round; stroke-width:4; stroke-opacity:1; fill:none\" points=\"\n",
       "  2292.4,1410.9 2292.4,1392 \n",
       "  \"/>\n",
       "<path clip-path=\"url(#clip710)\" d=\"M270.346 1441.82 Q266.735 1441.82 264.906 1445.38 Q263.1 1448.92 263.1 1456.05 Q263.1 1463.16 264.906 1466.72 Q266.735 1470.26 270.346 1470.26 Q273.98 1470.26 275.786 1466.72 Q277.614 1463.16 277.614 1456.05 Q277.614 1448.92 275.786 1445.38 Q273.98 1441.82 270.346 1441.82 M270.346 1438.11 Q276.156 1438.11 279.211 1442.72 Q282.29 1447.3 282.29 1456.05 Q282.29 1464.78 279.211 1469.38 Q276.156 1473.97 270.346 1473.97 Q264.536 1473.97 261.457 1469.38 Q258.401 1464.78 258.401 1456.05 Q258.401 1447.3 261.457 1442.72 Q264.536 1438.11 270.346 1438.11 Z\" fill=\"#000000\" fill-rule=\"evenodd\" fill-opacity=\"1\" /><path clip-path=\"url(#clip710)\" d=\"M668.224 1454.4 L686.58 1454.4 L686.58 1458.33 L672.506 1458.33 L672.506 1466.8 Q673.525 1466.46 674.543 1466.29 Q675.562 1466.11 676.58 1466.11 Q682.367 1466.11 685.747 1469.28 Q689.127 1472.45 689.127 1477.87 Q689.127 1483.45 685.654 1486.55 Q682.182 1489.63 675.863 1489.63 Q673.687 1489.63 671.418 1489.26 Q669.173 1488.89 666.766 1488.15 L666.766 1483.45 Q668.849 1484.58 671.071 1485.14 Q673.293 1485.69 675.77 1485.69 Q679.775 1485.69 682.113 1483.59 Q684.451 1481.48 684.451 1477.87 Q684.451 1474.26 682.113 1472.15 Q679.775 1470.04 675.77 1470.04 Q673.895 1470.04 672.02 1470.46 Q670.168 1470.88 668.224 1471.76 L668.224 1454.4 Z\" fill=\"#000000\" fill-rule=\"evenodd\" fill-opacity=\"1\" /><path clip-path=\"url(#clip710)\" d=\"M698.34 1483.08 L703.224 1483.08 L703.224 1488.96 L698.34 1488.96 L698.34 1483.08 Z\" fill=\"#000000\" fill-rule=\"evenodd\" fill-opacity=\"1\" /><path clip-path=\"url(#clip710)\" d=\"M723.409 1457.48 Q719.798 1457.48 717.969 1461.04 Q716.164 1464.58 716.164 1471.71 Q716.164 1478.82 717.969 1482.38 Q719.798 1485.92 723.409 1485.92 Q727.043 1485.92 728.849 1482.38 Q730.677 1478.82 730.677 1471.71 Q730.677 1464.58 728.849 1461.04 Q727.043 1457.48 723.409 1457.48 M723.409 1453.77 Q729.219 1453.77 732.275 1458.38 Q735.353 1462.96 735.353 1471.71 Q735.353 1480.44 732.275 1485.04 Q729.219 1489.63 723.409 1489.63 Q717.599 1489.63 714.52 1485.04 Q711.465 1480.44 711.465 1471.71 Q711.465 1462.96 714.52 1458.38 Q717.599 1453.77 723.409 1453.77 Z\" fill=\"#000000\" fill-rule=\"evenodd\" fill-opacity=\"1\" /><path clip-path=\"url(#clip710)\" d=\"M753.571 1457.48 Q749.96 1457.48 748.131 1461.04 Q746.325 1464.58 746.325 1471.71 Q746.325 1478.82 748.131 1482.38 Q749.96 1485.92 753.571 1485.92 Q757.205 1485.92 759.011 1482.38 Q760.839 1478.82 760.839 1471.71 Q760.839 1464.58 759.011 1461.04 Q757.205 1457.48 753.571 1457.48 M753.571 1453.77 Q759.381 1453.77 762.436 1458.38 Q765.515 1462.96 765.515 1471.71 Q765.515 1480.44 762.436 1485.04 Q759.381 1489.63 753.571 1489.63 Q747.761 1489.63 744.682 1485.04 Q741.626 1480.44 741.626 1471.71 Q741.626 1462.96 744.682 1458.38 Q747.761 1453.77 753.571 1453.77 Z\" fill=\"#000000\" fill-rule=\"evenodd\" fill-opacity=\"1\" /><path clip-path=\"url(#clip710)\" d=\"M801.904 1463.49 L791.325 1474.12 L801.904 1484.7 L799.149 1487.5 L788.524 1476.87 L777.899 1487.5 L775.168 1484.7 L785.723 1474.12 L775.168 1463.49 L777.899 1460.69 L788.524 1471.32 L799.149 1460.69 L801.904 1463.49 Z\" fill=\"#000000\" fill-rule=\"evenodd\" fill-opacity=\"1\" /><path clip-path=\"url(#clip710)\" d=\"M814.265 1485.02 L821.904 1485.02 L821.904 1458.66 L813.594 1460.32 L813.594 1456.06 L821.857 1454.4 L826.533 1454.4 L826.533 1485.02 L834.172 1485.02 L834.172 1488.96 L814.265 1488.96 L814.265 1485.02 Z\" fill=\"#000000\" fill-rule=\"evenodd\" fill-opacity=\"1\" /><path clip-path=\"url(#clip710)\" d=\"M853.617 1457.48 Q850.005 1457.48 848.177 1461.04 Q846.371 1464.58 846.371 1471.71 Q846.371 1478.82 848.177 1482.38 Q850.005 1485.92 853.617 1485.92 Q857.251 1485.92 859.056 1482.38 Q860.885 1478.82 860.885 1471.71 Q860.885 1464.58 859.056 1461.04 Q857.251 1457.48 853.617 1457.48 M853.617 1453.77 Q859.427 1453.77 862.482 1458.38 Q865.561 1462.96 865.561 1471.71 Q865.561 1480.44 862.482 1485.04 Q859.427 1489.63 853.617 1489.63 Q847.806 1489.63 844.728 1485.04 Q841.672 1480.44 841.672 1471.71 Q841.672 1462.96 844.728 1458.38 Q847.806 1453.77 853.617 1453.77 Z\" fill=\"#000000\" fill-rule=\"evenodd\" fill-opacity=\"1\" /><path clip-path=\"url(#clip710)\" d=\"M875.585 1445.99 Q873.028 1445.99 871.523 1447.74 Q870.037 1449.49 870.037 1452.54 Q870.037 1455.57 871.523 1457.33 Q873.028 1459.08 875.585 1459.08 Q878.143 1459.08 879.629 1457.33 Q881.134 1455.57 881.134 1452.54 Q881.134 1449.49 879.629 1447.74 Q878.143 1445.99 875.585 1445.99 M883.127 1434.09 L883.127 1437.55 Q881.698 1436.87 880.231 1436.51 Q878.783 1436.16 877.353 1436.16 Q873.592 1436.16 871.598 1438.69 Q869.623 1441.23 869.341 1446.37 Q870.451 1444.73 872.125 1443.87 Q873.799 1442.98 875.811 1442.98 Q880.043 1442.98 882.488 1445.56 Q884.952 1448.12 884.952 1452.54 Q884.952 1456.86 882.394 1459.48 Q879.836 1462.09 875.585 1462.09 Q870.714 1462.09 868.138 1458.37 Q865.561 1454.62 865.561 1447.53 Q865.561 1440.88 868.721 1436.93 Q871.88 1432.96 877.203 1432.96 Q878.632 1432.96 880.081 1433.24 Q881.548 1433.52 883.127 1434.09 Z\" fill=\"#000000\" fill-rule=\"evenodd\" fill-opacity=\"1\" /><path clip-path=\"url(#clip710)\" d=\"M1174.39 1485.02 L1182.03 1485.02 L1182.03 1458.66 L1173.72 1460.32 L1173.72 1456.06 L1181.99 1454.4 L1186.66 1454.4 L1186.66 1485.02 L1194.3 1485.02 L1194.3 1488.96 L1174.39 1488.96 L1174.39 1485.02 Z\" fill=\"#000000\" fill-rule=\"evenodd\" fill-opacity=\"1\" /><path clip-path=\"url(#clip710)\" d=\"M1203.74 1483.08 L1208.63 1483.08 L1208.63 1488.96 L1203.74 1488.96 L1203.74 1483.08 Z\" fill=\"#000000\" fill-rule=\"evenodd\" fill-opacity=\"1\" /><path clip-path=\"url(#clip710)\" d=\"M1228.81 1457.48 Q1225.2 1457.48 1223.37 1461.04 Q1221.57 1464.58 1221.57 1471.71 Q1221.57 1478.82 1223.37 1482.38 Q1225.2 1485.92 1228.81 1485.92 Q1232.45 1485.92 1234.25 1482.38 Q1236.08 1478.82 1236.08 1471.71 Q1236.08 1464.58 1234.25 1461.04 Q1232.45 1457.48 1228.81 1457.48 M1228.81 1453.77 Q1234.62 1453.77 1237.68 1458.38 Q1240.76 1462.96 1240.76 1471.71 Q1240.76 1480.44 1237.68 1485.04 Q1234.62 1489.63 1228.81 1489.63 Q1223 1489.63 1219.93 1485.04 Q1216.87 1480.44 1216.87 1471.71 Q1216.87 1462.96 1219.93 1458.38 Q1223 1453.77 1228.81 1453.77 Z\" fill=\"#000000\" fill-rule=\"evenodd\" fill-opacity=\"1\" /><path clip-path=\"url(#clip710)\" d=\"M1258.98 1457.48 Q1255.36 1457.48 1253.54 1461.04 Q1251.73 1464.58 1251.73 1471.71 Q1251.73 1478.82 1253.54 1482.38 Q1255.36 1485.92 1258.98 1485.92 Q1262.61 1485.92 1264.42 1482.38 Q1266.24 1478.82 1266.24 1471.71 Q1266.24 1464.58 1264.42 1461.04 Q1262.61 1457.48 1258.98 1457.48 M1258.98 1453.77 Q1264.79 1453.77 1267.84 1458.38 Q1270.92 1462.96 1270.92 1471.71 Q1270.92 1480.44 1267.84 1485.04 Q1264.79 1489.63 1258.98 1489.63 Q1253.17 1489.63 1250.09 1485.04 Q1247.03 1480.44 1247.03 1471.71 Q1247.03 1462.96 1250.09 1458.38 Q1253.17 1453.77 1258.98 1453.77 Z\" fill=\"#000000\" fill-rule=\"evenodd\" fill-opacity=\"1\" /><path clip-path=\"url(#clip710)\" d=\"M1307.31 1463.49 L1296.73 1474.12 L1307.31 1484.7 L1304.55 1487.5 L1293.93 1476.87 L1283.3 1487.5 L1280.57 1484.7 L1291.13 1474.12 L1280.57 1463.49 L1283.3 1460.69 L1293.93 1471.32 L1304.55 1460.69 L1307.31 1463.49 Z\" fill=\"#000000\" fill-rule=\"evenodd\" fill-opacity=\"1\" /><path clip-path=\"url(#clip710)\" d=\"M1319.67 1485.02 L1327.31 1485.02 L1327.31 1458.66 L1319 1460.32 L1319 1456.06 L1327.26 1454.4 L1331.94 1454.4 L1331.94 1485.02 L1339.58 1485.02 L1339.58 1488.96 L1319.67 1488.96 L1319.67 1485.02 Z\" fill=\"#000000\" fill-rule=\"evenodd\" fill-opacity=\"1\" /><path clip-path=\"url(#clip710)\" d=\"M1359.02 1457.48 Q1355.41 1457.48 1353.58 1461.04 Q1351.78 1464.58 1351.78 1471.71 Q1351.78 1478.82 1353.58 1482.38 Q1355.41 1485.92 1359.02 1485.92 Q1362.66 1485.92 1364.46 1482.38 Q1366.29 1478.82 1366.29 1471.71 Q1366.29 1464.58 1364.46 1461.04 Q1362.66 1457.48 1359.02 1457.48 M1359.02 1453.77 Q1364.83 1453.77 1367.89 1458.38 Q1370.97 1462.96 1370.97 1471.71 Q1370.97 1480.44 1367.89 1485.04 Q1364.83 1489.63 1359.02 1489.63 Q1353.21 1489.63 1350.13 1485.04 Q1347.08 1480.44 1347.08 1471.71 Q1347.08 1462.96 1350.13 1458.38 Q1353.21 1453.77 1359.02 1453.77 Z\" fill=\"#000000\" fill-rule=\"evenodd\" fill-opacity=\"1\" /><path clip-path=\"url(#clip710)\" d=\"M1370.97 1433.47 L1389.02 1433.47 L1389.02 1435.08 L1378.83 1461.55 L1374.86 1461.55 L1384.45 1436.66 L1370.97 1436.66 L1370.97 1433.47 Z\" fill=\"#000000\" fill-rule=\"evenodd\" fill-opacity=\"1\" /><path clip-path=\"url(#clip710)\" d=\"M1679.91 1485.02 L1687.54 1485.02 L1687.54 1458.66 L1679.23 1460.32 L1679.23 1456.06 L1687.5 1454.4 L1692.17 1454.4 L1692.17 1485.02 L1699.81 1485.02 L1699.81 1488.96 L1679.91 1488.96 L1679.91 1485.02 Z\" fill=\"#000000\" fill-rule=\"evenodd\" fill-opacity=\"1\" /><path clip-path=\"url(#clip710)\" d=\"M1709.26 1483.08 L1714.14 1483.08 L1714.14 1488.96 L1709.26 1488.96 L1709.26 1483.08 Z\" fill=\"#000000\" fill-rule=\"evenodd\" fill-opacity=\"1\" /><path clip-path=\"url(#clip710)\" d=\"M1724.37 1454.4 L1742.73 1454.4 L1742.73 1458.33 L1728.66 1458.33 L1728.66 1466.8 Q1729.67 1466.46 1730.69 1466.29 Q1731.71 1466.11 1732.73 1466.11 Q1738.52 1466.11 1741.9 1469.28 Q1745.28 1472.45 1745.28 1477.87 Q1745.28 1483.45 1741.8 1486.55 Q1738.33 1489.63 1732.01 1489.63 Q1729.84 1489.63 1727.57 1489.26 Q1725.32 1488.89 1722.92 1488.15 L1722.92 1483.45 Q1725 1484.58 1727.22 1485.14 Q1729.44 1485.69 1731.92 1485.69 Q1735.92 1485.69 1738.26 1483.59 Q1740.6 1481.48 1740.6 1477.87 Q1740.6 1474.26 1738.26 1472.15 Q1735.92 1470.04 1731.92 1470.04 Q1730.04 1470.04 1728.17 1470.46 Q1726.32 1470.88 1724.37 1471.76 L1724.37 1454.4 Z\" fill=\"#000000\" fill-rule=\"evenodd\" fill-opacity=\"1\" /><path clip-path=\"url(#clip710)\" d=\"M1764.49 1457.48 Q1760.88 1457.48 1759.05 1461.04 Q1757.24 1464.58 1757.24 1471.71 Q1757.24 1478.82 1759.05 1482.38 Q1760.88 1485.92 1764.49 1485.92 Q1768.12 1485.92 1769.93 1482.38 Q1771.76 1478.82 1771.76 1471.71 Q1771.76 1464.58 1769.93 1461.04 Q1768.12 1457.48 1764.49 1457.48 M1764.49 1453.77 Q1770.3 1453.77 1773.35 1458.38 Q1776.43 1462.96 1776.43 1471.71 Q1776.43 1480.44 1773.35 1485.04 Q1770.3 1489.63 1764.49 1489.63 Q1758.68 1489.63 1755.6 1485.04 Q1752.54 1480.44 1752.54 1471.71 Q1752.54 1462.96 1755.6 1458.38 Q1758.68 1453.77 1764.49 1453.77 Z\" fill=\"#000000\" fill-rule=\"evenodd\" fill-opacity=\"1\" /><path clip-path=\"url(#clip710)\" d=\"M1812.82 1463.49 L1802.24 1474.12 L1812.82 1484.7 L1810.07 1487.5 L1799.44 1476.87 L1788.82 1487.5 L1786.09 1484.7 L1796.64 1474.12 L1786.09 1463.49 L1788.82 1460.69 L1799.44 1471.32 L1810.07 1460.69 L1812.82 1463.49 Z\" fill=\"#000000\" fill-rule=\"evenodd\" fill-opacity=\"1\" /><path clip-path=\"url(#clip710)\" d=\"M1825.18 1485.02 L1832.82 1485.02 L1832.82 1458.66 L1824.51 1460.32 L1824.51 1456.06 L1832.78 1454.4 L1837.45 1454.4 L1837.45 1485.02 L1845.09 1485.02 L1845.09 1488.96 L1825.18 1488.96 L1825.18 1485.02 Z\" fill=\"#000000\" fill-rule=\"evenodd\" fill-opacity=\"1\" /><path clip-path=\"url(#clip710)\" d=\"M1864.53 1457.48 Q1860.92 1457.48 1859.09 1461.04 Q1857.29 1464.58 1857.29 1471.71 Q1857.29 1478.82 1859.09 1482.38 Q1860.92 1485.92 1864.53 1485.92 Q1868.17 1485.92 1869.97 1482.38 Q1871.8 1478.82 1871.8 1471.71 Q1871.8 1464.58 1869.97 1461.04 Q1868.17 1457.48 1864.53 1457.48 M1864.53 1453.77 Q1870.34 1453.77 1873.4 1458.38 Q1876.48 1462.96 1876.48 1471.71 Q1876.48 1480.44 1873.4 1485.04 Q1870.34 1489.63 1864.53 1489.63 Q1858.72 1489.63 1855.65 1485.04 Q1852.59 1480.44 1852.59 1471.71 Q1852.59 1462.96 1855.65 1458.38 Q1858.72 1453.77 1864.53 1453.77 Z\" fill=\"#000000\" fill-rule=\"evenodd\" fill-opacity=\"1\" /><path clip-path=\"url(#clip710)\" d=\"M1876.48 1433.47 L1894.53 1433.47 L1894.53 1435.08 L1884.34 1461.55 L1880.37 1461.55 L1889.96 1436.66 L1876.48 1436.66 L1876.48 1433.47 Z\" fill=\"#000000\" fill-rule=\"evenodd\" fill-opacity=\"1\" /><path clip-path=\"url(#clip710)\" d=\"M2189.5 1485.02 L2205.82 1485.02 L2205.82 1488.96 L2183.88 1488.96 L2183.88 1485.02 Q2186.54 1482.27 2191.13 1477.64 Q2195.73 1472.98 2196.91 1471.64 Q2199.16 1469.12 2200.04 1467.38 Q2200.94 1465.62 2200.94 1463.93 Q2200.94 1461.18 2199 1459.44 Q2197.07 1457.71 2193.97 1457.71 Q2191.77 1457.71 2189.32 1458.47 Q2186.89 1459.23 2184.11 1460.79 L2184.11 1456.06 Q2186.94 1454.93 2189.39 1454.35 Q2191.84 1453.77 2193.88 1453.77 Q2199.25 1453.77 2202.44 1456.46 Q2205.64 1459.14 2205.64 1463.63 Q2205.64 1465.76 2204.83 1467.68 Q2204.04 1469.58 2201.94 1472.17 Q2201.36 1472.85 2198.25 1476.06 Q2195.15 1479.26 2189.5 1485.02 Z\" fill=\"#000000\" fill-rule=\"evenodd\" fill-opacity=\"1\" /><path clip-path=\"url(#clip710)\" d=\"M2215.64 1483.08 L2220.52 1483.08 L2220.52 1488.96 L2215.64 1488.96 L2215.64 1483.08 Z\" fill=\"#000000\" fill-rule=\"evenodd\" fill-opacity=\"1\" /><path clip-path=\"url(#clip710)\" d=\"M2240.71 1457.48 Q2237.1 1457.48 2235.27 1461.04 Q2233.46 1464.58 2233.46 1471.71 Q2233.46 1478.82 2235.27 1482.38 Q2237.1 1485.92 2240.71 1485.92 Q2244.34 1485.92 2246.15 1482.38 Q2247.98 1478.82 2247.98 1471.71 Q2247.98 1464.58 2246.15 1461.04 Q2244.34 1457.48 2240.71 1457.48 M2240.71 1453.77 Q2246.52 1453.77 2249.57 1458.38 Q2252.65 1462.96 2252.65 1471.71 Q2252.65 1480.44 2249.57 1485.04 Q2246.52 1489.63 2240.71 1489.63 Q2234.9 1489.63 2231.82 1485.04 Q2228.76 1480.44 2228.76 1471.71 Q2228.76 1462.96 2231.82 1458.38 Q2234.9 1453.77 2240.71 1453.77 Z\" fill=\"#000000\" fill-rule=\"evenodd\" fill-opacity=\"1\" /><path clip-path=\"url(#clip710)\" d=\"M2270.87 1457.48 Q2267.26 1457.48 2265.43 1461.04 Q2263.62 1464.58 2263.62 1471.71 Q2263.62 1478.82 2265.43 1482.38 Q2267.26 1485.92 2270.87 1485.92 Q2274.5 1485.92 2276.31 1482.38 Q2278.14 1478.82 2278.14 1471.71 Q2278.14 1464.58 2276.31 1461.04 Q2274.5 1457.48 2270.87 1457.48 M2270.87 1453.77 Q2276.68 1453.77 2279.74 1458.38 Q2282.81 1462.96 2282.81 1471.71 Q2282.81 1480.44 2279.74 1485.04 Q2276.68 1489.63 2270.87 1489.63 Q2265.06 1489.63 2261.98 1485.04 Q2258.93 1480.44 2258.93 1471.71 Q2258.93 1462.96 2261.98 1458.38 Q2265.06 1453.77 2270.87 1453.77 Z\" fill=\"#000000\" fill-rule=\"evenodd\" fill-opacity=\"1\" /><path clip-path=\"url(#clip710)\" d=\"M2319.2 1463.49 L2308.62 1474.12 L2319.2 1484.7 L2316.45 1487.5 L2305.82 1476.87 L2295.2 1487.5 L2292.47 1484.7 L2303.02 1474.12 L2292.47 1463.49 L2295.2 1460.69 L2305.82 1471.32 L2316.45 1460.69 L2319.2 1463.49 Z\" fill=\"#000000\" fill-rule=\"evenodd\" fill-opacity=\"1\" /><path clip-path=\"url(#clip710)\" d=\"M2331.56 1485.02 L2339.2 1485.02 L2339.2 1458.66 L2330.89 1460.32 L2330.89 1456.06 L2339.16 1454.4 L2343.83 1454.4 L2343.83 1485.02 L2351.47 1485.02 L2351.47 1488.96 L2331.56 1488.96 L2331.56 1485.02 Z\" fill=\"#000000\" fill-rule=\"evenodd\" fill-opacity=\"1\" /><path clip-path=\"url(#clip710)\" d=\"M2370.92 1457.48 Q2367.3 1457.48 2365.48 1461.04 Q2363.67 1464.58 2363.67 1471.71 Q2363.67 1478.82 2365.48 1482.38 Q2367.3 1485.92 2370.92 1485.92 Q2374.55 1485.92 2376.36 1482.38 Q2378.18 1478.82 2378.18 1471.71 Q2378.18 1464.58 2376.36 1461.04 Q2374.55 1457.48 2370.92 1457.48 M2370.92 1453.77 Q2376.73 1453.77 2379.78 1458.38 Q2382.86 1462.96 2382.86 1471.71 Q2382.86 1480.44 2379.78 1485.04 Q2376.73 1489.63 2370.92 1489.63 Q2365.11 1489.63 2362.03 1485.04 Q2358.97 1480.44 2358.97 1471.71 Q2358.97 1462.96 2362.03 1458.38 Q2365.11 1453.77 2370.92 1453.77 Z\" fill=\"#000000\" fill-rule=\"evenodd\" fill-opacity=\"1\" /><path clip-path=\"url(#clip710)\" d=\"M2382.86 1433.47 L2400.92 1433.47 L2400.92 1435.08 L2390.72 1461.55 L2386.75 1461.55 L2396.35 1436.66 L2382.86 1436.66 L2382.86 1433.47 Z\" fill=\"#000000\" fill-rule=\"evenodd\" fill-opacity=\"1\" /><path clip-path=\"url(#clip710)\" d=\"M1135.99 1526.67 L1142.42 1526.67 L1142.42 1574.19 L1135.99 1574.19 L1135.99 1526.67 Z\" fill=\"#000000\" fill-rule=\"evenodd\" fill-opacity=\"1\" /><path clip-path=\"url(#clip710)\" d=\"M1160.75 1528.42 L1160.75 1538.54 L1172.81 1538.54 L1172.81 1543.09 L1160.75 1543.09 L1160.75 1562.44 Q1160.75 1566.8 1161.93 1568.04 Q1163.14 1569.28 1166.8 1569.28 L1172.81 1569.28 L1172.81 1574.19 L1166.8 1574.19 Q1160.02 1574.19 1157.44 1571.67 Q1154.86 1569.12 1154.86 1562.44 L1154.86 1543.09 L1150.57 1543.09 L1150.57 1538.54 L1154.86 1538.54 L1154.86 1528.42 L1160.75 1528.42 Z\" fill=\"#000000\" fill-rule=\"evenodd\" fill-opacity=\"1\" /><path clip-path=\"url(#clip710)\" d=\"M1211.01 1554.9 L1211.01 1557.76 L1184.08 1557.76 Q1184.46 1563.81 1187.71 1566.99 Q1190.99 1570.14 1196.81 1570.14 Q1200.19 1570.14 1203.34 1569.32 Q1206.52 1568.49 1209.64 1566.83 L1209.64 1572.37 Q1206.49 1573.71 1203.18 1574.41 Q1199.87 1575.11 1196.46 1575.11 Q1187.93 1575.11 1182.94 1570.14 Q1177.97 1565.18 1177.97 1556.71 Q1177.97 1547.96 1182.68 1542.83 Q1187.42 1537.68 1195.44 1537.68 Q1202.64 1537.68 1206.81 1542.33 Q1211.01 1546.94 1211.01 1554.9 M1205.15 1553.18 Q1205.09 1548.37 1202.45 1545.51 Q1199.84 1542.64 1195.51 1542.64 Q1190.61 1542.64 1187.65 1545.41 Q1184.72 1548.18 1184.27 1553.21 L1205.15 1553.18 Z\" fill=\"#000000\" fill-rule=\"evenodd\" fill-opacity=\"1\" /><path clip-path=\"url(#clip710)\" d=\"M1241.28 1544.01 Q1240.29 1543.44 1239.11 1543.18 Q1237.97 1542.9 1236.57 1542.9 Q1231.6 1542.9 1228.93 1546.14 Q1226.29 1549.36 1226.29 1555.41 L1226.29 1574.19 L1220.4 1574.19 L1220.4 1538.54 L1226.29 1538.54 L1226.29 1544.08 Q1228.13 1540.83 1231.09 1539.27 Q1234.05 1537.68 1238.29 1537.68 Q1238.89 1537.68 1239.62 1537.77 Q1240.36 1537.84 1241.25 1538 L1241.28 1544.01 Z\" fill=\"#000000\" fill-rule=\"evenodd\" fill-opacity=\"1\" /><path clip-path=\"url(#clip710)\" d=\"M1263.62 1556.27 Q1256.52 1556.27 1253.79 1557.89 Q1251.05 1559.51 1251.05 1563.43 Q1251.05 1566.55 1253.09 1568.39 Q1255.16 1570.21 1258.69 1570.21 Q1263.56 1570.21 1266.49 1566.77 Q1269.45 1563.3 1269.45 1557.57 L1269.45 1556.27 L1263.62 1556.27 M1275.3 1553.85 L1275.3 1574.19 L1269.45 1574.19 L1269.45 1568.77 Q1267.44 1572.02 1264.45 1573.58 Q1261.46 1575.11 1257.13 1575.11 Q1251.65 1575.11 1248.41 1572.05 Q1245.19 1568.97 1245.19 1563.81 Q1245.19 1557.79 1249.2 1554.74 Q1253.25 1551.68 1261.23 1551.68 L1269.45 1551.68 L1269.45 1551.11 Q1269.45 1547.07 1266.77 1544.87 Q1264.13 1542.64 1259.32 1542.64 Q1256.27 1542.64 1253.37 1543.38 Q1250.48 1544.11 1247.8 1545.57 L1247.8 1540.16 Q1251.02 1538.92 1254.04 1538.31 Q1257.07 1537.68 1259.93 1537.68 Q1267.66 1537.68 1271.48 1541.69 Q1275.3 1545.7 1275.3 1553.85 Z\" fill=\"#000000\" fill-rule=\"evenodd\" fill-opacity=\"1\" /><path clip-path=\"url(#clip710)\" d=\"M1293.16 1528.42 L1293.16 1538.54 L1305.22 1538.54 L1305.22 1543.09 L1293.16 1543.09 L1293.16 1562.44 Q1293.16 1566.8 1294.34 1568.04 Q1295.55 1569.28 1299.21 1569.28 L1305.22 1569.28 L1305.22 1574.19 L1299.21 1574.19 Q1292.43 1574.19 1289.85 1571.67 Q1287.27 1569.12 1287.27 1562.44 L1287.27 1543.09 L1282.97 1543.09 L1282.97 1538.54 L1287.27 1538.54 L1287.27 1528.42 L1293.16 1528.42 Z\" fill=\"#000000\" fill-rule=\"evenodd\" fill-opacity=\"1\" /><path clip-path=\"url(#clip710)\" d=\"M1312.92 1538.54 L1318.78 1538.54 L1318.78 1574.19 L1312.92 1574.19 L1312.92 1538.54 M1312.92 1524.66 L1318.78 1524.66 L1318.78 1532.08 L1312.92 1532.08 L1312.92 1524.66 Z\" fill=\"#000000\" fill-rule=\"evenodd\" fill-opacity=\"1\" /><path clip-path=\"url(#clip710)\" d=\"M1344.85 1542.64 Q1340.14 1542.64 1337.4 1546.34 Q1334.66 1550 1334.66 1556.39 Q1334.66 1562.79 1337.37 1566.48 Q1340.11 1570.14 1344.85 1570.14 Q1349.53 1570.14 1352.26 1566.45 Q1355 1562.76 1355 1556.39 Q1355 1550.06 1352.26 1546.37 Q1349.53 1542.64 1344.85 1542.64 M1344.85 1537.68 Q1352.49 1537.68 1356.85 1542.64 Q1361.21 1547.61 1361.21 1556.39 Q1361.21 1565.15 1356.85 1570.14 Q1352.49 1575.11 1344.85 1575.11 Q1337.18 1575.11 1332.82 1570.14 Q1328.49 1565.15 1328.49 1556.39 Q1328.49 1547.61 1332.82 1542.64 Q1337.18 1537.68 1344.85 1537.68 Z\" fill=\"#000000\" fill-rule=\"evenodd\" fill-opacity=\"1\" /><path clip-path=\"url(#clip710)\" d=\"M1400.55 1552.67 L1400.55 1574.19 L1394.69 1574.19 L1394.69 1552.86 Q1394.69 1547.8 1392.72 1545.29 Q1390.74 1542.77 1386.8 1542.77 Q1382.06 1542.77 1379.32 1545.79 Q1376.58 1548.82 1376.58 1554.04 L1376.58 1574.19 L1370.69 1574.19 L1370.69 1538.54 L1376.58 1538.54 L1376.58 1544.08 Q1378.68 1540.86 1381.51 1539.27 Q1384.38 1537.68 1388.1 1537.68 Q1394.25 1537.68 1397.4 1541.5 Q1400.55 1545.29 1400.55 1552.67 Z\" fill=\"#000000\" fill-rule=\"evenodd\" fill-opacity=\"1\" /><path clip-path=\"url(#clip710)\" d=\"M1434.95 1539.59 L1434.95 1545.13 Q1432.47 1543.85 1429.8 1543.22 Q1427.12 1542.58 1424.26 1542.58 Q1419.9 1542.58 1417.7 1543.92 Q1415.54 1545.25 1415.54 1547.93 Q1415.54 1549.96 1417.1 1551.14 Q1418.66 1552.29 1423.37 1553.34 L1425.37 1553.78 Q1431.61 1555.12 1434.22 1557.57 Q1436.86 1559.99 1436.86 1564.35 Q1436.86 1569.32 1432.92 1572.21 Q1429 1575.11 1422.13 1575.11 Q1419.26 1575.11 1416.14 1574.54 Q1413.06 1573.99 1409.62 1572.88 L1409.62 1566.83 Q1412.87 1568.52 1416.02 1569.38 Q1419.17 1570.21 1422.26 1570.21 Q1426.39 1570.21 1428.62 1568.81 Q1430.85 1567.37 1430.85 1564.8 Q1430.85 1562.41 1429.23 1561.14 Q1427.63 1559.86 1422.19 1558.68 L1420.15 1558.21 Q1414.71 1557.06 1412.29 1554.71 Q1409.87 1552.32 1409.87 1548.18 Q1409.87 1543.15 1413.44 1540.42 Q1417 1537.68 1423.56 1537.68 Q1426.81 1537.68 1429.67 1538.16 Q1432.54 1538.63 1434.95 1539.59 Z\" fill=\"#000000\" fill-rule=\"evenodd\" fill-opacity=\"1\" /><polyline clip-path=\"url(#clip712)\" style=\"stroke:#000000; stroke-linecap:round; stroke-linejoin:round; stroke-width:2; stroke-opacity:0.1; fill:none\" points=\"\n",
       "  220.098,1164.81 2352.76,1164.81 \n",
       "  \"/>\n",
       "<polyline clip-path=\"url(#clip712)\" style=\"stroke:#000000; stroke-linecap:round; stroke-linejoin:round; stroke-width:2; stroke-opacity:0.1; fill:none\" points=\"\n",
       "  220.098,832.818 2352.76,832.818 \n",
       "  \"/>\n",
       "<polyline clip-path=\"url(#clip712)\" style=\"stroke:#000000; stroke-linecap:round; stroke-linejoin:round; stroke-width:2; stroke-opacity:0.1; fill:none\" points=\"\n",
       "  220.098,500.827 2352.76,500.827 \n",
       "  \"/>\n",
       "<polyline clip-path=\"url(#clip712)\" style=\"stroke:#000000; stroke-linecap:round; stroke-linejoin:round; stroke-width:2; stroke-opacity:0.1; fill:none\" points=\"\n",
       "  220.098,168.836 2352.76,168.836 \n",
       "  \"/>\n",
       "<polyline clip-path=\"url(#clip710)\" style=\"stroke:#000000; stroke-linecap:round; stroke-linejoin:round; stroke-width:4; stroke-opacity:1; fill:none\" points=\"\n",
       "  220.098,1410.9 220.098,47.2441 \n",
       "  \"/>\n",
       "<polyline clip-path=\"url(#clip710)\" style=\"stroke:#000000; stroke-linecap:round; stroke-linejoin:round; stroke-width:4; stroke-opacity:1; fill:none\" points=\"\n",
       "  220.098,1164.81 238.995,1164.81 \n",
       "  \"/>\n",
       "<polyline clip-path=\"url(#clip710)\" style=\"stroke:#000000; stroke-linecap:round; stroke-linejoin:round; stroke-width:4; stroke-opacity:1; fill:none\" points=\"\n",
       "  220.098,832.818 238.995,832.818 \n",
       "  \"/>\n",
       "<polyline clip-path=\"url(#clip710)\" style=\"stroke:#000000; stroke-linecap:round; stroke-linejoin:round; stroke-width:4; stroke-opacity:1; fill:none\" points=\"\n",
       "  220.098,500.827 238.995,500.827 \n",
       "  \"/>\n",
       "<polyline clip-path=\"url(#clip710)\" style=\"stroke:#000000; stroke-linecap:round; stroke-linejoin:round; stroke-width:4; stroke-opacity:1; fill:none\" points=\"\n",
       "  220.098,168.836 238.995,168.836 \n",
       "  \"/>\n",
       "<path clip-path=\"url(#clip710)\" d=\"M129.862 1151.6 L118.056 1170.05 L129.862 1170.05 L129.862 1151.6 M128.635 1147.53 L134.515 1147.53 L134.515 1170.05 L139.445 1170.05 L139.445 1173.94 L134.515 1173.94 L134.515 1182.09 L129.862 1182.09 L129.862 1173.94 L114.26 1173.94 L114.26 1169.43 L128.635 1147.53 Z\" fill=\"#000000\" fill-rule=\"evenodd\" fill-opacity=\"1\" /><path clip-path=\"url(#clip710)\" d=\"M147.177 1176.21 L152.061 1176.21 L152.061 1182.09 L147.177 1182.09 L147.177 1176.21 Z\" fill=\"#000000\" fill-rule=\"evenodd\" fill-opacity=\"1\" /><path clip-path=\"url(#clip710)\" d=\"M172.246 1165.68 Q168.913 1165.68 166.991 1167.46 Q165.093 1169.24 165.093 1172.37 Q165.093 1175.49 166.991 1177.27 Q168.913 1179.06 172.246 1179.06 Q175.579 1179.06 177.501 1177.27 Q179.422 1175.47 179.422 1172.37 Q179.422 1169.24 177.501 1167.46 Q175.602 1165.68 172.246 1165.68 M167.57 1163.69 Q164.561 1162.94 162.871 1160.88 Q161.204 1158.82 161.204 1155.86 Q161.204 1151.72 164.144 1149.31 Q167.107 1146.9 172.246 1146.9 Q177.408 1146.9 180.348 1149.31 Q183.288 1151.72 183.288 1155.86 Q183.288 1158.82 181.598 1160.88 Q179.931 1162.94 176.945 1163.69 Q180.325 1164.47 182.2 1166.76 Q184.098 1169.06 184.098 1172.37 Q184.098 1177.39 181.019 1180.07 Q177.964 1182.76 172.246 1182.76 Q166.528 1182.76 163.45 1180.07 Q160.394 1177.39 160.394 1172.37 Q160.394 1169.06 162.292 1166.76 Q164.19 1164.47 167.57 1163.69 M165.857 1156.3 Q165.857 1158.99 167.524 1160.49 Q169.214 1162 172.246 1162 Q175.255 1162 176.945 1160.49 Q178.658 1158.99 178.658 1156.3 Q178.658 1153.62 176.945 1152.11 Q175.255 1150.61 172.246 1150.61 Q169.214 1150.61 167.524 1152.11 Q165.857 1153.62 165.857 1156.3 Z\" fill=\"#000000\" fill-rule=\"evenodd\" fill-opacity=\"1\" /><path clip-path=\"url(#clip710)\" d=\"M116.968 815.538 L135.325 815.538 L135.325 819.473 L121.251 819.473 L121.251 827.945 Q122.269 827.598 123.288 827.436 Q124.306 827.25 125.325 827.25 Q131.112 827.25 134.492 830.422 Q137.871 833.593 137.871 839.01 Q137.871 844.588 134.399 847.69 Q130.927 850.769 124.607 850.769 Q122.431 850.769 120.163 850.398 Q117.918 850.028 115.51 849.287 L115.51 844.588 Q117.593 845.723 119.816 846.278 Q122.038 846.834 124.515 846.834 Q128.519 846.834 130.857 844.727 Q133.195 842.621 133.195 839.01 Q133.195 835.399 130.857 833.292 Q128.519 831.186 124.515 831.186 Q122.64 831.186 120.765 831.602 Q118.913 832.019 116.968 832.899 L116.968 815.538 Z\" fill=\"#000000\" fill-rule=\"evenodd\" fill-opacity=\"1\" /><path clip-path=\"url(#clip710)\" d=\"M147.084 844.218 L151.968 844.218 L151.968 850.098 L147.084 850.098 L147.084 844.218 Z\" fill=\"#000000\" fill-rule=\"evenodd\" fill-opacity=\"1\" /><path clip-path=\"url(#clip710)\" d=\"M172.153 818.616 Q168.542 818.616 166.714 822.181 Q164.908 825.723 164.908 832.852 Q164.908 839.959 166.714 843.523 Q168.542 847.065 172.153 847.065 Q175.788 847.065 177.593 843.523 Q179.422 839.959 179.422 832.852 Q179.422 825.723 177.593 822.181 Q175.788 818.616 172.153 818.616 M172.153 814.913 Q177.964 814.913 181.019 819.519 Q184.098 824.102 184.098 832.852 Q184.098 841.579 181.019 846.186 Q177.964 850.769 172.153 850.769 Q166.343 850.769 163.265 846.186 Q160.209 841.579 160.209 832.852 Q160.209 824.102 163.265 819.519 Q166.343 814.913 172.153 814.913 Z\" fill=\"#000000\" fill-rule=\"evenodd\" fill-opacity=\"1\" /><path clip-path=\"url(#clip710)\" d=\"M118.566 483.547 L136.922 483.547 L136.922 487.482 L122.848 487.482 L122.848 495.954 Q123.867 495.607 124.885 495.445 Q125.904 495.26 126.922 495.26 Q132.709 495.26 136.089 498.431 Q139.468 501.602 139.468 507.019 Q139.468 512.597 135.996 515.699 Q132.524 518.778 126.205 518.778 Q124.029 518.778 121.76 518.408 Q119.515 518.037 117.107 517.296 L117.107 512.597 Q119.191 513.732 121.413 514.287 Q123.635 514.843 126.112 514.843 Q130.117 514.843 132.455 512.736 Q134.792 510.63 134.792 507.019 Q134.792 503.408 132.455 501.301 Q130.117 499.195 126.112 499.195 Q124.237 499.195 122.362 499.611 Q120.51 500.028 118.566 500.908 L118.566 483.547 Z\" fill=\"#000000\" fill-rule=\"evenodd\" fill-opacity=\"1\" /><path clip-path=\"url(#clip710)\" d=\"M148.681 512.227 L153.566 512.227 L153.566 518.107 L148.681 518.107 L148.681 512.227 Z\" fill=\"#000000\" fill-rule=\"evenodd\" fill-opacity=\"1\" /><path clip-path=\"url(#clip710)\" d=\"M167.778 514.171 L184.098 514.171 L184.098 518.107 L162.153 518.107 L162.153 514.171 Q164.815 511.417 169.399 506.787 Q174.005 502.135 175.186 500.792 Q177.431 498.269 178.311 496.533 Q179.214 494.773 179.214 493.084 Q179.214 490.329 177.269 488.593 Q175.348 486.857 172.246 486.857 Q170.047 486.857 167.593 487.621 Q165.163 488.385 162.385 489.935 L162.385 485.213 Q165.209 484.079 167.663 483.5 Q170.116 482.922 172.153 482.922 Q177.524 482.922 180.718 485.607 Q183.913 488.292 183.913 492.783 Q183.913 494.912 183.102 496.834 Q182.315 498.732 180.209 501.324 Q179.63 501.996 176.528 505.213 Q173.427 508.408 167.778 514.171 Z\" fill=\"#000000\" fill-rule=\"evenodd\" fill-opacity=\"1\" /><path clip-path=\"url(#clip710)\" d=\"M116.482 151.556 L134.839 151.556 L134.839 155.491 L120.765 155.491 L120.765 163.963 Q121.783 163.616 122.802 163.454 Q123.82 163.269 124.839 163.269 Q130.626 163.269 134.005 166.44 Q137.385 169.611 137.385 175.028 Q137.385 180.607 133.913 183.708 Q130.441 186.787 124.121 186.787 Q121.945 186.787 119.677 186.417 Q117.431 186.046 115.024 185.306 L115.024 180.607 Q117.107 181.741 119.33 182.296 Q121.552 182.852 124.029 182.852 Q128.033 182.852 130.371 180.745 Q132.709 178.639 132.709 175.028 Q132.709 171.417 130.371 169.31 Q128.033 167.204 124.029 167.204 Q122.154 167.204 120.279 167.62 Q118.427 168.037 116.482 168.917 L116.482 151.556 Z\" fill=\"#000000\" fill-rule=\"evenodd\" fill-opacity=\"1\" /><path clip-path=\"url(#clip710)\" d=\"M146.598 180.236 L151.482 180.236 L151.482 186.116 L146.598 186.116 L146.598 180.236 Z\" fill=\"#000000\" fill-rule=\"evenodd\" fill-opacity=\"1\" /><path clip-path=\"url(#clip710)\" d=\"M174.514 155.63 L162.709 174.079 L174.514 174.079 L174.514 155.63 M173.288 151.556 L179.167 151.556 L179.167 174.079 L184.098 174.079 L184.098 177.968 L179.167 177.968 L179.167 186.116 L174.514 186.116 L174.514 177.968 L158.913 177.968 L158.913 173.454 L173.288 151.556 Z\" fill=\"#000000\" fill-rule=\"evenodd\" fill-opacity=\"1\" /><path clip-path=\"url(#clip710)\" d=\"M41.3104 1077.04 L58.7206 1077.04 L58.7206 1066.72 Q58.7206 1061.54 56.5881 1059.05 Q54.4238 1056.54 49.9996 1056.54 Q45.5436 1056.54 43.4429 1059.05 Q41.3104 1061.54 41.3104 1066.72 L41.3104 1077.04 M21.7677 1077.04 L36.0905 1077.04 L36.0905 1067.52 Q36.0905 1062.81 34.34 1060.52 Q32.5576 1058.19 28.9291 1058.19 Q25.3325 1058.19 23.5501 1060.52 Q21.7677 1062.81 21.7677 1067.52 L21.7677 1077.04 M16.4842 1083.47 L16.4842 1067.04 Q16.4842 1059.69 19.5397 1055.71 Q22.5952 1051.73 28.2289 1051.73 Q32.5894 1051.73 35.1675 1053.77 Q37.7456 1055.81 38.3822 1059.75 Q39.4007 1055.01 42.6472 1052.4 Q45.8619 1049.76 50.6998 1049.76 Q57.0655 1049.76 60.5348 1054.09 Q64.0042 1058.42 64.0042 1066.41 L64.0042 1083.47 L16.4842 1083.47 Z\" fill=\"#000000\" fill-rule=\"evenodd\" fill-opacity=\"1\" /><path clip-path=\"url(#clip710)\" d=\"M44.7161 1008.51 L47.5806 1008.51 L47.5806 1035.44 Q53.6281 1035.05 56.8109 1031.81 Q59.9619 1028.53 59.9619 1022.7 Q59.9619 1019.33 59.1344 1016.18 Q58.3069 1013 56.6518 1009.88 L62.1899 1009.88 Q63.5267 1013.03 64.227 1016.34 Q64.9272 1019.65 64.9272 1023.05 Q64.9272 1031.58 59.9619 1036.58 Q54.9967 1041.55 46.5303 1041.55 Q37.7774 1041.55 32.6531 1036.84 Q27.4968 1032.09 27.4968 1024.07 Q27.4968 1016.88 32.1438 1012.71 Q36.7589 1008.51 44.7161 1008.51 M42.9973 1014.37 Q38.1912 1014.43 35.3266 1017.07 Q32.4621 1019.68 32.4621 1024.01 Q32.4621 1028.91 35.2312 1031.87 Q38.0002 1034.8 43.0292 1035.24 L42.9973 1014.37 Z\" fill=\"#000000\" fill-rule=\"evenodd\" fill-opacity=\"1\" /><path clip-path=\"url(#clip710)\" d=\"M29.4065 976.171 L34.9447 976.171 Q33.6716 978.654 33.035 981.327 Q32.3984 984.001 32.3984 986.866 Q32.3984 991.226 33.7352 993.422 Q35.072 995.587 37.7456 995.587 Q39.7826 995.587 40.9603 994.027 Q42.1061 992.467 43.1565 987.757 L43.6021 985.752 Q44.9389 979.513 47.3897 976.903 Q49.8086 974.261 54.1691 974.261 Q59.1344 974.261 62.0308 978.208 Q64.9272 982.123 64.9272 988.998 Q64.9272 991.863 64.3543 994.982 Q63.8132 998.069 62.6992 1001.51 L56.6518 1001.51 Q58.3387 998.26 59.198 995.109 Q60.0256 991.958 60.0256 988.871 Q60.0256 984.733 58.6251 982.505 Q57.1929 980.277 54.6147 980.277 Q52.2276 980.277 50.9545 981.9 Q49.6813 983.492 48.5037 988.934 L48.0262 990.971 Q46.8804 996.414 44.5251 998.833 Q42.138 1001.25 38.0002 1001.25 Q32.9713 1001.25 30.2341 997.687 Q27.4968 994.122 27.4968 987.566 Q27.4968 984.319 27.9743 981.455 Q28.4517 978.59 29.4065 976.171 Z\" fill=\"#000000\" fill-rule=\"evenodd\" fill-opacity=\"1\" /><path clip-path=\"url(#clip710)\" d=\"M18.2347 959.143 L28.3562 959.143 L28.3562 947.08 L32.9077 947.08 L32.9077 959.143 L52.2594 959.143 Q56.6199 959.143 57.8613 957.965 Q59.1026 956.756 59.1026 953.095 L59.1026 947.08 L64.0042 947.08 L64.0042 953.095 Q64.0042 959.875 61.4897 962.453 Q58.9434 965.031 52.2594 965.031 L32.9077 965.031 L32.9077 969.328 L28.3562 969.328 L28.3562 965.031 L18.2347 965.031 L18.2347 959.143 Z\" fill=\"#000000\" fill-rule=\"evenodd\" fill-opacity=\"1\" /><path clip-path=\"url(#clip710)\" d=\"M20.1444 882.818 L26.9239 882.818 Q23.9002 886.065 22.4043 889.757 Q20.9083 893.417 20.9083 897.555 Q20.9083 905.703 25.9054 910.031 Q30.8707 914.36 40.2919 914.36 Q49.6813 914.36 54.6784 910.031 Q59.6436 905.703 59.6436 897.555 Q59.6436 893.417 58.1477 889.757 Q56.6518 886.065 53.6281 882.818 L60.3439 882.818 Q62.6355 886.192 63.7814 889.98 Q64.9272 893.735 64.9272 897.937 Q64.9272 908.727 58.3387 914.933 Q51.7183 921.14 40.2919 921.14 Q28.8336 921.14 22.2451 914.933 Q15.6248 908.727 15.6248 897.937 Q15.6248 893.672 16.7706 889.916 Q17.8846 886.128 20.1444 882.818 Z\" fill=\"#000000\" fill-rule=\"evenodd\" fill-opacity=\"1\" /><path clip-path=\"url(#clip710)\" d=\"M32.4621 859.329 Q32.4621 864.039 36.1542 866.777 Q39.8145 869.514 46.212 869.514 Q52.6095 869.514 56.3017 866.808 Q59.9619 864.071 59.9619 859.329 Q59.9619 854.65 56.2698 851.913 Q52.5777 849.175 46.212 849.175 Q39.8781 849.175 36.186 851.913 Q32.4621 854.65 32.4621 859.329 M27.4968 859.329 Q27.4968 851.69 32.4621 847.329 Q37.4273 842.969 46.212 842.969 Q54.9649 842.969 59.9619 847.329 Q64.9272 851.69 64.9272 859.329 Q64.9272 866.999 59.9619 871.36 Q54.9649 875.689 46.212 875.689 Q37.4273 875.689 32.4621 871.36 Q27.4968 866.999 27.4968 859.329 Z\" fill=\"#000000\" fill-rule=\"evenodd\" fill-opacity=\"1\" /><path clip-path=\"url(#clip710)\" d=\"M35.1993 805.507 Q31.2526 803.31 29.3747 800.255 Q27.4968 797.199 27.4968 793.062 Q27.4968 787.492 31.4117 784.468 Q35.2948 781.444 42.4881 781.444 L64.0042 781.444 L64.0042 787.332 L42.679 787.332 Q37.5546 787.332 35.072 789.147 Q32.5894 790.961 32.5894 794.685 Q32.5894 799.236 35.6131 801.878 Q38.6368 804.52 43.8567 804.52 L64.0042 804.52 L64.0042 810.408 L42.679 810.408 Q37.5228 810.408 35.072 812.222 Q32.5894 814.037 32.5894 817.824 Q32.5894 822.312 35.6449 824.954 Q38.6686 827.596 43.8567 827.596 L64.0042 827.596 L64.0042 833.484 L28.3562 833.484 L28.3562 827.596 L33.8944 827.596 Q30.616 825.59 29.0564 822.789 Q27.4968 819.989 27.4968 816.137 Q27.4968 812.254 29.4702 809.549 Q31.4436 806.812 35.1993 805.507 Z\" fill=\"#000000\" fill-rule=\"evenodd\" fill-opacity=\"1\" /><path clip-path=\"url(#clip710)\" d=\"M58.657 764.098 L77.5631 764.098 L77.5631 769.986 L28.3562 769.986 L28.3562 764.098 L33.7671 764.098 Q30.5842 762.252 29.0564 759.451 Q27.4968 756.618 27.4968 752.703 Q27.4968 746.21 32.6531 742.168 Q37.8093 738.094 46.212 738.094 Q54.6147 738.094 59.771 742.168 Q64.9272 746.21 64.9272 752.703 Q64.9272 756.618 63.3994 759.451 Q61.8398 762.252 58.657 764.098 M46.212 744.173 Q39.7508 744.173 36.0905 746.847 Q32.3984 749.488 32.3984 754.135 Q32.3984 758.782 36.0905 761.456 Q39.7508 764.098 46.212 764.098 Q52.6732 764.098 56.3653 761.456 Q60.0256 758.782 60.0256 754.135 Q60.0256 749.488 56.3653 746.847 Q52.6732 744.173 46.212 744.173 Z\" fill=\"#000000\" fill-rule=\"evenodd\" fill-opacity=\"1\" /><path clip-path=\"url(#clip710)\" d=\"M14.479 728.386 L14.479 722.53 L64.0042 722.53 L64.0042 728.386 L14.479 728.386 Z\" fill=\"#000000\" fill-rule=\"evenodd\" fill-opacity=\"1\" /><path clip-path=\"url(#clip710)\" d=\"M44.7161 679.784 L47.5806 679.784 L47.5806 706.711 Q53.6281 706.329 56.8109 703.082 Q59.9619 699.804 59.9619 693.979 Q59.9619 690.606 59.1344 687.455 Q58.3069 684.272 56.6518 681.153 L62.1899 681.153 Q63.5267 684.304 64.227 687.614 Q64.9272 690.924 64.9272 694.33 Q64.9272 702.86 59.9619 707.857 Q54.9967 712.822 46.5303 712.822 Q37.7774 712.822 32.6531 708.111 Q27.4968 703.369 27.4968 695.348 Q27.4968 688.155 32.1438 683.985 Q36.7589 679.784 44.7161 679.784 M42.9973 685.64 Q38.1912 685.704 35.3266 688.346 Q32.4621 690.956 32.4621 695.284 Q32.4621 700.186 35.2312 703.146 Q38.0002 706.074 43.0292 706.52 L42.9973 685.64 Z\" fill=\"#000000\" fill-rule=\"evenodd\" fill-opacity=\"1\" /><path clip-path=\"url(#clip710)\" d=\"M18.2347 664.379 L28.3562 664.379 L28.3562 652.316 L32.9077 652.316 L32.9077 664.379 L52.2594 664.379 Q56.6199 664.379 57.8613 663.201 Q59.1026 661.992 59.1026 658.331 L59.1026 652.316 L64.0042 652.316 L64.0042 658.331 Q64.0042 665.111 61.4897 667.689 Q58.9434 670.267 52.2594 670.267 L32.9077 670.267 L32.9077 674.564 L28.3562 674.564 L28.3562 670.267 L18.2347 670.267 L18.2347 664.379 Z\" fill=\"#000000\" fill-rule=\"evenodd\" fill-opacity=\"1\" /><path clip-path=\"url(#clip710)\" d=\"M28.3562 644.613 L28.3562 638.757 L64.0042 638.757 L64.0042 644.613 L28.3562 644.613 M14.479 644.613 L14.479 638.757 L21.895 638.757 L21.895 644.613 L14.479 644.613 Z\" fill=\"#000000\" fill-rule=\"evenodd\" fill-opacity=\"1\" /><path clip-path=\"url(#clip710)\" d=\"M32.4621 612.689 Q32.4621 617.4 36.1542 620.137 Q39.8145 622.874 46.212 622.874 Q52.6095 622.874 56.3017 620.169 Q59.9619 617.432 59.9619 612.689 Q59.9619 608.011 56.2698 605.273 Q52.5777 602.536 46.212 602.536 Q39.8781 602.536 36.186 605.273 Q32.4621 608.011 32.4621 612.689 M27.4968 612.689 Q27.4968 605.05 32.4621 600.69 Q37.4273 596.329 46.212 596.329 Q54.9649 596.329 59.9619 600.69 Q64.9272 605.05 64.9272 612.689 Q64.9272 620.36 59.9619 624.721 Q54.9649 629.049 46.212 629.049 Q37.4273 629.049 32.4621 624.721 Q27.4968 620.36 27.4968 612.689 Z\" fill=\"#000000\" fill-rule=\"evenodd\" fill-opacity=\"1\" /><path clip-path=\"url(#clip710)\" d=\"M42.4881 556.989 L64.0042 556.989 L64.0042 562.846 L42.679 562.846 Q37.6183 562.846 35.1038 564.819 Q32.5894 566.793 32.5894 570.739 Q32.5894 575.482 35.6131 578.219 Q38.6368 580.956 43.8567 580.956 L64.0042 580.956 L64.0042 586.845 L28.3562 586.845 L28.3562 580.956 L33.8944 580.956 Q30.6797 578.856 29.0883 576.023 Q27.4968 573.158 27.4968 569.434 Q27.4968 563.291 31.3163 560.14 Q35.1038 556.989 42.4881 556.989 Z\" fill=\"#000000\" fill-rule=\"evenodd\" fill-opacity=\"1\" /><path clip-path=\"url(#clip710)\" d=\"M16.4842 530.922 L16.4842 490.722 L21.895 490.722 L21.895 507.592 L64.0042 507.592 L64.0042 514.053 L21.895 514.053 L21.895 530.922 L16.4842 530.922 Z\" fill=\"#000000\" fill-rule=\"evenodd\" fill-opacity=\"1\" /><path clip-path=\"url(#clip710)\" d=\"M28.3562 486.776 L28.3562 480.919 L64.0042 480.919 L64.0042 486.776 L28.3562 486.776 M14.479 486.776 L14.479 480.919 L21.895 480.919 L21.895 486.776 L14.479 486.776 Z\" fill=\"#000000\" fill-rule=\"evenodd\" fill-opacity=\"1\" /><path clip-path=\"url(#clip710)\" d=\"M35.1993 440.911 Q31.2526 438.715 29.3747 435.659 Q27.4968 432.603 27.4968 428.466 Q27.4968 422.896 31.4117 419.872 Q35.2948 416.848 42.4881 416.848 L64.0042 416.848 L64.0042 422.737 L42.679 422.737 Q37.5546 422.737 35.072 424.551 Q32.5894 426.365 32.5894 430.089 Q32.5894 434.641 35.6131 437.282 Q38.6368 439.924 43.8567 439.924 L64.0042 439.924 L64.0042 445.812 L42.679 445.812 Q37.5228 445.812 35.072 447.627 Q32.5894 449.441 32.5894 453.228 Q32.5894 457.716 35.6449 460.358 Q38.6686 463 43.8567 463 L64.0042 463 L64.0042 468.888 L28.3562 468.888 L28.3562 463 L33.8944 463 Q30.616 460.995 29.0564 458.194 Q27.4968 455.393 27.4968 451.541 Q27.4968 447.658 29.4702 444.953 Q31.4436 442.216 35.1993 440.911 Z\" fill=\"#000000\" fill-rule=\"evenodd\" fill-opacity=\"1\" /><path clip-path=\"url(#clip710)\" d=\"M44.7161 374.676 L47.5806 374.676 L47.5806 401.603 Q53.6281 401.221 56.8109 397.974 Q59.9619 394.696 59.9619 388.871 Q59.9619 385.497 59.1344 382.346 Q58.3069 379.163 56.6518 376.044 L62.1899 376.044 Q63.5267 379.195 64.227 382.505 Q64.9272 385.816 64.9272 389.221 Q64.9272 397.751 59.9619 402.748 Q54.9967 407.714 46.5303 407.714 Q37.7774 407.714 32.6531 403.003 Q27.4968 398.261 27.4968 390.24 Q27.4968 383.046 32.1438 378.877 Q36.7589 374.676 44.7161 374.676 M42.9973 380.532 Q38.1912 380.596 35.3266 383.237 Q32.4621 385.847 32.4621 390.176 Q32.4621 395.078 35.2312 398.038 Q38.0002 400.966 43.0292 401.412 L42.9973 380.532 Z\" fill=\"#000000\" fill-rule=\"evenodd\" fill-opacity=\"1\" /><polyline clip-path=\"url(#clip712)\" style=\"stroke:#009af9; stroke-linecap:round; stroke-linejoin:round; stroke-width:4; stroke-opacity:1; fill:none\" points=\"\n",
       "  280.456,500.827 290.566,542.325 300.677,542.325 310.787,500.827 320.897,542.325 331.007,459.328 341.118,500.827 351.228,500.827 361.338,583.824 371.448,500.827 \n",
       "  381.559,376.33 391.669,376.33 401.779,376.33 411.889,459.328 422,376.33 432.11,417.829 442.22,500.827 452.33,376.33 462.441,459.328 472.551,500.827 \n",
       "  482.661,542.325 492.771,625.323 502.882,666.822 512.992,666.822 523.102,791.319 533.212,791.319 543.323,666.822 553.433,749.82 563.543,832.818 573.654,749.82 \n",
       "  583.764,666.822 593.874,832.818 603.984,791.319 614.095,832.818 624.205,749.82 634.315,666.822 644.425,666.822 654.536,957.314 664.646,791.319 674.756,749.82 \n",
       "  684.866,749.82 694.977,791.319 705.087,749.82 715.197,625.323 725.307,832.818 735.418,708.321 745.528,832.818 755.638,791.319 765.748,791.319 775.859,874.316 \n",
       "  785.969,874.316 796.079,1164.81 806.189,915.815 816.3,915.815 826.41,749.82 836.52,874.316 846.631,749.82 856.741,874.316 866.851,625.323 876.961,874.316 \n",
       "  887.072,708.321 897.182,666.822 907.292,998.813 917.402,957.314 927.513,791.319 937.623,791.319 947.733,791.319 957.843,749.82 967.954,832.818 978.064,500.827 \n",
       "  988.174,542.325 998.284,583.824 1008.39,500.827 1018.5,583.824 1028.62,708.321 1038.73,542.325 1048.84,749.82 1058.95,666.822 1069.06,542.325 1079.17,625.323 \n",
       "  1089.28,542.325 1099.39,666.822 1109.5,417.829 1119.61,542.325 1129.72,417.829 1139.83,500.827 1149.94,417.829 1160.05,500.827 1170.16,500.827 1180.27,376.33 \n",
       "  1190.38,583.824 1200.49,625.323 1210.6,542.325 1220.71,500.827 1230.82,500.827 1240.93,500.827 1251.04,459.328 1261.15,376.33 1271.26,459.328 1281.37,459.328 \n",
       "  1291.48,542.325 1301.59,459.328 1311.7,293.332 1321.81,376.33 1331.92,583.824 1342.03,376.33 1352.14,334.831 1362.25,459.328 1372.36,334.831 1382.47,542.325 \n",
       "  1392.58,293.332 1402.69,334.831 1412.81,459.328 1422.92,376.33 1433.03,376.33 1443.14,168.836 1453.25,334.831 1463.36,85.838 1473.47,168.836 1483.58,127.337 \n",
       "  1493.69,251.833 1503.8,293.332 1513.91,210.335 1524.02,293.332 1534.13,417.829 1544.24,334.831 1554.35,500.827 1564.46,417.829 1574.57,459.328 1584.68,334.831 \n",
       "  1594.79,542.325 1604.9,376.33 1615.01,417.829 1625.12,500.827 1635.23,542.325 1645.34,625.323 1655.45,334.831 1665.56,334.831 1675.67,583.824 1685.78,459.328 \n",
       "  1695.89,708.321 1706,749.82 1716.11,625.323 1726.22,708.321 1736.33,625.323 1746.44,583.824 1756.55,500.827 1766.66,334.831 1776.77,376.33 1786.88,417.829 \n",
       "  1796.99,293.332 1807.11,168.836 1817.22,334.831 1827.33,542.325 1837.44,500.827 1847.55,376.33 1857.66,583.824 1867.77,625.323 1877.88,666.822 1887.99,666.822 \n",
       "  1898.1,666.822 1908.21,417.829 1918.32,376.33 1928.43,666.822 1938.54,583.824 1948.65,500.827 1958.76,500.827 1968.87,708.321 1978.98,500.827 1989.09,957.314 \n",
       "  1999.2,915.815 2009.31,832.818 2019.42,957.314 2029.53,1040.31 2039.64,874.316 2049.75,832.818 2059.86,832.818 2069.97,1372.3 2080.08,832.818 2090.19,874.316 \n",
       "  2100.3,708.321 2110.41,625.323 2120.52,832.818 2130.63,708.321 2140.74,749.82 2150.85,749.82 2160.96,832.818 2171.07,583.824 2181.18,542.325 2191.3,168.836 \n",
       "  2201.41,334.831 2211.52,708.321 2221.63,417.829 2231.74,583.824 2241.85,708.321 2251.96,417.829 2262.07,625.323 2272.18,417.829 2282.29,376.33 2292.4,417.829 \n",
       "  \n",
       "  \"/>\n",
       "</svg>\n"
      ]
     },
     "execution_count": 51,
     "metadata": {},
     "output_type": "execute_result"
    }
   ],
   "source": [
    "plot(iterations, best_compl_time, xlabel=\"Iterations\", ylabel=\"Best Completion Time\", legend = false, xformatter = :scientific)"
   ]
  },
  {
   "cell_type": "code",
   "execution_count": 52,
   "id": "c7db5f03",
   "metadata": {},
   "outputs": [
    {
     "data": {
      "text/plain": [
       "\"/home/larissa/Documents/Projects/ADLR/ADLR_project/src/RL_3D_quadcopter_PPO/office_test/plots/fast/best_comp_time.svg\""
      ]
     },
     "execution_count": 52,
     "metadata": {},
     "output_type": "execute_result"
    }
   ],
   "source": [
    "savefig(fig_path * \"best_comp_time.svg\")"
   ]
  },
  {
   "cell_type": "markdown",
   "id": "ed305f8e",
   "metadata": {},
   "source": [
    "# Create Videos"
   ]
  },
  {
   "cell_type": "code",
   "execution_count": 56,
   "id": "1f30d98a",
   "metadata": {},
   "outputs": [
    {
     "name": "stderr",
     "output_type": "stream",
     "text": [
      "\u001b[36m\u001b[1m┌ \u001b[22m\u001b[39m\u001b[36m\u001b[1mInfo: \u001b[22m\u001b[39mMeshCat server started. You can open the visualizer by visiting the following URL in your browser:\n",
      "\u001b[36m\u001b[1m└ \u001b[22m\u001b[39mhttp://127.0.0.1:8702\n"
     ]
    }
   ],
   "source": [
    "create_visualization();\n",
    "create_Office(\"office\");"
   ]
  },
  {
   "cell_type": "code",
   "execution_count": null,
   "id": "260d79dd",
   "metadata": {},
   "outputs": [
    {
     "name": "stdout",
     "output_type": "stream",
     "text": [
      "fast mode\n"
     ]
    }
   ],
   "source": [
    "if VIDEO  \n",
    "  # TODO: load_model as desired\n",
    "    vid_env = VtolEnv(;name = \"testVTOL\", visualization = true, realtime = true);\n",
    "    \n",
    "    if SLOW_MODE\n",
    "#         path = \"./RL_models_slow/\" #todo\n",
    "        path = \"./office_test/RL_models_slow/\" #todo\n",
    "        load_model = 2_000_000\n",
    "        println(\"slow mode\")\n",
    "    else\n",
    "#         path = \"./RL_models_fast/\" #todo\n",
    "        path = \"./office_test/RL_models_fast/\" #todo\n",
    "        load_model = 20_000_000\n",
    "        println(\"fast mode\")\n",
    "    end\n",
    "    agent.policy.approximator = loadModel(path,load_model);\n",
    "    for i in 1:10\n",
    "        sleep(5)\n",
    "        RLBase.reset!(vid_env)\n",
    "        run(agent.policy, vid_env, StopAfterEpisode(1))\n",
    "    end\n",
    "end;"
   ]
  },
  {
   "cell_type": "code",
   "execution_count": 55,
   "id": "1bebf7cc",
   "metadata": {},
   "outputs": [],
   "source": [
    "close_visualization();"
   ]
  },
  {
   "cell_type": "markdown",
   "id": "57443b44",
   "metadata": {},
   "source": [
    "done"
   ]
  }
 ],
 "metadata": {
  "@webio": {
   "lastCommId": null,
   "lastKernelId": null
  },
  "kernelspec": {
   "display_name": "Julia 1.8.0",
   "language": "julia",
   "name": "julia-1.8"
  },
  "language_info": {
   "file_extension": ".jl",
   "mimetype": "application/julia",
   "name": "julia",
   "version": "1.8.0"
  }
 },
 "nbformat": 4,
 "nbformat_minor": 5
}
