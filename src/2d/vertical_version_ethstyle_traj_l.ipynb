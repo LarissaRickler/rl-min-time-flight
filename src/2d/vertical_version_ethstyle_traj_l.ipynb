{
 "cells": [
  {
   "cell_type": "markdown",
   "id": "0649b76a",
   "metadata": {},
   "source": [
    "# Init Bionic VTOL"
   ]
  },
  {
   "cell_type": "code",
   "execution_count": 1,
   "id": "96751412",
   "metadata": {},
   "outputs": [
    {
     "name": "stderr",
     "output_type": "stream",
     "text": [
      "\u001b[33m\u001b[1m┌ \u001b[22m\u001b[39m\u001b[33m\u001b[1mWarning: \u001b[22m\u001b[39mReplacing docs for `Main.Flyonic.Visualization.set_arrow :: Tuple{AbstractString}` in module `Main.Flyonic.Visualization`\n",
      "\u001b[33m\u001b[1m└ \u001b[22m\u001b[39m\u001b[90m@ Base.Docs docs/Docs.jl:240\u001b[39m\n"
     ]
    }
   ],
   "source": [
    "include(\"../Flyonic.jl\");\n",
    "using .Flyonic;\n",
    "\n",
    "using Rotations; # used for initial position\n",
    "\n",
    "using ReinforcementLearning;\n",
    "using StableRNGs;\n",
    "using Flux;\n",
    "using Flux.Losses;\n",
    "using Random;\n",
    "using IntervalSets;\n",
    "using LinearAlgebra;\n",
    "using Distributions;\n",
    "\n",
    "using Plots;\n",
    "using Statistics;\n",
    "\n",
    "using JLD;\n",
    "using BSON: @save, @load # save mode"
   ]
  },
  {
   "cell_type": "code",
   "execution_count": 2,
   "id": "f7e4ee64",
   "metadata": {},
   "outputs": [
    {
     "name": "stderr",
     "output_type": "stream",
     "text": [
      "\u001b[36m\u001b[1m┌ \u001b[22m\u001b[39m\u001b[36m\u001b[1mInfo: \u001b[22m\u001b[39mMeshCat server started. You can open the visualizer by visiting the following URL in your browser:\n",
      "\u001b[36m\u001b[1m└ \u001b[22m\u001b[39mhttp://127.0.0.1:8700\n"
     ]
    }
   ],
   "source": [
    "create_visualization();"
   ]
  },
  {
   "cell_type": "code",
   "execution_count": 3,
   "id": "7d9557df",
   "metadata": {},
   "outputs": [
    {
     "data": {
      "text/plain": [
       "1"
      ]
     },
     "execution_count": 3,
     "metadata": {},
     "output_type": "execute_result"
    }
   ],
   "source": [
    "# indicates how many threads Julia was started with. This is important for the multi-threaded environment\n",
    "Threads.nthreads()"
   ]
  },
  {
   "cell_type": "markdown",
   "id": "5411db62",
   "metadata": {},
   "source": [
    "# Create Reinforcement Learning Environment"
   ]
  },
  {
   "cell_type": "code",
   "execution_count": 4,
   "id": "c4ede3b2",
   "metadata": {},
   "outputs": [],
   "source": [
    "R_TOL = 1.0;\n",
    "N_WAYPOINTS = 4; # >= 2\n",
    "SLOW_MODE = true;\n",
    "TRAINING = false;\n",
    "EVALUATION = false;"
   ]
  },
  {
   "cell_type": "code",
   "execution_count": 5,
   "id": "96af6ee0",
   "metadata": {},
   "outputs": [],
   "source": [
    "# Parametric Constructor for a subtype of AbstractEnv\n",
    "mutable struct VtolEnv{A,T,ACT,R<:AbstractRNG} <: AbstractEnv \n",
    "    action_space::A # action space\n",
    "    observation_space::Space{Vector{ClosedInterval{T}}} # observation space\n",
    "    state::Vector{T} # current state space\n",
    "    action::ACT # action space\n",
    "    done::Bool # done\n",
    "    t::T # time\n",
    "    rng::R # random number generator\n",
    "\n",
    "    name::String # for multible environoments\n",
    "    visualization::Bool # visualization\n",
    "    realtime::Bool # realtime\n",
    "    \n",
    "    # Everything you need aditionaly can also go in here.\n",
    "    x_W::Vector{T} # current position\n",
    "    v_B::Vector{T} # velocity\n",
    "    R_W::Matrix{T} # current rotation\n",
    "    ω_B::Vector{T} # rotation velocitiy\n",
    "    wind_W::Vector{T} # wind\n",
    "    Δt::T # Δ time\n",
    "    \n",
    "    # Current Bonus / Target\n",
    "    num_waypoints::Int # includig start point\n",
    "    waypoints::Vector{Vector{T}}\n",
    "    reached_goal::BitVector\n",
    "    \n",
    "    norm_way::T\n",
    "    progress::T\n",
    "    progress_prev::T\n",
    "    current_point::Int\n",
    "    reached_goal_in_step::Bool\n",
    "    \n",
    "    r_tol::T # tolerance within drones has to reach waypoint\n",
    "    projected_position::Vector{T} # projected position of drone along trajectory\n",
    "\n",
    "    slow_mode::Bool # slow flight learning mode\n",
    "end"
   ]
  },
  {
   "cell_type": "code",
   "execution_count": 6,
   "id": "14a6873d",
   "metadata": {},
   "outputs": [],
   "source": [
    "# define a keyword-based constructor for the type declared in the mutable struct typedef. \n",
    "# It could also be done with the macro Base.@kwdef.\n",
    "function VtolEnv(;\n",
    "    rng = Random.GLOBAL_RNG, # Random number generation\n",
    "    name = \"vtol\",\n",
    "    visualization = false,\n",
    "    realtime = false,\n",
    "    kwargs... # let the function take an arbitrary number of keyword arguments \n",
    ")\n",
    "    \n",
    "    T = Float64; # explicit type which is used e.g. in state. Cannot be altered due to the poor matrix defininon.\n",
    "\n",
    "    \n",
    "    action_space = Space(\n",
    "        ClosedInterval{T}[\n",
    "            0.0..2.0, # propeller 1\n",
    "            0.0..2.0, # propeller 2\n",
    "            ], \n",
    "    )\n",
    "\n",
    "    \n",
    "    state_space = Space( # Three continuous values in state space.\n",
    "        ClosedInterval{T}[\n",
    "            # orientate yourself on the state space from the paper\n",
    "            typemin(T)..typemax(T), # position along x\n",
    "            typemin(T)..typemax(T), # position along z\n",
    "            \n",
    "            typemin(T)..typemax(T), # orientation along x\n",
    "            typemin(T)..typemax(T), # orientation along z\n",
    "            \n",
    "            typemin(T)..typemax(T), # velocity along x BODY coordinates\n",
    "            typemin(T)..typemax(T), # velocity along y BODY coordinates\n",
    "            \n",
    "            typemin(T)..typemax(T), # rotational velocity along z BODY coordinates\n",
    "            \n",
    "            typemin(T)..typemax(T), # position error along x (next gate - current position)\n",
    "            typemin(T)..typemax(T), # position error along z (next gate - current position)\n",
    "            \n",
    "            typemin(T)..typemax(T), # way to next next gate x (next next gate - next gate)\n",
    "            typemin(T)..typemax(T), # way to next next gate z (next next gate - next gate)\n",
    "            # TODO: more points?\n",
    "            ], \n",
    "    )\n",
    "    \n",
    "    num_waypoints = N_WAYPOINTS # number of waypoints, includig start point\n",
    "    waypoints = generate_trajectory(num_waypoints + 1) # trajectory with num_waypoints waypoints (+ start point), (with dummy points) \n",
    "    reached_goal = falses(num_waypoints)\n",
    "    \n",
    "    norm_way = 0.0 \n",
    "    for i in 1:(num_waypoints - 1)\n",
    "        norm_way += norm(waypoints[i] - waypoints[i + 1])\n",
    "    end\n",
    "    \n",
    "    if visualization #visualizes VTOL and waypoints\n",
    "        create_VTOL(name, actuators = true, color_vec=[1.0; 1.0; 0.6; 1.0]);\n",
    "        visualize_waypoints(waypoints[1:num_waypoints], 0.15)\n",
    "    end\n",
    "\n",
    "    environment = VtolEnv(\n",
    "        action_space,\n",
    "        state_space, \n",
    "        zeros(T, length(state_space)), # current state, needs to be extended\n",
    "        rand(action_space), #initialization action\n",
    "        false, # episode done \n",
    "        0.0, # time\n",
    "        rng, # random number generator  \n",
    "        \n",
    "        name,\n",
    "        visualization,\n",
    "        realtime,\n",
    "        \n",
    "        zeros(T, 3), # x_W, current position\n",
    "        zeros(T, 3), # v_B, velocity\n",
    "        [1.0 0.0 0.0; 0.0 1.0 0.0; 0.0 0.0 1.0], # R_W, current rotation, Float64... so T needs to be Float64\n",
    "        zeros(T, 3), # ω_B\n",
    "        zeros(T, 3), # wind_W\n",
    "        T(0.025), # Δt \n",
    "        \n",
    "        num_waypoints, # includig start point\n",
    "        waypoints, \n",
    "        reached_goal,\n",
    "        \n",
    "        norm_way, # norm_way\n",
    "        0.0, # progress\n",
    "        0.0, # progress_prev\n",
    "        2, # current point\n",
    "        false, # reached_goal_in_step\n",
    "        \n",
    "        R_TOL, # r_tol\n",
    "        zeros(T, 3), # projected_position\n",
    "\n",
    "        SLOW_MODE # slow_mode\n",
    "    )\n",
    "    \n",
    "    \n",
    "    reset!(environment)\n",
    "    \n",
    "    return environment\n",
    "    \n",
    "end;"
   ]
  },
  {
   "cell_type": "markdown",
   "id": "ec660d5e",
   "metadata": {},
   "source": [
    "Just for explanation:\n",
    "\n",
    "1. A mutable Struct is created. A struct is a constructor and a constructor is a function that creates new objects.\n",
    "2. A outer keyword-based constructor method is added for the type declared in the mutable struct typedef before.\n",
    "\n",
    "So now we have a function with two methods. Julia will decide which method to call by multiple dispatch."
   ]
  },
  {
   "cell_type": "code",
   "execution_count": 7,
   "id": "dc3c4bb3",
   "metadata": {},
   "outputs": [
    {
     "data": {
      "text/html": [
       "# 2 methods for type constructor:<ul><li> VtolEnv(; <i>rng, name, visualization, realtime, kwargs...</i>) in Main at In[6]:3</li> <li> VtolEnv(action_space::<b>A</b>, observation_space::<b>Space{Array{ClosedInterval{T}, 1}}</b>, state::<b>Vector{T}</b>, action::<b>ACT</b>, done::<b>Bool</b>, t::<b>T</b>, rng::<b>R</b>, name::<b>String</b>, visualization::<b>Bool</b>, realtime::<b>Bool</b>, x_W::<b>Vector{T}</b>, v_B::<b>Vector{T}</b>, R_W::<b>Matrix{T}</b>, ω_B::<b>Vector{T}</b>, wind_W::<b>Vector{T}</b>, Δt::<b>T</b>, num_waypoints::<b>Int64</b>, waypoints::<b>Array{Vector{T}, 1}</b>, reached_goal::<b>BitVector</b>, norm_way::<b>T</b>, progress::<b>T</b>, progress_prev::<b>T</b>, current_point::<b>Int64</b>, reached_goal_in_step::<b>Bool</b>, r_tol::<b>T</b>, projected_position::<b>Vector{T}</b>, slow_mode::<b>Bool</b>)<i> where {A, T, ACT, R<:AbstractRNG}</i> in Main at In[5]:3</li> </ul>"
      ],
      "text/plain": [
       "# 2 methods for type constructor:\n",
       "[1] VtolEnv(; rng, name, visualization, realtime, kwargs...) in Main at In[6]:3\n",
       "[2] VtolEnv(action_space::A, observation_space::Space{Array{ClosedInterval{T}, 1}}, state::Vector{T}, action::ACT, done::Bool, t::T, rng::R, name::String, visualization::Bool, realtime::Bool, x_W::Vector{T}, v_B::Vector{T}, R_W::Matrix{T}, ω_B::Vector{T}, wind_W::Vector{T}, Δt::T, num_waypoints::Int64, waypoints::Array{Vector{T}, 1}, reached_goal::BitVector, norm_way::T, progress::T, progress_prev::T, current_point::Int64, reached_goal_in_step::Bool, r_tol::T, projected_position::Vector{T}, slow_mode::Bool) where {A, T, ACT, R<:AbstractRNG} in Main at In[5]:3"
      ]
     },
     "execution_count": 7,
     "metadata": {},
     "output_type": "execute_result"
    }
   ],
   "source": [
    "methods(VtolEnv)"
   ]
  },
  {
   "cell_type": "markdown",
   "id": "806413d1",
   "metadata": {},
   "source": [
    "# Define the RL interface"
   ]
  },
  {
   "cell_type": "code",
   "execution_count": 8,
   "id": "0f822029",
   "metadata": {},
   "outputs": [],
   "source": [
    "Random.seed!(env::VtolEnv, seed) = Random.seed!(env.rng, seed)\n",
    "RLBase.action_space(env::VtolEnv) = env.action_space\n",
    "RLBase.state_space(env::VtolEnv) = env.observation_space\n",
    "RLBase.is_terminated(env::VtolEnv) = env.done\n",
    "RLBase.state(env::VtolEnv) = env.state"
   ]
  },
  {
   "cell_type": "code",
   "execution_count": 9,
   "id": "2b48de74",
   "metadata": {},
   "outputs": [],
   "source": [
    "function scale_for_slowmode(slow_mode::Bool, v_min::T, v_max::T, d_max::T, x_W::Vector{T}, projected_position::Vector{T}, v_B::Vector{T}) where T\n",
    "    \n",
    "    if slow_mode == false\n",
    "        return 1\n",
    "    else\n",
    "        if norm(v_B) > v_max\n",
    "            s_vmax = 10^(v_max - norm(v_B))\n",
    "        else\n",
    "            s_vmax = 1\n",
    "        end\n",
    "\n",
    "        if norm(v_B) < v_min\n",
    "            s_vmin = 10^(norm(v_B) - v_min)\n",
    "        else\n",
    "            s_vmin = 1\n",
    "        end\n",
    "\n",
    "        if norm(x_W - projected_position) > d_max\n",
    "            s_gd = exp(-norm(x_W - projected_position) + d_max)\n",
    "        else\n",
    "            s_gd = 1\n",
    "        end\n",
    "        s = s_vmax * s_vmin * s_gd\n",
    "    end\n",
    "    return s\n",
    "end;"
   ]
  },
  {
   "cell_type": "code",
   "execution_count": 10,
   "id": "1f7fb89c",
   "metadata": {},
   "outputs": [],
   "source": [
    "function computeReward(env::VtolEnv{A,T}) where {A,T}\n",
    "    \n",
    "    \n",
    "    if env.slow_mode\n",
    "        v_min = 1.0 # min velocity\n",
    "        v_max = 3.0 # max velocity\n",
    "        d_max = 0.5 \n",
    "    else\n",
    "        v_min = 4.0 # min velocity\n",
    "        v_max = 50.0 # max velocity\n",
    "        d_max = 1.0 \n",
    "    end\n",
    "\n",
    "\n",
    "    s = scale_for_slowmode(true, v_min, v_max, d_max, env.x_W, env.projected_position, env.v_B)\n",
    "    \n",
    "    # TODO: test norming\n",
    "    k_p = 5.0 * s #/ env.norm_way # factor for progress (between current position and last position) reward \n",
    "    r_p = (env.progress - env.progress_prev); # reward for progress (between current position and last position)\n",
    "\n",
    "    k_s = s * (2 * v_max * env.Δt) / env.norm_way # factor for reached distance (overall) reward\n",
    "    r_s = env.progress # reward for reached distance (overall)\n",
    "    \n",
    "    k_wp = 50.0 # factor for reached gate reward\n",
    "    r_wp = 0.0 # reward for reached gate\n",
    "    if env.reached_goal_in_step\n",
    "        r_wp = exp(-norm(env.x_W - env.waypoints[env.current_point - 1])/env.r_tol)\n",
    "    end \n",
    "\n",
    "    # factor for too high body rate penalty\n",
    "    if env.slow_mode\n",
    "        k_ω = 0.01\n",
    "    else\n",
    "        k_ω = 0.001\n",
    "    end\n",
    "    norm_ω = norm(env.ω_B[3]) # penalty for body rate\n",
    "\n",
    "    if env.x_W[3] < -2\n",
    "        fall = 1\n",
    "    else\n",
    "        fall = 0\n",
    "    end\n",
    "    \n",
    "    if !env.slow_mode\n",
    "        k_s /= env.norm_way\n",
    "        k_p /= env.norm_way\n",
    "    end\n",
    "\n",
    "    return k_p * r_p + k_s * r_s + k_wp * r_wp - k_ω * norm_ω - fall \n",
    "    \n",
    "end\n",
    "\n",
    "\n",
    "RLBase.reward(env::VtolEnv{A,T}) where {A,T} = computeReward(env)"
   ]
  },
  {
   "cell_type": "code",
   "execution_count": 11,
   "id": "ae45ec04",
   "metadata": {},
   "outputs": [],
   "source": [
    "function RLBase.reset!(env::VtolEnv{A,T}) where {A,T}\n",
    "    # Visualize initial state\n",
    "    if env.visualization\n",
    "        set_transform(env.name, env.x_W, QuatRotation(env.R_W));\n",
    "        set_actuators(env.name, [0.0; 0.0; 0.0; 0.0]);\n",
    "    end\n",
    "    \n",
    "    env.x_W = [0.0; 0.0; 0.0];\n",
    "    env.v_B = [0.0; 0.0; 0.0];\n",
    "    env.R_W = Matrix(UnitQuaternion(RotZ(-pi/2.0)*RotY(-pi/2.0)*RotX(pi)));\n",
    "\n",
    "    env.ω_B = [0.0; 0.0; 0.0];\n",
    "    env.wind_W = [0.0; 0.0; 0.0];\n",
    "    \n",
    "    \n",
    "    env.waypoints = generate_trajectory(env.num_waypoints + 1); # Dummy points\n",
    "    env.reached_goal = falses(env.num_waypoints);\n",
    "    env.reached_goal[1] = true; # set first point to reached (start point)\n",
    "    \n",
    "    env.current_point = 2;\n",
    "    env.reached_goal_in_step = false;\n",
    "    \n",
    "    if env.visualization\n",
    "        visualize_waypoints(env.waypoints[1:env.num_waypoints], 0.15); \n",
    "    end\n",
    "    \n",
    "    norm_way = 0.0 \n",
    "    for i in 1:(env.num_waypoints - 1)\n",
    "        norm_way += norm(env.waypoints[i] - env.waypoints[i + 1])\n",
    "    end\n",
    "    \n",
    "    env.norm_way = norm_way\n",
    "    env.progress = 0.0;\n",
    "    env.progress_prev = 0.0;\n",
    "    \n",
    "    \n",
    "    env.state = [env.x_W[1]; # position along x\n",
    "                 env.x_W[3]; # position along z\n",
    "        \n",
    "                 env.R_W[1,1]; # orientation along x\n",
    "                 env.R_W[3,1]; # orientation along z\n",
    "        \n",
    "                 env.v_B[1]; # velocity along x BODY coordinates\n",
    "                 env.v_B[2]; # velocity along y BODY coordinates  \n",
    "        \n",
    "                 env.ω_B[3]; # rotational velocity along z BODY coordinates\n",
    "        \n",
    "                 env.waypoints[2][1] - env.x_W[1]; # position error to next gate along x\n",
    "                 env.waypoints[2][3] - env.x_W[3]; # position error to next gate along z\n",
    "                 \n",
    "                 env.waypoints[3][1] - env.waypoints[2][1]; # way to next next gate x \n",
    "                 env.waypoints[3][3] - env.waypoints[2][3]] # way to next next gate z \n",
    "        \n",
    "    env.t = 0.0;\n",
    "    env.action = [0.0, 0.0];\n",
    "    env.done = false;\n",
    "\n",
    "    env.projected_position = [0; 0; 0]\n",
    "    \n",
    "    nothing\n",
    "\n",
    "end;"
   ]
  },
  {
   "cell_type": "code",
   "execution_count": 12,
   "id": "1cf1a7b7",
   "metadata": {},
   "outputs": [],
   "source": [
    "# defines a methods for a callable object.\n",
    "# So when a VtolEnv object is created, it has this method that can be called\n",
    "function (env::VtolEnv)(a)\n",
    "    # TODO: set flaps later in 3D\n",
    "    # set the propeller trust and the two flaps 2D case\n",
    "    next_action = [a[1], a[2], 0.0, 0.0]\n",
    "   \n",
    "    _step!(env, next_action)\n",
    "end"
   ]
  },
  {
   "cell_type": "code",
   "execution_count": 13,
   "id": "b0e9eb59",
   "metadata": {},
   "outputs": [],
   "source": [
    "env = VtolEnv();"
   ]
  },
  {
   "cell_type": "code",
   "execution_count": 14,
   "id": "26a116cb",
   "metadata": {},
   "outputs": [
    {
     "data": {
      "text/html": [
       "# 3 methods for callable object:<ul><li> (env::<b>VtolEnv</b>)(a) in Main at In[12]:3</li> <li> (env::<b>AbstractEnv</b>)(action) in ReinforcementLearningBase</li> <li> (env::<b>AbstractEnv</b>)(action, player) in ReinforcementLearningBase</li> </ul>"
      ],
      "text/plain": [
       "# 3 methods for callable object:\n",
       "[1] (env::VtolEnv)(a) in Main at In[12]:3\n",
       "[2] (env::AbstractEnv)(action) in ReinforcementLearningBase\n",
       "[3] (env::AbstractEnv)(action, player) in ReinforcementLearningBase"
      ]
     },
     "execution_count": 14,
     "metadata": {},
     "output_type": "execute_result"
    }
   ],
   "source": [
    "methods(env) # Just to explain which methods the object has"
   ]
  },
  {
   "cell_type": "code",
   "execution_count": 15,
   "id": "9e7d4727",
   "metadata": {},
   "outputs": [],
   "source": [
    "function _step!(env::VtolEnv, next_action)\n",
    "    # caluclate wind impact\n",
    "    v_in_wind_B = vtol_add_wind(env.v_B, env.R_W, env.wind_W)\n",
    "    # caluclate aerodynamic forces\n",
    "    torque_B, force_B = vtol_model(v_in_wind_B, next_action, eth_vtol_param);\n",
    "    # Limit to 2D\n",
    "    force_B[3] = 0.0; # Body Z\n",
    "    env.v_B[3] = 0.0;\n",
    "    torque_B[1] = 0.0; torque_B[2] = 0.0;  # Body X and Y\n",
    "    env.ω_B[1] = 0.0; env.ω_B[2] = 0.0;\n",
    "    # integrate rigid body dynamics for Δt\n",
    "    env.x_W, env.v_B, env.R_W, env.ω_B, time = rigid_body_simple(torque_B, force_B, env.x_W, env.v_B, env.R_W, env.ω_B, env.t, env.Δt, eth_vtol_param)\n",
    "    \n",
    "    \n",
    "    env.reached_goal_in_step = false;\n",
    "    if norm(env.x_W - env.waypoints[env.current_point]) < env.r_tol\n",
    "        env.reached_goal_in_step = true;\n",
    "        env.reached_goal[env.current_point] = true;\n",
    "        env.current_point += 1;\n",
    "    end\n",
    "        \n",
    "            \n",
    "    # calculate progress on trajectory\n",
    "    env.progress_prev = env.progress\n",
    "    \n",
    "    current_progress = 0.0\n",
    "    line_segment, env.projected_position = calculate_progress(env.waypoints, env.x_W)\n",
    "\n",
    "    for i in 2:(line_segment)\n",
    "       current_progress +=  norm(env.waypoints[i] - env.waypoints[i - 1])  \n",
    "    end\n",
    "    current_progress += norm(env.waypoints[line_segment] - env.projected_position)\n",
    "    \n",
    "    env.progress = current_progress\n",
    "    \n",
    "\n",
    "    if env.realtime\n",
    "        sleep(env.Δt) # TODO: just a dirty hack. this is of course slower than real time.\n",
    "    end\n",
    "\n",
    "    # Visualize the new state \n",
    "    if env.visualization\n",
    "        set_transform(env.name, env.x_W, QuatRotation(env.R_W));\n",
    "        set_actuators(env.name, next_action)\n",
    "        \n",
    "        for i in eachindex(env.reached_goal)\n",
    "            if env.reached_goal[i]\n",
    "                create_sphere(\"fixgoal_$i\", 0.2, color=RGBA{Float32}(1.0, 0.0, 0.0, 1.0));\n",
    "                set_transform(\"fixgoal_$i\", env.waypoints[i]);\n",
    "            end\n",
    "        end\n",
    "    end\n",
    " \n",
    "\n",
    "    env.t += env.Δt\n",
    "    \n",
    "    env.state[1] = env.x_W[1]; # position along x\n",
    "    env.state[2] = env.x_W[3]; # position along z\n",
    "    \n",
    "    env.state[3] = env.R_W[1,1]; # orientation along x\n",
    "    env.state[4] = env.R_W[3,1]; # orientation along z\n",
    "    \n",
    "    env.state[5] = env.v_B[1]; # velocity along x BODY coordinates\n",
    "    env.state[6] = env.v_B[2]; # velocity along y BODY coordinates\n",
    "    \n",
    "    env.state[7] = env.ω_B[3];  # rotational velocity along z BODY coordinates\n",
    "    \n",
    "    # TODO add points  \n",
    "    env.state[8] = env.waypoints[env.current_point][1] - env.x_W[1]; # position error along x, dummy integriert\n",
    "    env.state[9] = env.waypoints[env.current_point][3] - env.x_W[3]; # position error along z, dummy integriert\n",
    "    \n",
    "    if env.current_point <= env.num_waypoints\n",
    "        env.state[10] = env.waypoints[env.current_point + 1][1] - env.waypoints[env.current_point][1] ; # way to next next gate x (next next gate - next gate), dummy integriert\n",
    "        env.state[11] = env.waypoints[env.current_point + 1][3] - env.waypoints[env.current_point][3]; # way to next next gate z (next next gate - next gate), dummy integriert\n",
    "    end\n",
    "        \n",
    "    \n",
    "    # Termination criteria\n",
    "    # TODO: Use many termination criteria so that you do not train unnecessarily in wrong areas\n",
    "    env.done = #true\n",
    "        # After time... How fast is drone+Range of desired point\n",
    "        # After reaching position (circle of r_tol)\n",
    "        norm(env.ω_B) > 100.0 || \n",
    "        norm(env.v_B) > 100.0 || # stop if body is too fast_point \n",
    "        env.x_W[3] < -5.0 || # stop if body is below -5m\n",
    "        env.t > env.num_waypoints * 3.0 ||# stop after 3s per point\n",
    "        norm(env.x_W - env.projected_position) > 5.0 || # too far off the path \n",
    "        env.reached_goal == trues(env.num_waypoints)\n",
    "\n",
    "    nothing\n",
    "end;"
   ]
  },
  {
   "cell_type": "code",
   "execution_count": 16,
   "id": "6e1cd988",
   "metadata": {
    "scrolled": false
   },
   "outputs": [
    {
     "name": "stdout",
     "output_type": "stream",
     "text": [
      "\u001b[0m\u001b[1mTest Summary:              | \u001b[22m\u001b[32m\u001b[1mPass  \u001b[22m\u001b[39m\u001b[36m\u001b[1mTotal  \u001b[22m\u001b[39m\u001b[0m\u001b[1mTime\u001b[22m\n",
      "random policy with VtolEnv | \u001b[32m2000  \u001b[39m\u001b[36m 2000  \u001b[39m\u001b[0m2.7s\n"
     ]
    },
    {
     "data": {
      "text/plain": [
       "Test.DefaultTestSet(\"random policy with VtolEnv\", Any[], 2000, false, false, true, 1.674588337039018e9, 1.674588339775271e9)"
      ]
     },
     "execution_count": 16,
     "metadata": {},
     "output_type": "execute_result"
    }
   ],
   "source": [
    "RLBase.test_runnable!(env)"
   ]
  },
  {
   "cell_type": "markdown",
   "id": "c223a31f",
   "metadata": {},
   "source": [
    "Show an overview of the environment."
   ]
  },
  {
   "cell_type": "markdown",
   "id": "ffe6de74",
   "metadata": {},
   "source": [
    "# Setup of a reinforcement learning experiment."
   ]
  },
  {
   "cell_type": "code",
   "execution_count": 17,
   "id": "e5683fe8",
   "metadata": {},
   "outputs": [
    {
     "data": {
      "text/markdown": [
       "MultiThreadEnv(8 x VtolEnv)"
      ],
      "text/plain": [
       "MultiThreadEnv(8 x VtolEnv)"
      ]
     },
     "execution_count": 17,
     "metadata": {},
     "output_type": "execute_result"
    }
   ],
   "source": [
    "seed = 123    \n",
    "rng = StableRNG(seed)\n",
    "    N_ENV = 8\n",
    "    UPDATE_FREQ = 1024\n",
    "    \n",
    "    \n",
    "    # define multiple environments for parallel training\n",
    "    env = MultiThreadEnv([\n",
    "        # use different names for the visualization\n",
    "        VtolEnv(; rng = StableRNG(hash(seed+i)), name = \"vtol$i\") for i in 1:N_ENV\n",
    "    ])"
   ]
  },
  {
   "cell_type": "code",
   "execution_count": 18,
   "id": "d1f128b2",
   "metadata": {},
   "outputs": [],
   "source": [
    "# Define the function approximator\n",
    "# TODO: change architecture eventually\n",
    "    ns, na = length(state(env[1])), length(action_space(env[1]))\n",
    "    approximator = ActorCritic(\n",
    "                actor = GaussianNetwork(\n",
    "                    pre = Chain(\n",
    "                    Dense(ns, 128, tanh; initW = glorot_uniform(rng)),#\n",
    "                    Dense(128, 128, tanh; initW = glorot_uniform(rng)),\n",
    "                    ),\n",
    "                    μ = Chain(Dense(128, na; initW = glorot_uniform(rng))),\n",
    "                    logσ = Chain(Dense(128, na; initW = glorot_uniform(rng))),\n",
    "                ),\n",
    "                critic = Chain(\n",
    "                    Dense(ns, 128, tanh; initW = glorot_uniform(rng)),\n",
    "                    Dense(128, 128, tanh; initW = glorot_uniform(rng)),\n",
    "                    Dense(128, 1; initW = glorot_uniform(rng)),\n",
    "                ),\n",
    "                optimizer = ADAM(1e-3),\n",
    "            );"
   ]
  },
  {
   "cell_type": "code",
   "execution_count": 19,
   "id": "7ea4c37c",
   "metadata": {
    "scrolled": false
   },
   "outputs": [
    {
     "name": "stderr",
     "output_type": "stream",
     "text": [
      "\u001b[36m\u001b[1m┌ \u001b[22m\u001b[39m\u001b[36m\u001b[1mInfo: \u001b[22m\u001b[39mThe GPU function is being called but the GPU is not accessible. \n",
      "\u001b[36m\u001b[1m└ \u001b[22m\u001b[39mDefaulting back to the CPU. (No action is required if you want to run on the CPU).\n"
     ]
    }
   ],
   "source": [
    "    agent = Agent( # A wrapper of an AbstractPolicy\n",
    "        # AbstractPolicy: the policy to use\n",
    "        # TODO: change eventually to SAC or compare\n",
    "        policy = PPOPolicy(;\n",
    "                    approximator = approximator |> gpu,\n",
    "                    update_freq=UPDATE_FREQ,\n",
    "                    dist = Normal,\n",
    "                    # For parameters visit the docu: https://juliareinforcementlearning.org/docs/rlzoo/#ReinforcementLearningZoo.PPOPolicy\n",
    "                    ),\n",
    "        \n",
    "        # AbstractTrajectory: used to store transitions between an agent and an environment source\n",
    "        trajectory = PPOTrajectory(;\n",
    "            capacity = UPDATE_FREQ,\n",
    "            state = Matrix{Float64} => (ns, N_ENV),\n",
    "            action = Matrix{Float64} => (na, N_ENV),\n",
    "            action_log_prob = Vector{Float64} => (N_ENV,),\n",
    "            reward = Vector{Float64} => (N_ENV,),\n",
    "            terminal = Vector{Bool} => (N_ENV,),\n",
    "        ),\n",
    "    );\n"
   ]
  },
  {
   "cell_type": "code",
   "execution_count": 20,
   "id": "7f158a93",
   "metadata": {},
   "outputs": [],
   "source": [
    "function saveModel(t, agent, env)\n",
    "    model = cpu(agent.policy.approximator)\n",
    "    # TODO: slow mode, fast mode\n",
    "    if SLOW_MODE\n",
    "        f = joinpath(\"./RL_models_slow/\", \"vtol_2D_ppo_$t.bson\")\n",
    "    else\n",
    "        f = joinpath(\"./RL_models_fast/\", \"vtol_2D_ppo_$t.bson\") \n",
    "    end\n",
    "    @save f model\n",
    "    println(\"parameters at step $t saved to $f\")\n",
    "end;"
   ]
  },
  {
   "cell_type": "code",
   "execution_count": 21,
   "id": "c689a72a",
   "metadata": {},
   "outputs": [],
   "source": [
    "function loadModel()\n",
    "    # TODO: slow, fast mode\n",
    "    f = joinpath(\"./RL_models_slow/\", \"vtol_2D_ppo_$(load_from_slow_step).bson\") \n",
    "    @load f model\n",
    "    return model\n",
    "end;"
   ]
  },
  {
   "cell_type": "code",
   "execution_count": 22,
   "id": "f3c1858c",
   "metadata": {},
   "outputs": [],
   "source": [
    "function validate_policy(t, agent, env)\n",
    "    run(agent.policy, test_env, StopAfterEpisode(1), episode_test_reward_hook)\n",
    "    # the result of the hook\n",
    "    println(\"test reward at step $t: $(episode_test_reward_hook.rewards[end])\")\n",
    "    \n",
    "end;\n",
    "\n",
    "visualize_validation = true; # TODO set as desired\n",
    "episode_test_reward_hook = TotalRewardPerEpisode(;is_display_on_exit=false)\n",
    "# create a env only for reward test\n",
    "test_env = VtolEnv(;name = \"testVTOL\", visualization = visualize_validation, realtime = visualize_validation);"
   ]
  },
  {
   "cell_type": "code",
   "execution_count": 23,
   "id": "39983a6b",
   "metadata": {},
   "outputs": [
    {
     "data": {
      "text/plain": [
       "1500000"
      ]
     },
     "execution_count": 23,
     "metadata": {},
     "output_type": "execute_result"
    }
   ],
   "source": [
    "# number of steps\n",
    "steps_slow = 1_500_000 \n",
    "steps_fast = 1_500_000\n",
    "load_from_slow_step = 500_000 # TODO: choose slow model\n",
    "\n",
    "steps = 0\n",
    "if SLOW_MODE\n",
    "    steps = steps_slow\n",
    "else\n",
    "    steps = steps_fast\n",
    "end"
   ]
  },
  {
   "cell_type": "code",
   "execution_count": 24,
   "id": "af72d48e",
   "metadata": {},
   "outputs": [],
   "source": [
    "if !SLOW_MODE\n",
    "    agent.policy.approximator = loadModel(); \n",
    "end;"
   ]
  },
  {
   "cell_type": "code",
   "execution_count": 25,
   "id": "bb737010",
   "metadata": {},
   "outputs": [],
   "source": [
    "if TRAINING\n",
    "    ReinforcementLearning.run(\n",
    "        agent,\n",
    "        env,\n",
    "        StopAfterStep(steps),\n",
    "        ComposedHook(\n",
    "            DoEveryNStep(saveModel, n=10_000), \n",
    "            DoEveryNStep(validate_policy, n=10_000)),\n",
    "    )\n",
    "end"
   ]
  },
  {
   "cell_type": "code",
   "execution_count": 26,
   "id": "49a302a6",
   "metadata": {},
   "outputs": [],
   "source": [
    "if TRAINING\n",
    "    plot(episode_test_reward_hook.rewards)\n",
    "end"
   ]
  },
  {
   "cell_type": "code",
   "execution_count": 27,
   "id": "fb0d4ec2",
   "metadata": {},
   "outputs": [],
   "source": [
    "close_visualization(); # closes the MeshCat visualization"
   ]
  },
  {
   "cell_type": "markdown",
   "id": "7cf8ffc2",
   "metadata": {},
   "source": [
    "# Evaluation"
   ]
  },
  {
   "cell_type": "code",
   "execution_count": 28,
   "id": "8a39200a",
   "metadata": {},
   "outputs": [],
   "source": [
    "test_env = VtolEnv(;name = \"testVTOL\");"
   ]
  },
  {
   "cell_type": "code",
   "execution_count": 29,
   "id": "345f65ce",
   "metadata": {},
   "outputs": [],
   "source": [
    "function loadModel(path, num)\n",
    "    f = joinpath(path, \"vtol_2D_ppo_$num.bson\") # TODO: evtl anpassen\n",
    "    @load f model\n",
    "    return model\n",
    "end;"
   ]
  },
  {
   "cell_type": "code",
   "execution_count": 30,
   "id": "ed379703",
   "metadata": {},
   "outputs": [],
   "source": [
    "function validate(num_models, num_test)\n",
    "    episode_test_reward_hook = TotalRewardPerEpisode(;is_display_on_exit=false)\n",
    "    # create a env only for reward test\n",
    "    #todo evtl mit multithreding\n",
    "    for i in 1:num_models\n",
    "          \n",
    "        sum_rewards_model = 0;\n",
    "        sum_successes_model = 0;\n",
    "        sum_avg_vel_model = 0;\n",
    "        sum_compl_time = 0;\n",
    "        n_success = 0;\n",
    "        \n",
    "        for exp in 1:num_test\n",
    "            RLBase.reset!(test_env)\n",
    "            if SLOW_MODE\n",
    "                path = \"./RL_models_slow/\"\n",
    "            else\n",
    "                path = \"./RL_models_fast/\"\n",
    "            end\n",
    "            agent.policy.approximator = loadModel(path, i * 10_000); \n",
    "            run(agent.policy, test_env, StopAfterEpisode(1), episode_test_reward_hook)\n",
    "            # the result of the hook\n",
    "            sum_rewards_model += episode_test_reward_hook.rewards[end];\n",
    "            \n",
    "            if test_env.reached_goal == trues(test_env.num_waypoints)\n",
    "                n_success += 1\n",
    "                sum_avg_vel_model += test_env.norm_way / test_env.t\n",
    "                sum_compl_time += test_env.t\n",
    "            end\n",
    "        end\n",
    "        \n",
    "        rewards[i] = sum_rewards_model / num_test;\n",
    "        success_rate[i] = n_success / num_test;\n",
    "        if n_success > 0\n",
    "            avg_velocity[i] = sum_avg_vel_model / n_success;\n",
    "            avg_compl_time[i] = sum_compl_time / n_success;\n",
    "        else\n",
    "            avg_velocity[i] = NaN\n",
    "            avg_compl_time[i] = NaN\n",
    "        end\n",
    "        percent = percent = round(i * 100 / num_models, digits=2)\n",
    "        print(\"progress: $(percent)%   \\r\")\n",
    "        flush(stdout)\n",
    "        \n",
    "    end\n",
    "    \n",
    "    \n",
    "end;"
   ]
  },
  {
   "cell_type": "code",
   "execution_count": 31,
   "id": "21a98dd6",
   "metadata": {},
   "outputs": [
    {
     "name": "stdout",
     "output_type": "stream",
     "text": [
      "progress: 100.0%   \r"
     ]
    }
   ],
   "source": [
    "if EVALUATION\n",
    "    \n",
    "    num_model = Int(steps / 10_000);\n",
    "    num_test = 200; # TODO: change as desired \n",
    "\n",
    "    rewards = zeros(num_model, 1);\n",
    "    success_rate = zeros(num_model, 1);\n",
    "    avg_velocity = zeros(num_model, 1);\n",
    "    avg_compl_time = zeros(num_model, 1);\n",
    "\n",
    "    validate(num_model, num_test);\n",
    "    \n",
    "    results_path = pwd() * \"/plots/\";\n",
    "    if SLOW_MODE\n",
    "        results_path = results_path * \"slow/\"\n",
    "    else\n",
    "        results_path = results_path * \"fast/\"\n",
    "    end\n",
    "    \n",
    "    save(results_path * \"iterations.jld\", \"data\", [1:num_model] * 10000)\n",
    "    \n",
    "    save(results_path * \"avg_comp_time.jld\", \"data\", avg_compl_time)\n",
    "    \n",
    "    save(results_path * \"avg_velocity.jld\", \"data\", avg_velocity)\n",
    "    \n",
    "    save(results_path * \"reward.jld\", \"data\", rewards) \n",
    "        \n",
    "    save(results_path * \"success_rate.jld\", \"data\", success_rate)\n",
    "    \n",
    "end;"
   ]
  },
  {
   "cell_type": "code",
   "execution_count": 32,
   "id": "0ea2a032",
   "metadata": {},
   "outputs": [],
   "source": [
    "results_path = pwd() * \"/plots/\";\n",
    "if SLOW_MODE\n",
    "    results_path = results_path * \"slow/\"\n",
    "else\n",
    "    results_path = results_path * \"fast/\"\n",
    "end\n",
    "\n",
    "iterations = load(results_path * \"iterations.jld\")[\"data\"];\n",
    "avg_compl_time = load(results_path * \"avg_comp_time.jld\")[\"data\"];\n",
    "avg_velocity = load(results_path * \"avg_velocity.jld\")[\"data\"];\n",
    "rewards = load(results_path * \"reward.jld\")[\"data\"];\n",
    "success_rate = load(results_path * \"success_rate.jld\")[\"data\"];"
   ]
  },
  {
   "cell_type": "code",
   "execution_count": 33,
   "id": "26466af1",
   "metadata": {},
   "outputs": [
    {
     "data": {
      "text/plain": [
       "\"/home/larissa/Documents/Projects/Advanced Deep Learning for Robotics/ADLR_project/src/2d/plots/slow/\""
      ]
     },
     "execution_count": 33,
     "metadata": {},
     "output_type": "execute_result"
    }
   ],
   "source": [
    "fig_path = pwd() * \"/plots/\";\n",
    "if SLOW_MODE\n",
    "    fig_path = fig_path * \"slow/\"\n",
    "else\n",
    "    fig_path = fig_path * \"fast/\"\n",
    "end"
   ]
  },
  {
   "cell_type": "code",
   "execution_count": 34,
   "id": "c4cc649e",
   "metadata": {},
   "outputs": [
    {
     "data": {
      "image/svg+xml": [
       "<?xml version=\"1.0\" encoding=\"utf-8\"?>\n",
       "<svg xmlns=\"http://www.w3.org/2000/svg\" xmlns:xlink=\"http://www.w3.org/1999/xlink\" width=\"600\" height=\"400\" viewBox=\"0 0 2400 1600\">\n",
       "<defs>\n",
       "  <clipPath id=\"clip850\">\n",
       "    <rect x=\"0\" y=\"0\" width=\"2400\" height=\"1600\"/>\n",
       "  </clipPath>\n",
       "</defs>\n",
       "<path clip-path=\"url(#clip850)\" d=\"\n",
       "M0 1600 L2400 1600 L2400 0 L0 0  Z\n",
       "  \" fill=\"#ffffff\" fill-rule=\"evenodd\" fill-opacity=\"1\"/>\n",
       "<defs>\n",
       "  <clipPath id=\"clip851\">\n",
       "    <rect x=\"480\" y=\"0\" width=\"1681\" height=\"1600\"/>\n",
       "  </clipPath>\n",
       "</defs>\n",
       "<path clip-path=\"url(#clip850)\" d=\"\n",
       "M232.389 1410.9 L2352.76 1410.9 L2352.76 47.2441 L232.389 47.2441  Z\n",
       "  \" fill=\"#ffffff\" fill-rule=\"evenodd\" fill-opacity=\"1\"/>\n",
       "<defs>\n",
       "  <clipPath id=\"clip852\">\n",
       "    <rect x=\"232\" y=\"47\" width=\"2121\" height=\"1365\"/>\n",
       "  </clipPath>\n",
       "</defs>\n",
       "<polyline clip-path=\"url(#clip852)\" style=\"stroke:#000000; stroke-linecap:round; stroke-linejoin:round; stroke-width:2; stroke-opacity:0.1; fill:none\" points=\"\n",
       "  278.975,1410.9 278.975,47.2441 \n",
       "  \"/>\n",
       "<polyline clip-path=\"url(#clip852)\" style=\"stroke:#000000; stroke-linecap:round; stroke-linejoin:round; stroke-width:2; stroke-opacity:0.1; fill:none\" points=\"\n",
       "  950.232,1410.9 950.232,47.2441 \n",
       "  \"/>\n",
       "<polyline clip-path=\"url(#clip852)\" style=\"stroke:#000000; stroke-linecap:round; stroke-linejoin:round; stroke-width:2; stroke-opacity:0.1; fill:none\" points=\"\n",
       "  1621.49,1410.9 1621.49,47.2441 \n",
       "  \"/>\n",
       "<polyline clip-path=\"url(#clip852)\" style=\"stroke:#000000; stroke-linecap:round; stroke-linejoin:round; stroke-width:2; stroke-opacity:0.1; fill:none\" points=\"\n",
       "  2292.75,1410.9 2292.75,47.2441 \n",
       "  \"/>\n",
       "<polyline clip-path=\"url(#clip850)\" style=\"stroke:#000000; stroke-linecap:round; stroke-linejoin:round; stroke-width:4; stroke-opacity:1; fill:none\" points=\"\n",
       "  232.389,1410.9 2352.76,1410.9 \n",
       "  \"/>\n",
       "<polyline clip-path=\"url(#clip850)\" style=\"stroke:#000000; stroke-linecap:round; stroke-linejoin:round; stroke-width:4; stroke-opacity:1; fill:none\" points=\"\n",
       "  278.975,1410.9 278.975,1392 \n",
       "  \"/>\n",
       "<polyline clip-path=\"url(#clip850)\" style=\"stroke:#000000; stroke-linecap:round; stroke-linejoin:round; stroke-width:4; stroke-opacity:1; fill:none\" points=\"\n",
       "  950.232,1410.9 950.232,1392 \n",
       "  \"/>\n",
       "<polyline clip-path=\"url(#clip850)\" style=\"stroke:#000000; stroke-linecap:round; stroke-linejoin:round; stroke-width:4; stroke-opacity:1; fill:none\" points=\"\n",
       "  1621.49,1410.9 1621.49,1392 \n",
       "  \"/>\n",
       "<polyline clip-path=\"url(#clip850)\" style=\"stroke:#000000; stroke-linecap:round; stroke-linejoin:round; stroke-width:4; stroke-opacity:1; fill:none\" points=\"\n",
       "  2292.75,1410.9 2292.75,1392 \n",
       "  \"/>\n",
       "<path clip-path=\"url(#clip850)\" d=\"M278.975 1441.82 Q275.363 1441.82 273.535 1445.38 Q271.729 1448.92 271.729 1456.05 Q271.729 1463.16 273.535 1466.72 Q275.363 1470.26 278.975 1470.26 Q282.609 1470.26 284.414 1466.72 Q286.243 1463.16 286.243 1456.05 Q286.243 1448.92 284.414 1445.38 Q282.609 1441.82 278.975 1441.82 M278.975 1438.11 Q284.785 1438.11 287.84 1442.72 Q290.919 1447.3 290.919 1456.05 Q290.919 1464.78 287.84 1469.38 Q284.785 1473.97 278.975 1473.97 Q273.164 1473.97 270.086 1469.38 Q267.03 1464.78 267.03 1456.05 Q267.03 1447.3 270.086 1442.72 Q273.164 1438.11 278.975 1438.11 Z\" fill=\"#000000\" fill-rule=\"evenodd\" fill-opacity=\"1\" /><path clip-path=\"url(#clip850)\" d=\"M843.208 1454.4 L861.565 1454.4 L861.565 1458.33 L847.491 1458.33 L847.491 1466.8 Q848.509 1466.46 849.528 1466.29 Q850.546 1466.11 851.565 1466.11 Q857.352 1466.11 860.731 1469.28 Q864.111 1472.45 864.111 1477.87 Q864.111 1483.45 860.639 1486.55 Q857.166 1489.63 850.847 1489.63 Q848.671 1489.63 846.403 1489.26 Q844.157 1488.89 841.75 1488.15 L841.75 1483.45 Q843.833 1484.58 846.055 1485.14 Q848.278 1485.69 850.754 1485.69 Q854.759 1485.69 857.097 1483.59 Q859.435 1481.48 859.435 1477.87 Q859.435 1474.26 857.097 1472.15 Q854.759 1470.04 850.754 1470.04 Q848.879 1470.04 847.004 1470.46 Q845.153 1470.88 843.208 1471.76 L843.208 1454.4 Z\" fill=\"#000000\" fill-rule=\"evenodd\" fill-opacity=\"1\" /><path clip-path=\"url(#clip850)\" d=\"M873.324 1483.08 L878.208 1483.08 L878.208 1488.96 L873.324 1488.96 L873.324 1483.08 Z\" fill=\"#000000\" fill-rule=\"evenodd\" fill-opacity=\"1\" /><path clip-path=\"url(#clip850)\" d=\"M898.393 1457.48 Q894.782 1457.48 892.953 1461.04 Q891.148 1464.58 891.148 1471.71 Q891.148 1478.82 892.953 1482.38 Q894.782 1485.92 898.393 1485.92 Q902.027 1485.92 903.833 1482.38 Q905.661 1478.82 905.661 1471.71 Q905.661 1464.58 903.833 1461.04 Q902.027 1457.48 898.393 1457.48 M898.393 1453.77 Q904.203 1453.77 907.259 1458.38 Q910.337 1462.96 910.337 1471.71 Q910.337 1480.44 907.259 1485.04 Q904.203 1489.63 898.393 1489.63 Q892.583 1489.63 889.504 1485.04 Q886.449 1480.44 886.449 1471.71 Q886.449 1462.96 889.504 1458.38 Q892.583 1453.77 898.393 1453.77 Z\" fill=\"#000000\" fill-rule=\"evenodd\" fill-opacity=\"1\" /><path clip-path=\"url(#clip850)\" d=\"M928.555 1457.48 Q924.944 1457.48 923.115 1461.04 Q921.31 1464.58 921.31 1471.71 Q921.31 1478.82 923.115 1482.38 Q924.944 1485.92 928.555 1485.92 Q932.189 1485.92 933.995 1482.38 Q935.823 1478.82 935.823 1471.71 Q935.823 1464.58 933.995 1461.04 Q932.189 1457.48 928.555 1457.48 M928.555 1453.77 Q934.365 1453.77 937.421 1458.38 Q940.499 1462.96 940.499 1471.71 Q940.499 1480.44 937.421 1485.04 Q934.365 1489.63 928.555 1489.63 Q922.745 1489.63 919.666 1485.04 Q916.611 1480.44 916.611 1471.71 Q916.611 1462.96 919.666 1458.38 Q922.745 1453.77 928.555 1453.77 Z\" fill=\"#000000\" fill-rule=\"evenodd\" fill-opacity=\"1\" /><path clip-path=\"url(#clip850)\" d=\"M976.888 1463.49 L966.309 1474.12 L976.888 1484.7 L974.133 1487.5 L963.508 1476.87 L952.883 1487.5 L950.152 1484.7 L960.707 1474.12 L950.152 1463.49 L952.883 1460.69 L963.508 1471.32 L974.133 1460.69 L976.888 1463.49 Z\" fill=\"#000000\" fill-rule=\"evenodd\" fill-opacity=\"1\" /><path clip-path=\"url(#clip850)\" d=\"M989.249 1485.02 L996.888 1485.02 L996.888 1458.66 L988.578 1460.32 L988.578 1456.06 L996.842 1454.4 L1001.52 1454.4 L1001.52 1485.02 L1009.16 1485.02 L1009.16 1488.96 L989.249 1488.96 L989.249 1485.02 Z\" fill=\"#000000\" fill-rule=\"evenodd\" fill-opacity=\"1\" /><path clip-path=\"url(#clip850)\" d=\"M1028.6 1457.48 Q1024.99 1457.48 1023.16 1461.04 Q1021.36 1464.58 1021.36 1471.71 Q1021.36 1478.82 1023.16 1482.38 Q1024.99 1485.92 1028.6 1485.92 Q1032.23 1485.92 1034.04 1482.38 Q1035.87 1478.82 1035.87 1471.71 Q1035.87 1464.58 1034.04 1461.04 Q1032.23 1457.48 1028.6 1457.48 M1028.6 1453.77 Q1034.41 1453.77 1037.47 1458.38 Q1040.55 1462.96 1040.55 1471.71 Q1040.55 1480.44 1037.47 1485.04 Q1034.41 1489.63 1028.6 1489.63 Q1022.79 1489.63 1019.71 1485.04 Q1016.66 1480.44 1016.66 1471.71 Q1016.66 1462.96 1019.71 1458.38 Q1022.79 1453.77 1028.6 1453.77 Z\" fill=\"#000000\" fill-rule=\"evenodd\" fill-opacity=\"1\" /><path clip-path=\"url(#clip850)\" d=\"M1041.73 1433.47 L1056.64 1433.47 L1056.64 1436.66 L1045.21 1436.66 L1045.21 1443.55 Q1046.04 1443.27 1046.86 1443.13 Q1047.69 1442.98 1048.52 1442.98 Q1053.22 1442.98 1055.97 1445.56 Q1058.71 1448.14 1058.71 1452.54 Q1058.71 1457.07 1055.89 1459.59 Q1053.07 1462.09 1047.94 1462.09 Q1046.17 1462.09 1044.33 1461.79 Q1042.5 1461.49 1040.55 1460.89 L1040.55 1457.07 Q1042.24 1457.99 1044.04 1458.44 Q1045.85 1458.89 1047.86 1458.89 Q1051.11 1458.89 1053.01 1457.18 Q1054.91 1455.47 1054.91 1452.54 Q1054.91 1449.6 1053.01 1447.89 Q1051.11 1446.18 1047.86 1446.18 Q1046.34 1446.18 1044.81 1446.52 Q1043.31 1446.86 1041.73 1447.57 L1041.73 1433.47 Z\" fill=\"#000000\" fill-rule=\"evenodd\" fill-opacity=\"1\" /><path clip-path=\"url(#clip850)\" d=\"M1513.84 1485.02 L1521.48 1485.02 L1521.48 1458.66 L1513.17 1460.32 L1513.17 1456.06 L1521.43 1454.4 L1526.11 1454.4 L1526.11 1485.02 L1533.75 1485.02 L1533.75 1488.96 L1513.84 1488.96 L1513.84 1485.02 Z\" fill=\"#000000\" fill-rule=\"evenodd\" fill-opacity=\"1\" /><path clip-path=\"url(#clip850)\" d=\"M1543.19 1483.08 L1548.08 1483.08 L1548.08 1488.96 L1543.19 1488.96 L1543.19 1483.08 Z\" fill=\"#000000\" fill-rule=\"evenodd\" fill-opacity=\"1\" /><path clip-path=\"url(#clip850)\" d=\"M1568.26 1457.48 Q1564.65 1457.48 1562.82 1461.04 Q1561.02 1464.58 1561.02 1471.71 Q1561.02 1478.82 1562.82 1482.38 Q1564.65 1485.92 1568.26 1485.92 Q1571.9 1485.92 1573.7 1482.38 Q1575.53 1478.82 1575.53 1471.71 Q1575.53 1464.58 1573.7 1461.04 Q1571.9 1457.48 1568.26 1457.48 M1568.26 1453.77 Q1574.07 1453.77 1577.13 1458.38 Q1580.21 1462.96 1580.21 1471.71 Q1580.21 1480.44 1577.13 1485.04 Q1574.07 1489.63 1568.26 1489.63 Q1562.45 1489.63 1559.37 1485.04 Q1556.32 1480.44 1556.32 1471.71 Q1556.32 1462.96 1559.37 1458.38 Q1562.45 1453.77 1568.26 1453.77 Z\" fill=\"#000000\" fill-rule=\"evenodd\" fill-opacity=\"1\" /><path clip-path=\"url(#clip850)\" d=\"M1598.43 1457.48 Q1594.81 1457.48 1592.99 1461.04 Q1591.18 1464.58 1591.18 1471.71 Q1591.18 1478.82 1592.99 1482.38 Q1594.81 1485.92 1598.43 1485.92 Q1602.06 1485.92 1603.86 1482.38 Q1605.69 1478.82 1605.69 1471.71 Q1605.69 1464.58 1603.86 1461.04 Q1602.06 1457.48 1598.43 1457.48 M1598.43 1453.77 Q1604.24 1453.77 1607.29 1458.38 Q1610.37 1462.96 1610.37 1471.71 Q1610.37 1480.44 1607.29 1485.04 Q1604.24 1489.63 1598.43 1489.63 Q1592.62 1489.63 1589.54 1485.04 Q1586.48 1480.44 1586.48 1471.71 Q1586.48 1462.96 1589.54 1458.38 Q1592.62 1453.77 1598.43 1453.77 Z\" fill=\"#000000\" fill-rule=\"evenodd\" fill-opacity=\"1\" /><path clip-path=\"url(#clip850)\" d=\"M1646.76 1463.49 L1636.18 1474.12 L1646.76 1484.7 L1644 1487.5 L1633.38 1476.87 L1622.75 1487.5 L1620.02 1484.7 L1630.58 1474.12 L1620.02 1463.49 L1622.75 1460.69 L1633.38 1471.32 L1644 1460.69 L1646.76 1463.49 Z\" fill=\"#000000\" fill-rule=\"evenodd\" fill-opacity=\"1\" /><path clip-path=\"url(#clip850)\" d=\"M1659.12 1485.02 L1666.76 1485.02 L1666.76 1458.66 L1658.45 1460.32 L1658.45 1456.06 L1666.71 1454.4 L1671.39 1454.4 L1671.39 1485.02 L1679.03 1485.02 L1679.03 1488.96 L1659.12 1488.96 L1659.12 1485.02 Z\" fill=\"#000000\" fill-rule=\"evenodd\" fill-opacity=\"1\" /><path clip-path=\"url(#clip850)\" d=\"M1698.47 1457.48 Q1694.86 1457.48 1693.03 1461.04 Q1691.23 1464.58 1691.23 1471.71 Q1691.23 1478.82 1693.03 1482.38 Q1694.86 1485.92 1698.47 1485.92 Q1702.11 1485.92 1703.91 1482.38 Q1705.74 1478.82 1705.74 1471.71 Q1705.74 1464.58 1703.91 1461.04 Q1702.11 1457.48 1698.47 1457.48 M1698.47 1453.77 Q1704.28 1453.77 1707.34 1458.38 Q1710.42 1462.96 1710.42 1471.71 Q1710.42 1480.44 1707.34 1485.04 Q1704.28 1489.63 1698.47 1489.63 Q1692.66 1489.63 1689.58 1485.04 Q1686.53 1480.44 1686.53 1471.71 Q1686.53 1462.96 1689.58 1458.38 Q1692.66 1453.77 1698.47 1453.77 Z\" fill=\"#000000\" fill-rule=\"evenodd\" fill-opacity=\"1\" /><path clip-path=\"url(#clip850)\" d=\"M1720.44 1445.99 Q1717.88 1445.99 1716.38 1447.74 Q1714.89 1449.49 1714.89 1452.54 Q1714.89 1455.57 1716.38 1457.33 Q1717.88 1459.08 1720.44 1459.08 Q1723 1459.08 1724.48 1457.33 Q1725.99 1455.57 1725.99 1452.54 Q1725.99 1449.49 1724.48 1447.74 Q1723 1445.99 1720.44 1445.99 M1727.98 1434.09 L1727.98 1437.55 Q1726.55 1436.87 1725.09 1436.51 Q1723.64 1436.16 1722.21 1436.16 Q1718.45 1436.16 1716.45 1438.69 Q1714.48 1441.23 1714.2 1446.37 Q1715.31 1444.73 1716.98 1443.87 Q1718.65 1442.98 1720.67 1442.98 Q1724.9 1442.98 1727.34 1445.56 Q1729.81 1448.12 1729.81 1452.54 Q1729.81 1456.86 1727.25 1459.48 Q1724.69 1462.09 1720.44 1462.09 Q1715.57 1462.09 1712.99 1458.37 Q1710.42 1454.62 1710.42 1447.53 Q1710.42 1440.88 1713.58 1436.93 Q1716.73 1432.96 1722.06 1432.96 Q1723.49 1432.96 1724.93 1433.24 Q1726.4 1433.52 1727.98 1434.09 Z\" fill=\"#000000\" fill-rule=\"evenodd\" fill-opacity=\"1\" /><path clip-path=\"url(#clip850)\" d=\"M2185.1 1485.02 L2192.74 1485.02 L2192.74 1458.66 L2184.43 1460.32 L2184.43 1456.06 L2192.69 1454.4 L2197.37 1454.4 L2197.37 1485.02 L2205.01 1485.02 L2205.01 1488.96 L2185.1 1488.96 L2185.1 1485.02 Z\" fill=\"#000000\" fill-rule=\"evenodd\" fill-opacity=\"1\" /><path clip-path=\"url(#clip850)\" d=\"M2214.45 1483.08 L2219.34 1483.08 L2219.34 1488.96 L2214.45 1488.96 L2214.45 1483.08 Z\" fill=\"#000000\" fill-rule=\"evenodd\" fill-opacity=\"1\" /><path clip-path=\"url(#clip850)\" d=\"M2229.57 1454.4 L2247.92 1454.4 L2247.92 1458.33 L2233.85 1458.33 L2233.85 1466.8 Q2234.87 1466.46 2235.89 1466.29 Q2236.9 1466.11 2237.92 1466.11 Q2243.71 1466.11 2247.09 1469.28 Q2250.47 1472.45 2250.47 1477.87 Q2250.47 1483.45 2247 1486.55 Q2243.52 1489.63 2237.21 1489.63 Q2235.03 1489.63 2232.76 1489.26 Q2230.52 1488.89 2228.11 1488.15 L2228.11 1483.45 Q2230.19 1484.58 2232.41 1485.14 Q2234.64 1485.69 2237.11 1485.69 Q2241.12 1485.69 2243.46 1483.59 Q2245.79 1481.48 2245.79 1477.87 Q2245.79 1474.26 2243.46 1472.15 Q2241.12 1470.04 2237.11 1470.04 Q2235.24 1470.04 2233.36 1470.46 Q2231.51 1470.88 2229.57 1471.76 L2229.57 1454.4 Z\" fill=\"#000000\" fill-rule=\"evenodd\" fill-opacity=\"1\" /><path clip-path=\"url(#clip850)\" d=\"M2269.68 1457.48 Q2266.07 1457.48 2264.24 1461.04 Q2262.44 1464.58 2262.44 1471.71 Q2262.44 1478.82 2264.24 1482.38 Q2266.07 1485.92 2269.68 1485.92 Q2273.32 1485.92 2275.12 1482.38 Q2276.95 1478.82 2276.95 1471.71 Q2276.95 1464.58 2275.12 1461.04 Q2273.32 1457.48 2269.68 1457.48 M2269.68 1453.77 Q2275.49 1453.77 2278.55 1458.38 Q2281.63 1462.96 2281.63 1471.71 Q2281.63 1480.44 2278.55 1485.04 Q2275.49 1489.63 2269.68 1489.63 Q2263.87 1489.63 2260.79 1485.04 Q2257.74 1480.44 2257.74 1471.71 Q2257.74 1462.96 2260.79 1458.38 Q2263.87 1453.77 2269.68 1453.77 Z\" fill=\"#000000\" fill-rule=\"evenodd\" fill-opacity=\"1\" /><path clip-path=\"url(#clip850)\" d=\"M2318.02 1463.49 L2307.44 1474.12 L2318.02 1484.7 L2315.26 1487.5 L2304.64 1476.87 L2294.01 1487.5 L2291.28 1484.7 L2301.83 1474.12 L2291.28 1463.49 L2294.01 1460.69 L2304.64 1471.32 L2315.26 1460.69 L2318.02 1463.49 Z\" fill=\"#000000\" fill-rule=\"evenodd\" fill-opacity=\"1\" /><path clip-path=\"url(#clip850)\" d=\"M2330.38 1485.02 L2338.02 1485.02 L2338.02 1458.66 L2329.7 1460.32 L2329.7 1456.06 L2337.97 1454.4 L2342.64 1454.4 L2342.64 1485.02 L2350.28 1485.02 L2350.28 1488.96 L2330.38 1488.96 L2330.38 1485.02 Z\" fill=\"#000000\" fill-rule=\"evenodd\" fill-opacity=\"1\" /><path clip-path=\"url(#clip850)\" d=\"M2369.73 1457.48 Q2366.12 1457.48 2364.29 1461.04 Q2362.48 1464.58 2362.48 1471.71 Q2362.48 1478.82 2364.29 1482.38 Q2366.12 1485.92 2369.73 1485.92 Q2373.36 1485.92 2375.17 1482.38 Q2377 1478.82 2377 1471.71 Q2377 1464.58 2375.17 1461.04 Q2373.36 1457.48 2369.73 1457.48 M2369.73 1453.77 Q2375.54 1453.77 2378.59 1458.38 Q2381.67 1462.96 2381.67 1471.71 Q2381.67 1480.44 2378.59 1485.04 Q2375.54 1489.63 2369.73 1489.63 Q2363.92 1489.63 2360.84 1485.04 Q2357.78 1480.44 2357.78 1471.71 Q2357.78 1462.96 2360.84 1458.38 Q2363.92 1453.77 2369.73 1453.77 Z\" fill=\"#000000\" fill-rule=\"evenodd\" fill-opacity=\"1\" /><path clip-path=\"url(#clip850)\" d=\"M2391.7 1445.99 Q2389.14 1445.99 2387.63 1447.74 Q2386.15 1449.49 2386.15 1452.54 Q2386.15 1455.57 2387.63 1457.33 Q2389.14 1459.08 2391.7 1459.08 Q2394.25 1459.08 2395.74 1457.33 Q2397.25 1455.57 2397.25 1452.54 Q2397.25 1449.49 2395.74 1447.74 Q2394.25 1445.99 2391.7 1445.99 M2399.24 1434.09 L2399.24 1437.55 Q2397.81 1436.87 2396.34 1436.51 Q2394.89 1436.16 2393.46 1436.16 Q2389.7 1436.16 2387.71 1438.69 Q2385.73 1441.23 2385.45 1446.37 Q2386.56 1444.73 2388.24 1443.87 Q2389.91 1442.98 2391.92 1442.98 Q2396.15 1442.98 2398.6 1445.56 Q2401.06 1448.12 2401.06 1452.54 Q2401.06 1456.86 2398.51 1459.48 Q2395.95 1462.09 2391.7 1462.09 Q2386.83 1462.09 2384.25 1458.37 Q2381.67 1454.62 2381.67 1447.53 Q2381.67 1440.88 2384.83 1436.93 Q2387.99 1432.96 2393.31 1432.96 Q2394.74 1432.96 2396.19 1433.24 Q2397.66 1433.52 2399.24 1434.09 Z\" fill=\"#000000\" fill-rule=\"evenodd\" fill-opacity=\"1\" /><path clip-path=\"url(#clip850)\" d=\"M1142.14 1526.67 L1148.56 1526.67 L1148.56 1574.19 L1142.14 1574.19 L1142.14 1526.67 Z\" fill=\"#000000\" fill-rule=\"evenodd\" fill-opacity=\"1\" /><path clip-path=\"url(#clip850)\" d=\"M1166.9 1528.42 L1166.9 1538.54 L1178.96 1538.54 L1178.96 1543.09 L1166.9 1543.09 L1166.9 1562.44 Q1166.9 1566.8 1168.08 1568.04 Q1169.28 1569.28 1172.95 1569.28 L1178.96 1569.28 L1178.96 1574.19 L1172.95 1574.19 Q1166.17 1574.19 1163.59 1571.67 Q1161.01 1569.12 1161.01 1562.44 L1161.01 1543.09 L1156.71 1543.09 L1156.71 1538.54 L1161.01 1538.54 L1161.01 1528.42 L1166.9 1528.42 Z\" fill=\"#000000\" fill-rule=\"evenodd\" fill-opacity=\"1\" /><path clip-path=\"url(#clip850)\" d=\"M1217.15 1554.9 L1217.15 1557.76 L1190.23 1557.76 Q1190.61 1563.81 1193.86 1566.99 Q1197.13 1570.14 1202.96 1570.14 Q1206.33 1570.14 1209.48 1569.32 Q1212.67 1568.49 1215.79 1566.83 L1215.79 1572.37 Q1212.64 1573.71 1209.33 1574.41 Q1206.01 1575.11 1202.61 1575.11 Q1194.08 1575.11 1189.08 1570.14 Q1184.12 1565.18 1184.12 1556.71 Q1184.12 1547.96 1188.83 1542.83 Q1193.57 1537.68 1201.59 1537.68 Q1208.78 1537.68 1212.95 1542.33 Q1217.15 1546.94 1217.15 1554.9 M1211.3 1553.18 Q1211.23 1548.37 1208.59 1545.51 Q1205.98 1542.64 1201.65 1542.64 Q1196.75 1542.64 1193.79 1545.41 Q1190.86 1548.18 1190.42 1553.21 L1211.3 1553.18 Z\" fill=\"#000000\" fill-rule=\"evenodd\" fill-opacity=\"1\" /><path clip-path=\"url(#clip850)\" d=\"M1247.42 1544.01 Q1246.44 1543.44 1245.26 1543.18 Q1244.11 1542.9 1242.71 1542.9 Q1237.75 1542.9 1235.07 1546.14 Q1232.43 1549.36 1232.43 1555.41 L1232.43 1574.19 L1226.54 1574.19 L1226.54 1538.54 L1232.43 1538.54 L1232.43 1544.08 Q1234.28 1540.83 1237.24 1539.27 Q1240.2 1537.68 1244.43 1537.68 Q1245.04 1537.68 1245.77 1537.77 Q1246.5 1537.84 1247.39 1538 L1247.42 1544.01 Z\" fill=\"#000000\" fill-rule=\"evenodd\" fill-opacity=\"1\" /><path clip-path=\"url(#clip850)\" d=\"M1269.77 1556.27 Q1262.67 1556.27 1259.93 1557.89 Q1257.2 1559.51 1257.2 1563.43 Q1257.2 1566.55 1259.23 1568.39 Q1261.3 1570.21 1264.83 1570.21 Q1269.7 1570.21 1272.63 1566.77 Q1275.59 1563.3 1275.59 1557.57 L1275.59 1556.27 L1269.77 1556.27 M1281.45 1553.85 L1281.45 1574.19 L1275.59 1574.19 L1275.59 1568.77 Q1273.59 1572.02 1270.6 1573.58 Q1267.6 1575.11 1263.27 1575.11 Q1257.8 1575.11 1254.55 1572.05 Q1251.34 1568.97 1251.34 1563.81 Q1251.34 1557.79 1255.35 1554.74 Q1259.39 1551.68 1267.38 1551.68 L1275.59 1551.68 L1275.59 1551.11 Q1275.59 1547.07 1272.92 1544.87 Q1270.28 1542.64 1265.47 1542.64 Q1262.42 1542.64 1259.52 1543.38 Q1256.62 1544.11 1253.95 1545.57 L1253.95 1540.16 Q1257.16 1538.92 1260.19 1538.31 Q1263.21 1537.68 1266.08 1537.68 Q1273.81 1537.68 1277.63 1541.69 Q1281.45 1545.7 1281.45 1553.85 Z\" fill=\"#000000\" fill-rule=\"evenodd\" fill-opacity=\"1\" /><path clip-path=\"url(#clip850)\" d=\"M1299.3 1528.42 L1299.3 1538.54 L1311.37 1538.54 L1311.37 1543.09 L1299.3 1543.09 L1299.3 1562.44 Q1299.3 1566.8 1300.48 1568.04 Q1301.69 1569.28 1305.35 1569.28 L1311.37 1569.28 L1311.37 1574.19 L1305.35 1574.19 Q1298.57 1574.19 1295.99 1571.67 Q1293.42 1569.12 1293.42 1562.44 L1293.42 1543.09 L1289.12 1543.09 L1289.12 1538.54 L1293.42 1538.54 L1293.42 1528.42 L1299.3 1528.42 Z\" fill=\"#000000\" fill-rule=\"evenodd\" fill-opacity=\"1\" /><path clip-path=\"url(#clip850)\" d=\"M1319.07 1538.54 L1324.93 1538.54 L1324.93 1574.19 L1319.07 1574.19 L1319.07 1538.54 M1319.07 1524.66 L1324.93 1524.66 L1324.93 1532.08 L1319.07 1532.08 L1319.07 1524.66 Z\" fill=\"#000000\" fill-rule=\"evenodd\" fill-opacity=\"1\" /><path clip-path=\"url(#clip850)\" d=\"M1350.99 1542.64 Q1346.28 1542.64 1343.55 1546.34 Q1340.81 1550 1340.81 1556.39 Q1340.81 1562.79 1343.51 1566.48 Q1346.25 1570.14 1350.99 1570.14 Q1355.67 1570.14 1358.41 1566.45 Q1361.15 1562.76 1361.15 1556.39 Q1361.15 1550.06 1358.41 1546.37 Q1355.67 1542.64 1350.99 1542.64 M1350.99 1537.68 Q1358.63 1537.68 1362.99 1542.64 Q1367.35 1547.61 1367.35 1556.39 Q1367.35 1565.15 1362.99 1570.14 Q1358.63 1575.11 1350.99 1575.11 Q1343.32 1575.11 1338.96 1570.14 Q1334.63 1565.15 1334.63 1556.39 Q1334.63 1547.61 1338.96 1542.64 Q1343.32 1537.68 1350.99 1537.68 Z\" fill=\"#000000\" fill-rule=\"evenodd\" fill-opacity=\"1\" /><path clip-path=\"url(#clip850)\" d=\"M1406.69 1552.67 L1406.69 1574.19 L1400.84 1574.19 L1400.84 1552.86 Q1400.84 1547.8 1398.86 1545.29 Q1396.89 1542.77 1392.94 1542.77 Q1388.2 1542.77 1385.46 1545.79 Q1382.73 1548.82 1382.73 1554.04 L1382.73 1574.19 L1376.84 1574.19 L1376.84 1538.54 L1382.73 1538.54 L1382.73 1544.08 Q1384.83 1540.86 1387.66 1539.27 Q1390.52 1537.68 1394.25 1537.68 Q1400.39 1537.68 1403.54 1541.5 Q1406.69 1545.29 1406.69 1552.67 Z\" fill=\"#000000\" fill-rule=\"evenodd\" fill-opacity=\"1\" /><path clip-path=\"url(#clip850)\" d=\"M1441.1 1539.59 L1441.1 1545.13 Q1438.62 1543.85 1435.94 1543.22 Q1433.27 1542.58 1430.41 1542.58 Q1426.05 1542.58 1423.85 1543.92 Q1421.69 1545.25 1421.69 1547.93 Q1421.69 1549.96 1423.24 1551.14 Q1424.8 1552.29 1429.51 1553.34 L1431.52 1553.78 Q1437.76 1555.12 1440.37 1557.57 Q1443.01 1559.99 1443.01 1564.35 Q1443.01 1569.32 1439.06 1572.21 Q1435.15 1575.11 1428.27 1575.11 Q1425.41 1575.11 1422.29 1574.54 Q1419.2 1573.99 1415.76 1572.88 L1415.76 1566.83 Q1419.01 1568.52 1422.16 1569.38 Q1425.31 1570.21 1428.4 1570.21 Q1432.54 1570.21 1434.77 1568.81 Q1436.99 1567.37 1436.99 1564.8 Q1436.99 1562.41 1435.37 1561.14 Q1433.78 1559.86 1428.34 1558.68 L1426.3 1558.21 Q1420.86 1557.06 1418.44 1554.71 Q1416.02 1552.32 1416.02 1548.18 Q1416.02 1543.15 1419.58 1540.42 Q1423.15 1537.68 1429.71 1537.68 Q1432.95 1537.68 1435.82 1538.16 Q1438.68 1538.63 1441.1 1539.59 Z\" fill=\"#000000\" fill-rule=\"evenodd\" fill-opacity=\"1\" /><polyline clip-path=\"url(#clip852)\" style=\"stroke:#000000; stroke-linecap:round; stroke-linejoin:round; stroke-width:2; stroke-opacity:0.1; fill:none\" points=\"\n",
       "  232.389,1235.76 2352.76,1235.76 \n",
       "  \"/>\n",
       "<polyline clip-path=\"url(#clip852)\" style=\"stroke:#000000; stroke-linecap:round; stroke-linejoin:round; stroke-width:2; stroke-opacity:0.1; fill:none\" points=\"\n",
       "  232.389,861.096 2352.76,861.096 \n",
       "  \"/>\n",
       "<polyline clip-path=\"url(#clip852)\" style=\"stroke:#000000; stroke-linecap:round; stroke-linejoin:round; stroke-width:2; stroke-opacity:0.1; fill:none\" points=\"\n",
       "  232.389,486.428 2352.76,486.428 \n",
       "  \"/>\n",
       "<polyline clip-path=\"url(#clip852)\" style=\"stroke:#000000; stroke-linecap:round; stroke-linejoin:round; stroke-width:2; stroke-opacity:0.1; fill:none\" points=\"\n",
       "  232.389,111.759 2352.76,111.759 \n",
       "  \"/>\n",
       "<polyline clip-path=\"url(#clip850)\" style=\"stroke:#000000; stroke-linecap:round; stroke-linejoin:round; stroke-width:4; stroke-opacity:1; fill:none\" points=\"\n",
       "  232.389,1410.9 232.389,47.2441 \n",
       "  \"/>\n",
       "<polyline clip-path=\"url(#clip850)\" style=\"stroke:#000000; stroke-linecap:round; stroke-linejoin:round; stroke-width:4; stroke-opacity:1; fill:none\" points=\"\n",
       "  232.389,1235.76 251.287,1235.76 \n",
       "  \"/>\n",
       "<polyline clip-path=\"url(#clip850)\" style=\"stroke:#000000; stroke-linecap:round; stroke-linejoin:round; stroke-width:4; stroke-opacity:1; fill:none\" points=\"\n",
       "  232.389,861.096 251.287,861.096 \n",
       "  \"/>\n",
       "<polyline clip-path=\"url(#clip850)\" style=\"stroke:#000000; stroke-linecap:round; stroke-linejoin:round; stroke-width:4; stroke-opacity:1; fill:none\" points=\"\n",
       "  232.389,486.428 251.287,486.428 \n",
       "  \"/>\n",
       "<polyline clip-path=\"url(#clip850)\" style=\"stroke:#000000; stroke-linecap:round; stroke-linejoin:round; stroke-width:4; stroke-opacity:1; fill:none\" points=\"\n",
       "  232.389,111.759 251.287,111.759 \n",
       "  \"/>\n",
       "<path clip-path=\"url(#clip850)\" d=\"M184.445 1221.56 Q180.834 1221.56 179.005 1225.13 Q177.2 1228.67 177.2 1235.8 Q177.2 1242.91 179.005 1246.47 Q180.834 1250.01 184.445 1250.01 Q188.079 1250.01 189.885 1246.47 Q191.713 1242.91 191.713 1235.8 Q191.713 1228.67 189.885 1225.13 Q188.079 1221.56 184.445 1221.56 M184.445 1217.86 Q190.255 1217.86 193.311 1222.47 Q196.389 1227.05 196.389 1235.8 Q196.389 1244.53 193.311 1249.13 Q190.255 1253.72 184.445 1253.72 Q178.635 1253.72 175.556 1249.13 Q172.501 1244.53 172.501 1235.8 Q172.501 1227.05 175.556 1222.47 Q178.635 1217.86 184.445 1217.86 Z\" fill=\"#000000\" fill-rule=\"evenodd\" fill-opacity=\"1\" /><path clip-path=\"url(#clip850)\" d=\"M144.329 843.816 L162.686 843.816 L162.686 847.752 L148.612 847.752 L148.612 856.224 Q149.63 855.876 150.649 855.714 Q151.667 855.529 152.686 855.529 Q158.473 855.529 161.852 858.701 Q165.232 861.872 165.232 867.288 Q165.232 872.867 161.76 875.969 Q158.288 879.048 151.968 879.048 Q149.792 879.048 147.524 878.677 Q145.279 878.307 142.871 877.566 L142.871 872.867 Q144.954 874.001 147.177 874.557 Q149.399 875.112 151.876 875.112 Q155.88 875.112 158.218 873.006 Q160.556 870.9 160.556 867.288 Q160.556 863.677 158.218 861.571 Q155.88 859.464 151.876 859.464 Q150.001 859.464 148.126 859.881 Q146.274 860.298 144.329 861.177 L144.329 843.816 Z\" fill=\"#000000\" fill-rule=\"evenodd\" fill-opacity=\"1\" /><path clip-path=\"url(#clip850)\" d=\"M184.445 846.895 Q180.834 846.895 179.005 850.46 Q177.2 854.001 177.2 861.131 Q177.2 868.238 179.005 871.802 Q180.834 875.344 184.445 875.344 Q188.079 875.344 189.885 871.802 Q191.713 868.238 191.713 861.131 Q191.713 854.001 189.885 850.46 Q188.079 846.895 184.445 846.895 M184.445 843.191 Q190.255 843.191 193.311 847.798 Q196.389 852.381 196.389 861.131 Q196.389 869.858 193.311 874.464 Q190.255 879.048 184.445 879.048 Q178.635 879.048 175.556 874.464 Q172.501 869.858 172.501 861.131 Q172.501 852.381 175.556 847.798 Q178.635 843.191 184.445 843.191 Z\" fill=\"#000000\" fill-rule=\"evenodd\" fill-opacity=\"1\" /><path clip-path=\"url(#clip850)\" d=\"M114.931 499.773 L122.57 499.773 L122.57 473.407 L114.26 475.074 L114.26 470.814 L122.524 469.148 L127.2 469.148 L127.2 499.773 L134.839 499.773 L134.839 503.708 L114.931 503.708 L114.931 499.773 Z\" fill=\"#000000\" fill-rule=\"evenodd\" fill-opacity=\"1\" /><path clip-path=\"url(#clip850)\" d=\"M154.283 472.226 Q150.672 472.226 148.843 475.791 Q147.038 479.333 147.038 486.462 Q147.038 493.569 148.843 497.134 Q150.672 500.675 154.283 500.675 Q157.917 500.675 159.723 497.134 Q161.552 493.569 161.552 486.462 Q161.552 479.333 159.723 475.791 Q157.917 472.226 154.283 472.226 M154.283 468.523 Q160.093 468.523 163.149 473.129 Q166.227 477.713 166.227 486.462 Q166.227 495.189 163.149 499.796 Q160.093 504.379 154.283 504.379 Q148.473 504.379 145.394 499.796 Q142.339 495.189 142.339 486.462 Q142.339 477.713 145.394 473.129 Q148.473 468.523 154.283 468.523 Z\" fill=\"#000000\" fill-rule=\"evenodd\" fill-opacity=\"1\" /><path clip-path=\"url(#clip850)\" d=\"M184.445 472.226 Q180.834 472.226 179.005 475.791 Q177.2 479.333 177.2 486.462 Q177.2 493.569 179.005 497.134 Q180.834 500.675 184.445 500.675 Q188.079 500.675 189.885 497.134 Q191.713 493.569 191.713 486.462 Q191.713 479.333 189.885 475.791 Q188.079 472.226 184.445 472.226 M184.445 468.523 Q190.255 468.523 193.311 473.129 Q196.389 477.713 196.389 486.462 Q196.389 495.189 193.311 499.796 Q190.255 504.379 184.445 504.379 Q178.635 504.379 175.556 499.796 Q172.501 495.189 172.501 486.462 Q172.501 477.713 175.556 473.129 Q178.635 468.523 184.445 468.523 Z\" fill=\"#000000\" fill-rule=\"evenodd\" fill-opacity=\"1\" /><path clip-path=\"url(#clip850)\" d=\"M114.931 125.104 L122.57 125.104 L122.57 98.7384 L114.26 100.405 L114.26 96.1458 L122.524 94.4791 L127.2 94.4791 L127.2 125.104 L134.839 125.104 L134.839 129.039 L114.931 129.039 L114.931 125.104 Z\" fill=\"#000000\" fill-rule=\"evenodd\" fill-opacity=\"1\" /><path clip-path=\"url(#clip850)\" d=\"M144.329 94.4791 L162.686 94.4791 L162.686 98.4143 L148.612 98.4143 L148.612 106.886 Q149.63 106.539 150.649 106.377 Q151.667 106.192 152.686 106.192 Q158.473 106.192 161.852 109.363 Q165.232 112.535 165.232 117.951 Q165.232 123.53 161.76 126.632 Q158.288 129.71 151.968 129.71 Q149.792 129.71 147.524 129.34 Q145.279 128.97 142.871 128.229 L142.871 123.53 Q144.954 124.664 147.177 125.22 Q149.399 125.775 151.876 125.775 Q155.88 125.775 158.218 123.669 Q160.556 121.562 160.556 117.951 Q160.556 114.34 158.218 112.234 Q155.88 110.127 151.876 110.127 Q150.001 110.127 148.126 110.544 Q146.274 110.961 144.329 111.84 L144.329 94.4791 Z\" fill=\"#000000\" fill-rule=\"evenodd\" fill-opacity=\"1\" /><path clip-path=\"url(#clip850)\" d=\"M184.445 97.5578 Q180.834 97.5578 179.005 101.123 Q177.2 104.664 177.2 111.794 Q177.2 118.9 179.005 122.465 Q180.834 126.007 184.445 126.007 Q188.079 126.007 189.885 122.465 Q191.713 118.9 191.713 111.794 Q191.713 104.664 189.885 101.123 Q188.079 97.5578 184.445 97.5578 M184.445 93.8541 Q190.255 93.8541 193.311 98.4606 Q196.389 103.044 196.389 111.794 Q196.389 120.521 193.311 125.127 Q190.255 129.71 184.445 129.71 Q178.635 129.71 175.556 125.127 Q172.501 120.521 172.501 111.794 Q172.501 103.044 175.556 98.4606 Q178.635 93.8541 184.445 93.8541 Z\" fill=\"#000000\" fill-rule=\"evenodd\" fill-opacity=\"1\" /><path clip-path=\"url(#clip850)\" d=\"M41.7242 821.755 Q42.4244 819.686 44.7161 817.745 Q47.0077 815.771 51.0181 813.798 L64.0042 807.273 L64.0042 814.18 L51.8138 820.259 Q47.0395 822.614 45.48 824.842 Q43.9204 827.039 43.9204 830.858 L43.9204 837.86 L64.0042 837.86 L64.0042 844.29 L16.4842 844.29 L16.4842 829.776 Q16.4842 821.628 19.8898 817.617 Q23.2955 813.607 30.1704 813.607 Q34.6582 813.607 37.6183 815.708 Q40.5784 817.776 41.7242 821.755 M21.7677 837.86 L38.6368 837.86 L38.6368 829.776 Q38.6368 825.129 36.5043 822.774 Q34.34 820.386 30.1704 820.386 Q26.0009 820.386 23.9002 822.774 Q21.7677 825.129 21.7677 829.776 L21.7677 837.86 Z\" fill=\"#000000\" fill-rule=\"evenodd\" fill-opacity=\"1\" /><path clip-path=\"url(#clip850)\" d=\"M44.7161 771.689 L47.5806 771.689 L47.5806 798.616 Q53.6281 798.234 56.8109 794.987 Q59.9619 791.709 59.9619 785.884 Q59.9619 782.51 59.1344 779.359 Q58.3069 776.177 56.6518 773.057 L62.1899 773.057 Q63.5267 776.208 64.227 779.519 Q64.9272 782.829 64.9272 786.234 Q64.9272 794.764 59.9619 799.762 Q54.9967 804.727 46.5303 804.727 Q37.7774 804.727 32.6531 800.016 Q27.4968 795.274 27.4968 787.253 Q27.4968 780.06 32.1438 775.89 Q36.7589 771.689 44.7161 771.689 M42.9973 777.545 Q38.1912 777.609 35.3266 780.251 Q32.4621 782.861 32.4621 787.189 Q32.4621 792.091 35.2312 795.051 Q38.0002 797.979 43.0292 798.425 L42.9973 777.545 Z\" fill=\"#000000\" fill-rule=\"evenodd\" fill-opacity=\"1\" /><path clip-path=\"url(#clip850)\" d=\"M28.3562 765.482 L28.3562 759.626 L56.1743 752.305 L28.3562 745.016 L28.3562 738.11 L56.1743 730.789 L28.3562 723.5 L28.3562 717.644 L64.0042 726.97 L64.0042 733.876 L34.7856 741.547 L64.0042 749.25 L64.0042 756.156 L28.3562 765.482 Z\" fill=\"#000000\" fill-rule=\"evenodd\" fill-opacity=\"1\" /><path clip-path=\"url(#clip850)\" d=\"M46.0847 692.563 Q46.0847 699.661 47.7079 702.398 Q49.3312 705.135 53.2461 705.135 Q56.3653 705.135 58.2114 703.098 Q60.0256 701.029 60.0256 697.496 Q60.0256 692.627 56.5881 689.698 Q53.1188 686.738 47.3897 686.738 L46.0847 686.738 L46.0847 692.563 M43.6657 680.882 L64.0042 680.882 L64.0042 686.738 L58.5933 686.738 Q61.8398 688.744 63.3994 691.735 Q64.9272 694.727 64.9272 699.056 Q64.9272 704.531 61.8716 707.777 Q58.7843 710.992 53.6281 710.992 Q47.6125 710.992 44.5569 706.981 Q41.5014 702.939 41.5014 694.95 L41.5014 686.738 L40.9285 686.738 Q36.8862 686.738 34.6901 689.412 Q32.4621 692.054 32.4621 696.86 Q32.4621 699.915 33.1941 702.812 Q33.9262 705.708 35.3903 708.382 L29.9795 708.382 Q28.7381 705.167 28.1334 702.143 Q27.4968 699.12 27.4968 696.255 Q27.4968 688.521 31.5072 684.701 Q35.5176 680.882 43.6657 680.882 Z\" fill=\"#000000\" fill-rule=\"evenodd\" fill-opacity=\"1\" /><path clip-path=\"url(#clip850)\" d=\"M33.8307 648.162 Q33.2578 649.149 33.0032 650.327 Q32.7167 651.472 32.7167 652.873 Q32.7167 657.838 35.9632 660.512 Q39.1779 663.153 45.2253 663.153 L64.0042 663.153 L64.0042 669.042 L28.3562 669.042 L28.3562 663.153 L33.8944 663.153 Q30.6479 661.307 29.0883 658.347 Q27.4968 655.387 27.4968 651.154 Q27.4968 650.549 27.5923 649.817 Q27.656 649.085 27.8151 648.194 L33.8307 648.162 Z\" fill=\"#000000\" fill-rule=\"evenodd\" fill-opacity=\"1\" /><path clip-path=\"url(#clip850)\" d=\"M33.7671 619.708 L14.479 619.708 L14.479 613.851 L64.0042 613.851 L64.0042 619.708 L58.657 619.708 Q61.8398 621.554 63.3994 624.386 Q64.9272 627.187 64.9272 631.134 Q64.9272 637.595 59.771 641.669 Q54.6147 645.711 46.212 645.711 Q37.8093 645.711 32.6531 641.669 Q27.4968 637.595 27.4968 631.134 Q27.4968 627.187 29.0564 624.386 Q30.5842 621.554 33.7671 619.708 M46.212 639.664 Q52.6732 639.664 56.3653 637.022 Q60.0256 634.349 60.0256 629.702 Q60.0256 625.055 56.3653 622.381 Q52.6732 619.708 46.212 619.708 Q39.7508 619.708 36.0905 622.381 Q32.3984 625.055 32.3984 629.702 Q32.3984 634.349 36.0905 637.022 Q39.7508 639.664 46.212 639.664 Z\" fill=\"#000000\" fill-rule=\"evenodd\" fill-opacity=\"1\" /><polyline clip-path=\"url(#clip852)\" style=\"stroke:#009af9; stroke-linecap:round; stroke-linejoin:round; stroke-width:4; stroke-opacity:1; fill:none\" points=\"\n",
       "  292.4,1372.3 305.825,1359.85 319.25,1294.38 332.675,1238.26 346.1,1197.41 359.525,1153.81 372.951,1117.17 386.376,1038.34 399.801,1016.03 413.226,818.126 \n",
       "  426.651,554.591 440.076,488.639 453.501,351.886 466.927,364.837 480.352,398.624 493.777,284.991 507.202,224.699 520.627,224.386 534.052,171.014 547.477,215.238 \n",
       "  560.903,178.954 574.328,236.214 587.753,180.987 601.178,174.401 614.603,181.584 628.028,201.145 641.453,176.607 654.878,112.492 668.304,139.576 681.729,149.132 \n",
       "  695.154,163.823 708.579,191.189 722.004,150.68 735.429,187.123 748.854,139.045 762.28,148.295 775.705,154.644 789.13,134.502 802.555,141.677 815.98,159.466 \n",
       "  829.405,126.025 842.83,149.948 856.256,137.978 869.681,133.744 883.106,147.484 896.531,146.003 909.956,172.607 923.381,159.95 936.806,85.838 950.232,137.023 \n",
       "  963.657,175.14 977.082,162.483 990.507,150.479 1003.93,210.882 1017.36,124.614 1030.78,159.334 1044.21,112.428 1057.63,139.072 1071.06,131.829 1084.48,133.229 \n",
       "  1097.91,145.544 1111.33,128.254 1124.76,122.815 1138.18,126.316 1151.61,133.727 1165.03,147.336 1178.46,151.448 1191.88,129.135 1205.31,154.343 1218.73,157.941 \n",
       "  1232.16,133.377 1245.58,125.453 1259.01,135.501 1272.43,130.647 1285.86,121.687 1299.29,116.063 1312.71,116.141 1326.14,105.639 1339.56,125.87 1352.99,169.653 \n",
       "  1366.41,168.446 1379.84,161.649 1393.26,175.801 1406.69,147.5 1420.11,111.434 1433.54,104.332 1446.96,149.325 1460.39,190.162 1473.81,191.44 1487.24,177.49 \n",
       "  1500.66,149.645 1514.09,130.676 1527.51,124.35 1540.94,141.915 1554.36,133.743 1567.79,150.835 1581.21,174.049 1594.64,151.479 1608.06,193.733 1621.49,179.553 \n",
       "  1634.91,134.72 1648.34,139.557 1661.76,133.474 1675.19,158.605 1688.61,169.923 1702.04,174.149 1715.46,159.379 1728.89,192.818 1742.31,143.359 1755.74,165.322 \n",
       "  1769.17,186.338 1782.59,151.909 1796.02,185.115 1809.44,143.353 1822.87,147.594 1836.29,161.336 1849.72,151.498 1863.14,119.753 1876.57,137.906 1889.99,188.641 \n",
       "  1903.42,152.677 1916.84,182.527 1930.27,195.117 1943.69,196.957 1957.12,130.65 1970.54,131.093 1983.97,147.799 1997.39,166.28 2010.82,158.725 2024.24,129.009 \n",
       "  2037.67,148.91 2051.09,212.078 2064.52,206.672 2077.94,158.818 2091.37,242.781 2104.79,242.356 2118.22,199.156 2131.64,208.133 2145.07,185.461 2158.49,178.376 \n",
       "  2171.92,188.474 2185.34,173.104 2198.77,207.58 2212.19,262.091 2225.62,200.97 2239.04,197.675 2252.47,198.184 2265.9,212.545 2279.32,162.579 2292.75,192.203 \n",
       "  \n",
       "  \"/>\n",
       "</svg>\n"
      ]
     },
     "execution_count": 34,
     "metadata": {},
     "output_type": "execute_result"
    }
   ],
   "source": [
    "plot(iterations, rewards, xlabel=\"Iterations\", ylabel=\"Reward\", legend = false, xformatter = :scientific)"
   ]
  },
  {
   "cell_type": "code",
   "execution_count": 35,
   "id": "405bd6ad",
   "metadata": {},
   "outputs": [
    {
     "data": {
      "text/plain": [
       "\"/home/larissa/Documents/Projects/Advanced Deep Learning for Robotics/ADLR_project/src/2d/plots/slow/reward.svg\""
      ]
     },
     "execution_count": 35,
     "metadata": {},
     "output_type": "execute_result"
    }
   ],
   "source": [
    "savefig(fig_path * \"reward.svg\")"
   ]
  },
  {
   "cell_type": "code",
   "execution_count": 36,
   "id": "9535a7a5",
   "metadata": {},
   "outputs": [
    {
     "data": {
      "image/svg+xml": [
       "<?xml version=\"1.0\" encoding=\"utf-8\"?>\n",
       "<svg xmlns=\"http://www.w3.org/2000/svg\" xmlns:xlink=\"http://www.w3.org/1999/xlink\" width=\"600\" height=\"400\" viewBox=\"0 0 2400 1600\">\n",
       "<defs>\n",
       "  <clipPath id=\"clip930\">\n",
       "    <rect x=\"0\" y=\"0\" width=\"2400\" height=\"1600\"/>\n",
       "  </clipPath>\n",
       "</defs>\n",
       "<path clip-path=\"url(#clip930)\" d=\"\n",
       "M0 1600 L2400 1600 L2400 0 L0 0  Z\n",
       "  \" fill=\"#ffffff\" fill-rule=\"evenodd\" fill-opacity=\"1\"/>\n",
       "<defs>\n",
       "  <clipPath id=\"clip931\">\n",
       "    <rect x=\"480\" y=\"0\" width=\"1681\" height=\"1600\"/>\n",
       "  </clipPath>\n",
       "</defs>\n",
       "<path clip-path=\"url(#clip930)\" d=\"\n",
       "M249.542 1410.9 L2352.76 1410.9 L2352.76 47.2441 L249.542 47.2441  Z\n",
       "  \" fill=\"#ffffff\" fill-rule=\"evenodd\" fill-opacity=\"1\"/>\n",
       "<defs>\n",
       "  <clipPath id=\"clip932\">\n",
       "    <rect x=\"249\" y=\"47\" width=\"2104\" height=\"1365\"/>\n",
       "  </clipPath>\n",
       "</defs>\n",
       "<polyline clip-path=\"url(#clip932)\" style=\"stroke:#000000; stroke-linecap:round; stroke-linejoin:round; stroke-width:2; stroke-opacity:0.1; fill:none\" points=\"\n",
       "  295.75,1410.9 295.75,47.2441 \n",
       "  \"/>\n",
       "<polyline clip-path=\"url(#clip932)\" style=\"stroke:#000000; stroke-linecap:round; stroke-linejoin:round; stroke-width:2; stroke-opacity:0.1; fill:none\" points=\"\n",
       "  961.577,1410.9 961.577,47.2441 \n",
       "  \"/>\n",
       "<polyline clip-path=\"url(#clip932)\" style=\"stroke:#000000; stroke-linecap:round; stroke-linejoin:round; stroke-width:2; stroke-opacity:0.1; fill:none\" points=\"\n",
       "  1627.4,1410.9 1627.4,47.2441 \n",
       "  \"/>\n",
       "<polyline clip-path=\"url(#clip932)\" style=\"stroke:#000000; stroke-linecap:round; stroke-linejoin:round; stroke-width:2; stroke-opacity:0.1; fill:none\" points=\"\n",
       "  2293.23,1410.9 2293.23,47.2441 \n",
       "  \"/>\n",
       "<polyline clip-path=\"url(#clip930)\" style=\"stroke:#000000; stroke-linecap:round; stroke-linejoin:round; stroke-width:4; stroke-opacity:1; fill:none\" points=\"\n",
       "  249.542,1410.9 2352.76,1410.9 \n",
       "  \"/>\n",
       "<polyline clip-path=\"url(#clip930)\" style=\"stroke:#000000; stroke-linecap:round; stroke-linejoin:round; stroke-width:4; stroke-opacity:1; fill:none\" points=\"\n",
       "  295.75,1410.9 295.75,1392 \n",
       "  \"/>\n",
       "<polyline clip-path=\"url(#clip930)\" style=\"stroke:#000000; stroke-linecap:round; stroke-linejoin:round; stroke-width:4; stroke-opacity:1; fill:none\" points=\"\n",
       "  961.577,1410.9 961.577,1392 \n",
       "  \"/>\n",
       "<polyline clip-path=\"url(#clip930)\" style=\"stroke:#000000; stroke-linecap:round; stroke-linejoin:round; stroke-width:4; stroke-opacity:1; fill:none\" points=\"\n",
       "  1627.4,1410.9 1627.4,1392 \n",
       "  \"/>\n",
       "<polyline clip-path=\"url(#clip930)\" style=\"stroke:#000000; stroke-linecap:round; stroke-linejoin:round; stroke-width:4; stroke-opacity:1; fill:none\" points=\"\n",
       "  2293.23,1410.9 2293.23,1392 \n",
       "  \"/>\n",
       "<path clip-path=\"url(#clip930)\" d=\"M295.75 1441.82 Q292.139 1441.82 290.311 1445.38 Q288.505 1448.92 288.505 1456.05 Q288.505 1463.16 290.311 1466.72 Q292.139 1470.26 295.75 1470.26 Q299.385 1470.26 301.19 1466.72 Q303.019 1463.16 303.019 1456.05 Q303.019 1448.92 301.19 1445.38 Q299.385 1441.82 295.75 1441.82 M295.75 1438.11 Q301.561 1438.11 304.616 1442.72 Q307.695 1447.3 307.695 1456.05 Q307.695 1464.78 304.616 1469.38 Q301.561 1473.97 295.75 1473.97 Q289.94 1473.97 286.862 1469.38 Q283.806 1464.78 283.806 1456.05 Q283.806 1447.3 286.862 1442.72 Q289.94 1438.11 295.75 1438.11 Z\" fill=\"#000000\" fill-rule=\"evenodd\" fill-opacity=\"1\" /><path clip-path=\"url(#clip930)\" d=\"M854.554 1454.4 L872.91 1454.4 L872.91 1458.33 L858.836 1458.33 L858.836 1466.8 Q859.855 1466.46 860.873 1466.29 Q861.892 1466.11 862.91 1466.11 Q868.697 1466.11 872.077 1469.28 Q875.456 1472.45 875.456 1477.87 Q875.456 1483.45 871.984 1486.55 Q868.512 1489.63 862.193 1489.63 Q860.017 1489.63 857.748 1489.26 Q855.503 1488.89 853.096 1488.15 L853.096 1483.45 Q855.179 1484.58 857.401 1485.14 Q859.623 1485.69 862.1 1485.69 Q866.105 1485.69 868.443 1483.59 Q870.781 1481.48 870.781 1477.87 Q870.781 1474.26 868.443 1472.15 Q866.105 1470.04 862.1 1470.04 Q860.225 1470.04 858.35 1470.46 Q856.498 1470.88 854.554 1471.76 L854.554 1454.4 Z\" fill=\"#000000\" fill-rule=\"evenodd\" fill-opacity=\"1\" /><path clip-path=\"url(#clip930)\" d=\"M884.669 1483.08 L889.554 1483.08 L889.554 1488.96 L884.669 1488.96 L884.669 1483.08 Z\" fill=\"#000000\" fill-rule=\"evenodd\" fill-opacity=\"1\" /><path clip-path=\"url(#clip930)\" d=\"M909.739 1457.48 Q906.128 1457.48 904.299 1461.04 Q902.493 1464.58 902.493 1471.71 Q902.493 1478.82 904.299 1482.38 Q906.128 1485.92 909.739 1485.92 Q913.373 1485.92 915.179 1482.38 Q917.007 1478.82 917.007 1471.71 Q917.007 1464.58 915.179 1461.04 Q913.373 1457.48 909.739 1457.48 M909.739 1453.77 Q915.549 1453.77 918.604 1458.38 Q921.683 1462.96 921.683 1471.71 Q921.683 1480.44 918.604 1485.04 Q915.549 1489.63 909.739 1489.63 Q903.929 1489.63 900.85 1485.04 Q897.794 1480.44 897.794 1471.71 Q897.794 1462.96 900.85 1458.38 Q903.929 1453.77 909.739 1453.77 Z\" fill=\"#000000\" fill-rule=\"evenodd\" fill-opacity=\"1\" /><path clip-path=\"url(#clip930)\" d=\"M939.901 1457.48 Q936.29 1457.48 934.461 1461.04 Q932.655 1464.58 932.655 1471.71 Q932.655 1478.82 934.461 1482.38 Q936.29 1485.92 939.901 1485.92 Q943.535 1485.92 945.34 1482.38 Q947.169 1478.82 947.169 1471.71 Q947.169 1464.58 945.34 1461.04 Q943.535 1457.48 939.901 1457.48 M939.901 1453.77 Q945.711 1453.77 948.766 1458.38 Q951.845 1462.96 951.845 1471.71 Q951.845 1480.44 948.766 1485.04 Q945.711 1489.63 939.901 1489.63 Q934.09 1489.63 931.012 1485.04 Q927.956 1480.44 927.956 1471.71 Q927.956 1462.96 931.012 1458.38 Q934.09 1453.77 939.901 1453.77 Z\" fill=\"#000000\" fill-rule=\"evenodd\" fill-opacity=\"1\" /><path clip-path=\"url(#clip930)\" d=\"M988.234 1463.49 L977.655 1474.12 L988.234 1484.7 L985.479 1487.5 L974.854 1476.87 L964.229 1487.5 L961.498 1484.7 L972.053 1474.12 L961.498 1463.49 L964.229 1460.69 L974.854 1471.32 L985.479 1460.69 L988.234 1463.49 Z\" fill=\"#000000\" fill-rule=\"evenodd\" fill-opacity=\"1\" /><path clip-path=\"url(#clip930)\" d=\"M1000.59 1485.02 L1008.23 1485.02 L1008.23 1458.66 L999.923 1460.32 L999.923 1456.06 L1008.19 1454.4 L1012.86 1454.4 L1012.86 1485.02 L1020.5 1485.02 L1020.5 1488.96 L1000.59 1488.96 L1000.59 1485.02 Z\" fill=\"#000000\" fill-rule=\"evenodd\" fill-opacity=\"1\" /><path clip-path=\"url(#clip930)\" d=\"M1039.95 1457.48 Q1036.34 1457.48 1034.51 1461.04 Q1032.7 1464.58 1032.7 1471.71 Q1032.7 1478.82 1034.51 1482.38 Q1036.34 1485.92 1039.95 1485.92 Q1043.58 1485.92 1045.39 1482.38 Q1047.21 1478.82 1047.21 1471.71 Q1047.21 1464.58 1045.39 1461.04 Q1043.58 1457.48 1039.95 1457.48 M1039.95 1453.77 Q1045.76 1453.77 1048.81 1458.38 Q1051.89 1462.96 1051.89 1471.71 Q1051.89 1480.44 1048.81 1485.04 Q1045.76 1489.63 1039.95 1489.63 Q1034.14 1489.63 1031.06 1485.04 Q1028 1480.44 1028 1471.71 Q1028 1462.96 1031.06 1458.38 Q1034.14 1453.77 1039.95 1453.77 Z\" fill=\"#000000\" fill-rule=\"evenodd\" fill-opacity=\"1\" /><path clip-path=\"url(#clip930)\" d=\"M1053.08 1433.47 L1067.99 1433.47 L1067.99 1436.66 L1056.56 1436.66 L1056.56 1443.55 Q1057.38 1443.27 1058.21 1443.13 Q1059.04 1442.98 1059.87 1442.98 Q1064.57 1442.98 1067.31 1445.56 Q1070.06 1448.14 1070.06 1452.54 Q1070.06 1457.07 1067.24 1459.59 Q1064.42 1462.09 1059.28 1462.09 Q1057.51 1462.09 1055.67 1461.79 Q1053.85 1461.49 1051.89 1460.89 L1051.89 1457.07 Q1053.58 1457.99 1055.39 1458.44 Q1057.19 1458.89 1059.21 1458.89 Q1062.46 1458.89 1064.36 1457.18 Q1066.26 1455.47 1066.26 1452.54 Q1066.26 1449.6 1064.36 1447.89 Q1062.46 1446.18 1059.21 1446.18 Q1057.68 1446.18 1056.16 1446.52 Q1054.66 1446.86 1053.08 1447.57 L1053.08 1433.47 Z\" fill=\"#000000\" fill-rule=\"evenodd\" fill-opacity=\"1\" /><path clip-path=\"url(#clip930)\" d=\"M1519.76 1485.02 L1527.4 1485.02 L1527.4 1458.66 L1519.09 1460.32 L1519.09 1456.06 L1527.35 1454.4 L1532.03 1454.4 L1532.03 1485.02 L1539.67 1485.02 L1539.67 1488.96 L1519.76 1488.96 L1519.76 1485.02 Z\" fill=\"#000000\" fill-rule=\"evenodd\" fill-opacity=\"1\" /><path clip-path=\"url(#clip930)\" d=\"M1549.11 1483.08 L1553.99 1483.08 L1553.99 1488.96 L1549.11 1488.96 L1549.11 1483.08 Z\" fill=\"#000000\" fill-rule=\"evenodd\" fill-opacity=\"1\" /><path clip-path=\"url(#clip930)\" d=\"M1574.18 1457.48 Q1570.57 1457.48 1568.74 1461.04 Q1566.93 1464.58 1566.93 1471.71 Q1566.93 1478.82 1568.74 1482.38 Q1570.57 1485.92 1574.18 1485.92 Q1577.81 1485.92 1579.62 1482.38 Q1581.45 1478.82 1581.45 1471.71 Q1581.45 1464.58 1579.62 1461.04 Q1577.81 1457.48 1574.18 1457.48 M1574.18 1453.77 Q1579.99 1453.77 1583.04 1458.38 Q1586.12 1462.96 1586.12 1471.71 Q1586.12 1480.44 1583.04 1485.04 Q1579.99 1489.63 1574.18 1489.63 Q1568.37 1489.63 1565.29 1485.04 Q1562.23 1480.44 1562.23 1471.71 Q1562.23 1462.96 1565.29 1458.38 Q1568.37 1453.77 1574.18 1453.77 Z\" fill=\"#000000\" fill-rule=\"evenodd\" fill-opacity=\"1\" /><path clip-path=\"url(#clip930)\" d=\"M1604.34 1457.48 Q1600.73 1457.48 1598.9 1461.04 Q1597.1 1464.58 1597.1 1471.71 Q1597.1 1478.82 1598.9 1482.38 Q1600.73 1485.92 1604.34 1485.92 Q1607.97 1485.92 1609.78 1482.38 Q1611.61 1478.82 1611.61 1471.71 Q1611.61 1464.58 1609.78 1461.04 Q1607.97 1457.48 1604.34 1457.48 M1604.34 1453.77 Q1610.15 1453.77 1613.21 1458.38 Q1616.29 1462.96 1616.29 1471.71 Q1616.29 1480.44 1613.21 1485.04 Q1610.15 1489.63 1604.34 1489.63 Q1598.53 1489.63 1595.45 1485.04 Q1592.4 1480.44 1592.4 1471.71 Q1592.4 1462.96 1595.45 1458.38 Q1598.53 1453.77 1604.34 1453.77 Z\" fill=\"#000000\" fill-rule=\"evenodd\" fill-opacity=\"1\" /><path clip-path=\"url(#clip930)\" d=\"M1652.67 1463.49 L1642.1 1474.12 L1652.67 1484.7 L1649.92 1487.5 L1639.29 1476.87 L1628.67 1487.5 L1625.94 1484.7 L1636.49 1474.12 L1625.94 1463.49 L1628.67 1460.69 L1639.29 1471.32 L1649.92 1460.69 L1652.67 1463.49 Z\" fill=\"#000000\" fill-rule=\"evenodd\" fill-opacity=\"1\" /><path clip-path=\"url(#clip930)\" d=\"M1665.03 1485.02 L1672.67 1485.02 L1672.67 1458.66 L1664.36 1460.32 L1664.36 1456.06 L1672.63 1454.4 L1677.3 1454.4 L1677.3 1485.02 L1684.94 1485.02 L1684.94 1488.96 L1665.03 1488.96 L1665.03 1485.02 Z\" fill=\"#000000\" fill-rule=\"evenodd\" fill-opacity=\"1\" /><path clip-path=\"url(#clip930)\" d=\"M1704.39 1457.48 Q1700.78 1457.48 1698.95 1461.04 Q1697.14 1464.58 1697.14 1471.71 Q1697.14 1478.82 1698.95 1482.38 Q1700.78 1485.92 1704.39 1485.92 Q1708.02 1485.92 1709.83 1482.38 Q1711.65 1478.82 1711.65 1471.71 Q1711.65 1464.58 1709.83 1461.04 Q1708.02 1457.48 1704.39 1457.48 M1704.39 1453.77 Q1710.2 1453.77 1713.25 1458.38 Q1716.33 1462.96 1716.33 1471.71 Q1716.33 1480.44 1713.25 1485.04 Q1710.2 1489.63 1704.39 1489.63 Q1698.58 1489.63 1695.5 1485.04 Q1692.44 1480.44 1692.44 1471.71 Q1692.44 1462.96 1695.5 1458.38 Q1698.58 1453.77 1704.39 1453.77 Z\" fill=\"#000000\" fill-rule=\"evenodd\" fill-opacity=\"1\" /><path clip-path=\"url(#clip930)\" d=\"M1726.36 1445.99 Q1723.8 1445.99 1722.29 1447.74 Q1720.81 1449.49 1720.81 1452.54 Q1720.81 1455.57 1722.29 1457.33 Q1723.8 1459.08 1726.36 1459.08 Q1728.91 1459.08 1730.4 1457.33 Q1731.9 1455.57 1731.9 1452.54 Q1731.9 1449.49 1730.4 1447.74 Q1728.91 1445.99 1726.36 1445.99 M1733.9 1434.09 L1733.9 1437.55 Q1732.47 1436.87 1731 1436.51 Q1729.55 1436.16 1728.12 1436.16 Q1724.36 1436.16 1722.37 1438.69 Q1720.39 1441.23 1720.11 1446.37 Q1721.22 1444.73 1722.89 1443.87 Q1724.57 1442.98 1726.58 1442.98 Q1730.81 1442.98 1733.26 1445.56 Q1735.72 1448.12 1735.72 1452.54 Q1735.72 1456.86 1733.16 1459.48 Q1730.61 1462.09 1726.36 1462.09 Q1721.48 1462.09 1718.91 1458.37 Q1716.33 1454.62 1716.33 1447.53 Q1716.33 1440.88 1719.49 1436.93 Q1722.65 1432.96 1727.97 1432.96 Q1729.4 1432.96 1730.85 1433.24 Q1732.32 1433.52 1733.9 1434.09 Z\" fill=\"#000000\" fill-rule=\"evenodd\" fill-opacity=\"1\" /><path clip-path=\"url(#clip930)\" d=\"M2185.58 1485.02 L2193.22 1485.02 L2193.22 1458.66 L2184.91 1460.32 L2184.91 1456.06 L2193.18 1454.4 L2197.85 1454.4 L2197.85 1485.02 L2205.49 1485.02 L2205.49 1488.96 L2185.58 1488.96 L2185.58 1485.02 Z\" fill=\"#000000\" fill-rule=\"evenodd\" fill-opacity=\"1\" /><path clip-path=\"url(#clip930)\" d=\"M2214.94 1483.08 L2219.82 1483.08 L2219.82 1488.96 L2214.94 1488.96 L2214.94 1483.08 Z\" fill=\"#000000\" fill-rule=\"evenodd\" fill-opacity=\"1\" /><path clip-path=\"url(#clip930)\" d=\"M2230.05 1454.4 L2248.41 1454.4 L2248.41 1458.33 L2234.33 1458.33 L2234.33 1466.8 Q2235.35 1466.46 2236.37 1466.29 Q2237.39 1466.11 2238.41 1466.11 Q2244.2 1466.11 2247.58 1469.28 Q2250.95 1472.45 2250.95 1477.87 Q2250.95 1483.45 2247.48 1486.55 Q2244.01 1489.63 2237.69 1489.63 Q2235.52 1489.63 2233.25 1489.26 Q2231 1488.89 2228.59 1488.15 L2228.59 1483.45 Q2230.68 1484.58 2232.9 1485.14 Q2235.12 1485.69 2237.6 1485.69 Q2241.6 1485.69 2243.94 1483.59 Q2246.28 1481.48 2246.28 1477.87 Q2246.28 1474.26 2243.94 1472.15 Q2241.6 1470.04 2237.6 1470.04 Q2235.72 1470.04 2233.85 1470.46 Q2232 1470.88 2230.05 1471.76 L2230.05 1454.4 Z\" fill=\"#000000\" fill-rule=\"evenodd\" fill-opacity=\"1\" /><path clip-path=\"url(#clip930)\" d=\"M2270.17 1457.48 Q2266.56 1457.48 2264.73 1461.04 Q2262.92 1464.58 2262.92 1471.71 Q2262.92 1478.82 2264.73 1482.38 Q2266.56 1485.92 2270.17 1485.92 Q2273.8 1485.92 2275.61 1482.38 Q2277.44 1478.82 2277.44 1471.71 Q2277.44 1464.58 2275.61 1461.04 Q2273.8 1457.48 2270.17 1457.48 M2270.17 1453.77 Q2275.98 1453.77 2279.03 1458.38 Q2282.11 1462.96 2282.11 1471.71 Q2282.11 1480.44 2279.03 1485.04 Q2275.98 1489.63 2270.17 1489.63 Q2264.36 1489.63 2261.28 1485.04 Q2258.22 1480.44 2258.22 1471.71 Q2258.22 1462.96 2261.28 1458.38 Q2264.36 1453.77 2270.17 1453.77 Z\" fill=\"#000000\" fill-rule=\"evenodd\" fill-opacity=\"1\" /><path clip-path=\"url(#clip930)\" d=\"M2318.5 1463.49 L2307.92 1474.12 L2318.5 1484.7 L2315.75 1487.5 L2305.12 1476.87 L2294.5 1487.5 L2291.76 1484.7 L2302.32 1474.12 L2291.76 1463.49 L2294.5 1460.69 L2305.12 1471.32 L2315.75 1460.69 L2318.5 1463.49 Z\" fill=\"#000000\" fill-rule=\"evenodd\" fill-opacity=\"1\" /><path clip-path=\"url(#clip930)\" d=\"M2330.86 1485.02 L2338.5 1485.02 L2338.5 1458.66 L2330.19 1460.32 L2330.19 1456.06 L2338.45 1454.4 L2343.13 1454.4 L2343.13 1485.02 L2350.77 1485.02 L2350.77 1488.96 L2330.86 1488.96 L2330.86 1485.02 Z\" fill=\"#000000\" fill-rule=\"evenodd\" fill-opacity=\"1\" /><path clip-path=\"url(#clip930)\" d=\"M2370.21 1457.48 Q2366.6 1457.48 2364.77 1461.04 Q2362.97 1464.58 2362.97 1471.71 Q2362.97 1478.82 2364.77 1482.38 Q2366.6 1485.92 2370.21 1485.92 Q2373.85 1485.92 2375.65 1482.38 Q2377.48 1478.82 2377.48 1471.71 Q2377.48 1464.58 2375.65 1461.04 Q2373.85 1457.48 2370.21 1457.48 M2370.21 1453.77 Q2376.02 1453.77 2379.08 1458.38 Q2382.16 1462.96 2382.16 1471.71 Q2382.16 1480.44 2379.08 1485.04 Q2376.02 1489.63 2370.21 1489.63 Q2364.4 1489.63 2361.32 1485.04 Q2358.27 1480.44 2358.27 1471.71 Q2358.27 1462.96 2361.32 1458.38 Q2364.4 1453.77 2370.21 1453.77 Z\" fill=\"#000000\" fill-rule=\"evenodd\" fill-opacity=\"1\" /><path clip-path=\"url(#clip930)\" d=\"M2392.18 1445.99 Q2389.62 1445.99 2388.12 1447.74 Q2386.63 1449.49 2386.63 1452.54 Q2386.63 1455.57 2388.12 1457.33 Q2389.62 1459.08 2392.18 1459.08 Q2394.74 1459.08 2396.23 1457.33 Q2397.73 1455.57 2397.73 1452.54 Q2397.73 1449.49 2396.23 1447.74 Q2394.74 1445.99 2392.18 1445.99 M2399.72 1434.09 L2399.72 1437.55 Q2398.29 1436.87 2396.83 1436.51 Q2395.38 1436.16 2393.95 1436.16 Q2390.19 1436.16 2388.2 1438.69 Q2386.22 1441.23 2385.94 1446.37 Q2387.05 1444.73 2388.72 1443.87 Q2390.4 1442.98 2392.41 1442.98 Q2396.64 1442.98 2399.08 1445.56 Q2401.55 1448.12 2401.55 1452.54 Q2401.55 1456.86 2398.99 1459.48 Q2396.43 1462.09 2392.18 1462.09 Q2387.31 1462.09 2384.73 1458.37 Q2382.16 1454.62 2382.16 1447.53 Q2382.16 1440.88 2385.32 1436.93 Q2388.48 1432.96 2393.8 1432.96 Q2395.23 1432.96 2396.68 1433.24 Q2398.14 1433.52 2399.72 1434.09 Z\" fill=\"#000000\" fill-rule=\"evenodd\" fill-opacity=\"1\" /><path clip-path=\"url(#clip930)\" d=\"M1150.71 1526.67 L1157.14 1526.67 L1157.14 1574.19 L1150.71 1574.19 L1150.71 1526.67 Z\" fill=\"#000000\" fill-rule=\"evenodd\" fill-opacity=\"1\" /><path clip-path=\"url(#clip930)\" d=\"M1175.47 1528.42 L1175.47 1538.54 L1187.54 1538.54 L1187.54 1543.09 L1175.47 1543.09 L1175.47 1562.44 Q1175.47 1566.8 1176.65 1568.04 Q1177.86 1569.28 1181.52 1569.28 L1187.54 1569.28 L1187.54 1574.19 L1181.52 1574.19 Q1174.74 1574.19 1172.16 1571.67 Q1169.59 1569.12 1169.59 1562.44 L1169.59 1543.09 L1165.29 1543.09 L1165.29 1538.54 L1169.59 1538.54 L1169.59 1528.42 L1175.47 1528.42 Z\" fill=\"#000000\" fill-rule=\"evenodd\" fill-opacity=\"1\" /><path clip-path=\"url(#clip930)\" d=\"M1225.73 1554.9 L1225.73 1557.76 L1198.8 1557.76 Q1199.19 1563.81 1202.43 1566.99 Q1205.71 1570.14 1211.54 1570.14 Q1214.91 1570.14 1218.06 1569.32 Q1221.24 1568.49 1224.36 1566.83 L1224.36 1572.37 Q1221.21 1573.71 1217.9 1574.41 Q1214.59 1575.11 1211.19 1575.11 Q1202.66 1575.11 1197.66 1570.14 Q1192.69 1565.18 1192.69 1556.71 Q1192.69 1547.96 1197.4 1542.83 Q1202.15 1537.68 1210.17 1537.68 Q1217.36 1537.68 1221.53 1542.33 Q1225.73 1546.94 1225.73 1554.9 M1219.87 1553.18 Q1219.81 1548.37 1217.17 1545.51 Q1214.56 1542.64 1210.23 1542.64 Q1205.33 1542.64 1202.37 1545.41 Q1199.44 1548.18 1199 1553.21 L1219.87 1553.18 Z\" fill=\"#000000\" fill-rule=\"evenodd\" fill-opacity=\"1\" /><path clip-path=\"url(#clip930)\" d=\"M1256 1544.01 Q1255.01 1543.44 1253.84 1543.18 Q1252.69 1542.9 1251.29 1542.9 Q1246.32 1542.9 1243.65 1546.14 Q1241.01 1549.36 1241.01 1555.41 L1241.01 1574.19 L1235.12 1574.19 L1235.12 1538.54 L1241.01 1538.54 L1241.01 1544.08 Q1242.86 1540.83 1245.82 1539.27 Q1248.78 1537.68 1253.01 1537.68 Q1253.61 1537.68 1254.35 1537.77 Q1255.08 1537.84 1255.97 1538 L1256 1544.01 Z\" fill=\"#000000\" fill-rule=\"evenodd\" fill-opacity=\"1\" /><path clip-path=\"url(#clip930)\" d=\"M1278.34 1556.27 Q1271.25 1556.27 1268.51 1557.89 Q1265.77 1559.51 1265.77 1563.43 Q1265.77 1566.55 1267.81 1568.39 Q1269.88 1570.21 1273.41 1570.21 Q1278.28 1570.21 1281.21 1566.77 Q1284.17 1563.3 1284.17 1557.57 L1284.17 1556.27 L1278.34 1556.27 M1290.02 1553.85 L1290.02 1574.19 L1284.17 1574.19 L1284.17 1568.77 Q1282.16 1572.02 1279.17 1573.58 Q1276.18 1575.11 1271.85 1575.11 Q1266.38 1575.11 1263.13 1572.05 Q1259.92 1568.97 1259.92 1563.81 Q1259.92 1557.79 1263.93 1554.74 Q1267.97 1551.68 1275.96 1551.68 L1284.17 1551.68 L1284.17 1551.11 Q1284.17 1547.07 1281.49 1544.87 Q1278.85 1542.64 1274.05 1542.64 Q1270.99 1542.64 1268.1 1543.38 Q1265.2 1544.11 1262.53 1545.57 L1262.53 1540.16 Q1265.74 1538.92 1268.76 1538.31 Q1271.79 1537.68 1274.65 1537.68 Q1282.39 1537.68 1286.21 1541.69 Q1290.02 1545.7 1290.02 1553.85 Z\" fill=\"#000000\" fill-rule=\"evenodd\" fill-opacity=\"1\" /><path clip-path=\"url(#clip930)\" d=\"M1307.88 1528.42 L1307.88 1538.54 L1319.94 1538.54 L1319.94 1543.09 L1307.88 1543.09 L1307.88 1562.44 Q1307.88 1566.8 1309.06 1568.04 Q1310.27 1569.28 1313.93 1569.28 L1319.94 1569.28 L1319.94 1574.19 L1313.93 1574.19 Q1307.15 1574.19 1304.57 1571.67 Q1301.99 1569.12 1301.99 1562.44 L1301.99 1543.09 L1297.7 1543.09 L1297.7 1538.54 L1301.99 1538.54 L1301.99 1528.42 L1307.88 1528.42 Z\" fill=\"#000000\" fill-rule=\"evenodd\" fill-opacity=\"1\" /><path clip-path=\"url(#clip930)\" d=\"M1327.65 1538.54 L1333.5 1538.54 L1333.5 1574.19 L1327.65 1574.19 L1327.65 1538.54 M1327.65 1524.66 L1333.5 1524.66 L1333.5 1532.08 L1327.65 1532.08 L1327.65 1524.66 Z\" fill=\"#000000\" fill-rule=\"evenodd\" fill-opacity=\"1\" /><path clip-path=\"url(#clip930)\" d=\"M1359.57 1542.64 Q1354.86 1542.64 1352.12 1546.34 Q1349.39 1550 1349.39 1556.39 Q1349.39 1562.79 1352.09 1566.48 Q1354.83 1570.14 1359.57 1570.14 Q1364.25 1570.14 1366.99 1566.45 Q1369.72 1562.76 1369.72 1556.39 Q1369.72 1550.06 1366.99 1546.37 Q1364.25 1542.64 1359.57 1542.64 M1359.57 1537.68 Q1367.21 1537.68 1371.57 1542.64 Q1375.93 1547.61 1375.93 1556.39 Q1375.93 1565.15 1371.57 1570.14 Q1367.21 1575.11 1359.57 1575.11 Q1351.9 1575.11 1347.54 1570.14 Q1343.21 1565.15 1343.21 1556.39 Q1343.21 1547.61 1347.54 1542.64 Q1351.9 1537.68 1359.57 1537.68 Z\" fill=\"#000000\" fill-rule=\"evenodd\" fill-opacity=\"1\" /><path clip-path=\"url(#clip930)\" d=\"M1415.27 1552.67 L1415.27 1574.19 L1409.41 1574.19 L1409.41 1552.86 Q1409.41 1547.8 1407.44 1545.29 Q1405.47 1542.77 1401.52 1542.77 Q1396.78 1542.77 1394.04 1545.79 Q1391.3 1548.82 1391.3 1554.04 L1391.3 1574.19 L1385.42 1574.19 L1385.42 1538.54 L1391.3 1538.54 L1391.3 1544.08 Q1393.4 1540.86 1396.24 1539.27 Q1399.1 1537.68 1402.83 1537.68 Q1408.97 1537.68 1412.12 1541.5 Q1415.27 1545.29 1415.27 1552.67 Z\" fill=\"#000000\" fill-rule=\"evenodd\" fill-opacity=\"1\" /><path clip-path=\"url(#clip930)\" d=\"M1449.68 1539.59 L1449.68 1545.13 Q1447.19 1543.85 1444.52 1543.22 Q1441.85 1542.58 1438.98 1542.58 Q1434.62 1542.58 1432.43 1543.92 Q1430.26 1545.25 1430.26 1547.93 Q1430.26 1549.96 1431.82 1551.14 Q1433.38 1552.29 1438.09 1553.34 L1440.1 1553.78 Q1446.33 1555.12 1448.94 1557.57 Q1451.59 1559.99 1451.59 1564.35 Q1451.59 1569.32 1447.64 1572.21 Q1443.72 1575.11 1436.85 1575.11 Q1433.99 1575.11 1430.87 1574.54 Q1427.78 1573.99 1424.34 1572.88 L1424.34 1566.83 Q1427.59 1568.52 1430.74 1569.38 Q1433.89 1570.21 1436.98 1570.21 Q1441.11 1570.21 1443.34 1568.81 Q1445.57 1567.37 1445.57 1564.8 Q1445.57 1562.41 1443.95 1561.14 Q1442.36 1559.86 1436.91 1558.68 L1434.88 1558.21 Q1429.43 1557.06 1427.01 1554.71 Q1424.6 1552.32 1424.6 1548.18 Q1424.6 1543.15 1428.16 1540.42 Q1431.73 1537.68 1438.28 1537.68 Q1441.53 1537.68 1444.39 1538.16 Q1447.26 1538.63 1449.68 1539.59 Z\" fill=\"#000000\" fill-rule=\"evenodd\" fill-opacity=\"1\" /><polyline clip-path=\"url(#clip932)\" style=\"stroke:#000000; stroke-linecap:round; stroke-linejoin:round; stroke-width:2; stroke-opacity:0.1; fill:none\" points=\"\n",
       "  249.542,1348.91 2352.76,1348.91 \n",
       "  \"/>\n",
       "<polyline clip-path=\"url(#clip932)\" style=\"stroke:#000000; stroke-linecap:round; stroke-linejoin:round; stroke-width:2; stroke-opacity:0.1; fill:none\" points=\"\n",
       "  249.542,1038.99 2352.76,1038.99 \n",
       "  \"/>\n",
       "<polyline clip-path=\"url(#clip932)\" style=\"stroke:#000000; stroke-linecap:round; stroke-linejoin:round; stroke-width:2; stroke-opacity:0.1; fill:none\" points=\"\n",
       "  249.542,729.07 2352.76,729.07 \n",
       "  \"/>\n",
       "<polyline clip-path=\"url(#clip932)\" style=\"stroke:#000000; stroke-linecap:round; stroke-linejoin:round; stroke-width:2; stroke-opacity:0.1; fill:none\" points=\"\n",
       "  249.542,419.149 2352.76,419.149 \n",
       "  \"/>\n",
       "<polyline clip-path=\"url(#clip932)\" style=\"stroke:#000000; stroke-linecap:round; stroke-linejoin:round; stroke-width:2; stroke-opacity:0.1; fill:none\" points=\"\n",
       "  249.542,109.228 2352.76,109.228 \n",
       "  \"/>\n",
       "<polyline clip-path=\"url(#clip930)\" style=\"stroke:#000000; stroke-linecap:round; stroke-linejoin:round; stroke-width:4; stroke-opacity:1; fill:none\" points=\"\n",
       "  249.542,1410.9 249.542,47.2441 \n",
       "  \"/>\n",
       "<polyline clip-path=\"url(#clip930)\" style=\"stroke:#000000; stroke-linecap:round; stroke-linejoin:round; stroke-width:4; stroke-opacity:1; fill:none\" points=\"\n",
       "  249.542,1348.91 268.44,1348.91 \n",
       "  \"/>\n",
       "<polyline clip-path=\"url(#clip930)\" style=\"stroke:#000000; stroke-linecap:round; stroke-linejoin:round; stroke-width:4; stroke-opacity:1; fill:none\" points=\"\n",
       "  249.542,1038.99 268.44,1038.99 \n",
       "  \"/>\n",
       "<polyline clip-path=\"url(#clip930)\" style=\"stroke:#000000; stroke-linecap:round; stroke-linejoin:round; stroke-width:4; stroke-opacity:1; fill:none\" points=\"\n",
       "  249.542,729.07 268.44,729.07 \n",
       "  \"/>\n",
       "<polyline clip-path=\"url(#clip930)\" style=\"stroke:#000000; stroke-linecap:round; stroke-linejoin:round; stroke-width:4; stroke-opacity:1; fill:none\" points=\"\n",
       "  249.542,419.149 268.44,419.149 \n",
       "  \"/>\n",
       "<polyline clip-path=\"url(#clip930)\" style=\"stroke:#000000; stroke-linecap:round; stroke-linejoin:round; stroke-width:4; stroke-opacity:1; fill:none\" points=\"\n",
       "  249.542,109.228 268.44,109.228 \n",
       "  \"/>\n",
       "<path clip-path=\"url(#clip930)\" d=\"M126.205 1334.71 Q122.593 1334.71 120.765 1338.28 Q118.959 1341.82 118.959 1348.95 Q118.959 1356.05 120.765 1359.62 Q122.593 1363.16 126.205 1363.16 Q129.839 1363.16 131.644 1359.62 Q133.473 1356.05 133.473 1348.95 Q133.473 1341.82 131.644 1338.28 Q129.839 1334.71 126.205 1334.71 M126.205 1331.01 Q132.015 1331.01 135.07 1335.61 Q138.149 1340.2 138.149 1348.95 Q138.149 1357.67 135.07 1362.28 Q132.015 1366.86 126.205 1366.86 Q120.394 1366.86 117.316 1362.28 Q114.26 1357.67 114.26 1348.95 Q114.26 1340.2 117.316 1335.61 Q120.394 1331.01 126.205 1331.01 Z\" fill=\"#000000\" fill-rule=\"evenodd\" fill-opacity=\"1\" /><path clip-path=\"url(#clip930)\" d=\"M146.366 1360.31 L151.251 1360.31 L151.251 1366.19 L146.366 1366.19 L146.366 1360.31 Z\" fill=\"#000000\" fill-rule=\"evenodd\" fill-opacity=\"1\" /><path clip-path=\"url(#clip930)\" d=\"M171.436 1334.71 Q167.825 1334.71 165.996 1338.28 Q164.19 1341.82 164.19 1348.95 Q164.19 1356.05 165.996 1359.62 Q167.825 1363.16 171.436 1363.16 Q175.07 1363.16 176.876 1359.62 Q178.704 1356.05 178.704 1348.95 Q178.704 1341.82 176.876 1338.28 Q175.07 1334.71 171.436 1334.71 M171.436 1331.01 Q177.246 1331.01 180.301 1335.61 Q183.38 1340.2 183.38 1348.95 Q183.38 1357.67 180.301 1362.28 Q177.246 1366.86 171.436 1366.86 Q165.626 1366.86 162.547 1362.28 Q159.491 1357.67 159.491 1348.95 Q159.491 1340.2 162.547 1335.61 Q165.626 1331.01 171.436 1331.01 Z\" fill=\"#000000\" fill-rule=\"evenodd\" fill-opacity=\"1\" /><path clip-path=\"url(#clip930)\" d=\"M201.598 1334.71 Q197.987 1334.71 196.158 1338.28 Q194.352 1341.82 194.352 1348.95 Q194.352 1356.05 196.158 1359.62 Q197.987 1363.16 201.598 1363.16 Q205.232 1363.16 207.037 1359.62 Q208.866 1356.05 208.866 1348.95 Q208.866 1341.82 207.037 1338.28 Q205.232 1334.71 201.598 1334.71 M201.598 1331.01 Q207.408 1331.01 210.463 1335.61 Q213.542 1340.2 213.542 1348.95 Q213.542 1357.67 210.463 1362.28 Q207.408 1366.86 201.598 1366.86 Q195.787 1366.86 192.709 1362.28 Q189.653 1357.67 189.653 1348.95 Q189.653 1340.2 192.709 1335.61 Q195.787 1331.01 201.598 1331.01 Z\" fill=\"#000000\" fill-rule=\"evenodd\" fill-opacity=\"1\" /><path clip-path=\"url(#clip930)\" d=\"M127.2 1024.79 Q123.589 1024.79 121.76 1028.35 Q119.955 1031.9 119.955 1039.03 Q119.955 1046.13 121.76 1049.7 Q123.589 1053.24 127.2 1053.24 Q130.834 1053.24 132.64 1049.7 Q134.468 1046.13 134.468 1039.03 Q134.468 1031.9 132.64 1028.35 Q130.834 1024.79 127.2 1024.79 M127.2 1021.09 Q133.01 1021.09 136.066 1025.69 Q139.144 1030.28 139.144 1039.03 Q139.144 1047.75 136.066 1052.36 Q133.01 1056.94 127.2 1056.94 Q121.39 1056.94 118.311 1052.36 Q115.256 1047.75 115.256 1039.03 Q115.256 1030.28 118.311 1025.69 Q121.39 1021.09 127.2 1021.09 Z\" fill=\"#000000\" fill-rule=\"evenodd\" fill-opacity=\"1\" /><path clip-path=\"url(#clip930)\" d=\"M147.362 1050.39 L152.246 1050.39 L152.246 1056.27 L147.362 1056.27 L147.362 1050.39 Z\" fill=\"#000000\" fill-rule=\"evenodd\" fill-opacity=\"1\" /><path clip-path=\"url(#clip930)\" d=\"M166.459 1052.34 L182.778 1052.34 L182.778 1056.27 L160.834 1056.27 L160.834 1052.34 Q163.496 1049.58 168.079 1044.95 Q172.686 1040.3 173.866 1038.96 Q176.112 1036.43 176.991 1034.7 Q177.894 1032.94 177.894 1031.25 Q177.894 1028.49 175.95 1026.76 Q174.028 1025.02 170.927 1025.02 Q168.727 1025.02 166.274 1025.79 Q163.843 1026.55 161.065 1028.1 L161.065 1023.38 Q163.89 1022.24 166.343 1021.67 Q168.797 1021.09 170.834 1021.09 Q176.204 1021.09 179.399 1023.77 Q182.593 1026.46 182.593 1030.95 Q182.593 1033.08 181.783 1035 Q180.996 1036.9 178.889 1039.49 Q178.311 1040.16 175.209 1043.38 Q172.107 1046.57 166.459 1052.34 Z\" fill=\"#000000\" fill-rule=\"evenodd\" fill-opacity=\"1\" /><path clip-path=\"url(#clip930)\" d=\"M192.639 1021.71 L210.996 1021.71 L210.996 1025.65 L196.922 1025.65 L196.922 1034.12 Q197.94 1033.77 198.959 1033.61 Q199.977 1033.42 200.996 1033.42 Q206.783 1033.42 210.162 1036.6 Q213.542 1039.77 213.542 1045.18 Q213.542 1050.76 210.07 1053.86 Q206.598 1056.94 200.278 1056.94 Q198.102 1056.94 195.834 1056.57 Q193.588 1056.2 191.181 1055.46 L191.181 1050.76 Q193.264 1051.9 195.487 1052.45 Q197.709 1053.01 200.186 1053.01 Q204.19 1053.01 206.528 1050.9 Q208.866 1048.79 208.866 1045.18 Q208.866 1041.57 206.528 1039.47 Q204.19 1037.36 200.186 1037.36 Q198.311 1037.36 196.436 1037.78 Q194.584 1038.19 192.639 1039.07 L192.639 1021.71 Z\" fill=\"#000000\" fill-rule=\"evenodd\" fill-opacity=\"1\" /><path clip-path=\"url(#clip930)\" d=\"M126.205 714.869 Q122.593 714.869 120.765 718.434 Q118.959 721.975 118.959 729.105 Q118.959 736.212 120.765 739.776 Q122.593 743.318 126.205 743.318 Q129.839 743.318 131.644 739.776 Q133.473 736.212 133.473 729.105 Q133.473 721.975 131.644 718.434 Q129.839 714.869 126.205 714.869 M126.205 711.165 Q132.015 711.165 135.07 715.772 Q138.149 720.355 138.149 729.105 Q138.149 737.832 135.07 742.438 Q132.015 747.022 126.205 747.022 Q120.394 747.022 117.316 742.438 Q114.26 737.832 114.26 729.105 Q114.26 720.355 117.316 715.772 Q120.394 711.165 126.205 711.165 Z\" fill=\"#000000\" fill-rule=\"evenodd\" fill-opacity=\"1\" /><path clip-path=\"url(#clip930)\" d=\"M146.366 740.471 L151.251 740.471 L151.251 746.35 L146.366 746.35 L146.366 740.471 Z\" fill=\"#000000\" fill-rule=\"evenodd\" fill-opacity=\"1\" /><path clip-path=\"url(#clip930)\" d=\"M161.482 711.79 L179.839 711.79 L179.839 715.726 L165.765 715.726 L165.765 724.198 Q166.783 723.85 167.802 723.688 Q168.82 723.503 169.839 723.503 Q175.626 723.503 179.005 726.675 Q182.385 729.846 182.385 735.262 Q182.385 740.841 178.913 743.943 Q175.44 747.022 169.121 747.022 Q166.945 747.022 164.677 746.651 Q162.431 746.281 160.024 745.54 L160.024 740.841 Q162.107 741.975 164.329 742.531 Q166.552 743.086 169.028 743.086 Q173.033 743.086 175.371 740.98 Q177.709 738.874 177.709 735.262 Q177.709 731.651 175.371 729.545 Q173.033 727.438 169.028 727.438 Q167.153 727.438 165.278 727.855 Q163.427 728.272 161.482 729.151 L161.482 711.79 Z\" fill=\"#000000\" fill-rule=\"evenodd\" fill-opacity=\"1\" /><path clip-path=\"url(#clip930)\" d=\"M201.598 714.869 Q197.987 714.869 196.158 718.434 Q194.352 721.975 194.352 729.105 Q194.352 736.212 196.158 739.776 Q197.987 743.318 201.598 743.318 Q205.232 743.318 207.037 739.776 Q208.866 736.212 208.866 729.105 Q208.866 721.975 207.037 718.434 Q205.232 714.869 201.598 714.869 M201.598 711.165 Q207.408 711.165 210.463 715.772 Q213.542 720.355 213.542 729.105 Q213.542 737.832 210.463 742.438 Q207.408 747.022 201.598 747.022 Q195.787 747.022 192.709 742.438 Q189.653 737.832 189.653 729.105 Q189.653 720.355 192.709 715.772 Q195.787 711.165 201.598 711.165 Z\" fill=\"#000000\" fill-rule=\"evenodd\" fill-opacity=\"1\" /><path clip-path=\"url(#clip930)\" d=\"M127.2 404.948 Q123.589 404.948 121.76 408.513 Q119.955 412.054 119.955 419.184 Q119.955 426.291 121.76 429.855 Q123.589 433.397 127.2 433.397 Q130.834 433.397 132.64 429.855 Q134.468 426.291 134.468 419.184 Q134.468 412.054 132.64 408.513 Q130.834 404.948 127.2 404.948 M127.2 401.244 Q133.01 401.244 136.066 405.851 Q139.144 410.434 139.144 419.184 Q139.144 427.911 136.066 432.517 Q133.01 437.101 127.2 437.101 Q121.39 437.101 118.311 432.517 Q115.256 427.911 115.256 419.184 Q115.256 410.434 118.311 405.851 Q121.39 401.244 127.2 401.244 Z\" fill=\"#000000\" fill-rule=\"evenodd\" fill-opacity=\"1\" /><path clip-path=\"url(#clip930)\" d=\"M147.362 430.55 L152.246 430.55 L152.246 436.429 L147.362 436.429 L147.362 430.55 Z\" fill=\"#000000\" fill-rule=\"evenodd\" fill-opacity=\"1\" /><path clip-path=\"url(#clip930)\" d=\"M161.251 401.869 L183.473 401.869 L183.473 403.86 L170.927 436.429 L166.042 436.429 L177.848 405.804 L161.251 405.804 L161.251 401.869 Z\" fill=\"#000000\" fill-rule=\"evenodd\" fill-opacity=\"1\" /><path clip-path=\"url(#clip930)\" d=\"M192.639 401.869 L210.996 401.869 L210.996 405.804 L196.922 405.804 L196.922 414.277 Q197.94 413.929 198.959 413.767 Q199.977 413.582 200.996 413.582 Q206.783 413.582 210.162 416.754 Q213.542 419.925 213.542 425.341 Q213.542 430.92 210.07 434.022 Q206.598 437.101 200.278 437.101 Q198.102 437.101 195.834 436.73 Q193.588 436.36 191.181 435.619 L191.181 430.92 Q193.264 432.054 195.487 432.61 Q197.709 433.165 200.186 433.165 Q204.19 433.165 206.528 431.059 Q208.866 428.953 208.866 425.341 Q208.866 421.73 206.528 419.624 Q204.19 417.517 200.186 417.517 Q198.311 417.517 196.436 417.934 Q194.584 418.351 192.639 419.23 L192.639 401.869 Z\" fill=\"#000000\" fill-rule=\"evenodd\" fill-opacity=\"1\" /><path clip-path=\"url(#clip930)\" d=\"M117.015 122.573 L124.654 122.573 L124.654 96.2075 L116.343 97.8742 L116.343 93.615 L124.607 91.9483 L129.283 91.9483 L129.283 122.573 L136.922 122.573 L136.922 126.508 L117.015 126.508 L117.015 122.573 Z\" fill=\"#000000\" fill-rule=\"evenodd\" fill-opacity=\"1\" /><path clip-path=\"url(#clip930)\" d=\"M146.366 120.629 L151.251 120.629 L151.251 126.508 L146.366 126.508 L146.366 120.629 Z\" fill=\"#000000\" fill-rule=\"evenodd\" fill-opacity=\"1\" /><path clip-path=\"url(#clip930)\" d=\"M171.436 95.027 Q167.825 95.027 165.996 98.5918 Q164.19 102.133 164.19 109.263 Q164.19 116.369 165.996 119.934 Q167.825 123.476 171.436 123.476 Q175.07 123.476 176.876 119.934 Q178.704 116.369 178.704 109.263 Q178.704 102.133 176.876 98.5918 Q175.07 95.027 171.436 95.027 M171.436 91.3233 Q177.246 91.3233 180.301 95.9298 Q183.38 100.513 183.38 109.263 Q183.38 117.99 180.301 122.596 Q177.246 127.18 171.436 127.18 Q165.626 127.18 162.547 122.596 Q159.491 117.99 159.491 109.263 Q159.491 100.513 162.547 95.9298 Q165.626 91.3233 171.436 91.3233 Z\" fill=\"#000000\" fill-rule=\"evenodd\" fill-opacity=\"1\" /><path clip-path=\"url(#clip930)\" d=\"M201.598 95.027 Q197.987 95.027 196.158 98.5918 Q194.352 102.133 194.352 109.263 Q194.352 116.369 196.158 119.934 Q197.987 123.476 201.598 123.476 Q205.232 123.476 207.037 119.934 Q208.866 116.369 208.866 109.263 Q208.866 102.133 207.037 98.5918 Q205.232 95.027 201.598 95.027 M201.598 91.3233 Q207.408 91.3233 210.463 95.9298 Q213.542 100.513 213.542 109.263 Q213.542 117.99 210.463 122.596 Q207.408 127.18 201.598 127.18 Q195.787 127.18 192.709 122.596 Q189.653 117.99 189.653 109.263 Q189.653 100.513 192.709 95.9298 Q195.787 91.3233 201.598 91.3233 Z\" fill=\"#000000\" fill-rule=\"evenodd\" fill-opacity=\"1\" /><path clip-path=\"url(#clip930)\" d=\"M18.0438 910.891 L24.314 910.891 Q22.5634 914.551 21.704 917.798 Q20.8447 921.044 20.8447 924.068 Q20.8447 929.32 22.8817 932.184 Q24.9187 935.017 28.6745 935.017 Q31.8255 935.017 33.4488 933.139 Q35.0402 931.229 36.0269 925.946 L36.8226 922.063 Q38.1912 914.869 41.6605 911.464 Q45.098 908.026 50.8908 908.026 Q57.7976 908.026 61.3624 912.673 Q64.9272 917.288 64.9272 926.232 Q64.9272 929.606 64.1633 933.425 Q63.3994 937.213 61.9035 941.287 L55.2831 941.287 Q57.4793 937.372 58.5933 933.616 Q59.7073 929.861 59.7073 926.232 Q59.7073 920.726 57.543 917.734 Q55.3786 914.742 51.3682 914.742 Q47.8671 914.742 45.8937 916.906 Q43.9204 919.039 42.9337 923.941 L42.1698 927.855 Q40.7375 935.049 37.682 938.263 Q34.6264 941.478 29.1837 941.478 Q22.8817 941.478 19.2532 937.054 Q15.6248 932.598 15.6248 924.8 Q15.6248 921.458 16.2295 917.989 Q16.8343 914.519 18.0438 910.891 Z\" fill=\"#000000\" fill-rule=\"evenodd\" fill-opacity=\"1\" /><path clip-path=\"url(#clip930)\" d=\"M49.9359 898.86 L28.3562 898.86 L28.3562 893.003 L49.7131 893.003 Q54.7739 893.003 57.3202 891.03 Q59.8346 889.056 59.8346 885.11 Q59.8346 880.367 56.8109 877.63 Q53.7872 874.861 48.5673 874.861 L28.3562 874.861 L28.3562 869.005 L64.0042 869.005 L64.0042 874.861 L58.5296 874.861 Q61.7762 876.993 63.3676 879.826 Q64.9272 882.627 64.9272 886.351 Q64.9272 892.494 61.1078 895.677 Q57.2883 898.86 49.9359 898.86 M27.4968 884.123 L27.4968 884.123 Z\" fill=\"#000000\" fill-rule=\"evenodd\" fill-opacity=\"1\" /><path clip-path=\"url(#clip930)\" d=\"M29.7248 831.288 L35.1993 831.288 Q33.8307 833.77 33.1623 836.285 Q32.4621 838.767 32.4621 841.314 Q32.4621 847.011 36.0905 850.162 Q39.6872 853.313 46.212 853.313 Q52.7369 853.313 56.3653 850.162 Q59.9619 847.011 59.9619 841.314 Q59.9619 838.767 59.2935 836.285 Q58.5933 833.77 57.2247 831.288 L62.6355 831.288 Q63.7814 833.738 64.3543 836.38 Q64.9272 838.99 64.9272 841.95 Q64.9272 850.003 59.8664 854.745 Q54.8057 859.488 46.212 859.488 Q37.491 859.488 32.4939 854.714 Q27.4968 849.907 27.4968 841.568 Q27.4968 838.863 28.0697 836.285 Q28.6108 833.707 29.7248 831.288 Z\" fill=\"#000000\" fill-rule=\"evenodd\" fill-opacity=\"1\" /><path clip-path=\"url(#clip930)\" d=\"M29.7248 795.449 L35.1993 795.449 Q33.8307 797.931 33.1623 800.446 Q32.4621 802.928 32.4621 805.475 Q32.4621 811.172 36.0905 814.323 Q39.6872 817.474 46.212 817.474 Q52.7369 817.474 56.3653 814.323 Q59.9619 811.172 59.9619 805.475 Q59.9619 802.928 59.2935 800.446 Q58.5933 797.931 57.2247 795.449 L62.6355 795.449 Q63.7814 797.9 64.3543 800.541 Q64.9272 803.151 64.9272 806.111 Q64.9272 814.164 59.8664 818.906 Q54.8057 823.649 46.212 823.649 Q37.491 823.649 32.4939 818.875 Q27.4968 814.068 27.4968 805.729 Q27.4968 803.024 28.0697 800.446 Q28.6108 797.868 29.7248 795.449 Z\" fill=\"#000000\" fill-rule=\"evenodd\" fill-opacity=\"1\" /><path clip-path=\"url(#clip930)\" d=\"M44.7161 754.772 L47.5806 754.772 L47.5806 781.699 Q53.6281 781.317 56.8109 778.07 Q59.9619 774.792 59.9619 768.967 Q59.9619 765.594 59.1344 762.443 Q58.3069 759.26 56.6518 756.141 L62.1899 756.141 Q63.5267 759.292 64.227 762.602 Q64.9272 765.912 64.9272 769.318 Q64.9272 777.848 59.9619 782.845 Q54.9967 787.81 46.5303 787.81 Q37.7774 787.81 32.6531 783.099 Q27.4968 778.357 27.4968 770.336 Q27.4968 763.143 32.1438 758.973 Q36.7589 754.772 44.7161 754.772 M42.9973 760.628 Q38.1912 760.692 35.3266 763.334 Q32.4621 765.944 32.4621 770.272 Q32.4621 775.174 35.2312 778.134 Q38.0002 781.062 43.0292 781.508 L42.9973 760.628 Z\" fill=\"#000000\" fill-rule=\"evenodd\" fill-opacity=\"1\" /><path clip-path=\"url(#clip930)\" d=\"M29.4065 722.434 L34.9447 722.434 Q33.6716 724.917 33.035 727.59 Q32.3984 730.264 32.3984 733.129 Q32.3984 737.489 33.7352 739.685 Q35.072 741.85 37.7456 741.85 Q39.7826 741.85 40.9603 740.29 Q42.1061 738.73 43.1565 734.02 L43.6021 732.015 Q44.9389 725.776 47.3897 723.166 Q49.8086 720.524 54.1691 720.524 Q59.1344 720.524 62.0308 724.471 Q64.9272 728.386 64.9272 735.261 Q64.9272 738.126 64.3543 741.245 Q63.8132 744.332 62.6992 747.77 L56.6518 747.77 Q58.3387 744.523 59.198 741.372 Q60.0256 738.221 60.0256 735.134 Q60.0256 730.996 58.6251 728.768 Q57.1929 726.54 54.6147 726.54 Q52.2276 726.54 50.9545 728.163 Q49.6813 729.755 48.5037 735.197 L48.0262 737.234 Q46.8804 742.677 44.5251 745.096 Q42.138 747.515 38.0002 747.515 Q32.9713 747.515 30.2341 743.95 Q27.4968 740.385 27.4968 733.829 Q27.4968 730.582 27.9743 727.718 Q28.4517 724.853 29.4065 722.434 Z\" fill=\"#000000\" fill-rule=\"evenodd\" fill-opacity=\"1\" /><path clip-path=\"url(#clip930)\" d=\"M29.4065 688.473 L34.9447 688.473 Q33.6716 690.956 33.035 693.629 Q32.3984 696.303 32.3984 699.167 Q32.3984 703.528 33.7352 705.724 Q35.072 707.888 37.7456 707.888 Q39.7826 707.888 40.9603 706.329 Q42.1061 704.769 43.1565 700.059 L43.6021 698.053 Q44.9389 691.815 47.3897 689.205 Q49.8086 686.563 54.1691 686.563 Q59.1344 686.563 62.0308 690.51 Q64.9272 694.425 64.9272 701.3 Q64.9272 704.165 64.3543 707.284 Q63.8132 710.371 62.6992 713.809 L56.6518 713.809 Q58.3387 710.562 59.198 707.411 Q60.0256 704.26 60.0256 701.173 Q60.0256 697.035 58.6251 694.807 Q57.1929 692.579 54.6147 692.579 Q52.2276 692.579 50.9545 694.202 Q49.6813 695.794 48.5037 701.236 L48.0262 703.273 Q46.8804 708.716 44.5251 711.135 Q42.138 713.554 38.0002 713.554 Q32.9713 713.554 30.2341 709.989 Q27.4968 706.424 27.4968 699.868 Q27.4968 696.621 27.9743 693.757 Q28.4517 690.892 29.4065 688.473 Z\" fill=\"#000000\" fill-rule=\"evenodd\" fill-opacity=\"1\" /><path clip-path=\"url(#clip930)\" d=\"M41.7242 633.728 Q42.4244 631.659 44.7161 629.718 Q47.0077 627.744 51.0181 625.771 L64.0042 619.246 L64.0042 626.153 L51.8138 632.232 Q47.0395 634.587 45.48 636.815 Q43.9204 639.012 43.9204 642.831 L43.9204 649.833 L64.0042 649.833 L64.0042 656.263 L16.4842 656.263 L16.4842 641.749 Q16.4842 633.601 19.8898 629.59 Q23.2955 625.58 30.1704 625.58 Q34.6582 625.58 37.6183 627.681 Q40.5784 629.749 41.7242 633.728 M21.7677 649.833 L38.6368 649.833 L38.6368 641.749 Q38.6368 637.102 36.5043 634.747 Q34.34 632.359 30.1704 632.359 Q26.0009 632.359 23.9002 634.747 Q21.7677 637.102 21.7677 641.749 L21.7677 649.833 Z\" fill=\"#000000\" fill-rule=\"evenodd\" fill-opacity=\"1\" /><path clip-path=\"url(#clip930)\" d=\"M46.0847 596.457 Q46.0847 603.555 47.7079 606.292 Q49.3312 609.029 53.2461 609.029 Q56.3653 609.029 58.2114 606.992 Q60.0256 604.923 60.0256 601.39 Q60.0256 596.52 56.5881 593.592 Q53.1188 590.632 47.3897 590.632 L46.0847 590.632 L46.0847 596.457 M43.6657 584.776 L64.0042 584.776 L64.0042 590.632 L58.5933 590.632 Q61.8398 592.637 63.3994 595.629 Q64.9272 598.621 64.9272 602.95 Q64.9272 608.424 61.8716 611.671 Q58.7843 614.886 53.6281 614.886 Q47.6125 614.886 44.5569 610.875 Q41.5014 606.833 41.5014 598.844 L41.5014 590.632 L40.9285 590.632 Q36.8862 590.632 34.6901 593.306 Q32.4621 595.948 32.4621 600.754 Q32.4621 603.809 33.1941 606.706 Q33.9262 609.602 35.3903 612.276 L29.9795 612.276 Q28.7381 609.061 28.1334 606.037 Q27.4968 603.013 27.4968 600.149 Q27.4968 592.415 31.5072 588.595 Q35.5176 584.776 43.6657 584.776 Z\" fill=\"#000000\" fill-rule=\"evenodd\" fill-opacity=\"1\" /><path clip-path=\"url(#clip930)\" d=\"M18.2347 566.92 L28.3562 566.92 L28.3562 554.857 L32.9077 554.857 L32.9077 566.92 L52.2594 566.92 Q56.6199 566.92 57.8613 565.742 Q59.1026 564.533 59.1026 560.872 L59.1026 554.857 L64.0042 554.857 L64.0042 560.872 Q64.0042 567.652 61.4897 570.23 Q58.9434 572.808 52.2594 572.808 L32.9077 572.808 L32.9077 577.105 L28.3562 577.105 L28.3562 572.808 L18.2347 572.808 L18.2347 566.92 Z\" fill=\"#000000\" fill-rule=\"evenodd\" fill-opacity=\"1\" /><path clip-path=\"url(#clip930)\" d=\"M44.7161 516.663 L47.5806 516.663 L47.5806 543.59 Q53.6281 543.208 56.8109 539.961 Q59.9619 536.683 59.9619 530.858 Q59.9619 527.484 59.1344 524.333 Q58.3069 521.15 56.6518 518.031 L62.1899 518.031 Q63.5267 521.182 64.227 524.492 Q64.9272 527.803 64.9272 531.208 Q64.9272 539.738 59.9619 544.735 Q54.9967 549.701 46.5303 549.701 Q37.7774 549.701 32.6531 544.99 Q27.4968 540.248 27.4968 532.227 Q27.4968 525.034 32.1438 520.864 Q36.7589 516.663 44.7161 516.663 M42.9973 522.519 Q38.1912 522.583 35.3266 525.225 Q32.4621 527.834 32.4621 532.163 Q32.4621 537.065 35.2312 540.025 Q38.0002 542.953 43.0292 543.399 L42.9973 522.519 Z\" fill=\"#000000\" fill-rule=\"evenodd\" fill-opacity=\"1\" /><polyline clip-path=\"url(#clip932)\" style=\"stroke:#009af9; stroke-linecap:round; stroke-linejoin:round; stroke-width:4; stroke-opacity:1; fill:none\" points=\"\n",
       "  309.067,1348.91 322.383,1348.91 335.7,1348.91 349.017,1348.91 362.333,1348.91 375.65,1348.91 388.966,1348.91 402.283,1317.92 415.599,1311.72 428.916,1125.77 \n",
       "  442.232,865.436 455.549,766.261 468.865,567.911 482.182,425.348 495.498,344.768 508.815,270.387 522.132,239.395 535.448,177.411 548.765,134.022 562.081,220.8 \n",
       "  575.398,251.792 588.714,146.419 602.031,134.022 615.347,146.419 628.664,158.816 641.98,233.197 655.297,220.8 668.613,177.411 681.93,171.213 695.247,158.816 \n",
       "  708.563,165.014 721.88,121.625 735.196,109.228 748.513,152.617 761.829,134.022 775.146,158.816 788.462,134.022 801.779,115.427 815.095,109.228 828.412,115.427 \n",
       "  841.728,134.022 855.045,158.816 868.362,127.824 881.678,152.617 894.995,152.617 908.311,109.228 921.628,183.609 934.944,140.22 948.261,115.427 961.577,146.419 \n",
       "  974.894,146.419 988.21,165.014 1001.53,146.419 1014.84,208.403 1028.16,121.625 1041.48,127.824 1054.79,121.625 1068.11,109.228 1081.43,152.617 1094.74,146.419 \n",
       "  1108.06,140.22 1121.38,165.014 1134.69,134.022 1148.01,146.419 1161.33,226.998 1174.64,183.609 1187.96,189.808 1201.27,189.808 1214.59,177.411 1227.91,146.419 \n",
       "  1241.22,183.609 1254.54,152.617 1267.86,127.824 1281.17,127.824 1294.49,109.228 1307.81,134.022 1321.12,127.824 1334.44,134.022 1347.76,115.427 1361.07,115.427 \n",
       "  1374.39,134.022 1387.71,134.022 1401.02,127.824 1414.34,115.427 1427.66,121.625 1440.97,109.228 1454.29,134.022 1467.61,134.022 1480.92,152.617 1494.24,140.22 \n",
       "  1507.56,152.617 1520.87,127.824 1534.19,158.816 1547.5,152.617 1560.82,171.213 1574.14,171.213 1587.45,152.617 1600.77,140.22 1614.09,158.816 1627.4,202.205 \n",
       "  1640.72,146.419 1654.04,152.617 1667.35,134.022 1680.67,152.617 1693.99,158.816 1707.3,189.808 1720.62,196.006 1733.94,226.998 1747.25,220.8 1760.57,196.006 \n",
       "  1773.89,140.22 1787.2,208.403 1800.52,202.205 1813.84,251.792 1827.15,202.205 1840.47,208.403 1853.79,202.205 1867.1,239.395 1880.42,134.022 1893.73,183.609 \n",
       "  1907.05,183.609 1920.37,165.014 1933.68,233.197 1947,220.8 1960.32,165.014 1973.63,202.205 1986.95,220.8 2000.27,202.205 2013.58,171.213 2026.9,189.808 \n",
       "  2040.22,208.403 2053.53,196.006 2066.85,165.014 2080.17,146.419 2093.48,220.8 2106.8,189.808 2120.12,202.205 2133.43,239.395 2146.75,226.998 2160.07,171.213 \n",
       "  2173.38,245.594 2186.7,264.189 2200.02,214.601 2213.33,394.356 2226.65,226.998 2239.96,301.379 2253.28,270.387 2266.6,226.998 2279.91,233.197 2293.23,196.006 \n",
       "  \n",
       "  \"/>\n",
       "</svg>\n"
      ]
     },
     "execution_count": 36,
     "metadata": {},
     "output_type": "execute_result"
    }
   ],
   "source": [
    "plot(iterations, success_rate, xlabel=\"Iterations\", ylabel=\"Success Rate\", legend = false, xformatter = :scientific)"
   ]
  },
  {
   "cell_type": "code",
   "execution_count": 37,
   "id": "4e57d828",
   "metadata": {},
   "outputs": [
    {
     "data": {
      "text/plain": [
       "\"/home/larissa/Documents/Projects/Advanced Deep Learning for Robotics/ADLR_project/src/2d/plots/slow/success_rate.svg\""
      ]
     },
     "execution_count": 37,
     "metadata": {},
     "output_type": "execute_result"
    }
   ],
   "source": [
    "savefig(fig_path * \"success_rate.svg\")"
   ]
  },
  {
   "cell_type": "code",
   "execution_count": 38,
   "id": "480d67d7",
   "metadata": {
    "scrolled": false
   },
   "outputs": [
    {
     "data": {
      "image/svg+xml": [
       "<?xml version=\"1.0\" encoding=\"utf-8\"?>\n",
       "<svg xmlns=\"http://www.w3.org/2000/svg\" xmlns:xlink=\"http://www.w3.org/1999/xlink\" width=\"600\" height=\"400\" viewBox=\"0 0 2400 1600\">\n",
       "<defs>\n",
       "  <clipPath id=\"clip010\">\n",
       "    <rect x=\"0\" y=\"0\" width=\"2400\" height=\"1600\"/>\n",
       "  </clipPath>\n",
       "</defs>\n",
       "<path clip-path=\"url(#clip010)\" d=\"\n",
       "M0 1600 L2400 1600 L2400 0 L0 0  Z\n",
       "  \" fill=\"#ffffff\" fill-rule=\"evenodd\" fill-opacity=\"1\"/>\n",
       "<defs>\n",
       "  <clipPath id=\"clip011\">\n",
       "    <rect x=\"480\" y=\"0\" width=\"1681\" height=\"1600\"/>\n",
       "  </clipPath>\n",
       "</defs>\n",
       "<path clip-path=\"url(#clip010)\" d=\"\n",
       "M175.445 1410.9 L2352.76 1410.9 L2352.76 47.2441 L175.445 47.2441  Z\n",
       "  \" fill=\"#ffffff\" fill-rule=\"evenodd\" fill-opacity=\"1\"/>\n",
       "<defs>\n",
       "  <clipPath id=\"clip012\">\n",
       "    <rect x=\"175\" y=\"47\" width=\"2178\" height=\"1365\"/>\n",
       "  </clipPath>\n",
       "</defs>\n",
       "<polyline clip-path=\"url(#clip012)\" style=\"stroke:#000000; stroke-linecap:round; stroke-linejoin:round; stroke-width:2; stroke-opacity:0.1; fill:none\" points=\"\n",
       "  223.282,1410.9 223.282,47.2441 \n",
       "  \"/>\n",
       "<polyline clip-path=\"url(#clip012)\" style=\"stroke:#000000; stroke-linecap:round; stroke-linejoin:round; stroke-width:2; stroke-opacity:0.1; fill:none\" points=\"\n",
       "  912.566,1410.9 912.566,47.2441 \n",
       "  \"/>\n",
       "<polyline clip-path=\"url(#clip012)\" style=\"stroke:#000000; stroke-linecap:round; stroke-linejoin:round; stroke-width:2; stroke-opacity:0.1; fill:none\" points=\"\n",
       "  1601.85,1410.9 1601.85,47.2441 \n",
       "  \"/>\n",
       "<polyline clip-path=\"url(#clip012)\" style=\"stroke:#000000; stroke-linecap:round; stroke-linejoin:round; stroke-width:2; stroke-opacity:0.1; fill:none\" points=\"\n",
       "  2291.13,1410.9 2291.13,47.2441 \n",
       "  \"/>\n",
       "<polyline clip-path=\"url(#clip010)\" style=\"stroke:#000000; stroke-linecap:round; stroke-linejoin:round; stroke-width:4; stroke-opacity:1; fill:none\" points=\"\n",
       "  175.445,1410.9 2352.76,1410.9 \n",
       "  \"/>\n",
       "<polyline clip-path=\"url(#clip010)\" style=\"stroke:#000000; stroke-linecap:round; stroke-linejoin:round; stroke-width:4; stroke-opacity:1; fill:none\" points=\"\n",
       "  223.282,1410.9 223.282,1392 \n",
       "  \"/>\n",
       "<polyline clip-path=\"url(#clip010)\" style=\"stroke:#000000; stroke-linecap:round; stroke-linejoin:round; stroke-width:4; stroke-opacity:1; fill:none\" points=\"\n",
       "  912.566,1410.9 912.566,1392 \n",
       "  \"/>\n",
       "<polyline clip-path=\"url(#clip010)\" style=\"stroke:#000000; stroke-linecap:round; stroke-linejoin:round; stroke-width:4; stroke-opacity:1; fill:none\" points=\"\n",
       "  1601.85,1410.9 1601.85,1392 \n",
       "  \"/>\n",
       "<polyline clip-path=\"url(#clip010)\" style=\"stroke:#000000; stroke-linecap:round; stroke-linejoin:round; stroke-width:4; stroke-opacity:1; fill:none\" points=\"\n",
       "  2291.13,1410.9 2291.13,1392 \n",
       "  \"/>\n",
       "<path clip-path=\"url(#clip010)\" d=\"M223.282 1441.82 Q219.67 1441.82 217.842 1445.38 Q216.036 1448.92 216.036 1456.05 Q216.036 1463.16 217.842 1466.72 Q219.67 1470.26 223.282 1470.26 Q226.916 1470.26 228.721 1466.72 Q230.55 1463.16 230.55 1456.05 Q230.55 1448.92 228.721 1445.38 Q226.916 1441.82 223.282 1441.82 M223.282 1438.11 Q229.092 1438.11 232.147 1442.72 Q235.226 1447.3 235.226 1456.05 Q235.226 1464.78 232.147 1469.38 Q229.092 1473.97 223.282 1473.97 Q217.471 1473.97 214.393 1469.38 Q211.337 1464.78 211.337 1456.05 Q211.337 1447.3 214.393 1442.72 Q217.471 1438.11 223.282 1438.11 Z\" fill=\"#000000\" fill-rule=\"evenodd\" fill-opacity=\"1\" /><path clip-path=\"url(#clip010)\" d=\"M805.542 1454.4 L823.899 1454.4 L823.899 1458.33 L809.825 1458.33 L809.825 1466.8 Q810.843 1466.46 811.862 1466.29 Q812.88 1466.11 813.899 1466.11 Q819.686 1466.11 823.065 1469.28 Q826.445 1472.45 826.445 1477.87 Q826.445 1483.45 822.973 1486.55 Q819.5 1489.63 813.181 1489.63 Q811.005 1489.63 808.737 1489.26 Q806.491 1488.89 804.084 1488.15 L804.084 1483.45 Q806.167 1484.58 808.389 1485.14 Q810.612 1485.69 813.088 1485.69 Q817.093 1485.69 819.431 1483.59 Q821.769 1481.48 821.769 1477.87 Q821.769 1474.26 819.431 1472.15 Q817.093 1470.04 813.088 1470.04 Q811.213 1470.04 809.338 1470.46 Q807.487 1470.88 805.542 1471.76 L805.542 1454.4 Z\" fill=\"#000000\" fill-rule=\"evenodd\" fill-opacity=\"1\" /><path clip-path=\"url(#clip010)\" d=\"M835.658 1483.08 L840.542 1483.08 L840.542 1488.96 L835.658 1488.96 L835.658 1483.08 Z\" fill=\"#000000\" fill-rule=\"evenodd\" fill-opacity=\"1\" /><path clip-path=\"url(#clip010)\" d=\"M860.727 1457.48 Q857.116 1457.48 855.287 1461.04 Q853.482 1464.58 853.482 1471.71 Q853.482 1478.82 855.287 1482.38 Q857.116 1485.92 860.727 1485.92 Q864.361 1485.92 866.167 1482.38 Q867.996 1478.82 867.996 1471.71 Q867.996 1464.58 866.167 1461.04 Q864.361 1457.48 860.727 1457.48 M860.727 1453.77 Q866.537 1453.77 869.593 1458.38 Q872.671 1462.96 872.671 1471.71 Q872.671 1480.44 869.593 1485.04 Q866.537 1489.63 860.727 1489.63 Q854.917 1489.63 851.838 1485.04 Q848.783 1480.44 848.783 1471.71 Q848.783 1462.96 851.838 1458.38 Q854.917 1453.77 860.727 1453.77 Z\" fill=\"#000000\" fill-rule=\"evenodd\" fill-opacity=\"1\" /><path clip-path=\"url(#clip010)\" d=\"M890.889 1457.48 Q887.278 1457.48 885.449 1461.04 Q883.644 1464.58 883.644 1471.71 Q883.644 1478.82 885.449 1482.38 Q887.278 1485.92 890.889 1485.92 Q894.523 1485.92 896.329 1482.38 Q898.157 1478.82 898.157 1471.71 Q898.157 1464.58 896.329 1461.04 Q894.523 1457.48 890.889 1457.48 M890.889 1453.77 Q896.699 1453.77 899.755 1458.38 Q902.833 1462.96 902.833 1471.71 Q902.833 1480.44 899.755 1485.04 Q896.699 1489.63 890.889 1489.63 Q885.079 1489.63 882 1485.04 Q878.945 1480.44 878.945 1471.71 Q878.945 1462.96 882 1458.38 Q885.079 1453.77 890.889 1453.77 Z\" fill=\"#000000\" fill-rule=\"evenodd\" fill-opacity=\"1\" /><path clip-path=\"url(#clip010)\" d=\"M939.222 1463.49 L928.643 1474.12 L939.222 1484.7 L936.467 1487.5 L925.842 1476.87 L915.218 1487.5 L912.486 1484.7 L923.042 1474.12 L912.486 1463.49 L915.218 1460.69 L925.842 1471.32 L936.467 1460.69 L939.222 1463.49 Z\" fill=\"#000000\" fill-rule=\"evenodd\" fill-opacity=\"1\" /><path clip-path=\"url(#clip010)\" d=\"M951.583 1485.02 L959.222 1485.02 L959.222 1458.66 L950.912 1460.32 L950.912 1456.06 L959.176 1454.4 L963.852 1454.4 L963.852 1485.02 L971.49 1485.02 L971.49 1488.96 L951.583 1488.96 L951.583 1485.02 Z\" fill=\"#000000\" fill-rule=\"evenodd\" fill-opacity=\"1\" /><path clip-path=\"url(#clip010)\" d=\"M990.935 1457.48 Q987.324 1457.48 985.495 1461.04 Q983.689 1464.58 983.689 1471.71 Q983.689 1478.82 985.495 1482.38 Q987.324 1485.92 990.935 1485.92 Q994.569 1485.92 996.375 1482.38 Q998.203 1478.82 998.203 1471.71 Q998.203 1464.58 996.375 1461.04 Q994.569 1457.48 990.935 1457.48 M990.935 1453.77 Q996.745 1453.77 999.8 1458.38 Q1002.88 1462.96 1002.88 1471.71 Q1002.88 1480.44 999.8 1485.04 Q996.745 1489.63 990.935 1489.63 Q985.125 1489.63 982.046 1485.04 Q978.99 1480.44 978.99 1471.71 Q978.99 1462.96 982.046 1458.38 Q985.125 1453.77 990.935 1453.77 Z\" fill=\"#000000\" fill-rule=\"evenodd\" fill-opacity=\"1\" /><path clip-path=\"url(#clip010)\" d=\"M1004.06 1433.47 L1018.98 1433.47 L1018.98 1436.66 L1007.54 1436.66 L1007.54 1443.55 Q1008.37 1443.27 1009.2 1443.13 Q1010.03 1442.98 1010.85 1442.98 Q1015.56 1442.98 1018.3 1445.56 Q1021.05 1448.14 1021.05 1452.54 Q1021.05 1457.07 1018.23 1459.59 Q1015.41 1462.09 1010.27 1462.09 Q1008.5 1462.09 1006.66 1461.79 Q1004.84 1461.49 1002.88 1460.89 L1002.88 1457.07 Q1004.57 1457.99 1006.38 1458.44 Q1008.18 1458.89 1010.2 1458.89 Q1013.45 1458.89 1015.35 1457.18 Q1017.25 1455.47 1017.25 1452.54 Q1017.25 1449.6 1015.35 1447.89 Q1013.45 1446.18 1010.2 1446.18 Q1008.67 1446.18 1007.15 1446.52 Q1005.64 1446.86 1004.06 1447.57 L1004.06 1433.47 Z\" fill=\"#000000\" fill-rule=\"evenodd\" fill-opacity=\"1\" /><path clip-path=\"url(#clip010)\" d=\"M1494.2 1485.02 L1501.84 1485.02 L1501.84 1458.66 L1493.53 1460.32 L1493.53 1456.06 L1501.8 1454.4 L1506.47 1454.4 L1506.47 1485.02 L1514.11 1485.02 L1514.11 1488.96 L1494.2 1488.96 L1494.2 1485.02 Z\" fill=\"#000000\" fill-rule=\"evenodd\" fill-opacity=\"1\" /><path clip-path=\"url(#clip010)\" d=\"M1523.56 1483.08 L1528.44 1483.08 L1528.44 1488.96 L1523.56 1488.96 L1523.56 1483.08 Z\" fill=\"#000000\" fill-rule=\"evenodd\" fill-opacity=\"1\" /><path clip-path=\"url(#clip010)\" d=\"M1548.62 1457.48 Q1545.01 1457.48 1543.18 1461.04 Q1541.38 1464.58 1541.38 1471.71 Q1541.38 1478.82 1543.18 1482.38 Q1545.01 1485.92 1548.62 1485.92 Q1552.26 1485.92 1554.06 1482.38 Q1555.89 1478.82 1555.89 1471.71 Q1555.89 1464.58 1554.06 1461.04 Q1552.26 1457.48 1548.62 1457.48 M1548.62 1453.77 Q1554.43 1453.77 1557.49 1458.38 Q1560.57 1462.96 1560.57 1471.71 Q1560.57 1480.44 1557.49 1485.04 Q1554.43 1489.63 1548.62 1489.63 Q1542.81 1489.63 1539.74 1485.04 Q1536.68 1480.44 1536.68 1471.71 Q1536.68 1462.96 1539.74 1458.38 Q1542.81 1453.77 1548.62 1453.77 Z\" fill=\"#000000\" fill-rule=\"evenodd\" fill-opacity=\"1\" /><path clip-path=\"url(#clip010)\" d=\"M1578.79 1457.48 Q1575.18 1457.48 1573.35 1461.04 Q1571.54 1464.58 1571.54 1471.71 Q1571.54 1478.82 1573.35 1482.38 Q1575.18 1485.92 1578.79 1485.92 Q1582.42 1485.92 1584.23 1482.38 Q1586.05 1478.82 1586.05 1471.71 Q1586.05 1464.58 1584.23 1461.04 Q1582.42 1457.48 1578.79 1457.48 M1578.79 1453.77 Q1584.6 1453.77 1587.65 1458.38 Q1590.73 1462.96 1590.73 1471.71 Q1590.73 1480.44 1587.65 1485.04 Q1584.6 1489.63 1578.79 1489.63 Q1572.98 1489.63 1569.9 1485.04 Q1566.84 1480.44 1566.84 1471.71 Q1566.84 1462.96 1569.9 1458.38 Q1572.98 1453.77 1578.79 1453.77 Z\" fill=\"#000000\" fill-rule=\"evenodd\" fill-opacity=\"1\" /><path clip-path=\"url(#clip010)\" d=\"M1627.12 1463.49 L1616.54 1474.12 L1627.12 1484.7 L1624.36 1487.5 L1613.74 1476.87 L1603.11 1487.5 L1600.38 1484.7 L1610.94 1474.12 L1600.38 1463.49 L1603.11 1460.69 L1613.74 1471.32 L1624.36 1460.69 L1627.12 1463.49 Z\" fill=\"#000000\" fill-rule=\"evenodd\" fill-opacity=\"1\" /><path clip-path=\"url(#clip010)\" d=\"M1639.48 1485.02 L1647.12 1485.02 L1647.12 1458.66 L1638.81 1460.32 L1638.81 1456.06 L1647.07 1454.4 L1651.75 1454.4 L1651.75 1485.02 L1659.39 1485.02 L1659.39 1488.96 L1639.48 1488.96 L1639.48 1485.02 Z\" fill=\"#000000\" fill-rule=\"evenodd\" fill-opacity=\"1\" /><path clip-path=\"url(#clip010)\" d=\"M1678.83 1457.48 Q1675.22 1457.48 1673.39 1461.04 Q1671.59 1464.58 1671.59 1471.71 Q1671.59 1478.82 1673.39 1482.38 Q1675.22 1485.92 1678.83 1485.92 Q1682.47 1485.92 1684.27 1482.38 Q1686.1 1478.82 1686.1 1471.71 Q1686.1 1464.58 1684.27 1461.04 Q1682.47 1457.48 1678.83 1457.48 M1678.83 1453.77 Q1684.64 1453.77 1687.7 1458.38 Q1690.78 1462.96 1690.78 1471.71 Q1690.78 1480.44 1687.7 1485.04 Q1684.64 1489.63 1678.83 1489.63 Q1673.02 1489.63 1669.94 1485.04 Q1666.89 1480.44 1666.89 1471.71 Q1666.89 1462.96 1669.94 1458.38 Q1673.02 1453.77 1678.83 1453.77 Z\" fill=\"#000000\" fill-rule=\"evenodd\" fill-opacity=\"1\" /><path clip-path=\"url(#clip010)\" d=\"M1700.8 1445.99 Q1698.24 1445.99 1696.74 1447.74 Q1695.25 1449.49 1695.25 1452.54 Q1695.25 1455.57 1696.74 1457.33 Q1698.24 1459.08 1700.8 1459.08 Q1703.36 1459.08 1704.84 1457.33 Q1706.35 1455.57 1706.35 1452.54 Q1706.35 1449.49 1704.84 1447.74 Q1703.36 1445.99 1700.8 1445.99 M1708.34 1434.09 L1708.34 1437.55 Q1706.91 1436.87 1705.45 1436.51 Q1704 1436.16 1702.57 1436.16 Q1698.81 1436.16 1696.81 1438.69 Q1694.84 1441.23 1694.56 1446.37 Q1695.67 1444.73 1697.34 1443.87 Q1699.01 1442.98 1701.03 1442.98 Q1705.26 1442.98 1707.7 1445.56 Q1710.17 1448.12 1710.17 1452.54 Q1710.17 1456.86 1707.61 1459.48 Q1705.05 1462.09 1700.8 1462.09 Q1695.93 1462.09 1693.35 1458.37 Q1690.78 1454.62 1690.78 1447.53 Q1690.78 1440.88 1693.94 1436.93 Q1697.1 1432.96 1702.42 1432.96 Q1703.85 1432.96 1705.3 1433.24 Q1706.76 1433.52 1708.34 1434.09 Z\" fill=\"#000000\" fill-rule=\"evenodd\" fill-opacity=\"1\" /><path clip-path=\"url(#clip010)\" d=\"M2183.49 1485.02 L2191.13 1485.02 L2191.13 1458.66 L2182.82 1460.32 L2182.82 1456.06 L2191.08 1454.4 L2195.76 1454.4 L2195.76 1485.02 L2203.39 1485.02 L2203.39 1488.96 L2183.49 1488.96 L2183.49 1485.02 Z\" fill=\"#000000\" fill-rule=\"evenodd\" fill-opacity=\"1\" /><path clip-path=\"url(#clip010)\" d=\"M2212.84 1483.08 L2217.72 1483.08 L2217.72 1488.96 L2212.84 1488.96 L2212.84 1483.08 Z\" fill=\"#000000\" fill-rule=\"evenodd\" fill-opacity=\"1\" /><path clip-path=\"url(#clip010)\" d=\"M2227.95 1454.4 L2246.31 1454.4 L2246.31 1458.33 L2232.24 1458.33 L2232.24 1466.8 Q2233.26 1466.46 2234.27 1466.29 Q2235.29 1466.11 2236.31 1466.11 Q2242.1 1466.11 2245.48 1469.28 Q2248.86 1472.45 2248.86 1477.87 Q2248.86 1483.45 2245.39 1486.55 Q2241.91 1489.63 2235.59 1489.63 Q2233.42 1489.63 2231.15 1489.26 Q2228.9 1488.89 2226.5 1488.15 L2226.5 1483.45 Q2228.58 1484.58 2230.8 1485.14 Q2233.02 1485.69 2235.5 1485.69 Q2239.51 1485.69 2241.84 1483.59 Q2244.18 1481.48 2244.18 1477.87 Q2244.18 1474.26 2241.84 1472.15 Q2239.51 1470.04 2235.5 1470.04 Q2233.63 1470.04 2231.75 1470.46 Q2229.9 1470.88 2227.95 1471.76 L2227.95 1454.4 Z\" fill=\"#000000\" fill-rule=\"evenodd\" fill-opacity=\"1\" /><path clip-path=\"url(#clip010)\" d=\"M2268.07 1457.48 Q2264.46 1457.48 2262.63 1461.04 Q2260.83 1464.58 2260.83 1471.71 Q2260.83 1478.82 2262.63 1482.38 Q2264.46 1485.92 2268.07 1485.92 Q2271.7 1485.92 2273.51 1482.38 Q2275.34 1478.82 2275.34 1471.71 Q2275.34 1464.58 2273.51 1461.04 Q2271.7 1457.48 2268.07 1457.48 M2268.07 1453.77 Q2273.88 1453.77 2276.94 1458.38 Q2280.01 1462.96 2280.01 1471.71 Q2280.01 1480.44 2276.94 1485.04 Q2273.88 1489.63 2268.07 1489.63 Q2262.26 1489.63 2259.18 1485.04 Q2256.13 1480.44 2256.13 1471.71 Q2256.13 1462.96 2259.18 1458.38 Q2262.26 1453.77 2268.07 1453.77 Z\" fill=\"#000000\" fill-rule=\"evenodd\" fill-opacity=\"1\" /><path clip-path=\"url(#clip010)\" d=\"M2316.4 1463.49 L2305.82 1474.12 L2316.4 1484.7 L2313.65 1487.5 L2303.02 1476.87 L2292.4 1487.5 L2289.67 1484.7 L2300.22 1474.12 L2289.67 1463.49 L2292.4 1460.69 L2303.02 1471.32 L2313.65 1460.69 L2316.4 1463.49 Z\" fill=\"#000000\" fill-rule=\"evenodd\" fill-opacity=\"1\" /><path clip-path=\"url(#clip010)\" d=\"M2328.76 1485.02 L2336.4 1485.02 L2336.4 1458.66 L2328.09 1460.32 L2328.09 1456.06 L2336.36 1454.4 L2341.03 1454.4 L2341.03 1485.02 L2348.67 1485.02 L2348.67 1488.96 L2328.76 1488.96 L2328.76 1485.02 Z\" fill=\"#000000\" fill-rule=\"evenodd\" fill-opacity=\"1\" /><path clip-path=\"url(#clip010)\" d=\"M2368.12 1457.48 Q2364.51 1457.48 2362.68 1461.04 Q2360.87 1464.58 2360.87 1471.71 Q2360.87 1478.82 2362.68 1482.38 Q2364.51 1485.92 2368.12 1485.92 Q2371.75 1485.92 2373.56 1482.38 Q2375.38 1478.82 2375.38 1471.71 Q2375.38 1464.58 2373.56 1461.04 Q2371.75 1457.48 2368.12 1457.48 M2368.12 1453.77 Q2373.93 1453.77 2376.98 1458.38 Q2380.06 1462.96 2380.06 1471.71 Q2380.06 1480.44 2376.98 1485.04 Q2373.93 1489.63 2368.12 1489.63 Q2362.31 1489.63 2359.23 1485.04 Q2356.17 1480.44 2356.17 1471.71 Q2356.17 1462.96 2359.23 1458.38 Q2362.31 1453.77 2368.12 1453.77 Z\" fill=\"#000000\" fill-rule=\"evenodd\" fill-opacity=\"1\" /><path clip-path=\"url(#clip010)\" d=\"M2390.09 1445.99 Q2387.53 1445.99 2386.02 1447.74 Q2384.54 1449.49 2384.54 1452.54 Q2384.54 1455.57 2386.02 1457.33 Q2387.53 1459.08 2390.09 1459.08 Q2392.64 1459.08 2394.13 1457.33 Q2395.63 1455.57 2395.63 1452.54 Q2395.63 1449.49 2394.13 1447.74 Q2392.64 1445.99 2390.09 1445.99 M2397.63 1434.09 L2397.63 1437.55 Q2396.2 1436.87 2394.73 1436.51 Q2393.28 1436.16 2391.85 1436.16 Q2388.09 1436.16 2386.1 1438.69 Q2384.12 1441.23 2383.84 1446.37 Q2384.95 1444.73 2386.62 1443.87 Q2388.3 1442.98 2390.31 1442.98 Q2394.54 1442.98 2396.99 1445.56 Q2399.45 1448.12 2399.45 1452.54 Q2399.45 1456.86 2396.89 1459.48 Q2394.34 1462.09 2390.09 1462.09 Q2385.21 1462.09 2382.64 1458.37 Q2380.06 1454.62 2380.06 1447.53 Q2380.06 1440.88 2383.22 1436.93 Q2386.38 1432.96 2391.7 1432.96 Q2393.13 1432.96 2394.58 1433.24 Q2396.05 1433.52 2397.63 1434.09 Z\" fill=\"#000000\" fill-rule=\"evenodd\" fill-opacity=\"1\" /><path clip-path=\"url(#clip010)\" d=\"M1113.66 1526.67 L1120.09 1526.67 L1120.09 1574.19 L1113.66 1574.19 L1113.66 1526.67 Z\" fill=\"#000000\" fill-rule=\"evenodd\" fill-opacity=\"1\" /><path clip-path=\"url(#clip010)\" d=\"M1138.43 1528.42 L1138.43 1538.54 L1150.49 1538.54 L1150.49 1543.09 L1138.43 1543.09 L1138.43 1562.44 Q1138.43 1566.8 1139.6 1568.04 Q1140.81 1569.28 1144.47 1569.28 L1150.49 1569.28 L1150.49 1574.19 L1144.47 1574.19 Q1137.69 1574.19 1135.12 1571.67 Q1132.54 1569.12 1132.54 1562.44 L1132.54 1543.09 L1128.24 1543.09 L1128.24 1538.54 L1132.54 1538.54 L1132.54 1528.42 L1138.43 1528.42 Z\" fill=\"#000000\" fill-rule=\"evenodd\" fill-opacity=\"1\" /><path clip-path=\"url(#clip010)\" d=\"M1188.68 1554.9 L1188.68 1557.76 L1161.76 1557.76 Q1162.14 1563.81 1165.38 1566.99 Q1168.66 1570.14 1174.49 1570.14 Q1177.86 1570.14 1181.01 1569.32 Q1184.2 1568.49 1187.31 1566.83 L1187.31 1572.37 Q1184.16 1573.71 1180.85 1574.41 Q1177.54 1575.11 1174.14 1575.11 Q1165.61 1575.11 1160.61 1570.14 Q1155.64 1565.18 1155.64 1556.71 Q1155.64 1547.96 1160.36 1542.83 Q1165.1 1537.68 1173.12 1537.68 Q1180.31 1537.68 1184.48 1542.33 Q1188.68 1546.94 1188.68 1554.9 M1182.83 1553.18 Q1182.76 1548.37 1180.12 1545.51 Q1177.51 1542.64 1173.18 1542.64 Q1168.28 1542.64 1165.32 1545.41 Q1162.39 1548.18 1161.95 1553.21 L1182.83 1553.18 Z\" fill=\"#000000\" fill-rule=\"evenodd\" fill-opacity=\"1\" /><path clip-path=\"url(#clip010)\" d=\"M1218.95 1544.01 Q1217.97 1543.44 1216.79 1543.18 Q1215.64 1542.9 1214.24 1542.9 Q1209.28 1542.9 1206.6 1546.14 Q1203.96 1549.36 1203.96 1555.41 L1203.96 1574.19 L1198.07 1574.19 L1198.07 1538.54 L1203.96 1538.54 L1203.96 1544.08 Q1205.81 1540.83 1208.77 1539.27 Q1211.73 1537.68 1215.96 1537.68 Q1216.56 1537.68 1217.3 1537.77 Q1218.03 1537.84 1218.92 1538 L1218.95 1544.01 Z\" fill=\"#000000\" fill-rule=\"evenodd\" fill-opacity=\"1\" /><path clip-path=\"url(#clip010)\" d=\"M1241.3 1556.27 Q1234.2 1556.27 1231.46 1557.89 Q1228.72 1559.51 1228.72 1563.43 Q1228.72 1566.55 1230.76 1568.39 Q1232.83 1570.21 1236.36 1570.21 Q1241.23 1570.21 1244.16 1566.77 Q1247.12 1563.3 1247.12 1557.57 L1247.12 1556.27 L1241.3 1556.27 M1252.98 1553.85 L1252.98 1574.19 L1247.12 1574.19 L1247.12 1568.77 Q1245.11 1572.02 1242.12 1573.58 Q1239.13 1575.11 1234.8 1575.11 Q1229.33 1575.11 1226.08 1572.05 Q1222.87 1568.97 1222.87 1563.81 Q1222.87 1557.79 1226.88 1554.74 Q1230.92 1551.68 1238.91 1551.68 L1247.12 1551.68 L1247.12 1551.11 Q1247.12 1547.07 1244.45 1544.87 Q1241.8 1542.64 1237 1542.64 Q1233.94 1542.64 1231.05 1543.38 Q1228.15 1544.11 1225.48 1545.57 L1225.48 1540.16 Q1228.69 1538.92 1231.72 1538.31 Q1234.74 1537.68 1237.6 1537.68 Q1245.34 1537.68 1249.16 1541.69 Q1252.98 1545.7 1252.98 1553.85 Z\" fill=\"#000000\" fill-rule=\"evenodd\" fill-opacity=\"1\" /><path clip-path=\"url(#clip010)\" d=\"M1270.83 1528.42 L1270.83 1538.54 L1282.9 1538.54 L1282.9 1543.09 L1270.83 1543.09 L1270.83 1562.44 Q1270.83 1566.8 1272.01 1568.04 Q1273.22 1569.28 1276.88 1569.28 L1282.9 1569.28 L1282.9 1574.19 L1276.88 1574.19 Q1270.1 1574.19 1267.52 1571.67 Q1264.94 1569.12 1264.94 1562.44 L1264.94 1543.09 L1260.65 1543.09 L1260.65 1538.54 L1264.94 1538.54 L1264.94 1528.42 L1270.83 1528.42 Z\" fill=\"#000000\" fill-rule=\"evenodd\" fill-opacity=\"1\" /><path clip-path=\"url(#clip010)\" d=\"M1290.6 1538.54 L1296.45 1538.54 L1296.45 1574.19 L1290.6 1574.19 L1290.6 1538.54 M1290.6 1524.66 L1296.45 1524.66 L1296.45 1532.08 L1290.6 1532.08 L1290.6 1524.66 Z\" fill=\"#000000\" fill-rule=\"evenodd\" fill-opacity=\"1\" /><path clip-path=\"url(#clip010)\" d=\"M1322.52 1542.64 Q1317.81 1542.64 1315.07 1546.34 Q1312.34 1550 1312.34 1556.39 Q1312.34 1562.79 1315.04 1566.48 Q1317.78 1570.14 1322.52 1570.14 Q1327.2 1570.14 1329.94 1566.45 Q1332.68 1562.76 1332.68 1556.39 Q1332.68 1550.06 1329.94 1546.37 Q1327.2 1542.64 1322.52 1542.64 M1322.52 1537.68 Q1330.16 1537.68 1334.52 1542.64 Q1338.88 1547.61 1338.88 1556.39 Q1338.88 1565.15 1334.52 1570.14 Q1330.16 1575.11 1322.52 1575.11 Q1314.85 1575.11 1310.49 1570.14 Q1306.16 1565.15 1306.16 1556.39 Q1306.16 1547.61 1310.49 1542.64 Q1314.85 1537.68 1322.52 1537.68 Z\" fill=\"#000000\" fill-rule=\"evenodd\" fill-opacity=\"1\" /><path clip-path=\"url(#clip010)\" d=\"M1378.22 1552.67 L1378.22 1574.19 L1372.37 1574.19 L1372.37 1552.86 Q1372.37 1547.8 1370.39 1545.29 Q1368.42 1542.77 1364.47 1542.77 Q1359.73 1542.77 1356.99 1545.79 Q1354.25 1548.82 1354.25 1554.04 L1354.25 1574.19 L1348.37 1574.19 L1348.37 1538.54 L1354.25 1538.54 L1354.25 1544.08 Q1356.36 1540.86 1359.19 1539.27 Q1362.05 1537.68 1365.78 1537.68 Q1371.92 1537.68 1375.07 1541.5 Q1378.22 1545.29 1378.22 1552.67 Z\" fill=\"#000000\" fill-rule=\"evenodd\" fill-opacity=\"1\" /><path clip-path=\"url(#clip010)\" d=\"M1412.63 1539.59 L1412.63 1545.13 Q1410.15 1543.85 1407.47 1543.22 Q1404.8 1542.58 1401.93 1542.58 Q1397.57 1542.58 1395.38 1543.92 Q1393.21 1545.25 1393.21 1547.93 Q1393.21 1549.96 1394.77 1551.14 Q1396.33 1552.29 1401.04 1553.34 L1403.05 1553.78 Q1409.29 1555.12 1411.9 1557.57 Q1414.54 1559.99 1414.54 1564.35 Q1414.54 1569.32 1410.59 1572.21 Q1406.68 1575.11 1399.8 1575.11 Q1396.94 1575.11 1393.82 1574.54 Q1390.73 1573.99 1387.29 1572.88 L1387.29 1566.83 Q1390.54 1568.52 1393.69 1569.38 Q1396.84 1570.21 1399.93 1570.21 Q1404.07 1570.21 1406.29 1568.81 Q1408.52 1567.37 1408.52 1564.8 Q1408.52 1562.41 1406.9 1561.14 Q1405.31 1559.86 1399.87 1558.68 L1397.83 1558.21 Q1392.39 1557.06 1389.97 1554.71 Q1387.55 1552.32 1387.55 1548.18 Q1387.55 1543.15 1391.11 1540.42 Q1394.68 1537.68 1401.23 1537.68 Q1404.48 1537.68 1407.34 1538.16 Q1410.21 1538.63 1412.63 1539.59 Z\" fill=\"#000000\" fill-rule=\"evenodd\" fill-opacity=\"1\" /><polyline clip-path=\"url(#clip012)\" style=\"stroke:#000000; stroke-linecap:round; stroke-linejoin:round; stroke-width:2; stroke-opacity:0.1; fill:none\" points=\"\n",
       "  175.445,1104.07 2352.76,1104.07 \n",
       "  \"/>\n",
       "<polyline clip-path=\"url(#clip012)\" style=\"stroke:#000000; stroke-linecap:round; stroke-linejoin:round; stroke-width:2; stroke-opacity:0.1; fill:none\" points=\"\n",
       "  175.445,763.162 2352.76,763.162 \n",
       "  \"/>\n",
       "<polyline clip-path=\"url(#clip012)\" style=\"stroke:#000000; stroke-linecap:round; stroke-linejoin:round; stroke-width:2; stroke-opacity:0.1; fill:none\" points=\"\n",
       "  175.445,422.249 2352.76,422.249 \n",
       "  \"/>\n",
       "<polyline clip-path=\"url(#clip012)\" style=\"stroke:#000000; stroke-linecap:round; stroke-linejoin:round; stroke-width:2; stroke-opacity:0.1; fill:none\" points=\"\n",
       "  175.445,81.3354 2352.76,81.3354 \n",
       "  \"/>\n",
       "<polyline clip-path=\"url(#clip010)\" style=\"stroke:#000000; stroke-linecap:round; stroke-linejoin:round; stroke-width:4; stroke-opacity:1; fill:none\" points=\"\n",
       "  175.445,1410.9 175.445,47.2441 \n",
       "  \"/>\n",
       "<polyline clip-path=\"url(#clip010)\" style=\"stroke:#000000; stroke-linecap:round; stroke-linejoin:round; stroke-width:4; stroke-opacity:1; fill:none\" points=\"\n",
       "  175.445,1104.07 194.343,1104.07 \n",
       "  \"/>\n",
       "<polyline clip-path=\"url(#clip010)\" style=\"stroke:#000000; stroke-linecap:round; stroke-linejoin:round; stroke-width:4; stroke-opacity:1; fill:none\" points=\"\n",
       "  175.445,763.162 194.343,763.162 \n",
       "  \"/>\n",
       "<polyline clip-path=\"url(#clip010)\" style=\"stroke:#000000; stroke-linecap:round; stroke-linejoin:round; stroke-width:4; stroke-opacity:1; fill:none\" points=\"\n",
       "  175.445,422.249 194.343,422.249 \n",
       "  \"/>\n",
       "<polyline clip-path=\"url(#clip010)\" style=\"stroke:#000000; stroke-linecap:round; stroke-linejoin:round; stroke-width:4; stroke-opacity:1; fill:none\" points=\"\n",
       "  175.445,81.3354 194.343,81.3354 \n",
       "  \"/>\n",
       "<path clip-path=\"url(#clip010)\" d=\"M132.316 1102.72 Q135.672 1103.44 137.547 1105.71 Q139.445 1107.98 139.445 1111.31 Q139.445 1116.42 135.927 1119.23 Q132.408 1122.03 125.927 1122.03 Q123.751 1122.03 121.436 1121.59 Q119.144 1121.17 116.691 1120.31 L116.691 1115.8 Q118.635 1116.93 120.95 1117.51 Q123.265 1118.09 125.788 1118.09 Q130.186 1118.09 132.478 1116.35 Q134.792 1114.62 134.792 1111.31 Q134.792 1108.25 132.64 1106.54 Q130.51 1104.8 126.691 1104.8 L122.663 1104.8 L122.663 1100.96 L126.876 1100.96 Q130.325 1100.96 132.154 1099.6 Q133.982 1098.21 133.982 1095.61 Q133.982 1092.95 132.084 1091.54 Q130.209 1090.1 126.691 1090.1 Q124.769 1090.1 122.57 1090.52 Q120.371 1090.94 117.732 1091.82 L117.732 1087.65 Q120.394 1086.91 122.709 1086.54 Q125.047 1086.17 127.107 1086.17 Q132.431 1086.17 135.533 1088.6 Q138.635 1091.01 138.635 1095.13 Q138.635 1098 136.992 1099.99 Q135.348 1101.96 132.316 1102.72 Z\" fill=\"#000000\" fill-rule=\"evenodd\" fill-opacity=\"1\" /><path clip-path=\"url(#clip010)\" d=\"M129.862 749.956 L118.056 768.405 L129.862 768.405 L129.862 749.956 M128.635 745.882 L134.515 745.882 L134.515 768.405 L139.445 768.405 L139.445 772.294 L134.515 772.294 L134.515 780.442 L129.862 780.442 L129.862 772.294 L114.26 772.294 L114.26 767.78 L128.635 745.882 Z\" fill=\"#000000\" fill-rule=\"evenodd\" fill-opacity=\"1\" /><path clip-path=\"url(#clip010)\" d=\"M118.543 404.969 L136.899 404.969 L136.899 408.904 L122.825 408.904 L122.825 417.376 Q123.843 417.029 124.862 416.867 Q125.88 416.681 126.899 416.681 Q132.686 416.681 136.066 419.853 Q139.445 423.024 139.445 428.441 Q139.445 434.019 135.973 437.121 Q132.501 440.2 126.181 440.2 Q124.005 440.2 121.737 439.829 Q119.492 439.459 117.084 438.718 L117.084 434.019 Q119.168 435.154 121.39 435.709 Q123.612 436.265 126.089 436.265 Q130.093 436.265 132.431 434.158 Q134.769 432.052 134.769 428.441 Q134.769 424.83 132.431 422.723 Q130.093 420.617 126.089 420.617 Q124.214 420.617 122.339 421.033 Q120.487 421.45 118.543 422.33 L118.543 404.969 Z\" fill=\"#000000\" fill-rule=\"evenodd\" fill-opacity=\"1\" /><path clip-path=\"url(#clip010)\" d=\"M127.917 79.472 Q124.769 79.472 122.918 81.6248 Q121.089 83.7775 121.089 87.5275 Q121.089 91.2543 122.918 93.4303 Q124.769 95.583 127.917 95.583 Q131.066 95.583 132.894 93.4303 Q134.746 91.2543 134.746 87.5275 Q134.746 83.7775 132.894 81.6248 Q131.066 79.472 127.917 79.472 M137.2 64.8193 L137.2 69.0785 Q135.441 68.2452 133.635 67.8054 Q131.853 67.3656 130.093 67.3656 Q125.464 67.3656 123.01 70.4906 Q120.58 73.6155 120.232 79.935 Q121.598 77.9211 123.658 76.8563 Q125.718 75.7683 128.195 75.7683 Q133.404 75.7683 136.413 78.9396 Q139.445 82.0877 139.445 87.5275 Q139.445 92.8516 136.297 96.0691 Q133.149 99.2867 127.917 99.2867 Q121.922 99.2867 118.751 94.7034 Q115.58 90.0969 115.58 81.3701 Q115.58 73.1757 119.468 68.3146 Q123.357 63.4304 129.908 63.4304 Q131.667 63.4304 133.45 63.7776 Q135.255 64.1249 137.2 64.8193 Z\" fill=\"#000000\" fill-rule=\"evenodd\" fill-opacity=\"1\" /><path clip-path=\"url(#clip010)\" d=\"M22.818 978.129 L46.4666 986.85 L46.4666 969.376 L22.818 978.129 M16.4842 981.757 L16.4842 974.468 L64.0042 956.358 L64.0042 963.042 L51.8138 967.371 L51.8138 988.791 L64.0042 993.12 L64.0042 999.899 L16.4842 981.757 Z\" fill=\"#000000\" fill-rule=\"evenodd\" fill-opacity=\"1\" /><path clip-path=\"url(#clip010)\" d=\"M28.3562 957.695 L28.3562 951.488 L58.275 940.348 L28.3562 929.208 L28.3562 923.002 L64.0042 936.37 L64.0042 944.327 L28.3562 957.695 Z\" fill=\"#000000\" fill-rule=\"evenodd\" fill-opacity=\"1\" /><path clip-path=\"url(#clip010)\" d=\"M44.7161 884.425 L47.5806 884.425 L47.5806 911.352 Q53.6281 910.97 56.8109 907.724 Q59.9619 904.446 59.9619 898.621 Q59.9619 895.247 59.1344 892.096 Q58.3069 888.913 56.6518 885.794 L62.1899 885.794 Q63.5267 888.945 64.227 892.255 Q64.9272 895.565 64.9272 898.971 Q64.9272 907.501 59.9619 912.498 Q54.9967 917.463 46.5303 917.463 Q37.7774 917.463 32.6531 912.753 Q27.4968 908.01 27.4968 899.99 Q27.4968 892.796 32.1438 888.627 Q36.7589 884.425 44.7161 884.425 M42.9973 890.282 Q38.1912 890.346 35.3266 892.987 Q32.4621 895.597 32.4621 899.926 Q32.4621 904.828 35.2312 907.788 Q38.0002 910.716 43.0292 911.161 L42.9973 890.282 Z\" fill=\"#000000\" fill-rule=\"evenodd\" fill-opacity=\"1\" /><path clip-path=\"url(#clip010)\" d=\"M33.8307 854.157 Q33.2578 855.143 33.0032 856.321 Q32.7167 857.467 32.7167 858.867 Q32.7167 863.832 35.9632 866.506 Q39.1779 869.148 45.2253 869.148 L64.0042 869.148 L64.0042 875.036 L28.3562 875.036 L28.3562 869.148 L33.8944 869.148 Q30.6479 867.302 29.0883 864.342 Q27.4968 861.382 27.4968 857.148 Q27.4968 856.544 27.5923 855.812 Q27.656 855.08 27.8151 854.188 L33.8307 854.157 Z\" fill=\"#000000\" fill-rule=\"evenodd\" fill-opacity=\"1\" /><path clip-path=\"url(#clip010)\" d=\"M46.0847 831.813 Q46.0847 838.911 47.7079 841.648 Q49.3312 844.385 53.2461 844.385 Q56.3653 844.385 58.2114 842.348 Q60.0256 840.279 60.0256 836.746 Q60.0256 831.877 56.5881 828.948 Q53.1188 825.988 47.3897 825.988 L46.0847 825.988 L46.0847 831.813 M43.6657 820.132 L64.0042 820.132 L64.0042 825.988 L58.5933 825.988 Q61.8398 827.993 63.3994 830.985 Q64.9272 833.977 64.9272 838.306 Q64.9272 843.78 61.8716 847.027 Q58.7843 850.242 53.6281 850.242 Q47.6125 850.242 44.5569 846.231 Q41.5014 842.189 41.5014 834.2 L41.5014 825.988 L40.9285 825.988 Q36.8862 825.988 34.6901 828.662 Q32.4621 831.304 32.4621 836.11 Q32.4621 839.165 33.1941 842.062 Q33.9262 844.958 35.3903 847.632 L29.9795 847.632 Q28.7381 844.417 28.1334 841.393 Q27.4968 838.37 27.4968 835.505 Q27.4968 827.771 31.5072 823.951 Q35.5176 820.132 43.6657 820.132 Z\" fill=\"#000000\" fill-rule=\"evenodd\" fill-opacity=\"1\" /><path clip-path=\"url(#clip010)\" d=\"M45.7664 784.611 Q39.4007 784.611 35.8996 787.253 Q32.3984 789.863 32.3984 794.605 Q32.3984 799.316 35.8996 801.958 Q39.4007 804.568 45.7664 804.568 Q52.1003 804.568 55.6014 801.958 Q59.1026 799.316 59.1026 794.605 Q59.1026 789.863 55.6014 787.253 Q52.1003 784.611 45.7664 784.611 M59.58 778.755 Q68.683 778.755 73.1071 782.797 Q77.5631 786.839 77.5631 795.178 Q77.5631 798.266 77.0857 801.003 Q76.6401 803.74 75.6852 806.318 L69.9879 806.318 Q71.3884 803.74 72.0568 801.226 Q72.7252 798.711 72.7252 796.101 Q72.7252 790.34 69.7015 787.476 Q66.7096 784.611 60.6303 784.611 L57.7339 784.611 Q60.885 786.425 62.4446 789.258 Q64.0042 792.091 64.0042 796.038 Q64.0042 802.594 59.0071 806.605 Q54.01 810.615 45.7664 810.615 Q37.491 810.615 32.4939 806.605 Q27.4968 802.594 27.4968 796.038 Q27.4968 792.091 29.0564 789.258 Q30.616 786.425 33.7671 784.611 L28.3562 784.611 L28.3562 778.755 L59.58 778.755 Z\" fill=\"#000000\" fill-rule=\"evenodd\" fill-opacity=\"1\" /><path clip-path=\"url(#clip010)\" d=\"M44.7161 736.2 L47.5806 736.2 L47.5806 763.127 Q53.6281 762.745 56.8109 759.498 Q59.9619 756.22 59.9619 750.395 Q59.9619 747.022 59.1344 743.871 Q58.3069 740.688 56.6518 737.569 L62.1899 737.569 Q63.5267 740.72 64.227 744.03 Q64.9272 747.34 64.9272 750.746 Q64.9272 759.276 59.9619 764.273 Q54.9967 769.238 46.5303 769.238 Q37.7774 769.238 32.6531 764.527 Q27.4968 759.785 27.4968 751.764 Q27.4968 744.571 32.1438 740.401 Q36.7589 736.2 44.7161 736.2 M42.9973 742.056 Q38.1912 742.12 35.3266 744.762 Q32.4621 747.372 32.4621 751.7 Q32.4621 756.602 35.2312 759.562 Q38.0002 762.49 43.0292 762.936 L42.9973 742.056 Z\" fill=\"#000000\" fill-rule=\"evenodd\" fill-opacity=\"1\" /><path clip-path=\"url(#clip010)\" d=\"M64.0042 693.359 L16.4842 711.501 L16.4842 704.785 L56.4926 689.73 L16.4842 674.644 L16.4842 667.96 L64.0042 686.07 L64.0042 693.359 Z\" fill=\"#000000\" fill-rule=\"evenodd\" fill-opacity=\"1\" /><path clip-path=\"url(#clip010)\" d=\"M44.7161 635.845 L47.5806 635.845 L47.5806 662.772 Q53.6281 662.39 56.8109 659.143 Q59.9619 655.865 59.9619 650.04 Q59.9619 646.666 59.1344 643.515 Q58.3069 640.332 56.6518 637.213 L62.1899 637.213 Q63.5267 640.364 64.227 643.674 Q64.9272 646.985 64.9272 650.39 Q64.9272 658.92 59.9619 663.917 Q54.9967 668.883 46.5303 668.883 Q37.7774 668.883 32.6531 664.172 Q27.4968 659.43 27.4968 651.409 Q27.4968 644.215 32.1438 640.046 Q36.7589 635.845 44.7161 635.845 M42.9973 641.701 Q38.1912 641.765 35.3266 644.406 Q32.4621 647.016 32.4621 651.345 Q32.4621 656.247 35.2312 659.207 Q38.0002 662.135 43.0292 662.581 L42.9973 641.701 Z\" fill=\"#000000\" fill-rule=\"evenodd\" fill-opacity=\"1\" /><path clip-path=\"url(#clip010)\" d=\"M14.479 626.232 L14.479 620.376 L64.0042 620.376 L64.0042 626.232 L14.479 626.232 Z\" fill=\"#000000\" fill-rule=\"evenodd\" fill-opacity=\"1\" /><path clip-path=\"url(#clip010)\" d=\"M32.4621 594.308 Q32.4621 599.019 36.1542 601.756 Q39.8145 604.493 46.212 604.493 Q52.6095 604.493 56.3017 601.788 Q59.9619 599.051 59.9619 594.308 Q59.9619 589.63 56.2698 586.892 Q52.5777 584.155 46.212 584.155 Q39.8781 584.155 36.186 586.892 Q32.4621 589.63 32.4621 594.308 M27.4968 594.308 Q27.4968 586.67 32.4621 582.309 Q37.4273 577.948 46.212 577.948 Q54.9649 577.948 59.9619 582.309 Q64.9272 586.67 64.9272 594.308 Q64.9272 601.979 59.9619 606.34 Q54.9649 610.668 46.212 610.668 Q37.4273 610.668 32.4621 606.34 Q27.4968 601.979 27.4968 594.308 Z\" fill=\"#000000\" fill-rule=\"evenodd\" fill-opacity=\"1\" /><path clip-path=\"url(#clip010)\" d=\"M29.7248 542.587 L35.1993 542.587 Q33.8307 545.07 33.1623 547.584 Q32.4621 550.067 32.4621 552.613 Q32.4621 558.31 36.0905 561.461 Q39.6872 564.612 46.212 564.612 Q52.7369 564.612 56.3653 561.461 Q59.9619 558.31 59.9619 552.613 Q59.9619 550.067 59.2935 547.584 Q58.5933 545.07 57.2247 542.587 L62.6355 542.587 Q63.7814 545.038 64.3543 547.68 Q64.9272 550.289 64.9272 553.25 Q64.9272 561.302 59.8664 566.045 Q54.8057 570.787 46.212 570.787 Q37.491 570.787 32.4939 566.013 Q27.4968 561.207 27.4968 552.868 Q27.4968 550.162 28.0697 547.584 Q28.6108 545.006 29.7248 542.587 Z\" fill=\"#000000\" fill-rule=\"evenodd\" fill-opacity=\"1\" /><path clip-path=\"url(#clip010)\" d=\"M28.3562 532.402 L28.3562 526.545 L64.0042 526.545 L64.0042 532.402 L28.3562 532.402 M14.479 532.402 L14.479 526.545 L21.895 526.545 L21.895 532.402 L14.479 532.402 Z\" fill=\"#000000\" fill-rule=\"evenodd\" fill-opacity=\"1\" /><path clip-path=\"url(#clip010)\" d=\"M18.2347 508.499 L28.3562 508.499 L28.3562 496.436 L32.9077 496.436 L32.9077 508.499 L52.2594 508.499 Q56.6199 508.499 57.8613 507.321 Q59.1026 506.111 59.1026 502.451 L59.1026 496.436 L64.0042 496.436 L64.0042 502.451 Q64.0042 509.231 61.4897 511.809 Q58.9434 514.387 52.2594 514.387 L32.9077 514.387 L32.9077 518.684 L28.3562 518.684 L28.3562 514.387 L18.2347 514.387 L18.2347 508.499 Z\" fill=\"#000000\" fill-rule=\"evenodd\" fill-opacity=\"1\" /><path clip-path=\"url(#clip010)\" d=\"M67.3143 473.901 Q73.68 476.384 75.6216 478.739 Q77.5631 481.094 77.5631 485.041 L77.5631 489.72 L72.6615 489.72 L72.6615 486.282 Q72.6615 483.863 71.5157 482.527 Q70.3699 481.19 66.1048 479.566 L63.4312 478.516 L28.3562 492.934 L28.3562 486.728 L56.238 475.588 L28.3562 464.448 L28.3562 458.241 L67.3143 473.901 Z\" fill=\"#000000\" fill-rule=\"evenodd\" fill-opacity=\"1\" /><polyline clip-path=\"url(#clip012)\" style=\"stroke:#009af9; stroke-linecap:round; stroke-linejoin:round; stroke-width:4; stroke-opacity:1; fill:none\" points=\"\n",
       "  333.567,1022.47 347.353,997.886 361.138,1377.26 374.924,1413.33 388.71,1373.62 402.495,1374.55 416.281,1299.35 430.067,1273.13 443.852,1257.41 457.638,1257.84 \n",
       "  471.424,1232.14 485.209,1246.11 498.995,1318.17 512.781,1300.28 526.567,1189.39 540.352,1197.39 554.138,1223.78 567.924,1220.92 581.709,1215.61 595.495,1198.98 \n",
       "  609.281,1240.32 623.066,1236.62 636.852,1212.5 650.638,1214.61 664.423,1165 678.209,1186.24 691.995,1204.6 705.78,1198.17 719.566,1178.33 733.352,1209.29 \n",
       "  747.137,1191.74 760.923,1184.16 774.709,1146.45 788.495,1188.39 802.28,1180.54 816.066,1168.1 829.852,1185.29 843.637,1217.76 857.423,1179.86 871.209,1204.84 \n",
       "  884.994,1198.44 898.78,1203.31 912.566,1173.89 926.351,1140.99 940.137,1150.93 953.923,1163.66 967.708,1144.61 981.494,1181.7 995.28,1193.24 1009.07,1208.71 \n",
       "  1022.85,1180.17 1036.64,1184.62 1050.42,1154.33 1064.21,1155.52 1077.99,1184.65 1091.78,1183.57 1105.57,1158.4 1119.35,1165.87 1133.14,1175.48 1146.92,1172.76 \n",
       "  1160.71,1195.3 1174.49,1176.64 1188.28,1139.75 1202.06,1154.92 1215.85,1174.78 1229.64,1169.67 1243.42,1155.83 1257.21,1160.68 1270.99,1208.44 1284.78,1201.01 \n",
       "  1298.56,1219.11 1312.35,1175.59 1326.14,1169.95 1339.92,1155.08 1353.71,1157.47 1367.49,1149.16 1381.28,1161.62 1395.06,1191.49 1408.85,1179.59 1422.64,1178.84 \n",
       "  1436.42,1155.92 1450.21,1148.91 1463.99,1145.99 1477.78,1184.61 1491.56,1180.98 1505.35,1186.7 1519.14,1169.47 1532.92,1205.92 1546.71,1183.81 1560.49,1159.51 \n",
       "  1574.28,1193.03 1588.06,1194.71 1601.85,1180.69 1615.64,1171.89 1629.42,1188.33 1643.21,1188.63 1656.99,1171.54 1670.78,1198.45 1684.56,1200.21 1698.35,1221.29 \n",
       "  1712.14,1256.3 1725.92,1272.35 1739.71,1244.41 1753.49,1176.22 1767.28,1205.94 1781.06,1161.23 1794.85,1261.4 1808.64,1223.72 1822.42,1178.48 1836.21,1197.91 \n",
       "  1849.99,1217.51 1863.78,1185.91 1877.56,1149.76 1891.35,1164.68 1905.13,1138.65 1918.92,1182.2 1932.71,1150.83 1946.49,1165.1 1960.28,1156.93 1974.06,1143.04 \n",
       "  1987.85,1168.47 2001.63,1168.78 2015.42,1170.98 2029.21,1150.13 2042.99,1143.77 2056.78,1124.65 2070.56,1156.61 2084.35,1116.91 2098.13,1112.99 2111.92,1147.88 \n",
       "  2125.71,1147.34 2139.49,1161.92 2153.28,1170.32 2167.06,1172.84 2180.85,1173.01 2194.63,1162.35 2208.42,1165.32 2222.21,1159.89 2235.99,1160.49 2249.78,1130.11 \n",
       "  2263.56,1122.09 2277.35,1142.77 2291.13,1142.47 \n",
       "  \"/>\n",
       "</svg>\n"
      ]
     },
     "execution_count": 38,
     "metadata": {},
     "output_type": "execute_result"
    }
   ],
   "source": [
    "plot(iterations, avg_velocity, xlabel=\"Iterations\", ylabel=\"Average Velocity\", legend = false, xformatter = :scientific)"
   ]
  },
  {
   "cell_type": "code",
   "execution_count": 39,
   "id": "c3113dc1",
   "metadata": {},
   "outputs": [
    {
     "data": {
      "text/plain": [
       "\"/home/larissa/Documents/Projects/Advanced Deep Learning for Robotics/ADLR_project/src/2d/plots/slow/avg_velocity.svg\""
      ]
     },
     "execution_count": 39,
     "metadata": {},
     "output_type": "execute_result"
    }
   ],
   "source": [
    "savefig(fig_path * \"avg_velocity.svg\")"
   ]
  },
  {
   "cell_type": "code",
   "execution_count": 40,
   "id": "1b4de56f",
   "metadata": {},
   "outputs": [
    {
     "data": {
      "image/svg+xml": [
       "<?xml version=\"1.0\" encoding=\"utf-8\"?>\n",
       "<svg xmlns=\"http://www.w3.org/2000/svg\" xmlns:xlink=\"http://www.w3.org/1999/xlink\" width=\"600\" height=\"400\" viewBox=\"0 0 2400 1600\">\n",
       "<defs>\n",
       "  <clipPath id=\"clip090\">\n",
       "    <rect x=\"0\" y=\"0\" width=\"2400\" height=\"1600\"/>\n",
       "  </clipPath>\n",
       "</defs>\n",
       "<path clip-path=\"url(#clip090)\" d=\"\n",
       "M0 1600 L2400 1600 L2400 0 L0 0  Z\n",
       "  \" fill=\"#ffffff\" fill-rule=\"evenodd\" fill-opacity=\"1\"/>\n",
       "<defs>\n",
       "  <clipPath id=\"clip091\">\n",
       "    <rect x=\"480\" y=\"0\" width=\"1681\" height=\"1600\"/>\n",
       "  </clipPath>\n",
       "</defs>\n",
       "<path clip-path=\"url(#clip090)\" d=\"\n",
       "M175.445 1410.9 L2352.76 1410.9 L2352.76 47.2441 L175.445 47.2441  Z\n",
       "  \" fill=\"#ffffff\" fill-rule=\"evenodd\" fill-opacity=\"1\"/>\n",
       "<defs>\n",
       "  <clipPath id=\"clip092\">\n",
       "    <rect x=\"175\" y=\"47\" width=\"2178\" height=\"1365\"/>\n",
       "  </clipPath>\n",
       "</defs>\n",
       "<polyline clip-path=\"url(#clip092)\" style=\"stroke:#000000; stroke-linecap:round; stroke-linejoin:round; stroke-width:2; stroke-opacity:0.1; fill:none\" points=\"\n",
       "  223.282,1410.9 223.282,47.2441 \n",
       "  \"/>\n",
       "<polyline clip-path=\"url(#clip092)\" style=\"stroke:#000000; stroke-linecap:round; stroke-linejoin:round; stroke-width:2; stroke-opacity:0.1; fill:none\" points=\"\n",
       "  912.566,1410.9 912.566,47.2441 \n",
       "  \"/>\n",
       "<polyline clip-path=\"url(#clip092)\" style=\"stroke:#000000; stroke-linecap:round; stroke-linejoin:round; stroke-width:2; stroke-opacity:0.1; fill:none\" points=\"\n",
       "  1601.85,1410.9 1601.85,47.2441 \n",
       "  \"/>\n",
       "<polyline clip-path=\"url(#clip092)\" style=\"stroke:#000000; stroke-linecap:round; stroke-linejoin:round; stroke-width:2; stroke-opacity:0.1; fill:none\" points=\"\n",
       "  2291.13,1410.9 2291.13,47.2441 \n",
       "  \"/>\n",
       "<polyline clip-path=\"url(#clip090)\" style=\"stroke:#000000; stroke-linecap:round; stroke-linejoin:round; stroke-width:4; stroke-opacity:1; fill:none\" points=\"\n",
       "  175.445,1410.9 2352.76,1410.9 \n",
       "  \"/>\n",
       "<polyline clip-path=\"url(#clip090)\" style=\"stroke:#000000; stroke-linecap:round; stroke-linejoin:round; stroke-width:4; stroke-opacity:1; fill:none\" points=\"\n",
       "  223.282,1410.9 223.282,1392 \n",
       "  \"/>\n",
       "<polyline clip-path=\"url(#clip090)\" style=\"stroke:#000000; stroke-linecap:round; stroke-linejoin:round; stroke-width:4; stroke-opacity:1; fill:none\" points=\"\n",
       "  912.566,1410.9 912.566,1392 \n",
       "  \"/>\n",
       "<polyline clip-path=\"url(#clip090)\" style=\"stroke:#000000; stroke-linecap:round; stroke-linejoin:round; stroke-width:4; stroke-opacity:1; fill:none\" points=\"\n",
       "  1601.85,1410.9 1601.85,1392 \n",
       "  \"/>\n",
       "<polyline clip-path=\"url(#clip090)\" style=\"stroke:#000000; stroke-linecap:round; stroke-linejoin:round; stroke-width:4; stroke-opacity:1; fill:none\" points=\"\n",
       "  2291.13,1410.9 2291.13,1392 \n",
       "  \"/>\n",
       "<path clip-path=\"url(#clip090)\" d=\"M223.282 1441.82 Q219.67 1441.82 217.842 1445.38 Q216.036 1448.92 216.036 1456.05 Q216.036 1463.16 217.842 1466.72 Q219.67 1470.26 223.282 1470.26 Q226.916 1470.26 228.721 1466.72 Q230.55 1463.16 230.55 1456.05 Q230.55 1448.92 228.721 1445.38 Q226.916 1441.82 223.282 1441.82 M223.282 1438.11 Q229.092 1438.11 232.147 1442.72 Q235.226 1447.3 235.226 1456.05 Q235.226 1464.78 232.147 1469.38 Q229.092 1473.97 223.282 1473.97 Q217.471 1473.97 214.393 1469.38 Q211.337 1464.78 211.337 1456.05 Q211.337 1447.3 214.393 1442.72 Q217.471 1438.11 223.282 1438.11 Z\" fill=\"#000000\" fill-rule=\"evenodd\" fill-opacity=\"1\" /><path clip-path=\"url(#clip090)\" d=\"M805.542 1454.4 L823.899 1454.4 L823.899 1458.33 L809.825 1458.33 L809.825 1466.8 Q810.843 1466.46 811.862 1466.29 Q812.88 1466.11 813.899 1466.11 Q819.686 1466.11 823.065 1469.28 Q826.445 1472.45 826.445 1477.87 Q826.445 1483.45 822.973 1486.55 Q819.5 1489.63 813.181 1489.63 Q811.005 1489.63 808.737 1489.26 Q806.491 1488.89 804.084 1488.15 L804.084 1483.45 Q806.167 1484.58 808.389 1485.14 Q810.612 1485.69 813.088 1485.69 Q817.093 1485.69 819.431 1483.59 Q821.769 1481.48 821.769 1477.87 Q821.769 1474.26 819.431 1472.15 Q817.093 1470.04 813.088 1470.04 Q811.213 1470.04 809.338 1470.46 Q807.487 1470.88 805.542 1471.76 L805.542 1454.4 Z\" fill=\"#000000\" fill-rule=\"evenodd\" fill-opacity=\"1\" /><path clip-path=\"url(#clip090)\" d=\"M835.658 1483.08 L840.542 1483.08 L840.542 1488.96 L835.658 1488.96 L835.658 1483.08 Z\" fill=\"#000000\" fill-rule=\"evenodd\" fill-opacity=\"1\" /><path clip-path=\"url(#clip090)\" d=\"M860.727 1457.48 Q857.116 1457.48 855.287 1461.04 Q853.482 1464.58 853.482 1471.71 Q853.482 1478.82 855.287 1482.38 Q857.116 1485.92 860.727 1485.92 Q864.361 1485.92 866.167 1482.38 Q867.996 1478.82 867.996 1471.71 Q867.996 1464.58 866.167 1461.04 Q864.361 1457.48 860.727 1457.48 M860.727 1453.77 Q866.537 1453.77 869.593 1458.38 Q872.671 1462.96 872.671 1471.71 Q872.671 1480.44 869.593 1485.04 Q866.537 1489.63 860.727 1489.63 Q854.917 1489.63 851.838 1485.04 Q848.783 1480.44 848.783 1471.71 Q848.783 1462.96 851.838 1458.38 Q854.917 1453.77 860.727 1453.77 Z\" fill=\"#000000\" fill-rule=\"evenodd\" fill-opacity=\"1\" /><path clip-path=\"url(#clip090)\" d=\"M890.889 1457.48 Q887.278 1457.48 885.449 1461.04 Q883.644 1464.58 883.644 1471.71 Q883.644 1478.82 885.449 1482.38 Q887.278 1485.92 890.889 1485.92 Q894.523 1485.92 896.329 1482.38 Q898.157 1478.82 898.157 1471.71 Q898.157 1464.58 896.329 1461.04 Q894.523 1457.48 890.889 1457.48 M890.889 1453.77 Q896.699 1453.77 899.755 1458.38 Q902.833 1462.96 902.833 1471.71 Q902.833 1480.44 899.755 1485.04 Q896.699 1489.63 890.889 1489.63 Q885.079 1489.63 882 1485.04 Q878.945 1480.44 878.945 1471.71 Q878.945 1462.96 882 1458.38 Q885.079 1453.77 890.889 1453.77 Z\" fill=\"#000000\" fill-rule=\"evenodd\" fill-opacity=\"1\" /><path clip-path=\"url(#clip090)\" d=\"M939.222 1463.49 L928.643 1474.12 L939.222 1484.7 L936.467 1487.5 L925.842 1476.87 L915.218 1487.5 L912.486 1484.7 L923.042 1474.12 L912.486 1463.49 L915.218 1460.69 L925.842 1471.32 L936.467 1460.69 L939.222 1463.49 Z\" fill=\"#000000\" fill-rule=\"evenodd\" fill-opacity=\"1\" /><path clip-path=\"url(#clip090)\" d=\"M951.583 1485.02 L959.222 1485.02 L959.222 1458.66 L950.912 1460.32 L950.912 1456.06 L959.176 1454.4 L963.852 1454.4 L963.852 1485.02 L971.49 1485.02 L971.49 1488.96 L951.583 1488.96 L951.583 1485.02 Z\" fill=\"#000000\" fill-rule=\"evenodd\" fill-opacity=\"1\" /><path clip-path=\"url(#clip090)\" d=\"M990.935 1457.48 Q987.324 1457.48 985.495 1461.04 Q983.689 1464.58 983.689 1471.71 Q983.689 1478.82 985.495 1482.38 Q987.324 1485.92 990.935 1485.92 Q994.569 1485.92 996.375 1482.38 Q998.203 1478.82 998.203 1471.71 Q998.203 1464.58 996.375 1461.04 Q994.569 1457.48 990.935 1457.48 M990.935 1453.77 Q996.745 1453.77 999.8 1458.38 Q1002.88 1462.96 1002.88 1471.71 Q1002.88 1480.44 999.8 1485.04 Q996.745 1489.63 990.935 1489.63 Q985.125 1489.63 982.046 1485.04 Q978.99 1480.44 978.99 1471.71 Q978.99 1462.96 982.046 1458.38 Q985.125 1453.77 990.935 1453.77 Z\" fill=\"#000000\" fill-rule=\"evenodd\" fill-opacity=\"1\" /><path clip-path=\"url(#clip090)\" d=\"M1004.06 1433.47 L1018.98 1433.47 L1018.98 1436.66 L1007.54 1436.66 L1007.54 1443.55 Q1008.37 1443.27 1009.2 1443.13 Q1010.03 1442.98 1010.85 1442.98 Q1015.56 1442.98 1018.3 1445.56 Q1021.05 1448.14 1021.05 1452.54 Q1021.05 1457.07 1018.23 1459.59 Q1015.41 1462.09 1010.27 1462.09 Q1008.5 1462.09 1006.66 1461.79 Q1004.84 1461.49 1002.88 1460.89 L1002.88 1457.07 Q1004.57 1457.99 1006.38 1458.44 Q1008.18 1458.89 1010.2 1458.89 Q1013.45 1458.89 1015.35 1457.18 Q1017.25 1455.47 1017.25 1452.54 Q1017.25 1449.6 1015.35 1447.89 Q1013.45 1446.18 1010.2 1446.18 Q1008.67 1446.18 1007.15 1446.52 Q1005.64 1446.86 1004.06 1447.57 L1004.06 1433.47 Z\" fill=\"#000000\" fill-rule=\"evenodd\" fill-opacity=\"1\" /><path clip-path=\"url(#clip090)\" d=\"M1494.2 1485.02 L1501.84 1485.02 L1501.84 1458.66 L1493.53 1460.32 L1493.53 1456.06 L1501.8 1454.4 L1506.47 1454.4 L1506.47 1485.02 L1514.11 1485.02 L1514.11 1488.96 L1494.2 1488.96 L1494.2 1485.02 Z\" fill=\"#000000\" fill-rule=\"evenodd\" fill-opacity=\"1\" /><path clip-path=\"url(#clip090)\" d=\"M1523.56 1483.08 L1528.44 1483.08 L1528.44 1488.96 L1523.56 1488.96 L1523.56 1483.08 Z\" fill=\"#000000\" fill-rule=\"evenodd\" fill-opacity=\"1\" /><path clip-path=\"url(#clip090)\" d=\"M1548.62 1457.48 Q1545.01 1457.48 1543.18 1461.04 Q1541.38 1464.58 1541.38 1471.71 Q1541.38 1478.82 1543.18 1482.38 Q1545.01 1485.92 1548.62 1485.92 Q1552.26 1485.92 1554.06 1482.38 Q1555.89 1478.82 1555.89 1471.71 Q1555.89 1464.58 1554.06 1461.04 Q1552.26 1457.48 1548.62 1457.48 M1548.62 1453.77 Q1554.43 1453.77 1557.49 1458.38 Q1560.57 1462.96 1560.57 1471.71 Q1560.57 1480.44 1557.49 1485.04 Q1554.43 1489.63 1548.62 1489.63 Q1542.81 1489.63 1539.74 1485.04 Q1536.68 1480.44 1536.68 1471.71 Q1536.68 1462.96 1539.74 1458.38 Q1542.81 1453.77 1548.62 1453.77 Z\" fill=\"#000000\" fill-rule=\"evenodd\" fill-opacity=\"1\" /><path clip-path=\"url(#clip090)\" d=\"M1578.79 1457.48 Q1575.18 1457.48 1573.35 1461.04 Q1571.54 1464.58 1571.54 1471.71 Q1571.54 1478.82 1573.35 1482.38 Q1575.18 1485.92 1578.79 1485.92 Q1582.42 1485.92 1584.23 1482.38 Q1586.05 1478.82 1586.05 1471.71 Q1586.05 1464.58 1584.23 1461.04 Q1582.42 1457.48 1578.79 1457.48 M1578.79 1453.77 Q1584.6 1453.77 1587.65 1458.38 Q1590.73 1462.96 1590.73 1471.71 Q1590.73 1480.44 1587.65 1485.04 Q1584.6 1489.63 1578.79 1489.63 Q1572.98 1489.63 1569.9 1485.04 Q1566.84 1480.44 1566.84 1471.71 Q1566.84 1462.96 1569.9 1458.38 Q1572.98 1453.77 1578.79 1453.77 Z\" fill=\"#000000\" fill-rule=\"evenodd\" fill-opacity=\"1\" /><path clip-path=\"url(#clip090)\" d=\"M1627.12 1463.49 L1616.54 1474.12 L1627.12 1484.7 L1624.36 1487.5 L1613.74 1476.87 L1603.11 1487.5 L1600.38 1484.7 L1610.94 1474.12 L1600.38 1463.49 L1603.11 1460.69 L1613.74 1471.32 L1624.36 1460.69 L1627.12 1463.49 Z\" fill=\"#000000\" fill-rule=\"evenodd\" fill-opacity=\"1\" /><path clip-path=\"url(#clip090)\" d=\"M1639.48 1485.02 L1647.12 1485.02 L1647.12 1458.66 L1638.81 1460.32 L1638.81 1456.06 L1647.07 1454.4 L1651.75 1454.4 L1651.75 1485.02 L1659.39 1485.02 L1659.39 1488.96 L1639.48 1488.96 L1639.48 1485.02 Z\" fill=\"#000000\" fill-rule=\"evenodd\" fill-opacity=\"1\" /><path clip-path=\"url(#clip090)\" d=\"M1678.83 1457.48 Q1675.22 1457.48 1673.39 1461.04 Q1671.59 1464.58 1671.59 1471.71 Q1671.59 1478.82 1673.39 1482.38 Q1675.22 1485.92 1678.83 1485.92 Q1682.47 1485.92 1684.27 1482.38 Q1686.1 1478.82 1686.1 1471.71 Q1686.1 1464.58 1684.27 1461.04 Q1682.47 1457.48 1678.83 1457.48 M1678.83 1453.77 Q1684.64 1453.77 1687.7 1458.38 Q1690.78 1462.96 1690.78 1471.71 Q1690.78 1480.44 1687.7 1485.04 Q1684.64 1489.63 1678.83 1489.63 Q1673.02 1489.63 1669.94 1485.04 Q1666.89 1480.44 1666.89 1471.71 Q1666.89 1462.96 1669.94 1458.38 Q1673.02 1453.77 1678.83 1453.77 Z\" fill=\"#000000\" fill-rule=\"evenodd\" fill-opacity=\"1\" /><path clip-path=\"url(#clip090)\" d=\"M1700.8 1445.99 Q1698.24 1445.99 1696.74 1447.74 Q1695.25 1449.49 1695.25 1452.54 Q1695.25 1455.57 1696.74 1457.33 Q1698.24 1459.08 1700.8 1459.08 Q1703.36 1459.08 1704.84 1457.33 Q1706.35 1455.57 1706.35 1452.54 Q1706.35 1449.49 1704.84 1447.74 Q1703.36 1445.99 1700.8 1445.99 M1708.34 1434.09 L1708.34 1437.55 Q1706.91 1436.87 1705.45 1436.51 Q1704 1436.16 1702.57 1436.16 Q1698.81 1436.16 1696.81 1438.69 Q1694.84 1441.23 1694.56 1446.37 Q1695.67 1444.73 1697.34 1443.87 Q1699.01 1442.98 1701.03 1442.98 Q1705.26 1442.98 1707.7 1445.56 Q1710.17 1448.12 1710.17 1452.54 Q1710.17 1456.86 1707.61 1459.48 Q1705.05 1462.09 1700.8 1462.09 Q1695.93 1462.09 1693.35 1458.37 Q1690.78 1454.62 1690.78 1447.53 Q1690.78 1440.88 1693.94 1436.93 Q1697.1 1432.96 1702.42 1432.96 Q1703.85 1432.96 1705.3 1433.24 Q1706.76 1433.52 1708.34 1434.09 Z\" fill=\"#000000\" fill-rule=\"evenodd\" fill-opacity=\"1\" /><path clip-path=\"url(#clip090)\" d=\"M2183.49 1485.02 L2191.13 1485.02 L2191.13 1458.66 L2182.82 1460.32 L2182.82 1456.06 L2191.08 1454.4 L2195.76 1454.4 L2195.76 1485.02 L2203.39 1485.02 L2203.39 1488.96 L2183.49 1488.96 L2183.49 1485.02 Z\" fill=\"#000000\" fill-rule=\"evenodd\" fill-opacity=\"1\" /><path clip-path=\"url(#clip090)\" d=\"M2212.84 1483.08 L2217.72 1483.08 L2217.72 1488.96 L2212.84 1488.96 L2212.84 1483.08 Z\" fill=\"#000000\" fill-rule=\"evenodd\" fill-opacity=\"1\" /><path clip-path=\"url(#clip090)\" d=\"M2227.95 1454.4 L2246.31 1454.4 L2246.31 1458.33 L2232.24 1458.33 L2232.24 1466.8 Q2233.26 1466.46 2234.27 1466.29 Q2235.29 1466.11 2236.31 1466.11 Q2242.1 1466.11 2245.48 1469.28 Q2248.86 1472.45 2248.86 1477.87 Q2248.86 1483.45 2245.39 1486.55 Q2241.91 1489.63 2235.59 1489.63 Q2233.42 1489.63 2231.15 1489.26 Q2228.9 1488.89 2226.5 1488.15 L2226.5 1483.45 Q2228.58 1484.58 2230.8 1485.14 Q2233.02 1485.69 2235.5 1485.69 Q2239.51 1485.69 2241.84 1483.59 Q2244.18 1481.48 2244.18 1477.87 Q2244.18 1474.26 2241.84 1472.15 Q2239.51 1470.04 2235.5 1470.04 Q2233.63 1470.04 2231.75 1470.46 Q2229.9 1470.88 2227.95 1471.76 L2227.95 1454.4 Z\" fill=\"#000000\" fill-rule=\"evenodd\" fill-opacity=\"1\" /><path clip-path=\"url(#clip090)\" d=\"M2268.07 1457.48 Q2264.46 1457.48 2262.63 1461.04 Q2260.83 1464.58 2260.83 1471.71 Q2260.83 1478.82 2262.63 1482.38 Q2264.46 1485.92 2268.07 1485.92 Q2271.7 1485.92 2273.51 1482.38 Q2275.34 1478.82 2275.34 1471.71 Q2275.34 1464.58 2273.51 1461.04 Q2271.7 1457.48 2268.07 1457.48 M2268.07 1453.77 Q2273.88 1453.77 2276.94 1458.38 Q2280.01 1462.96 2280.01 1471.71 Q2280.01 1480.44 2276.94 1485.04 Q2273.88 1489.63 2268.07 1489.63 Q2262.26 1489.63 2259.18 1485.04 Q2256.13 1480.44 2256.13 1471.71 Q2256.13 1462.96 2259.18 1458.38 Q2262.26 1453.77 2268.07 1453.77 Z\" fill=\"#000000\" fill-rule=\"evenodd\" fill-opacity=\"1\" /><path clip-path=\"url(#clip090)\" d=\"M2316.4 1463.49 L2305.82 1474.12 L2316.4 1484.7 L2313.65 1487.5 L2303.02 1476.87 L2292.4 1487.5 L2289.67 1484.7 L2300.22 1474.12 L2289.67 1463.49 L2292.4 1460.69 L2303.02 1471.32 L2313.65 1460.69 L2316.4 1463.49 Z\" fill=\"#000000\" fill-rule=\"evenodd\" fill-opacity=\"1\" /><path clip-path=\"url(#clip090)\" d=\"M2328.76 1485.02 L2336.4 1485.02 L2336.4 1458.66 L2328.09 1460.32 L2328.09 1456.06 L2336.36 1454.4 L2341.03 1454.4 L2341.03 1485.02 L2348.67 1485.02 L2348.67 1488.96 L2328.76 1488.96 L2328.76 1485.02 Z\" fill=\"#000000\" fill-rule=\"evenodd\" fill-opacity=\"1\" /><path clip-path=\"url(#clip090)\" d=\"M2368.12 1457.48 Q2364.51 1457.48 2362.68 1461.04 Q2360.87 1464.58 2360.87 1471.71 Q2360.87 1478.82 2362.68 1482.38 Q2364.51 1485.92 2368.12 1485.92 Q2371.75 1485.92 2373.56 1482.38 Q2375.38 1478.82 2375.38 1471.71 Q2375.38 1464.58 2373.56 1461.04 Q2371.75 1457.48 2368.12 1457.48 M2368.12 1453.77 Q2373.93 1453.77 2376.98 1458.38 Q2380.06 1462.96 2380.06 1471.71 Q2380.06 1480.44 2376.98 1485.04 Q2373.93 1489.63 2368.12 1489.63 Q2362.31 1489.63 2359.23 1485.04 Q2356.17 1480.44 2356.17 1471.71 Q2356.17 1462.96 2359.23 1458.38 Q2362.31 1453.77 2368.12 1453.77 Z\" fill=\"#000000\" fill-rule=\"evenodd\" fill-opacity=\"1\" /><path clip-path=\"url(#clip090)\" d=\"M2390.09 1445.99 Q2387.53 1445.99 2386.02 1447.74 Q2384.54 1449.49 2384.54 1452.54 Q2384.54 1455.57 2386.02 1457.33 Q2387.53 1459.08 2390.09 1459.08 Q2392.64 1459.08 2394.13 1457.33 Q2395.63 1455.57 2395.63 1452.54 Q2395.63 1449.49 2394.13 1447.74 Q2392.64 1445.99 2390.09 1445.99 M2397.63 1434.09 L2397.63 1437.55 Q2396.2 1436.87 2394.73 1436.51 Q2393.28 1436.16 2391.85 1436.16 Q2388.09 1436.16 2386.1 1438.69 Q2384.12 1441.23 2383.84 1446.37 Q2384.95 1444.73 2386.62 1443.87 Q2388.3 1442.98 2390.31 1442.98 Q2394.54 1442.98 2396.99 1445.56 Q2399.45 1448.12 2399.45 1452.54 Q2399.45 1456.86 2396.89 1459.48 Q2394.34 1462.09 2390.09 1462.09 Q2385.21 1462.09 2382.64 1458.37 Q2380.06 1454.62 2380.06 1447.53 Q2380.06 1440.88 2383.22 1436.93 Q2386.38 1432.96 2391.7 1432.96 Q2393.13 1432.96 2394.58 1433.24 Q2396.05 1433.52 2397.63 1434.09 Z\" fill=\"#000000\" fill-rule=\"evenodd\" fill-opacity=\"1\" /><path clip-path=\"url(#clip090)\" d=\"M1113.66 1526.67 L1120.09 1526.67 L1120.09 1574.19 L1113.66 1574.19 L1113.66 1526.67 Z\" fill=\"#000000\" fill-rule=\"evenodd\" fill-opacity=\"1\" /><path clip-path=\"url(#clip090)\" d=\"M1138.43 1528.42 L1138.43 1538.54 L1150.49 1538.54 L1150.49 1543.09 L1138.43 1543.09 L1138.43 1562.44 Q1138.43 1566.8 1139.6 1568.04 Q1140.81 1569.28 1144.47 1569.28 L1150.49 1569.28 L1150.49 1574.19 L1144.47 1574.19 Q1137.69 1574.19 1135.12 1571.67 Q1132.54 1569.12 1132.54 1562.44 L1132.54 1543.09 L1128.24 1543.09 L1128.24 1538.54 L1132.54 1538.54 L1132.54 1528.42 L1138.43 1528.42 Z\" fill=\"#000000\" fill-rule=\"evenodd\" fill-opacity=\"1\" /><path clip-path=\"url(#clip090)\" d=\"M1188.68 1554.9 L1188.68 1557.76 L1161.76 1557.76 Q1162.14 1563.81 1165.38 1566.99 Q1168.66 1570.14 1174.49 1570.14 Q1177.86 1570.14 1181.01 1569.32 Q1184.2 1568.49 1187.31 1566.83 L1187.31 1572.37 Q1184.16 1573.71 1180.85 1574.41 Q1177.54 1575.11 1174.14 1575.11 Q1165.61 1575.11 1160.61 1570.14 Q1155.64 1565.18 1155.64 1556.71 Q1155.64 1547.96 1160.36 1542.83 Q1165.1 1537.68 1173.12 1537.68 Q1180.31 1537.68 1184.48 1542.33 Q1188.68 1546.94 1188.68 1554.9 M1182.83 1553.18 Q1182.76 1548.37 1180.12 1545.51 Q1177.51 1542.64 1173.18 1542.64 Q1168.28 1542.64 1165.32 1545.41 Q1162.39 1548.18 1161.95 1553.21 L1182.83 1553.18 Z\" fill=\"#000000\" fill-rule=\"evenodd\" fill-opacity=\"1\" /><path clip-path=\"url(#clip090)\" d=\"M1218.95 1544.01 Q1217.97 1543.44 1216.79 1543.18 Q1215.64 1542.9 1214.24 1542.9 Q1209.28 1542.9 1206.6 1546.14 Q1203.96 1549.36 1203.96 1555.41 L1203.96 1574.19 L1198.07 1574.19 L1198.07 1538.54 L1203.96 1538.54 L1203.96 1544.08 Q1205.81 1540.83 1208.77 1539.27 Q1211.73 1537.68 1215.96 1537.68 Q1216.56 1537.68 1217.3 1537.77 Q1218.03 1537.84 1218.92 1538 L1218.95 1544.01 Z\" fill=\"#000000\" fill-rule=\"evenodd\" fill-opacity=\"1\" /><path clip-path=\"url(#clip090)\" d=\"M1241.3 1556.27 Q1234.2 1556.27 1231.46 1557.89 Q1228.72 1559.51 1228.72 1563.43 Q1228.72 1566.55 1230.76 1568.39 Q1232.83 1570.21 1236.36 1570.21 Q1241.23 1570.21 1244.16 1566.77 Q1247.12 1563.3 1247.12 1557.57 L1247.12 1556.27 L1241.3 1556.27 M1252.98 1553.85 L1252.98 1574.19 L1247.12 1574.19 L1247.12 1568.77 Q1245.11 1572.02 1242.12 1573.58 Q1239.13 1575.11 1234.8 1575.11 Q1229.33 1575.11 1226.08 1572.05 Q1222.87 1568.97 1222.87 1563.81 Q1222.87 1557.79 1226.88 1554.74 Q1230.92 1551.68 1238.91 1551.68 L1247.12 1551.68 L1247.12 1551.11 Q1247.12 1547.07 1244.45 1544.87 Q1241.8 1542.64 1237 1542.64 Q1233.94 1542.64 1231.05 1543.38 Q1228.15 1544.11 1225.48 1545.57 L1225.48 1540.16 Q1228.69 1538.92 1231.72 1538.31 Q1234.74 1537.68 1237.6 1537.68 Q1245.34 1537.68 1249.16 1541.69 Q1252.98 1545.7 1252.98 1553.85 Z\" fill=\"#000000\" fill-rule=\"evenodd\" fill-opacity=\"1\" /><path clip-path=\"url(#clip090)\" d=\"M1270.83 1528.42 L1270.83 1538.54 L1282.9 1538.54 L1282.9 1543.09 L1270.83 1543.09 L1270.83 1562.44 Q1270.83 1566.8 1272.01 1568.04 Q1273.22 1569.28 1276.88 1569.28 L1282.9 1569.28 L1282.9 1574.19 L1276.88 1574.19 Q1270.1 1574.19 1267.52 1571.67 Q1264.94 1569.12 1264.94 1562.44 L1264.94 1543.09 L1260.65 1543.09 L1260.65 1538.54 L1264.94 1538.54 L1264.94 1528.42 L1270.83 1528.42 Z\" fill=\"#000000\" fill-rule=\"evenodd\" fill-opacity=\"1\" /><path clip-path=\"url(#clip090)\" d=\"M1290.6 1538.54 L1296.45 1538.54 L1296.45 1574.19 L1290.6 1574.19 L1290.6 1538.54 M1290.6 1524.66 L1296.45 1524.66 L1296.45 1532.08 L1290.6 1532.08 L1290.6 1524.66 Z\" fill=\"#000000\" fill-rule=\"evenodd\" fill-opacity=\"1\" /><path clip-path=\"url(#clip090)\" d=\"M1322.52 1542.64 Q1317.81 1542.64 1315.07 1546.34 Q1312.34 1550 1312.34 1556.39 Q1312.34 1562.79 1315.04 1566.48 Q1317.78 1570.14 1322.52 1570.14 Q1327.2 1570.14 1329.94 1566.45 Q1332.68 1562.76 1332.68 1556.39 Q1332.68 1550.06 1329.94 1546.37 Q1327.2 1542.64 1322.52 1542.64 M1322.52 1537.68 Q1330.16 1537.68 1334.52 1542.64 Q1338.88 1547.61 1338.88 1556.39 Q1338.88 1565.15 1334.52 1570.14 Q1330.16 1575.11 1322.52 1575.11 Q1314.85 1575.11 1310.49 1570.14 Q1306.16 1565.15 1306.16 1556.39 Q1306.16 1547.61 1310.49 1542.64 Q1314.85 1537.68 1322.52 1537.68 Z\" fill=\"#000000\" fill-rule=\"evenodd\" fill-opacity=\"1\" /><path clip-path=\"url(#clip090)\" d=\"M1378.22 1552.67 L1378.22 1574.19 L1372.37 1574.19 L1372.37 1552.86 Q1372.37 1547.8 1370.39 1545.29 Q1368.42 1542.77 1364.47 1542.77 Q1359.73 1542.77 1356.99 1545.79 Q1354.25 1548.82 1354.25 1554.04 L1354.25 1574.19 L1348.37 1574.19 L1348.37 1538.54 L1354.25 1538.54 L1354.25 1544.08 Q1356.36 1540.86 1359.19 1539.27 Q1362.05 1537.68 1365.78 1537.68 Q1371.92 1537.68 1375.07 1541.5 Q1378.22 1545.29 1378.22 1552.67 Z\" fill=\"#000000\" fill-rule=\"evenodd\" fill-opacity=\"1\" /><path clip-path=\"url(#clip090)\" d=\"M1412.63 1539.59 L1412.63 1545.13 Q1410.15 1543.85 1407.47 1543.22 Q1404.8 1542.58 1401.93 1542.58 Q1397.57 1542.58 1395.38 1543.92 Q1393.21 1545.25 1393.21 1547.93 Q1393.21 1549.96 1394.77 1551.14 Q1396.33 1552.29 1401.04 1553.34 L1403.05 1553.78 Q1409.29 1555.12 1411.9 1557.57 Q1414.54 1559.99 1414.54 1564.35 Q1414.54 1569.32 1410.59 1572.21 Q1406.68 1575.11 1399.8 1575.11 Q1396.94 1575.11 1393.82 1574.54 Q1390.73 1573.99 1387.29 1572.88 L1387.29 1566.83 Q1390.54 1568.52 1393.69 1569.38 Q1396.84 1570.21 1399.93 1570.21 Q1404.07 1570.21 1406.29 1568.81 Q1408.52 1567.37 1408.52 1564.8 Q1408.52 1562.41 1406.9 1561.14 Q1405.31 1559.86 1399.87 1558.68 L1397.83 1558.21 Q1392.39 1557.06 1389.97 1554.71 Q1387.55 1552.32 1387.55 1548.18 Q1387.55 1543.15 1391.11 1540.42 Q1394.68 1537.68 1401.23 1537.68 Q1404.48 1537.68 1407.34 1538.16 Q1410.21 1538.63 1412.63 1539.59 Z\" fill=\"#000000\" fill-rule=\"evenodd\" fill-opacity=\"1\" /><polyline clip-path=\"url(#clip092)\" style=\"stroke:#000000; stroke-linecap:round; stroke-linejoin:round; stroke-width:2; stroke-opacity:0.1; fill:none\" points=\"\n",
       "  175.445,1297.26 2352.76,1297.26 \n",
       "  \"/>\n",
       "<polyline clip-path=\"url(#clip092)\" style=\"stroke:#000000; stroke-linecap:round; stroke-linejoin:round; stroke-width:2; stroke-opacity:0.1; fill:none\" points=\"\n",
       "  175.445,1069.98 2352.76,1069.98 \n",
       "  \"/>\n",
       "<polyline clip-path=\"url(#clip092)\" style=\"stroke:#000000; stroke-linecap:round; stroke-linejoin:round; stroke-width:2; stroke-opacity:0.1; fill:none\" points=\"\n",
       "  175.445,842.708 2352.76,842.708 \n",
       "  \"/>\n",
       "<polyline clip-path=\"url(#clip092)\" style=\"stroke:#000000; stroke-linecap:round; stroke-linejoin:round; stroke-width:2; stroke-opacity:0.1; fill:none\" points=\"\n",
       "  175.445,615.433 2352.76,615.433 \n",
       "  \"/>\n",
       "<polyline clip-path=\"url(#clip092)\" style=\"stroke:#000000; stroke-linecap:round; stroke-linejoin:round; stroke-width:2; stroke-opacity:0.1; fill:none\" points=\"\n",
       "  175.445,388.157 2352.76,388.157 \n",
       "  \"/>\n",
       "<polyline clip-path=\"url(#clip092)\" style=\"stroke:#000000; stroke-linecap:round; stroke-linejoin:round; stroke-width:2; stroke-opacity:0.1; fill:none\" points=\"\n",
       "  175.445,160.882 2352.76,160.882 \n",
       "  \"/>\n",
       "<polyline clip-path=\"url(#clip090)\" style=\"stroke:#000000; stroke-linecap:round; stroke-linejoin:round; stroke-width:4; stroke-opacity:1; fill:none\" points=\"\n",
       "  175.445,1410.9 175.445,47.2441 \n",
       "  \"/>\n",
       "<polyline clip-path=\"url(#clip090)\" style=\"stroke:#000000; stroke-linecap:round; stroke-linejoin:round; stroke-width:4; stroke-opacity:1; fill:none\" points=\"\n",
       "  175.445,1297.26 194.343,1297.26 \n",
       "  \"/>\n",
       "<polyline clip-path=\"url(#clip090)\" style=\"stroke:#000000; stroke-linecap:round; stroke-linejoin:round; stroke-width:4; stroke-opacity:1; fill:none\" points=\"\n",
       "  175.445,1069.98 194.343,1069.98 \n",
       "  \"/>\n",
       "<polyline clip-path=\"url(#clip090)\" style=\"stroke:#000000; stroke-linecap:round; stroke-linejoin:round; stroke-width:4; stroke-opacity:1; fill:none\" points=\"\n",
       "  175.445,842.708 194.343,842.708 \n",
       "  \"/>\n",
       "<polyline clip-path=\"url(#clip090)\" style=\"stroke:#000000; stroke-linecap:round; stroke-linejoin:round; stroke-width:4; stroke-opacity:1; fill:none\" points=\"\n",
       "  175.445,615.433 194.343,615.433 \n",
       "  \"/>\n",
       "<polyline clip-path=\"url(#clip090)\" style=\"stroke:#000000; stroke-linecap:round; stroke-linejoin:round; stroke-width:4; stroke-opacity:1; fill:none\" points=\"\n",
       "  175.445,388.157 194.343,388.157 \n",
       "  \"/>\n",
       "<polyline clip-path=\"url(#clip090)\" style=\"stroke:#000000; stroke-linecap:round; stroke-linejoin:round; stroke-width:4; stroke-opacity:1; fill:none\" points=\"\n",
       "  175.445,160.882 194.343,160.882 \n",
       "  \"/>\n",
       "<path clip-path=\"url(#clip090)\" d=\"M132.316 1295.9 Q135.672 1296.62 137.547 1298.89 Q139.445 1301.16 139.445 1304.49 Q139.445 1309.61 135.927 1312.41 Q132.408 1315.21 125.927 1315.21 Q123.751 1315.21 121.436 1314.77 Q119.144 1314.35 116.691 1313.5 L116.691 1308.98 Q118.635 1310.12 120.95 1310.7 Q123.265 1311.28 125.788 1311.28 Q130.186 1311.28 132.478 1309.54 Q134.792 1307.8 134.792 1304.49 Q134.792 1301.44 132.64 1299.72 Q130.51 1297.99 126.691 1297.99 L122.663 1297.99 L122.663 1294.15 L126.876 1294.15 Q130.325 1294.15 132.154 1292.78 Q133.982 1291.39 133.982 1288.8 Q133.982 1286.14 132.084 1284.72 Q130.209 1283.29 126.691 1283.29 Q124.769 1283.29 122.57 1283.71 Q120.371 1284.12 117.732 1285 L117.732 1280.84 Q120.394 1280.09 122.709 1279.72 Q125.047 1279.35 127.107 1279.35 Q132.431 1279.35 135.533 1281.78 Q138.635 1284.19 138.635 1288.31 Q138.635 1291.18 136.992 1293.17 Q135.348 1295.14 132.316 1295.9 Z\" fill=\"#000000\" fill-rule=\"evenodd\" fill-opacity=\"1\" /><path clip-path=\"url(#clip090)\" d=\"M129.862 1056.78 L118.056 1075.23 L129.862 1075.23 L129.862 1056.78 M128.635 1052.7 L134.515 1052.7 L134.515 1075.23 L139.445 1075.23 L139.445 1079.12 L134.515 1079.12 L134.515 1087.26 L129.862 1087.26 L129.862 1079.12 L114.26 1079.12 L114.26 1074.6 L128.635 1052.7 Z\" fill=\"#000000\" fill-rule=\"evenodd\" fill-opacity=\"1\" /><path clip-path=\"url(#clip090)\" d=\"M118.543 825.428 L136.899 825.428 L136.899 829.363 L122.825 829.363 L122.825 837.835 Q123.843 837.488 124.862 837.326 Q125.88 837.141 126.899 837.141 Q132.686 837.141 136.066 840.312 Q139.445 843.484 139.445 848.9 Q139.445 854.479 135.973 857.581 Q132.501 860.659 126.181 860.659 Q124.005 860.659 121.737 860.289 Q119.492 859.919 117.084 859.178 L117.084 854.479 Q119.168 855.613 121.39 856.169 Q123.612 856.724 126.089 856.724 Q130.093 856.724 132.431 854.618 Q134.769 852.511 134.769 848.9 Q134.769 845.289 132.431 843.183 Q130.093 841.076 126.089 841.076 Q124.214 841.076 122.339 841.493 Q120.487 841.909 118.543 842.789 L118.543 825.428 Z\" fill=\"#000000\" fill-rule=\"evenodd\" fill-opacity=\"1\" /><path clip-path=\"url(#clip090)\" d=\"M127.917 613.569 Q124.769 613.569 122.918 615.722 Q121.089 617.875 121.089 621.625 Q121.089 625.352 122.918 627.527 Q124.769 629.68 127.917 629.68 Q131.066 629.68 132.894 627.527 Q134.746 625.352 134.746 621.625 Q134.746 617.875 132.894 615.722 Q131.066 613.569 127.917 613.569 M137.2 598.917 L137.2 603.176 Q135.441 602.342 133.635 601.903 Q131.853 601.463 130.093 601.463 Q125.464 601.463 123.01 604.588 Q120.58 607.713 120.232 614.032 Q121.598 612.018 123.658 610.954 Q125.718 609.866 128.195 609.866 Q133.404 609.866 136.413 613.037 Q139.445 616.185 139.445 621.625 Q139.445 626.949 136.297 630.166 Q133.149 633.384 127.917 633.384 Q121.922 633.384 118.751 628.801 Q115.58 624.194 115.58 615.467 Q115.58 607.273 119.468 602.412 Q123.357 597.528 129.908 597.528 Q131.667 597.528 133.45 597.875 Q135.255 598.222 137.2 598.917 Z\" fill=\"#000000\" fill-rule=\"evenodd\" fill-opacity=\"1\" /><path clip-path=\"url(#clip090)\" d=\"M117.223 370.877 L139.445 370.877 L139.445 372.868 L126.899 405.437 L122.015 405.437 L133.82 374.812 L117.223 374.812 L117.223 370.877 Z\" fill=\"#000000\" fill-rule=\"evenodd\" fill-opacity=\"1\" /><path clip-path=\"url(#clip090)\" d=\"M127.593 161.75 Q124.26 161.75 122.339 163.532 Q120.441 165.315 120.441 168.44 Q120.441 171.565 122.339 173.347 Q124.26 175.129 127.593 175.129 Q130.927 175.129 132.848 173.347 Q134.769 171.541 134.769 168.44 Q134.769 165.315 132.848 163.532 Q130.95 161.75 127.593 161.75 M122.918 159.759 Q119.908 159.018 118.218 156.958 Q116.552 154.898 116.552 151.935 Q116.552 147.792 119.492 145.384 Q122.455 142.977 127.593 142.977 Q132.755 142.977 135.695 145.384 Q138.635 147.792 138.635 151.935 Q138.635 154.898 136.945 156.958 Q135.279 159.018 132.292 159.759 Q135.672 160.546 137.547 162.838 Q139.445 165.129 139.445 168.44 Q139.445 173.463 136.367 176.148 Q133.311 178.833 127.593 178.833 Q121.876 178.833 118.797 176.148 Q115.742 173.463 115.742 168.44 Q115.742 165.129 117.64 162.838 Q119.538 160.546 122.918 159.759 M121.205 152.375 Q121.205 155.06 122.871 156.565 Q124.561 158.069 127.593 158.069 Q130.603 158.069 132.292 156.565 Q134.005 155.06 134.005 152.375 Q134.005 149.69 132.292 148.185 Q130.603 146.68 127.593 146.68 Q124.561 146.68 122.871 148.185 Q121.205 149.69 121.205 152.375 Z\" fill=\"#000000\" fill-rule=\"evenodd\" fill-opacity=\"1\" /><path clip-path=\"url(#clip090)\" d=\"M22.818 1126.31 L46.4666 1135.03 L46.4666 1117.55 L22.818 1126.31 M16.4842 1129.93 L16.4842 1122.65 L64.0042 1104.54 L64.0042 1111.22 L51.8138 1115.55 L51.8138 1136.97 L64.0042 1141.3 L64.0042 1148.08 L16.4842 1129.93 Z\" fill=\"#000000\" fill-rule=\"evenodd\" fill-opacity=\"1\" /><path clip-path=\"url(#clip090)\" d=\"M28.3562 1105.87 L28.3562 1099.67 L58.275 1088.53 L28.3562 1077.39 L28.3562 1071.18 L64.0042 1084.55 L64.0042 1092.5 L28.3562 1105.87 Z\" fill=\"#000000\" fill-rule=\"evenodd\" fill-opacity=\"1\" /><path clip-path=\"url(#clip090)\" d=\"M44.7161 1032.6 L47.5806 1032.6 L47.5806 1059.53 Q53.6281 1059.15 56.8109 1055.9 Q59.9619 1052.62 59.9619 1046.8 Q59.9619 1043.42 59.1344 1040.27 Q58.3069 1037.09 56.6518 1033.97 L62.1899 1033.97 Q63.5267 1037.12 64.227 1040.43 Q64.9272 1043.74 64.9272 1047.15 Q64.9272 1055.68 59.9619 1060.68 Q54.9967 1065.64 46.5303 1065.64 Q37.7774 1065.64 32.6531 1060.93 Q27.4968 1056.19 27.4968 1048.17 Q27.4968 1040.97 32.1438 1036.8 Q36.7589 1032.6 44.7161 1032.6 M42.9973 1038.46 Q38.1912 1038.52 35.3266 1041.17 Q32.4621 1043.77 32.4621 1048.1 Q32.4621 1053.01 35.2312 1055.97 Q38.0002 1058.89 43.0292 1059.34 L42.9973 1038.46 Z\" fill=\"#000000\" fill-rule=\"evenodd\" fill-opacity=\"1\" /><path clip-path=\"url(#clip090)\" d=\"M33.8307 1002.33 Q33.2578 1003.32 33.0032 1004.5 Q32.7167 1005.64 32.7167 1007.04 Q32.7167 1012.01 35.9632 1014.68 Q39.1779 1017.33 45.2253 1017.33 L64.0042 1017.33 L64.0042 1023.21 L28.3562 1023.21 L28.3562 1017.33 L33.8944 1017.33 Q30.6479 1015.48 29.0883 1012.52 Q27.4968 1009.56 27.4968 1005.33 Q27.4968 1004.72 27.5923 1003.99 Q27.656 1003.26 27.8151 1002.37 L33.8307 1002.33 Z\" fill=\"#000000\" fill-rule=\"evenodd\" fill-opacity=\"1\" /><path clip-path=\"url(#clip090)\" d=\"M46.0847 979.991 Q46.0847 987.088 47.7079 989.826 Q49.3312 992.563 53.2461 992.563 Q56.3653 992.563 58.2114 990.526 Q60.0256 988.457 60.0256 984.924 Q60.0256 980.054 56.5881 977.126 Q53.1188 974.166 47.3897 974.166 L46.0847 974.166 L46.0847 979.991 M43.6657 968.31 L64.0042 968.31 L64.0042 974.166 L58.5933 974.166 Q61.8398 976.171 63.3994 979.163 Q64.9272 982.155 64.9272 986.484 Q64.9272 991.958 61.8716 995.205 Q58.7843 998.419 53.6281 998.419 Q47.6125 998.419 44.5569 994.409 Q41.5014 990.367 41.5014 982.378 L41.5014 974.166 L40.9285 974.166 Q36.8862 974.166 34.6901 976.84 Q32.4621 979.481 32.4621 984.287 Q32.4621 987.343 33.1941 990.239 Q33.9262 993.136 35.3903 995.809 L29.9795 995.809 Q28.7381 992.595 28.1334 989.571 Q27.4968 986.547 27.4968 983.683 Q27.4968 975.948 31.5072 972.129 Q35.5176 968.31 43.6657 968.31 Z\" fill=\"#000000\" fill-rule=\"evenodd\" fill-opacity=\"1\" /><path clip-path=\"url(#clip090)\" d=\"M45.7664 932.789 Q39.4007 932.789 35.8996 935.431 Q32.3984 938.041 32.3984 942.783 Q32.3984 947.494 35.8996 950.135 Q39.4007 952.745 45.7664 952.745 Q52.1003 952.745 55.6014 950.135 Q59.1026 947.494 59.1026 942.783 Q59.1026 938.041 55.6014 935.431 Q52.1003 932.789 45.7664 932.789 M59.58 926.932 Q68.683 926.932 73.1071 930.975 Q77.5631 935.017 77.5631 943.356 Q77.5631 946.443 77.0857 949.181 Q76.6401 951.918 75.6852 954.496 L69.9879 954.496 Q71.3884 951.918 72.0568 949.403 Q72.7252 946.889 72.7252 944.279 Q72.7252 938.518 69.7015 935.653 Q66.7096 932.789 60.6303 932.789 L57.7339 932.789 Q60.885 934.603 62.4446 937.436 Q64.0042 940.269 64.0042 944.215 Q64.0042 950.772 59.0071 954.782 Q54.01 958.793 45.7664 958.793 Q37.491 958.793 32.4939 954.782 Q27.4968 950.772 27.4968 944.215 Q27.4968 940.269 29.0564 937.436 Q30.616 934.603 33.7671 932.789 L28.3562 932.789 L28.3562 926.932 L59.58 926.932 Z\" fill=\"#000000\" fill-rule=\"evenodd\" fill-opacity=\"1\" /><path clip-path=\"url(#clip090)\" d=\"M44.7161 884.378 L47.5806 884.378 L47.5806 911.305 Q53.6281 910.923 56.8109 907.676 Q59.9619 904.398 59.9619 898.573 Q59.9619 895.199 59.1344 892.048 Q58.3069 888.866 56.6518 885.746 L62.1899 885.746 Q63.5267 888.897 64.227 892.208 Q64.9272 895.518 64.9272 898.923 Q64.9272 907.453 59.9619 912.45 Q54.9967 917.416 46.5303 917.416 Q37.7774 917.416 32.6531 912.705 Q27.4968 907.963 27.4968 899.942 Q27.4968 892.749 32.1438 888.579 Q36.7589 884.378 44.7161 884.378 M42.9973 890.234 Q38.1912 890.298 35.3266 892.94 Q32.4621 895.55 32.4621 899.878 Q32.4621 904.78 35.2312 907.74 Q38.0002 910.668 43.0292 911.114 L42.9973 890.234 Z\" fill=\"#000000\" fill-rule=\"evenodd\" fill-opacity=\"1\" /><path clip-path=\"url(#clip090)\" d=\"M20.1444 818.206 L26.9239 818.206 Q23.9002 821.453 22.4043 825.145 Q20.9083 828.805 20.9083 832.943 Q20.9083 841.091 25.9054 845.42 Q30.8707 849.748 40.2919 849.748 Q49.6813 849.748 54.6784 845.42 Q59.6436 841.091 59.6436 832.943 Q59.6436 828.805 58.1477 825.145 Q56.6518 821.453 53.6281 818.206 L60.3439 818.206 Q62.6355 821.58 63.7814 825.368 Q64.9272 829.123 64.9272 833.325 Q64.9272 844.115 58.3387 850.321 Q51.7183 856.528 40.2919 856.528 Q28.8336 856.528 22.2451 850.321 Q15.6248 844.115 15.6248 833.325 Q15.6248 829.06 16.7706 825.304 Q17.8846 821.516 20.1444 818.206 Z\" fill=\"#000000\" fill-rule=\"evenodd\" fill-opacity=\"1\" /><path clip-path=\"url(#clip090)\" d=\"M32.4621 794.717 Q32.4621 799.427 36.1542 802.165 Q39.8145 804.902 46.212 804.902 Q52.6095 804.902 56.3017 802.196 Q59.9619 799.459 59.9619 794.717 Q59.9619 790.038 56.2698 787.301 Q52.5777 784.563 46.212 784.563 Q39.8781 784.563 36.186 787.301 Q32.4621 790.038 32.4621 794.717 M27.4968 794.717 Q27.4968 787.078 32.4621 782.717 Q37.4273 778.357 46.212 778.357 Q54.9649 778.357 59.9619 782.717 Q64.9272 787.078 64.9272 794.717 Q64.9272 802.387 59.9619 806.748 Q54.9649 811.077 46.212 811.077 Q37.4273 811.077 32.4621 806.748 Q27.4968 802.387 27.4968 794.717 Z\" fill=\"#000000\" fill-rule=\"evenodd\" fill-opacity=\"1\" /><path clip-path=\"url(#clip090)\" d=\"M35.1993 740.895 Q31.2526 738.698 29.3747 735.643 Q27.4968 732.587 27.4968 728.45 Q27.4968 722.88 31.4117 719.856 Q35.2948 716.832 42.4881 716.832 L64.0042 716.832 L64.0042 722.721 L42.679 722.721 Q37.5546 722.721 35.072 724.535 Q32.5894 726.349 32.5894 730.073 Q32.5894 734.624 35.6131 737.266 Q38.6368 739.908 43.8567 739.908 L64.0042 739.908 L64.0042 745.796 L42.679 745.796 Q37.5228 745.796 35.072 747.61 Q32.5894 749.425 32.5894 753.212 Q32.5894 757.7 35.6449 760.342 Q38.6686 762.984 43.8567 762.984 L64.0042 762.984 L64.0042 768.872 L28.3562 768.872 L28.3562 762.984 L33.8944 762.984 Q30.616 760.978 29.0564 758.178 Q27.4968 755.377 27.4968 751.525 Q27.4968 747.642 29.4702 744.937 Q31.4436 742.2 35.1993 740.895 Z\" fill=\"#000000\" fill-rule=\"evenodd\" fill-opacity=\"1\" /><path clip-path=\"url(#clip090)\" d=\"M58.657 699.486 L77.5631 699.486 L77.5631 705.374 L28.3562 705.374 L28.3562 699.486 L33.7671 699.486 Q30.5842 697.64 29.0564 694.839 Q27.4968 692.006 27.4968 688.091 Q27.4968 681.598 32.6531 677.556 Q37.8093 673.482 46.212 673.482 Q54.6147 673.482 59.771 677.556 Q64.9272 681.598 64.9272 688.091 Q64.9272 692.006 63.3994 694.839 Q61.8398 697.64 58.657 699.486 M46.212 679.561 Q39.7508 679.561 36.0905 682.235 Q32.3984 684.876 32.3984 689.523 Q32.3984 694.17 36.0905 696.844 Q39.7508 699.486 46.212 699.486 Q52.6732 699.486 56.3653 696.844 Q60.0256 694.17 60.0256 689.523 Q60.0256 684.876 56.3653 682.235 Q52.6732 679.561 46.212 679.561 Z\" fill=\"#000000\" fill-rule=\"evenodd\" fill-opacity=\"1\" /><path clip-path=\"url(#clip090)\" d=\"M14.479 663.774 L14.479 657.918 L64.0042 657.918 L64.0042 663.774 L14.479 663.774 Z\" fill=\"#000000\" fill-rule=\"evenodd\" fill-opacity=\"1\" /><path clip-path=\"url(#clip090)\" d=\"M44.7161 615.172 L47.5806 615.172 L47.5806 642.099 Q53.6281 641.717 56.8109 638.47 Q59.9619 635.192 59.9619 629.367 Q59.9619 625.994 59.1344 622.843 Q58.3069 619.66 56.6518 616.541 L62.1899 616.541 Q63.5267 619.692 64.227 623.002 Q64.9272 626.312 64.9272 629.718 Q64.9272 638.248 59.9619 643.245 Q54.9967 648.21 46.5303 648.21 Q37.7774 648.21 32.6531 643.499 Q27.4968 638.757 27.4968 630.736 Q27.4968 623.543 32.1438 619.373 Q36.7589 615.172 44.7161 615.172 M42.9973 621.028 Q38.1912 621.092 35.3266 623.734 Q32.4621 626.344 32.4621 630.672 Q32.4621 635.574 35.2312 638.534 Q38.0002 641.462 43.0292 641.908 L42.9973 621.028 Z\" fill=\"#000000\" fill-rule=\"evenodd\" fill-opacity=\"1\" /><path clip-path=\"url(#clip090)\" d=\"M18.2347 599.767 L28.3562 599.767 L28.3562 587.704 L32.9077 587.704 L32.9077 599.767 L52.2594 599.767 Q56.6199 599.767 57.8613 598.589 Q59.1026 597.38 59.1026 593.72 L59.1026 587.704 L64.0042 587.704 L64.0042 593.72 Q64.0042 600.499 61.4897 603.077 Q58.9434 605.655 52.2594 605.655 L32.9077 605.655 L32.9077 609.952 L28.3562 609.952 L28.3562 605.655 L18.2347 605.655 L18.2347 599.767 Z\" fill=\"#000000\" fill-rule=\"evenodd\" fill-opacity=\"1\" /><path clip-path=\"url(#clip090)\" d=\"M28.3562 580.001 L28.3562 574.145 L64.0042 574.145 L64.0042 580.001 L28.3562 580.001 M14.479 580.001 L14.479 574.145 L21.895 574.145 L21.895 580.001 L14.479 580.001 Z\" fill=\"#000000\" fill-rule=\"evenodd\" fill-opacity=\"1\" /><path clip-path=\"url(#clip090)\" d=\"M32.4621 548.077 Q32.4621 552.788 36.1542 555.525 Q39.8145 558.263 46.212 558.263 Q52.6095 558.263 56.3017 555.557 Q59.9619 552.82 59.9619 548.077 Q59.9619 543.399 56.2698 540.661 Q52.5777 537.924 46.212 537.924 Q39.8781 537.924 36.186 540.661 Q32.4621 543.399 32.4621 548.077 M27.4968 548.077 Q27.4968 540.439 32.4621 536.078 Q37.4273 531.718 46.212 531.718 Q54.9649 531.718 59.9619 536.078 Q64.9272 540.439 64.9272 548.077 Q64.9272 555.748 59.9619 560.109 Q54.9649 564.437 46.212 564.437 Q37.4273 564.437 32.4621 560.109 Q27.4968 555.748 27.4968 548.077 Z\" fill=\"#000000\" fill-rule=\"evenodd\" fill-opacity=\"1\" /><path clip-path=\"url(#clip090)\" d=\"M42.4881 492.377 L64.0042 492.377 L64.0042 498.234 L42.679 498.234 Q37.6183 498.234 35.1038 500.207 Q32.5894 502.181 32.5894 506.127 Q32.5894 510.87 35.6131 513.607 Q38.6368 516.344 43.8567 516.344 L64.0042 516.344 L64.0042 522.233 L28.3562 522.233 L28.3562 516.344 L33.8944 516.344 Q30.6797 514.244 29.0883 511.411 Q27.4968 508.546 27.4968 504.822 Q27.4968 498.68 31.3163 495.529 Q35.1038 492.377 42.4881 492.377 Z\" fill=\"#000000\" fill-rule=\"evenodd\" fill-opacity=\"1\" /><path clip-path=\"url(#clip090)\" d=\"M16.4842 466.31 L16.4842 426.11 L21.895 426.11 L21.895 442.98 L64.0042 442.98 L64.0042 449.441 L21.895 449.441 L21.895 466.31 L16.4842 466.31 Z\" fill=\"#000000\" fill-rule=\"evenodd\" fill-opacity=\"1\" /><path clip-path=\"url(#clip090)\" d=\"M28.3562 422.164 L28.3562 416.307 L64.0042 416.307 L64.0042 422.164 L28.3562 422.164 M14.479 422.164 L14.479 416.307 L21.895 416.307 L21.895 422.164 L14.479 422.164 Z\" fill=\"#000000\" fill-rule=\"evenodd\" fill-opacity=\"1\" /><path clip-path=\"url(#clip090)\" d=\"M35.1993 376.299 Q31.2526 374.103 29.3747 371.047 Q27.4968 367.992 27.4968 363.854 Q27.4968 358.284 31.4117 355.26 Q35.2948 352.236 42.4881 352.236 L64.0042 352.236 L64.0042 358.125 L42.679 358.125 Q37.5546 358.125 35.072 359.939 Q32.5894 361.753 32.5894 365.477 Q32.5894 370.029 35.6131 372.67 Q38.6368 375.312 43.8567 375.312 L64.0042 375.312 L64.0042 381.2 L42.679 381.2 Q37.5228 381.2 35.072 383.015 Q32.5894 384.829 32.5894 388.616 Q32.5894 393.104 35.6449 395.746 Q38.6686 398.388 43.8567 398.388 L64.0042 398.388 L64.0042 404.276 L28.3562 404.276 L28.3562 398.388 L33.8944 398.388 Q30.616 396.383 29.0564 393.582 Q27.4968 390.781 27.4968 386.93 Q27.4968 383.046 29.4702 380.341 Q31.4436 377.604 35.1993 376.299 Z\" fill=\"#000000\" fill-rule=\"evenodd\" fill-opacity=\"1\" /><path clip-path=\"url(#clip090)\" d=\"M44.7161 310.064 L47.5806 310.064 L47.5806 336.991 Q53.6281 336.609 56.8109 333.362 Q59.9619 330.084 59.9619 324.259 Q59.9619 320.885 59.1344 317.734 Q58.3069 314.551 56.6518 311.432 L62.1899 311.432 Q63.5267 314.583 64.227 317.893 Q64.9272 321.204 64.9272 324.609 Q64.9272 333.139 59.9619 338.136 Q54.9967 343.102 46.5303 343.102 Q37.7774 343.102 32.6531 338.391 Q27.4968 333.649 27.4968 325.628 Q27.4968 318.435 32.1438 314.265 Q36.7589 310.064 44.7161 310.064 M42.9973 315.92 Q38.1912 315.984 35.3266 318.626 Q32.4621 321.235 32.4621 325.564 Q32.4621 330.466 35.2312 333.426 Q38.0002 336.354 43.0292 336.8 L42.9973 315.92 Z\" fill=\"#000000\" fill-rule=\"evenodd\" fill-opacity=\"1\" /><polyline clip-path=\"url(#clip092)\" style=\"stroke:#009af9; stroke-linecap:round; stroke-linejoin:round; stroke-width:4; stroke-opacity:1; fill:none\" points=\"\n",
       "  333.567,819.981 347.353,851.231 361.138,325.499 374.924,207.43 388.71,183.912 402.495,223.473 416.281,300.984 430.067,344.701 443.852,430.02 457.638,436.374 \n",
       "  471.424,481.502 485.209,449.962 498.995,293.938 512.781,291.629 526.567,513.012 540.352,493.243 554.138,470.369 567.924,472.853 581.709,490.968 595.495,489.776 \n",
       "  609.281,405.744 623.066,456.788 636.852,503.334 650.638,489.42 664.423,600.711 678.209,541.767 691.995,500.794 705.78,496.722 719.566,518.042 733.352,529.538 \n",
       "  747.137,520.125 760.923,546.682 774.709,561.755 788.495,530.465 802.28,543.936 816.066,548.807 829.852,505.71 843.637,470.559 857.423,565.801 871.209,508.656 \n",
       "  884.994,540.111 898.78,458.281 912.566,534.949 926.351,592.705 940.137,583.126 953.923,563.095 967.708,605.52 981.494,525.441 995.28,537.184 1009.07,505.439 \n",
       "  1022.85,547.818 1036.64,565.091 1050.42,560.195 1064.21,570.56 1077.99,535.44 1091.78,509.709 1105.57,570.534 1119.35,564.578 1133.14,568.557 1146.92,555.697 \n",
       "  1160.71,510.728 1174.49,544.214 1188.28,600.847 1202.06,588.353 1215.85,571.979 1229.64,581.976 1243.42,568.795 1257.21,551.256 1270.99,517.826 1284.78,527.897 \n",
       "  1298.56,492.837 1312.35,541.283 1326.14,553.189 1339.92,589.777 1353.71,558.005 1367.49,593.051 1381.28,574.118 1395.06,517.635 1408.85,510.772 1422.64,557.686 \n",
       "  1436.42,587.052 1450.21,587.936 1463.99,573.736 1477.78,528.144 1491.56,537.386 1505.35,496.261 1519.14,549.929 1532.92,492.016 1546.71,553.081 1560.49,562.029 \n",
       "  1574.28,494.802 1588.06,537.721 1601.85,559.443 1615.64,543.911 1629.42,513.63 1643.21,526.697 1656.99,561.087 1670.78,523.22 1684.56,522.061 1698.35,491.989 \n",
       "  1712.14,394.938 1725.92,353.629 1739.71,436.728 1753.49,556.836 1767.28,490.616 1781.06,591.661 1794.85,373.198 1808.64,446.235 1822.42,537.554 1836.21,496.973 \n",
       "  1849.99,467.227 1863.78,524.783 1877.56,617.427 1891.35,569.766 1905.13,607.133 1918.92,540.179 1932.71,609.002 1946.49,578.843 1960.28,560.088 1974.06,587.523 \n",
       "  1987.85,548.264 2001.63,582.388 2015.42,550.167 2029.21,579.18 2042.99,596.524 2056.78,621.472 2070.56,582.601 2084.35,623.3 2098.13,665.081 2111.92,564.818 \n",
       "  2125.71,554.233 2139.49,544.331 2153.28,582.508 2167.06,527.555 2180.85,537.477 2194.63,571.468 2208.42,524.486 2222.21,598.544 2235.99,574.651 2249.78,608.412 \n",
       "  2263.56,628.303 2277.35,595.136 2291.13,617.388 \n",
       "  \"/>\n",
       "</svg>\n"
      ]
     },
     "execution_count": 40,
     "metadata": {},
     "output_type": "execute_result"
    }
   ],
   "source": [
    "plot(iterations, avg_compl_time, xlabel=\"Iterations\", ylabel=\"Average Completion Time\", legend = false, xformatter = :scientific)"
   ]
  },
  {
   "cell_type": "code",
   "execution_count": 41,
   "id": "4739f3dc",
   "metadata": {},
   "outputs": [
    {
     "data": {
      "text/plain": [
       "\"/home/larissa/Documents/Projects/Advanced Deep Learning for Robotics/ADLR_project/src/2d/plots/slow/avg_comp_time.svg\""
      ]
     },
     "execution_count": 41,
     "metadata": {},
     "output_type": "execute_result"
    }
   ],
   "source": [
    "savefig(fig_path * \"avg_comp_time.svg\")"
   ]
  },
  {
   "cell_type": "markdown",
   "id": "57443b44",
   "metadata": {},
   "source": [
    "done"
   ]
  }
 ],
 "metadata": {
  "@webio": {
   "lastCommId": null,
   "lastKernelId": null
  },
  "kernelspec": {
   "display_name": "Julia 1.8.0",
   "language": "julia",
   "name": "julia-1.8"
  },
  "language_info": {
   "file_extension": ".jl",
   "mimetype": "application/julia",
   "name": "julia",
   "version": "1.8.0"
  }
 },
 "nbformat": 4,
 "nbformat_minor": 5
}
