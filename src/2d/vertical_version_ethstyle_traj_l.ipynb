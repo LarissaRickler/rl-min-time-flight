{
 "cells": [
  {
   "cell_type": "markdown",
   "id": "0649b76a",
   "metadata": {},
   "source": [
    "# Init Bionic VTOL"
   ]
  },
  {
   "cell_type": "code",
   "execution_count": 1,
   "id": "96751412",
   "metadata": {},
   "outputs": [],
   "source": [
    "include(\"../Flyonic.jl\");\n",
    "using .Flyonic;\n",
    "\n",
    "using Rotations; # used for initial position\n",
    "\n",
    "using ReinforcementLearning;\n",
    "using StableRNGs;\n",
    "using Flux;\n",
    "using Flux.Losses;\n",
    "using Random;\n",
    "using IntervalSets;\n",
    "using LinearAlgebra;\n",
    "using Distributions;\n",
    "\n",
    "using Plots;\n",
    "using Statistics;\n",
    "\n",
    "using BSON: @save, @load # save mode"
   ]
  },
  {
   "cell_type": "code",
   "execution_count": 2,
   "id": "f7e4ee64",
   "metadata": {},
   "outputs": [
    {
     "name": "stderr",
     "output_type": "stream",
     "text": [
      "┌ Info: MeshCat server started. You can open the visualizer by visiting the following URL in your browser:\n",
      "│ http://127.0.0.1:8700\n",
      "└ @ MeshCat /home/larissa/.julia/packages/MeshCat/Ax8pH/src/visualizer.jl:73\n"
     ]
    }
   ],
   "source": [
    "create_visualization();"
   ]
  },
  {
   "cell_type": "code",
   "execution_count": 3,
   "id": "7d9557df",
   "metadata": {},
   "outputs": [
    {
     "data": {
      "text/plain": [
       "1"
      ]
     },
     "execution_count": 3,
     "metadata": {},
     "output_type": "execute_result"
    }
   ],
   "source": [
    "# indicates how many threads Julia was started with. This is important for the multi-threaded environment\n",
    "Threads.nthreads()"
   ]
  },
  {
   "cell_type": "markdown",
   "id": "5411db62",
   "metadata": {},
   "source": [
    "# Create Reinforcement Learning Environment"
   ]
  },
  {
   "cell_type": "code",
   "execution_count": 4,
   "id": "c4ede3b2",
   "metadata": {},
   "outputs": [],
   "source": [
    "R_TOL = 1.0;\n",
    "N_WAYPOINTS = 4; # >= 2\n",
    "SLOW_MODE = false;"
   ]
  },
  {
   "cell_type": "code",
   "execution_count": 5,
   "id": "96af6ee0",
   "metadata": {},
   "outputs": [],
   "source": [
    "# Parametric Constructor for a subtype of AbstractEnv\n",
    "mutable struct VtolEnv{A,T,ACT,R<:AbstractRNG} <: AbstractEnv \n",
    "    action_space::A # action space\n",
    "    observation_space::Space{Vector{ClosedInterval{T}}} # observation space\n",
    "    state::Vector{T} # current state space\n",
    "    action::ACT # action space\n",
    "    done::Bool # done\n",
    "    t::T # time\n",
    "    rng::R # random number generator\n",
    "\n",
    "    name::String # for multible environoments\n",
    "    visualization::Bool # visualization\n",
    "    realtime::Bool # realtime\n",
    "    \n",
    "    # Everything you need aditionaly can also go in here.\n",
    "    x_W::Vector{T} # current position\n",
    "    v_B::Vector{T} # velocity\n",
    "    R_W::Matrix{T} # current rotation\n",
    "    ω_B::Vector{T} # rotation velocitiy\n",
    "    wind_W::Vector{T} # wind\n",
    "    Δt::T # Δ time\n",
    "    \n",
    "    # Current Bonus / Target\n",
    "    num_waypoints::Int # includig start point\n",
    "    waypoints::Vector{Vector{T}}\n",
    "    reached_goal::BitVector\n",
    "    \n",
    "    norm_way::T\n",
    "    progress::T\n",
    "    progress_prev::T\n",
    "    current_point::Int\n",
    "    reached_goal_in_step::Bool\n",
    "    \n",
    "    r_tol::T # tolerance within drones has to reach waypoint\n",
    "    projected_position::Vector{T} # projected position of drone along trajectory\n",
    "\n",
    "    slow_mode::Bool # slow flight learning mode\n",
    "end"
   ]
  },
  {
   "cell_type": "code",
   "execution_count": 6,
   "id": "14a6873d",
   "metadata": {},
   "outputs": [],
   "source": [
    "# define a keyword-based constructor for the type declared in the mutable struct typedef. \n",
    "# It could also be done with the macro Base.@kwdef.\n",
    "function VtolEnv(;\n",
    "    rng = Random.GLOBAL_RNG, # Random number generation\n",
    "    name = \"vtol\",\n",
    "    visualization = false,\n",
    "    realtime = false,\n",
    "    kwargs... # let the function take an arbitrary number of keyword arguments \n",
    ")\n",
    "    \n",
    "    T = Float64; # explicit type which is used e.g. in state. Cannot be altered due to the poor matrix defininon.\n",
    "\n",
    "    \n",
    "    action_space = Space(\n",
    "        ClosedInterval{T}[\n",
    "            0.0..2.0, # propeller 1\n",
    "            0.0..2.0, # propeller 2\n",
    "            ], \n",
    "    )\n",
    "\n",
    "    \n",
    "    state_space = Space( # Three continuous values in state space.\n",
    "        ClosedInterval{T}[\n",
    "            # orientate yourself on the state space from the paper\n",
    "            typemin(T)..typemax(T), # position along x\n",
    "            typemin(T)..typemax(T), # position along z\n",
    "            \n",
    "            typemin(T)..typemax(T), # orientation along x\n",
    "            typemin(T)..typemax(T), # orientation along z\n",
    "            \n",
    "            typemin(T)..typemax(T), # velocity along x BODY coordinates\n",
    "            typemin(T)..typemax(T), # velocity along y BODY coordinates\n",
    "            \n",
    "            typemin(T)..typemax(T), # rotational velocity along z BODY coordinates\n",
    "            \n",
    "            typemin(T)..typemax(T), # position error along x (next gate - current position)\n",
    "            typemin(T)..typemax(T), # position error along z (next gate - current position)\n",
    "            \n",
    "            typemin(T)..typemax(T), # way to next next gate x (next next gate - next gate)\n",
    "            typemin(T)..typemax(T), # way to next next gate z (next next gate - next gate)\n",
    "            # TODO: more points?\n",
    "            ], \n",
    "    )\n",
    "    \n",
    "    num_waypoints = N_WAYPOINTS # number of waypoints, includig start point\n",
    "    waypoints = generate_trajectory(num_waypoints + 1) # trajectory with num_waypoints waypoints (+ start point), (with dummy points) \n",
    "    reached_goal = falses(num_waypoints)\n",
    "    \n",
    "    norm_way = 0.0 \n",
    "    for i in 1:(num_waypoints - 1)\n",
    "        norm_way += norm(waypoints[i] - waypoints[i + 1])\n",
    "    end\n",
    "    \n",
    "    if visualization #visualizes VTOL and waypoints\n",
    "        create_VTOL(name, actuators = true, color_vec=[1.0; 1.0; 0.6; 1.0]);\n",
    "        visualize_waypoints(waypoints[1:num_waypoints], 0.15)\n",
    "    end\n",
    "\n",
    "    environment = VtolEnv(\n",
    "        action_space,\n",
    "        state_space, \n",
    "        zeros(T, length(state_space)), # current state, needs to be extended\n",
    "        rand(action_space), #initialization action\n",
    "        false, # episode done \n",
    "        0.0, # time\n",
    "        rng, # random number generator  \n",
    "        \n",
    "        name,\n",
    "        visualization,\n",
    "        realtime,\n",
    "        \n",
    "        zeros(T, 3), # x_W, current position\n",
    "        zeros(T, 3), # v_B, velocity\n",
    "        [1.0 0.0 0.0; 0.0 1.0 0.0; 0.0 0.0 1.0], # R_W, current rotation, Float64... so T needs to be Float64\n",
    "        zeros(T, 3), # ω_B\n",
    "        zeros(T, 3), # wind_W\n",
    "        T(0.025), # Δt \n",
    "        \n",
    "        num_waypoints, # includig start point\n",
    "        waypoints, \n",
    "        reached_goal,\n",
    "        \n",
    "        norm_way, # norm_way\n",
    "        0.0, # progress\n",
    "        0.0, # progress_prev\n",
    "        2, # current point\n",
    "        false, # reached_goal_in_step\n",
    "        \n",
    "        R_TOL, # r_tol\n",
    "        zeros(T, 3), # projected_position\n",
    "\n",
    "        SLOW_MODE # slow_mode\n",
    "    )\n",
    "    \n",
    "    \n",
    "    reset!(environment)\n",
    "    \n",
    "    return environment\n",
    "    \n",
    "end;"
   ]
  },
  {
   "cell_type": "markdown",
   "id": "ec660d5e",
   "metadata": {},
   "source": [
    "Just for explanation:\n",
    "\n",
    "1. A mutable Struct is created. A struct is a constructor and a constructor is a function that creates new objects.\n",
    "2. A outer keyword-based constructor method is added for the type declared in the mutable struct typedef before.\n",
    "\n",
    "So now we have a function with two methods. Julia will decide which method to call by multiple dispatch."
   ]
  },
  {
   "cell_type": "code",
   "execution_count": 7,
   "id": "dc3c4bb3",
   "metadata": {},
   "outputs": [
    {
     "data": {
      "text/html": [
       "# 2 methods for type constructor:<ul><li> VtolEnv(; <i>rng, name, visualization, realtime, kwargs...</i>) in Main at In[6]:3</li> <li> VtolEnv(action_space::<b>A</b>, observation_space::<b>Space{Array{ClosedInterval{T}, 1}}</b>, state::<b>Vector{T}</b>, action::<b>ACT</b>, done::<b>Bool</b>, t::<b>T</b>, rng::<b>R</b>, name::<b>String</b>, visualization::<b>Bool</b>, realtime::<b>Bool</b>, x_W::<b>Vector{T}</b>, v_B::<b>Vector{T}</b>, R_W::<b>Matrix{T}</b>, ω_B::<b>Vector{T}</b>, wind_W::<b>Vector{T}</b>, Δt::<b>T</b>, num_waypoints::<b>Int64</b>, waypoints::<b>Array{Vector{T}, 1}</b>, reached_goal::<b>BitVector</b>, norm_way::<b>T</b>, progress::<b>T</b>, progress_prev::<b>T</b>, current_point::<b>Int64</b>, reached_goal_in_step::<b>Bool</b>, r_tol::<b>T</b>, projected_position::<b>Vector{T}</b>, slow_mode::<b>Bool</b>)<i> where {A, T, ACT, R<:AbstractRNG}</i> in Main at In[5]:3</li> </ul>"
      ],
      "text/plain": [
       "# 2 methods for type constructor:\n",
       "[1] VtolEnv(; rng, name, visualization, realtime, kwargs...) in Main at In[6]:3\n",
       "[2] VtolEnv(action_space::A, observation_space::Space{Array{ClosedInterval{T}, 1}}, state::Vector{T}, action::ACT, done::Bool, t::T, rng::R, name::String, visualization::Bool, realtime::Bool, x_W::Vector{T}, v_B::Vector{T}, R_W::Matrix{T}, ω_B::Vector{T}, wind_W::Vector{T}, Δt::T, num_waypoints::Int64, waypoints::Array{Vector{T}, 1}, reached_goal::BitVector, norm_way::T, progress::T, progress_prev::T, current_point::Int64, reached_goal_in_step::Bool, r_tol::T, projected_position::Vector{T}, slow_mode::Bool) where {A, T, ACT, R<:AbstractRNG} in Main at In[5]:3"
      ]
     },
     "execution_count": 7,
     "metadata": {},
     "output_type": "execute_result"
    }
   ],
   "source": [
    "methods(VtolEnv)"
   ]
  },
  {
   "cell_type": "markdown",
   "id": "806413d1",
   "metadata": {},
   "source": [
    "# Define the RL interface"
   ]
  },
  {
   "cell_type": "code",
   "execution_count": 8,
   "id": "0f822029",
   "metadata": {},
   "outputs": [],
   "source": [
    "Random.seed!(env::VtolEnv, seed) = Random.seed!(env.rng, seed)\n",
    "RLBase.action_space(env::VtolEnv) = env.action_space\n",
    "RLBase.state_space(env::VtolEnv) = env.observation_space\n",
    "RLBase.is_terminated(env::VtolEnv) = env.done\n",
    "RLBase.state(env::VtolEnv) = env.state"
   ]
  },
  {
   "cell_type": "code",
   "execution_count": 9,
   "id": "2b48de74",
   "metadata": {},
   "outputs": [],
   "source": [
    "function scale_for_slowmode(slow_mode::Bool, v_min::T, v_max::T, d_max::T, x_W::Vector{T}, projected_position::Vector{T}, v_B::Vector{T}) where T\n",
    "    \n",
    "    if slow_mode == false\n",
    "        return 1\n",
    "    else\n",
    "        if norm(v_B) > v_max\n",
    "            s_vmax = 10^(v_max - norm(v_B))\n",
    "        else\n",
    "            s_vmax = 1\n",
    "        end\n",
    "\n",
    "        if norm(v_B) < v_min\n",
    "            s_vmin = 10^(norm(v_B) - v_min)\n",
    "        else\n",
    "            s_vmin = 1\n",
    "        end\n",
    "\n",
    "        if norm(x_W - projected_position) > d_max\n",
    "            s_gd = exp(-norm(x_W - projected_position) + d_max)\n",
    "        else\n",
    "            s_gd = 1\n",
    "        end\n",
    "        s = s_vmax * s_vmin * s_gd\n",
    "    end\n",
    "    return s\n",
    "end;"
   ]
  },
  {
   "cell_type": "code",
   "execution_count": 10,
   "id": "1f7fb89c",
   "metadata": {},
   "outputs": [],
   "source": [
    "function computeReward(env::VtolEnv{A,T}) where {A,T}\n",
    "    \n",
    "    \n",
    "    if env.slow_mode\n",
    "        v_min = 1.0 # min velocity\n",
    "        v_max = 3.0 # max velocity\n",
    "        d_max = 0.5 \n",
    "    else\n",
    "        v_min = 4.0 # min velocity\n",
    "        v_max = 50.0 # max velocity\n",
    "        d_max = 1.0 \n",
    "    end\n",
    "\n",
    "\n",
    "    s = scale_for_slowmode(true, v_min, v_max, d_max, env.x_W, env.projected_position, env.v_B)\n",
    "    \n",
    "    # TODO: test norming\n",
    "    k_p = 5.0 * s #/ env.norm_way # factor for progress (between current position and last position) reward \n",
    "    r_p = (env.progress - env.progress_prev); # reward for progress (between current position and last position)\n",
    "\n",
    "    k_s = s * (2 * v_max * env.Δt) / env.norm_way # factor for reached distance (overall) reward\n",
    "    r_s = env.progress # reward for reached distance (overall)\n",
    "    \n",
    "    k_wp = 50.0 # factor for reached gate reward\n",
    "    r_wp = 0.0 # reward for reached gate\n",
    "    if env.reached_goal_in_step\n",
    "        r_wp = exp(-norm(env.x_W - env.waypoints[env.current_point - 1])/env.r_tol)\n",
    "    end \n",
    "\n",
    "    # factor for too high body rate penalty\n",
    "    if env.slow_mode\n",
    "        k_ω = 0.01\n",
    "    else\n",
    "        k_ω = 0.001\n",
    "    end\n",
    "    norm_ω = norm(env.ω_B[3]) # penalty for body rate\n",
    "\n",
    "    if env.x_W[3] < -2\n",
    "        fall = 1\n",
    "    else\n",
    "        fall = 0\n",
    "    end\n",
    "    \n",
    "    k_t = 0 # factor for time penalty\n",
    "    k_d = 0 # factor for distance to next waypoint penalty\n",
    "    r_d = 0 # penalty for distance to next waypoint\n",
    "    if !env.slow_mode\n",
    "        k_t = 0.001 \n",
    "        k_d = 0.001\n",
    "        #if env.current_point <= env.num_waypoints\n",
    "        r_d = norm(env.x_W - env.waypoints[env.current_point]) / env.norm_way \n",
    "        #end\n",
    "        k_s /= env.norm_way\n",
    "        k_p /= env.norm_way\n",
    "    end\n",
    "\n",
    "    return k_p * r_p + k_s * r_s + k_wp * r_wp - k_ω * norm_ω - fall # - k_t * env.t - k_d * r_d\n",
    "    \n",
    "end\n",
    "\n",
    "\n",
    "RLBase.reward(env::VtolEnv{A,T}) where {A,T} = computeReward(env)"
   ]
  },
  {
   "cell_type": "code",
   "execution_count": 11,
   "id": "ae45ec04",
   "metadata": {},
   "outputs": [],
   "source": [
    "function RLBase.reset!(env::VtolEnv{A,T}) where {A,T}\n",
    "    # Visualize initial state\n",
    "    if env.visualization\n",
    "        set_transform(env.name, env.x_W, QuatRotation(env.R_W));\n",
    "        set_actuators(env.name, [0.0; 0.0; 0.0; 0.0]);\n",
    "    end\n",
    "    \n",
    "    env.x_W = [0.0; 0.0; 0.0];\n",
    "    env.v_B = [0.0; 0.0; 0.0];\n",
    "    env.R_W = Matrix(UnitQuaternion(RotZ(-pi/2.0)*RotY(-pi/2.0)*RotX(pi)));\n",
    "\n",
    "    env.ω_B = [0.0; 0.0; 0.0];\n",
    "    env.wind_W = [0.0; 0.0; 0.0];\n",
    "    \n",
    "    \n",
    "    env.waypoints = generate_trajectory(env.num_waypoints + 1); # Dummy points\n",
    "    env.reached_goal = falses(env.num_waypoints);\n",
    "    env.reached_goal[1] = true; # set first point to reached (start point)\n",
    "    \n",
    "    env.current_point = 2;\n",
    "    env.reached_goal_in_step = false;\n",
    "    #env.r_tol = 0.3;\n",
    "    \n",
    "    if env.visualization\n",
    "        visualize_waypoints(env.waypoints[1:env.num_waypoints], 0.15); \n",
    "    end\n",
    "    \n",
    "    norm_way = 0.0 \n",
    "    for i in 1:(env.num_waypoints - 1)\n",
    "        norm_way += norm(env.waypoints[i] - env.waypoints[i + 1])\n",
    "    end\n",
    "    \n",
    "    env.norm_way = norm_way\n",
    "    env.progress = 0.0;\n",
    "    env.progress_prev = 0.0;\n",
    "    \n",
    "    \n",
    "    env.state = [env.x_W[1]; # position along x\n",
    "                 env.x_W[3]; # position along z\n",
    "        \n",
    "                 env.R_W[1,1]; # orientation along x\n",
    "                 env.R_W[3,1]; # orientation along z\n",
    "        \n",
    "                 env.v_B[1]; # velocity along x BODY coordinates\n",
    "                 env.v_B[2]; # velocity along y BODY coordinates  \n",
    "        \n",
    "                 env.ω_B[3]; # rotational velocity along z BODY coordinates\n",
    "        \n",
    "                 env.waypoints[2][1] - env.x_W[1]; # position error to next gate along x\n",
    "                 env.waypoints[2][3] - env.x_W[3]; # position error to next gate along z\n",
    "                 \n",
    "                 env.waypoints[3][1] - env.waypoints[2][1]; # way to next next gate x \n",
    "                 env.waypoints[3][3] - env.waypoints[2][3]] # way to next next gate z \n",
    "    \n",
    "#     if env.num_waypoints >= 3\n",
    "#         env.state[10] = env.waypoints[3][1] - env.x_W[1]; # way to next next gate x \n",
    "#         env.state[11] = env.waypoints[3][3] - env.x_W[3]; # way to next next gate z \n",
    "#     end\n",
    "        \n",
    "    env.t = 0.0;\n",
    "    env.action = [0.0, 0.0];\n",
    "    env.done = false;\n",
    "\n",
    "    env.projected_position = [0; 0; 0]\n",
    "    \n",
    "    nothing\n",
    "\n",
    "end;"
   ]
  },
  {
   "cell_type": "code",
   "execution_count": 12,
   "id": "1cf1a7b7",
   "metadata": {},
   "outputs": [],
   "source": [
    "# defines a methods for a callable object.\n",
    "# So when a VtolEnv object is created, it has this method that can be called\n",
    "function (env::VtolEnv)(a)\n",
    "    # TODO: set flaps later in 3D\n",
    "    # set the propeller trust and the two flaps 2D case\n",
    "    next_action = [a[1], a[2], 0.0, 0.0]\n",
    "   \n",
    "    _step!(env, next_action)\n",
    "end"
   ]
  },
  {
   "cell_type": "code",
   "execution_count": 13,
   "id": "b0e9eb59",
   "metadata": {},
   "outputs": [],
   "source": [
    "env = VtolEnv();"
   ]
  },
  {
   "cell_type": "code",
   "execution_count": 14,
   "id": "26a116cb",
   "metadata": {},
   "outputs": [
    {
     "data": {
      "text/html": [
       "# 3 methods for callable object:<ul><li> (env::<b>VtolEnv</b>)(a) in Main at In[12]:3</li> <li> (env::<b>AbstractEnv</b>)(action) in ReinforcementLearningBase</li> <li> (env::<b>AbstractEnv</b>)(action, player) in ReinforcementLearningBase</li> </ul>"
      ],
      "text/plain": [
       "# 3 methods for callable object:\n",
       "[1] (env::VtolEnv)(a) in Main at In[12]:3\n",
       "[2] (env::AbstractEnv)(action) in ReinforcementLearningBase\n",
       "[3] (env::AbstractEnv)(action, player) in ReinforcementLearningBase"
      ]
     },
     "execution_count": 14,
     "metadata": {},
     "output_type": "execute_result"
    }
   ],
   "source": [
    "methods(env) # Just to explain which methods the object has"
   ]
  },
  {
   "cell_type": "code",
   "execution_count": 15,
   "id": "9e7d4727",
   "metadata": {},
   "outputs": [],
   "source": [
    "function _step!(env::VtolEnv, next_action)\n",
    "    # caluclate wind impact\n",
    "    v_in_wind_B = vtol_add_wind(env.v_B, env.R_W, env.wind_W)\n",
    "    # caluclate aerodynamic forces\n",
    "    torque_B, force_B = vtol_model(v_in_wind_B, next_action, eth_vtol_param);\n",
    "    # Limit to 2D\n",
    "    force_B[3] = 0.0; # Body Z\n",
    "    env.v_B[3] = 0.0;\n",
    "    torque_B[1] = 0.0; torque_B[2] = 0.0;  # Body X and Y\n",
    "    env.ω_B[1] = 0.0; env.ω_B[2] = 0.0;\n",
    "    # integrate rigid body dynamics for Δt\n",
    "    env.x_W, env.v_B, env.R_W, env.ω_B, time = rigid_body_simple(torque_B, force_B, env.x_W, env.v_B, env.R_W, env.ω_B, env.t, env.Δt, eth_vtol_param)\n",
    "    \n",
    "    \n",
    "    env.reached_goal_in_step = false;\n",
    "    if norm(env.x_W - env.waypoints[env.current_point]) < env.r_tol\n",
    "        env.reached_goal_in_step = true;\n",
    "        env.reached_goal[env.current_point] = true;\n",
    "        env.current_point += 1;\n",
    "    end\n",
    "        \n",
    "            \n",
    "    # calculate progress on trajectory\n",
    "    env.progress_prev = env.progress\n",
    "    \n",
    "    current_progress = 0.0\n",
    "    line_segment, env.projected_position = calculate_progress(env.waypoints, env.x_W)\n",
    "    \n",
    "    #env.current_point = line_segment + 1\n",
    "\n",
    "    for i in 2:(line_segment)\n",
    "       current_progress +=  norm(env.waypoints[i] - env.waypoints[i - 1])  \n",
    "    end\n",
    "    current_progress += norm(env.waypoints[line_segment] - env.projected_position)\n",
    "    \n",
    "    env.progress = current_progress\n",
    "    \n",
    "\n",
    "    if env.realtime\n",
    "        sleep(env.Δt) # TODO: just a dirty hack. this is of course slower than real time.\n",
    "    end\n",
    "\n",
    "    # Visualize the new state \n",
    "    if env.visualization\n",
    "        set_transform(env.name, env.x_W, QuatRotation(env.R_W));\n",
    "        set_actuators(env.name, next_action)\n",
    "        \n",
    "        for i in eachindex(env.reached_goal)\n",
    "            if env.reached_goal[i]\n",
    "                create_sphere(\"fixgoal_$i\", 0.2, color=RGBA{Float32}(1.0, 0.0, 0.0, 1.0));\n",
    "                set_transform(\"fixgoal_$i\", env.waypoints[i]);\n",
    "            end\n",
    "        end\n",
    "    end\n",
    " \n",
    "\n",
    "    env.t += env.Δt\n",
    "    \n",
    "    env.state[1] = env.x_W[1]; # position along x\n",
    "    env.state[2] = env.x_W[3]; # position along z\n",
    "    \n",
    "    env.state[3] = env.R_W[1,1]; # orientation along x\n",
    "    env.state[4] = env.R_W[3,1]; # orientation along z\n",
    "    \n",
    "    env.state[5] = env.v_B[1]; # velocity along x BODY coordinates\n",
    "    env.state[6] = env.v_B[2]; # velocity along y BODY coordinates\n",
    "    \n",
    "    env.state[7] = env.ω_B[3];  # rotational velocity along z BODY coordinates\n",
    "    \n",
    "    # TODO add points\n",
    "#     if env.current_point <= env.num_waypoints\n",
    "#         env.state[8] = env.waypoints[env.current_point][1] - env.x_W[1]; # position error along x\n",
    "#         env.state[9] = env.waypoints[env.current_point][3] - env.x_W[3]; # position error along z\n",
    "        \n",
    "#         if env.current_point <= env.num_waypoints - 1\n",
    "#             env.state[10] = env.waypoints[env.current_point + 1][1] - env.x_W[3]; # way to next next gate x (next next gate - next gate)\n",
    "#             env.state[11] = env.waypoints[env.current_point + 1][3] - env.x_W[3]; # way to next next gate z (next next gate - next gate)\n",
    "#         else\n",
    "#             # todo maybe 2* state?\n",
    "#             env.state[10] = 0.0 # way to next next gate x (next next gate - next gate)\n",
    "#             env.state[11] = 0.0 # way to next next gate z (next next gate - next gate)\n",
    "#         end\n",
    "#     else\n",
    "#         env.state[8] = 0.0; # position error along x\n",
    "#         env.state[9] = 0.0; # position error along z\n",
    "#         env.state[10] = 0.0 # way to next next gate x (next next gate - next gate)\n",
    "#         env.state[11] = 0.0 # way to next next gate z (next next gate - next gate)\n",
    "#     end\n",
    "    \n",
    "    env.state[8] = env.waypoints[env.current_point][1] - env.x_W[1]; # position error along x, dummy integriert\n",
    "    env.state[9] = env.waypoints[env.current_point][3] - env.x_W[3]; # position error along z, dummy integriert\n",
    "    \n",
    "    if env.current_point <= env.num_waypoints\n",
    "        env.state[10] = env.waypoints[env.current_point + 1][1] - env.waypoints[env.current_point][1] ; # way to next next gate x (next next gate - next gate), dummy integriert\n",
    "        env.state[11] = env.waypoints[env.current_point + 1][3] - env.waypoints[env.current_point][3]; # way to next next gate z (next next gate - next gate), dummy integriert\n",
    "    end\n",
    "        \n",
    "    \n",
    "    # Termination criteria\n",
    "    # TODO: Use many termination criteria so that you do not train unnecessarily in wrong areas\n",
    "    env.done = #true\n",
    "        # After time... How fast is drone+Range of desired point\n",
    "        # After reaching position (circle of r_tol)\n",
    "        norm(env.ω_B) > 100.0 || \n",
    "        norm(env.v_B) > 100.0 || # stop if body is too fast_point \n",
    "        env.x_W[3] < -5.0 || # stop if body is below -5m\n",
    "        env.t > env.num_waypoints * 3.0 ||# stop after 3s per point\n",
    "        norm(env.x_W - env.projected_position) > 5.0 || # too far off the path \n",
    "        env.reached_goal == trues(env.num_waypoints)\n",
    "\n",
    "    nothing\n",
    "end;"
   ]
  },
  {
   "cell_type": "code",
   "execution_count": 16,
   "id": "6e1cd988",
   "metadata": {
    "scrolled": false
   },
   "outputs": [
    {
     "name": "stdout",
     "output_type": "stream",
     "text": [
      "\u001b[0m\u001b[1mTest Summary:              | \u001b[22m\u001b[32m\u001b[1mPass  \u001b[22m\u001b[39m\u001b[36m\u001b[1mTotal  \u001b[22m\u001b[39m\u001b[0m\u001b[1mTime\u001b[22m\n",
      "random policy with VtolEnv | \u001b[32m2000  \u001b[39m\u001b[36m 2000  \u001b[39m\u001b[0m2.8s\n"
     ]
    },
    {
     "data": {
      "text/plain": [
       "Test.DefaultTestSet(\"random policy with VtolEnv\", Any[], 2000, false, false, true, 1.674401253170915e9, 1.674401256008816e9)"
      ]
     },
     "execution_count": 16,
     "metadata": {},
     "output_type": "execute_result"
    }
   ],
   "source": [
    "RLBase.test_runnable!(env)"
   ]
  },
  {
   "cell_type": "markdown",
   "id": "c223a31f",
   "metadata": {},
   "source": [
    "Show an overview of the environment."
   ]
  },
  {
   "cell_type": "markdown",
   "id": "ffe6de74",
   "metadata": {},
   "source": [
    "# Setup of a reinforcement learning experiment."
   ]
  },
  {
   "cell_type": "code",
   "execution_count": 17,
   "id": "e5683fe8",
   "metadata": {},
   "outputs": [
    {
     "data": {
      "text/markdown": [
       "MultiThreadEnv(8 x VtolEnv)"
      ],
      "text/plain": [
       "MultiThreadEnv(8 x VtolEnv)"
      ]
     },
     "execution_count": 17,
     "metadata": {},
     "output_type": "execute_result"
    }
   ],
   "source": [
    "seed = 123    \n",
    "rng = StableRNG(seed)\n",
    "    N_ENV = 8\n",
    "    UPDATE_FREQ = 1024\n",
    "    \n",
    "    \n",
    "    # define multiple environments for parallel training\n",
    "    env = MultiThreadEnv([\n",
    "        # use different names for the visualization\n",
    "        VtolEnv(; rng = StableRNG(hash(seed+i)), name = \"vtol$i\") for i in 1:N_ENV\n",
    "    ])"
   ]
  },
  {
   "cell_type": "code",
   "execution_count": 18,
   "id": "d1f128b2",
   "metadata": {},
   "outputs": [],
   "source": [
    "# Define the function approximator\n",
    "# TODO: change architecture eventually\n",
    "    ns, na = length(state(env[1])), length(action_space(env[1]))\n",
    "    approximator = ActorCritic(\n",
    "                actor = GaussianNetwork(\n",
    "                    pre = Chain(\n",
    "                    Dense(ns, 128, tanh; initW = glorot_uniform(rng)),#\n",
    "                    Dense(128, 128, tanh; initW = glorot_uniform(rng)),\n",
    "                    ),\n",
    "                    μ = Chain(Dense(128, na; initW = glorot_uniform(rng))),\n",
    "                    logσ = Chain(Dense(128, na; initW = glorot_uniform(rng))),\n",
    "                ),\n",
    "                critic = Chain(\n",
    "                    Dense(ns, 128, tanh; initW = glorot_uniform(rng)),\n",
    "                    Dense(128, 128, tanh; initW = glorot_uniform(rng)),\n",
    "                    Dense(128, 1; initW = glorot_uniform(rng)),\n",
    "                ),\n",
    "                optimizer = ADAM(1e-3),\n",
    "            );"
   ]
  },
  {
   "cell_type": "code",
   "execution_count": 19,
   "id": "7ea4c37c",
   "metadata": {
    "scrolled": false
   },
   "outputs": [
    {
     "name": "stderr",
     "output_type": "stream",
     "text": [
      "┌ Info: The GPU function is being called but the GPU is not accessible. \n",
      "│ Defaulting back to the CPU. (No action is required if you want to run on the CPU).\n",
      "└ @ Flux /home/larissa/.julia/packages/Flux/7nTyc/src/functor.jl:187\n"
     ]
    }
   ],
   "source": [
    "    agent = Agent( # A wrapper of an AbstractPolicy\n",
    "        # AbstractPolicy: the policy to use\n",
    "        # TODO: change eventually to SAC or compare\n",
    "        policy = PPOPolicy(;\n",
    "                    approximator = approximator |> gpu,\n",
    "                    update_freq=UPDATE_FREQ,\n",
    "                    dist = Normal,\n",
    "                    # For parameters visit the docu: https://juliareinforcementlearning.org/docs/rlzoo/#ReinforcementLearningZoo.PPOPolicy\n",
    "                    ),\n",
    "        \n",
    "        # AbstractTrajectory: used to store transitions between an agent and an environment source\n",
    "        trajectory = PPOTrajectory(;\n",
    "            capacity = UPDATE_FREQ,\n",
    "            state = Matrix{Float64} => (ns, N_ENV),\n",
    "            action = Matrix{Float64} => (na, N_ENV),\n",
    "            action_log_prob = Vector{Float64} => (N_ENV,),\n",
    "            reward = Vector{Float64} => (N_ENV,),\n",
    "            terminal = Vector{Bool} => (N_ENV,),\n",
    "        ),\n",
    "    );\n"
   ]
  },
  {
   "cell_type": "code",
   "execution_count": 20,
   "id": "7f158a93",
   "metadata": {},
   "outputs": [],
   "source": [
    "function saveModel(t, agent, env)\n",
    "    model = cpu(agent.policy.approximator)\n",
    "    # TODO: slow mode, fast mode\n",
    "    if SLOW_MODE\n",
    "        f = joinpath(\"./RL_models_slow/\", \"vtol_2D_ppo_$t.bson\")\n",
    "    else\n",
    "        f = joinpath(\"./RL_models_fast/\", \"vtol_2D_ppo_$t.bson\") \n",
    "    end\n",
    "    @save f model\n",
    "    println(\"parameters at step $t saved to $f\")\n",
    "end;"
   ]
  },
  {
   "cell_type": "code",
   "execution_count": 21,
   "id": "c689a72a",
   "metadata": {},
   "outputs": [],
   "source": [
    "function loadModel()\n",
    "    # TODO: slow, fast mode\n",
    "    f = joinpath(\"./RL_models_slow/\", \"vtol_2D_ppo_$(load_from_slow_step).bson\") \n",
    "    @load f model\n",
    "    return model\n",
    "end;"
   ]
  },
  {
   "cell_type": "code",
   "execution_count": 22,
   "id": "f3c1858c",
   "metadata": {},
   "outputs": [],
   "source": [
    "function validate_policy(t, agent, env)\n",
    "    run(agent.policy, test_env, StopAfterEpisode(1), episode_test_reward_hook)\n",
    "    # the result of the hook\n",
    "    println(\"test reward at step $t: $(episode_test_reward_hook.rewards[end])\")\n",
    "    \n",
    "end;\n",
    "\n",
    "visualize_validation = true; # TODO set as desired\n",
    "episode_test_reward_hook = TotalRewardPerEpisode(;is_display_on_exit=false)\n",
    "# create a env only for reward test\n",
    "test_env = VtolEnv(;name = \"testVTOL\", visualization = visualize_validation, realtime = visualize_validation);"
   ]
  },
  {
   "cell_type": "code",
   "execution_count": 23,
   "id": "39983a6b",
   "metadata": {},
   "outputs": [
    {
     "data": {
      "text/plain": [
       "1500000"
      ]
     },
     "execution_count": 23,
     "metadata": {},
     "output_type": "execute_result"
    }
   ],
   "source": [
    "# number of steps\n",
    "steps_slow = 1_500_000 \n",
    "steps_fast = 1_500_000\n",
    "load_from_slow_step = 500_000 # TODO: choose slow model\n",
    "\n",
    "steps = 0\n",
    "if SLOW_MODE\n",
    "    steps = steps_slow\n",
    "else\n",
    "    steps = steps_fast\n",
    "end"
   ]
  },
  {
   "cell_type": "code",
   "execution_count": 24,
   "id": "af72d48e",
   "metadata": {},
   "outputs": [],
   "source": [
    "if !SLOW_MODE\n",
    "    agent.policy.approximator = loadModel(); \n",
    "end;"
   ]
  },
  {
   "cell_type": "code",
   "execution_count": 25,
   "id": "bb737010",
   "metadata": {
    "scrolled": true
   },
   "outputs": [
    {
     "name": "stderr",
     "output_type": "stream",
     "text": [
      "\r",
      "\u001b[32mProgress:   0%|                                         |  ETA: 132.29 days\u001b[39m"
     ]
    },
    {
     "name": "stdout",
     "output_type": "stream",
     "text": [
      "parameters at step 10000 saved to ./RL_models_fast/vtol_2D_ppo_10000.bson\n"
     ]
    },
    {
     "name": "stderr",
     "output_type": "stream",
     "text": [
      "\r",
      "\u001b[32mProgress:   1%|▎                                        |  ETA: 4:06:26\u001b[39m"
     ]
    },
    {
     "name": "stdout",
     "output_type": "stream",
     "text": [
      "test reward at step 10000: 57.187614015759415\n"
     ]
    },
    {
     "name": "stderr",
     "output_type": "stream",
     "text": [
      "\u001b[32mProgress:   1%|▌                                        |  ETA: 2:18:09\u001b[39m"
     ]
    },
    {
     "name": "stdout",
     "output_type": "stream",
     "text": [
      "parameters at step 20000 saved to ./RL_models_fast/vtol_2D_ppo_20000.bson\n",
      "test reward at step 20000: 70.02769483795325\n"
     ]
    },
    {
     "name": "stderr",
     "output_type": "stream",
     "text": [
      "\u001b[32mProgress:   2%|▊                                        |  ETA: 1:41:50\u001b[39m"
     ]
    },
    {
     "name": "stdout",
     "output_type": "stream",
     "text": [
      "parameters at step 30000 saved to ./RL_models_fast/vtol_2D_ppo_30000.bson\n",
      "test reward at step 30000: 69.3982602377315\n"
     ]
    },
    {
     "name": "stderr",
     "output_type": "stream",
     "text": [
      "\u001b[32mProgress:   3%|█▏                                       |  ETA: 1:28:16\u001b[39m"
     ]
    },
    {
     "name": "stdout",
     "output_type": "stream",
     "text": [
      "parameters at step 40000 saved to ./RL_models_fast/vtol_2D_ppo_40000.bson\n",
      "test reward at step 40000: 70.67608443922695\n"
     ]
    },
    {
     "name": "stderr",
     "output_type": "stream",
     "text": [
      "\u001b[32mProgress:   3%|█▍                                       |  ETA: 1:16:35\u001b[39m"
     ]
    },
    {
     "name": "stdout",
     "output_type": "stream",
     "text": [
      "parameters at step 50000 saved to ./RL_models_fast/vtol_2D_ppo_50000.bson\n",
      "test reward at step 50000: 71.16770861119645\n"
     ]
    },
    {
     "name": "stderr",
     "output_type": "stream",
     "text": [
      "\u001b[32mProgress:   4%|█▋                                       |  ETA: 1:09:26\u001b[39m"
     ]
    },
    {
     "name": "stdout",
     "output_type": "stream",
     "text": [
      "parameters at step 60000 saved to ./RL_models_fast/vtol_2D_ppo_60000.bson\n",
      "test reward at step 60000: 72.57502019028595\n"
     ]
    },
    {
     "name": "stderr",
     "output_type": "stream",
     "text": [
      "\u001b[32mProgress:   5%|█▉                                       |  ETA: 1:03:26\u001b[39m"
     ]
    },
    {
     "name": "stdout",
     "output_type": "stream",
     "text": [
      "parameters at step 70000 saved to ./RL_models_fast/vtol_2D_ppo_70000.bson\n",
      "test reward at step 70000: 69.26364235003369\n"
     ]
    },
    {
     "name": "stderr",
     "output_type": "stream",
     "text": [
      "\u001b[32mProgress:   5%|██▏                                      |  ETA: 0:59:14\u001b[39m"
     ]
    },
    {
     "name": "stdout",
     "output_type": "stream",
     "text": [
      "parameters at step 80000 saved to ./RL_models_fast/vtol_2D_ppo_80000.bson\n",
      "test reward at step 80000: 71.94669882804186\n"
     ]
    },
    {
     "name": "stderr",
     "output_type": "stream",
     "text": [
      "\u001b[32mProgress:   6%|██▍                                      |  ETA: 0:57:10\u001b[39m"
     ]
    },
    {
     "name": "stdout",
     "output_type": "stream",
     "text": [
      "parameters at step 90000 saved to ./RL_models_fast/vtol_2D_ppo_90000.bson\n",
      "test reward at step 90000: 70.13586113304964\n"
     ]
    },
    {
     "name": "stderr",
     "output_type": "stream",
     "text": [
      "\u001b[32mProgress:   7%|██▊                                      |  ETA: 0:53:46\u001b[39m"
     ]
    },
    {
     "name": "stdout",
     "output_type": "stream",
     "text": [
      "parameters at step 100000 saved to ./RL_models_fast/vtol_2D_ppo_100000.bson\n",
      "test reward at step 100000: 42.456545166930475\n"
     ]
    },
    {
     "name": "stderr",
     "output_type": "stream",
     "text": [
      "\u001b[32mProgress:   7%|███                                      |  ETA: 0:52:04\u001b[39m"
     ]
    },
    {
     "name": "stdout",
     "output_type": "stream",
     "text": [
      "parameters at step 110000 saved to ./RL_models_fast/vtol_2D_ppo_110000.bson\n",
      "test reward at step 110000: 69.98525856580993\n"
     ]
    },
    {
     "name": "stderr",
     "output_type": "stream",
     "text": [
      "\u001b[32mProgress:   8%|███▎                                     |  ETA: 0:50:45\u001b[39m"
     ]
    },
    {
     "name": "stdout",
     "output_type": "stream",
     "text": [
      "parameters at step 120000 saved to ./RL_models_fast/vtol_2D_ppo_120000.bson\n",
      "test reward at step 120000: 71.28708026893689\n"
     ]
    },
    {
     "name": "stderr",
     "output_type": "stream",
     "text": [
      "\u001b[32mProgress:   9%|███▌                                     |  ETA: 0:49:00\u001b[39m"
     ]
    },
    {
     "name": "stdout",
     "output_type": "stream",
     "text": [
      "parameters at step 130000 saved to ./RL_models_fast/vtol_2D_ppo_130000.bson\n"
     ]
    },
    {
     "name": "stderr",
     "output_type": "stream",
     "text": [
      "\r",
      "\u001b[32mProgress:   9%|███▌                                     |  ETA: 0:49:29\u001b[39m"
     ]
    },
    {
     "name": "stdout",
     "output_type": "stream",
     "text": [
      "test reward at step 130000: 72.18923843686056\n"
     ]
    },
    {
     "name": "stderr",
     "output_type": "stream",
     "text": [
      "\u001b[32mProgress:   9%|███▉                                     |  ETA: 0:47:23\u001b[39m"
     ]
    },
    {
     "name": "stdout",
     "output_type": "stream",
     "text": [
      "parameters at step 140000 saved to ./RL_models_fast/vtol_2D_ppo_140000.bson\n",
      "test reward at step 140000: 70.25446790366757\n"
     ]
    },
    {
     "name": "stderr",
     "output_type": "stream",
     "text": [
      "\u001b[32mProgress:  10%|████                                     |  ETA: 0:46:29\u001b[39m"
     ]
    },
    {
     "name": "stdout",
     "output_type": "stream",
     "text": [
      "parameters at step 150000 saved to ./RL_models_fast/vtol_2D_ppo_150000.bson\n",
      "test reward at step 150000: 71.75986511123843\n"
     ]
    },
    {
     "name": "stderr",
     "output_type": "stream",
     "text": [
      "\u001b[32mProgress:  11%|████▍                                    |  ETA: 0:45:01\u001b[39m"
     ]
    },
    {
     "name": "stdout",
     "output_type": "stream",
     "text": [
      "parameters at step 160000 saved to ./RL_models_fast/vtol_2D_ppo_160000.bson\n",
      "test reward at step 160000: 69.06646238113862\n"
     ]
    },
    {
     "name": "stderr",
     "output_type": "stream",
     "text": [
      "\u001b[32mProgress:  11%|████▋                                    |  ETA: 0:43:59\u001b[39m"
     ]
    },
    {
     "name": "stdout",
     "output_type": "stream",
     "text": [
      "parameters at step 170000 saved to ./RL_models_fast/vtol_2D_ppo_170000.bson\n",
      "test reward at step 170000: 70.21931739799865\n"
     ]
    },
    {
     "name": "stderr",
     "output_type": "stream",
     "text": [
      "\u001b[32mProgress:  12%|████▉                                    |  ETA: 0:43:00\u001b[39m"
     ]
    },
    {
     "name": "stdout",
     "output_type": "stream",
     "text": [
      "parameters at step 180000 saved to ./RL_models_fast/vtol_2D_ppo_180000.bson\n",
      "test reward at step 180000: 67.16916556461646\n"
     ]
    },
    {
     "name": "stderr",
     "output_type": "stream",
     "text": [
      "\u001b[32mProgress:  13%|█████▏                                   |  ETA: 0:42:06\u001b[39m"
     ]
    },
    {
     "name": "stdout",
     "output_type": "stream",
     "text": [
      "parameters at step 190000 saved to ./RL_models_fast/vtol_2D_ppo_190000.bson\n",
      "test reward at step 190000: 69.9099017740662\n"
     ]
    },
    {
     "name": "stderr",
     "output_type": "stream",
     "text": [
      "\u001b[32mProgress:  13%|█████▌                                   |  ETA: 0:41:09\u001b[39m"
     ]
    },
    {
     "name": "stdout",
     "output_type": "stream",
     "text": [
      "parameters at step 200000 saved to ./RL_models_fast/vtol_2D_ppo_200000.bson\n",
      "test reward at step 200000: 73.24901154917328\n"
     ]
    },
    {
     "name": "stderr",
     "output_type": "stream",
     "text": [
      "\u001b[32mProgress:  14%|█████▊                                   |  ETA: 0:40:10\u001b[39m"
     ]
    },
    {
     "name": "stdout",
     "output_type": "stream",
     "text": [
      "parameters at step 210000 saved to ./RL_models_fast/vtol_2D_ppo_210000.bson\n",
      "test reward at step 210000: 69.79920781415484\n"
     ]
    },
    {
     "name": "stderr",
     "output_type": "stream",
     "text": [
      "\u001b[32mProgress:  15%|██████                                   |  ETA: 0:39:21\u001b[39m"
     ]
    },
    {
     "name": "stdout",
     "output_type": "stream",
     "text": [
      "parameters at step 220000 saved to ./RL_models_fast/vtol_2D_ppo_220000.bson\n",
      "test reward at step 220000: 66.84288660192749\n"
     ]
    },
    {
     "name": "stderr",
     "output_type": "stream",
     "text": [
      "\u001b[32mProgress:  15%|██████▎                                  |  ETA: 0:38:37\u001b[39m"
     ]
    },
    {
     "name": "stdout",
     "output_type": "stream",
     "text": [
      "parameters at step 230000 saved to ./RL_models_fast/vtol_2D_ppo_230000.bson\n",
      "test reward at step 230000: 68.68449428785841\n"
     ]
    },
    {
     "name": "stderr",
     "output_type": "stream",
     "text": [
      "\u001b[32mProgress:  16%|██████▌                                  |  ETA: 0:38:00\u001b[39m"
     ]
    },
    {
     "name": "stdout",
     "output_type": "stream",
     "text": [
      "parameters at step 240000 saved to ./RL_models_fast/vtol_2D_ppo_240000.bson\n",
      "test reward at step 240000: 68.21196700331538\n"
     ]
    },
    {
     "name": "stderr",
     "output_type": "stream",
     "text": [
      "\u001b[32mProgress:  17%|██████▉                                  |  ETA: 0:37:10\u001b[39m"
     ]
    },
    {
     "name": "stdout",
     "output_type": "stream",
     "text": [
      "parameters at step 250000 saved to ./RL_models_fast/vtol_2D_ppo_250000.bson\n",
      "test reward at step 250000: 70.2195410716778\n"
     ]
    },
    {
     "name": "stderr",
     "output_type": "stream",
     "text": [
      "\u001b[32mProgress:  17%|███████▏                                 |  ETA: 0:36:33\u001b[39m"
     ]
    },
    {
     "name": "stdout",
     "output_type": "stream",
     "text": [
      "parameters at step 260000 saved to ./RL_models_fast/vtol_2D_ppo_260000.bson\n",
      "test reward at step 260000: 71.32593619536944\n"
     ]
    },
    {
     "name": "stderr",
     "output_type": "stream",
     "text": [
      "\u001b[32mProgress:  18%|███████▍                                 |  ETA: 0:36:03\u001b[39m"
     ]
    },
    {
     "name": "stdout",
     "output_type": "stream",
     "text": [
      "parameters at step 270000 saved to ./RL_models_fast/vtol_2D_ppo_270000.bson\n",
      "test reward at step 270000: 71.91460221070349\n"
     ]
    },
    {
     "name": "stderr",
     "output_type": "stream",
     "text": [
      "\u001b[32mProgress:  19%|███████▋                                 |  ETA: 0:35:37\u001b[39m"
     ]
    },
    {
     "name": "stdout",
     "output_type": "stream",
     "text": [
      "parameters at step 280000 saved to ./RL_models_fast/vtol_2D_ppo_280000.bson\n",
      "test reward at step 280000: 69.92846646253315\n"
     ]
    },
    {
     "name": "stderr",
     "output_type": "stream",
     "text": [
      "\u001b[32mProgress:  19%|███████▉                                 |  ETA: 0:35:01\u001b[39m"
     ]
    },
    {
     "name": "stdout",
     "output_type": "stream",
     "text": [
      "parameters at step 290000 saved to ./RL_models_fast/vtol_2D_ppo_290000.bson\n",
      "test reward at step 290000: 71.38013316950568\n"
     ]
    },
    {
     "name": "stderr",
     "output_type": "stream",
     "text": [
      "\u001b[32mProgress:  20%|████████▎                                |  ETA: 0:34:26\u001b[39m"
     ]
    },
    {
     "name": "stdout",
     "output_type": "stream",
     "text": [
      "parameters at step 300000 saved to ./RL_models_fast/vtol_2D_ppo_300000.bson\n",
      "test reward at step 300000: 68.78887881458445\n"
     ]
    },
    {
     "name": "stderr",
     "output_type": "stream",
     "text": [
      "\u001b[32mProgress:  21%|████████▌                                |  ETA: 0:33:55\u001b[39m"
     ]
    },
    {
     "name": "stdout",
     "output_type": "stream",
     "text": [
      "parameters at step 310000 saved to ./RL_models_fast/vtol_2D_ppo_310000.bson\n",
      "test reward at step 310000: 69.85002609887408\n"
     ]
    },
    {
     "name": "stderr",
     "output_type": "stream",
     "text": [
      "\u001b[32mProgress:  21%|████████▊                                |  ETA: 0:33:20\u001b[39m"
     ]
    },
    {
     "name": "stdout",
     "output_type": "stream",
     "text": [
      "parameters at step 320000 saved to ./RL_models_fast/vtol_2D_ppo_320000.bson\n",
      "test reward at step 320000: 70.25582929443844\n"
     ]
    },
    {
     "name": "stderr",
     "output_type": "stream",
     "text": [
      "\u001b[32mProgress:  22%|█████████                                |  ETA: 0:32:54\u001b[39m"
     ]
    },
    {
     "name": "stdout",
     "output_type": "stream",
     "text": [
      "parameters at step 330000 saved to ./RL_models_fast/vtol_2D_ppo_330000.bson\n",
      "test reward at step 330000: 70.72308330651578\n"
     ]
    },
    {
     "name": "stderr",
     "output_type": "stream",
     "text": [
      "\u001b[32mProgress:  23%|█████████▎                               |  ETA: 0:32:28\u001b[39m"
     ]
    },
    {
     "name": "stdout",
     "output_type": "stream",
     "text": [
      "parameters at step 340000 saved to ./RL_models_fast/vtol_2D_ppo_340000.bson\n",
      "test reward at step 340000: 71.50069770480391\n"
     ]
    },
    {
     "name": "stderr",
     "output_type": "stream",
     "text": [
      "\u001b[32mProgress:  23%|█████████▌                               |  ETA: 0:32:05\u001b[39m"
     ]
    },
    {
     "name": "stdout",
     "output_type": "stream",
     "text": [
      "parameters at step 350000 saved to ./RL_models_fast/vtol_2D_ppo_350000.bson\n"
     ]
    },
    {
     "name": "stderr",
     "output_type": "stream",
     "text": [
      "\r",
      "\u001b[32mProgress:  23%|█████████▋                               |  ETA: 0:32:25\u001b[39m"
     ]
    },
    {
     "name": "stdout",
     "output_type": "stream",
     "text": [
      "test reward at step 350000: 71.93519156531255\n"
     ]
    },
    {
     "name": "stderr",
     "output_type": "stream",
     "text": [
      "\u001b[32mProgress:  24%|█████████▉                               |  ETA: 0:31:48\u001b[39m"
     ]
    },
    {
     "name": "stdout",
     "output_type": "stream",
     "text": [
      "parameters at step 360000 saved to ./RL_models_fast/vtol_2D_ppo_360000.bson\n",
      "test reward at step 360000: 70.54117320044789\n"
     ]
    },
    {
     "name": "stderr",
     "output_type": "stream",
     "text": [
      "\u001b[32mProgress:  25%|██████████▏                              |  ETA: 0:31:24\u001b[39m"
     ]
    },
    {
     "name": "stdout",
     "output_type": "stream",
     "text": [
      "parameters at step 370000 saved to ./RL_models_fast/vtol_2D_ppo_370000.bson\n",
      "test reward at step 370000: 71.99887531529272\n"
     ]
    },
    {
     "name": "stderr",
     "output_type": "stream",
     "text": [
      "\u001b[32mProgress:  25%|██████████▍                              |  ETA: 0:31:10\u001b[39m"
     ]
    },
    {
     "name": "stdout",
     "output_type": "stream",
     "text": [
      "parameters at step 380000 saved to ./RL_models_fast/vtol_2D_ppo_380000.bson\n",
      "test reward at step 380000: 67.57299218564717\n"
     ]
    },
    {
     "name": "stderr",
     "output_type": "stream",
     "text": [
      "\u001b[32mProgress:  26%|██████████▋                              |  ETA: 0:30:37\u001b[39m"
     ]
    },
    {
     "name": "stdout",
     "output_type": "stream",
     "text": [
      "parameters at step 390000 saved to ./RL_models_fast/vtol_2D_ppo_390000.bson\n",
      "test reward at step 390000: 71.08051772674492\n"
     ]
    },
    {
     "name": "stderr",
     "output_type": "stream",
     "text": [
      "\u001b[32mProgress:  27%|██████████▉                              |  ETA: 0:30:19\u001b[39m"
     ]
    },
    {
     "name": "stdout",
     "output_type": "stream",
     "text": [
      "parameters at step 400000 saved to ./RL_models_fast/vtol_2D_ppo_400000.bson\n",
      "test reward at step 400000: 73.42730206618174\n"
     ]
    },
    {
     "name": "stderr",
     "output_type": "stream",
     "text": [
      "\u001b[32mProgress:  27%|███████████▏                             |  ETA: 0:29:51\u001b[39m"
     ]
    },
    {
     "name": "stdout",
     "output_type": "stream",
     "text": [
      "parameters at step 410000 saved to ./RL_models_fast/vtol_2D_ppo_410000.bson\n",
      "test reward at step 410000: 71.70950274259307\n"
     ]
    },
    {
     "name": "stderr",
     "output_type": "stream",
     "text": [
      "\u001b[32mProgress:  28%|███████████▌                             |  ETA: 0:29:26\u001b[39m"
     ]
    },
    {
     "name": "stdout",
     "output_type": "stream",
     "text": [
      "parameters at step 420000 saved to ./RL_models_fast/vtol_2D_ppo_420000.bson\n",
      "test reward at step 420000: 70.19410524363258\n"
     ]
    },
    {
     "name": "stderr",
     "output_type": "stream",
     "text": [
      "\u001b[32mProgress:  29%|███████████▊                             |  ETA: 0:29:01\u001b[39m"
     ]
    },
    {
     "name": "stdout",
     "output_type": "stream",
     "text": [
      "parameters at step 430000 saved to ./RL_models_fast/vtol_2D_ppo_430000.bson\n"
     ]
    },
    {
     "name": "stderr",
     "output_type": "stream",
     "text": [
      "\r",
      "\u001b[32mProgress:  29%|███████████▊                             |  ETA: 0:29:05\u001b[39m"
     ]
    },
    {
     "name": "stdout",
     "output_type": "stream",
     "text": [
      "test reward at step 430000: 67.2993932392629\n"
     ]
    },
    {
     "name": "stderr",
     "output_type": "stream",
     "text": [
      "\u001b[32mProgress:  29%|████████████                             |  ETA: 0:28:36\u001b[39m"
     ]
    },
    {
     "name": "stdout",
     "output_type": "stream",
     "text": [
      "parameters at step 440000 saved to ./RL_models_fast/vtol_2D_ppo_440000.bson\n",
      "test reward at step 440000: 69.58803849417\n"
     ]
    },
    {
     "name": "stderr",
     "output_type": "stream",
     "text": [
      "\u001b[32mProgress:  30%|████████████▎                            |  ETA: 0:28:18\u001b[39m"
     ]
    },
    {
     "name": "stdout",
     "output_type": "stream",
     "text": [
      "parameters at step 450000 saved to ./RL_models_fast/vtol_2D_ppo_450000.bson\n",
      "test reward at step 450000: 71.3873698569609\n"
     ]
    },
    {
     "name": "stderr",
     "output_type": "stream",
     "text": [
      "\u001b[32mProgress:  31%|████████████▋                            |  ETA: 0:27:52\u001b[39m"
     ]
    },
    {
     "name": "stdout",
     "output_type": "stream",
     "text": [
      "parameters at step 460000 saved to ./RL_models_fast/vtol_2D_ppo_460000.bson\n",
      "test reward at step 460000: 74.91465458878179\n"
     ]
    },
    {
     "name": "stderr",
     "output_type": "stream",
     "text": [
      "\u001b[32mProgress:  31%|████████████▉                            |  ETA: 0:27:39\u001b[39m"
     ]
    },
    {
     "name": "stdout",
     "output_type": "stream",
     "text": [
      "parameters at step 470000 saved to ./RL_models_fast/vtol_2D_ppo_470000.bson\n",
      "test reward at step 470000: 71.35429269707862\n"
     ]
    },
    {
     "name": "stderr",
     "output_type": "stream",
     "text": [
      "\u001b[32mProgress:  32%|█████████████▏                           |  ETA: 0:27:22\u001b[39m"
     ]
    },
    {
     "name": "stdout",
     "output_type": "stream",
     "text": [
      "parameters at step 480000 saved to ./RL_models_fast/vtol_2D_ppo_480000.bson\n",
      "test reward at step 480000: 68.86747123858102\n"
     ]
    },
    {
     "name": "stderr",
     "output_type": "stream",
     "text": [
      "\u001b[32mProgress:  33%|█████████████▍                           |  ETA: 0:27:01\u001b[39m"
     ]
    },
    {
     "name": "stdout",
     "output_type": "stream",
     "text": [
      "parameters at step 490000 saved to ./RL_models_fast/vtol_2D_ppo_490000.bson\n",
      "test reward at step 490000: 69.35236625708345\n"
     ]
    },
    {
     "name": "stderr",
     "output_type": "stream",
     "text": [
      "\u001b[32mProgress:  33%|█████████████▋                           |  ETA: 0:26:42\u001b[39m"
     ]
    },
    {
     "name": "stdout",
     "output_type": "stream",
     "text": [
      "parameters at step 500000 saved to ./RL_models_fast/vtol_2D_ppo_500000.bson\n"
     ]
    },
    {
     "name": "stderr",
     "output_type": "stream",
     "text": [
      "\r",
      "\u001b[32mProgress:  33%|█████████████▋                           |  ETA: 0:26:53\u001b[39m"
     ]
    },
    {
     "name": "stdout",
     "output_type": "stream",
     "text": [
      "test reward at step 500000: 68.92991148876118\n"
     ]
    },
    {
     "name": "stderr",
     "output_type": "stream",
     "text": [
      "\u001b[32mProgress:  34%|█████████████▉                           |  ETA: 0:26:26\u001b[39m"
     ]
    },
    {
     "name": "stdout",
     "output_type": "stream",
     "text": [
      "parameters at step 510000 saved to ./RL_models_fast/vtol_2D_ppo_510000.bson\n",
      "test reward at step 510000: 65.99578056498004\n"
     ]
    },
    {
     "name": "stderr",
     "output_type": "stream",
     "text": [
      "\u001b[32mProgress:  35%|██████████████▎                          |  ETA: 0:26:04\u001b[39m"
     ]
    },
    {
     "name": "stdout",
     "output_type": "stream",
     "text": [
      "parameters at step 520000 saved to ./RL_models_fast/vtol_2D_ppo_520000.bson\n",
      "test reward at step 520000: 70.90771054166181\n"
     ]
    },
    {
     "name": "stderr",
     "output_type": "stream",
     "text": [
      "\u001b[32mProgress:  35%|██████████████▌                          |  ETA: 0:25:45\u001b[39m"
     ]
    },
    {
     "name": "stdout",
     "output_type": "stream",
     "text": [
      "parameters at step 530000 saved to ./RL_models_fast/vtol_2D_ppo_530000.bson\n",
      "test reward at step 530000: 72.3120954910416\n"
     ]
    },
    {
     "name": "stderr",
     "output_type": "stream",
     "text": [
      "\u001b[32mProgress:  36%|██████████████▊                          |  ETA: 0:25:28\u001b[39m"
     ]
    },
    {
     "name": "stdout",
     "output_type": "stream",
     "text": [
      "parameters at step 540000 saved to ./RL_models_fast/vtol_2D_ppo_540000.bson\n",
      "test reward at step 540000: 68.65713635296358\n"
     ]
    },
    {
     "name": "stderr",
     "output_type": "stream",
     "text": [
      "\u001b[32mProgress:  37%|███████████████                          |  ETA: 0:25:08\u001b[39m"
     ]
    },
    {
     "name": "stdout",
     "output_type": "stream",
     "text": [
      "parameters at step 550000 saved to ./RL_models_fast/vtol_2D_ppo_550000.bson\n",
      "test reward at step 550000: 68.33805330512114\n"
     ]
    },
    {
     "name": "stderr",
     "output_type": "stream",
     "text": [
      "\u001b[32mProgress:  37%|███████████████▎                         |  ETA: 0:24:49\u001b[39m"
     ]
    },
    {
     "name": "stdout",
     "output_type": "stream",
     "text": [
      "parameters at step 560000 saved to ./RL_models_fast/vtol_2D_ppo_560000.bson\n",
      "test reward at step 560000: 68.51813654998969\n"
     ]
    },
    {
     "name": "stderr",
     "output_type": "stream",
     "text": [
      "\u001b[32mProgress:  38%|███████████████▋                         |  ETA: 0:24:31\u001b[39m"
     ]
    },
    {
     "name": "stdout",
     "output_type": "stream",
     "text": [
      "parameters at step 570000 saved to ./RL_models_fast/vtol_2D_ppo_570000.bson\n",
      "test reward at step 570000: 72.16642203840254\n"
     ]
    },
    {
     "name": "stderr",
     "output_type": "stream",
     "text": [
      "\u001b[32mProgress:  39%|███████████████▊                         |  ETA: 0:24:20\u001b[39m"
     ]
    },
    {
     "name": "stdout",
     "output_type": "stream",
     "text": [
      "parameters at step 580000 saved to ./RL_models_fast/vtol_2D_ppo_580000.bson\n",
      "test reward at step 580000: 68.9820955796484\n"
     ]
    },
    {
     "name": "stderr",
     "output_type": "stream",
     "text": [
      "\u001b[32mProgress:  39%|████████████████▏                        |  ETA: 0:23:55\u001b[39m"
     ]
    },
    {
     "name": "stdout",
     "output_type": "stream",
     "text": [
      "parameters at step 590000 saved to ./RL_models_fast/vtol_2D_ppo_590000.bson\n",
      "test reward at step 590000: 70.10135404604783\n"
     ]
    },
    {
     "name": "stderr",
     "output_type": "stream",
     "text": [
      "\u001b[32mProgress:  40%|████████████████▍                        |  ETA: 0:23:34\u001b[39m"
     ]
    },
    {
     "name": "stdout",
     "output_type": "stream",
     "text": [
      "parameters at step 600000 saved to ./RL_models_fast/vtol_2D_ppo_600000.bson\n",
      "test reward at step 600000: 70.16999867553463\n"
     ]
    },
    {
     "name": "stderr",
     "output_type": "stream",
     "text": [
      "\u001b[32mProgress:  41%|████████████████▋                        |  ETA: 0:23:16\u001b[39m"
     ]
    },
    {
     "name": "stdout",
     "output_type": "stream",
     "text": [
      "parameters at step 610000 saved to ./RL_models_fast/vtol_2D_ppo_610000.bson\n",
      "test reward at step 610000: 71.97022221771638\n"
     ]
    },
    {
     "name": "stderr",
     "output_type": "stream",
     "text": [
      "\u001b[32mProgress:  41%|████████████████▉                        |  ETA: 0:23:01\u001b[39m"
     ]
    },
    {
     "name": "stdout",
     "output_type": "stream",
     "text": [
      "parameters at step 620000 saved to ./RL_models_fast/vtol_2D_ppo_620000.bson\n"
     ]
    },
    {
     "name": "stderr",
     "output_type": "stream",
     "text": [
      "\r",
      "\u001b[32mProgress:  41%|█████████████████                        |  ETA: 0:22:59\u001b[39m"
     ]
    },
    {
     "name": "stdout",
     "output_type": "stream",
     "text": [
      "test reward at step 620000: 68.49015097072194\n"
     ]
    },
    {
     "name": "stderr",
     "output_type": "stream",
     "text": [
      "\u001b[32mProgress:  42%|█████████████████▎                       |  ETA: 0:22:36\u001b[39m"
     ]
    },
    {
     "name": "stdout",
     "output_type": "stream",
     "text": [
      "parameters at step 630000 saved to ./RL_models_fast/vtol_2D_ppo_630000.bson\n",
      "test reward at step 630000: 72.23370017058232\n"
     ]
    },
    {
     "name": "stderr",
     "output_type": "stream",
     "text": [
      "\u001b[32mProgress:  43%|█████████████████▌                       |  ETA: 0:22:15\u001b[39m"
     ]
    },
    {
     "name": "stdout",
     "output_type": "stream",
     "text": [
      "parameters at step 640000 saved to ./RL_models_fast/vtol_2D_ppo_640000.bson\n",
      "test reward at step 640000: 71.83648571342269\n"
     ]
    },
    {
     "name": "stderr",
     "output_type": "stream",
     "text": [
      "\u001b[32mProgress:  43%|█████████████████▊                       |  ETA: 0:21:58\u001b[39m"
     ]
    },
    {
     "name": "stdout",
     "output_type": "stream",
     "text": [
      "parameters at step 650000 saved to ./RL_models_fast/vtol_2D_ppo_650000.bson\n",
      "test reward at step 650000: 68.13407382454083\n"
     ]
    },
    {
     "name": "stderr",
     "output_type": "stream",
     "text": [
      "\u001b[32mProgress:  44%|██████████████████                       |  ETA: 0:21:43\u001b[39m"
     ]
    },
    {
     "name": "stdout",
     "output_type": "stream",
     "text": [
      "parameters at step 660000 saved to ./RL_models_fast/vtol_2D_ppo_660000.bson\n",
      "test reward at step 660000: 68.12011112213358\n"
     ]
    },
    {
     "name": "stderr",
     "output_type": "stream",
     "text": [
      "\u001b[32mProgress:  45%|██████████████████▎                      |  ETA: 0:21:24\u001b[39m"
     ]
    },
    {
     "name": "stdout",
     "output_type": "stream",
     "text": [
      "parameters at step 670000 saved to ./RL_models_fast/vtol_2D_ppo_670000.bson\n",
      "test reward at step 670000: 70.9575002200865\n"
     ]
    },
    {
     "name": "stderr",
     "output_type": "stream",
     "text": [
      "\u001b[32mProgress:  45%|██████████████████▋                      |  ETA: 0:21:08\u001b[39m"
     ]
    },
    {
     "name": "stdout",
     "output_type": "stream",
     "text": [
      "parameters at step 680000 saved to ./RL_models_fast/vtol_2D_ppo_680000.bson\n",
      "test reward at step 680000: 70.84194494599609\n"
     ]
    },
    {
     "name": "stderr",
     "output_type": "stream",
     "text": [
      "\u001b[32mProgress:  46%|██████████████████▉                      |  ETA: 0:20:49\u001b[39m"
     ]
    },
    {
     "name": "stdout",
     "output_type": "stream",
     "text": [
      "parameters at step 690000 saved to ./RL_models_fast/vtol_2D_ppo_690000.bson\n",
      "test reward at step 690000: 68.65897726473872\n"
     ]
    },
    {
     "name": "stderr",
     "output_type": "stream",
     "text": [
      "\u001b[32mProgress:  47%|███████████████████▏                     |  ETA: 0:20:32\u001b[39m"
     ]
    },
    {
     "name": "stdout",
     "output_type": "stream",
     "text": [
      "parameters at step 700000 saved to ./RL_models_fast/vtol_2D_ppo_700000.bson\n",
      "test reward at step 700000: 76.51071376833539\n"
     ]
    },
    {
     "name": "stderr",
     "output_type": "stream",
     "text": [
      "\u001b[32mProgress:  47%|███████████████████▍                     |  ETA: 0:20:13\u001b[39m"
     ]
    },
    {
     "name": "stdout",
     "output_type": "stream",
     "text": [
      "parameters at step 710000 saved to ./RL_models_fast/vtol_2D_ppo_710000.bson\n",
      "test reward at step 710000: 68.14924431654278\n"
     ]
    },
    {
     "name": "stderr",
     "output_type": "stream",
     "text": [
      "\u001b[32mProgress:  48%|███████████████████▋                     |  ETA: 0:20:01\u001b[39m"
     ]
    },
    {
     "name": "stdout",
     "output_type": "stream",
     "text": [
      "parameters at step 720000 saved to ./RL_models_fast/vtol_2D_ppo_720000.bson\n",
      "test reward at step 720000: 68.53440924952568\n"
     ]
    },
    {
     "name": "stderr",
     "output_type": "stream",
     "text": [
      "\u001b[32mProgress:  49%|████████████████████                     |  ETA: 0:19:40\u001b[39m"
     ]
    },
    {
     "name": "stdout",
     "output_type": "stream",
     "text": [
      "parameters at step 730000 saved to ./RL_models_fast/vtol_2D_ppo_730000.bson\n",
      "test reward at step 730000: 70.80247001000502\n"
     ]
    },
    {
     "name": "stderr",
     "output_type": "stream",
     "text": [
      "\u001b[32mProgress:  49%|████████████████████▎                    |  ETA: 0:19:25\u001b[39m"
     ]
    },
    {
     "name": "stdout",
     "output_type": "stream",
     "text": [
      "parameters at step 740000 saved to ./RL_models_fast/vtol_2D_ppo_740000.bson\n"
     ]
    },
    {
     "name": "stderr",
     "output_type": "stream",
     "text": [
      "\r",
      "\u001b[32mProgress:  49%|████████████████████▎                    |  ETA: 0:19:26\u001b[39m"
     ]
    },
    {
     "name": "stdout",
     "output_type": "stream",
     "text": [
      "test reward at step 740000: 67.81423038781962\n"
     ]
    },
    {
     "name": "stderr",
     "output_type": "stream",
     "text": [
      "\u001b[32mProgress:  50%|████████████████████▌                    |  ETA: 0:19:06\u001b[39m"
     ]
    },
    {
     "name": "stdout",
     "output_type": "stream",
     "text": [
      "parameters at step 750000 saved to ./RL_models_fast/vtol_2D_ppo_750000.bson\n",
      "test reward at step 750000: 72.29820377370488\n"
     ]
    },
    {
     "name": "stderr",
     "output_type": "stream",
     "text": [
      "\u001b[32mProgress:  51%|████████████████████▊                    |  ETA: 0:18:53\u001b[39m"
     ]
    },
    {
     "name": "stdout",
     "output_type": "stream",
     "text": [
      "parameters at step 760000 saved to ./RL_models_fast/vtol_2D_ppo_760000.bson\n",
      "test reward at step 760000: 68.77549262241413\n"
     ]
    },
    {
     "name": "stderr",
     "output_type": "stream",
     "text": [
      "\u001b[32mProgress:  51%|█████████████████████                    |  ETA: 0:18:34\u001b[39m"
     ]
    },
    {
     "name": "stdout",
     "output_type": "stream",
     "text": [
      "parameters at step 770000 saved to ./RL_models_fast/vtol_2D_ppo_770000.bson\n",
      "test reward at step 770000: 71.68004198149546\n"
     ]
    },
    {
     "name": "stderr",
     "output_type": "stream",
     "text": [
      "\u001b[32mProgress:  52%|█████████████████████▎                   |  ETA: 0:18:18\u001b[39m"
     ]
    },
    {
     "name": "stdout",
     "output_type": "stream",
     "text": [
      "parameters at step 780000 saved to ./RL_models_fast/vtol_2D_ppo_780000.bson\n",
      "test reward at step 780000: 71.10244289303061\n"
     ]
    },
    {
     "name": "stderr",
     "output_type": "stream",
     "text": [
      "\u001b[32mProgress:  53%|█████████████████████▋                   |  ETA: 0:18:01\u001b[39m"
     ]
    },
    {
     "name": "stdout",
     "output_type": "stream",
     "text": [
      "parameters at step 790000 saved to ./RL_models_fast/vtol_2D_ppo_790000.bson\n",
      "test reward at step 790000: 68.36520369271351\n"
     ]
    },
    {
     "name": "stderr",
     "output_type": "stream",
     "text": [
      "\u001b[32mProgress:  53%|█████████████████████▉                   |  ETA: 0:17:46\u001b[39m"
     ]
    },
    {
     "name": "stdout",
     "output_type": "stream",
     "text": [
      "parameters at step 800000 saved to ./RL_models_fast/vtol_2D_ppo_800000.bson\n",
      "test reward at step 800000: 69.2150989892807\n"
     ]
    },
    {
     "name": "stderr",
     "output_type": "stream",
     "text": [
      "\u001b[32mProgress:  54%|██████████████████████▏                  |  ETA: 0:17:28\u001b[39m"
     ]
    },
    {
     "name": "stdout",
     "output_type": "stream",
     "text": [
      "parameters at step 810000 saved to ./RL_models_fast/vtol_2D_ppo_810000.bson\n",
      "test reward at step 810000: 70.08807667638692\n"
     ]
    },
    {
     "name": "stderr",
     "output_type": "stream",
     "text": [
      "\u001b[32mProgress:  55%|██████████████████████▍                  |  ETA: 0:17:13\u001b[39m"
     ]
    },
    {
     "name": "stdout",
     "output_type": "stream",
     "text": [
      "parameters at step 820000 saved to ./RL_models_fast/vtol_2D_ppo_820000.bson\n",
      "test reward at step 820000: 70.35124363027144\n"
     ]
    },
    {
     "name": "stderr",
     "output_type": "stream",
     "text": [
      "\u001b[32mProgress:  55%|██████████████████████▋                  |  ETA: 0:16:56\u001b[39m"
     ]
    },
    {
     "name": "stdout",
     "output_type": "stream",
     "text": [
      "parameters at step 830000 saved to ./RL_models_fast/vtol_2D_ppo_830000.bson\n",
      "test reward at step 830000: 71.6346256049514\n"
     ]
    },
    {
     "name": "stderr",
     "output_type": "stream",
     "text": [
      "\u001b[32mProgress:  56%|██████████████████████▉                  |  ETA: 0:16:41\u001b[39m"
     ]
    },
    {
     "name": "stdout",
     "output_type": "stream",
     "text": [
      "parameters at step 840000 saved to ./RL_models_fast/vtol_2D_ppo_840000.bson\n",
      "test reward at step 840000: 67.10632280776795\n"
     ]
    },
    {
     "name": "stderr",
     "output_type": "stream",
     "text": [
      "\u001b[32mProgress:  57%|███████████████████████▎                 |  ETA: 0:16:24\u001b[39m"
     ]
    },
    {
     "name": "stdout",
     "output_type": "stream",
     "text": [
      "parameters at step 850000 saved to ./RL_models_fast/vtol_2D_ppo_850000.bson\n",
      "test reward at step 850000: 68.91993120671518\n"
     ]
    },
    {
     "name": "stderr",
     "output_type": "stream",
     "text": [
      "\u001b[32mProgress:  57%|███████████████████████▌                 |  ETA: 0:16:06\u001b[39m"
     ]
    },
    {
     "name": "stdout",
     "output_type": "stream",
     "text": [
      "parameters at step 860000 saved to ./RL_models_fast/vtol_2D_ppo_860000.bson\n",
      "test reward at step 860000: 67.31002886265976\n"
     ]
    },
    {
     "name": "stderr",
     "output_type": "stream",
     "text": [
      "\u001b[32mProgress:  58%|███████████████████████▊                 |  ETA: 0:15:52\u001b[39m"
     ]
    },
    {
     "name": "stdout",
     "output_type": "stream",
     "text": [
      "parameters at step 870000 saved to ./RL_models_fast/vtol_2D_ppo_870000.bson\n",
      "test reward at step 870000: 66.95610948502937\n"
     ]
    },
    {
     "name": "stderr",
     "output_type": "stream",
     "text": [
      "\u001b[32mProgress:  59%|████████████████████████                 |  ETA: 0:15:35\u001b[39m"
     ]
    },
    {
     "name": "stdout",
     "output_type": "stream",
     "text": [
      "parameters at step 880000 saved to ./RL_models_fast/vtol_2D_ppo_880000.bson\n",
      "test reward at step 880000: 68.26876924477112\n"
     ]
    },
    {
     "name": "stderr",
     "output_type": "stream",
     "text": [
      "\u001b[32mProgress:  59%|████████████████████████▍                |  ETA: 0:15:19\u001b[39m"
     ]
    },
    {
     "name": "stdout",
     "output_type": "stream",
     "text": [
      "parameters at step 890000 saved to ./RL_models_fast/vtol_2D_ppo_890000.bson\n",
      "test reward at step 890000: 71.67277840568529\n"
     ]
    },
    {
     "name": "stderr",
     "output_type": "stream",
     "text": [
      "\u001b[32mProgress:  60%|████████████████████████▋                |  ETA: 0:15:02\u001b[39m"
     ]
    },
    {
     "name": "stdout",
     "output_type": "stream",
     "text": [
      "parameters at step 900000 saved to ./RL_models_fast/vtol_2D_ppo_900000.bson\n",
      "test reward at step 900000: 75.57116670747888\n"
     ]
    },
    {
     "name": "stderr",
     "output_type": "stream",
     "text": [
      "\u001b[32mProgress:  61%|████████████████████████▉                |  ETA: 0:14:48\u001b[39m"
     ]
    },
    {
     "name": "stdout",
     "output_type": "stream",
     "text": [
      "parameters at step 910000 saved to ./RL_models_fast/vtol_2D_ppo_910000.bson\n",
      "test reward at step 910000: 70.29571169018038\n"
     ]
    },
    {
     "name": "stderr",
     "output_type": "stream",
     "text": [
      "\u001b[32mProgress:  61%|█████████████████████████▏               |  ETA: 0:14:32\u001b[39m"
     ]
    },
    {
     "name": "stdout",
     "output_type": "stream",
     "text": [
      "parameters at step 920000 saved to ./RL_models_fast/vtol_2D_ppo_920000.bson\n",
      "test reward at step 920000: 71.78731783851306\n"
     ]
    },
    {
     "name": "stderr",
     "output_type": "stream",
     "text": [
      "\u001b[32mProgress:  62%|█████████████████████████▍               |  ETA: 0:14:14\u001b[39m"
     ]
    },
    {
     "name": "stdout",
     "output_type": "stream",
     "text": [
      "parameters at step 930000 saved to ./RL_models_fast/vtol_2D_ppo_930000.bson\n",
      "test reward at step 930000: 70.6695923118524\n"
     ]
    },
    {
     "name": "stderr",
     "output_type": "stream",
     "text": [
      "\u001b[32mProgress:  63%|█████████████████████████▊               |  ETA: 0:13:58\u001b[39m"
     ]
    },
    {
     "name": "stdout",
     "output_type": "stream",
     "text": [
      "parameters at step 940000 saved to ./RL_models_fast/vtol_2D_ppo_940000.bson\n",
      "test reward at step 940000: 72.3660814439164\n"
     ]
    },
    {
     "name": "stderr",
     "output_type": "stream",
     "text": [
      "\u001b[32mProgress:  63%|██████████████████████████               |  ETA: 0:13:44\u001b[39m"
     ]
    },
    {
     "name": "stdout",
     "output_type": "stream",
     "text": [
      "parameters at step 950000 saved to ./RL_models_fast/vtol_2D_ppo_950000.bson\n",
      "test reward at step 950000: 78.73494660267973\n"
     ]
    },
    {
     "name": "stderr",
     "output_type": "stream",
     "text": [
      "\u001b[32mProgress:  64%|██████████████████████████▎              |  ETA: 0:13:28\u001b[39m"
     ]
    },
    {
     "name": "stdout",
     "output_type": "stream",
     "text": [
      "parameters at step 960000 saved to ./RL_models_fast/vtol_2D_ppo_960000.bson\n",
      "test reward at step 960000: 69.52564808720979\n"
     ]
    },
    {
     "name": "stderr",
     "output_type": "stream",
     "text": [
      "\u001b[32mProgress:  65%|██████████████████████████▌              |  ETA: 0:13:14\u001b[39m"
     ]
    },
    {
     "name": "stdout",
     "output_type": "stream",
     "text": [
      "parameters at step 970000 saved to ./RL_models_fast/vtol_2D_ppo_970000.bson\n",
      "test reward at step 970000: 67.00213991520778\n"
     ]
    },
    {
     "name": "stderr",
     "output_type": "stream",
     "text": [
      "\u001b[32mProgress:  65%|██████████████████████████▊              |  ETA: 0:13:00\u001b[39m"
     ]
    },
    {
     "name": "stdout",
     "output_type": "stream",
     "text": [
      "parameters at step 980000 saved to ./RL_models_fast/vtol_2D_ppo_980000.bson\n",
      "test reward at step 980000: 74.61198856417386\n"
     ]
    },
    {
     "name": "stderr",
     "output_type": "stream",
     "text": [
      "\u001b[32mProgress:  66%|███████████████████████████              |  ETA: 0:12:43\u001b[39m"
     ]
    },
    {
     "name": "stdout",
     "output_type": "stream",
     "text": [
      "parameters at step 990000 saved to ./RL_models_fast/vtol_2D_ppo_990000.bson\n",
      "test reward at step 990000: 71.0907500719607\n"
     ]
    },
    {
     "name": "stderr",
     "output_type": "stream",
     "text": [
      "\u001b[32mProgress:  66%|███████████████████████████▎             |  ETA: 0:12:31\u001b[39m"
     ]
    },
    {
     "name": "stdout",
     "output_type": "stream",
     "text": [
      "parameters at step 1000000 saved to ./RL_models_fast/vtol_2D_ppo_1000000.bson\n",
      "test reward at step 1000000: 68.80737273282195\n"
     ]
    },
    {
     "name": "stderr",
     "output_type": "stream",
     "text": [
      "\u001b[32mProgress:  67%|███████████████████████████▋             |  ETA: 0:12:11\u001b[39m"
     ]
    },
    {
     "name": "stdout",
     "output_type": "stream",
     "text": [
      "parameters at step 1010000 saved to ./RL_models_fast/vtol_2D_ppo_1010000.bson\n",
      "test reward at step 1010000: 70.55313808792813\n"
     ]
    },
    {
     "name": "stderr",
     "output_type": "stream",
     "text": [
      "\u001b[32mProgress:  68%|███████████████████████████▉             |  ETA: 0:11:56\u001b[39m"
     ]
    },
    {
     "name": "stdout",
     "output_type": "stream",
     "text": [
      "parameters at step 1020000 saved to ./RL_models_fast/vtol_2D_ppo_1020000.bson\n",
      "test reward at step 1020000: 67.22001021493227\n"
     ]
    },
    {
     "name": "stderr",
     "output_type": "stream",
     "text": [
      "\u001b[32mProgress:  69%|████████████████████████████▏            |  ETA: 0:11:41\u001b[39m"
     ]
    },
    {
     "name": "stdout",
     "output_type": "stream",
     "text": [
      "parameters at step 1030000 saved to ./RL_models_fast/vtol_2D_ppo_1030000.bson\n",
      "test reward at step 1030000: 70.24256999607721\n"
     ]
    },
    {
     "name": "stderr",
     "output_type": "stream",
     "text": [
      "\u001b[32mProgress:  69%|████████████████████████████▍            |  ETA: 0:11:25\u001b[39m"
     ]
    },
    {
     "name": "stdout",
     "output_type": "stream",
     "text": [
      "parameters at step 1040000 saved to ./RL_models_fast/vtol_2D_ppo_1040000.bson\n",
      "test reward at step 1040000: 68.44967497198414\n"
     ]
    },
    {
     "name": "stderr",
     "output_type": "stream",
     "text": [
      "\u001b[32mProgress:  70%|████████████████████████████▋            |  ETA: 0:11:10\u001b[39m"
     ]
    },
    {
     "name": "stdout",
     "output_type": "stream",
     "text": [
      "parameters at step 1050000 saved to ./RL_models_fast/vtol_2D_ppo_1050000.bson\n",
      "test reward at step 1050000: 69.26079964245241\n"
     ]
    },
    {
     "name": "stderr",
     "output_type": "stream",
     "text": [
      "\u001b[32mProgress:  71%|█████████████████████████████            |  ETA: 0:10:53\u001b[39m"
     ]
    },
    {
     "name": "stdout",
     "output_type": "stream",
     "text": [
      "parameters at step 1060000 saved to ./RL_models_fast/vtol_2D_ppo_1060000.bson\n",
      "test reward at step 1060000: 70.98841844175661\n"
     ]
    },
    {
     "name": "stderr",
     "output_type": "stream",
     "text": [
      "\u001b[32mProgress:  71%|█████████████████████████████▎           |  ETA: 0:10:40\u001b[39m"
     ]
    },
    {
     "name": "stdout",
     "output_type": "stream",
     "text": [
      "parameters at step 1070000 saved to ./RL_models_fast/vtol_2D_ppo_1070000.bson\n",
      "test reward at step 1070000: 70.71646196706727\n"
     ]
    },
    {
     "name": "stderr",
     "output_type": "stream",
     "text": [
      "\u001b[32mProgress:  72%|█████████████████████████████▌           |  ETA: 0:10:24\u001b[39m"
     ]
    },
    {
     "name": "stdout",
     "output_type": "stream",
     "text": [
      "parameters at step 1080000 saved to ./RL_models_fast/vtol_2D_ppo_1080000.bson\n",
      "test reward at step 1080000: 71.06866885803686\n"
     ]
    },
    {
     "name": "stderr",
     "output_type": "stream",
     "text": [
      "\u001b[32mProgress:  73%|█████████████████████████████▊           |  ETA: 0:10:09\u001b[39m"
     ]
    },
    {
     "name": "stdout",
     "output_type": "stream",
     "text": [
      "parameters at step 1090000 saved to ./RL_models_fast/vtol_2D_ppo_1090000.bson\n",
      "test reward at step 1090000: 72.00317310885943\n"
     ]
    },
    {
     "name": "stderr",
     "output_type": "stream",
     "text": [
      "\u001b[32mProgress:  73%|██████████████████████████████           |  ETA: 0:09:51\u001b[39m"
     ]
    },
    {
     "name": "stdout",
     "output_type": "stream",
     "text": [
      "parameters at step 1100000 saved to ./RL_models_fast/vtol_2D_ppo_1100000.bson\n",
      "test reward at step 1100000: 72.0495873097311\n"
     ]
    },
    {
     "name": "stderr",
     "output_type": "stream",
     "text": [
      "\u001b[32mProgress:  74%|██████████████████████████████▎          |  ETA: 0:09:37\u001b[39m"
     ]
    },
    {
     "name": "stdout",
     "output_type": "stream",
     "text": [
      "parameters at step 1110000 saved to ./RL_models_fast/vtol_2D_ppo_1110000.bson\n",
      "test reward at step 1110000: 71.751006465828\n"
     ]
    },
    {
     "name": "stderr",
     "output_type": "stream",
     "text": [
      "\u001b[32mProgress:  75%|██████████████████████████████▋          |  ETA: 0:09:20\u001b[39m"
     ]
    },
    {
     "name": "stdout",
     "output_type": "stream",
     "text": [
      "parameters at step 1120000 saved to ./RL_models_fast/vtol_2D_ppo_1120000.bson\n",
      "test reward at step 1120000: 73.10055015206817\n"
     ]
    },
    {
     "name": "stderr",
     "output_type": "stream",
     "text": [
      "\u001b[32mProgress:  75%|██████████████████████████████▉          |  ETA: 0:09:06\u001b[39m"
     ]
    },
    {
     "name": "stdout",
     "output_type": "stream",
     "text": [
      "parameters at step 1130000 saved to ./RL_models_fast/vtol_2D_ppo_1130000.bson\n",
      "test reward at step 1130000: 70.63920148904815\n"
     ]
    },
    {
     "name": "stderr",
     "output_type": "stream",
     "text": [
      "\u001b[32mProgress:  76%|███████████████████████████████▏         |  ETA: 0:08:50\u001b[39m"
     ]
    },
    {
     "name": "stdout",
     "output_type": "stream",
     "text": [
      "parameters at step 1140000 saved to ./RL_models_fast/vtol_2D_ppo_1140000.bson\n",
      "test reward at step 1140000: 70.77901355309892\n"
     ]
    },
    {
     "name": "stderr",
     "output_type": "stream",
     "text": [
      "\u001b[32mProgress:  77%|███████████████████████████████▍         |  ETA: 0:08:35\u001b[39m"
     ]
    },
    {
     "name": "stdout",
     "output_type": "stream",
     "text": [
      "parameters at step 1150000 saved to ./RL_models_fast/vtol_2D_ppo_1150000.bson\n",
      "test reward at step 1150000: 70.64006014345223\n"
     ]
    },
    {
     "name": "stderr",
     "output_type": "stream",
     "text": [
      "\u001b[32mProgress:  77%|███████████████████████████████▋         |  ETA: 0:08:22\u001b[39m"
     ]
    },
    {
     "name": "stdout",
     "output_type": "stream",
     "text": [
      "parameters at step 1160000 saved to ./RL_models_fast/vtol_2D_ppo_1160000.bson\n",
      "test reward at step 1160000: 70.7689230477488\n"
     ]
    },
    {
     "name": "stderr",
     "output_type": "stream",
     "text": [
      "\u001b[32mProgress:  78%|████████████████████████████████         |  ETA: 0:08:06\u001b[39m"
     ]
    },
    {
     "name": "stdout",
     "output_type": "stream",
     "text": [
      "parameters at step 1170000 saved to ./RL_models_fast/vtol_2D_ppo_1170000.bson\n"
     ]
    },
    {
     "name": "stderr",
     "output_type": "stream",
     "text": [
      "\r",
      "\u001b[32mProgress:  78%|████████████████████████████████         |  ETA: 0:08:05\u001b[39m"
     ]
    },
    {
     "name": "stdout",
     "output_type": "stream",
     "text": [
      "test reward at step 1170000: 65.87326870898193\n"
     ]
    },
    {
     "name": "stderr",
     "output_type": "stream",
     "text": [
      "\u001b[32mProgress:  79%|████████████████████████████████▎        |  ETA: 0:07:49\u001b[39m"
     ]
    },
    {
     "name": "stdout",
     "output_type": "stream",
     "text": [
      "parameters at step 1180000 saved to ./RL_models_fast/vtol_2D_ppo_1180000.bson\n",
      "test reward at step 1180000: 72.62490769335534\n"
     ]
    },
    {
     "name": "stderr",
     "output_type": "stream",
     "text": [
      "\u001b[32mProgress:  79%|████████████████████████████████▌        |  ETA: 0:07:34\u001b[39m"
     ]
    },
    {
     "name": "stdout",
     "output_type": "stream",
     "text": [
      "parameters at step 1190000 saved to ./RL_models_fast/vtol_2D_ppo_1190000.bson\n",
      "test reward at step 1190000: 68.86550503929827\n"
     ]
    },
    {
     "name": "stderr",
     "output_type": "stream",
     "text": [
      "\u001b[32mProgress:  80%|████████████████████████████████▊        |  ETA: 0:07:19\u001b[39m"
     ]
    },
    {
     "name": "stdout",
     "output_type": "stream",
     "text": [
      "parameters at step 1200000 saved to ./RL_models_fast/vtol_2D_ppo_1200000.bson\n",
      "test reward at step 1200000: 68.45648269775808\n"
     ]
    },
    {
     "name": "stderr",
     "output_type": "stream",
     "text": [
      "\u001b[32mProgress:  81%|█████████████████████████████████        |  ETA: 0:07:05\u001b[39m"
     ]
    },
    {
     "name": "stdout",
     "output_type": "stream",
     "text": [
      "parameters at step 1210000 saved to ./RL_models_fast/vtol_2D_ppo_1210000.bson\n",
      "test reward at step 1210000: 73.35021282563451\n"
     ]
    },
    {
     "name": "stderr",
     "output_type": "stream",
     "text": [
      "\u001b[32mProgress:  81%|█████████████████████████████████▎       |  ETA: 0:06:51\u001b[39m"
     ]
    },
    {
     "name": "stdout",
     "output_type": "stream",
     "text": [
      "parameters at step 1220000 saved to ./RL_models_fast/vtol_2D_ppo_1220000.bson\n",
      "test reward at step 1220000: 70.91381976492897\n"
     ]
    },
    {
     "name": "stderr",
     "output_type": "stream",
     "text": [
      "\u001b[32mProgress:  82%|█████████████████████████████████▋       |  ETA: 0:06:38\u001b[39m"
     ]
    },
    {
     "name": "stdout",
     "output_type": "stream",
     "text": [
      "parameters at step 1230000 saved to ./RL_models_fast/vtol_2D_ppo_1230000.bson\n",
      "test reward at step 1230000: 67.00524101435656\n"
     ]
    },
    {
     "name": "stderr",
     "output_type": "stream",
     "text": [
      "\u001b[32mProgress:  83%|█████████████████████████████████▉       |  ETA: 0:06:21\u001b[39m"
     ]
    },
    {
     "name": "stdout",
     "output_type": "stream",
     "text": [
      "parameters at step 1240000 saved to ./RL_models_fast/vtol_2D_ppo_1240000.bson\n",
      "test reward at step 1240000: 75.20684658146655\n"
     ]
    },
    {
     "name": "stderr",
     "output_type": "stream",
     "text": [
      "\u001b[32mProgress:  83%|██████████████████████████████████▏      |  ETA: 0:06:05\u001b[39m"
     ]
    },
    {
     "name": "stdout",
     "output_type": "stream",
     "text": [
      "parameters at step 1250000 saved to ./RL_models_fast/vtol_2D_ppo_1250000.bson\n",
      "test reward at step 1250000: 72.60479865011405\n"
     ]
    },
    {
     "name": "stderr",
     "output_type": "stream",
     "text": [
      "\u001b[32mProgress:  84%|██████████████████████████████████▍      |  ETA: 0:05:52\u001b[39m"
     ]
    },
    {
     "name": "stdout",
     "output_type": "stream",
     "text": [
      "parameters at step 1260000 saved to ./RL_models_fast/vtol_2D_ppo_1260000.bson\n",
      "test reward at step 1260000: 67.40375076645327\n"
     ]
    },
    {
     "name": "stderr",
     "output_type": "stream",
     "text": [
      "\u001b[32mProgress:  85%|██████████████████████████████████▋      |  ETA: 0:05:36\u001b[39m"
     ]
    },
    {
     "name": "stdout",
     "output_type": "stream",
     "text": [
      "parameters at step 1270000 saved to ./RL_models_fast/vtol_2D_ppo_1270000.bson\n",
      "test reward at step 1270000: 69.19602640041684\n"
     ]
    },
    {
     "name": "stderr",
     "output_type": "stream",
     "text": [
      "\u001b[32mProgress:  85%|██████████████████████████████████▉      |  ETA: 0:05:23\u001b[39m"
     ]
    },
    {
     "name": "stdout",
     "output_type": "stream",
     "text": [
      "parameters at step 1280000 saved to ./RL_models_fast/vtol_2D_ppo_1280000.bson\n",
      "test reward at step 1280000: 65.43668147970433\n"
     ]
    },
    {
     "name": "stderr",
     "output_type": "stream",
     "text": [
      "\u001b[32mProgress:  86%|███████████████████████████████████▏     |  ETA: 0:05:09\u001b[39m"
     ]
    },
    {
     "name": "stdout",
     "output_type": "stream",
     "text": [
      "parameters at step 1290000 saved to ./RL_models_fast/vtol_2D_ppo_1290000.bson\n",
      "test reward at step 1290000: 71.63108239103822\n"
     ]
    },
    {
     "name": "stderr",
     "output_type": "stream",
     "text": [
      "\u001b[32mProgress:  87%|███████████████████████████████████▌     |  ETA: 0:04:52\u001b[39m"
     ]
    },
    {
     "name": "stdout",
     "output_type": "stream",
     "text": [
      "parameters at step 1300000 saved to ./RL_models_fast/vtol_2D_ppo_1300000.bson\n",
      "test reward at step 1300000: 71.88759279577127\n"
     ]
    },
    {
     "name": "stderr",
     "output_type": "stream",
     "text": [
      "\u001b[32mProgress:  87%|███████████████████████████████████▊     |  ETA: 0:04:37\u001b[39m"
     ]
    },
    {
     "name": "stdout",
     "output_type": "stream",
     "text": [
      "parameters at step 1310000 saved to ./RL_models_fast/vtol_2D_ppo_1310000.bson\n",
      "test reward at step 1310000: 67.08755590288294\n"
     ]
    },
    {
     "name": "stderr",
     "output_type": "stream",
     "text": [
      "\u001b[32mProgress:  88%|████████████████████████████████████     |  ETA: 0:04:23\u001b[39m"
     ]
    },
    {
     "name": "stdout",
     "output_type": "stream",
     "text": [
      "parameters at step 1320000 saved to ./RL_models_fast/vtol_2D_ppo_1320000.bson\n",
      "test reward at step 1320000: 67.30856967273107\n"
     ]
    },
    {
     "name": "stderr",
     "output_type": "stream",
     "text": [
      "\u001b[32mProgress:  88%|████████████████████████████████████▎    |  ETA: 0:04:10\u001b[39m"
     ]
    },
    {
     "name": "stdout",
     "output_type": "stream",
     "text": [
      "parameters at step 1330000 saved to ./RL_models_fast/vtol_2D_ppo_1330000.bson\n",
      "test reward at step 1330000: 82.48734350556056\n"
     ]
    },
    {
     "name": "stderr",
     "output_type": "stream",
     "text": [
      "\u001b[32mProgress:  89%|████████████████████████████████████▋    |  ETA: 0:03:53\u001b[39m"
     ]
    },
    {
     "name": "stdout",
     "output_type": "stream",
     "text": [
      "parameters at step 1340000 saved to ./RL_models_fast/vtol_2D_ppo_1340000.bson\n",
      "test reward at step 1340000: 69.7904257991929\n"
     ]
    },
    {
     "name": "stderr",
     "output_type": "stream",
     "text": [
      "\u001b[32mProgress:  90%|████████████████████████████████████▉    |  ETA: 0:03:38\u001b[39m"
     ]
    },
    {
     "name": "stdout",
     "output_type": "stream",
     "text": [
      "parameters at step 1350000 saved to ./RL_models_fast/vtol_2D_ppo_1350000.bson\n",
      "test reward at step 1350000: 73.88669129199997\n"
     ]
    },
    {
     "name": "stderr",
     "output_type": "stream",
     "text": [
      "\u001b[32mProgress:  91%|█████████████████████████████████████▏   |  ETA: 0:03:25\u001b[39m"
     ]
    },
    {
     "name": "stdout",
     "output_type": "stream",
     "text": [
      "parameters at step 1360000 saved to ./RL_models_fast/vtol_2D_ppo_1360000.bson\n",
      "test reward at step 1360000: 66.23754376391359\n"
     ]
    },
    {
     "name": "stderr",
     "output_type": "stream",
     "text": [
      "\u001b[32mProgress:  91%|█████████████████████████████████████▌   |  ETA: 0:03:08\u001b[39m"
     ]
    },
    {
     "name": "stdout",
     "output_type": "stream",
     "text": [
      "parameters at step 1370000 saved to ./RL_models_fast/vtol_2D_ppo_1370000.bson\n",
      "test reward at step 1370000: 71.21323563381557\n"
     ]
    },
    {
     "name": "stderr",
     "output_type": "stream",
     "text": [
      "\u001b[32mProgress:  92%|█████████████████████████████████████▋   |  ETA: 0:02:57\u001b[39m"
     ]
    },
    {
     "name": "stdout",
     "output_type": "stream",
     "text": [
      "parameters at step 1380000 saved to ./RL_models_fast/vtol_2D_ppo_1380000.bson\n",
      "test reward at step 1380000: 67.09785932093011\n"
     ]
    },
    {
     "name": "stderr",
     "output_type": "stream",
     "text": [
      "\u001b[32mProgress:  93%|█████████████████████████████████████▉   |  ETA: 0:02:42\u001b[39m"
     ]
    },
    {
     "name": "stdout",
     "output_type": "stream",
     "text": [
      "parameters at step 1390000 saved to ./RL_models_fast/vtol_2D_ppo_1390000.bson\n",
      "test reward at step 1390000: 75.62306238926645\n"
     ]
    },
    {
     "name": "stderr",
     "output_type": "stream",
     "text": [
      "\u001b[32mProgress:  93%|██████████████████████████████████████▎  |  ETA: 0:02:25\u001b[39m"
     ]
    },
    {
     "name": "stdout",
     "output_type": "stream",
     "text": [
      "parameters at step 1400000 saved to ./RL_models_fast/vtol_2D_ppo_1400000.bson\n",
      "test reward at step 1400000: 72.10481705457812\n"
     ]
    },
    {
     "name": "stderr",
     "output_type": "stream",
     "text": [
      "\u001b[32mProgress:  94%|██████████████████████████████████████▌  |  ETA: 0:02:11\u001b[39m"
     ]
    },
    {
     "name": "stdout",
     "output_type": "stream",
     "text": [
      "parameters at step 1410000 saved to ./RL_models_fast/vtol_2D_ppo_1410000.bson\n",
      "test reward at step 1410000: 70.94211106120831\n"
     ]
    },
    {
     "name": "stderr",
     "output_type": "stream",
     "text": [
      "\u001b[32mProgress:  95%|██████████████████████████████████████▊  |  ETA: 0:01:56\u001b[39m"
     ]
    },
    {
     "name": "stdout",
     "output_type": "stream",
     "text": [
      "parameters at step 1420000 saved to ./RL_models_fast/vtol_2D_ppo_1420000.bson\n",
      "test reward at step 1420000: 71.00017025881986\n"
     ]
    },
    {
     "name": "stderr",
     "output_type": "stream",
     "text": [
      "\u001b[32mProgress:  95%|███████████████████████████████████████  |  ETA: 0:01:44\u001b[39m"
     ]
    },
    {
     "name": "stdout",
     "output_type": "stream",
     "text": [
      "parameters at step 1430000 saved to ./RL_models_fast/vtol_2D_ppo_1430000.bson\n",
      "test reward at step 1430000: 71.31072108372604\n"
     ]
    },
    {
     "name": "stderr",
     "output_type": "stream",
     "text": [
      "\u001b[32mProgress:  96%|███████████████████████████████████████▍ |  ETA: 0:01:27\u001b[39m"
     ]
    },
    {
     "name": "stdout",
     "output_type": "stream",
     "text": [
      "parameters at step 1440000 saved to ./RL_models_fast/vtol_2D_ppo_1440000.bson\n",
      "test reward at step 1440000: 67.20443714180493\n"
     ]
    },
    {
     "name": "stderr",
     "output_type": "stream",
     "text": [
      "\u001b[32mProgress:  97%|███████████████████████████████████████▋ |  ETA: 0:01:14\u001b[39m"
     ]
    },
    {
     "name": "stdout",
     "output_type": "stream",
     "text": [
      "parameters at step 1450000 saved to ./RL_models_fast/vtol_2D_ppo_1450000.bson\n",
      "test reward at step 1450000: 72.0663895902848\n"
     ]
    },
    {
     "name": "stderr",
     "output_type": "stream",
     "text": [
      "\u001b[32mProgress:  97%|███████████████████████████████████████▉ |  ETA: 0:00:58\u001b[39m"
     ]
    },
    {
     "name": "stdout",
     "output_type": "stream",
     "text": [
      "parameters at step 1460000 saved to ./RL_models_fast/vtol_2D_ppo_1460000.bson\n",
      "test reward at step 1460000: 69.46178534456575\n"
     ]
    },
    {
     "name": "stderr",
     "output_type": "stream",
     "text": [
      "\u001b[32mProgress:  98%|████████████████████████████████████████▏|  ETA: 0:00:44\u001b[39m"
     ]
    },
    {
     "name": "stdout",
     "output_type": "stream",
     "text": [
      "parameters at step 1470000 saved to ./RL_models_fast/vtol_2D_ppo_1470000.bson\n",
      "test reward at step 1470000: 68.74165217146012\n"
     ]
    },
    {
     "name": "stderr",
     "output_type": "stream",
     "text": [
      "\u001b[32mProgress:  99%|████████████████████████████████████████▌|  ETA: 0:00:29\u001b[39m"
     ]
    },
    {
     "name": "stdout",
     "output_type": "stream",
     "text": [
      "parameters at step 1480000 saved to ./RL_models_fast/vtol_2D_ppo_1480000.bson\n",
      "test reward at step 1480000: 74.43397837213472\n"
     ]
    },
    {
     "name": "stderr",
     "output_type": "stream",
     "text": [
      "\u001b[32mProgress:  99%|████████████████████████████████████████▊|  ETA: 0:00:15\u001b[39m"
     ]
    },
    {
     "name": "stdout",
     "output_type": "stream",
     "text": [
      "parameters at step 1490000 saved to ./RL_models_fast/vtol_2D_ppo_1490000.bson\n",
      "test reward at step 1490000: 66.46497945950658\n"
     ]
    },
    {
     "name": "stderr",
     "output_type": "stream",
     "text": [
      "\u001b[32mProgress: 100%|█████████████████████████████████████████| Time: 0:35:45\u001b[39m\n"
     ]
    },
    {
     "name": "stdout",
     "output_type": "stream",
     "text": [
      "parameters at step 1500000 saved to ./RL_models_fast/vtol_2D_ppo_1500000.bson\n",
      "test reward at step 1500000: 67.47438875119835\n"
     ]
    }
   ],
   "source": [
    "ReinforcementLearning.run(\n",
    "    agent,\n",
    "    env,\n",
    "    StopAfterStep(steps),\n",
    "    ComposedHook(\n",
    "        DoEveryNStep(saveModel, n=10_000), \n",
    "        DoEveryNStep(validate_policy, n=10_000)),\n",
    ")"
   ]
  },
  {
   "cell_type": "code",
   "execution_count": 26,
   "id": "49a302a6",
   "metadata": {},
   "outputs": [
    {
     "data": {
      "image/svg+xml": [
       "<?xml version=\"1.0\" encoding=\"utf-8\"?>\n",
       "<svg xmlns=\"http://www.w3.org/2000/svg\" xmlns:xlink=\"http://www.w3.org/1999/xlink\" width=\"600\" height=\"400\" viewBox=\"0 0 2400 1600\">\n",
       "<defs>\n",
       "  <clipPath id=\"clip910\">\n",
       "    <rect x=\"0\" y=\"0\" width=\"2400\" height=\"1600\"/>\n",
       "  </clipPath>\n",
       "</defs>\n",
       "<path clip-path=\"url(#clip910)\" d=\"\n",
       "M0 1600 L2400 1600 L2400 0 L0 0  Z\n",
       "  \" fill=\"#ffffff\" fill-rule=\"evenodd\" fill-opacity=\"1\"/>\n",
       "<defs>\n",
       "  <clipPath id=\"clip911\">\n",
       "    <rect x=\"480\" y=\"0\" width=\"1681\" height=\"1600\"/>\n",
       "  </clipPath>\n",
       "</defs>\n",
       "<path clip-path=\"url(#clip910)\" d=\"\n",
       "M140.95 1486.45 L2352.76 1486.45 L2352.76 47.2441 L140.95 47.2441  Z\n",
       "  \" fill=\"#ffffff\" fill-rule=\"evenodd\" fill-opacity=\"1\"/>\n",
       "<defs>\n",
       "  <clipPath id=\"clip912\">\n",
       "    <rect x=\"140\" y=\"47\" width=\"2213\" height=\"1440\"/>\n",
       "  </clipPath>\n",
       "</defs>\n",
       "<polyline clip-path=\"url(#clip912)\" style=\"stroke:#000000; stroke-linecap:round; stroke-linejoin:round; stroke-width:2; stroke-opacity:0.1; fill:none\" points=\"\n",
       "  189.544,1486.45 189.544,47.2441 \n",
       "  \"/>\n",
       "<polyline clip-path=\"url(#clip912)\" style=\"stroke:#000000; stroke-linecap:round; stroke-linejoin:round; stroke-width:2; stroke-opacity:0.1; fill:none\" points=\"\n",
       "  889.749,1486.45 889.749,47.2441 \n",
       "  \"/>\n",
       "<polyline clip-path=\"url(#clip912)\" style=\"stroke:#000000; stroke-linecap:round; stroke-linejoin:round; stroke-width:2; stroke-opacity:0.1; fill:none\" points=\"\n",
       "  1589.95,1486.45 1589.95,47.2441 \n",
       "  \"/>\n",
       "<polyline clip-path=\"url(#clip912)\" style=\"stroke:#000000; stroke-linecap:round; stroke-linejoin:round; stroke-width:2; stroke-opacity:0.1; fill:none\" points=\"\n",
       "  2290.16,1486.45 2290.16,47.2441 \n",
       "  \"/>\n",
       "<polyline clip-path=\"url(#clip910)\" style=\"stroke:#000000; stroke-linecap:round; stroke-linejoin:round; stroke-width:4; stroke-opacity:1; fill:none\" points=\"\n",
       "  140.95,1486.45 2352.76,1486.45 \n",
       "  \"/>\n",
       "<polyline clip-path=\"url(#clip910)\" style=\"stroke:#000000; stroke-linecap:round; stroke-linejoin:round; stroke-width:4; stroke-opacity:1; fill:none\" points=\"\n",
       "  189.544,1486.45 189.544,1467.55 \n",
       "  \"/>\n",
       "<polyline clip-path=\"url(#clip910)\" style=\"stroke:#000000; stroke-linecap:round; stroke-linejoin:round; stroke-width:4; stroke-opacity:1; fill:none\" points=\"\n",
       "  889.749,1486.45 889.749,1467.55 \n",
       "  \"/>\n",
       "<polyline clip-path=\"url(#clip910)\" style=\"stroke:#000000; stroke-linecap:round; stroke-linejoin:round; stroke-width:4; stroke-opacity:1; fill:none\" points=\"\n",
       "  1589.95,1486.45 1589.95,1467.55 \n",
       "  \"/>\n",
       "<polyline clip-path=\"url(#clip910)\" style=\"stroke:#000000; stroke-linecap:round; stroke-linejoin:round; stroke-width:4; stroke-opacity:1; fill:none\" points=\"\n",
       "  2290.16,1486.45 2290.16,1467.55 \n",
       "  \"/>\n",
       "<path clip-path=\"url(#clip910)\" d=\"M189.544 1517.37 Q185.933 1517.37 184.105 1520.93 Q182.299 1524.47 182.299 1531.6 Q182.299 1538.71 184.105 1542.27 Q185.933 1545.82 189.544 1545.82 Q193.179 1545.82 194.984 1542.27 Q196.813 1538.71 196.813 1531.6 Q196.813 1524.47 194.984 1520.93 Q193.179 1517.37 189.544 1517.37 M189.544 1513.66 Q195.355 1513.66 198.41 1518.27 Q201.489 1522.85 201.489 1531.6 Q201.489 1540.33 198.41 1544.94 Q195.355 1549.52 189.544 1549.52 Q183.734 1549.52 180.656 1544.94 Q177.6 1540.33 177.6 1531.6 Q177.6 1522.85 180.656 1518.27 Q183.734 1513.66 189.544 1513.66 Z\" fill=\"#000000\" fill-rule=\"evenodd\" fill-opacity=\"1\" /><path clip-path=\"url(#clip910)\" d=\"M864.448 1514.29 L882.804 1514.29 L882.804 1518.22 L868.73 1518.22 L868.73 1526.7 Q869.749 1526.35 870.767 1526.19 Q871.786 1526 872.804 1526 Q878.591 1526 881.971 1529.17 Q885.351 1532.34 885.351 1537.76 Q885.351 1543.34 881.878 1546.44 Q878.406 1549.52 872.087 1549.52 Q869.911 1549.52 867.642 1549.15 Q865.397 1548.78 862.99 1548.04 L862.99 1543.34 Q865.073 1544.47 867.295 1545.03 Q869.517 1545.58 871.994 1545.58 Q875.999 1545.58 878.337 1543.48 Q880.675 1541.37 880.675 1537.76 Q880.675 1534.15 878.337 1532.04 Q875.999 1529.94 871.994 1529.94 Q870.119 1529.94 868.244 1530.35 Q866.392 1530.77 864.448 1531.65 L864.448 1514.29 Z\" fill=\"#000000\" fill-rule=\"evenodd\" fill-opacity=\"1\" /><path clip-path=\"url(#clip910)\" d=\"M904.564 1517.37 Q900.952 1517.37 899.124 1520.93 Q897.318 1524.47 897.318 1531.6 Q897.318 1538.71 899.124 1542.27 Q900.952 1545.82 904.564 1545.82 Q908.198 1545.82 910.003 1542.27 Q911.832 1538.71 911.832 1531.6 Q911.832 1524.47 910.003 1520.93 Q908.198 1517.37 904.564 1517.37 M904.564 1513.66 Q910.374 1513.66 913.429 1518.27 Q916.508 1522.85 916.508 1531.6 Q916.508 1540.33 913.429 1544.94 Q910.374 1549.52 904.564 1549.52 Q898.753 1549.52 895.675 1544.94 Q892.619 1540.33 892.619 1531.6 Q892.619 1522.85 895.675 1518.27 Q898.753 1513.66 904.564 1513.66 Z\" fill=\"#000000\" fill-rule=\"evenodd\" fill-opacity=\"1\" /><path clip-path=\"url(#clip910)\" d=\"M1549.56 1544.91 L1557.2 1544.91 L1557.2 1518.55 L1548.89 1520.21 L1548.89 1515.95 L1557.15 1514.29 L1561.83 1514.29 L1561.83 1544.91 L1569.47 1544.91 L1569.47 1548.85 L1549.56 1548.85 L1549.56 1544.91 Z\" fill=\"#000000\" fill-rule=\"evenodd\" fill-opacity=\"1\" /><path clip-path=\"url(#clip910)\" d=\"M1588.91 1517.37 Q1585.3 1517.37 1583.47 1520.93 Q1581.67 1524.47 1581.67 1531.6 Q1581.67 1538.71 1583.47 1542.27 Q1585.3 1545.82 1588.91 1545.82 Q1592.55 1545.82 1594.35 1542.27 Q1596.18 1538.71 1596.18 1531.6 Q1596.18 1524.47 1594.35 1520.93 Q1592.55 1517.37 1588.91 1517.37 M1588.91 1513.66 Q1594.72 1513.66 1597.78 1518.27 Q1600.86 1522.85 1600.86 1531.6 Q1600.86 1540.33 1597.78 1544.94 Q1594.72 1549.52 1588.91 1549.52 Q1583.1 1549.52 1580.02 1544.94 Q1576.97 1540.33 1576.97 1531.6 Q1576.97 1522.85 1580.02 1518.27 Q1583.1 1513.66 1588.91 1513.66 Z\" fill=\"#000000\" fill-rule=\"evenodd\" fill-opacity=\"1\" /><path clip-path=\"url(#clip910)\" d=\"M1619.07 1517.37 Q1615.46 1517.37 1613.63 1520.93 Q1611.83 1524.47 1611.83 1531.6 Q1611.83 1538.71 1613.63 1542.27 Q1615.46 1545.82 1619.07 1545.82 Q1622.71 1545.82 1624.51 1542.27 Q1626.34 1538.71 1626.34 1531.6 Q1626.34 1524.47 1624.51 1520.93 Q1622.71 1517.37 1619.07 1517.37 M1619.07 1513.66 Q1624.88 1513.66 1627.94 1518.27 Q1631.02 1522.85 1631.02 1531.6 Q1631.02 1540.33 1627.94 1544.94 Q1624.88 1549.52 1619.07 1549.52 Q1613.26 1549.52 1610.18 1544.94 Q1607.13 1540.33 1607.13 1531.6 Q1607.13 1522.85 1610.18 1518.27 Q1613.26 1513.66 1619.07 1513.66 Z\" fill=\"#000000\" fill-rule=\"evenodd\" fill-opacity=\"1\" /><path clip-path=\"url(#clip910)\" d=\"M2249.76 1544.91 L2257.4 1544.91 L2257.4 1518.55 L2249.09 1520.21 L2249.09 1515.95 L2257.36 1514.29 L2262.03 1514.29 L2262.03 1544.91 L2269.67 1544.91 L2269.67 1548.85 L2249.76 1548.85 L2249.76 1544.91 Z\" fill=\"#000000\" fill-rule=\"evenodd\" fill-opacity=\"1\" /><path clip-path=\"url(#clip910)\" d=\"M2279.16 1514.29 L2297.52 1514.29 L2297.52 1518.22 L2283.44 1518.22 L2283.44 1526.7 Q2284.46 1526.35 2285.48 1526.19 Q2286.5 1526 2287.52 1526 Q2293.31 1526 2296.69 1529.17 Q2300.06 1532.34 2300.06 1537.76 Q2300.06 1543.34 2296.59 1546.44 Q2293.12 1549.52 2286.8 1549.52 Q2284.63 1549.52 2282.36 1549.15 Q2280.11 1548.78 2277.7 1548.04 L2277.7 1543.34 Q2279.79 1544.47 2282.01 1545.03 Q2284.23 1545.58 2286.71 1545.58 Q2290.71 1545.58 2293.05 1543.48 Q2295.39 1541.37 2295.39 1537.76 Q2295.39 1534.15 2293.05 1532.04 Q2290.71 1529.94 2286.71 1529.94 Q2284.83 1529.94 2282.96 1530.35 Q2281.11 1530.77 2279.16 1531.65 L2279.16 1514.29 Z\" fill=\"#000000\" fill-rule=\"evenodd\" fill-opacity=\"1\" /><path clip-path=\"url(#clip910)\" d=\"M2319.28 1517.37 Q2315.67 1517.37 2313.84 1520.93 Q2312.03 1524.47 2312.03 1531.6 Q2312.03 1538.71 2313.84 1542.27 Q2315.67 1545.82 2319.28 1545.82 Q2322.91 1545.82 2324.72 1542.27 Q2326.55 1538.71 2326.55 1531.6 Q2326.55 1524.47 2324.72 1520.93 Q2322.91 1517.37 2319.28 1517.37 M2319.28 1513.66 Q2325.09 1513.66 2328.14 1518.27 Q2331.22 1522.85 2331.22 1531.6 Q2331.22 1540.33 2328.14 1544.94 Q2325.09 1549.52 2319.28 1549.52 Q2313.47 1549.52 2310.39 1544.94 Q2307.33 1540.33 2307.33 1531.6 Q2307.33 1522.85 2310.39 1518.27 Q2313.47 1513.66 2319.28 1513.66 Z\" fill=\"#000000\" fill-rule=\"evenodd\" fill-opacity=\"1\" /><polyline clip-path=\"url(#clip912)\" style=\"stroke:#000000; stroke-linecap:round; stroke-linejoin:round; stroke-width:2; stroke-opacity:0.1; fill:none\" points=\"\n",
       "  140.95,1189.86 2352.76,1189.86 \n",
       "  \"/>\n",
       "<polyline clip-path=\"url(#clip912)\" style=\"stroke:#000000; stroke-linecap:round; stroke-linejoin:round; stroke-width:2; stroke-opacity:0.1; fill:none\" points=\"\n",
       "  140.95,850.688 2352.76,850.688 \n",
       "  \"/>\n",
       "<polyline clip-path=\"url(#clip912)\" style=\"stroke:#000000; stroke-linecap:round; stroke-linejoin:round; stroke-width:2; stroke-opacity:0.1; fill:none\" points=\"\n",
       "  140.95,511.514 2352.76,511.514 \n",
       "  \"/>\n",
       "<polyline clip-path=\"url(#clip912)\" style=\"stroke:#000000; stroke-linecap:round; stroke-linejoin:round; stroke-width:2; stroke-opacity:0.1; fill:none\" points=\"\n",
       "  140.95,172.34 2352.76,172.34 \n",
       "  \"/>\n",
       "<polyline clip-path=\"url(#clip910)\" style=\"stroke:#000000; stroke-linecap:round; stroke-linejoin:round; stroke-width:4; stroke-opacity:1; fill:none\" points=\"\n",
       "  140.95,1486.45 140.95,47.2441 \n",
       "  \"/>\n",
       "<polyline clip-path=\"url(#clip910)\" style=\"stroke:#000000; stroke-linecap:round; stroke-linejoin:round; stroke-width:4; stroke-opacity:1; fill:none\" points=\"\n",
       "  140.95,1189.86 159.848,1189.86 \n",
       "  \"/>\n",
       "<polyline clip-path=\"url(#clip910)\" style=\"stroke:#000000; stroke-linecap:round; stroke-linejoin:round; stroke-width:4; stroke-opacity:1; fill:none\" points=\"\n",
       "  140.95,850.688 159.848,850.688 \n",
       "  \"/>\n",
       "<polyline clip-path=\"url(#clip910)\" style=\"stroke:#000000; stroke-linecap:round; stroke-linejoin:round; stroke-width:4; stroke-opacity:1; fill:none\" points=\"\n",
       "  140.95,511.514 159.848,511.514 \n",
       "  \"/>\n",
       "<polyline clip-path=\"url(#clip910)\" style=\"stroke:#000000; stroke-linecap:round; stroke-linejoin:round; stroke-width:4; stroke-opacity:1; fill:none\" points=\"\n",
       "  140.95,172.34 159.848,172.34 \n",
       "  \"/>\n",
       "<path clip-path=\"url(#clip910)\" d=\"M52.8903 1172.58 L71.2466 1172.58 L71.2466 1176.52 L57.1726 1176.52 L57.1726 1184.99 Q58.1912 1184.64 59.2097 1184.48 Q60.2282 1184.29 61.2467 1184.29 Q67.0337 1184.29 70.4133 1187.47 Q73.7929 1190.64 73.7929 1196.05 Q73.7929 1201.63 70.3207 1204.73 Q66.8485 1207.81 60.5291 1207.81 Q58.3532 1207.81 56.0847 1207.44 Q53.8393 1207.07 51.4319 1206.33 L51.4319 1201.63 Q53.5153 1202.77 55.7375 1203.32 Q57.9597 1203.88 60.4365 1203.88 Q64.4411 1203.88 66.7791 1201.77 Q69.117 1199.66 69.117 1196.05 Q69.117 1192.44 66.7791 1190.34 Q64.4411 1188.23 60.4365 1188.23 Q58.5615 1188.23 56.6865 1188.65 Q54.8347 1189.06 52.8903 1189.94 L52.8903 1172.58 Z\" fill=\"#000000\" fill-rule=\"evenodd\" fill-opacity=\"1\" /><path clip-path=\"url(#clip910)\" d=\"M93.0058 1175.66 Q89.3947 1175.66 87.566 1179.23 Q85.7605 1182.77 85.7605 1189.9 Q85.7605 1197 87.566 1200.57 Q89.3947 1204.11 93.0058 1204.11 Q96.64 1204.11 98.4456 1200.57 Q100.274 1197 100.274 1189.9 Q100.274 1182.77 98.4456 1179.23 Q96.64 1175.66 93.0058 1175.66 M93.0058 1171.96 Q98.8159 1171.96 101.871 1176.56 Q104.95 1181.15 104.95 1189.9 Q104.95 1198.62 101.871 1203.23 Q98.8159 1207.81 93.0058 1207.81 Q87.1956 1207.81 84.1169 1203.23 Q81.0614 1198.62 81.0614 1189.9 Q81.0614 1181.15 84.1169 1176.56 Q87.1956 1171.96 93.0058 1171.96 Z\" fill=\"#000000\" fill-rule=\"evenodd\" fill-opacity=\"1\" /><path clip-path=\"url(#clip910)\" d=\"M63.4226 848.824 Q60.2745 848.824 58.4226 850.977 Q56.5939 853.13 56.5939 856.88 Q56.5939 860.607 58.4226 862.783 Q60.2745 864.935 63.4226 864.935 Q66.5707 864.935 68.3994 862.783 Q70.2513 860.607 70.2513 856.88 Q70.2513 853.13 68.3994 850.977 Q66.5707 848.824 63.4226 848.824 M72.705 834.172 L72.705 838.431 Q70.9457 837.598 69.1402 837.158 Q67.3578 836.718 65.5985 836.718 Q60.9689 836.718 58.5152 839.843 Q56.0847 842.968 55.7375 849.287 Q57.1032 847.274 59.1634 846.209 Q61.2236 845.121 63.7004 845.121 Q68.9087 845.121 71.9179 848.292 Q74.9503 851.44 74.9503 856.88 Q74.9503 862.204 71.8022 865.422 Q68.6541 868.639 63.4226 868.639 Q57.4273 868.639 54.256 864.056 Q51.0847 859.449 51.0847 850.723 Q51.0847 842.528 54.9736 837.667 Q58.8625 832.783 65.4133 832.783 Q67.1726 832.783 68.955 833.13 Q70.7605 833.477 72.705 834.172 Z\" fill=\"#000000\" fill-rule=\"evenodd\" fill-opacity=\"1\" /><path clip-path=\"url(#clip910)\" d=\"M93.0058 836.487 Q89.3947 836.487 87.566 840.051 Q85.7605 843.593 85.7605 850.723 Q85.7605 857.829 87.566 861.394 Q89.3947 864.935 93.0058 864.935 Q96.64 864.935 98.4456 861.394 Q100.274 857.829 100.274 850.723 Q100.274 843.593 98.4456 840.051 Q96.64 836.487 93.0058 836.487 M93.0058 832.783 Q98.8159 832.783 101.871 837.389 Q104.95 841.973 104.95 850.723 Q104.95 859.449 101.871 864.056 Q98.8159 868.639 93.0058 868.639 Q87.1956 868.639 84.1169 864.056 Q81.0614 859.449 81.0614 850.723 Q81.0614 841.973 84.1169 837.389 Q87.1956 832.783 93.0058 832.783 Z\" fill=\"#000000\" fill-rule=\"evenodd\" fill-opacity=\"1\" /><path clip-path=\"url(#clip910)\" d=\"M51.6634 494.234 L73.8855 494.234 L73.8855 496.225 L61.3393 528.794 L56.4551 528.794 L68.2606 498.169 L51.6634 498.169 L51.6634 494.234 Z\" fill=\"#000000\" fill-rule=\"evenodd\" fill-opacity=\"1\" /><path clip-path=\"url(#clip910)\" d=\"M93.0058 497.313 Q89.3947 497.313 87.566 500.878 Q85.7605 504.419 85.7605 511.549 Q85.7605 518.655 87.566 522.22 Q89.3947 525.762 93.0058 525.762 Q96.64 525.762 98.4456 522.22 Q100.274 518.655 100.274 511.549 Q100.274 504.419 98.4456 500.878 Q96.64 497.313 93.0058 497.313 M93.0058 493.609 Q98.8159 493.609 101.871 498.216 Q104.95 502.799 104.95 511.549 Q104.95 520.276 101.871 524.882 Q98.8159 529.465 93.0058 529.465 Q87.1956 529.465 84.1169 524.882 Q81.0614 520.276 81.0614 511.549 Q81.0614 502.799 84.1169 498.216 Q87.1956 493.609 93.0058 493.609 Z\" fill=\"#000000\" fill-rule=\"evenodd\" fill-opacity=\"1\" /><path clip-path=\"url(#clip910)\" d=\"M62.8439 173.208 Q59.5106 173.208 57.5893 174.991 Q55.6912 176.773 55.6912 179.898 Q55.6912 183.023 57.5893 184.806 Q59.5106 186.588 62.8439 186.588 Q66.1772 186.588 68.0985 184.806 Q70.0198 183 70.0198 179.898 Q70.0198 176.773 68.0985 174.991 Q66.2004 173.208 62.8439 173.208 M58.168 171.218 Q55.1588 170.477 53.469 168.417 Q51.8023 166.357 51.8023 163.394 Q51.8023 159.25 54.7421 156.843 Q57.7051 154.435 62.8439 154.435 Q68.0059 154.435 70.9457 156.843 Q73.8855 159.25 73.8855 163.394 Q73.8855 166.357 72.1957 168.417 Q70.5291 170.477 67.543 171.218 Q70.9226 172.005 72.7976 174.296 Q74.6957 176.588 74.6957 179.898 Q74.6957 184.921 71.617 187.607 Q68.5615 190.292 62.8439 190.292 Q57.1264 190.292 54.0477 187.607 Q50.9921 184.921 50.9921 179.898 Q50.9921 176.588 52.8903 174.296 Q54.7884 172.005 58.168 171.218 M56.4551 163.834 Q56.4551 166.519 58.1217 168.023 Q59.8115 169.528 62.8439 169.528 Q65.8532 169.528 67.543 168.023 Q69.2559 166.519 69.2559 163.834 Q69.2559 161.148 67.543 159.644 Q65.8532 158.139 62.8439 158.139 Q59.8115 158.139 58.1217 159.644 Q56.4551 161.148 56.4551 163.834 Z\" fill=\"#000000\" fill-rule=\"evenodd\" fill-opacity=\"1\" /><path clip-path=\"url(#clip910)\" d=\"M93.0058 158.139 Q89.3947 158.139 87.566 161.704 Q85.7605 165.246 85.7605 172.375 Q85.7605 179.482 87.566 183.046 Q89.3947 186.588 93.0058 186.588 Q96.64 186.588 98.4456 183.046 Q100.274 179.482 100.274 172.375 Q100.274 165.246 98.4456 161.704 Q96.64 158.139 93.0058 158.139 M93.0058 154.435 Q98.8159 154.435 101.871 159.042 Q104.95 163.625 104.95 172.375 Q104.95 181.102 101.871 185.708 Q98.8159 190.292 93.0058 190.292 Q87.1956 190.292 84.1169 185.708 Q81.0614 181.102 81.0614 172.375 Q81.0614 163.625 84.1169 159.042 Q87.1956 154.435 93.0058 154.435 Z\" fill=\"#000000\" fill-rule=\"evenodd\" fill-opacity=\"1\" /><polyline clip-path=\"url(#clip912)\" style=\"stroke:#009af9; stroke-linecap:round; stroke-linejoin:round; stroke-width:4; stroke-opacity:1; fill:none\" points=\"\n",
       "  203.548,946.077 217.553,510.575 231.557,531.924 245.561,488.583 259.565,471.909 273.569,424.176 287.573,536.489 301.577,445.487 315.581,506.906 329.585,1445.72 \n",
       "  343.589,512.014 357.593,467.86 371.598,437.261 385.602,502.883 399.606,451.824 413.61,543.177 427.614,504.075 441.618,607.529 455.622,514.57 469.626,401.316 \n",
       "  483.63,518.324 497.634,618.595 511.638,556.133 525.642,572.16 539.647,504.068 553.651,466.542 567.655,446.576 581.659,513.94 595.663,464.704 609.667,552.592 \n",
       "  623.671,516.601 637.675,502.837 651.679,486.989 665.683,460.614 679.687,445.878 693.692,493.159 707.696,443.718 721.7,593.832 735.704,474.866 749.708,395.269 \n",
       "  763.712,453.532 777.716,504.931 791.72,603.112 805.724,525.487 819.728,464.458 833.732,344.822 847.737,465.58 861.741,549.927 875.745,533.48 889.749,547.809 \n",
       "  903.753,647.327 917.757,480.727 931.761,433.094 945.765,557.061 959.769,567.883 973.773,561.775 987.777,438.035 1001.78,546.039 1015.79,508.076 1029.79,505.748 \n",
       "  1043.79,444.689 1057.8,562.724 1071.8,435.753 1085.81,449.225 1099.81,574.801 1113.81,575.275 1127.82,479.038 1141.82,482.958 1155.83,556.998 1169.83,290.688 \n",
       "  1183.83,574.287 1197.84,561.223 1211.84,484.296 1225.85,585.65 1239.85,433.565 1253.86,553.046 1267.86,454.532 1281.86,474.122 1295.87,566.962 1309.87,538.136 \n",
       "  1323.88,508.527 1337.88,499.601 1351.88,456.072 1365.89,609.66 1379.89,548.147 1393.9,602.751 1407.9,614.755 1421.9,570.233 1435.91,454.778 1449.91,322.555 \n",
       "  1463.92,501.484 1477.92,450.893 1491.92,488.803 1505.93,431.263 1519.93,215.248 1533.94,527.603 1547.94,613.194 1561.95,355.088 1575.95,474.519 1589.95,551.965 \n",
       "  1603.96,492.753 1617.96,605.804 1631.97,503.287 1645.97,564.097 1659.97,536.586 1673.98,477.99 1687.98,487.214 1701.99,475.268 1715.99,443.572 1729.99,441.998 \n",
       "  1744,452.125 1758,406.352 1772.01,489.834 1786.01,485.092 1800.01,489.805 1814.02,485.434 1828.02,651.482 1842.03,422.484 1856.03,549.993 1870.03,563.866 \n",
       "  1884.04,397.884 1898.04,480.52 1912.05,613.088 1926.05,334.912 1940.06,423.166 1954.06,599.572 1968.06,538.783 1982.07,666.29 1996.07,456.192 2010.08,447.492 \n",
       "  2024.08,610.297 2038.08,602.8 2052.09,87.9763 2066.09,518.622 2080.1,379.688 2094.1,639.127 2108.1,470.364 2122.11,609.947 2136.11,320.795 2150.12,440.124 \n",
       "  2164.12,479.56 2178.12,477.591 2192.13,467.058 2206.13,606.332 2220.14,441.428 2234.14,529.769 2248.15,554.194 2262.15,361.125 2276.15,631.413 2290.16,597.176 \n",
       "  \n",
       "  \"/>\n",
       "<path clip-path=\"url(#clip910)\" d=\"\n",
       "M1980.84 198.898 L2279.03 198.898 L2279.03 95.2176 L1980.84 95.2176  Z\n",
       "  \" fill=\"#ffffff\" fill-rule=\"evenodd\" fill-opacity=\"1\"/>\n",
       "<polyline clip-path=\"url(#clip910)\" style=\"stroke:#000000; stroke-linecap:round; stroke-linejoin:round; stroke-width:4; stroke-opacity:1; fill:none\" points=\"\n",
       "  1980.84,198.898 2279.03,198.898 2279.03,95.2176 1980.84,95.2176 1980.84,198.898 \n",
       "  \"/>\n",
       "<polyline clip-path=\"url(#clip910)\" style=\"stroke:#009af9; stroke-linecap:round; stroke-linejoin:round; stroke-width:4; stroke-opacity:1; fill:none\" points=\"\n",
       "  2005.42,147.058 2152.87,147.058 \n",
       "  \"/>\n",
       "<path clip-path=\"url(#clip910)\" d=\"M2191.29 166.745 Q2189.48 171.375 2187.77 172.787 Q2186.06 174.199 2183.19 174.199 L2179.79 174.199 L2179.79 170.634 L2182.29 170.634 Q2184.04 170.634 2185.02 169.8 Q2185.99 168.967 2187.17 165.865 L2187.93 163.921 L2177.45 138.412 L2181.96 138.412 L2190.06 158.689 L2198.17 138.412 L2202.68 138.412 L2191.29 166.745 Z\" fill=\"#000000\" fill-rule=\"evenodd\" fill-opacity=\"1\" /><path clip-path=\"url(#clip910)\" d=\"M2209.97 160.402 L2217.61 160.402 L2217.61 134.037 L2209.3 135.703 L2209.3 131.444 L2217.56 129.778 L2222.24 129.778 L2222.24 160.402 L2229.88 160.402 L2229.88 164.338 L2209.97 164.338 L2209.97 160.402 Z\" fill=\"#000000\" fill-rule=\"evenodd\" fill-opacity=\"1\" /></svg>\n"
      ]
     },
     "execution_count": 26,
     "metadata": {},
     "output_type": "execute_result"
    }
   ],
   "source": [
    "plot(episode_test_reward_hook.rewards)"
   ]
  },
  {
   "cell_type": "code",
   "execution_count": 27,
   "id": "fb0d4ec2",
   "metadata": {},
   "outputs": [],
   "source": [
    "close_visualization(); # closes the MeshCat visualization"
   ]
  },
  {
   "cell_type": "markdown",
   "id": "7cf8ffc2",
   "metadata": {},
   "source": [
    "# Evaluation"
   ]
  },
  {
   "cell_type": "code",
   "execution_count": 28,
   "id": "8a39200a",
   "metadata": {},
   "outputs": [],
   "source": [
    "test_env = VtolEnv(;name = \"testVTOL\");"
   ]
  },
  {
   "cell_type": "code",
   "execution_count": 29,
   "id": "345f65ce",
   "metadata": {},
   "outputs": [],
   "source": [
    "function loadModel(path, num)\n",
    "    f = joinpath(path, \"vtol_2D_ppo_$num.bson\") # TODO: evtl anpassen\n",
    "    @load f model\n",
    "    return model\n",
    "end;"
   ]
  },
  {
   "cell_type": "code",
   "execution_count": 30,
   "id": "ed379703",
   "metadata": {},
   "outputs": [],
   "source": [
    "function validate(num_models, num_test)\n",
    "    episode_test_reward_hook = TotalRewardPerEpisode(;is_display_on_exit=false)\n",
    "    # create a env only for reward test\n",
    "    #todo evtl mit multithreding\n",
    "    for i in 1:num_models\n",
    "          \n",
    "        sum_rewards_model = 0;\n",
    "        sum_successes_model = 0;\n",
    "        sum_avg_vel_model = 0;\n",
    "        sum_compl_time = 0;\n",
    "        n_success = 0;\n",
    "        \n",
    "        for exp in 1:num_test\n",
    "            RLBase.reset!(test_env)\n",
    "            if SLOW_MODE\n",
    "                path = \"./RL_models_slow/\"\n",
    "            else\n",
    "                path = \"./RL_models_fast/\"\n",
    "            end\n",
    "            agent.policy.approximator = loadModel(path, i * 10_000); \n",
    "            run(agent.policy, test_env, StopAfterEpisode(1), episode_test_reward_hook)\n",
    "            # the result of the hook\n",
    "            sum_rewards_model += episode_test_reward_hook.rewards[end];\n",
    "            \n",
    "            if test_env.reached_goal == trues(test_env.num_waypoints)\n",
    "                n_success += 1\n",
    "                sum_avg_vel_model += test_env.norm_way / test_env.t\n",
    "                sum_compl_time += test_env.t\n",
    "            end\n",
    "        end\n",
    "        \n",
    "        rewards[i] = sum_rewards_model / num_test;\n",
    "        success_rate[i] = n_success / num_test;\n",
    "        if n_success > 0\n",
    "            avg_velocity[i] = sum_avg_vel_model / n_success;\n",
    "            avg_compl_time[i] = sum_compl_time / n_success;\n",
    "        else\n",
    "            avg_velocity[i] = NaN\n",
    "            avg_compl_time[i] = NaN\n",
    "        end\n",
    "        percent = percent = round(i * 100 / num_models, digits=2)\n",
    "        print(\"progress: $(percent)%   \\r\")\n",
    "        flush(stdout)\n",
    "        \n",
    "    end\n",
    "    \n",
    "    \n",
    "end;"
   ]
  },
  {
   "cell_type": "code",
   "execution_count": 31,
   "id": "21a98dd6",
   "metadata": {},
   "outputs": [
    {
     "name": "stdout",
     "output_type": "stream",
     "text": [
      "progress: 100.0%   \r"
     ]
    }
   ],
   "source": [
    "num_model = Int(steps / 10_000)\n",
    "num_test = 100 # TODO: change as desired \n",
    "\n",
    "rewards = zeros(num_model, 1);\n",
    "success_rate = zeros(num_model, 1);\n",
    "avg_velocity = zeros(num_model, 1);\n",
    "avg_compl_time = zeros(num_model, 1);\n",
    "\n",
    "validate(num_model, num_test)"
   ]
  },
  {
   "cell_type": "code",
   "execution_count": 32,
   "id": "26466af1",
   "metadata": {},
   "outputs": [
    {
     "data": {
      "text/plain": [
       "\"/home/larissa/Documents/Projects/Advanced Deep Learning for Robotics/ADLR_project/src/2d/plots/fast/\""
      ]
     },
     "execution_count": 32,
     "metadata": {},
     "output_type": "execute_result"
    }
   ],
   "source": [
    "fig_path = pwd() * \"/plots/\";\n",
    "if SLOW_MODE\n",
    "    fig_path = fig_path * \"slow/\"\n",
    "else\n",
    "    fig_path = fig_path * \"fast/\"\n",
    "end"
   ]
  },
  {
   "cell_type": "code",
   "execution_count": 33,
   "id": "c4cc649e",
   "metadata": {},
   "outputs": [
    {
     "data": {
      "image/svg+xml": [
       "<?xml version=\"1.0\" encoding=\"utf-8\"?>\n",
       "<svg xmlns=\"http://www.w3.org/2000/svg\" xmlns:xlink=\"http://www.w3.org/1999/xlink\" width=\"600\" height=\"400\" viewBox=\"0 0 2400 1600\">\n",
       "<defs>\n",
       "  <clipPath id=\"clip950\">\n",
       "    <rect x=\"0\" y=\"0\" width=\"2400\" height=\"1600\"/>\n",
       "  </clipPath>\n",
       "</defs>\n",
       "<path clip-path=\"url(#clip950)\" d=\"\n",
       "M0 1600 L2400 1600 L2400 0 L0 0  Z\n",
       "  \" fill=\"#ffffff\" fill-rule=\"evenodd\" fill-opacity=\"1\"/>\n",
       "<defs>\n",
       "  <clipPath id=\"clip951\">\n",
       "    <rect x=\"480\" y=\"0\" width=\"1681\" height=\"1600\"/>\n",
       "  </clipPath>\n",
       "</defs>\n",
       "<path clip-path=\"url(#clip950)\" d=\"\n",
       "M249.357 1410.9 L2352.76 1410.9 L2352.76 47.2441 L249.357 47.2441  Z\n",
       "  \" fill=\"#ffffff\" fill-rule=\"evenodd\" fill-opacity=\"1\"/>\n",
       "<defs>\n",
       "  <clipPath id=\"clip952\">\n",
       "    <rect x=\"249\" y=\"47\" width=\"2104\" height=\"1365\"/>\n",
       "  </clipPath>\n",
       "</defs>\n",
       "<polyline clip-path=\"url(#clip952)\" style=\"stroke:#000000; stroke-linecap:round; stroke-linejoin:round; stroke-width:2; stroke-opacity:0.1; fill:none\" points=\"\n",
       "  295.569,1410.9 295.569,47.2441 \n",
       "  \"/>\n",
       "<polyline clip-path=\"url(#clip952)\" style=\"stroke:#000000; stroke-linecap:round; stroke-linejoin:round; stroke-width:2; stroke-opacity:0.1; fill:none\" points=\"\n",
       "  961.455,1410.9 961.455,47.2441 \n",
       "  \"/>\n",
       "<polyline clip-path=\"url(#clip952)\" style=\"stroke:#000000; stroke-linecap:round; stroke-linejoin:round; stroke-width:2; stroke-opacity:0.1; fill:none\" points=\"\n",
       "  1627.34,1410.9 1627.34,47.2441 \n",
       "  \"/>\n",
       "<polyline clip-path=\"url(#clip952)\" style=\"stroke:#000000; stroke-linecap:round; stroke-linejoin:round; stroke-width:2; stroke-opacity:0.1; fill:none\" points=\"\n",
       "  2293.23,1410.9 2293.23,47.2441 \n",
       "  \"/>\n",
       "<polyline clip-path=\"url(#clip950)\" style=\"stroke:#000000; stroke-linecap:round; stroke-linejoin:round; stroke-width:4; stroke-opacity:1; fill:none\" points=\"\n",
       "  249.357,1410.9 2352.76,1410.9 \n",
       "  \"/>\n",
       "<polyline clip-path=\"url(#clip950)\" style=\"stroke:#000000; stroke-linecap:round; stroke-linejoin:round; stroke-width:4; stroke-opacity:1; fill:none\" points=\"\n",
       "  295.569,1410.9 295.569,1392 \n",
       "  \"/>\n",
       "<polyline clip-path=\"url(#clip950)\" style=\"stroke:#000000; stroke-linecap:round; stroke-linejoin:round; stroke-width:4; stroke-opacity:1; fill:none\" points=\"\n",
       "  961.455,1410.9 961.455,1392 \n",
       "  \"/>\n",
       "<polyline clip-path=\"url(#clip950)\" style=\"stroke:#000000; stroke-linecap:round; stroke-linejoin:round; stroke-width:4; stroke-opacity:1; fill:none\" points=\"\n",
       "  1627.34,1410.9 1627.34,1392 \n",
       "  \"/>\n",
       "<polyline clip-path=\"url(#clip950)\" style=\"stroke:#000000; stroke-linecap:round; stroke-linejoin:round; stroke-width:4; stroke-opacity:1; fill:none\" points=\"\n",
       "  2293.23,1410.9 2293.23,1392 \n",
       "  \"/>\n",
       "<path clip-path=\"url(#clip950)\" d=\"M295.569 1441.82 Q291.958 1441.82 290.13 1445.38 Q288.324 1448.92 288.324 1456.05 Q288.324 1463.16 290.13 1466.72 Q291.958 1470.26 295.569 1470.26 Q299.204 1470.26 301.009 1466.72 Q302.838 1463.16 302.838 1456.05 Q302.838 1448.92 301.009 1445.38 Q299.204 1441.82 295.569 1441.82 M295.569 1438.11 Q301.379 1438.11 304.435 1442.72 Q307.514 1447.3 307.514 1456.05 Q307.514 1464.78 304.435 1469.38 Q301.379 1473.97 295.569 1473.97 Q289.759 1473.97 286.68 1469.38 Q283.625 1464.78 283.625 1456.05 Q283.625 1447.3 286.68 1442.72 Q289.759 1438.11 295.569 1438.11 Z\" fill=\"#000000\" fill-rule=\"evenodd\" fill-opacity=\"1\" /><path clip-path=\"url(#clip950)\" d=\"M854.431 1454.4 L872.788 1454.4 L872.788 1458.33 L858.714 1458.33 L858.714 1466.8 Q859.732 1466.46 860.751 1466.29 Q861.769 1466.11 862.788 1466.11 Q868.575 1466.11 871.954 1469.28 Q875.334 1472.45 875.334 1477.87 Q875.334 1483.45 871.862 1486.55 Q868.39 1489.63 862.07 1489.63 Q859.894 1489.63 857.626 1489.26 Q855.38 1488.89 852.973 1488.15 L852.973 1483.45 Q855.056 1484.58 857.279 1485.14 Q859.501 1485.69 861.978 1485.69 Q865.982 1485.69 868.32 1483.59 Q870.658 1481.48 870.658 1477.87 Q870.658 1474.26 868.32 1472.15 Q865.982 1470.04 861.978 1470.04 Q860.103 1470.04 858.228 1470.46 Q856.376 1470.88 854.431 1471.76 L854.431 1454.4 Z\" fill=\"#000000\" fill-rule=\"evenodd\" fill-opacity=\"1\" /><path clip-path=\"url(#clip950)\" d=\"M884.547 1483.08 L889.431 1483.08 L889.431 1488.96 L884.547 1488.96 L884.547 1483.08 Z\" fill=\"#000000\" fill-rule=\"evenodd\" fill-opacity=\"1\" /><path clip-path=\"url(#clip950)\" d=\"M909.616 1457.48 Q906.005 1457.48 904.176 1461.04 Q902.371 1464.58 902.371 1471.71 Q902.371 1478.82 904.176 1482.38 Q906.005 1485.92 909.616 1485.92 Q913.25 1485.92 915.056 1482.38 Q916.885 1478.82 916.885 1471.71 Q916.885 1464.58 915.056 1461.04 Q913.25 1457.48 909.616 1457.48 M909.616 1453.77 Q915.426 1453.77 918.482 1458.38 Q921.561 1462.96 921.561 1471.71 Q921.561 1480.44 918.482 1485.04 Q915.426 1489.63 909.616 1489.63 Q903.806 1489.63 900.727 1485.04 Q897.672 1480.44 897.672 1471.71 Q897.672 1462.96 900.727 1458.38 Q903.806 1453.77 909.616 1453.77 Z\" fill=\"#000000\" fill-rule=\"evenodd\" fill-opacity=\"1\" /><path clip-path=\"url(#clip950)\" d=\"M939.778 1457.48 Q936.167 1457.48 934.338 1461.04 Q932.533 1464.58 932.533 1471.71 Q932.533 1478.82 934.338 1482.38 Q936.167 1485.92 939.778 1485.92 Q943.412 1485.92 945.218 1482.38 Q947.047 1478.82 947.047 1471.71 Q947.047 1464.58 945.218 1461.04 Q943.412 1457.48 939.778 1457.48 M939.778 1453.77 Q945.588 1453.77 948.644 1458.38 Q951.722 1462.96 951.722 1471.71 Q951.722 1480.44 948.644 1485.04 Q945.588 1489.63 939.778 1489.63 Q933.968 1489.63 930.889 1485.04 Q927.834 1480.44 927.834 1471.71 Q927.834 1462.96 930.889 1458.38 Q933.968 1453.77 939.778 1453.77 Z\" fill=\"#000000\" fill-rule=\"evenodd\" fill-opacity=\"1\" /><path clip-path=\"url(#clip950)\" d=\"M988.111 1463.49 L977.533 1474.12 L988.111 1484.7 L985.357 1487.5 L974.732 1476.87 L964.107 1487.5 L961.375 1484.7 L971.931 1474.12 L961.375 1463.49 L964.107 1460.69 L974.732 1471.32 L985.357 1460.69 L988.111 1463.49 Z\" fill=\"#000000\" fill-rule=\"evenodd\" fill-opacity=\"1\" /><path clip-path=\"url(#clip950)\" d=\"M1000.47 1485.02 L1008.11 1485.02 L1008.11 1458.66 L999.801 1460.32 L999.801 1456.06 L1008.06 1454.4 L1012.74 1454.4 L1012.74 1485.02 L1020.38 1485.02 L1020.38 1488.96 L1000.47 1488.96 L1000.47 1485.02 Z\" fill=\"#000000\" fill-rule=\"evenodd\" fill-opacity=\"1\" /><path clip-path=\"url(#clip950)\" d=\"M1039.82 1457.48 Q1036.21 1457.48 1034.38 1461.04 Q1032.58 1464.58 1032.58 1471.71 Q1032.58 1478.82 1034.38 1482.38 Q1036.21 1485.92 1039.82 1485.92 Q1043.46 1485.92 1045.26 1482.38 Q1047.09 1478.82 1047.09 1471.71 Q1047.09 1464.58 1045.26 1461.04 Q1043.46 1457.48 1039.82 1457.48 M1039.82 1453.77 Q1045.63 1453.77 1048.69 1458.38 Q1051.77 1462.96 1051.77 1471.71 Q1051.77 1480.44 1048.69 1485.04 Q1045.63 1489.63 1039.82 1489.63 Q1034.01 1489.63 1030.94 1485.04 Q1027.88 1480.44 1027.88 1471.71 Q1027.88 1462.96 1030.94 1458.38 Q1034.01 1453.77 1039.82 1453.77 Z\" fill=\"#000000\" fill-rule=\"evenodd\" fill-opacity=\"1\" /><path clip-path=\"url(#clip950)\" d=\"M1052.95 1433.47 L1067.87 1433.47 L1067.87 1436.66 L1056.43 1436.66 L1056.43 1443.55 Q1057.26 1443.27 1058.09 1443.13 Q1058.92 1442.98 1059.74 1442.98 Q1064.44 1442.98 1067.19 1445.56 Q1069.94 1448.14 1069.94 1452.54 Q1069.94 1457.07 1067.12 1459.59 Q1064.29 1462.09 1059.16 1462.09 Q1057.39 1462.09 1055.55 1461.79 Q1053.72 1461.49 1051.77 1460.89 L1051.77 1457.07 Q1053.46 1457.99 1055.27 1458.44 Q1057.07 1458.89 1059.08 1458.89 Q1062.34 1458.89 1064.24 1457.18 Q1066.14 1455.47 1066.14 1452.54 Q1066.14 1449.6 1064.24 1447.89 Q1062.34 1446.18 1059.08 1446.18 Q1057.56 1446.18 1056.04 1446.52 Q1054.53 1446.86 1052.95 1447.57 L1052.95 1433.47 Z\" fill=\"#000000\" fill-rule=\"evenodd\" fill-opacity=\"1\" /><path clip-path=\"url(#clip950)\" d=\"M1519.69 1485.02 L1527.33 1485.02 L1527.33 1458.66 L1519.02 1460.32 L1519.02 1456.06 L1527.29 1454.4 L1531.96 1454.4 L1531.96 1485.02 L1539.6 1485.02 L1539.6 1488.96 L1519.69 1488.96 L1519.69 1485.02 Z\" fill=\"#000000\" fill-rule=\"evenodd\" fill-opacity=\"1\" /><path clip-path=\"url(#clip950)\" d=\"M1549.05 1483.08 L1553.93 1483.08 L1553.93 1488.96 L1549.05 1488.96 L1549.05 1483.08 Z\" fill=\"#000000\" fill-rule=\"evenodd\" fill-opacity=\"1\" /><path clip-path=\"url(#clip950)\" d=\"M1574.11 1457.48 Q1570.5 1457.48 1568.68 1461.04 Q1566.87 1464.58 1566.87 1471.71 Q1566.87 1478.82 1568.68 1482.38 Q1570.5 1485.92 1574.11 1485.92 Q1577.75 1485.92 1579.55 1482.38 Q1581.38 1478.82 1581.38 1471.71 Q1581.38 1464.58 1579.55 1461.04 Q1577.75 1457.48 1574.11 1457.48 M1574.11 1453.77 Q1579.93 1453.77 1582.98 1458.38 Q1586.06 1462.96 1586.06 1471.71 Q1586.06 1480.44 1582.98 1485.04 Q1579.93 1489.63 1574.11 1489.63 Q1568.3 1489.63 1565.23 1485.04 Q1562.17 1480.44 1562.17 1471.71 Q1562.17 1462.96 1565.23 1458.38 Q1568.3 1453.77 1574.11 1453.77 Z\" fill=\"#000000\" fill-rule=\"evenodd\" fill-opacity=\"1\" /><path clip-path=\"url(#clip950)\" d=\"M1604.28 1457.48 Q1600.67 1457.48 1598.84 1461.04 Q1597.03 1464.58 1597.03 1471.71 Q1597.03 1478.82 1598.84 1482.38 Q1600.67 1485.92 1604.28 1485.92 Q1607.91 1485.92 1609.72 1482.38 Q1611.55 1478.82 1611.55 1471.71 Q1611.55 1464.58 1609.72 1461.04 Q1607.91 1457.48 1604.28 1457.48 M1604.28 1453.77 Q1610.09 1453.77 1613.14 1458.38 Q1616.22 1462.96 1616.22 1471.71 Q1616.22 1480.44 1613.14 1485.04 Q1610.09 1489.63 1604.28 1489.63 Q1598.47 1489.63 1595.39 1485.04 Q1592.33 1480.44 1592.33 1471.71 Q1592.33 1462.96 1595.39 1458.38 Q1598.47 1453.77 1604.28 1453.77 Z\" fill=\"#000000\" fill-rule=\"evenodd\" fill-opacity=\"1\" /><path clip-path=\"url(#clip950)\" d=\"M1652.61 1463.49 L1642.03 1474.12 L1652.61 1484.7 L1649.86 1487.5 L1639.23 1476.87 L1628.61 1487.5 L1625.87 1484.7 L1636.43 1474.12 L1625.87 1463.49 L1628.61 1460.69 L1639.23 1471.32 L1649.86 1460.69 L1652.61 1463.49 Z\" fill=\"#000000\" fill-rule=\"evenodd\" fill-opacity=\"1\" /><path clip-path=\"url(#clip950)\" d=\"M1664.97 1485.02 L1672.61 1485.02 L1672.61 1458.66 L1664.3 1460.32 L1664.3 1456.06 L1672.56 1454.4 L1677.24 1454.4 L1677.24 1485.02 L1684.88 1485.02 L1684.88 1488.96 L1664.97 1488.96 L1664.97 1485.02 Z\" fill=\"#000000\" fill-rule=\"evenodd\" fill-opacity=\"1\" /><path clip-path=\"url(#clip950)\" d=\"M1704.32 1457.48 Q1700.71 1457.48 1698.88 1461.04 Q1697.08 1464.58 1697.08 1471.71 Q1697.08 1478.82 1698.88 1482.38 Q1700.71 1485.92 1704.32 1485.92 Q1707.96 1485.92 1709.76 1482.38 Q1711.59 1478.82 1711.59 1471.71 Q1711.59 1464.58 1709.76 1461.04 Q1707.96 1457.48 1704.32 1457.48 M1704.32 1453.77 Q1710.13 1453.77 1713.19 1458.38 Q1716.27 1462.96 1716.27 1471.71 Q1716.27 1480.44 1713.19 1485.04 Q1710.13 1489.63 1704.32 1489.63 Q1698.51 1489.63 1695.43 1485.04 Q1692.38 1480.44 1692.38 1471.71 Q1692.38 1462.96 1695.43 1458.38 Q1698.51 1453.77 1704.32 1453.77 Z\" fill=\"#000000\" fill-rule=\"evenodd\" fill-opacity=\"1\" /><path clip-path=\"url(#clip950)\" d=\"M1726.29 1445.99 Q1723.73 1445.99 1722.23 1447.74 Q1720.74 1449.49 1720.74 1452.54 Q1720.74 1455.57 1722.23 1457.33 Q1723.73 1459.08 1726.29 1459.08 Q1728.85 1459.08 1730.34 1457.33 Q1731.84 1455.57 1731.84 1452.54 Q1731.84 1449.49 1730.34 1447.74 Q1728.85 1445.99 1726.29 1445.99 M1733.83 1434.09 L1733.83 1437.55 Q1732.4 1436.87 1730.94 1436.51 Q1729.49 1436.16 1728.06 1436.16 Q1724.3 1436.16 1722.3 1438.69 Q1720.33 1441.23 1720.05 1446.37 Q1721.16 1444.73 1722.83 1443.87 Q1724.5 1442.98 1726.52 1442.98 Q1730.75 1442.98 1733.19 1445.56 Q1735.66 1448.12 1735.66 1452.54 Q1735.66 1456.86 1733.1 1459.48 Q1730.54 1462.09 1726.29 1462.09 Q1721.42 1462.09 1718.84 1458.37 Q1716.27 1454.62 1716.27 1447.53 Q1716.27 1440.88 1719.43 1436.93 Q1722.59 1432.96 1727.91 1432.96 Q1729.34 1432.96 1730.79 1433.24 Q1732.25 1433.52 1733.83 1434.09 Z\" fill=\"#000000\" fill-rule=\"evenodd\" fill-opacity=\"1\" /><path clip-path=\"url(#clip950)\" d=\"M2185.58 1485.02 L2193.22 1485.02 L2193.22 1458.66 L2184.91 1460.32 L2184.91 1456.06 L2193.17 1454.4 L2197.85 1454.4 L2197.85 1485.02 L2205.49 1485.02 L2205.49 1488.96 L2185.58 1488.96 L2185.58 1485.02 Z\" fill=\"#000000\" fill-rule=\"evenodd\" fill-opacity=\"1\" /><path clip-path=\"url(#clip950)\" d=\"M2214.93 1483.08 L2219.82 1483.08 L2219.82 1488.96 L2214.93 1488.96 L2214.93 1483.08 Z\" fill=\"#000000\" fill-rule=\"evenodd\" fill-opacity=\"1\" /><path clip-path=\"url(#clip950)\" d=\"M2230.05 1454.4 L2248.4 1454.4 L2248.4 1458.33 L2234.33 1458.33 L2234.33 1466.8 Q2235.35 1466.46 2236.37 1466.29 Q2237.38 1466.11 2238.4 1466.11 Q2244.19 1466.11 2247.57 1469.28 Q2250.95 1472.45 2250.95 1477.87 Q2250.95 1483.45 2247.48 1486.55 Q2244.01 1489.63 2237.69 1489.63 Q2235.51 1489.63 2233.24 1489.26 Q2231 1488.89 2228.59 1488.15 L2228.59 1483.45 Q2230.67 1484.58 2232.89 1485.14 Q2235.12 1485.69 2237.59 1485.69 Q2241.6 1485.69 2243.94 1483.59 Q2246.27 1481.48 2246.27 1477.87 Q2246.27 1474.26 2243.94 1472.15 Q2241.6 1470.04 2237.59 1470.04 Q2235.72 1470.04 2233.84 1470.46 Q2231.99 1470.88 2230.05 1471.76 L2230.05 1454.4 Z\" fill=\"#000000\" fill-rule=\"evenodd\" fill-opacity=\"1\" /><path clip-path=\"url(#clip950)\" d=\"M2270.16 1457.48 Q2266.55 1457.48 2264.72 1461.04 Q2262.92 1464.58 2262.92 1471.71 Q2262.92 1478.82 2264.72 1482.38 Q2266.55 1485.92 2270.16 1485.92 Q2273.8 1485.92 2275.6 1482.38 Q2277.43 1478.82 2277.43 1471.71 Q2277.43 1464.58 2275.6 1461.04 Q2273.8 1457.48 2270.16 1457.48 M2270.16 1453.77 Q2275.97 1453.77 2279.03 1458.38 Q2282.11 1462.96 2282.11 1471.71 Q2282.11 1480.44 2279.03 1485.04 Q2275.97 1489.63 2270.16 1489.63 Q2264.35 1489.63 2261.27 1485.04 Q2258.22 1480.44 2258.22 1471.71 Q2258.22 1462.96 2261.27 1458.38 Q2264.35 1453.77 2270.16 1453.77 Z\" fill=\"#000000\" fill-rule=\"evenodd\" fill-opacity=\"1\" /><path clip-path=\"url(#clip950)\" d=\"M2318.5 1463.49 L2307.92 1474.12 L2318.5 1484.7 L2315.74 1487.5 L2305.12 1476.87 L2294.49 1487.5 L2291.76 1484.7 L2302.31 1474.12 L2291.76 1463.49 L2294.49 1460.69 L2305.12 1471.32 L2315.74 1460.69 L2318.5 1463.49 Z\" fill=\"#000000\" fill-rule=\"evenodd\" fill-opacity=\"1\" /><path clip-path=\"url(#clip950)\" d=\"M2330.86 1485.02 L2338.5 1485.02 L2338.5 1458.66 L2330.19 1460.32 L2330.19 1456.06 L2338.45 1454.4 L2343.12 1454.4 L2343.12 1485.02 L2350.76 1485.02 L2350.76 1488.96 L2330.86 1488.96 L2330.86 1485.02 Z\" fill=\"#000000\" fill-rule=\"evenodd\" fill-opacity=\"1\" /><path clip-path=\"url(#clip950)\" d=\"M2370.21 1457.48 Q2366.6 1457.48 2364.77 1461.04 Q2362.96 1464.58 2362.96 1471.71 Q2362.96 1478.82 2364.77 1482.38 Q2366.6 1485.92 2370.21 1485.92 Q2373.84 1485.92 2375.65 1482.38 Q2377.48 1478.82 2377.48 1471.71 Q2377.48 1464.58 2375.65 1461.04 Q2373.84 1457.48 2370.21 1457.48 M2370.21 1453.77 Q2376.02 1453.77 2379.07 1458.38 Q2382.15 1462.96 2382.15 1471.71 Q2382.15 1480.44 2379.07 1485.04 Q2376.02 1489.63 2370.21 1489.63 Q2364.4 1489.63 2361.32 1485.04 Q2358.26 1480.44 2358.26 1471.71 Q2358.26 1462.96 2361.32 1458.38 Q2364.4 1453.77 2370.21 1453.77 Z\" fill=\"#000000\" fill-rule=\"evenodd\" fill-opacity=\"1\" /><path clip-path=\"url(#clip950)\" d=\"M2392.18 1445.99 Q2389.62 1445.99 2388.11 1447.74 Q2386.63 1449.49 2386.63 1452.54 Q2386.63 1455.57 2388.11 1457.33 Q2389.62 1459.08 2392.18 1459.08 Q2394.73 1459.08 2396.22 1457.33 Q2397.73 1455.57 2397.73 1452.54 Q2397.73 1449.49 2396.22 1447.74 Q2394.73 1445.99 2392.18 1445.99 M2399.72 1434.09 L2399.72 1437.55 Q2398.29 1436.87 2396.82 1436.51 Q2395.37 1436.16 2393.94 1436.16 Q2390.18 1436.16 2388.19 1438.69 Q2386.21 1441.23 2385.93 1446.37 Q2387.04 1444.73 2388.72 1443.87 Q2390.39 1442.98 2392.4 1442.98 Q2396.63 1442.98 2399.08 1445.56 Q2401.54 1448.12 2401.54 1452.54 Q2401.54 1456.86 2398.99 1459.48 Q2396.43 1462.09 2392.18 1462.09 Q2387.31 1462.09 2384.73 1458.37 Q2382.15 1454.62 2382.15 1447.53 Q2382.15 1440.88 2385.31 1436.93 Q2388.47 1432.96 2393.79 1432.96 Q2395.22 1432.96 2396.67 1433.24 Q2398.14 1433.52 2399.72 1434.09 Z\" fill=\"#000000\" fill-rule=\"evenodd\" fill-opacity=\"1\" /><path clip-path=\"url(#clip950)\" d=\"M1150.62 1526.67 L1157.05 1526.67 L1157.05 1574.19 L1150.62 1574.19 L1150.62 1526.67 Z\" fill=\"#000000\" fill-rule=\"evenodd\" fill-opacity=\"1\" /><path clip-path=\"url(#clip950)\" d=\"M1175.38 1528.42 L1175.38 1538.54 L1187.44 1538.54 L1187.44 1543.09 L1175.38 1543.09 L1175.38 1562.44 Q1175.38 1566.8 1176.56 1568.04 Q1177.77 1569.28 1181.43 1569.28 L1187.44 1569.28 L1187.44 1574.19 L1181.43 1574.19 Q1174.65 1574.19 1172.07 1571.67 Q1169.49 1569.12 1169.49 1562.44 L1169.49 1543.09 L1165.2 1543.09 L1165.2 1538.54 L1169.49 1538.54 L1169.49 1528.42 L1175.38 1528.42 Z\" fill=\"#000000\" fill-rule=\"evenodd\" fill-opacity=\"1\" /><path clip-path=\"url(#clip950)\" d=\"M1225.64 1554.9 L1225.64 1557.76 L1198.71 1557.76 Q1199.09 1563.81 1202.34 1566.99 Q1205.62 1570.14 1211.44 1570.14 Q1214.82 1570.14 1217.97 1569.32 Q1221.15 1568.49 1224.27 1566.83 L1224.27 1572.37 Q1221.12 1573.71 1217.81 1574.41 Q1214.5 1575.11 1211.09 1575.11 Q1202.56 1575.11 1197.57 1570.14 Q1192.6 1565.18 1192.6 1556.71 Q1192.6 1547.96 1197.31 1542.83 Q1202.05 1537.68 1210.07 1537.68 Q1217.27 1537.68 1221.44 1542.33 Q1225.64 1546.94 1225.64 1554.9 M1219.78 1553.18 Q1219.72 1548.37 1217.08 1545.51 Q1214.47 1542.64 1210.14 1542.64 Q1205.24 1542.64 1202.28 1545.41 Q1199.35 1548.18 1198.9 1553.21 L1219.78 1553.18 Z\" fill=\"#000000\" fill-rule=\"evenodd\" fill-opacity=\"1\" /><path clip-path=\"url(#clip950)\" d=\"M1255.91 1544.01 Q1254.92 1543.44 1253.74 1543.18 Q1252.6 1542.9 1251.2 1542.9 Q1246.23 1542.9 1243.56 1546.14 Q1240.92 1549.36 1240.92 1555.41 L1240.92 1574.19 L1235.03 1574.19 L1235.03 1538.54 L1240.92 1538.54 L1240.92 1544.08 Q1242.76 1540.83 1245.72 1539.27 Q1248.68 1537.68 1252.92 1537.68 Q1253.52 1537.68 1254.25 1537.77 Q1254.98 1537.84 1255.88 1538 L1255.91 1544.01 Z\" fill=\"#000000\" fill-rule=\"evenodd\" fill-opacity=\"1\" /><path clip-path=\"url(#clip950)\" d=\"M1278.25 1556.27 Q1271.15 1556.27 1268.42 1557.89 Q1265.68 1559.51 1265.68 1563.43 Q1265.68 1566.55 1267.72 1568.39 Q1269.78 1570.21 1273.32 1570.21 Q1278.19 1570.21 1281.12 1566.77 Q1284.08 1563.3 1284.08 1557.57 L1284.08 1556.27 L1278.25 1556.27 M1289.93 1553.85 L1289.93 1574.19 L1284.08 1574.19 L1284.08 1568.77 Q1282.07 1572.02 1279.08 1573.58 Q1276.09 1575.11 1271.76 1575.11 Q1266.28 1575.11 1263.04 1572.05 Q1259.82 1568.97 1259.82 1563.81 Q1259.82 1557.79 1263.83 1554.74 Q1267.88 1551.68 1275.86 1551.68 L1284.08 1551.68 L1284.08 1551.11 Q1284.08 1547.07 1281.4 1544.87 Q1278.76 1542.64 1273.95 1542.64 Q1270.9 1542.64 1268 1543.38 Q1265.11 1544.11 1262.43 1545.57 L1262.43 1540.16 Q1265.65 1538.92 1268.67 1538.31 Q1271.69 1537.68 1274.56 1537.68 Q1282.29 1537.68 1286.11 1541.69 Q1289.93 1545.7 1289.93 1553.85 Z\" fill=\"#000000\" fill-rule=\"evenodd\" fill-opacity=\"1\" /><path clip-path=\"url(#clip950)\" d=\"M1307.79 1528.42 L1307.79 1538.54 L1319.85 1538.54 L1319.85 1543.09 L1307.79 1543.09 L1307.79 1562.44 Q1307.79 1566.8 1308.97 1568.04 Q1310.18 1569.28 1313.84 1569.28 L1319.85 1569.28 L1319.85 1574.19 L1313.84 1574.19 Q1307.06 1574.19 1304.48 1571.67 Q1301.9 1569.12 1301.9 1562.44 L1301.9 1543.09 L1297.6 1543.09 L1297.6 1538.54 L1301.9 1538.54 L1301.9 1528.42 L1307.79 1528.42 Z\" fill=\"#000000\" fill-rule=\"evenodd\" fill-opacity=\"1\" /><path clip-path=\"url(#clip950)\" d=\"M1327.55 1538.54 L1333.41 1538.54 L1333.41 1574.19 L1327.55 1574.19 L1327.55 1538.54 M1327.55 1524.66 L1333.41 1524.66 L1333.41 1532.08 L1327.55 1532.08 L1327.55 1524.66 Z\" fill=\"#000000\" fill-rule=\"evenodd\" fill-opacity=\"1\" /><path clip-path=\"url(#clip950)\" d=\"M1359.48 1542.64 Q1354.77 1542.64 1352.03 1546.34 Q1349.29 1550 1349.29 1556.39 Q1349.29 1562.79 1352 1566.48 Q1354.74 1570.14 1359.48 1570.14 Q1364.16 1570.14 1366.89 1566.45 Q1369.63 1562.76 1369.63 1556.39 Q1369.63 1550.06 1366.89 1546.37 Q1364.16 1542.64 1359.48 1542.64 M1359.48 1537.68 Q1367.12 1537.68 1371.48 1542.64 Q1375.84 1547.61 1375.84 1556.39 Q1375.84 1565.15 1371.48 1570.14 Q1367.12 1575.11 1359.48 1575.11 Q1351.81 1575.11 1347.45 1570.14 Q1343.12 1565.15 1343.12 1556.39 Q1343.12 1547.61 1347.45 1542.64 Q1351.81 1537.68 1359.48 1537.68 Z\" fill=\"#000000\" fill-rule=\"evenodd\" fill-opacity=\"1\" /><path clip-path=\"url(#clip950)\" d=\"M1415.18 1552.67 L1415.18 1574.19 L1409.32 1574.19 L1409.32 1552.86 Q1409.32 1547.8 1407.35 1545.29 Q1405.37 1542.77 1401.43 1542.77 Q1396.69 1542.77 1393.95 1545.79 Q1391.21 1548.82 1391.21 1554.04 L1391.21 1574.19 L1385.32 1574.19 L1385.32 1538.54 L1391.21 1538.54 L1391.21 1544.08 Q1393.31 1540.86 1396.14 1539.27 Q1399.01 1537.68 1402.73 1537.68 Q1408.88 1537.68 1412.03 1541.5 Q1415.18 1545.29 1415.18 1552.67 Z\" fill=\"#000000\" fill-rule=\"evenodd\" fill-opacity=\"1\" /><path clip-path=\"url(#clip950)\" d=\"M1449.58 1539.59 L1449.58 1545.13 Q1447.1 1543.85 1444.43 1543.22 Q1441.75 1542.58 1438.89 1542.58 Q1434.53 1542.58 1432.33 1543.92 Q1430.17 1545.25 1430.17 1547.93 Q1430.17 1549.96 1431.73 1551.14 Q1433.29 1552.29 1438 1553.34 L1440 1553.78 Q1446.24 1555.12 1448.85 1557.57 Q1451.49 1559.99 1451.49 1564.35 Q1451.49 1569.32 1447.55 1572.21 Q1443.63 1575.11 1436.76 1575.11 Q1433.89 1575.11 1430.77 1574.54 Q1427.69 1573.99 1424.25 1572.88 L1424.25 1566.83 Q1427.5 1568.52 1430.65 1569.38 Q1433.8 1570.21 1436.88 1570.21 Q1441.02 1570.21 1443.25 1568.81 Q1445.48 1567.37 1445.48 1564.8 Q1445.48 1562.41 1443.86 1561.14 Q1442.26 1559.86 1436.82 1558.68 L1434.78 1558.21 Q1429.34 1557.06 1426.92 1554.71 Q1424.5 1552.32 1424.5 1548.18 Q1424.5 1543.15 1428.07 1540.42 Q1431.63 1537.68 1438.19 1537.68 Q1441.44 1537.68 1444.3 1538.16 Q1447.17 1538.63 1449.58 1539.59 Z\" fill=\"#000000\" fill-rule=\"evenodd\" fill-opacity=\"1\" /><polyline clip-path=\"url(#clip952)\" style=\"stroke:#000000; stroke-linecap:round; stroke-linejoin:round; stroke-width:2; stroke-opacity:0.1; fill:none\" points=\"\n",
       "  249.357,1235.43 2352.76,1235.43 \n",
       "  \"/>\n",
       "<polyline clip-path=\"url(#clip952)\" style=\"stroke:#000000; stroke-linecap:round; stroke-linejoin:round; stroke-width:2; stroke-opacity:0.1; fill:none\" points=\"\n",
       "  249.357,984.477 2352.76,984.477 \n",
       "  \"/>\n",
       "<polyline clip-path=\"url(#clip952)\" style=\"stroke:#000000; stroke-linecap:round; stroke-linejoin:round; stroke-width:2; stroke-opacity:0.1; fill:none\" points=\"\n",
       "  249.357,733.524 2352.76,733.524 \n",
       "  \"/>\n",
       "<polyline clip-path=\"url(#clip952)\" style=\"stroke:#000000; stroke-linecap:round; stroke-linejoin:round; stroke-width:2; stroke-opacity:0.1; fill:none\" points=\"\n",
       "  249.357,482.57 2352.76,482.57 \n",
       "  \"/>\n",
       "<polyline clip-path=\"url(#clip952)\" style=\"stroke:#000000; stroke-linecap:round; stroke-linejoin:round; stroke-width:2; stroke-opacity:0.1; fill:none\" points=\"\n",
       "  249.357,231.617 2352.76,231.617 \n",
       "  \"/>\n",
       "<polyline clip-path=\"url(#clip950)\" style=\"stroke:#000000; stroke-linecap:round; stroke-linejoin:round; stroke-width:4; stroke-opacity:1; fill:none\" points=\"\n",
       "  249.357,1410.9 249.357,47.2441 \n",
       "  \"/>\n",
       "<polyline clip-path=\"url(#clip950)\" style=\"stroke:#000000; stroke-linecap:round; stroke-linejoin:round; stroke-width:4; stroke-opacity:1; fill:none\" points=\"\n",
       "  249.357,1235.43 268.254,1235.43 \n",
       "  \"/>\n",
       "<polyline clip-path=\"url(#clip950)\" style=\"stroke:#000000; stroke-linecap:round; stroke-linejoin:round; stroke-width:4; stroke-opacity:1; fill:none\" points=\"\n",
       "  249.357,984.477 268.254,984.477 \n",
       "  \"/>\n",
       "<polyline clip-path=\"url(#clip950)\" style=\"stroke:#000000; stroke-linecap:round; stroke-linejoin:round; stroke-width:4; stroke-opacity:1; fill:none\" points=\"\n",
       "  249.357,733.524 268.254,733.524 \n",
       "  \"/>\n",
       "<polyline clip-path=\"url(#clip950)\" style=\"stroke:#000000; stroke-linecap:round; stroke-linejoin:round; stroke-width:4; stroke-opacity:1; fill:none\" points=\"\n",
       "  249.357,482.57 268.254,482.57 \n",
       "  \"/>\n",
       "<polyline clip-path=\"url(#clip950)\" style=\"stroke:#000000; stroke-linecap:round; stroke-linejoin:round; stroke-width:4; stroke-opacity:1; fill:none\" points=\"\n",
       "  249.357,231.617 268.254,231.617 \n",
       "  \"/>\n",
       "<path clip-path=\"url(#clip950)\" d=\"M126.598 1233.57 Q123.45 1233.57 121.598 1235.72 Q119.769 1237.87 119.769 1241.62 Q119.769 1245.35 121.598 1247.52 Q123.45 1249.68 126.598 1249.68 Q129.746 1249.68 131.575 1247.52 Q133.427 1245.35 133.427 1241.62 Q133.427 1237.87 131.575 1235.72 Q129.746 1233.57 126.598 1233.57 M135.88 1218.91 L135.88 1223.17 Q134.121 1222.34 132.316 1221.9 Q130.533 1221.46 128.774 1221.46 Q124.144 1221.46 121.691 1224.59 Q119.26 1227.71 118.913 1234.03 Q120.279 1232.02 122.339 1230.95 Q124.399 1229.86 126.876 1229.86 Q132.084 1229.86 135.093 1233.03 Q138.126 1236.18 138.126 1241.62 Q138.126 1246.95 134.978 1250.16 Q131.83 1253.38 126.598 1253.38 Q120.603 1253.38 117.431 1248.8 Q114.26 1244.19 114.26 1235.46 Q114.26 1227.27 118.149 1222.41 Q122.038 1217.52 128.589 1217.52 Q130.348 1217.52 132.13 1217.87 Q133.936 1218.22 135.88 1218.91 Z\" fill=\"#000000\" fill-rule=\"evenodd\" fill-opacity=\"1\" /><path clip-path=\"url(#clip950)\" d=\"M156.181 1221.23 Q152.57 1221.23 150.741 1224.79 Q148.936 1228.34 148.936 1235.46 Q148.936 1242.57 150.741 1246.14 Q152.57 1249.68 156.181 1249.68 Q159.815 1249.68 161.621 1246.14 Q163.45 1242.57 163.45 1235.46 Q163.45 1228.34 161.621 1224.79 Q159.815 1221.23 156.181 1221.23 M156.181 1217.52 Q161.991 1217.52 165.047 1222.13 Q168.126 1226.71 168.126 1235.46 Q168.126 1244.19 165.047 1248.8 Q161.991 1253.38 156.181 1253.38 Q150.371 1253.38 147.292 1248.8 Q144.237 1244.19 144.237 1235.46 Q144.237 1226.71 147.292 1222.13 Q150.371 1217.52 156.181 1217.52 Z\" fill=\"#000000\" fill-rule=\"evenodd\" fill-opacity=\"1\" /><path clip-path=\"url(#clip950)\" d=\"M176.343 1246.83 L181.227 1246.83 L181.227 1252.71 L176.343 1252.71 L176.343 1246.83 Z\" fill=\"#000000\" fill-rule=\"evenodd\" fill-opacity=\"1\" /><path clip-path=\"url(#clip950)\" d=\"M201.412 1221.23 Q197.801 1221.23 195.973 1224.79 Q194.167 1228.34 194.167 1235.46 Q194.167 1242.57 195.973 1246.14 Q197.801 1249.68 201.412 1249.68 Q205.047 1249.68 206.852 1246.14 Q208.681 1242.57 208.681 1235.46 Q208.681 1228.34 206.852 1224.79 Q205.047 1221.23 201.412 1221.23 M201.412 1217.52 Q207.223 1217.52 210.278 1222.13 Q213.357 1226.71 213.357 1235.46 Q213.357 1244.19 210.278 1248.8 Q207.223 1253.38 201.412 1253.38 Q195.602 1253.38 192.524 1248.8 Q189.468 1244.19 189.468 1235.46 Q189.468 1226.71 192.524 1222.13 Q195.602 1217.52 201.412 1217.52 Z\" fill=\"#000000\" fill-rule=\"evenodd\" fill-opacity=\"1\" /><path clip-path=\"url(#clip950)\" d=\"M127.593 982.613 Q124.445 982.613 122.593 984.766 Q120.765 986.919 120.765 990.669 Q120.765 994.396 122.593 996.572 Q124.445 998.724 127.593 998.724 Q130.742 998.724 132.57 996.572 Q134.422 994.396 134.422 990.669 Q134.422 986.919 132.57 984.766 Q130.742 982.613 127.593 982.613 M136.876 967.961 L136.876 972.22 Q135.117 971.387 133.311 970.947 Q131.529 970.507 129.769 970.507 Q125.14 970.507 122.686 973.632 Q120.255 976.757 119.908 983.076 Q121.274 981.062 123.334 979.998 Q125.394 978.91 127.871 978.91 Q133.08 978.91 136.089 982.081 Q139.121 985.229 139.121 990.669 Q139.121 995.993 135.973 999.21 Q132.825 1002.43 127.593 1002.43 Q121.598 1002.43 118.427 997.845 Q115.256 993.238 115.256 984.511 Q115.256 976.317 119.144 971.456 Q123.033 966.572 129.584 966.572 Q131.343 966.572 133.126 966.919 Q134.931 967.266 136.876 967.961 Z\" fill=\"#000000\" fill-rule=\"evenodd\" fill-opacity=\"1\" /><path clip-path=\"url(#clip950)\" d=\"M151.204 997.822 L167.524 997.822 L167.524 1001.76 L145.579 1001.76 L145.579 997.822 Q148.241 995.067 152.825 990.437 Q157.431 985.785 158.612 984.442 Q160.857 981.919 161.737 980.183 Q162.64 978.424 162.64 976.734 Q162.64 973.979 160.695 972.243 Q158.774 970.507 155.672 970.507 Q153.473 970.507 151.019 971.271 Q148.589 972.035 145.811 973.586 L145.811 968.863 Q148.635 967.729 151.089 967.15 Q153.542 966.572 155.579 966.572 Q160.95 966.572 164.144 969.257 Q167.339 971.942 167.339 976.433 Q167.339 978.562 166.528 980.484 Q165.741 982.382 163.635 984.974 Q163.056 985.646 159.954 988.863 Q156.853 992.058 151.204 997.822 Z\" fill=\"#000000\" fill-rule=\"evenodd\" fill-opacity=\"1\" /><path clip-path=\"url(#clip950)\" d=\"M177.339 995.877 L182.223 995.877 L182.223 1001.76 L177.339 1001.76 L177.339 995.877 Z\" fill=\"#000000\" fill-rule=\"evenodd\" fill-opacity=\"1\" /><path clip-path=\"url(#clip950)\" d=\"M192.454 967.197 L210.811 967.197 L210.811 971.132 L196.737 971.132 L196.737 979.604 Q197.755 979.257 198.774 979.095 Q199.792 978.91 200.811 978.91 Q206.598 978.91 209.977 982.081 Q213.357 985.252 213.357 990.669 Q213.357 996.248 209.885 999.349 Q206.412 1002.43 200.093 1002.43 Q197.917 1002.43 195.649 1002.06 Q193.403 1001.69 190.996 1000.95 L190.996 996.248 Q193.079 997.382 195.301 997.937 Q197.524 998.493 200 998.493 Q204.005 998.493 206.343 996.386 Q208.681 994.28 208.681 990.669 Q208.681 987.058 206.343 984.951 Q204.005 982.845 200 982.845 Q198.125 982.845 196.25 983.261 Q194.399 983.678 192.454 984.558 L192.454 967.197 Z\" fill=\"#000000\" fill-rule=\"evenodd\" fill-opacity=\"1\" /><path clip-path=\"url(#clip950)\" d=\"M126.598 731.66 Q123.45 731.66 121.598 733.813 Q119.769 735.966 119.769 739.716 Q119.769 743.442 121.598 745.618 Q123.45 747.771 126.598 747.771 Q129.746 747.771 131.575 745.618 Q133.427 743.442 133.427 739.716 Q133.427 735.966 131.575 733.813 Q129.746 731.66 126.598 731.66 M135.88 717.007 L135.88 721.267 Q134.121 720.433 132.316 719.993 Q130.533 719.554 128.774 719.554 Q124.144 719.554 121.691 722.679 Q119.26 725.804 118.913 732.123 Q120.279 730.109 122.339 729.044 Q124.399 727.956 126.876 727.956 Q132.084 727.956 135.093 731.128 Q138.126 734.276 138.126 739.716 Q138.126 745.04 134.978 748.257 Q131.83 751.475 126.598 751.475 Q120.603 751.475 117.431 746.891 Q114.26 742.285 114.26 733.558 Q114.26 725.364 118.149 720.503 Q122.038 715.619 128.589 715.619 Q130.348 715.619 132.13 715.966 Q133.936 716.313 135.88 717.007 Z\" fill=\"#000000\" fill-rule=\"evenodd\" fill-opacity=\"1\" /><path clip-path=\"url(#clip950)\" d=\"M146.228 716.244 L164.584 716.244 L164.584 720.179 L150.51 720.179 L150.51 728.651 Q151.528 728.304 152.547 728.142 Q153.566 727.956 154.584 727.956 Q160.371 727.956 163.751 731.128 Q167.13 734.299 167.13 739.716 Q167.13 745.294 163.658 748.396 Q160.186 751.475 153.866 751.475 Q151.691 751.475 149.422 751.104 Q147.177 750.734 144.769 749.993 L144.769 745.294 Q146.853 746.429 149.075 746.984 Q151.297 747.54 153.774 747.54 Q157.778 747.54 160.116 745.433 Q162.454 743.327 162.454 739.716 Q162.454 736.105 160.116 733.998 Q157.778 731.892 153.774 731.892 Q151.899 731.892 150.024 732.308 Q148.172 732.725 146.228 733.605 L146.228 716.244 Z\" fill=\"#000000\" fill-rule=\"evenodd\" fill-opacity=\"1\" /><path clip-path=\"url(#clip950)\" d=\"M176.343 744.924 L181.227 744.924 L181.227 750.804 L176.343 750.804 L176.343 744.924 Z\" fill=\"#000000\" fill-rule=\"evenodd\" fill-opacity=\"1\" /><path clip-path=\"url(#clip950)\" d=\"M201.412 719.322 Q197.801 719.322 195.973 722.887 Q194.167 726.429 194.167 733.558 Q194.167 740.665 195.973 744.229 Q197.801 747.771 201.412 747.771 Q205.047 747.771 206.852 744.229 Q208.681 740.665 208.681 733.558 Q208.681 726.429 206.852 722.887 Q205.047 719.322 201.412 719.322 M201.412 715.619 Q207.223 715.619 210.278 720.225 Q213.357 724.808 213.357 733.558 Q213.357 742.285 210.278 746.891 Q207.223 751.475 201.412 751.475 Q195.602 751.475 192.524 746.891 Q189.468 742.285 189.468 733.558 Q189.468 724.808 192.524 720.225 Q195.602 715.619 201.412 715.619 Z\" fill=\"#000000\" fill-rule=\"evenodd\" fill-opacity=\"1\" /><path clip-path=\"url(#clip950)\" d=\"M127.593 480.707 Q124.445 480.707 122.593 482.86 Q120.765 485.012 120.765 488.762 Q120.765 492.489 122.593 494.665 Q124.445 496.818 127.593 496.818 Q130.742 496.818 132.57 494.665 Q134.422 492.489 134.422 488.762 Q134.422 485.012 132.57 482.86 Q130.742 480.707 127.593 480.707 M136.876 466.054 L136.876 470.313 Q135.117 469.48 133.311 469.04 Q131.529 468.6 129.769 468.6 Q125.14 468.6 122.686 471.725 Q120.255 474.85 119.908 481.17 Q121.274 479.156 123.334 478.091 Q125.394 477.003 127.871 477.003 Q133.08 477.003 136.089 480.174 Q139.121 483.323 139.121 488.762 Q139.121 494.086 135.973 497.304 Q132.825 500.522 127.593 500.522 Q121.598 500.522 118.427 495.938 Q115.256 491.332 115.256 482.605 Q115.256 474.411 119.144 469.55 Q123.033 464.665 129.584 464.665 Q131.343 464.665 133.126 465.013 Q134.931 465.36 136.876 466.054 Z\" fill=\"#000000\" fill-rule=\"evenodd\" fill-opacity=\"1\" /><path clip-path=\"url(#clip950)\" d=\"M145.996 465.29 L168.218 465.29 L168.218 467.281 L155.672 499.85 L150.788 499.85 L162.593 469.225 L145.996 469.225 L145.996 465.29 Z\" fill=\"#000000\" fill-rule=\"evenodd\" fill-opacity=\"1\" /><path clip-path=\"url(#clip950)\" d=\"M177.339 493.971 L182.223 493.971 L182.223 499.85 L177.339 499.85 L177.339 493.971 Z\" fill=\"#000000\" fill-rule=\"evenodd\" fill-opacity=\"1\" /><path clip-path=\"url(#clip950)\" d=\"M192.454 465.29 L210.811 465.29 L210.811 469.225 L196.737 469.225 L196.737 477.698 Q197.755 477.35 198.774 477.188 Q199.792 477.003 200.811 477.003 Q206.598 477.003 209.977 480.174 Q213.357 483.346 213.357 488.762 Q213.357 494.341 209.885 497.443 Q206.412 500.522 200.093 500.522 Q197.917 500.522 195.649 500.151 Q193.403 499.781 190.996 499.04 L190.996 494.341 Q193.079 495.475 195.301 496.031 Q197.524 496.586 200 496.586 Q204.005 496.586 206.343 494.48 Q208.681 492.373 208.681 488.762 Q208.681 485.151 206.343 483.045 Q204.005 480.938 200 480.938 Q198.125 480.938 196.25 481.355 Q194.399 481.772 192.454 482.651 L192.454 465.29 Z\" fill=\"#000000\" fill-rule=\"evenodd\" fill-opacity=\"1\" /><path clip-path=\"url(#clip950)\" d=\"M114.839 214.337 L137.061 214.337 L137.061 216.328 L124.515 248.897 L119.63 248.897 L131.436 218.272 L114.839 218.272 L114.839 214.337 Z\" fill=\"#000000\" fill-rule=\"evenodd\" fill-opacity=\"1\" /><path clip-path=\"url(#clip950)\" d=\"M156.181 217.416 Q152.57 217.416 150.741 220.981 Q148.936 224.522 148.936 231.652 Q148.936 238.758 150.741 242.323 Q152.57 245.865 156.181 245.865 Q159.815 245.865 161.621 242.323 Q163.45 238.758 163.45 231.652 Q163.45 224.522 161.621 220.981 Q159.815 217.416 156.181 217.416 M156.181 213.712 Q161.991 213.712 165.047 218.319 Q168.126 222.902 168.126 231.652 Q168.126 240.379 165.047 244.985 Q161.991 249.568 156.181 249.568 Q150.371 249.568 147.292 244.985 Q144.237 240.379 144.237 231.652 Q144.237 222.902 147.292 218.319 Q150.371 213.712 156.181 213.712 Z\" fill=\"#000000\" fill-rule=\"evenodd\" fill-opacity=\"1\" /><path clip-path=\"url(#clip950)\" d=\"M176.343 243.017 L181.227 243.017 L181.227 248.897 L176.343 248.897 L176.343 243.017 Z\" fill=\"#000000\" fill-rule=\"evenodd\" fill-opacity=\"1\" /><path clip-path=\"url(#clip950)\" d=\"M201.412 217.416 Q197.801 217.416 195.973 220.981 Q194.167 224.522 194.167 231.652 Q194.167 238.758 195.973 242.323 Q197.801 245.865 201.412 245.865 Q205.047 245.865 206.852 242.323 Q208.681 238.758 208.681 231.652 Q208.681 224.522 206.852 220.981 Q205.047 217.416 201.412 217.416 M201.412 213.712 Q207.223 213.712 210.278 218.319 Q213.357 222.902 213.357 231.652 Q213.357 240.379 210.278 244.985 Q207.223 249.568 201.412 249.568 Q195.602 249.568 192.524 244.985 Q189.468 240.379 189.468 231.652 Q189.468 222.902 192.524 218.319 Q195.602 213.712 201.412 213.712 Z\" fill=\"#000000\" fill-rule=\"evenodd\" fill-opacity=\"1\" /><path clip-path=\"url(#clip950)\" d=\"M41.7242 821.755 Q42.4244 819.686 44.7161 817.745 Q47.0077 815.771 51.0181 813.798 L64.0042 807.273 L64.0042 814.18 L51.8138 820.259 Q47.0395 822.614 45.48 824.842 Q43.9204 827.039 43.9204 830.858 L43.9204 837.86 L64.0042 837.86 L64.0042 844.29 L16.4842 844.29 L16.4842 829.776 Q16.4842 821.628 19.8898 817.617 Q23.2955 813.607 30.1704 813.607 Q34.6582 813.607 37.6183 815.708 Q40.5784 817.776 41.7242 821.755 M21.7677 837.86 L38.6368 837.86 L38.6368 829.776 Q38.6368 825.129 36.5043 822.774 Q34.34 820.386 30.1704 820.386 Q26.0009 820.386 23.9002 822.774 Q21.7677 825.129 21.7677 829.776 L21.7677 837.86 Z\" fill=\"#000000\" fill-rule=\"evenodd\" fill-opacity=\"1\" /><path clip-path=\"url(#clip950)\" d=\"M44.7161 771.689 L47.5806 771.689 L47.5806 798.616 Q53.6281 798.234 56.8109 794.987 Q59.9619 791.709 59.9619 785.884 Q59.9619 782.51 59.1344 779.359 Q58.3069 776.177 56.6518 773.057 L62.1899 773.057 Q63.5267 776.208 64.227 779.519 Q64.9272 782.829 64.9272 786.234 Q64.9272 794.764 59.9619 799.762 Q54.9967 804.727 46.5303 804.727 Q37.7774 804.727 32.6531 800.016 Q27.4968 795.274 27.4968 787.253 Q27.4968 780.06 32.1438 775.89 Q36.7589 771.689 44.7161 771.689 M42.9973 777.545 Q38.1912 777.609 35.3266 780.251 Q32.4621 782.861 32.4621 787.189 Q32.4621 792.091 35.2312 795.051 Q38.0002 797.979 43.0292 798.425 L42.9973 777.545 Z\" fill=\"#000000\" fill-rule=\"evenodd\" fill-opacity=\"1\" /><path clip-path=\"url(#clip950)\" d=\"M28.3562 765.482 L28.3562 759.626 L56.1743 752.305 L28.3562 745.016 L28.3562 738.11 L56.1743 730.789 L28.3562 723.5 L28.3562 717.644 L64.0042 726.97 L64.0042 733.876 L34.7856 741.547 L64.0042 749.25 L64.0042 756.156 L28.3562 765.482 Z\" fill=\"#000000\" fill-rule=\"evenodd\" fill-opacity=\"1\" /><path clip-path=\"url(#clip950)\" d=\"M46.0847 692.563 Q46.0847 699.661 47.7079 702.398 Q49.3312 705.135 53.2461 705.135 Q56.3653 705.135 58.2114 703.098 Q60.0256 701.029 60.0256 697.496 Q60.0256 692.627 56.5881 689.698 Q53.1188 686.738 47.3897 686.738 L46.0847 686.738 L46.0847 692.563 M43.6657 680.882 L64.0042 680.882 L64.0042 686.738 L58.5933 686.738 Q61.8398 688.744 63.3994 691.735 Q64.9272 694.727 64.9272 699.056 Q64.9272 704.531 61.8716 707.777 Q58.7843 710.992 53.6281 710.992 Q47.6125 710.992 44.5569 706.981 Q41.5014 702.939 41.5014 694.95 L41.5014 686.738 L40.9285 686.738 Q36.8862 686.738 34.6901 689.412 Q32.4621 692.054 32.4621 696.86 Q32.4621 699.915 33.1941 702.812 Q33.9262 705.708 35.3903 708.382 L29.9795 708.382 Q28.7381 705.167 28.1334 702.143 Q27.4968 699.12 27.4968 696.255 Q27.4968 688.521 31.5072 684.701 Q35.5176 680.882 43.6657 680.882 Z\" fill=\"#000000\" fill-rule=\"evenodd\" fill-opacity=\"1\" /><path clip-path=\"url(#clip950)\" d=\"M33.8307 648.162 Q33.2578 649.149 33.0032 650.327 Q32.7167 651.472 32.7167 652.873 Q32.7167 657.838 35.9632 660.512 Q39.1779 663.153 45.2253 663.153 L64.0042 663.153 L64.0042 669.042 L28.3562 669.042 L28.3562 663.153 L33.8944 663.153 Q30.6479 661.307 29.0883 658.347 Q27.4968 655.387 27.4968 651.154 Q27.4968 650.549 27.5923 649.817 Q27.656 649.085 27.8151 648.194 L33.8307 648.162 Z\" fill=\"#000000\" fill-rule=\"evenodd\" fill-opacity=\"1\" /><path clip-path=\"url(#clip950)\" d=\"M33.7671 619.708 L14.479 619.708 L14.479 613.851 L64.0042 613.851 L64.0042 619.708 L58.657 619.708 Q61.8398 621.554 63.3994 624.386 Q64.9272 627.187 64.9272 631.134 Q64.9272 637.595 59.771 641.669 Q54.6147 645.711 46.212 645.711 Q37.8093 645.711 32.6531 641.669 Q27.4968 637.595 27.4968 631.134 Q27.4968 627.187 29.0564 624.386 Q30.5842 621.554 33.7671 619.708 M46.212 639.664 Q52.6732 639.664 56.3653 637.022 Q60.0256 634.349 60.0256 629.702 Q60.0256 625.055 56.3653 622.381 Q52.6732 619.708 46.212 619.708 Q39.7508 619.708 36.0905 622.381 Q32.3984 625.055 32.3984 629.702 Q32.3984 634.349 36.0905 637.022 Q39.7508 639.664 46.212 639.664 Z\" fill=\"#000000\" fill-rule=\"evenodd\" fill-opacity=\"1\" /><polyline clip-path=\"url(#clip952)\" style=\"stroke:#009af9; stroke-linecap:round; stroke-linejoin:round; stroke-width:4; stroke-opacity:1; fill:none\" points=\"\n",
       "  308.887,1372.3 322.205,546.888 335.522,421.007 348.84,291.213 362.158,281.504 375.476,197.78 388.793,326.247 402.111,369.38 415.429,325.951 428.746,234.489 \n",
       "  442.064,366.209 455.382,224.724 468.7,222.435 482.017,183.851 495.335,423.083 508.653,277.668 521.97,198.182 535.288,201.235 548.606,171.159 561.923,183.221 \n",
       "  575.241,190.848 588.559,167.724 601.877,175.502 615.194,210.967 628.512,218.383 641.83,188.96 655.147,226.082 668.465,218.663 681.783,272.864 695.101,284.189 \n",
       "  708.418,359.047 721.736,252.319 735.054,224.407 748.371,261.517 761.689,363.89 775.007,359.06 788.325,284.753 801.642,416.104 814.96,342.706 828.278,311.309 \n",
       "  841.595,302.068 854.913,253.882 868.231,283.048 881.549,311.951 894.866,386.061 908.184,193.366 921.502,242.359 934.819,185.998 948.137,219.296 961.455,309.908 \n",
       "  974.772,143.448 988.09,289.7 1001.41,289.482 1014.73,245.681 1028.04,270.568 1041.36,260.975 1054.68,234.049 1068,152.213 1081.31,206.104 1094.63,291.021 \n",
       "  1107.95,220.455 1121.27,244.108 1134.59,360.871 1147.9,339.722 1161.22,234.145 1174.54,221.569 1187.86,313.35 1201.17,254.388 1214.49,197.361 1227.81,225.641 \n",
       "  1241.13,170.825 1254.44,192.622 1267.76,199.35 1281.08,331.878 1294.4,324.136 1307.72,158.194 1321.03,179.929 1334.35,226.408 1347.67,201.601 1360.99,162.937 \n",
       "  1374.3,230.853 1387.62,151.145 1400.94,286.981 1414.26,263.57 1427.57,208.996 1440.89,162.831 1454.21,252.11 1467.53,217.073 1480.85,302.056 1494.16,128.721 \n",
       "  1507.48,217.372 1520.8,388.886 1534.12,176.31 1547.43,219.115 1560.75,307.708 1574.07,226.905 1587.39,134.846 1600.7,143.931 1614.02,184.886 1627.34,115.85 \n",
       "  1640.66,174.511 1653.98,241.698 1667.29,137.011 1680.61,150.299 1693.93,181.098 1707.25,224.18 1720.56,383.224 1733.88,173.611 1747.2,270.42 1760.52,191.374 \n",
       "  1773.84,180.884 1787.15,197.901 1800.47,241.125 1813.79,312.132 1827.11,276.012 1840.42,256.083 1853.74,279.62 1867.06,241.674 1880.38,131.18 1893.69,197.37 \n",
       "  1907.01,232.238 1920.33,248.765 1933.65,209.046 1946.97,256.287 1960.28,131.774 1973.6,255.676 1986.92,195.404 2000.24,277.196 2013.55,254.962 2026.87,226.785 \n",
       "  2040.19,222.074 2053.51,220.74 2066.82,294.123 2080.14,148.161 2093.46,211.296 2106.78,168.734 2120.1,270.832 2133.41,85.838 2146.73,220.38 2160.05,193.634 \n",
       "  2173.37,196.103 2186.68,174.572 2200,159.707 2213.32,170.375 2226.64,202.086 2239.95,179.901 2253.27,139.025 2266.59,127.404 2279.91,172.57 2293.23,139.255 \n",
       "  \n",
       "  \"/>\n",
       "</svg>\n"
      ]
     },
     "execution_count": 33,
     "metadata": {},
     "output_type": "execute_result"
    }
   ],
   "source": [
    "plot([1:num_model] * 10000, rewards, xlabel=\"Iterations\", ylabel=\"Reward\", legend = false, xformatter = :scientific)"
   ]
  },
  {
   "cell_type": "code",
   "execution_count": 34,
   "id": "405bd6ad",
   "metadata": {},
   "outputs": [],
   "source": [
    "savefig(fig_path * \"reward.svg\")"
   ]
  },
  {
   "cell_type": "code",
   "execution_count": 35,
   "id": "9535a7a5",
   "metadata": {},
   "outputs": [
    {
     "data": {
      "image/svg+xml": [
       "<?xml version=\"1.0\" encoding=\"utf-8\"?>\n",
       "<svg xmlns=\"http://www.w3.org/2000/svg\" xmlns:xlink=\"http://www.w3.org/1999/xlink\" width=\"600\" height=\"400\" viewBox=\"0 0 2400 1600\">\n",
       "<defs>\n",
       "  <clipPath id=\"clip030\">\n",
       "    <rect x=\"0\" y=\"0\" width=\"2400\" height=\"1600\"/>\n",
       "  </clipPath>\n",
       "</defs>\n",
       "<path clip-path=\"url(#clip030)\" d=\"\n",
       "M0 1600 L2400 1600 L2400 0 L0 0  Z\n",
       "  \" fill=\"#ffffff\" fill-rule=\"evenodd\" fill-opacity=\"1\"/>\n",
       "<defs>\n",
       "  <clipPath id=\"clip031\">\n",
       "    <rect x=\"480\" y=\"0\" width=\"1681\" height=\"1600\"/>\n",
       "  </clipPath>\n",
       "</defs>\n",
       "<path clip-path=\"url(#clip030)\" d=\"\n",
       "M279.704 1410.9 L2352.76 1410.9 L2352.76 47.2441 L279.704 47.2441  Z\n",
       "  \" fill=\"#ffffff\" fill-rule=\"evenodd\" fill-opacity=\"1\"/>\n",
       "<defs>\n",
       "  <clipPath id=\"clip032\">\n",
       "    <rect x=\"279\" y=\"47\" width=\"2074\" height=\"1365\"/>\n",
       "  </clipPath>\n",
       "</defs>\n",
       "<polyline clip-path=\"url(#clip032)\" style=\"stroke:#000000; stroke-linecap:round; stroke-linejoin:round; stroke-width:2; stroke-opacity:0.1; fill:none\" points=\"\n",
       "  325.25,1410.9 325.25,47.2441 \n",
       "  \"/>\n",
       "<polyline clip-path=\"url(#clip032)\" style=\"stroke:#000000; stroke-linecap:round; stroke-linejoin:round; stroke-width:2; stroke-opacity:0.1; fill:none\" points=\"\n",
       "  981.528,1410.9 981.528,47.2441 \n",
       "  \"/>\n",
       "<polyline clip-path=\"url(#clip032)\" style=\"stroke:#000000; stroke-linecap:round; stroke-linejoin:round; stroke-width:2; stroke-opacity:0.1; fill:none\" points=\"\n",
       "  1637.81,1410.9 1637.81,47.2441 \n",
       "  \"/>\n",
       "<polyline clip-path=\"url(#clip032)\" style=\"stroke:#000000; stroke-linecap:round; stroke-linejoin:round; stroke-width:2; stroke-opacity:0.1; fill:none\" points=\"\n",
       "  2294.08,1410.9 2294.08,47.2441 \n",
       "  \"/>\n",
       "<polyline clip-path=\"url(#clip030)\" style=\"stroke:#000000; stroke-linecap:round; stroke-linejoin:round; stroke-width:4; stroke-opacity:1; fill:none\" points=\"\n",
       "  279.704,1410.9 2352.76,1410.9 \n",
       "  \"/>\n",
       "<polyline clip-path=\"url(#clip030)\" style=\"stroke:#000000; stroke-linecap:round; stroke-linejoin:round; stroke-width:4; stroke-opacity:1; fill:none\" points=\"\n",
       "  325.25,1410.9 325.25,1392 \n",
       "  \"/>\n",
       "<polyline clip-path=\"url(#clip030)\" style=\"stroke:#000000; stroke-linecap:round; stroke-linejoin:round; stroke-width:4; stroke-opacity:1; fill:none\" points=\"\n",
       "  981.528,1410.9 981.528,1392 \n",
       "  \"/>\n",
       "<polyline clip-path=\"url(#clip030)\" style=\"stroke:#000000; stroke-linecap:round; stroke-linejoin:round; stroke-width:4; stroke-opacity:1; fill:none\" points=\"\n",
       "  1637.81,1410.9 1637.81,1392 \n",
       "  \"/>\n",
       "<polyline clip-path=\"url(#clip030)\" style=\"stroke:#000000; stroke-linecap:round; stroke-linejoin:round; stroke-width:4; stroke-opacity:1; fill:none\" points=\"\n",
       "  2294.08,1410.9 2294.08,1392 \n",
       "  \"/>\n",
       "<path clip-path=\"url(#clip030)\" d=\"M325.25 1441.82 Q321.639 1441.82 319.81 1445.38 Q318.004 1448.92 318.004 1456.05 Q318.004 1463.16 319.81 1466.72 Q321.639 1470.26 325.25 1470.26 Q328.884 1470.26 330.689 1466.72 Q332.518 1463.16 332.518 1456.05 Q332.518 1448.92 330.689 1445.38 Q328.884 1441.82 325.25 1441.82 M325.25 1438.11 Q331.06 1438.11 334.115 1442.72 Q337.194 1447.3 337.194 1456.05 Q337.194 1464.78 334.115 1469.38 Q331.06 1473.97 325.25 1473.97 Q319.439 1473.97 316.361 1469.38 Q313.305 1464.78 313.305 1456.05 Q313.305 1447.3 316.361 1442.72 Q319.439 1438.11 325.25 1438.11 Z\" fill=\"#000000\" fill-rule=\"evenodd\" fill-opacity=\"1\" /><path clip-path=\"url(#clip030)\" d=\"M874.505 1454.4 L892.861 1454.4 L892.861 1458.33 L878.787 1458.33 L878.787 1466.8 Q879.805 1466.46 880.824 1466.29 Q881.842 1466.11 882.861 1466.11 Q888.648 1466.11 892.028 1469.28 Q895.407 1472.45 895.407 1477.87 Q895.407 1483.45 891.935 1486.55 Q888.463 1489.63 882.143 1489.63 Q879.967 1489.63 877.699 1489.26 Q875.454 1488.89 873.046 1488.15 L873.046 1483.45 Q875.13 1484.58 877.352 1485.14 Q879.574 1485.69 882.051 1485.69 Q886.055 1485.69 888.393 1483.59 Q890.731 1481.48 890.731 1477.87 Q890.731 1474.26 888.393 1472.15 Q886.055 1470.04 882.051 1470.04 Q880.176 1470.04 878.301 1470.46 Q876.449 1470.88 874.505 1471.76 L874.505 1454.4 Z\" fill=\"#000000\" fill-rule=\"evenodd\" fill-opacity=\"1\" /><path clip-path=\"url(#clip030)\" d=\"M904.62 1483.08 L909.504 1483.08 L909.504 1488.96 L904.62 1488.96 L904.62 1483.08 Z\" fill=\"#000000\" fill-rule=\"evenodd\" fill-opacity=\"1\" /><path clip-path=\"url(#clip030)\" d=\"M929.689 1457.48 Q926.078 1457.48 924.25 1461.04 Q922.444 1464.58 922.444 1471.71 Q922.444 1478.82 924.25 1482.38 Q926.078 1485.92 929.689 1485.92 Q933.324 1485.92 935.129 1482.38 Q936.958 1478.82 936.958 1471.71 Q936.958 1464.58 935.129 1461.04 Q933.324 1457.48 929.689 1457.48 M929.689 1453.77 Q935.5 1453.77 938.555 1458.38 Q941.634 1462.96 941.634 1471.71 Q941.634 1480.44 938.555 1485.04 Q935.5 1489.63 929.689 1489.63 Q923.879 1489.63 920.801 1485.04 Q917.745 1480.44 917.745 1471.71 Q917.745 1462.96 920.801 1458.38 Q923.879 1453.77 929.689 1453.77 Z\" fill=\"#000000\" fill-rule=\"evenodd\" fill-opacity=\"1\" /><path clip-path=\"url(#clip030)\" d=\"M959.851 1457.48 Q956.24 1457.48 954.411 1461.04 Q952.606 1464.58 952.606 1471.71 Q952.606 1478.82 954.411 1482.38 Q956.24 1485.92 959.851 1485.92 Q963.486 1485.92 965.291 1482.38 Q967.12 1478.82 967.12 1471.71 Q967.12 1464.58 965.291 1461.04 Q963.486 1457.48 959.851 1457.48 M959.851 1453.77 Q965.661 1453.77 968.717 1458.38 Q971.796 1462.96 971.796 1471.71 Q971.796 1480.44 968.717 1485.04 Q965.661 1489.63 959.851 1489.63 Q954.041 1489.63 950.962 1485.04 Q947.907 1480.44 947.907 1471.71 Q947.907 1462.96 950.962 1458.38 Q954.041 1453.77 959.851 1453.77 Z\" fill=\"#000000\" fill-rule=\"evenodd\" fill-opacity=\"1\" /><path clip-path=\"url(#clip030)\" d=\"M1008.18 1463.49 L997.606 1474.12 L1008.18 1484.7 L1005.43 1487.5 L994.805 1476.87 L984.18 1487.5 L981.448 1484.7 L992.004 1474.12 L981.448 1463.49 L984.18 1460.69 L994.805 1471.32 L1005.43 1460.69 L1008.18 1463.49 Z\" fill=\"#000000\" fill-rule=\"evenodd\" fill-opacity=\"1\" /><path clip-path=\"url(#clip030)\" d=\"M1020.55 1485.02 L1028.18 1485.02 L1028.18 1458.66 L1019.87 1460.32 L1019.87 1456.06 L1028.14 1454.4 L1032.81 1454.4 L1032.81 1485.02 L1040.45 1485.02 L1040.45 1488.96 L1020.55 1488.96 L1020.55 1485.02 Z\" fill=\"#000000\" fill-rule=\"evenodd\" fill-opacity=\"1\" /><path clip-path=\"url(#clip030)\" d=\"M1059.9 1457.48 Q1056.29 1457.48 1054.46 1461.04 Q1052.65 1464.58 1052.65 1471.71 Q1052.65 1478.82 1054.46 1482.38 Q1056.29 1485.92 1059.9 1485.92 Q1063.53 1485.92 1065.34 1482.38 Q1067.17 1478.82 1067.17 1471.71 Q1067.17 1464.58 1065.34 1461.04 Q1063.53 1457.48 1059.9 1457.48 M1059.9 1453.77 Q1065.71 1453.77 1068.76 1458.38 Q1071.84 1462.96 1071.84 1471.71 Q1071.84 1480.44 1068.76 1485.04 Q1065.71 1489.63 1059.9 1489.63 Q1054.09 1489.63 1051.01 1485.04 Q1047.95 1480.44 1047.95 1471.71 Q1047.95 1462.96 1051.01 1458.38 Q1054.09 1453.77 1059.9 1453.77 Z\" fill=\"#000000\" fill-rule=\"evenodd\" fill-opacity=\"1\" /><path clip-path=\"url(#clip030)\" d=\"M1073.03 1433.47 L1087.94 1433.47 L1087.94 1436.66 L1076.51 1436.66 L1076.51 1443.55 Q1077.33 1443.27 1078.16 1443.13 Q1078.99 1442.98 1079.82 1442.98 Q1084.52 1442.98 1087.26 1445.56 Q1090.01 1448.14 1090.01 1452.54 Q1090.01 1457.07 1087.19 1459.59 Q1084.37 1462.09 1079.23 1462.09 Q1077.46 1462.09 1075.62 1461.79 Q1073.8 1461.49 1071.84 1460.89 L1071.84 1457.07 Q1073.53 1457.99 1075.34 1458.44 Q1077.15 1458.89 1079.16 1458.89 Q1082.41 1458.89 1084.31 1457.18 Q1086.21 1455.47 1086.21 1452.54 Q1086.21 1449.6 1084.31 1447.89 Q1082.41 1446.18 1079.16 1446.18 Q1077.63 1446.18 1076.11 1446.52 Q1074.61 1446.86 1073.03 1447.57 L1073.03 1433.47 Z\" fill=\"#000000\" fill-rule=\"evenodd\" fill-opacity=\"1\" /><path clip-path=\"url(#clip030)\" d=\"M1530.16 1485.02 L1537.8 1485.02 L1537.8 1458.66 L1529.49 1460.32 L1529.49 1456.06 L1537.75 1454.4 L1542.43 1454.4 L1542.43 1485.02 L1550.07 1485.02 L1550.07 1488.96 L1530.16 1488.96 L1530.16 1485.02 Z\" fill=\"#000000\" fill-rule=\"evenodd\" fill-opacity=\"1\" /><path clip-path=\"url(#clip030)\" d=\"M1559.51 1483.08 L1564.4 1483.08 L1564.4 1488.96 L1559.51 1488.96 L1559.51 1483.08 Z\" fill=\"#000000\" fill-rule=\"evenodd\" fill-opacity=\"1\" /><path clip-path=\"url(#clip030)\" d=\"M1584.58 1457.48 Q1580.97 1457.48 1579.14 1461.04 Q1577.34 1464.58 1577.34 1471.71 Q1577.34 1478.82 1579.14 1482.38 Q1580.97 1485.92 1584.58 1485.92 Q1588.22 1485.92 1590.02 1482.38 Q1591.85 1478.82 1591.85 1471.71 Q1591.85 1464.58 1590.02 1461.04 Q1588.22 1457.48 1584.58 1457.48 M1584.58 1453.77 Q1590.39 1453.77 1593.45 1458.38 Q1596.53 1462.96 1596.53 1471.71 Q1596.53 1480.44 1593.45 1485.04 Q1590.39 1489.63 1584.58 1489.63 Q1578.77 1489.63 1575.69 1485.04 Q1572.64 1480.44 1572.64 1471.71 Q1572.64 1462.96 1575.69 1458.38 Q1578.77 1453.77 1584.58 1453.77 Z\" fill=\"#000000\" fill-rule=\"evenodd\" fill-opacity=\"1\" /><path clip-path=\"url(#clip030)\" d=\"M1614.74 1457.48 Q1611.13 1457.48 1609.3 1461.04 Q1607.5 1464.58 1607.5 1471.71 Q1607.5 1478.82 1609.3 1482.38 Q1611.13 1485.92 1614.74 1485.92 Q1618.38 1485.92 1620.18 1482.38 Q1622.01 1478.82 1622.01 1471.71 Q1622.01 1464.58 1620.18 1461.04 Q1618.38 1457.48 1614.74 1457.48 M1614.74 1453.77 Q1620.55 1453.77 1623.61 1458.38 Q1626.69 1462.96 1626.69 1471.71 Q1626.69 1480.44 1623.61 1485.04 Q1620.55 1489.63 1614.74 1489.63 Q1608.93 1489.63 1605.85 1485.04 Q1602.8 1480.44 1602.8 1471.71 Q1602.8 1462.96 1605.85 1458.38 Q1608.93 1453.77 1614.74 1453.77 Z\" fill=\"#000000\" fill-rule=\"evenodd\" fill-opacity=\"1\" /><path clip-path=\"url(#clip030)\" d=\"M1663.08 1463.49 L1652.5 1474.12 L1663.08 1484.7 L1660.32 1487.5 L1649.7 1476.87 L1639.07 1487.5 L1636.34 1484.7 L1646.9 1474.12 L1636.34 1463.49 L1639.07 1460.69 L1649.7 1471.32 L1660.32 1460.69 L1663.08 1463.49 Z\" fill=\"#000000\" fill-rule=\"evenodd\" fill-opacity=\"1\" /><path clip-path=\"url(#clip030)\" d=\"M1675.44 1485.02 L1683.08 1485.02 L1683.08 1458.66 L1674.77 1460.32 L1674.77 1456.06 L1683.03 1454.4 L1687.71 1454.4 L1687.71 1485.02 L1695.34 1485.02 L1695.34 1488.96 L1675.44 1488.96 L1675.44 1485.02 Z\" fill=\"#000000\" fill-rule=\"evenodd\" fill-opacity=\"1\" /><path clip-path=\"url(#clip030)\" d=\"M1714.79 1457.48 Q1711.18 1457.48 1709.35 1461.04 Q1707.54 1464.58 1707.54 1471.71 Q1707.54 1478.82 1709.35 1482.38 Q1711.18 1485.92 1714.79 1485.92 Q1718.42 1485.92 1720.23 1482.38 Q1722.06 1478.82 1722.06 1471.71 Q1722.06 1464.58 1720.23 1461.04 Q1718.42 1457.48 1714.79 1457.48 M1714.79 1453.77 Q1720.6 1453.77 1723.65 1458.38 Q1726.73 1462.96 1726.73 1471.71 Q1726.73 1480.44 1723.65 1485.04 Q1720.6 1489.63 1714.79 1489.63 Q1708.98 1489.63 1705.9 1485.04 Q1702.84 1480.44 1702.84 1471.71 Q1702.84 1462.96 1705.9 1458.38 Q1708.98 1453.77 1714.79 1453.77 Z\" fill=\"#000000\" fill-rule=\"evenodd\" fill-opacity=\"1\" /><path clip-path=\"url(#clip030)\" d=\"M1736.76 1445.99 Q1734.2 1445.99 1732.7 1447.74 Q1731.21 1449.49 1731.21 1452.54 Q1731.21 1455.57 1732.7 1457.33 Q1734.2 1459.08 1736.76 1459.08 Q1739.32 1459.08 1740.8 1457.33 Q1742.31 1455.57 1742.31 1452.54 Q1742.31 1449.49 1740.8 1447.74 Q1739.32 1445.99 1736.76 1445.99 M1744.3 1434.09 L1744.3 1437.55 Q1742.87 1436.87 1741.4 1436.51 Q1739.95 1436.16 1738.53 1436.16 Q1734.76 1436.16 1732.77 1438.69 Q1730.8 1441.23 1730.51 1446.37 Q1731.62 1444.73 1733.3 1443.87 Q1734.97 1442.98 1736.98 1442.98 Q1741.22 1442.98 1743.66 1445.56 Q1746.12 1448.12 1746.12 1452.54 Q1746.12 1456.86 1743.57 1459.48 Q1741.01 1462.09 1736.76 1462.09 Q1731.89 1462.09 1729.31 1458.37 Q1726.73 1454.62 1726.73 1447.53 Q1726.73 1440.88 1729.89 1436.93 Q1733.05 1432.96 1738.38 1432.96 Q1739.8 1432.96 1741.25 1433.24 Q1742.72 1433.52 1744.3 1434.09 Z\" fill=\"#000000\" fill-rule=\"evenodd\" fill-opacity=\"1\" /><path clip-path=\"url(#clip030)\" d=\"M2186.44 1485.02 L2194.08 1485.02 L2194.08 1458.66 L2185.77 1460.32 L2185.77 1456.06 L2194.03 1454.4 L2198.71 1454.4 L2198.71 1485.02 L2206.35 1485.02 L2206.35 1488.96 L2186.44 1488.96 L2186.44 1485.02 Z\" fill=\"#000000\" fill-rule=\"evenodd\" fill-opacity=\"1\" /><path clip-path=\"url(#clip030)\" d=\"M2215.79 1483.08 L2220.67 1483.08 L2220.67 1488.96 L2215.79 1488.96 L2215.79 1483.08 Z\" fill=\"#000000\" fill-rule=\"evenodd\" fill-opacity=\"1\" /><path clip-path=\"url(#clip030)\" d=\"M2230.91 1454.4 L2249.26 1454.4 L2249.26 1458.33 L2235.19 1458.33 L2235.19 1466.8 Q2236.21 1466.46 2237.23 1466.29 Q2238.24 1466.11 2239.26 1466.11 Q2245.05 1466.11 2248.43 1469.28 Q2251.81 1472.45 2251.81 1477.87 Q2251.81 1483.45 2248.34 1486.55 Q2244.86 1489.63 2238.54 1489.63 Q2236.37 1489.63 2234.1 1489.26 Q2231.85 1488.89 2229.45 1488.15 L2229.45 1483.45 Q2231.53 1484.58 2233.75 1485.14 Q2235.98 1485.69 2238.45 1485.69 Q2242.46 1485.69 2244.79 1483.59 Q2247.13 1481.48 2247.13 1477.87 Q2247.13 1474.26 2244.79 1472.15 Q2242.46 1470.04 2238.45 1470.04 Q2236.58 1470.04 2234.7 1470.46 Q2232.85 1470.88 2230.91 1471.76 L2230.91 1454.4 Z\" fill=\"#000000\" fill-rule=\"evenodd\" fill-opacity=\"1\" /><path clip-path=\"url(#clip030)\" d=\"M2271.02 1457.48 Q2267.41 1457.48 2265.58 1461.04 Q2263.78 1464.58 2263.78 1471.71 Q2263.78 1478.82 2265.58 1482.38 Q2267.41 1485.92 2271.02 1485.92 Q2274.66 1485.92 2276.46 1482.38 Q2278.29 1478.82 2278.29 1471.71 Q2278.29 1464.58 2276.46 1461.04 Q2274.66 1457.48 2271.02 1457.48 M2271.02 1453.77 Q2276.83 1453.77 2279.89 1458.38 Q2282.97 1462.96 2282.97 1471.71 Q2282.97 1480.44 2279.89 1485.04 Q2276.83 1489.63 2271.02 1489.63 Q2265.21 1489.63 2262.13 1485.04 Q2259.08 1480.44 2259.08 1471.71 Q2259.08 1462.96 2262.13 1458.38 Q2265.21 1453.77 2271.02 1453.77 Z\" fill=\"#000000\" fill-rule=\"evenodd\" fill-opacity=\"1\" /><path clip-path=\"url(#clip030)\" d=\"M2319.35 1463.49 L2308.78 1474.12 L2319.35 1484.7 L2316.6 1487.5 L2305.97 1476.87 L2295.35 1487.5 L2292.62 1484.7 L2303.17 1474.12 L2292.62 1463.49 L2295.35 1460.69 L2305.97 1471.32 L2316.6 1460.69 L2319.35 1463.49 Z\" fill=\"#000000\" fill-rule=\"evenodd\" fill-opacity=\"1\" /><path clip-path=\"url(#clip030)\" d=\"M2331.72 1485.02 L2339.35 1485.02 L2339.35 1458.66 L2331.04 1460.32 L2331.04 1456.06 L2339.31 1454.4 L2343.98 1454.4 L2343.98 1485.02 L2351.62 1485.02 L2351.62 1488.96 L2331.72 1488.96 L2331.72 1485.02 Z\" fill=\"#000000\" fill-rule=\"evenodd\" fill-opacity=\"1\" /><path clip-path=\"url(#clip030)\" d=\"M2371.07 1457.48 Q2367.46 1457.48 2365.63 1461.04 Q2363.82 1464.58 2363.82 1471.71 Q2363.82 1478.82 2365.63 1482.38 Q2367.46 1485.92 2371.07 1485.92 Q2374.7 1485.92 2376.51 1482.38 Q2378.34 1478.82 2378.34 1471.71 Q2378.34 1464.58 2376.51 1461.04 Q2374.7 1457.48 2371.07 1457.48 M2371.07 1453.77 Q2376.88 1453.77 2379.93 1458.38 Q2383.01 1462.96 2383.01 1471.71 Q2383.01 1480.44 2379.93 1485.04 Q2376.88 1489.63 2371.07 1489.63 Q2365.26 1489.63 2362.18 1485.04 Q2359.12 1480.44 2359.12 1471.71 Q2359.12 1462.96 2362.18 1458.38 Q2365.26 1453.77 2371.07 1453.77 Z\" fill=\"#000000\" fill-rule=\"evenodd\" fill-opacity=\"1\" /><path clip-path=\"url(#clip030)\" d=\"M2393.04 1445.99 Q2390.48 1445.99 2388.97 1447.74 Q2387.49 1449.49 2387.49 1452.54 Q2387.49 1455.57 2388.97 1457.33 Q2390.48 1459.08 2393.04 1459.08 Q2395.59 1459.08 2397.08 1457.33 Q2398.58 1455.57 2398.58 1452.54 Q2398.58 1449.49 2397.08 1447.74 Q2395.59 1445.99 2393.04 1445.99 M2400.58 1434.09 L2400.58 1437.55 Q2399.15 1436.87 2397.68 1436.51 Q2396.23 1436.16 2394.8 1436.16 Q2391.04 1436.16 2389.05 1438.69 Q2387.07 1441.23 2386.79 1446.37 Q2387.9 1444.73 2389.58 1443.87 Q2391.25 1442.98 2393.26 1442.98 Q2397.49 1442.98 2399.94 1445.56 Q2402.4 1448.12 2402.4 1452.54 Q2402.4 1456.86 2399.84 1459.48 Q2397.29 1462.09 2393.04 1462.09 Q2388.16 1462.09 2385.59 1458.37 Q2383.01 1454.62 2383.01 1447.53 Q2383.01 1440.88 2386.17 1436.93 Q2389.33 1432.96 2394.65 1432.96 Q2396.08 1432.96 2397.53 1433.24 Q2399 1433.52 2400.58 1434.09 Z\" fill=\"#000000\" fill-rule=\"evenodd\" fill-opacity=\"1\" /><path clip-path=\"url(#clip030)\" d=\"M1165.79 1526.67 L1172.22 1526.67 L1172.22 1574.19 L1165.79 1574.19 L1165.79 1526.67 Z\" fill=\"#000000\" fill-rule=\"evenodd\" fill-opacity=\"1\" /><path clip-path=\"url(#clip030)\" d=\"M1190.55 1528.42 L1190.55 1538.54 L1202.62 1538.54 L1202.62 1543.09 L1190.55 1543.09 L1190.55 1562.44 Q1190.55 1566.8 1191.73 1568.04 Q1192.94 1569.28 1196.6 1569.28 L1202.62 1569.28 L1202.62 1574.19 L1196.6 1574.19 Q1189.82 1574.19 1187.24 1571.67 Q1184.67 1569.12 1184.67 1562.44 L1184.67 1543.09 L1180.37 1543.09 L1180.37 1538.54 L1184.67 1538.54 L1184.67 1528.42 L1190.55 1528.42 Z\" fill=\"#000000\" fill-rule=\"evenodd\" fill-opacity=\"1\" /><path clip-path=\"url(#clip030)\" d=\"M1240.81 1554.9 L1240.81 1557.76 L1213.89 1557.76 Q1214.27 1563.81 1217.51 1566.99 Q1220.79 1570.14 1226.62 1570.14 Q1229.99 1570.14 1233.14 1569.32 Q1236.32 1568.49 1239.44 1566.83 L1239.44 1572.37 Q1236.29 1573.71 1232.98 1574.41 Q1229.67 1575.11 1226.27 1575.11 Q1217.74 1575.11 1212.74 1570.14 Q1207.77 1565.18 1207.77 1556.71 Q1207.77 1547.96 1212.48 1542.83 Q1217.23 1537.68 1225.25 1537.68 Q1232.44 1537.68 1236.61 1542.33 Q1240.81 1546.94 1240.81 1554.9 M1234.96 1553.18 Q1234.89 1548.37 1232.25 1545.51 Q1229.64 1542.64 1225.31 1542.64 Q1220.41 1542.64 1217.45 1545.41 Q1214.52 1548.18 1214.08 1553.21 L1234.96 1553.18 Z\" fill=\"#000000\" fill-rule=\"evenodd\" fill-opacity=\"1\" /><path clip-path=\"url(#clip030)\" d=\"M1271.08 1544.01 Q1270.09 1543.44 1268.92 1543.18 Q1267.77 1542.9 1266.37 1542.9 Q1261.41 1542.9 1258.73 1546.14 Q1256.09 1549.36 1256.09 1555.41 L1256.09 1574.19 L1250.2 1574.19 L1250.2 1538.54 L1256.09 1538.54 L1256.09 1544.08 Q1257.94 1540.83 1260.9 1539.27 Q1263.86 1537.68 1268.09 1537.68 Q1268.69 1537.68 1269.43 1537.77 Q1270.16 1537.84 1271.05 1538 L1271.08 1544.01 Z\" fill=\"#000000\" fill-rule=\"evenodd\" fill-opacity=\"1\" /><path clip-path=\"url(#clip030)\" d=\"M1293.42 1556.27 Q1286.33 1556.27 1283.59 1557.89 Q1280.85 1559.51 1280.85 1563.43 Q1280.85 1566.55 1282.89 1568.39 Q1284.96 1570.21 1288.49 1570.21 Q1293.36 1570.21 1296.29 1566.77 Q1299.25 1563.3 1299.25 1557.57 L1299.25 1556.27 L1293.42 1556.27 M1305.11 1553.85 L1305.11 1574.19 L1299.25 1574.19 L1299.25 1568.77 Q1297.24 1572.02 1294.25 1573.58 Q1291.26 1575.11 1286.93 1575.11 Q1281.46 1575.11 1278.21 1572.05 Q1275 1568.97 1275 1563.81 Q1275 1557.79 1279.01 1554.74 Q1283.05 1551.68 1291.04 1551.68 L1299.25 1551.68 L1299.25 1551.11 Q1299.25 1547.07 1296.58 1544.87 Q1293.93 1542.64 1289.13 1542.64 Q1286.07 1542.64 1283.18 1543.38 Q1280.28 1544.11 1277.61 1545.57 L1277.61 1540.16 Q1280.82 1538.92 1283.84 1538.31 Q1286.87 1537.68 1289.73 1537.68 Q1297.47 1537.68 1301.29 1541.69 Q1305.11 1545.7 1305.11 1553.85 Z\" fill=\"#000000\" fill-rule=\"evenodd\" fill-opacity=\"1\" /><path clip-path=\"url(#clip030)\" d=\"M1322.96 1528.42 L1322.96 1538.54 L1335.02 1538.54 L1335.02 1543.09 L1322.96 1543.09 L1322.96 1562.44 Q1322.96 1566.8 1324.14 1568.04 Q1325.35 1569.28 1329.01 1569.28 L1335.02 1569.28 L1335.02 1574.19 L1329.01 1574.19 Q1322.23 1574.19 1319.65 1571.67 Q1317.07 1569.12 1317.07 1562.44 L1317.07 1543.09 L1312.78 1543.09 L1312.78 1538.54 L1317.07 1538.54 L1317.07 1528.42 L1322.96 1528.42 Z\" fill=\"#000000\" fill-rule=\"evenodd\" fill-opacity=\"1\" /><path clip-path=\"url(#clip030)\" d=\"M1342.73 1538.54 L1348.58 1538.54 L1348.58 1574.19 L1342.73 1574.19 L1342.73 1538.54 M1342.73 1524.66 L1348.58 1524.66 L1348.58 1532.08 L1342.73 1532.08 L1342.73 1524.66 Z\" fill=\"#000000\" fill-rule=\"evenodd\" fill-opacity=\"1\" /><path clip-path=\"url(#clip030)\" d=\"M1374.65 1542.64 Q1369.94 1542.64 1367.2 1546.34 Q1364.47 1550 1364.47 1556.39 Q1364.47 1562.79 1367.17 1566.48 Q1369.91 1570.14 1374.65 1570.14 Q1379.33 1570.14 1382.07 1566.45 Q1384.8 1562.76 1384.8 1556.39 Q1384.8 1550.06 1382.07 1546.37 Q1379.33 1542.64 1374.65 1542.64 M1374.65 1537.68 Q1382.29 1537.68 1386.65 1542.64 Q1391.01 1547.61 1391.01 1556.39 Q1391.01 1565.15 1386.65 1570.14 Q1382.29 1575.11 1374.65 1575.11 Q1366.98 1575.11 1362.62 1570.14 Q1358.29 1565.15 1358.29 1556.39 Q1358.29 1547.61 1362.62 1542.64 Q1366.98 1537.68 1374.65 1537.68 Z\" fill=\"#000000\" fill-rule=\"evenodd\" fill-opacity=\"1\" /><path clip-path=\"url(#clip030)\" d=\"M1430.35 1552.67 L1430.35 1574.19 L1424.49 1574.19 L1424.49 1552.86 Q1424.49 1547.8 1422.52 1545.29 Q1420.55 1542.77 1416.6 1542.77 Q1411.86 1542.77 1409.12 1545.79 Q1406.38 1548.82 1406.38 1554.04 L1406.38 1574.19 L1400.5 1574.19 L1400.5 1538.54 L1406.38 1538.54 L1406.38 1544.08 Q1408.48 1540.86 1411.32 1539.27 Q1414.18 1537.68 1417.91 1537.68 Q1424.05 1537.68 1427.2 1541.5 Q1430.35 1545.29 1430.35 1552.67 Z\" fill=\"#000000\" fill-rule=\"evenodd\" fill-opacity=\"1\" /><path clip-path=\"url(#clip030)\" d=\"M1464.76 1539.59 L1464.76 1545.13 Q1462.28 1543.85 1459.6 1543.22 Q1456.93 1542.58 1454.06 1542.58 Q1449.7 1542.58 1447.51 1543.92 Q1445.34 1545.25 1445.34 1547.93 Q1445.34 1549.96 1446.9 1551.14 Q1448.46 1552.29 1453.17 1553.34 L1455.18 1553.78 Q1461.42 1555.12 1464.03 1557.57 Q1466.67 1559.99 1466.67 1564.35 Q1466.67 1569.32 1462.72 1572.21 Q1458.81 1575.11 1451.93 1575.11 Q1449.07 1575.11 1445.95 1574.54 Q1442.86 1573.99 1439.42 1572.88 L1439.42 1566.83 Q1442.67 1568.52 1445.82 1569.38 Q1448.97 1570.21 1452.06 1570.21 Q1456.2 1570.21 1458.42 1568.81 Q1460.65 1567.37 1460.65 1564.8 Q1460.65 1562.41 1459.03 1561.14 Q1457.44 1559.86 1451.99 1558.68 L1449.96 1558.21 Q1444.51 1557.06 1442.1 1554.71 Q1439.68 1552.32 1439.68 1548.18 Q1439.68 1543.15 1443.24 1540.42 Q1446.81 1537.68 1453.36 1537.68 Q1456.61 1537.68 1459.47 1538.16 Q1462.34 1538.63 1464.76 1539.59 Z\" fill=\"#000000\" fill-rule=\"evenodd\" fill-opacity=\"1\" /><polyline clip-path=\"url(#clip032)\" style=\"stroke:#000000; stroke-linecap:round; stroke-linejoin:round; stroke-width:2; stroke-opacity:0.1; fill:none\" points=\"\n",
       "  279.704,1157.89 2352.76,1157.89 \n",
       "  \"/>\n",
       "<polyline clip-path=\"url(#clip032)\" style=\"stroke:#000000; stroke-linecap:round; stroke-linejoin:round; stroke-width:2; stroke-opacity:0.1; fill:none\" points=\"\n",
       "  279.704,889.878 2352.76,889.878 \n",
       "  \"/>\n",
       "<polyline clip-path=\"url(#clip032)\" style=\"stroke:#000000; stroke-linecap:round; stroke-linejoin:round; stroke-width:2; stroke-opacity:0.1; fill:none\" points=\"\n",
       "  279.704,621.865 2352.76,621.865 \n",
       "  \"/>\n",
       "<polyline clip-path=\"url(#clip032)\" style=\"stroke:#000000; stroke-linecap:round; stroke-linejoin:round; stroke-width:2; stroke-opacity:0.1; fill:none\" points=\"\n",
       "  279.704,353.852 2352.76,353.852 \n",
       "  \"/>\n",
       "<polyline clip-path=\"url(#clip032)\" style=\"stroke:#000000; stroke-linecap:round; stroke-linejoin:round; stroke-width:2; stroke-opacity:0.1; fill:none\" points=\"\n",
       "  279.704,85.838 2352.76,85.838 \n",
       "  \"/>\n",
       "<polyline clip-path=\"url(#clip030)\" style=\"stroke:#000000; stroke-linecap:round; stroke-linejoin:round; stroke-width:4; stroke-opacity:1; fill:none\" points=\"\n",
       "  279.704,1410.9 279.704,47.2441 \n",
       "  \"/>\n",
       "<polyline clip-path=\"url(#clip030)\" style=\"stroke:#000000; stroke-linecap:round; stroke-linejoin:round; stroke-width:4; stroke-opacity:1; fill:none\" points=\"\n",
       "  279.704,1157.89 298.602,1157.89 \n",
       "  \"/>\n",
       "<polyline clip-path=\"url(#clip030)\" style=\"stroke:#000000; stroke-linecap:round; stroke-linejoin:round; stroke-width:4; stroke-opacity:1; fill:none\" points=\"\n",
       "  279.704,889.878 298.602,889.878 \n",
       "  \"/>\n",
       "<polyline clip-path=\"url(#clip030)\" style=\"stroke:#000000; stroke-linecap:round; stroke-linejoin:round; stroke-width:4; stroke-opacity:1; fill:none\" points=\"\n",
       "  279.704,621.865 298.602,621.865 \n",
       "  \"/>\n",
       "<polyline clip-path=\"url(#clip030)\" style=\"stroke:#000000; stroke-linecap:round; stroke-linejoin:round; stroke-width:4; stroke-opacity:1; fill:none\" points=\"\n",
       "  279.704,353.852 298.602,353.852 \n",
       "  \"/>\n",
       "<polyline clip-path=\"url(#clip030)\" style=\"stroke:#000000; stroke-linecap:round; stroke-linejoin:round; stroke-width:4; stroke-opacity:1; fill:none\" points=\"\n",
       "  279.704,85.838 298.602,85.838 \n",
       "  \"/>\n",
       "<path clip-path=\"url(#clip030)\" d=\"M126.205 1143.69 Q122.593 1143.69 120.765 1147.26 Q118.959 1150.8 118.959 1157.93 Q118.959 1165.03 120.765 1168.6 Q122.593 1172.14 126.205 1172.14 Q129.839 1172.14 131.644 1168.6 Q133.473 1165.03 133.473 1157.93 Q133.473 1150.8 131.644 1147.26 Q129.839 1143.69 126.205 1143.69 M126.205 1139.99 Q132.015 1139.99 135.07 1144.59 Q138.149 1149.18 138.149 1157.93 Q138.149 1166.65 135.07 1171.26 Q132.015 1175.84 126.205 1175.84 Q120.394 1175.84 117.316 1171.26 Q114.26 1166.65 114.26 1157.93 Q114.26 1149.18 117.316 1144.59 Q120.394 1139.99 126.205 1139.99 Z\" fill=\"#000000\" fill-rule=\"evenodd\" fill-opacity=\"1\" /><path clip-path=\"url(#clip030)\" d=\"M146.366 1169.29 L151.251 1169.29 L151.251 1175.17 L146.366 1175.17 L146.366 1169.29 Z\" fill=\"#000000\" fill-rule=\"evenodd\" fill-opacity=\"1\" /><path clip-path=\"url(#clip030)\" d=\"M161.575 1174.45 L161.575 1170.2 Q163.334 1171.03 165.14 1171.47 Q166.945 1171.91 168.681 1171.91 Q173.311 1171.91 175.741 1168.81 Q178.195 1165.68 178.542 1159.34 Q177.2 1161.33 175.139 1162.39 Q173.079 1163.46 170.579 1163.46 Q165.394 1163.46 162.362 1160.33 Q159.353 1157.19 159.353 1151.75 Q159.353 1146.42 162.501 1143.2 Q165.649 1139.99 170.88 1139.99 Q176.876 1139.99 180.024 1144.59 Q183.195 1149.18 183.195 1157.93 Q183.195 1166.1 179.306 1170.98 Q175.44 1175.84 168.889 1175.84 Q167.13 1175.84 165.325 1175.5 Q163.519 1175.15 161.575 1174.45 M170.88 1159.8 Q174.028 1159.8 175.857 1157.65 Q177.709 1155.5 177.709 1151.75 Q177.709 1148.02 175.857 1145.87 Q174.028 1143.69 170.88 1143.69 Q167.732 1143.69 165.88 1145.87 Q164.052 1148.02 164.052 1151.75 Q164.052 1155.5 165.88 1157.65 Q167.732 1159.8 170.88 1159.8 Z\" fill=\"#000000\" fill-rule=\"evenodd\" fill-opacity=\"1\" /><path clip-path=\"url(#clip030)\" d=\"M201.598 1143.69 Q197.987 1143.69 196.158 1147.26 Q194.352 1150.8 194.352 1157.93 Q194.352 1165.03 196.158 1168.6 Q197.987 1172.14 201.598 1172.14 Q205.232 1172.14 207.037 1168.6 Q208.866 1165.03 208.866 1157.93 Q208.866 1150.8 207.037 1147.26 Q205.232 1143.69 201.598 1143.69 M201.598 1139.99 Q207.408 1139.99 210.463 1144.59 Q213.542 1149.18 213.542 1157.93 Q213.542 1166.65 210.463 1171.26 Q207.408 1175.84 201.598 1175.84 Q195.787 1175.84 192.709 1171.26 Q189.653 1166.65 189.653 1157.93 Q189.653 1149.18 192.709 1144.59 Q195.787 1139.99 201.598 1139.99 Z\" fill=\"#000000\" fill-rule=\"evenodd\" fill-opacity=\"1\" /><path clip-path=\"url(#clip030)\" d=\"M231.76 1143.69 Q228.148 1143.69 226.32 1147.26 Q224.514 1150.8 224.514 1157.93 Q224.514 1165.03 226.32 1168.6 Q228.148 1172.14 231.76 1172.14 Q235.394 1172.14 237.199 1168.6 Q239.028 1165.03 239.028 1157.93 Q239.028 1150.8 237.199 1147.26 Q235.394 1143.69 231.76 1143.69 M231.76 1139.99 Q237.57 1139.99 240.625 1144.59 Q243.704 1149.18 243.704 1157.93 Q243.704 1166.65 240.625 1171.26 Q237.57 1175.84 231.76 1175.84 Q225.949 1175.84 222.871 1171.26 Q219.815 1166.65 219.815 1157.93 Q219.815 1149.18 222.871 1144.59 Q225.949 1139.99 231.76 1139.99 Z\" fill=\"#000000\" fill-rule=\"evenodd\" fill-opacity=\"1\" /><path clip-path=\"url(#clip030)\" d=\"M127.2 875.677 Q123.589 875.677 121.76 879.242 Q119.955 882.784 119.955 889.913 Q119.955 897.02 121.76 900.584 Q123.589 904.126 127.2 904.126 Q130.834 904.126 132.64 900.584 Q134.468 897.02 134.468 889.913 Q134.468 882.784 132.64 879.242 Q130.834 875.677 127.2 875.677 M127.2 871.973 Q133.01 871.973 136.066 876.58 Q139.144 881.163 139.144 889.913 Q139.144 898.64 136.066 903.246 Q133.01 907.83 127.2 907.83 Q121.39 907.83 118.311 903.246 Q115.256 898.64 115.256 889.913 Q115.256 881.163 118.311 876.58 Q121.39 871.973 127.2 871.973 Z\" fill=\"#000000\" fill-rule=\"evenodd\" fill-opacity=\"1\" /><path clip-path=\"url(#clip030)\" d=\"M147.362 901.279 L152.246 901.279 L152.246 907.158 L147.362 907.158 L147.362 901.279 Z\" fill=\"#000000\" fill-rule=\"evenodd\" fill-opacity=\"1\" /><path clip-path=\"url(#clip030)\" d=\"M162.57 906.441 L162.57 902.182 Q164.329 903.015 166.135 903.455 Q167.94 903.895 169.677 903.895 Q174.306 903.895 176.737 900.793 Q179.19 897.668 179.538 891.325 Q178.195 893.316 176.135 894.381 Q174.075 895.446 171.575 895.446 Q166.39 895.446 163.357 892.321 Q160.348 889.172 160.348 883.733 Q160.348 878.409 163.496 875.191 Q166.644 871.973 171.876 871.973 Q177.871 871.973 181.019 876.58 Q184.19 881.163 184.19 889.913 Q184.19 898.084 180.301 902.969 Q176.436 907.83 169.885 907.83 Q168.126 907.83 166.32 907.483 Q164.515 907.135 162.57 906.441 M171.876 891.788 Q175.024 891.788 176.852 889.635 Q178.704 887.483 178.704 883.733 Q178.704 880.006 176.852 877.853 Q175.024 875.677 171.876 875.677 Q168.727 875.677 166.876 877.853 Q165.047 880.006 165.047 883.733 Q165.047 887.483 166.876 889.635 Q168.727 891.788 171.876 891.788 Z\" fill=\"#000000\" fill-rule=\"evenodd\" fill-opacity=\"1\" /><path clip-path=\"url(#clip030)\" d=\"M196.621 903.223 L212.94 903.223 L212.94 907.158 L190.996 907.158 L190.996 903.223 Q193.658 900.469 198.241 895.839 Q202.848 891.186 204.028 889.844 Q206.274 887.321 207.153 885.584 Q208.056 883.825 208.056 882.135 Q208.056 879.381 206.112 877.645 Q204.19 875.909 201.088 875.909 Q198.889 875.909 196.436 876.673 Q194.005 877.436 191.227 878.987 L191.227 874.265 Q194.051 873.131 196.505 872.552 Q198.959 871.973 200.996 871.973 Q206.366 871.973 209.561 874.659 Q212.755 877.344 212.755 881.835 Q212.755 883.964 211.945 885.885 Q211.158 887.784 209.051 890.376 Q208.473 891.047 205.371 894.265 Q202.269 897.459 196.621 903.223 Z\" fill=\"#000000\" fill-rule=\"evenodd\" fill-opacity=\"1\" /><path clip-path=\"url(#clip030)\" d=\"M222.801 872.598 L241.158 872.598 L241.158 876.534 L227.084 876.534 L227.084 885.006 Q228.102 884.659 229.121 884.497 Q230.139 884.311 231.158 884.311 Q236.945 884.311 240.324 887.483 Q243.704 890.654 243.704 896.071 Q243.704 901.649 240.232 904.751 Q236.76 907.83 230.44 907.83 Q228.264 907.83 225.996 907.459 Q223.75 907.089 221.343 906.348 L221.343 901.649 Q223.426 902.783 225.648 903.339 Q227.871 903.895 230.347 903.895 Q234.352 903.895 236.69 901.788 Q239.028 899.682 239.028 896.071 Q239.028 892.459 236.69 890.353 Q234.352 888.247 230.347 888.247 Q228.473 888.247 226.598 888.663 Q224.746 889.08 222.801 889.959 L222.801 872.598 Z\" fill=\"#000000\" fill-rule=\"evenodd\" fill-opacity=\"1\" /><path clip-path=\"url(#clip030)\" d=\"M126.205 607.664 Q122.593 607.664 120.765 611.228 Q118.959 614.77 118.959 621.9 Q118.959 629.006 120.765 632.571 Q122.593 636.113 126.205 636.113 Q129.839 636.113 131.644 632.571 Q133.473 629.006 133.473 621.9 Q133.473 614.77 131.644 611.228 Q129.839 607.664 126.205 607.664 M126.205 603.96 Q132.015 603.96 135.07 608.566 Q138.149 613.15 138.149 621.9 Q138.149 630.627 135.07 635.233 Q132.015 639.816 126.205 639.816 Q120.394 639.816 117.316 635.233 Q114.26 630.627 114.26 621.9 Q114.26 613.15 117.316 608.566 Q120.394 603.96 126.205 603.96 Z\" fill=\"#000000\" fill-rule=\"evenodd\" fill-opacity=\"1\" /><path clip-path=\"url(#clip030)\" d=\"M146.366 633.265 L151.251 633.265 L151.251 639.145 L146.366 639.145 L146.366 633.265 Z\" fill=\"#000000\" fill-rule=\"evenodd\" fill-opacity=\"1\" /><path clip-path=\"url(#clip030)\" d=\"M161.575 638.427 L161.575 634.168 Q163.334 635.001 165.14 635.441 Q166.945 635.881 168.681 635.881 Q173.311 635.881 175.741 632.779 Q178.195 629.654 178.542 623.312 Q177.2 625.302 175.139 626.367 Q173.079 627.432 170.579 627.432 Q165.394 627.432 162.362 624.307 Q159.353 621.159 159.353 615.719 Q159.353 610.395 162.501 607.178 Q165.649 603.96 170.88 603.96 Q176.876 603.96 180.024 608.566 Q183.195 613.15 183.195 621.9 Q183.195 630.071 179.306 634.955 Q175.44 639.816 168.889 639.816 Q167.13 639.816 165.325 639.469 Q163.519 639.122 161.575 638.427 M170.88 623.775 Q174.028 623.775 175.857 621.622 Q177.709 619.469 177.709 615.719 Q177.709 611.992 175.857 609.84 Q174.028 607.664 170.88 607.664 Q167.732 607.664 165.88 609.84 Q164.052 611.992 164.052 615.719 Q164.052 619.469 165.88 621.622 Q167.732 623.775 170.88 623.775 Z\" fill=\"#000000\" fill-rule=\"evenodd\" fill-opacity=\"1\" /><path clip-path=\"url(#clip030)\" d=\"M191.644 604.585 L210 604.585 L210 608.52 L195.926 608.52 L195.926 616.992 Q196.945 616.645 197.963 616.483 Q198.982 616.298 200 616.298 Q205.787 616.298 209.167 619.469 Q212.547 622.64 212.547 628.057 Q212.547 633.636 209.074 636.738 Q205.602 639.816 199.283 639.816 Q197.107 639.816 194.838 639.446 Q192.593 639.076 190.186 638.335 L190.186 633.636 Q192.269 634.77 194.491 635.326 Q196.713 635.881 199.19 635.881 Q203.195 635.881 205.533 633.775 Q207.871 631.668 207.871 628.057 Q207.871 624.446 205.533 622.34 Q203.195 620.233 199.19 620.233 Q197.315 620.233 195.44 620.65 Q193.588 621.066 191.644 621.946 L191.644 604.585 Z\" fill=\"#000000\" fill-rule=\"evenodd\" fill-opacity=\"1\" /><path clip-path=\"url(#clip030)\" d=\"M231.76 607.664 Q228.148 607.664 226.32 611.228 Q224.514 614.77 224.514 621.9 Q224.514 629.006 226.32 632.571 Q228.148 636.113 231.76 636.113 Q235.394 636.113 237.199 632.571 Q239.028 629.006 239.028 621.9 Q239.028 614.77 237.199 611.228 Q235.394 607.664 231.76 607.664 M231.76 603.96 Q237.57 603.96 240.625 608.566 Q243.704 613.15 243.704 621.9 Q243.704 630.627 240.625 635.233 Q237.57 639.816 231.76 639.816 Q225.949 639.816 222.871 635.233 Q219.815 630.627 219.815 621.9 Q219.815 613.15 222.871 608.566 Q225.949 603.96 231.76 603.96 Z\" fill=\"#000000\" fill-rule=\"evenodd\" fill-opacity=\"1\" /><path clip-path=\"url(#clip030)\" d=\"M127.2 339.65 Q123.589 339.65 121.76 343.215 Q119.955 346.757 119.955 353.886 Q119.955 360.993 121.76 364.557 Q123.589 368.099 127.2 368.099 Q130.834 368.099 132.64 364.557 Q134.468 360.993 134.468 353.886 Q134.468 346.757 132.64 343.215 Q130.834 339.65 127.2 339.65 M127.2 335.947 Q133.01 335.947 136.066 340.553 Q139.144 345.136 139.144 353.886 Q139.144 362.613 136.066 367.219 Q133.01 371.803 127.2 371.803 Q121.39 371.803 118.311 367.219 Q115.256 362.613 115.256 353.886 Q115.256 345.136 118.311 340.553 Q121.39 335.947 127.2 335.947 Z\" fill=\"#000000\" fill-rule=\"evenodd\" fill-opacity=\"1\" /><path clip-path=\"url(#clip030)\" d=\"M147.362 365.252 L152.246 365.252 L152.246 371.132 L147.362 371.132 L147.362 365.252 Z\" fill=\"#000000\" fill-rule=\"evenodd\" fill-opacity=\"1\" /><path clip-path=\"url(#clip030)\" d=\"M162.57 370.414 L162.57 366.155 Q164.329 366.988 166.135 367.428 Q167.94 367.868 169.677 367.868 Q174.306 367.868 176.737 364.766 Q179.19 361.641 179.538 355.298 Q178.195 357.289 176.135 358.354 Q174.075 359.419 171.575 359.419 Q166.39 359.419 163.357 356.294 Q160.348 353.145 160.348 347.706 Q160.348 342.382 163.496 339.164 Q166.644 335.947 171.876 335.947 Q177.871 335.947 181.019 340.553 Q184.19 345.136 184.19 353.886 Q184.19 362.057 180.301 366.942 Q176.436 371.803 169.885 371.803 Q168.126 371.803 166.32 371.456 Q164.515 371.108 162.57 370.414 M171.876 355.761 Q175.024 355.761 176.852 353.608 Q178.704 351.456 178.704 347.706 Q178.704 343.979 176.852 341.826 Q175.024 339.65 171.876 339.65 Q168.727 339.65 166.876 341.826 Q165.047 343.979 165.047 347.706 Q165.047 351.456 166.876 353.608 Q168.727 355.761 171.876 355.761 Z\" fill=\"#000000\" fill-rule=\"evenodd\" fill-opacity=\"1\" /><path clip-path=\"url(#clip030)\" d=\"M191.413 336.572 L213.635 336.572 L213.635 338.562 L201.088 371.132 L196.204 371.132 L208.01 340.507 L191.413 340.507 L191.413 336.572 Z\" fill=\"#000000\" fill-rule=\"evenodd\" fill-opacity=\"1\" /><path clip-path=\"url(#clip030)\" d=\"M222.801 336.572 L241.158 336.572 L241.158 340.507 L227.084 340.507 L227.084 348.979 Q228.102 348.632 229.121 348.47 Q230.139 348.284 231.158 348.284 Q236.945 348.284 240.324 351.456 Q243.704 354.627 243.704 360.044 Q243.704 365.622 240.232 368.724 Q236.76 371.803 230.44 371.803 Q228.264 371.803 225.996 371.432 Q223.75 371.062 221.343 370.321 L221.343 365.622 Q223.426 366.757 225.648 367.312 Q227.871 367.868 230.347 367.868 Q234.352 367.868 236.69 365.761 Q239.028 363.655 239.028 360.044 Q239.028 356.433 236.69 354.326 Q234.352 352.22 230.347 352.22 Q228.473 352.22 226.598 352.636 Q224.746 353.053 222.801 353.933 L222.801 336.572 Z\" fill=\"#000000\" fill-rule=\"evenodd\" fill-opacity=\"1\" /><path clip-path=\"url(#clip030)\" d=\"M117.015 99.1829 L124.654 99.1829 L124.654 72.8173 L116.343 74.4839 L116.343 70.2247 L124.607 68.558 L129.283 68.558 L129.283 99.1829 L136.922 99.1829 L136.922 103.118 L117.015 103.118 L117.015 99.1829 Z\" fill=\"#000000\" fill-rule=\"evenodd\" fill-opacity=\"1\" /><path clip-path=\"url(#clip030)\" d=\"M146.366 97.2384 L151.251 97.2384 L151.251 103.118 L146.366 103.118 L146.366 97.2384 Z\" fill=\"#000000\" fill-rule=\"evenodd\" fill-opacity=\"1\" /><path clip-path=\"url(#clip030)\" d=\"M171.436 71.6367 Q167.825 71.6367 165.996 75.2015 Q164.19 78.7432 164.19 85.8728 Q164.19 92.9792 165.996 96.544 Q167.825 100.086 171.436 100.086 Q175.07 100.086 176.876 96.544 Q178.704 92.9792 178.704 85.8728 Q178.704 78.7432 176.876 75.2015 Q175.07 71.6367 171.436 71.6367 M171.436 67.933 Q177.246 67.933 180.301 72.5395 Q183.38 77.1228 183.38 85.8728 Q183.38 94.5996 180.301 99.206 Q177.246 103.789 171.436 103.789 Q165.626 103.789 162.547 99.206 Q159.491 94.5996 159.491 85.8728 Q159.491 77.1228 162.547 72.5395 Q165.626 67.933 171.436 67.933 Z\" fill=\"#000000\" fill-rule=\"evenodd\" fill-opacity=\"1\" /><path clip-path=\"url(#clip030)\" d=\"M201.598 71.6367 Q197.987 71.6367 196.158 75.2015 Q194.352 78.7432 194.352 85.8728 Q194.352 92.9792 196.158 96.544 Q197.987 100.086 201.598 100.086 Q205.232 100.086 207.037 96.544 Q208.866 92.9792 208.866 85.8728 Q208.866 78.7432 207.037 75.2015 Q205.232 71.6367 201.598 71.6367 M201.598 67.933 Q207.408 67.933 210.463 72.5395 Q213.542 77.1228 213.542 85.8728 Q213.542 94.5996 210.463 99.206 Q207.408 103.789 201.598 103.789 Q195.787 103.789 192.709 99.206 Q189.653 94.5996 189.653 85.8728 Q189.653 77.1228 192.709 72.5395 Q195.787 67.933 201.598 67.933 Z\" fill=\"#000000\" fill-rule=\"evenodd\" fill-opacity=\"1\" /><path clip-path=\"url(#clip030)\" d=\"M231.76 71.6367 Q228.148 71.6367 226.32 75.2015 Q224.514 78.7432 224.514 85.8728 Q224.514 92.9792 226.32 96.544 Q228.148 100.086 231.76 100.086 Q235.394 100.086 237.199 96.544 Q239.028 92.9792 239.028 85.8728 Q239.028 78.7432 237.199 75.2015 Q235.394 71.6367 231.76 71.6367 M231.76 67.933 Q237.57 67.933 240.625 72.5395 Q243.704 77.1228 243.704 85.8728 Q243.704 94.5996 240.625 99.206 Q237.57 103.789 231.76 103.789 Q225.949 103.789 222.871 99.206 Q219.815 94.5996 219.815 85.8728 Q219.815 77.1228 222.871 72.5395 Q225.949 67.933 231.76 67.933 Z\" fill=\"#000000\" fill-rule=\"evenodd\" fill-opacity=\"1\" /><path clip-path=\"url(#clip030)\" d=\"M18.0438 910.891 L24.314 910.891 Q22.5634 914.551 21.704 917.798 Q20.8447 921.044 20.8447 924.068 Q20.8447 929.32 22.8817 932.184 Q24.9187 935.017 28.6745 935.017 Q31.8255 935.017 33.4488 933.139 Q35.0402 931.229 36.0269 925.946 L36.8226 922.063 Q38.1912 914.869 41.6605 911.464 Q45.098 908.026 50.8908 908.026 Q57.7976 908.026 61.3624 912.673 Q64.9272 917.288 64.9272 926.232 Q64.9272 929.606 64.1633 933.425 Q63.3994 937.213 61.9035 941.287 L55.2831 941.287 Q57.4793 937.372 58.5933 933.616 Q59.7073 929.861 59.7073 926.232 Q59.7073 920.726 57.543 917.734 Q55.3786 914.742 51.3682 914.742 Q47.8671 914.742 45.8937 916.906 Q43.9204 919.039 42.9337 923.941 L42.1698 927.855 Q40.7375 935.049 37.682 938.263 Q34.6264 941.478 29.1837 941.478 Q22.8817 941.478 19.2532 937.054 Q15.6248 932.598 15.6248 924.8 Q15.6248 921.458 16.2295 917.989 Q16.8343 914.519 18.0438 910.891 Z\" fill=\"#000000\" fill-rule=\"evenodd\" fill-opacity=\"1\" /><path clip-path=\"url(#clip030)\" d=\"M49.9359 898.86 L28.3562 898.86 L28.3562 893.003 L49.7131 893.003 Q54.7739 893.003 57.3202 891.03 Q59.8346 889.056 59.8346 885.11 Q59.8346 880.367 56.8109 877.63 Q53.7872 874.861 48.5673 874.861 L28.3562 874.861 L28.3562 869.005 L64.0042 869.005 L64.0042 874.861 L58.5296 874.861 Q61.7762 876.993 63.3676 879.826 Q64.9272 882.627 64.9272 886.351 Q64.9272 892.494 61.1078 895.677 Q57.2883 898.86 49.9359 898.86 M27.4968 884.123 L27.4968 884.123 Z\" fill=\"#000000\" fill-rule=\"evenodd\" fill-opacity=\"1\" /><path clip-path=\"url(#clip030)\" d=\"M29.7248 831.288 L35.1993 831.288 Q33.8307 833.77 33.1623 836.285 Q32.4621 838.767 32.4621 841.314 Q32.4621 847.011 36.0905 850.162 Q39.6872 853.313 46.212 853.313 Q52.7369 853.313 56.3653 850.162 Q59.9619 847.011 59.9619 841.314 Q59.9619 838.767 59.2935 836.285 Q58.5933 833.77 57.2247 831.288 L62.6355 831.288 Q63.7814 833.738 64.3543 836.38 Q64.9272 838.99 64.9272 841.95 Q64.9272 850.003 59.8664 854.745 Q54.8057 859.488 46.212 859.488 Q37.491 859.488 32.4939 854.714 Q27.4968 849.907 27.4968 841.568 Q27.4968 838.863 28.0697 836.285 Q28.6108 833.707 29.7248 831.288 Z\" fill=\"#000000\" fill-rule=\"evenodd\" fill-opacity=\"1\" /><path clip-path=\"url(#clip030)\" d=\"M29.7248 795.449 L35.1993 795.449 Q33.8307 797.931 33.1623 800.446 Q32.4621 802.928 32.4621 805.475 Q32.4621 811.172 36.0905 814.323 Q39.6872 817.474 46.212 817.474 Q52.7369 817.474 56.3653 814.323 Q59.9619 811.172 59.9619 805.475 Q59.9619 802.928 59.2935 800.446 Q58.5933 797.931 57.2247 795.449 L62.6355 795.449 Q63.7814 797.9 64.3543 800.541 Q64.9272 803.151 64.9272 806.111 Q64.9272 814.164 59.8664 818.906 Q54.8057 823.649 46.212 823.649 Q37.491 823.649 32.4939 818.875 Q27.4968 814.068 27.4968 805.729 Q27.4968 803.024 28.0697 800.446 Q28.6108 797.868 29.7248 795.449 Z\" fill=\"#000000\" fill-rule=\"evenodd\" fill-opacity=\"1\" /><path clip-path=\"url(#clip030)\" d=\"M44.7161 754.772 L47.5806 754.772 L47.5806 781.699 Q53.6281 781.317 56.8109 778.07 Q59.9619 774.792 59.9619 768.967 Q59.9619 765.594 59.1344 762.443 Q58.3069 759.26 56.6518 756.141 L62.1899 756.141 Q63.5267 759.292 64.227 762.602 Q64.9272 765.912 64.9272 769.318 Q64.9272 777.848 59.9619 782.845 Q54.9967 787.81 46.5303 787.81 Q37.7774 787.81 32.6531 783.099 Q27.4968 778.357 27.4968 770.336 Q27.4968 763.143 32.1438 758.973 Q36.7589 754.772 44.7161 754.772 M42.9973 760.628 Q38.1912 760.692 35.3266 763.334 Q32.4621 765.944 32.4621 770.272 Q32.4621 775.174 35.2312 778.134 Q38.0002 781.062 43.0292 781.508 L42.9973 760.628 Z\" fill=\"#000000\" fill-rule=\"evenodd\" fill-opacity=\"1\" /><path clip-path=\"url(#clip030)\" d=\"M29.4065 722.434 L34.9447 722.434 Q33.6716 724.917 33.035 727.59 Q32.3984 730.264 32.3984 733.129 Q32.3984 737.489 33.7352 739.685 Q35.072 741.85 37.7456 741.85 Q39.7826 741.85 40.9603 740.29 Q42.1061 738.73 43.1565 734.02 L43.6021 732.015 Q44.9389 725.776 47.3897 723.166 Q49.8086 720.524 54.1691 720.524 Q59.1344 720.524 62.0308 724.471 Q64.9272 728.386 64.9272 735.261 Q64.9272 738.126 64.3543 741.245 Q63.8132 744.332 62.6992 747.77 L56.6518 747.77 Q58.3387 744.523 59.198 741.372 Q60.0256 738.221 60.0256 735.134 Q60.0256 730.996 58.6251 728.768 Q57.1929 726.54 54.6147 726.54 Q52.2276 726.54 50.9545 728.163 Q49.6813 729.755 48.5037 735.197 L48.0262 737.234 Q46.8804 742.677 44.5251 745.096 Q42.138 747.515 38.0002 747.515 Q32.9713 747.515 30.2341 743.95 Q27.4968 740.385 27.4968 733.829 Q27.4968 730.582 27.9743 727.718 Q28.4517 724.853 29.4065 722.434 Z\" fill=\"#000000\" fill-rule=\"evenodd\" fill-opacity=\"1\" /><path clip-path=\"url(#clip030)\" d=\"M29.4065 688.473 L34.9447 688.473 Q33.6716 690.956 33.035 693.629 Q32.3984 696.303 32.3984 699.167 Q32.3984 703.528 33.7352 705.724 Q35.072 707.888 37.7456 707.888 Q39.7826 707.888 40.9603 706.329 Q42.1061 704.769 43.1565 700.059 L43.6021 698.053 Q44.9389 691.815 47.3897 689.205 Q49.8086 686.563 54.1691 686.563 Q59.1344 686.563 62.0308 690.51 Q64.9272 694.425 64.9272 701.3 Q64.9272 704.165 64.3543 707.284 Q63.8132 710.371 62.6992 713.809 L56.6518 713.809 Q58.3387 710.562 59.198 707.411 Q60.0256 704.26 60.0256 701.173 Q60.0256 697.035 58.6251 694.807 Q57.1929 692.579 54.6147 692.579 Q52.2276 692.579 50.9545 694.202 Q49.6813 695.794 48.5037 701.236 L48.0262 703.273 Q46.8804 708.716 44.5251 711.135 Q42.138 713.554 38.0002 713.554 Q32.9713 713.554 30.2341 709.989 Q27.4968 706.424 27.4968 699.868 Q27.4968 696.621 27.9743 693.757 Q28.4517 690.892 29.4065 688.473 Z\" fill=\"#000000\" fill-rule=\"evenodd\" fill-opacity=\"1\" /><path clip-path=\"url(#clip030)\" d=\"M41.7242 633.728 Q42.4244 631.659 44.7161 629.718 Q47.0077 627.744 51.0181 625.771 L64.0042 619.246 L64.0042 626.153 L51.8138 632.232 Q47.0395 634.587 45.48 636.815 Q43.9204 639.012 43.9204 642.831 L43.9204 649.833 L64.0042 649.833 L64.0042 656.263 L16.4842 656.263 L16.4842 641.749 Q16.4842 633.601 19.8898 629.59 Q23.2955 625.58 30.1704 625.58 Q34.6582 625.58 37.6183 627.681 Q40.5784 629.749 41.7242 633.728 M21.7677 649.833 L38.6368 649.833 L38.6368 641.749 Q38.6368 637.102 36.5043 634.747 Q34.34 632.359 30.1704 632.359 Q26.0009 632.359 23.9002 634.747 Q21.7677 637.102 21.7677 641.749 L21.7677 649.833 Z\" fill=\"#000000\" fill-rule=\"evenodd\" fill-opacity=\"1\" /><path clip-path=\"url(#clip030)\" d=\"M46.0847 596.457 Q46.0847 603.555 47.7079 606.292 Q49.3312 609.029 53.2461 609.029 Q56.3653 609.029 58.2114 606.992 Q60.0256 604.923 60.0256 601.39 Q60.0256 596.52 56.5881 593.592 Q53.1188 590.632 47.3897 590.632 L46.0847 590.632 L46.0847 596.457 M43.6657 584.776 L64.0042 584.776 L64.0042 590.632 L58.5933 590.632 Q61.8398 592.637 63.3994 595.629 Q64.9272 598.621 64.9272 602.95 Q64.9272 608.424 61.8716 611.671 Q58.7843 614.886 53.6281 614.886 Q47.6125 614.886 44.5569 610.875 Q41.5014 606.833 41.5014 598.844 L41.5014 590.632 L40.9285 590.632 Q36.8862 590.632 34.6901 593.306 Q32.4621 595.948 32.4621 600.754 Q32.4621 603.809 33.1941 606.706 Q33.9262 609.602 35.3903 612.276 L29.9795 612.276 Q28.7381 609.061 28.1334 606.037 Q27.4968 603.013 27.4968 600.149 Q27.4968 592.415 31.5072 588.595 Q35.5176 584.776 43.6657 584.776 Z\" fill=\"#000000\" fill-rule=\"evenodd\" fill-opacity=\"1\" /><path clip-path=\"url(#clip030)\" d=\"M18.2347 566.92 L28.3562 566.92 L28.3562 554.857 L32.9077 554.857 L32.9077 566.92 L52.2594 566.92 Q56.6199 566.92 57.8613 565.742 Q59.1026 564.533 59.1026 560.872 L59.1026 554.857 L64.0042 554.857 L64.0042 560.872 Q64.0042 567.652 61.4897 570.23 Q58.9434 572.808 52.2594 572.808 L32.9077 572.808 L32.9077 577.105 L28.3562 577.105 L28.3562 572.808 L18.2347 572.808 L18.2347 566.92 Z\" fill=\"#000000\" fill-rule=\"evenodd\" fill-opacity=\"1\" /><path clip-path=\"url(#clip030)\" d=\"M44.7161 516.663 L47.5806 516.663 L47.5806 543.59 Q53.6281 543.208 56.8109 539.961 Q59.9619 536.683 59.9619 530.858 Q59.9619 527.484 59.1344 524.333 Q58.3069 521.15 56.6518 518.031 L62.1899 518.031 Q63.5267 521.182 64.227 524.492 Q64.9272 527.803 64.9272 531.208 Q64.9272 539.738 59.9619 544.735 Q54.9967 549.701 46.5303 549.701 Q37.7774 549.701 32.6531 544.99 Q27.4968 540.248 27.4968 532.227 Q27.4968 525.034 32.1438 520.864 Q36.7589 516.663 44.7161 516.663 M42.9973 522.519 Q38.1912 522.583 35.3266 525.225 Q32.4621 527.834 32.4621 532.163 Q32.4621 537.065 35.2312 540.025 Q38.0002 542.953 43.0292 543.399 L42.9973 522.519 Z\" fill=\"#000000\" fill-rule=\"evenodd\" fill-opacity=\"1\" /><polyline clip-path=\"url(#clip032)\" style=\"stroke:#009af9; stroke-linecap:round; stroke-linejoin:round; stroke-width:4; stroke-opacity:1; fill:none\" points=\"\n",
       "  338.375,193.043 351.501,193.043 364.626,729.07 377.752,514.66 390.877,514.66 404.003,514.66 417.129,621.865 430.254,836.276 443.38,943.481 456.505,514.66 \n",
       "  469.631,514.66 482.756,514.66 495.882,514.66 509.008,407.454 522.133,1157.89 535.259,514.66 548.384,407.454 561.51,407.454 574.635,193.043 587.761,193.043 \n",
       "  600.887,514.66 614.012,85.838 627.138,300.249 640.263,407.454 653.389,300.249 666.514,407.454 679.64,300.249 692.765,407.454 705.891,407.454 719.017,514.66 \n",
       "  732.142,729.07 745.268,514.66 758.393,300.249 771.519,514.66 784.644,943.481 797.77,836.276 810.896,621.865 824.021,943.481 837.147,836.276 850.272,836.276 \n",
       "  863.398,943.481 876.523,621.865 889.649,621.865 902.775,943.481 915.9,1050.69 929.026,300.249 942.151,514.66 955.277,300.249 968.402,407.454 981.528,836.276 \n",
       "  994.654,85.838 1007.78,621.865 1020.9,407.454 1034.03,621.865 1047.16,621.865 1060.28,621.865 1073.41,621.865 1086.53,85.838 1099.66,300.249 1112.78,514.66 \n",
       "  1125.91,621.865 1139.03,407.454 1152.16,729.07 1165.29,943.481 1178.41,300.249 1191.54,300.249 1204.66,836.276 1217.79,621.865 1230.91,300.249 1244.04,407.454 \n",
       "  1257.16,300.249 1270.29,300.249 1283.42,300.249 1296.54,729.07 1309.67,621.865 1322.79,193.043 1335.92,300.249 1349.04,514.66 1362.17,407.454 1375.29,193.043 \n",
       "  1388.42,407.454 1401.55,300.249 1414.67,729.07 1427.8,514.66 1440.92,514.66 1454.05,514.66 1467.17,621.865 1480.3,407.454 1493.43,621.865 1506.55,300.249 \n",
       "  1519.68,407.454 1532.8,1372.3 1545.93,407.454 1559.05,729.07 1572.18,621.865 1585.3,621.865 1598.43,193.043 1611.56,85.838 1624.68,300.249 1637.81,300.249 \n",
       "  1650.93,193.043 1664.06,407.454 1677.18,407.454 1690.31,193.043 1703.43,514.66 1716.56,621.865 1729.69,1265.1 1742.81,514.66 1755.94,943.481 1769.06,621.865 \n",
       "  1782.19,514.66 1795.31,407.454 1808.44,514.66 1821.56,836.276 1834.69,836.276 1847.82,407.454 1860.94,729.07 1874.07,407.454 1887.19,300.249 1900.32,407.454 \n",
       "  1913.44,621.865 1926.57,729.07 1939.69,621.865 1952.82,836.276 1965.95,407.454 1979.07,729.07 1992.2,514.66 2005.32,514.66 2018.45,729.07 2031.57,729.07 \n",
       "  2044.7,514.66 2057.82,514.66 2070.95,836.276 2084.08,300.249 2097.2,621.865 2110.33,407.454 2123.45,621.865 2136.58,193.043 2149.7,407.454 2162.83,407.454 \n",
       "  2175.95,193.043 2189.08,85.838 2202.21,300.249 2215.33,85.838 2228.46,514.66 2241.58,300.249 2254.71,193.043 2267.83,193.043 2280.96,193.043 2294.08,193.043 \n",
       "  \n",
       "  \"/>\n",
       "</svg>\n"
      ]
     },
     "execution_count": 35,
     "metadata": {},
     "output_type": "execute_result"
    }
   ],
   "source": [
    "plot([1:num_model] * 10000, success_rate, xlabel=\"Iterations\", ylabel=\"Success Rate\", legend = false, xformatter = :scientific)"
   ]
  },
  {
   "cell_type": "code",
   "execution_count": 36,
   "id": "4e57d828",
   "metadata": {},
   "outputs": [],
   "source": [
    "savefig(fig_path * \"success_rate.svg\")"
   ]
  },
  {
   "cell_type": "code",
   "execution_count": 37,
   "id": "480d67d7",
   "metadata": {
    "scrolled": false
   },
   "outputs": [
    {
     "data": {
      "image/svg+xml": [
       "<?xml version=\"1.0\" encoding=\"utf-8\"?>\n",
       "<svg xmlns=\"http://www.w3.org/2000/svg\" xmlns:xlink=\"http://www.w3.org/1999/xlink\" width=\"600\" height=\"400\" viewBox=\"0 0 2400 1600\">\n",
       "<defs>\n",
       "  <clipPath id=\"clip110\">\n",
       "    <rect x=\"0\" y=\"0\" width=\"2400\" height=\"1600\"/>\n",
       "  </clipPath>\n",
       "</defs>\n",
       "<path clip-path=\"url(#clip110)\" d=\"\n",
       "M0 1600 L2400 1600 L2400 0 L0 0  Z\n",
       "  \" fill=\"#ffffff\" fill-rule=\"evenodd\" fill-opacity=\"1\"/>\n",
       "<defs>\n",
       "  <clipPath id=\"clip111\">\n",
       "    <rect x=\"480\" y=\"0\" width=\"1681\" height=\"1600\"/>\n",
       "  </clipPath>\n",
       "</defs>\n",
       "<path clip-path=\"url(#clip110)\" d=\"\n",
       "M220.19 1410.9 L2352.76 1410.9 L2352.76 47.2441 L220.19 47.2441  Z\n",
       "  \" fill=\"#ffffff\" fill-rule=\"evenodd\" fill-opacity=\"1\"/>\n",
       "<defs>\n",
       "  <clipPath id=\"clip112\">\n",
       "    <rect x=\"220\" y=\"47\" width=\"2134\" height=\"1365\"/>\n",
       "  </clipPath>\n",
       "</defs>\n",
       "<polyline clip-path=\"url(#clip112)\" style=\"stroke:#000000; stroke-linecap:round; stroke-linejoin:round; stroke-width:2; stroke-opacity:0.1; fill:none\" points=\"\n",
       "  267.044,1410.9 267.044,47.2441 \n",
       "  \"/>\n",
       "<polyline clip-path=\"url(#clip112)\" style=\"stroke:#000000; stroke-linecap:round; stroke-linejoin:round; stroke-width:2; stroke-opacity:0.1; fill:none\" points=\"\n",
       "  942.162,1410.9 942.162,47.2441 \n",
       "  \"/>\n",
       "<polyline clip-path=\"url(#clip112)\" style=\"stroke:#000000; stroke-linecap:round; stroke-linejoin:round; stroke-width:2; stroke-opacity:0.1; fill:none\" points=\"\n",
       "  1617.28,1410.9 1617.28,47.2441 \n",
       "  \"/>\n",
       "<polyline clip-path=\"url(#clip112)\" style=\"stroke:#000000; stroke-linecap:round; stroke-linejoin:round; stroke-width:2; stroke-opacity:0.1; fill:none\" points=\"\n",
       "  2292.4,1410.9 2292.4,47.2441 \n",
       "  \"/>\n",
       "<polyline clip-path=\"url(#clip110)\" style=\"stroke:#000000; stroke-linecap:round; stroke-linejoin:round; stroke-width:4; stroke-opacity:1; fill:none\" points=\"\n",
       "  220.19,1410.9 2352.76,1410.9 \n",
       "  \"/>\n",
       "<polyline clip-path=\"url(#clip110)\" style=\"stroke:#000000; stroke-linecap:round; stroke-linejoin:round; stroke-width:4; stroke-opacity:1; fill:none\" points=\"\n",
       "  267.044,1410.9 267.044,1392 \n",
       "  \"/>\n",
       "<polyline clip-path=\"url(#clip110)\" style=\"stroke:#000000; stroke-linecap:round; stroke-linejoin:round; stroke-width:4; stroke-opacity:1; fill:none\" points=\"\n",
       "  942.162,1410.9 942.162,1392 \n",
       "  \"/>\n",
       "<polyline clip-path=\"url(#clip110)\" style=\"stroke:#000000; stroke-linecap:round; stroke-linejoin:round; stroke-width:4; stroke-opacity:1; fill:none\" points=\"\n",
       "  1617.28,1410.9 1617.28,1392 \n",
       "  \"/>\n",
       "<polyline clip-path=\"url(#clip110)\" style=\"stroke:#000000; stroke-linecap:round; stroke-linejoin:round; stroke-width:4; stroke-opacity:1; fill:none\" points=\"\n",
       "  2292.4,1410.9 2292.4,1392 \n",
       "  \"/>\n",
       "<path clip-path=\"url(#clip110)\" d=\"M267.044 1441.82 Q263.432 1441.82 261.604 1445.38 Q259.798 1448.92 259.798 1456.05 Q259.798 1463.16 261.604 1466.72 Q263.432 1470.26 267.044 1470.26 Q270.678 1470.26 272.483 1466.72 Q274.312 1463.16 274.312 1456.05 Q274.312 1448.92 272.483 1445.38 Q270.678 1441.82 267.044 1441.82 M267.044 1438.11 Q272.854 1438.11 275.909 1442.72 Q278.988 1447.3 278.988 1456.05 Q278.988 1464.78 275.909 1469.38 Q272.854 1473.97 267.044 1473.97 Q261.233 1473.97 258.155 1469.38 Q255.099 1464.78 255.099 1456.05 Q255.099 1447.3 258.155 1442.72 Q261.233 1438.11 267.044 1438.11 Z\" fill=\"#000000\" fill-rule=\"evenodd\" fill-opacity=\"1\" /><path clip-path=\"url(#clip110)\" d=\"M835.139 1454.4 L853.495 1454.4 L853.495 1458.33 L839.421 1458.33 L839.421 1466.8 Q840.44 1466.46 841.458 1466.29 Q842.477 1466.11 843.495 1466.11 Q849.282 1466.11 852.662 1469.28 Q856.042 1472.45 856.042 1477.87 Q856.042 1483.45 852.57 1486.55 Q849.097 1489.63 842.778 1489.63 Q840.602 1489.63 838.333 1489.26 Q836.088 1488.89 833.681 1488.15 L833.681 1483.45 Q835.764 1484.58 837.986 1485.14 Q840.208 1485.69 842.685 1485.69 Q846.69 1485.69 849.028 1483.59 Q851.366 1481.48 851.366 1477.87 Q851.366 1474.26 849.028 1472.15 Q846.69 1470.04 842.685 1470.04 Q840.81 1470.04 838.935 1470.46 Q837.083 1470.88 835.139 1471.76 L835.139 1454.4 Z\" fill=\"#000000\" fill-rule=\"evenodd\" fill-opacity=\"1\" /><path clip-path=\"url(#clip110)\" d=\"M865.255 1483.08 L870.139 1483.08 L870.139 1488.96 L865.255 1488.96 L865.255 1483.08 Z\" fill=\"#000000\" fill-rule=\"evenodd\" fill-opacity=\"1\" /><path clip-path=\"url(#clip110)\" d=\"M890.324 1457.48 Q886.713 1457.48 884.884 1461.04 Q883.079 1464.58 883.079 1471.71 Q883.079 1478.82 884.884 1482.38 Q886.713 1485.92 890.324 1485.92 Q893.958 1485.92 895.764 1482.38 Q897.592 1478.82 897.592 1471.71 Q897.592 1464.58 895.764 1461.04 Q893.958 1457.48 890.324 1457.48 M890.324 1453.77 Q896.134 1453.77 899.19 1458.38 Q902.268 1462.96 902.268 1471.71 Q902.268 1480.44 899.19 1485.04 Q896.134 1489.63 890.324 1489.63 Q884.514 1489.63 881.435 1485.04 Q878.38 1480.44 878.38 1471.71 Q878.38 1462.96 881.435 1458.38 Q884.514 1453.77 890.324 1453.77 Z\" fill=\"#000000\" fill-rule=\"evenodd\" fill-opacity=\"1\" /><path clip-path=\"url(#clip110)\" d=\"M920.486 1457.48 Q916.875 1457.48 915.046 1461.04 Q913.24 1464.58 913.24 1471.71 Q913.24 1478.82 915.046 1482.38 Q916.875 1485.92 920.486 1485.92 Q924.12 1485.92 925.926 1482.38 Q927.754 1478.82 927.754 1471.71 Q927.754 1464.58 925.926 1461.04 Q924.12 1457.48 920.486 1457.48 M920.486 1453.77 Q926.296 1453.77 929.352 1458.38 Q932.43 1462.96 932.43 1471.71 Q932.43 1480.44 929.352 1485.04 Q926.296 1489.63 920.486 1489.63 Q914.676 1489.63 911.597 1485.04 Q908.541 1480.44 908.541 1471.71 Q908.541 1462.96 911.597 1458.38 Q914.676 1453.77 920.486 1453.77 Z\" fill=\"#000000\" fill-rule=\"evenodd\" fill-opacity=\"1\" /><path clip-path=\"url(#clip110)\" d=\"M968.819 1463.49 L958.24 1474.12 L968.819 1484.7 L966.064 1487.5 L955.439 1476.87 L944.814 1487.5 L942.083 1484.7 L952.638 1474.12 L942.083 1463.49 L944.814 1460.69 L955.439 1471.32 L966.064 1460.69 L968.819 1463.49 Z\" fill=\"#000000\" fill-rule=\"evenodd\" fill-opacity=\"1\" /><path clip-path=\"url(#clip110)\" d=\"M981.18 1485.02 L988.819 1485.02 L988.819 1458.66 L980.509 1460.32 L980.509 1456.06 L988.772 1454.4 L993.448 1454.4 L993.448 1485.02 L1001.09 1485.02 L1001.09 1488.96 L981.18 1488.96 L981.18 1485.02 Z\" fill=\"#000000\" fill-rule=\"evenodd\" fill-opacity=\"1\" /><path clip-path=\"url(#clip110)\" d=\"M1020.53 1457.48 Q1016.92 1457.48 1015.09 1461.04 Q1013.29 1464.58 1013.29 1471.71 Q1013.29 1478.82 1015.09 1482.38 Q1016.92 1485.92 1020.53 1485.92 Q1024.17 1485.92 1025.97 1482.38 Q1027.8 1478.82 1027.8 1471.71 Q1027.8 1464.58 1025.97 1461.04 Q1024.17 1457.48 1020.53 1457.48 M1020.53 1453.77 Q1026.34 1453.77 1029.4 1458.38 Q1032.48 1462.96 1032.48 1471.71 Q1032.48 1480.44 1029.4 1485.04 Q1026.34 1489.63 1020.53 1489.63 Q1014.72 1489.63 1011.64 1485.04 Q1008.59 1480.44 1008.59 1471.71 Q1008.59 1462.96 1011.64 1458.38 Q1014.72 1453.77 1020.53 1453.77 Z\" fill=\"#000000\" fill-rule=\"evenodd\" fill-opacity=\"1\" /><path clip-path=\"url(#clip110)\" d=\"M1033.66 1433.47 L1048.58 1433.47 L1048.58 1436.66 L1037.14 1436.66 L1037.14 1443.55 Q1037.97 1443.27 1038.8 1443.13 Q1039.62 1442.98 1040.45 1442.98 Q1045.15 1442.98 1047.9 1445.56 Q1050.64 1448.14 1050.64 1452.54 Q1050.64 1457.07 1047.82 1459.59 Q1045 1462.09 1039.87 1462.09 Q1038.1 1462.09 1036.26 1461.79 Q1034.43 1461.49 1032.48 1460.89 L1032.48 1457.07 Q1034.17 1457.99 1035.97 1458.44 Q1037.78 1458.89 1039.79 1458.89 Q1043.05 1458.89 1044.95 1457.18 Q1046.85 1455.47 1046.85 1452.54 Q1046.85 1449.6 1044.95 1447.89 Q1043.05 1446.18 1039.79 1446.18 Q1038.27 1446.18 1036.75 1446.52 Q1035.24 1446.86 1033.66 1447.57 L1033.66 1433.47 Z\" fill=\"#000000\" fill-rule=\"evenodd\" fill-opacity=\"1\" /><path clip-path=\"url(#clip110)\" d=\"M1509.64 1485.02 L1517.27 1485.02 L1517.27 1458.66 L1508.96 1460.32 L1508.96 1456.06 L1517.23 1454.4 L1521.9 1454.4 L1521.9 1485.02 L1529.54 1485.02 L1529.54 1488.96 L1509.64 1488.96 L1509.64 1485.02 Z\" fill=\"#000000\" fill-rule=\"evenodd\" fill-opacity=\"1\" /><path clip-path=\"url(#clip110)\" d=\"M1538.99 1483.08 L1543.87 1483.08 L1543.87 1488.96 L1538.99 1488.96 L1538.99 1483.08 Z\" fill=\"#000000\" fill-rule=\"evenodd\" fill-opacity=\"1\" /><path clip-path=\"url(#clip110)\" d=\"M1564.06 1457.48 Q1560.45 1457.48 1558.62 1461.04 Q1556.81 1464.58 1556.81 1471.71 Q1556.81 1478.82 1558.62 1482.38 Q1560.45 1485.92 1564.06 1485.92 Q1567.69 1485.92 1569.5 1482.38 Q1571.32 1478.82 1571.32 1471.71 Q1571.32 1464.58 1569.5 1461.04 Q1567.69 1457.48 1564.06 1457.48 M1564.06 1453.77 Q1569.87 1453.77 1572.92 1458.38 Q1576 1462.96 1576 1471.71 Q1576 1480.44 1572.92 1485.04 Q1569.87 1489.63 1564.06 1489.63 Q1558.25 1489.63 1555.17 1485.04 Q1552.11 1480.44 1552.11 1471.71 Q1552.11 1462.96 1555.17 1458.38 Q1558.25 1453.77 1564.06 1453.77 Z\" fill=\"#000000\" fill-rule=\"evenodd\" fill-opacity=\"1\" /><path clip-path=\"url(#clip110)\" d=\"M1594.22 1457.48 Q1590.61 1457.48 1588.78 1461.04 Q1586.97 1464.58 1586.97 1471.71 Q1586.97 1478.82 1588.78 1482.38 Q1590.61 1485.92 1594.22 1485.92 Q1597.85 1485.92 1599.66 1482.38 Q1601.49 1478.82 1601.49 1471.71 Q1601.49 1464.58 1599.66 1461.04 Q1597.85 1457.48 1594.22 1457.48 M1594.22 1453.77 Q1600.03 1453.77 1603.08 1458.38 Q1606.16 1462.96 1606.16 1471.71 Q1606.16 1480.44 1603.08 1485.04 Q1600.03 1489.63 1594.22 1489.63 Q1588.41 1489.63 1585.33 1485.04 Q1582.27 1480.44 1582.27 1471.71 Q1582.27 1462.96 1585.33 1458.38 Q1588.41 1453.77 1594.22 1453.77 Z\" fill=\"#000000\" fill-rule=\"evenodd\" fill-opacity=\"1\" /><path clip-path=\"url(#clip110)\" d=\"M1642.55 1463.49 L1631.97 1474.12 L1642.55 1484.7 L1639.8 1487.5 L1629.17 1476.87 L1618.55 1487.5 L1615.82 1484.7 L1626.37 1474.12 L1615.82 1463.49 L1618.55 1460.69 L1629.17 1471.32 L1639.8 1460.69 L1642.55 1463.49 Z\" fill=\"#000000\" fill-rule=\"evenodd\" fill-opacity=\"1\" /><path clip-path=\"url(#clip110)\" d=\"M1654.91 1485.02 L1662.55 1485.02 L1662.55 1458.66 L1654.24 1460.32 L1654.24 1456.06 L1662.5 1454.4 L1667.18 1454.4 L1667.18 1485.02 L1674.82 1485.02 L1674.82 1488.96 L1654.91 1488.96 L1654.91 1485.02 Z\" fill=\"#000000\" fill-rule=\"evenodd\" fill-opacity=\"1\" /><path clip-path=\"url(#clip110)\" d=\"M1694.26 1457.48 Q1690.65 1457.48 1688.82 1461.04 Q1687.02 1464.58 1687.02 1471.71 Q1687.02 1478.82 1688.82 1482.38 Q1690.65 1485.92 1694.26 1485.92 Q1697.9 1485.92 1699.7 1482.38 Q1701.53 1478.82 1701.53 1471.71 Q1701.53 1464.58 1699.7 1461.04 Q1697.9 1457.48 1694.26 1457.48 M1694.26 1453.77 Q1700.07 1453.77 1703.13 1458.38 Q1706.21 1462.96 1706.21 1471.71 Q1706.21 1480.44 1703.13 1485.04 Q1700.07 1489.63 1694.26 1489.63 Q1688.45 1489.63 1685.37 1485.04 Q1682.32 1480.44 1682.32 1471.71 Q1682.32 1462.96 1685.37 1458.38 Q1688.45 1453.77 1694.26 1453.77 Z\" fill=\"#000000\" fill-rule=\"evenodd\" fill-opacity=\"1\" /><path clip-path=\"url(#clip110)\" d=\"M1716.23 1445.99 Q1713.67 1445.99 1712.17 1447.74 Q1710.68 1449.49 1710.68 1452.54 Q1710.68 1455.57 1712.17 1457.33 Q1713.67 1459.08 1716.23 1459.08 Q1718.79 1459.08 1720.28 1457.33 Q1721.78 1455.57 1721.78 1452.54 Q1721.78 1449.49 1720.28 1447.74 Q1718.79 1445.99 1716.23 1445.99 M1723.77 1434.09 L1723.77 1437.55 Q1722.35 1436.87 1720.88 1436.51 Q1719.43 1436.16 1718 1436.16 Q1714.24 1436.16 1712.25 1438.69 Q1710.27 1441.23 1709.99 1446.37 Q1711.1 1444.73 1712.77 1443.87 Q1714.45 1442.98 1716.46 1442.98 Q1720.69 1442.98 1723.14 1445.56 Q1725.6 1448.12 1725.6 1452.54 Q1725.6 1456.86 1723.04 1459.48 Q1720.48 1462.09 1716.23 1462.09 Q1711.36 1462.09 1708.78 1458.37 Q1706.21 1454.62 1706.21 1447.53 Q1706.21 1440.88 1709.37 1436.93 Q1712.53 1432.96 1717.85 1432.96 Q1719.28 1432.96 1720.73 1433.24 Q1722.19 1433.52 1723.77 1434.09 Z\" fill=\"#000000\" fill-rule=\"evenodd\" fill-opacity=\"1\" /><path clip-path=\"url(#clip110)\" d=\"M2184.75 1485.02 L2192.39 1485.02 L2192.39 1458.66 L2184.08 1460.32 L2184.08 1456.06 L2192.35 1454.4 L2197.02 1454.4 L2197.02 1485.02 L2204.66 1485.02 L2204.66 1488.96 L2184.75 1488.96 L2184.75 1485.02 Z\" fill=\"#000000\" fill-rule=\"evenodd\" fill-opacity=\"1\" /><path clip-path=\"url(#clip110)\" d=\"M2214.11 1483.08 L2218.99 1483.08 L2218.99 1488.96 L2214.11 1488.96 L2214.11 1483.08 Z\" fill=\"#000000\" fill-rule=\"evenodd\" fill-opacity=\"1\" /><path clip-path=\"url(#clip110)\" d=\"M2229.22 1454.4 L2247.58 1454.4 L2247.58 1458.33 L2233.5 1458.33 L2233.5 1466.8 Q2234.52 1466.46 2235.54 1466.29 Q2236.56 1466.11 2237.58 1466.11 Q2243.36 1466.11 2246.74 1469.28 Q2250.12 1472.45 2250.12 1477.87 Q2250.12 1483.45 2246.65 1486.55 Q2243.18 1489.63 2236.86 1489.63 Q2234.68 1489.63 2232.42 1489.26 Q2230.17 1488.89 2227.76 1488.15 L2227.76 1483.45 Q2229.85 1484.58 2232.07 1485.14 Q2234.29 1485.69 2236.77 1485.69 Q2240.77 1485.69 2243.11 1483.59 Q2245.45 1481.48 2245.45 1477.87 Q2245.45 1474.26 2243.11 1472.15 Q2240.77 1470.04 2236.77 1470.04 Q2234.89 1470.04 2233.02 1470.46 Q2231.17 1470.88 2229.22 1471.76 L2229.22 1454.4 Z\" fill=\"#000000\" fill-rule=\"evenodd\" fill-opacity=\"1\" /><path clip-path=\"url(#clip110)\" d=\"M2269.34 1457.48 Q2265.73 1457.48 2263.9 1461.04 Q2262.09 1464.58 2262.09 1471.71 Q2262.09 1478.82 2263.9 1482.38 Q2265.73 1485.92 2269.34 1485.92 Q2272.97 1485.92 2274.78 1482.38 Q2276.61 1478.82 2276.61 1471.71 Q2276.61 1464.58 2274.78 1461.04 Q2272.97 1457.48 2269.34 1457.48 M2269.34 1453.77 Q2275.15 1453.77 2278.2 1458.38 Q2281.28 1462.96 2281.28 1471.71 Q2281.28 1480.44 2278.2 1485.04 Q2275.15 1489.63 2269.34 1489.63 Q2263.53 1489.63 2260.45 1485.04 Q2257.39 1480.44 2257.39 1471.71 Q2257.39 1462.96 2260.45 1458.38 Q2263.53 1453.77 2269.34 1453.77 Z\" fill=\"#000000\" fill-rule=\"evenodd\" fill-opacity=\"1\" /><path clip-path=\"url(#clip110)\" d=\"M2317.67 1463.49 L2307.09 1474.12 L2317.67 1484.7 L2314.92 1487.5 L2304.29 1476.87 L2293.67 1487.5 L2290.93 1484.7 L2301.49 1474.12 L2290.93 1463.49 L2293.67 1460.69 L2304.29 1471.32 L2314.92 1460.69 L2317.67 1463.49 Z\" fill=\"#000000\" fill-rule=\"evenodd\" fill-opacity=\"1\" /><path clip-path=\"url(#clip110)\" d=\"M2330.03 1485.02 L2337.67 1485.02 L2337.67 1458.66 L2329.36 1460.32 L2329.36 1456.06 L2337.62 1454.4 L2342.3 1454.4 L2342.3 1485.02 L2349.94 1485.02 L2349.94 1488.96 L2330.03 1488.96 L2330.03 1485.02 Z\" fill=\"#000000\" fill-rule=\"evenodd\" fill-opacity=\"1\" /><path clip-path=\"url(#clip110)\" d=\"M2369.38 1457.48 Q2365.77 1457.48 2363.94 1461.04 Q2362.14 1464.58 2362.14 1471.71 Q2362.14 1478.82 2363.94 1482.38 Q2365.77 1485.92 2369.38 1485.92 Q2373.02 1485.92 2374.82 1482.38 Q2376.65 1478.82 2376.65 1471.71 Q2376.65 1464.58 2374.82 1461.04 Q2373.02 1457.48 2369.38 1457.48 M2369.38 1453.77 Q2375.19 1453.77 2378.25 1458.38 Q2381.33 1462.96 2381.33 1471.71 Q2381.33 1480.44 2378.25 1485.04 Q2375.19 1489.63 2369.38 1489.63 Q2363.57 1489.63 2360.49 1485.04 Q2357.44 1480.44 2357.44 1471.71 Q2357.44 1462.96 2360.49 1458.38 Q2363.57 1453.77 2369.38 1453.77 Z\" fill=\"#000000\" fill-rule=\"evenodd\" fill-opacity=\"1\" /><path clip-path=\"url(#clip110)\" d=\"M2391.35 1445.99 Q2388.79 1445.99 2387.29 1447.74 Q2385.8 1449.49 2385.8 1452.54 Q2385.8 1455.57 2387.29 1457.33 Q2388.79 1459.08 2391.35 1459.08 Q2393.91 1459.08 2395.4 1457.33 Q2396.9 1455.57 2396.9 1452.54 Q2396.9 1449.49 2395.4 1447.74 Q2393.91 1445.99 2391.35 1445.99 M2398.89 1434.09 L2398.89 1437.55 Q2397.46 1436.87 2396 1436.51 Q2394.55 1436.16 2393.12 1436.16 Q2389.36 1436.16 2387.36 1438.69 Q2385.39 1441.23 2385.11 1446.37 Q2386.22 1444.73 2387.89 1443.87 Q2389.56 1442.98 2391.58 1442.98 Q2395.81 1442.98 2398.25 1445.56 Q2400.72 1448.12 2400.72 1452.54 Q2400.72 1456.86 2398.16 1459.48 Q2395.6 1462.09 2391.35 1462.09 Q2386.48 1462.09 2383.9 1458.37 Q2381.33 1454.62 2381.33 1447.53 Q2381.33 1440.88 2384.49 1436.93 Q2387.65 1432.96 2392.97 1432.96 Q2394.4 1432.96 2395.85 1433.24 Q2397.31 1433.52 2398.89 1434.09 Z\" fill=\"#000000\" fill-rule=\"evenodd\" fill-opacity=\"1\" /><path clip-path=\"url(#clip110)\" d=\"M1136.04 1526.67 L1142.46 1526.67 L1142.46 1574.19 L1136.04 1574.19 L1136.04 1526.67 Z\" fill=\"#000000\" fill-rule=\"evenodd\" fill-opacity=\"1\" /><path clip-path=\"url(#clip110)\" d=\"M1160.8 1528.42 L1160.8 1538.54 L1172.86 1538.54 L1172.86 1543.09 L1160.8 1543.09 L1160.8 1562.44 Q1160.8 1566.8 1161.98 1568.04 Q1163.19 1569.28 1166.85 1569.28 L1172.86 1569.28 L1172.86 1574.19 L1166.85 1574.19 Q1160.07 1574.19 1157.49 1571.67 Q1154.91 1569.12 1154.91 1562.44 L1154.91 1543.09 L1150.61 1543.09 L1150.61 1538.54 L1154.91 1538.54 L1154.91 1528.42 L1160.8 1528.42 Z\" fill=\"#000000\" fill-rule=\"evenodd\" fill-opacity=\"1\" /><path clip-path=\"url(#clip110)\" d=\"M1211.06 1554.9 L1211.06 1557.76 L1184.13 1557.76 Q1184.51 1563.81 1187.76 1566.99 Q1191.04 1570.14 1196.86 1570.14 Q1200.23 1570.14 1203.38 1569.32 Q1206.57 1568.49 1209.69 1566.83 L1209.69 1572.37 Q1206.54 1573.71 1203.23 1574.41 Q1199.92 1575.11 1196.51 1575.11 Q1187.98 1575.11 1182.98 1570.14 Q1178.02 1565.18 1178.02 1556.71 Q1178.02 1547.96 1182.73 1542.83 Q1187.47 1537.68 1195.49 1537.68 Q1202.68 1537.68 1206.85 1542.33 Q1211.06 1546.94 1211.06 1554.9 M1205.2 1553.18 Q1205.14 1548.37 1202.49 1545.51 Q1199.88 1542.64 1195.55 1542.64 Q1190.65 1542.64 1187.69 1545.41 Q1184.77 1548.18 1184.32 1553.21 L1205.2 1553.18 Z\" fill=\"#000000\" fill-rule=\"evenodd\" fill-opacity=\"1\" /><path clip-path=\"url(#clip110)\" d=\"M1241.32 1544.01 Q1240.34 1543.44 1239.16 1543.18 Q1238.01 1542.9 1236.61 1542.9 Q1231.65 1542.9 1228.97 1546.14 Q1226.33 1549.36 1226.33 1555.41 L1226.33 1574.19 L1220.44 1574.19 L1220.44 1538.54 L1226.33 1538.54 L1226.33 1544.08 Q1228.18 1540.83 1231.14 1539.27 Q1234.1 1537.68 1238.33 1537.68 Q1238.94 1537.68 1239.67 1537.77 Q1240.4 1537.84 1241.29 1538 L1241.32 1544.01 Z\" fill=\"#000000\" fill-rule=\"evenodd\" fill-opacity=\"1\" /><path clip-path=\"url(#clip110)\" d=\"M1263.67 1556.27 Q1256.57 1556.27 1253.83 1557.89 Q1251.1 1559.51 1251.1 1563.43 Q1251.1 1566.55 1253.13 1568.39 Q1255.2 1570.21 1258.73 1570.21 Q1263.6 1570.21 1266.53 1566.77 Q1269.49 1563.3 1269.49 1557.57 L1269.49 1556.27 L1263.67 1556.27 M1275.35 1553.85 L1275.35 1574.19 L1269.49 1574.19 L1269.49 1568.77 Q1267.49 1572.02 1264.5 1573.58 Q1261.5 1575.11 1257.17 1575.11 Q1251.7 1575.11 1248.45 1572.05 Q1245.24 1568.97 1245.24 1563.81 Q1245.24 1557.79 1249.25 1554.74 Q1253.29 1551.68 1261.28 1551.68 L1269.49 1551.68 L1269.49 1551.11 Q1269.49 1547.07 1266.82 1544.87 Q1264.18 1542.64 1259.37 1542.64 Q1256.32 1542.64 1253.42 1543.38 Q1250.52 1544.11 1247.85 1545.57 L1247.85 1540.16 Q1251.06 1538.92 1254.09 1538.31 Q1257.11 1537.68 1259.98 1537.68 Q1267.71 1537.68 1271.53 1541.69 Q1275.35 1545.7 1275.35 1553.85 Z\" fill=\"#000000\" fill-rule=\"evenodd\" fill-opacity=\"1\" /><path clip-path=\"url(#clip110)\" d=\"M1293.2 1528.42 L1293.2 1538.54 L1305.27 1538.54 L1305.27 1543.09 L1293.2 1543.09 L1293.2 1562.44 Q1293.2 1566.8 1294.38 1568.04 Q1295.59 1569.28 1299.25 1569.28 L1305.27 1569.28 L1305.27 1574.19 L1299.25 1574.19 Q1292.47 1574.19 1289.89 1571.67 Q1287.32 1569.12 1287.32 1562.44 L1287.32 1543.09 L1283.02 1543.09 L1283.02 1538.54 L1287.32 1538.54 L1287.32 1528.42 L1293.2 1528.42 Z\" fill=\"#000000\" fill-rule=\"evenodd\" fill-opacity=\"1\" /><path clip-path=\"url(#clip110)\" d=\"M1312.97 1538.54 L1318.83 1538.54 L1318.83 1574.19 L1312.97 1574.19 L1312.97 1538.54 M1312.97 1524.66 L1318.83 1524.66 L1318.83 1532.08 L1312.97 1532.08 L1312.97 1524.66 Z\" fill=\"#000000\" fill-rule=\"evenodd\" fill-opacity=\"1\" /><path clip-path=\"url(#clip110)\" d=\"M1344.89 1542.64 Q1340.18 1542.64 1337.45 1546.34 Q1334.71 1550 1334.71 1556.39 Q1334.71 1562.79 1337.41 1566.48 Q1340.15 1570.14 1344.89 1570.14 Q1349.57 1570.14 1352.31 1566.45 Q1355.05 1562.76 1355.05 1556.39 Q1355.05 1550.06 1352.31 1546.37 Q1349.57 1542.64 1344.89 1542.64 M1344.89 1537.68 Q1352.53 1537.68 1356.89 1542.64 Q1361.25 1547.61 1361.25 1556.39 Q1361.25 1565.15 1356.89 1570.14 Q1352.53 1575.11 1344.89 1575.11 Q1337.22 1575.11 1332.86 1570.14 Q1328.53 1565.15 1328.53 1556.39 Q1328.53 1547.61 1332.86 1542.64 Q1337.22 1537.68 1344.89 1537.68 Z\" fill=\"#000000\" fill-rule=\"evenodd\" fill-opacity=\"1\" /><path clip-path=\"url(#clip110)\" d=\"M1400.59 1552.67 L1400.59 1574.19 L1394.74 1574.19 L1394.74 1552.86 Q1394.74 1547.8 1392.76 1545.29 Q1390.79 1542.77 1386.84 1542.77 Q1382.1 1542.77 1379.36 1545.79 Q1376.63 1548.82 1376.63 1554.04 L1376.63 1574.19 L1370.74 1574.19 L1370.74 1538.54 L1376.63 1538.54 L1376.63 1544.08 Q1378.73 1540.86 1381.56 1539.27 Q1384.43 1537.68 1388.15 1537.68 Q1394.29 1537.68 1397.44 1541.5 Q1400.59 1545.29 1400.59 1552.67 Z\" fill=\"#000000\" fill-rule=\"evenodd\" fill-opacity=\"1\" /><path clip-path=\"url(#clip110)\" d=\"M1435 1539.59 L1435 1545.13 Q1432.52 1543.85 1429.84 1543.22 Q1427.17 1542.58 1424.31 1542.58 Q1419.95 1542.58 1417.75 1543.92 Q1415.59 1545.25 1415.59 1547.93 Q1415.59 1549.96 1417.15 1551.14 Q1418.7 1552.29 1423.42 1553.34 L1425.42 1553.78 Q1431.66 1555.12 1434.27 1557.57 Q1436.91 1559.99 1436.91 1564.35 Q1436.91 1569.32 1432.96 1572.21 Q1429.05 1575.11 1422.17 1575.11 Q1419.31 1575.11 1416.19 1574.54 Q1413.1 1573.99 1409.67 1572.88 L1409.67 1566.83 Q1412.91 1568.52 1416.06 1569.38 Q1419.21 1570.21 1422.3 1570.21 Q1426.44 1570.21 1428.67 1568.81 Q1430.9 1567.37 1430.9 1564.8 Q1430.9 1562.41 1429.27 1561.14 Q1427.68 1559.86 1422.24 1558.68 L1420.2 1558.21 Q1414.76 1557.06 1412.34 1554.71 Q1409.92 1552.32 1409.92 1548.18 Q1409.92 1543.15 1413.48 1540.42 Q1417.05 1537.68 1423.61 1537.68 Q1426.85 1537.68 1429.72 1538.16 Q1432.58 1538.63 1435 1539.59 Z\" fill=\"#000000\" fill-rule=\"evenodd\" fill-opacity=\"1\" /><polyline clip-path=\"url(#clip112)\" style=\"stroke:#000000; stroke-linecap:round; stroke-linejoin:round; stroke-width:2; stroke-opacity:0.1; fill:none\" points=\"\n",
       "  220.19,1301.81 2352.76,1301.81 \n",
       "  \"/>\n",
       "<polyline clip-path=\"url(#clip112)\" style=\"stroke:#000000; stroke-linecap:round; stroke-linejoin:round; stroke-width:2; stroke-opacity:0.1; fill:none\" points=\"\n",
       "  220.19,1101.65 2352.76,1101.65 \n",
       "  \"/>\n",
       "<polyline clip-path=\"url(#clip112)\" style=\"stroke:#000000; stroke-linecap:round; stroke-linejoin:round; stroke-width:2; stroke-opacity:0.1; fill:none\" points=\"\n",
       "  220.19,901.484 2352.76,901.484 \n",
       "  \"/>\n",
       "<polyline clip-path=\"url(#clip112)\" style=\"stroke:#000000; stroke-linecap:round; stroke-linejoin:round; stroke-width:2; stroke-opacity:0.1; fill:none\" points=\"\n",
       "  220.19,701.321 2352.76,701.321 \n",
       "  \"/>\n",
       "<polyline clip-path=\"url(#clip112)\" style=\"stroke:#000000; stroke-linecap:round; stroke-linejoin:round; stroke-width:2; stroke-opacity:0.1; fill:none\" points=\"\n",
       "  220.19,501.157 2352.76,501.157 \n",
       "  \"/>\n",
       "<polyline clip-path=\"url(#clip112)\" style=\"stroke:#000000; stroke-linecap:round; stroke-linejoin:round; stroke-width:2; stroke-opacity:0.1; fill:none\" points=\"\n",
       "  220.19,300.994 2352.76,300.994 \n",
       "  \"/>\n",
       "<polyline clip-path=\"url(#clip112)\" style=\"stroke:#000000; stroke-linecap:round; stroke-linejoin:round; stroke-width:2; stroke-opacity:0.1; fill:none\" points=\"\n",
       "  220.19,100.83 2352.76,100.83 \n",
       "  \"/>\n",
       "<polyline clip-path=\"url(#clip110)\" style=\"stroke:#000000; stroke-linecap:round; stroke-linejoin:round; stroke-width:4; stroke-opacity:1; fill:none\" points=\"\n",
       "  220.19,1410.9 220.19,47.2441 \n",
       "  \"/>\n",
       "<polyline clip-path=\"url(#clip110)\" style=\"stroke:#000000; stroke-linecap:round; stroke-linejoin:round; stroke-width:4; stroke-opacity:1; fill:none\" points=\"\n",
       "  220.19,1301.81 239.088,1301.81 \n",
       "  \"/>\n",
       "<polyline clip-path=\"url(#clip110)\" style=\"stroke:#000000; stroke-linecap:round; stroke-linejoin:round; stroke-width:4; stroke-opacity:1; fill:none\" points=\"\n",
       "  220.19,1101.65 239.088,1101.65 \n",
       "  \"/>\n",
       "<polyline clip-path=\"url(#clip110)\" style=\"stroke:#000000; stroke-linecap:round; stroke-linejoin:round; stroke-width:4; stroke-opacity:1; fill:none\" points=\"\n",
       "  220.19,901.484 239.088,901.484 \n",
       "  \"/>\n",
       "<polyline clip-path=\"url(#clip110)\" style=\"stroke:#000000; stroke-linecap:round; stroke-linejoin:round; stroke-width:4; stroke-opacity:1; fill:none\" points=\"\n",
       "  220.19,701.321 239.088,701.321 \n",
       "  \"/>\n",
       "<polyline clip-path=\"url(#clip110)\" style=\"stroke:#000000; stroke-linecap:round; stroke-linejoin:round; stroke-width:4; stroke-opacity:1; fill:none\" points=\"\n",
       "  220.19,501.157 239.088,501.157 \n",
       "  \"/>\n",
       "<polyline clip-path=\"url(#clip110)\" style=\"stroke:#000000; stroke-linecap:round; stroke-linejoin:round; stroke-width:4; stroke-opacity:1; fill:none\" points=\"\n",
       "  220.19,300.994 239.088,300.994 \n",
       "  \"/>\n",
       "<polyline clip-path=\"url(#clip110)\" style=\"stroke:#000000; stroke-linecap:round; stroke-linejoin:round; stroke-width:4; stroke-opacity:1; fill:none\" points=\"\n",
       "  220.19,100.83 239.088,100.83 \n",
       "  \"/>\n",
       "<path clip-path=\"url(#clip110)\" d=\"M131.181 1300.46 Q134.538 1301.17 136.413 1303.44 Q138.311 1305.71 138.311 1309.05 Q138.311 1314.16 134.792 1316.96 Q131.274 1319.76 124.793 1319.76 Q122.617 1319.76 120.302 1319.32 Q118.01 1318.91 115.556 1318.05 L115.556 1313.54 Q117.501 1314.67 119.816 1315.25 Q122.13 1315.83 124.654 1315.83 Q129.052 1315.83 131.343 1314.09 Q133.658 1312.36 133.658 1309.05 Q133.658 1305.99 131.505 1304.28 Q129.376 1302.54 125.556 1302.54 L121.529 1302.54 L121.529 1298.7 L125.742 1298.7 Q129.191 1298.7 131.019 1297.33 Q132.848 1295.94 132.848 1293.35 Q132.848 1290.69 130.95 1289.28 Q129.075 1287.84 125.556 1287.84 Q123.635 1287.84 121.436 1288.26 Q119.237 1288.67 116.598 1289.55 L116.598 1285.39 Q119.26 1284.65 121.575 1284.28 Q123.913 1283.91 125.973 1283.91 Q131.297 1283.91 134.399 1286.34 Q137.501 1288.74 137.501 1292.86 Q137.501 1295.73 135.857 1297.73 Q134.214 1299.69 131.181 1300.46 Z\" fill=\"#000000\" fill-rule=\"evenodd\" fill-opacity=\"1\" /><path clip-path=\"url(#clip110)\" d=\"M147.177 1313.21 L152.061 1313.21 L152.061 1319.09 L147.177 1319.09 L147.177 1313.21 Z\" fill=\"#000000\" fill-rule=\"evenodd\" fill-opacity=\"1\" /><path clip-path=\"url(#clip110)\" d=\"M172.246 1287.61 Q168.635 1287.61 166.806 1291.17 Q165.001 1294.72 165.001 1301.85 Q165.001 1308.95 166.806 1312.52 Q168.635 1316.06 172.246 1316.06 Q175.88 1316.06 177.686 1312.52 Q179.514 1308.95 179.514 1301.85 Q179.514 1294.72 177.686 1291.17 Q175.88 1287.61 172.246 1287.61 M172.246 1283.91 Q178.056 1283.91 181.112 1288.51 Q184.19 1293.1 184.19 1301.85 Q184.19 1310.57 181.112 1315.18 Q178.056 1319.76 172.246 1319.76 Q166.436 1319.76 163.357 1315.18 Q160.302 1310.57 160.302 1301.85 Q160.302 1293.1 163.357 1288.51 Q166.436 1283.91 172.246 1283.91 Z\" fill=\"#000000\" fill-rule=\"evenodd\" fill-opacity=\"1\" /><path clip-path=\"url(#clip110)\" d=\"M132.177 1100.29 Q135.533 1101.01 137.408 1103.28 Q139.306 1105.55 139.306 1108.88 Q139.306 1114 135.788 1116.8 Q132.269 1119.6 125.788 1119.6 Q123.612 1119.6 121.297 1119.16 Q119.006 1118.74 116.552 1117.89 L116.552 1113.37 Q118.496 1114.51 120.811 1115.09 Q123.126 1115.66 125.649 1115.66 Q130.047 1115.66 132.339 1113.93 Q134.654 1112.19 134.654 1108.88 Q134.654 1105.83 132.501 1104.11 Q130.371 1102.38 126.552 1102.38 L122.524 1102.38 L122.524 1098.53 L126.737 1098.53 Q130.186 1098.53 132.015 1097.17 Q133.843 1095.78 133.843 1093.19 Q133.843 1090.53 131.945 1089.11 Q130.07 1087.68 126.552 1087.68 Q124.63 1087.68 122.431 1088.09 Q120.232 1088.51 117.593 1089.39 L117.593 1085.22 Q120.255 1084.48 122.57 1084.11 Q124.908 1083.74 126.968 1083.74 Q132.292 1083.74 135.394 1086.17 Q138.496 1088.58 138.496 1092.7 Q138.496 1095.57 136.853 1097.56 Q135.209 1099.53 132.177 1100.29 Z\" fill=\"#000000\" fill-rule=\"evenodd\" fill-opacity=\"1\" /><path clip-path=\"url(#clip110)\" d=\"M148.172 1113.05 L153.056 1113.05 L153.056 1118.93 L148.172 1118.93 L148.172 1113.05 Z\" fill=\"#000000\" fill-rule=\"evenodd\" fill-opacity=\"1\" /><path clip-path=\"url(#clip110)\" d=\"M163.288 1084.37 L181.644 1084.37 L181.644 1088.3 L167.57 1088.3 L167.57 1096.78 Q168.589 1096.43 169.607 1096.27 Q170.626 1096.08 171.644 1096.08 Q177.431 1096.08 180.811 1099.25 Q184.19 1102.42 184.19 1107.84 Q184.19 1113.42 180.718 1116.52 Q177.246 1119.6 170.927 1119.6 Q168.751 1119.6 166.482 1119.23 Q164.237 1118.86 161.829 1118.12 L161.829 1113.42 Q163.913 1114.55 166.135 1115.11 Q168.357 1115.66 170.834 1115.66 Q174.839 1115.66 177.176 1113.56 Q179.514 1111.45 179.514 1107.84 Q179.514 1104.23 177.176 1102.12 Q174.839 1100.02 170.834 1100.02 Q168.959 1100.02 167.084 1100.43 Q165.232 1100.85 163.288 1101.73 L163.288 1084.37 Z\" fill=\"#000000\" fill-rule=\"evenodd\" fill-opacity=\"1\" /><path clip-path=\"url(#clip110)\" d=\"M129.862 888.278 L118.056 906.727 L129.862 906.727 L129.862 888.278 M128.635 884.204 L134.515 884.204 L134.515 906.727 L139.445 906.727 L139.445 910.616 L134.515 910.616 L134.515 918.764 L129.862 918.764 L129.862 910.616 L114.26 910.616 L114.26 906.102 L128.635 884.204 Z\" fill=\"#000000\" fill-rule=\"evenodd\" fill-opacity=\"1\" /><path clip-path=\"url(#clip110)\" d=\"M147.177 912.885 L152.061 912.885 L152.061 918.764 L147.177 918.764 L147.177 912.885 Z\" fill=\"#000000\" fill-rule=\"evenodd\" fill-opacity=\"1\" /><path clip-path=\"url(#clip110)\" d=\"M172.246 887.283 Q168.635 887.283 166.806 890.848 Q165.001 894.389 165.001 901.519 Q165.001 908.625 166.806 912.19 Q168.635 915.732 172.246 915.732 Q175.88 915.732 177.686 912.19 Q179.514 908.625 179.514 901.519 Q179.514 894.389 177.686 890.848 Q175.88 887.283 172.246 887.283 M172.246 883.579 Q178.056 883.579 181.112 888.186 Q184.19 892.769 184.19 901.519 Q184.19 910.246 181.112 914.852 Q178.056 919.436 172.246 919.436 Q166.436 919.436 163.357 914.852 Q160.302 910.246 160.302 901.519 Q160.302 892.769 163.357 888.186 Q166.436 883.579 172.246 883.579 Z\" fill=\"#000000\" fill-rule=\"evenodd\" fill-opacity=\"1\" /><path clip-path=\"url(#clip110)\" d=\"M130.857 688.115 L119.052 706.564 L130.857 706.564 L130.857 688.115 M129.63 684.041 L135.51 684.041 L135.51 706.564 L140.441 706.564 L140.441 710.453 L135.51 710.453 L135.51 718.601 L130.857 718.601 L130.857 710.453 L115.256 710.453 L115.256 705.939 L129.63 684.041 Z\" fill=\"#000000\" fill-rule=\"evenodd\" fill-opacity=\"1\" /><path clip-path=\"url(#clip110)\" d=\"M148.172 712.721 L153.056 712.721 L153.056 718.601 L148.172 718.601 L148.172 712.721 Z\" fill=\"#000000\" fill-rule=\"evenodd\" fill-opacity=\"1\" /><path clip-path=\"url(#clip110)\" d=\"M163.288 684.041 L181.644 684.041 L181.644 687.976 L167.57 687.976 L167.57 696.448 Q168.589 696.101 169.607 695.939 Q170.626 695.754 171.644 695.754 Q177.431 695.754 180.811 698.925 Q184.19 702.096 184.19 707.513 Q184.19 713.092 180.718 716.193 Q177.246 719.272 170.927 719.272 Q168.751 719.272 166.482 718.902 Q164.237 718.531 161.829 717.791 L161.829 713.092 Q163.913 714.226 166.135 714.781 Q168.357 715.337 170.834 715.337 Q174.839 715.337 177.176 713.23 Q179.514 711.124 179.514 707.513 Q179.514 703.902 177.176 701.795 Q174.839 699.689 170.834 699.689 Q168.959 699.689 167.084 700.106 Q165.232 700.522 163.288 701.402 L163.288 684.041 Z\" fill=\"#000000\" fill-rule=\"evenodd\" fill-opacity=\"1\" /><path clip-path=\"url(#clip110)\" d=\"M117.061 483.877 L135.417 483.877 L135.417 487.813 L121.343 487.813 L121.343 496.285 Q122.362 495.937 123.38 495.775 Q124.399 495.59 125.418 495.59 Q131.205 495.59 134.584 498.762 Q137.964 501.933 137.964 507.349 Q137.964 512.928 134.492 516.03 Q131.019 519.109 124.7 519.109 Q122.524 519.109 120.255 518.738 Q118.01 518.368 115.603 517.627 L115.603 512.928 Q117.686 514.062 119.908 514.618 Q122.13 515.173 124.607 515.173 Q128.612 515.173 130.95 513.067 Q133.288 510.961 133.288 507.349 Q133.288 503.738 130.95 501.632 Q128.612 499.525 124.607 499.525 Q122.732 499.525 120.857 499.942 Q119.006 500.359 117.061 501.238 L117.061 483.877 Z\" fill=\"#000000\" fill-rule=\"evenodd\" fill-opacity=\"1\" /><path clip-path=\"url(#clip110)\" d=\"M147.177 512.558 L152.061 512.558 L152.061 518.437 L147.177 518.437 L147.177 512.558 Z\" fill=\"#000000\" fill-rule=\"evenodd\" fill-opacity=\"1\" /><path clip-path=\"url(#clip110)\" d=\"M172.246 486.956 Q168.635 486.956 166.806 490.521 Q165.001 494.062 165.001 501.192 Q165.001 508.299 166.806 511.863 Q168.635 515.405 172.246 515.405 Q175.88 515.405 177.686 511.863 Q179.514 508.299 179.514 501.192 Q179.514 494.062 177.686 490.521 Q175.88 486.956 172.246 486.956 M172.246 483.252 Q178.056 483.252 181.112 487.859 Q184.19 492.442 184.19 501.192 Q184.19 509.919 181.112 514.525 Q178.056 519.109 172.246 519.109 Q166.436 519.109 163.357 514.525 Q160.302 509.919 160.302 501.192 Q160.302 492.442 163.357 487.859 Q166.436 483.252 172.246 483.252 Z\" fill=\"#000000\" fill-rule=\"evenodd\" fill-opacity=\"1\" /><path clip-path=\"url(#clip110)\" d=\"M118.056 283.714 L136.413 283.714 L136.413 287.649 L122.339 287.649 L122.339 296.121 Q123.357 295.774 124.376 295.612 Q125.394 295.427 126.413 295.427 Q132.2 295.427 135.579 298.598 Q138.959 301.769 138.959 307.186 Q138.959 312.765 135.487 315.866 Q132.015 318.945 125.695 318.945 Q123.519 318.945 121.251 318.575 Q119.006 318.204 116.598 317.464 L116.598 312.765 Q118.681 313.899 120.904 314.454 Q123.126 315.01 125.603 315.01 Q129.607 315.01 131.945 312.904 Q134.283 310.797 134.283 307.186 Q134.283 303.575 131.945 301.468 Q129.607 299.362 125.603 299.362 Q123.728 299.362 121.853 299.779 Q120.001 300.195 118.056 301.075 L118.056 283.714 Z\" fill=\"#000000\" fill-rule=\"evenodd\" fill-opacity=\"1\" /><path clip-path=\"url(#clip110)\" d=\"M148.172 312.394 L153.056 312.394 L153.056 318.274 L148.172 318.274 L148.172 312.394 Z\" fill=\"#000000\" fill-rule=\"evenodd\" fill-opacity=\"1\" /><path clip-path=\"url(#clip110)\" d=\"M163.288 283.714 L181.644 283.714 L181.644 287.649 L167.57 287.649 L167.57 296.121 Q168.589 295.774 169.607 295.612 Q170.626 295.427 171.644 295.427 Q177.431 295.427 180.811 298.598 Q184.19 301.769 184.19 307.186 Q184.19 312.765 180.718 315.866 Q177.246 318.945 170.927 318.945 Q168.751 318.945 166.482 318.575 Q164.237 318.204 161.829 317.464 L161.829 312.765 Q163.913 313.899 166.135 314.454 Q168.357 315.01 170.834 315.01 Q174.839 315.01 177.176 312.904 Q179.514 310.797 179.514 307.186 Q179.514 303.575 177.176 301.468 Q174.839 299.362 170.834 299.362 Q168.959 299.362 167.084 299.779 Q165.232 300.195 163.288 301.075 L163.288 283.714 Z\" fill=\"#000000\" fill-rule=\"evenodd\" fill-opacity=\"1\" /><path clip-path=\"url(#clip110)\" d=\"M127.593 98.967 Q124.445 98.967 122.593 101.12 Q120.765 103.272 120.765 107.022 Q120.765 110.749 122.593 112.925 Q124.445 115.078 127.593 115.078 Q130.742 115.078 132.57 112.925 Q134.422 110.749 134.422 107.022 Q134.422 103.272 132.57 101.12 Q130.742 98.967 127.593 98.967 M136.876 84.3143 L136.876 88.5735 Q135.117 87.7402 133.311 87.3004 Q131.529 86.8605 129.769 86.8605 Q125.14 86.8605 122.686 89.9855 Q120.255 93.1105 119.908 99.4299 Q121.274 97.416 123.334 96.3512 Q125.394 95.2633 127.871 95.2633 Q133.08 95.2633 136.089 98.4346 Q139.121 101.583 139.121 107.022 Q139.121 112.347 135.973 115.564 Q132.825 118.782 127.593 118.782 Q121.598 118.782 118.427 114.198 Q115.256 109.592 115.256 100.865 Q115.256 92.6707 119.144 87.8096 Q123.033 82.9254 129.584 82.9254 Q131.343 82.9254 133.126 83.2726 Q134.931 83.6198 136.876 84.3143 Z\" fill=\"#000000\" fill-rule=\"evenodd\" fill-opacity=\"1\" /><path clip-path=\"url(#clip110)\" d=\"M147.177 112.231 L152.061 112.231 L152.061 118.11 L147.177 118.11 L147.177 112.231 Z\" fill=\"#000000\" fill-rule=\"evenodd\" fill-opacity=\"1\" /><path clip-path=\"url(#clip110)\" d=\"M172.246 86.6291 Q168.635 86.6291 166.806 90.1939 Q165.001 93.7355 165.001 100.865 Q165.001 107.972 166.806 111.536 Q168.635 115.078 172.246 115.078 Q175.88 115.078 177.686 111.536 Q179.514 107.972 179.514 100.865 Q179.514 93.7355 177.686 90.1939 Q175.88 86.6291 172.246 86.6291 M172.246 82.9254 Q178.056 82.9254 181.112 87.5318 Q184.19 92.1151 184.19 100.865 Q184.19 109.592 181.112 114.198 Q178.056 118.782 172.246 118.782 Q166.436 118.782 163.357 114.198 Q160.302 109.592 160.302 100.865 Q160.302 92.1151 163.357 87.5318 Q166.436 82.9254 172.246 82.9254 Z\" fill=\"#000000\" fill-rule=\"evenodd\" fill-opacity=\"1\" /><path clip-path=\"url(#clip110)\" d=\"M22.818 978.129 L46.4666 986.85 L46.4666 969.376 L22.818 978.129 M16.4842 981.757 L16.4842 974.468 L64.0042 956.358 L64.0042 963.042 L51.8138 967.371 L51.8138 988.791 L64.0042 993.12 L64.0042 999.899 L16.4842 981.757 Z\" fill=\"#000000\" fill-rule=\"evenodd\" fill-opacity=\"1\" /><path clip-path=\"url(#clip110)\" d=\"M28.3562 957.695 L28.3562 951.488 L58.275 940.348 L28.3562 929.208 L28.3562 923.002 L64.0042 936.37 L64.0042 944.327 L28.3562 957.695 Z\" fill=\"#000000\" fill-rule=\"evenodd\" fill-opacity=\"1\" /><path clip-path=\"url(#clip110)\" d=\"M44.7161 884.425 L47.5806 884.425 L47.5806 911.352 Q53.6281 910.97 56.8109 907.724 Q59.9619 904.446 59.9619 898.621 Q59.9619 895.247 59.1344 892.096 Q58.3069 888.913 56.6518 885.794 L62.1899 885.794 Q63.5267 888.945 64.227 892.255 Q64.9272 895.565 64.9272 898.971 Q64.9272 907.501 59.9619 912.498 Q54.9967 917.463 46.5303 917.463 Q37.7774 917.463 32.6531 912.753 Q27.4968 908.01 27.4968 899.99 Q27.4968 892.796 32.1438 888.627 Q36.7589 884.425 44.7161 884.425 M42.9973 890.282 Q38.1912 890.346 35.3266 892.987 Q32.4621 895.597 32.4621 899.926 Q32.4621 904.828 35.2312 907.788 Q38.0002 910.716 43.0292 911.161 L42.9973 890.282 Z\" fill=\"#000000\" fill-rule=\"evenodd\" fill-opacity=\"1\" /><path clip-path=\"url(#clip110)\" d=\"M33.8307 854.157 Q33.2578 855.143 33.0032 856.321 Q32.7167 857.467 32.7167 858.867 Q32.7167 863.832 35.9632 866.506 Q39.1779 869.148 45.2253 869.148 L64.0042 869.148 L64.0042 875.036 L28.3562 875.036 L28.3562 869.148 L33.8944 869.148 Q30.6479 867.302 29.0883 864.342 Q27.4968 861.382 27.4968 857.148 Q27.4968 856.544 27.5923 855.812 Q27.656 855.08 27.8151 854.188 L33.8307 854.157 Z\" fill=\"#000000\" fill-rule=\"evenodd\" fill-opacity=\"1\" /><path clip-path=\"url(#clip110)\" d=\"M46.0847 831.813 Q46.0847 838.911 47.7079 841.648 Q49.3312 844.385 53.2461 844.385 Q56.3653 844.385 58.2114 842.348 Q60.0256 840.279 60.0256 836.746 Q60.0256 831.877 56.5881 828.948 Q53.1188 825.988 47.3897 825.988 L46.0847 825.988 L46.0847 831.813 M43.6657 820.132 L64.0042 820.132 L64.0042 825.988 L58.5933 825.988 Q61.8398 827.993 63.3994 830.985 Q64.9272 833.977 64.9272 838.306 Q64.9272 843.78 61.8716 847.027 Q58.7843 850.242 53.6281 850.242 Q47.6125 850.242 44.5569 846.231 Q41.5014 842.189 41.5014 834.2 L41.5014 825.988 L40.9285 825.988 Q36.8862 825.988 34.6901 828.662 Q32.4621 831.304 32.4621 836.11 Q32.4621 839.165 33.1941 842.062 Q33.9262 844.958 35.3903 847.632 L29.9795 847.632 Q28.7381 844.417 28.1334 841.393 Q27.4968 838.37 27.4968 835.505 Q27.4968 827.771 31.5072 823.951 Q35.5176 820.132 43.6657 820.132 Z\" fill=\"#000000\" fill-rule=\"evenodd\" fill-opacity=\"1\" /><path clip-path=\"url(#clip110)\" d=\"M45.7664 784.611 Q39.4007 784.611 35.8996 787.253 Q32.3984 789.863 32.3984 794.605 Q32.3984 799.316 35.8996 801.958 Q39.4007 804.568 45.7664 804.568 Q52.1003 804.568 55.6014 801.958 Q59.1026 799.316 59.1026 794.605 Q59.1026 789.863 55.6014 787.253 Q52.1003 784.611 45.7664 784.611 M59.58 778.755 Q68.683 778.755 73.1071 782.797 Q77.5631 786.839 77.5631 795.178 Q77.5631 798.266 77.0857 801.003 Q76.6401 803.74 75.6852 806.318 L69.9879 806.318 Q71.3884 803.74 72.0568 801.226 Q72.7252 798.711 72.7252 796.101 Q72.7252 790.34 69.7015 787.476 Q66.7096 784.611 60.6303 784.611 L57.7339 784.611 Q60.885 786.425 62.4446 789.258 Q64.0042 792.091 64.0042 796.038 Q64.0042 802.594 59.0071 806.605 Q54.01 810.615 45.7664 810.615 Q37.491 810.615 32.4939 806.605 Q27.4968 802.594 27.4968 796.038 Q27.4968 792.091 29.0564 789.258 Q30.616 786.425 33.7671 784.611 L28.3562 784.611 L28.3562 778.755 L59.58 778.755 Z\" fill=\"#000000\" fill-rule=\"evenodd\" fill-opacity=\"1\" /><path clip-path=\"url(#clip110)\" d=\"M44.7161 736.2 L47.5806 736.2 L47.5806 763.127 Q53.6281 762.745 56.8109 759.498 Q59.9619 756.22 59.9619 750.395 Q59.9619 747.022 59.1344 743.871 Q58.3069 740.688 56.6518 737.569 L62.1899 737.569 Q63.5267 740.72 64.227 744.03 Q64.9272 747.34 64.9272 750.746 Q64.9272 759.276 59.9619 764.273 Q54.9967 769.238 46.5303 769.238 Q37.7774 769.238 32.6531 764.527 Q27.4968 759.785 27.4968 751.764 Q27.4968 744.571 32.1438 740.401 Q36.7589 736.2 44.7161 736.2 M42.9973 742.056 Q38.1912 742.12 35.3266 744.762 Q32.4621 747.372 32.4621 751.7 Q32.4621 756.602 35.2312 759.562 Q38.0002 762.49 43.0292 762.936 L42.9973 742.056 Z\" fill=\"#000000\" fill-rule=\"evenodd\" fill-opacity=\"1\" /><path clip-path=\"url(#clip110)\" d=\"M64.0042 693.359 L16.4842 711.501 L16.4842 704.785 L56.4926 689.73 L16.4842 674.644 L16.4842 667.96 L64.0042 686.07 L64.0042 693.359 Z\" fill=\"#000000\" fill-rule=\"evenodd\" fill-opacity=\"1\" /><path clip-path=\"url(#clip110)\" d=\"M44.7161 635.845 L47.5806 635.845 L47.5806 662.772 Q53.6281 662.39 56.8109 659.143 Q59.9619 655.865 59.9619 650.04 Q59.9619 646.666 59.1344 643.515 Q58.3069 640.332 56.6518 637.213 L62.1899 637.213 Q63.5267 640.364 64.227 643.674 Q64.9272 646.985 64.9272 650.39 Q64.9272 658.92 59.9619 663.917 Q54.9967 668.883 46.5303 668.883 Q37.7774 668.883 32.6531 664.172 Q27.4968 659.43 27.4968 651.409 Q27.4968 644.215 32.1438 640.046 Q36.7589 635.845 44.7161 635.845 M42.9973 641.701 Q38.1912 641.765 35.3266 644.406 Q32.4621 647.016 32.4621 651.345 Q32.4621 656.247 35.2312 659.207 Q38.0002 662.135 43.0292 662.581 L42.9973 641.701 Z\" fill=\"#000000\" fill-rule=\"evenodd\" fill-opacity=\"1\" /><path clip-path=\"url(#clip110)\" d=\"M14.479 626.232 L14.479 620.376 L64.0042 620.376 L64.0042 626.232 L14.479 626.232 Z\" fill=\"#000000\" fill-rule=\"evenodd\" fill-opacity=\"1\" /><path clip-path=\"url(#clip110)\" d=\"M32.4621 594.308 Q32.4621 599.019 36.1542 601.756 Q39.8145 604.493 46.212 604.493 Q52.6095 604.493 56.3017 601.788 Q59.9619 599.051 59.9619 594.308 Q59.9619 589.63 56.2698 586.892 Q52.5777 584.155 46.212 584.155 Q39.8781 584.155 36.186 586.892 Q32.4621 589.63 32.4621 594.308 M27.4968 594.308 Q27.4968 586.67 32.4621 582.309 Q37.4273 577.948 46.212 577.948 Q54.9649 577.948 59.9619 582.309 Q64.9272 586.67 64.9272 594.308 Q64.9272 601.979 59.9619 606.34 Q54.9649 610.668 46.212 610.668 Q37.4273 610.668 32.4621 606.34 Q27.4968 601.979 27.4968 594.308 Z\" fill=\"#000000\" fill-rule=\"evenodd\" fill-opacity=\"1\" /><path clip-path=\"url(#clip110)\" d=\"M29.7248 542.587 L35.1993 542.587 Q33.8307 545.07 33.1623 547.584 Q32.4621 550.067 32.4621 552.613 Q32.4621 558.31 36.0905 561.461 Q39.6872 564.612 46.212 564.612 Q52.7369 564.612 56.3653 561.461 Q59.9619 558.31 59.9619 552.613 Q59.9619 550.067 59.2935 547.584 Q58.5933 545.07 57.2247 542.587 L62.6355 542.587 Q63.7814 545.038 64.3543 547.68 Q64.9272 550.289 64.9272 553.25 Q64.9272 561.302 59.8664 566.045 Q54.8057 570.787 46.212 570.787 Q37.491 570.787 32.4939 566.013 Q27.4968 561.207 27.4968 552.868 Q27.4968 550.162 28.0697 547.584 Q28.6108 545.006 29.7248 542.587 Z\" fill=\"#000000\" fill-rule=\"evenodd\" fill-opacity=\"1\" /><path clip-path=\"url(#clip110)\" d=\"M28.3562 532.402 L28.3562 526.545 L64.0042 526.545 L64.0042 532.402 L28.3562 532.402 M14.479 532.402 L14.479 526.545 L21.895 526.545 L21.895 532.402 L14.479 532.402 Z\" fill=\"#000000\" fill-rule=\"evenodd\" fill-opacity=\"1\" /><path clip-path=\"url(#clip110)\" d=\"M18.2347 508.499 L28.3562 508.499 L28.3562 496.436 L32.9077 496.436 L32.9077 508.499 L52.2594 508.499 Q56.6199 508.499 57.8613 507.321 Q59.1026 506.111 59.1026 502.451 L59.1026 496.436 L64.0042 496.436 L64.0042 502.451 Q64.0042 509.231 61.4897 511.809 Q58.9434 514.387 52.2594 514.387 L32.9077 514.387 L32.9077 518.684 L28.3562 518.684 L28.3562 514.387 L18.2347 514.387 L18.2347 508.499 Z\" fill=\"#000000\" fill-rule=\"evenodd\" fill-opacity=\"1\" /><path clip-path=\"url(#clip110)\" d=\"M67.3143 473.901 Q73.68 476.384 75.6216 478.739 Q77.5631 481.094 77.5631 485.041 L77.5631 489.72 L72.6615 489.72 L72.6615 486.282 Q72.6615 483.863 71.5157 482.527 Q70.3699 481.19 66.1048 479.566 L63.4312 478.516 L28.3562 492.934 L28.3562 486.728 L56.238 475.588 L28.3562 464.448 L28.3562 458.241 L67.3143 473.901 Z\" fill=\"#000000\" fill-rule=\"evenodd\" fill-opacity=\"1\" /><polyline clip-path=\"url(#clip112)\" style=\"stroke:#009af9; stroke-linecap:round; stroke-linejoin:round; stroke-width:4; stroke-opacity:1; fill:none\" points=\"\n",
       "  280.546,1372.3 294.048,1100.82 307.551,986.508 321.053,873.829 334.555,818.698 348.058,801.4 361.56,644.612 375.063,719.101 388.565,692.633 402.067,595.482 \n",
       "  415.57,700.563 429.072,644.103 442.575,512.414 456.077,586.066 469.579,481.996 483.082,635.633 496.584,646.873 510.086,586.062 523.589,537.853 537.091,517.803 \n",
       "  550.594,451.011 564.096,551.792 577.598,570.812 591.101,405.397 604.603,501.122 618.105,481.078 631.608,418.817 645.11,432.8 658.613,448.465 672.115,438.044 \n",
       "  685.617,383.304 699.12,426.729 712.622,483.648 726.124,463.481 739.627,526.991 753.129,416.322 766.632,474.277 780.134,431.835 793.636,554.279 807.139,443.567 \n",
       "  820.641,428.632 834.143,502.456 847.646,397.254 861.148,338.53 874.651,343.354 888.153,378.961 901.655,260.451 915.158,390.659 928.66,354.186 942.162,317.84 \n",
       "  955.665,321.76 969.167,196.023 982.67,219.642 996.172,302.099 1009.67,420.135 1023.18,309.656 1036.68,398.19 1050.18,329.007 1063.68,292.536 1077.19,226.364 \n",
       "  1090.69,379.132 1104.19,161.496 1117.69,400.23 1131.2,308.51 1144.7,235.479 1158.2,177.871 1171.7,342.769 1185.21,329.78 1198.71,289.034 1212.21,180.981 \n",
       "  1225.71,351.204 1239.21,314.872 1252.72,387.745 1266.22,247.486 1279.72,298.019 1293.22,275.215 1306.73,397.462 1320.23,332.53 1333.73,413.705 1347.23,313.614 \n",
       "  1360.74,308.657 1374.24,321.862 1387.74,406.751 1401.24,304.283 1414.75,291.934 1428.25,338.786 1441.75,321.599 1455.25,230.757 1468.76,384.703 1482.26,339.822 \n",
       "  1495.76,324.53 1509.26,478.877 1522.76,307.01 1536.27,341.885 1549.77,359.531 1563.27,426.443 1576.77,268.301 1590.28,247.336 1603.78,300.134 1617.28,324.814 \n",
       "  1630.78,224.696 1644.29,220.031 1657.79,284.162 1671.29,218.278 1684.79,219.169 1698.3,233.974 1711.8,214.458 1725.3,368.314 1738.8,475.87 1752.31,388.37 \n",
       "  1765.81,337.184 1779.31,166.91 1792.81,114.017 1806.31,310.548 1819.82,310.139 1833.32,260.247 1846.82,131.795 1860.32,253.98 1873.83,231.132 1887.33,156.815 \n",
       "  1900.83,220.692 1914.33,307.516 1927.84,118.916 1941.34,161.429 1954.84,227.171 1968.34,231.295 1981.85,85.838 1995.35,189.564 2008.85,179.119 2022.35,251.694 \n",
       "  2035.86,304.571 2049.36,303.475 2062.86,268.226 2076.36,277.461 2089.86,137.849 2103.37,152.488 2116.87,196.934 2130.37,300.293 2143.87,200.883 2157.38,194.429 \n",
       "  2170.88,148.665 2184.38,279.983 2197.88,185.727 2211.39,224.396 2224.89,258.116 2238.39,155.32 2251.89,203.979 2265.4,196.943 2278.9,204.219 2292.4,263.118 \n",
       "  \n",
       "  \"/>\n",
       "</svg>\n"
      ]
     },
     "execution_count": 37,
     "metadata": {},
     "output_type": "execute_result"
    }
   ],
   "source": [
    "plot([1:num_model] * 10000, avg_velocity, xlabel=\"Iterations\", ylabel=\"Average Velocity\", legend = false, xformatter = :scientific)"
   ]
  },
  {
   "cell_type": "code",
   "execution_count": 38,
   "id": "c3113dc1",
   "metadata": {},
   "outputs": [],
   "source": [
    "savefig(fig_path * \"avg_velocity.svg\")"
   ]
  },
  {
   "cell_type": "code",
   "execution_count": 39,
   "id": "1b4de56f",
   "metadata": {},
   "outputs": [
    {
     "data": {
      "image/svg+xml": [
       "<?xml version=\"1.0\" encoding=\"utf-8\"?>\n",
       "<svg xmlns=\"http://www.w3.org/2000/svg\" xmlns:xlink=\"http://www.w3.org/1999/xlink\" width=\"600\" height=\"400\" viewBox=\"0 0 2400 1600\">\n",
       "<defs>\n",
       "  <clipPath id=\"clip190\">\n",
       "    <rect x=\"0\" y=\"0\" width=\"2400\" height=\"1600\"/>\n",
       "  </clipPath>\n",
       "</defs>\n",
       "<path clip-path=\"url(#clip190)\" d=\"\n",
       "M0 1600 L2400 1600 L2400 0 L0 0  Z\n",
       "  \" fill=\"#ffffff\" fill-rule=\"evenodd\" fill-opacity=\"1\"/>\n",
       "<defs>\n",
       "  <clipPath id=\"clip191\">\n",
       "    <rect x=\"480\" y=\"0\" width=\"1681\" height=\"1600\"/>\n",
       "  </clipPath>\n",
       "</defs>\n",
       "<path clip-path=\"url(#clip190)\" d=\"\n",
       "M175.445 1410.9 L2352.76 1410.9 L2352.76 47.2441 L175.445 47.2441  Z\n",
       "  \" fill=\"#ffffff\" fill-rule=\"evenodd\" fill-opacity=\"1\"/>\n",
       "<defs>\n",
       "  <clipPath id=\"clip192\">\n",
       "    <rect x=\"175\" y=\"47\" width=\"2178\" height=\"1365\"/>\n",
       "  </clipPath>\n",
       "</defs>\n",
       "<polyline clip-path=\"url(#clip192)\" style=\"stroke:#000000; stroke-linecap:round; stroke-linejoin:round; stroke-width:2; stroke-opacity:0.1; fill:none\" points=\"\n",
       "  223.282,1410.9 223.282,47.2441 \n",
       "  \"/>\n",
       "<polyline clip-path=\"url(#clip192)\" style=\"stroke:#000000; stroke-linecap:round; stroke-linejoin:round; stroke-width:2; stroke-opacity:0.1; fill:none\" points=\"\n",
       "  912.566,1410.9 912.566,47.2441 \n",
       "  \"/>\n",
       "<polyline clip-path=\"url(#clip192)\" style=\"stroke:#000000; stroke-linecap:round; stroke-linejoin:round; stroke-width:2; stroke-opacity:0.1; fill:none\" points=\"\n",
       "  1601.85,1410.9 1601.85,47.2441 \n",
       "  \"/>\n",
       "<polyline clip-path=\"url(#clip192)\" style=\"stroke:#000000; stroke-linecap:round; stroke-linejoin:round; stroke-width:2; stroke-opacity:0.1; fill:none\" points=\"\n",
       "  2291.13,1410.9 2291.13,47.2441 \n",
       "  \"/>\n",
       "<polyline clip-path=\"url(#clip190)\" style=\"stroke:#000000; stroke-linecap:round; stroke-linejoin:round; stroke-width:4; stroke-opacity:1; fill:none\" points=\"\n",
       "  175.445,1410.9 2352.76,1410.9 \n",
       "  \"/>\n",
       "<polyline clip-path=\"url(#clip190)\" style=\"stroke:#000000; stroke-linecap:round; stroke-linejoin:round; stroke-width:4; stroke-opacity:1; fill:none\" points=\"\n",
       "  223.282,1410.9 223.282,1392 \n",
       "  \"/>\n",
       "<polyline clip-path=\"url(#clip190)\" style=\"stroke:#000000; stroke-linecap:round; stroke-linejoin:round; stroke-width:4; stroke-opacity:1; fill:none\" points=\"\n",
       "  912.566,1410.9 912.566,1392 \n",
       "  \"/>\n",
       "<polyline clip-path=\"url(#clip190)\" style=\"stroke:#000000; stroke-linecap:round; stroke-linejoin:round; stroke-width:4; stroke-opacity:1; fill:none\" points=\"\n",
       "  1601.85,1410.9 1601.85,1392 \n",
       "  \"/>\n",
       "<polyline clip-path=\"url(#clip190)\" style=\"stroke:#000000; stroke-linecap:round; stroke-linejoin:round; stroke-width:4; stroke-opacity:1; fill:none\" points=\"\n",
       "  2291.13,1410.9 2291.13,1392 \n",
       "  \"/>\n",
       "<path clip-path=\"url(#clip190)\" d=\"M223.282 1441.82 Q219.67 1441.82 217.842 1445.38 Q216.036 1448.92 216.036 1456.05 Q216.036 1463.16 217.842 1466.72 Q219.67 1470.26 223.282 1470.26 Q226.916 1470.26 228.721 1466.72 Q230.55 1463.16 230.55 1456.05 Q230.55 1448.92 228.721 1445.38 Q226.916 1441.82 223.282 1441.82 M223.282 1438.11 Q229.092 1438.11 232.147 1442.72 Q235.226 1447.3 235.226 1456.05 Q235.226 1464.78 232.147 1469.38 Q229.092 1473.97 223.282 1473.97 Q217.471 1473.97 214.393 1469.38 Q211.337 1464.78 211.337 1456.05 Q211.337 1447.3 214.393 1442.72 Q217.471 1438.11 223.282 1438.11 Z\" fill=\"#000000\" fill-rule=\"evenodd\" fill-opacity=\"1\" /><path clip-path=\"url(#clip190)\" d=\"M805.542 1454.4 L823.899 1454.4 L823.899 1458.33 L809.825 1458.33 L809.825 1466.8 Q810.843 1466.46 811.862 1466.29 Q812.88 1466.11 813.899 1466.11 Q819.686 1466.11 823.065 1469.28 Q826.445 1472.45 826.445 1477.87 Q826.445 1483.45 822.973 1486.55 Q819.5 1489.63 813.181 1489.63 Q811.005 1489.63 808.737 1489.26 Q806.491 1488.89 804.084 1488.15 L804.084 1483.45 Q806.167 1484.58 808.389 1485.14 Q810.612 1485.69 813.088 1485.69 Q817.093 1485.69 819.431 1483.59 Q821.769 1481.48 821.769 1477.87 Q821.769 1474.26 819.431 1472.15 Q817.093 1470.04 813.088 1470.04 Q811.213 1470.04 809.338 1470.46 Q807.487 1470.88 805.542 1471.76 L805.542 1454.4 Z\" fill=\"#000000\" fill-rule=\"evenodd\" fill-opacity=\"1\" /><path clip-path=\"url(#clip190)\" d=\"M835.658 1483.08 L840.542 1483.08 L840.542 1488.96 L835.658 1488.96 L835.658 1483.08 Z\" fill=\"#000000\" fill-rule=\"evenodd\" fill-opacity=\"1\" /><path clip-path=\"url(#clip190)\" d=\"M860.727 1457.48 Q857.116 1457.48 855.287 1461.04 Q853.482 1464.58 853.482 1471.71 Q853.482 1478.82 855.287 1482.38 Q857.116 1485.92 860.727 1485.92 Q864.361 1485.92 866.167 1482.38 Q867.996 1478.82 867.996 1471.71 Q867.996 1464.58 866.167 1461.04 Q864.361 1457.48 860.727 1457.48 M860.727 1453.77 Q866.537 1453.77 869.593 1458.38 Q872.671 1462.96 872.671 1471.71 Q872.671 1480.44 869.593 1485.04 Q866.537 1489.63 860.727 1489.63 Q854.917 1489.63 851.838 1485.04 Q848.783 1480.44 848.783 1471.71 Q848.783 1462.96 851.838 1458.38 Q854.917 1453.77 860.727 1453.77 Z\" fill=\"#000000\" fill-rule=\"evenodd\" fill-opacity=\"1\" /><path clip-path=\"url(#clip190)\" d=\"M890.889 1457.48 Q887.278 1457.48 885.449 1461.04 Q883.644 1464.58 883.644 1471.71 Q883.644 1478.82 885.449 1482.38 Q887.278 1485.92 890.889 1485.92 Q894.523 1485.92 896.329 1482.38 Q898.157 1478.82 898.157 1471.71 Q898.157 1464.58 896.329 1461.04 Q894.523 1457.48 890.889 1457.48 M890.889 1453.77 Q896.699 1453.77 899.755 1458.38 Q902.833 1462.96 902.833 1471.71 Q902.833 1480.44 899.755 1485.04 Q896.699 1489.63 890.889 1489.63 Q885.079 1489.63 882 1485.04 Q878.945 1480.44 878.945 1471.71 Q878.945 1462.96 882 1458.38 Q885.079 1453.77 890.889 1453.77 Z\" fill=\"#000000\" fill-rule=\"evenodd\" fill-opacity=\"1\" /><path clip-path=\"url(#clip190)\" d=\"M939.222 1463.49 L928.643 1474.12 L939.222 1484.7 L936.467 1487.5 L925.842 1476.87 L915.218 1487.5 L912.486 1484.7 L923.042 1474.12 L912.486 1463.49 L915.218 1460.69 L925.842 1471.32 L936.467 1460.69 L939.222 1463.49 Z\" fill=\"#000000\" fill-rule=\"evenodd\" fill-opacity=\"1\" /><path clip-path=\"url(#clip190)\" d=\"M951.583 1485.02 L959.222 1485.02 L959.222 1458.66 L950.912 1460.32 L950.912 1456.06 L959.176 1454.4 L963.852 1454.4 L963.852 1485.02 L971.49 1485.02 L971.49 1488.96 L951.583 1488.96 L951.583 1485.02 Z\" fill=\"#000000\" fill-rule=\"evenodd\" fill-opacity=\"1\" /><path clip-path=\"url(#clip190)\" d=\"M990.935 1457.48 Q987.324 1457.48 985.495 1461.04 Q983.689 1464.58 983.689 1471.71 Q983.689 1478.82 985.495 1482.38 Q987.324 1485.92 990.935 1485.92 Q994.569 1485.92 996.375 1482.38 Q998.203 1478.82 998.203 1471.71 Q998.203 1464.58 996.375 1461.04 Q994.569 1457.48 990.935 1457.48 M990.935 1453.77 Q996.745 1453.77 999.8 1458.38 Q1002.88 1462.96 1002.88 1471.71 Q1002.88 1480.44 999.8 1485.04 Q996.745 1489.63 990.935 1489.63 Q985.125 1489.63 982.046 1485.04 Q978.99 1480.44 978.99 1471.71 Q978.99 1462.96 982.046 1458.38 Q985.125 1453.77 990.935 1453.77 Z\" fill=\"#000000\" fill-rule=\"evenodd\" fill-opacity=\"1\" /><path clip-path=\"url(#clip190)\" d=\"M1004.06 1433.47 L1018.98 1433.47 L1018.98 1436.66 L1007.54 1436.66 L1007.54 1443.55 Q1008.37 1443.27 1009.2 1443.13 Q1010.03 1442.98 1010.85 1442.98 Q1015.56 1442.98 1018.3 1445.56 Q1021.05 1448.14 1021.05 1452.54 Q1021.05 1457.07 1018.23 1459.59 Q1015.41 1462.09 1010.27 1462.09 Q1008.5 1462.09 1006.66 1461.79 Q1004.84 1461.49 1002.88 1460.89 L1002.88 1457.07 Q1004.57 1457.99 1006.38 1458.44 Q1008.18 1458.89 1010.2 1458.89 Q1013.45 1458.89 1015.35 1457.18 Q1017.25 1455.47 1017.25 1452.54 Q1017.25 1449.6 1015.35 1447.89 Q1013.45 1446.18 1010.2 1446.18 Q1008.67 1446.18 1007.15 1446.52 Q1005.64 1446.86 1004.06 1447.57 L1004.06 1433.47 Z\" fill=\"#000000\" fill-rule=\"evenodd\" fill-opacity=\"1\" /><path clip-path=\"url(#clip190)\" d=\"M1494.2 1485.02 L1501.84 1485.02 L1501.84 1458.66 L1493.53 1460.32 L1493.53 1456.06 L1501.8 1454.4 L1506.47 1454.4 L1506.47 1485.02 L1514.11 1485.02 L1514.11 1488.96 L1494.2 1488.96 L1494.2 1485.02 Z\" fill=\"#000000\" fill-rule=\"evenodd\" fill-opacity=\"1\" /><path clip-path=\"url(#clip190)\" d=\"M1523.56 1483.08 L1528.44 1483.08 L1528.44 1488.96 L1523.56 1488.96 L1523.56 1483.08 Z\" fill=\"#000000\" fill-rule=\"evenodd\" fill-opacity=\"1\" /><path clip-path=\"url(#clip190)\" d=\"M1548.62 1457.48 Q1545.01 1457.48 1543.18 1461.04 Q1541.38 1464.58 1541.38 1471.71 Q1541.38 1478.82 1543.18 1482.38 Q1545.01 1485.92 1548.62 1485.92 Q1552.26 1485.92 1554.06 1482.38 Q1555.89 1478.82 1555.89 1471.71 Q1555.89 1464.58 1554.06 1461.04 Q1552.26 1457.48 1548.62 1457.48 M1548.62 1453.77 Q1554.43 1453.77 1557.49 1458.38 Q1560.57 1462.96 1560.57 1471.71 Q1560.57 1480.44 1557.49 1485.04 Q1554.43 1489.63 1548.62 1489.63 Q1542.81 1489.63 1539.74 1485.04 Q1536.68 1480.44 1536.68 1471.71 Q1536.68 1462.96 1539.74 1458.38 Q1542.81 1453.77 1548.62 1453.77 Z\" fill=\"#000000\" fill-rule=\"evenodd\" fill-opacity=\"1\" /><path clip-path=\"url(#clip190)\" d=\"M1578.79 1457.48 Q1575.18 1457.48 1573.35 1461.04 Q1571.54 1464.58 1571.54 1471.71 Q1571.54 1478.82 1573.35 1482.38 Q1575.18 1485.92 1578.79 1485.92 Q1582.42 1485.92 1584.23 1482.38 Q1586.05 1478.82 1586.05 1471.71 Q1586.05 1464.58 1584.23 1461.04 Q1582.42 1457.48 1578.79 1457.48 M1578.79 1453.77 Q1584.6 1453.77 1587.65 1458.38 Q1590.73 1462.96 1590.73 1471.71 Q1590.73 1480.44 1587.65 1485.04 Q1584.6 1489.63 1578.79 1489.63 Q1572.98 1489.63 1569.9 1485.04 Q1566.84 1480.44 1566.84 1471.71 Q1566.84 1462.96 1569.9 1458.38 Q1572.98 1453.77 1578.79 1453.77 Z\" fill=\"#000000\" fill-rule=\"evenodd\" fill-opacity=\"1\" /><path clip-path=\"url(#clip190)\" d=\"M1627.12 1463.49 L1616.54 1474.12 L1627.12 1484.7 L1624.36 1487.5 L1613.74 1476.87 L1603.11 1487.5 L1600.38 1484.7 L1610.94 1474.12 L1600.38 1463.49 L1603.11 1460.69 L1613.74 1471.32 L1624.36 1460.69 L1627.12 1463.49 Z\" fill=\"#000000\" fill-rule=\"evenodd\" fill-opacity=\"1\" /><path clip-path=\"url(#clip190)\" d=\"M1639.48 1485.02 L1647.12 1485.02 L1647.12 1458.66 L1638.81 1460.32 L1638.81 1456.06 L1647.07 1454.4 L1651.75 1454.4 L1651.75 1485.02 L1659.39 1485.02 L1659.39 1488.96 L1639.48 1488.96 L1639.48 1485.02 Z\" fill=\"#000000\" fill-rule=\"evenodd\" fill-opacity=\"1\" /><path clip-path=\"url(#clip190)\" d=\"M1678.83 1457.48 Q1675.22 1457.48 1673.39 1461.04 Q1671.59 1464.58 1671.59 1471.71 Q1671.59 1478.82 1673.39 1482.38 Q1675.22 1485.92 1678.83 1485.92 Q1682.47 1485.92 1684.27 1482.38 Q1686.1 1478.82 1686.1 1471.71 Q1686.1 1464.58 1684.27 1461.04 Q1682.47 1457.48 1678.83 1457.48 M1678.83 1453.77 Q1684.64 1453.77 1687.7 1458.38 Q1690.78 1462.96 1690.78 1471.71 Q1690.78 1480.44 1687.7 1485.04 Q1684.64 1489.63 1678.83 1489.63 Q1673.02 1489.63 1669.94 1485.04 Q1666.89 1480.44 1666.89 1471.71 Q1666.89 1462.96 1669.94 1458.38 Q1673.02 1453.77 1678.83 1453.77 Z\" fill=\"#000000\" fill-rule=\"evenodd\" fill-opacity=\"1\" /><path clip-path=\"url(#clip190)\" d=\"M1700.8 1445.99 Q1698.24 1445.99 1696.74 1447.74 Q1695.25 1449.49 1695.25 1452.54 Q1695.25 1455.57 1696.74 1457.33 Q1698.24 1459.08 1700.8 1459.08 Q1703.36 1459.08 1704.84 1457.33 Q1706.35 1455.57 1706.35 1452.54 Q1706.35 1449.49 1704.84 1447.74 Q1703.36 1445.99 1700.8 1445.99 M1708.34 1434.09 L1708.34 1437.55 Q1706.91 1436.87 1705.45 1436.51 Q1704 1436.16 1702.57 1436.16 Q1698.81 1436.16 1696.81 1438.69 Q1694.84 1441.23 1694.56 1446.37 Q1695.67 1444.73 1697.34 1443.87 Q1699.01 1442.98 1701.03 1442.98 Q1705.26 1442.98 1707.7 1445.56 Q1710.17 1448.12 1710.17 1452.54 Q1710.17 1456.86 1707.61 1459.48 Q1705.05 1462.09 1700.8 1462.09 Q1695.93 1462.09 1693.35 1458.37 Q1690.78 1454.62 1690.78 1447.53 Q1690.78 1440.88 1693.94 1436.93 Q1697.1 1432.96 1702.42 1432.96 Q1703.85 1432.96 1705.3 1433.24 Q1706.76 1433.52 1708.34 1434.09 Z\" fill=\"#000000\" fill-rule=\"evenodd\" fill-opacity=\"1\" /><path clip-path=\"url(#clip190)\" d=\"M2183.49 1485.02 L2191.13 1485.02 L2191.13 1458.66 L2182.82 1460.32 L2182.82 1456.06 L2191.08 1454.4 L2195.76 1454.4 L2195.76 1485.02 L2203.39 1485.02 L2203.39 1488.96 L2183.49 1488.96 L2183.49 1485.02 Z\" fill=\"#000000\" fill-rule=\"evenodd\" fill-opacity=\"1\" /><path clip-path=\"url(#clip190)\" d=\"M2212.84 1483.08 L2217.72 1483.08 L2217.72 1488.96 L2212.84 1488.96 L2212.84 1483.08 Z\" fill=\"#000000\" fill-rule=\"evenodd\" fill-opacity=\"1\" /><path clip-path=\"url(#clip190)\" d=\"M2227.95 1454.4 L2246.31 1454.4 L2246.31 1458.33 L2232.24 1458.33 L2232.24 1466.8 Q2233.26 1466.46 2234.27 1466.29 Q2235.29 1466.11 2236.31 1466.11 Q2242.1 1466.11 2245.48 1469.28 Q2248.86 1472.45 2248.86 1477.87 Q2248.86 1483.45 2245.39 1486.55 Q2241.91 1489.63 2235.59 1489.63 Q2233.42 1489.63 2231.15 1489.26 Q2228.9 1488.89 2226.5 1488.15 L2226.5 1483.45 Q2228.58 1484.58 2230.8 1485.14 Q2233.02 1485.69 2235.5 1485.69 Q2239.51 1485.69 2241.84 1483.59 Q2244.18 1481.48 2244.18 1477.87 Q2244.18 1474.26 2241.84 1472.15 Q2239.51 1470.04 2235.5 1470.04 Q2233.63 1470.04 2231.75 1470.46 Q2229.9 1470.88 2227.95 1471.76 L2227.95 1454.4 Z\" fill=\"#000000\" fill-rule=\"evenodd\" fill-opacity=\"1\" /><path clip-path=\"url(#clip190)\" d=\"M2268.07 1457.48 Q2264.46 1457.48 2262.63 1461.04 Q2260.83 1464.58 2260.83 1471.71 Q2260.83 1478.82 2262.63 1482.38 Q2264.46 1485.92 2268.07 1485.92 Q2271.7 1485.92 2273.51 1482.38 Q2275.34 1478.82 2275.34 1471.71 Q2275.34 1464.58 2273.51 1461.04 Q2271.7 1457.48 2268.07 1457.48 M2268.07 1453.77 Q2273.88 1453.77 2276.94 1458.38 Q2280.01 1462.96 2280.01 1471.71 Q2280.01 1480.44 2276.94 1485.04 Q2273.88 1489.63 2268.07 1489.63 Q2262.26 1489.63 2259.18 1485.04 Q2256.13 1480.44 2256.13 1471.71 Q2256.13 1462.96 2259.18 1458.38 Q2262.26 1453.77 2268.07 1453.77 Z\" fill=\"#000000\" fill-rule=\"evenodd\" fill-opacity=\"1\" /><path clip-path=\"url(#clip190)\" d=\"M2316.4 1463.49 L2305.82 1474.12 L2316.4 1484.7 L2313.65 1487.5 L2303.02 1476.87 L2292.4 1487.5 L2289.67 1484.7 L2300.22 1474.12 L2289.67 1463.49 L2292.4 1460.69 L2303.02 1471.32 L2313.65 1460.69 L2316.4 1463.49 Z\" fill=\"#000000\" fill-rule=\"evenodd\" fill-opacity=\"1\" /><path clip-path=\"url(#clip190)\" d=\"M2328.76 1485.02 L2336.4 1485.02 L2336.4 1458.66 L2328.09 1460.32 L2328.09 1456.06 L2336.36 1454.4 L2341.03 1454.4 L2341.03 1485.02 L2348.67 1485.02 L2348.67 1488.96 L2328.76 1488.96 L2328.76 1485.02 Z\" fill=\"#000000\" fill-rule=\"evenodd\" fill-opacity=\"1\" /><path clip-path=\"url(#clip190)\" d=\"M2368.12 1457.48 Q2364.51 1457.48 2362.68 1461.04 Q2360.87 1464.58 2360.87 1471.71 Q2360.87 1478.82 2362.68 1482.38 Q2364.51 1485.92 2368.12 1485.92 Q2371.75 1485.92 2373.56 1482.38 Q2375.38 1478.82 2375.38 1471.71 Q2375.38 1464.58 2373.56 1461.04 Q2371.75 1457.48 2368.12 1457.48 M2368.12 1453.77 Q2373.93 1453.77 2376.98 1458.38 Q2380.06 1462.96 2380.06 1471.71 Q2380.06 1480.44 2376.98 1485.04 Q2373.93 1489.63 2368.12 1489.63 Q2362.31 1489.63 2359.23 1485.04 Q2356.17 1480.44 2356.17 1471.71 Q2356.17 1462.96 2359.23 1458.38 Q2362.31 1453.77 2368.12 1453.77 Z\" fill=\"#000000\" fill-rule=\"evenodd\" fill-opacity=\"1\" /><path clip-path=\"url(#clip190)\" d=\"M2390.09 1445.99 Q2387.53 1445.99 2386.02 1447.74 Q2384.54 1449.49 2384.54 1452.54 Q2384.54 1455.57 2386.02 1457.33 Q2387.53 1459.08 2390.09 1459.08 Q2392.64 1459.08 2394.13 1457.33 Q2395.63 1455.57 2395.63 1452.54 Q2395.63 1449.49 2394.13 1447.74 Q2392.64 1445.99 2390.09 1445.99 M2397.63 1434.09 L2397.63 1437.55 Q2396.2 1436.87 2394.73 1436.51 Q2393.28 1436.16 2391.85 1436.16 Q2388.09 1436.16 2386.1 1438.69 Q2384.12 1441.23 2383.84 1446.37 Q2384.95 1444.73 2386.62 1443.87 Q2388.3 1442.98 2390.31 1442.98 Q2394.54 1442.98 2396.99 1445.56 Q2399.45 1448.12 2399.45 1452.54 Q2399.45 1456.86 2396.89 1459.48 Q2394.34 1462.09 2390.09 1462.09 Q2385.21 1462.09 2382.64 1458.37 Q2380.06 1454.62 2380.06 1447.53 Q2380.06 1440.88 2383.22 1436.93 Q2386.38 1432.96 2391.7 1432.96 Q2393.13 1432.96 2394.58 1433.24 Q2396.05 1433.52 2397.63 1434.09 Z\" fill=\"#000000\" fill-rule=\"evenodd\" fill-opacity=\"1\" /><path clip-path=\"url(#clip190)\" d=\"M1113.66 1526.67 L1120.09 1526.67 L1120.09 1574.19 L1113.66 1574.19 L1113.66 1526.67 Z\" fill=\"#000000\" fill-rule=\"evenodd\" fill-opacity=\"1\" /><path clip-path=\"url(#clip190)\" d=\"M1138.43 1528.42 L1138.43 1538.54 L1150.49 1538.54 L1150.49 1543.09 L1138.43 1543.09 L1138.43 1562.44 Q1138.43 1566.8 1139.6 1568.04 Q1140.81 1569.28 1144.47 1569.28 L1150.49 1569.28 L1150.49 1574.19 L1144.47 1574.19 Q1137.69 1574.19 1135.12 1571.67 Q1132.54 1569.12 1132.54 1562.44 L1132.54 1543.09 L1128.24 1543.09 L1128.24 1538.54 L1132.54 1538.54 L1132.54 1528.42 L1138.43 1528.42 Z\" fill=\"#000000\" fill-rule=\"evenodd\" fill-opacity=\"1\" /><path clip-path=\"url(#clip190)\" d=\"M1188.68 1554.9 L1188.68 1557.76 L1161.76 1557.76 Q1162.14 1563.81 1165.38 1566.99 Q1168.66 1570.14 1174.49 1570.14 Q1177.86 1570.14 1181.01 1569.32 Q1184.2 1568.49 1187.31 1566.83 L1187.31 1572.37 Q1184.16 1573.71 1180.85 1574.41 Q1177.54 1575.11 1174.14 1575.11 Q1165.61 1575.11 1160.61 1570.14 Q1155.64 1565.18 1155.64 1556.71 Q1155.64 1547.96 1160.36 1542.83 Q1165.1 1537.68 1173.12 1537.68 Q1180.31 1537.68 1184.48 1542.33 Q1188.68 1546.94 1188.68 1554.9 M1182.83 1553.18 Q1182.76 1548.37 1180.12 1545.51 Q1177.51 1542.64 1173.18 1542.64 Q1168.28 1542.64 1165.32 1545.41 Q1162.39 1548.18 1161.95 1553.21 L1182.83 1553.18 Z\" fill=\"#000000\" fill-rule=\"evenodd\" fill-opacity=\"1\" /><path clip-path=\"url(#clip190)\" d=\"M1218.95 1544.01 Q1217.97 1543.44 1216.79 1543.18 Q1215.64 1542.9 1214.24 1542.9 Q1209.28 1542.9 1206.6 1546.14 Q1203.96 1549.36 1203.96 1555.41 L1203.96 1574.19 L1198.07 1574.19 L1198.07 1538.54 L1203.96 1538.54 L1203.96 1544.08 Q1205.81 1540.83 1208.77 1539.27 Q1211.73 1537.68 1215.96 1537.68 Q1216.56 1537.68 1217.3 1537.77 Q1218.03 1537.84 1218.92 1538 L1218.95 1544.01 Z\" fill=\"#000000\" fill-rule=\"evenodd\" fill-opacity=\"1\" /><path clip-path=\"url(#clip190)\" d=\"M1241.3 1556.27 Q1234.2 1556.27 1231.46 1557.89 Q1228.72 1559.51 1228.72 1563.43 Q1228.72 1566.55 1230.76 1568.39 Q1232.83 1570.21 1236.36 1570.21 Q1241.23 1570.21 1244.16 1566.77 Q1247.12 1563.3 1247.12 1557.57 L1247.12 1556.27 L1241.3 1556.27 M1252.98 1553.85 L1252.98 1574.19 L1247.12 1574.19 L1247.12 1568.77 Q1245.11 1572.02 1242.12 1573.58 Q1239.13 1575.11 1234.8 1575.11 Q1229.33 1575.11 1226.08 1572.05 Q1222.87 1568.97 1222.87 1563.81 Q1222.87 1557.79 1226.88 1554.74 Q1230.92 1551.68 1238.91 1551.68 L1247.12 1551.68 L1247.12 1551.11 Q1247.12 1547.07 1244.45 1544.87 Q1241.8 1542.64 1237 1542.64 Q1233.94 1542.64 1231.05 1543.38 Q1228.15 1544.11 1225.48 1545.57 L1225.48 1540.16 Q1228.69 1538.92 1231.72 1538.31 Q1234.74 1537.68 1237.6 1537.68 Q1245.34 1537.68 1249.16 1541.69 Q1252.98 1545.7 1252.98 1553.85 Z\" fill=\"#000000\" fill-rule=\"evenodd\" fill-opacity=\"1\" /><path clip-path=\"url(#clip190)\" d=\"M1270.83 1528.42 L1270.83 1538.54 L1282.9 1538.54 L1282.9 1543.09 L1270.83 1543.09 L1270.83 1562.44 Q1270.83 1566.8 1272.01 1568.04 Q1273.22 1569.28 1276.88 1569.28 L1282.9 1569.28 L1282.9 1574.19 L1276.88 1574.19 Q1270.1 1574.19 1267.52 1571.67 Q1264.94 1569.12 1264.94 1562.44 L1264.94 1543.09 L1260.65 1543.09 L1260.65 1538.54 L1264.94 1538.54 L1264.94 1528.42 L1270.83 1528.42 Z\" fill=\"#000000\" fill-rule=\"evenodd\" fill-opacity=\"1\" /><path clip-path=\"url(#clip190)\" d=\"M1290.6 1538.54 L1296.45 1538.54 L1296.45 1574.19 L1290.6 1574.19 L1290.6 1538.54 M1290.6 1524.66 L1296.45 1524.66 L1296.45 1532.08 L1290.6 1532.08 L1290.6 1524.66 Z\" fill=\"#000000\" fill-rule=\"evenodd\" fill-opacity=\"1\" /><path clip-path=\"url(#clip190)\" d=\"M1322.52 1542.64 Q1317.81 1542.64 1315.07 1546.34 Q1312.34 1550 1312.34 1556.39 Q1312.34 1562.79 1315.04 1566.48 Q1317.78 1570.14 1322.52 1570.14 Q1327.2 1570.14 1329.94 1566.45 Q1332.68 1562.76 1332.68 1556.39 Q1332.68 1550.06 1329.94 1546.37 Q1327.2 1542.64 1322.52 1542.64 M1322.52 1537.68 Q1330.16 1537.68 1334.52 1542.64 Q1338.88 1547.61 1338.88 1556.39 Q1338.88 1565.15 1334.52 1570.14 Q1330.16 1575.11 1322.52 1575.11 Q1314.85 1575.11 1310.49 1570.14 Q1306.16 1565.15 1306.16 1556.39 Q1306.16 1547.61 1310.49 1542.64 Q1314.85 1537.68 1322.52 1537.68 Z\" fill=\"#000000\" fill-rule=\"evenodd\" fill-opacity=\"1\" /><path clip-path=\"url(#clip190)\" d=\"M1378.22 1552.67 L1378.22 1574.19 L1372.37 1574.19 L1372.37 1552.86 Q1372.37 1547.8 1370.39 1545.29 Q1368.42 1542.77 1364.47 1542.77 Q1359.73 1542.77 1356.99 1545.79 Q1354.25 1548.82 1354.25 1554.04 L1354.25 1574.19 L1348.37 1574.19 L1348.37 1538.54 L1354.25 1538.54 L1354.25 1544.08 Q1356.36 1540.86 1359.19 1539.27 Q1362.05 1537.68 1365.78 1537.68 Q1371.92 1537.68 1375.07 1541.5 Q1378.22 1545.29 1378.22 1552.67 Z\" fill=\"#000000\" fill-rule=\"evenodd\" fill-opacity=\"1\" /><path clip-path=\"url(#clip190)\" d=\"M1412.63 1539.59 L1412.63 1545.13 Q1410.15 1543.85 1407.47 1543.22 Q1404.8 1542.58 1401.93 1542.58 Q1397.57 1542.58 1395.38 1543.92 Q1393.21 1545.25 1393.21 1547.93 Q1393.21 1549.96 1394.77 1551.14 Q1396.33 1552.29 1401.04 1553.34 L1403.05 1553.78 Q1409.29 1555.12 1411.9 1557.57 Q1414.54 1559.99 1414.54 1564.35 Q1414.54 1569.32 1410.59 1572.21 Q1406.68 1575.11 1399.8 1575.11 Q1396.94 1575.11 1393.82 1574.54 Q1390.73 1573.99 1387.29 1572.88 L1387.29 1566.83 Q1390.54 1568.52 1393.69 1569.38 Q1396.84 1570.21 1399.93 1570.21 Q1404.07 1570.21 1406.29 1568.81 Q1408.52 1567.37 1408.52 1564.8 Q1408.52 1562.41 1406.9 1561.14 Q1405.31 1559.86 1399.87 1558.68 L1397.83 1558.21 Q1392.39 1557.06 1389.97 1554.71 Q1387.55 1552.32 1387.55 1548.18 Q1387.55 1543.15 1391.11 1540.42 Q1394.68 1537.68 1401.23 1537.68 Q1404.48 1537.68 1407.34 1538.16 Q1410.21 1538.63 1412.63 1539.59 Z\" fill=\"#000000\" fill-rule=\"evenodd\" fill-opacity=\"1\" /><polyline clip-path=\"url(#clip192)\" style=\"stroke:#000000; stroke-linecap:round; stroke-linejoin:round; stroke-width:2; stroke-opacity:0.1; fill:none\" points=\"\n",
       "  175.445,1377.02 2352.76,1377.02 \n",
       "  \"/>\n",
       "<polyline clip-path=\"url(#clip192)\" style=\"stroke:#000000; stroke-linecap:round; stroke-linejoin:round; stroke-width:2; stroke-opacity:0.1; fill:none\" points=\"\n",
       "  175.445,1007.71 2352.76,1007.71 \n",
       "  \"/>\n",
       "<polyline clip-path=\"url(#clip192)\" style=\"stroke:#000000; stroke-linecap:round; stroke-linejoin:round; stroke-width:2; stroke-opacity:0.1; fill:none\" points=\"\n",
       "  175.445,638.4 2352.76,638.4 \n",
       "  \"/>\n",
       "<polyline clip-path=\"url(#clip192)\" style=\"stroke:#000000; stroke-linecap:round; stroke-linejoin:round; stroke-width:2; stroke-opacity:0.1; fill:none\" points=\"\n",
       "  175.445,269.093 2352.76,269.093 \n",
       "  \"/>\n",
       "<polyline clip-path=\"url(#clip190)\" style=\"stroke:#000000; stroke-linecap:round; stroke-linejoin:round; stroke-width:4; stroke-opacity:1; fill:none\" points=\"\n",
       "  175.445,1410.9 175.445,47.2441 \n",
       "  \"/>\n",
       "<polyline clip-path=\"url(#clip190)\" style=\"stroke:#000000; stroke-linecap:round; stroke-linejoin:round; stroke-width:4; stroke-opacity:1; fill:none\" points=\"\n",
       "  175.445,1377.02 194.343,1377.02 \n",
       "  \"/>\n",
       "<polyline clip-path=\"url(#clip190)\" style=\"stroke:#000000; stroke-linecap:round; stroke-linejoin:round; stroke-width:4; stroke-opacity:1; fill:none\" points=\"\n",
       "  175.445,1007.71 194.343,1007.71 \n",
       "  \"/>\n",
       "<polyline clip-path=\"url(#clip190)\" style=\"stroke:#000000; stroke-linecap:round; stroke-linejoin:round; stroke-width:4; stroke-opacity:1; fill:none\" points=\"\n",
       "  175.445,638.4 194.343,638.4 \n",
       "  \"/>\n",
       "<polyline clip-path=\"url(#clip190)\" style=\"stroke:#000000; stroke-linecap:round; stroke-linejoin:round; stroke-width:4; stroke-opacity:1; fill:none\" points=\"\n",
       "  175.445,269.093 194.343,269.093 \n",
       "  \"/>\n",
       "<path clip-path=\"url(#clip190)\" d=\"M132.316 1375.66 Q135.672 1376.38 137.547 1378.65 Q139.445 1380.92 139.445 1384.25 Q139.445 1389.36 135.927 1392.17 Q132.408 1394.97 125.927 1394.97 Q123.751 1394.97 121.436 1394.53 Q119.144 1394.11 116.691 1393.25 L116.691 1388.74 Q118.635 1389.87 120.95 1390.45 Q123.265 1391.03 125.788 1391.03 Q130.186 1391.03 132.478 1389.3 Q134.792 1387.56 134.792 1384.25 Q134.792 1381.19 132.64 1379.48 Q130.51 1377.74 126.691 1377.74 L122.663 1377.74 L122.663 1373.9 L126.876 1373.9 Q130.325 1373.9 132.154 1372.54 Q133.982 1371.15 133.982 1368.55 Q133.982 1365.89 132.084 1364.48 Q130.209 1363.05 126.691 1363.05 Q124.769 1363.05 122.57 1363.46 Q120.371 1363.88 117.732 1364.76 L117.732 1360.59 Q120.394 1359.85 122.709 1359.48 Q125.047 1359.11 127.107 1359.11 Q132.431 1359.11 135.533 1361.54 Q138.635 1363.95 138.635 1368.07 Q138.635 1370.94 136.992 1372.93 Q135.348 1374.9 132.316 1375.66 Z\" fill=\"#000000\" fill-rule=\"evenodd\" fill-opacity=\"1\" /><path clip-path=\"url(#clip190)\" d=\"M129.862 994.502 L118.056 1012.95 L129.862 1012.95 L129.862 994.502 M128.635 990.428 L134.515 990.428 L134.515 1012.95 L139.445 1012.95 L139.445 1016.84 L134.515 1016.84 L134.515 1024.99 L129.862 1024.99 L129.862 1016.84 L114.26 1016.84 L114.26 1012.33 L128.635 990.428 Z\" fill=\"#000000\" fill-rule=\"evenodd\" fill-opacity=\"1\" /><path clip-path=\"url(#clip190)\" d=\"M118.543 621.12 L136.899 621.12 L136.899 625.055 L122.825 625.055 L122.825 633.528 Q123.843 633.18 124.862 633.018 Q125.88 632.833 126.899 632.833 Q132.686 632.833 136.066 636.004 Q139.445 639.176 139.445 644.592 Q139.445 650.171 135.973 653.273 Q132.501 656.352 126.181 656.352 Q124.005 656.352 121.737 655.981 Q119.492 655.611 117.084 654.87 L117.084 650.171 Q119.168 651.305 121.39 651.861 Q123.612 652.416 126.089 652.416 Q130.093 652.416 132.431 650.31 Q134.769 648.204 134.769 644.592 Q134.769 640.981 132.431 638.875 Q130.093 636.768 126.089 636.768 Q124.214 636.768 122.339 637.185 Q120.487 637.602 118.543 638.481 L118.543 621.12 Z\" fill=\"#000000\" fill-rule=\"evenodd\" fill-opacity=\"1\" /><path clip-path=\"url(#clip190)\" d=\"M127.917 267.229 Q124.769 267.229 122.918 269.382 Q121.089 271.535 121.089 275.285 Q121.089 279.012 122.918 281.188 Q124.769 283.34 127.917 283.34 Q131.066 283.34 132.894 281.188 Q134.746 279.012 134.746 275.285 Q134.746 271.535 132.894 269.382 Q131.066 267.229 127.917 267.229 M137.2 252.577 L137.2 256.836 Q135.441 256.003 133.635 255.563 Q131.853 255.123 130.093 255.123 Q125.464 255.123 123.01 258.248 Q120.58 261.373 120.232 267.692 Q121.598 265.679 123.658 264.614 Q125.718 263.526 128.195 263.526 Q133.404 263.526 136.413 266.697 Q139.445 269.845 139.445 275.285 Q139.445 280.609 136.297 283.827 Q133.149 287.044 127.917 287.044 Q121.922 287.044 118.751 282.461 Q115.58 277.854 115.58 269.128 Q115.58 260.933 119.468 256.072 Q123.357 251.188 129.908 251.188 Q131.667 251.188 133.45 251.535 Q135.255 251.882 137.2 252.577 Z\" fill=\"#000000\" fill-rule=\"evenodd\" fill-opacity=\"1\" /><path clip-path=\"url(#clip190)\" d=\"M22.818 1126.31 L46.4666 1135.03 L46.4666 1117.55 L22.818 1126.31 M16.4842 1129.93 L16.4842 1122.65 L64.0042 1104.54 L64.0042 1111.22 L51.8138 1115.55 L51.8138 1136.97 L64.0042 1141.3 L64.0042 1148.08 L16.4842 1129.93 Z\" fill=\"#000000\" fill-rule=\"evenodd\" fill-opacity=\"1\" /><path clip-path=\"url(#clip190)\" d=\"M28.3562 1105.87 L28.3562 1099.67 L58.275 1088.53 L28.3562 1077.39 L28.3562 1071.18 L64.0042 1084.55 L64.0042 1092.5 L28.3562 1105.87 Z\" fill=\"#000000\" fill-rule=\"evenodd\" fill-opacity=\"1\" /><path clip-path=\"url(#clip190)\" d=\"M44.7161 1032.6 L47.5806 1032.6 L47.5806 1059.53 Q53.6281 1059.15 56.8109 1055.9 Q59.9619 1052.62 59.9619 1046.8 Q59.9619 1043.42 59.1344 1040.27 Q58.3069 1037.09 56.6518 1033.97 L62.1899 1033.97 Q63.5267 1037.12 64.227 1040.43 Q64.9272 1043.74 64.9272 1047.15 Q64.9272 1055.68 59.9619 1060.68 Q54.9967 1065.64 46.5303 1065.64 Q37.7774 1065.64 32.6531 1060.93 Q27.4968 1056.19 27.4968 1048.17 Q27.4968 1040.97 32.1438 1036.8 Q36.7589 1032.6 44.7161 1032.6 M42.9973 1038.46 Q38.1912 1038.52 35.3266 1041.17 Q32.4621 1043.77 32.4621 1048.1 Q32.4621 1053.01 35.2312 1055.97 Q38.0002 1058.89 43.0292 1059.34 L42.9973 1038.46 Z\" fill=\"#000000\" fill-rule=\"evenodd\" fill-opacity=\"1\" /><path clip-path=\"url(#clip190)\" d=\"M33.8307 1002.33 Q33.2578 1003.32 33.0032 1004.5 Q32.7167 1005.64 32.7167 1007.04 Q32.7167 1012.01 35.9632 1014.68 Q39.1779 1017.33 45.2253 1017.33 L64.0042 1017.33 L64.0042 1023.21 L28.3562 1023.21 L28.3562 1017.33 L33.8944 1017.33 Q30.6479 1015.48 29.0883 1012.52 Q27.4968 1009.56 27.4968 1005.33 Q27.4968 1004.72 27.5923 1003.99 Q27.656 1003.26 27.8151 1002.37 L33.8307 1002.33 Z\" fill=\"#000000\" fill-rule=\"evenodd\" fill-opacity=\"1\" /><path clip-path=\"url(#clip190)\" d=\"M46.0847 979.991 Q46.0847 987.088 47.7079 989.826 Q49.3312 992.563 53.2461 992.563 Q56.3653 992.563 58.2114 990.526 Q60.0256 988.457 60.0256 984.924 Q60.0256 980.054 56.5881 977.126 Q53.1188 974.166 47.3897 974.166 L46.0847 974.166 L46.0847 979.991 M43.6657 968.31 L64.0042 968.31 L64.0042 974.166 L58.5933 974.166 Q61.8398 976.171 63.3994 979.163 Q64.9272 982.155 64.9272 986.484 Q64.9272 991.958 61.8716 995.205 Q58.7843 998.419 53.6281 998.419 Q47.6125 998.419 44.5569 994.409 Q41.5014 990.367 41.5014 982.378 L41.5014 974.166 L40.9285 974.166 Q36.8862 974.166 34.6901 976.84 Q32.4621 979.481 32.4621 984.287 Q32.4621 987.343 33.1941 990.239 Q33.9262 993.136 35.3903 995.809 L29.9795 995.809 Q28.7381 992.595 28.1334 989.571 Q27.4968 986.547 27.4968 983.683 Q27.4968 975.948 31.5072 972.129 Q35.5176 968.31 43.6657 968.31 Z\" fill=\"#000000\" fill-rule=\"evenodd\" fill-opacity=\"1\" /><path clip-path=\"url(#clip190)\" d=\"M45.7664 932.789 Q39.4007 932.789 35.8996 935.431 Q32.3984 938.041 32.3984 942.783 Q32.3984 947.494 35.8996 950.135 Q39.4007 952.745 45.7664 952.745 Q52.1003 952.745 55.6014 950.135 Q59.1026 947.494 59.1026 942.783 Q59.1026 938.041 55.6014 935.431 Q52.1003 932.789 45.7664 932.789 M59.58 926.932 Q68.683 926.932 73.1071 930.975 Q77.5631 935.017 77.5631 943.356 Q77.5631 946.443 77.0857 949.181 Q76.6401 951.918 75.6852 954.496 L69.9879 954.496 Q71.3884 951.918 72.0568 949.403 Q72.7252 946.889 72.7252 944.279 Q72.7252 938.518 69.7015 935.653 Q66.7096 932.789 60.6303 932.789 L57.7339 932.789 Q60.885 934.603 62.4446 937.436 Q64.0042 940.269 64.0042 944.215 Q64.0042 950.772 59.0071 954.782 Q54.01 958.793 45.7664 958.793 Q37.491 958.793 32.4939 954.782 Q27.4968 950.772 27.4968 944.215 Q27.4968 940.269 29.0564 937.436 Q30.616 934.603 33.7671 932.789 L28.3562 932.789 L28.3562 926.932 L59.58 926.932 Z\" fill=\"#000000\" fill-rule=\"evenodd\" fill-opacity=\"1\" /><path clip-path=\"url(#clip190)\" d=\"M44.7161 884.378 L47.5806 884.378 L47.5806 911.305 Q53.6281 910.923 56.8109 907.676 Q59.9619 904.398 59.9619 898.573 Q59.9619 895.199 59.1344 892.048 Q58.3069 888.866 56.6518 885.746 L62.1899 885.746 Q63.5267 888.897 64.227 892.208 Q64.9272 895.518 64.9272 898.923 Q64.9272 907.453 59.9619 912.45 Q54.9967 917.416 46.5303 917.416 Q37.7774 917.416 32.6531 912.705 Q27.4968 907.963 27.4968 899.942 Q27.4968 892.749 32.1438 888.579 Q36.7589 884.378 44.7161 884.378 M42.9973 890.234 Q38.1912 890.298 35.3266 892.94 Q32.4621 895.55 32.4621 899.878 Q32.4621 904.78 35.2312 907.74 Q38.0002 910.668 43.0292 911.114 L42.9973 890.234 Z\" fill=\"#000000\" fill-rule=\"evenodd\" fill-opacity=\"1\" /><path clip-path=\"url(#clip190)\" d=\"M20.1444 818.206 L26.9239 818.206 Q23.9002 821.453 22.4043 825.145 Q20.9083 828.805 20.9083 832.943 Q20.9083 841.091 25.9054 845.42 Q30.8707 849.748 40.2919 849.748 Q49.6813 849.748 54.6784 845.42 Q59.6436 841.091 59.6436 832.943 Q59.6436 828.805 58.1477 825.145 Q56.6518 821.453 53.6281 818.206 L60.3439 818.206 Q62.6355 821.58 63.7814 825.368 Q64.9272 829.123 64.9272 833.325 Q64.9272 844.115 58.3387 850.321 Q51.7183 856.528 40.2919 856.528 Q28.8336 856.528 22.2451 850.321 Q15.6248 844.115 15.6248 833.325 Q15.6248 829.06 16.7706 825.304 Q17.8846 821.516 20.1444 818.206 Z\" fill=\"#000000\" fill-rule=\"evenodd\" fill-opacity=\"1\" /><path clip-path=\"url(#clip190)\" d=\"M32.4621 794.717 Q32.4621 799.427 36.1542 802.165 Q39.8145 804.902 46.212 804.902 Q52.6095 804.902 56.3017 802.196 Q59.9619 799.459 59.9619 794.717 Q59.9619 790.038 56.2698 787.301 Q52.5777 784.563 46.212 784.563 Q39.8781 784.563 36.186 787.301 Q32.4621 790.038 32.4621 794.717 M27.4968 794.717 Q27.4968 787.078 32.4621 782.717 Q37.4273 778.357 46.212 778.357 Q54.9649 778.357 59.9619 782.717 Q64.9272 787.078 64.9272 794.717 Q64.9272 802.387 59.9619 806.748 Q54.9649 811.077 46.212 811.077 Q37.4273 811.077 32.4621 806.748 Q27.4968 802.387 27.4968 794.717 Z\" fill=\"#000000\" fill-rule=\"evenodd\" fill-opacity=\"1\" /><path clip-path=\"url(#clip190)\" d=\"M35.1993 740.895 Q31.2526 738.698 29.3747 735.643 Q27.4968 732.587 27.4968 728.45 Q27.4968 722.88 31.4117 719.856 Q35.2948 716.832 42.4881 716.832 L64.0042 716.832 L64.0042 722.721 L42.679 722.721 Q37.5546 722.721 35.072 724.535 Q32.5894 726.349 32.5894 730.073 Q32.5894 734.624 35.6131 737.266 Q38.6368 739.908 43.8567 739.908 L64.0042 739.908 L64.0042 745.796 L42.679 745.796 Q37.5228 745.796 35.072 747.61 Q32.5894 749.425 32.5894 753.212 Q32.5894 757.7 35.6449 760.342 Q38.6686 762.984 43.8567 762.984 L64.0042 762.984 L64.0042 768.872 L28.3562 768.872 L28.3562 762.984 L33.8944 762.984 Q30.616 760.978 29.0564 758.178 Q27.4968 755.377 27.4968 751.525 Q27.4968 747.642 29.4702 744.937 Q31.4436 742.2 35.1993 740.895 Z\" fill=\"#000000\" fill-rule=\"evenodd\" fill-opacity=\"1\" /><path clip-path=\"url(#clip190)\" d=\"M58.657 699.486 L77.5631 699.486 L77.5631 705.374 L28.3562 705.374 L28.3562 699.486 L33.7671 699.486 Q30.5842 697.64 29.0564 694.839 Q27.4968 692.006 27.4968 688.091 Q27.4968 681.598 32.6531 677.556 Q37.8093 673.482 46.212 673.482 Q54.6147 673.482 59.771 677.556 Q64.9272 681.598 64.9272 688.091 Q64.9272 692.006 63.3994 694.839 Q61.8398 697.64 58.657 699.486 M46.212 679.561 Q39.7508 679.561 36.0905 682.235 Q32.3984 684.876 32.3984 689.523 Q32.3984 694.17 36.0905 696.844 Q39.7508 699.486 46.212 699.486 Q52.6732 699.486 56.3653 696.844 Q60.0256 694.17 60.0256 689.523 Q60.0256 684.876 56.3653 682.235 Q52.6732 679.561 46.212 679.561 Z\" fill=\"#000000\" fill-rule=\"evenodd\" fill-opacity=\"1\" /><path clip-path=\"url(#clip190)\" d=\"M14.479 663.774 L14.479 657.918 L64.0042 657.918 L64.0042 663.774 L14.479 663.774 Z\" fill=\"#000000\" fill-rule=\"evenodd\" fill-opacity=\"1\" /><path clip-path=\"url(#clip190)\" d=\"M44.7161 615.172 L47.5806 615.172 L47.5806 642.099 Q53.6281 641.717 56.8109 638.47 Q59.9619 635.192 59.9619 629.367 Q59.9619 625.994 59.1344 622.843 Q58.3069 619.66 56.6518 616.541 L62.1899 616.541 Q63.5267 619.692 64.227 623.002 Q64.9272 626.312 64.9272 629.718 Q64.9272 638.248 59.9619 643.245 Q54.9967 648.21 46.5303 648.21 Q37.7774 648.21 32.6531 643.499 Q27.4968 638.757 27.4968 630.736 Q27.4968 623.543 32.1438 619.373 Q36.7589 615.172 44.7161 615.172 M42.9973 621.028 Q38.1912 621.092 35.3266 623.734 Q32.4621 626.344 32.4621 630.672 Q32.4621 635.574 35.2312 638.534 Q38.0002 641.462 43.0292 641.908 L42.9973 621.028 Z\" fill=\"#000000\" fill-rule=\"evenodd\" fill-opacity=\"1\" /><path clip-path=\"url(#clip190)\" d=\"M18.2347 599.767 L28.3562 599.767 L28.3562 587.704 L32.9077 587.704 L32.9077 599.767 L52.2594 599.767 Q56.6199 599.767 57.8613 598.589 Q59.1026 597.38 59.1026 593.72 L59.1026 587.704 L64.0042 587.704 L64.0042 593.72 Q64.0042 600.499 61.4897 603.077 Q58.9434 605.655 52.2594 605.655 L32.9077 605.655 L32.9077 609.952 L28.3562 609.952 L28.3562 605.655 L18.2347 605.655 L18.2347 599.767 Z\" fill=\"#000000\" fill-rule=\"evenodd\" fill-opacity=\"1\" /><path clip-path=\"url(#clip190)\" d=\"M28.3562 580.001 L28.3562 574.145 L64.0042 574.145 L64.0042 580.001 L28.3562 580.001 M14.479 580.001 L14.479 574.145 L21.895 574.145 L21.895 580.001 L14.479 580.001 Z\" fill=\"#000000\" fill-rule=\"evenodd\" fill-opacity=\"1\" /><path clip-path=\"url(#clip190)\" d=\"M32.4621 548.077 Q32.4621 552.788 36.1542 555.525 Q39.8145 558.263 46.212 558.263 Q52.6095 558.263 56.3017 555.557 Q59.9619 552.82 59.9619 548.077 Q59.9619 543.399 56.2698 540.661 Q52.5777 537.924 46.212 537.924 Q39.8781 537.924 36.186 540.661 Q32.4621 543.399 32.4621 548.077 M27.4968 548.077 Q27.4968 540.439 32.4621 536.078 Q37.4273 531.718 46.212 531.718 Q54.9649 531.718 59.9619 536.078 Q64.9272 540.439 64.9272 548.077 Q64.9272 555.748 59.9619 560.109 Q54.9649 564.437 46.212 564.437 Q37.4273 564.437 32.4621 560.109 Q27.4968 555.748 27.4968 548.077 Z\" fill=\"#000000\" fill-rule=\"evenodd\" fill-opacity=\"1\" /><path clip-path=\"url(#clip190)\" d=\"M42.4881 492.377 L64.0042 492.377 L64.0042 498.234 L42.679 498.234 Q37.6183 498.234 35.1038 500.207 Q32.5894 502.181 32.5894 506.127 Q32.5894 510.87 35.6131 513.607 Q38.6368 516.344 43.8567 516.344 L64.0042 516.344 L64.0042 522.233 L28.3562 522.233 L28.3562 516.344 L33.8944 516.344 Q30.6797 514.244 29.0883 511.411 Q27.4968 508.546 27.4968 504.822 Q27.4968 498.68 31.3163 495.529 Q35.1038 492.377 42.4881 492.377 Z\" fill=\"#000000\" fill-rule=\"evenodd\" fill-opacity=\"1\" /><path clip-path=\"url(#clip190)\" d=\"M16.4842 466.31 L16.4842 426.11 L21.895 426.11 L21.895 442.98 L64.0042 442.98 L64.0042 449.441 L21.895 449.441 L21.895 466.31 L16.4842 466.31 Z\" fill=\"#000000\" fill-rule=\"evenodd\" fill-opacity=\"1\" /><path clip-path=\"url(#clip190)\" d=\"M28.3562 422.164 L28.3562 416.307 L64.0042 416.307 L64.0042 422.164 L28.3562 422.164 M14.479 422.164 L14.479 416.307 L21.895 416.307 L21.895 422.164 L14.479 422.164 Z\" fill=\"#000000\" fill-rule=\"evenodd\" fill-opacity=\"1\" /><path clip-path=\"url(#clip190)\" d=\"M35.1993 376.299 Q31.2526 374.103 29.3747 371.047 Q27.4968 367.992 27.4968 363.854 Q27.4968 358.284 31.4117 355.26 Q35.2948 352.236 42.4881 352.236 L64.0042 352.236 L64.0042 358.125 L42.679 358.125 Q37.5546 358.125 35.072 359.939 Q32.5894 361.753 32.5894 365.477 Q32.5894 370.029 35.6131 372.67 Q38.6368 375.312 43.8567 375.312 L64.0042 375.312 L64.0042 381.2 L42.679 381.2 Q37.5228 381.2 35.072 383.015 Q32.5894 384.829 32.5894 388.616 Q32.5894 393.104 35.6449 395.746 Q38.6686 398.388 43.8567 398.388 L64.0042 398.388 L64.0042 404.276 L28.3562 404.276 L28.3562 398.388 L33.8944 398.388 Q30.616 396.383 29.0564 393.582 Q27.4968 390.781 27.4968 386.93 Q27.4968 383.046 29.4702 380.341 Q31.4436 377.604 35.1993 376.299 Z\" fill=\"#000000\" fill-rule=\"evenodd\" fill-opacity=\"1\" /><path clip-path=\"url(#clip190)\" d=\"M44.7161 310.064 L47.5806 310.064 L47.5806 336.991 Q53.6281 336.609 56.8109 333.362 Q59.9619 330.084 59.9619 324.259 Q59.9619 320.885 59.1344 317.734 Q58.3069 314.551 56.6518 311.432 L62.1899 311.432 Q63.5267 314.583 64.227 317.893 Q64.9272 321.204 64.9272 324.609 Q64.9272 333.139 59.9619 338.136 Q54.9967 343.102 46.5303 343.102 Q37.7774 343.102 32.6531 338.391 Q27.4968 333.649 27.4968 325.628 Q27.4968 318.435 32.1438 314.265 Q36.7589 310.064 44.7161 310.064 M42.9973 315.92 Q38.1912 315.984 35.3266 318.626 Q32.4621 321.235 32.4621 325.564 Q32.4621 330.466 35.2312 333.426 Q38.0002 336.354 43.0292 336.8 L42.9973 315.92 Z\" fill=\"#000000\" fill-rule=\"evenodd\" fill-opacity=\"1\" /><polyline clip-path=\"url(#clip192)\" style=\"stroke:#009af9; stroke-linecap:round; stroke-linejoin:round; stroke-width:4; stroke-opacity:1; fill:none\" points=\"\n",
       "  237.067,85.838 250.853,624.691 264.639,662.562 278.424,841.039 292.21,789.009 305.996,841.231 319.781,956.199 333.567,884.506 347.353,943.781 361.138,1013 \n",
       "  374.924,947.984 388.71,1036.27 402.495,1119.17 416.281,980.39 430.067,1148.35 443.852,1011.07 457.638,983.341 471.424,1055.39 485.209,1114.96 498.995,1137.62 \n",
       "  512.781,1112.92 526.567,1134.84 540.352,1076.95 554.138,1145.91 567.924,1109.64 581.709,1124.59 595.495,1181.62 609.281,1142.58 623.066,1199.88 636.852,1151.78 \n",
       "  650.638,1185.98 664.423,1182.17 678.209,1205.74 691.995,1128.41 705.78,1128.64 719.566,1205.27 733.352,1136.48 747.137,1139.57 760.923,1051.69 774.709,1194.15 \n",
       "  788.495,1199.19 802.28,1138.81 816.066,1181.28 829.852,1239.93 843.637,1225.03 857.423,1225.05 871.209,1254.78 884.994,1218.65 898.78,1210.16 912.566,1258.98 \n",
       "  926.351,1232.52 940.137,1322.88 953.923,1310.58 967.708,1197.71 981.494,1122.78 995.28,1250.48 1009.07,1134.34 1022.85,1209.81 1036.64,1237.39 1050.42,1313.93 \n",
       "  1064.21,1209.86 1077.99,1361.79 1091.78,1185.39 1105.57,1251.27 1119.35,1322.66 1133.14,1357.8 1146.92,1242 1160.71,1218.41 1174.49,1264.62 1188.28,1318.48 \n",
       "  1202.06,1248.23 1215.85,1251.62 1229.64,1249.92 1243.42,1326.04 1257.21,1236.58 1270.99,1241.7 1284.78,1158.63 1298.56,1240.54 1312.35,1115.17 1326.14,1179.12 \n",
       "  1339.92,1232.53 1353.71,1222.98 1367.49,1219.96 1381.28,1232.66 1395.06,1228.72 1408.85,1232.18 1422.64,1208.01 1436.42,1274.41 1450.21,1204.22 1463.99,1232.02 \n",
       "  1477.78,1233.48 1491.56,1121.23 1505.35,1204.26 1519.14,1162.6 1532.92,1207.33 1546.71,1151.54 1560.49,1258.02 1574.28,1274.62 1588.06,1242.48 1601.85,1196.6 \n",
       "  1615.64,1283.1 1629.42,1278.41 1643.21,1286.02 1656.99,1302.41 1670.78,1243.62 1684.56,1233.96 1698.35,1298.17 1712.14,1215.15 1725.92,1079.96 1739.71,1168.55 \n",
       "  1753.49,1236.99 1767.28,1283.55 1781.06,1372.3 1794.85,1223.53 1808.64,1188.99 1822.42,1275.07 1836.21,1309.73 1849.99,1298.2 1863.78,1287.8 1877.56,1334.28 \n",
       "  1891.35,1295.57 1905.13,1261.7 1918.92,1342.03 1932.71,1274.76 1946.49,1273.84 1960.28,1238.82 1974.06,1352.78 1987.85,1289.59 2001.63,1321.62 2015.42,1197.37 \n",
       "  2029.21,1246.6 2042.99,1283.25 2056.78,1249.64 2070.56,1258.5 2084.35,1277.11 2098.13,1328.66 2111.92,1294.8 2125.71,1214.56 2139.49,1276.5 2153.28,1251.76 \n",
       "  2167.06,1331.6 2180.85,1294.75 2194.63,1321.81 2208.42,1235.94 2222.21,1276.99 2235.99,1368.72 2249.78,1327.31 2263.56,1301.38 2277.35,1299.33 2291.13,1264.73 \n",
       "  \n",
       "  \"/>\n",
       "</svg>\n"
      ]
     },
     "execution_count": 39,
     "metadata": {},
     "output_type": "execute_result"
    }
   ],
   "source": [
    "plot([1:num_model] * 10000, avg_compl_time, xlabel=\"Iterations\", ylabel=\"Average Completion Time\", legend = false, xformatter = :scientific)"
   ]
  },
  {
   "cell_type": "code",
   "execution_count": 40,
   "id": "4739f3dc",
   "metadata": {},
   "outputs": [],
   "source": [
    "savefig(fig_path * \"avg_comp_time.svg\")"
   ]
  },
  {
   "cell_type": "markdown",
   "id": "57443b44",
   "metadata": {},
   "source": [
    "done"
   ]
  }
 ],
 "metadata": {
  "@webio": {
   "lastCommId": null,
   "lastKernelId": null
  },
  "kernelspec": {
   "display_name": "Julia 1.8.0",
   "language": "julia",
   "name": "julia-1.8"
  },
  "language_info": {
   "file_extension": ".jl",
   "mimetype": "application/julia",
   "name": "julia",
   "version": "1.8.0"
  }
 },
 "nbformat": 4,
 "nbformat_minor": 5
}
