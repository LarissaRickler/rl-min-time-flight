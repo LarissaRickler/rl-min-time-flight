{
 "cells": [
  {
   "cell_type": "markdown",
   "id": "0649b76a",
   "metadata": {},
   "source": [
    "# Init Bionic VTOL"
   ]
  },
  {
   "cell_type": "code",
   "execution_count": 1,
   "id": "96751412",
   "metadata": {},
   "outputs": [],
   "source": [
    "include(\"../Flyonic.jl\");\n",
    "using .Flyonic;\n",
    "\n",
    "using Rotations; # used for initial position\n",
    "\n",
    "using ReinforcementLearning;\n",
    "using StableRNGs;\n",
    "using Flux;\n",
    "using Flux.Losses;\n",
    "using Random;\n",
    "using IntervalSets;\n",
    "using LinearAlgebra;\n",
    "using Distributions;\n",
    "\n",
    "using Plots;\n",
    "using Statistics;\n",
    "\n",
    "using BSON: @save, @load # save mode"
   ]
  },
  {
   "cell_type": "code",
   "execution_count": 2,
   "id": "f7e4ee64",
   "metadata": {},
   "outputs": [
    {
     "name": "stderr",
     "output_type": "stream",
     "text": [
      "┌ Info: MeshCat server started. You can open the visualizer by visiting the following URL in your browser:\n",
      "│ http://127.0.0.1:8702\n",
      "└ @ MeshCat /home/larissa/.julia/packages/MeshCat/Ax8pH/src/visualizer.jl:73\n"
     ]
    }
   ],
   "source": [
    "create_visualization();"
   ]
  },
  {
   "cell_type": "code",
   "execution_count": 8,
   "id": "7d9557df",
   "metadata": {},
   "outputs": [
    {
     "data": {
      "text/plain": [
       "1"
      ]
     },
     "execution_count": 8,
     "metadata": {},
     "output_type": "execute_result"
    }
   ],
   "source": [
    "# indicates how many threads Julia was started with. This is important for the multi-threaded environment\n",
    "Threads.nthreads()"
   ]
  },
  {
   "cell_type": "code",
   "execution_count": 5,
   "id": "ea451ee8",
   "metadata": {},
   "outputs": [],
   "source": [
    "# eth_vtol_param[\"gravity\"] = 9.81; # set gravity"
   ]
  },
  {
   "cell_type": "code",
   "execution_count": 6,
   "id": "682d74ee",
   "metadata": {},
   "outputs": [
    {
     "data": {
      "text/plain": [
       "3×3 Matrix{Float64}:\n",
       " -0.707107  -0.707107   0.0\n",
       "  0.0        0.0       -1.0\n",
       "  0.707107  -0.707107   0.0"
      ]
     },
     "execution_count": 6,
     "metadata": {},
     "output_type": "execute_result"
    }
   ],
   "source": [
    "# TODO: All this stuff must be replaced later by your guiding paths.\n",
    "\n",
    "DESIRED_x = [-4.0, 0.0, 4.0] # desired distance    \n",
    "angle = calculateAngle([0.0 ,0.0, 1.0], DESIRED_x) # \n",
    "DESIRED_R = Matrix(UnitQuaternion(RotY(angle)*RotX(pi/2.0)*RotZ(pi/2.0)))\n",
    "\n",
    "#create_VTOL(\"fixgoal\", actuators = false, color_vec=[0.0; 1.0; 0.0; 1.0]);\n",
    "#set_transform(\"fixgoal\", DESIRED_x ,QuatRotation(DESIRED_R)); "
   ]
  },
  {
   "cell_type": "code",
   "execution_count": null,
   "id": "300469d4",
   "metadata": {},
   "outputs": [],
   "source": []
  },
  {
   "cell_type": "markdown",
   "id": "5411db62",
   "metadata": {},
   "source": [
    "# Create Reinforcement Learning Environment"
   ]
  },
  {
   "cell_type": "code",
   "execution_count": 7,
   "id": "96af6ee0",
   "metadata": {},
   "outputs": [],
   "source": [
    "mutable struct VtolEnv{A,T,ACT,R<:AbstractRNG} <: AbstractEnv # Parametric Constructor for a subtype of AbstractEnv\n",
    "    # TODO\n",
    "    action_space::A # action space\n",
    "    observation_space::Space{Vector{ClosedInterval{T}}} # observation space\n",
    "    state::Vector{T} # current state space\n",
    "    action::ACT # action space\n",
    "    done::Bool # done\n",
    "    t::T # time\n",
    "    rng::R # random number generator\n",
    "\n",
    "    name::String # for multible environoments\n",
    "    visualization::Bool # visualization\n",
    "    realtime::Bool # realtime\n",
    "    \n",
    "    # Everything you need aditionaly can also go in here.\n",
    "    x_W::Vector{T} # current position\n",
    "    v_B::Vector{T} # velocity\n",
    "    R_W::Matrix{T} # current rotation\n",
    "    ω_B::Vector{T} # rotation velocitiy\n",
    "    wind_W::Vector{T} # wind\n",
    "    Δt::T # Δ time\n",
    "    \n",
    "    # Current Bonus / Target\n",
    "    waypoints::Vector{Vector{T}}\n",
    "    reached_goal::Vector{Bool}\n",
    "#     x_d_W::Vector{T}\n",
    "#     R_d_W::Matrix{T}\n",
    "\n",
    "#     desired_length::T\n",
    "#     desired_angle::T\n",
    "\n",
    "#     # NEW\n",
    "#     covered_line::T\n",
    "#     previously_covered_line::T\n",
    "#     reached_goal::Bool\n",
    "\n",
    "#     # MULTIPOINT\n",
    "#     n_points::Int\n",
    "#     x_d_W_all::Matrix{T}\n",
    "#     R_d_W_all::Matrix{T}\n",
    "\n",
    "#     current_point::Int\n",
    "#     cummulative_covered_line::T\n",
    "end"
   ]
  },
  {
   "cell_type": "code",
   "execution_count": null,
   "id": "cfea4ffc",
   "metadata": {},
   "outputs": [],
   "source": []
  },
  {
   "cell_type": "code",
   "execution_count": 8,
   "id": "14a6873d",
   "metadata": {},
   "outputs": [],
   "source": [
    "# define a keyword-based constructor for the type declared in the mutable struct typedef. \n",
    "# It could also be done with the macro Base.@kwdef.\n",
    "function VtolEnv(;\n",
    "    #TODO\n",
    "    rng = Random.GLOBAL_RNG, # Random number generation\n",
    "    name = \"vtol\",\n",
    "    visualization = false,\n",
    "    realtime = false,\n",
    "    kwargs... # let the function take an arbitrary number of keyword arguments \n",
    ")\n",
    "    \n",
    "    T = Float64; # explicit type which is used e.g. in state. Cannot be altered due to the poor matrix defininon.\n",
    "\n",
    "    \n",
    "    action_space = Space(\n",
    "        ClosedInterval{T}[\n",
    "            0.0..2.0, # propeller 1\n",
    "            0.0..2.0, # propeller 2\n",
    "            ], \n",
    "    )\n",
    "\n",
    "    \n",
    "    state_space = Space( # Three continuous values in state space.\n",
    "        ClosedInterval{T}[\n",
    "            # TODO\n",
    "            # orientate yourself on the state space from the paper\n",
    "            typemin(T)..typemax(T), # position along x\n",
    "            typemin(T)..typemax(T), # position along z\n",
    "            typemin(T)..typemax(T), # orientation along x\n",
    "            typemin(T)..typemax(T), # orientation along z\n",
    "            typemin(T)..typemax(T), # velocity along x BODY coordinates\n",
    "            typemin(T)..typemax(T), # velocity along y BODY coordinates\n",
    "            typemin(T)..typemax(T), # rotational velocity along z BODY coordinates\n",
    "            \n",
    "            typemin(T)..typemax(T), # position error along x\n",
    "            typemin(T)..typemax(T), # position error along z\n",
    "            \n",
    "            # Not used in Paper!!!\n",
    "            typemin(T)..typemax(T), # target rotation along x (better than angle for neural networks)\n",
    "            typemin(T)..typemax(T), # target rotation along z (better than angle for neural networks)\n",
    "            \n",
    "#             # NEW \n",
    "#             typemin(T)..typemax(T), # The distance along the connecting line which has been passed\n",
    "#             typemin(T)..typemax(T), # The distance along the connecting line which has been previously passed         \n",
    "            ], \n",
    "    )\n",
    "    \n",
    "    if visualization\n",
    "        create_VTOL(name, actuators = true, color_vec=[1.0; 1.0; 0.6; 1.0]);\n",
    "    end\n",
    "\n",
    "    environment = VtolEnv(\n",
    "        action_space,\n",
    "        state_space,\n",
    "        zeros(T, 13), # current state, needs to be extended. \n",
    "        rand(action_space),\n",
    "        false, # episode done \n",
    "        0.0, # time\n",
    "        rng, # random number generator  \n",
    "        \n",
    "        name,\n",
    "        visualization,\n",
    "        realtime,\n",
    "        \n",
    "        zeros(T, 3), # x_W, current position\n",
    "        zeros(T, 3), # v_B, velocity\n",
    "        #Matrix(UnitQuaternion((RotX(pi)))),\n",
    "        [1.0 0.0 0.0; 0.0 1.0 0.0; 0.0 0.0 1.0], # R_w, current rotation, Float64... so T needs to be Float64\n",
    "        zeros(T, 3), # ω_B\n",
    "        zeros(T, 3), # wind_W\n",
    "        T(0.025), # Δt \n",
    "        \n",
    "        # waypoints, TODO\n",
    "#         # TODO Random\n",
    "#         DESIRED_x, # desired distance \n",
    "#         [1.0 0.0 0.0; 0.0 1.0 0.0; 0.0 0.0 1.0], # desired orientation\n",
    "        \n",
    "#         0.0,    # Desired distance\n",
    "#         0.0,    # Desired angle\n",
    "    \n",
    "#         0.0, # Covered line\n",
    "#         0.0,    # Previously covered line\n",
    "#         false,  # Reached Goal\n",
    "\n",
    "#         2,\n",
    "#         zeros(3, 2),\n",
    "#         zeros(3, 2*3),\n",
    "#         0,\n",
    "#         0.0\n",
    "    )\n",
    "    \n",
    "    \n",
    "    reset!(environment)\n",
    "    \n",
    "    return environment\n",
    "    \n",
    "end;"
   ]
  },
  {
   "cell_type": "markdown",
   "id": "ec660d5e",
   "metadata": {},
   "source": [
    "Just for explanation:\n",
    "\n",
    "1. A mutable Struct is created. A struct is a constructor and a constructor is a function that creates new objects.\n",
    "2. A outer keyword-based constructor method is added for the type declared in the mutable struct typedef before.\n",
    "\n",
    "So now we have a function with two methods. Julia will decide which method to call by multiple dispatch."
   ]
  },
  {
   "cell_type": "code",
   "execution_count": 9,
   "id": "dc3c4bb3",
   "metadata": {},
   "outputs": [
    {
     "data": {
      "text/html": [
       "# 2 methods for type constructor:<ul><li> VtolEnv(; <i>rng, name, visualization, realtime, kwargs...</i>) in Main at In[8]:3</li> <li> VtolEnv(action_space::<b>A</b>, observation_space::<b>Space{Array{ClosedInterval{T}, 1}}</b>, state::<b>Vector{T}</b>, action::<b>ACT</b>, done::<b>Bool</b>, t::<b>T</b>, rng::<b>R</b>, name::<b>String</b>, visualization::<b>Bool</b>, realtime::<b>Bool</b>, x_W::<b>Vector{T}</b>, v_B::<b>Vector{T}</b>, R_W::<b>Matrix{T}</b>, ω_B::<b>Vector{T}</b>, wind_W::<b>Vector{T}</b>, Δt::<b>T</b>, x_d_W::<b>Vector{T}</b>, R_d_W::<b>Matrix{T}</b>, desired_length::<b>T</b>, desired_angle::<b>T</b>, covered_line::<b>T</b>, previously_covered_line::<b>T</b>, reached_goal::<b>Bool</b>, n_points::<b>Int64</b>, x_d_W_all::<b>Matrix{T}</b>, R_d_W_all::<b>Matrix{T}</b>, current_point::<b>Int64</b>, cummulative_covered_line::<b>T</b>)<i> where {A, T, ACT, R<:AbstractRNG}</i> in Main at In[7]:3</li> </ul>"
      ],
      "text/plain": [
       "# 2 methods for type constructor:\n",
       "[1] VtolEnv(; rng, name, visualization, realtime, kwargs...) in Main at In[8]:3\n",
       "[2] VtolEnv(action_space::A, observation_space::Space{Array{ClosedInterval{T}, 1}}, state::Vector{T}, action::ACT, done::Bool, t::T, rng::R, name::String, visualization::Bool, realtime::Bool, x_W::Vector{T}, v_B::Vector{T}, R_W::Matrix{T}, ω_B::Vector{T}, wind_W::Vector{T}, Δt::T, x_d_W::Vector{T}, R_d_W::Matrix{T}, desired_length::T, desired_angle::T, covered_line::T, previously_covered_line::T, reached_goal::Bool, n_points::Int64, x_d_W_all::Matrix{T}, R_d_W_all::Matrix{T}, current_point::Int64, cummulative_covered_line::T) where {A, T, ACT, R<:AbstractRNG} in Main at In[7]:3"
      ]
     },
     "execution_count": 9,
     "metadata": {},
     "output_type": "execute_result"
    }
   ],
   "source": [
    "methods(VtolEnv)"
   ]
  },
  {
   "cell_type": "markdown",
   "id": "806413d1",
   "metadata": {},
   "source": [
    "# Define the RL interface"
   ]
  },
  {
   "cell_type": "code",
   "execution_count": 10,
   "id": "0f822029",
   "metadata": {},
   "outputs": [],
   "source": [
    "Random.seed!(env::VtolEnv, seed) = Random.seed!(env.rng, seed)\n",
    "RLBase.action_space(env::VtolEnv) = env.action_space\n",
    "RLBase.state_space(env::VtolEnv) = env.observation_space\n",
    "RLBase.is_terminated(env::VtolEnv) = env.done\n",
    "RLBase.state(env::VtolEnv) = env.state"
   ]
  },
  {
   "cell_type": "code",
   "execution_count": 11,
   "id": "1f7fb89c",
   "metadata": {},
   "outputs": [],
   "source": [
    "function computeReward(env::VtolEnv{A,T}) where {A,T}\n",
    "    #TODO\n",
    "    # TODO: Add tolerance for VTOL-Drone\n",
    "    if norm(env.x_W - env.x_d_W) < 1 && env.reached_goal == false\n",
    "        near_goal = 100#exp(-norm(env.x_W - env.x_d_W))*10\n",
    "        env.reached_goal = true\n",
    "    else\n",
    "        near_goal = 0\n",
    "    end\n",
    "\n",
    "    distance_goal = 0#norm(env.x_W - env.x_d_W) * 20\n",
    "    \n",
    "    limit_rotation = 0.1 * env.ω_B[3]^2 #* 10.0\n",
    "\n",
    "    if env.covered_line > 1\n",
    "        new_progress = -(env.covered_line-env.previously_covered_line)*100\n",
    "        progress = - env.covered_line + env.cummulative_covered_line#* 10#sign(env.covered_line)*abs(env.covered_line-norm(env.x_d_W))*10\n",
    "    else\n",
    "        new_progress = (env.covered_line-env.previously_covered_line)*100\n",
    "        progress = env.covered_line + env.cummulative_covered_line #* 10\n",
    "    end\n",
    "    # TODO: Make yourself comfortable with what this is\n",
    "    difference_angle = sum((env.R_W[:,1] - env.R_d_W[:,1]).^2)\n",
    "    \n",
    "    \n",
    "    #difference_angle = abs(env.state[3])*50.0\n",
    "\n",
    "    #distance_goal = norm(env.x_d_W-[env.state[1], env.state[2], 0])*100.0\n",
    "\n",
    "    #difference_angle = abs(env.state[3]-env.angle_d_W)*50.0\n",
    "    \n",
    "\n",
    "    # TODO Save last position or last projection somewhere (env.last) --> Compare \n",
    "    # to current project along line\n",
    "    #print(difference_angle)\n",
    "    #not_upright_orientation = abs(env.state[1]-pi*0.5)*10.0\n",
    "    #not_centered_position = abs(env.state[2])*10.0\n",
    "    #hight = env.state[4]*100.0\n",
    "\n",
    "    env.previously_covered_line = env.covered_line\n",
    "    \n",
    "    return near_goal - distance_goal + progress + new_progress - limit_rotation - difference_angle\n",
    "end\n",
    "\n",
    "\n",
    "RLBase.reward(env::VtolEnv{A,T}) where {A,T} = computeReward(env)"
   ]
  },
  {
   "cell_type": "code",
   "execution_count": null,
   "id": "1e663167",
   "metadata": {},
   "outputs": [],
   "source": [
    "# DEBUG"
   ]
  },
  {
   "cell_type": "raw",
   "id": "eeba18a2",
   "metadata": {},
   "source": [
    "function generate_trajectory(num_waypoints::Int) #DEBUG: harder trajectories\n",
    "    waypoints = Vector{Vector{Float64}}(undef, num_waypoints + 1) \n",
    "    waypoints[1] = [0.0, 0.0, 0.0] # zero is first waypoint \n",
    "    for i in 1:num_waypoints\n",
    "        rand(Uniform(1.5,7),5,5) # DEBUG: maybe different ranges\n",
    "        waypoints[i+1] = waypoints[i] + rand(Uniform(1.5,7),3)\n",
    "        waypoints[i+1,][2] = 0.0 # TODO: remove for 3d\n",
    "    end\n",
    "    return waypoints\n",
    "end"
   ]
  },
  {
   "cell_type": "raw",
   "id": "1fefba7e",
   "metadata": {},
   "source": [
    "x = generate_trajectory(3)"
   ]
  },
  {
   "cell_type": "raw",
   "id": "8f3081ca",
   "metadata": {},
   "source": [
    "right = Vector{Float64}(undef, 4)\n",
    "up = Vector{Float64}(undef, 4)\n",
    "for i in eachindex(x) \n",
    "    right[i]=x[i][1]\n",
    "    up[i]=x[i][3]\n",
    "end"
   ]
  },
  {
   "cell_type": "markdown",
   "id": "16e6ae61",
   "metadata": {},
   "source": [
    "_,pro=progress(x, [7.,0.0,10.0])\n",
    "pro"
   ]
  },
  {
   "cell_type": "raw",
   "id": "586c53a3",
   "metadata": {},
   "source": [
    "p = plot(right,up,xlims=(0, 16), ylims=(0,16),aspect_ratio = 1)\n",
    "# plot!(p,pro[1],pro[3])"
   ]
  },
  {
   "cell_type": "raw",
   "id": "077ff32a",
   "metadata": {},
   "source": [
    "plot!([pro[1]],[pro[3]],seriestype=:scatter,legend = false)\n",
    "plot!([7.0],[10.0],seriestype=:scatter,legend = false)"
   ]
  },
  {
   "cell_type": "raw",
   "id": "4dd780cc",
   "metadata": {},
   "source": [
    "progress(x, [7.,0.0,10.0])"
   ]
  },
  {
   "cell_type": "raw",
   "id": "bc1345de",
   "metadata": {},
   "source": [
    "function visualize_waypoints(waypoints::Vector{Vector{T}}, radius::Real; color=RGBA{Float32}(0.0, 1.0, 0.0, 1.0)) where T\n",
    "    for i in eachindex(waypoints)\n",
    "        create_sphere(\"fixgoal_$i\", radius, color=color);\n",
    "        set_transform(\"fixgoal_$i\", waypoints[i]); \n",
    "    end\n",
    "end"
   ]
  },
  {
   "cell_type": "raw",
   "id": "b4b4fe52",
   "metadata": {},
   "source": [
    "visualize_waypoints(x, 1.0)"
   ]
  },
  {
   "cell_type": "raw",
   "id": "0f6790d2",
   "metadata": {},
   "source": [
    "rand(Uniform(1.5,7),3)"
   ]
  },
  {
   "cell_type": "code",
   "execution_count": 14,
   "id": "e648e62f",
   "metadata": {},
   "outputs": [],
   "source": [
    "# End DEBUG"
   ]
  },
  {
   "cell_type": "code",
   "execution_count": 13,
   "id": "ae45ec04",
   "metadata": {},
   "outputs": [],
   "source": [
    "function RLBase.reset!(env::VtolEnv{A,T}) where {A,T}\n",
    "    #TODO\n",
    "    # Visualize initial state\n",
    "    if env.visualization\n",
    "        set_transform(env.name, env.x_W, QuatRotation(env.R_W));\n",
    "        set_actuators(env.name, [0.0; 0.0; 0.0; 0.0])\n",
    "    end\n",
    "    \n",
    "    env.x_W = [0.0; 0.0; 0.0];\n",
    "    env.v_B = [0.0; 0.0; 0.0];\n",
    "    env.R_W = Matrix(UnitQuaternion(RotZ(-pi/2.0)*RotY(-pi/2.0)*RotX(pi)));\n",
    "\n",
    "    env.ω_B = [0.0; 0.0; 0.0];\n",
    "    env.wind_W = [0.0; 0.0; 0.0];\n",
    "\n",
    "    env.current_point = 1\n",
    "\n",
    "    for i in 1:env.n_points\n",
    "        \n",
    "        env.desired_length = rand(Uniform(0.1,7))\n",
    "\n",
    "        if i == 1\n",
    "            env.desired_angle = rand(Uniform(-pi/2,pi/2))\n",
    "\n",
    "            env.x_d_W_all[:,i] = env.desired_length*[sin(env.desired_angle); 0.0; cos(env.desired_angle)]\n",
    "            env.R_d_W_all[:,3*i-2:3*i] = UnitQuaternion(RotY(env.desired_angle)*env.R_W)\n",
    "        \n",
    "            if env.visualization\n",
    "                create_VTOL(\"fixgoal_$i\", actuators = false, color_vec=[0.0; 1.0; 0.0; 1.0]);\n",
    "                set_transform(\"fixgoal_$i\", env.desired_length*[sin(env.desired_angle); 0.0; cos(env.desired_angle)] ,QuatRotation(env.R_d_W_all[:,3*i-2:3*i])); \n",
    "            end\n",
    "        else\n",
    "            env.desired_angle = env.desired_angle + rand(Uniform(-pi/2,pi/2))\n",
    "\n",
    "            env.x_d_W_all[:,i] = env.x_d_W_all[:,i-1] + env.desired_length*[sin(env.desired_angle); 0.0; cos(env.desired_angle)]\n",
    "            env.R_d_W_all[:,3*i-2:3*i] = UnitQuaternion(RotY(env.desired_angle)*env.R_W)\n",
    "            \n",
    "            if env.visualization\n",
    "                create_VTOL(\"fixgoal_$i\", actuators = false, color_vec=[0.0; 1.0; 0.0; 1.0]);\n",
    "                set_transform(\"fixgoal_$i\", env.x_d_W_all[:,i-1] + env.desired_length*[sin(env.desired_angle); 0.0; cos(env.desired_angle)] ,QuatRotation(env.R_d_W_all[:,3*i-2:3*i])); \n",
    "            end\n",
    "        end\n",
    "\n",
    "        \n",
    "    end\n",
    "    \n",
    "    env.x_d_W = [env.x_d_W_all[1,env.current_point]; env.x_d_W_all[2,env.current_point]; env.x_d_W_all[3,env.current_point]]#env.desired_length*[sin(env.desired_angle); 0.0; cos(env.desired_angle)]#env.x_d_W_all[:,1]\n",
    "    env.R_d_W = env.R_d_W_all[:,3*env.current_point-2:3*env.current_point]\n",
    "    \n",
    "    #env.x_d_W = env.desired_length*[sin(env.desired_angle); 0.0; cos(env.desired_angle)]\n",
    "    #env.R_d_W = UnitQuaternion(RotY(env.desired_angle)*env.R_W)#Matrix(UnitQuaternion(RotZ(calculateAngle([0.0 ,0.0, 1.0], DESIRED_x))*RotZ(-pi/2.0)*RotY(-pi/2.0)*RotX(pi)))\n",
    "\n",
    "    env.covered_line = 0.0\n",
    "    env.previously_covered_line = 0.0\n",
    "    \n",
    "    #TODO\n",
    "    env.state = [env.x_W[1];\n",
    "                 env.x_W[3];\n",
    "                 env.R_W[1,1];\n",
    "                 env.R_W[3,1];\n",
    "                 env.v_B[1];\n",
    "                 env.v_B[2];    \n",
    "                 env.ω_B[3];\n",
    "                 env.x_W[1] - env.x_d_W[1];\n",
    "                 env.x_W[3] - env.x_d_W[3]; \n",
    "                 env.R_d_W[1,1]; \n",
    "                 env.R_d_W[3,1];\n",
    "                 env.covered_line;\n",
    "                 env.previously_covered_line]\n",
    "    \n",
    "    env.t = 0.0\n",
    "    env.action = [0.0, 0.0]\n",
    "    env.done = false\n",
    "    env.cummulative_covered_line = 0.0\n",
    "\n",
    "    env.reached_goal = false\n",
    "    nothing\n",
    "\n",
    "end;"
   ]
  },
  {
   "cell_type": "code",
   "execution_count": 14,
   "id": "1cf1a7b7",
   "metadata": {},
   "outputs": [],
   "source": [
    "# defines a methods for a callable object.\n",
    "# So when a VtolEnv object is created, it has this method that can be called\n",
    "function (env::VtolEnv)(a)\n",
    "    # TODO: set flaps later in 3D\n",
    "    # set the propeller trust and the two flaps 2D case\n",
    "    next_action = [a[1], a[2], 0.0, 0.0]\n",
    "   \n",
    "    _step!(env, next_action)\n",
    "end"
   ]
  },
  {
   "cell_type": "code",
   "execution_count": 15,
   "id": "b0e9eb59",
   "metadata": {},
   "outputs": [],
   "source": [
    "env = VtolEnv();"
   ]
  },
  {
   "cell_type": "code",
   "execution_count": 16,
   "id": "26a116cb",
   "metadata": {},
   "outputs": [
    {
     "data": {
      "text/html": [
       "# 3 methods for callable object:<ul><li> (env::<b>VtolEnv</b>)(a) in Main at In[14]:3</li> <li> (env::<b>AbstractEnv</b>)(action) in ReinforcementLearningBase</li> <li> (env::<b>AbstractEnv</b>)(action, player) in ReinforcementLearningBase</li> </ul>"
      ],
      "text/plain": [
       "# 3 methods for callable object:\n",
       "[1] (env::VtolEnv)(a) in Main at In[14]:3\n",
       "[2] (env::AbstractEnv)(action) in ReinforcementLearningBase\n",
       "[3] (env::AbstractEnv)(action, player) in ReinforcementLearningBase"
      ]
     },
     "execution_count": 16,
     "metadata": {},
     "output_type": "execute_result"
    }
   ],
   "source": [
    "methods(env) # Just to explain which methods the object has"
   ]
  },
  {
   "cell_type": "code",
   "execution_count": 17,
   "id": "9e7d4727",
   "metadata": {},
   "outputs": [],
   "source": [
    "function _step!(env::VtolEnv, next_action)\n",
    "      \n",
    "    # TODO\n",
    "    # caluclate wind impact\n",
    "    v_in_wind_B = vtol_add_wind(env.v_B, env.R_W, env.wind_W)\n",
    "    # caluclate aerodynamic forces\n",
    "    torque_B, force_B = vtol_model(v_in_wind_B, next_action, eth_vtol_param);\n",
    "    # Limit to 2D\n",
    "    force_B[3] = 0.0; # Body Z\n",
    "    env.v_B[3] = 0.0;\n",
    "    torque_B[1] = 0.0; torque_B[2] = 0.0;  # Body X and Y\n",
    "    env.ω_B[1] = 0.0; env.ω_B[2] = 0.0;\n",
    "    # integrate rigid body dynamics for Δt\n",
    "    env.x_W, env.v_B, env.R_W, env.ω_B, time = rigid_body_simple(torque_B, force_B, env.x_W, env.v_B, env.R_W, env.ω_B, env.t, env.Δt, eth_vtol_param)\n",
    "    \n",
    "    # NEW    \n",
    "    env.covered_line = dot(env.x_W, env.x_d_W)/(norm(env.x_d_W)^2)\n",
    "\n",
    "    if env.realtime\n",
    "        sleep(env.Δt) # TODO: just a dirty hack. this is of course slower than real time.\n",
    "    end\n",
    "\n",
    "    # Visualize the new state \n",
    "    if env.visualization\n",
    "        set_transform(env.name, env.x_W, QuatRotation(env.R_W));\n",
    "        set_actuators(env.name, next_action)\n",
    "    end\n",
    " \n",
    "    env.t += env.Δt\n",
    "    \n",
    "    # State space\n",
    "    #rot = Rotations.params(RotYXZ(env.R_W))[3]\n",
    "    #env.state[1] = env.x_W[1] # world position in x\n",
    "    #env.state[2] = env.ω_B[2] # world position in y\n",
    "    #env.state[3] = rot # rotation around z\n",
    "    #rot = Rotations.params(RotYXZ(env.R_W))[1]\n",
    "    \n",
    "    \n",
    "    env.state[1] = env.x_W[1];\n",
    "    env.state[2] = env.x_W[3];\n",
    "    env.state[3] = env.R_W[1,1];\n",
    "    env.state[4] = env.R_W[3,1];\n",
    "    env.state[5] = env.v_B[1];\n",
    "    env.state[6] = env.v_B[2];\n",
    "    env.state[7] = env.ω_B[3];\n",
    "    env.state[8] = env.x_W[1] - env.x_d_W[1];\n",
    "    env.state[9] = env.x_W[3] - env.x_d_W[3]; \n",
    "    env.state[10] = env.R_d_W[1,1]; \n",
    "    env.state[11] = env.R_d_W[3,1];\n",
    "    env.state[12] = env.covered_line;    # Covered distance along line after step\n",
    "    env.state[13] = env.previously_covered_line; # Covered distance along line before step\n",
    "    \n",
    "    \n",
    "    # Termination criteria\n",
    "    # TODO: Use many termination criteria so that you do not train unnecessarily in wrong areas\n",
    "\n",
    "    env.done = #true\n",
    "        # After time... How fast is drone+Range of desired point\n",
    "        # After reaching position (circle of r_tol)\n",
    "        norm(env.ω_B) > 100.0 || \n",
    "        norm(env.v_B) > 100.0 || # stop if body is too fast\n",
    "        env.x_W[3] < -5.0 || # stop if body is below -10m\n",
    "        #0.0 > rot || # Stop if the drone is pitched 90°.\n",
    "        #rot > pi || # Stop if the drone is pitched 90°.\n",
    "        (sum((env.x_W - env.x_d_W).^2) < 0.5 && env.current_point == env.n_points)||\n",
    "        env.t > env.n_points*10.0# stop after 10s\n",
    "\n",
    "    if (sum((env.x_W - env.x_d_W).^2) < 0.5 && env.current_point < env.n_points)\n",
    "        env.reached_goal == false\n",
    "        env.cummulative_covered_line = env.cummulative_covered_line + norm(env.x_d_W)\n",
    "        env.current_point = env.current_point + 1\n",
    "        env.x_d_W = [env.x_d_W_all[1,env.current_point]; env.x_d_W_all[2,env.current_point]; env.x_d_W_all[3,env.current_point]]#env.desired_length*[sin(env.desired_angle); 0.0; cos(env.desired_angle)]#env.x_d_W_all[:,1]\n",
    "        env.R_d_W = env.R_d_W_all[:,3*env.current_point-2:3*env.current_point]\n",
    "    end\n",
    "    nothing\n",
    "end;"
   ]
  },
  {
   "cell_type": "code",
   "execution_count": 18,
   "id": "6e1cd988",
   "metadata": {
    "scrolled": false
   },
   "outputs": [
    {
     "name": "stdout",
     "output_type": "stream",
     "text": [
      "\u001b[0m\u001b[1mTest Summary:              | \u001b[22m\u001b[32m\u001b[1mPass  \u001b[22m\u001b[39m\u001b[36m\u001b[1mTotal  \u001b[22m\u001b[39m\u001b[0m\u001b[1mTime\u001b[22m\n",
      "random policy with VtolEnv | \u001b[32m2000  \u001b[39m\u001b[36m 2000  \u001b[39m\u001b[0m3.5s\n"
     ]
    },
    {
     "data": {
      "text/plain": [
       "Test.DefaultTestSet(\"random policy with VtolEnv\", Any[], 2000, false, false, true, 1.669666205003633e9, 1.66966620845821e9)"
      ]
     },
     "execution_count": 18,
     "metadata": {},
     "output_type": "execute_result"
    }
   ],
   "source": [
    "RLBase.test_runnable!(env)"
   ]
  },
  {
   "cell_type": "markdown",
   "id": "c223a31f",
   "metadata": {},
   "source": [
    "Show an overview of the environment."
   ]
  },
  {
   "cell_type": "markdown",
   "id": "ffe6de74",
   "metadata": {},
   "source": [
    "# Setup of a reinforcement learning experiment."
   ]
  },
  {
   "cell_type": "code",
   "execution_count": 19,
   "id": "e5683fe8",
   "metadata": {},
   "outputs": [
    {
     "data": {
      "text/markdown": [
       "MultiThreadEnv(8 x VtolEnv)"
      ],
      "text/plain": [
       "MultiThreadEnv(8 x VtolEnv)"
      ]
     },
     "execution_count": 19,
     "metadata": {},
     "output_type": "execute_result"
    }
   ],
   "source": [
    "seed = 123    \n",
    "rng = StableRNG(seed)\n",
    "    N_ENV = 8\n",
    "    UPDATE_FREQ = 1024\n",
    "    \n",
    "    \n",
    "    # define multiple environments for parallel training\n",
    "    env = MultiThreadEnv([\n",
    "        # use different names for the visualization\n",
    "        VtolEnv(; rng = StableRNG(hash(seed+i)), name = \"vtol$i\") for i in 1:N_ENV\n",
    "    ])"
   ]
  },
  {
   "cell_type": "code",
   "execution_count": 20,
   "id": "d1f128b2",
   "metadata": {},
   "outputs": [],
   "source": [
    "# Define the function approximator\n",
    "# TODO: change architecture eventually \n",
    "    ns, na = length(state(env[1])), length(action_space(env[1]))\n",
    "    approximator = ActorCritic(\n",
    "                actor = GaussianNetwork(\n",
    "                    pre = Chain(\n",
    "                    Dense(ns, 128, relu; initW = glorot_uniform(rng)),#\n",
    "                    Dense(128, 128, relu; initW = glorot_uniform(rng)),\n",
    "                    ),\n",
    "                    μ = Chain(Dense(128, na; initW = glorot_uniform(rng))),\n",
    "                    logσ = Chain(Dense(128, na; initW = glorot_uniform(rng))),\n",
    "                ),\n",
    "                critic = Chain(\n",
    "                    Dense(ns, 128, relu; initW = glorot_uniform(rng)),\n",
    "                    Dense(128, 128, relu; initW = glorot_uniform(rng)),\n",
    "                    Dense(128, 1; initW = glorot_uniform(rng)),\n",
    "                ),\n",
    "                optimizer = ADAM(1e-3),\n",
    "            );"
   ]
  },
  {
   "cell_type": "code",
   "execution_count": 21,
   "id": "7ea4c37c",
   "metadata": {
    "scrolled": false
   },
   "outputs": [
    {
     "name": "stderr",
     "output_type": "stream",
     "text": [
      "┌ Info: The GPU function is being called but the GPU is not accessible. \n",
      "│ Defaulting back to the CPU. (No action is required if you want to run on the CPU).\n",
      "└ @ Flux /home/larissa/.julia/packages/Flux/7nTyc/src/functor.jl:187\n"
     ]
    }
   ],
   "source": [
    "    agent = Agent( # A wrapper of an AbstractPolicy\n",
    "        # AbstractPolicy: the policy to use\n",
    "        # TODO: change eventually\n",
    "        policy = PPOPolicy(;\n",
    "                    approximator = approximator |> gpu,\n",
    "                    update_freq=UPDATE_FREQ,\n",
    "                    dist = Normal,\n",
    "                    # For parameters visit the docu: https://juliareinforcementlearning.org/docs/rlzoo/#ReinforcementLearningZoo.PPOPolicy\n",
    "                    ),\n",
    "        \n",
    "        # AbstractTrajectory: used to store transitions between an agent and an environment source\n",
    "        trajectory = PPOTrajectory(;\n",
    "            capacity = UPDATE_FREQ,\n",
    "            state = Matrix{Float64} => (ns, N_ENV),\n",
    "            action = Matrix{Float64} => (na, N_ENV),\n",
    "            action_log_prob = Vector{Float64} => (N_ENV,),\n",
    "            reward = Vector{Float64} => (N_ENV,),\n",
    "            terminal = Vector{Bool} => (N_ENV,),\n",
    "        ),\n",
    "    );\n"
   ]
  },
  {
   "cell_type": "code",
   "execution_count": 22,
   "id": "7f158a93",
   "metadata": {},
   "outputs": [],
   "source": [
    "function saveModel(t, agent, env)\n",
    "    model = cpu(agent.policy.approximator)   \n",
    "    f = joinpath(\"./RL_models_l/\", \"vtol_2D_ppo_$t.bson\") # TODO: evtl anpassen\n",
    "    @save f model\n",
    "    println(\"parameters at step $t saved to $f\")\n",
    "end;"
   ]
  },
  {
   "cell_type": "code",
   "execution_count": 23,
   "id": "07c5ad18",
   "metadata": {},
   "outputs": [],
   "source": [
    "function loadModel()\n",
    "    f = joinpath(\"./RL_models/\", \"vtol_2D_ppo_2000000.bson\") # TODO: evtl anpassen\n",
    "    @load f model\n",
    "    return model\n",
    "end;"
   ]
  },
  {
   "cell_type": "code",
   "execution_count": 24,
   "id": "f3c1858c",
   "metadata": {},
   "outputs": [],
   "source": [
    "function validate_policy(t, agent, env)\n",
    "    run(agent.policy, test_env, StopAfterEpisode(1), episode_test_reward_hook)\n",
    "    # the result of the hook\n",
    "    println(\"test reward at step $t: $(episode_test_reward_hook.rewards[end])\")\n",
    "    \n",
    "end;\n",
    "\n",
    "episode_test_reward_hook = TotalRewardPerEpisode(;is_display_on_exit=false)\n",
    "# create a env only for reward test\n",
    "test_env = VtolEnv(;name = \"testVTOL\", visualization = true, realtime = true);"
   ]
  },
  {
   "cell_type": "code",
   "execution_count": 25,
   "id": "fdc71a8d",
   "metadata": {},
   "outputs": [],
   "source": [
    "#agent.policy.approximator = loadModel();"
   ]
  },
  {
   "cell_type": "code",
   "execution_count": null,
   "id": "bb737010",
   "metadata": {},
   "outputs": [
    {
     "name": "stderr",
     "output_type": "stream",
     "text": [
      "\u001b[32mProgress:   1%|▎                                        |  ETA: 5:16:39\u001b[39mm:40\u001b[39m"
     ]
    },
    {
     "name": "stdout",
     "output_type": "stream",
     "text": [
      "test reward at step 10000: -33.86742049395942\n"
     ]
    },
    {
     "name": "stderr",
     "output_type": "stream",
     "text": [
      "\u001b[32mProgress:   1%|▌                                        |  ETA: 2:43:53\u001b[39m"
     ]
    },
    {
     "name": "stdout",
     "output_type": "stream",
     "text": [
      "test reward at step 20000: -21.38103954865272\n"
     ]
    },
    {
     "name": "stderr",
     "output_type": "stream",
     "text": [
      "\u001b[32mProgress:   2%|▊                                        |  ETA: 2:06:00\u001b[39m"
     ]
    },
    {
     "name": "stdout",
     "output_type": "stream",
     "text": [
      "test reward at step 30000: -62.600533732267095\n"
     ]
    },
    {
     "name": "stderr",
     "output_type": "stream",
     "text": [
      "\u001b[32mProgress:   3%|█                                        |  ETA: 1:49:26\u001b[39m"
     ]
    },
    {
     "name": "stdout",
     "output_type": "stream",
     "text": [
      "test reward at step 40000: -326.98108692202214\n"
     ]
    },
    {
     "name": "stderr",
     "output_type": "stream",
     "text": [
      "\u001b[32mProgress:   3%|█▍                                       |  ETA: 1:37:14\u001b[39m"
     ]
    },
    {
     "name": "stdout",
     "output_type": "stream",
     "text": [
      "test reward at step 50000: -514.6770649352919\n"
     ]
    },
    {
     "name": "stderr",
     "output_type": "stream",
     "text": [
      "\u001b[32mProgress:   4%|█▋                                       |  ETA: 1:29:08\u001b[39m"
     ]
    },
    {
     "name": "stdout",
     "output_type": "stream",
     "text": [
      "test reward at step 60000: 1256.593093827576\n"
     ]
    },
    {
     "name": "stderr",
     "output_type": "stream",
     "text": [
      "\u001b[32mProgress:   5%|█▉                                       |  ETA: 1:30:44\u001b[39m"
     ]
    },
    {
     "name": "stdout",
     "output_type": "stream",
     "text": [
      "test reward at step 70000: 207.2728655841661\n"
     ]
    },
    {
     "name": "stderr",
     "output_type": "stream",
     "text": [
      "\u001b[32mProgress:   5%|██▏                                      |  ETA: 1:22:49\u001b[39m"
     ]
    },
    {
     "name": "stdout",
     "output_type": "stream",
     "text": [
      "test reward at step 80000: -139.25161340220976\n"
     ]
    },
    {
     "name": "stderr",
     "output_type": "stream",
     "text": [
      "\u001b[32mProgress:   6%|██▌                                      |  ETA: 1:18:23\u001b[39m"
     ]
    },
    {
     "name": "stdout",
     "output_type": "stream",
     "text": [
      "test reward at step 90000: 29.74697651485748\n"
     ]
    },
    {
     "name": "stderr",
     "output_type": "stream",
     "text": [
      "\u001b[32mProgress:   7%|██▊                                      |  ETA: 1:14:21\u001b[39m"
     ]
    },
    {
     "name": "stdout",
     "output_type": "stream",
     "text": [
      "parameters at step 100000 saved to ./RL_models_l/vtol_2D_ppo_100000.bson\n",
      "test reward at step 100000: 220.80530019443614\n"
     ]
    },
    {
     "name": "stderr",
     "output_type": "stream",
     "text": [
      "\u001b[32mProgress:   7%|███                                      |  ETA: 1:14:37\u001b[39m"
     ]
    },
    {
     "name": "stdout",
     "output_type": "stream",
     "text": [
      "test reward at step 110000: 217.87467768442275\n"
     ]
    },
    {
     "name": "stderr",
     "output_type": "stream",
     "text": [
      "\u001b[32mProgress:   8%|███▎                                     |  ETA: 1:13:17\u001b[39m"
     ]
    },
    {
     "name": "stdout",
     "output_type": "stream",
     "text": [
      "test reward at step 120000: 624.7408759470638\n"
     ]
    },
    {
     "name": "stderr",
     "output_type": "stream",
     "text": [
      "\u001b[32mProgress:   9%|███▌                                     |  ETA: 1:13:13\u001b[39m"
     ]
    },
    {
     "name": "stdout",
     "output_type": "stream",
     "text": [
      "test reward at step 130000: 151.56493045191087\n"
     ]
    },
    {
     "name": "stderr",
     "output_type": "stream",
     "text": [
      "\u001b[32mProgress:   9%|███▊                                     |  ETA: 1:13:14\u001b[39m"
     ]
    },
    {
     "name": "stdout",
     "output_type": "stream",
     "text": [
      "test reward at step 140000: 382.7447035904147\n"
     ]
    },
    {
     "name": "stderr",
     "output_type": "stream",
     "text": [
      "\u001b[32mProgress:  10%|████▏                                    |  ETA: 1:11:32\u001b[39m"
     ]
    },
    {
     "name": "stdout",
     "output_type": "stream",
     "text": [
      "test reward at step 150000: -996.264392113457\n"
     ]
    },
    {
     "name": "stderr",
     "output_type": "stream",
     "text": [
      "\u001b[32mProgress:  11%|████▍                                    |  ETA: 1:12:23\u001b[39m"
     ]
    },
    {
     "name": "stdout",
     "output_type": "stream",
     "text": [
      "test reward at step 160000: -88.20917692940134\n"
     ]
    },
    {
     "name": "stderr",
     "output_type": "stream",
     "text": [
      "\u001b[32mProgress:  11%|████▋                                    |  ETA: 1:10:41\u001b[39m"
     ]
    },
    {
     "name": "stdout",
     "output_type": "stream",
     "text": [
      "test reward at step 170000: -145.91387159507747\n"
     ]
    },
    {
     "name": "stderr",
     "output_type": "stream",
     "text": [
      "\u001b[32mProgress:  12%|████▉                                    |  ETA: 1:08:37\u001b[39m"
     ]
    },
    {
     "name": "stdout",
     "output_type": "stream",
     "text": [
      "test reward at step 180000: 1608.3831847939805\n"
     ]
    },
    {
     "name": "stderr",
     "output_type": "stream",
     "text": [
      "\u001b[32mProgress:  13%|█████▏                                   |  ETA: 1:08:29\u001b[39m"
     ]
    },
    {
     "name": "stdout",
     "output_type": "stream",
     "text": [
      "test reward at step 190000: 323.7226343079961\n"
     ]
    },
    {
     "name": "stderr",
     "output_type": "stream",
     "text": [
      "\u001b[32mProgress:  13%|█████▌                                   |  ETA: 1:06:52\u001b[39m"
     ]
    },
    {
     "name": "stdout",
     "output_type": "stream",
     "text": [
      "parameters at step 200000 saved to ./RL_models_l/vtol_2D_ppo_200000.bson\n",
      "test reward at step 200000: 3264.269097089423\n"
     ]
    },
    {
     "name": "stderr",
     "output_type": "stream",
     "text": [
      "\u001b[32mProgress:  14%|█████▊                                   |  ETA: 1:07:14\u001b[39m"
     ]
    },
    {
     "name": "stdout",
     "output_type": "stream",
     "text": [
      "test reward at step 210000: 4338.203333054689\n"
     ]
    },
    {
     "name": "stderr",
     "output_type": "stream",
     "text": [
      "\u001b[32mProgress:  15%|██████                                   |  ETA: 1:07:37\u001b[39m"
     ]
    },
    {
     "name": "stdout",
     "output_type": "stream",
     "text": [
      "test reward at step 220000: -1068.1072981974792\n"
     ]
    },
    {
     "name": "stderr",
     "output_type": "stream",
     "text": [
      "\u001b[32mProgress:  15%|██████▎                                  |  ETA: 1:07:49\u001b[39m"
     ]
    },
    {
     "name": "stdout",
     "output_type": "stream",
     "text": [
      "test reward at step 230000: 126.56741871491755\n"
     ]
    },
    {
     "name": "stderr",
     "output_type": "stream",
     "text": [
      "\u001b[32mProgress:  16%|██████▌                                  |  ETA: 1:05:52\u001b[39m"
     ]
    },
    {
     "name": "stdout",
     "output_type": "stream",
     "text": [
      "test reward at step 240000: 3601.89290714149\n"
     ]
    },
    {
     "name": "stderr",
     "output_type": "stream",
     "text": [
      "\u001b[32mProgress:  17%|██████▉                                  |  ETA: 1:05:47\u001b[39m"
     ]
    },
    {
     "name": "stdout",
     "output_type": "stream",
     "text": [
      "test reward at step 250000: 3824.2466879992803\n"
     ]
    },
    {
     "name": "stderr",
     "output_type": "stream",
     "text": [
      "\u001b[32mProgress:  17%|███████▏                                 |  ETA: 1:06:33\u001b[39m"
     ]
    },
    {
     "name": "stdout",
     "output_type": "stream",
     "text": [
      "test reward at step 260000: 2858.9683047698186\n"
     ]
    },
    {
     "name": "stderr",
     "output_type": "stream",
     "text": [
      "\u001b[32mProgress:  18%|███████▍                                 |  ETA: 1:06:23\u001b[39m"
     ]
    },
    {
     "name": "stdout",
     "output_type": "stream",
     "text": [
      "test reward at step 270000: 173.18706216081992\n"
     ]
    },
    {
     "name": "stderr",
     "output_type": "stream",
     "text": [
      "\u001b[32mProgress:  19%|███████▋                                 |  ETA: 1:04:55\u001b[39m"
     ]
    },
    {
     "name": "stdout",
     "output_type": "stream",
     "text": [
      "test reward at step 280000: 2882.532345547057\n"
     ]
    },
    {
     "name": "stderr",
     "output_type": "stream",
     "text": [
      "\u001b[32mProgress:  19%|███████▉                                 |  ETA: 1:04:55\u001b[39m"
     ]
    },
    {
     "name": "stdout",
     "output_type": "stream",
     "text": [
      "test reward at step 290000: 240.7358302422796\n"
     ]
    },
    {
     "name": "stderr",
     "output_type": "stream",
     "text": [
      "\u001b[32mProgress:  20%|████████▏                                |  ETA: 1:03:08\u001b[39m"
     ]
    },
    {
     "name": "stdout",
     "output_type": "stream",
     "text": [
      "parameters at step 300000 saved to ./RL_models_l/vtol_2D_ppo_300000.bson\n",
      "test reward at step 300000: 51.04183566855535\n"
     ]
    },
    {
     "name": "stderr",
     "output_type": "stream",
     "text": [
      "\u001b[32mProgress:  20%|████████▍                                |  ETA: 1:02:24\u001b[39m"
     ]
    },
    {
     "name": "stdout",
     "output_type": "stream",
     "text": [
      "test reward at step 310000: 137.15791176057837\n"
     ]
    },
    {
     "name": "stderr",
     "output_type": "stream",
     "text": [
      "\u001b[32mProgress:  21%|████████▋                                |  ETA: 1:01:32\u001b[39m"
     ]
    },
    {
     "name": "stdout",
     "output_type": "stream",
     "text": [
      "test reward at step 320000: 3305.8339007406175\n"
     ]
    },
    {
     "name": "stderr",
     "output_type": "stream",
     "text": [
      "\u001b[32mProgress:  22%|█████████                                |  ETA: 1:01:40\u001b[39m"
     ]
    },
    {
     "name": "stdout",
     "output_type": "stream",
     "text": [
      "test reward at step 330000: 609.4380871714153\n"
     ]
    },
    {
     "name": "stderr",
     "output_type": "stream",
     "text": [
      "\u001b[32mProgress:  23%|█████████▎                               |  ETA: 1:01:50\u001b[39m"
     ]
    },
    {
     "name": "stdout",
     "output_type": "stream",
     "text": [
      "test reward at step 340000: 242.33647486858675\n"
     ]
    },
    {
     "name": "stderr",
     "output_type": "stream",
     "text": [
      "\u001b[32mProgress:  23%|█████████▌                               |  ETA: 1:00:50\u001b[39m"
     ]
    },
    {
     "name": "stdout",
     "output_type": "stream",
     "text": [
      "test reward at step 350000: 357.23978633399014\n"
     ]
    },
    {
     "name": "stderr",
     "output_type": "stream",
     "text": [
      "\u001b[32mProgress:  24%|█████████▉                               |  ETA: 1:00:07\u001b[39m"
     ]
    },
    {
     "name": "stdout",
     "output_type": "stream",
     "text": [
      "test reward at step 360000: 520.4705160822718\n"
     ]
    },
    {
     "name": "stderr",
     "output_type": "stream",
     "text": [
      "\u001b[32mProgress:  25%|██████████▏                              |  ETA: 0:59:28\u001b[39m"
     ]
    },
    {
     "name": "stdout",
     "output_type": "stream",
     "text": [
      "test reward at step 370000: 425.86676029045833\n"
     ]
    },
    {
     "name": "stderr",
     "output_type": "stream",
     "text": [
      "\u001b[32mProgress:  25%|██████████▍                              |  ETA: 0:59:00\u001b[39m"
     ]
    },
    {
     "name": "stdout",
     "output_type": "stream",
     "text": [
      "test reward at step 380000: 228.74461045661783\n"
     ]
    },
    {
     "name": "stderr",
     "output_type": "stream",
     "text": [
      "\u001b[32mProgress:  26%|██████████▋                              |  ETA: 0:58:13\u001b[39m"
     ]
    },
    {
     "name": "stdout",
     "output_type": "stream",
     "text": [
      "test reward at step 390000: 290.88522954281336\n"
     ]
    },
    {
     "name": "stderr",
     "output_type": "stream",
     "text": [
      "\u001b[32mProgress:  27%|██████████▉                              |  ETA: 0:57:35\u001b[39m"
     ]
    },
    {
     "name": "stdout",
     "output_type": "stream",
     "text": [
      "parameters at step 400000 saved to ./RL_models_l/vtol_2D_ppo_400000.bson\n",
      "test reward at step 400000: 184.840770683812\n"
     ]
    },
    {
     "name": "stderr",
     "output_type": "stream",
     "text": [
      "\u001b[32mProgress:  27%|███████████▎                             |  ETA: 0:56:49\u001b[39m"
     ]
    },
    {
     "name": "stdout",
     "output_type": "stream",
     "text": [
      "test reward at step 410000: 453.4256141613871\n"
     ]
    },
    {
     "name": "stderr",
     "output_type": "stream",
     "text": [
      "\u001b[32mProgress:  28%|███████████▌                             |  ETA: 0:56:52\u001b[39m"
     ]
    },
    {
     "name": "stdout",
     "output_type": "stream",
     "text": [
      "test reward at step 420000: 240.35613017038327\n"
     ]
    },
    {
     "name": "stderr",
     "output_type": "stream",
     "text": [
      "\u001b[32mProgress:  29%|███████████▊                             |  ETA: 0:56:29\u001b[39m"
     ]
    },
    {
     "name": "stdout",
     "output_type": "stream",
     "text": [
      "test reward at step 430000: 2981.0326008969823\n"
     ]
    },
    {
     "name": "stderr",
     "output_type": "stream",
     "text": [
      "\u001b[32mProgress:  29%|████████████                             |  ETA: 0:56:19\u001b[39m"
     ]
    }
   ],
   "source": [
    "ReinforcementLearning.run(\n",
    "    agent,\n",
    "    env,\n",
    "    StopAfterStep(1_500_000),\n",
    "    ComposedHook(\n",
    "        DoEveryNStep(saveModel, n=100_000), \n",
    "        DoEveryNStep(validate_policy, n=10_000)),\n",
    ")"
   ]
  },
  {
   "cell_type": "code",
   "execution_count": null,
   "id": "49a302a6",
   "metadata": {},
   "outputs": [],
   "source": [
    "plot(episode_test_reward_hook.rewards)"
   ]
  },
  {
   "cell_type": "code",
   "execution_count": null,
   "id": "fb0d4ec2",
   "metadata": {},
   "outputs": [],
   "source": [
    "close_visualization(); # closes the MeshCat visualization"
   ]
  }
 ],
 "metadata": {
  "@webio": {
   "lastCommId": null,
   "lastKernelId": null
  },
  "kernelspec": {
   "display_name": "Julia 1.8.0",
   "language": "julia",
   "name": "julia-1.8"
  },
  "language_info": {
   "file_extension": ".jl",
   "mimetype": "application/julia",
   "name": "julia",
   "version": "1.8.0"
  }
 },
 "nbformat": 4,
 "nbformat_minor": 5
}
