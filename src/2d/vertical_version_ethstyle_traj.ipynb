{
 "cells": [
  {
   "cell_type": "markdown",
   "id": "0649b76a",
   "metadata": {},
   "source": [
    "# Init Bionic VTOL"
   ]
  },
  {
   "cell_type": "code",
   "execution_count": 1,
   "id": "96751412",
   "metadata": {},
   "outputs": [],
   "source": [
    "include(\"../Flyonic.jl\");\n",
    "using .Flyonic;\n",
    "\n",
    "using Rotations; # used for initial position\n",
    "\n",
    "using ReinforcementLearning;\n",
    "using StableRNGs;\n",
    "using Flux;\n",
    "using Flux.Losses;\n",
    "using Random;\n",
    "using IntervalSets;\n",
    "using LinearAlgebra;\n",
    "using Distributions;\n",
    "\n",
    "using Plots;\n",
    "using Statistics;\n",
    "\n",
    "using BSON: @save, @load # save mode"
   ]
  },
  {
   "cell_type": "code",
   "execution_count": 2,
   "id": "c4ede3b2",
   "metadata": {},
   "outputs": [
    {
     "data": {
      "text/plain": [
       "false"
      ]
     },
     "metadata": {},
     "output_type": "display_data"
    }
   ],
   "source": [
    "R_TOL = 0.5\n",
    "N_WAYPOINTS = 4\n",
    "SLOW_MODE = false"
   ]
  },
  {
   "cell_type": "markdown",
   "id": "3ad88655",
   "metadata": {},
   "source": [
    "TODO:\n",
    "evtl einfügen, dass wenn man über ziel drüber fliegt trotzdem den current point updatet "
   ]
  },
  {
   "cell_type": "code",
   "execution_count": 3,
   "id": "f7e4ee64",
   "metadata": {},
   "outputs": [
    {
     "name": "stderr",
     "output_type": "stream",
     "text": [
      "┌ Info: MeshCat server started. You can open the visualizer by visiting the following URL in your browser:\n",
      "│ http://127.0.0.1:8700\n",
      "└ @ MeshCat /Users/leonardoigler/.julia/packages/MeshCat/Ax8pH/src/visualizer.jl:73\n"
     ]
    }
   ],
   "source": [
    "create_visualization();"
   ]
  },
  {
   "cell_type": "code",
   "execution_count": 4,
   "id": "7d9557df",
   "metadata": {},
   "outputs": [
    {
     "data": {
      "text/plain": [
       "1"
      ]
     },
     "metadata": {},
     "output_type": "display_data"
    }
   ],
   "source": [
    "# indicates how many threads Julia was started with. This is important for the multi-threaded environment\n",
    "Threads.nthreads()"
   ]
  },
  {
   "cell_type": "markdown",
   "id": "5411db62",
   "metadata": {},
   "source": [
    "# Create Reinforcement Learning Environment"
   ]
  },
  {
   "cell_type": "code",
   "execution_count": 5,
   "id": "96af6ee0",
   "metadata": {},
   "outputs": [],
   "source": [
    "mutable struct VtolEnv{A,T,ACT,R<:AbstractRNG} <: AbstractEnv # Parametric Constructor for a subtype of AbstractEnv\n",
    "    action_space::A # action space\n",
    "    observation_space::Space{Vector{ClosedInterval{T}}} # observation space\n",
    "    state::Vector{T} # current state space\n",
    "    action::ACT # action space\n",
    "    done::Bool # done\n",
    "    t::T # time\n",
    "    rng::R # random number generator\n",
    "\n",
    "    name::String # for multible environoments\n",
    "    visualization::Bool # visualization\n",
    "    realtime::Bool # realtime\n",
    "    \n",
    "    # Everything you need aditionaly can also go in here.\n",
    "    x_W::Vector{T} # current position\n",
    "    v_B::Vector{T} # velocity\n",
    "    R_W::Matrix{T} # current rotation\n",
    "    ω_B::Vector{T} # rotation velocitiy\n",
    "    wind_W::Vector{T} # wind\n",
    "    Δt::T # Δ time\n",
    "    \n",
    "    # Current Bonus / Target\n",
    "    num_waypoints::Int # includig start point\n",
    "    waypoints::Vector{Vector{T}}\n",
    "    reached_goal::BitVector\n",
    "    \n",
    "    progress::T\n",
    "    progress_prev::T\n",
    "    current_point::Int\n",
    "    reached_goal_in_step::Bool\n",
    "    \n",
    "    r_tol::T\n",
    "    projected_Position::Vector{T}\n",
    "\n",
    "    slow_mode::Bool\n",
    "end"
   ]
  },
  {
   "cell_type": "code",
   "execution_count": 6,
   "id": "14a6873d",
   "metadata": {},
   "outputs": [],
   "source": [
    "# define a keyword-based constructor for the type declared in the mutable struct typedef. \n",
    "# It could also be done with the macro Base.@kwdef.\n",
    "function VtolEnv(;\n",
    "    rng = Random.GLOBAL_RNG, # Random number generation\n",
    "    name = \"vtol\",\n",
    "    visualization = false,\n",
    "    realtime = false,\n",
    "    kwargs... # let the function take an arbitrary number of keyword arguments \n",
    ")\n",
    "    \n",
    "    T = Float64; # explicit type which is used e.g. in state. Cannot be altered due to the poor matrix defininon.\n",
    "\n",
    "    \n",
    "    action_space = Space(\n",
    "        ClosedInterval{T}[\n",
    "            0.0..2.0, # propeller 1\n",
    "            0.0..2.0, # propeller 2\n",
    "            ], \n",
    "    )\n",
    "\n",
    "    \n",
    "    state_space = Space( # Three continuous values in state space.\n",
    "        ClosedInterval{T}[\n",
    "            # orientate yourself on the state space from the paper\n",
    "            typemin(T)..typemax(T), # position along x\n",
    "            typemin(T)..typemax(T), # position along z\n",
    "            \n",
    "            typemin(T)..typemax(T), # orientation along x\n",
    "            typemin(T)..typemax(T), # orientation along z\n",
    "            \n",
    "            typemin(T)..typemax(T), # velocity along x BODY coordinates\n",
    "            typemin(T)..typemax(T), # velocity along y BODY coordinates\n",
    "            \n",
    "            typemin(T)..typemax(T), # rotational velocity along z BODY coordinates\n",
    "            \n",
    "            typemin(T)..typemax(T), # position error along x (next gate - current position)\n",
    "            typemin(T)..typemax(T), # position error along z (next gate - current position)\n",
    "            \n",
    "            typemin(T)..typemax(T), # way to next next gate x (next next gate - next gate)\n",
    "            typemin(T)..typemax(T), # way to next next gate z (next next gate - next gate)\n",
    "            # TODO: more points?\n",
    "            ], \n",
    "    )\n",
    "    \n",
    "    num_waypoints = N_WAYPOINTS # number of waypoints, includig start point\n",
    "    waypoints = generate_trajectory(num_waypoints) # trajectory with num_waypoints waypoints (+ start point) \n",
    "    reached_goal = falses(num_waypoints)\n",
    "    \n",
    "    if visualization #visualizes VTOL and waypoints\n",
    "        create_VTOL(name, actuators = true, color_vec=[1.0; 1.0; 0.6; 1.0]);\n",
    "        visualize_waypoints(waypoints, 0.15)\n",
    "    end\n",
    "\n",
    "    environment = VtolEnv(\n",
    "        action_space,\n",
    "        state_space, \n",
    "        zeros(T, length(state_space)), # current state, needs to be extended\n",
    "        rand(action_space), #initialization action\n",
    "        false, # episode done \n",
    "        0.0, # time\n",
    "        rng, # random number generator  \n",
    "        \n",
    "        name,\n",
    "        visualization,\n",
    "        realtime,\n",
    "        \n",
    "        zeros(T, 3), # x_W, current position\n",
    "        zeros(T, 3), # v_B, velocity\n",
    "        [1.0 0.0 0.0; 0.0 1.0 0.0; 0.0 0.0 1.0], # R_W, current rotation, Float64... so T needs to be Float64\n",
    "        zeros(T, 3), # ω_B\n",
    "        zeros(T, 3), # wind_W\n",
    "        T(0.025), # Δt \n",
    "        \n",
    "        num_waypoints, # includig start point\n",
    "        waypoints, \n",
    "        reached_goal,\n",
    "        \n",
    "        0.0, # progress\n",
    "        0.0, # progress_prev\n",
    "        2, # current point\n",
    "        false, # reached_goal_in_step\n",
    "        \n",
    "        R_TOL, # r_tol\n",
    "        zeros(T, 3),\n",
    "\n",
    "        SLOW_MODE\n",
    "    )\n",
    "    \n",
    "    \n",
    "    reset!(environment)\n",
    "    \n",
    "    return environment\n",
    "    \n",
    "end;"
   ]
  },
  {
   "cell_type": "markdown",
   "id": "ec660d5e",
   "metadata": {},
   "source": [
    "Just for explanation:\n",
    "\n",
    "1. A mutable Struct is created. A struct is a constructor and a constructor is a function that creates new objects.\n",
    "2. A outer keyword-based constructor method is added for the type declared in the mutable struct typedef before.\n",
    "\n",
    "So now we have a function with two methods. Julia will decide which method to call by multiple dispatch."
   ]
  },
  {
   "cell_type": "code",
   "execution_count": 7,
   "id": "dc3c4bb3",
   "metadata": {},
   "outputs": [
    {
     "data": {
      "text/html": [
       "# 2 methods for type constructor:<ul><li> VtolEnv(; <i>rng, name, visualization, realtime, kwargs...</i>) in Main at <a href=\"https://github.com/LarissaRickler/tum-adlr-01/tree/d7bd216c1e68a60c974b6aa2a5a1c0a546a902ff//src/2d/vertical_version_ethstyle_traj.ipynb#L3\" target=\"_blank\">/Users/leonardoigler/Documents/Studium/Semester 3/ADLR/Project/tum-adlr-01/src/2d/vertical_version_ethstyle_traj.ipynb:3</a></li> <li> VtolEnv(action_space::<b>A</b>, observation_space::<b>Space{Array{ClosedInterval{T}, 1}}</b>, state::<b>Vector{T}</b>, action::<b>ACT</b>, done::<b>Bool</b>, t::<b>T</b>, rng::<b>R</b>, name::<b>String</b>, visualization::<b>Bool</b>, realtime::<b>Bool</b>, x_W::<b>Vector{T}</b>, v_B::<b>Vector{T}</b>, R_W::<b>Matrix{T}</b>, ω_B::<b>Vector{T}</b>, wind_W::<b>Vector{T}</b>, Δt::<b>T</b>, num_waypoints::<b>Int64</b>, waypoints::<b>Array{Vector{T}, 1}</b>, reached_goal::<b>BitVector</b>, progress::<b>T</b>, progress_prev::<b>T</b>, current_point::<b>Int64</b>, reached_goal_in_step::<b>Bool</b>, r_tol::<b>T</b>, projected_Position::<b>Vector{T}</b>, slow_mode::<b>Bool</b>)<i> where {A, T, ACT, R<:AbstractRNG}</i> in Main at <a href=\"https://github.com/LarissaRickler/tum-adlr-01/tree/d7bd216c1e68a60c974b6aa2a5a1c0a546a902ff//src/2d/vertical_version_ethstyle_traj.ipynb#L2\" target=\"_blank\">/Users/leonardoigler/Documents/Studium/Semester 3/ADLR/Project/tum-adlr-01/src/2d/vertical_version_ethstyle_traj.ipynb:2</a></li> </ul>"
      ],
      "text/plain": [
       "# 2 methods for type constructor:\n",
       "[1] VtolEnv(; rng, name, visualization, realtime, kwargs...) in Main at /Users/leonardoigler/Documents/Studium/Semester 3/ADLR/Project/tum-adlr-01/src/2d/vertical_version_ethstyle_traj.ipynb:3\n",
       "[2] VtolEnv(action_space::A, observation_space::Space{Array{ClosedInterval{T}, 1}}, state::Vector{T}, action::ACT, done::Bool, t::T, rng::R, name::String, visualization::Bool, realtime::Bool, x_W::Vector{T}, v_B::Vector{T}, R_W::Matrix{T}, ω_B::Vector{T}, wind_W::Vector{T}, Δt::T, num_waypoints::Int64, waypoints::Array{Vector{T}, 1}, reached_goal::BitVector, progress::T, progress_prev::T, current_point::Int64, reached_goal_in_step::Bool, r_tol::T, projected_Position::Vector{T}, slow_mode::Bool) where {A, T, ACT, R<:AbstractRNG} in Main at /Users/leonardoigler/Documents/Studium/Semester 3/ADLR/Project/tum-adlr-01/src/2d/vertical_version_ethstyle_traj.ipynb:2"
      ]
     },
     "metadata": {},
     "output_type": "display_data"
    }
   ],
   "source": [
    "methods(VtolEnv)"
   ]
  },
  {
   "cell_type": "markdown",
   "id": "806413d1",
   "metadata": {},
   "source": [
    "# Define the RL interface"
   ]
  },
  {
   "cell_type": "code",
   "execution_count": 8,
   "id": "0f822029",
   "metadata": {},
   "outputs": [],
   "source": [
    "Random.seed!(env::VtolEnv, seed) = Random.seed!(env.rng, seed)\n",
    "RLBase.action_space(env::VtolEnv) = env.action_space\n",
    "RLBase.state_space(env::VtolEnv) = env.observation_space\n",
    "RLBase.is_terminated(env::VtolEnv) = env.done\n",
    "RLBase.state(env::VtolEnv) = env.state"
   ]
  },
  {
   "cell_type": "code",
   "execution_count": 9,
   "id": "2b48de74",
   "metadata": {},
   "outputs": [
    {
     "data": {
      "text/plain": [
       "scale_for_slowmode (generic function with 1 method)"
      ]
     },
     "metadata": {},
     "output_type": "display_data"
    }
   ],
   "source": [
    "function scale_for_slowmode(slow_mode::Bool, v_min::T, v_max::T, d_max::T, x_W::Vector{T}, projected_Position::Vector{T}, v_B::Vector{T}) where T\n",
    "    \n",
    "    if slow_mode == false\n",
    "        return 1\n",
    "    else\n",
    "        if norm(v_B) > v_max\n",
    "            s_vmax = 10^(v_max - norm(v_B))\n",
    "        else\n",
    "            s_vmax = 1\n",
    "        end\n",
    "\n",
    "        if norm(v_B) < v_min\n",
    "            s_vmin = 10^(norm(v_B) - v_min)\n",
    "        else\n",
    "            s_vmin = 1\n",
    "        end\n",
    "\n",
    "        if norm(x_W - projected_Position) > d_max\n",
    "            s_gd = exp(-norm(x_W - projected_Position) + d_max)\n",
    "        else\n",
    "            s_gd = 1\n",
    "        end\n",
    "        s = s_vmax * s_vmin * s_gd\n",
    "    end\n",
    "    return s\n",
    "end\n",
    "\n"
   ]
  },
  {
   "cell_type": "code",
   "execution_count": 10,
   "id": "1f7fb89c",
   "metadata": {},
   "outputs": [],
   "source": [
    "function computeReward(env::VtolEnv{A,T}) where {A,T}\n",
    "    \n",
    "    norm_way = 0.0 # DEBUG: save in environment\n",
    "    for i in 1:(env.num_waypoints - 1)\n",
    "        norm_way += norm(env.waypoints[i] - env.waypoints[i + 1])\n",
    "    end\n",
    "\n",
    "    v_min = 1.0 # min velocity\n",
    "    v_max = 3.0 # max velocity\n",
    "    d_max = 0.5\n",
    "\n",
    "\n",
    "    s = scale_for_slowmode(env.slow_mode, v_min, v_max, d_max, env.x_W, env.projected_Position, env.v_B)\n",
    "    \n",
    "\n",
    "    k_p = 5.0 * s#env.num_waypoints / norm_way;# factor for progress (between current position and last position) reward \n",
    "    r_p = (env.progress - env.progress_prev); # reward for progress (between current position and last position)\n",
    "\n",
    "    k_s = s * (2 * v_max * env.Δt)/norm_way #5.0 # factor for reached distance (overall) reward, TODO later add factor as in paper (p. 4)\n",
    "    r_s = env.progress # reward for reached distance (overall)\n",
    "    \n",
    "    k_wp = 10.0 * env.num_waypoints # factor for reached gate reward\n",
    "    r_wp = 0.0 # reward for reached gate, TODO: change to gates later (when gates != waypoints)\n",
    "    if env.reached_goal_in_step\n",
    "        r_wp = exp(-norm(env.x_W - env.waypoints[env.current_point - 1])/env.r_tol)\n",
    "    end \n",
    "\n",
    "    k_ω = 0.01 # factor for too high body rate penalty\n",
    "    norm_ω = norm(env.ω_B[3]) # penalty for body rate\n",
    "\n",
    "    if env.x_W[3]<-2\n",
    "        fall = 1\n",
    "    else\n",
    "        fall = 0\n",
    "    end\n",
    "\n",
    "    return k_p * r_p + k_s * r_s + k_wp * r_wp - k_ω * norm_ω -fall# - k_v * norm_v\n",
    "    \n",
    "end\n",
    "\n",
    "\n",
    "RLBase.reward(env::VtolEnv{A,T}) where {A,T} = computeReward(env)"
   ]
  },
  {
   "cell_type": "code",
   "execution_count": 11,
   "id": "ae45ec04",
   "metadata": {},
   "outputs": [],
   "source": [
    "function RLBase.reset!(env::VtolEnv{A,T}) where {A,T}\n",
    "    # Visualize initial state\n",
    "    if env.visualization\n",
    "        set_transform(env.name, env.x_W, QuatRotation(env.R_W));\n",
    "        set_actuators(env.name, [0.0; 0.0; 0.0; 0.0]);\n",
    "    end\n",
    "    \n",
    "    env.x_W = [0.0; 0.0; 0.0];\n",
    "    env.v_B = [0.0; 0.0; 0.0];\n",
    "    env.R_W = Matrix(UnitQuaternion(RotZ(-pi/2.0)*RotY(-pi/2.0)*RotX(pi)));\n",
    "\n",
    "    env.ω_B = [0.0; 0.0; 0.0];\n",
    "    env.wind_W = [0.0; 0.0; 0.0];\n",
    "    \n",
    "    #env.num_waypoints = 4; # includig start point\n",
    "    env.waypoints = generate_trajectory(env.num_waypoints);\n",
    "    env.reached_goal = falses(env.num_waypoints);\n",
    "    env.reached_goal[1] = true; # set first point to reached (start point)\n",
    "    \n",
    "    env.current_point = 2;\n",
    "    env.reached_goal_in_step = false;\n",
    "    #env.r_tol = 0.3;\n",
    "    \n",
    "    if env.visualization\n",
    "        visualize_waypoints(env.waypoints, 0.15); # debug: other radius?\n",
    "    end\n",
    "    \n",
    "\n",
    "    env.progress = 0.0;\n",
    "    env.progress_prev = 0.0;\n",
    "    \n",
    "    \n",
    "    env.state = [env.x_W[1]; # position along x\n",
    "                 env.x_W[3]; # position along z\n",
    "        \n",
    "                 env.R_W[1,1]; # orientation along x\n",
    "                 env.R_W[3,1]; # orientation along z\n",
    "        \n",
    "                 env.v_B[1]; # velocity along x BODY coordinates\n",
    "                 env.v_B[2]; # velocity along y BODY coordinates  \n",
    "        \n",
    "                 env.ω_B[3]; # rotational velocity along z BODY coordinates\n",
    "        \n",
    "                 env.waypoints[2][1] - env.x_W[1]; # position error along x\n",
    "                 env.waypoints[2][3] - env.x_W[3]; # position error along z\n",
    "                 \n",
    "                 0.0; # way to next next gate x (next next gate - next gate)\n",
    "                 0.0] # way to next next gate z (next next gate - next gate)\n",
    "    \n",
    "    if env.num_waypoints >= 3\n",
    "        env.state[10] = env.waypoints[3][1] - env.waypoints[2][1]; # way to next next gate x (next next gate - next gate)\n",
    "        env.state[11] = env.waypoints[3][3] - env.waypoints[2][1]; # way to next next gate z (next next gate - next gate)\n",
    "    end\n",
    "        \n",
    "    env.t = 0.0;\n",
    "    env.action = [0.0, 0.0];\n",
    "    env.done = false;\n",
    "\n",
    "    env.projected_Position = [0; 0; 0]\n",
    "    \n",
    "    nothing\n",
    "\n",
    "end;"
   ]
  },
  {
   "cell_type": "code",
   "execution_count": 12,
   "id": "1cf1a7b7",
   "metadata": {},
   "outputs": [],
   "source": [
    "# defines a methods for a callable object.\n",
    "# So when a VtolEnv object is created, it has this method that can be called\n",
    "function (env::VtolEnv)(a)\n",
    "    # TODO: set flaps later in 3D\n",
    "    # set the propeller trust and the two flaps 2D case\n",
    "    next_action = [a[1], a[2], 0.0, 0.0]\n",
    "   \n",
    "    _step!(env, next_action)\n",
    "end"
   ]
  },
  {
   "cell_type": "code",
   "execution_count": 13,
   "id": "b0e9eb59",
   "metadata": {},
   "outputs": [],
   "source": [
    "env = VtolEnv();"
   ]
  },
  {
   "cell_type": "code",
   "execution_count": 14,
   "id": "26a116cb",
   "metadata": {},
   "outputs": [
    {
     "data": {
      "text/html": [
       "# 3 methods for callable object:<ul><li> (env::<b>VtolEnv</b>)(a) in Main at <a href=\"https://github.com/LarissaRickler/tum-adlr-01/tree/d7bd216c1e68a60c974b6aa2a5a1c0a546a902ff//src/2d/vertical_version_ethstyle_traj.ipynb#L3\" target=\"_blank\">/Users/leonardoigler/Documents/Studium/Semester 3/ADLR/Project/tum-adlr-01/src/2d/vertical_version_ethstyle_traj.ipynb:3</a></li> <li> (env::<b>AbstractEnv</b>)(action) in ReinforcementLearningBase</li> <li> (env::<b>AbstractEnv</b>)(action, player) in ReinforcementLearningBase</li> </ul>"
      ],
      "text/plain": [
       "# 3 methods for callable object:\n",
       "[1] (env::VtolEnv)(a) in Main at /Users/leonardoigler/Documents/Studium/Semester 3/ADLR/Project/tum-adlr-01/src/2d/vertical_version_ethstyle_traj.ipynb:3\n",
       "[2] (env::AbstractEnv)(action) in ReinforcementLearningBase\n",
       "[3] (env::AbstractEnv)(action, player) in ReinforcementLearningBase"
      ]
     },
     "metadata": {},
     "output_type": "display_data"
    }
   ],
   "source": [
    "methods(env) # Just to explain which methods the object has"
   ]
  },
  {
   "cell_type": "code",
   "execution_count": 15,
   "id": "9e7d4727",
   "metadata": {},
   "outputs": [],
   "source": [
    "function _step!(env::VtolEnv, next_action)\n",
    "    # caluclate wind impact\n",
    "    v_in_wind_B = vtol_add_wind(env.v_B, env.R_W, env.wind_W)\n",
    "    # caluclate aerodynamic forces\n",
    "    torque_B, force_B = vtol_model(v_in_wind_B, next_action, eth_vtol_param);\n",
    "    # Limit to 2D\n",
    "    force_B[3] = 0.0; # Body Z\n",
    "    env.v_B[3] = 0.0;\n",
    "    torque_B[1] = 0.0; torque_B[2] = 0.0;  # Body X and Y\n",
    "    env.ω_B[1] = 0.0; env.ω_B[2] = 0.0;\n",
    "    # integrate rigid body dynamics for Δt\n",
    "    env.x_W, env.v_B, env.R_W, env.ω_B, time = rigid_body_simple(torque_B, force_B, env.x_W, env.v_B, env.R_W, env.ω_B, env.t, env.Δt, eth_vtol_param)\n",
    "    \n",
    "    \n",
    "    env.reached_goal_in_step = false;\n",
    "    if norm(env.x_W - env.waypoints[env.current_point]) < env.r_tol\n",
    "        env.reached_goal_in_step = true;\n",
    "        env.reached_goal[env.current_point] = true;\n",
    "        #env.current_point += 1;\n",
    "    end\n",
    "        \n",
    "            \n",
    "    # calculate progress on trajectory\n",
    "    env.progress_prev = env.progress\n",
    "    \n",
    "    current_progress = 0.0\n",
    "    line_segment, env.projected_Position = calculate_progress(env.waypoints, env.x_W)\n",
    "    \n",
    "    env.current_point = line_segment + 1\n",
    "\n",
    "    for i in 2:(line_segment)\n",
    "       current_progress +=  norm(env.waypoints[i] - env.waypoints[i - 1])  \n",
    "    end\n",
    "    current_progress += norm(env.waypoints[line_segment] - env.projected_Position)\n",
    "    \n",
    "    env.progress = current_progress\n",
    "    \n",
    "\n",
    "    if env.realtime\n",
    "        sleep(env.Δt) # TODO: just a dirty hack. this is of course slower than real time.\n",
    "    end\n",
    "\n",
    "    # Visualize the new state \n",
    "    if env.visualization\n",
    "        set_transform(env.name, env.x_W, QuatRotation(env.R_W));\n",
    "        set_actuators(env.name, next_action)\n",
    "        \n",
    "        for i in eachindex(env.reached_goal)\n",
    "            if env.reached_goal[i]\n",
    "                create_sphere(\"fixgoal_$i\", 0.2, color=RGBA{Float32}(1.0, 0.0, 0.0, 1.0));\n",
    "                set_transform(\"fixgoal_$i\", env.waypoints[i]);\n",
    "            end\n",
    "        end\n",
    "    end\n",
    " \n",
    "\n",
    "    env.t += env.Δt\n",
    "    \n",
    "    env.state[1] = env.x_W[1]; # position along x\n",
    "    env.state[2] = env.x_W[3]; # position along z\n",
    "    \n",
    "    env.state[3] = env.R_W[1,1]; # orientation along x\n",
    "    env.state[4] = env.R_W[3,1]; # orientation along z\n",
    "    \n",
    "    env.state[5] = env.v_B[1]; # velocity along x BODY coordinates\n",
    "    env.state[6] = env.v_B[2]; # velocity along y BODY coordinates\n",
    "    \n",
    "    env.state[7] = env.ω_B[3];  # rotational velocity along z BODY coordinates\n",
    "    \n",
    "    \n",
    "    if env.current_point <= env.num_waypoints\n",
    "        env.state[8] = env.waypoints[env.current_point][1] - env.x_W[1]; # position error along x\n",
    "        env.state[9] = env.waypoints[env.current_point][3] - env.x_W[3]; # position error along z\n",
    "        \n",
    "        if env.current_point <= env.num_waypoints - 1\n",
    "            env.state[10] = env.waypoints[env.current_point + 1][1] - env.waypoints[env.current_point][1]; # way to next next gate x (next next gate - next gate)\n",
    "            env.state[11] = env.waypoints[env.current_point + 1][3] - env.waypoints[env.current_point][3]; # way to next next gate z (next next gate - next gate)\n",
    "        else\n",
    "            env.state[10] = 0.0 # way to next next gate x (next next gate - next gate)\n",
    "            env.state[11] = 0.0 # way to next next gate z (next next gate - next gate)\n",
    "        end\n",
    "    else\n",
    "        env.state[8] = 0.0; # position error along x\n",
    "        env.state[9] = 0.0; # position error along z\n",
    "        env.state[10] = 0.0 # way to next next gate x (next next gate - next gate)\n",
    "        env.state[11] = 0.0 # way to next next gate z (next next gate - next gate)\n",
    "    end\n",
    "        \n",
    "    \n",
    "    # Termination criteria\n",
    "    # TODO: Use many termination criteria so that you do not train unnecessarily in wrong areas\n",
    "    env.done = #true\n",
    "        # After time... How fast is drone+Range of desired point\n",
    "        # After reaching position (circle of r_tol)\n",
    "        norm(env.ω_B) > 100.0 || \n",
    "        norm(env.v_B) > 100.0 || # stop if body is too fast # TODO: set higher later in fast training phase\n",
    "        env.x_W[3] < -5.0 || # stop if body is below -5m\n",
    "        env.t > env.num_waypoints * 10.0 ||# stop after 10s per point\n",
    "        norm(env.x_W - env.projected_Position) > 5.0 || # too far off the path \n",
    "        env.current_point > env.num_waypoints ||# all points reached\n",
    "        norm(env.x_W - env.waypoints[end])<env.r_tol\n",
    "\n",
    "    nothing\n",
    "end;"
   ]
  },
  {
   "cell_type": "markdown",
   "id": "81c37e8e",
   "metadata": {},
   "source": [
    "changed to 10s (5s before) per point and 5.0m too far off path (2.0 before)"
   ]
  },
  {
   "cell_type": "code",
   "execution_count": 16,
   "id": "6e1cd988",
   "metadata": {
    "scrolled": false
   },
   "outputs": [
    {
     "name": "stdout",
     "output_type": "stream",
     "text": [
      "\u001b[0m\u001b[1mTest Summary:              | \u001b[22m\u001b[32m\u001b[1mPass  \u001b[22m\u001b[39m\u001b[36m\u001b[1mTotal  \u001b[22m\u001b[39m\u001b[0m\u001b[1mTime\u001b[22m\n",
      "random policy with VtolEnv | \u001b[32m2000  \u001b[39m\u001b[36m 2000  \u001b[39m\u001b[0m0.8s\n"
     ]
    },
    {
     "data": {
      "text/plain": [
       "Test.DefaultTestSet(\"random policy with VtolEnv\", Any[], 2000, false, false, true, 1.670770841603089e9, 1.670770842422146e9)"
      ]
     },
     "metadata": {},
     "output_type": "display_data"
    }
   ],
   "source": [
    "RLBase.test_runnable!(env)"
   ]
  },
  {
   "cell_type": "markdown",
   "id": "c223a31f",
   "metadata": {},
   "source": [
    "Show an overview of the environment."
   ]
  },
  {
   "cell_type": "markdown",
   "id": "ffe6de74",
   "metadata": {},
   "source": [
    "# Setup of a reinforcement learning experiment."
   ]
  },
  {
   "cell_type": "code",
   "execution_count": 17,
   "id": "e5683fe8",
   "metadata": {},
   "outputs": [
    {
     "data": {
      "text/markdown": [
       "MultiThreadEnv(8 x VtolEnv)"
      ],
      "text/plain": [
       "MultiThreadEnv(8 x VtolEnv)"
      ]
     },
     "metadata": {},
     "output_type": "display_data"
    }
   ],
   "source": [
    "seed = 123    \n",
    "rng = StableRNG(seed)\n",
    "    N_ENV = 8\n",
    "    UPDATE_FREQ = 1024\n",
    "    \n",
    "    \n",
    "    # define multiple environments for parallel training\n",
    "    env = MultiThreadEnv([\n",
    "        # use different names for the visualization\n",
    "        VtolEnv(; rng = StableRNG(hash(seed+i)), name = \"vtol$i\") for i in 1:N_ENV\n",
    "    ])"
   ]
  },
  {
   "cell_type": "code",
   "execution_count": 18,
   "id": "d1f128b2",
   "metadata": {},
   "outputs": [],
   "source": [
    "# Define the function approximator\n",
    "# TODO: change architecture eventually \n",
    "    ns, na = length(state(env[1])), length(action_space(env[1]))\n",
    "    approximator = ActorCritic(\n",
    "                actor = GaussianNetwork(\n",
    "                    pre = Chain(\n",
    "                    Dense(ns, 128, tanh; initW = glorot_uniform(rng)),#\n",
    "                    Dense(128, 128, tanh; initW = glorot_uniform(rng)),\n",
    "                    ),\n",
    "                    μ = Chain(Dense(128, na; initW = glorot_uniform(rng))),\n",
    "                    logσ = Chain(Dense(128, na; initW = glorot_uniform(rng))),\n",
    "                ),\n",
    "                critic = Chain(\n",
    "                    Dense(ns, 128, tanh; initW = glorot_uniform(rng)),\n",
    "                    Dense(128, 128, tanh; initW = glorot_uniform(rng)),\n",
    "                    Dense(128, 1; initW = glorot_uniform(rng)),\n",
    "                ),\n",
    "                optimizer = ADAM(1e-3),\n",
    "            );"
   ]
  },
  {
   "cell_type": "code",
   "execution_count": 19,
   "id": "7ea4c37c",
   "metadata": {
    "scrolled": false
   },
   "outputs": [
    {
     "name": "stderr",
     "output_type": "stream",
     "text": [
      "WARNING: both Losses and NNlib export \"ctc_loss\"; uses of it in module Flux must be qualified\n",
      "┌ Info: The GPU function is being called but the GPU is not accessible. \n",
      "│ Defaulting back to the CPU. (No action is required if you want to run on the CPU).\n",
      "└ @ Flux /Users/leonardoigler/.julia/packages/Flux/7nTyc/src/functor.jl:187\n"
     ]
    }
   ],
   "source": [
    "    agent = Agent( # A wrapper of an AbstractPolicy\n",
    "        # AbstractPolicy: the policy to use\n",
    "        # TODO: change eventually\n",
    "        policy = PPOPolicy(;\n",
    "                    approximator = approximator |> gpu,\n",
    "                    update_freq=UPDATE_FREQ,\n",
    "                    dist = Normal,\n",
    "                    # For parameters visit the docu: https://juliareinforcementlearning.org/docs/rlzoo/#ReinforcementLearningZoo.PPOPolicy\n",
    "                    ),\n",
    "        \n",
    "        # AbstractTrajectory: used to store transitions between an agent and an environment source\n",
    "        trajectory = PPOTrajectory(;\n",
    "            capacity = UPDATE_FREQ,\n",
    "            state = Matrix{Float64} => (ns, N_ENV),\n",
    "            action = Matrix{Float64} => (na, N_ENV),\n",
    "            action_log_prob = Vector{Float64} => (N_ENV,),\n",
    "            reward = Vector{Float64} => (N_ENV,),\n",
    "            terminal = Vector{Bool} => (N_ENV,),\n",
    "        ),\n",
    "    );\n"
   ]
  },
  {
   "cell_type": "code",
   "execution_count": 20,
   "id": "7f158a93",
   "metadata": {},
   "outputs": [],
   "source": [
    "function saveModel(t, agent, env)\n",
    "    model = cpu(agent.policy.approximator)   \n",
    "    f = joinpath(\"./RL_models_l/\", \"vtol_2D_ppo_$t.bson\") # TODO: evtl anpassen\n",
    "    @save f model\n",
    "    println(\"parameters at step $t saved to $f\")\n",
    "end;"
   ]
  },
  {
   "cell_type": "code",
   "execution_count": 21,
   "id": "07c5ad18",
   "metadata": {},
   "outputs": [],
   "source": [
    "function loadModel()\n",
    "    f = joinpath(\"./RL_models_slow/\", \"vtol_2D_ppo_1500000.bson\") # TODO: evtl anpassen\n",
    "    @load f model\n",
    "    return model\n",
    "end;"
   ]
  },
  {
   "cell_type": "code",
   "execution_count": 22,
   "id": "f3c1858c",
   "metadata": {},
   "outputs": [],
   "source": [
    "function validate_policy(t, agent, env)\n",
    "    run(agent.policy, test_env, StopAfterEpisode(1), episode_test_reward_hook)\n",
    "    # the result of the hook\n",
    "    println(\"test reward at step $t: $(episode_test_reward_hook.rewards[end])\")\n",
    "    \n",
    "end;\n",
    "\n",
    "episode_test_reward_hook = TotalRewardPerEpisode(;is_display_on_exit=false)\n",
    "# create a env only for reward test\n",
    "test_env = VtolEnv(;name = \"testVTOL\", visualization = true, realtime = true);"
   ]
  },
  {
   "cell_type": "code",
   "execution_count": 23,
   "id": "af72d48e",
   "metadata": {},
   "outputs": [],
   "source": [
    "agent.policy.approximator = loadModel(); # TODO: un/comment"
   ]
  },
  {
   "cell_type": "code",
   "execution_count": 24,
   "id": "bb737010",
   "metadata": {
    "scrolled": false
   },
   "outputs": [
    {
     "name": "stderr",
     "output_type": "stream",
     "text": [
      "\r\u001b[32mProgress:   0%|                                         |  ETA: 44.35 days\u001b[39m\u001b[K"
     ]
    },
    {
     "name": "stderr",
     "output_type": "stream",
     "text": [
      "\r\u001b[32mProgress:   0%|▏                                        |  ETA: 2:13:17\u001b[39m\u001b[K"
     ]
    },
    {
     "name": "stdout",
     "output_type": "stream",
     "text": [
      "test reward at step 10000: 142.39234256091984\n"
     ]
    },
    {
     "name": "stderr",
     "output_type": "stream",
     "text": [
      "\r\u001b[32mProgress:   0%|▎                                        |  ETA: 1:58:27\u001b[39m\u001b[K"
     ]
    },
    {
     "name": "stderr",
     "output_type": "stream",
     "text": [
      "\r\u001b[32mProgress:   1%|▎                                        |  ETA: 1:41:52\u001b[39m\u001b[K"
     ]
    },
    {
     "name": "stderr",
     "output_type": "stream",
     "text": [
      "\r\u001b[32mProgress:   1%|▎                                        |  ETA: 1:31:39\u001b[39m\u001b[K"
     ]
    },
    {
     "name": "stderr",
     "output_type": "stream",
     "text": [
      "\r\u001b[32mProgress:   1%|▎                                        |  ETA: 1:24:10\u001b[39m\u001b[K"
     ]
    },
    {
     "name": "stderr",
     "output_type": "stream",
     "text": [
      "\r\u001b[32mProgress:   1%|▍                                        |  ETA: 1:18:26\u001b[39m\u001b[K"
     ]
    },
    {
     "name": "stdout",
     "output_type": "stream",
     "text": [
      "test reward at step 20000: 194.50674107886294\n"
     ]
    },
    {
     "name": "stderr",
     "output_type": "stream",
     "text": [
      "\r\u001b[32mProgress:   1%|▍                                        |  ETA: 1:34:39\u001b[39m\u001b[K"
     ]
    },
    {
     "name": "stderr",
     "output_type": "stream",
     "text": [
      "\r\u001b[32mProgress:   1%|▍                                        |  ETA: 1:28:30\u001b[39m\u001b[K"
     ]
    },
    {
     "name": "stderr",
     "output_type": "stream",
     "text": [
      "\r\u001b[32mProgress:   1%|▍                                        |  ETA: 1:23:31\u001b[39m\u001b[K"
     ]
    },
    {
     "name": "stderr",
     "output_type": "stream",
     "text": [
      "\r\u001b[32mProgress:   1%|▌                                        |  ETA: 1:19:17\u001b[39m\u001b[K"
     ]
    },
    {
     "name": "stderr",
     "output_type": "stream",
     "text": [
      "\r\u001b[32mProgress:   1%|▌                                        |  ETA: 1:15:40\u001b[39m\u001b[K"
     ]
    },
    {
     "name": "stdout",
     "output_type": "stream",
     "text": [
      "test reward at step 30000: 172.2941124490251\n"
     ]
    },
    {
     "name": "stderr",
     "output_type": "stream",
     "text": [
      "\r\u001b[32mProgress:   1%|▌                                        |  ETA: 1:22:57\u001b[39m\u001b[K"
     ]
    },
    {
     "name": "stderr",
     "output_type": "stream",
     "text": [
      "\r\u001b[32mProgress:   1%|▌                                        |  ETA: 1:19:03\u001b[39m\u001b[K"
     ]
    },
    {
     "name": "stderr",
     "output_type": "stream",
     "text": [
      "\r\u001b[32mProgress:   1%|▋                                        |  ETA: 1:14:25\u001b[39m\u001b[K"
     ]
    },
    {
     "name": "stderr",
     "output_type": "stream",
     "text": [
      "\r\u001b[32mProgress:   2%|▋                                        |  ETA: 1:11:07\u001b[39m\u001b[K"
     ]
    },
    {
     "name": "stderr",
     "output_type": "stream",
     "text": [
      "\r\u001b[32mProgress:   2%|▋                                        |  ETA: 1:08:31\u001b[39m\u001b[K"
     ]
    },
    {
     "name": "stdout",
     "output_type": "stream",
     "text": [
      "test reward at step 40000: 162.7018216528963\n"
     ]
    },
    {
     "name": "stderr",
     "output_type": "stream",
     "text": [
      "\r\u001b[32mProgress:   2%|▋                                        |  ETA: 1:13:23\u001b[39m\u001b[K"
     ]
    },
    {
     "name": "stderr",
     "output_type": "stream",
     "text": [
      "\r\u001b[32mProgress:   2%|▊                                        |  ETA: 1:10:29\u001b[39m\u001b[K"
     ]
    },
    {
     "name": "stderr",
     "output_type": "stream",
     "text": [
      "\r\u001b[32mProgress:   2%|▊                                        |  ETA: 1:08:17\u001b[39m\u001b[K"
     ]
    },
    {
     "name": "stderr",
     "output_type": "stream",
     "text": [
      "\r\u001b[32mProgress:   2%|▊                                        |  ETA: 1:06:30\u001b[39m\u001b[K"
     ]
    },
    {
     "name": "stderr",
     "output_type": "stream",
     "text": [
      "\r\u001b[32mProgress:   2%|▉                                        |  ETA: 1:04:46\u001b[39m\u001b[K"
     ]
    },
    {
     "name": "stdout",
     "output_type": "stream",
     "text": [
      "test reward at step 50000: 213.9913036764374\n"
     ]
    },
    {
     "name": "stderr",
     "output_type": "stream",
     "text": [
      "\r\u001b[32mProgress:   2%|▉                                        |  ETA: 1:13:21\u001b[39m\u001b[K"
     ]
    },
    {
     "name": "stderr",
     "output_type": "stream",
     "text": [
      "\r\u001b[32mProgress:   2%|▉                                        |  ETA: 1:11:00\u001b[39m\u001b[K"
     ]
    },
    {
     "name": "stderr",
     "output_type": "stream",
     "text": [
      "\r\u001b[32mProgress:   2%|▉                                        |  ETA: 1:09:04\u001b[39m\u001b[K"
     ]
    },
    {
     "name": "stderr",
     "output_type": "stream",
     "text": [
      "\r\u001b[32mProgress:   2%|█                                        |  ETA: 1:07:25\u001b[39m\u001b[K"
     ]
    },
    {
     "name": "stderr",
     "output_type": "stream",
     "text": [
      "\r\u001b[32mProgress:   2%|█                                        |  ETA: 1:05:55\u001b[39m\u001b[K"
     ]
    },
    {
     "name": "stdout",
     "output_type": "stream",
     "text": [
      "test reward at step 60000: 199.75587753047984\n"
     ]
    },
    {
     "name": "stderr",
     "output_type": "stream",
     "text": [
      "\r\u001b[32mProgress:   2%|█                                        |  ETA: 1:10:15\u001b[39m\u001b[K"
     ]
    },
    {
     "name": "stderr",
     "output_type": "stream",
     "text": [
      "\r\u001b[32mProgress:   3%|█                                        |  ETA: 1:08:44\u001b[39m\u001b[K"
     ]
    },
    {
     "name": "stderr",
     "output_type": "stream",
     "text": [
      "\r\u001b[32mProgress:   3%|█▏                                       |  ETA: 1:06:47\u001b[39m\u001b[K"
     ]
    },
    {
     "name": "stderr",
     "output_type": "stream",
     "text": [
      "\r\u001b[32mProgress:   3%|█▏                                       |  ETA: 1:05:19\u001b[39m\u001b[K"
     ]
    },
    {
     "name": "stdout",
     "output_type": "stream",
     "text": [
      "test reward at step 70000: 185.90134978431573\n"
     ]
    },
    {
     "name": "stderr",
     "output_type": "stream",
     "text": [
      "\r\u001b[32mProgress:   3%|█▏                                       |  ETA: 1:08:53\u001b[39m\u001b[K"
     ]
    },
    {
     "name": "stderr",
     "output_type": "stream",
     "text": [
      "\r\u001b[32mProgress:   3%|█▏                                       |  ETA: 1:07:28\u001b[39m\u001b[K"
     ]
    },
    {
     "name": "stderr",
     "output_type": "stream",
     "text": [
      "\r\u001b[32mProgress:   3%|█▎                                       |  ETA: 1:06:12\u001b[39m\u001b[K"
     ]
    },
    {
     "name": "stderr",
     "output_type": "stream",
     "text": [
      "\r\u001b[32mProgress:   3%|█▎                                       |  ETA: 1:05:03\u001b[39m\u001b[K"
     ]
    },
    {
     "name": "stderr",
     "output_type": "stream",
     "text": [
      "\r\u001b[32mProgress:   3%|█▎                                       |  ETA: 1:03:59\u001b[39m\u001b[K"
     ]
    },
    {
     "name": "stdout",
     "output_type": "stream",
     "text": [
      "test reward at step 80000: 157.7683049939955\n"
     ]
    },
    {
     "name": "stderr",
     "output_type": "stream",
     "text": [
      "\r\u001b[32mProgress:   3%|█▍                                       |  ETA: 1:05:31\u001b[39m\u001b[K"
     ]
    },
    {
     "name": "stderr",
     "output_type": "stream",
     "text": [
      "\r\u001b[32mProgress:   3%|█▍                                       |  ETA: 1:03:36\u001b[39m\u001b[K"
     ]
    },
    {
     "name": "stderr",
     "output_type": "stream",
     "text": [
      "\r\u001b[32mProgress:   3%|█▍                                       |  ETA: 1:02:10\u001b[39m\u001b[K"
     ]
    },
    {
     "name": "stderr",
     "output_type": "stream",
     "text": [
      "\r\u001b[32mProgress:   4%|█▌                                       |  ETA: 1:01:03\u001b[39m\u001b[K"
     ]
    },
    {
     "name": "stdout",
     "output_type": "stream",
     "text": [
      "test reward at step 90000: 165.50851644315574\n"
     ]
    },
    {
     "name": "stderr",
     "output_type": "stream",
     "text": [
      "\r\u001b[32mProgress:   4%|█▌                                       |  ETA: 1:03:10\u001b[39m\u001b[K"
     ]
    },
    {
     "name": "stderr",
     "output_type": "stream",
     "text": [
      "\r\u001b[32mProgress:   4%|█▌                                       |  ETA: 1:02:15\u001b[39m\u001b[K"
     ]
    },
    {
     "name": "stderr",
     "output_type": "stream",
     "text": [
      "\r\u001b[32mProgress:   4%|█▌                                       |  ETA: 1:01:22\u001b[39m\u001b[K"
     ]
    },
    {
     "name": "stderr",
     "output_type": "stream",
     "text": [
      "\r\u001b[32mProgress:   4%|█▋                                       |  ETA: 1:00:32\u001b[39m\u001b[K"
     ]
    },
    {
     "name": "stderr",
     "output_type": "stream",
     "text": [
      "\r\u001b[32mProgress:   4%|█▋                                       |  ETA: 0:59:45\u001b[39m\u001b[K"
     ]
    },
    {
     "name": "stdout",
     "output_type": "stream",
     "text": [
      "parameters at step 100000 saved to ./RL_models_l/vtol_2D_ppo_100000.bson\n"
     ]
    },
    {
     "name": "stdout",
     "output_type": "stream",
     "text": [
      "test reward at step 100000: 358.2390556182927\n"
     ]
    },
    {
     "name": "stderr",
     "output_type": "stream",
     "text": [
      "\r\u001b[32mProgress:   4%|█▋                                       |  ETA: 1:18:40\u001b[39m\u001b[K"
     ]
    },
    {
     "name": "stderr",
     "output_type": "stream",
     "text": [
      "\r\u001b[32mProgress:   4%|█▊                                       |  ETA: 1:16:25\u001b[39m\u001b[K"
     ]
    },
    {
     "name": "stderr",
     "output_type": "stream",
     "text": [
      "\r\u001b[32mProgress:   4%|█▊                                       |  ETA: 1:15:12\u001b[39m\u001b[K"
     ]
    },
    {
     "name": "stderr",
     "output_type": "stream",
     "text": [
      "\r\u001b[32mProgress:   4%|█▊                                       |  ETA: 1:14:07\u001b[39m\u001b[K"
     ]
    },
    {
     "name": "stdout",
     "output_type": "stream",
     "text": [
      "test reward at step 110000: 183.95241196177713\n"
     ]
    },
    {
     "name": "stderr",
     "output_type": "stream",
     "text": [
      "\r\u001b[32mProgress:   4%|█▊                                       |  ETA: 1:15:50\u001b[39m\u001b[K"
     ]
    },
    {
     "name": "stderr",
     "output_type": "stream",
     "text": [
      "\r\u001b[32mProgress:   4%|█▉                                       |  ETA: 1:14:35\u001b[39m\u001b[K"
     ]
    },
    {
     "name": "stderr",
     "output_type": "stream",
     "text": [
      "\r\u001b[32mProgress:   5%|█▉                                       |  ETA: 1:13:30\u001b[39m\u001b[K"
     ]
    },
    {
     "name": "stderr",
     "output_type": "stream",
     "text": [
      "\r\u001b[32mProgress:   5%|█▉                                       |  ETA: 1:12:32\u001b[39m\u001b[K"
     ]
    },
    {
     "name": "stderr",
     "output_type": "stream",
     "text": [
      "\r\u001b[32mProgress:   5%|██                                       |  ETA: 1:11:37\u001b[39m\u001b[K"
     ]
    },
    {
     "name": "stdout",
     "output_type": "stream",
     "text": [
      "test reward at step 120000: 135.73201859476575\n"
     ]
    },
    {
     "name": "stderr",
     "output_type": "stream",
     "text": [
      "\r\u001b[32mProgress:   5%|██                                       |  ETA: 1:12:05\u001b[39m\u001b[K"
     ]
    },
    {
     "name": "stderr",
     "output_type": "stream",
     "text": [
      "\r\u001b[32mProgress:   5%|██                                       |  ETA: 1:11:09\u001b[39m\u001b[K"
     ]
    },
    {
     "name": "stderr",
     "output_type": "stream",
     "text": [
      "\r\u001b[32mProgress:   5%|██                                       |  ETA: 1:10:17\u001b[39m\u001b[K"
     ]
    },
    {
     "name": "stderr",
     "output_type": "stream",
     "text": [
      "\r\u001b[32mProgress:   5%|██▏                                      |  ETA: 1:09:29\u001b[39m\u001b[K"
     ]
    },
    {
     "name": "stderr",
     "output_type": "stream",
     "text": [
      "\r\u001b[32mProgress:   5%|██▏                                      |  ETA: 1:08:43\u001b[39m\u001b[K"
     ]
    },
    {
     "name": "stdout",
     "output_type": "stream",
     "text": [
      "test reward at step 130000: 353.2888084815863\n"
     ]
    },
    {
     "name": "stderr",
     "output_type": "stream",
     "text": [
      "\r\u001b[32mProgress:   5%|██▏                                      |  ETA: 1:22:32\u001b[39m\u001b[K"
     ]
    },
    {
     "name": "stderr",
     "output_type": "stream",
     "text": [
      "\r\u001b[32mProgress:   5%|██▎                                      |  ETA: 1:20:35\u001b[39m\u001b[K"
     ]
    },
    {
     "name": "stderr",
     "output_type": "stream",
     "text": [
      "\r\u001b[32mProgress:   5%|██▎                                      |  ETA: 1:19:31\u001b[39m\u001b[K"
     ]
    },
    {
     "name": "stderr",
     "output_type": "stream",
     "text": [
      "\r\u001b[32mProgress:   6%|██▎                                      |  ETA: 1:18:34\u001b[39m\u001b[K"
     ]
    },
    {
     "name": "stderr",
     "output_type": "stream",
     "text": [
      "\r\u001b[32mProgress:   6%|██▎                                      |  ETA: 1:31:09\u001b[39m\u001b[K"
     ]
    },
    {
     "name": "stdout",
     "output_type": "stream",
     "text": [
      "test reward at step 140000: 335.9961896160701\n"
     ]
    },
    {
     "name": "stderr",
     "output_type": "stream",
     "text": [
      "\r\u001b[32mProgress:   6%|██▍                                      |  ETA: 1:30:04\u001b[39m\u001b[K"
     ]
    },
    {
     "name": "stderr",
     "output_type": "stream",
     "text": [
      "\r\u001b[32mProgress:   6%|██▍                                      |  ETA: 1:29:03\u001b[39m\u001b[K"
     ]
    },
    {
     "name": "stderr",
     "output_type": "stream",
     "text": [
      "\r\u001b[32mProgress:   6%|██▍                                      |  ETA: 1:28:06\u001b[39m\u001b[K"
     ]
    },
    {
     "name": "stderr",
     "output_type": "stream",
     "text": [
      "\r\u001b[32mProgress:   6%|██▍                                      |  ETA: 1:27:11\u001b[39m\u001b[K"
     ]
    },
    {
     "name": "stderr",
     "output_type": "stream",
     "text": [
      "\r\u001b[32mProgress:   6%|██▌                                      |  ETA: 1:26:19\u001b[39m\u001b[K"
     ]
    },
    {
     "name": "stdout",
     "output_type": "stream",
     "text": [
      "test reward at step 150000: 317.3422918073305\n"
     ]
    },
    {
     "name": "stderr",
     "output_type": "stream",
     "text": [
      "\r\u001b[32mProgress:   6%|██▌                                      |  ETA: 1:35:34\u001b[39m\u001b[K"
     ]
    },
    {
     "name": "stderr",
     "output_type": "stream",
     "text": [
      "\r\u001b[32mProgress:   6%|██▌                                      |  ETA: 1:34:31\u001b[39m\u001b[K"
     ]
    },
    {
     "name": "stderr",
     "output_type": "stream",
     "text": [
      "\r\u001b[32mProgress:   6%|██▌                                      |  ETA: 1:33:30\u001b[39m\u001b[K"
     ]
    },
    {
     "name": "stderr",
     "output_type": "stream",
     "text": [
      "\r\u001b[32mProgress:   6%|██▋                                      |  ETA: 1:32:31\u001b[39m\u001b[K"
     ]
    },
    {
     "name": "stderr",
     "output_type": "stream",
     "text": [
      "\r\u001b[32mProgress:   6%|██▋                                      |  ETA: 1:31:31\u001b[39m\u001b[K"
     ]
    },
    {
     "name": "stdout",
     "output_type": "stream",
     "text": [
      "test reward at step 160000: 352.86929480615487\n"
     ]
    },
    {
     "name": "stderr",
     "output_type": "stream",
     "text": [
      "\r\u001b[32mProgress:   6%|██▋                                      |  ETA: 1:42:22\u001b[39m\u001b[K"
     ]
    },
    {
     "name": "stderr",
     "output_type": "stream",
     "text": [
      "\r\u001b[32mProgress:   7%|██▊                                      |  ETA: 1:40:39\u001b[39m\u001b[K"
     ]
    },
    {
     "name": "stderr",
     "output_type": "stream",
     "text": [
      "\r\u001b[32mProgress:   7%|██▊                                      |  ETA: 1:39:36\u001b[39m\u001b[K"
     ]
    },
    {
     "name": "stderr",
     "output_type": "stream",
     "text": [
      "\r\u001b[32mProgress:   7%|██▊                                      |  ETA: 1:38:36\u001b[39m\u001b[K"
     ]
    },
    {
     "name": "stdout",
     "output_type": "stream",
     "text": [
      "test reward at step 170000: 211.75206637252458\n"
     ]
    },
    {
     "name": "stderr",
     "output_type": "stream",
     "text": [
      "\r\u001b[32mProgress:   7%|██▊                                      |  ETA: 1:43:07\u001b[39m\u001b[K"
     ]
    },
    {
     "name": "stderr",
     "output_type": "stream",
     "text": [
      "\r\u001b[32mProgress:   7%|██▉                                      |  ETA: 1:42:02\u001b[39m\u001b[K"
     ]
    },
    {
     "name": "stderr",
     "output_type": "stream",
     "text": [
      "\r\u001b[32mProgress:   7%|██▉                                      |  ETA: 1:41:00\u001b[39m\u001b[K"
     ]
    },
    {
     "name": "stderr",
     "output_type": "stream",
     "text": [
      "\r\u001b[32mProgress:   7%|██▉                                      |  ETA: 1:39:59\u001b[39m\u001b[K"
     ]
    },
    {
     "name": "stderr",
     "output_type": "stream",
     "text": [
      "\r\u001b[32mProgress:   7%|██▉                                      |  ETA: 1:39:00\u001b[39m\u001b[K"
     ]
    },
    {
     "name": "stdout",
     "output_type": "stream",
     "text": [
      "test reward at step 180000: 318.4612904357473\n"
     ]
    },
    {
     "name": "stderr",
     "output_type": "stream",
     "text": [
      "\r\u001b[32mProgress:   7%|███                                      |  ETA: 1:48:30\u001b[39m\u001b[K"
     ]
    },
    {
     "name": "stderr",
     "output_type": "stream",
     "text": [
      "\r\u001b[32mProgress:   7%|███                                      |  ETA: 1:46:23\u001b[39m\u001b[K"
     ]
    },
    {
     "name": "stderr",
     "output_type": "stream",
     "text": [
      "\r\u001b[32mProgress:   7%|███▏                                     |  ETA: 1:44:55\u001b[39m\u001b[K"
     ]
    },
    {
     "name": "stderr",
     "output_type": "stream",
     "text": [
      "\r\u001b[32mProgress:   8%|███▏                                     |  ETA: 1:43:46\u001b[39m\u001b[K"
     ]
    },
    {
     "name": "stdout",
     "output_type": "stream",
     "text": [
      "test reward at step 190000: 339.3550374096282\n"
     ]
    },
    {
     "name": "stderr",
     "output_type": "stream",
     "text": [
      "\r\u001b[32mProgress:   8%|███▏                                     |  ETA: 1:52:42\u001b[39m\u001b[K"
     ]
    },
    {
     "name": "stderr",
     "output_type": "stream",
     "text": [
      "\r\u001b[32mProgress:   8%|███▏                                     |  ETA: 1:51:40\u001b[39m\u001b[K"
     ]
    },
    {
     "name": "stderr",
     "output_type": "stream",
     "text": [
      "\r\u001b[32mProgress:   8%|███▎                                     |  ETA: 1:50:40\u001b[39m\u001b[K"
     ]
    },
    {
     "name": "stderr",
     "output_type": "stream",
     "text": [
      "\r\u001b[32mProgress:   8%|███▎                                     |  ETA: 1:49:37\u001b[39m\u001b[K"
     ]
    },
    {
     "name": "stderr",
     "output_type": "stream",
     "text": [
      "\r\u001b[32mProgress:   8%|███▎                                     |  ETA: 1:48:35\u001b[39m\u001b[K"
     ]
    },
    {
     "name": "stdout",
     "output_type": "stream",
     "text": [
      "parameters at step 200000 saved to ./RL_models_l/vtol_2D_ppo_200000.bson\n"
     ]
    },
    {
     "name": "stdout",
     "output_type": "stream",
     "text": [
      "test reward at step 200000: 184.58918480464578\n"
     ]
    },
    {
     "name": "stderr",
     "output_type": "stream",
     "text": [
      "\r\u001b[32mProgress:   8%|███▎                                     |  ETA: 1:51:20\u001b[39m\u001b[K"
     ]
    },
    {
     "name": "stderr",
     "output_type": "stream",
     "text": [
      "\r\u001b[32mProgress:   8%|███▍                                     |  ETA: 1:50:19\u001b[39m\u001b[K"
     ]
    },
    {
     "name": "stderr",
     "output_type": "stream",
     "text": [
      "\r\u001b[32mProgress:   8%|███▍                                     |  ETA: 1:49:20\u001b[39m\u001b[K"
     ]
    },
    {
     "name": "stderr",
     "output_type": "stream",
     "text": [
      "\r\u001b[32mProgress:   8%|███▍                                     |  ETA: 1:48:23\u001b[39m\u001b[K"
     ]
    },
    {
     "name": "stderr",
     "output_type": "stream",
     "text": [
      "\r\u001b[32mProgress:   8%|███▍                                     |  ETA: 1:47:25\u001b[39m\u001b[K"
     ]
    },
    {
     "name": "stdout",
     "output_type": "stream",
     "text": [
      "test reward at step 210000: 324.4861709051581\n"
     ]
    },
    {
     "name": "stderr",
     "output_type": "stream",
     "text": [
      "\r\u001b[32mProgress:   8%|███▌                                     |  ETA: 1:55:17\u001b[39m\u001b[K"
     ]
    },
    {
     "name": "stderr",
     "output_type": "stream",
     "text": [
      "\r\u001b[32mProgress:   9%|███▌                                     |  ETA: 1:53:15\u001b[39m\u001b[K"
     ]
    },
    {
     "name": "stderr",
     "output_type": "stream",
     "text": [
      "\r\u001b[32mProgress:   9%|███▋                                     |  ETA: 1:52:17\u001b[39m\u001b[K"
     ]
    },
    {
     "name": "stderr",
     "output_type": "stream",
     "text": [
      "\r\u001b[32mProgress:   9%|███▋                                     |  ETA: 1:51:18\u001b[39m\u001b[K"
     ]
    },
    {
     "ename": "InterruptException",
     "evalue": "InterruptException:",
     "output_type": "error",
     "traceback": [
      "InterruptException:\n",
      "\n",
      "Stacktrace:\n",
      "  [1] poptask(W::Base.InvasiveLinkedListSynchronized{Task})\n",
      "    @ Base ./task.jl:921\n",
      "  [2] wait()\n",
      "    @ Base ./task.jl:930\n",
      "  [3] wait(c::Base.GenericCondition{Base.Threads.SpinLock})\n",
      "    @ Base ./condition.jl:124\n",
      "  [4] _trywait(t::Timer)\n",
      "    @ Base ./asyncevent.jl:138\n",
      "  [5] wait\n",
      "    @ ./asyncevent.jl:155 [inlined]\n",
      "  [6] sleep(sec::Float64)\n",
      "    @ Base ./asyncevent.jl:240\n",
      "  [7] _step!(env::VtolEnv{Space{Vector{ClosedInterval{Float64}}}, Float64, Vector{Float64}, Random._GLOBAL_RNG}, next_action::Vector{Float64})\n",
      "    @ Main ~/Documents/Studium/Semester 3/ADLR/Project/tum-adlr-01/src/2d/vertical_version_ethstyle_traj.ipynb:40\n",
      "  [8] (::VtolEnv{Space{Vector{ClosedInterval{Float64}}}, Float64, Vector{Float64}, Random._GLOBAL_RNG})(a::Matrix{Float64})\n",
      "    @ Main ~/Documents/Studium/Semester 3/ADLR/Project/tum-adlr-01/src/2d/vertical_version_ethstyle_traj.ipynb:8\n",
      "  [9] _run(policy::PPOPolicy{ActorCritic{GaussianNetwork{Chain{Tuple{Dense{typeof(tanh), Matrix{Float32}, Vector{Float32}}, Dense{typeof(tanh), Matrix{Float32}, Vector{Float32}}}}, Chain{Tuple{Dense{typeof(identity), Matrix{Float32}, Vector{Float32}}}}, Chain{Tuple{Dense{typeof(identity), Matrix{Float32}, Vector{Float32}}}}, typeof(tanh)}, Chain{Tuple{Dense{typeof(tanh), Matrix{Float32}, Vector{Float32}}, Dense{typeof(tanh), Matrix{Float32}, Vector{Float32}}, Dense{typeof(identity), Matrix{Float32}, Vector{Float32}}}}, ADAM}, Normal, Random._GLOBAL_RNG}, env::VtolEnv{Space{Vector{ClosedInterval{Float64}}}, Float64, Vector{Float64}, Random._GLOBAL_RNG}, stop_condition::StopAfterEpisode{ProgressMeter.Progress}, hook::TotalRewardPerEpisode)\n",
      "    @ ReinforcementLearningCore ~/.julia/packages/ReinforcementLearningCore/yeRLW/src/core/run.jl:32\n",
      " [10] run(policy::PPOPolicy{ActorCritic{GaussianNetwork{Chain{Tuple{Dense{typeof(tanh), Matrix{Float32}, Vector{Float32}}, Dense{typeof(tanh), Matrix{Float32}, Vector{Float32}}}}, Chain{Tuple{Dense{typeof(identity), Matrix{Float32}, Vector{Float32}}}}, Chain{Tuple{Dense{typeof(identity), Matrix{Float32}, Vector{Float32}}}}, typeof(tanh)}, Chain{Tuple{Dense{typeof(tanh), Matrix{Float32}, Vector{Float32}}, Dense{typeof(tanh), Matrix{Float32}, Vector{Float32}}, Dense{typeof(identity), Matrix{Float32}, Vector{Float32}}}}, ADAM}, Normal, Random._GLOBAL_RNG}, env::VtolEnv{Space{Vector{ClosedInterval{Float64}}}, Float64, Vector{Float64}, Random._GLOBAL_RNG}, stop_condition::StopAfterEpisode{ProgressMeter.Progress}, hook::TotalRewardPerEpisode)\n",
      "    @ ReinforcementLearningCore ~/.julia/packages/ReinforcementLearningCore/yeRLW/src/core/run.jl:10\n",
      " [11] validate_policy(t::Int64, agent::Agent{PPOPolicy{ActorCritic{GaussianNetwork{Chain{Tuple{Dense{typeof(tanh), Matrix{Float32}, Vector{Float32}}, Dense{typeof(tanh), Matrix{Float32}, Vector{Float32}}}}, Chain{Tuple{Dense{typeof(identity), Matrix{Float32}, Vector{Float32}}}}, Chain{Tuple{Dense{typeof(identity), Matrix{Float32}, Vector{Float32}}}}, typeof(tanh)}, Chain{Tuple{Dense{typeof(tanh), Matrix{Float32}, Vector{Float32}}, Dense{typeof(tanh), Matrix{Float32}, Vector{Float32}}, Dense{typeof(identity), Matrix{Float32}, Vector{Float32}}}}, ADAM}, Normal, Random._GLOBAL_RNG}, Trajectory{NamedTuple{(:action_log_prob, :state, :action, :reward, :terminal), Tuple{CircularArrayBuffers.CircularArrayBuffer{Float64, 2, Matrix{Float64}}, CircularArrayBuffers.CircularArrayBuffer{Float64, 3, Array{Float64, 3}}, CircularArrayBuffers.CircularArrayBuffer{Float64, 3, Array{Float64, 3}}, CircularArrayBuffers.CircularArrayBuffer{Float64, 2, Matrix{Float64}}, CircularArrayBuffers.CircularArrayBuffer{Bool, 2, Matrix{Bool}}}}}}, env::MultiThreadEnv{VtolEnv{Space{Vector{ClosedInterval{Float64}}}, Float64, Vector{Float64}, StableRNGs.LehmerRNG}, Matrix{Float64}, Vector{Float64}, Space{Matrix{ClosedInterval{Float64}}}, Space{Matrix{ClosedInterval{Float64}}}, Nothing})\n",
      "    @ Main ~/Documents/Studium/Semester 3/ADLR/Project/tum-adlr-01/src/2d/vertical_version_ethstyle_traj.ipynb:2\n",
      " [12] (::DoEveryNStep{typeof(validate_policy)})(#unused#::PostActStage, agent::Agent{PPOPolicy{ActorCritic{GaussianNetwork{Chain{Tuple{Dense{typeof(tanh), Matrix{Float32}, Vector{Float32}}, Dense{typeof(tanh), Matrix{Float32}, Vector{Float32}}}}, Chain{Tuple{Dense{typeof(identity), Matrix{Float32}, Vector{Float32}}}}, Chain{Tuple{Dense{typeof(identity), Matrix{Float32}, Vector{Float32}}}}, typeof(tanh)}, Chain{Tuple{Dense{typeof(tanh), Matrix{Float32}, Vector{Float32}}, Dense{typeof(tanh), Matrix{Float32}, Vector{Float32}}, Dense{typeof(identity), Matrix{Float32}, Vector{Float32}}}}, ADAM}, Normal, Random._GLOBAL_RNG}, Trajectory{NamedTuple{(:action_log_prob, :state, :action, :reward, :terminal), Tuple{CircularArrayBuffers.CircularArrayBuffer{Float64, 2, Matrix{Float64}}, CircularArrayBuffers.CircularArrayBuffer{Float64, 3, Array{Float64, 3}}, CircularArrayBuffers.CircularArrayBuffer{Float64, 3, Array{Float64, 3}}, CircularArrayBuffers.CircularArrayBuffer{Float64, 2, Matrix{Float64}}, CircularArrayBuffers.CircularArrayBuffer{Bool, 2, Matrix{Bool}}}}}}, env::MultiThreadEnv{VtolEnv{Space{Vector{ClosedInterval{Float64}}}, Float64, Vector{Float64}, StableRNGs.LehmerRNG}, Matrix{Float64}, Vector{Float64}, Space{Matrix{ClosedInterval{Float64}}}, Space{Matrix{ClosedInterval{Float64}}}, Nothing})\n",
      "    @ ReinforcementLearningCore ~/.julia/packages/ReinforcementLearningCore/yeRLW/src/core/hooks.jl:283\n",
      " [13] (::ComposedHook{Tuple{DoEveryNStep{typeof(saveModel)}, DoEveryNStep{typeof(validate_policy)}}})(::PostActStage, ::Agent{PPOPolicy{ActorCritic{GaussianNetwork{Chain{Tuple{Dense{typeof(tanh), Matrix{Float32}, Vector{Float32}}, Dense{typeof(tanh), Matrix{Float32}, Vector{Float32}}}}, Chain{Tuple{Dense{typeof(identity), Matrix{Float32}, Vector{Float32}}}}, Chain{Tuple{Dense{typeof(identity), Matrix{Float32}, Vector{Float32}}}}, typeof(tanh)}, Chain{Tuple{Dense{typeof(tanh), Matrix{Float32}, Vector{Float32}}, Dense{typeof(tanh), Matrix{Float32}, Vector{Float32}}, Dense{typeof(identity), Matrix{Float32}, Vector{Float32}}}}, ADAM}, Normal, Random._GLOBAL_RNG}, Trajectory{NamedTuple{(:action_log_prob, :state, :action, :reward, :terminal), Tuple{CircularArrayBuffers.CircularArrayBuffer{Float64, 2, Matrix{Float64}}, CircularArrayBuffers.CircularArrayBuffer{Float64, 3, Array{Float64, 3}}, CircularArrayBuffers.CircularArrayBuffer{Float64, 3, Array{Float64, 3}}, CircularArrayBuffers.CircularArrayBuffer{Float64, 2, Matrix{Float64}}, CircularArrayBuffers.CircularArrayBuffer{Bool, 2, Matrix{Bool}}}}}}, ::Vararg{Any}; kw::Base.Pairs{Symbol, Union{}, Tuple{}, NamedTuple{(), Tuple{}}})\n",
      "    @ ReinforcementLearningCore ~/.julia/packages/ReinforcementLearningCore/yeRLW/src/core/hooks.jl:54\n",
      " [14] ComposedHook\n",
      "    @ ~/.julia/packages/ReinforcementLearningCore/yeRLW/src/core/hooks.jl:52 [inlined]\n",
      " [15] _run(policy::Agent{PPOPolicy{ActorCritic{GaussianNetwork{Chain{Tuple{Dense{typeof(tanh), Matrix{Float32}, Vector{Float32}}, Dense{typeof(tanh), Matrix{Float32}, Vector{Float32}}}}, Chain{Tuple{Dense{typeof(identity), Matrix{Float32}, Vector{Float32}}}}, Chain{Tuple{Dense{typeof(identity), Matrix{Float32}, Vector{Float32}}}}, typeof(tanh)}, Chain{Tuple{Dense{typeof(tanh), Matrix{Float32}, Vector{Float32}}, Dense{typeof(tanh), Matrix{Float32}, Vector{Float32}}, Dense{typeof(identity), Matrix{Float32}, Vector{Float32}}}}, ADAM}, Normal, Random._GLOBAL_RNG}, Trajectory{NamedTuple{(:action_log_prob, :state, :action, :reward, :terminal), Tuple{CircularArrayBuffers.CircularArrayBuffer{Float64, 2, Matrix{Float64}}, CircularArrayBuffers.CircularArrayBuffer{Float64, 3, Array{Float64, 3}}, CircularArrayBuffers.CircularArrayBuffer{Float64, 3, Array{Float64, 3}}, CircularArrayBuffers.CircularArrayBuffer{Float64, 2, Matrix{Float64}}, CircularArrayBuffers.CircularArrayBuffer{Bool, 2, Matrix{Bool}}}}}}, env::MultiThreadEnv{VtolEnv{Space{Vector{ClosedInterval{Float64}}}, Float64, Vector{Float64}, StableRNGs.LehmerRNG}, Matrix{Float64}, Vector{Float64}, Space{Matrix{ClosedInterval{Float64}}}, Space{Matrix{ClosedInterval{Float64}}}, Nothing}, stop_condition::StopAfterStep{ProgressMeter.Progress}, hook::ComposedHook{Tuple{DoEveryNStep{typeof(saveModel)}, DoEveryNStep{typeof(validate_policy)}}})\n",
      "    @ ReinforcementLearningZoo ~/.julia/packages/ReinforcementLearningZoo/tvfq9/src/algorithms/policy_gradient/run.jl:23\n",
      " [16] run(policy::Agent{PPOPolicy{ActorCritic{GaussianNetwork{Chain{Tuple{Dense{typeof(tanh), Matrix{Float32}, Vector{Float32}}, Dense{typeof(tanh), Matrix{Float32}, Vector{Float32}}}}, Chain{Tuple{Dense{typeof(identity), Matrix{Float32}, Vector{Float32}}}}, Chain{Tuple{Dense{typeof(identity), Matrix{Float32}, Vector{Float32}}}}, typeof(tanh)}, Chain{Tuple{Dense{typeof(tanh), Matrix{Float32}, Vector{Float32}}, Dense{typeof(tanh), Matrix{Float32}, Vector{Float32}}, Dense{typeof(identity), Matrix{Float32}, Vector{Float32}}}}, ADAM}, Normal, Random._GLOBAL_RNG}, Trajectory{NamedTuple{(:action_log_prob, :state, :action, :reward, :terminal), Tuple{CircularArrayBuffers.CircularArrayBuffer{Float64, 2, Matrix{Float64}}, CircularArrayBuffers.CircularArrayBuffer{Float64, 3, Array{Float64, 3}}, CircularArrayBuffers.CircularArrayBuffer{Float64, 3, Array{Float64, 3}}, CircularArrayBuffers.CircularArrayBuffer{Float64, 2, Matrix{Float64}}, CircularArrayBuffers.CircularArrayBuffer{Bool, 2, Matrix{Bool}}}}}}, env::MultiThreadEnv{VtolEnv{Space{Vector{ClosedInterval{Float64}}}, Float64, Vector{Float64}, StableRNGs.LehmerRNG}, Matrix{Float64}, Vector{Float64}, Space{Matrix{ClosedInterval{Float64}}}, Space{Matrix{ClosedInterval{Float64}}}, Nothing}, stop_condition::StopAfterStep{ProgressMeter.Progress}, hook::ComposedHook{Tuple{DoEveryNStep{typeof(saveModel)}, DoEveryNStep{typeof(validate_policy)}}})\n",
      "    @ ReinforcementLearningCore ~/.julia/packages/ReinforcementLearningCore/yeRLW/src/core/run.jl:10\n",
      " [17] eval\n",
      "    @ ./boot.jl:368 [inlined]\n",
      " [18] include_string(mapexpr::typeof(REPL.softscope), mod::Module, code::String, filename::String)\n",
      "    @ Base ./loading.jl:1428\n",
      " [19] #invokelatest#2\n",
      "    @ ./essentials.jl:729 [inlined]\n",
      " [20] invokelatest\n",
      "    @ ./essentials.jl:726 [inlined]\n",
      " [21] (::VSCodeServer.var\"#198#199\"{VSCodeServer.NotebookRunCellArguments, String})()\n",
      "    @ VSCodeServer ~/.vscode/extensions/julialang.language-julia-1.38.2/scripts/packages/VSCodeServer/src/serve_notebook.jl:19\n",
      " [22] withpath(f::VSCodeServer.var\"#198#199\"{VSCodeServer.NotebookRunCellArguments, String}, path::String)\n",
      "    @ VSCodeServer ~/.vscode/extensions/julialang.language-julia-1.38.2/scripts/packages/VSCodeServer/src/repl.jl:249\n",
      " [23] notebook_runcell_request(conn::VSCodeServer.JSONRPC.JSONRPCEndpoint{Base.PipeEndpoint, Base.PipeEndpoint}, params::VSCodeServer.NotebookRunCellArguments)\n",
      "    @ VSCodeServer ~/.vscode/extensions/julialang.language-julia-1.38.2/scripts/packages/VSCodeServer/src/serve_notebook.jl:13\n",
      " [24] dispatch_msg(x::VSCodeServer.JSONRPC.JSONRPCEndpoint{Base.PipeEndpoint, Base.PipeEndpoint}, dispatcher::VSCodeServer.JSONRPC.MsgDispatcher, msg::Dict{String, Any})\n",
      "    @ VSCodeServer.JSONRPC ~/.vscode/extensions/julialang.language-julia-1.38.2/scripts/packages/JSONRPC/src/typed.jl:67\n",
      " [25] serve_notebook(pipename::String, outputchannel_logger::Base.CoreLogging.SimpleLogger; crashreporting_pipename::String)\n",
      "    @ VSCodeServer ~/.vscode/extensions/julialang.language-julia-1.38.2/scripts/packages/VSCodeServer/src/serve_notebook.jl:139\n",
      " [26] top-level scope\n",
      "    @ ~/.vscode/extensions/julialang.language-julia-1.38.2/scripts/notebook/notebook.jl:32"
     ]
    }
   ],
   "source": [
    "ReinforcementLearning.run(\n",
    "    agent,\n",
    "    env,\n",
    "    StopAfterStep(2_500_000),\n",
    "    ComposedHook(\n",
    "        DoEveryNStep(saveModel, n=100_000), \n",
    "        DoEveryNStep(validate_policy, n=10_000)),\n",
    ")"
   ]
  },
  {
   "cell_type": "code",
   "execution_count": 25,
   "id": "49a302a6",
   "metadata": {},
   "outputs": [
    {
     "data": {
      "image/png": "[encoded data removed]",
      "image/svg+xml": "<?xml version=\"1.0\" encoding=\"utf-8\"?>\n<svg xmlns=\"http://www.w3.org/2000/svg\" xmlns:xlink=\"http://www.w3.org/1999/xlink\" width=\"600\" height=\"400\" viewBox=\"0 0 2400 1600\">\n<defs>\n  <clipPath id=\"clip650\">\n    <rect x=\"0\" y=\"0\" width=\"2400\" height=\"1600\"/>\n  </clipPath>\n</defs>\n<path clip-path=\"url(#clip650)\" d=\"\nM0 1600 L2400 1600 L2400 0 L0 0  Z\n  \" fill=\"#ffffff\" fill-rule=\"evenodd\" fill-opacity=\"1\"/>\n<defs>\n  <clipPath id=\"clip651\">\n    <rect x=\"480\" y=\"0\" width=\"1681\" height=\"1600\"/>\n  </clipPath>\n</defs>\n<path clip-path=\"url(#clip650)\" d=\"\nM170.857 1486.45 L2352.76 1486.45 L2352.76 47.2441 L170.857 47.2441  Z\n  \" fill=\"#ffffff\" fill-rule=\"evenodd\" fill-opacity=\"1\"/>\n<defs>\n  <clipPath id=\"clip652\">\n    <rect x=\"170\" y=\"47\" width=\"2183\" height=\"1440\"/>\n  </clipPath>\n</defs>\n<polyline clip-path=\"url(#clip652)\" style=\"stroke:#000000; stroke-linecap:butt; stroke-linejoin:round; stroke-width:2; stroke-opacity:0.1; fill:none\" points=\"\n  644.288,1486.45 644.288,47.2441 \n  \"/>\n<polyline clip-path=\"url(#clip652)\" style=\"stroke:#000000; stroke-linecap:butt; stroke-linejoin:round; stroke-width:2; stroke-opacity:0.1; fill:none\" points=\"\n  1158.89,1486.45 1158.89,47.2441 \n  \"/>\n<polyline clip-path=\"url(#clip652)\" style=\"stroke:#000000; stroke-linecap:butt; stroke-linejoin:round; stroke-width:2; stroke-opacity:0.1; fill:none\" points=\"\n  1673.49,1486.45 1673.49,47.2441 \n  \"/>\n<polyline clip-path=\"url(#clip652)\" style=\"stroke:#000000; stroke-linecap:butt; stroke-linejoin:round; stroke-width:2; stroke-opacity:0.1; fill:none\" points=\"\n  2188.08,1486.45 2188.08,47.2441 \n  \"/>\n<polyline clip-path=\"url(#clip650)\" style=\"stroke:#000000; stroke-linecap:butt; stroke-linejoin:round; stroke-width:4; stroke-opacity:1; fill:none\" points=\"\n  170.857,1486.45 2352.76,1486.45 \n  \"/>\n<polyline clip-path=\"url(#clip650)\" style=\"stroke:#000000; stroke-linecap:butt; stroke-linejoin:round; stroke-width:4; stroke-opacity:1; fill:none\" points=\"\n  644.288,1486.45 644.288,1467.55 \n  \"/>\n<polyline clip-path=\"url(#clip650)\" style=\"stroke:#000000; stroke-linecap:butt; stroke-linejoin:round; stroke-width:4; stroke-opacity:1; fill:none\" points=\"\n  1158.89,1486.45 1158.89,1467.55 \n  \"/>\n<polyline clip-path=\"url(#clip650)\" style=\"stroke:#000000; stroke-linecap:butt; stroke-linejoin:round; stroke-width:4; stroke-opacity:1; fill:none\" points=\"\n  1673.49,1486.45 1673.49,1467.55 \n  \"/>\n<polyline clip-path=\"url(#clip650)\" style=\"stroke:#000000; stroke-linecap:butt; stroke-linejoin:round; stroke-width:4; stroke-opacity:1; fill:none\" points=\"\n  2188.08,1486.45 2188.08,1467.55 \n  \"/>\n<path clip-path=\"url(#clip650)\" d=\"M634.566 1514.29 L652.922 1514.29 L652.922 1518.22 L638.848 1518.22 L638.848 1526.7 Q639.867 1526.35 640.885 1526.19 Q641.904 1526 642.922 1526 Q648.709 1526 652.089 1529.17 Q655.469 1532.34 655.469 1537.76 Q655.469 1543.34 651.997 1546.44 Q648.524 1549.52 642.205 1549.52 Q640.029 1549.52 637.76 1549.15 Q635.515 1548.78 633.108 1548.04 L633.108 1543.34 Q635.191 1544.47 637.413 1545.03 Q639.635 1545.58 642.112 1545.58 Q646.117 1545.58 648.455 1543.48 Q650.793 1541.37 650.793 1537.76 Q650.793 1534.15 648.455 1532.04 Q646.117 1529.94 642.112 1529.94 Q640.237 1529.94 638.362 1530.35 Q636.51 1530.77 634.566 1531.65 L634.566 1514.29 Z\" fill=\"#000000\" fill-rule=\"evenodd\" fill-opacity=\"1\" /><path clip-path=\"url(#clip650)\" d=\"M1133.57 1544.91 L1141.21 1544.91 L1141.21 1518.55 L1132.9 1520.21 L1132.9 1515.95 L1141.17 1514.29 L1145.84 1514.29 L1145.84 1544.91 L1153.48 1544.91 L1153.48 1548.85 L1133.57 1548.85 L1133.57 1544.91 Z\" fill=\"#000000\" fill-rule=\"evenodd\" fill-opacity=\"1\" /><path clip-path=\"url(#clip650)\" d=\"M1172.93 1517.37 Q1169.32 1517.37 1167.49 1520.93 Q1165.68 1524.47 1165.68 1531.6 Q1165.68 1538.71 1167.49 1542.27 Q1169.32 1545.82 1172.93 1545.82 Q1176.56 1545.82 1178.37 1542.27 Q1180.19 1538.71 1180.19 1531.6 Q1180.19 1524.47 1178.37 1520.93 Q1176.56 1517.37 1172.93 1517.37 M1172.93 1513.66 Q1178.74 1513.66 1181.79 1518.27 Q1184.87 1522.85 1184.87 1531.6 Q1184.87 1540.33 1181.79 1544.94 Q1178.74 1549.52 1172.93 1549.52 Q1167.12 1549.52 1164.04 1544.94 Q1160.98 1540.33 1160.98 1531.6 Q1160.98 1522.85 1164.04 1518.27 Q1167.12 1513.66 1172.93 1513.66 Z\" fill=\"#000000\" fill-rule=\"evenodd\" fill-opacity=\"1\" /><path clip-path=\"url(#clip650)\" d=\"M1648.67 1544.91 L1656.31 1544.91 L1656.31 1518.55 L1648 1520.21 L1648 1515.95 L1656.26 1514.29 L1660.94 1514.29 L1660.94 1544.91 L1668.58 1544.91 L1668.58 1548.85 L1648.67 1548.85 L1648.67 1544.91 Z\" fill=\"#000000\" fill-rule=\"evenodd\" fill-opacity=\"1\" /><path clip-path=\"url(#clip650)\" d=\"M1678.07 1514.29 L1696.43 1514.29 L1696.43 1518.22 L1682.35 1518.22 L1682.35 1526.7 Q1683.37 1526.35 1684.39 1526.19 Q1685.41 1526 1686.43 1526 Q1692.21 1526 1695.59 1529.17 Q1698.97 1532.34 1698.97 1537.76 Q1698.97 1543.34 1695.5 1546.44 Q1692.03 1549.52 1685.71 1549.52 Q1683.53 1549.52 1681.26 1549.15 Q1679.02 1548.78 1676.61 1548.04 L1676.61 1543.34 Q1678.69 1544.47 1680.92 1545.03 Q1683.14 1545.58 1685.62 1545.58 Q1689.62 1545.58 1691.96 1543.48 Q1694.3 1541.37 1694.3 1537.76 Q1694.3 1534.15 1691.96 1532.04 Q1689.62 1529.94 1685.62 1529.94 Q1683.74 1529.94 1681.87 1530.35 Q1680.01 1530.77 1678.07 1531.65 L1678.07 1514.29 Z\" fill=\"#000000\" fill-rule=\"evenodd\" fill-opacity=\"1\" /><path clip-path=\"url(#clip650)\" d=\"M2166.86 1544.91 L2183.18 1544.91 L2183.18 1548.85 L2161.23 1548.85 L2161.23 1544.91 Q2163.89 1542.16 2168.48 1537.53 Q2173.08 1532.88 2174.26 1531.53 Q2176.51 1529.01 2177.39 1527.27 Q2178.29 1525.51 2178.29 1523.82 Q2178.29 1521.07 2176.35 1519.33 Q2174.43 1517.6 2171.33 1517.6 Q2169.13 1517.6 2166.67 1518.36 Q2164.24 1519.13 2161.46 1520.68 L2161.46 1515.95 Q2164.29 1514.82 2166.74 1514.24 Q2169.2 1513.66 2171.23 1513.66 Q2176.6 1513.66 2179.8 1516.35 Q2182.99 1519.03 2182.99 1523.52 Q2182.99 1525.65 2182.18 1527.57 Q2181.39 1529.47 2179.29 1532.07 Q2178.71 1532.74 2175.61 1535.95 Q2172.51 1539.15 2166.86 1544.91 Z\" fill=\"#000000\" fill-rule=\"evenodd\" fill-opacity=\"1\" /><path clip-path=\"url(#clip650)\" d=\"M2202.99 1517.37 Q2199.38 1517.37 2197.55 1520.93 Q2195.75 1524.47 2195.75 1531.6 Q2195.75 1538.71 2197.55 1542.27 Q2199.38 1545.82 2202.99 1545.82 Q2206.63 1545.82 2208.43 1542.27 Q2210.26 1538.71 2210.26 1531.6 Q2210.26 1524.47 2208.43 1520.93 Q2206.63 1517.37 2202.99 1517.37 M2202.99 1513.66 Q2208.8 1513.66 2211.86 1518.27 Q2214.94 1522.85 2214.94 1531.6 Q2214.94 1540.33 2211.86 1544.94 Q2208.8 1549.52 2202.99 1549.52 Q2197.18 1549.52 2194.1 1544.94 Q2191.05 1540.33 2191.05 1531.6 Q2191.05 1522.85 2194.1 1518.27 Q2197.18 1513.66 2202.99 1513.66 Z\" fill=\"#000000\" fill-rule=\"evenodd\" fill-opacity=\"1\" /><polyline clip-path=\"url(#clip652)\" style=\"stroke:#000000; stroke-linecap:butt; stroke-linejoin:round; stroke-width:2; stroke-opacity:0.1; fill:none\" points=\"\n  170.857,1358.65 2352.76,1358.65 \n  \"/>\n<polyline clip-path=\"url(#clip652)\" style=\"stroke:#000000; stroke-linecap:butt; stroke-linejoin:round; stroke-width:2; stroke-opacity:0.1; fill:none\" points=\"\n  170.857,1053.55 2352.76,1053.55 \n  \"/>\n<polyline clip-path=\"url(#clip652)\" style=\"stroke:#000000; stroke-linecap:butt; stroke-linejoin:round; stroke-width:2; stroke-opacity:0.1; fill:none\" points=\"\n  170.857,748.452 2352.76,748.452 \n  \"/>\n<polyline clip-path=\"url(#clip652)\" style=\"stroke:#000000; stroke-linecap:butt; stroke-linejoin:round; stroke-width:2; stroke-opacity:0.1; fill:none\" points=\"\n  170.857,443.351 2352.76,443.351 \n  \"/>\n<polyline clip-path=\"url(#clip652)\" style=\"stroke:#000000; stroke-linecap:butt; stroke-linejoin:round; stroke-width:2; stroke-opacity:0.1; fill:none\" points=\"\n  170.857,138.251 2352.76,138.251 \n  \"/>\n<polyline clip-path=\"url(#clip650)\" style=\"stroke:#000000; stroke-linecap:butt; stroke-linejoin:round; stroke-width:4; stroke-opacity:1; fill:none\" points=\"\n  170.857,1486.45 170.857,47.2441 \n  \"/>\n<polyline clip-path=\"url(#clip650)\" style=\"stroke:#000000; stroke-linecap:butt; stroke-linejoin:round; stroke-width:4; stroke-opacity:1; fill:none\" points=\"\n  170.857,1358.65 189.755,1358.65 \n  \"/>\n<polyline clip-path=\"url(#clip650)\" style=\"stroke:#000000; stroke-linecap:butt; stroke-linejoin:round; stroke-width:4; stroke-opacity:1; fill:none\" points=\"\n  170.857,1053.55 189.755,1053.55 \n  \"/>\n<polyline clip-path=\"url(#clip650)\" style=\"stroke:#000000; stroke-linecap:butt; stroke-linejoin:round; stroke-width:4; stroke-opacity:1; fill:none\" points=\"\n  170.857,748.452 189.755,748.452 \n  \"/>\n<polyline clip-path=\"url(#clip650)\" style=\"stroke:#000000; stroke-linecap:butt; stroke-linejoin:round; stroke-width:4; stroke-opacity:1; fill:none\" points=\"\n  170.857,443.351 189.755,443.351 \n  \"/>\n<polyline clip-path=\"url(#clip650)\" style=\"stroke:#000000; stroke-linecap:butt; stroke-linejoin:round; stroke-width:4; stroke-opacity:1; fill:none\" points=\"\n  170.857,138.251 189.755,138.251 \n  \"/>\n<path clip-path=\"url(#clip650)\" d=\"M53.3995 1372 L61.0384 1372 L61.0384 1345.63 L52.7282 1347.3 L52.7282 1343.04 L60.9921 1341.37 L65.668 1341.37 L65.668 1372 L73.3068 1372 L73.3068 1375.93 L53.3995 1375.93 L53.3995 1372 Z\" fill=\"#000000\" fill-rule=\"evenodd\" fill-opacity=\"1\" /><path clip-path=\"url(#clip650)\" d=\"M82.7975 1341.37 L101.154 1341.37 L101.154 1345.31 L87.0799 1345.31 L87.0799 1353.78 Q88.0984 1353.43 89.1169 1353.27 Q90.1354 1353.09 91.1539 1353.09 Q96.941 1353.09 100.321 1356.26 Q103.7 1359.43 103.7 1364.84 Q103.7 1370.42 100.228 1373.52 Q96.7558 1376.6 90.4364 1376.6 Q88.2604 1376.6 85.9919 1376.23 Q83.7466 1375.86 81.3392 1375.12 L81.3392 1370.42 Q83.4225 1371.56 85.6447 1372.11 Q87.8669 1372.67 90.3438 1372.67 Q94.3484 1372.67 96.6863 1370.56 Q99.0243 1368.46 99.0243 1364.84 Q99.0243 1361.23 96.6863 1359.13 Q94.3484 1357.02 90.3438 1357.02 Q88.4688 1357.02 86.5938 1357.44 Q84.7419 1357.85 82.7975 1358.73 L82.7975 1341.37 Z\" fill=\"#000000\" fill-rule=\"evenodd\" fill-opacity=\"1\" /><path clip-path=\"url(#clip650)\" d=\"M122.913 1344.45 Q119.302 1344.45 117.473 1348.02 Q115.668 1351.56 115.668 1358.69 Q115.668 1365.79 117.473 1369.36 Q119.302 1372.9 122.913 1372.9 Q126.547 1372.9 128.353 1369.36 Q130.182 1365.79 130.182 1358.69 Q130.182 1351.56 128.353 1348.02 Q126.547 1344.45 122.913 1344.45 M122.913 1340.75 Q128.723 1340.75 131.779 1345.35 Q134.857 1349.94 134.857 1358.69 Q134.857 1367.41 131.779 1372.02 Q128.723 1376.6 122.913 1376.6 Q117.103 1376.6 114.024 1372.02 Q110.969 1367.41 110.969 1358.69 Q110.969 1349.94 114.024 1345.35 Q117.103 1340.75 122.913 1340.75 Z\" fill=\"#000000\" fill-rule=\"evenodd\" fill-opacity=\"1\" /><path clip-path=\"url(#clip650)\" d=\"M56.6171 1066.9 L72.9365 1066.9 L72.9365 1070.83 L50.9921 1070.83 L50.9921 1066.9 Q53.6541 1064.14 58.2375 1059.51 Q62.8439 1054.86 64.0245 1053.52 Q66.2698 1050.99 67.1494 1049.26 Q68.0522 1047.5 68.0522 1045.81 Q68.0522 1043.05 66.1078 1041.32 Q64.1865 1039.58 61.0847 1039.58 Q58.8856 1039.58 56.4319 1040.35 Q54.0014 1041.11 51.2236 1042.66 L51.2236 1037.94 Q54.0477 1036.8 56.5014 1036.23 Q58.955 1035.65 60.9921 1035.65 Q66.3624 1035.65 69.5568 1038.33 Q72.7513 1041.02 72.7513 1045.51 Q72.7513 1047.64 71.9411 1049.56 Q71.1541 1051.46 69.0476 1054.05 Q68.4689 1054.72 65.367 1057.94 Q62.2652 1061.13 56.6171 1066.9 Z\" fill=\"#000000\" fill-rule=\"evenodd\" fill-opacity=\"1\" /><path clip-path=\"url(#clip650)\" d=\"M92.7512 1039.35 Q89.1401 1039.35 87.3114 1042.92 Q85.5058 1046.46 85.5058 1053.59 Q85.5058 1060.69 87.3114 1064.26 Q89.1401 1067.8 92.7512 1067.8 Q96.3854 1067.8 98.1909 1064.26 Q100.02 1060.69 100.02 1053.59 Q100.02 1046.46 98.1909 1042.92 Q96.3854 1039.35 92.7512 1039.35 M92.7512 1035.65 Q98.5613 1035.65 101.617 1040.25 Q104.696 1044.84 104.696 1053.59 Q104.696 1062.31 101.617 1066.92 Q98.5613 1071.5 92.7512 1071.5 Q86.941 1071.5 83.8623 1066.92 Q80.8068 1062.31 80.8068 1053.59 Q80.8068 1044.84 83.8623 1040.25 Q86.941 1035.65 92.7512 1035.65 Z\" fill=\"#000000\" fill-rule=\"evenodd\" fill-opacity=\"1\" /><path clip-path=\"url(#clip650)\" d=\"M122.913 1039.35 Q119.302 1039.35 117.473 1042.92 Q115.668 1046.46 115.668 1053.59 Q115.668 1060.69 117.473 1064.26 Q119.302 1067.8 122.913 1067.8 Q126.547 1067.8 128.353 1064.26 Q130.182 1060.69 130.182 1053.59 Q130.182 1046.46 128.353 1042.92 Q126.547 1039.35 122.913 1039.35 M122.913 1035.65 Q128.723 1035.65 131.779 1040.25 Q134.857 1044.84 134.857 1053.59 Q134.857 1062.31 131.779 1066.92 Q128.723 1071.5 122.913 1071.5 Q117.103 1071.5 114.024 1066.92 Q110.969 1062.31 110.969 1053.59 Q110.969 1044.84 114.024 1040.25 Q117.103 1035.65 122.913 1035.65 Z\" fill=\"#000000\" fill-rule=\"evenodd\" fill-opacity=\"1\" /><path clip-path=\"url(#clip650)\" d=\"M56.6171 761.797 L72.9365 761.797 L72.9365 765.732 L50.9921 765.732 L50.9921 761.797 Q53.6541 759.042 58.2375 754.412 Q62.8439 749.76 64.0245 748.417 Q66.2698 745.894 67.1494 744.158 Q68.0522 742.399 68.0522 740.709 Q68.0522 737.954 66.1078 736.218 Q64.1865 734.482 61.0847 734.482 Q58.8856 734.482 56.4319 735.246 Q54.0014 736.01 51.2236 737.561 L51.2236 732.838 Q54.0477 731.704 56.5014 731.125 Q58.955 730.547 60.9921 730.547 Q66.3624 730.547 69.5568 733.232 Q72.7513 735.917 72.7513 740.408 Q72.7513 742.537 71.9411 744.459 Q71.1541 746.357 69.0476 748.949 Q68.4689 749.621 65.367 752.838 Q62.2652 756.033 56.6171 761.797 Z\" fill=\"#000000\" fill-rule=\"evenodd\" fill-opacity=\"1\" /><path clip-path=\"url(#clip650)\" d=\"M82.7975 731.172 L101.154 731.172 L101.154 735.107 L87.0799 735.107 L87.0799 743.579 Q88.0984 743.232 89.1169 743.07 Q90.1354 742.885 91.1539 742.885 Q96.941 742.885 100.321 746.056 Q103.7 749.227 103.7 754.644 Q103.7 760.222 100.228 763.324 Q96.7558 766.403 90.4364 766.403 Q88.2604 766.403 85.9919 766.033 Q83.7466 765.662 81.3392 764.922 L81.3392 760.222 Q83.4225 761.357 85.6447 761.912 Q87.8669 762.468 90.3438 762.468 Q94.3484 762.468 96.6863 760.361 Q99.0243 758.255 99.0243 754.644 Q99.0243 751.033 96.6863 748.926 Q94.3484 746.82 90.3438 746.82 Q88.4688 746.82 86.5938 747.236 Q84.7419 747.653 82.7975 748.533 L82.7975 731.172 Z\" fill=\"#000000\" fill-rule=\"evenodd\" fill-opacity=\"1\" /><path clip-path=\"url(#clip650)\" d=\"M122.913 734.25 Q119.302 734.25 117.473 737.815 Q115.668 741.357 115.668 748.486 Q115.668 755.593 117.473 759.158 Q119.302 762.699 122.913 762.699 Q126.547 762.699 128.353 759.158 Q130.182 755.593 130.182 748.486 Q130.182 741.357 128.353 737.815 Q126.547 734.25 122.913 734.25 M122.913 730.547 Q128.723 730.547 131.779 735.153 Q134.857 739.736 134.857 748.486 Q134.857 757.213 131.779 761.82 Q128.723 766.403 122.913 766.403 Q117.103 766.403 114.024 761.82 Q110.969 757.213 110.969 748.486 Q110.969 739.736 114.024 735.153 Q117.103 730.547 122.913 730.547 Z\" fill=\"#000000\" fill-rule=\"evenodd\" fill-opacity=\"1\" /><path clip-path=\"url(#clip650)\" d=\"M66.7559 441.997 Q70.1124 442.715 71.9874 444.983 Q73.8855 447.252 73.8855 450.585 Q73.8855 455.701 70.367 458.502 Q66.8485 461.303 60.3671 461.303 Q58.1912 461.303 55.8764 460.863 Q53.5847 460.446 51.131 459.59 L51.131 455.076 Q53.0754 456.21 55.3903 456.789 Q57.7051 457.368 60.2282 457.368 Q64.6263 457.368 66.918 455.631 Q69.2328 453.895 69.2328 450.585 Q69.2328 447.53 67.08 445.817 Q64.9504 444.081 61.131 444.081 L57.1032 444.081 L57.1032 440.238 L61.3161 440.238 Q64.7652 440.238 66.5939 438.872 Q68.4226 437.483 68.4226 434.891 Q68.4226 432.229 66.5245 430.817 Q64.6495 429.382 61.131 429.382 Q59.2097 429.382 57.0106 429.798 Q54.8115 430.215 52.1727 431.095 L52.1727 426.928 Q54.8347 426.187 57.1495 425.817 Q59.4875 425.446 61.5476 425.446 Q66.8717 425.446 69.9735 427.877 Q73.0753 430.284 73.0753 434.405 Q73.0753 437.275 71.4318 439.266 Q69.7883 441.233 66.7559 441.997 Z\" fill=\"#000000\" fill-rule=\"evenodd\" fill-opacity=\"1\" /><path clip-path=\"url(#clip650)\" d=\"M92.7512 429.15 Q89.1401 429.15 87.3114 432.715 Q85.5058 436.257 85.5058 443.386 Q85.5058 450.493 87.3114 454.057 Q89.1401 457.599 92.7512 457.599 Q96.3854 457.599 98.1909 454.057 Q100.02 450.493 100.02 443.386 Q100.02 436.257 98.1909 432.715 Q96.3854 429.15 92.7512 429.15 M92.7512 425.446 Q98.5613 425.446 101.617 430.053 Q104.696 434.636 104.696 443.386 Q104.696 452.113 101.617 456.719 Q98.5613 461.303 92.7512 461.303 Q86.941 461.303 83.8623 456.719 Q80.8068 452.113 80.8068 443.386 Q80.8068 434.636 83.8623 430.053 Q86.941 425.446 92.7512 425.446 Z\" fill=\"#000000\" fill-rule=\"evenodd\" fill-opacity=\"1\" /><path clip-path=\"url(#clip650)\" d=\"M122.913 429.15 Q119.302 429.15 117.473 432.715 Q115.668 436.257 115.668 443.386 Q115.668 450.493 117.473 454.057 Q119.302 457.599 122.913 457.599 Q126.547 457.599 128.353 454.057 Q130.182 450.493 130.182 443.386 Q130.182 436.257 128.353 432.715 Q126.547 429.15 122.913 429.15 M122.913 425.446 Q128.723 425.446 131.779 430.053 Q134.857 434.636 134.857 443.386 Q134.857 452.113 131.779 456.719 Q128.723 461.303 122.913 461.303 Q117.103 461.303 114.024 456.719 Q110.969 452.113 110.969 443.386 Q110.969 434.636 114.024 430.053 Q117.103 425.446 122.913 425.446 Z\" fill=\"#000000\" fill-rule=\"evenodd\" fill-opacity=\"1\" /><path clip-path=\"url(#clip650)\" d=\"M66.7559 136.897 Q70.1124 137.614 71.9874 139.883 Q73.8855 142.151 73.8855 145.485 Q73.8855 150.601 70.367 153.401 Q66.8485 156.202 60.3671 156.202 Q58.1912 156.202 55.8764 155.763 Q53.5847 155.346 51.131 154.489 L51.131 149.976 Q53.0754 151.11 55.3903 151.688 Q57.7051 152.267 60.2282 152.267 Q64.6263 152.267 66.918 150.531 Q69.2328 148.795 69.2328 145.485 Q69.2328 142.429 67.08 140.716 Q64.9504 138.98 61.131 138.98 L57.1032 138.98 L57.1032 135.138 L61.3161 135.138 Q64.7652 135.138 66.5939 133.772 Q68.4226 132.383 68.4226 129.79 Q68.4226 127.128 66.5245 125.716 Q64.6495 124.281 61.131 124.281 Q59.2097 124.281 57.0106 124.698 Q54.8115 125.115 52.1727 125.994 L52.1727 121.828 Q54.8347 121.087 57.1495 120.716 Q59.4875 120.346 61.5476 120.346 Q66.8717 120.346 69.9735 122.777 Q73.0753 125.184 73.0753 129.304 Q73.0753 132.175 71.4318 134.165 Q69.7883 136.133 66.7559 136.897 Z\" fill=\"#000000\" fill-rule=\"evenodd\" fill-opacity=\"1\" /><path clip-path=\"url(#clip650)\" d=\"M82.7975 120.971 L101.154 120.971 L101.154 124.906 L87.0799 124.906 L87.0799 133.378 Q88.0984 133.031 89.1169 132.869 Q90.1354 132.684 91.1539 132.684 Q96.941 132.684 100.321 135.855 Q103.7 139.027 103.7 144.443 Q103.7 150.022 100.228 153.124 Q96.7558 156.202 90.4364 156.202 Q88.2604 156.202 85.9919 155.832 Q83.7466 155.462 81.3392 154.721 L81.3392 150.022 Q83.4225 151.156 85.6447 151.712 Q87.8669 152.267 90.3438 152.267 Q94.3484 152.267 96.6863 150.161 Q99.0243 148.054 99.0243 144.443 Q99.0243 140.832 96.6863 138.726 Q94.3484 136.619 90.3438 136.619 Q88.4688 136.619 86.5938 137.036 Q84.7419 137.452 82.7975 138.332 L82.7975 120.971 Z\" fill=\"#000000\" fill-rule=\"evenodd\" fill-opacity=\"1\" /><path clip-path=\"url(#clip650)\" d=\"M122.913 124.05 Q119.302 124.05 117.473 127.615 Q115.668 131.156 115.668 138.286 Q115.668 145.392 117.473 148.957 Q119.302 152.499 122.913 152.499 Q126.547 152.499 128.353 148.957 Q130.182 145.392 130.182 138.286 Q130.182 131.156 128.353 127.615 Q126.547 124.05 122.913 124.05 M122.913 120.346 Q128.723 120.346 131.779 124.953 Q134.857 129.536 134.857 138.286 Q134.857 147.013 131.779 151.619 Q128.723 156.202 122.913 156.202 Q117.103 156.202 114.024 151.619 Q110.969 147.013 110.969 138.286 Q110.969 129.536 114.024 124.953 Q117.103 120.346 122.913 120.346 Z\" fill=\"#000000\" fill-rule=\"evenodd\" fill-opacity=\"1\" /><polyline clip-path=\"url(#clip652)\" style=\"stroke:#009af9; stroke-linecap:butt; stroke-linejoin:round; stroke-width:4; stroke-opacity:1; fill:none\" points=\"\n  232.609,1405.07 335.529,1087.07 438.449,1222.61 541.368,1281.15 644.288,968.177 747.208,1055.04 850.128,1139.58 953.047,1311.25 1055.97,1264.02 1158.89,87.9763 \n  1261.81,1151.47 1364.73,1445.72 1467.65,118.183 1570.57,223.702 1673.49,337.529 1776.41,120.743 1879.33,981.841 1982.24,330.7 2085.16,203.207 2188.08,1147.59 \n  2291,293.937 \n  \"/>\n<path clip-path=\"url(#clip650)\" d=\"\nM1985.16 198.898 L2280.03 198.898 L2280.03 95.2176 L1985.16 95.2176  Z\n  \" fill=\"#ffffff\" fill-rule=\"evenodd\" fill-opacity=\"1\"/>\n<polyline clip-path=\"url(#clip650)\" style=\"stroke:#000000; stroke-linecap:butt; stroke-linejoin:round; stroke-width:4; stroke-opacity:1; fill:none\" points=\"\n  1985.16,198.898 2280.03,198.898 2280.03,95.2176 1985.16,95.2176 1985.16,198.898 \n  \"/>\n<polyline clip-path=\"url(#clip650)\" style=\"stroke:#009af9; stroke-linecap:butt; stroke-linejoin:round; stroke-width:4; stroke-opacity:1; fill:none\" points=\"\n  2009.41,147.058 2154.87,147.058 \n  \"/>\n<path clip-path=\"url(#clip650)\" d=\"M2192.95 166.745 Q2191.15 171.375 2189.43 172.787 Q2187.72 174.199 2184.85 174.199 L2181.45 174.199 L2181.45 170.634 L2183.95 170.634 Q2185.71 170.634 2186.68 169.8 Q2187.65 168.967 2188.83 165.865 L2189.6 163.921 L2179.11 138.412 L2183.62 138.412 L2191.72 158.689 L2199.83 138.412 L2204.34 138.412 L2192.95 166.745 Z\" fill=\"#000000\" fill-rule=\"evenodd\" fill-opacity=\"1\" /><path clip-path=\"url(#clip650)\" d=\"M2211.63 160.402 L2219.27 160.402 L2219.27 134.037 L2210.96 135.703 L2210.96 131.444 L2219.22 129.778 L2223.9 129.778 L2223.9 160.402 L2231.54 160.402 L2231.54 164.338 L2211.63 164.338 L2211.63 160.402 Z\" fill=\"#000000\" fill-rule=\"evenodd\" fill-opacity=\"1\" /></svg>\n",
      "text/html": [
       "<?xml version=\"1.0\" encoding=\"utf-8\"?>\n",
       "<svg xmlns=\"http://www.w3.org/2000/svg\" xmlns:xlink=\"http://www.w3.org/1999/xlink\" width=\"600\" height=\"400\" viewBox=\"0 0 2400 1600\">\n",
       "<defs>\n",
       "  <clipPath id=\"clip700\">\n",
       "    <rect x=\"0\" y=\"0\" width=\"2400\" height=\"1600\"/>\n",
       "  </clipPath>\n",
       "</defs>\n",
       "<path clip-path=\"url(#clip700)\" d=\"\n",
       "M0 1600 L2400 1600 L2400 0 L0 0  Z\n",
       "  \" fill=\"#ffffff\" fill-rule=\"evenodd\" fill-opacity=\"1\"/>\n",
       "<defs>\n",
       "  <clipPath id=\"clip701\">\n",
       "    <rect x=\"480\" y=\"0\" width=\"1681\" height=\"1600\"/>\n",
       "  </clipPath>\n",
       "</defs>\n",
       "<path clip-path=\"url(#clip700)\" d=\"\n",
       "M170.857 1486.45 L2352.76 1486.45 L2352.76 47.2441 L170.857 47.2441  Z\n",
       "  \" fill=\"#ffffff\" fill-rule=\"evenodd\" fill-opacity=\"1\"/>\n",
       "<defs>\n",
       "  <clipPath id=\"clip702\">\n",
       "    <rect x=\"170\" y=\"47\" width=\"2183\" height=\"1440\"/>\n",
       "  </clipPath>\n",
       "</defs>\n",
       "<polyline clip-path=\"url(#clip702)\" style=\"stroke:#000000; stroke-linecap:butt; stroke-linejoin:round; stroke-width:2; stroke-opacity:0.1; fill:none\" points=\"\n",
       "  644.288,1486.45 644.288,47.2441 \n",
       "  \"/>\n",
       "<polyline clip-path=\"url(#clip702)\" style=\"stroke:#000000; stroke-linecap:butt; stroke-linejoin:round; stroke-width:2; stroke-opacity:0.1; fill:none\" points=\"\n",
       "  1158.89,1486.45 1158.89,47.2441 \n",
       "  \"/>\n",
       "<polyline clip-path=\"url(#clip702)\" style=\"stroke:#000000; stroke-linecap:butt; stroke-linejoin:round; stroke-width:2; stroke-opacity:0.1; fill:none\" points=\"\n",
       "  1673.49,1486.45 1673.49,47.2441 \n",
       "  \"/>\n",
       "<polyline clip-path=\"url(#clip702)\" style=\"stroke:#000000; stroke-linecap:butt; stroke-linejoin:round; stroke-width:2; stroke-opacity:0.1; fill:none\" points=\"\n",
       "  2188.08,1486.45 2188.08,47.2441 \n",
       "  \"/>\n",
       "<polyline clip-path=\"url(#clip700)\" style=\"stroke:#000000; stroke-linecap:butt; stroke-linejoin:round; stroke-width:4; stroke-opacity:1; fill:none\" points=\"\n",
       "  170.857,1486.45 2352.76,1486.45 \n",
       "  \"/>\n",
       "<polyline clip-path=\"url(#clip700)\" style=\"stroke:#000000; stroke-linecap:butt; stroke-linejoin:round; stroke-width:4; stroke-opacity:1; fill:none\" points=\"\n",
       "  644.288,1486.45 644.288,1467.55 \n",
       "  \"/>\n",
       "<polyline clip-path=\"url(#clip700)\" style=\"stroke:#000000; stroke-linecap:butt; stroke-linejoin:round; stroke-width:4; stroke-opacity:1; fill:none\" points=\"\n",
       "  1158.89,1486.45 1158.89,1467.55 \n",
       "  \"/>\n",
       "<polyline clip-path=\"url(#clip700)\" style=\"stroke:#000000; stroke-linecap:butt; stroke-linejoin:round; stroke-width:4; stroke-opacity:1; fill:none\" points=\"\n",
       "  1673.49,1486.45 1673.49,1467.55 \n",
       "  \"/>\n",
       "<polyline clip-path=\"url(#clip700)\" style=\"stroke:#000000; stroke-linecap:butt; stroke-linejoin:round; stroke-width:4; stroke-opacity:1; fill:none\" points=\"\n",
       "  2188.08,1486.45 2188.08,1467.55 \n",
       "  \"/>\n",
       "<path clip-path=\"url(#clip700)\" d=\"M634.566 1514.29 L652.922 1514.29 L652.922 1518.22 L638.848 1518.22 L638.848 1526.7 Q639.867 1526.35 640.885 1526.19 Q641.904 1526 642.922 1526 Q648.709 1526 652.089 1529.17 Q655.469 1532.34 655.469 1537.76 Q655.469 1543.34 651.997 1546.44 Q648.524 1549.52 642.205 1549.52 Q640.029 1549.52 637.76 1549.15 Q635.515 1548.78 633.108 1548.04 L633.108 1543.34 Q635.191 1544.47 637.413 1545.03 Q639.635 1545.58 642.112 1545.58 Q646.117 1545.58 648.455 1543.48 Q650.793 1541.37 650.793 1537.76 Q650.793 1534.15 648.455 1532.04 Q646.117 1529.94 642.112 1529.94 Q640.237 1529.94 638.362 1530.35 Q636.51 1530.77 634.566 1531.65 L634.566 1514.29 Z\" fill=\"#000000\" fill-rule=\"evenodd\" fill-opacity=\"1\" /><path clip-path=\"url(#clip700)\" d=\"M1133.57 1544.91 L1141.21 1544.91 L1141.21 1518.55 L1132.9 1520.21 L1132.9 1515.95 L1141.17 1514.29 L1145.84 1514.29 L1145.84 1544.91 L1153.48 1544.91 L1153.48 1548.85 L1133.57 1548.85 L1133.57 1544.91 Z\" fill=\"#000000\" fill-rule=\"evenodd\" fill-opacity=\"1\" /><path clip-path=\"url(#clip700)\" d=\"M1172.93 1517.37 Q1169.32 1517.37 1167.49 1520.93 Q1165.68 1524.47 1165.68 1531.6 Q1165.68 1538.71 1167.49 1542.27 Q1169.32 1545.82 1172.93 1545.82 Q1176.56 1545.82 1178.37 1542.27 Q1180.19 1538.71 1180.19 1531.6 Q1180.19 1524.47 1178.37 1520.93 Q1176.56 1517.37 1172.93 1517.37 M1172.93 1513.66 Q1178.74 1513.66 1181.79 1518.27 Q1184.87 1522.85 1184.87 1531.6 Q1184.87 1540.33 1181.79 1544.94 Q1178.74 1549.52 1172.93 1549.52 Q1167.12 1549.52 1164.04 1544.94 Q1160.98 1540.33 1160.98 1531.6 Q1160.98 1522.85 1164.04 1518.27 Q1167.12 1513.66 1172.93 1513.66 Z\" fill=\"#000000\" fill-rule=\"evenodd\" fill-opacity=\"1\" /><path clip-path=\"url(#clip700)\" d=\"M1648.67 1544.91 L1656.31 1544.91 L1656.31 1518.55 L1648 1520.21 L1648 1515.95 L1656.26 1514.29 L1660.94 1514.29 L1660.94 1544.91 L1668.58 1544.91 L1668.58 1548.85 L1648.67 1548.85 L1648.67 1544.91 Z\" fill=\"#000000\" fill-rule=\"evenodd\" fill-opacity=\"1\" /><path clip-path=\"url(#clip700)\" d=\"M1678.07 1514.29 L1696.43 1514.29 L1696.43 1518.22 L1682.35 1518.22 L1682.35 1526.7 Q1683.37 1526.35 1684.39 1526.19 Q1685.41 1526 1686.43 1526 Q1692.21 1526 1695.59 1529.17 Q1698.97 1532.34 1698.97 1537.76 Q1698.97 1543.34 1695.5 1546.44 Q1692.03 1549.52 1685.71 1549.52 Q1683.53 1549.52 1681.26 1549.15 Q1679.02 1548.78 1676.61 1548.04 L1676.61 1543.34 Q1678.69 1544.47 1680.92 1545.03 Q1683.14 1545.58 1685.62 1545.58 Q1689.62 1545.58 1691.96 1543.48 Q1694.3 1541.37 1694.3 1537.76 Q1694.3 1534.15 1691.96 1532.04 Q1689.62 1529.94 1685.62 1529.94 Q1683.74 1529.94 1681.87 1530.35 Q1680.01 1530.77 1678.07 1531.65 L1678.07 1514.29 Z\" fill=\"#000000\" fill-rule=\"evenodd\" fill-opacity=\"1\" /><path clip-path=\"url(#clip700)\" d=\"M2166.86 1544.91 L2183.18 1544.91 L2183.18 1548.85 L2161.23 1548.85 L2161.23 1544.91 Q2163.89 1542.16 2168.48 1537.53 Q2173.08 1532.88 2174.26 1531.53 Q2176.51 1529.01 2177.39 1527.27 Q2178.29 1525.51 2178.29 1523.82 Q2178.29 1521.07 2176.35 1519.33 Q2174.43 1517.6 2171.33 1517.6 Q2169.13 1517.6 2166.67 1518.36 Q2164.24 1519.13 2161.46 1520.68 L2161.46 1515.95 Q2164.29 1514.82 2166.74 1514.24 Q2169.2 1513.66 2171.23 1513.66 Q2176.6 1513.66 2179.8 1516.35 Q2182.99 1519.03 2182.99 1523.52 Q2182.99 1525.65 2182.18 1527.57 Q2181.39 1529.47 2179.29 1532.07 Q2178.71 1532.74 2175.61 1535.95 Q2172.51 1539.15 2166.86 1544.91 Z\" fill=\"#000000\" fill-rule=\"evenodd\" fill-opacity=\"1\" /><path clip-path=\"url(#clip700)\" d=\"M2202.99 1517.37 Q2199.38 1517.37 2197.55 1520.93 Q2195.75 1524.47 2195.75 1531.6 Q2195.75 1538.71 2197.55 1542.27 Q2199.38 1545.82 2202.99 1545.82 Q2206.63 1545.82 2208.43 1542.27 Q2210.26 1538.71 2210.26 1531.6 Q2210.26 1524.47 2208.43 1520.93 Q2206.63 1517.37 2202.99 1517.37 M2202.99 1513.66 Q2208.8 1513.66 2211.86 1518.27 Q2214.94 1522.85 2214.94 1531.6 Q2214.94 1540.33 2211.86 1544.94 Q2208.8 1549.52 2202.99 1549.52 Q2197.18 1549.52 2194.1 1544.94 Q2191.05 1540.33 2191.05 1531.6 Q2191.05 1522.85 2194.1 1518.27 Q2197.18 1513.66 2202.99 1513.66 Z\" fill=\"#000000\" fill-rule=\"evenodd\" fill-opacity=\"1\" /><polyline clip-path=\"url(#clip702)\" style=\"stroke:#000000; stroke-linecap:butt; stroke-linejoin:round; stroke-width:2; stroke-opacity:0.1; fill:none\" points=\"\n",
       "  170.857,1358.65 2352.76,1358.65 \n",
       "  \"/>\n",
       "<polyline clip-path=\"url(#clip702)\" style=\"stroke:#000000; stroke-linecap:butt; stroke-linejoin:round; stroke-width:2; stroke-opacity:0.1; fill:none\" points=\"\n",
       "  170.857,1053.55 2352.76,1053.55 \n",
       "  \"/>\n",
       "<polyline clip-path=\"url(#clip702)\" style=\"stroke:#000000; stroke-linecap:butt; stroke-linejoin:round; stroke-width:2; stroke-opacity:0.1; fill:none\" points=\"\n",
       "  170.857,748.452 2352.76,748.452 \n",
       "  \"/>\n",
       "<polyline clip-path=\"url(#clip702)\" style=\"stroke:#000000; stroke-linecap:butt; stroke-linejoin:round; stroke-width:2; stroke-opacity:0.1; fill:none\" points=\"\n",
       "  170.857,443.351 2352.76,443.351 \n",
       "  \"/>\n",
       "<polyline clip-path=\"url(#clip702)\" style=\"stroke:#000000; stroke-linecap:butt; stroke-linejoin:round; stroke-width:2; stroke-opacity:0.1; fill:none\" points=\"\n",
       "  170.857,138.251 2352.76,138.251 \n",
       "  \"/>\n",
       "<polyline clip-path=\"url(#clip700)\" style=\"stroke:#000000; stroke-linecap:butt; stroke-linejoin:round; stroke-width:4; stroke-opacity:1; fill:none\" points=\"\n",
       "  170.857,1486.45 170.857,47.2441 \n",
       "  \"/>\n",
       "<polyline clip-path=\"url(#clip700)\" style=\"stroke:#000000; stroke-linecap:butt; stroke-linejoin:round; stroke-width:4; stroke-opacity:1; fill:none\" points=\"\n",
       "  170.857,1358.65 189.755,1358.65 \n",
       "  \"/>\n",
       "<polyline clip-path=\"url(#clip700)\" style=\"stroke:#000000; stroke-linecap:butt; stroke-linejoin:round; stroke-width:4; stroke-opacity:1; fill:none\" points=\"\n",
       "  170.857,1053.55 189.755,1053.55 \n",
       "  \"/>\n",
       "<polyline clip-path=\"url(#clip700)\" style=\"stroke:#000000; stroke-linecap:butt; stroke-linejoin:round; stroke-width:4; stroke-opacity:1; fill:none\" points=\"\n",
       "  170.857,748.452 189.755,748.452 \n",
       "  \"/>\n",
       "<polyline clip-path=\"url(#clip700)\" style=\"stroke:#000000; stroke-linecap:butt; stroke-linejoin:round; stroke-width:4; stroke-opacity:1; fill:none\" points=\"\n",
       "  170.857,443.351 189.755,443.351 \n",
       "  \"/>\n",
       "<polyline clip-path=\"url(#clip700)\" style=\"stroke:#000000; stroke-linecap:butt; stroke-linejoin:round; stroke-width:4; stroke-opacity:1; fill:none\" points=\"\n",
       "  170.857,138.251 189.755,138.251 \n",
       "  \"/>\n",
       "<path clip-path=\"url(#clip700)\" d=\"M53.3995 1372 L61.0384 1372 L61.0384 1345.63 L52.7282 1347.3 L52.7282 1343.04 L60.9921 1341.37 L65.668 1341.37 L65.668 1372 L73.3068 1372 L73.3068 1375.93 L53.3995 1375.93 L53.3995 1372 Z\" fill=\"#000000\" fill-rule=\"evenodd\" fill-opacity=\"1\" /><path clip-path=\"url(#clip700)\" d=\"M82.7975 1341.37 L101.154 1341.37 L101.154 1345.31 L87.0799 1345.31 L87.0799 1353.78 Q88.0984 1353.43 89.1169 1353.27 Q90.1354 1353.09 91.1539 1353.09 Q96.941 1353.09 100.321 1356.26 Q103.7 1359.43 103.7 1364.84 Q103.7 1370.42 100.228 1373.52 Q96.7558 1376.6 90.4364 1376.6 Q88.2604 1376.6 85.9919 1376.23 Q83.7466 1375.86 81.3392 1375.12 L81.3392 1370.42 Q83.4225 1371.56 85.6447 1372.11 Q87.8669 1372.67 90.3438 1372.67 Q94.3484 1372.67 96.6863 1370.56 Q99.0243 1368.46 99.0243 1364.84 Q99.0243 1361.23 96.6863 1359.13 Q94.3484 1357.02 90.3438 1357.02 Q88.4688 1357.02 86.5938 1357.44 Q84.7419 1357.85 82.7975 1358.73 L82.7975 1341.37 Z\" fill=\"#000000\" fill-rule=\"evenodd\" fill-opacity=\"1\" /><path clip-path=\"url(#clip700)\" d=\"M122.913 1344.45 Q119.302 1344.45 117.473 1348.02 Q115.668 1351.56 115.668 1358.69 Q115.668 1365.79 117.473 1369.36 Q119.302 1372.9 122.913 1372.9 Q126.547 1372.9 128.353 1369.36 Q130.182 1365.79 130.182 1358.69 Q130.182 1351.56 128.353 1348.02 Q126.547 1344.45 122.913 1344.45 M122.913 1340.75 Q128.723 1340.75 131.779 1345.35 Q134.857 1349.94 134.857 1358.69 Q134.857 1367.41 131.779 1372.02 Q128.723 1376.6 122.913 1376.6 Q117.103 1376.6 114.024 1372.02 Q110.969 1367.41 110.969 1358.69 Q110.969 1349.94 114.024 1345.35 Q117.103 1340.75 122.913 1340.75 Z\" fill=\"#000000\" fill-rule=\"evenodd\" fill-opacity=\"1\" /><path clip-path=\"url(#clip700)\" d=\"M56.6171 1066.9 L72.9365 1066.9 L72.9365 1070.83 L50.9921 1070.83 L50.9921 1066.9 Q53.6541 1064.14 58.2375 1059.51 Q62.8439 1054.86 64.0245 1053.52 Q66.2698 1050.99 67.1494 1049.26 Q68.0522 1047.5 68.0522 1045.81 Q68.0522 1043.05 66.1078 1041.32 Q64.1865 1039.58 61.0847 1039.58 Q58.8856 1039.58 56.4319 1040.35 Q54.0014 1041.11 51.2236 1042.66 L51.2236 1037.94 Q54.0477 1036.8 56.5014 1036.23 Q58.955 1035.65 60.9921 1035.65 Q66.3624 1035.65 69.5568 1038.33 Q72.7513 1041.02 72.7513 1045.51 Q72.7513 1047.64 71.9411 1049.56 Q71.1541 1051.46 69.0476 1054.05 Q68.4689 1054.72 65.367 1057.94 Q62.2652 1061.13 56.6171 1066.9 Z\" fill=\"#000000\" fill-rule=\"evenodd\" fill-opacity=\"1\" /><path clip-path=\"url(#clip700)\" d=\"M92.7512 1039.35 Q89.1401 1039.35 87.3114 1042.92 Q85.5058 1046.46 85.5058 1053.59 Q85.5058 1060.69 87.3114 1064.26 Q89.1401 1067.8 92.7512 1067.8 Q96.3854 1067.8 98.1909 1064.26 Q100.02 1060.69 100.02 1053.59 Q100.02 1046.46 98.1909 1042.92 Q96.3854 1039.35 92.7512 1039.35 M92.7512 1035.65 Q98.5613 1035.65 101.617 1040.25 Q104.696 1044.84 104.696 1053.59 Q104.696 1062.31 101.617 1066.92 Q98.5613 1071.5 92.7512 1071.5 Q86.941 1071.5 83.8623 1066.92 Q80.8068 1062.31 80.8068 1053.59 Q80.8068 1044.84 83.8623 1040.25 Q86.941 1035.65 92.7512 1035.65 Z\" fill=\"#000000\" fill-rule=\"evenodd\" fill-opacity=\"1\" /><path clip-path=\"url(#clip700)\" d=\"M122.913 1039.35 Q119.302 1039.35 117.473 1042.92 Q115.668 1046.46 115.668 1053.59 Q115.668 1060.69 117.473 1064.26 Q119.302 1067.8 122.913 1067.8 Q126.547 1067.8 128.353 1064.26 Q130.182 1060.69 130.182 1053.59 Q130.182 1046.46 128.353 1042.92 Q126.547 1039.35 122.913 1039.35 M122.913 1035.65 Q128.723 1035.65 131.779 1040.25 Q134.857 1044.84 134.857 1053.59 Q134.857 1062.31 131.779 1066.92 Q128.723 1071.5 122.913 1071.5 Q117.103 1071.5 114.024 1066.92 Q110.969 1062.31 110.969 1053.59 Q110.969 1044.84 114.024 1040.25 Q117.103 1035.65 122.913 1035.65 Z\" fill=\"#000000\" fill-rule=\"evenodd\" fill-opacity=\"1\" /><path clip-path=\"url(#clip700)\" d=\"M56.6171 761.797 L72.9365 761.797 L72.9365 765.732 L50.9921 765.732 L50.9921 761.797 Q53.6541 759.042 58.2375 754.412 Q62.8439 749.76 64.0245 748.417 Q66.2698 745.894 67.1494 744.158 Q68.0522 742.399 68.0522 740.709 Q68.0522 737.954 66.1078 736.218 Q64.1865 734.482 61.0847 734.482 Q58.8856 734.482 56.4319 735.246 Q54.0014 736.01 51.2236 737.561 L51.2236 732.838 Q54.0477 731.704 56.5014 731.125 Q58.955 730.547 60.9921 730.547 Q66.3624 730.547 69.5568 733.232 Q72.7513 735.917 72.7513 740.408 Q72.7513 742.537 71.9411 744.459 Q71.1541 746.357 69.0476 748.949 Q68.4689 749.621 65.367 752.838 Q62.2652 756.033 56.6171 761.797 Z\" fill=\"#000000\" fill-rule=\"evenodd\" fill-opacity=\"1\" /><path clip-path=\"url(#clip700)\" d=\"M82.7975 731.172 L101.154 731.172 L101.154 735.107 L87.0799 735.107 L87.0799 743.579 Q88.0984 743.232 89.1169 743.07 Q90.1354 742.885 91.1539 742.885 Q96.941 742.885 100.321 746.056 Q103.7 749.227 103.7 754.644 Q103.7 760.222 100.228 763.324 Q96.7558 766.403 90.4364 766.403 Q88.2604 766.403 85.9919 766.033 Q83.7466 765.662 81.3392 764.922 L81.3392 760.222 Q83.4225 761.357 85.6447 761.912 Q87.8669 762.468 90.3438 762.468 Q94.3484 762.468 96.6863 760.361 Q99.0243 758.255 99.0243 754.644 Q99.0243 751.033 96.6863 748.926 Q94.3484 746.82 90.3438 746.82 Q88.4688 746.82 86.5938 747.236 Q84.7419 747.653 82.7975 748.533 L82.7975 731.172 Z\" fill=\"#000000\" fill-rule=\"evenodd\" fill-opacity=\"1\" /><path clip-path=\"url(#clip700)\" d=\"M122.913 734.25 Q119.302 734.25 117.473 737.815 Q115.668 741.357 115.668 748.486 Q115.668 755.593 117.473 759.158 Q119.302 762.699 122.913 762.699 Q126.547 762.699 128.353 759.158 Q130.182 755.593 130.182 748.486 Q130.182 741.357 128.353 737.815 Q126.547 734.25 122.913 734.25 M122.913 730.547 Q128.723 730.547 131.779 735.153 Q134.857 739.736 134.857 748.486 Q134.857 757.213 131.779 761.82 Q128.723 766.403 122.913 766.403 Q117.103 766.403 114.024 761.82 Q110.969 757.213 110.969 748.486 Q110.969 739.736 114.024 735.153 Q117.103 730.547 122.913 730.547 Z\" fill=\"#000000\" fill-rule=\"evenodd\" fill-opacity=\"1\" /><path clip-path=\"url(#clip700)\" d=\"M66.7559 441.997 Q70.1124 442.715 71.9874 444.983 Q73.8855 447.252 73.8855 450.585 Q73.8855 455.701 70.367 458.502 Q66.8485 461.303 60.3671 461.303 Q58.1912 461.303 55.8764 460.863 Q53.5847 460.446 51.131 459.59 L51.131 455.076 Q53.0754 456.21 55.3903 456.789 Q57.7051 457.368 60.2282 457.368 Q64.6263 457.368 66.918 455.631 Q69.2328 453.895 69.2328 450.585 Q69.2328 447.53 67.08 445.817 Q64.9504 444.081 61.131 444.081 L57.1032 444.081 L57.1032 440.238 L61.3161 440.238 Q64.7652 440.238 66.5939 438.872 Q68.4226 437.483 68.4226 434.891 Q68.4226 432.229 66.5245 430.817 Q64.6495 429.382 61.131 429.382 Q59.2097 429.382 57.0106 429.798 Q54.8115 430.215 52.1727 431.095 L52.1727 426.928 Q54.8347 426.187 57.1495 425.817 Q59.4875 425.446 61.5476 425.446 Q66.8717 425.446 69.9735 427.877 Q73.0753 430.284 73.0753 434.405 Q73.0753 437.275 71.4318 439.266 Q69.7883 441.233 66.7559 441.997 Z\" fill=\"#000000\" fill-rule=\"evenodd\" fill-opacity=\"1\" /><path clip-path=\"url(#clip700)\" d=\"M92.7512 429.15 Q89.1401 429.15 87.3114 432.715 Q85.5058 436.257 85.5058 443.386 Q85.5058 450.493 87.3114 454.057 Q89.1401 457.599 92.7512 457.599 Q96.3854 457.599 98.1909 454.057 Q100.02 450.493 100.02 443.386 Q100.02 436.257 98.1909 432.715 Q96.3854 429.15 92.7512 429.15 M92.7512 425.446 Q98.5613 425.446 101.617 430.053 Q104.696 434.636 104.696 443.386 Q104.696 452.113 101.617 456.719 Q98.5613 461.303 92.7512 461.303 Q86.941 461.303 83.8623 456.719 Q80.8068 452.113 80.8068 443.386 Q80.8068 434.636 83.8623 430.053 Q86.941 425.446 92.7512 425.446 Z\" fill=\"#000000\" fill-rule=\"evenodd\" fill-opacity=\"1\" /><path clip-path=\"url(#clip700)\" d=\"M122.913 429.15 Q119.302 429.15 117.473 432.715 Q115.668 436.257 115.668 443.386 Q115.668 450.493 117.473 454.057 Q119.302 457.599 122.913 457.599 Q126.547 457.599 128.353 454.057 Q130.182 450.493 130.182 443.386 Q130.182 436.257 128.353 432.715 Q126.547 429.15 122.913 429.15 M122.913 425.446 Q128.723 425.446 131.779 430.053 Q134.857 434.636 134.857 443.386 Q134.857 452.113 131.779 456.719 Q128.723 461.303 122.913 461.303 Q117.103 461.303 114.024 456.719 Q110.969 452.113 110.969 443.386 Q110.969 434.636 114.024 430.053 Q117.103 425.446 122.913 425.446 Z\" fill=\"#000000\" fill-rule=\"evenodd\" fill-opacity=\"1\" /><path clip-path=\"url(#clip700)\" d=\"M66.7559 136.897 Q70.1124 137.614 71.9874 139.883 Q73.8855 142.151 73.8855 145.485 Q73.8855 150.601 70.367 153.401 Q66.8485 156.202 60.3671 156.202 Q58.1912 156.202 55.8764 155.763 Q53.5847 155.346 51.131 154.489 L51.131 149.976 Q53.0754 151.11 55.3903 151.688 Q57.7051 152.267 60.2282 152.267 Q64.6263 152.267 66.918 150.531 Q69.2328 148.795 69.2328 145.485 Q69.2328 142.429 67.08 140.716 Q64.9504 138.98 61.131 138.98 L57.1032 138.98 L57.1032 135.138 L61.3161 135.138 Q64.7652 135.138 66.5939 133.772 Q68.4226 132.383 68.4226 129.79 Q68.4226 127.128 66.5245 125.716 Q64.6495 124.281 61.131 124.281 Q59.2097 124.281 57.0106 124.698 Q54.8115 125.115 52.1727 125.994 L52.1727 121.828 Q54.8347 121.087 57.1495 120.716 Q59.4875 120.346 61.5476 120.346 Q66.8717 120.346 69.9735 122.777 Q73.0753 125.184 73.0753 129.304 Q73.0753 132.175 71.4318 134.165 Q69.7883 136.133 66.7559 136.897 Z\" fill=\"#000000\" fill-rule=\"evenodd\" fill-opacity=\"1\" /><path clip-path=\"url(#clip700)\" d=\"M82.7975 120.971 L101.154 120.971 L101.154 124.906 L87.0799 124.906 L87.0799 133.378 Q88.0984 133.031 89.1169 132.869 Q90.1354 132.684 91.1539 132.684 Q96.941 132.684 100.321 135.855 Q103.7 139.027 103.7 144.443 Q103.7 150.022 100.228 153.124 Q96.7558 156.202 90.4364 156.202 Q88.2604 156.202 85.9919 155.832 Q83.7466 155.462 81.3392 154.721 L81.3392 150.022 Q83.4225 151.156 85.6447 151.712 Q87.8669 152.267 90.3438 152.267 Q94.3484 152.267 96.6863 150.161 Q99.0243 148.054 99.0243 144.443 Q99.0243 140.832 96.6863 138.726 Q94.3484 136.619 90.3438 136.619 Q88.4688 136.619 86.5938 137.036 Q84.7419 137.452 82.7975 138.332 L82.7975 120.971 Z\" fill=\"#000000\" fill-rule=\"evenodd\" fill-opacity=\"1\" /><path clip-path=\"url(#clip700)\" d=\"M122.913 124.05 Q119.302 124.05 117.473 127.615 Q115.668 131.156 115.668 138.286 Q115.668 145.392 117.473 148.957 Q119.302 152.499 122.913 152.499 Q126.547 152.499 128.353 148.957 Q130.182 145.392 130.182 138.286 Q130.182 131.156 128.353 127.615 Q126.547 124.05 122.913 124.05 M122.913 120.346 Q128.723 120.346 131.779 124.953 Q134.857 129.536 134.857 138.286 Q134.857 147.013 131.779 151.619 Q128.723 156.202 122.913 156.202 Q117.103 156.202 114.024 151.619 Q110.969 147.013 110.969 138.286 Q110.969 129.536 114.024 124.953 Q117.103 120.346 122.913 120.346 Z\" fill=\"#000000\" fill-rule=\"evenodd\" fill-opacity=\"1\" /><polyline clip-path=\"url(#clip702)\" style=\"stroke:#009af9; stroke-linecap:butt; stroke-linejoin:round; stroke-width:4; stroke-opacity:1; fill:none\" points=\"\n",
       "  232.609,1405.07 335.529,1087.07 438.449,1222.61 541.368,1281.15 644.288,968.177 747.208,1055.04 850.128,1139.58 953.047,1311.25 1055.97,1264.02 1158.89,87.9763 \n",
       "  1261.81,1151.47 1364.73,1445.72 1467.65,118.183 1570.57,223.702 1673.49,337.529 1776.41,120.743 1879.33,981.841 1982.24,330.7 2085.16,203.207 2188.08,1147.59 \n",
       "  2291,293.937 \n",
       "  \"/>\n",
       "<path clip-path=\"url(#clip700)\" d=\"\n",
       "M1985.16 198.898 L2280.03 198.898 L2280.03 95.2176 L1985.16 95.2176  Z\n",
       "  \" fill=\"#ffffff\" fill-rule=\"evenodd\" fill-opacity=\"1\"/>\n",
       "<polyline clip-path=\"url(#clip700)\" style=\"stroke:#000000; stroke-linecap:butt; stroke-linejoin:round; stroke-width:4; stroke-opacity:1; fill:none\" points=\"\n",
       "  1985.16,198.898 2280.03,198.898 2280.03,95.2176 1985.16,95.2176 1985.16,198.898 \n",
       "  \"/>\n",
       "<polyline clip-path=\"url(#clip700)\" style=\"stroke:#009af9; stroke-linecap:butt; stroke-linejoin:round; stroke-width:4; stroke-opacity:1; fill:none\" points=\"\n",
       "  2009.41,147.058 2154.87,147.058 \n",
       "  \"/>\n",
       "<path clip-path=\"url(#clip700)\" d=\"M2192.95 166.745 Q2191.15 171.375 2189.43 172.787 Q2187.72 174.199 2184.85 174.199 L2181.45 174.199 L2181.45 170.634 L2183.95 170.634 Q2185.71 170.634 2186.68 169.8 Q2187.65 168.967 2188.83 165.865 L2189.6 163.921 L2179.11 138.412 L2183.62 138.412 L2191.72 158.689 L2199.83 138.412 L2204.34 138.412 L2192.95 166.745 Z\" fill=\"#000000\" fill-rule=\"evenodd\" fill-opacity=\"1\" /><path clip-path=\"url(#clip700)\" d=\"M2211.63 160.402 L2219.27 160.402 L2219.27 134.037 L2210.96 135.703 L2210.96 131.444 L2219.22 129.778 L2223.9 129.778 L2223.9 160.402 L2231.54 160.402 L2231.54 164.338 L2211.63 164.338 L2211.63 160.402 Z\" fill=\"#000000\" fill-rule=\"evenodd\" fill-opacity=\"1\" /></svg>\n"
      ]
     },
     "metadata": {},
     "output_type": "display_data"
    }
   ],
   "source": [
    "plot(episode_test_reward_hook.rewards)"
   ]
  },
  {
   "cell_type": "code",
   "execution_count": 26,
   "id": "fb0d4ec2",
   "metadata": {},
   "outputs": [],
   "source": [
    "close_visualization(); # closes the MeshCat visualization"
   ]
  },
  {
   "cell_type": "code",
   "execution_count": 27,
   "id": "218664a3",
   "metadata": {},
   "outputs": [
    {
     "name": "stdout",
     "output_type": "stream",
     "text": [
      "2\n",
      "[4.0, 0.0, 3.0]\n",
      "5.242640687119285"
     ]
    }
   ],
   "source": [
    "x = [4.0; 0.0; 4.0]\n",
    "gates = [[0.0; 0.0; 0.0], [3.0; 0.0; 3.0], [5.0; 0.0; 3.0]]\n",
    "line_segment, projected_Position = calculate_progress(gates, x)\n",
    "current_progress = 0\n",
    "\n",
    "for i in 2:(line_segment)\n",
    "    current_progress +=  norm(gates[i] - gates[i - 1])  \n",
    " end\n",
    " current_progress += norm(gates[line_segment] - projected_Position)\n",
    " \n",
    "progress = current_progress\n",
    "\n",
    "print(line_segment)\n",
    "print(\"\\n\")\n",
    "print(projected_Position)\n",
    "print(\"\\n\")\n",
    "print(progress)\n"
   ]
  }
 ],
 "metadata": {
  "@webio": {
   "lastCommId": null,
   "lastKernelId": null
  },
  "kernelspec": {
   "display_name": "Julia 1.8.2",
   "language": "julia",
   "name": "julia-1.8"
  },
  "language_info": {
   "file_extension": ".jl",
   "mimetype": "application/julia",
   "name": "julia",
   "version": "1.8.2"
  }
 },
 "nbformat": 4,
 "nbformat_minor": 5
}
