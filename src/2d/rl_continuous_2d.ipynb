{
 "cells": [
  {
   "cell_type": "markdown",
   "id": "0649b76a",
   "metadata": {},
   "source": [
    "# Init Bionic VTOL"
   ]
  },
  {
   "cell_type": "code",
   "execution_count": 1,
   "id": "96751412",
   "metadata": {},
   "outputs": [],
   "source": [
    "include(\"../Flyonic.jl\");\n",
    "using .Flyonic;\n",
    "\n",
    "using Rotations; # used for initial position\n",
    "\n",
    "using ReinforcementLearning;\n",
    "using StableRNGs;\n",
    "using Flux;\n",
    "using Flux.Losses;\n",
    "using Random;\n",
    "using IntervalSets;\n",
    "using LinearAlgebra;\n",
    "using Distributions;\n",
    "\n",
    "using Plots;\n",
    "using Statistics;\n",
    "\n",
    "using BSON: @save, @load # save mode"
   ]
  },
  {
   "cell_type": "code",
   "execution_count": 2,
   "id": "f7e4ee64",
   "metadata": {},
   "outputs": [
    {
     "name": "stderr",
     "output_type": "stream",
     "text": [
      "┌ Info: MeshCat server started. You can open the visualizer by visiting the following URL in your browser:\n",
      "│ http://127.0.0.1:8701\n",
      "└ @ MeshCat /home/larissa/.julia/packages/MeshCat/Ax8pH/src/visualizer.jl:73\n"
     ]
    }
   ],
   "source": [
    "create_visualization();"
   ]
  },
  {
   "cell_type": "code",
   "execution_count": 3,
   "id": "7d9557df",
   "metadata": {},
   "outputs": [
    {
     "data": {
      "text/plain": [
       "1"
      ]
     },
     "execution_count": 3,
     "metadata": {},
     "output_type": "execute_result"
    }
   ],
   "source": [
    "# indicates how many threads Julia was started with. This is important for the multi-threaded environment\n",
    "Threads.nthreads()"
   ]
  },
  {
   "cell_type": "code",
   "execution_count": 4,
   "id": "ea451ee8",
   "metadata": {},
   "outputs": [],
   "source": [
    "eth_vtol_param[\"gravity\"] = 0; # 9.81;"
   ]
  },
  {
   "cell_type": "code",
   "execution_count": 5,
   "id": "682d74ee",
   "metadata": {},
   "outputs": [],
   "source": [
    "DESIRED_x = [-4.0, 0.0, 4.0] # desired distance    \n",
    "angle = -pi/8.0 # \n",
    "DESIRED_R = Matrix(UnitQuaternion(RotY(angle)*RotX(pi/2.0)*RotZ(pi/2.0)))\n",
    "\n",
    "create_VTOL(\"fixgoal\", actuators = false, color_vec=[1.0; 0.0; 0.0; 1.0]);\n",
    "set_transform(\"fixgoal\", DESIRED_x ,QuatRotation(DESIRED_R)); "
   ]
  },
  {
   "cell_type": "markdown",
   "id": "5411db62",
   "metadata": {},
   "source": [
    "# Create Reinforcement Learning Environment"
   ]
  },
  {
   "cell_type": "code",
   "execution_count": 6,
   "id": "96af6ee0",
   "metadata": {},
   "outputs": [],
   "source": [
    "mutable struct VtolEnv{A,T,ACT,R<:AbstractRNG} <: AbstractEnv # Parametric Constructor for a subtype of AbstractEnv\n",
    "    action_space::A\n",
    "    observation_space::Space{Vector{ClosedInterval{T}}}\n",
    "    state::Vector{T}\n",
    "    action::ACT\n",
    "    done::Bool\n",
    "    t::T # time\n",
    "    rng::R\n",
    "\n",
    "    name::String #for multible environoments\n",
    "    visualization::Bool\n",
    "    realtime::Bool\n",
    "    \n",
    "    # Everything you need aditionaly can also go in here.\n",
    "    x_W::Vector{T}\n",
    "    v_B::Vector{T}\n",
    "    R_W::Matrix{T}\n",
    "    ω_B::Vector{T}\n",
    "    wind_W::Vector{T}\n",
    "    Δt::T\n",
    "    \n",
    "    # Bonus / Target\n",
    "    x_d_W::Vector{T}\n",
    "    R_d_W::Matrix{T}\n",
    "    \n",
    "    covered_line::T\n",
    "    previously_covered_line::T\n",
    "end"
   ]
  },
  {
   "cell_type": "code",
   "execution_count": 7,
   "id": "14a6873d",
   "metadata": {},
   "outputs": [],
   "source": [
    "# define a keyword-based constructor for the type declared in the mutable struct typedef. \n",
    "# It could also be done with the macro Base.@kwdef.\n",
    "function VtolEnv(;\n",
    "     \n",
    "    #continuous = true,\n",
    "    rng = Random.GLOBAL_RNG, # Random number generation\n",
    "    name = \"vtol\",\n",
    "    visualization = false,\n",
    "    realtime = false,\n",
    "    kwargs... # let the function take an arbitrary number of keyword arguments \n",
    ")\n",
    "    \n",
    "    T = Float64; # explicit type which is used e.g. in state. Cannot be altered due to the poor matrix defininon.\n",
    "\n",
    "    #action_space = Base.OneTo(21) # 21 discrete positions for the flaps\n",
    "    \n",
    "    action_space = Space(\n",
    "        ClosedInterval{T}[\n",
    "            0.0..2.0, # propeller 1\n",
    "            0.0..2.0, # propeller 2\n",
    "            ], \n",
    "    )\n",
    "\n",
    "    \n",
    "    state_space = Space( # Three continuous values in state space.\n",
    "        ClosedInterval{T}[\n",
    "            \n",
    "            # If you are not flying horizontally, you can later switch gravitation \n",
    "            # back on and counteract it with the rotors as well.\n",
    "            # In addition, once the drone has flown over its target, \n",
    "            # it can \"fall down\" and does not have to turn around.\n",
    "            \n",
    "            # orientate yourself on the state space from the paper\n",
    "            typemin(T)..typemax(T), # position along x\n",
    "            typemin(T)..typemax(T), # position along y\n",
    "            typemin(T)..typemax(T), # orientation along x: REALLY NEEDED?\n",
    "            typemin(T)..typemax(T), # orientation along z\n",
    "            typemin(T)..typemax(T), # velocity along x BODY coordinates\n",
    "            typemin(T)..typemax(T), # velocity along y BODY coordinates\n",
    "            typemin(T)..typemax(T), # rotational velocity along z BODY coordinates\n",
    "            \n",
    "            typemin(T)..typemax(T), # position error along x\n",
    "            typemin(T)..typemax(T), # position error along y: CHANGED TO Y\n",
    "            # Not used in Paper!!!\n",
    "            typemin(T)..typemax(T), # target rotation along x (better than angle for neural networks)\n",
    "            typemin(T)..typemax(T), # target rotation along z (better than angle for neural networks)\n",
    "            typemin(T)..typemax(T), # The distance along the connecting line which has been covered\n",
    "            typemin(T)..typemax(T), # The distance along the connecting line which has been previously covered\n",
    "            \n",
    "            ], \n",
    "    )\n",
    "\n",
    "    # Calculate random vector & angle\n",
    "\n",
    "    #################################\n",
    "    \n",
    "    if visualization\n",
    "        create_VTOL(name, actuators = true, color_vec=[1.0; 1.0; 0.6; 1.0]);\n",
    "    end\n",
    "\n",
    "    environment = VtolEnv(\n",
    "        action_space,\n",
    "        state_space,\n",
    "        zeros(T, 10), # current state, needs to be extended. \n",
    "        rand(action_space),\n",
    "        false, # episode done ?\n",
    "        0.0, # time\n",
    "        rng, # random number generator  \n",
    "        name,\n",
    "        visualization,\n",
    "        realtime,\n",
    "        zeros(T, 3), # x_W\n",
    "        zeros(T, 3), # v_B\n",
    "        #Matrix(UnitQuaternion((RotX(pi)))),\n",
    "        [1.0 0.0 0.0; 0.0 -1.0 0.0; 0.0 0.0 -1.0], # R_W Float64... so T needs to be Float64\n",
    "        zeros(T, 3), # ω_B\n",
    "        zeros(T, 3), # wind_W\n",
    "        T(0.025), # Δt \n",
    "        # TODO Random\n",
    "        DESIRED_x, # desired distance \n",
    "        DESIRED_R, # desired orientation\n",
    "        0.0,\n",
    "        0.0,\n",
    "    )\n",
    "    \n",
    "    \n",
    "    reset!(environment)\n",
    "    \n",
    "    return environment\n",
    "    \n",
    "end;"
   ]
  },
  {
   "cell_type": "markdown",
   "id": "ec660d5e",
   "metadata": {},
   "source": [
    "Just for explanation:\n",
    "\n",
    "1. A mutable Struct is created. A struct is a constructor and a constructor is a function that creates new objects.\n",
    "2. A outer keyword-based constructor method is added for the type declared in the mutable struct typedef before.\n",
    "\n",
    "So now we have a function with two methods. Julia will decide which method to call by multiple dispatch."
   ]
  },
  {
   "cell_type": "code",
   "execution_count": 8,
   "id": "dc3c4bb3",
   "metadata": {},
   "outputs": [
    {
     "data": {
      "text/html": [
       "# 2 methods for type constructor:<ul><li> VtolEnv(; <i>rng, name, visualization, realtime, kwargs...</i>) in Main at In[7]:3</li> <li> VtolEnv(action_space::<b>A</b>, observation_space::<b>Space{Array{ClosedInterval{T}, 1}}</b>, state::<b>Vector{T}</b>, action::<b>ACT</b>, done::<b>Bool</b>, t::<b>T</b>, rng::<b>R</b>, name::<b>String</b>, visualization::<b>Bool</b>, realtime::<b>Bool</b>, x_W::<b>Vector{T}</b>, v_B::<b>Vector{T}</b>, R_W::<b>Matrix{T}</b>, ω_B::<b>Vector{T}</b>, wind_W::<b>Vector{T}</b>, Δt::<b>T</b>, x_d_W::<b>Vector{T}</b>, R_d_W::<b>Matrix{T}</b>, covered_line::<b>T</b>, previously_covered_line::<b>T</b>)<i> where {A, T, ACT, R<:AbstractRNG}</i> in Main at In[6]:2</li> </ul>"
      ],
      "text/plain": [
       "# 2 methods for type constructor:\n",
       "[1] VtolEnv(; rng, name, visualization, realtime, kwargs...) in Main at In[7]:3\n",
       "[2] VtolEnv(action_space::A, observation_space::Space{Array{ClosedInterval{T}, 1}}, state::Vector{T}, action::ACT, done::Bool, t::T, rng::R, name::String, visualization::Bool, realtime::Bool, x_W::Vector{T}, v_B::Vector{T}, R_W::Matrix{T}, ω_B::Vector{T}, wind_W::Vector{T}, Δt::T, x_d_W::Vector{T}, R_d_W::Matrix{T}, covered_line::T, previously_covered_line::T) where {A, T, ACT, R<:AbstractRNG} in Main at In[6]:2"
      ]
     },
     "execution_count": 8,
     "metadata": {},
     "output_type": "execute_result"
    }
   ],
   "source": [
    "methods(VtolEnv)"
   ]
  },
  {
   "cell_type": "markdown",
   "id": "806413d1",
   "metadata": {},
   "source": [
    "# Define the RL interface"
   ]
  },
  {
   "cell_type": "code",
   "execution_count": 9,
   "id": "0f822029",
   "metadata": {},
   "outputs": [],
   "source": [
    "Random.seed!(env::VtolEnv, seed) = Random.seed!(env.rng, seed)\n",
    "RLBase.action_space(env::VtolEnv) = env.action_space\n",
    "RLBase.state_space(env::VtolEnv) = env.observation_space\n",
    "RLBase.is_terminated(env::VtolEnv) = env.done\n",
    "RLBase.state(env::VtolEnv) = env.state"
   ]
  },
  {
   "cell_type": "code",
   "execution_count": 10,
   "id": "1f7fb89c",
   "metadata": {},
   "outputs": [],
   "source": [
    "function computeReward(env::VtolEnv{A,T}) where {A,T}\n",
    "    \n",
    "    stay_alive = 0.0 # You have a racing drone. You want to get to your destination as quickly as possible.\n",
    "    \n",
    "    distance_goal = exp(-sum((env.x_W - env.x_d_W).^2)/10)*100.0\n",
    "    \n",
    "    limit_rotation = abs(env.ω_B[3])*10.0\n",
    "\n",
    "    progress = exp((-(env.covered_line-norm(env.x_d_W))^2)/10)*100.0\n",
    "    \n",
    "    new_progress = (env.covered_line-env.previously_covered_line)*100\n",
    "\n",
    "    # TODO: Make yourself comfortable with what this is\n",
    "    difference_angle = exp(-sum((env.R_W[:,1] - env.R_d_W[:,1]).^2))*10.0\n",
    "    #    difference_angle = exp(-sum(((env.R_W[:,1] - env.R_d_W[:,1]).^2)))*10#*10.0 #0 was good\n",
    "      \n",
    "    #print(\"\\ncovered: \\n\")\n",
    "    #print(env.covered_line)\n",
    "    #print(\"\\nnew: \\n\")\n",
    "    #print(env.previously_covered_line)\n",
    "    #print(\"\\n\")\n",
    "    #print(\"\\n\")\n",
    "\n",
    "    env.previously_covered_line = env.covered_line\n",
    "\n",
    "    #print(\"distance_goal: \\n\")\n",
    "    #print(distance_goal)\n",
    "    #print(\"\\nlimit_rotation: \\n\")\n",
    "    #print(limit_rotation)\n",
    "    #print(\"\\nprogress: \\n\")\n",
    "    #print(progress)\n",
    "    #print(\"\\nnew_progress: \\n\")\n",
    "    #print(new_progress)\n",
    "    #print(\"\\ndifference_angle: \\n\")\n",
    "    #print(difference_angle)\n",
    "    #print(\"\\n\")\n",
    "    #print(\"\\n\")\n",
    "\n",
    "    return progress + new_progress + distance_goal - limit_rotation - difference_angle\n",
    "end\n",
    "\n",
    "\n",
    "RLBase.reward(env::VtolEnv{A,T}) where {A,T} = computeReward(env)"
   ]
  },
  {
   "cell_type": "code",
   "execution_count": 11,
   "id": "ae45ec04",
   "metadata": {},
   "outputs": [],
   "source": [
    "function RLBase.reset!(env::VtolEnv{A,T}) where {A,T}\n",
    "    \n",
    "    # Visualize initial state\n",
    "    if env.visualization\n",
    "        set_transform(env.name, env.x_W, QuatRotation(env.R_W));\n",
    "        set_actuators(env.name, [0.0; 0.0; 0.0; 0.0])\n",
    "    end\n",
    "    \n",
    "    env.x_W = [0.0; 0.0; 0.0];\n",
    "    env.v_B = [0.0; 0.0; 0.0];\n",
    "    env.R_W = Matrix(UnitQuaternion(RotX(pi)))#Matrix(UnitQuaternion(RotZ(-pi/2.0)*RotY(-pi/2.0)*RotX(pi)));\n",
    "    #env.R_W = Matrix(UnitQuaternion(RotX(pi)));\n",
    "    env.ω_B = [0.0; 0.0; 0.0];\n",
    "    env.wind_W = [0.0; 0.0; 0.0];\n",
    "\n",
    "    env.x_d_W = [rand(Uniform(0,10)), rand(Uniform(-10,10)), 0.0]\n",
    "    #env.angle_d_W = calculateAngle([1.0 ,0.0, 0.0], env.x_d_W) # desired angle\n",
    "    #x_vec = [1.0; 0.0; 0.0]\n",
    "    #env.angle_d_W = calculateAngle(x_vec, env.x_d_W) # Should the drone arrive at the target like this or is there another idea behind it?\n",
    "    angle = calculateAngle([1.0 ,0.0, 0.0], env.x_d_W)\n",
    "    env.R_d_W = Matrix(UnitQuaternion(RotZ(angle)*RotX(pi)))\n",
    "\n",
    "    env.covered_line = 0.0\n",
    "    env.previously_covered_line = 0.0\n",
    "    \n",
    "    if env.visualization\n",
    "        create_VTOL(\"fixgoal\", actuators = false, color_vec=[1.0; 0.0; 0.0; 1.0]);\n",
    "        set_transform(\"fixgoal\", env.x_d_W ,QuatRotation(env.R_d_W)); \n",
    "    end\n",
    "\n",
    "    env.state = [env.x_W[1];\n",
    "                 env.x_W[2];\n",
    "                 env.R_W[1,1];\n",
    "                 env.R_W[3,1];\n",
    "                 env.v_B[1];\n",
    "                 env.v_B[2];\n",
    "                 env.ω_B[3];\n",
    "                 env.x_W[1] - env.x_d_W[1];\n",
    "                 env.x_W[2] - env.x_d_W[2]; # CHANGED TO Y\n",
    "                 env.R_d_W[1,1];\n",
    "                 env.R_d_W[3,1];\n",
    "                 env.covered_line;\n",
    "                 env.previously_covered_line] \n",
    "    \n",
    "    env.t = 0.0\n",
    "    env.action = [0.0, 0.0]\n",
    "    env.done = false\n",
    "    nothing\n",
    "\n",
    "end;"
   ]
  },
  {
   "cell_type": "code",
   "execution_count": 12,
   "id": "1cf1a7b7",
   "metadata": {},
   "outputs": [],
   "source": [
    "# defines a methods for a callable object.\n",
    "# So when a VtolEnv object is created, it has this method that can be called\n",
    "function (env::VtolEnv)(a)\n",
    "\n",
    "    # set the propeller trust and the two flaps 2D case\n",
    "    next_action = [a[1], a[2], 0.0, 0.0]\n",
    "   \n",
    "    _step!(env, next_action)\n",
    "end"
   ]
  },
  {
   "cell_type": "code",
   "execution_count": 13,
   "id": "b0e9eb59",
   "metadata": {},
   "outputs": [],
   "source": [
    "env = VtolEnv();"
   ]
  },
  {
   "cell_type": "code",
   "execution_count": 14,
   "id": "26a116cb",
   "metadata": {},
   "outputs": [
    {
     "data": {
      "text/html": [
       "# 3 methods for callable object:<ul><li> (env::<b>VtolEnv</b>)(a) in Main at In[12]:3</li> <li> (env::<b>AbstractEnv</b>)(action) in ReinforcementLearningBase</li> <li> (env::<b>AbstractEnv</b>)(action, player) in ReinforcementLearningBase</li> </ul>"
      ],
      "text/plain": [
       "# 3 methods for callable object:\n",
       "[1] (env::VtolEnv)(a) in Main at In[12]:3\n",
       "[2] (env::AbstractEnv)(action) in ReinforcementLearningBase\n",
       "[3] (env::AbstractEnv)(action, player) in ReinforcementLearningBase"
      ]
     },
     "execution_count": 14,
     "metadata": {},
     "output_type": "execute_result"
    }
   ],
   "source": [
    "methods(env) # Just to explain which methods the object has"
   ]
  },
  {
   "cell_type": "code",
   "execution_count": 15,
   "id": "9e7d4727",
   "metadata": {},
   "outputs": [],
   "source": [
    "function _step!(env::VtolEnv, next_action)\n",
    "    \n",
    "    # caluclate wind impact\n",
    "    v_in_wind_B = vtol_add_wind(env.v_B, env.R_W, env.wind_W)\n",
    "    # caluclate aerodynamic forces\n",
    "    torque_B, force_B = vtol_model(v_in_wind_B, next_action, eth_vtol_param);\n",
    "    # Limit to 2D\n",
    "    force_B[3] = 0.0; # Body Z\n",
    "    env.v_B[3] = 0.0;\n",
    "    torque_B[1] = 0.0; torque_B[2] = 0.0;  # Body X and Y\n",
    "    env.ω_B[1] = 0.0; env.ω_B[2] = 0.0;\n",
    "    # integrate rigid body dynamics for Δt\n",
    "    env.x_W, env.v_B, env.R_W, env.ω_B, time = rigid_body_simple(torque_B, force_B, env.x_W, env.v_B, env.R_W, env.ω_B, env.t, env.Δt, eth_vtol_param)\n",
    "    env.covered_line = dot(env.x_W, env.x_d_W)/(norm(env.x_d_W))\n",
    "    \n",
    "    if env.realtime\n",
    "        sleep(env.Δt) # TODO: just a dirty hack. this is of course slower than real time.\n",
    "    end\n",
    "\n",
    "    # Visualize the new state \n",
    "    if env.visualization\n",
    "        set_transform(env.name, env.x_W, QuatRotation(env.R_W));\n",
    "        set_actuators(env.name, next_action)\n",
    "    end\n",
    " \n",
    "    env.t += env.Δt\n",
    "    \n",
    "    # State space\n",
    "    #rot = Rotations.params(RotYXZ(env.R_W))[3]\n",
    "    #env.state[1] = env.x_W[1] # world position in x\n",
    "    #env.state[2] = env.ω_B[2] # world position in y\n",
    "    #env.state[3] = rot # rotation around z\n",
    "    #rot = Rotations.params(RotYXZ(env.R_W))[1]\n",
    "    \n",
    "    \n",
    "    env.state[1] = env.x_W[1]; # position along x\n",
    "    env.state[2] = env.x_W[2];  # position along y\n",
    "    env.state[3] = env.R_W[1,1];    # orientation along x\n",
    "    env.state[4] = env.R_W[3,1];   # orientation along z\n",
    "    env.state[5] = env.v_B[1];  # velocity along x BODY coordinates\n",
    "    env.state[6] = env.v_B[2];  # velocity along y BODY coordinates\n",
    "    env.state[7] = env.ω_B[3];  # rotational velocity along z BODY coordinates\n",
    "    env.state[8] = env.x_W[1] - env.x_d_W[1];   # position error along x\n",
    "    env.state[9] = env.x_W[2] - env.x_d_W[2];   # position error along y\n",
    "    env.state[10] = env.R_d_W[1,1];  # target rotation along x (better than angle for neural networks)\n",
    "    env.state[11] = env.covered_line    # Covered distance along line after step\n",
    "    env.state[12] = env.previously_covered_line # Covered distance along line before step\n",
    "    #env.R_d_W[3,1];    # target orientation along z\n",
    "    \n",
    "    #print(\"\\nSTEP: \\n\")\n",
    "    # Termination criteria\n",
    "    # TODO: Use many termination criteria so that you do not train unnecessarily in wrong areas\n",
    "    env.done = \n",
    "\n",
    "        # TODO Zu lang\n",
    "        # TODO Zu weit weg\n",
    "        # TODO Ziel erreicht\n",
    "\n",
    "        # After time... How fast is drone+Range of desired point\n",
    "        # After reaching position (circle of r_tol)\n",
    "        norm(env.ω_B) > 50.0 || \n",
    "        norm(env.v_B) > 50.0 || # stop if body is too fast\n",
    "        #env.x_W[3] < -10.0 || # stop if body is below -10m\n",
    "        #0.0 > rot || # Stop if the drone is pitched 90°.\n",
    "        #rot > pi || # Stop if the drone is pitched 90°.\n",
    "        sum((env.x_W - env.x_d_W).^2) < 1.0 ||\n",
    "        #sum((env.x_W - env.x_d_W).^2) > 5000.0||\n",
    "        env.t > 5.0 # stop after 10s\n",
    "    nothing\n",
    "end;"
   ]
  },
  {
   "cell_type": "code",
   "execution_count": 16,
   "id": "6e1cd988",
   "metadata": {
    "scrolled": false
   },
   "outputs": [
    {
     "name": "stdout",
     "output_type": "stream",
     "text": [
      "\u001b[0m\u001b[1mTest Summary:              | \u001b[22m\u001b[32m\u001b[1mPass  \u001b[22m\u001b[39m\u001b[36m\u001b[1mTotal  \u001b[22m\u001b[39m\u001b[0m\u001b[1mTime\u001b[22m\n",
      "random policy with VtolEnv | \u001b[32m2000  \u001b[39m\u001b[36m 2000  \u001b[39m\u001b[0m3.1s\n"
     ]
    },
    {
     "data": {
      "text/plain": [
       "Test.DefaultTestSet(\"random policy with VtolEnv\", Any[], 2000, false, false, true, 1.6689580306288e9, 1.668958033736598e9)"
      ]
     },
     "execution_count": 16,
     "metadata": {},
     "output_type": "execute_result"
    }
   ],
   "source": [
    "RLBase.test_runnable!(env)"
   ]
  },
  {
   "cell_type": "markdown",
   "id": "c223a31f",
   "metadata": {},
   "source": [
    "Show an overview of the environment."
   ]
  },
  {
   "cell_type": "markdown",
   "id": "ffe6de74",
   "metadata": {},
   "source": [
    "# Setup of a reinforcement learning experiment."
   ]
  },
  {
   "cell_type": "code",
   "execution_count": 17,
   "id": "e5683fe8",
   "metadata": {},
   "outputs": [
    {
     "data": {
      "text/markdown": [
       "MultiThreadEnv(8 x VtolEnv)"
      ],
      "text/plain": [
       "MultiThreadEnv(8 x VtolEnv)"
      ]
     },
     "execution_count": 17,
     "metadata": {},
     "output_type": "execute_result"
    }
   ],
   "source": [
    "seed = 123    \n",
    "rng = StableRNG(seed)\n",
    "    N_ENV = 8\n",
    "    UPDATE_FREQ = 1024\n",
    "    \n",
    "    \n",
    "    # define multiple environments for parallel training\n",
    "    env = MultiThreadEnv([\n",
    "        # use different names for the visualization\n",
    "        VtolEnv(; rng = StableRNG(hash(seed+i)), name = \"vtol$i\") for i in 1:N_ENV\n",
    "    ])"
   ]
  },
  {
   "cell_type": "code",
   "execution_count": 18,
   "id": "d1f128b2",
   "metadata": {},
   "outputs": [],
   "source": [
    "# Define the function approximator\n",
    "    ns, na = length(state(env[1])), length(action_space(env[1]))\n",
    "    approximator = ActorCritic(\n",
    "                actor = GaussianNetwork(\n",
    "                    pre = Chain(\n",
    "                    Dense(ns, 16, relu; initW = glorot_uniform(rng)),#\n",
    "                    Dense(16, 16, relu; initW = glorot_uniform(rng)),\n",
    "                    ),\n",
    "                    μ = Chain(Dense(16, na; initW = glorot_uniform(rng))),\n",
    "                    logσ = Chain(Dense(16, na; initW = glorot_uniform(rng))),\n",
    "                ),\n",
    "                critic = Chain(\n",
    "                    Dense(ns, 16, relu; initW = glorot_uniform(rng)),\n",
    "                    Dense(16, 16, relu; initW = glorot_uniform(rng)),\n",
    "                    Dense(16, 1; initW = glorot_uniform(rng)),\n",
    "                ),\n",
    "                optimizer = ADAM(1e-3),\n",
    "            );"
   ]
  },
  {
   "cell_type": "code",
   "execution_count": 19,
   "id": "7ea4c37c",
   "metadata": {
    "scrolled": false
   },
   "outputs": [
    {
     "name": "stderr",
     "output_type": "stream",
     "text": [
      "┌ Info: The GPU function is being called but the GPU is not accessible. \n",
      "│ Defaulting back to the CPU. (No action is required if you want to run on the CPU).\n",
      "└ @ Flux /home/larissa/.julia/packages/Flux/7nTyc/src/functor.jl:187\n"
     ]
    }
   ],
   "source": [
    "    agent = Agent( # A wrapper of an AbstractPolicy\n",
    "        # AbstractPolicy: the policy to use\n",
    "        policy = PPOPolicy(;\n",
    "                    approximator = approximator |> gpu,\n",
    "                    update_freq=UPDATE_FREQ,\n",
    "                    dist = Normal,\n",
    "                    # For parameters visit the docu: https://juliareinforcementlearning.org/docs/rlzoo/#ReinforcementLearningZoo.PPOPolicy\n",
    "                    ),\n",
    "        \n",
    "        # AbstractTrajectory: used to store transitions between an agent and an environment source\n",
    "        trajectory = PPOTrajectory(;\n",
    "            capacity = UPDATE_FREQ,\n",
    "            state = Matrix{Float64} => (ns, N_ENV),\n",
    "            action = Matrix{Float64} => (na, N_ENV),\n",
    "            action_log_prob = Vector{Float64} => (N_ENV,),\n",
    "            reward = Vector{Float64} => (N_ENV,),\n",
    "            terminal = Vector{Bool} => (N_ENV,),\n",
    "        ),\n",
    "    );\n"
   ]
  },
  {
   "cell_type": "code",
   "execution_count": 20,
   "id": "7f158a93",
   "metadata": {},
   "outputs": [],
   "source": [
    "function saveModel(t, agent, env)\n",
    "    model = cpu(agent.policy.approximator)   \n",
    "    f = joinpath(\"./RL_models/\", \"vtol_2D_ppo_$t.bson\")\n",
    "    @save f model\n",
    "    println(\"parameters at step $t saved to $f\")\n",
    "end;"
   ]
  },
  {
   "cell_type": "code",
   "execution_count": 21,
   "id": "07c5ad18",
   "metadata": {},
   "outputs": [],
   "source": [
    "function loadModel()\n",
    "    f = joinpath(\"./RL_models/\", \"vtol_2D_ppo_3100000.bson\")\n",
    "    @load f model\n",
    "    return model\n",
    "end;"
   ]
  },
  {
   "cell_type": "code",
   "execution_count": 22,
   "id": "f3c1858c",
   "metadata": {},
   "outputs": [],
   "source": [
    "function validate_policy(t, agent, env)\n",
    "    run(agent.policy, test_env, StopAfterEpisode(1), episode_test_reward_hook)\n",
    "    # the result of the hook\n",
    "    println(\"test reward at step $t: $(mean(episode_test_reward_hook.rewards))\")\n",
    "    \n",
    "end;\n",
    "\n",
    "episode_test_reward_hook = TotalRewardPerEpisode(;is_display_on_exit=false)\n",
    "# create a env only for reward test\n",
    "test_env = VtolEnv(;name = \"testVTOL\", visualization = true, realtime = true);"
   ]
  },
  {
   "cell_type": "code",
   "execution_count": 23,
   "id": "fdc71a8d",
   "metadata": {},
   "outputs": [],
   "source": [
    "#agent.policy.approximator = loadModel();"
   ]
  },
  {
   "cell_type": "code",
   "execution_count": 24,
   "id": "bb737010",
   "metadata": {},
   "outputs": [
    {
     "name": "stderr",
     "output_type": "stream",
     "text": [
      "\u001b[32mProgress:   0%|▏                                        |  ETA: 9:18:02\u001b[39mm:05\u001b[39m"
     ]
    },
    {
     "name": "stdout",
     "output_type": "stream",
     "text": [
      "test reward at step 10000: -12584.921437776768\n"
     ]
    },
    {
     "name": "stderr",
     "output_type": "stream",
     "text": [
      "\u001b[32mProgress:   0%|▎                                        |  ETA: 5:35:03\u001b[39m"
     ]
    },
    {
     "name": "stdout",
     "output_type": "stream",
     "text": [
      "test reward at step 20000: -10693.72546053047\n"
     ]
    },
    {
     "name": "stderr",
     "output_type": "stream",
     "text": [
      "\u001b[32mProgress:   1%|▎                                        |  ETA: 3:45:02\u001b[39m"
     ]
    },
    {
     "name": "stdout",
     "output_type": "stream",
     "text": [
      "test reward at step 30000: -7798.624565501198\n"
     ]
    },
    {
     "name": "stderr",
     "output_type": "stream",
     "text": [
      "\u001b[32mProgress:   1%|▍                                        |  ETA: 3:07:17\u001b[39m"
     ]
    },
    {
     "name": "stdout",
     "output_type": "stream",
     "text": [
      "test reward at step 40000: -9119.218941564683\n"
     ]
    },
    {
     "name": "stderr",
     "output_type": "stream",
     "text": [
      "\u001b[32mProgress:   1%|▌                                        |  ETA: 2:33:11\u001b[39m"
     ]
    },
    {
     "name": "stdout",
     "output_type": "stream",
     "text": [
      "test reward at step 50000: -9777.455929679714\n"
     ]
    },
    {
     "name": "stderr",
     "output_type": "stream",
     "text": [
      "\u001b[32mProgress:   1%|▋                                        |  ETA: 2:17:33\u001b[39m"
     ]
    },
    {
     "name": "stdout",
     "output_type": "stream",
     "text": [
      "test reward at step 60000: -10231.002680327327\n"
     ]
    },
    {
     "name": "stderr",
     "output_type": "stream",
     "text": [
      "\u001b[32mProgress:   2%|▊                                        |  ETA: 2:05:32\u001b[39m"
     ]
    },
    {
     "name": "stdout",
     "output_type": "stream",
     "text": [
      "test reward at step 70000: -10037.288565646491\n"
     ]
    },
    {
     "name": "stderr",
     "output_type": "stream",
     "text": [
      "\u001b[32mProgress:   2%|▊                                        |  ETA: 1:54:03\u001b[39m"
     ]
    },
    {
     "name": "stdout",
     "output_type": "stream",
     "text": [
      "test reward at step 80000: -10929.917939571907\n"
     ]
    },
    {
     "name": "stderr",
     "output_type": "stream",
     "text": [
      "\u001b[32mProgress:   2%|▉                                        |  ETA: 1:44:34\u001b[39m"
     ]
    },
    {
     "name": "stdout",
     "output_type": "stream",
     "text": [
      "test reward at step 90000: -10314.13321197564\n"
     ]
    },
    {
     "name": "stderr",
     "output_type": "stream",
     "text": [
      "\u001b[32mProgress:   2%|█                                        |  ETA: 1:38:56\u001b[39m"
     ]
    },
    {
     "name": "stdout",
     "output_type": "stream",
     "text": [
      "parameters at step 100000 saved to ./RL_models/vtol_2D_ppo_100000.bson\n",
      "test reward at step 100000: -10121.591134495637\n"
     ]
    },
    {
     "name": "stderr",
     "output_type": "stream",
     "text": [
      "\u001b[32mProgress:   3%|█▏                                       |  ETA: 1:37:27\u001b[39m"
     ]
    },
    {
     "name": "stdout",
     "output_type": "stream",
     "text": [
      "test reward at step 110000: -9370.507217744016\n"
     ]
    },
    {
     "name": "stderr",
     "output_type": "stream",
     "text": [
      "\u001b[32mProgress:   3%|█▎                                       |  ETA: 1:33:32\u001b[39m"
     ]
    },
    {
     "name": "stdout",
     "output_type": "stream",
     "text": [
      "test reward at step 120000: -9171.993759153645\n"
     ]
    },
    {
     "name": "stderr",
     "output_type": "stream",
     "text": [
      "\u001b[32mProgress:   3%|█▍                                       |  ETA: 1:29:59\u001b[39m"
     ]
    },
    {
     "name": "stdout",
     "output_type": "stream",
     "text": [
      "test reward at step 130000: -8919.533683236139\n"
     ]
    },
    {
     "name": "stderr",
     "output_type": "stream",
     "text": [
      "\u001b[32mProgress:   3%|█▍                                       |  ETA: 1:25:19\u001b[39m"
     ]
    },
    {
     "name": "stdout",
     "output_type": "stream",
     "text": [
      "test reward at step 140000: -9242.050392575316\n"
     ]
    },
    {
     "name": "stderr",
     "output_type": "stream",
     "text": [
      "\u001b[32mProgress:   4%|█▌                                       |  ETA: 1:23:27\u001b[39m"
     ]
    },
    {
     "name": "stdout",
     "output_type": "stream",
     "text": [
      "test reward at step 150000: -8967.796651454679\n"
     ]
    },
    {
     "name": "stderr",
     "output_type": "stream",
     "text": [
      "\u001b[32mProgress:   4%|█▋                                       |  ETA: 1:21:39\u001b[39m"
     ]
    },
    {
     "name": "stdout",
     "output_type": "stream",
     "text": [
      "test reward at step 160000: -9221.893331400905\n"
     ]
    },
    {
     "name": "stderr",
     "output_type": "stream",
     "text": [
      "\u001b[32mProgress:   4%|█▊                                       |  ETA: 1:18:45\u001b[39m"
     ]
    },
    {
     "name": "stdout",
     "output_type": "stream",
     "text": [
      "test reward at step 170000: -9077.905767152408\n"
     ]
    },
    {
     "name": "stderr",
     "output_type": "stream",
     "text": [
      "\u001b[32mProgress:   4%|█▉                                       |  ETA: 1:15:42\u001b[39m"
     ]
    },
    {
     "name": "stdout",
     "output_type": "stream",
     "text": [
      "test reward at step 180000: -8912.37866335991\n"
     ]
    },
    {
     "name": "stderr",
     "output_type": "stream",
     "text": [
      "\u001b[32mProgress:   5%|██                                       |  ETA: 1:14:25\u001b[39m"
     ]
    },
    {
     "name": "stdout",
     "output_type": "stream",
     "text": [
      "test reward at step 190000: -8844.206417004234\n"
     ]
    },
    {
     "name": "stderr",
     "output_type": "stream",
     "text": [
      "\u001b[32mProgress:   5%|██                                       |  ETA: 1:12:07\u001b[39m"
     ]
    },
    {
     "name": "stdout",
     "output_type": "stream",
     "text": [
      "parameters at step 200000 saved to ./RL_models/vtol_2D_ppo_200000.bson\n",
      "test reward at step 200000: -8760.374824945971\n"
     ]
    },
    {
     "name": "stderr",
     "output_type": "stream",
     "text": [
      "\u001b[32mProgress:   5%|██▏                                      |  ETA: 1:10:22\u001b[39m"
     ]
    },
    {
     "name": "stdout",
     "output_type": "stream",
     "text": [
      "test reward at step 210000: -8706.328984666321\n"
     ]
    },
    {
     "name": "stderr",
     "output_type": "stream",
     "text": [
      "\u001b[32mProgress:   5%|██▎                                      |  ETA: 1:08:17\u001b[39m"
     ]
    },
    {
     "name": "stdout",
     "output_type": "stream",
     "text": [
      "test reward at step 220000: -8242.957984302811\n"
     ]
    },
    {
     "name": "stderr",
     "output_type": "stream",
     "text": [
      "\u001b[32mProgress:   6%|██▍                                      |  ETA: 1:06:48\u001b[39m"
     ]
    },
    {
     "name": "stdout",
     "output_type": "stream",
     "text": [
      "test reward at step 230000: -8285.36079713005\n"
     ]
    },
    {
     "name": "stderr",
     "output_type": "stream",
     "text": [
      "\u001b[32mProgress:   6%|██▌                                      |  ETA: 1:06:15\u001b[39m"
     ]
    },
    {
     "name": "stdout",
     "output_type": "stream",
     "text": [
      "test reward at step 240000: -8443.8251670021\n"
     ]
    },
    {
     "name": "stderr",
     "output_type": "stream",
     "text": [
      "\u001b[32mProgress:   6%|██▌                                      |  ETA: 1:05:16\u001b[39m"
     ]
    },
    {
     "name": "stdout",
     "output_type": "stream",
     "text": [
      "test reward at step 250000: -8786.070856226677\n"
     ]
    },
    {
     "name": "stderr",
     "output_type": "stream",
     "text": [
      "\u001b[32mProgress:   6%|██▋                                      |  ETA: 1:04:29\u001b[39m"
     ]
    },
    {
     "name": "stdout",
     "output_type": "stream",
     "text": [
      "test reward at step 260000: -8727.099359550386\n"
     ]
    },
    {
     "name": "stderr",
     "output_type": "stream",
     "text": [
      "\u001b[32mProgress:   7%|██▊                                      |  ETA: 1:03:18\u001b[39m"
     ]
    },
    {
     "name": "stdout",
     "output_type": "stream",
     "text": [
      "test reward at step 270000: -8699.815541151122\n"
     ]
    },
    {
     "name": "stderr",
     "output_type": "stream",
     "text": [
      "\u001b[32mProgress:   7%|██▉                                      |  ETA: 1:02:27\u001b[39m"
     ]
    },
    {
     "name": "stdout",
     "output_type": "stream",
     "text": [
      "test reward at step 280000: -8492.953825054186\n"
     ]
    },
    {
     "name": "stderr",
     "output_type": "stream",
     "text": [
      "\u001b[32mProgress:   7%|███                                      |  ETA: 1:01:09\u001b[39m"
     ]
    },
    {
     "name": "stdout",
     "output_type": "stream",
     "text": [
      "test reward at step 290000: -8460.169819181017\n"
     ]
    },
    {
     "name": "stderr",
     "output_type": "stream",
     "text": [
      "\u001b[32mProgress:   7%|███▏                                     |  ETA: 1:00:12\u001b[39m"
     ]
    },
    {
     "name": "stdout",
     "output_type": "stream",
     "text": [
      "parameters at step 300000 saved to ./RL_models/vtol_2D_ppo_300000.bson\n",
      "test reward at step 300000: -8495.71783357255\n"
     ]
    },
    {
     "name": "stderr",
     "output_type": "stream",
     "text": [
      "\u001b[32mProgress:   8%|███▏                                     |  ETA: 0:59:16\u001b[39m"
     ]
    },
    {
     "name": "stdout",
     "output_type": "stream",
     "text": [
      "test reward at step 310000: -8442.496197659706\n"
     ]
    },
    {
     "name": "stderr",
     "output_type": "stream",
     "text": [
      "\u001b[32mProgress:   8%|███▎                                     |  ETA: 0:59:27\u001b[39m"
     ]
    },
    {
     "name": "stdout",
     "output_type": "stream",
     "text": [
      "test reward at step 320000: -8716.485824474757\n"
     ]
    },
    {
     "name": "stderr",
     "output_type": "stream",
     "text": [
      "\u001b[32mProgress:   8%|███▍                                     |  ETA: 0:58:28\u001b[39m"
     ]
    },
    {
     "name": "stdout",
     "output_type": "stream",
     "text": [
      "test reward at step 330000: -8346.402566162285\n"
     ]
    },
    {
     "name": "stderr",
     "output_type": "stream",
     "text": [
      "\u001b[32mProgress:   9%|███▌                                     |  ETA: 0:57:59\u001b[39m"
     ]
    },
    {
     "name": "stdout",
     "output_type": "stream",
     "text": [
      "test reward at step 340000: -8452.128429085931\n"
     ]
    },
    {
     "name": "stderr",
     "output_type": "stream",
     "text": [
      "\u001b[32mProgress:   9%|███▋                                     |  ETA: 0:57:10\u001b[39m"
     ]
    },
    {
     "name": "stdout",
     "output_type": "stream",
     "text": [
      "test reward at step 350000: -8466.140404616404\n"
     ]
    },
    {
     "name": "stderr",
     "output_type": "stream",
     "text": [
      "\u001b[32mProgress:   9%|███▋                                     |  ETA: 0:56:56\u001b[39m"
     ]
    },
    {
     "name": "stdout",
     "output_type": "stream",
     "text": [
      "test reward at step 360000: -8465.648405038635\n"
     ]
    },
    {
     "name": "stderr",
     "output_type": "stream",
     "text": [
      "\u001b[32mProgress:   9%|███▊                                     |  ETA: 0:56:08\u001b[39m"
     ]
    },
    {
     "name": "stdout",
     "output_type": "stream",
     "text": [
      "test reward at step 370000: -8471.773512051866\n"
     ]
    },
    {
     "name": "stderr",
     "output_type": "stream",
     "text": [
      "\u001b[32mProgress:   9%|███▉                                     |  ETA: 0:55:35\u001b[39m"
     ]
    },
    {
     "name": "stdout",
     "output_type": "stream",
     "text": [
      "test reward at step 380000: -8428.166928779787\n"
     ]
    },
    {
     "name": "stderr",
     "output_type": "stream",
     "text": [
      "\u001b[32mProgress:  10%|████                                     |  ETA: 0:55:02\u001b[39m"
     ]
    },
    {
     "name": "stdout",
     "output_type": "stream",
     "text": [
      "test reward at step 390000: -8476.703306885714\n"
     ]
    },
    {
     "name": "stderr",
     "output_type": "stream",
     "text": [
      "\u001b[32mProgress:  10%|████▏                                    |  ETA: 0:54:34\u001b[39m"
     ]
    },
    {
     "name": "stdout",
     "output_type": "stream",
     "text": [
      "parameters at step 400000 saved to ./RL_models/vtol_2D_ppo_400000.bson\n",
      "test reward at step 400000: -8532.11483894125\n"
     ]
    },
    {
     "name": "stderr",
     "output_type": "stream",
     "text": [
      "\u001b[32mProgress:  10%|████▎                                    |  ETA: 0:54:06\u001b[39m"
     ]
    },
    {
     "name": "stdout",
     "output_type": "stream",
     "text": [
      "test reward at step 410000: -8419.517794478254\n"
     ]
    },
    {
     "name": "stderr",
     "output_type": "stream",
     "text": [
      "\u001b[32mProgress:  10%|████▎                                    |  ETA: 0:53:38\u001b[39m"
     ]
    },
    {
     "name": "stdout",
     "output_type": "stream",
     "text": [
      "test reward at step 420000: -8329.293810374547\n"
     ]
    },
    {
     "name": "stderr",
     "output_type": "stream",
     "text": [
      "\u001b[32mProgress:  11%|████▍                                    |  ETA: 0:53:11\u001b[39m"
     ]
    },
    {
     "name": "stdout",
     "output_type": "stream",
     "text": [
      "test reward at step 430000: -8330.767317386679\n"
     ]
    },
    {
     "name": "stderr",
     "output_type": "stream",
     "text": [
      "\u001b[32mProgress:  11%|████▌                                    |  ETA: 0:53:02\u001b[39m"
     ]
    },
    {
     "name": "stdout",
     "output_type": "stream",
     "text": [
      "test reward at step 440000: -8494.20625913397\n"
     ]
    },
    {
     "name": "stderr",
     "output_type": "stream",
     "text": [
      "\u001b[32mProgress:  11%|████▋                                    |  ETA: 0:52:20\u001b[39m"
     ]
    },
    {
     "name": "stdout",
     "output_type": "stream",
     "text": [
      "test reward at step 450000: -8244.788288881824\n"
     ]
    },
    {
     "name": "stderr",
     "output_type": "stream",
     "text": [
      "\u001b[32mProgress:  11%|████▊                                    |  ETA: 0:52:09\u001b[39m"
     ]
    },
    {
     "name": "stdout",
     "output_type": "stream",
     "text": [
      "test reward at step 460000: -8587.923200522093\n"
     ]
    },
    {
     "name": "stderr",
     "output_type": "stream",
     "text": [
      "\u001b[32mProgress:  12%|████▉                                    |  ETA: 0:51:47\u001b[39m"
     ]
    },
    {
     "name": "stdout",
     "output_type": "stream",
     "text": [
      "test reward at step 470000: -8842.479128324525\n"
     ]
    },
    {
     "name": "stderr",
     "output_type": "stream",
     "text": [
      "\u001b[32mProgress:  12%|████▉                                    |  ETA: 0:51:35\u001b[39m"
     ]
    },
    {
     "name": "stdout",
     "output_type": "stream",
     "text": [
      "test reward at step 480000: -8909.62594614698\n"
     ]
    },
    {
     "name": "stderr",
     "output_type": "stream",
     "text": [
      "\u001b[32mProgress:  12%|█████                                    |  ETA: 0:50:59\u001b[39m"
     ]
    },
    {
     "name": "stdout",
     "output_type": "stream",
     "text": [
      "test reward at step 490000: -9004.875853854264\n"
     ]
    },
    {
     "name": "stderr",
     "output_type": "stream",
     "text": [
      "\u001b[32mProgress:  12%|█████▏                                   |  ETA: 0:50:46\u001b[39m"
     ]
    },
    {
     "name": "stdout",
     "output_type": "stream",
     "text": [
      "parameters at step 500000 saved to ./RL_models/vtol_2D_ppo_500000.bson\n",
      "test reward at step 500000: -8948.426780671245\n"
     ]
    },
    {
     "name": "stderr",
     "output_type": "stream",
     "text": [
      "\u001b[32mProgress:  13%|█████▎                                   |  ETA: 0:50:47\u001b[39m"
     ]
    },
    {
     "name": "stdout",
     "output_type": "stream",
     "text": [
      "test reward at step 510000: -9388.255186598788\n"
     ]
    },
    {
     "name": "stderr",
     "output_type": "stream",
     "text": [
      "\u001b[32mProgress:  13%|█████▎                                   |  ETA: 0:50:32\u001b[39m"
     ]
    },
    {
     "name": "stdout",
     "output_type": "stream",
     "text": [
      "test reward at step 520000: -9528.212607721538\n"
     ]
    },
    {
     "name": "stderr",
     "output_type": "stream",
     "text": [
      "\u001b[32mProgress:  13%|█████▍                                   |  ETA: 0:50:02\u001b[39m"
     ]
    },
    {
     "name": "stdout",
     "output_type": "stream",
     "text": [
      "test reward at step 530000: -9485.890349293153\n"
     ]
    },
    {
     "name": "stderr",
     "output_type": "stream",
     "text": [
      "\u001b[32mProgress:  13%|█████▌                                   |  ETA: 0:49:43\u001b[39m"
     ]
    },
    {
     "name": "stdout",
     "output_type": "stream",
     "text": [
      "test reward at step 540000: -9607.06297072732\n"
     ]
    },
    {
     "name": "stderr",
     "output_type": "stream",
     "text": [
      "\u001b[32mProgress:  14%|█████▋                                   |  ETA: 0:49:45\u001b[39m"
     ]
    },
    {
     "name": "stdout",
     "output_type": "stream",
     "text": [
      "test reward at step 550000: -9766.331238004297\n"
     ]
    },
    {
     "name": "stderr",
     "output_type": "stream",
     "text": [
      "\u001b[32mProgress:  14%|█████▊                                   |  ETA: 0:49:23\u001b[39m"
     ]
    },
    {
     "name": "stdout",
     "output_type": "stream",
     "text": [
      "test reward at step 560000: -10035.426270472653\n"
     ]
    },
    {
     "name": "stderr",
     "output_type": "stream",
     "text": [
      "\u001b[32mProgress:  14%|█████▉                                   |  ETA: 0:49:24\u001b[39m"
     ]
    },
    {
     "name": "stdout",
     "output_type": "stream",
     "text": [
      "test reward at step 570000: -10297.691350784584\n"
     ]
    },
    {
     "name": "stderr",
     "output_type": "stream",
     "text": [
      "\u001b[32mProgress:  14%|█████▉                                   |  ETA: 0:49:21\u001b[39m"
     ]
    },
    {
     "name": "stdout",
     "output_type": "stream",
     "text": [
      "test reward at step 580000: -10552.775054776892\n"
     ]
    },
    {
     "name": "stderr",
     "output_type": "stream",
     "text": [
      "\u001b[32mProgress:  15%|██████                                   |  ETA: 0:49:15\u001b[39m"
     ]
    },
    {
     "name": "stdout",
     "output_type": "stream",
     "text": [
      "test reward at step 590000: -10501.88415070551\n"
     ]
    },
    {
     "name": "stderr",
     "output_type": "stream",
     "text": [
      "\u001b[32mProgress:  15%|██████▏                                  |  ETA: 0:49:07\u001b[39m"
     ]
    },
    {
     "name": "stdout",
     "output_type": "stream",
     "text": [
      "parameters at step 600000 saved to ./RL_models/vtol_2D_ppo_600000.bson\n",
      "test reward at step 600000: -10307.23294652283\n"
     ]
    },
    {
     "name": "stderr",
     "output_type": "stream",
     "text": [
      "\u001b[32mProgress:  15%|██████▎                                  |  ETA: 0:48:42\u001b[39m"
     ]
    },
    {
     "name": "stdout",
     "output_type": "stream",
     "text": [
      "test reward at step 610000: -10403.876338069265\n"
     ]
    },
    {
     "name": "stderr",
     "output_type": "stream",
     "text": [
      "\u001b[32mProgress:  15%|██████▍                                  |  ETA: 0:48:39\u001b[39m"
     ]
    },
    {
     "name": "stdout",
     "output_type": "stream",
     "text": [
      "test reward at step 620000: -10551.261734774052\n"
     ]
    },
    {
     "name": "stderr",
     "output_type": "stream",
     "text": [
      "\u001b[32mProgress:  16%|██████▌                                  |  ETA: 0:48:22\u001b[39m"
     ]
    },
    {
     "name": "stdout",
     "output_type": "stream",
     "text": [
      "test reward at step 630000: -10934.293567801507\n"
     ]
    },
    {
     "name": "stderr",
     "output_type": "stream",
     "text": [
      "\u001b[32mProgress:  16%|██████▌                                  |  ETA: 0:48:21\u001b[39m"
     ]
    },
    {
     "name": "stdout",
     "output_type": "stream",
     "text": [
      "test reward at step 640000: -11056.379672750452\n"
     ]
    },
    {
     "name": "stderr",
     "output_type": "stream",
     "text": [
      "\u001b[32mProgress:  16%|██████▋                                  |  ETA: 0:48:19\u001b[39m"
     ]
    },
    {
     "name": "stdout",
     "output_type": "stream",
     "text": [
      "test reward at step 650000: -11083.00384107518\n"
     ]
    },
    {
     "name": "stderr",
     "output_type": "stream",
     "text": [
      "\u001b[32mProgress:  16%|██████▊                                  |  ETA: 0:47:58\u001b[39m"
     ]
    },
    {
     "name": "stdout",
     "output_type": "stream",
     "text": [
      "test reward at step 660000: -11484.063769453598\n"
     ]
    },
    {
     "name": "stderr",
     "output_type": "stream",
     "text": [
      "\u001b[32mProgress:  17%|██████▉                                  |  ETA: 0:47:48\u001b[39m"
     ]
    },
    {
     "name": "stdout",
     "output_type": "stream",
     "text": [
      "test reward at step 670000: -11622.734858294774\n"
     ]
    },
    {
     "name": "stderr",
     "output_type": "stream",
     "text": [
      "\u001b[32mProgress:  17%|███████                                  |  ETA: 0:47:41\u001b[39m"
     ]
    },
    {
     "name": "stdout",
     "output_type": "stream",
     "text": [
      "test reward at step 680000: -11685.932574515951\n"
     ]
    },
    {
     "name": "stderr",
     "output_type": "stream",
     "text": [
      "\u001b[32mProgress:  17%|███████▏                                 |  ETA: 0:47:44\u001b[39m"
     ]
    },
    {
     "name": "stdout",
     "output_type": "stream",
     "text": [
      "test reward at step 690000: -11735.72484511839\n"
     ]
    },
    {
     "name": "stderr",
     "output_type": "stream",
     "text": [
      "\u001b[32mProgress:  17%|███████▏                                 |  ETA: 0:47:20\u001b[39m"
     ]
    },
    {
     "name": "stdout",
     "output_type": "stream",
     "text": [
      "parameters at step 700000 saved to ./RL_models/vtol_2D_ppo_700000.bson\n",
      "test reward at step 700000: -11725.422119254607\n"
     ]
    },
    {
     "name": "stderr",
     "output_type": "stream",
     "text": [
      "\u001b[32mProgress:  18%|███████▎                                 |  ETA: 0:47:02\u001b[39m"
     ]
    },
    {
     "name": "stdout",
     "output_type": "stream",
     "text": [
      "test reward at step 710000: -11682.909745025558\n"
     ]
    },
    {
     "name": "stderr",
     "output_type": "stream",
     "text": [
      "\u001b[32mProgress:  18%|███████▍                                 |  ETA: 0:46:43\u001b[39m"
     ]
    },
    {
     "name": "stdout",
     "output_type": "stream",
     "text": [
      "test reward at step 720000: -11698.14352891788\n"
     ]
    },
    {
     "name": "stderr",
     "output_type": "stream",
     "text": [
      "\u001b[32mProgress:  18%|███████▌                                 |  ETA: 0:46:32\u001b[39m"
     ]
    },
    {
     "name": "stdout",
     "output_type": "stream",
     "text": [
      "test reward at step 730000: -11678.724951738977\n"
     ]
    },
    {
     "name": "stderr",
     "output_type": "stream",
     "text": [
      "\u001b[32mProgress:  18%|███████▋                                 |  ETA: 0:46:16\u001b[39m"
     ]
    },
    {
     "name": "stdout",
     "output_type": "stream",
     "text": [
      "test reward at step 740000: -11596.986666834693\n"
     ]
    },
    {
     "name": "stderr",
     "output_type": "stream",
     "text": [
      "\u001b[32mProgress:  19%|███████▋                                 |  ETA: 0:46:00\u001b[39m"
     ]
    },
    {
     "name": "stdout",
     "output_type": "stream",
     "text": [
      "test reward at step 750000: -11443.911571953\n"
     ]
    },
    {
     "name": "stderr",
     "output_type": "stream",
     "text": [
      "\u001b[32mProgress:  19%|███████▊                                 |  ETA: 0:45:58\u001b[39m"
     ]
    },
    {
     "name": "stdout",
     "output_type": "stream",
     "text": [
      "test reward at step 760000: -11433.739885260025\n"
     ]
    },
    {
     "name": "stderr",
     "output_type": "stream",
     "text": [
      "\u001b[32mProgress:  19%|███████▉                                 |  ETA: 0:45:41\u001b[39m"
     ]
    },
    {
     "name": "stdout",
     "output_type": "stream",
     "text": [
      "test reward at step 770000: -11430.035359402267\n"
     ]
    },
    {
     "name": "stderr",
     "output_type": "stream",
     "text": [
      "\u001b[32mProgress:  19%|████████                                 |  ETA: 0:45:36\u001b[39m"
     ]
    },
    {
     "name": "stdout",
     "output_type": "stream",
     "text": [
      "test reward at step 780000: -11456.821910066235\n"
     ]
    },
    {
     "name": "stderr",
     "output_type": "stream",
     "text": [
      "\u001b[32mProgress:  20%|████████▏                                |  ETA: 0:45:39\u001b[39m"
     ]
    },
    {
     "name": "stdout",
     "output_type": "stream",
     "text": [
      "test reward at step 790000: -11411.564110836678\n"
     ]
    },
    {
     "name": "stderr",
     "output_type": "stream",
     "text": [
      "\u001b[32mProgress:  20%|████████▏                                |  ETA: 0:45:32\u001b[39m"
     ]
    },
    {
     "name": "stdout",
     "output_type": "stream",
     "text": [
      "parameters at step 800000 saved to ./RL_models/vtol_2D_ppo_800000.bson\n",
      "test reward at step 800000: -11481.3542304966\n"
     ]
    },
    {
     "name": "stderr",
     "output_type": "stream",
     "text": [
      "\u001b[32mProgress:  20%|████████▎                                |  ETA: 0:45:39\u001b[39m"
     ]
    },
    {
     "name": "stdout",
     "output_type": "stream",
     "text": [
      "test reward at step 810000: -11328.686248425933\n"
     ]
    },
    {
     "name": "stderr",
     "output_type": "stream",
     "text": [
      "\u001b[32mProgress:  20%|████████▍                                |  ETA: 0:45:15\u001b[39m"
     ]
    },
    {
     "name": "stdout",
     "output_type": "stream",
     "text": [
      "test reward at step 820000: -11422.664753034473\n"
     ]
    },
    {
     "name": "stderr",
     "output_type": "stream",
     "text": [
      "\u001b[32mProgress:  21%|████████▌                                |  ETA: 0:45:03\u001b[39m"
     ]
    },
    {
     "name": "stdout",
     "output_type": "stream",
     "text": [
      "test reward at step 830000: -11391.719637716838\n"
     ]
    },
    {
     "name": "stderr",
     "output_type": "stream",
     "text": [
      "\u001b[32mProgress:  21%|████████▋                                |  ETA: 0:44:51\u001b[39m"
     ]
    },
    {
     "name": "stdout",
     "output_type": "stream",
     "text": [
      "test reward at step 840000: -11754.574504778438\n"
     ]
    },
    {
     "name": "stderr",
     "output_type": "stream",
     "text": [
      "\u001b[32mProgress:  21%|████████▊                                |  ETA: 0:44:49\u001b[39m"
     ]
    },
    {
     "name": "stdout",
     "output_type": "stream",
     "text": [
      "test reward at step 850000: -12219.516800854646\n"
     ]
    },
    {
     "name": "stderr",
     "output_type": "stream",
     "text": [
      "\u001b[32mProgress:  21%|████████▊                                |  ETA: 0:44:46\u001b[39m"
     ]
    },
    {
     "name": "stdout",
     "output_type": "stream",
     "text": [
      "test reward at step 860000: -12261.485907974742\n"
     ]
    },
    {
     "name": "stderr",
     "output_type": "stream",
     "text": [
      "\u001b[32mProgress:  22%|████████▉                                |  ETA: 0:44:41\u001b[39m"
     ]
    },
    {
     "name": "stdout",
     "output_type": "stream",
     "text": [
      "test reward at step 870000: -12274.797939300412\n"
     ]
    },
    {
     "name": "stderr",
     "output_type": "stream",
     "text": [
      "\u001b[32mProgress:  22%|█████████                                |  ETA: 0:44:32\u001b[39m"
     ]
    },
    {
     "name": "stdout",
     "output_type": "stream",
     "text": [
      "test reward at step 880000: -12397.997374040726\n"
     ]
    },
    {
     "name": "stderr",
     "output_type": "stream",
     "text": [
      "\u001b[32mProgress:  22%|█████████▏                               |  ETA: 0:44:27\u001b[39m"
     ]
    },
    {
     "name": "stdout",
     "output_type": "stream",
     "text": [
      "test reward at step 890000: -12359.859899712064\n"
     ]
    },
    {
     "name": "stderr",
     "output_type": "stream",
     "text": [
      "\u001b[32mProgress:  22%|█████████▎                               |  ETA: 0:44:28\u001b[39m"
     ]
    },
    {
     "name": "stdout",
     "output_type": "stream",
     "text": [
      "parameters at step 900000 saved to ./RL_models/vtol_2D_ppo_900000.bson\n",
      "test reward at step 900000: -12422.395994468647\n"
     ]
    },
    {
     "name": "stderr",
     "output_type": "stream",
     "text": [
      "\u001b[32mProgress:  23%|█████████▍                               |  ETA: 0:44:15\u001b[39m"
     ]
    },
    {
     "name": "stdout",
     "output_type": "stream",
     "text": [
      "test reward at step 910000: -12353.113741072837\n"
     ]
    },
    {
     "name": "stderr",
     "output_type": "stream",
     "text": [
      "\u001b[32mProgress:  23%|█████████▍                               |  ETA: 0:44:13\u001b[39m"
     ]
    },
    {
     "name": "stdout",
     "output_type": "stream",
     "text": [
      "test reward at step 920000: -12298.930648412084\n"
     ]
    },
    {
     "name": "stderr",
     "output_type": "stream",
     "text": [
      "\u001b[32mProgress:  23%|█████████▌                               |  ETA: 0:44:09\u001b[39m"
     ]
    },
    {
     "name": "stdout",
     "output_type": "stream",
     "text": [
      "test reward at step 930000: -12137.59808562519\n"
     ]
    },
    {
     "name": "stderr",
     "output_type": "stream",
     "text": [
      "\u001b[32mProgress:  23%|█████████▋                               |  ETA: 0:43:50\u001b[39m"
     ]
    },
    {
     "name": "stdout",
     "output_type": "stream",
     "text": [
      "test reward at step 940000: -12065.667363159824\n"
     ]
    },
    {
     "name": "stderr",
     "output_type": "stream",
     "text": [
      "\u001b[32mProgress:  24%|█████████▊                               |  ETA: 0:43:46\u001b[39m"
     ]
    },
    {
     "name": "stdout",
     "output_type": "stream",
     "text": [
      "test reward at step 950000: -12175.350660181866\n"
     ]
    },
    {
     "name": "stderr",
     "output_type": "stream",
     "text": [
      "\u001b[32mProgress:  24%|█████████▉                               |  ETA: 0:43:54\u001b[39m"
     ]
    },
    {
     "name": "stdout",
     "output_type": "stream",
     "text": [
      "test reward at step 960000: -12057.849979619648\n"
     ]
    },
    {
     "name": "stderr",
     "output_type": "stream",
     "text": [
      "\u001b[32mProgress:  24%|██████████                               |  ETA: 0:43:44\u001b[39m"
     ]
    },
    {
     "name": "stdout",
     "output_type": "stream",
     "text": [
      "test reward at step 970000: -12089.547432105546\n"
     ]
    },
    {
     "name": "stderr",
     "output_type": "stream",
     "text": [
      "\u001b[32mProgress:  24%|██████████                               |  ETA: 0:43:23\u001b[39m"
     ]
    },
    {
     "name": "stdout",
     "output_type": "stream",
     "text": [
      "test reward at step 980000: -12094.55179860012\n"
     ]
    },
    {
     "name": "stderr",
     "output_type": "stream",
     "text": [
      "\u001b[32mProgress:  25%|██████████▏                              |  ETA: 0:43:06\u001b[39m"
     ]
    },
    {
     "name": "stdout",
     "output_type": "stream",
     "text": [
      "test reward at step 990000: -11961.107007198812\n"
     ]
    },
    {
     "name": "stderr",
     "output_type": "stream",
     "text": [
      "\u001b[32mProgress:  25%|██████████▎                              |  ETA: 0:43:02\u001b[39m"
     ]
    },
    {
     "name": "stdout",
     "output_type": "stream",
     "text": [
      "parameters at step 1000000 saved to ./RL_models/vtol_2D_ppo_1000000.bson\n",
      "test reward at step 1000000: -12089.861564077626\n"
     ]
    },
    {
     "name": "stderr",
     "output_type": "stream",
     "text": [
      "\u001b[32mProgress:  25%|██████████▍                              |  ETA: 0:43:04\u001b[39m"
     ]
    },
    {
     "name": "stdout",
     "output_type": "stream",
     "text": [
      "test reward at step 1010000: -12026.128643965523\n"
     ]
    },
    {
     "name": "stderr",
     "output_type": "stream",
     "text": [
      "\u001b[32mProgress:  25%|██████████▌                              |  ETA: 0:42:56\u001b[39m"
     ]
    },
    {
     "name": "stdout",
     "output_type": "stream",
     "text": [
      "test reward at step 1020000: -12054.663026475213\n"
     ]
    },
    {
     "name": "stderr",
     "output_type": "stream",
     "text": [
      "\u001b[32mProgress:  26%|██████████▌                              |  ETA: 0:42:50\u001b[39m"
     ]
    },
    {
     "name": "stdout",
     "output_type": "stream",
     "text": [
      "test reward at step 1030000: -12211.539327027354\n"
     ]
    },
    {
     "name": "stderr",
     "output_type": "stream",
     "text": [
      "\u001b[32mProgress:  26%|██████████▋                              |  ETA: 0:42:45\u001b[39m"
     ]
    },
    {
     "name": "stdout",
     "output_type": "stream",
     "text": [
      "test reward at step 1040000: -12488.484775877474\n"
     ]
    },
    {
     "name": "stderr",
     "output_type": "stream",
     "text": [
      "\u001b[32mProgress:  26%|██████████▊                              |  ETA: 0:42:44\u001b[39m"
     ]
    },
    {
     "name": "stdout",
     "output_type": "stream",
     "text": [
      "test reward at step 1050000: -12376.011228761288\n"
     ]
    },
    {
     "name": "stderr",
     "output_type": "stream",
     "text": [
      "\u001b[32mProgress:  27%|██████████▉                              |  ETA: 0:42:49\u001b[39m"
     ]
    },
    {
     "name": "stdout",
     "output_type": "stream",
     "text": [
      "test reward at step 1060000: -12229.995864936609\n"
     ]
    },
    {
     "name": "stderr",
     "output_type": "stream",
     "text": [
      "\u001b[32mProgress:  27%|███████████                              |  ETA: 0:42:40\u001b[39m"
     ]
    },
    {
     "name": "stdout",
     "output_type": "stream",
     "text": [
      "test reward at step 1070000: -12322.465920227069\n"
     ]
    },
    {
     "name": "stderr",
     "output_type": "stream",
     "text": [
      "\u001b[32mProgress:  27%|███████████                              |  ETA: 0:42:22\u001b[39m"
     ]
    },
    {
     "name": "stdout",
     "output_type": "stream",
     "text": [
      "test reward at step 1080000: -12254.007299015551\n"
     ]
    },
    {
     "name": "stderr",
     "output_type": "stream",
     "text": [
      "\u001b[32mProgress:  27%|███████████▏                             |  ETA: 0:42:18\u001b[39m"
     ]
    },
    {
     "name": "stdout",
     "output_type": "stream",
     "text": [
      "test reward at step 1090000: -12368.345958163573\n"
     ]
    },
    {
     "name": "stderr",
     "output_type": "stream",
     "text": [
      "\u001b[32mProgress:  27%|███████████▎                             |  ETA: 0:42:10\u001b[39m"
     ]
    },
    {
     "name": "stdout",
     "output_type": "stream",
     "text": [
      "parameters at step 1100000 saved to ./RL_models/vtol_2D_ppo_1100000.bson\n",
      "test reward at step 1100000: -12254.526306423595\n"
     ]
    },
    {
     "name": "stderr",
     "output_type": "stream",
     "text": [
      "\u001b[32mProgress:  28%|███████████▍                             |  ETA: 0:41:56\u001b[39m"
     ]
    },
    {
     "name": "stdout",
     "output_type": "stream",
     "text": [
      "test reward at step 1110000: -12137.41548876103\n"
     ]
    },
    {
     "name": "stderr",
     "output_type": "stream",
     "text": [
      "\u001b[32mProgress:  28%|███████████▌                             |  ETA: 0:41:55\u001b[39m"
     ]
    },
    {
     "name": "stdout",
     "output_type": "stream",
     "text": [
      "test reward at step 1120000: -12065.754485784719\n"
     ]
    },
    {
     "name": "stderr",
     "output_type": "stream",
     "text": [
      "\u001b[32mProgress:  28%|███████████▋                             |  ETA: 0:41:50\u001b[39m"
     ]
    },
    {
     "name": "stdout",
     "output_type": "stream",
     "text": [
      "test reward at step 1130000: -12101.735377863051\n"
     ]
    },
    {
     "name": "stderr",
     "output_type": "stream",
     "text": [
      "\u001b[32mProgress:  28%|███████████▋                             |  ETA: 0:41:44\u001b[39m"
     ]
    },
    {
     "name": "stdout",
     "output_type": "stream",
     "text": [
      "test reward at step 1140000: -12015.104332382958\n"
     ]
    },
    {
     "name": "stderr",
     "output_type": "stream",
     "text": [
      "\u001b[32mProgress:  29%|███████████▊                             |  ETA: 0:41:35\u001b[39m"
     ]
    },
    {
     "name": "stdout",
     "output_type": "stream",
     "text": [
      "test reward at step 1150000: -11903.250062237978\n"
     ]
    },
    {
     "name": "stderr",
     "output_type": "stream",
     "text": [
      "\u001b[32mProgress:  29%|███████████▉                             |  ETA: 0:41:18\u001b[39m"
     ]
    },
    {
     "name": "stdout",
     "output_type": "stream",
     "text": [
      "test reward at step 1160000: -12046.594836249013\n"
     ]
    },
    {
     "name": "stderr",
     "output_type": "stream",
     "text": [
      "\u001b[32mProgress:  29%|████████████                             |  ETA: 0:41:12\u001b[39m"
     ]
    },
    {
     "name": "stdout",
     "output_type": "stream",
     "text": [
      "test reward at step 1170000: -12090.516415600794\n"
     ]
    },
    {
     "name": "stderr",
     "output_type": "stream",
     "text": [
      "\u001b[32mProgress:  29%|████████████▏                            |  ETA: 0:40:56\u001b[39m"
     ]
    },
    {
     "name": "stdout",
     "output_type": "stream",
     "text": [
      "test reward at step 1180000: -11981.27914107127\n"
     ]
    },
    {
     "name": "stderr",
     "output_type": "stream",
     "text": [
      "\u001b[32mProgress:  30%|████████████▏                            |  ETA: 0:40:44\u001b[39m"
     ]
    },
    {
     "name": "stdout",
     "output_type": "stream",
     "text": [
      "test reward at step 1190000: -11940.866191765377\n"
     ]
    },
    {
     "name": "stderr",
     "output_type": "stream",
     "text": [
      "\u001b[32mProgress:  30%|████████████▎                            |  ETA: 0:40:40\u001b[39m"
     ]
    },
    {
     "name": "stdout",
     "output_type": "stream",
     "text": [
      "parameters at step 1200000 saved to ./RL_models/vtol_2D_ppo_1200000.bson\n"
     ]
    },
    {
     "name": "stderr",
     "output_type": "stream",
     "text": [
      "\r",
      "\u001b[32mProgress:  30%|████████████▎                            |  ETA: 0:40:40\u001b[39m"
     ]
    },
    {
     "name": "stdout",
     "output_type": "stream",
     "text": [
      "test reward at step 1200000: -11978.302469830944\n"
     ]
    },
    {
     "name": "stderr",
     "output_type": "stream",
     "text": [
      "\u001b[32mProgress:  30%|████████████▍                            |  ETA: 0:40:22\u001b[39m"
     ]
    },
    {
     "name": "stdout",
     "output_type": "stream",
     "text": [
      "test reward at step 1210000: -11974.616356473225\n"
     ]
    },
    {
     "name": "stderr",
     "output_type": "stream",
     "text": [
      "\u001b[32mProgress:  30%|████████████▌                            |  ETA: 0:40:08\u001b[39m"
     ]
    },
    {
     "name": "stdout",
     "output_type": "stream",
     "text": [
      "test reward at step 1220000: -11967.899049534353\n"
     ]
    },
    {
     "name": "stderr",
     "output_type": "stream",
     "text": [
      "\u001b[32mProgress:  31%|████████████▋                            |  ETA: 0:39:53\u001b[39m"
     ]
    },
    {
     "name": "stdout",
     "output_type": "stream",
     "text": [
      "test reward at step 1230000: -11918.018364259002\n"
     ]
    },
    {
     "name": "stderr",
     "output_type": "stream",
     "text": [
      "\u001b[32mProgress:  31%|████████████▊                            |  ETA: 0:39:48\u001b[39m"
     ]
    },
    {
     "name": "stdout",
     "output_type": "stream",
     "text": [
      "test reward at step 1240000: -11815.783867955646\n"
     ]
    },
    {
     "name": "stderr",
     "output_type": "stream",
     "text": [
      "\u001b[32mProgress:  31%|████████████▊                            |  ETA: 0:39:36\u001b[39m"
     ]
    },
    {
     "name": "stdout",
     "output_type": "stream",
     "text": [
      "test reward at step 1250000: -11885.003165133376\n"
     ]
    },
    {
     "name": "stderr",
     "output_type": "stream",
     "text": [
      "\u001b[32mProgress:  32%|████████████▉                            |  ETA: 0:39:36\u001b[39m"
     ]
    },
    {
     "name": "stdout",
     "output_type": "stream",
     "text": [
      "test reward at step 1260000: -11866.124858857918\n"
     ]
    },
    {
     "name": "stderr",
     "output_type": "stream",
     "text": [
      "\u001b[32mProgress:  32%|█████████████                            |  ETA: 0:39:21\u001b[39m"
     ]
    },
    {
     "name": "stdout",
     "output_type": "stream",
     "text": [
      "test reward at step 1270000: -11911.02892776894\n"
     ]
    },
    {
     "name": "stderr",
     "output_type": "stream",
     "text": [
      "\u001b[32mProgress:  32%|█████████████▏                           |  ETA: 0:39:13\u001b[39m"
     ]
    },
    {
     "name": "stdout",
     "output_type": "stream",
     "text": [
      "test reward at step 1280000: -11813.624770418588\n"
     ]
    },
    {
     "name": "stderr",
     "output_type": "stream",
     "text": [
      "\u001b[32mProgress:  32%|█████████████▎                           |  ETA: 0:38:54\u001b[39m"
     ]
    },
    {
     "name": "stdout",
     "output_type": "stream",
     "text": [
      "test reward at step 1290000: -11731.367934952967\n"
     ]
    },
    {
     "name": "stderr",
     "output_type": "stream",
     "text": [
      "\u001b[32mProgress:  32%|█████████████▍                           |  ETA: 0:38:43\u001b[39m"
     ]
    },
    {
     "name": "stdout",
     "output_type": "stream",
     "text": [
      "parameters at step 1300000 saved to ./RL_models/vtol_2D_ppo_1300000.bson\n",
      "test reward at step 1300000: -11671.75480875913\n"
     ]
    },
    {
     "name": "stderr",
     "output_type": "stream",
     "text": [
      "\u001b[32mProgress:  33%|█████████████▍                           |  ETA: 0:38:40\u001b[39m"
     ]
    },
    {
     "name": "stdout",
     "output_type": "stream",
     "text": [
      "test reward at step 1310000: -11657.798844557787\n"
     ]
    },
    {
     "name": "stderr",
     "output_type": "stream",
     "text": [
      "\u001b[32mProgress:  33%|█████████████▌                           |  ETA: 0:38:27\u001b[39m"
     ]
    },
    {
     "name": "stdout",
     "output_type": "stream",
     "text": [
      "test reward at step 1320000: -11671.207191713542\n"
     ]
    },
    {
     "name": "stderr",
     "output_type": "stream",
     "text": [
      "\u001b[32mProgress:  33%|█████████████▋                           |  ETA: 0:38:15\u001b[39m"
     ]
    },
    {
     "name": "stdout",
     "output_type": "stream",
     "text": [
      "test reward at step 1330000: -11562.774341880637\n"
     ]
    },
    {
     "name": "stderr",
     "output_type": "stream",
     "text": [
      "\u001b[32mProgress:  33%|█████████████▊                           |  ETA: 0:38:00\u001b[39m"
     ]
    },
    {
     "name": "stdout",
     "output_type": "stream",
     "text": [
      "test reward at step 1340000: -11584.41355699642\n"
     ]
    },
    {
     "name": "stderr",
     "output_type": "stream",
     "text": [
      "\u001b[32mProgress:  34%|█████████████▉                           |  ETA: 0:37:45\u001b[39m"
     ]
    },
    {
     "name": "stdout",
     "output_type": "stream",
     "text": [
      "test reward at step 1350000: -11540.271208342114\n"
     ]
    },
    {
     "name": "stderr",
     "output_type": "stream",
     "text": [
      "\u001b[32mProgress:  34%|█████████████▉                           |  ETA: 0:37:40\u001b[39m"
     ]
    },
    {
     "name": "stdout",
     "output_type": "stream",
     "text": [
      "test reward at step 1360000: -11481.105080295063\n"
     ]
    },
    {
     "name": "stderr",
     "output_type": "stream",
     "text": [
      "\u001b[32mProgress:  34%|██████████████                           |  ETA: 0:37:35\u001b[39m"
     ]
    },
    {
     "name": "stdout",
     "output_type": "stream",
     "text": [
      "test reward at step 1370000: -11501.200422407637\n"
     ]
    },
    {
     "name": "stderr",
     "output_type": "stream",
     "text": [
      "\u001b[32mProgress:  34%|██████████████▏                          |  ETA: 0:37:24\u001b[39m"
     ]
    },
    {
     "name": "stdout",
     "output_type": "stream",
     "text": [
      "test reward at step 1380000: -11461.124246911088\n"
     ]
    },
    {
     "name": "stderr",
     "output_type": "stream",
     "text": [
      "\u001b[32mProgress:  35%|██████████████▎                          |  ETA: 0:37:18\u001b[39m"
     ]
    },
    {
     "name": "stdout",
     "output_type": "stream",
     "text": [
      "test reward at step 1390000: -11362.38742645965\n"
     ]
    },
    {
     "name": "stderr",
     "output_type": "stream",
     "text": [
      "\u001b[32mProgress:  35%|██████████████▍                          |  ETA: 0:37:01\u001b[39m"
     ]
    },
    {
     "name": "stdout",
     "output_type": "stream",
     "text": [
      "parameters at step 1400000 saved to ./RL_models/vtol_2D_ppo_1400000.bson\n",
      "test reward at step 1400000: -11259.143408002523\n"
     ]
    },
    {
     "name": "stderr",
     "output_type": "stream",
     "text": [
      "\u001b[32mProgress:  35%|██████████████▌                          |  ETA: 0:36:56\u001b[39m"
     ]
    },
    {
     "name": "stdout",
     "output_type": "stream",
     "text": [
      "test reward at step 1410000: -11163.980603394079\n"
     ]
    },
    {
     "name": "stderr",
     "output_type": "stream",
     "text": [
      "\u001b[32mProgress:  35%|██████████████▌                          |  ETA: 0:36:49\u001b[39m"
     ]
    },
    {
     "name": "stdout",
     "output_type": "stream",
     "text": [
      "test reward at step 1420000: -11205.75710017545\n"
     ]
    },
    {
     "name": "stderr",
     "output_type": "stream",
     "text": [
      "\u001b[32mProgress:  36%|██████████████▋                          |  ETA: 0:36:39\u001b[39m"
     ]
    },
    {
     "name": "stdout",
     "output_type": "stream",
     "text": [
      "test reward at step 1430000: -11170.678232436741\n"
     ]
    },
    {
     "name": "stderr",
     "output_type": "stream",
     "text": [
      "\u001b[32mProgress:  36%|██████████████▊                          |  ETA: 0:36:34\u001b[39m"
     ]
    },
    {
     "name": "stdout",
     "output_type": "stream",
     "text": [
      "test reward at step 1440000: -11208.93689907306\n"
     ]
    },
    {
     "name": "stderr",
     "output_type": "stream",
     "text": [
      "\u001b[32mProgress:  36%|██████████████▉                          |  ETA: 0:36:25\u001b[39m"
     ]
    },
    {
     "name": "stdout",
     "output_type": "stream",
     "text": [
      "test reward at step 1450000: -11250.607780605871\n"
     ]
    },
    {
     "name": "stderr",
     "output_type": "stream",
     "text": [
      "\u001b[32mProgress:  36%|███████████████                          |  ETA: 0:36:14\u001b[39m"
     ]
    },
    {
     "name": "stdout",
     "output_type": "stream",
     "text": [
      "test reward at step 1460000: -11295.791111384147\n"
     ]
    },
    {
     "name": "stderr",
     "output_type": "stream",
     "text": [
      "\u001b[32mProgress:  37%|███████████████                          |  ETA: 0:36:05\u001b[39m"
     ]
    },
    {
     "name": "stdout",
     "output_type": "stream",
     "text": [
      "test reward at step 1470000: -11319.42565641311\n"
     ]
    },
    {
     "name": "stderr",
     "output_type": "stream",
     "text": [
      "\u001b[32mProgress:  37%|███████████████▏                         |  ETA: 0:35:52\u001b[39m"
     ]
    },
    {
     "name": "stdout",
     "output_type": "stream",
     "text": [
      "test reward at step 1480000: -11251.410633580264\n"
     ]
    },
    {
     "name": "stderr",
     "output_type": "stream",
     "text": [
      "\u001b[32mProgress:  37%|███████████████▎                         |  ETA: 0:35:46\u001b[39m"
     ]
    },
    {
     "name": "stdout",
     "output_type": "stream",
     "text": [
      "test reward at step 1490000: -11268.57065387694\n"
     ]
    },
    {
     "name": "stderr",
     "output_type": "stream",
     "text": [
      "\u001b[32mProgress:  37%|███████████████▍                         |  ETA: 0:35:39\u001b[39m"
     ]
    },
    {
     "name": "stdout",
     "output_type": "stream",
     "text": [
      "parameters at step 1500000 saved to ./RL_models/vtol_2D_ppo_1500000.bson\n",
      "test reward at step 1500000: -11260.020517093924\n"
     ]
    },
    {
     "name": "stderr",
     "output_type": "stream",
     "text": [
      "\u001b[32mProgress:  38%|███████████████▌                         |  ETA: 0:35:26\u001b[39m"
     ]
    },
    {
     "name": "stdout",
     "output_type": "stream",
     "text": [
      "test reward at step 1510000: -11228.56256498497\n"
     ]
    },
    {
     "name": "stderr",
     "output_type": "stream",
     "text": [
      "\u001b[32mProgress:  38%|███████████████▋                         |  ETA: 0:35:20\u001b[39m"
     ]
    },
    {
     "name": "stdout",
     "output_type": "stream",
     "text": [
      "test reward at step 1520000: -11182.279684903051\n"
     ]
    },
    {
     "name": "stderr",
     "output_type": "stream",
     "text": [
      "\u001b[32mProgress:  38%|███████████████▋                         |  ETA: 0:35:09\u001b[39m"
     ]
    },
    {
     "name": "stdout",
     "output_type": "stream",
     "text": [
      "test reward at step 1530000: -11148.057720085948\n"
     ]
    },
    {
     "name": "stderr",
     "output_type": "stream",
     "text": [
      "\u001b[32mProgress:  38%|███████████████▊                         |  ETA: 0:35:00\u001b[39m"
     ]
    },
    {
     "name": "stdout",
     "output_type": "stream",
     "text": [
      "test reward at step 1540000: -11063.90818024557\n"
     ]
    },
    {
     "name": "stderr",
     "output_type": "stream",
     "text": [
      "\u001b[32mProgress:  39%|███████████████▉                         |  ETA: 0:34:45\u001b[39m"
     ]
    },
    {
     "name": "stdout",
     "output_type": "stream",
     "text": [
      "test reward at step 1550000: -11028.93581840187\n"
     ]
    },
    {
     "name": "stderr",
     "output_type": "stream",
     "text": [
      "\u001b[32mProgress:  39%|████████████████                         |  ETA: 0:34:39\u001b[39m"
     ]
    },
    {
     "name": "stdout",
     "output_type": "stream",
     "text": [
      "test reward at step 1560000: -10949.2397764128\n"
     ]
    },
    {
     "name": "stderr",
     "output_type": "stream",
     "text": [
      "\u001b[32mProgress:  39%|████████████████▏                        |  ETA: 0:34:27\u001b[39m"
     ]
    },
    {
     "name": "stdout",
     "output_type": "stream",
     "text": [
      "test reward at step 1570000: -10839.967068621583\n"
     ]
    },
    {
     "name": "stderr",
     "output_type": "stream",
     "text": [
      "\u001b[32mProgress:  39%|████████████████▎                        |  ETA: 0:34:20\u001b[39m"
     ]
    },
    {
     "name": "stdout",
     "output_type": "stream",
     "text": [
      "test reward at step 1580000: -10759.968227646075\n"
     ]
    },
    {
     "name": "stderr",
     "output_type": "stream",
     "text": [
      "\u001b[32mProgress:  40%|████████████████▎                        |  ETA: 0:34:07\u001b[39m"
     ]
    },
    {
     "name": "stdout",
     "output_type": "stream",
     "text": [
      "test reward at step 1590000: -10803.830731386834\n"
     ]
    },
    {
     "name": "stderr",
     "output_type": "stream",
     "text": [
      "\u001b[32mProgress:  40%|████████████████▍                        |  ETA: 0:33:57\u001b[39m"
     ]
    },
    {
     "name": "stdout",
     "output_type": "stream",
     "text": [
      "parameters at step 1600000 saved to ./RL_models/vtol_2D_ppo_1600000.bson\n",
      "test reward at step 1600000: -10779.217924645589\n"
     ]
    },
    {
     "name": "stderr",
     "output_type": "stream",
     "text": [
      "\u001b[32mProgress:  40%|████████████████▌                        |  ETA: 0:33:49\u001b[39m"
     ]
    },
    {
     "name": "stdout",
     "output_type": "stream",
     "text": [
      "test reward at step 1610000: -10698.094711164249\n"
     ]
    },
    {
     "name": "stderr",
     "output_type": "stream",
     "text": [
      "\u001b[32mProgress:  40%|████████████████▋                        |  ETA: 0:33:45\u001b[39m"
     ]
    },
    {
     "name": "stdout",
     "output_type": "stream",
     "text": [
      "test reward at step 1620000: -10626.434789892119\n"
     ]
    },
    {
     "name": "stderr",
     "output_type": "stream",
     "text": [
      "\u001b[32mProgress:  41%|████████████████▊                        |  ETA: 0:33:38\u001b[39m"
     ]
    },
    {
     "name": "stdout",
     "output_type": "stream",
     "text": [
      "test reward at step 1630000: -10564.492199516864\n"
     ]
    },
    {
     "name": "stderr",
     "output_type": "stream",
     "text": [
      "\u001b[32mProgress:  41%|████████████████▊                        |  ETA: 0:33:31\u001b[39m"
     ]
    },
    {
     "name": "stdout",
     "output_type": "stream",
     "text": [
      "test reward at step 1640000: -10493.616746052807\n"
     ]
    },
    {
     "name": "stderr",
     "output_type": "stream",
     "text": [
      "\u001b[32mProgress:  41%|████████████████▉                        |  ETA: 0:33:24\u001b[39m"
     ]
    },
    {
     "name": "stdout",
     "output_type": "stream",
     "text": [
      "test reward at step 1650000: -10409.653307940178\n"
     ]
    },
    {
     "name": "stderr",
     "output_type": "stream",
     "text": [
      "\u001b[32mProgress:  41%|█████████████████                        |  ETA: 0:33:13\u001b[39m"
     ]
    },
    {
     "name": "stdout",
     "output_type": "stream",
     "text": [
      "test reward at step 1660000: -10362.520977012895\n"
     ]
    },
    {
     "name": "stderr",
     "output_type": "stream",
     "text": [
      "\u001b[32mProgress:  42%|█████████████████▏                       |  ETA: 0:33:02\u001b[39m"
     ]
    },
    {
     "name": "stdout",
     "output_type": "stream",
     "text": [
      "test reward at step 1670000: -10329.901961681853\n"
     ]
    },
    {
     "name": "stderr",
     "output_type": "stream",
     "text": [
      "\u001b[32mProgress:  42%|█████████████████▎                       |  ETA: 0:32:54\u001b[39m"
     ]
    },
    {
     "name": "stdout",
     "output_type": "stream",
     "text": [
      "test reward at step 1680000: -10328.522654646456\n"
     ]
    },
    {
     "name": "stderr",
     "output_type": "stream",
     "text": [
      "\u001b[32mProgress:  42%|█████████████████▍                       |  ETA: 0:32:43\u001b[39m"
     ]
    },
    {
     "name": "stdout",
     "output_type": "stream",
     "text": [
      "test reward at step 1690000: -10292.57444307963\n"
     ]
    },
    {
     "name": "stderr",
     "output_type": "stream",
     "text": [
      "\u001b[32mProgress:  42%|█████████████████▍                       |  ETA: 0:32:34\u001b[39m"
     ]
    },
    {
     "name": "stdout",
     "output_type": "stream",
     "text": [
      "parameters at step 1700000 saved to ./RL_models/vtol_2D_ppo_1700000.bson\n",
      "test reward at step 1700000: -10265.070114727901\n"
     ]
    },
    {
     "name": "stderr",
     "output_type": "stream",
     "text": [
      "\u001b[32mProgress:  43%|█████████████████▌                       |  ETA: 0:32:26\u001b[39m"
     ]
    },
    {
     "name": "stdout",
     "output_type": "stream",
     "text": [
      "test reward at step 1710000: -10204.613276972119\n"
     ]
    },
    {
     "name": "stderr",
     "output_type": "stream",
     "text": [
      "\u001b[32mProgress:  43%|█████████████████▋                       |  ETA: 0:32:19\u001b[39m"
     ]
    },
    {
     "name": "stdout",
     "output_type": "stream",
     "text": [
      "test reward at step 1720000: -10123.64713973288\n"
     ]
    },
    {
     "name": "stderr",
     "output_type": "stream",
     "text": [
      "\u001b[32mProgress:  43%|█████████████████▊                       |  ETA: 0:32:13\u001b[39m"
     ]
    },
    {
     "name": "stdout",
     "output_type": "stream",
     "text": [
      "test reward at step 1730000: -10056.626427574856\n"
     ]
    },
    {
     "name": "stderr",
     "output_type": "stream",
     "text": [
      "\u001b[32mProgress:  43%|█████████████████▉                       |  ETA: 0:32:02\u001b[39m"
     ]
    },
    {
     "name": "stdout",
     "output_type": "stream",
     "text": [
      "test reward at step 1740000: -10075.942854075585\n"
     ]
    },
    {
     "name": "stderr",
     "output_type": "stream",
     "text": [
      "\u001b[32mProgress:  44%|█████████████████▉                       |  ETA: 0:31:53\u001b[39m"
     ]
    },
    {
     "name": "stdout",
     "output_type": "stream",
     "text": [
      "test reward at step 1750000: -10035.442098366204\n"
     ]
    },
    {
     "name": "stderr",
     "output_type": "stream",
     "text": [
      "\u001b[32mProgress:  44%|██████████████████                       |  ETA: 0:31:44\u001b[39m"
     ]
    },
    {
     "name": "stdout",
     "output_type": "stream",
     "text": [
      "test reward at step 1760000: -10047.911212670799\n"
     ]
    },
    {
     "name": "stderr",
     "output_type": "stream",
     "text": [
      "\u001b[32mProgress:  44%|██████████████████▏                      |  ETA: 0:31:37\u001b[39m"
     ]
    },
    {
     "name": "stdout",
     "output_type": "stream",
     "text": [
      "test reward at step 1770000: -10030.920594522946\n"
     ]
    },
    {
     "name": "stderr",
     "output_type": "stream",
     "text": [
      "\u001b[32mProgress:  44%|██████████████████▎                      |  ETA: 0:31:30\u001b[39m"
     ]
    },
    {
     "name": "stdout",
     "output_type": "stream",
     "text": [
      "test reward at step 1780000: -9995.909674097356\n"
     ]
    },
    {
     "name": "stderr",
     "output_type": "stream",
     "text": [
      "\u001b[32mProgress:  45%|██████████████████▍                      |  ETA: 0:31:23\u001b[39m"
     ]
    },
    {
     "name": "stdout",
     "output_type": "stream",
     "text": [
      "test reward at step 1790000: -9932.63238479824\n"
     ]
    },
    {
     "name": "stderr",
     "output_type": "stream",
     "text": [
      "\u001b[32mProgress:  45%|██████████████████▌                      |  ETA: 0:31:11\u001b[39m"
     ]
    },
    {
     "name": "stdout",
     "output_type": "stream",
     "text": [
      "parameters at step 1800000 saved to ./RL_models/vtol_2D_ppo_1800000.bson\n",
      "test reward at step 1800000: -9947.023189947162\n"
     ]
    },
    {
     "name": "stderr",
     "output_type": "stream",
     "text": [
      "\u001b[32mProgress:  45%|██████████████████▌                      |  ETA: 0:31:02\u001b[39m"
     ]
    },
    {
     "name": "stdout",
     "output_type": "stream",
     "text": [
      "test reward at step 1810000: -9888.407381624294\n"
     ]
    },
    {
     "name": "stderr",
     "output_type": "stream",
     "text": [
      "\u001b[32mProgress:  45%|██████████████████▋                      |  ETA: 0:30:49\u001b[39m"
     ]
    },
    {
     "name": "stdout",
     "output_type": "stream",
     "text": [
      "test reward at step 1820000: -9871.652822952923\n"
     ]
    },
    {
     "name": "stderr",
     "output_type": "stream",
     "text": [
      "\u001b[32mProgress:  46%|██████████████████▊                      |  ETA: 0:30:41\u001b[39m"
     ]
    },
    {
     "name": "stdout",
     "output_type": "stream",
     "text": [
      "test reward at step 1830000: -9840.58642976943\n"
     ]
    },
    {
     "name": "stderr",
     "output_type": "stream",
     "text": [
      "\u001b[32mProgress:  46%|██████████████████▉                      |  ETA: 0:30:33\u001b[39m"
     ]
    },
    {
     "name": "stdout",
     "output_type": "stream",
     "text": [
      "test reward at step 1840000: -9780.570247338812\n"
     ]
    },
    {
     "name": "stderr",
     "output_type": "stream",
     "text": [
      "\u001b[32mProgress:  46%|███████████████████                      |  ETA: 0:30:22\u001b[39m"
     ]
    },
    {
     "name": "stdout",
     "output_type": "stream",
     "text": [
      "test reward at step 1850000: -9757.170458579496\n"
     ]
    },
    {
     "name": "stderr",
     "output_type": "stream",
     "text": [
      "\u001b[32mProgress:  46%|███████████████████                      |  ETA: 0:30:16\u001b[39m"
     ]
    },
    {
     "name": "stdout",
     "output_type": "stream",
     "text": [
      "test reward at step 1860000: -9697.66127416803\n"
     ]
    },
    {
     "name": "stderr",
     "output_type": "stream",
     "text": [
      "\u001b[32mProgress:  47%|███████████████████▏                     |  ETA: 0:30:07\u001b[39m"
     ]
    },
    {
     "name": "stdout",
     "output_type": "stream",
     "text": [
      "test reward at step 1870000: -9606.431015416129\n"
     ]
    },
    {
     "name": "stderr",
     "output_type": "stream",
     "text": [
      "\u001b[32mProgress:  47%|███████████████████▎                     |  ETA: 0:29:55\u001b[39m"
     ]
    },
    {
     "name": "stdout",
     "output_type": "stream",
     "text": [
      "test reward at step 1880000: -9546.604294183526\n"
     ]
    },
    {
     "name": "stderr",
     "output_type": "stream",
     "text": [
      "\u001b[32mProgress:  47%|███████████████████▍                     |  ETA: 0:29:45\u001b[39m"
     ]
    },
    {
     "name": "stdout",
     "output_type": "stream",
     "text": [
      "test reward at step 1890000: -9465.220579357154\n"
     ]
    },
    {
     "name": "stderr",
     "output_type": "stream",
     "text": [
      "\u001b[32mProgress:  47%|███████████████████▌                     |  ETA: 0:29:38\u001b[39m"
     ]
    },
    {
     "name": "stdout",
     "output_type": "stream",
     "text": [
      "parameters at step 1900000 saved to ./RL_models/vtol_2D_ppo_1900000.bson\n",
      "test reward at step 1900000: -9473.595538876558\n"
     ]
    },
    {
     "name": "stderr",
     "output_type": "stream",
     "text": [
      "\u001b[32mProgress:  48%|███████████████████▋                     |  ETA: 0:29:28\u001b[39m"
     ]
    },
    {
     "name": "stdout",
     "output_type": "stream",
     "text": [
      "test reward at step 1910000: -9413.24901909851\n"
     ]
    },
    {
     "name": "stderr",
     "output_type": "stream",
     "text": [
      "\u001b[32mProgress:  48%|███████████████████▋                     |  ETA: 0:29:22\u001b[39m"
     ]
    },
    {
     "name": "stdout",
     "output_type": "stream",
     "text": [
      "test reward at step 1920000: -9353.2299035956\n"
     ]
    },
    {
     "name": "stderr",
     "output_type": "stream",
     "text": [
      "\u001b[32mProgress:  48%|███████████████████▊                     |  ETA: 0:29:10\u001b[39m"
     ]
    },
    {
     "name": "stdout",
     "output_type": "stream",
     "text": [
      "test reward at step 1930000: -9298.56320916247\n"
     ]
    },
    {
     "name": "stderr",
     "output_type": "stream",
     "text": [
      "\u001b[32mProgress:  48%|███████████████████▉                     |  ETA: 0:29:00\u001b[39m"
     ]
    },
    {
     "name": "stdout",
     "output_type": "stream",
     "text": [
      "test reward at step 1940000: -9297.76575132623\n"
     ]
    },
    {
     "name": "stderr",
     "output_type": "stream",
     "text": [
      "\u001b[32mProgress:  49%|████████████████████                     |  ETA: 0:28:52\u001b[39m"
     ]
    },
    {
     "name": "stdout",
     "output_type": "stream",
     "text": [
      "test reward at step 1950000: -9237.996468497664\n"
     ]
    },
    {
     "name": "stderr",
     "output_type": "stream",
     "text": [
      "\u001b[32mProgress:  49%|████████████████████▏                    |  ETA: 0:28:41\u001b[39m"
     ]
    },
    {
     "name": "stdout",
     "output_type": "stream",
     "text": [
      "test reward at step 1960000: -9184.287904868801\n"
     ]
    },
    {
     "name": "stderr",
     "output_type": "stream",
     "text": [
      "\u001b[32mProgress:  49%|████████████████████▎                    |  ETA: 0:28:34\u001b[39m"
     ]
    },
    {
     "name": "stdout",
     "output_type": "stream",
     "text": [
      "test reward at step 1970000: -9138.982980111417\n"
     ]
    },
    {
     "name": "stderr",
     "output_type": "stream",
     "text": [
      "\u001b[32mProgress:  49%|████████████████████▎                    |  ETA: 0:28:21\u001b[39m"
     ]
    },
    {
     "name": "stdout",
     "output_type": "stream",
     "text": [
      "test reward at step 1980000: -9203.06517961449\n"
     ]
    },
    {
     "name": "stderr",
     "output_type": "stream",
     "text": [
      "\u001b[32mProgress:  50%|████████████████████▍                    |  ETA: 0:28:15\u001b[39m"
     ]
    },
    {
     "name": "stdout",
     "output_type": "stream",
     "text": [
      "test reward at step 1990000: -9151.040791945323\n"
     ]
    },
    {
     "name": "stderr",
     "output_type": "stream",
     "text": [
      "\u001b[32mProgress:  50%|████████████████████▌                    |  ETA: 0:28:05\u001b[39m"
     ]
    },
    {
     "name": "stdout",
     "output_type": "stream",
     "text": [
      "parameters at step 2000000 saved to ./RL_models/vtol_2D_ppo_2000000.bson\n",
      "test reward at step 2000000: -9148.940842134685\n"
     ]
    },
    {
     "name": "stderr",
     "output_type": "stream",
     "text": [
      "\u001b[32mProgress:  50%|████████████████████▋                    |  ETA: 0:27:58\u001b[39m"
     ]
    },
    {
     "name": "stdout",
     "output_type": "stream",
     "text": [
      "test reward at step 2010000: -9088.496231294328\n"
     ]
    },
    {
     "name": "stderr",
     "output_type": "stream",
     "text": [
      "\u001b[32mProgress:  50%|████████████████████▊                    |  ETA: 0:27:51\u001b[39m"
     ]
    },
    {
     "name": "stdout",
     "output_type": "stream",
     "text": [
      "test reward at step 2020000: -9038.450237194333\n"
     ]
    },
    {
     "name": "stderr",
     "output_type": "stream",
     "text": [
      "\u001b[32mProgress:  51%|████████████████████▊                    |  ETA: 0:27:43\u001b[39m"
     ]
    },
    {
     "name": "stdout",
     "output_type": "stream",
     "text": [
      "test reward at step 2030000: -9024.110281655367\n"
     ]
    },
    {
     "name": "stderr",
     "output_type": "stream",
     "text": [
      "\u001b[32mProgress:  51%|████████████████████▉                    |  ETA: 0:27:31\u001b[39m"
     ]
    },
    {
     "name": "stdout",
     "output_type": "stream",
     "text": [
      "test reward at step 2040000: -9004.793332719635\n"
     ]
    },
    {
     "name": "stderr",
     "output_type": "stream",
     "text": [
      "\u001b[32mProgress:  51%|█████████████████████                    |  ETA: 0:27:23\u001b[39m"
     ]
    },
    {
     "name": "stdout",
     "output_type": "stream",
     "text": [
      "test reward at step 2050000: -8966.46073580348\n"
     ]
    },
    {
     "name": "stderr",
     "output_type": "stream",
     "text": [
      "\u001b[32mProgress:  51%|█████████████████████▏                   |  ETA: 0:27:16\u001b[39m"
     ]
    },
    {
     "name": "stdout",
     "output_type": "stream",
     "text": [
      "test reward at step 2060000: -8918.490692709442\n"
     ]
    },
    {
     "name": "stderr",
     "output_type": "stream",
     "text": [
      "\u001b[32mProgress:  52%|█████████████████████▎                   |  ETA: 0:27:05\u001b[39m"
     ]
    },
    {
     "name": "stdout",
     "output_type": "stream",
     "text": [
      "test reward at step 2070000: -8834.7944571718\n"
     ]
    },
    {
     "name": "stderr",
     "output_type": "stream",
     "text": [
      "\u001b[32mProgress:  52%|█████████████████████▎                   |  ETA: 0:26:57\u001b[39m"
     ]
    },
    {
     "name": "stdout",
     "output_type": "stream",
     "text": [
      "test reward at step 2080000: -8825.78090366562\n"
     ]
    },
    {
     "name": "stderr",
     "output_type": "stream",
     "text": [
      "\u001b[32mProgress:  52%|█████████████████████▍                   |  ETA: 0:26:49\u001b[39m"
     ]
    },
    {
     "name": "stdout",
     "output_type": "stream",
     "text": [
      "test reward at step 2090000: -8764.016094765997\n"
     ]
    },
    {
     "name": "stderr",
     "output_type": "stream",
     "text": [
      "\u001b[32mProgress:  52%|█████████████████████▌                   |  ETA: 0:26:43\u001b[39m"
     ]
    },
    {
     "name": "stdout",
     "output_type": "stream",
     "text": [
      "parameters at step 2100000 saved to ./RL_models/vtol_2D_ppo_2100000.bson\n",
      "test reward at step 2100000: -8729.747386194931\n"
     ]
    },
    {
     "name": "stderr",
     "output_type": "stream",
     "text": [
      "\u001b[32mProgress:  53%|█████████████████████▋                   |  ETA: 0:26:33\u001b[39m"
     ]
    },
    {
     "name": "stdout",
     "output_type": "stream",
     "text": [
      "test reward at step 2110000: -8676.954352375546\n"
     ]
    },
    {
     "name": "stderr",
     "output_type": "stream",
     "text": [
      "\u001b[32mProgress:  53%|█████████████████████▊                   |  ETA: 0:26:22\u001b[39m"
     ]
    },
    {
     "name": "stdout",
     "output_type": "stream",
     "text": [
      "test reward at step 2120000: -8655.12890590145\n"
     ]
    },
    {
     "name": "stderr",
     "output_type": "stream",
     "text": [
      "\u001b[32mProgress:  53%|█████████████████████▉                   |  ETA: 0:26:14\u001b[39m"
     ]
    },
    {
     "name": "stdout",
     "output_type": "stream",
     "text": [
      "test reward at step 2130000: -8608.83172711368\n"
     ]
    },
    {
     "name": "stderr",
     "output_type": "stream",
     "text": [
      "\u001b[32mProgress:  53%|█████████████████████▉                   |  ETA: 0:26:03\u001b[39m"
     ]
    },
    {
     "name": "stdout",
     "output_type": "stream",
     "text": [
      "test reward at step 2140000: -8607.288815160635\n"
     ]
    },
    {
     "name": "stderr",
     "output_type": "stream",
     "text": [
      "\u001b[32mProgress:  54%|██████████████████████                   |  ETA: 0:25:56\u001b[39m"
     ]
    },
    {
     "name": "stdout",
     "output_type": "stream",
     "text": [
      "test reward at step 2150000: -8537.885759749477\n"
     ]
    },
    {
     "name": "stderr",
     "output_type": "stream",
     "text": [
      "\u001b[32mProgress:  54%|██████████████████████▏                  |  ETA: 0:25:49\u001b[39m"
     ]
    },
    {
     "name": "stdout",
     "output_type": "stream",
     "text": [
      "test reward at step 2160000: -8491.561899104556\n"
     ]
    },
    {
     "name": "stderr",
     "output_type": "stream",
     "text": [
      "\u001b[32mProgress:  54%|██████████████████████▎                  |  ETA: 0:25:42\u001b[39m"
     ]
    },
    {
     "name": "stdout",
     "output_type": "stream",
     "text": [
      "test reward at step 2170000: -8427.483872255103\n"
     ]
    },
    {
     "name": "stderr",
     "output_type": "stream",
     "text": [
      "\u001b[32mProgress:  55%|██████████████████████▍                  |  ETA: 0:25:37\u001b[39m"
     ]
    },
    {
     "name": "stdout",
     "output_type": "stream",
     "text": [
      "test reward at step 2180000: -8337.828188217609\n"
     ]
    },
    {
     "name": "stderr",
     "output_type": "stream",
     "text": [
      "\u001b[32mProgress:  55%|██████████████████████▌                  |  ETA: 0:25:26\u001b[39m"
     ]
    },
    {
     "name": "stdout",
     "output_type": "stream",
     "text": [
      "test reward at step 2190000: -8275.640834859574\n"
     ]
    },
    {
     "name": "stderr",
     "output_type": "stream",
     "text": [
      "\u001b[32mProgress:  55%|██████████████████████▌                  |  ETA: 0:25:19\u001b[39m"
     ]
    },
    {
     "name": "stdout",
     "output_type": "stream",
     "text": [
      "parameters at step 2200000 saved to ./RL_models/vtol_2D_ppo_2200000.bson\n",
      "test reward at step 2200000: -8225.324760280606\n"
     ]
    },
    {
     "name": "stderr",
     "output_type": "stream",
     "text": [
      "\u001b[32mProgress:  55%|██████████████████████▋                  |  ETA: 0:25:09\u001b[39m"
     ]
    },
    {
     "name": "stdout",
     "output_type": "stream",
     "text": [
      "test reward at step 2210000: -8181.550046275943\n"
     ]
    },
    {
     "name": "stderr",
     "output_type": "stream",
     "text": [
      "\u001b[32mProgress:  55%|██████████████████████▊                  |  ETA: 0:24:57\u001b[39m"
     ]
    },
    {
     "name": "stdout",
     "output_type": "stream",
     "text": [
      "test reward at step 2220000: -8123.96665594159\n"
     ]
    },
    {
     "name": "stderr",
     "output_type": "stream",
     "text": [
      "\u001b[32mProgress:  56%|██████████████████████▉                  |  ETA: 0:24:50\u001b[39m"
     ]
    },
    {
     "name": "stdout",
     "output_type": "stream",
     "text": [
      "test reward at step 2230000: -8081.479379460103\n"
     ]
    },
    {
     "name": "stderr",
     "output_type": "stream",
     "text": [
      "\u001b[32mProgress:  56%|███████████████████████                  |  ETA: 0:24:41\u001b[39m"
     ]
    },
    {
     "name": "stdout",
     "output_type": "stream",
     "text": [
      "test reward at step 2240000: -8040.029759051102\n"
     ]
    },
    {
     "name": "stderr",
     "output_type": "stream",
     "text": [
      "\u001b[32mProgress:  56%|███████████████████████                  |  ETA: 0:24:32\u001b[39m"
     ]
    },
    {
     "name": "stdout",
     "output_type": "stream",
     "text": [
      "test reward at step 2250000: -7998.526408664631\n"
     ]
    },
    {
     "name": "stderr",
     "output_type": "stream",
     "text": [
      "\u001b[32mProgress:  56%|███████████████████████▏                 |  ETA: 0:24:24\u001b[39m"
     ]
    },
    {
     "name": "stdout",
     "output_type": "stream",
     "text": [
      "test reward at step 2260000: -7985.397714886804\n"
     ]
    },
    {
     "name": "stderr",
     "output_type": "stream",
     "text": [
      "\u001b[32mProgress:  57%|███████████████████████▎                 |  ETA: 0:24:19\u001b[39m"
     ]
    },
    {
     "name": "stdout",
     "output_type": "stream",
     "text": [
      "test reward at step 2270000: -7924.929865417127\n"
     ]
    },
    {
     "name": "stderr",
     "output_type": "stream",
     "text": [
      "\u001b[32mProgress:  57%|███████████████████████▍                 |  ETA: 0:24:09\u001b[39m"
     ]
    },
    {
     "name": "stdout",
     "output_type": "stream",
     "text": [
      "test reward at step 2280000: -7872.9500015398835\n"
     ]
    },
    {
     "name": "stderr",
     "output_type": "stream",
     "text": [
      "\u001b[32mProgress:  57%|███████████████████████▌                 |  ETA: 0:24:02\u001b[39m"
     ]
    },
    {
     "name": "stdout",
     "output_type": "stream",
     "text": [
      "test reward at step 2290000: -7807.591317012793\n"
     ]
    },
    {
     "name": "stderr",
     "output_type": "stream",
     "text": [
      "\u001b[32mProgress:  57%|███████████████████████▌                 |  ETA: 0:23:55\u001b[39m"
     ]
    },
    {
     "name": "stdout",
     "output_type": "stream",
     "text": [
      "parameters at step 2300000 saved to ./RL_models/vtol_2D_ppo_2300000.bson\n",
      "test reward at step 2300000: -7740.257121382887\n"
     ]
    },
    {
     "name": "stderr",
     "output_type": "stream",
     "text": [
      "\u001b[32mProgress:  58%|███████████████████████▋                 |  ETA: 0:23:47\u001b[39m"
     ]
    },
    {
     "name": "stdout",
     "output_type": "stream",
     "text": [
      "test reward at step 2310000: -7698.290577262493\n"
     ]
    },
    {
     "name": "stderr",
     "output_type": "stream",
     "text": [
      "\u001b[32mProgress:  58%|███████████████████████▊                 |  ETA: 0:23:37\u001b[39m"
     ]
    },
    {
     "name": "stdout",
     "output_type": "stream",
     "text": [
      "test reward at step 2320000: -7656.871229754954\n"
     ]
    },
    {
     "name": "stderr",
     "output_type": "stream",
     "text": [
      "\u001b[32mProgress:  58%|███████████████████████▉                 |  ETA: 0:23:26\u001b[39m"
     ]
    },
    {
     "name": "stdout",
     "output_type": "stream",
     "text": [
      "test reward at step 2330000: -7616.47328987723\n"
     ]
    },
    {
     "name": "stderr",
     "output_type": "stream",
     "text": [
      "\u001b[32mProgress:  58%|████████████████████████                 |  ETA: 0:23:15\u001b[39m"
     ]
    },
    {
     "name": "stdout",
     "output_type": "stream",
     "text": [
      "test reward at step 2340000: -7546.935137183143\n"
     ]
    },
    {
     "name": "stderr",
     "output_type": "stream",
     "text": [
      "\u001b[32mProgress:  59%|████████████████████████▏                |  ETA: 0:23:08\u001b[39m"
     ]
    },
    {
     "name": "stdout",
     "output_type": "stream",
     "text": [
      "test reward at step 2350000: -7492.815927160622\n"
     ]
    },
    {
     "name": "stderr",
     "output_type": "stream",
     "text": [
      "\u001b[32mProgress:  59%|████████████████████████▏                |  ETA: 0:23:00\u001b[39m"
     ]
    },
    {
     "name": "stdout",
     "output_type": "stream",
     "text": [
      "test reward at step 2360000: -7430.658085866263\n"
     ]
    },
    {
     "name": "stderr",
     "output_type": "stream",
     "text": [
      "\u001b[32mProgress:  59%|████████████████████████▎                |  ETA: 0:22:55\u001b[39m"
     ]
    },
    {
     "name": "stdout",
     "output_type": "stream",
     "text": [
      "test reward at step 2370000: -7406.200797739275\n"
     ]
    },
    {
     "name": "stderr",
     "output_type": "stream",
     "text": [
      "\u001b[32mProgress:  59%|████████████████████████▍                |  ETA: 0:22:44\u001b[39m"
     ]
    },
    {
     "name": "stdout",
     "output_type": "stream",
     "text": [
      "test reward at step 2380000: -7383.065843891574\n"
     ]
    },
    {
     "name": "stderr",
     "output_type": "stream",
     "text": [
      "\u001b[32mProgress:  60%|████████████████████████▌                |  ETA: 0:22:37\u001b[39m"
     ]
    },
    {
     "name": "stdout",
     "output_type": "stream",
     "text": [
      "test reward at step 2390000: -7397.980395197713\n"
     ]
    },
    {
     "name": "stderr",
     "output_type": "stream",
     "text": [
      "\u001b[32mProgress:  60%|████████████████████████▋                |  ETA: 0:22:30\u001b[39m"
     ]
    },
    {
     "name": "stdout",
     "output_type": "stream",
     "text": [
      "parameters at step 2400000 saved to ./RL_models/vtol_2D_ppo_2400000.bson\n",
      "test reward at step 2400000: -7348.391543201625\n"
     ]
    },
    {
     "name": "stderr",
     "output_type": "stream",
     "text": [
      "\u001b[32mProgress:  60%|████████████████████████▊                |  ETA: 0:22:21\u001b[39m"
     ]
    },
    {
     "name": "stdout",
     "output_type": "stream",
     "text": [
      "test reward at step 2410000: -7313.46266641446\n"
     ]
    },
    {
     "name": "stderr",
     "output_type": "stream",
     "text": [
      "\u001b[32mProgress:  60%|████████████████████████▊                |  ETA: 0:22:11\u001b[39m"
     ]
    },
    {
     "name": "stdout",
     "output_type": "stream",
     "text": [
      "test reward at step 2420000: -7305.731380473323\n"
     ]
    },
    {
     "name": "stderr",
     "output_type": "stream",
     "text": [
      "\u001b[32mProgress:  61%|████████████████████████▉                |  ETA: 0:22:03\u001b[39m"
     ]
    },
    {
     "name": "stdout",
     "output_type": "stream",
     "text": [
      "test reward at step 2430000: -7291.072828403149\n"
     ]
    },
    {
     "name": "stderr",
     "output_type": "stream",
     "text": [
      "\u001b[32mProgress:  61%|█████████████████████████                |  ETA: 0:21:57\u001b[39m"
     ]
    },
    {
     "name": "stdout",
     "output_type": "stream",
     "text": [
      "test reward at step 2440000: -7277.50148959394\n"
     ]
    },
    {
     "name": "stderr",
     "output_type": "stream",
     "text": [
      "\u001b[32mProgress:  61%|█████████████████████████▏               |  ETA: 0:21:49\u001b[39m"
     ]
    },
    {
     "name": "stdout",
     "output_type": "stream",
     "text": [
      "test reward at step 2450000: -7274.608588084922\n"
     ]
    },
    {
     "name": "stderr",
     "output_type": "stream",
     "text": [
      "\u001b[32mProgress:  61%|█████████████████████████▎               |  ETA: 0:21:39\u001b[39m"
     ]
    },
    {
     "name": "stdout",
     "output_type": "stream",
     "text": [
      "test reward at step 2460000: -7253.973923596458\n"
     ]
    },
    {
     "name": "stderr",
     "output_type": "stream",
     "text": [
      "\u001b[32mProgress:  62%|█████████████████████████▍               |  ETA: 0:21:30\u001b[39m"
     ]
    },
    {
     "name": "stdout",
     "output_type": "stream",
     "text": [
      "test reward at step 2470000: -7206.895930544422\n"
     ]
    },
    {
     "name": "stderr",
     "output_type": "stream",
     "text": [
      "\u001b[32mProgress:  62%|█████████████████████████▍               |  ETA: 0:21:22\u001b[39m"
     ]
    },
    {
     "name": "stdout",
     "output_type": "stream",
     "text": [
      "test reward at step 2480000: -7202.2383949377945\n"
     ]
    },
    {
     "name": "stderr",
     "output_type": "stream",
     "text": [
      "\u001b[32mProgress:  62%|█████████████████████████▌               |  ETA: 0:21:14\u001b[39m"
     ]
    },
    {
     "name": "stdout",
     "output_type": "stream",
     "text": [
      "test reward at step 2490000: -7186.699907361045\n"
     ]
    },
    {
     "name": "stderr",
     "output_type": "stream",
     "text": [
      "\u001b[32mProgress:  62%|█████████████████████████▋               |  ETA: 0:21:06\u001b[39m"
     ]
    },
    {
     "name": "stdout",
     "output_type": "stream",
     "text": [
      "parameters at step 2500000 saved to ./RL_models/vtol_2D_ppo_2500000.bson\n",
      "test reward at step 2500000: -7151.133201485363\n"
     ]
    },
    {
     "name": "stderr",
     "output_type": "stream",
     "text": [
      "\u001b[32mProgress:  63%|█████████████████████████▊               |  ETA: 0:20:58\u001b[39m"
     ]
    },
    {
     "name": "stdout",
     "output_type": "stream",
     "text": [
      "test reward at step 2510000: -7104.075449601307\n"
     ]
    },
    {
     "name": "stderr",
     "output_type": "stream",
     "text": [
      "\u001b[32mProgress:  63%|█████████████████████████▉               |  ETA: 0:20:49\u001b[39m"
     ]
    },
    {
     "name": "stdout",
     "output_type": "stream",
     "text": [
      "test reward at step 2520000: -7082.125498457362\n"
     ]
    },
    {
     "name": "stderr",
     "output_type": "stream",
     "text": [
      "\u001b[32mProgress:  63%|█████████████████████████▉               |  ETA: 0:20:40\u001b[39m"
     ]
    },
    {
     "name": "stdout",
     "output_type": "stream",
     "text": [
      "test reward at step 2530000: -7050.107788463634\n"
     ]
    },
    {
     "name": "stderr",
     "output_type": "stream",
     "text": [
      "\u001b[32mProgress:  63%|██████████████████████████               |  ETA: 0:20:32\u001b[39m"
     ]
    },
    {
     "name": "stdout",
     "output_type": "stream",
     "text": [
      "test reward at step 2540000: -7018.149466340263\n"
     ]
    },
    {
     "name": "stderr",
     "output_type": "stream",
     "text": [
      "\u001b[32mProgress:  64%|██████████████████████████▏              |  ETA: 0:20:24\u001b[39m"
     ]
    },
    {
     "name": "stdout",
     "output_type": "stream",
     "text": [
      "test reward at step 2550000: -6954.3296904551225\n"
     ]
    },
    {
     "name": "stderr",
     "output_type": "stream",
     "text": [
      "\u001b[32mProgress:  64%|██████████████████████████▎              |  ETA: 0:20:17\u001b[39m"
     ]
    },
    {
     "name": "stdout",
     "output_type": "stream",
     "text": [
      "test reward at step 2560000: -6926.105383075113\n"
     ]
    },
    {
     "name": "stderr",
     "output_type": "stream",
     "text": [
      "\u001b[32mProgress:  64%|██████████████████████████▍              |  ETA: 0:20:08\u001b[39m"
     ]
    },
    {
     "name": "stdout",
     "output_type": "stream",
     "text": [
      "test reward at step 2570000: -6918.283763264509\n"
     ]
    },
    {
     "name": "stderr",
     "output_type": "stream",
     "text": [
      "\u001b[32mProgress:  64%|██████████████████████████▍              |  ETA: 0:20:00\u001b[39m"
     ]
    },
    {
     "name": "stdout",
     "output_type": "stream",
     "text": [
      "test reward at step 2580000: -6888.0600567478405\n"
     ]
    },
    {
     "name": "stderr",
     "output_type": "stream",
     "text": [
      "\u001b[32mProgress:  65%|██████████████████████████▌              |  ETA: 0:19:50\u001b[39m"
     ]
    },
    {
     "name": "stdout",
     "output_type": "stream",
     "text": [
      "test reward at step 2590000: -6901.752785786952\n"
     ]
    },
    {
     "name": "stderr",
     "output_type": "stream",
     "text": [
      "\u001b[32mProgress:  65%|██████████████████████████▋              |  ETA: 0:19:43\u001b[39m"
     ]
    },
    {
     "name": "stdout",
     "output_type": "stream",
     "text": [
      "parameters at step 2600000 saved to ./RL_models/vtol_2D_ppo_2600000.bson\n",
      "test reward at step 2600000: -6879.402054037067\n"
     ]
    },
    {
     "name": "stderr",
     "output_type": "stream",
     "text": [
      "\u001b[32mProgress:  65%|██████████████████████████▊              |  ETA: 0:19:35\u001b[39m"
     ]
    },
    {
     "name": "stdout",
     "output_type": "stream",
     "text": [
      "test reward at step 2610000: -6847.134530663761\n"
     ]
    },
    {
     "name": "stderr",
     "output_type": "stream",
     "text": [
      "\u001b[32mProgress:  65%|██████████████████████████▉              |  ETA: 0:19:27\u001b[39m"
     ]
    },
    {
     "name": "stdout",
     "output_type": "stream",
     "text": [
      "test reward at step 2620000: -6815.219859942078\n"
     ]
    },
    {
     "name": "stderr",
     "output_type": "stream",
     "text": [
      "\u001b[32mProgress:  66%|██████████████████████████▉              |  ETA: 0:19:18\u001b[39m"
     ]
    },
    {
     "name": "stdout",
     "output_type": "stream",
     "text": [
      "test reward at step 2630000: -6841.610686688911\n"
     ]
    },
    {
     "name": "stderr",
     "output_type": "stream",
     "text": [
      "\u001b[32mProgress:  66%|███████████████████████████              |  ETA: 0:19:09\u001b[39m"
     ]
    },
    {
     "name": "stdout",
     "output_type": "stream",
     "text": [
      "test reward at step 2640000: -6839.709480956591\n"
     ]
    },
    {
     "name": "stderr",
     "output_type": "stream",
     "text": [
      "\u001b[32mProgress:  66%|███████████████████████████▏             |  ETA: 0:19:02\u001b[39m"
     ]
    },
    {
     "name": "stdout",
     "output_type": "stream",
     "text": [
      "test reward at step 2650000: -6857.654104463107\n"
     ]
    },
    {
     "name": "stderr",
     "output_type": "stream",
     "text": [
      "\u001b[32mProgress:  66%|███████████████████████████▎             |  ETA: 0:18:54\u001b[39m"
     ]
    },
    {
     "name": "stdout",
     "output_type": "stream",
     "text": [
      "test reward at step 2660000: -6862.797927256286\n"
     ]
    },
    {
     "name": "stderr",
     "output_type": "stream",
     "text": [
      "\u001b[32mProgress:  67%|███████████████████████████▍             |  ETA: 0:18:47\u001b[39m"
     ]
    },
    {
     "name": "stdout",
     "output_type": "stream",
     "text": [
      "test reward at step 2670000: -6842.691040773344\n"
     ]
    },
    {
     "name": "stderr",
     "output_type": "stream",
     "text": [
      "\u001b[32mProgress:  67%|███████████████████████████▌             |  ETA: 0:18:39\u001b[39m"
     ]
    },
    {
     "name": "stdout",
     "output_type": "stream",
     "text": [
      "test reward at step 2680000: -6819.016604495707\n"
     ]
    },
    {
     "name": "stderr",
     "output_type": "stream",
     "text": [
      "\u001b[32mProgress:  67%|███████████████████████████▌             |  ETA: 0:18:32\u001b[39m"
     ]
    },
    {
     "name": "stdout",
     "output_type": "stream",
     "text": [
      "test reward at step 2690000: -6834.278027255366\n"
     ]
    },
    {
     "name": "stderr",
     "output_type": "stream",
     "text": [
      "\u001b[32mProgress:  67%|███████████████████████████▋             |  ETA: 0:18:24\u001b[39m"
     ]
    },
    {
     "name": "stdout",
     "output_type": "stream",
     "text": [
      "parameters at step 2700000 saved to ./RL_models/vtol_2D_ppo_2700000.bson\n",
      "test reward at step 2700000: -6835.980842501025\n"
     ]
    },
    {
     "name": "stderr",
     "output_type": "stream",
     "text": [
      "\u001b[32mProgress:  68%|███████████████████████████▊             |  ETA: 0:18:14\u001b[39m"
     ]
    },
    {
     "name": "stdout",
     "output_type": "stream",
     "text": [
      "test reward at step 2710000: -6813.66113744624\n"
     ]
    },
    {
     "name": "stderr",
     "output_type": "stream",
     "text": [
      "\u001b[32mProgress:  68%|███████████████████████████▉             |  ETA: 0:18:08\u001b[39m"
     ]
    },
    {
     "name": "stdout",
     "output_type": "stream",
     "text": [
      "test reward at step 2720000: -6819.380560981916\n"
     ]
    },
    {
     "name": "stderr",
     "output_type": "stream",
     "text": [
      "\u001b[32mProgress:  68%|████████████████████████████             |  ETA: 0:17:57\u001b[39m"
     ]
    },
    {
     "name": "stdout",
     "output_type": "stream",
     "text": [
      "test reward at step 2730000: -6790.443785557162\n"
     ]
    },
    {
     "name": "stderr",
     "output_type": "stream",
     "text": [
      "\u001b[32mProgress:  68%|████████████████████████████▏            |  ETA: 0:17:48\u001b[39m"
     ]
    },
    {
     "name": "stdout",
     "output_type": "stream",
     "text": [
      "test reward at step 2740000: -6764.392312987587\n"
     ]
    },
    {
     "name": "stderr",
     "output_type": "stream",
     "text": [
      "\u001b[32mProgress:  69%|████████████████████████████▏            |  ETA: 0:17:39\u001b[39m"
     ]
    },
    {
     "name": "stdout",
     "output_type": "stream",
     "text": [
      "test reward at step 2750000: -6720.927609573512\n"
     ]
    },
    {
     "name": "stderr",
     "output_type": "stream",
     "text": [
      "\u001b[32mProgress:  69%|████████████████████████████▎            |  ETA: 0:17:33\u001b[39m"
     ]
    },
    {
     "name": "stdout",
     "output_type": "stream",
     "text": [
      "test reward at step 2760000: -6715.480803574826\n"
     ]
    },
    {
     "name": "stderr",
     "output_type": "stream",
     "text": [
      "\u001b[32mProgress:  69%|████████████████████████████▍            |  ETA: 0:17:22\u001b[39m"
     ]
    },
    {
     "name": "stdout",
     "output_type": "stream",
     "text": [
      "test reward at step 2770000: -6725.761601516524\n"
     ]
    },
    {
     "name": "stderr",
     "output_type": "stream",
     "text": [
      "\u001b[32mProgress:  69%|████████████████████████████▌            |  ETA: 0:17:15\u001b[39m"
     ]
    },
    {
     "name": "stdout",
     "output_type": "stream",
     "text": [
      "test reward at step 2780000: -6693.784706696222\n"
     ]
    },
    {
     "name": "stderr",
     "output_type": "stream",
     "text": [
      "\u001b[32mProgress:  70%|████████████████████████████▋            |  ETA: 0:17:07\u001b[39m"
     ]
    },
    {
     "name": "stdout",
     "output_type": "stream",
     "text": [
      "test reward at step 2790000: -6665.231860703239\n"
     ]
    },
    {
     "name": "stderr",
     "output_type": "stream",
     "text": [
      "\u001b[32mProgress:  70%|████████████████████████████▋            |  ETA: 0:16:58\u001b[39m"
     ]
    },
    {
     "name": "stdout",
     "output_type": "stream",
     "text": [
      "parameters at step 2800000 saved to ./RL_models/vtol_2D_ppo_2800000.bson\n",
      "test reward at step 2800000: -6646.23239491132\n"
     ]
    },
    {
     "name": "stderr",
     "output_type": "stream",
     "text": [
      "\u001b[32mProgress:  70%|████████████████████████████▊            |  ETA: 0:16:50\u001b[39m"
     ]
    },
    {
     "name": "stdout",
     "output_type": "stream",
     "text": [
      "test reward at step 2810000: -6634.757365706662\n"
     ]
    },
    {
     "name": "stderr",
     "output_type": "stream",
     "text": [
      "\u001b[32mProgress:  70%|████████████████████████████▉            |  ETA: 0:16:41\u001b[39m"
     ]
    },
    {
     "name": "stdout",
     "output_type": "stream",
     "text": [
      "test reward at step 2820000: -6624.758258136753\n"
     ]
    },
    {
     "name": "stderr",
     "output_type": "stream",
     "text": [
      "\u001b[32mProgress:  71%|█████████████████████████████            |  ETA: 0:16:34\u001b[39m"
     ]
    },
    {
     "name": "stdout",
     "output_type": "stream",
     "text": [
      "test reward at step 2830000: -6605.286635175196\n"
     ]
    },
    {
     "name": "stderr",
     "output_type": "stream",
     "text": [
      "\u001b[32mProgress:  71%|█████████████████████████████▏           |  ETA: 0:16:26\u001b[39m"
     ]
    },
    {
     "name": "stdout",
     "output_type": "stream",
     "text": [
      "test reward at step 2840000: -6576.896160391604\n"
     ]
    },
    {
     "name": "stderr",
     "output_type": "stream",
     "text": [
      "\u001b[32mProgress:  71%|█████████████████████████████▎           |  ETA: 0:16:17\u001b[39m"
     ]
    },
    {
     "name": "stdout",
     "output_type": "stream",
     "text": [
      "test reward at step 2850000: -6597.032149180446\n"
     ]
    },
    {
     "name": "stderr",
     "output_type": "stream",
     "text": [
      "\u001b[32mProgress:  71%|█████████████████████████████▍           |  ETA: 0:16:08\u001b[39m"
     ]
    },
    {
     "name": "stdout",
     "output_type": "stream",
     "text": [
      "test reward at step 2860000: -6574.895773625022\n"
     ]
    },
    {
     "name": "stderr",
     "output_type": "stream",
     "text": [
      "\u001b[32mProgress:  72%|█████████████████████████████▍           |  ETA: 0:16:03\u001b[39m"
     ]
    },
    {
     "name": "stdout",
     "output_type": "stream",
     "text": [
      "test reward at step 2870000: -6550.016926387028\n"
     ]
    },
    {
     "name": "stderr",
     "output_type": "stream",
     "text": [
      "\u001b[32mProgress:  72%|█████████████████████████████▌           |  ETA: 0:15:54\u001b[39m"
     ]
    },
    {
     "name": "stdout",
     "output_type": "stream",
     "text": [
      "test reward at step 2880000: -6507.533849248691\n"
     ]
    },
    {
     "name": "stderr",
     "output_type": "stream",
     "text": [
      "\u001b[32mProgress:  72%|█████████████████████████████▋           |  ETA: 0:15:46\u001b[39m"
     ]
    },
    {
     "name": "stdout",
     "output_type": "stream",
     "text": [
      "test reward at step 2890000: -6485.350359005932\n"
     ]
    },
    {
     "name": "stderr",
     "output_type": "stream",
     "text": [
      "\u001b[32mProgress:  72%|█████████████████████████████▊           |  ETA: 0:15:38\u001b[39m"
     ]
    },
    {
     "name": "stdout",
     "output_type": "stream",
     "text": [
      "parameters at step 2900000 saved to ./RL_models/vtol_2D_ppo_2900000.bson\n",
      "test reward at step 2900000: -6459.692226057004\n"
     ]
    },
    {
     "name": "stderr",
     "output_type": "stream",
     "text": [
      "\u001b[32mProgress:  73%|█████████████████████████████▊           |  ETA: 0:15:31\u001b[39m"
     ]
    },
    {
     "name": "stdout",
     "output_type": "stream",
     "text": [
      "test reward at step 2910000: -6461.30866135697\n"
     ]
    },
    {
     "name": "stderr",
     "output_type": "stream",
     "text": [
      "\u001b[32mProgress:  73%|█████████████████████████████▉           |  ETA: 0:15:23\u001b[39m"
     ]
    },
    {
     "name": "stdout",
     "output_type": "stream",
     "text": [
      "test reward at step 2920000: -6419.719114977136\n"
     ]
    },
    {
     "name": "stderr",
     "output_type": "stream",
     "text": [
      "\u001b[32mProgress:  73%|██████████████████████████████           |  ETA: 0:15:13\u001b[39m"
     ]
    },
    {
     "name": "stdout",
     "output_type": "stream",
     "text": [
      "test reward at step 2930000: -6393.205464780178\n"
     ]
    },
    {
     "name": "stderr",
     "output_type": "stream",
     "text": [
      "\u001b[32mProgress:  73%|██████████████████████████████▏          |  ETA: 0:15:06\u001b[39m"
     ]
    },
    {
     "name": "stdout",
     "output_type": "stream",
     "text": [
      "test reward at step 2940000: -6395.099817897699\n"
     ]
    },
    {
     "name": "stderr",
     "output_type": "stream",
     "text": [
      "\u001b[32mProgress:  74%|██████████████████████████████▎          |  ETA: 0:14:59\u001b[39m"
     ]
    },
    {
     "name": "stdout",
     "output_type": "stream",
     "text": [
      "test reward at step 2950000: -6359.684104026169\n"
     ]
    },
    {
     "name": "stderr",
     "output_type": "stream",
     "text": [
      "\u001b[32mProgress:  74%|██████████████████████████████▍          |  ETA: 0:14:51\u001b[39m"
     ]
    },
    {
     "name": "stdout",
     "output_type": "stream",
     "text": [
      "test reward at step 2960000: -6332.68345812099\n"
     ]
    },
    {
     "name": "stderr",
     "output_type": "stream",
     "text": [
      "\u001b[32mProgress:  74%|██████████████████████████████▍          |  ETA: 0:14:40\u001b[39m"
     ]
    },
    {
     "name": "stdout",
     "output_type": "stream",
     "text": [
      "test reward at step 2970000: -6321.051147248576\n"
     ]
    },
    {
     "name": "stderr",
     "output_type": "stream",
     "text": [
      "\u001b[32mProgress:  74%|██████████████████████████████▌          |  ETA: 0:14:32\u001b[39m"
     ]
    },
    {
     "name": "stdout",
     "output_type": "stream",
     "text": [
      "test reward at step 2980000: -6280.912528325399\n"
     ]
    },
    {
     "name": "stderr",
     "output_type": "stream",
     "text": [
      "\u001b[32mProgress:  75%|██████████████████████████████▋          |  ETA: 0:14:24\u001b[39m"
     ]
    },
    {
     "name": "stdout",
     "output_type": "stream",
     "text": [
      "test reward at step 2990000: -6250.969888555543\n"
     ]
    },
    {
     "name": "stderr",
     "output_type": "stream",
     "text": [
      "\u001b[32mProgress:  75%|██████████████████████████████▊          |  ETA: 0:14:16\u001b[39m"
     ]
    },
    {
     "name": "stdout",
     "output_type": "stream",
     "text": [
      "parameters at step 3000000 saved to ./RL_models/vtol_2D_ppo_3000000.bson\n",
      "test reward at step 3000000: -6207.882510639894\n"
     ]
    },
    {
     "name": "stderr",
     "output_type": "stream",
     "text": [
      "\u001b[32mProgress:  75%|██████████████████████████████▉          |  ETA: 0:14:09\u001b[39m"
     ]
    },
    {
     "name": "stdout",
     "output_type": "stream",
     "text": [
      "test reward at step 3010000: -6173.2019144754095\n"
     ]
    },
    {
     "name": "stderr",
     "output_type": "stream",
     "text": [
      "\u001b[32mProgress:  75%|███████████████████████████████          |  ETA: 0:14:02\u001b[39m"
     ]
    },
    {
     "name": "stdout",
     "output_type": "stream",
     "text": [
      "test reward at step 3020000: -6127.471593070597\n"
     ]
    },
    {
     "name": "stderr",
     "output_type": "stream",
     "text": [
      "\u001b[32mProgress:  76%|███████████████████████████████          |  ETA: 0:13:53\u001b[39m"
     ]
    },
    {
     "name": "stdout",
     "output_type": "stream",
     "text": [
      "test reward at step 3030000: -6099.700114397842\n"
     ]
    },
    {
     "name": "stderr",
     "output_type": "stream",
     "text": [
      "\u001b[32mProgress:  76%|███████████████████████████████▏         |  ETA: 0:13:44\u001b[39m"
     ]
    },
    {
     "name": "stdout",
     "output_type": "stream",
     "text": [
      "test reward at step 3040000: -6056.209294472488\n"
     ]
    },
    {
     "name": "stderr",
     "output_type": "stream",
     "text": [
      "\u001b[32mProgress:  76%|███████████████████████████████▎         |  ETA: 0:13:35\u001b[39m"
     ]
    },
    {
     "name": "stdout",
     "output_type": "stream",
     "text": [
      "test reward at step 3050000: -6027.51750355006\n"
     ]
    },
    {
     "name": "stderr",
     "output_type": "stream",
     "text": [
      "\u001b[32mProgress:  76%|███████████████████████████████▍         |  ETA: 0:13:27\u001b[39m"
     ]
    },
    {
     "name": "stdout",
     "output_type": "stream",
     "text": [
      "test reward at step 3060000: -5993.262649993959\n"
     ]
    },
    {
     "name": "stderr",
     "output_type": "stream",
     "text": [
      "\u001b[32mProgress:  77%|███████████████████████████████▌         |  ETA: 0:13:18\u001b[39m"
     ]
    },
    {
     "name": "stdout",
     "output_type": "stream",
     "text": [
      "test reward at step 3070000: -5975.693291218508\n"
     ]
    },
    {
     "name": "stderr",
     "output_type": "stream",
     "text": [
      "\u001b[32mProgress:  77%|███████████████████████████████▌         |  ETA: 0:13:11\u001b[39m"
     ]
    },
    {
     "name": "stdout",
     "output_type": "stream",
     "text": [
      "test reward at step 3080000: -5981.887002471985\n"
     ]
    },
    {
     "name": "stderr",
     "output_type": "stream",
     "text": [
      "\u001b[32mProgress:  77%|███████████████████████████████▋         |  ETA: 0:13:03\u001b[39m"
     ]
    },
    {
     "name": "stdout",
     "output_type": "stream",
     "text": [
      "test reward at step 3090000: -5983.529608149273\n"
     ]
    },
    {
     "name": "stderr",
     "output_type": "stream",
     "text": [
      "\u001b[32mProgress:  77%|███████████████████████████████▊         |  ETA: 0:12:55\u001b[39m"
     ]
    },
    {
     "name": "stdout",
     "output_type": "stream",
     "text": [
      "parameters at step 3100000 saved to ./RL_models/vtol_2D_ppo_3100000.bson\n"
     ]
    },
    {
     "name": "stderr",
     "output_type": "stream",
     "text": [
      "\r",
      "\u001b[32mProgress:  78%|███████████████████████████████▊         |  ETA: 0:12:55\u001b[39m"
     ]
    },
    {
     "name": "stdout",
     "output_type": "stream",
     "text": [
      "test reward at step 3100000: -5953.652639137115\n"
     ]
    },
    {
     "name": "stderr",
     "output_type": "stream",
     "text": [
      "\u001b[32mProgress:  78%|███████████████████████████████▉         |  ETA: 0:12:47\u001b[39m"
     ]
    },
    {
     "name": "stdout",
     "output_type": "stream",
     "text": [
      "test reward at step 3110000: -5925.796178085147\n"
     ]
    },
    {
     "name": "stderr",
     "output_type": "stream",
     "text": [
      "\u001b[32mProgress:  78%|████████████████████████████████         |  ETA: 0:12:39\u001b[39m"
     ]
    },
    {
     "name": "stdout",
     "output_type": "stream",
     "text": [
      "test reward at step 3120000: -5902.728718944714\n"
     ]
    },
    {
     "name": "stderr",
     "output_type": "stream",
     "text": [
      "\u001b[32mProgress:  78%|████████████████████████████████▏        |  ETA: 0:12:29\u001b[39m"
     ]
    },
    {
     "name": "stdout",
     "output_type": "stream",
     "text": [
      "test reward at step 3130000: -5871.5125632237405\n"
     ]
    },
    {
     "name": "stderr",
     "output_type": "stream",
     "text": [
      "\u001b[32mProgress:  79%|████████████████████████████████▏        |  ETA: 0:12:20\u001b[39m"
     ]
    },
    {
     "name": "stdout",
     "output_type": "stream",
     "text": [
      "test reward at step 3140000: -5849.213120273981\n"
     ]
    },
    {
     "name": "stderr",
     "output_type": "stream",
     "text": [
      "\u001b[32mProgress:  79%|████████████████████████████████▎        |  ETA: 0:12:12\u001b[39m"
     ]
    },
    {
     "name": "stdout",
     "output_type": "stream",
     "text": [
      "test reward at step 3150000: -5834.462946071975\n"
     ]
    },
    {
     "name": "stderr",
     "output_type": "stream",
     "text": [
      "\u001b[32mProgress:  79%|████████████████████████████████▍        |  ETA: 0:12:03\u001b[39m"
     ]
    },
    {
     "name": "stdout",
     "output_type": "stream",
     "text": [
      "test reward at step 3160000: -5810.959447299761\n"
     ]
    },
    {
     "name": "stderr",
     "output_type": "stream",
     "text": [
      "\u001b[32mProgress:  79%|████████████████████████████████▌        |  ETA: 0:11:54\u001b[39m"
     ]
    },
    {
     "name": "stdout",
     "output_type": "stream",
     "text": [
      "test reward at step 3170000: -5870.945544279501\n"
     ]
    },
    {
     "name": "stderr",
     "output_type": "stream",
     "text": [
      "\u001b[32mProgress:  79%|████████████████████████████████▋        |  ETA: 0:11:47\u001b[39m"
     ]
    },
    {
     "name": "stdout",
     "output_type": "stream",
     "text": [
      "test reward at step 3180000: -5843.42113357825\n"
     ]
    },
    {
     "name": "stderr",
     "output_type": "stream",
     "text": [
      "\u001b[32mProgress:  80%|████████████████████████████████▊        |  ETA: 0:11:37\u001b[39m"
     ]
    },
    {
     "name": "stdout",
     "output_type": "stream",
     "text": [
      "test reward at step 3190000: -5826.132547017717\n"
     ]
    },
    {
     "name": "stderr",
     "output_type": "stream",
     "text": [
      "\u001b[32mProgress:  80%|████████████████████████████████▊        |  ETA: 0:11:29\u001b[39m"
     ]
    },
    {
     "name": "stdout",
     "output_type": "stream",
     "text": [
      "parameters at step 3200000 saved to ./RL_models/vtol_2D_ppo_3200000.bson\n",
      "test reward at step 3200000: -5796.248023770826\n"
     ]
    },
    {
     "name": "stderr",
     "output_type": "stream",
     "text": [
      "\u001b[32mProgress:  80%|████████████████████████████████▉        |  ETA: 0:11:22\u001b[39m"
     ]
    },
    {
     "name": "stdout",
     "output_type": "stream",
     "text": [
      "test reward at step 3210000: -5813.505544575703\n"
     ]
    },
    {
     "name": "stderr",
     "output_type": "stream",
     "text": [
      "\u001b[32mProgress:  80%|█████████████████████████████████        |  ETA: 0:11:14\u001b[39m"
     ]
    },
    {
     "name": "stdout",
     "output_type": "stream",
     "text": [
      "test reward at step 3220000: -5780.944708934622\n"
     ]
    },
    {
     "name": "stderr",
     "output_type": "stream",
     "text": [
      "\u001b[32mProgress:  81%|█████████████████████████████████▏       |  ETA: 0:11:04\u001b[39m"
     ]
    },
    {
     "name": "stdout",
     "output_type": "stream",
     "text": [
      "test reward at step 3230000: -5753.0019898353885\n"
     ]
    },
    {
     "name": "stderr",
     "output_type": "stream",
     "text": [
      "\u001b[32mProgress:  81%|█████████████████████████████████▎       |  ETA: 0:10:58\u001b[39m"
     ]
    },
    {
     "name": "stdout",
     "output_type": "stream",
     "text": [
      "test reward at step 3240000: -5729.892281038456\n"
     ]
    },
    {
     "name": "stderr",
     "output_type": "stream",
     "text": [
      "\u001b[32mProgress:  81%|█████████████████████████████████▎       |  ETA: 0:10:48\u001b[39m"
     ]
    },
    {
     "name": "stdout",
     "output_type": "stream",
     "text": [
      "test reward at step 3250000: -5698.714517791634\n"
     ]
    },
    {
     "name": "stderr",
     "output_type": "stream",
     "text": [
      "\u001b[32mProgress:  81%|█████████████████████████████████▍       |  ETA: 0:10:39\u001b[39m"
     ]
    },
    {
     "name": "stdout",
     "output_type": "stream",
     "text": [
      "test reward at step 3260000: -5738.2043917331075\n"
     ]
    },
    {
     "name": "stderr",
     "output_type": "stream",
     "text": [
      "\u001b[32mProgress:  82%|█████████████████████████████████▌       |  ETA: 0:10:32\u001b[39m"
     ]
    },
    {
     "name": "stdout",
     "output_type": "stream",
     "text": [
      "test reward at step 3270000: -5718.986599232685\n"
     ]
    },
    {
     "name": "stderr",
     "output_type": "stream",
     "text": [
      "\u001b[32mProgress:  82%|█████████████████████████████████▋       |  ETA: 0:10:22\u001b[39m"
     ]
    },
    {
     "name": "stdout",
     "output_type": "stream",
     "text": [
      "test reward at step 3280000: -5689.651464598602\n"
     ]
    },
    {
     "name": "stderr",
     "output_type": "stream",
     "text": [
      "\u001b[32mProgress:  82%|█████████████████████████████████▊       |  ETA: 0:10:15\u001b[39m"
     ]
    },
    {
     "name": "stdout",
     "output_type": "stream",
     "text": [
      "test reward at step 3290000: -5662.30683904409\n"
     ]
    },
    {
     "name": "stderr",
     "output_type": "stream",
     "text": [
      "\u001b[32mProgress:  82%|█████████████████████████████████▊       |  ETA: 0:10:07\u001b[39m"
     ]
    },
    {
     "name": "stdout",
     "output_type": "stream",
     "text": [
      "parameters at step 3300000 saved to ./RL_models/vtol_2D_ppo_3300000.bson\n",
      "test reward at step 3300000: -5617.933660377414\n"
     ]
    },
    {
     "name": "stderr",
     "output_type": "stream",
     "text": [
      "\u001b[32mProgress:  83%|█████████████████████████████████▉       |  ETA: 0:09:58\u001b[39m"
     ]
    },
    {
     "name": "stdout",
     "output_type": "stream",
     "text": [
      "test reward at step 3310000: -5587.039906550312\n"
     ]
    },
    {
     "name": "stderr",
     "output_type": "stream",
     "text": [
      "\u001b[32mProgress:  83%|██████████████████████████████████       |  ETA: 0:09:49\u001b[39m"
     ]
    },
    {
     "name": "stdout",
     "output_type": "stream",
     "text": [
      "test reward at step 3320000: -5564.073110914417\n"
     ]
    },
    {
     "name": "stderr",
     "output_type": "stream",
     "text": [
      "\u001b[32mProgress:  83%|██████████████████████████████████▏      |  ETA: 0:09:42\u001b[39m"
     ]
    },
    {
     "name": "stdout",
     "output_type": "stream",
     "text": [
      "test reward at step 3330000: -5542.353026023136\n"
     ]
    },
    {
     "name": "stderr",
     "output_type": "stream",
     "text": [
      "\u001b[32mProgress:  83%|██████████████████████████████████▎      |  ETA: 0:09:34\u001b[39m"
     ]
    },
    {
     "name": "stdout",
     "output_type": "stream",
     "text": [
      "test reward at step 3340000: -5522.4640965498675\n"
     ]
    },
    {
     "name": "stderr",
     "output_type": "stream",
     "text": [
      "\u001b[32mProgress:  84%|██████████████████████████████████▍      |  ETA: 0:09:25\u001b[39m"
     ]
    },
    {
     "name": "stdout",
     "output_type": "stream",
     "text": [
      "test reward at step 3350000: -5508.8506425114365\n"
     ]
    },
    {
     "name": "stderr",
     "output_type": "stream",
     "text": [
      "\u001b[32mProgress:  84%|██████████████████████████████████▍      |  ETA: 0:09:17\u001b[39m"
     ]
    },
    {
     "name": "stdout",
     "output_type": "stream",
     "text": [
      "test reward at step 3360000: -5474.53827341924\n"
     ]
    },
    {
     "name": "stderr",
     "output_type": "stream",
     "text": [
      "\u001b[32mProgress:  84%|██████████████████████████████████▌      |  ETA: 0:09:07\u001b[39m"
     ]
    },
    {
     "name": "stdout",
     "output_type": "stream",
     "text": [
      "test reward at step 3370000: -5438.583567998027\n"
     ]
    },
    {
     "name": "stderr",
     "output_type": "stream",
     "text": [
      "\u001b[32mProgress:  84%|██████████████████████████████████▋      |  ETA: 0:09:00\u001b[39m"
     ]
    },
    {
     "name": "stdout",
     "output_type": "stream",
     "text": [
      "test reward at step 3380000: -5426.962001486497\n"
     ]
    },
    {
     "name": "stderr",
     "output_type": "stream",
     "text": [
      "\u001b[32mProgress:  85%|██████████████████████████████████▊      |  ETA: 0:08:51\u001b[39m"
     ]
    },
    {
     "name": "stdout",
     "output_type": "stream",
     "text": [
      "test reward at step 3390000: -5407.495352815491\n"
     ]
    },
    {
     "name": "stderr",
     "output_type": "stream",
     "text": [
      "\u001b[32mProgress:  85%|██████████████████████████████████▉      |  ETA: 0:08:43\u001b[39m"
     ]
    },
    {
     "name": "stdout",
     "output_type": "stream",
     "text": [
      "parameters at step 3400000 saved to ./RL_models/vtol_2D_ppo_3400000.bson\n",
      "test reward at step 3400000: -5393.322895653819\n"
     ]
    },
    {
     "name": "stderr",
     "output_type": "stream",
     "text": [
      "\u001b[32mProgress:  85%|███████████████████████████████████      |  ETA: 0:08:34\u001b[39m"
     ]
    },
    {
     "name": "stdout",
     "output_type": "stream",
     "text": [
      "test reward at step 3410000: -5384.5678312669015\n"
     ]
    },
    {
     "name": "stderr",
     "output_type": "stream",
     "text": [
      "\u001b[32mProgress:  85%|███████████████████████████████████      |  ETA: 0:08:25\u001b[39m"
     ]
    },
    {
     "name": "stdout",
     "output_type": "stream",
     "text": [
      "test reward at step 3420000: -5353.652722469846\n"
     ]
    },
    {
     "name": "stderr",
     "output_type": "stream",
     "text": [
      "\u001b[32mProgress:  86%|███████████████████████████████████▏     |  ETA: 0:08:18\u001b[39m"
     ]
    },
    {
     "name": "stdout",
     "output_type": "stream",
     "text": [
      "test reward at step 3430000: -5338.440518461284\n"
     ]
    },
    {
     "name": "stderr",
     "output_type": "stream",
     "text": [
      "\u001b[32mProgress:  86%|███████████████████████████████████▎     |  ETA: 0:08:10\u001b[39m"
     ]
    },
    {
     "name": "stdout",
     "output_type": "stream",
     "text": [
      "test reward at step 3440000: -5310.469012673366\n"
     ]
    },
    {
     "name": "stderr",
     "output_type": "stream",
     "text": [
      "\u001b[32mProgress:  86%|███████████████████████████████████▍     |  ETA: 0:08:02\u001b[39m"
     ]
    },
    {
     "name": "stdout",
     "output_type": "stream",
     "text": [
      "test reward at step 3450000: -5289.707095813545\n"
     ]
    },
    {
     "name": "stderr",
     "output_type": "stream",
     "text": [
      "\u001b[32mProgress:  86%|███████████████████████████████████▌     |  ETA: 0:07:52\u001b[39m"
     ]
    },
    {
     "name": "stdout",
     "output_type": "stream",
     "text": [
      "test reward at step 3460000: -5253.935407172625\n"
     ]
    },
    {
     "name": "stderr",
     "output_type": "stream",
     "text": [
      "\u001b[32mProgress:  87%|███████████████████████████████████▌     |  ETA: 0:07:43\u001b[39m"
     ]
    },
    {
     "name": "stdout",
     "output_type": "stream",
     "text": [
      "test reward at step 3470000: -5229.781295690658\n"
     ]
    },
    {
     "name": "stderr",
     "output_type": "stream",
     "text": [
      "\u001b[32mProgress:  87%|███████████████████████████████████▋     |  ETA: 0:07:34\u001b[39m"
     ]
    },
    {
     "name": "stdout",
     "output_type": "stream",
     "text": [
      "test reward at step 3480000: -5238.300704920145\n"
     ]
    },
    {
     "name": "stderr",
     "output_type": "stream",
     "text": [
      "\u001b[32mProgress:  87%|███████████████████████████████████▊     |  ETA: 0:07:26\u001b[39m"
     ]
    },
    {
     "name": "stdout",
     "output_type": "stream",
     "text": [
      "test reward at step 3490000: -5218.861275878306\n"
     ]
    },
    {
     "name": "stderr",
     "output_type": "stream",
     "text": [
      "\u001b[32mProgress:  87%|███████████████████████████████████▉     |  ETA: 0:07:17\u001b[39m"
     ]
    },
    {
     "name": "stdout",
     "output_type": "stream",
     "text": [
      "parameters at step 3500000 saved to ./RL_models/vtol_2D_ppo_3500000.bson\n",
      "test reward at step 3500000: -5193.351675252573\n"
     ]
    },
    {
     "name": "stderr",
     "output_type": "stream",
     "text": [
      "\u001b[32mProgress:  88%|████████████████████████████████████     |  ETA: 0:07:10\u001b[39m"
     ]
    },
    {
     "name": "stdout",
     "output_type": "stream",
     "text": [
      "test reward at step 3510000: -5166.794523070263\n"
     ]
    },
    {
     "name": "stderr",
     "output_type": "stream",
     "text": [
      "\u001b[32mProgress:  88%|████████████████████████████████████▏    |  ETA: 0:07:00\u001b[39m"
     ]
    },
    {
     "name": "stdout",
     "output_type": "stream",
     "text": [
      "test reward at step 3520000: -5144.041449828785\n"
     ]
    },
    {
     "name": "stderr",
     "output_type": "stream",
     "text": [
      "\u001b[32mProgress:  88%|████████████████████████████████████▏    |  ETA: 0:06:52\u001b[39m"
     ]
    },
    {
     "name": "stdout",
     "output_type": "stream",
     "text": [
      "test reward at step 3530000: -5125.026660123406\n"
     ]
    },
    {
     "name": "stderr",
     "output_type": "stream",
     "text": [
      "\u001b[32mProgress:  88%|████████████████████████████████████▎    |  ETA: 0:06:43\u001b[39m"
     ]
    },
    {
     "name": "stdout",
     "output_type": "stream",
     "text": [
      "test reward at step 3540000: -5103.3559690443235\n"
     ]
    },
    {
     "name": "stderr",
     "output_type": "stream",
     "text": [
      "\u001b[32mProgress:  89%|████████████████████████████████████▍    |  ETA: 0:06:35\u001b[39m"
     ]
    },
    {
     "name": "stdout",
     "output_type": "stream",
     "text": [
      "test reward at step 3550000: -5083.117568610088\n"
     ]
    },
    {
     "name": "stderr",
     "output_type": "stream",
     "text": [
      "\u001b[32mProgress:  89%|████████████████████████████████████▌    |  ETA: 0:06:27\u001b[39m"
     ]
    },
    {
     "name": "stdout",
     "output_type": "stream",
     "text": [
      "test reward at step 3560000: -5076.691045544797\n"
     ]
    },
    {
     "name": "stderr",
     "output_type": "stream",
     "text": [
      "\u001b[32mProgress:  89%|████████████████████████████████████▋    |  ETA: 0:06:17\u001b[39m"
     ]
    },
    {
     "name": "stdout",
     "output_type": "stream",
     "text": [
      "test reward at step 3570000: -5052.499751726126\n"
     ]
    },
    {
     "name": "stderr",
     "output_type": "stream",
     "text": [
      "\u001b[32mProgress:  89%|████████████████████████████████████▋    |  ETA: 0:06:09\u001b[39m"
     ]
    },
    {
     "name": "stdout",
     "output_type": "stream",
     "text": [
      "test reward at step 3580000: -5041.263949977139\n"
     ]
    },
    {
     "name": "stderr",
     "output_type": "stream",
     "text": [
      "\u001b[32mProgress:  90%|████████████████████████████████████▊    |  ETA: 0:06:00\u001b[39m"
     ]
    },
    {
     "name": "stdout",
     "output_type": "stream",
     "text": [
      "test reward at step 3590000: -5018.051589708759\n"
     ]
    },
    {
     "name": "stderr",
     "output_type": "stream",
     "text": [
      "\u001b[32mProgress:  90%|████████████████████████████████████▉    |  ETA: 0:05:52\u001b[39m"
     ]
    },
    {
     "name": "stdout",
     "output_type": "stream",
     "text": [
      "parameters at step 3600000 saved to ./RL_models/vtol_2D_ppo_3600000.bson\n",
      "test reward at step 3600000: -5000.445704228412\n"
     ]
    },
    {
     "name": "stderr",
     "output_type": "stream",
     "text": [
      "\u001b[32mProgress:  90%|█████████████████████████████████████    |  ETA: 0:05:42\u001b[39m"
     ]
    },
    {
     "name": "stdout",
     "output_type": "stream",
     "text": [
      "test reward at step 3610000: -4982.249982285126\n"
     ]
    },
    {
     "name": "stderr",
     "output_type": "stream",
     "text": [
      "\u001b[32mProgress:  90%|█████████████████████████████████████▏   |  ETA: 0:05:35\u001b[39m"
     ]
    },
    {
     "name": "stdout",
     "output_type": "stream",
     "text": [
      "test reward at step 3620000: -4954.26078436025\n"
     ]
    },
    {
     "name": "stderr",
     "output_type": "stream",
     "text": [
      "\u001b[32mProgress:  91%|█████████████████████████████████████▎   |  ETA: 0:05:26\u001b[39m"
     ]
    },
    {
     "name": "stdout",
     "output_type": "stream",
     "text": [
      "test reward at step 3630000: -4934.856821909796\n"
     ]
    },
    {
     "name": "stderr",
     "output_type": "stream",
     "text": [
      "\u001b[32mProgress:  91%|█████████████████████████████████████▎   |  ETA: 0:05:17\u001b[39m"
     ]
    },
    {
     "name": "stdout",
     "output_type": "stream",
     "text": [
      "test reward at step 3640000: -4914.919791998498\n"
     ]
    },
    {
     "name": "stderr",
     "output_type": "stream",
     "text": [
      "\u001b[32mProgress:  91%|█████████████████████████████████████▍   |  ETA: 0:05:08\u001b[39m"
     ]
    },
    {
     "name": "stdout",
     "output_type": "stream",
     "text": [
      "test reward at step 3650000: -4893.8582738980385\n"
     ]
    },
    {
     "name": "stderr",
     "output_type": "stream",
     "text": [
      "\u001b[32mProgress:  91%|█████████████████████████████████████▌   |  ETA: 0:05:00\u001b[39m"
     ]
    },
    {
     "name": "stdout",
     "output_type": "stream",
     "text": [
      "test reward at step 3660000: -4867.966661330637\n"
     ]
    },
    {
     "name": "stderr",
     "output_type": "stream",
     "text": [
      "\u001b[32mProgress:  92%|█████████████████████████████████████▋   |  ETA: 0:04:50\u001b[39m"
     ]
    },
    {
     "name": "stdout",
     "output_type": "stream",
     "text": [
      "test reward at step 3670000: -4919.211450013419\n"
     ]
    },
    {
     "name": "stderr",
     "output_type": "stream",
     "text": [
      "\u001b[32mProgress:  92%|█████████████████████████████████████▊   |  ETA: 0:04:41\u001b[39m"
     ]
    },
    {
     "name": "stdout",
     "output_type": "stream",
     "text": [
      "test reward at step 3680000: -4994.3796923557165\n"
     ]
    },
    {
     "name": "stderr",
     "output_type": "stream",
     "text": [
      "\u001b[32mProgress:  92%|█████████████████████████████████████▉   |  ETA: 0:04:32\u001b[39m"
     ]
    },
    {
     "name": "stdout",
     "output_type": "stream",
     "text": [
      "test reward at step 3690000: -4981.984480472631\n"
     ]
    },
    {
     "name": "stderr",
     "output_type": "stream",
     "text": [
      "\u001b[32mProgress:  92%|█████████████████████████████████████▉   |  ETA: 0:04:24\u001b[39m"
     ]
    },
    {
     "name": "stdout",
     "output_type": "stream",
     "text": [
      "parameters at step 3700000 saved to ./RL_models/vtol_2D_ppo_3700000.bson\n",
      "test reward at step 3700000: -4969.217863948057\n"
     ]
    },
    {
     "name": "stderr",
     "output_type": "stream",
     "text": [
      "\u001b[32mProgress:  93%|██████████████████████████████████████   |  ETA: 0:04:15\u001b[39m"
     ]
    },
    {
     "name": "stdout",
     "output_type": "stream",
     "text": [
      "test reward at step 3710000: -4950.768506165532\n"
     ]
    },
    {
     "name": "stderr",
     "output_type": "stream",
     "text": [
      "\u001b[32mProgress:  93%|██████████████████████████████████████▏  |  ETA: 0:04:07\u001b[39m"
     ]
    },
    {
     "name": "stdout",
     "output_type": "stream",
     "text": [
      "test reward at step 3720000: -4955.130724320776\n"
     ]
    },
    {
     "name": "stderr",
     "output_type": "stream",
     "text": [
      "\u001b[32mProgress:  93%|██████████████████████████████████████▎  |  ETA: 0:03:59\u001b[39m"
     ]
    },
    {
     "name": "stdout",
     "output_type": "stream",
     "text": [
      "test reward at step 3730000: -4935.339106760066\n"
     ]
    },
    {
     "name": "stderr",
     "output_type": "stream",
     "text": [
      "\u001b[32mProgress:  93%|██████████████████████████████████████▍  |  ETA: 0:03:49\u001b[39m"
     ]
    },
    {
     "name": "stdout",
     "output_type": "stream",
     "text": [
      "test reward at step 3740000: -4911.818639528633\n"
     ]
    },
    {
     "name": "stderr",
     "output_type": "stream",
     "text": [
      "\u001b[32mProgress:  94%|██████████████████████████████████████▍  |  ETA: 0:03:40\u001b[39m"
     ]
    },
    {
     "name": "stdout",
     "output_type": "stream",
     "text": [
      "test reward at step 3750000: -4884.128002232213\n"
     ]
    },
    {
     "name": "stderr",
     "output_type": "stream",
     "text": [
      "\u001b[32mProgress:  94%|██████████████████████████████████████▌  |  ETA: 0:03:31\u001b[39m"
     ]
    },
    {
     "name": "stdout",
     "output_type": "stream",
     "text": [
      "test reward at step 3760000: -4890.433050221686\n"
     ]
    },
    {
     "name": "stderr",
     "output_type": "stream",
     "text": [
      "\u001b[32mProgress:  94%|██████████████████████████████████████▋  |  ETA: 0:03:22\u001b[39m"
     ]
    },
    {
     "name": "stdout",
     "output_type": "stream",
     "text": [
      "test reward at step 3770000: -4879.489210215516\n"
     ]
    },
    {
     "name": "stderr",
     "output_type": "stream",
     "text": [
      "\u001b[32mProgress:  94%|██████████████████████████████████████▊  |  ETA: 0:03:14\u001b[39m"
     ]
    },
    {
     "name": "stdout",
     "output_type": "stream",
     "text": [
      "test reward at step 3780000: -4860.56776784527\n"
     ]
    },
    {
     "name": "stderr",
     "output_type": "stream",
     "text": [
      "\u001b[32mProgress:  95%|██████████████████████████████████████▉  |  ETA: 0:03:06\u001b[39m"
     ]
    },
    {
     "name": "stdout",
     "output_type": "stream",
     "text": [
      "test reward at step 3790000: -4832.993009196383\n"
     ]
    },
    {
     "name": "stderr",
     "output_type": "stream",
     "text": [
      "\u001b[32mProgress:  95%|███████████████████████████████████████  |  ETA: 0:02:56\u001b[39m"
     ]
    },
    {
     "name": "stdout",
     "output_type": "stream",
     "text": [
      "parameters at step 3800000 saved to ./RL_models/vtol_2D_ppo_3800000.bson\n",
      "test reward at step 3800000: -4805.494466460034\n"
     ]
    },
    {
     "name": "stderr",
     "output_type": "stream",
     "text": [
      "\u001b[32mProgress:  95%|███████████████████████████████████████  |  ETA: 0:02:48\u001b[39m"
     ]
    },
    {
     "name": "stdout",
     "output_type": "stream",
     "text": [
      "test reward at step 3810000: -4811.4628345194305\n"
     ]
    },
    {
     "name": "stderr",
     "output_type": "stream",
     "text": [
      "\u001b[32mProgress:  95%|███████████████████████████████████████▏ |  ETA: 0:02:39\u001b[39m"
     ]
    },
    {
     "name": "stdout",
     "output_type": "stream",
     "text": [
      "test reward at step 3820000: -4797.359808009405\n"
     ]
    },
    {
     "name": "stderr",
     "output_type": "stream",
     "text": [
      "\u001b[32mProgress:  96%|███████████████████████████████████████▎ |  ETA: 0:02:30\u001b[39m"
     ]
    },
    {
     "name": "stdout",
     "output_type": "stream",
     "text": [
      "test reward at step 3830000: -4781.395137123568\n"
     ]
    },
    {
     "name": "stderr",
     "output_type": "stream",
     "text": [
      "\u001b[32mProgress:  96%|███████████████████████████████████████▍ |  ETA: 0:02:22\u001b[39m"
     ]
    },
    {
     "name": "stdout",
     "output_type": "stream",
     "text": [
      "test reward at step 3840000: -4762.912557481246\n"
     ]
    },
    {
     "name": "stderr",
     "output_type": "stream",
     "text": [
      "\u001b[32mProgress:  96%|███████████████████████████████████████▌ |  ETA: 0:02:12\u001b[39m"
     ]
    },
    {
     "name": "stdout",
     "output_type": "stream",
     "text": [
      "test reward at step 3850000: -4764.850989714373\n"
     ]
    },
    {
     "name": "stderr",
     "output_type": "stream",
     "text": [
      "\u001b[32mProgress:  96%|███████████████████████████████████████▌ |  ETA: 0:02:05\u001b[39m"
     ]
    },
    {
     "name": "stdout",
     "output_type": "stream",
     "text": [
      "test reward at step 3860000: -4776.273717087961\n"
     ]
    },
    {
     "name": "stderr",
     "output_type": "stream",
     "text": [
      "\u001b[32mProgress:  97%|███████████████████████████████████████▋ |  ETA: 0:01:56\u001b[39m"
     ]
    },
    {
     "name": "stdout",
     "output_type": "stream",
     "text": [
      "test reward at step 3870000: -4746.013064727657\n"
     ]
    },
    {
     "name": "stderr",
     "output_type": "stream",
     "text": [
      "\u001b[32mProgress:  97%|███████████████████████████████████████▊ |  ETA: 0:01:48\u001b[39m"
     ]
    },
    {
     "name": "stdout",
     "output_type": "stream",
     "text": [
      "test reward at step 3880000: -4715.50405515356\n"
     ]
    },
    {
     "name": "stderr",
     "output_type": "stream",
     "text": [
      "\u001b[32mProgress:  97%|███████████████████████████████████████▉ |  ETA: 0:01:38\u001b[39m"
     ]
    },
    {
     "name": "stdout",
     "output_type": "stream",
     "text": [
      "test reward at step 3890000: -4692.84801341152\n"
     ]
    },
    {
     "name": "stderr",
     "output_type": "stream",
     "text": [
      "\u001b[32mProgress:  97%|████████████████████████████████████████ |  ETA: 0:01:30\u001b[39m"
     ]
    },
    {
     "name": "stdout",
     "output_type": "stream",
     "text": [
      "parameters at step 3900000 saved to ./RL_models/vtol_2D_ppo_3900000.bson\n",
      "test reward at step 3900000: -4676.513279727171\n"
     ]
    },
    {
     "name": "stderr",
     "output_type": "stream",
     "text": [
      "\u001b[32mProgress:  98%|████████████████████████████████████████▏|  ETA: 0:01:21\u001b[39m"
     ]
    },
    {
     "name": "stdout",
     "output_type": "stream",
     "text": [
      "test reward at step 3910000: -4659.71234152845\n"
     ]
    },
    {
     "name": "stderr",
     "output_type": "stream",
     "text": [
      "\u001b[32mProgress:  98%|████████████████████████████████████████▏|  ETA: 0:01:11\u001b[39m"
     ]
    },
    {
     "name": "stdout",
     "output_type": "stream",
     "text": [
      "test reward at step 3920000: -4627.426308382459\n"
     ]
    },
    {
     "name": "stderr",
     "output_type": "stream",
     "text": [
      "\u001b[32mProgress:  98%|████████████████████████████████████████▎|  ETA: 0:01:02\u001b[39m"
     ]
    },
    {
     "name": "stdout",
     "output_type": "stream",
     "text": [
      "test reward at step 3930000: -4611.187500293848\n"
     ]
    },
    {
     "name": "stderr",
     "output_type": "stream",
     "text": [
      "\u001b[32mProgress:  98%|████████████████████████████████████████▍|  ETA: 0:00:54\u001b[39m"
     ]
    },
    {
     "name": "stdout",
     "output_type": "stream",
     "text": [
      "test reward at step 3940000: -4585.752817407105\n"
     ]
    },
    {
     "name": "stderr",
     "output_type": "stream",
     "text": [
      "\u001b[32mProgress:  99%|████████████████████████████████████████▌|  ETA: 0:00:46\u001b[39m"
     ]
    },
    {
     "name": "stdout",
     "output_type": "stream",
     "text": [
      "test reward at step 3950000: -4558.308816479082\n"
     ]
    },
    {
     "name": "stderr",
     "output_type": "stream",
     "text": [
      "\u001b[32mProgress:  99%|████████████████████████████████████████▋|  ETA: 0:00:37\u001b[39m"
     ]
    },
    {
     "name": "stdout",
     "output_type": "stream",
     "text": [
      "test reward at step 3960000: -4543.333217972994\n"
     ]
    },
    {
     "name": "stderr",
     "output_type": "stream",
     "text": [
      "\u001b[32mProgress:  99%|████████████████████████████████████████▋|  ETA: 0:00:27\u001b[39m"
     ]
    },
    {
     "name": "stdout",
     "output_type": "stream",
     "text": [
      "test reward at step 3970000: -4524.731264992678\n"
     ]
    },
    {
     "name": "stderr",
     "output_type": "stream",
     "text": [
      "\u001b[32mProgress:  99%|████████████████████████████████████████▊|  ETA: 0:00:20\u001b[39m"
     ]
    },
    {
     "name": "stdout",
     "output_type": "stream",
     "text": [
      "test reward at step 3980000: -4509.384814447799\n"
     ]
    },
    {
     "name": "stderr",
     "output_type": "stream",
     "text": [
      "\u001b[32mProgress: 100%|████████████████████████████████████████▉|  ETA: 0:00:09\u001b[39m"
     ]
    },
    {
     "name": "stdout",
     "output_type": "stream",
     "text": [
      "test reward at step 3990000: -4479.5320056528835\n"
     ]
    },
    {
     "name": "stderr",
     "output_type": "stream",
     "text": [
      "\u001b[32mProgress: 100%|█████████████████████████████████████████| Time: 0:58:51\u001b[39m\n"
     ]
    },
    {
     "name": "stdout",
     "output_type": "stream",
     "text": [
      "parameters at step 4000000 saved to ./RL_models/vtol_2D_ppo_4000000.bson\n",
      "test reward at step 4000000: -4460.237160087603\n"
     ]
    }
   ],
   "source": [
    "ReinforcementLearning.run(\n",
    "    agent,\n",
    "    env,\n",
    "    StopAfterStep(4_000_000),\n",
    "    ComposedHook(\n",
    "        DoEveryNStep(saveModel, n=100_000), \n",
    "        DoEveryNStep(validate_policy, n=10_000)),\n",
    ")\n"
   ]
  },
  {
   "cell_type": "code",
   "execution_count": 25,
   "id": "49a302a6",
   "metadata": {},
   "outputs": [
    {
     "data": {
      "image/svg+xml": [
       "<?xml version=\"1.0\" encoding=\"utf-8\"?>\n",
       "<svg xmlns=\"http://www.w3.org/2000/svg\" xmlns:xlink=\"http://www.w3.org/1999/xlink\" width=\"600\" height=\"400\" viewBox=\"0 0 2400 1600\">\n",
       "<defs>\n",
       "  <clipPath id=\"clip880\">\n",
       "    <rect x=\"0\" y=\"0\" width=\"2400\" height=\"1600\"/>\n",
       "  </clipPath>\n",
       "</defs>\n",
       "<path clip-path=\"url(#clip880)\" d=\"\n",
       "M0 1600 L2400 1600 L2400 0 L0 0  Z\n",
       "  \" fill=\"#ffffff\" fill-rule=\"evenodd\" fill-opacity=\"1\"/>\n",
       "<defs>\n",
       "  <clipPath id=\"clip881\">\n",
       "    <rect x=\"480\" y=\"0\" width=\"1681\" height=\"1600\"/>\n",
       "  </clipPath>\n",
       "</defs>\n",
       "<path clip-path=\"url(#clip880)\" d=\"\n",
       "M314.445 1486.45 L2352.76 1486.45 L2352.76 47.2441 L314.445 47.2441  Z\n",
       "  \" fill=\"#ffffff\" fill-rule=\"evenodd\" fill-opacity=\"1\"/>\n",
       "<defs>\n",
       "  <clipPath id=\"clip882\">\n",
       "    <rect x=\"314\" y=\"47\" width=\"2039\" height=\"1440\"/>\n",
       "  </clipPath>\n",
       "</defs>\n",
       "<polyline clip-path=\"url(#clip882)\" style=\"stroke:#000000; stroke-linecap:round; stroke-linejoin:round; stroke-width:2; stroke-opacity:0.1; fill:none\" points=\"\n",
       "  367.313,1486.45 367.313,47.2441 \n",
       "  \"/>\n",
       "<polyline clip-path=\"url(#clip882)\" style=\"stroke:#000000; stroke-linecap:round; stroke-linejoin:round; stroke-width:2; stroke-opacity:0.1; fill:none\" points=\"\n",
       "  849.252,1486.45 849.252,47.2441 \n",
       "  \"/>\n",
       "<polyline clip-path=\"url(#clip882)\" style=\"stroke:#000000; stroke-linecap:round; stroke-linejoin:round; stroke-width:2; stroke-opacity:0.1; fill:none\" points=\"\n",
       "  1331.19,1486.45 1331.19,47.2441 \n",
       "  \"/>\n",
       "<polyline clip-path=\"url(#clip882)\" style=\"stroke:#000000; stroke-linecap:round; stroke-linejoin:round; stroke-width:2; stroke-opacity:0.1; fill:none\" points=\"\n",
       "  1813.13,1486.45 1813.13,47.2441 \n",
       "  \"/>\n",
       "<polyline clip-path=\"url(#clip882)\" style=\"stroke:#000000; stroke-linecap:round; stroke-linejoin:round; stroke-width:2; stroke-opacity:0.1; fill:none\" points=\"\n",
       "  2295.07,1486.45 2295.07,47.2441 \n",
       "  \"/>\n",
       "<polyline clip-path=\"url(#clip880)\" style=\"stroke:#000000; stroke-linecap:round; stroke-linejoin:round; stroke-width:4; stroke-opacity:1; fill:none\" points=\"\n",
       "  314.445,1486.45 2352.76,1486.45 \n",
       "  \"/>\n",
       "<polyline clip-path=\"url(#clip880)\" style=\"stroke:#000000; stroke-linecap:round; stroke-linejoin:round; stroke-width:4; stroke-opacity:1; fill:none\" points=\"\n",
       "  367.313,1486.45 367.313,1467.55 \n",
       "  \"/>\n",
       "<polyline clip-path=\"url(#clip880)\" style=\"stroke:#000000; stroke-linecap:round; stroke-linejoin:round; stroke-width:4; stroke-opacity:1; fill:none\" points=\"\n",
       "  849.252,1486.45 849.252,1467.55 \n",
       "  \"/>\n",
       "<polyline clip-path=\"url(#clip880)\" style=\"stroke:#000000; stroke-linecap:round; stroke-linejoin:round; stroke-width:4; stroke-opacity:1; fill:none\" points=\"\n",
       "  1331.19,1486.45 1331.19,1467.55 \n",
       "  \"/>\n",
       "<polyline clip-path=\"url(#clip880)\" style=\"stroke:#000000; stroke-linecap:round; stroke-linejoin:round; stroke-width:4; stroke-opacity:1; fill:none\" points=\"\n",
       "  1813.13,1486.45 1813.13,1467.55 \n",
       "  \"/>\n",
       "<polyline clip-path=\"url(#clip880)\" style=\"stroke:#000000; stroke-linecap:round; stroke-linejoin:round; stroke-width:4; stroke-opacity:1; fill:none\" points=\"\n",
       "  2295.07,1486.45 2295.07,1467.55 \n",
       "  \"/>\n",
       "<path clip-path=\"url(#clip880)\" d=\"M367.313 1517.37 Q363.702 1517.37 361.873 1520.93 Q360.068 1524.47 360.068 1531.6 Q360.068 1538.71 361.873 1542.27 Q363.702 1545.82 367.313 1545.82 Q370.948 1545.82 372.753 1542.27 Q374.582 1538.71 374.582 1531.6 Q374.582 1524.47 372.753 1520.93 Q370.948 1517.37 367.313 1517.37 M367.313 1513.66 Q373.123 1513.66 376.179 1518.27 Q379.258 1522.85 379.258 1531.6 Q379.258 1540.33 376.179 1544.94 Q373.123 1549.52 367.313 1549.52 Q361.503 1549.52 358.424 1544.94 Q355.369 1540.33 355.369 1531.6 Q355.369 1522.85 358.424 1518.27 Q361.503 1513.66 367.313 1513.66 Z\" fill=\"#000000\" fill-rule=\"evenodd\" fill-opacity=\"1\" /><path clip-path=\"url(#clip880)\" d=\"M808.859 1544.91 L816.497 1544.91 L816.497 1518.55 L808.187 1520.21 L808.187 1515.95 L816.451 1514.29 L821.127 1514.29 L821.127 1544.91 L828.766 1544.91 L828.766 1548.85 L808.859 1548.85 L808.859 1544.91 Z\" fill=\"#000000\" fill-rule=\"evenodd\" fill-opacity=\"1\" /><path clip-path=\"url(#clip880)\" d=\"M848.21 1517.37 Q844.599 1517.37 842.77 1520.93 Q840.965 1524.47 840.965 1531.6 Q840.965 1538.71 842.77 1542.27 Q844.599 1545.82 848.21 1545.82 Q851.845 1545.82 853.65 1542.27 Q855.479 1538.71 855.479 1531.6 Q855.479 1524.47 853.65 1520.93 Q851.845 1517.37 848.21 1517.37 M848.21 1513.66 Q854.02 1513.66 857.076 1518.27 Q860.155 1522.85 860.155 1531.6 Q860.155 1540.33 857.076 1544.94 Q854.02 1549.52 848.21 1549.52 Q842.4 1549.52 839.321 1544.94 Q836.266 1540.33 836.266 1531.6 Q836.266 1522.85 839.321 1518.27 Q842.4 1513.66 848.21 1513.66 Z\" fill=\"#000000\" fill-rule=\"evenodd\" fill-opacity=\"1\" /><path clip-path=\"url(#clip880)\" d=\"M878.372 1517.37 Q874.761 1517.37 872.932 1520.93 Q871.127 1524.47 871.127 1531.6 Q871.127 1538.71 872.932 1542.27 Q874.761 1545.82 878.372 1545.82 Q882.006 1545.82 883.812 1542.27 Q885.641 1538.71 885.641 1531.6 Q885.641 1524.47 883.812 1520.93 Q882.006 1517.37 878.372 1517.37 M878.372 1513.66 Q884.182 1513.66 887.238 1518.27 Q890.317 1522.85 890.317 1531.6 Q890.317 1540.33 887.238 1544.94 Q884.182 1549.52 878.372 1549.52 Q872.562 1549.52 869.483 1544.94 Q866.428 1540.33 866.428 1531.6 Q866.428 1522.85 869.483 1518.27 Q872.562 1513.66 878.372 1513.66 Z\" fill=\"#000000\" fill-rule=\"evenodd\" fill-opacity=\"1\" /><path clip-path=\"url(#clip880)\" d=\"M1294.88 1544.91 L1311.2 1544.91 L1311.2 1548.85 L1289.26 1548.85 L1289.26 1544.91 Q1291.92 1542.16 1296.5 1537.53 Q1301.11 1532.88 1302.29 1531.53 Q1304.54 1529.01 1305.42 1527.27 Q1306.32 1525.51 1306.32 1523.82 Q1306.32 1521.07 1304.37 1519.33 Q1302.45 1517.6 1299.35 1517.6 Q1297.15 1517.6 1294.7 1518.36 Q1292.27 1519.13 1289.49 1520.68 L1289.49 1515.95 Q1292.31 1514.82 1294.77 1514.24 Q1297.22 1513.66 1299.26 1513.66 Q1304.63 1513.66 1307.82 1516.35 Q1311.02 1519.03 1311.02 1523.52 Q1311.02 1525.65 1310.21 1527.57 Q1309.42 1529.47 1307.31 1532.07 Q1306.73 1532.74 1303.63 1535.95 Q1300.53 1539.15 1294.88 1544.91 Z\" fill=\"#000000\" fill-rule=\"evenodd\" fill-opacity=\"1\" /><path clip-path=\"url(#clip880)\" d=\"M1331.02 1517.37 Q1327.41 1517.37 1325.58 1520.93 Q1323.77 1524.47 1323.77 1531.6 Q1323.77 1538.71 1325.58 1542.27 Q1327.41 1545.82 1331.02 1545.82 Q1334.65 1545.82 1336.46 1542.27 Q1338.29 1538.71 1338.29 1531.6 Q1338.29 1524.47 1336.46 1520.93 Q1334.65 1517.37 1331.02 1517.37 M1331.02 1513.66 Q1336.83 1513.66 1339.88 1518.27 Q1342.96 1522.85 1342.96 1531.6 Q1342.96 1540.33 1339.88 1544.94 Q1336.83 1549.52 1331.02 1549.52 Q1325.21 1549.52 1322.13 1544.94 Q1319.07 1540.33 1319.07 1531.6 Q1319.07 1522.85 1322.13 1518.27 Q1325.21 1513.66 1331.02 1513.66 Z\" fill=\"#000000\" fill-rule=\"evenodd\" fill-opacity=\"1\" /><path clip-path=\"url(#clip880)\" d=\"M1361.18 1517.37 Q1357.57 1517.37 1355.74 1520.93 Q1353.93 1524.47 1353.93 1531.6 Q1353.93 1538.71 1355.74 1542.27 Q1357.57 1545.82 1361.18 1545.82 Q1364.81 1545.82 1366.62 1542.27 Q1368.45 1538.71 1368.45 1531.6 Q1368.45 1524.47 1366.62 1520.93 Q1364.81 1517.37 1361.18 1517.37 M1361.18 1513.66 Q1366.99 1513.66 1370.04 1518.27 Q1373.12 1522.85 1373.12 1531.6 Q1373.12 1540.33 1370.04 1544.94 Q1366.99 1549.52 1361.18 1549.52 Q1355.37 1549.52 1352.29 1544.94 Q1349.23 1540.33 1349.23 1531.6 Q1349.23 1522.85 1352.29 1518.27 Q1355.37 1513.66 1361.18 1513.66 Z\" fill=\"#000000\" fill-rule=\"evenodd\" fill-opacity=\"1\" /><path clip-path=\"url(#clip880)\" d=\"M1786.89 1530.21 Q1790.25 1530.93 1792.12 1533.2 Q1794.02 1535.47 1794.02 1538.8 Q1794.02 1543.92 1790.5 1546.72 Q1786.98 1549.52 1780.5 1549.52 Q1778.33 1549.52 1776.01 1549.08 Q1773.72 1548.66 1771.27 1547.81 L1771.27 1543.29 Q1773.21 1544.43 1775.53 1545.01 Q1777.84 1545.58 1780.36 1545.58 Q1784.76 1545.58 1787.05 1543.85 Q1789.37 1542.11 1789.37 1538.8 Q1789.37 1535.75 1787.21 1534.03 Q1785.09 1532.3 1781.27 1532.3 L1777.24 1532.3 L1777.24 1528.45 L1781.45 1528.45 Q1784.9 1528.45 1786.73 1527.09 Q1788.56 1525.7 1788.56 1523.11 Q1788.56 1520.45 1786.66 1519.03 Q1784.78 1517.6 1781.27 1517.6 Q1779.34 1517.6 1777.15 1518.01 Q1774.95 1518.43 1772.31 1519.31 L1772.31 1515.14 Q1774.97 1514.4 1777.28 1514.03 Q1779.62 1513.66 1781.68 1513.66 Q1787.01 1513.66 1790.11 1516.09 Q1793.21 1518.5 1793.21 1522.62 Q1793.21 1525.49 1791.57 1527.48 Q1789.92 1529.45 1786.89 1530.21 Z\" fill=\"#000000\" fill-rule=\"evenodd\" fill-opacity=\"1\" /><path clip-path=\"url(#clip880)\" d=\"M1812.89 1517.37 Q1809.28 1517.37 1807.45 1520.93 Q1805.64 1524.47 1805.64 1531.6 Q1805.64 1538.71 1807.45 1542.27 Q1809.28 1545.82 1812.89 1545.82 Q1816.52 1545.82 1818.33 1542.27 Q1820.15 1538.71 1820.15 1531.6 Q1820.15 1524.47 1818.33 1520.93 Q1816.52 1517.37 1812.89 1517.37 M1812.89 1513.66 Q1818.7 1513.66 1821.75 1518.27 Q1824.83 1522.85 1824.83 1531.6 Q1824.83 1540.33 1821.75 1544.94 Q1818.7 1549.52 1812.89 1549.52 Q1807.08 1549.52 1804 1544.94 Q1800.94 1540.33 1800.94 1531.6 Q1800.94 1522.85 1804 1518.27 Q1807.08 1513.66 1812.89 1513.66 Z\" fill=\"#000000\" fill-rule=\"evenodd\" fill-opacity=\"1\" /><path clip-path=\"url(#clip880)\" d=\"M1843.05 1517.37 Q1839.44 1517.37 1837.61 1520.93 Q1835.8 1524.47 1835.8 1531.6 Q1835.8 1538.71 1837.61 1542.27 Q1839.44 1545.82 1843.05 1545.82 Q1846.68 1545.82 1848.49 1542.27 Q1850.32 1538.71 1850.32 1531.6 Q1850.32 1524.47 1848.49 1520.93 Q1846.68 1517.37 1843.05 1517.37 M1843.05 1513.66 Q1848.86 1513.66 1851.91 1518.27 Q1854.99 1522.85 1854.99 1531.6 Q1854.99 1540.33 1851.91 1544.94 Q1848.86 1549.52 1843.05 1549.52 Q1837.24 1549.52 1834.16 1544.94 Q1831.1 1540.33 1831.1 1531.6 Q1831.1 1522.85 1834.16 1518.27 Q1837.24 1513.66 1843.05 1513.66 Z\" fill=\"#000000\" fill-rule=\"evenodd\" fill-opacity=\"1\" /><path clip-path=\"url(#clip880)\" d=\"M2268.16 1518.36 L2256.35 1536.81 L2268.16 1536.81 L2268.16 1518.36 M2266.93 1514.29 L2272.81 1514.29 L2272.81 1536.81 L2277.74 1536.81 L2277.74 1540.7 L2272.81 1540.7 L2272.81 1548.85 L2268.16 1548.85 L2268.16 1540.7 L2252.56 1540.7 L2252.56 1536.19 L2266.93 1514.29 Z\" fill=\"#000000\" fill-rule=\"evenodd\" fill-opacity=\"1\" /><path clip-path=\"url(#clip880)\" d=\"M2295.47 1517.37 Q2291.86 1517.37 2290.03 1520.93 Q2288.23 1524.47 2288.23 1531.6 Q2288.23 1538.71 2290.03 1542.27 Q2291.86 1545.82 2295.47 1545.82 Q2299.11 1545.82 2300.91 1542.27 Q2302.74 1538.71 2302.74 1531.6 Q2302.74 1524.47 2300.91 1520.93 Q2299.11 1517.37 2295.47 1517.37 M2295.47 1513.66 Q2301.28 1513.66 2304.34 1518.27 Q2307.42 1522.85 2307.42 1531.6 Q2307.42 1540.33 2304.34 1544.94 Q2301.28 1549.52 2295.47 1549.52 Q2289.66 1549.52 2286.58 1544.94 Q2283.53 1540.33 2283.53 1531.6 Q2283.53 1522.85 2286.58 1518.27 Q2289.66 1513.66 2295.47 1513.66 Z\" fill=\"#000000\" fill-rule=\"evenodd\" fill-opacity=\"1\" /><path clip-path=\"url(#clip880)\" d=\"M2325.63 1517.37 Q2322.02 1517.37 2320.2 1520.93 Q2318.39 1524.47 2318.39 1531.6 Q2318.39 1538.71 2320.2 1542.27 Q2322.02 1545.82 2325.63 1545.82 Q2329.27 1545.82 2331.07 1542.27 Q2332.9 1538.71 2332.9 1531.6 Q2332.9 1524.47 2331.07 1520.93 Q2329.27 1517.37 2325.63 1517.37 M2325.63 1513.66 Q2331.44 1513.66 2334.5 1518.27 Q2337.58 1522.85 2337.58 1531.6 Q2337.58 1540.33 2334.5 1544.94 Q2331.44 1549.52 2325.63 1549.52 Q2319.82 1549.52 2316.75 1544.94 Q2313.69 1540.33 2313.69 1531.6 Q2313.69 1522.85 2316.75 1518.27 Q2319.82 1513.66 2325.63 1513.66 Z\" fill=\"#000000\" fill-rule=\"evenodd\" fill-opacity=\"1\" /><polyline clip-path=\"url(#clip882)\" style=\"stroke:#000000; stroke-linecap:round; stroke-linejoin:round; stroke-width:2; stroke-opacity:0.1; fill:none\" points=\"\n",
       "  314.445,1417.98 2352.76,1417.98 \n",
       "  \"/>\n",
       "<polyline clip-path=\"url(#clip882)\" style=\"stroke:#000000; stroke-linecap:round; stroke-linejoin:round; stroke-width:2; stroke-opacity:0.1; fill:none\" points=\"\n",
       "  314.445,1200.36 2352.76,1200.36 \n",
       "  \"/>\n",
       "<polyline clip-path=\"url(#clip882)\" style=\"stroke:#000000; stroke-linecap:round; stroke-linejoin:round; stroke-width:2; stroke-opacity:0.1; fill:none\" points=\"\n",
       "  314.445,982.749 2352.76,982.749 \n",
       "  \"/>\n",
       "<polyline clip-path=\"url(#clip882)\" style=\"stroke:#000000; stroke-linecap:round; stroke-linejoin:round; stroke-width:2; stroke-opacity:0.1; fill:none\" points=\"\n",
       "  314.445,765.135 2352.76,765.135 \n",
       "  \"/>\n",
       "<polyline clip-path=\"url(#clip882)\" style=\"stroke:#000000; stroke-linecap:round; stroke-linejoin:round; stroke-width:2; stroke-opacity:0.1; fill:none\" points=\"\n",
       "  314.445,547.521 2352.76,547.521 \n",
       "  \"/>\n",
       "<polyline clip-path=\"url(#clip882)\" style=\"stroke:#000000; stroke-linecap:round; stroke-linejoin:round; stroke-width:2; stroke-opacity:0.1; fill:none\" points=\"\n",
       "  314.445,329.908 2352.76,329.908 \n",
       "  \"/>\n",
       "<polyline clip-path=\"url(#clip882)\" style=\"stroke:#000000; stroke-linecap:round; stroke-linejoin:round; stroke-width:2; stroke-opacity:0.1; fill:none\" points=\"\n",
       "  314.445,112.294 2352.76,112.294 \n",
       "  \"/>\n",
       "<polyline clip-path=\"url(#clip880)\" style=\"stroke:#000000; stroke-linecap:round; stroke-linejoin:round; stroke-width:4; stroke-opacity:1; fill:none\" points=\"\n",
       "  314.445,1486.45 314.445,47.2441 \n",
       "  \"/>\n",
       "<polyline clip-path=\"url(#clip880)\" style=\"stroke:#000000; stroke-linecap:round; stroke-linejoin:round; stroke-width:4; stroke-opacity:1; fill:none\" points=\"\n",
       "  314.445,1417.98 333.342,1417.98 \n",
       "  \"/>\n",
       "<polyline clip-path=\"url(#clip880)\" style=\"stroke:#000000; stroke-linecap:round; stroke-linejoin:round; stroke-width:4; stroke-opacity:1; fill:none\" points=\"\n",
       "  314.445,1200.36 333.342,1200.36 \n",
       "  \"/>\n",
       "<polyline clip-path=\"url(#clip880)\" style=\"stroke:#000000; stroke-linecap:round; stroke-linejoin:round; stroke-width:4; stroke-opacity:1; fill:none\" points=\"\n",
       "  314.445,982.749 333.342,982.749 \n",
       "  \"/>\n",
       "<polyline clip-path=\"url(#clip880)\" style=\"stroke:#000000; stroke-linecap:round; stroke-linejoin:round; stroke-width:4; stroke-opacity:1; fill:none\" points=\"\n",
       "  314.445,765.135 333.342,765.135 \n",
       "  \"/>\n",
       "<polyline clip-path=\"url(#clip880)\" style=\"stroke:#000000; stroke-linecap:round; stroke-linejoin:round; stroke-width:4; stroke-opacity:1; fill:none\" points=\"\n",
       "  314.445,547.521 333.342,547.521 \n",
       "  \"/>\n",
       "<polyline clip-path=\"url(#clip880)\" style=\"stroke:#000000; stroke-linecap:round; stroke-linejoin:round; stroke-width:4; stroke-opacity:1; fill:none\" points=\"\n",
       "  314.445,329.908 333.342,329.908 \n",
       "  \"/>\n",
       "<polyline clip-path=\"url(#clip880)\" style=\"stroke:#000000; stroke-linecap:round; stroke-linejoin:round; stroke-width:4; stroke-opacity:1; fill:none\" points=\"\n",
       "  314.445,112.294 333.342,112.294 \n",
       "  \"/>\n",
       "<path clip-path=\"url(#clip880)\" d=\"M50.9921 1424.88 L80.6679 1424.88 L80.6679 1428.81 L50.9921 1428.81 L50.9921 1424.88 Z\" fill=\"#000000\" fill-rule=\"evenodd\" fill-opacity=\"1\" /><path clip-path=\"url(#clip880)\" d=\"M90.8067 1407.14 L109.163 1407.14 L109.163 1411.08 L95.0891 1411.08 L95.0891 1419.55 Q96.1076 1419.2 97.1261 1419.04 Q98.1447 1418.86 99.1632 1418.86 Q104.95 1418.86 108.33 1422.03 Q111.709 1425.2 111.709 1430.62 Q111.709 1436.2 108.237 1439.3 Q104.765 1442.38 98.4456 1442.38 Q96.2697 1442.38 94.0012 1442.01 Q91.7558 1441.64 89.3484 1440.89 L89.3484 1436.2 Q91.4317 1437.33 93.6539 1437.89 Q95.8761 1438.44 98.353 1438.44 Q102.358 1438.44 104.696 1436.33 Q107.033 1434.23 107.033 1430.62 Q107.033 1427.01 104.696 1424.9 Q102.358 1422.79 98.353 1422.79 Q96.478 1422.79 94.603 1423.21 Q92.7512 1423.63 90.8067 1424.51 L90.8067 1407.14 Z\" fill=\"#000000\" fill-rule=\"evenodd\" fill-opacity=\"1\" /><path clip-path=\"url(#clip880)\" d=\"M120.922 1435.83 L125.807 1435.83 L125.807 1441.7 L120.922 1441.7 L120.922 1435.83 Z\" fill=\"#000000\" fill-rule=\"evenodd\" fill-opacity=\"1\" /><path clip-path=\"url(#clip880)\" d=\"M145.992 1410.22 Q142.381 1410.22 140.552 1413.79 Q138.746 1417.33 138.746 1424.46 Q138.746 1431.57 140.552 1435.13 Q142.381 1438.67 145.992 1438.67 Q149.626 1438.67 151.431 1435.13 Q153.26 1431.57 153.26 1424.46 Q153.26 1417.33 151.431 1413.79 Q149.626 1410.22 145.992 1410.22 M145.992 1406.52 Q151.802 1406.52 154.857 1411.13 Q157.936 1415.71 157.936 1424.46 Q157.936 1433.19 154.857 1437.79 Q151.802 1442.38 145.992 1442.38 Q140.181 1442.38 137.103 1437.79 Q134.047 1433.19 134.047 1424.46 Q134.047 1415.71 137.103 1411.13 Q140.181 1406.52 145.992 1406.52 Z\" fill=\"#000000\" fill-rule=\"evenodd\" fill-opacity=\"1\" /><path clip-path=\"url(#clip880)\" d=\"M194.325 1416.24 L183.746 1426.87 L194.325 1437.45 L191.57 1440.25 L180.945 1429.62 L170.32 1440.25 L167.589 1437.45 L178.144 1426.87 L167.589 1416.24 L170.32 1413.44 L180.945 1424.07 L191.57 1413.44 L194.325 1416.24 Z\" fill=\"#000000\" fill-rule=\"evenodd\" fill-opacity=\"1\" /><path clip-path=\"url(#clip880)\" d=\"M206.686 1437.77 L214.325 1437.77 L214.325 1411.4 L206.014 1413.07 L206.014 1408.81 L214.278 1407.14 L218.954 1407.14 L218.954 1437.77 L226.593 1437.77 L226.593 1441.7 L206.686 1441.7 L206.686 1437.77 Z\" fill=\"#000000\" fill-rule=\"evenodd\" fill-opacity=\"1\" /><path clip-path=\"url(#clip880)\" d=\"M246.037 1410.22 Q242.426 1410.22 240.598 1413.79 Q238.792 1417.33 238.792 1424.46 Q238.792 1431.57 240.598 1435.13 Q242.426 1438.67 246.037 1438.67 Q249.672 1438.67 251.477 1435.13 Q253.306 1431.57 253.306 1424.46 Q253.306 1417.33 251.477 1413.79 Q249.672 1410.22 246.037 1410.22 M246.037 1406.52 Q251.848 1406.52 254.903 1411.13 Q257.982 1415.71 257.982 1424.46 Q257.982 1433.19 254.903 1437.79 Q251.848 1442.38 246.037 1442.38 Q240.227 1442.38 237.149 1437.79 Q234.093 1433.19 234.093 1424.46 Q234.093 1415.71 237.149 1411.13 Q240.227 1406.52 246.037 1406.52 Z\" fill=\"#000000\" fill-rule=\"evenodd\" fill-opacity=\"1\" /><path clip-path=\"url(#clip880)\" d=\"M270.658 1389.52 L261.066 1404.51 L270.658 1404.51 L270.658 1389.52 M269.661 1386.21 L274.439 1386.21 L274.439 1404.51 L278.445 1404.51 L278.445 1407.67 L274.439 1407.67 L274.439 1414.29 L270.658 1414.29 L270.658 1407.67 L257.982 1407.67 L257.982 1404.01 L269.661 1386.21 Z\" fill=\"#000000\" fill-rule=\"evenodd\" fill-opacity=\"1\" /><path clip-path=\"url(#clip880)\" d=\"M50.9921 1207.26 L80.6679 1207.26 L80.6679 1211.2 L50.9921 1211.2 L50.9921 1207.26 Z\" fill=\"#000000\" fill-rule=\"evenodd\" fill-opacity=\"1\" /><path clip-path=\"url(#clip880)\" d=\"M103.608 1193.6 L91.8021 1212.05 L103.608 1212.05 L103.608 1193.6 M102.381 1189.53 L108.26 1189.53 L108.26 1212.05 L113.191 1212.05 L113.191 1215.94 L108.26 1215.94 L108.26 1224.09 L103.608 1224.09 L103.608 1215.94 L88.0058 1215.94 L88.0058 1211.43 L102.381 1189.53 Z\" fill=\"#000000\" fill-rule=\"evenodd\" fill-opacity=\"1\" /><path clip-path=\"url(#clip880)\" d=\"M120.922 1218.21 L125.807 1218.21 L125.807 1224.09 L120.922 1224.09 L120.922 1218.21 Z\" fill=\"#000000\" fill-rule=\"evenodd\" fill-opacity=\"1\" /><path clip-path=\"url(#clip880)\" d=\"M145.992 1192.61 Q142.381 1192.61 140.552 1196.17 Q138.746 1199.72 138.746 1206.85 Q138.746 1213.95 140.552 1217.52 Q142.381 1221.06 145.992 1221.06 Q149.626 1221.06 151.431 1217.52 Q153.26 1213.95 153.26 1206.85 Q153.26 1199.72 151.431 1196.17 Q149.626 1192.61 145.992 1192.61 M145.992 1188.91 Q151.802 1188.91 154.857 1193.51 Q157.936 1198.1 157.936 1206.85 Q157.936 1215.57 154.857 1220.18 Q151.802 1224.76 145.992 1224.76 Q140.181 1224.76 137.103 1220.18 Q134.047 1215.57 134.047 1206.85 Q134.047 1198.1 137.103 1193.51 Q140.181 1188.91 145.992 1188.91 Z\" fill=\"#000000\" fill-rule=\"evenodd\" fill-opacity=\"1\" /><path clip-path=\"url(#clip880)\" d=\"M194.325 1198.63 L183.746 1209.25 L194.325 1219.83 L191.57 1222.63 L180.945 1212.01 L170.32 1222.63 L167.589 1219.83 L178.144 1209.25 L167.589 1198.63 L170.32 1195.83 L180.945 1206.45 L191.57 1195.83 L194.325 1198.63 Z\" fill=\"#000000\" fill-rule=\"evenodd\" fill-opacity=\"1\" /><path clip-path=\"url(#clip880)\" d=\"M206.686 1220.16 L214.325 1220.16 L214.325 1193.79 L206.014 1195.46 L206.014 1191.2 L214.278 1189.53 L218.954 1189.53 L218.954 1220.16 L226.593 1220.16 L226.593 1224.09 L206.686 1224.09 L206.686 1220.16 Z\" fill=\"#000000\" fill-rule=\"evenodd\" fill-opacity=\"1\" /><path clip-path=\"url(#clip880)\" d=\"M246.037 1192.61 Q242.426 1192.61 240.598 1196.17 Q238.792 1199.72 238.792 1206.85 Q238.792 1213.95 240.598 1217.52 Q242.426 1221.06 246.037 1221.06 Q249.672 1221.06 251.477 1217.52 Q253.306 1213.95 253.306 1206.85 Q253.306 1199.72 251.477 1196.17 Q249.672 1192.61 246.037 1192.61 M246.037 1188.91 Q251.848 1188.91 254.903 1193.51 Q257.982 1198.1 257.982 1206.85 Q257.982 1215.57 254.903 1220.18 Q251.848 1224.76 246.037 1224.76 Q240.227 1224.76 237.149 1220.18 Q234.093 1215.57 234.093 1206.85 Q234.093 1198.1 237.149 1193.51 Q240.227 1188.91 246.037 1188.91 Z\" fill=\"#000000\" fill-rule=\"evenodd\" fill-opacity=\"1\" /><path clip-path=\"url(#clip880)\" d=\"M270.658 1171.91 L261.066 1186.9 L270.658 1186.9 L270.658 1171.91 M269.661 1168.6 L274.439 1168.6 L274.439 1186.9 L278.445 1186.9 L278.445 1190.06 L274.439 1190.06 L274.439 1196.68 L270.658 1196.68 L270.658 1190.06 L257.982 1190.06 L257.982 1186.39 L269.661 1168.6 Z\" fill=\"#000000\" fill-rule=\"evenodd\" fill-opacity=\"1\" /><path clip-path=\"url(#clip880)\" d=\"M50.9921 989.648 L80.6679 989.648 L80.6679 993.583 L50.9921 993.583 L50.9921 989.648 Z\" fill=\"#000000\" fill-rule=\"evenodd\" fill-opacity=\"1\" /><path clip-path=\"url(#clip880)\" d=\"M104.927 987.843 Q108.283 988.56 110.158 990.829 Q112.057 993.097 112.057 996.431 Q112.057 1001.55 108.538 1004.35 Q105.02 1007.15 98.5382 1007.15 Q96.3623 1007.15 94.0475 1006.71 Q91.7558 1006.29 89.3021 1005.44 L89.3021 1000.92 Q91.2465 1002.06 93.5613 1002.63 Q95.8761 1003.21 98.3993 1003.21 Q102.797 1003.21 105.089 1001.48 Q107.404 999.741 107.404 996.431 Q107.404 993.375 105.251 991.662 Q103.121 989.926 99.3021 989.926 L95.2743 989.926 L95.2743 986.083 L99.4872 986.083 Q102.936 986.083 104.765 984.718 Q106.594 983.329 106.594 980.736 Q106.594 978.074 104.696 976.662 Q102.821 975.227 99.3021 975.227 Q97.3808 975.227 95.1817 975.644 Q92.9826 976.06 90.3438 976.94 L90.3438 972.773 Q93.0058 972.033 95.3206 971.662 Q97.6585 971.292 99.7187 971.292 Q105.043 971.292 108.145 973.722 Q111.246 976.13 111.246 980.25 Q111.246 983.121 109.603 985.111 Q107.959 987.079 104.927 987.843 Z\" fill=\"#000000\" fill-rule=\"evenodd\" fill-opacity=\"1\" /><path clip-path=\"url(#clip880)\" d=\"M120.922 1000.6 L125.807 1000.6 L125.807 1006.48 L120.922 1006.48 L120.922 1000.6 Z\" fill=\"#000000\" fill-rule=\"evenodd\" fill-opacity=\"1\" /><path clip-path=\"url(#clip880)\" d=\"M145.992 974.996 Q142.381 974.996 140.552 978.56 Q138.746 982.102 138.746 989.232 Q138.746 996.338 140.552 999.903 Q142.381 1003.44 145.992 1003.44 Q149.626 1003.44 151.431 999.903 Q153.26 996.338 153.26 989.232 Q153.26 982.102 151.431 978.56 Q149.626 974.996 145.992 974.996 M145.992 971.292 Q151.802 971.292 154.857 975.898 Q157.936 980.482 157.936 989.232 Q157.936 997.958 154.857 1002.56 Q151.802 1007.15 145.992 1007.15 Q140.181 1007.15 137.103 1002.56 Q134.047 997.958 134.047 989.232 Q134.047 980.482 137.103 975.898 Q140.181 971.292 145.992 971.292 Z\" fill=\"#000000\" fill-rule=\"evenodd\" fill-opacity=\"1\" /><path clip-path=\"url(#clip880)\" d=\"M194.325 981.014 L183.746 991.639 L194.325 1002.22 L191.57 1005.02 L180.945 994.394 L170.32 1005.02 L167.589 1002.22 L178.144 991.639 L167.589 981.014 L170.32 978.213 L180.945 988.838 L191.57 978.213 L194.325 981.014 Z\" fill=\"#000000\" fill-rule=\"evenodd\" fill-opacity=\"1\" /><path clip-path=\"url(#clip880)\" d=\"M206.686 1002.54 L214.325 1002.54 L214.325 976.176 L206.014 977.843 L206.014 973.584 L214.278 971.917 L218.954 971.917 L218.954 1002.54 L226.593 1002.54 L226.593 1006.48 L206.686 1006.48 L206.686 1002.54 Z\" fill=\"#000000\" fill-rule=\"evenodd\" fill-opacity=\"1\" /><path clip-path=\"url(#clip880)\" d=\"M246.037 974.996 Q242.426 974.996 240.598 978.56 Q238.792 982.102 238.792 989.232 Q238.792 996.338 240.598 999.903 Q242.426 1003.44 246.037 1003.44 Q249.672 1003.44 251.477 999.903 Q253.306 996.338 253.306 989.232 Q253.306 982.102 251.477 978.56 Q249.672 974.996 246.037 974.996 M246.037 971.292 Q251.848 971.292 254.903 975.898 Q257.982 980.482 257.982 989.232 Q257.982 997.958 254.903 1002.56 Q251.848 1007.15 246.037 1007.15 Q240.227 1007.15 237.149 1002.56 Q234.093 997.958 234.093 989.232 Q234.093 980.482 237.149 975.898 Q240.227 971.292 246.037 971.292 Z\" fill=\"#000000\" fill-rule=\"evenodd\" fill-opacity=\"1\" /><path clip-path=\"url(#clip880)\" d=\"M270.658 954.297 L261.066 969.286 L270.658 969.286 L270.658 954.297 M269.661 950.986 L274.439 950.986 L274.439 969.286 L278.445 969.286 L278.445 972.446 L274.439 972.446 L274.439 979.066 L270.658 979.066 L270.658 972.446 L257.982 972.446 L257.982 968.779 L269.661 950.986 Z\" fill=\"#000000\" fill-rule=\"evenodd\" fill-opacity=\"1\" /><path clip-path=\"url(#clip880)\" d=\"M50.9921 772.034 L80.6679 772.034 L80.6679 775.97 L50.9921 775.97 L50.9921 772.034 Z\" fill=\"#000000\" fill-rule=\"evenodd\" fill-opacity=\"1\" /><path clip-path=\"url(#clip880)\" d=\"M94.7882 784.928 L111.108 784.928 L111.108 788.863 L89.1632 788.863 L89.1632 784.928 Q91.8252 782.173 96.4085 777.544 Q101.015 772.891 102.196 771.548 Q104.441 769.025 105.321 767.289 Q106.223 765.53 106.223 763.84 Q106.223 761.085 104.279 759.349 Q102.358 757.613 99.2558 757.613 Q97.0567 757.613 94.603 758.377 Q92.1725 759.141 89.3947 760.692 L89.3947 755.97 Q92.2188 754.835 94.6724 754.257 Q97.1261 753.678 99.1632 753.678 Q104.534 753.678 107.728 756.363 Q110.922 759.048 110.922 763.539 Q110.922 765.669 110.112 767.59 Q109.325 769.488 107.219 772.081 Q106.64 772.752 103.538 775.97 Q100.436 779.164 94.7882 784.928 Z\" fill=\"#000000\" fill-rule=\"evenodd\" fill-opacity=\"1\" /><path clip-path=\"url(#clip880)\" d=\"M120.922 782.983 L125.807 782.983 L125.807 788.863 L120.922 788.863 L120.922 782.983 Z\" fill=\"#000000\" fill-rule=\"evenodd\" fill-opacity=\"1\" /><path clip-path=\"url(#clip880)\" d=\"M145.992 757.382 Q142.381 757.382 140.552 760.946 Q138.746 764.488 138.746 771.618 Q138.746 778.724 140.552 782.289 Q142.381 785.831 145.992 785.831 Q149.626 785.831 151.431 782.289 Q153.26 778.724 153.26 771.618 Q153.26 764.488 151.431 760.946 Q149.626 757.382 145.992 757.382 M145.992 753.678 Q151.802 753.678 154.857 758.284 Q157.936 762.868 157.936 771.618 Q157.936 780.345 154.857 784.951 Q151.802 789.534 145.992 789.534 Q140.181 789.534 137.103 784.951 Q134.047 780.345 134.047 771.618 Q134.047 762.868 137.103 758.284 Q140.181 753.678 145.992 753.678 Z\" fill=\"#000000\" fill-rule=\"evenodd\" fill-opacity=\"1\" /><path clip-path=\"url(#clip880)\" d=\"M194.325 763.4 L183.746 774.025 L194.325 784.604 L191.57 787.405 L180.945 776.78 L170.32 787.405 L167.589 784.604 L178.144 774.025 L167.589 763.4 L170.32 760.599 L180.945 771.224 L191.57 760.599 L194.325 763.4 Z\" fill=\"#000000\" fill-rule=\"evenodd\" fill-opacity=\"1\" /><path clip-path=\"url(#clip880)\" d=\"M206.686 784.928 L214.325 784.928 L214.325 758.562 L206.014 760.229 L206.014 755.97 L214.278 754.303 L218.954 754.303 L218.954 784.928 L226.593 784.928 L226.593 788.863 L206.686 788.863 L206.686 784.928 Z\" fill=\"#000000\" fill-rule=\"evenodd\" fill-opacity=\"1\" /><path clip-path=\"url(#clip880)\" d=\"M246.037 757.382 Q242.426 757.382 240.598 760.946 Q238.792 764.488 238.792 771.618 Q238.792 778.724 240.598 782.289 Q242.426 785.831 246.037 785.831 Q249.672 785.831 251.477 782.289 Q253.306 778.724 253.306 771.618 Q253.306 764.488 251.477 760.946 Q249.672 757.382 246.037 757.382 M246.037 753.678 Q251.848 753.678 254.903 758.284 Q257.982 762.868 257.982 771.618 Q257.982 780.345 254.903 784.951 Q251.848 789.534 246.037 789.534 Q240.227 789.534 237.149 784.951 Q234.093 780.345 234.093 771.618 Q234.093 762.868 237.149 758.284 Q240.227 753.678 246.037 753.678 Z\" fill=\"#000000\" fill-rule=\"evenodd\" fill-opacity=\"1\" /><path clip-path=\"url(#clip880)\" d=\"M270.658 736.683 L261.066 751.673 L270.658 751.673 L270.658 736.683 M269.661 733.373 L274.439 733.373 L274.439 751.673 L278.445 751.673 L278.445 754.832 L274.439 754.832 L274.439 761.453 L270.658 761.453 L270.658 754.832 L257.982 754.832 L257.982 751.165 L269.661 733.373 Z\" fill=\"#000000\" fill-rule=\"evenodd\" fill-opacity=\"1\" /><path clip-path=\"url(#clip880)\" d=\"M50.9921 554.42 L80.6679 554.42 L80.6679 558.356 L50.9921 558.356 L50.9921 554.42 Z\" fill=\"#000000\" fill-rule=\"evenodd\" fill-opacity=\"1\" /><path clip-path=\"url(#clip880)\" d=\"M91.5706 567.314 L99.2095 567.314 L99.2095 540.948 L90.8993 542.615 L90.8993 538.356 L99.1632 536.689 L103.839 536.689 L103.839 567.314 L111.478 567.314 L111.478 571.249 L91.5706 571.249 L91.5706 567.314 Z\" fill=\"#000000\" fill-rule=\"evenodd\" fill-opacity=\"1\" /><path clip-path=\"url(#clip880)\" d=\"M120.922 565.369 L125.807 565.369 L125.807 571.249 L120.922 571.249 L120.922 565.369 Z\" fill=\"#000000\" fill-rule=\"evenodd\" fill-opacity=\"1\" /><path clip-path=\"url(#clip880)\" d=\"M145.992 539.768 Q142.381 539.768 140.552 543.333 Q138.746 546.874 138.746 554.004 Q138.746 561.11 140.552 564.675 Q142.381 568.217 145.992 568.217 Q149.626 568.217 151.431 564.675 Q153.26 561.11 153.26 554.004 Q153.26 546.874 151.431 543.333 Q149.626 539.768 145.992 539.768 M145.992 536.064 Q151.802 536.064 154.857 540.671 Q157.936 545.254 157.936 554.004 Q157.936 562.731 154.857 567.337 Q151.802 571.92 145.992 571.92 Q140.181 571.92 137.103 567.337 Q134.047 562.731 134.047 554.004 Q134.047 545.254 137.103 540.671 Q140.181 536.064 145.992 536.064 Z\" fill=\"#000000\" fill-rule=\"evenodd\" fill-opacity=\"1\" /><path clip-path=\"url(#clip880)\" d=\"M194.325 545.786 L183.746 556.411 L194.325 566.99 L191.57 569.791 L180.945 559.166 L170.32 569.791 L167.589 566.99 L178.144 556.411 L167.589 545.786 L170.32 542.985 L180.945 553.61 L191.57 542.985 L194.325 545.786 Z\" fill=\"#000000\" fill-rule=\"evenodd\" fill-opacity=\"1\" /><path clip-path=\"url(#clip880)\" d=\"M206.686 567.314 L214.325 567.314 L214.325 540.948 L206.014 542.615 L206.014 538.356 L214.278 536.689 L218.954 536.689 L218.954 567.314 L226.593 567.314 L226.593 571.249 L206.686 571.249 L206.686 567.314 Z\" fill=\"#000000\" fill-rule=\"evenodd\" fill-opacity=\"1\" /><path clip-path=\"url(#clip880)\" d=\"M246.037 539.768 Q242.426 539.768 240.598 543.333 Q238.792 546.874 238.792 554.004 Q238.792 561.11 240.598 564.675 Q242.426 568.217 246.037 568.217 Q249.672 568.217 251.477 564.675 Q253.306 561.11 253.306 554.004 Q253.306 546.874 251.477 543.333 Q249.672 539.768 246.037 539.768 M246.037 536.064 Q251.848 536.064 254.903 540.671 Q257.982 545.254 257.982 554.004 Q257.982 562.731 254.903 567.337 Q251.848 571.92 246.037 571.92 Q240.227 571.92 237.149 567.337 Q234.093 562.731 234.093 554.004 Q234.093 545.254 237.149 540.671 Q240.227 536.064 246.037 536.064 Z\" fill=\"#000000\" fill-rule=\"evenodd\" fill-opacity=\"1\" /><path clip-path=\"url(#clip880)\" d=\"M270.658 519.069 L261.066 534.059 L270.658 534.059 L270.658 519.069 M269.661 515.759 L274.439 515.759 L274.439 534.059 L278.445 534.059 L278.445 537.218 L274.439 537.218 L274.439 543.839 L270.658 543.839 L270.658 537.218 L257.982 537.218 L257.982 533.551 L269.661 515.759 Z\" fill=\"#000000\" fill-rule=\"evenodd\" fill-opacity=\"1\" /><path clip-path=\"url(#clip880)\" d=\"M266.5 315.706 Q262.889 315.706 261.06 319.271 Q259.255 322.813 259.255 329.942 Q259.255 337.049 261.06 340.614 Q262.889 344.155 266.5 344.155 Q270.134 344.155 271.94 340.614 Q273.769 337.049 273.769 329.942 Q273.769 322.813 271.94 319.271 Q270.134 315.706 266.5 315.706 M266.5 312.003 Q272.31 312.003 275.366 316.609 Q278.445 321.192 278.445 329.942 Q278.445 338.669 275.366 343.276 Q272.31 347.859 266.5 347.859 Q260.69 347.859 257.611 343.276 Q254.556 338.669 254.556 329.942 Q254.556 321.192 257.611 316.609 Q260.69 312.003 266.5 312.003 Z\" fill=\"#000000\" fill-rule=\"evenodd\" fill-opacity=\"1\" /><path clip-path=\"url(#clip880)\" d=\"M91.5706 132.086 L99.2095 132.086 L99.2095 105.72 L90.8993 107.387 L90.8993 103.128 L99.1632 101.461 L103.839 101.461 L103.839 132.086 L111.478 132.086 L111.478 136.021 L91.5706 136.021 L91.5706 132.086 Z\" fill=\"#000000\" fill-rule=\"evenodd\" fill-opacity=\"1\" /><path clip-path=\"url(#clip880)\" d=\"M120.922 130.142 L125.807 130.142 L125.807 136.021 L120.922 136.021 L120.922 130.142 Z\" fill=\"#000000\" fill-rule=\"evenodd\" fill-opacity=\"1\" /><path clip-path=\"url(#clip880)\" d=\"M145.992 104.54 Q142.381 104.54 140.552 108.105 Q138.746 111.646 138.746 118.776 Q138.746 125.882 140.552 129.447 Q142.381 132.989 145.992 132.989 Q149.626 132.989 151.431 129.447 Q153.26 125.882 153.26 118.776 Q153.26 111.646 151.431 108.105 Q149.626 104.54 145.992 104.54 M145.992 100.836 Q151.802 100.836 154.857 105.443 Q157.936 110.026 157.936 118.776 Q157.936 127.503 154.857 132.109 Q151.802 136.693 145.992 136.693 Q140.181 136.693 137.103 132.109 Q134.047 127.503 134.047 118.776 Q134.047 110.026 137.103 105.443 Q140.181 100.836 145.992 100.836 Z\" fill=\"#000000\" fill-rule=\"evenodd\" fill-opacity=\"1\" /><path clip-path=\"url(#clip880)\" d=\"M194.325 110.558 L183.746 121.183 L194.325 131.762 L191.57 134.563 L180.945 123.938 L170.32 134.563 L167.589 131.762 L178.144 121.183 L167.589 110.558 L170.32 107.758 L180.945 118.382 L191.57 107.758 L194.325 110.558 Z\" fill=\"#000000\" fill-rule=\"evenodd\" fill-opacity=\"1\" /><path clip-path=\"url(#clip880)\" d=\"M206.686 132.086 L214.325 132.086 L214.325 105.72 L206.014 107.387 L206.014 103.128 L214.278 101.461 L218.954 101.461 L218.954 132.086 L226.593 132.086 L226.593 136.021 L206.686 136.021 L206.686 132.086 Z\" fill=\"#000000\" fill-rule=\"evenodd\" fill-opacity=\"1\" /><path clip-path=\"url(#clip880)\" d=\"M246.037 104.54 Q242.426 104.54 240.598 108.105 Q238.792 111.646 238.792 118.776 Q238.792 125.882 240.598 129.447 Q242.426 132.989 246.037 132.989 Q249.672 132.989 251.477 129.447 Q253.306 125.882 253.306 118.776 Q253.306 111.646 251.477 108.105 Q249.672 104.54 246.037 104.54 M246.037 100.836 Q251.848 100.836 254.903 105.443 Q257.982 110.026 257.982 118.776 Q257.982 127.503 254.903 132.109 Q251.848 136.693 246.037 136.693 Q240.227 136.693 237.149 132.109 Q234.093 127.503 234.093 118.776 Q234.093 110.026 237.149 105.443 Q240.227 100.836 246.037 100.836 Z\" fill=\"#000000\" fill-rule=\"evenodd\" fill-opacity=\"1\" /><path clip-path=\"url(#clip880)\" d=\"M270.658 83.841 L261.066 98.8308 L270.658 98.8308 L270.658 83.841 M269.661 80.5309 L274.439 80.5309 L274.439 98.8308 L278.445 98.8308 L278.445 101.991 L274.439 101.991 L274.439 108.611 L270.658 108.611 L270.658 101.991 L257.982 101.991 L257.982 98.323 L269.661 80.5309 Z\" fill=\"#000000\" fill-rule=\"evenodd\" fill-opacity=\"1\" /><polyline clip-path=\"url(#clip882)\" style=\"stroke:#009af9; stroke-linecap:round; stroke-linejoin:round; stroke-width:4; stroke-opacity:1; fill:none\" points=\"\n",
       "  372.133,603.773 376.952,521.463 381.771,373.614 386.591,614.568 391.41,599.975 396.23,601.897 401.049,523.04 405.868,703.732 410.688,447.155 415.507,512.458 \n",
       "  420.327,370.377 425.146,481.984 429.965,458.082 434.785,622.267 439.604,441.505 444.423,613.531 449.243,477.322 454.062,462.618 458.882,495.666 463.701,485.884 \n",
       "  468.52,495.847 473.34,297.53 478.159,530.509 482.979,592.97 487.798,699.851 492.617,487.739 497.437,503.791 502.256,393.183 507.075,494.037 511.895,537.22 \n",
       "  516.714,478.883 521.534,704.425 526.353,253.824 531.172,589.762 535.992,524.51 540.811,513.757 545.631,519.064 550.45,478.205 555.269,554.509 560.089,562.606 \n",
       "  564.908,415.117 569.728,430.665 574.547,512.543 579.366,667.69 584.186,270.508 589.005,852.812 593.824,777.149 598.644,592.47 603.463,625.359 608.283,464.446 \n",
       "  613.102,1012.77 617.921,692.584 622.741,488.442 627.56,678.726 632.38,729.595 637.199,870.366 642.018,873.606 646.838,875.956 651.657,494.211 656.476,304.29 \n",
       "  661.296,682.496 666.115,755.164 670.935,1084.64 675.754,737.886 680.573,608.169 685.393,1147.11 690.212,782.001 695.032,676.353 699.851,658.975 704.67,569.599 \n",
       "  709.49,519.385 714.309,608.013 719.128,553.627 723.948,452.426 728.767,332.44 733.587,562.12 738.406,572.514 743.225,624.108 748.045,501.419 752.864,699.737 \n",
       "  757.684,310.654 762.503,744.134 767.322,522.588 772.142,1241.09 776.961,1445.72 781.781,674.366 786.6,621.937 791.419,832.951 796.239,525.842 801.058,721.354 \n",
       "  805.877,463.037 810.697,490.251 815.516,271.043 820.336,446.899 825.155,819.225 829.974,349.39 834.794,659.212 839.613,603.665 844.433,305.611 849.252,870.386 \n",
       "  854.071,452.921 858.891,654.95 863.71,943.86 868.529,1222.43 873.349,344.678 878.168,262.412 882.988,811.363 887.807,437.168 892.626,867.782 897.446,326.604 \n",
       "  902.265,313.7 907.085,419.377 911.904,680.954 916.723,378.344 921.543,311.451 926.362,950.787 931.181,703.886 936.001,312.51 940.82,485.983 945.64,687.517 \n",
       "  950.459,580.866 955.278,572.658 960.098,456.833 964.917,313.389 969.737,775.324 974.556,536.779 979.375,712.232 984.195,317.793 989.014,356.075 993.834,416.554 \n",
       "  998.653,544.116 1003.47,622.113 1008.29,270.056 1013.11,644.63 1017.93,452.32 1022.75,405.935 1027.57,639.663 1032.39,459.838 1037.21,280.655 1042.03,262.626 \n",
       "  1046.85,282.929 1051.67,701.946 1056.49,464.599 1061.3,692.886 1066.12,705.318 1070.94,718.291 1075.76,651.325 1080.58,357.179 1085.4,630.394 1090.22,547.218 \n",
       "  1095.04,471.571 1099.86,421.165 1104.68,459.308 1109.5,290.498 1114.32,452.711 1119.14,299.362 1123.96,194.844 1128.78,290.74 1133.6,715.826 1138.42,479.317 \n",
       "  1143.23,280.256 1148.05,310.087 1152.87,341.437 1157.69,306.86 1162.51,256.782 1167.33,386.176 1172.15,436.868 1176.97,549.658 1181.79,422.465 1186.61,452.138 \n",
       "  1191.43,328.318 1196.25,248.921 1201.07,297.898 1205.89,621.895 1210.71,394.937 1215.53,596.05 1220.34,483.12 1225.16,412.579 1229.98,300.949 1234.8,602.425 \n",
       "  1239.62,315.492 1244.44,478.735 1249.26,421.012 1254.08,303.742 1258.9,448.542 1263.72,301.367 1268.54,169.692 1273.36,294.197 1278.18,202.932 1283,570.512 \n",
       "  1287.82,285.24 1292.64,283.982 1297.45,303.85 1302.27,528.891 1307.09,278.611 1311.91,301.86 1316.73,335.549 1321.55,804.899 1326.37,304.887 1331.19,519.907 \n",
       "  1336.01,264.614 1340.83,307.694 1345.65,463.249 1350.47,440.531 1355.29,354.859 1360.11,309.988 1364.93,146.968 1369.75,481.366 1374.57,241.054 1379.38,364.02 \n",
       "  1384.2,277.472 1389.02,418.04 1393.84,303.66 1398.66,510.062 1403.48,192.498 1408.3,297.96 1413.12,212.105 1417.94,87.9763 1422.76,214.981 1427.58,269.109 \n",
       "  1432.4,298.378 1437.22,229.762 1442.04,300.515 1446.86,303.723 1451.68,301.656 1456.49,439.399 1461.31,204.98 1466.13,244.462 1470.95,175.528 1475.77,162.796 \n",
       "  1480.59,287.385 1485.41,288.322 1490.23,291.698 1495.05,141.553 1499.87,217.378 1504.69,173.738 1509.51,365.472 1514.33,371.256 1519.15,568.144 1523.97,231.909 \n",
       "  1528.79,306.634 1533.6,448.344 1538.42,411.376 1543.24,416.511 1548.06,472.852 1552.88,377.75 1557.7,234.717 1562.52,461.604 1567.34,402.442 1572.16,292.805 \n",
       "  1576.98,228.492 1581.8,364.131 1586.62,307.747 1591.44,306.682 1596.26,128.486 1601.08,324.008 1605.9,436.885 1610.71,310.77 1615.53,556.976 1620.35,353.64 \n",
       "  1625.17,296.342 1629.99,296.95 1634.81,629.257 1639.63,467.868 1644.45,582.232 1649.27,508.915 1654.09,362.425 1658.91,340.743 1663.73,567.636 1668.55,488.636 \n",
       "  1673.37,347.041 1678.19,512.036 1683.01,306.397 1687.83,322.342 1692.64,217.001 1697.46,443.45 1702.28,538.017 1707.1,282.82 1711.92,302.217 1716.74,359.185 \n",
       "  1721.56,404.37 1726.38,412.927 1731.2,354.156 1736.02,298.188 1740.84,597.913 1745.66,335.697 1750.48,317.605 1755.3,206.192 1760.12,332.008 1764.94,309.114 \n",
       "  1769.75,480.716 1774.57,206.241 1779.39,300.556 1784.21,481.152 1789.03,241.719 1793.85,294.382 1798.67,392.534 1803.49,207.168 1808.31,271.763 1813.13,184.645 \n",
       "  1817.95,237.836 1822.77,163.708 1827.59,280.133 1832.41,174.934 1837.23,271.265 1842.05,232.972 1846.86,342.953 1851.68,501.46 1856.5,471.127 1861.32,258.567 \n",
       "  1866.14,270.941 1870.96,302.243 1875.78,245.736 1880.6,305.306 1885.42,356.085 1890.24,295.249 1895.06,870.168 1899.88,267.195 1904.7,337.053 1909.52,248.587 \n",
       "  1914.34,576.593 1919.16,228.258 1923.98,259.302 1928.79,292.161 1933.61,234.095 1938.43,734.069 1943.25,318.026 1948.07,244.974 1952.89,257.949 1957.71,134.472 \n",
       "  1962.53,229.633 1967.35,285.559 1972.17,293.594 1976.99,305.958 1981.81,350.841 1986.63,198.902 1991.45,185.364 1996.27,362.778 2001.09,304.398 2005.9,342.722 \n",
       "  2010.72,382.306 2015.54,217.001 2020.36,332.864 2025.18,236.687 2030,289.597 2034.82,175.678 2039.64,261.848 2044.46,508.232 2049.28,296.263 2054.1,249.184 \n",
       "  2058.92,240.072 2063.74,268.055 2068.56,295.782 2073.38,274.494 2078.2,284.616 2083.01,390.737 2087.83,252.446 2092.65,352.324 2097.47,258.27 2102.29,301.181 \n",
       "  2107.11,295.781 2111.93,217.84 2116.75,284.44 2121.57,279.373 2126.39,269.573 2131.21,230.187 2136.03,845.104 2140.85,1038.92 2145.67,339.059 2150.49,335.529 \n",
       "  2155.31,289.094 2160.13,472.956 2164.94,277.09 2169.76,245.88 2174.58,210.826 2179.4,487.783 2184.22,346.546 2189.04,280.448 2193.86,208.256 2198.68,207.686 \n",
       "  2203.5,483.966 2208.32,317.375 2213.14,301.245 2217.96,279.51 2222.78,449.796 2227.6,529.547 2232.42,179.001 2237.24,175.587 2242.05,240.736 2246.87,293.399 \n",
       "  2251.69,288.721 2256.51,155.895 2261.33,291.729 2266.15,212.177 2270.97,193.798 2275.79,300.05 2280.61,268.069 2285.43,295.456 2290.25,168.832 2295.07,259.435 \n",
       "  \n",
       "  \"/>\n",
       "<path clip-path=\"url(#clip880)\" d=\"\n",
       "M2005.9 198.898 L2284.81 198.898 L2284.81 95.2176 L2005.9 95.2176  Z\n",
       "  \" fill=\"#ffffff\" fill-rule=\"evenodd\" fill-opacity=\"1\"/>\n",
       "<polyline clip-path=\"url(#clip880)\" style=\"stroke:#000000; stroke-linecap:round; stroke-linejoin:round; stroke-width:4; stroke-opacity:1; fill:none\" points=\"\n",
       "  2005.9,198.898 2284.81,198.898 2284.81,95.2176 2005.9,95.2176 2005.9,198.898 \n",
       "  \"/>\n",
       "<polyline clip-path=\"url(#clip880)\" style=\"stroke:#009af9; stroke-linecap:round; stroke-linejoin:round; stroke-width:4; stroke-opacity:1; fill:none\" points=\"\n",
       "  2028.55,147.058 2164.44,147.058 \n",
       "  \"/>\n",
       "<path clip-path=\"url(#clip880)\" d=\"M2200.93 166.745 Q2199.12 171.375 2197.41 172.787 Q2195.7 174.199 2192.83 174.199 L2189.42 174.199 L2189.42 170.634 L2191.92 170.634 Q2193.68 170.634 2194.66 169.8 Q2195.63 168.967 2196.81 165.865 L2197.57 163.921 L2187.09 138.412 L2191.6 138.412 L2199.7 158.689 L2207.8 138.412 L2212.32 138.412 L2200.93 166.745 Z\" fill=\"#000000\" fill-rule=\"evenodd\" fill-opacity=\"1\" /><path clip-path=\"url(#clip880)\" d=\"M2219.61 160.402 L2227.25 160.402 L2227.25 134.037 L2218.94 135.703 L2218.94 131.444 L2227.2 129.778 L2231.88 129.778 L2231.88 160.402 L2239.52 160.402 L2239.52 164.338 L2219.61 164.338 L2219.61 160.402 Z\" fill=\"#000000\" fill-rule=\"evenodd\" fill-opacity=\"1\" /></svg>\n"
      ]
     },
     "execution_count": 25,
     "metadata": {},
     "output_type": "execute_result"
    }
   ],
   "source": [
    "plot(episode_test_reward_hook.rewards)"
   ]
  },
  {
   "cell_type": "code",
   "execution_count": 26,
   "id": "fb0d4ec2",
   "metadata": {},
   "outputs": [],
   "source": [
    "close_visualization(); # closes the MeshCat visualization"
   ]
  }
 ],
 "metadata": {
  "@webio": {
   "lastCommId": null,
   "lastKernelId": null
  },
  "kernelspec": {
   "display_name": "Julia 1.8.0",
   "language": "julia",
   "name": "julia-1.8"
  },
  "language_info": {
   "file_extension": ".jl",
   "mimetype": "application/julia",
   "name": "julia",
   "version": "1.8.0"
  }
 },
 "nbformat": 4,
 "nbformat_minor": 5
}
