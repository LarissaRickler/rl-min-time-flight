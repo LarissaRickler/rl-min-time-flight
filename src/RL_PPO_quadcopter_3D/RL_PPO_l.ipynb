{
 "cells": [
  {
   "cell_type": "code",
   "execution_count": 1,
   "id": "285d18fd",
   "metadata": {},
   "outputs": [],
   "source": [
    "using Pkg\n",
    "if isfile(\"Project.toml\") && isfile(\"Manifest.toml\")\n",
    "    Pkg.activate(\".\")\n",
    "end"
   ]
  },
  {
   "cell_type": "markdown",
   "id": "0649b76a",
   "metadata": {},
   "source": [
    "# Init Bionic VTOL"
   ]
  },
  {
   "cell_type": "code",
   "execution_count": 2,
   "id": "96751412",
   "metadata": {},
   "outputs": [],
   "source": [
    "include(\"../Flyonic.jl\");\n",
    "using .Flyonic;\n",
    "\n",
    "using Rotations; # used for initial position\n",
    "\n",
    "using ReinforcementLearning;\n",
    "using StableRNGs;\n",
    "using Flux;\n",
    "using Flux.Losses;\n",
    "using Random;\n",
    "using IntervalSets;\n",
    "using LinearAlgebra;\n",
    "using Distributions;\n",
    "\n",
    "using Plots;\n",
    "using Statistics;\n",
    "\n",
    "using TensorBoardLogger\n",
    "using Logging\n",
    "\n",
    "\n",
    "using JLD;\n",
    "using BSON: @save, @load # save mode"
   ]
  },
  {
   "cell_type": "code",
   "execution_count": 3,
   "id": "d435a5d6",
   "metadata": {},
   "outputs": [
    {
     "data": {
      "text/plain": [
       "3-element Vector{Vector{Float64}}:\n",
       " [0.0, 0.0, 0.0]\n",
       " [0.8776930457345777, 2.753322687020262, 1.6245466714717152]\n",
       " [-1.0991928249119804, 1.048218660869076, 3.9665137969688486]"
      ]
     },
     "execution_count": 3,
     "metadata": {},
     "output_type": "execute_result"
    }
   ],
   "source": [
    "# TODO: set as desired\n",
    "R_TOL = 0.5;\n",
    "N_WAYPOINTS = 4; # including startpoint, >= 2\n",
    "SLOW_MODE = true;\n",
    "TRAINING = false;\n",
    "EVALUATION = false;\n",
    "VIDEO = false;"
   ]
  },
  {
   "cell_type": "code",
   "execution_count": 4,
   "id": "f7e4ee64",
   "metadata": {},
   "outputs": [
    {
     "name": "stderr",
     "output_type": "stream",
     "text": [
      "\u001b[36m\u001b[1m┌ \u001b[22m\u001b[39m\u001b[36m\u001b[1mInfo: \u001b[22m\u001b[39mMeshCat server started. You can open the visualizer by visiting the following URL in your browser:\n",
      "\u001b[36m\u001b[1m└ \u001b[22m\u001b[39mhttp://10.183.60.226:8700\n"
     ]
    }
   ],
   "source": [
    "create_remote_visualization();"
   ]
  },
  {
   "cell_type": "code",
   "execution_count": 5,
   "id": "e19cce80",
   "metadata": {},
   "outputs": [
    {
     "data": {
      "text/plain": [
       "TBLogger:\n",
       "\t- Log level     : Info\n",
       "\t- Current step  : 0\n",
       "\t- Output        : /home/larissa/Documents/Projects/ADLR/ADLR_project/src/3d/tensorboard_PPO_3\n",
       "\t- open files    : 1\n"
      ]
     },
     "execution_count": 5,
     "metadata": {},
     "output_type": "execute_result"
    }
   ],
   "source": [
    "# TensorBoard\n",
    "logger = TBLogger(\"tensorboard_PPO\", tb_increment)"
   ]
  },
  {
   "cell_type": "code",
   "execution_count": 6,
   "id": "7d9557df",
   "metadata": {},
   "outputs": [
    {
     "data": {
      "text/plain": [
       "1"
      ]
     },
     "execution_count": 6,
     "metadata": {},
     "output_type": "execute_result"
    }
   ],
   "source": [
    "# indicates how many threads Julia was started with. This is important for the multi-threaded environment\n",
    "Threads.nthreads()"
   ]
  },
  {
   "cell_type": "code",
   "execution_count": 7,
   "id": "10d945ff",
   "metadata": {},
   "outputs": [],
   "source": [
    "Δt = 0.025;"
   ]
  },
  {
   "cell_type": "markdown",
   "id": "5411db62",
   "metadata": {},
   "source": [
    "# Create Reinforcement Learning Environment"
   ]
  },
  {
   "cell_type": "code",
   "execution_count": 8,
   "id": "96af6ee0",
   "metadata": {},
   "outputs": [],
   "source": [
    "mutable struct VtolEnv{A,T,ACT,R<:AbstractRNG} <: AbstractEnv # Parametric Constructor for a subtype of AbstractEnv\n",
    "    action_space::A # All possible actions the agent can take\n",
    "    observation_space::Space{Vector{ClosedInterval{T}}} # All possible states that the agent can observe.\n",
    "    state::Vector{T} # Current state\n",
    "    action::ACT # next action the agent wants to apply in the environment.\n",
    "    done::Bool # shows whether a terminal condition has been reached.\n",
    "    t::T # time\n",
    "    rng::R # random number generator\n",
    "\n",
    "    name::String # for different naming of multible environoments\n",
    "    visualization::Bool # activate visualisation (Faster computation without visualisation)\n",
    "    realtime::Bool # visualization in \"real-world\" time (only for watching or filming).\n",
    "    \n",
    "    # Overall state of the environment. This does not correspond to the observation space of the agent but contains all states that describe the environment.\n",
    "    x_W::Vector{T} # Position in World frame\n",
    "    v_B::Vector{T} # Velocity in Body frame\n",
    "    R_W::Matrix{T} # Rotation (matrix) in World frame\n",
    "    ω_B::Vector{T} # Rotation velocity in Body frame\n",
    "    wind_W::Vector{T} # Externel linear velocity acting on the drone\n",
    "    Δt::T # Time step for physics simulation in seconds\n",
    "\n",
    "    ###NEW###\n",
    "    # Current Bonus / Target\n",
    "    num_waypoints::Int # includig start point\n",
    "    waypoints::Vector{Vector{T}}\n",
    "    reached_goal::BitVector\n",
    "    \n",
    "    norm_way::T\n",
    "    progress::T\n",
    "    progress_prev::T\n",
    "    current_point::Int\n",
    "    reached_goal_in_step::Bool\n",
    "    \n",
    "    r_tol::T\n",
    "    projected_position::Vector{T}\n",
    "\n",
    "    slow_mode::Bool\n",
    "    ######\n",
    "end"
   ]
  },
  {
   "cell_type": "code",
   "execution_count": 9,
   "id": "14a6873d",
   "metadata": {},
   "outputs": [],
   "source": [
    "# define a keyword-based constructor for the type declared in the mutable struct typedef. \n",
    "# It could also be done with the macro Base.@kwdef.\n",
    "function VtolEnv(;\n",
    "    rng = Random.GLOBAL_RNG, # Random number generation\n",
    "    name = \"Crazyflie\",\n",
    "    visualization = false,\n",
    "    realtime = false,\n",
    "    kwargs... # let the function take an arbitrary number of keyword arguments\n",
    ")\n",
    "    \n",
    "    T = Float64; # explicit type which is used e.g. in state. Cannot be altered due to the poor matrix defininon.\n",
    "    \n",
    "    # final PWM Values for Crazyflie. The interval definition has no effect in the current implementation.\n",
    "    action_space = Space(\n",
    "        ClosedInterval{T}[\n",
    "            0..1#0..65535, # motor 1\n",
    "            0..1#0..65535, # motor 2\n",
    "            0..1#0..65535, # motor 3\n",
    "            0..1#0..65535, # motor 4\n",
    "            ], \n",
    "    )\n",
    "\n",
    "    \n",
    "    state_space = Space( # Three continuous values in state space.\n",
    "        ClosedInterval{T}[#todo\n",
    "            typemin(T)..typemax(T), # 1 x\n",
    "            typemin(T)..typemax(T), # 2 y\n",
    "            typemin(T)..typemax(T), # 3 z\n",
    "\n",
    "            typemin(T)..typemax(T), # 4  World Vector UP x\n",
    "            typemin(T)..typemax(T), # 5  World Vector UP y\n",
    "            typemin(T)..typemax(T), # 6  World Vector UP z\n",
    "\n",
    "            typemin(T)..typemax(T), # 7  World Vector FRONT x\n",
    "            typemin(T)..typemax(T), # 8  World Vector FRONT y\n",
    "            typemin(T)..typemax(T), # 9  World Vector FRONT z\n",
    "            \n",
    "            typemin(T)..typemax(T), # 10 Body velocity along x\n",
    "            typemin(T)..typemax(T), # 11 Body velocity along y\n",
    "            typemin(T)..typemax(T), # 12 Body velocity along z\n",
    "            \n",
    "            typemin(T)..typemax(T), # 13 Body rotational velocity around x\n",
    "            typemin(T)..typemax(T), # 14 Body rotational velocity around y\n",
    "            typemin(T)..typemax(T), # 15 Body rotational velocity around z\n",
    "            \n",
    "            ###NEW###\n",
    "            typemin(T)..typemax(T), # 16 position error along x (next gate - current position)\n",
    "            typemin(T)..typemax(T), # 17 position error along y (next gate - current position)\n",
    "            typemin(T)..typemax(T), # 18 position error along z (next gate - current position)\n",
    "            \n",
    "            typemin(T)..typemax(T), # 19 way to next next gate x (next next gate - next gate)\n",
    "            typemin(T)..typemax(T), # 20 way to next next gate y (next next gate - next gate)\n",
    "            typemin(T)..typemax(T), # 21 way to next next gate z (next next gate - next gate)\n",
    "            ######\n",
    "            ], \n",
    "    )\n",
    "\n",
    "    ###NEW###\n",
    "    num_waypoints = N_WAYPOINTS # number of waypoints, includig start point\n",
    "    waypoints = generate_trajectory(num_waypoints + 1) # trajectory with num_waypoints waypoints (+ start point), (with dummy points) \n",
    "    reached_goal = falses(num_waypoints)\n",
    "    \n",
    "    norm_way = 0.0 \n",
    "    for i in 1:(num_waypoints - 1)\n",
    "        norm_way += norm(waypoints[i] - waypoints[i + 1])\n",
    "    end\n",
    "    ######\n",
    "    \n",
    "    if visualization\n",
    "        create_Crazyflie(name, actuators = true);\n",
    "        visualize_waypoints(waypoints[1:num_waypoints], 0.05)\n",
    "\n",
    "        set_Crazyflie_actuators(name, [0.0; 0.0; 0.0; 0.0]);\n",
    "        set_transform(name, [0.0; 0.0; 0.0] ,one(QuatRotation));\n",
    "        set_arrow(string(name, \"vel\"), color_vec=[0.0; 1.0; 0.0; 1.0]);\n",
    "        transform_arrow(string(name, \"vel\"), [0.0; 0.0; 0.0], [0.0; 0.0; 1.0], max_head_radius=0.05)\n",
    "#         set_arrow(string(name, \"_vel_current\"), color_vec=[1.0; 0.0; 0.0; 1.0]);\n",
    "#         transform_arrow(string(name, \"_vel_current\"), [0.0; 0.0; 0.0], [0.0; 0.0; 1.0], max_head_radius=0.02)                  \n",
    "    end\n",
    "    \n",
    "\n",
    "\n",
    "    environment = VtolEnv(\n",
    "        action_space,\n",
    "        state_space,\n",
    "        zeros(T, length(state_space)), # current state, needs to be extended.\n",
    "        [0.25; 0.25; 0.25; 0.25],#rand(action_space), #todo test with random\n",
    "        false, # episode done ?\n",
    "        0.0, # time\n",
    "        rng, # random number generator  \n",
    "\n",
    "        name,\n",
    "        visualization,\n",
    "        realtime,\n",
    "\n",
    "        zeros(T, 3), # x_W\n",
    "        zeros(T, 3), # v_B\n",
    "        Matrix(one(QuatRotation)), # Float64... so T needs to be Float64\n",
    "        zeros(T, 3), # ω_B\n",
    "        zeros(T, 3), # wind_W\n",
    "        Δt, # Δt\n",
    "\n",
    "        num_waypoints, # includig start point\n",
    "        waypoints, \n",
    "        reached_goal,\n",
    "\n",
    "        norm_way, # norm_way\n",
    "        0.0, # progress\n",
    "        0.0, # progress_prev\n",
    "        2, # current point\n",
    "        false, # reached_goal_in_step\n",
    "        \n",
    "        R_TOL, # r_tol\n",
    "        zeros(T, 3), # projected_position\n",
    "\n",
    "        SLOW_MODE # slow_mode\n",
    "\n",
    "        )\n",
    "    \n",
    "    \n",
    "    RLBase.reset!(environment)\n",
    "    \n",
    "    return environment\n",
    "    \n",
    "end;"
   ]
  },
  {
   "cell_type": "markdown",
   "id": "ec660d5e",
   "metadata": {},
   "source": [
    "Just for explanation:\n",
    "\n",
    "1. A mutable Struct is created. A struct is a constructor and a constructor is a function that creates new objects.\n",
    "2. A outer keyword-based constructor method is added for the type declared in the mutable struct typedef before.\n",
    "\n",
    "So now we have a function with two methods. Julia will decide which method to call by multiple dispatch."
   ]
  },
  {
   "cell_type": "code",
   "execution_count": 10,
   "id": "23dd4047",
   "metadata": {},
   "outputs": [
    {
     "data": {
      "text/html": [
       "# 2 methods for type constructor:<ul><li> VtolEnv(; <i>rng, name, visualization, realtime, kwargs...</i>) in Main at In[9]:3</li> <li> VtolEnv(action_space::<b>A</b>, observation_space::<b>Space{Array{ClosedInterval{T}, 1}}</b>, state::<b>Vector{T}</b>, action::<b>ACT</b>, done::<b>Bool</b>, t::<b>T</b>, rng::<b>R</b>, name::<b>String</b>, visualization::<b>Bool</b>, realtime::<b>Bool</b>, x_W::<b>Vector{T}</b>, v_B::<b>Vector{T}</b>, R_W::<b>Matrix{T}</b>, ω_B::<b>Vector{T}</b>, wind_W::<b>Vector{T}</b>, Δt::<b>T</b>, num_waypoints::<b>Int64</b>, waypoints::<b>Array{Vector{T}, 1}</b>, reached_goal::<b>BitVector</b>, norm_way::<b>T</b>, progress::<b>T</b>, progress_prev::<b>T</b>, current_point::<b>Int64</b>, reached_goal_in_step::<b>Bool</b>, r_tol::<b>T</b>, projected_position::<b>Vector{T}</b>, slow_mode::<b>Bool</b>)<i> where {A, T, ACT, R<:AbstractRNG}</i> in Main at In[8]:2</li> </ul>"
      ],
      "text/plain": [
       "# 2 methods for type constructor:\n",
       "[1] VtolEnv(; rng, name, visualization, realtime, kwargs...) in Main at In[9]:3\n",
       "[2] VtolEnv(action_space::A, observation_space::Space{Array{ClosedInterval{T}, 1}}, state::Vector{T}, action::ACT, done::Bool, t::T, rng::R, name::String, visualization::Bool, realtime::Bool, x_W::Vector{T}, v_B::Vector{T}, R_W::Matrix{T}, ω_B::Vector{T}, wind_W::Vector{T}, Δt::T, num_waypoints::Int64, waypoints::Array{Vector{T}, 1}, reached_goal::BitVector, norm_way::T, progress::T, progress_prev::T, current_point::Int64, reached_goal_in_step::Bool, r_tol::T, projected_position::Vector{T}, slow_mode::Bool) where {A, T, ACT, R<:AbstractRNG} in Main at In[8]:2"
      ]
     },
     "execution_count": 10,
     "metadata": {},
     "output_type": "execute_result"
    }
   ],
   "source": [
    "methods(VtolEnv)"
   ]
  },
  {
   "cell_type": "markdown",
   "id": "806413d1",
   "metadata": {},
   "source": [
    "# Define the RL interface"
   ]
  },
  {
   "cell_type": "code",
   "execution_count": 11,
   "id": "0f822029",
   "metadata": {},
   "outputs": [],
   "source": [
    "Random.seed!(env::VtolEnv, seed) = Random.seed!(env.rng, seed)\n",
    "RLBase.action_space(env::VtolEnv) = env.action_space\n",
    "RLBase.state_space(env::VtolEnv) = env.observation_space\n",
    "RLBase.is_terminated(env::VtolEnv) = env.done\n",
    "RLBase.state(env::VtolEnv) = env.state"
   ]
  },
  {
   "cell_type": "code",
   "execution_count": 12,
   "id": "b5e32e25",
   "metadata": {},
   "outputs": [],
   "source": [
    "function scale_for_slowmode(slow_mode::Bool, v_min::T, v_max::T, d_max::T, x_W::Vector{T}, projected_position::Vector{T}, v_B::Vector{T}) where T\n",
    "    \n",
    "    if slow_mode == false\n",
    "        return 1\n",
    "    else\n",
    "        if norm(v_B) > v_max\n",
    "            s_vmax = 10^(v_max - norm(v_B))\n",
    "        else\n",
    "            s_vmax = 1\n",
    "        end\n",
    "\n",
    "        if norm(v_B) < v_min\n",
    "            s_vmin = 10^(norm(v_B) - v_min)\n",
    "        else\n",
    "            s_vmin = 1\n",
    "        end\n",
    "\n",
    "        if norm(x_W - projected_position) > d_max\n",
    "            s_gd = exp(-norm(x_W - projected_position) + d_max)\n",
    "        else\n",
    "            s_gd = 1\n",
    "        end\n",
    "        s = s_vmax * s_vmin * s_gd\n",
    "    end\n",
    "    return s\n",
    "end;"
   ]
  },
  {
   "cell_type": "code",
   "execution_count": 13,
   "id": "1f7fb89c",
   "metadata": {},
   "outputs": [],
   "source": [
    "function computeReward(env::VtolEnv{A,T}) where {A,T}\n",
    "    \n",
    "    \n",
    "    if env.slow_mode\n",
    "        v_min = 1.0 # min velocity\n",
    "        v_max = 3.0 # max velocity\n",
    "        d_max = 0.5 \n",
    "    else\n",
    "        v_min = 4.0 # min velocity\n",
    "        v_max = 50.0 # max velocity\n",
    "        d_max = 1.0 \n",
    "    end\n",
    "\n",
    "\n",
    "    s = scale_for_slowmode(true, v_min, v_max, d_max, env.x_W, env.projected_position, env.v_B)\n",
    "    \n",
    "    # TODO: test norming\n",
    "    k_p = 5.0 * s #/ env.norm_way # factor for progress (between current position and last position) reward \n",
    "    r_p = (env.progress - env.progress_prev); # reward for progress (between current position and last position)\n",
    "\n",
    "    k_s = s * (2 * v_max * env.Δt) / env.norm_way # factor for reached distance (overall) reward\n",
    "    r_s = env.progress # reward for reached distance (overall)\n",
    "    \n",
    "    k_wp = 50.0 # factor for reached gate reward\n",
    "    r_wp = 0.0 # reward for reached gate\n",
    "    if env.reached_goal_in_step\n",
    "        r_wp = exp(-norm(env.x_W - env.waypoints[env.current_point - 1])/env.r_tol)\n",
    "    end \n",
    "\n",
    "    # factor for too high body rate penalty\n",
    "    if env.slow_mode\n",
    "        k_ω = 0.01\n",
    "    else\n",
    "        k_ω = 0.001\n",
    "    end\n",
    "    #norm_ω = norm(env.ω_B[3]) # penalty for body rate\n",
    "    norm_ω = norm(env.ω_B) # penalty for body rate\n",
    "\n",
    "    if env.x_W[3] < 0\n",
    "        fall = 1\n",
    "    else\n",
    "        fall = 0\n",
    "    end\n",
    "    \n",
    "    if !env.slow_mode\n",
    "        k_s /= env.norm_way\n",
    "        k_p /= env.norm_way\n",
    "    end\n",
    "    \n",
    "    return k_p * r_p + k_s * r_s + k_wp * r_wp - k_ω * norm_ω - fall\n",
    "    \n",
    "end\n",
    "\n",
    "\n",
    "RLBase.reward(env::VtolEnv{A,T}) where {A,T} = computeReward(env)"
   ]
  },
  {
   "cell_type": "code",
   "execution_count": 14,
   "id": "ae45ec04",
   "metadata": {},
   "outputs": [],
   "source": [
    "function RLBase.reset!(env::VtolEnv{A,T}) where {A,T}\n",
    "    \n",
    "    env.x_W = [0.0; 0.0; 0.0];\n",
    "    env.v_B = [0.0; 0.0; 0.0];\n",
    "    env.R_W = Matrix(one(QuatRotation)); # Identity matrix (no rotation)\n",
    "    env.ω_B = [0.0; 0.0; 0.0];\n",
    "    env.wind_W = [0.0; 0.0; 0.0];\n",
    "\n",
    "\n",
    "    env.waypoints = generate_trajectory(env.num_waypoints + 1); # Dummy points\n",
    "    env.reached_goal = falses(env.num_waypoints);\n",
    "    env.reached_goal[1] = true; # set first point to reached (start point)\n",
    "    \n",
    "    env.current_point = 2;\n",
    "    env.reached_goal_in_step = false;\n",
    "    #env.r_tol = 0.3;\n",
    "    \n",
    "    if env.visualization\n",
    "        visualize_waypoints(env.waypoints[1:env.num_waypoints], 0.05); \n",
    "    end\n",
    "    \n",
    "    norm_way = 0.0 \n",
    "    for i in 1:(env.num_waypoints - 1)\n",
    "        norm_way += norm(env.waypoints[i] - env.waypoints[i + 1])\n",
    "    end\n",
    "    \n",
    "    env.norm_way = norm_way\n",
    "    env.progress = 0.0;\n",
    "    env.progress_prev = 0.0;\n",
    "        \n",
    " #todo\n",
    "    env.state = [env.x_W[1]; # 1 position along x\n",
    "                 env.x_W[2]; # 2 position along y\n",
    "                 env.x_W[3]; # 3 position along z\n",
    "#todo right R_W?\n",
    "                 env.R_W[1,1];\n",
    "                 env.R_W[2,1];\n",
    "                 env.R_W[3,1];\n",
    "        \n",
    "                 env.R_W[1,3]; # 4  World Vector UP x\n",
    "                 env.R_W[2,3]; # 5  World Vector UP y\n",
    "                 env.R_W[3,3]; # 6  World Vector UP z\n",
    "\n",
    "#                  env.R_W[1,1]; # 7  World Vector FRONT x\n",
    "#                  env.R_W[2,1]; # 8  World Vector FRONT y\n",
    "#                  env.R_W[3,1]; # 9  World Vector FRONT z\n",
    "\n",
    "                 env.v_B[1]; #  10 Body velocity along x\n",
    "                 env.v_B[2]; #  11 Body velocity along y\n",
    "                 env.v_B[3]; #  12 Body velocity along z\n",
    "\n",
    "                 env.ω_B[1]; #  13  Body rotational velocity around x\n",
    "                 env.ω_B[2]; #  14  Body rotational velocity around y\n",
    "                 env.ω_B[3]; #  15  Body rotational velocity around z\n",
    "\n",
    "                 env.waypoints[2][1] - env.x_W[1]; # 16 position error to next gate along x\n",
    "                 env.waypoints[2][2] - env.x_W[2]; # 17 position error to next gate along z\n",
    "                 env.waypoints[2][3] - env.x_W[3]; # 18 position error to next gate along z\n",
    "                 \n",
    "                 env.waypoints[3][1] - env.waypoints[2][1]; # 19 way to next next gate x \n",
    "                 env.waypoints[3][2] - env.waypoints[2][2]; # 20 way to next next gate y\n",
    "                 env.waypoints[3][3] - env.waypoints[2][3]]  # 21 way to next next gate z \n",
    "    \n",
    "\n",
    "    env.t = 0.0; # time 0s\n",
    "    env.action = [0.25; 0.25; 0.25; 0.25] # normalized # todo try with 0.0\n",
    "    #env.last_action = [0.255; 0.255; 0.255; 0.255] # normalized\n",
    "    #env.current_action = [0.255; 0.255; 0.255; 0.255] # normalized\n",
    "\n",
    "    env.done = false # reset termination\n",
    "\n",
    "    env.projected_position = [0; 0; 0]\n",
    "    \n",
    "    if env.visualization\n",
    "        # Visualize initial state\n",
    "        set_transform(env.name, env.x_W,QuatRotation(env.R_W));\n",
    "        set_Crazyflie_actuators(env.name, [0.0; 0.0; 0.0; 0.0]);\n",
    "        #transform_arrow(string(env.name, \"_vel\"), env.x_W, env.v_W_target, max_head_radius=0.05) \n",
    "        transform_arrow(string(env.name, \"vel\"), env.x_W, [0.0; 0.0; 0.0], max_head_radius=0.05) \n",
    "    end\n",
    "    \n",
    "    nothing # return nothing\n",
    "end;"
   ]
  },
  {
   "cell_type": "code",
   "execution_count": 15,
   "id": "1cf1a7b7",
   "metadata": {},
   "outputs": [],
   "source": [
    "# defines a methods for a callable object.\n",
    "# So when a VtolEnv object is created, it has this method that can be called\n",
    "function (env::VtolEnv)(a)\n",
    "\n",
    "\n",
    "    # call the step on the environoment with the next action \n",
    "    _step!(env, a)\n",
    "        \n",
    "end"
   ]
  },
  {
   "cell_type": "code",
   "execution_count": 16,
   "id": "26a5a0da",
   "metadata": {},
   "outputs": [],
   "source": [
    "env = VtolEnv();"
   ]
  },
  {
   "cell_type": "code",
   "execution_count": 17,
   "id": "ff8f68a7",
   "metadata": {},
   "outputs": [
    {
     "data": {
      "text/html": [
       "# 3 methods for callable object:<ul><li> (env::<b>VtolEnv</b>)(a) in Main at In[15]:3</li> <li> (env::<b>AbstractEnv</b>)(action) in ReinforcementLearningBase</li> <li> (env::<b>AbstractEnv</b>)(action, player) in ReinforcementLearningBase</li> </ul>"
      ],
      "text/plain": [
       "# 3 methods for callable object:\n",
       "[1] (env::VtolEnv)(a) in Main at In[15]:3\n",
       "[2] (env::AbstractEnv)(action) in ReinforcementLearningBase\n",
       "[3] (env::AbstractEnv)(action, player) in ReinforcementLearningBase"
      ]
     },
     "execution_count": 17,
     "metadata": {},
     "output_type": "execute_result"
    }
   ],
   "source": [
    "methods(env) # Just to explain which methods the object has"
   ]
  },
  {
   "cell_type": "code",
   "execution_count": 18,
   "id": "d4d67302",
   "metadata": {},
   "outputs": [
    {
     "data": {
      "text/plain": [
       "scale_actions (generic function with 1 method)"
      ]
     },
     "execution_count": 18,
     "metadata": {},
     "output_type": "execute_result"
    }
   ],
   "source": [
    "function scale_actions(next_action)\n",
    "    return next_action*22000.0\n",
    "end"
   ]
  },
  {
   "cell_type": "code",
   "execution_count": 19,
   "id": "9e7d4727",
   "metadata": {},
   "outputs": [],
   "source": [
    "function _step!(env::VtolEnv, next_action)\n",
    "    \n",
    "\n",
    "    #env.last_action = copy(env.current_action)\n",
    "    #env.current_action[1] = next_action[1]\n",
    "    #env.current_action[2] = next_action[2]\n",
    "    #env.current_action[3] = next_action[3]\n",
    "    #env.current_action[4] = next_action[4]\n",
    "    \n",
    "    \n",
    "    \n",
    "    scaled_actions = scale_actions.(next_action) # between 0 and 1 for neual network\n",
    "    # caluclate wind impact\n",
    "    v_in_wind_B = vtol_add_wind(env.v_B, env.R_W, env.wind_W)\n",
    "    # caluclate aerodynamic forces\n",
    "    torque_B, force_B = crazyflie_model(scaled_actions);\n",
    "    # integrate rigid body dynamics for Δt\n",
    "    env.x_W, env.v_B, env.R_W, env.ω_B, env.t = rigid_body_simple(torque_B, force_B, env.x_W, env.v_B, env.R_W, env.ω_B, env.t, env.Δt, crazyflie_param)\n",
    "\n",
    "    \n",
    "    env.reached_goal_in_step = false;\n",
    "    if norm(env.x_W - env.waypoints[env.current_point]) < env.r_tol\n",
    "        env.reached_goal_in_step = true;\n",
    "        env.reached_goal[env.current_point] = true;\n",
    "        env.current_point += 1;\n",
    "    end\n",
    "        \n",
    "            \n",
    "    # calculate progress on trajectory\n",
    "    env.progress_prev = env.progress\n",
    "    \n",
    "    current_progress = 0.0\n",
    "    line_segment, env.projected_position = calculate_progress(env.waypoints, env.x_W)\n",
    "    \n",
    "    #env.current_point = line_segment + 1\n",
    "\n",
    "    for i in 2:(line_segment)\n",
    "       current_progress +=  norm(env.waypoints[i] - env.waypoints[i - 1])  \n",
    "    end\n",
    "    current_progress += norm(env.waypoints[line_segment] - env.projected_position)\n",
    "    \n",
    "    env.progress = current_progress\n",
    "    \n",
    "\n",
    "    if env.realtime\n",
    "        sleep(env.Δt) # TODO: just a dirty hack. this is of course slower than real time.\n",
    "    end\n",
    "\n",
    "    # env.t += env.Δt # todo reevaluate\n",
    "\n",
    "\n",
    "    if env.visualization\n",
    "        set_transform(env.name, env.x_W,QuatRotation(env.R_W));\n",
    "        set_Crazyflie_actuators(env.name, next_action[1:4])\n",
    "        #transform_arrow(string(env.name, \"_vel\"), env.x_W, env.v_W_target, max_head_radius=0.05)               \n",
    "        transform_arrow(string(env.name, \"vel\"), env.x_W, env.R_W*env.v_B, max_head_radius=0.05) \n",
    "    \n",
    "        for i in eachindex(env.reached_goal)\n",
    "            if env.reached_goal[i]\n",
    "                create_sphere(\"fixgoal_$i\", 0.05, color=RGBA{Float32}(1.0, 0.0, 0.0, 1.0));\n",
    "                set_transform(\"fixgoal_$i\", env.waypoints[i]);\n",
    "            end\n",
    "        end\n",
    "\n",
    "    end\n",
    "    \n",
    "    \n",
    "    #v_B_target = transpose(env.R_W)*env.v_W_target\n",
    "    \n",
    "    \n",
    "    # State space\n",
    "    #todo\n",
    "    env.state[1] = env.x_W[1];\n",
    "    env.state[2] = env.x_W[2];\n",
    "    env.state[3] = env.x_W[3];\n",
    "    \n",
    "    env.state[4] = env.R_W[1,1] # 1  World Vector UP x\n",
    "    env.state[5] = env.R_W[2,1] # 2  World Vector UP y\n",
    "    env.state[6] = env.R_W[3,1] # 3  World Vector UP z\n",
    "\n",
    "    env.state[7] = env.R_W[1,3] # 4  World Vector FRONT x\n",
    "    env.state[8] = env.R_W[2,3] # 5  World Vector FRONT y\n",
    "    env.state[9] = env.R_W[3,3] # 6  World Vector FRONT z\n",
    "        \n",
    "    env.state[10] = env.v_B[1] # 7  Body velocity along x\n",
    "    env.state[11] = env.v_B[2] # 8  Body velocity along y\n",
    "    env.state[12] = env.v_B[3] # 9  Body velocity along z\n",
    "\n",
    "    env.state[13] = env.ω_B[1] # 10 Body rotational velocity around x\n",
    "    env.state[14] = env.ω_B[2] # 11 Body rotational velocity around y\n",
    "    env.state[15] = env.ω_B[3] # 12 Body rotational velocity around z\n",
    "\n",
    "    env.state[16] = env.waypoints[env.current_point][1] - env.x_W[1] # 13 position error to next gate along x\n",
    "    env.state[17] = env.waypoints[env.current_point][2] - env.x_W[2]; # 14 position error to next gate along z\n",
    "    env.state[18] = env.waypoints[env.current_point][3] - env.x_W[3]; # 15 position error to next gate along z\n",
    "     #todo            \n",
    "    if env.current_point <= env.num_waypoints\n",
    "        env.state[19] = env.waypoints[env.current_point + 1][1] - env.waypoints[env.current_point][1] ; # 16 way to next next gate x (next next gate - next gate), dummy integriert\n",
    "        env.state[20] = env.waypoints[env.current_point + 1][2] - env.waypoints[env.current_point][2]; # 17 way to next next gate y (next next gate - next gate), dummy integriert\n",
    "        env.state[21] = env.waypoints[env.current_point + 1][3] - env.waypoints[env.current_point][3]; # 18 way to next next gate z (next next gate - next gate), dummy integriert\n",
    "    end\n",
    "\n",
    "    \n",
    "    \n",
    "    # Termination criteria\n",
    "    env.done = #true\n",
    "        # After time... How fast is drone+Range of desired point\n",
    "        # After reaching position (circle of r_tol)\n",
    "         norm(env.ω_B) > 100.0 || \n",
    "         norm(env.v_B) > 100.0 || # stop if body is too fast_point \n",
    "        env.x_W[3] < -1.0 || # stop if body is below -5m\n",
    "        env.t > env.num_waypoints * 3.0 ||# stop after 3s per point #todo set in fast learning phase\n",
    "        norm(env.x_W - env.projected_position) > 5.0 || # too far off the path \n",
    "        env.reached_goal == trues(env.num_waypoints)\n",
    "\n",
    "    nothing\n",
    "end;"
   ]
  },
  {
   "cell_type": "code",
   "execution_count": 20,
   "id": "6e1cd988",
   "metadata": {},
   "outputs": [
    {
     "name": "stdout",
     "output_type": "stream",
     "text": [
      "\u001b[0m\u001b[1mTest Summary:              | \u001b[22m\u001b[32m\u001b[1mPass  \u001b[22m\u001b[39m\u001b[36m\u001b[1mTotal  \u001b[22m\u001b[39m\u001b[0m\u001b[1mTime\u001b[22m\n",
      "random policy with VtolEnv | \u001b[32m2000  \u001b[39m\u001b[36m 2000  \u001b[39m\u001b[0m5.0s\n"
     ]
    },
    {
     "data": {
      "text/plain": [
       "Test.DefaultTestSet(\"random policy with VtolEnv\", Any[], 2000, false, false, true, 1.676384714508497e9, 1.676384719537713e9)"
      ]
     },
     "execution_count": 20,
     "metadata": {},
     "output_type": "execute_result"
    }
   ],
   "source": [
    "RLBase.test_runnable!(env)"
   ]
  },
  {
   "cell_type": "markdown",
   "id": "c223a31f",
   "metadata": {},
   "source": [
    "Show an overview of the environment."
   ]
  },
  {
   "cell_type": "markdown",
   "id": "ffe6de74",
   "metadata": {},
   "source": [
    "# Setup of a reinforcement learning experiment."
   ]
  },
  {
   "cell_type": "code",
   "execution_count": 21,
   "id": "e5683fe8",
   "metadata": {},
   "outputs": [
    {
     "data": {
      "text/markdown": [
       "MultiThreadEnv(8 x VtolEnv)"
      ],
      "text/plain": [
       "MultiThreadEnv(8 x VtolEnv)"
      ]
     },
     "execution_count": 21,
     "metadata": {},
     "output_type": "execute_result"
    }
   ],
   "source": [
    "seed = 123    \n",
    "rng = StableRNG(seed)\n",
    "N_ENV = 8\n",
    "UPDATE_FREQ = 1024\n",
    "    \n",
    "    \n",
    "    # define multiple environments for parallel training\n",
    "    env = MultiThreadEnv([\n",
    "        # use different names for the visualization\n",
    "        VtolEnv(; rng = StableRNG(hash(seed+i)), name = \"cf_PPO$i\") for i in 1:N_ENV\n",
    "    ])\n",
    "\n"
   ]
  },
  {
   "cell_type": "code",
   "execution_count": 22,
   "id": "d1f128b2",
   "metadata": {},
   "outputs": [],
   "source": [
    "# Define the function approximator\n",
    "    ns, na = length(state(env[1])), length(action_space(env[1]))\n",
    "    approximator = ActorCritic(\n",
    "                actor = GaussianNetwork(\n",
    "                    pre = Chain(\n",
    "                    Dense(ns, 256, tanh; initW = glorot_uniform(rng)),\n",
    "                    Dense(256, 256, tanh; initW = glorot_uniform(rng)),\n",
    "                    ),\n",
    "                    μ = Chain(Dense(256, na; initW = glorot_uniform(rng))),\n",
    "                    logσ = Chain(Dense(256, na; initW = glorot_uniform(rng))),\n",
    "                ),\n",
    "                critic = Chain(\n",
    "                    Dense(ns, 256, tanh; initW = glorot_uniform(rng)),\n",
    "                    Dense(256, 256, tanh; initW = glorot_uniform(rng)),\n",
    "                    Dense(256, 1; initW = glorot_uniform(rng)),\n",
    "                ),\n",
    "                optimizer = ADAM(1e-4),\n",
    "            );"
   ]
  },
  {
   "cell_type": "code",
   "execution_count": 23,
   "id": "7ea4c37c",
   "metadata": {},
   "outputs": [],
   "source": [
    "    agent = Agent( # A wrapper of an AbstractPolicy\n",
    "         \n",
    "\n",
    "        # AbstractPolicy: the policy to use\n",
    "        policy = PPOPolicy(;\n",
    "                    approximator = approximator |> cpu,\n",
    "                    update_freq=UPDATE_FREQ,\n",
    "                    dist = Normal,\n",
    "                    # For parameters visit the docu: https://juliareinforcementlearning.org/docs/rlzoo/#ReinforcementLearningZoo.PPOPolicy\n",
    "                    ),\n",
    "        \n",
    "        # AbstractTrajectory: used to store transitions between an agent and an environment source\n",
    "        trajectory = PPOTrajectory(;\n",
    "            capacity = UPDATE_FREQ,\n",
    "            state = Matrix{Float64} => (ns, N_ENV),\n",
    "            action = Matrix{Float64} => (na, N_ENV),\n",
    "            action_log_prob = Vector{Float64} => (N_ENV,),\n",
    "            reward = Vector{Float64} => (N_ENV,),\n",
    "            terminal = Vector{Bool} => (N_ENV,),\n",
    "        ),\n",
    "    );\n"
   ]
  },
  {
   "cell_type": "code",
   "execution_count": 24,
   "id": "7f158a93",
   "metadata": {},
   "outputs": [],
   "source": [
    "function saveModel(t, agent, env)\n",
    "    model = cpu(agent.policy.approximator)\n",
    "    if SLOW_MODE\n",
    "        f = joinpath(\"./RL_models_slow/\", \"cf_ppo_$(t).bson\")\n",
    "    else\n",
    "        f = joinpath(\"./RL_models_fast/\", \"cf_ppo_$t.bson\") \n",
    "    end\n",
    "    @save f model\n",
    "    println(\"parameters at step $t saved to $f\")\n",
    "end;\n"
   ]
  },
  {
   "cell_type": "code",
   "execution_count": 25,
   "id": "301a9bd8",
   "metadata": {},
   "outputs": [],
   "source": [
    "function loadModel()\n",
    "    f = joinpath(\"./load_model/\", \"cf_ppo_$(load_from_slow_step).bson\")\n",
    "    @load f model\n",
    "    return model\n",
    "end;"
   ]
  },
  {
   "cell_type": "code",
   "execution_count": 26,
   "id": "2adefdb1",
   "metadata": {},
   "outputs": [],
   "source": [
    "function validate_policy_vis(t, agent, env)\n",
    "    run(agent.policy, test_env, StopAfterEpisode(1), episode_test_reward_hook)\n",
    "    # the result of the hook\n",
    "    println(\"test reward at step $t: $(episode_test_reward_hook.rewards[end])\")\n",
    "    \n",
    "end;\n",
    "\n",
    "visualize_validation = true; # TODO set as desired\n",
    "episode_test_reward_hook = TotalRewardPerEpisode(;is_display_on_exit=false)\n",
    "# create a env only for reward test\n",
    "test_env = VtolEnv(;name = \"test_cf\", visualization = visualize_validation, realtime = visualize_validation);"
   ]
  },
  {
   "cell_type": "code",
   "execution_count": 27,
   "id": "751137af",
   "metadata": {},
   "outputs": [],
   "source": [
    "# todo merge with above\n",
    "function validate_policy(t, agent, env)\n",
    "    # for validation extract the policy from the agend\n",
    "    run(agent.policy, test_env, StopAfterEpisode(1), \n",
    "        ComposedHook(\n",
    "        episode_test_step_hook, \n",
    "        episode_test_reward_hook\n",
    "    ),\n",
    "        )\n",
    "    # the result of the hook\n",
    "    reward = round((episode_test_reward_hook.rewards[end]),digits = 3)\n",
    "    length = episode_test_step_hook.steps[end-1]\n",
    "    \n",
    "    println(\"step: \", t, \" reward : \",reward, \" length: \", length)\n",
    "\n",
    "    with_logger(logger) do\n",
    "        @info \"evaluating\" avg_length = length  avg_reward = reward  log_step_increment = 0\n",
    "    end\n",
    "end;\n",
    "\n",
    "episode_test_reward_hook = TotalRewardPerEpisode( is_display_on_exit=false)\n",
    "episode_test_step_hook = StepsPerEpisode()\n",
    "# create a env only for reward test\n",
    "\n",
    "test_env = VtolEnv(;name = \"test_cf\", visualization = true, realtime = true);\n",
    "#test_env = VtolEnv(;name = \"test_cf\", visualization = false, realtime = false);"
   ]
  },
  {
   "cell_type": "code",
   "execution_count": 28,
   "id": "897ce270",
   "metadata": {},
   "outputs": [
    {
     "data": {
      "text/plain": [
       "20000000"
      ]
     },
     "execution_count": 28,
     "metadata": {},
     "output_type": "execute_result"
    }
   ],
   "source": [
    "# number of steps\n",
    "steps_slow = 20_000_000\n",
    "steps_fast = 20_000_000\n",
    "load_from_slow_step = 20_000_000 # TODO: choose slow model\n",
    "\n",
    "save_freq = 100_000\n",
    "validate_freq = 100_000\n",
    "\n",
    "steps = 0\n",
    "if SLOW_MODE\n",
    "    steps = steps_slow\n",
    "else\n",
    "    steps = steps_fast\n",
    "end"
   ]
  },
  {
   "cell_type": "code",
   "execution_count": 29,
   "id": "0e8fad8f",
   "metadata": {},
   "outputs": [],
   "source": [
    "# Define hook which is called during the training\n",
    "total_batch_reward_per_episode = TotalBatchRewardPerEpisode(N_ENV, is_display_on_exit = false)\n",
    "hook = ComposedHook(\n",
    "    total_batch_reward_per_episode,\n",
    "    DoEveryNStep(saveModel, n=save_freq),\n",
    "    DoEveryNStep(validate_policy, n=validate_freq),\n",
    "    #=\n",
    "    DoEveryNStep() do t, agent, env\n",
    "        p = agent.policy\n",
    "        with_logger(logger) do\n",
    "            @info \"training\" loss = mean(p.loss)  actor_loss = mean(p.actor_loss)  critic_loss = mean(p.critic_loss)\n",
    "        end\n",
    "    end,\n",
    "    =#\n",
    "    DoEveryNStep() do t, agent, env\n",
    "        with_logger(logger) do\n",
    "            rewards = [\n",
    "                total_batch_reward_per_episode.rewards[i][end] for i in 1:length(env)  if is_terminated(env[i])\n",
    "                    ]\n",
    "            if length(rewards) > 0\n",
    "                @info \"training\" reward = mean(rewards)\n",
    "            end\n",
    "        end\n",
    "    end,\n",
    "    #=\n",
    "    DoEveryNStep() do t, agent, env\n",
    "        with_logger(logger) do\n",
    "            @info \"training\" action_thrust_1 = env[1].action[1]  action_thrust_2 = env[1].action[2] action_thrust_3 = env[1].action[3] action_thrust_4 = env[1].action[4]\n",
    "        end\n",
    "    end,\n",
    "    =#\n",
    ");"
   ]
  },
  {
   "cell_type": "code",
   "execution_count": 30,
   "id": "174f8124",
   "metadata": {},
   "outputs": [],
   "source": [
    "#todo load model\n",
    "agent.policy.approximator = loadModel(); "
   ]
  },
  {
   "cell_type": "code",
   "execution_count": 31,
   "id": "45dfdb68",
   "metadata": {
    "scrolled": false
   },
   "outputs": [],
   "source": [
    "if TRAINING\n",
    "    ReinforcementLearning.run(\n",
    "        agent,\n",
    "        env,\n",
    "        StopAfterStep(steps),\n",
    "        hook\n",
    "    )\n",
    "end"
   ]
  },
  {
   "cell_type": "code",
   "execution_count": 32,
   "id": "21a5d7b6",
   "metadata": {},
   "outputs": [],
   "source": [
    "if TRAINING\n",
    "    plot(episode_test_reward_hook.rewards)\n",
    "end"
   ]
  },
  {
   "cell_type": "code",
   "execution_count": 33,
   "id": "41c1dc36",
   "metadata": {},
   "outputs": [],
   "source": [
    "if TRAINING\n",
    "    plot(episode_test_step_hook.steps[1:2:end])\n",
    "end"
   ]
  },
  {
   "cell_type": "code",
   "execution_count": 34,
   "id": "0be19c7e",
   "metadata": {},
   "outputs": [],
   "source": [
    "close_visualization(); # closes the MeshCat visualization"
   ]
  },
  {
   "cell_type": "markdown",
   "id": "d1be7fc6",
   "metadata": {},
   "source": [
    "# Evaluation"
   ]
  },
  {
   "cell_type": "code",
   "execution_count": 36,
   "id": "8a39200a",
   "metadata": {},
   "outputs": [],
   "source": [
    "test_env = VtolEnv(;name = \"test_cf\");"
   ]
  },
  {
   "cell_type": "code",
   "execution_count": 37,
   "id": "345f65ce",
   "metadata": {},
   "outputs": [],
   "source": [
    "function loadModel(path, num)\n",
    "    f = joinpath(path, \"cf_ppo_$num.bson\") \n",
    "    @load f model\n",
    "    return model\n",
    "end;"
   ]
  },
  {
   "cell_type": "code",
   "execution_count": 38,
   "id": "ed379703",
   "metadata": {},
   "outputs": [],
   "source": [
    "function validate(num_models, num_test)\n",
    "    episode_test_reward_hook = TotalRewardPerEpisode(;is_display_on_exit=false)\n",
    "    # create a env only for reward test\n",
    "    #todo evtl mit multithreding\n",
    "    for i in 1:num_models\n",
    "          \n",
    "        sum_rewards_model = 0;\n",
    "        sum_successes_model = 0;\n",
    "        sum_avg_vel_model = 0;\n",
    "        sum_compl_time = 0;\n",
    "        n_success = 0;\n",
    "        \n",
    "        for exp in 1:num_test\n",
    "            if SLOW_MODE\n",
    "                path = \"./RL_models_slow/\"\n",
    "            else\n",
    "                path = \"./RL_models_fast/\"\n",
    "            end\n",
    "            agent.policy.approximator = loadModel(path, i * save_freq); \n",
    "            RLBase.reset!(test_env)\n",
    "            run(agent.policy, test_env, StopAfterEpisode(1), episode_test_reward_hook)\n",
    "            # the result of the hook\n",
    "            sum_rewards_model += episode_test_reward_hook.rewards[end];\n",
    "            \n",
    "            if test_env.reached_goal == trues(test_env.num_waypoints)\n",
    "                n_success += 1\n",
    "                sum_avg_vel_model += test_env.norm_way / test_env.t\n",
    "                sum_compl_time += test_env.t\n",
    "            end\n",
    "        end\n",
    "        \n",
    "        rewards[i] = sum_rewards_model / num_test;\n",
    "        success_rate[i] = n_success / num_test;\n",
    "        if n_success > 0\n",
    "            avg_velocity[i] = sum_avg_vel_model / n_success;\n",
    "            avg_compl_time[i] = sum_compl_time / n_success;\n",
    "        else\n",
    "            avg_velocity[i] = NaN\n",
    "            avg_compl_time[i] = NaN\n",
    "        end\n",
    "        percent = percent = round(i * 100 / num_models, digits=2)\n",
    "        print(\"progress: $(percent)%   \\r\")\n",
    "        flush(stdout)\n",
    "        \n",
    "    end\n",
    "    \n",
    "    \n",
    "end;"
   ]
  },
  {
   "cell_type": "code",
   "execution_count": 39,
   "id": "21a98dd6",
   "metadata": {
    "scrolled": true
   },
   "outputs": [],
   "source": [
    "if EVALUATION\n",
    "    \n",
    "    NUM_MODELS = 5800000#Int(steps / save_freq); #todo \n",
    "    NUM_TEST = 200; # TODO: change as desired \n",
    "\n",
    "    rewards = zeros(NUM_MODELS, 1);\n",
    "    success_rate = zeros(NUM_MODELS, 1);\n",
    "    avg_velocity = zeros(NUM_MODELS, 1);\n",
    "    avg_compl_time = zeros(NUM_MODELS, 1);\n",
    "    \n",
    "    #validate(5800000, NUM_TEST);\n",
    "    validate(NUM_MODELS, NUM_TEST);\n",
    "    \n",
    "end;"
   ]
  },
  {
   "cell_type": "code",
   "execution_count": 40,
   "id": "ab909865",
   "metadata": {},
   "outputs": [],
   "source": [
    "if EVALUATION\n",
    "    results_path = pwd() * \"/plots/\";\n",
    "    if SLOW_MODE\n",
    "        results_path = results_path * \"slow/\"\n",
    "    else\n",
    "        results_path = results_path * \"fast/\"\n",
    "    end\n",
    "    \n",
    "    save(results_path * \"iterations.jld\", \"data\", [1:NUM_MODELS] * save_freq) # todo save size auch in 2d\n",
    "    \n",
    "    save(results_path * \"avg_comp_time.jld\", \"data\", avg_compl_time)\n",
    "    \n",
    "    save(results_path * \"avg_velocity.jld\", \"data\", avg_velocity)\n",
    "    \n",
    "    save(results_path * \"reward.jld\", \"data\", rewards) \n",
    "        \n",
    "    save(results_path * \"success_rate.jld\", \"data\", success_rate)\n",
    "end;"
   ]
  },
  {
   "cell_type": "code",
   "execution_count": 41,
   "id": "0ea2a032",
   "metadata": {},
   "outputs": [],
   "source": [
    "results_path = pwd() * \"/plots/\";\n",
    "if SLOW_MODE\n",
    "    results_path = results_path * \"slow/\"\n",
    "else\n",
    "    results_path = results_path * \"fast/\"\n",
    "end\n",
    "\n",
    "iterations = load(results_path * \"iterations.jld\")[\"data\"];\n",
    "avg_compl_time = load(results_path * \"avg_comp_time.jld\")[\"data\"];\n",
    "avg_velocity = load(results_path * \"avg_velocity.jld\")[\"data\"];\n",
    "rewards = load(results_path * \"reward.jld\")[\"data\"];\n",
    "success_rate = load(results_path * \"success_rate.jld\")[\"data\"];"
   ]
  },
  {
   "cell_type": "code",
   "execution_count": 42,
   "id": "26466af1",
   "metadata": {},
   "outputs": [
    {
     "data": {
      "text/plain": [
       "\"/home/larissa/Documents/Projects/ADLR/ADLR_project/src/3d/plots/slow/\""
      ]
     },
     "execution_count": 42,
     "metadata": {},
     "output_type": "execute_result"
    }
   ],
   "source": [
    "fig_path = pwd() * \"/plots/\";\n",
    "if SLOW_MODE\n",
    "    fig_path = fig_path * \"slow/\"\n",
    "else\n",
    "    fig_path = fig_path * \"fast/\"\n",
    "end"
   ]
  },
  {
   "cell_type": "code",
   "execution_count": 43,
   "id": "c4cc649e",
   "metadata": {},
   "outputs": [
    {
     "data": {
      "image/svg+xml": "<?xml version=\"1.0\" encoding=\"utf-8\"?>\n<svg xmlns=\"http://www.w3.org/2000/svg\" xmlns:xlink=\"http://www.w3.org/1999/xlink\" width=\"600\" height=\"400\" viewBox=\"0 0 2400 1600\">\n<defs>\n  <clipPath id=\"clip210\">\n    <rect x=\"0\" y=\"0\" width=\"2400\" height=\"1600\"/>\n  </clipPath>\n</defs>\n<path clip-path=\"url(#clip210)\" d=\"\nM0 1600 L2400 1600 L2400 0 L0 0  Z\n  \" fill=\"#ffffff\" fill-rule=\"evenodd\" fill-opacity=\"1\"/>\n<defs>\n  <clipPath id=\"clip211\">\n    <rect x=\"480\" y=\"0\" width=\"1681\" height=\"1600\"/>\n  </clipPath>\n</defs>\n<path clip-path=\"url(#clip210)\" d=\"\nM204.311 1410.9 L2352.76 1410.9 L2352.76 47.2441 L204.311 47.2441  Z\n  \" fill=\"#ffffff\" fill-rule=\"evenodd\" fill-opacity=\"1\"/>\n<defs>\n  <clipPath id=\"clip212\">\n    <rect x=\"204\" y=\"47\" width=\"2149\" height=\"1365\"/>\n  </clipPath>\n</defs>\n<polyline clip-path=\"url(#clip212)\" style=\"stroke:#000000; stroke-linecap:round; stroke-linejoin:round; stroke-width:2; stroke-opacity:0.1; fill:none\" points=\"\n  229.557,1410.9 229.557,47.2441 \n  \"/>\n<polyline clip-path=\"url(#clip212)\" style=\"stroke:#000000; stroke-linecap:round; stroke-linejoin:round; stroke-width:2; stroke-opacity:0.1; fill:none\" points=\"\n  585.142,1410.9 585.142,47.2441 \n  \"/>\n<polyline clip-path=\"url(#clip212)\" style=\"stroke:#000000; stroke-linecap:round; stroke-linejoin:round; stroke-width:2; stroke-opacity:0.1; fill:none\" points=\"\n  940.728,1410.9 940.728,47.2441 \n  \"/>\n<polyline clip-path=\"url(#clip212)\" style=\"stroke:#000000; stroke-linecap:round; stroke-linejoin:round; stroke-width:2; stroke-opacity:0.1; fill:none\" points=\"\n  1296.31,1410.9 1296.31,47.2441 \n  \"/>\n<polyline clip-path=\"url(#clip212)\" style=\"stroke:#000000; stroke-linecap:round; stroke-linejoin:round; stroke-width:2; stroke-opacity:0.1; fill:none\" points=\"\n  1651.9,1410.9 1651.9,47.2441 \n  \"/>\n<polyline clip-path=\"url(#clip212)\" style=\"stroke:#000000; stroke-linecap:round; stroke-linejoin:round; stroke-width:2; stroke-opacity:0.1; fill:none\" points=\"\n  2007.48,1410.9 2007.48,47.2441 \n  \"/>\n<polyline clip-path=\"url(#clip210)\" style=\"stroke:#000000; stroke-linecap:round; stroke-linejoin:round; stroke-width:4; stroke-opacity:1; fill:none\" points=\"\n  204.311,1410.9 2352.76,1410.9 \n  \"/>\n<polyline clip-path=\"url(#clip210)\" style=\"stroke:#000000; stroke-linecap:round; stroke-linejoin:round; stroke-width:4; stroke-opacity:1; fill:none\" points=\"\n  229.557,1410.9 229.557,1392 \n  \"/>\n<polyline clip-path=\"url(#clip210)\" style=\"stroke:#000000; stroke-linecap:round; stroke-linejoin:round; stroke-width:4; stroke-opacity:1; fill:none\" points=\"\n  585.142,1410.9 585.142,1392 \n  \"/>\n<polyline clip-path=\"url(#clip210)\" style=\"stroke:#000000; stroke-linecap:round; stroke-linejoin:round; stroke-width:4; stroke-opacity:1; fill:none\" points=\"\n  940.728,1410.9 940.728,1392 \n  \"/>\n<polyline clip-path=\"url(#clip210)\" style=\"stroke:#000000; stroke-linecap:round; stroke-linejoin:round; stroke-width:4; stroke-opacity:1; fill:none\" points=\"\n  1296.31,1410.9 1296.31,1392 \n  \"/>\n<polyline clip-path=\"url(#clip210)\" style=\"stroke:#000000; stroke-linecap:round; stroke-linejoin:round; stroke-width:4; stroke-opacity:1; fill:none\" points=\"\n  1651.9,1410.9 1651.9,1392 \n  \"/>\n<polyline clip-path=\"url(#clip210)\" style=\"stroke:#000000; stroke-linecap:round; stroke-linejoin:round; stroke-width:4; stroke-opacity:1; fill:none\" points=\"\n  2007.48,1410.9 2007.48,1392 \n  \"/>\n<path clip-path=\"url(#clip210)\" d=\"M229.557 1441.82 Q225.946 1441.82 224.118 1445.38 Q222.312 1448.92 222.312 1456.05 Q222.312 1463.16 224.118 1466.72 Q225.946 1470.26 229.557 1470.26 Q233.192 1470.26 234.997 1466.72 Q236.826 1463.16 236.826 1456.05 Q236.826 1448.92 234.997 1445.38 Q233.192 1441.82 229.557 1441.82 M229.557 1438.11 Q235.367 1438.11 238.423 1442.72 Q241.502 1447.3 241.502 1456.05 Q241.502 1464.78 238.423 1469.38 Q235.367 1473.97 229.557 1473.97 Q223.747 1473.97 220.668 1469.38 Q217.613 1464.78 217.613 1456.05 Q217.613 1447.3 220.668 1442.72 Q223.747 1438.11 229.557 1438.11 Z\" fill=\"#000000\" fill-rule=\"evenodd\" fill-opacity=\"1\" /><path clip-path=\"url(#clip210)\" d=\"M492.577 1485.02 L500.216 1485.02 L500.216 1458.66 L491.906 1460.32 L491.906 1456.06 L500.17 1454.4 L504.846 1454.4 L504.846 1485.02 L512.484 1485.02 L512.484 1488.96 L492.577 1488.96 L492.577 1485.02 Z\" fill=\"#000000\" fill-rule=\"evenodd\" fill-opacity=\"1\" /><path clip-path=\"url(#clip210)\" d=\"M521.929 1483.08 L526.813 1483.08 L526.813 1488.96 L521.929 1488.96 L521.929 1483.08 Z\" fill=\"#000000\" fill-rule=\"evenodd\" fill-opacity=\"1\" /><path clip-path=\"url(#clip210)\" d=\"M546.998 1457.48 Q543.387 1457.48 541.558 1461.04 Q539.753 1464.58 539.753 1471.71 Q539.753 1478.82 541.558 1482.38 Q543.387 1485.92 546.998 1485.92 Q550.632 1485.92 552.438 1482.38 Q554.267 1478.82 554.267 1471.71 Q554.267 1464.58 552.438 1461.04 Q550.632 1457.48 546.998 1457.48 M546.998 1453.77 Q552.808 1453.77 555.864 1458.38 Q558.942 1462.96 558.942 1471.71 Q558.942 1480.44 555.864 1485.04 Q552.808 1489.63 546.998 1489.63 Q541.188 1489.63 538.109 1485.04 Q535.054 1480.44 535.054 1471.71 Q535.054 1462.96 538.109 1458.38 Q541.188 1453.77 546.998 1453.77 Z\" fill=\"#000000\" fill-rule=\"evenodd\" fill-opacity=\"1\" /><path clip-path=\"url(#clip210)\" d=\"M595.331 1463.49 L584.753 1474.12 L595.331 1484.7 L592.577 1487.5 L581.952 1476.87 L571.327 1487.5 L568.595 1484.7 L579.151 1474.12 L568.595 1463.49 L571.327 1460.69 L581.952 1471.32 L592.577 1460.69 L595.331 1463.49 Z\" fill=\"#000000\" fill-rule=\"evenodd\" fill-opacity=\"1\" /><path clip-path=\"url(#clip210)\" d=\"M607.692 1485.02 L615.331 1485.02 L615.331 1458.66 L607.021 1460.32 L607.021 1456.06 L615.285 1454.4 L619.961 1454.4 L619.961 1485.02 L627.6 1485.02 L627.6 1488.96 L607.692 1488.96 L607.692 1485.02 Z\" fill=\"#000000\" fill-rule=\"evenodd\" fill-opacity=\"1\" /><path clip-path=\"url(#clip210)\" d=\"M647.044 1457.48 Q643.433 1457.48 641.604 1461.04 Q639.799 1464.58 639.799 1471.71 Q639.799 1478.82 641.604 1482.38 Q643.433 1485.92 647.044 1485.92 Q650.678 1485.92 652.484 1482.38 Q654.312 1478.82 654.312 1471.71 Q654.312 1464.58 652.484 1461.04 Q650.678 1457.48 647.044 1457.48 M647.044 1453.77 Q652.854 1453.77 655.91 1458.38 Q658.988 1462.96 658.988 1471.71 Q658.988 1480.44 655.91 1485.04 Q652.854 1489.63 647.044 1489.63 Q641.234 1489.63 638.155 1485.04 Q635.099 1480.44 635.099 1471.71 Q635.099 1462.96 638.155 1458.38 Q641.234 1453.77 647.044 1453.77 Z\" fill=\"#000000\" fill-rule=\"evenodd\" fill-opacity=\"1\" /><path clip-path=\"url(#clip210)\" d=\"M669.013 1445.99 Q666.455 1445.99 664.95 1447.74 Q663.464 1449.49 663.464 1452.54 Q663.464 1455.57 664.95 1457.33 Q666.455 1459.08 669.013 1459.08 Q671.571 1459.08 673.056 1457.33 Q674.561 1455.57 674.561 1452.54 Q674.561 1449.49 673.056 1447.74 Q671.571 1445.99 669.013 1445.99 M676.555 1434.09 L676.555 1437.55 Q675.125 1436.87 673.658 1436.51 Q672.21 1436.16 670.781 1436.16 Q667.019 1436.16 665.026 1438.69 Q663.051 1441.23 662.769 1446.37 Q663.878 1444.73 665.552 1443.87 Q667.226 1442.98 669.238 1442.98 Q673.47 1442.98 675.915 1445.56 Q678.379 1448.12 678.379 1452.54 Q678.379 1456.86 675.821 1459.48 Q673.263 1462.09 669.013 1462.09 Q664.142 1462.09 661.565 1458.37 Q658.988 1454.62 658.988 1447.53 Q658.988 1440.88 662.148 1436.93 Q665.308 1432.96 670.63 1432.96 Q672.06 1432.96 673.508 1433.24 Q674.975 1433.52 676.555 1434.09 Z\" fill=\"#000000\" fill-rule=\"evenodd\" fill-opacity=\"1\" /><path clip-path=\"url(#clip210)\" d=\"M852.248 1485.02 L868.567 1485.02 L868.567 1488.96 L846.623 1488.96 L846.623 1485.02 Q849.285 1482.27 853.868 1477.64 Q858.475 1472.98 859.655 1471.64 Q861.901 1469.12 862.78 1467.38 Q863.683 1465.62 863.683 1463.93 Q863.683 1461.18 861.738 1459.44 Q859.817 1457.71 856.715 1457.71 Q854.516 1457.71 852.063 1458.47 Q849.632 1459.23 846.854 1460.79 L846.854 1456.06 Q849.678 1454.93 852.132 1454.35 Q854.586 1453.77 856.623 1453.77 Q861.993 1453.77 865.188 1456.46 Q868.382 1459.14 868.382 1463.63 Q868.382 1465.76 867.572 1467.68 Q866.785 1469.58 864.678 1472.17 Q864.1 1472.85 860.998 1476.06 Q857.896 1479.26 852.248 1485.02 Z\" fill=\"#000000\" fill-rule=\"evenodd\" fill-opacity=\"1\" /><path clip-path=\"url(#clip210)\" d=\"M878.382 1483.08 L883.266 1483.08 L883.266 1488.96 L878.382 1488.96 L878.382 1483.08 Z\" fill=\"#000000\" fill-rule=\"evenodd\" fill-opacity=\"1\" /><path clip-path=\"url(#clip210)\" d=\"M903.451 1457.48 Q899.84 1457.48 898.011 1461.04 Q896.206 1464.58 896.206 1471.71 Q896.206 1478.82 898.011 1482.38 Q899.84 1485.92 903.451 1485.92 Q907.085 1485.92 908.891 1482.38 Q910.72 1478.82 910.72 1471.71 Q910.72 1464.58 908.891 1461.04 Q907.085 1457.48 903.451 1457.48 M903.451 1453.77 Q909.261 1453.77 912.317 1458.38 Q915.396 1462.96 915.396 1471.71 Q915.396 1480.44 912.317 1485.04 Q909.261 1489.63 903.451 1489.63 Q897.641 1489.63 894.562 1485.04 Q891.507 1480.44 891.507 1471.71 Q891.507 1462.96 894.562 1458.38 Q897.641 1453.77 903.451 1453.77 Z\" fill=\"#000000\" fill-rule=\"evenodd\" fill-opacity=\"1\" /><path clip-path=\"url(#clip210)\" d=\"M951.784 1463.49 L941.206 1474.12 L951.784 1484.7 L949.03 1487.5 L938.405 1476.87 L927.78 1487.5 L925.048 1484.7 L935.604 1474.12 L925.048 1463.49 L927.78 1460.69 L938.405 1471.32 L949.03 1460.69 L951.784 1463.49 Z\" fill=\"#000000\" fill-rule=\"evenodd\" fill-opacity=\"1\" /><path clip-path=\"url(#clip210)\" d=\"M964.145 1485.02 L971.784 1485.02 L971.784 1458.66 L963.474 1460.32 L963.474 1456.06 L971.738 1454.4 L976.414 1454.4 L976.414 1485.02 L984.053 1485.02 L984.053 1488.96 L964.145 1488.96 L964.145 1485.02 Z\" fill=\"#000000\" fill-rule=\"evenodd\" fill-opacity=\"1\" /><path clip-path=\"url(#clip210)\" d=\"M1003.5 1457.48 Q999.886 1457.48 998.057 1461.04 Q996.252 1464.58 996.252 1471.71 Q996.252 1478.82 998.057 1482.38 Q999.886 1485.92 1003.5 1485.92 Q1007.13 1485.92 1008.94 1482.38 Q1010.77 1478.82 1010.77 1471.71 Q1010.77 1464.58 1008.94 1461.04 Q1007.13 1457.48 1003.5 1457.48 M1003.5 1453.77 Q1009.31 1453.77 1012.36 1458.38 Q1015.44 1462.96 1015.44 1471.71 Q1015.44 1480.44 1012.36 1485.04 Q1009.31 1489.63 1003.5 1489.63 Q997.687 1489.63 994.608 1485.04 Q991.553 1480.44 991.553 1471.71 Q991.553 1462.96 994.608 1458.38 Q997.687 1453.77 1003.5 1453.77 Z\" fill=\"#000000\" fill-rule=\"evenodd\" fill-opacity=\"1\" /><path clip-path=\"url(#clip210)\" d=\"M1025.47 1445.99 Q1022.91 1445.99 1021.4 1447.74 Q1019.92 1449.49 1019.92 1452.54 Q1019.92 1455.57 1021.4 1457.33 Q1022.91 1459.08 1025.47 1459.08 Q1028.02 1459.08 1029.51 1457.33 Q1031.01 1455.57 1031.01 1452.54 Q1031.01 1449.49 1029.51 1447.74 Q1028.02 1445.99 1025.47 1445.99 M1033.01 1434.09 L1033.01 1437.55 Q1031.58 1436.87 1030.11 1436.51 Q1028.66 1436.16 1027.23 1436.16 Q1023.47 1436.16 1021.48 1438.69 Q1019.5 1441.23 1019.22 1446.37 Q1020.33 1444.73 1022.01 1443.87 Q1023.68 1442.98 1025.69 1442.98 Q1029.92 1442.98 1032.37 1445.56 Q1034.83 1448.12 1034.83 1452.54 Q1034.83 1456.86 1032.27 1459.48 Q1029.72 1462.09 1025.47 1462.09 Q1020.59 1462.09 1018.02 1458.37 Q1015.44 1454.62 1015.44 1447.53 Q1015.44 1440.88 1018.6 1436.93 Q1021.76 1432.96 1027.08 1432.96 Q1028.51 1432.96 1029.96 1433.24 Q1031.43 1433.52 1033.01 1434.09 Z\" fill=\"#000000\" fill-rule=\"evenodd\" fill-opacity=\"1\" /><path clip-path=\"url(#clip210)\" d=\"M1217.9 1470.32 Q1221.26 1471.04 1223.13 1473.31 Q1225.03 1475.58 1225.03 1478.91 Q1225.03 1484.03 1221.51 1486.83 Q1217.99 1489.63 1211.51 1489.63 Q1209.34 1489.63 1207.02 1489.19 Q1204.73 1488.77 1202.28 1487.91 L1202.28 1483.4 Q1204.22 1484.54 1206.54 1485.11 Q1208.85 1485.69 1211.37 1485.69 Q1215.77 1485.69 1218.06 1483.96 Q1220.38 1482.22 1220.38 1478.91 Q1220.38 1475.85 1218.23 1474.14 Q1216.1 1472.41 1212.28 1472.41 L1208.25 1472.41 L1208.25 1468.56 L1212.46 1468.56 Q1215.91 1468.56 1217.74 1467.2 Q1219.57 1465.81 1219.57 1463.22 Q1219.57 1460.55 1217.67 1459.14 Q1215.8 1457.71 1212.28 1457.71 Q1210.36 1457.71 1208.16 1458.12 Q1205.96 1458.54 1203.32 1459.42 L1203.32 1455.25 Q1205.98 1454.51 1208.3 1454.14 Q1210.63 1453.77 1212.69 1453.77 Q1218.02 1453.77 1221.12 1456.2 Q1224.22 1458.61 1224.22 1462.73 Q1224.22 1465.6 1222.58 1467.59 Q1220.93 1469.56 1217.9 1470.32 Z\" fill=\"#000000\" fill-rule=\"evenodd\" fill-opacity=\"1\" /><path clip-path=\"url(#clip210)\" d=\"M1233.9 1483.08 L1238.78 1483.08 L1238.78 1488.96 L1233.9 1488.96 L1233.9 1483.08 Z\" fill=\"#000000\" fill-rule=\"evenodd\" fill-opacity=\"1\" /><path clip-path=\"url(#clip210)\" d=\"M1258.97 1457.48 Q1255.36 1457.48 1253.53 1461.04 Q1251.72 1464.58 1251.72 1471.71 Q1251.72 1478.82 1253.53 1482.38 Q1255.36 1485.92 1258.97 1485.92 Q1262.6 1485.92 1264.41 1482.38 Q1266.24 1478.82 1266.24 1471.71 Q1266.24 1464.58 1264.41 1461.04 Q1262.6 1457.48 1258.97 1457.48 M1258.97 1453.77 Q1264.78 1453.77 1267.83 1458.38 Q1270.91 1462.96 1270.91 1471.71 Q1270.91 1480.44 1267.83 1485.04 Q1264.78 1489.63 1258.97 1489.63 Q1253.16 1489.63 1250.08 1485.04 Q1247.02 1480.44 1247.02 1471.71 Q1247.02 1462.96 1250.08 1458.38 Q1253.16 1453.77 1258.97 1453.77 Z\" fill=\"#000000\" fill-rule=\"evenodd\" fill-opacity=\"1\" /><path clip-path=\"url(#clip210)\" d=\"M1307.3 1463.49 L1296.72 1474.12 L1307.3 1484.7 L1304.55 1487.5 L1293.92 1476.87 L1283.3 1487.5 L1280.56 1484.7 L1291.12 1474.12 L1280.56 1463.49 L1283.3 1460.69 L1293.92 1471.32 L1304.55 1460.69 L1307.3 1463.49 Z\" fill=\"#000000\" fill-rule=\"evenodd\" fill-opacity=\"1\" /><path clip-path=\"url(#clip210)\" d=\"M1319.66 1485.02 L1327.3 1485.02 L1327.3 1458.66 L1318.99 1460.32 L1318.99 1456.06 L1327.25 1454.4 L1331.93 1454.4 L1331.93 1485.02 L1339.57 1485.02 L1339.57 1488.96 L1319.66 1488.96 L1319.66 1485.02 Z\" fill=\"#000000\" fill-rule=\"evenodd\" fill-opacity=\"1\" /><path clip-path=\"url(#clip210)\" d=\"M1359.01 1457.48 Q1355.4 1457.48 1353.57 1461.04 Q1351.77 1464.58 1351.77 1471.71 Q1351.77 1478.82 1353.57 1482.38 Q1355.4 1485.92 1359.01 1485.92 Q1362.65 1485.92 1364.45 1482.38 Q1366.28 1478.82 1366.28 1471.71 Q1366.28 1464.58 1364.45 1461.04 Q1362.65 1457.48 1359.01 1457.48 M1359.01 1453.77 Q1364.82 1453.77 1367.88 1458.38 Q1370.96 1462.96 1370.96 1471.71 Q1370.96 1480.44 1367.88 1485.04 Q1364.82 1489.63 1359.01 1489.63 Q1353.2 1489.63 1350.12 1485.04 Q1347.07 1480.44 1347.07 1471.71 Q1347.07 1462.96 1350.12 1458.38 Q1353.2 1453.77 1359.01 1453.77 Z\" fill=\"#000000\" fill-rule=\"evenodd\" fill-opacity=\"1\" /><path clip-path=\"url(#clip210)\" d=\"M1380.98 1445.99 Q1378.42 1445.99 1376.92 1447.74 Q1375.43 1449.49 1375.43 1452.54 Q1375.43 1455.57 1376.92 1457.33 Q1378.42 1459.08 1380.98 1459.08 Q1383.54 1459.08 1385.03 1457.33 Q1386.53 1455.57 1386.53 1452.54 Q1386.53 1449.49 1385.03 1447.74 Q1383.54 1445.99 1380.98 1445.99 M1388.52 1434.09 L1388.52 1437.55 Q1387.09 1436.87 1385.63 1436.51 Q1384.18 1436.16 1382.75 1436.16 Q1378.99 1436.16 1376.99 1438.69 Q1375.02 1441.23 1374.74 1446.37 Q1375.85 1444.73 1377.52 1443.87 Q1379.19 1442.98 1381.21 1442.98 Q1385.44 1442.98 1387.88 1445.56 Q1390.35 1448.12 1390.35 1452.54 Q1390.35 1456.86 1387.79 1459.48 Q1385.23 1462.09 1380.98 1462.09 Q1376.11 1462.09 1373.53 1458.37 Q1370.96 1454.62 1370.96 1447.53 Q1370.96 1440.88 1374.12 1436.93 Q1377.28 1432.96 1382.6 1432.96 Q1384.03 1432.96 1385.48 1433.24 Q1386.94 1433.52 1388.52 1434.09 Z\" fill=\"#000000\" fill-rule=\"evenodd\" fill-opacity=\"1\" /><path clip-path=\"url(#clip210)\" d=\"M1572.82 1458.47 L1561.01 1476.92 L1572.82 1476.92 L1572.82 1458.47 M1571.59 1454.4 L1577.47 1454.4 L1577.47 1476.92 L1582.4 1476.92 L1582.4 1480.81 L1577.47 1480.81 L1577.47 1488.96 L1572.82 1488.96 L1572.82 1480.81 L1557.21 1480.81 L1557.21 1476.29 L1571.59 1454.4 Z\" fill=\"#000000\" fill-rule=\"evenodd\" fill-opacity=\"1\" /><path clip-path=\"url(#clip210)\" d=\"M1590.13 1483.08 L1595.02 1483.08 L1595.02 1488.96 L1590.13 1488.96 L1590.13 1483.08 Z\" fill=\"#000000\" fill-rule=\"evenodd\" fill-opacity=\"1\" /><path clip-path=\"url(#clip210)\" d=\"M1615.2 1457.48 Q1611.59 1457.48 1609.76 1461.04 Q1607.95 1464.58 1607.95 1471.71 Q1607.95 1478.82 1609.76 1482.38 Q1611.59 1485.92 1615.2 1485.92 Q1618.83 1485.92 1620.64 1482.38 Q1622.47 1478.82 1622.47 1471.71 Q1622.47 1464.58 1620.64 1461.04 Q1618.83 1457.48 1615.2 1457.48 M1615.2 1453.77 Q1621.01 1453.77 1624.07 1458.38 Q1627.14 1462.96 1627.14 1471.71 Q1627.14 1480.44 1624.07 1485.04 Q1621.01 1489.63 1615.2 1489.63 Q1609.39 1489.63 1606.31 1485.04 Q1603.26 1480.44 1603.26 1471.71 Q1603.26 1462.96 1606.31 1458.38 Q1609.39 1453.77 1615.2 1453.77 Z\" fill=\"#000000\" fill-rule=\"evenodd\" fill-opacity=\"1\" /><path clip-path=\"url(#clip210)\" d=\"M1663.53 1463.49 L1652.95 1474.12 L1663.53 1484.7 L1660.78 1487.5 L1650.15 1476.87 L1639.53 1487.5 L1636.8 1484.7 L1647.35 1474.12 L1636.8 1463.49 L1639.53 1460.69 L1650.15 1471.32 L1660.78 1460.69 L1663.53 1463.49 Z\" fill=\"#000000\" fill-rule=\"evenodd\" fill-opacity=\"1\" /><path clip-path=\"url(#clip210)\" d=\"M1675.89 1485.02 L1683.53 1485.02 L1683.53 1458.66 L1675.22 1460.32 L1675.22 1456.06 L1683.49 1454.4 L1688.16 1454.4 L1688.16 1485.02 L1695.8 1485.02 L1695.8 1488.96 L1675.89 1488.96 L1675.89 1485.02 Z\" fill=\"#000000\" fill-rule=\"evenodd\" fill-opacity=\"1\" /><path clip-path=\"url(#clip210)\" d=\"M1715.25 1457.48 Q1711.63 1457.48 1709.81 1461.04 Q1708 1464.58 1708 1471.71 Q1708 1478.82 1709.81 1482.38 Q1711.63 1485.92 1715.25 1485.92 Q1718.88 1485.92 1720.69 1482.38 Q1722.51 1478.82 1722.51 1471.71 Q1722.51 1464.58 1720.69 1461.04 Q1718.88 1457.48 1715.25 1457.48 M1715.25 1453.77 Q1721.06 1453.77 1724.11 1458.38 Q1727.19 1462.96 1727.19 1471.71 Q1727.19 1480.44 1724.11 1485.04 Q1721.06 1489.63 1715.25 1489.63 Q1709.44 1489.63 1706.36 1485.04 Q1703.3 1480.44 1703.3 1471.71 Q1703.3 1462.96 1706.36 1458.38 Q1709.44 1453.77 1715.25 1453.77 Z\" fill=\"#000000\" fill-rule=\"evenodd\" fill-opacity=\"1\" /><path clip-path=\"url(#clip210)\" d=\"M1737.21 1445.99 Q1734.66 1445.99 1733.15 1447.74 Q1731.67 1449.49 1731.67 1452.54 Q1731.67 1455.57 1733.15 1457.33 Q1734.66 1459.08 1737.21 1459.08 Q1739.77 1459.08 1741.26 1457.33 Q1742.76 1455.57 1742.76 1452.54 Q1742.76 1449.49 1741.26 1447.74 Q1739.77 1445.99 1737.21 1445.99 M1744.76 1434.09 L1744.76 1437.55 Q1743.33 1436.87 1741.86 1436.51 Q1740.41 1436.16 1738.98 1436.16 Q1735.22 1436.16 1733.23 1438.69 Q1731.25 1441.23 1730.97 1446.37 Q1732.08 1444.73 1733.75 1443.87 Q1735.43 1442.98 1737.44 1442.98 Q1741.67 1442.98 1744.12 1445.56 Q1746.58 1448.12 1746.58 1452.54 Q1746.58 1456.86 1744.02 1459.48 Q1741.47 1462.09 1737.21 1462.09 Q1732.34 1462.09 1729.77 1458.37 Q1727.19 1454.62 1727.19 1447.53 Q1727.19 1440.88 1730.35 1436.93 Q1733.51 1432.96 1738.83 1432.96 Q1740.26 1432.96 1741.71 1433.24 Q1743.18 1433.52 1744.76 1434.09 Z\" fill=\"#000000\" fill-rule=\"evenodd\" fill-opacity=\"1\" /><path clip-path=\"url(#clip210)\" d=\"M1914.93 1454.4 L1933.29 1454.4 L1933.29 1458.33 L1919.21 1458.33 L1919.21 1466.8 Q1920.23 1466.46 1921.25 1466.29 Q1922.27 1466.11 1923.29 1466.11 Q1929.07 1466.11 1932.45 1469.28 Q1935.83 1472.45 1935.83 1477.87 Q1935.83 1483.45 1932.36 1486.55 Q1928.89 1489.63 1922.57 1489.63 Q1920.39 1489.63 1918.12 1489.26 Q1915.88 1488.89 1913.47 1488.15 L1913.47 1483.45 Q1915.55 1484.58 1917.78 1485.14 Q1920 1485.69 1922.48 1485.69 Q1926.48 1485.69 1928.82 1483.59 Q1931.16 1481.48 1931.16 1477.87 Q1931.16 1474.26 1928.82 1472.15 Q1926.48 1470.04 1922.48 1470.04 Q1920.6 1470.04 1918.73 1470.46 Q1916.87 1470.88 1914.93 1471.76 L1914.93 1454.4 Z\" fill=\"#000000\" fill-rule=\"evenodd\" fill-opacity=\"1\" /><path clip-path=\"url(#clip210)\" d=\"M1945.04 1483.08 L1949.93 1483.08 L1949.93 1488.96 L1945.04 1488.96 L1945.04 1483.08 Z\" fill=\"#000000\" fill-rule=\"evenodd\" fill-opacity=\"1\" /><path clip-path=\"url(#clip210)\" d=\"M1970.11 1457.48 Q1966.5 1457.48 1964.67 1461.04 Q1962.87 1464.58 1962.87 1471.71 Q1962.87 1478.82 1964.67 1482.38 Q1966.5 1485.92 1970.11 1485.92 Q1973.75 1485.92 1975.55 1482.38 Q1977.38 1478.82 1977.38 1471.71 Q1977.38 1464.58 1975.55 1461.04 Q1973.75 1457.48 1970.11 1457.48 M1970.11 1453.77 Q1975.92 1453.77 1978.98 1458.38 Q1982.06 1462.96 1982.06 1471.71 Q1982.06 1480.44 1978.98 1485.04 Q1975.92 1489.63 1970.11 1489.63 Q1964.3 1489.63 1961.23 1485.04 Q1958.17 1480.44 1958.17 1471.71 Q1958.17 1462.96 1961.23 1458.38 Q1964.3 1453.77 1970.11 1453.77 Z\" fill=\"#000000\" fill-rule=\"evenodd\" fill-opacity=\"1\" /><path clip-path=\"url(#clip210)\" d=\"M2018.45 1463.49 L2007.87 1474.12 L2018.45 1484.7 L2015.69 1487.5 L2005.07 1476.87 L1994.44 1487.5 L1991.71 1484.7 L2002.27 1474.12 L1991.71 1463.49 L1994.44 1460.69 L2005.07 1471.32 L2015.69 1460.69 L2018.45 1463.49 Z\" fill=\"#000000\" fill-rule=\"evenodd\" fill-opacity=\"1\" /><path clip-path=\"url(#clip210)\" d=\"M2030.81 1485.02 L2038.45 1485.02 L2038.45 1458.66 L2030.14 1460.32 L2030.14 1456.06 L2038.4 1454.4 L2043.08 1454.4 L2043.08 1485.02 L2050.72 1485.02 L2050.72 1488.96 L2030.81 1488.96 L2030.81 1485.02 Z\" fill=\"#000000\" fill-rule=\"evenodd\" fill-opacity=\"1\" /><path clip-path=\"url(#clip210)\" d=\"M2070.16 1457.48 Q2066.55 1457.48 2064.72 1461.04 Q2062.91 1464.58 2062.91 1471.71 Q2062.91 1478.82 2064.72 1482.38 Q2066.55 1485.92 2070.16 1485.92 Q2073.79 1485.92 2075.6 1482.38 Q2077.43 1478.82 2077.43 1471.71 Q2077.43 1464.58 2075.6 1461.04 Q2073.79 1457.48 2070.16 1457.48 M2070.16 1453.77 Q2075.97 1453.77 2079.03 1458.38 Q2082.1 1462.96 2082.1 1471.71 Q2082.1 1480.44 2079.03 1485.04 Q2075.97 1489.63 2070.16 1489.63 Q2064.35 1489.63 2061.27 1485.04 Q2058.22 1480.44 2058.22 1471.71 Q2058.22 1462.96 2061.27 1458.38 Q2064.35 1453.77 2070.16 1453.77 Z\" fill=\"#000000\" fill-rule=\"evenodd\" fill-opacity=\"1\" /><path clip-path=\"url(#clip210)\" d=\"M2092.13 1445.99 Q2089.57 1445.99 2088.07 1447.74 Q2086.58 1449.49 2086.58 1452.54 Q2086.58 1455.57 2088.07 1457.33 Q2089.57 1459.08 2092.13 1459.08 Q2094.69 1459.08 2096.17 1457.33 Q2097.68 1455.57 2097.68 1452.54 Q2097.68 1449.49 2096.17 1447.74 Q2094.69 1445.99 2092.13 1445.99 M2099.67 1434.09 L2099.67 1437.55 Q2098.24 1436.87 2096.77 1436.51 Q2095.33 1436.16 2093.9 1436.16 Q2090.13 1436.16 2088.14 1438.69 Q2086.17 1441.23 2085.88 1446.37 Q2086.99 1444.73 2088.67 1443.87 Q2090.34 1442.98 2092.35 1442.98 Q2096.59 1442.98 2099.03 1445.56 Q2101.49 1448.12 2101.49 1452.54 Q2101.49 1456.86 2098.94 1459.48 Q2096.38 1462.09 2092.13 1462.09 Q2087.26 1462.09 2084.68 1458.37 Q2082.1 1454.62 2082.1 1447.53 Q2082.1 1440.88 2085.26 1436.93 Q2088.42 1432.96 2093.75 1432.96 Q2095.18 1432.96 2096.62 1433.24 Q2098.09 1433.52 2099.67 1434.09 Z\" fill=\"#000000\" fill-rule=\"evenodd\" fill-opacity=\"1\" /><path clip-path=\"url(#clip210)\" d=\"M1128.1 1526.67 L1134.53 1526.67 L1134.53 1574.19 L1128.1 1574.19 L1128.1 1526.67 Z\" fill=\"#000000\" fill-rule=\"evenodd\" fill-opacity=\"1\" /><path clip-path=\"url(#clip210)\" d=\"M1152.86 1528.42 L1152.86 1538.54 L1164.92 1538.54 L1164.92 1543.09 L1152.86 1543.09 L1152.86 1562.44 Q1152.86 1566.8 1154.04 1568.04 Q1155.25 1569.28 1158.91 1569.28 L1164.92 1569.28 L1164.92 1574.19 L1158.91 1574.19 Q1152.13 1574.19 1149.55 1571.67 Q1146.97 1569.12 1146.97 1562.44 L1146.97 1543.09 L1142.67 1543.09 L1142.67 1538.54 L1146.97 1538.54 L1146.97 1528.42 L1152.86 1528.42 Z\" fill=\"#000000\" fill-rule=\"evenodd\" fill-opacity=\"1\" /><path clip-path=\"url(#clip210)\" d=\"M1203.12 1554.9 L1203.12 1557.76 L1176.19 1557.76 Q1176.57 1563.81 1179.82 1566.99 Q1183.1 1570.14 1188.92 1570.14 Q1192.29 1570.14 1195.44 1569.32 Q1198.63 1568.49 1201.75 1566.83 L1201.75 1572.37 Q1198.6 1573.71 1195.29 1574.41 Q1191.98 1575.11 1188.57 1575.11 Q1180.04 1575.11 1175.04 1570.14 Q1170.08 1565.18 1170.08 1556.71 Q1170.08 1547.96 1174.79 1542.83 Q1179.53 1537.68 1187.55 1537.68 Q1194.74 1537.68 1198.91 1542.33 Q1203.12 1546.94 1203.12 1554.9 M1197.26 1553.18 Q1197.2 1548.37 1194.55 1545.51 Q1191.94 1542.64 1187.62 1542.64 Q1182.71 1542.64 1179.75 1545.41 Q1176.83 1548.18 1176.38 1553.21 L1197.26 1553.18 Z\" fill=\"#000000\" fill-rule=\"evenodd\" fill-opacity=\"1\" /><path clip-path=\"url(#clip210)\" d=\"M1233.38 1544.01 Q1232.4 1543.44 1231.22 1543.18 Q1230.07 1542.9 1228.67 1542.9 Q1223.71 1542.9 1221.04 1546.14 Q1218.39 1549.36 1218.39 1555.41 L1218.39 1574.19 L1212.51 1574.19 L1212.51 1538.54 L1218.39 1538.54 L1218.39 1544.08 Q1220.24 1540.83 1223.2 1539.27 Q1226.16 1537.68 1230.39 1537.68 Q1231 1537.68 1231.73 1537.77 Q1232.46 1537.84 1233.35 1538 L1233.38 1544.01 Z\" fill=\"#000000\" fill-rule=\"evenodd\" fill-opacity=\"1\" /><path clip-path=\"url(#clip210)\" d=\"M1255.73 1556.27 Q1248.63 1556.27 1245.89 1557.89 Q1243.16 1559.51 1243.16 1563.43 Q1243.16 1566.55 1245.19 1568.39 Q1247.26 1570.21 1250.79 1570.21 Q1255.66 1570.21 1258.59 1566.77 Q1261.55 1563.3 1261.55 1557.57 L1261.55 1556.27 L1255.73 1556.27 M1267.41 1553.85 L1267.41 1574.19 L1261.55 1574.19 L1261.55 1568.77 Q1259.55 1572.02 1256.56 1573.58 Q1253.56 1575.11 1249.24 1575.11 Q1243.76 1575.11 1240.51 1572.05 Q1237.3 1568.97 1237.3 1563.81 Q1237.3 1557.79 1241.31 1554.74 Q1245.35 1551.68 1253.34 1551.68 L1261.55 1551.68 L1261.55 1551.11 Q1261.55 1547.07 1258.88 1544.87 Q1256.24 1542.64 1251.43 1542.64 Q1248.38 1542.64 1245.48 1543.38 Q1242.58 1544.11 1239.91 1545.57 L1239.91 1540.16 Q1243.12 1538.92 1246.15 1538.31 Q1249.17 1537.68 1252.04 1537.68 Q1259.77 1537.68 1263.59 1541.69 Q1267.41 1545.7 1267.41 1553.85 Z\" fill=\"#000000\" fill-rule=\"evenodd\" fill-opacity=\"1\" /><path clip-path=\"url(#clip210)\" d=\"M1285.27 1528.42 L1285.27 1538.54 L1297.33 1538.54 L1297.33 1543.09 L1285.27 1543.09 L1285.27 1562.44 Q1285.27 1566.8 1286.44 1568.04 Q1287.65 1569.28 1291.31 1569.28 L1297.33 1569.28 L1297.33 1574.19 L1291.31 1574.19 Q1284.53 1574.19 1281.95 1571.67 Q1279.38 1569.12 1279.38 1562.44 L1279.38 1543.09 L1275.08 1543.09 L1275.08 1538.54 L1279.38 1538.54 L1279.38 1528.42 L1285.27 1528.42 Z\" fill=\"#000000\" fill-rule=\"evenodd\" fill-opacity=\"1\" /><path clip-path=\"url(#clip210)\" d=\"M1305.03 1538.54 L1310.89 1538.54 L1310.89 1574.19 L1305.03 1574.19 L1305.03 1538.54 M1305.03 1524.66 L1310.89 1524.66 L1310.89 1532.08 L1305.03 1532.08 L1305.03 1524.66 Z\" fill=\"#000000\" fill-rule=\"evenodd\" fill-opacity=\"1\" /><path clip-path=\"url(#clip210)\" d=\"M1336.95 1542.64 Q1332.24 1542.64 1329.51 1546.34 Q1326.77 1550 1326.77 1556.39 Q1326.77 1562.79 1329.47 1566.48 Q1332.21 1570.14 1336.95 1570.14 Q1341.63 1570.14 1344.37 1566.45 Q1347.11 1562.76 1347.11 1556.39 Q1347.11 1550.06 1344.37 1546.37 Q1341.63 1542.64 1336.95 1542.64 M1336.95 1537.68 Q1344.59 1537.68 1348.95 1542.64 Q1353.31 1547.61 1353.31 1556.39 Q1353.31 1565.15 1348.95 1570.14 Q1344.59 1575.11 1336.95 1575.11 Q1329.28 1575.11 1324.92 1570.14 Q1320.59 1565.15 1320.59 1556.39 Q1320.59 1547.61 1324.92 1542.64 Q1329.28 1537.68 1336.95 1537.68 Z\" fill=\"#000000\" fill-rule=\"evenodd\" fill-opacity=\"1\" /><path clip-path=\"url(#clip210)\" d=\"M1392.65 1552.67 L1392.65 1574.19 L1386.8 1574.19 L1386.8 1552.86 Q1386.8 1547.8 1384.82 1545.29 Q1382.85 1542.77 1378.9 1542.77 Q1374.16 1542.77 1371.42 1545.79 Q1368.69 1548.82 1368.69 1554.04 L1368.69 1574.19 L1362.8 1574.19 L1362.8 1538.54 L1368.69 1538.54 L1368.69 1544.08 Q1370.79 1540.86 1373.62 1539.27 Q1376.49 1537.68 1380.21 1537.68 Q1386.35 1537.68 1389.5 1541.5 Q1392.65 1545.29 1392.65 1552.67 Z\" fill=\"#000000\" fill-rule=\"evenodd\" fill-opacity=\"1\" /><path clip-path=\"url(#clip210)\" d=\"M1427.06 1539.59 L1427.06 1545.13 Q1424.58 1543.85 1421.9 1543.22 Q1419.23 1542.58 1416.37 1542.58 Q1412.01 1542.58 1409.81 1543.92 Q1407.65 1545.25 1407.65 1547.93 Q1407.65 1549.96 1409.21 1551.14 Q1410.76 1552.29 1415.48 1553.34 L1417.48 1553.78 Q1423.72 1555.12 1426.33 1557.57 Q1428.97 1559.99 1428.97 1564.35 Q1428.97 1569.32 1425.02 1572.21 Q1421.11 1575.11 1414.23 1575.11 Q1411.37 1575.11 1408.25 1574.54 Q1405.16 1573.99 1401.73 1572.88 L1401.73 1566.83 Q1404.97 1568.52 1408.12 1569.38 Q1411.27 1570.21 1414.36 1570.21 Q1418.5 1570.21 1420.73 1568.81 Q1422.96 1567.37 1422.96 1564.8 Q1422.96 1562.41 1421.33 1561.14 Q1419.74 1559.86 1414.3 1558.68 L1412.26 1558.21 Q1406.82 1557.06 1404.4 1554.71 Q1401.98 1552.32 1401.98 1548.18 Q1401.98 1543.15 1405.55 1540.42 Q1409.11 1537.68 1415.67 1537.68 Q1418.91 1537.68 1421.78 1538.16 Q1424.64 1538.63 1427.06 1539.59 Z\" fill=\"#000000\" fill-rule=\"evenodd\" fill-opacity=\"1\" /><polyline clip-path=\"url(#clip212)\" style=\"stroke:#000000; stroke-linecap:round; stroke-linejoin:round; stroke-width:2; stroke-opacity:0.1; fill:none\" points=\"\n  204.311,1375.43 2352.76,1375.43 \n  \"/>\n<polyline clip-path=\"url(#clip212)\" style=\"stroke:#000000; stroke-linecap:round; stroke-linejoin:round; stroke-width:2; stroke-opacity:0.1; fill:none\" points=\"\n  204.311,1069.76 2352.76,1069.76 \n  \"/>\n<polyline clip-path=\"url(#clip212)\" style=\"stroke:#000000; stroke-linecap:round; stroke-linejoin:round; stroke-width:2; stroke-opacity:0.1; fill:none\" points=\"\n  204.311,764.094 2352.76,764.094 \n  \"/>\n<polyline clip-path=\"url(#clip212)\" style=\"stroke:#000000; stroke-linecap:round; stroke-linejoin:round; stroke-width:2; stroke-opacity:0.1; fill:none\" points=\"\n  204.311,458.428 2352.76,458.428 \n  \"/>\n<polyline clip-path=\"url(#clip212)\" style=\"stroke:#000000; stroke-linecap:round; stroke-linejoin:round; stroke-width:2; stroke-opacity:0.1; fill:none\" points=\"\n  204.311,152.762 2352.76,152.762 \n  \"/>\n<polyline clip-path=\"url(#clip210)\" style=\"stroke:#000000; stroke-linecap:round; stroke-linejoin:round; stroke-width:4; stroke-opacity:1; fill:none\" points=\"\n  204.311,1410.9 204.311,47.2441 \n  \"/>\n<polyline clip-path=\"url(#clip210)\" style=\"stroke:#000000; stroke-linecap:round; stroke-linejoin:round; stroke-width:4; stroke-opacity:1; fill:none\" points=\"\n  204.311,1375.43 223.208,1375.43 \n  \"/>\n<polyline clip-path=\"url(#clip210)\" style=\"stroke:#000000; stroke-linecap:round; stroke-linejoin:round; stroke-width:4; stroke-opacity:1; fill:none\" points=\"\n  204.311,1069.76 223.208,1069.76 \n  \"/>\n<polyline clip-path=\"url(#clip210)\" style=\"stroke:#000000; stroke-linecap:round; stroke-linejoin:round; stroke-width:4; stroke-opacity:1; fill:none\" points=\"\n  204.311,764.094 223.208,764.094 \n  \"/>\n<polyline clip-path=\"url(#clip210)\" style=\"stroke:#000000; stroke-linecap:round; stroke-linejoin:round; stroke-width:4; stroke-opacity:1; fill:none\" points=\"\n  204.311,458.428 223.208,458.428 \n  \"/>\n<polyline clip-path=\"url(#clip210)\" style=\"stroke:#000000; stroke-linecap:round; stroke-linejoin:round; stroke-width:4; stroke-opacity:1; fill:none\" points=\"\n  204.311,152.762 223.208,152.762 \n  \"/>\n<path clip-path=\"url(#clip210)\" d=\"M131.968 1374.07 Q135.325 1374.79 137.2 1377.06 Q139.098 1379.33 139.098 1382.66 Q139.098 1387.77 135.579 1390.58 Q132.061 1393.38 125.58 1393.38 Q123.404 1393.38 121.089 1392.94 Q118.797 1392.52 116.343 1391.66 L116.343 1387.15 Q118.288 1388.28 120.603 1388.86 Q122.918 1389.44 125.441 1389.44 Q129.839 1389.44 132.13 1387.71 Q134.445 1385.97 134.445 1382.66 Q134.445 1379.6 132.292 1377.89 Q130.163 1376.15 126.343 1376.15 L122.316 1376.15 L122.316 1372.31 L126.529 1372.31 Q129.978 1372.31 131.806 1370.95 Q133.635 1369.56 133.635 1366.96 Q133.635 1364.3 131.737 1362.89 Q129.862 1361.46 126.343 1361.46 Q124.422 1361.46 122.223 1361.87 Q120.024 1362.29 117.385 1363.17 L117.385 1359 Q120.047 1358.26 122.362 1357.89 Q124.7 1357.52 126.76 1357.52 Q132.084 1357.52 135.186 1359.95 Q138.288 1362.36 138.288 1366.48 Q138.288 1369.35 136.644 1371.34 Q135.001 1373.31 131.968 1374.07 Z\" fill=\"#000000\" fill-rule=\"evenodd\" fill-opacity=\"1\" /><path clip-path=\"url(#clip210)\" d=\"M151.991 1388.77 L168.311 1388.77 L168.311 1392.71 L146.366 1392.71 L146.366 1388.77 Q149.028 1386.02 153.612 1381.39 Q158.218 1376.73 159.399 1375.39 Q161.644 1372.87 162.524 1371.13 Q163.427 1369.37 163.427 1367.68 Q163.427 1364.93 161.482 1363.19 Q159.561 1361.46 156.459 1361.46 Q154.26 1361.46 151.806 1362.22 Q149.376 1362.98 146.598 1364.53 L146.598 1359.81 Q149.422 1358.68 151.876 1358.1 Q154.329 1357.52 156.366 1357.52 Q161.737 1357.52 164.931 1360.21 Q168.126 1362.89 168.126 1367.38 Q168.126 1369.51 167.315 1371.43 Q166.528 1373.33 164.422 1375.92 Q163.843 1376.59 160.741 1379.81 Q157.64 1383.01 151.991 1388.77 Z\" fill=\"#000000\" fill-rule=\"evenodd\" fill-opacity=\"1\" /><path clip-path=\"url(#clip210)\" d=\"M131.019 1068.41 Q134.376 1069.12 136.251 1071.39 Q138.149 1073.66 138.149 1076.99 Q138.149 1082.11 134.63 1084.91 Q131.112 1087.71 124.63 1087.71 Q122.455 1087.71 120.14 1087.27 Q117.848 1086.85 115.394 1086 L115.394 1081.48 Q117.339 1082.62 119.654 1083.2 Q121.968 1083.78 124.492 1083.78 Q128.89 1083.78 131.181 1082.04 Q133.496 1080.3 133.496 1076.99 Q133.496 1073.94 131.343 1072.22 Q129.214 1070.49 125.394 1070.49 L121.367 1070.49 L121.367 1066.65 L125.58 1066.65 Q129.029 1066.65 130.857 1065.28 Q132.686 1063.89 132.686 1061.3 Q132.686 1058.64 130.788 1057.22 Q128.913 1055.79 125.394 1055.79 Q123.473 1055.79 121.274 1056.21 Q119.075 1056.62 116.436 1057.5 L116.436 1053.34 Q119.098 1052.6 121.413 1052.22 Q123.751 1051.85 125.811 1051.85 Q131.135 1051.85 134.237 1054.29 Q137.339 1056.69 137.339 1060.81 Q137.339 1063.68 135.695 1065.67 Q134.052 1067.64 131.019 1068.41 Z\" fill=\"#000000\" fill-rule=\"evenodd\" fill-opacity=\"1\" /><path clip-path=\"url(#clip210)\" d=\"M161.181 1068.41 Q164.538 1069.12 166.413 1071.39 Q168.311 1073.66 168.311 1076.99 Q168.311 1082.11 164.792 1084.91 Q161.274 1087.71 154.792 1087.71 Q152.616 1087.71 150.302 1087.27 Q148.01 1086.85 145.556 1086 L145.556 1081.48 Q147.501 1082.62 149.816 1083.2 Q152.13 1083.78 154.653 1083.78 Q159.052 1083.78 161.343 1082.04 Q163.658 1080.3 163.658 1076.99 Q163.658 1073.94 161.505 1072.22 Q159.376 1070.49 155.556 1070.49 L151.528 1070.49 L151.528 1066.65 L155.741 1066.65 Q159.19 1066.65 161.019 1065.28 Q162.848 1063.89 162.848 1061.3 Q162.848 1058.64 160.95 1057.22 Q159.075 1055.79 155.556 1055.79 Q153.635 1055.79 151.436 1056.21 Q149.237 1056.62 146.598 1057.5 L146.598 1053.34 Q149.26 1052.6 151.575 1052.22 Q153.913 1051.85 155.973 1051.85 Q161.297 1051.85 164.399 1054.29 Q167.501 1056.69 167.501 1060.81 Q167.501 1063.68 165.857 1065.67 Q164.214 1067.64 161.181 1068.41 Z\" fill=\"#000000\" fill-rule=\"evenodd\" fill-opacity=\"1\" /><path clip-path=\"url(#clip210)\" d=\"M129.885 762.739 Q133.242 763.457 135.117 765.725 Q137.015 767.994 137.015 771.327 Q137.015 776.443 133.496 779.244 Q129.978 782.045 123.496 782.045 Q121.32 782.045 119.006 781.605 Q116.714 781.188 114.26 780.332 L114.26 775.818 Q116.205 776.952 118.519 777.531 Q120.834 778.11 123.357 778.11 Q127.755 778.11 130.047 776.374 Q132.362 774.637 132.362 771.327 Q132.362 768.272 130.209 766.559 Q128.08 764.823 124.26 764.823 L120.232 764.823 L120.232 760.98 L124.445 760.98 Q127.894 760.98 129.723 759.614 Q131.552 758.225 131.552 755.633 Q131.552 752.971 129.654 751.559 Q127.779 750.124 124.26 750.124 Q122.339 750.124 120.14 750.54 Q117.941 750.957 115.302 751.837 L115.302 747.67 Q117.964 746.929 120.279 746.559 Q122.617 746.189 124.677 746.189 Q130.001 746.189 133.103 748.619 Q136.204 751.026 136.204 755.147 Q136.204 758.017 134.561 760.008 Q132.917 761.975 129.885 762.739 Z\" fill=\"#000000\" fill-rule=\"evenodd\" fill-opacity=\"1\" /><path clip-path=\"url(#clip210)\" d=\"M158.728 750.888 L146.922 769.337 L158.728 769.337 L158.728 750.888 M157.501 746.814 L163.38 746.814 L163.38 769.337 L168.311 769.337 L168.311 773.225 L163.38 773.225 L163.38 781.374 L158.728 781.374 L158.728 773.225 L143.126 773.225 L143.126 768.712 L157.501 746.814 Z\" fill=\"#000000\" fill-rule=\"evenodd\" fill-opacity=\"1\" /><path clip-path=\"url(#clip210)\" d=\"M131.367 457.073 Q134.723 457.791 136.598 460.059 Q138.496 462.328 138.496 465.661 Q138.496 470.777 134.978 473.578 Q131.459 476.379 124.978 476.379 Q122.802 476.379 120.487 475.939 Q118.195 475.522 115.742 474.666 L115.742 470.152 Q117.686 471.286 120.001 471.865 Q122.316 472.444 124.839 472.444 Q129.237 472.444 131.529 470.708 Q133.843 468.971 133.843 465.661 Q133.843 462.606 131.691 460.893 Q129.561 459.157 125.742 459.157 L121.714 459.157 L121.714 455.314 L125.927 455.314 Q129.376 455.314 131.205 453.948 Q133.033 452.559 133.033 449.967 Q133.033 447.305 131.135 445.893 Q129.26 444.458 125.742 444.458 Q123.82 444.458 121.621 444.874 Q119.422 445.291 116.783 446.171 L116.783 442.004 Q119.445 441.263 121.76 440.893 Q124.098 440.523 126.158 440.523 Q131.482 440.523 134.584 442.953 Q137.686 445.36 137.686 449.481 Q137.686 452.351 136.042 454.342 Q134.399 456.309 131.367 457.073 Z\" fill=\"#000000\" fill-rule=\"evenodd\" fill-opacity=\"1\" /><path clip-path=\"url(#clip210)\" d=\"M147.408 441.148 L165.765 441.148 L165.765 445.083 L151.691 445.083 L151.691 453.555 Q152.709 453.208 153.728 453.046 Q154.746 452.86 155.765 452.86 Q161.552 452.86 164.931 456.032 Q168.311 459.203 168.311 464.62 Q168.311 470.198 164.839 473.3 Q161.366 476.379 155.047 476.379 Q152.871 476.379 150.603 476.008 Q148.357 475.638 145.95 474.897 L145.95 470.198 Q148.033 471.333 150.255 471.888 Q152.478 472.444 154.954 472.444 Q158.959 472.444 161.297 470.337 Q163.635 468.231 163.635 464.62 Q163.635 461.009 161.297 458.902 Q158.959 456.796 154.954 456.796 Q153.079 456.796 151.204 457.212 Q149.353 457.629 147.408 458.509 L147.408 441.148 Z\" fill=\"#000000\" fill-rule=\"evenodd\" fill-opacity=\"1\" /><path clip-path=\"url(#clip210)\" d=\"M130.209 151.407 Q133.566 152.125 135.441 154.393 Q137.339 156.662 137.339 159.995 Q137.339 165.111 133.82 167.912 Q130.302 170.713 123.82 170.713 Q121.644 170.713 119.33 170.273 Q117.038 169.856 114.584 169 L114.584 164.486 Q116.529 165.62 118.843 166.199 Q121.158 166.778 123.681 166.778 Q128.08 166.778 130.371 165.042 Q132.686 163.305 132.686 159.995 Q132.686 156.94 130.533 155.227 Q128.404 153.491 124.584 153.491 L120.556 153.491 L120.556 149.648 L124.769 149.648 Q128.218 149.648 130.047 148.282 Q131.876 146.894 131.876 144.301 Q131.876 141.639 129.978 140.227 Q128.103 138.792 124.584 138.792 Q122.663 138.792 120.464 139.208 Q118.265 139.625 115.626 140.505 L115.626 136.338 Q118.288 135.597 120.603 135.227 Q122.941 134.857 125.001 134.857 Q130.325 134.857 133.427 137.287 Q136.529 139.694 136.529 143.815 Q136.529 146.685 134.885 148.676 Q133.242 150.644 130.209 151.407 Z\" fill=\"#000000\" fill-rule=\"evenodd\" fill-opacity=\"1\" /><path clip-path=\"url(#clip210)\" d=\"M156.783 150.898 Q153.635 150.898 151.783 153.051 Q149.954 155.204 149.954 158.954 Q149.954 162.68 151.783 164.856 Q153.635 167.009 156.783 167.009 Q159.931 167.009 161.76 164.856 Q163.612 162.68 163.612 158.954 Q163.612 155.204 161.76 153.051 Q159.931 150.898 156.783 150.898 M166.065 136.245 L166.065 140.505 Q164.306 139.671 162.501 139.232 Q160.718 138.792 158.959 138.792 Q154.329 138.792 151.876 141.917 Q149.445 145.042 149.098 151.361 Q150.464 149.347 152.524 148.282 Q154.584 147.194 157.061 147.194 Q162.269 147.194 165.278 150.366 Q168.311 153.514 168.311 158.954 Q168.311 164.278 165.163 167.495 Q162.015 170.713 156.783 170.713 Q150.788 170.713 147.616 166.13 Q144.445 161.523 144.445 152.796 Q144.445 144.602 148.334 139.741 Q152.223 134.857 158.774 134.857 Q160.533 134.857 162.315 135.204 Q164.121 135.551 166.065 136.245 Z\" fill=\"#000000\" fill-rule=\"evenodd\" fill-opacity=\"1\" /><path clip-path=\"url(#clip210)\" d=\"M41.7242 821.755 Q42.4244 819.686 44.7161 817.745 Q47.0077 815.771 51.0181 813.798 L64.0042 807.273 L64.0042 814.18 L51.8138 820.259 Q47.0395 822.614 45.48 824.842 Q43.9204 827.039 43.9204 830.858 L43.9204 837.86 L64.0042 837.86 L64.0042 844.29 L16.4842 844.29 L16.4842 829.776 Q16.4842 821.628 19.8898 817.617 Q23.2955 813.607 30.1704 813.607 Q34.6582 813.607 37.6183 815.708 Q40.5784 817.776 41.7242 821.755 M21.7677 837.86 L38.6368 837.86 L38.6368 829.776 Q38.6368 825.129 36.5043 822.774 Q34.34 820.386 30.1704 820.386 Q26.0009 820.386 23.9002 822.774 Q21.7677 825.129 21.7677 829.776 L21.7677 837.86 Z\" fill=\"#000000\" fill-rule=\"evenodd\" fill-opacity=\"1\" /><path clip-path=\"url(#clip210)\" d=\"M44.7161 771.689 L47.5806 771.689 L47.5806 798.616 Q53.6281 798.234 56.8109 794.987 Q59.9619 791.709 59.9619 785.884 Q59.9619 782.51 59.1344 779.359 Q58.3069 776.177 56.6518 773.057 L62.1899 773.057 Q63.5267 776.208 64.227 779.519 Q64.9272 782.829 64.9272 786.234 Q64.9272 794.764 59.9619 799.762 Q54.9967 804.727 46.5303 804.727 Q37.7774 804.727 32.6531 800.016 Q27.4968 795.274 27.4968 787.253 Q27.4968 780.06 32.1438 775.89 Q36.7589 771.689 44.7161 771.689 M42.9973 777.545 Q38.1912 777.609 35.3266 780.251 Q32.4621 782.861 32.4621 787.189 Q32.4621 792.091 35.2312 795.051 Q38.0002 797.979 43.0292 798.425 L42.9973 777.545 Z\" fill=\"#000000\" fill-rule=\"evenodd\" fill-opacity=\"1\" /><path clip-path=\"url(#clip210)\" d=\"M28.3562 765.482 L28.3562 759.626 L56.1743 752.305 L28.3562 745.016 L28.3562 738.11 L56.1743 730.789 L28.3562 723.5 L28.3562 717.644 L64.0042 726.97 L64.0042 733.876 L34.7856 741.547 L64.0042 749.25 L64.0042 756.156 L28.3562 765.482 Z\" fill=\"#000000\" fill-rule=\"evenodd\" fill-opacity=\"1\" /><path clip-path=\"url(#clip210)\" d=\"M46.0847 692.563 Q46.0847 699.661 47.7079 702.398 Q49.3312 705.135 53.2461 705.135 Q56.3653 705.135 58.2114 703.098 Q60.0256 701.029 60.0256 697.496 Q60.0256 692.627 56.5881 689.698 Q53.1188 686.738 47.3897 686.738 L46.0847 686.738 L46.0847 692.563 M43.6657 680.882 L64.0042 680.882 L64.0042 686.738 L58.5933 686.738 Q61.8398 688.744 63.3994 691.735 Q64.9272 694.727 64.9272 699.056 Q64.9272 704.531 61.8716 707.777 Q58.7843 710.992 53.6281 710.992 Q47.6125 710.992 44.5569 706.981 Q41.5014 702.939 41.5014 694.95 L41.5014 686.738 L40.9285 686.738 Q36.8862 686.738 34.6901 689.412 Q32.4621 692.054 32.4621 696.86 Q32.4621 699.915 33.1941 702.812 Q33.9262 705.708 35.3903 708.382 L29.9795 708.382 Q28.7381 705.167 28.1334 702.143 Q27.4968 699.12 27.4968 696.255 Q27.4968 688.521 31.5072 684.701 Q35.5176 680.882 43.6657 680.882 Z\" fill=\"#000000\" fill-rule=\"evenodd\" fill-opacity=\"1\" /><path clip-path=\"url(#clip210)\" d=\"M33.8307 648.162 Q33.2578 649.149 33.0032 650.327 Q32.7167 651.472 32.7167 652.873 Q32.7167 657.838 35.9632 660.512 Q39.1779 663.153 45.2253 663.153 L64.0042 663.153 L64.0042 669.042 L28.3562 669.042 L28.3562 663.153 L33.8944 663.153 Q30.6479 661.307 29.0883 658.347 Q27.4968 655.387 27.4968 651.154 Q27.4968 650.549 27.5923 649.817 Q27.656 649.085 27.8151 648.194 L33.8307 648.162 Z\" fill=\"#000000\" fill-rule=\"evenodd\" fill-opacity=\"1\" /><path clip-path=\"url(#clip210)\" d=\"M33.7671 619.708 L14.479 619.708 L14.479 613.851 L64.0042 613.851 L64.0042 619.708 L58.657 619.708 Q61.8398 621.554 63.3994 624.386 Q64.9272 627.187 64.9272 631.134 Q64.9272 637.595 59.771 641.669 Q54.6147 645.711 46.212 645.711 Q37.8093 645.711 32.6531 641.669 Q27.4968 637.595 27.4968 631.134 Q27.4968 627.187 29.0564 624.386 Q30.5842 621.554 33.7671 619.708 M46.212 639.664 Q52.6732 639.664 56.3653 637.022 Q60.0256 634.349 60.0256 629.702 Q60.0256 625.055 56.3653 622.381 Q52.6732 619.708 46.212 619.708 Q39.7508 619.708 36.0905 622.381 Q32.3984 625.055 32.3984 629.702 Q32.3984 634.349 36.0905 637.022 Q39.7508 639.664 46.212 639.664 Z\" fill=\"#000000\" fill-rule=\"evenodd\" fill-opacity=\"1\" /><polyline clip-path=\"url(#clip212)\" style=\"stroke:#009af9; stroke-linecap:round; stroke-linejoin:round; stroke-width:4; stroke-opacity:1; fill:none\" points=\"\n  265.116,85.838 300.674,604.182 336.233,581.43 371.791,589.16 407.35,852.153 442.908,812.938 478.467,866.881 514.025,823.265 549.584,900.662 585.142,741.362 \n  620.701,900.188 656.259,1009.53 691.818,802.395 727.376,914.987 762.935,946.675 798.493,908.473 834.052,885.647 869.61,806.043 905.169,940.131 940.728,1038.06 \n  976.286,754.036 1011.84,1046.38 1047.4,1301.92 1082.96,994.269 1118.52,1010.86 1154.08,894.998 1189.64,898.316 1225.2,1027.14 1260.75,932.418 1296.31,1022.37 \n  1331.87,1147.22 1367.43,936.641 1402.99,1197.39 1438.55,1242.52 1474.11,1117.73 1509.66,1010.04 1545.22,1097.71 1580.78,1016.88 1616.34,1117.99 1651.9,1079.92 \n  1687.46,829.88 1723.01,1233.23 1758.57,1105.6 1794.13,996.506 1829.69,1124.88 1865.25,1206.24 1900.81,953.263 1936.37,1033.59 1971.92,1106.26 2007.48,898.574 \n  2043.04,1206 2078.6,1337.41 2114.16,1372.3 2149.72,1184.06 2185.28,1240.44 2220.83,1029.41 2256.39,1144.57 2291.95,1248.54 \n  \"/>\n</svg>\n"
     },
     "execution_count": 43,
     "metadata": {},
     "output_type": "execute_result"
    }
   ],
   "source": [
    "plot(iterations, rewards, xlabel=\"Iterations\", ylabel=\"Reward\", legend = false, xformatter = :scientific)"
   ]
  },
  {
   "cell_type": "code",
   "execution_count": 44,
   "id": "405bd6ad",
   "metadata": {},
   "outputs": [
    {
     "data": {
      "text/plain": [
       "\"/home/larissa/Documents/Projects/ADLR/ADLR_project/src/3d/plots/slow/reward.svg\""
      ]
     },
     "execution_count": 44,
     "metadata": {},
     "output_type": "execute_result"
    }
   ],
   "source": [
    "savefig(fig_path * \"reward.svg\")"
   ]
  },
  {
   "cell_type": "code",
   "execution_count": 45,
   "id": "9535a7a5",
   "metadata": {},
   "outputs": [
    {
     "data": {
      "image/svg+xml": "<?xml version=\"1.0\" encoding=\"utf-8\"?>\n<svg xmlns=\"http://www.w3.org/2000/svg\" xmlns:xlink=\"http://www.w3.org/1999/xlink\" width=\"600\" height=\"400\" viewBox=\"0 0 2400 1600\">\n<defs>\n  <clipPath id=\"clip290\">\n    <rect x=\"0\" y=\"0\" width=\"2400\" height=\"1600\"/>\n  </clipPath>\n</defs>\n<path clip-path=\"url(#clip290)\" d=\"\nM0 1600 L2400 1600 L2400 0 L0 0  Z\n  \" fill=\"#ffffff\" fill-rule=\"evenodd\" fill-opacity=\"1\"/>\n<defs>\n  <clipPath id=\"clip291\">\n    <rect x=\"480\" y=\"0\" width=\"1681\" height=\"1600\"/>\n  </clipPath>\n</defs>\n<path clip-path=\"url(#clip290)\" d=\"\nM279.866 1410.9 L2352.76 1410.9 L2352.76 47.2441 L279.866 47.2441  Z\n  \" fill=\"#ffffff\" fill-rule=\"evenodd\" fill-opacity=\"1\"/>\n<defs>\n  <clipPath id=\"clip292\">\n    <rect x=\"279\" y=\"47\" width=\"2074\" height=\"1365\"/>\n  </clipPath>\n</defs>\n<polyline clip-path=\"url(#clip292)\" style=\"stroke:#000000; stroke-linecap:round; stroke-linejoin:round; stroke-width:2; stroke-opacity:0.1; fill:none\" points=\"\n  304.225,1410.9 304.225,47.2441 \n  \"/>\n<polyline clip-path=\"url(#clip292)\" style=\"stroke:#000000; stroke-linecap:round; stroke-linejoin:round; stroke-width:2; stroke-opacity:0.1; fill:none\" points=\"\n  647.305,1410.9 647.305,47.2441 \n  \"/>\n<polyline clip-path=\"url(#clip292)\" style=\"stroke:#000000; stroke-linecap:round; stroke-linejoin:round; stroke-width:2; stroke-opacity:0.1; fill:none\" points=\"\n  990.385,1410.9 990.385,47.2441 \n  \"/>\n<polyline clip-path=\"url(#clip292)\" style=\"stroke:#000000; stroke-linecap:round; stroke-linejoin:round; stroke-width:2; stroke-opacity:0.1; fill:none\" points=\"\n  1333.46,1410.9 1333.46,47.2441 \n  \"/>\n<polyline clip-path=\"url(#clip292)\" style=\"stroke:#000000; stroke-linecap:round; stroke-linejoin:round; stroke-width:2; stroke-opacity:0.1; fill:none\" points=\"\n  1676.55,1410.9 1676.55,47.2441 \n  \"/>\n<polyline clip-path=\"url(#clip292)\" style=\"stroke:#000000; stroke-linecap:round; stroke-linejoin:round; stroke-width:2; stroke-opacity:0.1; fill:none\" points=\"\n  2019.63,1410.9 2019.63,47.2441 \n  \"/>\n<polyline clip-path=\"url(#clip290)\" style=\"stroke:#000000; stroke-linecap:round; stroke-linejoin:round; stroke-width:4; stroke-opacity:1; fill:none\" points=\"\n  279.866,1410.9 2352.76,1410.9 \n  \"/>\n<polyline clip-path=\"url(#clip290)\" style=\"stroke:#000000; stroke-linecap:round; stroke-linejoin:round; stroke-width:4; stroke-opacity:1; fill:none\" points=\"\n  304.225,1410.9 304.225,1392 \n  \"/>\n<polyline clip-path=\"url(#clip290)\" style=\"stroke:#000000; stroke-linecap:round; stroke-linejoin:round; stroke-width:4; stroke-opacity:1; fill:none\" points=\"\n  647.305,1410.9 647.305,1392 \n  \"/>\n<polyline clip-path=\"url(#clip290)\" style=\"stroke:#000000; stroke-linecap:round; stroke-linejoin:round; stroke-width:4; stroke-opacity:1; fill:none\" points=\"\n  990.385,1410.9 990.385,1392 \n  \"/>\n<polyline clip-path=\"url(#clip290)\" style=\"stroke:#000000; stroke-linecap:round; stroke-linejoin:round; stroke-width:4; stroke-opacity:1; fill:none\" points=\"\n  1333.46,1410.9 1333.46,1392 \n  \"/>\n<polyline clip-path=\"url(#clip290)\" style=\"stroke:#000000; stroke-linecap:round; stroke-linejoin:round; stroke-width:4; stroke-opacity:1; fill:none\" points=\"\n  1676.55,1410.9 1676.55,1392 \n  \"/>\n<polyline clip-path=\"url(#clip290)\" style=\"stroke:#000000; stroke-linecap:round; stroke-linejoin:round; stroke-width:4; stroke-opacity:1; fill:none\" points=\"\n  2019.63,1410.9 2019.63,1392 \n  \"/>\n<path clip-path=\"url(#clip290)\" d=\"M304.225 1441.82 Q300.614 1441.82 298.785 1445.38 Q296.979 1448.92 296.979 1456.05 Q296.979 1463.16 298.785 1466.72 Q300.614 1470.26 304.225 1470.26 Q307.859 1470.26 309.664 1466.72 Q311.493 1463.16 311.493 1456.05 Q311.493 1448.92 309.664 1445.38 Q307.859 1441.82 304.225 1441.82 M304.225 1438.11 Q310.035 1438.11 313.09 1442.72 Q316.169 1447.3 316.169 1456.05 Q316.169 1464.78 313.09 1469.38 Q310.035 1473.97 304.225 1473.97 Q298.414 1473.97 295.336 1469.38 Q292.28 1464.78 292.28 1456.05 Q292.28 1447.3 295.336 1442.72 Q298.414 1438.11 304.225 1438.11 Z\" fill=\"#000000\" fill-rule=\"evenodd\" fill-opacity=\"1\" /><path clip-path=\"url(#clip290)\" d=\"M554.739 1485.02 L562.378 1485.02 L562.378 1458.66 L554.068 1460.32 L554.068 1456.06 L562.332 1454.4 L567.008 1454.4 L567.008 1485.02 L574.647 1485.02 L574.647 1488.96 L554.739 1488.96 L554.739 1485.02 Z\" fill=\"#000000\" fill-rule=\"evenodd\" fill-opacity=\"1\" /><path clip-path=\"url(#clip290)\" d=\"M584.091 1483.08 L588.975 1483.08 L588.975 1488.96 L584.091 1488.96 L584.091 1483.08 Z\" fill=\"#000000\" fill-rule=\"evenodd\" fill-opacity=\"1\" /><path clip-path=\"url(#clip290)\" d=\"M609.16 1457.48 Q605.549 1457.48 603.721 1461.04 Q601.915 1464.58 601.915 1471.71 Q601.915 1478.82 603.721 1482.38 Q605.549 1485.92 609.16 1485.92 Q612.795 1485.92 614.6 1482.38 Q616.429 1478.82 616.429 1471.71 Q616.429 1464.58 614.6 1461.04 Q612.795 1457.48 609.16 1457.48 M609.16 1453.77 Q614.971 1453.77 618.026 1458.38 Q621.105 1462.96 621.105 1471.71 Q621.105 1480.44 618.026 1485.04 Q614.971 1489.63 609.16 1489.63 Q603.35 1489.63 600.272 1485.04 Q597.216 1480.44 597.216 1471.71 Q597.216 1462.96 600.272 1458.38 Q603.35 1453.77 609.16 1453.77 Z\" fill=\"#000000\" fill-rule=\"evenodd\" fill-opacity=\"1\" /><path clip-path=\"url(#clip290)\" d=\"M657.493 1463.49 L646.915 1474.12 L657.493 1484.7 L654.739 1487.5 L644.114 1476.87 L633.489 1487.5 L630.758 1484.7 L641.313 1474.12 L630.758 1463.49 L633.489 1460.69 L644.114 1471.32 L654.739 1460.69 L657.493 1463.49 Z\" fill=\"#000000\" fill-rule=\"evenodd\" fill-opacity=\"1\" /><path clip-path=\"url(#clip290)\" d=\"M669.855 1485.02 L677.493 1485.02 L677.493 1458.66 L669.183 1460.32 L669.183 1456.06 L677.447 1454.4 L682.123 1454.4 L682.123 1485.02 L689.762 1485.02 L689.762 1488.96 L669.855 1488.96 L669.855 1485.02 Z\" fill=\"#000000\" fill-rule=\"evenodd\" fill-opacity=\"1\" /><path clip-path=\"url(#clip290)\" d=\"M709.206 1457.48 Q705.595 1457.48 703.766 1461.04 Q701.961 1464.58 701.961 1471.71 Q701.961 1478.82 703.766 1482.38 Q705.595 1485.92 709.206 1485.92 Q712.84 1485.92 714.646 1482.38 Q716.475 1478.82 716.475 1471.71 Q716.475 1464.58 714.646 1461.04 Q712.84 1457.48 709.206 1457.48 M709.206 1453.77 Q715.016 1453.77 718.072 1458.38 Q721.151 1462.96 721.151 1471.71 Q721.151 1480.44 718.072 1485.04 Q715.016 1489.63 709.206 1489.63 Q703.396 1489.63 700.317 1485.04 Q697.262 1480.44 697.262 1471.71 Q697.262 1462.96 700.317 1458.38 Q703.396 1453.77 709.206 1453.77 Z\" fill=\"#000000\" fill-rule=\"evenodd\" fill-opacity=\"1\" /><path clip-path=\"url(#clip290)\" d=\"M731.175 1445.99 Q728.617 1445.99 727.113 1447.74 Q725.627 1449.49 725.627 1452.54 Q725.627 1455.57 727.113 1457.33 Q728.617 1459.08 731.175 1459.08 Q733.733 1459.08 735.219 1457.33 Q736.723 1455.57 736.723 1452.54 Q736.723 1449.49 735.219 1447.74 Q733.733 1445.99 731.175 1445.99 M738.717 1434.09 L738.717 1437.55 Q737.288 1436.87 735.821 1436.51 Q734.372 1436.16 732.943 1436.16 Q729.181 1436.16 727.188 1438.69 Q725.213 1441.23 724.931 1446.37 Q726.041 1444.73 727.714 1443.87 Q729.388 1442.98 731.401 1442.98 Q735.633 1442.98 738.078 1445.56 Q740.541 1448.12 740.541 1452.54 Q740.541 1456.86 737.983 1459.48 Q735.426 1462.09 731.175 1462.09 Q726.304 1462.09 723.727 1458.37 Q721.151 1454.62 721.151 1447.53 Q721.151 1440.88 724.31 1436.93 Q727.47 1432.96 732.793 1432.96 Q734.222 1432.96 735.67 1433.24 Q737.137 1433.52 738.717 1434.09 Z\" fill=\"#000000\" fill-rule=\"evenodd\" fill-opacity=\"1\" /><path clip-path=\"url(#clip290)\" d=\"M901.905 1485.02 L918.224 1485.02 L918.224 1488.96 L896.28 1488.96 L896.28 1485.02 Q898.942 1482.27 903.525 1477.64 Q908.132 1472.98 909.312 1471.64 Q911.558 1469.12 912.437 1467.38 Q913.34 1465.62 913.34 1463.93 Q913.34 1461.18 911.396 1459.44 Q909.475 1457.71 906.373 1457.71 Q904.174 1457.71 901.72 1458.47 Q899.289 1459.23 896.512 1460.79 L896.512 1456.06 Q899.336 1454.93 901.789 1454.35 Q904.243 1453.77 906.28 1453.77 Q911.65 1453.77 914.845 1456.46 Q918.039 1459.14 918.039 1463.63 Q918.039 1465.76 917.229 1467.68 Q916.442 1469.58 914.336 1472.17 Q913.757 1472.85 910.655 1476.06 Q907.553 1479.26 901.905 1485.02 Z\" fill=\"#000000\" fill-rule=\"evenodd\" fill-opacity=\"1\" /><path clip-path=\"url(#clip290)\" d=\"M928.039 1483.08 L932.923 1483.08 L932.923 1488.96 L928.039 1488.96 L928.039 1483.08 Z\" fill=\"#000000\" fill-rule=\"evenodd\" fill-opacity=\"1\" /><path clip-path=\"url(#clip290)\" d=\"M953.109 1457.48 Q949.497 1457.48 947.669 1461.04 Q945.863 1464.58 945.863 1471.71 Q945.863 1478.82 947.669 1482.38 Q949.497 1485.92 953.109 1485.92 Q956.743 1485.92 958.548 1482.38 Q960.377 1478.82 960.377 1471.71 Q960.377 1464.58 958.548 1461.04 Q956.743 1457.48 953.109 1457.48 M953.109 1453.77 Q958.919 1453.77 961.974 1458.38 Q965.053 1462.96 965.053 1471.71 Q965.053 1480.44 961.974 1485.04 Q958.919 1489.63 953.109 1489.63 Q947.298 1489.63 944.22 1485.04 Q941.164 1480.44 941.164 1471.71 Q941.164 1462.96 944.22 1458.38 Q947.298 1453.77 953.109 1453.77 Z\" fill=\"#000000\" fill-rule=\"evenodd\" fill-opacity=\"1\" /><path clip-path=\"url(#clip290)\" d=\"M1001.44 1463.49 L990.863 1474.12 L1001.44 1484.7 L998.687 1487.5 L988.062 1476.87 L977.437 1487.5 L974.706 1484.7 L985.261 1474.12 L974.706 1463.49 L977.437 1460.69 L988.062 1471.32 L998.687 1460.69 L1001.44 1463.49 Z\" fill=\"#000000\" fill-rule=\"evenodd\" fill-opacity=\"1\" /><path clip-path=\"url(#clip290)\" d=\"M1013.8 1485.02 L1021.44 1485.02 L1021.44 1458.66 L1013.13 1460.32 L1013.13 1456.06 L1021.4 1454.4 L1026.07 1454.4 L1026.07 1485.02 L1033.71 1485.02 L1033.71 1488.96 L1013.8 1488.96 L1013.8 1485.02 Z\" fill=\"#000000\" fill-rule=\"evenodd\" fill-opacity=\"1\" /><path clip-path=\"url(#clip290)\" d=\"M1053.15 1457.48 Q1049.54 1457.48 1047.71 1461.04 Q1045.91 1464.58 1045.91 1471.71 Q1045.91 1478.82 1047.71 1482.38 Q1049.54 1485.92 1053.15 1485.92 Q1056.79 1485.92 1058.59 1482.38 Q1060.42 1478.82 1060.42 1471.71 Q1060.42 1464.58 1058.59 1461.04 Q1056.79 1457.48 1053.15 1457.48 M1053.15 1453.77 Q1058.96 1453.77 1062.02 1458.38 Q1065.1 1462.96 1065.1 1471.71 Q1065.1 1480.44 1062.02 1485.04 Q1058.96 1489.63 1053.15 1489.63 Q1047.34 1489.63 1044.27 1485.04 Q1041.21 1480.44 1041.21 1471.71 Q1041.21 1462.96 1044.27 1458.38 Q1047.34 1453.77 1053.15 1453.77 Z\" fill=\"#000000\" fill-rule=\"evenodd\" fill-opacity=\"1\" /><path clip-path=\"url(#clip290)\" d=\"M1075.12 1445.99 Q1072.57 1445.99 1071.06 1447.74 Q1069.57 1449.49 1069.57 1452.54 Q1069.57 1455.57 1071.06 1457.33 Q1072.57 1459.08 1075.12 1459.08 Q1077.68 1459.08 1079.17 1457.33 Q1080.67 1455.57 1080.67 1452.54 Q1080.67 1449.49 1079.17 1447.74 Q1077.68 1445.99 1075.12 1445.99 M1082.67 1434.09 L1082.67 1437.55 Q1081.24 1436.87 1079.77 1436.51 Q1078.32 1436.16 1076.89 1436.16 Q1073.13 1436.16 1071.14 1438.69 Q1069.16 1441.23 1068.88 1446.37 Q1069.99 1444.73 1071.66 1443.87 Q1073.34 1442.98 1075.35 1442.98 Q1079.58 1442.98 1082.03 1445.56 Q1084.49 1448.12 1084.49 1452.54 Q1084.49 1456.86 1081.93 1459.48 Q1079.37 1462.09 1075.12 1462.09 Q1070.25 1462.09 1067.68 1458.37 Q1065.1 1454.62 1065.1 1447.53 Q1065.1 1440.88 1068.26 1436.93 Q1071.42 1432.96 1076.74 1432.96 Q1078.17 1432.96 1079.62 1433.24 Q1081.09 1433.52 1082.67 1434.09 Z\" fill=\"#000000\" fill-rule=\"evenodd\" fill-opacity=\"1\" /><path clip-path=\"url(#clip290)\" d=\"M1255.05 1470.32 Q1258.41 1471.04 1260.29 1473.31 Q1262.18 1475.58 1262.18 1478.91 Q1262.18 1484.03 1258.67 1486.83 Q1255.15 1489.63 1248.67 1489.63 Q1246.49 1489.63 1244.18 1489.19 Q1241.88 1488.77 1239.43 1487.91 L1239.43 1483.4 Q1241.37 1484.54 1243.69 1485.11 Q1246 1485.69 1248.53 1485.69 Q1252.92 1485.69 1255.22 1483.96 Q1257.53 1482.22 1257.53 1478.91 Q1257.53 1475.85 1255.38 1474.14 Q1253.25 1472.41 1249.43 1472.41 L1245.4 1472.41 L1245.4 1468.56 L1249.61 1468.56 Q1253.06 1468.56 1254.89 1467.2 Q1256.72 1465.81 1256.72 1463.22 Q1256.72 1460.55 1254.82 1459.14 Q1252.95 1457.71 1249.43 1457.71 Q1247.51 1457.71 1245.31 1458.12 Q1243.11 1458.54 1240.47 1459.42 L1240.47 1455.25 Q1243.13 1454.51 1245.45 1454.14 Q1247.79 1453.77 1249.85 1453.77 Q1255.17 1453.77 1258.27 1456.2 Q1261.37 1458.61 1261.37 1462.73 Q1261.37 1465.6 1259.73 1467.59 Q1258.09 1469.56 1255.05 1470.32 Z\" fill=\"#000000\" fill-rule=\"evenodd\" fill-opacity=\"1\" /><path clip-path=\"url(#clip290)\" d=\"M1271.05 1483.08 L1275.93 1483.08 L1275.93 1488.96 L1271.05 1488.96 L1271.05 1483.08 Z\" fill=\"#000000\" fill-rule=\"evenodd\" fill-opacity=\"1\" /><path clip-path=\"url(#clip290)\" d=\"M1296.12 1457.48 Q1292.51 1457.48 1290.68 1461.04 Q1288.87 1464.58 1288.87 1471.71 Q1288.87 1478.82 1290.68 1482.38 Q1292.51 1485.92 1296.12 1485.92 Q1299.75 1485.92 1301.56 1482.38 Q1303.39 1478.82 1303.39 1471.71 Q1303.39 1464.58 1301.56 1461.04 Q1299.75 1457.48 1296.12 1457.48 M1296.12 1453.77 Q1301.93 1453.77 1304.98 1458.38 Q1308.06 1462.96 1308.06 1471.71 Q1308.06 1480.44 1304.98 1485.04 Q1301.93 1489.63 1296.12 1489.63 Q1290.31 1489.63 1287.23 1485.04 Q1284.17 1480.44 1284.17 1471.71 Q1284.17 1462.96 1287.23 1458.38 Q1290.31 1453.77 1296.12 1453.77 Z\" fill=\"#000000\" fill-rule=\"evenodd\" fill-opacity=\"1\" /><path clip-path=\"url(#clip290)\" d=\"M1344.45 1463.49 L1333.87 1474.12 L1344.45 1484.7 L1341.7 1487.5 L1331.07 1476.87 L1320.45 1487.5 L1317.72 1484.7 L1328.27 1474.12 L1317.72 1463.49 L1320.45 1460.69 L1331.07 1471.32 L1341.7 1460.69 L1344.45 1463.49 Z\" fill=\"#000000\" fill-rule=\"evenodd\" fill-opacity=\"1\" /><path clip-path=\"url(#clip290)\" d=\"M1356.81 1485.02 L1364.45 1485.02 L1364.45 1458.66 L1356.14 1460.32 L1356.14 1456.06 L1364.41 1454.4 L1369.08 1454.4 L1369.08 1485.02 L1376.72 1485.02 L1376.72 1488.96 L1356.81 1488.96 L1356.81 1485.02 Z\" fill=\"#000000\" fill-rule=\"evenodd\" fill-opacity=\"1\" /><path clip-path=\"url(#clip290)\" d=\"M1396.16 1457.48 Q1392.55 1457.48 1390.73 1461.04 Q1388.92 1464.58 1388.92 1471.71 Q1388.92 1478.82 1390.73 1482.38 Q1392.55 1485.92 1396.16 1485.92 Q1399.8 1485.92 1401.6 1482.38 Q1403.43 1478.82 1403.43 1471.71 Q1403.43 1464.58 1401.6 1461.04 Q1399.8 1457.48 1396.16 1457.48 M1396.16 1453.77 Q1401.98 1453.77 1405.03 1458.38 Q1408.11 1462.96 1408.11 1471.71 Q1408.11 1480.44 1405.03 1485.04 Q1401.98 1489.63 1396.16 1489.63 Q1390.35 1489.63 1387.28 1485.04 Q1384.22 1480.44 1384.22 1471.71 Q1384.22 1462.96 1387.28 1458.38 Q1390.35 1453.77 1396.16 1453.77 Z\" fill=\"#000000\" fill-rule=\"evenodd\" fill-opacity=\"1\" /><path clip-path=\"url(#clip290)\" d=\"M1418.13 1445.99 Q1415.58 1445.99 1414.07 1447.74 Q1412.59 1449.49 1412.59 1452.54 Q1412.59 1455.57 1414.07 1457.33 Q1415.58 1459.08 1418.13 1459.08 Q1420.69 1459.08 1422.18 1457.33 Q1423.68 1455.57 1423.68 1452.54 Q1423.68 1449.49 1422.18 1447.74 Q1420.69 1445.99 1418.13 1445.99 M1425.68 1434.09 L1425.68 1437.55 Q1424.25 1436.87 1422.78 1436.51 Q1421.33 1436.16 1419.9 1436.16 Q1416.14 1436.16 1414.15 1438.69 Q1412.17 1441.23 1411.89 1446.37 Q1413 1444.73 1414.67 1443.87 Q1416.35 1442.98 1418.36 1442.98 Q1422.59 1442.98 1425.04 1445.56 Q1427.5 1448.12 1427.5 1452.54 Q1427.5 1456.86 1424.94 1459.48 Q1422.38 1462.09 1418.13 1462.09 Q1413.26 1462.09 1410.69 1458.37 Q1408.11 1454.62 1408.11 1447.53 Q1408.11 1440.88 1411.27 1436.93 Q1414.43 1432.96 1419.75 1432.96 Q1421.18 1432.96 1422.63 1433.24 Q1424.1 1433.52 1425.68 1434.09 Z\" fill=\"#000000\" fill-rule=\"evenodd\" fill-opacity=\"1\" /><path clip-path=\"url(#clip290)\" d=\"M1597.46 1458.47 L1585.66 1476.92 L1597.46 1476.92 L1597.46 1458.47 M1596.24 1454.4 L1602.12 1454.4 L1602.12 1476.92 L1607.05 1476.92 L1607.05 1480.81 L1602.12 1480.81 L1602.12 1488.96 L1597.46 1488.96 L1597.46 1480.81 L1581.86 1480.81 L1581.86 1476.29 L1596.24 1454.4 Z\" fill=\"#000000\" fill-rule=\"evenodd\" fill-opacity=\"1\" /><path clip-path=\"url(#clip290)\" d=\"M1614.78 1483.08 L1619.66 1483.08 L1619.66 1488.96 L1614.78 1488.96 L1614.78 1483.08 Z\" fill=\"#000000\" fill-rule=\"evenodd\" fill-opacity=\"1\" /><path clip-path=\"url(#clip290)\" d=\"M1639.85 1457.48 Q1636.24 1457.48 1634.41 1461.04 Q1632.6 1464.58 1632.6 1471.71 Q1632.6 1478.82 1634.41 1482.38 Q1636.24 1485.92 1639.85 1485.92 Q1643.48 1485.92 1645.29 1482.38 Q1647.12 1478.82 1647.12 1471.71 Q1647.12 1464.58 1645.29 1461.04 Q1643.48 1457.48 1639.85 1457.48 M1639.85 1453.77 Q1645.66 1453.77 1648.71 1458.38 Q1651.79 1462.96 1651.79 1471.71 Q1651.79 1480.44 1648.71 1485.04 Q1645.66 1489.63 1639.85 1489.63 Q1634.04 1489.63 1630.96 1485.04 Q1627.9 1480.44 1627.9 1471.71 Q1627.9 1462.96 1630.96 1458.38 Q1634.04 1453.77 1639.85 1453.77 Z\" fill=\"#000000\" fill-rule=\"evenodd\" fill-opacity=\"1\" /><path clip-path=\"url(#clip290)\" d=\"M1688.18 1463.49 L1677.6 1474.12 L1688.18 1484.7 L1685.43 1487.5 L1674.8 1476.87 L1664.18 1487.5 L1661.44 1484.7 L1672 1474.12 L1661.44 1463.49 L1664.18 1460.69 L1674.8 1471.32 L1685.43 1460.69 L1688.18 1463.49 Z\" fill=\"#000000\" fill-rule=\"evenodd\" fill-opacity=\"1\" /><path clip-path=\"url(#clip290)\" d=\"M1700.54 1485.02 L1708.18 1485.02 L1708.18 1458.66 L1699.87 1460.32 L1699.87 1456.06 L1708.13 1454.4 L1712.81 1454.4 L1712.81 1485.02 L1720.45 1485.02 L1720.45 1488.96 L1700.54 1488.96 L1700.54 1485.02 Z\" fill=\"#000000\" fill-rule=\"evenodd\" fill-opacity=\"1\" /><path clip-path=\"url(#clip290)\" d=\"M1739.89 1457.48 Q1736.28 1457.48 1734.45 1461.04 Q1732.65 1464.58 1732.65 1471.71 Q1732.65 1478.82 1734.45 1482.38 Q1736.28 1485.92 1739.89 1485.92 Q1743.53 1485.92 1745.33 1482.38 Q1747.16 1478.82 1747.16 1471.71 Q1747.16 1464.58 1745.33 1461.04 Q1743.53 1457.48 1739.89 1457.48 M1739.89 1453.77 Q1745.7 1453.77 1748.76 1458.38 Q1751.84 1462.96 1751.84 1471.71 Q1751.84 1480.44 1748.76 1485.04 Q1745.7 1489.63 1739.89 1489.63 Q1734.08 1489.63 1731 1485.04 Q1727.95 1480.44 1727.95 1471.71 Q1727.95 1462.96 1731 1458.38 Q1734.08 1453.77 1739.89 1453.77 Z\" fill=\"#000000\" fill-rule=\"evenodd\" fill-opacity=\"1\" /><path clip-path=\"url(#clip290)\" d=\"M1761.86 1445.99 Q1759.3 1445.99 1757.8 1447.74 Q1756.31 1449.49 1756.31 1452.54 Q1756.31 1455.57 1757.8 1457.33 Q1759.3 1459.08 1761.86 1459.08 Q1764.42 1459.08 1765.91 1457.33 Q1767.41 1455.57 1767.41 1452.54 Q1767.41 1449.49 1765.91 1447.74 Q1764.42 1445.99 1761.86 1445.99 M1769.4 1434.09 L1769.4 1437.55 Q1767.97 1436.87 1766.51 1436.51 Q1765.06 1436.16 1763.63 1436.16 Q1759.87 1436.16 1757.87 1438.69 Q1755.9 1441.23 1755.62 1446.37 Q1756.73 1444.73 1758.4 1443.87 Q1760.08 1442.98 1762.09 1442.98 Q1766.32 1442.98 1768.76 1445.56 Q1771.23 1448.12 1771.23 1452.54 Q1771.23 1456.86 1768.67 1459.48 Q1766.11 1462.09 1761.86 1462.09 Q1756.99 1462.09 1754.41 1458.37 Q1751.84 1454.62 1751.84 1447.53 Q1751.84 1440.88 1755 1436.93 Q1758.16 1432.96 1763.48 1432.96 Q1764.91 1432.96 1766.36 1433.24 Q1767.82 1433.52 1769.4 1434.09 Z\" fill=\"#000000\" fill-rule=\"evenodd\" fill-opacity=\"1\" /><path clip-path=\"url(#clip290)\" d=\"M1927.07 1454.4 L1945.43 1454.4 L1945.43 1458.33 L1931.35 1458.33 L1931.35 1466.8 Q1932.37 1466.46 1933.39 1466.29 Q1934.41 1466.11 1935.43 1466.11 Q1941.21 1466.11 1944.59 1469.28 Q1947.97 1472.45 1947.97 1477.87 Q1947.97 1483.45 1944.5 1486.55 Q1941.03 1489.63 1934.71 1489.63 Q1932.53 1489.63 1930.27 1489.26 Q1928.02 1488.89 1925.61 1488.15 L1925.61 1483.45 Q1927.7 1484.58 1929.92 1485.14 Q1932.14 1485.69 1934.62 1485.69 Q1938.62 1485.69 1940.96 1483.59 Q1943.3 1481.48 1943.3 1477.87 Q1943.3 1474.26 1940.96 1472.15 Q1938.62 1470.04 1934.62 1470.04 Q1932.74 1470.04 1930.87 1470.46 Q1929.02 1470.88 1927.07 1471.76 L1927.07 1454.4 Z\" fill=\"#000000\" fill-rule=\"evenodd\" fill-opacity=\"1\" /><path clip-path=\"url(#clip290)\" d=\"M1957.19 1483.08 L1962.07 1483.08 L1962.07 1488.96 L1957.19 1488.96 L1957.19 1483.08 Z\" fill=\"#000000\" fill-rule=\"evenodd\" fill-opacity=\"1\" /><path clip-path=\"url(#clip290)\" d=\"M1982.26 1457.48 Q1978.65 1457.48 1976.82 1461.04 Q1975.01 1464.58 1975.01 1471.71 Q1975.01 1478.82 1976.82 1482.38 Q1978.65 1485.92 1982.26 1485.92 Q1985.89 1485.92 1987.7 1482.38 Q1989.52 1478.82 1989.52 1471.71 Q1989.52 1464.58 1987.7 1461.04 Q1985.89 1457.48 1982.26 1457.48 M1982.26 1453.77 Q1988.07 1453.77 1991.12 1458.38 Q1994.2 1462.96 1994.2 1471.71 Q1994.2 1480.44 1991.12 1485.04 Q1988.07 1489.63 1982.26 1489.63 Q1976.45 1489.63 1973.37 1485.04 Q1970.31 1480.44 1970.31 1471.71 Q1970.31 1462.96 1973.37 1458.38 Q1976.45 1453.77 1982.26 1453.77 Z\" fill=\"#000000\" fill-rule=\"evenodd\" fill-opacity=\"1\" /><path clip-path=\"url(#clip290)\" d=\"M2030.59 1463.49 L2020.01 1474.12 L2030.59 1484.7 L2027.83 1487.5 L2017.21 1476.87 L2006.58 1487.5 L2003.85 1484.7 L2014.41 1474.12 L2003.85 1463.49 L2006.58 1460.69 L2017.21 1471.32 L2027.83 1460.69 L2030.59 1463.49 Z\" fill=\"#000000\" fill-rule=\"evenodd\" fill-opacity=\"1\" /><path clip-path=\"url(#clip290)\" d=\"M2042.95 1485.02 L2050.59 1485.02 L2050.59 1458.66 L2042.28 1460.32 L2042.28 1456.06 L2050.54 1454.4 L2055.22 1454.4 L2055.22 1485.02 L2062.86 1485.02 L2062.86 1488.96 L2042.95 1488.96 L2042.95 1485.02 Z\" fill=\"#000000\" fill-rule=\"evenodd\" fill-opacity=\"1\" /><path clip-path=\"url(#clip290)\" d=\"M2082.3 1457.48 Q2078.69 1457.48 2076.86 1461.04 Q2075.06 1464.58 2075.06 1471.71 Q2075.06 1478.82 2076.86 1482.38 Q2078.69 1485.92 2082.3 1485.92 Q2085.94 1485.92 2087.74 1482.38 Q2089.57 1478.82 2089.57 1471.71 Q2089.57 1464.58 2087.74 1461.04 Q2085.94 1457.48 2082.3 1457.48 M2082.3 1453.77 Q2088.11 1453.77 2091.17 1458.38 Q2094.25 1462.96 2094.25 1471.71 Q2094.25 1480.44 2091.17 1485.04 Q2088.11 1489.63 2082.3 1489.63 Q2076.49 1489.63 2073.41 1485.04 Q2070.36 1480.44 2070.36 1471.71 Q2070.36 1462.96 2073.41 1458.38 Q2076.49 1453.77 2082.3 1453.77 Z\" fill=\"#000000\" fill-rule=\"evenodd\" fill-opacity=\"1\" /><path clip-path=\"url(#clip290)\" d=\"M2104.27 1445.99 Q2101.71 1445.99 2100.21 1447.74 Q2098.72 1449.49 2098.72 1452.54 Q2098.72 1455.57 2100.21 1457.33 Q2101.71 1459.08 2104.27 1459.08 Q2106.83 1459.08 2108.31 1457.33 Q2109.82 1455.57 2109.82 1452.54 Q2109.82 1449.49 2108.31 1447.74 Q2106.83 1445.99 2104.27 1445.99 M2111.81 1434.09 L2111.81 1437.55 Q2110.38 1436.87 2108.92 1436.51 Q2107.47 1436.16 2106.04 1436.16 Q2102.28 1436.16 2100.28 1438.69 Q2098.31 1441.23 2098.03 1446.37 Q2099.14 1444.73 2100.81 1443.87 Q2102.48 1442.98 2104.5 1442.98 Q2108.73 1442.98 2111.17 1445.56 Q2113.64 1448.12 2113.64 1452.54 Q2113.64 1456.86 2111.08 1459.48 Q2108.52 1462.09 2104.27 1462.09 Q2099.4 1462.09 2096.82 1458.37 Q2094.25 1454.62 2094.25 1447.53 Q2094.25 1440.88 2097.41 1436.93 Q2100.57 1432.96 2105.89 1432.96 Q2107.32 1432.96 2108.77 1433.24 Q2110.23 1433.52 2111.81 1434.09 Z\" fill=\"#000000\" fill-rule=\"evenodd\" fill-opacity=\"1\" /><path clip-path=\"url(#clip290)\" d=\"M1165.87 1526.67 L1172.3 1526.67 L1172.3 1574.19 L1165.87 1574.19 L1165.87 1526.67 Z\" fill=\"#000000\" fill-rule=\"evenodd\" fill-opacity=\"1\" /><path clip-path=\"url(#clip290)\" d=\"M1190.64 1528.42 L1190.64 1538.54 L1202.7 1538.54 L1202.7 1543.09 L1190.64 1543.09 L1190.64 1562.44 Q1190.64 1566.8 1191.81 1568.04 Q1193.02 1569.28 1196.68 1569.28 L1202.7 1569.28 L1202.7 1574.19 L1196.68 1574.19 Q1189.9 1574.19 1187.33 1571.67 Q1184.75 1569.12 1184.75 1562.44 L1184.75 1543.09 L1180.45 1543.09 L1180.45 1538.54 L1184.75 1538.54 L1184.75 1528.42 L1190.64 1528.42 Z\" fill=\"#000000\" fill-rule=\"evenodd\" fill-opacity=\"1\" /><path clip-path=\"url(#clip290)\" d=\"M1240.89 1554.9 L1240.89 1557.76 L1213.97 1557.76 Q1214.35 1563.81 1217.59 1566.99 Q1220.87 1570.14 1226.7 1570.14 Q1230.07 1570.14 1233.22 1569.32 Q1236.41 1568.49 1239.52 1566.83 L1239.52 1572.37 Q1236.37 1573.71 1233.06 1574.41 Q1229.75 1575.11 1226.35 1575.11 Q1217.82 1575.11 1212.82 1570.14 Q1207.86 1565.18 1207.86 1556.71 Q1207.86 1547.96 1212.57 1542.83 Q1217.31 1537.68 1225.33 1537.68 Q1232.52 1537.68 1236.69 1542.33 Q1240.89 1546.94 1240.89 1554.9 M1235.04 1553.18 Q1234.97 1548.37 1232.33 1545.51 Q1229.72 1542.64 1225.39 1542.64 Q1220.49 1542.64 1217.53 1545.41 Q1214.6 1548.18 1214.16 1553.21 L1235.04 1553.18 Z\" fill=\"#000000\" fill-rule=\"evenodd\" fill-opacity=\"1\" /><path clip-path=\"url(#clip290)\" d=\"M1271.16 1544.01 Q1270.18 1543.44 1269 1543.18 Q1267.85 1542.9 1266.45 1542.9 Q1261.49 1542.9 1258.81 1546.14 Q1256.17 1549.36 1256.17 1555.41 L1256.17 1574.19 L1250.28 1574.19 L1250.28 1538.54 L1256.17 1538.54 L1256.17 1544.08 Q1258.02 1540.83 1260.98 1539.27 Q1263.94 1537.68 1268.17 1537.68 Q1268.78 1537.68 1269.51 1537.77 Q1270.24 1537.84 1271.13 1538 L1271.16 1544.01 Z\" fill=\"#000000\" fill-rule=\"evenodd\" fill-opacity=\"1\" /><path clip-path=\"url(#clip290)\" d=\"M1293.51 1556.27 Q1286.41 1556.27 1283.67 1557.89 Q1280.93 1559.51 1280.93 1563.43 Q1280.93 1566.55 1282.97 1568.39 Q1285.04 1570.21 1288.57 1570.21 Q1293.44 1570.21 1296.37 1566.77 Q1299.33 1563.3 1299.33 1557.57 L1299.33 1556.27 L1293.51 1556.27 M1305.19 1553.85 L1305.19 1574.19 L1299.33 1574.19 L1299.33 1568.77 Q1297.33 1572.02 1294.33 1573.58 Q1291.34 1575.11 1287.01 1575.11 Q1281.54 1575.11 1278.29 1572.05 Q1275.08 1568.97 1275.08 1563.81 Q1275.08 1557.79 1279.09 1554.74 Q1283.13 1551.68 1291.12 1551.68 L1299.33 1551.68 L1299.33 1551.11 Q1299.33 1547.07 1296.66 1544.87 Q1294.02 1542.64 1289.21 1542.64 Q1286.15 1542.64 1283.26 1543.38 Q1280.36 1544.11 1277.69 1545.57 L1277.69 1540.16 Q1280.9 1538.92 1283.93 1538.31 Q1286.95 1537.68 1289.81 1537.68 Q1297.55 1537.68 1301.37 1541.69 Q1305.19 1545.7 1305.19 1553.85 Z\" fill=\"#000000\" fill-rule=\"evenodd\" fill-opacity=\"1\" /><path clip-path=\"url(#clip290)\" d=\"M1323.04 1528.42 L1323.04 1538.54 L1335.11 1538.54 L1335.11 1543.09 L1323.04 1543.09 L1323.04 1562.44 Q1323.04 1566.8 1324.22 1568.04 Q1325.43 1569.28 1329.09 1569.28 L1335.11 1569.28 L1335.11 1574.19 L1329.09 1574.19 Q1322.31 1574.19 1319.73 1571.67 Q1317.15 1569.12 1317.15 1562.44 L1317.15 1543.09 L1312.86 1543.09 L1312.86 1538.54 L1317.15 1538.54 L1317.15 1528.42 L1323.04 1528.42 Z\" fill=\"#000000\" fill-rule=\"evenodd\" fill-opacity=\"1\" /><path clip-path=\"url(#clip290)\" d=\"M1342.81 1538.54 L1348.66 1538.54 L1348.66 1574.19 L1342.81 1574.19 L1342.81 1538.54 M1342.81 1524.66 L1348.66 1524.66 L1348.66 1532.08 L1342.81 1532.08 L1342.81 1524.66 Z\" fill=\"#000000\" fill-rule=\"evenodd\" fill-opacity=\"1\" /><path clip-path=\"url(#clip290)\" d=\"M1374.73 1542.64 Q1370.02 1542.64 1367.28 1546.34 Q1364.55 1550 1364.55 1556.39 Q1364.55 1562.79 1367.25 1566.48 Q1369.99 1570.14 1374.73 1570.14 Q1379.41 1570.14 1382.15 1566.45 Q1384.89 1562.76 1384.89 1556.39 Q1384.89 1550.06 1382.15 1546.37 Q1379.41 1542.64 1374.73 1542.64 M1374.73 1537.68 Q1382.37 1537.68 1386.73 1542.64 Q1391.09 1547.61 1391.09 1556.39 Q1391.09 1565.15 1386.73 1570.14 Q1382.37 1575.11 1374.73 1575.11 Q1367.06 1575.11 1362.7 1570.14 Q1358.37 1565.15 1358.37 1556.39 Q1358.37 1547.61 1362.7 1542.64 Q1367.06 1537.68 1374.73 1537.68 Z\" fill=\"#000000\" fill-rule=\"evenodd\" fill-opacity=\"1\" /><path clip-path=\"url(#clip290)\" d=\"M1430.43 1552.67 L1430.43 1574.19 L1424.58 1574.19 L1424.58 1552.86 Q1424.58 1547.8 1422.6 1545.29 Q1420.63 1542.77 1416.68 1542.77 Q1411.94 1542.77 1409.2 1545.79 Q1406.47 1548.82 1406.47 1554.04 L1406.47 1574.19 L1400.58 1574.19 L1400.58 1538.54 L1406.47 1538.54 L1406.47 1544.08 Q1408.57 1540.86 1411.4 1539.27 Q1414.26 1537.68 1417.99 1537.68 Q1424.13 1537.68 1427.28 1541.5 Q1430.43 1545.29 1430.43 1552.67 Z\" fill=\"#000000\" fill-rule=\"evenodd\" fill-opacity=\"1\" /><path clip-path=\"url(#clip290)\" d=\"M1464.84 1539.59 L1464.84 1545.13 Q1462.36 1543.85 1459.68 1543.22 Q1457.01 1542.58 1454.14 1542.58 Q1449.78 1542.58 1447.59 1543.92 Q1445.42 1545.25 1445.42 1547.93 Q1445.42 1549.96 1446.98 1551.14 Q1448.54 1552.29 1453.25 1553.34 L1455.26 1553.78 Q1461.5 1555.12 1464.11 1557.57 Q1466.75 1559.99 1466.75 1564.35 Q1466.75 1569.32 1462.8 1572.21 Q1458.89 1575.11 1452.01 1575.11 Q1449.15 1575.11 1446.03 1574.54 Q1442.94 1573.99 1439.5 1572.88 L1439.5 1566.83 Q1442.75 1568.52 1445.9 1569.38 Q1449.05 1570.21 1452.14 1570.21 Q1456.28 1570.21 1458.5 1568.81 Q1460.73 1567.37 1460.73 1564.8 Q1460.73 1562.41 1459.11 1561.14 Q1457.52 1559.86 1452.08 1558.68 L1450.04 1558.21 Q1444.6 1557.06 1442.18 1554.71 Q1439.76 1552.32 1439.76 1548.18 Q1439.76 1543.15 1443.32 1540.42 Q1446.89 1537.68 1453.44 1537.68 Q1456.69 1537.68 1459.56 1538.16 Q1462.42 1538.63 1464.84 1539.59 Z\" fill=\"#000000\" fill-rule=\"evenodd\" fill-opacity=\"1\" /><polyline clip-path=\"url(#clip292)\" style=\"stroke:#000000; stroke-linecap:round; stroke-linejoin:round; stroke-width:2; stroke-opacity:0.1; fill:none\" points=\"\n  279.866,1200.77 2352.76,1200.77 \n  \"/>\n<polyline clip-path=\"url(#clip292)\" style=\"stroke:#000000; stroke-linecap:round; stroke-linejoin:round; stroke-width:2; stroke-opacity:0.1; fill:none\" points=\"\n  279.866,943.481 2352.76,943.481 \n  \"/>\n<polyline clip-path=\"url(#clip292)\" style=\"stroke:#000000; stroke-linecap:round; stroke-linejoin:round; stroke-width:2; stroke-opacity:0.1; fill:none\" points=\"\n  279.866,686.188 2352.76,686.188 \n  \"/>\n<polyline clip-path=\"url(#clip292)\" style=\"stroke:#000000; stroke-linecap:round; stroke-linejoin:round; stroke-width:2; stroke-opacity:0.1; fill:none\" points=\"\n  279.866,428.895 2352.76,428.895 \n  \"/>\n<polyline clip-path=\"url(#clip292)\" style=\"stroke:#000000; stroke-linecap:round; stroke-linejoin:round; stroke-width:2; stroke-opacity:0.1; fill:none\" points=\"\n  279.866,171.602 2352.76,171.602 \n  \"/>\n<polyline clip-path=\"url(#clip290)\" style=\"stroke:#000000; stroke-linecap:round; stroke-linejoin:round; stroke-width:4; stroke-opacity:1; fill:none\" points=\"\n  279.866,1410.9 279.866,47.2441 \n  \"/>\n<polyline clip-path=\"url(#clip290)\" style=\"stroke:#000000; stroke-linecap:round; stroke-linejoin:round; stroke-width:4; stroke-opacity:1; fill:none\" points=\"\n  279.866,1200.77 298.764,1200.77 \n  \"/>\n<polyline clip-path=\"url(#clip290)\" style=\"stroke:#000000; stroke-linecap:round; stroke-linejoin:round; stroke-width:4; stroke-opacity:1; fill:none\" points=\"\n  279.866,943.481 298.764,943.481 \n  \"/>\n<polyline clip-path=\"url(#clip290)\" style=\"stroke:#000000; stroke-linecap:round; stroke-linejoin:round; stroke-width:4; stroke-opacity:1; fill:none\" points=\"\n  279.866,686.188 298.764,686.188 \n  \"/>\n<polyline clip-path=\"url(#clip290)\" style=\"stroke:#000000; stroke-linecap:round; stroke-linejoin:round; stroke-width:4; stroke-opacity:1; fill:none\" points=\"\n  279.866,428.895 298.764,428.895 \n  \"/>\n<polyline clip-path=\"url(#clip290)\" style=\"stroke:#000000; stroke-linecap:round; stroke-linejoin:round; stroke-width:4; stroke-opacity:1; fill:none\" points=\"\n  279.866,171.602 298.764,171.602 \n  \"/>\n<path clip-path=\"url(#clip290)\" d=\"M127.269 1186.57 Q123.658 1186.57 121.83 1190.14 Q120.024 1193.68 120.024 1200.81 Q120.024 1207.92 121.83 1211.48 Q123.658 1215.02 127.269 1215.02 Q130.904 1215.02 132.709 1211.48 Q134.538 1207.92 134.538 1200.81 Q134.538 1193.68 132.709 1190.14 Q130.904 1186.57 127.269 1186.57 M127.269 1182.87 Q133.08 1182.87 136.135 1187.48 Q139.214 1192.06 139.214 1200.81 Q139.214 1209.54 136.135 1214.14 Q133.08 1218.73 127.269 1218.73 Q121.459 1218.73 118.381 1214.14 Q115.325 1209.54 115.325 1200.81 Q115.325 1192.06 118.381 1187.48 Q121.459 1182.87 127.269 1182.87 Z\" fill=\"#000000\" fill-rule=\"evenodd\" fill-opacity=\"1\" /><path clip-path=\"url(#clip290)\" d=\"M147.431 1212.17 L152.316 1212.17 L152.316 1218.05 L147.431 1218.05 L147.431 1212.17 Z\" fill=\"#000000\" fill-rule=\"evenodd\" fill-opacity=\"1\" /><path clip-path=\"url(#clip290)\" d=\"M162.64 1217.34 L162.64 1213.08 Q164.399 1213.91 166.204 1214.35 Q168.01 1214.79 169.746 1214.79 Q174.376 1214.79 176.806 1211.69 Q179.26 1208.56 179.607 1202.22 Q178.264 1204.21 176.204 1205.28 Q174.144 1206.34 171.644 1206.34 Q166.459 1206.34 163.427 1203.22 Q160.417 1200.07 160.417 1194.63 Q160.417 1189.3 163.565 1186.09 Q166.714 1182.87 171.945 1182.87 Q177.94 1182.87 181.089 1187.48 Q184.26 1192.06 184.26 1200.81 Q184.26 1208.98 180.371 1213.86 Q176.505 1218.73 169.954 1218.73 Q168.195 1218.73 166.39 1218.38 Q164.584 1218.03 162.64 1217.34 M171.945 1202.68 Q175.093 1202.68 176.922 1200.53 Q178.774 1198.38 178.774 1194.63 Q178.774 1190.9 176.922 1188.75 Q175.093 1186.57 171.945 1186.57 Q168.797 1186.57 166.945 1188.75 Q165.116 1190.9 165.116 1194.63 Q165.116 1198.38 166.945 1200.53 Q168.797 1202.68 171.945 1202.68 Z\" fill=\"#000000\" fill-rule=\"evenodd\" fill-opacity=\"1\" /><path clip-path=\"url(#clip290)\" d=\"M202.662 1201.64 Q199.329 1201.64 197.408 1203.42 Q195.51 1205.21 195.51 1208.33 Q195.51 1211.46 197.408 1213.24 Q199.329 1215.02 202.662 1215.02 Q205.996 1215.02 207.917 1213.24 Q209.838 1211.43 209.838 1208.33 Q209.838 1205.21 207.917 1203.42 Q206.019 1201.64 202.662 1201.64 M197.987 1199.65 Q194.977 1198.91 193.288 1196.85 Q191.621 1194.79 191.621 1191.83 Q191.621 1187.68 194.561 1185.28 Q197.524 1182.87 202.662 1182.87 Q207.824 1182.87 210.764 1185.28 Q213.704 1187.68 213.704 1191.83 Q213.704 1194.79 212.014 1196.85 Q210.348 1198.91 207.362 1199.65 Q210.741 1200.44 212.616 1202.73 Q214.514 1205.02 214.514 1208.33 Q214.514 1213.36 211.436 1216.04 Q208.38 1218.73 202.662 1218.73 Q196.945 1218.73 193.866 1216.04 Q190.811 1213.36 190.811 1208.33 Q190.811 1205.02 192.709 1202.73 Q194.607 1200.44 197.987 1199.65 M196.274 1192.27 Q196.274 1194.95 197.94 1196.46 Q199.63 1197.96 202.662 1197.96 Q205.672 1197.96 207.362 1196.46 Q209.074 1194.95 209.074 1192.27 Q209.074 1189.58 207.362 1188.08 Q205.672 1186.57 202.662 1186.57 Q199.63 1186.57 197.94 1188.08 Q196.274 1189.58 196.274 1192.27 Z\" fill=\"#000000\" fill-rule=\"evenodd\" fill-opacity=\"1\" /><path clip-path=\"url(#clip290)\" d=\"M221.644 1183.49 L243.866 1183.49 L243.866 1185.48 L231.32 1218.05 L226.435 1218.05 L238.241 1187.43 L221.644 1187.43 L221.644 1183.49 Z\" fill=\"#000000\" fill-rule=\"evenodd\" fill-opacity=\"1\" /><path clip-path=\"url(#clip290)\" d=\"M126.367 929.28 Q122.755 929.28 120.927 932.845 Q119.121 936.386 119.121 943.516 Q119.121 950.622 120.927 954.187 Q122.755 957.729 126.367 957.729 Q130.001 957.729 131.806 954.187 Q133.635 950.622 133.635 943.516 Q133.635 936.386 131.806 932.845 Q130.001 929.28 126.367 929.28 M126.367 925.576 Q132.177 925.576 135.232 930.183 Q138.311 934.766 138.311 943.516 Q138.311 952.243 135.232 956.849 Q132.177 961.432 126.367 961.432 Q120.556 961.432 117.478 956.849 Q114.422 952.243 114.422 943.516 Q114.422 934.766 117.478 930.183 Q120.556 925.576 126.367 925.576 Z\" fill=\"#000000\" fill-rule=\"evenodd\" fill-opacity=\"1\" /><path clip-path=\"url(#clip290)\" d=\"M146.529 954.882 L151.413 954.882 L151.413 960.761 L146.529 960.761 L146.529 954.882 Z\" fill=\"#000000\" fill-rule=\"evenodd\" fill-opacity=\"1\" /><path clip-path=\"url(#clip290)\" d=\"M161.737 960.044 L161.737 955.784 Q163.496 956.618 165.302 957.057 Q167.107 957.497 168.843 957.497 Q173.473 957.497 175.903 954.395 Q178.357 951.27 178.704 944.928 Q177.362 946.919 175.301 947.983 Q173.241 949.048 170.741 949.048 Q165.556 949.048 162.524 945.923 Q159.515 942.775 159.515 937.335 Q159.515 932.011 162.663 928.794 Q165.811 925.576 171.042 925.576 Q177.038 925.576 180.186 930.183 Q183.357 934.766 183.357 943.516 Q183.357 951.687 179.468 956.571 Q175.602 961.432 169.052 961.432 Q167.292 961.432 165.487 961.085 Q163.681 960.738 161.737 960.044 M171.042 945.391 Q174.19 945.391 176.019 943.238 Q177.871 941.085 177.871 937.335 Q177.871 933.609 176.019 931.456 Q174.19 929.28 171.042 929.28 Q167.894 929.28 166.042 931.456 Q164.214 933.609 164.214 937.335 Q164.214 941.085 166.042 943.238 Q167.894 945.391 171.042 945.391 Z\" fill=\"#000000\" fill-rule=\"evenodd\" fill-opacity=\"1\" /><path clip-path=\"url(#clip290)\" d=\"M191.899 960.044 L191.899 955.784 Q193.658 956.618 195.463 957.057 Q197.269 957.497 199.005 957.497 Q203.635 957.497 206.065 954.395 Q208.519 951.27 208.866 944.928 Q207.524 946.919 205.463 947.983 Q203.403 949.048 200.903 949.048 Q195.718 949.048 192.686 945.923 Q189.676 942.775 189.676 937.335 Q189.676 932.011 192.825 928.794 Q195.973 925.576 201.204 925.576 Q207.199 925.576 210.348 930.183 Q213.519 934.766 213.519 943.516 Q213.519 951.687 209.63 956.571 Q205.764 961.432 199.213 961.432 Q197.454 961.432 195.649 961.085 Q193.843 960.738 191.899 960.044 M201.204 945.391 Q204.352 945.391 206.181 943.238 Q208.033 941.085 208.033 937.335 Q208.033 933.609 206.181 931.456 Q204.352 929.28 201.204 929.28 Q198.056 929.28 196.204 931.456 Q194.375 933.609 194.375 937.335 Q194.375 941.085 196.204 943.238 Q198.056 945.391 201.204 945.391 Z\" fill=\"#000000\" fill-rule=\"evenodd\" fill-opacity=\"1\" /><path clip-path=\"url(#clip290)\" d=\"M231.922 929.28 Q228.31 929.28 226.482 932.845 Q224.676 936.386 224.676 943.516 Q224.676 950.622 226.482 954.187 Q228.31 957.729 231.922 957.729 Q235.556 957.729 237.361 954.187 Q239.19 950.622 239.19 943.516 Q239.19 936.386 237.361 932.845 Q235.556 929.28 231.922 929.28 M231.922 925.576 Q237.732 925.576 240.787 930.183 Q243.866 934.766 243.866 943.516 Q243.866 952.243 240.787 956.849 Q237.732 961.432 231.922 961.432 Q226.111 961.432 223.033 956.849 Q219.977 952.243 219.977 943.516 Q219.977 934.766 223.033 930.183 Q226.111 925.576 231.922 925.576 Z\" fill=\"#000000\" fill-rule=\"evenodd\" fill-opacity=\"1\" /><path clip-path=\"url(#clip290)\" d=\"M127.015 671.987 Q123.404 671.987 121.575 675.552 Q119.769 679.093 119.769 686.223 Q119.769 693.329 121.575 696.894 Q123.404 700.436 127.015 700.436 Q130.649 700.436 132.455 696.894 Q134.283 693.329 134.283 686.223 Q134.283 679.093 132.455 675.552 Q130.649 671.987 127.015 671.987 M127.015 668.283 Q132.825 668.283 135.88 672.89 Q138.959 677.473 138.959 686.223 Q138.959 694.95 135.88 699.556 Q132.825 704.14 127.015 704.14 Q121.205 704.14 118.126 699.556 Q115.07 694.95 115.07 686.223 Q115.07 677.473 118.126 672.89 Q121.205 668.283 127.015 668.283 Z\" fill=\"#000000\" fill-rule=\"evenodd\" fill-opacity=\"1\" /><path clip-path=\"url(#clip290)\" d=\"M147.177 697.589 L152.061 697.589 L152.061 703.468 L147.177 703.468 L147.177 697.589 Z\" fill=\"#000000\" fill-rule=\"evenodd\" fill-opacity=\"1\" /><path clip-path=\"url(#clip290)\" d=\"M162.385 702.751 L162.385 698.491 Q164.144 699.325 165.95 699.765 Q167.755 700.204 169.491 700.204 Q174.121 700.204 176.551 697.103 Q179.005 693.978 179.352 687.635 Q178.01 689.626 175.95 690.691 Q173.889 691.755 171.389 691.755 Q166.204 691.755 163.172 688.63 Q160.163 685.482 160.163 680.042 Q160.163 674.718 163.311 671.501 Q166.459 668.283 171.69 668.283 Q177.686 668.283 180.834 672.89 Q184.005 677.473 184.005 686.223 Q184.005 694.394 180.116 699.278 Q176.251 704.14 169.7 704.14 Q167.94 704.14 166.135 703.792 Q164.329 703.445 162.385 702.751 M171.69 688.098 Q174.839 688.098 176.667 685.945 Q178.519 683.792 178.519 680.042 Q178.519 676.316 176.667 674.163 Q174.839 671.987 171.69 671.987 Q168.542 671.987 166.69 674.163 Q164.862 676.316 164.862 680.042 Q164.862 683.792 166.69 685.945 Q168.542 688.098 171.69 688.098 Z\" fill=\"#000000\" fill-rule=\"evenodd\" fill-opacity=\"1\" /><path clip-path=\"url(#clip290)\" d=\"M192.547 702.751 L192.547 698.491 Q194.306 699.325 196.112 699.765 Q197.917 700.204 199.653 700.204 Q204.283 700.204 206.713 697.103 Q209.167 693.978 209.514 687.635 Q208.172 689.626 206.112 690.691 Q204.051 691.755 201.551 691.755 Q196.366 691.755 193.334 688.63 Q190.325 685.482 190.325 680.042 Q190.325 674.718 193.473 671.501 Q196.621 668.283 201.852 668.283 Q207.848 668.283 210.996 672.89 Q214.167 677.473 214.167 686.223 Q214.167 694.394 210.278 699.278 Q206.412 704.14 199.862 704.14 Q198.102 704.14 196.297 703.792 Q194.491 703.445 192.547 702.751 M201.852 688.098 Q205 688.098 206.829 685.945 Q208.681 683.792 208.681 680.042 Q208.681 676.316 206.829 674.163 Q205 671.987 201.852 671.987 Q198.704 671.987 196.852 674.163 Q195.024 676.316 195.024 680.042 Q195.024 683.792 196.852 685.945 Q198.704 688.098 201.852 688.098 Z\" fill=\"#000000\" fill-rule=\"evenodd\" fill-opacity=\"1\" /><path clip-path=\"url(#clip290)\" d=\"M236.736 684.834 Q240.093 685.552 241.968 687.82 Q243.866 690.089 243.866 693.422 Q243.866 698.538 240.347 701.339 Q236.829 704.14 230.347 704.14 Q228.172 704.14 225.857 703.7 Q223.565 703.283 221.111 702.427 L221.111 697.913 Q223.056 699.047 225.371 699.626 Q227.685 700.204 230.209 700.204 Q234.607 700.204 236.898 698.468 Q239.213 696.732 239.213 693.422 Q239.213 690.366 237.06 688.653 Q234.931 686.917 231.111 686.917 L227.084 686.917 L227.084 683.075 L231.297 683.075 Q234.746 683.075 236.574 681.709 Q238.403 680.32 238.403 677.728 Q238.403 675.066 236.505 673.654 Q234.63 672.218 231.111 672.218 Q229.19 672.218 226.991 672.635 Q224.792 673.052 222.153 673.931 L222.153 669.765 Q224.815 669.024 227.13 668.654 Q229.468 668.283 231.528 668.283 Q236.852 668.283 239.954 670.714 Q243.056 673.121 243.056 677.242 Q243.056 680.112 241.412 682.103 Q239.769 684.07 236.736 684.834 Z\" fill=\"#000000\" fill-rule=\"evenodd\" fill-opacity=\"1\" /><path clip-path=\"url(#clip290)\" d=\"M126.205 414.694 Q122.593 414.694 120.765 418.259 Q118.959 421.8 118.959 428.93 Q118.959 436.036 120.765 439.601 Q122.593 443.143 126.205 443.143 Q129.839 443.143 131.644 439.601 Q133.473 436.036 133.473 428.93 Q133.473 421.8 131.644 418.259 Q129.839 414.694 126.205 414.694 M126.205 410.99 Q132.015 410.99 135.07 415.597 Q138.149 420.18 138.149 428.93 Q138.149 437.657 135.07 442.263 Q132.015 446.847 126.205 446.847 Q120.394 446.847 117.316 442.263 Q114.26 437.657 114.26 428.93 Q114.26 420.18 117.316 415.597 Q120.394 410.99 126.205 410.99 Z\" fill=\"#000000\" fill-rule=\"evenodd\" fill-opacity=\"1\" /><path clip-path=\"url(#clip290)\" d=\"M146.366 440.296 L151.251 440.296 L151.251 446.175 L146.366 446.175 L146.366 440.296 Z\" fill=\"#000000\" fill-rule=\"evenodd\" fill-opacity=\"1\" /><path clip-path=\"url(#clip290)\" d=\"M161.575 445.458 L161.575 441.198 Q163.334 442.032 165.14 442.472 Q166.945 442.911 168.681 442.911 Q173.311 442.911 175.741 439.81 Q178.195 436.685 178.542 430.342 Q177.2 432.333 175.139 433.398 Q173.079 434.462 170.579 434.462 Q165.394 434.462 162.362 431.337 Q159.353 428.189 159.353 422.749 Q159.353 417.425 162.501 414.208 Q165.649 410.99 170.88 410.99 Q176.876 410.99 180.024 415.597 Q183.195 420.18 183.195 428.93 Q183.195 437.101 179.306 441.985 Q175.44 446.847 168.889 446.847 Q167.13 446.847 165.325 446.499 Q163.519 446.152 161.575 445.458 M170.88 430.805 Q174.028 430.805 175.857 428.652 Q177.709 426.499 177.709 422.749 Q177.709 419.023 175.857 416.87 Q174.028 414.694 170.88 414.694 Q167.732 414.694 165.88 416.87 Q164.052 419.023 164.052 422.749 Q164.052 426.499 165.88 428.652 Q167.732 430.805 170.88 430.805 Z\" fill=\"#000000\" fill-rule=\"evenodd\" fill-opacity=\"1\" /><path clip-path=\"url(#clip290)\" d=\"M191.737 445.458 L191.737 441.198 Q193.496 442.032 195.301 442.472 Q197.107 442.911 198.843 442.911 Q203.473 442.911 205.903 439.81 Q208.357 436.685 208.704 430.342 Q207.362 432.333 205.301 433.398 Q203.241 434.462 200.741 434.462 Q195.556 434.462 192.524 431.337 Q189.514 428.189 189.514 422.749 Q189.514 417.425 192.663 414.208 Q195.811 410.99 201.042 410.99 Q207.037 410.99 210.186 415.597 Q213.357 420.18 213.357 428.93 Q213.357 437.101 209.468 441.985 Q205.602 446.847 199.051 446.847 Q197.292 446.847 195.487 446.499 Q193.681 446.152 191.737 445.458 M201.042 430.805 Q204.19 430.805 206.019 428.652 Q207.871 426.499 207.871 422.749 Q207.871 419.023 206.019 416.87 Q204.19 414.694 201.042 414.694 Q197.894 414.694 196.042 416.87 Q194.213 419.023 194.213 422.749 Q194.213 426.499 196.042 428.652 Q197.894 430.805 201.042 430.805 Z\" fill=\"#000000\" fill-rule=\"evenodd\" fill-opacity=\"1\" /><path clip-path=\"url(#clip290)\" d=\"M232.338 427.032 Q229.19 427.032 227.338 429.185 Q225.51 431.337 225.51 435.087 Q225.51 438.814 227.338 440.99 Q229.19 443.143 232.338 443.143 Q235.486 443.143 237.315 440.99 Q239.167 438.814 239.167 435.087 Q239.167 431.337 237.315 429.185 Q235.486 427.032 232.338 427.032 M241.621 412.379 L241.621 416.638 Q239.861 415.805 238.056 415.365 Q236.273 414.925 234.514 414.925 Q229.885 414.925 227.431 418.05 Q225 421.175 224.653 427.495 Q226.019 425.481 228.079 424.416 Q230.139 423.328 232.616 423.328 Q237.824 423.328 240.834 426.499 Q243.866 429.648 243.866 435.087 Q243.866 440.411 240.718 443.629 Q237.57 446.847 232.338 446.847 Q226.343 446.847 223.172 442.263 Q220 437.657 220 428.93 Q220 420.736 223.889 415.875 Q227.778 410.99 234.329 410.99 Q236.088 410.99 237.871 411.338 Q239.676 411.685 241.621 412.379 Z\" fill=\"#000000\" fill-rule=\"evenodd\" fill-opacity=\"1\" /><path clip-path=\"url(#clip290)\" d=\"M126.552 157.401 Q122.941 157.401 121.112 160.966 Q119.306 164.507 119.306 171.637 Q119.306 178.744 121.112 182.308 Q122.941 185.85 126.552 185.85 Q130.186 185.85 131.992 182.308 Q133.82 178.744 133.82 171.637 Q133.82 164.507 131.992 160.966 Q130.186 157.401 126.552 157.401 M126.552 153.697 Q132.362 153.697 135.417 158.304 Q138.496 162.887 138.496 171.637 Q138.496 180.364 135.417 184.97 Q132.362 189.554 126.552 189.554 Q120.742 189.554 117.663 184.97 Q114.607 180.364 114.607 171.637 Q114.607 162.887 117.663 158.304 Q120.742 153.697 126.552 153.697 Z\" fill=\"#000000\" fill-rule=\"evenodd\" fill-opacity=\"1\" /><path clip-path=\"url(#clip290)\" d=\"M146.714 183.003 L151.598 183.003 L151.598 188.882 L146.714 188.882 L146.714 183.003 Z\" fill=\"#000000\" fill-rule=\"evenodd\" fill-opacity=\"1\" /><path clip-path=\"url(#clip290)\" d=\"M161.922 188.165 L161.922 183.906 Q163.681 184.739 165.487 185.179 Q167.292 185.618 169.028 185.618 Q173.658 185.618 176.089 182.517 Q178.542 179.392 178.889 173.049 Q177.547 175.04 175.487 176.105 Q173.427 177.169 170.927 177.169 Q165.741 177.169 162.709 174.044 Q159.7 170.896 159.7 165.457 Q159.7 160.132 162.848 156.915 Q165.996 153.697 171.227 153.697 Q177.223 153.697 180.371 158.304 Q183.542 162.887 183.542 171.637 Q183.542 179.808 179.653 184.693 Q175.788 189.554 169.237 189.554 Q167.477 189.554 165.672 189.206 Q163.866 188.859 161.922 188.165 M171.227 173.512 Q174.376 173.512 176.204 171.359 Q178.056 169.207 178.056 165.457 Q178.056 161.73 176.204 159.577 Q174.376 157.401 171.227 157.401 Q168.079 157.401 166.227 159.577 Q164.399 161.73 164.399 165.457 Q164.399 169.207 166.227 171.359 Q168.079 173.512 171.227 173.512 Z\" fill=\"#000000\" fill-rule=\"evenodd\" fill-opacity=\"1\" /><path clip-path=\"url(#clip290)\" d=\"M192.084 188.165 L192.084 183.906 Q193.843 184.739 195.649 185.179 Q197.454 185.618 199.19 185.618 Q203.82 185.618 206.25 182.517 Q208.704 179.392 209.051 173.049 Q207.709 175.04 205.649 176.105 Q203.588 177.169 201.088 177.169 Q195.903 177.169 192.871 174.044 Q189.862 170.896 189.862 165.457 Q189.862 160.132 193.01 156.915 Q196.158 153.697 201.389 153.697 Q207.385 153.697 210.533 158.304 Q213.704 162.887 213.704 171.637 Q213.704 179.808 209.815 184.693 Q205.949 189.554 199.399 189.554 Q197.639 189.554 195.834 189.206 Q194.028 188.859 192.084 188.165 M201.389 173.512 Q204.537 173.512 206.366 171.359 Q208.218 169.207 208.218 165.457 Q208.218 161.73 206.366 159.577 Q204.537 157.401 201.389 157.401 Q198.241 157.401 196.389 159.577 Q194.561 161.73 194.561 165.457 Q194.561 169.207 196.389 171.359 Q198.241 173.512 201.389 173.512 Z\" fill=\"#000000\" fill-rule=\"evenodd\" fill-opacity=\"1\" /><path clip-path=\"url(#clip290)\" d=\"M222.246 188.165 L222.246 183.906 Q224.005 184.739 225.81 185.179 Q227.616 185.618 229.352 185.618 Q233.982 185.618 236.412 182.517 Q238.866 179.392 239.213 173.049 Q237.871 175.04 235.81 176.105 Q233.75 177.169 231.25 177.169 Q226.065 177.169 223.033 174.044 Q220.023 170.896 220.023 165.457 Q220.023 160.132 223.172 156.915 Q226.32 153.697 231.551 153.697 Q237.547 153.697 240.695 158.304 Q243.866 162.887 243.866 171.637 Q243.866 179.808 239.977 184.693 Q236.111 189.554 229.56 189.554 Q227.801 189.554 225.996 189.206 Q224.19 188.859 222.246 188.165 M231.551 173.512 Q234.699 173.512 236.528 171.359 Q238.38 169.207 238.38 165.457 Q238.38 161.73 236.528 159.577 Q234.699 157.401 231.551 157.401 Q228.403 157.401 226.551 159.577 Q224.723 161.73 224.723 165.457 Q224.723 169.207 226.551 171.359 Q228.403 173.512 231.551 173.512 Z\" fill=\"#000000\" fill-rule=\"evenodd\" fill-opacity=\"1\" /><path clip-path=\"url(#clip290)\" d=\"M18.0438 910.891 L24.314 910.891 Q22.5634 914.551 21.704 917.798 Q20.8447 921.044 20.8447 924.068 Q20.8447 929.32 22.8817 932.184 Q24.9187 935.017 28.6745 935.017 Q31.8255 935.017 33.4488 933.139 Q35.0402 931.229 36.0269 925.946 L36.8226 922.063 Q38.1912 914.869 41.6605 911.464 Q45.098 908.026 50.8908 908.026 Q57.7976 908.026 61.3624 912.673 Q64.9272 917.288 64.9272 926.232 Q64.9272 929.606 64.1633 933.425 Q63.3994 937.213 61.9035 941.287 L55.2831 941.287 Q57.4793 937.372 58.5933 933.616 Q59.7073 929.861 59.7073 926.232 Q59.7073 920.726 57.543 917.734 Q55.3786 914.742 51.3682 914.742 Q47.8671 914.742 45.8937 916.906 Q43.9204 919.039 42.9337 923.941 L42.1698 927.855 Q40.7375 935.049 37.682 938.263 Q34.6264 941.478 29.1837 941.478 Q22.8817 941.478 19.2532 937.054 Q15.6248 932.598 15.6248 924.8 Q15.6248 921.458 16.2295 917.989 Q16.8343 914.519 18.0438 910.891 Z\" fill=\"#000000\" fill-rule=\"evenodd\" fill-opacity=\"1\" /><path clip-path=\"url(#clip290)\" d=\"M49.9359 898.86 L28.3562 898.86 L28.3562 893.003 L49.7131 893.003 Q54.7739 893.003 57.3202 891.03 Q59.8346 889.056 59.8346 885.11 Q59.8346 880.367 56.8109 877.63 Q53.7872 874.861 48.5673 874.861 L28.3562 874.861 L28.3562 869.005 L64.0042 869.005 L64.0042 874.861 L58.5296 874.861 Q61.7762 876.993 63.3676 879.826 Q64.9272 882.627 64.9272 886.351 Q64.9272 892.494 61.1078 895.677 Q57.2883 898.86 49.9359 898.86 M27.4968 884.123 L27.4968 884.123 Z\" fill=\"#000000\" fill-rule=\"evenodd\" fill-opacity=\"1\" /><path clip-path=\"url(#clip290)\" d=\"M29.7248 831.288 L35.1993 831.288 Q33.8307 833.77 33.1623 836.285 Q32.4621 838.767 32.4621 841.314 Q32.4621 847.011 36.0905 850.162 Q39.6872 853.313 46.212 853.313 Q52.7369 853.313 56.3653 850.162 Q59.9619 847.011 59.9619 841.314 Q59.9619 838.767 59.2935 836.285 Q58.5933 833.77 57.2247 831.288 L62.6355 831.288 Q63.7814 833.738 64.3543 836.38 Q64.9272 838.99 64.9272 841.95 Q64.9272 850.003 59.8664 854.745 Q54.8057 859.488 46.212 859.488 Q37.491 859.488 32.4939 854.714 Q27.4968 849.907 27.4968 841.568 Q27.4968 838.863 28.0697 836.285 Q28.6108 833.707 29.7248 831.288 Z\" fill=\"#000000\" fill-rule=\"evenodd\" fill-opacity=\"1\" /><path clip-path=\"url(#clip290)\" d=\"M29.7248 795.449 L35.1993 795.449 Q33.8307 797.931 33.1623 800.446 Q32.4621 802.928 32.4621 805.475 Q32.4621 811.172 36.0905 814.323 Q39.6872 817.474 46.212 817.474 Q52.7369 817.474 56.3653 814.323 Q59.9619 811.172 59.9619 805.475 Q59.9619 802.928 59.2935 800.446 Q58.5933 797.931 57.2247 795.449 L62.6355 795.449 Q63.7814 797.9 64.3543 800.541 Q64.9272 803.151 64.9272 806.111 Q64.9272 814.164 59.8664 818.906 Q54.8057 823.649 46.212 823.649 Q37.491 823.649 32.4939 818.875 Q27.4968 814.068 27.4968 805.729 Q27.4968 803.024 28.0697 800.446 Q28.6108 797.868 29.7248 795.449 Z\" fill=\"#000000\" fill-rule=\"evenodd\" fill-opacity=\"1\" /><path clip-path=\"url(#clip290)\" d=\"M44.7161 754.772 L47.5806 754.772 L47.5806 781.699 Q53.6281 781.317 56.8109 778.07 Q59.9619 774.792 59.9619 768.967 Q59.9619 765.594 59.1344 762.443 Q58.3069 759.26 56.6518 756.141 L62.1899 756.141 Q63.5267 759.292 64.227 762.602 Q64.9272 765.912 64.9272 769.318 Q64.9272 777.848 59.9619 782.845 Q54.9967 787.81 46.5303 787.81 Q37.7774 787.81 32.6531 783.099 Q27.4968 778.357 27.4968 770.336 Q27.4968 763.143 32.1438 758.973 Q36.7589 754.772 44.7161 754.772 M42.9973 760.628 Q38.1912 760.692 35.3266 763.334 Q32.4621 765.944 32.4621 770.272 Q32.4621 775.174 35.2312 778.134 Q38.0002 781.062 43.0292 781.508 L42.9973 760.628 Z\" fill=\"#000000\" fill-rule=\"evenodd\" fill-opacity=\"1\" /><path clip-path=\"url(#clip290)\" d=\"M29.4065 722.434 L34.9447 722.434 Q33.6716 724.917 33.035 727.59 Q32.3984 730.264 32.3984 733.129 Q32.3984 737.489 33.7352 739.685 Q35.072 741.85 37.7456 741.85 Q39.7826 741.85 40.9603 740.29 Q42.1061 738.73 43.1565 734.02 L43.6021 732.015 Q44.9389 725.776 47.3897 723.166 Q49.8086 720.524 54.1691 720.524 Q59.1344 720.524 62.0308 724.471 Q64.9272 728.386 64.9272 735.261 Q64.9272 738.126 64.3543 741.245 Q63.8132 744.332 62.6992 747.77 L56.6518 747.77 Q58.3387 744.523 59.198 741.372 Q60.0256 738.221 60.0256 735.134 Q60.0256 730.996 58.6251 728.768 Q57.1929 726.54 54.6147 726.54 Q52.2276 726.54 50.9545 728.163 Q49.6813 729.755 48.5037 735.197 L48.0262 737.234 Q46.8804 742.677 44.5251 745.096 Q42.138 747.515 38.0002 747.515 Q32.9713 747.515 30.2341 743.95 Q27.4968 740.385 27.4968 733.829 Q27.4968 730.582 27.9743 727.718 Q28.4517 724.853 29.4065 722.434 Z\" fill=\"#000000\" fill-rule=\"evenodd\" fill-opacity=\"1\" /><path clip-path=\"url(#clip290)\" d=\"M29.4065 688.473 L34.9447 688.473 Q33.6716 690.956 33.035 693.629 Q32.3984 696.303 32.3984 699.167 Q32.3984 703.528 33.7352 705.724 Q35.072 707.888 37.7456 707.888 Q39.7826 707.888 40.9603 706.329 Q42.1061 704.769 43.1565 700.059 L43.6021 698.053 Q44.9389 691.815 47.3897 689.205 Q49.8086 686.563 54.1691 686.563 Q59.1344 686.563 62.0308 690.51 Q64.9272 694.425 64.9272 701.3 Q64.9272 704.165 64.3543 707.284 Q63.8132 710.371 62.6992 713.809 L56.6518 713.809 Q58.3387 710.562 59.198 707.411 Q60.0256 704.26 60.0256 701.173 Q60.0256 697.035 58.6251 694.807 Q57.1929 692.579 54.6147 692.579 Q52.2276 692.579 50.9545 694.202 Q49.6813 695.794 48.5037 701.236 L48.0262 703.273 Q46.8804 708.716 44.5251 711.135 Q42.138 713.554 38.0002 713.554 Q32.9713 713.554 30.2341 709.989 Q27.4968 706.424 27.4968 699.868 Q27.4968 696.621 27.9743 693.757 Q28.4517 690.892 29.4065 688.473 Z\" fill=\"#000000\" fill-rule=\"evenodd\" fill-opacity=\"1\" /><path clip-path=\"url(#clip290)\" d=\"M41.7242 633.728 Q42.4244 631.659 44.7161 629.718 Q47.0077 627.744 51.0181 625.771 L64.0042 619.246 L64.0042 626.153 L51.8138 632.232 Q47.0395 634.587 45.48 636.815 Q43.9204 639.012 43.9204 642.831 L43.9204 649.833 L64.0042 649.833 L64.0042 656.263 L16.4842 656.263 L16.4842 641.749 Q16.4842 633.601 19.8898 629.59 Q23.2955 625.58 30.1704 625.58 Q34.6582 625.58 37.6183 627.681 Q40.5784 629.749 41.7242 633.728 M21.7677 649.833 L38.6368 649.833 L38.6368 641.749 Q38.6368 637.102 36.5043 634.747 Q34.34 632.359 30.1704 632.359 Q26.0009 632.359 23.9002 634.747 Q21.7677 637.102 21.7677 641.749 L21.7677 649.833 Z\" fill=\"#000000\" fill-rule=\"evenodd\" fill-opacity=\"1\" /><path clip-path=\"url(#clip290)\" d=\"M46.0847 596.457 Q46.0847 603.555 47.7079 606.292 Q49.3312 609.029 53.2461 609.029 Q56.3653 609.029 58.2114 606.992 Q60.0256 604.923 60.0256 601.39 Q60.0256 596.52 56.5881 593.592 Q53.1188 590.632 47.3897 590.632 L46.0847 590.632 L46.0847 596.457 M43.6657 584.776 L64.0042 584.776 L64.0042 590.632 L58.5933 590.632 Q61.8398 592.637 63.3994 595.629 Q64.9272 598.621 64.9272 602.95 Q64.9272 608.424 61.8716 611.671 Q58.7843 614.886 53.6281 614.886 Q47.6125 614.886 44.5569 610.875 Q41.5014 606.833 41.5014 598.844 L41.5014 590.632 L40.9285 590.632 Q36.8862 590.632 34.6901 593.306 Q32.4621 595.948 32.4621 600.754 Q32.4621 603.809 33.1941 606.706 Q33.9262 609.602 35.3903 612.276 L29.9795 612.276 Q28.7381 609.061 28.1334 606.037 Q27.4968 603.013 27.4968 600.149 Q27.4968 592.415 31.5072 588.595 Q35.5176 584.776 43.6657 584.776 Z\" fill=\"#000000\" fill-rule=\"evenodd\" fill-opacity=\"1\" /><path clip-path=\"url(#clip290)\" d=\"M18.2347 566.92 L28.3562 566.92 L28.3562 554.857 L32.9077 554.857 L32.9077 566.92 L52.2594 566.92 Q56.6199 566.92 57.8613 565.742 Q59.1026 564.533 59.1026 560.872 L59.1026 554.857 L64.0042 554.857 L64.0042 560.872 Q64.0042 567.652 61.4897 570.23 Q58.9434 572.808 52.2594 572.808 L32.9077 572.808 L32.9077 577.105 L28.3562 577.105 L28.3562 572.808 L18.2347 572.808 L18.2347 566.92 Z\" fill=\"#000000\" fill-rule=\"evenodd\" fill-opacity=\"1\" /><path clip-path=\"url(#clip290)\" d=\"M44.7161 516.663 L47.5806 516.663 L47.5806 543.59 Q53.6281 543.208 56.8109 539.961 Q59.9619 536.683 59.9619 530.858 Q59.9619 527.484 59.1344 524.333 Q58.3069 521.15 56.6518 518.031 L62.1899 518.031 Q63.5267 521.182 64.227 524.492 Q64.9272 527.803 64.9272 531.208 Q64.9272 539.738 59.9619 544.735 Q54.9967 549.701 46.5303 549.701 Q37.7774 549.701 32.6531 544.99 Q27.4968 540.248 27.4968 532.227 Q27.4968 525.034 32.1438 520.864 Q36.7589 516.663 44.7161 516.663 M42.9973 522.519 Q38.1912 522.583 35.3266 525.225 Q32.4621 527.834 32.4621 532.163 Q32.4621 537.065 35.2312 540.025 Q38.0002 542.953 43.0292 543.399 L42.9973 522.519 Z\" fill=\"#000000\" fill-rule=\"evenodd\" fill-opacity=\"1\" /><polyline clip-path=\"url(#clip292)\" style=\"stroke:#009af9; stroke-linecap:round; stroke-linejoin:round; stroke-width:4; stroke-opacity:1; fill:none\" points=\"\n  338.533,85.838 372.841,85.838 407.149,514.66 441.457,85.838 475.765,85.838 510.073,85.838 544.381,85.838 578.689,85.838 612.997,85.838 647.305,85.838 \n  681.613,85.838 715.921,85.838 750.229,85.838 784.537,85.838 818.845,85.838 853.153,85.838 887.461,85.838 921.769,85.838 956.077,85.838 990.385,85.838 \n  1024.69,85.838 1059,85.838 1093.31,85.838 1127.62,85.838 1161.92,85.838 1196.23,1372.3 1230.54,85.838 1264.85,85.838 1299.16,85.838 1333.46,85.838 \n  1367.77,85.838 1402.08,85.838 1436.39,85.838 1470.7,85.838 1505,85.838 1539.31,85.838 1573.62,514.66 1607.93,85.838 1642.24,85.838 1676.55,85.838 \n  1710.85,85.838 1745.16,514.66 1779.47,85.838 1813.78,85.838 1848.09,85.838 1882.39,85.838 1916.7,85.838 1951.01,85.838 1985.32,85.838 2019.63,85.838 \n  2053.93,85.838 2088.24,85.838 2122.55,85.838 2156.86,85.838 2191.17,85.838 2225.47,85.838 2259.78,85.838 2294.09,514.66 \n  \"/>\n</svg>\n"
     },
     "execution_count": 45,
     "metadata": {},
     "output_type": "execute_result"
    }
   ],
   "source": [
    "plot(iterations, success_rate, xlabel=\"Iterations\", ylabel=\"Success Rate\", legend = false, xformatter = :scientific)"
   ]
  },
  {
   "cell_type": "code",
   "execution_count": 46,
   "id": "4e57d828",
   "metadata": {},
   "outputs": [
    {
     "data": {
      "text/plain": [
       "\"/home/larissa/Documents/Projects/ADLR/ADLR_project/src/3d/plots/slow/success_rate.svg\""
      ]
     },
     "execution_count": 46,
     "metadata": {},
     "output_type": "execute_result"
    }
   ],
   "source": [
    "savefig(fig_path * \"success_rate.svg\")"
   ]
  },
  {
   "cell_type": "code",
   "execution_count": 47,
   "id": "480d67d7",
   "metadata": {
    "scrolled": false
   },
   "outputs": [
    {
     "data": {
      "image/svg+xml": "<?xml version=\"1.0\" encoding=\"utf-8\"?>\n<svg xmlns=\"http://www.w3.org/2000/svg\" xmlns:xlink=\"http://www.w3.org/1999/xlink\" width=\"600\" height=\"400\" viewBox=\"0 0 2400 1600\">\n<defs>\n  <clipPath id=\"clip370\">\n    <rect x=\"0\" y=\"0\" width=\"2400\" height=\"1600\"/>\n  </clipPath>\n</defs>\n<path clip-path=\"url(#clip370)\" d=\"\nM0 1600 L2400 1600 L2400 0 L0 0  Z\n  \" fill=\"#ffffff\" fill-rule=\"evenodd\" fill-opacity=\"1\"/>\n<defs>\n  <clipPath id=\"clip371\">\n    <rect x=\"480\" y=\"0\" width=\"1681\" height=\"1600\"/>\n  </clipPath>\n</defs>\n<path clip-path=\"url(#clip370)\" d=\"\nM247.366 1410.9 L2352.76 1410.9 L2352.76 47.2441 L247.366 47.2441  Z\n  \" fill=\"#ffffff\" fill-rule=\"evenodd\" fill-opacity=\"1\"/>\n<defs>\n  <clipPath id=\"clip372\">\n    <rect x=\"247\" y=\"47\" width=\"2106\" height=\"1365\"/>\n  </clipPath>\n</defs>\n<polyline clip-path=\"url(#clip372)\" style=\"stroke:#000000; stroke-linecap:round; stroke-linejoin:round; stroke-width:2; stroke-opacity:0.1; fill:none\" points=\"\n  272.107,1410.9 272.107,47.2441 \n  \"/>\n<polyline clip-path=\"url(#clip372)\" style=\"stroke:#000000; stroke-linecap:round; stroke-linejoin:round; stroke-width:2; stroke-opacity:0.1; fill:none\" points=\"\n  620.566,1410.9 620.566,47.2441 \n  \"/>\n<polyline clip-path=\"url(#clip372)\" style=\"stroke:#000000; stroke-linecap:round; stroke-linejoin:round; stroke-width:2; stroke-opacity:0.1; fill:none\" points=\"\n  969.025,1410.9 969.025,47.2441 \n  \"/>\n<polyline clip-path=\"url(#clip372)\" style=\"stroke:#000000; stroke-linecap:round; stroke-linejoin:round; stroke-width:2; stroke-opacity:0.1; fill:none\" points=\"\n  1317.48,1410.9 1317.48,47.2441 \n  \"/>\n<polyline clip-path=\"url(#clip372)\" style=\"stroke:#000000; stroke-linecap:round; stroke-linejoin:round; stroke-width:2; stroke-opacity:0.1; fill:none\" points=\"\n  1665.94,1410.9 1665.94,47.2441 \n  \"/>\n<polyline clip-path=\"url(#clip372)\" style=\"stroke:#000000; stroke-linecap:round; stroke-linejoin:round; stroke-width:2; stroke-opacity:0.1; fill:none\" points=\"\n  2014.4,1410.9 2014.4,47.2441 \n  \"/>\n<polyline clip-path=\"url(#clip370)\" style=\"stroke:#000000; stroke-linecap:round; stroke-linejoin:round; stroke-width:4; stroke-opacity:1; fill:none\" points=\"\n  247.366,1410.9 2352.76,1410.9 \n  \"/>\n<polyline clip-path=\"url(#clip370)\" style=\"stroke:#000000; stroke-linecap:round; stroke-linejoin:round; stroke-width:4; stroke-opacity:1; fill:none\" points=\"\n  272.107,1410.9 272.107,1392 \n  \"/>\n<polyline clip-path=\"url(#clip370)\" style=\"stroke:#000000; stroke-linecap:round; stroke-linejoin:round; stroke-width:4; stroke-opacity:1; fill:none\" points=\"\n  620.566,1410.9 620.566,1392 \n  \"/>\n<polyline clip-path=\"url(#clip370)\" style=\"stroke:#000000; stroke-linecap:round; stroke-linejoin:round; stroke-width:4; stroke-opacity:1; fill:none\" points=\"\n  969.025,1410.9 969.025,1392 \n  \"/>\n<polyline clip-path=\"url(#clip370)\" style=\"stroke:#000000; stroke-linecap:round; stroke-linejoin:round; stroke-width:4; stroke-opacity:1; fill:none\" points=\"\n  1317.48,1410.9 1317.48,1392 \n  \"/>\n<polyline clip-path=\"url(#clip370)\" style=\"stroke:#000000; stroke-linecap:round; stroke-linejoin:round; stroke-width:4; stroke-opacity:1; fill:none\" points=\"\n  1665.94,1410.9 1665.94,1392 \n  \"/>\n<polyline clip-path=\"url(#clip370)\" style=\"stroke:#000000; stroke-linecap:round; stroke-linejoin:round; stroke-width:4; stroke-opacity:1; fill:none\" points=\"\n  2014.4,1410.9 2014.4,1392 \n  \"/>\n<path clip-path=\"url(#clip370)\" d=\"M272.107 1441.82 Q268.496 1441.82 266.667 1445.38 Q264.861 1448.92 264.861 1456.05 Q264.861 1463.16 266.667 1466.72 Q268.496 1470.26 272.107 1470.26 Q275.741 1470.26 277.546 1466.72 Q279.375 1463.16 279.375 1456.05 Q279.375 1448.92 277.546 1445.38 Q275.741 1441.82 272.107 1441.82 M272.107 1438.11 Q277.917 1438.11 280.972 1442.72 Q284.051 1447.3 284.051 1456.05 Q284.051 1464.78 280.972 1469.38 Q277.917 1473.97 272.107 1473.97 Q266.297 1473.97 263.218 1469.38 Q260.162 1464.78 260.162 1456.05 Q260.162 1447.3 263.218 1442.72 Q266.297 1438.11 272.107 1438.11 Z\" fill=\"#000000\" fill-rule=\"evenodd\" fill-opacity=\"1\" /><path clip-path=\"url(#clip370)\" d=\"M528 1485.02 L535.639 1485.02 L535.639 1458.66 L527.329 1460.32 L527.329 1456.06 L535.593 1454.4 L540.269 1454.4 L540.269 1485.02 L547.908 1485.02 L547.908 1488.96 L528 1488.96 L528 1485.02 Z\" fill=\"#000000\" fill-rule=\"evenodd\" fill-opacity=\"1\" /><path clip-path=\"url(#clip370)\" d=\"M557.352 1483.08 L562.236 1483.08 L562.236 1488.96 L557.352 1488.96 L557.352 1483.08 Z\" fill=\"#000000\" fill-rule=\"evenodd\" fill-opacity=\"1\" /><path clip-path=\"url(#clip370)\" d=\"M582.421 1457.48 Q578.81 1457.48 576.982 1461.04 Q575.176 1464.58 575.176 1471.71 Q575.176 1478.82 576.982 1482.38 Q578.81 1485.92 582.421 1485.92 Q586.056 1485.92 587.861 1482.38 Q589.69 1478.82 589.69 1471.71 Q589.69 1464.58 587.861 1461.04 Q586.056 1457.48 582.421 1457.48 M582.421 1453.77 Q588.232 1453.77 591.287 1458.38 Q594.366 1462.96 594.366 1471.71 Q594.366 1480.44 591.287 1485.04 Q588.232 1489.63 582.421 1489.63 Q576.611 1489.63 573.533 1485.04 Q570.477 1480.44 570.477 1471.71 Q570.477 1462.96 573.533 1458.38 Q576.611 1453.77 582.421 1453.77 Z\" fill=\"#000000\" fill-rule=\"evenodd\" fill-opacity=\"1\" /><path clip-path=\"url(#clip370)\" d=\"M630.755 1463.49 L620.176 1474.12 L630.755 1484.7 L628 1487.5 L617.375 1476.87 L606.75 1487.5 L604.019 1484.7 L614.574 1474.12 L604.019 1463.49 L606.75 1460.69 L617.375 1471.32 L628 1460.69 L630.755 1463.49 Z\" fill=\"#000000\" fill-rule=\"evenodd\" fill-opacity=\"1\" /><path clip-path=\"url(#clip370)\" d=\"M643.116 1485.02 L650.754 1485.02 L650.754 1458.66 L642.444 1460.32 L642.444 1456.06 L650.708 1454.4 L655.384 1454.4 L655.384 1485.02 L663.023 1485.02 L663.023 1488.96 L643.116 1488.96 L643.116 1485.02 Z\" fill=\"#000000\" fill-rule=\"evenodd\" fill-opacity=\"1\" /><path clip-path=\"url(#clip370)\" d=\"M682.467 1457.48 Q678.856 1457.48 677.027 1461.04 Q675.222 1464.58 675.222 1471.71 Q675.222 1478.82 677.027 1482.38 Q678.856 1485.92 682.467 1485.92 Q686.101 1485.92 687.907 1482.38 Q689.736 1478.82 689.736 1471.71 Q689.736 1464.58 687.907 1461.04 Q686.101 1457.48 682.467 1457.48 M682.467 1453.77 Q688.277 1453.77 691.333 1458.38 Q694.412 1462.96 694.412 1471.71 Q694.412 1480.44 691.333 1485.04 Q688.277 1489.63 682.467 1489.63 Q676.657 1489.63 673.578 1485.04 Q670.523 1480.44 670.523 1471.71 Q670.523 1462.96 673.578 1458.38 Q676.657 1453.77 682.467 1453.77 Z\" fill=\"#000000\" fill-rule=\"evenodd\" fill-opacity=\"1\" /><path clip-path=\"url(#clip370)\" d=\"M704.436 1445.99 Q701.878 1445.99 700.374 1447.74 Q698.888 1449.49 698.888 1452.54 Q698.888 1455.57 700.374 1457.33 Q701.878 1459.08 704.436 1459.08 Q706.994 1459.08 708.48 1457.33 Q709.984 1455.57 709.984 1452.54 Q709.984 1449.49 708.48 1447.74 Q706.994 1445.99 704.436 1445.99 M711.978 1434.09 L711.978 1437.55 Q710.549 1436.87 709.082 1436.51 Q707.633 1436.16 706.204 1436.16 Q702.443 1436.16 700.449 1438.69 Q698.474 1441.23 698.192 1446.37 Q699.302 1444.73 700.976 1443.87 Q702.649 1442.98 704.662 1442.98 Q708.894 1442.98 711.339 1445.56 Q713.802 1448.12 713.802 1452.54 Q713.802 1456.86 711.245 1459.48 Q708.687 1462.09 704.436 1462.09 Q699.565 1462.09 696.988 1458.37 Q694.412 1454.62 694.412 1447.53 Q694.412 1440.88 697.571 1436.93 Q700.731 1432.96 706.054 1432.96 Q707.483 1432.96 708.931 1433.24 Q710.398 1433.52 711.978 1434.09 Z\" fill=\"#000000\" fill-rule=\"evenodd\" fill-opacity=\"1\" /><path clip-path=\"url(#clip370)\" d=\"M880.545 1485.02 L896.865 1485.02 L896.865 1488.96 L874.92 1488.96 L874.92 1485.02 Q877.582 1482.27 882.166 1477.64 Q886.772 1472.98 887.953 1471.64 Q890.198 1469.12 891.078 1467.38 Q891.98 1465.62 891.98 1463.93 Q891.98 1461.18 890.036 1459.44 Q888.115 1457.71 885.013 1457.71 Q882.814 1457.71 880.36 1458.47 Q877.929 1459.23 875.152 1460.79 L875.152 1456.06 Q877.976 1454.93 880.429 1454.35 Q882.883 1453.77 884.92 1453.77 Q890.29 1453.77 893.485 1456.46 Q896.679 1459.14 896.679 1463.63 Q896.679 1465.76 895.869 1467.68 Q895.082 1469.58 892.976 1472.17 Q892.397 1472.85 889.295 1476.06 Q886.193 1479.26 880.545 1485.02 Z\" fill=\"#000000\" fill-rule=\"evenodd\" fill-opacity=\"1\" /><path clip-path=\"url(#clip370)\" d=\"M906.679 1483.08 L911.564 1483.08 L911.564 1488.96 L906.679 1488.96 L906.679 1483.08 Z\" fill=\"#000000\" fill-rule=\"evenodd\" fill-opacity=\"1\" /><path clip-path=\"url(#clip370)\" d=\"M931.749 1457.48 Q928.138 1457.48 926.309 1461.04 Q924.503 1464.58 924.503 1471.71 Q924.503 1478.82 926.309 1482.38 Q928.138 1485.92 931.749 1485.92 Q935.383 1485.92 937.188 1482.38 Q939.017 1478.82 939.017 1471.71 Q939.017 1464.58 937.188 1461.04 Q935.383 1457.48 931.749 1457.48 M931.749 1453.77 Q937.559 1453.77 940.614 1458.38 Q943.693 1462.96 943.693 1471.71 Q943.693 1480.44 940.614 1485.04 Q937.559 1489.63 931.749 1489.63 Q925.938 1489.63 922.86 1485.04 Q919.804 1480.44 919.804 1471.71 Q919.804 1462.96 922.86 1458.38 Q925.938 1453.77 931.749 1453.77 Z\" fill=\"#000000\" fill-rule=\"evenodd\" fill-opacity=\"1\" /><path clip-path=\"url(#clip370)\" d=\"M980.082 1463.49 L969.503 1474.12 L980.082 1484.7 L977.327 1487.5 L966.702 1476.87 L956.077 1487.5 L953.346 1484.7 L963.901 1474.12 L953.346 1463.49 L956.077 1460.69 L966.702 1471.32 L977.327 1460.69 L980.082 1463.49 Z\" fill=\"#000000\" fill-rule=\"evenodd\" fill-opacity=\"1\" /><path clip-path=\"url(#clip370)\" d=\"M992.443 1485.02 L1000.08 1485.02 L1000.08 1458.66 L991.771 1460.32 L991.771 1456.06 L1000.04 1454.4 L1004.71 1454.4 L1004.71 1485.02 L1012.35 1485.02 L1012.35 1488.96 L992.443 1488.96 L992.443 1485.02 Z\" fill=\"#000000\" fill-rule=\"evenodd\" fill-opacity=\"1\" /><path clip-path=\"url(#clip370)\" d=\"M1031.79 1457.48 Q1028.18 1457.48 1026.35 1461.04 Q1024.55 1464.58 1024.55 1471.71 Q1024.55 1478.82 1026.35 1482.38 Q1028.18 1485.92 1031.79 1485.92 Q1035.43 1485.92 1037.23 1482.38 Q1039.06 1478.82 1039.06 1471.71 Q1039.06 1464.58 1037.23 1461.04 Q1035.43 1457.48 1031.79 1457.48 M1031.79 1453.77 Q1037.6 1453.77 1040.66 1458.38 Q1043.74 1462.96 1043.74 1471.71 Q1043.74 1480.44 1040.66 1485.04 Q1037.6 1489.63 1031.79 1489.63 Q1025.98 1489.63 1022.91 1485.04 Q1019.85 1480.44 1019.85 1471.71 Q1019.85 1462.96 1022.91 1458.38 Q1025.98 1453.77 1031.79 1453.77 Z\" fill=\"#000000\" fill-rule=\"evenodd\" fill-opacity=\"1\" /><path clip-path=\"url(#clip370)\" d=\"M1053.76 1445.99 Q1051.21 1445.99 1049.7 1447.74 Q1048.21 1449.49 1048.21 1452.54 Q1048.21 1455.57 1049.7 1457.33 Q1051.21 1459.08 1053.76 1459.08 Q1056.32 1459.08 1057.81 1457.33 Q1059.31 1455.57 1059.31 1452.54 Q1059.31 1449.49 1057.81 1447.74 Q1056.32 1445.99 1053.76 1445.99 M1061.31 1434.09 L1061.31 1437.55 Q1059.88 1436.87 1058.41 1436.51 Q1056.96 1436.16 1055.53 1436.16 Q1051.77 1436.16 1049.78 1438.69 Q1047.8 1441.23 1047.52 1446.37 Q1048.63 1444.73 1050.3 1443.87 Q1051.98 1442.98 1053.99 1442.98 Q1058.22 1442.98 1060.67 1445.56 Q1063.13 1448.12 1063.13 1452.54 Q1063.13 1456.86 1060.57 1459.48 Q1058.01 1462.09 1053.76 1462.09 Q1048.89 1462.09 1046.32 1458.37 Q1043.74 1454.62 1043.74 1447.53 Q1043.74 1440.88 1046.9 1436.93 Q1050.06 1432.96 1055.38 1432.96 Q1056.81 1432.96 1058.26 1433.24 Q1059.73 1433.52 1061.31 1434.09 Z\" fill=\"#000000\" fill-rule=\"evenodd\" fill-opacity=\"1\" /><path clip-path=\"url(#clip370)\" d=\"M1239.07 1470.32 Q1242.43 1471.04 1244.31 1473.31 Q1246.2 1475.58 1246.2 1478.91 Q1246.2 1484.03 1242.68 1486.83 Q1239.17 1489.63 1232.68 1489.63 Q1230.51 1489.63 1228.19 1489.19 Q1225.9 1488.77 1223.45 1487.91 L1223.45 1483.4 Q1225.39 1484.54 1227.71 1485.11 Q1230.02 1485.69 1232.55 1485.69 Q1236.94 1485.69 1239.24 1483.96 Q1241.55 1482.22 1241.55 1478.91 Q1241.55 1475.85 1239.4 1474.14 Q1237.27 1472.41 1233.45 1472.41 L1229.42 1472.41 L1229.42 1468.56 L1233.63 1468.56 Q1237.08 1468.56 1238.91 1467.2 Q1240.74 1465.81 1240.74 1463.22 Q1240.74 1460.55 1238.84 1459.14 Q1236.97 1457.71 1233.45 1457.71 Q1231.53 1457.71 1229.33 1458.12 Q1227.13 1458.54 1224.49 1459.42 L1224.49 1455.25 Q1227.15 1454.51 1229.47 1454.14 Q1231.81 1453.77 1233.87 1453.77 Q1239.19 1453.77 1242.29 1456.2 Q1245.39 1458.61 1245.39 1462.73 Q1245.39 1465.6 1243.75 1467.59 Q1242.11 1469.56 1239.07 1470.32 Z\" fill=\"#000000\" fill-rule=\"evenodd\" fill-opacity=\"1\" /><path clip-path=\"url(#clip370)\" d=\"M1255.07 1483.08 L1259.95 1483.08 L1259.95 1488.96 L1255.07 1488.96 L1255.07 1483.08 Z\" fill=\"#000000\" fill-rule=\"evenodd\" fill-opacity=\"1\" /><path clip-path=\"url(#clip370)\" d=\"M1280.14 1457.48 Q1276.53 1457.48 1274.7 1461.04 Q1272.89 1464.58 1272.89 1471.71 Q1272.89 1478.82 1274.7 1482.38 Q1276.53 1485.92 1280.14 1485.92 Q1283.77 1485.92 1285.58 1482.38 Q1287.41 1478.82 1287.41 1471.71 Q1287.41 1464.58 1285.58 1461.04 Q1283.77 1457.48 1280.14 1457.48 M1280.14 1453.77 Q1285.95 1453.77 1289 1458.38 Q1292.08 1462.96 1292.08 1471.71 Q1292.08 1480.44 1289 1485.04 Q1285.95 1489.63 1280.14 1489.63 Q1274.33 1489.63 1271.25 1485.04 Q1268.19 1480.44 1268.19 1471.71 Q1268.19 1462.96 1271.25 1458.38 Q1274.33 1453.77 1280.14 1453.77 Z\" fill=\"#000000\" fill-rule=\"evenodd\" fill-opacity=\"1\" /><path clip-path=\"url(#clip370)\" d=\"M1328.47 1463.49 L1317.89 1474.12 L1328.47 1484.7 L1325.72 1487.5 L1315.09 1476.87 L1304.47 1487.5 L1301.74 1484.7 L1312.29 1474.12 L1301.74 1463.49 L1304.47 1460.69 L1315.09 1471.32 L1325.72 1460.69 L1328.47 1463.49 Z\" fill=\"#000000\" fill-rule=\"evenodd\" fill-opacity=\"1\" /><path clip-path=\"url(#clip370)\" d=\"M1340.83 1485.02 L1348.47 1485.02 L1348.47 1458.66 L1340.16 1460.32 L1340.16 1456.06 L1348.42 1454.4 L1353.1 1454.4 L1353.1 1485.02 L1360.74 1485.02 L1360.74 1488.96 L1340.83 1488.96 L1340.83 1485.02 Z\" fill=\"#000000\" fill-rule=\"evenodd\" fill-opacity=\"1\" /><path clip-path=\"url(#clip370)\" d=\"M1380.18 1457.48 Q1376.57 1457.48 1374.74 1461.04 Q1372.94 1464.58 1372.94 1471.71 Q1372.94 1478.82 1374.74 1482.38 Q1376.57 1485.92 1380.18 1485.92 Q1383.82 1485.92 1385.62 1482.38 Q1387.45 1478.82 1387.45 1471.71 Q1387.45 1464.58 1385.62 1461.04 Q1383.82 1457.48 1380.18 1457.48 M1380.18 1453.77 Q1385.99 1453.77 1389.05 1458.38 Q1392.13 1462.96 1392.13 1471.71 Q1392.13 1480.44 1389.05 1485.04 Q1385.99 1489.63 1380.18 1489.63 Q1374.37 1489.63 1371.3 1485.04 Q1368.24 1480.44 1368.24 1471.71 Q1368.24 1462.96 1371.3 1458.38 Q1374.37 1453.77 1380.18 1453.77 Z\" fill=\"#000000\" fill-rule=\"evenodd\" fill-opacity=\"1\" /><path clip-path=\"url(#clip370)\" d=\"M1402.15 1445.99 Q1399.6 1445.99 1398.09 1447.74 Q1396.6 1449.49 1396.6 1452.54 Q1396.6 1455.57 1398.09 1457.33 Q1399.6 1459.08 1402.15 1459.08 Q1404.71 1459.08 1406.2 1457.33 Q1407.7 1455.57 1407.7 1452.54 Q1407.7 1449.49 1406.2 1447.74 Q1404.71 1445.99 1402.15 1445.99 M1409.69 1434.09 L1409.69 1437.55 Q1408.27 1436.87 1406.8 1436.51 Q1405.35 1436.16 1403.92 1436.16 Q1400.16 1436.16 1398.17 1438.69 Q1396.19 1441.23 1395.91 1446.37 Q1397.02 1444.73 1398.69 1443.87 Q1400.37 1442.98 1402.38 1442.98 Q1406.61 1442.98 1409.06 1445.56 Q1411.52 1448.12 1411.52 1452.54 Q1411.52 1456.86 1408.96 1459.48 Q1406.4 1462.09 1402.15 1462.09 Q1397.28 1462.09 1394.71 1458.37 Q1392.13 1454.62 1392.13 1447.53 Q1392.13 1440.88 1395.29 1436.93 Q1398.45 1432.96 1403.77 1432.96 Q1405.2 1432.96 1406.65 1433.24 Q1408.11 1433.52 1409.69 1434.09 Z\" fill=\"#000000\" fill-rule=\"evenodd\" fill-opacity=\"1\" /><path clip-path=\"url(#clip370)\" d=\"M1586.86 1458.47 L1575.06 1476.92 L1586.86 1476.92 L1586.86 1458.47 M1585.63 1454.4 L1591.51 1454.4 L1591.51 1476.92 L1596.44 1476.92 L1596.44 1480.81 L1591.51 1480.81 L1591.51 1488.96 L1586.86 1488.96 L1586.86 1480.81 L1571.26 1480.81 L1571.26 1476.29 L1585.63 1454.4 Z\" fill=\"#000000\" fill-rule=\"evenodd\" fill-opacity=\"1\" /><path clip-path=\"url(#clip370)\" d=\"M1604.18 1483.08 L1609.06 1483.08 L1609.06 1488.96 L1604.18 1488.96 L1604.18 1483.08 Z\" fill=\"#000000\" fill-rule=\"evenodd\" fill-opacity=\"1\" /><path clip-path=\"url(#clip370)\" d=\"M1629.25 1457.48 Q1625.63 1457.48 1623.81 1461.04 Q1622 1464.58 1622 1471.71 Q1622 1478.82 1623.81 1482.38 Q1625.63 1485.92 1629.25 1485.92 Q1632.88 1485.92 1634.69 1482.38 Q1636.51 1478.82 1636.51 1471.71 Q1636.51 1464.58 1634.69 1461.04 Q1632.88 1457.48 1629.25 1457.48 M1629.25 1453.77 Q1635.06 1453.77 1638.11 1458.38 Q1641.19 1462.96 1641.19 1471.71 Q1641.19 1480.44 1638.11 1485.04 Q1635.06 1489.63 1629.25 1489.63 Q1623.44 1489.63 1620.36 1485.04 Q1617.3 1480.44 1617.3 1471.71 Q1617.3 1462.96 1620.36 1458.38 Q1623.44 1453.77 1629.25 1453.77 Z\" fill=\"#000000\" fill-rule=\"evenodd\" fill-opacity=\"1\" /><path clip-path=\"url(#clip370)\" d=\"M1677.58 1463.49 L1667 1474.12 L1677.58 1484.7 L1674.82 1487.5 L1664.2 1476.87 L1653.57 1487.5 L1650.84 1484.7 L1661.4 1474.12 L1650.84 1463.49 L1653.57 1460.69 L1664.2 1471.32 L1674.82 1460.69 L1677.58 1463.49 Z\" fill=\"#000000\" fill-rule=\"evenodd\" fill-opacity=\"1\" /><path clip-path=\"url(#clip370)\" d=\"M1689.94 1485.02 L1697.58 1485.02 L1697.58 1458.66 L1689.27 1460.32 L1689.27 1456.06 L1697.53 1454.4 L1702.21 1454.4 L1702.21 1485.02 L1709.85 1485.02 L1709.85 1488.96 L1689.94 1488.96 L1689.94 1485.02 Z\" fill=\"#000000\" fill-rule=\"evenodd\" fill-opacity=\"1\" /><path clip-path=\"url(#clip370)\" d=\"M1729.29 1457.48 Q1725.68 1457.48 1723.85 1461.04 Q1722.05 1464.58 1722.05 1471.71 Q1722.05 1478.82 1723.85 1482.38 Q1725.68 1485.92 1729.29 1485.92 Q1732.93 1485.92 1734.73 1482.38 Q1736.56 1478.82 1736.56 1471.71 Q1736.56 1464.58 1734.73 1461.04 Q1732.93 1457.48 1729.29 1457.48 M1729.29 1453.77 Q1735.1 1453.77 1738.16 1458.38 Q1741.24 1462.96 1741.24 1471.71 Q1741.24 1480.44 1738.16 1485.04 Q1735.1 1489.63 1729.29 1489.63 Q1723.48 1489.63 1720.4 1485.04 Q1717.35 1480.44 1717.35 1471.71 Q1717.35 1462.96 1720.4 1458.38 Q1723.48 1453.77 1729.29 1453.77 Z\" fill=\"#000000\" fill-rule=\"evenodd\" fill-opacity=\"1\" /><path clip-path=\"url(#clip370)\" d=\"M1751.26 1445.99 Q1748.7 1445.99 1747.2 1447.74 Q1745.71 1449.49 1745.71 1452.54 Q1745.71 1455.57 1747.2 1457.33 Q1748.7 1459.08 1751.26 1459.08 Q1753.82 1459.08 1755.3 1457.33 Q1756.81 1455.57 1756.81 1452.54 Q1756.81 1449.49 1755.3 1447.74 Q1753.82 1445.99 1751.26 1445.99 M1758.8 1434.09 L1758.8 1437.55 Q1757.37 1436.87 1755.91 1436.51 Q1754.46 1436.16 1753.03 1436.16 Q1749.27 1436.16 1747.27 1438.69 Q1745.3 1441.23 1745.02 1446.37 Q1746.13 1444.73 1747.8 1443.87 Q1749.47 1442.98 1751.49 1442.98 Q1755.72 1442.98 1758.16 1445.56 Q1760.63 1448.12 1760.63 1452.54 Q1760.63 1456.86 1758.07 1459.48 Q1755.51 1462.09 1751.26 1462.09 Q1746.39 1462.09 1743.81 1458.37 Q1741.24 1454.62 1741.24 1447.53 Q1741.24 1440.88 1744.4 1436.93 Q1747.56 1432.96 1752.88 1432.96 Q1754.31 1432.96 1755.76 1433.24 Q1757.22 1433.52 1758.8 1434.09 Z\" fill=\"#000000\" fill-rule=\"evenodd\" fill-opacity=\"1\" /><path clip-path=\"url(#clip370)\" d=\"M1921.85 1454.4 L1940.2 1454.4 L1940.2 1458.33 L1926.13 1458.33 L1926.13 1466.8 Q1927.15 1466.46 1928.17 1466.29 Q1929.19 1466.11 1930.2 1466.11 Q1935.99 1466.11 1939.37 1469.28 Q1942.75 1472.45 1942.75 1477.87 Q1942.75 1483.45 1939.28 1486.55 Q1935.81 1489.63 1929.49 1489.63 Q1927.31 1489.63 1925.04 1489.26 Q1922.8 1488.89 1920.39 1488.15 L1920.39 1483.45 Q1922.47 1484.58 1924.7 1485.14 Q1926.92 1485.69 1929.39 1485.69 Q1933.4 1485.69 1935.74 1483.59 Q1938.08 1481.48 1938.08 1477.87 Q1938.08 1474.26 1935.74 1472.15 Q1933.4 1470.04 1929.39 1470.04 Q1927.52 1470.04 1925.64 1470.46 Q1923.79 1470.88 1921.85 1471.76 L1921.85 1454.4 Z\" fill=\"#000000\" fill-rule=\"evenodd\" fill-opacity=\"1\" /><path clip-path=\"url(#clip370)\" d=\"M1951.96 1483.08 L1956.85 1483.08 L1956.85 1488.96 L1951.96 1488.96 L1951.96 1483.08 Z\" fill=\"#000000\" fill-rule=\"evenodd\" fill-opacity=\"1\" /><path clip-path=\"url(#clip370)\" d=\"M1977.03 1457.48 Q1973.42 1457.48 1971.59 1461.04 Q1969.79 1464.58 1969.79 1471.71 Q1969.79 1478.82 1971.59 1482.38 Q1973.42 1485.92 1977.03 1485.92 Q1980.67 1485.92 1982.47 1482.38 Q1984.3 1478.82 1984.3 1471.71 Q1984.3 1464.58 1982.47 1461.04 Q1980.67 1457.48 1977.03 1457.48 M1977.03 1453.77 Q1982.84 1453.77 1985.9 1458.38 Q1988.98 1462.96 1988.98 1471.71 Q1988.98 1480.44 1985.9 1485.04 Q1982.84 1489.63 1977.03 1489.63 Q1971.22 1489.63 1968.14 1485.04 Q1965.09 1480.44 1965.09 1471.71 Q1965.09 1462.96 1968.14 1458.38 Q1971.22 1453.77 1977.03 1453.77 Z\" fill=\"#000000\" fill-rule=\"evenodd\" fill-opacity=\"1\" /><path clip-path=\"url(#clip370)\" d=\"M2025.37 1463.49 L2014.79 1474.12 L2025.37 1484.7 L2022.61 1487.5 L2011.99 1476.87 L2001.36 1487.5 L1998.63 1484.7 L2009.19 1474.12 L1998.63 1463.49 L2001.36 1460.69 L2011.99 1471.32 L2022.61 1460.69 L2025.37 1463.49 Z\" fill=\"#000000\" fill-rule=\"evenodd\" fill-opacity=\"1\" /><path clip-path=\"url(#clip370)\" d=\"M2037.73 1485.02 L2045.37 1485.02 L2045.37 1458.66 L2037.06 1460.32 L2037.06 1456.06 L2045.32 1454.4 L2050 1454.4 L2050 1485.02 L2057.63 1485.02 L2057.63 1488.96 L2037.73 1488.96 L2037.73 1485.02 Z\" fill=\"#000000\" fill-rule=\"evenodd\" fill-opacity=\"1\" /><path clip-path=\"url(#clip370)\" d=\"M2077.08 1457.48 Q2073.47 1457.48 2071.64 1461.04 Q2069.83 1464.58 2069.83 1471.71 Q2069.83 1478.82 2071.64 1482.38 Q2073.47 1485.92 2077.08 1485.92 Q2080.71 1485.92 2082.52 1482.38 Q2084.35 1478.82 2084.35 1471.71 Q2084.35 1464.58 2082.52 1461.04 Q2080.71 1457.48 2077.08 1457.48 M2077.08 1453.77 Q2082.89 1453.77 2085.94 1458.38 Q2089.02 1462.96 2089.02 1471.71 Q2089.02 1480.44 2085.94 1485.04 Q2082.89 1489.63 2077.08 1489.63 Q2071.27 1489.63 2068.19 1485.04 Q2065.13 1480.44 2065.13 1471.71 Q2065.13 1462.96 2068.19 1458.38 Q2071.27 1453.77 2077.08 1453.77 Z\" fill=\"#000000\" fill-rule=\"evenodd\" fill-opacity=\"1\" /><path clip-path=\"url(#clip370)\" d=\"M2099.05 1445.99 Q2096.49 1445.99 2094.99 1447.74 Q2093.5 1449.49 2093.5 1452.54 Q2093.5 1455.57 2094.99 1457.33 Q2096.49 1459.08 2099.05 1459.08 Q2101.61 1459.08 2103.09 1457.33 Q2104.6 1455.57 2104.6 1452.54 Q2104.6 1449.49 2103.09 1447.74 Q2101.61 1445.99 2099.05 1445.99 M2106.59 1434.09 L2106.59 1437.55 Q2105.16 1436.87 2103.69 1436.51 Q2102.25 1436.16 2100.82 1436.16 Q2097.05 1436.16 2095.06 1438.69 Q2093.09 1441.23 2092.8 1446.37 Q2093.91 1444.73 2095.59 1443.87 Q2097.26 1442.98 2099.27 1442.98 Q2103.51 1442.98 2105.95 1445.56 Q2108.41 1448.12 2108.41 1452.54 Q2108.41 1456.86 2105.86 1459.48 Q2103.3 1462.09 2099.05 1462.09 Q2094.18 1462.09 2091.6 1458.37 Q2089.02 1454.62 2089.02 1447.53 Q2089.02 1440.88 2092.18 1436.93 Q2095.34 1432.96 2100.67 1432.96 Q2102.09 1432.96 2103.54 1433.24 Q2105.01 1433.52 2106.59 1434.09 Z\" fill=\"#000000\" fill-rule=\"evenodd\" fill-opacity=\"1\" /><path clip-path=\"url(#clip370)\" d=\"M1149.62 1526.67 L1156.05 1526.67 L1156.05 1574.19 L1149.62 1574.19 L1149.62 1526.67 Z\" fill=\"#000000\" fill-rule=\"evenodd\" fill-opacity=\"1\" /><path clip-path=\"url(#clip370)\" d=\"M1174.39 1528.42 L1174.39 1538.54 L1186.45 1538.54 L1186.45 1543.09 L1174.39 1543.09 L1174.39 1562.44 Q1174.39 1566.8 1175.56 1568.04 Q1176.77 1569.28 1180.43 1569.28 L1186.45 1569.28 L1186.45 1574.19 L1180.43 1574.19 Q1173.65 1574.19 1171.08 1571.67 Q1168.5 1569.12 1168.5 1562.44 L1168.5 1543.09 L1164.2 1543.09 L1164.2 1538.54 L1168.5 1538.54 L1168.5 1528.42 L1174.39 1528.42 Z\" fill=\"#000000\" fill-rule=\"evenodd\" fill-opacity=\"1\" /><path clip-path=\"url(#clip370)\" d=\"M1224.64 1554.9 L1224.64 1557.76 L1197.72 1557.76 Q1198.1 1563.81 1201.34 1566.99 Q1204.62 1570.14 1210.45 1570.14 Q1213.82 1570.14 1216.97 1569.32 Q1220.16 1568.49 1223.27 1566.83 L1223.27 1572.37 Q1220.12 1573.71 1216.81 1574.41 Q1213.5 1575.11 1210.1 1575.11 Q1201.57 1575.11 1196.57 1570.14 Q1191.61 1565.18 1191.61 1556.71 Q1191.61 1547.96 1196.32 1542.83 Q1201.06 1537.68 1209.08 1537.68 Q1216.27 1537.68 1220.44 1542.33 Q1224.64 1546.94 1224.64 1554.9 M1218.79 1553.18 Q1218.72 1548.37 1216.08 1545.51 Q1213.47 1542.64 1209.14 1542.64 Q1204.24 1542.64 1201.28 1545.41 Q1198.35 1548.18 1197.91 1553.21 L1218.79 1553.18 Z\" fill=\"#000000\" fill-rule=\"evenodd\" fill-opacity=\"1\" /><path clip-path=\"url(#clip370)\" d=\"M1254.91 1544.01 Q1253.93 1543.44 1252.75 1543.18 Q1251.6 1542.9 1250.2 1542.9 Q1245.24 1542.9 1242.56 1546.14 Q1239.92 1549.36 1239.92 1555.41 L1239.92 1574.19 L1234.03 1574.19 L1234.03 1538.54 L1239.92 1538.54 L1239.92 1544.08 Q1241.77 1540.83 1244.73 1539.27 Q1247.69 1537.68 1251.92 1537.68 Q1252.53 1537.68 1253.26 1537.77 Q1253.99 1537.84 1254.88 1538 L1254.91 1544.01 Z\" fill=\"#000000\" fill-rule=\"evenodd\" fill-opacity=\"1\" /><path clip-path=\"url(#clip370)\" d=\"M1277.26 1556.27 Q1270.16 1556.27 1267.42 1557.89 Q1264.68 1559.51 1264.68 1563.43 Q1264.68 1566.55 1266.72 1568.39 Q1268.79 1570.21 1272.32 1570.21 Q1277.19 1570.21 1280.12 1566.77 Q1283.08 1563.3 1283.08 1557.57 L1283.08 1556.27 L1277.26 1556.27 M1288.94 1553.85 L1288.94 1574.19 L1283.08 1574.19 L1283.08 1568.77 Q1281.08 1572.02 1278.08 1573.58 Q1275.09 1575.11 1270.76 1575.11 Q1265.29 1575.11 1262.04 1572.05 Q1258.83 1568.97 1258.83 1563.81 Q1258.83 1557.79 1262.84 1554.74 Q1266.88 1551.68 1274.87 1551.68 L1283.08 1551.68 L1283.08 1551.11 Q1283.08 1547.07 1280.41 1544.87 Q1277.77 1542.64 1272.96 1542.64 Q1269.9 1542.64 1267.01 1543.38 Q1264.11 1544.11 1261.44 1545.57 L1261.44 1540.16 Q1264.65 1538.92 1267.68 1538.31 Q1270.7 1537.68 1273.56 1537.68 Q1281.3 1537.68 1285.12 1541.69 Q1288.94 1545.7 1288.94 1553.85 Z\" fill=\"#000000\" fill-rule=\"evenodd\" fill-opacity=\"1\" /><path clip-path=\"url(#clip370)\" d=\"M1306.79 1528.42 L1306.79 1538.54 L1318.86 1538.54 L1318.86 1543.09 L1306.79 1543.09 L1306.79 1562.44 Q1306.79 1566.8 1307.97 1568.04 Q1309.18 1569.28 1312.84 1569.28 L1318.86 1569.28 L1318.86 1574.19 L1312.84 1574.19 Q1306.06 1574.19 1303.48 1571.67 Q1300.9 1569.12 1300.9 1562.44 L1300.9 1543.09 L1296.61 1543.09 L1296.61 1538.54 L1300.9 1538.54 L1300.9 1528.42 L1306.79 1528.42 Z\" fill=\"#000000\" fill-rule=\"evenodd\" fill-opacity=\"1\" /><path clip-path=\"url(#clip370)\" d=\"M1326.56 1538.54 L1332.41 1538.54 L1332.41 1574.19 L1326.56 1574.19 L1326.56 1538.54 M1326.56 1524.66 L1332.41 1524.66 L1332.41 1532.08 L1326.56 1532.08 L1326.56 1524.66 Z\" fill=\"#000000\" fill-rule=\"evenodd\" fill-opacity=\"1\" /><path clip-path=\"url(#clip370)\" d=\"M1358.48 1542.64 Q1353.77 1542.64 1351.03 1546.34 Q1348.3 1550 1348.3 1556.39 Q1348.3 1562.79 1351 1566.48 Q1353.74 1570.14 1358.48 1570.14 Q1363.16 1570.14 1365.9 1566.45 Q1368.64 1562.76 1368.64 1556.39 Q1368.64 1550.06 1365.9 1546.37 Q1363.16 1542.64 1358.48 1542.64 M1358.48 1537.68 Q1366.12 1537.68 1370.48 1542.64 Q1374.84 1547.61 1374.84 1556.39 Q1374.84 1565.15 1370.48 1570.14 Q1366.12 1575.11 1358.48 1575.11 Q1350.81 1575.11 1346.45 1570.14 Q1342.12 1565.15 1342.12 1556.39 Q1342.12 1547.61 1346.45 1542.64 Q1350.81 1537.68 1358.48 1537.68 Z\" fill=\"#000000\" fill-rule=\"evenodd\" fill-opacity=\"1\" /><path clip-path=\"url(#clip370)\" d=\"M1414.18 1552.67 L1414.18 1574.19 L1408.33 1574.19 L1408.33 1552.86 Q1408.33 1547.8 1406.35 1545.29 Q1404.38 1542.77 1400.43 1542.77 Q1395.69 1542.77 1392.95 1545.79 Q1390.22 1548.82 1390.22 1554.04 L1390.22 1574.19 L1384.33 1574.19 L1384.33 1538.54 L1390.22 1538.54 L1390.22 1544.08 Q1392.32 1540.86 1395.15 1539.27 Q1398.01 1537.68 1401.74 1537.68 Q1407.88 1537.68 1411.03 1541.5 Q1414.18 1545.29 1414.18 1552.67 Z\" fill=\"#000000\" fill-rule=\"evenodd\" fill-opacity=\"1\" /><path clip-path=\"url(#clip370)\" d=\"M1448.59 1539.59 L1448.59 1545.13 Q1446.11 1543.85 1443.43 1543.22 Q1440.76 1542.58 1437.89 1542.58 Q1433.53 1542.58 1431.34 1543.92 Q1429.17 1545.25 1429.17 1547.93 Q1429.17 1549.96 1430.73 1551.14 Q1432.29 1552.29 1437 1553.34 L1439.01 1553.78 Q1445.25 1555.12 1447.86 1557.57 Q1450.5 1559.99 1450.5 1564.35 Q1450.5 1569.32 1446.55 1572.21 Q1442.64 1575.11 1435.76 1575.11 Q1432.9 1575.11 1429.78 1574.54 Q1426.69 1573.99 1423.25 1572.88 L1423.25 1566.83 Q1426.5 1568.52 1429.65 1569.38 Q1432.8 1570.21 1435.89 1570.21 Q1440.03 1570.21 1442.25 1568.81 Q1444.48 1567.37 1444.48 1564.8 Q1444.48 1562.41 1442.86 1561.14 Q1441.27 1559.86 1435.83 1558.68 L1433.79 1558.21 Q1428.35 1557.06 1425.93 1554.71 Q1423.51 1552.32 1423.51 1548.18 Q1423.51 1543.15 1427.07 1540.42 Q1430.64 1537.68 1437.19 1537.68 Q1440.44 1537.68 1443.31 1538.16 Q1446.17 1538.63 1448.59 1539.59 Z\" fill=\"#000000\" fill-rule=\"evenodd\" fill-opacity=\"1\" /><polyline clip-path=\"url(#clip372)\" style=\"stroke:#000000; stroke-linecap:round; stroke-linejoin:round; stroke-width:2; stroke-opacity:0.1; fill:none\" points=\"\n  247.366,1237.89 2352.76,1237.89 \n  \"/>\n<polyline clip-path=\"url(#clip372)\" style=\"stroke:#000000; stroke-linecap:round; stroke-linejoin:round; stroke-width:2; stroke-opacity:0.1; fill:none\" points=\"\n  247.366,985.413 2352.76,985.413 \n  \"/>\n<polyline clip-path=\"url(#clip372)\" style=\"stroke:#000000; stroke-linecap:round; stroke-linejoin:round; stroke-width:2; stroke-opacity:0.1; fill:none\" points=\"\n  247.366,732.933 2352.76,732.933 \n  \"/>\n<polyline clip-path=\"url(#clip372)\" style=\"stroke:#000000; stroke-linecap:round; stroke-linejoin:round; stroke-width:2; stroke-opacity:0.1; fill:none\" points=\"\n  247.366,480.454 2352.76,480.454 \n  \"/>\n<polyline clip-path=\"url(#clip372)\" style=\"stroke:#000000; stroke-linecap:round; stroke-linejoin:round; stroke-width:2; stroke-opacity:0.1; fill:none\" points=\"\n  247.366,227.974 2352.76,227.974 \n  \"/>\n<polyline clip-path=\"url(#clip370)\" style=\"stroke:#000000; stroke-linecap:round; stroke-linejoin:round; stroke-width:4; stroke-opacity:1; fill:none\" points=\"\n  247.366,1410.9 247.366,47.2441 \n  \"/>\n<polyline clip-path=\"url(#clip370)\" style=\"stroke:#000000; stroke-linecap:round; stroke-linejoin:round; stroke-width:4; stroke-opacity:1; fill:none\" points=\"\n  247.366,1237.89 266.264,1237.89 \n  \"/>\n<polyline clip-path=\"url(#clip370)\" style=\"stroke:#000000; stroke-linecap:round; stroke-linejoin:round; stroke-width:4; stroke-opacity:1; fill:none\" points=\"\n  247.366,985.413 266.264,985.413 \n  \"/>\n<polyline clip-path=\"url(#clip370)\" style=\"stroke:#000000; stroke-linecap:round; stroke-linejoin:round; stroke-width:4; stroke-opacity:1; fill:none\" points=\"\n  247.366,732.933 266.264,732.933 \n  \"/>\n<polyline clip-path=\"url(#clip370)\" style=\"stroke:#000000; stroke-linecap:round; stroke-linejoin:round; stroke-width:4; stroke-opacity:1; fill:none\" points=\"\n  247.366,480.454 266.264,480.454 \n  \"/>\n<polyline clip-path=\"url(#clip370)\" style=\"stroke:#000000; stroke-linecap:round; stroke-linejoin:round; stroke-width:4; stroke-opacity:1; fill:none\" points=\"\n  247.366,227.974 266.264,227.974 \n  \"/>\n<path clip-path=\"url(#clip370)\" d=\"M115.024 1251.24 L122.663 1251.24 L122.663 1224.87 L114.353 1226.54 L114.353 1222.28 L122.617 1220.61 L127.292 1220.61 L127.292 1251.24 L134.931 1251.24 L134.931 1255.17 L115.024 1255.17 L115.024 1251.24 Z\" fill=\"#000000\" fill-rule=\"evenodd\" fill-opacity=\"1\" /><path clip-path=\"url(#clip370)\" d=\"M144.376 1249.29 L149.26 1249.29 L149.26 1255.17 L144.376 1255.17 L144.376 1249.29 Z\" fill=\"#000000\" fill-rule=\"evenodd\" fill-opacity=\"1\" /><path clip-path=\"url(#clip370)\" d=\"M163.473 1251.24 L179.792 1251.24 L179.792 1255.17 L157.848 1255.17 L157.848 1251.24 Q160.51 1248.48 165.093 1243.85 Q169.7 1239.2 170.88 1237.86 Q173.126 1235.34 174.005 1233.6 Q174.908 1231.84 174.908 1230.15 Q174.908 1227.4 172.964 1225.66 Q171.042 1223.92 167.94 1223.92 Q165.741 1223.92 163.288 1224.69 Q160.857 1225.45 158.079 1227 L158.079 1222.28 Q160.903 1221.15 163.357 1220.57 Q165.811 1219.99 167.848 1219.99 Q173.218 1219.99 176.413 1222.67 Q179.607 1225.36 179.607 1229.85 Q179.607 1231.98 178.797 1233.9 Q178.01 1235.8 175.903 1238.39 Q175.325 1239.06 172.223 1242.28 Q169.121 1245.47 163.473 1251.24 Z\" fill=\"#000000\" fill-rule=\"evenodd\" fill-opacity=\"1\" /><path clip-path=\"url(#clip370)\" d=\"M189.746 1254.46 L189.746 1250.2 Q191.505 1251.03 193.311 1251.47 Q195.116 1251.91 196.852 1251.91 Q201.482 1251.91 203.912 1248.81 Q206.366 1245.68 206.713 1239.34 Q205.371 1241.33 203.311 1242.4 Q201.25 1243.46 198.75 1243.46 Q193.565 1243.46 190.533 1240.34 Q187.524 1237.19 187.524 1231.75 Q187.524 1226.42 190.672 1223.21 Q193.82 1219.99 199.051 1219.99 Q205.047 1219.99 208.195 1224.59 Q211.366 1229.18 211.366 1237.93 Q211.366 1246.1 207.477 1250.98 Q203.612 1255.84 197.061 1255.84 Q195.301 1255.84 193.496 1255.5 Q191.69 1255.15 189.746 1254.46 M199.051 1239.8 Q202.2 1239.8 204.028 1237.65 Q205.88 1235.5 205.88 1231.75 Q205.88 1228.02 204.028 1225.87 Q202.2 1223.69 199.051 1223.69 Q195.903 1223.69 194.051 1225.87 Q192.223 1228.02 192.223 1231.75 Q192.223 1235.5 194.051 1237.65 Q195.903 1239.8 199.051 1239.8 Z\" fill=\"#000000\" fill-rule=\"evenodd\" fill-opacity=\"1\" /><path clip-path=\"url(#clip370)\" d=\"M116.436 998.758 L124.075 998.758 L124.075 972.393 L115.765 974.059 L115.765 969.8 L124.029 968.133 L128.705 968.133 L128.705 998.758 L136.343 998.758 L136.343 1002.69 L116.436 1002.69 L116.436 998.758 Z\" fill=\"#000000\" fill-rule=\"evenodd\" fill-opacity=\"1\" /><path clip-path=\"url(#clip370)\" d=\"M145.788 996.814 L150.672 996.814 L150.672 1002.69 L145.788 1002.69 L145.788 996.814 Z\" fill=\"#000000\" fill-rule=\"evenodd\" fill-opacity=\"1\" /><path clip-path=\"url(#clip370)\" d=\"M175.024 984.059 Q178.38 984.777 180.255 987.045 Q182.153 989.314 182.153 992.647 Q182.153 997.763 178.635 1000.56 Q175.116 1003.36 168.635 1003.36 Q166.459 1003.36 164.144 1002.92 Q161.852 1002.51 159.399 1001.65 L159.399 997.138 Q161.343 998.272 163.658 998.851 Q165.973 999.429 168.496 999.429 Q172.894 999.429 175.186 997.693 Q177.501 995.957 177.501 992.647 Q177.501 989.592 175.348 987.879 Q173.218 986.143 169.399 986.143 L165.371 986.143 L165.371 982.3 L169.584 982.3 Q173.033 982.3 174.862 980.934 Q176.69 979.545 176.69 976.953 Q176.69 974.291 174.792 972.879 Q172.917 971.444 169.399 971.444 Q167.477 971.444 165.278 971.86 Q163.079 972.277 160.44 973.156 L160.44 968.99 Q163.102 968.249 165.417 967.879 Q167.755 967.508 169.815 967.508 Q175.139 967.508 178.241 969.939 Q181.343 972.346 181.343 976.467 Q181.343 979.337 179.7 981.328 Q178.056 983.295 175.024 984.059 Z\" fill=\"#000000\" fill-rule=\"evenodd\" fill-opacity=\"1\" /><path clip-path=\"url(#clip370)\" d=\"M195.047 998.758 L211.366 998.758 L211.366 1002.69 L189.422 1002.69 L189.422 998.758 Q192.084 996.004 196.667 991.374 Q201.274 986.721 202.454 985.379 Q204.699 982.855 205.579 981.119 Q206.482 979.36 206.482 977.67 Q206.482 974.916 204.537 973.18 Q202.616 971.444 199.514 971.444 Q197.315 971.444 194.862 972.207 Q192.431 972.971 189.653 974.522 L189.653 969.8 Q192.477 968.666 194.931 968.087 Q197.385 967.508 199.422 967.508 Q204.792 967.508 207.987 970.194 Q211.181 972.879 211.181 977.369 Q211.181 979.499 210.371 981.42 Q209.584 983.318 207.477 985.911 Q206.899 986.582 203.797 989.8 Q200.695 992.994 195.047 998.758 Z\" fill=\"#000000\" fill-rule=\"evenodd\" fill-opacity=\"1\" /><path clip-path=\"url(#clip370)\" d=\"M115.834 746.278 L123.473 746.278 L123.473 719.913 L115.163 721.579 L115.163 717.32 L123.427 715.653 L128.103 715.653 L128.103 746.278 L135.742 746.278 L135.742 750.213 L115.834 750.213 L115.834 746.278 Z\" fill=\"#000000\" fill-rule=\"evenodd\" fill-opacity=\"1\" /><path clip-path=\"url(#clip370)\" d=\"M145.186 744.334 L150.07 744.334 L150.07 750.213 L145.186 750.213 L145.186 744.334 Z\" fill=\"#000000\" fill-rule=\"evenodd\" fill-opacity=\"1\" /><path clip-path=\"url(#clip370)\" d=\"M174.422 731.579 Q177.778 732.297 179.653 734.565 Q181.551 736.834 181.551 740.167 Q181.551 745.283 178.033 748.084 Q174.514 750.885 168.033 750.885 Q165.857 750.885 163.542 750.445 Q161.251 750.028 158.797 749.172 L158.797 744.658 Q160.741 745.792 163.056 746.371 Q165.371 746.95 167.894 746.95 Q172.292 746.95 174.584 745.213 Q176.899 743.477 176.899 740.167 Q176.899 737.112 174.746 735.399 Q172.616 733.663 168.797 733.663 L164.769 733.663 L164.769 729.82 L168.982 729.82 Q172.431 729.82 174.26 728.454 Q176.089 727.065 176.089 724.473 Q176.089 721.811 174.19 720.399 Q172.315 718.964 168.797 718.964 Q166.876 718.964 164.677 719.38 Q162.477 719.797 159.839 720.677 L159.839 716.51 Q162.501 715.769 164.815 715.399 Q167.153 715.028 169.214 715.028 Q174.538 715.028 177.639 717.459 Q180.741 719.866 180.741 723.987 Q180.741 726.857 179.098 728.848 Q177.454 730.815 174.422 731.579 Z\" fill=\"#000000\" fill-rule=\"evenodd\" fill-opacity=\"1\" /><path clip-path=\"url(#clip370)\" d=\"M190.463 715.653 L208.82 715.653 L208.82 719.589 L194.746 719.589 L194.746 728.061 Q195.764 727.714 196.783 727.552 Q197.801 727.366 198.82 727.366 Q204.607 727.366 207.987 730.538 Q211.366 733.709 211.366 739.126 Q211.366 744.704 207.894 747.806 Q204.422 750.885 198.102 750.885 Q195.926 750.885 193.658 750.514 Q191.413 750.144 189.005 749.403 L189.005 744.704 Q191.088 745.838 193.311 746.394 Q195.533 746.95 198.01 746.95 Q202.014 746.95 204.352 744.843 Q206.69 742.737 206.69 739.126 Q206.69 735.514 204.352 733.408 Q202.014 731.302 198.01 731.302 Q196.135 731.302 194.26 731.718 Q192.408 732.135 190.463 733.014 L190.463 715.653 Z\" fill=\"#000000\" fill-rule=\"evenodd\" fill-opacity=\"1\" /><path clip-path=\"url(#clip370)\" d=\"M114.931 493.798 L122.57 493.798 L122.57 467.433 L114.26 469.099 L114.26 464.84 L122.524 463.174 L127.2 463.174 L127.2 493.798 L134.839 493.798 L134.839 497.734 L114.931 497.734 L114.931 493.798 Z\" fill=\"#000000\" fill-rule=\"evenodd\" fill-opacity=\"1\" /><path clip-path=\"url(#clip370)\" d=\"M144.283 491.854 L149.167 491.854 L149.167 497.734 L144.283 497.734 L144.283 491.854 Z\" fill=\"#000000\" fill-rule=\"evenodd\" fill-opacity=\"1\" /><path clip-path=\"url(#clip370)\" d=\"M173.519 479.099 Q176.876 479.817 178.751 482.085 Q180.649 484.354 180.649 487.687 Q180.649 492.803 177.13 495.604 Q173.612 498.405 167.13 498.405 Q164.954 498.405 162.64 497.965 Q160.348 497.548 157.894 496.692 L157.894 492.178 Q159.839 493.312 162.153 493.891 Q164.468 494.47 166.991 494.47 Q171.389 494.47 173.681 492.734 Q175.996 490.997 175.996 487.687 Q175.996 484.632 173.843 482.919 Q171.714 481.183 167.894 481.183 L163.866 481.183 L163.866 477.34 L168.079 477.34 Q171.528 477.34 173.357 475.974 Q175.186 474.586 175.186 471.993 Q175.186 469.331 173.288 467.919 Q171.413 466.484 167.894 466.484 Q165.973 466.484 163.774 466.9 Q161.575 467.317 158.936 468.197 L158.936 464.03 Q161.598 463.289 163.913 462.919 Q166.251 462.549 168.311 462.549 Q173.635 462.549 176.737 464.979 Q179.839 467.387 179.839 471.507 Q179.839 474.377 178.195 476.368 Q176.551 478.336 173.519 479.099 Z\" fill=\"#000000\" fill-rule=\"evenodd\" fill-opacity=\"1\" /><path clip-path=\"url(#clip370)\" d=\"M199.514 481.322 Q196.181 481.322 194.26 483.104 Q192.362 484.886 192.362 488.011 Q192.362 491.136 194.26 492.919 Q196.181 494.701 199.514 494.701 Q202.848 494.701 204.769 492.919 Q206.69 491.113 206.69 488.011 Q206.69 484.886 204.769 483.104 Q202.871 481.322 199.514 481.322 M194.838 479.331 Q191.829 478.59 190.139 476.53 Q188.473 474.47 188.473 471.507 Q188.473 467.363 191.413 464.956 Q194.375 462.549 199.514 462.549 Q204.676 462.549 207.616 464.956 Q210.556 467.363 210.556 471.507 Q210.556 474.47 208.866 476.53 Q207.199 478.59 204.213 479.331 Q207.593 480.118 209.468 482.41 Q211.366 484.701 211.366 488.011 Q211.366 493.035 208.287 495.72 Q205.232 498.405 199.514 498.405 Q193.797 498.405 190.718 495.72 Q187.663 493.035 187.663 488.011 Q187.663 484.701 189.561 482.41 Q191.459 480.118 194.838 479.331 M193.125 471.947 Q193.125 474.632 194.792 476.136 Q196.482 477.641 199.514 477.641 Q202.524 477.641 204.213 476.136 Q205.926 474.632 205.926 471.947 Q205.926 469.261 204.213 467.757 Q202.524 466.252 199.514 466.252 Q196.482 466.252 194.792 467.757 Q193.125 469.261 193.125 471.947 Z\" fill=\"#000000\" fill-rule=\"evenodd\" fill-opacity=\"1\" /><path clip-path=\"url(#clip370)\" d=\"M116.066 241.318 L123.705 241.318 L123.705 214.953 L115.394 216.62 L115.394 212.36 L123.658 210.694 L128.334 210.694 L128.334 241.318 L135.973 241.318 L135.973 245.254 L116.066 245.254 L116.066 241.318 Z\" fill=\"#000000\" fill-rule=\"evenodd\" fill-opacity=\"1\" /><path clip-path=\"url(#clip370)\" d=\"M145.417 239.374 L150.302 239.374 L150.302 245.254 L145.417 245.254 L145.417 239.374 Z\" fill=\"#000000\" fill-rule=\"evenodd\" fill-opacity=\"1\" /><path clip-path=\"url(#clip370)\" d=\"M173.334 214.768 L161.528 233.217 L173.334 233.217 L173.334 214.768 M172.107 210.694 L177.987 210.694 L177.987 233.217 L182.917 233.217 L182.917 237.106 L177.987 237.106 L177.987 245.254 L173.334 245.254 L173.334 237.106 L157.732 237.106 L157.732 232.592 L172.107 210.694 Z\" fill=\"#000000\" fill-rule=\"evenodd\" fill-opacity=\"1\" /><path clip-path=\"url(#clip370)\" d=\"M191.459 241.318 L199.098 241.318 L199.098 214.953 L190.788 216.62 L190.788 212.36 L199.051 210.694 L203.727 210.694 L203.727 241.318 L211.366 241.318 L211.366 245.254 L191.459 245.254 L191.459 241.318 Z\" fill=\"#000000\" fill-rule=\"evenodd\" fill-opacity=\"1\" /><path clip-path=\"url(#clip370)\" d=\"M22.818 978.129 L46.4666 986.85 L46.4666 969.376 L22.818 978.129 M16.4842 981.757 L16.4842 974.468 L64.0042 956.358 L64.0042 963.042 L51.8138 967.371 L51.8138 988.791 L64.0042 993.12 L64.0042 999.899 L16.4842 981.757 Z\" fill=\"#000000\" fill-rule=\"evenodd\" fill-opacity=\"1\" /><path clip-path=\"url(#clip370)\" d=\"M28.3562 957.695 L28.3562 951.488 L58.275 940.348 L28.3562 929.208 L28.3562 923.002 L64.0042 936.37 L64.0042 944.327 L28.3562 957.695 Z\" fill=\"#000000\" fill-rule=\"evenodd\" fill-opacity=\"1\" /><path clip-path=\"url(#clip370)\" d=\"M44.7161 884.425 L47.5806 884.425 L47.5806 911.352 Q53.6281 910.97 56.8109 907.724 Q59.9619 904.446 59.9619 898.621 Q59.9619 895.247 59.1344 892.096 Q58.3069 888.913 56.6518 885.794 L62.1899 885.794 Q63.5267 888.945 64.227 892.255 Q64.9272 895.565 64.9272 898.971 Q64.9272 907.501 59.9619 912.498 Q54.9967 917.463 46.5303 917.463 Q37.7774 917.463 32.6531 912.753 Q27.4968 908.01 27.4968 899.99 Q27.4968 892.796 32.1438 888.627 Q36.7589 884.425 44.7161 884.425 M42.9973 890.282 Q38.1912 890.346 35.3266 892.987 Q32.4621 895.597 32.4621 899.926 Q32.4621 904.828 35.2312 907.788 Q38.0002 910.716 43.0292 911.161 L42.9973 890.282 Z\" fill=\"#000000\" fill-rule=\"evenodd\" fill-opacity=\"1\" /><path clip-path=\"url(#clip370)\" d=\"M33.8307 854.157 Q33.2578 855.143 33.0032 856.321 Q32.7167 857.467 32.7167 858.867 Q32.7167 863.832 35.9632 866.506 Q39.1779 869.148 45.2253 869.148 L64.0042 869.148 L64.0042 875.036 L28.3562 875.036 L28.3562 869.148 L33.8944 869.148 Q30.6479 867.302 29.0883 864.342 Q27.4968 861.382 27.4968 857.148 Q27.4968 856.544 27.5923 855.812 Q27.656 855.08 27.8151 854.188 L33.8307 854.157 Z\" fill=\"#000000\" fill-rule=\"evenodd\" fill-opacity=\"1\" /><path clip-path=\"url(#clip370)\" d=\"M46.0847 831.813 Q46.0847 838.911 47.7079 841.648 Q49.3312 844.385 53.2461 844.385 Q56.3653 844.385 58.2114 842.348 Q60.0256 840.279 60.0256 836.746 Q60.0256 831.877 56.5881 828.948 Q53.1188 825.988 47.3897 825.988 L46.0847 825.988 L46.0847 831.813 M43.6657 820.132 L64.0042 820.132 L64.0042 825.988 L58.5933 825.988 Q61.8398 827.993 63.3994 830.985 Q64.9272 833.977 64.9272 838.306 Q64.9272 843.78 61.8716 847.027 Q58.7843 850.242 53.6281 850.242 Q47.6125 850.242 44.5569 846.231 Q41.5014 842.189 41.5014 834.2 L41.5014 825.988 L40.9285 825.988 Q36.8862 825.988 34.6901 828.662 Q32.4621 831.304 32.4621 836.11 Q32.4621 839.165 33.1941 842.062 Q33.9262 844.958 35.3903 847.632 L29.9795 847.632 Q28.7381 844.417 28.1334 841.393 Q27.4968 838.37 27.4968 835.505 Q27.4968 827.771 31.5072 823.951 Q35.5176 820.132 43.6657 820.132 Z\" fill=\"#000000\" fill-rule=\"evenodd\" fill-opacity=\"1\" /><path clip-path=\"url(#clip370)\" d=\"M45.7664 784.611 Q39.4007 784.611 35.8996 787.253 Q32.3984 789.863 32.3984 794.605 Q32.3984 799.316 35.8996 801.958 Q39.4007 804.568 45.7664 804.568 Q52.1003 804.568 55.6014 801.958 Q59.1026 799.316 59.1026 794.605 Q59.1026 789.863 55.6014 787.253 Q52.1003 784.611 45.7664 784.611 M59.58 778.755 Q68.683 778.755 73.1071 782.797 Q77.5631 786.839 77.5631 795.178 Q77.5631 798.266 77.0857 801.003 Q76.6401 803.74 75.6852 806.318 L69.9879 806.318 Q71.3884 803.74 72.0568 801.226 Q72.7252 798.711 72.7252 796.101 Q72.7252 790.34 69.7015 787.476 Q66.7096 784.611 60.6303 784.611 L57.7339 784.611 Q60.885 786.425 62.4446 789.258 Q64.0042 792.091 64.0042 796.038 Q64.0042 802.594 59.0071 806.605 Q54.01 810.615 45.7664 810.615 Q37.491 810.615 32.4939 806.605 Q27.4968 802.594 27.4968 796.038 Q27.4968 792.091 29.0564 789.258 Q30.616 786.425 33.7671 784.611 L28.3562 784.611 L28.3562 778.755 L59.58 778.755 Z\" fill=\"#000000\" fill-rule=\"evenodd\" fill-opacity=\"1\" /><path clip-path=\"url(#clip370)\" d=\"M44.7161 736.2 L47.5806 736.2 L47.5806 763.127 Q53.6281 762.745 56.8109 759.498 Q59.9619 756.22 59.9619 750.395 Q59.9619 747.022 59.1344 743.871 Q58.3069 740.688 56.6518 737.569 L62.1899 737.569 Q63.5267 740.72 64.227 744.03 Q64.9272 747.34 64.9272 750.746 Q64.9272 759.276 59.9619 764.273 Q54.9967 769.238 46.5303 769.238 Q37.7774 769.238 32.6531 764.527 Q27.4968 759.785 27.4968 751.764 Q27.4968 744.571 32.1438 740.401 Q36.7589 736.2 44.7161 736.2 M42.9973 742.056 Q38.1912 742.12 35.3266 744.762 Q32.4621 747.372 32.4621 751.7 Q32.4621 756.602 35.2312 759.562 Q38.0002 762.49 43.0292 762.936 L42.9973 742.056 Z\" fill=\"#000000\" fill-rule=\"evenodd\" fill-opacity=\"1\" /><path clip-path=\"url(#clip370)\" d=\"M64.0042 693.359 L16.4842 711.501 L16.4842 704.785 L56.4926 689.73 L16.4842 674.644 L16.4842 667.96 L64.0042 686.07 L64.0042 693.359 Z\" fill=\"#000000\" fill-rule=\"evenodd\" fill-opacity=\"1\" /><path clip-path=\"url(#clip370)\" d=\"M44.7161 635.845 L47.5806 635.845 L47.5806 662.772 Q53.6281 662.39 56.8109 659.143 Q59.9619 655.865 59.9619 650.04 Q59.9619 646.666 59.1344 643.515 Q58.3069 640.332 56.6518 637.213 L62.1899 637.213 Q63.5267 640.364 64.227 643.674 Q64.9272 646.985 64.9272 650.39 Q64.9272 658.92 59.9619 663.917 Q54.9967 668.883 46.5303 668.883 Q37.7774 668.883 32.6531 664.172 Q27.4968 659.43 27.4968 651.409 Q27.4968 644.215 32.1438 640.046 Q36.7589 635.845 44.7161 635.845 M42.9973 641.701 Q38.1912 641.765 35.3266 644.406 Q32.4621 647.016 32.4621 651.345 Q32.4621 656.247 35.2312 659.207 Q38.0002 662.135 43.0292 662.581 L42.9973 641.701 Z\" fill=\"#000000\" fill-rule=\"evenodd\" fill-opacity=\"1\" /><path clip-path=\"url(#clip370)\" d=\"M14.479 626.232 L14.479 620.376 L64.0042 620.376 L64.0042 626.232 L14.479 626.232 Z\" fill=\"#000000\" fill-rule=\"evenodd\" fill-opacity=\"1\" /><path clip-path=\"url(#clip370)\" d=\"M32.4621 594.308 Q32.4621 599.019 36.1542 601.756 Q39.8145 604.493 46.212 604.493 Q52.6095 604.493 56.3017 601.788 Q59.9619 599.051 59.9619 594.308 Q59.9619 589.63 56.2698 586.892 Q52.5777 584.155 46.212 584.155 Q39.8781 584.155 36.186 586.892 Q32.4621 589.63 32.4621 594.308 M27.4968 594.308 Q27.4968 586.67 32.4621 582.309 Q37.4273 577.948 46.212 577.948 Q54.9649 577.948 59.9619 582.309 Q64.9272 586.67 64.9272 594.308 Q64.9272 601.979 59.9619 606.34 Q54.9649 610.668 46.212 610.668 Q37.4273 610.668 32.4621 606.34 Q27.4968 601.979 27.4968 594.308 Z\" fill=\"#000000\" fill-rule=\"evenodd\" fill-opacity=\"1\" /><path clip-path=\"url(#clip370)\" d=\"M29.7248 542.587 L35.1993 542.587 Q33.8307 545.07 33.1623 547.584 Q32.4621 550.067 32.4621 552.613 Q32.4621 558.31 36.0905 561.461 Q39.6872 564.612 46.212 564.612 Q52.7369 564.612 56.3653 561.461 Q59.9619 558.31 59.9619 552.613 Q59.9619 550.067 59.2935 547.584 Q58.5933 545.07 57.2247 542.587 L62.6355 542.587 Q63.7814 545.038 64.3543 547.68 Q64.9272 550.289 64.9272 553.25 Q64.9272 561.302 59.8664 566.045 Q54.8057 570.787 46.212 570.787 Q37.491 570.787 32.4939 566.013 Q27.4968 561.207 27.4968 552.868 Q27.4968 550.162 28.0697 547.584 Q28.6108 545.006 29.7248 542.587 Z\" fill=\"#000000\" fill-rule=\"evenodd\" fill-opacity=\"1\" /><path clip-path=\"url(#clip370)\" d=\"M28.3562 532.402 L28.3562 526.545 L64.0042 526.545 L64.0042 532.402 L28.3562 532.402 M14.479 532.402 L14.479 526.545 L21.895 526.545 L21.895 532.402 L14.479 532.402 Z\" fill=\"#000000\" fill-rule=\"evenodd\" fill-opacity=\"1\" /><path clip-path=\"url(#clip370)\" d=\"M18.2347 508.499 L28.3562 508.499 L28.3562 496.436 L32.9077 496.436 L32.9077 508.499 L52.2594 508.499 Q56.6199 508.499 57.8613 507.321 Q59.1026 506.111 59.1026 502.451 L59.1026 496.436 L64.0042 496.436 L64.0042 502.451 Q64.0042 509.231 61.4897 511.809 Q58.9434 514.387 52.2594 514.387 L32.9077 514.387 L32.9077 518.684 L28.3562 518.684 L28.3562 514.387 L18.2347 514.387 L18.2347 508.499 Z\" fill=\"#000000\" fill-rule=\"evenodd\" fill-opacity=\"1\" /><path clip-path=\"url(#clip370)\" d=\"M67.3143 473.901 Q73.68 476.384 75.6216 478.739 Q77.5631 481.094 77.5631 485.041 L77.5631 489.72 L72.6615 489.72 L72.6615 486.282 Q72.6615 483.863 71.5157 482.527 Q70.3699 481.19 66.1048 479.566 L63.4312 478.516 L28.3562 492.934 L28.3562 486.728 L56.238 475.588 L28.3562 464.448 L28.3562 458.241 L67.3143 473.901 Z\" fill=\"#000000\" fill-rule=\"evenodd\" fill-opacity=\"1\" /><polyline clip-path=\"url(#clip372)\" style=\"stroke:#009af9; stroke-linecap:round; stroke-linejoin:round; stroke-width:4; stroke-opacity:1; fill:none\" points=\"\n  306.953,1372.3 341.799,1305.26 376.644,1006.83 411.49,956.591 446.336,870.601 481.182,631.915 516.028,720.049 550.874,623.292 585.72,689.102 620.566,941.243 \n  655.412,641.664 690.258,579.139 725.104,544.736 759.949,535.041 794.795,599.169 829.641,663.467 864.487,539.939 899.333,643.769 934.179,710.976 969.025,608.145 \n  1003.87,505.275 1038.72,493.851 1073.56,479.24 1108.41,490.766 1143.25,634.866 1178.1,581.842 1212.95,604.723 1247.79,346.699 1282.64,359.726 1317.48,396.745 \n  1352.33,355.618 1387.18,519.832 1422.02,278.286 1456.87,354.237 1491.71,260.954 1526.56,406.948 1561.41,445.456 1596.25,324.978 1631.1,346.189 1665.94,375.282 \n  1700.79,438.463 1735.63,431.471 1770.48,96.1867 1805.33,403.28 1840.17,445.847 1875.02,161.233 1909.86,319.95 1944.71,433.804 1979.56,321.578 2014.4,369.385 \n  2049.25,377.42 2084.09,85.838 2118.94,284.628 2153.79,332.793 2188.63,381.31 2223.48,276.024 2258.32,180.081 2293.17,325.177 \n  \"/>\n</svg>\n"
     },
     "execution_count": 47,
     "metadata": {},
     "output_type": "execute_result"
    }
   ],
   "source": [
    "plot(iterations, avg_velocity, xlabel=\"Iterations\", ylabel=\"Average Velocity\", legend = false, xformatter = :scientific)"
   ]
  },
  {
   "cell_type": "code",
   "execution_count": 48,
   "id": "c3113dc1",
   "metadata": {},
   "outputs": [
    {
     "data": {
      "text/plain": [
       "\"/home/larissa/Documents/Projects/ADLR/ADLR_project/src/3d/plots/slow/avg_velocity.svg\""
      ]
     },
     "execution_count": 48,
     "metadata": {},
     "output_type": "execute_result"
    }
   ],
   "source": [
    "savefig(fig_path * \"avg_velocity.svg\")"
   ]
  },
  {
   "cell_type": "code",
   "execution_count": 49,
   "id": "1b4de56f",
   "metadata": {},
   "outputs": [
    {
     "data": {
      "image/svg+xml": "<?xml version=\"1.0\" encoding=\"utf-8\"?>\n<svg xmlns=\"http://www.w3.org/2000/svg\" xmlns:xlink=\"http://www.w3.org/1999/xlink\" width=\"600\" height=\"400\" viewBox=\"0 0 2400 1600\">\n<defs>\n  <clipPath id=\"clip450\">\n    <rect x=\"0\" y=\"0\" width=\"2400\" height=\"1600\"/>\n  </clipPath>\n</defs>\n<path clip-path=\"url(#clip450)\" d=\"\nM0 1600 L2400 1600 L2400 0 L0 0  Z\n  \" fill=\"#ffffff\" fill-rule=\"evenodd\" fill-opacity=\"1\"/>\n<defs>\n  <clipPath id=\"clip451\">\n    <rect x=\"480\" y=\"0\" width=\"1681\" height=\"1600\"/>\n  </clipPath>\n</defs>\n<path clip-path=\"url(#clip450)\" d=\"\nM219.519 1410.9 L2352.76 1410.9 L2352.76 47.2441 L219.519 47.2441  Z\n  \" fill=\"#ffffff\" fill-rule=\"evenodd\" fill-opacity=\"1\"/>\n<defs>\n  <clipPath id=\"clip452\">\n    <rect x=\"219\" y=\"47\" width=\"2134\" height=\"1365\"/>\n  </clipPath>\n</defs>\n<polyline clip-path=\"url(#clip452)\" style=\"stroke:#000000; stroke-linecap:round; stroke-linejoin:round; stroke-width:2; stroke-opacity:0.1; fill:none\" points=\"\n  244.587,1410.9 244.587,47.2441 \n  \"/>\n<polyline clip-path=\"url(#clip452)\" style=\"stroke:#000000; stroke-linecap:round; stroke-linejoin:round; stroke-width:2; stroke-opacity:0.1; fill:none\" points=\"\n  597.655,1410.9 597.655,47.2441 \n  \"/>\n<polyline clip-path=\"url(#clip452)\" style=\"stroke:#000000; stroke-linecap:round; stroke-linejoin:round; stroke-width:2; stroke-opacity:0.1; fill:none\" points=\"\n  950.723,1410.9 950.723,47.2441 \n  \"/>\n<polyline clip-path=\"url(#clip452)\" style=\"stroke:#000000; stroke-linecap:round; stroke-linejoin:round; stroke-width:2; stroke-opacity:0.1; fill:none\" points=\"\n  1303.79,1410.9 1303.79,47.2441 \n  \"/>\n<polyline clip-path=\"url(#clip452)\" style=\"stroke:#000000; stroke-linecap:round; stroke-linejoin:round; stroke-width:2; stroke-opacity:0.1; fill:none\" points=\"\n  1656.86,1410.9 1656.86,47.2441 \n  \"/>\n<polyline clip-path=\"url(#clip452)\" style=\"stroke:#000000; stroke-linecap:round; stroke-linejoin:round; stroke-width:2; stroke-opacity:0.1; fill:none\" points=\"\n  2009.93,1410.9 2009.93,47.2441 \n  \"/>\n<polyline clip-path=\"url(#clip450)\" style=\"stroke:#000000; stroke-linecap:round; stroke-linejoin:round; stroke-width:4; stroke-opacity:1; fill:none\" points=\"\n  219.519,1410.9 2352.76,1410.9 \n  \"/>\n<polyline clip-path=\"url(#clip450)\" style=\"stroke:#000000; stroke-linecap:round; stroke-linejoin:round; stroke-width:4; stroke-opacity:1; fill:none\" points=\"\n  244.587,1410.9 244.587,1392 \n  \"/>\n<polyline clip-path=\"url(#clip450)\" style=\"stroke:#000000; stroke-linecap:round; stroke-linejoin:round; stroke-width:4; stroke-opacity:1; fill:none\" points=\"\n  597.655,1410.9 597.655,1392 \n  \"/>\n<polyline clip-path=\"url(#clip450)\" style=\"stroke:#000000; stroke-linecap:round; stroke-linejoin:round; stroke-width:4; stroke-opacity:1; fill:none\" points=\"\n  950.723,1410.9 950.723,1392 \n  \"/>\n<polyline clip-path=\"url(#clip450)\" style=\"stroke:#000000; stroke-linecap:round; stroke-linejoin:round; stroke-width:4; stroke-opacity:1; fill:none\" points=\"\n  1303.79,1410.9 1303.79,1392 \n  \"/>\n<polyline clip-path=\"url(#clip450)\" style=\"stroke:#000000; stroke-linecap:round; stroke-linejoin:round; stroke-width:4; stroke-opacity:1; fill:none\" points=\"\n  1656.86,1410.9 1656.86,1392 \n  \"/>\n<polyline clip-path=\"url(#clip450)\" style=\"stroke:#000000; stroke-linecap:round; stroke-linejoin:round; stroke-width:4; stroke-opacity:1; fill:none\" points=\"\n  2009.93,1410.9 2009.93,1392 \n  \"/>\n<path clip-path=\"url(#clip450)\" d=\"M244.587 1441.82 Q240.976 1441.82 239.147 1445.38 Q237.342 1448.92 237.342 1456.05 Q237.342 1463.16 239.147 1466.72 Q240.976 1470.26 244.587 1470.26 Q248.221 1470.26 250.027 1466.72 Q251.855 1463.16 251.855 1456.05 Q251.855 1448.92 250.027 1445.38 Q248.221 1441.82 244.587 1441.82 M244.587 1438.11 Q250.397 1438.11 253.453 1442.72 Q256.531 1447.3 256.531 1456.05 Q256.531 1464.78 253.453 1469.38 Q250.397 1473.97 244.587 1473.97 Q238.777 1473.97 235.698 1469.38 Q232.642 1464.78 232.642 1456.05 Q232.642 1447.3 235.698 1442.72 Q238.777 1438.11 244.587 1438.11 Z\" fill=\"#000000\" fill-rule=\"evenodd\" fill-opacity=\"1\" /><path clip-path=\"url(#clip450)\" d=\"M505.09 1485.02 L512.728 1485.02 L512.728 1458.66 L504.418 1460.32 L504.418 1456.06 L512.682 1454.4 L517.358 1454.4 L517.358 1485.02 L524.997 1485.02 L524.997 1488.96 L505.09 1488.96 L505.09 1485.02 Z\" fill=\"#000000\" fill-rule=\"evenodd\" fill-opacity=\"1\" /><path clip-path=\"url(#clip450)\" d=\"M534.441 1483.08 L539.325 1483.08 L539.325 1488.96 L534.441 1488.96 L534.441 1483.08 Z\" fill=\"#000000\" fill-rule=\"evenodd\" fill-opacity=\"1\" /><path clip-path=\"url(#clip450)\" d=\"M559.511 1457.48 Q555.899 1457.48 554.071 1461.04 Q552.265 1464.58 552.265 1471.71 Q552.265 1478.82 554.071 1482.38 Q555.899 1485.92 559.511 1485.92 Q563.145 1485.92 564.95 1482.38 Q566.779 1478.82 566.779 1471.71 Q566.779 1464.58 564.95 1461.04 Q563.145 1457.48 559.511 1457.48 M559.511 1453.77 Q565.321 1453.77 568.376 1458.38 Q571.455 1462.96 571.455 1471.71 Q571.455 1480.44 568.376 1485.04 Q565.321 1489.63 559.511 1489.63 Q553.7 1489.63 550.622 1485.04 Q547.566 1480.44 547.566 1471.71 Q547.566 1462.96 550.622 1458.38 Q553.7 1453.77 559.511 1453.77 Z\" fill=\"#000000\" fill-rule=\"evenodd\" fill-opacity=\"1\" /><path clip-path=\"url(#clip450)\" d=\"M607.844 1463.49 L597.265 1474.12 L607.844 1484.7 L605.089 1487.5 L594.464 1476.87 L583.839 1487.5 L581.108 1484.7 L591.663 1474.12 L581.108 1463.49 L583.839 1460.69 L594.464 1471.32 L605.089 1460.69 L607.844 1463.49 Z\" fill=\"#000000\" fill-rule=\"evenodd\" fill-opacity=\"1\" /><path clip-path=\"url(#clip450)\" d=\"M620.205 1485.02 L627.844 1485.02 L627.844 1458.66 L619.533 1460.32 L619.533 1456.06 L627.797 1454.4 L632.473 1454.4 L632.473 1485.02 L640.112 1485.02 L640.112 1488.96 L620.205 1488.96 L620.205 1485.02 Z\" fill=\"#000000\" fill-rule=\"evenodd\" fill-opacity=\"1\" /><path clip-path=\"url(#clip450)\" d=\"M659.556 1457.48 Q655.945 1457.48 654.117 1461.04 Q652.311 1464.58 652.311 1471.71 Q652.311 1478.82 654.117 1482.38 Q655.945 1485.92 659.556 1485.92 Q663.191 1485.92 664.996 1482.38 Q666.825 1478.82 666.825 1471.71 Q666.825 1464.58 664.996 1461.04 Q663.191 1457.48 659.556 1457.48 M659.556 1453.77 Q665.366 1453.77 668.422 1458.38 Q671.501 1462.96 671.501 1471.71 Q671.501 1480.44 668.422 1485.04 Q665.366 1489.63 659.556 1489.63 Q653.746 1489.63 650.667 1485.04 Q647.612 1480.44 647.612 1471.71 Q647.612 1462.96 650.667 1458.38 Q653.746 1453.77 659.556 1453.77 Z\" fill=\"#000000\" fill-rule=\"evenodd\" fill-opacity=\"1\" /><path clip-path=\"url(#clip450)\" d=\"M681.525 1445.99 Q678.967 1445.99 677.463 1447.74 Q675.977 1449.49 675.977 1452.54 Q675.977 1455.57 677.463 1457.33 Q678.967 1459.08 681.525 1459.08 Q684.083 1459.08 685.569 1457.33 Q687.074 1455.57 687.074 1452.54 Q687.074 1449.49 685.569 1447.74 Q684.083 1445.99 681.525 1445.99 M689.067 1434.09 L689.067 1437.55 Q687.638 1436.87 686.171 1436.51 Q684.723 1436.16 683.293 1436.16 Q679.532 1436.16 677.538 1438.69 Q675.563 1441.23 675.281 1446.37 Q676.391 1444.73 678.065 1443.87 Q679.738 1442.98 681.751 1442.98 Q685.983 1442.98 688.428 1445.56 Q690.891 1448.12 690.891 1452.54 Q690.891 1456.86 688.334 1459.48 Q685.776 1462.09 681.525 1462.09 Q676.654 1462.09 674.077 1458.37 Q671.501 1454.62 671.501 1447.53 Q671.501 1440.88 674.66 1436.93 Q677.82 1432.96 683.143 1432.96 Q684.572 1432.96 686.02 1433.24 Q687.487 1433.52 689.067 1434.09 Z\" fill=\"#000000\" fill-rule=\"evenodd\" fill-opacity=\"1\" /><path clip-path=\"url(#clip450)\" d=\"M862.243 1485.02 L878.563 1485.02 L878.563 1488.96 L856.618 1488.96 L856.618 1485.02 Q859.28 1482.27 863.864 1477.64 Q868.47 1472.98 869.651 1471.64 Q871.896 1469.12 872.776 1467.38 Q873.678 1465.62 873.678 1463.93 Q873.678 1461.18 871.734 1459.44 Q869.813 1457.71 866.711 1457.71 Q864.512 1457.71 862.058 1458.47 Q859.627 1459.23 856.85 1460.79 L856.85 1456.06 Q859.674 1454.93 862.127 1454.35 Q864.581 1453.77 866.618 1453.77 Q871.988 1453.77 875.183 1456.46 Q878.377 1459.14 878.377 1463.63 Q878.377 1465.76 877.567 1467.68 Q876.78 1469.58 874.674 1472.17 Q874.095 1472.85 870.993 1476.06 Q867.891 1479.26 862.243 1485.02 Z\" fill=\"#000000\" fill-rule=\"evenodd\" fill-opacity=\"1\" /><path clip-path=\"url(#clip450)\" d=\"M888.377 1483.08 L893.262 1483.08 L893.262 1488.96 L888.377 1488.96 L888.377 1483.08 Z\" fill=\"#000000\" fill-rule=\"evenodd\" fill-opacity=\"1\" /><path clip-path=\"url(#clip450)\" d=\"M913.447 1457.48 Q909.836 1457.48 908.007 1461.04 Q906.201 1464.58 906.201 1471.71 Q906.201 1478.82 908.007 1482.38 Q909.836 1485.92 913.447 1485.92 Q917.081 1485.92 918.886 1482.38 Q920.715 1478.82 920.715 1471.71 Q920.715 1464.58 918.886 1461.04 Q917.081 1457.48 913.447 1457.48 M913.447 1453.77 Q919.257 1453.77 922.312 1458.38 Q925.391 1462.96 925.391 1471.71 Q925.391 1480.44 922.312 1485.04 Q919.257 1489.63 913.447 1489.63 Q907.636 1489.63 904.558 1485.04 Q901.502 1480.44 901.502 1471.71 Q901.502 1462.96 904.558 1458.38 Q907.636 1453.77 913.447 1453.77 Z\" fill=\"#000000\" fill-rule=\"evenodd\" fill-opacity=\"1\" /><path clip-path=\"url(#clip450)\" d=\"M961.78 1463.49 L951.201 1474.12 L961.78 1484.7 L959.025 1487.5 L948.4 1476.87 L937.775 1487.5 L935.044 1484.7 L945.599 1474.12 L935.044 1463.49 L937.775 1460.69 L948.4 1471.32 L959.025 1460.69 L961.78 1463.49 Z\" fill=\"#000000\" fill-rule=\"evenodd\" fill-opacity=\"1\" /><path clip-path=\"url(#clip450)\" d=\"M974.141 1485.02 L981.78 1485.02 L981.78 1458.66 L973.469 1460.32 L973.469 1456.06 L981.733 1454.4 L986.409 1454.4 L986.409 1485.02 L994.048 1485.02 L994.048 1488.96 L974.141 1488.96 L974.141 1485.02 Z\" fill=\"#000000\" fill-rule=\"evenodd\" fill-opacity=\"1\" /><path clip-path=\"url(#clip450)\" d=\"M1013.49 1457.48 Q1009.88 1457.48 1008.05 1461.04 Q1006.25 1464.58 1006.25 1471.71 Q1006.25 1478.82 1008.05 1482.38 Q1009.88 1485.92 1013.49 1485.92 Q1017.13 1485.92 1018.93 1482.38 Q1020.76 1478.82 1020.76 1471.71 Q1020.76 1464.58 1018.93 1461.04 Q1017.13 1457.48 1013.49 1457.48 M1013.49 1453.77 Q1019.3 1453.77 1022.36 1458.38 Q1025.44 1462.96 1025.44 1471.71 Q1025.44 1480.44 1022.36 1485.04 Q1019.3 1489.63 1013.49 1489.63 Q1007.68 1489.63 1004.6 1485.04 Q1001.55 1480.44 1001.55 1471.71 Q1001.55 1462.96 1004.6 1458.38 Q1007.68 1453.77 1013.49 1453.77 Z\" fill=\"#000000\" fill-rule=\"evenodd\" fill-opacity=\"1\" /><path clip-path=\"url(#clip450)\" d=\"M1035.46 1445.99 Q1032.9 1445.99 1031.4 1447.74 Q1029.91 1449.49 1029.91 1452.54 Q1029.91 1455.57 1031.4 1457.33 Q1032.9 1459.08 1035.46 1459.08 Q1038.02 1459.08 1039.5 1457.33 Q1041.01 1455.57 1041.01 1452.54 Q1041.01 1449.49 1039.5 1447.74 Q1038.02 1445.99 1035.46 1445.99 M1043 1434.09 L1043 1437.55 Q1041.57 1436.87 1040.11 1436.51 Q1038.66 1436.16 1037.23 1436.16 Q1033.47 1436.16 1031.47 1438.69 Q1029.5 1441.23 1029.22 1446.37 Q1030.33 1444.73 1032 1443.87 Q1033.67 1442.98 1035.69 1442.98 Q1039.92 1442.98 1042.36 1445.56 Q1044.83 1448.12 1044.83 1452.54 Q1044.83 1456.86 1042.27 1459.48 Q1039.71 1462.09 1035.46 1462.09 Q1030.59 1462.09 1028.01 1458.37 Q1025.44 1454.62 1025.44 1447.53 Q1025.44 1440.88 1028.6 1436.93 Q1031.76 1432.96 1037.08 1432.96 Q1038.51 1432.96 1039.96 1433.24 Q1041.42 1433.52 1043 1434.09 Z\" fill=\"#000000\" fill-rule=\"evenodd\" fill-opacity=\"1\" /><path clip-path=\"url(#clip450)\" d=\"M1225.38 1470.32 Q1228.74 1471.04 1230.61 1473.31 Q1232.51 1475.58 1232.51 1478.91 Q1232.51 1484.03 1228.99 1486.83 Q1225.47 1489.63 1218.99 1489.63 Q1216.82 1489.63 1214.5 1489.19 Q1212.21 1488.77 1209.76 1487.91 L1209.76 1483.4 Q1211.7 1484.54 1214.01 1485.11 Q1216.33 1485.69 1218.85 1485.69 Q1223.25 1485.69 1225.54 1483.96 Q1227.86 1482.22 1227.86 1478.91 Q1227.86 1475.85 1225.7 1474.14 Q1223.58 1472.41 1219.76 1472.41 L1215.73 1472.41 L1215.73 1468.56 L1219.94 1468.56 Q1223.39 1468.56 1225.22 1467.2 Q1227.05 1465.81 1227.05 1463.22 Q1227.05 1460.55 1225.15 1459.14 Q1223.27 1457.71 1219.76 1457.71 Q1217.83 1457.71 1215.64 1458.12 Q1213.44 1458.54 1210.8 1459.42 L1210.8 1455.25 Q1213.46 1454.51 1215.77 1454.14 Q1218.11 1453.77 1220.17 1453.77 Q1225.5 1453.77 1228.6 1456.2 Q1231.7 1458.61 1231.7 1462.73 Q1231.7 1465.6 1230.06 1467.59 Q1228.41 1469.56 1225.38 1470.32 Z\" fill=\"#000000\" fill-rule=\"evenodd\" fill-opacity=\"1\" /><path clip-path=\"url(#clip450)\" d=\"M1241.38 1483.08 L1246.26 1483.08 L1246.26 1488.96 L1241.38 1488.96 L1241.38 1483.08 Z\" fill=\"#000000\" fill-rule=\"evenodd\" fill-opacity=\"1\" /><path clip-path=\"url(#clip450)\" d=\"M1266.45 1457.48 Q1262.83 1457.48 1261.01 1461.04 Q1259.2 1464.58 1259.2 1471.71 Q1259.2 1478.82 1261.01 1482.38 Q1262.83 1485.92 1266.45 1485.92 Q1270.08 1485.92 1271.88 1482.38 Q1273.71 1478.82 1273.71 1471.71 Q1273.71 1464.58 1271.88 1461.04 Q1270.08 1457.48 1266.45 1457.48 M1266.45 1453.77 Q1272.26 1453.77 1275.31 1458.38 Q1278.39 1462.96 1278.39 1471.71 Q1278.39 1480.44 1275.31 1485.04 Q1272.26 1489.63 1266.45 1489.63 Q1260.64 1489.63 1257.56 1485.04 Q1254.5 1480.44 1254.5 1471.71 Q1254.5 1462.96 1257.56 1458.38 Q1260.64 1453.77 1266.45 1453.77 Z\" fill=\"#000000\" fill-rule=\"evenodd\" fill-opacity=\"1\" /><path clip-path=\"url(#clip450)\" d=\"M1314.78 1463.49 L1304.2 1474.12 L1314.78 1484.7 L1312.02 1487.5 L1301.4 1476.87 L1290.77 1487.5 L1288.04 1484.7 L1298.6 1474.12 L1288.04 1463.49 L1290.77 1460.69 L1301.4 1471.32 L1312.02 1460.69 L1314.78 1463.49 Z\" fill=\"#000000\" fill-rule=\"evenodd\" fill-opacity=\"1\" /><path clip-path=\"url(#clip450)\" d=\"M1327.14 1485.02 L1334.78 1485.02 L1334.78 1458.66 L1326.47 1460.32 L1326.47 1456.06 L1334.73 1454.4 L1339.41 1454.4 L1339.41 1485.02 L1347.05 1485.02 L1347.05 1488.96 L1327.14 1488.96 L1327.14 1485.02 Z\" fill=\"#000000\" fill-rule=\"evenodd\" fill-opacity=\"1\" /><path clip-path=\"url(#clip450)\" d=\"M1366.49 1457.48 Q1362.88 1457.48 1361.05 1461.04 Q1359.25 1464.58 1359.25 1471.71 Q1359.25 1478.82 1361.05 1482.38 Q1362.88 1485.92 1366.49 1485.92 Q1370.13 1485.92 1371.93 1482.38 Q1373.76 1478.82 1373.76 1471.71 Q1373.76 1464.58 1371.93 1461.04 Q1370.13 1457.48 1366.49 1457.48 M1366.49 1453.77 Q1372.3 1453.77 1375.36 1458.38 Q1378.44 1462.96 1378.44 1471.71 Q1378.44 1480.44 1375.36 1485.04 Q1372.3 1489.63 1366.49 1489.63 Q1360.68 1489.63 1357.6 1485.04 Q1354.55 1480.44 1354.55 1471.71 Q1354.55 1462.96 1357.6 1458.38 Q1360.68 1453.77 1366.49 1453.77 Z\" fill=\"#000000\" fill-rule=\"evenodd\" fill-opacity=\"1\" /><path clip-path=\"url(#clip450)\" d=\"M1388.46 1445.99 Q1385.9 1445.99 1384.4 1447.74 Q1382.91 1449.49 1382.91 1452.54 Q1382.91 1455.57 1384.4 1457.33 Q1385.9 1459.08 1388.46 1459.08 Q1391.02 1459.08 1392.5 1457.33 Q1394.01 1455.57 1394.01 1452.54 Q1394.01 1449.49 1392.5 1447.74 Q1391.02 1445.99 1388.46 1445.99 M1396 1434.09 L1396 1437.55 Q1394.57 1436.87 1393.11 1436.51 Q1391.66 1436.16 1390.23 1436.16 Q1386.47 1436.16 1384.47 1438.69 Q1382.5 1441.23 1382.22 1446.37 Q1383.33 1444.73 1385 1443.87 Q1386.67 1442.98 1388.69 1442.98 Q1392.92 1442.98 1395.36 1445.56 Q1397.83 1448.12 1397.83 1452.54 Q1397.83 1456.86 1395.27 1459.48 Q1392.71 1462.09 1388.46 1462.09 Q1383.59 1462.09 1381.01 1458.37 Q1378.44 1454.62 1378.44 1447.53 Q1378.44 1440.88 1381.6 1436.93 Q1384.75 1432.96 1390.08 1432.96 Q1391.51 1432.96 1392.95 1433.24 Q1394.42 1433.52 1396 1434.09 Z\" fill=\"#000000\" fill-rule=\"evenodd\" fill-opacity=\"1\" /><path clip-path=\"url(#clip450)\" d=\"M1577.78 1458.47 L1565.97 1476.92 L1577.78 1476.92 L1577.78 1458.47 M1576.55 1454.4 L1582.43 1454.4 L1582.43 1476.92 L1587.36 1476.92 L1587.36 1480.81 L1582.43 1480.81 L1582.43 1488.96 L1577.78 1488.96 L1577.78 1480.81 L1562.18 1480.81 L1562.18 1476.29 L1576.55 1454.4 Z\" fill=\"#000000\" fill-rule=\"evenodd\" fill-opacity=\"1\" /><path clip-path=\"url(#clip450)\" d=\"M1595.09 1483.08 L1599.98 1483.08 L1599.98 1488.96 L1595.09 1488.96 L1595.09 1483.08 Z\" fill=\"#000000\" fill-rule=\"evenodd\" fill-opacity=\"1\" /><path clip-path=\"url(#clip450)\" d=\"M1620.16 1457.48 Q1616.55 1457.48 1614.72 1461.04 Q1612.92 1464.58 1612.92 1471.71 Q1612.92 1478.82 1614.72 1482.38 Q1616.55 1485.92 1620.16 1485.92 Q1623.8 1485.92 1625.6 1482.38 Q1627.43 1478.82 1627.43 1471.71 Q1627.43 1464.58 1625.6 1461.04 Q1623.8 1457.48 1620.16 1457.48 M1620.16 1453.77 Q1625.97 1453.77 1629.03 1458.38 Q1632.11 1462.96 1632.11 1471.71 Q1632.11 1480.44 1629.03 1485.04 Q1625.97 1489.63 1620.16 1489.63 Q1614.35 1489.63 1611.27 1485.04 Q1608.22 1480.44 1608.22 1471.71 Q1608.22 1462.96 1611.27 1458.38 Q1614.35 1453.77 1620.16 1453.77 Z\" fill=\"#000000\" fill-rule=\"evenodd\" fill-opacity=\"1\" /><path clip-path=\"url(#clip450)\" d=\"M1668.49 1463.49 L1657.92 1474.12 L1668.49 1484.7 L1665.74 1487.5 L1655.11 1476.87 L1644.49 1487.5 L1641.76 1484.7 L1652.31 1474.12 L1641.76 1463.49 L1644.49 1460.69 L1655.11 1471.32 L1665.74 1460.69 L1668.49 1463.49 Z\" fill=\"#000000\" fill-rule=\"evenodd\" fill-opacity=\"1\" /><path clip-path=\"url(#clip450)\" d=\"M1680.86 1485.02 L1688.49 1485.02 L1688.49 1458.66 L1680.18 1460.32 L1680.18 1456.06 L1688.45 1454.4 L1693.12 1454.4 L1693.12 1485.02 L1700.76 1485.02 L1700.76 1488.96 L1680.86 1488.96 L1680.86 1485.02 Z\" fill=\"#000000\" fill-rule=\"evenodd\" fill-opacity=\"1\" /><path clip-path=\"url(#clip450)\" d=\"M1720.21 1457.48 Q1716.6 1457.48 1714.77 1461.04 Q1712.96 1464.58 1712.96 1471.71 Q1712.96 1478.82 1714.77 1482.38 Q1716.6 1485.92 1720.21 1485.92 Q1723.84 1485.92 1725.65 1482.38 Q1727.48 1478.82 1727.48 1471.71 Q1727.48 1464.58 1725.65 1461.04 Q1723.84 1457.48 1720.21 1457.48 M1720.21 1453.77 Q1726.02 1453.77 1729.07 1458.38 Q1732.15 1462.96 1732.15 1471.71 Q1732.15 1480.44 1729.07 1485.04 Q1726.02 1489.63 1720.21 1489.63 Q1714.4 1489.63 1711.32 1485.04 Q1708.26 1480.44 1708.26 1471.71 Q1708.26 1462.96 1711.32 1458.38 Q1714.4 1453.77 1720.21 1453.77 Z\" fill=\"#000000\" fill-rule=\"evenodd\" fill-opacity=\"1\" /><path clip-path=\"url(#clip450)\" d=\"M1742.18 1445.99 Q1739.62 1445.99 1738.11 1447.74 Q1736.63 1449.49 1736.63 1452.54 Q1736.63 1455.57 1738.11 1457.33 Q1739.62 1459.08 1742.18 1459.08 Q1744.73 1459.08 1746.22 1457.33 Q1747.72 1455.57 1747.72 1452.54 Q1747.72 1449.49 1746.22 1447.74 Q1744.73 1445.99 1742.18 1445.99 M1749.72 1434.09 L1749.72 1437.55 Q1748.29 1436.87 1746.82 1436.51 Q1745.37 1436.16 1743.94 1436.16 Q1740.18 1436.16 1738.19 1438.69 Q1736.21 1441.23 1735.93 1446.37 Q1737.04 1444.73 1738.72 1443.87 Q1740.39 1442.98 1742.4 1442.98 Q1746.63 1442.98 1749.08 1445.56 Q1751.54 1448.12 1751.54 1452.54 Q1751.54 1456.86 1748.98 1459.48 Q1746.43 1462.09 1742.18 1462.09 Q1737.3 1462.09 1734.73 1458.37 Q1732.15 1454.62 1732.15 1447.53 Q1732.15 1440.88 1735.31 1436.93 Q1738.47 1432.96 1743.79 1432.96 Q1745.22 1432.96 1746.67 1433.24 Q1748.14 1433.52 1749.72 1434.09 Z\" fill=\"#000000\" fill-rule=\"evenodd\" fill-opacity=\"1\" /><path clip-path=\"url(#clip450)\" d=\"M1917.37 1454.4 L1935.73 1454.4 L1935.73 1458.33 L1921.66 1458.33 L1921.66 1466.8 Q1922.67 1466.46 1923.69 1466.29 Q1924.71 1466.11 1925.73 1466.11 Q1931.52 1466.11 1934.9 1469.28 Q1938.28 1472.45 1938.28 1477.87 Q1938.28 1483.45 1934.8 1486.55 Q1931.33 1489.63 1925.01 1489.63 Q1922.84 1489.63 1920.57 1489.26 Q1918.32 1488.89 1915.91 1488.15 L1915.91 1483.45 Q1918 1484.58 1920.22 1485.14 Q1922.44 1485.69 1924.92 1485.69 Q1928.92 1485.69 1931.26 1483.59 Q1933.6 1481.48 1933.6 1477.87 Q1933.6 1474.26 1931.26 1472.15 Q1928.92 1470.04 1924.92 1470.04 Q1923.04 1470.04 1921.17 1470.46 Q1919.32 1470.88 1917.37 1471.76 L1917.37 1454.4 Z\" fill=\"#000000\" fill-rule=\"evenodd\" fill-opacity=\"1\" /><path clip-path=\"url(#clip450)\" d=\"M1947.49 1483.08 L1952.37 1483.08 L1952.37 1488.96 L1947.49 1488.96 L1947.49 1483.08 Z\" fill=\"#000000\" fill-rule=\"evenodd\" fill-opacity=\"1\" /><path clip-path=\"url(#clip450)\" d=\"M1972.56 1457.48 Q1968.95 1457.48 1967.12 1461.04 Q1965.31 1464.58 1965.31 1471.71 Q1965.31 1478.82 1967.12 1482.38 Q1968.95 1485.92 1972.56 1485.92 Q1976.19 1485.92 1978 1482.38 Q1979.83 1478.82 1979.83 1471.71 Q1979.83 1464.58 1978 1461.04 Q1976.19 1457.48 1972.56 1457.48 M1972.56 1453.77 Q1978.37 1453.77 1981.42 1458.38 Q1984.5 1462.96 1984.5 1471.71 Q1984.5 1480.44 1981.42 1485.04 Q1978.37 1489.63 1972.56 1489.63 Q1966.75 1489.63 1963.67 1485.04 Q1960.61 1480.44 1960.61 1471.71 Q1960.61 1462.96 1963.67 1458.38 Q1966.75 1453.77 1972.56 1453.77 Z\" fill=\"#000000\" fill-rule=\"evenodd\" fill-opacity=\"1\" /><path clip-path=\"url(#clip450)\" d=\"M2020.89 1463.49 L2010.31 1474.12 L2020.89 1484.7 L2018.14 1487.5 L2007.51 1476.87 L1996.89 1487.5 L1994.16 1484.7 L2004.71 1474.12 L1994.16 1463.49 L1996.89 1460.69 L2007.51 1471.32 L2018.14 1460.69 L2020.89 1463.49 Z\" fill=\"#000000\" fill-rule=\"evenodd\" fill-opacity=\"1\" /><path clip-path=\"url(#clip450)\" d=\"M2033.25 1485.02 L2040.89 1485.02 L2040.89 1458.66 L2032.58 1460.32 L2032.58 1456.06 L2040.84 1454.4 L2045.52 1454.4 L2045.52 1485.02 L2053.16 1485.02 L2053.16 1488.96 L2033.25 1488.96 L2033.25 1485.02 Z\" fill=\"#000000\" fill-rule=\"evenodd\" fill-opacity=\"1\" /><path clip-path=\"url(#clip450)\" d=\"M2072.6 1457.48 Q2068.99 1457.48 2067.16 1461.04 Q2065.36 1464.58 2065.36 1471.71 Q2065.36 1478.82 2067.16 1482.38 Q2068.99 1485.92 2072.6 1485.92 Q2076.24 1485.92 2078.04 1482.38 Q2079.87 1478.82 2079.87 1471.71 Q2079.87 1464.58 2078.04 1461.04 Q2076.24 1457.48 2072.6 1457.48 M2072.6 1453.77 Q2078.41 1453.77 2081.47 1458.38 Q2084.55 1462.96 2084.55 1471.71 Q2084.55 1480.44 2081.47 1485.04 Q2078.41 1489.63 2072.6 1489.63 Q2066.79 1489.63 2063.71 1485.04 Q2060.66 1480.44 2060.66 1471.71 Q2060.66 1462.96 2063.71 1458.38 Q2066.79 1453.77 2072.6 1453.77 Z\" fill=\"#000000\" fill-rule=\"evenodd\" fill-opacity=\"1\" /><path clip-path=\"url(#clip450)\" d=\"M2094.57 1445.99 Q2092.01 1445.99 2090.51 1447.74 Q2089.02 1449.49 2089.02 1452.54 Q2089.02 1455.57 2090.51 1457.33 Q2092.01 1459.08 2094.57 1459.08 Q2097.13 1459.08 2098.62 1457.33 Q2100.12 1455.57 2100.12 1452.54 Q2100.12 1449.49 2098.62 1447.74 Q2097.13 1445.99 2094.57 1445.99 M2102.11 1434.09 L2102.11 1437.55 Q2100.69 1436.87 2099.22 1436.51 Q2097.77 1436.16 2096.34 1436.16 Q2092.58 1436.16 2090.59 1438.69 Q2088.61 1441.23 2088.33 1446.37 Q2089.44 1444.73 2091.11 1443.87 Q2092.79 1442.98 2094.8 1442.98 Q2099.03 1442.98 2101.48 1445.56 Q2103.94 1448.12 2103.94 1452.54 Q2103.94 1456.86 2101.38 1459.48 Q2098.82 1462.09 2094.57 1462.09 Q2089.7 1462.09 2087.12 1458.37 Q2084.55 1454.62 2084.55 1447.53 Q2084.55 1440.88 2087.71 1436.93 Q2090.87 1432.96 2096.19 1432.96 Q2097.62 1432.96 2099.07 1433.24 Q2100.53 1433.52 2102.11 1434.09 Z\" fill=\"#000000\" fill-rule=\"evenodd\" fill-opacity=\"1\" /><path clip-path=\"url(#clip450)\" d=\"M1135.7 1526.67 L1142.13 1526.67 L1142.13 1574.19 L1135.7 1574.19 L1135.7 1526.67 Z\" fill=\"#000000\" fill-rule=\"evenodd\" fill-opacity=\"1\" /><path clip-path=\"url(#clip450)\" d=\"M1160.46 1528.42 L1160.46 1538.54 L1172.53 1538.54 L1172.53 1543.09 L1160.46 1543.09 L1160.46 1562.44 Q1160.46 1566.8 1161.64 1568.04 Q1162.85 1569.28 1166.51 1569.28 L1172.53 1569.28 L1172.53 1574.19 L1166.51 1574.19 Q1159.73 1574.19 1157.15 1571.67 Q1154.57 1569.12 1154.57 1562.44 L1154.57 1543.09 L1150.28 1543.09 L1150.28 1538.54 L1154.57 1538.54 L1154.57 1528.42 L1160.46 1528.42 Z\" fill=\"#000000\" fill-rule=\"evenodd\" fill-opacity=\"1\" /><path clip-path=\"url(#clip450)\" d=\"M1210.72 1554.9 L1210.72 1557.76 L1183.79 1557.76 Q1184.17 1563.81 1187.42 1566.99 Q1190.7 1570.14 1196.52 1570.14 Q1199.9 1570.14 1203.05 1569.32 Q1206.23 1568.49 1209.35 1566.83 L1209.35 1572.37 Q1206.2 1573.71 1202.89 1574.41 Q1199.58 1575.11 1196.17 1575.11 Q1187.64 1575.11 1182.65 1570.14 Q1177.68 1565.18 1177.68 1556.71 Q1177.68 1547.96 1182.39 1542.83 Q1187.13 1537.68 1195.16 1537.68 Q1202.35 1537.68 1206.52 1542.33 Q1210.72 1546.94 1210.72 1554.9 M1204.86 1553.18 Q1204.8 1548.37 1202.16 1545.51 Q1199.55 1542.64 1195.22 1542.64 Q1190.32 1542.64 1187.36 1545.41 Q1184.43 1548.18 1183.98 1553.21 L1204.86 1553.18 Z\" fill=\"#000000\" fill-rule=\"evenodd\" fill-opacity=\"1\" /><path clip-path=\"url(#clip450)\" d=\"M1240.99 1544.01 Q1240 1543.44 1238.82 1543.18 Q1237.68 1542.9 1236.28 1542.9 Q1231.31 1542.9 1228.64 1546.14 Q1226 1549.36 1226 1555.41 L1226 1574.19 L1220.11 1574.19 L1220.11 1538.54 L1226 1538.54 L1226 1544.08 Q1227.84 1540.83 1230.8 1539.27 Q1233.76 1537.68 1238 1537.68 Q1238.6 1537.68 1239.33 1537.77 Q1240.07 1537.84 1240.96 1538 L1240.99 1544.01 Z\" fill=\"#000000\" fill-rule=\"evenodd\" fill-opacity=\"1\" /><path clip-path=\"url(#clip450)\" d=\"M1263.33 1556.27 Q1256.23 1556.27 1253.5 1557.89 Q1250.76 1559.51 1250.76 1563.43 Q1250.76 1566.55 1252.8 1568.39 Q1254.87 1570.21 1258.4 1570.21 Q1263.27 1570.21 1266.2 1566.77 Q1269.16 1563.3 1269.16 1557.57 L1269.16 1556.27 L1263.33 1556.27 M1275.01 1553.85 L1275.01 1574.19 L1269.16 1574.19 L1269.16 1568.77 Q1267.15 1572.02 1264.16 1573.58 Q1261.17 1575.11 1256.84 1575.11 Q1251.36 1575.11 1248.12 1572.05 Q1244.9 1568.97 1244.9 1563.81 Q1244.9 1557.79 1248.91 1554.74 Q1252.96 1551.68 1260.95 1551.68 L1269.16 1551.68 L1269.16 1551.11 Q1269.16 1547.07 1266.48 1544.87 Q1263.84 1542.64 1259.04 1542.64 Q1255.98 1542.64 1253.08 1543.38 Q1250.19 1544.11 1247.51 1545.57 L1247.51 1540.16 Q1250.73 1538.92 1253.75 1538.31 Q1256.78 1537.68 1259.64 1537.68 Q1267.37 1537.68 1271.19 1541.69 Q1275.01 1545.7 1275.01 1553.85 Z\" fill=\"#000000\" fill-rule=\"evenodd\" fill-opacity=\"1\" /><path clip-path=\"url(#clip450)\" d=\"M1292.87 1528.42 L1292.87 1538.54 L1304.93 1538.54 L1304.93 1543.09 L1292.87 1543.09 L1292.87 1562.44 Q1292.87 1566.8 1294.05 1568.04 Q1295.26 1569.28 1298.92 1569.28 L1304.93 1569.28 L1304.93 1574.19 L1298.92 1574.19 Q1292.14 1574.19 1289.56 1571.67 Q1286.98 1569.12 1286.98 1562.44 L1286.98 1543.09 L1282.68 1543.09 L1282.68 1538.54 L1286.98 1538.54 L1286.98 1528.42 L1292.87 1528.42 Z\" fill=\"#000000\" fill-rule=\"evenodd\" fill-opacity=\"1\" /><path clip-path=\"url(#clip450)\" d=\"M1312.63 1538.54 L1318.49 1538.54 L1318.49 1574.19 L1312.63 1574.19 L1312.63 1538.54 M1312.63 1524.66 L1318.49 1524.66 L1318.49 1532.08 L1312.63 1532.08 L1312.63 1524.66 Z\" fill=\"#000000\" fill-rule=\"evenodd\" fill-opacity=\"1\" /><path clip-path=\"url(#clip450)\" d=\"M1344.56 1542.64 Q1339.85 1542.64 1337.11 1546.34 Q1334.37 1550 1334.37 1556.39 Q1334.37 1562.79 1337.08 1566.48 Q1339.82 1570.14 1344.56 1570.14 Q1349.24 1570.14 1351.97 1566.45 Q1354.71 1562.76 1354.71 1556.39 Q1354.71 1550.06 1351.97 1546.37 Q1349.24 1542.64 1344.56 1542.64 M1344.56 1537.68 Q1352.2 1537.68 1356.56 1542.64 Q1360.92 1547.61 1360.92 1556.39 Q1360.92 1565.15 1356.56 1570.14 Q1352.2 1575.11 1344.56 1575.11 Q1336.89 1575.11 1332.53 1570.14 Q1328.2 1565.15 1328.2 1556.39 Q1328.2 1547.61 1332.53 1542.64 Q1336.89 1537.68 1344.56 1537.68 Z\" fill=\"#000000\" fill-rule=\"evenodd\" fill-opacity=\"1\" /><path clip-path=\"url(#clip450)\" d=\"M1400.26 1552.67 L1400.26 1574.19 L1394.4 1574.19 L1394.4 1552.86 Q1394.4 1547.8 1392.43 1545.29 Q1390.46 1542.77 1386.51 1542.77 Q1381.77 1542.77 1379.03 1545.79 Q1376.29 1548.82 1376.29 1554.04 L1376.29 1574.19 L1370.4 1574.19 L1370.4 1538.54 L1376.29 1538.54 L1376.29 1544.08 Q1378.39 1540.86 1381.23 1539.27 Q1384.09 1537.68 1387.81 1537.68 Q1393.96 1537.68 1397.11 1541.5 Q1400.26 1545.29 1400.26 1552.67 Z\" fill=\"#000000\" fill-rule=\"evenodd\" fill-opacity=\"1\" /><path clip-path=\"url(#clip450)\" d=\"M1434.67 1539.59 L1434.67 1545.13 Q1432.18 1543.85 1429.51 1543.22 Q1426.84 1542.58 1423.97 1542.58 Q1419.61 1542.58 1417.41 1543.92 Q1415.25 1545.25 1415.25 1547.93 Q1415.25 1549.96 1416.81 1551.14 Q1418.37 1552.29 1423.08 1553.34 L1425.08 1553.78 Q1431.32 1555.12 1433.93 1557.57 Q1436.58 1559.99 1436.58 1564.35 Q1436.58 1569.32 1432.63 1572.21 Q1428.71 1575.11 1421.84 1575.11 Q1418.97 1575.11 1415.85 1574.54 Q1412.77 1573.99 1409.33 1572.88 L1409.33 1566.83 Q1412.58 1568.52 1415.73 1569.38 Q1418.88 1570.21 1421.97 1570.21 Q1426.1 1570.21 1428.33 1568.81 Q1430.56 1567.37 1430.56 1564.8 Q1430.56 1562.41 1428.94 1561.14 Q1427.34 1559.86 1421.9 1558.68 L1419.87 1558.21 Q1414.42 1557.06 1412 1554.71 Q1409.58 1552.32 1409.58 1548.18 Q1409.58 1543.15 1413.15 1540.42 Q1416.71 1537.68 1423.27 1537.68 Q1426.52 1537.68 1429.38 1538.16 Q1432.25 1538.63 1434.67 1539.59 Z\" fill=\"#000000\" fill-rule=\"evenodd\" fill-opacity=\"1\" /><polyline clip-path=\"url(#clip452)\" style=\"stroke:#000000; stroke-linecap:round; stroke-linejoin:round; stroke-width:2; stroke-opacity:0.1; fill:none\" points=\"\n  219.519,1257.32 2352.76,1257.32 \n  \"/>\n<polyline clip-path=\"url(#clip452)\" style=\"stroke:#000000; stroke-linecap:round; stroke-linejoin:round; stroke-width:2; stroke-opacity:0.1; fill:none\" points=\"\n  219.519,911.492 2352.76,911.492 \n  \"/>\n<polyline clip-path=\"url(#clip452)\" style=\"stroke:#000000; stroke-linecap:round; stroke-linejoin:round; stroke-width:2; stroke-opacity:0.1; fill:none\" points=\"\n  219.519,565.669 2352.76,565.669 \n  \"/>\n<polyline clip-path=\"url(#clip452)\" style=\"stroke:#000000; stroke-linecap:round; stroke-linejoin:round; stroke-width:2; stroke-opacity:0.1; fill:none\" points=\"\n  219.519,219.845 2352.76,219.845 \n  \"/>\n<polyline clip-path=\"url(#clip450)\" style=\"stroke:#000000; stroke-linecap:round; stroke-linejoin:round; stroke-width:4; stroke-opacity:1; fill:none\" points=\"\n  219.519,1410.9 219.519,47.2441 \n  \"/>\n<polyline clip-path=\"url(#clip450)\" style=\"stroke:#000000; stroke-linecap:round; stroke-linejoin:round; stroke-width:4; stroke-opacity:1; fill:none\" points=\"\n  219.519,1257.32 238.417,1257.32 \n  \"/>\n<polyline clip-path=\"url(#clip450)\" style=\"stroke:#000000; stroke-linecap:round; stroke-linejoin:round; stroke-width:4; stroke-opacity:1; fill:none\" points=\"\n  219.519,911.492 238.417,911.492 \n  \"/>\n<polyline clip-path=\"url(#clip450)\" style=\"stroke:#000000; stroke-linecap:round; stroke-linejoin:round; stroke-width:4; stroke-opacity:1; fill:none\" points=\"\n  219.519,565.669 238.417,565.669 \n  \"/>\n<polyline clip-path=\"url(#clip450)\" style=\"stroke:#000000; stroke-linecap:round; stroke-linejoin:round; stroke-width:4; stroke-opacity:1; fill:none\" points=\"\n  219.519,219.845 238.417,219.845 \n  \"/>\n<path clip-path=\"url(#clip450)\" d=\"M121.598 1270.66 L137.917 1270.66 L137.917 1274.6 L115.973 1274.6 L115.973 1270.66 Q118.635 1267.91 123.218 1263.28 Q127.825 1258.62 129.005 1257.28 Q131.251 1254.76 132.13 1253.02 Q133.033 1251.26 133.033 1249.57 Q133.033 1246.82 131.089 1245.08 Q129.167 1243.35 126.066 1243.35 Q123.867 1243.35 121.413 1244.11 Q118.982 1244.87 116.205 1246.43 L116.205 1241.7 Q119.029 1240.57 121.482 1239.99 Q123.936 1239.41 125.973 1239.41 Q131.343 1239.41 134.538 1242.1 Q137.732 1244.78 137.732 1249.27 Q137.732 1251.4 136.922 1253.32 Q136.135 1255.22 134.029 1257.81 Q133.45 1258.49 130.348 1261.7 Q127.246 1264.9 121.598 1270.66 Z\" fill=\"#000000\" fill-rule=\"evenodd\" fill-opacity=\"1\" /><path clip-path=\"url(#clip450)\" d=\"M147.732 1268.72 L152.616 1268.72 L152.616 1274.6 L147.732 1274.6 L147.732 1268.72 Z\" fill=\"#000000\" fill-rule=\"evenodd\" fill-opacity=\"1\" /><path clip-path=\"url(#clip450)\" d=\"M163.612 1270.66 L171.251 1270.66 L171.251 1244.3 L162.94 1245.96 L162.94 1241.7 L171.204 1240.04 L175.88 1240.04 L175.88 1270.66 L183.519 1270.66 L183.519 1274.6 L163.612 1274.6 L163.612 1270.66 Z\" fill=\"#000000\" fill-rule=\"evenodd\" fill-opacity=\"1\" /><path clip-path=\"url(#clip450)\" d=\"M121.968 924.837 L138.288 924.837 L138.288 928.772 L116.343 928.772 L116.343 924.837 Q119.006 922.083 123.589 917.453 Q128.195 912.8 129.376 911.458 Q131.621 908.935 132.501 907.198 Q133.404 905.439 133.404 903.749 Q133.404 900.995 131.459 899.259 Q129.538 897.523 126.436 897.523 Q124.237 897.523 121.783 898.286 Q119.353 899.05 116.575 900.601 L116.575 895.879 Q119.399 894.745 121.853 894.166 Q124.306 893.587 126.343 893.587 Q131.714 893.587 134.908 896.273 Q138.103 898.958 138.103 903.449 Q138.103 905.578 137.292 907.499 Q136.505 909.398 134.399 911.99 Q133.82 912.661 130.718 915.879 Q127.617 919.073 121.968 924.837 Z\" fill=\"#000000\" fill-rule=\"evenodd\" fill-opacity=\"1\" /><path clip-path=\"url(#clip450)\" d=\"M148.103 922.893 L152.987 922.893 L152.987 928.772 L148.103 928.772 L148.103 922.893 Z\" fill=\"#000000\" fill-rule=\"evenodd\" fill-opacity=\"1\" /><path clip-path=\"url(#clip450)\" d=\"M167.2 924.837 L183.519 924.837 L183.519 928.772 L161.575 928.772 L161.575 924.837 Q164.237 922.083 168.82 917.453 Q173.427 912.8 174.607 911.458 Q176.852 908.935 177.732 907.198 Q178.635 905.439 178.635 903.749 Q178.635 900.995 176.69 899.259 Q174.769 897.523 171.667 897.523 Q169.468 897.523 167.015 898.286 Q164.584 899.05 161.806 900.601 L161.806 895.879 Q164.63 894.745 167.084 894.166 Q169.538 893.587 171.575 893.587 Q176.945 893.587 180.139 896.273 Q183.334 898.958 183.334 903.449 Q183.334 905.578 182.524 907.499 Q181.737 909.398 179.63 911.99 Q179.051 912.661 175.95 915.879 Q172.848 919.073 167.2 924.837 Z\" fill=\"#000000\" fill-rule=\"evenodd\" fill-opacity=\"1\" /><path clip-path=\"url(#clip450)\" d=\"M121.019 579.013 L137.339 579.013 L137.339 582.949 L115.394 582.949 L115.394 579.013 Q118.056 576.259 122.64 571.629 Q127.246 566.976 128.427 565.634 Q130.672 563.111 131.552 561.375 Q132.455 559.615 132.455 557.926 Q132.455 555.171 130.51 553.435 Q128.589 551.699 125.487 551.699 Q123.288 551.699 120.834 552.463 Q118.404 553.227 115.626 554.777 L115.626 550.055 Q118.45 548.921 120.904 548.342 Q123.357 547.764 125.394 547.764 Q130.765 547.764 133.959 550.449 Q137.154 553.134 137.154 557.625 Q137.154 559.754 136.343 561.676 Q135.556 563.574 133.45 566.166 Q132.871 566.838 129.769 570.055 Q126.667 573.25 121.019 579.013 Z\" fill=\"#000000\" fill-rule=\"evenodd\" fill-opacity=\"1\" /><path clip-path=\"url(#clip450)\" d=\"M147.153 577.069 L152.038 577.069 L152.038 582.949 L147.153 582.949 L147.153 577.069 Z\" fill=\"#000000\" fill-rule=\"evenodd\" fill-opacity=\"1\" /><path clip-path=\"url(#clip450)\" d=\"M176.389 564.314 Q179.746 565.032 181.621 567.301 Q183.519 569.569 183.519 572.902 Q183.519 578.018 180.001 580.819 Q176.482 583.62 170.001 583.62 Q167.825 583.62 165.51 583.18 Q163.218 582.763 160.765 581.907 L160.765 577.393 Q162.709 578.527 165.024 579.106 Q167.339 579.685 169.862 579.685 Q174.26 579.685 176.551 577.949 Q178.866 576.213 178.866 572.902 Q178.866 569.847 176.714 568.134 Q174.584 566.398 170.764 566.398 L166.737 566.398 L166.737 562.555 L170.95 562.555 Q174.399 562.555 176.227 561.189 Q178.056 559.801 178.056 557.208 Q178.056 554.546 176.158 553.134 Q174.283 551.699 170.764 551.699 Q168.843 551.699 166.644 552.115 Q164.445 552.532 161.806 553.412 L161.806 549.245 Q164.468 548.504 166.783 548.134 Q169.121 547.764 171.181 547.764 Q176.505 547.764 179.607 550.194 Q182.709 552.602 182.709 556.722 Q182.709 559.592 181.065 561.583 Q179.422 563.551 176.389 564.314 Z\" fill=\"#000000\" fill-rule=\"evenodd\" fill-opacity=\"1\" /><path clip-path=\"url(#clip450)\" d=\"M119.885 233.19 L136.204 233.19 L136.204 237.125 L114.26 237.125 L114.26 233.19 Q116.922 230.435 121.505 225.805 Q126.112 221.153 127.292 219.81 Q129.538 217.287 130.417 215.551 Q131.32 213.792 131.32 212.102 Q131.32 209.347 129.376 207.611 Q127.455 205.875 124.353 205.875 Q122.154 205.875 119.7 206.639 Q117.269 207.403 114.492 208.954 L114.492 204.231 Q117.316 203.097 119.769 202.518 Q122.223 201.94 124.26 201.94 Q129.63 201.94 132.825 204.625 Q136.019 207.31 136.019 211.801 Q136.019 213.93 135.209 215.852 Q134.422 217.75 132.316 220.342 Q131.737 221.014 128.635 224.231 Q125.533 227.426 119.885 233.19 Z\" fill=\"#000000\" fill-rule=\"evenodd\" fill-opacity=\"1\" /><path clip-path=\"url(#clip450)\" d=\"M146.019 231.245 L150.903 231.245 L150.903 237.125 L146.019 237.125 L146.019 231.245 Z\" fill=\"#000000\" fill-rule=\"evenodd\" fill-opacity=\"1\" /><path clip-path=\"url(#clip450)\" d=\"M173.936 206.639 L162.13 225.088 L173.936 225.088 L173.936 206.639 M172.709 202.565 L178.589 202.565 L178.589 225.088 L183.519 225.088 L183.519 228.977 L178.589 228.977 L178.589 237.125 L173.936 237.125 L173.936 228.977 L158.334 228.977 L158.334 224.463 L172.709 202.565 Z\" fill=\"#000000\" fill-rule=\"evenodd\" fill-opacity=\"1\" /><path clip-path=\"url(#clip450)\" d=\"M22.818 1126.31 L46.4666 1135.03 L46.4666 1117.55 L22.818 1126.31 M16.4842 1129.93 L16.4842 1122.65 L64.0042 1104.54 L64.0042 1111.22 L51.8138 1115.55 L51.8138 1136.97 L64.0042 1141.3 L64.0042 1148.08 L16.4842 1129.93 Z\" fill=\"#000000\" fill-rule=\"evenodd\" fill-opacity=\"1\" /><path clip-path=\"url(#clip450)\" d=\"M28.3562 1105.87 L28.3562 1099.67 L58.275 1088.53 L28.3562 1077.39 L28.3562 1071.18 L64.0042 1084.55 L64.0042 1092.5 L28.3562 1105.87 Z\" fill=\"#000000\" fill-rule=\"evenodd\" fill-opacity=\"1\" /><path clip-path=\"url(#clip450)\" d=\"M44.7161 1032.6 L47.5806 1032.6 L47.5806 1059.53 Q53.6281 1059.15 56.8109 1055.9 Q59.9619 1052.62 59.9619 1046.8 Q59.9619 1043.42 59.1344 1040.27 Q58.3069 1037.09 56.6518 1033.97 L62.1899 1033.97 Q63.5267 1037.12 64.227 1040.43 Q64.9272 1043.74 64.9272 1047.15 Q64.9272 1055.68 59.9619 1060.68 Q54.9967 1065.64 46.5303 1065.64 Q37.7774 1065.64 32.6531 1060.93 Q27.4968 1056.19 27.4968 1048.17 Q27.4968 1040.97 32.1438 1036.8 Q36.7589 1032.6 44.7161 1032.6 M42.9973 1038.46 Q38.1912 1038.52 35.3266 1041.17 Q32.4621 1043.77 32.4621 1048.1 Q32.4621 1053.01 35.2312 1055.97 Q38.0002 1058.89 43.0292 1059.34 L42.9973 1038.46 Z\" fill=\"#000000\" fill-rule=\"evenodd\" fill-opacity=\"1\" /><path clip-path=\"url(#clip450)\" d=\"M33.8307 1002.33 Q33.2578 1003.32 33.0032 1004.5 Q32.7167 1005.64 32.7167 1007.04 Q32.7167 1012.01 35.9632 1014.68 Q39.1779 1017.33 45.2253 1017.33 L64.0042 1017.33 L64.0042 1023.21 L28.3562 1023.21 L28.3562 1017.33 L33.8944 1017.33 Q30.6479 1015.48 29.0883 1012.52 Q27.4968 1009.56 27.4968 1005.33 Q27.4968 1004.72 27.5923 1003.99 Q27.656 1003.26 27.8151 1002.37 L33.8307 1002.33 Z\" fill=\"#000000\" fill-rule=\"evenodd\" fill-opacity=\"1\" /><path clip-path=\"url(#clip450)\" d=\"M46.0847 979.991 Q46.0847 987.088 47.7079 989.826 Q49.3312 992.563 53.2461 992.563 Q56.3653 992.563 58.2114 990.526 Q60.0256 988.457 60.0256 984.924 Q60.0256 980.054 56.5881 977.126 Q53.1188 974.166 47.3897 974.166 L46.0847 974.166 L46.0847 979.991 M43.6657 968.31 L64.0042 968.31 L64.0042 974.166 L58.5933 974.166 Q61.8398 976.171 63.3994 979.163 Q64.9272 982.155 64.9272 986.484 Q64.9272 991.958 61.8716 995.205 Q58.7843 998.419 53.6281 998.419 Q47.6125 998.419 44.5569 994.409 Q41.5014 990.367 41.5014 982.378 L41.5014 974.166 L40.9285 974.166 Q36.8862 974.166 34.6901 976.84 Q32.4621 979.481 32.4621 984.287 Q32.4621 987.343 33.1941 990.239 Q33.9262 993.136 35.3903 995.809 L29.9795 995.809 Q28.7381 992.595 28.1334 989.571 Q27.4968 986.547 27.4968 983.683 Q27.4968 975.948 31.5072 972.129 Q35.5176 968.31 43.6657 968.31 Z\" fill=\"#000000\" fill-rule=\"evenodd\" fill-opacity=\"1\" /><path clip-path=\"url(#clip450)\" d=\"M45.7664 932.789 Q39.4007 932.789 35.8996 935.431 Q32.3984 938.041 32.3984 942.783 Q32.3984 947.494 35.8996 950.135 Q39.4007 952.745 45.7664 952.745 Q52.1003 952.745 55.6014 950.135 Q59.1026 947.494 59.1026 942.783 Q59.1026 938.041 55.6014 935.431 Q52.1003 932.789 45.7664 932.789 M59.58 926.932 Q68.683 926.932 73.1071 930.975 Q77.5631 935.017 77.5631 943.356 Q77.5631 946.443 77.0857 949.181 Q76.6401 951.918 75.6852 954.496 L69.9879 954.496 Q71.3884 951.918 72.0568 949.403 Q72.7252 946.889 72.7252 944.279 Q72.7252 938.518 69.7015 935.653 Q66.7096 932.789 60.6303 932.789 L57.7339 932.789 Q60.885 934.603 62.4446 937.436 Q64.0042 940.269 64.0042 944.215 Q64.0042 950.772 59.0071 954.782 Q54.01 958.793 45.7664 958.793 Q37.491 958.793 32.4939 954.782 Q27.4968 950.772 27.4968 944.215 Q27.4968 940.269 29.0564 937.436 Q30.616 934.603 33.7671 932.789 L28.3562 932.789 L28.3562 926.932 L59.58 926.932 Z\" fill=\"#000000\" fill-rule=\"evenodd\" fill-opacity=\"1\" /><path clip-path=\"url(#clip450)\" d=\"M44.7161 884.378 L47.5806 884.378 L47.5806 911.305 Q53.6281 910.923 56.8109 907.676 Q59.9619 904.398 59.9619 898.573 Q59.9619 895.199 59.1344 892.048 Q58.3069 888.866 56.6518 885.746 L62.1899 885.746 Q63.5267 888.897 64.227 892.208 Q64.9272 895.518 64.9272 898.923 Q64.9272 907.453 59.9619 912.45 Q54.9967 917.416 46.5303 917.416 Q37.7774 917.416 32.6531 912.705 Q27.4968 907.963 27.4968 899.942 Q27.4968 892.749 32.1438 888.579 Q36.7589 884.378 44.7161 884.378 M42.9973 890.234 Q38.1912 890.298 35.3266 892.94 Q32.4621 895.55 32.4621 899.878 Q32.4621 904.78 35.2312 907.74 Q38.0002 910.668 43.0292 911.114 L42.9973 890.234 Z\" fill=\"#000000\" fill-rule=\"evenodd\" fill-opacity=\"1\" /><path clip-path=\"url(#clip450)\" d=\"M20.1444 818.206 L26.9239 818.206 Q23.9002 821.453 22.4043 825.145 Q20.9083 828.805 20.9083 832.943 Q20.9083 841.091 25.9054 845.42 Q30.8707 849.748 40.2919 849.748 Q49.6813 849.748 54.6784 845.42 Q59.6436 841.091 59.6436 832.943 Q59.6436 828.805 58.1477 825.145 Q56.6518 821.453 53.6281 818.206 L60.3439 818.206 Q62.6355 821.58 63.7814 825.368 Q64.9272 829.123 64.9272 833.325 Q64.9272 844.115 58.3387 850.321 Q51.7183 856.528 40.2919 856.528 Q28.8336 856.528 22.2451 850.321 Q15.6248 844.115 15.6248 833.325 Q15.6248 829.06 16.7706 825.304 Q17.8846 821.516 20.1444 818.206 Z\" fill=\"#000000\" fill-rule=\"evenodd\" fill-opacity=\"1\" /><path clip-path=\"url(#clip450)\" d=\"M32.4621 794.717 Q32.4621 799.427 36.1542 802.165 Q39.8145 804.902 46.212 804.902 Q52.6095 804.902 56.3017 802.196 Q59.9619 799.459 59.9619 794.717 Q59.9619 790.038 56.2698 787.301 Q52.5777 784.563 46.212 784.563 Q39.8781 784.563 36.186 787.301 Q32.4621 790.038 32.4621 794.717 M27.4968 794.717 Q27.4968 787.078 32.4621 782.717 Q37.4273 778.357 46.212 778.357 Q54.9649 778.357 59.9619 782.717 Q64.9272 787.078 64.9272 794.717 Q64.9272 802.387 59.9619 806.748 Q54.9649 811.077 46.212 811.077 Q37.4273 811.077 32.4621 806.748 Q27.4968 802.387 27.4968 794.717 Z\" fill=\"#000000\" fill-rule=\"evenodd\" fill-opacity=\"1\" /><path clip-path=\"url(#clip450)\" d=\"M35.1993 740.895 Q31.2526 738.698 29.3747 735.643 Q27.4968 732.587 27.4968 728.45 Q27.4968 722.88 31.4117 719.856 Q35.2948 716.832 42.4881 716.832 L64.0042 716.832 L64.0042 722.721 L42.679 722.721 Q37.5546 722.721 35.072 724.535 Q32.5894 726.349 32.5894 730.073 Q32.5894 734.624 35.6131 737.266 Q38.6368 739.908 43.8567 739.908 L64.0042 739.908 L64.0042 745.796 L42.679 745.796 Q37.5228 745.796 35.072 747.61 Q32.5894 749.425 32.5894 753.212 Q32.5894 757.7 35.6449 760.342 Q38.6686 762.984 43.8567 762.984 L64.0042 762.984 L64.0042 768.872 L28.3562 768.872 L28.3562 762.984 L33.8944 762.984 Q30.616 760.978 29.0564 758.178 Q27.4968 755.377 27.4968 751.525 Q27.4968 747.642 29.4702 744.937 Q31.4436 742.2 35.1993 740.895 Z\" fill=\"#000000\" fill-rule=\"evenodd\" fill-opacity=\"1\" /><path clip-path=\"url(#clip450)\" d=\"M58.657 699.486 L77.5631 699.486 L77.5631 705.374 L28.3562 705.374 L28.3562 699.486 L33.7671 699.486 Q30.5842 697.64 29.0564 694.839 Q27.4968 692.006 27.4968 688.091 Q27.4968 681.598 32.6531 677.556 Q37.8093 673.482 46.212 673.482 Q54.6147 673.482 59.771 677.556 Q64.9272 681.598 64.9272 688.091 Q64.9272 692.006 63.3994 694.839 Q61.8398 697.64 58.657 699.486 M46.212 679.561 Q39.7508 679.561 36.0905 682.235 Q32.3984 684.876 32.3984 689.523 Q32.3984 694.17 36.0905 696.844 Q39.7508 699.486 46.212 699.486 Q52.6732 699.486 56.3653 696.844 Q60.0256 694.17 60.0256 689.523 Q60.0256 684.876 56.3653 682.235 Q52.6732 679.561 46.212 679.561 Z\" fill=\"#000000\" fill-rule=\"evenodd\" fill-opacity=\"1\" /><path clip-path=\"url(#clip450)\" d=\"M14.479 663.774 L14.479 657.918 L64.0042 657.918 L64.0042 663.774 L14.479 663.774 Z\" fill=\"#000000\" fill-rule=\"evenodd\" fill-opacity=\"1\" /><path clip-path=\"url(#clip450)\" d=\"M44.7161 615.172 L47.5806 615.172 L47.5806 642.099 Q53.6281 641.717 56.8109 638.47 Q59.9619 635.192 59.9619 629.367 Q59.9619 625.994 59.1344 622.843 Q58.3069 619.66 56.6518 616.541 L62.1899 616.541 Q63.5267 619.692 64.227 623.002 Q64.9272 626.312 64.9272 629.718 Q64.9272 638.248 59.9619 643.245 Q54.9967 648.21 46.5303 648.21 Q37.7774 648.21 32.6531 643.499 Q27.4968 638.757 27.4968 630.736 Q27.4968 623.543 32.1438 619.373 Q36.7589 615.172 44.7161 615.172 M42.9973 621.028 Q38.1912 621.092 35.3266 623.734 Q32.4621 626.344 32.4621 630.672 Q32.4621 635.574 35.2312 638.534 Q38.0002 641.462 43.0292 641.908 L42.9973 621.028 Z\" fill=\"#000000\" fill-rule=\"evenodd\" fill-opacity=\"1\" /><path clip-path=\"url(#clip450)\" d=\"M18.2347 599.767 L28.3562 599.767 L28.3562 587.704 L32.9077 587.704 L32.9077 599.767 L52.2594 599.767 Q56.6199 599.767 57.8613 598.589 Q59.1026 597.38 59.1026 593.72 L59.1026 587.704 L64.0042 587.704 L64.0042 593.72 Q64.0042 600.499 61.4897 603.077 Q58.9434 605.655 52.2594 605.655 L32.9077 605.655 L32.9077 609.952 L28.3562 609.952 L28.3562 605.655 L18.2347 605.655 L18.2347 599.767 Z\" fill=\"#000000\" fill-rule=\"evenodd\" fill-opacity=\"1\" /><path clip-path=\"url(#clip450)\" d=\"M28.3562 580.001 L28.3562 574.145 L64.0042 574.145 L64.0042 580.001 L28.3562 580.001 M14.479 580.001 L14.479 574.145 L21.895 574.145 L21.895 580.001 L14.479 580.001 Z\" fill=\"#000000\" fill-rule=\"evenodd\" fill-opacity=\"1\" /><path clip-path=\"url(#clip450)\" d=\"M32.4621 548.077 Q32.4621 552.788 36.1542 555.525 Q39.8145 558.263 46.212 558.263 Q52.6095 558.263 56.3017 555.557 Q59.9619 552.82 59.9619 548.077 Q59.9619 543.399 56.2698 540.661 Q52.5777 537.924 46.212 537.924 Q39.8781 537.924 36.186 540.661 Q32.4621 543.399 32.4621 548.077 M27.4968 548.077 Q27.4968 540.439 32.4621 536.078 Q37.4273 531.718 46.212 531.718 Q54.9649 531.718 59.9619 536.078 Q64.9272 540.439 64.9272 548.077 Q64.9272 555.748 59.9619 560.109 Q54.9649 564.437 46.212 564.437 Q37.4273 564.437 32.4621 560.109 Q27.4968 555.748 27.4968 548.077 Z\" fill=\"#000000\" fill-rule=\"evenodd\" fill-opacity=\"1\" /><path clip-path=\"url(#clip450)\" d=\"M42.4881 492.377 L64.0042 492.377 L64.0042 498.234 L42.679 498.234 Q37.6183 498.234 35.1038 500.207 Q32.5894 502.181 32.5894 506.127 Q32.5894 510.87 35.6131 513.607 Q38.6368 516.344 43.8567 516.344 L64.0042 516.344 L64.0042 522.233 L28.3562 522.233 L28.3562 516.344 L33.8944 516.344 Q30.6797 514.244 29.0883 511.411 Q27.4968 508.546 27.4968 504.822 Q27.4968 498.68 31.3163 495.529 Q35.1038 492.377 42.4881 492.377 Z\" fill=\"#000000\" fill-rule=\"evenodd\" fill-opacity=\"1\" /><path clip-path=\"url(#clip450)\" d=\"M16.4842 466.31 L16.4842 426.11 L21.895 426.11 L21.895 442.98 L64.0042 442.98 L64.0042 449.441 L21.895 449.441 L21.895 466.31 L16.4842 466.31 Z\" fill=\"#000000\" fill-rule=\"evenodd\" fill-opacity=\"1\" /><path clip-path=\"url(#clip450)\" d=\"M28.3562 422.164 L28.3562 416.307 L64.0042 416.307 L64.0042 422.164 L28.3562 422.164 M14.479 422.164 L14.479 416.307 L21.895 416.307 L21.895 422.164 L14.479 422.164 Z\" fill=\"#000000\" fill-rule=\"evenodd\" fill-opacity=\"1\" /><path clip-path=\"url(#clip450)\" d=\"M35.1993 376.299 Q31.2526 374.103 29.3747 371.047 Q27.4968 367.992 27.4968 363.854 Q27.4968 358.284 31.4117 355.26 Q35.2948 352.236 42.4881 352.236 L64.0042 352.236 L64.0042 358.125 L42.679 358.125 Q37.5546 358.125 35.072 359.939 Q32.5894 361.753 32.5894 365.477 Q32.5894 370.029 35.6131 372.67 Q38.6368 375.312 43.8567 375.312 L64.0042 375.312 L64.0042 381.2 L42.679 381.2 Q37.5228 381.2 35.072 383.015 Q32.5894 384.829 32.5894 388.616 Q32.5894 393.104 35.6449 395.746 Q38.6686 398.388 43.8567 398.388 L64.0042 398.388 L64.0042 404.276 L28.3562 404.276 L28.3562 398.388 L33.8944 398.388 Q30.616 396.383 29.0564 393.582 Q27.4968 390.781 27.4968 386.93 Q27.4968 383.046 29.4702 380.341 Q31.4436 377.604 35.1993 376.299 Z\" fill=\"#000000\" fill-rule=\"evenodd\" fill-opacity=\"1\" /><path clip-path=\"url(#clip450)\" d=\"M44.7161 310.064 L47.5806 310.064 L47.5806 336.991 Q53.6281 336.609 56.8109 333.362 Q59.9619 330.084 59.9619 324.259 Q59.9619 320.885 59.1344 317.734 Q58.3069 314.551 56.6518 311.432 L62.1899 311.432 Q63.5267 314.583 64.227 317.893 Q64.9272 321.204 64.9272 324.609 Q64.9272 333.139 59.9619 338.136 Q54.9967 343.102 46.5303 343.102 Q37.7774 343.102 32.6531 338.391 Q27.4968 333.649 27.4968 325.628 Q27.4968 318.435 32.1438 314.265 Q36.7589 310.064 44.7161 310.064 M42.9973 315.92 Q38.1912 315.984 35.3266 318.626 Q32.4621 321.235 32.4621 325.564 Q32.4621 330.466 35.2312 333.426 Q38.0002 336.354 43.0292 336.8 L42.9973 315.92 Z\" fill=\"#000000\" fill-rule=\"evenodd\" fill-opacity=\"1\" /><polyline clip-path=\"url(#clip452)\" style=\"stroke:#009af9; stroke-linecap:round; stroke-linejoin:round; stroke-width:4; stroke-opacity:1; fill:none\" points=\"\n  279.894,85.838 315.2,642.614 350.507,620.41 385.814,642.614 421.121,1044.63 456.428,938.294 491.734,944.346 527.041,833.682 562.348,948.669 597.655,621.865 \n  632.962,991.032 668.268,1169.13 703.575,863.077 738.882,968.553 774.189,891.608 809.496,901.982 844.802,875.181 880.109,755.872 915.416,857.89 950.723,886.42 \n  986.03,705.727 1021.34,1090.46 1056.64,1207.17 1091.95,973.741 1127.26,1001.41 1162.56,782.467 1197.87,846.65 1233.18,840.599 1268.48,948.669 1303.79,1101.7 \n  1339.1,1086.13 1374.4,1012.65 1409.71,1005.73 1445.02,1104.29 1480.32,1033.4 1515.63,965.96 1550.94,1087.01 1586.25,1064.52 1621.55,1149.25 1656.86,1185.56 \n  1692.17,857.89 1727.47,1260.79 1762.78,1072.3 1798.09,972.012 1833.39,1031.67 1868.7,1316.97 1904.01,1019.56 1939.31,1165.67 1974.62,1210.63 2009.93,829.359 \n  2045.23,1186.42 2080.54,1341.18 2115.85,1372.3 2151.15,1030.8 2186.46,797.371 2221.77,995.355 2257.07,1108.61 2292.38,1335.52 \n  \"/>\n</svg>\n"
     },
     "execution_count": 49,
     "metadata": {},
     "output_type": "execute_result"
    }
   ],
   "source": [
    "plot(iterations, avg_compl_time, xlabel=\"Iterations\", ylabel=\"Average Completion Time\", legend = false, xformatter = :scientific)"
   ]
  },
  {
   "cell_type": "code",
   "execution_count": 50,
   "id": "4739f3dc",
   "metadata": {},
   "outputs": [
    {
     "data": {
      "text/plain": [
       "\"/home/larissa/Documents/Projects/ADLR/ADLR_project/src/3d/plots/slow/avg_comp_time.svg\""
      ]
     },
     "execution_count": 50,
     "metadata": {},
     "output_type": "execute_result"
    }
   ],
   "source": [
    "savefig(fig_path * \"avg_comp_time.svg\")"
   ]
  },
  {
   "cell_type": "markdown",
   "id": "ed305f8e",
   "metadata": {},
   "source": [
    "# Create Videos"
   ]
  },
  {
   "cell_type": "code",
   "execution_count": 51,
   "id": "1f30d98a",
   "metadata": {},
   "outputs": [
    {
     "name": "stderr",
     "output_type": "stream",
     "text": [
      "\u001b[36m\u001b[1m┌ \u001b[22m\u001b[39m\u001b[36m\u001b[1mInfo: \u001b[22m\u001b[39mMeshCat server started. You can open the visualizer by visiting the following URL in your browser:\n",
      "\u001b[36m\u001b[1m└ \u001b[22m\u001b[39mhttp://127.0.0.1:8700\n"
     ]
    }
   ],
   "source": [
    "create_visualization();"
   ]
  },
  {
   "cell_type": "code",
   "execution_count": 52,
   "id": "260d79dd",
   "metadata": {},
   "outputs": [
    {
     "name": "stdout",
     "output_type": "stream",
     "text": [
      "slow mode\n"
     ]
    },
    {
     "data": {
      "text/plain": [
       "EmptyHook()"
      ]
     },
     "execution_count": 52,
     "metadata": {},
     "output_type": "execute_result"
    }
   ],
   "source": [
    "if VIDEO  \n",
    "  # TODO: load_model as desired\n",
    "    vid_env = VtolEnv(;name = \"testVTOL\", visualization = true, realtime = true);\n",
    "\n",
    "    if SLOW_MODE\n",
    "        path = \"./RL_models_slow/\"\n",
    "        load_model = 500_000\n",
    "        println(\"slow mode\")\n",
    "    else\n",
    "        path = \"./RL_models_fast/\"\n",
    "        load_model = 1_250_000\n",
    "        println(\"fast mode\")\n",
    "    end\n",
    "    agent.policy.approximator = loadModel(path,load_model); \n",
    "    RLBase.reset!(vid_env)\n",
    "    run(agent.policy, vid_env, StopAfterEpisode(2))\n",
    "end;"
   ]
  },
  {
   "cell_type": "code",
   "execution_count": 53,
   "id": "1bebf7cc",
   "metadata": {},
   "outputs": [],
   "source": [
    "close_visualization();"
   ]
  },
  {
   "cell_type": "markdown",
   "id": "57443b44",
   "metadata": {},
   "source": [
    "done"
   ]
  }
 ],
 "metadata": {
  "@webio": {
   "lastCommId": null,
   "lastKernelId": null
  },
  "kernelspec": {
   "display_name": "Julia 1.8.0",
   "language": "julia",
   "name": "julia-1.8"
  },
  "language_info": {
   "file_extension": ".jl",
   "mimetype": "application/julia",
   "name": "julia",
   "version": "1.8.0"
  }
 },
 "nbformat": 4,
 "nbformat_minor": 5
}
