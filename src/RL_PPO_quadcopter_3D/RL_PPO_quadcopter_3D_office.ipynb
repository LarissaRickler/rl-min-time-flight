{
 "cells": [
  {
   "cell_type": "code",
   "execution_count": 1,
   "id": "285d18fd",
   "metadata": {},
   "outputs": [],
   "source": [
    "using Pkg\n",
    "if isfile(\"Project.toml\") && isfile(\"Manifest.toml\")\n",
    "    Pkg.activate(\".\")\n",
    "end"
   ]
  },
  {
   "cell_type": "markdown",
   "id": "0649b76a",
   "metadata": {},
   "source": [
    "# Init Bionic VTOL"
   ]
  },
  {
   "cell_type": "code",
   "execution_count": 2,
   "id": "96751412",
   "metadata": {},
   "outputs": [],
   "source": [
    "include(\"../Flyonic.jl\");\n",
    "using .Flyonic;\n",
    "\n",
    "using Rotations; # used for initial position\n",
    "\n",
    "using ReinforcementLearning;\n",
    "using StableRNGs;\n",
    "using Flux;\n",
    "using Flux.Losses;\n",
    "using Random;\n",
    "using IntervalSets;\n",
    "using LinearAlgebra;\n",
    "using Distributions;\n",
    "\n",
    "using Plots;\n",
    "using Statistics;\n",
    "\n",
    "using TensorBoardLogger\n",
    "using Logging\n",
    "\n",
    "\n",
    "using JLD;\n",
    "using BSON: @save, @load # save mode"
   ]
  },
  {
   "cell_type": "code",
   "execution_count": 3,
   "id": "587302ad",
   "metadata": {},
   "outputs": [],
   "source": [
    "# todo set office or generated"
   ]
  },
  {
   "cell_type": "code",
   "execution_count": 4,
   "id": "f7e4ee64",
   "metadata": {},
   "outputs": [
    {
     "name": "stderr",
     "output_type": "stream",
     "text": [
      "\u001b[36m\u001b[1m┌ \u001b[22m\u001b[39m\u001b[36m\u001b[1mInfo: \u001b[22m\u001b[39mMeshCat server started. You can open the visualizer by visiting the following URL in your browser:\n",
      "\u001b[36m\u001b[1m└ \u001b[22m\u001b[39mhttp://127.0.0.1:8700\n"
     ]
    }
   ],
   "source": [
    "create_visualization();"
   ]
  },
  {
   "cell_type": "code",
   "execution_count": 5,
   "id": "d435a5d6",
   "metadata": {},
   "outputs": [],
   "source": [
    "# TODO: set as desired\n",
    "R_TOL = 0.5;\n",
    "N_WAYPOINTS = 4; # including startpoint, >= 2\n",
    "\n",
    "\n",
    "SLOW_MODE = false;\n",
    "TRAINING = false;\n",
    "EVALUATION = true;\n",
    "VIDEO = true;"
   ]
  },
  {
   "cell_type": "code",
   "execution_count": 6,
   "id": "41e43877",
   "metadata": {},
   "outputs": [],
   "source": [
    "N_WAYPOINTS_office = 9;\n",
    "WAYPOINTS_office =    \n",
    "                [[11.0, 3.0, 0.4],\n",
    "                [7.0, 1.5, 0.4],\n",
    "                [5.0, 3.0, 0.4],\n",
    "                [-3.0, 2.5, 0.4], \n",
    "                [-6.0, 1.5, 0.4],\n",
    "                [-8.0, 3.5, 0.4],\n",
    "                [-9.0, 4.0, 0.4],\n",
    "                [-9.5, 3.0, 0.4], \n",
    "                [-8.5, 1.0, 0.4], \n",
    "                [-8.0, 0.5, 0.4]]; "
   ]
  },
  {
   "cell_type": "code",
   "execution_count": 7,
   "id": "e19cce80",
   "metadata": {},
   "outputs": [],
   "source": [
    "# TensorBoard\n",
    "if TRAINING\n",
    "    logger = TBLogger(\"tensorboard_PPO\", tb_increment)\n",
    "end"
   ]
  },
  {
   "cell_type": "code",
   "execution_count": 8,
   "id": "7d9557df",
   "metadata": {},
   "outputs": [
    {
     "data": {
      "text/plain": [
       "1"
      ]
     },
     "execution_count": 8,
     "metadata": {},
     "output_type": "execute_result"
    }
   ],
   "source": [
    "# indicates how many threads Julia was started with. This is important for the multi-threaded environment\n",
    "Threads.nthreads()"
   ]
  },
  {
   "cell_type": "code",
   "execution_count": 9,
   "id": "10d945ff",
   "metadata": {},
   "outputs": [],
   "source": [
    "Δt = 0.025;"
   ]
  },
  {
   "cell_type": "markdown",
   "id": "5411db62",
   "metadata": {},
   "source": [
    "# Create Reinforcement Learning Environment"
   ]
  },
  {
   "cell_type": "code",
   "execution_count": 10,
   "id": "96af6ee0",
   "metadata": {},
   "outputs": [],
   "source": [
    "mutable struct VtolEnv{A,T,ACT,R<:AbstractRNG} <: AbstractEnv # Parametric Constructor for a subtype of AbstractEnv\n",
    "    action_space::A # All possible actions the agent can take\n",
    "    observation_space::Space{Vector{ClosedInterval{T}}} # All possible states that the agent can observe.\n",
    "    state::Vector{T} # Current state\n",
    "    action::ACT # next action the agent wants to apply in the environment.\n",
    "    done::Bool # shows whether a terminal condition has been reached.\n",
    "    t::T # time\n",
    "    rng::R # random number generator\n",
    "\n",
    "    name::String # for different naming of multible environoments\n",
    "    visualization::Bool # activate visualisation (Faster computation without visualisation)\n",
    "    realtime::Bool # visualization in \"real-world\" time (only for watching or filming).\n",
    "    \n",
    "    # Overall state of the environment. This does not correspond to the observation space of the agent but contains all states that describe the environment.\n",
    "    x_W::Vector{T} # Position in World frame\n",
    "    v_B::Vector{T} # Velocity in Body frame\n",
    "    R_W::Matrix{T} # Rotation (matrix) in World frame\n",
    "    ω_B::Vector{T} # Rotation velocity in Body frame\n",
    "    wind_W::Vector{T} # Externel linear velocity acting on the drone\n",
    "    Δt::T # Time step for physics simulation in seconds\n",
    "\n",
    "    ###NEW###\n",
    "    # Current Bonus / Target\n",
    "    num_waypoints::Int # includig start point\n",
    "    waypoints::Vector{Vector{T}}\n",
    "    reached_goal::BitVector\n",
    "    \n",
    "    norm_way::T\n",
    "    progress::T\n",
    "    progress_prev::T\n",
    "    current_point::Int\n",
    "    reached_goal_in_step::Bool\n",
    "    \n",
    "    r_tol::T\n",
    "    projected_position::Vector{T}\n",
    "\n",
    "    slow_mode::Bool\n",
    "    ######\n",
    "end"
   ]
  },
  {
   "cell_type": "code",
   "execution_count": 11,
   "id": "14a6873d",
   "metadata": {},
   "outputs": [],
   "source": [
    "# define a keyword-based constructor for the type declared in the mutable struct typedef. \n",
    "# It could also be done with the macro Base.@kwdef.\n",
    "function VtolEnv(;\n",
    "    rng = Random.GLOBAL_RNG, # Random number generation\n",
    "    name = \"Crazyflie\",\n",
    "    visualization = false,\n",
    "    realtime = false,\n",
    "    kwargs... # let the function take an arbitrary number of keyword arguments\n",
    ")\n",
    "    \n",
    "    T = Float64; # explicit type which is used e.g. in state. Cannot be altered due to the poor matrix defininon.\n",
    "    \n",
    "    # final PWM Values for Crazyflie. The interval definition has no effect in the current implementation.\n",
    "    action_space = Space(\n",
    "        ClosedInterval{T}[\n",
    "            0..1#0..65535, # motor 1\n",
    "            0..1#0..65535, # motor 2\n",
    "            0..1#0..65535, # motor 3\n",
    "            0..1#0..65535, # motor 4\n",
    "            ], \n",
    "    )\n",
    "\n",
    "    \n",
    "    state_space = Space( # Three continuous values in state space.\n",
    "        ClosedInterval{T}[\n",
    "            typemin(T)..typemax(T), # 1 x\n",
    "            typemin(T)..typemax(T), # 2 y\n",
    "            typemin(T)..typemax(T), # 3 z\n",
    "\n",
    "            typemin(T)..typemax(T), # 4  World Vector UP x\n",
    "            typemin(T)..typemax(T), # 5  World Vector UP y\n",
    "            typemin(T)..typemax(T), # 6  World Vector UP z\n",
    "\n",
    "            typemin(T)..typemax(T), # 7  World Vector FRONT x\n",
    "            typemin(T)..typemax(T), # 8  World Vector FRONT y\n",
    "            typemin(T)..typemax(T), # 9  World Vector FRONT z\n",
    "            \n",
    "            typemin(T)..typemax(T), # 10 Body velocity along x\n",
    "            typemin(T)..typemax(T), # 11 Body velocity along y\n",
    "            typemin(T)..typemax(T), # 12 Body velocity along z\n",
    "            \n",
    "            typemin(T)..typemax(T), # 13 Body rotational velocity around x\n",
    "            typemin(T)..typemax(T), # 14 Body rotational velocity around y\n",
    "            typemin(T)..typemax(T), # 15 Body rotational velocity around z\n",
    "            \n",
    "            ###NEW###\n",
    "            typemin(T)..typemax(T), # 16 position error along x (next gate - current position)\n",
    "            typemin(T)..typemax(T), # 17 position error along y (next gate - current position)\n",
    "            typemin(T)..typemax(T), # 18 position error along z (next gate - current position)\n",
    "            \n",
    "            typemin(T)..typemax(T), # 19 way to next next gate x (next next gate - next gate)\n",
    "            typemin(T)..typemax(T), # 20 way to next next gate y (next next gate - next gate)\n",
    "            typemin(T)..typemax(T), # 21 way to next next gate z (next next gate - next gate)\n",
    "            ######\n",
    "            ], \n",
    "    )\n",
    "\n",
    "    ###NEW###\n",
    "#     num_waypoints = N_WAYPOINTS\n",
    "    num_waypoints = N_WAYPOINTS_office # number of waypoints, includig start point #todo\n",
    "    \n",
    "#     waypoints = generate_straight_trajectory(num_waypoints + 1) # trajectory with num_waypoints waypoints (+ start point), (with dummy points) \n",
    "    waypoints = WAYPOINTS_office\n",
    "    \n",
    "    reached_goal = falses(num_waypoints)\n",
    "    \n",
    "    norm_way = 0.0 \n",
    "    for i in 1:(num_waypoints - 1)\n",
    "        norm_way += norm(waypoints[i] - waypoints[i + 1])\n",
    "    end\n",
    "    ######\n",
    "    \n",
    "    if visualization\n",
    "        create_Crazyflie(name, actuators = true);\n",
    "        visualize_waypoints(waypoints[1:num_waypoints], 0.05)\n",
    "\n",
    "        set_Crazyflie_actuators(name, [0.0; 0.0; 0.0; 0.0]);\n",
    "        set_transform(name, [0.0; 0.0; 0.0] ,one(QuatRotation));\n",
    "        set_arrow(string(name, \"vel\"), color_vec=[0.0; 1.0; 0.0; 1.0]);\n",
    "        transform_arrow(string(name, \"vel\"), [0.0; 0.0; 0.0], [0.0; 0.0; 1.0], max_head_radius=0.05)\n",
    "#         set_arrow(string(name, \"_vel_current\"), color_vec=[1.0; 0.0; 0.0; 1.0]);\n",
    "#         transform_arrow(string(name, \"_vel_current\"), [0.0; 0.0; 0.0], [0.0; 0.0; 1.0], max_head_radius=0.02)                  \n",
    "    end\n",
    "    \n",
    "\n",
    "\n",
    "    environment = VtolEnv(\n",
    "        action_space,\n",
    "        state_space,\n",
    "        zeros(T, length(state_space)), # current state, needs to be extended.\n",
    "        [0.25; 0.25; 0.25; 0.25],#rand(action_space), \n",
    "        false, # episode done ?\n",
    "        0.0, # time\n",
    "        rng, # random number generator  \n",
    "\n",
    "        name,\n",
    "        visualization,\n",
    "        realtime,\n",
    "\n",
    "        zeros(T, 3), # x_W\n",
    "        zeros(T, 3), # v_B\n",
    "        Matrix(one(QuatRotation)), # Float64... so T needs to be Float64\n",
    "        zeros(T, 3), # ω_B\n",
    "        zeros(T, 3), # wind_W\n",
    "        Δt, # Δt\n",
    "\n",
    "        num_waypoints, # includig start point\n",
    "        waypoints, \n",
    "        reached_goal,\n",
    "\n",
    "        norm_way, # norm_way\n",
    "        0.0, # progress\n",
    "        0.0, # progress_prev\n",
    "        2, # current point\n",
    "        false, # reached_goal_in_step\n",
    "        \n",
    "        R_TOL, # r_tol\n",
    "        zeros(T, 3), # projected_position\n",
    "\n",
    "        SLOW_MODE # slow_mode\n",
    "\n",
    "        )\n",
    "    \n",
    "    \n",
    "    RLBase.reset!(environment)\n",
    "    \n",
    "    return environment\n",
    "    \n",
    "end;"
   ]
  },
  {
   "cell_type": "markdown",
   "id": "ec660d5e",
   "metadata": {},
   "source": [
    "Just for explanation:\n",
    "\n",
    "1. A mutable Struct is created. A struct is a constructor and a constructor is a function that creates new objects.\n",
    "2. A outer keyword-based constructor method is added for the type declared in the mutable struct typedef before.\n",
    "\n",
    "So now we have a function with two methods. Julia will decide which method to call by multiple dispatch."
   ]
  },
  {
   "cell_type": "code",
   "execution_count": 12,
   "id": "23dd4047",
   "metadata": {},
   "outputs": [
    {
     "data": {
      "text/html": [
       "# 2 methods for type constructor:<ul><li> VtolEnv(; <i>rng, name, visualization, realtime, kwargs...</i>) in Main at In[11]:3</li> <li> VtolEnv(action_space::<b>A</b>, observation_space::<b>Space{Array{ClosedInterval{T}, 1}}</b>, state::<b>Vector{T}</b>, action::<b>ACT</b>, done::<b>Bool</b>, t::<b>T</b>, rng::<b>R</b>, name::<b>String</b>, visualization::<b>Bool</b>, realtime::<b>Bool</b>, x_W::<b>Vector{T}</b>, v_B::<b>Vector{T}</b>, R_W::<b>Matrix{T}</b>, ω_B::<b>Vector{T}</b>, wind_W::<b>Vector{T}</b>, Δt::<b>T</b>, num_waypoints::<b>Int64</b>, waypoints::<b>Array{Vector{T}, 1}</b>, reached_goal::<b>BitVector</b>, norm_way::<b>T</b>, progress::<b>T</b>, progress_prev::<b>T</b>, current_point::<b>Int64</b>, reached_goal_in_step::<b>Bool</b>, r_tol::<b>T</b>, projected_position::<b>Vector{T}</b>, slow_mode::<b>Bool</b>)<i> where {A, T, ACT, R<:AbstractRNG}</i> in Main at In[10]:2</li> </ul>"
      ],
      "text/plain": [
       "# 2 methods for type constructor:\n",
       "[1] VtolEnv(; rng, name, visualization, realtime, kwargs...) in Main at In[11]:3\n",
       "[2] VtolEnv(action_space::A, observation_space::Space{Array{ClosedInterval{T}, 1}}, state::Vector{T}, action::ACT, done::Bool, t::T, rng::R, name::String, visualization::Bool, realtime::Bool, x_W::Vector{T}, v_B::Vector{T}, R_W::Matrix{T}, ω_B::Vector{T}, wind_W::Vector{T}, Δt::T, num_waypoints::Int64, waypoints::Array{Vector{T}, 1}, reached_goal::BitVector, norm_way::T, progress::T, progress_prev::T, current_point::Int64, reached_goal_in_step::Bool, r_tol::T, projected_position::Vector{T}, slow_mode::Bool) where {A, T, ACT, R<:AbstractRNG} in Main at In[10]:2"
      ]
     },
     "execution_count": 12,
     "metadata": {},
     "output_type": "execute_result"
    }
   ],
   "source": [
    "methods(VtolEnv)"
   ]
  },
  {
   "cell_type": "markdown",
   "id": "806413d1",
   "metadata": {},
   "source": [
    "# Define the RL interface"
   ]
  },
  {
   "cell_type": "code",
   "execution_count": 13,
   "id": "0f822029",
   "metadata": {},
   "outputs": [],
   "source": [
    "Random.seed!(env::VtolEnv, seed) = Random.seed!(env.rng, seed)\n",
    "RLBase.action_space(env::VtolEnv) = env.action_space\n",
    "RLBase.state_space(env::VtolEnv) = env.observation_space\n",
    "RLBase.is_terminated(env::VtolEnv) = env.done\n",
    "RLBase.state(env::VtolEnv) = env.state"
   ]
  },
  {
   "cell_type": "code",
   "execution_count": 14,
   "id": "b5e32e25",
   "metadata": {},
   "outputs": [],
   "source": [
    "function scale_for_slowmode(slow_mode::Bool, v_min::T, v_max::T, d_max::T, x_W::Vector{T}, projected_position::Vector{T}, v_B::Vector{T}) where T\n",
    "    \n",
    "    if slow_mode == false\n",
    "        return 1\n",
    "    else\n",
    "        if norm(v_B) > v_max\n",
    "            s_vmax = 10^(v_max - norm(v_B))\n",
    "        else\n",
    "            s_vmax = 1\n",
    "        end\n",
    "\n",
    "        if norm(v_B) < v_min\n",
    "            s_vmin = 10^(norm(v_B) - v_min)\n",
    "        else\n",
    "            s_vmin = 1\n",
    "        end\n",
    "\n",
    "        if norm(x_W - projected_position) > d_max\n",
    "            s_gd = exp(-norm(x_W - projected_position) + d_max)\n",
    "        else\n",
    "            s_gd = 1\n",
    "        end\n",
    "        s = s_vmax * s_vmin * s_gd\n",
    "    end\n",
    "    return s\n",
    "end;"
   ]
  },
  {
   "cell_type": "code",
   "execution_count": 15,
   "id": "1f7fb89c",
   "metadata": {},
   "outputs": [],
   "source": [
    "function computeReward(env::VtolEnv{A,T}) where {A,T}\n",
    "    \n",
    "    \n",
    "    if env.slow_mode\n",
    "        v_min = 1.0 # min velocity\n",
    "        v_max = 3.0 # max velocity\n",
    "        d_max = 0.5 \n",
    "    else\n",
    "        v_min = 4.0 # min velocity\n",
    "        v_max = 50.0 # max velocity\n",
    "        d_max = 1.0 \n",
    "    end\n",
    "\n",
    "\n",
    "    s = scale_for_slowmode(true, v_min, v_max, d_max, env.x_W, env.projected_position, env.v_B)\n",
    "    \n",
    "    k_p = 5.0 * s #/ env.norm_way # factor for progress (between current position and last position) reward \n",
    "    r_p = (env.progress - env.progress_prev); # reward for progress (between current position and last position)\n",
    "\n",
    "    k_s = s * (2 * v_max * env.Δt) / env.norm_way # factor for reached distance (overall) reward\n",
    "    r_s = env.progress # reward for reached distance (overall)\n",
    "    \n",
    "    k_wp = 50.0 # factor for reached gate reward\n",
    "    r_wp = 0.0 # reward for reached gate\n",
    "    if env.reached_goal_in_step\n",
    "        r_wp = exp(-norm(env.x_W - env.waypoints[env.current_point - 1])/env.r_tol)\n",
    "    end \n",
    "\n",
    "    # factor for too high body rate penalty\n",
    "    if env.slow_mode\n",
    "        k_ω = 0.01\n",
    "    else\n",
    "        k_ω = 0.001\n",
    "    end\n",
    "    #norm_ω = norm(env.ω_B[3]) # penalty for body rate\n",
    "    norm_ω = norm(env.ω_B) # penalty for body rate\n",
    "\n",
    "    if env.x_W[3] < 0\n",
    "        fall = 1\n",
    "    else\n",
    "        fall = 0\n",
    "    end\n",
    "    \n",
    "    if !env.slow_mode\n",
    "        k_s /= env.norm_way\n",
    "        k_p /= env.norm_way\n",
    "    end\n",
    "    \n",
    "    return k_p * r_p + k_s * r_s + k_wp * r_wp - k_ω * norm_ω - fall\n",
    "    \n",
    "end\n",
    "\n",
    "\n",
    "RLBase.reward(env::VtolEnv{A,T}) where {A,T} = computeReward(env)"
   ]
  },
  {
   "cell_type": "code",
   "execution_count": 16,
   "id": "ae45ec04",
   "metadata": {},
   "outputs": [],
   "source": [
    "function RLBase.reset!(env::VtolEnv{A,T}) where {A,T}\n",
    "    \n",
    "#     env.waypoints = generate_straight_trajectory(env.num_waypoints + 1); # Dummy points\n",
    "    env.num_waypoints = N_WAYPOINTS_office\n",
    "    env.waypoints = WAYPOINTS_office\n",
    "    \n",
    "    env.x_W = env.waypoints[1];\n",
    "    env.v_B = [0.0; 0.0; 0.0];\n",
    "    env.R_W = Matrix(one(QuatRotation)); # Identity matrix (no rotation)\n",
    "    env.ω_B = [0.0; 0.0; 0.0];\n",
    "    env.wind_W = [0.0; 0.0; 0.0];\n",
    "\n",
    "    env.reached_goal = falses(env.num_waypoints);\n",
    "    env.reached_goal[1] = true; # set first point to reached (start point)\n",
    "    \n",
    "    env.current_point = 2;\n",
    "    env.reached_goal_in_step = false;\n",
    "    #env.r_tol = 0.3;\n",
    "    \n",
    "    if env.visualization\n",
    "        visualize_waypoints(env.waypoints[1:env.num_waypoints], 0.05); \n",
    "    end\n",
    "    \n",
    "    norm_way = 0.0 \n",
    "    for i in 1:(env.num_waypoints - 1)\n",
    "        norm_way += norm(env.waypoints[i] - env.waypoints[i + 1])\n",
    "    end\n",
    "    \n",
    "    env.norm_way = norm_way\n",
    "    env.progress = 0.0;\n",
    "    env.progress_prev = 0.0;\n",
    "        \n",
    "\n",
    "    env.state = [env.x_W[1]; # 1 position along x\n",
    "                 env.x_W[2]; # 2 position along y\n",
    "                 env.x_W[3]; # 3 position along z\n",
    "\n",
    "                 env.R_W[1,1];\n",
    "                 env.R_W[2,1];\n",
    "                 env.R_W[3,1];\n",
    "        \n",
    "                 env.R_W[1,3]; # 4  World Vector UP x\n",
    "                 env.R_W[2,3]; # 5  World Vector UP y\n",
    "                 env.R_W[3,3]; # 6  World Vector UP z\n",
    "\n",
    "#                  env.R_W[1,1]; # 7  World Vector FRONT x\n",
    "#                  env.R_W[2,1]; # 8  World Vector FRONT y\n",
    "#                  env.R_W[3,1]; # 9  World Vector FRONT z\n",
    "\n",
    "                 env.v_B[1]; #  10 Body velocity along x\n",
    "                 env.v_B[2]; #  11 Body velocity along y\n",
    "                 env.v_B[3]; #  12 Body velocity along z\n",
    "\n",
    "                 env.ω_B[1]; #  13  Body rotational velocity around x\n",
    "                 env.ω_B[2]; #  14  Body rotational velocity around y\n",
    "                 env.ω_B[3]; #  15  Body rotational velocity around z\n",
    "\n",
    "                 env.waypoints[2][1] - env.x_W[1]; # 16 position error to next gate along x\n",
    "                 env.waypoints[2][2] - env.x_W[2]; # 17 position error to next gate along z\n",
    "                 env.waypoints[2][3] - env.x_W[3]; # 18 position error to next gate along z\n",
    "                 \n",
    "                 env.waypoints[3][1] - env.waypoints[2][1]; # 19 way to next next gate x \n",
    "                 env.waypoints[3][2] - env.waypoints[2][2]; # 20 way to next next gate y\n",
    "                 env.waypoints[3][3] - env.waypoints[2][3]]  # 21 way to next next gate z \n",
    "    \n",
    "\n",
    "    env.t = 0.0; # time 0s\n",
    "    env.action = [0.25; 0.25; 0.25; 0.25] # normalized \n",
    "    #env.last_action = [0.255; 0.255; 0.255; 0.255] # normalized\n",
    "    #env.current_action = [0.255; 0.255; 0.255; 0.255] # normalized\n",
    "\n",
    "    env.done = false # reset termination\n",
    "\n",
    "    env.projected_position = [0; 0; 0]\n",
    "    \n",
    "    if env.visualization\n",
    "        # Visualize initial state\n",
    "        set_transform(env.name, env.x_W,QuatRotation(env.R_W));\n",
    "        set_Crazyflie_actuators(env.name, [0.0; 0.0; 0.0; 0.0]);\n",
    "        #transform_arrow(string(env.name, \"_vel\"), env.x_W, env.v_W_target, max_head_radius=0.05) \n",
    "        transform_arrow(string(env.name, \"vel\"), env.x_W, [0.0; 0.0; 0.0], max_head_radius=0.05) \n",
    "    end\n",
    "    \n",
    "    nothing # return nothing\n",
    "end;"
   ]
  },
  {
   "cell_type": "code",
   "execution_count": 17,
   "id": "1cf1a7b7",
   "metadata": {},
   "outputs": [],
   "source": [
    "# defines a methods for a callable object.\n",
    "# So when a VtolEnv object is created, it has this method that can be called\n",
    "function (env::VtolEnv)(a)\n",
    "\n",
    "\n",
    "    # call the step on the environoment with the next action \n",
    "    _step!(env, a)\n",
    "        \n",
    "end"
   ]
  },
  {
   "cell_type": "code",
   "execution_count": 18,
   "id": "26a5a0da",
   "metadata": {},
   "outputs": [],
   "source": [
    "env = VtolEnv();"
   ]
  },
  {
   "cell_type": "code",
   "execution_count": 19,
   "id": "ff8f68a7",
   "metadata": {},
   "outputs": [
    {
     "data": {
      "text/html": [
       "# 3 methods for callable object:<ul><li> (env::<b>VtolEnv</b>)(a) in Main at In[17]:3</li> <li> (env::<b>AbstractEnv</b>)(action) in ReinforcementLearningBase</li> <li> (env::<b>AbstractEnv</b>)(action, player) in ReinforcementLearningBase</li> </ul>"
      ],
      "text/plain": [
       "# 3 methods for callable object:\n",
       "[1] (env::VtolEnv)(a) in Main at In[17]:3\n",
       "[2] (env::AbstractEnv)(action) in ReinforcementLearningBase\n",
       "[3] (env::AbstractEnv)(action, player) in ReinforcementLearningBase"
      ]
     },
     "execution_count": 19,
     "metadata": {},
     "output_type": "execute_result"
    }
   ],
   "source": [
    "methods(env) # Just to explain which methods the object has"
   ]
  },
  {
   "cell_type": "code",
   "execution_count": 20,
   "id": "d4d67302",
   "metadata": {},
   "outputs": [
    {
     "data": {
      "text/plain": [
       "scale_actions (generic function with 1 method)"
      ]
     },
     "execution_count": 20,
     "metadata": {},
     "output_type": "execute_result"
    }
   ],
   "source": [
    "function scale_actions(next_action)\n",
    "    return next_action*22000.0\n",
    "end"
   ]
  },
  {
   "cell_type": "code",
   "execution_count": 21,
   "id": "9e7d4727",
   "metadata": {},
   "outputs": [],
   "source": [
    "function _step!(env::VtolEnv, next_action)\n",
    "    \n",
    "\n",
    "    #env.last_action = copy(env.current_action)\n",
    "    #env.current_action[1] = next_action[1]\n",
    "    #env.current_action[2] = next_action[2]\n",
    "    #env.current_action[3] = next_action[3]\n",
    "    #env.current_action[4] = next_action[4]\n",
    "    \n",
    "    \n",
    "    \n",
    "    scaled_actions = scale_actions.(next_action) # between 0 and 1 for neual network\n",
    "    # caluclate wind impact\n",
    "    v_in_wind_B = vtol_add_wind(env.v_B, env.R_W, env.wind_W)\n",
    "    # caluclate aerodynamic forces\n",
    "    torque_B, force_B = crazyflie_model(scaled_actions);\n",
    "    # integrate rigid body dynamics for Δt\n",
    "    env.x_W, env.v_B, env.R_W, env.ω_B, env.t = rigid_body_simple(torque_B, force_B, env.x_W, env.v_B, env.R_W, env.ω_B, env.t, env.Δt, crazyflie_param)\n",
    "\n",
    "    \n",
    "    env.reached_goal_in_step = false;\n",
    "    if norm(env.x_W - env.waypoints[env.current_point]) < env.r_tol\n",
    "        env.reached_goal_in_step = true;\n",
    "        env.reached_goal[env.current_point] = true;\n",
    "        env.current_point += 1;\n",
    "    end\n",
    "        \n",
    "            \n",
    "    # calculate progress on trajectory\n",
    "    env.progress_prev = env.progress\n",
    "    \n",
    "    current_progress = 0.0\n",
    "    line_segment, env.projected_position = calculate_progress(env.waypoints, env.x_W)\n",
    "    \n",
    "    #env.current_point = line_segment + 1\n",
    "\n",
    "    for i in 2:(line_segment)\n",
    "       current_progress +=  norm(env.waypoints[i] - env.waypoints[i - 1])  \n",
    "    end\n",
    "    current_progress += norm(env.waypoints[line_segment] - env.projected_position)\n",
    "    \n",
    "    env.progress = current_progress\n",
    "    \n",
    "\n",
    "    if env.realtime\n",
    "        sleep(env.Δt) # TODO: just a dirty hack. this is of course slower than real time.\n",
    "    end\n",
    "\n",
    "\n",
    "\n",
    "    if env.visualization\n",
    "        set_transform(env.name, env.x_W,QuatRotation(env.R_W));\n",
    "        set_Crazyflie_actuators(env.name, next_action[1:4])\n",
    "        #transform_arrow(string(env.name, \"_vel\"), env.x_W, env.v_W_target, max_head_radius=0.05)               \n",
    "        transform_arrow(string(env.name, \"vel\"), env.x_W, env.R_W*env.v_B, max_head_radius=0.05) \n",
    "    \n",
    "        for i in eachindex(env.reached_goal)\n",
    "            if env.reached_goal[i]\n",
    "                create_sphere(\"fixgoal_$i\", 0.05, color=RGBA{Float32}(1.0, 0.0, 0.0, 1.0));\n",
    "                set_transform(\"fixgoal_$i\", env.waypoints[i]);\n",
    "            end\n",
    "        end\n",
    "\n",
    "    end\n",
    "    \n",
    "    \n",
    "    #v_B_target = transpose(env.R_W)*env.v_W_target\n",
    "    \n",
    "    \n",
    "    # State space\n",
    "    env.state[1] = env.x_W[1];\n",
    "    env.state[2] = env.x_W[2];\n",
    "    env.state[3] = env.x_W[3];\n",
    "    \n",
    "    env.state[4] = env.R_W[1,1] # 1  World Vector UP x\n",
    "    env.state[5] = env.R_W[2,1] # 2  World Vector UP y\n",
    "    env.state[6] = env.R_W[3,1] # 3  World Vector UP z\n",
    "\n",
    "    env.state[7] = env.R_W[1,3] # 4  World Vector FRONT x\n",
    "    env.state[8] = env.R_W[2,3] # 5  World Vector FRONT y\n",
    "    env.state[9] = env.R_W[3,3] # 6  World Vector FRONT z\n",
    "        \n",
    "    env.state[10] = env.v_B[1] # 7  Body velocity along x\n",
    "    env.state[11] = env.v_B[2] # 8  Body velocity along y\n",
    "    env.state[12] = env.v_B[3] # 9  Body velocity along z\n",
    "\n",
    "    env.state[13] = env.ω_B[1] # 10 Body rotational velocity around x\n",
    "    env.state[14] = env.ω_B[2] # 11 Body rotational velocity around y\n",
    "    env.state[15] = env.ω_B[3] # 12 Body rotational velocity around z\n",
    "\n",
    "    env.state[16] = env.waypoints[env.current_point][1] - env.x_W[1] # 13 position error to next gate along x\n",
    "    env.state[17] = env.waypoints[env.current_point][2] - env.x_W[2]; # 14 position error to next gate along z\n",
    "    env.state[18] = env.waypoints[env.current_point][3] - env.x_W[3]; # 15 position error to next gate along z\n",
    "                 \n",
    "    if env.current_point <= env.num_waypoints\n",
    "        env.state[19] = env.waypoints[env.current_point + 1][1] - env.waypoints[env.current_point][1] ; # 16 way to next next gate x (next next gate - next gate), dummy integriert\n",
    "        env.state[20] = env.waypoints[env.current_point + 1][2] - env.waypoints[env.current_point][2]; # 17 way to next next gate y (next next gate - next gate), dummy integriert\n",
    "        env.state[21] = env.waypoints[env.current_point + 1][3] - env.waypoints[env.current_point][3]; # 18 way to next next gate z (next next gate - next gate), dummy integriert\n",
    "    end\n",
    "\n",
    "    \n",
    "    \n",
    "    # Termination criteria\n",
    "    env.done = #true\n",
    "        # After time... How fast is drone+Range of desired point\n",
    "        # After reaching position (circle of r_tol)\n",
    "         norm(env.ω_B) > 100.0 || \n",
    "         norm(env.v_B) > 100.0 || # stop if body is too fast_point \n",
    "        env.x_W[3] < -1.0 || # stop if body is below -5m\n",
    "        env.t > env.num_waypoints * 3.0 ||# stop after 3s per point \n",
    "        norm(env.x_W - env.projected_position) > 5.0 || # too far off the path \n",
    "        env.reached_goal == trues(env.num_waypoints)\n",
    "\n",
    "    nothing\n",
    "end;"
   ]
  },
  {
   "cell_type": "code",
   "execution_count": 22,
   "id": "6e1cd988",
   "metadata": {},
   "outputs": [
    {
     "name": "stdout",
     "output_type": "stream",
     "text": [
      "\u001b[0m\u001b[1mTest Summary:              | \u001b[22m\u001b[32m\u001b[1mPass  \u001b[22m\u001b[39m\u001b[36m\u001b[1mTotal  \u001b[22m\u001b[39m\u001b[0m\u001b[1mTime\u001b[22m\n",
      "random policy with VtolEnv | \u001b[32m2000  \u001b[39m\u001b[36m 2000  \u001b[39m\u001b[0m2.2s\n"
     ]
    },
    {
     "data": {
      "text/plain": [
       "Test.DefaultTestSet(\"random policy with VtolEnv\", Any[], 2000, false, false, true, 1.677111820851641e9, 1.677111823055725e9)"
      ]
     },
     "execution_count": 22,
     "metadata": {},
     "output_type": "execute_result"
    }
   ],
   "source": [
    "RLBase.test_runnable!(env)"
   ]
  },
  {
   "cell_type": "markdown",
   "id": "c223a31f",
   "metadata": {},
   "source": [
    "Show an overview of the environment."
   ]
  },
  {
   "cell_type": "markdown",
   "id": "ffe6de74",
   "metadata": {},
   "source": [
    "# Setup of a reinforcement learning experiment."
   ]
  },
  {
   "cell_type": "code",
   "execution_count": 23,
   "id": "e5683fe8",
   "metadata": {},
   "outputs": [
    {
     "data": {
      "text/markdown": [
       "MultiThreadEnv(8 x VtolEnv)"
      ],
      "text/plain": [
       "MultiThreadEnv(8 x VtolEnv)"
      ]
     },
     "execution_count": 23,
     "metadata": {},
     "output_type": "execute_result"
    }
   ],
   "source": [
    "seed = 123    \n",
    "rng = StableRNG(seed)\n",
    "N_ENV = 8\n",
    "UPDATE_FREQ = 1024\n",
    "    \n",
    "    \n",
    "    # define multiple environments for parallel training\n",
    "    env = MultiThreadEnv([\n",
    "        # use different names for the visualization\n",
    "        VtolEnv(; rng = StableRNG(hash(seed+i)), name = \"cf_PPO$i\") for i in 1:N_ENV\n",
    "    ])\n",
    "\n"
   ]
  },
  {
   "cell_type": "code",
   "execution_count": 24,
   "id": "d1f128b2",
   "metadata": {},
   "outputs": [],
   "source": [
    "# Define the function approximator\n",
    "    ns, na = length(state(env[1])), length(action_space(env[1]))\n",
    "    approximator = ActorCritic(\n",
    "                actor = GaussianNetwork(\n",
    "                    pre = Chain(\n",
    "                    Dense(ns, 256, tanh; initW = glorot_uniform(rng)),\n",
    "                    Dense(256, 256, tanh; initW = glorot_uniform(rng)),\n",
    "                    ),\n",
    "                    μ = Chain(Dense(256, na; initW = glorot_uniform(rng))),\n",
    "                    logσ = Chain(Dense(256, na; initW = glorot_uniform(rng))),\n",
    "                ),\n",
    "                critic = Chain(\n",
    "                    Dense(ns, 256, tanh; initW = glorot_uniform(rng)),\n",
    "                    Dense(256, 256, tanh; initW = glorot_uniform(rng)),\n",
    "                    Dense(256, 1; initW = glorot_uniform(rng)),\n",
    "                ),\n",
    "                optimizer = ADAM(1e-4),\n",
    "            );"
   ]
  },
  {
   "cell_type": "code",
   "execution_count": 25,
   "id": "7ea4c37c",
   "metadata": {},
   "outputs": [],
   "source": [
    "    agent = Agent( # A wrapper of an AbstractPolicy\n",
    "         \n",
    "\n",
    "        # AbstractPolicy: the policy to use\n",
    "        policy = PPOPolicy(;\n",
    "                    approximator = approximator |> cpu,\n",
    "                    update_freq=UPDATE_FREQ,\n",
    "                    dist = Normal,\n",
    "                    # For parameters visit the docu: https://juliareinforcementlearning.org/docs/rlzoo/#ReinforcementLearningZoo.PPOPolicy\n",
    "                    ),\n",
    "        \n",
    "        # AbstractTrajectory: used to store transitions between an agent and an environment source\n",
    "        trajectory = PPOTrajectory(;\n",
    "            capacity = UPDATE_FREQ,\n",
    "            state = Matrix{Float64} => (ns, N_ENV),\n",
    "            action = Matrix{Float64} => (na, N_ENV),\n",
    "            action_log_prob = Vector{Float64} => (N_ENV,),\n",
    "            reward = Vector{Float64} => (N_ENV,),\n",
    "            terminal = Vector{Bool} => (N_ENV,),\n",
    "        ),\n",
    "    );\n"
   ]
  },
  {
   "cell_type": "code",
   "execution_count": 26,
   "id": "7f158a93",
   "metadata": {},
   "outputs": [],
   "source": [
    "function saveModel(t, agent, env)\n",
    "    model = cpu(agent.policy.approximator)\n",
    "    if SLOW_MODE\n",
    "        f = joinpath(\"./office_test/RL_models_slow/\", \"cf_ppo_$(t).bson\") #todo\n",
    "    else\n",
    "        f = joinpath(\"./office_test/RL_models_fast/\", \"cf_ppo_$(t).bson\") \n",
    "    end\n",
    "    @save f model\n",
    "    println(\"parameters at step $t saved to $f\")\n",
    "end;\n"
   ]
  },
  {
   "cell_type": "code",
   "execution_count": 27,
   "id": "301a9bd8",
   "metadata": {},
   "outputs": [],
   "source": [
    "function loadModel()\n",
    "    if SLOW_MODE\n",
    "        f = joinpath(\"./RL_models_slow/\", \"cf_ppo_$(load_from_slow_step).bson\")\n",
    "#         f = joinpath(\"./office_test/RL_models_slow/\", \"cf_ppo_1000000.bson\") #todo\n",
    "    else\n",
    "        f = joinpath(\"./office_test/RL_models_slow/\", \"cf_ppo_$(load_from_fast_step).bson\") # todo\n",
    "    end\n",
    "    @load f model\n",
    "    return model\n",
    "end;"
   ]
  },
  {
   "cell_type": "code",
   "execution_count": 28,
   "id": "751137af",
   "metadata": {},
   "outputs": [],
   "source": [
    "function validate_policy(t, agent, env)\n",
    "    # for validation extract the policy from the agend\n",
    "    run(agent.policy, test_env, StopAfterEpisode(1), \n",
    "        ComposedHook(\n",
    "        episode_test_step_hook, \n",
    "        episode_test_reward_hook\n",
    "    ),\n",
    "        )\n",
    "    # the result of the hook\n",
    "    reward = round((episode_test_reward_hook.rewards[end]),digits = 3)\n",
    "    length = episode_test_step_hook.steps[end-1]\n",
    "    \n",
    "    println(\"step: \", t, \" reward : \",reward, \" length: \", length)\n",
    "\n",
    "    with_logger(logger) do\n",
    "        @info \"evaluating\" avg_length = length  avg_reward = reward  log_step_increment = 0\n",
    "    end\n",
    "end;\n",
    "\n",
    "episode_test_reward_hook = TotalRewardPerEpisode( is_display_on_exit=false)\n",
    "episode_test_step_hook = StepsPerEpisode()\n",
    "# create a env only for reward test\n",
    "\n",
    "test_env = VtolEnv(;name = \"test_cf\", visualization = true, realtime = true);\n",
    "#test_env = VtolEnv(;name = \"test_cf\", visualization = false, realtime = false);"
   ]
  },
  {
   "cell_type": "code",
   "execution_count": 29,
   "id": "897ce270",
   "metadata": {},
   "outputs": [
    {
     "data": {
      "text/plain": [
       "4000000"
      ]
     },
     "execution_count": 29,
     "metadata": {},
     "output_type": "execute_result"
    }
   ],
   "source": [
    "# number of steps\n",
    "steps_slow = 2_000_000\n",
    "steps_fast = 4_000_000\n",
    "load_from_slow_step = 30_000_000 #30_000_000 # TODO: choose slow model\n",
    "load_from_fast_step = 2_000_000 #30_000_000 # TODO: choose fast model\n",
    "\n",
    "save_freq = 100_000\n",
    "validate_freq = 100_000\n",
    "\n",
    "steps = 0\n",
    "if SLOW_MODE\n",
    "    steps = steps_slow\n",
    "else\n",
    "    steps = steps_fast\n",
    "end"
   ]
  },
  {
   "cell_type": "code",
   "execution_count": 30,
   "id": "0e8fad8f",
   "metadata": {},
   "outputs": [],
   "source": [
    "# Define hook which is called during the training\n",
    "total_batch_reward_per_episode = TotalBatchRewardPerEpisode(N_ENV, is_display_on_exit = false)\n",
    "hook = ComposedHook(\n",
    "    total_batch_reward_per_episode,\n",
    "    DoEveryNStep(saveModel, n=save_freq),\n",
    "    DoEveryNStep(validate_policy, n=validate_freq),\n",
    "    #=\n",
    "    DoEveryNStep() do t, agent, env\n",
    "        p = agent.policy\n",
    "        with_logger(logger) do\n",
    "            @info \"training\" loss = mean(p.loss)  actor_loss = mean(p.actor_loss)  critic_loss = mean(p.critic_loss)\n",
    "        end\n",
    "    end,\n",
    "    =#\n",
    "    DoEveryNStep() do t, agent, env\n",
    "        with_logger(logger) do\n",
    "            rewards = [\n",
    "                total_batch_reward_per_episode.rewards[i][end] for i in 1:length(env)  if is_terminated(env[i])\n",
    "                    ]\n",
    "            if length(rewards) > 0\n",
    "                @info \"training\" reward = mean(rewards)\n",
    "            end\n",
    "        end\n",
    "    end,\n",
    "    #=\n",
    "    DoEveryNStep() do t, agent, env\n",
    "        with_logger(logger) do\n",
    "            @info \"training\" action_thrust_1 = env[1].action[1]  action_thrust_2 = env[1].action[2] action_thrust_3 = env[1].action[3] action_thrust_4 = env[1].action[4]\n",
    "        end\n",
    "    end,\n",
    "    =#\n",
    ");"
   ]
  },
  {
   "cell_type": "code",
   "execution_count": 31,
   "id": "174f8124",
   "metadata": {},
   "outputs": [],
   "source": [
    "agent.policy.approximator = loadModel(); "
   ]
  },
  {
   "cell_type": "code",
   "execution_count": 32,
   "id": "45dfdb68",
   "metadata": {},
   "outputs": [],
   "source": [
    "if TRAINING\n",
    "    ReinforcementLearning.run(\n",
    "        agent,\n",
    "        env,\n",
    "        StopAfterStep(steps),\n",
    "        hook\n",
    "    )\n",
    "end"
   ]
  },
  {
   "cell_type": "code",
   "execution_count": 33,
   "id": "21a5d7b6",
   "metadata": {},
   "outputs": [],
   "source": [
    "if TRAINING\n",
    "    plot(episode_test_reward_hook.rewards)\n",
    "end"
   ]
  },
  {
   "cell_type": "code",
   "execution_count": 34,
   "id": "41c1dc36",
   "metadata": {},
   "outputs": [],
   "source": [
    "if TRAINING\n",
    "    plot(episode_test_step_hook.steps[1:2:end])\n",
    "end"
   ]
  },
  {
   "cell_type": "code",
   "execution_count": 35,
   "id": "0be19c7e",
   "metadata": {},
   "outputs": [],
   "source": [
    "close_visualization(); # closes the MeshCat visualization"
   ]
  },
  {
   "cell_type": "markdown",
   "id": "d1be7fc6",
   "metadata": {},
   "source": [
    "# Evaluation"
   ]
  },
  {
   "cell_type": "code",
   "execution_count": 36,
   "id": "8a39200a",
   "metadata": {},
   "outputs": [],
   "source": [
    "test_env = VtolEnv(;name = \"test_cf\");"
   ]
  },
  {
   "cell_type": "code",
   "execution_count": 37,
   "id": "345f65ce",
   "metadata": {},
   "outputs": [],
   "source": [
    "function loadModel(path, num)\n",
    "    f = joinpath(path, \"cf_ppo_$num.bson\") \n",
    "    @load f model\n",
    "    return model\n",
    "end;"
   ]
  },
  {
   "cell_type": "code",
   "execution_count": 38,
   "id": "ed379703",
   "metadata": {},
   "outputs": [],
   "source": [
    "function validate(num_models, num_test)\n",
    "    episode_test_reward_hook = TotalRewardPerEpisode(;is_display_on_exit=false)\n",
    "    # create a env only for reward test\n",
    "    for i in 1:num_models\n",
    "          \n",
    "        sum_rewards_model = 0;\n",
    "        sum_successes_model = 0;\n",
    "        sum_avg_vel_model = 0;\n",
    "        sum_compl_time = 0;\n",
    "        n_success = 0;\n",
    "        \n",
    "        for exp in 1:num_test\n",
    "            if SLOW_MODE\n",
    "                path = \"./office_test/RL_models_slow/\"\n",
    "            else\n",
    "                path = \"./office_test/RL_models_fast/\"\n",
    "            end\n",
    "            agent.policy.approximator = loadModel(path, i * save_freq + 2_000_000); \n",
    "            RLBase.reset!(test_env)\n",
    "            \n",
    "            run(agent.policy, test_env, StopAfterEpisode(1), episode_test_reward_hook)\n",
    "            # the result of the hook\n",
    "            sum_rewards_model += episode_test_reward_hook.rewards[end];\n",
    "            \n",
    "            if test_env.reached_goal == trues(test_env.num_waypoints)\n",
    "                n_success += 1\n",
    "                sum_avg_vel_model += test_env.norm_way / test_env.t\n",
    "                sum_compl_time += test_env.t\n",
    "                if best_compl_time[i] > test_env.t\n",
    "                    best_compl_time[i] = test_env.t\n",
    "                end\n",
    "            end\n",
    "        end\n",
    "        \n",
    "        rewards[i] = sum_rewards_model / num_test;\n",
    "        success_rate[i] = n_success / num_test;\n",
    "        if n_success > 0\n",
    "            avg_velocity[i] = sum_avg_vel_model / n_success;\n",
    "            avg_compl_time[i] = sum_compl_time / n_success;\n",
    "        else\n",
    "            avg_velocity[i] = NaN\n",
    "            avg_compl_time[i] = NaN\n",
    "        end\n",
    "        percent = percent = round(i * 100 / num_models, digits=2)\n",
    "        print(\"progress: $(percent)%   \\r\")\n",
    "        flush(stdout)\n",
    "        \n",
    "    end\n",
    "    \n",
    "    \n",
    "end;"
   ]
  },
  {
   "cell_type": "code",
   "execution_count": 39,
   "id": "21a98dd6",
   "metadata": {
    "scrolled": true
   },
   "outputs": [
    {
     "name": "stdout",
     "output_type": "stream",
     "text": [
      "progress: 100.0%   \r"
     ]
    }
   ],
   "source": [
    "if EVALUATION\n",
    "    \n",
    "    NUM_MODELS = Int(steps / save_freq);  \n",
    "    NUM_TEST = 30; # TODO: change as desired \n",
    "\n",
    "    rewards = zeros(NUM_MODELS, 1);\n",
    "    success_rate = zeros(NUM_MODELS, 1);\n",
    "    avg_velocity = zeros(NUM_MODELS, 1);\n",
    "    avg_compl_time = zeros(NUM_MODELS, 1);\n",
    "    best_compl_time = zeros(NUM_MODELS, 1);\n",
    "    best_compl_time[1:end] .= 500\n",
    "    \n",
    "    validate(NUM_MODELS, NUM_TEST);\n",
    "    \n",
    "    for i in 1:NUM_MODELS\n",
    "        if best_compl_time[i] == 500\n",
    "            best_compl_time[i] = NaN\n",
    "        end\n",
    "    end\n",
    "end;"
   ]
  },
  {
   "cell_type": "code",
   "execution_count": 40,
   "id": "ab909865",
   "metadata": {},
   "outputs": [],
   "source": [
    "if EVALUATION\n",
    "    results_path = pwd() * \"/office_test/plots/\";\n",
    "    if SLOW_MODE\n",
    "        results_path = results_path * \"slow/\"\n",
    "    else\n",
    "        results_path = results_path * \"fast/\"\n",
    "    end\n",
    "    \n",
    "    save(results_path * \"iterations.jld\", \"data\", [1:NUM_MODELS] * save_freq) \n",
    "    \n",
    "    save(results_path * \"avg_comp_time.jld\", \"data\", avg_compl_time)\n",
    "    \n",
    "    save(results_path * \"avg_velocity.jld\", \"data\", avg_velocity)\n",
    "    \n",
    "    save(results_path * \"reward.jld\", \"data\", rewards) \n",
    "        \n",
    "    save(results_path * \"success_rate.jld\", \"data\", success_rate)\n",
    "    \n",
    "    save(results_path * \"best_compl_time.jld\", \"data\", best_compl_time)\n",
    "end;"
   ]
  },
  {
   "cell_type": "code",
   "execution_count": 41,
   "id": "0ea2a032",
   "metadata": {},
   "outputs": [],
   "source": [
    "results_path = pwd() * \"/office_test/plots/\";\n",
    "if SLOW_MODE\n",
    "    results_path = results_path * \"slow/\"\n",
    "else\n",
    "    results_path = results_path * \"fast/\"\n",
    "end\n",
    "\n",
    "iterations = load(results_path * \"iterations.jld\")[\"data\"];\n",
    "avg_compl_time = load(results_path * \"avg_comp_time.jld\")[\"data\"];\n",
    "avg_velocity = load(results_path * \"avg_velocity.jld\")[\"data\"];\n",
    "rewards = load(results_path * \"reward.jld\")[\"data\"];\n",
    "success_rate = load(results_path * \"success_rate.jld\")[\"data\"];\n",
    "best_compl_time = load(results_path * \"best_compl_time.jld\")[\"data\"];"
   ]
  },
  {
   "cell_type": "code",
   "execution_count": 42,
   "id": "26466af1",
   "metadata": {},
   "outputs": [
    {
     "data": {
      "text/plain": [
       "\"/home/larissa/Documents/Projects/ADLR/ADLR_project/src/RL_PPO_quadcopter_3D/office_test/plots/fast/\""
      ]
     },
     "execution_count": 42,
     "metadata": {},
     "output_type": "execute_result"
    }
   ],
   "source": [
    "fig_path = pwd() * \"/office_test/plots/\";\n",
    "if SLOW_MODE\n",
    "    fig_path = fig_path * \"slow/\"\n",
    "else\n",
    "    fig_path = fig_path * \"fast/\"\n",
    "end"
   ]
  },
  {
   "cell_type": "code",
   "execution_count": 43,
   "id": "c4cc649e",
   "metadata": {},
   "outputs": [
    {
     "data": {
      "image/svg+xml": [
       "<?xml version=\"1.0\" encoding=\"utf-8\"?>\n",
       "<svg xmlns=\"http://www.w3.org/2000/svg\" xmlns:xlink=\"http://www.w3.org/1999/xlink\" width=\"600\" height=\"400\" viewBox=\"0 0 2400 1600\">\n",
       "<defs>\n",
       "  <clipPath id=\"clip640\">\n",
       "    <rect x=\"0\" y=\"0\" width=\"2400\" height=\"1600\"/>\n",
       "  </clipPath>\n",
       "</defs>\n",
       "<path clip-path=\"url(#clip640)\" d=\"\n",
       "M0 1600 L2400 1600 L2400 0 L0 0  Z\n",
       "  \" fill=\"#ffffff\" fill-rule=\"evenodd\" fill-opacity=\"1\"/>\n",
       "<defs>\n",
       "  <clipPath id=\"clip641\">\n",
       "    <rect x=\"480\" y=\"0\" width=\"1681\" height=\"1600\"/>\n",
       "  </clipPath>\n",
       "</defs>\n",
       "<path clip-path=\"url(#clip640)\" d=\"\n",
       "M232.389 1410.9 L2352.76 1410.9 L2352.76 47.2441 L232.389 47.2441  Z\n",
       "  \" fill=\"#ffffff\" fill-rule=\"evenodd\" fill-opacity=\"1\"/>\n",
       "<defs>\n",
       "  <clipPath id=\"clip642\">\n",
       "    <rect x=\"232\" y=\"47\" width=\"2121\" height=\"1365\"/>\n",
       "  </clipPath>\n",
       "</defs>\n",
       "<polyline clip-path=\"url(#clip642)\" style=\"stroke:#000000; stroke-linecap:round; stroke-linejoin:round; stroke-width:2; stroke-opacity:0.1; fill:none\" points=\"\n",
       "  241.109,1410.9 241.109,47.2441 \n",
       "  \"/>\n",
       "<polyline clip-path=\"url(#clip642)\" style=\"stroke:#000000; stroke-linecap:round; stroke-linejoin:round; stroke-width:2; stroke-opacity:0.1; fill:none\" points=\"\n",
       "  754.018,1410.9 754.018,47.2441 \n",
       "  \"/>\n",
       "<polyline clip-path=\"url(#clip642)\" style=\"stroke:#000000; stroke-linecap:round; stroke-linejoin:round; stroke-width:2; stroke-opacity:0.1; fill:none\" points=\"\n",
       "  1266.93,1410.9 1266.93,47.2441 \n",
       "  \"/>\n",
       "<polyline clip-path=\"url(#clip642)\" style=\"stroke:#000000; stroke-linecap:round; stroke-linejoin:round; stroke-width:2; stroke-opacity:0.1; fill:none\" points=\"\n",
       "  1779.84,1410.9 1779.84,47.2441 \n",
       "  \"/>\n",
       "<polyline clip-path=\"url(#clip642)\" style=\"stroke:#000000; stroke-linecap:round; stroke-linejoin:round; stroke-width:2; stroke-opacity:0.1; fill:none\" points=\"\n",
       "  2292.75,1410.9 2292.75,47.2441 \n",
       "  \"/>\n",
       "<polyline clip-path=\"url(#clip640)\" style=\"stroke:#000000; stroke-linecap:round; stroke-linejoin:round; stroke-width:4; stroke-opacity:1; fill:none\" points=\"\n",
       "  232.389,1410.9 2352.76,1410.9 \n",
       "  \"/>\n",
       "<polyline clip-path=\"url(#clip640)\" style=\"stroke:#000000; stroke-linecap:round; stroke-linejoin:round; stroke-width:4; stroke-opacity:1; fill:none\" points=\"\n",
       "  241.109,1410.9 241.109,1392 \n",
       "  \"/>\n",
       "<polyline clip-path=\"url(#clip640)\" style=\"stroke:#000000; stroke-linecap:round; stroke-linejoin:round; stroke-width:4; stroke-opacity:1; fill:none\" points=\"\n",
       "  754.018,1410.9 754.018,1392 \n",
       "  \"/>\n",
       "<polyline clip-path=\"url(#clip640)\" style=\"stroke:#000000; stroke-linecap:round; stroke-linejoin:round; stroke-width:4; stroke-opacity:1; fill:none\" points=\"\n",
       "  1266.93,1410.9 1266.93,1392 \n",
       "  \"/>\n",
       "<polyline clip-path=\"url(#clip640)\" style=\"stroke:#000000; stroke-linecap:round; stroke-linejoin:round; stroke-width:4; stroke-opacity:1; fill:none\" points=\"\n",
       "  1779.84,1410.9 1779.84,1392 \n",
       "  \"/>\n",
       "<polyline clip-path=\"url(#clip640)\" style=\"stroke:#000000; stroke-linecap:round; stroke-linejoin:round; stroke-width:4; stroke-opacity:1; fill:none\" points=\"\n",
       "  2292.75,1410.9 2292.75,1392 \n",
       "  \"/>\n",
       "<path clip-path=\"url(#clip640)\" d=\"M241.109 1441.82 Q237.498 1441.82 235.669 1445.38 Q233.863 1448.92 233.863 1456.05 Q233.863 1463.16 235.669 1466.72 Q237.498 1470.26 241.109 1470.26 Q244.743 1470.26 246.549 1466.72 Q248.377 1463.16 248.377 1456.05 Q248.377 1448.92 246.549 1445.38 Q244.743 1441.82 241.109 1441.82 M241.109 1438.11 Q246.919 1438.11 249.974 1442.72 Q253.053 1447.3 253.053 1456.05 Q253.053 1464.78 249.974 1469.38 Q246.919 1473.97 241.109 1473.97 Q235.299 1473.97 232.22 1469.38 Q229.164 1464.78 229.164 1456.05 Q229.164 1447.3 232.22 1442.72 Q235.299 1438.11 241.109 1438.11 Z\" fill=\"#000000\" fill-rule=\"evenodd\" fill-opacity=\"1\" /><path clip-path=\"url(#clip640)\" d=\"M661.453 1485.02 L669.092 1485.02 L669.092 1458.66 L660.781 1460.32 L660.781 1456.06 L669.045 1454.4 L673.721 1454.4 L673.721 1485.02 L681.36 1485.02 L681.36 1488.96 L661.453 1488.96 L661.453 1485.02 Z\" fill=\"#000000\" fill-rule=\"evenodd\" fill-opacity=\"1\" /><path clip-path=\"url(#clip640)\" d=\"M690.804 1483.08 L695.689 1483.08 L695.689 1488.96 L690.804 1488.96 L690.804 1483.08 Z\" fill=\"#000000\" fill-rule=\"evenodd\" fill-opacity=\"1\" /><path clip-path=\"url(#clip640)\" d=\"M715.874 1457.48 Q712.263 1457.48 710.434 1461.04 Q708.628 1464.58 708.628 1471.71 Q708.628 1478.82 710.434 1482.38 Q712.263 1485.92 715.874 1485.92 Q719.508 1485.92 721.313 1482.38 Q723.142 1478.82 723.142 1471.71 Q723.142 1464.58 721.313 1461.04 Q719.508 1457.48 715.874 1457.48 M715.874 1453.77 Q721.684 1453.77 724.739 1458.38 Q727.818 1462.96 727.818 1471.71 Q727.818 1480.44 724.739 1485.04 Q721.684 1489.63 715.874 1489.63 Q710.064 1489.63 706.985 1485.04 Q703.929 1480.44 703.929 1471.71 Q703.929 1462.96 706.985 1458.38 Q710.064 1453.77 715.874 1453.77 Z\" fill=\"#000000\" fill-rule=\"evenodd\" fill-opacity=\"1\" /><path clip-path=\"url(#clip640)\" d=\"M764.207 1463.49 L753.628 1474.12 L764.207 1484.7 L761.452 1487.5 L750.827 1476.87 L740.202 1487.5 L737.471 1484.7 L748.026 1474.12 L737.471 1463.49 L740.202 1460.69 L750.827 1471.32 L761.452 1460.69 L764.207 1463.49 Z\" fill=\"#000000\" fill-rule=\"evenodd\" fill-opacity=\"1\" /><path clip-path=\"url(#clip640)\" d=\"M776.568 1485.02 L784.207 1485.02 L784.207 1458.66 L775.896 1460.32 L775.896 1456.06 L784.16 1454.4 L788.836 1454.4 L788.836 1485.02 L796.475 1485.02 L796.475 1488.96 L776.568 1488.96 L776.568 1485.02 Z\" fill=\"#000000\" fill-rule=\"evenodd\" fill-opacity=\"1\" /><path clip-path=\"url(#clip640)\" d=\"M815.919 1457.48 Q812.308 1457.48 810.48 1461.04 Q808.674 1464.58 808.674 1471.71 Q808.674 1478.82 810.48 1482.38 Q812.308 1485.92 815.919 1485.92 Q819.554 1485.92 821.359 1482.38 Q823.188 1478.82 823.188 1471.71 Q823.188 1464.58 821.359 1461.04 Q819.554 1457.48 815.919 1457.48 M815.919 1453.77 Q821.73 1453.77 824.785 1458.38 Q827.864 1462.96 827.864 1471.71 Q827.864 1480.44 824.785 1485.04 Q821.73 1489.63 815.919 1489.63 Q810.109 1489.63 807.031 1485.04 Q803.975 1480.44 803.975 1471.71 Q803.975 1462.96 807.031 1458.38 Q810.109 1453.77 815.919 1453.77 Z\" fill=\"#000000\" fill-rule=\"evenodd\" fill-opacity=\"1\" /><path clip-path=\"url(#clip640)\" d=\"M837.888 1445.99 Q835.33 1445.99 833.826 1447.74 Q832.34 1449.49 832.34 1452.54 Q832.34 1455.57 833.826 1457.33 Q835.33 1459.08 837.888 1459.08 Q840.446 1459.08 841.932 1457.33 Q843.437 1455.57 843.437 1452.54 Q843.437 1449.49 841.932 1447.74 Q840.446 1445.99 837.888 1445.99 M845.43 1434.09 L845.43 1437.55 Q844.001 1436.87 842.534 1436.51 Q841.086 1436.16 839.656 1436.16 Q835.895 1436.16 833.901 1438.69 Q831.926 1441.23 831.644 1446.37 Q832.754 1444.73 834.428 1443.87 Q836.102 1442.98 838.114 1442.98 Q842.346 1442.98 844.791 1445.56 Q847.255 1448.12 847.255 1452.54 Q847.255 1456.86 844.697 1459.48 Q842.139 1462.09 837.888 1462.09 Q833.017 1462.09 830.44 1458.37 Q827.864 1454.62 827.864 1447.53 Q827.864 1440.88 831.024 1436.93 Q834.183 1432.96 839.506 1432.96 Q840.935 1432.96 842.383 1433.24 Q843.85 1433.52 845.43 1434.09 Z\" fill=\"#000000\" fill-rule=\"evenodd\" fill-opacity=\"1\" /><path clip-path=\"url(#clip640)\" d=\"M1178.45 1485.02 L1194.77 1485.02 L1194.77 1488.96 L1172.82 1488.96 L1172.82 1485.02 Q1175.48 1482.27 1180.07 1477.64 Q1184.67 1472.98 1185.85 1471.64 Q1188.1 1469.12 1188.98 1467.38 Q1189.88 1465.62 1189.88 1463.93 Q1189.88 1461.18 1187.94 1459.44 Q1186.02 1457.71 1182.92 1457.71 Q1180.72 1457.71 1178.26 1458.47 Q1175.83 1459.23 1173.05 1460.79 L1173.05 1456.06 Q1175.88 1454.93 1178.33 1454.35 Q1180.79 1453.77 1182.82 1453.77 Q1188.19 1453.77 1191.39 1456.46 Q1194.58 1459.14 1194.58 1463.63 Q1194.58 1465.76 1193.77 1467.68 Q1192.98 1469.58 1190.88 1472.17 Q1190.3 1472.85 1187.2 1476.06 Q1184.1 1479.26 1178.45 1485.02 Z\" fill=\"#000000\" fill-rule=\"evenodd\" fill-opacity=\"1\" /><path clip-path=\"url(#clip640)\" d=\"M1204.58 1483.08 L1209.47 1483.08 L1209.47 1488.96 L1204.58 1488.96 L1204.58 1483.08 Z\" fill=\"#000000\" fill-rule=\"evenodd\" fill-opacity=\"1\" /><path clip-path=\"url(#clip640)\" d=\"M1229.65 1457.48 Q1226.04 1457.48 1224.21 1461.04 Q1222.41 1464.58 1222.41 1471.71 Q1222.41 1478.82 1224.21 1482.38 Q1226.04 1485.92 1229.65 1485.92 Q1233.29 1485.92 1235.09 1482.38 Q1236.92 1478.82 1236.92 1471.71 Q1236.92 1464.58 1235.09 1461.04 Q1233.29 1457.48 1229.65 1457.48 M1229.65 1453.77 Q1235.46 1453.77 1238.52 1458.38 Q1241.6 1462.96 1241.6 1471.71 Q1241.6 1480.44 1238.52 1485.04 Q1235.46 1489.63 1229.65 1489.63 Q1223.84 1489.63 1220.76 1485.04 Q1217.71 1480.44 1217.71 1471.71 Q1217.71 1462.96 1220.76 1458.38 Q1223.84 1453.77 1229.65 1453.77 Z\" fill=\"#000000\" fill-rule=\"evenodd\" fill-opacity=\"1\" /><path clip-path=\"url(#clip640)\" d=\"M1277.98 1463.49 L1267.41 1474.12 L1277.98 1484.7 L1275.23 1487.5 L1264.6 1476.87 L1253.98 1487.5 L1251.25 1484.7 L1261.8 1474.12 L1251.25 1463.49 L1253.98 1460.69 L1264.6 1471.32 L1275.23 1460.69 L1277.98 1463.49 Z\" fill=\"#000000\" fill-rule=\"evenodd\" fill-opacity=\"1\" /><path clip-path=\"url(#clip640)\" d=\"M1290.35 1485.02 L1297.98 1485.02 L1297.98 1458.66 L1289.67 1460.32 L1289.67 1456.06 L1297.94 1454.4 L1302.61 1454.4 L1302.61 1485.02 L1310.25 1485.02 L1310.25 1488.96 L1290.35 1488.96 L1290.35 1485.02 Z\" fill=\"#000000\" fill-rule=\"evenodd\" fill-opacity=\"1\" /><path clip-path=\"url(#clip640)\" d=\"M1329.7 1457.48 Q1326.09 1457.48 1324.26 1461.04 Q1322.45 1464.58 1322.45 1471.71 Q1322.45 1478.82 1324.26 1482.38 Q1326.09 1485.92 1329.7 1485.92 Q1333.33 1485.92 1335.14 1482.38 Q1336.97 1478.82 1336.97 1471.71 Q1336.97 1464.58 1335.14 1461.04 Q1333.33 1457.48 1329.7 1457.48 M1329.7 1453.77 Q1335.51 1453.77 1338.56 1458.38 Q1341.64 1462.96 1341.64 1471.71 Q1341.64 1480.44 1338.56 1485.04 Q1335.51 1489.63 1329.7 1489.63 Q1323.89 1489.63 1320.81 1485.04 Q1317.75 1480.44 1317.75 1471.71 Q1317.75 1462.96 1320.81 1458.38 Q1323.89 1453.77 1329.7 1453.77 Z\" fill=\"#000000\" fill-rule=\"evenodd\" fill-opacity=\"1\" /><path clip-path=\"url(#clip640)\" d=\"M1351.67 1445.99 Q1349.11 1445.99 1347.6 1447.74 Q1346.12 1449.49 1346.12 1452.54 Q1346.12 1455.57 1347.6 1457.33 Q1349.11 1459.08 1351.67 1459.08 Q1354.22 1459.08 1355.71 1457.33 Q1357.21 1455.57 1357.21 1452.54 Q1357.21 1449.49 1355.71 1447.74 Q1354.22 1445.99 1351.67 1445.99 M1359.21 1434.09 L1359.21 1437.55 Q1357.78 1436.87 1356.31 1436.51 Q1354.86 1436.16 1353.43 1436.16 Q1349.67 1436.16 1347.68 1438.69 Q1345.7 1441.23 1345.42 1446.37 Q1346.53 1444.73 1348.2 1443.87 Q1349.88 1442.98 1351.89 1442.98 Q1356.12 1442.98 1358.57 1445.56 Q1361.03 1448.12 1361.03 1452.54 Q1361.03 1456.86 1358.47 1459.48 Q1355.92 1462.09 1351.67 1462.09 Q1346.79 1462.09 1344.22 1458.37 Q1341.64 1454.62 1341.64 1447.53 Q1341.64 1440.88 1344.8 1436.93 Q1347.96 1432.96 1353.28 1432.96 Q1354.71 1432.96 1356.16 1433.24 Q1357.63 1433.52 1359.21 1434.09 Z\" fill=\"#000000\" fill-rule=\"evenodd\" fill-opacity=\"1\" /><path clip-path=\"url(#clip640)\" d=\"M1701.43 1470.32 Q1704.78 1471.04 1706.66 1473.31 Q1708.56 1475.58 1708.56 1478.91 Q1708.56 1484.03 1705.04 1486.83 Q1701.52 1489.63 1695.04 1489.63 Q1692.86 1489.63 1690.55 1489.19 Q1688.25 1488.77 1685.8 1487.91 L1685.8 1483.4 Q1687.75 1484.54 1690.06 1485.11 Q1692.38 1485.69 1694.9 1485.69 Q1699.3 1485.69 1701.59 1483.96 Q1703.9 1482.22 1703.9 1478.91 Q1703.9 1475.85 1701.75 1474.14 Q1699.62 1472.41 1695.8 1472.41 L1691.77 1472.41 L1691.77 1468.56 L1695.99 1468.56 Q1699.44 1468.56 1701.26 1467.2 Q1703.09 1465.81 1703.09 1463.22 Q1703.09 1460.55 1701.19 1459.14 Q1699.32 1457.71 1695.8 1457.71 Q1693.88 1457.71 1691.68 1458.12 Q1689.48 1458.54 1686.84 1459.42 L1686.84 1455.25 Q1689.5 1454.51 1691.82 1454.14 Q1694.16 1453.77 1696.22 1453.77 Q1701.54 1453.77 1704.64 1456.2 Q1707.75 1458.61 1707.75 1462.73 Q1707.75 1465.6 1706.1 1467.59 Q1704.46 1469.56 1701.43 1470.32 Z\" fill=\"#000000\" fill-rule=\"evenodd\" fill-opacity=\"1\" /><path clip-path=\"url(#clip640)\" d=\"M1717.42 1483.08 L1722.31 1483.08 L1722.31 1488.96 L1717.42 1488.96 L1717.42 1483.08 Z\" fill=\"#000000\" fill-rule=\"evenodd\" fill-opacity=\"1\" /><path clip-path=\"url(#clip640)\" d=\"M1742.49 1457.48 Q1738.88 1457.48 1737.05 1461.04 Q1735.25 1464.58 1735.25 1471.71 Q1735.25 1478.82 1737.05 1482.38 Q1738.88 1485.92 1742.49 1485.92 Q1746.12 1485.92 1747.93 1482.38 Q1749.76 1478.82 1749.76 1471.71 Q1749.76 1464.58 1747.93 1461.04 Q1746.12 1457.48 1742.49 1457.48 M1742.49 1453.77 Q1748.3 1453.77 1751.36 1458.38 Q1754.44 1462.96 1754.44 1471.71 Q1754.44 1480.44 1751.36 1485.04 Q1748.3 1489.63 1742.49 1489.63 Q1736.68 1489.63 1733.6 1485.04 Q1730.55 1480.44 1730.55 1471.71 Q1730.55 1462.96 1733.6 1458.38 Q1736.68 1453.77 1742.49 1453.77 Z\" fill=\"#000000\" fill-rule=\"evenodd\" fill-opacity=\"1\" /><path clip-path=\"url(#clip640)\" d=\"M1790.82 1463.49 L1780.25 1474.12 L1790.82 1484.7 L1788.07 1487.5 L1777.44 1476.87 L1766.82 1487.5 L1764.09 1484.7 L1774.64 1474.12 L1764.09 1463.49 L1766.82 1460.69 L1777.44 1471.32 L1788.07 1460.69 L1790.82 1463.49 Z\" fill=\"#000000\" fill-rule=\"evenodd\" fill-opacity=\"1\" /><path clip-path=\"url(#clip640)\" d=\"M1803.18 1485.02 L1810.82 1485.02 L1810.82 1458.66 L1802.51 1460.32 L1802.51 1456.06 L1810.78 1454.4 L1815.45 1454.4 L1815.45 1485.02 L1823.09 1485.02 L1823.09 1488.96 L1803.18 1488.96 L1803.18 1485.02 Z\" fill=\"#000000\" fill-rule=\"evenodd\" fill-opacity=\"1\" /><path clip-path=\"url(#clip640)\" d=\"M1842.54 1457.48 Q1838.93 1457.48 1837.1 1461.04 Q1835.29 1464.58 1835.29 1471.71 Q1835.29 1478.82 1837.1 1482.38 Q1838.93 1485.92 1842.54 1485.92 Q1846.17 1485.92 1847.98 1482.38 Q1849.8 1478.82 1849.8 1471.71 Q1849.8 1464.58 1847.98 1461.04 Q1846.17 1457.48 1842.54 1457.48 M1842.54 1453.77 Q1848.35 1453.77 1851.4 1458.38 Q1854.48 1462.96 1854.48 1471.71 Q1854.48 1480.44 1851.4 1485.04 Q1848.35 1489.63 1842.54 1489.63 Q1836.73 1489.63 1833.65 1485.04 Q1830.59 1480.44 1830.59 1471.71 Q1830.59 1462.96 1833.65 1458.38 Q1836.73 1453.77 1842.54 1453.77 Z\" fill=\"#000000\" fill-rule=\"evenodd\" fill-opacity=\"1\" /><path clip-path=\"url(#clip640)\" d=\"M1864.51 1445.99 Q1861.95 1445.99 1860.44 1447.74 Q1858.96 1449.49 1858.96 1452.54 Q1858.96 1455.57 1860.44 1457.33 Q1861.95 1459.08 1864.51 1459.08 Q1867.06 1459.08 1868.55 1457.33 Q1870.05 1455.57 1870.05 1452.54 Q1870.05 1449.49 1868.55 1447.74 Q1867.06 1445.99 1864.51 1445.99 M1872.05 1434.09 L1872.05 1437.55 Q1870.62 1436.87 1869.15 1436.51 Q1867.7 1436.16 1866.27 1436.16 Q1862.51 1436.16 1860.52 1438.69 Q1858.54 1441.23 1858.26 1446.37 Q1859.37 1444.73 1861.04 1443.87 Q1862.72 1442.98 1864.73 1442.98 Q1868.96 1442.98 1871.41 1445.56 Q1873.87 1448.12 1873.87 1452.54 Q1873.87 1456.86 1871.31 1459.48 Q1868.76 1462.09 1864.51 1462.09 Q1859.63 1462.09 1857.06 1458.37 Q1854.48 1454.62 1854.48 1447.53 Q1854.48 1440.88 1857.64 1436.93 Q1860.8 1432.96 1866.12 1432.96 Q1867.55 1432.96 1869 1433.24 Q1870.47 1433.52 1872.05 1434.09 Z\" fill=\"#000000\" fill-rule=\"evenodd\" fill-opacity=\"1\" /><path clip-path=\"url(#clip640)\" d=\"M2213.66 1458.47 L2201.86 1476.92 L2213.66 1476.92 L2213.66 1458.47 M2212.44 1454.4 L2218.32 1454.4 L2218.32 1476.92 L2223.25 1476.92 L2223.25 1480.81 L2218.32 1480.81 L2218.32 1488.96 L2213.66 1488.96 L2213.66 1480.81 L2198.06 1480.81 L2198.06 1476.29 L2212.44 1454.4 Z\" fill=\"#000000\" fill-rule=\"evenodd\" fill-opacity=\"1\" /><path clip-path=\"url(#clip640)\" d=\"M2230.98 1483.08 L2235.86 1483.08 L2235.86 1488.96 L2230.98 1488.96 L2230.98 1483.08 Z\" fill=\"#000000\" fill-rule=\"evenodd\" fill-opacity=\"1\" /><path clip-path=\"url(#clip640)\" d=\"M2256.05 1457.48 Q2252.44 1457.48 2250.61 1461.04 Q2248.8 1464.58 2248.8 1471.71 Q2248.8 1478.82 2250.61 1482.38 Q2252.44 1485.92 2256.05 1485.92 Q2259.68 1485.92 2261.49 1482.38 Q2263.32 1478.82 2263.32 1471.71 Q2263.32 1464.58 2261.49 1461.04 Q2259.68 1457.48 2256.05 1457.48 M2256.05 1453.77 Q2261.86 1453.77 2264.91 1458.38 Q2267.99 1462.96 2267.99 1471.71 Q2267.99 1480.44 2264.91 1485.04 Q2261.86 1489.63 2256.05 1489.63 Q2250.24 1489.63 2247.16 1485.04 Q2244.1 1480.44 2244.1 1471.71 Q2244.1 1462.96 2247.16 1458.38 Q2250.24 1453.77 2256.05 1453.77 Z\" fill=\"#000000\" fill-rule=\"evenodd\" fill-opacity=\"1\" /><path clip-path=\"url(#clip640)\" d=\"M2304.38 1463.49 L2293.8 1474.12 L2304.38 1484.7 L2301.63 1487.5 L2291 1476.87 L2280.38 1487.5 L2277.65 1484.7 L2288.2 1474.12 L2277.65 1463.49 L2280.38 1460.69 L2291 1471.32 L2301.63 1460.69 L2304.38 1463.49 Z\" fill=\"#000000\" fill-rule=\"evenodd\" fill-opacity=\"1\" /><path clip-path=\"url(#clip640)\" d=\"M2316.74 1485.02 L2324.38 1485.02 L2324.38 1458.66 L2316.07 1460.32 L2316.07 1456.06 L2324.33 1454.4 L2329.01 1454.4 L2329.01 1485.02 L2336.65 1485.02 L2336.65 1488.96 L2316.74 1488.96 L2316.74 1485.02 Z\" fill=\"#000000\" fill-rule=\"evenodd\" fill-opacity=\"1\" /><path clip-path=\"url(#clip640)\" d=\"M2356.09 1457.48 Q2352.48 1457.48 2350.65 1461.04 Q2348.85 1464.58 2348.85 1471.71 Q2348.85 1478.82 2350.65 1482.38 Q2352.48 1485.92 2356.09 1485.92 Q2359.73 1485.92 2361.53 1482.38 Q2363.36 1478.82 2363.36 1471.71 Q2363.36 1464.58 2361.53 1461.04 Q2359.73 1457.48 2356.09 1457.48 M2356.09 1453.77 Q2361.9 1453.77 2364.96 1458.38 Q2368.04 1462.96 2368.04 1471.71 Q2368.04 1480.44 2364.96 1485.04 Q2361.9 1489.63 2356.09 1489.63 Q2350.28 1489.63 2347.2 1485.04 Q2344.15 1480.44 2344.15 1471.71 Q2344.15 1462.96 2347.2 1458.38 Q2350.28 1453.77 2356.09 1453.77 Z\" fill=\"#000000\" fill-rule=\"evenodd\" fill-opacity=\"1\" /><path clip-path=\"url(#clip640)\" d=\"M2378.06 1445.99 Q2375.5 1445.99 2374 1447.74 Q2372.51 1449.49 2372.51 1452.54 Q2372.51 1455.57 2374 1457.33 Q2375.5 1459.08 2378.06 1459.08 Q2380.62 1459.08 2382.11 1457.33 Q2383.61 1455.57 2383.61 1452.54 Q2383.61 1449.49 2382.11 1447.74 Q2380.62 1445.99 2378.06 1445.99 M2385.6 1434.09 L2385.6 1437.55 Q2384.18 1436.87 2382.71 1436.51 Q2381.26 1436.16 2379.83 1436.16 Q2376.07 1436.16 2374.08 1438.69 Q2372.1 1441.23 2371.82 1446.37 Q2372.93 1444.73 2374.6 1443.87 Q2376.28 1442.98 2378.29 1442.98 Q2382.52 1442.98 2384.97 1445.56 Q2387.43 1448.12 2387.43 1452.54 Q2387.43 1456.86 2384.87 1459.48 Q2382.31 1462.09 2378.06 1462.09 Q2373.19 1462.09 2370.61 1458.37 Q2368.04 1454.62 2368.04 1447.53 Q2368.04 1440.88 2371.2 1436.93 Q2374.36 1432.96 2379.68 1432.96 Q2381.11 1432.96 2382.56 1433.24 Q2384.02 1433.52 2385.6 1434.09 Z\" fill=\"#000000\" fill-rule=\"evenodd\" fill-opacity=\"1\" /><path clip-path=\"url(#clip640)\" d=\"M1142.14 1526.67 L1148.56 1526.67 L1148.56 1574.19 L1142.14 1574.19 L1142.14 1526.67 Z\" fill=\"#000000\" fill-rule=\"evenodd\" fill-opacity=\"1\" /><path clip-path=\"url(#clip640)\" d=\"M1166.9 1528.42 L1166.9 1538.54 L1178.96 1538.54 L1178.96 1543.09 L1166.9 1543.09 L1166.9 1562.44 Q1166.9 1566.8 1168.08 1568.04 Q1169.28 1569.28 1172.95 1569.28 L1178.96 1569.28 L1178.96 1574.19 L1172.95 1574.19 Q1166.17 1574.19 1163.59 1571.67 Q1161.01 1569.12 1161.01 1562.44 L1161.01 1543.09 L1156.71 1543.09 L1156.71 1538.54 L1161.01 1538.54 L1161.01 1528.42 L1166.9 1528.42 Z\" fill=\"#000000\" fill-rule=\"evenodd\" fill-opacity=\"1\" /><path clip-path=\"url(#clip640)\" d=\"M1217.15 1554.9 L1217.15 1557.76 L1190.23 1557.76 Q1190.61 1563.81 1193.86 1566.99 Q1197.13 1570.14 1202.96 1570.14 Q1206.33 1570.14 1209.48 1569.32 Q1212.67 1568.49 1215.79 1566.83 L1215.79 1572.37 Q1212.64 1573.71 1209.33 1574.41 Q1206.01 1575.11 1202.61 1575.11 Q1194.08 1575.11 1189.08 1570.14 Q1184.12 1565.18 1184.12 1556.71 Q1184.12 1547.96 1188.83 1542.83 Q1193.57 1537.68 1201.59 1537.68 Q1208.78 1537.68 1212.95 1542.33 Q1217.15 1546.94 1217.15 1554.9 M1211.3 1553.18 Q1211.23 1548.37 1208.59 1545.51 Q1205.98 1542.64 1201.65 1542.64 Q1196.75 1542.64 1193.79 1545.41 Q1190.86 1548.18 1190.42 1553.21 L1211.3 1553.18 Z\" fill=\"#000000\" fill-rule=\"evenodd\" fill-opacity=\"1\" /><path clip-path=\"url(#clip640)\" d=\"M1247.42 1544.01 Q1246.44 1543.44 1245.26 1543.18 Q1244.11 1542.9 1242.71 1542.9 Q1237.75 1542.9 1235.07 1546.14 Q1232.43 1549.36 1232.43 1555.41 L1232.43 1574.19 L1226.54 1574.19 L1226.54 1538.54 L1232.43 1538.54 L1232.43 1544.08 Q1234.28 1540.83 1237.24 1539.27 Q1240.2 1537.68 1244.43 1537.68 Q1245.04 1537.68 1245.77 1537.77 Q1246.5 1537.84 1247.39 1538 L1247.42 1544.01 Z\" fill=\"#000000\" fill-rule=\"evenodd\" fill-opacity=\"1\" /><path clip-path=\"url(#clip640)\" d=\"M1269.77 1556.27 Q1262.67 1556.27 1259.93 1557.89 Q1257.2 1559.51 1257.2 1563.43 Q1257.2 1566.55 1259.23 1568.39 Q1261.3 1570.21 1264.83 1570.21 Q1269.7 1570.21 1272.63 1566.77 Q1275.59 1563.3 1275.59 1557.57 L1275.59 1556.27 L1269.77 1556.27 M1281.45 1553.85 L1281.45 1574.19 L1275.59 1574.19 L1275.59 1568.77 Q1273.59 1572.02 1270.6 1573.58 Q1267.6 1575.11 1263.27 1575.11 Q1257.8 1575.11 1254.55 1572.05 Q1251.34 1568.97 1251.34 1563.81 Q1251.34 1557.79 1255.35 1554.74 Q1259.39 1551.68 1267.38 1551.68 L1275.59 1551.68 L1275.59 1551.11 Q1275.59 1547.07 1272.92 1544.87 Q1270.28 1542.64 1265.47 1542.64 Q1262.42 1542.64 1259.52 1543.38 Q1256.62 1544.11 1253.95 1545.57 L1253.95 1540.16 Q1257.16 1538.92 1260.19 1538.31 Q1263.21 1537.68 1266.08 1537.68 Q1273.81 1537.68 1277.63 1541.69 Q1281.45 1545.7 1281.45 1553.85 Z\" fill=\"#000000\" fill-rule=\"evenodd\" fill-opacity=\"1\" /><path clip-path=\"url(#clip640)\" d=\"M1299.3 1528.42 L1299.3 1538.54 L1311.37 1538.54 L1311.37 1543.09 L1299.3 1543.09 L1299.3 1562.44 Q1299.3 1566.8 1300.48 1568.04 Q1301.69 1569.28 1305.35 1569.28 L1311.37 1569.28 L1311.37 1574.19 L1305.35 1574.19 Q1298.57 1574.19 1295.99 1571.67 Q1293.42 1569.12 1293.42 1562.44 L1293.42 1543.09 L1289.12 1543.09 L1289.12 1538.54 L1293.42 1538.54 L1293.42 1528.42 L1299.3 1528.42 Z\" fill=\"#000000\" fill-rule=\"evenodd\" fill-opacity=\"1\" /><path clip-path=\"url(#clip640)\" d=\"M1319.07 1538.54 L1324.93 1538.54 L1324.93 1574.19 L1319.07 1574.19 L1319.07 1538.54 M1319.07 1524.66 L1324.93 1524.66 L1324.93 1532.08 L1319.07 1532.08 L1319.07 1524.66 Z\" fill=\"#000000\" fill-rule=\"evenodd\" fill-opacity=\"1\" /><path clip-path=\"url(#clip640)\" d=\"M1350.99 1542.64 Q1346.28 1542.64 1343.55 1546.34 Q1340.81 1550 1340.81 1556.39 Q1340.81 1562.79 1343.51 1566.48 Q1346.25 1570.14 1350.99 1570.14 Q1355.67 1570.14 1358.41 1566.45 Q1361.15 1562.76 1361.15 1556.39 Q1361.15 1550.06 1358.41 1546.37 Q1355.67 1542.64 1350.99 1542.64 M1350.99 1537.68 Q1358.63 1537.68 1362.99 1542.64 Q1367.35 1547.61 1367.35 1556.39 Q1367.35 1565.15 1362.99 1570.14 Q1358.63 1575.11 1350.99 1575.11 Q1343.32 1575.11 1338.96 1570.14 Q1334.63 1565.15 1334.63 1556.39 Q1334.63 1547.61 1338.96 1542.64 Q1343.32 1537.68 1350.99 1537.68 Z\" fill=\"#000000\" fill-rule=\"evenodd\" fill-opacity=\"1\" /><path clip-path=\"url(#clip640)\" d=\"M1406.69 1552.67 L1406.69 1574.19 L1400.84 1574.19 L1400.84 1552.86 Q1400.84 1547.8 1398.86 1545.29 Q1396.89 1542.77 1392.94 1542.77 Q1388.2 1542.77 1385.46 1545.79 Q1382.73 1548.82 1382.73 1554.04 L1382.73 1574.19 L1376.84 1574.19 L1376.84 1538.54 L1382.73 1538.54 L1382.73 1544.08 Q1384.83 1540.86 1387.66 1539.27 Q1390.52 1537.68 1394.25 1537.68 Q1400.39 1537.68 1403.54 1541.5 Q1406.69 1545.29 1406.69 1552.67 Z\" fill=\"#000000\" fill-rule=\"evenodd\" fill-opacity=\"1\" /><path clip-path=\"url(#clip640)\" d=\"M1441.1 1539.59 L1441.1 1545.13 Q1438.62 1543.85 1435.94 1543.22 Q1433.27 1542.58 1430.41 1542.58 Q1426.05 1542.58 1423.85 1543.92 Q1421.69 1545.25 1421.69 1547.93 Q1421.69 1549.96 1423.24 1551.14 Q1424.8 1552.29 1429.51 1553.34 L1431.52 1553.78 Q1437.76 1555.12 1440.37 1557.57 Q1443.01 1559.99 1443.01 1564.35 Q1443.01 1569.32 1439.06 1572.21 Q1435.15 1575.11 1428.27 1575.11 Q1425.41 1575.11 1422.29 1574.54 Q1419.2 1573.99 1415.76 1572.88 L1415.76 1566.83 Q1419.01 1568.52 1422.16 1569.38 Q1425.31 1570.21 1428.4 1570.21 Q1432.54 1570.21 1434.77 1568.81 Q1436.99 1567.37 1436.99 1564.8 Q1436.99 1562.41 1435.37 1561.14 Q1433.78 1559.86 1428.34 1558.68 L1426.3 1558.21 Q1420.86 1557.06 1418.44 1554.71 Q1416.02 1552.32 1416.02 1548.18 Q1416.02 1543.15 1419.58 1540.42 Q1423.15 1537.68 1429.71 1537.68 Q1432.95 1537.68 1435.82 1538.16 Q1438.68 1538.63 1441.1 1539.59 Z\" fill=\"#000000\" fill-rule=\"evenodd\" fill-opacity=\"1\" /><polyline clip-path=\"url(#clip642)\" style=\"stroke:#000000; stroke-linecap:round; stroke-linejoin:round; stroke-width:2; stroke-opacity:0.1; fill:none\" points=\"\n",
       "  232.389,1384.01 2352.76,1384.01 \n",
       "  \"/>\n",
       "<polyline clip-path=\"url(#clip642)\" style=\"stroke:#000000; stroke-linecap:round; stroke-linejoin:round; stroke-width:2; stroke-opacity:0.1; fill:none\" points=\"\n",
       "  232.389,1158.97 2352.76,1158.97 \n",
       "  \"/>\n",
       "<polyline clip-path=\"url(#clip642)\" style=\"stroke:#000000; stroke-linecap:round; stroke-linejoin:round; stroke-width:2; stroke-opacity:0.1; fill:none\" points=\"\n",
       "  232.389,933.936 2352.76,933.936 \n",
       "  \"/>\n",
       "<polyline clip-path=\"url(#clip642)\" style=\"stroke:#000000; stroke-linecap:round; stroke-linejoin:round; stroke-width:2; stroke-opacity:0.1; fill:none\" points=\"\n",
       "  232.389,708.898 2352.76,708.898 \n",
       "  \"/>\n",
       "<polyline clip-path=\"url(#clip642)\" style=\"stroke:#000000; stroke-linecap:round; stroke-linejoin:round; stroke-width:2; stroke-opacity:0.1; fill:none\" points=\"\n",
       "  232.389,483.859 2352.76,483.859 \n",
       "  \"/>\n",
       "<polyline clip-path=\"url(#clip642)\" style=\"stroke:#000000; stroke-linecap:round; stroke-linejoin:round; stroke-width:2; stroke-opacity:0.1; fill:none\" points=\"\n",
       "  232.389,258.82 2352.76,258.82 \n",
       "  \"/>\n",
       "<polyline clip-path=\"url(#clip640)\" style=\"stroke:#000000; stroke-linecap:round; stroke-linejoin:round; stroke-width:4; stroke-opacity:1; fill:none\" points=\"\n",
       "  232.389,1410.9 232.389,47.2441 \n",
       "  \"/>\n",
       "<polyline clip-path=\"url(#clip640)\" style=\"stroke:#000000; stroke-linecap:round; stroke-linejoin:round; stroke-width:4; stroke-opacity:1; fill:none\" points=\"\n",
       "  232.389,1384.01 251.287,1384.01 \n",
       "  \"/>\n",
       "<polyline clip-path=\"url(#clip640)\" style=\"stroke:#000000; stroke-linecap:round; stroke-linejoin:round; stroke-width:4; stroke-opacity:1; fill:none\" points=\"\n",
       "  232.389,1158.97 251.287,1158.97 \n",
       "  \"/>\n",
       "<polyline clip-path=\"url(#clip640)\" style=\"stroke:#000000; stroke-linecap:round; stroke-linejoin:round; stroke-width:4; stroke-opacity:1; fill:none\" points=\"\n",
       "  232.389,933.936 251.287,933.936 \n",
       "  \"/>\n",
       "<polyline clip-path=\"url(#clip640)\" style=\"stroke:#000000; stroke-linecap:round; stroke-linejoin:round; stroke-width:4; stroke-opacity:1; fill:none\" points=\"\n",
       "  232.389,708.898 251.287,708.898 \n",
       "  \"/>\n",
       "<polyline clip-path=\"url(#clip640)\" style=\"stroke:#000000; stroke-linecap:round; stroke-linejoin:round; stroke-width:4; stroke-opacity:1; fill:none\" points=\"\n",
       "  232.389,483.859 251.287,483.859 \n",
       "  \"/>\n",
       "<polyline clip-path=\"url(#clip640)\" style=\"stroke:#000000; stroke-linecap:round; stroke-linejoin:round; stroke-width:4; stroke-opacity:1; fill:none\" points=\"\n",
       "  232.389,258.82 251.287,258.82 \n",
       "  \"/>\n",
       "<path clip-path=\"url(#clip640)\" d=\"M114.931 1397.36 L122.57 1397.36 L122.57 1370.99 L114.26 1372.66 L114.26 1368.4 L122.524 1366.73 L127.2 1366.73 L127.2 1397.36 L134.839 1397.36 L134.839 1401.29 L114.931 1401.29 L114.931 1397.36 Z\" fill=\"#000000\" fill-rule=\"evenodd\" fill-opacity=\"1\" /><path clip-path=\"url(#clip640)\" d=\"M154.862 1382.15 Q151.714 1382.15 149.862 1384.3 Q148.033 1386.46 148.033 1390.21 Q148.033 1393.93 149.862 1396.11 Q151.714 1398.26 154.862 1398.26 Q158.01 1398.26 159.839 1396.11 Q161.69 1393.93 161.69 1390.21 Q161.69 1386.46 159.839 1384.3 Q158.01 1382.15 154.862 1382.15 M164.144 1367.5 L164.144 1371.76 Q162.385 1370.92 160.579 1370.48 Q158.797 1370.04 157.038 1370.04 Q152.408 1370.04 149.954 1373.17 Q147.524 1376.29 147.177 1382.61 Q148.542 1380.6 150.603 1379.53 Q152.663 1378.45 155.14 1378.45 Q160.348 1378.45 163.357 1381.62 Q166.39 1384.77 166.39 1390.21 Q166.39 1395.53 163.241 1398.75 Q160.093 1401.96 154.862 1401.96 Q148.866 1401.96 145.695 1397.38 Q142.524 1392.78 142.524 1384.05 Q142.524 1375.85 146.413 1370.99 Q150.302 1366.11 156.853 1366.11 Q158.612 1366.11 160.394 1366.46 Q162.2 1366.8 164.144 1367.5 Z\" fill=\"#000000\" fill-rule=\"evenodd\" fill-opacity=\"1\" /><path clip-path=\"url(#clip640)\" d=\"M184.445 1369.81 Q180.834 1369.81 179.005 1373.38 Q177.2 1376.92 177.2 1384.05 Q177.2 1391.15 179.005 1394.72 Q180.834 1398.26 184.445 1398.26 Q188.079 1398.26 189.885 1394.72 Q191.713 1391.15 191.713 1384.05 Q191.713 1376.92 189.885 1373.38 Q188.079 1369.81 184.445 1369.81 M184.445 1366.11 Q190.255 1366.11 193.311 1370.72 Q196.389 1375.3 196.389 1384.05 Q196.389 1392.78 193.311 1397.38 Q190.255 1401.96 184.445 1401.96 Q178.635 1401.96 175.556 1397.38 Q172.501 1392.78 172.501 1384.05 Q172.501 1375.3 175.556 1370.72 Q178.635 1366.11 184.445 1366.11 Z\" fill=\"#000000\" fill-rule=\"evenodd\" fill-opacity=\"1\" /><path clip-path=\"url(#clip640)\" d=\"M115.927 1172.32 L123.566 1172.32 L123.566 1145.95 L115.256 1147.62 L115.256 1143.36 L123.519 1141.69 L128.195 1141.69 L128.195 1172.32 L135.834 1172.32 L135.834 1176.25 L115.927 1176.25 L115.927 1172.32 Z\" fill=\"#000000\" fill-rule=\"evenodd\" fill-opacity=\"1\" /><path clip-path=\"url(#clip640)\" d=\"M155.857 1157.11 Q152.709 1157.11 150.857 1159.26 Q149.028 1161.42 149.028 1165.17 Q149.028 1168.89 150.857 1171.07 Q152.709 1173.22 155.857 1173.22 Q159.005 1173.22 160.834 1171.07 Q162.686 1168.89 162.686 1165.17 Q162.686 1161.42 160.834 1159.26 Q159.005 1157.11 155.857 1157.11 M165.14 1142.46 L165.14 1146.72 Q163.38 1145.88 161.575 1145.44 Q159.792 1145.01 158.033 1145.01 Q153.403 1145.01 150.95 1148.13 Q148.519 1151.26 148.172 1157.57 Q149.538 1155.56 151.598 1154.5 Q153.658 1153.41 156.135 1153.41 Q161.343 1153.41 164.352 1156.58 Q167.385 1159.73 167.385 1165.17 Q167.385 1170.49 164.237 1173.71 Q161.089 1176.93 155.857 1176.93 Q149.862 1176.93 146.691 1172.34 Q143.519 1167.74 143.519 1159.01 Q143.519 1150.82 147.408 1145.95 Q151.297 1141.07 157.848 1141.07 Q159.607 1141.07 161.39 1141.42 Q163.195 1141.76 165.14 1142.46 Z\" fill=\"#000000\" fill-rule=\"evenodd\" fill-opacity=\"1\" /><path clip-path=\"url(#clip640)\" d=\"M175.487 1141.69 L193.843 1141.69 L193.843 1145.63 L179.769 1145.63 L179.769 1154.1 Q180.788 1153.76 181.806 1153.59 Q182.825 1153.41 183.843 1153.41 Q189.63 1153.41 193.01 1156.58 Q196.389 1159.75 196.389 1165.17 Q196.389 1170.75 192.917 1173.85 Q189.445 1176.93 183.126 1176.93 Q180.95 1176.93 178.681 1176.56 Q176.436 1176.19 174.028 1175.44 L174.028 1170.75 Q176.112 1171.88 178.334 1172.44 Q180.556 1172.99 183.033 1172.99 Q187.038 1172.99 189.375 1170.88 Q191.713 1168.78 191.713 1165.17 Q191.713 1161.56 189.375 1159.45 Q187.038 1157.34 183.033 1157.34 Q181.158 1157.34 179.283 1157.76 Q177.431 1158.18 175.487 1159.06 L175.487 1141.69 Z\" fill=\"#000000\" fill-rule=\"evenodd\" fill-opacity=\"1\" /><path clip-path=\"url(#clip640)\" d=\"M114.931 947.281 L122.57 947.281 L122.57 920.915 L114.26 922.582 L114.26 918.323 L122.524 916.656 L127.2 916.656 L127.2 947.281 L134.839 947.281 L134.839 951.216 L114.931 951.216 L114.931 947.281 Z\" fill=\"#000000\" fill-rule=\"evenodd\" fill-opacity=\"1\" /><path clip-path=\"url(#clip640)\" d=\"M143.103 916.656 L165.325 916.656 L165.325 918.647 L152.778 951.216 L147.894 951.216 L159.7 920.591 L143.103 920.591 L143.103 916.656 Z\" fill=\"#000000\" fill-rule=\"evenodd\" fill-opacity=\"1\" /><path clip-path=\"url(#clip640)\" d=\"M184.445 919.735 Q180.834 919.735 179.005 923.3 Q177.2 926.841 177.2 933.971 Q177.2 941.077 179.005 944.642 Q180.834 948.184 184.445 948.184 Q188.079 948.184 189.885 944.642 Q191.713 941.077 191.713 933.971 Q191.713 926.841 189.885 923.3 Q188.079 919.735 184.445 919.735 M184.445 916.031 Q190.255 916.031 193.311 920.638 Q196.389 925.221 196.389 933.971 Q196.389 942.698 193.311 947.304 Q190.255 951.888 184.445 951.888 Q178.635 951.888 175.556 947.304 Q172.501 942.698 172.501 933.971 Q172.501 925.221 175.556 920.638 Q178.635 916.031 184.445 916.031 Z\" fill=\"#000000\" fill-rule=\"evenodd\" fill-opacity=\"1\" /><path clip-path=\"url(#clip640)\" d=\"M115.927 722.242 L123.566 722.242 L123.566 695.877 L115.256 697.543 L115.256 693.284 L123.519 691.618 L128.195 691.618 L128.195 722.242 L135.834 722.242 L135.834 726.178 L115.927 726.178 L115.927 722.242 Z\" fill=\"#000000\" fill-rule=\"evenodd\" fill-opacity=\"1\" /><path clip-path=\"url(#clip640)\" d=\"M144.098 691.618 L166.32 691.618 L166.32 693.608 L153.774 726.178 L148.89 726.178 L160.695 695.553 L144.098 695.553 L144.098 691.618 Z\" fill=\"#000000\" fill-rule=\"evenodd\" fill-opacity=\"1\" /><path clip-path=\"url(#clip640)\" d=\"M175.487 691.618 L193.843 691.618 L193.843 695.553 L179.769 695.553 L179.769 704.025 Q180.788 703.678 181.806 703.516 Q182.825 703.33 183.843 703.33 Q189.63 703.33 193.01 706.502 Q196.389 709.673 196.389 715.09 Q196.389 720.668 192.917 723.77 Q189.445 726.849 183.126 726.849 Q180.95 726.849 178.681 726.479 Q176.436 726.108 174.028 725.367 L174.028 720.668 Q176.112 721.803 178.334 722.358 Q180.556 722.914 183.033 722.914 Q187.038 722.914 189.375 720.807 Q191.713 718.701 191.713 715.09 Q191.713 711.479 189.375 709.372 Q187.038 707.266 183.033 707.266 Q181.158 707.266 179.283 707.682 Q177.431 708.099 175.487 708.979 L175.487 691.618 Z\" fill=\"#000000\" fill-rule=\"evenodd\" fill-opacity=\"1\" /><path clip-path=\"url(#clip640)\" d=\"M114.931 497.204 L122.57 497.204 L122.57 470.838 L114.26 472.505 L114.26 468.246 L122.524 466.579 L127.2 466.579 L127.2 497.204 L134.839 497.204 L134.839 501.139 L114.931 501.139 L114.931 497.204 Z\" fill=\"#000000\" fill-rule=\"evenodd\" fill-opacity=\"1\" /><path clip-path=\"url(#clip640)\" d=\"M154.283 484.727 Q150.95 484.727 149.028 486.509 Q147.13 488.292 147.13 491.417 Q147.13 494.542 149.028 496.324 Q150.95 498.107 154.283 498.107 Q157.616 498.107 159.538 496.324 Q161.459 494.519 161.459 491.417 Q161.459 488.292 159.538 486.509 Q157.64 484.727 154.283 484.727 M149.607 482.736 Q146.598 481.996 144.908 479.935 Q143.241 477.875 143.241 474.912 Q143.241 470.769 146.181 468.361 Q149.144 465.954 154.283 465.954 Q159.445 465.954 162.385 468.361 Q165.325 470.769 165.325 474.912 Q165.325 477.875 163.635 479.935 Q161.968 481.996 158.982 482.736 Q162.362 483.523 164.237 485.815 Q166.135 488.107 166.135 491.417 Q166.135 496.44 163.056 499.125 Q160.001 501.81 154.283 501.81 Q148.566 501.81 145.487 499.125 Q142.431 496.44 142.431 491.417 Q142.431 488.107 144.329 485.815 Q146.228 483.523 149.607 482.736 M147.894 475.352 Q147.894 478.037 149.561 479.542 Q151.251 481.046 154.283 481.046 Q157.292 481.046 158.982 479.542 Q160.695 478.037 160.695 475.352 Q160.695 472.667 158.982 471.162 Q157.292 469.658 154.283 469.658 Q151.251 469.658 149.561 471.162 Q147.894 472.667 147.894 475.352 Z\" fill=\"#000000\" fill-rule=\"evenodd\" fill-opacity=\"1\" /><path clip-path=\"url(#clip640)\" d=\"M184.445 469.658 Q180.834 469.658 179.005 473.222 Q177.2 476.764 177.2 483.894 Q177.2 491 179.005 494.565 Q180.834 498.107 184.445 498.107 Q188.079 498.107 189.885 494.565 Q191.713 491 191.713 483.894 Q191.713 476.764 189.885 473.222 Q188.079 469.658 184.445 469.658 M184.445 465.954 Q190.255 465.954 193.311 470.56 Q196.389 475.144 196.389 483.894 Q196.389 492.62 193.311 497.227 Q190.255 501.81 184.445 501.81 Q178.635 501.81 175.556 497.227 Q172.501 492.62 172.501 483.894 Q172.501 475.144 175.556 470.56 Q178.635 465.954 184.445 465.954 Z\" fill=\"#000000\" fill-rule=\"evenodd\" fill-opacity=\"1\" /><path clip-path=\"url(#clip640)\" d=\"M115.927 272.165 L123.566 272.165 L123.566 245.799 L115.256 247.466 L115.256 243.207 L123.519 241.54 L128.195 241.54 L128.195 272.165 L135.834 272.165 L135.834 276.1 L115.927 276.1 L115.927 272.165 Z\" fill=\"#000000\" fill-rule=\"evenodd\" fill-opacity=\"1\" /><path clip-path=\"url(#clip640)\" d=\"M155.278 259.688 Q151.945 259.688 150.024 261.471 Q148.126 263.253 148.126 266.378 Q148.126 269.503 150.024 271.285 Q151.945 273.068 155.278 273.068 Q158.612 273.068 160.533 271.285 Q162.454 269.48 162.454 266.378 Q162.454 263.253 160.533 261.471 Q158.635 259.688 155.278 259.688 M150.603 257.698 Q147.593 256.957 145.904 254.897 Q144.237 252.836 144.237 249.874 Q144.237 245.73 147.177 243.323 Q150.14 240.915 155.278 240.915 Q160.44 240.915 163.38 243.323 Q166.32 245.73 166.32 249.874 Q166.32 252.836 164.63 254.897 Q162.964 256.957 159.978 257.698 Q163.357 258.485 165.232 260.776 Q167.13 263.068 167.13 266.378 Q167.13 271.401 164.052 274.086 Q160.996 276.772 155.278 276.772 Q149.561 276.772 146.482 274.086 Q143.427 271.401 143.427 266.378 Q143.427 263.068 145.325 260.776 Q147.223 258.485 150.603 257.698 M148.89 250.313 Q148.89 252.999 150.556 254.503 Q152.246 256.008 155.278 256.008 Q158.288 256.008 159.978 254.503 Q161.69 252.999 161.69 250.313 Q161.69 247.628 159.978 246.124 Q158.288 244.619 155.278 244.619 Q152.246 244.619 150.556 246.124 Q148.89 247.628 148.89 250.313 Z\" fill=\"#000000\" fill-rule=\"evenodd\" fill-opacity=\"1\" /><path clip-path=\"url(#clip640)\" d=\"M175.487 241.54 L193.843 241.54 L193.843 245.475 L179.769 245.475 L179.769 253.948 Q180.788 253.6 181.806 253.438 Q182.825 253.253 183.843 253.253 Q189.63 253.253 193.01 256.424 Q196.389 259.596 196.389 265.012 Q196.389 270.591 192.917 273.693 Q189.445 276.772 183.126 276.772 Q180.95 276.772 178.681 276.401 Q176.436 276.031 174.028 275.29 L174.028 270.591 Q176.112 271.725 178.334 272.281 Q180.556 272.836 183.033 272.836 Q187.038 272.836 189.375 270.73 Q191.713 268.623 191.713 265.012 Q191.713 261.401 189.375 259.295 Q187.038 257.188 183.033 257.188 Q181.158 257.188 179.283 257.605 Q177.431 258.022 175.487 258.901 L175.487 241.54 Z\" fill=\"#000000\" fill-rule=\"evenodd\" fill-opacity=\"1\" /><path clip-path=\"url(#clip640)\" d=\"M41.7242 821.755 Q42.4244 819.686 44.7161 817.745 Q47.0077 815.771 51.0181 813.798 L64.0042 807.273 L64.0042 814.18 L51.8138 820.259 Q47.0395 822.614 45.48 824.842 Q43.9204 827.039 43.9204 830.858 L43.9204 837.86 L64.0042 837.86 L64.0042 844.29 L16.4842 844.29 L16.4842 829.776 Q16.4842 821.628 19.8898 817.617 Q23.2955 813.607 30.1704 813.607 Q34.6582 813.607 37.6183 815.708 Q40.5784 817.776 41.7242 821.755 M21.7677 837.86 L38.6368 837.86 L38.6368 829.776 Q38.6368 825.129 36.5043 822.774 Q34.34 820.386 30.1704 820.386 Q26.0009 820.386 23.9002 822.774 Q21.7677 825.129 21.7677 829.776 L21.7677 837.86 Z\" fill=\"#000000\" fill-rule=\"evenodd\" fill-opacity=\"1\" /><path clip-path=\"url(#clip640)\" d=\"M44.7161 771.689 L47.5806 771.689 L47.5806 798.616 Q53.6281 798.234 56.8109 794.987 Q59.9619 791.709 59.9619 785.884 Q59.9619 782.51 59.1344 779.359 Q58.3069 776.177 56.6518 773.057 L62.1899 773.057 Q63.5267 776.208 64.227 779.519 Q64.9272 782.829 64.9272 786.234 Q64.9272 794.764 59.9619 799.762 Q54.9967 804.727 46.5303 804.727 Q37.7774 804.727 32.6531 800.016 Q27.4968 795.274 27.4968 787.253 Q27.4968 780.06 32.1438 775.89 Q36.7589 771.689 44.7161 771.689 M42.9973 777.545 Q38.1912 777.609 35.3266 780.251 Q32.4621 782.861 32.4621 787.189 Q32.4621 792.091 35.2312 795.051 Q38.0002 797.979 43.0292 798.425 L42.9973 777.545 Z\" fill=\"#000000\" fill-rule=\"evenodd\" fill-opacity=\"1\" /><path clip-path=\"url(#clip640)\" d=\"M28.3562 765.482 L28.3562 759.626 L56.1743 752.305 L28.3562 745.016 L28.3562 738.11 L56.1743 730.789 L28.3562 723.5 L28.3562 717.644 L64.0042 726.97 L64.0042 733.876 L34.7856 741.547 L64.0042 749.25 L64.0042 756.156 L28.3562 765.482 Z\" fill=\"#000000\" fill-rule=\"evenodd\" fill-opacity=\"1\" /><path clip-path=\"url(#clip640)\" d=\"M46.0847 692.563 Q46.0847 699.661 47.7079 702.398 Q49.3312 705.135 53.2461 705.135 Q56.3653 705.135 58.2114 703.098 Q60.0256 701.029 60.0256 697.496 Q60.0256 692.627 56.5881 689.698 Q53.1188 686.738 47.3897 686.738 L46.0847 686.738 L46.0847 692.563 M43.6657 680.882 L64.0042 680.882 L64.0042 686.738 L58.5933 686.738 Q61.8398 688.744 63.3994 691.735 Q64.9272 694.727 64.9272 699.056 Q64.9272 704.531 61.8716 707.777 Q58.7843 710.992 53.6281 710.992 Q47.6125 710.992 44.5569 706.981 Q41.5014 702.939 41.5014 694.95 L41.5014 686.738 L40.9285 686.738 Q36.8862 686.738 34.6901 689.412 Q32.4621 692.054 32.4621 696.86 Q32.4621 699.915 33.1941 702.812 Q33.9262 705.708 35.3903 708.382 L29.9795 708.382 Q28.7381 705.167 28.1334 702.143 Q27.4968 699.12 27.4968 696.255 Q27.4968 688.521 31.5072 684.701 Q35.5176 680.882 43.6657 680.882 Z\" fill=\"#000000\" fill-rule=\"evenodd\" fill-opacity=\"1\" /><path clip-path=\"url(#clip640)\" d=\"M33.8307 648.162 Q33.2578 649.149 33.0032 650.327 Q32.7167 651.472 32.7167 652.873 Q32.7167 657.838 35.9632 660.512 Q39.1779 663.153 45.2253 663.153 L64.0042 663.153 L64.0042 669.042 L28.3562 669.042 L28.3562 663.153 L33.8944 663.153 Q30.6479 661.307 29.0883 658.347 Q27.4968 655.387 27.4968 651.154 Q27.4968 650.549 27.5923 649.817 Q27.656 649.085 27.8151 648.194 L33.8307 648.162 Z\" fill=\"#000000\" fill-rule=\"evenodd\" fill-opacity=\"1\" /><path clip-path=\"url(#clip640)\" d=\"M33.7671 619.708 L14.479 619.708 L14.479 613.851 L64.0042 613.851 L64.0042 619.708 L58.657 619.708 Q61.8398 621.554 63.3994 624.386 Q64.9272 627.187 64.9272 631.134 Q64.9272 637.595 59.771 641.669 Q54.6147 645.711 46.212 645.711 Q37.8093 645.711 32.6531 641.669 Q27.4968 637.595 27.4968 631.134 Q27.4968 627.187 29.0564 624.386 Q30.5842 621.554 33.7671 619.708 M46.212 639.664 Q52.6732 639.664 56.3653 637.022 Q60.0256 634.349 60.0256 629.702 Q60.0256 625.055 56.3653 622.381 Q52.6732 619.708 46.212 619.708 Q39.7508 619.708 36.0905 622.381 Q32.3984 625.055 32.3984 629.702 Q32.3984 634.349 36.0905 637.022 Q39.7508 639.664 46.212 639.664 Z\" fill=\"#000000\" fill-rule=\"evenodd\" fill-opacity=\"1\" /><polyline clip-path=\"url(#clip642)\" style=\"stroke:#009af9; stroke-linecap:round; stroke-linejoin:round; stroke-width:4; stroke-opacity:1; fill:none\" points=\"\n",
       "  292.4,1372.3 343.691,1165.15 394.982,981.837 446.272,1036.39 497.563,860.956 548.854,745.922 600.145,700.754 651.436,730.736 702.727,747.8 754.018,583.466 \n",
       "  805.309,590.927 856.6,587.159 907.891,518.3 959.182,554.817 1010.47,758.465 1061.76,433.963 1113.05,620.673 1164.35,537.91 1215.64,408.008 1266.93,465.848 \n",
       "  1318.22,441.942 1369.51,403.119 1420.8,388.658 1472.09,397.24 1523.38,450.07 1574.67,484.295 1625.96,380.597 1677.25,189.347 1728.55,306.268 1779.84,214.431 \n",
       "  1831.13,220.574 1882.42,187.971 1933.71,359.486 1985,287.031 2036.29,300.329 2087.58,172.018 2138.87,232.459 2190.16,186.602 2241.45,213.199 2292.75,85.838 \n",
       "  \n",
       "  \"/>\n",
       "</svg>\n"
      ]
     },
     "execution_count": 43,
     "metadata": {},
     "output_type": "execute_result"
    }
   ],
   "source": [
    "plot(iterations, rewards, xlabel=\"Iterations\", ylabel=\"Reward\", legend = false, xformatter = :scientific)"
   ]
  },
  {
   "cell_type": "code",
   "execution_count": 44,
   "id": "405bd6ad",
   "metadata": {},
   "outputs": [
    {
     "data": {
      "text/plain": [
       "\"/home/larissa/Documents/Projects/ADLR/ADLR_project/src/RL_PPO_quadcopter_3D/office_test/plots/fast/reward.svg\""
      ]
     },
     "execution_count": 44,
     "metadata": {},
     "output_type": "execute_result"
    }
   ],
   "source": [
    "savefig(fig_path * \"reward.svg\")"
   ]
  },
  {
   "cell_type": "code",
   "execution_count": 45,
   "id": "9535a7a5",
   "metadata": {},
   "outputs": [
    {
     "data": {
      "image/svg+xml": [
       "<?xml version=\"1.0\" encoding=\"utf-8\"?>\n",
       "<svg xmlns=\"http://www.w3.org/2000/svg\" xmlns:xlink=\"http://www.w3.org/1999/xlink\" width=\"600\" height=\"400\" viewBox=\"0 0 2400 1600\">\n",
       "<defs>\n",
       "  <clipPath id=\"clip720\">\n",
       "    <rect x=\"0\" y=\"0\" width=\"2400\" height=\"1600\"/>\n",
       "  </clipPath>\n",
       "</defs>\n",
       "<path clip-path=\"url(#clip720)\" d=\"\n",
       "M0 1600 L2400 1600 L2400 0 L0 0  Z\n",
       "  \" fill=\"#ffffff\" fill-rule=\"evenodd\" fill-opacity=\"1\"/>\n",
       "<defs>\n",
       "  <clipPath id=\"clip721\">\n",
       "    <rect x=\"480\" y=\"0\" width=\"1681\" height=\"1600\"/>\n",
       "  </clipPath>\n",
       "</defs>\n",
       "<path clip-path=\"url(#clip720)\" d=\"\n",
       "M249.542 1410.9 L2352.76 1410.9 L2352.76 47.2441 L249.542 47.2441  Z\n",
       "  \" fill=\"#ffffff\" fill-rule=\"evenodd\" fill-opacity=\"1\"/>\n",
       "<defs>\n",
       "  <clipPath id=\"clip722\">\n",
       "    <rect x=\"249\" y=\"47\" width=\"2104\" height=\"1365\"/>\n",
       "  </clipPath>\n",
       "</defs>\n",
       "<polyline clip-path=\"url(#clip722)\" style=\"stroke:#000000; stroke-linecap:round; stroke-linejoin:round; stroke-width:2; stroke-opacity:0.1; fill:none\" points=\"\n",
       "  258.191,1410.9 258.191,47.2441 \n",
       "  \"/>\n",
       "<polyline clip-path=\"url(#clip722)\" style=\"stroke:#000000; stroke-linecap:round; stroke-linejoin:round; stroke-width:2; stroke-opacity:0.1; fill:none\" points=\"\n",
       "  766.951,1410.9 766.951,47.2441 \n",
       "  \"/>\n",
       "<polyline clip-path=\"url(#clip722)\" style=\"stroke:#000000; stroke-linecap:round; stroke-linejoin:round; stroke-width:2; stroke-opacity:0.1; fill:none\" points=\"\n",
       "  1275.71,1410.9 1275.71,47.2441 \n",
       "  \"/>\n",
       "<polyline clip-path=\"url(#clip722)\" style=\"stroke:#000000; stroke-linecap:round; stroke-linejoin:round; stroke-width:2; stroke-opacity:0.1; fill:none\" points=\"\n",
       "  1784.47,1410.9 1784.47,47.2441 \n",
       "  \"/>\n",
       "<polyline clip-path=\"url(#clip722)\" style=\"stroke:#000000; stroke-linecap:round; stroke-linejoin:round; stroke-width:2; stroke-opacity:0.1; fill:none\" points=\"\n",
       "  2293.23,1410.9 2293.23,47.2441 \n",
       "  \"/>\n",
       "<polyline clip-path=\"url(#clip720)\" style=\"stroke:#000000; stroke-linecap:round; stroke-linejoin:round; stroke-width:4; stroke-opacity:1; fill:none\" points=\"\n",
       "  249.542,1410.9 2352.76,1410.9 \n",
       "  \"/>\n",
       "<polyline clip-path=\"url(#clip720)\" style=\"stroke:#000000; stroke-linecap:round; stroke-linejoin:round; stroke-width:4; stroke-opacity:1; fill:none\" points=\"\n",
       "  258.191,1410.9 258.191,1392 \n",
       "  \"/>\n",
       "<polyline clip-path=\"url(#clip720)\" style=\"stroke:#000000; stroke-linecap:round; stroke-linejoin:round; stroke-width:4; stroke-opacity:1; fill:none\" points=\"\n",
       "  766.951,1410.9 766.951,1392 \n",
       "  \"/>\n",
       "<polyline clip-path=\"url(#clip720)\" style=\"stroke:#000000; stroke-linecap:round; stroke-linejoin:round; stroke-width:4; stroke-opacity:1; fill:none\" points=\"\n",
       "  1275.71,1410.9 1275.71,1392 \n",
       "  \"/>\n",
       "<polyline clip-path=\"url(#clip720)\" style=\"stroke:#000000; stroke-linecap:round; stroke-linejoin:round; stroke-width:4; stroke-opacity:1; fill:none\" points=\"\n",
       "  1784.47,1410.9 1784.47,1392 \n",
       "  \"/>\n",
       "<polyline clip-path=\"url(#clip720)\" style=\"stroke:#000000; stroke-linecap:round; stroke-linejoin:round; stroke-width:4; stroke-opacity:1; fill:none\" points=\"\n",
       "  2293.23,1410.9 2293.23,1392 \n",
       "  \"/>\n",
       "<path clip-path=\"url(#clip720)\" d=\"M258.191 1441.82 Q254.58 1441.82 252.751 1445.38 Q250.946 1448.92 250.946 1456.05 Q250.946 1463.16 252.751 1466.72 Q254.58 1470.26 258.191 1470.26 Q261.825 1470.26 263.631 1466.72 Q265.459 1463.16 265.459 1456.05 Q265.459 1448.92 263.631 1445.38 Q261.825 1441.82 258.191 1441.82 M258.191 1438.11 Q264.001 1438.11 267.057 1442.72 Q270.135 1447.3 270.135 1456.05 Q270.135 1464.78 267.057 1469.38 Q264.001 1473.97 258.191 1473.97 Q252.381 1473.97 249.302 1469.38 Q246.247 1464.78 246.247 1456.05 Q246.247 1447.3 249.302 1442.72 Q252.381 1438.11 258.191 1438.11 Z\" fill=\"#000000\" fill-rule=\"evenodd\" fill-opacity=\"1\" /><path clip-path=\"url(#clip720)\" d=\"M674.386 1485.02 L682.024 1485.02 L682.024 1458.66 L673.714 1460.32 L673.714 1456.06 L681.978 1454.4 L686.654 1454.4 L686.654 1485.02 L694.293 1485.02 L694.293 1488.96 L674.386 1488.96 L674.386 1485.02 Z\" fill=\"#000000\" fill-rule=\"evenodd\" fill-opacity=\"1\" /><path clip-path=\"url(#clip720)\" d=\"M703.737 1483.08 L708.622 1483.08 L708.622 1488.96 L703.737 1488.96 L703.737 1483.08 Z\" fill=\"#000000\" fill-rule=\"evenodd\" fill-opacity=\"1\" /><path clip-path=\"url(#clip720)\" d=\"M728.807 1457.48 Q725.196 1457.48 723.367 1461.04 Q721.561 1464.58 721.561 1471.71 Q721.561 1478.82 723.367 1482.38 Q725.196 1485.92 728.807 1485.92 Q732.441 1485.92 734.246 1482.38 Q736.075 1478.82 736.075 1471.71 Q736.075 1464.58 734.246 1461.04 Q732.441 1457.48 728.807 1457.48 M728.807 1453.77 Q734.617 1453.77 737.672 1458.38 Q740.751 1462.96 740.751 1471.71 Q740.751 1480.44 737.672 1485.04 Q734.617 1489.63 728.807 1489.63 Q722.996 1489.63 719.918 1485.04 Q716.862 1480.44 716.862 1471.71 Q716.862 1462.96 719.918 1458.38 Q722.996 1453.77 728.807 1453.77 Z\" fill=\"#000000\" fill-rule=\"evenodd\" fill-opacity=\"1\" /><path clip-path=\"url(#clip720)\" d=\"M777.14 1463.49 L766.561 1474.12 L777.14 1484.7 L774.385 1487.5 L763.76 1476.87 L753.135 1487.5 L750.404 1484.7 L760.959 1474.12 L750.404 1463.49 L753.135 1460.69 L763.76 1471.32 L774.385 1460.69 L777.14 1463.49 Z\" fill=\"#000000\" fill-rule=\"evenodd\" fill-opacity=\"1\" /><path clip-path=\"url(#clip720)\" d=\"M789.501 1485.02 L797.14 1485.02 L797.14 1458.66 L788.829 1460.32 L788.829 1456.06 L797.093 1454.4 L801.769 1454.4 L801.769 1485.02 L809.408 1485.02 L809.408 1488.96 L789.501 1488.96 L789.501 1485.02 Z\" fill=\"#000000\" fill-rule=\"evenodd\" fill-opacity=\"1\" /><path clip-path=\"url(#clip720)\" d=\"M828.852 1457.48 Q825.241 1457.48 823.413 1461.04 Q821.607 1464.58 821.607 1471.71 Q821.607 1478.82 823.413 1482.38 Q825.241 1485.92 828.852 1485.92 Q832.487 1485.92 834.292 1482.38 Q836.121 1478.82 836.121 1471.71 Q836.121 1464.58 834.292 1461.04 Q832.487 1457.48 828.852 1457.48 M828.852 1453.77 Q834.663 1453.77 837.718 1458.38 Q840.797 1462.96 840.797 1471.71 Q840.797 1480.44 837.718 1485.04 Q834.663 1489.63 828.852 1489.63 Q823.042 1489.63 819.964 1485.04 Q816.908 1480.44 816.908 1471.71 Q816.908 1462.96 819.964 1458.38 Q823.042 1453.77 828.852 1453.77 Z\" fill=\"#000000\" fill-rule=\"evenodd\" fill-opacity=\"1\" /><path clip-path=\"url(#clip720)\" d=\"M850.821 1445.99 Q848.263 1445.99 846.759 1447.74 Q845.273 1449.49 845.273 1452.54 Q845.273 1455.57 846.759 1457.33 Q848.263 1459.08 850.821 1459.08 Q853.379 1459.08 854.865 1457.33 Q856.37 1455.57 856.37 1452.54 Q856.37 1449.49 854.865 1447.74 Q853.379 1445.99 850.821 1445.99 M858.363 1434.09 L858.363 1437.55 Q856.934 1436.87 855.467 1436.51 Q854.019 1436.16 852.589 1436.16 Q848.828 1436.16 846.834 1438.69 Q844.859 1441.23 844.577 1446.37 Q845.687 1444.73 847.361 1443.87 Q849.035 1442.98 851.047 1442.98 Q855.279 1442.98 857.724 1445.56 Q860.188 1448.12 860.188 1452.54 Q860.188 1456.86 857.63 1459.48 Q855.072 1462.09 850.821 1462.09 Q845.95 1462.09 843.373 1458.37 Q840.797 1454.62 840.797 1447.53 Q840.797 1440.88 843.956 1436.93 Q847.116 1432.96 852.439 1432.96 Q853.868 1432.96 855.316 1433.24 Q856.783 1433.52 858.363 1434.09 Z\" fill=\"#000000\" fill-rule=\"evenodd\" fill-opacity=\"1\" /><path clip-path=\"url(#clip720)\" d=\"M1187.23 1485.02 L1203.55 1485.02 L1203.55 1488.96 L1181.61 1488.96 L1181.61 1485.02 Q1184.27 1482.27 1188.85 1477.64 Q1193.46 1472.98 1194.64 1471.64 Q1196.88 1469.12 1197.76 1467.38 Q1198.67 1465.62 1198.67 1463.93 Q1198.67 1461.18 1196.72 1459.44 Q1194.8 1457.71 1191.7 1457.71 Q1189.5 1457.71 1187.05 1458.47 Q1184.62 1459.23 1181.84 1460.79 L1181.84 1456.06 Q1184.66 1454.93 1187.12 1454.35 Q1189.57 1453.77 1191.61 1453.77 Q1196.98 1453.77 1200.17 1456.46 Q1203.37 1459.14 1203.37 1463.63 Q1203.37 1465.76 1202.56 1467.68 Q1201.77 1469.58 1199.66 1472.17 Q1199.08 1472.85 1195.98 1476.06 Q1192.88 1479.26 1187.23 1485.02 Z\" fill=\"#000000\" fill-rule=\"evenodd\" fill-opacity=\"1\" /><path clip-path=\"url(#clip720)\" d=\"M1213.37 1483.08 L1218.25 1483.08 L1218.25 1488.96 L1213.37 1488.96 L1213.37 1483.08 Z\" fill=\"#000000\" fill-rule=\"evenodd\" fill-opacity=\"1\" /><path clip-path=\"url(#clip720)\" d=\"M1238.43 1457.48 Q1234.82 1457.48 1232.99 1461.04 Q1231.19 1464.58 1231.19 1471.71 Q1231.19 1478.82 1232.99 1482.38 Q1234.82 1485.92 1238.43 1485.92 Q1242.07 1485.92 1243.87 1482.38 Q1245.7 1478.82 1245.7 1471.71 Q1245.7 1464.58 1243.87 1461.04 Q1242.07 1457.48 1238.43 1457.48 M1238.43 1453.77 Q1244.24 1453.77 1247.3 1458.38 Q1250.38 1462.96 1250.38 1471.71 Q1250.38 1480.44 1247.3 1485.04 Q1244.24 1489.63 1238.43 1489.63 Q1232.62 1489.63 1229.55 1485.04 Q1226.49 1480.44 1226.49 1471.71 Q1226.49 1462.96 1229.55 1458.38 Q1232.62 1453.77 1238.43 1453.77 Z\" fill=\"#000000\" fill-rule=\"evenodd\" fill-opacity=\"1\" /><path clip-path=\"url(#clip720)\" d=\"M1286.77 1463.49 L1276.19 1474.12 L1286.77 1484.7 L1284.01 1487.5 L1273.39 1476.87 L1262.76 1487.5 L1260.03 1484.7 L1270.59 1474.12 L1260.03 1463.49 L1262.76 1460.69 L1273.39 1471.32 L1284.01 1460.69 L1286.77 1463.49 Z\" fill=\"#000000\" fill-rule=\"evenodd\" fill-opacity=\"1\" /><path clip-path=\"url(#clip720)\" d=\"M1299.13 1485.02 L1306.77 1485.02 L1306.77 1458.66 L1298.46 1460.32 L1298.46 1456.06 L1306.72 1454.4 L1311.4 1454.4 L1311.4 1485.02 L1319.04 1485.02 L1319.04 1488.96 L1299.13 1488.96 L1299.13 1485.02 Z\" fill=\"#000000\" fill-rule=\"evenodd\" fill-opacity=\"1\" /><path clip-path=\"url(#clip720)\" d=\"M1338.48 1457.48 Q1334.87 1457.48 1333.04 1461.04 Q1331.24 1464.58 1331.24 1471.71 Q1331.24 1478.82 1333.04 1482.38 Q1334.87 1485.92 1338.48 1485.92 Q1342.11 1485.92 1343.92 1482.38 Q1345.75 1478.82 1345.75 1471.71 Q1345.75 1464.58 1343.92 1461.04 Q1342.11 1457.48 1338.48 1457.48 M1338.48 1453.77 Q1344.29 1453.77 1347.35 1458.38 Q1350.42 1462.96 1350.42 1471.71 Q1350.42 1480.44 1347.35 1485.04 Q1344.29 1489.63 1338.48 1489.63 Q1332.67 1489.63 1329.59 1485.04 Q1326.54 1480.44 1326.54 1471.71 Q1326.54 1462.96 1329.59 1458.38 Q1332.67 1453.77 1338.48 1453.77 Z\" fill=\"#000000\" fill-rule=\"evenodd\" fill-opacity=\"1\" /><path clip-path=\"url(#clip720)\" d=\"M1360.45 1445.99 Q1357.89 1445.99 1356.39 1447.74 Q1354.9 1449.49 1354.9 1452.54 Q1354.9 1455.57 1356.39 1457.33 Q1357.89 1459.08 1360.45 1459.08 Q1363.01 1459.08 1364.49 1457.33 Q1366 1455.57 1366 1452.54 Q1366 1449.49 1364.49 1447.74 Q1363.01 1445.99 1360.45 1445.99 M1367.99 1434.09 L1367.99 1437.55 Q1366.56 1436.87 1365.09 1436.51 Q1363.65 1436.16 1362.22 1436.16 Q1358.46 1436.16 1356.46 1438.69 Q1354.49 1441.23 1354.21 1446.37 Q1355.31 1444.73 1356.99 1443.87 Q1358.66 1442.98 1360.68 1442.98 Q1364.91 1442.98 1367.35 1445.56 Q1369.82 1448.12 1369.82 1452.54 Q1369.82 1456.86 1367.26 1459.48 Q1364.7 1462.09 1360.45 1462.09 Q1355.58 1462.09 1353 1458.37 Q1350.42 1454.62 1350.42 1447.53 Q1350.42 1440.88 1353.58 1436.93 Q1356.74 1432.96 1362.07 1432.96 Q1363.5 1432.96 1364.94 1433.24 Q1366.41 1433.52 1367.99 1434.09 Z\" fill=\"#000000\" fill-rule=\"evenodd\" fill-opacity=\"1\" /><path clip-path=\"url(#clip720)\" d=\"M1706.06 1470.32 Q1709.42 1471.04 1711.29 1473.31 Q1713.19 1475.58 1713.19 1478.91 Q1713.19 1484.03 1709.67 1486.83 Q1706.15 1489.63 1699.67 1489.63 Q1697.5 1489.63 1695.18 1489.19 Q1692.89 1488.77 1690.44 1487.91 L1690.44 1483.4 Q1692.38 1484.54 1694.69 1485.11 Q1697.01 1485.69 1699.53 1485.69 Q1703.93 1485.69 1706.22 1483.96 Q1708.54 1482.22 1708.54 1478.91 Q1708.54 1475.85 1706.38 1474.14 Q1704.26 1472.41 1700.44 1472.41 L1696.41 1472.41 L1696.41 1468.56 L1700.62 1468.56 Q1704.07 1468.56 1705.9 1467.2 Q1707.73 1465.81 1707.73 1463.22 Q1707.73 1460.55 1705.83 1459.14 Q1703.95 1457.71 1700.44 1457.71 Q1698.51 1457.71 1696.32 1458.12 Q1694.12 1458.54 1691.48 1459.42 L1691.48 1455.25 Q1694.14 1454.51 1696.45 1454.14 Q1698.79 1453.77 1700.85 1453.77 Q1706.18 1453.77 1709.28 1456.2 Q1712.38 1458.61 1712.38 1462.73 Q1712.38 1465.6 1710.74 1467.59 Q1709.09 1469.56 1706.06 1470.32 Z\" fill=\"#000000\" fill-rule=\"evenodd\" fill-opacity=\"1\" /><path clip-path=\"url(#clip720)\" d=\"M1722.06 1483.08 L1726.94 1483.08 L1726.94 1488.96 L1722.06 1488.96 L1722.06 1483.08 Z\" fill=\"#000000\" fill-rule=\"evenodd\" fill-opacity=\"1\" /><path clip-path=\"url(#clip720)\" d=\"M1747.13 1457.48 Q1743.51 1457.48 1741.69 1461.04 Q1739.88 1464.58 1739.88 1471.71 Q1739.88 1478.82 1741.69 1482.38 Q1743.51 1485.92 1747.13 1485.92 Q1750.76 1485.92 1752.57 1482.38 Q1754.39 1478.82 1754.39 1471.71 Q1754.39 1464.58 1752.57 1461.04 Q1750.76 1457.48 1747.13 1457.48 M1747.13 1453.77 Q1752.94 1453.77 1755.99 1458.38 Q1759.07 1462.96 1759.07 1471.71 Q1759.07 1480.44 1755.99 1485.04 Q1752.94 1489.63 1747.13 1489.63 Q1741.32 1489.63 1738.24 1485.04 Q1735.18 1480.44 1735.18 1471.71 Q1735.18 1462.96 1738.24 1458.38 Q1741.32 1453.77 1747.13 1453.77 Z\" fill=\"#000000\" fill-rule=\"evenodd\" fill-opacity=\"1\" /><path clip-path=\"url(#clip720)\" d=\"M1795.46 1463.49 L1784.88 1474.12 L1795.46 1484.7 L1792.7 1487.5 L1782.08 1476.87 L1771.45 1487.5 L1768.72 1484.7 L1779.28 1474.12 L1768.72 1463.49 L1771.45 1460.69 L1782.08 1471.32 L1792.7 1460.69 L1795.46 1463.49 Z\" fill=\"#000000\" fill-rule=\"evenodd\" fill-opacity=\"1\" /><path clip-path=\"url(#clip720)\" d=\"M1807.82 1485.02 L1815.46 1485.02 L1815.46 1458.66 L1807.15 1460.32 L1807.15 1456.06 L1815.41 1454.4 L1820.09 1454.4 L1820.09 1485.02 L1827.73 1485.02 L1827.73 1488.96 L1807.82 1488.96 L1807.82 1485.02 Z\" fill=\"#000000\" fill-rule=\"evenodd\" fill-opacity=\"1\" /><path clip-path=\"url(#clip720)\" d=\"M1847.17 1457.48 Q1843.56 1457.48 1841.73 1461.04 Q1839.93 1464.58 1839.93 1471.71 Q1839.93 1478.82 1841.73 1482.38 Q1843.56 1485.92 1847.17 1485.92 Q1850.81 1485.92 1852.61 1482.38 Q1854.44 1478.82 1854.44 1471.71 Q1854.44 1464.58 1852.61 1461.04 Q1850.81 1457.48 1847.17 1457.48 M1847.17 1453.77 Q1852.98 1453.77 1856.04 1458.38 Q1859.12 1462.96 1859.12 1471.71 Q1859.12 1480.44 1856.04 1485.04 Q1852.98 1489.63 1847.17 1489.63 Q1841.36 1489.63 1838.28 1485.04 Q1835.23 1480.44 1835.23 1471.71 Q1835.23 1462.96 1838.28 1458.38 Q1841.36 1453.77 1847.17 1453.77 Z\" fill=\"#000000\" fill-rule=\"evenodd\" fill-opacity=\"1\" /><path clip-path=\"url(#clip720)\" d=\"M1869.14 1445.99 Q1866.58 1445.99 1865.08 1447.74 Q1863.59 1449.49 1863.59 1452.54 Q1863.59 1455.57 1865.08 1457.33 Q1866.58 1459.08 1869.14 1459.08 Q1871.7 1459.08 1873.18 1457.33 Q1874.69 1455.57 1874.69 1452.54 Q1874.69 1449.49 1873.18 1447.74 Q1871.7 1445.99 1869.14 1445.99 M1876.68 1434.09 L1876.68 1437.55 Q1875.25 1436.87 1873.79 1436.51 Q1872.34 1436.16 1870.91 1436.16 Q1867.15 1436.16 1865.15 1438.69 Q1863.18 1441.23 1862.9 1446.37 Q1864.01 1444.73 1865.68 1443.87 Q1867.35 1442.98 1869.37 1442.98 Q1873.6 1442.98 1876.04 1445.56 Q1878.51 1448.12 1878.51 1452.54 Q1878.51 1456.86 1875.95 1459.48 Q1873.39 1462.09 1869.14 1462.09 Q1864.27 1462.09 1861.69 1458.37 Q1859.12 1454.62 1859.12 1447.53 Q1859.12 1440.88 1862.28 1436.93 Q1865.43 1432.96 1870.76 1432.96 Q1872.19 1432.96 1873.63 1433.24 Q1875.1 1433.52 1876.68 1434.09 Z\" fill=\"#000000\" fill-rule=\"evenodd\" fill-opacity=\"1\" /><path clip-path=\"url(#clip720)\" d=\"M2214.15 1458.47 L2202.34 1476.92 L2214.15 1476.92 L2214.15 1458.47 M2212.92 1454.4 L2218.8 1454.4 L2218.8 1476.92 L2223.73 1476.92 L2223.73 1480.81 L2218.8 1480.81 L2218.8 1488.96 L2214.15 1488.96 L2214.15 1480.81 L2198.55 1480.81 L2198.55 1476.29 L2212.92 1454.4 Z\" fill=\"#000000\" fill-rule=\"evenodd\" fill-opacity=\"1\" /><path clip-path=\"url(#clip720)\" d=\"M2231.46 1483.08 L2236.35 1483.08 L2236.35 1488.96 L2231.46 1488.96 L2231.46 1483.08 Z\" fill=\"#000000\" fill-rule=\"evenodd\" fill-opacity=\"1\" /><path clip-path=\"url(#clip720)\" d=\"M2256.53 1457.48 Q2252.92 1457.48 2251.09 1461.04 Q2249.29 1464.58 2249.29 1471.71 Q2249.29 1478.82 2251.09 1482.38 Q2252.92 1485.92 2256.53 1485.92 Q2260.17 1485.92 2261.97 1482.38 Q2263.8 1478.82 2263.8 1471.71 Q2263.8 1464.58 2261.97 1461.04 Q2260.17 1457.48 2256.53 1457.48 M2256.53 1453.77 Q2262.34 1453.77 2265.4 1458.38 Q2268.48 1462.96 2268.48 1471.71 Q2268.48 1480.44 2265.4 1485.04 Q2262.34 1489.63 2256.53 1489.63 Q2250.72 1489.63 2247.64 1485.04 Q2244.59 1480.44 2244.59 1471.71 Q2244.59 1462.96 2247.64 1458.38 Q2250.72 1453.77 2256.53 1453.77 Z\" fill=\"#000000\" fill-rule=\"evenodd\" fill-opacity=\"1\" /><path clip-path=\"url(#clip720)\" d=\"M2304.87 1463.49 L2294.29 1474.12 L2304.87 1484.7 L2302.11 1487.5 L2291.49 1476.87 L2280.86 1487.5 L2278.13 1484.7 L2288.69 1474.12 L2278.13 1463.49 L2280.86 1460.69 L2291.49 1471.32 L2302.11 1460.69 L2304.87 1463.49 Z\" fill=\"#000000\" fill-rule=\"evenodd\" fill-opacity=\"1\" /><path clip-path=\"url(#clip720)\" d=\"M2317.23 1485.02 L2324.87 1485.02 L2324.87 1458.66 L2316.56 1460.32 L2316.56 1456.06 L2324.82 1454.4 L2329.5 1454.4 L2329.5 1485.02 L2337.13 1485.02 L2337.13 1488.96 L2317.23 1488.96 L2317.23 1485.02 Z\" fill=\"#000000\" fill-rule=\"evenodd\" fill-opacity=\"1\" /><path clip-path=\"url(#clip720)\" d=\"M2356.58 1457.48 Q2352.97 1457.48 2351.14 1461.04 Q2349.33 1464.58 2349.33 1471.71 Q2349.33 1478.82 2351.14 1482.38 Q2352.97 1485.92 2356.58 1485.92 Q2360.21 1485.92 2362.02 1482.38 Q2363.85 1478.82 2363.85 1471.71 Q2363.85 1464.58 2362.02 1461.04 Q2360.21 1457.48 2356.58 1457.48 M2356.58 1453.77 Q2362.39 1453.77 2365.44 1458.38 Q2368.52 1462.96 2368.52 1471.71 Q2368.52 1480.44 2365.44 1485.04 Q2362.39 1489.63 2356.58 1489.63 Q2350.77 1489.63 2347.69 1485.04 Q2344.63 1480.44 2344.63 1471.71 Q2344.63 1462.96 2347.69 1458.38 Q2350.77 1453.77 2356.58 1453.77 Z\" fill=\"#000000\" fill-rule=\"evenodd\" fill-opacity=\"1\" /><path clip-path=\"url(#clip720)\" d=\"M2378.55 1445.99 Q2375.99 1445.99 2374.49 1447.74 Q2373 1449.49 2373 1452.54 Q2373 1455.57 2374.49 1457.33 Q2375.99 1459.08 2378.55 1459.08 Q2381.11 1459.08 2382.59 1457.33 Q2384.1 1455.57 2384.1 1452.54 Q2384.1 1449.49 2382.59 1447.74 Q2381.11 1445.99 2378.55 1445.99 M2386.09 1434.09 L2386.09 1437.55 Q2384.66 1436.87 2383.19 1436.51 Q2381.75 1436.16 2380.32 1436.16 Q2376.55 1436.16 2374.56 1438.69 Q2372.59 1441.23 2372.3 1446.37 Q2373.41 1444.73 2375.09 1443.87 Q2376.76 1442.98 2378.77 1442.98 Q2383.01 1442.98 2385.45 1445.56 Q2387.91 1448.12 2387.91 1452.54 Q2387.91 1456.86 2385.36 1459.48 Q2382.8 1462.09 2378.55 1462.09 Q2373.68 1462.09 2371.1 1458.37 Q2368.52 1454.62 2368.52 1447.53 Q2368.52 1440.88 2371.68 1436.93 Q2374.84 1432.96 2380.17 1432.96 Q2381.59 1432.96 2383.04 1433.24 Q2384.51 1433.52 2386.09 1434.09 Z\" fill=\"#000000\" fill-rule=\"evenodd\" fill-opacity=\"1\" /><path clip-path=\"url(#clip720)\" d=\"M1150.71 1526.67 L1157.14 1526.67 L1157.14 1574.19 L1150.71 1574.19 L1150.71 1526.67 Z\" fill=\"#000000\" fill-rule=\"evenodd\" fill-opacity=\"1\" /><path clip-path=\"url(#clip720)\" d=\"M1175.47 1528.42 L1175.47 1538.54 L1187.54 1538.54 L1187.54 1543.09 L1175.47 1543.09 L1175.47 1562.44 Q1175.47 1566.8 1176.65 1568.04 Q1177.86 1569.28 1181.52 1569.28 L1187.54 1569.28 L1187.54 1574.19 L1181.52 1574.19 Q1174.74 1574.19 1172.16 1571.67 Q1169.59 1569.12 1169.59 1562.44 L1169.59 1543.09 L1165.29 1543.09 L1165.29 1538.54 L1169.59 1538.54 L1169.59 1528.42 L1175.47 1528.42 Z\" fill=\"#000000\" fill-rule=\"evenodd\" fill-opacity=\"1\" /><path clip-path=\"url(#clip720)\" d=\"M1225.73 1554.9 L1225.73 1557.76 L1198.8 1557.76 Q1199.19 1563.81 1202.43 1566.99 Q1205.71 1570.14 1211.54 1570.14 Q1214.91 1570.14 1218.06 1569.32 Q1221.24 1568.49 1224.36 1566.83 L1224.36 1572.37 Q1221.21 1573.71 1217.9 1574.41 Q1214.59 1575.11 1211.19 1575.11 Q1202.66 1575.11 1197.66 1570.14 Q1192.69 1565.18 1192.69 1556.71 Q1192.69 1547.96 1197.4 1542.83 Q1202.15 1537.68 1210.17 1537.68 Q1217.36 1537.68 1221.53 1542.33 Q1225.73 1546.94 1225.73 1554.9 M1219.87 1553.18 Q1219.81 1548.37 1217.17 1545.51 Q1214.56 1542.64 1210.23 1542.64 Q1205.33 1542.64 1202.37 1545.41 Q1199.44 1548.18 1199 1553.21 L1219.87 1553.18 Z\" fill=\"#000000\" fill-rule=\"evenodd\" fill-opacity=\"1\" /><path clip-path=\"url(#clip720)\" d=\"M1256 1544.01 Q1255.01 1543.44 1253.84 1543.18 Q1252.69 1542.9 1251.29 1542.9 Q1246.32 1542.9 1243.65 1546.14 Q1241.01 1549.36 1241.01 1555.41 L1241.01 1574.19 L1235.12 1574.19 L1235.12 1538.54 L1241.01 1538.54 L1241.01 1544.08 Q1242.86 1540.83 1245.82 1539.27 Q1248.78 1537.68 1253.01 1537.68 Q1253.61 1537.68 1254.35 1537.77 Q1255.08 1537.84 1255.97 1538 L1256 1544.01 Z\" fill=\"#000000\" fill-rule=\"evenodd\" fill-opacity=\"1\" /><path clip-path=\"url(#clip720)\" d=\"M1278.34 1556.27 Q1271.25 1556.27 1268.51 1557.89 Q1265.77 1559.51 1265.77 1563.43 Q1265.77 1566.55 1267.81 1568.39 Q1269.88 1570.21 1273.41 1570.21 Q1278.28 1570.21 1281.21 1566.77 Q1284.17 1563.3 1284.17 1557.57 L1284.17 1556.27 L1278.34 1556.27 M1290.02 1553.85 L1290.02 1574.19 L1284.17 1574.19 L1284.17 1568.77 Q1282.16 1572.02 1279.17 1573.58 Q1276.18 1575.11 1271.85 1575.11 Q1266.38 1575.11 1263.13 1572.05 Q1259.92 1568.97 1259.92 1563.81 Q1259.92 1557.79 1263.93 1554.74 Q1267.97 1551.68 1275.96 1551.68 L1284.17 1551.68 L1284.17 1551.11 Q1284.17 1547.07 1281.49 1544.87 Q1278.85 1542.64 1274.05 1542.64 Q1270.99 1542.64 1268.1 1543.38 Q1265.2 1544.11 1262.53 1545.57 L1262.53 1540.16 Q1265.74 1538.92 1268.76 1538.31 Q1271.79 1537.68 1274.65 1537.68 Q1282.39 1537.68 1286.21 1541.69 Q1290.02 1545.7 1290.02 1553.85 Z\" fill=\"#000000\" fill-rule=\"evenodd\" fill-opacity=\"1\" /><path clip-path=\"url(#clip720)\" d=\"M1307.88 1528.42 L1307.88 1538.54 L1319.94 1538.54 L1319.94 1543.09 L1307.88 1543.09 L1307.88 1562.44 Q1307.88 1566.8 1309.06 1568.04 Q1310.27 1569.28 1313.93 1569.28 L1319.94 1569.28 L1319.94 1574.19 L1313.93 1574.19 Q1307.15 1574.19 1304.57 1571.67 Q1301.99 1569.12 1301.99 1562.44 L1301.99 1543.09 L1297.7 1543.09 L1297.7 1538.54 L1301.99 1538.54 L1301.99 1528.42 L1307.88 1528.42 Z\" fill=\"#000000\" fill-rule=\"evenodd\" fill-opacity=\"1\" /><path clip-path=\"url(#clip720)\" d=\"M1327.65 1538.54 L1333.5 1538.54 L1333.5 1574.19 L1327.65 1574.19 L1327.65 1538.54 M1327.65 1524.66 L1333.5 1524.66 L1333.5 1532.08 L1327.65 1532.08 L1327.65 1524.66 Z\" fill=\"#000000\" fill-rule=\"evenodd\" fill-opacity=\"1\" /><path clip-path=\"url(#clip720)\" d=\"M1359.57 1542.64 Q1354.86 1542.64 1352.12 1546.34 Q1349.39 1550 1349.39 1556.39 Q1349.39 1562.79 1352.09 1566.48 Q1354.83 1570.14 1359.57 1570.14 Q1364.25 1570.14 1366.99 1566.45 Q1369.72 1562.76 1369.72 1556.39 Q1369.72 1550.06 1366.99 1546.37 Q1364.25 1542.64 1359.57 1542.64 M1359.57 1537.68 Q1367.21 1537.68 1371.57 1542.64 Q1375.93 1547.61 1375.93 1556.39 Q1375.93 1565.15 1371.57 1570.14 Q1367.21 1575.11 1359.57 1575.11 Q1351.9 1575.11 1347.54 1570.14 Q1343.21 1565.15 1343.21 1556.39 Q1343.21 1547.61 1347.54 1542.64 Q1351.9 1537.68 1359.57 1537.68 Z\" fill=\"#000000\" fill-rule=\"evenodd\" fill-opacity=\"1\" /><path clip-path=\"url(#clip720)\" d=\"M1415.27 1552.67 L1415.27 1574.19 L1409.41 1574.19 L1409.41 1552.86 Q1409.41 1547.8 1407.44 1545.29 Q1405.47 1542.77 1401.52 1542.77 Q1396.78 1542.77 1394.04 1545.79 Q1391.3 1548.82 1391.3 1554.04 L1391.3 1574.19 L1385.42 1574.19 L1385.42 1538.54 L1391.3 1538.54 L1391.3 1544.08 Q1393.4 1540.86 1396.24 1539.27 Q1399.1 1537.68 1402.83 1537.68 Q1408.97 1537.68 1412.12 1541.5 Q1415.27 1545.29 1415.27 1552.67 Z\" fill=\"#000000\" fill-rule=\"evenodd\" fill-opacity=\"1\" /><path clip-path=\"url(#clip720)\" d=\"M1449.68 1539.59 L1449.68 1545.13 Q1447.19 1543.85 1444.52 1543.22 Q1441.85 1542.58 1438.98 1542.58 Q1434.62 1542.58 1432.43 1543.92 Q1430.26 1545.25 1430.26 1547.93 Q1430.26 1549.96 1431.82 1551.14 Q1433.38 1552.29 1438.09 1553.34 L1440.1 1553.78 Q1446.33 1555.12 1448.94 1557.57 Q1451.59 1559.99 1451.59 1564.35 Q1451.59 1569.32 1447.64 1572.21 Q1443.72 1575.11 1436.85 1575.11 Q1433.99 1575.11 1430.87 1574.54 Q1427.78 1573.99 1424.34 1572.88 L1424.34 1566.83 Q1427.59 1568.52 1430.74 1569.38 Q1433.89 1570.21 1436.98 1570.21 Q1441.11 1570.21 1443.34 1568.81 Q1445.57 1567.37 1445.57 1564.8 Q1445.57 1562.41 1443.95 1561.14 Q1442.36 1559.86 1436.91 1558.68 L1434.88 1558.21 Q1429.43 1557.06 1427.01 1554.71 Q1424.6 1552.32 1424.6 1548.18 Q1424.6 1543.15 1428.16 1540.42 Q1431.73 1537.68 1438.28 1537.68 Q1441.53 1537.68 1444.39 1538.16 Q1447.26 1538.63 1449.68 1539.59 Z\" fill=\"#000000\" fill-rule=\"evenodd\" fill-opacity=\"1\" /><polyline clip-path=\"url(#clip722)\" style=\"stroke:#000000; stroke-linecap:round; stroke-linejoin:round; stroke-width:2; stroke-opacity:0.1; fill:none\" points=\"\n",
       "  249.542,1348.91 2352.76,1348.91 \n",
       "  \"/>\n",
       "<polyline clip-path=\"url(#clip722)\" style=\"stroke:#000000; stroke-linecap:round; stroke-linejoin:round; stroke-width:2; stroke-opacity:0.1; fill:none\" points=\"\n",
       "  249.542,1038.99 2352.76,1038.99 \n",
       "  \"/>\n",
       "<polyline clip-path=\"url(#clip722)\" style=\"stroke:#000000; stroke-linecap:round; stroke-linejoin:round; stroke-width:2; stroke-opacity:0.1; fill:none\" points=\"\n",
       "  249.542,729.07 2352.76,729.07 \n",
       "  \"/>\n",
       "<polyline clip-path=\"url(#clip722)\" style=\"stroke:#000000; stroke-linecap:round; stroke-linejoin:round; stroke-width:2; stroke-opacity:0.1; fill:none\" points=\"\n",
       "  249.542,419.149 2352.76,419.149 \n",
       "  \"/>\n",
       "<polyline clip-path=\"url(#clip722)\" style=\"stroke:#000000; stroke-linecap:round; stroke-linejoin:round; stroke-width:2; stroke-opacity:0.1; fill:none\" points=\"\n",
       "  249.542,109.228 2352.76,109.228 \n",
       "  \"/>\n",
       "<polyline clip-path=\"url(#clip720)\" style=\"stroke:#000000; stroke-linecap:round; stroke-linejoin:round; stroke-width:4; stroke-opacity:1; fill:none\" points=\"\n",
       "  249.542,1410.9 249.542,47.2441 \n",
       "  \"/>\n",
       "<polyline clip-path=\"url(#clip720)\" style=\"stroke:#000000; stroke-linecap:round; stroke-linejoin:round; stroke-width:4; stroke-opacity:1; fill:none\" points=\"\n",
       "  249.542,1348.91 268.44,1348.91 \n",
       "  \"/>\n",
       "<polyline clip-path=\"url(#clip720)\" style=\"stroke:#000000; stroke-linecap:round; stroke-linejoin:round; stroke-width:4; stroke-opacity:1; fill:none\" points=\"\n",
       "  249.542,1038.99 268.44,1038.99 \n",
       "  \"/>\n",
       "<polyline clip-path=\"url(#clip720)\" style=\"stroke:#000000; stroke-linecap:round; stroke-linejoin:round; stroke-width:4; stroke-opacity:1; fill:none\" points=\"\n",
       "  249.542,729.07 268.44,729.07 \n",
       "  \"/>\n",
       "<polyline clip-path=\"url(#clip720)\" style=\"stroke:#000000; stroke-linecap:round; stroke-linejoin:round; stroke-width:4; stroke-opacity:1; fill:none\" points=\"\n",
       "  249.542,419.149 268.44,419.149 \n",
       "  \"/>\n",
       "<polyline clip-path=\"url(#clip720)\" style=\"stroke:#000000; stroke-linecap:round; stroke-linejoin:round; stroke-width:4; stroke-opacity:1; fill:none\" points=\"\n",
       "  249.542,109.228 268.44,109.228 \n",
       "  \"/>\n",
       "<path clip-path=\"url(#clip720)\" d=\"M126.205 1334.71 Q122.593 1334.71 120.765 1338.28 Q118.959 1341.82 118.959 1348.95 Q118.959 1356.05 120.765 1359.62 Q122.593 1363.16 126.205 1363.16 Q129.839 1363.16 131.644 1359.62 Q133.473 1356.05 133.473 1348.95 Q133.473 1341.82 131.644 1338.28 Q129.839 1334.71 126.205 1334.71 M126.205 1331.01 Q132.015 1331.01 135.07 1335.61 Q138.149 1340.2 138.149 1348.95 Q138.149 1357.67 135.07 1362.28 Q132.015 1366.86 126.205 1366.86 Q120.394 1366.86 117.316 1362.28 Q114.26 1357.67 114.26 1348.95 Q114.26 1340.2 117.316 1335.61 Q120.394 1331.01 126.205 1331.01 Z\" fill=\"#000000\" fill-rule=\"evenodd\" fill-opacity=\"1\" /><path clip-path=\"url(#clip720)\" d=\"M146.366 1360.31 L151.251 1360.31 L151.251 1366.19 L146.366 1366.19 L146.366 1360.31 Z\" fill=\"#000000\" fill-rule=\"evenodd\" fill-opacity=\"1\" /><path clip-path=\"url(#clip720)\" d=\"M171.436 1334.71 Q167.825 1334.71 165.996 1338.28 Q164.19 1341.82 164.19 1348.95 Q164.19 1356.05 165.996 1359.62 Q167.825 1363.16 171.436 1363.16 Q175.07 1363.16 176.876 1359.62 Q178.704 1356.05 178.704 1348.95 Q178.704 1341.82 176.876 1338.28 Q175.07 1334.71 171.436 1334.71 M171.436 1331.01 Q177.246 1331.01 180.301 1335.61 Q183.38 1340.2 183.38 1348.95 Q183.38 1357.67 180.301 1362.28 Q177.246 1366.86 171.436 1366.86 Q165.626 1366.86 162.547 1362.28 Q159.491 1357.67 159.491 1348.95 Q159.491 1340.2 162.547 1335.61 Q165.626 1331.01 171.436 1331.01 Z\" fill=\"#000000\" fill-rule=\"evenodd\" fill-opacity=\"1\" /><path clip-path=\"url(#clip720)\" d=\"M201.598 1334.71 Q197.987 1334.71 196.158 1338.28 Q194.352 1341.82 194.352 1348.95 Q194.352 1356.05 196.158 1359.62 Q197.987 1363.16 201.598 1363.16 Q205.232 1363.16 207.037 1359.62 Q208.866 1356.05 208.866 1348.95 Q208.866 1341.82 207.037 1338.28 Q205.232 1334.71 201.598 1334.71 M201.598 1331.01 Q207.408 1331.01 210.463 1335.61 Q213.542 1340.2 213.542 1348.95 Q213.542 1357.67 210.463 1362.28 Q207.408 1366.86 201.598 1366.86 Q195.787 1366.86 192.709 1362.28 Q189.653 1357.67 189.653 1348.95 Q189.653 1340.2 192.709 1335.61 Q195.787 1331.01 201.598 1331.01 Z\" fill=\"#000000\" fill-rule=\"evenodd\" fill-opacity=\"1\" /><path clip-path=\"url(#clip720)\" d=\"M127.2 1024.79 Q123.589 1024.79 121.76 1028.35 Q119.955 1031.9 119.955 1039.03 Q119.955 1046.13 121.76 1049.7 Q123.589 1053.24 127.2 1053.24 Q130.834 1053.24 132.64 1049.7 Q134.468 1046.13 134.468 1039.03 Q134.468 1031.9 132.64 1028.35 Q130.834 1024.79 127.2 1024.79 M127.2 1021.09 Q133.01 1021.09 136.066 1025.69 Q139.144 1030.28 139.144 1039.03 Q139.144 1047.75 136.066 1052.36 Q133.01 1056.94 127.2 1056.94 Q121.39 1056.94 118.311 1052.36 Q115.256 1047.75 115.256 1039.03 Q115.256 1030.28 118.311 1025.69 Q121.39 1021.09 127.2 1021.09 Z\" fill=\"#000000\" fill-rule=\"evenodd\" fill-opacity=\"1\" /><path clip-path=\"url(#clip720)\" d=\"M147.362 1050.39 L152.246 1050.39 L152.246 1056.27 L147.362 1056.27 L147.362 1050.39 Z\" fill=\"#000000\" fill-rule=\"evenodd\" fill-opacity=\"1\" /><path clip-path=\"url(#clip720)\" d=\"M166.459 1052.34 L182.778 1052.34 L182.778 1056.27 L160.834 1056.27 L160.834 1052.34 Q163.496 1049.58 168.079 1044.95 Q172.686 1040.3 173.866 1038.96 Q176.112 1036.43 176.991 1034.7 Q177.894 1032.94 177.894 1031.25 Q177.894 1028.49 175.95 1026.76 Q174.028 1025.02 170.927 1025.02 Q168.727 1025.02 166.274 1025.79 Q163.843 1026.55 161.065 1028.1 L161.065 1023.38 Q163.89 1022.24 166.343 1021.67 Q168.797 1021.09 170.834 1021.09 Q176.204 1021.09 179.399 1023.77 Q182.593 1026.46 182.593 1030.95 Q182.593 1033.08 181.783 1035 Q180.996 1036.9 178.889 1039.49 Q178.311 1040.16 175.209 1043.38 Q172.107 1046.57 166.459 1052.34 Z\" fill=\"#000000\" fill-rule=\"evenodd\" fill-opacity=\"1\" /><path clip-path=\"url(#clip720)\" d=\"M192.639 1021.71 L210.996 1021.71 L210.996 1025.65 L196.922 1025.65 L196.922 1034.12 Q197.94 1033.77 198.959 1033.61 Q199.977 1033.42 200.996 1033.42 Q206.783 1033.42 210.162 1036.6 Q213.542 1039.77 213.542 1045.18 Q213.542 1050.76 210.07 1053.86 Q206.598 1056.94 200.278 1056.94 Q198.102 1056.94 195.834 1056.57 Q193.588 1056.2 191.181 1055.46 L191.181 1050.76 Q193.264 1051.9 195.487 1052.45 Q197.709 1053.01 200.186 1053.01 Q204.19 1053.01 206.528 1050.9 Q208.866 1048.79 208.866 1045.18 Q208.866 1041.57 206.528 1039.47 Q204.19 1037.36 200.186 1037.36 Q198.311 1037.36 196.436 1037.78 Q194.584 1038.19 192.639 1039.07 L192.639 1021.71 Z\" fill=\"#000000\" fill-rule=\"evenodd\" fill-opacity=\"1\" /><path clip-path=\"url(#clip720)\" d=\"M126.205 714.869 Q122.593 714.869 120.765 718.434 Q118.959 721.975 118.959 729.105 Q118.959 736.212 120.765 739.776 Q122.593 743.318 126.205 743.318 Q129.839 743.318 131.644 739.776 Q133.473 736.212 133.473 729.105 Q133.473 721.975 131.644 718.434 Q129.839 714.869 126.205 714.869 M126.205 711.165 Q132.015 711.165 135.07 715.772 Q138.149 720.355 138.149 729.105 Q138.149 737.832 135.07 742.438 Q132.015 747.022 126.205 747.022 Q120.394 747.022 117.316 742.438 Q114.26 737.832 114.26 729.105 Q114.26 720.355 117.316 715.772 Q120.394 711.165 126.205 711.165 Z\" fill=\"#000000\" fill-rule=\"evenodd\" fill-opacity=\"1\" /><path clip-path=\"url(#clip720)\" d=\"M146.366 740.471 L151.251 740.471 L151.251 746.35 L146.366 746.35 L146.366 740.471 Z\" fill=\"#000000\" fill-rule=\"evenodd\" fill-opacity=\"1\" /><path clip-path=\"url(#clip720)\" d=\"M161.482 711.79 L179.839 711.79 L179.839 715.726 L165.765 715.726 L165.765 724.198 Q166.783 723.85 167.802 723.688 Q168.82 723.503 169.839 723.503 Q175.626 723.503 179.005 726.675 Q182.385 729.846 182.385 735.262 Q182.385 740.841 178.913 743.943 Q175.44 747.022 169.121 747.022 Q166.945 747.022 164.677 746.651 Q162.431 746.281 160.024 745.54 L160.024 740.841 Q162.107 741.975 164.329 742.531 Q166.552 743.086 169.028 743.086 Q173.033 743.086 175.371 740.98 Q177.709 738.874 177.709 735.262 Q177.709 731.651 175.371 729.545 Q173.033 727.438 169.028 727.438 Q167.153 727.438 165.278 727.855 Q163.427 728.272 161.482 729.151 L161.482 711.79 Z\" fill=\"#000000\" fill-rule=\"evenodd\" fill-opacity=\"1\" /><path clip-path=\"url(#clip720)\" d=\"M201.598 714.869 Q197.987 714.869 196.158 718.434 Q194.352 721.975 194.352 729.105 Q194.352 736.212 196.158 739.776 Q197.987 743.318 201.598 743.318 Q205.232 743.318 207.037 739.776 Q208.866 736.212 208.866 729.105 Q208.866 721.975 207.037 718.434 Q205.232 714.869 201.598 714.869 M201.598 711.165 Q207.408 711.165 210.463 715.772 Q213.542 720.355 213.542 729.105 Q213.542 737.832 210.463 742.438 Q207.408 747.022 201.598 747.022 Q195.787 747.022 192.709 742.438 Q189.653 737.832 189.653 729.105 Q189.653 720.355 192.709 715.772 Q195.787 711.165 201.598 711.165 Z\" fill=\"#000000\" fill-rule=\"evenodd\" fill-opacity=\"1\" /><path clip-path=\"url(#clip720)\" d=\"M127.2 404.948 Q123.589 404.948 121.76 408.513 Q119.955 412.054 119.955 419.184 Q119.955 426.291 121.76 429.855 Q123.589 433.397 127.2 433.397 Q130.834 433.397 132.64 429.855 Q134.468 426.291 134.468 419.184 Q134.468 412.054 132.64 408.513 Q130.834 404.948 127.2 404.948 M127.2 401.244 Q133.01 401.244 136.066 405.851 Q139.144 410.434 139.144 419.184 Q139.144 427.911 136.066 432.517 Q133.01 437.101 127.2 437.101 Q121.39 437.101 118.311 432.517 Q115.256 427.911 115.256 419.184 Q115.256 410.434 118.311 405.851 Q121.39 401.244 127.2 401.244 Z\" fill=\"#000000\" fill-rule=\"evenodd\" fill-opacity=\"1\" /><path clip-path=\"url(#clip720)\" d=\"M147.362 430.55 L152.246 430.55 L152.246 436.429 L147.362 436.429 L147.362 430.55 Z\" fill=\"#000000\" fill-rule=\"evenodd\" fill-opacity=\"1\" /><path clip-path=\"url(#clip720)\" d=\"M161.251 401.869 L183.473 401.869 L183.473 403.86 L170.927 436.429 L166.042 436.429 L177.848 405.804 L161.251 405.804 L161.251 401.869 Z\" fill=\"#000000\" fill-rule=\"evenodd\" fill-opacity=\"1\" /><path clip-path=\"url(#clip720)\" d=\"M192.639 401.869 L210.996 401.869 L210.996 405.804 L196.922 405.804 L196.922 414.277 Q197.94 413.929 198.959 413.767 Q199.977 413.582 200.996 413.582 Q206.783 413.582 210.162 416.754 Q213.542 419.925 213.542 425.341 Q213.542 430.92 210.07 434.022 Q206.598 437.101 200.278 437.101 Q198.102 437.101 195.834 436.73 Q193.588 436.36 191.181 435.619 L191.181 430.92 Q193.264 432.054 195.487 432.61 Q197.709 433.165 200.186 433.165 Q204.19 433.165 206.528 431.059 Q208.866 428.953 208.866 425.341 Q208.866 421.73 206.528 419.624 Q204.19 417.517 200.186 417.517 Q198.311 417.517 196.436 417.934 Q194.584 418.351 192.639 419.23 L192.639 401.869 Z\" fill=\"#000000\" fill-rule=\"evenodd\" fill-opacity=\"1\" /><path clip-path=\"url(#clip720)\" d=\"M117.015 122.573 L124.654 122.573 L124.654 96.2075 L116.343 97.8742 L116.343 93.615 L124.607 91.9483 L129.283 91.9483 L129.283 122.573 L136.922 122.573 L136.922 126.508 L117.015 126.508 L117.015 122.573 Z\" fill=\"#000000\" fill-rule=\"evenodd\" fill-opacity=\"1\" /><path clip-path=\"url(#clip720)\" d=\"M146.366 120.629 L151.251 120.629 L151.251 126.508 L146.366 126.508 L146.366 120.629 Z\" fill=\"#000000\" fill-rule=\"evenodd\" fill-opacity=\"1\" /><path clip-path=\"url(#clip720)\" d=\"M171.436 95.027 Q167.825 95.027 165.996 98.5918 Q164.19 102.133 164.19 109.263 Q164.19 116.369 165.996 119.934 Q167.825 123.476 171.436 123.476 Q175.07 123.476 176.876 119.934 Q178.704 116.369 178.704 109.263 Q178.704 102.133 176.876 98.5918 Q175.07 95.027 171.436 95.027 M171.436 91.3233 Q177.246 91.3233 180.301 95.9298 Q183.38 100.513 183.38 109.263 Q183.38 117.99 180.301 122.596 Q177.246 127.18 171.436 127.18 Q165.626 127.18 162.547 122.596 Q159.491 117.99 159.491 109.263 Q159.491 100.513 162.547 95.9298 Q165.626 91.3233 171.436 91.3233 Z\" fill=\"#000000\" fill-rule=\"evenodd\" fill-opacity=\"1\" /><path clip-path=\"url(#clip720)\" d=\"M201.598 95.027 Q197.987 95.027 196.158 98.5918 Q194.352 102.133 194.352 109.263 Q194.352 116.369 196.158 119.934 Q197.987 123.476 201.598 123.476 Q205.232 123.476 207.037 119.934 Q208.866 116.369 208.866 109.263 Q208.866 102.133 207.037 98.5918 Q205.232 95.027 201.598 95.027 M201.598 91.3233 Q207.408 91.3233 210.463 95.9298 Q213.542 100.513 213.542 109.263 Q213.542 117.99 210.463 122.596 Q207.408 127.18 201.598 127.18 Q195.787 127.18 192.709 122.596 Q189.653 117.99 189.653 109.263 Q189.653 100.513 192.709 95.9298 Q195.787 91.3233 201.598 91.3233 Z\" fill=\"#000000\" fill-rule=\"evenodd\" fill-opacity=\"1\" /><path clip-path=\"url(#clip720)\" d=\"M18.0438 910.891 L24.314 910.891 Q22.5634 914.551 21.704 917.798 Q20.8447 921.044 20.8447 924.068 Q20.8447 929.32 22.8817 932.184 Q24.9187 935.017 28.6745 935.017 Q31.8255 935.017 33.4488 933.139 Q35.0402 931.229 36.0269 925.946 L36.8226 922.063 Q38.1912 914.869 41.6605 911.464 Q45.098 908.026 50.8908 908.026 Q57.7976 908.026 61.3624 912.673 Q64.9272 917.288 64.9272 926.232 Q64.9272 929.606 64.1633 933.425 Q63.3994 937.213 61.9035 941.287 L55.2831 941.287 Q57.4793 937.372 58.5933 933.616 Q59.7073 929.861 59.7073 926.232 Q59.7073 920.726 57.543 917.734 Q55.3786 914.742 51.3682 914.742 Q47.8671 914.742 45.8937 916.906 Q43.9204 919.039 42.9337 923.941 L42.1698 927.855 Q40.7375 935.049 37.682 938.263 Q34.6264 941.478 29.1837 941.478 Q22.8817 941.478 19.2532 937.054 Q15.6248 932.598 15.6248 924.8 Q15.6248 921.458 16.2295 917.989 Q16.8343 914.519 18.0438 910.891 Z\" fill=\"#000000\" fill-rule=\"evenodd\" fill-opacity=\"1\" /><path clip-path=\"url(#clip720)\" d=\"M49.9359 898.86 L28.3562 898.86 L28.3562 893.003 L49.7131 893.003 Q54.7739 893.003 57.3202 891.03 Q59.8346 889.056 59.8346 885.11 Q59.8346 880.367 56.8109 877.63 Q53.7872 874.861 48.5673 874.861 L28.3562 874.861 L28.3562 869.005 L64.0042 869.005 L64.0042 874.861 L58.5296 874.861 Q61.7762 876.993 63.3676 879.826 Q64.9272 882.627 64.9272 886.351 Q64.9272 892.494 61.1078 895.677 Q57.2883 898.86 49.9359 898.86 M27.4968 884.123 L27.4968 884.123 Z\" fill=\"#000000\" fill-rule=\"evenodd\" fill-opacity=\"1\" /><path clip-path=\"url(#clip720)\" d=\"M29.7248 831.288 L35.1993 831.288 Q33.8307 833.77 33.1623 836.285 Q32.4621 838.767 32.4621 841.314 Q32.4621 847.011 36.0905 850.162 Q39.6872 853.313 46.212 853.313 Q52.7369 853.313 56.3653 850.162 Q59.9619 847.011 59.9619 841.314 Q59.9619 838.767 59.2935 836.285 Q58.5933 833.77 57.2247 831.288 L62.6355 831.288 Q63.7814 833.738 64.3543 836.38 Q64.9272 838.99 64.9272 841.95 Q64.9272 850.003 59.8664 854.745 Q54.8057 859.488 46.212 859.488 Q37.491 859.488 32.4939 854.714 Q27.4968 849.907 27.4968 841.568 Q27.4968 838.863 28.0697 836.285 Q28.6108 833.707 29.7248 831.288 Z\" fill=\"#000000\" fill-rule=\"evenodd\" fill-opacity=\"1\" /><path clip-path=\"url(#clip720)\" d=\"M29.7248 795.449 L35.1993 795.449 Q33.8307 797.931 33.1623 800.446 Q32.4621 802.928 32.4621 805.475 Q32.4621 811.172 36.0905 814.323 Q39.6872 817.474 46.212 817.474 Q52.7369 817.474 56.3653 814.323 Q59.9619 811.172 59.9619 805.475 Q59.9619 802.928 59.2935 800.446 Q58.5933 797.931 57.2247 795.449 L62.6355 795.449 Q63.7814 797.9 64.3543 800.541 Q64.9272 803.151 64.9272 806.111 Q64.9272 814.164 59.8664 818.906 Q54.8057 823.649 46.212 823.649 Q37.491 823.649 32.4939 818.875 Q27.4968 814.068 27.4968 805.729 Q27.4968 803.024 28.0697 800.446 Q28.6108 797.868 29.7248 795.449 Z\" fill=\"#000000\" fill-rule=\"evenodd\" fill-opacity=\"1\" /><path clip-path=\"url(#clip720)\" d=\"M44.7161 754.772 L47.5806 754.772 L47.5806 781.699 Q53.6281 781.317 56.8109 778.07 Q59.9619 774.792 59.9619 768.967 Q59.9619 765.594 59.1344 762.443 Q58.3069 759.26 56.6518 756.141 L62.1899 756.141 Q63.5267 759.292 64.227 762.602 Q64.9272 765.912 64.9272 769.318 Q64.9272 777.848 59.9619 782.845 Q54.9967 787.81 46.5303 787.81 Q37.7774 787.81 32.6531 783.099 Q27.4968 778.357 27.4968 770.336 Q27.4968 763.143 32.1438 758.973 Q36.7589 754.772 44.7161 754.772 M42.9973 760.628 Q38.1912 760.692 35.3266 763.334 Q32.4621 765.944 32.4621 770.272 Q32.4621 775.174 35.2312 778.134 Q38.0002 781.062 43.0292 781.508 L42.9973 760.628 Z\" fill=\"#000000\" fill-rule=\"evenodd\" fill-opacity=\"1\" /><path clip-path=\"url(#clip720)\" d=\"M29.4065 722.434 L34.9447 722.434 Q33.6716 724.917 33.035 727.59 Q32.3984 730.264 32.3984 733.129 Q32.3984 737.489 33.7352 739.685 Q35.072 741.85 37.7456 741.85 Q39.7826 741.85 40.9603 740.29 Q42.1061 738.73 43.1565 734.02 L43.6021 732.015 Q44.9389 725.776 47.3897 723.166 Q49.8086 720.524 54.1691 720.524 Q59.1344 720.524 62.0308 724.471 Q64.9272 728.386 64.9272 735.261 Q64.9272 738.126 64.3543 741.245 Q63.8132 744.332 62.6992 747.77 L56.6518 747.77 Q58.3387 744.523 59.198 741.372 Q60.0256 738.221 60.0256 735.134 Q60.0256 730.996 58.6251 728.768 Q57.1929 726.54 54.6147 726.54 Q52.2276 726.54 50.9545 728.163 Q49.6813 729.755 48.5037 735.197 L48.0262 737.234 Q46.8804 742.677 44.5251 745.096 Q42.138 747.515 38.0002 747.515 Q32.9713 747.515 30.2341 743.95 Q27.4968 740.385 27.4968 733.829 Q27.4968 730.582 27.9743 727.718 Q28.4517 724.853 29.4065 722.434 Z\" fill=\"#000000\" fill-rule=\"evenodd\" fill-opacity=\"1\" /><path clip-path=\"url(#clip720)\" d=\"M29.4065 688.473 L34.9447 688.473 Q33.6716 690.956 33.035 693.629 Q32.3984 696.303 32.3984 699.167 Q32.3984 703.528 33.7352 705.724 Q35.072 707.888 37.7456 707.888 Q39.7826 707.888 40.9603 706.329 Q42.1061 704.769 43.1565 700.059 L43.6021 698.053 Q44.9389 691.815 47.3897 689.205 Q49.8086 686.563 54.1691 686.563 Q59.1344 686.563 62.0308 690.51 Q64.9272 694.425 64.9272 701.3 Q64.9272 704.165 64.3543 707.284 Q63.8132 710.371 62.6992 713.809 L56.6518 713.809 Q58.3387 710.562 59.198 707.411 Q60.0256 704.26 60.0256 701.173 Q60.0256 697.035 58.6251 694.807 Q57.1929 692.579 54.6147 692.579 Q52.2276 692.579 50.9545 694.202 Q49.6813 695.794 48.5037 701.236 L48.0262 703.273 Q46.8804 708.716 44.5251 711.135 Q42.138 713.554 38.0002 713.554 Q32.9713 713.554 30.2341 709.989 Q27.4968 706.424 27.4968 699.868 Q27.4968 696.621 27.9743 693.757 Q28.4517 690.892 29.4065 688.473 Z\" fill=\"#000000\" fill-rule=\"evenodd\" fill-opacity=\"1\" /><path clip-path=\"url(#clip720)\" d=\"M41.7242 633.728 Q42.4244 631.659 44.7161 629.718 Q47.0077 627.744 51.0181 625.771 L64.0042 619.246 L64.0042 626.153 L51.8138 632.232 Q47.0395 634.587 45.48 636.815 Q43.9204 639.012 43.9204 642.831 L43.9204 649.833 L64.0042 649.833 L64.0042 656.263 L16.4842 656.263 L16.4842 641.749 Q16.4842 633.601 19.8898 629.59 Q23.2955 625.58 30.1704 625.58 Q34.6582 625.58 37.6183 627.681 Q40.5784 629.749 41.7242 633.728 M21.7677 649.833 L38.6368 649.833 L38.6368 641.749 Q38.6368 637.102 36.5043 634.747 Q34.34 632.359 30.1704 632.359 Q26.0009 632.359 23.9002 634.747 Q21.7677 637.102 21.7677 641.749 L21.7677 649.833 Z\" fill=\"#000000\" fill-rule=\"evenodd\" fill-opacity=\"1\" /><path clip-path=\"url(#clip720)\" d=\"M46.0847 596.457 Q46.0847 603.555 47.7079 606.292 Q49.3312 609.029 53.2461 609.029 Q56.3653 609.029 58.2114 606.992 Q60.0256 604.923 60.0256 601.39 Q60.0256 596.52 56.5881 593.592 Q53.1188 590.632 47.3897 590.632 L46.0847 590.632 L46.0847 596.457 M43.6657 584.776 L64.0042 584.776 L64.0042 590.632 L58.5933 590.632 Q61.8398 592.637 63.3994 595.629 Q64.9272 598.621 64.9272 602.95 Q64.9272 608.424 61.8716 611.671 Q58.7843 614.886 53.6281 614.886 Q47.6125 614.886 44.5569 610.875 Q41.5014 606.833 41.5014 598.844 L41.5014 590.632 L40.9285 590.632 Q36.8862 590.632 34.6901 593.306 Q32.4621 595.948 32.4621 600.754 Q32.4621 603.809 33.1941 606.706 Q33.9262 609.602 35.3903 612.276 L29.9795 612.276 Q28.7381 609.061 28.1334 606.037 Q27.4968 603.013 27.4968 600.149 Q27.4968 592.415 31.5072 588.595 Q35.5176 584.776 43.6657 584.776 Z\" fill=\"#000000\" fill-rule=\"evenodd\" fill-opacity=\"1\" /><path clip-path=\"url(#clip720)\" d=\"M18.2347 566.92 L28.3562 566.92 L28.3562 554.857 L32.9077 554.857 L32.9077 566.92 L52.2594 566.92 Q56.6199 566.92 57.8613 565.742 Q59.1026 564.533 59.1026 560.872 L59.1026 554.857 L64.0042 554.857 L64.0042 560.872 Q64.0042 567.652 61.4897 570.23 Q58.9434 572.808 52.2594 572.808 L32.9077 572.808 L32.9077 577.105 L28.3562 577.105 L28.3562 572.808 L18.2347 572.808 L18.2347 566.92 Z\" fill=\"#000000\" fill-rule=\"evenodd\" fill-opacity=\"1\" /><path clip-path=\"url(#clip720)\" d=\"M44.7161 516.663 L47.5806 516.663 L47.5806 543.59 Q53.6281 543.208 56.8109 539.961 Q59.9619 536.683 59.9619 530.858 Q59.9619 527.484 59.1344 524.333 Q58.3069 521.15 56.6518 518.031 L62.1899 518.031 Q63.5267 521.182 64.227 524.492 Q64.9272 527.803 64.9272 531.208 Q64.9272 539.738 59.9619 544.735 Q54.9967 549.701 46.5303 549.701 Q37.7774 549.701 32.6531 544.99 Q27.4968 540.248 27.4968 532.227 Q27.4968 525.034 32.1438 520.864 Q36.7589 516.663 44.7161 516.663 M42.9973 522.519 Q38.1912 522.583 35.3266 525.225 Q32.4621 527.834 32.4621 532.163 Q32.4621 537.065 35.2312 540.025 Q38.0002 542.953 43.0292 543.399 L42.9973 522.519 Z\" fill=\"#000000\" fill-rule=\"evenodd\" fill-opacity=\"1\" /><polyline clip-path=\"url(#clip722)\" style=\"stroke:#009af9; stroke-linecap:round; stroke-linejoin:round; stroke-width:4; stroke-opacity:1; fill:none\" points=\"\n",
       "  309.067,109.228 359.943,109.228 410.819,109.228 461.695,109.228 512.571,109.228 563.447,109.228 614.323,109.228 665.199,109.228 716.075,109.228 766.951,109.228 \n",
       "  817.827,109.228 868.703,109.228 919.579,109.228 970.455,109.228 1021.33,150.551 1072.21,109.228 1123.08,109.228 1173.96,109.228 1224.83,109.228 1275.71,109.228 \n",
       "  1326.59,109.228 1377.46,109.228 1428.34,109.228 1479.21,109.228 1530.09,109.228 1580.97,109.228 1631.84,109.228 1682.72,109.228 1733.59,109.228 1784.47,109.228 \n",
       "  1835.35,109.228 1886.22,109.228 1937.1,109.228 1987.97,109.228 2038.85,109.228 2089.73,109.228 2140.6,109.228 2191.48,109.228 2242.35,109.228 2293.23,109.228 \n",
       "  \n",
       "  \"/>\n",
       "</svg>\n"
      ]
     },
     "execution_count": 45,
     "metadata": {},
     "output_type": "execute_result"
    }
   ],
   "source": [
    "plot(iterations, success_rate, xlabel=\"Iterations\", ylabel=\"Success Rate\", legend = false, xformatter = :scientific, ylims=(-0.05,1.05))"
   ]
  },
  {
   "cell_type": "code",
   "execution_count": 46,
   "id": "4e57d828",
   "metadata": {},
   "outputs": [
    {
     "data": {
      "text/plain": [
       "\"/home/larissa/Documents/Projects/ADLR/ADLR_project/src/RL_PPO_quadcopter_3D/office_test/plots/fast/success_rate.svg\""
      ]
     },
     "execution_count": 46,
     "metadata": {},
     "output_type": "execute_result"
    }
   ],
   "source": [
    "savefig(fig_path * \"success_rate.svg\")"
   ]
  },
  {
   "cell_type": "code",
   "execution_count": 47,
   "id": "480d67d7",
   "metadata": {
    "scrolled": false
   },
   "outputs": [
    {
     "data": {
      "image/svg+xml": [
       "<?xml version=\"1.0\" encoding=\"utf-8\"?>\n",
       "<svg xmlns=\"http://www.w3.org/2000/svg\" xmlns:xlink=\"http://www.w3.org/1999/xlink\" width=\"600\" height=\"400\" viewBox=\"0 0 2400 1600\">\n",
       "<defs>\n",
       "  <clipPath id=\"clip800\">\n",
       "    <rect x=\"0\" y=\"0\" width=\"2400\" height=\"1600\"/>\n",
       "  </clipPath>\n",
       "</defs>\n",
       "<path clip-path=\"url(#clip800)\" d=\"\n",
       "M0 1600 L2400 1600 L2400 0 L0 0  Z\n",
       "  \" fill=\"#ffffff\" fill-rule=\"evenodd\" fill-opacity=\"1\"/>\n",
       "<defs>\n",
       "  <clipPath id=\"clip801\">\n",
       "    <rect x=\"480\" y=\"0\" width=\"1681\" height=\"1600\"/>\n",
       "  </clipPath>\n",
       "</defs>\n",
       "<path clip-path=\"url(#clip800)\" d=\"\n",
       "M175.445 1410.9 L2352.76 1410.9 L2352.76 47.2441 L175.445 47.2441  Z\n",
       "  \" fill=\"#ffffff\" fill-rule=\"evenodd\" fill-opacity=\"1\"/>\n",
       "<defs>\n",
       "  <clipPath id=\"clip802\">\n",
       "    <rect x=\"175\" y=\"47\" width=\"2178\" height=\"1365\"/>\n",
       "  </clipPath>\n",
       "</defs>\n",
       "<polyline clip-path=\"url(#clip802)\" style=\"stroke:#000000; stroke-linecap:round; stroke-linejoin:round; stroke-width:2; stroke-opacity:0.1; fill:none\" points=\"\n",
       "  184.399,1410.9 184.399,47.2441 \n",
       "  \"/>\n",
       "<polyline clip-path=\"url(#clip802)\" style=\"stroke:#000000; stroke-linecap:round; stroke-linejoin:round; stroke-width:2; stroke-opacity:0.1; fill:none\" points=\"\n",
       "  711.083,1410.9 711.083,47.2441 \n",
       "  \"/>\n",
       "<polyline clip-path=\"url(#clip802)\" style=\"stroke:#000000; stroke-linecap:round; stroke-linejoin:round; stroke-width:2; stroke-opacity:0.1; fill:none\" points=\"\n",
       "  1237.77,1410.9 1237.77,47.2441 \n",
       "  \"/>\n",
       "<polyline clip-path=\"url(#clip802)\" style=\"stroke:#000000; stroke-linecap:round; stroke-linejoin:round; stroke-width:2; stroke-opacity:0.1; fill:none\" points=\"\n",
       "  1764.45,1410.9 1764.45,47.2441 \n",
       "  \"/>\n",
       "<polyline clip-path=\"url(#clip802)\" style=\"stroke:#000000; stroke-linecap:round; stroke-linejoin:round; stroke-width:2; stroke-opacity:0.1; fill:none\" points=\"\n",
       "  2291.13,1410.9 2291.13,47.2441 \n",
       "  \"/>\n",
       "<polyline clip-path=\"url(#clip800)\" style=\"stroke:#000000; stroke-linecap:round; stroke-linejoin:round; stroke-width:4; stroke-opacity:1; fill:none\" points=\"\n",
       "  175.445,1410.9 2352.76,1410.9 \n",
       "  \"/>\n",
       "<polyline clip-path=\"url(#clip800)\" style=\"stroke:#000000; stroke-linecap:round; stroke-linejoin:round; stroke-width:4; stroke-opacity:1; fill:none\" points=\"\n",
       "  184.399,1410.9 184.399,1392 \n",
       "  \"/>\n",
       "<polyline clip-path=\"url(#clip800)\" style=\"stroke:#000000; stroke-linecap:round; stroke-linejoin:round; stroke-width:4; stroke-opacity:1; fill:none\" points=\"\n",
       "  711.083,1410.9 711.083,1392 \n",
       "  \"/>\n",
       "<polyline clip-path=\"url(#clip800)\" style=\"stroke:#000000; stroke-linecap:round; stroke-linejoin:round; stroke-width:4; stroke-opacity:1; fill:none\" points=\"\n",
       "  1237.77,1410.9 1237.77,1392 \n",
       "  \"/>\n",
       "<polyline clip-path=\"url(#clip800)\" style=\"stroke:#000000; stroke-linecap:round; stroke-linejoin:round; stroke-width:4; stroke-opacity:1; fill:none\" points=\"\n",
       "  1764.45,1410.9 1764.45,1392 \n",
       "  \"/>\n",
       "<polyline clip-path=\"url(#clip800)\" style=\"stroke:#000000; stroke-linecap:round; stroke-linejoin:round; stroke-width:4; stroke-opacity:1; fill:none\" points=\"\n",
       "  2291.13,1410.9 2291.13,1392 \n",
       "  \"/>\n",
       "<path clip-path=\"url(#clip800)\" d=\"M184.399 1441.82 Q180.788 1441.82 178.959 1445.38 Q177.154 1448.92 177.154 1456.05 Q177.154 1463.16 178.959 1466.72 Q180.788 1470.26 184.399 1470.26 Q188.033 1470.26 189.839 1466.72 Q191.667 1463.16 191.667 1456.05 Q191.667 1448.92 189.839 1445.38 Q188.033 1441.82 184.399 1441.82 M184.399 1438.11 Q190.209 1438.11 193.265 1442.72 Q196.343 1447.3 196.343 1456.05 Q196.343 1464.78 193.265 1469.38 Q190.209 1473.97 184.399 1473.97 Q178.589 1473.97 175.51 1469.38 Q172.454 1464.78 172.454 1456.05 Q172.454 1447.3 175.51 1442.72 Q178.589 1438.11 184.399 1438.11 Z\" fill=\"#000000\" fill-rule=\"evenodd\" fill-opacity=\"1\" /><path clip-path=\"url(#clip800)\" d=\"M618.517 1485.02 L626.156 1485.02 L626.156 1458.66 L617.846 1460.32 L617.846 1456.06 L626.11 1454.4 L630.786 1454.4 L630.786 1485.02 L638.425 1485.02 L638.425 1488.96 L618.517 1488.96 L618.517 1485.02 Z\" fill=\"#000000\" fill-rule=\"evenodd\" fill-opacity=\"1\" /><path clip-path=\"url(#clip800)\" d=\"M647.869 1483.08 L652.753 1483.08 L652.753 1488.96 L647.869 1488.96 L647.869 1483.08 Z\" fill=\"#000000\" fill-rule=\"evenodd\" fill-opacity=\"1\" /><path clip-path=\"url(#clip800)\" d=\"M672.938 1457.48 Q669.327 1457.48 667.498 1461.04 Q665.693 1464.58 665.693 1471.71 Q665.693 1478.82 667.498 1482.38 Q669.327 1485.92 672.938 1485.92 Q676.573 1485.92 678.378 1482.38 Q680.207 1478.82 680.207 1471.71 Q680.207 1464.58 678.378 1461.04 Q676.573 1457.48 672.938 1457.48 M672.938 1453.77 Q678.748 1453.77 681.804 1458.38 Q684.883 1462.96 684.883 1471.71 Q684.883 1480.44 681.804 1485.04 Q678.748 1489.63 672.938 1489.63 Q667.128 1489.63 664.049 1485.04 Q660.994 1480.44 660.994 1471.71 Q660.994 1462.96 664.049 1458.38 Q667.128 1453.77 672.938 1453.77 Z\" fill=\"#000000\" fill-rule=\"evenodd\" fill-opacity=\"1\" /><path clip-path=\"url(#clip800)\" d=\"M721.271 1463.49 L710.693 1474.12 L721.271 1484.7 L718.517 1487.5 L707.892 1476.87 L697.267 1487.5 L694.535 1484.7 L705.091 1474.12 L694.535 1463.49 L697.267 1460.69 L707.892 1471.32 L718.517 1460.69 L721.271 1463.49 Z\" fill=\"#000000\" fill-rule=\"evenodd\" fill-opacity=\"1\" /><path clip-path=\"url(#clip800)\" d=\"M733.632 1485.02 L741.271 1485.02 L741.271 1458.66 L732.961 1460.32 L732.961 1456.06 L741.225 1454.4 L745.901 1454.4 L745.901 1485.02 L753.54 1485.02 L753.54 1488.96 L733.632 1488.96 L733.632 1485.02 Z\" fill=\"#000000\" fill-rule=\"evenodd\" fill-opacity=\"1\" /><path clip-path=\"url(#clip800)\" d=\"M772.984 1457.48 Q769.373 1457.48 767.544 1461.04 Q765.739 1464.58 765.739 1471.71 Q765.739 1478.82 767.544 1482.38 Q769.373 1485.92 772.984 1485.92 Q776.618 1485.92 778.424 1482.38 Q780.253 1478.82 780.253 1471.71 Q780.253 1464.58 778.424 1461.04 Q776.618 1457.48 772.984 1457.48 M772.984 1453.77 Q778.794 1453.77 781.85 1458.38 Q784.928 1462.96 784.928 1471.71 Q784.928 1480.44 781.85 1485.04 Q778.794 1489.63 772.984 1489.63 Q767.174 1489.63 764.095 1485.04 Q761.04 1480.44 761.04 1471.71 Q761.04 1462.96 764.095 1458.38 Q767.174 1453.77 772.984 1453.77 Z\" fill=\"#000000\" fill-rule=\"evenodd\" fill-opacity=\"1\" /><path clip-path=\"url(#clip800)\" d=\"M794.953 1445.99 Q792.395 1445.99 790.89 1447.74 Q789.405 1449.49 789.405 1452.54 Q789.405 1455.57 790.89 1457.33 Q792.395 1459.08 794.953 1459.08 Q797.511 1459.08 798.997 1457.33 Q800.501 1455.57 800.501 1452.54 Q800.501 1449.49 798.997 1447.74 Q797.511 1445.99 794.953 1445.99 M802.495 1434.09 L802.495 1437.55 Q801.065 1436.87 799.598 1436.51 Q798.15 1436.16 796.721 1436.16 Q792.959 1436.16 790.966 1438.69 Q788.991 1441.23 788.709 1446.37 Q789.818 1444.73 791.492 1443.87 Q793.166 1442.98 795.179 1442.98 Q799.41 1442.98 801.855 1445.56 Q804.319 1448.12 804.319 1452.54 Q804.319 1456.86 801.761 1459.48 Q799.204 1462.09 794.953 1462.09 Q790.082 1462.09 787.505 1458.37 Q784.928 1454.62 784.928 1447.53 Q784.928 1440.88 788.088 1436.93 Q791.248 1432.96 796.57 1432.96 Q798 1432.96 799.448 1433.24 Q800.915 1433.52 802.495 1434.09 Z\" fill=\"#000000\" fill-rule=\"evenodd\" fill-opacity=\"1\" /><path clip-path=\"url(#clip800)\" d=\"M1149.29 1485.02 L1165.61 1485.02 L1165.61 1488.96 L1143.66 1488.96 L1143.66 1485.02 Q1146.32 1482.27 1150.91 1477.64 Q1155.51 1472.98 1156.69 1471.64 Q1158.94 1469.12 1159.82 1467.38 Q1160.72 1465.62 1160.72 1463.93 Q1160.72 1461.18 1158.78 1459.44 Q1156.86 1457.71 1153.75 1457.71 Q1151.56 1457.71 1149.1 1458.47 Q1146.67 1459.23 1143.89 1460.79 L1143.89 1456.06 Q1146.72 1454.93 1149.17 1454.35 Q1151.62 1453.77 1153.66 1453.77 Q1159.03 1453.77 1162.23 1456.46 Q1165.42 1459.14 1165.42 1463.63 Q1165.42 1465.76 1164.61 1467.68 Q1163.82 1469.58 1161.72 1472.17 Q1161.14 1472.85 1158.04 1476.06 Q1154.93 1479.26 1149.29 1485.02 Z\" fill=\"#000000\" fill-rule=\"evenodd\" fill-opacity=\"1\" /><path clip-path=\"url(#clip800)\" d=\"M1175.42 1483.08 L1180.31 1483.08 L1180.31 1488.96 L1175.42 1488.96 L1175.42 1483.08 Z\" fill=\"#000000\" fill-rule=\"evenodd\" fill-opacity=\"1\" /><path clip-path=\"url(#clip800)\" d=\"M1200.49 1457.48 Q1196.88 1457.48 1195.05 1461.04 Q1193.24 1464.58 1193.24 1471.71 Q1193.24 1478.82 1195.05 1482.38 Q1196.88 1485.92 1200.49 1485.92 Q1204.12 1485.92 1205.93 1482.38 Q1207.76 1478.82 1207.76 1471.71 Q1207.76 1464.58 1205.93 1461.04 Q1204.12 1457.48 1200.49 1457.48 M1200.49 1453.77 Q1206.3 1453.77 1209.36 1458.38 Q1212.43 1462.96 1212.43 1471.71 Q1212.43 1480.44 1209.36 1485.04 Q1206.3 1489.63 1200.49 1489.63 Q1194.68 1489.63 1191.6 1485.04 Q1188.55 1480.44 1188.55 1471.71 Q1188.55 1462.96 1191.6 1458.38 Q1194.68 1453.77 1200.49 1453.77 Z\" fill=\"#000000\" fill-rule=\"evenodd\" fill-opacity=\"1\" /><path clip-path=\"url(#clip800)\" d=\"M1248.82 1463.49 L1238.24 1474.12 L1248.82 1484.7 L1246.07 1487.5 L1235.44 1476.87 L1224.82 1487.5 L1222.09 1484.7 L1232.64 1474.12 L1222.09 1463.49 L1224.82 1460.69 L1235.44 1471.32 L1246.07 1460.69 L1248.82 1463.49 Z\" fill=\"#000000\" fill-rule=\"evenodd\" fill-opacity=\"1\" /><path clip-path=\"url(#clip800)\" d=\"M1261.18 1485.02 L1268.82 1485.02 L1268.82 1458.66 L1260.51 1460.32 L1260.51 1456.06 L1268.78 1454.4 L1273.45 1454.4 L1273.45 1485.02 L1281.09 1485.02 L1281.09 1488.96 L1261.18 1488.96 L1261.18 1485.02 Z\" fill=\"#000000\" fill-rule=\"evenodd\" fill-opacity=\"1\" /><path clip-path=\"url(#clip800)\" d=\"M1300.54 1457.48 Q1296.92 1457.48 1295.1 1461.04 Q1293.29 1464.58 1293.29 1471.71 Q1293.29 1478.82 1295.1 1482.38 Q1296.92 1485.92 1300.54 1485.92 Q1304.17 1485.92 1305.98 1482.38 Q1307.8 1478.82 1307.8 1471.71 Q1307.8 1464.58 1305.98 1461.04 Q1304.17 1457.48 1300.54 1457.48 M1300.54 1453.77 Q1306.35 1453.77 1309.4 1458.38 Q1312.48 1462.96 1312.48 1471.71 Q1312.48 1480.44 1309.4 1485.04 Q1306.35 1489.63 1300.54 1489.63 Q1294.73 1489.63 1291.65 1485.04 Q1288.59 1480.44 1288.59 1471.71 Q1288.59 1462.96 1291.65 1458.38 Q1294.73 1453.77 1300.54 1453.77 Z\" fill=\"#000000\" fill-rule=\"evenodd\" fill-opacity=\"1\" /><path clip-path=\"url(#clip800)\" d=\"M1322.5 1445.99 Q1319.95 1445.99 1318.44 1447.74 Q1316.96 1449.49 1316.96 1452.54 Q1316.96 1455.57 1318.44 1457.33 Q1319.95 1459.08 1322.5 1459.08 Q1325.06 1459.08 1326.55 1457.33 Q1328.05 1455.57 1328.05 1452.54 Q1328.05 1449.49 1326.55 1447.74 Q1325.06 1445.99 1322.5 1445.99 M1330.05 1434.09 L1330.05 1437.55 Q1328.62 1436.87 1327.15 1436.51 Q1325.7 1436.16 1324.27 1436.16 Q1320.51 1436.16 1318.52 1438.69 Q1316.54 1441.23 1316.26 1446.37 Q1317.37 1444.73 1319.04 1443.87 Q1320.72 1442.98 1322.73 1442.98 Q1326.96 1442.98 1329.41 1445.56 Q1331.87 1448.12 1331.87 1452.54 Q1331.87 1456.86 1329.31 1459.48 Q1326.76 1462.09 1322.5 1462.09 Q1317.63 1462.09 1315.06 1458.37 Q1312.48 1454.62 1312.48 1447.53 Q1312.48 1440.88 1315.64 1436.93 Q1318.8 1432.96 1324.12 1432.96 Q1325.55 1432.96 1327 1433.24 Q1328.47 1433.52 1330.05 1434.09 Z\" fill=\"#000000\" fill-rule=\"evenodd\" fill-opacity=\"1\" /><path clip-path=\"url(#clip800)\" d=\"M1686.04 1470.32 Q1689.4 1471.04 1691.27 1473.31 Q1693.17 1475.58 1693.17 1478.91 Q1693.17 1484.03 1689.65 1486.83 Q1686.13 1489.63 1679.65 1489.63 Q1677.48 1489.63 1675.16 1489.19 Q1672.87 1488.77 1670.41 1487.91 L1670.41 1483.4 Q1672.36 1484.54 1674.67 1485.11 Q1676.99 1485.69 1679.51 1485.69 Q1683.91 1485.69 1686.2 1483.96 Q1688.52 1482.22 1688.52 1478.91 Q1688.52 1475.85 1686.36 1474.14 Q1684.23 1472.41 1680.41 1472.41 L1676.39 1472.41 L1676.39 1468.56 L1680.6 1468.56 Q1684.05 1468.56 1685.88 1467.2 Q1687.71 1465.81 1687.71 1463.22 Q1687.71 1460.55 1685.81 1459.14 Q1683.93 1457.71 1680.41 1457.71 Q1678.49 1457.71 1676.29 1458.12 Q1674.1 1458.54 1671.46 1459.42 L1671.46 1455.25 Q1674.12 1454.51 1676.43 1454.14 Q1678.77 1453.77 1680.83 1453.77 Q1686.16 1453.77 1689.26 1456.2 Q1692.36 1458.61 1692.36 1462.73 Q1692.36 1465.6 1690.72 1467.59 Q1689.07 1469.56 1686.04 1470.32 Z\" fill=\"#000000\" fill-rule=\"evenodd\" fill-opacity=\"1\" /><path clip-path=\"url(#clip800)\" d=\"M1702.04 1483.08 L1706.92 1483.08 L1706.92 1488.96 L1702.04 1488.96 L1702.04 1483.08 Z\" fill=\"#000000\" fill-rule=\"evenodd\" fill-opacity=\"1\" /><path clip-path=\"url(#clip800)\" d=\"M1727.1 1457.48 Q1723.49 1457.48 1721.66 1461.04 Q1719.86 1464.58 1719.86 1471.71 Q1719.86 1478.82 1721.66 1482.38 Q1723.49 1485.92 1727.1 1485.92 Q1730.74 1485.92 1732.54 1482.38 Q1734.37 1478.82 1734.37 1471.71 Q1734.37 1464.58 1732.54 1461.04 Q1730.74 1457.48 1727.1 1457.48 M1727.1 1453.77 Q1732.91 1453.77 1735.97 1458.38 Q1739.05 1462.96 1739.05 1471.71 Q1739.05 1480.44 1735.97 1485.04 Q1732.91 1489.63 1727.1 1489.63 Q1721.29 1489.63 1718.22 1485.04 Q1715.16 1480.44 1715.16 1471.71 Q1715.16 1462.96 1718.22 1458.38 Q1721.29 1453.77 1727.1 1453.77 Z\" fill=\"#000000\" fill-rule=\"evenodd\" fill-opacity=\"1\" /><path clip-path=\"url(#clip800)\" d=\"M1775.44 1463.49 L1764.86 1474.12 L1775.44 1484.7 L1772.68 1487.5 L1762.06 1476.87 L1751.43 1487.5 L1748.7 1484.7 L1759.26 1474.12 L1748.7 1463.49 L1751.43 1460.69 L1762.06 1471.32 L1772.68 1460.69 L1775.44 1463.49 Z\" fill=\"#000000\" fill-rule=\"evenodd\" fill-opacity=\"1\" /><path clip-path=\"url(#clip800)\" d=\"M1787.8 1485.02 L1795.44 1485.02 L1795.44 1458.66 L1787.13 1460.32 L1787.13 1456.06 L1795.39 1454.4 L1800.07 1454.4 L1800.07 1485.02 L1807.71 1485.02 L1807.71 1488.96 L1787.8 1488.96 L1787.8 1485.02 Z\" fill=\"#000000\" fill-rule=\"evenodd\" fill-opacity=\"1\" /><path clip-path=\"url(#clip800)\" d=\"M1827.15 1457.48 Q1823.54 1457.48 1821.71 1461.04 Q1819.9 1464.58 1819.9 1471.71 Q1819.9 1478.82 1821.71 1482.38 Q1823.54 1485.92 1827.15 1485.92 Q1830.78 1485.92 1832.59 1482.38 Q1834.42 1478.82 1834.42 1471.71 Q1834.42 1464.58 1832.59 1461.04 Q1830.78 1457.48 1827.15 1457.48 M1827.15 1453.77 Q1832.96 1453.77 1836.02 1458.38 Q1839.09 1462.96 1839.09 1471.71 Q1839.09 1480.44 1836.02 1485.04 Q1832.96 1489.63 1827.15 1489.63 Q1821.34 1489.63 1818.26 1485.04 Q1815.21 1480.44 1815.21 1471.71 Q1815.21 1462.96 1818.26 1458.38 Q1821.34 1453.77 1827.15 1453.77 Z\" fill=\"#000000\" fill-rule=\"evenodd\" fill-opacity=\"1\" /><path clip-path=\"url(#clip800)\" d=\"M1849.12 1445.99 Q1846.56 1445.99 1845.06 1447.74 Q1843.57 1449.49 1843.57 1452.54 Q1843.57 1455.57 1845.06 1457.33 Q1846.56 1459.08 1849.12 1459.08 Q1851.68 1459.08 1853.16 1457.33 Q1854.67 1455.57 1854.67 1452.54 Q1854.67 1449.49 1853.16 1447.74 Q1851.68 1445.99 1849.12 1445.99 M1856.66 1434.09 L1856.66 1437.55 Q1855.23 1436.87 1853.76 1436.51 Q1852.32 1436.16 1850.89 1436.16 Q1847.13 1436.16 1845.13 1438.69 Q1843.16 1441.23 1842.87 1446.37 Q1843.98 1444.73 1845.66 1443.87 Q1847.33 1442.98 1849.34 1442.98 Q1853.58 1442.98 1856.02 1445.56 Q1858.49 1448.12 1858.49 1452.54 Q1858.49 1456.86 1855.93 1459.48 Q1853.37 1462.09 1849.12 1462.09 Q1844.25 1462.09 1841.67 1458.37 Q1839.09 1454.62 1839.09 1447.53 Q1839.09 1440.88 1842.25 1436.93 Q1845.41 1432.96 1850.74 1432.96 Q1852.17 1432.96 1853.61 1433.24 Q1855.08 1433.52 1856.66 1434.09 Z\" fill=\"#000000\" fill-rule=\"evenodd\" fill-opacity=\"1\" /><path clip-path=\"url(#clip800)\" d=\"M2212.05 1458.47 L2200.25 1476.92 L2212.05 1476.92 L2212.05 1458.47 M2210.83 1454.4 L2216.71 1454.4 L2216.71 1476.92 L2221.64 1476.92 L2221.64 1480.81 L2216.71 1480.81 L2216.71 1488.96 L2212.05 1488.96 L2212.05 1480.81 L2196.45 1480.81 L2196.45 1476.29 L2210.83 1454.4 Z\" fill=\"#000000\" fill-rule=\"evenodd\" fill-opacity=\"1\" /><path clip-path=\"url(#clip800)\" d=\"M2229.37 1483.08 L2234.25 1483.08 L2234.25 1488.96 L2229.37 1488.96 L2229.37 1483.08 Z\" fill=\"#000000\" fill-rule=\"evenodd\" fill-opacity=\"1\" /><path clip-path=\"url(#clip800)\" d=\"M2254.44 1457.48 Q2250.83 1457.48 2249 1461.04 Q2247.19 1464.58 2247.19 1471.71 Q2247.19 1478.82 2249 1482.38 Q2250.83 1485.92 2254.44 1485.92 Q2258.07 1485.92 2259.88 1482.38 Q2261.7 1478.82 2261.7 1471.71 Q2261.7 1464.58 2259.88 1461.04 Q2258.07 1457.48 2254.44 1457.48 M2254.44 1453.77 Q2260.25 1453.77 2263.3 1458.38 Q2266.38 1462.96 2266.38 1471.71 Q2266.38 1480.44 2263.3 1485.04 Q2260.25 1489.63 2254.44 1489.63 Q2248.63 1489.63 2245.55 1485.04 Q2242.49 1480.44 2242.49 1471.71 Q2242.49 1462.96 2245.55 1458.38 Q2248.63 1453.77 2254.44 1453.77 Z\" fill=\"#000000\" fill-rule=\"evenodd\" fill-opacity=\"1\" /><path clip-path=\"url(#clip800)\" d=\"M2302.77 1463.49 L2292.19 1474.12 L2302.77 1484.7 L2300.01 1487.5 L2289.39 1476.87 L2278.76 1487.5 L2276.03 1484.7 L2286.59 1474.12 L2276.03 1463.49 L2278.76 1460.69 L2289.39 1471.32 L2300.01 1460.69 L2302.77 1463.49 Z\" fill=\"#000000\" fill-rule=\"evenodd\" fill-opacity=\"1\" /><path clip-path=\"url(#clip800)\" d=\"M2315.13 1485.02 L2322.77 1485.02 L2322.77 1458.66 L2314.46 1460.32 L2314.46 1456.06 L2322.72 1454.4 L2327.4 1454.4 L2327.4 1485.02 L2335.04 1485.02 L2335.04 1488.96 L2315.13 1488.96 L2315.13 1485.02 Z\" fill=\"#000000\" fill-rule=\"evenodd\" fill-opacity=\"1\" /><path clip-path=\"url(#clip800)\" d=\"M2354.48 1457.48 Q2350.87 1457.48 2349.04 1461.04 Q2347.24 1464.58 2347.24 1471.71 Q2347.24 1478.82 2349.04 1482.38 Q2350.87 1485.92 2354.48 1485.92 Q2358.12 1485.92 2359.92 1482.38 Q2361.75 1478.82 2361.75 1471.71 Q2361.75 1464.58 2359.92 1461.04 Q2358.12 1457.48 2354.48 1457.48 M2354.48 1453.77 Q2360.29 1453.77 2363.35 1458.38 Q2366.43 1462.96 2366.43 1471.71 Q2366.43 1480.44 2363.35 1485.04 Q2360.29 1489.63 2354.48 1489.63 Q2348.67 1489.63 2345.59 1485.04 Q2342.54 1480.44 2342.54 1471.71 Q2342.54 1462.96 2345.59 1458.38 Q2348.67 1453.77 2354.48 1453.77 Z\" fill=\"#000000\" fill-rule=\"evenodd\" fill-opacity=\"1\" /><path clip-path=\"url(#clip800)\" d=\"M2376.45 1445.99 Q2373.89 1445.99 2372.39 1447.74 Q2370.9 1449.49 2370.9 1452.54 Q2370.9 1455.57 2372.39 1457.33 Q2373.89 1459.08 2376.45 1459.08 Q2379.01 1459.08 2380.49 1457.33 Q2382 1455.57 2382 1452.54 Q2382 1449.49 2380.49 1447.74 Q2379.01 1445.99 2376.45 1445.99 M2383.99 1434.09 L2383.99 1437.55 Q2382.56 1436.87 2381.1 1436.51 Q2379.65 1436.16 2378.22 1436.16 Q2374.46 1436.16 2372.46 1438.69 Q2370.49 1441.23 2370.21 1446.37 Q2371.32 1444.73 2372.99 1443.87 Q2374.66 1442.98 2376.68 1442.98 Q2380.91 1442.98 2383.35 1445.56 Q2385.82 1448.12 2385.82 1452.54 Q2385.82 1456.86 2383.26 1459.48 Q2380.7 1462.09 2376.45 1462.09 Q2371.58 1462.09 2369 1458.37 Q2366.43 1454.62 2366.43 1447.53 Q2366.43 1440.88 2369.59 1436.93 Q2372.75 1432.96 2378.07 1432.96 Q2379.5 1432.96 2380.95 1433.24 Q2382.41 1433.52 2383.99 1434.09 Z\" fill=\"#000000\" fill-rule=\"evenodd\" fill-opacity=\"1\" /><path clip-path=\"url(#clip800)\" d=\"M1113.66 1526.67 L1120.09 1526.67 L1120.09 1574.19 L1113.66 1574.19 L1113.66 1526.67 Z\" fill=\"#000000\" fill-rule=\"evenodd\" fill-opacity=\"1\" /><path clip-path=\"url(#clip800)\" d=\"M1138.43 1528.42 L1138.43 1538.54 L1150.49 1538.54 L1150.49 1543.09 L1138.43 1543.09 L1138.43 1562.44 Q1138.43 1566.8 1139.6 1568.04 Q1140.81 1569.28 1144.47 1569.28 L1150.49 1569.28 L1150.49 1574.19 L1144.47 1574.19 Q1137.69 1574.19 1135.12 1571.67 Q1132.54 1569.12 1132.54 1562.44 L1132.54 1543.09 L1128.24 1543.09 L1128.24 1538.54 L1132.54 1538.54 L1132.54 1528.42 L1138.43 1528.42 Z\" fill=\"#000000\" fill-rule=\"evenodd\" fill-opacity=\"1\" /><path clip-path=\"url(#clip800)\" d=\"M1188.68 1554.9 L1188.68 1557.76 L1161.76 1557.76 Q1162.14 1563.81 1165.38 1566.99 Q1168.66 1570.14 1174.49 1570.14 Q1177.86 1570.14 1181.01 1569.32 Q1184.2 1568.49 1187.31 1566.83 L1187.31 1572.37 Q1184.16 1573.71 1180.85 1574.41 Q1177.54 1575.11 1174.14 1575.11 Q1165.61 1575.11 1160.61 1570.14 Q1155.64 1565.18 1155.64 1556.71 Q1155.64 1547.96 1160.36 1542.83 Q1165.1 1537.68 1173.12 1537.68 Q1180.31 1537.68 1184.48 1542.33 Q1188.68 1546.94 1188.68 1554.9 M1182.83 1553.18 Q1182.76 1548.37 1180.12 1545.51 Q1177.51 1542.64 1173.18 1542.64 Q1168.28 1542.64 1165.32 1545.41 Q1162.39 1548.18 1161.95 1553.21 L1182.83 1553.18 Z\" fill=\"#000000\" fill-rule=\"evenodd\" fill-opacity=\"1\" /><path clip-path=\"url(#clip800)\" d=\"M1218.95 1544.01 Q1217.97 1543.44 1216.79 1543.18 Q1215.64 1542.9 1214.24 1542.9 Q1209.28 1542.9 1206.6 1546.14 Q1203.96 1549.36 1203.96 1555.41 L1203.96 1574.19 L1198.07 1574.19 L1198.07 1538.54 L1203.96 1538.54 L1203.96 1544.08 Q1205.81 1540.83 1208.77 1539.27 Q1211.73 1537.68 1215.96 1537.68 Q1216.56 1537.68 1217.3 1537.77 Q1218.03 1537.84 1218.92 1538 L1218.95 1544.01 Z\" fill=\"#000000\" fill-rule=\"evenodd\" fill-opacity=\"1\" /><path clip-path=\"url(#clip800)\" d=\"M1241.3 1556.27 Q1234.2 1556.27 1231.46 1557.89 Q1228.72 1559.51 1228.72 1563.43 Q1228.72 1566.55 1230.76 1568.39 Q1232.83 1570.21 1236.36 1570.21 Q1241.23 1570.21 1244.16 1566.77 Q1247.12 1563.3 1247.12 1557.57 L1247.12 1556.27 L1241.3 1556.27 M1252.98 1553.85 L1252.98 1574.19 L1247.12 1574.19 L1247.12 1568.77 Q1245.11 1572.02 1242.12 1573.58 Q1239.13 1575.11 1234.8 1575.11 Q1229.33 1575.11 1226.08 1572.05 Q1222.87 1568.97 1222.87 1563.81 Q1222.87 1557.79 1226.88 1554.74 Q1230.92 1551.68 1238.91 1551.68 L1247.12 1551.68 L1247.12 1551.11 Q1247.12 1547.07 1244.45 1544.87 Q1241.8 1542.64 1237 1542.64 Q1233.94 1542.64 1231.05 1543.38 Q1228.15 1544.11 1225.48 1545.57 L1225.48 1540.16 Q1228.69 1538.92 1231.72 1538.31 Q1234.74 1537.68 1237.6 1537.68 Q1245.34 1537.68 1249.16 1541.69 Q1252.98 1545.7 1252.98 1553.85 Z\" fill=\"#000000\" fill-rule=\"evenodd\" fill-opacity=\"1\" /><path clip-path=\"url(#clip800)\" d=\"M1270.83 1528.42 L1270.83 1538.54 L1282.9 1538.54 L1282.9 1543.09 L1270.83 1543.09 L1270.83 1562.44 Q1270.83 1566.8 1272.01 1568.04 Q1273.22 1569.28 1276.88 1569.28 L1282.9 1569.28 L1282.9 1574.19 L1276.88 1574.19 Q1270.1 1574.19 1267.52 1571.67 Q1264.94 1569.12 1264.94 1562.44 L1264.94 1543.09 L1260.65 1543.09 L1260.65 1538.54 L1264.94 1538.54 L1264.94 1528.42 L1270.83 1528.42 Z\" fill=\"#000000\" fill-rule=\"evenodd\" fill-opacity=\"1\" /><path clip-path=\"url(#clip800)\" d=\"M1290.6 1538.54 L1296.45 1538.54 L1296.45 1574.19 L1290.6 1574.19 L1290.6 1538.54 M1290.6 1524.66 L1296.45 1524.66 L1296.45 1532.08 L1290.6 1532.08 L1290.6 1524.66 Z\" fill=\"#000000\" fill-rule=\"evenodd\" fill-opacity=\"1\" /><path clip-path=\"url(#clip800)\" d=\"M1322.52 1542.64 Q1317.81 1542.64 1315.07 1546.34 Q1312.34 1550 1312.34 1556.39 Q1312.34 1562.79 1315.04 1566.48 Q1317.78 1570.14 1322.52 1570.14 Q1327.2 1570.14 1329.94 1566.45 Q1332.68 1562.76 1332.68 1556.39 Q1332.68 1550.06 1329.94 1546.37 Q1327.2 1542.64 1322.52 1542.64 M1322.52 1537.68 Q1330.16 1537.68 1334.52 1542.64 Q1338.88 1547.61 1338.88 1556.39 Q1338.88 1565.15 1334.52 1570.14 Q1330.16 1575.11 1322.52 1575.11 Q1314.85 1575.11 1310.49 1570.14 Q1306.16 1565.15 1306.16 1556.39 Q1306.16 1547.61 1310.49 1542.64 Q1314.85 1537.68 1322.52 1537.68 Z\" fill=\"#000000\" fill-rule=\"evenodd\" fill-opacity=\"1\" /><path clip-path=\"url(#clip800)\" d=\"M1378.22 1552.67 L1378.22 1574.19 L1372.37 1574.19 L1372.37 1552.86 Q1372.37 1547.8 1370.39 1545.29 Q1368.42 1542.77 1364.47 1542.77 Q1359.73 1542.77 1356.99 1545.79 Q1354.25 1548.82 1354.25 1554.04 L1354.25 1574.19 L1348.37 1574.19 L1348.37 1538.54 L1354.25 1538.54 L1354.25 1544.08 Q1356.36 1540.86 1359.19 1539.27 Q1362.05 1537.68 1365.78 1537.68 Q1371.92 1537.68 1375.07 1541.5 Q1378.22 1545.29 1378.22 1552.67 Z\" fill=\"#000000\" fill-rule=\"evenodd\" fill-opacity=\"1\" /><path clip-path=\"url(#clip800)\" d=\"M1412.63 1539.59 L1412.63 1545.13 Q1410.15 1543.85 1407.47 1543.22 Q1404.8 1542.58 1401.93 1542.58 Q1397.57 1542.58 1395.38 1543.92 Q1393.21 1545.25 1393.21 1547.93 Q1393.21 1549.96 1394.77 1551.14 Q1396.33 1552.29 1401.04 1553.34 L1403.05 1553.78 Q1409.29 1555.12 1411.9 1557.57 Q1414.54 1559.99 1414.54 1564.35 Q1414.54 1569.32 1410.59 1572.21 Q1406.68 1575.11 1399.8 1575.11 Q1396.94 1575.11 1393.82 1574.54 Q1390.73 1573.99 1387.29 1572.88 L1387.29 1566.83 Q1390.54 1568.52 1393.69 1569.38 Q1396.84 1570.21 1399.93 1570.21 Q1404.07 1570.21 1406.29 1568.81 Q1408.52 1567.37 1408.52 1564.8 Q1408.52 1562.41 1406.9 1561.14 Q1405.31 1559.86 1399.87 1558.68 L1397.83 1558.21 Q1392.39 1557.06 1389.97 1554.71 Q1387.55 1552.32 1387.55 1548.18 Q1387.55 1543.15 1391.11 1540.42 Q1394.68 1537.68 1401.23 1537.68 Q1404.48 1537.68 1407.34 1538.16 Q1410.21 1538.63 1412.63 1539.59 Z\" fill=\"#000000\" fill-rule=\"evenodd\" fill-opacity=\"1\" /><polyline clip-path=\"url(#clip802)\" style=\"stroke:#000000; stroke-linecap:round; stroke-linejoin:round; stroke-width:2; stroke-opacity:0.1; fill:none\" points=\"\n",
       "  175.445,1351.4 2352.76,1351.4 \n",
       "  \"/>\n",
       "<polyline clip-path=\"url(#clip802)\" style=\"stroke:#000000; stroke-linecap:round; stroke-linejoin:round; stroke-width:2; stroke-opacity:0.1; fill:none\" points=\"\n",
       "  175.445,1034.24 2352.76,1034.24 \n",
       "  \"/>\n",
       "<polyline clip-path=\"url(#clip802)\" style=\"stroke:#000000; stroke-linecap:round; stroke-linejoin:round; stroke-width:2; stroke-opacity:0.1; fill:none\" points=\"\n",
       "  175.445,717.071 2352.76,717.071 \n",
       "  \"/>\n",
       "<polyline clip-path=\"url(#clip802)\" style=\"stroke:#000000; stroke-linecap:round; stroke-linejoin:round; stroke-width:2; stroke-opacity:0.1; fill:none\" points=\"\n",
       "  175.445,399.905 2352.76,399.905 \n",
       "  \"/>\n",
       "<polyline clip-path=\"url(#clip802)\" style=\"stroke:#000000; stroke-linecap:round; stroke-linejoin:round; stroke-width:2; stroke-opacity:0.1; fill:none\" points=\"\n",
       "  175.445,82.7394 2352.76,82.7394 \n",
       "  \"/>\n",
       "<polyline clip-path=\"url(#clip800)\" style=\"stroke:#000000; stroke-linecap:round; stroke-linejoin:round; stroke-width:4; stroke-opacity:1; fill:none\" points=\"\n",
       "  175.445,1410.9 175.445,47.2441 \n",
       "  \"/>\n",
       "<polyline clip-path=\"url(#clip800)\" style=\"stroke:#000000; stroke-linecap:round; stroke-linejoin:round; stroke-width:4; stroke-opacity:1; fill:none\" points=\"\n",
       "  175.445,1351.4 194.343,1351.4 \n",
       "  \"/>\n",
       "<polyline clip-path=\"url(#clip800)\" style=\"stroke:#000000; stroke-linecap:round; stroke-linejoin:round; stroke-width:4; stroke-opacity:1; fill:none\" points=\"\n",
       "  175.445,1034.24 194.343,1034.24 \n",
       "  \"/>\n",
       "<polyline clip-path=\"url(#clip800)\" style=\"stroke:#000000; stroke-linecap:round; stroke-linejoin:round; stroke-width:4; stroke-opacity:1; fill:none\" points=\"\n",
       "  175.445,717.071 194.343,717.071 \n",
       "  \"/>\n",
       "<polyline clip-path=\"url(#clip800)\" style=\"stroke:#000000; stroke-linecap:round; stroke-linejoin:round; stroke-width:4; stroke-opacity:1; fill:none\" points=\"\n",
       "  175.445,399.905 194.343,399.905 \n",
       "  \"/>\n",
       "<polyline clip-path=\"url(#clip800)\" style=\"stroke:#000000; stroke-linecap:round; stroke-linejoin:round; stroke-width:4; stroke-opacity:1; fill:none\" points=\"\n",
       "  175.445,82.7394 194.343,82.7394 \n",
       "  \"/>\n",
       "<path clip-path=\"url(#clip800)\" d=\"M132.316 1350.05 Q135.672 1350.77 137.547 1353.04 Q139.445 1355.3 139.445 1358.64 Q139.445 1363.75 135.927 1366.55 Q132.408 1369.35 125.927 1369.35 Q123.751 1369.35 121.436 1368.91 Q119.144 1368.5 116.691 1367.64 L116.691 1363.13 Q118.635 1364.26 120.95 1364.84 Q123.265 1365.42 125.788 1365.42 Q130.186 1365.42 132.478 1363.68 Q134.792 1361.95 134.792 1358.64 Q134.792 1355.58 132.64 1353.87 Q130.51 1352.13 126.691 1352.13 L122.663 1352.13 L122.663 1348.29 L126.876 1348.29 Q130.325 1348.29 132.154 1346.92 Q133.982 1345.54 133.982 1342.94 Q133.982 1340.28 132.084 1338.87 Q130.209 1337.43 126.691 1337.43 Q124.769 1337.43 122.57 1337.85 Q120.371 1338.27 117.732 1339.15 L117.732 1334.98 Q120.394 1334.24 122.709 1333.87 Q125.047 1333.5 127.107 1333.5 Q132.431 1333.5 135.533 1335.93 Q138.635 1338.34 138.635 1342.46 Q138.635 1345.33 136.992 1347.32 Q135.348 1349.29 132.316 1350.05 Z\" fill=\"#000000\" fill-rule=\"evenodd\" fill-opacity=\"1\" /><path clip-path=\"url(#clip800)\" d=\"M129.862 1021.03 L118.056 1039.48 L129.862 1039.48 L129.862 1021.03 M128.635 1016.96 L134.515 1016.96 L134.515 1039.48 L139.445 1039.48 L139.445 1043.37 L134.515 1043.37 L134.515 1051.52 L129.862 1051.52 L129.862 1043.37 L114.26 1043.37 L114.26 1038.86 L128.635 1016.96 Z\" fill=\"#000000\" fill-rule=\"evenodd\" fill-opacity=\"1\" /><path clip-path=\"url(#clip800)\" d=\"M118.543 699.791 L136.899 699.791 L136.899 703.726 L122.825 703.726 L122.825 712.199 Q123.843 711.851 124.862 711.689 Q125.88 711.504 126.899 711.504 Q132.686 711.504 136.066 714.675 Q139.445 717.847 139.445 723.263 Q139.445 728.842 135.973 731.944 Q132.501 735.023 126.181 735.023 Q124.005 735.023 121.737 734.652 Q119.492 734.282 117.084 733.541 L117.084 728.842 Q119.168 729.976 121.39 730.532 Q123.612 731.087 126.089 731.087 Q130.093 731.087 132.431 728.981 Q134.769 726.874 134.769 723.263 Q134.769 719.652 132.431 717.546 Q130.093 715.439 126.089 715.439 Q124.214 715.439 122.339 715.856 Q120.487 716.273 118.543 717.152 L118.543 699.791 Z\" fill=\"#000000\" fill-rule=\"evenodd\" fill-opacity=\"1\" /><path clip-path=\"url(#clip800)\" d=\"M127.917 398.042 Q124.769 398.042 122.918 400.195 Q121.089 402.347 121.089 406.097 Q121.089 409.824 122.918 412 Q124.769 414.153 127.917 414.153 Q131.066 414.153 132.894 412 Q134.746 409.824 134.746 406.097 Q134.746 402.347 132.894 400.195 Q131.066 398.042 127.917 398.042 M137.2 383.389 L137.2 387.648 Q135.441 386.815 133.635 386.375 Q131.853 385.935 130.093 385.935 Q125.464 385.935 123.01 389.06 Q120.58 392.185 120.232 398.505 Q121.598 396.491 123.658 395.426 Q125.718 394.338 128.195 394.338 Q133.404 394.338 136.413 397.509 Q139.445 400.658 139.445 406.097 Q139.445 411.421 136.297 414.639 Q133.149 417.857 127.917 417.857 Q121.922 417.857 118.751 413.273 Q115.58 408.667 115.58 399.94 Q115.58 391.746 119.468 386.885 Q123.357 382 129.908 382 Q131.667 382 133.45 382.348 Q135.255 382.695 137.2 383.389 Z\" fill=\"#000000\" fill-rule=\"evenodd\" fill-opacity=\"1\" /><path clip-path=\"url(#clip800)\" d=\"M117.223 65.4594 L139.445 65.4594 L139.445 67.4501 L126.899 100.019 L122.015 100.019 L133.82 69.3945 L117.223 69.3945 L117.223 65.4594 Z\" fill=\"#000000\" fill-rule=\"evenodd\" fill-opacity=\"1\" /><path clip-path=\"url(#clip800)\" d=\"M22.818 978.129 L46.4666 986.85 L46.4666 969.376 L22.818 978.129 M16.4842 981.757 L16.4842 974.468 L64.0042 956.358 L64.0042 963.042 L51.8138 967.371 L51.8138 988.791 L64.0042 993.12 L64.0042 999.899 L16.4842 981.757 Z\" fill=\"#000000\" fill-rule=\"evenodd\" fill-opacity=\"1\" /><path clip-path=\"url(#clip800)\" d=\"M28.3562 957.695 L28.3562 951.488 L58.275 940.348 L28.3562 929.208 L28.3562 923.002 L64.0042 936.37 L64.0042 944.327 L28.3562 957.695 Z\" fill=\"#000000\" fill-rule=\"evenodd\" fill-opacity=\"1\" /><path clip-path=\"url(#clip800)\" d=\"M44.7161 884.425 L47.5806 884.425 L47.5806 911.352 Q53.6281 910.97 56.8109 907.724 Q59.9619 904.446 59.9619 898.621 Q59.9619 895.247 59.1344 892.096 Q58.3069 888.913 56.6518 885.794 L62.1899 885.794 Q63.5267 888.945 64.227 892.255 Q64.9272 895.565 64.9272 898.971 Q64.9272 907.501 59.9619 912.498 Q54.9967 917.463 46.5303 917.463 Q37.7774 917.463 32.6531 912.753 Q27.4968 908.01 27.4968 899.99 Q27.4968 892.796 32.1438 888.627 Q36.7589 884.425 44.7161 884.425 M42.9973 890.282 Q38.1912 890.346 35.3266 892.987 Q32.4621 895.597 32.4621 899.926 Q32.4621 904.828 35.2312 907.788 Q38.0002 910.716 43.0292 911.161 L42.9973 890.282 Z\" fill=\"#000000\" fill-rule=\"evenodd\" fill-opacity=\"1\" /><path clip-path=\"url(#clip800)\" d=\"M33.8307 854.157 Q33.2578 855.143 33.0032 856.321 Q32.7167 857.467 32.7167 858.867 Q32.7167 863.832 35.9632 866.506 Q39.1779 869.148 45.2253 869.148 L64.0042 869.148 L64.0042 875.036 L28.3562 875.036 L28.3562 869.148 L33.8944 869.148 Q30.6479 867.302 29.0883 864.342 Q27.4968 861.382 27.4968 857.148 Q27.4968 856.544 27.5923 855.812 Q27.656 855.08 27.8151 854.188 L33.8307 854.157 Z\" fill=\"#000000\" fill-rule=\"evenodd\" fill-opacity=\"1\" /><path clip-path=\"url(#clip800)\" d=\"M46.0847 831.813 Q46.0847 838.911 47.7079 841.648 Q49.3312 844.385 53.2461 844.385 Q56.3653 844.385 58.2114 842.348 Q60.0256 840.279 60.0256 836.746 Q60.0256 831.877 56.5881 828.948 Q53.1188 825.988 47.3897 825.988 L46.0847 825.988 L46.0847 831.813 M43.6657 820.132 L64.0042 820.132 L64.0042 825.988 L58.5933 825.988 Q61.8398 827.993 63.3994 830.985 Q64.9272 833.977 64.9272 838.306 Q64.9272 843.78 61.8716 847.027 Q58.7843 850.242 53.6281 850.242 Q47.6125 850.242 44.5569 846.231 Q41.5014 842.189 41.5014 834.2 L41.5014 825.988 L40.9285 825.988 Q36.8862 825.988 34.6901 828.662 Q32.4621 831.304 32.4621 836.11 Q32.4621 839.165 33.1941 842.062 Q33.9262 844.958 35.3903 847.632 L29.9795 847.632 Q28.7381 844.417 28.1334 841.393 Q27.4968 838.37 27.4968 835.505 Q27.4968 827.771 31.5072 823.951 Q35.5176 820.132 43.6657 820.132 Z\" fill=\"#000000\" fill-rule=\"evenodd\" fill-opacity=\"1\" /><path clip-path=\"url(#clip800)\" d=\"M45.7664 784.611 Q39.4007 784.611 35.8996 787.253 Q32.3984 789.863 32.3984 794.605 Q32.3984 799.316 35.8996 801.958 Q39.4007 804.568 45.7664 804.568 Q52.1003 804.568 55.6014 801.958 Q59.1026 799.316 59.1026 794.605 Q59.1026 789.863 55.6014 787.253 Q52.1003 784.611 45.7664 784.611 M59.58 778.755 Q68.683 778.755 73.1071 782.797 Q77.5631 786.839 77.5631 795.178 Q77.5631 798.266 77.0857 801.003 Q76.6401 803.74 75.6852 806.318 L69.9879 806.318 Q71.3884 803.74 72.0568 801.226 Q72.7252 798.711 72.7252 796.101 Q72.7252 790.34 69.7015 787.476 Q66.7096 784.611 60.6303 784.611 L57.7339 784.611 Q60.885 786.425 62.4446 789.258 Q64.0042 792.091 64.0042 796.038 Q64.0042 802.594 59.0071 806.605 Q54.01 810.615 45.7664 810.615 Q37.491 810.615 32.4939 806.605 Q27.4968 802.594 27.4968 796.038 Q27.4968 792.091 29.0564 789.258 Q30.616 786.425 33.7671 784.611 L28.3562 784.611 L28.3562 778.755 L59.58 778.755 Z\" fill=\"#000000\" fill-rule=\"evenodd\" fill-opacity=\"1\" /><path clip-path=\"url(#clip800)\" d=\"M44.7161 736.2 L47.5806 736.2 L47.5806 763.127 Q53.6281 762.745 56.8109 759.498 Q59.9619 756.22 59.9619 750.395 Q59.9619 747.022 59.1344 743.871 Q58.3069 740.688 56.6518 737.569 L62.1899 737.569 Q63.5267 740.72 64.227 744.03 Q64.9272 747.34 64.9272 750.746 Q64.9272 759.276 59.9619 764.273 Q54.9967 769.238 46.5303 769.238 Q37.7774 769.238 32.6531 764.527 Q27.4968 759.785 27.4968 751.764 Q27.4968 744.571 32.1438 740.401 Q36.7589 736.2 44.7161 736.2 M42.9973 742.056 Q38.1912 742.12 35.3266 744.762 Q32.4621 747.372 32.4621 751.7 Q32.4621 756.602 35.2312 759.562 Q38.0002 762.49 43.0292 762.936 L42.9973 742.056 Z\" fill=\"#000000\" fill-rule=\"evenodd\" fill-opacity=\"1\" /><path clip-path=\"url(#clip800)\" d=\"M64.0042 693.359 L16.4842 711.501 L16.4842 704.785 L56.4926 689.73 L16.4842 674.644 L16.4842 667.96 L64.0042 686.07 L64.0042 693.359 Z\" fill=\"#000000\" fill-rule=\"evenodd\" fill-opacity=\"1\" /><path clip-path=\"url(#clip800)\" d=\"M44.7161 635.845 L47.5806 635.845 L47.5806 662.772 Q53.6281 662.39 56.8109 659.143 Q59.9619 655.865 59.9619 650.04 Q59.9619 646.666 59.1344 643.515 Q58.3069 640.332 56.6518 637.213 L62.1899 637.213 Q63.5267 640.364 64.227 643.674 Q64.9272 646.985 64.9272 650.39 Q64.9272 658.92 59.9619 663.917 Q54.9967 668.883 46.5303 668.883 Q37.7774 668.883 32.6531 664.172 Q27.4968 659.43 27.4968 651.409 Q27.4968 644.215 32.1438 640.046 Q36.7589 635.845 44.7161 635.845 M42.9973 641.701 Q38.1912 641.765 35.3266 644.406 Q32.4621 647.016 32.4621 651.345 Q32.4621 656.247 35.2312 659.207 Q38.0002 662.135 43.0292 662.581 L42.9973 641.701 Z\" fill=\"#000000\" fill-rule=\"evenodd\" fill-opacity=\"1\" /><path clip-path=\"url(#clip800)\" d=\"M14.479 626.232 L14.479 620.376 L64.0042 620.376 L64.0042 626.232 L14.479 626.232 Z\" fill=\"#000000\" fill-rule=\"evenodd\" fill-opacity=\"1\" /><path clip-path=\"url(#clip800)\" d=\"M32.4621 594.308 Q32.4621 599.019 36.1542 601.756 Q39.8145 604.493 46.212 604.493 Q52.6095 604.493 56.3017 601.788 Q59.9619 599.051 59.9619 594.308 Q59.9619 589.63 56.2698 586.892 Q52.5777 584.155 46.212 584.155 Q39.8781 584.155 36.186 586.892 Q32.4621 589.63 32.4621 594.308 M27.4968 594.308 Q27.4968 586.67 32.4621 582.309 Q37.4273 577.948 46.212 577.948 Q54.9649 577.948 59.9619 582.309 Q64.9272 586.67 64.9272 594.308 Q64.9272 601.979 59.9619 606.34 Q54.9649 610.668 46.212 610.668 Q37.4273 610.668 32.4621 606.34 Q27.4968 601.979 27.4968 594.308 Z\" fill=\"#000000\" fill-rule=\"evenodd\" fill-opacity=\"1\" /><path clip-path=\"url(#clip800)\" d=\"M29.7248 542.587 L35.1993 542.587 Q33.8307 545.07 33.1623 547.584 Q32.4621 550.067 32.4621 552.613 Q32.4621 558.31 36.0905 561.461 Q39.6872 564.612 46.212 564.612 Q52.7369 564.612 56.3653 561.461 Q59.9619 558.31 59.9619 552.613 Q59.9619 550.067 59.2935 547.584 Q58.5933 545.07 57.2247 542.587 L62.6355 542.587 Q63.7814 545.038 64.3543 547.68 Q64.9272 550.289 64.9272 553.25 Q64.9272 561.302 59.8664 566.045 Q54.8057 570.787 46.212 570.787 Q37.491 570.787 32.4939 566.013 Q27.4968 561.207 27.4968 552.868 Q27.4968 550.162 28.0697 547.584 Q28.6108 545.006 29.7248 542.587 Z\" fill=\"#000000\" fill-rule=\"evenodd\" fill-opacity=\"1\" /><path clip-path=\"url(#clip800)\" d=\"M28.3562 532.402 L28.3562 526.545 L64.0042 526.545 L64.0042 532.402 L28.3562 532.402 M14.479 532.402 L14.479 526.545 L21.895 526.545 L21.895 532.402 L14.479 532.402 Z\" fill=\"#000000\" fill-rule=\"evenodd\" fill-opacity=\"1\" /><path clip-path=\"url(#clip800)\" d=\"M18.2347 508.499 L28.3562 508.499 L28.3562 496.436 L32.9077 496.436 L32.9077 508.499 L52.2594 508.499 Q56.6199 508.499 57.8613 507.321 Q59.1026 506.111 59.1026 502.451 L59.1026 496.436 L64.0042 496.436 L64.0042 502.451 Q64.0042 509.231 61.4897 511.809 Q58.9434 514.387 52.2594 514.387 L32.9077 514.387 L32.9077 518.684 L28.3562 518.684 L28.3562 514.387 L18.2347 514.387 L18.2347 508.499 Z\" fill=\"#000000\" fill-rule=\"evenodd\" fill-opacity=\"1\" /><path clip-path=\"url(#clip800)\" d=\"M67.3143 473.901 Q73.68 476.384 75.6216 478.739 Q77.5631 481.094 77.5631 485.041 L77.5631 489.72 L72.6615 489.72 L72.6615 486.282 Q72.6615 483.863 71.5157 482.527 Q70.3699 481.19 66.1048 479.566 L63.4312 478.516 L28.3562 492.934 L28.3562 486.728 L56.238 475.588 L28.3562 464.448 L28.3562 458.241 L67.3143 473.901 Z\" fill=\"#000000\" fill-rule=\"evenodd\" fill-opacity=\"1\" /><polyline clip-path=\"url(#clip802)\" style=\"stroke:#009af9; stroke-linecap:round; stroke-linejoin:round; stroke-width:4; stroke-opacity:1; fill:none\" points=\"\n",
       "  237.067,1372.3 289.736,1207.31 342.404,1065.68 395.072,988.209 447.741,869.244 500.409,764.234 553.077,692.366 605.746,658.498 658.414,624.643 711.083,519.187 \n",
       "  763.751,486.881 816.419,436.223 869.088,398.921 921.756,380.918 974.424,397.606 1027.09,347.056 1079.76,368.194 1132.43,339.868 1185.1,271.288 1237.77,258.647 \n",
       "  1290.43,258.893 1343.1,251.856 1395.77,311.159 1448.44,225.218 1501.11,202.021 1553.78,178.451 1606.45,162.826 1659.11,176.069 1711.78,188.463 1764.45,138.109 \n",
       "  1817.12,142.529 1869.79,148.491 1922.46,130.008 1975.12,117.462 2027.79,115.592 2080.46,126.289 2133.13,96.0393 2185.8,133.964 2238.47,108.544 2291.13,85.838 \n",
       "  \n",
       "  \"/>\n",
       "</svg>\n"
      ]
     },
     "execution_count": 47,
     "metadata": {},
     "output_type": "execute_result"
    }
   ],
   "source": [
    "plot(iterations, avg_velocity, xlabel=\"Iterations\", ylabel=\"Average Velocity\", legend = false, xformatter = :scientific)"
   ]
  },
  {
   "cell_type": "code",
   "execution_count": 48,
   "id": "c3113dc1",
   "metadata": {},
   "outputs": [
    {
     "data": {
      "text/plain": [
       "\"/home/larissa/Documents/Projects/ADLR/ADLR_project/src/RL_PPO_quadcopter_3D/office_test/plots/fast/avg_velocity.svg\""
      ]
     },
     "execution_count": 48,
     "metadata": {},
     "output_type": "execute_result"
    }
   ],
   "source": [
    "savefig(fig_path * \"avg_velocity.svg\")"
   ]
  },
  {
   "cell_type": "code",
   "execution_count": 49,
   "id": "1b4de56f",
   "metadata": {},
   "outputs": [
    {
     "data": {
      "image/svg+xml": [
       "<?xml version=\"1.0\" encoding=\"utf-8\"?>\n",
       "<svg xmlns=\"http://www.w3.org/2000/svg\" xmlns:xlink=\"http://www.w3.org/1999/xlink\" width=\"600\" height=\"400\" viewBox=\"0 0 2400 1600\">\n",
       "<defs>\n",
       "  <clipPath id=\"clip880\">\n",
       "    <rect x=\"0\" y=\"0\" width=\"2400\" height=\"1600\"/>\n",
       "  </clipPath>\n",
       "</defs>\n",
       "<path clip-path=\"url(#clip880)\" d=\"\n",
       "M0 1600 L2400 1600 L2400 0 L0 0  Z\n",
       "  \" fill=\"#ffffff\" fill-rule=\"evenodd\" fill-opacity=\"1\"/>\n",
       "<defs>\n",
       "  <clipPath id=\"clip881\">\n",
       "    <rect x=\"480\" y=\"0\" width=\"1681\" height=\"1600\"/>\n",
       "  </clipPath>\n",
       "</defs>\n",
       "<path clip-path=\"url(#clip880)\" d=\"\n",
       "M175.445 1410.9 L2352.76 1410.9 L2352.76 47.2441 L175.445 47.2441  Z\n",
       "  \" fill=\"#ffffff\" fill-rule=\"evenodd\" fill-opacity=\"1\"/>\n",
       "<defs>\n",
       "  <clipPath id=\"clip882\">\n",
       "    <rect x=\"175\" y=\"47\" width=\"2178\" height=\"1365\"/>\n",
       "  </clipPath>\n",
       "</defs>\n",
       "<polyline clip-path=\"url(#clip882)\" style=\"stroke:#000000; stroke-linecap:round; stroke-linejoin:round; stroke-width:2; stroke-opacity:0.1; fill:none\" points=\"\n",
       "  184.399,1410.9 184.399,47.2441 \n",
       "  \"/>\n",
       "<polyline clip-path=\"url(#clip882)\" style=\"stroke:#000000; stroke-linecap:round; stroke-linejoin:round; stroke-width:2; stroke-opacity:0.1; fill:none\" points=\"\n",
       "  711.083,1410.9 711.083,47.2441 \n",
       "  \"/>\n",
       "<polyline clip-path=\"url(#clip882)\" style=\"stroke:#000000; stroke-linecap:round; stroke-linejoin:round; stroke-width:2; stroke-opacity:0.1; fill:none\" points=\"\n",
       "  1237.77,1410.9 1237.77,47.2441 \n",
       "  \"/>\n",
       "<polyline clip-path=\"url(#clip882)\" style=\"stroke:#000000; stroke-linecap:round; stroke-linejoin:round; stroke-width:2; stroke-opacity:0.1; fill:none\" points=\"\n",
       "  1764.45,1410.9 1764.45,47.2441 \n",
       "  \"/>\n",
       "<polyline clip-path=\"url(#clip882)\" style=\"stroke:#000000; stroke-linecap:round; stroke-linejoin:round; stroke-width:2; stroke-opacity:0.1; fill:none\" points=\"\n",
       "  2291.13,1410.9 2291.13,47.2441 \n",
       "  \"/>\n",
       "<polyline clip-path=\"url(#clip880)\" style=\"stroke:#000000; stroke-linecap:round; stroke-linejoin:round; stroke-width:4; stroke-opacity:1; fill:none\" points=\"\n",
       "  175.445,1410.9 2352.76,1410.9 \n",
       "  \"/>\n",
       "<polyline clip-path=\"url(#clip880)\" style=\"stroke:#000000; stroke-linecap:round; stroke-linejoin:round; stroke-width:4; stroke-opacity:1; fill:none\" points=\"\n",
       "  184.399,1410.9 184.399,1392 \n",
       "  \"/>\n",
       "<polyline clip-path=\"url(#clip880)\" style=\"stroke:#000000; stroke-linecap:round; stroke-linejoin:round; stroke-width:4; stroke-opacity:1; fill:none\" points=\"\n",
       "  711.083,1410.9 711.083,1392 \n",
       "  \"/>\n",
       "<polyline clip-path=\"url(#clip880)\" style=\"stroke:#000000; stroke-linecap:round; stroke-linejoin:round; stroke-width:4; stroke-opacity:1; fill:none\" points=\"\n",
       "  1237.77,1410.9 1237.77,1392 \n",
       "  \"/>\n",
       "<polyline clip-path=\"url(#clip880)\" style=\"stroke:#000000; stroke-linecap:round; stroke-linejoin:round; stroke-width:4; stroke-opacity:1; fill:none\" points=\"\n",
       "  1764.45,1410.9 1764.45,1392 \n",
       "  \"/>\n",
       "<polyline clip-path=\"url(#clip880)\" style=\"stroke:#000000; stroke-linecap:round; stroke-linejoin:round; stroke-width:4; stroke-opacity:1; fill:none\" points=\"\n",
       "  2291.13,1410.9 2291.13,1392 \n",
       "  \"/>\n",
       "<path clip-path=\"url(#clip880)\" d=\"M184.399 1441.82 Q180.788 1441.82 178.959 1445.38 Q177.154 1448.92 177.154 1456.05 Q177.154 1463.16 178.959 1466.72 Q180.788 1470.26 184.399 1470.26 Q188.033 1470.26 189.839 1466.72 Q191.667 1463.16 191.667 1456.05 Q191.667 1448.92 189.839 1445.38 Q188.033 1441.82 184.399 1441.82 M184.399 1438.11 Q190.209 1438.11 193.265 1442.72 Q196.343 1447.3 196.343 1456.05 Q196.343 1464.78 193.265 1469.38 Q190.209 1473.97 184.399 1473.97 Q178.589 1473.97 175.51 1469.38 Q172.454 1464.78 172.454 1456.05 Q172.454 1447.3 175.51 1442.72 Q178.589 1438.11 184.399 1438.11 Z\" fill=\"#000000\" fill-rule=\"evenodd\" fill-opacity=\"1\" /><path clip-path=\"url(#clip880)\" d=\"M618.517 1485.02 L626.156 1485.02 L626.156 1458.66 L617.846 1460.32 L617.846 1456.06 L626.11 1454.4 L630.786 1454.4 L630.786 1485.02 L638.425 1485.02 L638.425 1488.96 L618.517 1488.96 L618.517 1485.02 Z\" fill=\"#000000\" fill-rule=\"evenodd\" fill-opacity=\"1\" /><path clip-path=\"url(#clip880)\" d=\"M647.869 1483.08 L652.753 1483.08 L652.753 1488.96 L647.869 1488.96 L647.869 1483.08 Z\" fill=\"#000000\" fill-rule=\"evenodd\" fill-opacity=\"1\" /><path clip-path=\"url(#clip880)\" d=\"M672.938 1457.48 Q669.327 1457.48 667.498 1461.04 Q665.693 1464.58 665.693 1471.71 Q665.693 1478.82 667.498 1482.38 Q669.327 1485.92 672.938 1485.92 Q676.573 1485.92 678.378 1482.38 Q680.207 1478.82 680.207 1471.71 Q680.207 1464.58 678.378 1461.04 Q676.573 1457.48 672.938 1457.48 M672.938 1453.77 Q678.748 1453.77 681.804 1458.38 Q684.883 1462.96 684.883 1471.71 Q684.883 1480.44 681.804 1485.04 Q678.748 1489.63 672.938 1489.63 Q667.128 1489.63 664.049 1485.04 Q660.994 1480.44 660.994 1471.71 Q660.994 1462.96 664.049 1458.38 Q667.128 1453.77 672.938 1453.77 Z\" fill=\"#000000\" fill-rule=\"evenodd\" fill-opacity=\"1\" /><path clip-path=\"url(#clip880)\" d=\"M721.271 1463.49 L710.693 1474.12 L721.271 1484.7 L718.517 1487.5 L707.892 1476.87 L697.267 1487.5 L694.535 1484.7 L705.091 1474.12 L694.535 1463.49 L697.267 1460.69 L707.892 1471.32 L718.517 1460.69 L721.271 1463.49 Z\" fill=\"#000000\" fill-rule=\"evenodd\" fill-opacity=\"1\" /><path clip-path=\"url(#clip880)\" d=\"M733.632 1485.02 L741.271 1485.02 L741.271 1458.66 L732.961 1460.32 L732.961 1456.06 L741.225 1454.4 L745.901 1454.4 L745.901 1485.02 L753.54 1485.02 L753.54 1488.96 L733.632 1488.96 L733.632 1485.02 Z\" fill=\"#000000\" fill-rule=\"evenodd\" fill-opacity=\"1\" /><path clip-path=\"url(#clip880)\" d=\"M772.984 1457.48 Q769.373 1457.48 767.544 1461.04 Q765.739 1464.58 765.739 1471.71 Q765.739 1478.82 767.544 1482.38 Q769.373 1485.92 772.984 1485.92 Q776.618 1485.92 778.424 1482.38 Q780.253 1478.82 780.253 1471.71 Q780.253 1464.58 778.424 1461.04 Q776.618 1457.48 772.984 1457.48 M772.984 1453.77 Q778.794 1453.77 781.85 1458.38 Q784.928 1462.96 784.928 1471.71 Q784.928 1480.44 781.85 1485.04 Q778.794 1489.63 772.984 1489.63 Q767.174 1489.63 764.095 1485.04 Q761.04 1480.44 761.04 1471.71 Q761.04 1462.96 764.095 1458.38 Q767.174 1453.77 772.984 1453.77 Z\" fill=\"#000000\" fill-rule=\"evenodd\" fill-opacity=\"1\" /><path clip-path=\"url(#clip880)\" d=\"M794.953 1445.99 Q792.395 1445.99 790.89 1447.74 Q789.405 1449.49 789.405 1452.54 Q789.405 1455.57 790.89 1457.33 Q792.395 1459.08 794.953 1459.08 Q797.511 1459.08 798.997 1457.33 Q800.501 1455.57 800.501 1452.54 Q800.501 1449.49 798.997 1447.74 Q797.511 1445.99 794.953 1445.99 M802.495 1434.09 L802.495 1437.55 Q801.065 1436.87 799.598 1436.51 Q798.15 1436.16 796.721 1436.16 Q792.959 1436.16 790.966 1438.69 Q788.991 1441.23 788.709 1446.37 Q789.818 1444.73 791.492 1443.87 Q793.166 1442.98 795.179 1442.98 Q799.41 1442.98 801.855 1445.56 Q804.319 1448.12 804.319 1452.54 Q804.319 1456.86 801.761 1459.48 Q799.204 1462.09 794.953 1462.09 Q790.082 1462.09 787.505 1458.37 Q784.928 1454.62 784.928 1447.53 Q784.928 1440.88 788.088 1436.93 Q791.248 1432.96 796.57 1432.96 Q798 1432.96 799.448 1433.24 Q800.915 1433.52 802.495 1434.09 Z\" fill=\"#000000\" fill-rule=\"evenodd\" fill-opacity=\"1\" /><path clip-path=\"url(#clip880)\" d=\"M1149.29 1485.02 L1165.61 1485.02 L1165.61 1488.96 L1143.66 1488.96 L1143.66 1485.02 Q1146.32 1482.27 1150.91 1477.64 Q1155.51 1472.98 1156.69 1471.64 Q1158.94 1469.12 1159.82 1467.38 Q1160.72 1465.62 1160.72 1463.93 Q1160.72 1461.18 1158.78 1459.44 Q1156.86 1457.71 1153.75 1457.71 Q1151.56 1457.71 1149.1 1458.47 Q1146.67 1459.23 1143.89 1460.79 L1143.89 1456.06 Q1146.72 1454.93 1149.17 1454.35 Q1151.62 1453.77 1153.66 1453.77 Q1159.03 1453.77 1162.23 1456.46 Q1165.42 1459.14 1165.42 1463.63 Q1165.42 1465.76 1164.61 1467.68 Q1163.82 1469.58 1161.72 1472.17 Q1161.14 1472.85 1158.04 1476.06 Q1154.93 1479.26 1149.29 1485.02 Z\" fill=\"#000000\" fill-rule=\"evenodd\" fill-opacity=\"1\" /><path clip-path=\"url(#clip880)\" d=\"M1175.42 1483.08 L1180.31 1483.08 L1180.31 1488.96 L1175.42 1488.96 L1175.42 1483.08 Z\" fill=\"#000000\" fill-rule=\"evenodd\" fill-opacity=\"1\" /><path clip-path=\"url(#clip880)\" d=\"M1200.49 1457.48 Q1196.88 1457.48 1195.05 1461.04 Q1193.24 1464.58 1193.24 1471.71 Q1193.24 1478.82 1195.05 1482.38 Q1196.88 1485.92 1200.49 1485.92 Q1204.12 1485.92 1205.93 1482.38 Q1207.76 1478.82 1207.76 1471.71 Q1207.76 1464.58 1205.93 1461.04 Q1204.12 1457.48 1200.49 1457.48 M1200.49 1453.77 Q1206.3 1453.77 1209.36 1458.38 Q1212.43 1462.96 1212.43 1471.71 Q1212.43 1480.44 1209.36 1485.04 Q1206.3 1489.63 1200.49 1489.63 Q1194.68 1489.63 1191.6 1485.04 Q1188.55 1480.44 1188.55 1471.71 Q1188.55 1462.96 1191.6 1458.38 Q1194.68 1453.77 1200.49 1453.77 Z\" fill=\"#000000\" fill-rule=\"evenodd\" fill-opacity=\"1\" /><path clip-path=\"url(#clip880)\" d=\"M1248.82 1463.49 L1238.24 1474.12 L1248.82 1484.7 L1246.07 1487.5 L1235.44 1476.87 L1224.82 1487.5 L1222.09 1484.7 L1232.64 1474.12 L1222.09 1463.49 L1224.82 1460.69 L1235.44 1471.32 L1246.07 1460.69 L1248.82 1463.49 Z\" fill=\"#000000\" fill-rule=\"evenodd\" fill-opacity=\"1\" /><path clip-path=\"url(#clip880)\" d=\"M1261.18 1485.02 L1268.82 1485.02 L1268.82 1458.66 L1260.51 1460.32 L1260.51 1456.06 L1268.78 1454.4 L1273.45 1454.4 L1273.45 1485.02 L1281.09 1485.02 L1281.09 1488.96 L1261.18 1488.96 L1261.18 1485.02 Z\" fill=\"#000000\" fill-rule=\"evenodd\" fill-opacity=\"1\" /><path clip-path=\"url(#clip880)\" d=\"M1300.54 1457.48 Q1296.92 1457.48 1295.1 1461.04 Q1293.29 1464.58 1293.29 1471.71 Q1293.29 1478.82 1295.1 1482.38 Q1296.92 1485.92 1300.54 1485.92 Q1304.17 1485.92 1305.98 1482.38 Q1307.8 1478.82 1307.8 1471.71 Q1307.8 1464.58 1305.98 1461.04 Q1304.17 1457.48 1300.54 1457.48 M1300.54 1453.77 Q1306.35 1453.77 1309.4 1458.38 Q1312.48 1462.96 1312.48 1471.71 Q1312.48 1480.44 1309.4 1485.04 Q1306.35 1489.63 1300.54 1489.63 Q1294.73 1489.63 1291.65 1485.04 Q1288.59 1480.44 1288.59 1471.71 Q1288.59 1462.96 1291.65 1458.38 Q1294.73 1453.77 1300.54 1453.77 Z\" fill=\"#000000\" fill-rule=\"evenodd\" fill-opacity=\"1\" /><path clip-path=\"url(#clip880)\" d=\"M1322.5 1445.99 Q1319.95 1445.99 1318.44 1447.74 Q1316.96 1449.49 1316.96 1452.54 Q1316.96 1455.57 1318.44 1457.33 Q1319.95 1459.08 1322.5 1459.08 Q1325.06 1459.08 1326.55 1457.33 Q1328.05 1455.57 1328.05 1452.54 Q1328.05 1449.49 1326.55 1447.74 Q1325.06 1445.99 1322.5 1445.99 M1330.05 1434.09 L1330.05 1437.55 Q1328.62 1436.87 1327.15 1436.51 Q1325.7 1436.16 1324.27 1436.16 Q1320.51 1436.16 1318.52 1438.69 Q1316.54 1441.23 1316.26 1446.37 Q1317.37 1444.73 1319.04 1443.87 Q1320.72 1442.98 1322.73 1442.98 Q1326.96 1442.98 1329.41 1445.56 Q1331.87 1448.12 1331.87 1452.54 Q1331.87 1456.86 1329.31 1459.48 Q1326.76 1462.09 1322.5 1462.09 Q1317.63 1462.09 1315.06 1458.37 Q1312.48 1454.62 1312.48 1447.53 Q1312.48 1440.88 1315.64 1436.93 Q1318.8 1432.96 1324.12 1432.96 Q1325.55 1432.96 1327 1433.24 Q1328.47 1433.52 1330.05 1434.09 Z\" fill=\"#000000\" fill-rule=\"evenodd\" fill-opacity=\"1\" /><path clip-path=\"url(#clip880)\" d=\"M1686.04 1470.32 Q1689.4 1471.04 1691.27 1473.31 Q1693.17 1475.58 1693.17 1478.91 Q1693.17 1484.03 1689.65 1486.83 Q1686.13 1489.63 1679.65 1489.63 Q1677.48 1489.63 1675.16 1489.19 Q1672.87 1488.77 1670.41 1487.91 L1670.41 1483.4 Q1672.36 1484.54 1674.67 1485.11 Q1676.99 1485.69 1679.51 1485.69 Q1683.91 1485.69 1686.2 1483.96 Q1688.52 1482.22 1688.52 1478.91 Q1688.52 1475.85 1686.36 1474.14 Q1684.23 1472.41 1680.41 1472.41 L1676.39 1472.41 L1676.39 1468.56 L1680.6 1468.56 Q1684.05 1468.56 1685.88 1467.2 Q1687.71 1465.81 1687.71 1463.22 Q1687.71 1460.55 1685.81 1459.14 Q1683.93 1457.71 1680.41 1457.71 Q1678.49 1457.71 1676.29 1458.12 Q1674.1 1458.54 1671.46 1459.42 L1671.46 1455.25 Q1674.12 1454.51 1676.43 1454.14 Q1678.77 1453.77 1680.83 1453.77 Q1686.16 1453.77 1689.26 1456.2 Q1692.36 1458.61 1692.36 1462.73 Q1692.36 1465.6 1690.72 1467.59 Q1689.07 1469.56 1686.04 1470.32 Z\" fill=\"#000000\" fill-rule=\"evenodd\" fill-opacity=\"1\" /><path clip-path=\"url(#clip880)\" d=\"M1702.04 1483.08 L1706.92 1483.08 L1706.92 1488.96 L1702.04 1488.96 L1702.04 1483.08 Z\" fill=\"#000000\" fill-rule=\"evenodd\" fill-opacity=\"1\" /><path clip-path=\"url(#clip880)\" d=\"M1727.1 1457.48 Q1723.49 1457.48 1721.66 1461.04 Q1719.86 1464.58 1719.86 1471.71 Q1719.86 1478.82 1721.66 1482.38 Q1723.49 1485.92 1727.1 1485.92 Q1730.74 1485.92 1732.54 1482.38 Q1734.37 1478.82 1734.37 1471.71 Q1734.37 1464.58 1732.54 1461.04 Q1730.74 1457.48 1727.1 1457.48 M1727.1 1453.77 Q1732.91 1453.77 1735.97 1458.38 Q1739.05 1462.96 1739.05 1471.71 Q1739.05 1480.44 1735.97 1485.04 Q1732.91 1489.63 1727.1 1489.63 Q1721.29 1489.63 1718.22 1485.04 Q1715.16 1480.44 1715.16 1471.71 Q1715.16 1462.96 1718.22 1458.38 Q1721.29 1453.77 1727.1 1453.77 Z\" fill=\"#000000\" fill-rule=\"evenodd\" fill-opacity=\"1\" /><path clip-path=\"url(#clip880)\" d=\"M1775.44 1463.49 L1764.86 1474.12 L1775.44 1484.7 L1772.68 1487.5 L1762.06 1476.87 L1751.43 1487.5 L1748.7 1484.7 L1759.26 1474.12 L1748.7 1463.49 L1751.43 1460.69 L1762.06 1471.32 L1772.68 1460.69 L1775.44 1463.49 Z\" fill=\"#000000\" fill-rule=\"evenodd\" fill-opacity=\"1\" /><path clip-path=\"url(#clip880)\" d=\"M1787.8 1485.02 L1795.44 1485.02 L1795.44 1458.66 L1787.13 1460.32 L1787.13 1456.06 L1795.39 1454.4 L1800.07 1454.4 L1800.07 1485.02 L1807.71 1485.02 L1807.71 1488.96 L1787.8 1488.96 L1787.8 1485.02 Z\" fill=\"#000000\" fill-rule=\"evenodd\" fill-opacity=\"1\" /><path clip-path=\"url(#clip880)\" d=\"M1827.15 1457.48 Q1823.54 1457.48 1821.71 1461.04 Q1819.9 1464.58 1819.9 1471.71 Q1819.9 1478.82 1821.71 1482.38 Q1823.54 1485.92 1827.15 1485.92 Q1830.78 1485.92 1832.59 1482.38 Q1834.42 1478.82 1834.42 1471.71 Q1834.42 1464.58 1832.59 1461.04 Q1830.78 1457.48 1827.15 1457.48 M1827.15 1453.77 Q1832.96 1453.77 1836.02 1458.38 Q1839.09 1462.96 1839.09 1471.71 Q1839.09 1480.44 1836.02 1485.04 Q1832.96 1489.63 1827.15 1489.63 Q1821.34 1489.63 1818.26 1485.04 Q1815.21 1480.44 1815.21 1471.71 Q1815.21 1462.96 1818.26 1458.38 Q1821.34 1453.77 1827.15 1453.77 Z\" fill=\"#000000\" fill-rule=\"evenodd\" fill-opacity=\"1\" /><path clip-path=\"url(#clip880)\" d=\"M1849.12 1445.99 Q1846.56 1445.99 1845.06 1447.74 Q1843.57 1449.49 1843.57 1452.54 Q1843.57 1455.57 1845.06 1457.33 Q1846.56 1459.08 1849.12 1459.08 Q1851.68 1459.08 1853.16 1457.33 Q1854.67 1455.57 1854.67 1452.54 Q1854.67 1449.49 1853.16 1447.74 Q1851.68 1445.99 1849.12 1445.99 M1856.66 1434.09 L1856.66 1437.55 Q1855.23 1436.87 1853.76 1436.51 Q1852.32 1436.16 1850.89 1436.16 Q1847.13 1436.16 1845.13 1438.69 Q1843.16 1441.23 1842.87 1446.37 Q1843.98 1444.73 1845.66 1443.87 Q1847.33 1442.98 1849.34 1442.98 Q1853.58 1442.98 1856.02 1445.56 Q1858.49 1448.12 1858.49 1452.54 Q1858.49 1456.86 1855.93 1459.48 Q1853.37 1462.09 1849.12 1462.09 Q1844.25 1462.09 1841.67 1458.37 Q1839.09 1454.62 1839.09 1447.53 Q1839.09 1440.88 1842.25 1436.93 Q1845.41 1432.96 1850.74 1432.96 Q1852.17 1432.96 1853.61 1433.24 Q1855.08 1433.52 1856.66 1434.09 Z\" fill=\"#000000\" fill-rule=\"evenodd\" fill-opacity=\"1\" /><path clip-path=\"url(#clip880)\" d=\"M2212.05 1458.47 L2200.25 1476.92 L2212.05 1476.92 L2212.05 1458.47 M2210.83 1454.4 L2216.71 1454.4 L2216.71 1476.92 L2221.64 1476.92 L2221.64 1480.81 L2216.71 1480.81 L2216.71 1488.96 L2212.05 1488.96 L2212.05 1480.81 L2196.45 1480.81 L2196.45 1476.29 L2210.83 1454.4 Z\" fill=\"#000000\" fill-rule=\"evenodd\" fill-opacity=\"1\" /><path clip-path=\"url(#clip880)\" d=\"M2229.37 1483.08 L2234.25 1483.08 L2234.25 1488.96 L2229.37 1488.96 L2229.37 1483.08 Z\" fill=\"#000000\" fill-rule=\"evenodd\" fill-opacity=\"1\" /><path clip-path=\"url(#clip880)\" d=\"M2254.44 1457.48 Q2250.83 1457.48 2249 1461.04 Q2247.19 1464.58 2247.19 1471.71 Q2247.19 1478.82 2249 1482.38 Q2250.83 1485.92 2254.44 1485.92 Q2258.07 1485.92 2259.88 1482.38 Q2261.7 1478.82 2261.7 1471.71 Q2261.7 1464.58 2259.88 1461.04 Q2258.07 1457.48 2254.44 1457.48 M2254.44 1453.77 Q2260.25 1453.77 2263.3 1458.38 Q2266.38 1462.96 2266.38 1471.71 Q2266.38 1480.44 2263.3 1485.04 Q2260.25 1489.63 2254.44 1489.63 Q2248.63 1489.63 2245.55 1485.04 Q2242.49 1480.44 2242.49 1471.71 Q2242.49 1462.96 2245.55 1458.38 Q2248.63 1453.77 2254.44 1453.77 Z\" fill=\"#000000\" fill-rule=\"evenodd\" fill-opacity=\"1\" /><path clip-path=\"url(#clip880)\" d=\"M2302.77 1463.49 L2292.19 1474.12 L2302.77 1484.7 L2300.01 1487.5 L2289.39 1476.87 L2278.76 1487.5 L2276.03 1484.7 L2286.59 1474.12 L2276.03 1463.49 L2278.76 1460.69 L2289.39 1471.32 L2300.01 1460.69 L2302.77 1463.49 Z\" fill=\"#000000\" fill-rule=\"evenodd\" fill-opacity=\"1\" /><path clip-path=\"url(#clip880)\" d=\"M2315.13 1485.02 L2322.77 1485.02 L2322.77 1458.66 L2314.46 1460.32 L2314.46 1456.06 L2322.72 1454.4 L2327.4 1454.4 L2327.4 1485.02 L2335.04 1485.02 L2335.04 1488.96 L2315.13 1488.96 L2315.13 1485.02 Z\" fill=\"#000000\" fill-rule=\"evenodd\" fill-opacity=\"1\" /><path clip-path=\"url(#clip880)\" d=\"M2354.48 1457.48 Q2350.87 1457.48 2349.04 1461.04 Q2347.24 1464.58 2347.24 1471.71 Q2347.24 1478.82 2349.04 1482.38 Q2350.87 1485.92 2354.48 1485.92 Q2358.12 1485.92 2359.92 1482.38 Q2361.75 1478.82 2361.75 1471.71 Q2361.75 1464.58 2359.92 1461.04 Q2358.12 1457.48 2354.48 1457.48 M2354.48 1453.77 Q2360.29 1453.77 2363.35 1458.38 Q2366.43 1462.96 2366.43 1471.71 Q2366.43 1480.44 2363.35 1485.04 Q2360.29 1489.63 2354.48 1489.63 Q2348.67 1489.63 2345.59 1485.04 Q2342.54 1480.44 2342.54 1471.71 Q2342.54 1462.96 2345.59 1458.38 Q2348.67 1453.77 2354.48 1453.77 Z\" fill=\"#000000\" fill-rule=\"evenodd\" fill-opacity=\"1\" /><path clip-path=\"url(#clip880)\" d=\"M2376.45 1445.99 Q2373.89 1445.99 2372.39 1447.74 Q2370.9 1449.49 2370.9 1452.54 Q2370.9 1455.57 2372.39 1457.33 Q2373.89 1459.08 2376.45 1459.08 Q2379.01 1459.08 2380.49 1457.33 Q2382 1455.57 2382 1452.54 Q2382 1449.49 2380.49 1447.74 Q2379.01 1445.99 2376.45 1445.99 M2383.99 1434.09 L2383.99 1437.55 Q2382.56 1436.87 2381.1 1436.51 Q2379.65 1436.16 2378.22 1436.16 Q2374.46 1436.16 2372.46 1438.69 Q2370.49 1441.23 2370.21 1446.37 Q2371.32 1444.73 2372.99 1443.87 Q2374.66 1442.98 2376.68 1442.98 Q2380.91 1442.98 2383.35 1445.56 Q2385.82 1448.12 2385.82 1452.54 Q2385.82 1456.86 2383.26 1459.48 Q2380.7 1462.09 2376.45 1462.09 Q2371.58 1462.09 2369 1458.37 Q2366.43 1454.62 2366.43 1447.53 Q2366.43 1440.88 2369.59 1436.93 Q2372.75 1432.96 2378.07 1432.96 Q2379.5 1432.96 2380.95 1433.24 Q2382.41 1433.52 2383.99 1434.09 Z\" fill=\"#000000\" fill-rule=\"evenodd\" fill-opacity=\"1\" /><path clip-path=\"url(#clip880)\" d=\"M1113.66 1526.67 L1120.09 1526.67 L1120.09 1574.19 L1113.66 1574.19 L1113.66 1526.67 Z\" fill=\"#000000\" fill-rule=\"evenodd\" fill-opacity=\"1\" /><path clip-path=\"url(#clip880)\" d=\"M1138.43 1528.42 L1138.43 1538.54 L1150.49 1538.54 L1150.49 1543.09 L1138.43 1543.09 L1138.43 1562.44 Q1138.43 1566.8 1139.6 1568.04 Q1140.81 1569.28 1144.47 1569.28 L1150.49 1569.28 L1150.49 1574.19 L1144.47 1574.19 Q1137.69 1574.19 1135.12 1571.67 Q1132.54 1569.12 1132.54 1562.44 L1132.54 1543.09 L1128.24 1543.09 L1128.24 1538.54 L1132.54 1538.54 L1132.54 1528.42 L1138.43 1528.42 Z\" fill=\"#000000\" fill-rule=\"evenodd\" fill-opacity=\"1\" /><path clip-path=\"url(#clip880)\" d=\"M1188.68 1554.9 L1188.68 1557.76 L1161.76 1557.76 Q1162.14 1563.81 1165.38 1566.99 Q1168.66 1570.14 1174.49 1570.14 Q1177.86 1570.14 1181.01 1569.32 Q1184.2 1568.49 1187.31 1566.83 L1187.31 1572.37 Q1184.16 1573.71 1180.85 1574.41 Q1177.54 1575.11 1174.14 1575.11 Q1165.61 1575.11 1160.61 1570.14 Q1155.64 1565.18 1155.64 1556.71 Q1155.64 1547.96 1160.36 1542.83 Q1165.1 1537.68 1173.12 1537.68 Q1180.31 1537.68 1184.48 1542.33 Q1188.68 1546.94 1188.68 1554.9 M1182.83 1553.18 Q1182.76 1548.37 1180.12 1545.51 Q1177.51 1542.64 1173.18 1542.64 Q1168.28 1542.64 1165.32 1545.41 Q1162.39 1548.18 1161.95 1553.21 L1182.83 1553.18 Z\" fill=\"#000000\" fill-rule=\"evenodd\" fill-opacity=\"1\" /><path clip-path=\"url(#clip880)\" d=\"M1218.95 1544.01 Q1217.97 1543.44 1216.79 1543.18 Q1215.64 1542.9 1214.24 1542.9 Q1209.28 1542.9 1206.6 1546.14 Q1203.96 1549.36 1203.96 1555.41 L1203.96 1574.19 L1198.07 1574.19 L1198.07 1538.54 L1203.96 1538.54 L1203.96 1544.08 Q1205.81 1540.83 1208.77 1539.27 Q1211.73 1537.68 1215.96 1537.68 Q1216.56 1537.68 1217.3 1537.77 Q1218.03 1537.84 1218.92 1538 L1218.95 1544.01 Z\" fill=\"#000000\" fill-rule=\"evenodd\" fill-opacity=\"1\" /><path clip-path=\"url(#clip880)\" d=\"M1241.3 1556.27 Q1234.2 1556.27 1231.46 1557.89 Q1228.72 1559.51 1228.72 1563.43 Q1228.72 1566.55 1230.76 1568.39 Q1232.83 1570.21 1236.36 1570.21 Q1241.23 1570.21 1244.16 1566.77 Q1247.12 1563.3 1247.12 1557.57 L1247.12 1556.27 L1241.3 1556.27 M1252.98 1553.85 L1252.98 1574.19 L1247.12 1574.19 L1247.12 1568.77 Q1245.11 1572.02 1242.12 1573.58 Q1239.13 1575.11 1234.8 1575.11 Q1229.33 1575.11 1226.08 1572.05 Q1222.87 1568.97 1222.87 1563.81 Q1222.87 1557.79 1226.88 1554.74 Q1230.92 1551.68 1238.91 1551.68 L1247.12 1551.68 L1247.12 1551.11 Q1247.12 1547.07 1244.45 1544.87 Q1241.8 1542.64 1237 1542.64 Q1233.94 1542.64 1231.05 1543.38 Q1228.15 1544.11 1225.48 1545.57 L1225.48 1540.16 Q1228.69 1538.92 1231.72 1538.31 Q1234.74 1537.68 1237.6 1537.68 Q1245.34 1537.68 1249.16 1541.69 Q1252.98 1545.7 1252.98 1553.85 Z\" fill=\"#000000\" fill-rule=\"evenodd\" fill-opacity=\"1\" /><path clip-path=\"url(#clip880)\" d=\"M1270.83 1528.42 L1270.83 1538.54 L1282.9 1538.54 L1282.9 1543.09 L1270.83 1543.09 L1270.83 1562.44 Q1270.83 1566.8 1272.01 1568.04 Q1273.22 1569.28 1276.88 1569.28 L1282.9 1569.28 L1282.9 1574.19 L1276.88 1574.19 Q1270.1 1574.19 1267.52 1571.67 Q1264.94 1569.12 1264.94 1562.44 L1264.94 1543.09 L1260.65 1543.09 L1260.65 1538.54 L1264.94 1538.54 L1264.94 1528.42 L1270.83 1528.42 Z\" fill=\"#000000\" fill-rule=\"evenodd\" fill-opacity=\"1\" /><path clip-path=\"url(#clip880)\" d=\"M1290.6 1538.54 L1296.45 1538.54 L1296.45 1574.19 L1290.6 1574.19 L1290.6 1538.54 M1290.6 1524.66 L1296.45 1524.66 L1296.45 1532.08 L1290.6 1532.08 L1290.6 1524.66 Z\" fill=\"#000000\" fill-rule=\"evenodd\" fill-opacity=\"1\" /><path clip-path=\"url(#clip880)\" d=\"M1322.52 1542.64 Q1317.81 1542.64 1315.07 1546.34 Q1312.34 1550 1312.34 1556.39 Q1312.34 1562.79 1315.04 1566.48 Q1317.78 1570.14 1322.52 1570.14 Q1327.2 1570.14 1329.94 1566.45 Q1332.68 1562.76 1332.68 1556.39 Q1332.68 1550.06 1329.94 1546.37 Q1327.2 1542.64 1322.52 1542.64 M1322.52 1537.68 Q1330.16 1537.68 1334.52 1542.64 Q1338.88 1547.61 1338.88 1556.39 Q1338.88 1565.15 1334.52 1570.14 Q1330.16 1575.11 1322.52 1575.11 Q1314.85 1575.11 1310.49 1570.14 Q1306.16 1565.15 1306.16 1556.39 Q1306.16 1547.61 1310.49 1542.64 Q1314.85 1537.68 1322.52 1537.68 Z\" fill=\"#000000\" fill-rule=\"evenodd\" fill-opacity=\"1\" /><path clip-path=\"url(#clip880)\" d=\"M1378.22 1552.67 L1378.22 1574.19 L1372.37 1574.19 L1372.37 1552.86 Q1372.37 1547.8 1370.39 1545.29 Q1368.42 1542.77 1364.47 1542.77 Q1359.73 1542.77 1356.99 1545.79 Q1354.25 1548.82 1354.25 1554.04 L1354.25 1574.19 L1348.37 1574.19 L1348.37 1538.54 L1354.25 1538.54 L1354.25 1544.08 Q1356.36 1540.86 1359.19 1539.27 Q1362.05 1537.68 1365.78 1537.68 Q1371.92 1537.68 1375.07 1541.5 Q1378.22 1545.29 1378.22 1552.67 Z\" fill=\"#000000\" fill-rule=\"evenodd\" fill-opacity=\"1\" /><path clip-path=\"url(#clip880)\" d=\"M1412.63 1539.59 L1412.63 1545.13 Q1410.15 1543.85 1407.47 1543.22 Q1404.8 1542.58 1401.93 1542.58 Q1397.57 1542.58 1395.38 1543.92 Q1393.21 1545.25 1393.21 1547.93 Q1393.21 1549.96 1394.77 1551.14 Q1396.33 1552.29 1401.04 1553.34 L1403.05 1553.78 Q1409.29 1555.12 1411.9 1557.57 Q1414.54 1559.99 1414.54 1564.35 Q1414.54 1569.32 1410.59 1572.21 Q1406.68 1575.11 1399.8 1575.11 Q1396.94 1575.11 1393.82 1574.54 Q1390.73 1573.99 1387.29 1572.88 L1387.29 1566.83 Q1390.54 1568.52 1393.69 1569.38 Q1396.84 1570.21 1399.93 1570.21 Q1404.07 1570.21 1406.29 1568.81 Q1408.52 1567.37 1408.52 1564.8 Q1408.52 1562.41 1406.9 1561.14 Q1405.31 1559.86 1399.87 1558.68 L1397.83 1558.21 Q1392.39 1557.06 1389.97 1554.71 Q1387.55 1552.32 1387.55 1548.18 Q1387.55 1543.15 1391.11 1540.42 Q1394.68 1537.68 1401.23 1537.68 Q1404.48 1537.68 1407.34 1538.16 Q1410.21 1538.63 1412.63 1539.59 Z\" fill=\"#000000\" fill-rule=\"evenodd\" fill-opacity=\"1\" /><polyline clip-path=\"url(#clip882)\" style=\"stroke:#000000; stroke-linecap:round; stroke-linejoin:round; stroke-width:2; stroke-opacity:0.1; fill:none\" points=\"\n",
       "  175.445,1272.54 2352.76,1272.54 \n",
       "  \"/>\n",
       "<polyline clip-path=\"url(#clip882)\" style=\"stroke:#000000; stroke-linecap:round; stroke-linejoin:round; stroke-width:2; stroke-opacity:0.1; fill:none\" points=\"\n",
       "  175.445,1015.07 2352.76,1015.07 \n",
       "  \"/>\n",
       "<polyline clip-path=\"url(#clip882)\" style=\"stroke:#000000; stroke-linecap:round; stroke-linejoin:round; stroke-width:2; stroke-opacity:0.1; fill:none\" points=\"\n",
       "  175.445,757.606 2352.76,757.606 \n",
       "  \"/>\n",
       "<polyline clip-path=\"url(#clip882)\" style=\"stroke:#000000; stroke-linecap:round; stroke-linejoin:round; stroke-width:2; stroke-opacity:0.1; fill:none\" points=\"\n",
       "  175.445,500.141 2352.76,500.141 \n",
       "  \"/>\n",
       "<polyline clip-path=\"url(#clip882)\" style=\"stroke:#000000; stroke-linecap:round; stroke-linejoin:round; stroke-width:2; stroke-opacity:0.1; fill:none\" points=\"\n",
       "  175.445,242.677 2352.76,242.677 \n",
       "  \"/>\n",
       "<polyline clip-path=\"url(#clip880)\" style=\"stroke:#000000; stroke-linecap:round; stroke-linejoin:round; stroke-width:4; stroke-opacity:1; fill:none\" points=\"\n",
       "  175.445,1410.9 175.445,47.2441 \n",
       "  \"/>\n",
       "<polyline clip-path=\"url(#clip880)\" style=\"stroke:#000000; stroke-linecap:round; stroke-linejoin:round; stroke-width:4; stroke-opacity:1; fill:none\" points=\"\n",
       "  175.445,1272.54 194.343,1272.54 \n",
       "  \"/>\n",
       "<polyline clip-path=\"url(#clip880)\" style=\"stroke:#000000; stroke-linecap:round; stroke-linejoin:round; stroke-width:4; stroke-opacity:1; fill:none\" points=\"\n",
       "  175.445,1015.07 194.343,1015.07 \n",
       "  \"/>\n",
       "<polyline clip-path=\"url(#clip880)\" style=\"stroke:#000000; stroke-linecap:round; stroke-linejoin:round; stroke-width:4; stroke-opacity:1; fill:none\" points=\"\n",
       "  175.445,757.606 194.343,757.606 \n",
       "  \"/>\n",
       "<polyline clip-path=\"url(#clip880)\" style=\"stroke:#000000; stroke-linecap:round; stroke-linejoin:round; stroke-width:4; stroke-opacity:1; fill:none\" points=\"\n",
       "  175.445,500.141 194.343,500.141 \n",
       "  \"/>\n",
       "<polyline clip-path=\"url(#clip880)\" style=\"stroke:#000000; stroke-linecap:round; stroke-linejoin:round; stroke-width:4; stroke-opacity:1; fill:none\" points=\"\n",
       "  175.445,242.677 194.343,242.677 \n",
       "  \"/>\n",
       "<path clip-path=\"url(#clip880)\" d=\"M129.862 1259.33 L118.056 1277.78 L129.862 1277.78 L129.862 1259.33 M128.635 1255.26 L134.515 1255.26 L134.515 1277.78 L139.445 1277.78 L139.445 1281.67 L134.515 1281.67 L134.515 1289.82 L129.862 1289.82 L129.862 1281.67 L114.26 1281.67 L114.26 1277.15 L128.635 1255.26 Z\" fill=\"#000000\" fill-rule=\"evenodd\" fill-opacity=\"1\" /><path clip-path=\"url(#clip880)\" d=\"M118.543 997.791 L136.899 997.791 L136.899 1001.73 L122.825 1001.73 L122.825 1010.2 Q123.843 1009.85 124.862 1009.69 Q125.88 1009.5 126.899 1009.5 Q132.686 1009.5 136.066 1012.67 Q139.445 1015.85 139.445 1021.26 Q139.445 1026.84 135.973 1029.94 Q132.501 1033.02 126.181 1033.02 Q124.005 1033.02 121.737 1032.65 Q119.492 1032.28 117.084 1031.54 L117.084 1026.84 Q119.168 1027.98 121.39 1028.53 Q123.612 1029.09 126.089 1029.09 Q130.093 1029.09 132.431 1026.98 Q134.769 1024.87 134.769 1021.26 Q134.769 1017.65 132.431 1015.55 Q130.093 1013.44 126.089 1013.44 Q124.214 1013.44 122.339 1013.86 Q120.487 1014.27 118.543 1015.15 L118.543 997.791 Z\" fill=\"#000000\" fill-rule=\"evenodd\" fill-opacity=\"1\" /><path clip-path=\"url(#clip880)\" d=\"M127.917 755.743 Q124.769 755.743 122.918 757.895 Q121.089 760.048 121.089 763.798 Q121.089 767.525 122.918 769.701 Q124.769 771.854 127.917 771.854 Q131.066 771.854 132.894 769.701 Q134.746 767.525 134.746 763.798 Q134.746 760.048 132.894 757.895 Q131.066 755.743 127.917 755.743 M137.2 741.09 L137.2 745.349 Q135.441 744.516 133.635 744.076 Q131.853 743.636 130.093 743.636 Q125.464 743.636 123.01 746.761 Q120.58 749.886 120.232 756.206 Q121.598 754.192 123.658 753.127 Q125.718 752.039 128.195 752.039 Q133.404 752.039 136.413 755.21 Q139.445 758.358 139.445 763.798 Q139.445 769.122 136.297 772.34 Q133.149 775.557 127.917 775.557 Q121.922 775.557 118.751 770.974 Q115.58 766.368 115.58 757.641 Q115.58 749.446 119.468 744.585 Q123.357 739.701 129.908 739.701 Q131.667 739.701 133.45 740.048 Q135.255 740.395 137.2 741.09 Z\" fill=\"#000000\" fill-rule=\"evenodd\" fill-opacity=\"1\" /><path clip-path=\"url(#clip880)\" d=\"M117.223 482.861 L139.445 482.861 L139.445 484.852 L126.899 517.421 L122.015 517.421 L133.82 486.797 L117.223 486.797 L117.223 482.861 Z\" fill=\"#000000\" fill-rule=\"evenodd\" fill-opacity=\"1\" /><path clip-path=\"url(#clip880)\" d=\"M127.593 243.545 Q124.26 243.545 122.339 245.327 Q120.441 247.11 120.441 250.235 Q120.441 253.36 122.339 255.142 Q124.26 256.924 127.593 256.924 Q130.927 256.924 132.848 255.142 Q134.769 253.337 134.769 250.235 Q134.769 247.11 132.848 245.327 Q130.95 243.545 127.593 243.545 M122.918 241.554 Q119.908 240.813 118.218 238.753 Q116.552 236.693 116.552 233.73 Q116.552 229.587 119.492 227.179 Q122.455 224.772 127.593 224.772 Q132.755 224.772 135.695 227.179 Q138.635 229.587 138.635 233.73 Q138.635 236.693 136.945 238.753 Q135.279 240.813 132.292 241.554 Q135.672 242.341 137.547 244.633 Q139.445 246.925 139.445 250.235 Q139.445 255.258 136.367 257.943 Q133.311 260.628 127.593 260.628 Q121.876 260.628 118.797 257.943 Q115.742 255.258 115.742 250.235 Q115.742 246.925 117.64 244.633 Q119.538 242.341 122.918 241.554 M121.205 234.17 Q121.205 236.855 122.871 238.36 Q124.561 239.864 127.593 239.864 Q130.603 239.864 132.292 238.36 Q134.005 236.855 134.005 234.17 Q134.005 231.485 132.292 229.98 Q130.603 228.476 127.593 228.476 Q124.561 228.476 122.871 229.98 Q121.205 231.485 121.205 234.17 Z\" fill=\"#000000\" fill-rule=\"evenodd\" fill-opacity=\"1\" /><path clip-path=\"url(#clip880)\" d=\"M22.818 1126.31 L46.4666 1135.03 L46.4666 1117.55 L22.818 1126.31 M16.4842 1129.93 L16.4842 1122.65 L64.0042 1104.54 L64.0042 1111.22 L51.8138 1115.55 L51.8138 1136.97 L64.0042 1141.3 L64.0042 1148.08 L16.4842 1129.93 Z\" fill=\"#000000\" fill-rule=\"evenodd\" fill-opacity=\"1\" /><path clip-path=\"url(#clip880)\" d=\"M28.3562 1105.87 L28.3562 1099.67 L58.275 1088.53 L28.3562 1077.39 L28.3562 1071.18 L64.0042 1084.55 L64.0042 1092.5 L28.3562 1105.87 Z\" fill=\"#000000\" fill-rule=\"evenodd\" fill-opacity=\"1\" /><path clip-path=\"url(#clip880)\" d=\"M44.7161 1032.6 L47.5806 1032.6 L47.5806 1059.53 Q53.6281 1059.15 56.8109 1055.9 Q59.9619 1052.62 59.9619 1046.8 Q59.9619 1043.42 59.1344 1040.27 Q58.3069 1037.09 56.6518 1033.97 L62.1899 1033.97 Q63.5267 1037.12 64.227 1040.43 Q64.9272 1043.74 64.9272 1047.15 Q64.9272 1055.68 59.9619 1060.68 Q54.9967 1065.64 46.5303 1065.64 Q37.7774 1065.64 32.6531 1060.93 Q27.4968 1056.19 27.4968 1048.17 Q27.4968 1040.97 32.1438 1036.8 Q36.7589 1032.6 44.7161 1032.6 M42.9973 1038.46 Q38.1912 1038.52 35.3266 1041.17 Q32.4621 1043.77 32.4621 1048.1 Q32.4621 1053.01 35.2312 1055.97 Q38.0002 1058.89 43.0292 1059.34 L42.9973 1038.46 Z\" fill=\"#000000\" fill-rule=\"evenodd\" fill-opacity=\"1\" /><path clip-path=\"url(#clip880)\" d=\"M33.8307 1002.33 Q33.2578 1003.32 33.0032 1004.5 Q32.7167 1005.64 32.7167 1007.04 Q32.7167 1012.01 35.9632 1014.68 Q39.1779 1017.33 45.2253 1017.33 L64.0042 1017.33 L64.0042 1023.21 L28.3562 1023.21 L28.3562 1017.33 L33.8944 1017.33 Q30.6479 1015.48 29.0883 1012.52 Q27.4968 1009.56 27.4968 1005.33 Q27.4968 1004.72 27.5923 1003.99 Q27.656 1003.26 27.8151 1002.37 L33.8307 1002.33 Z\" fill=\"#000000\" fill-rule=\"evenodd\" fill-opacity=\"1\" /><path clip-path=\"url(#clip880)\" d=\"M46.0847 979.991 Q46.0847 987.088 47.7079 989.826 Q49.3312 992.563 53.2461 992.563 Q56.3653 992.563 58.2114 990.526 Q60.0256 988.457 60.0256 984.924 Q60.0256 980.054 56.5881 977.126 Q53.1188 974.166 47.3897 974.166 L46.0847 974.166 L46.0847 979.991 M43.6657 968.31 L64.0042 968.31 L64.0042 974.166 L58.5933 974.166 Q61.8398 976.171 63.3994 979.163 Q64.9272 982.155 64.9272 986.484 Q64.9272 991.958 61.8716 995.205 Q58.7843 998.419 53.6281 998.419 Q47.6125 998.419 44.5569 994.409 Q41.5014 990.367 41.5014 982.378 L41.5014 974.166 L40.9285 974.166 Q36.8862 974.166 34.6901 976.84 Q32.4621 979.481 32.4621 984.287 Q32.4621 987.343 33.1941 990.239 Q33.9262 993.136 35.3903 995.809 L29.9795 995.809 Q28.7381 992.595 28.1334 989.571 Q27.4968 986.547 27.4968 983.683 Q27.4968 975.948 31.5072 972.129 Q35.5176 968.31 43.6657 968.31 Z\" fill=\"#000000\" fill-rule=\"evenodd\" fill-opacity=\"1\" /><path clip-path=\"url(#clip880)\" d=\"M45.7664 932.789 Q39.4007 932.789 35.8996 935.431 Q32.3984 938.041 32.3984 942.783 Q32.3984 947.494 35.8996 950.135 Q39.4007 952.745 45.7664 952.745 Q52.1003 952.745 55.6014 950.135 Q59.1026 947.494 59.1026 942.783 Q59.1026 938.041 55.6014 935.431 Q52.1003 932.789 45.7664 932.789 M59.58 926.932 Q68.683 926.932 73.1071 930.975 Q77.5631 935.017 77.5631 943.356 Q77.5631 946.443 77.0857 949.181 Q76.6401 951.918 75.6852 954.496 L69.9879 954.496 Q71.3884 951.918 72.0568 949.403 Q72.7252 946.889 72.7252 944.279 Q72.7252 938.518 69.7015 935.653 Q66.7096 932.789 60.6303 932.789 L57.7339 932.789 Q60.885 934.603 62.4446 937.436 Q64.0042 940.269 64.0042 944.215 Q64.0042 950.772 59.0071 954.782 Q54.01 958.793 45.7664 958.793 Q37.491 958.793 32.4939 954.782 Q27.4968 950.772 27.4968 944.215 Q27.4968 940.269 29.0564 937.436 Q30.616 934.603 33.7671 932.789 L28.3562 932.789 L28.3562 926.932 L59.58 926.932 Z\" fill=\"#000000\" fill-rule=\"evenodd\" fill-opacity=\"1\" /><path clip-path=\"url(#clip880)\" d=\"M44.7161 884.378 L47.5806 884.378 L47.5806 911.305 Q53.6281 910.923 56.8109 907.676 Q59.9619 904.398 59.9619 898.573 Q59.9619 895.199 59.1344 892.048 Q58.3069 888.866 56.6518 885.746 L62.1899 885.746 Q63.5267 888.897 64.227 892.208 Q64.9272 895.518 64.9272 898.923 Q64.9272 907.453 59.9619 912.45 Q54.9967 917.416 46.5303 917.416 Q37.7774 917.416 32.6531 912.705 Q27.4968 907.963 27.4968 899.942 Q27.4968 892.749 32.1438 888.579 Q36.7589 884.378 44.7161 884.378 M42.9973 890.234 Q38.1912 890.298 35.3266 892.94 Q32.4621 895.55 32.4621 899.878 Q32.4621 904.78 35.2312 907.74 Q38.0002 910.668 43.0292 911.114 L42.9973 890.234 Z\" fill=\"#000000\" fill-rule=\"evenodd\" fill-opacity=\"1\" /><path clip-path=\"url(#clip880)\" d=\"M20.1444 818.206 L26.9239 818.206 Q23.9002 821.453 22.4043 825.145 Q20.9083 828.805 20.9083 832.943 Q20.9083 841.091 25.9054 845.42 Q30.8707 849.748 40.2919 849.748 Q49.6813 849.748 54.6784 845.42 Q59.6436 841.091 59.6436 832.943 Q59.6436 828.805 58.1477 825.145 Q56.6518 821.453 53.6281 818.206 L60.3439 818.206 Q62.6355 821.58 63.7814 825.368 Q64.9272 829.123 64.9272 833.325 Q64.9272 844.115 58.3387 850.321 Q51.7183 856.528 40.2919 856.528 Q28.8336 856.528 22.2451 850.321 Q15.6248 844.115 15.6248 833.325 Q15.6248 829.06 16.7706 825.304 Q17.8846 821.516 20.1444 818.206 Z\" fill=\"#000000\" fill-rule=\"evenodd\" fill-opacity=\"1\" /><path clip-path=\"url(#clip880)\" d=\"M32.4621 794.717 Q32.4621 799.427 36.1542 802.165 Q39.8145 804.902 46.212 804.902 Q52.6095 804.902 56.3017 802.196 Q59.9619 799.459 59.9619 794.717 Q59.9619 790.038 56.2698 787.301 Q52.5777 784.563 46.212 784.563 Q39.8781 784.563 36.186 787.301 Q32.4621 790.038 32.4621 794.717 M27.4968 794.717 Q27.4968 787.078 32.4621 782.717 Q37.4273 778.357 46.212 778.357 Q54.9649 778.357 59.9619 782.717 Q64.9272 787.078 64.9272 794.717 Q64.9272 802.387 59.9619 806.748 Q54.9649 811.077 46.212 811.077 Q37.4273 811.077 32.4621 806.748 Q27.4968 802.387 27.4968 794.717 Z\" fill=\"#000000\" fill-rule=\"evenodd\" fill-opacity=\"1\" /><path clip-path=\"url(#clip880)\" d=\"M35.1993 740.895 Q31.2526 738.698 29.3747 735.643 Q27.4968 732.587 27.4968 728.45 Q27.4968 722.88 31.4117 719.856 Q35.2948 716.832 42.4881 716.832 L64.0042 716.832 L64.0042 722.721 L42.679 722.721 Q37.5546 722.721 35.072 724.535 Q32.5894 726.349 32.5894 730.073 Q32.5894 734.624 35.6131 737.266 Q38.6368 739.908 43.8567 739.908 L64.0042 739.908 L64.0042 745.796 L42.679 745.796 Q37.5228 745.796 35.072 747.61 Q32.5894 749.425 32.5894 753.212 Q32.5894 757.7 35.6449 760.342 Q38.6686 762.984 43.8567 762.984 L64.0042 762.984 L64.0042 768.872 L28.3562 768.872 L28.3562 762.984 L33.8944 762.984 Q30.616 760.978 29.0564 758.178 Q27.4968 755.377 27.4968 751.525 Q27.4968 747.642 29.4702 744.937 Q31.4436 742.2 35.1993 740.895 Z\" fill=\"#000000\" fill-rule=\"evenodd\" fill-opacity=\"1\" /><path clip-path=\"url(#clip880)\" d=\"M58.657 699.486 L77.5631 699.486 L77.5631 705.374 L28.3562 705.374 L28.3562 699.486 L33.7671 699.486 Q30.5842 697.64 29.0564 694.839 Q27.4968 692.006 27.4968 688.091 Q27.4968 681.598 32.6531 677.556 Q37.8093 673.482 46.212 673.482 Q54.6147 673.482 59.771 677.556 Q64.9272 681.598 64.9272 688.091 Q64.9272 692.006 63.3994 694.839 Q61.8398 697.64 58.657 699.486 M46.212 679.561 Q39.7508 679.561 36.0905 682.235 Q32.3984 684.876 32.3984 689.523 Q32.3984 694.17 36.0905 696.844 Q39.7508 699.486 46.212 699.486 Q52.6732 699.486 56.3653 696.844 Q60.0256 694.17 60.0256 689.523 Q60.0256 684.876 56.3653 682.235 Q52.6732 679.561 46.212 679.561 Z\" fill=\"#000000\" fill-rule=\"evenodd\" fill-opacity=\"1\" /><path clip-path=\"url(#clip880)\" d=\"M14.479 663.774 L14.479 657.918 L64.0042 657.918 L64.0042 663.774 L14.479 663.774 Z\" fill=\"#000000\" fill-rule=\"evenodd\" fill-opacity=\"1\" /><path clip-path=\"url(#clip880)\" d=\"M44.7161 615.172 L47.5806 615.172 L47.5806 642.099 Q53.6281 641.717 56.8109 638.47 Q59.9619 635.192 59.9619 629.367 Q59.9619 625.994 59.1344 622.843 Q58.3069 619.66 56.6518 616.541 L62.1899 616.541 Q63.5267 619.692 64.227 623.002 Q64.9272 626.312 64.9272 629.718 Q64.9272 638.248 59.9619 643.245 Q54.9967 648.21 46.5303 648.21 Q37.7774 648.21 32.6531 643.499 Q27.4968 638.757 27.4968 630.736 Q27.4968 623.543 32.1438 619.373 Q36.7589 615.172 44.7161 615.172 M42.9973 621.028 Q38.1912 621.092 35.3266 623.734 Q32.4621 626.344 32.4621 630.672 Q32.4621 635.574 35.2312 638.534 Q38.0002 641.462 43.0292 641.908 L42.9973 621.028 Z\" fill=\"#000000\" fill-rule=\"evenodd\" fill-opacity=\"1\" /><path clip-path=\"url(#clip880)\" d=\"M18.2347 599.767 L28.3562 599.767 L28.3562 587.704 L32.9077 587.704 L32.9077 599.767 L52.2594 599.767 Q56.6199 599.767 57.8613 598.589 Q59.1026 597.38 59.1026 593.72 L59.1026 587.704 L64.0042 587.704 L64.0042 593.72 Q64.0042 600.499 61.4897 603.077 Q58.9434 605.655 52.2594 605.655 L32.9077 605.655 L32.9077 609.952 L28.3562 609.952 L28.3562 605.655 L18.2347 605.655 L18.2347 599.767 Z\" fill=\"#000000\" fill-rule=\"evenodd\" fill-opacity=\"1\" /><path clip-path=\"url(#clip880)\" d=\"M28.3562 580.001 L28.3562 574.145 L64.0042 574.145 L64.0042 580.001 L28.3562 580.001 M14.479 580.001 L14.479 574.145 L21.895 574.145 L21.895 580.001 L14.479 580.001 Z\" fill=\"#000000\" fill-rule=\"evenodd\" fill-opacity=\"1\" /><path clip-path=\"url(#clip880)\" d=\"M32.4621 548.077 Q32.4621 552.788 36.1542 555.525 Q39.8145 558.263 46.212 558.263 Q52.6095 558.263 56.3017 555.557 Q59.9619 552.82 59.9619 548.077 Q59.9619 543.399 56.2698 540.661 Q52.5777 537.924 46.212 537.924 Q39.8781 537.924 36.186 540.661 Q32.4621 543.399 32.4621 548.077 M27.4968 548.077 Q27.4968 540.439 32.4621 536.078 Q37.4273 531.718 46.212 531.718 Q54.9649 531.718 59.9619 536.078 Q64.9272 540.439 64.9272 548.077 Q64.9272 555.748 59.9619 560.109 Q54.9649 564.437 46.212 564.437 Q37.4273 564.437 32.4621 560.109 Q27.4968 555.748 27.4968 548.077 Z\" fill=\"#000000\" fill-rule=\"evenodd\" fill-opacity=\"1\" /><path clip-path=\"url(#clip880)\" d=\"M42.4881 492.377 L64.0042 492.377 L64.0042 498.234 L42.679 498.234 Q37.6183 498.234 35.1038 500.207 Q32.5894 502.181 32.5894 506.127 Q32.5894 510.87 35.6131 513.607 Q38.6368 516.344 43.8567 516.344 L64.0042 516.344 L64.0042 522.233 L28.3562 522.233 L28.3562 516.344 L33.8944 516.344 Q30.6797 514.244 29.0883 511.411 Q27.4968 508.546 27.4968 504.822 Q27.4968 498.68 31.3163 495.529 Q35.1038 492.377 42.4881 492.377 Z\" fill=\"#000000\" fill-rule=\"evenodd\" fill-opacity=\"1\" /><path clip-path=\"url(#clip880)\" d=\"M16.4842 466.31 L16.4842 426.11 L21.895 426.11 L21.895 442.98 L64.0042 442.98 L64.0042 449.441 L21.895 449.441 L21.895 466.31 L16.4842 466.31 Z\" fill=\"#000000\" fill-rule=\"evenodd\" fill-opacity=\"1\" /><path clip-path=\"url(#clip880)\" d=\"M28.3562 422.164 L28.3562 416.307 L64.0042 416.307 L64.0042 422.164 L28.3562 422.164 M14.479 422.164 L14.479 416.307 L21.895 416.307 L21.895 422.164 L14.479 422.164 Z\" fill=\"#000000\" fill-rule=\"evenodd\" fill-opacity=\"1\" /><path clip-path=\"url(#clip880)\" d=\"M35.1993 376.299 Q31.2526 374.103 29.3747 371.047 Q27.4968 367.992 27.4968 363.854 Q27.4968 358.284 31.4117 355.26 Q35.2948 352.236 42.4881 352.236 L64.0042 352.236 L64.0042 358.125 L42.679 358.125 Q37.5546 358.125 35.072 359.939 Q32.5894 361.753 32.5894 365.477 Q32.5894 370.029 35.6131 372.67 Q38.6368 375.312 43.8567 375.312 L64.0042 375.312 L64.0042 381.2 L42.679 381.2 Q37.5228 381.2 35.072 383.015 Q32.5894 384.829 32.5894 388.616 Q32.5894 393.104 35.6449 395.746 Q38.6686 398.388 43.8567 398.388 L64.0042 398.388 L64.0042 404.276 L28.3562 404.276 L28.3562 398.388 L33.8944 398.388 Q30.616 396.383 29.0564 393.582 Q27.4968 390.781 27.4968 386.93 Q27.4968 383.046 29.4702 380.341 Q31.4436 377.604 35.1993 376.299 Z\" fill=\"#000000\" fill-rule=\"evenodd\" fill-opacity=\"1\" /><path clip-path=\"url(#clip880)\" d=\"M44.7161 310.064 L47.5806 310.064 L47.5806 336.991 Q53.6281 336.609 56.8109 333.362 Q59.9619 330.084 59.9619 324.259 Q59.9619 320.885 59.1344 317.734 Q58.3069 314.551 56.6518 311.432 L62.1899 311.432 Q63.5267 314.583 64.227 317.893 Q64.9272 321.204 64.9272 324.609 Q64.9272 333.139 59.9619 338.136 Q54.9967 343.102 46.5303 343.102 Q37.7774 343.102 32.6531 338.391 Q27.4968 333.649 27.4968 325.628 Q27.4968 318.435 32.1438 314.265 Q36.7589 310.064 44.7161 310.064 M42.9973 315.92 Q38.1912 315.984 35.3266 318.626 Q32.4621 321.235 32.4621 325.564 Q32.4621 330.466 35.2312 333.426 Q38.0002 336.354 43.0292 336.8 L42.9973 315.92 Z\" fill=\"#000000\" fill-rule=\"evenodd\" fill-opacity=\"1\" /><polyline clip-path=\"url(#clip882)\" style=\"stroke:#009af9; stroke-linecap:round; stroke-linejoin:round; stroke-width:4; stroke-opacity:1; fill:none\" points=\"\n",
       "  237.067,85.838 289.736,416.465 342.404,635.31 395.072,721.132 447.741,859.09 500.409,962.076 553.077,1021.94 605.746,1039.96 658.414,1045.11 711.083,1146.16 \n",
       "  763.751,1161.61 816.419,1197.66 869.088,1219.33 921.756,1229.41 974.424,1212.16 1027.09,1248.08 1079.76,1173.2 1132.43,1176.2 1185.1,1287.34 1237.77,1293.56 \n",
       "  1290.43,1293.56 1343.1,1296.99 1395.77,1248.93 1448.44,1309.87 1501.11,1320.81 1553.78,1331.75 1606.45,1338.83 1659.11,1332.82 1711.78,1320.38 1764.45,1349.77 \n",
       "  1817.12,1347.84 1869.79,1345.27 1922.46,1353.42 1975.12,1358.79 2027.79,1359.64 2080.46,1346.34 2133.13,1368.01 2185.8,1343.34 2238.47,1362.65 2291.13,1372.3 \n",
       "  \n",
       "  \"/>\n",
       "</svg>\n"
      ]
     },
     "execution_count": 49,
     "metadata": {},
     "output_type": "execute_result"
    }
   ],
   "source": [
    "plot(iterations, avg_compl_time, xlabel=\"Iterations\", ylabel=\"Average Completion Time\", legend = false, xformatter = :scientific)"
   ]
  },
  {
   "cell_type": "code",
   "execution_count": 50,
   "id": "4739f3dc",
   "metadata": {},
   "outputs": [
    {
     "data": {
      "text/plain": [
       "\"/home/larissa/Documents/Projects/ADLR/ADLR_project/src/RL_PPO_quadcopter_3D/office_test/plots/fast/best_comp_time.svg\""
      ]
     },
     "execution_count": 50,
     "metadata": {},
     "output_type": "execute_result"
    }
   ],
   "source": [
    "savefig(fig_path * \"best_comp_time.svg\")"
   ]
  },
  {
   "cell_type": "code",
   "execution_count": 51,
   "id": "bb729491",
   "metadata": {},
   "outputs": [
    {
     "data": {
      "image/svg+xml": [
       "<?xml version=\"1.0\" encoding=\"utf-8\"?>\n",
       "<svg xmlns=\"http://www.w3.org/2000/svg\" xmlns:xlink=\"http://www.w3.org/1999/xlink\" width=\"600\" height=\"400\" viewBox=\"0 0 2400 1600\">\n",
       "<defs>\n",
       "  <clipPath id=\"clip960\">\n",
       "    <rect x=\"0\" y=\"0\" width=\"2400\" height=\"1600\"/>\n",
       "  </clipPath>\n",
       "</defs>\n",
       "<path clip-path=\"url(#clip960)\" d=\"\n",
       "M0 1600 L2400 1600 L2400 0 L0 0  Z\n",
       "  \" fill=\"#ffffff\" fill-rule=\"evenodd\" fill-opacity=\"1\"/>\n",
       "<defs>\n",
       "  <clipPath id=\"clip961\">\n",
       "    <rect x=\"480\" y=\"0\" width=\"1681\" height=\"1600\"/>\n",
       "  </clipPath>\n",
       "</defs>\n",
       "<path clip-path=\"url(#clip960)\" d=\"\n",
       "M175.445 1410.9 L2352.76 1410.9 L2352.76 47.2441 L175.445 47.2441  Z\n",
       "  \" fill=\"#ffffff\" fill-rule=\"evenodd\" fill-opacity=\"1\"/>\n",
       "<defs>\n",
       "  <clipPath id=\"clip962\">\n",
       "    <rect x=\"175\" y=\"47\" width=\"2178\" height=\"1365\"/>\n",
       "  </clipPath>\n",
       "</defs>\n",
       "<polyline clip-path=\"url(#clip962)\" style=\"stroke:#000000; stroke-linecap:round; stroke-linejoin:round; stroke-width:2; stroke-opacity:0.1; fill:none\" points=\"\n",
       "  184.399,1410.9 184.399,47.2441 \n",
       "  \"/>\n",
       "<polyline clip-path=\"url(#clip962)\" style=\"stroke:#000000; stroke-linecap:round; stroke-linejoin:round; stroke-width:2; stroke-opacity:0.1; fill:none\" points=\"\n",
       "  711.083,1410.9 711.083,47.2441 \n",
       "  \"/>\n",
       "<polyline clip-path=\"url(#clip962)\" style=\"stroke:#000000; stroke-linecap:round; stroke-linejoin:round; stroke-width:2; stroke-opacity:0.1; fill:none\" points=\"\n",
       "  1237.77,1410.9 1237.77,47.2441 \n",
       "  \"/>\n",
       "<polyline clip-path=\"url(#clip962)\" style=\"stroke:#000000; stroke-linecap:round; stroke-linejoin:round; stroke-width:2; stroke-opacity:0.1; fill:none\" points=\"\n",
       "  1764.45,1410.9 1764.45,47.2441 \n",
       "  \"/>\n",
       "<polyline clip-path=\"url(#clip962)\" style=\"stroke:#000000; stroke-linecap:round; stroke-linejoin:round; stroke-width:2; stroke-opacity:0.1; fill:none\" points=\"\n",
       "  2291.13,1410.9 2291.13,47.2441 \n",
       "  \"/>\n",
       "<polyline clip-path=\"url(#clip960)\" style=\"stroke:#000000; stroke-linecap:round; stroke-linejoin:round; stroke-width:4; stroke-opacity:1; fill:none\" points=\"\n",
       "  175.445,1410.9 2352.76,1410.9 \n",
       "  \"/>\n",
       "<polyline clip-path=\"url(#clip960)\" style=\"stroke:#000000; stroke-linecap:round; stroke-linejoin:round; stroke-width:4; stroke-opacity:1; fill:none\" points=\"\n",
       "  184.399,1410.9 184.399,1392 \n",
       "  \"/>\n",
       "<polyline clip-path=\"url(#clip960)\" style=\"stroke:#000000; stroke-linecap:round; stroke-linejoin:round; stroke-width:4; stroke-opacity:1; fill:none\" points=\"\n",
       "  711.083,1410.9 711.083,1392 \n",
       "  \"/>\n",
       "<polyline clip-path=\"url(#clip960)\" style=\"stroke:#000000; stroke-linecap:round; stroke-linejoin:round; stroke-width:4; stroke-opacity:1; fill:none\" points=\"\n",
       "  1237.77,1410.9 1237.77,1392 \n",
       "  \"/>\n",
       "<polyline clip-path=\"url(#clip960)\" style=\"stroke:#000000; stroke-linecap:round; stroke-linejoin:round; stroke-width:4; stroke-opacity:1; fill:none\" points=\"\n",
       "  1764.45,1410.9 1764.45,1392 \n",
       "  \"/>\n",
       "<polyline clip-path=\"url(#clip960)\" style=\"stroke:#000000; stroke-linecap:round; stroke-linejoin:round; stroke-width:4; stroke-opacity:1; fill:none\" points=\"\n",
       "  2291.13,1410.9 2291.13,1392 \n",
       "  \"/>\n",
       "<path clip-path=\"url(#clip960)\" d=\"M184.399 1441.82 Q180.788 1441.82 178.959 1445.38 Q177.154 1448.92 177.154 1456.05 Q177.154 1463.16 178.959 1466.72 Q180.788 1470.26 184.399 1470.26 Q188.033 1470.26 189.839 1466.72 Q191.667 1463.16 191.667 1456.05 Q191.667 1448.92 189.839 1445.38 Q188.033 1441.82 184.399 1441.82 M184.399 1438.11 Q190.209 1438.11 193.265 1442.72 Q196.343 1447.3 196.343 1456.05 Q196.343 1464.78 193.265 1469.38 Q190.209 1473.97 184.399 1473.97 Q178.589 1473.97 175.51 1469.38 Q172.454 1464.78 172.454 1456.05 Q172.454 1447.3 175.51 1442.72 Q178.589 1438.11 184.399 1438.11 Z\" fill=\"#000000\" fill-rule=\"evenodd\" fill-opacity=\"1\" /><path clip-path=\"url(#clip960)\" d=\"M618.517 1485.02 L626.156 1485.02 L626.156 1458.66 L617.846 1460.32 L617.846 1456.06 L626.11 1454.4 L630.786 1454.4 L630.786 1485.02 L638.425 1485.02 L638.425 1488.96 L618.517 1488.96 L618.517 1485.02 Z\" fill=\"#000000\" fill-rule=\"evenodd\" fill-opacity=\"1\" /><path clip-path=\"url(#clip960)\" d=\"M647.869 1483.08 L652.753 1483.08 L652.753 1488.96 L647.869 1488.96 L647.869 1483.08 Z\" fill=\"#000000\" fill-rule=\"evenodd\" fill-opacity=\"1\" /><path clip-path=\"url(#clip960)\" d=\"M672.938 1457.48 Q669.327 1457.48 667.498 1461.04 Q665.693 1464.58 665.693 1471.71 Q665.693 1478.82 667.498 1482.38 Q669.327 1485.92 672.938 1485.92 Q676.573 1485.92 678.378 1482.38 Q680.207 1478.82 680.207 1471.71 Q680.207 1464.58 678.378 1461.04 Q676.573 1457.48 672.938 1457.48 M672.938 1453.77 Q678.748 1453.77 681.804 1458.38 Q684.883 1462.96 684.883 1471.71 Q684.883 1480.44 681.804 1485.04 Q678.748 1489.63 672.938 1489.63 Q667.128 1489.63 664.049 1485.04 Q660.994 1480.44 660.994 1471.71 Q660.994 1462.96 664.049 1458.38 Q667.128 1453.77 672.938 1453.77 Z\" fill=\"#000000\" fill-rule=\"evenodd\" fill-opacity=\"1\" /><path clip-path=\"url(#clip960)\" d=\"M721.271 1463.49 L710.693 1474.12 L721.271 1484.7 L718.517 1487.5 L707.892 1476.87 L697.267 1487.5 L694.535 1484.7 L705.091 1474.12 L694.535 1463.49 L697.267 1460.69 L707.892 1471.32 L718.517 1460.69 L721.271 1463.49 Z\" fill=\"#000000\" fill-rule=\"evenodd\" fill-opacity=\"1\" /><path clip-path=\"url(#clip960)\" d=\"M733.632 1485.02 L741.271 1485.02 L741.271 1458.66 L732.961 1460.32 L732.961 1456.06 L741.225 1454.4 L745.901 1454.4 L745.901 1485.02 L753.54 1485.02 L753.54 1488.96 L733.632 1488.96 L733.632 1485.02 Z\" fill=\"#000000\" fill-rule=\"evenodd\" fill-opacity=\"1\" /><path clip-path=\"url(#clip960)\" d=\"M772.984 1457.48 Q769.373 1457.48 767.544 1461.04 Q765.739 1464.58 765.739 1471.71 Q765.739 1478.82 767.544 1482.38 Q769.373 1485.92 772.984 1485.92 Q776.618 1485.92 778.424 1482.38 Q780.253 1478.82 780.253 1471.71 Q780.253 1464.58 778.424 1461.04 Q776.618 1457.48 772.984 1457.48 M772.984 1453.77 Q778.794 1453.77 781.85 1458.38 Q784.928 1462.96 784.928 1471.71 Q784.928 1480.44 781.85 1485.04 Q778.794 1489.63 772.984 1489.63 Q767.174 1489.63 764.095 1485.04 Q761.04 1480.44 761.04 1471.71 Q761.04 1462.96 764.095 1458.38 Q767.174 1453.77 772.984 1453.77 Z\" fill=\"#000000\" fill-rule=\"evenodd\" fill-opacity=\"1\" /><path clip-path=\"url(#clip960)\" d=\"M794.953 1445.99 Q792.395 1445.99 790.89 1447.74 Q789.405 1449.49 789.405 1452.54 Q789.405 1455.57 790.89 1457.33 Q792.395 1459.08 794.953 1459.08 Q797.511 1459.08 798.997 1457.33 Q800.501 1455.57 800.501 1452.54 Q800.501 1449.49 798.997 1447.74 Q797.511 1445.99 794.953 1445.99 M802.495 1434.09 L802.495 1437.55 Q801.065 1436.87 799.598 1436.51 Q798.15 1436.16 796.721 1436.16 Q792.959 1436.16 790.966 1438.69 Q788.991 1441.23 788.709 1446.37 Q789.818 1444.73 791.492 1443.87 Q793.166 1442.98 795.179 1442.98 Q799.41 1442.98 801.855 1445.56 Q804.319 1448.12 804.319 1452.54 Q804.319 1456.86 801.761 1459.48 Q799.204 1462.09 794.953 1462.09 Q790.082 1462.09 787.505 1458.37 Q784.928 1454.62 784.928 1447.53 Q784.928 1440.88 788.088 1436.93 Q791.248 1432.96 796.57 1432.96 Q798 1432.96 799.448 1433.24 Q800.915 1433.52 802.495 1434.09 Z\" fill=\"#000000\" fill-rule=\"evenodd\" fill-opacity=\"1\" /><path clip-path=\"url(#clip960)\" d=\"M1149.29 1485.02 L1165.61 1485.02 L1165.61 1488.96 L1143.66 1488.96 L1143.66 1485.02 Q1146.32 1482.27 1150.91 1477.64 Q1155.51 1472.98 1156.69 1471.64 Q1158.94 1469.12 1159.82 1467.38 Q1160.72 1465.62 1160.72 1463.93 Q1160.72 1461.18 1158.78 1459.44 Q1156.86 1457.71 1153.75 1457.71 Q1151.56 1457.71 1149.1 1458.47 Q1146.67 1459.23 1143.89 1460.79 L1143.89 1456.06 Q1146.72 1454.93 1149.17 1454.35 Q1151.62 1453.77 1153.66 1453.77 Q1159.03 1453.77 1162.23 1456.46 Q1165.42 1459.14 1165.42 1463.63 Q1165.42 1465.76 1164.61 1467.68 Q1163.82 1469.58 1161.72 1472.17 Q1161.14 1472.85 1158.04 1476.06 Q1154.93 1479.26 1149.29 1485.02 Z\" fill=\"#000000\" fill-rule=\"evenodd\" fill-opacity=\"1\" /><path clip-path=\"url(#clip960)\" d=\"M1175.42 1483.08 L1180.31 1483.08 L1180.31 1488.96 L1175.42 1488.96 L1175.42 1483.08 Z\" fill=\"#000000\" fill-rule=\"evenodd\" fill-opacity=\"1\" /><path clip-path=\"url(#clip960)\" d=\"M1200.49 1457.48 Q1196.88 1457.48 1195.05 1461.04 Q1193.24 1464.58 1193.24 1471.71 Q1193.24 1478.82 1195.05 1482.38 Q1196.88 1485.92 1200.49 1485.92 Q1204.12 1485.92 1205.93 1482.38 Q1207.76 1478.82 1207.76 1471.71 Q1207.76 1464.58 1205.93 1461.04 Q1204.12 1457.48 1200.49 1457.48 M1200.49 1453.77 Q1206.3 1453.77 1209.36 1458.38 Q1212.43 1462.96 1212.43 1471.71 Q1212.43 1480.44 1209.36 1485.04 Q1206.3 1489.63 1200.49 1489.63 Q1194.68 1489.63 1191.6 1485.04 Q1188.55 1480.44 1188.55 1471.71 Q1188.55 1462.96 1191.6 1458.38 Q1194.68 1453.77 1200.49 1453.77 Z\" fill=\"#000000\" fill-rule=\"evenodd\" fill-opacity=\"1\" /><path clip-path=\"url(#clip960)\" d=\"M1248.82 1463.49 L1238.24 1474.12 L1248.82 1484.7 L1246.07 1487.5 L1235.44 1476.87 L1224.82 1487.5 L1222.09 1484.7 L1232.64 1474.12 L1222.09 1463.49 L1224.82 1460.69 L1235.44 1471.32 L1246.07 1460.69 L1248.82 1463.49 Z\" fill=\"#000000\" fill-rule=\"evenodd\" fill-opacity=\"1\" /><path clip-path=\"url(#clip960)\" d=\"M1261.18 1485.02 L1268.82 1485.02 L1268.82 1458.66 L1260.51 1460.32 L1260.51 1456.06 L1268.78 1454.4 L1273.45 1454.4 L1273.45 1485.02 L1281.09 1485.02 L1281.09 1488.96 L1261.18 1488.96 L1261.18 1485.02 Z\" fill=\"#000000\" fill-rule=\"evenodd\" fill-opacity=\"1\" /><path clip-path=\"url(#clip960)\" d=\"M1300.54 1457.48 Q1296.92 1457.48 1295.1 1461.04 Q1293.29 1464.58 1293.29 1471.71 Q1293.29 1478.82 1295.1 1482.38 Q1296.92 1485.92 1300.54 1485.92 Q1304.17 1485.92 1305.98 1482.38 Q1307.8 1478.82 1307.8 1471.71 Q1307.8 1464.58 1305.98 1461.04 Q1304.17 1457.48 1300.54 1457.48 M1300.54 1453.77 Q1306.35 1453.77 1309.4 1458.38 Q1312.48 1462.96 1312.48 1471.71 Q1312.48 1480.44 1309.4 1485.04 Q1306.35 1489.63 1300.54 1489.63 Q1294.73 1489.63 1291.65 1485.04 Q1288.59 1480.44 1288.59 1471.71 Q1288.59 1462.96 1291.65 1458.38 Q1294.73 1453.77 1300.54 1453.77 Z\" fill=\"#000000\" fill-rule=\"evenodd\" fill-opacity=\"1\" /><path clip-path=\"url(#clip960)\" d=\"M1322.5 1445.99 Q1319.95 1445.99 1318.44 1447.74 Q1316.96 1449.49 1316.96 1452.54 Q1316.96 1455.57 1318.44 1457.33 Q1319.95 1459.08 1322.5 1459.08 Q1325.06 1459.08 1326.55 1457.33 Q1328.05 1455.57 1328.05 1452.54 Q1328.05 1449.49 1326.55 1447.74 Q1325.06 1445.99 1322.5 1445.99 M1330.05 1434.09 L1330.05 1437.55 Q1328.62 1436.87 1327.15 1436.51 Q1325.7 1436.16 1324.27 1436.16 Q1320.51 1436.16 1318.52 1438.69 Q1316.54 1441.23 1316.26 1446.37 Q1317.37 1444.73 1319.04 1443.87 Q1320.72 1442.98 1322.73 1442.98 Q1326.96 1442.98 1329.41 1445.56 Q1331.87 1448.12 1331.87 1452.54 Q1331.87 1456.86 1329.31 1459.48 Q1326.76 1462.09 1322.5 1462.09 Q1317.63 1462.09 1315.06 1458.37 Q1312.48 1454.62 1312.48 1447.53 Q1312.48 1440.88 1315.64 1436.93 Q1318.8 1432.96 1324.12 1432.96 Q1325.55 1432.96 1327 1433.24 Q1328.47 1433.52 1330.05 1434.09 Z\" fill=\"#000000\" fill-rule=\"evenodd\" fill-opacity=\"1\" /><path clip-path=\"url(#clip960)\" d=\"M1686.04 1470.32 Q1689.4 1471.04 1691.27 1473.31 Q1693.17 1475.58 1693.17 1478.91 Q1693.17 1484.03 1689.65 1486.83 Q1686.13 1489.63 1679.65 1489.63 Q1677.48 1489.63 1675.16 1489.19 Q1672.87 1488.77 1670.41 1487.91 L1670.41 1483.4 Q1672.36 1484.54 1674.67 1485.11 Q1676.99 1485.69 1679.51 1485.69 Q1683.91 1485.69 1686.2 1483.96 Q1688.52 1482.22 1688.52 1478.91 Q1688.52 1475.85 1686.36 1474.14 Q1684.23 1472.41 1680.41 1472.41 L1676.39 1472.41 L1676.39 1468.56 L1680.6 1468.56 Q1684.05 1468.56 1685.88 1467.2 Q1687.71 1465.81 1687.71 1463.22 Q1687.71 1460.55 1685.81 1459.14 Q1683.93 1457.71 1680.41 1457.71 Q1678.49 1457.71 1676.29 1458.12 Q1674.1 1458.54 1671.46 1459.42 L1671.46 1455.25 Q1674.12 1454.51 1676.43 1454.14 Q1678.77 1453.77 1680.83 1453.77 Q1686.16 1453.77 1689.26 1456.2 Q1692.36 1458.61 1692.36 1462.73 Q1692.36 1465.6 1690.72 1467.59 Q1689.07 1469.56 1686.04 1470.32 Z\" fill=\"#000000\" fill-rule=\"evenodd\" fill-opacity=\"1\" /><path clip-path=\"url(#clip960)\" d=\"M1702.04 1483.08 L1706.92 1483.08 L1706.92 1488.96 L1702.04 1488.96 L1702.04 1483.08 Z\" fill=\"#000000\" fill-rule=\"evenodd\" fill-opacity=\"1\" /><path clip-path=\"url(#clip960)\" d=\"M1727.1 1457.48 Q1723.49 1457.48 1721.66 1461.04 Q1719.86 1464.58 1719.86 1471.71 Q1719.86 1478.82 1721.66 1482.38 Q1723.49 1485.92 1727.1 1485.92 Q1730.74 1485.92 1732.54 1482.38 Q1734.37 1478.82 1734.37 1471.71 Q1734.37 1464.58 1732.54 1461.04 Q1730.74 1457.48 1727.1 1457.48 M1727.1 1453.77 Q1732.91 1453.77 1735.97 1458.38 Q1739.05 1462.96 1739.05 1471.71 Q1739.05 1480.44 1735.97 1485.04 Q1732.91 1489.63 1727.1 1489.63 Q1721.29 1489.63 1718.22 1485.04 Q1715.16 1480.44 1715.16 1471.71 Q1715.16 1462.96 1718.22 1458.38 Q1721.29 1453.77 1727.1 1453.77 Z\" fill=\"#000000\" fill-rule=\"evenodd\" fill-opacity=\"1\" /><path clip-path=\"url(#clip960)\" d=\"M1775.44 1463.49 L1764.86 1474.12 L1775.44 1484.7 L1772.68 1487.5 L1762.06 1476.87 L1751.43 1487.5 L1748.7 1484.7 L1759.26 1474.12 L1748.7 1463.49 L1751.43 1460.69 L1762.06 1471.32 L1772.68 1460.69 L1775.44 1463.49 Z\" fill=\"#000000\" fill-rule=\"evenodd\" fill-opacity=\"1\" /><path clip-path=\"url(#clip960)\" d=\"M1787.8 1485.02 L1795.44 1485.02 L1795.44 1458.66 L1787.13 1460.32 L1787.13 1456.06 L1795.39 1454.4 L1800.07 1454.4 L1800.07 1485.02 L1807.71 1485.02 L1807.71 1488.96 L1787.8 1488.96 L1787.8 1485.02 Z\" fill=\"#000000\" fill-rule=\"evenodd\" fill-opacity=\"1\" /><path clip-path=\"url(#clip960)\" d=\"M1827.15 1457.48 Q1823.54 1457.48 1821.71 1461.04 Q1819.9 1464.58 1819.9 1471.71 Q1819.9 1478.82 1821.71 1482.38 Q1823.54 1485.92 1827.15 1485.92 Q1830.78 1485.92 1832.59 1482.38 Q1834.42 1478.82 1834.42 1471.71 Q1834.42 1464.58 1832.59 1461.04 Q1830.78 1457.48 1827.15 1457.48 M1827.15 1453.77 Q1832.96 1453.77 1836.02 1458.38 Q1839.09 1462.96 1839.09 1471.71 Q1839.09 1480.44 1836.02 1485.04 Q1832.96 1489.63 1827.15 1489.63 Q1821.34 1489.63 1818.26 1485.04 Q1815.21 1480.44 1815.21 1471.71 Q1815.21 1462.96 1818.26 1458.38 Q1821.34 1453.77 1827.15 1453.77 Z\" fill=\"#000000\" fill-rule=\"evenodd\" fill-opacity=\"1\" /><path clip-path=\"url(#clip960)\" d=\"M1849.12 1445.99 Q1846.56 1445.99 1845.06 1447.74 Q1843.57 1449.49 1843.57 1452.54 Q1843.57 1455.57 1845.06 1457.33 Q1846.56 1459.08 1849.12 1459.08 Q1851.68 1459.08 1853.16 1457.33 Q1854.67 1455.57 1854.67 1452.54 Q1854.67 1449.49 1853.16 1447.74 Q1851.68 1445.99 1849.12 1445.99 M1856.66 1434.09 L1856.66 1437.55 Q1855.23 1436.87 1853.76 1436.51 Q1852.32 1436.16 1850.89 1436.16 Q1847.13 1436.16 1845.13 1438.69 Q1843.16 1441.23 1842.87 1446.37 Q1843.98 1444.73 1845.66 1443.87 Q1847.33 1442.98 1849.34 1442.98 Q1853.58 1442.98 1856.02 1445.56 Q1858.49 1448.12 1858.49 1452.54 Q1858.49 1456.86 1855.93 1459.48 Q1853.37 1462.09 1849.12 1462.09 Q1844.25 1462.09 1841.67 1458.37 Q1839.09 1454.62 1839.09 1447.53 Q1839.09 1440.88 1842.25 1436.93 Q1845.41 1432.96 1850.74 1432.96 Q1852.17 1432.96 1853.61 1433.24 Q1855.08 1433.52 1856.66 1434.09 Z\" fill=\"#000000\" fill-rule=\"evenodd\" fill-opacity=\"1\" /><path clip-path=\"url(#clip960)\" d=\"M2212.05 1458.47 L2200.25 1476.92 L2212.05 1476.92 L2212.05 1458.47 M2210.83 1454.4 L2216.71 1454.4 L2216.71 1476.92 L2221.64 1476.92 L2221.64 1480.81 L2216.71 1480.81 L2216.71 1488.96 L2212.05 1488.96 L2212.05 1480.81 L2196.45 1480.81 L2196.45 1476.29 L2210.83 1454.4 Z\" fill=\"#000000\" fill-rule=\"evenodd\" fill-opacity=\"1\" /><path clip-path=\"url(#clip960)\" d=\"M2229.37 1483.08 L2234.25 1483.08 L2234.25 1488.96 L2229.37 1488.96 L2229.37 1483.08 Z\" fill=\"#000000\" fill-rule=\"evenodd\" fill-opacity=\"1\" /><path clip-path=\"url(#clip960)\" d=\"M2254.44 1457.48 Q2250.83 1457.48 2249 1461.04 Q2247.19 1464.58 2247.19 1471.71 Q2247.19 1478.82 2249 1482.38 Q2250.83 1485.92 2254.44 1485.92 Q2258.07 1485.92 2259.88 1482.38 Q2261.7 1478.82 2261.7 1471.71 Q2261.7 1464.58 2259.88 1461.04 Q2258.07 1457.48 2254.44 1457.48 M2254.44 1453.77 Q2260.25 1453.77 2263.3 1458.38 Q2266.38 1462.96 2266.38 1471.71 Q2266.38 1480.44 2263.3 1485.04 Q2260.25 1489.63 2254.44 1489.63 Q2248.63 1489.63 2245.55 1485.04 Q2242.49 1480.44 2242.49 1471.71 Q2242.49 1462.96 2245.55 1458.38 Q2248.63 1453.77 2254.44 1453.77 Z\" fill=\"#000000\" fill-rule=\"evenodd\" fill-opacity=\"1\" /><path clip-path=\"url(#clip960)\" d=\"M2302.77 1463.49 L2292.19 1474.12 L2302.77 1484.7 L2300.01 1487.5 L2289.39 1476.87 L2278.76 1487.5 L2276.03 1484.7 L2286.59 1474.12 L2276.03 1463.49 L2278.76 1460.69 L2289.39 1471.32 L2300.01 1460.69 L2302.77 1463.49 Z\" fill=\"#000000\" fill-rule=\"evenodd\" fill-opacity=\"1\" /><path clip-path=\"url(#clip960)\" d=\"M2315.13 1485.02 L2322.77 1485.02 L2322.77 1458.66 L2314.46 1460.32 L2314.46 1456.06 L2322.72 1454.4 L2327.4 1454.4 L2327.4 1485.02 L2335.04 1485.02 L2335.04 1488.96 L2315.13 1488.96 L2315.13 1485.02 Z\" fill=\"#000000\" fill-rule=\"evenodd\" fill-opacity=\"1\" /><path clip-path=\"url(#clip960)\" d=\"M2354.48 1457.48 Q2350.87 1457.48 2349.04 1461.04 Q2347.24 1464.58 2347.24 1471.71 Q2347.24 1478.82 2349.04 1482.38 Q2350.87 1485.92 2354.48 1485.92 Q2358.12 1485.92 2359.92 1482.38 Q2361.75 1478.82 2361.75 1471.71 Q2361.75 1464.58 2359.92 1461.04 Q2358.12 1457.48 2354.48 1457.48 M2354.48 1453.77 Q2360.29 1453.77 2363.35 1458.38 Q2366.43 1462.96 2366.43 1471.71 Q2366.43 1480.44 2363.35 1485.04 Q2360.29 1489.63 2354.48 1489.63 Q2348.67 1489.63 2345.59 1485.04 Q2342.54 1480.44 2342.54 1471.71 Q2342.54 1462.96 2345.59 1458.38 Q2348.67 1453.77 2354.48 1453.77 Z\" fill=\"#000000\" fill-rule=\"evenodd\" fill-opacity=\"1\" /><path clip-path=\"url(#clip960)\" d=\"M2376.45 1445.99 Q2373.89 1445.99 2372.39 1447.74 Q2370.9 1449.49 2370.9 1452.54 Q2370.9 1455.57 2372.39 1457.33 Q2373.89 1459.08 2376.45 1459.08 Q2379.01 1459.08 2380.49 1457.33 Q2382 1455.57 2382 1452.54 Q2382 1449.49 2380.49 1447.74 Q2379.01 1445.99 2376.45 1445.99 M2383.99 1434.09 L2383.99 1437.55 Q2382.56 1436.87 2381.1 1436.51 Q2379.65 1436.16 2378.22 1436.16 Q2374.46 1436.16 2372.46 1438.69 Q2370.49 1441.23 2370.21 1446.37 Q2371.32 1444.73 2372.99 1443.87 Q2374.66 1442.98 2376.68 1442.98 Q2380.91 1442.98 2383.35 1445.56 Q2385.82 1448.12 2385.82 1452.54 Q2385.82 1456.86 2383.26 1459.48 Q2380.7 1462.09 2376.45 1462.09 Q2371.58 1462.09 2369 1458.37 Q2366.43 1454.62 2366.43 1447.53 Q2366.43 1440.88 2369.59 1436.93 Q2372.75 1432.96 2378.07 1432.96 Q2379.5 1432.96 2380.95 1433.24 Q2382.41 1433.52 2383.99 1434.09 Z\" fill=\"#000000\" fill-rule=\"evenodd\" fill-opacity=\"1\" /><path clip-path=\"url(#clip960)\" d=\"M1113.66 1526.67 L1120.09 1526.67 L1120.09 1574.19 L1113.66 1574.19 L1113.66 1526.67 Z\" fill=\"#000000\" fill-rule=\"evenodd\" fill-opacity=\"1\" /><path clip-path=\"url(#clip960)\" d=\"M1138.43 1528.42 L1138.43 1538.54 L1150.49 1538.54 L1150.49 1543.09 L1138.43 1543.09 L1138.43 1562.44 Q1138.43 1566.8 1139.6 1568.04 Q1140.81 1569.28 1144.47 1569.28 L1150.49 1569.28 L1150.49 1574.19 L1144.47 1574.19 Q1137.69 1574.19 1135.12 1571.67 Q1132.54 1569.12 1132.54 1562.44 L1132.54 1543.09 L1128.24 1543.09 L1128.24 1538.54 L1132.54 1538.54 L1132.54 1528.42 L1138.43 1528.42 Z\" fill=\"#000000\" fill-rule=\"evenodd\" fill-opacity=\"1\" /><path clip-path=\"url(#clip960)\" d=\"M1188.68 1554.9 L1188.68 1557.76 L1161.76 1557.76 Q1162.14 1563.81 1165.38 1566.99 Q1168.66 1570.14 1174.49 1570.14 Q1177.86 1570.14 1181.01 1569.32 Q1184.2 1568.49 1187.31 1566.83 L1187.31 1572.37 Q1184.16 1573.71 1180.85 1574.41 Q1177.54 1575.11 1174.14 1575.11 Q1165.61 1575.11 1160.61 1570.14 Q1155.64 1565.18 1155.64 1556.71 Q1155.64 1547.96 1160.36 1542.83 Q1165.1 1537.68 1173.12 1537.68 Q1180.31 1537.68 1184.48 1542.33 Q1188.68 1546.94 1188.68 1554.9 M1182.83 1553.18 Q1182.76 1548.37 1180.12 1545.51 Q1177.51 1542.64 1173.18 1542.64 Q1168.28 1542.64 1165.32 1545.41 Q1162.39 1548.18 1161.95 1553.21 L1182.83 1553.18 Z\" fill=\"#000000\" fill-rule=\"evenodd\" fill-opacity=\"1\" /><path clip-path=\"url(#clip960)\" d=\"M1218.95 1544.01 Q1217.97 1543.44 1216.79 1543.18 Q1215.64 1542.9 1214.24 1542.9 Q1209.28 1542.9 1206.6 1546.14 Q1203.96 1549.36 1203.96 1555.41 L1203.96 1574.19 L1198.07 1574.19 L1198.07 1538.54 L1203.96 1538.54 L1203.96 1544.08 Q1205.81 1540.83 1208.77 1539.27 Q1211.73 1537.68 1215.96 1537.68 Q1216.56 1537.68 1217.3 1537.77 Q1218.03 1537.84 1218.92 1538 L1218.95 1544.01 Z\" fill=\"#000000\" fill-rule=\"evenodd\" fill-opacity=\"1\" /><path clip-path=\"url(#clip960)\" d=\"M1241.3 1556.27 Q1234.2 1556.27 1231.46 1557.89 Q1228.72 1559.51 1228.72 1563.43 Q1228.72 1566.55 1230.76 1568.39 Q1232.83 1570.21 1236.36 1570.21 Q1241.23 1570.21 1244.16 1566.77 Q1247.12 1563.3 1247.12 1557.57 L1247.12 1556.27 L1241.3 1556.27 M1252.98 1553.85 L1252.98 1574.19 L1247.12 1574.19 L1247.12 1568.77 Q1245.11 1572.02 1242.12 1573.58 Q1239.13 1575.11 1234.8 1575.11 Q1229.33 1575.11 1226.08 1572.05 Q1222.87 1568.97 1222.87 1563.81 Q1222.87 1557.79 1226.88 1554.74 Q1230.92 1551.68 1238.91 1551.68 L1247.12 1551.68 L1247.12 1551.11 Q1247.12 1547.07 1244.45 1544.87 Q1241.8 1542.64 1237 1542.64 Q1233.94 1542.64 1231.05 1543.38 Q1228.15 1544.11 1225.48 1545.57 L1225.48 1540.16 Q1228.69 1538.92 1231.72 1538.31 Q1234.74 1537.68 1237.6 1537.68 Q1245.34 1537.68 1249.16 1541.69 Q1252.98 1545.7 1252.98 1553.85 Z\" fill=\"#000000\" fill-rule=\"evenodd\" fill-opacity=\"1\" /><path clip-path=\"url(#clip960)\" d=\"M1270.83 1528.42 L1270.83 1538.54 L1282.9 1538.54 L1282.9 1543.09 L1270.83 1543.09 L1270.83 1562.44 Q1270.83 1566.8 1272.01 1568.04 Q1273.22 1569.28 1276.88 1569.28 L1282.9 1569.28 L1282.9 1574.19 L1276.88 1574.19 Q1270.1 1574.19 1267.52 1571.67 Q1264.94 1569.12 1264.94 1562.44 L1264.94 1543.09 L1260.65 1543.09 L1260.65 1538.54 L1264.94 1538.54 L1264.94 1528.42 L1270.83 1528.42 Z\" fill=\"#000000\" fill-rule=\"evenodd\" fill-opacity=\"1\" /><path clip-path=\"url(#clip960)\" d=\"M1290.6 1538.54 L1296.45 1538.54 L1296.45 1574.19 L1290.6 1574.19 L1290.6 1538.54 M1290.6 1524.66 L1296.45 1524.66 L1296.45 1532.08 L1290.6 1532.08 L1290.6 1524.66 Z\" fill=\"#000000\" fill-rule=\"evenodd\" fill-opacity=\"1\" /><path clip-path=\"url(#clip960)\" d=\"M1322.52 1542.64 Q1317.81 1542.64 1315.07 1546.34 Q1312.34 1550 1312.34 1556.39 Q1312.34 1562.79 1315.04 1566.48 Q1317.78 1570.14 1322.52 1570.14 Q1327.2 1570.14 1329.94 1566.45 Q1332.68 1562.76 1332.68 1556.39 Q1332.68 1550.06 1329.94 1546.37 Q1327.2 1542.64 1322.52 1542.64 M1322.52 1537.68 Q1330.16 1537.68 1334.52 1542.64 Q1338.88 1547.61 1338.88 1556.39 Q1338.88 1565.15 1334.52 1570.14 Q1330.16 1575.11 1322.52 1575.11 Q1314.85 1575.11 1310.49 1570.14 Q1306.16 1565.15 1306.16 1556.39 Q1306.16 1547.61 1310.49 1542.64 Q1314.85 1537.68 1322.52 1537.68 Z\" fill=\"#000000\" fill-rule=\"evenodd\" fill-opacity=\"1\" /><path clip-path=\"url(#clip960)\" d=\"M1378.22 1552.67 L1378.22 1574.19 L1372.37 1574.19 L1372.37 1552.86 Q1372.37 1547.8 1370.39 1545.29 Q1368.42 1542.77 1364.47 1542.77 Q1359.73 1542.77 1356.99 1545.79 Q1354.25 1548.82 1354.25 1554.04 L1354.25 1574.19 L1348.37 1574.19 L1348.37 1538.54 L1354.25 1538.54 L1354.25 1544.08 Q1356.36 1540.86 1359.19 1539.27 Q1362.05 1537.68 1365.78 1537.68 Q1371.92 1537.68 1375.07 1541.5 Q1378.22 1545.29 1378.22 1552.67 Z\" fill=\"#000000\" fill-rule=\"evenodd\" fill-opacity=\"1\" /><path clip-path=\"url(#clip960)\" d=\"M1412.63 1539.59 L1412.63 1545.13 Q1410.15 1543.85 1407.47 1543.22 Q1404.8 1542.58 1401.93 1542.58 Q1397.57 1542.58 1395.38 1543.92 Q1393.21 1545.25 1393.21 1547.93 Q1393.21 1549.96 1394.77 1551.14 Q1396.33 1552.29 1401.04 1553.34 L1403.05 1553.78 Q1409.29 1555.12 1411.9 1557.57 Q1414.54 1559.99 1414.54 1564.35 Q1414.54 1569.32 1410.59 1572.21 Q1406.68 1575.11 1399.8 1575.11 Q1396.94 1575.11 1393.82 1574.54 Q1390.73 1573.99 1387.29 1572.88 L1387.29 1566.83 Q1390.54 1568.52 1393.69 1569.38 Q1396.84 1570.21 1399.93 1570.21 Q1404.07 1570.21 1406.29 1568.81 Q1408.52 1567.37 1408.52 1564.8 Q1408.52 1562.41 1406.9 1561.14 Q1405.31 1559.86 1399.87 1558.68 L1397.83 1558.21 Q1392.39 1557.06 1389.97 1554.71 Q1387.55 1552.32 1387.55 1548.18 Q1387.55 1543.15 1391.11 1540.42 Q1394.68 1537.68 1401.23 1537.68 Q1404.48 1537.68 1407.34 1538.16 Q1410.21 1538.63 1412.63 1539.59 Z\" fill=\"#000000\" fill-rule=\"evenodd\" fill-opacity=\"1\" /><polyline clip-path=\"url(#clip962)\" style=\"stroke:#000000; stroke-linecap:round; stroke-linejoin:round; stroke-width:2; stroke-opacity:0.1; fill:none\" points=\"\n",
       "  175.445,1250.43 2352.76,1250.43 \n",
       "  \"/>\n",
       "<polyline clip-path=\"url(#clip962)\" style=\"stroke:#000000; stroke-linecap:round; stroke-linejoin:round; stroke-width:2; stroke-opacity:0.1; fill:none\" points=\"\n",
       "  175.445,979.592 2352.76,979.592 \n",
       "  \"/>\n",
       "<polyline clip-path=\"url(#clip962)\" style=\"stroke:#000000; stroke-linecap:round; stroke-linejoin:round; stroke-width:2; stroke-opacity:0.1; fill:none\" points=\"\n",
       "  175.445,708.758 2352.76,708.758 \n",
       "  \"/>\n",
       "<polyline clip-path=\"url(#clip962)\" style=\"stroke:#000000; stroke-linecap:round; stroke-linejoin:round; stroke-width:2; stroke-opacity:0.1; fill:none\" points=\"\n",
       "  175.445,437.923 2352.76,437.923 \n",
       "  \"/>\n",
       "<polyline clip-path=\"url(#clip962)\" style=\"stroke:#000000; stroke-linecap:round; stroke-linejoin:round; stroke-width:2; stroke-opacity:0.1; fill:none\" points=\"\n",
       "  175.445,167.088 2352.76,167.088 \n",
       "  \"/>\n",
       "<polyline clip-path=\"url(#clip960)\" style=\"stroke:#000000; stroke-linecap:round; stroke-linejoin:round; stroke-width:4; stroke-opacity:1; fill:none\" points=\"\n",
       "  175.445,1410.9 175.445,47.2441 \n",
       "  \"/>\n",
       "<polyline clip-path=\"url(#clip960)\" style=\"stroke:#000000; stroke-linecap:round; stroke-linejoin:round; stroke-width:4; stroke-opacity:1; fill:none\" points=\"\n",
       "  175.445,1250.43 194.343,1250.43 \n",
       "  \"/>\n",
       "<polyline clip-path=\"url(#clip960)\" style=\"stroke:#000000; stroke-linecap:round; stroke-linejoin:round; stroke-width:4; stroke-opacity:1; fill:none\" points=\"\n",
       "  175.445,979.592 194.343,979.592 \n",
       "  \"/>\n",
       "<polyline clip-path=\"url(#clip960)\" style=\"stroke:#000000; stroke-linecap:round; stroke-linejoin:round; stroke-width:4; stroke-opacity:1; fill:none\" points=\"\n",
       "  175.445,708.758 194.343,708.758 \n",
       "  \"/>\n",
       "<polyline clip-path=\"url(#clip960)\" style=\"stroke:#000000; stroke-linecap:round; stroke-linejoin:round; stroke-width:4; stroke-opacity:1; fill:none\" points=\"\n",
       "  175.445,437.923 194.343,437.923 \n",
       "  \"/>\n",
       "<polyline clip-path=\"url(#clip960)\" style=\"stroke:#000000; stroke-linecap:round; stroke-linejoin:round; stroke-width:4; stroke-opacity:1; fill:none\" points=\"\n",
       "  175.445,167.088 194.343,167.088 \n",
       "  \"/>\n",
       "<path clip-path=\"url(#clip960)\" d=\"M129.862 1237.22 L118.056 1255.67 L129.862 1255.67 L129.862 1237.22 M128.635 1233.15 L134.515 1233.15 L134.515 1255.67 L139.445 1255.67 L139.445 1259.56 L134.515 1259.56 L134.515 1267.71 L129.862 1267.71 L129.862 1259.56 L114.26 1259.56 L114.26 1255.05 L128.635 1233.15 Z\" fill=\"#000000\" fill-rule=\"evenodd\" fill-opacity=\"1\" /><path clip-path=\"url(#clip960)\" d=\"M118.543 962.312 L136.899 962.312 L136.899 966.248 L122.825 966.248 L122.825 974.72 Q123.843 974.373 124.862 974.211 Q125.88 974.025 126.899 974.025 Q132.686 974.025 136.066 977.197 Q139.445 980.368 139.445 985.785 Q139.445 991.363 135.973 994.465 Q132.501 997.544 126.181 997.544 Q124.005 997.544 121.737 997.173 Q119.492 996.803 117.084 996.062 L117.084 991.363 Q119.168 992.497 121.39 993.053 Q123.612 993.609 126.089 993.609 Q130.093 993.609 132.431 991.502 Q134.769 989.396 134.769 985.785 Q134.769 982.173 132.431 980.067 Q130.093 977.96 126.089 977.96 Q124.214 977.96 122.339 978.377 Q120.487 978.794 118.543 979.673 L118.543 962.312 Z\" fill=\"#000000\" fill-rule=\"evenodd\" fill-opacity=\"1\" /><path clip-path=\"url(#clip960)\" d=\"M127.917 706.894 Q124.769 706.894 122.918 709.047 Q121.089 711.2 121.089 714.95 Q121.089 718.677 122.918 720.853 Q124.769 723.005 127.917 723.005 Q131.066 723.005 132.894 720.853 Q134.746 718.677 134.746 714.95 Q134.746 711.2 132.894 709.047 Q131.066 706.894 127.917 706.894 M137.2 692.242 L137.2 696.501 Q135.441 695.668 133.635 695.228 Q131.853 694.788 130.093 694.788 Q125.464 694.788 123.01 697.913 Q120.58 701.038 120.232 707.357 Q121.598 705.343 123.658 704.279 Q125.718 703.191 128.195 703.191 Q133.404 703.191 136.413 706.362 Q139.445 709.51 139.445 714.95 Q139.445 720.274 136.297 723.491 Q133.149 726.709 127.917 726.709 Q121.922 726.709 118.751 722.126 Q115.58 717.519 115.58 708.792 Q115.58 700.598 119.468 695.737 Q123.357 690.853 129.908 690.853 Q131.667 690.853 133.45 691.2 Q135.255 691.547 137.2 692.242 Z\" fill=\"#000000\" fill-rule=\"evenodd\" fill-opacity=\"1\" /><path clip-path=\"url(#clip960)\" d=\"M117.223 420.643 L139.445 420.643 L139.445 422.634 L126.899 455.203 L122.015 455.203 L133.82 424.578 L117.223 424.578 L117.223 420.643 Z\" fill=\"#000000\" fill-rule=\"evenodd\" fill-opacity=\"1\" /><path clip-path=\"url(#clip960)\" d=\"M127.593 167.956 Q124.26 167.956 122.339 169.739 Q120.441 171.521 120.441 174.646 Q120.441 177.771 122.339 179.554 Q124.26 181.336 127.593 181.336 Q130.927 181.336 132.848 179.554 Q134.769 177.748 134.769 174.646 Q134.769 171.521 132.848 169.739 Q130.95 167.956 127.593 167.956 M122.918 165.966 Q119.908 165.225 118.218 163.165 Q116.552 161.105 116.552 158.142 Q116.552 153.998 119.492 151.591 Q122.455 149.183 127.593 149.183 Q132.755 149.183 135.695 151.591 Q138.635 153.998 138.635 158.142 Q138.635 161.105 136.945 163.165 Q135.279 165.225 132.292 165.966 Q135.672 166.753 137.547 169.044 Q139.445 171.336 139.445 174.646 Q139.445 179.669 136.367 182.355 Q133.311 185.04 127.593 185.04 Q121.876 185.04 118.797 182.355 Q115.742 179.669 115.742 174.646 Q115.742 171.336 117.64 169.044 Q119.538 166.753 122.918 165.966 M121.205 158.582 Q121.205 161.267 122.871 162.771 Q124.561 164.276 127.593 164.276 Q130.603 164.276 132.292 162.771 Q134.005 161.267 134.005 158.582 Q134.005 155.896 132.292 154.392 Q130.603 152.887 127.593 152.887 Q124.561 152.887 122.871 154.392 Q121.205 155.896 121.205 158.582 Z\" fill=\"#000000\" fill-rule=\"evenodd\" fill-opacity=\"1\" /><path clip-path=\"url(#clip960)\" d=\"M41.3104 1077.04 L58.7206 1077.04 L58.7206 1066.72 Q58.7206 1061.54 56.5881 1059.05 Q54.4238 1056.54 49.9996 1056.54 Q45.5436 1056.54 43.4429 1059.05 Q41.3104 1061.54 41.3104 1066.72 L41.3104 1077.04 M21.7677 1077.04 L36.0905 1077.04 L36.0905 1067.52 Q36.0905 1062.81 34.34 1060.52 Q32.5576 1058.19 28.9291 1058.19 Q25.3325 1058.19 23.5501 1060.52 Q21.7677 1062.81 21.7677 1067.52 L21.7677 1077.04 M16.4842 1083.47 L16.4842 1067.04 Q16.4842 1059.69 19.5397 1055.71 Q22.5952 1051.73 28.2289 1051.73 Q32.5894 1051.73 35.1675 1053.77 Q37.7456 1055.81 38.3822 1059.75 Q39.4007 1055.01 42.6472 1052.4 Q45.8619 1049.76 50.6998 1049.76 Q57.0655 1049.76 60.5348 1054.09 Q64.0042 1058.42 64.0042 1066.41 L64.0042 1083.47 L16.4842 1083.47 Z\" fill=\"#000000\" fill-rule=\"evenodd\" fill-opacity=\"1\" /><path clip-path=\"url(#clip960)\" d=\"M44.7161 1008.51 L47.5806 1008.51 L47.5806 1035.44 Q53.6281 1035.05 56.8109 1031.81 Q59.9619 1028.53 59.9619 1022.7 Q59.9619 1019.33 59.1344 1016.18 Q58.3069 1013 56.6518 1009.88 L62.1899 1009.88 Q63.5267 1013.03 64.227 1016.34 Q64.9272 1019.65 64.9272 1023.05 Q64.9272 1031.58 59.9619 1036.58 Q54.9967 1041.55 46.5303 1041.55 Q37.7774 1041.55 32.6531 1036.84 Q27.4968 1032.09 27.4968 1024.07 Q27.4968 1016.88 32.1438 1012.71 Q36.7589 1008.51 44.7161 1008.51 M42.9973 1014.37 Q38.1912 1014.43 35.3266 1017.07 Q32.4621 1019.68 32.4621 1024.01 Q32.4621 1028.91 35.2312 1031.87 Q38.0002 1034.8 43.0292 1035.24 L42.9973 1014.37 Z\" fill=\"#000000\" fill-rule=\"evenodd\" fill-opacity=\"1\" /><path clip-path=\"url(#clip960)\" d=\"M29.4065 976.171 L34.9447 976.171 Q33.6716 978.654 33.035 981.327 Q32.3984 984.001 32.3984 986.866 Q32.3984 991.226 33.7352 993.422 Q35.072 995.587 37.7456 995.587 Q39.7826 995.587 40.9603 994.027 Q42.1061 992.467 43.1565 987.757 L43.6021 985.752 Q44.9389 979.513 47.3897 976.903 Q49.8086 974.261 54.1691 974.261 Q59.1344 974.261 62.0308 978.208 Q64.9272 982.123 64.9272 988.998 Q64.9272 991.863 64.3543 994.982 Q63.8132 998.069 62.6992 1001.51 L56.6518 1001.51 Q58.3387 998.26 59.198 995.109 Q60.0256 991.958 60.0256 988.871 Q60.0256 984.733 58.6251 982.505 Q57.1929 980.277 54.6147 980.277 Q52.2276 980.277 50.9545 981.9 Q49.6813 983.492 48.5037 988.934 L48.0262 990.971 Q46.8804 996.414 44.5251 998.833 Q42.138 1001.25 38.0002 1001.25 Q32.9713 1001.25 30.2341 997.687 Q27.4968 994.122 27.4968 987.566 Q27.4968 984.319 27.9743 981.455 Q28.4517 978.59 29.4065 976.171 Z\" fill=\"#000000\" fill-rule=\"evenodd\" fill-opacity=\"1\" /><path clip-path=\"url(#clip960)\" d=\"M18.2347 959.143 L28.3562 959.143 L28.3562 947.08 L32.9077 947.08 L32.9077 959.143 L52.2594 959.143 Q56.6199 959.143 57.8613 957.965 Q59.1026 956.756 59.1026 953.095 L59.1026 947.08 L64.0042 947.08 L64.0042 953.095 Q64.0042 959.875 61.4897 962.453 Q58.9434 965.031 52.2594 965.031 L32.9077 965.031 L32.9077 969.328 L28.3562 969.328 L28.3562 965.031 L18.2347 965.031 L18.2347 959.143 Z\" fill=\"#000000\" fill-rule=\"evenodd\" fill-opacity=\"1\" /><path clip-path=\"url(#clip960)\" d=\"M20.1444 882.818 L26.9239 882.818 Q23.9002 886.065 22.4043 889.757 Q20.9083 893.417 20.9083 897.555 Q20.9083 905.703 25.9054 910.031 Q30.8707 914.36 40.2919 914.36 Q49.6813 914.36 54.6784 910.031 Q59.6436 905.703 59.6436 897.555 Q59.6436 893.417 58.1477 889.757 Q56.6518 886.065 53.6281 882.818 L60.3439 882.818 Q62.6355 886.192 63.7814 889.98 Q64.9272 893.735 64.9272 897.937 Q64.9272 908.727 58.3387 914.933 Q51.7183 921.14 40.2919 921.14 Q28.8336 921.14 22.2451 914.933 Q15.6248 908.727 15.6248 897.937 Q15.6248 893.672 16.7706 889.916 Q17.8846 886.128 20.1444 882.818 Z\" fill=\"#000000\" fill-rule=\"evenodd\" fill-opacity=\"1\" /><path clip-path=\"url(#clip960)\" d=\"M32.4621 859.329 Q32.4621 864.039 36.1542 866.777 Q39.8145 869.514 46.212 869.514 Q52.6095 869.514 56.3017 866.808 Q59.9619 864.071 59.9619 859.329 Q59.9619 854.65 56.2698 851.913 Q52.5777 849.175 46.212 849.175 Q39.8781 849.175 36.186 851.913 Q32.4621 854.65 32.4621 859.329 M27.4968 859.329 Q27.4968 851.69 32.4621 847.329 Q37.4273 842.969 46.212 842.969 Q54.9649 842.969 59.9619 847.329 Q64.9272 851.69 64.9272 859.329 Q64.9272 866.999 59.9619 871.36 Q54.9649 875.689 46.212 875.689 Q37.4273 875.689 32.4621 871.36 Q27.4968 866.999 27.4968 859.329 Z\" fill=\"#000000\" fill-rule=\"evenodd\" fill-opacity=\"1\" /><path clip-path=\"url(#clip960)\" d=\"M35.1993 805.507 Q31.2526 803.31 29.3747 800.255 Q27.4968 797.199 27.4968 793.062 Q27.4968 787.492 31.4117 784.468 Q35.2948 781.444 42.4881 781.444 L64.0042 781.444 L64.0042 787.332 L42.679 787.332 Q37.5546 787.332 35.072 789.147 Q32.5894 790.961 32.5894 794.685 Q32.5894 799.236 35.6131 801.878 Q38.6368 804.52 43.8567 804.52 L64.0042 804.52 L64.0042 810.408 L42.679 810.408 Q37.5228 810.408 35.072 812.222 Q32.5894 814.037 32.5894 817.824 Q32.5894 822.312 35.6449 824.954 Q38.6686 827.596 43.8567 827.596 L64.0042 827.596 L64.0042 833.484 L28.3562 833.484 L28.3562 827.596 L33.8944 827.596 Q30.616 825.59 29.0564 822.789 Q27.4968 819.989 27.4968 816.137 Q27.4968 812.254 29.4702 809.549 Q31.4436 806.812 35.1993 805.507 Z\" fill=\"#000000\" fill-rule=\"evenodd\" fill-opacity=\"1\" /><path clip-path=\"url(#clip960)\" d=\"M58.657 764.098 L77.5631 764.098 L77.5631 769.986 L28.3562 769.986 L28.3562 764.098 L33.7671 764.098 Q30.5842 762.252 29.0564 759.451 Q27.4968 756.618 27.4968 752.703 Q27.4968 746.21 32.6531 742.168 Q37.8093 738.094 46.212 738.094 Q54.6147 738.094 59.771 742.168 Q64.9272 746.21 64.9272 752.703 Q64.9272 756.618 63.3994 759.451 Q61.8398 762.252 58.657 764.098 M46.212 744.173 Q39.7508 744.173 36.0905 746.847 Q32.3984 749.488 32.3984 754.135 Q32.3984 758.782 36.0905 761.456 Q39.7508 764.098 46.212 764.098 Q52.6732 764.098 56.3653 761.456 Q60.0256 758.782 60.0256 754.135 Q60.0256 749.488 56.3653 746.847 Q52.6732 744.173 46.212 744.173 Z\" fill=\"#000000\" fill-rule=\"evenodd\" fill-opacity=\"1\" /><path clip-path=\"url(#clip960)\" d=\"M14.479 728.386 L14.479 722.53 L64.0042 722.53 L64.0042 728.386 L14.479 728.386 Z\" fill=\"#000000\" fill-rule=\"evenodd\" fill-opacity=\"1\" /><path clip-path=\"url(#clip960)\" d=\"M44.7161 679.784 L47.5806 679.784 L47.5806 706.711 Q53.6281 706.329 56.8109 703.082 Q59.9619 699.804 59.9619 693.979 Q59.9619 690.606 59.1344 687.455 Q58.3069 684.272 56.6518 681.153 L62.1899 681.153 Q63.5267 684.304 64.227 687.614 Q64.9272 690.924 64.9272 694.33 Q64.9272 702.86 59.9619 707.857 Q54.9967 712.822 46.5303 712.822 Q37.7774 712.822 32.6531 708.111 Q27.4968 703.369 27.4968 695.348 Q27.4968 688.155 32.1438 683.985 Q36.7589 679.784 44.7161 679.784 M42.9973 685.64 Q38.1912 685.704 35.3266 688.346 Q32.4621 690.956 32.4621 695.284 Q32.4621 700.186 35.2312 703.146 Q38.0002 706.074 43.0292 706.52 L42.9973 685.64 Z\" fill=\"#000000\" fill-rule=\"evenodd\" fill-opacity=\"1\" /><path clip-path=\"url(#clip960)\" d=\"M18.2347 664.379 L28.3562 664.379 L28.3562 652.316 L32.9077 652.316 L32.9077 664.379 L52.2594 664.379 Q56.6199 664.379 57.8613 663.201 Q59.1026 661.992 59.1026 658.331 L59.1026 652.316 L64.0042 652.316 L64.0042 658.331 Q64.0042 665.111 61.4897 667.689 Q58.9434 670.267 52.2594 670.267 L32.9077 670.267 L32.9077 674.564 L28.3562 674.564 L28.3562 670.267 L18.2347 670.267 L18.2347 664.379 Z\" fill=\"#000000\" fill-rule=\"evenodd\" fill-opacity=\"1\" /><path clip-path=\"url(#clip960)\" d=\"M28.3562 644.613 L28.3562 638.757 L64.0042 638.757 L64.0042 644.613 L28.3562 644.613 M14.479 644.613 L14.479 638.757 L21.895 638.757 L21.895 644.613 L14.479 644.613 Z\" fill=\"#000000\" fill-rule=\"evenodd\" fill-opacity=\"1\" /><path clip-path=\"url(#clip960)\" d=\"M32.4621 612.689 Q32.4621 617.4 36.1542 620.137 Q39.8145 622.874 46.212 622.874 Q52.6095 622.874 56.3017 620.169 Q59.9619 617.432 59.9619 612.689 Q59.9619 608.011 56.2698 605.273 Q52.5777 602.536 46.212 602.536 Q39.8781 602.536 36.186 605.273 Q32.4621 608.011 32.4621 612.689 M27.4968 612.689 Q27.4968 605.05 32.4621 600.69 Q37.4273 596.329 46.212 596.329 Q54.9649 596.329 59.9619 600.69 Q64.9272 605.05 64.9272 612.689 Q64.9272 620.36 59.9619 624.721 Q54.9649 629.049 46.212 629.049 Q37.4273 629.049 32.4621 624.721 Q27.4968 620.36 27.4968 612.689 Z\" fill=\"#000000\" fill-rule=\"evenodd\" fill-opacity=\"1\" /><path clip-path=\"url(#clip960)\" d=\"M42.4881 556.989 L64.0042 556.989 L64.0042 562.846 L42.679 562.846 Q37.6183 562.846 35.1038 564.819 Q32.5894 566.793 32.5894 570.739 Q32.5894 575.482 35.6131 578.219 Q38.6368 580.956 43.8567 580.956 L64.0042 580.956 L64.0042 586.845 L28.3562 586.845 L28.3562 580.956 L33.8944 580.956 Q30.6797 578.856 29.0883 576.023 Q27.4968 573.158 27.4968 569.434 Q27.4968 563.291 31.3163 560.14 Q35.1038 556.989 42.4881 556.989 Z\" fill=\"#000000\" fill-rule=\"evenodd\" fill-opacity=\"1\" /><path clip-path=\"url(#clip960)\" d=\"M16.4842 530.922 L16.4842 490.722 L21.895 490.722 L21.895 507.592 L64.0042 507.592 L64.0042 514.053 L21.895 514.053 L21.895 530.922 L16.4842 530.922 Z\" fill=\"#000000\" fill-rule=\"evenodd\" fill-opacity=\"1\" /><path clip-path=\"url(#clip960)\" d=\"M28.3562 486.776 L28.3562 480.919 L64.0042 480.919 L64.0042 486.776 L28.3562 486.776 M14.479 486.776 L14.479 480.919 L21.895 480.919 L21.895 486.776 L14.479 486.776 Z\" fill=\"#000000\" fill-rule=\"evenodd\" fill-opacity=\"1\" /><path clip-path=\"url(#clip960)\" d=\"M35.1993 440.911 Q31.2526 438.715 29.3747 435.659 Q27.4968 432.603 27.4968 428.466 Q27.4968 422.896 31.4117 419.872 Q35.2948 416.848 42.4881 416.848 L64.0042 416.848 L64.0042 422.737 L42.679 422.737 Q37.5546 422.737 35.072 424.551 Q32.5894 426.365 32.5894 430.089 Q32.5894 434.641 35.6131 437.282 Q38.6368 439.924 43.8567 439.924 L64.0042 439.924 L64.0042 445.812 L42.679 445.812 Q37.5228 445.812 35.072 447.627 Q32.5894 449.441 32.5894 453.228 Q32.5894 457.716 35.6449 460.358 Q38.6686 463 43.8567 463 L64.0042 463 L64.0042 468.888 L28.3562 468.888 L28.3562 463 L33.8944 463 Q30.616 460.995 29.0564 458.194 Q27.4968 455.393 27.4968 451.541 Q27.4968 447.658 29.4702 444.953 Q31.4436 442.216 35.1993 440.911 Z\" fill=\"#000000\" fill-rule=\"evenodd\" fill-opacity=\"1\" /><path clip-path=\"url(#clip960)\" d=\"M44.7161 374.676 L47.5806 374.676 L47.5806 401.603 Q53.6281 401.221 56.8109 397.974 Q59.9619 394.696 59.9619 388.871 Q59.9619 385.497 59.1344 382.346 Q58.3069 379.163 56.6518 376.044 L62.1899 376.044 Q63.5267 379.195 64.227 382.505 Q64.9272 385.816 64.9272 389.221 Q64.9272 397.751 59.9619 402.748 Q54.9967 407.714 46.5303 407.714 Q37.7774 407.714 32.6531 403.003 Q27.4968 398.261 27.4968 390.24 Q27.4968 383.046 32.1438 378.877 Q36.7589 374.676 44.7161 374.676 M42.9973 380.532 Q38.1912 380.596 35.3266 383.237 Q32.4621 385.847 32.4621 390.176 Q32.4621 395.078 35.2312 398.038 Q38.0002 400.966 43.0292 401.412 L42.9973 380.532 Z\" fill=\"#000000\" fill-rule=\"evenodd\" fill-opacity=\"1\" /><polyline clip-path=\"url(#clip962)\" style=\"stroke:#009af9; stroke-linecap:round; stroke-linejoin:round; stroke-width:4; stroke-opacity:1; fill:none\" points=\"\n",
       "  237.067,85.838 289.736,424.381 342.404,647.82 395.072,769.696 447.741,871.259 500.409,959.28 553.077,1020.22 605.746,1067.61 658.414,1108.24 711.083,1155.63 \n",
       "  763.751,1182.72 816.419,1196.26 869.088,1209.8 921.756,1236.89 974.424,1236.89 1027.09,1243.66 1079.76,1257.2 1132.43,1277.51 1185.1,1284.28 1237.77,1297.82 \n",
       "  1290.43,1291.05 1343.1,1297.82 1395.77,1311.36 1448.44,1318.14 1501.11,1324.91 1553.78,1331.68 1606.45,1338.45 1659.11,1331.68 1711.78,1345.22 1764.45,1351.99 \n",
       "  1817.12,1351.99 1869.79,1338.45 1922.46,1351.99 1975.12,1358.76 2027.79,1351.99 2080.46,1365.53 2133.13,1372.3 2185.8,1358.76 2238.47,1358.76 2291.13,1372.3 \n",
       "  \n",
       "  \"/>\n",
       "</svg>\n"
      ]
     },
     "execution_count": 51,
     "metadata": {},
     "output_type": "execute_result"
    }
   ],
   "source": [
    "plot(iterations, best_compl_time, xlabel=\"Iterations\", ylabel=\"Best Completion Time\", legend = false, xformatter = :scientific)"
   ]
  },
  {
   "cell_type": "code",
   "execution_count": 52,
   "id": "c7db5f03",
   "metadata": {},
   "outputs": [
    {
     "data": {
      "text/plain": [
       "\"/home/larissa/Documents/Projects/ADLR/ADLR_project/src/RL_PPO_quadcopter_3D/office_test/plots/fast/best_comp_time.svg\""
      ]
     },
     "execution_count": 52,
     "metadata": {},
     "output_type": "execute_result"
    }
   ],
   "source": [
    "savefig(fig_path * \"best_comp_time.svg\")"
   ]
  },
  {
   "cell_type": "code",
   "execution_count": 53,
   "id": "22d90855",
   "metadata": {},
   "outputs": [
    {
     "data": {
      "text/plain": [
       "40×1 Matrix{Float64}:\n",
       " 8.30000000000005\n",
       " 7.050000000000033\n",
       " 6.225000000000021\n",
       " 5.775000000000015\n",
       " 5.400000000000009\n",
       " 5.075000000000005\n",
       " 4.850000000000001\n",
       " 4.674999999999999\n",
       " 4.524999999999997\n",
       " 4.349999999999994\n",
       " 4.249999999999993\n",
       " 4.199999999999992\n",
       " 4.1499999999999915\n",
       " ⋮\n",
       " 3.649999999999991\n",
       " 3.624999999999991\n",
       " 3.624999999999991\n",
       " 3.674999999999991\n",
       " 3.624999999999991\n",
       " 3.599999999999991\n",
       " 3.624999999999991\n",
       " 3.5749999999999913\n",
       " 3.5499999999999914\n",
       " 3.599999999999991\n",
       " 3.599999999999991\n",
       " 3.5499999999999914"
      ]
     },
     "execution_count": 53,
     "metadata": {},
     "output_type": "execute_result"
    }
   ],
   "source": [
    "best_compl_time"
   ]
  },
  {
   "cell_type": "markdown",
   "id": "ed305f8e",
   "metadata": {},
   "source": [
    "# Create Videos"
   ]
  },
  {
   "cell_type": "code",
   "execution_count": 54,
   "id": "1f30d98a",
   "metadata": {},
   "outputs": [
    {
     "name": "stderr",
     "output_type": "stream",
     "text": [
      "\u001b[36m\u001b[1m┌ \u001b[22m\u001b[39m\u001b[36m\u001b[1mInfo: \u001b[22m\u001b[39mMeshCat server started. You can open the visualizer by visiting the following URL in your browser:\n",
      "\u001b[36m\u001b[1m└ \u001b[22m\u001b[39mhttp://127.0.0.1:8701\n"
     ]
    }
   ],
   "source": [
    "create_visualization();\n",
    "create_Office(\"office\");"
   ]
  },
  {
   "cell_type": "code",
   "execution_count": 55,
   "id": "260d79dd",
   "metadata": {},
   "outputs": [
    {
     "name": "stdout",
     "output_type": "stream",
     "text": [
      "fast mode\n"
     ]
    }
   ],
   "source": [
    "if VIDEO  \n",
    "  # TODO: load_model as desired\n",
    "    vid_env = VtolEnv(;name = \"testVTOL\", visualization = true, realtime = true);\n",
    "    \n",
    "    if SLOW_MODE\n",
    "        path = \"./office_test/RL_models_slow/\"\n",
    "        load_model = 2_000_000\n",
    "        println(\"slow mode\")\n",
    "    else\n",
    "        path = \"./office_test/RL_models_fast/\"\n",
    "        load_model = 6_000_000\n",
    "        println(\"fast mode\")\n",
    "    end\n",
    "    agent.policy.approximator = loadModel(path,load_model);\n",
    "    for i in 1:30\n",
    "        sleep(5)\n",
    "        RLBase.reset!(vid_env)\n",
    "        run(agent.policy, vid_env, StopAfterEpisode(1))\n",
    "    end\n",
    "end;"
   ]
  },
  {
   "cell_type": "code",
   "execution_count": 56,
   "id": "1bebf7cc",
   "metadata": {},
   "outputs": [],
   "source": [
    "close_visualization();"
   ]
  },
  {
   "cell_type": "markdown",
   "id": "57443b44",
   "metadata": {},
   "source": [
    "done"
   ]
  }
 ],
 "metadata": {
  "@webio": {
   "lastCommId": null,
   "lastKernelId": null
  },
  "kernelspec": {
   "display_name": "Julia 1.8.0",
   "language": "julia",
   "name": "julia-1.8"
  },
  "language_info": {
   "file_extension": ".jl",
   "mimetype": "application/julia",
   "name": "julia",
   "version": "1.8.0"
  }
 },
 "nbformat": 4,
 "nbformat_minor": 5
}
