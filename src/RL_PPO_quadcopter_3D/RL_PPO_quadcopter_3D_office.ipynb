{
 "cells": [
  {
   "cell_type": "code",
   "execution_count": 1,
   "id": "285d18fd",
   "metadata": {},
   "outputs": [],
   "source": [
    "using Pkg\n",
    "if isfile(\"Project.toml\") && isfile(\"Manifest.toml\")\n",
    "    Pkg.activate(\".\")\n",
    "end"
   ]
  },
  {
   "cell_type": "markdown",
   "id": "0649b76a",
   "metadata": {},
   "source": [
    "# Init Bionic VTOL"
   ]
  },
  {
   "cell_type": "code",
   "execution_count": 2,
   "id": "96751412",
   "metadata": {},
   "outputs": [],
   "source": [
    "include(\"../Flyonic.jl\");\n",
    "using .Flyonic;\n",
    "\n",
    "using Rotations; # used for initial position\n",
    "\n",
    "using ReinforcementLearning;\n",
    "using StableRNGs;\n",
    "using Flux;\n",
    "using Flux.Losses;\n",
    "using Random;\n",
    "using IntervalSets;\n",
    "using LinearAlgebra;\n",
    "using Distributions;\n",
    "\n",
    "using Plots;\n",
    "using Statistics;\n",
    "\n",
    "using TensorBoardLogger\n",
    "using Logging\n",
    "\n",
    "\n",
    "using JLD;\n",
    "using BSON: @save, @load # save mode"
   ]
  },
  {
   "cell_type": "code",
   "execution_count": 104,
   "id": "f7e4ee64",
   "metadata": {},
   "outputs": [
    {
     "name": "stderr",
     "output_type": "stream",
     "text": [
      "\u001b[36m\u001b[1m┌ \u001b[22m\u001b[39m\u001b[36m\u001b[1mInfo: \u001b[22m\u001b[39mMeshCat server started. You can open the visualizer by visiting the following URL in your browser:\n",
      "\u001b[36m\u001b[1m└ \u001b[22m\u001b[39mhttp://127.0.0.1:8703\n"
     ]
    }
   ],
   "source": [
    "create_visualization();"
   ]
  },
  {
   "cell_type": "code",
   "execution_count": 105,
   "id": "d435a5d6",
   "metadata": {},
   "outputs": [],
   "source": [
    "# TODO: set as desired\n",
    "R_TOL = 0.5;\n",
    "N_WAYPOINTS = 4; # including startpoint, >= 2\n",
    "\n",
    "\n",
    "SLOW_MODE = false;\n",
    "TRAINING = true;\n",
    "EVALUATION = false;\n",
    "VIDEO = false;"
   ]
  },
  {
   "cell_type": "code",
   "execution_count": 106,
   "id": "bacb2235",
   "metadata": {},
   "outputs": [],
   "source": [
    "N_WAYPOINTS_office = 9;\n",
    "WAYPOINTS_office =    \n",
    "                [[11.0, 3.0, 0.4],\n",
    "                [7.0, 1.5, 0.4],\n",
    "                [5.0, 3.0, 0.4],\n",
    "                [-3.0, 2.5, 0.4], \n",
    "                [-6.0, 1.5, 0.4],\n",
    "                [-8.0, 3.5, 0.4],\n",
    "                [-9.0, 4.0, 0.4],\n",
    "                [-9.5, 3.0, 0.4], \n",
    "                [-8.5, 1.0, 0.4], \n",
    "                [-8.0, 0.5, 0.4]]; "
   ]
  },
  {
   "cell_type": "code",
   "execution_count": 107,
   "id": "e19cce80",
   "metadata": {},
   "outputs": [
    {
     "data": {
      "text/plain": [
       "TBLogger:\n",
       "\t- Log level     : Info\n",
       "\t- Current step  : 0\n",
       "\t- Output        : /home/larissa/Documents/Projects/ADLR/ADLR_project/src/RL_PPO_quadcopter_3D/tensorboard_PPO_2\n",
       "\t- open files    : 1\n"
      ]
     },
     "execution_count": 107,
     "metadata": {},
     "output_type": "execute_result"
    }
   ],
   "source": [
    "# TensorBoard\n",
    "if TRAINING\n",
    "    logger = TBLogger(\"tensorboard_PPO\", tb_increment)\n",
    "end"
   ]
  },
  {
   "cell_type": "code",
   "execution_count": 108,
   "id": "7d9557df",
   "metadata": {},
   "outputs": [
    {
     "data": {
      "text/plain": [
       "1"
      ]
     },
     "execution_count": 108,
     "metadata": {},
     "output_type": "execute_result"
    }
   ],
   "source": [
    "# indicates how many threads Julia was started with. This is important for the multi-threaded environment\n",
    "Threads.nthreads()"
   ]
  },
  {
   "cell_type": "code",
   "execution_count": 109,
   "id": "10d945ff",
   "metadata": {},
   "outputs": [],
   "source": [
    "Δt = 0.025;"
   ]
  },
  {
   "cell_type": "markdown",
   "id": "5411db62",
   "metadata": {},
   "source": [
    "# Create Reinforcement Learning Environment"
   ]
  },
  {
   "cell_type": "code",
   "execution_count": 110,
   "id": "96af6ee0",
   "metadata": {},
   "outputs": [],
   "source": [
    "mutable struct VtolEnv{A,T,ACT,R<:AbstractRNG} <: AbstractEnv # Parametric Constructor for a subtype of AbstractEnv\n",
    "    action_space::A # All possible actions the agent can take\n",
    "    observation_space::Space{Vector{ClosedInterval{T}}} # All possible states that the agent can observe.\n",
    "    state::Vector{T} # Current state\n",
    "    action::ACT # next action the agent wants to apply in the environment.\n",
    "    done::Bool # shows whether a terminal condition has been reached.\n",
    "    t::T # time\n",
    "    rng::R # random number generator\n",
    "\n",
    "    name::String # for different naming of multible environoments\n",
    "    visualization::Bool # activate visualisation (Faster computation without visualisation)\n",
    "    realtime::Bool # visualization in \"real-world\" time (only for watching or filming).\n",
    "    \n",
    "    # Overall state of the environment. This does not correspond to the observation space of the agent but contains all states that describe the environment.\n",
    "    x_W::Vector{T} # Position in World frame\n",
    "    v_B::Vector{T} # Velocity in Body frame\n",
    "    R_W::Matrix{T} # Rotation (matrix) in World frame\n",
    "    ω_B::Vector{T} # Rotation velocity in Body frame\n",
    "    wind_W::Vector{T} # Externel linear velocity acting on the drone\n",
    "    Δt::T # Time step for physics simulation in seconds\n",
    "\n",
    "    ###NEW###\n",
    "    # Current Bonus / Target\n",
    "    num_waypoints::Int # includig start point\n",
    "    waypoints::Vector{Vector{T}}\n",
    "    reached_goal::BitVector\n",
    "    \n",
    "    norm_way::T\n",
    "    progress::T\n",
    "    progress_prev::T\n",
    "    current_point::Int\n",
    "    reached_goal_in_step::Bool\n",
    "    \n",
    "    r_tol::T\n",
    "    projected_position::Vector{T}\n",
    "\n",
    "    slow_mode::Bool\n",
    "    ######\n",
    "end"
   ]
  },
  {
   "cell_type": "code",
   "execution_count": 111,
   "id": "14a6873d",
   "metadata": {},
   "outputs": [],
   "source": [
    "# define a keyword-based constructor for the type declared in the mutable struct typedef. \n",
    "# It could also be done with the macro Base.@kwdef.\n",
    "function VtolEnv(;\n",
    "    rng = Random.GLOBAL_RNG, # Random number generation\n",
    "    name = \"Crazyflie\",\n",
    "    visualization = false,\n",
    "    realtime = false,\n",
    "    kwargs... # let the function take an arbitrary number of keyword arguments\n",
    ")\n",
    "    \n",
    "    T = Float64; # explicit type which is used e.g. in state. Cannot be altered due to the poor matrix defininon.\n",
    "    \n",
    "    # final PWM Values for Crazyflie. The interval definition has no effect in the current implementation.\n",
    "    action_space = Space(\n",
    "        ClosedInterval{T}[\n",
    "            0..1#0..65535, # motor 1\n",
    "            0..1#0..65535, # motor 2\n",
    "            0..1#0..65535, # motor 3\n",
    "            0..1#0..65535, # motor 4\n",
    "            ], \n",
    "    )\n",
    "\n",
    "    \n",
    "    state_space = Space( # Three continuous values in state space.\n",
    "        ClosedInterval{T}[\n",
    "            typemin(T)..typemax(T), # 1 x\n",
    "            typemin(T)..typemax(T), # 2 y\n",
    "            typemin(T)..typemax(T), # 3 z\n",
    "\n",
    "            typemin(T)..typemax(T), # 4  World Vector UP x\n",
    "            typemin(T)..typemax(T), # 5  World Vector UP y\n",
    "            typemin(T)..typemax(T), # 6  World Vector UP z\n",
    "\n",
    "            typemin(T)..typemax(T), # 7  World Vector FRONT x\n",
    "            typemin(T)..typemax(T), # 8  World Vector FRONT y\n",
    "            typemin(T)..typemax(T), # 9  World Vector FRONT z\n",
    "            \n",
    "            typemin(T)..typemax(T), # 10 Body velocity along x\n",
    "            typemin(T)..typemax(T), # 11 Body velocity along y\n",
    "            typemin(T)..typemax(T), # 12 Body velocity along z\n",
    "            \n",
    "            typemin(T)..typemax(T), # 13 Body rotational velocity around x\n",
    "            typemin(T)..typemax(T), # 14 Body rotational velocity around y\n",
    "            typemin(T)..typemax(T), # 15 Body rotational velocity around z\n",
    "            \n",
    "            ###NEW###\n",
    "            typemin(T)..typemax(T), # 16 position error along x (next gate - current position)\n",
    "            typemin(T)..typemax(T), # 17 position error along y (next gate - current position)\n",
    "            typemin(T)..typemax(T), # 18 position error along z (next gate - current position)\n",
    "            \n",
    "            typemin(T)..typemax(T), # 19 way to next next gate x (next next gate - next gate)\n",
    "            typemin(T)..typemax(T), # 20 way to next next gate y (next next gate - next gate)\n",
    "            typemin(T)..typemax(T), # 21 way to next next gate z (next next gate - next gate)\n",
    "            ######\n",
    "            ], \n",
    "    )\n",
    "\n",
    "    ###NEW###\n",
    "    num_waypoints = N_WAYPOINTS\n",
    "#     num_waypoints = N_WAYPOINTS_office # number of waypoints, includig start point #todo\n",
    "    \n",
    "    waypoints = generate_straight_trajectory(num_waypoints + 1) # trajectory with num_waypoints waypoints (+ start point), (with dummy points) \n",
    "#     waypoints = WAYPOINTS_office\n",
    "    \n",
    "    reached_goal = falses(num_waypoints)\n",
    "    \n",
    "    norm_way = 0.0 \n",
    "    for i in 1:(num_waypoints - 1)\n",
    "        norm_way += norm(waypoints[i] - waypoints[i + 1])\n",
    "    end\n",
    "    ######\n",
    "    \n",
    "    if visualization\n",
    "        create_Crazyflie(name, actuators = true);\n",
    "        visualize_waypoints(waypoints[1:num_waypoints], 0.05)\n",
    "\n",
    "        set_Crazyflie_actuators(name, [0.0; 0.0; 0.0; 0.0]);\n",
    "        set_transform(name, [0.0; 0.0; 0.0] ,one(QuatRotation));\n",
    "        set_arrow(string(name, \"vel\"), color_vec=[0.0; 1.0; 0.0; 1.0]);\n",
    "        transform_arrow(string(name, \"vel\"), [0.0; 0.0; 0.0], [0.0; 0.0; 1.0], max_head_radius=0.05)\n",
    "#         set_arrow(string(name, \"_vel_current\"), color_vec=[1.0; 0.0; 0.0; 1.0]);\n",
    "#         transform_arrow(string(name, \"_vel_current\"), [0.0; 0.0; 0.0], [0.0; 0.0; 1.0], max_head_radius=0.02)                  \n",
    "    end\n",
    "    \n",
    "\n",
    "\n",
    "    environment = VtolEnv(\n",
    "        action_space,\n",
    "        state_space,\n",
    "        zeros(T, length(state_space)), # current state, needs to be extended.\n",
    "        [0.25; 0.25; 0.25; 0.25],#rand(action_space), \n",
    "        false, # episode done ?\n",
    "        0.0, # time\n",
    "        rng, # random number generator  \n",
    "\n",
    "        name,\n",
    "        visualization,\n",
    "        realtime,\n",
    "\n",
    "        zeros(T, 3), # x_W\n",
    "        zeros(T, 3), # v_B\n",
    "        Matrix(one(QuatRotation)), # Float64... so T needs to be Float64\n",
    "        zeros(T, 3), # ω_B\n",
    "        zeros(T, 3), # wind_W\n",
    "        Δt, # Δt\n",
    "\n",
    "        num_waypoints, # includig start point\n",
    "        waypoints, \n",
    "        reached_goal,\n",
    "\n",
    "        norm_way, # norm_way\n",
    "        0.0, # progress\n",
    "        0.0, # progress_prev\n",
    "        2, # current point\n",
    "        false, # reached_goal_in_step\n",
    "        \n",
    "        R_TOL, # r_tol\n",
    "        zeros(T, 3), # projected_position\n",
    "\n",
    "        SLOW_MODE # slow_mode\n",
    "\n",
    "        )\n",
    "    \n",
    "    \n",
    "    RLBase.reset!(environment)\n",
    "    \n",
    "    return environment\n",
    "    \n",
    "end;"
   ]
  },
  {
   "cell_type": "markdown",
   "id": "ec660d5e",
   "metadata": {},
   "source": [
    "Just for explanation:\n",
    "\n",
    "1. A mutable Struct is created. A struct is a constructor and a constructor is a function that creates new objects.\n",
    "2. A outer keyword-based constructor method is added for the type declared in the mutable struct typedef before.\n",
    "\n",
    "So now we have a function with two methods. Julia will decide which method to call by multiple dispatch."
   ]
  },
  {
   "cell_type": "code",
   "execution_count": 112,
   "id": "23dd4047",
   "metadata": {},
   "outputs": [
    {
     "data": {
      "text/html": [
       "# 2 methods for type constructor:<ul><li> VtolEnv(; <i>rng, name, visualization, realtime, kwargs...</i>) in Main at In[111]:3</li> <li> VtolEnv(action_space::<b>A</b>, observation_space::<b>Space{Array{ClosedInterval{T}, 1}}</b>, state::<b>Vector{T}</b>, action::<b>ACT</b>, done::<b>Bool</b>, t::<b>T</b>, rng::<b>R</b>, name::<b>String</b>, visualization::<b>Bool</b>, realtime::<b>Bool</b>, x_W::<b>Vector{T}</b>, v_B::<b>Vector{T}</b>, R_W::<b>Matrix{T}</b>, ω_B::<b>Vector{T}</b>, wind_W::<b>Vector{T}</b>, Δt::<b>T</b>, num_waypoints::<b>Int64</b>, waypoints::<b>Array{Vector{T}, 1}</b>, reached_goal::<b>BitVector</b>, norm_way::<b>T</b>, progress::<b>T</b>, progress_prev::<b>T</b>, current_point::<b>Int64</b>, reached_goal_in_step::<b>Bool</b>, r_tol::<b>T</b>, projected_position::<b>Vector{T}</b>, slow_mode::<b>Bool</b>)<i> where {A, T, ACT, R<:AbstractRNG}</i> in Main at In[110]:2</li> </ul>"
      ],
      "text/plain": [
       "# 2 methods for type constructor:\n",
       "[1] VtolEnv(; rng, name, visualization, realtime, kwargs...) in Main at In[111]:3\n",
       "[2] VtolEnv(action_space::A, observation_space::Space{Array{ClosedInterval{T}, 1}}, state::Vector{T}, action::ACT, done::Bool, t::T, rng::R, name::String, visualization::Bool, realtime::Bool, x_W::Vector{T}, v_B::Vector{T}, R_W::Matrix{T}, ω_B::Vector{T}, wind_W::Vector{T}, Δt::T, num_waypoints::Int64, waypoints::Array{Vector{T}, 1}, reached_goal::BitVector, norm_way::T, progress::T, progress_prev::T, current_point::Int64, reached_goal_in_step::Bool, r_tol::T, projected_position::Vector{T}, slow_mode::Bool) where {A, T, ACT, R<:AbstractRNG} in Main at In[110]:2"
      ]
     },
     "execution_count": 112,
     "metadata": {},
     "output_type": "execute_result"
    }
   ],
   "source": [
    "methods(VtolEnv)"
   ]
  },
  {
   "cell_type": "markdown",
   "id": "806413d1",
   "metadata": {},
   "source": [
    "# Define the RL interface"
   ]
  },
  {
   "cell_type": "code",
   "execution_count": 113,
   "id": "0f822029",
   "metadata": {},
   "outputs": [],
   "source": [
    "Random.seed!(env::VtolEnv, seed) = Random.seed!(env.rng, seed)\n",
    "RLBase.action_space(env::VtolEnv) = env.action_space\n",
    "RLBase.state_space(env::VtolEnv) = env.observation_space\n",
    "RLBase.is_terminated(env::VtolEnv) = env.done\n",
    "RLBase.state(env::VtolEnv) = env.state"
   ]
  },
  {
   "cell_type": "code",
   "execution_count": 114,
   "id": "b5e32e25",
   "metadata": {},
   "outputs": [],
   "source": [
    "function scale_for_slowmode(slow_mode::Bool, v_min::T, v_max::T, d_max::T, x_W::Vector{T}, projected_position::Vector{T}, v_B::Vector{T}) where T\n",
    "    \n",
    "    if slow_mode == false\n",
    "        return 1\n",
    "    else\n",
    "        if norm(v_B) > v_max\n",
    "            s_vmax = 10^(v_max - norm(v_B))\n",
    "        else\n",
    "            s_vmax = 1\n",
    "        end\n",
    "\n",
    "        if norm(v_B) < v_min\n",
    "            s_vmin = 10^(norm(v_B) - v_min)\n",
    "        else\n",
    "            s_vmin = 1\n",
    "        end\n",
    "\n",
    "        if norm(x_W - projected_position) > d_max\n",
    "            s_gd = exp(-norm(x_W - projected_position) + d_max)\n",
    "        else\n",
    "            s_gd = 1\n",
    "        end\n",
    "        s = s_vmax * s_vmin * s_gd\n",
    "    end\n",
    "    return s\n",
    "end;"
   ]
  },
  {
   "cell_type": "code",
   "execution_count": 115,
   "id": "1f7fb89c",
   "metadata": {},
   "outputs": [],
   "source": [
    "function computeReward(env::VtolEnv{A,T}) where {A,T}\n",
    "    \n",
    "    \n",
    "    if env.slow_mode\n",
    "        v_min = 1.0 # min velocity\n",
    "        v_max = 3.0 # max velocity\n",
    "        d_max = 0.5 \n",
    "    else\n",
    "        v_min = 4.0 # min velocity\n",
    "        v_max = 50.0 # max velocity\n",
    "        d_max = 1.0 \n",
    "    end\n",
    "\n",
    "\n",
    "    s = scale_for_slowmode(true, v_min, v_max, d_max, env.x_W, env.projected_position, env.v_B)\n",
    "    \n",
    "    k_p = 5.0 * s #/ env.norm_way # factor for progress (between current position and last position) reward \n",
    "    r_p = (env.progress - env.progress_prev); # reward for progress (between current position and last position)\n",
    "\n",
    "    k_s = s * (2 * v_max * env.Δt) / env.norm_way # factor for reached distance (overall) reward\n",
    "    r_s = env.progress # reward for reached distance (overall)\n",
    "    \n",
    "    k_wp = 50.0 # factor for reached gate reward\n",
    "    r_wp = 0.0 # reward for reached gate\n",
    "    if env.reached_goal_in_step\n",
    "        r_wp = exp(-norm(env.x_W - env.waypoints[env.current_point - 1])/env.r_tol)\n",
    "    end \n",
    "\n",
    "    # factor for too high body rate penalty\n",
    "    if env.slow_mode\n",
    "        k_ω = 0.01\n",
    "    else\n",
    "        k_ω = 0.001\n",
    "    end\n",
    "    #norm_ω = norm(env.ω_B[3]) # penalty for body rate\n",
    "    norm_ω = norm(env.ω_B) # penalty for body rate\n",
    "\n",
    "    if env.x_W[3] < 0\n",
    "        fall = 1\n",
    "    else\n",
    "        fall = 0\n",
    "    end\n",
    "    \n",
    "    if !env.slow_mode\n",
    "        k_s /= env.norm_way\n",
    "        k_p /= env.norm_way\n",
    "    end\n",
    "    \n",
    "    return k_p * r_p + k_s * r_s + k_wp * r_wp - k_ω * norm_ω - fall\n",
    "    \n",
    "end\n",
    "\n",
    "\n",
    "RLBase.reward(env::VtolEnv{A,T}) where {A,T} = computeReward(env)"
   ]
  },
  {
   "cell_type": "code",
   "execution_count": 116,
   "id": "ae45ec04",
   "metadata": {},
   "outputs": [],
   "source": [
    "function RLBase.reset!(env::VtolEnv{A,T}) where {A,T}\n",
    "    \n",
    "    env.waypoints = generate_straight_trajectory(env.num_waypoints + 1); # Dummy points\n",
    "#     env.num_waypoints = N_WAYPOINTS_office\n",
    "#     env.waypoints = WAYPOINTS_office\n",
    "    \n",
    "    env.x_W = env.waypoints[1];\n",
    "    env.v_B = [0.0; 0.0; 0.0];\n",
    "    env.R_W = Matrix(one(QuatRotation)); # Identity matrix (no rotation)\n",
    "    env.ω_B = [0.0; 0.0; 0.0];\n",
    "    env.wind_W = [0.0; 0.0; 0.0];\n",
    "\n",
    "    env.reached_goal = falses(env.num_waypoints);\n",
    "    env.reached_goal[1] = true; # set first point to reached (start point)\n",
    "    \n",
    "    env.current_point = 2;\n",
    "    env.reached_goal_in_step = false;\n",
    "    #env.r_tol = 0.3;\n",
    "    \n",
    "    if env.visualization\n",
    "        visualize_waypoints(env.waypoints[1:env.num_waypoints], 0.05); \n",
    "    end\n",
    "    \n",
    "    norm_way = 0.0 \n",
    "    for i in 1:(env.num_waypoints - 1)\n",
    "        norm_way += norm(env.waypoints[i] - env.waypoints[i + 1])\n",
    "    end\n",
    "    \n",
    "    env.norm_way = norm_way\n",
    "    env.progress = 0.0;\n",
    "    env.progress_prev = 0.0;\n",
    "        \n",
    "\n",
    "    env.state = [env.x_W[1]; # 1 position along x\n",
    "                 env.x_W[2]; # 2 position along y\n",
    "                 env.x_W[3]; # 3 position along z\n",
    "\n",
    "                 env.R_W[1,1];\n",
    "                 env.R_W[2,1];\n",
    "                 env.R_W[3,1];\n",
    "        \n",
    "                 env.R_W[1,3]; # 4  World Vector UP x\n",
    "                 env.R_W[2,3]; # 5  World Vector UP y\n",
    "                 env.R_W[3,3]; # 6  World Vector UP z\n",
    "\n",
    "#                  env.R_W[1,1]; # 7  World Vector FRONT x\n",
    "#                  env.R_W[2,1]; # 8  World Vector FRONT y\n",
    "#                  env.R_W[3,1]; # 9  World Vector FRONT z\n",
    "\n",
    "                 env.v_B[1]; #  10 Body velocity along x\n",
    "                 env.v_B[2]; #  11 Body velocity along y\n",
    "                 env.v_B[3]; #  12 Body velocity along z\n",
    "\n",
    "                 env.ω_B[1]; #  13  Body rotational velocity around x\n",
    "                 env.ω_B[2]; #  14  Body rotational velocity around y\n",
    "                 env.ω_B[3]; #  15  Body rotational velocity around z\n",
    "\n",
    "                 env.waypoints[2][1] - env.x_W[1]; # 16 position error to next gate along x\n",
    "                 env.waypoints[2][2] - env.x_W[2]; # 17 position error to next gate along z\n",
    "                 env.waypoints[2][3] - env.x_W[3]; # 18 position error to next gate along z\n",
    "                 \n",
    "                 env.waypoints[3][1] - env.waypoints[2][1]; # 19 way to next next gate x \n",
    "                 env.waypoints[3][2] - env.waypoints[2][2]; # 20 way to next next gate y\n",
    "                 env.waypoints[3][3] - env.waypoints[2][3]]  # 21 way to next next gate z \n",
    "    \n",
    "\n",
    "    env.t = 0.0; # time 0s\n",
    "    env.action = [0.25; 0.25; 0.25; 0.25] # normalized \n",
    "    #env.last_action = [0.255; 0.255; 0.255; 0.255] # normalized\n",
    "    #env.current_action = [0.255; 0.255; 0.255; 0.255] # normalized\n",
    "\n",
    "    env.done = false # reset termination\n",
    "\n",
    "    env.projected_position = [0; 0; 0]\n",
    "    \n",
    "    if env.visualization\n",
    "        # Visualize initial state\n",
    "        set_transform(env.name, env.x_W,QuatRotation(env.R_W));\n",
    "        set_Crazyflie_actuators(env.name, [0.0; 0.0; 0.0; 0.0]);\n",
    "        #transform_arrow(string(env.name, \"_vel\"), env.x_W, env.v_W_target, max_head_radius=0.05) \n",
    "        transform_arrow(string(env.name, \"vel\"), env.x_W, [0.0; 0.0; 0.0], max_head_radius=0.05) \n",
    "    end\n",
    "    \n",
    "    nothing # return nothing\n",
    "end;"
   ]
  },
  {
   "cell_type": "code",
   "execution_count": 117,
   "id": "1cf1a7b7",
   "metadata": {},
   "outputs": [],
   "source": [
    "# defines a methods for a callable object.\n",
    "# So when a VtolEnv object is created, it has this method that can be called\n",
    "function (env::VtolEnv)(a)\n",
    "\n",
    "\n",
    "    # call the step on the environoment with the next action \n",
    "    _step!(env, a)\n",
    "        \n",
    "end"
   ]
  },
  {
   "cell_type": "code",
   "execution_count": 118,
   "id": "26a5a0da",
   "metadata": {},
   "outputs": [],
   "source": [
    "env = VtolEnv();"
   ]
  },
  {
   "cell_type": "code",
   "execution_count": 119,
   "id": "ff8f68a7",
   "metadata": {},
   "outputs": [
    {
     "data": {
      "text/html": [
       "# 3 methods for callable object:<ul><li> (env::<b>VtolEnv</b>)(a) in Main at In[117]:3</li> <li> (env::<b>AbstractEnv</b>)(action) in ReinforcementLearningBase</li> <li> (env::<b>AbstractEnv</b>)(action, player) in ReinforcementLearningBase</li> </ul>"
      ],
      "text/plain": [
       "# 3 methods for callable object:\n",
       "[1] (env::VtolEnv)(a) in Main at In[117]:3\n",
       "[2] (env::AbstractEnv)(action) in ReinforcementLearningBase\n",
       "[3] (env::AbstractEnv)(action, player) in ReinforcementLearningBase"
      ]
     },
     "execution_count": 119,
     "metadata": {},
     "output_type": "execute_result"
    }
   ],
   "source": [
    "methods(env) # Just to explain which methods the object has"
   ]
  },
  {
   "cell_type": "code",
   "execution_count": 120,
   "id": "d4d67302",
   "metadata": {},
   "outputs": [
    {
     "data": {
      "text/plain": [
       "scale_actions (generic function with 1 method)"
      ]
     },
     "execution_count": 120,
     "metadata": {},
     "output_type": "execute_result"
    }
   ],
   "source": [
    "function scale_actions(next_action)\n",
    "    return next_action*22000.0\n",
    "end"
   ]
  },
  {
   "cell_type": "code",
   "execution_count": 121,
   "id": "9e7d4727",
   "metadata": {},
   "outputs": [],
   "source": [
    "function _step!(env::VtolEnv, next_action)\n",
    "    \n",
    "\n",
    "    #env.last_action = copy(env.current_action)\n",
    "    #env.current_action[1] = next_action[1]\n",
    "    #env.current_action[2] = next_action[2]\n",
    "    #env.current_action[3] = next_action[3]\n",
    "    #env.current_action[4] = next_action[4]\n",
    "    \n",
    "    \n",
    "    \n",
    "    scaled_actions = scale_actions.(next_action) # between 0 and 1 for neual network\n",
    "    # caluclate wind impact\n",
    "    v_in_wind_B = vtol_add_wind(env.v_B, env.R_W, env.wind_W)\n",
    "    # caluclate aerodynamic forces\n",
    "    torque_B, force_B = crazyflie_model(scaled_actions);\n",
    "    # integrate rigid body dynamics for Δt\n",
    "    env.x_W, env.v_B, env.R_W, env.ω_B, env.t = rigid_body_simple(torque_B, force_B, env.x_W, env.v_B, env.R_W, env.ω_B, env.t, env.Δt, crazyflie_param)\n",
    "\n",
    "    \n",
    "    env.reached_goal_in_step = false;\n",
    "    if norm(env.x_W - env.waypoints[env.current_point]) < env.r_tol\n",
    "        env.reached_goal_in_step = true;\n",
    "        env.reached_goal[env.current_point] = true;\n",
    "        env.current_point += 1;\n",
    "    end\n",
    "        \n",
    "            \n",
    "    # calculate progress on trajectory\n",
    "    env.progress_prev = env.progress\n",
    "    \n",
    "    current_progress = 0.0\n",
    "    line_segment, env.projected_position = calculate_progress(env.waypoints, env.x_W)\n",
    "    \n",
    "    #env.current_point = line_segment + 1\n",
    "\n",
    "    for i in 2:(line_segment)\n",
    "       current_progress +=  norm(env.waypoints[i] - env.waypoints[i - 1])  \n",
    "    end\n",
    "    current_progress += norm(env.waypoints[line_segment] - env.projected_position)\n",
    "    \n",
    "    env.progress = current_progress\n",
    "    \n",
    "\n",
    "    if env.realtime\n",
    "        sleep(env.Δt) # TODO: just a dirty hack. this is of course slower than real time.\n",
    "    end\n",
    "\n",
    "\n",
    "\n",
    "    if env.visualization\n",
    "        set_transform(env.name, env.x_W,QuatRotation(env.R_W));\n",
    "        set_Crazyflie_actuators(env.name, next_action[1:4])\n",
    "        #transform_arrow(string(env.name, \"_vel\"), env.x_W, env.v_W_target, max_head_radius=0.05)               \n",
    "        transform_arrow(string(env.name, \"vel\"), env.x_W, env.R_W*env.v_B, max_head_radius=0.05) \n",
    "    \n",
    "        for i in eachindex(env.reached_goal)\n",
    "            if env.reached_goal[i]\n",
    "                create_sphere(\"fixgoal_$i\", 0.05, color=RGBA{Float32}(1.0, 0.0, 0.0, 1.0));\n",
    "                set_transform(\"fixgoal_$i\", env.waypoints[i]);\n",
    "            end\n",
    "        end\n",
    "\n",
    "    end\n",
    "    \n",
    "    \n",
    "    #v_B_target = transpose(env.R_W)*env.v_W_target\n",
    "    \n",
    "    \n",
    "    # State space\n",
    "    env.state[1] = env.x_W[1];\n",
    "    env.state[2] = env.x_W[2];\n",
    "    env.state[3] = env.x_W[3];\n",
    "    \n",
    "    env.state[4] = env.R_W[1,1] # 1  World Vector UP x\n",
    "    env.state[5] = env.R_W[2,1] # 2  World Vector UP y\n",
    "    env.state[6] = env.R_W[3,1] # 3  World Vector UP z\n",
    "\n",
    "    env.state[7] = env.R_W[1,3] # 4  World Vector FRONT x\n",
    "    env.state[8] = env.R_W[2,3] # 5  World Vector FRONT y\n",
    "    env.state[9] = env.R_W[3,3] # 6  World Vector FRONT z\n",
    "        \n",
    "    env.state[10] = env.v_B[1] # 7  Body velocity along x\n",
    "    env.state[11] = env.v_B[2] # 8  Body velocity along y\n",
    "    env.state[12] = env.v_B[3] # 9  Body velocity along z\n",
    "\n",
    "    env.state[13] = env.ω_B[1] # 10 Body rotational velocity around x\n",
    "    env.state[14] = env.ω_B[2] # 11 Body rotational velocity around y\n",
    "    env.state[15] = env.ω_B[3] # 12 Body rotational velocity around z\n",
    "\n",
    "    env.state[16] = env.waypoints[env.current_point][1] - env.x_W[1] # 13 position error to next gate along x\n",
    "    env.state[17] = env.waypoints[env.current_point][2] - env.x_W[2]; # 14 position error to next gate along z\n",
    "    env.state[18] = env.waypoints[env.current_point][3] - env.x_W[3]; # 15 position error to next gate along z\n",
    "                 \n",
    "    if env.current_point <= env.num_waypoints\n",
    "        env.state[19] = env.waypoints[env.current_point + 1][1] - env.waypoints[env.current_point][1] ; # 16 way to next next gate x (next next gate - next gate), dummy integriert\n",
    "        env.state[20] = env.waypoints[env.current_point + 1][2] - env.waypoints[env.current_point][2]; # 17 way to next next gate y (next next gate - next gate), dummy integriert\n",
    "        env.state[21] = env.waypoints[env.current_point + 1][3] - env.waypoints[env.current_point][3]; # 18 way to next next gate z (next next gate - next gate), dummy integriert\n",
    "    end\n",
    "\n",
    "    \n",
    "    \n",
    "    # Termination criteria\n",
    "    env.done = #true\n",
    "        # After time... How fast is drone+Range of desired point\n",
    "        # After reaching position (circle of r_tol)\n",
    "         norm(env.ω_B) > 100.0 || \n",
    "         norm(env.v_B) > 100.0 || # stop if body is too fast_point \n",
    "        env.x_W[3] < -1.0 || # stop if body is below -5m\n",
    "        env.t > env.num_waypoints * 3.0 ||# stop after 3s per point \n",
    "        norm(env.x_W - env.projected_position) > 5.0 || # too far off the path \n",
    "        env.reached_goal == trues(env.num_waypoints)\n",
    "\n",
    "    nothing\n",
    "end;"
   ]
  },
  {
   "cell_type": "code",
   "execution_count": 122,
   "id": "6e1cd988",
   "metadata": {},
   "outputs": [
    {
     "name": "stdout",
     "output_type": "stream",
     "text": [
      "\u001b[0m\u001b[1mTest Summary:              | \u001b[22m\u001b[32m\u001b[1mPass  \u001b[22m\u001b[39m\u001b[36m\u001b[1mTotal  \u001b[22m\u001b[39m\u001b[0m\u001b[1mTime\u001b[22m\n",
      "random policy with VtolEnv | \u001b[32m2000  \u001b[39m\u001b[36m 2000  \u001b[39m\u001b[0m0.0s\n"
     ]
    },
    {
     "data": {
      "text/plain": [
       "Test.DefaultTestSet(\"random policy with VtolEnv\", Any[], 2000, false, false, true, 1.677099943816374e9, 1.677099943827269e9)"
      ]
     },
     "execution_count": 122,
     "metadata": {},
     "output_type": "execute_result"
    }
   ],
   "source": [
    "RLBase.test_runnable!(env)"
   ]
  },
  {
   "cell_type": "markdown",
   "id": "c223a31f",
   "metadata": {},
   "source": [
    "Show an overview of the environment."
   ]
  },
  {
   "cell_type": "markdown",
   "id": "ffe6de74",
   "metadata": {},
   "source": [
    "# Setup of a reinforcement learning experiment."
   ]
  },
  {
   "cell_type": "code",
   "execution_count": 123,
   "id": "e5683fe8",
   "metadata": {},
   "outputs": [
    {
     "data": {
      "text/markdown": [
       "MultiThreadEnv(8 x VtolEnv)"
      ],
      "text/plain": [
       "MultiThreadEnv(8 x VtolEnv)"
      ]
     },
     "execution_count": 123,
     "metadata": {},
     "output_type": "execute_result"
    }
   ],
   "source": [
    "seed = 123    \n",
    "rng = StableRNG(seed)\n",
    "N_ENV = 8\n",
    "UPDATE_FREQ = 1024\n",
    "    \n",
    "    \n",
    "    # define multiple environments for parallel training\n",
    "    env = MultiThreadEnv([\n",
    "        # use different names for the visualization\n",
    "        VtolEnv(; rng = StableRNG(hash(seed+i)), name = \"cf_PPO$i\") for i in 1:N_ENV\n",
    "    ])\n",
    "\n"
   ]
  },
  {
   "cell_type": "code",
   "execution_count": 124,
   "id": "d1f128b2",
   "metadata": {},
   "outputs": [],
   "source": [
    "# Define the function approximator\n",
    "    ns, na = length(state(env[1])), length(action_space(env[1]))\n",
    "    approximator = ActorCritic(\n",
    "                actor = GaussianNetwork(\n",
    "                    pre = Chain(\n",
    "                    Dense(ns, 256, tanh; initW = glorot_uniform(rng)),\n",
    "                    Dense(256, 256, tanh; initW = glorot_uniform(rng)),\n",
    "                    ),\n",
    "                    μ = Chain(Dense(256, na; initW = glorot_uniform(rng))),\n",
    "                    logσ = Chain(Dense(256, na; initW = glorot_uniform(rng))),\n",
    "                ),\n",
    "                critic = Chain(\n",
    "                    Dense(ns, 256, tanh; initW = glorot_uniform(rng)),\n",
    "                    Dense(256, 256, tanh; initW = glorot_uniform(rng)),\n",
    "                    Dense(256, 1; initW = glorot_uniform(rng)),\n",
    "                ),\n",
    "                optimizer = ADAM(1e-4),\n",
    "            );"
   ]
  },
  {
   "cell_type": "code",
   "execution_count": 125,
   "id": "7ea4c37c",
   "metadata": {},
   "outputs": [],
   "source": [
    "    agent = Agent( # A wrapper of an AbstractPolicy\n",
    "         \n",
    "\n",
    "        # AbstractPolicy: the policy to use\n",
    "        policy = PPOPolicy(;\n",
    "                    approximator = approximator |> cpu,\n",
    "                    update_freq=UPDATE_FREQ,\n",
    "                    dist = Normal,\n",
    "                    # For parameters visit the docu: https://juliareinforcementlearning.org/docs/rlzoo/#ReinforcementLearningZoo.PPOPolicy\n",
    "                    ),\n",
    "        \n",
    "        # AbstractTrajectory: used to store transitions between an agent and an environment source\n",
    "        trajectory = PPOTrajectory(;\n",
    "            capacity = UPDATE_FREQ,\n",
    "            state = Matrix{Float64} => (ns, N_ENV),\n",
    "            action = Matrix{Float64} => (na, N_ENV),\n",
    "            action_log_prob = Vector{Float64} => (N_ENV,),\n",
    "            reward = Vector{Float64} => (N_ENV,),\n",
    "            terminal = Vector{Bool} => (N_ENV,),\n",
    "        ),\n",
    "    );\n"
   ]
  },
  {
   "cell_type": "code",
   "execution_count": 126,
   "id": "7f158a93",
   "metadata": {},
   "outputs": [],
   "source": [
    "function saveModel(t, agent, env)\n",
    "    model = cpu(agent.policy.approximator)\n",
    "    if SLOW_MODE\n",
    "        f = joinpath(\"./office_test/RL_models_slow/\", \"cf_ppo_$(t).bson\") #todo\n",
    "    else\n",
    "        f = joinpath(\"./office_test/RL_models_fast/\", \"cf_ppo_$(2000000+t).bson\") \n",
    "    end\n",
    "    @save f model\n",
    "    println(\"parameters at step $t saved to $f\")\n",
    "end;\n"
   ]
  },
  {
   "cell_type": "code",
   "execution_count": 127,
   "id": "301a9bd8",
   "metadata": {},
   "outputs": [],
   "source": [
    "function loadModel()\n",
    "    if SLOW_MODE\n",
    "        f = joinpath(\"./RL_models_slow/\", \"cf_ppo_$(load_from_slow_step).bson\")\n",
    "#         f = joinpath(\"./office_test/RL_models_slow/\", \"cf_ppo_1000000.bson\") #todo\n",
    "    else\n",
    "        f = joinpath(\"./office_test/RL_models_fast/\", \"cf_ppo_$(load_from_fast_step).bson\") # todo\n",
    "    end\n",
    "    @load f model\n",
    "    return model\n",
    "end;"
   ]
  },
  {
   "cell_type": "code",
   "execution_count": 128,
   "id": "751137af",
   "metadata": {},
   "outputs": [],
   "source": [
    "function validate_policy(t, agent, env)\n",
    "    # for validation extract the policy from the agend\n",
    "    run(agent.policy, test_env, StopAfterEpisode(1), \n",
    "        ComposedHook(\n",
    "        episode_test_step_hook, \n",
    "        episode_test_reward_hook\n",
    "    ),\n",
    "        )\n",
    "    # the result of the hook\n",
    "    reward = round((episode_test_reward_hook.rewards[end]),digits = 3)\n",
    "    length = episode_test_step_hook.steps[end-1]\n",
    "    \n",
    "    println(\"step: \", t, \" reward : \",reward, \" length: \", length)\n",
    "\n",
    "    with_logger(logger) do\n",
    "        @info \"evaluating\" avg_length = length  avg_reward = reward  log_step_increment = 0\n",
    "    end\n",
    "end;\n",
    "\n",
    "episode_test_reward_hook = TotalRewardPerEpisode( is_display_on_exit=false)\n",
    "episode_test_step_hook = StepsPerEpisode()\n",
    "# create a env only for reward test\n",
    "\n",
    "test_env = VtolEnv(;name = \"test_cf\", visualization = true, realtime = true);\n",
    "#test_env = VtolEnv(;name = \"test_cf\", visualization = false, realtime = false);"
   ]
  },
  {
   "cell_type": "code",
   "execution_count": 129,
   "id": "897ce270",
   "metadata": {},
   "outputs": [
    {
     "data": {
      "text/plain": [
       "2000000"
      ]
     },
     "execution_count": 129,
     "metadata": {},
     "output_type": "execute_result"
    }
   ],
   "source": [
    "# number of steps\n",
    "steps_slow = 2_000_000\n",
    "steps_fast = 2_000_000\n",
    "load_from_slow_step = 30_000_000 #30_000_000 # TODO: choose slow model\n",
    "load_from_fast_step = 2_000_000 #30_000_000 # TODO: choose fast model\n",
    "\n",
    "save_freq = 100_000\n",
    "validate_freq = 100_000\n",
    "\n",
    "steps = 0\n",
    "if SLOW_MODE\n",
    "    steps = steps_slow\n",
    "else\n",
    "    steps = steps_fast\n",
    "end"
   ]
  },
  {
   "cell_type": "code",
   "execution_count": 130,
   "id": "0e8fad8f",
   "metadata": {},
   "outputs": [],
   "source": [
    "# Define hook which is called during the training\n",
    "total_batch_reward_per_episode = TotalBatchRewardPerEpisode(N_ENV, is_display_on_exit = false)\n",
    "hook = ComposedHook(\n",
    "    total_batch_reward_per_episode,\n",
    "    DoEveryNStep(saveModel, n=save_freq),\n",
    "    DoEveryNStep(validate_policy, n=validate_freq),\n",
    "    #=\n",
    "    DoEveryNStep() do t, agent, env\n",
    "        p = agent.policy\n",
    "        with_logger(logger) do\n",
    "            @info \"training\" loss = mean(p.loss)  actor_loss = mean(p.actor_loss)  critic_loss = mean(p.critic_loss)\n",
    "        end\n",
    "    end,\n",
    "    =#\n",
    "    DoEveryNStep() do t, agent, env\n",
    "        with_logger(logger) do\n",
    "            rewards = [\n",
    "                total_batch_reward_per_episode.rewards[i][end] for i in 1:length(env)  if is_terminated(env[i])\n",
    "                    ]\n",
    "            if length(rewards) > 0\n",
    "                @info \"training\" reward = mean(rewards)\n",
    "            end\n",
    "        end\n",
    "    end,\n",
    "    #=\n",
    "    DoEveryNStep() do t, agent, env\n",
    "        with_logger(logger) do\n",
    "            @info \"training\" action_thrust_1 = env[1].action[1]  action_thrust_2 = env[1].action[2] action_thrust_3 = env[1].action[3] action_thrust_4 = env[1].action[4]\n",
    "        end\n",
    "    end,\n",
    "    =#\n",
    ");"
   ]
  },
  {
   "cell_type": "code",
   "execution_count": 131,
   "id": "174f8124",
   "metadata": {},
   "outputs": [],
   "source": [
    "agent.policy.approximator = loadModel(); "
   ]
  },
  {
   "cell_type": "code",
   "execution_count": null,
   "id": "45dfdb68",
   "metadata": {
    "scrolled": true
   },
   "outputs": [
    {
     "name": "stderr",
     "output_type": "stream",
     "text": [
      "\u001b[32mProgress:   5%|██                                       |  ETA: 1:22:12\u001b[39mm45\u001b[39m"
     ]
    },
    {
     "name": "stdout",
     "output_type": "stream",
     "text": [
      "parameters at step 100000 saved to ./office_test/RL_models_fast/cf_ppo_2100000.bson\n",
      "step: 100000 reward : 74.155 length: 202\n"
     ]
    },
    {
     "name": "stderr",
     "output_type": "stream",
     "text": [
      "\u001b[32mProgress:  10%|████▏                                    |  ETA: 1:10:40\u001b[39m"
     ]
    },
    {
     "name": "stdout",
     "output_type": "stream",
     "text": [
      "parameters at step 200000 saved to ./office_test/RL_models_fast/cf_ppo_2200000.bson\n",
      "step: 200000 reward : 72.855 length: 106\n"
     ]
    },
    {
     "name": "stderr",
     "output_type": "stream",
     "text": [
      "\u001b[32mProgress:  15%|██████▏                                  |  ETA: 1:03:42\u001b[39m"
     ]
    },
    {
     "name": "stdout",
     "output_type": "stream",
     "text": [
      "parameters at step 300000 saved to ./office_test/RL_models_fast/cf_ppo_2300000.bson\n",
      "step: 300000 reward : 74.738 length: 144\n"
     ]
    },
    {
     "name": "stderr",
     "output_type": "stream",
     "text": [
      "\u001b[32mProgress:  20%|████████▎                                |  ETA: 0:58:56\u001b[39m"
     ]
    },
    {
     "name": "stdout",
     "output_type": "stream",
     "text": [
      "parameters at step 400000 saved to ./office_test/RL_models_fast/cf_ppo_2400000.bson\n",
      "step: 400000 reward : 64.045 length: 128\n"
     ]
    },
    {
     "name": "stderr",
     "output_type": "stream",
     "text": [
      "\u001b[32mProgress:  25%|██████████▎                              |  ETA: 0:55:14\u001b[39m"
     ]
    },
    {
     "name": "stdout",
     "output_type": "stream",
     "text": [
      "parameters at step 500000 saved to ./office_test/RL_models_fast/cf_ppo_2500000.bson\n",
      "step: 500000 reward : 72.099 length: 89\n"
     ]
    },
    {
     "name": "stderr",
     "output_type": "stream",
     "text": [
      "\u001b[32mProgress:  26%|██████████▉                              |  ETA: 0:53:59\u001b[39m"
     ]
    }
   ],
   "source": [
    "if TRAINING\n",
    "    ReinforcementLearning.run(\n",
    "        agent,\n",
    "        env,\n",
    "        StopAfterStep(steps),\n",
    "        hook\n",
    "    )\n",
    "end"
   ]
  },
  {
   "cell_type": "code",
   "execution_count": null,
   "id": "21a5d7b6",
   "metadata": {},
   "outputs": [],
   "source": [
    "if TRAINING\n",
    "    plot(episode_test_reward_hook.rewards)\n",
    "end"
   ]
  },
  {
   "cell_type": "code",
   "execution_count": null,
   "id": "41c1dc36",
   "metadata": {},
   "outputs": [],
   "source": [
    "if TRAINING\n",
    "    plot(episode_test_step_hook.steps[1:2:end])\n",
    "end"
   ]
  },
  {
   "cell_type": "code",
   "execution_count": 86,
   "id": "0be19c7e",
   "metadata": {},
   "outputs": [],
   "source": [
    "close_visualization(); # closes the MeshCat visualization"
   ]
  },
  {
   "cell_type": "markdown",
   "id": "d1be7fc6",
   "metadata": {},
   "source": [
    "# Evaluation"
   ]
  },
  {
   "cell_type": "code",
   "execution_count": 87,
   "id": "8a39200a",
   "metadata": {},
   "outputs": [],
   "source": [
    "test_env = VtolEnv(;name = \"test_cf\");"
   ]
  },
  {
   "cell_type": "code",
   "execution_count": 88,
   "id": "345f65ce",
   "metadata": {},
   "outputs": [],
   "source": [
    "function loadModel(path, num)\n",
    "    f = joinpath(path, \"cf_ppo_$num.bson\") \n",
    "    @load f model\n",
    "    return model\n",
    "end;"
   ]
  },
  {
   "cell_type": "code",
   "execution_count": 89,
   "id": "ed379703",
   "metadata": {},
   "outputs": [],
   "source": [
    "function validate(num_models, num_test)\n",
    "    episode_test_reward_hook = TotalRewardPerEpisode(;is_display_on_exit=false)\n",
    "    # create a env only for reward test\n",
    "    for i in 1:num_models\n",
    "          \n",
    "        sum_rewards_model = 0;\n",
    "        sum_successes_model = 0;\n",
    "        sum_avg_vel_model = 0;\n",
    "        sum_compl_time = 0;\n",
    "        n_success = 0;\n",
    "        \n",
    "        for exp in 1:num_test\n",
    "            if SLOW_MODE\n",
    "                path = \"./office_test/RL_models_slow/\"\n",
    "            else\n",
    "                path = \"./office_test/RL_models_fast/\"\n",
    "            end\n",
    "            agent.policy.approximator = loadModel(path, i * save_freq); \n",
    "            RLBase.reset!(test_env)\n",
    "            \n",
    "            run(agent.policy, test_env, StopAfterEpisode(1), episode_test_reward_hook)\n",
    "            # the result of the hook\n",
    "            sum_rewards_model += episode_test_reward_hook.rewards[end];\n",
    "            \n",
    "            if test_env.reached_goal == trues(test_env.num_waypoints)\n",
    "                n_success += 1\n",
    "                sum_avg_vel_model += test_env.norm_way / test_env.t\n",
    "                sum_compl_time += test_env.t\n",
    "                if best_compl_time[i] > test_env.t\n",
    "                    best_compl_time[i] = test_env.t\n",
    "                end\n",
    "            end\n",
    "        end\n",
    "        \n",
    "        rewards[i] = sum_rewards_model / num_test;\n",
    "        success_rate[i] = n_success / num_test;\n",
    "        if n_success > 0\n",
    "            avg_velocity[i] = sum_avg_vel_model / n_success;\n",
    "            avg_compl_time[i] = sum_compl_time / n_success;\n",
    "        else\n",
    "            avg_velocity[i] = NaN\n",
    "            avg_compl_time[i] = NaN\n",
    "        end\n",
    "        percent = percent = round(i * 100 / num_models, digits=2)\n",
    "        print(\"progress: $(percent)%   \\r\")\n",
    "        flush(stdout)\n",
    "        \n",
    "    end\n",
    "    \n",
    "    \n",
    "end;"
   ]
  },
  {
   "cell_type": "code",
   "execution_count": 90,
   "id": "21a98dd6",
   "metadata": {
    "scrolled": true
   },
   "outputs": [
    {
     "name": "stdout",
     "output_type": "stream",
     "text": [
      "progress: 100.0%   \r"
     ]
    }
   ],
   "source": [
    "if EVALUATION\n",
    "    \n",
    "    NUM_MODELS = Int(steps / save_freq);  \n",
    "    NUM_TEST = 30; # TODO: change as desired \n",
    "\n",
    "    rewards = zeros(NUM_MODELS, 1);\n",
    "    success_rate = zeros(NUM_MODELS, 1);\n",
    "    avg_velocity = zeros(NUM_MODELS, 1);\n",
    "    avg_compl_time = zeros(NUM_MODELS, 1);\n",
    "    best_compl_time = zeros(NUM_MODELS, 1);\n",
    "    best_compl_time[1:end] .= 500\n",
    "    \n",
    "    validate(NUM_MODELS, NUM_TEST);\n",
    "    \n",
    "    for i in 1:NUM_MODELS\n",
    "        if best_compl_time[i] == 500\n",
    "            best_compl_time[i] = NaN\n",
    "        end\n",
    "    end\n",
    "end;"
   ]
  },
  {
   "cell_type": "code",
   "execution_count": 91,
   "id": "ab909865",
   "metadata": {},
   "outputs": [],
   "source": [
    "if EVALUATION\n",
    "    results_path = pwd() * \"/office_test/plots/\";\n",
    "    if SLOW_MODE\n",
    "        results_path = results_path * \"slow/\"\n",
    "    else\n",
    "        results_path = results_path * \"fast/\"\n",
    "    end\n",
    "    \n",
    "    save(results_path * \"iterations.jld\", \"data\", [1:NUM_MODELS] * save_freq) \n",
    "    \n",
    "    save(results_path * \"avg_comp_time.jld\", \"data\", avg_compl_time)\n",
    "    \n",
    "    save(results_path * \"avg_velocity.jld\", \"data\", avg_velocity)\n",
    "    \n",
    "    save(results_path * \"reward.jld\", \"data\", rewards) \n",
    "        \n",
    "    save(results_path * \"success_rate.jld\", \"data\", success_rate)\n",
    "    \n",
    "    save(results_path * \"best_compl_time.jld\", \"data\", best_compl_time)\n",
    "end;"
   ]
  },
  {
   "cell_type": "code",
   "execution_count": 92,
   "id": "0ea2a032",
   "metadata": {},
   "outputs": [],
   "source": [
    "results_path = pwd() * \"/office_test/plots/\";\n",
    "if SLOW_MODE\n",
    "    results_path = results_path * \"slow/\"\n",
    "else\n",
    "    results_path = results_path * \"fast/\"\n",
    "end\n",
    "\n",
    "iterations = load(results_path * \"iterations.jld\")[\"data\"];\n",
    "avg_compl_time = load(results_path * \"avg_comp_time.jld\")[\"data\"];\n",
    "avg_velocity = load(results_path * \"avg_velocity.jld\")[\"data\"];\n",
    "rewards = load(results_path * \"reward.jld\")[\"data\"];\n",
    "success_rate = load(results_path * \"success_rate.jld\")[\"data\"];\n",
    "best_compl_time = load(results_path * \"best_compl_time.jld\")[\"data\"];"
   ]
  },
  {
   "cell_type": "code",
   "execution_count": 93,
   "id": "26466af1",
   "metadata": {},
   "outputs": [
    {
     "data": {
      "text/plain": [
       "\"/home/larissa/Documents/Projects/ADLR/ADLR_project/src/RL_PPO_quadcopter_3D/office_test/plots/fast/\""
      ]
     },
     "execution_count": 93,
     "metadata": {},
     "output_type": "execute_result"
    }
   ],
   "source": [
    "fig_path = pwd() * \"/office_test/plots/\";\n",
    "if SLOW_MODE\n",
    "    fig_path = fig_path * \"slow/\"\n",
    "else\n",
    "    fig_path = fig_path * \"fast/\"\n",
    "end"
   ]
  },
  {
   "cell_type": "code",
   "execution_count": 94,
   "id": "c4cc649e",
   "metadata": {},
   "outputs": [
    {
     "data": {
      "image/svg+xml": [
       "<?xml version=\"1.0\" encoding=\"utf-8\"?>\n",
       "<svg xmlns=\"http://www.w3.org/2000/svg\" xmlns:xlink=\"http://www.w3.org/1999/xlink\" width=\"600\" height=\"400\" viewBox=\"0 0 2400 1600\">\n",
       "<defs>\n",
       "  <clipPath id=\"clip350\">\n",
       "    <rect x=\"0\" y=\"0\" width=\"2400\" height=\"1600\"/>\n",
       "  </clipPath>\n",
       "</defs>\n",
       "<path clip-path=\"url(#clip350)\" d=\"\n",
       "M0 1600 L2400 1600 L2400 0 L0 0  Z\n",
       "  \" fill=\"#ffffff\" fill-rule=\"evenodd\" fill-opacity=\"1\"/>\n",
       "<defs>\n",
       "  <clipPath id=\"clip351\">\n",
       "    <rect x=\"480\" y=\"0\" width=\"1681\" height=\"1600\"/>\n",
       "  </clipPath>\n",
       "</defs>\n",
       "<path clip-path=\"url(#clip350)\" d=\"\n",
       "M232.389 1410.9 L2352.76 1410.9 L2352.76 47.2441 L232.389 47.2441  Z\n",
       "  \" fill=\"#ffffff\" fill-rule=\"evenodd\" fill-opacity=\"1\"/>\n",
       "<defs>\n",
       "  <clipPath id=\"clip352\">\n",
       "    <rect x=\"232\" y=\"47\" width=\"2121\" height=\"1365\"/>\n",
       "  </clipPath>\n",
       "</defs>\n",
       "<polyline clip-path=\"url(#clip352)\" style=\"stroke:#000000; stroke-linecap:round; stroke-linejoin:round; stroke-width:2; stroke-opacity:0.1; fill:none\" points=\"\n",
       "  713.525,1410.9 713.525,47.2441 \n",
       "  \"/>\n",
       "<polyline clip-path=\"url(#clip352)\" style=\"stroke:#000000; stroke-linecap:round; stroke-linejoin:round; stroke-width:2; stroke-opacity:0.1; fill:none\" points=\"\n",
       "  1239.93,1410.9 1239.93,47.2441 \n",
       "  \"/>\n",
       "<polyline clip-path=\"url(#clip352)\" style=\"stroke:#000000; stroke-linecap:round; stroke-linejoin:round; stroke-width:2; stroke-opacity:0.1; fill:none\" points=\"\n",
       "  1766.34,1410.9 1766.34,47.2441 \n",
       "  \"/>\n",
       "<polyline clip-path=\"url(#clip352)\" style=\"stroke:#000000; stroke-linecap:round; stroke-linejoin:round; stroke-width:2; stroke-opacity:0.1; fill:none\" points=\"\n",
       "  2292.75,1410.9 2292.75,47.2441 \n",
       "  \"/>\n",
       "<polyline clip-path=\"url(#clip350)\" style=\"stroke:#000000; stroke-linecap:round; stroke-linejoin:round; stroke-width:4; stroke-opacity:1; fill:none\" points=\"\n",
       "  232.389,1410.9 2352.76,1410.9 \n",
       "  \"/>\n",
       "<polyline clip-path=\"url(#clip350)\" style=\"stroke:#000000; stroke-linecap:round; stroke-linejoin:round; stroke-width:4; stroke-opacity:1; fill:none\" points=\"\n",
       "  713.525,1410.9 713.525,1392 \n",
       "  \"/>\n",
       "<polyline clip-path=\"url(#clip350)\" style=\"stroke:#000000; stroke-linecap:round; stroke-linejoin:round; stroke-width:4; stroke-opacity:1; fill:none\" points=\"\n",
       "  1239.93,1410.9 1239.93,1392 \n",
       "  \"/>\n",
       "<polyline clip-path=\"url(#clip350)\" style=\"stroke:#000000; stroke-linecap:round; stroke-linejoin:round; stroke-width:4; stroke-opacity:1; fill:none\" points=\"\n",
       "  1766.34,1410.9 1766.34,1392 \n",
       "  \"/>\n",
       "<polyline clip-path=\"url(#clip350)\" style=\"stroke:#000000; stroke-linecap:round; stroke-linejoin:round; stroke-width:4; stroke-opacity:1; fill:none\" points=\"\n",
       "  2292.75,1410.9 2292.75,1392 \n",
       "  \"/>\n",
       "<path clip-path=\"url(#clip350)\" d=\"M606.502 1454.4 L624.858 1454.4 L624.858 1458.33 L610.784 1458.33 L610.784 1466.8 Q611.803 1466.46 612.821 1466.29 Q613.84 1466.11 614.858 1466.11 Q620.645 1466.11 624.025 1469.28 Q627.404 1472.45 627.404 1477.87 Q627.404 1483.45 623.932 1486.55 Q620.46 1489.63 614.141 1489.63 Q611.965 1489.63 609.696 1489.26 Q607.451 1488.89 605.043 1488.15 L605.043 1483.45 Q607.127 1484.58 609.349 1485.14 Q611.571 1485.69 614.048 1485.69 Q618.053 1485.69 620.391 1483.59 Q622.728 1481.48 622.728 1477.87 Q622.728 1474.26 620.391 1472.15 Q618.053 1470.04 614.048 1470.04 Q612.173 1470.04 610.298 1470.46 Q608.446 1470.88 606.502 1471.76 L606.502 1454.4 Z\" fill=\"#000000\" fill-rule=\"evenodd\" fill-opacity=\"1\" /><path clip-path=\"url(#clip350)\" d=\"M636.617 1483.08 L641.502 1483.08 L641.502 1488.96 L636.617 1488.96 L636.617 1483.08 Z\" fill=\"#000000\" fill-rule=\"evenodd\" fill-opacity=\"1\" /><path clip-path=\"url(#clip350)\" d=\"M661.687 1457.48 Q658.076 1457.48 656.247 1461.04 Q654.441 1464.58 654.441 1471.71 Q654.441 1478.82 656.247 1482.38 Q658.076 1485.92 661.687 1485.92 Q665.321 1485.92 667.126 1482.38 Q668.955 1478.82 668.955 1471.71 Q668.955 1464.58 667.126 1461.04 Q665.321 1457.48 661.687 1457.48 M661.687 1453.77 Q667.497 1453.77 670.552 1458.38 Q673.631 1462.96 673.631 1471.71 Q673.631 1480.44 670.552 1485.04 Q667.497 1489.63 661.687 1489.63 Q655.876 1489.63 652.798 1485.04 Q649.742 1480.44 649.742 1471.71 Q649.742 1462.96 652.798 1458.38 Q655.876 1453.77 661.687 1453.77 Z\" fill=\"#000000\" fill-rule=\"evenodd\" fill-opacity=\"1\" /><path clip-path=\"url(#clip350)\" d=\"M691.848 1457.48 Q688.237 1457.48 686.409 1461.04 Q684.603 1464.58 684.603 1471.71 Q684.603 1478.82 686.409 1482.38 Q688.237 1485.92 691.848 1485.92 Q695.483 1485.92 697.288 1482.38 Q699.117 1478.82 699.117 1471.71 Q699.117 1464.58 697.288 1461.04 Q695.483 1457.48 691.848 1457.48 M691.848 1453.77 Q697.659 1453.77 700.714 1458.38 Q703.793 1462.96 703.793 1471.71 Q703.793 1480.44 700.714 1485.04 Q697.659 1489.63 691.848 1489.63 Q686.038 1489.63 682.96 1485.04 Q679.904 1480.44 679.904 1471.71 Q679.904 1462.96 682.96 1458.38 Q686.038 1453.77 691.848 1453.77 Z\" fill=\"#000000\" fill-rule=\"evenodd\" fill-opacity=\"1\" /><path clip-path=\"url(#clip350)\" d=\"M740.182 1463.49 L729.603 1474.12 L740.182 1484.7 L737.427 1487.5 L726.802 1476.87 L716.177 1487.5 L713.446 1484.7 L724.001 1474.12 L713.446 1463.49 L716.177 1460.69 L726.802 1471.32 L737.427 1460.69 L740.182 1463.49 Z\" fill=\"#000000\" fill-rule=\"evenodd\" fill-opacity=\"1\" /><path clip-path=\"url(#clip350)\" d=\"M752.543 1485.02 L760.181 1485.02 L760.181 1458.66 L751.871 1460.32 L751.871 1456.06 L760.135 1454.4 L764.811 1454.4 L764.811 1485.02 L772.45 1485.02 L772.45 1488.96 L752.543 1488.96 L752.543 1485.02 Z\" fill=\"#000000\" fill-rule=\"evenodd\" fill-opacity=\"1\" /><path clip-path=\"url(#clip350)\" d=\"M791.894 1457.48 Q788.283 1457.48 786.454 1461.04 Q784.649 1464.58 784.649 1471.71 Q784.649 1478.82 786.454 1482.38 Q788.283 1485.92 791.894 1485.92 Q795.528 1485.92 797.334 1482.38 Q799.163 1478.82 799.163 1471.71 Q799.163 1464.58 797.334 1461.04 Q795.528 1457.48 791.894 1457.48 M791.894 1453.77 Q797.704 1453.77 800.76 1458.38 Q803.839 1462.96 803.839 1471.71 Q803.839 1480.44 800.76 1485.04 Q797.704 1489.63 791.894 1489.63 Q786.084 1489.63 783.005 1485.04 Q779.95 1480.44 779.95 1471.71 Q779.95 1462.96 783.005 1458.38 Q786.084 1453.77 791.894 1453.77 Z\" fill=\"#000000\" fill-rule=\"evenodd\" fill-opacity=\"1\" /><path clip-path=\"url(#clip350)\" d=\"M805.024 1433.47 L819.938 1433.47 L819.938 1436.66 L808.503 1436.66 L808.503 1443.55 Q809.33 1443.27 810.158 1443.13 Q810.986 1442.98 811.813 1442.98 Q816.515 1442.98 819.261 1445.56 Q822.007 1448.14 822.007 1452.54 Q822.007 1457.07 819.186 1459.59 Q816.365 1462.09 811.23 1462.09 Q809.462 1462.09 807.619 1461.79 Q805.795 1461.49 803.839 1460.89 L803.839 1457.07 Q805.531 1457.99 807.337 1458.44 Q809.142 1458.89 811.155 1458.89 Q814.409 1458.89 816.308 1457.18 Q818.208 1455.47 818.208 1452.54 Q818.208 1449.6 816.308 1447.89 Q814.409 1446.18 811.155 1446.18 Q809.631 1446.18 808.108 1446.52 Q806.603 1446.86 805.024 1447.57 L805.024 1433.47 Z\" fill=\"#000000\" fill-rule=\"evenodd\" fill-opacity=\"1\" /><path clip-path=\"url(#clip350)\" d=\"M1132.29 1485.02 L1139.92 1485.02 L1139.92 1458.66 L1131.61 1460.32 L1131.61 1456.06 L1139.88 1454.4 L1144.55 1454.4 L1144.55 1485.02 L1152.19 1485.02 L1152.19 1488.96 L1132.29 1488.96 L1132.29 1485.02 Z\" fill=\"#000000\" fill-rule=\"evenodd\" fill-opacity=\"1\" /><path clip-path=\"url(#clip350)\" d=\"M1161.64 1483.08 L1166.52 1483.08 L1166.52 1488.96 L1161.64 1488.96 L1161.64 1483.08 Z\" fill=\"#000000\" fill-rule=\"evenodd\" fill-opacity=\"1\" /><path clip-path=\"url(#clip350)\" d=\"M1186.71 1457.48 Q1183.1 1457.48 1181.27 1461.04 Q1179.46 1464.58 1179.46 1471.71 Q1179.46 1478.82 1181.27 1482.38 Q1183.1 1485.92 1186.71 1485.92 Q1190.34 1485.92 1192.15 1482.38 Q1193.98 1478.82 1193.98 1471.71 Q1193.98 1464.58 1192.15 1461.04 Q1190.34 1457.48 1186.71 1457.48 M1186.71 1453.77 Q1192.52 1453.77 1195.57 1458.38 Q1198.65 1462.96 1198.65 1471.71 Q1198.65 1480.44 1195.57 1485.04 Q1192.52 1489.63 1186.71 1489.63 Q1180.9 1489.63 1177.82 1485.04 Q1174.76 1480.44 1174.76 1471.71 Q1174.76 1462.96 1177.82 1458.38 Q1180.9 1453.77 1186.71 1453.77 Z\" fill=\"#000000\" fill-rule=\"evenodd\" fill-opacity=\"1\" /><path clip-path=\"url(#clip350)\" d=\"M1216.87 1457.48 Q1213.26 1457.48 1211.43 1461.04 Q1209.62 1464.58 1209.62 1471.71 Q1209.62 1478.82 1211.43 1482.38 Q1213.26 1485.92 1216.87 1485.92 Q1220.5 1485.92 1222.31 1482.38 Q1224.14 1478.82 1224.14 1471.71 Q1224.14 1464.58 1222.31 1461.04 Q1220.5 1457.48 1216.87 1457.48 M1216.87 1453.77 Q1222.68 1453.77 1225.73 1458.38 Q1228.81 1462.96 1228.81 1471.71 Q1228.81 1480.44 1225.73 1485.04 Q1222.68 1489.63 1216.87 1489.63 Q1211.06 1489.63 1207.98 1485.04 Q1204.92 1480.44 1204.92 1471.71 Q1204.92 1462.96 1207.98 1458.38 Q1211.06 1453.77 1216.87 1453.77 Z\" fill=\"#000000\" fill-rule=\"evenodd\" fill-opacity=\"1\" /><path clip-path=\"url(#clip350)\" d=\"M1265.2 1463.49 L1254.62 1474.12 L1265.2 1484.7 L1262.45 1487.5 L1251.82 1476.87 L1241.2 1487.5 L1238.47 1484.7 L1249.02 1474.12 L1238.47 1463.49 L1241.2 1460.69 L1251.82 1471.32 L1262.45 1460.69 L1265.2 1463.49 Z\" fill=\"#000000\" fill-rule=\"evenodd\" fill-opacity=\"1\" /><path clip-path=\"url(#clip350)\" d=\"M1277.56 1485.02 L1285.2 1485.02 L1285.2 1458.66 L1276.89 1460.32 L1276.89 1456.06 L1285.16 1454.4 L1289.83 1454.4 L1289.83 1485.02 L1297.47 1485.02 L1297.47 1488.96 L1277.56 1488.96 L1277.56 1485.02 Z\" fill=\"#000000\" fill-rule=\"evenodd\" fill-opacity=\"1\" /><path clip-path=\"url(#clip350)\" d=\"M1316.91 1457.48 Q1313.3 1457.48 1311.47 1461.04 Q1309.67 1464.58 1309.67 1471.71 Q1309.67 1478.82 1311.47 1482.38 Q1313.3 1485.92 1316.91 1485.92 Q1320.55 1485.92 1322.35 1482.38 Q1324.18 1478.82 1324.18 1471.71 Q1324.18 1464.58 1322.35 1461.04 Q1320.55 1457.48 1316.91 1457.48 M1316.91 1453.77 Q1322.72 1453.77 1325.78 1458.38 Q1328.86 1462.96 1328.86 1471.71 Q1328.86 1480.44 1325.78 1485.04 Q1322.72 1489.63 1316.91 1489.63 Q1311.1 1489.63 1308.03 1485.04 Q1304.97 1480.44 1304.97 1471.71 Q1304.97 1462.96 1308.03 1458.38 Q1311.1 1453.77 1316.91 1453.77 Z\" fill=\"#000000\" fill-rule=\"evenodd\" fill-opacity=\"1\" /><path clip-path=\"url(#clip350)\" d=\"M1338.88 1445.99 Q1336.33 1445.99 1334.82 1447.74 Q1333.33 1449.49 1333.33 1452.54 Q1333.33 1455.57 1334.82 1457.33 Q1336.33 1459.08 1338.88 1459.08 Q1341.44 1459.08 1342.93 1457.33 Q1344.43 1455.57 1344.43 1452.54 Q1344.43 1449.49 1342.93 1447.74 Q1341.44 1445.99 1338.88 1445.99 M1346.43 1434.09 L1346.43 1437.55 Q1345 1436.87 1343.53 1436.51 Q1342.08 1436.16 1340.65 1436.16 Q1336.89 1436.16 1334.9 1438.69 Q1332.92 1441.23 1332.64 1446.37 Q1333.75 1444.73 1335.42 1443.87 Q1337.1 1442.98 1339.11 1442.98 Q1343.34 1442.98 1345.79 1445.56 Q1348.25 1448.12 1348.25 1452.54 Q1348.25 1456.86 1345.69 1459.48 Q1343.13 1462.09 1338.88 1462.09 Q1334.01 1462.09 1331.44 1458.37 Q1328.86 1454.62 1328.86 1447.53 Q1328.86 1440.88 1332.02 1436.93 Q1335.18 1432.96 1340.5 1432.96 Q1341.93 1432.96 1343.38 1433.24 Q1344.85 1433.52 1346.43 1434.09 Z\" fill=\"#000000\" fill-rule=\"evenodd\" fill-opacity=\"1\" /><path clip-path=\"url(#clip350)\" d=\"M1658.69 1485.02 L1666.33 1485.02 L1666.33 1458.66 L1658.02 1460.32 L1658.02 1456.06 L1666.29 1454.4 L1670.96 1454.4 L1670.96 1485.02 L1678.6 1485.02 L1678.6 1488.96 L1658.69 1488.96 L1658.69 1485.02 Z\" fill=\"#000000\" fill-rule=\"evenodd\" fill-opacity=\"1\" /><path clip-path=\"url(#clip350)\" d=\"M1688.04 1483.08 L1692.93 1483.08 L1692.93 1488.96 L1688.04 1488.96 L1688.04 1483.08 Z\" fill=\"#000000\" fill-rule=\"evenodd\" fill-opacity=\"1\" /><path clip-path=\"url(#clip350)\" d=\"M1703.16 1454.4 L1721.52 1454.4 L1721.52 1458.33 L1707.44 1458.33 L1707.44 1466.8 Q1708.46 1466.46 1709.48 1466.29 Q1710.5 1466.11 1711.52 1466.11 Q1717.3 1466.11 1720.68 1469.28 Q1724.06 1472.45 1724.06 1477.87 Q1724.06 1483.45 1720.59 1486.55 Q1717.12 1489.63 1710.8 1489.63 Q1708.62 1489.63 1706.35 1489.26 Q1704.11 1488.89 1701.7 1488.15 L1701.7 1483.45 Q1703.78 1484.58 1706.01 1485.14 Q1708.23 1485.69 1710.71 1485.69 Q1714.71 1485.69 1717.05 1483.59 Q1719.39 1481.48 1719.39 1477.87 Q1719.39 1474.26 1717.05 1472.15 Q1714.71 1470.04 1710.71 1470.04 Q1708.83 1470.04 1706.96 1470.46 Q1705.1 1470.88 1703.16 1471.76 L1703.16 1454.4 Z\" fill=\"#000000\" fill-rule=\"evenodd\" fill-opacity=\"1\" /><path clip-path=\"url(#clip350)\" d=\"M1743.28 1457.48 Q1739.66 1457.48 1737.84 1461.04 Q1736.03 1464.58 1736.03 1471.71 Q1736.03 1478.82 1737.84 1482.38 Q1739.66 1485.92 1743.28 1485.92 Q1746.91 1485.92 1748.72 1482.38 Q1750.54 1478.82 1750.54 1471.71 Q1750.54 1464.58 1748.72 1461.04 Q1746.91 1457.48 1743.28 1457.48 M1743.28 1453.77 Q1749.09 1453.77 1752.14 1458.38 Q1755.22 1462.96 1755.22 1471.71 Q1755.22 1480.44 1752.14 1485.04 Q1749.09 1489.63 1743.28 1489.63 Q1737.47 1489.63 1734.39 1485.04 Q1731.33 1480.44 1731.33 1471.71 Q1731.33 1462.96 1734.39 1458.38 Q1737.47 1453.77 1743.28 1453.77 Z\" fill=\"#000000\" fill-rule=\"evenodd\" fill-opacity=\"1\" /><path clip-path=\"url(#clip350)\" d=\"M1791.61 1463.49 L1781.03 1474.12 L1791.61 1484.7 L1788.85 1487.5 L1778.23 1476.87 L1767.6 1487.5 L1764.87 1484.7 L1775.43 1474.12 L1764.87 1463.49 L1767.6 1460.69 L1778.23 1471.32 L1788.85 1460.69 L1791.61 1463.49 Z\" fill=\"#000000\" fill-rule=\"evenodd\" fill-opacity=\"1\" /><path clip-path=\"url(#clip350)\" d=\"M1803.97 1485.02 L1811.61 1485.02 L1811.61 1458.66 L1803.3 1460.32 L1803.3 1456.06 L1811.56 1454.4 L1816.24 1454.4 L1816.24 1485.02 L1823.88 1485.02 L1823.88 1488.96 L1803.97 1488.96 L1803.97 1485.02 Z\" fill=\"#000000\" fill-rule=\"evenodd\" fill-opacity=\"1\" /><path clip-path=\"url(#clip350)\" d=\"M1843.32 1457.48 Q1839.71 1457.48 1837.88 1461.04 Q1836.08 1464.58 1836.08 1471.71 Q1836.08 1478.82 1837.88 1482.38 Q1839.71 1485.92 1843.32 1485.92 Q1846.96 1485.92 1848.76 1482.38 Q1850.59 1478.82 1850.59 1471.71 Q1850.59 1464.58 1848.76 1461.04 Q1846.96 1457.48 1843.32 1457.48 M1843.32 1453.77 Q1849.13 1453.77 1852.19 1458.38 Q1855.27 1462.96 1855.27 1471.71 Q1855.27 1480.44 1852.19 1485.04 Q1849.13 1489.63 1843.32 1489.63 Q1837.51 1489.63 1834.43 1485.04 Q1831.38 1480.44 1831.38 1471.71 Q1831.38 1462.96 1834.43 1458.38 Q1837.51 1453.77 1843.32 1453.77 Z\" fill=\"#000000\" fill-rule=\"evenodd\" fill-opacity=\"1\" /><path clip-path=\"url(#clip350)\" d=\"M1865.29 1445.99 Q1862.73 1445.99 1861.23 1447.74 Q1859.74 1449.49 1859.74 1452.54 Q1859.74 1455.57 1861.23 1457.33 Q1862.73 1459.08 1865.29 1459.08 Q1867.85 1459.08 1869.33 1457.33 Q1870.84 1455.57 1870.84 1452.54 Q1870.84 1449.49 1869.33 1447.74 Q1867.85 1445.99 1865.29 1445.99 M1872.83 1434.09 L1872.83 1437.55 Q1871.4 1436.87 1869.94 1436.51 Q1868.49 1436.16 1867.06 1436.16 Q1863.3 1436.16 1861.3 1438.69 Q1859.33 1441.23 1859.05 1446.37 Q1860.16 1444.73 1861.83 1443.87 Q1863.5 1442.98 1865.52 1442.98 Q1869.75 1442.98 1872.19 1445.56 Q1874.66 1448.12 1874.66 1452.54 Q1874.66 1456.86 1872.1 1459.48 Q1869.54 1462.09 1865.29 1462.09 Q1860.42 1462.09 1857.84 1458.37 Q1855.27 1454.62 1855.27 1447.53 Q1855.27 1440.88 1858.43 1436.93 Q1861.58 1432.96 1866.91 1432.96 Q1868.34 1432.96 1869.79 1433.24 Q1871.25 1433.52 1872.83 1434.09 Z\" fill=\"#000000\" fill-rule=\"evenodd\" fill-opacity=\"1\" /><path clip-path=\"url(#clip350)\" d=\"M2189.18 1485.02 L2205.5 1485.02 L2205.5 1488.96 L2183.56 1488.96 L2183.56 1485.02 Q2186.22 1482.27 2190.81 1477.64 Q2195.41 1472.98 2196.59 1471.64 Q2198.84 1469.12 2199.72 1467.38 Q2200.62 1465.62 2200.62 1463.93 Q2200.62 1461.18 2198.68 1459.44 Q2196.75 1457.71 2193.65 1457.71 Q2191.45 1457.71 2189 1458.47 Q2186.57 1459.23 2183.79 1460.79 L2183.79 1456.06 Q2186.62 1454.93 2189.07 1454.35 Q2191.52 1453.77 2193.56 1453.77 Q2198.93 1453.77 2202.12 1456.46 Q2205.32 1459.14 2205.32 1463.63 Q2205.32 1465.76 2204.51 1467.68 Q2203.72 1469.58 2201.62 1472.17 Q2201.04 1472.85 2197.93 1476.06 Q2194.83 1479.26 2189.18 1485.02 Z\" fill=\"#000000\" fill-rule=\"evenodd\" fill-opacity=\"1\" /><path clip-path=\"url(#clip350)\" d=\"M2215.32 1483.08 L2220.2 1483.08 L2220.2 1488.96 L2215.32 1488.96 L2215.32 1483.08 Z\" fill=\"#000000\" fill-rule=\"evenodd\" fill-opacity=\"1\" /><path clip-path=\"url(#clip350)\" d=\"M2240.39 1457.48 Q2236.78 1457.48 2234.95 1461.04 Q2233.14 1464.58 2233.14 1471.71 Q2233.14 1478.82 2234.95 1482.38 Q2236.78 1485.92 2240.39 1485.92 Q2244.02 1485.92 2245.83 1482.38 Q2247.66 1478.82 2247.66 1471.71 Q2247.66 1464.58 2245.83 1461.04 Q2244.02 1457.48 2240.39 1457.48 M2240.39 1453.77 Q2246.2 1453.77 2249.25 1458.38 Q2252.33 1462.96 2252.33 1471.71 Q2252.33 1480.44 2249.25 1485.04 Q2246.2 1489.63 2240.39 1489.63 Q2234.58 1489.63 2231.5 1485.04 Q2228.44 1480.44 2228.44 1471.71 Q2228.44 1462.96 2231.5 1458.38 Q2234.58 1453.77 2240.39 1453.77 Z\" fill=\"#000000\" fill-rule=\"evenodd\" fill-opacity=\"1\" /><path clip-path=\"url(#clip350)\" d=\"M2270.55 1457.48 Q2266.94 1457.48 2265.11 1461.04 Q2263.3 1464.58 2263.3 1471.71 Q2263.3 1478.82 2265.11 1482.38 Q2266.94 1485.92 2270.55 1485.92 Q2274.18 1485.92 2275.99 1482.38 Q2277.82 1478.82 2277.82 1471.71 Q2277.82 1464.58 2275.99 1461.04 Q2274.18 1457.48 2270.55 1457.48 M2270.55 1453.77 Q2276.36 1453.77 2279.42 1458.38 Q2282.49 1462.96 2282.49 1471.71 Q2282.49 1480.44 2279.42 1485.04 Q2276.36 1489.63 2270.55 1489.63 Q2264.74 1489.63 2261.66 1485.04 Q2258.61 1480.44 2258.61 1471.71 Q2258.61 1462.96 2261.66 1458.38 Q2264.74 1453.77 2270.55 1453.77 Z\" fill=\"#000000\" fill-rule=\"evenodd\" fill-opacity=\"1\" /><path clip-path=\"url(#clip350)\" d=\"M2318.88 1463.49 L2308.3 1474.12 L2318.88 1484.7 L2316.13 1487.5 L2305.5 1476.87 L2294.88 1487.5 L2292.15 1484.7 L2302.7 1474.12 L2292.15 1463.49 L2294.88 1460.69 L2305.5 1471.32 L2316.13 1460.69 L2318.88 1463.49 Z\" fill=\"#000000\" fill-rule=\"evenodd\" fill-opacity=\"1\" /><path clip-path=\"url(#clip350)\" d=\"M2331.24 1485.02 L2338.88 1485.02 L2338.88 1458.66 L2330.57 1460.32 L2330.57 1456.06 L2338.84 1454.4 L2343.51 1454.4 L2343.51 1485.02 L2351.15 1485.02 L2351.15 1488.96 L2331.24 1488.96 L2331.24 1485.02 Z\" fill=\"#000000\" fill-rule=\"evenodd\" fill-opacity=\"1\" /><path clip-path=\"url(#clip350)\" d=\"M2370.6 1457.48 Q2366.98 1457.48 2365.16 1461.04 Q2363.35 1464.58 2363.35 1471.71 Q2363.35 1478.82 2365.16 1482.38 Q2366.98 1485.92 2370.6 1485.92 Q2374.23 1485.92 2376.04 1482.38 Q2377.86 1478.82 2377.86 1471.71 Q2377.86 1464.58 2376.04 1461.04 Q2374.23 1457.48 2370.6 1457.48 M2370.6 1453.77 Q2376.41 1453.77 2379.46 1458.38 Q2382.54 1462.96 2382.54 1471.71 Q2382.54 1480.44 2379.46 1485.04 Q2376.41 1489.63 2370.6 1489.63 Q2364.79 1489.63 2361.71 1485.04 Q2358.65 1480.44 2358.65 1471.71 Q2358.65 1462.96 2361.71 1458.38 Q2364.79 1453.77 2370.6 1453.77 Z\" fill=\"#000000\" fill-rule=\"evenodd\" fill-opacity=\"1\" /><path clip-path=\"url(#clip350)\" d=\"M2392.56 1445.99 Q2390.01 1445.99 2388.5 1447.74 Q2387.02 1449.49 2387.02 1452.54 Q2387.02 1455.57 2388.5 1457.33 Q2390.01 1459.08 2392.56 1459.08 Q2395.12 1459.08 2396.61 1457.33 Q2398.11 1455.57 2398.11 1452.54 Q2398.11 1449.49 2396.61 1447.74 Q2395.12 1445.99 2392.56 1445.99 M2400.11 1434.09 L2400.11 1437.55 Q2398.68 1436.87 2397.21 1436.51 Q2395.76 1436.16 2394.33 1436.16 Q2390.57 1436.16 2388.58 1438.69 Q2386.6 1441.23 2386.32 1446.37 Q2387.43 1444.73 2389.1 1443.87 Q2390.78 1442.98 2392.79 1442.98 Q2397.02 1442.98 2399.47 1445.56 Q2401.93 1448.12 2401.93 1452.54 Q2401.93 1456.86 2399.37 1459.48 Q2396.82 1462.09 2392.56 1462.09 Q2387.69 1462.09 2385.12 1458.37 Q2382.54 1454.62 2382.54 1447.53 Q2382.54 1440.88 2385.7 1436.93 Q2388.86 1432.96 2394.18 1432.96 Q2395.61 1432.96 2397.06 1433.24 Q2398.53 1433.52 2400.11 1434.09 Z\" fill=\"#000000\" fill-rule=\"evenodd\" fill-opacity=\"1\" /><path clip-path=\"url(#clip350)\" d=\"M1142.14 1526.67 L1148.56 1526.67 L1148.56 1574.19 L1142.14 1574.19 L1142.14 1526.67 Z\" fill=\"#000000\" fill-rule=\"evenodd\" fill-opacity=\"1\" /><path clip-path=\"url(#clip350)\" d=\"M1166.9 1528.42 L1166.9 1538.54 L1178.96 1538.54 L1178.96 1543.09 L1166.9 1543.09 L1166.9 1562.44 Q1166.9 1566.8 1168.08 1568.04 Q1169.28 1569.28 1172.95 1569.28 L1178.96 1569.28 L1178.96 1574.19 L1172.95 1574.19 Q1166.17 1574.19 1163.59 1571.67 Q1161.01 1569.12 1161.01 1562.44 L1161.01 1543.09 L1156.71 1543.09 L1156.71 1538.54 L1161.01 1538.54 L1161.01 1528.42 L1166.9 1528.42 Z\" fill=\"#000000\" fill-rule=\"evenodd\" fill-opacity=\"1\" /><path clip-path=\"url(#clip350)\" d=\"M1217.15 1554.9 L1217.15 1557.76 L1190.23 1557.76 Q1190.61 1563.81 1193.86 1566.99 Q1197.13 1570.14 1202.96 1570.14 Q1206.33 1570.14 1209.48 1569.32 Q1212.67 1568.49 1215.79 1566.83 L1215.79 1572.37 Q1212.64 1573.71 1209.33 1574.41 Q1206.01 1575.11 1202.61 1575.11 Q1194.08 1575.11 1189.08 1570.14 Q1184.12 1565.18 1184.12 1556.71 Q1184.12 1547.96 1188.83 1542.83 Q1193.57 1537.68 1201.59 1537.68 Q1208.78 1537.68 1212.95 1542.33 Q1217.15 1546.94 1217.15 1554.9 M1211.3 1553.18 Q1211.23 1548.37 1208.59 1545.51 Q1205.98 1542.64 1201.65 1542.64 Q1196.75 1542.64 1193.79 1545.41 Q1190.86 1548.18 1190.42 1553.21 L1211.3 1553.18 Z\" fill=\"#000000\" fill-rule=\"evenodd\" fill-opacity=\"1\" /><path clip-path=\"url(#clip350)\" d=\"M1247.42 1544.01 Q1246.44 1543.44 1245.26 1543.18 Q1244.11 1542.9 1242.71 1542.9 Q1237.75 1542.9 1235.07 1546.14 Q1232.43 1549.36 1232.43 1555.41 L1232.43 1574.19 L1226.54 1574.19 L1226.54 1538.54 L1232.43 1538.54 L1232.43 1544.08 Q1234.28 1540.83 1237.24 1539.27 Q1240.2 1537.68 1244.43 1537.68 Q1245.04 1537.68 1245.77 1537.77 Q1246.5 1537.84 1247.39 1538 L1247.42 1544.01 Z\" fill=\"#000000\" fill-rule=\"evenodd\" fill-opacity=\"1\" /><path clip-path=\"url(#clip350)\" d=\"M1269.77 1556.27 Q1262.67 1556.27 1259.93 1557.89 Q1257.2 1559.51 1257.2 1563.43 Q1257.2 1566.55 1259.23 1568.39 Q1261.3 1570.21 1264.83 1570.21 Q1269.7 1570.21 1272.63 1566.77 Q1275.59 1563.3 1275.59 1557.57 L1275.59 1556.27 L1269.77 1556.27 M1281.45 1553.85 L1281.45 1574.19 L1275.59 1574.19 L1275.59 1568.77 Q1273.59 1572.02 1270.6 1573.58 Q1267.6 1575.11 1263.27 1575.11 Q1257.8 1575.11 1254.55 1572.05 Q1251.34 1568.97 1251.34 1563.81 Q1251.34 1557.79 1255.35 1554.74 Q1259.39 1551.68 1267.38 1551.68 L1275.59 1551.68 L1275.59 1551.11 Q1275.59 1547.07 1272.92 1544.87 Q1270.28 1542.64 1265.47 1542.64 Q1262.42 1542.64 1259.52 1543.38 Q1256.62 1544.11 1253.95 1545.57 L1253.95 1540.16 Q1257.16 1538.92 1260.19 1538.31 Q1263.21 1537.68 1266.08 1537.68 Q1273.81 1537.68 1277.63 1541.69 Q1281.45 1545.7 1281.45 1553.85 Z\" fill=\"#000000\" fill-rule=\"evenodd\" fill-opacity=\"1\" /><path clip-path=\"url(#clip350)\" d=\"M1299.3 1528.42 L1299.3 1538.54 L1311.37 1538.54 L1311.37 1543.09 L1299.3 1543.09 L1299.3 1562.44 Q1299.3 1566.8 1300.48 1568.04 Q1301.69 1569.28 1305.35 1569.28 L1311.37 1569.28 L1311.37 1574.19 L1305.35 1574.19 Q1298.57 1574.19 1295.99 1571.67 Q1293.42 1569.12 1293.42 1562.44 L1293.42 1543.09 L1289.12 1543.09 L1289.12 1538.54 L1293.42 1538.54 L1293.42 1528.42 L1299.3 1528.42 Z\" fill=\"#000000\" fill-rule=\"evenodd\" fill-opacity=\"1\" /><path clip-path=\"url(#clip350)\" d=\"M1319.07 1538.54 L1324.93 1538.54 L1324.93 1574.19 L1319.07 1574.19 L1319.07 1538.54 M1319.07 1524.66 L1324.93 1524.66 L1324.93 1532.08 L1319.07 1532.08 L1319.07 1524.66 Z\" fill=\"#000000\" fill-rule=\"evenodd\" fill-opacity=\"1\" /><path clip-path=\"url(#clip350)\" d=\"M1350.99 1542.64 Q1346.28 1542.64 1343.55 1546.34 Q1340.81 1550 1340.81 1556.39 Q1340.81 1562.79 1343.51 1566.48 Q1346.25 1570.14 1350.99 1570.14 Q1355.67 1570.14 1358.41 1566.45 Q1361.15 1562.76 1361.15 1556.39 Q1361.15 1550.06 1358.41 1546.37 Q1355.67 1542.64 1350.99 1542.64 M1350.99 1537.68 Q1358.63 1537.68 1362.99 1542.64 Q1367.35 1547.61 1367.35 1556.39 Q1367.35 1565.15 1362.99 1570.14 Q1358.63 1575.11 1350.99 1575.11 Q1343.32 1575.11 1338.96 1570.14 Q1334.63 1565.15 1334.63 1556.39 Q1334.63 1547.61 1338.96 1542.64 Q1343.32 1537.68 1350.99 1537.68 Z\" fill=\"#000000\" fill-rule=\"evenodd\" fill-opacity=\"1\" /><path clip-path=\"url(#clip350)\" d=\"M1406.69 1552.67 L1406.69 1574.19 L1400.84 1574.19 L1400.84 1552.86 Q1400.84 1547.8 1398.86 1545.29 Q1396.89 1542.77 1392.94 1542.77 Q1388.2 1542.77 1385.46 1545.79 Q1382.73 1548.82 1382.73 1554.04 L1382.73 1574.19 L1376.84 1574.19 L1376.84 1538.54 L1382.73 1538.54 L1382.73 1544.08 Q1384.83 1540.86 1387.66 1539.27 Q1390.52 1537.68 1394.25 1537.68 Q1400.39 1537.68 1403.54 1541.5 Q1406.69 1545.29 1406.69 1552.67 Z\" fill=\"#000000\" fill-rule=\"evenodd\" fill-opacity=\"1\" /><path clip-path=\"url(#clip350)\" d=\"M1441.1 1539.59 L1441.1 1545.13 Q1438.62 1543.85 1435.94 1543.22 Q1433.27 1542.58 1430.41 1542.58 Q1426.05 1542.58 1423.85 1543.92 Q1421.69 1545.25 1421.69 1547.93 Q1421.69 1549.96 1423.24 1551.14 Q1424.8 1552.29 1429.51 1553.34 L1431.52 1553.78 Q1437.76 1555.12 1440.37 1557.57 Q1443.01 1559.99 1443.01 1564.35 Q1443.01 1569.32 1439.06 1572.21 Q1435.15 1575.11 1428.27 1575.11 Q1425.41 1575.11 1422.29 1574.54 Q1419.2 1573.99 1415.76 1572.88 L1415.76 1566.83 Q1419.01 1568.52 1422.16 1569.38 Q1425.31 1570.21 1428.4 1570.21 Q1432.54 1570.21 1434.77 1568.81 Q1436.99 1567.37 1436.99 1564.8 Q1436.99 1562.41 1435.37 1561.14 Q1433.78 1559.86 1428.34 1558.68 L1426.3 1558.21 Q1420.86 1557.06 1418.44 1554.71 Q1416.02 1552.32 1416.02 1548.18 Q1416.02 1543.15 1419.58 1540.42 Q1423.15 1537.68 1429.71 1537.68 Q1432.95 1537.68 1435.82 1538.16 Q1438.68 1538.63 1441.1 1539.59 Z\" fill=\"#000000\" fill-rule=\"evenodd\" fill-opacity=\"1\" /><polyline clip-path=\"url(#clip352)\" style=\"stroke:#000000; stroke-linecap:round; stroke-linejoin:round; stroke-width:2; stroke-opacity:0.1; fill:none\" points=\"\n",
       "  232.389,1183.78 2352.76,1183.78 \n",
       "  \"/>\n",
       "<polyline clip-path=\"url(#clip352)\" style=\"stroke:#000000; stroke-linecap:round; stroke-linejoin:round; stroke-width:2; stroke-opacity:0.1; fill:none\" points=\"\n",
       "  232.389,939.525 2352.76,939.525 \n",
       "  \"/>\n",
       "<polyline clip-path=\"url(#clip352)\" style=\"stroke:#000000; stroke-linecap:round; stroke-linejoin:round; stroke-width:2; stroke-opacity:0.1; fill:none\" points=\"\n",
       "  232.389,695.271 2352.76,695.271 \n",
       "  \"/>\n",
       "<polyline clip-path=\"url(#clip352)\" style=\"stroke:#000000; stroke-linecap:round; stroke-linejoin:round; stroke-width:2; stroke-opacity:0.1; fill:none\" points=\"\n",
       "  232.389,451.018 2352.76,451.018 \n",
       "  \"/>\n",
       "<polyline clip-path=\"url(#clip352)\" style=\"stroke:#000000; stroke-linecap:round; stroke-linejoin:round; stroke-width:2; stroke-opacity:0.1; fill:none\" points=\"\n",
       "  232.389,206.764 2352.76,206.764 \n",
       "  \"/>\n",
       "<polyline clip-path=\"url(#clip350)\" style=\"stroke:#000000; stroke-linecap:round; stroke-linejoin:round; stroke-width:4; stroke-opacity:1; fill:none\" points=\"\n",
       "  232.389,1410.9 232.389,47.2441 \n",
       "  \"/>\n",
       "<polyline clip-path=\"url(#clip350)\" style=\"stroke:#000000; stroke-linecap:round; stroke-linejoin:round; stroke-width:4; stroke-opacity:1; fill:none\" points=\"\n",
       "  232.389,1183.78 251.287,1183.78 \n",
       "  \"/>\n",
       "<polyline clip-path=\"url(#clip350)\" style=\"stroke:#000000; stroke-linecap:round; stroke-linejoin:round; stroke-width:4; stroke-opacity:1; fill:none\" points=\"\n",
       "  232.389,939.525 251.287,939.525 \n",
       "  \"/>\n",
       "<polyline clip-path=\"url(#clip350)\" style=\"stroke:#000000; stroke-linecap:round; stroke-linejoin:round; stroke-width:4; stroke-opacity:1; fill:none\" points=\"\n",
       "  232.389,695.271 251.287,695.271 \n",
       "  \"/>\n",
       "<polyline clip-path=\"url(#clip350)\" style=\"stroke:#000000; stroke-linecap:round; stroke-linejoin:round; stroke-width:4; stroke-opacity:1; fill:none\" points=\"\n",
       "  232.389,451.018 251.287,451.018 \n",
       "  \"/>\n",
       "<polyline clip-path=\"url(#clip350)\" style=\"stroke:#000000; stroke-linecap:round; stroke-linejoin:round; stroke-width:4; stroke-opacity:1; fill:none\" points=\"\n",
       "  232.389,206.764 251.287,206.764 \n",
       "  \"/>\n",
       "<path clip-path=\"url(#clip350)\" d=\"M114.931 1197.12 L122.57 1197.12 L122.57 1170.76 L114.26 1172.42 L114.26 1168.16 L122.524 1166.5 L127.2 1166.5 L127.2 1197.12 L134.839 1197.12 L134.839 1201.06 L114.931 1201.06 L114.931 1197.12 Z\" fill=\"#000000\" fill-rule=\"evenodd\" fill-opacity=\"1\" /><path clip-path=\"url(#clip350)\" d=\"M145.093 1197.12 L152.732 1197.12 L152.732 1170.76 L144.422 1172.42 L144.422 1168.16 L152.686 1166.5 L157.362 1166.5 L157.362 1197.12 L165.001 1197.12 L165.001 1201.06 L145.093 1201.06 L145.093 1197.12 Z\" fill=\"#000000\" fill-rule=\"evenodd\" fill-opacity=\"1\" /><path clip-path=\"url(#clip350)\" d=\"M184.445 1169.58 Q180.834 1169.58 179.005 1173.14 Q177.2 1176.68 177.2 1183.81 Q177.2 1190.92 179.005 1194.48 Q180.834 1198.03 184.445 1198.03 Q188.079 1198.03 189.885 1194.48 Q191.713 1190.92 191.713 1183.81 Q191.713 1176.68 189.885 1173.14 Q188.079 1169.58 184.445 1169.58 M184.445 1165.87 Q190.255 1165.87 193.311 1170.48 Q196.389 1175.06 196.389 1183.81 Q196.389 1192.54 193.311 1197.15 Q190.255 1201.73 184.445 1201.73 Q178.635 1201.73 175.556 1197.15 Q172.501 1192.54 172.501 1183.81 Q172.501 1175.06 175.556 1170.48 Q178.635 1165.87 184.445 1165.87 Z\" fill=\"#000000\" fill-rule=\"evenodd\" fill-opacity=\"1\" /><path clip-path=\"url(#clip350)\" d=\"M114.931 952.869 L122.57 952.869 L122.57 926.504 L114.26 928.17 L114.26 923.911 L122.524 922.245 L127.2 922.245 L127.2 952.869 L134.839 952.869 L134.839 956.805 L114.931 956.805 L114.931 952.869 Z\" fill=\"#000000\" fill-rule=\"evenodd\" fill-opacity=\"1\" /><path clip-path=\"url(#clip350)\" d=\"M148.311 952.869 L164.63 952.869 L164.63 956.805 L142.686 956.805 L142.686 952.869 Q145.348 950.115 149.931 945.485 Q154.538 940.832 155.718 939.49 Q157.964 936.967 158.843 935.231 Q159.746 933.471 159.746 931.781 Q159.746 929.027 157.802 927.291 Q155.88 925.555 152.778 925.555 Q150.579 925.555 148.126 926.319 Q145.695 927.082 142.917 928.633 L142.917 923.911 Q145.741 922.777 148.195 922.198 Q150.649 921.62 152.686 921.62 Q158.056 921.62 161.251 924.305 Q164.445 926.99 164.445 931.481 Q164.445 933.61 163.635 935.531 Q162.848 937.43 160.741 940.022 Q160.163 940.693 157.061 943.911 Q153.959 947.105 148.311 952.869 Z\" fill=\"#000000\" fill-rule=\"evenodd\" fill-opacity=\"1\" /><path clip-path=\"url(#clip350)\" d=\"M184.445 925.323 Q180.834 925.323 179.005 928.888 Q177.2 932.43 177.2 939.559 Q177.2 946.666 179.005 950.23 Q180.834 953.772 184.445 953.772 Q188.079 953.772 189.885 950.23 Q191.713 946.666 191.713 939.559 Q191.713 932.43 189.885 928.888 Q188.079 925.323 184.445 925.323 M184.445 921.62 Q190.255 921.62 193.311 926.226 Q196.389 930.809 196.389 939.559 Q196.389 948.286 193.311 952.892 Q190.255 957.476 184.445 957.476 Q178.635 957.476 175.556 952.892 Q172.501 948.286 172.501 939.559 Q172.501 930.809 175.556 926.226 Q178.635 921.62 184.445 921.62 Z\" fill=\"#000000\" fill-rule=\"evenodd\" fill-opacity=\"1\" /><path clip-path=\"url(#clip350)\" d=\"M114.931 708.616 L122.57 708.616 L122.57 682.25 L114.26 683.917 L114.26 679.658 L122.524 677.991 L127.2 677.991 L127.2 708.616 L134.839 708.616 L134.839 712.551 L114.931 712.551 L114.931 708.616 Z\" fill=\"#000000\" fill-rule=\"evenodd\" fill-opacity=\"1\" /><path clip-path=\"url(#clip350)\" d=\"M158.45 693.917 Q161.806 694.634 163.681 696.903 Q165.579 699.171 165.579 702.505 Q165.579 707.62 162.061 710.421 Q158.542 713.222 152.061 713.222 Q149.885 713.222 147.57 712.782 Q145.279 712.366 142.825 711.509 L142.825 706.995 Q144.769 708.13 147.084 708.708 Q149.399 709.287 151.922 709.287 Q156.32 709.287 158.612 707.551 Q160.927 705.815 160.927 702.505 Q160.927 699.449 158.774 697.736 Q156.644 696 152.825 696 L148.797 696 L148.797 692.158 L153.01 692.158 Q156.459 692.158 158.288 690.792 Q160.116 689.403 160.116 686.81 Q160.116 684.148 158.218 682.736 Q156.343 681.301 152.825 681.301 Q150.903 681.301 148.704 681.718 Q146.505 682.135 143.866 683.014 L143.866 678.847 Q146.529 678.107 148.843 677.736 Q151.181 677.366 153.241 677.366 Q158.565 677.366 161.667 679.797 Q164.769 682.204 164.769 686.324 Q164.769 689.195 163.126 691.185 Q161.482 693.153 158.45 693.917 Z\" fill=\"#000000\" fill-rule=\"evenodd\" fill-opacity=\"1\" /><path clip-path=\"url(#clip350)\" d=\"M184.445 681.07 Q180.834 681.07 179.005 684.635 Q177.2 688.176 177.2 695.306 Q177.2 702.412 179.005 705.977 Q180.834 709.519 184.445 709.519 Q188.079 709.519 189.885 705.977 Q191.713 702.412 191.713 695.306 Q191.713 688.176 189.885 684.635 Q188.079 681.07 184.445 681.07 M184.445 677.366 Q190.255 677.366 193.311 681.972 Q196.389 686.556 196.389 695.306 Q196.389 704.033 193.311 708.639 Q190.255 713.222 184.445 713.222 Q178.635 713.222 175.556 708.639 Q172.501 704.033 172.501 695.306 Q172.501 686.556 175.556 681.972 Q178.635 677.366 184.445 677.366 Z\" fill=\"#000000\" fill-rule=\"evenodd\" fill-opacity=\"1\" /><path clip-path=\"url(#clip350)\" d=\"M114.931 464.362 L122.57 464.362 L122.57 437.997 L114.26 439.663 L114.26 435.404 L122.524 433.738 L127.2 433.738 L127.2 464.362 L134.839 464.362 L134.839 468.298 L114.931 468.298 L114.931 464.362 Z\" fill=\"#000000\" fill-rule=\"evenodd\" fill-opacity=\"1\" /><path clip-path=\"url(#clip350)\" d=\"M157.13 437.812 L145.325 456.261 L157.13 456.261 L157.13 437.812 M155.903 433.738 L161.783 433.738 L161.783 456.261 L166.714 456.261 L166.714 460.149 L161.783 460.149 L161.783 468.298 L157.13 468.298 L157.13 460.149 L141.529 460.149 L141.529 455.636 L155.903 433.738 Z\" fill=\"#000000\" fill-rule=\"evenodd\" fill-opacity=\"1\" /><path clip-path=\"url(#clip350)\" d=\"M184.445 436.816 Q180.834 436.816 179.005 440.381 Q177.2 443.923 177.2 451.052 Q177.2 458.159 179.005 461.723 Q180.834 465.265 184.445 465.265 Q188.079 465.265 189.885 461.723 Q191.713 458.159 191.713 451.052 Q191.713 443.923 189.885 440.381 Q188.079 436.816 184.445 436.816 M184.445 433.113 Q190.255 433.113 193.311 437.719 Q196.389 442.302 196.389 451.052 Q196.389 459.779 193.311 464.386 Q190.255 468.969 184.445 468.969 Q178.635 468.969 175.556 464.386 Q172.501 459.779 172.501 451.052 Q172.501 442.302 175.556 437.719 Q178.635 433.113 184.445 433.113 Z\" fill=\"#000000\" fill-rule=\"evenodd\" fill-opacity=\"1\" /><path clip-path=\"url(#clip350)\" d=\"M114.931 220.109 L122.57 220.109 L122.57 193.743 L114.26 195.41 L114.26 191.151 L122.524 189.484 L127.2 189.484 L127.2 220.109 L134.839 220.109 L134.839 224.044 L114.931 224.044 L114.931 220.109 Z\" fill=\"#000000\" fill-rule=\"evenodd\" fill-opacity=\"1\" /><path clip-path=\"url(#clip350)\" d=\"M144.329 189.484 L162.686 189.484 L162.686 193.419 L148.612 193.419 L148.612 201.891 Q149.63 201.544 150.649 201.382 Q151.667 201.197 152.686 201.197 Q158.473 201.197 161.852 204.368 Q165.232 207.539 165.232 212.956 Q165.232 218.535 161.76 221.637 Q158.288 224.715 151.968 224.715 Q149.792 224.715 147.524 224.345 Q145.279 223.975 142.871 223.234 L142.871 218.535 Q144.954 219.669 147.177 220.225 Q149.399 220.78 151.876 220.78 Q155.88 220.78 158.218 218.674 Q160.556 216.567 160.556 212.956 Q160.556 209.345 158.218 207.239 Q155.88 205.132 151.876 205.132 Q150.001 205.132 148.126 205.549 Q146.274 205.965 144.329 206.845 L144.329 189.484 Z\" fill=\"#000000\" fill-rule=\"evenodd\" fill-opacity=\"1\" /><path clip-path=\"url(#clip350)\" d=\"M184.445 192.563 Q180.834 192.563 179.005 196.128 Q177.2 199.669 177.2 206.799 Q177.2 213.905 179.005 217.47 Q180.834 221.012 184.445 221.012 Q188.079 221.012 189.885 217.47 Q191.713 213.905 191.713 206.799 Q191.713 199.669 189.885 196.128 Q188.079 192.563 184.445 192.563 M184.445 188.859 Q190.255 188.859 193.311 193.465 Q196.389 198.049 196.389 206.799 Q196.389 215.526 193.311 220.132 Q190.255 224.715 184.445 224.715 Q178.635 224.715 175.556 220.132 Q172.501 215.526 172.501 206.799 Q172.501 198.049 175.556 193.465 Q178.635 188.859 184.445 188.859 Z\" fill=\"#000000\" fill-rule=\"evenodd\" fill-opacity=\"1\" /><path clip-path=\"url(#clip350)\" d=\"M41.7242 821.755 Q42.4244 819.686 44.7161 817.745 Q47.0077 815.771 51.0181 813.798 L64.0042 807.273 L64.0042 814.18 L51.8138 820.259 Q47.0395 822.614 45.48 824.842 Q43.9204 827.039 43.9204 830.858 L43.9204 837.86 L64.0042 837.86 L64.0042 844.29 L16.4842 844.29 L16.4842 829.776 Q16.4842 821.628 19.8898 817.617 Q23.2955 813.607 30.1704 813.607 Q34.6582 813.607 37.6183 815.708 Q40.5784 817.776 41.7242 821.755 M21.7677 837.86 L38.6368 837.86 L38.6368 829.776 Q38.6368 825.129 36.5043 822.774 Q34.34 820.386 30.1704 820.386 Q26.0009 820.386 23.9002 822.774 Q21.7677 825.129 21.7677 829.776 L21.7677 837.86 Z\" fill=\"#000000\" fill-rule=\"evenodd\" fill-opacity=\"1\" /><path clip-path=\"url(#clip350)\" d=\"M44.7161 771.689 L47.5806 771.689 L47.5806 798.616 Q53.6281 798.234 56.8109 794.987 Q59.9619 791.709 59.9619 785.884 Q59.9619 782.51 59.1344 779.359 Q58.3069 776.177 56.6518 773.057 L62.1899 773.057 Q63.5267 776.208 64.227 779.519 Q64.9272 782.829 64.9272 786.234 Q64.9272 794.764 59.9619 799.762 Q54.9967 804.727 46.5303 804.727 Q37.7774 804.727 32.6531 800.016 Q27.4968 795.274 27.4968 787.253 Q27.4968 780.06 32.1438 775.89 Q36.7589 771.689 44.7161 771.689 M42.9973 777.545 Q38.1912 777.609 35.3266 780.251 Q32.4621 782.861 32.4621 787.189 Q32.4621 792.091 35.2312 795.051 Q38.0002 797.979 43.0292 798.425 L42.9973 777.545 Z\" fill=\"#000000\" fill-rule=\"evenodd\" fill-opacity=\"1\" /><path clip-path=\"url(#clip350)\" d=\"M28.3562 765.482 L28.3562 759.626 L56.1743 752.305 L28.3562 745.016 L28.3562 738.11 L56.1743 730.789 L28.3562 723.5 L28.3562 717.644 L64.0042 726.97 L64.0042 733.876 L34.7856 741.547 L64.0042 749.25 L64.0042 756.156 L28.3562 765.482 Z\" fill=\"#000000\" fill-rule=\"evenodd\" fill-opacity=\"1\" /><path clip-path=\"url(#clip350)\" d=\"M46.0847 692.563 Q46.0847 699.661 47.7079 702.398 Q49.3312 705.135 53.2461 705.135 Q56.3653 705.135 58.2114 703.098 Q60.0256 701.029 60.0256 697.496 Q60.0256 692.627 56.5881 689.698 Q53.1188 686.738 47.3897 686.738 L46.0847 686.738 L46.0847 692.563 M43.6657 680.882 L64.0042 680.882 L64.0042 686.738 L58.5933 686.738 Q61.8398 688.744 63.3994 691.735 Q64.9272 694.727 64.9272 699.056 Q64.9272 704.531 61.8716 707.777 Q58.7843 710.992 53.6281 710.992 Q47.6125 710.992 44.5569 706.981 Q41.5014 702.939 41.5014 694.95 L41.5014 686.738 L40.9285 686.738 Q36.8862 686.738 34.6901 689.412 Q32.4621 692.054 32.4621 696.86 Q32.4621 699.915 33.1941 702.812 Q33.9262 705.708 35.3903 708.382 L29.9795 708.382 Q28.7381 705.167 28.1334 702.143 Q27.4968 699.12 27.4968 696.255 Q27.4968 688.521 31.5072 684.701 Q35.5176 680.882 43.6657 680.882 Z\" fill=\"#000000\" fill-rule=\"evenodd\" fill-opacity=\"1\" /><path clip-path=\"url(#clip350)\" d=\"M33.8307 648.162 Q33.2578 649.149 33.0032 650.327 Q32.7167 651.472 32.7167 652.873 Q32.7167 657.838 35.9632 660.512 Q39.1779 663.153 45.2253 663.153 L64.0042 663.153 L64.0042 669.042 L28.3562 669.042 L28.3562 663.153 L33.8944 663.153 Q30.6479 661.307 29.0883 658.347 Q27.4968 655.387 27.4968 651.154 Q27.4968 650.549 27.5923 649.817 Q27.656 649.085 27.8151 648.194 L33.8307 648.162 Z\" fill=\"#000000\" fill-rule=\"evenodd\" fill-opacity=\"1\" /><path clip-path=\"url(#clip350)\" d=\"M33.7671 619.708 L14.479 619.708 L14.479 613.851 L64.0042 613.851 L64.0042 619.708 L58.657 619.708 Q61.8398 621.554 63.3994 624.386 Q64.9272 627.187 64.9272 631.134 Q64.9272 637.595 59.771 641.669 Q54.6147 645.711 46.212 645.711 Q37.8093 645.711 32.6531 641.669 Q27.4968 637.595 27.4968 631.134 Q27.4968 627.187 29.0564 624.386 Q30.5842 621.554 33.7671 619.708 M46.212 639.664 Q52.6732 639.664 56.3653 637.022 Q60.0256 634.349 60.0256 629.702 Q60.0256 625.055 56.3653 622.381 Q52.6732 619.708 46.212 619.708 Q39.7508 619.708 36.0905 622.381 Q32.3984 625.055 32.3984 629.702 Q32.3984 634.349 36.0905 637.022 Q39.7508 639.664 46.212 639.664 Z\" fill=\"#000000\" fill-rule=\"evenodd\" fill-opacity=\"1\" /><polyline clip-path=\"url(#clip352)\" style=\"stroke:#009af9; stroke-linecap:round; stroke-linejoin:round; stroke-width:4; stroke-opacity:1; fill:none\" points=\"\n",
       "  292.4,704.759 397.681,1372.3 502.962,896.22 608.244,937.376 713.525,964.564 818.807,975.665 924.088,1217.71 1029.37,1011.7 1134.65,945.076 1239.93,460.476 \n",
       "  1345.21,352.723 1450.49,247.131 1555.78,85.838 1661.06,118.541 1766.34,260.252 1871.62,296.695 1976.9,689.524 2082.18,851.24 2187.46,595.429 2292.75,744.238 \n",
       "  \n",
       "  \"/>\n",
       "</svg>\n"
      ]
     },
     "execution_count": 94,
     "metadata": {},
     "output_type": "execute_result"
    }
   ],
   "source": [
    "plot(iterations, rewards, xlabel=\"Iterations\", ylabel=\"Reward\", legend = false, xformatter = :scientific)"
   ]
  },
  {
   "cell_type": "code",
   "execution_count": 95,
   "id": "405bd6ad",
   "metadata": {},
   "outputs": [
    {
     "data": {
      "text/plain": [
       "\"/home/larissa/Documents/Projects/ADLR/ADLR_project/src/RL_PPO_quadcopter_3D/office_test/plots/fast/reward.svg\""
      ]
     },
     "execution_count": 95,
     "metadata": {},
     "output_type": "execute_result"
    }
   ],
   "source": [
    "savefig(fig_path * \"reward.svg\")"
   ]
  },
  {
   "cell_type": "code",
   "execution_count": 96,
   "id": "9535a7a5",
   "metadata": {},
   "outputs": [
    {
     "data": {
      "image/svg+xml": [
       "<?xml version=\"1.0\" encoding=\"utf-8\"?>\n",
       "<svg xmlns=\"http://www.w3.org/2000/svg\" xmlns:xlink=\"http://www.w3.org/1999/xlink\" width=\"600\" height=\"400\" viewBox=\"0 0 2400 1600\">\n",
       "<defs>\n",
       "  <clipPath id=\"clip430\">\n",
       "    <rect x=\"0\" y=\"0\" width=\"2400\" height=\"1600\"/>\n",
       "  </clipPath>\n",
       "</defs>\n",
       "<path clip-path=\"url(#clip430)\" d=\"\n",
       "M0 1600 L2400 1600 L2400 0 L0 0  Z\n",
       "  \" fill=\"#ffffff\" fill-rule=\"evenodd\" fill-opacity=\"1\"/>\n",
       "<defs>\n",
       "  <clipPath id=\"clip431\">\n",
       "    <rect x=\"480\" y=\"0\" width=\"1681\" height=\"1600\"/>\n",
       "  </clipPath>\n",
       "</defs>\n",
       "<path clip-path=\"url(#clip430)\" d=\"\n",
       "M249.542 1410.9 L2352.76 1410.9 L2352.76 47.2441 L249.542 47.2441  Z\n",
       "  \" fill=\"#ffffff\" fill-rule=\"evenodd\" fill-opacity=\"1\"/>\n",
       "<defs>\n",
       "  <clipPath id=\"clip432\">\n",
       "    <rect x=\"249\" y=\"47\" width=\"2104\" height=\"1365\"/>\n",
       "  </clipPath>\n",
       "</defs>\n",
       "<polyline clip-path=\"url(#clip432)\" style=\"stroke:#000000; stroke-linecap:round; stroke-linejoin:round; stroke-width:2; stroke-opacity:0.1; fill:none\" points=\"\n",
       "  726.786,1410.9 726.786,47.2441 \n",
       "  \"/>\n",
       "<polyline clip-path=\"url(#clip432)\" style=\"stroke:#000000; stroke-linecap:round; stroke-linejoin:round; stroke-width:2; stroke-opacity:0.1; fill:none\" points=\"\n",
       "  1248.93,1410.9 1248.93,47.2441 \n",
       "  \"/>\n",
       "<polyline clip-path=\"url(#clip432)\" style=\"stroke:#000000; stroke-linecap:round; stroke-linejoin:round; stroke-width:2; stroke-opacity:0.1; fill:none\" points=\"\n",
       "  1771.08,1410.9 1771.08,47.2441 \n",
       "  \"/>\n",
       "<polyline clip-path=\"url(#clip432)\" style=\"stroke:#000000; stroke-linecap:round; stroke-linejoin:round; stroke-width:2; stroke-opacity:0.1; fill:none\" points=\"\n",
       "  2293.23,1410.9 2293.23,47.2441 \n",
       "  \"/>\n",
       "<polyline clip-path=\"url(#clip430)\" style=\"stroke:#000000; stroke-linecap:round; stroke-linejoin:round; stroke-width:4; stroke-opacity:1; fill:none\" points=\"\n",
       "  249.542,1410.9 2352.76,1410.9 \n",
       "  \"/>\n",
       "<polyline clip-path=\"url(#clip430)\" style=\"stroke:#000000; stroke-linecap:round; stroke-linejoin:round; stroke-width:4; stroke-opacity:1; fill:none\" points=\"\n",
       "  726.786,1410.9 726.786,1392 \n",
       "  \"/>\n",
       "<polyline clip-path=\"url(#clip430)\" style=\"stroke:#000000; stroke-linecap:round; stroke-linejoin:round; stroke-width:4; stroke-opacity:1; fill:none\" points=\"\n",
       "  1248.93,1410.9 1248.93,1392 \n",
       "  \"/>\n",
       "<polyline clip-path=\"url(#clip430)\" style=\"stroke:#000000; stroke-linecap:round; stroke-linejoin:round; stroke-width:4; stroke-opacity:1; fill:none\" points=\"\n",
       "  1771.08,1410.9 1771.08,1392 \n",
       "  \"/>\n",
       "<polyline clip-path=\"url(#clip430)\" style=\"stroke:#000000; stroke-linecap:round; stroke-linejoin:round; stroke-width:4; stroke-opacity:1; fill:none\" points=\"\n",
       "  2293.23,1410.9 2293.23,1392 \n",
       "  \"/>\n",
       "<path clip-path=\"url(#clip430)\" d=\"M619.762 1454.4 L638.119 1454.4 L638.119 1458.33 L624.045 1458.33 L624.045 1466.8 Q625.063 1466.46 626.082 1466.29 Q627.1 1466.11 628.119 1466.11 Q633.906 1466.11 637.285 1469.28 Q640.665 1472.45 640.665 1477.87 Q640.665 1483.45 637.193 1486.55 Q633.721 1489.63 627.401 1489.63 Q625.225 1489.63 622.957 1489.26 Q620.711 1488.89 618.304 1488.15 L618.304 1483.45 Q620.387 1484.58 622.609 1485.14 Q624.832 1485.69 627.309 1485.69 Q631.313 1485.69 633.651 1483.59 Q635.989 1481.48 635.989 1477.87 Q635.989 1474.26 633.651 1472.15 Q631.313 1470.04 627.309 1470.04 Q625.434 1470.04 623.559 1470.46 Q621.707 1470.88 619.762 1471.76 L619.762 1454.4 Z\" fill=\"#000000\" fill-rule=\"evenodd\" fill-opacity=\"1\" /><path clip-path=\"url(#clip430)\" d=\"M649.878 1483.08 L654.762 1483.08 L654.762 1488.96 L649.878 1488.96 L649.878 1483.08 Z\" fill=\"#000000\" fill-rule=\"evenodd\" fill-opacity=\"1\" /><path clip-path=\"url(#clip430)\" d=\"M674.947 1457.48 Q671.336 1457.48 669.507 1461.04 Q667.702 1464.58 667.702 1471.71 Q667.702 1478.82 669.507 1482.38 Q671.336 1485.92 674.947 1485.92 Q678.581 1485.92 680.387 1482.38 Q682.216 1478.82 682.216 1471.71 Q682.216 1464.58 680.387 1461.04 Q678.581 1457.48 674.947 1457.48 M674.947 1453.77 Q680.757 1453.77 683.813 1458.38 Q686.892 1462.96 686.892 1471.71 Q686.892 1480.44 683.813 1485.04 Q680.757 1489.63 674.947 1489.63 Q669.137 1489.63 666.058 1485.04 Q663.003 1480.44 663.003 1471.71 Q663.003 1462.96 666.058 1458.38 Q669.137 1453.77 674.947 1453.77 Z\" fill=\"#000000\" fill-rule=\"evenodd\" fill-opacity=\"1\" /><path clip-path=\"url(#clip430)\" d=\"M705.109 1457.48 Q701.498 1457.48 699.669 1461.04 Q697.864 1464.58 697.864 1471.71 Q697.864 1478.82 699.669 1482.38 Q701.498 1485.92 705.109 1485.92 Q708.743 1485.92 710.549 1482.38 Q712.377 1478.82 712.377 1471.71 Q712.377 1464.58 710.549 1461.04 Q708.743 1457.48 705.109 1457.48 M705.109 1453.77 Q710.919 1453.77 713.975 1458.38 Q717.053 1462.96 717.053 1471.71 Q717.053 1480.44 713.975 1485.04 Q710.919 1489.63 705.109 1489.63 Q699.299 1489.63 696.22 1485.04 Q693.165 1480.44 693.165 1471.71 Q693.165 1462.96 696.22 1458.38 Q699.299 1453.77 705.109 1453.77 Z\" fill=\"#000000\" fill-rule=\"evenodd\" fill-opacity=\"1\" /><path clip-path=\"url(#clip430)\" d=\"M753.442 1463.49 L742.863 1474.12 L753.442 1484.7 L750.687 1487.5 L740.063 1476.87 L729.438 1487.5 L726.706 1484.7 L737.262 1474.12 L726.706 1463.49 L729.438 1460.69 L740.063 1471.32 L750.687 1460.69 L753.442 1463.49 Z\" fill=\"#000000\" fill-rule=\"evenodd\" fill-opacity=\"1\" /><path clip-path=\"url(#clip430)\" d=\"M765.803 1485.02 L773.442 1485.02 L773.442 1458.66 L765.132 1460.32 L765.132 1456.06 L773.396 1454.4 L778.072 1454.4 L778.072 1485.02 L785.71 1485.02 L785.71 1488.96 L765.803 1488.96 L765.803 1485.02 Z\" fill=\"#000000\" fill-rule=\"evenodd\" fill-opacity=\"1\" /><path clip-path=\"url(#clip430)\" d=\"M805.155 1457.48 Q801.544 1457.48 799.715 1461.04 Q797.909 1464.58 797.909 1471.71 Q797.909 1478.82 799.715 1482.38 Q801.544 1485.92 805.155 1485.92 Q808.789 1485.92 810.595 1482.38 Q812.423 1478.82 812.423 1471.71 Q812.423 1464.58 810.595 1461.04 Q808.789 1457.48 805.155 1457.48 M805.155 1453.77 Q810.965 1453.77 814.02 1458.38 Q817.099 1462.96 817.099 1471.71 Q817.099 1480.44 814.02 1485.04 Q810.965 1489.63 805.155 1489.63 Q799.345 1489.63 796.266 1485.04 Q793.21 1480.44 793.21 1471.71 Q793.21 1462.96 796.266 1458.38 Q799.345 1453.77 805.155 1453.77 Z\" fill=\"#000000\" fill-rule=\"evenodd\" fill-opacity=\"1\" /><path clip-path=\"url(#clip430)\" d=\"M818.284 1433.47 L833.199 1433.47 L833.199 1436.66 L821.763 1436.66 L821.763 1443.55 Q822.591 1443.27 823.419 1443.13 Q824.246 1442.98 825.074 1442.98 Q829.776 1442.98 832.522 1445.56 Q835.267 1448.14 835.267 1452.54 Q835.267 1457.07 832.446 1459.59 Q829.625 1462.09 824.491 1462.09 Q822.723 1462.09 820.88 1461.79 Q819.055 1461.49 817.099 1460.89 L817.099 1457.07 Q818.792 1457.99 820.597 1458.44 Q822.403 1458.89 824.415 1458.89 Q827.669 1458.89 829.569 1457.18 Q831.468 1455.47 831.468 1452.54 Q831.468 1449.6 829.569 1447.89 Q827.669 1446.18 824.415 1446.18 Q822.892 1446.18 821.369 1446.52 Q819.864 1446.86 818.284 1447.57 L818.284 1433.47 Z\" fill=\"#000000\" fill-rule=\"evenodd\" fill-opacity=\"1\" /><path clip-path=\"url(#clip430)\" d=\"M1141.29 1485.02 L1148.93 1485.02 L1148.93 1458.66 L1140.62 1460.32 L1140.62 1456.06 L1148.88 1454.4 L1153.56 1454.4 L1153.56 1485.02 L1161.2 1485.02 L1161.2 1488.96 L1141.29 1488.96 L1141.29 1485.02 Z\" fill=\"#000000\" fill-rule=\"evenodd\" fill-opacity=\"1\" /><path clip-path=\"url(#clip430)\" d=\"M1170.64 1483.08 L1175.52 1483.08 L1175.52 1488.96 L1170.64 1488.96 L1170.64 1483.08 Z\" fill=\"#000000\" fill-rule=\"evenodd\" fill-opacity=\"1\" /><path clip-path=\"url(#clip430)\" d=\"M1195.71 1457.48 Q1192.1 1457.48 1190.27 1461.04 Q1188.46 1464.58 1188.46 1471.71 Q1188.46 1478.82 1190.27 1482.38 Q1192.1 1485.92 1195.71 1485.92 Q1199.34 1485.92 1201.15 1482.38 Q1202.98 1478.82 1202.98 1471.71 Q1202.98 1464.58 1201.15 1461.04 Q1199.34 1457.48 1195.71 1457.48 M1195.71 1453.77 Q1201.52 1453.77 1204.57 1458.38 Q1207.65 1462.96 1207.65 1471.71 Q1207.65 1480.44 1204.57 1485.04 Q1201.52 1489.63 1195.71 1489.63 Q1189.9 1489.63 1186.82 1485.04 Q1183.76 1480.44 1183.76 1471.71 Q1183.76 1462.96 1186.82 1458.38 Q1189.9 1453.77 1195.71 1453.77 Z\" fill=\"#000000\" fill-rule=\"evenodd\" fill-opacity=\"1\" /><path clip-path=\"url(#clip430)\" d=\"M1225.87 1457.48 Q1222.26 1457.48 1220.43 1461.04 Q1218.63 1464.58 1218.63 1471.71 Q1218.63 1478.82 1220.43 1482.38 Q1222.26 1485.92 1225.87 1485.92 Q1229.5 1485.92 1231.31 1482.38 Q1233.14 1478.82 1233.14 1471.71 Q1233.14 1464.58 1231.31 1461.04 Q1229.5 1457.48 1225.87 1457.48 M1225.87 1453.77 Q1231.68 1453.77 1234.74 1458.38 Q1237.82 1462.96 1237.82 1471.71 Q1237.82 1480.44 1234.74 1485.04 Q1231.68 1489.63 1225.87 1489.63 Q1220.06 1489.63 1216.98 1485.04 Q1213.93 1480.44 1213.93 1471.71 Q1213.93 1462.96 1216.98 1458.38 Q1220.06 1453.77 1225.87 1453.77 Z\" fill=\"#000000\" fill-rule=\"evenodd\" fill-opacity=\"1\" /><path clip-path=\"url(#clip430)\" d=\"M1274.2 1463.49 L1263.63 1474.12 L1274.2 1484.7 L1271.45 1487.5 L1260.82 1476.87 L1250.2 1487.5 L1247.47 1484.7 L1258.02 1474.12 L1247.47 1463.49 L1250.2 1460.69 L1260.82 1471.32 L1271.45 1460.69 L1274.2 1463.49 Z\" fill=\"#000000\" fill-rule=\"evenodd\" fill-opacity=\"1\" /><path clip-path=\"url(#clip430)\" d=\"M1286.56 1485.02 L1294.2 1485.02 L1294.2 1458.66 L1285.89 1460.32 L1285.89 1456.06 L1294.16 1454.4 L1298.83 1454.4 L1298.83 1485.02 L1306.47 1485.02 L1306.47 1488.96 L1286.56 1488.96 L1286.56 1485.02 Z\" fill=\"#000000\" fill-rule=\"evenodd\" fill-opacity=\"1\" /><path clip-path=\"url(#clip430)\" d=\"M1325.92 1457.48 Q1322.31 1457.48 1320.48 1461.04 Q1318.67 1464.58 1318.67 1471.71 Q1318.67 1478.82 1320.48 1482.38 Q1322.31 1485.92 1325.92 1485.92 Q1329.55 1485.92 1331.36 1482.38 Q1333.18 1478.82 1333.18 1471.71 Q1333.18 1464.58 1331.36 1461.04 Q1329.55 1457.48 1325.92 1457.48 M1325.92 1453.77 Q1331.73 1453.77 1334.78 1458.38 Q1337.86 1462.96 1337.86 1471.71 Q1337.86 1480.44 1334.78 1485.04 Q1331.73 1489.63 1325.92 1489.63 Q1320.11 1489.63 1317.03 1485.04 Q1313.97 1480.44 1313.97 1471.71 Q1313.97 1462.96 1317.03 1458.38 Q1320.11 1453.77 1325.92 1453.77 Z\" fill=\"#000000\" fill-rule=\"evenodd\" fill-opacity=\"1\" /><path clip-path=\"url(#clip430)\" d=\"M1347.89 1445.99 Q1345.33 1445.99 1343.82 1447.74 Q1342.34 1449.49 1342.34 1452.54 Q1342.34 1455.57 1343.82 1457.33 Q1345.33 1459.08 1347.89 1459.08 Q1350.44 1459.08 1351.93 1457.33 Q1353.43 1455.57 1353.43 1452.54 Q1353.43 1449.49 1351.93 1447.74 Q1350.44 1445.99 1347.89 1445.99 M1355.43 1434.09 L1355.43 1437.55 Q1354 1436.87 1352.53 1436.51 Q1351.08 1436.16 1349.65 1436.16 Q1345.89 1436.16 1343.9 1438.69 Q1341.92 1441.23 1341.64 1446.37 Q1342.75 1444.73 1344.42 1443.87 Q1346.1 1442.98 1348.11 1442.98 Q1352.34 1442.98 1354.79 1445.56 Q1357.25 1448.12 1357.25 1452.54 Q1357.25 1456.86 1354.69 1459.48 Q1352.14 1462.09 1347.89 1462.09 Q1343.01 1462.09 1340.44 1458.37 Q1337.86 1454.62 1337.86 1447.53 Q1337.86 1440.88 1341.02 1436.93 Q1344.18 1432.96 1349.5 1432.96 Q1350.93 1432.96 1352.38 1433.24 Q1353.85 1433.52 1355.43 1434.09 Z\" fill=\"#000000\" fill-rule=\"evenodd\" fill-opacity=\"1\" /><path clip-path=\"url(#clip430)\" d=\"M1663.44 1485.02 L1671.08 1485.02 L1671.08 1458.66 L1662.76 1460.32 L1662.76 1456.06 L1671.03 1454.4 L1675.7 1454.4 L1675.7 1485.02 L1683.34 1485.02 L1683.34 1488.96 L1663.44 1488.96 L1663.44 1485.02 Z\" fill=\"#000000\" fill-rule=\"evenodd\" fill-opacity=\"1\" /><path clip-path=\"url(#clip430)\" d=\"M1692.79 1483.08 L1697.67 1483.08 L1697.67 1488.96 L1692.79 1488.96 L1692.79 1483.08 Z\" fill=\"#000000\" fill-rule=\"evenodd\" fill-opacity=\"1\" /><path clip-path=\"url(#clip430)\" d=\"M1707.9 1454.4 L1726.26 1454.4 L1726.26 1458.33 L1712.19 1458.33 L1712.19 1466.8 Q1713.2 1466.46 1714.22 1466.29 Q1715.24 1466.11 1716.26 1466.11 Q1722.05 1466.11 1725.43 1469.28 Q1728.81 1472.45 1728.81 1477.87 Q1728.81 1483.45 1725.33 1486.55 Q1721.86 1489.63 1715.54 1489.63 Q1713.37 1489.63 1711.1 1489.26 Q1708.85 1488.89 1706.45 1488.15 L1706.45 1483.45 Q1708.53 1484.58 1710.75 1485.14 Q1712.97 1485.69 1715.45 1485.69 Q1719.45 1485.69 1721.79 1483.59 Q1724.13 1481.48 1724.13 1477.87 Q1724.13 1474.26 1721.79 1472.15 Q1719.45 1470.04 1715.45 1470.04 Q1713.57 1470.04 1711.7 1470.46 Q1709.85 1470.88 1707.9 1471.76 L1707.9 1454.4 Z\" fill=\"#000000\" fill-rule=\"evenodd\" fill-opacity=\"1\" /><path clip-path=\"url(#clip430)\" d=\"M1748.02 1457.48 Q1744.41 1457.48 1742.58 1461.04 Q1740.77 1464.58 1740.77 1471.71 Q1740.77 1478.82 1742.58 1482.38 Q1744.41 1485.92 1748.02 1485.92 Q1751.65 1485.92 1753.46 1482.38 Q1755.29 1478.82 1755.29 1471.71 Q1755.29 1464.58 1753.46 1461.04 Q1751.65 1457.48 1748.02 1457.48 M1748.02 1453.77 Q1753.83 1453.77 1756.88 1458.38 Q1759.96 1462.96 1759.96 1471.71 Q1759.96 1480.44 1756.88 1485.04 Q1753.83 1489.63 1748.02 1489.63 Q1742.21 1489.63 1739.13 1485.04 Q1736.07 1480.44 1736.07 1471.71 Q1736.07 1462.96 1739.13 1458.38 Q1742.21 1453.77 1748.02 1453.77 Z\" fill=\"#000000\" fill-rule=\"evenodd\" fill-opacity=\"1\" /><path clip-path=\"url(#clip430)\" d=\"M1796.35 1463.49 L1785.77 1474.12 L1796.35 1484.7 L1793.6 1487.5 L1782.97 1476.87 L1772.35 1487.5 L1769.62 1484.7 L1780.17 1474.12 L1769.62 1463.49 L1772.35 1460.69 L1782.97 1471.32 L1793.6 1460.69 L1796.35 1463.49 Z\" fill=\"#000000\" fill-rule=\"evenodd\" fill-opacity=\"1\" /><path clip-path=\"url(#clip430)\" d=\"M1808.71 1485.02 L1816.35 1485.02 L1816.35 1458.66 L1808.04 1460.32 L1808.04 1456.06 L1816.31 1454.4 L1820.98 1454.4 L1820.98 1485.02 L1828.62 1485.02 L1828.62 1488.96 L1808.71 1488.96 L1808.71 1485.02 Z\" fill=\"#000000\" fill-rule=\"evenodd\" fill-opacity=\"1\" /><path clip-path=\"url(#clip430)\" d=\"M1848.06 1457.48 Q1844.45 1457.48 1842.63 1461.04 Q1840.82 1464.58 1840.82 1471.71 Q1840.82 1478.82 1842.63 1482.38 Q1844.45 1485.92 1848.06 1485.92 Q1851.7 1485.92 1853.5 1482.38 Q1855.33 1478.82 1855.33 1471.71 Q1855.33 1464.58 1853.5 1461.04 Q1851.7 1457.48 1848.06 1457.48 M1848.06 1453.77 Q1853.88 1453.77 1856.93 1458.38 Q1860.01 1462.96 1860.01 1471.71 Q1860.01 1480.44 1856.93 1485.04 Q1853.88 1489.63 1848.06 1489.63 Q1842.25 1489.63 1839.18 1485.04 Q1836.12 1480.44 1836.12 1471.71 Q1836.12 1462.96 1839.18 1458.38 Q1842.25 1453.77 1848.06 1453.77 Z\" fill=\"#000000\" fill-rule=\"evenodd\" fill-opacity=\"1\" /><path clip-path=\"url(#clip430)\" d=\"M1870.03 1445.99 Q1867.48 1445.99 1865.97 1447.74 Q1864.49 1449.49 1864.49 1452.54 Q1864.49 1455.57 1865.97 1457.33 Q1867.48 1459.08 1870.03 1459.08 Q1872.59 1459.08 1874.08 1457.33 Q1875.58 1455.57 1875.58 1452.54 Q1875.58 1449.49 1874.08 1447.74 Q1872.59 1445.99 1870.03 1445.99 M1877.58 1434.09 L1877.58 1437.55 Q1876.15 1436.87 1874.68 1436.51 Q1873.23 1436.16 1871.8 1436.16 Q1868.04 1436.16 1866.05 1438.69 Q1864.07 1441.23 1863.79 1446.37 Q1864.9 1444.73 1866.57 1443.87 Q1868.25 1442.98 1870.26 1442.98 Q1874.49 1442.98 1876.94 1445.56 Q1879.4 1448.12 1879.4 1452.54 Q1879.4 1456.86 1876.84 1459.48 Q1874.28 1462.09 1870.03 1462.09 Q1865.16 1462.09 1862.59 1458.37 Q1860.01 1454.62 1860.01 1447.53 Q1860.01 1440.88 1863.17 1436.93 Q1866.33 1432.96 1871.65 1432.96 Q1873.08 1432.96 1874.53 1433.24 Q1876 1433.52 1877.58 1434.09 Z\" fill=\"#000000\" fill-rule=\"evenodd\" fill-opacity=\"1\" /><path clip-path=\"url(#clip430)\" d=\"M2189.67 1485.02 L2205.99 1485.02 L2205.99 1488.96 L2184.05 1488.96 L2184.05 1485.02 Q2186.71 1482.27 2191.29 1477.64 Q2195.9 1472.98 2197.08 1471.64 Q2199.32 1469.12 2200.2 1467.38 Q2201.11 1465.62 2201.11 1463.93 Q2201.11 1461.18 2199.16 1459.44 Q2197.24 1457.71 2194.14 1457.71 Q2191.94 1457.71 2189.49 1458.47 Q2187.05 1459.23 2184.28 1460.79 L2184.28 1456.06 Q2187.1 1454.93 2189.55 1454.35 Q2192.01 1453.77 2194.05 1453.77 Q2199.42 1453.77 2202.61 1456.46 Q2205.8 1459.14 2205.8 1463.63 Q2205.8 1465.76 2204.99 1467.68 Q2204.21 1469.58 2202.1 1472.17 Q2201.52 1472.85 2198.42 1476.06 Q2195.32 1479.26 2189.67 1485.02 Z\" fill=\"#000000\" fill-rule=\"evenodd\" fill-opacity=\"1\" /><path clip-path=\"url(#clip430)\" d=\"M2215.8 1483.08 L2220.69 1483.08 L2220.69 1488.96 L2215.8 1488.96 L2215.8 1483.08 Z\" fill=\"#000000\" fill-rule=\"evenodd\" fill-opacity=\"1\" /><path clip-path=\"url(#clip430)\" d=\"M2240.87 1457.48 Q2237.26 1457.48 2235.43 1461.04 Q2233.63 1464.58 2233.63 1471.71 Q2233.63 1478.82 2235.43 1482.38 Q2237.26 1485.92 2240.87 1485.92 Q2244.51 1485.92 2246.31 1482.38 Q2248.14 1478.82 2248.14 1471.71 Q2248.14 1464.58 2246.31 1461.04 Q2244.51 1457.48 2240.87 1457.48 M2240.87 1453.77 Q2246.68 1453.77 2249.74 1458.38 Q2252.82 1462.96 2252.82 1471.71 Q2252.82 1480.44 2249.74 1485.04 Q2246.68 1489.63 2240.87 1489.63 Q2235.06 1489.63 2231.98 1485.04 Q2228.93 1480.44 2228.93 1471.71 Q2228.93 1462.96 2231.98 1458.38 Q2235.06 1453.77 2240.87 1453.77 Z\" fill=\"#000000\" fill-rule=\"evenodd\" fill-opacity=\"1\" /><path clip-path=\"url(#clip430)\" d=\"M2271.04 1457.48 Q2267.42 1457.48 2265.6 1461.04 Q2263.79 1464.58 2263.79 1471.71 Q2263.79 1478.82 2265.6 1482.38 Q2267.42 1485.92 2271.04 1485.92 Q2274.67 1485.92 2276.48 1482.38 Q2278.3 1478.82 2278.3 1471.71 Q2278.3 1464.58 2276.48 1461.04 Q2274.67 1457.48 2271.04 1457.48 M2271.04 1453.77 Q2276.85 1453.77 2279.9 1458.38 Q2282.98 1462.96 2282.98 1471.71 Q2282.98 1480.44 2279.9 1485.04 Q2276.85 1489.63 2271.04 1489.63 Q2265.23 1489.63 2262.15 1485.04 Q2259.09 1480.44 2259.09 1471.71 Q2259.09 1462.96 2262.15 1458.38 Q2265.23 1453.77 2271.04 1453.77 Z\" fill=\"#000000\" fill-rule=\"evenodd\" fill-opacity=\"1\" /><path clip-path=\"url(#clip430)\" d=\"M2319.37 1463.49 L2308.79 1474.12 L2319.37 1484.7 L2316.61 1487.5 L2305.99 1476.87 L2295.36 1487.5 L2292.63 1484.7 L2303.19 1474.12 L2292.63 1463.49 L2295.36 1460.69 L2305.99 1471.32 L2316.61 1460.69 L2319.37 1463.49 Z\" fill=\"#000000\" fill-rule=\"evenodd\" fill-opacity=\"1\" /><path clip-path=\"url(#clip430)\" d=\"M2331.73 1485.02 L2339.37 1485.02 L2339.37 1458.66 L2331.06 1460.32 L2331.06 1456.06 L2339.32 1454.4 L2344 1454.4 L2344 1485.02 L2351.64 1485.02 L2351.64 1488.96 L2331.73 1488.96 L2331.73 1485.02 Z\" fill=\"#000000\" fill-rule=\"evenodd\" fill-opacity=\"1\" /><path clip-path=\"url(#clip430)\" d=\"M2371.08 1457.48 Q2367.47 1457.48 2365.64 1461.04 Q2363.84 1464.58 2363.84 1471.71 Q2363.84 1478.82 2365.64 1482.38 Q2367.47 1485.92 2371.08 1485.92 Q2374.72 1485.92 2376.52 1482.38 Q2378.35 1478.82 2378.35 1471.71 Q2378.35 1464.58 2376.52 1461.04 Q2374.72 1457.48 2371.08 1457.48 M2371.08 1453.77 Q2376.89 1453.77 2379.95 1458.38 Q2383.03 1462.96 2383.03 1471.71 Q2383.03 1480.44 2379.95 1485.04 Q2376.89 1489.63 2371.08 1489.63 Q2365.27 1489.63 2362.19 1485.04 Q2359.14 1480.44 2359.14 1471.71 Q2359.14 1462.96 2362.19 1458.38 Q2365.27 1453.77 2371.08 1453.77 Z\" fill=\"#000000\" fill-rule=\"evenodd\" fill-opacity=\"1\" /><path clip-path=\"url(#clip430)\" d=\"M2393.05 1445.99 Q2390.49 1445.99 2388.99 1447.74 Q2387.5 1449.49 2387.5 1452.54 Q2387.5 1455.57 2388.99 1457.33 Q2390.49 1459.08 2393.05 1459.08 Q2395.61 1459.08 2397.09 1457.33 Q2398.6 1455.57 2398.6 1452.54 Q2398.6 1449.49 2397.09 1447.74 Q2395.61 1445.99 2393.05 1445.99 M2400.59 1434.09 L2400.59 1437.55 Q2399.16 1436.87 2397.7 1436.51 Q2396.25 1436.16 2394.82 1436.16 Q2391.06 1436.16 2389.06 1438.69 Q2387.09 1441.23 2386.81 1446.37 Q2387.92 1444.73 2389.59 1443.87 Q2391.26 1442.98 2393.28 1442.98 Q2397.51 1442.98 2399.95 1445.56 Q2402.42 1448.12 2402.42 1452.54 Q2402.42 1456.86 2399.86 1459.48 Q2397.3 1462.09 2393.05 1462.09 Q2388.18 1462.09 2385.6 1458.37 Q2383.03 1454.62 2383.03 1447.53 Q2383.03 1440.88 2386.19 1436.93 Q2389.35 1432.96 2394.67 1432.96 Q2396.1 1432.96 2397.55 1433.24 Q2399.01 1433.52 2400.59 1434.09 Z\" fill=\"#000000\" fill-rule=\"evenodd\" fill-opacity=\"1\" /><path clip-path=\"url(#clip430)\" d=\"M1150.71 1526.67 L1157.14 1526.67 L1157.14 1574.19 L1150.71 1574.19 L1150.71 1526.67 Z\" fill=\"#000000\" fill-rule=\"evenodd\" fill-opacity=\"1\" /><path clip-path=\"url(#clip430)\" d=\"M1175.47 1528.42 L1175.47 1538.54 L1187.54 1538.54 L1187.54 1543.09 L1175.47 1543.09 L1175.47 1562.44 Q1175.47 1566.8 1176.65 1568.04 Q1177.86 1569.28 1181.52 1569.28 L1187.54 1569.28 L1187.54 1574.19 L1181.52 1574.19 Q1174.74 1574.19 1172.16 1571.67 Q1169.59 1569.12 1169.59 1562.44 L1169.59 1543.09 L1165.29 1543.09 L1165.29 1538.54 L1169.59 1538.54 L1169.59 1528.42 L1175.47 1528.42 Z\" fill=\"#000000\" fill-rule=\"evenodd\" fill-opacity=\"1\" /><path clip-path=\"url(#clip430)\" d=\"M1225.73 1554.9 L1225.73 1557.76 L1198.8 1557.76 Q1199.19 1563.81 1202.43 1566.99 Q1205.71 1570.14 1211.54 1570.14 Q1214.91 1570.14 1218.06 1569.32 Q1221.24 1568.49 1224.36 1566.83 L1224.36 1572.37 Q1221.21 1573.71 1217.9 1574.41 Q1214.59 1575.11 1211.19 1575.11 Q1202.66 1575.11 1197.66 1570.14 Q1192.69 1565.18 1192.69 1556.71 Q1192.69 1547.96 1197.4 1542.83 Q1202.15 1537.68 1210.17 1537.68 Q1217.36 1537.68 1221.53 1542.33 Q1225.73 1546.94 1225.73 1554.9 M1219.87 1553.18 Q1219.81 1548.37 1217.17 1545.51 Q1214.56 1542.64 1210.23 1542.64 Q1205.33 1542.64 1202.37 1545.41 Q1199.44 1548.18 1199 1553.21 L1219.87 1553.18 Z\" fill=\"#000000\" fill-rule=\"evenodd\" fill-opacity=\"1\" /><path clip-path=\"url(#clip430)\" d=\"M1256 1544.01 Q1255.01 1543.44 1253.84 1543.18 Q1252.69 1542.9 1251.29 1542.9 Q1246.32 1542.9 1243.65 1546.14 Q1241.01 1549.36 1241.01 1555.41 L1241.01 1574.19 L1235.12 1574.19 L1235.12 1538.54 L1241.01 1538.54 L1241.01 1544.08 Q1242.86 1540.83 1245.82 1539.27 Q1248.78 1537.68 1253.01 1537.68 Q1253.61 1537.68 1254.35 1537.77 Q1255.08 1537.84 1255.97 1538 L1256 1544.01 Z\" fill=\"#000000\" fill-rule=\"evenodd\" fill-opacity=\"1\" /><path clip-path=\"url(#clip430)\" d=\"M1278.34 1556.27 Q1271.25 1556.27 1268.51 1557.89 Q1265.77 1559.51 1265.77 1563.43 Q1265.77 1566.55 1267.81 1568.39 Q1269.88 1570.21 1273.41 1570.21 Q1278.28 1570.21 1281.21 1566.77 Q1284.17 1563.3 1284.17 1557.57 L1284.17 1556.27 L1278.34 1556.27 M1290.02 1553.85 L1290.02 1574.19 L1284.17 1574.19 L1284.17 1568.77 Q1282.16 1572.02 1279.17 1573.58 Q1276.18 1575.11 1271.85 1575.11 Q1266.38 1575.11 1263.13 1572.05 Q1259.92 1568.97 1259.92 1563.81 Q1259.92 1557.79 1263.93 1554.74 Q1267.97 1551.68 1275.96 1551.68 L1284.17 1551.68 L1284.17 1551.11 Q1284.17 1547.07 1281.49 1544.87 Q1278.85 1542.64 1274.05 1542.64 Q1270.99 1542.64 1268.1 1543.38 Q1265.2 1544.11 1262.53 1545.57 L1262.53 1540.16 Q1265.74 1538.92 1268.76 1538.31 Q1271.79 1537.68 1274.65 1537.68 Q1282.39 1537.68 1286.21 1541.69 Q1290.02 1545.7 1290.02 1553.85 Z\" fill=\"#000000\" fill-rule=\"evenodd\" fill-opacity=\"1\" /><path clip-path=\"url(#clip430)\" d=\"M1307.88 1528.42 L1307.88 1538.54 L1319.94 1538.54 L1319.94 1543.09 L1307.88 1543.09 L1307.88 1562.44 Q1307.88 1566.8 1309.06 1568.04 Q1310.27 1569.28 1313.93 1569.28 L1319.94 1569.28 L1319.94 1574.19 L1313.93 1574.19 Q1307.15 1574.19 1304.57 1571.67 Q1301.99 1569.12 1301.99 1562.44 L1301.99 1543.09 L1297.7 1543.09 L1297.7 1538.54 L1301.99 1538.54 L1301.99 1528.42 L1307.88 1528.42 Z\" fill=\"#000000\" fill-rule=\"evenodd\" fill-opacity=\"1\" /><path clip-path=\"url(#clip430)\" d=\"M1327.65 1538.54 L1333.5 1538.54 L1333.5 1574.19 L1327.65 1574.19 L1327.65 1538.54 M1327.65 1524.66 L1333.5 1524.66 L1333.5 1532.08 L1327.65 1532.08 L1327.65 1524.66 Z\" fill=\"#000000\" fill-rule=\"evenodd\" fill-opacity=\"1\" /><path clip-path=\"url(#clip430)\" d=\"M1359.57 1542.64 Q1354.86 1542.64 1352.12 1546.34 Q1349.39 1550 1349.39 1556.39 Q1349.39 1562.79 1352.09 1566.48 Q1354.83 1570.14 1359.57 1570.14 Q1364.25 1570.14 1366.99 1566.45 Q1369.72 1562.76 1369.72 1556.39 Q1369.72 1550.06 1366.99 1546.37 Q1364.25 1542.64 1359.57 1542.64 M1359.57 1537.68 Q1367.21 1537.68 1371.57 1542.64 Q1375.93 1547.61 1375.93 1556.39 Q1375.93 1565.15 1371.57 1570.14 Q1367.21 1575.11 1359.57 1575.11 Q1351.9 1575.11 1347.54 1570.14 Q1343.21 1565.15 1343.21 1556.39 Q1343.21 1547.61 1347.54 1542.64 Q1351.9 1537.68 1359.57 1537.68 Z\" fill=\"#000000\" fill-rule=\"evenodd\" fill-opacity=\"1\" /><path clip-path=\"url(#clip430)\" d=\"M1415.27 1552.67 L1415.27 1574.19 L1409.41 1574.19 L1409.41 1552.86 Q1409.41 1547.8 1407.44 1545.29 Q1405.47 1542.77 1401.52 1542.77 Q1396.78 1542.77 1394.04 1545.79 Q1391.3 1548.82 1391.3 1554.04 L1391.3 1574.19 L1385.42 1574.19 L1385.42 1538.54 L1391.3 1538.54 L1391.3 1544.08 Q1393.4 1540.86 1396.24 1539.27 Q1399.1 1537.68 1402.83 1537.68 Q1408.97 1537.68 1412.12 1541.5 Q1415.27 1545.29 1415.27 1552.67 Z\" fill=\"#000000\" fill-rule=\"evenodd\" fill-opacity=\"1\" /><path clip-path=\"url(#clip430)\" d=\"M1449.68 1539.59 L1449.68 1545.13 Q1447.19 1543.85 1444.52 1543.22 Q1441.85 1542.58 1438.98 1542.58 Q1434.62 1542.58 1432.43 1543.92 Q1430.26 1545.25 1430.26 1547.93 Q1430.26 1549.96 1431.82 1551.14 Q1433.38 1552.29 1438.09 1553.34 L1440.1 1553.78 Q1446.33 1555.12 1448.94 1557.57 Q1451.59 1559.99 1451.59 1564.35 Q1451.59 1569.32 1447.64 1572.21 Q1443.72 1575.11 1436.85 1575.11 Q1433.99 1575.11 1430.87 1574.54 Q1427.78 1573.99 1424.34 1572.88 L1424.34 1566.83 Q1427.59 1568.52 1430.74 1569.38 Q1433.89 1570.21 1436.98 1570.21 Q1441.11 1570.21 1443.34 1568.81 Q1445.57 1567.37 1445.57 1564.8 Q1445.57 1562.41 1443.95 1561.14 Q1442.36 1559.86 1436.91 1558.68 L1434.88 1558.21 Q1429.43 1557.06 1427.01 1554.71 Q1424.6 1552.32 1424.6 1548.18 Q1424.6 1543.15 1428.16 1540.42 Q1431.73 1537.68 1438.28 1537.68 Q1441.53 1537.68 1444.39 1538.16 Q1447.26 1538.63 1449.68 1539.59 Z\" fill=\"#000000\" fill-rule=\"evenodd\" fill-opacity=\"1\" /><polyline clip-path=\"url(#clip432)\" style=\"stroke:#000000; stroke-linecap:round; stroke-linejoin:round; stroke-width:2; stroke-opacity:0.1; fill:none\" points=\"\n",
       "  249.542,1348.91 2352.76,1348.91 \n",
       "  \"/>\n",
       "<polyline clip-path=\"url(#clip432)\" style=\"stroke:#000000; stroke-linecap:round; stroke-linejoin:round; stroke-width:2; stroke-opacity:0.1; fill:none\" points=\"\n",
       "  249.542,1038.99 2352.76,1038.99 \n",
       "  \"/>\n",
       "<polyline clip-path=\"url(#clip432)\" style=\"stroke:#000000; stroke-linecap:round; stroke-linejoin:round; stroke-width:2; stroke-opacity:0.1; fill:none\" points=\"\n",
       "  249.542,729.07 2352.76,729.07 \n",
       "  \"/>\n",
       "<polyline clip-path=\"url(#clip432)\" style=\"stroke:#000000; stroke-linecap:round; stroke-linejoin:round; stroke-width:2; stroke-opacity:0.1; fill:none\" points=\"\n",
       "  249.542,419.149 2352.76,419.149 \n",
       "  \"/>\n",
       "<polyline clip-path=\"url(#clip432)\" style=\"stroke:#000000; stroke-linecap:round; stroke-linejoin:round; stroke-width:2; stroke-opacity:0.1; fill:none\" points=\"\n",
       "  249.542,109.228 2352.76,109.228 \n",
       "  \"/>\n",
       "<polyline clip-path=\"url(#clip430)\" style=\"stroke:#000000; stroke-linecap:round; stroke-linejoin:round; stroke-width:4; stroke-opacity:1; fill:none\" points=\"\n",
       "  249.542,1410.9 249.542,47.2441 \n",
       "  \"/>\n",
       "<polyline clip-path=\"url(#clip430)\" style=\"stroke:#000000; stroke-linecap:round; stroke-linejoin:round; stroke-width:4; stroke-opacity:1; fill:none\" points=\"\n",
       "  249.542,1348.91 268.44,1348.91 \n",
       "  \"/>\n",
       "<polyline clip-path=\"url(#clip430)\" style=\"stroke:#000000; stroke-linecap:round; stroke-linejoin:round; stroke-width:4; stroke-opacity:1; fill:none\" points=\"\n",
       "  249.542,1038.99 268.44,1038.99 \n",
       "  \"/>\n",
       "<polyline clip-path=\"url(#clip430)\" style=\"stroke:#000000; stroke-linecap:round; stroke-linejoin:round; stroke-width:4; stroke-opacity:1; fill:none\" points=\"\n",
       "  249.542,729.07 268.44,729.07 \n",
       "  \"/>\n",
       "<polyline clip-path=\"url(#clip430)\" style=\"stroke:#000000; stroke-linecap:round; stroke-linejoin:round; stroke-width:4; stroke-opacity:1; fill:none\" points=\"\n",
       "  249.542,419.149 268.44,419.149 \n",
       "  \"/>\n",
       "<polyline clip-path=\"url(#clip430)\" style=\"stroke:#000000; stroke-linecap:round; stroke-linejoin:round; stroke-width:4; stroke-opacity:1; fill:none\" points=\"\n",
       "  249.542,109.228 268.44,109.228 \n",
       "  \"/>\n",
       "<path clip-path=\"url(#clip430)\" d=\"M126.205 1334.71 Q122.593 1334.71 120.765 1338.28 Q118.959 1341.82 118.959 1348.95 Q118.959 1356.05 120.765 1359.62 Q122.593 1363.16 126.205 1363.16 Q129.839 1363.16 131.644 1359.62 Q133.473 1356.05 133.473 1348.95 Q133.473 1341.82 131.644 1338.28 Q129.839 1334.71 126.205 1334.71 M126.205 1331.01 Q132.015 1331.01 135.07 1335.61 Q138.149 1340.2 138.149 1348.95 Q138.149 1357.67 135.07 1362.28 Q132.015 1366.86 126.205 1366.86 Q120.394 1366.86 117.316 1362.28 Q114.26 1357.67 114.26 1348.95 Q114.26 1340.2 117.316 1335.61 Q120.394 1331.01 126.205 1331.01 Z\" fill=\"#000000\" fill-rule=\"evenodd\" fill-opacity=\"1\" /><path clip-path=\"url(#clip430)\" d=\"M146.366 1360.31 L151.251 1360.31 L151.251 1366.19 L146.366 1366.19 L146.366 1360.31 Z\" fill=\"#000000\" fill-rule=\"evenodd\" fill-opacity=\"1\" /><path clip-path=\"url(#clip430)\" d=\"M171.436 1334.71 Q167.825 1334.71 165.996 1338.28 Q164.19 1341.82 164.19 1348.95 Q164.19 1356.05 165.996 1359.62 Q167.825 1363.16 171.436 1363.16 Q175.07 1363.16 176.876 1359.62 Q178.704 1356.05 178.704 1348.95 Q178.704 1341.82 176.876 1338.28 Q175.07 1334.71 171.436 1334.71 M171.436 1331.01 Q177.246 1331.01 180.301 1335.61 Q183.38 1340.2 183.38 1348.95 Q183.38 1357.67 180.301 1362.28 Q177.246 1366.86 171.436 1366.86 Q165.626 1366.86 162.547 1362.28 Q159.491 1357.67 159.491 1348.95 Q159.491 1340.2 162.547 1335.61 Q165.626 1331.01 171.436 1331.01 Z\" fill=\"#000000\" fill-rule=\"evenodd\" fill-opacity=\"1\" /><path clip-path=\"url(#clip430)\" d=\"M201.598 1334.71 Q197.987 1334.71 196.158 1338.28 Q194.352 1341.82 194.352 1348.95 Q194.352 1356.05 196.158 1359.62 Q197.987 1363.16 201.598 1363.16 Q205.232 1363.16 207.037 1359.62 Q208.866 1356.05 208.866 1348.95 Q208.866 1341.82 207.037 1338.28 Q205.232 1334.71 201.598 1334.71 M201.598 1331.01 Q207.408 1331.01 210.463 1335.61 Q213.542 1340.2 213.542 1348.95 Q213.542 1357.67 210.463 1362.28 Q207.408 1366.86 201.598 1366.86 Q195.787 1366.86 192.709 1362.28 Q189.653 1357.67 189.653 1348.95 Q189.653 1340.2 192.709 1335.61 Q195.787 1331.01 201.598 1331.01 Z\" fill=\"#000000\" fill-rule=\"evenodd\" fill-opacity=\"1\" /><path clip-path=\"url(#clip430)\" d=\"M127.2 1024.79 Q123.589 1024.79 121.76 1028.35 Q119.955 1031.9 119.955 1039.03 Q119.955 1046.13 121.76 1049.7 Q123.589 1053.24 127.2 1053.24 Q130.834 1053.24 132.64 1049.7 Q134.468 1046.13 134.468 1039.03 Q134.468 1031.9 132.64 1028.35 Q130.834 1024.79 127.2 1024.79 M127.2 1021.09 Q133.01 1021.09 136.066 1025.69 Q139.144 1030.28 139.144 1039.03 Q139.144 1047.75 136.066 1052.36 Q133.01 1056.94 127.2 1056.94 Q121.39 1056.94 118.311 1052.36 Q115.256 1047.75 115.256 1039.03 Q115.256 1030.28 118.311 1025.69 Q121.39 1021.09 127.2 1021.09 Z\" fill=\"#000000\" fill-rule=\"evenodd\" fill-opacity=\"1\" /><path clip-path=\"url(#clip430)\" d=\"M147.362 1050.39 L152.246 1050.39 L152.246 1056.27 L147.362 1056.27 L147.362 1050.39 Z\" fill=\"#000000\" fill-rule=\"evenodd\" fill-opacity=\"1\" /><path clip-path=\"url(#clip430)\" d=\"M166.459 1052.34 L182.778 1052.34 L182.778 1056.27 L160.834 1056.27 L160.834 1052.34 Q163.496 1049.58 168.079 1044.95 Q172.686 1040.3 173.866 1038.96 Q176.112 1036.43 176.991 1034.7 Q177.894 1032.94 177.894 1031.25 Q177.894 1028.49 175.95 1026.76 Q174.028 1025.02 170.927 1025.02 Q168.727 1025.02 166.274 1025.79 Q163.843 1026.55 161.065 1028.1 L161.065 1023.38 Q163.89 1022.24 166.343 1021.67 Q168.797 1021.09 170.834 1021.09 Q176.204 1021.09 179.399 1023.77 Q182.593 1026.46 182.593 1030.95 Q182.593 1033.08 181.783 1035 Q180.996 1036.9 178.889 1039.49 Q178.311 1040.16 175.209 1043.38 Q172.107 1046.57 166.459 1052.34 Z\" fill=\"#000000\" fill-rule=\"evenodd\" fill-opacity=\"1\" /><path clip-path=\"url(#clip430)\" d=\"M192.639 1021.71 L210.996 1021.71 L210.996 1025.65 L196.922 1025.65 L196.922 1034.12 Q197.94 1033.77 198.959 1033.61 Q199.977 1033.42 200.996 1033.42 Q206.783 1033.42 210.162 1036.6 Q213.542 1039.77 213.542 1045.18 Q213.542 1050.76 210.07 1053.86 Q206.598 1056.94 200.278 1056.94 Q198.102 1056.94 195.834 1056.57 Q193.588 1056.2 191.181 1055.46 L191.181 1050.76 Q193.264 1051.9 195.487 1052.45 Q197.709 1053.01 200.186 1053.01 Q204.19 1053.01 206.528 1050.9 Q208.866 1048.79 208.866 1045.18 Q208.866 1041.57 206.528 1039.47 Q204.19 1037.36 200.186 1037.36 Q198.311 1037.36 196.436 1037.78 Q194.584 1038.19 192.639 1039.07 L192.639 1021.71 Z\" fill=\"#000000\" fill-rule=\"evenodd\" fill-opacity=\"1\" /><path clip-path=\"url(#clip430)\" d=\"M126.205 714.869 Q122.593 714.869 120.765 718.434 Q118.959 721.975 118.959 729.105 Q118.959 736.212 120.765 739.776 Q122.593 743.318 126.205 743.318 Q129.839 743.318 131.644 739.776 Q133.473 736.212 133.473 729.105 Q133.473 721.975 131.644 718.434 Q129.839 714.869 126.205 714.869 M126.205 711.165 Q132.015 711.165 135.07 715.772 Q138.149 720.355 138.149 729.105 Q138.149 737.832 135.07 742.438 Q132.015 747.022 126.205 747.022 Q120.394 747.022 117.316 742.438 Q114.26 737.832 114.26 729.105 Q114.26 720.355 117.316 715.772 Q120.394 711.165 126.205 711.165 Z\" fill=\"#000000\" fill-rule=\"evenodd\" fill-opacity=\"1\" /><path clip-path=\"url(#clip430)\" d=\"M146.366 740.471 L151.251 740.471 L151.251 746.35 L146.366 746.35 L146.366 740.471 Z\" fill=\"#000000\" fill-rule=\"evenodd\" fill-opacity=\"1\" /><path clip-path=\"url(#clip430)\" d=\"M161.482 711.79 L179.839 711.79 L179.839 715.726 L165.765 715.726 L165.765 724.198 Q166.783 723.85 167.802 723.688 Q168.82 723.503 169.839 723.503 Q175.626 723.503 179.005 726.675 Q182.385 729.846 182.385 735.262 Q182.385 740.841 178.913 743.943 Q175.44 747.022 169.121 747.022 Q166.945 747.022 164.677 746.651 Q162.431 746.281 160.024 745.54 L160.024 740.841 Q162.107 741.975 164.329 742.531 Q166.552 743.086 169.028 743.086 Q173.033 743.086 175.371 740.98 Q177.709 738.874 177.709 735.262 Q177.709 731.651 175.371 729.545 Q173.033 727.438 169.028 727.438 Q167.153 727.438 165.278 727.855 Q163.427 728.272 161.482 729.151 L161.482 711.79 Z\" fill=\"#000000\" fill-rule=\"evenodd\" fill-opacity=\"1\" /><path clip-path=\"url(#clip430)\" d=\"M201.598 714.869 Q197.987 714.869 196.158 718.434 Q194.352 721.975 194.352 729.105 Q194.352 736.212 196.158 739.776 Q197.987 743.318 201.598 743.318 Q205.232 743.318 207.037 739.776 Q208.866 736.212 208.866 729.105 Q208.866 721.975 207.037 718.434 Q205.232 714.869 201.598 714.869 M201.598 711.165 Q207.408 711.165 210.463 715.772 Q213.542 720.355 213.542 729.105 Q213.542 737.832 210.463 742.438 Q207.408 747.022 201.598 747.022 Q195.787 747.022 192.709 742.438 Q189.653 737.832 189.653 729.105 Q189.653 720.355 192.709 715.772 Q195.787 711.165 201.598 711.165 Z\" fill=\"#000000\" fill-rule=\"evenodd\" fill-opacity=\"1\" /><path clip-path=\"url(#clip430)\" d=\"M127.2 404.948 Q123.589 404.948 121.76 408.513 Q119.955 412.054 119.955 419.184 Q119.955 426.291 121.76 429.855 Q123.589 433.397 127.2 433.397 Q130.834 433.397 132.64 429.855 Q134.468 426.291 134.468 419.184 Q134.468 412.054 132.64 408.513 Q130.834 404.948 127.2 404.948 M127.2 401.244 Q133.01 401.244 136.066 405.851 Q139.144 410.434 139.144 419.184 Q139.144 427.911 136.066 432.517 Q133.01 437.101 127.2 437.101 Q121.39 437.101 118.311 432.517 Q115.256 427.911 115.256 419.184 Q115.256 410.434 118.311 405.851 Q121.39 401.244 127.2 401.244 Z\" fill=\"#000000\" fill-rule=\"evenodd\" fill-opacity=\"1\" /><path clip-path=\"url(#clip430)\" d=\"M147.362 430.55 L152.246 430.55 L152.246 436.429 L147.362 436.429 L147.362 430.55 Z\" fill=\"#000000\" fill-rule=\"evenodd\" fill-opacity=\"1\" /><path clip-path=\"url(#clip430)\" d=\"M161.251 401.869 L183.473 401.869 L183.473 403.86 L170.927 436.429 L166.042 436.429 L177.848 405.804 L161.251 405.804 L161.251 401.869 Z\" fill=\"#000000\" fill-rule=\"evenodd\" fill-opacity=\"1\" /><path clip-path=\"url(#clip430)\" d=\"M192.639 401.869 L210.996 401.869 L210.996 405.804 L196.922 405.804 L196.922 414.277 Q197.94 413.929 198.959 413.767 Q199.977 413.582 200.996 413.582 Q206.783 413.582 210.162 416.754 Q213.542 419.925 213.542 425.341 Q213.542 430.92 210.07 434.022 Q206.598 437.101 200.278 437.101 Q198.102 437.101 195.834 436.73 Q193.588 436.36 191.181 435.619 L191.181 430.92 Q193.264 432.054 195.487 432.61 Q197.709 433.165 200.186 433.165 Q204.19 433.165 206.528 431.059 Q208.866 428.953 208.866 425.341 Q208.866 421.73 206.528 419.624 Q204.19 417.517 200.186 417.517 Q198.311 417.517 196.436 417.934 Q194.584 418.351 192.639 419.23 L192.639 401.869 Z\" fill=\"#000000\" fill-rule=\"evenodd\" fill-opacity=\"1\" /><path clip-path=\"url(#clip430)\" d=\"M117.015 122.573 L124.654 122.573 L124.654 96.2075 L116.343 97.8742 L116.343 93.615 L124.607 91.9483 L129.283 91.9483 L129.283 122.573 L136.922 122.573 L136.922 126.508 L117.015 126.508 L117.015 122.573 Z\" fill=\"#000000\" fill-rule=\"evenodd\" fill-opacity=\"1\" /><path clip-path=\"url(#clip430)\" d=\"M146.366 120.629 L151.251 120.629 L151.251 126.508 L146.366 126.508 L146.366 120.629 Z\" fill=\"#000000\" fill-rule=\"evenodd\" fill-opacity=\"1\" /><path clip-path=\"url(#clip430)\" d=\"M171.436 95.027 Q167.825 95.027 165.996 98.5918 Q164.19 102.133 164.19 109.263 Q164.19 116.369 165.996 119.934 Q167.825 123.476 171.436 123.476 Q175.07 123.476 176.876 119.934 Q178.704 116.369 178.704 109.263 Q178.704 102.133 176.876 98.5918 Q175.07 95.027 171.436 95.027 M171.436 91.3233 Q177.246 91.3233 180.301 95.9298 Q183.38 100.513 183.38 109.263 Q183.38 117.99 180.301 122.596 Q177.246 127.18 171.436 127.18 Q165.626 127.18 162.547 122.596 Q159.491 117.99 159.491 109.263 Q159.491 100.513 162.547 95.9298 Q165.626 91.3233 171.436 91.3233 Z\" fill=\"#000000\" fill-rule=\"evenodd\" fill-opacity=\"1\" /><path clip-path=\"url(#clip430)\" d=\"M201.598 95.027 Q197.987 95.027 196.158 98.5918 Q194.352 102.133 194.352 109.263 Q194.352 116.369 196.158 119.934 Q197.987 123.476 201.598 123.476 Q205.232 123.476 207.037 119.934 Q208.866 116.369 208.866 109.263 Q208.866 102.133 207.037 98.5918 Q205.232 95.027 201.598 95.027 M201.598 91.3233 Q207.408 91.3233 210.463 95.9298 Q213.542 100.513 213.542 109.263 Q213.542 117.99 210.463 122.596 Q207.408 127.18 201.598 127.18 Q195.787 127.18 192.709 122.596 Q189.653 117.99 189.653 109.263 Q189.653 100.513 192.709 95.9298 Q195.787 91.3233 201.598 91.3233 Z\" fill=\"#000000\" fill-rule=\"evenodd\" fill-opacity=\"1\" /><path clip-path=\"url(#clip430)\" d=\"M18.0438 910.891 L24.314 910.891 Q22.5634 914.551 21.704 917.798 Q20.8447 921.044 20.8447 924.068 Q20.8447 929.32 22.8817 932.184 Q24.9187 935.017 28.6745 935.017 Q31.8255 935.017 33.4488 933.139 Q35.0402 931.229 36.0269 925.946 L36.8226 922.063 Q38.1912 914.869 41.6605 911.464 Q45.098 908.026 50.8908 908.026 Q57.7976 908.026 61.3624 912.673 Q64.9272 917.288 64.9272 926.232 Q64.9272 929.606 64.1633 933.425 Q63.3994 937.213 61.9035 941.287 L55.2831 941.287 Q57.4793 937.372 58.5933 933.616 Q59.7073 929.861 59.7073 926.232 Q59.7073 920.726 57.543 917.734 Q55.3786 914.742 51.3682 914.742 Q47.8671 914.742 45.8937 916.906 Q43.9204 919.039 42.9337 923.941 L42.1698 927.855 Q40.7375 935.049 37.682 938.263 Q34.6264 941.478 29.1837 941.478 Q22.8817 941.478 19.2532 937.054 Q15.6248 932.598 15.6248 924.8 Q15.6248 921.458 16.2295 917.989 Q16.8343 914.519 18.0438 910.891 Z\" fill=\"#000000\" fill-rule=\"evenodd\" fill-opacity=\"1\" /><path clip-path=\"url(#clip430)\" d=\"M49.9359 898.86 L28.3562 898.86 L28.3562 893.003 L49.7131 893.003 Q54.7739 893.003 57.3202 891.03 Q59.8346 889.056 59.8346 885.11 Q59.8346 880.367 56.8109 877.63 Q53.7872 874.861 48.5673 874.861 L28.3562 874.861 L28.3562 869.005 L64.0042 869.005 L64.0042 874.861 L58.5296 874.861 Q61.7762 876.993 63.3676 879.826 Q64.9272 882.627 64.9272 886.351 Q64.9272 892.494 61.1078 895.677 Q57.2883 898.86 49.9359 898.86 M27.4968 884.123 L27.4968 884.123 Z\" fill=\"#000000\" fill-rule=\"evenodd\" fill-opacity=\"1\" /><path clip-path=\"url(#clip430)\" d=\"M29.7248 831.288 L35.1993 831.288 Q33.8307 833.77 33.1623 836.285 Q32.4621 838.767 32.4621 841.314 Q32.4621 847.011 36.0905 850.162 Q39.6872 853.313 46.212 853.313 Q52.7369 853.313 56.3653 850.162 Q59.9619 847.011 59.9619 841.314 Q59.9619 838.767 59.2935 836.285 Q58.5933 833.77 57.2247 831.288 L62.6355 831.288 Q63.7814 833.738 64.3543 836.38 Q64.9272 838.99 64.9272 841.95 Q64.9272 850.003 59.8664 854.745 Q54.8057 859.488 46.212 859.488 Q37.491 859.488 32.4939 854.714 Q27.4968 849.907 27.4968 841.568 Q27.4968 838.863 28.0697 836.285 Q28.6108 833.707 29.7248 831.288 Z\" fill=\"#000000\" fill-rule=\"evenodd\" fill-opacity=\"1\" /><path clip-path=\"url(#clip430)\" d=\"M29.7248 795.449 L35.1993 795.449 Q33.8307 797.931 33.1623 800.446 Q32.4621 802.928 32.4621 805.475 Q32.4621 811.172 36.0905 814.323 Q39.6872 817.474 46.212 817.474 Q52.7369 817.474 56.3653 814.323 Q59.9619 811.172 59.9619 805.475 Q59.9619 802.928 59.2935 800.446 Q58.5933 797.931 57.2247 795.449 L62.6355 795.449 Q63.7814 797.9 64.3543 800.541 Q64.9272 803.151 64.9272 806.111 Q64.9272 814.164 59.8664 818.906 Q54.8057 823.649 46.212 823.649 Q37.491 823.649 32.4939 818.875 Q27.4968 814.068 27.4968 805.729 Q27.4968 803.024 28.0697 800.446 Q28.6108 797.868 29.7248 795.449 Z\" fill=\"#000000\" fill-rule=\"evenodd\" fill-opacity=\"1\" /><path clip-path=\"url(#clip430)\" d=\"M44.7161 754.772 L47.5806 754.772 L47.5806 781.699 Q53.6281 781.317 56.8109 778.07 Q59.9619 774.792 59.9619 768.967 Q59.9619 765.594 59.1344 762.443 Q58.3069 759.26 56.6518 756.141 L62.1899 756.141 Q63.5267 759.292 64.227 762.602 Q64.9272 765.912 64.9272 769.318 Q64.9272 777.848 59.9619 782.845 Q54.9967 787.81 46.5303 787.81 Q37.7774 787.81 32.6531 783.099 Q27.4968 778.357 27.4968 770.336 Q27.4968 763.143 32.1438 758.973 Q36.7589 754.772 44.7161 754.772 M42.9973 760.628 Q38.1912 760.692 35.3266 763.334 Q32.4621 765.944 32.4621 770.272 Q32.4621 775.174 35.2312 778.134 Q38.0002 781.062 43.0292 781.508 L42.9973 760.628 Z\" fill=\"#000000\" fill-rule=\"evenodd\" fill-opacity=\"1\" /><path clip-path=\"url(#clip430)\" d=\"M29.4065 722.434 L34.9447 722.434 Q33.6716 724.917 33.035 727.59 Q32.3984 730.264 32.3984 733.129 Q32.3984 737.489 33.7352 739.685 Q35.072 741.85 37.7456 741.85 Q39.7826 741.85 40.9603 740.29 Q42.1061 738.73 43.1565 734.02 L43.6021 732.015 Q44.9389 725.776 47.3897 723.166 Q49.8086 720.524 54.1691 720.524 Q59.1344 720.524 62.0308 724.471 Q64.9272 728.386 64.9272 735.261 Q64.9272 738.126 64.3543 741.245 Q63.8132 744.332 62.6992 747.77 L56.6518 747.77 Q58.3387 744.523 59.198 741.372 Q60.0256 738.221 60.0256 735.134 Q60.0256 730.996 58.6251 728.768 Q57.1929 726.54 54.6147 726.54 Q52.2276 726.54 50.9545 728.163 Q49.6813 729.755 48.5037 735.197 L48.0262 737.234 Q46.8804 742.677 44.5251 745.096 Q42.138 747.515 38.0002 747.515 Q32.9713 747.515 30.2341 743.95 Q27.4968 740.385 27.4968 733.829 Q27.4968 730.582 27.9743 727.718 Q28.4517 724.853 29.4065 722.434 Z\" fill=\"#000000\" fill-rule=\"evenodd\" fill-opacity=\"1\" /><path clip-path=\"url(#clip430)\" d=\"M29.4065 688.473 L34.9447 688.473 Q33.6716 690.956 33.035 693.629 Q32.3984 696.303 32.3984 699.167 Q32.3984 703.528 33.7352 705.724 Q35.072 707.888 37.7456 707.888 Q39.7826 707.888 40.9603 706.329 Q42.1061 704.769 43.1565 700.059 L43.6021 698.053 Q44.9389 691.815 47.3897 689.205 Q49.8086 686.563 54.1691 686.563 Q59.1344 686.563 62.0308 690.51 Q64.9272 694.425 64.9272 701.3 Q64.9272 704.165 64.3543 707.284 Q63.8132 710.371 62.6992 713.809 L56.6518 713.809 Q58.3387 710.562 59.198 707.411 Q60.0256 704.26 60.0256 701.173 Q60.0256 697.035 58.6251 694.807 Q57.1929 692.579 54.6147 692.579 Q52.2276 692.579 50.9545 694.202 Q49.6813 695.794 48.5037 701.236 L48.0262 703.273 Q46.8804 708.716 44.5251 711.135 Q42.138 713.554 38.0002 713.554 Q32.9713 713.554 30.2341 709.989 Q27.4968 706.424 27.4968 699.868 Q27.4968 696.621 27.9743 693.757 Q28.4517 690.892 29.4065 688.473 Z\" fill=\"#000000\" fill-rule=\"evenodd\" fill-opacity=\"1\" /><path clip-path=\"url(#clip430)\" d=\"M41.7242 633.728 Q42.4244 631.659 44.7161 629.718 Q47.0077 627.744 51.0181 625.771 L64.0042 619.246 L64.0042 626.153 L51.8138 632.232 Q47.0395 634.587 45.48 636.815 Q43.9204 639.012 43.9204 642.831 L43.9204 649.833 L64.0042 649.833 L64.0042 656.263 L16.4842 656.263 L16.4842 641.749 Q16.4842 633.601 19.8898 629.59 Q23.2955 625.58 30.1704 625.58 Q34.6582 625.58 37.6183 627.681 Q40.5784 629.749 41.7242 633.728 M21.7677 649.833 L38.6368 649.833 L38.6368 641.749 Q38.6368 637.102 36.5043 634.747 Q34.34 632.359 30.1704 632.359 Q26.0009 632.359 23.9002 634.747 Q21.7677 637.102 21.7677 641.749 L21.7677 649.833 Z\" fill=\"#000000\" fill-rule=\"evenodd\" fill-opacity=\"1\" /><path clip-path=\"url(#clip430)\" d=\"M46.0847 596.457 Q46.0847 603.555 47.7079 606.292 Q49.3312 609.029 53.2461 609.029 Q56.3653 609.029 58.2114 606.992 Q60.0256 604.923 60.0256 601.39 Q60.0256 596.52 56.5881 593.592 Q53.1188 590.632 47.3897 590.632 L46.0847 590.632 L46.0847 596.457 M43.6657 584.776 L64.0042 584.776 L64.0042 590.632 L58.5933 590.632 Q61.8398 592.637 63.3994 595.629 Q64.9272 598.621 64.9272 602.95 Q64.9272 608.424 61.8716 611.671 Q58.7843 614.886 53.6281 614.886 Q47.6125 614.886 44.5569 610.875 Q41.5014 606.833 41.5014 598.844 L41.5014 590.632 L40.9285 590.632 Q36.8862 590.632 34.6901 593.306 Q32.4621 595.948 32.4621 600.754 Q32.4621 603.809 33.1941 606.706 Q33.9262 609.602 35.3903 612.276 L29.9795 612.276 Q28.7381 609.061 28.1334 606.037 Q27.4968 603.013 27.4968 600.149 Q27.4968 592.415 31.5072 588.595 Q35.5176 584.776 43.6657 584.776 Z\" fill=\"#000000\" fill-rule=\"evenodd\" fill-opacity=\"1\" /><path clip-path=\"url(#clip430)\" d=\"M18.2347 566.92 L28.3562 566.92 L28.3562 554.857 L32.9077 554.857 L32.9077 566.92 L52.2594 566.92 Q56.6199 566.92 57.8613 565.742 Q59.1026 564.533 59.1026 560.872 L59.1026 554.857 L64.0042 554.857 L64.0042 560.872 Q64.0042 567.652 61.4897 570.23 Q58.9434 572.808 52.2594 572.808 L32.9077 572.808 L32.9077 577.105 L28.3562 577.105 L28.3562 572.808 L18.2347 572.808 L18.2347 566.92 Z\" fill=\"#000000\" fill-rule=\"evenodd\" fill-opacity=\"1\" /><path clip-path=\"url(#clip430)\" d=\"M44.7161 516.663 L47.5806 516.663 L47.5806 543.59 Q53.6281 543.208 56.8109 539.961 Q59.9619 536.683 59.9619 530.858 Q59.9619 527.484 59.1344 524.333 Q58.3069 521.15 56.6518 518.031 L62.1899 518.031 Q63.5267 521.182 64.227 524.492 Q64.9272 527.803 64.9272 531.208 Q64.9272 539.738 59.9619 544.735 Q54.9967 549.701 46.5303 549.701 Q37.7774 549.701 32.6531 544.99 Q27.4968 540.248 27.4968 532.227 Q27.4968 525.034 32.1438 520.864 Q36.7589 516.663 44.7161 516.663 M42.9973 522.519 Q38.1912 522.583 35.3266 525.225 Q32.4621 527.834 32.4621 532.163 Q32.4621 537.065 35.2312 540.025 Q38.0002 542.953 43.0292 543.399 L42.9973 522.519 Z\" fill=\"#000000\" fill-rule=\"evenodd\" fill-opacity=\"1\" /><polyline clip-path=\"url(#clip432)\" style=\"stroke:#009af9; stroke-linecap:round; stroke-linejoin:round; stroke-width:4; stroke-opacity:1; fill:none\" points=\"\n",
       "  309.067,109.228 413.497,109.228 517.926,150.551 622.356,109.228 726.786,109.228 831.215,150.551 935.645,109.228 1040.07,109.228 1144.5,109.228 1248.93,109.228 \n",
       "  1353.36,109.228 1457.79,109.228 1562.22,109.228 1666.65,109.228 1771.08,109.228 1875.51,109.228 1979.94,150.551 2084.37,109.228 2188.8,109.228 2293.23,150.551 \n",
       "  \n",
       "  \"/>\n",
       "</svg>\n"
      ]
     },
     "execution_count": 96,
     "metadata": {},
     "output_type": "execute_result"
    }
   ],
   "source": [
    "plot(iterations, success_rate, xlabel=\"Iterations\", ylabel=\"Success Rate\", legend = false, xformatter = :scientific, ylims=(-0.05,1.05))"
   ]
  },
  {
   "cell_type": "code",
   "execution_count": 97,
   "id": "4e57d828",
   "metadata": {},
   "outputs": [
    {
     "data": {
      "text/plain": [
       "\"/home/larissa/Documents/Projects/ADLR/ADLR_project/src/RL_PPO_quadcopter_3D/office_test/plots/fast/success_rate.svg\""
      ]
     },
     "execution_count": 97,
     "metadata": {},
     "output_type": "execute_result"
    }
   ],
   "source": [
    "savefig(fig_path * \"success_rate.svg\")"
   ]
  },
  {
   "cell_type": "code",
   "execution_count": 98,
   "id": "480d67d7",
   "metadata": {
    "scrolled": false
   },
   "outputs": [
    {
     "data": {
      "image/svg+xml": [
       "<?xml version=\"1.0\" encoding=\"utf-8\"?>\n",
       "<svg xmlns=\"http://www.w3.org/2000/svg\" xmlns:xlink=\"http://www.w3.org/1999/xlink\" width=\"600\" height=\"400\" viewBox=\"0 0 2400 1600\">\n",
       "<defs>\n",
       "  <clipPath id=\"clip510\">\n",
       "    <rect x=\"0\" y=\"0\" width=\"2400\" height=\"1600\"/>\n",
       "  </clipPath>\n",
       "</defs>\n",
       "<path clip-path=\"url(#clip510)\" d=\"\n",
       "M0 1600 L2400 1600 L2400 0 L0 0  Z\n",
       "  \" fill=\"#ffffff\" fill-rule=\"evenodd\" fill-opacity=\"1\"/>\n",
       "<defs>\n",
       "  <clipPath id=\"clip511\">\n",
       "    <rect x=\"480\" y=\"0\" width=\"1681\" height=\"1600\"/>\n",
       "  </clipPath>\n",
       "</defs>\n",
       "<path clip-path=\"url(#clip510)\" d=\"\n",
       "M219.519 1410.9 L2352.76 1410.9 L2352.76 47.2441 L219.519 47.2441  Z\n",
       "  \" fill=\"#ffffff\" fill-rule=\"evenodd\" fill-opacity=\"1\"/>\n",
       "<defs>\n",
       "  <clipPath id=\"clip512\">\n",
       "    <rect x=\"219\" y=\"47\" width=\"2134\" height=\"1365\"/>\n",
       "  </clipPath>\n",
       "</defs>\n",
       "<polyline clip-path=\"url(#clip512)\" style=\"stroke:#000000; stroke-linecap:round; stroke-linejoin:round; stroke-width:2; stroke-opacity:0.1; fill:none\" points=\"\n",
       "  703.575,1410.9 703.575,47.2441 \n",
       "  \"/>\n",
       "<polyline clip-path=\"url(#clip512)\" style=\"stroke:#000000; stroke-linecap:round; stroke-linejoin:round; stroke-width:2; stroke-opacity:0.1; fill:none\" points=\"\n",
       "  1233.18,1410.9 1233.18,47.2441 \n",
       "  \"/>\n",
       "<polyline clip-path=\"url(#clip512)\" style=\"stroke:#000000; stroke-linecap:round; stroke-linejoin:round; stroke-width:2; stroke-opacity:0.1; fill:none\" points=\"\n",
       "  1762.78,1410.9 1762.78,47.2441 \n",
       "  \"/>\n",
       "<polyline clip-path=\"url(#clip512)\" style=\"stroke:#000000; stroke-linecap:round; stroke-linejoin:round; stroke-width:2; stroke-opacity:0.1; fill:none\" points=\"\n",
       "  2292.38,1410.9 2292.38,47.2441 \n",
       "  \"/>\n",
       "<polyline clip-path=\"url(#clip510)\" style=\"stroke:#000000; stroke-linecap:round; stroke-linejoin:round; stroke-width:4; stroke-opacity:1; fill:none\" points=\"\n",
       "  219.519,1410.9 2352.76,1410.9 \n",
       "  \"/>\n",
       "<polyline clip-path=\"url(#clip510)\" style=\"stroke:#000000; stroke-linecap:round; stroke-linejoin:round; stroke-width:4; stroke-opacity:1; fill:none\" points=\"\n",
       "  703.575,1410.9 703.575,1392 \n",
       "  \"/>\n",
       "<polyline clip-path=\"url(#clip510)\" style=\"stroke:#000000; stroke-linecap:round; stroke-linejoin:round; stroke-width:4; stroke-opacity:1; fill:none\" points=\"\n",
       "  1233.18,1410.9 1233.18,1392 \n",
       "  \"/>\n",
       "<polyline clip-path=\"url(#clip510)\" style=\"stroke:#000000; stroke-linecap:round; stroke-linejoin:round; stroke-width:4; stroke-opacity:1; fill:none\" points=\"\n",
       "  1762.78,1410.9 1762.78,1392 \n",
       "  \"/>\n",
       "<polyline clip-path=\"url(#clip510)\" style=\"stroke:#000000; stroke-linecap:round; stroke-linejoin:round; stroke-width:4; stroke-opacity:1; fill:none\" points=\"\n",
       "  2292.38,1410.9 2292.38,1392 \n",
       "  \"/>\n",
       "<path clip-path=\"url(#clip510)\" d=\"M596.552 1454.4 L614.908 1454.4 L614.908 1458.33 L600.834 1458.33 L600.834 1466.8 Q601.853 1466.46 602.871 1466.29 Q603.89 1466.11 604.908 1466.11 Q610.695 1466.11 614.075 1469.28 Q617.454 1472.45 617.454 1477.87 Q617.454 1483.45 613.982 1486.55 Q610.51 1489.63 604.191 1489.63 Q602.015 1489.63 599.746 1489.26 Q597.501 1488.89 595.094 1488.15 L595.094 1483.45 Q597.177 1484.58 599.399 1485.14 Q601.621 1485.69 604.098 1485.69 Q608.103 1485.69 610.441 1483.59 Q612.779 1481.48 612.779 1477.87 Q612.779 1474.26 610.441 1472.15 Q608.103 1470.04 604.098 1470.04 Q602.223 1470.04 600.348 1470.46 Q598.496 1470.88 596.552 1471.76 L596.552 1454.4 Z\" fill=\"#000000\" fill-rule=\"evenodd\" fill-opacity=\"1\" /><path clip-path=\"url(#clip510)\" d=\"M626.667 1483.08 L631.552 1483.08 L631.552 1488.96 L626.667 1488.96 L626.667 1483.08 Z\" fill=\"#000000\" fill-rule=\"evenodd\" fill-opacity=\"1\" /><path clip-path=\"url(#clip510)\" d=\"M651.737 1457.48 Q648.126 1457.48 646.297 1461.04 Q644.491 1464.58 644.491 1471.71 Q644.491 1478.82 646.297 1482.38 Q648.126 1485.92 651.737 1485.92 Q655.371 1485.92 657.177 1482.38 Q659.005 1478.82 659.005 1471.71 Q659.005 1464.58 657.177 1461.04 Q655.371 1457.48 651.737 1457.48 M651.737 1453.77 Q657.547 1453.77 660.602 1458.38 Q663.681 1462.96 663.681 1471.71 Q663.681 1480.44 660.602 1485.04 Q657.547 1489.63 651.737 1489.63 Q645.927 1489.63 642.848 1485.04 Q639.792 1480.44 639.792 1471.71 Q639.792 1462.96 642.848 1458.38 Q645.927 1453.77 651.737 1453.77 Z\" fill=\"#000000\" fill-rule=\"evenodd\" fill-opacity=\"1\" /><path clip-path=\"url(#clip510)\" d=\"M681.899 1457.48 Q678.288 1457.48 676.459 1461.04 Q674.653 1464.58 674.653 1471.71 Q674.653 1478.82 676.459 1482.38 Q678.288 1485.92 681.899 1485.92 Q685.533 1485.92 687.338 1482.38 Q689.167 1478.82 689.167 1471.71 Q689.167 1464.58 687.338 1461.04 Q685.533 1457.48 681.899 1457.48 M681.899 1453.77 Q687.709 1453.77 690.764 1458.38 Q693.843 1462.96 693.843 1471.71 Q693.843 1480.44 690.764 1485.04 Q687.709 1489.63 681.899 1489.63 Q676.088 1489.63 673.01 1485.04 Q669.954 1480.44 669.954 1471.71 Q669.954 1462.96 673.01 1458.38 Q676.088 1453.77 681.899 1453.77 Z\" fill=\"#000000\" fill-rule=\"evenodd\" fill-opacity=\"1\" /><path clip-path=\"url(#clip510)\" d=\"M730.232 1463.49 L719.653 1474.12 L730.232 1484.7 L727.477 1487.5 L716.852 1476.87 L706.227 1487.5 L703.496 1484.7 L714.051 1474.12 L703.496 1463.49 L706.227 1460.69 L716.852 1471.32 L727.477 1460.69 L730.232 1463.49 Z\" fill=\"#000000\" fill-rule=\"evenodd\" fill-opacity=\"1\" /><path clip-path=\"url(#clip510)\" d=\"M742.593 1485.02 L750.232 1485.02 L750.232 1458.66 L741.921 1460.32 L741.921 1456.06 L750.185 1454.4 L754.861 1454.4 L754.861 1485.02 L762.5 1485.02 L762.5 1488.96 L742.593 1488.96 L742.593 1485.02 Z\" fill=\"#000000\" fill-rule=\"evenodd\" fill-opacity=\"1\" /><path clip-path=\"url(#clip510)\" d=\"M781.944 1457.48 Q778.333 1457.48 776.505 1461.04 Q774.699 1464.58 774.699 1471.71 Q774.699 1478.82 776.505 1482.38 Q778.333 1485.92 781.944 1485.92 Q785.579 1485.92 787.384 1482.38 Q789.213 1478.82 789.213 1471.71 Q789.213 1464.58 787.384 1461.04 Q785.579 1457.48 781.944 1457.48 M781.944 1453.77 Q787.755 1453.77 790.81 1458.38 Q793.889 1462.96 793.889 1471.71 Q793.889 1480.44 790.81 1485.04 Q787.755 1489.63 781.944 1489.63 Q776.134 1489.63 773.056 1485.04 Q770 1480.44 770 1471.71 Q770 1462.96 773.056 1458.38 Q776.134 1453.77 781.944 1453.77 Z\" fill=\"#000000\" fill-rule=\"evenodd\" fill-opacity=\"1\" /><path clip-path=\"url(#clip510)\" d=\"M795.074 1433.47 L809.988 1433.47 L809.988 1436.66 L798.553 1436.66 L798.553 1443.55 Q799.381 1443.27 800.208 1443.13 Q801.036 1442.98 801.863 1442.98 Q806.565 1442.98 809.311 1445.56 Q812.057 1448.14 812.057 1452.54 Q812.057 1457.07 809.236 1459.59 Q806.415 1462.09 801.28 1462.09 Q799.512 1462.09 797.669 1461.79 Q795.845 1461.49 793.889 1460.89 L793.889 1457.07 Q795.581 1457.99 797.387 1458.44 Q799.193 1458.89 801.205 1458.89 Q804.459 1458.89 806.358 1457.18 Q808.258 1455.47 808.258 1452.54 Q808.258 1449.6 806.358 1447.89 Q804.459 1446.18 801.205 1446.18 Q799.682 1446.18 798.158 1446.52 Q796.653 1446.86 795.074 1447.57 L795.074 1433.47 Z\" fill=\"#000000\" fill-rule=\"evenodd\" fill-opacity=\"1\" /><path clip-path=\"url(#clip510)\" d=\"M1125.53 1485.02 L1133.17 1485.02 L1133.17 1458.66 L1124.86 1460.32 L1124.86 1456.06 L1133.12 1454.4 L1137.8 1454.4 L1137.8 1485.02 L1145.44 1485.02 L1145.44 1488.96 L1125.53 1488.96 L1125.53 1485.02 Z\" fill=\"#000000\" fill-rule=\"evenodd\" fill-opacity=\"1\" /><path clip-path=\"url(#clip510)\" d=\"M1154.88 1483.08 L1159.77 1483.08 L1159.77 1488.96 L1154.88 1488.96 L1154.88 1483.08 Z\" fill=\"#000000\" fill-rule=\"evenodd\" fill-opacity=\"1\" /><path clip-path=\"url(#clip510)\" d=\"M1179.95 1457.48 Q1176.34 1457.48 1174.51 1461.04 Q1172.71 1464.58 1172.71 1471.71 Q1172.71 1478.82 1174.51 1482.38 Q1176.34 1485.92 1179.95 1485.92 Q1183.59 1485.92 1185.39 1482.38 Q1187.22 1478.82 1187.22 1471.71 Q1187.22 1464.58 1185.39 1461.04 Q1183.59 1457.48 1179.95 1457.48 M1179.95 1453.77 Q1185.76 1453.77 1188.82 1458.38 Q1191.9 1462.96 1191.9 1471.71 Q1191.9 1480.44 1188.82 1485.04 Q1185.76 1489.63 1179.95 1489.63 Q1174.14 1489.63 1171.06 1485.04 Q1168.01 1480.44 1168.01 1471.71 Q1168.01 1462.96 1171.06 1458.38 Q1174.14 1453.77 1179.95 1453.77 Z\" fill=\"#000000\" fill-rule=\"evenodd\" fill-opacity=\"1\" /><path clip-path=\"url(#clip510)\" d=\"M1210.11 1457.48 Q1206.5 1457.48 1204.67 1461.04 Q1202.87 1464.58 1202.87 1471.71 Q1202.87 1478.82 1204.67 1482.38 Q1206.5 1485.92 1210.11 1485.92 Q1213.75 1485.92 1215.55 1482.38 Q1217.38 1478.82 1217.38 1471.71 Q1217.38 1464.58 1215.55 1461.04 Q1213.75 1457.48 1210.11 1457.48 M1210.11 1453.77 Q1215.92 1453.77 1218.98 1458.38 Q1222.06 1462.96 1222.06 1471.71 Q1222.06 1480.44 1218.98 1485.04 Q1215.92 1489.63 1210.11 1489.63 Q1204.3 1489.63 1201.23 1485.04 Q1198.17 1480.44 1198.17 1471.71 Q1198.17 1462.96 1201.23 1458.38 Q1204.3 1453.77 1210.11 1453.77 Z\" fill=\"#000000\" fill-rule=\"evenodd\" fill-opacity=\"1\" /><path clip-path=\"url(#clip510)\" d=\"M1258.45 1463.49 L1247.87 1474.12 L1258.45 1484.7 L1255.69 1487.5 L1245.07 1476.87 L1234.44 1487.5 L1231.71 1484.7 L1242.27 1474.12 L1231.71 1463.49 L1234.44 1460.69 L1245.07 1471.32 L1255.69 1460.69 L1258.45 1463.49 Z\" fill=\"#000000\" fill-rule=\"evenodd\" fill-opacity=\"1\" /><path clip-path=\"url(#clip510)\" d=\"M1270.81 1485.02 L1278.45 1485.02 L1278.45 1458.66 L1270.14 1460.32 L1270.14 1456.06 L1278.4 1454.4 L1283.08 1454.4 L1283.08 1485.02 L1290.72 1485.02 L1290.72 1488.96 L1270.81 1488.96 L1270.81 1485.02 Z\" fill=\"#000000\" fill-rule=\"evenodd\" fill-opacity=\"1\" /><path clip-path=\"url(#clip510)\" d=\"M1310.16 1457.48 Q1306.55 1457.48 1304.72 1461.04 Q1302.91 1464.58 1302.91 1471.71 Q1302.91 1478.82 1304.72 1482.38 Q1306.55 1485.92 1310.16 1485.92 Q1313.79 1485.92 1315.6 1482.38 Q1317.43 1478.82 1317.43 1471.71 Q1317.43 1464.58 1315.6 1461.04 Q1313.79 1457.48 1310.16 1457.48 M1310.16 1453.77 Q1315.97 1453.77 1319.03 1458.38 Q1322.1 1462.96 1322.1 1471.71 Q1322.1 1480.44 1319.03 1485.04 Q1315.97 1489.63 1310.16 1489.63 Q1304.35 1489.63 1301.27 1485.04 Q1298.22 1480.44 1298.22 1471.71 Q1298.22 1462.96 1301.27 1458.38 Q1304.35 1453.77 1310.16 1453.77 Z\" fill=\"#000000\" fill-rule=\"evenodd\" fill-opacity=\"1\" /><path clip-path=\"url(#clip510)\" d=\"M1332.13 1445.99 Q1329.57 1445.99 1328.07 1447.74 Q1326.58 1449.49 1326.58 1452.54 Q1326.58 1455.57 1328.07 1457.33 Q1329.57 1459.08 1332.13 1459.08 Q1334.69 1459.08 1336.17 1457.33 Q1337.68 1455.57 1337.68 1452.54 Q1337.68 1449.49 1336.17 1447.74 Q1334.69 1445.99 1332.13 1445.99 M1339.67 1434.09 L1339.67 1437.55 Q1338.24 1436.87 1336.77 1436.51 Q1335.33 1436.16 1333.9 1436.16 Q1330.13 1436.16 1328.14 1438.69 Q1326.17 1441.23 1325.88 1446.37 Q1326.99 1444.73 1328.67 1443.87 Q1330.34 1442.98 1332.35 1442.98 Q1336.59 1442.98 1339.03 1445.56 Q1341.49 1448.12 1341.49 1452.54 Q1341.49 1456.86 1338.94 1459.48 Q1336.38 1462.09 1332.13 1462.09 Q1327.26 1462.09 1324.68 1458.37 Q1322.1 1454.62 1322.1 1447.53 Q1322.1 1440.88 1325.26 1436.93 Q1328.42 1432.96 1333.75 1432.96 Q1335.18 1432.96 1336.62 1433.24 Q1338.09 1433.52 1339.67 1434.09 Z\" fill=\"#000000\" fill-rule=\"evenodd\" fill-opacity=\"1\" /><path clip-path=\"url(#clip510)\" d=\"M1655.13 1485.02 L1662.77 1485.02 L1662.77 1458.66 L1654.46 1460.32 L1654.46 1456.06 L1662.73 1454.4 L1667.4 1454.4 L1667.4 1485.02 L1675.04 1485.02 L1675.04 1488.96 L1655.13 1488.96 L1655.13 1485.02 Z\" fill=\"#000000\" fill-rule=\"evenodd\" fill-opacity=\"1\" /><path clip-path=\"url(#clip510)\" d=\"M1684.48 1483.08 L1689.37 1483.08 L1689.37 1488.96 L1684.48 1488.96 L1684.48 1483.08 Z\" fill=\"#000000\" fill-rule=\"evenodd\" fill-opacity=\"1\" /><path clip-path=\"url(#clip510)\" d=\"M1699.6 1454.4 L1717.96 1454.4 L1717.96 1458.33 L1703.88 1458.33 L1703.88 1466.8 Q1704.9 1466.46 1705.92 1466.29 Q1706.94 1466.11 1707.96 1466.11 Q1713.74 1466.11 1717.12 1469.28 Q1720.5 1472.45 1720.5 1477.87 Q1720.5 1483.45 1717.03 1486.55 Q1713.56 1489.63 1707.24 1489.63 Q1705.06 1489.63 1702.79 1489.26 Q1700.55 1488.89 1698.14 1488.15 L1698.14 1483.45 Q1700.23 1484.58 1702.45 1485.14 Q1704.67 1485.69 1707.15 1485.69 Q1711.15 1485.69 1713.49 1483.59 Q1715.83 1481.48 1715.83 1477.87 Q1715.83 1474.26 1713.49 1472.15 Q1711.15 1470.04 1707.15 1470.04 Q1705.27 1470.04 1703.4 1470.46 Q1701.54 1470.88 1699.6 1471.76 L1699.6 1454.4 Z\" fill=\"#000000\" fill-rule=\"evenodd\" fill-opacity=\"1\" /><path clip-path=\"url(#clip510)\" d=\"M1739.72 1457.48 Q1736.1 1457.48 1734.28 1461.04 Q1732.47 1464.58 1732.47 1471.71 Q1732.47 1478.82 1734.28 1482.38 Q1736.1 1485.92 1739.72 1485.92 Q1743.35 1485.92 1745.16 1482.38 Q1746.98 1478.82 1746.98 1471.71 Q1746.98 1464.58 1745.16 1461.04 Q1743.35 1457.48 1739.72 1457.48 M1739.72 1453.77 Q1745.53 1453.77 1748.58 1458.38 Q1751.66 1462.96 1751.66 1471.71 Q1751.66 1480.44 1748.58 1485.04 Q1745.53 1489.63 1739.72 1489.63 Q1733.91 1489.63 1730.83 1485.04 Q1727.77 1480.44 1727.77 1471.71 Q1727.77 1462.96 1730.83 1458.38 Q1733.91 1453.77 1739.72 1453.77 Z\" fill=\"#000000\" fill-rule=\"evenodd\" fill-opacity=\"1\" /><path clip-path=\"url(#clip510)\" d=\"M1788.05 1463.49 L1777.47 1474.12 L1788.05 1484.7 L1785.29 1487.5 L1774.67 1476.87 L1764.04 1487.5 L1761.31 1484.7 L1771.87 1474.12 L1761.31 1463.49 L1764.04 1460.69 L1774.67 1471.32 L1785.29 1460.69 L1788.05 1463.49 Z\" fill=\"#000000\" fill-rule=\"evenodd\" fill-opacity=\"1\" /><path clip-path=\"url(#clip510)\" d=\"M1800.41 1485.02 L1808.05 1485.02 L1808.05 1458.66 L1799.74 1460.32 L1799.74 1456.06 L1808 1454.4 L1812.68 1454.4 L1812.68 1485.02 L1820.32 1485.02 L1820.32 1488.96 L1800.41 1488.96 L1800.41 1485.02 Z\" fill=\"#000000\" fill-rule=\"evenodd\" fill-opacity=\"1\" /><path clip-path=\"url(#clip510)\" d=\"M1839.76 1457.48 Q1836.15 1457.48 1834.32 1461.04 Q1832.52 1464.58 1832.52 1471.71 Q1832.52 1478.82 1834.32 1482.38 Q1836.15 1485.92 1839.76 1485.92 Q1843.4 1485.92 1845.2 1482.38 Q1847.03 1478.82 1847.03 1471.71 Q1847.03 1464.58 1845.2 1461.04 Q1843.4 1457.48 1839.76 1457.48 M1839.76 1453.77 Q1845.57 1453.77 1848.63 1458.38 Q1851.71 1462.96 1851.71 1471.71 Q1851.71 1480.44 1848.63 1485.04 Q1845.57 1489.63 1839.76 1489.63 Q1833.95 1489.63 1830.87 1485.04 Q1827.82 1480.44 1827.82 1471.71 Q1827.82 1462.96 1830.87 1458.38 Q1833.95 1453.77 1839.76 1453.77 Z\" fill=\"#000000\" fill-rule=\"evenodd\" fill-opacity=\"1\" /><path clip-path=\"url(#clip510)\" d=\"M1861.73 1445.99 Q1859.17 1445.99 1857.67 1447.74 Q1856.18 1449.49 1856.18 1452.54 Q1856.18 1455.57 1857.67 1457.33 Q1859.17 1459.08 1861.73 1459.08 Q1864.29 1459.08 1865.77 1457.33 Q1867.28 1455.57 1867.28 1452.54 Q1867.28 1449.49 1865.77 1447.74 Q1864.29 1445.99 1861.73 1445.99 M1869.27 1434.09 L1869.27 1437.55 Q1867.84 1436.87 1866.38 1436.51 Q1864.93 1436.16 1863.5 1436.16 Q1859.74 1436.16 1857.74 1438.69 Q1855.77 1441.23 1855.49 1446.37 Q1856.6 1444.73 1858.27 1443.87 Q1859.94 1442.98 1861.96 1442.98 Q1866.19 1442.98 1868.63 1445.56 Q1871.1 1448.12 1871.1 1452.54 Q1871.1 1456.86 1868.54 1459.48 Q1865.98 1462.09 1861.73 1462.09 Q1856.86 1462.09 1854.28 1458.37 Q1851.71 1454.62 1851.71 1447.53 Q1851.71 1440.88 1854.87 1436.93 Q1858.03 1432.96 1863.35 1432.96 Q1864.78 1432.96 1866.23 1433.24 Q1867.69 1433.52 1869.27 1434.09 Z\" fill=\"#000000\" fill-rule=\"evenodd\" fill-opacity=\"1\" /><path clip-path=\"url(#clip510)\" d=\"M2188.82 1485.02 L2205.14 1485.02 L2205.14 1488.96 L2183.2 1488.96 L2183.2 1485.02 Q2185.86 1482.27 2190.44 1477.64 Q2195.05 1472.98 2196.23 1471.64 Q2198.47 1469.12 2199.35 1467.38 Q2200.26 1465.62 2200.26 1463.93 Q2200.26 1461.18 2198.31 1459.44 Q2196.39 1457.71 2193.29 1457.71 Q2191.09 1457.71 2188.64 1458.47 Q2186.2 1459.23 2183.43 1460.79 L2183.43 1456.06 Q2186.25 1454.93 2188.7 1454.35 Q2191.16 1453.77 2193.2 1453.77 Q2198.57 1453.77 2201.76 1456.46 Q2204.95 1459.14 2204.95 1463.63 Q2204.95 1465.76 2204.14 1467.68 Q2203.36 1469.58 2201.25 1472.17 Q2200.67 1472.85 2197.57 1476.06 Q2194.47 1479.26 2188.82 1485.02 Z\" fill=\"#000000\" fill-rule=\"evenodd\" fill-opacity=\"1\" /><path clip-path=\"url(#clip510)\" d=\"M2214.95 1483.08 L2219.84 1483.08 L2219.84 1488.96 L2214.95 1488.96 L2214.95 1483.08 Z\" fill=\"#000000\" fill-rule=\"evenodd\" fill-opacity=\"1\" /><path clip-path=\"url(#clip510)\" d=\"M2240.02 1457.48 Q2236.41 1457.48 2234.58 1461.04 Q2232.78 1464.58 2232.78 1471.71 Q2232.78 1478.82 2234.58 1482.38 Q2236.41 1485.92 2240.02 1485.92 Q2243.66 1485.92 2245.46 1482.38 Q2247.29 1478.82 2247.29 1471.71 Q2247.29 1464.58 2245.46 1461.04 Q2243.66 1457.48 2240.02 1457.48 M2240.02 1453.77 Q2245.83 1453.77 2248.89 1458.38 Q2251.97 1462.96 2251.97 1471.71 Q2251.97 1480.44 2248.89 1485.04 Q2245.83 1489.63 2240.02 1489.63 Q2234.21 1489.63 2231.14 1485.04 Q2228.08 1480.44 2228.08 1471.71 Q2228.08 1462.96 2231.14 1458.38 Q2234.21 1453.77 2240.02 1453.77 Z\" fill=\"#000000\" fill-rule=\"evenodd\" fill-opacity=\"1\" /><path clip-path=\"url(#clip510)\" d=\"M2270.19 1457.48 Q2266.57 1457.48 2264.75 1461.04 Q2262.94 1464.58 2262.94 1471.71 Q2262.94 1478.82 2264.75 1482.38 Q2266.57 1485.92 2270.19 1485.92 Q2273.82 1485.92 2275.63 1482.38 Q2277.45 1478.82 2277.45 1471.71 Q2277.45 1464.58 2275.63 1461.04 Q2273.82 1457.48 2270.19 1457.48 M2270.19 1453.77 Q2276 1453.77 2279.05 1458.38 Q2282.13 1462.96 2282.13 1471.71 Q2282.13 1480.44 2279.05 1485.04 Q2276 1489.63 2270.19 1489.63 Q2264.38 1489.63 2261.3 1485.04 Q2258.24 1480.44 2258.24 1471.71 Q2258.24 1462.96 2261.3 1458.38 Q2264.38 1453.77 2270.19 1453.77 Z\" fill=\"#000000\" fill-rule=\"evenodd\" fill-opacity=\"1\" /><path clip-path=\"url(#clip510)\" d=\"M2318.52 1463.49 L2307.94 1474.12 L2318.52 1484.7 L2315.76 1487.5 L2305.14 1476.87 L2294.51 1487.5 L2291.78 1484.7 L2302.34 1474.12 L2291.78 1463.49 L2294.51 1460.69 L2305.14 1471.32 L2315.76 1460.69 L2318.52 1463.49 Z\" fill=\"#000000\" fill-rule=\"evenodd\" fill-opacity=\"1\" /><path clip-path=\"url(#clip510)\" d=\"M2330.88 1485.02 L2338.52 1485.02 L2338.52 1458.66 L2330.21 1460.32 L2330.21 1456.06 L2338.47 1454.4 L2343.15 1454.4 L2343.15 1485.02 L2350.79 1485.02 L2350.79 1488.96 L2330.88 1488.96 L2330.88 1485.02 Z\" fill=\"#000000\" fill-rule=\"evenodd\" fill-opacity=\"1\" /><path clip-path=\"url(#clip510)\" d=\"M2370.23 1457.48 Q2366.62 1457.48 2364.79 1461.04 Q2362.99 1464.58 2362.99 1471.71 Q2362.99 1478.82 2364.79 1482.38 Q2366.62 1485.92 2370.23 1485.92 Q2373.87 1485.92 2375.67 1482.38 Q2377.5 1478.82 2377.5 1471.71 Q2377.5 1464.58 2375.67 1461.04 Q2373.87 1457.48 2370.23 1457.48 M2370.23 1453.77 Q2376.04 1453.77 2379.1 1458.38 Q2382.18 1462.96 2382.18 1471.71 Q2382.18 1480.44 2379.1 1485.04 Q2376.04 1489.63 2370.23 1489.63 Q2364.42 1489.63 2361.34 1485.04 Q2358.29 1480.44 2358.29 1471.71 Q2358.29 1462.96 2361.34 1458.38 Q2364.42 1453.77 2370.23 1453.77 Z\" fill=\"#000000\" fill-rule=\"evenodd\" fill-opacity=\"1\" /><path clip-path=\"url(#clip510)\" d=\"M2392.2 1445.99 Q2389.64 1445.99 2388.14 1447.74 Q2386.65 1449.49 2386.65 1452.54 Q2386.65 1455.57 2388.14 1457.33 Q2389.64 1459.08 2392.2 1459.08 Q2394.76 1459.08 2396.24 1457.33 Q2397.75 1455.57 2397.75 1452.54 Q2397.75 1449.49 2396.24 1447.74 Q2394.76 1445.99 2392.2 1445.99 M2399.74 1434.09 L2399.74 1437.55 Q2398.31 1436.87 2396.85 1436.51 Q2395.4 1436.16 2393.97 1436.16 Q2390.21 1436.16 2388.21 1438.69 Q2386.24 1441.23 2385.96 1446.37 Q2387.07 1444.73 2388.74 1443.87 Q2390.41 1442.98 2392.43 1442.98 Q2396.66 1442.98 2399.1 1445.56 Q2401.57 1448.12 2401.57 1452.54 Q2401.57 1456.86 2399.01 1459.48 Q2396.45 1462.09 2392.2 1462.09 Q2387.33 1462.09 2384.75 1458.37 Q2382.18 1454.62 2382.18 1447.53 Q2382.18 1440.88 2385.34 1436.93 Q2388.5 1432.96 2393.82 1432.96 Q2395.25 1432.96 2396.7 1433.24 Q2398.16 1433.52 2399.74 1434.09 Z\" fill=\"#000000\" fill-rule=\"evenodd\" fill-opacity=\"1\" /><path clip-path=\"url(#clip510)\" d=\"M1135.7 1526.67 L1142.13 1526.67 L1142.13 1574.19 L1135.7 1574.19 L1135.7 1526.67 Z\" fill=\"#000000\" fill-rule=\"evenodd\" fill-opacity=\"1\" /><path clip-path=\"url(#clip510)\" d=\"M1160.46 1528.42 L1160.46 1538.54 L1172.53 1538.54 L1172.53 1543.09 L1160.46 1543.09 L1160.46 1562.44 Q1160.46 1566.8 1161.64 1568.04 Q1162.85 1569.28 1166.51 1569.28 L1172.53 1569.28 L1172.53 1574.19 L1166.51 1574.19 Q1159.73 1574.19 1157.15 1571.67 Q1154.57 1569.12 1154.57 1562.44 L1154.57 1543.09 L1150.28 1543.09 L1150.28 1538.54 L1154.57 1538.54 L1154.57 1528.42 L1160.46 1528.42 Z\" fill=\"#000000\" fill-rule=\"evenodd\" fill-opacity=\"1\" /><path clip-path=\"url(#clip510)\" d=\"M1210.72 1554.9 L1210.72 1557.76 L1183.79 1557.76 Q1184.17 1563.81 1187.42 1566.99 Q1190.7 1570.14 1196.52 1570.14 Q1199.9 1570.14 1203.05 1569.32 Q1206.23 1568.49 1209.35 1566.83 L1209.35 1572.37 Q1206.2 1573.71 1202.89 1574.41 Q1199.58 1575.11 1196.17 1575.11 Q1187.64 1575.11 1182.65 1570.14 Q1177.68 1565.18 1177.68 1556.71 Q1177.68 1547.96 1182.39 1542.83 Q1187.13 1537.68 1195.16 1537.68 Q1202.35 1537.68 1206.52 1542.33 Q1210.72 1546.94 1210.72 1554.9 M1204.86 1553.18 Q1204.8 1548.37 1202.16 1545.51 Q1199.55 1542.64 1195.22 1542.64 Q1190.32 1542.64 1187.36 1545.41 Q1184.43 1548.18 1183.98 1553.21 L1204.86 1553.18 Z\" fill=\"#000000\" fill-rule=\"evenodd\" fill-opacity=\"1\" /><path clip-path=\"url(#clip510)\" d=\"M1240.99 1544.01 Q1240 1543.44 1238.82 1543.18 Q1237.68 1542.9 1236.28 1542.9 Q1231.31 1542.9 1228.64 1546.14 Q1226 1549.36 1226 1555.41 L1226 1574.19 L1220.11 1574.19 L1220.11 1538.54 L1226 1538.54 L1226 1544.08 Q1227.84 1540.83 1230.8 1539.27 Q1233.76 1537.68 1238 1537.68 Q1238.6 1537.68 1239.33 1537.77 Q1240.07 1537.84 1240.96 1538 L1240.99 1544.01 Z\" fill=\"#000000\" fill-rule=\"evenodd\" fill-opacity=\"1\" /><path clip-path=\"url(#clip510)\" d=\"M1263.33 1556.27 Q1256.23 1556.27 1253.5 1557.89 Q1250.76 1559.51 1250.76 1563.43 Q1250.76 1566.55 1252.8 1568.39 Q1254.87 1570.21 1258.4 1570.21 Q1263.27 1570.21 1266.2 1566.77 Q1269.16 1563.3 1269.16 1557.57 L1269.16 1556.27 L1263.33 1556.27 M1275.01 1553.85 L1275.01 1574.19 L1269.16 1574.19 L1269.16 1568.77 Q1267.15 1572.02 1264.16 1573.58 Q1261.17 1575.11 1256.84 1575.11 Q1251.36 1575.11 1248.12 1572.05 Q1244.9 1568.97 1244.9 1563.81 Q1244.9 1557.79 1248.91 1554.74 Q1252.96 1551.68 1260.95 1551.68 L1269.16 1551.68 L1269.16 1551.11 Q1269.16 1547.07 1266.48 1544.87 Q1263.84 1542.64 1259.04 1542.64 Q1255.98 1542.64 1253.08 1543.38 Q1250.19 1544.11 1247.51 1545.57 L1247.51 1540.16 Q1250.73 1538.92 1253.75 1538.31 Q1256.78 1537.68 1259.64 1537.68 Q1267.37 1537.68 1271.19 1541.69 Q1275.01 1545.7 1275.01 1553.85 Z\" fill=\"#000000\" fill-rule=\"evenodd\" fill-opacity=\"1\" /><path clip-path=\"url(#clip510)\" d=\"M1292.87 1528.42 L1292.87 1538.54 L1304.93 1538.54 L1304.93 1543.09 L1292.87 1543.09 L1292.87 1562.44 Q1292.87 1566.8 1294.05 1568.04 Q1295.26 1569.28 1298.92 1569.28 L1304.93 1569.28 L1304.93 1574.19 L1298.92 1574.19 Q1292.14 1574.19 1289.56 1571.67 Q1286.98 1569.12 1286.98 1562.44 L1286.98 1543.09 L1282.68 1543.09 L1282.68 1538.54 L1286.98 1538.54 L1286.98 1528.42 L1292.87 1528.42 Z\" fill=\"#000000\" fill-rule=\"evenodd\" fill-opacity=\"1\" /><path clip-path=\"url(#clip510)\" d=\"M1312.63 1538.54 L1318.49 1538.54 L1318.49 1574.19 L1312.63 1574.19 L1312.63 1538.54 M1312.63 1524.66 L1318.49 1524.66 L1318.49 1532.08 L1312.63 1532.08 L1312.63 1524.66 Z\" fill=\"#000000\" fill-rule=\"evenodd\" fill-opacity=\"1\" /><path clip-path=\"url(#clip510)\" d=\"M1344.56 1542.64 Q1339.85 1542.64 1337.11 1546.34 Q1334.37 1550 1334.37 1556.39 Q1334.37 1562.79 1337.08 1566.48 Q1339.82 1570.14 1344.56 1570.14 Q1349.24 1570.14 1351.97 1566.45 Q1354.71 1562.76 1354.71 1556.39 Q1354.71 1550.06 1351.97 1546.37 Q1349.24 1542.64 1344.56 1542.64 M1344.56 1537.68 Q1352.2 1537.68 1356.56 1542.64 Q1360.92 1547.61 1360.92 1556.39 Q1360.92 1565.15 1356.56 1570.14 Q1352.2 1575.11 1344.56 1575.11 Q1336.89 1575.11 1332.53 1570.14 Q1328.2 1565.15 1328.2 1556.39 Q1328.2 1547.61 1332.53 1542.64 Q1336.89 1537.68 1344.56 1537.68 Z\" fill=\"#000000\" fill-rule=\"evenodd\" fill-opacity=\"1\" /><path clip-path=\"url(#clip510)\" d=\"M1400.26 1552.67 L1400.26 1574.19 L1394.4 1574.19 L1394.4 1552.86 Q1394.4 1547.8 1392.43 1545.29 Q1390.46 1542.77 1386.51 1542.77 Q1381.77 1542.77 1379.03 1545.79 Q1376.29 1548.82 1376.29 1554.04 L1376.29 1574.19 L1370.4 1574.19 L1370.4 1538.54 L1376.29 1538.54 L1376.29 1544.08 Q1378.39 1540.86 1381.23 1539.27 Q1384.09 1537.68 1387.81 1537.68 Q1393.96 1537.68 1397.11 1541.5 Q1400.26 1545.29 1400.26 1552.67 Z\" fill=\"#000000\" fill-rule=\"evenodd\" fill-opacity=\"1\" /><path clip-path=\"url(#clip510)\" d=\"M1434.67 1539.59 L1434.67 1545.13 Q1432.18 1543.85 1429.51 1543.22 Q1426.84 1542.58 1423.97 1542.58 Q1419.61 1542.58 1417.41 1543.92 Q1415.25 1545.25 1415.25 1547.93 Q1415.25 1549.96 1416.81 1551.14 Q1418.37 1552.29 1423.08 1553.34 L1425.08 1553.78 Q1431.32 1555.12 1433.93 1557.57 Q1436.58 1559.99 1436.58 1564.35 Q1436.58 1569.32 1432.63 1572.21 Q1428.71 1575.11 1421.84 1575.11 Q1418.97 1575.11 1415.85 1574.54 Q1412.77 1573.99 1409.33 1572.88 L1409.33 1566.83 Q1412.58 1568.52 1415.73 1569.38 Q1418.88 1570.21 1421.97 1570.21 Q1426.1 1570.21 1428.33 1568.81 Q1430.56 1567.37 1430.56 1564.8 Q1430.56 1562.41 1428.94 1561.14 Q1427.34 1559.86 1421.9 1558.68 L1419.87 1558.21 Q1414.42 1557.06 1412 1554.71 Q1409.58 1552.32 1409.58 1548.18 Q1409.58 1543.15 1413.15 1540.42 Q1416.71 1537.68 1423.27 1537.68 Q1426.52 1537.68 1429.38 1538.16 Q1432.25 1538.63 1434.67 1539.59 Z\" fill=\"#000000\" fill-rule=\"evenodd\" fill-opacity=\"1\" /><polyline clip-path=\"url(#clip512)\" style=\"stroke:#000000; stroke-linecap:round; stroke-linejoin:round; stroke-width:2; stroke-opacity:0.1; fill:none\" points=\"\n",
       "  219.519,1295.97 2352.76,1295.97 \n",
       "  \"/>\n",
       "<polyline clip-path=\"url(#clip512)\" style=\"stroke:#000000; stroke-linecap:round; stroke-linejoin:round; stroke-width:2; stroke-opacity:0.1; fill:none\" points=\"\n",
       "  219.519,1104.54 2352.76,1104.54 \n",
       "  \"/>\n",
       "<polyline clip-path=\"url(#clip512)\" style=\"stroke:#000000; stroke-linecap:round; stroke-linejoin:round; stroke-width:2; stroke-opacity:0.1; fill:none\" points=\"\n",
       "  219.519,913.104 2352.76,913.104 \n",
       "  \"/>\n",
       "<polyline clip-path=\"url(#clip512)\" style=\"stroke:#000000; stroke-linecap:round; stroke-linejoin:round; stroke-width:2; stroke-opacity:0.1; fill:none\" points=\"\n",
       "  219.519,721.672 2352.76,721.672 \n",
       "  \"/>\n",
       "<polyline clip-path=\"url(#clip512)\" style=\"stroke:#000000; stroke-linecap:round; stroke-linejoin:round; stroke-width:2; stroke-opacity:0.1; fill:none\" points=\"\n",
       "  219.519,530.241 2352.76,530.241 \n",
       "  \"/>\n",
       "<polyline clip-path=\"url(#clip512)\" style=\"stroke:#000000; stroke-linecap:round; stroke-linejoin:round; stroke-width:2; stroke-opacity:0.1; fill:none\" points=\"\n",
       "  219.519,338.809 2352.76,338.809 \n",
       "  \"/>\n",
       "<polyline clip-path=\"url(#clip512)\" style=\"stroke:#000000; stroke-linecap:round; stroke-linejoin:round; stroke-width:2; stroke-opacity:0.1; fill:none\" points=\"\n",
       "  219.519,147.378 2352.76,147.378 \n",
       "  \"/>\n",
       "<polyline clip-path=\"url(#clip510)\" style=\"stroke:#000000; stroke-linecap:round; stroke-linejoin:round; stroke-width:4; stroke-opacity:1; fill:none\" points=\"\n",
       "  219.519,1410.9 219.519,47.2441 \n",
       "  \"/>\n",
       "<polyline clip-path=\"url(#clip510)\" style=\"stroke:#000000; stroke-linecap:round; stroke-linejoin:round; stroke-width:4; stroke-opacity:1; fill:none\" points=\"\n",
       "  219.519,1295.97 238.417,1295.97 \n",
       "  \"/>\n",
       "<polyline clip-path=\"url(#clip510)\" style=\"stroke:#000000; stroke-linecap:round; stroke-linejoin:round; stroke-width:4; stroke-opacity:1; fill:none\" points=\"\n",
       "  219.519,1104.54 238.417,1104.54 \n",
       "  \"/>\n",
       "<polyline clip-path=\"url(#clip510)\" style=\"stroke:#000000; stroke-linecap:round; stroke-linejoin:round; stroke-width:4; stroke-opacity:1; fill:none\" points=\"\n",
       "  219.519,913.104 238.417,913.104 \n",
       "  \"/>\n",
       "<polyline clip-path=\"url(#clip510)\" style=\"stroke:#000000; stroke-linecap:round; stroke-linejoin:round; stroke-width:4; stroke-opacity:1; fill:none\" points=\"\n",
       "  219.519,721.672 238.417,721.672 \n",
       "  \"/>\n",
       "<polyline clip-path=\"url(#clip510)\" style=\"stroke:#000000; stroke-linecap:round; stroke-linejoin:round; stroke-width:4; stroke-opacity:1; fill:none\" points=\"\n",
       "  219.519,530.241 238.417,530.241 \n",
       "  \"/>\n",
       "<polyline clip-path=\"url(#clip510)\" style=\"stroke:#000000; stroke-linecap:round; stroke-linejoin:round; stroke-width:4; stroke-opacity:1; fill:none\" points=\"\n",
       "  219.519,338.809 238.417,338.809 \n",
       "  \"/>\n",
       "<polyline clip-path=\"url(#clip510)\" style=\"stroke:#000000; stroke-linecap:round; stroke-linejoin:round; stroke-width:4; stroke-opacity:1; fill:none\" points=\"\n",
       "  219.519,147.378 238.417,147.378 \n",
       "  \"/>\n",
       "<path clip-path=\"url(#clip510)\" d=\"M121.968 1309.31 L138.288 1309.31 L138.288 1313.25 L116.343 1313.25 L116.343 1309.31 Q119.006 1306.56 123.589 1301.93 Q128.195 1297.27 129.376 1295.93 Q131.621 1293.41 132.501 1291.67 Q133.404 1289.91 133.404 1288.22 Q133.404 1285.47 131.459 1283.73 Q129.538 1282 126.436 1282 Q124.237 1282 121.783 1282.76 Q119.353 1283.52 116.575 1285.08 L116.575 1280.35 Q119.399 1279.22 121.853 1278.64 Q124.306 1278.06 126.343 1278.06 Q131.714 1278.06 134.908 1280.75 Q138.103 1283.43 138.103 1287.92 Q138.103 1290.05 137.292 1291.97 Q136.505 1293.87 134.399 1296.46 Q133.82 1297.14 130.718 1300.35 Q127.617 1303.55 121.968 1309.31 Z\" fill=\"#000000\" fill-rule=\"evenodd\" fill-opacity=\"1\" /><path clip-path=\"url(#clip510)\" d=\"M148.103 1307.37 L152.987 1307.37 L152.987 1313.25 L148.103 1313.25 L148.103 1307.37 Z\" fill=\"#000000\" fill-rule=\"evenodd\" fill-opacity=\"1\" /><path clip-path=\"url(#clip510)\" d=\"M167.2 1309.31 L183.519 1309.31 L183.519 1313.25 L161.575 1313.25 L161.575 1309.31 Q164.237 1306.56 168.82 1301.93 Q173.427 1297.27 174.607 1295.93 Q176.852 1293.41 177.732 1291.67 Q178.635 1289.91 178.635 1288.22 Q178.635 1285.47 176.69 1283.73 Q174.769 1282 171.667 1282 Q169.468 1282 167.015 1282.76 Q164.584 1283.52 161.806 1285.08 L161.806 1280.35 Q164.63 1279.22 167.084 1278.64 Q169.538 1278.06 171.575 1278.06 Q176.945 1278.06 180.139 1280.75 Q183.334 1283.43 183.334 1287.92 Q183.334 1290.05 182.524 1291.97 Q181.737 1293.87 179.63 1296.46 Q179.051 1297.14 175.95 1300.35 Q172.848 1303.55 167.2 1309.31 Z\" fill=\"#000000\" fill-rule=\"evenodd\" fill-opacity=\"1\" /><path clip-path=\"url(#clip510)\" d=\"M121.019 1117.88 L137.339 1117.88 L137.339 1121.82 L115.394 1121.82 L115.394 1117.88 Q118.056 1115.13 122.64 1110.5 Q127.246 1105.84 128.427 1104.5 Q130.672 1101.98 131.552 1100.24 Q132.455 1098.48 132.455 1096.79 Q132.455 1094.04 130.51 1092.3 Q128.589 1090.57 125.487 1090.57 Q123.288 1090.57 120.834 1091.33 Q118.404 1092.09 115.626 1093.64 L115.626 1088.92 Q118.45 1087.79 120.904 1087.21 Q123.357 1086.63 125.394 1086.63 Q130.765 1086.63 133.959 1089.32 Q137.154 1092 137.154 1096.49 Q137.154 1098.62 136.343 1100.54 Q135.556 1102.44 133.45 1105.03 Q132.871 1105.7 129.769 1108.92 Q126.667 1112.12 121.019 1117.88 Z\" fill=\"#000000\" fill-rule=\"evenodd\" fill-opacity=\"1\" /><path clip-path=\"url(#clip510)\" d=\"M147.153 1115.94 L152.038 1115.94 L152.038 1121.82 L147.153 1121.82 L147.153 1115.94 Z\" fill=\"#000000\" fill-rule=\"evenodd\" fill-opacity=\"1\" /><path clip-path=\"url(#clip510)\" d=\"M176.389 1103.18 Q179.746 1103.9 181.621 1106.17 Q183.519 1108.44 183.519 1111.77 Q183.519 1116.88 180.001 1119.69 Q176.482 1122.49 170.001 1122.49 Q167.825 1122.49 165.51 1122.05 Q163.218 1121.63 160.765 1120.77 L160.765 1116.26 Q162.709 1117.39 165.024 1117.97 Q167.339 1118.55 169.862 1118.55 Q174.26 1118.55 176.551 1116.82 Q178.866 1115.08 178.866 1111.77 Q178.866 1108.71 176.714 1107 Q174.584 1105.26 170.764 1105.26 L166.737 1105.26 L166.737 1101.42 L170.95 1101.42 Q174.399 1101.42 176.227 1100.06 Q178.056 1098.67 178.056 1096.07 Q178.056 1093.41 176.158 1092 Q174.283 1090.57 170.764 1090.57 Q168.843 1090.57 166.644 1090.98 Q164.445 1091.4 161.806 1092.28 L161.806 1088.11 Q164.468 1087.37 166.783 1087 Q169.121 1086.63 171.181 1086.63 Q176.505 1086.63 179.607 1089.06 Q182.709 1091.47 182.709 1095.59 Q182.709 1098.46 181.065 1100.45 Q179.422 1102.42 176.389 1103.18 Z\" fill=\"#000000\" fill-rule=\"evenodd\" fill-opacity=\"1\" /><path clip-path=\"url(#clip510)\" d=\"M119.885 926.449 L136.204 926.449 L136.204 930.384 L114.26 930.384 L114.26 926.449 Q116.922 923.694 121.505 919.064 Q126.112 914.412 127.292 913.069 Q129.538 910.546 130.417 908.81 Q131.32 907.051 131.32 905.361 Q131.32 902.606 129.376 900.87 Q127.455 899.134 124.353 899.134 Q122.154 899.134 119.7 899.898 Q117.269 900.662 114.492 902.213 L114.492 897.49 Q117.316 896.356 119.769 895.777 Q122.223 895.199 124.26 895.199 Q129.63 895.199 132.825 897.884 Q136.019 900.569 136.019 905.06 Q136.019 907.189 135.209 909.111 Q134.422 911.009 132.316 913.601 Q131.737 914.273 128.635 917.49 Q125.533 920.685 119.885 926.449 Z\" fill=\"#000000\" fill-rule=\"evenodd\" fill-opacity=\"1\" /><path clip-path=\"url(#clip510)\" d=\"M146.019 924.504 L150.903 924.504 L150.903 930.384 L146.019 930.384 L146.019 924.504 Z\" fill=\"#000000\" fill-rule=\"evenodd\" fill-opacity=\"1\" /><path clip-path=\"url(#clip510)\" d=\"M173.936 899.898 L162.13 918.347 L173.936 918.347 L173.936 899.898 M172.709 895.824 L178.589 895.824 L178.589 918.347 L183.519 918.347 L183.519 922.236 L178.589 922.236 L178.589 930.384 L173.936 930.384 L173.936 922.236 L158.334 922.236 L158.334 917.722 L172.709 895.824 Z\" fill=\"#000000\" fill-rule=\"evenodd\" fill-opacity=\"1\" /><path clip-path=\"url(#clip510)\" d=\"M121.367 735.017 L137.686 735.017 L137.686 738.952 L115.742 738.952 L115.742 735.017 Q118.404 732.262 122.987 727.633 Q127.593 722.98 128.774 721.637 Q131.019 719.114 131.899 717.378 Q132.802 715.619 132.802 713.929 Q132.802 711.175 130.857 709.438 Q128.936 707.702 125.834 707.702 Q123.635 707.702 121.181 708.466 Q118.751 709.23 115.973 710.781 L115.973 706.059 Q118.797 704.925 121.251 704.346 Q123.705 703.767 125.742 703.767 Q131.112 703.767 134.306 706.452 Q137.501 709.138 137.501 713.628 Q137.501 715.758 136.691 717.679 Q135.904 719.577 133.797 722.17 Q133.218 722.841 130.117 726.059 Q127.015 729.253 121.367 735.017 Z\" fill=\"#000000\" fill-rule=\"evenodd\" fill-opacity=\"1\" /><path clip-path=\"url(#clip510)\" d=\"M147.501 733.073 L152.385 733.073 L152.385 738.952 L147.501 738.952 L147.501 733.073 Z\" fill=\"#000000\" fill-rule=\"evenodd\" fill-opacity=\"1\" /><path clip-path=\"url(#clip510)\" d=\"M162.616 704.392 L180.973 704.392 L180.973 708.327 L166.899 708.327 L166.899 716.8 Q167.917 716.452 168.936 716.29 Q169.954 716.105 170.973 716.105 Q176.76 716.105 180.139 719.276 Q183.519 722.448 183.519 727.864 Q183.519 733.443 180.047 736.545 Q176.575 739.623 170.255 739.623 Q168.079 739.623 165.811 739.253 Q163.565 738.883 161.158 738.142 L161.158 733.443 Q163.241 734.577 165.464 735.133 Q167.686 735.688 170.163 735.688 Q174.167 735.688 176.505 733.582 Q178.843 731.475 178.843 727.864 Q178.843 724.253 176.505 722.147 Q174.167 720.04 170.163 720.04 Q168.288 720.04 166.413 720.457 Q164.561 720.874 162.616 721.753 L162.616 704.392 Z\" fill=\"#000000\" fill-rule=\"evenodd\" fill-opacity=\"1\" /><path clip-path=\"url(#clip510)\" d=\"M120.209 543.586 L136.529 543.586 L136.529 547.521 L114.584 547.521 L114.584 543.586 Q117.246 540.831 121.83 536.201 Q126.436 531.549 127.617 530.206 Q129.862 527.683 130.742 525.947 Q131.644 524.187 131.644 522.498 Q131.644 519.743 129.7 518.007 Q127.779 516.271 124.677 516.271 Q122.478 516.271 120.024 517.035 Q117.593 517.799 114.816 519.35 L114.816 514.627 Q117.64 513.493 120.093 512.914 Q122.547 512.336 124.584 512.336 Q129.955 512.336 133.149 515.021 Q136.343 517.706 136.343 522.197 Q136.343 524.326 135.533 526.248 Q134.746 528.146 132.64 530.738 Q132.061 531.41 128.959 534.627 Q125.857 537.822 120.209 543.586 Z\" fill=\"#000000\" fill-rule=\"evenodd\" fill-opacity=\"1\" /><path clip-path=\"url(#clip510)\" d=\"M146.343 541.641 L151.228 541.641 L151.228 547.521 L146.343 547.521 L146.343 541.641 Z\" fill=\"#000000\" fill-rule=\"evenodd\" fill-opacity=\"1\" /><path clip-path=\"url(#clip510)\" d=\"M171.991 528.377 Q168.843 528.377 166.991 530.53 Q165.163 532.683 165.163 536.433 Q165.163 540.16 166.991 542.336 Q168.843 544.488 171.991 544.488 Q175.139 544.488 176.968 542.336 Q178.82 540.16 178.82 536.433 Q178.82 532.683 176.968 530.53 Q175.139 528.377 171.991 528.377 M181.274 513.725 L181.274 517.984 Q179.514 517.15 177.709 516.711 Q175.926 516.271 174.167 516.271 Q169.538 516.271 167.084 519.396 Q164.653 522.521 164.306 528.84 Q165.672 526.826 167.732 525.762 Q169.792 524.674 172.269 524.674 Q177.477 524.674 180.487 527.845 Q183.519 530.993 183.519 536.433 Q183.519 541.757 180.371 544.974 Q177.223 548.192 171.991 548.192 Q165.996 548.192 162.825 543.609 Q159.653 539.002 159.653 530.275 Q159.653 522.081 163.542 517.22 Q167.431 512.336 173.982 512.336 Q175.741 512.336 177.524 512.683 Q179.329 513.03 181.274 513.725 Z\" fill=\"#000000\" fill-rule=\"evenodd\" fill-opacity=\"1\" /><path clip-path=\"url(#clip510)\" d=\"M121.274 352.154 L137.593 352.154 L137.593 356.089 L115.649 356.089 L115.649 352.154 Q118.311 349.399 122.894 344.77 Q127.501 340.117 128.681 338.774 Q130.927 336.251 131.806 334.515 Q132.709 332.756 132.709 331.066 Q132.709 328.312 130.765 326.575 Q128.843 324.839 125.742 324.839 Q123.543 324.839 121.089 325.603 Q118.658 326.367 115.881 327.918 L115.881 323.196 Q118.705 322.062 121.158 321.483 Q123.612 320.904 125.649 320.904 Q131.019 320.904 134.214 323.589 Q137.408 326.274 137.408 330.765 Q137.408 332.895 136.598 334.816 Q135.811 336.714 133.704 339.307 Q133.126 339.978 130.024 343.196 Q126.922 346.39 121.274 352.154 Z\" fill=\"#000000\" fill-rule=\"evenodd\" fill-opacity=\"1\" /><path clip-path=\"url(#clip510)\" d=\"M147.408 350.21 L152.292 350.21 L152.292 356.089 L147.408 356.089 L147.408 350.21 Z\" fill=\"#000000\" fill-rule=\"evenodd\" fill-opacity=\"1\" /><path clip-path=\"url(#clip510)\" d=\"M161.297 321.529 L183.519 321.529 L183.519 323.52 L170.973 356.089 L166.089 356.089 L177.894 325.464 L161.297 325.464 L161.297 321.529 Z\" fill=\"#000000\" fill-rule=\"evenodd\" fill-opacity=\"1\" /><path clip-path=\"url(#clip510)\" d=\"M120.464 160.722 L136.783 160.722 L136.783 164.658 L114.839 164.658 L114.839 160.722 Q117.501 157.968 122.084 153.338 Q126.691 148.685 127.871 147.343 Q130.117 144.82 130.996 143.084 Q131.899 141.324 131.899 139.635 Q131.899 136.88 129.955 135.144 Q128.033 133.408 124.931 133.408 Q122.732 133.408 120.279 134.172 Q117.848 134.936 115.07 136.486 L115.07 131.764 Q117.894 130.63 120.348 130.051 Q122.802 129.473 124.839 129.473 Q130.209 129.473 133.404 132.158 Q136.598 134.843 136.598 139.334 Q136.598 141.463 135.788 143.385 Q135.001 145.283 132.894 147.875 Q132.316 148.547 129.214 151.764 Q126.112 154.959 120.464 160.722 Z\" fill=\"#000000\" fill-rule=\"evenodd\" fill-opacity=\"1\" /><path clip-path=\"url(#clip510)\" d=\"M146.598 158.778 L151.482 158.778 L151.482 164.658 L146.598 164.658 L146.598 158.778 Z\" fill=\"#000000\" fill-rule=\"evenodd\" fill-opacity=\"1\" /><path clip-path=\"url(#clip510)\" d=\"M171.667 148.246 Q168.334 148.246 166.413 150.028 Q164.515 151.81 164.515 154.935 Q164.515 158.06 166.413 159.843 Q168.334 161.625 171.667 161.625 Q175.001 161.625 176.922 159.843 Q178.843 158.037 178.843 154.935 Q178.843 151.81 176.922 150.028 Q175.024 148.246 171.667 148.246 M166.991 146.255 Q163.982 145.514 162.292 143.454 Q160.626 141.394 160.626 138.431 Q160.626 134.287 163.565 131.88 Q166.528 129.473 171.667 129.473 Q176.829 129.473 179.769 131.88 Q182.709 134.287 182.709 138.431 Q182.709 141.394 181.019 143.454 Q179.352 145.514 176.366 146.255 Q179.746 147.042 181.621 149.334 Q183.519 151.625 183.519 154.935 Q183.519 159.959 180.44 162.644 Q177.385 165.329 171.667 165.329 Q165.95 165.329 162.871 162.644 Q159.815 159.959 159.815 154.935 Q159.815 151.625 161.714 149.334 Q163.612 147.042 166.991 146.255 M165.278 138.871 Q165.278 141.556 166.945 143.061 Q168.635 144.565 171.667 144.565 Q174.677 144.565 176.366 143.061 Q178.079 141.556 178.079 138.871 Q178.079 136.186 176.366 134.681 Q174.677 133.176 171.667 133.176 Q168.635 133.176 166.945 134.681 Q165.278 136.186 165.278 138.871 Z\" fill=\"#000000\" fill-rule=\"evenodd\" fill-opacity=\"1\" /><path clip-path=\"url(#clip510)\" d=\"M22.818 978.129 L46.4666 986.85 L46.4666 969.376 L22.818 978.129 M16.4842 981.757 L16.4842 974.468 L64.0042 956.358 L64.0042 963.042 L51.8138 967.371 L51.8138 988.791 L64.0042 993.12 L64.0042 999.899 L16.4842 981.757 Z\" fill=\"#000000\" fill-rule=\"evenodd\" fill-opacity=\"1\" /><path clip-path=\"url(#clip510)\" d=\"M28.3562 957.695 L28.3562 951.488 L58.275 940.348 L28.3562 929.208 L28.3562 923.002 L64.0042 936.37 L64.0042 944.327 L28.3562 957.695 Z\" fill=\"#000000\" fill-rule=\"evenodd\" fill-opacity=\"1\" /><path clip-path=\"url(#clip510)\" d=\"M44.7161 884.425 L47.5806 884.425 L47.5806 911.352 Q53.6281 910.97 56.8109 907.724 Q59.9619 904.446 59.9619 898.621 Q59.9619 895.247 59.1344 892.096 Q58.3069 888.913 56.6518 885.794 L62.1899 885.794 Q63.5267 888.945 64.227 892.255 Q64.9272 895.565 64.9272 898.971 Q64.9272 907.501 59.9619 912.498 Q54.9967 917.463 46.5303 917.463 Q37.7774 917.463 32.6531 912.753 Q27.4968 908.01 27.4968 899.99 Q27.4968 892.796 32.1438 888.627 Q36.7589 884.425 44.7161 884.425 M42.9973 890.282 Q38.1912 890.346 35.3266 892.987 Q32.4621 895.597 32.4621 899.926 Q32.4621 904.828 35.2312 907.788 Q38.0002 910.716 43.0292 911.161 L42.9973 890.282 Z\" fill=\"#000000\" fill-rule=\"evenodd\" fill-opacity=\"1\" /><path clip-path=\"url(#clip510)\" d=\"M33.8307 854.157 Q33.2578 855.143 33.0032 856.321 Q32.7167 857.467 32.7167 858.867 Q32.7167 863.832 35.9632 866.506 Q39.1779 869.148 45.2253 869.148 L64.0042 869.148 L64.0042 875.036 L28.3562 875.036 L28.3562 869.148 L33.8944 869.148 Q30.6479 867.302 29.0883 864.342 Q27.4968 861.382 27.4968 857.148 Q27.4968 856.544 27.5923 855.812 Q27.656 855.08 27.8151 854.188 L33.8307 854.157 Z\" fill=\"#000000\" fill-rule=\"evenodd\" fill-opacity=\"1\" /><path clip-path=\"url(#clip510)\" d=\"M46.0847 831.813 Q46.0847 838.911 47.7079 841.648 Q49.3312 844.385 53.2461 844.385 Q56.3653 844.385 58.2114 842.348 Q60.0256 840.279 60.0256 836.746 Q60.0256 831.877 56.5881 828.948 Q53.1188 825.988 47.3897 825.988 L46.0847 825.988 L46.0847 831.813 M43.6657 820.132 L64.0042 820.132 L64.0042 825.988 L58.5933 825.988 Q61.8398 827.993 63.3994 830.985 Q64.9272 833.977 64.9272 838.306 Q64.9272 843.78 61.8716 847.027 Q58.7843 850.242 53.6281 850.242 Q47.6125 850.242 44.5569 846.231 Q41.5014 842.189 41.5014 834.2 L41.5014 825.988 L40.9285 825.988 Q36.8862 825.988 34.6901 828.662 Q32.4621 831.304 32.4621 836.11 Q32.4621 839.165 33.1941 842.062 Q33.9262 844.958 35.3903 847.632 L29.9795 847.632 Q28.7381 844.417 28.1334 841.393 Q27.4968 838.37 27.4968 835.505 Q27.4968 827.771 31.5072 823.951 Q35.5176 820.132 43.6657 820.132 Z\" fill=\"#000000\" fill-rule=\"evenodd\" fill-opacity=\"1\" /><path clip-path=\"url(#clip510)\" d=\"M45.7664 784.611 Q39.4007 784.611 35.8996 787.253 Q32.3984 789.863 32.3984 794.605 Q32.3984 799.316 35.8996 801.958 Q39.4007 804.568 45.7664 804.568 Q52.1003 804.568 55.6014 801.958 Q59.1026 799.316 59.1026 794.605 Q59.1026 789.863 55.6014 787.253 Q52.1003 784.611 45.7664 784.611 M59.58 778.755 Q68.683 778.755 73.1071 782.797 Q77.5631 786.839 77.5631 795.178 Q77.5631 798.266 77.0857 801.003 Q76.6401 803.74 75.6852 806.318 L69.9879 806.318 Q71.3884 803.74 72.0568 801.226 Q72.7252 798.711 72.7252 796.101 Q72.7252 790.34 69.7015 787.476 Q66.7096 784.611 60.6303 784.611 L57.7339 784.611 Q60.885 786.425 62.4446 789.258 Q64.0042 792.091 64.0042 796.038 Q64.0042 802.594 59.0071 806.605 Q54.01 810.615 45.7664 810.615 Q37.491 810.615 32.4939 806.605 Q27.4968 802.594 27.4968 796.038 Q27.4968 792.091 29.0564 789.258 Q30.616 786.425 33.7671 784.611 L28.3562 784.611 L28.3562 778.755 L59.58 778.755 Z\" fill=\"#000000\" fill-rule=\"evenodd\" fill-opacity=\"1\" /><path clip-path=\"url(#clip510)\" d=\"M44.7161 736.2 L47.5806 736.2 L47.5806 763.127 Q53.6281 762.745 56.8109 759.498 Q59.9619 756.22 59.9619 750.395 Q59.9619 747.022 59.1344 743.871 Q58.3069 740.688 56.6518 737.569 L62.1899 737.569 Q63.5267 740.72 64.227 744.03 Q64.9272 747.34 64.9272 750.746 Q64.9272 759.276 59.9619 764.273 Q54.9967 769.238 46.5303 769.238 Q37.7774 769.238 32.6531 764.527 Q27.4968 759.785 27.4968 751.764 Q27.4968 744.571 32.1438 740.401 Q36.7589 736.2 44.7161 736.2 M42.9973 742.056 Q38.1912 742.12 35.3266 744.762 Q32.4621 747.372 32.4621 751.7 Q32.4621 756.602 35.2312 759.562 Q38.0002 762.49 43.0292 762.936 L42.9973 742.056 Z\" fill=\"#000000\" fill-rule=\"evenodd\" fill-opacity=\"1\" /><path clip-path=\"url(#clip510)\" d=\"M64.0042 693.359 L16.4842 711.501 L16.4842 704.785 L56.4926 689.73 L16.4842 674.644 L16.4842 667.96 L64.0042 686.07 L64.0042 693.359 Z\" fill=\"#000000\" fill-rule=\"evenodd\" fill-opacity=\"1\" /><path clip-path=\"url(#clip510)\" d=\"M44.7161 635.845 L47.5806 635.845 L47.5806 662.772 Q53.6281 662.39 56.8109 659.143 Q59.9619 655.865 59.9619 650.04 Q59.9619 646.666 59.1344 643.515 Q58.3069 640.332 56.6518 637.213 L62.1899 637.213 Q63.5267 640.364 64.227 643.674 Q64.9272 646.985 64.9272 650.39 Q64.9272 658.92 59.9619 663.917 Q54.9967 668.883 46.5303 668.883 Q37.7774 668.883 32.6531 664.172 Q27.4968 659.43 27.4968 651.409 Q27.4968 644.215 32.1438 640.046 Q36.7589 635.845 44.7161 635.845 M42.9973 641.701 Q38.1912 641.765 35.3266 644.406 Q32.4621 647.016 32.4621 651.345 Q32.4621 656.247 35.2312 659.207 Q38.0002 662.135 43.0292 662.581 L42.9973 641.701 Z\" fill=\"#000000\" fill-rule=\"evenodd\" fill-opacity=\"1\" /><path clip-path=\"url(#clip510)\" d=\"M14.479 626.232 L14.479 620.376 L64.0042 620.376 L64.0042 626.232 L14.479 626.232 Z\" fill=\"#000000\" fill-rule=\"evenodd\" fill-opacity=\"1\" /><path clip-path=\"url(#clip510)\" d=\"M32.4621 594.308 Q32.4621 599.019 36.1542 601.756 Q39.8145 604.493 46.212 604.493 Q52.6095 604.493 56.3017 601.788 Q59.9619 599.051 59.9619 594.308 Q59.9619 589.63 56.2698 586.892 Q52.5777 584.155 46.212 584.155 Q39.8781 584.155 36.186 586.892 Q32.4621 589.63 32.4621 594.308 M27.4968 594.308 Q27.4968 586.67 32.4621 582.309 Q37.4273 577.948 46.212 577.948 Q54.9649 577.948 59.9619 582.309 Q64.9272 586.67 64.9272 594.308 Q64.9272 601.979 59.9619 606.34 Q54.9649 610.668 46.212 610.668 Q37.4273 610.668 32.4621 606.34 Q27.4968 601.979 27.4968 594.308 Z\" fill=\"#000000\" fill-rule=\"evenodd\" fill-opacity=\"1\" /><path clip-path=\"url(#clip510)\" d=\"M29.7248 542.587 L35.1993 542.587 Q33.8307 545.07 33.1623 547.584 Q32.4621 550.067 32.4621 552.613 Q32.4621 558.31 36.0905 561.461 Q39.6872 564.612 46.212 564.612 Q52.7369 564.612 56.3653 561.461 Q59.9619 558.31 59.9619 552.613 Q59.9619 550.067 59.2935 547.584 Q58.5933 545.07 57.2247 542.587 L62.6355 542.587 Q63.7814 545.038 64.3543 547.68 Q64.9272 550.289 64.9272 553.25 Q64.9272 561.302 59.8664 566.045 Q54.8057 570.787 46.212 570.787 Q37.491 570.787 32.4939 566.013 Q27.4968 561.207 27.4968 552.868 Q27.4968 550.162 28.0697 547.584 Q28.6108 545.006 29.7248 542.587 Z\" fill=\"#000000\" fill-rule=\"evenodd\" fill-opacity=\"1\" /><path clip-path=\"url(#clip510)\" d=\"M28.3562 532.402 L28.3562 526.545 L64.0042 526.545 L64.0042 532.402 L28.3562 532.402 M14.479 532.402 L14.479 526.545 L21.895 526.545 L21.895 532.402 L14.479 532.402 Z\" fill=\"#000000\" fill-rule=\"evenodd\" fill-opacity=\"1\" /><path clip-path=\"url(#clip510)\" d=\"M18.2347 508.499 L28.3562 508.499 L28.3562 496.436 L32.9077 496.436 L32.9077 508.499 L52.2594 508.499 Q56.6199 508.499 57.8613 507.321 Q59.1026 506.111 59.1026 502.451 L59.1026 496.436 L64.0042 496.436 L64.0042 502.451 Q64.0042 509.231 61.4897 511.809 Q58.9434 514.387 52.2594 514.387 L32.9077 514.387 L32.9077 518.684 L28.3562 518.684 L28.3562 514.387 L18.2347 514.387 L18.2347 508.499 Z\" fill=\"#000000\" fill-rule=\"evenodd\" fill-opacity=\"1\" /><path clip-path=\"url(#clip510)\" d=\"M67.3143 473.901 Q73.68 476.384 75.6216 478.739 Q77.5631 481.094 77.5631 485.041 L77.5631 489.72 L72.6615 489.72 L72.6615 486.282 Q72.6615 483.863 71.5157 482.527 Q70.3699 481.19 66.1048 479.566 L63.4312 478.516 L28.3562 492.934 L28.3562 486.728 L56.238 475.588 L28.3562 464.448 L28.3562 458.241 L67.3143 473.901 Z\" fill=\"#000000\" fill-rule=\"evenodd\" fill-opacity=\"1\" /><polyline clip-path=\"url(#clip512)\" style=\"stroke:#009af9; stroke-linecap:round; stroke-linejoin:round; stroke-width:4; stroke-opacity:1; fill:none\" points=\"\n",
       "  279.894,885.885 385.814,1372.3 491.734,1030.62 597.655,844.176 703.575,966.985 809.496,524.316 915.416,413.101 1021.34,1059.55 1127.26,726.534 1233.18,103.315 \n",
       "  1339.1,308.178 1445.02,242.968 1550.94,253.311 1656.86,180.341 1762.78,201.919 1868.7,85.838 1974.62,104.273 2080.54,179.508 2186.46,667.284 2292.38,653.552 \n",
       "  \n",
       "  \"/>\n",
       "</svg>\n"
      ]
     },
     "execution_count": 98,
     "metadata": {},
     "output_type": "execute_result"
    }
   ],
   "source": [
    "plot(iterations, avg_velocity, xlabel=\"Iterations\", ylabel=\"Average Velocity\", legend = false, xformatter = :scientific)"
   ]
  },
  {
   "cell_type": "code",
   "execution_count": 99,
   "id": "c3113dc1",
   "metadata": {},
   "outputs": [
    {
     "data": {
      "text/plain": [
       "\"/home/larissa/Documents/Projects/ADLR/ADLR_project/src/RL_PPO_quadcopter_3D/office_test/plots/fast/avg_velocity.svg\""
      ]
     },
     "execution_count": 99,
     "metadata": {},
     "output_type": "execute_result"
    }
   ],
   "source": [
    "savefig(fig_path * \"avg_velocity.svg\")"
   ]
  },
  {
   "cell_type": "code",
   "execution_count": 100,
   "id": "1b4de56f",
   "metadata": {},
   "outputs": [
    {
     "data": {
      "image/svg+xml": [
       "<?xml version=\"1.0\" encoding=\"utf-8\"?>\n",
       "<svg xmlns=\"http://www.w3.org/2000/svg\" xmlns:xlink=\"http://www.w3.org/1999/xlink\" width=\"600\" height=\"400\" viewBox=\"0 0 2400 1600\">\n",
       "<defs>\n",
       "  <clipPath id=\"clip590\">\n",
       "    <rect x=\"0\" y=\"0\" width=\"2400\" height=\"1600\"/>\n",
       "  </clipPath>\n",
       "</defs>\n",
       "<path clip-path=\"url(#clip590)\" d=\"\n",
       "M0 1600 L2400 1600 L2400 0 L0 0  Z\n",
       "  \" fill=\"#ffffff\" fill-rule=\"evenodd\" fill-opacity=\"1\"/>\n",
       "<defs>\n",
       "  <clipPath id=\"clip591\">\n",
       "    <rect x=\"480\" y=\"0\" width=\"1681\" height=\"1600\"/>\n",
       "  </clipPath>\n",
       "</defs>\n",
       "<path clip-path=\"url(#clip590)\" d=\"\n",
       "M247.459 1410.9 L2352.76 1410.9 L2352.76 47.2441 L247.459 47.2441  Z\n",
       "  \" fill=\"#ffffff\" fill-rule=\"evenodd\" fill-opacity=\"1\"/>\n",
       "<defs>\n",
       "  <clipPath id=\"clip592\">\n",
       "    <rect x=\"247\" y=\"47\" width=\"2106\" height=\"1365\"/>\n",
       "  </clipPath>\n",
       "</defs>\n",
       "<polyline clip-path=\"url(#clip592)\" style=\"stroke:#000000; stroke-linecap:round; stroke-linejoin:round; stroke-width:2; stroke-opacity:0.1; fill:none\" points=\"\n",
       "  725.175,1410.9 725.175,47.2441 \n",
       "  \"/>\n",
       "<polyline clip-path=\"url(#clip592)\" style=\"stroke:#000000; stroke-linecap:round; stroke-linejoin:round; stroke-width:2; stroke-opacity:0.1; fill:none\" points=\"\n",
       "  1247.84,1410.9 1247.84,47.2441 \n",
       "  \"/>\n",
       "<polyline clip-path=\"url(#clip592)\" style=\"stroke:#000000; stroke-linecap:round; stroke-linejoin:round; stroke-width:2; stroke-opacity:0.1; fill:none\" points=\"\n",
       "  1770.51,1410.9 1770.51,47.2441 \n",
       "  \"/>\n",
       "<polyline clip-path=\"url(#clip592)\" style=\"stroke:#000000; stroke-linecap:round; stroke-linejoin:round; stroke-width:2; stroke-opacity:0.1; fill:none\" points=\"\n",
       "  2293.17,1410.9 2293.17,47.2441 \n",
       "  \"/>\n",
       "<polyline clip-path=\"url(#clip590)\" style=\"stroke:#000000; stroke-linecap:round; stroke-linejoin:round; stroke-width:4; stroke-opacity:1; fill:none\" points=\"\n",
       "  247.459,1410.9 2352.76,1410.9 \n",
       "  \"/>\n",
       "<polyline clip-path=\"url(#clip590)\" style=\"stroke:#000000; stroke-linecap:round; stroke-linejoin:round; stroke-width:4; stroke-opacity:1; fill:none\" points=\"\n",
       "  725.175,1410.9 725.175,1392 \n",
       "  \"/>\n",
       "<polyline clip-path=\"url(#clip590)\" style=\"stroke:#000000; stroke-linecap:round; stroke-linejoin:round; stroke-width:4; stroke-opacity:1; fill:none\" points=\"\n",
       "  1247.84,1410.9 1247.84,1392 \n",
       "  \"/>\n",
       "<polyline clip-path=\"url(#clip590)\" style=\"stroke:#000000; stroke-linecap:round; stroke-linejoin:round; stroke-width:4; stroke-opacity:1; fill:none\" points=\"\n",
       "  1770.51,1410.9 1770.51,1392 \n",
       "  \"/>\n",
       "<polyline clip-path=\"url(#clip590)\" style=\"stroke:#000000; stroke-linecap:round; stroke-linejoin:round; stroke-width:4; stroke-opacity:1; fill:none\" points=\"\n",
       "  2293.17,1410.9 2293.17,1392 \n",
       "  \"/>\n",
       "<path clip-path=\"url(#clip590)\" d=\"M618.152 1454.4 L636.508 1454.4 L636.508 1458.33 L622.434 1458.33 L622.434 1466.8 Q623.453 1466.46 624.471 1466.29 Q625.49 1466.11 626.508 1466.11 Q632.295 1466.11 635.675 1469.28 Q639.054 1472.45 639.054 1477.87 Q639.054 1483.45 635.582 1486.55 Q632.11 1489.63 625.791 1489.63 Q623.615 1489.63 621.346 1489.26 Q619.101 1488.89 616.693 1488.15 L616.693 1483.45 Q618.777 1484.58 620.999 1485.14 Q623.221 1485.69 625.698 1485.69 Q629.703 1485.69 632.04 1483.59 Q634.378 1481.48 634.378 1477.87 Q634.378 1474.26 632.04 1472.15 Q629.703 1470.04 625.698 1470.04 Q623.823 1470.04 621.948 1470.46 Q620.096 1470.88 618.152 1471.76 L618.152 1454.4 Z\" fill=\"#000000\" fill-rule=\"evenodd\" fill-opacity=\"1\" /><path clip-path=\"url(#clip590)\" d=\"M648.267 1483.08 L653.151 1483.08 L653.151 1488.96 L648.267 1488.96 L648.267 1483.08 Z\" fill=\"#000000\" fill-rule=\"evenodd\" fill-opacity=\"1\" /><path clip-path=\"url(#clip590)\" d=\"M673.337 1457.48 Q669.725 1457.48 667.897 1461.04 Q666.091 1464.58 666.091 1471.71 Q666.091 1478.82 667.897 1482.38 Q669.725 1485.92 673.337 1485.92 Q676.971 1485.92 678.776 1482.38 Q680.605 1478.82 680.605 1471.71 Q680.605 1464.58 678.776 1461.04 Q676.971 1457.48 673.337 1457.48 M673.337 1453.77 Q679.147 1453.77 682.202 1458.38 Q685.281 1462.96 685.281 1471.71 Q685.281 1480.44 682.202 1485.04 Q679.147 1489.63 673.337 1489.63 Q667.526 1489.63 664.448 1485.04 Q661.392 1480.44 661.392 1471.71 Q661.392 1462.96 664.448 1458.38 Q667.526 1453.77 673.337 1453.77 Z\" fill=\"#000000\" fill-rule=\"evenodd\" fill-opacity=\"1\" /><path clip-path=\"url(#clip590)\" d=\"M703.498 1457.48 Q699.887 1457.48 698.059 1461.04 Q696.253 1464.58 696.253 1471.71 Q696.253 1478.82 698.059 1482.38 Q699.887 1485.92 703.498 1485.92 Q707.133 1485.92 708.938 1482.38 Q710.767 1478.82 710.767 1471.71 Q710.767 1464.58 708.938 1461.04 Q707.133 1457.48 703.498 1457.48 M703.498 1453.77 Q709.309 1453.77 712.364 1458.38 Q715.443 1462.96 715.443 1471.71 Q715.443 1480.44 712.364 1485.04 Q709.309 1489.63 703.498 1489.63 Q697.688 1489.63 694.61 1485.04 Q691.554 1480.44 691.554 1471.71 Q691.554 1462.96 694.61 1458.38 Q697.688 1453.77 703.498 1453.77 Z\" fill=\"#000000\" fill-rule=\"evenodd\" fill-opacity=\"1\" /><path clip-path=\"url(#clip590)\" d=\"M751.832 1463.49 L741.253 1474.12 L751.832 1484.7 L749.077 1487.5 L738.452 1476.87 L727.827 1487.5 L725.096 1484.7 L735.651 1474.12 L725.096 1463.49 L727.827 1460.69 L738.452 1471.32 L749.077 1460.69 L751.832 1463.49 Z\" fill=\"#000000\" fill-rule=\"evenodd\" fill-opacity=\"1\" /><path clip-path=\"url(#clip590)\" d=\"M764.193 1485.02 L771.831 1485.02 L771.831 1458.66 L763.521 1460.32 L763.521 1456.06 L771.785 1454.4 L776.461 1454.4 L776.461 1485.02 L784.1 1485.02 L784.1 1488.96 L764.193 1488.96 L764.193 1485.02 Z\" fill=\"#000000\" fill-rule=\"evenodd\" fill-opacity=\"1\" /><path clip-path=\"url(#clip590)\" d=\"M803.544 1457.48 Q799.933 1457.48 798.104 1461.04 Q796.299 1464.58 796.299 1471.71 Q796.299 1478.82 798.104 1482.38 Q799.933 1485.92 803.544 1485.92 Q807.178 1485.92 808.984 1482.38 Q810.813 1478.82 810.813 1471.71 Q810.813 1464.58 808.984 1461.04 Q807.178 1457.48 803.544 1457.48 M803.544 1453.77 Q809.354 1453.77 812.41 1458.38 Q815.489 1462.96 815.489 1471.71 Q815.489 1480.44 812.41 1485.04 Q809.354 1489.63 803.544 1489.63 Q797.734 1489.63 794.655 1485.04 Q791.6 1480.44 791.6 1471.71 Q791.6 1462.96 794.655 1458.38 Q797.734 1453.77 803.544 1453.77 Z\" fill=\"#000000\" fill-rule=\"evenodd\" fill-opacity=\"1\" /><path clip-path=\"url(#clip590)\" d=\"M816.673 1433.47 L831.588 1433.47 L831.588 1436.66 L820.153 1436.66 L820.153 1443.55 Q820.98 1443.27 821.808 1443.13 Q822.636 1442.98 823.463 1442.98 Q828.165 1442.98 830.911 1445.56 Q833.657 1448.14 833.657 1452.54 Q833.657 1457.07 830.836 1459.59 Q828.015 1462.09 822.88 1462.09 Q821.112 1462.09 819.269 1461.79 Q817.445 1461.49 815.489 1460.89 L815.489 1457.07 Q817.181 1457.99 818.987 1458.44 Q820.792 1458.89 822.805 1458.89 Q826.059 1458.89 827.958 1457.18 Q829.858 1455.47 829.858 1452.54 Q829.858 1449.6 827.958 1447.89 Q826.059 1446.18 822.805 1446.18 Q821.281 1446.18 819.758 1446.52 Q818.253 1446.86 816.673 1447.57 L816.673 1433.47 Z\" fill=\"#000000\" fill-rule=\"evenodd\" fill-opacity=\"1\" /><path clip-path=\"url(#clip590)\" d=\"M1140.19 1485.02 L1147.83 1485.02 L1147.83 1458.66 L1139.52 1460.32 L1139.52 1456.06 L1147.79 1454.4 L1152.46 1454.4 L1152.46 1485.02 L1160.1 1485.02 L1160.1 1488.96 L1140.19 1488.96 L1140.19 1485.02 Z\" fill=\"#000000\" fill-rule=\"evenodd\" fill-opacity=\"1\" /><path clip-path=\"url(#clip590)\" d=\"M1169.55 1483.08 L1174.43 1483.08 L1174.43 1488.96 L1169.55 1488.96 L1169.55 1483.08 Z\" fill=\"#000000\" fill-rule=\"evenodd\" fill-opacity=\"1\" /><path clip-path=\"url(#clip590)\" d=\"M1194.62 1457.48 Q1191 1457.48 1189.18 1461.04 Q1187.37 1464.58 1187.37 1471.71 Q1187.37 1478.82 1189.18 1482.38 Q1191 1485.92 1194.62 1485.92 Q1198.25 1485.92 1200.06 1482.38 Q1201.88 1478.82 1201.88 1471.71 Q1201.88 1464.58 1200.06 1461.04 Q1198.25 1457.48 1194.62 1457.48 M1194.62 1453.77 Q1200.43 1453.77 1203.48 1458.38 Q1206.56 1462.96 1206.56 1471.71 Q1206.56 1480.44 1203.48 1485.04 Q1200.43 1489.63 1194.62 1489.63 Q1188.81 1489.63 1185.73 1485.04 Q1182.67 1480.44 1182.67 1471.71 Q1182.67 1462.96 1185.73 1458.38 Q1188.81 1453.77 1194.62 1453.77 Z\" fill=\"#000000\" fill-rule=\"evenodd\" fill-opacity=\"1\" /><path clip-path=\"url(#clip590)\" d=\"M1224.78 1457.48 Q1221.17 1457.48 1219.34 1461.04 Q1217.53 1464.58 1217.53 1471.71 Q1217.53 1478.82 1219.34 1482.38 Q1221.17 1485.92 1224.78 1485.92 Q1228.41 1485.92 1230.22 1482.38 Q1232.05 1478.82 1232.05 1471.71 Q1232.05 1464.58 1230.22 1461.04 Q1228.41 1457.48 1224.78 1457.48 M1224.78 1453.77 Q1230.59 1453.77 1233.64 1458.38 Q1236.72 1462.96 1236.72 1471.71 Q1236.72 1480.44 1233.64 1485.04 Q1230.59 1489.63 1224.78 1489.63 Q1218.97 1489.63 1215.89 1485.04 Q1212.83 1480.44 1212.83 1471.71 Q1212.83 1462.96 1215.89 1458.38 Q1218.97 1453.77 1224.78 1453.77 Z\" fill=\"#000000\" fill-rule=\"evenodd\" fill-opacity=\"1\" /><path clip-path=\"url(#clip590)\" d=\"M1273.11 1463.49 L1262.53 1474.12 L1273.11 1484.7 L1270.36 1487.5 L1259.73 1476.87 L1249.11 1487.5 L1246.37 1484.7 L1256.93 1474.12 L1246.37 1463.49 L1249.11 1460.69 L1259.73 1471.32 L1270.36 1460.69 L1273.11 1463.49 Z\" fill=\"#000000\" fill-rule=\"evenodd\" fill-opacity=\"1\" /><path clip-path=\"url(#clip590)\" d=\"M1285.47 1485.02 L1293.11 1485.02 L1293.11 1458.66 L1284.8 1460.32 L1284.8 1456.06 L1293.06 1454.4 L1297.74 1454.4 L1297.74 1485.02 L1305.38 1485.02 L1305.38 1488.96 L1285.47 1488.96 L1285.47 1485.02 Z\" fill=\"#000000\" fill-rule=\"evenodd\" fill-opacity=\"1\" /><path clip-path=\"url(#clip590)\" d=\"M1324.82 1457.48 Q1321.21 1457.48 1319.38 1461.04 Q1317.58 1464.58 1317.58 1471.71 Q1317.58 1478.82 1319.38 1482.38 Q1321.21 1485.92 1324.82 1485.92 Q1328.46 1485.92 1330.26 1482.38 Q1332.09 1478.82 1332.09 1471.71 Q1332.09 1464.58 1330.26 1461.04 Q1328.46 1457.48 1324.82 1457.48 M1324.82 1453.77 Q1330.63 1453.77 1333.69 1458.38 Q1336.77 1462.96 1336.77 1471.71 Q1336.77 1480.44 1333.69 1485.04 Q1330.63 1489.63 1324.82 1489.63 Q1319.01 1489.63 1315.93 1485.04 Q1312.88 1480.44 1312.88 1471.71 Q1312.88 1462.96 1315.93 1458.38 Q1319.01 1453.77 1324.82 1453.77 Z\" fill=\"#000000\" fill-rule=\"evenodd\" fill-opacity=\"1\" /><path clip-path=\"url(#clip590)\" d=\"M1346.79 1445.99 Q1344.23 1445.99 1342.73 1447.74 Q1341.24 1449.49 1341.24 1452.54 Q1341.24 1455.57 1342.73 1457.33 Q1344.23 1459.08 1346.79 1459.08 Q1349.35 1459.08 1350.84 1457.33 Q1352.34 1455.57 1352.34 1452.54 Q1352.34 1449.49 1350.84 1447.74 Q1349.35 1445.99 1346.79 1445.99 M1354.33 1434.09 L1354.33 1437.55 Q1352.9 1436.87 1351.44 1436.51 Q1349.99 1436.16 1348.56 1436.16 Q1344.8 1436.16 1342.8 1438.69 Q1340.83 1441.23 1340.55 1446.37 Q1341.66 1444.73 1343.33 1443.87 Q1345.01 1442.98 1347.02 1442.98 Q1351.25 1442.98 1353.69 1445.56 Q1356.16 1448.12 1356.16 1452.54 Q1356.16 1456.86 1353.6 1459.48 Q1351.04 1462.09 1346.79 1462.09 Q1341.92 1462.09 1339.34 1458.37 Q1336.77 1454.62 1336.77 1447.53 Q1336.77 1440.88 1339.93 1436.93 Q1343.09 1432.96 1348.41 1432.96 Q1349.84 1432.96 1351.29 1433.24 Q1352.75 1433.52 1354.33 1434.09 Z\" fill=\"#000000\" fill-rule=\"evenodd\" fill-opacity=\"1\" /><path clip-path=\"url(#clip590)\" d=\"M1662.86 1485.02 L1670.5 1485.02 L1670.5 1458.66 L1662.19 1460.32 L1662.19 1456.06 L1670.45 1454.4 L1675.13 1454.4 L1675.13 1485.02 L1682.77 1485.02 L1682.77 1488.96 L1662.86 1488.96 L1662.86 1485.02 Z\" fill=\"#000000\" fill-rule=\"evenodd\" fill-opacity=\"1\" /><path clip-path=\"url(#clip590)\" d=\"M1692.21 1483.08 L1697.1 1483.08 L1697.1 1488.96 L1692.21 1488.96 L1692.21 1483.08 Z\" fill=\"#000000\" fill-rule=\"evenodd\" fill-opacity=\"1\" /><path clip-path=\"url(#clip590)\" d=\"M1707.33 1454.4 L1725.68 1454.4 L1725.68 1458.33 L1711.61 1458.33 L1711.61 1466.8 Q1712.63 1466.46 1713.65 1466.29 Q1714.67 1466.11 1715.68 1466.11 Q1721.47 1466.11 1724.85 1469.28 Q1728.23 1472.45 1728.23 1477.87 Q1728.23 1483.45 1724.76 1486.55 Q1721.29 1489.63 1714.97 1489.63 Q1712.79 1489.63 1710.52 1489.26 Q1708.28 1488.89 1705.87 1488.15 L1705.87 1483.45 Q1707.95 1484.58 1710.17 1485.14 Q1712.4 1485.69 1714.87 1485.69 Q1718.88 1485.69 1721.22 1483.59 Q1723.55 1481.48 1723.55 1477.87 Q1723.55 1474.26 1721.22 1472.15 Q1718.88 1470.04 1714.87 1470.04 Q1713 1470.04 1711.12 1470.46 Q1709.27 1470.88 1707.33 1471.76 L1707.33 1454.4 Z\" fill=\"#000000\" fill-rule=\"evenodd\" fill-opacity=\"1\" /><path clip-path=\"url(#clip590)\" d=\"M1747.44 1457.48 Q1743.83 1457.48 1742 1461.04 Q1740.2 1464.58 1740.2 1471.71 Q1740.2 1478.82 1742 1482.38 Q1743.83 1485.92 1747.44 1485.92 Q1751.08 1485.92 1752.88 1482.38 Q1754.71 1478.82 1754.71 1471.71 Q1754.71 1464.58 1752.88 1461.04 Q1751.08 1457.48 1747.44 1457.48 M1747.44 1453.77 Q1753.25 1453.77 1756.31 1458.38 Q1759.39 1462.96 1759.39 1471.71 Q1759.39 1480.44 1756.31 1485.04 Q1753.25 1489.63 1747.44 1489.63 Q1741.63 1489.63 1738.55 1485.04 Q1735.5 1480.44 1735.5 1471.71 Q1735.5 1462.96 1738.55 1458.38 Q1741.63 1453.77 1747.44 1453.77 Z\" fill=\"#000000\" fill-rule=\"evenodd\" fill-opacity=\"1\" /><path clip-path=\"url(#clip590)\" d=\"M1795.78 1463.49 L1785.2 1474.12 L1795.78 1484.7 L1793.02 1487.5 L1782.4 1476.87 L1771.77 1487.5 L1769.04 1484.7 L1779.6 1474.12 L1769.04 1463.49 L1771.77 1460.69 L1782.4 1471.32 L1793.02 1460.69 L1795.78 1463.49 Z\" fill=\"#000000\" fill-rule=\"evenodd\" fill-opacity=\"1\" /><path clip-path=\"url(#clip590)\" d=\"M1808.14 1485.02 L1815.78 1485.02 L1815.78 1458.66 L1807.47 1460.32 L1807.47 1456.06 L1815.73 1454.4 L1820.41 1454.4 L1820.41 1485.02 L1828.04 1485.02 L1828.04 1488.96 L1808.14 1488.96 L1808.14 1485.02 Z\" fill=\"#000000\" fill-rule=\"evenodd\" fill-opacity=\"1\" /><path clip-path=\"url(#clip590)\" d=\"M1847.49 1457.48 Q1843.88 1457.48 1842.05 1461.04 Q1840.24 1464.58 1840.24 1471.71 Q1840.24 1478.82 1842.05 1482.38 Q1843.88 1485.92 1847.49 1485.92 Q1851.12 1485.92 1852.93 1482.38 Q1854.76 1478.82 1854.76 1471.71 Q1854.76 1464.58 1852.93 1461.04 Q1851.12 1457.48 1847.49 1457.48 M1847.49 1453.77 Q1853.3 1453.77 1856.35 1458.38 Q1859.43 1462.96 1859.43 1471.71 Q1859.43 1480.44 1856.35 1485.04 Q1853.3 1489.63 1847.49 1489.63 Q1841.68 1489.63 1838.6 1485.04 Q1835.54 1480.44 1835.54 1471.71 Q1835.54 1462.96 1838.6 1458.38 Q1841.68 1453.77 1847.49 1453.77 Z\" fill=\"#000000\" fill-rule=\"evenodd\" fill-opacity=\"1\" /><path clip-path=\"url(#clip590)\" d=\"M1869.46 1445.99 Q1866.9 1445.99 1865.4 1447.74 Q1863.91 1449.49 1863.91 1452.54 Q1863.91 1455.57 1865.4 1457.33 Q1866.9 1459.08 1869.46 1459.08 Q1872.02 1459.08 1873.5 1457.33 Q1875.01 1455.57 1875.01 1452.54 Q1875.01 1449.49 1873.5 1447.74 Q1872.02 1445.99 1869.46 1445.99 M1877 1434.09 L1877 1437.55 Q1875.57 1436.87 1874.1 1436.51 Q1872.65 1436.16 1871.23 1436.16 Q1867.46 1436.16 1865.47 1438.69 Q1863.5 1441.23 1863.21 1446.37 Q1864.32 1444.73 1866 1443.87 Q1867.67 1442.98 1869.68 1442.98 Q1873.92 1442.98 1876.36 1445.56 Q1878.82 1448.12 1878.82 1452.54 Q1878.82 1456.86 1876.27 1459.48 Q1873.71 1462.09 1869.46 1462.09 Q1864.59 1462.09 1862.01 1458.37 Q1859.43 1454.62 1859.43 1447.53 Q1859.43 1440.88 1862.59 1436.93 Q1865.75 1432.96 1871.08 1432.96 Q1872.5 1432.96 1873.95 1433.24 Q1875.42 1433.52 1877 1434.09 Z\" fill=\"#000000\" fill-rule=\"evenodd\" fill-opacity=\"1\" /><path clip-path=\"url(#clip590)\" d=\"M2189.61 1485.02 L2205.93 1485.02 L2205.93 1488.96 L2183.99 1488.96 L2183.99 1485.02 Q2186.65 1482.27 2191.23 1477.64 Q2195.84 1472.98 2197.02 1471.64 Q2199.26 1469.12 2200.14 1467.38 Q2201.05 1465.62 2201.05 1463.93 Q2201.05 1461.18 2199.1 1459.44 Q2197.18 1457.71 2194.08 1457.71 Q2191.88 1457.71 2189.43 1458.47 Q2187 1459.23 2184.22 1460.79 L2184.22 1456.06 Q2187.04 1454.93 2189.5 1454.35 Q2191.95 1453.77 2193.99 1453.77 Q2199.36 1453.77 2202.55 1456.46 Q2205.75 1459.14 2205.75 1463.63 Q2205.75 1465.76 2204.94 1467.68 Q2204.15 1469.58 2202.04 1472.17 Q2201.46 1472.85 2198.36 1476.06 Q2195.26 1479.26 2189.61 1485.02 Z\" fill=\"#000000\" fill-rule=\"evenodd\" fill-opacity=\"1\" /><path clip-path=\"url(#clip590)\" d=\"M2215.75 1483.08 L2220.63 1483.08 L2220.63 1488.96 L2215.75 1488.96 L2215.75 1483.08 Z\" fill=\"#000000\" fill-rule=\"evenodd\" fill-opacity=\"1\" /><path clip-path=\"url(#clip590)\" d=\"M2240.81 1457.48 Q2237.2 1457.48 2235.38 1461.04 Q2233.57 1464.58 2233.57 1471.71 Q2233.57 1478.82 2235.38 1482.38 Q2237.2 1485.92 2240.81 1485.92 Q2244.45 1485.92 2246.25 1482.38 Q2248.08 1478.82 2248.08 1471.71 Q2248.08 1464.58 2246.25 1461.04 Q2244.45 1457.48 2240.81 1457.48 M2240.81 1453.77 Q2246.62 1453.77 2249.68 1458.38 Q2252.76 1462.96 2252.76 1471.71 Q2252.76 1480.44 2249.68 1485.04 Q2246.62 1489.63 2240.81 1489.63 Q2235 1489.63 2231.93 1485.04 Q2228.87 1480.44 2228.87 1471.71 Q2228.87 1462.96 2231.93 1458.38 Q2235 1453.77 2240.81 1453.77 Z\" fill=\"#000000\" fill-rule=\"evenodd\" fill-opacity=\"1\" /><path clip-path=\"url(#clip590)\" d=\"M2270.98 1457.48 Q2267.37 1457.48 2265.54 1461.04 Q2263.73 1464.58 2263.73 1471.71 Q2263.73 1478.82 2265.54 1482.38 Q2267.37 1485.92 2270.98 1485.92 Q2274.61 1485.92 2276.42 1482.38 Q2278.25 1478.82 2278.25 1471.71 Q2278.25 1464.58 2276.42 1461.04 Q2274.61 1457.48 2270.98 1457.48 M2270.98 1453.77 Q2276.79 1453.77 2279.84 1458.38 Q2282.92 1462.96 2282.92 1471.71 Q2282.92 1480.44 2279.84 1485.04 Q2276.79 1489.63 2270.98 1489.63 Q2265.17 1489.63 2262.09 1485.04 Q2259.03 1480.44 2259.03 1471.71 Q2259.03 1462.96 2262.09 1458.38 Q2265.17 1453.77 2270.98 1453.77 Z\" fill=\"#000000\" fill-rule=\"evenodd\" fill-opacity=\"1\" /><path clip-path=\"url(#clip590)\" d=\"M2319.31 1463.49 L2308.73 1474.12 L2319.31 1484.7 L2316.56 1487.5 L2305.93 1476.87 L2295.31 1487.5 L2292.57 1484.7 L2303.13 1474.12 L2292.57 1463.49 L2295.31 1460.69 L2305.93 1471.32 L2316.56 1460.69 L2319.31 1463.49 Z\" fill=\"#000000\" fill-rule=\"evenodd\" fill-opacity=\"1\" /><path clip-path=\"url(#clip590)\" d=\"M2331.67 1485.02 L2339.31 1485.02 L2339.31 1458.66 L2331 1460.32 L2331 1456.06 L2339.26 1454.4 L2343.94 1454.4 L2343.94 1485.02 L2351.58 1485.02 L2351.58 1488.96 L2331.67 1488.96 L2331.67 1485.02 Z\" fill=\"#000000\" fill-rule=\"evenodd\" fill-opacity=\"1\" /><path clip-path=\"url(#clip590)\" d=\"M2371.02 1457.48 Q2367.41 1457.48 2365.58 1461.04 Q2363.78 1464.58 2363.78 1471.71 Q2363.78 1478.82 2365.58 1482.38 Q2367.41 1485.92 2371.02 1485.92 Q2374.66 1485.92 2376.46 1482.38 Q2378.29 1478.82 2378.29 1471.71 Q2378.29 1464.58 2376.46 1461.04 Q2374.66 1457.48 2371.02 1457.48 M2371.02 1453.77 Q2376.83 1453.77 2379.89 1458.38 Q2382.97 1462.96 2382.97 1471.71 Q2382.97 1480.44 2379.89 1485.04 Q2376.83 1489.63 2371.02 1489.63 Q2365.21 1489.63 2362.13 1485.04 Q2359.08 1480.44 2359.08 1471.71 Q2359.08 1462.96 2362.13 1458.38 Q2365.21 1453.77 2371.02 1453.77 Z\" fill=\"#000000\" fill-rule=\"evenodd\" fill-opacity=\"1\" /><path clip-path=\"url(#clip590)\" d=\"M2392.99 1445.99 Q2390.43 1445.99 2388.93 1447.74 Q2387.44 1449.49 2387.44 1452.54 Q2387.44 1455.57 2388.93 1457.33 Q2390.43 1459.08 2392.99 1459.08 Q2395.55 1459.08 2397.04 1457.33 Q2398.54 1455.57 2398.54 1452.54 Q2398.54 1449.49 2397.04 1447.74 Q2395.55 1445.99 2392.99 1445.99 M2400.53 1434.09 L2400.53 1437.55 Q2399.1 1436.87 2397.64 1436.51 Q2396.19 1436.16 2394.76 1436.16 Q2391 1436.16 2389 1438.69 Q2387.03 1441.23 2386.75 1446.37 Q2387.86 1444.73 2389.53 1443.87 Q2391.2 1442.98 2393.22 1442.98 Q2397.45 1442.98 2399.89 1445.56 Q2402.36 1448.12 2402.36 1452.54 Q2402.36 1456.86 2399.8 1459.48 Q2397.24 1462.09 2392.99 1462.09 Q2388.12 1462.09 2385.54 1458.37 Q2382.97 1454.62 2382.97 1447.53 Q2382.97 1440.88 2386.13 1436.93 Q2389.29 1432.96 2394.61 1432.96 Q2396.04 1432.96 2397.49 1433.24 Q2398.95 1433.52 2400.53 1434.09 Z\" fill=\"#000000\" fill-rule=\"evenodd\" fill-opacity=\"1\" /><path clip-path=\"url(#clip590)\" d=\"M1149.67 1526.67 L1156.1 1526.67 L1156.1 1574.19 L1149.67 1574.19 L1149.67 1526.67 Z\" fill=\"#000000\" fill-rule=\"evenodd\" fill-opacity=\"1\" /><path clip-path=\"url(#clip590)\" d=\"M1174.43 1528.42 L1174.43 1538.54 L1186.5 1538.54 L1186.5 1543.09 L1174.43 1543.09 L1174.43 1562.44 Q1174.43 1566.8 1175.61 1568.04 Q1176.82 1569.28 1180.48 1569.28 L1186.5 1569.28 L1186.5 1574.19 L1180.48 1574.19 Q1173.7 1574.19 1171.12 1571.67 Q1168.54 1569.12 1168.54 1562.44 L1168.54 1543.09 L1164.25 1543.09 L1164.25 1538.54 L1168.54 1538.54 L1168.54 1528.42 L1174.43 1528.42 Z\" fill=\"#000000\" fill-rule=\"evenodd\" fill-opacity=\"1\" /><path clip-path=\"url(#clip590)\" d=\"M1224.69 1554.9 L1224.69 1557.76 L1197.76 1557.76 Q1198.14 1563.81 1201.39 1566.99 Q1204.67 1570.14 1210.49 1570.14 Q1213.87 1570.14 1217.02 1569.32 Q1220.2 1568.49 1223.32 1566.83 L1223.32 1572.37 Q1220.17 1573.71 1216.86 1574.41 Q1213.55 1575.11 1210.14 1575.11 Q1201.61 1575.11 1196.62 1570.14 Q1191.65 1565.18 1191.65 1556.71 Q1191.65 1547.96 1196.36 1542.83 Q1201.1 1537.68 1209.13 1537.68 Q1216.32 1537.68 1220.49 1542.33 Q1224.69 1546.94 1224.69 1554.9 M1218.83 1553.18 Q1218.77 1548.37 1216.13 1545.51 Q1213.52 1542.64 1209.19 1542.64 Q1204.29 1542.64 1201.33 1545.41 Q1198.4 1548.18 1197.95 1553.21 L1218.83 1553.18 Z\" fill=\"#000000\" fill-rule=\"evenodd\" fill-opacity=\"1\" /><path clip-path=\"url(#clip590)\" d=\"M1254.96 1544.01 Q1253.97 1543.44 1252.79 1543.18 Q1251.65 1542.9 1250.25 1542.9 Q1245.28 1542.9 1242.61 1546.14 Q1239.97 1549.36 1239.97 1555.41 L1239.97 1574.19 L1234.08 1574.19 L1234.08 1538.54 L1239.97 1538.54 L1239.97 1544.08 Q1241.81 1540.83 1244.77 1539.27 Q1247.73 1537.68 1251.97 1537.68 Q1252.57 1537.68 1253.3 1537.77 Q1254.04 1537.84 1254.93 1538 L1254.96 1544.01 Z\" fill=\"#000000\" fill-rule=\"evenodd\" fill-opacity=\"1\" /><path clip-path=\"url(#clip590)\" d=\"M1277.3 1556.27 Q1270.2 1556.27 1267.47 1557.89 Q1264.73 1559.51 1264.73 1563.43 Q1264.73 1566.55 1266.77 1568.39 Q1268.84 1570.21 1272.37 1570.21 Q1277.24 1570.21 1280.17 1566.77 Q1283.13 1563.3 1283.13 1557.57 L1283.13 1556.27 L1277.3 1556.27 M1288.98 1553.85 L1288.98 1574.19 L1283.13 1574.19 L1283.13 1568.77 Q1281.12 1572.02 1278.13 1573.58 Q1275.14 1575.11 1270.81 1575.11 Q1265.33 1575.11 1262.09 1572.05 Q1258.87 1568.97 1258.87 1563.81 Q1258.87 1557.79 1262.88 1554.74 Q1266.93 1551.68 1274.92 1551.68 L1283.13 1551.68 L1283.13 1551.11 Q1283.13 1547.07 1280.45 1544.87 Q1277.81 1542.64 1273.01 1542.64 Q1269.95 1542.64 1267.05 1543.38 Q1264.16 1544.11 1261.48 1545.57 L1261.48 1540.16 Q1264.7 1538.92 1267.72 1538.31 Q1270.75 1537.68 1273.61 1537.68 Q1281.34 1537.68 1285.16 1541.69 Q1288.98 1545.7 1288.98 1553.85 Z\" fill=\"#000000\" fill-rule=\"evenodd\" fill-opacity=\"1\" /><path clip-path=\"url(#clip590)\" d=\"M1306.84 1528.42 L1306.84 1538.54 L1318.9 1538.54 L1318.9 1543.09 L1306.84 1543.09 L1306.84 1562.44 Q1306.84 1566.8 1308.02 1568.04 Q1309.23 1569.28 1312.89 1569.28 L1318.9 1569.28 L1318.9 1574.19 L1312.89 1574.19 Q1306.11 1574.19 1303.53 1571.67 Q1300.95 1569.12 1300.95 1562.44 L1300.95 1543.09 L1296.65 1543.09 L1296.65 1538.54 L1300.95 1538.54 L1300.95 1528.42 L1306.84 1528.42 Z\" fill=\"#000000\" fill-rule=\"evenodd\" fill-opacity=\"1\" /><path clip-path=\"url(#clip590)\" d=\"M1326.6 1538.54 L1332.46 1538.54 L1332.46 1574.19 L1326.6 1574.19 L1326.6 1538.54 M1326.6 1524.66 L1332.46 1524.66 L1332.46 1532.08 L1326.6 1532.08 L1326.6 1524.66 Z\" fill=\"#000000\" fill-rule=\"evenodd\" fill-opacity=\"1\" /><path clip-path=\"url(#clip590)\" d=\"M1358.53 1542.64 Q1353.82 1542.64 1351.08 1546.34 Q1348.34 1550 1348.34 1556.39 Q1348.34 1562.79 1351.05 1566.48 Q1353.79 1570.14 1358.53 1570.14 Q1363.21 1570.14 1365.94 1566.45 Q1368.68 1562.76 1368.68 1556.39 Q1368.68 1550.06 1365.94 1546.37 Q1363.21 1542.64 1358.53 1542.64 M1358.53 1537.68 Q1366.17 1537.68 1370.53 1542.64 Q1374.89 1547.61 1374.89 1556.39 Q1374.89 1565.15 1370.53 1570.14 Q1366.17 1575.11 1358.53 1575.11 Q1350.86 1575.11 1346.5 1570.14 Q1342.17 1565.15 1342.17 1556.39 Q1342.17 1547.61 1346.5 1542.64 Q1350.86 1537.68 1358.53 1537.68 Z\" fill=\"#000000\" fill-rule=\"evenodd\" fill-opacity=\"1\" /><path clip-path=\"url(#clip590)\" d=\"M1414.23 1552.67 L1414.23 1574.19 L1408.37 1574.19 L1408.37 1552.86 Q1408.37 1547.8 1406.4 1545.29 Q1404.43 1542.77 1400.48 1542.77 Q1395.74 1542.77 1393 1545.79 Q1390.26 1548.82 1390.26 1554.04 L1390.26 1574.19 L1384.37 1574.19 L1384.37 1538.54 L1390.26 1538.54 L1390.26 1544.08 Q1392.36 1540.86 1395.2 1539.27 Q1398.06 1537.68 1401.78 1537.68 Q1407.93 1537.68 1411.08 1541.5 Q1414.23 1545.29 1414.23 1552.67 Z\" fill=\"#000000\" fill-rule=\"evenodd\" fill-opacity=\"1\" /><path clip-path=\"url(#clip590)\" d=\"M1448.64 1539.59 L1448.64 1545.13 Q1446.15 1543.85 1443.48 1543.22 Q1440.81 1542.58 1437.94 1542.58 Q1433.58 1542.58 1431.38 1543.92 Q1429.22 1545.25 1429.22 1547.93 Q1429.22 1549.96 1430.78 1551.14 Q1432.34 1552.29 1437.05 1553.34 L1439.05 1553.78 Q1445.29 1555.12 1447.9 1557.57 Q1450.54 1559.99 1450.54 1564.35 Q1450.54 1569.32 1446.6 1572.21 Q1442.68 1575.11 1435.81 1575.11 Q1432.94 1575.11 1429.82 1574.54 Q1426.74 1573.99 1423.3 1572.88 L1423.3 1566.83 Q1426.55 1568.52 1429.7 1569.38 Q1432.85 1570.21 1435.94 1570.21 Q1440.07 1570.21 1442.3 1568.81 Q1444.53 1567.37 1444.53 1564.8 Q1444.53 1562.41 1442.91 1561.14 Q1441.31 1559.86 1435.87 1558.68 L1433.83 1558.21 Q1428.39 1557.06 1425.97 1554.71 Q1423.55 1552.32 1423.55 1548.18 Q1423.55 1543.15 1427.12 1540.42 Q1430.68 1537.68 1437.24 1537.68 Q1440.49 1537.68 1443.35 1538.16 Q1446.22 1538.63 1448.64 1539.59 Z\" fill=\"#000000\" fill-rule=\"evenodd\" fill-opacity=\"1\" /><polyline clip-path=\"url(#clip592)\" style=\"stroke:#000000; stroke-linecap:round; stroke-linejoin:round; stroke-width:2; stroke-opacity:0.1; fill:none\" points=\"\n",
       "  247.459,1353.17 2352.76,1353.17 \n",
       "  \"/>\n",
       "<polyline clip-path=\"url(#clip592)\" style=\"stroke:#000000; stroke-linecap:round; stroke-linejoin:round; stroke-width:2; stroke-opacity:0.1; fill:none\" points=\"\n",
       "  247.459,1128.14 2352.76,1128.14 \n",
       "  \"/>\n",
       "<polyline clip-path=\"url(#clip592)\" style=\"stroke:#000000; stroke-linecap:round; stroke-linejoin:round; stroke-width:2; stroke-opacity:0.1; fill:none\" points=\"\n",
       "  247.459,903.099 2352.76,903.099 \n",
       "  \"/>\n",
       "<polyline clip-path=\"url(#clip592)\" style=\"stroke:#000000; stroke-linecap:round; stroke-linejoin:round; stroke-width:2; stroke-opacity:0.1; fill:none\" points=\"\n",
       "  247.459,678.062 2352.76,678.062 \n",
       "  \"/>\n",
       "<polyline clip-path=\"url(#clip592)\" style=\"stroke:#000000; stroke-linecap:round; stroke-linejoin:round; stroke-width:2; stroke-opacity:0.1; fill:none\" points=\"\n",
       "  247.459,453.024 2352.76,453.024 \n",
       "  \"/>\n",
       "<polyline clip-path=\"url(#clip592)\" style=\"stroke:#000000; stroke-linecap:round; stroke-linejoin:round; stroke-width:2; stroke-opacity:0.1; fill:none\" points=\"\n",
       "  247.459,227.987 2352.76,227.987 \n",
       "  \"/>\n",
       "<polyline clip-path=\"url(#clip590)\" style=\"stroke:#000000; stroke-linecap:round; stroke-linejoin:round; stroke-width:4; stroke-opacity:1; fill:none\" points=\"\n",
       "  247.459,1410.9 247.459,47.2441 \n",
       "  \"/>\n",
       "<polyline clip-path=\"url(#clip590)\" style=\"stroke:#000000; stroke-linecap:round; stroke-linejoin:round; stroke-width:4; stroke-opacity:1; fill:none\" points=\"\n",
       "  247.459,1353.17 266.356,1353.17 \n",
       "  \"/>\n",
       "<polyline clip-path=\"url(#clip590)\" style=\"stroke:#000000; stroke-linecap:round; stroke-linejoin:round; stroke-width:4; stroke-opacity:1; fill:none\" points=\"\n",
       "  247.459,1128.14 266.356,1128.14 \n",
       "  \"/>\n",
       "<polyline clip-path=\"url(#clip590)\" style=\"stroke:#000000; stroke-linecap:round; stroke-linejoin:round; stroke-width:4; stroke-opacity:1; fill:none\" points=\"\n",
       "  247.459,903.099 266.356,903.099 \n",
       "  \"/>\n",
       "<polyline clip-path=\"url(#clip590)\" style=\"stroke:#000000; stroke-linecap:round; stroke-linejoin:round; stroke-width:4; stroke-opacity:1; fill:none\" points=\"\n",
       "  247.459,678.062 266.356,678.062 \n",
       "  \"/>\n",
       "<polyline clip-path=\"url(#clip590)\" style=\"stroke:#000000; stroke-linecap:round; stroke-linejoin:round; stroke-width:4; stroke-opacity:1; fill:none\" points=\"\n",
       "  247.459,453.024 266.356,453.024 \n",
       "  \"/>\n",
       "<polyline clip-path=\"url(#clip590)\" style=\"stroke:#000000; stroke-linecap:round; stroke-linejoin:round; stroke-width:4; stroke-opacity:1; fill:none\" points=\"\n",
       "  247.459,227.987 266.356,227.987 \n",
       "  \"/>\n",
       "<path clip-path=\"url(#clip590)\" d=\"M144.422 1369.74 L144.422 1365.48 Q146.181 1366.31 147.987 1366.75 Q149.792 1367.19 151.528 1367.19 Q156.158 1367.19 158.589 1364.09 Q161.042 1360.96 161.39 1354.62 Q160.047 1356.61 157.987 1357.68 Q155.927 1358.74 153.427 1358.74 Q148.241 1358.74 145.209 1355.62 Q142.2 1352.47 142.2 1347.03 Q142.2 1341.7 145.348 1338.49 Q148.496 1335.27 153.728 1335.27 Q159.723 1335.27 162.871 1339.88 Q166.042 1344.46 166.042 1353.21 Q166.042 1361.38 162.153 1366.26 Q158.288 1371.13 151.737 1371.13 Q149.978 1371.13 148.172 1370.78 Q146.366 1370.43 144.422 1369.74 M153.728 1355.08 Q156.876 1355.08 158.704 1352.93 Q160.556 1350.78 160.556 1347.03 Q160.556 1343.3 158.704 1341.15 Q156.876 1338.97 153.728 1338.97 Q150.579 1338.97 148.728 1341.15 Q146.899 1343.3 146.899 1347.03 Q146.899 1350.78 148.728 1352.93 Q150.579 1355.08 153.728 1355.08 Z\" fill=\"#000000\" fill-rule=\"evenodd\" fill-opacity=\"1\" /><path clip-path=\"url(#clip590)\" d=\"M174.445 1364.57 L179.329 1364.57 L179.329 1370.45 L174.445 1370.45 L174.445 1364.57 Z\" fill=\"#000000\" fill-rule=\"evenodd\" fill-opacity=\"1\" /><path clip-path=\"url(#clip590)\" d=\"M199.514 1338.97 Q195.903 1338.97 194.075 1342.54 Q192.269 1346.08 192.269 1353.21 Q192.269 1360.32 194.075 1363.88 Q195.903 1367.42 199.514 1367.42 Q203.149 1367.42 204.954 1363.88 Q206.783 1360.32 206.783 1353.21 Q206.783 1346.08 204.954 1342.54 Q203.149 1338.97 199.514 1338.97 M199.514 1335.27 Q205.324 1335.27 208.38 1339.88 Q211.459 1344.46 211.459 1353.21 Q211.459 1361.94 208.38 1366.54 Q205.324 1371.13 199.514 1371.13 Q193.704 1371.13 190.625 1366.54 Q187.57 1361.94 187.57 1353.21 Q187.57 1344.46 190.625 1339.88 Q193.704 1335.27 199.514 1335.27 Z\" fill=\"#000000\" fill-rule=\"evenodd\" fill-opacity=\"1\" /><path clip-path=\"url(#clip590)\" d=\"M145.417 1144.7 L145.417 1140.44 Q147.177 1141.27 148.982 1141.71 Q150.788 1142.15 152.524 1142.15 Q157.153 1142.15 159.584 1139.05 Q162.038 1135.93 162.385 1129.58 Q161.042 1131.57 158.982 1132.64 Q156.922 1133.7 154.422 1133.7 Q149.237 1133.7 146.204 1130.58 Q143.195 1127.43 143.195 1121.99 Q143.195 1116.67 146.343 1113.45 Q149.491 1110.23 154.723 1110.23 Q160.718 1110.23 163.866 1114.84 Q167.038 1119.42 167.038 1128.17 Q167.038 1136.34 163.149 1141.23 Q159.283 1146.09 152.732 1146.09 Q150.973 1146.09 149.167 1145.74 Q147.362 1145.39 145.417 1144.7 M154.723 1130.05 Q157.871 1130.05 159.7 1127.89 Q161.552 1125.74 161.552 1121.99 Q161.552 1118.26 159.7 1116.11 Q157.871 1113.94 154.723 1113.94 Q151.575 1113.94 149.723 1116.11 Q147.894 1118.26 147.894 1121.99 Q147.894 1125.74 149.723 1127.89 Q151.575 1130.05 154.723 1130.05 Z\" fill=\"#000000\" fill-rule=\"evenodd\" fill-opacity=\"1\" /><path clip-path=\"url(#clip590)\" d=\"M175.44 1139.54 L180.325 1139.54 L180.325 1145.42 L175.44 1145.42 L175.44 1139.54 Z\" fill=\"#000000\" fill-rule=\"evenodd\" fill-opacity=\"1\" /><path clip-path=\"url(#clip590)\" d=\"M190.556 1110.86 L208.912 1110.86 L208.912 1114.79 L194.838 1114.79 L194.838 1123.26 Q195.857 1122.92 196.875 1122.76 Q197.894 1122.57 198.912 1122.57 Q204.699 1122.57 208.079 1125.74 Q211.459 1128.91 211.459 1134.33 Q211.459 1139.91 207.987 1143.01 Q204.514 1146.09 198.195 1146.09 Q196.019 1146.09 193.75 1145.72 Q191.505 1145.35 189.098 1144.61 L189.098 1139.91 Q191.181 1141.04 193.403 1141.6 Q195.625 1142.15 198.102 1142.15 Q202.107 1142.15 204.445 1140.05 Q206.783 1137.94 206.783 1134.33 Q206.783 1130.72 204.445 1128.61 Q202.107 1126.51 198.102 1126.51 Q196.227 1126.51 194.352 1126.92 Q192.5 1127.34 190.556 1128.22 L190.556 1110.86 Z\" fill=\"#000000\" fill-rule=\"evenodd\" fill-opacity=\"1\" /><path clip-path=\"url(#clip590)\" d=\"M114.931 916.444 L122.57 916.444 L122.57 890.079 L114.26 891.745 L114.26 887.486 L122.524 885.819 L127.2 885.819 L127.2 916.444 L134.839 916.444 L134.839 920.379 L114.931 920.379 L114.931 916.444 Z\" fill=\"#000000\" fill-rule=\"evenodd\" fill-opacity=\"1\" /><path clip-path=\"url(#clip590)\" d=\"M154.283 888.898 Q150.672 888.898 148.843 892.463 Q147.038 896.005 147.038 903.134 Q147.038 910.241 148.843 913.805 Q150.672 917.347 154.283 917.347 Q157.917 917.347 159.723 913.805 Q161.552 910.241 161.552 903.134 Q161.552 896.005 159.723 892.463 Q157.917 888.898 154.283 888.898 M154.283 885.194 Q160.093 885.194 163.149 889.801 Q166.227 894.384 166.227 903.134 Q166.227 911.861 163.149 916.467 Q160.093 921.051 154.283 921.051 Q148.473 921.051 145.394 916.467 Q142.339 911.861 142.339 903.134 Q142.339 894.384 145.394 889.801 Q148.473 885.194 154.283 885.194 Z\" fill=\"#000000\" fill-rule=\"evenodd\" fill-opacity=\"1\" /><path clip-path=\"url(#clip590)\" d=\"M174.445 914.5 L179.329 914.5 L179.329 920.379 L174.445 920.379 L174.445 914.5 Z\" fill=\"#000000\" fill-rule=\"evenodd\" fill-opacity=\"1\" /><path clip-path=\"url(#clip590)\" d=\"M199.514 888.898 Q195.903 888.898 194.075 892.463 Q192.269 896.005 192.269 903.134 Q192.269 910.241 194.075 913.805 Q195.903 917.347 199.514 917.347 Q203.149 917.347 204.954 913.805 Q206.783 910.241 206.783 903.134 Q206.783 896.005 204.954 892.463 Q203.149 888.898 199.514 888.898 M199.514 885.194 Q205.324 885.194 208.38 889.801 Q211.459 894.384 211.459 903.134 Q211.459 911.861 208.38 916.467 Q205.324 921.051 199.514 921.051 Q193.704 921.051 190.625 916.467 Q187.57 911.861 187.57 903.134 Q187.57 894.384 190.625 889.801 Q193.704 885.194 199.514 885.194 Z\" fill=\"#000000\" fill-rule=\"evenodd\" fill-opacity=\"1\" /><path clip-path=\"url(#clip590)\" d=\"M115.927 691.407 L123.566 691.407 L123.566 665.041 L115.256 666.708 L115.256 662.449 L123.519 660.782 L128.195 660.782 L128.195 691.407 L135.834 691.407 L135.834 695.342 L115.927 695.342 L115.927 691.407 Z\" fill=\"#000000\" fill-rule=\"evenodd\" fill-opacity=\"1\" /><path clip-path=\"url(#clip590)\" d=\"M155.278 663.861 Q151.667 663.861 149.839 667.425 Q148.033 670.967 148.033 678.097 Q148.033 685.203 149.839 688.768 Q151.667 692.309 155.278 692.309 Q158.913 692.309 160.718 688.768 Q162.547 685.203 162.547 678.097 Q162.547 670.967 160.718 667.425 Q158.913 663.861 155.278 663.861 M155.278 660.157 Q161.089 660.157 164.144 664.763 Q167.223 669.347 167.223 678.097 Q167.223 686.823 164.144 691.43 Q161.089 696.013 155.278 696.013 Q149.468 696.013 146.39 691.43 Q143.334 686.823 143.334 678.097 Q143.334 669.347 146.39 664.763 Q149.468 660.157 155.278 660.157 Z\" fill=\"#000000\" fill-rule=\"evenodd\" fill-opacity=\"1\" /><path clip-path=\"url(#clip590)\" d=\"M175.44 689.462 L180.325 689.462 L180.325 695.342 L175.44 695.342 L175.44 689.462 Z\" fill=\"#000000\" fill-rule=\"evenodd\" fill-opacity=\"1\" /><path clip-path=\"url(#clip590)\" d=\"M190.556 660.782 L208.912 660.782 L208.912 664.717 L194.838 664.717 L194.838 673.189 Q195.857 672.842 196.875 672.68 Q197.894 672.495 198.912 672.495 Q204.699 672.495 208.079 675.666 Q211.459 678.837 211.459 684.254 Q211.459 689.833 207.987 692.934 Q204.514 696.013 198.195 696.013 Q196.019 696.013 193.75 695.643 Q191.505 695.272 189.098 694.532 L189.098 689.833 Q191.181 690.967 193.403 691.522 Q195.625 692.078 198.102 692.078 Q202.107 692.078 204.445 689.972 Q206.783 687.865 206.783 684.254 Q206.783 680.643 204.445 678.536 Q202.107 676.43 198.102 676.43 Q196.227 676.43 194.352 676.847 Q192.5 677.263 190.556 678.143 L190.556 660.782 Z\" fill=\"#000000\" fill-rule=\"evenodd\" fill-opacity=\"1\" /><path clip-path=\"url(#clip590)\" d=\"M114.931 466.369 L122.57 466.369 L122.57 440.004 L114.26 441.67 L114.26 437.411 L122.524 435.744 L127.2 435.744 L127.2 466.369 L134.839 466.369 L134.839 470.304 L114.931 470.304 L114.931 466.369 Z\" fill=\"#000000\" fill-rule=\"evenodd\" fill-opacity=\"1\" /><path clip-path=\"url(#clip590)\" d=\"M145.093 466.369 L152.732 466.369 L152.732 440.004 L144.422 441.67 L144.422 437.411 L152.686 435.744 L157.362 435.744 L157.362 466.369 L165.001 466.369 L165.001 470.304 L145.093 470.304 L145.093 466.369 Z\" fill=\"#000000\" fill-rule=\"evenodd\" fill-opacity=\"1\" /><path clip-path=\"url(#clip590)\" d=\"M174.445 464.425 L179.329 464.425 L179.329 470.304 L174.445 470.304 L174.445 464.425 Z\" fill=\"#000000\" fill-rule=\"evenodd\" fill-opacity=\"1\" /><path clip-path=\"url(#clip590)\" d=\"M199.514 438.823 Q195.903 438.823 194.075 442.388 Q192.269 445.929 192.269 453.059 Q192.269 460.165 194.075 463.73 Q195.903 467.272 199.514 467.272 Q203.149 467.272 204.954 463.73 Q206.783 460.165 206.783 453.059 Q206.783 445.929 204.954 442.388 Q203.149 438.823 199.514 438.823 M199.514 435.119 Q205.324 435.119 208.38 439.726 Q211.459 444.309 211.459 453.059 Q211.459 461.786 208.38 466.392 Q205.324 470.976 199.514 470.976 Q193.704 470.976 190.625 466.392 Q187.57 461.786 187.57 453.059 Q187.57 444.309 190.625 439.726 Q193.704 435.119 199.514 435.119 Z\" fill=\"#000000\" fill-rule=\"evenodd\" fill-opacity=\"1\" /><path clip-path=\"url(#clip590)\" d=\"M115.927 241.332 L123.566 241.332 L123.566 214.966 L115.256 216.633 L115.256 212.373 L123.519 210.707 L128.195 210.707 L128.195 241.332 L135.834 241.332 L135.834 245.267 L115.927 245.267 L115.927 241.332 Z\" fill=\"#000000\" fill-rule=\"evenodd\" fill-opacity=\"1\" /><path clip-path=\"url(#clip590)\" d=\"M146.089 241.332 L153.728 241.332 L153.728 214.966 L145.417 216.633 L145.417 212.373 L153.681 210.707 L158.357 210.707 L158.357 241.332 L165.996 241.332 L165.996 245.267 L146.089 245.267 L146.089 241.332 Z\" fill=\"#000000\" fill-rule=\"evenodd\" fill-opacity=\"1\" /><path clip-path=\"url(#clip590)\" d=\"M175.44 239.387 L180.325 239.387 L180.325 245.267 L175.44 245.267 L175.44 239.387 Z\" fill=\"#000000\" fill-rule=\"evenodd\" fill-opacity=\"1\" /><path clip-path=\"url(#clip590)\" d=\"M190.556 210.707 L208.912 210.707 L208.912 214.642 L194.838 214.642 L194.838 223.114 Q195.857 222.767 196.875 222.605 Q197.894 222.42 198.912 222.42 Q204.699 222.42 208.079 225.591 Q211.459 228.762 211.459 234.179 Q211.459 239.758 207.987 242.859 Q204.514 245.938 198.195 245.938 Q196.019 245.938 193.75 245.568 Q191.505 245.197 189.098 244.457 L189.098 239.758 Q191.181 240.892 193.403 241.447 Q195.625 242.003 198.102 242.003 Q202.107 242.003 204.445 239.896 Q206.783 237.79 206.783 234.179 Q206.783 230.568 204.445 228.461 Q202.107 226.355 198.102 226.355 Q196.227 226.355 194.352 226.771 Q192.5 227.188 190.556 228.068 L190.556 210.707 Z\" fill=\"#000000\" fill-rule=\"evenodd\" fill-opacity=\"1\" /><path clip-path=\"url(#clip590)\" d=\"M22.818 1126.31 L46.4666 1135.03 L46.4666 1117.55 L22.818 1126.31 M16.4842 1129.93 L16.4842 1122.65 L64.0042 1104.54 L64.0042 1111.22 L51.8138 1115.55 L51.8138 1136.97 L64.0042 1141.3 L64.0042 1148.08 L16.4842 1129.93 Z\" fill=\"#000000\" fill-rule=\"evenodd\" fill-opacity=\"1\" /><path clip-path=\"url(#clip590)\" d=\"M28.3562 1105.87 L28.3562 1099.67 L58.275 1088.53 L28.3562 1077.39 L28.3562 1071.18 L64.0042 1084.55 L64.0042 1092.5 L28.3562 1105.87 Z\" fill=\"#000000\" fill-rule=\"evenodd\" fill-opacity=\"1\" /><path clip-path=\"url(#clip590)\" d=\"M44.7161 1032.6 L47.5806 1032.6 L47.5806 1059.53 Q53.6281 1059.15 56.8109 1055.9 Q59.9619 1052.62 59.9619 1046.8 Q59.9619 1043.42 59.1344 1040.27 Q58.3069 1037.09 56.6518 1033.97 L62.1899 1033.97 Q63.5267 1037.12 64.227 1040.43 Q64.9272 1043.74 64.9272 1047.15 Q64.9272 1055.68 59.9619 1060.68 Q54.9967 1065.64 46.5303 1065.64 Q37.7774 1065.64 32.6531 1060.93 Q27.4968 1056.19 27.4968 1048.17 Q27.4968 1040.97 32.1438 1036.8 Q36.7589 1032.6 44.7161 1032.6 M42.9973 1038.46 Q38.1912 1038.52 35.3266 1041.17 Q32.4621 1043.77 32.4621 1048.1 Q32.4621 1053.01 35.2312 1055.97 Q38.0002 1058.89 43.0292 1059.34 L42.9973 1038.46 Z\" fill=\"#000000\" fill-rule=\"evenodd\" fill-opacity=\"1\" /><path clip-path=\"url(#clip590)\" d=\"M33.8307 1002.33 Q33.2578 1003.32 33.0032 1004.5 Q32.7167 1005.64 32.7167 1007.04 Q32.7167 1012.01 35.9632 1014.68 Q39.1779 1017.33 45.2253 1017.33 L64.0042 1017.33 L64.0042 1023.21 L28.3562 1023.21 L28.3562 1017.33 L33.8944 1017.33 Q30.6479 1015.48 29.0883 1012.52 Q27.4968 1009.56 27.4968 1005.33 Q27.4968 1004.72 27.5923 1003.99 Q27.656 1003.26 27.8151 1002.37 L33.8307 1002.33 Z\" fill=\"#000000\" fill-rule=\"evenodd\" fill-opacity=\"1\" /><path clip-path=\"url(#clip590)\" d=\"M46.0847 979.991 Q46.0847 987.088 47.7079 989.826 Q49.3312 992.563 53.2461 992.563 Q56.3653 992.563 58.2114 990.526 Q60.0256 988.457 60.0256 984.924 Q60.0256 980.054 56.5881 977.126 Q53.1188 974.166 47.3897 974.166 L46.0847 974.166 L46.0847 979.991 M43.6657 968.31 L64.0042 968.31 L64.0042 974.166 L58.5933 974.166 Q61.8398 976.171 63.3994 979.163 Q64.9272 982.155 64.9272 986.484 Q64.9272 991.958 61.8716 995.205 Q58.7843 998.419 53.6281 998.419 Q47.6125 998.419 44.5569 994.409 Q41.5014 990.367 41.5014 982.378 L41.5014 974.166 L40.9285 974.166 Q36.8862 974.166 34.6901 976.84 Q32.4621 979.481 32.4621 984.287 Q32.4621 987.343 33.1941 990.239 Q33.9262 993.136 35.3903 995.809 L29.9795 995.809 Q28.7381 992.595 28.1334 989.571 Q27.4968 986.547 27.4968 983.683 Q27.4968 975.948 31.5072 972.129 Q35.5176 968.31 43.6657 968.31 Z\" fill=\"#000000\" fill-rule=\"evenodd\" fill-opacity=\"1\" /><path clip-path=\"url(#clip590)\" d=\"M45.7664 932.789 Q39.4007 932.789 35.8996 935.431 Q32.3984 938.041 32.3984 942.783 Q32.3984 947.494 35.8996 950.135 Q39.4007 952.745 45.7664 952.745 Q52.1003 952.745 55.6014 950.135 Q59.1026 947.494 59.1026 942.783 Q59.1026 938.041 55.6014 935.431 Q52.1003 932.789 45.7664 932.789 M59.58 926.932 Q68.683 926.932 73.1071 930.975 Q77.5631 935.017 77.5631 943.356 Q77.5631 946.443 77.0857 949.181 Q76.6401 951.918 75.6852 954.496 L69.9879 954.496 Q71.3884 951.918 72.0568 949.403 Q72.7252 946.889 72.7252 944.279 Q72.7252 938.518 69.7015 935.653 Q66.7096 932.789 60.6303 932.789 L57.7339 932.789 Q60.885 934.603 62.4446 937.436 Q64.0042 940.269 64.0042 944.215 Q64.0042 950.772 59.0071 954.782 Q54.01 958.793 45.7664 958.793 Q37.491 958.793 32.4939 954.782 Q27.4968 950.772 27.4968 944.215 Q27.4968 940.269 29.0564 937.436 Q30.616 934.603 33.7671 932.789 L28.3562 932.789 L28.3562 926.932 L59.58 926.932 Z\" fill=\"#000000\" fill-rule=\"evenodd\" fill-opacity=\"1\" /><path clip-path=\"url(#clip590)\" d=\"M44.7161 884.378 L47.5806 884.378 L47.5806 911.305 Q53.6281 910.923 56.8109 907.676 Q59.9619 904.398 59.9619 898.573 Q59.9619 895.199 59.1344 892.048 Q58.3069 888.866 56.6518 885.746 L62.1899 885.746 Q63.5267 888.897 64.227 892.208 Q64.9272 895.518 64.9272 898.923 Q64.9272 907.453 59.9619 912.45 Q54.9967 917.416 46.5303 917.416 Q37.7774 917.416 32.6531 912.705 Q27.4968 907.963 27.4968 899.942 Q27.4968 892.749 32.1438 888.579 Q36.7589 884.378 44.7161 884.378 M42.9973 890.234 Q38.1912 890.298 35.3266 892.94 Q32.4621 895.55 32.4621 899.878 Q32.4621 904.78 35.2312 907.74 Q38.0002 910.668 43.0292 911.114 L42.9973 890.234 Z\" fill=\"#000000\" fill-rule=\"evenodd\" fill-opacity=\"1\" /><path clip-path=\"url(#clip590)\" d=\"M20.1444 818.206 L26.9239 818.206 Q23.9002 821.453 22.4043 825.145 Q20.9083 828.805 20.9083 832.943 Q20.9083 841.091 25.9054 845.42 Q30.8707 849.748 40.2919 849.748 Q49.6813 849.748 54.6784 845.42 Q59.6436 841.091 59.6436 832.943 Q59.6436 828.805 58.1477 825.145 Q56.6518 821.453 53.6281 818.206 L60.3439 818.206 Q62.6355 821.58 63.7814 825.368 Q64.9272 829.123 64.9272 833.325 Q64.9272 844.115 58.3387 850.321 Q51.7183 856.528 40.2919 856.528 Q28.8336 856.528 22.2451 850.321 Q15.6248 844.115 15.6248 833.325 Q15.6248 829.06 16.7706 825.304 Q17.8846 821.516 20.1444 818.206 Z\" fill=\"#000000\" fill-rule=\"evenodd\" fill-opacity=\"1\" /><path clip-path=\"url(#clip590)\" d=\"M32.4621 794.717 Q32.4621 799.427 36.1542 802.165 Q39.8145 804.902 46.212 804.902 Q52.6095 804.902 56.3017 802.196 Q59.9619 799.459 59.9619 794.717 Q59.9619 790.038 56.2698 787.301 Q52.5777 784.563 46.212 784.563 Q39.8781 784.563 36.186 787.301 Q32.4621 790.038 32.4621 794.717 M27.4968 794.717 Q27.4968 787.078 32.4621 782.717 Q37.4273 778.357 46.212 778.357 Q54.9649 778.357 59.9619 782.717 Q64.9272 787.078 64.9272 794.717 Q64.9272 802.387 59.9619 806.748 Q54.9649 811.077 46.212 811.077 Q37.4273 811.077 32.4621 806.748 Q27.4968 802.387 27.4968 794.717 Z\" fill=\"#000000\" fill-rule=\"evenodd\" fill-opacity=\"1\" /><path clip-path=\"url(#clip590)\" d=\"M35.1993 740.895 Q31.2526 738.698 29.3747 735.643 Q27.4968 732.587 27.4968 728.45 Q27.4968 722.88 31.4117 719.856 Q35.2948 716.832 42.4881 716.832 L64.0042 716.832 L64.0042 722.721 L42.679 722.721 Q37.5546 722.721 35.072 724.535 Q32.5894 726.349 32.5894 730.073 Q32.5894 734.624 35.6131 737.266 Q38.6368 739.908 43.8567 739.908 L64.0042 739.908 L64.0042 745.796 L42.679 745.796 Q37.5228 745.796 35.072 747.61 Q32.5894 749.425 32.5894 753.212 Q32.5894 757.7 35.6449 760.342 Q38.6686 762.984 43.8567 762.984 L64.0042 762.984 L64.0042 768.872 L28.3562 768.872 L28.3562 762.984 L33.8944 762.984 Q30.616 760.978 29.0564 758.178 Q27.4968 755.377 27.4968 751.525 Q27.4968 747.642 29.4702 744.937 Q31.4436 742.2 35.1993 740.895 Z\" fill=\"#000000\" fill-rule=\"evenodd\" fill-opacity=\"1\" /><path clip-path=\"url(#clip590)\" d=\"M58.657 699.486 L77.5631 699.486 L77.5631 705.374 L28.3562 705.374 L28.3562 699.486 L33.7671 699.486 Q30.5842 697.64 29.0564 694.839 Q27.4968 692.006 27.4968 688.091 Q27.4968 681.598 32.6531 677.556 Q37.8093 673.482 46.212 673.482 Q54.6147 673.482 59.771 677.556 Q64.9272 681.598 64.9272 688.091 Q64.9272 692.006 63.3994 694.839 Q61.8398 697.64 58.657 699.486 M46.212 679.561 Q39.7508 679.561 36.0905 682.235 Q32.3984 684.876 32.3984 689.523 Q32.3984 694.17 36.0905 696.844 Q39.7508 699.486 46.212 699.486 Q52.6732 699.486 56.3653 696.844 Q60.0256 694.17 60.0256 689.523 Q60.0256 684.876 56.3653 682.235 Q52.6732 679.561 46.212 679.561 Z\" fill=\"#000000\" fill-rule=\"evenodd\" fill-opacity=\"1\" /><path clip-path=\"url(#clip590)\" d=\"M14.479 663.774 L14.479 657.918 L64.0042 657.918 L64.0042 663.774 L14.479 663.774 Z\" fill=\"#000000\" fill-rule=\"evenodd\" fill-opacity=\"1\" /><path clip-path=\"url(#clip590)\" d=\"M44.7161 615.172 L47.5806 615.172 L47.5806 642.099 Q53.6281 641.717 56.8109 638.47 Q59.9619 635.192 59.9619 629.367 Q59.9619 625.994 59.1344 622.843 Q58.3069 619.66 56.6518 616.541 L62.1899 616.541 Q63.5267 619.692 64.227 623.002 Q64.9272 626.312 64.9272 629.718 Q64.9272 638.248 59.9619 643.245 Q54.9967 648.21 46.5303 648.21 Q37.7774 648.21 32.6531 643.499 Q27.4968 638.757 27.4968 630.736 Q27.4968 623.543 32.1438 619.373 Q36.7589 615.172 44.7161 615.172 M42.9973 621.028 Q38.1912 621.092 35.3266 623.734 Q32.4621 626.344 32.4621 630.672 Q32.4621 635.574 35.2312 638.534 Q38.0002 641.462 43.0292 641.908 L42.9973 621.028 Z\" fill=\"#000000\" fill-rule=\"evenodd\" fill-opacity=\"1\" /><path clip-path=\"url(#clip590)\" d=\"M18.2347 599.767 L28.3562 599.767 L28.3562 587.704 L32.9077 587.704 L32.9077 599.767 L52.2594 599.767 Q56.6199 599.767 57.8613 598.589 Q59.1026 597.38 59.1026 593.72 L59.1026 587.704 L64.0042 587.704 L64.0042 593.72 Q64.0042 600.499 61.4897 603.077 Q58.9434 605.655 52.2594 605.655 L32.9077 605.655 L32.9077 609.952 L28.3562 609.952 L28.3562 605.655 L18.2347 605.655 L18.2347 599.767 Z\" fill=\"#000000\" fill-rule=\"evenodd\" fill-opacity=\"1\" /><path clip-path=\"url(#clip590)\" d=\"M28.3562 580.001 L28.3562 574.145 L64.0042 574.145 L64.0042 580.001 L28.3562 580.001 M14.479 580.001 L14.479 574.145 L21.895 574.145 L21.895 580.001 L14.479 580.001 Z\" fill=\"#000000\" fill-rule=\"evenodd\" fill-opacity=\"1\" /><path clip-path=\"url(#clip590)\" d=\"M32.4621 548.077 Q32.4621 552.788 36.1542 555.525 Q39.8145 558.263 46.212 558.263 Q52.6095 558.263 56.3017 555.557 Q59.9619 552.82 59.9619 548.077 Q59.9619 543.399 56.2698 540.661 Q52.5777 537.924 46.212 537.924 Q39.8781 537.924 36.186 540.661 Q32.4621 543.399 32.4621 548.077 M27.4968 548.077 Q27.4968 540.439 32.4621 536.078 Q37.4273 531.718 46.212 531.718 Q54.9649 531.718 59.9619 536.078 Q64.9272 540.439 64.9272 548.077 Q64.9272 555.748 59.9619 560.109 Q54.9649 564.437 46.212 564.437 Q37.4273 564.437 32.4621 560.109 Q27.4968 555.748 27.4968 548.077 Z\" fill=\"#000000\" fill-rule=\"evenodd\" fill-opacity=\"1\" /><path clip-path=\"url(#clip590)\" d=\"M42.4881 492.377 L64.0042 492.377 L64.0042 498.234 L42.679 498.234 Q37.6183 498.234 35.1038 500.207 Q32.5894 502.181 32.5894 506.127 Q32.5894 510.87 35.6131 513.607 Q38.6368 516.344 43.8567 516.344 L64.0042 516.344 L64.0042 522.233 L28.3562 522.233 L28.3562 516.344 L33.8944 516.344 Q30.6797 514.244 29.0883 511.411 Q27.4968 508.546 27.4968 504.822 Q27.4968 498.68 31.3163 495.529 Q35.1038 492.377 42.4881 492.377 Z\" fill=\"#000000\" fill-rule=\"evenodd\" fill-opacity=\"1\" /><path clip-path=\"url(#clip590)\" d=\"M16.4842 466.31 L16.4842 426.11 L21.895 426.11 L21.895 442.98 L64.0042 442.98 L64.0042 449.441 L21.895 449.441 L21.895 466.31 L16.4842 466.31 Z\" fill=\"#000000\" fill-rule=\"evenodd\" fill-opacity=\"1\" /><path clip-path=\"url(#clip590)\" d=\"M28.3562 422.164 L28.3562 416.307 L64.0042 416.307 L64.0042 422.164 L28.3562 422.164 M14.479 422.164 L14.479 416.307 L21.895 416.307 L21.895 422.164 L14.479 422.164 Z\" fill=\"#000000\" fill-rule=\"evenodd\" fill-opacity=\"1\" /><path clip-path=\"url(#clip590)\" d=\"M35.1993 376.299 Q31.2526 374.103 29.3747 371.047 Q27.4968 367.992 27.4968 363.854 Q27.4968 358.284 31.4117 355.26 Q35.2948 352.236 42.4881 352.236 L64.0042 352.236 L64.0042 358.125 L42.679 358.125 Q37.5546 358.125 35.072 359.939 Q32.5894 361.753 32.5894 365.477 Q32.5894 370.029 35.6131 372.67 Q38.6368 375.312 43.8567 375.312 L64.0042 375.312 L64.0042 381.2 L42.679 381.2 Q37.5228 381.2 35.072 383.015 Q32.5894 384.829 32.5894 388.616 Q32.5894 393.104 35.6449 395.746 Q38.6686 398.388 43.8567 398.388 L64.0042 398.388 L64.0042 404.276 L28.3562 404.276 L28.3562 398.388 L33.8944 398.388 Q30.616 396.383 29.0564 393.582 Q27.4968 390.781 27.4968 386.93 Q27.4968 383.046 29.4702 380.341 Q31.4436 377.604 35.1993 376.299 Z\" fill=\"#000000\" fill-rule=\"evenodd\" fill-opacity=\"1\" /><path clip-path=\"url(#clip590)\" d=\"M44.7161 310.064 L47.5806 310.064 L47.5806 336.991 Q53.6281 336.609 56.8109 333.362 Q59.9619 330.084 59.9619 324.259 Q59.9619 320.885 59.1344 317.734 Q58.3069 314.551 56.6518 311.432 L62.1899 311.432 Q63.5267 314.583 64.227 317.893 Q64.9272 321.204 64.9272 324.609 Q64.9272 333.139 59.9619 338.136 Q54.9967 343.102 46.5303 343.102 Q37.7774 343.102 32.6531 338.391 Q27.4968 333.649 27.4968 325.628 Q27.4968 318.435 32.1438 314.265 Q36.7589 310.064 44.7161 310.064 M42.9973 315.92 Q38.1912 315.984 35.3266 318.626 Q32.4621 321.235 32.4621 325.564 Q32.4621 330.466 35.2312 333.426 Q38.0002 336.354 43.0292 336.8 L42.9973 315.92 Z\" fill=\"#000000\" fill-rule=\"evenodd\" fill-opacity=\"1\" /><polyline clip-path=\"url(#clip592)\" style=\"stroke:#009af9; stroke-linecap:round; stroke-linejoin:round; stroke-width:4; stroke-opacity:1; fill:none\" points=\"\n",
       "  307.043,671.311 411.576,85.838 516.109,500.748 620.642,696.44 725.175,575.67 829.708,1001.65 934.241,1114.63 1038.77,466.902 1143.31,813.084 1247.84,1356.18 \n",
       "  1352.37,1172.77 1456.91,1256.78 1561.44,1242.91 1665.97,1308.54 1770.51,1277.79 1875.04,1372.3 1979.57,1365.98 2084.11,1309.67 2188.64,847.59 2293.17,868.568 \n",
       "  \n",
       "  \"/>\n",
       "</svg>\n"
      ]
     },
     "execution_count": 100,
     "metadata": {},
     "output_type": "execute_result"
    }
   ],
   "source": [
    "plot(iterations, avg_compl_time, xlabel=\"Iterations\", ylabel=\"Average Completion Time\", legend = false, xformatter = :scientific)"
   ]
  },
  {
   "cell_type": "code",
   "execution_count": 101,
   "id": "4739f3dc",
   "metadata": {},
   "outputs": [
    {
     "data": {
      "text/plain": [
       "\"/home/larissa/Documents/Projects/ADLR/ADLR_project/src/RL_PPO_quadcopter_3D/office_test/plots/fast/best_comp_time.svg\""
      ]
     },
     "execution_count": 101,
     "metadata": {},
     "output_type": "execute_result"
    }
   ],
   "source": [
    "savefig(fig_path * \"best_comp_time.svg\")"
   ]
  },
  {
   "cell_type": "code",
   "execution_count": 102,
   "id": "afd10625",
   "metadata": {},
   "outputs": [
    {
     "data": {
      "image/svg+xml": [
       "<?xml version=\"1.0\" encoding=\"utf-8\"?>\n",
       "<svg xmlns=\"http://www.w3.org/2000/svg\" xmlns:xlink=\"http://www.w3.org/1999/xlink\" width=\"600\" height=\"400\" viewBox=\"0 0 2400 1600\">\n",
       "<defs>\n",
       "  <clipPath id=\"clip670\">\n",
       "    <rect x=\"0\" y=\"0\" width=\"2400\" height=\"1600\"/>\n",
       "  </clipPath>\n",
       "</defs>\n",
       "<path clip-path=\"url(#clip670)\" d=\"\n",
       "M0 1600 L2400 1600 L2400 0 L0 0  Z\n",
       "  \" fill=\"#ffffff\" fill-rule=\"evenodd\" fill-opacity=\"1\"/>\n",
       "<defs>\n",
       "  <clipPath id=\"clip671\">\n",
       "    <rect x=\"480\" y=\"0\" width=\"1681\" height=\"1600\"/>\n",
       "  </clipPath>\n",
       "</defs>\n",
       "<path clip-path=\"url(#clip670)\" d=\"\n",
       "M247.459 1410.9 L2352.76 1410.9 L2352.76 47.2441 L247.459 47.2441  Z\n",
       "  \" fill=\"#ffffff\" fill-rule=\"evenodd\" fill-opacity=\"1\"/>\n",
       "<defs>\n",
       "  <clipPath id=\"clip672\">\n",
       "    <rect x=\"247\" y=\"47\" width=\"2106\" height=\"1365\"/>\n",
       "  </clipPath>\n",
       "</defs>\n",
       "<polyline clip-path=\"url(#clip672)\" style=\"stroke:#000000; stroke-linecap:round; stroke-linejoin:round; stroke-width:2; stroke-opacity:0.1; fill:none\" points=\"\n",
       "  725.175,1410.9 725.175,47.2441 \n",
       "  \"/>\n",
       "<polyline clip-path=\"url(#clip672)\" style=\"stroke:#000000; stroke-linecap:round; stroke-linejoin:round; stroke-width:2; stroke-opacity:0.1; fill:none\" points=\"\n",
       "  1247.84,1410.9 1247.84,47.2441 \n",
       "  \"/>\n",
       "<polyline clip-path=\"url(#clip672)\" style=\"stroke:#000000; stroke-linecap:round; stroke-linejoin:round; stroke-width:2; stroke-opacity:0.1; fill:none\" points=\"\n",
       "  1770.51,1410.9 1770.51,47.2441 \n",
       "  \"/>\n",
       "<polyline clip-path=\"url(#clip672)\" style=\"stroke:#000000; stroke-linecap:round; stroke-linejoin:round; stroke-width:2; stroke-opacity:0.1; fill:none\" points=\"\n",
       "  2293.17,1410.9 2293.17,47.2441 \n",
       "  \"/>\n",
       "<polyline clip-path=\"url(#clip670)\" style=\"stroke:#000000; stroke-linecap:round; stroke-linejoin:round; stroke-width:4; stroke-opacity:1; fill:none\" points=\"\n",
       "  247.459,1410.9 2352.76,1410.9 \n",
       "  \"/>\n",
       "<polyline clip-path=\"url(#clip670)\" style=\"stroke:#000000; stroke-linecap:round; stroke-linejoin:round; stroke-width:4; stroke-opacity:1; fill:none\" points=\"\n",
       "  725.175,1410.9 725.175,1392 \n",
       "  \"/>\n",
       "<polyline clip-path=\"url(#clip670)\" style=\"stroke:#000000; stroke-linecap:round; stroke-linejoin:round; stroke-width:4; stroke-opacity:1; fill:none\" points=\"\n",
       "  1247.84,1410.9 1247.84,1392 \n",
       "  \"/>\n",
       "<polyline clip-path=\"url(#clip670)\" style=\"stroke:#000000; stroke-linecap:round; stroke-linejoin:round; stroke-width:4; stroke-opacity:1; fill:none\" points=\"\n",
       "  1770.51,1410.9 1770.51,1392 \n",
       "  \"/>\n",
       "<polyline clip-path=\"url(#clip670)\" style=\"stroke:#000000; stroke-linecap:round; stroke-linejoin:round; stroke-width:4; stroke-opacity:1; fill:none\" points=\"\n",
       "  2293.17,1410.9 2293.17,1392 \n",
       "  \"/>\n",
       "<path clip-path=\"url(#clip670)\" d=\"M618.152 1454.4 L636.508 1454.4 L636.508 1458.33 L622.434 1458.33 L622.434 1466.8 Q623.453 1466.46 624.471 1466.29 Q625.49 1466.11 626.508 1466.11 Q632.295 1466.11 635.675 1469.28 Q639.054 1472.45 639.054 1477.87 Q639.054 1483.45 635.582 1486.55 Q632.11 1489.63 625.791 1489.63 Q623.615 1489.63 621.346 1489.26 Q619.101 1488.89 616.693 1488.15 L616.693 1483.45 Q618.777 1484.58 620.999 1485.14 Q623.221 1485.69 625.698 1485.69 Q629.703 1485.69 632.04 1483.59 Q634.378 1481.48 634.378 1477.87 Q634.378 1474.26 632.04 1472.15 Q629.703 1470.04 625.698 1470.04 Q623.823 1470.04 621.948 1470.46 Q620.096 1470.88 618.152 1471.76 L618.152 1454.4 Z\" fill=\"#000000\" fill-rule=\"evenodd\" fill-opacity=\"1\" /><path clip-path=\"url(#clip670)\" d=\"M648.267 1483.08 L653.151 1483.08 L653.151 1488.96 L648.267 1488.96 L648.267 1483.08 Z\" fill=\"#000000\" fill-rule=\"evenodd\" fill-opacity=\"1\" /><path clip-path=\"url(#clip670)\" d=\"M673.337 1457.48 Q669.725 1457.48 667.897 1461.04 Q666.091 1464.58 666.091 1471.71 Q666.091 1478.82 667.897 1482.38 Q669.725 1485.92 673.337 1485.92 Q676.971 1485.92 678.776 1482.38 Q680.605 1478.82 680.605 1471.71 Q680.605 1464.58 678.776 1461.04 Q676.971 1457.48 673.337 1457.48 M673.337 1453.77 Q679.147 1453.77 682.202 1458.38 Q685.281 1462.96 685.281 1471.71 Q685.281 1480.44 682.202 1485.04 Q679.147 1489.63 673.337 1489.63 Q667.526 1489.63 664.448 1485.04 Q661.392 1480.44 661.392 1471.71 Q661.392 1462.96 664.448 1458.38 Q667.526 1453.77 673.337 1453.77 Z\" fill=\"#000000\" fill-rule=\"evenodd\" fill-opacity=\"1\" /><path clip-path=\"url(#clip670)\" d=\"M703.498 1457.48 Q699.887 1457.48 698.059 1461.04 Q696.253 1464.58 696.253 1471.71 Q696.253 1478.82 698.059 1482.38 Q699.887 1485.92 703.498 1485.92 Q707.133 1485.92 708.938 1482.38 Q710.767 1478.82 710.767 1471.71 Q710.767 1464.58 708.938 1461.04 Q707.133 1457.48 703.498 1457.48 M703.498 1453.77 Q709.309 1453.77 712.364 1458.38 Q715.443 1462.96 715.443 1471.71 Q715.443 1480.44 712.364 1485.04 Q709.309 1489.63 703.498 1489.63 Q697.688 1489.63 694.61 1485.04 Q691.554 1480.44 691.554 1471.71 Q691.554 1462.96 694.61 1458.38 Q697.688 1453.77 703.498 1453.77 Z\" fill=\"#000000\" fill-rule=\"evenodd\" fill-opacity=\"1\" /><path clip-path=\"url(#clip670)\" d=\"M751.832 1463.49 L741.253 1474.12 L751.832 1484.7 L749.077 1487.5 L738.452 1476.87 L727.827 1487.5 L725.096 1484.7 L735.651 1474.12 L725.096 1463.49 L727.827 1460.69 L738.452 1471.32 L749.077 1460.69 L751.832 1463.49 Z\" fill=\"#000000\" fill-rule=\"evenodd\" fill-opacity=\"1\" /><path clip-path=\"url(#clip670)\" d=\"M764.193 1485.02 L771.831 1485.02 L771.831 1458.66 L763.521 1460.32 L763.521 1456.06 L771.785 1454.4 L776.461 1454.4 L776.461 1485.02 L784.1 1485.02 L784.1 1488.96 L764.193 1488.96 L764.193 1485.02 Z\" fill=\"#000000\" fill-rule=\"evenodd\" fill-opacity=\"1\" /><path clip-path=\"url(#clip670)\" d=\"M803.544 1457.48 Q799.933 1457.48 798.104 1461.04 Q796.299 1464.58 796.299 1471.71 Q796.299 1478.82 798.104 1482.38 Q799.933 1485.92 803.544 1485.92 Q807.178 1485.92 808.984 1482.38 Q810.813 1478.82 810.813 1471.71 Q810.813 1464.58 808.984 1461.04 Q807.178 1457.48 803.544 1457.48 M803.544 1453.77 Q809.354 1453.77 812.41 1458.38 Q815.489 1462.96 815.489 1471.71 Q815.489 1480.44 812.41 1485.04 Q809.354 1489.63 803.544 1489.63 Q797.734 1489.63 794.655 1485.04 Q791.6 1480.44 791.6 1471.71 Q791.6 1462.96 794.655 1458.38 Q797.734 1453.77 803.544 1453.77 Z\" fill=\"#000000\" fill-rule=\"evenodd\" fill-opacity=\"1\" /><path clip-path=\"url(#clip670)\" d=\"M816.673 1433.47 L831.588 1433.47 L831.588 1436.66 L820.153 1436.66 L820.153 1443.55 Q820.98 1443.27 821.808 1443.13 Q822.636 1442.98 823.463 1442.98 Q828.165 1442.98 830.911 1445.56 Q833.657 1448.14 833.657 1452.54 Q833.657 1457.07 830.836 1459.59 Q828.015 1462.09 822.88 1462.09 Q821.112 1462.09 819.269 1461.79 Q817.445 1461.49 815.489 1460.89 L815.489 1457.07 Q817.181 1457.99 818.987 1458.44 Q820.792 1458.89 822.805 1458.89 Q826.059 1458.89 827.958 1457.18 Q829.858 1455.47 829.858 1452.54 Q829.858 1449.6 827.958 1447.89 Q826.059 1446.18 822.805 1446.18 Q821.281 1446.18 819.758 1446.52 Q818.253 1446.86 816.673 1447.57 L816.673 1433.47 Z\" fill=\"#000000\" fill-rule=\"evenodd\" fill-opacity=\"1\" /><path clip-path=\"url(#clip670)\" d=\"M1140.19 1485.02 L1147.83 1485.02 L1147.83 1458.66 L1139.52 1460.32 L1139.52 1456.06 L1147.79 1454.4 L1152.46 1454.4 L1152.46 1485.02 L1160.1 1485.02 L1160.1 1488.96 L1140.19 1488.96 L1140.19 1485.02 Z\" fill=\"#000000\" fill-rule=\"evenodd\" fill-opacity=\"1\" /><path clip-path=\"url(#clip670)\" d=\"M1169.55 1483.08 L1174.43 1483.08 L1174.43 1488.96 L1169.55 1488.96 L1169.55 1483.08 Z\" fill=\"#000000\" fill-rule=\"evenodd\" fill-opacity=\"1\" /><path clip-path=\"url(#clip670)\" d=\"M1194.62 1457.48 Q1191 1457.48 1189.18 1461.04 Q1187.37 1464.58 1187.37 1471.71 Q1187.37 1478.82 1189.18 1482.38 Q1191 1485.92 1194.62 1485.92 Q1198.25 1485.92 1200.06 1482.38 Q1201.88 1478.82 1201.88 1471.71 Q1201.88 1464.58 1200.06 1461.04 Q1198.25 1457.48 1194.62 1457.48 M1194.62 1453.77 Q1200.43 1453.77 1203.48 1458.38 Q1206.56 1462.96 1206.56 1471.71 Q1206.56 1480.44 1203.48 1485.04 Q1200.43 1489.63 1194.62 1489.63 Q1188.81 1489.63 1185.73 1485.04 Q1182.67 1480.44 1182.67 1471.71 Q1182.67 1462.96 1185.73 1458.38 Q1188.81 1453.77 1194.62 1453.77 Z\" fill=\"#000000\" fill-rule=\"evenodd\" fill-opacity=\"1\" /><path clip-path=\"url(#clip670)\" d=\"M1224.78 1457.48 Q1221.17 1457.48 1219.34 1461.04 Q1217.53 1464.58 1217.53 1471.71 Q1217.53 1478.82 1219.34 1482.38 Q1221.17 1485.92 1224.78 1485.92 Q1228.41 1485.92 1230.22 1482.38 Q1232.05 1478.82 1232.05 1471.71 Q1232.05 1464.58 1230.22 1461.04 Q1228.41 1457.48 1224.78 1457.48 M1224.78 1453.77 Q1230.59 1453.77 1233.64 1458.38 Q1236.72 1462.96 1236.72 1471.71 Q1236.72 1480.44 1233.64 1485.04 Q1230.59 1489.63 1224.78 1489.63 Q1218.97 1489.63 1215.89 1485.04 Q1212.83 1480.44 1212.83 1471.71 Q1212.83 1462.96 1215.89 1458.38 Q1218.97 1453.77 1224.78 1453.77 Z\" fill=\"#000000\" fill-rule=\"evenodd\" fill-opacity=\"1\" /><path clip-path=\"url(#clip670)\" d=\"M1273.11 1463.49 L1262.53 1474.12 L1273.11 1484.7 L1270.36 1487.5 L1259.73 1476.87 L1249.11 1487.5 L1246.37 1484.7 L1256.93 1474.12 L1246.37 1463.49 L1249.11 1460.69 L1259.73 1471.32 L1270.36 1460.69 L1273.11 1463.49 Z\" fill=\"#000000\" fill-rule=\"evenodd\" fill-opacity=\"1\" /><path clip-path=\"url(#clip670)\" d=\"M1285.47 1485.02 L1293.11 1485.02 L1293.11 1458.66 L1284.8 1460.32 L1284.8 1456.06 L1293.06 1454.4 L1297.74 1454.4 L1297.74 1485.02 L1305.38 1485.02 L1305.38 1488.96 L1285.47 1488.96 L1285.47 1485.02 Z\" fill=\"#000000\" fill-rule=\"evenodd\" fill-opacity=\"1\" /><path clip-path=\"url(#clip670)\" d=\"M1324.82 1457.48 Q1321.21 1457.48 1319.38 1461.04 Q1317.58 1464.58 1317.58 1471.71 Q1317.58 1478.82 1319.38 1482.38 Q1321.21 1485.92 1324.82 1485.92 Q1328.46 1485.92 1330.26 1482.38 Q1332.09 1478.82 1332.09 1471.71 Q1332.09 1464.58 1330.26 1461.04 Q1328.46 1457.48 1324.82 1457.48 M1324.82 1453.77 Q1330.63 1453.77 1333.69 1458.38 Q1336.77 1462.96 1336.77 1471.71 Q1336.77 1480.44 1333.69 1485.04 Q1330.63 1489.63 1324.82 1489.63 Q1319.01 1489.63 1315.93 1485.04 Q1312.88 1480.44 1312.88 1471.71 Q1312.88 1462.96 1315.93 1458.38 Q1319.01 1453.77 1324.82 1453.77 Z\" fill=\"#000000\" fill-rule=\"evenodd\" fill-opacity=\"1\" /><path clip-path=\"url(#clip670)\" d=\"M1346.79 1445.99 Q1344.23 1445.99 1342.73 1447.74 Q1341.24 1449.49 1341.24 1452.54 Q1341.24 1455.57 1342.73 1457.33 Q1344.23 1459.08 1346.79 1459.08 Q1349.35 1459.08 1350.84 1457.33 Q1352.34 1455.57 1352.34 1452.54 Q1352.34 1449.49 1350.84 1447.74 Q1349.35 1445.99 1346.79 1445.99 M1354.33 1434.09 L1354.33 1437.55 Q1352.9 1436.87 1351.44 1436.51 Q1349.99 1436.16 1348.56 1436.16 Q1344.8 1436.16 1342.8 1438.69 Q1340.83 1441.23 1340.55 1446.37 Q1341.66 1444.73 1343.33 1443.87 Q1345.01 1442.98 1347.02 1442.98 Q1351.25 1442.98 1353.69 1445.56 Q1356.16 1448.12 1356.16 1452.54 Q1356.16 1456.86 1353.6 1459.48 Q1351.04 1462.09 1346.79 1462.09 Q1341.92 1462.09 1339.34 1458.37 Q1336.77 1454.62 1336.77 1447.53 Q1336.77 1440.88 1339.93 1436.93 Q1343.09 1432.96 1348.41 1432.96 Q1349.84 1432.96 1351.29 1433.24 Q1352.75 1433.52 1354.33 1434.09 Z\" fill=\"#000000\" fill-rule=\"evenodd\" fill-opacity=\"1\" /><path clip-path=\"url(#clip670)\" d=\"M1662.86 1485.02 L1670.5 1485.02 L1670.5 1458.66 L1662.19 1460.32 L1662.19 1456.06 L1670.45 1454.4 L1675.13 1454.4 L1675.13 1485.02 L1682.77 1485.02 L1682.77 1488.96 L1662.86 1488.96 L1662.86 1485.02 Z\" fill=\"#000000\" fill-rule=\"evenodd\" fill-opacity=\"1\" /><path clip-path=\"url(#clip670)\" d=\"M1692.21 1483.08 L1697.1 1483.08 L1697.1 1488.96 L1692.21 1488.96 L1692.21 1483.08 Z\" fill=\"#000000\" fill-rule=\"evenodd\" fill-opacity=\"1\" /><path clip-path=\"url(#clip670)\" d=\"M1707.33 1454.4 L1725.68 1454.4 L1725.68 1458.33 L1711.61 1458.33 L1711.61 1466.8 Q1712.63 1466.46 1713.65 1466.29 Q1714.67 1466.11 1715.68 1466.11 Q1721.47 1466.11 1724.85 1469.28 Q1728.23 1472.45 1728.23 1477.87 Q1728.23 1483.45 1724.76 1486.55 Q1721.29 1489.63 1714.97 1489.63 Q1712.79 1489.63 1710.52 1489.26 Q1708.28 1488.89 1705.87 1488.15 L1705.87 1483.45 Q1707.95 1484.58 1710.17 1485.14 Q1712.4 1485.69 1714.87 1485.69 Q1718.88 1485.69 1721.22 1483.59 Q1723.55 1481.48 1723.55 1477.87 Q1723.55 1474.26 1721.22 1472.15 Q1718.88 1470.04 1714.87 1470.04 Q1713 1470.04 1711.12 1470.46 Q1709.27 1470.88 1707.33 1471.76 L1707.33 1454.4 Z\" fill=\"#000000\" fill-rule=\"evenodd\" fill-opacity=\"1\" /><path clip-path=\"url(#clip670)\" d=\"M1747.44 1457.48 Q1743.83 1457.48 1742 1461.04 Q1740.2 1464.58 1740.2 1471.71 Q1740.2 1478.82 1742 1482.38 Q1743.83 1485.92 1747.44 1485.92 Q1751.08 1485.92 1752.88 1482.38 Q1754.71 1478.82 1754.71 1471.71 Q1754.71 1464.58 1752.88 1461.04 Q1751.08 1457.48 1747.44 1457.48 M1747.44 1453.77 Q1753.25 1453.77 1756.31 1458.38 Q1759.39 1462.96 1759.39 1471.71 Q1759.39 1480.44 1756.31 1485.04 Q1753.25 1489.63 1747.44 1489.63 Q1741.63 1489.63 1738.55 1485.04 Q1735.5 1480.44 1735.5 1471.71 Q1735.5 1462.96 1738.55 1458.38 Q1741.63 1453.77 1747.44 1453.77 Z\" fill=\"#000000\" fill-rule=\"evenodd\" fill-opacity=\"1\" /><path clip-path=\"url(#clip670)\" d=\"M1795.78 1463.49 L1785.2 1474.12 L1795.78 1484.7 L1793.02 1487.5 L1782.4 1476.87 L1771.77 1487.5 L1769.04 1484.7 L1779.6 1474.12 L1769.04 1463.49 L1771.77 1460.69 L1782.4 1471.32 L1793.02 1460.69 L1795.78 1463.49 Z\" fill=\"#000000\" fill-rule=\"evenodd\" fill-opacity=\"1\" /><path clip-path=\"url(#clip670)\" d=\"M1808.14 1485.02 L1815.78 1485.02 L1815.78 1458.66 L1807.47 1460.32 L1807.47 1456.06 L1815.73 1454.4 L1820.41 1454.4 L1820.41 1485.02 L1828.04 1485.02 L1828.04 1488.96 L1808.14 1488.96 L1808.14 1485.02 Z\" fill=\"#000000\" fill-rule=\"evenodd\" fill-opacity=\"1\" /><path clip-path=\"url(#clip670)\" d=\"M1847.49 1457.48 Q1843.88 1457.48 1842.05 1461.04 Q1840.24 1464.58 1840.24 1471.71 Q1840.24 1478.82 1842.05 1482.38 Q1843.88 1485.92 1847.49 1485.92 Q1851.12 1485.92 1852.93 1482.38 Q1854.76 1478.82 1854.76 1471.71 Q1854.76 1464.58 1852.93 1461.04 Q1851.12 1457.48 1847.49 1457.48 M1847.49 1453.77 Q1853.3 1453.77 1856.35 1458.38 Q1859.43 1462.96 1859.43 1471.71 Q1859.43 1480.44 1856.35 1485.04 Q1853.3 1489.63 1847.49 1489.63 Q1841.68 1489.63 1838.6 1485.04 Q1835.54 1480.44 1835.54 1471.71 Q1835.54 1462.96 1838.6 1458.38 Q1841.68 1453.77 1847.49 1453.77 Z\" fill=\"#000000\" fill-rule=\"evenodd\" fill-opacity=\"1\" /><path clip-path=\"url(#clip670)\" d=\"M1869.46 1445.99 Q1866.9 1445.99 1865.4 1447.74 Q1863.91 1449.49 1863.91 1452.54 Q1863.91 1455.57 1865.4 1457.33 Q1866.9 1459.08 1869.46 1459.08 Q1872.02 1459.08 1873.5 1457.33 Q1875.01 1455.57 1875.01 1452.54 Q1875.01 1449.49 1873.5 1447.74 Q1872.02 1445.99 1869.46 1445.99 M1877 1434.09 L1877 1437.55 Q1875.57 1436.87 1874.1 1436.51 Q1872.65 1436.16 1871.23 1436.16 Q1867.46 1436.16 1865.47 1438.69 Q1863.5 1441.23 1863.21 1446.37 Q1864.32 1444.73 1866 1443.87 Q1867.67 1442.98 1869.68 1442.98 Q1873.92 1442.98 1876.36 1445.56 Q1878.82 1448.12 1878.82 1452.54 Q1878.82 1456.86 1876.27 1459.48 Q1873.71 1462.09 1869.46 1462.09 Q1864.59 1462.09 1862.01 1458.37 Q1859.43 1454.62 1859.43 1447.53 Q1859.43 1440.88 1862.59 1436.93 Q1865.75 1432.96 1871.08 1432.96 Q1872.5 1432.96 1873.95 1433.24 Q1875.42 1433.52 1877 1434.09 Z\" fill=\"#000000\" fill-rule=\"evenodd\" fill-opacity=\"1\" /><path clip-path=\"url(#clip670)\" d=\"M2189.61 1485.02 L2205.93 1485.02 L2205.93 1488.96 L2183.99 1488.96 L2183.99 1485.02 Q2186.65 1482.27 2191.23 1477.64 Q2195.84 1472.98 2197.02 1471.64 Q2199.26 1469.12 2200.14 1467.38 Q2201.05 1465.62 2201.05 1463.93 Q2201.05 1461.18 2199.1 1459.44 Q2197.18 1457.71 2194.08 1457.71 Q2191.88 1457.71 2189.43 1458.47 Q2187 1459.23 2184.22 1460.79 L2184.22 1456.06 Q2187.04 1454.93 2189.5 1454.35 Q2191.95 1453.77 2193.99 1453.77 Q2199.36 1453.77 2202.55 1456.46 Q2205.75 1459.14 2205.75 1463.63 Q2205.75 1465.76 2204.94 1467.68 Q2204.15 1469.58 2202.04 1472.17 Q2201.46 1472.85 2198.36 1476.06 Q2195.26 1479.26 2189.61 1485.02 Z\" fill=\"#000000\" fill-rule=\"evenodd\" fill-opacity=\"1\" /><path clip-path=\"url(#clip670)\" d=\"M2215.75 1483.08 L2220.63 1483.08 L2220.63 1488.96 L2215.75 1488.96 L2215.75 1483.08 Z\" fill=\"#000000\" fill-rule=\"evenodd\" fill-opacity=\"1\" /><path clip-path=\"url(#clip670)\" d=\"M2240.81 1457.48 Q2237.2 1457.48 2235.38 1461.04 Q2233.57 1464.58 2233.57 1471.71 Q2233.57 1478.82 2235.38 1482.38 Q2237.2 1485.92 2240.81 1485.92 Q2244.45 1485.92 2246.25 1482.38 Q2248.08 1478.82 2248.08 1471.71 Q2248.08 1464.58 2246.25 1461.04 Q2244.45 1457.48 2240.81 1457.48 M2240.81 1453.77 Q2246.62 1453.77 2249.68 1458.38 Q2252.76 1462.96 2252.76 1471.71 Q2252.76 1480.44 2249.68 1485.04 Q2246.62 1489.63 2240.81 1489.63 Q2235 1489.63 2231.93 1485.04 Q2228.87 1480.44 2228.87 1471.71 Q2228.87 1462.96 2231.93 1458.38 Q2235 1453.77 2240.81 1453.77 Z\" fill=\"#000000\" fill-rule=\"evenodd\" fill-opacity=\"1\" /><path clip-path=\"url(#clip670)\" d=\"M2270.98 1457.48 Q2267.37 1457.48 2265.54 1461.04 Q2263.73 1464.58 2263.73 1471.71 Q2263.73 1478.82 2265.54 1482.38 Q2267.37 1485.92 2270.98 1485.92 Q2274.61 1485.92 2276.42 1482.38 Q2278.25 1478.82 2278.25 1471.71 Q2278.25 1464.58 2276.42 1461.04 Q2274.61 1457.48 2270.98 1457.48 M2270.98 1453.77 Q2276.79 1453.77 2279.84 1458.38 Q2282.92 1462.96 2282.92 1471.71 Q2282.92 1480.44 2279.84 1485.04 Q2276.79 1489.63 2270.98 1489.63 Q2265.17 1489.63 2262.09 1485.04 Q2259.03 1480.44 2259.03 1471.71 Q2259.03 1462.96 2262.09 1458.38 Q2265.17 1453.77 2270.98 1453.77 Z\" fill=\"#000000\" fill-rule=\"evenodd\" fill-opacity=\"1\" /><path clip-path=\"url(#clip670)\" d=\"M2319.31 1463.49 L2308.73 1474.12 L2319.31 1484.7 L2316.56 1487.5 L2305.93 1476.87 L2295.31 1487.5 L2292.57 1484.7 L2303.13 1474.12 L2292.57 1463.49 L2295.31 1460.69 L2305.93 1471.32 L2316.56 1460.69 L2319.31 1463.49 Z\" fill=\"#000000\" fill-rule=\"evenodd\" fill-opacity=\"1\" /><path clip-path=\"url(#clip670)\" d=\"M2331.67 1485.02 L2339.31 1485.02 L2339.31 1458.66 L2331 1460.32 L2331 1456.06 L2339.26 1454.4 L2343.94 1454.4 L2343.94 1485.02 L2351.58 1485.02 L2351.58 1488.96 L2331.67 1488.96 L2331.67 1485.02 Z\" fill=\"#000000\" fill-rule=\"evenodd\" fill-opacity=\"1\" /><path clip-path=\"url(#clip670)\" d=\"M2371.02 1457.48 Q2367.41 1457.48 2365.58 1461.04 Q2363.78 1464.58 2363.78 1471.71 Q2363.78 1478.82 2365.58 1482.38 Q2367.41 1485.92 2371.02 1485.92 Q2374.66 1485.92 2376.46 1482.38 Q2378.29 1478.82 2378.29 1471.71 Q2378.29 1464.58 2376.46 1461.04 Q2374.66 1457.48 2371.02 1457.48 M2371.02 1453.77 Q2376.83 1453.77 2379.89 1458.38 Q2382.97 1462.96 2382.97 1471.71 Q2382.97 1480.44 2379.89 1485.04 Q2376.83 1489.63 2371.02 1489.63 Q2365.21 1489.63 2362.13 1485.04 Q2359.08 1480.44 2359.08 1471.71 Q2359.08 1462.96 2362.13 1458.38 Q2365.21 1453.77 2371.02 1453.77 Z\" fill=\"#000000\" fill-rule=\"evenodd\" fill-opacity=\"1\" /><path clip-path=\"url(#clip670)\" d=\"M2392.99 1445.99 Q2390.43 1445.99 2388.93 1447.74 Q2387.44 1449.49 2387.44 1452.54 Q2387.44 1455.57 2388.93 1457.33 Q2390.43 1459.08 2392.99 1459.08 Q2395.55 1459.08 2397.04 1457.33 Q2398.54 1455.57 2398.54 1452.54 Q2398.54 1449.49 2397.04 1447.74 Q2395.55 1445.99 2392.99 1445.99 M2400.53 1434.09 L2400.53 1437.55 Q2399.1 1436.87 2397.64 1436.51 Q2396.19 1436.16 2394.76 1436.16 Q2391 1436.16 2389 1438.69 Q2387.03 1441.23 2386.75 1446.37 Q2387.86 1444.73 2389.53 1443.87 Q2391.2 1442.98 2393.22 1442.98 Q2397.45 1442.98 2399.89 1445.56 Q2402.36 1448.12 2402.36 1452.54 Q2402.36 1456.86 2399.8 1459.48 Q2397.24 1462.09 2392.99 1462.09 Q2388.12 1462.09 2385.54 1458.37 Q2382.97 1454.62 2382.97 1447.53 Q2382.97 1440.88 2386.13 1436.93 Q2389.29 1432.96 2394.61 1432.96 Q2396.04 1432.96 2397.49 1433.24 Q2398.95 1433.52 2400.53 1434.09 Z\" fill=\"#000000\" fill-rule=\"evenodd\" fill-opacity=\"1\" /><path clip-path=\"url(#clip670)\" d=\"M1149.67 1526.67 L1156.1 1526.67 L1156.1 1574.19 L1149.67 1574.19 L1149.67 1526.67 Z\" fill=\"#000000\" fill-rule=\"evenodd\" fill-opacity=\"1\" /><path clip-path=\"url(#clip670)\" d=\"M1174.43 1528.42 L1174.43 1538.54 L1186.5 1538.54 L1186.5 1543.09 L1174.43 1543.09 L1174.43 1562.44 Q1174.43 1566.8 1175.61 1568.04 Q1176.82 1569.28 1180.48 1569.28 L1186.5 1569.28 L1186.5 1574.19 L1180.48 1574.19 Q1173.7 1574.19 1171.12 1571.67 Q1168.54 1569.12 1168.54 1562.44 L1168.54 1543.09 L1164.25 1543.09 L1164.25 1538.54 L1168.54 1538.54 L1168.54 1528.42 L1174.43 1528.42 Z\" fill=\"#000000\" fill-rule=\"evenodd\" fill-opacity=\"1\" /><path clip-path=\"url(#clip670)\" d=\"M1224.69 1554.9 L1224.69 1557.76 L1197.76 1557.76 Q1198.14 1563.81 1201.39 1566.99 Q1204.67 1570.14 1210.49 1570.14 Q1213.87 1570.14 1217.02 1569.32 Q1220.2 1568.49 1223.32 1566.83 L1223.32 1572.37 Q1220.17 1573.71 1216.86 1574.41 Q1213.55 1575.11 1210.14 1575.11 Q1201.61 1575.11 1196.62 1570.14 Q1191.65 1565.18 1191.65 1556.71 Q1191.65 1547.96 1196.36 1542.83 Q1201.1 1537.68 1209.13 1537.68 Q1216.32 1537.68 1220.49 1542.33 Q1224.69 1546.94 1224.69 1554.9 M1218.83 1553.18 Q1218.77 1548.37 1216.13 1545.51 Q1213.52 1542.64 1209.19 1542.64 Q1204.29 1542.64 1201.33 1545.41 Q1198.4 1548.18 1197.95 1553.21 L1218.83 1553.18 Z\" fill=\"#000000\" fill-rule=\"evenodd\" fill-opacity=\"1\" /><path clip-path=\"url(#clip670)\" d=\"M1254.96 1544.01 Q1253.97 1543.44 1252.79 1543.18 Q1251.65 1542.9 1250.25 1542.9 Q1245.28 1542.9 1242.61 1546.14 Q1239.97 1549.36 1239.97 1555.41 L1239.97 1574.19 L1234.08 1574.19 L1234.08 1538.54 L1239.97 1538.54 L1239.97 1544.08 Q1241.81 1540.83 1244.77 1539.27 Q1247.73 1537.68 1251.97 1537.68 Q1252.57 1537.68 1253.3 1537.77 Q1254.04 1537.84 1254.93 1538 L1254.96 1544.01 Z\" fill=\"#000000\" fill-rule=\"evenodd\" fill-opacity=\"1\" /><path clip-path=\"url(#clip670)\" d=\"M1277.3 1556.27 Q1270.2 1556.27 1267.47 1557.89 Q1264.73 1559.51 1264.73 1563.43 Q1264.73 1566.55 1266.77 1568.39 Q1268.84 1570.21 1272.37 1570.21 Q1277.24 1570.21 1280.17 1566.77 Q1283.13 1563.3 1283.13 1557.57 L1283.13 1556.27 L1277.3 1556.27 M1288.98 1553.85 L1288.98 1574.19 L1283.13 1574.19 L1283.13 1568.77 Q1281.12 1572.02 1278.13 1573.58 Q1275.14 1575.11 1270.81 1575.11 Q1265.33 1575.11 1262.09 1572.05 Q1258.87 1568.97 1258.87 1563.81 Q1258.87 1557.79 1262.88 1554.74 Q1266.93 1551.68 1274.92 1551.68 L1283.13 1551.68 L1283.13 1551.11 Q1283.13 1547.07 1280.45 1544.87 Q1277.81 1542.64 1273.01 1542.64 Q1269.95 1542.64 1267.05 1543.38 Q1264.16 1544.11 1261.48 1545.57 L1261.48 1540.16 Q1264.7 1538.92 1267.72 1538.31 Q1270.75 1537.68 1273.61 1537.68 Q1281.34 1537.68 1285.16 1541.69 Q1288.98 1545.7 1288.98 1553.85 Z\" fill=\"#000000\" fill-rule=\"evenodd\" fill-opacity=\"1\" /><path clip-path=\"url(#clip670)\" d=\"M1306.84 1528.42 L1306.84 1538.54 L1318.9 1538.54 L1318.9 1543.09 L1306.84 1543.09 L1306.84 1562.44 Q1306.84 1566.8 1308.02 1568.04 Q1309.23 1569.28 1312.89 1569.28 L1318.9 1569.28 L1318.9 1574.19 L1312.89 1574.19 Q1306.11 1574.19 1303.53 1571.67 Q1300.95 1569.12 1300.95 1562.44 L1300.95 1543.09 L1296.65 1543.09 L1296.65 1538.54 L1300.95 1538.54 L1300.95 1528.42 L1306.84 1528.42 Z\" fill=\"#000000\" fill-rule=\"evenodd\" fill-opacity=\"1\" /><path clip-path=\"url(#clip670)\" d=\"M1326.6 1538.54 L1332.46 1538.54 L1332.46 1574.19 L1326.6 1574.19 L1326.6 1538.54 M1326.6 1524.66 L1332.46 1524.66 L1332.46 1532.08 L1326.6 1532.08 L1326.6 1524.66 Z\" fill=\"#000000\" fill-rule=\"evenodd\" fill-opacity=\"1\" /><path clip-path=\"url(#clip670)\" d=\"M1358.53 1542.64 Q1353.82 1542.64 1351.08 1546.34 Q1348.34 1550 1348.34 1556.39 Q1348.34 1562.79 1351.05 1566.48 Q1353.79 1570.14 1358.53 1570.14 Q1363.21 1570.14 1365.94 1566.45 Q1368.68 1562.76 1368.68 1556.39 Q1368.68 1550.06 1365.94 1546.37 Q1363.21 1542.64 1358.53 1542.64 M1358.53 1537.68 Q1366.17 1537.68 1370.53 1542.64 Q1374.89 1547.61 1374.89 1556.39 Q1374.89 1565.15 1370.53 1570.14 Q1366.17 1575.11 1358.53 1575.11 Q1350.86 1575.11 1346.5 1570.14 Q1342.17 1565.15 1342.17 1556.39 Q1342.17 1547.61 1346.5 1542.64 Q1350.86 1537.68 1358.53 1537.68 Z\" fill=\"#000000\" fill-rule=\"evenodd\" fill-opacity=\"1\" /><path clip-path=\"url(#clip670)\" d=\"M1414.23 1552.67 L1414.23 1574.19 L1408.37 1574.19 L1408.37 1552.86 Q1408.37 1547.8 1406.4 1545.29 Q1404.43 1542.77 1400.48 1542.77 Q1395.74 1542.77 1393 1545.79 Q1390.26 1548.82 1390.26 1554.04 L1390.26 1574.19 L1384.37 1574.19 L1384.37 1538.54 L1390.26 1538.54 L1390.26 1544.08 Q1392.36 1540.86 1395.2 1539.27 Q1398.06 1537.68 1401.78 1537.68 Q1407.93 1537.68 1411.08 1541.5 Q1414.23 1545.29 1414.23 1552.67 Z\" fill=\"#000000\" fill-rule=\"evenodd\" fill-opacity=\"1\" /><path clip-path=\"url(#clip670)\" d=\"M1448.64 1539.59 L1448.64 1545.13 Q1446.15 1543.85 1443.48 1543.22 Q1440.81 1542.58 1437.94 1542.58 Q1433.58 1542.58 1431.38 1543.92 Q1429.22 1545.25 1429.22 1547.93 Q1429.22 1549.96 1430.78 1551.14 Q1432.34 1552.29 1437.05 1553.34 L1439.05 1553.78 Q1445.29 1555.12 1447.9 1557.57 Q1450.54 1559.99 1450.54 1564.35 Q1450.54 1569.32 1446.6 1572.21 Q1442.68 1575.11 1435.81 1575.11 Q1432.94 1575.11 1429.82 1574.54 Q1426.74 1573.99 1423.3 1572.88 L1423.3 1566.83 Q1426.55 1568.52 1429.7 1569.38 Q1432.85 1570.21 1435.94 1570.21 Q1440.07 1570.21 1442.3 1568.81 Q1444.53 1567.37 1444.53 1564.8 Q1444.53 1562.41 1442.91 1561.14 Q1441.31 1559.86 1435.87 1558.68 L1433.83 1558.21 Q1428.39 1557.06 1425.97 1554.71 Q1423.55 1552.32 1423.55 1548.18 Q1423.55 1543.15 1427.12 1540.42 Q1430.68 1537.68 1437.24 1537.68 Q1440.49 1537.68 1443.35 1538.16 Q1446.22 1538.63 1448.64 1539.59 Z\" fill=\"#000000\" fill-rule=\"evenodd\" fill-opacity=\"1\" /><polyline clip-path=\"url(#clip672)\" style=\"stroke:#000000; stroke-linecap:round; stroke-linejoin:round; stroke-width:2; stroke-opacity:0.1; fill:none\" points=\"\n",
       "  247.459,1268.79 2352.76,1268.79 \n",
       "  \"/>\n",
       "<polyline clip-path=\"url(#clip672)\" style=\"stroke:#000000; stroke-linecap:round; stroke-linejoin:round; stroke-width:2; stroke-opacity:0.1; fill:none\" points=\"\n",
       "  247.459,973.055 2352.76,973.055 \n",
       "  \"/>\n",
       "<polyline clip-path=\"url(#clip672)\" style=\"stroke:#000000; stroke-linecap:round; stroke-linejoin:round; stroke-width:2; stroke-opacity:0.1; fill:none\" points=\"\n",
       "  247.459,677.316 2352.76,677.316 \n",
       "  \"/>\n",
       "<polyline clip-path=\"url(#clip672)\" style=\"stroke:#000000; stroke-linecap:round; stroke-linejoin:round; stroke-width:2; stroke-opacity:0.1; fill:none\" points=\"\n",
       "  247.459,381.577 2352.76,381.577 \n",
       "  \"/>\n",
       "<polyline clip-path=\"url(#clip672)\" style=\"stroke:#000000; stroke-linecap:round; stroke-linejoin:round; stroke-width:2; stroke-opacity:0.1; fill:none\" points=\"\n",
       "  247.459,85.838 2352.76,85.838 \n",
       "  \"/>\n",
       "<polyline clip-path=\"url(#clip670)\" style=\"stroke:#000000; stroke-linecap:round; stroke-linejoin:round; stroke-width:4; stroke-opacity:1; fill:none\" points=\"\n",
       "  247.459,1410.9 247.459,47.2441 \n",
       "  \"/>\n",
       "<polyline clip-path=\"url(#clip670)\" style=\"stroke:#000000; stroke-linecap:round; stroke-linejoin:round; stroke-width:4; stroke-opacity:1; fill:none\" points=\"\n",
       "  247.459,1268.79 266.356,1268.79 \n",
       "  \"/>\n",
       "<polyline clip-path=\"url(#clip670)\" style=\"stroke:#000000; stroke-linecap:round; stroke-linejoin:round; stroke-width:4; stroke-opacity:1; fill:none\" points=\"\n",
       "  247.459,973.055 266.356,973.055 \n",
       "  \"/>\n",
       "<polyline clip-path=\"url(#clip670)\" style=\"stroke:#000000; stroke-linecap:round; stroke-linejoin:round; stroke-width:4; stroke-opacity:1; fill:none\" points=\"\n",
       "  247.459,677.316 266.356,677.316 \n",
       "  \"/>\n",
       "<polyline clip-path=\"url(#clip670)\" style=\"stroke:#000000; stroke-linecap:round; stroke-linejoin:round; stroke-width:4; stroke-opacity:1; fill:none\" points=\"\n",
       "  247.459,381.577 266.356,381.577 \n",
       "  \"/>\n",
       "<polyline clip-path=\"url(#clip670)\" style=\"stroke:#000000; stroke-linecap:round; stroke-linejoin:round; stroke-width:4; stroke-opacity:1; fill:none\" points=\"\n",
       "  247.459,85.838 266.356,85.838 \n",
       "  \"/>\n",
       "<path clip-path=\"url(#clip670)\" d=\"M154.283 1269.66 Q150.95 1269.66 149.028 1271.44 Q147.13 1273.23 147.13 1276.35 Q147.13 1279.48 149.028 1281.26 Q150.95 1283.04 154.283 1283.04 Q157.616 1283.04 159.538 1281.26 Q161.459 1279.45 161.459 1276.35 Q161.459 1273.23 159.538 1271.44 Q157.64 1269.66 154.283 1269.66 M149.607 1267.67 Q146.598 1266.93 144.908 1264.87 Q143.241 1262.81 143.241 1259.85 Q143.241 1255.7 146.181 1253.3 Q149.144 1250.89 154.283 1250.89 Q159.445 1250.89 162.385 1253.3 Q165.325 1255.7 165.325 1259.85 Q165.325 1262.81 163.635 1264.87 Q161.968 1266.93 158.982 1267.67 Q162.362 1268.46 164.237 1270.75 Q166.135 1273.04 166.135 1276.35 Q166.135 1281.38 163.056 1284.06 Q160.001 1286.75 154.283 1286.75 Q148.566 1286.75 145.487 1284.06 Q142.431 1281.38 142.431 1276.35 Q142.431 1273.04 144.329 1270.75 Q146.228 1268.46 149.607 1267.67 M147.894 1260.29 Q147.894 1262.97 149.561 1264.48 Q151.251 1265.98 154.283 1265.98 Q157.292 1265.98 158.982 1264.48 Q160.695 1262.97 160.695 1260.29 Q160.695 1257.6 158.982 1256.1 Q157.292 1254.59 154.283 1254.59 Q151.251 1254.59 149.561 1256.1 Q147.894 1257.6 147.894 1260.29 Z\" fill=\"#000000\" fill-rule=\"evenodd\" fill-opacity=\"1\" /><path clip-path=\"url(#clip670)\" d=\"M174.445 1280.19 L179.329 1280.19 L179.329 1286.07 L174.445 1286.07 L174.445 1280.19 Z\" fill=\"#000000\" fill-rule=\"evenodd\" fill-opacity=\"1\" /><path clip-path=\"url(#clip670)\" d=\"M199.514 1254.59 Q195.903 1254.59 194.075 1258.16 Q192.269 1261.7 192.269 1268.83 Q192.269 1275.94 194.075 1279.5 Q195.903 1283.04 199.514 1283.04 Q203.149 1283.04 204.954 1279.5 Q206.783 1275.94 206.783 1268.83 Q206.783 1261.7 204.954 1258.16 Q203.149 1254.59 199.514 1254.59 M199.514 1250.89 Q205.324 1250.89 208.38 1255.5 Q211.459 1260.08 211.459 1268.83 Q211.459 1277.56 208.38 1282.16 Q205.324 1286.75 199.514 1286.75 Q193.704 1286.75 190.625 1282.16 Q187.57 1277.56 187.57 1268.83 Q187.57 1260.08 190.625 1255.5 Q193.704 1250.89 199.514 1250.89 Z\" fill=\"#000000\" fill-rule=\"evenodd\" fill-opacity=\"1\" /><path clip-path=\"url(#clip670)\" d=\"M155.278 973.923 Q151.945 973.923 150.024 975.705 Q148.126 977.488 148.126 980.613 Q148.126 983.738 150.024 985.52 Q151.945 987.303 155.278 987.303 Q158.612 987.303 160.533 985.52 Q162.454 983.715 162.454 980.613 Q162.454 977.488 160.533 975.705 Q158.635 973.923 155.278 973.923 M150.603 971.932 Q147.593 971.192 145.904 969.131 Q144.237 967.071 144.237 964.108 Q144.237 959.965 147.177 957.557 Q150.14 955.15 155.278 955.15 Q160.44 955.15 163.38 957.557 Q166.32 959.965 166.32 964.108 Q166.32 967.071 164.63 969.131 Q162.964 971.192 159.978 971.932 Q163.357 972.719 165.232 975.011 Q167.13 977.303 167.13 980.613 Q167.13 985.636 164.052 988.321 Q160.996 991.006 155.278 991.006 Q149.561 991.006 146.482 988.321 Q143.427 985.636 143.427 980.613 Q143.427 977.303 145.325 975.011 Q147.223 972.719 150.603 971.932 M148.89 964.548 Q148.89 967.233 150.556 968.738 Q152.246 970.243 155.278 970.243 Q158.288 970.243 159.978 968.738 Q161.69 967.233 161.69 964.548 Q161.69 961.863 159.978 960.358 Q158.288 958.854 155.278 958.854 Q152.246 958.854 150.556 960.358 Q148.89 961.863 148.89 964.548 Z\" fill=\"#000000\" fill-rule=\"evenodd\" fill-opacity=\"1\" /><path clip-path=\"url(#clip670)\" d=\"M175.44 984.455 L180.325 984.455 L180.325 990.335 L175.44 990.335 L175.44 984.455 Z\" fill=\"#000000\" fill-rule=\"evenodd\" fill-opacity=\"1\" /><path clip-path=\"url(#clip670)\" d=\"M190.556 955.775 L208.912 955.775 L208.912 959.71 L194.838 959.71 L194.838 968.182 Q195.857 967.835 196.875 967.673 Q197.894 967.488 198.912 967.488 Q204.699 967.488 208.079 970.659 Q211.459 973.831 211.459 979.247 Q211.459 984.826 207.987 987.928 Q204.514 991.006 198.195 991.006 Q196.019 991.006 193.75 990.636 Q191.505 990.266 189.098 989.525 L189.098 984.826 Q191.181 985.96 193.403 986.516 Q195.625 987.071 198.102 987.071 Q202.107 987.071 204.445 984.965 Q206.783 982.858 206.783 979.247 Q206.783 975.636 204.445 973.53 Q202.107 971.423 198.102 971.423 Q196.227 971.423 194.352 971.84 Q192.5 972.256 190.556 973.136 L190.556 955.775 Z\" fill=\"#000000\" fill-rule=\"evenodd\" fill-opacity=\"1\" /><path clip-path=\"url(#clip670)\" d=\"M144.422 693.878 L144.422 689.619 Q146.181 690.453 147.987 690.892 Q149.792 691.332 151.528 691.332 Q156.158 691.332 158.589 688.23 Q161.042 685.105 161.39 678.763 Q160.047 680.754 157.987 681.818 Q155.927 682.883 153.427 682.883 Q148.241 682.883 145.209 679.758 Q142.2 676.61 142.2 671.17 Q142.2 665.846 145.348 662.629 Q148.496 659.411 153.728 659.411 Q159.723 659.411 162.871 664.018 Q166.042 668.601 166.042 677.351 Q166.042 685.522 162.153 690.406 Q158.288 695.267 151.737 695.267 Q149.978 695.267 148.172 694.92 Q146.366 694.573 144.422 693.878 M153.728 679.226 Q156.876 679.226 158.704 677.073 Q160.556 674.92 160.556 671.17 Q160.556 667.443 158.704 665.291 Q156.876 663.115 153.728 663.115 Q150.579 663.115 148.728 665.291 Q146.899 667.443 146.899 671.17 Q146.899 674.92 148.728 677.073 Q150.579 679.226 153.728 679.226 Z\" fill=\"#000000\" fill-rule=\"evenodd\" fill-opacity=\"1\" /><path clip-path=\"url(#clip670)\" d=\"M174.445 688.716 L179.329 688.716 L179.329 694.596 L174.445 694.596 L174.445 688.716 Z\" fill=\"#000000\" fill-rule=\"evenodd\" fill-opacity=\"1\" /><path clip-path=\"url(#clip670)\" d=\"M199.514 663.115 Q195.903 663.115 194.075 666.68 Q192.269 670.221 192.269 677.351 Q192.269 684.457 194.075 688.022 Q195.903 691.564 199.514 691.564 Q203.149 691.564 204.954 688.022 Q206.783 684.457 206.783 677.351 Q206.783 670.221 204.954 666.68 Q203.149 663.115 199.514 663.115 M199.514 659.411 Q205.324 659.411 208.38 664.018 Q211.459 668.601 211.459 677.351 Q211.459 686.078 208.38 690.684 Q205.324 695.267 199.514 695.267 Q193.704 695.267 190.625 690.684 Q187.57 686.078 187.57 677.351 Q187.57 668.601 190.625 664.018 Q193.704 659.411 199.514 659.411 Z\" fill=\"#000000\" fill-rule=\"evenodd\" fill-opacity=\"1\" /><path clip-path=\"url(#clip670)\" d=\"M145.417 398.139 L145.417 393.88 Q147.177 394.714 148.982 395.153 Q150.788 395.593 152.524 395.593 Q157.153 395.593 159.584 392.491 Q162.038 389.366 162.385 383.024 Q161.042 385.015 158.982 386.079 Q156.922 387.144 154.422 387.144 Q149.237 387.144 146.204 384.019 Q143.195 380.871 143.195 375.431 Q143.195 370.107 146.343 366.89 Q149.491 363.672 154.723 363.672 Q160.718 363.672 163.866 368.278 Q167.038 372.862 167.038 381.612 Q167.038 389.783 163.149 394.667 Q159.283 399.528 152.732 399.528 Q150.973 399.528 149.167 399.181 Q147.362 398.834 145.417 398.139 M154.723 383.487 Q157.871 383.487 159.7 381.334 Q161.552 379.181 161.552 375.431 Q161.552 371.704 159.7 369.552 Q157.871 367.376 154.723 367.376 Q151.575 367.376 149.723 369.552 Q147.894 371.704 147.894 375.431 Q147.894 379.181 149.723 381.334 Q151.575 383.487 154.723 383.487 Z\" fill=\"#000000\" fill-rule=\"evenodd\" fill-opacity=\"1\" /><path clip-path=\"url(#clip670)\" d=\"M175.44 392.977 L180.325 392.977 L180.325 398.857 L175.44 398.857 L175.44 392.977 Z\" fill=\"#000000\" fill-rule=\"evenodd\" fill-opacity=\"1\" /><path clip-path=\"url(#clip670)\" d=\"M190.556 364.297 L208.912 364.297 L208.912 368.232 L194.838 368.232 L194.838 376.704 Q195.857 376.357 196.875 376.195 Q197.894 376.01 198.912 376.01 Q204.699 376.01 208.079 379.181 Q211.459 382.352 211.459 387.769 Q211.459 393.348 207.987 396.45 Q204.514 399.528 198.195 399.528 Q196.019 399.528 193.75 399.158 Q191.505 398.788 189.098 398.047 L189.098 393.348 Q191.181 394.482 193.403 395.038 Q195.625 395.593 198.102 395.593 Q202.107 395.593 204.445 393.487 Q206.783 391.38 206.783 387.769 Q206.783 384.158 204.445 382.052 Q202.107 379.945 198.102 379.945 Q196.227 379.945 194.352 380.362 Q192.5 380.778 190.556 381.658 L190.556 364.297 Z\" fill=\"#000000\" fill-rule=\"evenodd\" fill-opacity=\"1\" /><path clip-path=\"url(#clip670)\" d=\"M114.931 99.1829 L122.57 99.1829 L122.57 72.8173 L114.26 74.4839 L114.26 70.2247 L122.524 68.558 L127.2 68.558 L127.2 99.1829 L134.839 99.1829 L134.839 103.118 L114.931 103.118 L114.931 99.1829 Z\" fill=\"#000000\" fill-rule=\"evenodd\" fill-opacity=\"1\" /><path clip-path=\"url(#clip670)\" d=\"M154.283 71.6367 Q150.672 71.6367 148.843 75.2015 Q147.038 78.7432 147.038 85.8728 Q147.038 92.9792 148.843 96.544 Q150.672 100.086 154.283 100.086 Q157.917 100.086 159.723 96.544 Q161.552 92.9792 161.552 85.8728 Q161.552 78.7432 159.723 75.2015 Q157.917 71.6367 154.283 71.6367 M154.283 67.933 Q160.093 67.933 163.149 72.5395 Q166.227 77.1228 166.227 85.8728 Q166.227 94.5996 163.149 99.206 Q160.093 103.789 154.283 103.789 Q148.473 103.789 145.394 99.206 Q142.339 94.5996 142.339 85.8728 Q142.339 77.1228 145.394 72.5395 Q148.473 67.933 154.283 67.933 Z\" fill=\"#000000\" fill-rule=\"evenodd\" fill-opacity=\"1\" /><path clip-path=\"url(#clip670)\" d=\"M174.445 97.2384 L179.329 97.2384 L179.329 103.118 L174.445 103.118 L174.445 97.2384 Z\" fill=\"#000000\" fill-rule=\"evenodd\" fill-opacity=\"1\" /><path clip-path=\"url(#clip670)\" d=\"M199.514 71.6367 Q195.903 71.6367 194.075 75.2015 Q192.269 78.7432 192.269 85.8728 Q192.269 92.9792 194.075 96.544 Q195.903 100.086 199.514 100.086 Q203.149 100.086 204.954 96.544 Q206.783 92.9792 206.783 85.8728 Q206.783 78.7432 204.954 75.2015 Q203.149 71.6367 199.514 71.6367 M199.514 67.933 Q205.324 67.933 208.38 72.5395 Q211.459 77.1228 211.459 85.8728 Q211.459 94.5996 208.38 99.206 Q205.324 103.789 199.514 103.789 Q193.704 103.789 190.625 99.206 Q187.57 94.5996 187.57 85.8728 Q187.57 77.1228 190.625 72.5395 Q193.704 67.933 199.514 67.933 Z\" fill=\"#000000\" fill-rule=\"evenodd\" fill-opacity=\"1\" /><path clip-path=\"url(#clip670)\" d=\"M41.3104 1077.04 L58.7206 1077.04 L58.7206 1066.72 Q58.7206 1061.54 56.5881 1059.05 Q54.4238 1056.54 49.9996 1056.54 Q45.5436 1056.54 43.4429 1059.05 Q41.3104 1061.54 41.3104 1066.72 L41.3104 1077.04 M21.7677 1077.04 L36.0905 1077.04 L36.0905 1067.52 Q36.0905 1062.81 34.34 1060.52 Q32.5576 1058.19 28.9291 1058.19 Q25.3325 1058.19 23.5501 1060.52 Q21.7677 1062.81 21.7677 1067.52 L21.7677 1077.04 M16.4842 1083.47 L16.4842 1067.04 Q16.4842 1059.69 19.5397 1055.71 Q22.5952 1051.73 28.2289 1051.73 Q32.5894 1051.73 35.1675 1053.77 Q37.7456 1055.81 38.3822 1059.75 Q39.4007 1055.01 42.6472 1052.4 Q45.8619 1049.76 50.6998 1049.76 Q57.0655 1049.76 60.5348 1054.09 Q64.0042 1058.42 64.0042 1066.41 L64.0042 1083.47 L16.4842 1083.47 Z\" fill=\"#000000\" fill-rule=\"evenodd\" fill-opacity=\"1\" /><path clip-path=\"url(#clip670)\" d=\"M44.7161 1008.51 L47.5806 1008.51 L47.5806 1035.44 Q53.6281 1035.05 56.8109 1031.81 Q59.9619 1028.53 59.9619 1022.7 Q59.9619 1019.33 59.1344 1016.18 Q58.3069 1013 56.6518 1009.88 L62.1899 1009.88 Q63.5267 1013.03 64.227 1016.34 Q64.9272 1019.65 64.9272 1023.05 Q64.9272 1031.58 59.9619 1036.58 Q54.9967 1041.55 46.5303 1041.55 Q37.7774 1041.55 32.6531 1036.84 Q27.4968 1032.09 27.4968 1024.07 Q27.4968 1016.88 32.1438 1012.71 Q36.7589 1008.51 44.7161 1008.51 M42.9973 1014.37 Q38.1912 1014.43 35.3266 1017.07 Q32.4621 1019.68 32.4621 1024.01 Q32.4621 1028.91 35.2312 1031.87 Q38.0002 1034.8 43.0292 1035.24 L42.9973 1014.37 Z\" fill=\"#000000\" fill-rule=\"evenodd\" fill-opacity=\"1\" /><path clip-path=\"url(#clip670)\" d=\"M29.4065 976.171 L34.9447 976.171 Q33.6716 978.654 33.035 981.327 Q32.3984 984.001 32.3984 986.866 Q32.3984 991.226 33.7352 993.422 Q35.072 995.587 37.7456 995.587 Q39.7826 995.587 40.9603 994.027 Q42.1061 992.467 43.1565 987.757 L43.6021 985.752 Q44.9389 979.513 47.3897 976.903 Q49.8086 974.261 54.1691 974.261 Q59.1344 974.261 62.0308 978.208 Q64.9272 982.123 64.9272 988.998 Q64.9272 991.863 64.3543 994.982 Q63.8132 998.069 62.6992 1001.51 L56.6518 1001.51 Q58.3387 998.26 59.198 995.109 Q60.0256 991.958 60.0256 988.871 Q60.0256 984.733 58.6251 982.505 Q57.1929 980.277 54.6147 980.277 Q52.2276 980.277 50.9545 981.9 Q49.6813 983.492 48.5037 988.934 L48.0262 990.971 Q46.8804 996.414 44.5251 998.833 Q42.138 1001.25 38.0002 1001.25 Q32.9713 1001.25 30.2341 997.687 Q27.4968 994.122 27.4968 987.566 Q27.4968 984.319 27.9743 981.455 Q28.4517 978.59 29.4065 976.171 Z\" fill=\"#000000\" fill-rule=\"evenodd\" fill-opacity=\"1\" /><path clip-path=\"url(#clip670)\" d=\"M18.2347 959.143 L28.3562 959.143 L28.3562 947.08 L32.9077 947.08 L32.9077 959.143 L52.2594 959.143 Q56.6199 959.143 57.8613 957.965 Q59.1026 956.756 59.1026 953.095 L59.1026 947.08 L64.0042 947.08 L64.0042 953.095 Q64.0042 959.875 61.4897 962.453 Q58.9434 965.031 52.2594 965.031 L32.9077 965.031 L32.9077 969.328 L28.3562 969.328 L28.3562 965.031 L18.2347 965.031 L18.2347 959.143 Z\" fill=\"#000000\" fill-rule=\"evenodd\" fill-opacity=\"1\" /><path clip-path=\"url(#clip670)\" d=\"M20.1444 882.818 L26.9239 882.818 Q23.9002 886.065 22.4043 889.757 Q20.9083 893.417 20.9083 897.555 Q20.9083 905.703 25.9054 910.031 Q30.8707 914.36 40.2919 914.36 Q49.6813 914.36 54.6784 910.031 Q59.6436 905.703 59.6436 897.555 Q59.6436 893.417 58.1477 889.757 Q56.6518 886.065 53.6281 882.818 L60.3439 882.818 Q62.6355 886.192 63.7814 889.98 Q64.9272 893.735 64.9272 897.937 Q64.9272 908.727 58.3387 914.933 Q51.7183 921.14 40.2919 921.14 Q28.8336 921.14 22.2451 914.933 Q15.6248 908.727 15.6248 897.937 Q15.6248 893.672 16.7706 889.916 Q17.8846 886.128 20.1444 882.818 Z\" fill=\"#000000\" fill-rule=\"evenodd\" fill-opacity=\"1\" /><path clip-path=\"url(#clip670)\" d=\"M32.4621 859.329 Q32.4621 864.039 36.1542 866.777 Q39.8145 869.514 46.212 869.514 Q52.6095 869.514 56.3017 866.808 Q59.9619 864.071 59.9619 859.329 Q59.9619 854.65 56.2698 851.913 Q52.5777 849.175 46.212 849.175 Q39.8781 849.175 36.186 851.913 Q32.4621 854.65 32.4621 859.329 M27.4968 859.329 Q27.4968 851.69 32.4621 847.329 Q37.4273 842.969 46.212 842.969 Q54.9649 842.969 59.9619 847.329 Q64.9272 851.69 64.9272 859.329 Q64.9272 866.999 59.9619 871.36 Q54.9649 875.689 46.212 875.689 Q37.4273 875.689 32.4621 871.36 Q27.4968 866.999 27.4968 859.329 Z\" fill=\"#000000\" fill-rule=\"evenodd\" fill-opacity=\"1\" /><path clip-path=\"url(#clip670)\" d=\"M35.1993 805.507 Q31.2526 803.31 29.3747 800.255 Q27.4968 797.199 27.4968 793.062 Q27.4968 787.492 31.4117 784.468 Q35.2948 781.444 42.4881 781.444 L64.0042 781.444 L64.0042 787.332 L42.679 787.332 Q37.5546 787.332 35.072 789.147 Q32.5894 790.961 32.5894 794.685 Q32.5894 799.236 35.6131 801.878 Q38.6368 804.52 43.8567 804.52 L64.0042 804.52 L64.0042 810.408 L42.679 810.408 Q37.5228 810.408 35.072 812.222 Q32.5894 814.037 32.5894 817.824 Q32.5894 822.312 35.6449 824.954 Q38.6686 827.596 43.8567 827.596 L64.0042 827.596 L64.0042 833.484 L28.3562 833.484 L28.3562 827.596 L33.8944 827.596 Q30.616 825.59 29.0564 822.789 Q27.4968 819.989 27.4968 816.137 Q27.4968 812.254 29.4702 809.549 Q31.4436 806.812 35.1993 805.507 Z\" fill=\"#000000\" fill-rule=\"evenodd\" fill-opacity=\"1\" /><path clip-path=\"url(#clip670)\" d=\"M58.657 764.098 L77.5631 764.098 L77.5631 769.986 L28.3562 769.986 L28.3562 764.098 L33.7671 764.098 Q30.5842 762.252 29.0564 759.451 Q27.4968 756.618 27.4968 752.703 Q27.4968 746.21 32.6531 742.168 Q37.8093 738.094 46.212 738.094 Q54.6147 738.094 59.771 742.168 Q64.9272 746.21 64.9272 752.703 Q64.9272 756.618 63.3994 759.451 Q61.8398 762.252 58.657 764.098 M46.212 744.173 Q39.7508 744.173 36.0905 746.847 Q32.3984 749.488 32.3984 754.135 Q32.3984 758.782 36.0905 761.456 Q39.7508 764.098 46.212 764.098 Q52.6732 764.098 56.3653 761.456 Q60.0256 758.782 60.0256 754.135 Q60.0256 749.488 56.3653 746.847 Q52.6732 744.173 46.212 744.173 Z\" fill=\"#000000\" fill-rule=\"evenodd\" fill-opacity=\"1\" /><path clip-path=\"url(#clip670)\" d=\"M14.479 728.386 L14.479 722.53 L64.0042 722.53 L64.0042 728.386 L14.479 728.386 Z\" fill=\"#000000\" fill-rule=\"evenodd\" fill-opacity=\"1\" /><path clip-path=\"url(#clip670)\" d=\"M44.7161 679.784 L47.5806 679.784 L47.5806 706.711 Q53.6281 706.329 56.8109 703.082 Q59.9619 699.804 59.9619 693.979 Q59.9619 690.606 59.1344 687.455 Q58.3069 684.272 56.6518 681.153 L62.1899 681.153 Q63.5267 684.304 64.227 687.614 Q64.9272 690.924 64.9272 694.33 Q64.9272 702.86 59.9619 707.857 Q54.9967 712.822 46.5303 712.822 Q37.7774 712.822 32.6531 708.111 Q27.4968 703.369 27.4968 695.348 Q27.4968 688.155 32.1438 683.985 Q36.7589 679.784 44.7161 679.784 M42.9973 685.64 Q38.1912 685.704 35.3266 688.346 Q32.4621 690.956 32.4621 695.284 Q32.4621 700.186 35.2312 703.146 Q38.0002 706.074 43.0292 706.52 L42.9973 685.64 Z\" fill=\"#000000\" fill-rule=\"evenodd\" fill-opacity=\"1\" /><path clip-path=\"url(#clip670)\" d=\"M18.2347 664.379 L28.3562 664.379 L28.3562 652.316 L32.9077 652.316 L32.9077 664.379 L52.2594 664.379 Q56.6199 664.379 57.8613 663.201 Q59.1026 661.992 59.1026 658.331 L59.1026 652.316 L64.0042 652.316 L64.0042 658.331 Q64.0042 665.111 61.4897 667.689 Q58.9434 670.267 52.2594 670.267 L32.9077 670.267 L32.9077 674.564 L28.3562 674.564 L28.3562 670.267 L18.2347 670.267 L18.2347 664.379 Z\" fill=\"#000000\" fill-rule=\"evenodd\" fill-opacity=\"1\" /><path clip-path=\"url(#clip670)\" d=\"M28.3562 644.613 L28.3562 638.757 L64.0042 638.757 L64.0042 644.613 L28.3562 644.613 M14.479 644.613 L14.479 638.757 L21.895 638.757 L21.895 644.613 L14.479 644.613 Z\" fill=\"#000000\" fill-rule=\"evenodd\" fill-opacity=\"1\" /><path clip-path=\"url(#clip670)\" d=\"M32.4621 612.689 Q32.4621 617.4 36.1542 620.137 Q39.8145 622.874 46.212 622.874 Q52.6095 622.874 56.3017 620.169 Q59.9619 617.432 59.9619 612.689 Q59.9619 608.011 56.2698 605.273 Q52.5777 602.536 46.212 602.536 Q39.8781 602.536 36.186 605.273 Q32.4621 608.011 32.4621 612.689 M27.4968 612.689 Q27.4968 605.05 32.4621 600.69 Q37.4273 596.329 46.212 596.329 Q54.9649 596.329 59.9619 600.69 Q64.9272 605.05 64.9272 612.689 Q64.9272 620.36 59.9619 624.721 Q54.9649 629.049 46.212 629.049 Q37.4273 629.049 32.4621 624.721 Q27.4968 620.36 27.4968 612.689 Z\" fill=\"#000000\" fill-rule=\"evenodd\" fill-opacity=\"1\" /><path clip-path=\"url(#clip670)\" d=\"M42.4881 556.989 L64.0042 556.989 L64.0042 562.846 L42.679 562.846 Q37.6183 562.846 35.1038 564.819 Q32.5894 566.793 32.5894 570.739 Q32.5894 575.482 35.6131 578.219 Q38.6368 580.956 43.8567 580.956 L64.0042 580.956 L64.0042 586.845 L28.3562 586.845 L28.3562 580.956 L33.8944 580.956 Q30.6797 578.856 29.0883 576.023 Q27.4968 573.158 27.4968 569.434 Q27.4968 563.291 31.3163 560.14 Q35.1038 556.989 42.4881 556.989 Z\" fill=\"#000000\" fill-rule=\"evenodd\" fill-opacity=\"1\" /><path clip-path=\"url(#clip670)\" d=\"M16.4842 530.922 L16.4842 490.722 L21.895 490.722 L21.895 507.592 L64.0042 507.592 L64.0042 514.053 L21.895 514.053 L21.895 530.922 L16.4842 530.922 Z\" fill=\"#000000\" fill-rule=\"evenodd\" fill-opacity=\"1\" /><path clip-path=\"url(#clip670)\" d=\"M28.3562 486.776 L28.3562 480.919 L64.0042 480.919 L64.0042 486.776 L28.3562 486.776 M14.479 486.776 L14.479 480.919 L21.895 480.919 L21.895 486.776 L14.479 486.776 Z\" fill=\"#000000\" fill-rule=\"evenodd\" fill-opacity=\"1\" /><path clip-path=\"url(#clip670)\" d=\"M35.1993 440.911 Q31.2526 438.715 29.3747 435.659 Q27.4968 432.603 27.4968 428.466 Q27.4968 422.896 31.4117 419.872 Q35.2948 416.848 42.4881 416.848 L64.0042 416.848 L64.0042 422.737 L42.679 422.737 Q37.5546 422.737 35.072 424.551 Q32.5894 426.365 32.5894 430.089 Q32.5894 434.641 35.6131 437.282 Q38.6368 439.924 43.8567 439.924 L64.0042 439.924 L64.0042 445.812 L42.679 445.812 Q37.5228 445.812 35.072 447.627 Q32.5894 449.441 32.5894 453.228 Q32.5894 457.716 35.6449 460.358 Q38.6686 463 43.8567 463 L64.0042 463 L64.0042 468.888 L28.3562 468.888 L28.3562 463 L33.8944 463 Q30.616 460.995 29.0564 458.194 Q27.4968 455.393 27.4968 451.541 Q27.4968 447.658 29.4702 444.953 Q31.4436 442.216 35.1993 440.911 Z\" fill=\"#000000\" fill-rule=\"evenodd\" fill-opacity=\"1\" /><path clip-path=\"url(#clip670)\" d=\"M44.7161 374.676 L47.5806 374.676 L47.5806 401.603 Q53.6281 401.221 56.8109 397.974 Q59.9619 394.696 59.9619 388.871 Q59.9619 385.497 59.1344 382.346 Q58.3069 379.163 56.6518 376.044 L62.1899 376.044 Q63.5267 379.195 64.227 382.505 Q64.9272 385.816 64.9272 389.221 Q64.9272 397.751 59.9619 402.748 Q54.9967 407.714 46.5303 407.714 Q37.7774 407.714 32.6531 403.003 Q27.4968 398.261 27.4968 390.24 Q27.4968 383.046 32.1438 378.877 Q36.7589 374.676 44.7161 374.676 M42.9973 380.532 Q38.1912 380.596 35.3266 383.237 Q32.4621 385.847 32.4621 390.176 Q32.4621 395.078 35.2312 398.038 Q38.0002 400.966 43.0292 401.412 L42.9973 380.532 Z\" fill=\"#000000\" fill-rule=\"evenodd\" fill-opacity=\"1\" /><polyline clip-path=\"url(#clip672)\" style=\"stroke:#009af9; stroke-linecap:round; stroke-linejoin:round; stroke-width:4; stroke-opacity:1; fill:none\" points=\"\n",
       "  307.043,218.921 411.576,85.838 516.109,573.807 620.642,632.955 725.175,366.79 829.708,1209.65 934.241,943.481 1038.77,662.529 1143.31,1002.63 1247.84,1313.15 \n",
       "  1352.37,1239.22 1456.91,1076.56 1561.44,1032.2 1665.97,973.055 1770.51,1372.3 1875.04,1165.29 1979.57,1327.94 2084.11,1194.86 2188.64,795.612 2293.17,973.055 \n",
       "  \n",
       "  \"/>\n",
       "</svg>\n"
      ]
     },
     "execution_count": 102,
     "metadata": {},
     "output_type": "execute_result"
    }
   ],
   "source": [
    "plot(iterations, best_compl_time, xlabel=\"Iterations\", ylabel=\"Best Completion Time\", legend = false, xformatter = :scientific)"
   ]
  },
  {
   "cell_type": "code",
   "execution_count": 103,
   "id": "ac0c493c",
   "metadata": {},
   "outputs": [
    {
     "data": {
      "text/plain": [
       "\"/home/larissa/Documents/Projects/ADLR/ADLR_project/src/RL_PPO_quadcopter_3D/office_test/plots/fast/best_comp_time.svg\""
      ]
     },
     "execution_count": 103,
     "metadata": {},
     "output_type": "execute_result"
    }
   ],
   "source": [
    "savefig(fig_path * \"best_comp_time.svg\")"
   ]
  },
  {
   "cell_type": "markdown",
   "id": "ed305f8e",
   "metadata": {},
   "source": [
    "# Create Videos"
   ]
  },
  {
   "cell_type": "code",
   "execution_count": 52,
   "id": "1f30d98a",
   "metadata": {},
   "outputs": [
    {
     "name": "stderr",
     "output_type": "stream",
     "text": [
      "\u001b[36m\u001b[1m┌ \u001b[22m\u001b[39m\u001b[36m\u001b[1mInfo: \u001b[22m\u001b[39mMeshCat server started. You can open the visualizer by visiting the following URL in your browser:\n",
      "\u001b[36m\u001b[1m└ \u001b[22m\u001b[39mhttp://127.0.0.1:8701\n"
     ]
    }
   ],
   "source": [
    "create_visualization();\n",
    "create_Office(\"office\");"
   ]
  },
  {
   "cell_type": "code",
   "execution_count": 53,
   "id": "260d79dd",
   "metadata": {},
   "outputs": [
    {
     "ename": "LoadError",
     "evalue": "MethodError: \u001b[0mCannot `convert` an object of type \u001b[92mVector{Vector{Float64}}\u001b[39m\u001b[0m to an object of type \u001b[91mInt64\u001b[39m\n\u001b[0mClosest candidates are:\n\u001b[0m  convert(::Type{T}, \u001b[91m::LLVM.GenericValue\u001b[39m) where T<:Signed at ~/.julia/packages/LLVM/qc3sa/src/execution.jl:27\n\u001b[0m  convert(::Type{T}, \u001b[91m::LLVM.ConstantInt\u001b[39m) where T<:Signed at ~/.julia/packages/LLVM/qc3sa/src/core/value/constant.jl:89\n\u001b[0m  convert(::Type{T}, \u001b[91m::Ptr\u001b[39m) where T<:Integer at pointer.jl:23\n\u001b[0m  ...",
     "output_type": "error",
     "traceback": [
      "MethodError: \u001b[0mCannot `convert` an object of type \u001b[92mVector{Vector{Float64}}\u001b[39m\u001b[0m to an object of type \u001b[91mInt64\u001b[39m\n\u001b[0mClosest candidates are:\n\u001b[0m  convert(::Type{T}, \u001b[91m::LLVM.GenericValue\u001b[39m) where T<:Signed at ~/.julia/packages/LLVM/qc3sa/src/execution.jl:27\n\u001b[0m  convert(::Type{T}, \u001b[91m::LLVM.ConstantInt\u001b[39m) where T<:Signed at ~/.julia/packages/LLVM/qc3sa/src/core/value/constant.jl:89\n\u001b[0m  convert(::Type{T}, \u001b[91m::Ptr\u001b[39m) where T<:Integer at pointer.jl:23\n\u001b[0m  ...",
      "",
      "Stacktrace:",
      " [1] setproperty!(x::VtolEnv{Space{Vector{ClosedInterval{Float64}}}, Float64, Vector{Float64}, Random._GLOBAL_RNG}, f::Symbol, v::Vector{Vector{Float64}})",
      "   @ Base ./Base.jl:39",
      " [2] reset!(env::VtolEnv{Space{Vector{ClosedInterval{Float64}}}, Float64, Vector{Float64}, Random._GLOBAL_RNG})",
      "   @ Main ./In[15]:4",
      " [3] VtolEnv(; rng::Random._GLOBAL_RNG, name::String, visualization::Bool, realtime::Bool, kwargs::Base.Pairs{Symbol, Union{}, Tuple{}, NamedTuple{(), Tuple{}}})",
      "   @ Main ./In[10]:125",
      " [4] top-level scope",
      "   @ ./In[53]:3"
     ]
    }
   ],
   "source": [
    "if VIDEO  \n",
    "  # TODO: load_model as desired\n",
    "    vid_env = VtolEnv(;name = \"testVTOL\", visualization = true, realtime = true);\n",
    "    \n",
    "    if SLOW_MODE\n",
    "        path = \"./office_test/RL_models_slow/\"\n",
    "        load_model = 2_000_000\n",
    "        println(\"slow mode\")\n",
    "    else\n",
    "        path = \"./office_test/RL_models_fast/\"\n",
    "        load_model = 1_000_000\n",
    "        println(\"fast mode\")\n",
    "    end\n",
    "    agent.policy.approximator = loadModel(path,load_model);\n",
    "    for i in 1:30\n",
    "        sleep(30)\n",
    "        RLBase.reset!(vid_env)\n",
    "        run(agent.policy, vid_env, StopAfterEpisode(1))\n",
    "    end\n",
    "end;"
   ]
  },
  {
   "cell_type": "code",
   "execution_count": 54,
   "id": "1bebf7cc",
   "metadata": {},
   "outputs": [],
   "source": [
    "close_visualization();"
   ]
  },
  {
   "cell_type": "markdown",
   "id": "57443b44",
   "metadata": {},
   "source": [
    "done"
   ]
  }
 ],
 "metadata": {
  "@webio": {
   "lastCommId": null,
   "lastKernelId": null
  },
  "kernelspec": {
   "display_name": "Julia 1.8.0",
   "language": "julia",
   "name": "julia-1.8"
  },
  "language_info": {
   "file_extension": ".jl",
   "mimetype": "application/julia",
   "name": "julia",
   "version": "1.8.0"
  }
 },
 "nbformat": 4,
 "nbformat_minor": 5
}
