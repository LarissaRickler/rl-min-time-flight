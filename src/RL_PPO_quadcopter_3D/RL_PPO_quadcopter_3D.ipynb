{
 "cells": [
  {
   "cell_type": "code",
   "execution_count": 1,
   "id": "285d18fd",
   "metadata": {},
   "outputs": [],
   "source": [
    "using Pkg\n",
    "if isfile(\"Project.toml\") && isfile(\"Manifest.toml\")\n",
    "    Pkg.activate(\".\")\n",
    "end"
   ]
  },
  {
   "cell_type": "markdown",
   "id": "0649b76a",
   "metadata": {},
   "source": [
    "# Init Bionic VTOL"
   ]
  },
  {
   "cell_type": "code",
   "execution_count": 2,
   "id": "96751412",
   "metadata": {},
   "outputs": [],
   "source": [
    "include(\"../Flyonic.jl\");\n",
    "using .Flyonic;\n",
    "\n",
    "using Rotations; # used for initial position\n",
    "\n",
    "using ReinforcementLearning;\n",
    "using StableRNGs;\n",
    "using Flux;\n",
    "using Flux.Losses;\n",
    "using Random;\n",
    "using IntervalSets;\n",
    "using LinearAlgebra;\n",
    "using Distributions;\n",
    "\n",
    "using Plots;\n",
    "using Statistics;\n",
    "\n",
    "using TensorBoardLogger\n",
    "using Logging\n",
    "\n",
    "\n",
    "using JLD;\n",
    "using BSON: @save, @load # save mode"
   ]
  },
  {
   "cell_type": "code",
   "execution_count": 3,
   "id": "d435a5d6",
   "metadata": {},
   "outputs": [],
   "source": [
    "# TODO: set as desired\n",
    "R_TOL = 0.5;\n",
    "N_WAYPOINTS = 4; # including startpoint, >= 2\n",
    "SLOW_MODE = false;\n",
    "TRAINING = false;\n",
    "EVALUATION = true;\n",
    "VIDEO = false;"
   ]
  },
  {
   "cell_type": "code",
   "execution_count": 4,
   "id": "f7e4ee64",
   "metadata": {},
   "outputs": [
    {
     "name": "stderr",
     "output_type": "stream",
     "text": [
      "\u001b[36m\u001b[1m┌ \u001b[22m\u001b[39m\u001b[36m\u001b[1mInfo: \u001b[22m\u001b[39mMeshCat server started. You can open the visualizer by visiting the following URL in your browser:\n",
      "\u001b[36m\u001b[1m└ \u001b[22m\u001b[39mhttp://10.183.60.226:8701\n"
     ]
    }
   ],
   "source": [
    "create_remote_visualization();"
   ]
  },
  {
   "cell_type": "code",
   "execution_count": 5,
   "id": "e19cce80",
   "metadata": {},
   "outputs": [],
   "source": [
    "# TensorBoard\n",
    "if TRAINING\n",
    "    logger = TBLogger(\"tensorboard_PPO\", tb_increment)\n",
    "end"
   ]
  },
  {
   "cell_type": "code",
   "execution_count": 6,
   "id": "7d9557df",
   "metadata": {},
   "outputs": [
    {
     "data": {
      "text/plain": [
       "1"
      ]
     },
     "execution_count": 6,
     "metadata": {},
     "output_type": "execute_result"
    }
   ],
   "source": [
    "# indicates how many threads Julia was started with. This is important for the multi-threaded environment\n",
    "Threads.nthreads()"
   ]
  },
  {
   "cell_type": "code",
   "execution_count": 7,
   "id": "10d945ff",
   "metadata": {},
   "outputs": [],
   "source": [
    "Δt = 0.025;"
   ]
  },
  {
   "cell_type": "markdown",
   "id": "5411db62",
   "metadata": {},
   "source": [
    "# Create Reinforcement Learning Environment"
   ]
  },
  {
   "cell_type": "code",
   "execution_count": 8,
   "id": "96af6ee0",
   "metadata": {},
   "outputs": [],
   "source": [
    "mutable struct VtolEnv{A,T,ACT,R<:AbstractRNG} <: AbstractEnv # Parametric Constructor for a subtype of AbstractEnv\n",
    "    action_space::A # All possible actions the agent can take\n",
    "    observation_space::Space{Vector{ClosedInterval{T}}} # All possible states that the agent can observe.\n",
    "    state::Vector{T} # Current state\n",
    "    action::ACT # next action the agent wants to apply in the environment.\n",
    "    done::Bool # shows whether a terminal condition has been reached.\n",
    "    t::T # time\n",
    "    rng::R # random number generator\n",
    "\n",
    "    name::String # for different naming of multible environoments\n",
    "    visualization::Bool # activate visualisation (Faster computation without visualisation)\n",
    "    realtime::Bool # visualization in \"real-world\" time (only for watching or filming).\n",
    "    \n",
    "    # Overall state of the environment. This does not correspond to the observation space of the agent but contains all states that describe the environment.\n",
    "    x_W::Vector{T} # Position in World frame\n",
    "    v_B::Vector{T} # Velocity in Body frame\n",
    "    R_W::Matrix{T} # Rotation (matrix) in World frame\n",
    "    ω_B::Vector{T} # Rotation velocity in Body frame\n",
    "    wind_W::Vector{T} # Externel linear velocity acting on the drone\n",
    "    Δt::T # Time step for physics simulation in seconds\n",
    "\n",
    "    ###NEW###\n",
    "    # Current Bonus / Target\n",
    "    num_waypoints::Int # includig start point\n",
    "    waypoints::Vector{Vector{T}}\n",
    "    reached_goal::BitVector\n",
    "    \n",
    "    norm_way::T\n",
    "    progress::T\n",
    "    progress_prev::T\n",
    "    current_point::Int\n",
    "    reached_goal_in_step::Bool\n",
    "    \n",
    "    r_tol::T\n",
    "    projected_position::Vector{T}\n",
    "\n",
    "    slow_mode::Bool\n",
    "    ######\n",
    "end"
   ]
  },
  {
   "cell_type": "code",
   "execution_count": 9,
   "id": "14a6873d",
   "metadata": {},
   "outputs": [],
   "source": [
    "# define a keyword-based constructor for the type declared in the mutable struct typedef. \n",
    "# It could also be done with the macro Base.@kwdef.\n",
    "function VtolEnv(;\n",
    "    rng = Random.GLOBAL_RNG, # Random number generation\n",
    "    name = \"Crazyflie\",\n",
    "    visualization = false,\n",
    "    realtime = false,\n",
    "    kwargs... # let the function take an arbitrary number of keyword arguments\n",
    ")\n",
    "    \n",
    "    T = Float64; # explicit type which is used e.g. in state. Cannot be altered due to the poor matrix defininon.\n",
    "    \n",
    "    # final PWM Values for Crazyflie. The interval definition has no effect in the current implementation.\n",
    "    action_space = Space(\n",
    "        ClosedInterval{T}[\n",
    "            0..1#0..65535, # motor 1\n",
    "            0..1#0..65535, # motor 2\n",
    "            0..1#0..65535, # motor 3\n",
    "            0..1#0..65535, # motor 4\n",
    "            ], \n",
    "    )\n",
    "\n",
    "    \n",
    "    state_space = Space( # Three continuous values in state space.\n",
    "        ClosedInterval{T}[\n",
    "            typemin(T)..typemax(T), # 1 x\n",
    "            typemin(T)..typemax(T), # 2 y\n",
    "            typemin(T)..typemax(T), # 3 z\n",
    "\n",
    "            typemin(T)..typemax(T), # 4  World Vector UP x\n",
    "            typemin(T)..typemax(T), # 5  World Vector UP y\n",
    "            typemin(T)..typemax(T), # 6  World Vector UP z\n",
    "\n",
    "            typemin(T)..typemax(T), # 7  World Vector FRONT x\n",
    "            typemin(T)..typemax(T), # 8  World Vector FRONT y\n",
    "            typemin(T)..typemax(T), # 9  World Vector FRONT z\n",
    "            \n",
    "            typemin(T)..typemax(T), # 10 Body velocity along x\n",
    "            typemin(T)..typemax(T), # 11 Body velocity along y\n",
    "            typemin(T)..typemax(T), # 12 Body velocity along z\n",
    "            \n",
    "            typemin(T)..typemax(T), # 13 Body rotational velocity around x\n",
    "            typemin(T)..typemax(T), # 14 Body rotational velocity around y\n",
    "            typemin(T)..typemax(T), # 15 Body rotational velocity around z\n",
    "            \n",
    "            ###NEW###\n",
    "            typemin(T)..typemax(T), # 16 position error along x (next gate - current position)\n",
    "            typemin(T)..typemax(T), # 17 position error along y (next gate - current position)\n",
    "            typemin(T)..typemax(T), # 18 position error along z (next gate - current position)\n",
    "            \n",
    "            typemin(T)..typemax(T), # 19 way to next next gate x (next next gate - next gate)\n",
    "            typemin(T)..typemax(T), # 20 way to next next gate y (next next gate - next gate)\n",
    "            typemin(T)..typemax(T), # 21 way to next next gate z (next next gate - next gate)\n",
    "            ######\n",
    "            ], \n",
    "    )\n",
    "\n",
    "    ###NEW###\n",
    "    num_waypoints = N_WAYPOINTS # number of waypoints, includig start point\n",
    "    waypoints = generate_trajectory(num_waypoints + 1) # trajectory with num_waypoints waypoints (+ start point), (with dummy points) \n",
    "    reached_goal = falses(num_waypoints)\n",
    "    \n",
    "    norm_way = 0.0 \n",
    "    for i in 1:(num_waypoints - 1)\n",
    "        norm_way += norm(waypoints[i] - waypoints[i + 1])\n",
    "    end\n",
    "    ######\n",
    "    \n",
    "    if visualization\n",
    "        create_Crazyflie(name, actuators = true);\n",
    "        visualize_waypoints(waypoints[1:num_waypoints], 0.05)\n",
    "\n",
    "        set_Crazyflie_actuators(name, [0.0; 0.0; 0.0; 0.0]);\n",
    "        set_transform(name, [0.0; 0.0; 0.0] ,one(QuatRotation));\n",
    "        set_arrow(string(name, \"vel\"), color_vec=[0.0; 1.0; 0.0; 1.0]);\n",
    "        transform_arrow(string(name, \"vel\"), [0.0; 0.0; 0.0], [0.0; 0.0; 1.0], max_head_radius=0.05)\n",
    "#         set_arrow(string(name, \"_vel_current\"), color_vec=[1.0; 0.0; 0.0; 1.0]);\n",
    "#         transform_arrow(string(name, \"_vel_current\"), [0.0; 0.0; 0.0], [0.0; 0.0; 1.0], max_head_radius=0.02)                  \n",
    "    end\n",
    "    \n",
    "\n",
    "\n",
    "    environment = VtolEnv(\n",
    "        action_space,\n",
    "        state_space,\n",
    "        zeros(T, length(state_space)), # current state, needs to be extended.\n",
    "        [0.25; 0.25; 0.25; 0.25],#rand(action_space), \n",
    "        false, # episode done ?\n",
    "        0.0, # time\n",
    "        rng, # random number generator  \n",
    "\n",
    "        name,\n",
    "        visualization,\n",
    "        realtime,\n",
    "\n",
    "        zeros(T, 3), # x_W\n",
    "        zeros(T, 3), # v_B\n",
    "        Matrix(one(QuatRotation)), # Float64... so T needs to be Float64\n",
    "        zeros(T, 3), # ω_B\n",
    "        zeros(T, 3), # wind_W\n",
    "        Δt, # Δt\n",
    "\n",
    "        num_waypoints, # includig start point\n",
    "        waypoints, \n",
    "        reached_goal,\n",
    "\n",
    "        norm_way, # norm_way\n",
    "        0.0, # progress\n",
    "        0.0, # progress_prev\n",
    "        2, # current point\n",
    "        false, # reached_goal_in_step\n",
    "        \n",
    "        R_TOL, # r_tol\n",
    "        zeros(T, 3), # projected_position\n",
    "\n",
    "        SLOW_MODE # slow_mode\n",
    "\n",
    "        )\n",
    "    \n",
    "    \n",
    "    RLBase.reset!(environment)\n",
    "    \n",
    "    return environment\n",
    "    \n",
    "end;"
   ]
  },
  {
   "cell_type": "markdown",
   "id": "ec660d5e",
   "metadata": {},
   "source": [
    "Just for explanation:\n",
    "\n",
    "1. A mutable Struct is created. A struct is a constructor and a constructor is a function that creates new objects.\n",
    "2. A outer keyword-based constructor method is added for the type declared in the mutable struct typedef before.\n",
    "\n",
    "So now we have a function with two methods. Julia will decide which method to call by multiple dispatch."
   ]
  },
  {
   "cell_type": "code",
   "execution_count": 10,
   "id": "23dd4047",
   "metadata": {},
   "outputs": [
    {
     "data": {
      "text/html": [
       "# 2 methods for type constructor:<ul><li> VtolEnv(; <i>rng, name, visualization, realtime, kwargs...</i>) in Main at In[9]:3</li> <li> VtolEnv(action_space::<b>A</b>, observation_space::<b>Space{Array{ClosedInterval{T}, 1}}</b>, state::<b>Vector{T}</b>, action::<b>ACT</b>, done::<b>Bool</b>, t::<b>T</b>, rng::<b>R</b>, name::<b>String</b>, visualization::<b>Bool</b>, realtime::<b>Bool</b>, x_W::<b>Vector{T}</b>, v_B::<b>Vector{T}</b>, R_W::<b>Matrix{T}</b>, ω_B::<b>Vector{T}</b>, wind_W::<b>Vector{T}</b>, Δt::<b>T</b>, num_waypoints::<b>Int64</b>, waypoints::<b>Array{Vector{T}, 1}</b>, reached_goal::<b>BitVector</b>, norm_way::<b>T</b>, progress::<b>T</b>, progress_prev::<b>T</b>, current_point::<b>Int64</b>, reached_goal_in_step::<b>Bool</b>, r_tol::<b>T</b>, projected_position::<b>Vector{T}</b>, slow_mode::<b>Bool</b>)<i> where {A, T, ACT, R<:AbstractRNG}</i> in Main at In[8]:2</li> </ul>"
      ],
      "text/plain": [
       "# 2 methods for type constructor:\n",
       "[1] VtolEnv(; rng, name, visualization, realtime, kwargs...) in Main at In[9]:3\n",
       "[2] VtolEnv(action_space::A, observation_space::Space{Array{ClosedInterval{T}, 1}}, state::Vector{T}, action::ACT, done::Bool, t::T, rng::R, name::String, visualization::Bool, realtime::Bool, x_W::Vector{T}, v_B::Vector{T}, R_W::Matrix{T}, ω_B::Vector{T}, wind_W::Vector{T}, Δt::T, num_waypoints::Int64, waypoints::Array{Vector{T}, 1}, reached_goal::BitVector, norm_way::T, progress::T, progress_prev::T, current_point::Int64, reached_goal_in_step::Bool, r_tol::T, projected_position::Vector{T}, slow_mode::Bool) where {A, T, ACT, R<:AbstractRNG} in Main at In[8]:2"
      ]
     },
     "execution_count": 10,
     "metadata": {},
     "output_type": "execute_result"
    }
   ],
   "source": [
    "methods(VtolEnv)"
   ]
  },
  {
   "cell_type": "markdown",
   "id": "806413d1",
   "metadata": {},
   "source": [
    "# Define the RL interface"
   ]
  },
  {
   "cell_type": "code",
   "execution_count": 11,
   "id": "0f822029",
   "metadata": {},
   "outputs": [],
   "source": [
    "Random.seed!(env::VtolEnv, seed) = Random.seed!(env.rng, seed)\n",
    "RLBase.action_space(env::VtolEnv) = env.action_space\n",
    "RLBase.state_space(env::VtolEnv) = env.observation_space\n",
    "RLBase.is_terminated(env::VtolEnv) = env.done\n",
    "RLBase.state(env::VtolEnv) = env.state"
   ]
  },
  {
   "cell_type": "code",
   "execution_count": 12,
   "id": "b5e32e25",
   "metadata": {},
   "outputs": [],
   "source": [
    "function scale_for_slowmode(slow_mode::Bool, v_min::T, v_max::T, d_max::T, x_W::Vector{T}, projected_position::Vector{T}, v_B::Vector{T}) where T\n",
    "    \n",
    "    if slow_mode == false\n",
    "        return 1\n",
    "    else\n",
    "        if norm(v_B) > v_max\n",
    "            s_vmax = 10^(v_max - norm(v_B))\n",
    "        else\n",
    "            s_vmax = 1\n",
    "        end\n",
    "\n",
    "        if norm(v_B) < v_min\n",
    "            s_vmin = 10^(norm(v_B) - v_min)\n",
    "        else\n",
    "            s_vmin = 1\n",
    "        end\n",
    "\n",
    "        if norm(x_W - projected_position) > d_max\n",
    "            s_gd = exp(-norm(x_W - projected_position) + d_max)\n",
    "        else\n",
    "            s_gd = 1\n",
    "        end\n",
    "        s = s_vmax * s_vmin * s_gd\n",
    "    end\n",
    "    return s\n",
    "end;"
   ]
  },
  {
   "cell_type": "code",
   "execution_count": 13,
   "id": "1f7fb89c",
   "metadata": {},
   "outputs": [],
   "source": [
    "function computeReward(env::VtolEnv{A,T}) where {A,T}\n",
    "    \n",
    "    \n",
    "    if env.slow_mode\n",
    "        v_min = 1.0 # min velocity\n",
    "        v_max = 3.0 # max velocity\n",
    "        d_max = 0.5 \n",
    "    else\n",
    "        v_min = 4.0 # min velocity\n",
    "        v_max = 50.0 # max velocity\n",
    "        d_max = 1.0 \n",
    "    end\n",
    "\n",
    "\n",
    "    s = scale_for_slowmode(true, v_min, v_max, d_max, env.x_W, env.projected_position, env.v_B)\n",
    "    \n",
    "    k_p = 5.0 * s #/ env.norm_way # factor for progress (between current position and last position) reward \n",
    "    r_p = (env.progress - env.progress_prev); # reward for progress (between current position and last position)\n",
    "\n",
    "    k_s = s * (2 * v_max * env.Δt) / env.norm_way # factor for reached distance (overall) reward\n",
    "    r_s = env.progress # reward for reached distance (overall)\n",
    "    \n",
    "    k_wp = 50.0 # factor for reached gate reward\n",
    "    r_wp = 0.0 # reward for reached gate\n",
    "    if env.reached_goal_in_step\n",
    "        r_wp = exp(-norm(env.x_W - env.waypoints[env.current_point - 1])/env.r_tol)\n",
    "    end \n",
    "\n",
    "    # factor for too high body rate penalty\n",
    "    if env.slow_mode\n",
    "        k_ω = 0.01\n",
    "    else\n",
    "        k_ω = 0.001\n",
    "    end\n",
    "    #norm_ω = norm(env.ω_B[3]) # penalty for body rate\n",
    "    norm_ω = norm(env.ω_B) # penalty for body rate\n",
    "\n",
    "    if env.x_W[3] < 0\n",
    "        fall = 1\n",
    "    else\n",
    "        fall = 0\n",
    "    end\n",
    "    \n",
    "    if !env.slow_mode\n",
    "        k_s /= env.norm_way\n",
    "        k_p /= env.norm_way\n",
    "    end\n",
    "    \n",
    "    return k_p * r_p + k_s * r_s + k_wp * r_wp - k_ω * norm_ω - fall\n",
    "    \n",
    "end\n",
    "\n",
    "\n",
    "RLBase.reward(env::VtolEnv{A,T}) where {A,T} = computeReward(env)"
   ]
  },
  {
   "cell_type": "code",
   "execution_count": 14,
   "id": "ae45ec04",
   "metadata": {},
   "outputs": [],
   "source": [
    "function RLBase.reset!(env::VtolEnv{A,T}) where {A,T}\n",
    "    \n",
    "    env.x_W = [0.0; 0.0; 0.0];\n",
    "    env.v_B = [0.0; 0.0; 0.0];\n",
    "    env.R_W = Matrix(one(QuatRotation)); # Identity matrix (no rotation)\n",
    "    env.ω_B = [0.0; 0.0; 0.0];\n",
    "    env.wind_W = [0.0; 0.0; 0.0];\n",
    "\n",
    "\n",
    "    env.waypoints = generate_trajectory(env.num_waypoints + 1); # Dummy points\n",
    "    env.reached_goal = falses(env.num_waypoints);\n",
    "    env.reached_goal[1] = true; # set first point to reached (start point)\n",
    "    \n",
    "    env.current_point = 2;\n",
    "    env.reached_goal_in_step = false;\n",
    "    #env.r_tol = 0.3;\n",
    "    \n",
    "    if env.visualization\n",
    "        visualize_waypoints(env.waypoints[1:env.num_waypoints], 0.05); \n",
    "    end\n",
    "    \n",
    "    norm_way = 0.0 \n",
    "    for i in 1:(env.num_waypoints - 1)\n",
    "        norm_way += norm(env.waypoints[i] - env.waypoints[i + 1])\n",
    "    end\n",
    "    \n",
    "    env.norm_way = norm_way\n",
    "    env.progress = 0.0;\n",
    "    env.progress_prev = 0.0;\n",
    "        \n",
    "\n",
    "    env.state = [env.x_W[1]; # 1 position along x\n",
    "                 env.x_W[2]; # 2 position along y\n",
    "                 env.x_W[3]; # 3 position along z\n",
    "\n",
    "                 env.R_W[1,1];\n",
    "                 env.R_W[2,1];\n",
    "                 env.R_W[3,1];\n",
    "        \n",
    "                 env.R_W[1,3]; # 4  World Vector UP x\n",
    "                 env.R_W[2,3]; # 5  World Vector UP y\n",
    "                 env.R_W[3,3]; # 6  World Vector UP z\n",
    "\n",
    "#                  env.R_W[1,1]; # 7  World Vector FRONT x\n",
    "#                  env.R_W[2,1]; # 8  World Vector FRONT y\n",
    "#                  env.R_W[3,1]; # 9  World Vector FRONT z\n",
    "\n",
    "                 env.v_B[1]; #  10 Body velocity along x\n",
    "                 env.v_B[2]; #  11 Body velocity along y\n",
    "                 env.v_B[3]; #  12 Body velocity along z\n",
    "\n",
    "                 env.ω_B[1]; #  13  Body rotational velocity around x\n",
    "                 env.ω_B[2]; #  14  Body rotational velocity around y\n",
    "                 env.ω_B[3]; #  15  Body rotational velocity around z\n",
    "\n",
    "                 env.waypoints[2][1] - env.x_W[1]; # 16 position error to next gate along x\n",
    "                 env.waypoints[2][2] - env.x_W[2]; # 17 position error to next gate along z\n",
    "                 env.waypoints[2][3] - env.x_W[3]; # 18 position error to next gate along z\n",
    "                 \n",
    "                 env.waypoints[3][1] - env.waypoints[2][1]; # 19 way to next next gate x \n",
    "                 env.waypoints[3][2] - env.waypoints[2][2]; # 20 way to next next gate y\n",
    "                 env.waypoints[3][3] - env.waypoints[2][3]]  # 21 way to next next gate z \n",
    "    \n",
    "\n",
    "    env.t = 0.0; # time 0s\n",
    "    env.action = [0.25; 0.25; 0.25; 0.25] # normalized \n",
    "    #env.last_action = [0.255; 0.255; 0.255; 0.255] # normalized\n",
    "    #env.current_action = [0.255; 0.255; 0.255; 0.255] # normalized\n",
    "\n",
    "    env.done = false # reset termination\n",
    "\n",
    "    env.projected_position = [0; 0; 0]\n",
    "    \n",
    "    if env.visualization\n",
    "        # Visualize initial state\n",
    "        set_transform(env.name, env.x_W,QuatRotation(env.R_W));\n",
    "        set_Crazyflie_actuators(env.name, [0.0; 0.0; 0.0; 0.0]);\n",
    "        #transform_arrow(string(env.name, \"_vel\"), env.x_W, env.v_W_target, max_head_radius=0.05) \n",
    "        transform_arrow(string(env.name, \"vel\"), env.x_W, [0.0; 0.0; 0.0], max_head_radius=0.05) \n",
    "    end\n",
    "    \n",
    "    nothing # return nothing\n",
    "end;"
   ]
  },
  {
   "cell_type": "code",
   "execution_count": 15,
   "id": "1cf1a7b7",
   "metadata": {},
   "outputs": [],
   "source": [
    "# defines a methods for a callable object.\n",
    "# So when a VtolEnv object is created, it has this method that can be called\n",
    "function (env::VtolEnv)(a)\n",
    "\n",
    "\n",
    "    # call the step on the environoment with the next action \n",
    "    _step!(env, a)\n",
    "        \n",
    "end"
   ]
  },
  {
   "cell_type": "code",
   "execution_count": 16,
   "id": "26a5a0da",
   "metadata": {},
   "outputs": [],
   "source": [
    "env = VtolEnv();"
   ]
  },
  {
   "cell_type": "code",
   "execution_count": 17,
   "id": "ff8f68a7",
   "metadata": {},
   "outputs": [
    {
     "data": {
      "text/html": [
       "# 3 methods for callable object:<ul><li> (env::<b>VtolEnv</b>)(a) in Main at In[15]:3</li> <li> (env::<b>AbstractEnv</b>)(action) in ReinforcementLearningBase</li> <li> (env::<b>AbstractEnv</b>)(action, player) in ReinforcementLearningBase</li> </ul>"
      ],
      "text/plain": [
       "# 3 methods for callable object:\n",
       "[1] (env::VtolEnv)(a) in Main at In[15]:3\n",
       "[2] (env::AbstractEnv)(action) in ReinforcementLearningBase\n",
       "[3] (env::AbstractEnv)(action, player) in ReinforcementLearningBase"
      ]
     },
     "execution_count": 17,
     "metadata": {},
     "output_type": "execute_result"
    }
   ],
   "source": [
    "methods(env) # Just to explain which methods the object has"
   ]
  },
  {
   "cell_type": "code",
   "execution_count": 18,
   "id": "d4d67302",
   "metadata": {},
   "outputs": [
    {
     "data": {
      "text/plain": [
       "scale_actions (generic function with 1 method)"
      ]
     },
     "execution_count": 18,
     "metadata": {},
     "output_type": "execute_result"
    }
   ],
   "source": [
    "function scale_actions(next_action)\n",
    "    return next_action*22000.0\n",
    "end"
   ]
  },
  {
   "cell_type": "code",
   "execution_count": 19,
   "id": "9e7d4727",
   "metadata": {},
   "outputs": [],
   "source": [
    "function _step!(env::VtolEnv, next_action)\n",
    "    \n",
    "\n",
    "    #env.last_action = copy(env.current_action)\n",
    "    #env.current_action[1] = next_action[1]\n",
    "    #env.current_action[2] = next_action[2]\n",
    "    #env.current_action[3] = next_action[3]\n",
    "    #env.current_action[4] = next_action[4]\n",
    "    \n",
    "    \n",
    "    \n",
    "    scaled_actions = scale_actions.(next_action) # between 0 and 1 for neual network\n",
    "    # caluclate wind impact\n",
    "    v_in_wind_B = vtol_add_wind(env.v_B, env.R_W, env.wind_W)\n",
    "    # caluclate aerodynamic forces\n",
    "    torque_B, force_B = crazyflie_model(scaled_actions);\n",
    "    # integrate rigid body dynamics for Δt\n",
    "    env.x_W, env.v_B, env.R_W, env.ω_B, env.t = rigid_body_simple(torque_B, force_B, env.x_W, env.v_B, env.R_W, env.ω_B, env.t, env.Δt, crazyflie_param)\n",
    "\n",
    "    \n",
    "    env.reached_goal_in_step = false;\n",
    "    if norm(env.x_W - env.waypoints[env.current_point]) < env.r_tol\n",
    "        env.reached_goal_in_step = true;\n",
    "        env.reached_goal[env.current_point] = true;\n",
    "        env.current_point += 1;\n",
    "    end\n",
    "        \n",
    "            \n",
    "    # calculate progress on trajectory\n",
    "    env.progress_prev = env.progress\n",
    "    \n",
    "    current_progress = 0.0\n",
    "    line_segment, env.projected_position = calculate_progress(env.waypoints, env.x_W)\n",
    "    \n",
    "    #env.current_point = line_segment + 1\n",
    "\n",
    "    for i in 2:(line_segment)\n",
    "       current_progress +=  norm(env.waypoints[i] - env.waypoints[i - 1])  \n",
    "    end\n",
    "    current_progress += norm(env.waypoints[line_segment] - env.projected_position)\n",
    "    \n",
    "    env.progress = current_progress\n",
    "    \n",
    "\n",
    "    if env.realtime\n",
    "        sleep(env.Δt) # TODO: just a dirty hack. this is of course slower than real time.\n",
    "    end\n",
    "\n",
    "\n",
    "\n",
    "    if env.visualization\n",
    "        set_transform(env.name, env.x_W,QuatRotation(env.R_W));\n",
    "        set_Crazyflie_actuators(env.name, next_action[1:4])\n",
    "        #transform_arrow(string(env.name, \"_vel\"), env.x_W, env.v_W_target, max_head_radius=0.05)               \n",
    "        transform_arrow(string(env.name, \"vel\"), env.x_W, env.R_W*env.v_B, max_head_radius=0.05) \n",
    "    \n",
    "        for i in eachindex(env.reached_goal)\n",
    "            if env.reached_goal[i]\n",
    "                create_sphere(\"fixgoal_$i\", 0.05, color=RGBA{Float32}(1.0, 0.0, 0.0, 1.0));\n",
    "                set_transform(\"fixgoal_$i\", env.waypoints[i]);\n",
    "            end\n",
    "        end\n",
    "\n",
    "    end\n",
    "    \n",
    "    \n",
    "    #v_B_target = transpose(env.R_W)*env.v_W_target\n",
    "    \n",
    "    \n",
    "    # State space\n",
    "    env.state[1] = env.x_W[1];\n",
    "    env.state[2] = env.x_W[2];\n",
    "    env.state[3] = env.x_W[3];\n",
    "    \n",
    "    env.state[4] = env.R_W[1,1] # 1  World Vector UP x\n",
    "    env.state[5] = env.R_W[2,1] # 2  World Vector UP y\n",
    "    env.state[6] = env.R_W[3,1] # 3  World Vector UP z\n",
    "\n",
    "    env.state[7] = env.R_W[1,3] # 4  World Vector FRONT x\n",
    "    env.state[8] = env.R_W[2,3] # 5  World Vector FRONT y\n",
    "    env.state[9] = env.R_W[3,3] # 6  World Vector FRONT z\n",
    "        \n",
    "    env.state[10] = env.v_B[1] # 7  Body velocity along x\n",
    "    env.state[11] = env.v_B[2] # 8  Body velocity along y\n",
    "    env.state[12] = env.v_B[3] # 9  Body velocity along z\n",
    "\n",
    "    env.state[13] = env.ω_B[1] # 10 Body rotational velocity around x\n",
    "    env.state[14] = env.ω_B[2] # 11 Body rotational velocity around y\n",
    "    env.state[15] = env.ω_B[3] # 12 Body rotational velocity around z\n",
    "\n",
    "    env.state[16] = env.waypoints[env.current_point][1] - env.x_W[1] # 13 position error to next gate along x\n",
    "    env.state[17] = env.waypoints[env.current_point][2] - env.x_W[2]; # 14 position error to next gate along z\n",
    "    env.state[18] = env.waypoints[env.current_point][3] - env.x_W[3]; # 15 position error to next gate along z\n",
    "                 \n",
    "    if env.current_point <= env.num_waypoints\n",
    "        env.state[19] = env.waypoints[env.current_point + 1][1] - env.waypoints[env.current_point][1] ; # 16 way to next next gate x (next next gate - next gate), dummy integriert\n",
    "        env.state[20] = env.waypoints[env.current_point + 1][2] - env.waypoints[env.current_point][2]; # 17 way to next next gate y (next next gate - next gate), dummy integriert\n",
    "        env.state[21] = env.waypoints[env.current_point + 1][3] - env.waypoints[env.current_point][3]; # 18 way to next next gate z (next next gate - next gate), dummy integriert\n",
    "    end\n",
    "\n",
    "    \n",
    "    \n",
    "    # Termination criteria\n",
    "    env.done = #true\n",
    "        # After time... How fast is drone+Range of desired point\n",
    "        # After reaching position (circle of r_tol)\n",
    "         norm(env.ω_B) > 100.0 || \n",
    "         norm(env.v_B) > 100.0 || # stop if body is too fast_point \n",
    "        env.x_W[3] < -1.0 || # stop if body is below -5m\n",
    "        env.t > env.num_waypoints * 3.0 ||# stop after 3s per point \n",
    "        norm(env.x_W - env.projected_position) > 5.0 || # too far off the path \n",
    "        env.reached_goal == trues(env.num_waypoints)\n",
    "\n",
    "    nothing\n",
    "end;"
   ]
  },
  {
   "cell_type": "code",
   "execution_count": 20,
   "id": "6e1cd988",
   "metadata": {},
   "outputs": [
    {
     "name": "stdout",
     "output_type": "stream",
     "text": [
      "\u001b[0m\u001b[1mTest Summary:              | \u001b[22m\u001b[32m\u001b[1mPass  \u001b[22m\u001b[39m\u001b[36m\u001b[1mTotal  \u001b[22m\u001b[39m\u001b[0m\u001b[1mTime\u001b[22m\n",
      "random policy with VtolEnv | \u001b[32m2000  \u001b[39m\u001b[36m 2000  \u001b[39m\u001b[0m2.7s\n"
     ]
    },
    {
     "data": {
      "text/plain": [
       "Test.DefaultTestSet(\"random policy with VtolEnv\", Any[], 2000, false, false, true, 1.676968600743959e9, 1.676968603485356e9)"
      ]
     },
     "execution_count": 20,
     "metadata": {},
     "output_type": "execute_result"
    }
   ],
   "source": [
    "RLBase.test_runnable!(env)"
   ]
  },
  {
   "cell_type": "markdown",
   "id": "c223a31f",
   "metadata": {},
   "source": [
    "Show an overview of the environment."
   ]
  },
  {
   "cell_type": "markdown",
   "id": "ffe6de74",
   "metadata": {},
   "source": [
    "# Setup of a reinforcement learning experiment."
   ]
  },
  {
   "cell_type": "code",
   "execution_count": 21,
   "id": "e5683fe8",
   "metadata": {},
   "outputs": [
    {
     "data": {
      "text/markdown": [
       "MultiThreadEnv(8 x VtolEnv)"
      ],
      "text/plain": [
       "MultiThreadEnv(8 x VtolEnv)"
      ]
     },
     "execution_count": 21,
     "metadata": {},
     "output_type": "execute_result"
    }
   ],
   "source": [
    "seed = 123    \n",
    "rng = StableRNG(seed)\n",
    "N_ENV = 8\n",
    "UPDATE_FREQ = 1024\n",
    "    \n",
    "    \n",
    "    # define multiple environments for parallel training\n",
    "    env = MultiThreadEnv([\n",
    "        # use different names for the visualization\n",
    "        VtolEnv(; rng = StableRNG(hash(seed+i)), name = \"cf_PPO$i\") for i in 1:N_ENV\n",
    "    ])\n",
    "\n"
   ]
  },
  {
   "cell_type": "code",
   "execution_count": 22,
   "id": "d1f128b2",
   "metadata": {},
   "outputs": [],
   "source": [
    "# Define the function approximator\n",
    "    ns, na = length(state(env[1])), length(action_space(env[1]))\n",
    "    approximator = ActorCritic(\n",
    "                actor = GaussianNetwork(\n",
    "                    pre = Chain(\n",
    "                    Dense(ns, 256, tanh; initW = glorot_uniform(rng)),\n",
    "                    Dense(256, 256, tanh; initW = glorot_uniform(rng)),\n",
    "                    ),\n",
    "                    μ = Chain(Dense(256, na; initW = glorot_uniform(rng))),\n",
    "                    logσ = Chain(Dense(256, na; initW = glorot_uniform(rng))),\n",
    "                ),\n",
    "                critic = Chain(\n",
    "                    Dense(ns, 256, tanh; initW = glorot_uniform(rng)),\n",
    "                    Dense(256, 256, tanh; initW = glorot_uniform(rng)),\n",
    "                    Dense(256, 1; initW = glorot_uniform(rng)),\n",
    "                ),\n",
    "                optimizer = ADAM(1e-4),\n",
    "            );"
   ]
  },
  {
   "cell_type": "code",
   "execution_count": 23,
   "id": "7ea4c37c",
   "metadata": {},
   "outputs": [],
   "source": [
    "    agent = Agent( # A wrapper of an AbstractPolicy\n",
    "         \n",
    "\n",
    "        # AbstractPolicy: the policy to use\n",
    "        policy = PPOPolicy(;\n",
    "                    approximator = approximator |> cpu,\n",
    "                    update_freq=UPDATE_FREQ,\n",
    "                    dist = Normal,\n",
    "                    # For parameters visit the docu: https://juliareinforcementlearning.org/docs/rlzoo/#ReinforcementLearningZoo.PPOPolicy\n",
    "                    ),\n",
    "        \n",
    "        # AbstractTrajectory: used to store transitions between an agent and an environment source\n",
    "        trajectory = PPOTrajectory(;\n",
    "            capacity = UPDATE_FREQ,\n",
    "            state = Matrix{Float64} => (ns, N_ENV),\n",
    "            action = Matrix{Float64} => (na, N_ENV),\n",
    "            action_log_prob = Vector{Float64} => (N_ENV,),\n",
    "            reward = Vector{Float64} => (N_ENV,),\n",
    "            terminal = Vector{Bool} => (N_ENV,),\n",
    "        ),\n",
    "    );\n"
   ]
  },
  {
   "cell_type": "code",
   "execution_count": 24,
   "id": "7f158a93",
   "metadata": {},
   "outputs": [],
   "source": [
    "function saveModel(t, agent, env)\n",
    "    model = cpu(agent.policy.approximator)\n",
    "    if SLOW_MODE\n",
    "        f = joinpath(\"./RL_models_slow/\", \"cf_ppo_$(t).bson\")\n",
    "    else\n",
    "        f = joinpath(\"./RL_models_fast/\", \"cf_ppo_$(t).bson\") \n",
    "    end\n",
    "    @save f model\n",
    "    println(\"parameters at step $t saved to $f\")\n",
    "end;\n"
   ]
  },
  {
   "cell_type": "code",
   "execution_count": 25,
   "id": "301a9bd8",
   "metadata": {},
   "outputs": [],
   "source": [
    "function loadModel()\n",
    "    f = joinpath(\"./RL_models_slow/\", \"cf_ppo_$(load_from_slow_step).bson\")\n",
    "    @load f model\n",
    "    return model\n",
    "end;"
   ]
  },
  {
   "cell_type": "code",
   "execution_count": 26,
   "id": "2adefdb1",
   "metadata": {},
   "outputs": [],
   "source": [
    "function validate_policy_vis(t, agent, env)\n",
    "    run(agent.policy, test_env, StopAfterEpisode(1), episode_test_reward_hook)\n",
    "    # the result of the hook\n",
    "    println(\"test reward at step $t: $(episode_test_reward_hook.rewards[end])\")\n",
    "    \n",
    "end;\n",
    "\n",
    "visualize_validation = true; # TODO set as desired\n",
    "episode_test_reward_hook = TotalRewardPerEpisode(;is_display_on_exit=false)\n",
    "# create a env only for reward test\n",
    "test_env = VtolEnv(;name = \"test_cf\", visualization = visualize_validation, realtime = visualize_validation);"
   ]
  },
  {
   "cell_type": "code",
   "execution_count": 27,
   "id": "751137af",
   "metadata": {},
   "outputs": [],
   "source": [
    "function validate_policy(t, agent, env)\n",
    "    # for validation extract the policy from the agend\n",
    "    run(agent.policy, test_env, StopAfterEpisode(1), \n",
    "        ComposedHook(\n",
    "        episode_test_step_hook, \n",
    "        episode_test_reward_hook\n",
    "    ),\n",
    "        )\n",
    "    # the result of the hook\n",
    "    reward = round((episode_test_reward_hook.rewards[end]),digits = 3)\n",
    "    length = episode_test_step_hook.steps[end-1]\n",
    "    \n",
    "    println(\"step: \", t, \" reward : \",reward, \" length: \", length)\n",
    "\n",
    "    with_logger(logger) do\n",
    "        @info \"evaluating\" avg_length = length  avg_reward = reward  log_step_increment = 0\n",
    "    end\n",
    "end;\n",
    "\n",
    "episode_test_reward_hook = TotalRewardPerEpisode( is_display_on_exit=false)\n",
    "episode_test_step_hook = StepsPerEpisode()\n",
    "# create a env only for reward test\n",
    "\n",
    "test_env = VtolEnv(;name = \"test_cf\", visualization = true, realtime = true);\n",
    "#test_env = VtolEnv(;name = \"test_cf\", visualization = false, realtime = false);"
   ]
  },
  {
   "cell_type": "code",
   "execution_count": 28,
   "id": "897ce270",
   "metadata": {},
   "outputs": [
    {
     "data": {
      "text/plain": [
       "40000000"
      ]
     },
     "execution_count": 28,
     "metadata": {},
     "output_type": "execute_result"
    }
   ],
   "source": [
    "# number of steps\n",
    "steps_slow = 40_000_000\n",
    "steps_fast = 40_000_000\n",
    "load_from_slow_step = 40_000_000 # TODO: choose slow model\n",
    "\n",
    "save_freq = 100_000\n",
    "validate_freq = 100_000\n",
    "\n",
    "steps = 0\n",
    "if SLOW_MODE\n",
    "    steps = steps_slow\n",
    "else\n",
    "    steps = steps_fast\n",
    "end"
   ]
  },
  {
   "cell_type": "code",
   "execution_count": 29,
   "id": "0e8fad8f",
   "metadata": {},
   "outputs": [],
   "source": [
    "# Define hook which is called during the training\n",
    "total_batch_reward_per_episode = TotalBatchRewardPerEpisode(N_ENV, is_display_on_exit = false)\n",
    "hook = ComposedHook(\n",
    "    total_batch_reward_per_episode,\n",
    "    DoEveryNStep(saveModel, n=save_freq),\n",
    "    DoEveryNStep(validate_policy, n=validate_freq),\n",
    "    #=\n",
    "    DoEveryNStep() do t, agent, env\n",
    "        p = agent.policy\n",
    "        with_logger(logger) do\n",
    "            @info \"training\" loss = mean(p.loss)  actor_loss = mean(p.actor_loss)  critic_loss = mean(p.critic_loss)\n",
    "        end\n",
    "    end,\n",
    "    =#\n",
    "    DoEveryNStep() do t, agent, env\n",
    "        with_logger(logger) do\n",
    "            rewards = [\n",
    "                total_batch_reward_per_episode.rewards[i][end] for i in 1:length(env)  if is_terminated(env[i])\n",
    "                    ]\n",
    "            if length(rewards) > 0\n",
    "                @info \"training\" reward = mean(rewards)\n",
    "            end\n",
    "        end\n",
    "    end,\n",
    "    #=\n",
    "    DoEveryNStep() do t, agent, env\n",
    "        with_logger(logger) do\n",
    "            @info \"training\" action_thrust_1 = env[1].action[1]  action_thrust_2 = env[1].action[2] action_thrust_3 = env[1].action[3] action_thrust_4 = env[1].action[4]\n",
    "        end\n",
    "    end,\n",
    "    =#\n",
    ");"
   ]
  },
  {
   "cell_type": "code",
   "execution_count": 30,
   "id": "174f8124",
   "metadata": {},
   "outputs": [],
   "source": [
    "if !SLOW_MODE\n",
    "    agent.policy.approximator = loadModel(); \n",
    "end;"
   ]
  },
  {
   "cell_type": "code",
   "execution_count": 31,
   "id": "45dfdb68",
   "metadata": {
    "scrolled": false
   },
   "outputs": [],
   "source": [
    "if TRAINING\n",
    "    ReinforcementLearning.run(\n",
    "        agent,\n",
    "        env,\n",
    "        StopAfterStep(steps),\n",
    "        hook\n",
    "    )\n",
    "end"
   ]
  },
  {
   "cell_type": "code",
   "execution_count": 32,
   "id": "21a5d7b6",
   "metadata": {},
   "outputs": [],
   "source": [
    "if TRAINING\n",
    "    plot(episode_test_reward_hook.rewards)\n",
    "end"
   ]
  },
  {
   "cell_type": "code",
   "execution_count": 33,
   "id": "41c1dc36",
   "metadata": {},
   "outputs": [],
   "source": [
    "if TRAINING\n",
    "    plot(episode_test_step_hook.steps[1:2:end])\n",
    "end"
   ]
  },
  {
   "cell_type": "code",
   "execution_count": 34,
   "id": "0be19c7e",
   "metadata": {},
   "outputs": [],
   "source": [
    "close_visualization(); # closes the MeshCat visualization"
   ]
  },
  {
   "cell_type": "markdown",
   "id": "d1be7fc6",
   "metadata": {},
   "source": [
    "# Evaluation"
   ]
  },
  {
   "cell_type": "code",
   "execution_count": 35,
   "id": "8a39200a",
   "metadata": {},
   "outputs": [],
   "source": [
    "test_env = VtolEnv(;name = \"test_cf\");"
   ]
  },
  {
   "cell_type": "code",
   "execution_count": 36,
   "id": "345f65ce",
   "metadata": {},
   "outputs": [],
   "source": [
    "function loadModel(path, num)\n",
    "    f = joinpath(path, \"cf_ppo_$num.bson\") \n",
    "    @load f model\n",
    "    return model\n",
    "end;"
   ]
  },
  {
   "cell_type": "code",
   "execution_count": 37,
   "id": "ed379703",
   "metadata": {},
   "outputs": [],
   "source": [
    "function validate(num_models, num_test)\n",
    "    episode_test_reward_hook = TotalRewardPerEpisode(;is_display_on_exit=false)\n",
    "    # create a env only for reward test\n",
    "    for i in 1:num_models\n",
    "          \n",
    "        sum_rewards_model = 0;\n",
    "        sum_successes_model = 0;\n",
    "        sum_avg_vel_model = 0;\n",
    "        sum_compl_time = 0;\n",
    "        n_success = 0;\n",
    "        \n",
    "        for exp in 1:num_test\n",
    "            if SLOW_MODE\n",
    "                path = \"./RL_models_slow/\"\n",
    "            else\n",
    "                path = \"./RL_models_fast/\"\n",
    "            end\n",
    "            agent.policy.approximator = loadModel(path, i * save_freq); \n",
    "            RLBase.reset!(test_env)\n",
    "            run(agent.policy, test_env, StopAfterEpisode(1), episode_test_reward_hook)\n",
    "            # the result of the hook\n",
    "            sum_rewards_model += episode_test_reward_hook.rewards[end];\n",
    "            \n",
    "            if test_env.reached_goal == trues(test_env.num_waypoints)\n",
    "                n_success += 1\n",
    "                sum_avg_vel_model += test_env.norm_way / test_env.t\n",
    "                sum_compl_time += test_env.t\n",
    "            end\n",
    "        end\n",
    "        \n",
    "        rewards[i] = sum_rewards_model / num_test;\n",
    "        success_rate[i] = n_success / num_test;\n",
    "        if n_success > 0\n",
    "            avg_velocity[i] = sum_avg_vel_model / n_success;\n",
    "            avg_compl_time[i] = sum_compl_time / n_success;\n",
    "        else\n",
    "            avg_velocity[i] = NaN\n",
    "            avg_compl_time[i] = NaN\n",
    "        end\n",
    "        percent = percent = round(i * 100 / num_models, digits=2)\n",
    "        print(\"progress: $(percent)%   \\r\")\n",
    "        flush(stdout)\n",
    "        \n",
    "    end\n",
    "    \n",
    "    \n",
    "end;"
   ]
  },
  {
   "cell_type": "code",
   "execution_count": 38,
   "id": "21a98dd6",
   "metadata": {
    "scrolled": true
   },
   "outputs": [
    {
     "name": "stdout",
     "output_type": "stream",
     "text": [
      "progress: 100.0%   \r"
     ]
    }
   ],
   "source": [
    "if EVALUATION\n",
    "    \n",
    "    NUM_MODELS = Int(steps / save_freq);  \n",
    "    NUM_TEST = 200; # TODO: change as desired \n",
    "\n",
    "    rewards = zeros(NUM_MODELS, 1);\n",
    "    success_rate = zeros(NUM_MODELS, 1);\n",
    "    avg_velocity = zeros(NUM_MODELS, 1);\n",
    "    avg_compl_time = zeros(NUM_MODELS, 1);\n",
    "    \n",
    "    validate(NUM_MODELS, NUM_TEST);\n",
    "    \n",
    "end;"
   ]
  },
  {
   "cell_type": "code",
   "execution_count": 39,
   "id": "ab909865",
   "metadata": {},
   "outputs": [],
   "source": [
    "if EVALUATION\n",
    "    results_path = pwd() * \"/plots/\";\n",
    "    if SLOW_MODE\n",
    "        results_path = results_path * \"slow/\"\n",
    "    else\n",
    "        results_path = results_path * \"fast/\"\n",
    "    end\n",
    "    \n",
    "    save(results_path * \"iterations.jld\", \"data\", [1:NUM_MODELS] * save_freq) \n",
    "    \n",
    "    save(results_path * \"avg_comp_time.jld\", \"data\", avg_compl_time)\n",
    "    \n",
    "    save(results_path * \"avg_velocity.jld\", \"data\", avg_velocity)\n",
    "    \n",
    "    save(results_path * \"reward.jld\", \"data\", rewards) \n",
    "        \n",
    "    save(results_path * \"success_rate.jld\", \"data\", success_rate)\n",
    "end;"
   ]
  },
  {
   "cell_type": "code",
   "execution_count": 40,
   "id": "0ea2a032",
   "metadata": {},
   "outputs": [],
   "source": [
    "results_path = pwd() * \"/plots/\";\n",
    "if SLOW_MODE\n",
    "    results_path = results_path * \"slow/\"\n",
    "else\n",
    "    results_path = results_path * \"fast/\"\n",
    "end\n",
    "\n",
    "iterations = load(results_path * \"iterations.jld\")[\"data\"];\n",
    "avg_compl_time = load(results_path * \"avg_comp_time.jld\")[\"data\"];\n",
    "avg_velocity = load(results_path * \"avg_velocity.jld\")[\"data\"];\n",
    "rewards = load(results_path * \"reward.jld\")[\"data\"];\n",
    "success_rate = load(results_path * \"success_rate.jld\")[\"data\"];"
   ]
  },
  {
   "cell_type": "code",
   "execution_count": 41,
   "id": "26466af1",
   "metadata": {},
   "outputs": [
    {
     "data": {
      "text/plain": [
       "\"/home/larissa/Documents/Projects/ADLR/ADLR_project/src/RL_PPO_quadcopter_3D/plots/slow/\""
      ]
     },
     "execution_count": 41,
     "metadata": {},
     "output_type": "execute_result"
    }
   ],
   "source": [
    "fig_path = pwd() * \"/plots/\";\n",
    "if SLOW_MODE\n",
    "    fig_path = fig_path * \"slow/\"\n",
    "else\n",
    "    fig_path = fig_path * \"fast/\"\n",
    "end"
   ]
  },
  {
   "cell_type": "code",
   "execution_count": 42,
   "id": "c4cc649e",
   "metadata": {},
   "outputs": [
    {
     "data": {
      "image/svg+xml": [
       "<?xml version=\"1.0\" encoding=\"utf-8\"?>\n",
       "<svg xmlns=\"http://www.w3.org/2000/svg\" xmlns:xlink=\"http://www.w3.org/1999/xlink\" width=\"600\" height=\"400\" viewBox=\"0 0 2400 1600\">\n",
       "<defs>\n",
       "  <clipPath id=\"clip160\">\n",
       "    <rect x=\"0\" y=\"0\" width=\"2400\" height=\"1600\"/>\n",
       "  </clipPath>\n",
       "</defs>\n",
       "<path clip-path=\"url(#clip160)\" d=\"\n",
       "M0 1600 L2400 1600 L2400 0 L0 0  Z\n",
       "  \" fill=\"#ffffff\" fill-rule=\"evenodd\" fill-opacity=\"1\"/>\n",
       "<defs>\n",
       "  <clipPath id=\"clip161\">\n",
       "    <rect x=\"480\" y=\"0\" width=\"1681\" height=\"1600\"/>\n",
       "  </clipPath>\n",
       "</defs>\n",
       "<path clip-path=\"url(#clip160)\" d=\"\n",
       "M232.389 1410.9 L2352.76 1410.9 L2352.76 47.2441 L232.389 47.2441  Z\n",
       "  \" fill=\"#ffffff\" fill-rule=\"evenodd\" fill-opacity=\"1\"/>\n",
       "<defs>\n",
       "  <clipPath id=\"clip162\">\n",
       "    <rect x=\"232\" y=\"47\" width=\"2121\" height=\"1365\"/>\n",
       "  </clipPath>\n",
       "</defs>\n",
       "<polyline clip-path=\"url(#clip162)\" style=\"stroke:#000000; stroke-linecap:round; stroke-linejoin:round; stroke-width:2; stroke-opacity:0.1; fill:none\" points=\"\n",
       "  287.386,1410.9 287.386,47.2441 \n",
       "  \"/>\n",
       "<polyline clip-path=\"url(#clip162)\" style=\"stroke:#000000; stroke-linecap:round; stroke-linejoin:round; stroke-width:2; stroke-opacity:0.1; fill:none\" points=\"\n",
       "  788.726,1410.9 788.726,47.2441 \n",
       "  \"/>\n",
       "<polyline clip-path=\"url(#clip162)\" style=\"stroke:#000000; stroke-linecap:round; stroke-linejoin:round; stroke-width:2; stroke-opacity:0.1; fill:none\" points=\"\n",
       "  1290.07,1410.9 1290.07,47.2441 \n",
       "  \"/>\n",
       "<polyline clip-path=\"url(#clip162)\" style=\"stroke:#000000; stroke-linecap:round; stroke-linejoin:round; stroke-width:2; stroke-opacity:0.1; fill:none\" points=\"\n",
       "  1791.41,1410.9 1791.41,47.2441 \n",
       "  \"/>\n",
       "<polyline clip-path=\"url(#clip162)\" style=\"stroke:#000000; stroke-linecap:round; stroke-linejoin:round; stroke-width:2; stroke-opacity:0.1; fill:none\" points=\"\n",
       "  2292.75,1410.9 2292.75,47.2441 \n",
       "  \"/>\n",
       "<polyline clip-path=\"url(#clip160)\" style=\"stroke:#000000; stroke-linecap:round; stroke-linejoin:round; stroke-width:4; stroke-opacity:1; fill:none\" points=\"\n",
       "  232.389,1410.9 2352.76,1410.9 \n",
       "  \"/>\n",
       "<polyline clip-path=\"url(#clip160)\" style=\"stroke:#000000; stroke-linecap:round; stroke-linejoin:round; stroke-width:4; stroke-opacity:1; fill:none\" points=\"\n",
       "  287.386,1410.9 287.386,1392 \n",
       "  \"/>\n",
       "<polyline clip-path=\"url(#clip160)\" style=\"stroke:#000000; stroke-linecap:round; stroke-linejoin:round; stroke-width:4; stroke-opacity:1; fill:none\" points=\"\n",
       "  788.726,1410.9 788.726,1392 \n",
       "  \"/>\n",
       "<polyline clip-path=\"url(#clip160)\" style=\"stroke:#000000; stroke-linecap:round; stroke-linejoin:round; stroke-width:4; stroke-opacity:1; fill:none\" points=\"\n",
       "  1290.07,1410.9 1290.07,1392 \n",
       "  \"/>\n",
       "<polyline clip-path=\"url(#clip160)\" style=\"stroke:#000000; stroke-linecap:round; stroke-linejoin:round; stroke-width:4; stroke-opacity:1; fill:none\" points=\"\n",
       "  1791.41,1410.9 1791.41,1392 \n",
       "  \"/>\n",
       "<polyline clip-path=\"url(#clip160)\" style=\"stroke:#000000; stroke-linecap:round; stroke-linejoin:round; stroke-width:4; stroke-opacity:1; fill:none\" points=\"\n",
       "  2292.75,1410.9 2292.75,1392 \n",
       "  \"/>\n",
       "<path clip-path=\"url(#clip160)\" d=\"M287.386 1441.82 Q283.775 1441.82 281.947 1445.38 Q280.141 1448.92 280.141 1456.05 Q280.141 1463.16 281.947 1466.72 Q283.775 1470.26 287.386 1470.26 Q291.021 1470.26 292.826 1466.72 Q294.655 1463.16 294.655 1456.05 Q294.655 1448.92 292.826 1445.38 Q291.021 1441.82 287.386 1441.82 M287.386 1438.11 Q293.196 1438.11 296.252 1442.72 Q299.331 1447.3 299.331 1456.05 Q299.331 1464.78 296.252 1469.38 Q293.196 1473.97 287.386 1473.97 Q281.576 1473.97 278.497 1469.38 Q275.442 1464.78 275.442 1456.05 Q275.442 1447.3 278.497 1442.72 Q281.576 1438.11 287.386 1438.11 Z\" fill=\"#000000\" fill-rule=\"evenodd\" fill-opacity=\"1\" /><path clip-path=\"url(#clip160)\" d=\"M696.828 1485.02 L704.467 1485.02 L704.467 1458.66 L696.157 1460.32 L696.157 1456.06 L704.421 1454.4 L709.097 1454.4 L709.097 1485.02 L716.736 1485.02 L716.736 1488.96 L696.828 1488.96 L696.828 1485.02 Z\" fill=\"#000000\" fill-rule=\"evenodd\" fill-opacity=\"1\" /><path clip-path=\"url(#clip160)\" d=\"M726.18 1483.08 L731.064 1483.08 L731.064 1488.96 L726.18 1488.96 L726.18 1483.08 Z\" fill=\"#000000\" fill-rule=\"evenodd\" fill-opacity=\"1\" /><path clip-path=\"url(#clip160)\" d=\"M751.249 1457.48 Q747.638 1457.48 745.81 1461.04 Q744.004 1464.58 744.004 1471.71 Q744.004 1478.82 745.81 1482.38 Q747.638 1485.92 751.249 1485.92 Q754.884 1485.92 756.689 1482.38 Q758.518 1478.82 758.518 1471.71 Q758.518 1464.58 756.689 1461.04 Q754.884 1457.48 751.249 1457.48 M751.249 1453.77 Q757.06 1453.77 760.115 1458.38 Q763.194 1462.96 763.194 1471.71 Q763.194 1480.44 760.115 1485.04 Q757.06 1489.63 751.249 1489.63 Q745.439 1489.63 742.361 1485.04 Q739.305 1480.44 739.305 1471.71 Q739.305 1462.96 742.361 1458.38 Q745.439 1453.77 751.249 1453.77 Z\" fill=\"#000000\" fill-rule=\"evenodd\" fill-opacity=\"1\" /><path clip-path=\"url(#clip160)\" d=\"M799.583 1463.49 L789.004 1474.12 L799.583 1484.7 L796.828 1487.5 L786.203 1476.87 L775.578 1487.5 L772.847 1484.7 L783.402 1474.12 L772.847 1463.49 L775.578 1460.69 L786.203 1471.32 L796.828 1460.69 L799.583 1463.49 Z\" fill=\"#000000\" fill-rule=\"evenodd\" fill-opacity=\"1\" /><path clip-path=\"url(#clip160)\" d=\"M811.944 1485.02 L819.582 1485.02 L819.582 1458.66 L811.272 1460.32 L811.272 1456.06 L819.536 1454.4 L824.212 1454.4 L824.212 1485.02 L831.851 1485.02 L831.851 1488.96 L811.944 1488.96 L811.944 1485.02 Z\" fill=\"#000000\" fill-rule=\"evenodd\" fill-opacity=\"1\" /><path clip-path=\"url(#clip160)\" d=\"M851.295 1457.48 Q847.684 1457.48 845.855 1461.04 Q844.05 1464.58 844.05 1471.71 Q844.05 1478.82 845.855 1482.38 Q847.684 1485.92 851.295 1485.92 Q854.929 1485.92 856.735 1482.38 Q858.564 1478.82 858.564 1471.71 Q858.564 1464.58 856.735 1461.04 Q854.929 1457.48 851.295 1457.48 M851.295 1453.77 Q857.105 1453.77 860.161 1458.38 Q863.24 1462.96 863.24 1471.71 Q863.24 1480.44 860.161 1485.04 Q857.105 1489.63 851.295 1489.63 Q845.485 1489.63 842.406 1485.04 Q839.351 1480.44 839.351 1471.71 Q839.351 1462.96 842.406 1458.38 Q845.485 1453.77 851.295 1453.77 Z\" fill=\"#000000\" fill-rule=\"evenodd\" fill-opacity=\"1\" /><path clip-path=\"url(#clip160)\" d=\"M863.24 1433.47 L881.295 1433.47 L881.295 1435.08 L871.101 1461.55 L867.133 1461.55 L876.725 1436.66 L863.24 1436.66 L863.24 1433.47 Z\" fill=\"#000000\" fill-rule=\"evenodd\" fill-opacity=\"1\" /><path clip-path=\"url(#clip160)\" d=\"M1202.25 1485.02 L1218.57 1485.02 L1218.57 1488.96 L1196.63 1488.96 L1196.63 1485.02 Q1199.29 1482.27 1203.87 1477.64 Q1208.48 1472.98 1209.66 1471.64 Q1211.91 1469.12 1212.79 1467.38 Q1213.69 1465.62 1213.69 1463.93 Q1213.69 1461.18 1211.74 1459.44 Q1209.82 1457.71 1206.72 1457.71 Q1204.52 1457.71 1202.07 1458.47 Q1199.64 1459.23 1196.86 1460.79 L1196.86 1456.06 Q1199.68 1454.93 1202.14 1454.35 Q1204.59 1453.77 1206.63 1453.77 Q1212 1453.77 1215.19 1456.46 Q1218.39 1459.14 1218.39 1463.63 Q1218.39 1465.76 1217.58 1467.68 Q1216.79 1469.58 1214.68 1472.17 Q1214.11 1472.85 1211 1476.06 Q1207.9 1479.26 1202.25 1485.02 Z\" fill=\"#000000\" fill-rule=\"evenodd\" fill-opacity=\"1\" /><path clip-path=\"url(#clip160)\" d=\"M1228.39 1483.08 L1233.27 1483.08 L1233.27 1488.96 L1228.39 1488.96 L1228.39 1483.08 Z\" fill=\"#000000\" fill-rule=\"evenodd\" fill-opacity=\"1\" /><path clip-path=\"url(#clip160)\" d=\"M1253.46 1457.48 Q1249.85 1457.48 1248.02 1461.04 Q1246.21 1464.58 1246.21 1471.71 Q1246.21 1478.82 1248.02 1482.38 Q1249.85 1485.92 1253.46 1485.92 Q1257.09 1485.92 1258.9 1482.38 Q1260.73 1478.82 1260.73 1471.71 Q1260.73 1464.58 1258.9 1461.04 Q1257.09 1457.48 1253.46 1457.48 M1253.46 1453.77 Q1259.27 1453.77 1262.32 1458.38 Q1265.4 1462.96 1265.4 1471.71 Q1265.4 1480.44 1262.32 1485.04 Q1259.27 1489.63 1253.46 1489.63 Q1247.65 1489.63 1244.57 1485.04 Q1241.51 1480.44 1241.51 1471.71 Q1241.51 1462.96 1244.57 1458.38 Q1247.65 1453.77 1253.46 1453.77 Z\" fill=\"#000000\" fill-rule=\"evenodd\" fill-opacity=\"1\" /><path clip-path=\"url(#clip160)\" d=\"M1301.79 1463.49 L1291.21 1474.12 L1301.79 1484.7 L1299.04 1487.5 L1288.41 1476.87 L1277.79 1487.5 L1275.05 1484.7 L1285.61 1474.12 L1275.05 1463.49 L1277.79 1460.69 L1288.41 1471.32 L1299.04 1460.69 L1301.79 1463.49 Z\" fill=\"#000000\" fill-rule=\"evenodd\" fill-opacity=\"1\" /><path clip-path=\"url(#clip160)\" d=\"M1314.15 1485.02 L1321.79 1485.02 L1321.79 1458.66 L1313.48 1460.32 L1313.48 1456.06 L1321.74 1454.4 L1326.42 1454.4 L1326.42 1485.02 L1334.06 1485.02 L1334.06 1488.96 L1314.15 1488.96 L1314.15 1485.02 Z\" fill=\"#000000\" fill-rule=\"evenodd\" fill-opacity=\"1\" /><path clip-path=\"url(#clip160)\" d=\"M1353.5 1457.48 Q1349.89 1457.48 1348.06 1461.04 Q1346.26 1464.58 1346.26 1471.71 Q1346.26 1478.82 1348.06 1482.38 Q1349.89 1485.92 1353.5 1485.92 Q1357.14 1485.92 1358.94 1482.38 Q1360.77 1478.82 1360.77 1471.71 Q1360.77 1464.58 1358.94 1461.04 Q1357.14 1457.48 1353.5 1457.48 M1353.5 1453.77 Q1359.31 1453.77 1362.37 1458.38 Q1365.45 1462.96 1365.45 1471.71 Q1365.45 1480.44 1362.37 1485.04 Q1359.31 1489.63 1353.5 1489.63 Q1347.69 1489.63 1344.61 1485.04 Q1341.56 1480.44 1341.56 1471.71 Q1341.56 1462.96 1344.61 1458.38 Q1347.69 1453.77 1353.5 1453.77 Z\" fill=\"#000000\" fill-rule=\"evenodd\" fill-opacity=\"1\" /><path clip-path=\"url(#clip160)\" d=\"M1365.45 1433.47 L1383.5 1433.47 L1383.5 1435.08 L1373.31 1461.55 L1369.34 1461.55 L1378.93 1436.66 L1365.45 1436.66 L1365.45 1433.47 Z\" fill=\"#000000\" fill-rule=\"evenodd\" fill-opacity=\"1\" /><path clip-path=\"url(#clip160)\" d=\"M1713.66 1470.32 Q1717.02 1471.04 1718.89 1473.31 Q1720.79 1475.58 1720.79 1478.91 Q1720.79 1484.03 1717.27 1486.83 Q1713.76 1489.63 1707.27 1489.63 Q1705.1 1489.63 1702.78 1489.19 Q1700.49 1488.77 1698.04 1487.91 L1698.04 1483.4 Q1699.98 1484.54 1702.3 1485.11 Q1704.61 1485.69 1707.14 1485.69 Q1711.53 1485.69 1713.83 1483.96 Q1716.14 1482.22 1716.14 1478.91 Q1716.14 1475.85 1713.99 1474.14 Q1711.86 1472.41 1708.04 1472.41 L1704.01 1472.41 L1704.01 1468.56 L1708.22 1468.56 Q1711.67 1468.56 1713.5 1467.2 Q1715.33 1465.81 1715.33 1463.22 Q1715.33 1460.55 1713.43 1459.14 Q1711.56 1457.71 1708.04 1457.71 Q1706.12 1457.71 1703.92 1458.12 Q1701.72 1458.54 1699.08 1459.42 L1699.08 1455.25 Q1701.74 1454.51 1704.06 1454.14 Q1706.39 1453.77 1708.45 1453.77 Q1713.78 1453.77 1716.88 1456.2 Q1719.98 1458.61 1719.98 1462.73 Q1719.98 1465.6 1718.34 1467.59 Q1716.7 1469.56 1713.66 1470.32 Z\" fill=\"#000000\" fill-rule=\"evenodd\" fill-opacity=\"1\" /><path clip-path=\"url(#clip160)\" d=\"M1729.66 1483.08 L1734.54 1483.08 L1734.54 1488.96 L1729.66 1488.96 L1729.66 1483.08 Z\" fill=\"#000000\" fill-rule=\"evenodd\" fill-opacity=\"1\" /><path clip-path=\"url(#clip160)\" d=\"M1754.73 1457.48 Q1751.12 1457.48 1749.29 1461.04 Q1747.48 1464.58 1747.48 1471.71 Q1747.48 1478.82 1749.29 1482.38 Q1751.12 1485.92 1754.73 1485.92 Q1758.36 1485.92 1760.17 1482.38 Q1762 1478.82 1762 1471.71 Q1762 1464.58 1760.17 1461.04 Q1758.36 1457.48 1754.73 1457.48 M1754.73 1453.77 Q1760.54 1453.77 1763.59 1458.38 Q1766.67 1462.96 1766.67 1471.71 Q1766.67 1480.44 1763.59 1485.04 Q1760.54 1489.63 1754.73 1489.63 Q1748.92 1489.63 1745.84 1485.04 Q1742.78 1480.44 1742.78 1471.71 Q1742.78 1462.96 1745.84 1458.38 Q1748.92 1453.77 1754.73 1453.77 Z\" fill=\"#000000\" fill-rule=\"evenodd\" fill-opacity=\"1\" /><path clip-path=\"url(#clip160)\" d=\"M1803.06 1463.49 L1792.48 1474.12 L1803.06 1484.7 L1800.31 1487.5 L1789.68 1476.87 L1779.06 1487.5 L1776.32 1484.7 L1786.88 1474.12 L1776.32 1463.49 L1779.06 1460.69 L1789.68 1471.32 L1800.31 1460.69 L1803.06 1463.49 Z\" fill=\"#000000\" fill-rule=\"evenodd\" fill-opacity=\"1\" /><path clip-path=\"url(#clip160)\" d=\"M1815.42 1485.02 L1823.06 1485.02 L1823.06 1458.66 L1814.75 1460.32 L1814.75 1456.06 L1823.01 1454.4 L1827.69 1454.4 L1827.69 1485.02 L1835.33 1485.02 L1835.33 1488.96 L1815.42 1488.96 L1815.42 1485.02 Z\" fill=\"#000000\" fill-rule=\"evenodd\" fill-opacity=\"1\" /><path clip-path=\"url(#clip160)\" d=\"M1854.77 1457.48 Q1851.16 1457.48 1849.33 1461.04 Q1847.53 1464.58 1847.53 1471.71 Q1847.53 1478.82 1849.33 1482.38 Q1851.16 1485.92 1854.77 1485.92 Q1858.41 1485.92 1860.21 1482.38 Q1862.04 1478.82 1862.04 1471.71 Q1862.04 1464.58 1860.21 1461.04 Q1858.41 1457.48 1854.77 1457.48 M1854.77 1453.77 Q1860.58 1453.77 1863.64 1458.38 Q1866.72 1462.96 1866.72 1471.71 Q1866.72 1480.44 1863.64 1485.04 Q1860.58 1489.63 1854.77 1489.63 Q1848.96 1489.63 1845.88 1485.04 Q1842.83 1480.44 1842.83 1471.71 Q1842.83 1462.96 1845.88 1458.38 Q1848.96 1453.77 1854.77 1453.77 Z\" fill=\"#000000\" fill-rule=\"evenodd\" fill-opacity=\"1\" /><path clip-path=\"url(#clip160)\" d=\"M1866.72 1433.47 L1884.77 1433.47 L1884.77 1435.08 L1874.58 1461.55 L1870.61 1461.55 L1880.2 1436.66 L1866.72 1436.66 L1866.72 1433.47 Z\" fill=\"#000000\" fill-rule=\"evenodd\" fill-opacity=\"1\" /><path clip-path=\"url(#clip160)\" d=\"M2214.33 1458.47 L2202.53 1476.92 L2214.33 1476.92 L2214.33 1458.47 M2213.1 1454.4 L2218.98 1454.4 L2218.98 1476.92 L2223.91 1476.92 L2223.91 1480.81 L2218.98 1480.81 L2218.98 1488.96 L2214.33 1488.96 L2214.33 1480.81 L2198.73 1480.81 L2198.73 1476.29 L2213.1 1454.4 Z\" fill=\"#000000\" fill-rule=\"evenodd\" fill-opacity=\"1\" /><path clip-path=\"url(#clip160)\" d=\"M2231.65 1483.08 L2236.53 1483.08 L2236.53 1488.96 L2231.65 1488.96 L2231.65 1483.08 Z\" fill=\"#000000\" fill-rule=\"evenodd\" fill-opacity=\"1\" /><path clip-path=\"url(#clip160)\" d=\"M2256.72 1457.48 Q2253.1 1457.48 2251.28 1461.04 Q2249.47 1464.58 2249.47 1471.71 Q2249.47 1478.82 2251.28 1482.38 Q2253.1 1485.92 2256.72 1485.92 Q2260.35 1485.92 2262.16 1482.38 Q2263.98 1478.82 2263.98 1471.71 Q2263.98 1464.58 2262.16 1461.04 Q2260.35 1457.48 2256.72 1457.48 M2256.72 1453.77 Q2262.53 1453.77 2265.58 1458.38 Q2268.66 1462.96 2268.66 1471.71 Q2268.66 1480.44 2265.58 1485.04 Q2262.53 1489.63 2256.72 1489.63 Q2250.91 1489.63 2247.83 1485.04 Q2244.77 1480.44 2244.77 1471.71 Q2244.77 1462.96 2247.83 1458.38 Q2250.91 1453.77 2256.72 1453.77 Z\" fill=\"#000000\" fill-rule=\"evenodd\" fill-opacity=\"1\" /><path clip-path=\"url(#clip160)\" d=\"M2305.05 1463.49 L2294.47 1474.12 L2305.05 1484.7 L2302.29 1487.5 L2291.67 1476.87 L2281.04 1487.5 L2278.31 1484.7 L2288.87 1474.12 L2278.31 1463.49 L2281.04 1460.69 L2291.67 1471.32 L2302.29 1460.69 L2305.05 1463.49 Z\" fill=\"#000000\" fill-rule=\"evenodd\" fill-opacity=\"1\" /><path clip-path=\"url(#clip160)\" d=\"M2317.41 1485.02 L2325.05 1485.02 L2325.05 1458.66 L2316.74 1460.32 L2316.74 1456.06 L2325 1454.4 L2329.68 1454.4 L2329.68 1485.02 L2337.32 1485.02 L2337.32 1488.96 L2317.41 1488.96 L2317.41 1485.02 Z\" fill=\"#000000\" fill-rule=\"evenodd\" fill-opacity=\"1\" /><path clip-path=\"url(#clip160)\" d=\"M2356.76 1457.48 Q2353.15 1457.48 2351.32 1461.04 Q2349.52 1464.58 2349.52 1471.71 Q2349.52 1478.82 2351.32 1482.38 Q2353.15 1485.92 2356.76 1485.92 Q2360.4 1485.92 2362.2 1482.38 Q2364.03 1478.82 2364.03 1471.71 Q2364.03 1464.58 2362.2 1461.04 Q2360.4 1457.48 2356.76 1457.48 M2356.76 1453.77 Q2362.57 1453.77 2365.63 1458.38 Q2368.71 1462.96 2368.71 1471.71 Q2368.71 1480.44 2365.63 1485.04 Q2362.57 1489.63 2356.76 1489.63 Q2350.95 1489.63 2347.87 1485.04 Q2344.82 1480.44 2344.82 1471.71 Q2344.82 1462.96 2347.87 1458.38 Q2350.95 1453.77 2356.76 1453.77 Z\" fill=\"#000000\" fill-rule=\"evenodd\" fill-opacity=\"1\" /><path clip-path=\"url(#clip160)\" d=\"M2368.71 1433.47 L2386.76 1433.47 L2386.76 1435.08 L2376.57 1461.55 L2372.6 1461.55 L2382.19 1436.66 L2368.71 1436.66 L2368.71 1433.47 Z\" fill=\"#000000\" fill-rule=\"evenodd\" fill-opacity=\"1\" /><path clip-path=\"url(#clip160)\" d=\"M1142.14 1526.67 L1148.56 1526.67 L1148.56 1574.19 L1142.14 1574.19 L1142.14 1526.67 Z\" fill=\"#000000\" fill-rule=\"evenodd\" fill-opacity=\"1\" /><path clip-path=\"url(#clip160)\" d=\"M1166.9 1528.42 L1166.9 1538.54 L1178.96 1538.54 L1178.96 1543.09 L1166.9 1543.09 L1166.9 1562.44 Q1166.9 1566.8 1168.08 1568.04 Q1169.28 1569.28 1172.95 1569.28 L1178.96 1569.28 L1178.96 1574.19 L1172.95 1574.19 Q1166.17 1574.19 1163.59 1571.67 Q1161.01 1569.12 1161.01 1562.44 L1161.01 1543.09 L1156.71 1543.09 L1156.71 1538.54 L1161.01 1538.54 L1161.01 1528.42 L1166.9 1528.42 Z\" fill=\"#000000\" fill-rule=\"evenodd\" fill-opacity=\"1\" /><path clip-path=\"url(#clip160)\" d=\"M1217.15 1554.9 L1217.15 1557.76 L1190.23 1557.76 Q1190.61 1563.81 1193.86 1566.99 Q1197.13 1570.14 1202.96 1570.14 Q1206.33 1570.14 1209.48 1569.32 Q1212.67 1568.49 1215.79 1566.83 L1215.79 1572.37 Q1212.64 1573.71 1209.33 1574.41 Q1206.01 1575.11 1202.61 1575.11 Q1194.08 1575.11 1189.08 1570.14 Q1184.12 1565.18 1184.12 1556.71 Q1184.12 1547.96 1188.83 1542.83 Q1193.57 1537.68 1201.59 1537.68 Q1208.78 1537.68 1212.95 1542.33 Q1217.15 1546.94 1217.15 1554.9 M1211.3 1553.18 Q1211.23 1548.37 1208.59 1545.51 Q1205.98 1542.64 1201.65 1542.64 Q1196.75 1542.64 1193.79 1545.41 Q1190.86 1548.18 1190.42 1553.21 L1211.3 1553.18 Z\" fill=\"#000000\" fill-rule=\"evenodd\" fill-opacity=\"1\" /><path clip-path=\"url(#clip160)\" d=\"M1247.42 1544.01 Q1246.44 1543.44 1245.26 1543.18 Q1244.11 1542.9 1242.71 1542.9 Q1237.75 1542.9 1235.07 1546.14 Q1232.43 1549.36 1232.43 1555.41 L1232.43 1574.19 L1226.54 1574.19 L1226.54 1538.54 L1232.43 1538.54 L1232.43 1544.08 Q1234.28 1540.83 1237.24 1539.27 Q1240.2 1537.68 1244.43 1537.68 Q1245.04 1537.68 1245.77 1537.77 Q1246.5 1537.84 1247.39 1538 L1247.42 1544.01 Z\" fill=\"#000000\" fill-rule=\"evenodd\" fill-opacity=\"1\" /><path clip-path=\"url(#clip160)\" d=\"M1269.77 1556.27 Q1262.67 1556.27 1259.93 1557.89 Q1257.2 1559.51 1257.2 1563.43 Q1257.2 1566.55 1259.23 1568.39 Q1261.3 1570.21 1264.83 1570.21 Q1269.7 1570.21 1272.63 1566.77 Q1275.59 1563.3 1275.59 1557.57 L1275.59 1556.27 L1269.77 1556.27 M1281.45 1553.85 L1281.45 1574.19 L1275.59 1574.19 L1275.59 1568.77 Q1273.59 1572.02 1270.6 1573.58 Q1267.6 1575.11 1263.27 1575.11 Q1257.8 1575.11 1254.55 1572.05 Q1251.34 1568.97 1251.34 1563.81 Q1251.34 1557.79 1255.35 1554.74 Q1259.39 1551.68 1267.38 1551.68 L1275.59 1551.68 L1275.59 1551.11 Q1275.59 1547.07 1272.92 1544.87 Q1270.28 1542.64 1265.47 1542.64 Q1262.42 1542.64 1259.52 1543.38 Q1256.62 1544.11 1253.95 1545.57 L1253.95 1540.16 Q1257.16 1538.92 1260.19 1538.31 Q1263.21 1537.68 1266.08 1537.68 Q1273.81 1537.68 1277.63 1541.69 Q1281.45 1545.7 1281.45 1553.85 Z\" fill=\"#000000\" fill-rule=\"evenodd\" fill-opacity=\"1\" /><path clip-path=\"url(#clip160)\" d=\"M1299.3 1528.42 L1299.3 1538.54 L1311.37 1538.54 L1311.37 1543.09 L1299.3 1543.09 L1299.3 1562.44 Q1299.3 1566.8 1300.48 1568.04 Q1301.69 1569.28 1305.35 1569.28 L1311.37 1569.28 L1311.37 1574.19 L1305.35 1574.19 Q1298.57 1574.19 1295.99 1571.67 Q1293.42 1569.12 1293.42 1562.44 L1293.42 1543.09 L1289.12 1543.09 L1289.12 1538.54 L1293.42 1538.54 L1293.42 1528.42 L1299.3 1528.42 Z\" fill=\"#000000\" fill-rule=\"evenodd\" fill-opacity=\"1\" /><path clip-path=\"url(#clip160)\" d=\"M1319.07 1538.54 L1324.93 1538.54 L1324.93 1574.19 L1319.07 1574.19 L1319.07 1538.54 M1319.07 1524.66 L1324.93 1524.66 L1324.93 1532.08 L1319.07 1532.08 L1319.07 1524.66 Z\" fill=\"#000000\" fill-rule=\"evenodd\" fill-opacity=\"1\" /><path clip-path=\"url(#clip160)\" d=\"M1350.99 1542.64 Q1346.28 1542.64 1343.55 1546.34 Q1340.81 1550 1340.81 1556.39 Q1340.81 1562.79 1343.51 1566.48 Q1346.25 1570.14 1350.99 1570.14 Q1355.67 1570.14 1358.41 1566.45 Q1361.15 1562.76 1361.15 1556.39 Q1361.15 1550.06 1358.41 1546.37 Q1355.67 1542.64 1350.99 1542.64 M1350.99 1537.68 Q1358.63 1537.68 1362.99 1542.64 Q1367.35 1547.61 1367.35 1556.39 Q1367.35 1565.15 1362.99 1570.14 Q1358.63 1575.11 1350.99 1575.11 Q1343.32 1575.11 1338.96 1570.14 Q1334.63 1565.15 1334.63 1556.39 Q1334.63 1547.61 1338.96 1542.64 Q1343.32 1537.68 1350.99 1537.68 Z\" fill=\"#000000\" fill-rule=\"evenodd\" fill-opacity=\"1\" /><path clip-path=\"url(#clip160)\" d=\"M1406.69 1552.67 L1406.69 1574.19 L1400.84 1574.19 L1400.84 1552.86 Q1400.84 1547.8 1398.86 1545.29 Q1396.89 1542.77 1392.94 1542.77 Q1388.2 1542.77 1385.46 1545.79 Q1382.73 1548.82 1382.73 1554.04 L1382.73 1574.19 L1376.84 1574.19 L1376.84 1538.54 L1382.73 1538.54 L1382.73 1544.08 Q1384.83 1540.86 1387.66 1539.27 Q1390.52 1537.68 1394.25 1537.68 Q1400.39 1537.68 1403.54 1541.5 Q1406.69 1545.29 1406.69 1552.67 Z\" fill=\"#000000\" fill-rule=\"evenodd\" fill-opacity=\"1\" /><path clip-path=\"url(#clip160)\" d=\"M1441.1 1539.59 L1441.1 1545.13 Q1438.62 1543.85 1435.94 1543.22 Q1433.27 1542.58 1430.41 1542.58 Q1426.05 1542.58 1423.85 1543.92 Q1421.69 1545.25 1421.69 1547.93 Q1421.69 1549.96 1423.24 1551.14 Q1424.8 1552.29 1429.51 1553.34 L1431.52 1553.78 Q1437.76 1555.12 1440.37 1557.57 Q1443.01 1559.99 1443.01 1564.35 Q1443.01 1569.32 1439.06 1572.21 Q1435.15 1575.11 1428.27 1575.11 Q1425.41 1575.11 1422.29 1574.54 Q1419.2 1573.99 1415.76 1572.88 L1415.76 1566.83 Q1419.01 1568.52 1422.16 1569.38 Q1425.31 1570.21 1428.4 1570.21 Q1432.54 1570.21 1434.77 1568.81 Q1436.99 1567.37 1436.99 1564.8 Q1436.99 1562.41 1435.37 1561.14 Q1433.78 1559.86 1428.34 1558.68 L1426.3 1558.21 Q1420.86 1557.06 1418.44 1554.71 Q1416.02 1552.32 1416.02 1548.18 Q1416.02 1543.15 1419.58 1540.42 Q1423.15 1537.68 1429.71 1537.68 Q1432.95 1537.68 1435.82 1538.16 Q1438.68 1538.63 1441.1 1539.59 Z\" fill=\"#000000\" fill-rule=\"evenodd\" fill-opacity=\"1\" /><polyline clip-path=\"url(#clip162)\" style=\"stroke:#000000; stroke-linecap:round; stroke-linejoin:round; stroke-width:2; stroke-opacity:0.1; fill:none\" points=\"\n",
       "  232.389,1353.5 2352.76,1353.5 \n",
       "  \"/>\n",
       "<polyline clip-path=\"url(#clip162)\" style=\"stroke:#000000; stroke-linecap:round; stroke-linejoin:round; stroke-width:2; stroke-opacity:0.1; fill:none\" points=\"\n",
       "  232.389,1046.94 2352.76,1046.94 \n",
       "  \"/>\n",
       "<polyline clip-path=\"url(#clip162)\" style=\"stroke:#000000; stroke-linecap:round; stroke-linejoin:round; stroke-width:2; stroke-opacity:0.1; fill:none\" points=\"\n",
       "  232.389,740.377 2352.76,740.377 \n",
       "  \"/>\n",
       "<polyline clip-path=\"url(#clip162)\" style=\"stroke:#000000; stroke-linecap:round; stroke-linejoin:round; stroke-width:2; stroke-opacity:0.1; fill:none\" points=\"\n",
       "  232.389,433.814 2352.76,433.814 \n",
       "  \"/>\n",
       "<polyline clip-path=\"url(#clip162)\" style=\"stroke:#000000; stroke-linecap:round; stroke-linejoin:round; stroke-width:2; stroke-opacity:0.1; fill:none\" points=\"\n",
       "  232.389,127.252 2352.76,127.252 \n",
       "  \"/>\n",
       "<polyline clip-path=\"url(#clip160)\" style=\"stroke:#000000; stroke-linecap:round; stroke-linejoin:round; stroke-width:4; stroke-opacity:1; fill:none\" points=\"\n",
       "  232.389,1410.9 232.389,47.2441 \n",
       "  \"/>\n",
       "<polyline clip-path=\"url(#clip160)\" style=\"stroke:#000000; stroke-linecap:round; stroke-linejoin:round; stroke-width:4; stroke-opacity:1; fill:none\" points=\"\n",
       "  232.389,1353.5 251.287,1353.5 \n",
       "  \"/>\n",
       "<polyline clip-path=\"url(#clip160)\" style=\"stroke:#000000; stroke-linecap:round; stroke-linejoin:round; stroke-width:4; stroke-opacity:1; fill:none\" points=\"\n",
       "  232.389,1046.94 251.287,1046.94 \n",
       "  \"/>\n",
       "<polyline clip-path=\"url(#clip160)\" style=\"stroke:#000000; stroke-linecap:round; stroke-linejoin:round; stroke-width:4; stroke-opacity:1; fill:none\" points=\"\n",
       "  232.389,740.377 251.287,740.377 \n",
       "  \"/>\n",
       "<polyline clip-path=\"url(#clip160)\" style=\"stroke:#000000; stroke-linecap:round; stroke-linejoin:round; stroke-width:4; stroke-opacity:1; fill:none\" points=\"\n",
       "  232.389,433.814 251.287,433.814 \n",
       "  \"/>\n",
       "<polyline clip-path=\"url(#clip160)\" style=\"stroke:#000000; stroke-linecap:round; stroke-linejoin:round; stroke-width:4; stroke-opacity:1; fill:none\" points=\"\n",
       "  232.389,127.252 251.287,127.252 \n",
       "  \"/>\n",
       "<path clip-path=\"url(#clip160)\" d=\"M184.445 1339.3 Q180.834 1339.3 179.005 1342.86 Q177.2 1346.41 177.2 1353.54 Q177.2 1360.64 179.005 1364.21 Q180.834 1367.75 184.445 1367.75 Q188.079 1367.75 189.885 1364.21 Q191.713 1360.64 191.713 1353.54 Q191.713 1346.41 189.885 1342.86 Q188.079 1339.3 184.445 1339.3 M184.445 1335.6 Q190.255 1335.6 193.311 1340.2 Q196.389 1344.79 196.389 1353.54 Q196.389 1362.26 193.311 1366.87 Q190.255 1371.45 184.445 1371.45 Q178.635 1371.45 175.556 1366.87 Q172.501 1362.26 172.501 1353.54 Q172.501 1344.79 175.556 1340.2 Q178.635 1335.6 184.445 1335.6 Z\" fill=\"#000000\" fill-rule=\"evenodd\" fill-opacity=\"1\" /><path clip-path=\"url(#clip160)\" d=\"M149.306 1060.28 L165.626 1060.28 L165.626 1064.22 L143.681 1064.22 L143.681 1060.28 Q146.343 1057.53 150.927 1052.9 Q155.533 1048.25 156.714 1046.9 Q158.959 1044.38 159.839 1042.65 Q160.741 1040.89 160.741 1039.2 Q160.741 1036.44 158.797 1034.71 Q156.876 1032.97 153.774 1032.97 Q151.575 1032.97 149.121 1033.73 Q146.691 1034.5 143.913 1036.05 L143.913 1031.33 Q146.737 1030.19 149.191 1029.61 Q151.644 1029.03 153.681 1029.03 Q159.052 1029.03 162.246 1031.72 Q165.44 1034.4 165.44 1038.9 Q165.44 1041.02 164.63 1042.95 Q163.843 1044.84 161.737 1047.44 Q161.158 1048.11 158.056 1051.33 Q154.954 1054.52 149.306 1060.28 Z\" fill=\"#000000\" fill-rule=\"evenodd\" fill-opacity=\"1\" /><path clip-path=\"url(#clip160)\" d=\"M175.487 1029.66 L193.843 1029.66 L193.843 1033.59 L179.769 1033.59 L179.769 1042.07 Q180.788 1041.72 181.806 1041.56 Q182.825 1041.37 183.843 1041.37 Q189.63 1041.37 193.01 1044.54 Q196.389 1047.71 196.389 1053.13 Q196.389 1058.71 192.917 1061.81 Q189.445 1064.89 183.126 1064.89 Q180.95 1064.89 178.681 1064.52 Q176.436 1064.15 174.028 1063.41 L174.028 1058.71 Q176.112 1059.84 178.334 1060.4 Q180.556 1060.96 183.033 1060.96 Q187.038 1060.96 189.375 1058.85 Q191.713 1056.74 191.713 1053.13 Q191.713 1049.52 189.375 1047.41 Q187.038 1045.31 183.033 1045.31 Q181.158 1045.31 179.283 1045.72 Q177.431 1046.14 175.487 1047.02 L175.487 1029.66 Z\" fill=\"#000000\" fill-rule=\"evenodd\" fill-opacity=\"1\" /><path clip-path=\"url(#clip160)\" d=\"M144.329 723.097 L162.686 723.097 L162.686 727.032 L148.612 727.032 L148.612 735.504 Q149.63 735.157 150.649 734.995 Q151.667 734.81 152.686 734.81 Q158.473 734.81 161.852 737.981 Q165.232 741.152 165.232 746.569 Q165.232 752.148 161.76 755.249 Q158.288 758.328 151.968 758.328 Q149.792 758.328 147.524 757.958 Q145.279 757.587 142.871 756.847 L142.871 752.148 Q144.954 753.282 147.177 753.837 Q149.399 754.393 151.876 754.393 Q155.88 754.393 158.218 752.286 Q160.556 750.18 160.556 746.569 Q160.556 742.958 158.218 740.851 Q155.88 738.745 151.876 738.745 Q150.001 738.745 148.126 739.162 Q146.274 739.578 144.329 740.458 L144.329 723.097 Z\" fill=\"#000000\" fill-rule=\"evenodd\" fill-opacity=\"1\" /><path clip-path=\"url(#clip160)\" d=\"M184.445 726.175 Q180.834 726.175 179.005 729.74 Q177.2 733.282 177.2 740.412 Q177.2 747.518 179.005 751.083 Q180.834 754.624 184.445 754.624 Q188.079 754.624 189.885 751.083 Q191.713 747.518 191.713 740.412 Q191.713 733.282 189.885 729.74 Q188.079 726.175 184.445 726.175 M184.445 722.472 Q190.255 722.472 193.311 727.078 Q196.389 731.662 196.389 740.412 Q196.389 749.138 193.311 753.745 Q190.255 758.328 184.445 758.328 Q178.635 758.328 175.556 753.745 Q172.501 749.138 172.501 740.412 Q172.501 731.662 175.556 727.078 Q178.635 722.472 184.445 722.472 Z\" fill=\"#000000\" fill-rule=\"evenodd\" fill-opacity=\"1\" /><path clip-path=\"url(#clip160)\" d=\"M144.098 416.534 L166.32 416.534 L166.32 418.525 L153.774 451.094 L148.89 451.094 L160.695 420.47 L144.098 420.47 L144.098 416.534 Z\" fill=\"#000000\" fill-rule=\"evenodd\" fill-opacity=\"1\" /><path clip-path=\"url(#clip160)\" d=\"M175.487 416.534 L193.843 416.534 L193.843 420.47 L179.769 420.47 L179.769 428.942 Q180.788 428.595 181.806 428.433 Q182.825 428.247 183.843 428.247 Q189.63 428.247 193.01 431.419 Q196.389 434.59 196.389 440.007 Q196.389 445.585 192.917 448.687 Q189.445 451.766 183.126 451.766 Q180.95 451.766 178.681 451.395 Q176.436 451.025 174.028 450.284 L174.028 445.585 Q176.112 446.719 178.334 447.275 Q180.556 447.831 183.033 447.831 Q187.038 447.831 189.375 445.724 Q191.713 443.618 191.713 440.007 Q191.713 436.395 189.375 434.289 Q187.038 432.183 183.033 432.183 Q181.158 432.183 179.283 432.599 Q177.431 433.016 175.487 433.895 L175.487 416.534 Z\" fill=\"#000000\" fill-rule=\"evenodd\" fill-opacity=\"1\" /><path clip-path=\"url(#clip160)\" d=\"M114.931 140.597 L122.57 140.597 L122.57 114.231 L114.26 115.898 L114.26 111.639 L122.524 109.972 L127.2 109.972 L127.2 140.597 L134.839 140.597 L134.839 144.532 L114.931 144.532 L114.931 140.597 Z\" fill=\"#000000\" fill-rule=\"evenodd\" fill-opacity=\"1\" /><path clip-path=\"url(#clip160)\" d=\"M154.283 113.051 Q150.672 113.051 148.843 116.616 Q147.038 120.157 147.038 127.287 Q147.038 134.393 148.843 137.958 Q150.672 141.5 154.283 141.5 Q157.917 141.5 159.723 137.958 Q161.552 134.393 161.552 127.287 Q161.552 120.157 159.723 116.616 Q157.917 113.051 154.283 113.051 M154.283 109.347 Q160.093 109.347 163.149 113.954 Q166.227 118.537 166.227 127.287 Q166.227 136.014 163.149 140.62 Q160.093 145.203 154.283 145.203 Q148.473 145.203 145.394 140.62 Q142.339 136.014 142.339 127.287 Q142.339 118.537 145.394 113.954 Q148.473 109.347 154.283 109.347 Z\" fill=\"#000000\" fill-rule=\"evenodd\" fill-opacity=\"1\" /><path clip-path=\"url(#clip160)\" d=\"M184.445 113.051 Q180.834 113.051 179.005 116.616 Q177.2 120.157 177.2 127.287 Q177.2 134.393 179.005 137.958 Q180.834 141.5 184.445 141.5 Q188.079 141.5 189.885 137.958 Q191.713 134.393 191.713 127.287 Q191.713 120.157 189.885 116.616 Q188.079 113.051 184.445 113.051 M184.445 109.347 Q190.255 109.347 193.311 113.954 Q196.389 118.537 196.389 127.287 Q196.389 136.014 193.311 140.62 Q190.255 145.203 184.445 145.203 Q178.635 145.203 175.556 140.62 Q172.501 136.014 172.501 127.287 Q172.501 118.537 175.556 113.954 Q178.635 109.347 184.445 109.347 Z\" fill=\"#000000\" fill-rule=\"evenodd\" fill-opacity=\"1\" /><path clip-path=\"url(#clip160)\" d=\"M41.7242 821.755 Q42.4244 819.686 44.7161 817.745 Q47.0077 815.771 51.0181 813.798 L64.0042 807.273 L64.0042 814.18 L51.8138 820.259 Q47.0395 822.614 45.48 824.842 Q43.9204 827.039 43.9204 830.858 L43.9204 837.86 L64.0042 837.86 L64.0042 844.29 L16.4842 844.29 L16.4842 829.776 Q16.4842 821.628 19.8898 817.617 Q23.2955 813.607 30.1704 813.607 Q34.6582 813.607 37.6183 815.708 Q40.5784 817.776 41.7242 821.755 M21.7677 837.86 L38.6368 837.86 L38.6368 829.776 Q38.6368 825.129 36.5043 822.774 Q34.34 820.386 30.1704 820.386 Q26.0009 820.386 23.9002 822.774 Q21.7677 825.129 21.7677 829.776 L21.7677 837.86 Z\" fill=\"#000000\" fill-rule=\"evenodd\" fill-opacity=\"1\" /><path clip-path=\"url(#clip160)\" d=\"M44.7161 771.689 L47.5806 771.689 L47.5806 798.616 Q53.6281 798.234 56.8109 794.987 Q59.9619 791.709 59.9619 785.884 Q59.9619 782.51 59.1344 779.359 Q58.3069 776.177 56.6518 773.057 L62.1899 773.057 Q63.5267 776.208 64.227 779.519 Q64.9272 782.829 64.9272 786.234 Q64.9272 794.764 59.9619 799.762 Q54.9967 804.727 46.5303 804.727 Q37.7774 804.727 32.6531 800.016 Q27.4968 795.274 27.4968 787.253 Q27.4968 780.06 32.1438 775.89 Q36.7589 771.689 44.7161 771.689 M42.9973 777.545 Q38.1912 777.609 35.3266 780.251 Q32.4621 782.861 32.4621 787.189 Q32.4621 792.091 35.2312 795.051 Q38.0002 797.979 43.0292 798.425 L42.9973 777.545 Z\" fill=\"#000000\" fill-rule=\"evenodd\" fill-opacity=\"1\" /><path clip-path=\"url(#clip160)\" d=\"M28.3562 765.482 L28.3562 759.626 L56.1743 752.305 L28.3562 745.016 L28.3562 738.11 L56.1743 730.789 L28.3562 723.5 L28.3562 717.644 L64.0042 726.97 L64.0042 733.876 L34.7856 741.547 L64.0042 749.25 L64.0042 756.156 L28.3562 765.482 Z\" fill=\"#000000\" fill-rule=\"evenodd\" fill-opacity=\"1\" /><path clip-path=\"url(#clip160)\" d=\"M46.0847 692.563 Q46.0847 699.661 47.7079 702.398 Q49.3312 705.135 53.2461 705.135 Q56.3653 705.135 58.2114 703.098 Q60.0256 701.029 60.0256 697.496 Q60.0256 692.627 56.5881 689.698 Q53.1188 686.738 47.3897 686.738 L46.0847 686.738 L46.0847 692.563 M43.6657 680.882 L64.0042 680.882 L64.0042 686.738 L58.5933 686.738 Q61.8398 688.744 63.3994 691.735 Q64.9272 694.727 64.9272 699.056 Q64.9272 704.531 61.8716 707.777 Q58.7843 710.992 53.6281 710.992 Q47.6125 710.992 44.5569 706.981 Q41.5014 702.939 41.5014 694.95 L41.5014 686.738 L40.9285 686.738 Q36.8862 686.738 34.6901 689.412 Q32.4621 692.054 32.4621 696.86 Q32.4621 699.915 33.1941 702.812 Q33.9262 705.708 35.3903 708.382 L29.9795 708.382 Q28.7381 705.167 28.1334 702.143 Q27.4968 699.12 27.4968 696.255 Q27.4968 688.521 31.5072 684.701 Q35.5176 680.882 43.6657 680.882 Z\" fill=\"#000000\" fill-rule=\"evenodd\" fill-opacity=\"1\" /><path clip-path=\"url(#clip160)\" d=\"M33.8307 648.162 Q33.2578 649.149 33.0032 650.327 Q32.7167 651.472 32.7167 652.873 Q32.7167 657.838 35.9632 660.512 Q39.1779 663.153 45.2253 663.153 L64.0042 663.153 L64.0042 669.042 L28.3562 669.042 L28.3562 663.153 L33.8944 663.153 Q30.6479 661.307 29.0883 658.347 Q27.4968 655.387 27.4968 651.154 Q27.4968 650.549 27.5923 649.817 Q27.656 649.085 27.8151 648.194 L33.8307 648.162 Z\" fill=\"#000000\" fill-rule=\"evenodd\" fill-opacity=\"1\" /><path clip-path=\"url(#clip160)\" d=\"M33.7671 619.708 L14.479 619.708 L14.479 613.851 L64.0042 613.851 L64.0042 619.708 L58.657 619.708 Q61.8398 621.554 63.3994 624.386 Q64.9272 627.187 64.9272 631.134 Q64.9272 637.595 59.771 641.669 Q54.6147 645.711 46.212 645.711 Q37.8093 645.711 32.6531 641.669 Q27.4968 637.595 27.4968 631.134 Q27.4968 627.187 29.0564 624.386 Q30.5842 621.554 33.7671 619.708 M46.212 639.664 Q52.6732 639.664 56.3653 637.022 Q60.0256 634.349 60.0256 629.702 Q60.0256 625.055 56.3653 622.381 Q52.6732 619.708 46.212 619.708 Q39.7508 619.708 36.0905 622.381 Q32.3984 625.055 32.3984 629.702 Q32.3984 634.349 36.0905 637.022 Q39.7508 639.664 46.212 639.664 Z\" fill=\"#000000\" fill-rule=\"evenodd\" fill-opacity=\"1\" /><polyline clip-path=\"url(#clip162)\" style=\"stroke:#009af9; stroke-linecap:round; stroke-linejoin:round; stroke-width:4; stroke-opacity:1; fill:none\" points=\"\n",
       "  292.4,1372.3 297.413,1369.98 302.427,1367.54 307.44,1367.56 312.453,1363.5 317.467,1364.93 322.48,1362 327.494,1362.14 332.507,1362.87 337.52,1363.33 \n",
       "  342.534,1361.15 347.547,1359.61 352.56,1359.49 357.574,1361 362.587,1360.17 367.601,1357.7 372.614,1358.32 377.627,1358.12 382.641,1357.47 387.654,1359.1 \n",
       "  392.668,1358.79 397.681,1357.6 402.694,1358.5 407.708,1355.84 412.721,1359.51 417.735,1355.56 422.748,1354.82 427.761,1356.08 432.775,1352.02 437.788,1355.23 \n",
       "  442.802,1353.96 447.815,1354.21 452.828,1354.54 457.842,1347.54 462.855,1350.92 467.869,1344.66 472.882,1346.16 477.895,1350.1 482.909,1339.13 487.922,1347.04 \n",
       "  492.936,1344.26 497.949,1347.98 502.962,1341.3 507.976,1342.49 512.989,1339.85 518.003,1340.62 523.016,1333.49 528.029,1344.23 533.043,1328.96 538.056,1336.19 \n",
       "  543.07,1328.1 548.083,1322.74 553.096,1340.12 558.11,1331.86 563.123,1331.9 568.137,1323.69 573.15,1335.35 578.163,1334.59 583.177,1307.2 588.19,1335 \n",
       "  593.204,1316.98 598.217,1310.98 603.23,1315.39 608.244,1320.91 613.257,1311.86 618.271,1305.2 623.284,1310.01 628.297,1308.92 633.311,1306.12 638.324,1310.8 \n",
       "  643.338,1295.84 648.351,1300.43 653.364,1286.18 658.378,1309.46 663.391,1282.32 668.405,1289.41 673.418,1284.42 678.431,1282.12 683.445,1283.08 688.458,1283.41 \n",
       "  693.472,1268.23 698.485,1258.77 703.498,1248.75 708.512,1250.29 713.525,1249.57 718.539,1246.65 723.552,1217.19 728.565,1226.92 733.579,1231.92 738.592,1234.75 \n",
       "  743.606,1215 748.619,1195.19 753.632,1205.5 758.646,1170.82 763.659,1182.44 768.673,1186.21 773.686,1172.34 778.699,1146.41 783.713,1132.39 788.726,1129.25 \n",
       "  793.74,1125.28 798.753,1130.79 803.766,1113.13 808.78,1121.01 813.793,1088.86 818.807,1062.32 823.82,1046.85 828.833,1104.21 833.847,1016.81 838.86,1012.78 \n",
       "  843.874,1015.29 848.887,987.018 853.9,964.114 858.914,940.433 863.927,912.29 868.94,875.827 873.954,846.743 878.967,788.668 883.981,777.762 888.994,710.819 \n",
       "  894.007,696.744 899.021,668.653 904.034,622.544 909.048,574.681 914.061,571.809 919.074,476.82 924.088,518.082 929.101,498.616 934.115,469.628 939.128,436.934 \n",
       "  944.141,429.978 949.155,374.866 954.168,401.042 959.182,387.052 964.195,357.399 969.208,362.464 974.222,327.993 979.235,344.216 984.249,335.555 989.262,304.106 \n",
       "  994.275,312.745 999.289,280.316 1004.3,282.369 1009.32,291.892 1014.33,279.954 1019.34,280.063 1024.36,269.625 1029.37,272.802 1034.38,300.557 1039.4,266.711 \n",
       "  1044.41,265.3 1049.42,281.146 1054.44,278.354 1059.45,267.769 1064.46,258.989 1069.48,246.43 1074.49,249.666 1079.5,266.287 1084.52,261.258 1089.53,249.304 \n",
       "  1094.54,233.458 1099.56,248.294 1104.57,238.497 1109.58,227.046 1114.6,228.989 1119.61,205.933 1124.62,211.65 1129.64,227.428 1134.65,220.893 1139.66,210.903 \n",
       "  1144.68,206.064 1149.69,207.662 1154.7,199.241 1159.72,201.978 1164.73,193.346 1169.74,196.718 1174.76,199.002 1179.77,212.855 1184.78,211.31 1189.8,195.983 \n",
       "  1194.81,198.731 1199.82,197.014 1204.84,191.781 1209.85,201.778 1214.86,193.785 1219.88,199.436 1224.89,191.767 1229.91,185.499 1234.92,192.417 1239.93,181.124 \n",
       "  1244.95,187.783 1249.96,178.69 1254.97,179.616 1259.99,182.048 1265,184.492 1270.01,186.241 1275.03,181.311 1280.04,191.645 1285.05,186.152 1290.07,182.421 \n",
       "  1295.08,182.705 1300.09,189.448 1305.11,199.973 1310.12,181.165 1315.13,183.035 1320.15,188.201 1325.16,185.516 1330.17,180.036 1335.19,175.484 1340.2,177.087 \n",
       "  1345.21,164.128 1350.23,173.142 1355.24,163.509 1360.25,169.261 1365.27,175.827 1370.28,173 1375.29,168.706 1380.31,175.848 1385.32,174.176 1390.33,164.351 \n",
       "  1395.35,167.912 1400.36,136.438 1405.37,152.105 1410.39,148.42 1415.4,137 1420.41,146.224 1425.43,157.547 1430.44,156.138 1435.45,159.033 1440.47,150.603 \n",
       "  1445.48,145.901 1450.49,146.514 1455.51,150.175 1460.52,147.757 1465.53,140.81 1470.55,157.514 1475.56,140.887 1480.58,143.118 1485.59,130.251 1490.6,160.001 \n",
       "  1495.62,151.177 1500.63,153.316 1505.64,162.38 1510.66,154.547 1515.67,129.702 1520.68,134.879 1525.7,151.515 1530.71,147.936 1535.72,142.339 1540.74,150.082 \n",
       "  1545.75,125.757 1550.76,126.697 1555.78,132.571 1560.79,135.235 1565.8,144.704 1570.82,138.057 1575.83,127.108 1580.84,147.184 1585.86,147.71 1590.87,136.203 \n",
       "  1595.88,134.678 1600.9,139.731 1605.91,128.36 1610.92,127.256 1615.94,151.641 1620.95,143.95 1625.96,133.539 1630.98,114.805 1635.99,126.145 1641,133.659 \n",
       "  1646.02,119.181 1651.03,121.326 1656.04,130.019 1661.06,130.445 1666.07,123.324 1671.08,138.687 1676.1,146.709 1681.11,149.37 1686.12,132.438 1691.14,106.564 \n",
       "  1696.15,136.648 1701.16,118.044 1706.18,114.317 1711.19,112.46 1716.2,111.186 1721.22,122.485 1726.23,124.363 1731.24,135.675 1736.26,108.283 1741.27,120.757 \n",
       "  1746.29,118.503 1751.3,119.443 1756.31,116.751 1761.33,117.875 1766.34,124.612 1771.35,140.471 1776.37,127.581 1781.38,131.395 1786.39,113.138 1791.41,111.987 \n",
       "  1796.42,121.35 1801.43,118.81 1806.45,118.838 1811.46,115.057 1816.47,109.703 1821.49,108.384 1826.5,112.922 1831.51,109.21 1836.53,110.994 1841.54,105.46 \n",
       "  1846.55,107.782 1851.57,88.421 1856.58,100.401 1861.59,100.544 1866.61,118.266 1871.62,124.801 1876.63,123.019 1881.65,109.002 1886.66,119.783 1891.67,98.1166 \n",
       "  1896.69,117.309 1901.7,103.176 1906.71,106.055 1911.73,119.747 1916.74,122.535 1921.75,129.343 1926.77,129.353 1931.78,128.535 1936.79,130.989 1941.81,99.5355 \n",
       "  1946.82,120.222 1951.83,123.806 1956.85,111.684 1961.86,108.269 1966.87,124.033 1971.89,103.281 1976.9,128.248 1981.91,106.128 1986.93,134.877 1991.94,118.186 \n",
       "  1996.96,102.879 2001.97,106.532 2006.98,85.838 2012,101.057 2017.01,102.972 2022.02,111.017 2027.04,99.0571 2032.05,93.3976 2037.06,108.964 2042.08,117.241 \n",
       "  2047.09,104.141 2052.1,94.9816 2057.12,105.361 2062.13,108.358 2067.14,105.025 2072.16,116.958 2077.17,109.808 2082.18,108.836 2087.2,117.923 2092.21,126.901 \n",
       "  2097.22,115.605 2102.24,149.738 2107.25,145.502 2112.26,109.84 2117.28,117.639 2122.29,130.817 2127.3,140.865 2132.32,123.694 2137.33,122.822 2142.34,128.835 \n",
       "  2147.36,110.954 2152.37,130.34 2157.38,118.004 2162.4,127.91 2167.41,142.957 2172.42,117.388 2177.44,119.461 2182.45,114.83 2187.46,112.042 2192.48,111.158 \n",
       "  2197.49,116.887 2202.5,101.472 2207.52,98.0032 2212.53,103.803 2217.54,112.952 2222.56,121.038 2227.57,103.373 2232.58,111.527 2237.6,99.0867 2242.61,102.281 \n",
       "  2247.62,93.4597 2252.64,107.106 2257.65,99.219 2262.67,103.318 2267.68,92.4254 2272.69,99.1561 2277.71,119.558 2282.72,89.6489 2287.73,111.424 2292.75,108.726 \n",
       "  \n",
       "  \"/>\n",
       "</svg>\n"
      ]
     },
     "execution_count": 42,
     "metadata": {},
     "output_type": "execute_result"
    }
   ],
   "source": [
    "plot(iterations, rewards, xlabel=\"Iterations\", ylabel=\"Reward\", legend = false, xformatter = :scientific)"
   ]
  },
  {
   "cell_type": "code",
   "execution_count": 43,
   "id": "405bd6ad",
   "metadata": {},
   "outputs": [
    {
     "data": {
      "text/plain": [
       "\"/home/larissa/Documents/Projects/ADLR/ADLR_project/src/RL_PPO_quadcopter_3D/plots/slow/reward.svg\""
      ]
     },
     "execution_count": 43,
     "metadata": {},
     "output_type": "execute_result"
    }
   ],
   "source": [
    "savefig(fig_path * \"reward.svg\")"
   ]
  },
  {
   "cell_type": "code",
   "execution_count": 44,
   "id": "9535a7a5",
   "metadata": {},
   "outputs": [
    {
     "data": {
      "image/svg+xml": [
       "<?xml version=\"1.0\" encoding=\"utf-8\"?>\n",
       "<svg xmlns=\"http://www.w3.org/2000/svg\" xmlns:xlink=\"http://www.w3.org/1999/xlink\" width=\"600\" height=\"400\" viewBox=\"0 0 2400 1600\">\n",
       "<defs>\n",
       "  <clipPath id=\"clip240\">\n",
       "    <rect x=\"0\" y=\"0\" width=\"2400\" height=\"1600\"/>\n",
       "  </clipPath>\n",
       "</defs>\n",
       "<path clip-path=\"url(#clip240)\" d=\"\n",
       "M0 1600 L2400 1600 L2400 0 L0 0  Z\n",
       "  \" fill=\"#ffffff\" fill-rule=\"evenodd\" fill-opacity=\"1\"/>\n",
       "<defs>\n",
       "  <clipPath id=\"clip241\">\n",
       "    <rect x=\"480\" y=\"0\" width=\"1681\" height=\"1600\"/>\n",
       "  </clipPath>\n",
       "</defs>\n",
       "<path clip-path=\"url(#clip240)\" d=\"\n",
       "M249.542 1410.9 L2352.76 1410.9 L2352.76 47.2441 L249.542 47.2441  Z\n",
       "  \" fill=\"#ffffff\" fill-rule=\"evenodd\" fill-opacity=\"1\"/>\n",
       "<defs>\n",
       "  <clipPath id=\"clip242\">\n",
       "    <rect x=\"249\" y=\"47\" width=\"2104\" height=\"1365\"/>\n",
       "  </clipPath>\n",
       "</defs>\n",
       "<polyline clip-path=\"url(#clip242)\" style=\"stroke:#000000; stroke-linecap:round; stroke-linejoin:round; stroke-width:2; stroke-opacity:0.1; fill:none\" points=\"\n",
       "  304.094,1410.9 304.094,47.2441 \n",
       "  \"/>\n",
       "<polyline clip-path=\"url(#clip242)\" style=\"stroke:#000000; stroke-linecap:round; stroke-linejoin:round; stroke-width:2; stroke-opacity:0.1; fill:none\" points=\"\n",
       "  801.378,1410.9 801.378,47.2441 \n",
       "  \"/>\n",
       "<polyline clip-path=\"url(#clip242)\" style=\"stroke:#000000; stroke-linecap:round; stroke-linejoin:round; stroke-width:2; stroke-opacity:0.1; fill:none\" points=\"\n",
       "  1298.66,1410.9 1298.66,47.2441 \n",
       "  \"/>\n",
       "<polyline clip-path=\"url(#clip242)\" style=\"stroke:#000000; stroke-linecap:round; stroke-linejoin:round; stroke-width:2; stroke-opacity:0.1; fill:none\" points=\"\n",
       "  1795.95,1410.9 1795.95,47.2441 \n",
       "  \"/>\n",
       "<polyline clip-path=\"url(#clip242)\" style=\"stroke:#000000; stroke-linecap:round; stroke-linejoin:round; stroke-width:2; stroke-opacity:0.1; fill:none\" points=\"\n",
       "  2293.23,1410.9 2293.23,47.2441 \n",
       "  \"/>\n",
       "<polyline clip-path=\"url(#clip240)\" style=\"stroke:#000000; stroke-linecap:round; stroke-linejoin:round; stroke-width:4; stroke-opacity:1; fill:none\" points=\"\n",
       "  249.542,1410.9 2352.76,1410.9 \n",
       "  \"/>\n",
       "<polyline clip-path=\"url(#clip240)\" style=\"stroke:#000000; stroke-linecap:round; stroke-linejoin:round; stroke-width:4; stroke-opacity:1; fill:none\" points=\"\n",
       "  304.094,1410.9 304.094,1392 \n",
       "  \"/>\n",
       "<polyline clip-path=\"url(#clip240)\" style=\"stroke:#000000; stroke-linecap:round; stroke-linejoin:round; stroke-width:4; stroke-opacity:1; fill:none\" points=\"\n",
       "  801.378,1410.9 801.378,1392 \n",
       "  \"/>\n",
       "<polyline clip-path=\"url(#clip240)\" style=\"stroke:#000000; stroke-linecap:round; stroke-linejoin:round; stroke-width:4; stroke-opacity:1; fill:none\" points=\"\n",
       "  1298.66,1410.9 1298.66,1392 \n",
       "  \"/>\n",
       "<polyline clip-path=\"url(#clip240)\" style=\"stroke:#000000; stroke-linecap:round; stroke-linejoin:round; stroke-width:4; stroke-opacity:1; fill:none\" points=\"\n",
       "  1795.95,1410.9 1795.95,1392 \n",
       "  \"/>\n",
       "<polyline clip-path=\"url(#clip240)\" style=\"stroke:#000000; stroke-linecap:round; stroke-linejoin:round; stroke-width:4; stroke-opacity:1; fill:none\" points=\"\n",
       "  2293.23,1410.9 2293.23,1392 \n",
       "  \"/>\n",
       "<path clip-path=\"url(#clip240)\" d=\"M304.094 1441.82 Q300.483 1441.82 298.654 1445.38 Q296.849 1448.92 296.849 1456.05 Q296.849 1463.16 298.654 1466.72 Q300.483 1470.26 304.094 1470.26 Q307.728 1470.26 309.534 1466.72 Q311.363 1463.16 311.363 1456.05 Q311.363 1448.92 309.534 1445.38 Q307.728 1441.82 304.094 1441.82 M304.094 1438.11 Q309.904 1438.11 312.96 1442.72 Q316.038 1447.3 316.038 1456.05 Q316.038 1464.78 312.96 1469.38 Q309.904 1473.97 304.094 1473.97 Q298.284 1473.97 295.205 1469.38 Q292.15 1464.78 292.15 1456.05 Q292.15 1447.3 295.205 1442.72 Q298.284 1438.11 304.094 1438.11 Z\" fill=\"#000000\" fill-rule=\"evenodd\" fill-opacity=\"1\" /><path clip-path=\"url(#clip240)\" d=\"M709.481 1485.02 L717.12 1485.02 L717.12 1458.66 L708.809 1460.32 L708.809 1456.06 L717.073 1454.4 L721.749 1454.4 L721.749 1485.02 L729.388 1485.02 L729.388 1488.96 L709.481 1488.96 L709.481 1485.02 Z\" fill=\"#000000\" fill-rule=\"evenodd\" fill-opacity=\"1\" /><path clip-path=\"url(#clip240)\" d=\"M738.832 1483.08 L743.717 1483.08 L743.717 1488.96 L738.832 1488.96 L738.832 1483.08 Z\" fill=\"#000000\" fill-rule=\"evenodd\" fill-opacity=\"1\" /><path clip-path=\"url(#clip240)\" d=\"M763.902 1457.48 Q760.291 1457.48 758.462 1461.04 Q756.656 1464.58 756.656 1471.71 Q756.656 1478.82 758.462 1482.38 Q760.291 1485.92 763.902 1485.92 Q767.536 1485.92 769.341 1482.38 Q771.17 1478.82 771.17 1471.71 Q771.17 1464.58 769.341 1461.04 Q767.536 1457.48 763.902 1457.48 M763.902 1453.77 Q769.712 1453.77 772.767 1458.38 Q775.846 1462.96 775.846 1471.71 Q775.846 1480.44 772.767 1485.04 Q769.712 1489.63 763.902 1489.63 Q758.092 1489.63 755.013 1485.04 Q751.957 1480.44 751.957 1471.71 Q751.957 1462.96 755.013 1458.38 Q758.092 1453.77 763.902 1453.77 Z\" fill=\"#000000\" fill-rule=\"evenodd\" fill-opacity=\"1\" /><path clip-path=\"url(#clip240)\" d=\"M812.235 1463.49 L801.656 1474.12 L812.235 1484.7 L809.48 1487.5 L798.855 1476.87 L788.23 1487.5 L785.499 1484.7 L796.054 1474.12 L785.499 1463.49 L788.23 1460.69 L798.855 1471.32 L809.48 1460.69 L812.235 1463.49 Z\" fill=\"#000000\" fill-rule=\"evenodd\" fill-opacity=\"1\" /><path clip-path=\"url(#clip240)\" d=\"M824.596 1485.02 L832.235 1485.02 L832.235 1458.66 L823.925 1460.32 L823.925 1456.06 L832.188 1454.4 L836.864 1454.4 L836.864 1485.02 L844.503 1485.02 L844.503 1488.96 L824.596 1488.96 L824.596 1485.02 Z\" fill=\"#000000\" fill-rule=\"evenodd\" fill-opacity=\"1\" /><path clip-path=\"url(#clip240)\" d=\"M863.947 1457.48 Q860.336 1457.48 858.508 1461.04 Q856.702 1464.58 856.702 1471.71 Q856.702 1478.82 858.508 1482.38 Q860.336 1485.92 863.947 1485.92 Q867.582 1485.92 869.387 1482.38 Q871.216 1478.82 871.216 1471.71 Q871.216 1464.58 869.387 1461.04 Q867.582 1457.48 863.947 1457.48 M863.947 1453.77 Q869.758 1453.77 872.813 1458.38 Q875.892 1462.96 875.892 1471.71 Q875.892 1480.44 872.813 1485.04 Q869.758 1489.63 863.947 1489.63 Q858.137 1489.63 855.059 1485.04 Q852.003 1480.44 852.003 1471.71 Q852.003 1462.96 855.059 1458.38 Q858.137 1453.77 863.947 1453.77 Z\" fill=\"#000000\" fill-rule=\"evenodd\" fill-opacity=\"1\" /><path clip-path=\"url(#clip240)\" d=\"M875.892 1433.47 L893.947 1433.47 L893.947 1435.08 L883.753 1461.55 L879.785 1461.55 L889.377 1436.66 L875.892 1436.66 L875.892 1433.47 Z\" fill=\"#000000\" fill-rule=\"evenodd\" fill-opacity=\"1\" /><path clip-path=\"url(#clip240)\" d=\"M1210.85 1485.02 L1227.17 1485.02 L1227.17 1488.96 L1205.23 1488.96 L1205.23 1485.02 Q1207.89 1482.27 1212.47 1477.64 Q1217.08 1472.98 1218.26 1471.64 Q1220.5 1469.12 1221.38 1467.38 Q1222.29 1465.62 1222.29 1463.93 Q1222.29 1461.18 1220.34 1459.44 Q1218.42 1457.71 1215.32 1457.71 Q1213.12 1457.71 1210.67 1458.47 Q1208.23 1459.23 1205.46 1460.79 L1205.46 1456.06 Q1208.28 1454.93 1210.73 1454.35 Q1213.19 1453.77 1215.23 1453.77 Q1220.6 1453.77 1223.79 1456.46 Q1226.98 1459.14 1226.98 1463.63 Q1226.98 1465.76 1226.17 1467.68 Q1225.39 1469.58 1223.28 1472.17 Q1222.7 1472.85 1219.6 1476.06 Q1216.5 1479.26 1210.85 1485.02 Z\" fill=\"#000000\" fill-rule=\"evenodd\" fill-opacity=\"1\" /><path clip-path=\"url(#clip240)\" d=\"M1236.98 1483.08 L1241.87 1483.08 L1241.87 1488.96 L1236.98 1488.96 L1236.98 1483.08 Z\" fill=\"#000000\" fill-rule=\"evenodd\" fill-opacity=\"1\" /><path clip-path=\"url(#clip240)\" d=\"M1262.05 1457.48 Q1258.44 1457.48 1256.61 1461.04 Q1254.81 1464.58 1254.81 1471.71 Q1254.81 1478.82 1256.61 1482.38 Q1258.44 1485.92 1262.05 1485.92 Q1265.69 1485.92 1267.49 1482.38 Q1269.32 1478.82 1269.32 1471.71 Q1269.32 1464.58 1267.49 1461.04 Q1265.69 1457.48 1262.05 1457.48 M1262.05 1453.77 Q1267.86 1453.77 1270.92 1458.38 Q1274 1462.96 1274 1471.71 Q1274 1480.44 1270.92 1485.04 Q1267.86 1489.63 1262.05 1489.63 Q1256.24 1489.63 1253.17 1485.04 Q1250.11 1480.44 1250.11 1471.71 Q1250.11 1462.96 1253.17 1458.38 Q1256.24 1453.77 1262.05 1453.77 Z\" fill=\"#000000\" fill-rule=\"evenodd\" fill-opacity=\"1\" /><path clip-path=\"url(#clip240)\" d=\"M1310.39 1463.49 L1299.81 1474.12 L1310.39 1484.7 L1307.63 1487.5 L1297.01 1476.87 L1286.38 1487.5 L1283.65 1484.7 L1294.21 1474.12 L1283.65 1463.49 L1286.38 1460.69 L1297.01 1471.32 L1307.63 1460.69 L1310.39 1463.49 Z\" fill=\"#000000\" fill-rule=\"evenodd\" fill-opacity=\"1\" /><path clip-path=\"url(#clip240)\" d=\"M1322.75 1485.02 L1330.39 1485.02 L1330.39 1458.66 L1322.08 1460.32 L1322.08 1456.06 L1330.34 1454.4 L1335.02 1454.4 L1335.02 1485.02 L1342.66 1485.02 L1342.66 1488.96 L1322.75 1488.96 L1322.75 1485.02 Z\" fill=\"#000000\" fill-rule=\"evenodd\" fill-opacity=\"1\" /><path clip-path=\"url(#clip240)\" d=\"M1362.1 1457.48 Q1358.49 1457.48 1356.66 1461.04 Q1354.85 1464.58 1354.85 1471.71 Q1354.85 1478.82 1356.66 1482.38 Q1358.49 1485.92 1362.1 1485.92 Q1365.73 1485.92 1367.54 1482.38 Q1369.37 1478.82 1369.37 1471.71 Q1369.37 1464.58 1367.54 1461.04 Q1365.73 1457.48 1362.1 1457.48 M1362.1 1453.77 Q1367.91 1453.77 1370.97 1458.38 Q1374.04 1462.96 1374.04 1471.71 Q1374.04 1480.44 1370.97 1485.04 Q1367.91 1489.63 1362.1 1489.63 Q1356.29 1489.63 1353.21 1485.04 Q1350.16 1480.44 1350.16 1471.71 Q1350.16 1462.96 1353.21 1458.38 Q1356.29 1453.77 1362.1 1453.77 Z\" fill=\"#000000\" fill-rule=\"evenodd\" fill-opacity=\"1\" /><path clip-path=\"url(#clip240)\" d=\"M1374.04 1433.47 L1392.1 1433.47 L1392.1 1435.08 L1381.91 1461.55 L1377.94 1461.55 L1387.53 1436.66 L1374.04 1436.66 L1374.04 1433.47 Z\" fill=\"#000000\" fill-rule=\"evenodd\" fill-opacity=\"1\" /><path clip-path=\"url(#clip240)\" d=\"M1718.2 1470.32 Q1721.56 1471.04 1723.44 1473.31 Q1725.33 1475.58 1725.33 1478.91 Q1725.33 1484.03 1721.82 1486.83 Q1718.3 1489.63 1711.82 1489.63 Q1709.64 1489.63 1707.32 1489.19 Q1705.03 1488.77 1702.58 1487.91 L1702.58 1483.4 Q1704.52 1484.54 1706.84 1485.11 Q1709.15 1485.69 1711.68 1485.69 Q1716.07 1485.69 1718.37 1483.96 Q1720.68 1482.22 1720.68 1478.91 Q1720.68 1475.85 1718.53 1474.14 Q1716.4 1472.41 1712.58 1472.41 L1708.55 1472.41 L1708.55 1468.56 L1712.76 1468.56 Q1716.21 1468.56 1718.04 1467.2 Q1719.87 1465.81 1719.87 1463.22 Q1719.87 1460.55 1717.97 1459.14 Q1716.1 1457.71 1712.58 1457.71 Q1710.66 1457.71 1708.46 1458.12 Q1706.26 1458.54 1703.62 1459.42 L1703.62 1455.25 Q1706.28 1454.51 1708.6 1454.14 Q1710.94 1453.77 1713 1453.77 Q1718.32 1453.77 1721.42 1456.2 Q1724.52 1458.61 1724.52 1462.73 Q1724.52 1465.6 1722.88 1467.59 Q1721.24 1469.56 1718.2 1470.32 Z\" fill=\"#000000\" fill-rule=\"evenodd\" fill-opacity=\"1\" /><path clip-path=\"url(#clip240)\" d=\"M1734.2 1483.08 L1739.08 1483.08 L1739.08 1488.96 L1734.2 1488.96 L1734.2 1483.08 Z\" fill=\"#000000\" fill-rule=\"evenodd\" fill-opacity=\"1\" /><path clip-path=\"url(#clip240)\" d=\"M1759.27 1457.48 Q1755.66 1457.48 1753.83 1461.04 Q1752.02 1464.58 1752.02 1471.71 Q1752.02 1478.82 1753.83 1482.38 Q1755.66 1485.92 1759.27 1485.92 Q1762.9 1485.92 1764.71 1482.38 Q1766.54 1478.82 1766.54 1471.71 Q1766.54 1464.58 1764.71 1461.04 Q1762.9 1457.48 1759.27 1457.48 M1759.27 1453.77 Q1765.08 1453.77 1768.13 1458.38 Q1771.21 1462.96 1771.21 1471.71 Q1771.21 1480.44 1768.13 1485.04 Q1765.08 1489.63 1759.27 1489.63 Q1753.46 1489.63 1750.38 1485.04 Q1747.32 1480.44 1747.32 1471.71 Q1747.32 1462.96 1750.38 1458.38 Q1753.46 1453.77 1759.27 1453.77 Z\" fill=\"#000000\" fill-rule=\"evenodd\" fill-opacity=\"1\" /><path clip-path=\"url(#clip240)\" d=\"M1807.6 1463.49 L1797.02 1474.12 L1807.6 1484.7 L1804.85 1487.5 L1794.22 1476.87 L1783.6 1487.5 L1780.87 1484.7 L1791.42 1474.12 L1780.87 1463.49 L1783.6 1460.69 L1794.22 1471.32 L1804.85 1460.69 L1807.6 1463.49 Z\" fill=\"#000000\" fill-rule=\"evenodd\" fill-opacity=\"1\" /><path clip-path=\"url(#clip240)\" d=\"M1819.96 1485.02 L1827.6 1485.02 L1827.6 1458.66 L1819.29 1460.32 L1819.29 1456.06 L1827.56 1454.4 L1832.23 1454.4 L1832.23 1485.02 L1839.87 1485.02 L1839.87 1488.96 L1819.96 1488.96 L1819.96 1485.02 Z\" fill=\"#000000\" fill-rule=\"evenodd\" fill-opacity=\"1\" /><path clip-path=\"url(#clip240)\" d=\"M1859.31 1457.48 Q1855.7 1457.48 1853.87 1461.04 Q1852.07 1464.58 1852.07 1471.71 Q1852.07 1478.82 1853.87 1482.38 Q1855.7 1485.92 1859.31 1485.92 Q1862.95 1485.92 1864.75 1482.38 Q1866.58 1478.82 1866.58 1471.71 Q1866.58 1464.58 1864.75 1461.04 Q1862.95 1457.48 1859.31 1457.48 M1859.31 1453.77 Q1865.12 1453.77 1868.18 1458.38 Q1871.26 1462.96 1871.26 1471.71 Q1871.26 1480.44 1868.18 1485.04 Q1865.12 1489.63 1859.31 1489.63 Q1853.5 1489.63 1850.43 1485.04 Q1847.37 1480.44 1847.37 1471.71 Q1847.37 1462.96 1850.43 1458.38 Q1853.5 1453.77 1859.31 1453.77 Z\" fill=\"#000000\" fill-rule=\"evenodd\" fill-opacity=\"1\" /><path clip-path=\"url(#clip240)\" d=\"M1871.26 1433.47 L1889.31 1433.47 L1889.31 1435.08 L1879.12 1461.55 L1875.15 1461.55 L1884.74 1436.66 L1871.26 1436.66 L1871.26 1433.47 Z\" fill=\"#000000\" fill-rule=\"evenodd\" fill-opacity=\"1\" /><path clip-path=\"url(#clip240)\" d=\"M2214.82 1458.47 L2203.01 1476.92 L2214.82 1476.92 L2214.82 1458.47 M2213.59 1454.4 L2219.47 1454.4 L2219.47 1476.92 L2224.4 1476.92 L2224.4 1480.81 L2219.47 1480.81 L2219.47 1488.96 L2214.82 1488.96 L2214.82 1480.81 L2199.22 1480.81 L2199.22 1476.29 L2213.59 1454.4 Z\" fill=\"#000000\" fill-rule=\"evenodd\" fill-opacity=\"1\" /><path clip-path=\"url(#clip240)\" d=\"M2232.13 1483.08 L2237.02 1483.08 L2237.02 1488.96 L2232.13 1488.96 L2232.13 1483.08 Z\" fill=\"#000000\" fill-rule=\"evenodd\" fill-opacity=\"1\" /><path clip-path=\"url(#clip240)\" d=\"M2257.2 1457.48 Q2253.59 1457.48 2251.76 1461.04 Q2249.96 1464.58 2249.96 1471.71 Q2249.96 1478.82 2251.76 1482.38 Q2253.59 1485.92 2257.2 1485.92 Q2260.84 1485.92 2262.64 1482.38 Q2264.47 1478.82 2264.47 1471.71 Q2264.47 1464.58 2262.64 1461.04 Q2260.84 1457.48 2257.2 1457.48 M2257.2 1453.77 Q2263.01 1453.77 2266.07 1458.38 Q2269.15 1462.96 2269.15 1471.71 Q2269.15 1480.44 2266.07 1485.04 Q2263.01 1489.63 2257.2 1489.63 Q2251.39 1489.63 2248.31 1485.04 Q2245.26 1480.44 2245.26 1471.71 Q2245.26 1462.96 2248.31 1458.38 Q2251.39 1453.77 2257.2 1453.77 Z\" fill=\"#000000\" fill-rule=\"evenodd\" fill-opacity=\"1\" /><path clip-path=\"url(#clip240)\" d=\"M2305.53 1463.49 L2294.96 1474.12 L2305.53 1484.7 L2302.78 1487.5 L2292.15 1476.87 L2281.53 1487.5 L2278.8 1484.7 L2289.35 1474.12 L2278.8 1463.49 L2281.53 1460.69 L2292.15 1471.32 L2302.78 1460.69 L2305.53 1463.49 Z\" fill=\"#000000\" fill-rule=\"evenodd\" fill-opacity=\"1\" /><path clip-path=\"url(#clip240)\" d=\"M2317.9 1485.02 L2325.53 1485.02 L2325.53 1458.66 L2317.22 1460.32 L2317.22 1456.06 L2325.49 1454.4 L2330.16 1454.4 L2330.16 1485.02 L2337.8 1485.02 L2337.8 1488.96 L2317.9 1488.96 L2317.9 1485.02 Z\" fill=\"#000000\" fill-rule=\"evenodd\" fill-opacity=\"1\" /><path clip-path=\"url(#clip240)\" d=\"M2357.25 1457.48 Q2353.64 1457.48 2351.81 1461.04 Q2350 1464.58 2350 1471.71 Q2350 1478.82 2351.81 1482.38 Q2353.64 1485.92 2357.25 1485.92 Q2360.88 1485.92 2362.69 1482.38 Q2364.52 1478.82 2364.52 1471.71 Q2364.52 1464.58 2362.69 1461.04 Q2360.88 1457.48 2357.25 1457.48 M2357.25 1453.77 Q2363.06 1453.77 2366.11 1458.38 Q2369.19 1462.96 2369.19 1471.71 Q2369.19 1480.44 2366.11 1485.04 Q2363.06 1489.63 2357.25 1489.63 Q2351.44 1489.63 2348.36 1485.04 Q2345.3 1480.44 2345.3 1471.71 Q2345.3 1462.96 2348.36 1458.38 Q2351.44 1453.77 2357.25 1453.77 Z\" fill=\"#000000\" fill-rule=\"evenodd\" fill-opacity=\"1\" /><path clip-path=\"url(#clip240)\" d=\"M2369.19 1433.47 L2387.25 1433.47 L2387.25 1435.08 L2377.05 1461.55 L2373.08 1461.55 L2382.68 1436.66 L2369.19 1436.66 L2369.19 1433.47 Z\" fill=\"#000000\" fill-rule=\"evenodd\" fill-opacity=\"1\" /><path clip-path=\"url(#clip240)\" d=\"M1150.71 1526.67 L1157.14 1526.67 L1157.14 1574.19 L1150.71 1574.19 L1150.71 1526.67 Z\" fill=\"#000000\" fill-rule=\"evenodd\" fill-opacity=\"1\" /><path clip-path=\"url(#clip240)\" d=\"M1175.47 1528.42 L1175.47 1538.54 L1187.54 1538.54 L1187.54 1543.09 L1175.47 1543.09 L1175.47 1562.44 Q1175.47 1566.8 1176.65 1568.04 Q1177.86 1569.28 1181.52 1569.28 L1187.54 1569.28 L1187.54 1574.19 L1181.52 1574.19 Q1174.74 1574.19 1172.16 1571.67 Q1169.59 1569.12 1169.59 1562.44 L1169.59 1543.09 L1165.29 1543.09 L1165.29 1538.54 L1169.59 1538.54 L1169.59 1528.42 L1175.47 1528.42 Z\" fill=\"#000000\" fill-rule=\"evenodd\" fill-opacity=\"1\" /><path clip-path=\"url(#clip240)\" d=\"M1225.73 1554.9 L1225.73 1557.76 L1198.8 1557.76 Q1199.19 1563.81 1202.43 1566.99 Q1205.71 1570.14 1211.54 1570.14 Q1214.91 1570.14 1218.06 1569.32 Q1221.24 1568.49 1224.36 1566.83 L1224.36 1572.37 Q1221.21 1573.71 1217.9 1574.41 Q1214.59 1575.11 1211.19 1575.11 Q1202.66 1575.11 1197.66 1570.14 Q1192.69 1565.18 1192.69 1556.71 Q1192.69 1547.96 1197.4 1542.83 Q1202.15 1537.68 1210.17 1537.68 Q1217.36 1537.68 1221.53 1542.33 Q1225.73 1546.94 1225.73 1554.9 M1219.87 1553.18 Q1219.81 1548.37 1217.17 1545.51 Q1214.56 1542.64 1210.23 1542.64 Q1205.33 1542.64 1202.37 1545.41 Q1199.44 1548.18 1199 1553.21 L1219.87 1553.18 Z\" fill=\"#000000\" fill-rule=\"evenodd\" fill-opacity=\"1\" /><path clip-path=\"url(#clip240)\" d=\"M1256 1544.01 Q1255.01 1543.44 1253.84 1543.18 Q1252.69 1542.9 1251.29 1542.9 Q1246.32 1542.9 1243.65 1546.14 Q1241.01 1549.36 1241.01 1555.41 L1241.01 1574.19 L1235.12 1574.19 L1235.12 1538.54 L1241.01 1538.54 L1241.01 1544.08 Q1242.86 1540.83 1245.82 1539.27 Q1248.78 1537.68 1253.01 1537.68 Q1253.61 1537.68 1254.35 1537.77 Q1255.08 1537.84 1255.97 1538 L1256 1544.01 Z\" fill=\"#000000\" fill-rule=\"evenodd\" fill-opacity=\"1\" /><path clip-path=\"url(#clip240)\" d=\"M1278.34 1556.27 Q1271.25 1556.27 1268.51 1557.89 Q1265.77 1559.51 1265.77 1563.43 Q1265.77 1566.55 1267.81 1568.39 Q1269.88 1570.21 1273.41 1570.21 Q1278.28 1570.21 1281.21 1566.77 Q1284.17 1563.3 1284.17 1557.57 L1284.17 1556.27 L1278.34 1556.27 M1290.02 1553.85 L1290.02 1574.19 L1284.17 1574.19 L1284.17 1568.77 Q1282.16 1572.02 1279.17 1573.58 Q1276.18 1575.11 1271.85 1575.11 Q1266.38 1575.11 1263.13 1572.05 Q1259.92 1568.97 1259.92 1563.81 Q1259.92 1557.79 1263.93 1554.74 Q1267.97 1551.68 1275.96 1551.68 L1284.17 1551.68 L1284.17 1551.11 Q1284.17 1547.07 1281.49 1544.87 Q1278.85 1542.64 1274.05 1542.64 Q1270.99 1542.64 1268.1 1543.38 Q1265.2 1544.11 1262.53 1545.57 L1262.53 1540.16 Q1265.74 1538.92 1268.76 1538.31 Q1271.79 1537.68 1274.65 1537.68 Q1282.39 1537.68 1286.21 1541.69 Q1290.02 1545.7 1290.02 1553.85 Z\" fill=\"#000000\" fill-rule=\"evenodd\" fill-opacity=\"1\" /><path clip-path=\"url(#clip240)\" d=\"M1307.88 1528.42 L1307.88 1538.54 L1319.94 1538.54 L1319.94 1543.09 L1307.88 1543.09 L1307.88 1562.44 Q1307.88 1566.8 1309.06 1568.04 Q1310.27 1569.28 1313.93 1569.28 L1319.94 1569.28 L1319.94 1574.19 L1313.93 1574.19 Q1307.15 1574.19 1304.57 1571.67 Q1301.99 1569.12 1301.99 1562.44 L1301.99 1543.09 L1297.7 1543.09 L1297.7 1538.54 L1301.99 1538.54 L1301.99 1528.42 L1307.88 1528.42 Z\" fill=\"#000000\" fill-rule=\"evenodd\" fill-opacity=\"1\" /><path clip-path=\"url(#clip240)\" d=\"M1327.65 1538.54 L1333.5 1538.54 L1333.5 1574.19 L1327.65 1574.19 L1327.65 1538.54 M1327.65 1524.66 L1333.5 1524.66 L1333.5 1532.08 L1327.65 1532.08 L1327.65 1524.66 Z\" fill=\"#000000\" fill-rule=\"evenodd\" fill-opacity=\"1\" /><path clip-path=\"url(#clip240)\" d=\"M1359.57 1542.64 Q1354.86 1542.64 1352.12 1546.34 Q1349.39 1550 1349.39 1556.39 Q1349.39 1562.79 1352.09 1566.48 Q1354.83 1570.14 1359.57 1570.14 Q1364.25 1570.14 1366.99 1566.45 Q1369.72 1562.76 1369.72 1556.39 Q1369.72 1550.06 1366.99 1546.37 Q1364.25 1542.64 1359.57 1542.64 M1359.57 1537.68 Q1367.21 1537.68 1371.57 1542.64 Q1375.93 1547.61 1375.93 1556.39 Q1375.93 1565.15 1371.57 1570.14 Q1367.21 1575.11 1359.57 1575.11 Q1351.9 1575.11 1347.54 1570.14 Q1343.21 1565.15 1343.21 1556.39 Q1343.21 1547.61 1347.54 1542.64 Q1351.9 1537.68 1359.57 1537.68 Z\" fill=\"#000000\" fill-rule=\"evenodd\" fill-opacity=\"1\" /><path clip-path=\"url(#clip240)\" d=\"M1415.27 1552.67 L1415.27 1574.19 L1409.41 1574.19 L1409.41 1552.86 Q1409.41 1547.8 1407.44 1545.29 Q1405.47 1542.77 1401.52 1542.77 Q1396.78 1542.77 1394.04 1545.79 Q1391.3 1548.82 1391.3 1554.04 L1391.3 1574.19 L1385.42 1574.19 L1385.42 1538.54 L1391.3 1538.54 L1391.3 1544.08 Q1393.4 1540.86 1396.24 1539.27 Q1399.1 1537.68 1402.83 1537.68 Q1408.97 1537.68 1412.12 1541.5 Q1415.27 1545.29 1415.27 1552.67 Z\" fill=\"#000000\" fill-rule=\"evenodd\" fill-opacity=\"1\" /><path clip-path=\"url(#clip240)\" d=\"M1449.68 1539.59 L1449.68 1545.13 Q1447.19 1543.85 1444.52 1543.22 Q1441.85 1542.58 1438.98 1542.58 Q1434.62 1542.58 1432.43 1543.92 Q1430.26 1545.25 1430.26 1547.93 Q1430.26 1549.96 1431.82 1551.14 Q1433.38 1552.29 1438.09 1553.34 L1440.1 1553.78 Q1446.33 1555.12 1448.94 1557.57 Q1451.59 1559.99 1451.59 1564.35 Q1451.59 1569.32 1447.64 1572.21 Q1443.72 1575.11 1436.85 1575.11 Q1433.99 1575.11 1430.87 1574.54 Q1427.78 1573.99 1424.34 1572.88 L1424.34 1566.83 Q1427.59 1568.52 1430.74 1569.38 Q1433.89 1570.21 1436.98 1570.21 Q1441.11 1570.21 1443.34 1568.81 Q1445.57 1567.37 1445.57 1564.8 Q1445.57 1562.41 1443.95 1561.14 Q1442.36 1559.86 1436.91 1558.68 L1434.88 1558.21 Q1429.43 1557.06 1427.01 1554.71 Q1424.6 1552.32 1424.6 1548.18 Q1424.6 1543.15 1428.16 1540.42 Q1431.73 1537.68 1438.28 1537.68 Q1441.53 1537.68 1444.39 1538.16 Q1447.26 1538.63 1449.68 1539.59 Z\" fill=\"#000000\" fill-rule=\"evenodd\" fill-opacity=\"1\" /><polyline clip-path=\"url(#clip242)\" style=\"stroke:#000000; stroke-linecap:round; stroke-linejoin:round; stroke-width:2; stroke-opacity:0.1; fill:none\" points=\"\n",
       "  249.542,1372.3 2352.76,1372.3 \n",
       "  \"/>\n",
       "<polyline clip-path=\"url(#clip242)\" style=\"stroke:#000000; stroke-linecap:round; stroke-linejoin:round; stroke-width:2; stroke-opacity:0.1; fill:none\" points=\"\n",
       "  249.542,1050.69 2352.76,1050.69 \n",
       "  \"/>\n",
       "<polyline clip-path=\"url(#clip242)\" style=\"stroke:#000000; stroke-linecap:round; stroke-linejoin:round; stroke-width:2; stroke-opacity:0.1; fill:none\" points=\"\n",
       "  249.542,729.07 2352.76,729.07 \n",
       "  \"/>\n",
       "<polyline clip-path=\"url(#clip242)\" style=\"stroke:#000000; stroke-linecap:round; stroke-linejoin:round; stroke-width:2; stroke-opacity:0.1; fill:none\" points=\"\n",
       "  249.542,407.454 2352.76,407.454 \n",
       "  \"/>\n",
       "<polyline clip-path=\"url(#clip242)\" style=\"stroke:#000000; stroke-linecap:round; stroke-linejoin:round; stroke-width:2; stroke-opacity:0.1; fill:none\" points=\"\n",
       "  249.542,85.838 2352.76,85.838 \n",
       "  \"/>\n",
       "<polyline clip-path=\"url(#clip240)\" style=\"stroke:#000000; stroke-linecap:round; stroke-linejoin:round; stroke-width:4; stroke-opacity:1; fill:none\" points=\"\n",
       "  249.542,1410.9 249.542,47.2441 \n",
       "  \"/>\n",
       "<polyline clip-path=\"url(#clip240)\" style=\"stroke:#000000; stroke-linecap:round; stroke-linejoin:round; stroke-width:4; stroke-opacity:1; fill:none\" points=\"\n",
       "  249.542,1372.3 268.44,1372.3 \n",
       "  \"/>\n",
       "<polyline clip-path=\"url(#clip240)\" style=\"stroke:#000000; stroke-linecap:round; stroke-linejoin:round; stroke-width:4; stroke-opacity:1; fill:none\" points=\"\n",
       "  249.542,1050.69 268.44,1050.69 \n",
       "  \"/>\n",
       "<polyline clip-path=\"url(#clip240)\" style=\"stroke:#000000; stroke-linecap:round; stroke-linejoin:round; stroke-width:4; stroke-opacity:1; fill:none\" points=\"\n",
       "  249.542,729.07 268.44,729.07 \n",
       "  \"/>\n",
       "<polyline clip-path=\"url(#clip240)\" style=\"stroke:#000000; stroke-linecap:round; stroke-linejoin:round; stroke-width:4; stroke-opacity:1; fill:none\" points=\"\n",
       "  249.542,407.454 268.44,407.454 \n",
       "  \"/>\n",
       "<polyline clip-path=\"url(#clip240)\" style=\"stroke:#000000; stroke-linecap:round; stroke-linejoin:round; stroke-width:4; stroke-opacity:1; fill:none\" points=\"\n",
       "  249.542,85.838 268.44,85.838 \n",
       "  \"/>\n",
       "<path clip-path=\"url(#clip240)\" d=\"M126.205 1358.1 Q122.593 1358.1 120.765 1361.67 Q118.959 1365.21 118.959 1372.34 Q118.959 1379.44 120.765 1383.01 Q122.593 1386.55 126.205 1386.55 Q129.839 1386.55 131.644 1383.01 Q133.473 1379.44 133.473 1372.34 Q133.473 1365.21 131.644 1361.67 Q129.839 1358.1 126.205 1358.1 M126.205 1354.4 Q132.015 1354.4 135.07 1359 Q138.149 1363.59 138.149 1372.34 Q138.149 1381.06 135.07 1385.67 Q132.015 1390.25 126.205 1390.25 Q120.394 1390.25 117.316 1385.67 Q114.26 1381.06 114.26 1372.34 Q114.26 1363.59 117.316 1359 Q120.394 1354.4 126.205 1354.4 Z\" fill=\"#000000\" fill-rule=\"evenodd\" fill-opacity=\"1\" /><path clip-path=\"url(#clip240)\" d=\"M146.366 1383.7 L151.251 1383.7 L151.251 1389.58 L146.366 1389.58 L146.366 1383.7 Z\" fill=\"#000000\" fill-rule=\"evenodd\" fill-opacity=\"1\" /><path clip-path=\"url(#clip240)\" d=\"M171.436 1358.1 Q167.825 1358.1 165.996 1361.67 Q164.19 1365.21 164.19 1372.34 Q164.19 1379.44 165.996 1383.01 Q167.825 1386.55 171.436 1386.55 Q175.07 1386.55 176.876 1383.01 Q178.704 1379.44 178.704 1372.34 Q178.704 1365.21 176.876 1361.67 Q175.07 1358.1 171.436 1358.1 M171.436 1354.4 Q177.246 1354.4 180.301 1359 Q183.38 1363.59 183.38 1372.34 Q183.38 1381.06 180.301 1385.67 Q177.246 1390.25 171.436 1390.25 Q165.626 1390.25 162.547 1385.67 Q159.491 1381.06 159.491 1372.34 Q159.491 1363.59 162.547 1359 Q165.626 1354.4 171.436 1354.4 Z\" fill=\"#000000\" fill-rule=\"evenodd\" fill-opacity=\"1\" /><path clip-path=\"url(#clip240)\" d=\"M201.598 1358.1 Q197.987 1358.1 196.158 1361.67 Q194.352 1365.21 194.352 1372.34 Q194.352 1379.44 196.158 1383.01 Q197.987 1386.55 201.598 1386.55 Q205.232 1386.55 207.037 1383.01 Q208.866 1379.44 208.866 1372.34 Q208.866 1365.21 207.037 1361.67 Q205.232 1358.1 201.598 1358.1 M201.598 1354.4 Q207.408 1354.4 210.463 1359 Q213.542 1363.59 213.542 1372.34 Q213.542 1381.06 210.463 1385.67 Q207.408 1390.25 201.598 1390.25 Q195.787 1390.25 192.709 1385.67 Q189.653 1381.06 189.653 1372.34 Q189.653 1363.59 192.709 1359 Q195.787 1354.4 201.598 1354.4 Z\" fill=\"#000000\" fill-rule=\"evenodd\" fill-opacity=\"1\" /><path clip-path=\"url(#clip240)\" d=\"M127.2 1036.49 Q123.589 1036.49 121.76 1040.05 Q119.955 1043.59 119.955 1050.72 Q119.955 1057.83 121.76 1061.39 Q123.589 1064.93 127.2 1064.93 Q130.834 1064.93 132.64 1061.39 Q134.468 1057.83 134.468 1050.72 Q134.468 1043.59 132.64 1040.05 Q130.834 1036.49 127.2 1036.49 M127.2 1032.78 Q133.01 1032.78 136.066 1037.39 Q139.144 1041.97 139.144 1050.72 Q139.144 1059.45 136.066 1064.05 Q133.01 1068.64 127.2 1068.64 Q121.39 1068.64 118.311 1064.05 Q115.256 1059.45 115.256 1050.72 Q115.256 1041.97 118.311 1037.39 Q121.39 1032.78 127.2 1032.78 Z\" fill=\"#000000\" fill-rule=\"evenodd\" fill-opacity=\"1\" /><path clip-path=\"url(#clip240)\" d=\"M147.362 1062.09 L152.246 1062.09 L152.246 1067.97 L147.362 1067.97 L147.362 1062.09 Z\" fill=\"#000000\" fill-rule=\"evenodd\" fill-opacity=\"1\" /><path clip-path=\"url(#clip240)\" d=\"M166.459 1064.03 L182.778 1064.03 L182.778 1067.97 L160.834 1067.97 L160.834 1064.03 Q163.496 1061.28 168.079 1056.65 Q172.686 1051.99 173.866 1050.65 Q176.112 1048.13 176.991 1046.39 Q177.894 1044.63 177.894 1042.94 Q177.894 1040.19 175.95 1038.45 Q174.028 1036.72 170.927 1036.72 Q168.727 1036.72 166.274 1037.48 Q163.843 1038.24 161.065 1039.8 L161.065 1035.07 Q163.89 1033.94 166.343 1033.36 Q168.797 1032.78 170.834 1032.78 Q176.204 1032.78 179.399 1035.47 Q182.593 1038.15 182.593 1042.64 Q182.593 1044.77 181.783 1046.69 Q180.996 1048.59 178.889 1051.18 Q178.311 1051.86 175.209 1055.07 Q172.107 1058.27 166.459 1064.03 Z\" fill=\"#000000\" fill-rule=\"evenodd\" fill-opacity=\"1\" /><path clip-path=\"url(#clip240)\" d=\"M192.639 1033.41 L210.996 1033.41 L210.996 1037.34 L196.922 1037.34 L196.922 1045.81 Q197.94 1045.47 198.959 1045.3 Q199.977 1045.12 200.996 1045.12 Q206.783 1045.12 210.162 1048.29 Q213.542 1051.46 213.542 1056.88 Q213.542 1062.46 210.07 1065.56 Q206.598 1068.64 200.278 1068.64 Q198.102 1068.64 195.834 1068.27 Q193.588 1067.9 191.181 1067.16 L191.181 1062.46 Q193.264 1063.59 195.487 1064.15 Q197.709 1064.7 200.186 1064.7 Q204.19 1064.7 206.528 1062.6 Q208.866 1060.49 208.866 1056.88 Q208.866 1053.27 206.528 1051.16 Q204.19 1049.05 200.186 1049.05 Q198.311 1049.05 196.436 1049.47 Q194.584 1049.89 192.639 1050.77 L192.639 1033.41 Z\" fill=\"#000000\" fill-rule=\"evenodd\" fill-opacity=\"1\" /><path clip-path=\"url(#clip240)\" d=\"M126.205 714.869 Q122.593 714.869 120.765 718.434 Q118.959 721.975 118.959 729.105 Q118.959 736.212 120.765 739.776 Q122.593 743.318 126.205 743.318 Q129.839 743.318 131.644 739.776 Q133.473 736.212 133.473 729.105 Q133.473 721.975 131.644 718.434 Q129.839 714.869 126.205 714.869 M126.205 711.165 Q132.015 711.165 135.07 715.772 Q138.149 720.355 138.149 729.105 Q138.149 737.832 135.07 742.438 Q132.015 747.022 126.205 747.022 Q120.394 747.022 117.316 742.438 Q114.26 737.832 114.26 729.105 Q114.26 720.355 117.316 715.772 Q120.394 711.165 126.205 711.165 Z\" fill=\"#000000\" fill-rule=\"evenodd\" fill-opacity=\"1\" /><path clip-path=\"url(#clip240)\" d=\"M146.366 740.471 L151.251 740.471 L151.251 746.35 L146.366 746.35 L146.366 740.471 Z\" fill=\"#000000\" fill-rule=\"evenodd\" fill-opacity=\"1\" /><path clip-path=\"url(#clip240)\" d=\"M161.482 711.79 L179.839 711.79 L179.839 715.726 L165.765 715.726 L165.765 724.198 Q166.783 723.85 167.802 723.688 Q168.82 723.503 169.839 723.503 Q175.626 723.503 179.005 726.675 Q182.385 729.846 182.385 735.262 Q182.385 740.841 178.913 743.943 Q175.44 747.022 169.121 747.022 Q166.945 747.022 164.677 746.651 Q162.431 746.281 160.024 745.54 L160.024 740.841 Q162.107 741.975 164.329 742.531 Q166.552 743.086 169.028 743.086 Q173.033 743.086 175.371 740.98 Q177.709 738.874 177.709 735.262 Q177.709 731.651 175.371 729.545 Q173.033 727.438 169.028 727.438 Q167.153 727.438 165.278 727.855 Q163.427 728.272 161.482 729.151 L161.482 711.79 Z\" fill=\"#000000\" fill-rule=\"evenodd\" fill-opacity=\"1\" /><path clip-path=\"url(#clip240)\" d=\"M201.598 714.869 Q197.987 714.869 196.158 718.434 Q194.352 721.975 194.352 729.105 Q194.352 736.212 196.158 739.776 Q197.987 743.318 201.598 743.318 Q205.232 743.318 207.037 739.776 Q208.866 736.212 208.866 729.105 Q208.866 721.975 207.037 718.434 Q205.232 714.869 201.598 714.869 M201.598 711.165 Q207.408 711.165 210.463 715.772 Q213.542 720.355 213.542 729.105 Q213.542 737.832 210.463 742.438 Q207.408 747.022 201.598 747.022 Q195.787 747.022 192.709 742.438 Q189.653 737.832 189.653 729.105 Q189.653 720.355 192.709 715.772 Q195.787 711.165 201.598 711.165 Z\" fill=\"#000000\" fill-rule=\"evenodd\" fill-opacity=\"1\" /><path clip-path=\"url(#clip240)\" d=\"M127.2 393.253 Q123.589 393.253 121.76 396.818 Q119.955 400.359 119.955 407.489 Q119.955 414.595 121.76 418.16 Q123.589 421.702 127.2 421.702 Q130.834 421.702 132.64 418.16 Q134.468 414.595 134.468 407.489 Q134.468 400.359 132.64 396.818 Q130.834 393.253 127.2 393.253 M127.2 389.549 Q133.01 389.549 136.066 394.156 Q139.144 398.739 139.144 407.489 Q139.144 416.216 136.066 420.822 Q133.01 425.405 127.2 425.405 Q121.39 425.405 118.311 420.822 Q115.256 416.216 115.256 407.489 Q115.256 398.739 118.311 394.156 Q121.39 389.549 127.2 389.549 Z\" fill=\"#000000\" fill-rule=\"evenodd\" fill-opacity=\"1\" /><path clip-path=\"url(#clip240)\" d=\"M147.362 418.855 L152.246 418.855 L152.246 424.734 L147.362 424.734 L147.362 418.855 Z\" fill=\"#000000\" fill-rule=\"evenodd\" fill-opacity=\"1\" /><path clip-path=\"url(#clip240)\" d=\"M161.251 390.174 L183.473 390.174 L183.473 392.165 L170.927 424.734 L166.042 424.734 L177.848 394.109 L161.251 394.109 L161.251 390.174 Z\" fill=\"#000000\" fill-rule=\"evenodd\" fill-opacity=\"1\" /><path clip-path=\"url(#clip240)\" d=\"M192.639 390.174 L210.996 390.174 L210.996 394.109 L196.922 394.109 L196.922 402.582 Q197.94 402.234 198.959 402.072 Q199.977 401.887 200.996 401.887 Q206.783 401.887 210.162 405.058 Q213.542 408.23 213.542 413.646 Q213.542 419.225 210.07 422.327 Q206.598 425.405 200.278 425.405 Q198.102 425.405 195.834 425.035 Q193.588 424.665 191.181 423.924 L191.181 419.225 Q193.264 420.359 195.487 420.915 Q197.709 421.47 200.186 421.47 Q204.19 421.47 206.528 419.364 Q208.866 417.257 208.866 413.646 Q208.866 410.035 206.528 407.929 Q204.19 405.822 200.186 405.822 Q198.311 405.822 196.436 406.239 Q194.584 406.656 192.639 407.535 L192.639 390.174 Z\" fill=\"#000000\" fill-rule=\"evenodd\" fill-opacity=\"1\" /><path clip-path=\"url(#clip240)\" d=\"M117.015 99.1829 L124.654 99.1829 L124.654 72.8173 L116.343 74.4839 L116.343 70.2247 L124.607 68.558 L129.283 68.558 L129.283 99.1829 L136.922 99.1829 L136.922 103.118 L117.015 103.118 L117.015 99.1829 Z\" fill=\"#000000\" fill-rule=\"evenodd\" fill-opacity=\"1\" /><path clip-path=\"url(#clip240)\" d=\"M146.366 97.2384 L151.251 97.2384 L151.251 103.118 L146.366 103.118 L146.366 97.2384 Z\" fill=\"#000000\" fill-rule=\"evenodd\" fill-opacity=\"1\" /><path clip-path=\"url(#clip240)\" d=\"M171.436 71.6367 Q167.825 71.6367 165.996 75.2015 Q164.19 78.7432 164.19 85.8728 Q164.19 92.9792 165.996 96.544 Q167.825 100.086 171.436 100.086 Q175.07 100.086 176.876 96.544 Q178.704 92.9792 178.704 85.8728 Q178.704 78.7432 176.876 75.2015 Q175.07 71.6367 171.436 71.6367 M171.436 67.933 Q177.246 67.933 180.301 72.5395 Q183.38 77.1228 183.38 85.8728 Q183.38 94.5996 180.301 99.206 Q177.246 103.789 171.436 103.789 Q165.626 103.789 162.547 99.206 Q159.491 94.5996 159.491 85.8728 Q159.491 77.1228 162.547 72.5395 Q165.626 67.933 171.436 67.933 Z\" fill=\"#000000\" fill-rule=\"evenodd\" fill-opacity=\"1\" /><path clip-path=\"url(#clip240)\" d=\"M201.598 71.6367 Q197.987 71.6367 196.158 75.2015 Q194.352 78.7432 194.352 85.8728 Q194.352 92.9792 196.158 96.544 Q197.987 100.086 201.598 100.086 Q205.232 100.086 207.037 96.544 Q208.866 92.9792 208.866 85.8728 Q208.866 78.7432 207.037 75.2015 Q205.232 71.6367 201.598 71.6367 M201.598 67.933 Q207.408 67.933 210.463 72.5395 Q213.542 77.1228 213.542 85.8728 Q213.542 94.5996 210.463 99.206 Q207.408 103.789 201.598 103.789 Q195.787 103.789 192.709 99.206 Q189.653 94.5996 189.653 85.8728 Q189.653 77.1228 192.709 72.5395 Q195.787 67.933 201.598 67.933 Z\" fill=\"#000000\" fill-rule=\"evenodd\" fill-opacity=\"1\" /><path clip-path=\"url(#clip240)\" d=\"M18.0438 910.891 L24.314 910.891 Q22.5634 914.551 21.704 917.798 Q20.8447 921.044 20.8447 924.068 Q20.8447 929.32 22.8817 932.184 Q24.9187 935.017 28.6745 935.017 Q31.8255 935.017 33.4488 933.139 Q35.0402 931.229 36.0269 925.946 L36.8226 922.063 Q38.1912 914.869 41.6605 911.464 Q45.098 908.026 50.8908 908.026 Q57.7976 908.026 61.3624 912.673 Q64.9272 917.288 64.9272 926.232 Q64.9272 929.606 64.1633 933.425 Q63.3994 937.213 61.9035 941.287 L55.2831 941.287 Q57.4793 937.372 58.5933 933.616 Q59.7073 929.861 59.7073 926.232 Q59.7073 920.726 57.543 917.734 Q55.3786 914.742 51.3682 914.742 Q47.8671 914.742 45.8937 916.906 Q43.9204 919.039 42.9337 923.941 L42.1698 927.855 Q40.7375 935.049 37.682 938.263 Q34.6264 941.478 29.1837 941.478 Q22.8817 941.478 19.2532 937.054 Q15.6248 932.598 15.6248 924.8 Q15.6248 921.458 16.2295 917.989 Q16.8343 914.519 18.0438 910.891 Z\" fill=\"#000000\" fill-rule=\"evenodd\" fill-opacity=\"1\" /><path clip-path=\"url(#clip240)\" d=\"M49.9359 898.86 L28.3562 898.86 L28.3562 893.003 L49.7131 893.003 Q54.7739 893.003 57.3202 891.03 Q59.8346 889.056 59.8346 885.11 Q59.8346 880.367 56.8109 877.63 Q53.7872 874.861 48.5673 874.861 L28.3562 874.861 L28.3562 869.005 L64.0042 869.005 L64.0042 874.861 L58.5296 874.861 Q61.7762 876.993 63.3676 879.826 Q64.9272 882.627 64.9272 886.351 Q64.9272 892.494 61.1078 895.677 Q57.2883 898.86 49.9359 898.86 M27.4968 884.123 L27.4968 884.123 Z\" fill=\"#000000\" fill-rule=\"evenodd\" fill-opacity=\"1\" /><path clip-path=\"url(#clip240)\" d=\"M29.7248 831.288 L35.1993 831.288 Q33.8307 833.77 33.1623 836.285 Q32.4621 838.767 32.4621 841.314 Q32.4621 847.011 36.0905 850.162 Q39.6872 853.313 46.212 853.313 Q52.7369 853.313 56.3653 850.162 Q59.9619 847.011 59.9619 841.314 Q59.9619 838.767 59.2935 836.285 Q58.5933 833.77 57.2247 831.288 L62.6355 831.288 Q63.7814 833.738 64.3543 836.38 Q64.9272 838.99 64.9272 841.95 Q64.9272 850.003 59.8664 854.745 Q54.8057 859.488 46.212 859.488 Q37.491 859.488 32.4939 854.714 Q27.4968 849.907 27.4968 841.568 Q27.4968 838.863 28.0697 836.285 Q28.6108 833.707 29.7248 831.288 Z\" fill=\"#000000\" fill-rule=\"evenodd\" fill-opacity=\"1\" /><path clip-path=\"url(#clip240)\" d=\"M29.7248 795.449 L35.1993 795.449 Q33.8307 797.931 33.1623 800.446 Q32.4621 802.928 32.4621 805.475 Q32.4621 811.172 36.0905 814.323 Q39.6872 817.474 46.212 817.474 Q52.7369 817.474 56.3653 814.323 Q59.9619 811.172 59.9619 805.475 Q59.9619 802.928 59.2935 800.446 Q58.5933 797.931 57.2247 795.449 L62.6355 795.449 Q63.7814 797.9 64.3543 800.541 Q64.9272 803.151 64.9272 806.111 Q64.9272 814.164 59.8664 818.906 Q54.8057 823.649 46.212 823.649 Q37.491 823.649 32.4939 818.875 Q27.4968 814.068 27.4968 805.729 Q27.4968 803.024 28.0697 800.446 Q28.6108 797.868 29.7248 795.449 Z\" fill=\"#000000\" fill-rule=\"evenodd\" fill-opacity=\"1\" /><path clip-path=\"url(#clip240)\" d=\"M44.7161 754.772 L47.5806 754.772 L47.5806 781.699 Q53.6281 781.317 56.8109 778.07 Q59.9619 774.792 59.9619 768.967 Q59.9619 765.594 59.1344 762.443 Q58.3069 759.26 56.6518 756.141 L62.1899 756.141 Q63.5267 759.292 64.227 762.602 Q64.9272 765.912 64.9272 769.318 Q64.9272 777.848 59.9619 782.845 Q54.9967 787.81 46.5303 787.81 Q37.7774 787.81 32.6531 783.099 Q27.4968 778.357 27.4968 770.336 Q27.4968 763.143 32.1438 758.973 Q36.7589 754.772 44.7161 754.772 M42.9973 760.628 Q38.1912 760.692 35.3266 763.334 Q32.4621 765.944 32.4621 770.272 Q32.4621 775.174 35.2312 778.134 Q38.0002 781.062 43.0292 781.508 L42.9973 760.628 Z\" fill=\"#000000\" fill-rule=\"evenodd\" fill-opacity=\"1\" /><path clip-path=\"url(#clip240)\" d=\"M29.4065 722.434 L34.9447 722.434 Q33.6716 724.917 33.035 727.59 Q32.3984 730.264 32.3984 733.129 Q32.3984 737.489 33.7352 739.685 Q35.072 741.85 37.7456 741.85 Q39.7826 741.85 40.9603 740.29 Q42.1061 738.73 43.1565 734.02 L43.6021 732.015 Q44.9389 725.776 47.3897 723.166 Q49.8086 720.524 54.1691 720.524 Q59.1344 720.524 62.0308 724.471 Q64.9272 728.386 64.9272 735.261 Q64.9272 738.126 64.3543 741.245 Q63.8132 744.332 62.6992 747.77 L56.6518 747.77 Q58.3387 744.523 59.198 741.372 Q60.0256 738.221 60.0256 735.134 Q60.0256 730.996 58.6251 728.768 Q57.1929 726.54 54.6147 726.54 Q52.2276 726.54 50.9545 728.163 Q49.6813 729.755 48.5037 735.197 L48.0262 737.234 Q46.8804 742.677 44.5251 745.096 Q42.138 747.515 38.0002 747.515 Q32.9713 747.515 30.2341 743.95 Q27.4968 740.385 27.4968 733.829 Q27.4968 730.582 27.9743 727.718 Q28.4517 724.853 29.4065 722.434 Z\" fill=\"#000000\" fill-rule=\"evenodd\" fill-opacity=\"1\" /><path clip-path=\"url(#clip240)\" d=\"M29.4065 688.473 L34.9447 688.473 Q33.6716 690.956 33.035 693.629 Q32.3984 696.303 32.3984 699.167 Q32.3984 703.528 33.7352 705.724 Q35.072 707.888 37.7456 707.888 Q39.7826 707.888 40.9603 706.329 Q42.1061 704.769 43.1565 700.059 L43.6021 698.053 Q44.9389 691.815 47.3897 689.205 Q49.8086 686.563 54.1691 686.563 Q59.1344 686.563 62.0308 690.51 Q64.9272 694.425 64.9272 701.3 Q64.9272 704.165 64.3543 707.284 Q63.8132 710.371 62.6992 713.809 L56.6518 713.809 Q58.3387 710.562 59.198 707.411 Q60.0256 704.26 60.0256 701.173 Q60.0256 697.035 58.6251 694.807 Q57.1929 692.579 54.6147 692.579 Q52.2276 692.579 50.9545 694.202 Q49.6813 695.794 48.5037 701.236 L48.0262 703.273 Q46.8804 708.716 44.5251 711.135 Q42.138 713.554 38.0002 713.554 Q32.9713 713.554 30.2341 709.989 Q27.4968 706.424 27.4968 699.868 Q27.4968 696.621 27.9743 693.757 Q28.4517 690.892 29.4065 688.473 Z\" fill=\"#000000\" fill-rule=\"evenodd\" fill-opacity=\"1\" /><path clip-path=\"url(#clip240)\" d=\"M41.7242 633.728 Q42.4244 631.659 44.7161 629.718 Q47.0077 627.744 51.0181 625.771 L64.0042 619.246 L64.0042 626.153 L51.8138 632.232 Q47.0395 634.587 45.48 636.815 Q43.9204 639.012 43.9204 642.831 L43.9204 649.833 L64.0042 649.833 L64.0042 656.263 L16.4842 656.263 L16.4842 641.749 Q16.4842 633.601 19.8898 629.59 Q23.2955 625.58 30.1704 625.58 Q34.6582 625.58 37.6183 627.681 Q40.5784 629.749 41.7242 633.728 M21.7677 649.833 L38.6368 649.833 L38.6368 641.749 Q38.6368 637.102 36.5043 634.747 Q34.34 632.359 30.1704 632.359 Q26.0009 632.359 23.9002 634.747 Q21.7677 637.102 21.7677 641.749 L21.7677 649.833 Z\" fill=\"#000000\" fill-rule=\"evenodd\" fill-opacity=\"1\" /><path clip-path=\"url(#clip240)\" d=\"M46.0847 596.457 Q46.0847 603.555 47.7079 606.292 Q49.3312 609.029 53.2461 609.029 Q56.3653 609.029 58.2114 606.992 Q60.0256 604.923 60.0256 601.39 Q60.0256 596.52 56.5881 593.592 Q53.1188 590.632 47.3897 590.632 L46.0847 590.632 L46.0847 596.457 M43.6657 584.776 L64.0042 584.776 L64.0042 590.632 L58.5933 590.632 Q61.8398 592.637 63.3994 595.629 Q64.9272 598.621 64.9272 602.95 Q64.9272 608.424 61.8716 611.671 Q58.7843 614.886 53.6281 614.886 Q47.6125 614.886 44.5569 610.875 Q41.5014 606.833 41.5014 598.844 L41.5014 590.632 L40.9285 590.632 Q36.8862 590.632 34.6901 593.306 Q32.4621 595.948 32.4621 600.754 Q32.4621 603.809 33.1941 606.706 Q33.9262 609.602 35.3903 612.276 L29.9795 612.276 Q28.7381 609.061 28.1334 606.037 Q27.4968 603.013 27.4968 600.149 Q27.4968 592.415 31.5072 588.595 Q35.5176 584.776 43.6657 584.776 Z\" fill=\"#000000\" fill-rule=\"evenodd\" fill-opacity=\"1\" /><path clip-path=\"url(#clip240)\" d=\"M18.2347 566.92 L28.3562 566.92 L28.3562 554.857 L32.9077 554.857 L32.9077 566.92 L52.2594 566.92 Q56.6199 566.92 57.8613 565.742 Q59.1026 564.533 59.1026 560.872 L59.1026 554.857 L64.0042 554.857 L64.0042 560.872 Q64.0042 567.652 61.4897 570.23 Q58.9434 572.808 52.2594 572.808 L32.9077 572.808 L32.9077 577.105 L28.3562 577.105 L28.3562 572.808 L18.2347 572.808 L18.2347 566.92 Z\" fill=\"#000000\" fill-rule=\"evenodd\" fill-opacity=\"1\" /><path clip-path=\"url(#clip240)\" d=\"M44.7161 516.663 L47.5806 516.663 L47.5806 543.59 Q53.6281 543.208 56.8109 539.961 Q59.9619 536.683 59.9619 530.858 Q59.9619 527.484 59.1344 524.333 Q58.3069 521.15 56.6518 518.031 L62.1899 518.031 Q63.5267 521.182 64.227 524.492 Q64.9272 527.803 64.9272 531.208 Q64.9272 539.738 59.9619 544.735 Q54.9967 549.701 46.5303 549.701 Q37.7774 549.701 32.6531 544.99 Q27.4968 540.248 27.4968 532.227 Q27.4968 525.034 32.1438 520.864 Q36.7589 516.663 44.7161 516.663 M42.9973 522.519 Q38.1912 522.583 35.3266 525.225 Q32.4621 527.834 32.4621 532.163 Q32.4621 537.065 35.2312 540.025 Q38.0002 542.953 43.0292 543.399 L42.9973 522.519 Z\" fill=\"#000000\" fill-rule=\"evenodd\" fill-opacity=\"1\" /><polyline clip-path=\"url(#clip242)\" style=\"stroke:#009af9; stroke-linecap:round; stroke-linejoin:round; stroke-width:4; stroke-opacity:1; fill:none\" points=\"\n",
       "  309.067,1372.3 314.04,1372.3 319.013,1372.3 323.985,1372.3 328.958,1372.3 333.931,1372.3 338.904,1372.3 343.877,1372.3 348.85,1372.3 353.823,1372.3 \n",
       "  358.795,1372.3 363.768,1372.3 368.741,1372.3 373.714,1372.3 378.687,1372.3 383.66,1372.3 388.632,1372.3 393.605,1372.3 398.578,1372.3 403.551,1372.3 \n",
       "  408.524,1372.3 413.497,1372.3 418.469,1372.3 423.442,1372.3 428.415,1372.3 433.388,1372.3 438.361,1372.3 443.334,1372.3 448.307,1372.3 453.279,1372.3 \n",
       "  458.252,1372.3 463.225,1372.3 468.198,1372.3 473.171,1372.3 478.144,1372.3 483.116,1372.3 488.089,1372.3 493.062,1372.3 498.035,1372.3 503.008,1372.3 \n",
       "  507.981,1372.3 512.953,1372.3 517.926,1372.3 522.899,1372.3 527.872,1372.3 532.845,1372.3 537.818,1372.3 542.791,1372.3 547.763,1372.3 552.736,1372.3 \n",
       "  557.709,1372.3 562.682,1372.3 567.655,1372.3 572.628,1372.3 577.6,1372.3 582.573,1372.3 587.546,1372.3 592.519,1372.3 597.492,1372.3 602.465,1372.3 \n",
       "  607.437,1372.3 612.41,1372.3 617.383,1372.3 622.356,1372.3 627.329,1372.3 632.302,1372.3 637.275,1372.3 642.247,1372.3 647.22,1372.3 652.193,1372.3 \n",
       "  657.166,1372.3 662.139,1372.3 667.112,1372.3 672.084,1372.3 677.057,1372.3 682.03,1372.3 687.003,1372.3 691.976,1372.3 696.949,1372.3 701.921,1372.3 \n",
       "  706.894,1372.3 711.867,1372.3 716.84,1372.3 721.813,1372.3 726.786,1372.3 731.759,1372.3 736.731,1372.3 741.704,1372.3 746.677,1372.3 751.65,1372.3 \n",
       "  756.623,1372.3 761.596,1372.3 766.568,1372.3 771.541,1372.3 776.514,1372.3 781.487,1372.3 786.46,1365.87 791.433,1372.3 796.405,1372.3 801.378,1372.3 \n",
       "  806.351,1372.3 811.324,1372.3 816.297,1372.3 821.27,1372.3 826.243,1372.3 831.215,1359.44 836.188,1359.44 841.161,1372.3 846.134,1359.44 851.107,1365.87 \n",
       "  856.08,1301.55 861.052,1301.55 866.025,1288.68 870.998,1295.11 875.971,1243.66 880.944,1205.06 885.917,1153.6 890.889,1089.28 895.862,1044.25 900.835,947.769 \n",
       "  905.808,992.796 910.781,864.149 915.754,889.878 920.727,780.529 925.699,735.503 930.672,581.127 935.645,548.965 940.618,542.533 945.591,484.642 950.564,452.48 \n",
       "  955.536,381.725 960.509,310.969 965.482,375.293 970.455,355.996 975.428,317.402 980.401,285.24 985.373,265.943 990.346,265.943 995.319,208.052 1000.29,169.458 \n",
       "  1005.26,143.729 1010.24,118 1015.21,111.567 1020.18,124.432 1025.16,118 1030.13,111.567 1035.1,111.567 1040.07,105.135 1045.05,143.729 1050.02,111.567 \n",
       "  1054.99,105.135 1059.97,92.2704 1064.94,118 1069.91,105.135 1074.88,111.567 1079.86,98.7027 1084.83,98.7027 1089.8,111.567 1094.78,92.2704 1099.75,98.7027 \n",
       "  1104.72,85.838 1109.69,111.567 1114.67,85.838 1119.64,85.838 1124.61,85.838 1129.59,85.838 1134.56,92.2704 1139.53,85.838 1144.5,92.2704 1149.48,85.838 \n",
       "  1154.45,85.838 1159.42,85.838 1164.4,85.838 1169.37,92.2704 1174.34,85.838 1179.31,85.838 1184.29,85.838 1189.26,85.838 1194.23,92.2704 1199.21,85.838 \n",
       "  1204.18,85.838 1209.15,92.2704 1214.12,85.838 1219.1,85.838 1224.07,85.838 1229.04,85.838 1234.02,85.838 1238.99,85.838 1243.96,85.838 1248.93,92.2704 \n",
       "  1253.91,92.2704 1258.88,85.838 1263.85,92.2704 1268.83,92.2704 1273.8,85.838 1278.77,98.7027 1283.74,85.838 1288.72,85.838 1293.69,92.2704 1298.66,85.838 \n",
       "  1303.64,85.838 1308.61,92.2704 1313.58,85.838 1318.55,85.838 1323.53,85.838 1328.5,85.838 1333.47,85.838 1338.45,92.2704 1343.42,98.7027 1348.39,85.838 \n",
       "  1353.36,85.838 1358.34,85.838 1363.31,85.838 1368.28,85.838 1373.26,85.838 1378.23,85.838 1383.2,85.838 1388.17,85.838 1393.15,85.838 1398.12,92.2704 \n",
       "  1403.09,85.838 1408.07,85.838 1413.04,85.838 1418.01,85.838 1422.98,85.838 1427.96,92.2704 1432.93,85.838 1437.9,92.2704 1442.87,85.838 1447.85,85.838 \n",
       "  1452.82,92.2704 1457.79,85.838 1462.77,85.838 1467.74,85.838 1472.71,92.2704 1477.68,92.2704 1482.66,92.2704 1487.63,92.2704 1492.6,85.838 1497.58,85.838 \n",
       "  1502.55,92.2704 1507.52,92.2704 1512.49,92.2704 1517.47,92.2704 1522.44,98.7027 1527.41,85.838 1532.39,85.838 1537.36,85.838 1542.33,85.838 1547.3,85.838 \n",
       "  1552.28,85.838 1557.25,85.838 1562.22,85.838 1567.2,85.838 1572.17,85.838 1577.14,92.2704 1582.11,85.838 1587.09,85.838 1592.06,92.2704 1597.03,92.2704 \n",
       "  1602.01,85.838 1606.98,98.7027 1611.95,92.2704 1616.92,85.838 1621.9,98.7027 1626.87,92.2704 1631.84,92.2704 1636.82,85.838 1641.79,85.838 1646.76,85.838 \n",
       "  1651.73,85.838 1656.71,92.2704 1661.68,85.838 1666.65,92.2704 1671.63,105.135 1676.6,92.2704 1681.57,92.2704 1686.54,92.2704 1691.52,105.135 1696.49,85.838 \n",
       "  1701.46,111.567 1706.44,92.2704 1711.41,92.2704 1716.38,85.838 1721.35,92.2704 1726.33,85.838 1731.3,85.838 1736.27,85.838 1741.25,92.2704 1746.22,85.838 \n",
       "  1751.19,85.838 1756.16,85.838 1761.14,85.838 1766.11,85.838 1771.08,85.838 1776.06,92.2704 1781.03,85.838 1786,85.838 1790.97,85.838 1795.95,85.838 \n",
       "  1800.92,85.838 1805.89,98.7027 1810.87,98.7027 1815.84,85.838 1820.81,92.2704 1825.78,85.838 1830.76,85.838 1835.73,85.838 1840.7,85.838 1845.68,85.838 \n",
       "  1850.65,85.838 1855.62,85.838 1860.59,92.2704 1865.57,85.838 1870.54,85.838 1875.51,85.838 1880.49,92.2704 1885.46,85.838 1890.43,92.2704 1895.4,85.838 \n",
       "  1900.38,85.838 1905.35,85.838 1910.32,85.838 1915.29,92.2704 1920.27,92.2704 1925.24,92.2704 1930.21,85.838 1935.19,92.2704 1940.16,85.838 1945.13,85.838 \n",
       "  1950.1,92.2704 1955.08,85.838 1960.05,85.838 1965.02,85.838 1970,85.838 1974.97,85.838 1979.94,85.838 1984.91,85.838 1989.89,85.838 1994.86,85.838 \n",
       "  1999.83,85.838 2004.81,85.838 2009.78,85.838 2014.75,85.838 2019.72,85.838 2024.7,85.838 2029.67,85.838 2034.64,85.838 2039.62,98.7027 2044.59,92.2704 \n",
       "  2049.56,85.838 2054.53,85.838 2059.51,92.2704 2064.48,85.838 2069.45,85.838 2074.43,85.838 2079.4,92.2704 2084.37,85.838 2089.34,85.838 2094.32,85.838 \n",
       "  2099.29,98.7027 2104.26,85.838 2109.24,92.2704 2114.21,85.838 2119.18,85.838 2124.15,85.838 2129.13,92.2704 2134.1,98.7027 2139.07,92.2704 2144.05,85.838 \n",
       "  2149.02,85.838 2153.99,85.838 2158.96,85.838 2163.94,92.2704 2168.91,85.838 2173.88,85.838 2178.86,85.838 2183.83,85.838 2188.8,85.838 2193.77,92.2704 \n",
       "  2198.75,85.838 2203.72,85.838 2208.69,85.838 2213.67,85.838 2218.64,85.838 2223.61,92.2704 2228.58,92.2704 2233.56,92.2704 2238.53,98.7027 2243.5,85.838 \n",
       "  2248.48,85.838 2253.45,92.2704 2258.42,85.838 2263.39,85.838 2268.37,85.838 2273.34,85.838 2278.31,92.2704 2283.29,85.838 2288.26,85.838 2293.23,98.7027 \n",
       "  \n",
       "  \"/>\n",
       "</svg>\n"
      ]
     },
     "execution_count": 44,
     "metadata": {},
     "output_type": "execute_result"
    }
   ],
   "source": [
    "plot(iterations, success_rate, xlabel=\"Iterations\", ylabel=\"Success Rate\", legend = false, xformatter = :scientific)"
   ]
  },
  {
   "cell_type": "code",
   "execution_count": 45,
   "id": "4e57d828",
   "metadata": {},
   "outputs": [
    {
     "data": {
      "text/plain": [
       "\"/home/larissa/Documents/Projects/ADLR/ADLR_project/src/RL_PPO_quadcopter_3D/plots/slow/success_rate.svg\""
      ]
     },
     "execution_count": 45,
     "metadata": {},
     "output_type": "execute_result"
    }
   ],
   "source": [
    "savefig(fig_path * \"success_rate.svg\")"
   ]
  },
  {
   "cell_type": "code",
   "execution_count": 46,
   "id": "480d67d7",
   "metadata": {
    "scrolled": false
   },
   "outputs": [
    {
     "data": {
      "image/svg+xml": [
       "<?xml version=\"1.0\" encoding=\"utf-8\"?>\n",
       "<svg xmlns=\"http://www.w3.org/2000/svg\" xmlns:xlink=\"http://www.w3.org/1999/xlink\" width=\"600\" height=\"400\" viewBox=\"0 0 2400 1600\">\n",
       "<defs>\n",
       "  <clipPath id=\"clip320\">\n",
       "    <rect x=\"0\" y=\"0\" width=\"2400\" height=\"1600\"/>\n",
       "  </clipPath>\n",
       "</defs>\n",
       "<path clip-path=\"url(#clip320)\" d=\"\n",
       "M0 1600 L2400 1600 L2400 0 L0 0  Z\n",
       "  \" fill=\"#ffffff\" fill-rule=\"evenodd\" fill-opacity=\"1\"/>\n",
       "<defs>\n",
       "  <clipPath id=\"clip321\">\n",
       "    <rect x=\"480\" y=\"0\" width=\"1681\" height=\"1600\"/>\n",
       "  </clipPath>\n",
       "</defs>\n",
       "<path clip-path=\"url(#clip320)\" d=\"\n",
       "M219.033 1410.9 L2352.76 1410.9 L2352.76 47.2441 L219.033 47.2441  Z\n",
       "  \" fill=\"#ffffff\" fill-rule=\"evenodd\" fill-opacity=\"1\"/>\n",
       "<defs>\n",
       "  <clipPath id=\"clip322\">\n",
       "    <rect x=\"219\" y=\"47\" width=\"2135\" height=\"1365\"/>\n",
       "  </clipPath>\n",
       "</defs>\n",
       "<polyline clip-path=\"url(#clip322)\" style=\"stroke:#000000; stroke-linecap:round; stroke-linejoin:round; stroke-width:2; stroke-opacity:0.1; fill:none\" points=\"\n",
       "  274.376,1410.9 274.376,47.2441 \n",
       "  \"/>\n",
       "<polyline clip-path=\"url(#clip322)\" style=\"stroke:#000000; stroke-linecap:round; stroke-linejoin:round; stroke-width:2; stroke-opacity:0.1; fill:none\" points=\"\n",
       "  778.874,1410.9 778.874,47.2441 \n",
       "  \"/>\n",
       "<polyline clip-path=\"url(#clip322)\" style=\"stroke:#000000; stroke-linecap:round; stroke-linejoin:round; stroke-width:2; stroke-opacity:0.1; fill:none\" points=\"\n",
       "  1283.37,1410.9 1283.37,47.2441 \n",
       "  \"/>\n",
       "<polyline clip-path=\"url(#clip322)\" style=\"stroke:#000000; stroke-linecap:round; stroke-linejoin:round; stroke-width:2; stroke-opacity:0.1; fill:none\" points=\"\n",
       "  1787.87,1410.9 1787.87,47.2441 \n",
       "  \"/>\n",
       "<polyline clip-path=\"url(#clip322)\" style=\"stroke:#000000; stroke-linecap:round; stroke-linejoin:round; stroke-width:2; stroke-opacity:0.1; fill:none\" points=\"\n",
       "  2292.37,1410.9 2292.37,47.2441 \n",
       "  \"/>\n",
       "<polyline clip-path=\"url(#clip320)\" style=\"stroke:#000000; stroke-linecap:round; stroke-linejoin:round; stroke-width:4; stroke-opacity:1; fill:none\" points=\"\n",
       "  219.033,1410.9 2352.76,1410.9 \n",
       "  \"/>\n",
       "<polyline clip-path=\"url(#clip320)\" style=\"stroke:#000000; stroke-linecap:round; stroke-linejoin:round; stroke-width:4; stroke-opacity:1; fill:none\" points=\"\n",
       "  274.376,1410.9 274.376,1392 \n",
       "  \"/>\n",
       "<polyline clip-path=\"url(#clip320)\" style=\"stroke:#000000; stroke-linecap:round; stroke-linejoin:round; stroke-width:4; stroke-opacity:1; fill:none\" points=\"\n",
       "  778.874,1410.9 778.874,1392 \n",
       "  \"/>\n",
       "<polyline clip-path=\"url(#clip320)\" style=\"stroke:#000000; stroke-linecap:round; stroke-linejoin:round; stroke-width:4; stroke-opacity:1; fill:none\" points=\"\n",
       "  1283.37,1410.9 1283.37,1392 \n",
       "  \"/>\n",
       "<polyline clip-path=\"url(#clip320)\" style=\"stroke:#000000; stroke-linecap:round; stroke-linejoin:round; stroke-width:4; stroke-opacity:1; fill:none\" points=\"\n",
       "  1787.87,1410.9 1787.87,1392 \n",
       "  \"/>\n",
       "<polyline clip-path=\"url(#clip320)\" style=\"stroke:#000000; stroke-linecap:round; stroke-linejoin:round; stroke-width:4; stroke-opacity:1; fill:none\" points=\"\n",
       "  2292.37,1410.9 2292.37,1392 \n",
       "  \"/>\n",
       "<path clip-path=\"url(#clip320)\" d=\"M274.376 1441.82 Q270.765 1441.82 268.937 1445.38 Q267.131 1448.92 267.131 1456.05 Q267.131 1463.16 268.937 1466.72 Q270.765 1470.26 274.376 1470.26 Q278.011 1470.26 279.816 1466.72 Q281.645 1463.16 281.645 1456.05 Q281.645 1448.92 279.816 1445.38 Q278.011 1441.82 274.376 1441.82 M274.376 1438.11 Q280.186 1438.11 283.242 1442.72 Q286.321 1447.3 286.321 1456.05 Q286.321 1464.78 283.242 1469.38 Q280.186 1473.97 274.376 1473.97 Q268.566 1473.97 265.488 1469.38 Q262.432 1464.78 262.432 1456.05 Q262.432 1447.3 265.488 1442.72 Q268.566 1438.11 274.376 1438.11 Z\" fill=\"#000000\" fill-rule=\"evenodd\" fill-opacity=\"1\" /><path clip-path=\"url(#clip320)\" d=\"M686.976 1485.02 L694.615 1485.02 L694.615 1458.66 L686.305 1460.32 L686.305 1456.06 L694.569 1454.4 L699.245 1454.4 L699.245 1485.02 L706.884 1485.02 L706.884 1488.96 L686.976 1488.96 L686.976 1485.02 Z\" fill=\"#000000\" fill-rule=\"evenodd\" fill-opacity=\"1\" /><path clip-path=\"url(#clip320)\" d=\"M716.328 1483.08 L721.212 1483.08 L721.212 1488.96 L716.328 1488.96 L716.328 1483.08 Z\" fill=\"#000000\" fill-rule=\"evenodd\" fill-opacity=\"1\" /><path clip-path=\"url(#clip320)\" d=\"M741.397 1457.48 Q737.786 1457.48 735.958 1461.04 Q734.152 1464.58 734.152 1471.71 Q734.152 1478.82 735.958 1482.38 Q737.786 1485.92 741.397 1485.92 Q745.032 1485.92 746.837 1482.38 Q748.666 1478.82 748.666 1471.71 Q748.666 1464.58 746.837 1461.04 Q745.032 1457.48 741.397 1457.48 M741.397 1453.77 Q747.208 1453.77 750.263 1458.38 Q753.342 1462.96 753.342 1471.71 Q753.342 1480.44 750.263 1485.04 Q747.208 1489.63 741.397 1489.63 Q735.587 1489.63 732.509 1485.04 Q729.453 1480.44 729.453 1471.71 Q729.453 1462.96 732.509 1458.38 Q735.587 1453.77 741.397 1453.77 Z\" fill=\"#000000\" fill-rule=\"evenodd\" fill-opacity=\"1\" /><path clip-path=\"url(#clip320)\" d=\"M789.731 1463.49 L779.152 1474.12 L789.731 1484.7 L786.976 1487.5 L776.351 1476.87 L765.726 1487.5 L762.995 1484.7 L773.55 1474.12 L762.995 1463.49 L765.726 1460.69 L776.351 1471.32 L786.976 1460.69 L789.731 1463.49 Z\" fill=\"#000000\" fill-rule=\"evenodd\" fill-opacity=\"1\" /><path clip-path=\"url(#clip320)\" d=\"M802.092 1485.02 L809.73 1485.02 L809.73 1458.66 L801.42 1460.32 L801.42 1456.06 L809.684 1454.4 L814.36 1454.4 L814.36 1485.02 L821.999 1485.02 L821.999 1488.96 L802.092 1488.96 L802.092 1485.02 Z\" fill=\"#000000\" fill-rule=\"evenodd\" fill-opacity=\"1\" /><path clip-path=\"url(#clip320)\" d=\"M841.443 1457.48 Q837.832 1457.48 836.003 1461.04 Q834.198 1464.58 834.198 1471.71 Q834.198 1478.82 836.003 1482.38 Q837.832 1485.92 841.443 1485.92 Q845.077 1485.92 846.883 1482.38 Q848.712 1478.82 848.712 1471.71 Q848.712 1464.58 846.883 1461.04 Q845.077 1457.48 841.443 1457.48 M841.443 1453.77 Q847.253 1453.77 850.309 1458.38 Q853.388 1462.96 853.388 1471.71 Q853.388 1480.44 850.309 1485.04 Q847.253 1489.63 841.443 1489.63 Q835.633 1489.63 832.554 1485.04 Q829.499 1480.44 829.499 1471.71 Q829.499 1462.96 832.554 1458.38 Q835.633 1453.77 841.443 1453.77 Z\" fill=\"#000000\" fill-rule=\"evenodd\" fill-opacity=\"1\" /><path clip-path=\"url(#clip320)\" d=\"M853.388 1433.47 L871.443 1433.47 L871.443 1435.08 L861.249 1461.55 L857.281 1461.55 L866.873 1436.66 L853.388 1436.66 L853.388 1433.47 Z\" fill=\"#000000\" fill-rule=\"evenodd\" fill-opacity=\"1\" /><path clip-path=\"url(#clip320)\" d=\"M1195.56 1485.02 L1211.88 1485.02 L1211.88 1488.96 L1189.93 1488.96 L1189.93 1485.02 Q1192.6 1482.27 1197.18 1477.64 Q1201.79 1472.98 1202.97 1471.64 Q1205.21 1469.12 1206.09 1467.38 Q1207 1465.62 1207 1463.93 Q1207 1461.18 1205.05 1459.44 Q1203.13 1457.71 1200.03 1457.71 Q1197.83 1457.71 1195.37 1458.47 Q1192.94 1459.23 1190.17 1460.79 L1190.17 1456.06 Q1192.99 1454.93 1195.44 1454.35 Q1197.9 1453.77 1199.93 1453.77 Q1205.31 1453.77 1208.5 1456.46 Q1211.69 1459.14 1211.69 1463.63 Q1211.69 1465.76 1210.88 1467.68 Q1210.1 1469.58 1207.99 1472.17 Q1207.41 1472.85 1204.31 1476.06 Q1201.21 1479.26 1195.56 1485.02 Z\" fill=\"#000000\" fill-rule=\"evenodd\" fill-opacity=\"1\" /><path clip-path=\"url(#clip320)\" d=\"M1221.69 1483.08 L1226.58 1483.08 L1226.58 1488.96 L1221.69 1488.96 L1221.69 1483.08 Z\" fill=\"#000000\" fill-rule=\"evenodd\" fill-opacity=\"1\" /><path clip-path=\"url(#clip320)\" d=\"M1246.76 1457.48 Q1243.15 1457.48 1241.32 1461.04 Q1239.52 1464.58 1239.52 1471.71 Q1239.52 1478.82 1241.32 1482.38 Q1243.15 1485.92 1246.76 1485.92 Q1250.4 1485.92 1252.2 1482.38 Q1254.03 1478.82 1254.03 1471.71 Q1254.03 1464.58 1252.2 1461.04 Q1250.4 1457.48 1246.76 1457.48 M1246.76 1453.77 Q1252.57 1453.77 1255.63 1458.38 Q1258.71 1462.96 1258.71 1471.71 Q1258.71 1480.44 1255.63 1485.04 Q1252.57 1489.63 1246.76 1489.63 Q1240.95 1489.63 1237.87 1485.04 Q1234.82 1480.44 1234.82 1471.71 Q1234.82 1462.96 1237.87 1458.38 Q1240.95 1453.77 1246.76 1453.77 Z\" fill=\"#000000\" fill-rule=\"evenodd\" fill-opacity=\"1\" /><path clip-path=\"url(#clip320)\" d=\"M1295.1 1463.49 L1284.52 1474.12 L1295.1 1484.7 L1292.34 1487.5 L1281.72 1476.87 L1271.09 1487.5 L1268.36 1484.7 L1278.92 1474.12 L1268.36 1463.49 L1271.09 1460.69 L1281.72 1471.32 L1292.34 1460.69 L1295.1 1463.49 Z\" fill=\"#000000\" fill-rule=\"evenodd\" fill-opacity=\"1\" /><path clip-path=\"url(#clip320)\" d=\"M1307.46 1485.02 L1315.1 1485.02 L1315.1 1458.66 L1306.79 1460.32 L1306.79 1456.06 L1315.05 1454.4 L1319.73 1454.4 L1319.73 1485.02 L1327.36 1485.02 L1327.36 1488.96 L1307.46 1488.96 L1307.46 1485.02 Z\" fill=\"#000000\" fill-rule=\"evenodd\" fill-opacity=\"1\" /><path clip-path=\"url(#clip320)\" d=\"M1346.81 1457.48 Q1343.2 1457.48 1341.37 1461.04 Q1339.56 1464.58 1339.56 1471.71 Q1339.56 1478.82 1341.37 1482.38 Q1343.2 1485.92 1346.81 1485.92 Q1350.44 1485.92 1352.25 1482.38 Q1354.08 1478.82 1354.08 1471.71 Q1354.08 1464.58 1352.25 1461.04 Q1350.44 1457.48 1346.81 1457.48 M1346.81 1453.77 Q1352.62 1453.77 1355.67 1458.38 Q1358.75 1462.96 1358.75 1471.71 Q1358.75 1480.44 1355.67 1485.04 Q1352.62 1489.63 1346.81 1489.63 Q1341 1489.63 1337.92 1485.04 Q1334.86 1480.44 1334.86 1471.71 Q1334.86 1462.96 1337.92 1458.38 Q1341 1453.77 1346.81 1453.77 Z\" fill=\"#000000\" fill-rule=\"evenodd\" fill-opacity=\"1\" /><path clip-path=\"url(#clip320)\" d=\"M1358.75 1433.47 L1376.81 1433.47 L1376.81 1435.08 L1366.62 1461.55 L1362.65 1461.55 L1372.24 1436.66 L1358.75 1436.66 L1358.75 1433.47 Z\" fill=\"#000000\" fill-rule=\"evenodd\" fill-opacity=\"1\" /><path clip-path=\"url(#clip320)\" d=\"M1710.13 1470.32 Q1713.48 1471.04 1715.36 1473.31 Q1717.26 1475.58 1717.26 1478.91 Q1717.26 1484.03 1713.74 1486.83 Q1710.22 1489.63 1703.74 1489.63 Q1701.56 1489.63 1699.25 1489.19 Q1696.96 1488.77 1694.5 1487.91 L1694.5 1483.4 Q1696.45 1484.54 1698.76 1485.11 Q1701.08 1485.69 1703.6 1485.69 Q1708 1485.69 1710.29 1483.96 Q1712.6 1482.22 1712.6 1478.91 Q1712.6 1475.85 1710.45 1474.14 Q1708.32 1472.41 1704.5 1472.41 L1700.47 1472.41 L1700.47 1468.56 L1704.69 1468.56 Q1708.14 1468.56 1709.97 1467.2 Q1711.79 1465.81 1711.79 1463.22 Q1711.79 1460.55 1709.9 1459.14 Q1708.02 1457.71 1704.5 1457.71 Q1702.58 1457.71 1700.38 1458.12 Q1698.18 1458.54 1695.54 1459.42 L1695.54 1455.25 Q1698.21 1454.51 1700.52 1454.14 Q1702.86 1453.77 1704.92 1453.77 Q1710.24 1453.77 1713.34 1456.2 Q1716.45 1458.61 1716.45 1462.73 Q1716.45 1465.6 1714.8 1467.59 Q1713.16 1469.56 1710.13 1470.32 Z\" fill=\"#000000\" fill-rule=\"evenodd\" fill-opacity=\"1\" /><path clip-path=\"url(#clip320)\" d=\"M1726.12 1483.08 L1731.01 1483.08 L1731.01 1488.96 L1726.12 1488.96 L1726.12 1483.08 Z\" fill=\"#000000\" fill-rule=\"evenodd\" fill-opacity=\"1\" /><path clip-path=\"url(#clip320)\" d=\"M1751.19 1457.48 Q1747.58 1457.48 1745.75 1461.04 Q1743.95 1464.58 1743.95 1471.71 Q1743.95 1478.82 1745.75 1482.38 Q1747.58 1485.92 1751.19 1485.92 Q1754.83 1485.92 1756.63 1482.38 Q1758.46 1478.82 1758.46 1471.71 Q1758.46 1464.58 1756.63 1461.04 Q1754.83 1457.48 1751.19 1457.48 M1751.19 1453.77 Q1757 1453.77 1760.06 1458.38 Q1763.14 1462.96 1763.14 1471.71 Q1763.14 1480.44 1760.06 1485.04 Q1757 1489.63 1751.19 1489.63 Q1745.38 1489.63 1742.3 1485.04 Q1739.25 1480.44 1739.25 1471.71 Q1739.25 1462.96 1742.3 1458.38 Q1745.38 1453.77 1751.19 1453.77 Z\" fill=\"#000000\" fill-rule=\"evenodd\" fill-opacity=\"1\" /><path clip-path=\"url(#clip320)\" d=\"M1799.52 1463.49 L1788.95 1474.12 L1799.52 1484.7 L1796.77 1487.5 L1786.15 1476.87 L1775.52 1487.5 L1772.79 1484.7 L1783.34 1474.12 L1772.79 1463.49 L1775.52 1460.69 L1786.15 1471.32 L1796.77 1460.69 L1799.52 1463.49 Z\" fill=\"#000000\" fill-rule=\"evenodd\" fill-opacity=\"1\" /><path clip-path=\"url(#clip320)\" d=\"M1811.89 1485.02 L1819.52 1485.02 L1819.52 1458.66 L1811.21 1460.32 L1811.21 1456.06 L1819.48 1454.4 L1824.15 1454.4 L1824.15 1485.02 L1831.79 1485.02 L1831.79 1488.96 L1811.89 1488.96 L1811.89 1485.02 Z\" fill=\"#000000\" fill-rule=\"evenodd\" fill-opacity=\"1\" /><path clip-path=\"url(#clip320)\" d=\"M1851.24 1457.48 Q1847.63 1457.48 1845.8 1461.04 Q1843.99 1464.58 1843.99 1471.71 Q1843.99 1478.82 1845.8 1482.38 Q1847.63 1485.92 1851.24 1485.92 Q1854.87 1485.92 1856.68 1482.38 Q1858.51 1478.82 1858.51 1471.71 Q1858.51 1464.58 1856.68 1461.04 Q1854.87 1457.48 1851.24 1457.48 M1851.24 1453.77 Q1857.05 1453.77 1860.1 1458.38 Q1863.18 1462.96 1863.18 1471.71 Q1863.18 1480.44 1860.1 1485.04 Q1857.05 1489.63 1851.24 1489.63 Q1845.43 1489.63 1842.35 1485.04 Q1839.29 1480.44 1839.29 1471.71 Q1839.29 1462.96 1842.35 1458.38 Q1845.43 1453.77 1851.24 1453.77 Z\" fill=\"#000000\" fill-rule=\"evenodd\" fill-opacity=\"1\" /><path clip-path=\"url(#clip320)\" d=\"M1863.18 1433.47 L1881.24 1433.47 L1881.24 1435.08 L1871.04 1461.55 L1867.08 1461.55 L1876.67 1436.66 L1863.18 1436.66 L1863.18 1433.47 Z\" fill=\"#000000\" fill-rule=\"evenodd\" fill-opacity=\"1\" /><path clip-path=\"url(#clip320)\" d=\"M2213.95 1458.47 L2202.15 1476.92 L2213.95 1476.92 L2213.95 1458.47 M2212.73 1454.4 L2218.61 1454.4 L2218.61 1476.92 L2223.54 1476.92 L2223.54 1480.81 L2218.61 1480.81 L2218.61 1488.96 L2213.95 1488.96 L2213.95 1480.81 L2198.35 1480.81 L2198.35 1476.29 L2212.73 1454.4 Z\" fill=\"#000000\" fill-rule=\"evenodd\" fill-opacity=\"1\" /><path clip-path=\"url(#clip320)\" d=\"M2231.27 1483.08 L2236.15 1483.08 L2236.15 1488.96 L2231.27 1488.96 L2231.27 1483.08 Z\" fill=\"#000000\" fill-rule=\"evenodd\" fill-opacity=\"1\" /><path clip-path=\"url(#clip320)\" d=\"M2256.34 1457.48 Q2252.73 1457.48 2250.9 1461.04 Q2249.09 1464.58 2249.09 1471.71 Q2249.09 1478.82 2250.9 1482.38 Q2252.73 1485.92 2256.34 1485.92 Q2259.97 1485.92 2261.78 1482.38 Q2263.61 1478.82 2263.61 1471.71 Q2263.61 1464.58 2261.78 1461.04 Q2259.97 1457.48 2256.34 1457.48 M2256.34 1453.77 Q2262.15 1453.77 2265.2 1458.38 Q2268.28 1462.96 2268.28 1471.71 Q2268.28 1480.44 2265.2 1485.04 Q2262.15 1489.63 2256.34 1489.63 Q2250.53 1489.63 2247.45 1485.04 Q2244.39 1480.44 2244.39 1471.71 Q2244.39 1462.96 2247.45 1458.38 Q2250.53 1453.77 2256.34 1453.77 Z\" fill=\"#000000\" fill-rule=\"evenodd\" fill-opacity=\"1\" /><path clip-path=\"url(#clip320)\" d=\"M2304.67 1463.49 L2294.09 1474.12 L2304.67 1484.7 L2301.92 1487.5 L2291.29 1476.87 L2280.67 1487.5 L2277.93 1484.7 L2288.49 1474.12 L2277.93 1463.49 L2280.67 1460.69 L2291.29 1471.32 L2301.92 1460.69 L2304.67 1463.49 Z\" fill=\"#000000\" fill-rule=\"evenodd\" fill-opacity=\"1\" /><path clip-path=\"url(#clip320)\" d=\"M2317.03 1485.02 L2324.67 1485.02 L2324.67 1458.66 L2316.36 1460.32 L2316.36 1456.06 L2324.62 1454.4 L2329.3 1454.4 L2329.3 1485.02 L2336.94 1485.02 L2336.94 1488.96 L2317.03 1488.96 L2317.03 1485.02 Z\" fill=\"#000000\" fill-rule=\"evenodd\" fill-opacity=\"1\" /><path clip-path=\"url(#clip320)\" d=\"M2356.38 1457.48 Q2352.77 1457.48 2350.94 1461.04 Q2349.14 1464.58 2349.14 1471.71 Q2349.14 1478.82 2350.94 1482.38 Q2352.77 1485.92 2356.38 1485.92 Q2360.02 1485.92 2361.82 1482.38 Q2363.65 1478.82 2363.65 1471.71 Q2363.65 1464.58 2361.82 1461.04 Q2360.02 1457.48 2356.38 1457.48 M2356.38 1453.77 Q2362.19 1453.77 2365.25 1458.38 Q2368.33 1462.96 2368.33 1471.71 Q2368.33 1480.44 2365.25 1485.04 Q2362.19 1489.63 2356.38 1489.63 Q2350.57 1489.63 2347.49 1485.04 Q2344.44 1480.44 2344.44 1471.71 Q2344.44 1462.96 2347.49 1458.38 Q2350.57 1453.77 2356.38 1453.77 Z\" fill=\"#000000\" fill-rule=\"evenodd\" fill-opacity=\"1\" /><path clip-path=\"url(#clip320)\" d=\"M2368.33 1433.47 L2386.38 1433.47 L2386.38 1435.08 L2376.19 1461.55 L2372.22 1461.55 L2381.81 1436.66 L2368.33 1436.66 L2368.33 1433.47 Z\" fill=\"#000000\" fill-rule=\"evenodd\" fill-opacity=\"1\" /><path clip-path=\"url(#clip320)\" d=\"M1135.46 1526.67 L1141.89 1526.67 L1141.89 1574.19 L1135.46 1574.19 L1135.46 1526.67 Z\" fill=\"#000000\" fill-rule=\"evenodd\" fill-opacity=\"1\" /><path clip-path=\"url(#clip320)\" d=\"M1160.22 1528.42 L1160.22 1538.54 L1172.28 1538.54 L1172.28 1543.09 L1160.22 1543.09 L1160.22 1562.44 Q1160.22 1566.8 1161.4 1568.04 Q1162.61 1569.28 1166.27 1569.28 L1172.28 1569.28 L1172.28 1574.19 L1166.27 1574.19 Q1159.49 1574.19 1156.91 1571.67 Q1154.33 1569.12 1154.33 1562.44 L1154.33 1543.09 L1150.03 1543.09 L1150.03 1538.54 L1154.33 1538.54 L1154.33 1528.42 L1160.22 1528.42 Z\" fill=\"#000000\" fill-rule=\"evenodd\" fill-opacity=\"1\" /><path clip-path=\"url(#clip320)\" d=\"M1210.48 1554.9 L1210.48 1557.76 L1183.55 1557.76 Q1183.93 1563.81 1187.18 1566.99 Q1190.46 1570.14 1196.28 1570.14 Q1199.66 1570.14 1202.81 1569.32 Q1205.99 1568.49 1209.11 1566.83 L1209.11 1572.37 Q1205.96 1573.71 1202.65 1574.41 Q1199.34 1575.11 1195.93 1575.11 Q1187.4 1575.11 1182.4 1570.14 Q1177.44 1565.18 1177.44 1556.71 Q1177.44 1547.96 1182.15 1542.83 Q1186.89 1537.68 1194.91 1537.68 Q1202.11 1537.68 1206.28 1542.33 Q1210.48 1546.94 1210.48 1554.9 M1204.62 1553.18 Q1204.56 1548.37 1201.91 1545.51 Q1199.3 1542.64 1194.98 1542.64 Q1190.07 1542.64 1187.11 1545.41 Q1184.19 1548.18 1183.74 1553.21 L1204.62 1553.18 Z\" fill=\"#000000\" fill-rule=\"evenodd\" fill-opacity=\"1\" /><path clip-path=\"url(#clip320)\" d=\"M1240.75 1544.01 Q1239.76 1543.44 1238.58 1543.18 Q1237.44 1542.9 1236.04 1542.9 Q1231.07 1542.9 1228.4 1546.14 Q1225.75 1549.36 1225.75 1555.41 L1225.75 1574.19 L1219.87 1574.19 L1219.87 1538.54 L1225.75 1538.54 L1225.75 1544.08 Q1227.6 1540.83 1230.56 1539.27 Q1233.52 1537.68 1237.75 1537.68 Q1238.36 1537.68 1239.09 1537.77 Q1239.82 1537.84 1240.71 1538 L1240.75 1544.01 Z\" fill=\"#000000\" fill-rule=\"evenodd\" fill-opacity=\"1\" /><path clip-path=\"url(#clip320)\" d=\"M1263.09 1556.27 Q1255.99 1556.27 1253.25 1557.89 Q1250.52 1559.51 1250.52 1563.43 Q1250.52 1566.55 1252.55 1568.39 Q1254.62 1570.21 1258.16 1570.21 Q1263.03 1570.21 1265.95 1566.77 Q1268.91 1563.3 1268.91 1557.57 L1268.91 1556.27 L1263.09 1556.27 M1274.77 1553.85 L1274.77 1574.19 L1268.91 1574.19 L1268.91 1568.77 Q1266.91 1572.02 1263.92 1573.58 Q1260.92 1575.11 1256.6 1575.11 Q1251.12 1575.11 1247.88 1572.05 Q1244.66 1568.97 1244.66 1563.81 Q1244.66 1557.79 1248.67 1554.74 Q1252.71 1551.68 1260.7 1551.68 L1268.91 1551.68 L1268.91 1551.11 Q1268.91 1547.07 1266.24 1544.87 Q1263.6 1542.64 1258.79 1542.64 Q1255.74 1542.64 1252.84 1543.38 Q1249.94 1544.11 1247.27 1545.57 L1247.27 1540.16 Q1250.49 1538.92 1253.51 1538.31 Q1256.53 1537.68 1259.4 1537.68 Q1267.13 1537.68 1270.95 1541.69 Q1274.77 1545.7 1274.77 1553.85 Z\" fill=\"#000000\" fill-rule=\"evenodd\" fill-opacity=\"1\" /><path clip-path=\"url(#clip320)\" d=\"M1292.63 1528.42 L1292.63 1538.54 L1304.69 1538.54 L1304.69 1543.09 L1292.63 1543.09 L1292.63 1562.44 Q1292.63 1566.8 1293.8 1568.04 Q1295.01 1569.28 1298.67 1569.28 L1304.69 1569.28 L1304.69 1574.19 L1298.67 1574.19 Q1291.89 1574.19 1289.32 1571.67 Q1286.74 1569.12 1286.74 1562.44 L1286.74 1543.09 L1282.44 1543.09 L1282.44 1538.54 L1286.74 1538.54 L1286.74 1528.42 L1292.63 1528.42 Z\" fill=\"#000000\" fill-rule=\"evenodd\" fill-opacity=\"1\" /><path clip-path=\"url(#clip320)\" d=\"M1312.39 1538.54 L1318.25 1538.54 L1318.25 1574.19 L1312.39 1574.19 L1312.39 1538.54 M1312.39 1524.66 L1318.25 1524.66 L1318.25 1532.08 L1312.39 1532.08 L1312.39 1524.66 Z\" fill=\"#000000\" fill-rule=\"evenodd\" fill-opacity=\"1\" /><path clip-path=\"url(#clip320)\" d=\"M1344.32 1542.64 Q1339.61 1542.64 1336.87 1546.34 Q1334.13 1550 1334.13 1556.39 Q1334.13 1562.79 1336.84 1566.48 Q1339.57 1570.14 1344.32 1570.14 Q1348.99 1570.14 1351.73 1566.45 Q1354.47 1562.76 1354.47 1556.39 Q1354.47 1550.06 1351.73 1546.37 Q1348.99 1542.64 1344.32 1542.64 M1344.32 1537.68 Q1351.95 1537.68 1356.32 1542.64 Q1360.68 1547.61 1360.68 1556.39 Q1360.68 1565.15 1356.32 1570.14 Q1351.95 1575.11 1344.32 1575.11 Q1336.65 1575.11 1332.28 1570.14 Q1327.96 1565.15 1327.96 1556.39 Q1327.96 1547.61 1332.28 1542.64 Q1336.65 1537.68 1344.32 1537.68 Z\" fill=\"#000000\" fill-rule=\"evenodd\" fill-opacity=\"1\" /><path clip-path=\"url(#clip320)\" d=\"M1400.02 1552.67 L1400.02 1574.19 L1394.16 1574.19 L1394.16 1552.86 Q1394.16 1547.8 1392.19 1545.29 Q1390.21 1542.77 1386.27 1542.77 Q1381.52 1542.77 1378.79 1545.79 Q1376.05 1548.82 1376.05 1554.04 L1376.05 1574.19 L1370.16 1574.19 L1370.16 1538.54 L1376.05 1538.54 L1376.05 1544.08 Q1378.15 1540.86 1380.98 1539.27 Q1383.85 1537.68 1387.57 1537.68 Q1393.71 1537.68 1396.86 1541.5 Q1400.02 1545.29 1400.02 1552.67 Z\" fill=\"#000000\" fill-rule=\"evenodd\" fill-opacity=\"1\" /><path clip-path=\"url(#clip320)\" d=\"M1434.42 1539.59 L1434.42 1545.13 Q1431.94 1543.85 1429.27 1543.22 Q1426.59 1542.58 1423.73 1542.58 Q1419.37 1542.58 1417.17 1543.92 Q1415.01 1545.25 1415.01 1547.93 Q1415.01 1549.96 1416.57 1551.14 Q1418.13 1552.29 1422.84 1553.34 L1424.84 1553.78 Q1431.08 1555.12 1433.69 1557.57 Q1436.33 1559.99 1436.33 1564.35 Q1436.33 1569.32 1432.39 1572.21 Q1428.47 1575.11 1421.6 1575.11 Q1418.73 1575.11 1415.61 1574.54 Q1412.52 1573.99 1409.09 1572.88 L1409.09 1566.83 Q1412.33 1568.52 1415.48 1569.38 Q1418.64 1570.21 1421.72 1570.21 Q1425.86 1570.21 1428.09 1568.81 Q1430.32 1567.37 1430.32 1564.8 Q1430.32 1562.41 1428.69 1561.14 Q1427.1 1559.86 1421.66 1558.68 L1419.62 1558.21 Q1414.18 1557.06 1411.76 1554.71 Q1409.34 1552.32 1409.34 1548.18 Q1409.34 1543.15 1412.91 1540.42 Q1416.47 1537.68 1423.03 1537.68 Q1426.27 1537.68 1429.14 1538.16 Q1432 1538.63 1434.42 1539.59 Z\" fill=\"#000000\" fill-rule=\"evenodd\" fill-opacity=\"1\" /><polyline clip-path=\"url(#clip322)\" style=\"stroke:#000000; stroke-linecap:round; stroke-linejoin:round; stroke-width:2; stroke-opacity:0.1; fill:none\" points=\"\n",
       "  219.033,1308.38 2352.76,1308.38 \n",
       "  \"/>\n",
       "<polyline clip-path=\"url(#clip322)\" style=\"stroke:#000000; stroke-linecap:round; stroke-linejoin:round; stroke-width:2; stroke-opacity:0.1; fill:none\" points=\"\n",
       "  219.033,963.641 2352.76,963.641 \n",
       "  \"/>\n",
       "<polyline clip-path=\"url(#clip322)\" style=\"stroke:#000000; stroke-linecap:round; stroke-linejoin:round; stroke-width:2; stroke-opacity:0.1; fill:none\" points=\"\n",
       "  219.033,618.903 2352.76,618.903 \n",
       "  \"/>\n",
       "<polyline clip-path=\"url(#clip322)\" style=\"stroke:#000000; stroke-linecap:round; stroke-linejoin:round; stroke-width:2; stroke-opacity:0.1; fill:none\" points=\"\n",
       "  219.033,274.165 2352.76,274.165 \n",
       "  \"/>\n",
       "<polyline clip-path=\"url(#clip320)\" style=\"stroke:#000000; stroke-linecap:round; stroke-linejoin:round; stroke-width:4; stroke-opacity:1; fill:none\" points=\"\n",
       "  219.033,1410.9 219.033,47.2441 \n",
       "  \"/>\n",
       "<polyline clip-path=\"url(#clip320)\" style=\"stroke:#000000; stroke-linecap:round; stroke-linejoin:round; stroke-width:4; stroke-opacity:1; fill:none\" points=\"\n",
       "  219.033,1308.38 237.931,1308.38 \n",
       "  \"/>\n",
       "<polyline clip-path=\"url(#clip320)\" style=\"stroke:#000000; stroke-linecap:round; stroke-linejoin:round; stroke-width:4; stroke-opacity:1; fill:none\" points=\"\n",
       "  219.033,963.641 237.931,963.641 \n",
       "  \"/>\n",
       "<polyline clip-path=\"url(#clip320)\" style=\"stroke:#000000; stroke-linecap:round; stroke-linejoin:round; stroke-width:4; stroke-opacity:1; fill:none\" points=\"\n",
       "  219.033,618.903 237.931,618.903 \n",
       "  \"/>\n",
       "<polyline clip-path=\"url(#clip320)\" style=\"stroke:#000000; stroke-linecap:round; stroke-linejoin:round; stroke-width:4; stroke-opacity:1; fill:none\" points=\"\n",
       "  219.033,274.165 237.931,274.165 \n",
       "  \"/>\n",
       "<path clip-path=\"url(#clip320)\" d=\"M116.668 1321.72 L124.306 1321.72 L124.306 1295.36 L115.996 1297.02 L115.996 1292.77 L124.26 1291.1 L128.936 1291.1 L128.936 1321.72 L136.575 1321.72 L136.575 1325.66 L116.668 1325.66 L116.668 1321.72 Z\" fill=\"#000000\" fill-rule=\"evenodd\" fill-opacity=\"1\" /><path clip-path=\"url(#clip320)\" d=\"M146.019 1319.78 L150.903 1319.78 L150.903 1325.66 L146.019 1325.66 L146.019 1319.78 Z\" fill=\"#000000\" fill-rule=\"evenodd\" fill-opacity=\"1\" /><path clip-path=\"url(#clip320)\" d=\"M171.089 1294.18 Q167.477 1294.18 165.649 1297.74 Q163.843 1301.28 163.843 1308.41 Q163.843 1315.52 165.649 1319.08 Q167.477 1322.63 171.089 1322.63 Q174.723 1322.63 176.528 1319.08 Q178.357 1315.52 178.357 1308.41 Q178.357 1301.28 176.528 1297.74 Q174.723 1294.18 171.089 1294.18 M171.089 1290.47 Q176.899 1290.47 179.954 1295.08 Q183.033 1299.66 183.033 1308.41 Q183.033 1317.14 179.954 1321.75 Q176.899 1326.33 171.089 1326.33 Q165.278 1326.33 162.2 1321.75 Q159.144 1317.14 159.144 1308.41 Q159.144 1299.66 162.2 1295.08 Q165.278 1290.47 171.089 1290.47 Z\" fill=\"#000000\" fill-rule=\"evenodd\" fill-opacity=\"1\" /><path clip-path=\"url(#clip320)\" d=\"M117.663 976.986 L125.302 976.986 L125.302 950.62 L116.992 952.287 L116.992 948.027 L125.255 946.361 L129.931 946.361 L129.931 976.986 L137.57 976.986 L137.57 980.921 L117.663 980.921 L117.663 976.986 Z\" fill=\"#000000\" fill-rule=\"evenodd\" fill-opacity=\"1\" /><path clip-path=\"url(#clip320)\" d=\"M147.015 975.041 L151.899 975.041 L151.899 980.921 L147.015 980.921 L147.015 975.041 Z\" fill=\"#000000\" fill-rule=\"evenodd\" fill-opacity=\"1\" /><path clip-path=\"url(#clip320)\" d=\"M162.13 946.361 L180.487 946.361 L180.487 950.296 L166.413 950.296 L166.413 958.768 Q167.431 958.421 168.45 958.259 Q169.468 958.074 170.487 958.074 Q176.274 958.074 179.653 961.245 Q183.033 964.416 183.033 969.833 Q183.033 975.411 179.561 978.513 Q176.089 981.592 169.769 981.592 Q167.593 981.592 165.325 981.222 Q163.079 980.851 160.672 980.111 L160.672 975.411 Q162.755 976.546 164.977 977.101 Q167.2 977.657 169.677 977.657 Q173.681 977.657 176.019 975.55 Q178.357 973.444 178.357 969.833 Q178.357 966.222 176.019 964.115 Q173.681 962.009 169.677 962.009 Q167.802 962.009 165.927 962.425 Q164.075 962.842 162.13 963.722 L162.13 946.361 Z\" fill=\"#000000\" fill-rule=\"evenodd\" fill-opacity=\"1\" /><path clip-path=\"url(#clip320)\" d=\"M119.885 632.248 L136.204 632.248 L136.204 636.183 L114.26 636.183 L114.26 632.248 Q116.922 629.493 121.505 624.864 Q126.112 620.211 127.292 618.868 Q129.538 616.345 130.417 614.609 Q131.32 612.85 131.32 611.16 Q131.32 608.405 129.376 606.669 Q127.455 604.933 124.353 604.933 Q122.154 604.933 119.7 605.697 Q117.269 606.461 114.492 608.012 L114.492 603.29 Q117.316 602.155 119.769 601.577 Q122.223 600.998 124.26 600.998 Q129.63 600.998 132.825 603.683 Q136.019 606.368 136.019 610.859 Q136.019 612.989 135.209 614.91 Q134.422 616.808 132.316 619.401 Q131.737 620.072 128.635 623.29 Q125.533 626.484 119.885 632.248 Z\" fill=\"#000000\" fill-rule=\"evenodd\" fill-opacity=\"1\" /><path clip-path=\"url(#clip320)\" d=\"M146.019 630.303 L150.903 630.303 L150.903 636.183 L146.019 636.183 L146.019 630.303 Z\" fill=\"#000000\" fill-rule=\"evenodd\" fill-opacity=\"1\" /><path clip-path=\"url(#clip320)\" d=\"M171.089 604.702 Q167.477 604.702 165.649 608.267 Q163.843 611.808 163.843 618.938 Q163.843 626.044 165.649 629.609 Q167.477 633.151 171.089 633.151 Q174.723 633.151 176.528 629.609 Q178.357 626.044 178.357 618.938 Q178.357 611.808 176.528 608.267 Q174.723 604.702 171.089 604.702 M171.089 600.998 Q176.899 600.998 179.954 605.605 Q183.033 610.188 183.033 618.938 Q183.033 627.665 179.954 632.271 Q176.899 636.854 171.089 636.854 Q165.278 636.854 162.2 632.271 Q159.144 627.665 159.144 618.938 Q159.144 610.188 162.2 605.605 Q165.278 600.998 171.089 600.998 Z\" fill=\"#000000\" fill-rule=\"evenodd\" fill-opacity=\"1\" /><path clip-path=\"url(#clip320)\" d=\"M120.88 287.51 L137.2 287.51 L137.2 291.445 L115.256 291.445 L115.256 287.51 Q117.918 284.756 122.501 280.126 Q127.107 275.473 128.288 274.131 Q130.533 271.608 131.413 269.871 Q132.316 268.112 132.316 266.422 Q132.316 263.668 130.371 261.932 Q128.45 260.196 125.348 260.196 Q123.149 260.196 120.695 260.959 Q118.265 261.723 115.487 263.274 L115.487 258.552 Q118.311 257.418 120.765 256.839 Q123.218 256.26 125.255 256.26 Q130.626 256.26 133.82 258.946 Q137.015 261.631 137.015 266.121 Q137.015 268.251 136.204 270.172 Q135.417 272.07 133.311 274.663 Q132.732 275.334 129.63 278.552 Q126.529 281.746 120.88 287.51 Z\" fill=\"#000000\" fill-rule=\"evenodd\" fill-opacity=\"1\" /><path clip-path=\"url(#clip320)\" d=\"M147.015 285.566 L151.899 285.566 L151.899 291.445 L147.015 291.445 L147.015 285.566 Z\" fill=\"#000000\" fill-rule=\"evenodd\" fill-opacity=\"1\" /><path clip-path=\"url(#clip320)\" d=\"M162.13 256.885 L180.487 256.885 L180.487 260.821 L166.413 260.821 L166.413 269.293 Q167.431 268.946 168.45 268.783 Q169.468 268.598 170.487 268.598 Q176.274 268.598 179.653 271.77 Q183.033 274.941 183.033 280.357 Q183.033 285.936 179.561 289.038 Q176.089 292.117 169.769 292.117 Q167.593 292.117 165.325 291.746 Q163.079 291.376 160.672 290.635 L160.672 285.936 Q162.755 287.07 164.977 287.626 Q167.2 288.182 169.677 288.182 Q173.681 288.182 176.019 286.075 Q178.357 283.969 178.357 280.357 Q178.357 276.746 176.019 274.64 Q173.681 272.533 169.677 272.533 Q167.802 272.533 165.927 272.95 Q164.075 273.367 162.13 274.246 L162.13 256.885 Z\" fill=\"#000000\" fill-rule=\"evenodd\" fill-opacity=\"1\" /><path clip-path=\"url(#clip320)\" d=\"M22.818 978.129 L46.4666 986.85 L46.4666 969.376 L22.818 978.129 M16.4842 981.757 L16.4842 974.468 L64.0042 956.358 L64.0042 963.042 L51.8138 967.371 L51.8138 988.791 L64.0042 993.12 L64.0042 999.899 L16.4842 981.757 Z\" fill=\"#000000\" fill-rule=\"evenodd\" fill-opacity=\"1\" /><path clip-path=\"url(#clip320)\" d=\"M28.3562 957.695 L28.3562 951.488 L58.275 940.348 L28.3562 929.208 L28.3562 923.002 L64.0042 936.37 L64.0042 944.327 L28.3562 957.695 Z\" fill=\"#000000\" fill-rule=\"evenodd\" fill-opacity=\"1\" /><path clip-path=\"url(#clip320)\" d=\"M44.7161 884.425 L47.5806 884.425 L47.5806 911.352 Q53.6281 910.97 56.8109 907.724 Q59.9619 904.446 59.9619 898.621 Q59.9619 895.247 59.1344 892.096 Q58.3069 888.913 56.6518 885.794 L62.1899 885.794 Q63.5267 888.945 64.227 892.255 Q64.9272 895.565 64.9272 898.971 Q64.9272 907.501 59.9619 912.498 Q54.9967 917.463 46.5303 917.463 Q37.7774 917.463 32.6531 912.753 Q27.4968 908.01 27.4968 899.99 Q27.4968 892.796 32.1438 888.627 Q36.7589 884.425 44.7161 884.425 M42.9973 890.282 Q38.1912 890.346 35.3266 892.987 Q32.4621 895.597 32.4621 899.926 Q32.4621 904.828 35.2312 907.788 Q38.0002 910.716 43.0292 911.161 L42.9973 890.282 Z\" fill=\"#000000\" fill-rule=\"evenodd\" fill-opacity=\"1\" /><path clip-path=\"url(#clip320)\" d=\"M33.8307 854.157 Q33.2578 855.143 33.0032 856.321 Q32.7167 857.467 32.7167 858.867 Q32.7167 863.832 35.9632 866.506 Q39.1779 869.148 45.2253 869.148 L64.0042 869.148 L64.0042 875.036 L28.3562 875.036 L28.3562 869.148 L33.8944 869.148 Q30.6479 867.302 29.0883 864.342 Q27.4968 861.382 27.4968 857.148 Q27.4968 856.544 27.5923 855.812 Q27.656 855.08 27.8151 854.188 L33.8307 854.157 Z\" fill=\"#000000\" fill-rule=\"evenodd\" fill-opacity=\"1\" /><path clip-path=\"url(#clip320)\" d=\"M46.0847 831.813 Q46.0847 838.911 47.7079 841.648 Q49.3312 844.385 53.2461 844.385 Q56.3653 844.385 58.2114 842.348 Q60.0256 840.279 60.0256 836.746 Q60.0256 831.877 56.5881 828.948 Q53.1188 825.988 47.3897 825.988 L46.0847 825.988 L46.0847 831.813 M43.6657 820.132 L64.0042 820.132 L64.0042 825.988 L58.5933 825.988 Q61.8398 827.993 63.3994 830.985 Q64.9272 833.977 64.9272 838.306 Q64.9272 843.78 61.8716 847.027 Q58.7843 850.242 53.6281 850.242 Q47.6125 850.242 44.5569 846.231 Q41.5014 842.189 41.5014 834.2 L41.5014 825.988 L40.9285 825.988 Q36.8862 825.988 34.6901 828.662 Q32.4621 831.304 32.4621 836.11 Q32.4621 839.165 33.1941 842.062 Q33.9262 844.958 35.3903 847.632 L29.9795 847.632 Q28.7381 844.417 28.1334 841.393 Q27.4968 838.37 27.4968 835.505 Q27.4968 827.771 31.5072 823.951 Q35.5176 820.132 43.6657 820.132 Z\" fill=\"#000000\" fill-rule=\"evenodd\" fill-opacity=\"1\" /><path clip-path=\"url(#clip320)\" d=\"M45.7664 784.611 Q39.4007 784.611 35.8996 787.253 Q32.3984 789.863 32.3984 794.605 Q32.3984 799.316 35.8996 801.958 Q39.4007 804.568 45.7664 804.568 Q52.1003 804.568 55.6014 801.958 Q59.1026 799.316 59.1026 794.605 Q59.1026 789.863 55.6014 787.253 Q52.1003 784.611 45.7664 784.611 M59.58 778.755 Q68.683 778.755 73.1071 782.797 Q77.5631 786.839 77.5631 795.178 Q77.5631 798.266 77.0857 801.003 Q76.6401 803.74 75.6852 806.318 L69.9879 806.318 Q71.3884 803.74 72.0568 801.226 Q72.7252 798.711 72.7252 796.101 Q72.7252 790.34 69.7015 787.476 Q66.7096 784.611 60.6303 784.611 L57.7339 784.611 Q60.885 786.425 62.4446 789.258 Q64.0042 792.091 64.0042 796.038 Q64.0042 802.594 59.0071 806.605 Q54.01 810.615 45.7664 810.615 Q37.491 810.615 32.4939 806.605 Q27.4968 802.594 27.4968 796.038 Q27.4968 792.091 29.0564 789.258 Q30.616 786.425 33.7671 784.611 L28.3562 784.611 L28.3562 778.755 L59.58 778.755 Z\" fill=\"#000000\" fill-rule=\"evenodd\" fill-opacity=\"1\" /><path clip-path=\"url(#clip320)\" d=\"M44.7161 736.2 L47.5806 736.2 L47.5806 763.127 Q53.6281 762.745 56.8109 759.498 Q59.9619 756.22 59.9619 750.395 Q59.9619 747.022 59.1344 743.871 Q58.3069 740.688 56.6518 737.569 L62.1899 737.569 Q63.5267 740.72 64.227 744.03 Q64.9272 747.34 64.9272 750.746 Q64.9272 759.276 59.9619 764.273 Q54.9967 769.238 46.5303 769.238 Q37.7774 769.238 32.6531 764.527 Q27.4968 759.785 27.4968 751.764 Q27.4968 744.571 32.1438 740.401 Q36.7589 736.2 44.7161 736.2 M42.9973 742.056 Q38.1912 742.12 35.3266 744.762 Q32.4621 747.372 32.4621 751.7 Q32.4621 756.602 35.2312 759.562 Q38.0002 762.49 43.0292 762.936 L42.9973 742.056 Z\" fill=\"#000000\" fill-rule=\"evenodd\" fill-opacity=\"1\" /><path clip-path=\"url(#clip320)\" d=\"M64.0042 693.359 L16.4842 711.501 L16.4842 704.785 L56.4926 689.73 L16.4842 674.644 L16.4842 667.96 L64.0042 686.07 L64.0042 693.359 Z\" fill=\"#000000\" fill-rule=\"evenodd\" fill-opacity=\"1\" /><path clip-path=\"url(#clip320)\" d=\"M44.7161 635.845 L47.5806 635.845 L47.5806 662.772 Q53.6281 662.39 56.8109 659.143 Q59.9619 655.865 59.9619 650.04 Q59.9619 646.666 59.1344 643.515 Q58.3069 640.332 56.6518 637.213 L62.1899 637.213 Q63.5267 640.364 64.227 643.674 Q64.9272 646.985 64.9272 650.39 Q64.9272 658.92 59.9619 663.917 Q54.9967 668.883 46.5303 668.883 Q37.7774 668.883 32.6531 664.172 Q27.4968 659.43 27.4968 651.409 Q27.4968 644.215 32.1438 640.046 Q36.7589 635.845 44.7161 635.845 M42.9973 641.701 Q38.1912 641.765 35.3266 644.406 Q32.4621 647.016 32.4621 651.345 Q32.4621 656.247 35.2312 659.207 Q38.0002 662.135 43.0292 662.581 L42.9973 641.701 Z\" fill=\"#000000\" fill-rule=\"evenodd\" fill-opacity=\"1\" /><path clip-path=\"url(#clip320)\" d=\"M14.479 626.232 L14.479 620.376 L64.0042 620.376 L64.0042 626.232 L14.479 626.232 Z\" fill=\"#000000\" fill-rule=\"evenodd\" fill-opacity=\"1\" /><path clip-path=\"url(#clip320)\" d=\"M32.4621 594.308 Q32.4621 599.019 36.1542 601.756 Q39.8145 604.493 46.212 604.493 Q52.6095 604.493 56.3017 601.788 Q59.9619 599.051 59.9619 594.308 Q59.9619 589.63 56.2698 586.892 Q52.5777 584.155 46.212 584.155 Q39.8781 584.155 36.186 586.892 Q32.4621 589.63 32.4621 594.308 M27.4968 594.308 Q27.4968 586.67 32.4621 582.309 Q37.4273 577.948 46.212 577.948 Q54.9649 577.948 59.9619 582.309 Q64.9272 586.67 64.9272 594.308 Q64.9272 601.979 59.9619 606.34 Q54.9649 610.668 46.212 610.668 Q37.4273 610.668 32.4621 606.34 Q27.4968 601.979 27.4968 594.308 Z\" fill=\"#000000\" fill-rule=\"evenodd\" fill-opacity=\"1\" /><path clip-path=\"url(#clip320)\" d=\"M29.7248 542.587 L35.1993 542.587 Q33.8307 545.07 33.1623 547.584 Q32.4621 550.067 32.4621 552.613 Q32.4621 558.31 36.0905 561.461 Q39.6872 564.612 46.212 564.612 Q52.7369 564.612 56.3653 561.461 Q59.9619 558.31 59.9619 552.613 Q59.9619 550.067 59.2935 547.584 Q58.5933 545.07 57.2247 542.587 L62.6355 542.587 Q63.7814 545.038 64.3543 547.68 Q64.9272 550.289 64.9272 553.25 Q64.9272 561.302 59.8664 566.045 Q54.8057 570.787 46.212 570.787 Q37.491 570.787 32.4939 566.013 Q27.4968 561.207 27.4968 552.868 Q27.4968 550.162 28.0697 547.584 Q28.6108 545.006 29.7248 542.587 Z\" fill=\"#000000\" fill-rule=\"evenodd\" fill-opacity=\"1\" /><path clip-path=\"url(#clip320)\" d=\"M28.3562 532.402 L28.3562 526.545 L64.0042 526.545 L64.0042 532.402 L28.3562 532.402 M14.479 532.402 L14.479 526.545 L21.895 526.545 L21.895 532.402 L14.479 532.402 Z\" fill=\"#000000\" fill-rule=\"evenodd\" fill-opacity=\"1\" /><path clip-path=\"url(#clip320)\" d=\"M18.2347 508.499 L28.3562 508.499 L28.3562 496.436 L32.9077 496.436 L32.9077 508.499 L52.2594 508.499 Q56.6199 508.499 57.8613 507.321 Q59.1026 506.111 59.1026 502.451 L59.1026 496.436 L64.0042 496.436 L64.0042 502.451 Q64.0042 509.231 61.4897 511.809 Q58.9434 514.387 52.2594 514.387 L32.9077 514.387 L32.9077 518.684 L28.3562 518.684 L28.3562 514.387 L18.2347 514.387 L18.2347 508.499 Z\" fill=\"#000000\" fill-rule=\"evenodd\" fill-opacity=\"1\" /><path clip-path=\"url(#clip320)\" d=\"M67.3143 473.901 Q73.68 476.384 75.6216 478.739 Q77.5631 481.094 77.5631 485.041 L77.5631 489.72 L72.6615 489.72 L72.6615 486.282 Q72.6615 483.863 71.5157 482.527 Q70.3699 481.19 66.1048 479.566 L63.4312 478.516 L28.3562 492.934 L28.3562 486.728 L56.238 475.588 L28.3562 464.448 L28.3562 458.241 L67.3143 473.901 Z\" fill=\"#000000\" fill-rule=\"evenodd\" fill-opacity=\"1\" /><polyline clip-path=\"url(#clip322)\" style=\"stroke:#009af9; stroke-linecap:round; stroke-linejoin:round; stroke-width:4; stroke-opacity:1; fill:none\" points=\"\n",
       "  809.144,409.715 814.189,1308.97 \n",
       "  \"/>\n",
       "<polyline clip-path=\"url(#clip322)\" style=\"stroke:#009af9; stroke-linecap:round; stroke-linejoin:round; stroke-width:4; stroke-opacity:1; fill:none\" points=\"\n",
       "  824.279,1197.2 829.324,1372.3 834.369,916.797 839.414,1052.03 844.459,792.447 849.504,1265.7 854.549,978.276 859.594,945.119 864.639,744.283 869.684,842.303 \n",
       "  874.729,904.591 879.774,822.832 884.819,760.602 889.864,679.893 894.909,776.521 899.954,653.47 904.999,720.705 910.044,624.758 915.089,663.61 920.134,649.39 \n",
       "  925.178,612.854 930.223,578.064 935.268,542.434 940.313,550.906 945.358,489.728 950.403,500.089 955.448,508.119 960.493,435.995 965.538,399.425 970.583,416.635 \n",
       "  975.628,358.19 980.673,402.343 985.718,399.509 990.763,374.442 995.808,394.759 1000.85,320.799 1005.9,338.99 1010.94,314.557 1015.99,272.893 1021.03,270.616 \n",
       "  1026.08,309.973 1031.12,276.771 1036.17,242.133 1041.21,279.291 1046.26,254.332 1051.3,302.168 1056.35,186.332 1061.39,255.247 1066.44,266.204 1071.48,282.055 \n",
       "  1076.53,278.533 1081.57,231.698 1086.62,285.066 1091.66,243.059 1096.71,222.089 1101.75,219.555 1106.8,217.982 1111.84,223.198 1116.89,267.721 1121.93,232.033 \n",
       "  1126.98,194.436 1132.02,213.95 1137.07,246.827 1142.11,265.864 1147.16,244.206 1152.2,246.162 1157.25,234.066 1162.29,231.316 1167.34,210.391 1172.38,212.637 \n",
       "  1177.43,202.217 1182.47,191.521 1187.52,198.205 1192.56,177.219 1197.61,166.397 1202.65,166.486 1207.7,155.493 1212.74,183.423 1217.79,200.074 1222.83,201.76 \n",
       "  1227.88,197.366 1232.92,213.979 1237.97,241.893 1243.01,232.655 1248.06,218.49 1253.1,227.749 1258.15,203.595 1263.19,190.236 1268.24,175.705 1273.28,155.696 \n",
       "  1278.33,159.171 1283.37,184.814 1288.42,190.749 1293.46,135.576 1298.51,208.754 1303.55,186.298 1308.6,191.264 1313.64,195.228 1318.69,190.749 1323.73,165.123 \n",
       "  1328.78,195.036 1333.82,216.285 1338.87,193.272 1343.91,218.625 1348.96,256.513 1354,157.398 1359.05,167.6 1364.09,182.72 1369.14,135.776 1374.18,156.205 \n",
       "  1379.23,137.146 1384.27,174.345 1389.32,177.107 1394.36,181.812 1399.41,168.507 1404.45,167.946 1409.5,177.245 1414.54,208.004 1419.59,196.606 1424.63,140.597 \n",
       "  1429.68,211.045 1434.72,232.843 1439.77,193.502 1444.81,223.894 1449.86,172.326 1454.9,156.058 1459.95,209.921 1464.99,200.674 1470.04,195.285 1475.08,190.084 \n",
       "  1480.13,223.62 1485.17,175.904 1490.22,181.268 1495.26,157.515 1500.31,158.546 1505.35,167.959 1510.4,168.969 1515.44,174.702 1520.49,112.263 1525.53,145.826 \n",
       "  1530.58,144.534 1535.62,178.234 1540.67,179.533 1545.71,210.177 1550.76,161.695 1555.8,139.423 1560.85,109.19 1565.89,110.841 1570.94,108.736 1575.98,124.59 \n",
       "  1581.03,156.674 1586.07,161.992 1591.12,181.903 1596.16,164.881 1601.21,121.305 1606.25,155.196 1611.3,132.303 1616.34,131.892 1621.39,176.047 1626.43,162.647 \n",
       "  1631.48,128.383 1636.52,138.968 1641.57,150.902 1646.61,158.145 1651.66,201.193 1656.7,136.431 1661.75,143.249 1666.79,109.442 1671.84,104.165 1676.88,85.838 \n",
       "  1681.93,133.962 1686.97,143.525 1692.02,143.601 1697.06,137.295 1702.11,143.892 1707.15,141.602 1712.2,156.593 1717.24,134.917 1722.29,176.926 1727.33,219.129 \n",
       "  1732.37,181.602 1737.42,121.984 1742.46,111.242 1747.51,126.561 1752.55,152.292 1757.6,149.214 1762.64,133.656 1767.69,144.19 1772.73,124.112 1777.78,95.4602 \n",
       "  1782.82,145.422 1787.87,173.821 1792.91,175.466 1797.96,182.1 1803,183.057 1808.05,203.952 1813.09,194.264 1818.14,172.671 1823.18,188.177 1828.23,202.217 \n",
       "  1833.27,159.752 1838.32,149.997 1843.36,217.796 1848.41,182.964 1853.45,161.17 1858.5,179.254 1863.54,201.82 1868.59,176.822 1873.63,181.402 1878.68,185.569 \n",
       "  1883.72,192.912 1888.77,218.526 1893.81,213.459 1898.86,238.079 1903.9,226.213 1908.95,213.979 1913.99,153.218 1919.04,170.985 1924.08,157.867 1929.13,148.506 \n",
       "  1934.17,150.094 1939.22,189.108 1944.26,146.187 1949.31,168.542 1954.35,151.848 1959.4,194.036 1964.44,112.869 1969.49,127.065 1974.53,151.471 1979.58,209.874 \n",
       "  1984.62,195.231 1989.67,200.958 1994.71,189.91 1999.76,194.633 2004.8,209.25 2009.85,156.279 2014.89,171.784 2019.94,150.116 2024.98,181.787 2030.03,189.658 \n",
       "  2035.07,151.345 2040.12,151.873 2045.16,162.466 2050.21,197.852 2055.25,167.215 2060.3,152.02 2065.34,188.517 2070.39,176.575 2075.43,200.625 2080.48,187.147 \n",
       "  2085.52,181.594 2090.57,168.858 2095.61,160.433 2100.66,124.495 2105.7,121.876 2110.75,151.187 2115.79,176.826 2120.84,206.944 2125.88,166.975 2130.93,131.513 \n",
       "  2135.97,160.017 2141.02,140.457 2146.06,168.97 2151.11,151.939 2156.15,163.444 2161.2,199.336 2166.24,170.178 2171.29,161.341 2176.33,181.147 2181.38,144.84 \n",
       "  2186.42,142.116 2191.47,183.915 2196.51,186.555 2201.56,250.592 2206.6,236.136 2211.65,218.321 2216.69,185.275 2221.74,158.2 2226.78,216.787 2231.83,180.26 \n",
       "  2236.87,238.139 2241.92,213.481 2246.96,186.132 2252.01,188.823 2257.05,212.614 2262.1,198.195 2267.14,194.567 2272.19,194.874 2277.23,239.322 2282.28,235.733 \n",
       "  2287.32,219.663 2292.37,210.337 \n",
       "  \"/>\n",
       "</svg>\n"
      ]
     },
     "execution_count": 46,
     "metadata": {},
     "output_type": "execute_result"
    }
   ],
   "source": [
    "plot(iterations, avg_velocity, xlabel=\"Iterations\", ylabel=\"Average Velocity\", legend = false, xformatter = :scientific)"
   ]
  },
  {
   "cell_type": "code",
   "execution_count": 47,
   "id": "c3113dc1",
   "metadata": {},
   "outputs": [
    {
     "data": {
      "text/plain": [
       "\"/home/larissa/Documents/Projects/ADLR/ADLR_project/src/RL_PPO_quadcopter_3D/plots/slow/avg_velocity.svg\""
      ]
     },
     "execution_count": 47,
     "metadata": {},
     "output_type": "execute_result"
    }
   ],
   "source": [
    "savefig(fig_path * \"avg_velocity.svg\")"
   ]
  },
  {
   "cell_type": "code",
   "execution_count": 48,
   "id": "1b4de56f",
   "metadata": {},
   "outputs": [
    {
     "data": {
      "image/svg+xml": [
       "<?xml version=\"1.0\" encoding=\"utf-8\"?>\n",
       "<svg xmlns=\"http://www.w3.org/2000/svg\" xmlns:xlink=\"http://www.w3.org/1999/xlink\" width=\"600\" height=\"400\" viewBox=\"0 0 2400 1600\">\n",
       "<defs>\n",
       "  <clipPath id=\"clip400\">\n",
       "    <rect x=\"0\" y=\"0\" width=\"2400\" height=\"1600\"/>\n",
       "  </clipPath>\n",
       "</defs>\n",
       "<path clip-path=\"url(#clip400)\" d=\"\n",
       "M0 1600 L2400 1600 L2400 0 L0 0  Z\n",
       "  \" fill=\"#ffffff\" fill-rule=\"evenodd\" fill-opacity=\"1\"/>\n",
       "<defs>\n",
       "  <clipPath id=\"clip401\">\n",
       "    <rect x=\"480\" y=\"0\" width=\"1681\" height=\"1600\"/>\n",
       "  </clipPath>\n",
       "</defs>\n",
       "<path clip-path=\"url(#clip400)\" d=\"\n",
       "M202.227 1410.9 L2352.76 1410.9 L2352.76 47.2441 L202.227 47.2441  Z\n",
       "  \" fill=\"#ffffff\" fill-rule=\"evenodd\" fill-opacity=\"1\"/>\n",
       "<defs>\n",
       "  <clipPath id=\"clip402\">\n",
       "    <rect x=\"202\" y=\"47\" width=\"2152\" height=\"1365\"/>\n",
       "  </clipPath>\n",
       "</defs>\n",
       "<polyline clip-path=\"url(#clip402)\" style=\"stroke:#000000; stroke-linecap:round; stroke-linejoin:round; stroke-width:2; stroke-opacity:0.1; fill:none\" points=\"\n",
       "  258.007,1410.9 258.007,47.2441 \n",
       "  \"/>\n",
       "<polyline clip-path=\"url(#clip402)\" style=\"stroke:#000000; stroke-linecap:round; stroke-linejoin:round; stroke-width:2; stroke-opacity:0.1; fill:none\" points=\"\n",
       "  766.478,1410.9 766.478,47.2441 \n",
       "  \"/>\n",
       "<polyline clip-path=\"url(#clip402)\" style=\"stroke:#000000; stroke-linecap:round; stroke-linejoin:round; stroke-width:2; stroke-opacity:0.1; fill:none\" points=\"\n",
       "  1274.95,1410.9 1274.95,47.2441 \n",
       "  \"/>\n",
       "<polyline clip-path=\"url(#clip402)\" style=\"stroke:#000000; stroke-linecap:round; stroke-linejoin:round; stroke-width:2; stroke-opacity:0.1; fill:none\" points=\"\n",
       "  1783.42,1410.9 1783.42,47.2441 \n",
       "  \"/>\n",
       "<polyline clip-path=\"url(#clip402)\" style=\"stroke:#000000; stroke-linecap:round; stroke-linejoin:round; stroke-width:2; stroke-opacity:0.1; fill:none\" points=\"\n",
       "  2291.89,1410.9 2291.89,47.2441 \n",
       "  \"/>\n",
       "<polyline clip-path=\"url(#clip400)\" style=\"stroke:#000000; stroke-linecap:round; stroke-linejoin:round; stroke-width:4; stroke-opacity:1; fill:none\" points=\"\n",
       "  202.227,1410.9 2352.76,1410.9 \n",
       "  \"/>\n",
       "<polyline clip-path=\"url(#clip400)\" style=\"stroke:#000000; stroke-linecap:round; stroke-linejoin:round; stroke-width:4; stroke-opacity:1; fill:none\" points=\"\n",
       "  258.007,1410.9 258.007,1392 \n",
       "  \"/>\n",
       "<polyline clip-path=\"url(#clip400)\" style=\"stroke:#000000; stroke-linecap:round; stroke-linejoin:round; stroke-width:4; stroke-opacity:1; fill:none\" points=\"\n",
       "  766.478,1410.9 766.478,1392 \n",
       "  \"/>\n",
       "<polyline clip-path=\"url(#clip400)\" style=\"stroke:#000000; stroke-linecap:round; stroke-linejoin:round; stroke-width:4; stroke-opacity:1; fill:none\" points=\"\n",
       "  1274.95,1410.9 1274.95,1392 \n",
       "  \"/>\n",
       "<polyline clip-path=\"url(#clip400)\" style=\"stroke:#000000; stroke-linecap:round; stroke-linejoin:round; stroke-width:4; stroke-opacity:1; fill:none\" points=\"\n",
       "  1783.42,1410.9 1783.42,1392 \n",
       "  \"/>\n",
       "<polyline clip-path=\"url(#clip400)\" style=\"stroke:#000000; stroke-linecap:round; stroke-linejoin:round; stroke-width:4; stroke-opacity:1; fill:none\" points=\"\n",
       "  2291.89,1410.9 2291.89,1392 \n",
       "  \"/>\n",
       "<path clip-path=\"url(#clip400)\" d=\"M258.007 1441.82 Q254.396 1441.82 252.567 1445.38 Q250.761 1448.92 250.761 1456.05 Q250.761 1463.16 252.567 1466.72 Q254.396 1470.26 258.007 1470.26 Q261.641 1470.26 263.447 1466.72 Q265.275 1463.16 265.275 1456.05 Q265.275 1448.92 263.447 1445.38 Q261.641 1441.82 258.007 1441.82 M258.007 1438.11 Q263.817 1438.11 266.872 1442.72 Q269.951 1447.3 269.951 1456.05 Q269.951 1464.78 266.872 1469.38 Q263.817 1473.97 258.007 1473.97 Q252.197 1473.97 249.118 1469.38 Q246.062 1464.78 246.062 1456.05 Q246.062 1447.3 249.118 1442.72 Q252.197 1438.11 258.007 1438.11 Z\" fill=\"#000000\" fill-rule=\"evenodd\" fill-opacity=\"1\" /><path clip-path=\"url(#clip400)\" d=\"M674.58 1485.02 L682.219 1485.02 L682.219 1458.66 L673.909 1460.32 L673.909 1456.06 L682.173 1454.4 L686.849 1454.4 L686.849 1485.02 L694.488 1485.02 L694.488 1488.96 L674.58 1488.96 L674.58 1485.02 Z\" fill=\"#000000\" fill-rule=\"evenodd\" fill-opacity=\"1\" /><path clip-path=\"url(#clip400)\" d=\"M703.932 1483.08 L708.816 1483.08 L708.816 1488.96 L703.932 1488.96 L703.932 1483.08 Z\" fill=\"#000000\" fill-rule=\"evenodd\" fill-opacity=\"1\" /><path clip-path=\"url(#clip400)\" d=\"M729.001 1457.48 Q725.39 1457.48 723.562 1461.04 Q721.756 1464.58 721.756 1471.71 Q721.756 1478.82 723.562 1482.38 Q725.39 1485.92 729.001 1485.92 Q732.636 1485.92 734.441 1482.38 Q736.27 1478.82 736.27 1471.71 Q736.27 1464.58 734.441 1461.04 Q732.636 1457.48 729.001 1457.48 M729.001 1453.77 Q734.812 1453.77 737.867 1458.38 Q740.946 1462.96 740.946 1471.71 Q740.946 1480.44 737.867 1485.04 Q734.812 1489.63 729.001 1489.63 Q723.191 1489.63 720.113 1485.04 Q717.057 1480.44 717.057 1471.71 Q717.057 1462.96 720.113 1458.38 Q723.191 1453.77 729.001 1453.77 Z\" fill=\"#000000\" fill-rule=\"evenodd\" fill-opacity=\"1\" /><path clip-path=\"url(#clip400)\" d=\"M777.334 1463.49 L766.756 1474.12 L777.334 1484.7 L774.58 1487.5 L763.955 1476.87 L753.33 1487.5 L750.599 1484.7 L761.154 1474.12 L750.599 1463.49 L753.33 1460.69 L763.955 1471.32 L774.58 1460.69 L777.334 1463.49 Z\" fill=\"#000000\" fill-rule=\"evenodd\" fill-opacity=\"1\" /><path clip-path=\"url(#clip400)\" d=\"M789.696 1485.02 L797.334 1485.02 L797.334 1458.66 L789.024 1460.32 L789.024 1456.06 L797.288 1454.4 L801.964 1454.4 L801.964 1485.02 L809.603 1485.02 L809.603 1488.96 L789.696 1488.96 L789.696 1485.02 Z\" fill=\"#000000\" fill-rule=\"evenodd\" fill-opacity=\"1\" /><path clip-path=\"url(#clip400)\" d=\"M829.047 1457.48 Q825.436 1457.48 823.607 1461.04 Q821.802 1464.58 821.802 1471.71 Q821.802 1478.82 823.607 1482.38 Q825.436 1485.92 829.047 1485.92 Q832.681 1485.92 834.487 1482.38 Q836.316 1478.82 836.316 1471.71 Q836.316 1464.58 834.487 1461.04 Q832.681 1457.48 829.047 1457.48 M829.047 1453.77 Q834.857 1453.77 837.913 1458.38 Q840.992 1462.96 840.992 1471.71 Q840.992 1480.44 837.913 1485.04 Q834.857 1489.63 829.047 1489.63 Q823.237 1489.63 820.158 1485.04 Q817.103 1480.44 817.103 1471.71 Q817.103 1462.96 820.158 1458.38 Q823.237 1453.77 829.047 1453.77 Z\" fill=\"#000000\" fill-rule=\"evenodd\" fill-opacity=\"1\" /><path clip-path=\"url(#clip400)\" d=\"M840.992 1433.47 L859.047 1433.47 L859.047 1435.08 L848.853 1461.55 L844.885 1461.55 L854.477 1436.66 L840.992 1436.66 L840.992 1433.47 Z\" fill=\"#000000\" fill-rule=\"evenodd\" fill-opacity=\"1\" /><path clip-path=\"url(#clip400)\" d=\"M1187.14 1485.02 L1203.46 1485.02 L1203.46 1488.96 L1181.51 1488.96 L1181.51 1485.02 Q1184.17 1482.27 1188.76 1477.64 Q1193.36 1472.98 1194.54 1471.64 Q1196.79 1469.12 1197.67 1467.38 Q1198.57 1465.62 1198.57 1463.93 Q1198.57 1461.18 1196.63 1459.44 Q1194.71 1457.71 1191.6 1457.71 Q1189.41 1457.71 1186.95 1458.47 Q1184.52 1459.23 1181.74 1460.79 L1181.74 1456.06 Q1184.57 1454.93 1187.02 1454.35 Q1189.48 1453.77 1191.51 1453.77 Q1196.88 1453.77 1200.08 1456.46 Q1203.27 1459.14 1203.27 1463.63 Q1203.27 1465.76 1202.46 1467.68 Q1201.67 1469.58 1199.57 1472.17 Q1198.99 1472.85 1195.89 1476.06 Q1192.79 1479.26 1187.14 1485.02 Z\" fill=\"#000000\" fill-rule=\"evenodd\" fill-opacity=\"1\" /><path clip-path=\"url(#clip400)\" d=\"M1213.27 1483.08 L1218.16 1483.08 L1218.16 1488.96 L1213.27 1488.96 L1213.27 1483.08 Z\" fill=\"#000000\" fill-rule=\"evenodd\" fill-opacity=\"1\" /><path clip-path=\"url(#clip400)\" d=\"M1238.34 1457.48 Q1234.73 1457.48 1232.9 1461.04 Q1231.1 1464.58 1231.1 1471.71 Q1231.1 1478.82 1232.9 1482.38 Q1234.73 1485.92 1238.34 1485.92 Q1241.97 1485.92 1243.78 1482.38 Q1245.61 1478.82 1245.61 1471.71 Q1245.61 1464.58 1243.78 1461.04 Q1241.97 1457.48 1238.34 1457.48 M1238.34 1453.77 Q1244.15 1453.77 1247.21 1458.38 Q1250.29 1462.96 1250.29 1471.71 Q1250.29 1480.44 1247.21 1485.04 Q1244.15 1489.63 1238.34 1489.63 Q1232.53 1489.63 1229.45 1485.04 Q1226.4 1480.44 1226.4 1471.71 Q1226.4 1462.96 1229.45 1458.38 Q1232.53 1453.77 1238.34 1453.77 Z\" fill=\"#000000\" fill-rule=\"evenodd\" fill-opacity=\"1\" /><path clip-path=\"url(#clip400)\" d=\"M1286.67 1463.49 L1276.1 1474.12 L1286.67 1484.7 L1283.92 1487.5 L1273.29 1476.87 L1262.67 1487.5 L1259.94 1484.7 L1270.49 1474.12 L1259.94 1463.49 L1262.67 1460.69 L1273.29 1471.32 L1283.92 1460.69 L1286.67 1463.49 Z\" fill=\"#000000\" fill-rule=\"evenodd\" fill-opacity=\"1\" /><path clip-path=\"url(#clip400)\" d=\"M1299.03 1485.02 L1306.67 1485.02 L1306.67 1458.66 L1298.36 1460.32 L1298.36 1456.06 L1306.63 1454.4 L1311.3 1454.4 L1311.3 1485.02 L1318.94 1485.02 L1318.94 1488.96 L1299.03 1488.96 L1299.03 1485.02 Z\" fill=\"#000000\" fill-rule=\"evenodd\" fill-opacity=\"1\" /><path clip-path=\"url(#clip400)\" d=\"M1338.39 1457.48 Q1334.78 1457.48 1332.95 1461.04 Q1331.14 1464.58 1331.14 1471.71 Q1331.14 1478.82 1332.95 1482.38 Q1334.78 1485.92 1338.39 1485.92 Q1342.02 1485.92 1343.83 1482.38 Q1345.65 1478.82 1345.65 1471.71 Q1345.65 1464.58 1343.83 1461.04 Q1342.02 1457.48 1338.39 1457.48 M1338.39 1453.77 Q1344.2 1453.77 1347.25 1458.38 Q1350.33 1462.96 1350.33 1471.71 Q1350.33 1480.44 1347.25 1485.04 Q1344.2 1489.63 1338.39 1489.63 Q1332.58 1489.63 1329.5 1485.04 Q1326.44 1480.44 1326.44 1471.71 Q1326.44 1462.96 1329.5 1458.38 Q1332.58 1453.77 1338.39 1453.77 Z\" fill=\"#000000\" fill-rule=\"evenodd\" fill-opacity=\"1\" /><path clip-path=\"url(#clip400)\" d=\"M1350.33 1433.47 L1368.39 1433.47 L1368.39 1435.08 L1358.19 1461.55 L1354.22 1461.55 L1363.82 1436.66 L1350.33 1436.66 L1350.33 1433.47 Z\" fill=\"#000000\" fill-rule=\"evenodd\" fill-opacity=\"1\" /><path clip-path=\"url(#clip400)\" d=\"M1705.68 1470.32 Q1709.03 1471.04 1710.91 1473.31 Q1712.81 1475.58 1712.81 1478.91 Q1712.81 1484.03 1709.29 1486.83 Q1705.77 1489.63 1699.29 1489.63 Q1697.11 1489.63 1694.8 1489.19 Q1692.51 1488.77 1690.05 1487.91 L1690.05 1483.4 Q1692 1484.54 1694.31 1485.11 Q1696.63 1485.69 1699.15 1485.69 Q1703.55 1485.69 1705.84 1483.96 Q1708.15 1482.22 1708.15 1478.91 Q1708.15 1475.85 1706 1474.14 Q1703.87 1472.41 1700.05 1472.41 L1696.03 1472.41 L1696.03 1468.56 L1700.24 1468.56 Q1703.69 1468.56 1705.52 1467.2 Q1707.34 1465.81 1707.34 1463.22 Q1707.34 1460.55 1705.45 1459.14 Q1703.57 1457.71 1700.05 1457.71 Q1698.13 1457.71 1695.93 1458.12 Q1693.73 1458.54 1691.09 1459.42 L1691.09 1455.25 Q1693.76 1454.51 1696.07 1454.14 Q1698.41 1453.77 1700.47 1453.77 Q1705.79 1453.77 1708.9 1456.2 Q1712 1458.61 1712 1462.73 Q1712 1465.6 1710.35 1467.59 Q1708.71 1469.56 1705.68 1470.32 Z\" fill=\"#000000\" fill-rule=\"evenodd\" fill-opacity=\"1\" /><path clip-path=\"url(#clip400)\" d=\"M1721.67 1483.08 L1726.56 1483.08 L1726.56 1488.96 L1721.67 1488.96 L1721.67 1483.08 Z\" fill=\"#000000\" fill-rule=\"evenodd\" fill-opacity=\"1\" /><path clip-path=\"url(#clip400)\" d=\"M1746.74 1457.48 Q1743.13 1457.48 1741.3 1461.04 Q1739.5 1464.58 1739.5 1471.71 Q1739.5 1478.82 1741.3 1482.38 Q1743.13 1485.92 1746.74 1485.92 Q1750.38 1485.92 1752.18 1482.38 Q1754.01 1478.82 1754.01 1471.71 Q1754.01 1464.58 1752.18 1461.04 Q1750.38 1457.48 1746.74 1457.48 M1746.74 1453.77 Q1752.55 1453.77 1755.61 1458.38 Q1758.69 1462.96 1758.69 1471.71 Q1758.69 1480.44 1755.61 1485.04 Q1752.55 1489.63 1746.74 1489.63 Q1740.93 1489.63 1737.85 1485.04 Q1734.8 1480.44 1734.8 1471.71 Q1734.8 1462.96 1737.85 1458.38 Q1740.93 1453.77 1746.74 1453.77 Z\" fill=\"#000000\" fill-rule=\"evenodd\" fill-opacity=\"1\" /><path clip-path=\"url(#clip400)\" d=\"M1795.08 1463.49 L1784.5 1474.12 L1795.08 1484.7 L1792.32 1487.5 L1781.7 1476.87 L1771.07 1487.5 L1768.34 1484.7 L1778.9 1474.12 L1768.34 1463.49 L1771.07 1460.69 L1781.7 1471.32 L1792.32 1460.69 L1795.08 1463.49 Z\" fill=\"#000000\" fill-rule=\"evenodd\" fill-opacity=\"1\" /><path clip-path=\"url(#clip400)\" d=\"M1807.44 1485.02 L1815.08 1485.02 L1815.08 1458.66 L1806.77 1460.32 L1806.77 1456.06 L1815.03 1454.4 L1819.71 1454.4 L1819.71 1485.02 L1827.34 1485.02 L1827.34 1488.96 L1807.44 1488.96 L1807.44 1485.02 Z\" fill=\"#000000\" fill-rule=\"evenodd\" fill-opacity=\"1\" /><path clip-path=\"url(#clip400)\" d=\"M1846.79 1457.48 Q1843.18 1457.48 1841.35 1461.04 Q1839.54 1464.58 1839.54 1471.71 Q1839.54 1478.82 1841.35 1482.38 Q1843.18 1485.92 1846.79 1485.92 Q1850.42 1485.92 1852.23 1482.38 Q1854.06 1478.82 1854.06 1471.71 Q1854.06 1464.58 1852.23 1461.04 Q1850.42 1457.48 1846.79 1457.48 M1846.79 1453.77 Q1852.6 1453.77 1855.65 1458.38 Q1858.73 1462.96 1858.73 1471.71 Q1858.73 1480.44 1855.65 1485.04 Q1852.6 1489.63 1846.79 1489.63 Q1840.98 1489.63 1837.9 1485.04 Q1834.84 1480.44 1834.84 1471.71 Q1834.84 1462.96 1837.9 1458.38 Q1840.98 1453.77 1846.79 1453.77 Z\" fill=\"#000000\" fill-rule=\"evenodd\" fill-opacity=\"1\" /><path clip-path=\"url(#clip400)\" d=\"M1858.73 1433.47 L1876.79 1433.47 L1876.79 1435.08 L1866.59 1461.55 L1862.63 1461.55 L1872.22 1436.66 L1858.73 1436.66 L1858.73 1433.47 Z\" fill=\"#000000\" fill-rule=\"evenodd\" fill-opacity=\"1\" /><path clip-path=\"url(#clip400)\" d=\"M2213.48 1458.47 L2201.67 1476.92 L2213.48 1476.92 L2213.48 1458.47 M2212.25 1454.4 L2218.13 1454.4 L2218.13 1476.92 L2223.06 1476.92 L2223.06 1480.81 L2218.13 1480.81 L2218.13 1488.96 L2213.48 1488.96 L2213.48 1480.81 L2197.88 1480.81 L2197.88 1476.29 L2212.25 1454.4 Z\" fill=\"#000000\" fill-rule=\"evenodd\" fill-opacity=\"1\" /><path clip-path=\"url(#clip400)\" d=\"M2230.79 1483.08 L2235.68 1483.08 L2235.68 1488.96 L2230.79 1488.96 L2230.79 1483.08 Z\" fill=\"#000000\" fill-rule=\"evenodd\" fill-opacity=\"1\" /><path clip-path=\"url(#clip400)\" d=\"M2255.86 1457.48 Q2252.25 1457.48 2250.42 1461.04 Q2248.62 1464.58 2248.62 1471.71 Q2248.62 1478.82 2250.42 1482.38 Q2252.25 1485.92 2255.86 1485.92 Q2259.5 1485.92 2261.3 1482.38 Q2263.13 1478.82 2263.13 1471.71 Q2263.13 1464.58 2261.3 1461.04 Q2259.5 1457.48 2255.86 1457.48 M2255.86 1453.77 Q2261.67 1453.77 2264.73 1458.38 Q2267.81 1462.96 2267.81 1471.71 Q2267.81 1480.44 2264.73 1485.04 Q2261.67 1489.63 2255.86 1489.63 Q2250.05 1489.63 2246.97 1485.04 Q2243.92 1480.44 2243.92 1471.71 Q2243.92 1462.96 2246.97 1458.38 Q2250.05 1453.77 2255.86 1453.77 Z\" fill=\"#000000\" fill-rule=\"evenodd\" fill-opacity=\"1\" /><path clip-path=\"url(#clip400)\" d=\"M2304.2 1463.49 L2293.62 1474.12 L2304.2 1484.7 L2301.44 1487.5 L2290.82 1476.87 L2280.19 1487.5 L2277.46 1484.7 L2288.01 1474.12 L2277.46 1463.49 L2280.19 1460.69 L2290.82 1471.32 L2301.44 1460.69 L2304.2 1463.49 Z\" fill=\"#000000\" fill-rule=\"evenodd\" fill-opacity=\"1\" /><path clip-path=\"url(#clip400)\" d=\"M2316.56 1485.02 L2324.19 1485.02 L2324.19 1458.66 L2315.88 1460.32 L2315.88 1456.06 L2324.15 1454.4 L2328.82 1454.4 L2328.82 1485.02 L2336.46 1485.02 L2336.46 1488.96 L2316.56 1488.96 L2316.56 1485.02 Z\" fill=\"#000000\" fill-rule=\"evenodd\" fill-opacity=\"1\" /><path clip-path=\"url(#clip400)\" d=\"M2355.91 1457.48 Q2352.3 1457.48 2350.47 1461.04 Q2348.66 1464.58 2348.66 1471.71 Q2348.66 1478.82 2350.47 1482.38 Q2352.3 1485.92 2355.91 1485.92 Q2359.54 1485.92 2361.35 1482.38 Q2363.18 1478.82 2363.18 1471.71 Q2363.18 1464.58 2361.35 1461.04 Q2359.54 1457.48 2355.91 1457.48 M2355.91 1453.77 Q2361.72 1453.77 2364.77 1458.38 Q2367.85 1462.96 2367.85 1471.71 Q2367.85 1480.44 2364.77 1485.04 Q2361.72 1489.63 2355.91 1489.63 Q2350.1 1489.63 2347.02 1485.04 Q2343.96 1480.44 2343.96 1471.71 Q2343.96 1462.96 2347.02 1458.38 Q2350.1 1453.77 2355.91 1453.77 Z\" fill=\"#000000\" fill-rule=\"evenodd\" fill-opacity=\"1\" /><path clip-path=\"url(#clip400)\" d=\"M2367.85 1433.47 L2385.91 1433.47 L2385.91 1435.08 L2375.71 1461.55 L2371.75 1461.55 L2381.34 1436.66 L2367.85 1436.66 L2367.85 1433.47 Z\" fill=\"#000000\" fill-rule=\"evenodd\" fill-opacity=\"1\" /><path clip-path=\"url(#clip400)\" d=\"M1127.05 1526.67 L1133.48 1526.67 L1133.48 1574.19 L1127.05 1574.19 L1127.05 1526.67 Z\" fill=\"#000000\" fill-rule=\"evenodd\" fill-opacity=\"1\" /><path clip-path=\"url(#clip400)\" d=\"M1151.82 1528.42 L1151.82 1538.54 L1163.88 1538.54 L1163.88 1543.09 L1151.82 1543.09 L1151.82 1562.44 Q1151.82 1566.8 1152.99 1568.04 Q1154.2 1569.28 1157.86 1569.28 L1163.88 1569.28 L1163.88 1574.19 L1157.86 1574.19 Q1151.08 1574.19 1148.51 1571.67 Q1145.93 1569.12 1145.93 1562.44 L1145.93 1543.09 L1141.63 1543.09 L1141.63 1538.54 L1145.93 1538.54 L1145.93 1528.42 L1151.82 1528.42 Z\" fill=\"#000000\" fill-rule=\"evenodd\" fill-opacity=\"1\" /><path clip-path=\"url(#clip400)\" d=\"M1202.07 1554.9 L1202.07 1557.76 L1175.15 1557.76 Q1175.53 1563.81 1178.78 1566.99 Q1182.05 1570.14 1187.88 1570.14 Q1191.25 1570.14 1194.4 1569.32 Q1197.59 1568.49 1200.71 1566.83 L1200.71 1572.37 Q1197.55 1573.71 1194.24 1574.41 Q1190.93 1575.11 1187.53 1575.11 Q1179 1575.11 1174 1570.14 Q1169.04 1565.18 1169.04 1556.71 Q1169.04 1547.96 1173.75 1542.83 Q1178.49 1537.68 1186.51 1537.68 Q1193.7 1537.68 1197.87 1542.33 Q1202.07 1546.94 1202.07 1554.9 M1196.22 1553.18 Q1196.15 1548.37 1193.51 1545.51 Q1190.9 1542.64 1186.57 1542.64 Q1181.67 1542.64 1178.71 1545.41 Q1175.78 1548.18 1175.34 1553.21 L1196.22 1553.18 Z\" fill=\"#000000\" fill-rule=\"evenodd\" fill-opacity=\"1\" /><path clip-path=\"url(#clip400)\" d=\"M1232.34 1544.01 Q1231.36 1543.44 1230.18 1543.18 Q1229.03 1542.9 1227.63 1542.9 Q1222.67 1542.9 1219.99 1546.14 Q1217.35 1549.36 1217.35 1555.41 L1217.35 1574.19 L1211.46 1574.19 L1211.46 1538.54 L1217.35 1538.54 L1217.35 1544.08 Q1219.2 1540.83 1222.16 1539.27 Q1225.12 1537.68 1229.35 1537.68 Q1229.96 1537.68 1230.69 1537.77 Q1231.42 1537.84 1232.31 1538 L1232.34 1544.01 Z\" fill=\"#000000\" fill-rule=\"evenodd\" fill-opacity=\"1\" /><path clip-path=\"url(#clip400)\" d=\"M1254.69 1556.27 Q1247.59 1556.27 1244.85 1557.89 Q1242.11 1559.51 1242.11 1563.43 Q1242.11 1566.55 1244.15 1568.39 Q1246.22 1570.21 1249.75 1570.21 Q1254.62 1570.21 1257.55 1566.77 Q1260.51 1563.3 1260.51 1557.57 L1260.51 1556.27 L1254.69 1556.27 M1266.37 1553.85 L1266.37 1574.19 L1260.51 1574.19 L1260.51 1568.77 Q1258.51 1572.02 1255.51 1573.58 Q1252.52 1575.11 1248.19 1575.11 Q1242.72 1575.11 1239.47 1572.05 Q1236.26 1568.97 1236.26 1563.81 Q1236.26 1557.79 1240.27 1554.74 Q1244.31 1551.68 1252.3 1551.68 L1260.51 1551.68 L1260.51 1551.11 Q1260.51 1547.07 1257.84 1544.87 Q1255.2 1542.64 1250.39 1542.64 Q1247.33 1542.64 1244.44 1543.38 Q1241.54 1544.11 1238.87 1545.57 L1238.87 1540.16 Q1242.08 1538.92 1245.11 1538.31 Q1248.13 1537.68 1250.99 1537.68 Q1258.73 1537.68 1262.55 1541.69 Q1266.37 1545.7 1266.37 1553.85 Z\" fill=\"#000000\" fill-rule=\"evenodd\" fill-opacity=\"1\" /><path clip-path=\"url(#clip400)\" d=\"M1284.22 1528.42 L1284.22 1538.54 L1296.29 1538.54 L1296.29 1543.09 L1284.22 1543.09 L1284.22 1562.44 Q1284.22 1566.8 1285.4 1568.04 Q1286.61 1569.28 1290.27 1569.28 L1296.29 1569.28 L1296.29 1574.19 L1290.27 1574.19 Q1283.49 1574.19 1280.91 1571.67 Q1278.34 1569.12 1278.34 1562.44 L1278.34 1543.09 L1274.04 1543.09 L1274.04 1538.54 L1278.34 1538.54 L1278.34 1528.42 L1284.22 1528.42 Z\" fill=\"#000000\" fill-rule=\"evenodd\" fill-opacity=\"1\" /><path clip-path=\"url(#clip400)\" d=\"M1303.99 1538.54 L1309.85 1538.54 L1309.85 1574.19 L1303.99 1574.19 L1303.99 1538.54 M1303.99 1524.66 L1309.85 1524.66 L1309.85 1532.08 L1303.99 1532.08 L1303.99 1524.66 Z\" fill=\"#000000\" fill-rule=\"evenodd\" fill-opacity=\"1\" /><path clip-path=\"url(#clip400)\" d=\"M1335.91 1542.64 Q1331.2 1542.64 1328.47 1546.34 Q1325.73 1550 1325.73 1556.39 Q1325.73 1562.79 1328.43 1566.48 Q1331.17 1570.14 1335.91 1570.14 Q1340.59 1570.14 1343.33 1566.45 Q1346.07 1562.76 1346.07 1556.39 Q1346.07 1550.06 1343.33 1546.37 Q1340.59 1542.64 1335.91 1542.64 M1335.91 1537.68 Q1343.55 1537.68 1347.91 1542.64 Q1352.27 1547.61 1352.27 1556.39 Q1352.27 1565.15 1347.91 1570.14 Q1343.55 1575.11 1335.91 1575.11 Q1328.24 1575.11 1323.88 1570.14 Q1319.55 1565.15 1319.55 1556.39 Q1319.55 1547.61 1323.88 1542.64 Q1328.24 1537.68 1335.91 1537.68 Z\" fill=\"#000000\" fill-rule=\"evenodd\" fill-opacity=\"1\" /><path clip-path=\"url(#clip400)\" d=\"M1391.61 1552.67 L1391.61 1574.19 L1385.76 1574.19 L1385.76 1552.86 Q1385.76 1547.8 1383.78 1545.29 Q1381.81 1542.77 1377.86 1542.77 Q1373.12 1542.77 1370.38 1545.79 Q1367.65 1548.82 1367.65 1554.04 L1367.65 1574.19 L1361.76 1574.19 L1361.76 1538.54 L1367.65 1538.54 L1367.65 1544.08 Q1369.75 1540.86 1372.58 1539.27 Q1375.44 1537.68 1379.17 1537.68 Q1385.31 1537.68 1388.46 1541.5 Q1391.61 1545.29 1391.61 1552.67 Z\" fill=\"#000000\" fill-rule=\"evenodd\" fill-opacity=\"1\" /><path clip-path=\"url(#clip400)\" d=\"M1426.02 1539.59 L1426.02 1545.13 Q1423.54 1543.85 1420.86 1543.22 Q1418.19 1542.58 1415.33 1542.58 Q1410.96 1542.58 1408.77 1543.92 Q1406.6 1545.25 1406.6 1547.93 Q1406.6 1549.96 1408.16 1551.14 Q1409.72 1552.29 1414.43 1553.34 L1416.44 1553.78 Q1422.68 1555.12 1425.29 1557.57 Q1427.93 1559.99 1427.93 1564.35 Q1427.93 1569.32 1423.98 1572.21 Q1420.07 1575.11 1413.19 1575.11 Q1410.33 1575.11 1407.21 1574.54 Q1404.12 1573.99 1400.68 1572.88 L1400.68 1566.83 Q1403.93 1568.52 1407.08 1569.38 Q1410.23 1570.21 1413.32 1570.21 Q1417.46 1570.21 1419.69 1568.81 Q1421.91 1567.37 1421.91 1564.8 Q1421.91 1562.41 1420.29 1561.14 Q1418.7 1559.86 1413.26 1558.68 L1411.22 1558.21 Q1405.78 1557.06 1403.36 1554.71 Q1400.94 1552.32 1400.94 1548.18 Q1400.94 1543.15 1404.5 1540.42 Q1408.07 1537.68 1414.62 1537.68 Q1417.87 1537.68 1420.74 1538.16 Q1423.6 1538.63 1426.02 1539.59 Z\" fill=\"#000000\" fill-rule=\"evenodd\" fill-opacity=\"1\" /><polyline clip-path=\"url(#clip402)\" style=\"stroke:#000000; stroke-linecap:round; stroke-linejoin:round; stroke-width:2; stroke-opacity:0.1; fill:none\" points=\"\n",
       "  202.227,1175.82 2352.76,1175.82 \n",
       "  \"/>\n",
       "<polyline clip-path=\"url(#clip402)\" style=\"stroke:#000000; stroke-linecap:round; stroke-linejoin:round; stroke-width:2; stroke-opacity:0.1; fill:none\" points=\"\n",
       "  202.227,801.58 2352.76,801.58 \n",
       "  \"/>\n",
       "<polyline clip-path=\"url(#clip402)\" style=\"stroke:#000000; stroke-linecap:round; stroke-linejoin:round; stroke-width:2; stroke-opacity:0.1; fill:none\" points=\"\n",
       "  202.227,427.336 2352.76,427.336 \n",
       "  \"/>\n",
       "<polyline clip-path=\"url(#clip402)\" style=\"stroke:#000000; stroke-linecap:round; stroke-linejoin:round; stroke-width:2; stroke-opacity:0.1; fill:none\" points=\"\n",
       "  202.227,53.0917 2352.76,53.0917 \n",
       "  \"/>\n",
       "<polyline clip-path=\"url(#clip400)\" style=\"stroke:#000000; stroke-linecap:round; stroke-linejoin:round; stroke-width:4; stroke-opacity:1; fill:none\" points=\"\n",
       "  202.227,1410.9 202.227,47.2441 \n",
       "  \"/>\n",
       "<polyline clip-path=\"url(#clip400)\" style=\"stroke:#000000; stroke-linecap:round; stroke-linejoin:round; stroke-width:4; stroke-opacity:1; fill:none\" points=\"\n",
       "  202.227,1175.82 221.125,1175.82 \n",
       "  \"/>\n",
       "<polyline clip-path=\"url(#clip400)\" style=\"stroke:#000000; stroke-linecap:round; stroke-linejoin:round; stroke-width:4; stroke-opacity:1; fill:none\" points=\"\n",
       "  202.227,801.58 221.125,801.58 \n",
       "  \"/>\n",
       "<polyline clip-path=\"url(#clip400)\" style=\"stroke:#000000; stroke-linecap:round; stroke-linejoin:round; stroke-width:4; stroke-opacity:1; fill:none\" points=\"\n",
       "  202.227,427.336 221.125,427.336 \n",
       "  \"/>\n",
       "<polyline clip-path=\"url(#clip400)\" style=\"stroke:#000000; stroke-linecap:round; stroke-linejoin:round; stroke-width:4; stroke-opacity:1; fill:none\" points=\"\n",
       "  202.227,53.0917 221.125,53.0917 \n",
       "  \"/>\n",
       "<path clip-path=\"url(#clip400)\" d=\"M156.644 1162.62 L144.839 1181.07 L156.644 1181.07 L156.644 1162.62 M155.417 1158.54 L161.297 1158.54 L161.297 1181.07 L166.227 1181.07 L166.227 1184.96 L161.297 1184.96 L161.297 1193.1 L156.644 1193.1 L156.644 1184.96 L141.042 1184.96 L141.042 1180.44 L155.417 1158.54 Z\" fill=\"#000000\" fill-rule=\"evenodd\" fill-opacity=\"1\" /><path clip-path=\"url(#clip400)\" d=\"M154.7 799.717 Q151.552 799.717 149.7 801.87 Q147.871 804.022 147.871 807.772 Q147.871 811.499 149.7 813.675 Q151.552 815.828 154.7 815.828 Q157.848 815.828 159.677 813.675 Q161.528 811.499 161.528 807.772 Q161.528 804.022 159.677 801.87 Q157.848 799.717 154.7 799.717 M163.982 785.064 L163.982 789.323 Q162.223 788.49 160.417 788.05 Q158.635 787.61 156.876 787.61 Q152.246 787.61 149.792 790.735 Q147.362 793.86 147.015 800.18 Q148.38 798.166 150.441 797.101 Q152.501 796.013 154.978 796.013 Q160.186 796.013 163.195 799.184 Q166.227 802.333 166.227 807.772 Q166.227 813.096 163.079 816.314 Q159.931 819.531 154.7 819.531 Q148.704 819.531 145.533 814.948 Q142.362 810.342 142.362 801.615 Q142.362 793.421 146.251 788.559 Q150.14 783.675 156.69 783.675 Q158.45 783.675 160.232 784.022 Q162.038 784.37 163.982 785.064 Z\" fill=\"#000000\" fill-rule=\"evenodd\" fill-opacity=\"1\" /><path clip-path=\"url(#clip400)\" d=\"M154.376 428.204 Q151.042 428.204 149.121 429.986 Q147.223 431.769 147.223 434.894 Q147.223 438.019 149.121 439.801 Q151.042 441.584 154.376 441.584 Q157.709 441.584 159.63 439.801 Q161.552 437.996 161.552 434.894 Q161.552 431.769 159.63 429.986 Q157.732 428.204 154.376 428.204 M149.7 426.213 Q146.691 425.473 145.001 423.412 Q143.334 421.352 143.334 418.389 Q143.334 414.246 146.274 411.838 Q149.237 409.431 154.376 409.431 Q159.538 409.431 162.477 411.838 Q165.417 414.246 165.417 418.389 Q165.417 421.352 163.727 423.412 Q162.061 425.473 159.075 426.213 Q162.454 427 164.329 429.292 Q166.227 431.584 166.227 434.894 Q166.227 439.917 163.149 442.602 Q160.093 445.287 154.376 445.287 Q148.658 445.287 145.579 442.602 Q142.524 439.917 142.524 434.894 Q142.524 431.584 144.422 429.292 Q146.32 427 149.7 426.213 M147.987 418.829 Q147.987 421.514 149.653 423.019 Q151.343 424.523 154.376 424.523 Q157.385 424.523 159.075 423.019 Q160.788 421.514 160.788 418.829 Q160.788 416.144 159.075 414.639 Q157.385 413.135 154.376 413.135 Q151.343 413.135 149.653 414.639 Q147.987 416.144 147.987 418.829 Z\" fill=\"#000000\" fill-rule=\"evenodd\" fill-opacity=\"1\" /><path clip-path=\"url(#clip400)\" d=\"M114.931 66.4365 L122.57 66.4365 L122.57 40.0709 L114.26 41.7376 L114.26 37.4783 L122.524 35.8117 L127.2 35.8117 L127.2 66.4365 L134.839 66.4365 L134.839 70.3717 L114.931 70.3717 L114.931 66.4365 Z\" fill=\"#000000\" fill-rule=\"evenodd\" fill-opacity=\"1\" /><path clip-path=\"url(#clip400)\" d=\"M154.283 38.8903 Q150.672 38.8903 148.843 42.4551 Q147.038 45.9968 147.038 53.1264 Q147.038 60.2328 148.843 63.7976 Q150.672 67.3393 154.283 67.3393 Q157.917 67.3393 159.723 63.7976 Q161.552 60.2328 161.552 53.1264 Q161.552 45.9968 159.723 42.4551 Q157.917 38.8903 154.283 38.8903 M154.283 35.1867 Q160.093 35.1867 163.149 39.7931 Q166.227 44.3764 166.227 53.1264 Q166.227 61.8532 163.149 66.4596 Q160.093 71.043 154.283 71.043 Q148.473 71.043 145.394 66.4596 Q142.339 61.8532 142.339 53.1264 Q142.339 44.3764 145.394 39.7931 Q148.473 35.1867 154.283 35.1867 Z\" fill=\"#000000\" fill-rule=\"evenodd\" fill-opacity=\"1\" /><path clip-path=\"url(#clip400)\" d=\"M22.818 1126.31 L46.4666 1135.03 L46.4666 1117.55 L22.818 1126.31 M16.4842 1129.93 L16.4842 1122.65 L64.0042 1104.54 L64.0042 1111.22 L51.8138 1115.55 L51.8138 1136.97 L64.0042 1141.3 L64.0042 1148.08 L16.4842 1129.93 Z\" fill=\"#000000\" fill-rule=\"evenodd\" fill-opacity=\"1\" /><path clip-path=\"url(#clip400)\" d=\"M28.3562 1105.87 L28.3562 1099.67 L58.275 1088.53 L28.3562 1077.39 L28.3562 1071.18 L64.0042 1084.55 L64.0042 1092.5 L28.3562 1105.87 Z\" fill=\"#000000\" fill-rule=\"evenodd\" fill-opacity=\"1\" /><path clip-path=\"url(#clip400)\" d=\"M44.7161 1032.6 L47.5806 1032.6 L47.5806 1059.53 Q53.6281 1059.15 56.8109 1055.9 Q59.9619 1052.62 59.9619 1046.8 Q59.9619 1043.42 59.1344 1040.27 Q58.3069 1037.09 56.6518 1033.97 L62.1899 1033.97 Q63.5267 1037.12 64.227 1040.43 Q64.9272 1043.74 64.9272 1047.15 Q64.9272 1055.68 59.9619 1060.68 Q54.9967 1065.64 46.5303 1065.64 Q37.7774 1065.64 32.6531 1060.93 Q27.4968 1056.19 27.4968 1048.17 Q27.4968 1040.97 32.1438 1036.8 Q36.7589 1032.6 44.7161 1032.6 M42.9973 1038.46 Q38.1912 1038.52 35.3266 1041.17 Q32.4621 1043.77 32.4621 1048.1 Q32.4621 1053.01 35.2312 1055.97 Q38.0002 1058.89 43.0292 1059.34 L42.9973 1038.46 Z\" fill=\"#000000\" fill-rule=\"evenodd\" fill-opacity=\"1\" /><path clip-path=\"url(#clip400)\" d=\"M33.8307 1002.33 Q33.2578 1003.32 33.0032 1004.5 Q32.7167 1005.64 32.7167 1007.04 Q32.7167 1012.01 35.9632 1014.68 Q39.1779 1017.33 45.2253 1017.33 L64.0042 1017.33 L64.0042 1023.21 L28.3562 1023.21 L28.3562 1017.33 L33.8944 1017.33 Q30.6479 1015.48 29.0883 1012.52 Q27.4968 1009.56 27.4968 1005.33 Q27.4968 1004.72 27.5923 1003.99 Q27.656 1003.26 27.8151 1002.37 L33.8307 1002.33 Z\" fill=\"#000000\" fill-rule=\"evenodd\" fill-opacity=\"1\" /><path clip-path=\"url(#clip400)\" d=\"M46.0847 979.991 Q46.0847 987.088 47.7079 989.826 Q49.3312 992.563 53.2461 992.563 Q56.3653 992.563 58.2114 990.526 Q60.0256 988.457 60.0256 984.924 Q60.0256 980.054 56.5881 977.126 Q53.1188 974.166 47.3897 974.166 L46.0847 974.166 L46.0847 979.991 M43.6657 968.31 L64.0042 968.31 L64.0042 974.166 L58.5933 974.166 Q61.8398 976.171 63.3994 979.163 Q64.9272 982.155 64.9272 986.484 Q64.9272 991.958 61.8716 995.205 Q58.7843 998.419 53.6281 998.419 Q47.6125 998.419 44.5569 994.409 Q41.5014 990.367 41.5014 982.378 L41.5014 974.166 L40.9285 974.166 Q36.8862 974.166 34.6901 976.84 Q32.4621 979.481 32.4621 984.287 Q32.4621 987.343 33.1941 990.239 Q33.9262 993.136 35.3903 995.809 L29.9795 995.809 Q28.7381 992.595 28.1334 989.571 Q27.4968 986.547 27.4968 983.683 Q27.4968 975.948 31.5072 972.129 Q35.5176 968.31 43.6657 968.31 Z\" fill=\"#000000\" fill-rule=\"evenodd\" fill-opacity=\"1\" /><path clip-path=\"url(#clip400)\" d=\"M45.7664 932.789 Q39.4007 932.789 35.8996 935.431 Q32.3984 938.041 32.3984 942.783 Q32.3984 947.494 35.8996 950.135 Q39.4007 952.745 45.7664 952.745 Q52.1003 952.745 55.6014 950.135 Q59.1026 947.494 59.1026 942.783 Q59.1026 938.041 55.6014 935.431 Q52.1003 932.789 45.7664 932.789 M59.58 926.932 Q68.683 926.932 73.1071 930.975 Q77.5631 935.017 77.5631 943.356 Q77.5631 946.443 77.0857 949.181 Q76.6401 951.918 75.6852 954.496 L69.9879 954.496 Q71.3884 951.918 72.0568 949.403 Q72.7252 946.889 72.7252 944.279 Q72.7252 938.518 69.7015 935.653 Q66.7096 932.789 60.6303 932.789 L57.7339 932.789 Q60.885 934.603 62.4446 937.436 Q64.0042 940.269 64.0042 944.215 Q64.0042 950.772 59.0071 954.782 Q54.01 958.793 45.7664 958.793 Q37.491 958.793 32.4939 954.782 Q27.4968 950.772 27.4968 944.215 Q27.4968 940.269 29.0564 937.436 Q30.616 934.603 33.7671 932.789 L28.3562 932.789 L28.3562 926.932 L59.58 926.932 Z\" fill=\"#000000\" fill-rule=\"evenodd\" fill-opacity=\"1\" /><path clip-path=\"url(#clip400)\" d=\"M44.7161 884.378 L47.5806 884.378 L47.5806 911.305 Q53.6281 910.923 56.8109 907.676 Q59.9619 904.398 59.9619 898.573 Q59.9619 895.199 59.1344 892.048 Q58.3069 888.866 56.6518 885.746 L62.1899 885.746 Q63.5267 888.897 64.227 892.208 Q64.9272 895.518 64.9272 898.923 Q64.9272 907.453 59.9619 912.45 Q54.9967 917.416 46.5303 917.416 Q37.7774 917.416 32.6531 912.705 Q27.4968 907.963 27.4968 899.942 Q27.4968 892.749 32.1438 888.579 Q36.7589 884.378 44.7161 884.378 M42.9973 890.234 Q38.1912 890.298 35.3266 892.94 Q32.4621 895.55 32.4621 899.878 Q32.4621 904.78 35.2312 907.74 Q38.0002 910.668 43.0292 911.114 L42.9973 890.234 Z\" fill=\"#000000\" fill-rule=\"evenodd\" fill-opacity=\"1\" /><path clip-path=\"url(#clip400)\" d=\"M20.1444 818.206 L26.9239 818.206 Q23.9002 821.453 22.4043 825.145 Q20.9083 828.805 20.9083 832.943 Q20.9083 841.091 25.9054 845.42 Q30.8707 849.748 40.2919 849.748 Q49.6813 849.748 54.6784 845.42 Q59.6436 841.091 59.6436 832.943 Q59.6436 828.805 58.1477 825.145 Q56.6518 821.453 53.6281 818.206 L60.3439 818.206 Q62.6355 821.58 63.7814 825.368 Q64.9272 829.123 64.9272 833.325 Q64.9272 844.115 58.3387 850.321 Q51.7183 856.528 40.2919 856.528 Q28.8336 856.528 22.2451 850.321 Q15.6248 844.115 15.6248 833.325 Q15.6248 829.06 16.7706 825.304 Q17.8846 821.516 20.1444 818.206 Z\" fill=\"#000000\" fill-rule=\"evenodd\" fill-opacity=\"1\" /><path clip-path=\"url(#clip400)\" d=\"M32.4621 794.717 Q32.4621 799.427 36.1542 802.165 Q39.8145 804.902 46.212 804.902 Q52.6095 804.902 56.3017 802.196 Q59.9619 799.459 59.9619 794.717 Q59.9619 790.038 56.2698 787.301 Q52.5777 784.563 46.212 784.563 Q39.8781 784.563 36.186 787.301 Q32.4621 790.038 32.4621 794.717 M27.4968 794.717 Q27.4968 787.078 32.4621 782.717 Q37.4273 778.357 46.212 778.357 Q54.9649 778.357 59.9619 782.717 Q64.9272 787.078 64.9272 794.717 Q64.9272 802.387 59.9619 806.748 Q54.9649 811.077 46.212 811.077 Q37.4273 811.077 32.4621 806.748 Q27.4968 802.387 27.4968 794.717 Z\" fill=\"#000000\" fill-rule=\"evenodd\" fill-opacity=\"1\" /><path clip-path=\"url(#clip400)\" d=\"M35.1993 740.895 Q31.2526 738.698 29.3747 735.643 Q27.4968 732.587 27.4968 728.45 Q27.4968 722.88 31.4117 719.856 Q35.2948 716.832 42.4881 716.832 L64.0042 716.832 L64.0042 722.721 L42.679 722.721 Q37.5546 722.721 35.072 724.535 Q32.5894 726.349 32.5894 730.073 Q32.5894 734.624 35.6131 737.266 Q38.6368 739.908 43.8567 739.908 L64.0042 739.908 L64.0042 745.796 L42.679 745.796 Q37.5228 745.796 35.072 747.61 Q32.5894 749.425 32.5894 753.212 Q32.5894 757.7 35.6449 760.342 Q38.6686 762.984 43.8567 762.984 L64.0042 762.984 L64.0042 768.872 L28.3562 768.872 L28.3562 762.984 L33.8944 762.984 Q30.616 760.978 29.0564 758.178 Q27.4968 755.377 27.4968 751.525 Q27.4968 747.642 29.4702 744.937 Q31.4436 742.2 35.1993 740.895 Z\" fill=\"#000000\" fill-rule=\"evenodd\" fill-opacity=\"1\" /><path clip-path=\"url(#clip400)\" d=\"M58.657 699.486 L77.5631 699.486 L77.5631 705.374 L28.3562 705.374 L28.3562 699.486 L33.7671 699.486 Q30.5842 697.64 29.0564 694.839 Q27.4968 692.006 27.4968 688.091 Q27.4968 681.598 32.6531 677.556 Q37.8093 673.482 46.212 673.482 Q54.6147 673.482 59.771 677.556 Q64.9272 681.598 64.9272 688.091 Q64.9272 692.006 63.3994 694.839 Q61.8398 697.64 58.657 699.486 M46.212 679.561 Q39.7508 679.561 36.0905 682.235 Q32.3984 684.876 32.3984 689.523 Q32.3984 694.17 36.0905 696.844 Q39.7508 699.486 46.212 699.486 Q52.6732 699.486 56.3653 696.844 Q60.0256 694.17 60.0256 689.523 Q60.0256 684.876 56.3653 682.235 Q52.6732 679.561 46.212 679.561 Z\" fill=\"#000000\" fill-rule=\"evenodd\" fill-opacity=\"1\" /><path clip-path=\"url(#clip400)\" d=\"M14.479 663.774 L14.479 657.918 L64.0042 657.918 L64.0042 663.774 L14.479 663.774 Z\" fill=\"#000000\" fill-rule=\"evenodd\" fill-opacity=\"1\" /><path clip-path=\"url(#clip400)\" d=\"M44.7161 615.172 L47.5806 615.172 L47.5806 642.099 Q53.6281 641.717 56.8109 638.47 Q59.9619 635.192 59.9619 629.367 Q59.9619 625.994 59.1344 622.843 Q58.3069 619.66 56.6518 616.541 L62.1899 616.541 Q63.5267 619.692 64.227 623.002 Q64.9272 626.312 64.9272 629.718 Q64.9272 638.248 59.9619 643.245 Q54.9967 648.21 46.5303 648.21 Q37.7774 648.21 32.6531 643.499 Q27.4968 638.757 27.4968 630.736 Q27.4968 623.543 32.1438 619.373 Q36.7589 615.172 44.7161 615.172 M42.9973 621.028 Q38.1912 621.092 35.3266 623.734 Q32.4621 626.344 32.4621 630.672 Q32.4621 635.574 35.2312 638.534 Q38.0002 641.462 43.0292 641.908 L42.9973 621.028 Z\" fill=\"#000000\" fill-rule=\"evenodd\" fill-opacity=\"1\" /><path clip-path=\"url(#clip400)\" d=\"M18.2347 599.767 L28.3562 599.767 L28.3562 587.704 L32.9077 587.704 L32.9077 599.767 L52.2594 599.767 Q56.6199 599.767 57.8613 598.589 Q59.1026 597.38 59.1026 593.72 L59.1026 587.704 L64.0042 587.704 L64.0042 593.72 Q64.0042 600.499 61.4897 603.077 Q58.9434 605.655 52.2594 605.655 L32.9077 605.655 L32.9077 609.952 L28.3562 609.952 L28.3562 605.655 L18.2347 605.655 L18.2347 599.767 Z\" fill=\"#000000\" fill-rule=\"evenodd\" fill-opacity=\"1\" /><path clip-path=\"url(#clip400)\" d=\"M28.3562 580.001 L28.3562 574.145 L64.0042 574.145 L64.0042 580.001 L28.3562 580.001 M14.479 580.001 L14.479 574.145 L21.895 574.145 L21.895 580.001 L14.479 580.001 Z\" fill=\"#000000\" fill-rule=\"evenodd\" fill-opacity=\"1\" /><path clip-path=\"url(#clip400)\" d=\"M32.4621 548.077 Q32.4621 552.788 36.1542 555.525 Q39.8145 558.263 46.212 558.263 Q52.6095 558.263 56.3017 555.557 Q59.9619 552.82 59.9619 548.077 Q59.9619 543.399 56.2698 540.661 Q52.5777 537.924 46.212 537.924 Q39.8781 537.924 36.186 540.661 Q32.4621 543.399 32.4621 548.077 M27.4968 548.077 Q27.4968 540.439 32.4621 536.078 Q37.4273 531.718 46.212 531.718 Q54.9649 531.718 59.9619 536.078 Q64.9272 540.439 64.9272 548.077 Q64.9272 555.748 59.9619 560.109 Q54.9649 564.437 46.212 564.437 Q37.4273 564.437 32.4621 560.109 Q27.4968 555.748 27.4968 548.077 Z\" fill=\"#000000\" fill-rule=\"evenodd\" fill-opacity=\"1\" /><path clip-path=\"url(#clip400)\" d=\"M42.4881 492.377 L64.0042 492.377 L64.0042 498.234 L42.679 498.234 Q37.6183 498.234 35.1038 500.207 Q32.5894 502.181 32.5894 506.127 Q32.5894 510.87 35.6131 513.607 Q38.6368 516.344 43.8567 516.344 L64.0042 516.344 L64.0042 522.233 L28.3562 522.233 L28.3562 516.344 L33.8944 516.344 Q30.6797 514.244 29.0883 511.411 Q27.4968 508.546 27.4968 504.822 Q27.4968 498.68 31.3163 495.529 Q35.1038 492.377 42.4881 492.377 Z\" fill=\"#000000\" fill-rule=\"evenodd\" fill-opacity=\"1\" /><path clip-path=\"url(#clip400)\" d=\"M16.4842 466.31 L16.4842 426.11 L21.895 426.11 L21.895 442.98 L64.0042 442.98 L64.0042 449.441 L21.895 449.441 L21.895 466.31 L16.4842 466.31 Z\" fill=\"#000000\" fill-rule=\"evenodd\" fill-opacity=\"1\" /><path clip-path=\"url(#clip400)\" d=\"M28.3562 422.164 L28.3562 416.307 L64.0042 416.307 L64.0042 422.164 L28.3562 422.164 M14.479 422.164 L14.479 416.307 L21.895 416.307 L21.895 422.164 L14.479 422.164 Z\" fill=\"#000000\" fill-rule=\"evenodd\" fill-opacity=\"1\" /><path clip-path=\"url(#clip400)\" d=\"M35.1993 376.299 Q31.2526 374.103 29.3747 371.047 Q27.4968 367.992 27.4968 363.854 Q27.4968 358.284 31.4117 355.26 Q35.2948 352.236 42.4881 352.236 L64.0042 352.236 L64.0042 358.125 L42.679 358.125 Q37.5546 358.125 35.072 359.939 Q32.5894 361.753 32.5894 365.477 Q32.5894 370.029 35.6131 372.67 Q38.6368 375.312 43.8567 375.312 L64.0042 375.312 L64.0042 381.2 L42.679 381.2 Q37.5228 381.2 35.072 383.015 Q32.5894 384.829 32.5894 388.616 Q32.5894 393.104 35.6449 395.746 Q38.6686 398.388 43.8567 398.388 L64.0042 398.388 L64.0042 404.276 L28.3562 404.276 L28.3562 398.388 L33.8944 398.388 Q30.616 396.383 29.0564 393.582 Q27.4968 390.781 27.4968 386.93 Q27.4968 383.046 29.4702 380.341 Q31.4436 377.604 35.1993 376.299 Z\" fill=\"#000000\" fill-rule=\"evenodd\" fill-opacity=\"1\" /><path clip-path=\"url(#clip400)\" d=\"M44.7161 310.064 L47.5806 310.064 L47.5806 336.991 Q53.6281 336.609 56.8109 333.362 Q59.9619 330.084 59.9619 324.259 Q59.9619 320.885 59.1344 317.734 Q58.3069 314.551 56.6518 311.432 L62.1899 311.432 Q63.5267 314.583 64.227 317.893 Q64.9272 321.204 64.9272 324.609 Q64.9272 333.139 59.9619 338.136 Q54.9967 343.102 46.5303 343.102 Q37.7774 343.102 32.6531 338.391 Q27.4968 333.649 27.4968 325.628 Q27.4968 318.435 32.1438 314.265 Q36.7589 310.064 44.7161 310.064 M42.9973 315.92 Q38.1912 315.984 35.3266 318.626 Q32.4621 321.235 32.4621 325.564 Q32.4621 330.466 35.2312 333.426 Q38.0002 336.354 43.0292 336.8 L42.9973 315.92 Z\" fill=\"#000000\" fill-rule=\"evenodd\" fill-opacity=\"1\" /><polyline clip-path=\"url(#clip402)\" style=\"stroke:#009af9; stroke-linecap:round; stroke-linejoin:round; stroke-width:4; stroke-opacity:1; fill:none\" points=\"\n",
       "  796.986,1274.06 802.071,663.578 \n",
       "  \"/>\n",
       "<polyline clip-path=\"url(#clip402)\" style=\"stroke:#009af9; stroke-linecap:round; stroke-linejoin:round; stroke-width:4; stroke-opacity:1; fill:none\" points=\"\n",
       "  812.24,403.946 817.325,85.838 822.41,697.387 827.495,749.271 832.579,926.808 837.664,560.271 842.749,727.901 847.833,715.036 852.918,1028.74 858.003,880.576 \n",
       "  863.088,848.086 868.172,945.962 873.257,934.627 878.342,1004.57 883.426,981.467 888.511,1056.03 893.596,971.502 898.681,1056.29 903.765,1011.84 908.85,1002.77 \n",
       "  913.935,1076.87 919.019,1063.65 924.104,1086 929.189,1075.26 934.274,1124.18 939.358,1129.46 944.443,1099.49 949.528,1169.01 954.612,1176.23 959.697,1147.81 \n",
       "  964.782,1188.59 969.867,1157.36 974.951,1179.08 980.036,1184.72 985.121,1158.38 990.205,1217.78 995.29,1185.64 1000.37,1212.6 1005.46,1236.02 1010.54,1223.22 \n",
       "  1015.63,1209.75 1020.71,1226.14 1025.8,1227.71 1030.88,1205.47 1035.97,1219.94 1041.05,1183.16 1046.14,1256.83 1051.22,1248.12 1056.31,1223.9 1061.39,1220.67 \n",
       "  1066.48,1221.85 1071.56,1250.3 1076.65,1215.89 1081.73,1246.9 1086.81,1257.9 1091.9,1249.53 1096.98,1251.7 1102.07,1256.99 1107.15,1230.97 1112.24,1257.13 \n",
       "  1117.32,1268.16 1122.41,1269.97 1127.49,1244.12 1132.58,1228.13 1137.66,1251.68 1142.75,1255.92 1147.83,1241.83 1152.92,1248.66 1158,1251.63 1163.09,1252.05 \n",
       "  1168.17,1251.87 1173.26,1266.79 1178.34,1265.6 1183.42,1279.73 1188.51,1270.23 1193.59,1272.38 1198.68,1281.95 1203.76,1281.53 1208.85,1283.28 1213.93,1262.27 \n",
       "  1219.02,1279.89 1224.1,1265.6 1229.19,1255.3 1234.27,1251.09 1239.36,1259.04 1244.44,1242.7 1249.53,1251.12 1254.61,1277.28 1259.7,1289.92 1264.78,1282.72 \n",
       "  1269.86,1274.65 1274.95,1267.68 1280.03,1281.38 1285.12,1294.07 1290.2,1274.32 1295.29,1282.69 1300.37,1277.71 1305.46,1268.38 1310.54,1274.34 1315.63,1291.13 \n",
       "  1320.71,1265.18 1325.8,1254.18 1330.88,1274.67 1335.97,1261.95 1341.05,1230.84 1346.14,1291.28 1351.22,1291.4 1356.3,1268.52 1361.39,1298.41 1366.47,1300.68 \n",
       "  1371.56,1291.91 1376.64,1274.42 1381.73,1285.81 1386.81,1259.49 1391.9,1279.58 1396.98,1280.87 1402.07,1260.01 1407.15,1239.77 1412.24,1253.04 1417.32,1296.28 \n",
       "  1422.41,1267.63 1427.49,1253.06 1432.58,1275.9 1437.66,1257.6 1442.74,1284.52 1447.83,1296.54 1452.91,1275.94 1458,1272.68 1463.08,1250.25 1468.17,1261.11 \n",
       "  1473.25,1255.05 1478.34,1276.87 1483.42,1282.86 1488.51,1288.26 1493.59,1279.87 1498.68,1284.24 1503.76,1270.33 1508.85,1279.44 1513.93,1309.06 1519.02,1304.47 \n",
       "  1524.1,1289.1 1529.18,1271.68 1534.27,1269.99 1539.35,1247.45 1544.44,1279.26 1549.52,1287.93 1554.61,1297.41 1559.69,1293.34 1564.78,1294.46 1569.86,1305.48 \n",
       "  1574.95,1307.14 1580.03,1284.1 1585.12,1267.75 1590.2,1287.25 1595.29,1290.57 1600.37,1291.63 1605.46,1284.93 1610.54,1299.97 1615.63,1286.8 1620.71,1283.68 \n",
       "  1625.79,1299.16 1630.88,1303.91 1635.96,1284.05 1641.05,1281.07 1646.13,1271.58 1651.22,1290.85 1656.3,1281.05 1661.39,1295.53 1666.47,1303.24 1671.56,1314.43 \n",
       "  1676.64,1287.67 1681.73,1289.55 1686.81,1310.18 1691.9,1286.43 1696.98,1288 1702.07,1289.81 1707.15,1288.97 1712.23,1303.28 1717.32,1286.88 1722.4,1260.45 \n",
       "  1727.49,1273.24 1732.57,1309.66 1737.66,1296.05 1742.74,1294.55 1747.83,1296.66 1752.91,1287.37 1758,1294.6 1763.08,1289.67 1768.17,1303.25 1773.25,1312.94 \n",
       "  1778.34,1294.86 1783.42,1273.17 1788.51,1277.36 1793.59,1275.36 1798.67,1264.71 1803.76,1264.29 1808.84,1264.38 1813.93,1261.04 1819.01,1274.58 1824.1,1254.65 \n",
       "  1829.18,1289.62 1834.27,1276.52 1839.35,1267.98 1844.44,1267.54 1849.52,1283.61 1854.61,1273.67 1859.69,1279.98 1864.78,1280.99 1869.86,1284.29 1874.95,1273.53 \n",
       "  1880.03,1258.55 1885.11,1253.85 1890.2,1267.96 1895.28,1250.88 1900.37,1266.13 1905.45,1259.79 1910.54,1291.53 1915.62,1274.56 1920.71,1284.89 1925.79,1298.18 \n",
       "  1930.88,1302.69 1935.96,1274.53 1941.05,1286.1 1946.13,1282.91 1951.22,1282.95 1956.3,1269.5 1961.39,1301.24 1966.47,1291.68 1971.55,1299.75 1976.64,1254.58 \n",
       "  1981.72,1270.32 1986.81,1280.19 1991.89,1266.04 1996.98,1259.94 2002.06,1241.95 2007.15,1279.75 2012.23,1287.93 2017.32,1288.26 2022.4,1275.91 2027.49,1263.35 \n",
       "  2032.57,1291.83 2037.66,1296.7 2042.74,1285.55 2047.83,1271.35 2052.91,1285.68 2058,1288.17 2063.08,1269.13 2068.16,1281.48 2073.25,1262.15 2078.33,1260.66 \n",
       "  2083.42,1278.27 2088.5,1285.81 2093.59,1285.74 2098.67,1302.2 2103.76,1300.6 2108.84,1291.65 2113.93,1289.64 2119.01,1264.59 2124.1,1290.9 2129.18,1287.65 \n",
       "  2134.27,1284.97 2139.35,1292.47 2144.44,1279.79 2149.52,1279.16 2154.6,1269.55 2159.69,1269.22 2164.77,1267.44 2169.86,1271.21 2174.94,1265.32 2180.03,1285.55 \n",
       "  2185.11,1279.02 2190.2,1265.25 2195.28,1274.86 2200.37,1250.63 2205.45,1255.33 2210.54,1262.16 2215.62,1276.87 2220.71,1283.8 2225.79,1260.29 2230.88,1283.56 \n",
       "  2235.96,1235.34 2241.04,1248.19 2246.13,1271.96 2251.21,1273.99 2256.3,1258.3 2261.38,1270.93 2266.47,1254.49 2271.55,1266.81 2276.64,1256.32 2281.72,1246.88 \n",
       "  2286.81,1262.35 2291.89,1263.86 \n",
       "  \"/>\n",
       "</svg>\n"
      ]
     },
     "execution_count": 48,
     "metadata": {},
     "output_type": "execute_result"
    }
   ],
   "source": [
    "plot(iterations, avg_compl_time, xlabel=\"Iterations\", ylabel=\"Average Completion Time\", legend = false, xformatter = :scientific)"
   ]
  },
  {
   "cell_type": "code",
   "execution_count": 49,
   "id": "4739f3dc",
   "metadata": {},
   "outputs": [
    {
     "data": {
      "text/plain": [
       "\"/home/larissa/Documents/Projects/ADLR/ADLR_project/src/RL_PPO_quadcopter_3D/plots/slow/avg_comp_time.svg\""
      ]
     },
     "execution_count": 49,
     "metadata": {},
     "output_type": "execute_result"
    }
   ],
   "source": [
    "savefig(fig_path * \"avg_comp_time.svg\")"
   ]
  },
  {
   "cell_type": "markdown",
   "id": "ed305f8e",
   "metadata": {},
   "source": [
    "# Create Videos"
   ]
  },
  {
   "cell_type": "code",
   "execution_count": 50,
   "id": "1f30d98a",
   "metadata": {},
   "outputs": [
    {
     "name": "stderr",
     "output_type": "stream",
     "text": [
      "\u001b[36m\u001b[1m┌ \u001b[22m\u001b[39m\u001b[36m\u001b[1mInfo: \u001b[22m\u001b[39mMeshCat server started. You can open the visualizer by visiting the following URL in your browser:\n",
      "\u001b[36m\u001b[1m└ \u001b[22m\u001b[39mhttp://127.0.0.1:8700\n"
     ]
    }
   ],
   "source": [
    "create_visualization();"
   ]
  },
  {
   "cell_type": "code",
   "execution_count": 51,
   "id": "260d79dd",
   "metadata": {},
   "outputs": [],
   "source": [
    "if VIDEO  \n",
    "  # TODO: load_model as desired\n",
    "    vid_env = VtolEnv(;name = \"testVTOL\", visualization = true, realtime = true);\n",
    "\n",
    "    if SLOW_MODE\n",
    "        path = \"./RL_models_slow/\"\n",
    "        load_model = 30_000_000\n",
    "        println(\"slow mode\")\n",
    "    else\n",
    "        path = \"./RL_models_fast/\"\n",
    "        load_model = 1_250_000\n",
    "        println(\"fast mode\")\n",
    "    end\n",
    "    agent.policy.approximator = loadModel(path,load_model); \n",
    "    RLBase.reset!(vid_env)\n",
    "    run(agent.policy, vid_env, StopAfterEpisode(2))\n",
    "end;"
   ]
  },
  {
   "cell_type": "code",
   "execution_count": 52,
   "id": "1bebf7cc",
   "metadata": {},
   "outputs": [],
   "source": [
    "close_visualization();"
   ]
  },
  {
   "cell_type": "markdown",
   "id": "57443b44",
   "metadata": {},
   "source": [
    "done"
   ]
  }
 ],
 "metadata": {
  "@webio": {
   "lastCommId": null,
   "lastKernelId": null
  },
  "kernelspec": {
   "display_name": "Julia 1.8.0",
   "language": "julia",
   "name": "julia-1.8"
  },
  "language_info": {
   "file_extension": ".jl",
   "mimetype": "application/julia",
   "name": "julia",
   "version": "1.8.0"
  }
 },
 "nbformat": 4,
 "nbformat_minor": 5
}
