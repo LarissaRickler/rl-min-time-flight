{
 "cells": [
  {
   "cell_type": "code",
   "execution_count": 1,
   "id": "285d18fd",
   "metadata": {},
   "outputs": [],
   "source": [
    "using Pkg\n",
    "if isfile(\"Project.toml\") && isfile(\"Manifest.toml\")\n",
    "    Pkg.activate(\".\")\n",
    "end"
   ]
  },
  {
   "cell_type": "markdown",
   "id": "0649b76a",
   "metadata": {},
   "source": [
    "# Init Bionic VTOL"
   ]
  },
  {
   "cell_type": "code",
   "execution_count": 2,
   "id": "96751412",
   "metadata": {},
   "outputs": [],
   "source": [
    "include(\"../Flyonic.jl\");\n",
    "using .Flyonic;\n",
    "\n",
    "using Rotations; # used for initial position\n",
    "\n",
    "using ReinforcementLearning;\n",
    "using StableRNGs;\n",
    "using Flux;\n",
    "using Flux.Losses;\n",
    "using Random;\n",
    "using IntervalSets;\n",
    "using LinearAlgebra;\n",
    "using Distributions;\n",
    "\n",
    "using Plots;\n",
    "using Statistics;\n",
    "\n",
    "using TensorBoardLogger\n",
    "using Logging\n",
    "\n",
    "\n",
    "using JLD;\n",
    "using BSON: @save, @load # save mode"
   ]
  },
  {
   "cell_type": "code",
   "execution_count": 3,
   "id": "d435a5d6",
   "metadata": {},
   "outputs": [],
   "source": [
    "# TODO: set as desired\n",
    "R_TOL = 0.5;\n",
    "N_WAYPOINTS = 4; # including startpoint, >= 2\n",
    "SLOW_MODE = true;\n",
    "TRAINING = false;\n",
    "EVALUATION = true;\n",
    "VIDEO = false;"
   ]
  },
  {
   "cell_type": "code",
   "execution_count": 4,
   "id": "f7e4ee64",
   "metadata": {},
   "outputs": [
    {
     "name": "stderr",
     "output_type": "stream",
     "text": [
      "\u001b[36m\u001b[1m┌ \u001b[22m\u001b[39m\u001b[36m\u001b[1mInfo: \u001b[22m\u001b[39mMeshCat server started. You can open the visualizer by visiting the following URL in your browser:\n",
      "\u001b[36m\u001b[1m└ \u001b[22m\u001b[39mhttp://10.183.60.226:8701\n"
     ]
    }
   ],
   "source": [
    "create_remote_visualization();"
   ]
  },
  {
   "cell_type": "code",
   "execution_count": 5,
   "id": "e19cce80",
   "metadata": {},
   "outputs": [],
   "source": [
    "# TensorBoard\n",
    "if TRAINING\n",
    "    logger = TBLogger(\"tensorboard_PPO\", tb_increment)\n",
    "end"
   ]
  },
  {
   "cell_type": "code",
   "execution_count": 6,
   "id": "7d9557df",
   "metadata": {},
   "outputs": [
    {
     "data": {
      "text/plain": [
       "1"
      ]
     },
     "execution_count": 6,
     "metadata": {},
     "output_type": "execute_result"
    }
   ],
   "source": [
    "# indicates how many threads Julia was started with. This is important for the multi-threaded environment\n",
    "Threads.nthreads()"
   ]
  },
  {
   "cell_type": "code",
   "execution_count": 7,
   "id": "10d945ff",
   "metadata": {},
   "outputs": [],
   "source": [
    "Δt = 0.025;"
   ]
  },
  {
   "cell_type": "markdown",
   "id": "5411db62",
   "metadata": {},
   "source": [
    "# Create Reinforcement Learning Environment"
   ]
  },
  {
   "cell_type": "code",
   "execution_count": 8,
   "id": "96af6ee0",
   "metadata": {},
   "outputs": [],
   "source": [
    "mutable struct VtolEnv{A,T,ACT,R<:AbstractRNG} <: AbstractEnv # Parametric Constructor for a subtype of AbstractEnv\n",
    "    action_space::A # All possible actions the agent can take\n",
    "    observation_space::Space{Vector{ClosedInterval{T}}} # All possible states that the agent can observe.\n",
    "    state::Vector{T} # Current state\n",
    "    action::ACT # next action the agent wants to apply in the environment.\n",
    "    done::Bool # shows whether a terminal condition has been reached.\n",
    "    t::T # time\n",
    "    rng::R # random number generator\n",
    "\n",
    "    name::String # for different naming of multible environoments\n",
    "    visualization::Bool # activate visualisation (Faster computation without visualisation)\n",
    "    realtime::Bool # visualization in \"real-world\" time (only for watching or filming).\n",
    "    \n",
    "    # Overall state of the environment. This does not correspond to the observation space of the agent but contains all states that describe the environment.\n",
    "    x_W::Vector{T} # Position in World frame\n",
    "    v_B::Vector{T} # Velocity in Body frame\n",
    "    R_W::Matrix{T} # Rotation (matrix) in World frame\n",
    "    ω_B::Vector{T} # Rotation velocity in Body frame\n",
    "    wind_W::Vector{T} # Externel linear velocity acting on the drone\n",
    "    Δt::T # Time step for physics simulation in seconds\n",
    "\n",
    "    ###NEW###\n",
    "    # Current Bonus / Target\n",
    "    num_waypoints::Int # includig start point\n",
    "    waypoints::Vector{Vector{T}}\n",
    "    reached_goal::BitVector\n",
    "    \n",
    "    norm_way::T\n",
    "    progress::T\n",
    "    progress_prev::T\n",
    "    current_point::Int\n",
    "    reached_goal_in_step::Bool\n",
    "    \n",
    "    r_tol::T\n",
    "    projected_position::Vector{T}\n",
    "\n",
    "    slow_mode::Bool\n",
    "    ######\n",
    "end"
   ]
  },
  {
   "cell_type": "code",
   "execution_count": 9,
   "id": "14a6873d",
   "metadata": {},
   "outputs": [],
   "source": [
    "# define a keyword-based constructor for the type declared in the mutable struct typedef. \n",
    "# It could also be done with the macro Base.@kwdef.\n",
    "function VtolEnv(;\n",
    "    rng = Random.GLOBAL_RNG, # Random number generation\n",
    "    name = \"Crazyflie\",\n",
    "    visualization = false,\n",
    "    realtime = false,\n",
    "    kwargs... # let the function take an arbitrary number of keyword arguments\n",
    ")\n",
    "    \n",
    "    T = Float64; # explicit type which is used e.g. in state. Cannot be altered due to the poor matrix defininon.\n",
    "    \n",
    "    # final PWM Values for Crazyflie. The interval definition has no effect in the current implementation.\n",
    "    action_space = Space(\n",
    "        ClosedInterval{T}[\n",
    "            0..1#0..65535, # motor 1\n",
    "            0..1#0..65535, # motor 2\n",
    "            0..1#0..65535, # motor 3\n",
    "            0..1#0..65535, # motor 4\n",
    "            ], \n",
    "    )\n",
    "\n",
    "    \n",
    "    state_space = Space( # Three continuous values in state space.\n",
    "        ClosedInterval{T}[#todo\n",
    "            typemin(T)..typemax(T), # 1 x\n",
    "            typemin(T)..typemax(T), # 2 y\n",
    "            typemin(T)..typemax(T), # 3 z\n",
    "\n",
    "            typemin(T)..typemax(T), # 4  World Vector UP x\n",
    "            typemin(T)..typemax(T), # 5  World Vector UP y\n",
    "            typemin(T)..typemax(T), # 6  World Vector UP z\n",
    "\n",
    "            typemin(T)..typemax(T), # 7  World Vector FRONT x\n",
    "            typemin(T)..typemax(T), # 8  World Vector FRONT y\n",
    "            typemin(T)..typemax(T), # 9  World Vector FRONT z\n",
    "            \n",
    "            typemin(T)..typemax(T), # 10 Body velocity along x\n",
    "            typemin(T)..typemax(T), # 11 Body velocity along y\n",
    "            typemin(T)..typemax(T), # 12 Body velocity along z\n",
    "            \n",
    "            typemin(T)..typemax(T), # 13 Body rotational velocity around x\n",
    "            typemin(T)..typemax(T), # 14 Body rotational velocity around y\n",
    "            typemin(T)..typemax(T), # 15 Body rotational velocity around z\n",
    "            \n",
    "            ###NEW###\n",
    "            typemin(T)..typemax(T), # 16 position error along x (next gate - current position)\n",
    "            typemin(T)..typemax(T), # 17 position error along y (next gate - current position)\n",
    "            typemin(T)..typemax(T), # 18 position error along z (next gate - current position)\n",
    "            \n",
    "            typemin(T)..typemax(T), # 19 way to next next gate x (next next gate - next gate)\n",
    "            typemin(T)..typemax(T), # 20 way to next next gate y (next next gate - next gate)\n",
    "            typemin(T)..typemax(T), # 21 way to next next gate z (next next gate - next gate)\n",
    "            ######\n",
    "            ], \n",
    "    )\n",
    "\n",
    "    ###NEW###\n",
    "    num_waypoints = N_WAYPOINTS # number of waypoints, includig start point\n",
    "    waypoints = generate_trajectory(num_waypoints + 1) # trajectory with num_waypoints waypoints (+ start point), (with dummy points) \n",
    "    reached_goal = falses(num_waypoints)\n",
    "    \n",
    "    norm_way = 0.0 \n",
    "    for i in 1:(num_waypoints - 1)\n",
    "        norm_way += norm(waypoints[i] - waypoints[i + 1])\n",
    "    end\n",
    "    ######\n",
    "    \n",
    "    if visualization\n",
    "        create_Crazyflie(name, actuators = true);\n",
    "        visualize_waypoints(waypoints[1:num_waypoints], 0.05)\n",
    "\n",
    "        set_Crazyflie_actuators(name, [0.0; 0.0; 0.0; 0.0]);\n",
    "        set_transform(name, [0.0; 0.0; 0.0] ,one(QuatRotation));\n",
    "        set_arrow(string(name, \"vel\"), color_vec=[0.0; 1.0; 0.0; 1.0]);\n",
    "        transform_arrow(string(name, \"vel\"), [0.0; 0.0; 0.0], [0.0; 0.0; 1.0], max_head_radius=0.05)\n",
    "#         set_arrow(string(name, \"_vel_current\"), color_vec=[1.0; 0.0; 0.0; 1.0]);\n",
    "#         transform_arrow(string(name, \"_vel_current\"), [0.0; 0.0; 0.0], [0.0; 0.0; 1.0], max_head_radius=0.02)                  \n",
    "    end\n",
    "    \n",
    "\n",
    "\n",
    "    environment = VtolEnv(\n",
    "        action_space,\n",
    "        state_space,\n",
    "        zeros(T, length(state_space)), # current state, needs to be extended.\n",
    "        [0.25; 0.25; 0.25; 0.25],#rand(action_space), #todo test with random\n",
    "        false, # episode done ?\n",
    "        0.0, # time\n",
    "        rng, # random number generator  \n",
    "\n",
    "        name,\n",
    "        visualization,\n",
    "        realtime,\n",
    "\n",
    "        zeros(T, 3), # x_W\n",
    "        zeros(T, 3), # v_B\n",
    "        Matrix(one(QuatRotation)), # Float64... so T needs to be Float64\n",
    "        zeros(T, 3), # ω_B\n",
    "        zeros(T, 3), # wind_W\n",
    "        Δt, # Δt\n",
    "\n",
    "        num_waypoints, # includig start point\n",
    "        waypoints, \n",
    "        reached_goal,\n",
    "\n",
    "        norm_way, # norm_way\n",
    "        0.0, # progress\n",
    "        0.0, # progress_prev\n",
    "        2, # current point\n",
    "        false, # reached_goal_in_step\n",
    "        \n",
    "        R_TOL, # r_tol\n",
    "        zeros(T, 3), # projected_position\n",
    "\n",
    "        SLOW_MODE # slow_mode\n",
    "\n",
    "        )\n",
    "    \n",
    "    \n",
    "    RLBase.reset!(environment)\n",
    "    \n",
    "    return environment\n",
    "    \n",
    "end;"
   ]
  },
  {
   "cell_type": "markdown",
   "id": "ec660d5e",
   "metadata": {},
   "source": [
    "Just for explanation:\n",
    "\n",
    "1. A mutable Struct is created. A struct is a constructor and a constructor is a function that creates new objects.\n",
    "2. A outer keyword-based constructor method is added for the type declared in the mutable struct typedef before.\n",
    "\n",
    "So now we have a function with two methods. Julia will decide which method to call by multiple dispatch."
   ]
  },
  {
   "cell_type": "code",
   "execution_count": 10,
   "id": "23dd4047",
   "metadata": {},
   "outputs": [
    {
     "data": {
      "text/html": [
       "# 2 methods for type constructor:<ul><li> VtolEnv(; <i>rng, name, visualization, realtime, kwargs...</i>) in Main at In[9]:3</li> <li> VtolEnv(action_space::<b>A</b>, observation_space::<b>Space{Array{ClosedInterval{T}, 1}}</b>, state::<b>Vector{T}</b>, action::<b>ACT</b>, done::<b>Bool</b>, t::<b>T</b>, rng::<b>R</b>, name::<b>String</b>, visualization::<b>Bool</b>, realtime::<b>Bool</b>, x_W::<b>Vector{T}</b>, v_B::<b>Vector{T}</b>, R_W::<b>Matrix{T}</b>, ω_B::<b>Vector{T}</b>, wind_W::<b>Vector{T}</b>, Δt::<b>T</b>, num_waypoints::<b>Int64</b>, waypoints::<b>Array{Vector{T}, 1}</b>, reached_goal::<b>BitVector</b>, norm_way::<b>T</b>, progress::<b>T</b>, progress_prev::<b>T</b>, current_point::<b>Int64</b>, reached_goal_in_step::<b>Bool</b>, r_tol::<b>T</b>, projected_position::<b>Vector{T}</b>, slow_mode::<b>Bool</b>)<i> where {A, T, ACT, R<:AbstractRNG}</i> in Main at In[8]:2</li> </ul>"
      ],
      "text/plain": [
       "# 2 methods for type constructor:\n",
       "[1] VtolEnv(; rng, name, visualization, realtime, kwargs...) in Main at In[9]:3\n",
       "[2] VtolEnv(action_space::A, observation_space::Space{Array{ClosedInterval{T}, 1}}, state::Vector{T}, action::ACT, done::Bool, t::T, rng::R, name::String, visualization::Bool, realtime::Bool, x_W::Vector{T}, v_B::Vector{T}, R_W::Matrix{T}, ω_B::Vector{T}, wind_W::Vector{T}, Δt::T, num_waypoints::Int64, waypoints::Array{Vector{T}, 1}, reached_goal::BitVector, norm_way::T, progress::T, progress_prev::T, current_point::Int64, reached_goal_in_step::Bool, r_tol::T, projected_position::Vector{T}, slow_mode::Bool) where {A, T, ACT, R<:AbstractRNG} in Main at In[8]:2"
      ]
     },
     "execution_count": 10,
     "metadata": {},
     "output_type": "execute_result"
    }
   ],
   "source": [
    "methods(VtolEnv)"
   ]
  },
  {
   "cell_type": "markdown",
   "id": "806413d1",
   "metadata": {},
   "source": [
    "# Define the RL interface"
   ]
  },
  {
   "cell_type": "code",
   "execution_count": 11,
   "id": "0f822029",
   "metadata": {},
   "outputs": [],
   "source": [
    "Random.seed!(env::VtolEnv, seed) = Random.seed!(env.rng, seed)\n",
    "RLBase.action_space(env::VtolEnv) = env.action_space\n",
    "RLBase.state_space(env::VtolEnv) = env.observation_space\n",
    "RLBase.is_terminated(env::VtolEnv) = env.done\n",
    "RLBase.state(env::VtolEnv) = env.state"
   ]
  },
  {
   "cell_type": "code",
   "execution_count": 12,
   "id": "b5e32e25",
   "metadata": {},
   "outputs": [],
   "source": [
    "function scale_for_slowmode(slow_mode::Bool, v_min::T, v_max::T, d_max::T, x_W::Vector{T}, projected_position::Vector{T}, v_B::Vector{T}) where T\n",
    "    \n",
    "    if slow_mode == false\n",
    "        return 1\n",
    "    else\n",
    "        if norm(v_B) > v_max\n",
    "            s_vmax = 10^(v_max - norm(v_B))\n",
    "        else\n",
    "            s_vmax = 1\n",
    "        end\n",
    "\n",
    "        if norm(v_B) < v_min\n",
    "            s_vmin = 10^(norm(v_B) - v_min)\n",
    "        else\n",
    "            s_vmin = 1\n",
    "        end\n",
    "\n",
    "        if norm(x_W - projected_position) > d_max\n",
    "            s_gd = exp(-norm(x_W - projected_position) + d_max)\n",
    "        else\n",
    "            s_gd = 1\n",
    "        end\n",
    "        s = s_vmax * s_vmin * s_gd\n",
    "    end\n",
    "    return s\n",
    "end;"
   ]
  },
  {
   "cell_type": "code",
   "execution_count": 13,
   "id": "1f7fb89c",
   "metadata": {},
   "outputs": [],
   "source": [
    "function computeReward(env::VtolEnv{A,T}) where {A,T}\n",
    "    \n",
    "    \n",
    "    if env.slow_mode\n",
    "        v_min = 1.0 # min velocity\n",
    "        v_max = 3.0 # max velocity\n",
    "        d_max = 0.5 \n",
    "    else\n",
    "        v_min = 4.0 # min velocity\n",
    "        v_max = 50.0 # max velocity\n",
    "        d_max = 1.0 \n",
    "    end\n",
    "\n",
    "\n",
    "    s = scale_for_slowmode(true, v_min, v_max, d_max, env.x_W, env.projected_position, env.v_B)\n",
    "    \n",
    "    # TODO: test norming\n",
    "    k_p = 5.0 * s #/ env.norm_way # factor for progress (between current position and last position) reward \n",
    "    r_p = (env.progress - env.progress_prev); # reward for progress (between current position and last position)\n",
    "\n",
    "    k_s = s * (2 * v_max * env.Δt) / env.norm_way # factor for reached distance (overall) reward\n",
    "    r_s = env.progress # reward for reached distance (overall)\n",
    "    \n",
    "    k_wp = 50.0 # factor for reached gate reward\n",
    "    r_wp = 0.0 # reward for reached gate\n",
    "    if env.reached_goal_in_step\n",
    "        r_wp = exp(-norm(env.x_W - env.waypoints[env.current_point - 1])/env.r_tol)\n",
    "    end \n",
    "\n",
    "    # factor for too high body rate penalty\n",
    "    if env.slow_mode\n",
    "        k_ω = 0.01\n",
    "    else\n",
    "        k_ω = 0.001\n",
    "    end\n",
    "    #norm_ω = norm(env.ω_B[3]) # penalty for body rate\n",
    "    norm_ω = norm(env.ω_B) # penalty for body rate\n",
    "\n",
    "    if env.x_W[3] < 0\n",
    "        fall = 1\n",
    "    else\n",
    "        fall = 0\n",
    "    end\n",
    "    \n",
    "    if !env.slow_mode\n",
    "        k_s /= env.norm_way\n",
    "        k_p /= env.norm_way\n",
    "    end\n",
    "    \n",
    "    return k_p * r_p + k_s * r_s + k_wp * r_wp - k_ω * norm_ω - fall\n",
    "    \n",
    "end\n",
    "\n",
    "\n",
    "RLBase.reward(env::VtolEnv{A,T}) where {A,T} = computeReward(env)"
   ]
  },
  {
   "cell_type": "code",
   "execution_count": 14,
   "id": "ae45ec04",
   "metadata": {},
   "outputs": [],
   "source": [
    "function RLBase.reset!(env::VtolEnv{A,T}) where {A,T}\n",
    "    \n",
    "    env.x_W = [0.0; 0.0; 0.0];\n",
    "    env.v_B = [0.0; 0.0; 0.0];\n",
    "    env.R_W = Matrix(one(QuatRotation)); # Identity matrix (no rotation)\n",
    "    env.ω_B = [0.0; 0.0; 0.0];\n",
    "    env.wind_W = [0.0; 0.0; 0.0];\n",
    "\n",
    "\n",
    "    env.waypoints = generate_trajectory(env.num_waypoints + 1); # Dummy points\n",
    "    env.reached_goal = falses(env.num_waypoints);\n",
    "    env.reached_goal[1] = true; # set first point to reached (start point)\n",
    "    \n",
    "    env.current_point = 2;\n",
    "    env.reached_goal_in_step = false;\n",
    "    #env.r_tol = 0.3;\n",
    "    \n",
    "    if env.visualization\n",
    "        visualize_waypoints(env.waypoints[1:env.num_waypoints], 0.05); \n",
    "    end\n",
    "    \n",
    "    norm_way = 0.0 \n",
    "    for i in 1:(env.num_waypoints - 1)\n",
    "        norm_way += norm(env.waypoints[i] - env.waypoints[i + 1])\n",
    "    end\n",
    "    \n",
    "    env.norm_way = norm_way\n",
    "    env.progress = 0.0;\n",
    "    env.progress_prev = 0.0;\n",
    "        \n",
    " #todo\n",
    "    env.state = [env.x_W[1]; # 1 position along x\n",
    "                 env.x_W[2]; # 2 position along y\n",
    "                 env.x_W[3]; # 3 position along z\n",
    "#todo right R_W?\n",
    "                 env.R_W[1,1];\n",
    "                 env.R_W[2,1];\n",
    "                 env.R_W[3,1];\n",
    "        \n",
    "                 env.R_W[1,3]; # 4  World Vector UP x\n",
    "                 env.R_W[2,3]; # 5  World Vector UP y\n",
    "                 env.R_W[3,3]; # 6  World Vector UP z\n",
    "\n",
    "#                  env.R_W[1,1]; # 7  World Vector FRONT x\n",
    "#                  env.R_W[2,1]; # 8  World Vector FRONT y\n",
    "#                  env.R_W[3,1]; # 9  World Vector FRONT z\n",
    "\n",
    "                 env.v_B[1]; #  10 Body velocity along x\n",
    "                 env.v_B[2]; #  11 Body velocity along y\n",
    "                 env.v_B[3]; #  12 Body velocity along z\n",
    "\n",
    "                 env.ω_B[1]; #  13  Body rotational velocity around x\n",
    "                 env.ω_B[2]; #  14  Body rotational velocity around y\n",
    "                 env.ω_B[3]; #  15  Body rotational velocity around z\n",
    "\n",
    "                 env.waypoints[2][1] - env.x_W[1]; # 16 position error to next gate along x\n",
    "                 env.waypoints[2][2] - env.x_W[2]; # 17 position error to next gate along z\n",
    "                 env.waypoints[2][3] - env.x_W[3]; # 18 position error to next gate along z\n",
    "                 \n",
    "                 env.waypoints[3][1] - env.waypoints[2][1]; # 19 way to next next gate x \n",
    "                 env.waypoints[3][2] - env.waypoints[2][2]; # 20 way to next next gate y\n",
    "                 env.waypoints[3][3] - env.waypoints[2][3]]  # 21 way to next next gate z \n",
    "    \n",
    "\n",
    "    env.t = 0.0; # time 0s\n",
    "    env.action = [0.25; 0.25; 0.25; 0.25] # normalized # todo try with 0.0\n",
    "    #env.last_action = [0.255; 0.255; 0.255; 0.255] # normalized\n",
    "    #env.current_action = [0.255; 0.255; 0.255; 0.255] # normalized\n",
    "\n",
    "    env.done = false # reset termination\n",
    "\n",
    "    env.projected_position = [0; 0; 0]\n",
    "    \n",
    "    if env.visualization\n",
    "        # Visualize initial state\n",
    "        set_transform(env.name, env.x_W,QuatRotation(env.R_W));\n",
    "        set_Crazyflie_actuators(env.name, [0.0; 0.0; 0.0; 0.0]);\n",
    "        #transform_arrow(string(env.name, \"_vel\"), env.x_W, env.v_W_target, max_head_radius=0.05) \n",
    "        transform_arrow(string(env.name, \"vel\"), env.x_W, [0.0; 0.0; 0.0], max_head_radius=0.05) \n",
    "    end\n",
    "    \n",
    "    nothing # return nothing\n",
    "end;"
   ]
  },
  {
   "cell_type": "code",
   "execution_count": 15,
   "id": "1cf1a7b7",
   "metadata": {},
   "outputs": [],
   "source": [
    "# defines a methods for a callable object.\n",
    "# So when a VtolEnv object is created, it has this method that can be called\n",
    "function (env::VtolEnv)(a)\n",
    "\n",
    "\n",
    "    # call the step on the environoment with the next action \n",
    "    _step!(env, a)\n",
    "        \n",
    "end"
   ]
  },
  {
   "cell_type": "code",
   "execution_count": 16,
   "id": "26a5a0da",
   "metadata": {},
   "outputs": [],
   "source": [
    "env = VtolEnv();"
   ]
  },
  {
   "cell_type": "code",
   "execution_count": 17,
   "id": "ff8f68a7",
   "metadata": {},
   "outputs": [
    {
     "data": {
      "text/html": [
       "# 3 methods for callable object:<ul><li> (env::<b>VtolEnv</b>)(a) in Main at In[15]:3</li> <li> (env::<b>AbstractEnv</b>)(action) in ReinforcementLearningBase</li> <li> (env::<b>AbstractEnv</b>)(action, player) in ReinforcementLearningBase</li> </ul>"
      ],
      "text/plain": [
       "# 3 methods for callable object:\n",
       "[1] (env::VtolEnv)(a) in Main at In[15]:3\n",
       "[2] (env::AbstractEnv)(action) in ReinforcementLearningBase\n",
       "[3] (env::AbstractEnv)(action, player) in ReinforcementLearningBase"
      ]
     },
     "execution_count": 17,
     "metadata": {},
     "output_type": "execute_result"
    }
   ],
   "source": [
    "methods(env) # Just to explain which methods the object has"
   ]
  },
  {
   "cell_type": "code",
   "execution_count": 18,
   "id": "d4d67302",
   "metadata": {},
   "outputs": [
    {
     "data": {
      "text/plain": [
       "scale_actions (generic function with 1 method)"
      ]
     },
     "execution_count": 18,
     "metadata": {},
     "output_type": "execute_result"
    }
   ],
   "source": [
    "function scale_actions(next_action)\n",
    "    return next_action*22000.0\n",
    "end"
   ]
  },
  {
   "cell_type": "code",
   "execution_count": 19,
   "id": "9e7d4727",
   "metadata": {},
   "outputs": [],
   "source": [
    "function _step!(env::VtolEnv, next_action)\n",
    "    \n",
    "\n",
    "    #env.last_action = copy(env.current_action)\n",
    "    #env.current_action[1] = next_action[1]\n",
    "    #env.current_action[2] = next_action[2]\n",
    "    #env.current_action[3] = next_action[3]\n",
    "    #env.current_action[4] = next_action[4]\n",
    "    \n",
    "    \n",
    "    \n",
    "    scaled_actions = scale_actions.(next_action) # between 0 and 1 for neual network\n",
    "    # caluclate wind impact\n",
    "    v_in_wind_B = vtol_add_wind(env.v_B, env.R_W, env.wind_W)\n",
    "    # caluclate aerodynamic forces\n",
    "    torque_B, force_B = crazyflie_model(scaled_actions);\n",
    "    # integrate rigid body dynamics for Δt\n",
    "    env.x_W, env.v_B, env.R_W, env.ω_B, env.t = rigid_body_simple(torque_B, force_B, env.x_W, env.v_B, env.R_W, env.ω_B, env.t, env.Δt, crazyflie_param)\n",
    "\n",
    "    \n",
    "    env.reached_goal_in_step = false;\n",
    "    if norm(env.x_W - env.waypoints[env.current_point]) < env.r_tol\n",
    "        env.reached_goal_in_step = true;\n",
    "        env.reached_goal[env.current_point] = true;\n",
    "        env.current_point += 1;\n",
    "    end\n",
    "        \n",
    "            \n",
    "    # calculate progress on trajectory\n",
    "    env.progress_prev = env.progress\n",
    "    \n",
    "    current_progress = 0.0\n",
    "    line_segment, env.projected_position = calculate_progress(env.waypoints, env.x_W)\n",
    "    \n",
    "    #env.current_point = line_segment + 1\n",
    "\n",
    "    for i in 2:(line_segment)\n",
    "       current_progress +=  norm(env.waypoints[i] - env.waypoints[i - 1])  \n",
    "    end\n",
    "    current_progress += norm(env.waypoints[line_segment] - env.projected_position)\n",
    "    \n",
    "    env.progress = current_progress\n",
    "    \n",
    "\n",
    "    if env.realtime\n",
    "        sleep(env.Δt) # TODO: just a dirty hack. this is of course slower than real time.\n",
    "    end\n",
    "\n",
    "    # env.t += env.Δt # todo reevaluate\n",
    "\n",
    "\n",
    "    if env.visualization\n",
    "        set_transform(env.name, env.x_W,QuatRotation(env.R_W));\n",
    "        set_Crazyflie_actuators(env.name, next_action[1:4])\n",
    "        #transform_arrow(string(env.name, \"_vel\"), env.x_W, env.v_W_target, max_head_radius=0.05)               \n",
    "        transform_arrow(string(env.name, \"vel\"), env.x_W, env.R_W*env.v_B, max_head_radius=0.05) \n",
    "    \n",
    "        for i in eachindex(env.reached_goal)\n",
    "            if env.reached_goal[i]\n",
    "                create_sphere(\"fixgoal_$i\", 0.05, color=RGBA{Float32}(1.0, 0.0, 0.0, 1.0));\n",
    "                set_transform(\"fixgoal_$i\", env.waypoints[i]);\n",
    "            end\n",
    "        end\n",
    "\n",
    "    end\n",
    "    \n",
    "    \n",
    "    #v_B_target = transpose(env.R_W)*env.v_W_target\n",
    "    \n",
    "    \n",
    "    # State space\n",
    "    #todo\n",
    "    env.state[1] = env.x_W[1];\n",
    "    env.state[2] = env.x_W[2];\n",
    "    env.state[3] = env.x_W[3];\n",
    "    \n",
    "    env.state[4] = env.R_W[1,1] # 1  World Vector UP x\n",
    "    env.state[5] = env.R_W[2,1] # 2  World Vector UP y\n",
    "    env.state[6] = env.R_W[3,1] # 3  World Vector UP z\n",
    "\n",
    "    env.state[7] = env.R_W[1,3] # 4  World Vector FRONT x\n",
    "    env.state[8] = env.R_W[2,3] # 5  World Vector FRONT y\n",
    "    env.state[9] = env.R_W[3,3] # 6  World Vector FRONT z\n",
    "        \n",
    "    env.state[10] = env.v_B[1] # 7  Body velocity along x\n",
    "    env.state[11] = env.v_B[2] # 8  Body velocity along y\n",
    "    env.state[12] = env.v_B[3] # 9  Body velocity along z\n",
    "\n",
    "    env.state[13] = env.ω_B[1] # 10 Body rotational velocity around x\n",
    "    env.state[14] = env.ω_B[2] # 11 Body rotational velocity around y\n",
    "    env.state[15] = env.ω_B[3] # 12 Body rotational velocity around z\n",
    "\n",
    "    env.state[16] = env.waypoints[env.current_point][1] - env.x_W[1] # 13 position error to next gate along x\n",
    "    env.state[17] = env.waypoints[env.current_point][2] - env.x_W[2]; # 14 position error to next gate along z\n",
    "    env.state[18] = env.waypoints[env.current_point][3] - env.x_W[3]; # 15 position error to next gate along z\n",
    "     #todo            \n",
    "    if env.current_point <= env.num_waypoints\n",
    "        env.state[19] = env.waypoints[env.current_point + 1][1] - env.waypoints[env.current_point][1] ; # 16 way to next next gate x (next next gate - next gate), dummy integriert\n",
    "        env.state[20] = env.waypoints[env.current_point + 1][2] - env.waypoints[env.current_point][2]; # 17 way to next next gate y (next next gate - next gate), dummy integriert\n",
    "        env.state[21] = env.waypoints[env.current_point + 1][3] - env.waypoints[env.current_point][3]; # 18 way to next next gate z (next next gate - next gate), dummy integriert\n",
    "    end\n",
    "\n",
    "    \n",
    "    \n",
    "    # Termination criteria\n",
    "    env.done = #true\n",
    "        # After time... How fast is drone+Range of desired point\n",
    "        # After reaching position (circle of r_tol)\n",
    "         norm(env.ω_B) > 100.0 || \n",
    "         norm(env.v_B) > 100.0 || # stop if body is too fast_point \n",
    "        env.x_W[3] < -1.0 || # stop if body is below -5m\n",
    "        env.t > env.num_waypoints * 3.0 ||# stop after 3s per point #todo set in fast learning phase\n",
    "        norm(env.x_W - env.projected_position) > 5.0 || # too far off the path \n",
    "        env.reached_goal == trues(env.num_waypoints)\n",
    "\n",
    "    nothing\n",
    "end;"
   ]
  },
  {
   "cell_type": "code",
   "execution_count": 20,
   "id": "6e1cd988",
   "metadata": {},
   "outputs": [
    {
     "name": "stdout",
     "output_type": "stream",
     "text": [
      "\u001b[0m\u001b[1mTest Summary:              | \u001b[22m\u001b[32m\u001b[1mPass  \u001b[22m\u001b[39m\u001b[36m\u001b[1mTotal  \u001b[22m\u001b[39m\u001b[0m\u001b[1mTime\u001b[22m\n",
      "random policy with VtolEnv | \u001b[32m2000  \u001b[39m\u001b[36m 2000  \u001b[39m\u001b[0m2.0s\n"
     ]
    },
    {
     "data": {
      "text/plain": [
       "Test.DefaultTestSet(\"random policy with VtolEnv\", Any[], 2000, false, false, true, 1.676889352821642e9, 1.676889354820103e9)"
      ]
     },
     "execution_count": 20,
     "metadata": {},
     "output_type": "execute_result"
    }
   ],
   "source": [
    "RLBase.test_runnable!(env)"
   ]
  },
  {
   "cell_type": "markdown",
   "id": "c223a31f",
   "metadata": {},
   "source": [
    "Show an overview of the environment."
   ]
  },
  {
   "cell_type": "markdown",
   "id": "ffe6de74",
   "metadata": {},
   "source": [
    "# Setup of a reinforcement learning experiment."
   ]
  },
  {
   "cell_type": "code",
   "execution_count": 21,
   "id": "e5683fe8",
   "metadata": {},
   "outputs": [
    {
     "data": {
      "text/markdown": [
       "MultiThreadEnv(8 x VtolEnv)"
      ],
      "text/plain": [
       "MultiThreadEnv(8 x VtolEnv)"
      ]
     },
     "execution_count": 21,
     "metadata": {},
     "output_type": "execute_result"
    }
   ],
   "source": [
    "seed = 123    \n",
    "rng = StableRNG(seed)\n",
    "N_ENV = 8\n",
    "UPDATE_FREQ = 1024\n",
    "    \n",
    "    \n",
    "    # define multiple environments for parallel training\n",
    "    env = MultiThreadEnv([\n",
    "        # use different names for the visualization\n",
    "        VtolEnv(; rng = StableRNG(hash(seed+i)), name = \"cf_PPO$i\") for i in 1:N_ENV\n",
    "    ])\n",
    "\n"
   ]
  },
  {
   "cell_type": "code",
   "execution_count": 22,
   "id": "d1f128b2",
   "metadata": {},
   "outputs": [],
   "source": [
    "# Define the function approximator\n",
    "    ns, na = length(state(env[1])), length(action_space(env[1]))\n",
    "    approximator = ActorCritic(\n",
    "                actor = GaussianNetwork(\n",
    "                    pre = Chain(\n",
    "                    Dense(ns, 256, tanh; initW = glorot_uniform(rng)),\n",
    "                    Dense(256, 256, tanh; initW = glorot_uniform(rng)),\n",
    "                    ),\n",
    "                    μ = Chain(Dense(256, na; initW = glorot_uniform(rng))),\n",
    "                    logσ = Chain(Dense(256, na; initW = glorot_uniform(rng))),\n",
    "                ),\n",
    "                critic = Chain(\n",
    "                    Dense(ns, 256, tanh; initW = glorot_uniform(rng)),\n",
    "                    Dense(256, 256, tanh; initW = glorot_uniform(rng)),\n",
    "                    Dense(256, 1; initW = glorot_uniform(rng)),\n",
    "                ),\n",
    "                optimizer = ADAM(1e-4),\n",
    "            );"
   ]
  },
  {
   "cell_type": "code",
   "execution_count": 23,
   "id": "7ea4c37c",
   "metadata": {},
   "outputs": [],
   "source": [
    "    agent = Agent( # A wrapper of an AbstractPolicy\n",
    "         \n",
    "\n",
    "        # AbstractPolicy: the policy to use\n",
    "        policy = PPOPolicy(;\n",
    "                    approximator = approximator |> cpu,\n",
    "                    update_freq=UPDATE_FREQ,\n",
    "                    dist = Normal,\n",
    "                    # For parameters visit the docu: https://juliareinforcementlearning.org/docs/rlzoo/#ReinforcementLearningZoo.PPOPolicy\n",
    "                    ),\n",
    "        \n",
    "        # AbstractTrajectory: used to store transitions between an agent and an environment source\n",
    "        trajectory = PPOTrajectory(;\n",
    "            capacity = UPDATE_FREQ,\n",
    "            state = Matrix{Float64} => (ns, N_ENV),\n",
    "            action = Matrix{Float64} => (na, N_ENV),\n",
    "            action_log_prob = Vector{Float64} => (N_ENV,),\n",
    "            reward = Vector{Float64} => (N_ENV,),\n",
    "            terminal = Vector{Bool} => (N_ENV,),\n",
    "        ),\n",
    "    );\n"
   ]
  },
  {
   "cell_type": "code",
   "execution_count": 24,
   "id": "7f158a93",
   "metadata": {},
   "outputs": [],
   "source": [
    "function saveModel(t, agent, env)\n",
    "    model = cpu(agent.policy.approximator)\n",
    "    if SLOW_MODE\n",
    "        f = joinpath(\"./RL_models_slow/\", \"cf_ppo_$(t).bson\")\n",
    "    else\n",
    "        f = joinpath(\"./RL_models_fast/\", \"cf_ppo_$t.bson\") \n",
    "    end\n",
    "    @save f model\n",
    "    println(\"parameters at step $t saved to $f\")\n",
    "end;\n"
   ]
  },
  {
   "cell_type": "code",
   "execution_count": 25,
   "id": "301a9bd8",
   "metadata": {},
   "outputs": [],
   "source": [
    "function loadModel()\n",
    "    f = joinpath(\"./RL_models_slow/\", \"cf_ppo_$(load_from_slow_step).bson\")\n",
    "    @load f model\n",
    "    return model\n",
    "end;"
   ]
  },
  {
   "cell_type": "code",
   "execution_count": 26,
   "id": "2adefdb1",
   "metadata": {},
   "outputs": [],
   "source": [
    "function validate_policy_vis(t, agent, env)\n",
    "    run(agent.policy, test_env, StopAfterEpisode(1), episode_test_reward_hook)\n",
    "    # the result of the hook\n",
    "    println(\"test reward at step $t: $(episode_test_reward_hook.rewards[end])\")\n",
    "    \n",
    "end;\n",
    "\n",
    "visualize_validation = true; # TODO set as desired\n",
    "episode_test_reward_hook = TotalRewardPerEpisode(;is_display_on_exit=false)\n",
    "# create a env only for reward test\n",
    "test_env = VtolEnv(;name = \"test_cf\", visualization = visualize_validation, realtime = visualize_validation);"
   ]
  },
  {
   "cell_type": "code",
   "execution_count": 27,
   "id": "751137af",
   "metadata": {},
   "outputs": [],
   "source": [
    "# todo merge with above\n",
    "function validate_policy(t, agent, env)\n",
    "    # for validation extract the policy from the agend\n",
    "    run(agent.policy, test_env, StopAfterEpisode(1), \n",
    "        ComposedHook(\n",
    "        episode_test_step_hook, \n",
    "        episode_test_reward_hook\n",
    "    ),\n",
    "        )\n",
    "    # the result of the hook\n",
    "    reward = round((episode_test_reward_hook.rewards[end]),digits = 3)\n",
    "    length = episode_test_step_hook.steps[end-1]\n",
    "    \n",
    "    println(\"step: \", t, \" reward : \",reward, \" length: \", length)\n",
    "\n",
    "    with_logger(logger) do\n",
    "        @info \"evaluating\" avg_length = length  avg_reward = reward  log_step_increment = 0\n",
    "    end\n",
    "end;\n",
    "\n",
    "episode_test_reward_hook = TotalRewardPerEpisode( is_display_on_exit=false)\n",
    "episode_test_step_hook = StepsPerEpisode()\n",
    "# create a env only for reward test\n",
    "\n",
    "test_env = VtolEnv(;name = \"test_cf\", visualization = true, realtime = true);\n",
    "#test_env = VtolEnv(;name = \"test_cf\", visualization = false, realtime = false);"
   ]
  },
  {
   "cell_type": "code",
   "execution_count": 28,
   "id": "897ce270",
   "metadata": {},
   "outputs": [
    {
     "data": {
      "text/plain": [
       "20000000"
      ]
     },
     "execution_count": 28,
     "metadata": {},
     "output_type": "execute_result"
    }
   ],
   "source": [
    "# number of steps\n",
    "steps_slow = 20_000_000\n",
    "steps_fast = 20_000_000\n",
    "load_from_slow_step = 20_000_000 # TODO: choose slow model\n",
    "\n",
    "save_freq = 100_000\n",
    "validate_freq = 100_000\n",
    "\n",
    "steps = 0\n",
    "if SLOW_MODE\n",
    "    steps = steps_slow\n",
    "else\n",
    "    steps = steps_fast\n",
    "end"
   ]
  },
  {
   "cell_type": "code",
   "execution_count": 29,
   "id": "0e8fad8f",
   "metadata": {},
   "outputs": [],
   "source": [
    "# Define hook which is called during the training\n",
    "total_batch_reward_per_episode = TotalBatchRewardPerEpisode(N_ENV, is_display_on_exit = false)\n",
    "hook = ComposedHook(\n",
    "    total_batch_reward_per_episode,\n",
    "    DoEveryNStep(saveModel, n=save_freq),\n",
    "    DoEveryNStep(validate_policy, n=validate_freq),\n",
    "    #=\n",
    "    DoEveryNStep() do t, agent, env\n",
    "        p = agent.policy\n",
    "        with_logger(logger) do\n",
    "            @info \"training\" loss = mean(p.loss)  actor_loss = mean(p.actor_loss)  critic_loss = mean(p.critic_loss)\n",
    "        end\n",
    "    end,\n",
    "    =#\n",
    "    DoEveryNStep() do t, agent, env\n",
    "        with_logger(logger) do\n",
    "            rewards = [\n",
    "                total_batch_reward_per_episode.rewards[i][end] for i in 1:length(env)  if is_terminated(env[i])\n",
    "                    ]\n",
    "            if length(rewards) > 0\n",
    "                @info \"training\" reward = mean(rewards)\n",
    "            end\n",
    "        end\n",
    "    end,\n",
    "    #=\n",
    "    DoEveryNStep() do t, agent, env\n",
    "        with_logger(logger) do\n",
    "            @info \"training\" action_thrust_1 = env[1].action[1]  action_thrust_2 = env[1].action[2] action_thrust_3 = env[1].action[3] action_thrust_4 = env[1].action[4]\n",
    "        end\n",
    "    end,\n",
    "    =#\n",
    ");"
   ]
  },
  {
   "cell_type": "code",
   "execution_count": 30,
   "id": "174f8124",
   "metadata": {},
   "outputs": [],
   "source": [
    "#todo load model\n",
    "if !SLOW_MODE\n",
    "    agent.policy.approximator = loadModel(); \n",
    "end;"
   ]
  },
  {
   "cell_type": "code",
   "execution_count": 31,
   "id": "45dfdb68",
   "metadata": {
    "scrolled": false
   },
   "outputs": [],
   "source": [
    "if TRAINING\n",
    "    ReinforcementLearning.run(\n",
    "        agent,\n",
    "        env,\n",
    "        StopAfterStep(steps),\n",
    "        hook\n",
    "    )\n",
    "end"
   ]
  },
  {
   "cell_type": "code",
   "execution_count": 32,
   "id": "21a5d7b6",
   "metadata": {},
   "outputs": [],
   "source": [
    "if TRAINING\n",
    "    plot(episode_test_reward_hook.rewards)\n",
    "end"
   ]
  },
  {
   "cell_type": "code",
   "execution_count": 33,
   "id": "41c1dc36",
   "metadata": {},
   "outputs": [],
   "source": [
    "if TRAINING\n",
    "    plot(episode_test_step_hook.steps[1:2:end])\n",
    "end"
   ]
  },
  {
   "cell_type": "code",
   "execution_count": 34,
   "id": "0be19c7e",
   "metadata": {},
   "outputs": [],
   "source": [
    "close_visualization(); # closes the MeshCat visualization"
   ]
  },
  {
   "cell_type": "markdown",
   "id": "d1be7fc6",
   "metadata": {},
   "source": [
    "# Evaluation"
   ]
  },
  {
   "cell_type": "code",
   "execution_count": 35,
   "id": "8a39200a",
   "metadata": {},
   "outputs": [],
   "source": [
    "test_env = VtolEnv(;name = \"test_cf\");"
   ]
  },
  {
   "cell_type": "code",
   "execution_count": 36,
   "id": "345f65ce",
   "metadata": {},
   "outputs": [],
   "source": [
    "function loadModel(path, num)\n",
    "    f = joinpath(path, \"cf_ppo_$num.bson\") \n",
    "    @load f model\n",
    "    return model\n",
    "end;"
   ]
  },
  {
   "cell_type": "code",
   "execution_count": 37,
   "id": "ed379703",
   "metadata": {},
   "outputs": [],
   "source": [
    "function validate(num_models, num_test)\n",
    "    episode_test_reward_hook = TotalRewardPerEpisode(;is_display_on_exit=false)\n",
    "    # create a env only for reward test\n",
    "    #todo evtl mit multithreding\n",
    "    for i in 1:num_models\n",
    "          \n",
    "        sum_rewards_model = 0;\n",
    "        sum_successes_model = 0;\n",
    "        sum_avg_vel_model = 0;\n",
    "        sum_compl_time = 0;\n",
    "        n_success = 0;\n",
    "        \n",
    "        for exp in 1:num_test\n",
    "            if SLOW_MODE\n",
    "                path = \"./RL_models_slow/\"\n",
    "            else\n",
    "                path = \"./RL_models_fast/\"\n",
    "            end\n",
    "            agent.policy.approximator = loadModel(path, i * save_freq); \n",
    "            RLBase.reset!(test_env)\n",
    "            run(agent.policy, test_env, StopAfterEpisode(1), episode_test_reward_hook)\n",
    "            # the result of the hook\n",
    "            sum_rewards_model += episode_test_reward_hook.rewards[end];\n",
    "            \n",
    "            if test_env.reached_goal == trues(test_env.num_waypoints)\n",
    "                n_success += 1\n",
    "                sum_avg_vel_model += test_env.norm_way / test_env.t\n",
    "                sum_compl_time += test_env.t\n",
    "            end\n",
    "        end\n",
    "        \n",
    "        rewards[i] = sum_rewards_model / num_test;\n",
    "        success_rate[i] = n_success / num_test;\n",
    "        if n_success > 0\n",
    "            avg_velocity[i] = sum_avg_vel_model / n_success;\n",
    "            avg_compl_time[i] = sum_compl_time / n_success;\n",
    "        else\n",
    "            avg_velocity[i] = NaN\n",
    "            avg_compl_time[i] = NaN\n",
    "        end\n",
    "        percent = percent = round(i * 100 / num_models, digits=2)\n",
    "        print(\"progress: $(percent)%   \\r\")\n",
    "        flush(stdout)\n",
    "        \n",
    "    end\n",
    "    \n",
    "    \n",
    "end;"
   ]
  },
  {
   "cell_type": "code",
   "execution_count": 38,
   "id": "21a98dd6",
   "metadata": {
    "scrolled": true
   },
   "outputs": [
    {
     "name": "stdout",
     "output_type": "stream",
     "text": [
      "progress: 100.0%   \r"
     ]
    }
   ],
   "source": [
    "if EVALUATION\n",
    "    \n",
    "    NUM_MODELS = Int(steps / save_freq);  \n",
    "    NUM_TEST = 200; # TODO: change as desired \n",
    "\n",
    "    rewards = zeros(NUM_MODELS, 1);\n",
    "    success_rate = zeros(NUM_MODELS, 1);\n",
    "    avg_velocity = zeros(NUM_MODELS, 1);\n",
    "    avg_compl_time = zeros(NUM_MODELS, 1);\n",
    "    \n",
    "    validate(NUM_MODELS, NUM_TEST);\n",
    "    \n",
    "end;"
   ]
  },
  {
   "cell_type": "code",
   "execution_count": 39,
   "id": "ab909865",
   "metadata": {},
   "outputs": [],
   "source": [
    "if EVALUATION\n",
    "    results_path = pwd() * \"/plots/\";\n",
    "    if SLOW_MODE\n",
    "        results_path = results_path * \"slow/\"\n",
    "    else\n",
    "        results_path = results_path * \"fast/\"\n",
    "    end\n",
    "    \n",
    "    save(results_path * \"iterations.jld\", \"data\", [1:NUM_MODELS] * save_freq) # todo save size auch in 2d\n",
    "    \n",
    "    save(results_path * \"avg_comp_time.jld\", \"data\", avg_compl_time)\n",
    "    \n",
    "    save(results_path * \"avg_velocity.jld\", \"data\", avg_velocity)\n",
    "    \n",
    "    save(results_path * \"reward.jld\", \"data\", rewards) \n",
    "        \n",
    "    save(results_path * \"success_rate.jld\", \"data\", success_rate)\n",
    "end;"
   ]
  },
  {
   "cell_type": "code",
   "execution_count": 40,
   "id": "0ea2a032",
   "metadata": {},
   "outputs": [],
   "source": [
    "results_path = pwd() * \"/plots/\";\n",
    "if SLOW_MODE\n",
    "    results_path = results_path * \"slow/\"\n",
    "else\n",
    "    results_path = results_path * \"fast/\"\n",
    "end\n",
    "\n",
    "iterations = load(results_path * \"iterations.jld\")[\"data\"];\n",
    "avg_compl_time = load(results_path * \"avg_comp_time.jld\")[\"data\"];\n",
    "avg_velocity = load(results_path * \"avg_velocity.jld\")[\"data\"];\n",
    "rewards = load(results_path * \"reward.jld\")[\"data\"];\n",
    "success_rate = load(results_path * \"success_rate.jld\")[\"data\"];"
   ]
  },
  {
   "cell_type": "code",
   "execution_count": 41,
   "id": "26466af1",
   "metadata": {},
   "outputs": [
    {
     "data": {
      "text/plain": [
       "\"/home/larissa/Documents/Projects/ADLR/ADLR_project/src/RL_PPO_quadcopter_3D/plots/slow/\""
      ]
     },
     "execution_count": 41,
     "metadata": {},
     "output_type": "execute_result"
    }
   ],
   "source": [
    "fig_path = pwd() * \"/plots/\";\n",
    "if SLOW_MODE\n",
    "    fig_path = fig_path * \"slow/\"\n",
    "else\n",
    "    fig_path = fig_path * \"fast/\"\n",
    "end"
   ]
  },
  {
   "cell_type": "code",
   "execution_count": 42,
   "id": "c4cc649e",
   "metadata": {},
   "outputs": [
    {
     "data": {
      "image/svg+xml": [
       "<?xml version=\"1.0\" encoding=\"utf-8\"?>\n",
       "<svg xmlns=\"http://www.w3.org/2000/svg\" xmlns:xlink=\"http://www.w3.org/1999/xlink\" width=\"600\" height=\"400\" viewBox=\"0 0 2400 1600\">\n",
       "<defs>\n",
       "  <clipPath id=\"clip100\">\n",
       "    <rect x=\"0\" y=\"0\" width=\"2400\" height=\"1600\"/>\n",
       "  </clipPath>\n",
       "</defs>\n",
       "<path clip-path=\"url(#clip100)\" d=\"\n",
       "M0 1600 L2400 1600 L2400 0 L0 0  Z\n",
       "  \" fill=\"#ffffff\" fill-rule=\"evenodd\" fill-opacity=\"1\"/>\n",
       "<defs>\n",
       "  <clipPath id=\"clip101\">\n",
       "    <rect x=\"480\" y=\"0\" width=\"1681\" height=\"1600\"/>\n",
       "  </clipPath>\n",
       "</defs>\n",
       "<path clip-path=\"url(#clip100)\" d=\"\n",
       "M205.121 1410.9 L2352.76 1410.9 L2352.76 47.2441 L205.121 47.2441  Z\n",
       "  \" fill=\"#ffffff\" fill-rule=\"evenodd\" fill-opacity=\"1\"/>\n",
       "<defs>\n",
       "  <clipPath id=\"clip102\">\n",
       "    <rect x=\"205\" y=\"47\" width=\"2149\" height=\"1365\"/>\n",
       "  </clipPath>\n",
       "</defs>\n",
       "<polyline clip-path=\"url(#clip102)\" style=\"stroke:#000000; stroke-linecap:round; stroke-linejoin:round; stroke-width:2; stroke-opacity:0.1; fill:none\" points=\"\n",
       "  255.722,1410.9 255.722,47.2441 \n",
       "  \"/>\n",
       "<polyline clip-path=\"url(#clip102)\" style=\"stroke:#000000; stroke-linecap:round; stroke-linejoin:round; stroke-width:2; stroke-opacity:0.1; fill:none\" points=\"\n",
       "  764.785,1410.9 764.785,47.2441 \n",
       "  \"/>\n",
       "<polyline clip-path=\"url(#clip102)\" style=\"stroke:#000000; stroke-linecap:round; stroke-linejoin:round; stroke-width:2; stroke-opacity:0.1; fill:none\" points=\"\n",
       "  1273.85,1410.9 1273.85,47.2441 \n",
       "  \"/>\n",
       "<polyline clip-path=\"url(#clip102)\" style=\"stroke:#000000; stroke-linecap:round; stroke-linejoin:round; stroke-width:2; stroke-opacity:0.1; fill:none\" points=\"\n",
       "  1782.91,1410.9 1782.91,47.2441 \n",
       "  \"/>\n",
       "<polyline clip-path=\"url(#clip102)\" style=\"stroke:#000000; stroke-linecap:round; stroke-linejoin:round; stroke-width:2; stroke-opacity:0.1; fill:none\" points=\"\n",
       "  2291.97,1410.9 2291.97,47.2441 \n",
       "  \"/>\n",
       "<polyline clip-path=\"url(#clip100)\" style=\"stroke:#000000; stroke-linecap:round; stroke-linejoin:round; stroke-width:4; stroke-opacity:1; fill:none\" points=\"\n",
       "  205.121,1410.9 2352.76,1410.9 \n",
       "  \"/>\n",
       "<polyline clip-path=\"url(#clip100)\" style=\"stroke:#000000; stroke-linecap:round; stroke-linejoin:round; stroke-width:4; stroke-opacity:1; fill:none\" points=\"\n",
       "  255.722,1410.9 255.722,1392 \n",
       "  \"/>\n",
       "<polyline clip-path=\"url(#clip100)\" style=\"stroke:#000000; stroke-linecap:round; stroke-linejoin:round; stroke-width:4; stroke-opacity:1; fill:none\" points=\"\n",
       "  764.785,1410.9 764.785,1392 \n",
       "  \"/>\n",
       "<polyline clip-path=\"url(#clip100)\" style=\"stroke:#000000; stroke-linecap:round; stroke-linejoin:round; stroke-width:4; stroke-opacity:1; fill:none\" points=\"\n",
       "  1273.85,1410.9 1273.85,1392 \n",
       "  \"/>\n",
       "<polyline clip-path=\"url(#clip100)\" style=\"stroke:#000000; stroke-linecap:round; stroke-linejoin:round; stroke-width:4; stroke-opacity:1; fill:none\" points=\"\n",
       "  1782.91,1410.9 1782.91,1392 \n",
       "  \"/>\n",
       "<polyline clip-path=\"url(#clip100)\" style=\"stroke:#000000; stroke-linecap:round; stroke-linejoin:round; stroke-width:4; stroke-opacity:1; fill:none\" points=\"\n",
       "  2291.97,1410.9 2291.97,1392 \n",
       "  \"/>\n",
       "<path clip-path=\"url(#clip100)\" d=\"M255.722 1441.82 Q252.111 1441.82 250.282 1445.38 Q248.477 1448.92 248.477 1456.05 Q248.477 1463.16 250.282 1466.72 Q252.111 1470.26 255.722 1470.26 Q259.356 1470.26 261.162 1466.72 Q262.99 1463.16 262.99 1456.05 Q262.99 1448.92 261.162 1445.38 Q259.356 1441.82 255.722 1441.82 M255.722 1438.11 Q261.532 1438.11 264.588 1442.72 Q267.666 1447.3 267.666 1456.05 Q267.666 1464.78 264.588 1469.38 Q261.532 1473.97 255.722 1473.97 Q249.912 1473.97 246.833 1469.38 Q243.777 1464.78 243.777 1456.05 Q243.777 1447.3 246.833 1442.72 Q249.912 1438.11 255.722 1438.11 Z\" fill=\"#000000\" fill-rule=\"evenodd\" fill-opacity=\"1\" /><path clip-path=\"url(#clip100)\" d=\"M657.15 1454.4 L675.507 1454.4 L675.507 1458.33 L661.433 1458.33 L661.433 1466.8 Q662.451 1466.46 663.47 1466.29 Q664.488 1466.11 665.507 1466.11 Q671.294 1466.11 674.673 1469.28 Q678.053 1472.45 678.053 1477.87 Q678.053 1483.45 674.581 1486.55 Q671.108 1489.63 664.789 1489.63 Q662.613 1489.63 660.345 1489.26 Q658.099 1488.89 655.692 1488.15 L655.692 1483.45 Q657.775 1484.58 659.997 1485.14 Q662.22 1485.69 664.696 1485.69 Q668.701 1485.69 671.039 1483.59 Q673.377 1481.48 673.377 1477.87 Q673.377 1474.26 671.039 1472.15 Q668.701 1470.04 664.696 1470.04 Q662.821 1470.04 660.946 1470.46 Q659.095 1470.88 657.15 1471.76 L657.15 1454.4 Z\" fill=\"#000000\" fill-rule=\"evenodd\" fill-opacity=\"1\" /><path clip-path=\"url(#clip100)\" d=\"M687.266 1483.08 L692.15 1483.08 L692.15 1488.96 L687.266 1488.96 L687.266 1483.08 Z\" fill=\"#000000\" fill-rule=\"evenodd\" fill-opacity=\"1\" /><path clip-path=\"url(#clip100)\" d=\"M712.335 1457.48 Q708.724 1457.48 706.895 1461.04 Q705.09 1464.58 705.09 1471.71 Q705.09 1478.82 706.895 1482.38 Q708.724 1485.92 712.335 1485.92 Q715.969 1485.92 717.775 1482.38 Q719.603 1478.82 719.603 1471.71 Q719.603 1464.58 717.775 1461.04 Q715.969 1457.48 712.335 1457.48 M712.335 1453.77 Q718.145 1453.77 721.201 1458.38 Q724.279 1462.96 724.279 1471.71 Q724.279 1480.44 721.201 1485.04 Q718.145 1489.63 712.335 1489.63 Q706.525 1489.63 703.446 1485.04 Q700.391 1480.44 700.391 1471.71 Q700.391 1462.96 703.446 1458.38 Q706.525 1453.77 712.335 1453.77 Z\" fill=\"#000000\" fill-rule=\"evenodd\" fill-opacity=\"1\" /><path clip-path=\"url(#clip100)\" d=\"M742.497 1457.48 Q738.886 1457.48 737.057 1461.04 Q735.252 1464.58 735.252 1471.71 Q735.252 1478.82 737.057 1482.38 Q738.886 1485.92 742.497 1485.92 Q746.131 1485.92 747.937 1482.38 Q749.765 1478.82 749.765 1471.71 Q749.765 1464.58 747.937 1461.04 Q746.131 1457.48 742.497 1457.48 M742.497 1453.77 Q748.307 1453.77 751.363 1458.38 Q754.441 1462.96 754.441 1471.71 Q754.441 1480.44 751.363 1485.04 Q748.307 1489.63 742.497 1489.63 Q736.687 1489.63 733.608 1485.04 Q730.553 1480.44 730.553 1471.71 Q730.553 1462.96 733.608 1458.38 Q736.687 1453.77 742.497 1453.77 Z\" fill=\"#000000\" fill-rule=\"evenodd\" fill-opacity=\"1\" /><path clip-path=\"url(#clip100)\" d=\"M790.83 1463.49 L780.251 1474.12 L790.83 1484.7 L788.075 1487.5 L777.45 1476.87 L766.825 1487.5 L764.094 1484.7 L774.649 1474.12 L764.094 1463.49 L766.825 1460.69 L777.45 1471.32 L788.075 1460.69 L790.83 1463.49 Z\" fill=\"#000000\" fill-rule=\"evenodd\" fill-opacity=\"1\" /><path clip-path=\"url(#clip100)\" d=\"M803.191 1485.02 L810.83 1485.02 L810.83 1458.66 L802.52 1460.32 L802.52 1456.06 L810.784 1454.4 L815.459 1454.4 L815.459 1485.02 L823.098 1485.02 L823.098 1488.96 L803.191 1488.96 L803.191 1485.02 Z\" fill=\"#000000\" fill-rule=\"evenodd\" fill-opacity=\"1\" /><path clip-path=\"url(#clip100)\" d=\"M842.543 1457.48 Q838.932 1457.48 837.103 1461.04 Q835.297 1464.58 835.297 1471.71 Q835.297 1478.82 837.103 1482.38 Q838.932 1485.92 842.543 1485.92 Q846.177 1485.92 847.982 1482.38 Q849.811 1478.82 849.811 1471.71 Q849.811 1464.58 847.982 1461.04 Q846.177 1457.48 842.543 1457.48 M842.543 1453.77 Q848.353 1453.77 851.408 1458.38 Q854.487 1462.96 854.487 1471.71 Q854.487 1480.44 851.408 1485.04 Q848.353 1489.63 842.543 1489.63 Q836.732 1489.63 833.654 1485.04 Q830.598 1480.44 830.598 1471.71 Q830.598 1462.96 833.654 1458.38 Q836.732 1453.77 842.543 1453.77 Z\" fill=\"#000000\" fill-rule=\"evenodd\" fill-opacity=\"1\" /><path clip-path=\"url(#clip100)\" d=\"M864.512 1445.99 Q861.954 1445.99 860.449 1447.74 Q858.963 1449.49 858.963 1452.54 Q858.963 1455.57 860.449 1457.33 Q861.954 1459.08 864.512 1459.08 Q867.069 1459.08 868.555 1457.33 Q870.06 1455.57 870.06 1452.54 Q870.06 1449.49 868.555 1447.74 Q867.069 1445.99 864.512 1445.99 M872.053 1434.09 L872.053 1437.55 Q870.624 1436.87 869.157 1436.51 Q867.709 1436.16 866.28 1436.16 Q862.518 1436.16 860.524 1438.69 Q858.55 1441.23 858.267 1446.37 Q859.377 1444.73 861.051 1443.87 Q862.725 1442.98 864.737 1442.98 Q868.969 1442.98 871.414 1445.56 Q873.878 1448.12 873.878 1452.54 Q873.878 1456.86 871.32 1459.48 Q868.762 1462.09 864.512 1462.09 Q859.64 1462.09 857.064 1458.37 Q854.487 1454.62 854.487 1447.53 Q854.487 1440.88 857.647 1436.93 Q860.806 1432.96 866.129 1432.96 Q867.558 1432.96 869.007 1433.24 Q870.474 1433.52 872.053 1434.09 Z\" fill=\"#000000\" fill-rule=\"evenodd\" fill-opacity=\"1\" /><path clip-path=\"url(#clip100)\" d=\"M1166.87 1485.02 L1174.51 1485.02 L1174.51 1458.66 L1166.2 1460.32 L1166.2 1456.06 L1174.46 1454.4 L1179.14 1454.4 L1179.14 1485.02 L1186.78 1485.02 L1186.78 1488.96 L1166.87 1488.96 L1166.87 1485.02 Z\" fill=\"#000000\" fill-rule=\"evenodd\" fill-opacity=\"1\" /><path clip-path=\"url(#clip100)\" d=\"M1196.22 1483.08 L1201.11 1483.08 L1201.11 1488.96 L1196.22 1488.96 L1196.22 1483.08 Z\" fill=\"#000000\" fill-rule=\"evenodd\" fill-opacity=\"1\" /><path clip-path=\"url(#clip100)\" d=\"M1221.29 1457.48 Q1217.68 1457.48 1215.85 1461.04 Q1214.04 1464.58 1214.04 1471.71 Q1214.04 1478.82 1215.85 1482.38 Q1217.68 1485.92 1221.29 1485.92 Q1224.92 1485.92 1226.73 1482.38 Q1228.56 1478.82 1228.56 1471.71 Q1228.56 1464.58 1226.73 1461.04 Q1224.92 1457.48 1221.29 1457.48 M1221.29 1453.77 Q1227.1 1453.77 1230.16 1458.38 Q1233.23 1462.96 1233.23 1471.71 Q1233.23 1480.44 1230.16 1485.04 Q1227.1 1489.63 1221.29 1489.63 Q1215.48 1489.63 1212.4 1485.04 Q1209.35 1480.44 1209.35 1471.71 Q1209.35 1462.96 1212.4 1458.38 Q1215.48 1453.77 1221.29 1453.77 Z\" fill=\"#000000\" fill-rule=\"evenodd\" fill-opacity=\"1\" /><path clip-path=\"url(#clip100)\" d=\"M1251.45 1457.48 Q1247.84 1457.48 1246.01 1461.04 Q1244.21 1464.58 1244.21 1471.71 Q1244.21 1478.82 1246.01 1482.38 Q1247.84 1485.92 1251.45 1485.92 Q1255.09 1485.92 1256.89 1482.38 Q1258.72 1478.82 1258.72 1471.71 Q1258.72 1464.58 1256.89 1461.04 Q1255.09 1457.48 1251.45 1457.48 M1251.45 1453.77 Q1257.26 1453.77 1260.32 1458.38 Q1263.4 1462.96 1263.4 1471.71 Q1263.4 1480.44 1260.32 1485.04 Q1257.26 1489.63 1251.45 1489.63 Q1245.64 1489.63 1242.56 1485.04 Q1239.51 1480.44 1239.51 1471.71 Q1239.51 1462.96 1242.56 1458.38 Q1245.64 1453.77 1251.45 1453.77 Z\" fill=\"#000000\" fill-rule=\"evenodd\" fill-opacity=\"1\" /><path clip-path=\"url(#clip100)\" d=\"M1299.79 1463.49 L1289.21 1474.12 L1299.79 1484.7 L1297.03 1487.5 L1286.41 1476.87 L1275.78 1487.5 L1273.05 1484.7 L1283.6 1474.12 L1273.05 1463.49 L1275.78 1460.69 L1286.41 1471.32 L1297.03 1460.69 L1299.79 1463.49 Z\" fill=\"#000000\" fill-rule=\"evenodd\" fill-opacity=\"1\" /><path clip-path=\"url(#clip100)\" d=\"M1312.15 1485.02 L1319.79 1485.02 L1319.79 1458.66 L1311.47 1460.32 L1311.47 1456.06 L1319.74 1454.4 L1324.41 1454.4 L1324.41 1485.02 L1332.05 1485.02 L1332.05 1488.96 L1312.15 1488.96 L1312.15 1485.02 Z\" fill=\"#000000\" fill-rule=\"evenodd\" fill-opacity=\"1\" /><path clip-path=\"url(#clip100)\" d=\"M1351.5 1457.48 Q1347.89 1457.48 1346.06 1461.04 Q1344.25 1464.58 1344.25 1471.71 Q1344.25 1478.82 1346.06 1482.38 Q1347.89 1485.92 1351.5 1485.92 Q1355.13 1485.92 1356.94 1482.38 Q1358.77 1478.82 1358.77 1471.71 Q1358.77 1464.58 1356.94 1461.04 Q1355.13 1457.48 1351.5 1457.48 M1351.5 1453.77 Q1357.31 1453.77 1360.36 1458.38 Q1363.44 1462.96 1363.44 1471.71 Q1363.44 1480.44 1360.36 1485.04 Q1357.31 1489.63 1351.5 1489.63 Q1345.69 1489.63 1342.61 1485.04 Q1339.55 1480.44 1339.55 1471.71 Q1339.55 1462.96 1342.61 1458.38 Q1345.69 1453.77 1351.5 1453.77 Z\" fill=\"#000000\" fill-rule=\"evenodd\" fill-opacity=\"1\" /><path clip-path=\"url(#clip100)\" d=\"M1363.44 1433.47 L1381.5 1433.47 L1381.5 1435.08 L1371.3 1461.55 L1367.34 1461.55 L1376.93 1436.66 L1363.44 1436.66 L1363.44 1433.47 Z\" fill=\"#000000\" fill-rule=\"evenodd\" fill-opacity=\"1\" /><path clip-path=\"url(#clip100)\" d=\"M1675.93 1485.02 L1683.57 1485.02 L1683.57 1458.66 L1675.26 1460.32 L1675.26 1456.06 L1683.52 1454.4 L1688.2 1454.4 L1688.2 1485.02 L1695.84 1485.02 L1695.84 1488.96 L1675.93 1488.96 L1675.93 1485.02 Z\" fill=\"#000000\" fill-rule=\"evenodd\" fill-opacity=\"1\" /><path clip-path=\"url(#clip100)\" d=\"M1705.28 1483.08 L1710.17 1483.08 L1710.17 1488.96 L1705.28 1488.96 L1705.28 1483.08 Z\" fill=\"#000000\" fill-rule=\"evenodd\" fill-opacity=\"1\" /><path clip-path=\"url(#clip100)\" d=\"M1720.4 1454.4 L1738.76 1454.4 L1738.76 1458.33 L1724.68 1458.33 L1724.68 1466.8 Q1725.7 1466.46 1726.72 1466.29 Q1727.74 1466.11 1728.76 1466.11 Q1734.54 1466.11 1737.92 1469.28 Q1741.3 1472.45 1741.3 1477.87 Q1741.3 1483.45 1737.83 1486.55 Q1734.36 1489.63 1728.04 1489.63 Q1725.86 1489.63 1723.59 1489.26 Q1721.35 1488.89 1718.94 1488.15 L1718.94 1483.45 Q1721.02 1484.58 1723.25 1485.14 Q1725.47 1485.69 1727.95 1485.69 Q1731.95 1485.69 1734.29 1483.59 Q1736.63 1481.48 1736.63 1477.87 Q1736.63 1474.26 1734.29 1472.15 Q1731.95 1470.04 1727.95 1470.04 Q1726.07 1470.04 1724.2 1470.46 Q1722.34 1470.88 1720.4 1471.76 L1720.4 1454.4 Z\" fill=\"#000000\" fill-rule=\"evenodd\" fill-opacity=\"1\" /><path clip-path=\"url(#clip100)\" d=\"M1760.52 1457.48 Q1756.9 1457.48 1755.08 1461.04 Q1753.27 1464.58 1753.27 1471.71 Q1753.27 1478.82 1755.08 1482.38 Q1756.9 1485.92 1760.52 1485.92 Q1764.15 1485.92 1765.95 1482.38 Q1767.78 1478.82 1767.78 1471.71 Q1767.78 1464.58 1765.95 1461.04 Q1764.15 1457.48 1760.52 1457.48 M1760.52 1453.77 Q1766.33 1453.77 1769.38 1458.38 Q1772.46 1462.96 1772.46 1471.71 Q1772.46 1480.44 1769.38 1485.04 Q1766.33 1489.63 1760.52 1489.63 Q1754.7 1489.63 1751.63 1485.04 Q1748.57 1480.44 1748.57 1471.71 Q1748.57 1462.96 1751.63 1458.38 Q1754.7 1453.77 1760.52 1453.77 Z\" fill=\"#000000\" fill-rule=\"evenodd\" fill-opacity=\"1\" /><path clip-path=\"url(#clip100)\" d=\"M1808.85 1463.49 L1798.27 1474.12 L1808.85 1484.7 L1806.09 1487.5 L1795.47 1476.87 L1784.84 1487.5 L1782.11 1484.7 L1792.67 1474.12 L1782.11 1463.49 L1784.84 1460.69 L1795.47 1471.32 L1806.09 1460.69 L1808.85 1463.49 Z\" fill=\"#000000\" fill-rule=\"evenodd\" fill-opacity=\"1\" /><path clip-path=\"url(#clip100)\" d=\"M1821.21 1485.02 L1828.85 1485.02 L1828.85 1458.66 L1820.54 1460.32 L1820.54 1456.06 L1828.8 1454.4 L1833.48 1454.4 L1833.48 1485.02 L1841.12 1485.02 L1841.12 1488.96 L1821.21 1488.96 L1821.21 1485.02 Z\" fill=\"#000000\" fill-rule=\"evenodd\" fill-opacity=\"1\" /><path clip-path=\"url(#clip100)\" d=\"M1860.56 1457.48 Q1856.95 1457.48 1855.12 1461.04 Q1853.32 1464.58 1853.32 1471.71 Q1853.32 1478.82 1855.12 1482.38 Q1856.95 1485.92 1860.56 1485.92 Q1864.2 1485.92 1866 1482.38 Q1867.83 1478.82 1867.83 1471.71 Q1867.83 1464.58 1866 1461.04 Q1864.2 1457.48 1860.56 1457.48 M1860.56 1453.77 Q1866.37 1453.77 1869.43 1458.38 Q1872.51 1462.96 1872.51 1471.71 Q1872.51 1480.44 1869.43 1485.04 Q1866.37 1489.63 1860.56 1489.63 Q1854.75 1489.63 1851.67 1485.04 Q1848.62 1480.44 1848.62 1471.71 Q1848.62 1462.96 1851.67 1458.38 Q1854.75 1453.77 1860.56 1453.77 Z\" fill=\"#000000\" fill-rule=\"evenodd\" fill-opacity=\"1\" /><path clip-path=\"url(#clip100)\" d=\"M1872.51 1433.47 L1890.56 1433.47 L1890.56 1435.08 L1880.37 1461.55 L1876.4 1461.55 L1885.99 1436.66 L1872.51 1436.66 L1872.51 1433.47 Z\" fill=\"#000000\" fill-rule=\"evenodd\" fill-opacity=\"1\" /><path clip-path=\"url(#clip100)\" d=\"M2189.08 1485.02 L2205.4 1485.02 L2205.4 1488.96 L2183.46 1488.96 L2183.46 1485.02 Q2186.12 1482.27 2190.7 1477.64 Q2195.31 1472.98 2196.49 1471.64 Q2198.73 1469.12 2199.61 1467.38 Q2200.52 1465.62 2200.52 1463.93 Q2200.52 1461.18 2198.57 1459.44 Q2196.65 1457.71 2193.55 1457.71 Q2191.35 1457.71 2188.9 1458.47 Q2186.47 1459.23 2183.69 1460.79 L2183.69 1456.06 Q2186.51 1454.93 2188.97 1454.35 Q2191.42 1453.77 2193.46 1453.77 Q2198.83 1453.77 2202.02 1456.46 Q2205.21 1459.14 2205.21 1463.63 Q2205.21 1465.76 2204.4 1467.68 Q2203.62 1469.58 2201.51 1472.17 Q2200.93 1472.85 2197.83 1476.06 Q2194.73 1479.26 2189.08 1485.02 Z\" fill=\"#000000\" fill-rule=\"evenodd\" fill-opacity=\"1\" /><path clip-path=\"url(#clip100)\" d=\"M2215.21 1483.08 L2220.1 1483.08 L2220.1 1488.96 L2215.21 1488.96 L2215.21 1483.08 Z\" fill=\"#000000\" fill-rule=\"evenodd\" fill-opacity=\"1\" /><path clip-path=\"url(#clip100)\" d=\"M2240.28 1457.48 Q2236.67 1457.48 2234.84 1461.04 Q2233.04 1464.58 2233.04 1471.71 Q2233.04 1478.82 2234.84 1482.38 Q2236.67 1485.92 2240.28 1485.92 Q2243.92 1485.92 2245.72 1482.38 Q2247.55 1478.82 2247.55 1471.71 Q2247.55 1464.58 2245.72 1461.04 Q2243.92 1457.48 2240.28 1457.48 M2240.28 1453.77 Q2246.09 1453.77 2249.15 1458.38 Q2252.23 1462.96 2252.23 1471.71 Q2252.23 1480.44 2249.15 1485.04 Q2246.09 1489.63 2240.28 1489.63 Q2234.47 1489.63 2231.4 1485.04 Q2228.34 1480.44 2228.34 1471.71 Q2228.34 1462.96 2231.4 1458.38 Q2234.47 1453.77 2240.28 1453.77 Z\" fill=\"#000000\" fill-rule=\"evenodd\" fill-opacity=\"1\" /><path clip-path=\"url(#clip100)\" d=\"M2270.45 1457.48 Q2266.84 1457.48 2265.01 1461.04 Q2263.2 1464.58 2263.2 1471.71 Q2263.2 1478.82 2265.01 1482.38 Q2266.84 1485.92 2270.45 1485.92 Q2274.08 1485.92 2275.89 1482.38 Q2277.71 1478.82 2277.71 1471.71 Q2277.71 1464.58 2275.89 1461.04 Q2274.08 1457.48 2270.45 1457.48 M2270.45 1453.77 Q2276.26 1453.77 2279.31 1458.38 Q2282.39 1462.96 2282.39 1471.71 Q2282.39 1480.44 2279.31 1485.04 Q2276.26 1489.63 2270.45 1489.63 Q2264.64 1489.63 2261.56 1485.04 Q2258.5 1480.44 2258.5 1471.71 Q2258.5 1462.96 2261.56 1458.38 Q2264.64 1453.77 2270.45 1453.77 Z\" fill=\"#000000\" fill-rule=\"evenodd\" fill-opacity=\"1\" /><path clip-path=\"url(#clip100)\" d=\"M2318.78 1463.49 L2308.2 1474.12 L2318.78 1484.7 L2316.02 1487.5 L2305.4 1476.87 L2294.77 1487.5 L2292.04 1484.7 L2302.6 1474.12 L2292.04 1463.49 L2294.77 1460.69 L2305.4 1471.32 L2316.02 1460.69 L2318.78 1463.49 Z\" fill=\"#000000\" fill-rule=\"evenodd\" fill-opacity=\"1\" /><path clip-path=\"url(#clip100)\" d=\"M2331.14 1485.02 L2338.78 1485.02 L2338.78 1458.66 L2330.47 1460.32 L2330.47 1456.06 L2338.73 1454.4 L2343.41 1454.4 L2343.41 1485.02 L2351.05 1485.02 L2351.05 1488.96 L2331.14 1488.96 L2331.14 1485.02 Z\" fill=\"#000000\" fill-rule=\"evenodd\" fill-opacity=\"1\" /><path clip-path=\"url(#clip100)\" d=\"M2370.49 1457.48 Q2366.88 1457.48 2365.05 1461.04 Q2363.25 1464.58 2363.25 1471.71 Q2363.25 1478.82 2365.05 1482.38 Q2366.88 1485.92 2370.49 1485.92 Q2374.13 1485.92 2375.93 1482.38 Q2377.76 1478.82 2377.76 1471.71 Q2377.76 1464.58 2375.93 1461.04 Q2374.13 1457.48 2370.49 1457.48 M2370.49 1453.77 Q2376.3 1453.77 2379.36 1458.38 Q2382.44 1462.96 2382.44 1471.71 Q2382.44 1480.44 2379.36 1485.04 Q2376.3 1489.63 2370.49 1489.63 Q2364.68 1489.63 2361.6 1485.04 Q2358.55 1480.44 2358.55 1471.71 Q2358.55 1462.96 2361.6 1458.38 Q2364.68 1453.77 2370.49 1453.77 Z\" fill=\"#000000\" fill-rule=\"evenodd\" fill-opacity=\"1\" /><path clip-path=\"url(#clip100)\" d=\"M2382.44 1433.47 L2400.49 1433.47 L2400.49 1435.08 L2390.3 1461.55 L2386.33 1461.55 L2395.92 1436.66 L2382.44 1436.66 L2382.44 1433.47 Z\" fill=\"#000000\" fill-rule=\"evenodd\" fill-opacity=\"1\" /><path clip-path=\"url(#clip100)\" d=\"M1128.5 1526.67 L1134.93 1526.67 L1134.93 1574.19 L1128.5 1574.19 L1128.5 1526.67 Z\" fill=\"#000000\" fill-rule=\"evenodd\" fill-opacity=\"1\" /><path clip-path=\"url(#clip100)\" d=\"M1153.26 1528.42 L1153.26 1538.54 L1165.33 1538.54 L1165.33 1543.09 L1153.26 1543.09 L1153.26 1562.44 Q1153.26 1566.8 1154.44 1568.04 Q1155.65 1569.28 1159.31 1569.28 L1165.33 1569.28 L1165.33 1574.19 L1159.31 1574.19 Q1152.53 1574.19 1149.95 1571.67 Q1147.38 1569.12 1147.38 1562.44 L1147.38 1543.09 L1143.08 1543.09 L1143.08 1538.54 L1147.38 1538.54 L1147.38 1528.42 L1153.26 1528.42 Z\" fill=\"#000000\" fill-rule=\"evenodd\" fill-opacity=\"1\" /><path clip-path=\"url(#clip100)\" d=\"M1203.52 1554.9 L1203.52 1557.76 L1176.59 1557.76 Q1176.98 1563.81 1180.22 1566.99 Q1183.5 1570.14 1189.33 1570.14 Q1192.7 1570.14 1195.85 1569.32 Q1199.03 1568.49 1202.15 1566.83 L1202.15 1572.37 Q1199 1573.71 1195.69 1574.41 Q1192.38 1575.11 1188.98 1575.11 Q1180.45 1575.11 1175.45 1570.14 Q1170.48 1565.18 1170.48 1556.71 Q1170.48 1547.96 1175.19 1542.83 Q1179.94 1537.68 1187.96 1537.68 Q1195.15 1537.68 1199.32 1542.33 Q1203.52 1546.94 1203.52 1554.9 M1197.66 1553.18 Q1197.6 1548.37 1194.96 1545.51 Q1192.35 1542.64 1188.02 1542.64 Q1183.12 1542.64 1180.16 1545.41 Q1177.23 1548.18 1176.78 1553.21 L1197.66 1553.18 Z\" fill=\"#000000\" fill-rule=\"evenodd\" fill-opacity=\"1\" /><path clip-path=\"url(#clip100)\" d=\"M1233.79 1544.01 Q1232.8 1543.44 1231.63 1543.18 Q1230.48 1542.9 1229.08 1542.9 Q1224.11 1542.9 1221.44 1546.14 Q1218.8 1549.36 1218.8 1555.41 L1218.8 1574.19 L1212.91 1574.19 L1212.91 1538.54 L1218.8 1538.54 L1218.8 1544.08 Q1220.64 1540.83 1223.6 1539.27 Q1226.56 1537.68 1230.8 1537.68 Q1231.4 1537.68 1232.13 1537.77 Q1232.87 1537.84 1233.76 1538 L1233.79 1544.01 Z\" fill=\"#000000\" fill-rule=\"evenodd\" fill-opacity=\"1\" /><path clip-path=\"url(#clip100)\" d=\"M1256.13 1556.27 Q1249.04 1556.27 1246.3 1557.89 Q1243.56 1559.51 1243.56 1563.43 Q1243.56 1566.55 1245.6 1568.39 Q1247.67 1570.21 1251.2 1570.21 Q1256.07 1570.21 1259 1566.77 Q1261.96 1563.3 1261.96 1557.57 L1261.96 1556.27 L1256.13 1556.27 M1267.81 1553.85 L1267.81 1574.19 L1261.96 1574.19 L1261.96 1568.77 Q1259.95 1572.02 1256.96 1573.58 Q1253.97 1575.11 1249.64 1575.11 Q1244.17 1575.11 1240.92 1572.05 Q1237.7 1568.97 1237.7 1563.81 Q1237.7 1557.79 1241.71 1554.74 Q1245.76 1551.68 1253.75 1551.68 L1261.96 1551.68 L1261.96 1551.11 Q1261.96 1547.07 1259.28 1544.87 Q1256.64 1542.64 1251.84 1542.64 Q1248.78 1542.64 1245.88 1543.38 Q1242.99 1544.11 1240.31 1545.57 L1240.31 1540.16 Q1243.53 1538.92 1246.55 1538.31 Q1249.58 1537.68 1252.44 1537.68 Q1260.18 1537.68 1263.99 1541.69 Q1267.81 1545.7 1267.81 1553.85 Z\" fill=\"#000000\" fill-rule=\"evenodd\" fill-opacity=\"1\" /><path clip-path=\"url(#clip100)\" d=\"M1285.67 1528.42 L1285.67 1538.54 L1297.73 1538.54 L1297.73 1543.09 L1285.67 1543.09 L1285.67 1562.44 Q1285.67 1566.8 1286.85 1568.04 Q1288.06 1569.28 1291.72 1569.28 L1297.73 1569.28 L1297.73 1574.19 L1291.72 1574.19 Q1284.94 1574.19 1282.36 1571.67 Q1279.78 1569.12 1279.78 1562.44 L1279.78 1543.09 L1275.49 1543.09 L1275.49 1538.54 L1279.78 1538.54 L1279.78 1528.42 L1285.67 1528.42 Z\" fill=\"#000000\" fill-rule=\"evenodd\" fill-opacity=\"1\" /><path clip-path=\"url(#clip100)\" d=\"M1305.44 1538.54 L1311.29 1538.54 L1311.29 1574.19 L1305.44 1574.19 L1305.44 1538.54 M1305.44 1524.66 L1311.29 1524.66 L1311.29 1532.08 L1305.44 1532.08 L1305.44 1524.66 Z\" fill=\"#000000\" fill-rule=\"evenodd\" fill-opacity=\"1\" /><path clip-path=\"url(#clip100)\" d=\"M1337.36 1542.64 Q1332.65 1542.64 1329.91 1546.34 Q1327.17 1550 1327.17 1556.39 Q1327.17 1562.79 1329.88 1566.48 Q1332.62 1570.14 1337.36 1570.14 Q1342.04 1570.14 1344.78 1566.45 Q1347.51 1562.76 1347.51 1556.39 Q1347.51 1550.06 1344.78 1546.37 Q1342.04 1542.64 1337.36 1542.64 M1337.36 1537.68 Q1345 1537.68 1349.36 1542.64 Q1353.72 1547.61 1353.72 1556.39 Q1353.72 1565.15 1349.36 1570.14 Q1345 1575.11 1337.36 1575.11 Q1329.69 1575.11 1325.33 1570.14 Q1321 1565.15 1321 1556.39 Q1321 1547.61 1325.33 1542.64 Q1329.69 1537.68 1337.36 1537.68 Z\" fill=\"#000000\" fill-rule=\"evenodd\" fill-opacity=\"1\" /><path clip-path=\"url(#clip100)\" d=\"M1393.06 1552.67 L1393.06 1574.19 L1387.2 1574.19 L1387.2 1552.86 Q1387.2 1547.8 1385.23 1545.29 Q1383.26 1542.77 1379.31 1542.77 Q1374.57 1542.77 1371.83 1545.79 Q1369.09 1548.82 1369.09 1554.04 L1369.09 1574.19 L1363.2 1574.19 L1363.2 1538.54 L1369.09 1538.54 L1369.09 1544.08 Q1371.19 1540.86 1374.03 1539.27 Q1376.89 1537.68 1380.61 1537.68 Q1386.76 1537.68 1389.91 1541.5 Q1393.06 1545.29 1393.06 1552.67 Z\" fill=\"#000000\" fill-rule=\"evenodd\" fill-opacity=\"1\" /><path clip-path=\"url(#clip100)\" d=\"M1427.47 1539.59 L1427.47 1545.13 Q1424.98 1543.85 1422.31 1543.22 Q1419.64 1542.58 1416.77 1542.58 Q1412.41 1542.58 1410.22 1543.92 Q1408.05 1545.25 1408.05 1547.93 Q1408.05 1549.96 1409.61 1551.14 Q1411.17 1552.29 1415.88 1553.34 L1417.89 1553.78 Q1424.12 1555.12 1426.73 1557.57 Q1429.38 1559.99 1429.38 1564.35 Q1429.38 1569.32 1425.43 1572.21 Q1421.51 1575.11 1414.64 1575.11 Q1411.77 1575.11 1408.66 1574.54 Q1405.57 1573.99 1402.13 1572.88 L1402.13 1566.83 Q1405.38 1568.52 1408.53 1569.38 Q1411.68 1570.21 1414.77 1570.21 Q1418.9 1570.21 1421.13 1568.81 Q1423.36 1567.37 1423.36 1564.8 Q1423.36 1562.41 1421.74 1561.14 Q1420.15 1559.86 1414.7 1558.68 L1412.67 1558.21 Q1407.22 1557.06 1404.8 1554.71 Q1402.39 1552.32 1402.39 1548.18 Q1402.39 1543.15 1405.95 1540.42 Q1409.51 1537.68 1416.07 1537.68 Q1419.32 1537.68 1422.18 1538.16 Q1425.05 1538.63 1427.47 1539.59 Z\" fill=\"#000000\" fill-rule=\"evenodd\" fill-opacity=\"1\" /><polyline clip-path=\"url(#clip102)\" style=\"stroke:#000000; stroke-linecap:round; stroke-linejoin:round; stroke-width:2; stroke-opacity:0.1; fill:none\" points=\"\n",
       "  205.121,1351.24 2352.76,1351.24 \n",
       "  \"/>\n",
       "<polyline clip-path=\"url(#clip102)\" style=\"stroke:#000000; stroke-linecap:round; stroke-linejoin:round; stroke-width:2; stroke-opacity:0.1; fill:none\" points=\"\n",
       "  205.121,1087.91 2352.76,1087.91 \n",
       "  \"/>\n",
       "<polyline clip-path=\"url(#clip102)\" style=\"stroke:#000000; stroke-linecap:round; stroke-linejoin:round; stroke-width:2; stroke-opacity:0.1; fill:none\" points=\"\n",
       "  205.121,824.584 2352.76,824.584 \n",
       "  \"/>\n",
       "<polyline clip-path=\"url(#clip102)\" style=\"stroke:#000000; stroke-linecap:round; stroke-linejoin:round; stroke-width:2; stroke-opacity:0.1; fill:none\" points=\"\n",
       "  205.121,561.256 2352.76,561.256 \n",
       "  \"/>\n",
       "<polyline clip-path=\"url(#clip102)\" style=\"stroke:#000000; stroke-linecap:round; stroke-linejoin:round; stroke-width:2; stroke-opacity:0.1; fill:none\" points=\"\n",
       "  205.121,297.928 2352.76,297.928 \n",
       "  \"/>\n",
       "<polyline clip-path=\"url(#clip100)\" style=\"stroke:#000000; stroke-linecap:round; stroke-linejoin:round; stroke-width:4; stroke-opacity:1; fill:none\" points=\"\n",
       "  205.121,1410.9 205.121,47.2441 \n",
       "  \"/>\n",
       "<polyline clip-path=\"url(#clip100)\" style=\"stroke:#000000; stroke-linecap:round; stroke-linejoin:round; stroke-width:4; stroke-opacity:1; fill:none\" points=\"\n",
       "  205.121,1351.24 224.019,1351.24 \n",
       "  \"/>\n",
       "<polyline clip-path=\"url(#clip100)\" style=\"stroke:#000000; stroke-linecap:round; stroke-linejoin:round; stroke-width:4; stroke-opacity:1; fill:none\" points=\"\n",
       "  205.121,1087.91 224.019,1087.91 \n",
       "  \"/>\n",
       "<polyline clip-path=\"url(#clip100)\" style=\"stroke:#000000; stroke-linecap:round; stroke-linejoin:round; stroke-width:4; stroke-opacity:1; fill:none\" points=\"\n",
       "  205.121,824.584 224.019,824.584 \n",
       "  \"/>\n",
       "<polyline clip-path=\"url(#clip100)\" style=\"stroke:#000000; stroke-linecap:round; stroke-linejoin:round; stroke-width:4; stroke-opacity:1; fill:none\" points=\"\n",
       "  205.121,561.256 224.019,561.256 \n",
       "  \"/>\n",
       "<polyline clip-path=\"url(#clip100)\" style=\"stroke:#000000; stroke-linecap:round; stroke-linejoin:round; stroke-width:4; stroke-opacity:1; fill:none\" points=\"\n",
       "  205.121,297.928 224.019,297.928 \n",
       "  \"/>\n",
       "<path clip-path=\"url(#clip100)\" d=\"M157.177 1337.04 Q153.566 1337.04 151.737 1340.6 Q149.931 1344.15 149.931 1351.27 Q149.931 1358.38 151.737 1361.95 Q153.566 1365.49 157.177 1365.49 Q160.811 1365.49 162.616 1361.95 Q164.445 1358.38 164.445 1351.27 Q164.445 1344.15 162.616 1340.6 Q160.811 1337.04 157.177 1337.04 M157.177 1333.34 Q162.987 1333.34 166.042 1337.94 Q169.121 1342.52 169.121 1351.27 Q169.121 1360 166.042 1364.61 Q162.987 1369.19 157.177 1369.19 Q151.366 1369.19 148.288 1364.61 Q145.232 1360 145.232 1351.27 Q145.232 1342.52 148.288 1337.94 Q151.366 1333.34 157.177 1333.34 Z\" fill=\"#000000\" fill-rule=\"evenodd\" fill-opacity=\"1\" /><path clip-path=\"url(#clip100)\" d=\"M121.043 1101.26 L137.362 1101.26 L137.362 1105.19 L115.418 1105.19 L115.418 1101.26 Q118.08 1098.5 122.663 1093.87 Q127.269 1089.22 128.45 1087.88 Q130.695 1085.35 131.575 1083.62 Q132.478 1081.86 132.478 1080.17 Q132.478 1077.41 130.533 1075.68 Q128.612 1073.94 125.51 1073.94 Q123.311 1073.94 120.857 1074.71 Q118.427 1075.47 115.649 1077.02 L115.649 1072.3 Q118.473 1071.16 120.927 1070.59 Q123.38 1070.01 125.418 1070.01 Q130.788 1070.01 133.982 1072.69 Q137.177 1075.38 137.177 1079.87 Q137.177 1082 136.367 1083.92 Q135.579 1085.82 133.473 1088.41 Q132.894 1089.08 129.792 1092.3 Q126.691 1095.49 121.043 1101.26 Z\" fill=\"#000000\" fill-rule=\"evenodd\" fill-opacity=\"1\" /><path clip-path=\"url(#clip100)\" d=\"M157.177 1073.71 Q153.566 1073.71 151.737 1077.28 Q149.931 1080.82 149.931 1087.95 Q149.931 1095.05 151.737 1098.62 Q153.566 1102.16 157.177 1102.16 Q160.811 1102.16 162.616 1098.62 Q164.445 1095.05 164.445 1087.95 Q164.445 1080.82 162.616 1077.28 Q160.811 1073.71 157.177 1073.71 M157.177 1070.01 Q162.987 1070.01 166.042 1074.61 Q169.121 1079.2 169.121 1087.95 Q169.121 1096.67 166.042 1101.28 Q162.987 1105.86 157.177 1105.86 Q151.366 1105.86 148.288 1101.28 Q145.232 1096.67 145.232 1087.95 Q145.232 1079.2 148.288 1074.61 Q151.366 1070.01 157.177 1070.01 Z\" fill=\"#000000\" fill-rule=\"evenodd\" fill-opacity=\"1\" /><path clip-path=\"url(#clip100)\" d=\"M129.862 811.378 L118.056 829.827 L129.862 829.827 L129.862 811.378 M128.635 807.304 L134.515 807.304 L134.515 829.827 L139.445 829.827 L139.445 833.716 L134.515 833.716 L134.515 841.864 L129.862 841.864 L129.862 833.716 L114.26 833.716 L114.26 829.202 L128.635 807.304 Z\" fill=\"#000000\" fill-rule=\"evenodd\" fill-opacity=\"1\" /><path clip-path=\"url(#clip100)\" d=\"M157.177 810.383 Q153.566 810.383 151.737 813.947 Q149.931 817.489 149.931 824.619 Q149.931 831.725 151.737 835.29 Q153.566 838.832 157.177 838.832 Q160.811 838.832 162.616 835.29 Q164.445 831.725 164.445 824.619 Q164.445 817.489 162.616 813.947 Q160.811 810.383 157.177 810.383 M157.177 806.679 Q162.987 806.679 166.042 811.285 Q169.121 815.869 169.121 824.619 Q169.121 833.345 166.042 837.952 Q162.987 842.535 157.177 842.535 Q151.366 842.535 148.288 837.952 Q145.232 833.345 145.232 824.619 Q145.232 815.869 148.288 811.285 Q151.366 806.679 157.177 806.679 Z\" fill=\"#000000\" fill-rule=\"evenodd\" fill-opacity=\"1\" /><path clip-path=\"url(#clip100)\" d=\"M127.593 559.392 Q124.445 559.392 122.593 561.545 Q120.765 563.698 120.765 567.448 Q120.765 571.175 122.593 573.351 Q124.445 575.503 127.593 575.503 Q130.742 575.503 132.57 573.351 Q134.422 571.175 134.422 567.448 Q134.422 563.698 132.57 561.545 Q130.742 559.392 127.593 559.392 M136.876 544.74 L136.876 548.999 Q135.117 548.166 133.311 547.726 Q131.529 547.286 129.769 547.286 Q125.14 547.286 122.686 550.411 Q120.255 553.536 119.908 559.855 Q121.274 557.841 123.334 556.777 Q125.394 555.689 127.871 555.689 Q133.08 555.689 136.089 558.86 Q139.121 562.008 139.121 567.448 Q139.121 572.772 135.973 575.99 Q132.825 579.207 127.593 579.207 Q121.598 579.207 118.427 574.624 Q115.256 570.017 115.256 561.291 Q115.256 553.096 119.144 548.235 Q123.033 543.351 129.584 543.351 Q131.343 543.351 133.126 543.698 Q134.931 544.045 136.876 544.74 Z\" fill=\"#000000\" fill-rule=\"evenodd\" fill-opacity=\"1\" /><path clip-path=\"url(#clip100)\" d=\"M157.177 547.054 Q153.566 547.054 151.737 550.619 Q149.931 554.161 149.931 561.291 Q149.931 568.397 151.737 571.962 Q153.566 575.503 157.177 575.503 Q160.811 575.503 162.616 571.962 Q164.445 568.397 164.445 561.291 Q164.445 554.161 162.616 550.619 Q160.811 547.054 157.177 547.054 M157.177 543.351 Q162.987 543.351 166.042 547.957 Q169.121 552.541 169.121 561.291 Q169.121 570.017 166.042 574.624 Q162.987 579.207 157.177 579.207 Q151.366 579.207 148.288 574.624 Q145.232 570.017 145.232 561.291 Q145.232 552.541 148.288 547.957 Q151.366 543.351 157.177 543.351 Z\" fill=\"#000000\" fill-rule=\"evenodd\" fill-opacity=\"1\" /><path clip-path=\"url(#clip100)\" d=\"M127.015 298.796 Q123.681 298.796 121.76 300.578 Q119.862 302.36 119.862 305.485 Q119.862 308.61 121.76 310.393 Q123.681 312.175 127.015 312.175 Q130.348 312.175 132.269 310.393 Q134.191 308.587 134.191 305.485 Q134.191 302.36 132.269 300.578 Q130.371 298.796 127.015 298.796 M122.339 296.805 Q119.33 296.064 117.64 294.004 Q115.973 291.944 115.973 288.981 Q115.973 284.837 118.913 282.43 Q121.876 280.023 127.015 280.023 Q132.177 280.023 135.117 282.43 Q138.056 284.837 138.056 288.981 Q138.056 291.944 136.367 294.004 Q134.7 296.064 131.714 296.805 Q135.093 297.592 136.968 299.884 Q138.867 302.175 138.867 305.485 Q138.867 310.509 135.788 313.194 Q132.732 315.879 127.015 315.879 Q121.297 315.879 118.218 313.194 Q115.163 310.509 115.163 305.485 Q115.163 302.175 117.061 299.884 Q118.959 297.592 122.339 296.805 M120.626 289.421 Q120.626 292.106 122.293 293.611 Q123.982 295.115 127.015 295.115 Q130.024 295.115 131.714 293.611 Q133.427 292.106 133.427 289.421 Q133.427 286.736 131.714 285.231 Q130.024 283.726 127.015 283.726 Q123.982 283.726 122.293 285.231 Q120.626 286.736 120.626 289.421 Z\" fill=\"#000000\" fill-rule=\"evenodd\" fill-opacity=\"1\" /><path clip-path=\"url(#clip100)\" d=\"M157.177 283.726 Q153.566 283.726 151.737 287.291 Q149.931 290.833 149.931 297.962 Q149.931 305.069 151.737 308.634 Q153.566 312.175 157.177 312.175 Q160.811 312.175 162.616 308.634 Q164.445 305.069 164.445 297.962 Q164.445 290.833 162.616 287.291 Q160.811 283.726 157.177 283.726 M157.177 280.023 Q162.987 280.023 166.042 284.629 Q169.121 289.212 169.121 297.962 Q169.121 306.689 166.042 311.296 Q162.987 315.879 157.177 315.879 Q151.366 315.879 148.288 311.296 Q145.232 306.689 145.232 297.962 Q145.232 289.212 148.288 284.629 Q151.366 280.023 157.177 280.023 Z\" fill=\"#000000\" fill-rule=\"evenodd\" fill-opacity=\"1\" /><path clip-path=\"url(#clip100)\" d=\"M41.7242 821.755 Q42.4244 819.686 44.7161 817.745 Q47.0077 815.771 51.0181 813.798 L64.0042 807.273 L64.0042 814.18 L51.8138 820.259 Q47.0395 822.614 45.48 824.842 Q43.9204 827.039 43.9204 830.858 L43.9204 837.86 L64.0042 837.86 L64.0042 844.29 L16.4842 844.29 L16.4842 829.776 Q16.4842 821.628 19.8898 817.617 Q23.2955 813.607 30.1704 813.607 Q34.6582 813.607 37.6183 815.708 Q40.5784 817.776 41.7242 821.755 M21.7677 837.86 L38.6368 837.86 L38.6368 829.776 Q38.6368 825.129 36.5043 822.774 Q34.34 820.386 30.1704 820.386 Q26.0009 820.386 23.9002 822.774 Q21.7677 825.129 21.7677 829.776 L21.7677 837.86 Z\" fill=\"#000000\" fill-rule=\"evenodd\" fill-opacity=\"1\" /><path clip-path=\"url(#clip100)\" d=\"M44.7161 771.689 L47.5806 771.689 L47.5806 798.616 Q53.6281 798.234 56.8109 794.987 Q59.9619 791.709 59.9619 785.884 Q59.9619 782.51 59.1344 779.359 Q58.3069 776.177 56.6518 773.057 L62.1899 773.057 Q63.5267 776.208 64.227 779.519 Q64.9272 782.829 64.9272 786.234 Q64.9272 794.764 59.9619 799.762 Q54.9967 804.727 46.5303 804.727 Q37.7774 804.727 32.6531 800.016 Q27.4968 795.274 27.4968 787.253 Q27.4968 780.06 32.1438 775.89 Q36.7589 771.689 44.7161 771.689 M42.9973 777.545 Q38.1912 777.609 35.3266 780.251 Q32.4621 782.861 32.4621 787.189 Q32.4621 792.091 35.2312 795.051 Q38.0002 797.979 43.0292 798.425 L42.9973 777.545 Z\" fill=\"#000000\" fill-rule=\"evenodd\" fill-opacity=\"1\" /><path clip-path=\"url(#clip100)\" d=\"M28.3562 765.482 L28.3562 759.626 L56.1743 752.305 L28.3562 745.016 L28.3562 738.11 L56.1743 730.789 L28.3562 723.5 L28.3562 717.644 L64.0042 726.97 L64.0042 733.876 L34.7856 741.547 L64.0042 749.25 L64.0042 756.156 L28.3562 765.482 Z\" fill=\"#000000\" fill-rule=\"evenodd\" fill-opacity=\"1\" /><path clip-path=\"url(#clip100)\" d=\"M46.0847 692.563 Q46.0847 699.661 47.7079 702.398 Q49.3312 705.135 53.2461 705.135 Q56.3653 705.135 58.2114 703.098 Q60.0256 701.029 60.0256 697.496 Q60.0256 692.627 56.5881 689.698 Q53.1188 686.738 47.3897 686.738 L46.0847 686.738 L46.0847 692.563 M43.6657 680.882 L64.0042 680.882 L64.0042 686.738 L58.5933 686.738 Q61.8398 688.744 63.3994 691.735 Q64.9272 694.727 64.9272 699.056 Q64.9272 704.531 61.8716 707.777 Q58.7843 710.992 53.6281 710.992 Q47.6125 710.992 44.5569 706.981 Q41.5014 702.939 41.5014 694.95 L41.5014 686.738 L40.9285 686.738 Q36.8862 686.738 34.6901 689.412 Q32.4621 692.054 32.4621 696.86 Q32.4621 699.915 33.1941 702.812 Q33.9262 705.708 35.3903 708.382 L29.9795 708.382 Q28.7381 705.167 28.1334 702.143 Q27.4968 699.12 27.4968 696.255 Q27.4968 688.521 31.5072 684.701 Q35.5176 680.882 43.6657 680.882 Z\" fill=\"#000000\" fill-rule=\"evenodd\" fill-opacity=\"1\" /><path clip-path=\"url(#clip100)\" d=\"M33.8307 648.162 Q33.2578 649.149 33.0032 650.327 Q32.7167 651.472 32.7167 652.873 Q32.7167 657.838 35.9632 660.512 Q39.1779 663.153 45.2253 663.153 L64.0042 663.153 L64.0042 669.042 L28.3562 669.042 L28.3562 663.153 L33.8944 663.153 Q30.6479 661.307 29.0883 658.347 Q27.4968 655.387 27.4968 651.154 Q27.4968 650.549 27.5923 649.817 Q27.656 649.085 27.8151 648.194 L33.8307 648.162 Z\" fill=\"#000000\" fill-rule=\"evenodd\" fill-opacity=\"1\" /><path clip-path=\"url(#clip100)\" d=\"M33.7671 619.708 L14.479 619.708 L14.479 613.851 L64.0042 613.851 L64.0042 619.708 L58.657 619.708 Q61.8398 621.554 63.3994 624.386 Q64.9272 627.187 64.9272 631.134 Q64.9272 637.595 59.771 641.669 Q54.6147 645.711 46.212 645.711 Q37.8093 645.711 32.6531 641.669 Q27.4968 637.595 27.4968 631.134 Q27.4968 627.187 29.0564 624.386 Q30.5842 621.554 33.7671 619.708 M46.212 639.664 Q52.6732 639.664 56.3653 637.022 Q60.0256 634.349 60.0256 629.702 Q60.0256 625.055 56.3653 622.381 Q52.6732 619.708 46.212 619.708 Q39.7508 619.708 36.0905 622.381 Q32.3984 625.055 32.3984 629.702 Q32.3984 634.349 36.0905 637.022 Q39.7508 639.664 46.212 639.664 Z\" fill=\"#000000\" fill-rule=\"evenodd\" fill-opacity=\"1\" /><polyline clip-path=\"url(#clip102)\" style=\"stroke:#009af9; stroke-linecap:round; stroke-linejoin:round; stroke-width:4; stroke-opacity:1; fill:none\" points=\"\n",
       "  265.903,1372.3 276.084,1368.41 286.266,1362.82 296.447,1366.03 306.628,1362.74 316.809,1361.41 326.991,1359.28 337.172,1361.23 347.353,1362.92 357.534,1361.74 \n",
       "  367.716,1358.2 377.897,1357.54 388.078,1358.98 398.259,1356.99 408.441,1357.52 418.622,1357.25 428.803,1352.37 438.985,1359.38 449.166,1357.41 459.347,1357.44 \n",
       "  469.528,1357.95 479.71,1358 489.891,1355.3 500.072,1357.59 510.253,1355.2 520.435,1354.47 530.616,1352.72 540.797,1350.7 550.978,1348.99 561.16,1352.03 \n",
       "  571.341,1351.64 581.522,1348.23 591.703,1351.16 601.885,1343.47 612.066,1345.57 622.247,1342.93 632.428,1333.9 642.61,1345.28 652.791,1347.87 662.972,1343 \n",
       "  673.153,1339.02 683.335,1343.81 693.516,1345.61 703.697,1329.2 713.879,1333.46 724.06,1338.17 734.241,1325.15 744.422,1329.31 754.604,1331.21 764.785,1329.44 \n",
       "  774.966,1326.87 785.147,1323.98 795.329,1328.08 805.51,1326.01 815.691,1331.43 825.872,1326.3 836.054,1314.73 846.235,1329.04 856.416,1323.7 866.597,1322.48 \n",
       "  876.779,1314.08 886.96,1299.3 897.141,1302.2 907.322,1315.62 917.504,1307.22 927.685,1309.57 937.866,1292.01 948.047,1293.41 958.229,1295.5 968.41,1297.88 \n",
       "  978.591,1294.21 988.773,1301.76 998.954,1277.85 1009.14,1275.07 1019.32,1276.19 1029.5,1278.31 1039.68,1263.9 1049.86,1266.92 1060.04,1258.3 1070.22,1253.51 \n",
       "  1080.4,1243.2 1090.59,1248.05 1100.77,1239.49 1110.95,1238.54 1121.13,1223.31 1131.31,1218.08 1141.49,1219.3 1151.67,1185.69 1161.85,1178.17 1172.04,1223.67 \n",
       "  1182.22,1192.46 1192.4,1196.25 1202.58,1171.06 1212.76,1180.82 1222.94,1155.9 1233.12,1151.91 1243.3,1141.7 1253.49,1141.79 1263.67,1098.71 1273.85,1115.43 \n",
       "  1284.03,1104.92 1294.21,1118.21 1304.39,1110.76 1314.57,1085.29 1324.75,1069.86 1334.94,1028.35 1345.12,1067.68 1355.3,1020.9 1365.48,1016.18 1375.66,990.441 \n",
       "  1385.84,969.398 1396.02,953.45 1406.2,930.537 1416.39,921.607 1426.57,853.629 1436.75,846.055 1446.93,800.414 1457.11,755.571 1467.29,722.348 1477.47,655.624 \n",
       "  1487.65,610.729 1497.84,614.133 1508.02,551.574 1518.2,541.46 1528.38,486.192 1538.56,429.469 1548.74,403.4 1558.92,431.795 1569.1,420.318 1579.29,353.79 \n",
       "  1589.47,357.262 1599.65,389.229 1609.83,327.073 1620.01,315.27 1630.19,273.739 1640.37,293.263 1650.55,259.279 1660.74,239.213 1670.92,252.366 1681.1,226.986 \n",
       "  1691.28,232.477 1701.46,221.022 1711.64,213.892 1721.82,211.916 1732,208.785 1742.19,202.606 1752.37,178.789 1762.55,179.987 1772.73,189.553 1782.91,200.241 \n",
       "  1793.09,190.938 1803.27,184.159 1813.45,196.653 1823.64,185.57 1833.82,163.185 1844,163.48 1854.18,169.41 1864.36,199.843 1874.54,172.628 1884.72,167.835 \n",
       "  1894.9,143.8 1905.09,151.375 1915.27,153.393 1925.45,156.067 1935.63,150.664 1945.81,114.61 1955.99,109.606 1966.17,140.596 1976.35,123.275 1986.54,133.24 \n",
       "  1996.72,112.467 2006.9,121.431 2017.08,107.013 2027.26,119.069 2037.44,104.026 2047.62,95.2186 2057.8,122.759 2067.99,128.408 2078.17,111.784 2088.35,114.618 \n",
       "  2098.53,105.596 2108.71,110.299 2118.89,107.469 2129.07,111.944 2139.25,102.867 2149.44,115.458 2159.62,104.499 2169.8,103.762 2179.98,99.4854 2190.16,94.6115 \n",
       "  2200.34,88.7129 2210.52,88.6999 2220.7,104.331 2230.89,85.838 2241.07,97.8356 2251.25,87.0726 2261.43,96.462 2271.61,108.29 2281.79,86.6762 2291.97,102.131 \n",
       "  \n",
       "  \"/>\n",
       "</svg>\n"
      ]
     },
     "execution_count": 42,
     "metadata": {},
     "output_type": "execute_result"
    }
   ],
   "source": [
    "plot(iterations, rewards, xlabel=\"Iterations\", ylabel=\"Reward\", legend = false, xformatter = :scientific)"
   ]
  },
  {
   "cell_type": "code",
   "execution_count": 43,
   "id": "405bd6ad",
   "metadata": {},
   "outputs": [
    {
     "data": {
      "text/plain": [
       "\"/home/larissa/Documents/Projects/ADLR/ADLR_project/src/RL_PPO_quadcopter_3D/plots/slow/reward.svg\""
      ]
     },
     "execution_count": 43,
     "metadata": {},
     "output_type": "execute_result"
    }
   ],
   "source": [
    "savefig(fig_path * \"reward.svg\")"
   ]
  },
  {
   "cell_type": "code",
   "execution_count": 44,
   "id": "9535a7a5",
   "metadata": {},
   "outputs": [
    {
     "data": {
      "image/svg+xml": [
       "<?xml version=\"1.0\" encoding=\"utf-8\"?>\n",
       "<svg xmlns=\"http://www.w3.org/2000/svg\" xmlns:xlink=\"http://www.w3.org/1999/xlink\" width=\"600\" height=\"400\" viewBox=\"0 0 2400 1600\">\n",
       "<defs>\n",
       "  <clipPath id=\"clip180\">\n",
       "    <rect x=\"0\" y=\"0\" width=\"2400\" height=\"1600\"/>\n",
       "  </clipPath>\n",
       "</defs>\n",
       "<path clip-path=\"url(#clip180)\" d=\"\n",
       "M0 1600 L2400 1600 L2400 0 L0 0  Z\n",
       "  \" fill=\"#ffffff\" fill-rule=\"evenodd\" fill-opacity=\"1\"/>\n",
       "<defs>\n",
       "  <clipPath id=\"clip181\">\n",
       "    <rect x=\"480\" y=\"0\" width=\"1681\" height=\"1600\"/>\n",
       "  </clipPath>\n",
       "</defs>\n",
       "<path clip-path=\"url(#clip180)\" d=\"\n",
       "M249.542 1410.9 L2352.76 1410.9 L2352.76 47.2441 L249.542 47.2441  Z\n",
       "  \" fill=\"#ffffff\" fill-rule=\"evenodd\" fill-opacity=\"1\"/>\n",
       "<defs>\n",
       "  <clipPath id=\"clip182\">\n",
       "    <rect x=\"249\" y=\"47\" width=\"2104\" height=\"1365\"/>\n",
       "  </clipPath>\n",
       "</defs>\n",
       "<polyline clip-path=\"url(#clip182)\" style=\"stroke:#000000; stroke-linecap:round; stroke-linejoin:round; stroke-width:2; stroke-opacity:0.1; fill:none\" points=\"\n",
       "  299.096,1410.9 299.096,47.2441 \n",
       "  \"/>\n",
       "<polyline clip-path=\"url(#clip182)\" style=\"stroke:#000000; stroke-linecap:round; stroke-linejoin:round; stroke-width:2; stroke-opacity:0.1; fill:none\" points=\"\n",
       "  797.63,1410.9 797.63,47.2441 \n",
       "  \"/>\n",
       "<polyline clip-path=\"url(#clip182)\" style=\"stroke:#000000; stroke-linecap:round; stroke-linejoin:round; stroke-width:2; stroke-opacity:0.1; fill:none\" points=\"\n",
       "  1296.16,1410.9 1296.16,47.2441 \n",
       "  \"/>\n",
       "<polyline clip-path=\"url(#clip182)\" style=\"stroke:#000000; stroke-linecap:round; stroke-linejoin:round; stroke-width:2; stroke-opacity:0.1; fill:none\" points=\"\n",
       "  1794.7,1410.9 1794.7,47.2441 \n",
       "  \"/>\n",
       "<polyline clip-path=\"url(#clip182)\" style=\"stroke:#000000; stroke-linecap:round; stroke-linejoin:round; stroke-width:2; stroke-opacity:0.1; fill:none\" points=\"\n",
       "  2293.23,1410.9 2293.23,47.2441 \n",
       "  \"/>\n",
       "<polyline clip-path=\"url(#clip180)\" style=\"stroke:#000000; stroke-linecap:round; stroke-linejoin:round; stroke-width:4; stroke-opacity:1; fill:none\" points=\"\n",
       "  249.542,1410.9 2352.76,1410.9 \n",
       "  \"/>\n",
       "<polyline clip-path=\"url(#clip180)\" style=\"stroke:#000000; stroke-linecap:round; stroke-linejoin:round; stroke-width:4; stroke-opacity:1; fill:none\" points=\"\n",
       "  299.096,1410.9 299.096,1392 \n",
       "  \"/>\n",
       "<polyline clip-path=\"url(#clip180)\" style=\"stroke:#000000; stroke-linecap:round; stroke-linejoin:round; stroke-width:4; stroke-opacity:1; fill:none\" points=\"\n",
       "  797.63,1410.9 797.63,1392 \n",
       "  \"/>\n",
       "<polyline clip-path=\"url(#clip180)\" style=\"stroke:#000000; stroke-linecap:round; stroke-linejoin:round; stroke-width:4; stroke-opacity:1; fill:none\" points=\"\n",
       "  1296.16,1410.9 1296.16,1392 \n",
       "  \"/>\n",
       "<polyline clip-path=\"url(#clip180)\" style=\"stroke:#000000; stroke-linecap:round; stroke-linejoin:round; stroke-width:4; stroke-opacity:1; fill:none\" points=\"\n",
       "  1794.7,1410.9 1794.7,1392 \n",
       "  \"/>\n",
       "<polyline clip-path=\"url(#clip180)\" style=\"stroke:#000000; stroke-linecap:round; stroke-linejoin:round; stroke-width:4; stroke-opacity:1; fill:none\" points=\"\n",
       "  2293.23,1410.9 2293.23,1392 \n",
       "  \"/>\n",
       "<path clip-path=\"url(#clip180)\" d=\"M299.096 1441.82 Q295.485 1441.82 293.656 1445.38 Q291.851 1448.92 291.851 1456.05 Q291.851 1463.16 293.656 1466.72 Q295.485 1470.26 299.096 1470.26 Q302.731 1470.26 304.536 1466.72 Q306.365 1463.16 306.365 1456.05 Q306.365 1448.92 304.536 1445.38 Q302.731 1441.82 299.096 1441.82 M299.096 1438.11 Q304.906 1438.11 307.962 1442.72 Q311.041 1447.3 311.041 1456.05 Q311.041 1464.78 307.962 1469.38 Q304.906 1473.97 299.096 1473.97 Q293.286 1473.97 290.207 1469.38 Q287.152 1464.78 287.152 1456.05 Q287.152 1447.3 290.207 1442.72 Q293.286 1438.11 299.096 1438.11 Z\" fill=\"#000000\" fill-rule=\"evenodd\" fill-opacity=\"1\" /><path clip-path=\"url(#clip180)\" d=\"M689.995 1454.4 L708.352 1454.4 L708.352 1458.33 L694.278 1458.33 L694.278 1466.8 Q695.296 1466.46 696.315 1466.29 Q697.333 1466.11 698.352 1466.11 Q704.139 1466.11 707.518 1469.28 Q710.898 1472.45 710.898 1477.87 Q710.898 1483.45 707.426 1486.55 Q703.954 1489.63 697.634 1489.63 Q695.458 1489.63 693.19 1489.26 Q690.944 1488.89 688.537 1488.15 L688.537 1483.45 Q690.62 1484.58 692.842 1485.14 Q695.065 1485.69 697.542 1485.69 Q701.546 1485.69 703.884 1483.59 Q706.222 1481.48 706.222 1477.87 Q706.222 1474.26 703.884 1472.15 Q701.546 1470.04 697.542 1470.04 Q695.667 1470.04 693.792 1470.46 Q691.94 1470.88 689.995 1471.76 L689.995 1454.4 Z\" fill=\"#000000\" fill-rule=\"evenodd\" fill-opacity=\"1\" /><path clip-path=\"url(#clip180)\" d=\"M720.111 1483.08 L724.995 1483.08 L724.995 1488.96 L720.111 1488.96 L720.111 1483.08 Z\" fill=\"#000000\" fill-rule=\"evenodd\" fill-opacity=\"1\" /><path clip-path=\"url(#clip180)\" d=\"M745.18 1457.48 Q741.569 1457.48 739.74 1461.04 Q737.935 1464.58 737.935 1471.71 Q737.935 1478.82 739.74 1482.38 Q741.569 1485.92 745.18 1485.92 Q748.814 1485.92 750.62 1482.38 Q752.449 1478.82 752.449 1471.71 Q752.449 1464.58 750.62 1461.04 Q748.814 1457.48 745.18 1457.48 M745.18 1453.77 Q750.99 1453.77 754.046 1458.38 Q757.125 1462.96 757.125 1471.71 Q757.125 1480.44 754.046 1485.04 Q750.99 1489.63 745.18 1489.63 Q739.37 1489.63 736.291 1485.04 Q733.236 1480.44 733.236 1471.71 Q733.236 1462.96 736.291 1458.38 Q739.37 1453.77 745.18 1453.77 Z\" fill=\"#000000\" fill-rule=\"evenodd\" fill-opacity=\"1\" /><path clip-path=\"url(#clip180)\" d=\"M775.342 1457.48 Q771.731 1457.48 769.902 1461.04 Q768.097 1464.58 768.097 1471.71 Q768.097 1478.82 769.902 1482.38 Q771.731 1485.92 775.342 1485.92 Q778.976 1485.92 780.782 1482.38 Q782.611 1478.82 782.611 1471.71 Q782.611 1464.58 780.782 1461.04 Q778.976 1457.48 775.342 1457.48 M775.342 1453.77 Q781.152 1453.77 784.208 1458.38 Q787.286 1462.96 787.286 1471.71 Q787.286 1480.44 784.208 1485.04 Q781.152 1489.63 775.342 1489.63 Q769.532 1489.63 766.453 1485.04 Q763.398 1480.44 763.398 1471.71 Q763.398 1462.96 766.453 1458.38 Q769.532 1453.77 775.342 1453.77 Z\" fill=\"#000000\" fill-rule=\"evenodd\" fill-opacity=\"1\" /><path clip-path=\"url(#clip180)\" d=\"M823.675 1463.49 L813.096 1474.12 L823.675 1484.7 L820.92 1487.5 L810.296 1476.87 L799.671 1487.5 L796.939 1484.7 L807.495 1474.12 L796.939 1463.49 L799.671 1460.69 L810.296 1471.32 L820.92 1460.69 L823.675 1463.49 Z\" fill=\"#000000\" fill-rule=\"evenodd\" fill-opacity=\"1\" /><path clip-path=\"url(#clip180)\" d=\"M836.036 1485.02 L843.675 1485.02 L843.675 1458.66 L835.365 1460.32 L835.365 1456.06 L843.629 1454.4 L848.305 1454.4 L848.305 1485.02 L855.943 1485.02 L855.943 1488.96 L836.036 1488.96 L836.036 1485.02 Z\" fill=\"#000000\" fill-rule=\"evenodd\" fill-opacity=\"1\" /><path clip-path=\"url(#clip180)\" d=\"M875.388 1457.48 Q871.777 1457.48 869.948 1461.04 Q868.142 1464.58 868.142 1471.71 Q868.142 1478.82 869.948 1482.38 Q871.777 1485.92 875.388 1485.92 Q879.022 1485.92 880.828 1482.38 Q882.656 1478.82 882.656 1471.71 Q882.656 1464.58 880.828 1461.04 Q879.022 1457.48 875.388 1457.48 M875.388 1453.77 Q881.198 1453.77 884.253 1458.38 Q887.332 1462.96 887.332 1471.71 Q887.332 1480.44 884.253 1485.04 Q881.198 1489.63 875.388 1489.63 Q869.578 1489.63 866.499 1485.04 Q863.443 1480.44 863.443 1471.71 Q863.443 1462.96 866.499 1458.38 Q869.578 1453.77 875.388 1453.77 Z\" fill=\"#000000\" fill-rule=\"evenodd\" fill-opacity=\"1\" /><path clip-path=\"url(#clip180)\" d=\"M897.357 1445.99 Q894.799 1445.99 893.294 1447.74 Q891.808 1449.49 891.808 1452.54 Q891.808 1455.57 893.294 1457.33 Q894.799 1459.08 897.357 1459.08 Q899.915 1459.08 901.4 1457.33 Q902.905 1455.57 902.905 1452.54 Q902.905 1449.49 901.4 1447.74 Q899.915 1445.99 897.357 1445.99 M904.899 1434.09 L904.899 1437.55 Q903.469 1436.87 902.002 1436.51 Q900.554 1436.16 899.125 1436.16 Q895.363 1436.16 893.369 1438.69 Q891.395 1441.23 891.113 1446.37 Q892.222 1444.73 893.896 1443.87 Q895.57 1442.98 897.582 1442.98 Q901.814 1442.98 904.259 1445.56 Q906.723 1448.12 906.723 1452.54 Q906.723 1456.86 904.165 1459.48 Q901.607 1462.09 897.357 1462.09 Q892.485 1462.09 889.909 1458.37 Q887.332 1454.62 887.332 1447.53 Q887.332 1440.88 890.492 1436.93 Q893.652 1432.96 898.974 1432.96 Q900.404 1432.96 901.852 1433.24 Q903.319 1433.52 904.899 1434.09 Z\" fill=\"#000000\" fill-rule=\"evenodd\" fill-opacity=\"1\" /><path clip-path=\"url(#clip180)\" d=\"M1189.19 1485.02 L1196.82 1485.02 L1196.82 1458.66 L1188.51 1460.32 L1188.51 1456.06 L1196.78 1454.4 L1201.45 1454.4 L1201.45 1485.02 L1209.09 1485.02 L1209.09 1488.96 L1189.19 1488.96 L1189.19 1485.02 Z\" fill=\"#000000\" fill-rule=\"evenodd\" fill-opacity=\"1\" /><path clip-path=\"url(#clip180)\" d=\"M1218.54 1483.08 L1223.42 1483.08 L1223.42 1488.96 L1218.54 1488.96 L1218.54 1483.08 Z\" fill=\"#000000\" fill-rule=\"evenodd\" fill-opacity=\"1\" /><path clip-path=\"url(#clip180)\" d=\"M1243.61 1457.48 Q1239.99 1457.48 1238.17 1461.04 Q1236.36 1464.58 1236.36 1471.71 Q1236.36 1478.82 1238.17 1482.38 Q1239.99 1485.92 1243.61 1485.92 Q1247.24 1485.92 1249.05 1482.38 Q1250.87 1478.82 1250.87 1471.71 Q1250.87 1464.58 1249.05 1461.04 Q1247.24 1457.48 1243.61 1457.48 M1243.61 1453.77 Q1249.42 1453.77 1252.47 1458.38 Q1255.55 1462.96 1255.55 1471.71 Q1255.55 1480.44 1252.47 1485.04 Q1249.42 1489.63 1243.61 1489.63 Q1237.8 1489.63 1234.72 1485.04 Q1231.66 1480.44 1231.66 1471.71 Q1231.66 1462.96 1234.72 1458.38 Q1237.8 1453.77 1243.61 1453.77 Z\" fill=\"#000000\" fill-rule=\"evenodd\" fill-opacity=\"1\" /><path clip-path=\"url(#clip180)\" d=\"M1273.77 1457.48 Q1270.16 1457.48 1268.33 1461.04 Q1266.52 1464.58 1266.52 1471.71 Q1266.52 1478.82 1268.33 1482.38 Q1270.16 1485.92 1273.77 1485.92 Q1277.4 1485.92 1279.21 1482.38 Q1281.04 1478.82 1281.04 1471.71 Q1281.04 1464.58 1279.21 1461.04 Q1277.4 1457.48 1273.77 1457.48 M1273.77 1453.77 Q1279.58 1453.77 1282.63 1458.38 Q1285.71 1462.96 1285.71 1471.71 Q1285.71 1480.44 1282.63 1485.04 Q1279.58 1489.63 1273.77 1489.63 Q1267.96 1489.63 1264.88 1485.04 Q1261.82 1480.44 1261.82 1471.71 Q1261.82 1462.96 1264.88 1458.38 Q1267.96 1453.77 1273.77 1453.77 Z\" fill=\"#000000\" fill-rule=\"evenodd\" fill-opacity=\"1\" /><path clip-path=\"url(#clip180)\" d=\"M1322.1 1463.49 L1311.52 1474.12 L1322.1 1484.7 L1319.35 1487.5 L1308.72 1476.87 L1298.1 1487.5 L1295.37 1484.7 L1305.92 1474.12 L1295.37 1463.49 L1298.1 1460.69 L1308.72 1471.32 L1319.35 1460.69 L1322.1 1463.49 Z\" fill=\"#000000\" fill-rule=\"evenodd\" fill-opacity=\"1\" /><path clip-path=\"url(#clip180)\" d=\"M1334.46 1485.02 L1342.1 1485.02 L1342.1 1458.66 L1333.79 1460.32 L1333.79 1456.06 L1342.05 1454.4 L1346.73 1454.4 L1346.73 1485.02 L1354.37 1485.02 L1354.37 1488.96 L1334.46 1488.96 L1334.46 1485.02 Z\" fill=\"#000000\" fill-rule=\"evenodd\" fill-opacity=\"1\" /><path clip-path=\"url(#clip180)\" d=\"M1373.81 1457.48 Q1370.2 1457.48 1368.37 1461.04 Q1366.57 1464.58 1366.57 1471.71 Q1366.57 1478.82 1368.37 1482.38 Q1370.2 1485.92 1373.81 1485.92 Q1377.45 1485.92 1379.25 1482.38 Q1381.08 1478.82 1381.08 1471.71 Q1381.08 1464.58 1379.25 1461.04 Q1377.45 1457.48 1373.81 1457.48 M1373.81 1453.77 Q1379.62 1453.77 1382.68 1458.38 Q1385.76 1462.96 1385.76 1471.71 Q1385.76 1480.44 1382.68 1485.04 Q1379.62 1489.63 1373.81 1489.63 Q1368 1489.63 1364.92 1485.04 Q1361.87 1480.44 1361.87 1471.71 Q1361.87 1462.96 1364.92 1458.38 Q1368 1453.77 1373.81 1453.77 Z\" fill=\"#000000\" fill-rule=\"evenodd\" fill-opacity=\"1\" /><path clip-path=\"url(#clip180)\" d=\"M1385.76 1433.47 L1403.81 1433.47 L1403.81 1435.08 L1393.62 1461.55 L1389.65 1461.55 L1399.24 1436.66 L1385.76 1436.66 L1385.76 1433.47 Z\" fill=\"#000000\" fill-rule=\"evenodd\" fill-opacity=\"1\" /><path clip-path=\"url(#clip180)\" d=\"M1687.72 1485.02 L1695.36 1485.02 L1695.36 1458.66 L1687.05 1460.32 L1687.05 1456.06 L1695.31 1454.4 L1699.99 1454.4 L1699.99 1485.02 L1707.63 1485.02 L1707.63 1488.96 L1687.72 1488.96 L1687.72 1485.02 Z\" fill=\"#000000\" fill-rule=\"evenodd\" fill-opacity=\"1\" /><path clip-path=\"url(#clip180)\" d=\"M1717.07 1483.08 L1721.95 1483.08 L1721.95 1488.96 L1717.07 1488.96 L1717.07 1483.08 Z\" fill=\"#000000\" fill-rule=\"evenodd\" fill-opacity=\"1\" /><path clip-path=\"url(#clip180)\" d=\"M1732.19 1454.4 L1750.54 1454.4 L1750.54 1458.33 L1736.47 1458.33 L1736.47 1466.8 Q1737.49 1466.46 1738.51 1466.29 Q1739.52 1466.11 1740.54 1466.11 Q1746.33 1466.11 1749.71 1469.28 Q1753.09 1472.45 1753.09 1477.87 Q1753.09 1483.45 1749.62 1486.55 Q1746.14 1489.63 1739.82 1489.63 Q1737.65 1489.63 1735.38 1489.26 Q1733.14 1488.89 1730.73 1488.15 L1730.73 1483.45 Q1732.81 1484.58 1735.03 1485.14 Q1737.26 1485.69 1739.73 1485.69 Q1743.74 1485.69 1746.07 1483.59 Q1748.41 1481.48 1748.41 1477.87 Q1748.41 1474.26 1746.07 1472.15 Q1743.74 1470.04 1739.73 1470.04 Q1737.86 1470.04 1735.98 1470.46 Q1734.13 1470.88 1732.19 1471.76 L1732.19 1454.4 Z\" fill=\"#000000\" fill-rule=\"evenodd\" fill-opacity=\"1\" /><path clip-path=\"url(#clip180)\" d=\"M1772.3 1457.48 Q1768.69 1457.48 1766.86 1461.04 Q1765.06 1464.58 1765.06 1471.71 Q1765.06 1478.82 1766.86 1482.38 Q1768.69 1485.92 1772.3 1485.92 Q1775.94 1485.92 1777.74 1482.38 Q1779.57 1478.82 1779.57 1471.71 Q1779.57 1464.58 1777.74 1461.04 Q1775.94 1457.48 1772.3 1457.48 M1772.3 1453.77 Q1778.11 1453.77 1781.17 1458.38 Q1784.25 1462.96 1784.25 1471.71 Q1784.25 1480.44 1781.17 1485.04 Q1778.11 1489.63 1772.3 1489.63 Q1766.49 1489.63 1763.41 1485.04 Q1760.36 1480.44 1760.36 1471.71 Q1760.36 1462.96 1763.41 1458.38 Q1766.49 1453.77 1772.3 1453.77 Z\" fill=\"#000000\" fill-rule=\"evenodd\" fill-opacity=\"1\" /><path clip-path=\"url(#clip180)\" d=\"M1820.63 1463.49 L1810.06 1474.12 L1820.63 1484.7 L1817.88 1487.5 L1807.26 1476.87 L1796.63 1487.5 L1793.9 1484.7 L1804.45 1474.12 L1793.9 1463.49 L1796.63 1460.69 L1807.26 1471.32 L1817.88 1460.69 L1820.63 1463.49 Z\" fill=\"#000000\" fill-rule=\"evenodd\" fill-opacity=\"1\" /><path clip-path=\"url(#clip180)\" d=\"M1833 1485.02 L1840.63 1485.02 L1840.63 1458.66 L1832.32 1460.32 L1832.32 1456.06 L1840.59 1454.4 L1845.26 1454.4 L1845.26 1485.02 L1852.9 1485.02 L1852.9 1488.96 L1833 1488.96 L1833 1485.02 Z\" fill=\"#000000\" fill-rule=\"evenodd\" fill-opacity=\"1\" /><path clip-path=\"url(#clip180)\" d=\"M1872.35 1457.48 Q1868.74 1457.48 1866.91 1461.04 Q1865.1 1464.58 1865.1 1471.71 Q1865.1 1478.82 1866.91 1482.38 Q1868.74 1485.92 1872.35 1485.92 Q1875.98 1485.92 1877.79 1482.38 Q1879.62 1478.82 1879.62 1471.71 Q1879.62 1464.58 1877.79 1461.04 Q1875.98 1457.48 1872.35 1457.48 M1872.35 1453.77 Q1878.16 1453.77 1881.21 1458.38 Q1884.29 1462.96 1884.29 1471.71 Q1884.29 1480.44 1881.21 1485.04 Q1878.16 1489.63 1872.35 1489.63 Q1866.54 1489.63 1863.46 1485.04 Q1860.4 1480.44 1860.4 1471.71 Q1860.4 1462.96 1863.46 1458.38 Q1866.54 1453.77 1872.35 1453.77 Z\" fill=\"#000000\" fill-rule=\"evenodd\" fill-opacity=\"1\" /><path clip-path=\"url(#clip180)\" d=\"M1884.29 1433.47 L1902.35 1433.47 L1902.35 1435.08 L1892.15 1461.55 L1888.18 1461.55 L1897.78 1436.66 L1884.29 1436.66 L1884.29 1433.47 Z\" fill=\"#000000\" fill-rule=\"evenodd\" fill-opacity=\"1\" /><path clip-path=\"url(#clip180)\" d=\"M2190.34 1485.02 L2206.66 1485.02 L2206.66 1488.96 L2184.71 1488.96 L2184.71 1485.02 Q2187.38 1482.27 2191.96 1477.64 Q2196.56 1472.98 2197.75 1471.64 Q2199.99 1469.12 2200.87 1467.38 Q2201.77 1465.62 2201.77 1463.93 Q2201.77 1461.18 2199.83 1459.44 Q2197.91 1457.71 2194.81 1457.71 Q2192.61 1457.71 2190.15 1458.47 Q2187.72 1459.23 2184.94 1460.79 L2184.94 1456.06 Q2187.77 1454.93 2190.22 1454.35 Q2192.68 1453.77 2194.71 1453.77 Q2200.08 1453.77 2203.28 1456.46 Q2206.47 1459.14 2206.47 1463.63 Q2206.47 1465.76 2205.66 1467.68 Q2204.87 1469.58 2202.77 1472.17 Q2202.19 1472.85 2199.09 1476.06 Q2195.99 1479.26 2190.34 1485.02 Z\" fill=\"#000000\" fill-rule=\"evenodd\" fill-opacity=\"1\" /><path clip-path=\"url(#clip180)\" d=\"M2216.47 1483.08 L2221.36 1483.08 L2221.36 1488.96 L2216.47 1488.96 L2216.47 1483.08 Z\" fill=\"#000000\" fill-rule=\"evenodd\" fill-opacity=\"1\" /><path clip-path=\"url(#clip180)\" d=\"M2241.54 1457.48 Q2237.93 1457.48 2236.1 1461.04 Q2234.3 1464.58 2234.3 1471.71 Q2234.3 1478.82 2236.1 1482.38 Q2237.93 1485.92 2241.54 1485.92 Q2245.18 1485.92 2246.98 1482.38 Q2248.81 1478.82 2248.81 1471.71 Q2248.81 1464.58 2246.98 1461.04 Q2245.18 1457.48 2241.54 1457.48 M2241.54 1453.77 Q2247.35 1453.77 2250.41 1458.38 Q2253.49 1462.96 2253.49 1471.71 Q2253.49 1480.44 2250.41 1485.04 Q2247.35 1489.63 2241.54 1489.63 Q2235.73 1489.63 2232.65 1485.04 Q2229.6 1480.44 2229.6 1471.71 Q2229.6 1462.96 2232.65 1458.38 Q2235.73 1453.77 2241.54 1453.77 Z\" fill=\"#000000\" fill-rule=\"evenodd\" fill-opacity=\"1\" /><path clip-path=\"url(#clip180)\" d=\"M2271.7 1457.48 Q2268.09 1457.48 2266.26 1461.04 Q2264.46 1464.58 2264.46 1471.71 Q2264.46 1478.82 2266.26 1482.38 Q2268.09 1485.92 2271.7 1485.92 Q2275.34 1485.92 2277.14 1482.38 Q2278.97 1478.82 2278.97 1471.71 Q2278.97 1464.58 2277.14 1461.04 Q2275.34 1457.48 2271.7 1457.48 M2271.7 1453.77 Q2277.51 1453.77 2280.57 1458.38 Q2283.65 1462.96 2283.65 1471.71 Q2283.65 1480.44 2280.57 1485.04 Q2277.51 1489.63 2271.7 1489.63 Q2265.89 1489.63 2262.81 1485.04 Q2259.76 1480.44 2259.76 1471.71 Q2259.76 1462.96 2262.81 1458.38 Q2265.89 1453.77 2271.7 1453.77 Z\" fill=\"#000000\" fill-rule=\"evenodd\" fill-opacity=\"1\" /><path clip-path=\"url(#clip180)\" d=\"M2320.04 1463.49 L2309.46 1474.12 L2320.04 1484.7 L2317.28 1487.5 L2306.66 1476.87 L2296.03 1487.5 L2293.3 1484.7 L2303.86 1474.12 L2293.3 1463.49 L2296.03 1460.69 L2306.66 1471.32 L2317.28 1460.69 L2320.04 1463.49 Z\" fill=\"#000000\" fill-rule=\"evenodd\" fill-opacity=\"1\" /><path clip-path=\"url(#clip180)\" d=\"M2332.4 1485.02 L2340.04 1485.02 L2340.04 1458.66 L2331.73 1460.32 L2331.73 1456.06 L2339.99 1454.4 L2344.67 1454.4 L2344.67 1485.02 L2352.3 1485.02 L2352.3 1488.96 L2332.4 1488.96 L2332.4 1485.02 Z\" fill=\"#000000\" fill-rule=\"evenodd\" fill-opacity=\"1\" /><path clip-path=\"url(#clip180)\" d=\"M2371.75 1457.48 Q2368.14 1457.48 2366.31 1461.04 Q2364.5 1464.58 2364.5 1471.71 Q2364.5 1478.82 2366.31 1482.38 Q2368.14 1485.92 2371.75 1485.92 Q2375.38 1485.92 2377.19 1482.38 Q2379.02 1478.82 2379.02 1471.71 Q2379.02 1464.58 2377.19 1461.04 Q2375.38 1457.48 2371.75 1457.48 M2371.75 1453.77 Q2377.56 1453.77 2380.61 1458.38 Q2383.69 1462.96 2383.69 1471.71 Q2383.69 1480.44 2380.61 1485.04 Q2377.56 1489.63 2371.75 1489.63 Q2365.94 1489.63 2362.86 1485.04 Q2359.8 1480.44 2359.8 1471.71 Q2359.8 1462.96 2362.86 1458.38 Q2365.94 1453.77 2371.75 1453.77 Z\" fill=\"#000000\" fill-rule=\"evenodd\" fill-opacity=\"1\" /><path clip-path=\"url(#clip180)\" d=\"M2383.69 1433.47 L2401.75 1433.47 L2401.75 1435.08 L2391.56 1461.55 L2387.59 1461.55 L2397.18 1436.66 L2383.69 1436.66 L2383.69 1433.47 Z\" fill=\"#000000\" fill-rule=\"evenodd\" fill-opacity=\"1\" /><path clip-path=\"url(#clip180)\" d=\"M1150.71 1526.67 L1157.14 1526.67 L1157.14 1574.19 L1150.71 1574.19 L1150.71 1526.67 Z\" fill=\"#000000\" fill-rule=\"evenodd\" fill-opacity=\"1\" /><path clip-path=\"url(#clip180)\" d=\"M1175.47 1528.42 L1175.47 1538.54 L1187.54 1538.54 L1187.54 1543.09 L1175.47 1543.09 L1175.47 1562.44 Q1175.47 1566.8 1176.65 1568.04 Q1177.86 1569.28 1181.52 1569.28 L1187.54 1569.28 L1187.54 1574.19 L1181.52 1574.19 Q1174.74 1574.19 1172.16 1571.67 Q1169.59 1569.12 1169.59 1562.44 L1169.59 1543.09 L1165.29 1543.09 L1165.29 1538.54 L1169.59 1538.54 L1169.59 1528.42 L1175.47 1528.42 Z\" fill=\"#000000\" fill-rule=\"evenodd\" fill-opacity=\"1\" /><path clip-path=\"url(#clip180)\" d=\"M1225.73 1554.9 L1225.73 1557.76 L1198.8 1557.76 Q1199.19 1563.81 1202.43 1566.99 Q1205.71 1570.14 1211.54 1570.14 Q1214.91 1570.14 1218.06 1569.32 Q1221.24 1568.49 1224.36 1566.83 L1224.36 1572.37 Q1221.21 1573.71 1217.9 1574.41 Q1214.59 1575.11 1211.19 1575.11 Q1202.66 1575.11 1197.66 1570.14 Q1192.69 1565.18 1192.69 1556.71 Q1192.69 1547.96 1197.4 1542.83 Q1202.15 1537.68 1210.17 1537.68 Q1217.36 1537.68 1221.53 1542.33 Q1225.73 1546.94 1225.73 1554.9 M1219.87 1553.18 Q1219.81 1548.37 1217.17 1545.51 Q1214.56 1542.64 1210.23 1542.64 Q1205.33 1542.64 1202.37 1545.41 Q1199.44 1548.18 1199 1553.21 L1219.87 1553.18 Z\" fill=\"#000000\" fill-rule=\"evenodd\" fill-opacity=\"1\" /><path clip-path=\"url(#clip180)\" d=\"M1256 1544.01 Q1255.01 1543.44 1253.84 1543.18 Q1252.69 1542.9 1251.29 1542.9 Q1246.32 1542.9 1243.65 1546.14 Q1241.01 1549.36 1241.01 1555.41 L1241.01 1574.19 L1235.12 1574.19 L1235.12 1538.54 L1241.01 1538.54 L1241.01 1544.08 Q1242.86 1540.83 1245.82 1539.27 Q1248.78 1537.68 1253.01 1537.68 Q1253.61 1537.68 1254.35 1537.77 Q1255.08 1537.84 1255.97 1538 L1256 1544.01 Z\" fill=\"#000000\" fill-rule=\"evenodd\" fill-opacity=\"1\" /><path clip-path=\"url(#clip180)\" d=\"M1278.34 1556.27 Q1271.25 1556.27 1268.51 1557.89 Q1265.77 1559.51 1265.77 1563.43 Q1265.77 1566.55 1267.81 1568.39 Q1269.88 1570.21 1273.41 1570.21 Q1278.28 1570.21 1281.21 1566.77 Q1284.17 1563.3 1284.17 1557.57 L1284.17 1556.27 L1278.34 1556.27 M1290.02 1553.85 L1290.02 1574.19 L1284.17 1574.19 L1284.17 1568.77 Q1282.16 1572.02 1279.17 1573.58 Q1276.18 1575.11 1271.85 1575.11 Q1266.38 1575.11 1263.13 1572.05 Q1259.92 1568.97 1259.92 1563.81 Q1259.92 1557.79 1263.93 1554.74 Q1267.97 1551.68 1275.96 1551.68 L1284.17 1551.68 L1284.17 1551.11 Q1284.17 1547.07 1281.49 1544.87 Q1278.85 1542.64 1274.05 1542.64 Q1270.99 1542.64 1268.1 1543.38 Q1265.2 1544.11 1262.53 1545.57 L1262.53 1540.16 Q1265.74 1538.92 1268.76 1538.31 Q1271.79 1537.68 1274.65 1537.68 Q1282.39 1537.68 1286.21 1541.69 Q1290.02 1545.7 1290.02 1553.85 Z\" fill=\"#000000\" fill-rule=\"evenodd\" fill-opacity=\"1\" /><path clip-path=\"url(#clip180)\" d=\"M1307.88 1528.42 L1307.88 1538.54 L1319.94 1538.54 L1319.94 1543.09 L1307.88 1543.09 L1307.88 1562.44 Q1307.88 1566.8 1309.06 1568.04 Q1310.27 1569.28 1313.93 1569.28 L1319.94 1569.28 L1319.94 1574.19 L1313.93 1574.19 Q1307.15 1574.19 1304.57 1571.67 Q1301.99 1569.12 1301.99 1562.44 L1301.99 1543.09 L1297.7 1543.09 L1297.7 1538.54 L1301.99 1538.54 L1301.99 1528.42 L1307.88 1528.42 Z\" fill=\"#000000\" fill-rule=\"evenodd\" fill-opacity=\"1\" /><path clip-path=\"url(#clip180)\" d=\"M1327.65 1538.54 L1333.5 1538.54 L1333.5 1574.19 L1327.65 1574.19 L1327.65 1538.54 M1327.65 1524.66 L1333.5 1524.66 L1333.5 1532.08 L1327.65 1532.08 L1327.65 1524.66 Z\" fill=\"#000000\" fill-rule=\"evenodd\" fill-opacity=\"1\" /><path clip-path=\"url(#clip180)\" d=\"M1359.57 1542.64 Q1354.86 1542.64 1352.12 1546.34 Q1349.39 1550 1349.39 1556.39 Q1349.39 1562.79 1352.09 1566.48 Q1354.83 1570.14 1359.57 1570.14 Q1364.25 1570.14 1366.99 1566.45 Q1369.72 1562.76 1369.72 1556.39 Q1369.72 1550.06 1366.99 1546.37 Q1364.25 1542.64 1359.57 1542.64 M1359.57 1537.68 Q1367.21 1537.68 1371.57 1542.64 Q1375.93 1547.61 1375.93 1556.39 Q1375.93 1565.15 1371.57 1570.14 Q1367.21 1575.11 1359.57 1575.11 Q1351.9 1575.11 1347.54 1570.14 Q1343.21 1565.15 1343.21 1556.39 Q1343.21 1547.61 1347.54 1542.64 Q1351.9 1537.68 1359.57 1537.68 Z\" fill=\"#000000\" fill-rule=\"evenodd\" fill-opacity=\"1\" /><path clip-path=\"url(#clip180)\" d=\"M1415.27 1552.67 L1415.27 1574.19 L1409.41 1574.19 L1409.41 1552.86 Q1409.41 1547.8 1407.44 1545.29 Q1405.47 1542.77 1401.52 1542.77 Q1396.78 1542.77 1394.04 1545.79 Q1391.3 1548.82 1391.3 1554.04 L1391.3 1574.19 L1385.42 1574.19 L1385.42 1538.54 L1391.3 1538.54 L1391.3 1544.08 Q1393.4 1540.86 1396.24 1539.27 Q1399.1 1537.68 1402.83 1537.68 Q1408.97 1537.68 1412.12 1541.5 Q1415.27 1545.29 1415.27 1552.67 Z\" fill=\"#000000\" fill-rule=\"evenodd\" fill-opacity=\"1\" /><path clip-path=\"url(#clip180)\" d=\"M1449.68 1539.59 L1449.68 1545.13 Q1447.19 1543.85 1444.52 1543.22 Q1441.85 1542.58 1438.98 1542.58 Q1434.62 1542.58 1432.43 1543.92 Q1430.26 1545.25 1430.26 1547.93 Q1430.26 1549.96 1431.82 1551.14 Q1433.38 1552.29 1438.09 1553.34 L1440.1 1553.78 Q1446.33 1555.12 1448.94 1557.57 Q1451.59 1559.99 1451.59 1564.35 Q1451.59 1569.32 1447.64 1572.21 Q1443.72 1575.11 1436.85 1575.11 Q1433.99 1575.11 1430.87 1574.54 Q1427.78 1573.99 1424.34 1572.88 L1424.34 1566.83 Q1427.59 1568.52 1430.74 1569.38 Q1433.89 1570.21 1436.98 1570.21 Q1441.11 1570.21 1443.34 1568.81 Q1445.57 1567.37 1445.57 1564.8 Q1445.57 1562.41 1443.95 1561.14 Q1442.36 1559.86 1436.91 1558.68 L1434.88 1558.21 Q1429.43 1557.06 1427.01 1554.71 Q1424.6 1552.32 1424.6 1548.18 Q1424.6 1543.15 1428.16 1540.42 Q1431.73 1537.68 1438.28 1537.68 Q1441.53 1537.68 1444.39 1538.16 Q1447.26 1538.63 1449.68 1539.59 Z\" fill=\"#000000\" fill-rule=\"evenodd\" fill-opacity=\"1\" /><polyline clip-path=\"url(#clip182)\" style=\"stroke:#000000; stroke-linecap:round; stroke-linejoin:round; stroke-width:2; stroke-opacity:0.1; fill:none\" points=\"\n",
       "  249.542,1372.3 2352.76,1372.3 \n",
       "  \"/>\n",
       "<polyline clip-path=\"url(#clip182)\" style=\"stroke:#000000; stroke-linecap:round; stroke-linejoin:round; stroke-width:2; stroke-opacity:0.1; fill:none\" points=\"\n",
       "  249.542,1050.69 2352.76,1050.69 \n",
       "  \"/>\n",
       "<polyline clip-path=\"url(#clip182)\" style=\"stroke:#000000; stroke-linecap:round; stroke-linejoin:round; stroke-width:2; stroke-opacity:0.1; fill:none\" points=\"\n",
       "  249.542,729.07 2352.76,729.07 \n",
       "  \"/>\n",
       "<polyline clip-path=\"url(#clip182)\" style=\"stroke:#000000; stroke-linecap:round; stroke-linejoin:round; stroke-width:2; stroke-opacity:0.1; fill:none\" points=\"\n",
       "  249.542,407.454 2352.76,407.454 \n",
       "  \"/>\n",
       "<polyline clip-path=\"url(#clip182)\" style=\"stroke:#000000; stroke-linecap:round; stroke-linejoin:round; stroke-width:2; stroke-opacity:0.1; fill:none\" points=\"\n",
       "  249.542,85.838 2352.76,85.838 \n",
       "  \"/>\n",
       "<polyline clip-path=\"url(#clip180)\" style=\"stroke:#000000; stroke-linecap:round; stroke-linejoin:round; stroke-width:4; stroke-opacity:1; fill:none\" points=\"\n",
       "  249.542,1410.9 249.542,47.2441 \n",
       "  \"/>\n",
       "<polyline clip-path=\"url(#clip180)\" style=\"stroke:#000000; stroke-linecap:round; stroke-linejoin:round; stroke-width:4; stroke-opacity:1; fill:none\" points=\"\n",
       "  249.542,1372.3 268.44,1372.3 \n",
       "  \"/>\n",
       "<polyline clip-path=\"url(#clip180)\" style=\"stroke:#000000; stroke-linecap:round; stroke-linejoin:round; stroke-width:4; stroke-opacity:1; fill:none\" points=\"\n",
       "  249.542,1050.69 268.44,1050.69 \n",
       "  \"/>\n",
       "<polyline clip-path=\"url(#clip180)\" style=\"stroke:#000000; stroke-linecap:round; stroke-linejoin:round; stroke-width:4; stroke-opacity:1; fill:none\" points=\"\n",
       "  249.542,729.07 268.44,729.07 \n",
       "  \"/>\n",
       "<polyline clip-path=\"url(#clip180)\" style=\"stroke:#000000; stroke-linecap:round; stroke-linejoin:round; stroke-width:4; stroke-opacity:1; fill:none\" points=\"\n",
       "  249.542,407.454 268.44,407.454 \n",
       "  \"/>\n",
       "<polyline clip-path=\"url(#clip180)\" style=\"stroke:#000000; stroke-linecap:round; stroke-linejoin:round; stroke-width:4; stroke-opacity:1; fill:none\" points=\"\n",
       "  249.542,85.838 268.44,85.838 \n",
       "  \"/>\n",
       "<path clip-path=\"url(#clip180)\" d=\"M126.205 1358.1 Q122.593 1358.1 120.765 1361.67 Q118.959 1365.21 118.959 1372.34 Q118.959 1379.44 120.765 1383.01 Q122.593 1386.55 126.205 1386.55 Q129.839 1386.55 131.644 1383.01 Q133.473 1379.44 133.473 1372.34 Q133.473 1365.21 131.644 1361.67 Q129.839 1358.1 126.205 1358.1 M126.205 1354.4 Q132.015 1354.4 135.07 1359 Q138.149 1363.59 138.149 1372.34 Q138.149 1381.06 135.07 1385.67 Q132.015 1390.25 126.205 1390.25 Q120.394 1390.25 117.316 1385.67 Q114.26 1381.06 114.26 1372.34 Q114.26 1363.59 117.316 1359 Q120.394 1354.4 126.205 1354.4 Z\" fill=\"#000000\" fill-rule=\"evenodd\" fill-opacity=\"1\" /><path clip-path=\"url(#clip180)\" d=\"M146.366 1383.7 L151.251 1383.7 L151.251 1389.58 L146.366 1389.58 L146.366 1383.7 Z\" fill=\"#000000\" fill-rule=\"evenodd\" fill-opacity=\"1\" /><path clip-path=\"url(#clip180)\" d=\"M171.436 1358.1 Q167.825 1358.1 165.996 1361.67 Q164.19 1365.21 164.19 1372.34 Q164.19 1379.44 165.996 1383.01 Q167.825 1386.55 171.436 1386.55 Q175.07 1386.55 176.876 1383.01 Q178.704 1379.44 178.704 1372.34 Q178.704 1365.21 176.876 1361.67 Q175.07 1358.1 171.436 1358.1 M171.436 1354.4 Q177.246 1354.4 180.301 1359 Q183.38 1363.59 183.38 1372.34 Q183.38 1381.06 180.301 1385.67 Q177.246 1390.25 171.436 1390.25 Q165.626 1390.25 162.547 1385.67 Q159.491 1381.06 159.491 1372.34 Q159.491 1363.59 162.547 1359 Q165.626 1354.4 171.436 1354.4 Z\" fill=\"#000000\" fill-rule=\"evenodd\" fill-opacity=\"1\" /><path clip-path=\"url(#clip180)\" d=\"M201.598 1358.1 Q197.987 1358.1 196.158 1361.67 Q194.352 1365.21 194.352 1372.34 Q194.352 1379.44 196.158 1383.01 Q197.987 1386.55 201.598 1386.55 Q205.232 1386.55 207.037 1383.01 Q208.866 1379.44 208.866 1372.34 Q208.866 1365.21 207.037 1361.67 Q205.232 1358.1 201.598 1358.1 M201.598 1354.4 Q207.408 1354.4 210.463 1359 Q213.542 1363.59 213.542 1372.34 Q213.542 1381.06 210.463 1385.67 Q207.408 1390.25 201.598 1390.25 Q195.787 1390.25 192.709 1385.67 Q189.653 1381.06 189.653 1372.34 Q189.653 1363.59 192.709 1359 Q195.787 1354.4 201.598 1354.4 Z\" fill=\"#000000\" fill-rule=\"evenodd\" fill-opacity=\"1\" /><path clip-path=\"url(#clip180)\" d=\"M127.2 1036.49 Q123.589 1036.49 121.76 1040.05 Q119.955 1043.59 119.955 1050.72 Q119.955 1057.83 121.76 1061.39 Q123.589 1064.93 127.2 1064.93 Q130.834 1064.93 132.64 1061.39 Q134.468 1057.83 134.468 1050.72 Q134.468 1043.59 132.64 1040.05 Q130.834 1036.49 127.2 1036.49 M127.2 1032.78 Q133.01 1032.78 136.066 1037.39 Q139.144 1041.97 139.144 1050.72 Q139.144 1059.45 136.066 1064.05 Q133.01 1068.64 127.2 1068.64 Q121.39 1068.64 118.311 1064.05 Q115.256 1059.45 115.256 1050.72 Q115.256 1041.97 118.311 1037.39 Q121.39 1032.78 127.2 1032.78 Z\" fill=\"#000000\" fill-rule=\"evenodd\" fill-opacity=\"1\" /><path clip-path=\"url(#clip180)\" d=\"M147.362 1062.09 L152.246 1062.09 L152.246 1067.97 L147.362 1067.97 L147.362 1062.09 Z\" fill=\"#000000\" fill-rule=\"evenodd\" fill-opacity=\"1\" /><path clip-path=\"url(#clip180)\" d=\"M166.459 1064.03 L182.778 1064.03 L182.778 1067.97 L160.834 1067.97 L160.834 1064.03 Q163.496 1061.28 168.079 1056.65 Q172.686 1051.99 173.866 1050.65 Q176.112 1048.13 176.991 1046.39 Q177.894 1044.63 177.894 1042.94 Q177.894 1040.19 175.95 1038.45 Q174.028 1036.72 170.927 1036.72 Q168.727 1036.72 166.274 1037.48 Q163.843 1038.24 161.065 1039.8 L161.065 1035.07 Q163.89 1033.94 166.343 1033.36 Q168.797 1032.78 170.834 1032.78 Q176.204 1032.78 179.399 1035.47 Q182.593 1038.15 182.593 1042.64 Q182.593 1044.77 181.783 1046.69 Q180.996 1048.59 178.889 1051.18 Q178.311 1051.86 175.209 1055.07 Q172.107 1058.27 166.459 1064.03 Z\" fill=\"#000000\" fill-rule=\"evenodd\" fill-opacity=\"1\" /><path clip-path=\"url(#clip180)\" d=\"M192.639 1033.41 L210.996 1033.41 L210.996 1037.34 L196.922 1037.34 L196.922 1045.81 Q197.94 1045.47 198.959 1045.3 Q199.977 1045.12 200.996 1045.12 Q206.783 1045.12 210.162 1048.29 Q213.542 1051.46 213.542 1056.88 Q213.542 1062.46 210.07 1065.56 Q206.598 1068.64 200.278 1068.64 Q198.102 1068.64 195.834 1068.27 Q193.588 1067.9 191.181 1067.16 L191.181 1062.46 Q193.264 1063.59 195.487 1064.15 Q197.709 1064.7 200.186 1064.7 Q204.19 1064.7 206.528 1062.6 Q208.866 1060.49 208.866 1056.88 Q208.866 1053.27 206.528 1051.16 Q204.19 1049.05 200.186 1049.05 Q198.311 1049.05 196.436 1049.47 Q194.584 1049.89 192.639 1050.77 L192.639 1033.41 Z\" fill=\"#000000\" fill-rule=\"evenodd\" fill-opacity=\"1\" /><path clip-path=\"url(#clip180)\" d=\"M126.205 714.869 Q122.593 714.869 120.765 718.434 Q118.959 721.975 118.959 729.105 Q118.959 736.212 120.765 739.776 Q122.593 743.318 126.205 743.318 Q129.839 743.318 131.644 739.776 Q133.473 736.212 133.473 729.105 Q133.473 721.975 131.644 718.434 Q129.839 714.869 126.205 714.869 M126.205 711.165 Q132.015 711.165 135.07 715.772 Q138.149 720.355 138.149 729.105 Q138.149 737.832 135.07 742.438 Q132.015 747.022 126.205 747.022 Q120.394 747.022 117.316 742.438 Q114.26 737.832 114.26 729.105 Q114.26 720.355 117.316 715.772 Q120.394 711.165 126.205 711.165 Z\" fill=\"#000000\" fill-rule=\"evenodd\" fill-opacity=\"1\" /><path clip-path=\"url(#clip180)\" d=\"M146.366 740.471 L151.251 740.471 L151.251 746.35 L146.366 746.35 L146.366 740.471 Z\" fill=\"#000000\" fill-rule=\"evenodd\" fill-opacity=\"1\" /><path clip-path=\"url(#clip180)\" d=\"M161.482 711.79 L179.839 711.79 L179.839 715.726 L165.765 715.726 L165.765 724.198 Q166.783 723.85 167.802 723.688 Q168.82 723.503 169.839 723.503 Q175.626 723.503 179.005 726.675 Q182.385 729.846 182.385 735.262 Q182.385 740.841 178.913 743.943 Q175.44 747.022 169.121 747.022 Q166.945 747.022 164.677 746.651 Q162.431 746.281 160.024 745.54 L160.024 740.841 Q162.107 741.975 164.329 742.531 Q166.552 743.086 169.028 743.086 Q173.033 743.086 175.371 740.98 Q177.709 738.874 177.709 735.262 Q177.709 731.651 175.371 729.545 Q173.033 727.438 169.028 727.438 Q167.153 727.438 165.278 727.855 Q163.427 728.272 161.482 729.151 L161.482 711.79 Z\" fill=\"#000000\" fill-rule=\"evenodd\" fill-opacity=\"1\" /><path clip-path=\"url(#clip180)\" d=\"M201.598 714.869 Q197.987 714.869 196.158 718.434 Q194.352 721.975 194.352 729.105 Q194.352 736.212 196.158 739.776 Q197.987 743.318 201.598 743.318 Q205.232 743.318 207.037 739.776 Q208.866 736.212 208.866 729.105 Q208.866 721.975 207.037 718.434 Q205.232 714.869 201.598 714.869 M201.598 711.165 Q207.408 711.165 210.463 715.772 Q213.542 720.355 213.542 729.105 Q213.542 737.832 210.463 742.438 Q207.408 747.022 201.598 747.022 Q195.787 747.022 192.709 742.438 Q189.653 737.832 189.653 729.105 Q189.653 720.355 192.709 715.772 Q195.787 711.165 201.598 711.165 Z\" fill=\"#000000\" fill-rule=\"evenodd\" fill-opacity=\"1\" /><path clip-path=\"url(#clip180)\" d=\"M127.2 393.253 Q123.589 393.253 121.76 396.818 Q119.955 400.359 119.955 407.489 Q119.955 414.595 121.76 418.16 Q123.589 421.702 127.2 421.702 Q130.834 421.702 132.64 418.16 Q134.468 414.595 134.468 407.489 Q134.468 400.359 132.64 396.818 Q130.834 393.253 127.2 393.253 M127.2 389.549 Q133.01 389.549 136.066 394.156 Q139.144 398.739 139.144 407.489 Q139.144 416.216 136.066 420.822 Q133.01 425.405 127.2 425.405 Q121.39 425.405 118.311 420.822 Q115.256 416.216 115.256 407.489 Q115.256 398.739 118.311 394.156 Q121.39 389.549 127.2 389.549 Z\" fill=\"#000000\" fill-rule=\"evenodd\" fill-opacity=\"1\" /><path clip-path=\"url(#clip180)\" d=\"M147.362 418.855 L152.246 418.855 L152.246 424.734 L147.362 424.734 L147.362 418.855 Z\" fill=\"#000000\" fill-rule=\"evenodd\" fill-opacity=\"1\" /><path clip-path=\"url(#clip180)\" d=\"M161.251 390.174 L183.473 390.174 L183.473 392.165 L170.927 424.734 L166.042 424.734 L177.848 394.109 L161.251 394.109 L161.251 390.174 Z\" fill=\"#000000\" fill-rule=\"evenodd\" fill-opacity=\"1\" /><path clip-path=\"url(#clip180)\" d=\"M192.639 390.174 L210.996 390.174 L210.996 394.109 L196.922 394.109 L196.922 402.582 Q197.94 402.234 198.959 402.072 Q199.977 401.887 200.996 401.887 Q206.783 401.887 210.162 405.058 Q213.542 408.23 213.542 413.646 Q213.542 419.225 210.07 422.327 Q206.598 425.405 200.278 425.405 Q198.102 425.405 195.834 425.035 Q193.588 424.665 191.181 423.924 L191.181 419.225 Q193.264 420.359 195.487 420.915 Q197.709 421.47 200.186 421.47 Q204.19 421.47 206.528 419.364 Q208.866 417.257 208.866 413.646 Q208.866 410.035 206.528 407.929 Q204.19 405.822 200.186 405.822 Q198.311 405.822 196.436 406.239 Q194.584 406.656 192.639 407.535 L192.639 390.174 Z\" fill=\"#000000\" fill-rule=\"evenodd\" fill-opacity=\"1\" /><path clip-path=\"url(#clip180)\" d=\"M117.015 99.1829 L124.654 99.1829 L124.654 72.8173 L116.343 74.4839 L116.343 70.2247 L124.607 68.558 L129.283 68.558 L129.283 99.1829 L136.922 99.1829 L136.922 103.118 L117.015 103.118 L117.015 99.1829 Z\" fill=\"#000000\" fill-rule=\"evenodd\" fill-opacity=\"1\" /><path clip-path=\"url(#clip180)\" d=\"M146.366 97.2384 L151.251 97.2384 L151.251 103.118 L146.366 103.118 L146.366 97.2384 Z\" fill=\"#000000\" fill-rule=\"evenodd\" fill-opacity=\"1\" /><path clip-path=\"url(#clip180)\" d=\"M171.436 71.6367 Q167.825 71.6367 165.996 75.2015 Q164.19 78.7432 164.19 85.8728 Q164.19 92.9792 165.996 96.544 Q167.825 100.086 171.436 100.086 Q175.07 100.086 176.876 96.544 Q178.704 92.9792 178.704 85.8728 Q178.704 78.7432 176.876 75.2015 Q175.07 71.6367 171.436 71.6367 M171.436 67.933 Q177.246 67.933 180.301 72.5395 Q183.38 77.1228 183.38 85.8728 Q183.38 94.5996 180.301 99.206 Q177.246 103.789 171.436 103.789 Q165.626 103.789 162.547 99.206 Q159.491 94.5996 159.491 85.8728 Q159.491 77.1228 162.547 72.5395 Q165.626 67.933 171.436 67.933 Z\" fill=\"#000000\" fill-rule=\"evenodd\" fill-opacity=\"1\" /><path clip-path=\"url(#clip180)\" d=\"M201.598 71.6367 Q197.987 71.6367 196.158 75.2015 Q194.352 78.7432 194.352 85.8728 Q194.352 92.9792 196.158 96.544 Q197.987 100.086 201.598 100.086 Q205.232 100.086 207.037 96.544 Q208.866 92.9792 208.866 85.8728 Q208.866 78.7432 207.037 75.2015 Q205.232 71.6367 201.598 71.6367 M201.598 67.933 Q207.408 67.933 210.463 72.5395 Q213.542 77.1228 213.542 85.8728 Q213.542 94.5996 210.463 99.206 Q207.408 103.789 201.598 103.789 Q195.787 103.789 192.709 99.206 Q189.653 94.5996 189.653 85.8728 Q189.653 77.1228 192.709 72.5395 Q195.787 67.933 201.598 67.933 Z\" fill=\"#000000\" fill-rule=\"evenodd\" fill-opacity=\"1\" /><path clip-path=\"url(#clip180)\" d=\"M18.0438 910.891 L24.314 910.891 Q22.5634 914.551 21.704 917.798 Q20.8447 921.044 20.8447 924.068 Q20.8447 929.32 22.8817 932.184 Q24.9187 935.017 28.6745 935.017 Q31.8255 935.017 33.4488 933.139 Q35.0402 931.229 36.0269 925.946 L36.8226 922.063 Q38.1912 914.869 41.6605 911.464 Q45.098 908.026 50.8908 908.026 Q57.7976 908.026 61.3624 912.673 Q64.9272 917.288 64.9272 926.232 Q64.9272 929.606 64.1633 933.425 Q63.3994 937.213 61.9035 941.287 L55.2831 941.287 Q57.4793 937.372 58.5933 933.616 Q59.7073 929.861 59.7073 926.232 Q59.7073 920.726 57.543 917.734 Q55.3786 914.742 51.3682 914.742 Q47.8671 914.742 45.8937 916.906 Q43.9204 919.039 42.9337 923.941 L42.1698 927.855 Q40.7375 935.049 37.682 938.263 Q34.6264 941.478 29.1837 941.478 Q22.8817 941.478 19.2532 937.054 Q15.6248 932.598 15.6248 924.8 Q15.6248 921.458 16.2295 917.989 Q16.8343 914.519 18.0438 910.891 Z\" fill=\"#000000\" fill-rule=\"evenodd\" fill-opacity=\"1\" /><path clip-path=\"url(#clip180)\" d=\"M49.9359 898.86 L28.3562 898.86 L28.3562 893.003 L49.7131 893.003 Q54.7739 893.003 57.3202 891.03 Q59.8346 889.056 59.8346 885.11 Q59.8346 880.367 56.8109 877.63 Q53.7872 874.861 48.5673 874.861 L28.3562 874.861 L28.3562 869.005 L64.0042 869.005 L64.0042 874.861 L58.5296 874.861 Q61.7762 876.993 63.3676 879.826 Q64.9272 882.627 64.9272 886.351 Q64.9272 892.494 61.1078 895.677 Q57.2883 898.86 49.9359 898.86 M27.4968 884.123 L27.4968 884.123 Z\" fill=\"#000000\" fill-rule=\"evenodd\" fill-opacity=\"1\" /><path clip-path=\"url(#clip180)\" d=\"M29.7248 831.288 L35.1993 831.288 Q33.8307 833.77 33.1623 836.285 Q32.4621 838.767 32.4621 841.314 Q32.4621 847.011 36.0905 850.162 Q39.6872 853.313 46.212 853.313 Q52.7369 853.313 56.3653 850.162 Q59.9619 847.011 59.9619 841.314 Q59.9619 838.767 59.2935 836.285 Q58.5933 833.77 57.2247 831.288 L62.6355 831.288 Q63.7814 833.738 64.3543 836.38 Q64.9272 838.99 64.9272 841.95 Q64.9272 850.003 59.8664 854.745 Q54.8057 859.488 46.212 859.488 Q37.491 859.488 32.4939 854.714 Q27.4968 849.907 27.4968 841.568 Q27.4968 838.863 28.0697 836.285 Q28.6108 833.707 29.7248 831.288 Z\" fill=\"#000000\" fill-rule=\"evenodd\" fill-opacity=\"1\" /><path clip-path=\"url(#clip180)\" d=\"M29.7248 795.449 L35.1993 795.449 Q33.8307 797.931 33.1623 800.446 Q32.4621 802.928 32.4621 805.475 Q32.4621 811.172 36.0905 814.323 Q39.6872 817.474 46.212 817.474 Q52.7369 817.474 56.3653 814.323 Q59.9619 811.172 59.9619 805.475 Q59.9619 802.928 59.2935 800.446 Q58.5933 797.931 57.2247 795.449 L62.6355 795.449 Q63.7814 797.9 64.3543 800.541 Q64.9272 803.151 64.9272 806.111 Q64.9272 814.164 59.8664 818.906 Q54.8057 823.649 46.212 823.649 Q37.491 823.649 32.4939 818.875 Q27.4968 814.068 27.4968 805.729 Q27.4968 803.024 28.0697 800.446 Q28.6108 797.868 29.7248 795.449 Z\" fill=\"#000000\" fill-rule=\"evenodd\" fill-opacity=\"1\" /><path clip-path=\"url(#clip180)\" d=\"M44.7161 754.772 L47.5806 754.772 L47.5806 781.699 Q53.6281 781.317 56.8109 778.07 Q59.9619 774.792 59.9619 768.967 Q59.9619 765.594 59.1344 762.443 Q58.3069 759.26 56.6518 756.141 L62.1899 756.141 Q63.5267 759.292 64.227 762.602 Q64.9272 765.912 64.9272 769.318 Q64.9272 777.848 59.9619 782.845 Q54.9967 787.81 46.5303 787.81 Q37.7774 787.81 32.6531 783.099 Q27.4968 778.357 27.4968 770.336 Q27.4968 763.143 32.1438 758.973 Q36.7589 754.772 44.7161 754.772 M42.9973 760.628 Q38.1912 760.692 35.3266 763.334 Q32.4621 765.944 32.4621 770.272 Q32.4621 775.174 35.2312 778.134 Q38.0002 781.062 43.0292 781.508 L42.9973 760.628 Z\" fill=\"#000000\" fill-rule=\"evenodd\" fill-opacity=\"1\" /><path clip-path=\"url(#clip180)\" d=\"M29.4065 722.434 L34.9447 722.434 Q33.6716 724.917 33.035 727.59 Q32.3984 730.264 32.3984 733.129 Q32.3984 737.489 33.7352 739.685 Q35.072 741.85 37.7456 741.85 Q39.7826 741.85 40.9603 740.29 Q42.1061 738.73 43.1565 734.02 L43.6021 732.015 Q44.9389 725.776 47.3897 723.166 Q49.8086 720.524 54.1691 720.524 Q59.1344 720.524 62.0308 724.471 Q64.9272 728.386 64.9272 735.261 Q64.9272 738.126 64.3543 741.245 Q63.8132 744.332 62.6992 747.77 L56.6518 747.77 Q58.3387 744.523 59.198 741.372 Q60.0256 738.221 60.0256 735.134 Q60.0256 730.996 58.6251 728.768 Q57.1929 726.54 54.6147 726.54 Q52.2276 726.54 50.9545 728.163 Q49.6813 729.755 48.5037 735.197 L48.0262 737.234 Q46.8804 742.677 44.5251 745.096 Q42.138 747.515 38.0002 747.515 Q32.9713 747.515 30.2341 743.95 Q27.4968 740.385 27.4968 733.829 Q27.4968 730.582 27.9743 727.718 Q28.4517 724.853 29.4065 722.434 Z\" fill=\"#000000\" fill-rule=\"evenodd\" fill-opacity=\"1\" /><path clip-path=\"url(#clip180)\" d=\"M29.4065 688.473 L34.9447 688.473 Q33.6716 690.956 33.035 693.629 Q32.3984 696.303 32.3984 699.167 Q32.3984 703.528 33.7352 705.724 Q35.072 707.888 37.7456 707.888 Q39.7826 707.888 40.9603 706.329 Q42.1061 704.769 43.1565 700.059 L43.6021 698.053 Q44.9389 691.815 47.3897 689.205 Q49.8086 686.563 54.1691 686.563 Q59.1344 686.563 62.0308 690.51 Q64.9272 694.425 64.9272 701.3 Q64.9272 704.165 64.3543 707.284 Q63.8132 710.371 62.6992 713.809 L56.6518 713.809 Q58.3387 710.562 59.198 707.411 Q60.0256 704.26 60.0256 701.173 Q60.0256 697.035 58.6251 694.807 Q57.1929 692.579 54.6147 692.579 Q52.2276 692.579 50.9545 694.202 Q49.6813 695.794 48.5037 701.236 L48.0262 703.273 Q46.8804 708.716 44.5251 711.135 Q42.138 713.554 38.0002 713.554 Q32.9713 713.554 30.2341 709.989 Q27.4968 706.424 27.4968 699.868 Q27.4968 696.621 27.9743 693.757 Q28.4517 690.892 29.4065 688.473 Z\" fill=\"#000000\" fill-rule=\"evenodd\" fill-opacity=\"1\" /><path clip-path=\"url(#clip180)\" d=\"M41.7242 633.728 Q42.4244 631.659 44.7161 629.718 Q47.0077 627.744 51.0181 625.771 L64.0042 619.246 L64.0042 626.153 L51.8138 632.232 Q47.0395 634.587 45.48 636.815 Q43.9204 639.012 43.9204 642.831 L43.9204 649.833 L64.0042 649.833 L64.0042 656.263 L16.4842 656.263 L16.4842 641.749 Q16.4842 633.601 19.8898 629.59 Q23.2955 625.58 30.1704 625.58 Q34.6582 625.58 37.6183 627.681 Q40.5784 629.749 41.7242 633.728 M21.7677 649.833 L38.6368 649.833 L38.6368 641.749 Q38.6368 637.102 36.5043 634.747 Q34.34 632.359 30.1704 632.359 Q26.0009 632.359 23.9002 634.747 Q21.7677 637.102 21.7677 641.749 L21.7677 649.833 Z\" fill=\"#000000\" fill-rule=\"evenodd\" fill-opacity=\"1\" /><path clip-path=\"url(#clip180)\" d=\"M46.0847 596.457 Q46.0847 603.555 47.7079 606.292 Q49.3312 609.029 53.2461 609.029 Q56.3653 609.029 58.2114 606.992 Q60.0256 604.923 60.0256 601.39 Q60.0256 596.52 56.5881 593.592 Q53.1188 590.632 47.3897 590.632 L46.0847 590.632 L46.0847 596.457 M43.6657 584.776 L64.0042 584.776 L64.0042 590.632 L58.5933 590.632 Q61.8398 592.637 63.3994 595.629 Q64.9272 598.621 64.9272 602.95 Q64.9272 608.424 61.8716 611.671 Q58.7843 614.886 53.6281 614.886 Q47.6125 614.886 44.5569 610.875 Q41.5014 606.833 41.5014 598.844 L41.5014 590.632 L40.9285 590.632 Q36.8862 590.632 34.6901 593.306 Q32.4621 595.948 32.4621 600.754 Q32.4621 603.809 33.1941 606.706 Q33.9262 609.602 35.3903 612.276 L29.9795 612.276 Q28.7381 609.061 28.1334 606.037 Q27.4968 603.013 27.4968 600.149 Q27.4968 592.415 31.5072 588.595 Q35.5176 584.776 43.6657 584.776 Z\" fill=\"#000000\" fill-rule=\"evenodd\" fill-opacity=\"1\" /><path clip-path=\"url(#clip180)\" d=\"M18.2347 566.92 L28.3562 566.92 L28.3562 554.857 L32.9077 554.857 L32.9077 566.92 L52.2594 566.92 Q56.6199 566.92 57.8613 565.742 Q59.1026 564.533 59.1026 560.872 L59.1026 554.857 L64.0042 554.857 L64.0042 560.872 Q64.0042 567.652 61.4897 570.23 Q58.9434 572.808 52.2594 572.808 L32.9077 572.808 L32.9077 577.105 L28.3562 577.105 L28.3562 572.808 L18.2347 572.808 L18.2347 566.92 Z\" fill=\"#000000\" fill-rule=\"evenodd\" fill-opacity=\"1\" /><path clip-path=\"url(#clip180)\" d=\"M44.7161 516.663 L47.5806 516.663 L47.5806 543.59 Q53.6281 543.208 56.8109 539.961 Q59.9619 536.683 59.9619 530.858 Q59.9619 527.484 59.1344 524.333 Q58.3069 521.15 56.6518 518.031 L62.1899 518.031 Q63.5267 521.182 64.227 524.492 Q64.9272 527.803 64.9272 531.208 Q64.9272 539.738 59.9619 544.735 Q54.9967 549.701 46.5303 549.701 Q37.7774 549.701 32.6531 544.99 Q27.4968 540.248 27.4968 532.227 Q27.4968 525.034 32.1438 520.864 Q36.7589 516.663 44.7161 516.663 M42.9973 522.519 Q38.1912 522.583 35.3266 525.225 Q32.4621 527.834 32.4621 532.163 Q32.4621 537.065 35.2312 540.025 Q38.0002 542.953 43.0292 543.399 L42.9973 522.519 Z\" fill=\"#000000\" fill-rule=\"evenodd\" fill-opacity=\"1\" /><polyline clip-path=\"url(#clip182)\" style=\"stroke:#009af9; stroke-linecap:round; stroke-linejoin:round; stroke-width:4; stroke-opacity:1; fill:none\" points=\"\n",
       "  309.067,1372.3 319.038,1372.3 329.008,1372.3 338.979,1372.3 348.95,1372.3 358.92,1372.3 368.891,1372.3 378.862,1372.3 388.832,1372.3 398.803,1372.3 \n",
       "  408.774,1372.3 418.744,1372.3 428.715,1372.3 438.686,1372.3 448.656,1372.3 458.627,1372.3 468.598,1372.3 478.568,1372.3 488.539,1372.3 498.51,1372.3 \n",
       "  508.48,1372.3 518.451,1372.3 528.422,1372.3 538.392,1372.3 548.363,1372.3 558.334,1372.3 568.304,1372.3 578.275,1372.3 588.246,1372.3 598.216,1372.3 \n",
       "  608.187,1372.3 618.158,1372.3 628.129,1372.3 638.099,1372.3 648.07,1372.3 658.041,1372.3 668.011,1372.3 677.982,1372.3 687.953,1372.3 697.923,1372.3 \n",
       "  707.894,1372.3 717.865,1372.3 727.835,1372.3 737.806,1372.3 747.777,1372.3 757.747,1372.3 767.718,1372.3 777.689,1372.3 787.659,1372.3 797.63,1372.3 \n",
       "  807.601,1372.3 817.571,1372.3 827.542,1372.3 837.513,1372.3 847.483,1372.3 857.454,1372.3 867.425,1372.3 877.395,1372.3 887.366,1372.3 897.337,1372.3 \n",
       "  907.307,1372.3 917.278,1372.3 927.249,1372.3 937.219,1372.3 947.19,1372.3 957.161,1372.3 967.131,1372.3 977.102,1372.3 987.073,1372.3 997.043,1372.3 \n",
       "  1007.01,1372.3 1016.98,1372.3 1026.96,1372.3 1036.93,1372.3 1046.9,1372.3 1056.87,1372.3 1066.84,1372.3 1076.81,1372.3 1086.78,1372.3 1096.75,1372.3 \n",
       "  1106.72,1372.3 1116.69,1372.3 1126.66,1372.3 1136.63,1372.3 1146.6,1372.3 1156.57,1372.3 1166.54,1372.3 1176.52,1372.3 1186.49,1372.3 1196.46,1372.3 \n",
       "  1206.43,1372.3 1216.4,1372.3 1226.37,1372.3 1236.34,1372.3 1246.31,1372.3 1256.28,1372.3 1266.25,1372.3 1276.22,1372.3 1286.19,1372.3 1296.16,1372.3 \n",
       "  1306.13,1372.3 1316.1,1372.3 1326.08,1372.3 1336.05,1372.3 1346.02,1365.87 1355.99,1353.01 1365.96,1365.87 1375.93,1346.57 1385.9,1346.57 1395.87,1359.44 \n",
       "  1405.84,1314.41 1415.81,1301.55 1425.78,1295.11 1435.75,1295.11 1445.72,1230.79 1455.69,1217.93 1465.67,1153.6 1475.64,1166.47 1485.61,1076.42 1495.58,986.363 \n",
       "  1505.55,934.905 1515.52,883.446 1525.49,838.42 1535.46,741.935 1545.43,684.044 1555.4,639.018 1565.37,478.21 1575.34,536.101 1585.31,561.83 1595.28,401.022 \n",
       "  1605.25,388.157 1615.23,458.913 1625.2,355.996 1635.17,330.266 1645.14,304.537 1655.11,304.537 1665.08,278.808 1675.05,208.052 1685.02,188.755 1694.99,182.323 \n",
       "  1704.96,150.161 1714.93,143.729 1724.9,118 1734.87,118 1744.84,163.026 1754.81,111.567 1764.79,98.7027 1774.76,92.2704 1784.73,105.135 1794.7,124.432 \n",
       "  1804.67,105.135 1814.64,85.838 1824.61,98.7027 1834.58,92.2704 1844.55,85.838 1854.52,85.838 1864.49,92.2704 1874.46,111.567 1884.43,92.2704 1894.4,105.135 \n",
       "  1904.37,85.838 1914.35,98.7027 1924.32,98.7027 1934.29,92.2704 1944.26,85.838 1954.23,85.838 1964.2,85.838 1974.17,98.7027 1984.14,85.838 1994.11,85.838 \n",
       "  2004.08,85.838 2014.05,98.7027 2024.02,92.2704 2033.99,105.135 2043.96,85.838 2053.93,85.838 2063.91,105.135 2073.88,92.2704 2083.85,98.7027 2093.82,92.2704 \n",
       "  2103.79,92.2704 2113.76,92.2704 2123.73,85.838 2133.7,85.838 2143.67,85.838 2153.64,85.838 2163.61,92.2704 2173.58,85.838 2183.55,85.838 2193.52,85.838 \n",
       "  2203.49,85.838 2213.47,85.838 2223.44,98.7027 2233.41,85.838 2243.38,85.838 2253.35,92.2704 2263.32,92.2704 2273.29,85.838 2283.26,92.2704 2293.23,85.838 \n",
       "  \n",
       "  \"/>\n",
       "</svg>\n"
      ]
     },
     "execution_count": 44,
     "metadata": {},
     "output_type": "execute_result"
    }
   ],
   "source": [
    "plot(iterations, success_rate, xlabel=\"Iterations\", ylabel=\"Success Rate\", legend = false, xformatter = :scientific)"
   ]
  },
  {
   "cell_type": "code",
   "execution_count": 45,
   "id": "4e57d828",
   "metadata": {},
   "outputs": [
    {
     "data": {
      "text/plain": [
       "\"/home/larissa/Documents/Projects/ADLR/ADLR_project/src/RL_PPO_quadcopter_3D/plots/slow/success_rate.svg\""
      ]
     },
     "execution_count": 45,
     "metadata": {},
     "output_type": "execute_result"
    }
   ],
   "source": [
    "savefig(fig_path * \"success_rate.svg\")"
   ]
  },
  {
   "cell_type": "code",
   "execution_count": 46,
   "id": "480d67d7",
   "metadata": {
    "scrolled": false
   },
   "outputs": [
    {
     "data": {
      "image/svg+xml": [
       "<?xml version=\"1.0\" encoding=\"utf-8\"?>\n",
       "<svg xmlns=\"http://www.w3.org/2000/svg\" xmlns:xlink=\"http://www.w3.org/1999/xlink\" width=\"600\" height=\"400\" viewBox=\"0 0 2400 1600\">\n",
       "<defs>\n",
       "  <clipPath id=\"clip260\">\n",
       "    <rect x=\"0\" y=\"0\" width=\"2400\" height=\"1600\"/>\n",
       "  </clipPath>\n",
       "</defs>\n",
       "<path clip-path=\"url(#clip260)\" d=\"\n",
       "M0 1600 L2400 1600 L2400 0 L0 0  Z\n",
       "  \" fill=\"#ffffff\" fill-rule=\"evenodd\" fill-opacity=\"1\"/>\n",
       "<defs>\n",
       "  <clipPath id=\"clip261\">\n",
       "    <rect x=\"480\" y=\"0\" width=\"1681\" height=\"1600\"/>\n",
       "  </clipPath>\n",
       "</defs>\n",
       "<path clip-path=\"url(#clip260)\" d=\"\n",
       "M219.033 1410.9 L2352.76 1410.9 L2352.76 47.2441 L219.033 47.2441  Z\n",
       "  \" fill=\"#ffffff\" fill-rule=\"evenodd\" fill-opacity=\"1\"/>\n",
       "<defs>\n",
       "  <clipPath id=\"clip262\">\n",
       "    <rect x=\"219\" y=\"47\" width=\"2135\" height=\"1365\"/>\n",
       "  </clipPath>\n",
       "</defs>\n",
       "<polyline clip-path=\"url(#clip262)\" style=\"stroke:#000000; stroke-linecap:round; stroke-linejoin:round; stroke-width:2; stroke-opacity:0.1; fill:none\" points=\"\n",
       "  269.306,1410.9 269.306,47.2441 \n",
       "  \"/>\n",
       "<polyline clip-path=\"url(#clip262)\" style=\"stroke:#000000; stroke-linecap:round; stroke-linejoin:round; stroke-width:2; stroke-opacity:0.1; fill:none\" points=\"\n",
       "  775.071,1410.9 775.071,47.2441 \n",
       "  \"/>\n",
       "<polyline clip-path=\"url(#clip262)\" style=\"stroke:#000000; stroke-linecap:round; stroke-linejoin:round; stroke-width:2; stroke-opacity:0.1; fill:none\" points=\"\n",
       "  1280.84,1410.9 1280.84,47.2441 \n",
       "  \"/>\n",
       "<polyline clip-path=\"url(#clip262)\" style=\"stroke:#000000; stroke-linecap:round; stroke-linejoin:round; stroke-width:2; stroke-opacity:0.1; fill:none\" points=\"\n",
       "  1786.6,1410.9 1786.6,47.2441 \n",
       "  \"/>\n",
       "<polyline clip-path=\"url(#clip262)\" style=\"stroke:#000000; stroke-linecap:round; stroke-linejoin:round; stroke-width:2; stroke-opacity:0.1; fill:none\" points=\"\n",
       "  2292.37,1410.9 2292.37,47.2441 \n",
       "  \"/>\n",
       "<polyline clip-path=\"url(#clip260)\" style=\"stroke:#000000; stroke-linecap:round; stroke-linejoin:round; stroke-width:4; stroke-opacity:1; fill:none\" points=\"\n",
       "  219.033,1410.9 2352.76,1410.9 \n",
       "  \"/>\n",
       "<polyline clip-path=\"url(#clip260)\" style=\"stroke:#000000; stroke-linecap:round; stroke-linejoin:round; stroke-width:4; stroke-opacity:1; fill:none\" points=\"\n",
       "  269.306,1410.9 269.306,1392 \n",
       "  \"/>\n",
       "<polyline clip-path=\"url(#clip260)\" style=\"stroke:#000000; stroke-linecap:round; stroke-linejoin:round; stroke-width:4; stroke-opacity:1; fill:none\" points=\"\n",
       "  775.071,1410.9 775.071,1392 \n",
       "  \"/>\n",
       "<polyline clip-path=\"url(#clip260)\" style=\"stroke:#000000; stroke-linecap:round; stroke-linejoin:round; stroke-width:4; stroke-opacity:1; fill:none\" points=\"\n",
       "  1280.84,1410.9 1280.84,1392 \n",
       "  \"/>\n",
       "<polyline clip-path=\"url(#clip260)\" style=\"stroke:#000000; stroke-linecap:round; stroke-linejoin:round; stroke-width:4; stroke-opacity:1; fill:none\" points=\"\n",
       "  1786.6,1410.9 1786.6,1392 \n",
       "  \"/>\n",
       "<polyline clip-path=\"url(#clip260)\" style=\"stroke:#000000; stroke-linecap:round; stroke-linejoin:round; stroke-width:4; stroke-opacity:1; fill:none\" points=\"\n",
       "  2292.37,1410.9 2292.37,1392 \n",
       "  \"/>\n",
       "<path clip-path=\"url(#clip260)\" d=\"M269.306 1441.82 Q265.695 1441.82 263.866 1445.38 Q262.061 1448.92 262.061 1456.05 Q262.061 1463.16 263.866 1466.72 Q265.695 1470.26 269.306 1470.26 Q272.94 1470.26 274.746 1466.72 Q276.574 1463.16 276.574 1456.05 Q276.574 1448.92 274.746 1445.38 Q272.94 1441.82 269.306 1441.82 M269.306 1438.11 Q275.116 1438.11 278.172 1442.72 Q281.25 1447.3 281.25 1456.05 Q281.25 1464.78 278.172 1469.38 Q275.116 1473.97 269.306 1473.97 Q263.496 1473.97 260.417 1469.38 Q257.362 1464.78 257.362 1456.05 Q257.362 1447.3 260.417 1442.72 Q263.496 1438.11 269.306 1438.11 Z\" fill=\"#000000\" fill-rule=\"evenodd\" fill-opacity=\"1\" /><path clip-path=\"url(#clip260)\" d=\"M667.437 1454.4 L685.793 1454.4 L685.793 1458.33 L671.719 1458.33 L671.719 1466.8 Q672.738 1466.46 673.756 1466.29 Q674.775 1466.11 675.793 1466.11 Q681.58 1466.11 684.96 1469.28 Q688.339 1472.45 688.339 1477.87 Q688.339 1483.45 684.867 1486.55 Q681.395 1489.63 675.076 1489.63 Q672.9 1489.63 670.631 1489.26 Q668.386 1488.89 665.978 1488.15 L665.978 1483.45 Q668.062 1484.58 670.284 1485.14 Q672.506 1485.69 674.983 1485.69 Q678.988 1485.69 681.326 1483.59 Q683.663 1481.48 683.663 1477.87 Q683.663 1474.26 681.326 1472.15 Q678.988 1470.04 674.983 1470.04 Q673.108 1470.04 671.233 1470.46 Q669.381 1470.88 667.437 1471.76 L667.437 1454.4 Z\" fill=\"#000000\" fill-rule=\"evenodd\" fill-opacity=\"1\" /><path clip-path=\"url(#clip260)\" d=\"M697.552 1483.08 L702.437 1483.08 L702.437 1488.96 L697.552 1488.96 L697.552 1483.08 Z\" fill=\"#000000\" fill-rule=\"evenodd\" fill-opacity=\"1\" /><path clip-path=\"url(#clip260)\" d=\"M722.622 1457.48 Q719.01 1457.48 717.182 1461.04 Q715.376 1464.58 715.376 1471.71 Q715.376 1478.82 717.182 1482.38 Q719.01 1485.92 722.622 1485.92 Q726.256 1485.92 728.061 1482.38 Q729.89 1478.82 729.89 1471.71 Q729.89 1464.58 728.061 1461.04 Q726.256 1457.48 722.622 1457.48 M722.622 1453.77 Q728.432 1453.77 731.487 1458.38 Q734.566 1462.96 734.566 1471.71 Q734.566 1480.44 731.487 1485.04 Q728.432 1489.63 722.622 1489.63 Q716.811 1489.63 713.733 1485.04 Q710.677 1480.44 710.677 1471.71 Q710.677 1462.96 713.733 1458.38 Q716.811 1453.77 722.622 1453.77 Z\" fill=\"#000000\" fill-rule=\"evenodd\" fill-opacity=\"1\" /><path clip-path=\"url(#clip260)\" d=\"M752.783 1457.48 Q749.172 1457.48 747.344 1461.04 Q745.538 1464.58 745.538 1471.71 Q745.538 1478.82 747.344 1482.38 Q749.172 1485.92 752.783 1485.92 Q756.418 1485.92 758.223 1482.38 Q760.052 1478.82 760.052 1471.71 Q760.052 1464.58 758.223 1461.04 Q756.418 1457.48 752.783 1457.48 M752.783 1453.77 Q758.594 1453.77 761.649 1458.38 Q764.728 1462.96 764.728 1471.71 Q764.728 1480.44 761.649 1485.04 Q758.594 1489.63 752.783 1489.63 Q746.973 1489.63 743.895 1485.04 Q740.839 1480.44 740.839 1471.71 Q740.839 1462.96 743.895 1458.38 Q746.973 1453.77 752.783 1453.77 Z\" fill=\"#000000\" fill-rule=\"evenodd\" fill-opacity=\"1\" /><path clip-path=\"url(#clip260)\" d=\"M801.117 1463.49 L790.538 1474.12 L801.117 1484.7 L798.362 1487.5 L787.737 1476.87 L777.112 1487.5 L774.381 1484.7 L784.936 1474.12 L774.381 1463.49 L777.112 1460.69 L787.737 1471.32 L798.362 1460.69 L801.117 1463.49 Z\" fill=\"#000000\" fill-rule=\"evenodd\" fill-opacity=\"1\" /><path clip-path=\"url(#clip260)\" d=\"M813.478 1485.02 L821.116 1485.02 L821.116 1458.66 L812.806 1460.32 L812.806 1456.06 L821.07 1454.4 L825.746 1454.4 L825.746 1485.02 L833.385 1485.02 L833.385 1488.96 L813.478 1488.96 L813.478 1485.02 Z\" fill=\"#000000\" fill-rule=\"evenodd\" fill-opacity=\"1\" /><path clip-path=\"url(#clip260)\" d=\"M852.829 1457.48 Q849.218 1457.48 847.389 1461.04 Q845.584 1464.58 845.584 1471.71 Q845.584 1478.82 847.389 1482.38 Q849.218 1485.92 852.829 1485.92 Q856.463 1485.92 858.269 1482.38 Q860.098 1478.82 860.098 1471.71 Q860.098 1464.58 858.269 1461.04 Q856.463 1457.48 852.829 1457.48 M852.829 1453.77 Q858.639 1453.77 861.695 1458.38 Q864.774 1462.96 864.774 1471.71 Q864.774 1480.44 861.695 1485.04 Q858.639 1489.63 852.829 1489.63 Q847.019 1489.63 843.94 1485.04 Q840.885 1480.44 840.885 1471.71 Q840.885 1462.96 843.94 1458.38 Q847.019 1453.77 852.829 1453.77 Z\" fill=\"#000000\" fill-rule=\"evenodd\" fill-opacity=\"1\" /><path clip-path=\"url(#clip260)\" d=\"M874.798 1445.99 Q872.24 1445.99 870.736 1447.74 Q869.25 1449.49 869.25 1452.54 Q869.25 1455.57 870.736 1457.33 Q872.24 1459.08 874.798 1459.08 Q877.356 1459.08 878.842 1457.33 Q880.346 1455.57 880.346 1452.54 Q880.346 1449.49 878.842 1447.74 Q877.356 1445.99 874.798 1445.99 M882.34 1434.09 L882.34 1437.55 Q880.911 1436.87 879.444 1436.51 Q877.995 1436.16 876.566 1436.16 Q872.805 1436.16 870.811 1438.69 Q868.836 1441.23 868.554 1446.37 Q869.664 1444.73 871.338 1443.87 Q873.011 1442.98 875.024 1442.98 Q879.256 1442.98 881.701 1445.56 Q884.164 1448.12 884.164 1452.54 Q884.164 1456.86 881.607 1459.48 Q879.049 1462.09 874.798 1462.09 Q869.927 1462.09 867.35 1458.37 Q864.774 1454.62 864.774 1447.53 Q864.774 1440.88 867.933 1436.93 Q871.093 1432.96 876.416 1432.96 Q877.845 1432.96 879.293 1433.24 Q880.76 1433.52 882.34 1434.09 Z\" fill=\"#000000\" fill-rule=\"evenodd\" fill-opacity=\"1\" /><path clip-path=\"url(#clip260)\" d=\"M1173.86 1485.02 L1181.5 1485.02 L1181.5 1458.66 L1173.19 1460.32 L1173.19 1456.06 L1181.45 1454.4 L1186.13 1454.4 L1186.13 1485.02 L1193.77 1485.02 L1193.77 1488.96 L1173.86 1488.96 L1173.86 1485.02 Z\" fill=\"#000000\" fill-rule=\"evenodd\" fill-opacity=\"1\" /><path clip-path=\"url(#clip260)\" d=\"M1203.21 1483.08 L1208.09 1483.08 L1208.09 1488.96 L1203.21 1488.96 L1203.21 1483.08 Z\" fill=\"#000000\" fill-rule=\"evenodd\" fill-opacity=\"1\" /><path clip-path=\"url(#clip260)\" d=\"M1228.28 1457.48 Q1224.67 1457.48 1222.84 1461.04 Q1221.03 1464.58 1221.03 1471.71 Q1221.03 1478.82 1222.84 1482.38 Q1224.67 1485.92 1228.28 1485.92 Q1231.91 1485.92 1233.72 1482.38 Q1235.55 1478.82 1235.55 1471.71 Q1235.55 1464.58 1233.72 1461.04 Q1231.91 1457.48 1228.28 1457.48 M1228.28 1453.77 Q1234.09 1453.77 1237.14 1458.38 Q1240.22 1462.96 1240.22 1471.71 Q1240.22 1480.44 1237.14 1485.04 Q1234.09 1489.63 1228.28 1489.63 Q1222.47 1489.63 1219.39 1485.04 Q1216.33 1480.44 1216.33 1471.71 Q1216.33 1462.96 1219.39 1458.38 Q1222.47 1453.77 1228.28 1453.77 Z\" fill=\"#000000\" fill-rule=\"evenodd\" fill-opacity=\"1\" /><path clip-path=\"url(#clip260)\" d=\"M1258.44 1457.48 Q1254.83 1457.48 1253 1461.04 Q1251.2 1464.58 1251.2 1471.71 Q1251.2 1478.82 1253 1482.38 Q1254.83 1485.92 1258.44 1485.92 Q1262.08 1485.92 1263.88 1482.38 Q1265.71 1478.82 1265.71 1471.71 Q1265.71 1464.58 1263.88 1461.04 Q1262.08 1457.48 1258.44 1457.48 M1258.44 1453.77 Q1264.25 1453.77 1267.31 1458.38 Q1270.39 1462.96 1270.39 1471.71 Q1270.39 1480.44 1267.31 1485.04 Q1264.25 1489.63 1258.44 1489.63 Q1252.63 1489.63 1249.55 1485.04 Q1246.5 1480.44 1246.5 1471.71 Q1246.5 1462.96 1249.55 1458.38 Q1252.63 1453.77 1258.44 1453.77 Z\" fill=\"#000000\" fill-rule=\"evenodd\" fill-opacity=\"1\" /><path clip-path=\"url(#clip260)\" d=\"M1306.77 1463.49 L1296.2 1474.12 L1306.77 1484.7 L1304.02 1487.5 L1293.39 1476.87 L1282.77 1487.5 L1280.04 1484.7 L1290.59 1474.12 L1280.04 1463.49 L1282.77 1460.69 L1293.39 1471.32 L1304.02 1460.69 L1306.77 1463.49 Z\" fill=\"#000000\" fill-rule=\"evenodd\" fill-opacity=\"1\" /><path clip-path=\"url(#clip260)\" d=\"M1319.14 1485.02 L1326.77 1485.02 L1326.77 1458.66 L1318.46 1460.32 L1318.46 1456.06 L1326.73 1454.4 L1331.4 1454.4 L1331.4 1485.02 L1339.04 1485.02 L1339.04 1488.96 L1319.14 1488.96 L1319.14 1485.02 Z\" fill=\"#000000\" fill-rule=\"evenodd\" fill-opacity=\"1\" /><path clip-path=\"url(#clip260)\" d=\"M1358.49 1457.48 Q1354.88 1457.48 1353.05 1461.04 Q1351.24 1464.58 1351.24 1471.71 Q1351.24 1478.82 1353.05 1482.38 Q1354.88 1485.92 1358.49 1485.92 Q1362.12 1485.92 1363.93 1482.38 Q1365.76 1478.82 1365.76 1471.71 Q1365.76 1464.58 1363.93 1461.04 Q1362.12 1457.48 1358.49 1457.48 M1358.49 1453.77 Q1364.3 1453.77 1367.35 1458.38 Q1370.43 1462.96 1370.43 1471.71 Q1370.43 1480.44 1367.35 1485.04 Q1364.3 1489.63 1358.49 1489.63 Q1352.68 1489.63 1349.6 1485.04 Q1346.54 1480.44 1346.54 1471.71 Q1346.54 1462.96 1349.6 1458.38 Q1352.68 1453.77 1358.49 1453.77 Z\" fill=\"#000000\" fill-rule=\"evenodd\" fill-opacity=\"1\" /><path clip-path=\"url(#clip260)\" d=\"M1370.43 1433.47 L1388.49 1433.47 L1388.49 1435.08 L1378.29 1461.55 L1374.32 1461.55 L1383.92 1436.66 L1370.43 1436.66 L1370.43 1433.47 Z\" fill=\"#000000\" fill-rule=\"evenodd\" fill-opacity=\"1\" /><path clip-path=\"url(#clip260)\" d=\"M1679.62 1485.02 L1687.26 1485.02 L1687.26 1458.66 L1678.95 1460.32 L1678.95 1456.06 L1687.22 1454.4 L1691.89 1454.4 L1691.89 1485.02 L1699.53 1485.02 L1699.53 1488.96 L1679.62 1488.96 L1679.62 1485.02 Z\" fill=\"#000000\" fill-rule=\"evenodd\" fill-opacity=\"1\" /><path clip-path=\"url(#clip260)\" d=\"M1708.98 1483.08 L1713.86 1483.08 L1713.86 1488.96 L1708.98 1488.96 L1708.98 1483.08 Z\" fill=\"#000000\" fill-rule=\"evenodd\" fill-opacity=\"1\" /><path clip-path=\"url(#clip260)\" d=\"M1724.09 1454.4 L1742.45 1454.4 L1742.45 1458.33 L1728.37 1458.33 L1728.37 1466.8 Q1729.39 1466.46 1730.41 1466.29 Q1731.43 1466.11 1732.45 1466.11 Q1738.23 1466.11 1741.61 1469.28 Q1744.99 1472.45 1744.99 1477.87 Q1744.99 1483.45 1741.52 1486.55 Q1738.05 1489.63 1731.73 1489.63 Q1729.55 1489.63 1727.29 1489.26 Q1725.04 1488.89 1722.63 1488.15 L1722.63 1483.45 Q1724.72 1484.58 1726.94 1485.14 Q1729.16 1485.69 1731.64 1485.69 Q1735.64 1485.69 1737.98 1483.59 Q1740.32 1481.48 1740.32 1477.87 Q1740.32 1474.26 1737.98 1472.15 Q1735.64 1470.04 1731.64 1470.04 Q1729.76 1470.04 1727.89 1470.46 Q1726.04 1470.88 1724.09 1471.76 L1724.09 1454.4 Z\" fill=\"#000000\" fill-rule=\"evenodd\" fill-opacity=\"1\" /><path clip-path=\"url(#clip260)\" d=\"M1764.21 1457.48 Q1760.6 1457.48 1758.77 1461.04 Q1756.96 1464.58 1756.96 1471.71 Q1756.96 1478.82 1758.77 1482.38 Q1760.6 1485.92 1764.21 1485.92 Q1767.84 1485.92 1769.65 1482.38 Q1771.47 1478.82 1771.47 1471.71 Q1771.47 1464.58 1769.65 1461.04 Q1767.84 1457.48 1764.21 1457.48 M1764.21 1453.77 Q1770.02 1453.77 1773.07 1458.38 Q1776.15 1462.96 1776.15 1471.71 Q1776.15 1480.44 1773.07 1485.04 Q1770.02 1489.63 1764.21 1489.63 Q1758.4 1489.63 1755.32 1485.04 Q1752.26 1480.44 1752.26 1471.71 Q1752.26 1462.96 1755.32 1458.38 Q1758.4 1453.77 1764.21 1453.77 Z\" fill=\"#000000\" fill-rule=\"evenodd\" fill-opacity=\"1\" /><path clip-path=\"url(#clip260)\" d=\"M1812.54 1463.49 L1801.96 1474.12 L1812.54 1484.7 L1809.78 1487.5 L1799.16 1476.87 L1788.54 1487.5 L1785.8 1484.7 L1796.36 1474.12 L1785.8 1463.49 L1788.54 1460.69 L1799.16 1471.32 L1809.78 1460.69 L1812.54 1463.49 Z\" fill=\"#000000\" fill-rule=\"evenodd\" fill-opacity=\"1\" /><path clip-path=\"url(#clip260)\" d=\"M1824.9 1485.02 L1832.54 1485.02 L1832.54 1458.66 L1824.23 1460.32 L1824.23 1456.06 L1832.49 1454.4 L1837.17 1454.4 L1837.17 1485.02 L1844.81 1485.02 L1844.81 1488.96 L1824.9 1488.96 L1824.9 1485.02 Z\" fill=\"#000000\" fill-rule=\"evenodd\" fill-opacity=\"1\" /><path clip-path=\"url(#clip260)\" d=\"M1864.25 1457.48 Q1860.64 1457.48 1858.81 1461.04 Q1857.01 1464.58 1857.01 1471.71 Q1857.01 1478.82 1858.81 1482.38 Q1860.64 1485.92 1864.25 1485.92 Q1867.89 1485.92 1869.69 1482.38 Q1871.52 1478.82 1871.52 1471.71 Q1871.52 1464.58 1869.69 1461.04 Q1867.89 1457.48 1864.25 1457.48 M1864.25 1453.77 Q1870.06 1453.77 1873.12 1458.38 Q1876.2 1462.96 1876.2 1471.71 Q1876.2 1480.44 1873.12 1485.04 Q1870.06 1489.63 1864.25 1489.63 Q1858.44 1489.63 1855.36 1485.04 Q1852.31 1480.44 1852.31 1471.71 Q1852.31 1462.96 1855.36 1458.38 Q1858.44 1453.77 1864.25 1453.77 Z\" fill=\"#000000\" fill-rule=\"evenodd\" fill-opacity=\"1\" /><path clip-path=\"url(#clip260)\" d=\"M1876.2 1433.47 L1894.25 1433.47 L1894.25 1435.08 L1884.06 1461.55 L1880.09 1461.55 L1889.68 1436.66 L1876.2 1436.66 L1876.2 1433.47 Z\" fill=\"#000000\" fill-rule=\"evenodd\" fill-opacity=\"1\" /><path clip-path=\"url(#clip260)\" d=\"M2189.47 1485.02 L2205.79 1485.02 L2205.79 1488.96 L2183.85 1488.96 L2183.85 1485.02 Q2186.51 1482.27 2191.09 1477.64 Q2195.7 1472.98 2196.88 1471.64 Q2199.13 1469.12 2200.01 1467.38 Q2200.91 1465.62 2200.91 1463.93 Q2200.91 1461.18 2198.97 1459.44 Q2197.04 1457.71 2193.94 1457.71 Q2191.74 1457.71 2189.29 1458.47 Q2186.86 1459.23 2184.08 1460.79 L2184.08 1456.06 Q2186.91 1454.93 2189.36 1454.35 Q2191.81 1453.77 2193.85 1453.77 Q2199.22 1453.77 2202.41 1456.46 Q2205.61 1459.14 2205.61 1463.63 Q2205.61 1465.76 2204.8 1467.68 Q2204.01 1469.58 2201.91 1472.17 Q2201.33 1472.85 2198.22 1476.06 Q2195.12 1479.26 2189.47 1485.02 Z\" fill=\"#000000\" fill-rule=\"evenodd\" fill-opacity=\"1\" /><path clip-path=\"url(#clip260)\" d=\"M2215.61 1483.08 L2220.49 1483.08 L2220.49 1488.96 L2215.61 1488.96 L2215.61 1483.08 Z\" fill=\"#000000\" fill-rule=\"evenodd\" fill-opacity=\"1\" /><path clip-path=\"url(#clip260)\" d=\"M2240.68 1457.48 Q2237.07 1457.48 2235.24 1461.04 Q2233.43 1464.58 2233.43 1471.71 Q2233.43 1478.82 2235.24 1482.38 Q2237.07 1485.92 2240.68 1485.92 Q2244.31 1485.92 2246.12 1482.38 Q2247.95 1478.82 2247.95 1471.71 Q2247.95 1464.58 2246.12 1461.04 Q2244.31 1457.48 2240.68 1457.48 M2240.68 1453.77 Q2246.49 1453.77 2249.54 1458.38 Q2252.62 1462.96 2252.62 1471.71 Q2252.62 1480.44 2249.54 1485.04 Q2246.49 1489.63 2240.68 1489.63 Q2234.87 1489.63 2231.79 1485.04 Q2228.73 1480.44 2228.73 1471.71 Q2228.73 1462.96 2231.79 1458.38 Q2234.87 1453.77 2240.68 1453.77 Z\" fill=\"#000000\" fill-rule=\"evenodd\" fill-opacity=\"1\" /><path clip-path=\"url(#clip260)\" d=\"M2270.84 1457.48 Q2267.23 1457.48 2265.4 1461.04 Q2263.59 1464.58 2263.59 1471.71 Q2263.59 1478.82 2265.4 1482.38 Q2267.23 1485.92 2270.84 1485.92 Q2274.47 1485.92 2276.28 1482.38 Q2278.11 1478.82 2278.11 1471.71 Q2278.11 1464.58 2276.28 1461.04 Q2274.47 1457.48 2270.84 1457.48 M2270.84 1453.77 Q2276.65 1453.77 2279.71 1458.38 Q2282.78 1462.96 2282.78 1471.71 Q2282.78 1480.44 2279.71 1485.04 Q2276.65 1489.63 2270.84 1489.63 Q2265.03 1489.63 2261.95 1485.04 Q2258.9 1480.44 2258.9 1471.71 Q2258.9 1462.96 2261.95 1458.38 Q2265.03 1453.77 2270.84 1453.77 Z\" fill=\"#000000\" fill-rule=\"evenodd\" fill-opacity=\"1\" /><path clip-path=\"url(#clip260)\" d=\"M2319.17 1463.49 L2308.59 1474.12 L2319.17 1484.7 L2316.42 1487.5 L2305.79 1476.87 L2295.17 1487.5 L2292.44 1484.7 L2302.99 1474.12 L2292.44 1463.49 L2295.17 1460.69 L2305.79 1471.32 L2316.42 1460.69 L2319.17 1463.49 Z\" fill=\"#000000\" fill-rule=\"evenodd\" fill-opacity=\"1\" /><path clip-path=\"url(#clip260)\" d=\"M2331.53 1485.02 L2339.17 1485.02 L2339.17 1458.66 L2330.86 1460.32 L2330.86 1456.06 L2339.13 1454.4 L2343.8 1454.4 L2343.8 1485.02 L2351.44 1485.02 L2351.44 1488.96 L2331.53 1488.96 L2331.53 1485.02 Z\" fill=\"#000000\" fill-rule=\"evenodd\" fill-opacity=\"1\" /><path clip-path=\"url(#clip260)\" d=\"M2370.89 1457.48 Q2367.27 1457.48 2365.45 1461.04 Q2363.64 1464.58 2363.64 1471.71 Q2363.64 1478.82 2365.45 1482.38 Q2367.27 1485.92 2370.89 1485.92 Q2374.52 1485.92 2376.33 1482.38 Q2378.15 1478.82 2378.15 1471.71 Q2378.15 1464.58 2376.33 1461.04 Q2374.52 1457.48 2370.89 1457.48 M2370.89 1453.77 Q2376.7 1453.77 2379.75 1458.38 Q2382.83 1462.96 2382.83 1471.71 Q2382.83 1480.44 2379.75 1485.04 Q2376.7 1489.63 2370.89 1489.63 Q2365.08 1489.63 2362 1485.04 Q2358.94 1480.44 2358.94 1471.71 Q2358.94 1462.96 2362 1458.38 Q2365.08 1453.77 2370.89 1453.77 Z\" fill=\"#000000\" fill-rule=\"evenodd\" fill-opacity=\"1\" /><path clip-path=\"url(#clip260)\" d=\"M2382.83 1433.47 L2400.89 1433.47 L2400.89 1435.08 L2390.69 1461.55 L2386.72 1461.55 L2396.32 1436.66 L2382.83 1436.66 L2382.83 1433.47 Z\" fill=\"#000000\" fill-rule=\"evenodd\" fill-opacity=\"1\" /><path clip-path=\"url(#clip260)\" d=\"M1135.46 1526.67 L1141.89 1526.67 L1141.89 1574.19 L1135.46 1574.19 L1135.46 1526.67 Z\" fill=\"#000000\" fill-rule=\"evenodd\" fill-opacity=\"1\" /><path clip-path=\"url(#clip260)\" d=\"M1160.22 1528.42 L1160.22 1538.54 L1172.28 1538.54 L1172.28 1543.09 L1160.22 1543.09 L1160.22 1562.44 Q1160.22 1566.8 1161.4 1568.04 Q1162.61 1569.28 1166.27 1569.28 L1172.28 1569.28 L1172.28 1574.19 L1166.27 1574.19 Q1159.49 1574.19 1156.91 1571.67 Q1154.33 1569.12 1154.33 1562.44 L1154.33 1543.09 L1150.03 1543.09 L1150.03 1538.54 L1154.33 1538.54 L1154.33 1528.42 L1160.22 1528.42 Z\" fill=\"#000000\" fill-rule=\"evenodd\" fill-opacity=\"1\" /><path clip-path=\"url(#clip260)\" d=\"M1210.48 1554.9 L1210.48 1557.76 L1183.55 1557.76 Q1183.93 1563.81 1187.18 1566.99 Q1190.46 1570.14 1196.28 1570.14 Q1199.66 1570.14 1202.81 1569.32 Q1205.99 1568.49 1209.11 1566.83 L1209.11 1572.37 Q1205.96 1573.71 1202.65 1574.41 Q1199.34 1575.11 1195.93 1575.11 Q1187.4 1575.11 1182.4 1570.14 Q1177.44 1565.18 1177.44 1556.71 Q1177.44 1547.96 1182.15 1542.83 Q1186.89 1537.68 1194.91 1537.68 Q1202.11 1537.68 1206.28 1542.33 Q1210.48 1546.94 1210.48 1554.9 M1204.62 1553.18 Q1204.56 1548.37 1201.91 1545.51 Q1199.3 1542.64 1194.98 1542.64 Q1190.07 1542.64 1187.11 1545.41 Q1184.19 1548.18 1183.74 1553.21 L1204.62 1553.18 Z\" fill=\"#000000\" fill-rule=\"evenodd\" fill-opacity=\"1\" /><path clip-path=\"url(#clip260)\" d=\"M1240.75 1544.01 Q1239.76 1543.44 1238.58 1543.18 Q1237.44 1542.9 1236.04 1542.9 Q1231.07 1542.9 1228.4 1546.14 Q1225.75 1549.36 1225.75 1555.41 L1225.75 1574.19 L1219.87 1574.19 L1219.87 1538.54 L1225.75 1538.54 L1225.75 1544.08 Q1227.6 1540.83 1230.56 1539.27 Q1233.52 1537.68 1237.75 1537.68 Q1238.36 1537.68 1239.09 1537.77 Q1239.82 1537.84 1240.71 1538 L1240.75 1544.01 Z\" fill=\"#000000\" fill-rule=\"evenodd\" fill-opacity=\"1\" /><path clip-path=\"url(#clip260)\" d=\"M1263.09 1556.27 Q1255.99 1556.27 1253.25 1557.89 Q1250.52 1559.51 1250.52 1563.43 Q1250.52 1566.55 1252.55 1568.39 Q1254.62 1570.21 1258.16 1570.21 Q1263.03 1570.21 1265.95 1566.77 Q1268.91 1563.3 1268.91 1557.57 L1268.91 1556.27 L1263.09 1556.27 M1274.77 1553.85 L1274.77 1574.19 L1268.91 1574.19 L1268.91 1568.77 Q1266.91 1572.02 1263.92 1573.58 Q1260.92 1575.11 1256.6 1575.11 Q1251.12 1575.11 1247.88 1572.05 Q1244.66 1568.97 1244.66 1563.81 Q1244.66 1557.79 1248.67 1554.74 Q1252.71 1551.68 1260.7 1551.68 L1268.91 1551.68 L1268.91 1551.11 Q1268.91 1547.07 1266.24 1544.87 Q1263.6 1542.64 1258.79 1542.64 Q1255.74 1542.64 1252.84 1543.38 Q1249.94 1544.11 1247.27 1545.57 L1247.27 1540.16 Q1250.49 1538.92 1253.51 1538.31 Q1256.53 1537.68 1259.4 1537.68 Q1267.13 1537.68 1270.95 1541.69 Q1274.77 1545.7 1274.77 1553.85 Z\" fill=\"#000000\" fill-rule=\"evenodd\" fill-opacity=\"1\" /><path clip-path=\"url(#clip260)\" d=\"M1292.63 1528.42 L1292.63 1538.54 L1304.69 1538.54 L1304.69 1543.09 L1292.63 1543.09 L1292.63 1562.44 Q1292.63 1566.8 1293.8 1568.04 Q1295.01 1569.28 1298.67 1569.28 L1304.69 1569.28 L1304.69 1574.19 L1298.67 1574.19 Q1291.89 1574.19 1289.32 1571.67 Q1286.74 1569.12 1286.74 1562.44 L1286.74 1543.09 L1282.44 1543.09 L1282.44 1538.54 L1286.74 1538.54 L1286.74 1528.42 L1292.63 1528.42 Z\" fill=\"#000000\" fill-rule=\"evenodd\" fill-opacity=\"1\" /><path clip-path=\"url(#clip260)\" d=\"M1312.39 1538.54 L1318.25 1538.54 L1318.25 1574.19 L1312.39 1574.19 L1312.39 1538.54 M1312.39 1524.66 L1318.25 1524.66 L1318.25 1532.08 L1312.39 1532.08 L1312.39 1524.66 Z\" fill=\"#000000\" fill-rule=\"evenodd\" fill-opacity=\"1\" /><path clip-path=\"url(#clip260)\" d=\"M1344.32 1542.64 Q1339.61 1542.64 1336.87 1546.34 Q1334.13 1550 1334.13 1556.39 Q1334.13 1562.79 1336.84 1566.48 Q1339.57 1570.14 1344.32 1570.14 Q1348.99 1570.14 1351.73 1566.45 Q1354.47 1562.76 1354.47 1556.39 Q1354.47 1550.06 1351.73 1546.37 Q1348.99 1542.64 1344.32 1542.64 M1344.32 1537.68 Q1351.95 1537.68 1356.32 1542.64 Q1360.68 1547.61 1360.68 1556.39 Q1360.68 1565.15 1356.32 1570.14 Q1351.95 1575.11 1344.32 1575.11 Q1336.65 1575.11 1332.28 1570.14 Q1327.96 1565.15 1327.96 1556.39 Q1327.96 1547.61 1332.28 1542.64 Q1336.65 1537.68 1344.32 1537.68 Z\" fill=\"#000000\" fill-rule=\"evenodd\" fill-opacity=\"1\" /><path clip-path=\"url(#clip260)\" d=\"M1400.02 1552.67 L1400.02 1574.19 L1394.16 1574.19 L1394.16 1552.86 Q1394.16 1547.8 1392.19 1545.29 Q1390.21 1542.77 1386.27 1542.77 Q1381.52 1542.77 1378.79 1545.79 Q1376.05 1548.82 1376.05 1554.04 L1376.05 1574.19 L1370.16 1574.19 L1370.16 1538.54 L1376.05 1538.54 L1376.05 1544.08 Q1378.15 1540.86 1380.98 1539.27 Q1383.85 1537.68 1387.57 1537.68 Q1393.71 1537.68 1396.86 1541.5 Q1400.02 1545.29 1400.02 1552.67 Z\" fill=\"#000000\" fill-rule=\"evenodd\" fill-opacity=\"1\" /><path clip-path=\"url(#clip260)\" d=\"M1434.42 1539.59 L1434.42 1545.13 Q1431.94 1543.85 1429.27 1543.22 Q1426.59 1542.58 1423.73 1542.58 Q1419.37 1542.58 1417.17 1543.92 Q1415.01 1545.25 1415.01 1547.93 Q1415.01 1549.96 1416.57 1551.14 Q1418.13 1552.29 1422.84 1553.34 L1424.84 1553.78 Q1431.08 1555.12 1433.69 1557.57 Q1436.33 1559.99 1436.33 1564.35 Q1436.33 1569.32 1432.39 1572.21 Q1428.47 1575.11 1421.6 1575.11 Q1418.73 1575.11 1415.61 1574.54 Q1412.52 1573.99 1409.09 1572.88 L1409.09 1566.83 Q1412.33 1568.52 1415.48 1569.38 Q1418.64 1570.21 1421.72 1570.21 Q1425.86 1570.21 1428.09 1568.81 Q1430.32 1567.37 1430.32 1564.8 Q1430.32 1562.41 1428.69 1561.14 Q1427.1 1559.86 1421.66 1558.68 L1419.62 1558.21 Q1414.18 1557.06 1411.76 1554.71 Q1409.34 1552.32 1409.34 1548.18 Q1409.34 1543.15 1412.91 1540.42 Q1416.47 1537.68 1423.03 1537.68 Q1426.27 1537.68 1429.14 1538.16 Q1432 1538.63 1434.42 1539.59 Z\" fill=\"#000000\" fill-rule=\"evenodd\" fill-opacity=\"1\" /><polyline clip-path=\"url(#clip262)\" style=\"stroke:#000000; stroke-linecap:round; stroke-linejoin:round; stroke-width:2; stroke-opacity:0.1; fill:none\" points=\"\n",
       "  219.033,1164.38 2352.76,1164.38 \n",
       "  \"/>\n",
       "<polyline clip-path=\"url(#clip262)\" style=\"stroke:#000000; stroke-linecap:round; stroke-linejoin:round; stroke-width:2; stroke-opacity:0.1; fill:none\" points=\"\n",
       "  219.033,839.478 2352.76,839.478 \n",
       "  \"/>\n",
       "<polyline clip-path=\"url(#clip262)\" style=\"stroke:#000000; stroke-linecap:round; stroke-linejoin:round; stroke-width:2; stroke-opacity:0.1; fill:none\" points=\"\n",
       "  219.033,514.579 2352.76,514.579 \n",
       "  \"/>\n",
       "<polyline clip-path=\"url(#clip262)\" style=\"stroke:#000000; stroke-linecap:round; stroke-linejoin:round; stroke-width:2; stroke-opacity:0.1; fill:none\" points=\"\n",
       "  219.033,189.679 2352.76,189.679 \n",
       "  \"/>\n",
       "<polyline clip-path=\"url(#clip260)\" style=\"stroke:#000000; stroke-linecap:round; stroke-linejoin:round; stroke-width:4; stroke-opacity:1; fill:none\" points=\"\n",
       "  219.033,1410.9 219.033,47.2441 \n",
       "  \"/>\n",
       "<polyline clip-path=\"url(#clip260)\" style=\"stroke:#000000; stroke-linecap:round; stroke-linejoin:round; stroke-width:4; stroke-opacity:1; fill:none\" points=\"\n",
       "  219.033,1164.38 237.931,1164.38 \n",
       "  \"/>\n",
       "<polyline clip-path=\"url(#clip260)\" style=\"stroke:#000000; stroke-linecap:round; stroke-linejoin:round; stroke-width:4; stroke-opacity:1; fill:none\" points=\"\n",
       "  219.033,839.478 237.931,839.478 \n",
       "  \"/>\n",
       "<polyline clip-path=\"url(#clip260)\" style=\"stroke:#000000; stroke-linecap:round; stroke-linejoin:round; stroke-width:4; stroke-opacity:1; fill:none\" points=\"\n",
       "  219.033,514.579 237.931,514.579 \n",
       "  \"/>\n",
       "<polyline clip-path=\"url(#clip260)\" style=\"stroke:#000000; stroke-linecap:round; stroke-linejoin:round; stroke-width:4; stroke-opacity:1; fill:none\" points=\"\n",
       "  219.033,189.679 237.931,189.679 \n",
       "  \"/>\n",
       "<path clip-path=\"url(#clip260)\" d=\"M116.668 1177.72 L124.306 1177.72 L124.306 1151.36 L115.996 1153.02 L115.996 1148.76 L124.26 1147.1 L128.936 1147.1 L128.936 1177.72 L136.575 1177.72 L136.575 1181.66 L116.668 1181.66 L116.668 1177.72 Z\" fill=\"#000000\" fill-rule=\"evenodd\" fill-opacity=\"1\" /><path clip-path=\"url(#clip260)\" d=\"M146.019 1175.78 L150.903 1175.78 L150.903 1181.66 L146.019 1181.66 L146.019 1175.78 Z\" fill=\"#000000\" fill-rule=\"evenodd\" fill-opacity=\"1\" /><path clip-path=\"url(#clip260)\" d=\"M171.089 1150.18 Q167.477 1150.18 165.649 1153.74 Q163.843 1157.28 163.843 1164.41 Q163.843 1171.52 165.649 1175.08 Q167.477 1178.63 171.089 1178.63 Q174.723 1178.63 176.528 1175.08 Q178.357 1171.52 178.357 1164.41 Q178.357 1157.28 176.528 1153.74 Q174.723 1150.18 171.089 1150.18 M171.089 1146.47 Q176.899 1146.47 179.954 1151.08 Q183.033 1155.66 183.033 1164.41 Q183.033 1173.14 179.954 1177.75 Q176.899 1182.33 171.089 1182.33 Q165.278 1182.33 162.2 1177.75 Q159.144 1173.14 159.144 1164.41 Q159.144 1155.66 162.2 1151.08 Q165.278 1146.47 171.089 1146.47 Z\" fill=\"#000000\" fill-rule=\"evenodd\" fill-opacity=\"1\" /><path clip-path=\"url(#clip260)\" d=\"M117.663 852.823 L125.302 852.823 L125.302 826.457 L116.992 828.124 L116.992 823.865 L125.255 822.198 L129.931 822.198 L129.931 852.823 L137.57 852.823 L137.57 856.758 L117.663 856.758 L117.663 852.823 Z\" fill=\"#000000\" fill-rule=\"evenodd\" fill-opacity=\"1\" /><path clip-path=\"url(#clip260)\" d=\"M147.015 850.879 L151.899 850.879 L151.899 856.758 L147.015 856.758 L147.015 850.879 Z\" fill=\"#000000\" fill-rule=\"evenodd\" fill-opacity=\"1\" /><path clip-path=\"url(#clip260)\" d=\"M162.13 822.198 L180.487 822.198 L180.487 826.133 L166.413 826.133 L166.413 834.606 Q167.431 834.258 168.45 834.096 Q169.468 833.911 170.487 833.911 Q176.274 833.911 179.653 837.082 Q183.033 840.254 183.033 845.67 Q183.033 851.249 179.561 854.351 Q176.089 857.43 169.769 857.43 Q167.593 857.43 165.325 857.059 Q163.079 856.689 160.672 855.948 L160.672 851.249 Q162.755 852.383 164.977 852.939 Q167.2 853.494 169.677 853.494 Q173.681 853.494 176.019 851.388 Q178.357 849.281 178.357 845.67 Q178.357 842.059 176.019 839.953 Q173.681 837.846 169.677 837.846 Q167.802 837.846 165.927 838.263 Q164.075 838.68 162.13 839.559 L162.13 822.198 Z\" fill=\"#000000\" fill-rule=\"evenodd\" fill-opacity=\"1\" /><path clip-path=\"url(#clip260)\" d=\"M119.885 527.924 L136.204 527.924 L136.204 531.859 L114.26 531.859 L114.26 527.924 Q116.922 525.169 121.505 520.539 Q126.112 515.887 127.292 514.544 Q129.538 512.021 130.417 510.285 Q131.32 508.526 131.32 506.836 Q131.32 504.081 129.376 502.345 Q127.455 500.609 124.353 500.609 Q122.154 500.609 119.7 501.373 Q117.269 502.137 114.492 503.688 L114.492 498.965 Q117.316 497.831 119.769 497.252 Q122.223 496.674 124.26 496.674 Q129.63 496.674 132.825 499.359 Q136.019 502.044 136.019 506.535 Q136.019 508.664 135.209 510.586 Q134.422 512.484 132.316 515.076 Q131.737 515.748 128.635 518.965 Q125.533 522.16 119.885 527.924 Z\" fill=\"#000000\" fill-rule=\"evenodd\" fill-opacity=\"1\" /><path clip-path=\"url(#clip260)\" d=\"M146.019 525.979 L150.903 525.979 L150.903 531.859 L146.019 531.859 L146.019 525.979 Z\" fill=\"#000000\" fill-rule=\"evenodd\" fill-opacity=\"1\" /><path clip-path=\"url(#clip260)\" d=\"M171.089 500.377 Q167.477 500.377 165.649 503.942 Q163.843 507.484 163.843 514.613 Q163.843 521.72 165.649 525.285 Q167.477 528.826 171.089 528.826 Q174.723 528.826 176.528 525.285 Q178.357 521.72 178.357 514.613 Q178.357 507.484 176.528 503.942 Q174.723 500.377 171.089 500.377 M171.089 496.674 Q176.899 496.674 179.954 501.28 Q183.033 505.864 183.033 514.613 Q183.033 523.34 179.954 527.947 Q176.899 532.53 171.089 532.53 Q165.278 532.53 162.2 527.947 Q159.144 523.34 159.144 514.613 Q159.144 505.864 162.2 501.28 Q165.278 496.674 171.089 496.674 Z\" fill=\"#000000\" fill-rule=\"evenodd\" fill-opacity=\"1\" /><path clip-path=\"url(#clip260)\" d=\"M120.88 203.024 L137.2 203.024 L137.2 206.959 L115.256 206.959 L115.256 203.024 Q117.918 200.269 122.501 195.64 Q127.107 190.987 128.288 189.645 Q130.533 187.121 131.413 185.385 Q132.316 183.626 132.316 181.936 Q132.316 179.182 130.371 177.446 Q128.45 175.709 125.348 175.709 Q123.149 175.709 120.695 176.473 Q118.265 177.237 115.487 178.788 L115.487 174.066 Q118.311 172.932 120.765 172.353 Q123.218 171.774 125.255 171.774 Q130.626 171.774 133.82 174.459 Q137.015 177.145 137.015 181.635 Q137.015 183.765 136.204 185.686 Q135.417 187.584 133.311 190.177 Q132.732 190.848 129.63 194.066 Q126.529 197.26 120.88 203.024 Z\" fill=\"#000000\" fill-rule=\"evenodd\" fill-opacity=\"1\" /><path clip-path=\"url(#clip260)\" d=\"M147.015 201.08 L151.899 201.08 L151.899 206.959 L147.015 206.959 L147.015 201.08 Z\" fill=\"#000000\" fill-rule=\"evenodd\" fill-opacity=\"1\" /><path clip-path=\"url(#clip260)\" d=\"M162.13 172.399 L180.487 172.399 L180.487 176.334 L166.413 176.334 L166.413 184.807 Q167.431 184.459 168.45 184.297 Q169.468 184.112 170.487 184.112 Q176.274 184.112 179.653 187.283 Q183.033 190.455 183.033 195.871 Q183.033 201.45 179.561 204.552 Q176.089 207.631 169.769 207.631 Q167.593 207.631 165.325 207.26 Q163.079 206.89 160.672 206.149 L160.672 201.45 Q162.755 202.584 164.977 203.14 Q167.2 203.695 169.677 203.695 Q173.681 203.695 176.019 201.589 Q178.357 199.482 178.357 195.871 Q178.357 192.26 176.019 190.154 Q173.681 188.047 169.677 188.047 Q167.802 188.047 165.927 188.464 Q164.075 188.881 162.13 189.76 L162.13 172.399 Z\" fill=\"#000000\" fill-rule=\"evenodd\" fill-opacity=\"1\" /><path clip-path=\"url(#clip260)\" d=\"M22.818 978.129 L46.4666 986.85 L46.4666 969.376 L22.818 978.129 M16.4842 981.757 L16.4842 974.468 L64.0042 956.358 L64.0042 963.042 L51.8138 967.371 L51.8138 988.791 L64.0042 993.12 L64.0042 999.899 L16.4842 981.757 Z\" fill=\"#000000\" fill-rule=\"evenodd\" fill-opacity=\"1\" /><path clip-path=\"url(#clip260)\" d=\"M28.3562 957.695 L28.3562 951.488 L58.275 940.348 L28.3562 929.208 L28.3562 923.002 L64.0042 936.37 L64.0042 944.327 L28.3562 957.695 Z\" fill=\"#000000\" fill-rule=\"evenodd\" fill-opacity=\"1\" /><path clip-path=\"url(#clip260)\" d=\"M44.7161 884.425 L47.5806 884.425 L47.5806 911.352 Q53.6281 910.97 56.8109 907.724 Q59.9619 904.446 59.9619 898.621 Q59.9619 895.247 59.1344 892.096 Q58.3069 888.913 56.6518 885.794 L62.1899 885.794 Q63.5267 888.945 64.227 892.255 Q64.9272 895.565 64.9272 898.971 Q64.9272 907.501 59.9619 912.498 Q54.9967 917.463 46.5303 917.463 Q37.7774 917.463 32.6531 912.753 Q27.4968 908.01 27.4968 899.99 Q27.4968 892.796 32.1438 888.627 Q36.7589 884.425 44.7161 884.425 M42.9973 890.282 Q38.1912 890.346 35.3266 892.987 Q32.4621 895.597 32.4621 899.926 Q32.4621 904.828 35.2312 907.788 Q38.0002 910.716 43.0292 911.161 L42.9973 890.282 Z\" fill=\"#000000\" fill-rule=\"evenodd\" fill-opacity=\"1\" /><path clip-path=\"url(#clip260)\" d=\"M33.8307 854.157 Q33.2578 855.143 33.0032 856.321 Q32.7167 857.467 32.7167 858.867 Q32.7167 863.832 35.9632 866.506 Q39.1779 869.148 45.2253 869.148 L64.0042 869.148 L64.0042 875.036 L28.3562 875.036 L28.3562 869.148 L33.8944 869.148 Q30.6479 867.302 29.0883 864.342 Q27.4968 861.382 27.4968 857.148 Q27.4968 856.544 27.5923 855.812 Q27.656 855.08 27.8151 854.188 L33.8307 854.157 Z\" fill=\"#000000\" fill-rule=\"evenodd\" fill-opacity=\"1\" /><path clip-path=\"url(#clip260)\" d=\"M46.0847 831.813 Q46.0847 838.911 47.7079 841.648 Q49.3312 844.385 53.2461 844.385 Q56.3653 844.385 58.2114 842.348 Q60.0256 840.279 60.0256 836.746 Q60.0256 831.877 56.5881 828.948 Q53.1188 825.988 47.3897 825.988 L46.0847 825.988 L46.0847 831.813 M43.6657 820.132 L64.0042 820.132 L64.0042 825.988 L58.5933 825.988 Q61.8398 827.993 63.3994 830.985 Q64.9272 833.977 64.9272 838.306 Q64.9272 843.78 61.8716 847.027 Q58.7843 850.242 53.6281 850.242 Q47.6125 850.242 44.5569 846.231 Q41.5014 842.189 41.5014 834.2 L41.5014 825.988 L40.9285 825.988 Q36.8862 825.988 34.6901 828.662 Q32.4621 831.304 32.4621 836.11 Q32.4621 839.165 33.1941 842.062 Q33.9262 844.958 35.3903 847.632 L29.9795 847.632 Q28.7381 844.417 28.1334 841.393 Q27.4968 838.37 27.4968 835.505 Q27.4968 827.771 31.5072 823.951 Q35.5176 820.132 43.6657 820.132 Z\" fill=\"#000000\" fill-rule=\"evenodd\" fill-opacity=\"1\" /><path clip-path=\"url(#clip260)\" d=\"M45.7664 784.611 Q39.4007 784.611 35.8996 787.253 Q32.3984 789.863 32.3984 794.605 Q32.3984 799.316 35.8996 801.958 Q39.4007 804.568 45.7664 804.568 Q52.1003 804.568 55.6014 801.958 Q59.1026 799.316 59.1026 794.605 Q59.1026 789.863 55.6014 787.253 Q52.1003 784.611 45.7664 784.611 M59.58 778.755 Q68.683 778.755 73.1071 782.797 Q77.5631 786.839 77.5631 795.178 Q77.5631 798.266 77.0857 801.003 Q76.6401 803.74 75.6852 806.318 L69.9879 806.318 Q71.3884 803.74 72.0568 801.226 Q72.7252 798.711 72.7252 796.101 Q72.7252 790.34 69.7015 787.476 Q66.7096 784.611 60.6303 784.611 L57.7339 784.611 Q60.885 786.425 62.4446 789.258 Q64.0042 792.091 64.0042 796.038 Q64.0042 802.594 59.0071 806.605 Q54.01 810.615 45.7664 810.615 Q37.491 810.615 32.4939 806.605 Q27.4968 802.594 27.4968 796.038 Q27.4968 792.091 29.0564 789.258 Q30.616 786.425 33.7671 784.611 L28.3562 784.611 L28.3562 778.755 L59.58 778.755 Z\" fill=\"#000000\" fill-rule=\"evenodd\" fill-opacity=\"1\" /><path clip-path=\"url(#clip260)\" d=\"M44.7161 736.2 L47.5806 736.2 L47.5806 763.127 Q53.6281 762.745 56.8109 759.498 Q59.9619 756.22 59.9619 750.395 Q59.9619 747.022 59.1344 743.871 Q58.3069 740.688 56.6518 737.569 L62.1899 737.569 Q63.5267 740.72 64.227 744.03 Q64.9272 747.34 64.9272 750.746 Q64.9272 759.276 59.9619 764.273 Q54.9967 769.238 46.5303 769.238 Q37.7774 769.238 32.6531 764.527 Q27.4968 759.785 27.4968 751.764 Q27.4968 744.571 32.1438 740.401 Q36.7589 736.2 44.7161 736.2 M42.9973 742.056 Q38.1912 742.12 35.3266 744.762 Q32.4621 747.372 32.4621 751.7 Q32.4621 756.602 35.2312 759.562 Q38.0002 762.49 43.0292 762.936 L42.9973 742.056 Z\" fill=\"#000000\" fill-rule=\"evenodd\" fill-opacity=\"1\" /><path clip-path=\"url(#clip260)\" d=\"M64.0042 693.359 L16.4842 711.501 L16.4842 704.785 L56.4926 689.73 L16.4842 674.644 L16.4842 667.96 L64.0042 686.07 L64.0042 693.359 Z\" fill=\"#000000\" fill-rule=\"evenodd\" fill-opacity=\"1\" /><path clip-path=\"url(#clip260)\" d=\"M44.7161 635.845 L47.5806 635.845 L47.5806 662.772 Q53.6281 662.39 56.8109 659.143 Q59.9619 655.865 59.9619 650.04 Q59.9619 646.666 59.1344 643.515 Q58.3069 640.332 56.6518 637.213 L62.1899 637.213 Q63.5267 640.364 64.227 643.674 Q64.9272 646.985 64.9272 650.39 Q64.9272 658.92 59.9619 663.917 Q54.9967 668.883 46.5303 668.883 Q37.7774 668.883 32.6531 664.172 Q27.4968 659.43 27.4968 651.409 Q27.4968 644.215 32.1438 640.046 Q36.7589 635.845 44.7161 635.845 M42.9973 641.701 Q38.1912 641.765 35.3266 644.406 Q32.4621 647.016 32.4621 651.345 Q32.4621 656.247 35.2312 659.207 Q38.0002 662.135 43.0292 662.581 L42.9973 641.701 Z\" fill=\"#000000\" fill-rule=\"evenodd\" fill-opacity=\"1\" /><path clip-path=\"url(#clip260)\" d=\"M14.479 626.232 L14.479 620.376 L64.0042 620.376 L64.0042 626.232 L14.479 626.232 Z\" fill=\"#000000\" fill-rule=\"evenodd\" fill-opacity=\"1\" /><path clip-path=\"url(#clip260)\" d=\"M32.4621 594.308 Q32.4621 599.019 36.1542 601.756 Q39.8145 604.493 46.212 604.493 Q52.6095 604.493 56.3017 601.788 Q59.9619 599.051 59.9619 594.308 Q59.9619 589.63 56.2698 586.892 Q52.5777 584.155 46.212 584.155 Q39.8781 584.155 36.186 586.892 Q32.4621 589.63 32.4621 594.308 M27.4968 594.308 Q27.4968 586.67 32.4621 582.309 Q37.4273 577.948 46.212 577.948 Q54.9649 577.948 59.9619 582.309 Q64.9272 586.67 64.9272 594.308 Q64.9272 601.979 59.9619 606.34 Q54.9649 610.668 46.212 610.668 Q37.4273 610.668 32.4621 606.34 Q27.4968 601.979 27.4968 594.308 Z\" fill=\"#000000\" fill-rule=\"evenodd\" fill-opacity=\"1\" /><path clip-path=\"url(#clip260)\" d=\"M29.7248 542.587 L35.1993 542.587 Q33.8307 545.07 33.1623 547.584 Q32.4621 550.067 32.4621 552.613 Q32.4621 558.31 36.0905 561.461 Q39.6872 564.612 46.212 564.612 Q52.7369 564.612 56.3653 561.461 Q59.9619 558.31 59.9619 552.613 Q59.9619 550.067 59.2935 547.584 Q58.5933 545.07 57.2247 542.587 L62.6355 542.587 Q63.7814 545.038 64.3543 547.68 Q64.9272 550.289 64.9272 553.25 Q64.9272 561.302 59.8664 566.045 Q54.8057 570.787 46.212 570.787 Q37.491 570.787 32.4939 566.013 Q27.4968 561.207 27.4968 552.868 Q27.4968 550.162 28.0697 547.584 Q28.6108 545.006 29.7248 542.587 Z\" fill=\"#000000\" fill-rule=\"evenodd\" fill-opacity=\"1\" /><path clip-path=\"url(#clip260)\" d=\"M28.3562 532.402 L28.3562 526.545 L64.0042 526.545 L64.0042 532.402 L28.3562 532.402 M14.479 532.402 L14.479 526.545 L21.895 526.545 L21.895 532.402 L14.479 532.402 Z\" fill=\"#000000\" fill-rule=\"evenodd\" fill-opacity=\"1\" /><path clip-path=\"url(#clip260)\" d=\"M18.2347 508.499 L28.3562 508.499 L28.3562 496.436 L32.9077 496.436 L32.9077 508.499 L52.2594 508.499 Q56.6199 508.499 57.8613 507.321 Q59.1026 506.111 59.1026 502.451 L59.1026 496.436 L64.0042 496.436 L64.0042 502.451 Q64.0042 509.231 61.4897 511.809 Q58.9434 514.387 52.2594 514.387 L32.9077 514.387 L32.9077 518.684 L28.3562 518.684 L28.3562 514.387 L18.2347 514.387 L18.2347 508.499 Z\" fill=\"#000000\" fill-rule=\"evenodd\" fill-opacity=\"1\" /><path clip-path=\"url(#clip260)\" d=\"M67.3143 473.901 Q73.68 476.384 75.6216 478.739 Q77.5631 481.094 77.5631 485.041 L77.5631 489.72 L72.6615 489.72 L72.6615 486.282 Q72.6615 483.863 71.5157 482.527 Q70.3699 481.19 66.1048 479.566 L63.4312 478.516 L28.3562 492.934 L28.3562 486.728 L56.238 475.588 L28.3562 464.448 L28.3562 458.241 L67.3143 473.901 Z\" fill=\"#000000\" fill-rule=\"evenodd\" fill-opacity=\"1\" /><polyline clip-path=\"url(#clip262)\" style=\"stroke:#009af9; stroke-linecap:round; stroke-linejoin:round; stroke-width:4; stroke-opacity:1; fill:none\" points=\"\n",
       "  1331.41,1206.23 1341.53,998.022 1351.64,894.318 1361.76,1067.61 1371.87,449.13 1381.99,1372.3 1392.11,910.535 1402.22,864.294 1412.34,668.468 1422.45,773.102 \n",
       "  1432.57,709.112 1442.68,737.967 1452.8,660.193 1462.91,743.855 1473.03,640.147 1483.14,685.242 1493.26,681.446 1503.37,635.886 1513.49,635.351 1523.6,656.988 \n",
       "  1533.72,535.868 1543.83,462.697 1553.95,536.41 1564.07,536.415 1574.18,476.951 1584.3,488.325 1594.41,453.876 1604.53,425.722 1614.64,403.021 1624.76,441.983 \n",
       "  1634.87,387.841 1644.99,331.641 1655.1,306.422 1665.22,313.584 1675.33,292.563 1685.45,271.874 1695.56,327.7 1705.68,267.251 1715.79,247.83 1725.91,216.177 \n",
       "  1736.03,266.909 1746.14,245.707 1756.26,212.559 1766.37,207.603 1776.49,207.783 1786.6,207.892 1796.72,179.125 1806.83,169.64 1816.95,200.368 1827.06,177.698 \n",
       "  1837.18,107.523 1847.29,189.183 1857.41,214.486 1867.52,254.055 1877.64,147.744 1887.76,158.665 1897.87,164.044 1907.99,223.733 1918.1,154.187 1928.22,100.093 \n",
       "  1938.33,133.79 1948.45,125.972 1958.56,175.987 1968.68,185.661 1978.79,122.472 1988.91,142.895 1999.02,183.272 2009.14,158.802 2019.25,161.062 2029.37,128.288 \n",
       "  2039.48,115.53 2049.6,163.555 2059.72,98.2965 2069.83,155.074 2079.95,142.535 2090.06,101.174 2100.18,102.736 2110.29,131.696 2120.41,85.838 2130.52,119.803 \n",
       "  2140.64,103.397 2150.75,99.7126 2160.87,105.422 2170.98,138.878 2181.1,123.891 2191.21,150.143 2201.33,138.611 2211.45,164.835 2221.56,125.556 2231.68,133.888 \n",
       "  2241.79,142.181 2251.91,128.685 2262.02,89.5966 2272.14,111.602 2282.25,89.5356 2292.37,89.4912 \n",
       "  \"/>\n",
       "</svg>\n"
      ]
     },
     "execution_count": 46,
     "metadata": {},
     "output_type": "execute_result"
    }
   ],
   "source": [
    "plot(iterations, avg_velocity, xlabel=\"Iterations\", ylabel=\"Average Velocity\", legend = false, xformatter = :scientific)"
   ]
  },
  {
   "cell_type": "code",
   "execution_count": 47,
   "id": "c3113dc1",
   "metadata": {},
   "outputs": [
    {
     "data": {
      "text/plain": [
       "\"/home/larissa/Documents/Projects/ADLR/ADLR_project/src/RL_PPO_quadcopter_3D/plots/slow/avg_velocity.svg\""
      ]
     },
     "execution_count": 47,
     "metadata": {},
     "output_type": "execute_result"
    }
   ],
   "source": [
    "savefig(fig_path * \"avg_velocity.svg\")"
   ]
  },
  {
   "cell_type": "code",
   "execution_count": 48,
   "id": "1b4de56f",
   "metadata": {},
   "outputs": [
    {
     "data": {
      "image/svg+xml": [
       "<?xml version=\"1.0\" encoding=\"utf-8\"?>\n",
       "<svg xmlns=\"http://www.w3.org/2000/svg\" xmlns:xlink=\"http://www.w3.org/1999/xlink\" width=\"600\" height=\"400\" viewBox=\"0 0 2400 1600\">\n",
       "<defs>\n",
       "  <clipPath id=\"clip340\">\n",
       "    <rect x=\"0\" y=\"0\" width=\"2400\" height=\"1600\"/>\n",
       "  </clipPath>\n",
       "</defs>\n",
       "<path clip-path=\"url(#clip340)\" d=\"\n",
       "M0 1600 L2400 1600 L2400 0 L0 0  Z\n",
       "  \" fill=\"#ffffff\" fill-rule=\"evenodd\" fill-opacity=\"1\"/>\n",
       "<defs>\n",
       "  <clipPath id=\"clip341\">\n",
       "    <rect x=\"480\" y=\"0\" width=\"1681\" height=\"1600\"/>\n",
       "  </clipPath>\n",
       "</defs>\n",
       "<path clip-path=\"url(#clip340)\" d=\"\n",
       "M202.227 1410.9 L2352.76 1410.9 L2352.76 47.2441 L202.227 47.2441  Z\n",
       "  \" fill=\"#ffffff\" fill-rule=\"evenodd\" fill-opacity=\"1\"/>\n",
       "<defs>\n",
       "  <clipPath id=\"clip342\">\n",
       "    <rect x=\"202\" y=\"47\" width=\"2152\" height=\"1365\"/>\n",
       "  </clipPath>\n",
       "</defs>\n",
       "<polyline clip-path=\"url(#clip342)\" style=\"stroke:#000000; stroke-linecap:round; stroke-linejoin:round; stroke-width:2; stroke-opacity:0.1; fill:none\" points=\"\n",
       "  252.897,1410.9 252.897,47.2441 \n",
       "  \"/>\n",
       "<polyline clip-path=\"url(#clip342)\" style=\"stroke:#000000; stroke-linecap:round; stroke-linejoin:round; stroke-width:2; stroke-opacity:0.1; fill:none\" points=\"\n",
       "  762.645,1410.9 762.645,47.2441 \n",
       "  \"/>\n",
       "<polyline clip-path=\"url(#clip342)\" style=\"stroke:#000000; stroke-linecap:round; stroke-linejoin:round; stroke-width:2; stroke-opacity:0.1; fill:none\" points=\"\n",
       "  1272.39,1410.9 1272.39,47.2441 \n",
       "  \"/>\n",
       "<polyline clip-path=\"url(#clip342)\" style=\"stroke:#000000; stroke-linecap:round; stroke-linejoin:round; stroke-width:2; stroke-opacity:0.1; fill:none\" points=\"\n",
       "  1782.14,1410.9 1782.14,47.2441 \n",
       "  \"/>\n",
       "<polyline clip-path=\"url(#clip342)\" style=\"stroke:#000000; stroke-linecap:round; stroke-linejoin:round; stroke-width:2; stroke-opacity:0.1; fill:none\" points=\"\n",
       "  2291.89,1410.9 2291.89,47.2441 \n",
       "  \"/>\n",
       "<polyline clip-path=\"url(#clip340)\" style=\"stroke:#000000; stroke-linecap:round; stroke-linejoin:round; stroke-width:4; stroke-opacity:1; fill:none\" points=\"\n",
       "  202.227,1410.9 2352.76,1410.9 \n",
       "  \"/>\n",
       "<polyline clip-path=\"url(#clip340)\" style=\"stroke:#000000; stroke-linecap:round; stroke-linejoin:round; stroke-width:4; stroke-opacity:1; fill:none\" points=\"\n",
       "  252.897,1410.9 252.897,1392 \n",
       "  \"/>\n",
       "<polyline clip-path=\"url(#clip340)\" style=\"stroke:#000000; stroke-linecap:round; stroke-linejoin:round; stroke-width:4; stroke-opacity:1; fill:none\" points=\"\n",
       "  762.645,1410.9 762.645,1392 \n",
       "  \"/>\n",
       "<polyline clip-path=\"url(#clip340)\" style=\"stroke:#000000; stroke-linecap:round; stroke-linejoin:round; stroke-width:4; stroke-opacity:1; fill:none\" points=\"\n",
       "  1272.39,1410.9 1272.39,1392 \n",
       "  \"/>\n",
       "<polyline clip-path=\"url(#clip340)\" style=\"stroke:#000000; stroke-linecap:round; stroke-linejoin:round; stroke-width:4; stroke-opacity:1; fill:none\" points=\"\n",
       "  1782.14,1410.9 1782.14,1392 \n",
       "  \"/>\n",
       "<polyline clip-path=\"url(#clip340)\" style=\"stroke:#000000; stroke-linecap:round; stroke-linejoin:round; stroke-width:4; stroke-opacity:1; fill:none\" points=\"\n",
       "  2291.89,1410.9 2291.89,1392 \n",
       "  \"/>\n",
       "<path clip-path=\"url(#clip340)\" d=\"M252.897 1441.82 Q249.285 1441.82 247.457 1445.38 Q245.651 1448.92 245.651 1456.05 Q245.651 1463.16 247.457 1466.72 Q249.285 1470.26 252.897 1470.26 Q256.531 1470.26 258.336 1466.72 Q260.165 1463.16 260.165 1456.05 Q260.165 1448.92 258.336 1445.38 Q256.531 1441.82 252.897 1441.82 M252.897 1438.11 Q258.707 1438.11 261.762 1442.72 Q264.841 1447.3 264.841 1456.05 Q264.841 1464.78 261.762 1469.38 Q258.707 1473.97 252.897 1473.97 Q247.086 1473.97 244.008 1469.38 Q240.952 1464.78 240.952 1456.05 Q240.952 1447.3 244.008 1442.72 Q247.086 1438.11 252.897 1438.11 Z\" fill=\"#000000\" fill-rule=\"evenodd\" fill-opacity=\"1\" /><path clip-path=\"url(#clip340)\" d=\"M655.011 1454.4 L673.367 1454.4 L673.367 1458.33 L659.293 1458.33 L659.293 1466.8 Q660.312 1466.46 661.33 1466.29 Q662.349 1466.11 663.367 1466.11 Q669.154 1466.11 672.534 1469.28 Q675.913 1472.45 675.913 1477.87 Q675.913 1483.45 672.441 1486.55 Q668.969 1489.63 662.65 1489.63 Q660.474 1489.63 658.205 1489.26 Q655.96 1488.89 653.552 1488.15 L653.552 1483.45 Q655.636 1484.58 657.858 1485.14 Q660.08 1485.69 662.557 1485.69 Q666.562 1485.69 668.899 1483.59 Q671.237 1481.48 671.237 1477.87 Q671.237 1474.26 668.899 1472.15 Q666.562 1470.04 662.557 1470.04 Q660.682 1470.04 658.807 1470.46 Q656.955 1470.88 655.011 1471.76 L655.011 1454.4 Z\" fill=\"#000000\" fill-rule=\"evenodd\" fill-opacity=\"1\" /><path clip-path=\"url(#clip340)\" d=\"M685.126 1483.08 L690.01 1483.08 L690.01 1488.96 L685.126 1488.96 L685.126 1483.08 Z\" fill=\"#000000\" fill-rule=\"evenodd\" fill-opacity=\"1\" /><path clip-path=\"url(#clip340)\" d=\"M710.196 1457.48 Q706.584 1457.48 704.756 1461.04 Q702.95 1464.58 702.95 1471.71 Q702.95 1478.82 704.756 1482.38 Q706.584 1485.92 710.196 1485.92 Q713.83 1485.92 715.635 1482.38 Q717.464 1478.82 717.464 1471.71 Q717.464 1464.58 715.635 1461.04 Q713.83 1457.48 710.196 1457.48 M710.196 1453.77 Q716.006 1453.77 719.061 1458.38 Q722.14 1462.96 722.14 1471.71 Q722.14 1480.44 719.061 1485.04 Q716.006 1489.63 710.196 1489.63 Q704.385 1489.63 701.307 1485.04 Q698.251 1480.44 698.251 1471.71 Q698.251 1462.96 701.307 1458.38 Q704.385 1453.77 710.196 1453.77 Z\" fill=\"#000000\" fill-rule=\"evenodd\" fill-opacity=\"1\" /><path clip-path=\"url(#clip340)\" d=\"M740.357 1457.48 Q736.746 1457.48 734.918 1461.04 Q733.112 1464.58 733.112 1471.71 Q733.112 1478.82 734.918 1482.38 Q736.746 1485.92 740.357 1485.92 Q743.992 1485.92 745.797 1482.38 Q747.626 1478.82 747.626 1471.71 Q747.626 1464.58 745.797 1461.04 Q743.992 1457.48 740.357 1457.48 M740.357 1453.77 Q746.168 1453.77 749.223 1458.38 Q752.302 1462.96 752.302 1471.71 Q752.302 1480.44 749.223 1485.04 Q746.168 1489.63 740.357 1489.63 Q734.547 1489.63 731.469 1485.04 Q728.413 1480.44 728.413 1471.71 Q728.413 1462.96 731.469 1458.38 Q734.547 1453.77 740.357 1453.77 Z\" fill=\"#000000\" fill-rule=\"evenodd\" fill-opacity=\"1\" /><path clip-path=\"url(#clip340)\" d=\"M788.69 1463.49 L778.112 1474.12 L788.69 1484.7 L785.936 1487.5 L775.311 1476.87 L764.686 1487.5 L761.955 1484.7 L772.51 1474.12 L761.955 1463.49 L764.686 1460.69 L775.311 1471.32 L785.936 1460.69 L788.69 1463.49 Z\" fill=\"#000000\" fill-rule=\"evenodd\" fill-opacity=\"1\" /><path clip-path=\"url(#clip340)\" d=\"M801.052 1485.02 L808.69 1485.02 L808.69 1458.66 L800.38 1460.32 L800.38 1456.06 L808.644 1454.4 L813.32 1454.4 L813.32 1485.02 L820.959 1485.02 L820.959 1488.96 L801.052 1488.96 L801.052 1485.02 Z\" fill=\"#000000\" fill-rule=\"evenodd\" fill-opacity=\"1\" /><path clip-path=\"url(#clip340)\" d=\"M840.403 1457.48 Q836.792 1457.48 834.963 1461.04 Q833.158 1464.58 833.158 1471.71 Q833.158 1478.82 834.963 1482.38 Q836.792 1485.92 840.403 1485.92 Q844.037 1485.92 845.843 1482.38 Q847.672 1478.82 847.672 1471.71 Q847.672 1464.58 845.843 1461.04 Q844.037 1457.48 840.403 1457.48 M840.403 1453.77 Q846.213 1453.77 849.269 1458.38 Q852.348 1462.96 852.348 1471.71 Q852.348 1480.44 849.269 1485.04 Q846.213 1489.63 840.403 1489.63 Q834.593 1489.63 831.514 1485.04 Q828.459 1480.44 828.459 1471.71 Q828.459 1462.96 831.514 1458.38 Q834.593 1453.77 840.403 1453.77 Z\" fill=\"#000000\" fill-rule=\"evenodd\" fill-opacity=\"1\" /><path clip-path=\"url(#clip340)\" d=\"M862.372 1445.99 Q859.814 1445.99 858.31 1447.74 Q856.824 1449.49 856.824 1452.54 Q856.824 1455.57 858.31 1457.33 Q859.814 1459.08 862.372 1459.08 Q864.93 1459.08 866.416 1457.33 Q867.92 1455.57 867.92 1452.54 Q867.92 1449.49 866.416 1447.74 Q864.93 1445.99 862.372 1445.99 M869.914 1434.09 L869.914 1437.55 Q868.485 1436.87 867.018 1436.51 Q865.569 1436.16 864.14 1436.16 Q860.378 1436.16 858.385 1438.69 Q856.41 1441.23 856.128 1446.37 Q857.238 1444.73 858.911 1443.87 Q860.585 1442.98 862.598 1442.98 Q866.83 1442.98 869.275 1445.56 Q871.738 1448.12 871.738 1452.54 Q871.738 1456.86 869.181 1459.48 Q866.623 1462.09 862.372 1462.09 Q857.501 1462.09 854.924 1458.37 Q852.348 1454.62 852.348 1447.53 Q852.348 1440.88 855.507 1436.93 Q858.667 1432.96 863.99 1432.96 Q865.419 1432.96 866.867 1433.24 Q868.334 1433.52 869.914 1434.09 Z\" fill=\"#000000\" fill-rule=\"evenodd\" fill-opacity=\"1\" /><path clip-path=\"url(#clip340)\" d=\"M1165.42 1485.02 L1173.05 1485.02 L1173.05 1458.66 L1164.74 1460.32 L1164.74 1456.06 L1173.01 1454.4 L1177.68 1454.4 L1177.68 1485.02 L1185.32 1485.02 L1185.32 1488.96 L1165.42 1488.96 L1165.42 1485.02 Z\" fill=\"#000000\" fill-rule=\"evenodd\" fill-opacity=\"1\" /><path clip-path=\"url(#clip340)\" d=\"M1194.77 1483.08 L1199.65 1483.08 L1199.65 1488.96 L1194.77 1488.96 L1194.77 1483.08 Z\" fill=\"#000000\" fill-rule=\"evenodd\" fill-opacity=\"1\" /><path clip-path=\"url(#clip340)\" d=\"M1219.84 1457.48 Q1216.23 1457.48 1214.4 1461.04 Q1212.59 1464.58 1212.59 1471.71 Q1212.59 1478.82 1214.4 1482.38 Q1216.23 1485.92 1219.84 1485.92 Q1223.47 1485.92 1225.28 1482.38 Q1227.11 1478.82 1227.11 1471.71 Q1227.11 1464.58 1225.28 1461.04 Q1223.47 1457.48 1219.84 1457.48 M1219.84 1453.77 Q1225.65 1453.77 1228.7 1458.38 Q1231.78 1462.96 1231.78 1471.71 Q1231.78 1480.44 1228.7 1485.04 Q1225.65 1489.63 1219.84 1489.63 Q1214.03 1489.63 1210.95 1485.04 Q1207.89 1480.44 1207.89 1471.71 Q1207.89 1462.96 1210.95 1458.38 Q1214.03 1453.77 1219.84 1453.77 Z\" fill=\"#000000\" fill-rule=\"evenodd\" fill-opacity=\"1\" /><path clip-path=\"url(#clip340)\" d=\"M1250 1457.48 Q1246.39 1457.48 1244.56 1461.04 Q1242.75 1464.58 1242.75 1471.71 Q1242.75 1478.82 1244.56 1482.38 Q1246.39 1485.92 1250 1485.92 Q1253.63 1485.92 1255.44 1482.38 Q1257.27 1478.82 1257.27 1471.71 Q1257.27 1464.58 1255.44 1461.04 Q1253.63 1457.48 1250 1457.48 M1250 1453.77 Q1255.81 1453.77 1258.86 1458.38 Q1261.94 1462.96 1261.94 1471.71 Q1261.94 1480.44 1258.86 1485.04 Q1255.81 1489.63 1250 1489.63 Q1244.19 1489.63 1241.11 1485.04 Q1238.05 1480.44 1238.05 1471.71 Q1238.05 1462.96 1241.11 1458.38 Q1244.19 1453.77 1250 1453.77 Z\" fill=\"#000000\" fill-rule=\"evenodd\" fill-opacity=\"1\" /><path clip-path=\"url(#clip340)\" d=\"M1298.33 1463.49 L1287.75 1474.12 L1298.33 1484.7 L1295.58 1487.5 L1284.95 1476.87 L1274.33 1487.5 L1271.6 1484.7 L1282.15 1474.12 L1271.6 1463.49 L1274.33 1460.69 L1284.95 1471.32 L1295.58 1460.69 L1298.33 1463.49 Z\" fill=\"#000000\" fill-rule=\"evenodd\" fill-opacity=\"1\" /><path clip-path=\"url(#clip340)\" d=\"M1310.69 1485.02 L1318.33 1485.02 L1318.33 1458.66 L1310.02 1460.32 L1310.02 1456.06 L1318.29 1454.4 L1322.96 1454.4 L1322.96 1485.02 L1330.6 1485.02 L1330.6 1488.96 L1310.69 1488.96 L1310.69 1485.02 Z\" fill=\"#000000\" fill-rule=\"evenodd\" fill-opacity=\"1\" /><path clip-path=\"url(#clip340)\" d=\"M1350.04 1457.48 Q1346.43 1457.48 1344.6 1461.04 Q1342.8 1464.58 1342.8 1471.71 Q1342.8 1478.82 1344.6 1482.38 Q1346.43 1485.92 1350.04 1485.92 Q1353.68 1485.92 1355.48 1482.38 Q1357.31 1478.82 1357.31 1471.71 Q1357.31 1464.58 1355.48 1461.04 Q1353.68 1457.48 1350.04 1457.48 M1350.04 1453.77 Q1355.85 1453.77 1358.91 1458.38 Q1361.99 1462.96 1361.99 1471.71 Q1361.99 1480.44 1358.91 1485.04 Q1355.85 1489.63 1350.04 1489.63 Q1344.23 1489.63 1341.16 1485.04 Q1338.1 1480.44 1338.1 1471.71 Q1338.1 1462.96 1341.16 1458.38 Q1344.23 1453.77 1350.04 1453.77 Z\" fill=\"#000000\" fill-rule=\"evenodd\" fill-opacity=\"1\" /><path clip-path=\"url(#clip340)\" d=\"M1361.99 1433.47 L1380.04 1433.47 L1380.04 1435.08 L1369.85 1461.55 L1365.88 1461.55 L1375.47 1436.66 L1361.99 1436.66 L1361.99 1433.47 Z\" fill=\"#000000\" fill-rule=\"evenodd\" fill-opacity=\"1\" /><path clip-path=\"url(#clip340)\" d=\"M1675.16 1485.02 L1682.8 1485.02 L1682.8 1458.66 L1674.49 1460.32 L1674.49 1456.06 L1682.76 1454.4 L1687.43 1454.4 L1687.43 1485.02 L1695.07 1485.02 L1695.07 1488.96 L1675.16 1488.96 L1675.16 1485.02 Z\" fill=\"#000000\" fill-rule=\"evenodd\" fill-opacity=\"1\" /><path clip-path=\"url(#clip340)\" d=\"M1704.52 1483.08 L1709.4 1483.08 L1709.4 1488.96 L1704.52 1488.96 L1704.52 1483.08 Z\" fill=\"#000000\" fill-rule=\"evenodd\" fill-opacity=\"1\" /><path clip-path=\"url(#clip340)\" d=\"M1719.63 1454.4 L1737.99 1454.4 L1737.99 1458.33 L1723.91 1458.33 L1723.91 1466.8 Q1724.93 1466.46 1725.95 1466.29 Q1726.97 1466.11 1727.99 1466.11 Q1733.78 1466.11 1737.15 1469.28 Q1740.53 1472.45 1740.53 1477.87 Q1740.53 1483.45 1737.06 1486.55 Q1733.59 1489.63 1727.27 1489.63 Q1725.09 1489.63 1722.83 1489.26 Q1720.58 1488.89 1718.17 1488.15 L1718.17 1483.45 Q1720.26 1484.58 1722.48 1485.14 Q1724.7 1485.69 1727.18 1485.69 Q1731.18 1485.69 1733.52 1483.59 Q1735.86 1481.48 1735.86 1477.87 Q1735.86 1474.26 1733.52 1472.15 Q1731.18 1470.04 1727.18 1470.04 Q1725.3 1470.04 1723.43 1470.46 Q1721.58 1470.88 1719.63 1471.76 L1719.63 1454.4 Z\" fill=\"#000000\" fill-rule=\"evenodd\" fill-opacity=\"1\" /><path clip-path=\"url(#clip340)\" d=\"M1759.75 1457.48 Q1756.14 1457.48 1754.31 1461.04 Q1752.5 1464.58 1752.5 1471.71 Q1752.5 1478.82 1754.31 1482.38 Q1756.14 1485.92 1759.75 1485.92 Q1763.38 1485.92 1765.19 1482.38 Q1767.02 1478.82 1767.02 1471.71 Q1767.02 1464.58 1765.19 1461.04 Q1763.38 1457.48 1759.75 1457.48 M1759.75 1453.77 Q1765.56 1453.77 1768.61 1458.38 Q1771.69 1462.96 1771.69 1471.71 Q1771.69 1480.44 1768.61 1485.04 Q1765.56 1489.63 1759.75 1489.63 Q1753.94 1489.63 1750.86 1485.04 Q1747.8 1480.44 1747.8 1471.71 Q1747.8 1462.96 1750.86 1458.38 Q1753.94 1453.77 1759.75 1453.77 Z\" fill=\"#000000\" fill-rule=\"evenodd\" fill-opacity=\"1\" /><path clip-path=\"url(#clip340)\" d=\"M1808.08 1463.49 L1797.5 1474.12 L1808.08 1484.7 L1805.33 1487.5 L1794.7 1476.87 L1784.08 1487.5 L1781.34 1484.7 L1791.9 1474.12 L1781.34 1463.49 L1784.08 1460.69 L1794.7 1471.32 L1805.33 1460.69 L1808.08 1463.49 Z\" fill=\"#000000\" fill-rule=\"evenodd\" fill-opacity=\"1\" /><path clip-path=\"url(#clip340)\" d=\"M1820.44 1485.02 L1828.08 1485.02 L1828.08 1458.66 L1819.77 1460.32 L1819.77 1456.06 L1828.03 1454.4 L1832.71 1454.4 L1832.71 1485.02 L1840.35 1485.02 L1840.35 1488.96 L1820.44 1488.96 L1820.44 1485.02 Z\" fill=\"#000000\" fill-rule=\"evenodd\" fill-opacity=\"1\" /><path clip-path=\"url(#clip340)\" d=\"M1859.79 1457.48 Q1856.18 1457.48 1854.35 1461.04 Q1852.55 1464.58 1852.55 1471.71 Q1852.55 1478.82 1854.35 1482.38 Q1856.18 1485.92 1859.79 1485.92 Q1863.43 1485.92 1865.23 1482.38 Q1867.06 1478.82 1867.06 1471.71 Q1867.06 1464.58 1865.23 1461.04 Q1863.43 1457.48 1859.79 1457.48 M1859.79 1453.77 Q1865.6 1453.77 1868.66 1458.38 Q1871.74 1462.96 1871.74 1471.71 Q1871.74 1480.44 1868.66 1485.04 Q1865.6 1489.63 1859.79 1489.63 Q1853.98 1489.63 1850.9 1485.04 Q1847.85 1480.44 1847.85 1471.71 Q1847.85 1462.96 1850.9 1458.38 Q1853.98 1453.77 1859.79 1453.77 Z\" fill=\"#000000\" fill-rule=\"evenodd\" fill-opacity=\"1\" /><path clip-path=\"url(#clip340)\" d=\"M1871.74 1433.47 L1889.79 1433.47 L1889.79 1435.08 L1879.6 1461.55 L1875.63 1461.55 L1885.22 1436.66 L1871.74 1436.66 L1871.74 1433.47 Z\" fill=\"#000000\" fill-rule=\"evenodd\" fill-opacity=\"1\" /><path clip-path=\"url(#clip340)\" d=\"M2189 1485.02 L2205.32 1485.02 L2205.32 1488.96 L2183.37 1488.96 L2183.37 1485.02 Q2186.04 1482.27 2190.62 1477.64 Q2195.23 1472.98 2196.41 1471.64 Q2198.65 1469.12 2199.53 1467.38 Q2200.43 1465.62 2200.43 1463.93 Q2200.43 1461.18 2198.49 1459.44 Q2196.57 1457.71 2193.47 1457.71 Q2191.27 1457.71 2188.81 1458.47 Q2186.38 1459.23 2183.61 1460.79 L2183.61 1456.06 Q2186.43 1454.93 2188.88 1454.35 Q2191.34 1453.77 2193.37 1453.77 Q2198.74 1453.77 2201.94 1456.46 Q2205.13 1459.14 2205.13 1463.63 Q2205.13 1465.76 2204.32 1467.68 Q2203.54 1469.58 2201.43 1472.17 Q2200.85 1472.85 2197.75 1476.06 Q2194.65 1479.26 2189 1485.02 Z\" fill=\"#000000\" fill-rule=\"evenodd\" fill-opacity=\"1\" /><path clip-path=\"url(#clip340)\" d=\"M2215.13 1483.08 L2220.02 1483.08 L2220.02 1488.96 L2215.13 1488.96 L2215.13 1483.08 Z\" fill=\"#000000\" fill-rule=\"evenodd\" fill-opacity=\"1\" /><path clip-path=\"url(#clip340)\" d=\"M2240.2 1457.48 Q2236.59 1457.48 2234.76 1461.04 Q2232.96 1464.58 2232.96 1471.71 Q2232.96 1478.82 2234.76 1482.38 Q2236.59 1485.92 2240.2 1485.92 Q2243.84 1485.92 2245.64 1482.38 Q2247.47 1478.82 2247.47 1471.71 Q2247.47 1464.58 2245.64 1461.04 Q2243.84 1457.48 2240.2 1457.48 M2240.2 1453.77 Q2246.01 1453.77 2249.07 1458.38 Q2252.15 1462.96 2252.15 1471.71 Q2252.15 1480.44 2249.07 1485.04 Q2246.01 1489.63 2240.2 1489.63 Q2234.39 1489.63 2231.31 1485.04 Q2228.26 1480.44 2228.26 1471.71 Q2228.26 1462.96 2231.31 1458.38 Q2234.39 1453.77 2240.2 1453.77 Z\" fill=\"#000000\" fill-rule=\"evenodd\" fill-opacity=\"1\" /><path clip-path=\"url(#clip340)\" d=\"M2270.36 1457.48 Q2266.75 1457.48 2264.92 1461.04 Q2263.12 1464.58 2263.12 1471.71 Q2263.12 1478.82 2264.92 1482.38 Q2266.75 1485.92 2270.36 1485.92 Q2274 1485.92 2275.8 1482.38 Q2277.63 1478.82 2277.63 1471.71 Q2277.63 1464.58 2275.8 1461.04 Q2274 1457.48 2270.36 1457.48 M2270.36 1453.77 Q2276.17 1453.77 2279.23 1458.38 Q2282.31 1462.96 2282.31 1471.71 Q2282.31 1480.44 2279.23 1485.04 Q2276.17 1489.63 2270.36 1489.63 Q2264.55 1489.63 2261.48 1485.04 Q2258.42 1480.44 2258.42 1471.71 Q2258.42 1462.96 2261.48 1458.38 Q2264.55 1453.77 2270.36 1453.77 Z\" fill=\"#000000\" fill-rule=\"evenodd\" fill-opacity=\"1\" /><path clip-path=\"url(#clip340)\" d=\"M2318.7 1463.49 L2308.12 1474.12 L2318.7 1484.7 L2315.94 1487.5 L2305.32 1476.87 L2294.69 1487.5 L2291.96 1484.7 L2302.52 1474.12 L2291.96 1463.49 L2294.69 1460.69 L2305.32 1471.32 L2315.94 1460.69 L2318.7 1463.49 Z\" fill=\"#000000\" fill-rule=\"evenodd\" fill-opacity=\"1\" /><path clip-path=\"url(#clip340)\" d=\"M2331.06 1485.02 L2338.7 1485.02 L2338.7 1458.66 L2330.39 1460.32 L2330.39 1456.06 L2338.65 1454.4 L2343.33 1454.4 L2343.33 1485.02 L2350.97 1485.02 L2350.97 1488.96 L2331.06 1488.96 L2331.06 1485.02 Z\" fill=\"#000000\" fill-rule=\"evenodd\" fill-opacity=\"1\" /><path clip-path=\"url(#clip340)\" d=\"M2370.41 1457.48 Q2366.8 1457.48 2364.97 1461.04 Q2363.16 1464.58 2363.16 1471.71 Q2363.16 1478.82 2364.97 1482.38 Q2366.8 1485.92 2370.41 1485.92 Q2374.04 1485.92 2375.85 1482.38 Q2377.68 1478.82 2377.68 1471.71 Q2377.68 1464.58 2375.85 1461.04 Q2374.04 1457.48 2370.41 1457.48 M2370.41 1453.77 Q2376.22 1453.77 2379.28 1458.38 Q2382.35 1462.96 2382.35 1471.71 Q2382.35 1480.44 2379.28 1485.04 Q2376.22 1489.63 2370.41 1489.63 Q2364.6 1489.63 2361.52 1485.04 Q2358.47 1480.44 2358.47 1471.71 Q2358.47 1462.96 2361.52 1458.38 Q2364.6 1453.77 2370.41 1453.77 Z\" fill=\"#000000\" fill-rule=\"evenodd\" fill-opacity=\"1\" /><path clip-path=\"url(#clip340)\" d=\"M2382.35 1433.47 L2400.41 1433.47 L2400.41 1435.08 L2390.22 1461.55 L2386.25 1461.55 L2395.84 1436.66 L2382.35 1436.66 L2382.35 1433.47 Z\" fill=\"#000000\" fill-rule=\"evenodd\" fill-opacity=\"1\" /><path clip-path=\"url(#clip340)\" d=\"M1127.05 1526.67 L1133.48 1526.67 L1133.48 1574.19 L1127.05 1574.19 L1127.05 1526.67 Z\" fill=\"#000000\" fill-rule=\"evenodd\" fill-opacity=\"1\" /><path clip-path=\"url(#clip340)\" d=\"M1151.82 1528.42 L1151.82 1538.54 L1163.88 1538.54 L1163.88 1543.09 L1151.82 1543.09 L1151.82 1562.44 Q1151.82 1566.8 1152.99 1568.04 Q1154.2 1569.28 1157.86 1569.28 L1163.88 1569.28 L1163.88 1574.19 L1157.86 1574.19 Q1151.08 1574.19 1148.51 1571.67 Q1145.93 1569.12 1145.93 1562.44 L1145.93 1543.09 L1141.63 1543.09 L1141.63 1538.54 L1145.93 1538.54 L1145.93 1528.42 L1151.82 1528.42 Z\" fill=\"#000000\" fill-rule=\"evenodd\" fill-opacity=\"1\" /><path clip-path=\"url(#clip340)\" d=\"M1202.07 1554.9 L1202.07 1557.76 L1175.15 1557.76 Q1175.53 1563.81 1178.78 1566.99 Q1182.05 1570.14 1187.88 1570.14 Q1191.25 1570.14 1194.4 1569.32 Q1197.59 1568.49 1200.71 1566.83 L1200.71 1572.37 Q1197.55 1573.71 1194.24 1574.41 Q1190.93 1575.11 1187.53 1575.11 Q1179 1575.11 1174 1570.14 Q1169.04 1565.18 1169.04 1556.71 Q1169.04 1547.96 1173.75 1542.83 Q1178.49 1537.68 1186.51 1537.68 Q1193.7 1537.68 1197.87 1542.33 Q1202.07 1546.94 1202.07 1554.9 M1196.22 1553.18 Q1196.15 1548.37 1193.51 1545.51 Q1190.9 1542.64 1186.57 1542.64 Q1181.67 1542.64 1178.71 1545.41 Q1175.78 1548.18 1175.34 1553.21 L1196.22 1553.18 Z\" fill=\"#000000\" fill-rule=\"evenodd\" fill-opacity=\"1\" /><path clip-path=\"url(#clip340)\" d=\"M1232.34 1544.01 Q1231.36 1543.44 1230.18 1543.18 Q1229.03 1542.9 1227.63 1542.9 Q1222.67 1542.9 1219.99 1546.14 Q1217.35 1549.36 1217.35 1555.41 L1217.35 1574.19 L1211.46 1574.19 L1211.46 1538.54 L1217.35 1538.54 L1217.35 1544.08 Q1219.2 1540.83 1222.16 1539.27 Q1225.12 1537.68 1229.35 1537.68 Q1229.96 1537.68 1230.69 1537.77 Q1231.42 1537.84 1232.31 1538 L1232.34 1544.01 Z\" fill=\"#000000\" fill-rule=\"evenodd\" fill-opacity=\"1\" /><path clip-path=\"url(#clip340)\" d=\"M1254.69 1556.27 Q1247.59 1556.27 1244.85 1557.89 Q1242.11 1559.51 1242.11 1563.43 Q1242.11 1566.55 1244.15 1568.39 Q1246.22 1570.21 1249.75 1570.21 Q1254.62 1570.21 1257.55 1566.77 Q1260.51 1563.3 1260.51 1557.57 L1260.51 1556.27 L1254.69 1556.27 M1266.37 1553.85 L1266.37 1574.19 L1260.51 1574.19 L1260.51 1568.77 Q1258.51 1572.02 1255.51 1573.58 Q1252.52 1575.11 1248.19 1575.11 Q1242.72 1575.11 1239.47 1572.05 Q1236.26 1568.97 1236.26 1563.81 Q1236.26 1557.79 1240.27 1554.74 Q1244.31 1551.68 1252.3 1551.68 L1260.51 1551.68 L1260.51 1551.11 Q1260.51 1547.07 1257.84 1544.87 Q1255.2 1542.64 1250.39 1542.64 Q1247.33 1542.64 1244.44 1543.38 Q1241.54 1544.11 1238.87 1545.57 L1238.87 1540.16 Q1242.08 1538.92 1245.11 1538.31 Q1248.13 1537.68 1250.99 1537.68 Q1258.73 1537.68 1262.55 1541.69 Q1266.37 1545.7 1266.37 1553.85 Z\" fill=\"#000000\" fill-rule=\"evenodd\" fill-opacity=\"1\" /><path clip-path=\"url(#clip340)\" d=\"M1284.22 1528.42 L1284.22 1538.54 L1296.29 1538.54 L1296.29 1543.09 L1284.22 1543.09 L1284.22 1562.44 Q1284.22 1566.8 1285.4 1568.04 Q1286.61 1569.28 1290.27 1569.28 L1296.29 1569.28 L1296.29 1574.19 L1290.27 1574.19 Q1283.49 1574.19 1280.91 1571.67 Q1278.34 1569.12 1278.34 1562.44 L1278.34 1543.09 L1274.04 1543.09 L1274.04 1538.54 L1278.34 1538.54 L1278.34 1528.42 L1284.22 1528.42 Z\" fill=\"#000000\" fill-rule=\"evenodd\" fill-opacity=\"1\" /><path clip-path=\"url(#clip340)\" d=\"M1303.99 1538.54 L1309.85 1538.54 L1309.85 1574.19 L1303.99 1574.19 L1303.99 1538.54 M1303.99 1524.66 L1309.85 1524.66 L1309.85 1532.08 L1303.99 1532.08 L1303.99 1524.66 Z\" fill=\"#000000\" fill-rule=\"evenodd\" fill-opacity=\"1\" /><path clip-path=\"url(#clip340)\" d=\"M1335.91 1542.64 Q1331.2 1542.64 1328.47 1546.34 Q1325.73 1550 1325.73 1556.39 Q1325.73 1562.79 1328.43 1566.48 Q1331.17 1570.14 1335.91 1570.14 Q1340.59 1570.14 1343.33 1566.45 Q1346.07 1562.76 1346.07 1556.39 Q1346.07 1550.06 1343.33 1546.37 Q1340.59 1542.64 1335.91 1542.64 M1335.91 1537.68 Q1343.55 1537.68 1347.91 1542.64 Q1352.27 1547.61 1352.27 1556.39 Q1352.27 1565.15 1347.91 1570.14 Q1343.55 1575.11 1335.91 1575.11 Q1328.24 1575.11 1323.88 1570.14 Q1319.55 1565.15 1319.55 1556.39 Q1319.55 1547.61 1323.88 1542.64 Q1328.24 1537.68 1335.91 1537.68 Z\" fill=\"#000000\" fill-rule=\"evenodd\" fill-opacity=\"1\" /><path clip-path=\"url(#clip340)\" d=\"M1391.61 1552.67 L1391.61 1574.19 L1385.76 1574.19 L1385.76 1552.86 Q1385.76 1547.8 1383.78 1545.29 Q1381.81 1542.77 1377.86 1542.77 Q1373.12 1542.77 1370.38 1545.79 Q1367.65 1548.82 1367.65 1554.04 L1367.65 1574.19 L1361.76 1574.19 L1361.76 1538.54 L1367.65 1538.54 L1367.65 1544.08 Q1369.75 1540.86 1372.58 1539.27 Q1375.44 1537.68 1379.17 1537.68 Q1385.31 1537.68 1388.46 1541.5 Q1391.61 1545.29 1391.61 1552.67 Z\" fill=\"#000000\" fill-rule=\"evenodd\" fill-opacity=\"1\" /><path clip-path=\"url(#clip340)\" d=\"M1426.02 1539.59 L1426.02 1545.13 Q1423.54 1543.85 1420.86 1543.22 Q1418.19 1542.58 1415.33 1542.58 Q1410.96 1542.58 1408.77 1543.92 Q1406.6 1545.25 1406.6 1547.93 Q1406.6 1549.96 1408.16 1551.14 Q1409.72 1552.29 1414.43 1553.34 L1416.44 1553.78 Q1422.68 1555.12 1425.29 1557.57 Q1427.93 1559.99 1427.93 1564.35 Q1427.93 1569.32 1423.98 1572.21 Q1420.07 1575.11 1413.19 1575.11 Q1410.33 1575.11 1407.21 1574.54 Q1404.12 1573.99 1400.68 1572.88 L1400.68 1566.83 Q1403.93 1568.52 1407.08 1569.38 Q1410.23 1570.21 1413.32 1570.21 Q1417.46 1570.21 1419.69 1568.81 Q1421.91 1567.37 1421.91 1564.8 Q1421.91 1562.41 1420.29 1561.14 Q1418.7 1559.86 1413.26 1558.68 L1411.22 1558.21 Q1405.78 1557.06 1403.36 1554.71 Q1400.94 1552.32 1400.94 1548.18 Q1400.94 1543.15 1404.5 1540.42 Q1408.07 1537.68 1414.62 1537.68 Q1417.87 1537.68 1420.74 1538.16 Q1423.6 1538.63 1426.02 1539.59 Z\" fill=\"#000000\" fill-rule=\"evenodd\" fill-opacity=\"1\" /><polyline clip-path=\"url(#clip342)\" style=\"stroke:#000000; stroke-linecap:round; stroke-linejoin:round; stroke-width:2; stroke-opacity:0.1; fill:none\" points=\"\n",
       "  202.227,1261.44 2352.76,1261.44 \n",
       "  \"/>\n",
       "<polyline clip-path=\"url(#clip342)\" style=\"stroke:#000000; stroke-linecap:round; stroke-linejoin:round; stroke-width:2; stroke-opacity:0.1; fill:none\" points=\"\n",
       "  202.227,926.747 2352.76,926.747 \n",
       "  \"/>\n",
       "<polyline clip-path=\"url(#clip342)\" style=\"stroke:#000000; stroke-linecap:round; stroke-linejoin:round; stroke-width:2; stroke-opacity:0.1; fill:none\" points=\"\n",
       "  202.227,592.057 2352.76,592.057 \n",
       "  \"/>\n",
       "<polyline clip-path=\"url(#clip342)\" style=\"stroke:#000000; stroke-linecap:round; stroke-linejoin:round; stroke-width:2; stroke-opacity:0.1; fill:none\" points=\"\n",
       "  202.227,257.367 2352.76,257.367 \n",
       "  \"/>\n",
       "<polyline clip-path=\"url(#clip340)\" style=\"stroke:#000000; stroke-linecap:round; stroke-linejoin:round; stroke-width:4; stroke-opacity:1; fill:none\" points=\"\n",
       "  202.227,1410.9 202.227,47.2441 \n",
       "  \"/>\n",
       "<polyline clip-path=\"url(#clip340)\" style=\"stroke:#000000; stroke-linecap:round; stroke-linejoin:round; stroke-width:4; stroke-opacity:1; fill:none\" points=\"\n",
       "  202.227,1261.44 221.125,1261.44 \n",
       "  \"/>\n",
       "<polyline clip-path=\"url(#clip340)\" style=\"stroke:#000000; stroke-linecap:round; stroke-linejoin:round; stroke-width:4; stroke-opacity:1; fill:none\" points=\"\n",
       "  202.227,926.747 221.125,926.747 \n",
       "  \"/>\n",
       "<polyline clip-path=\"url(#clip340)\" style=\"stroke:#000000; stroke-linecap:round; stroke-linejoin:round; stroke-width:4; stroke-opacity:1; fill:none\" points=\"\n",
       "  202.227,592.057 221.125,592.057 \n",
       "  \"/>\n",
       "<polyline clip-path=\"url(#clip340)\" style=\"stroke:#000000; stroke-linecap:round; stroke-linejoin:round; stroke-width:4; stroke-opacity:1; fill:none\" points=\"\n",
       "  202.227,257.367 221.125,257.367 \n",
       "  \"/>\n",
       "<path clip-path=\"url(#clip340)\" d=\"M156.644 1248.23 L144.839 1266.68 L156.644 1266.68 L156.644 1248.23 M155.417 1244.16 L161.297 1244.16 L161.297 1266.68 L166.227 1266.68 L166.227 1270.57 L161.297 1270.57 L161.297 1278.72 L156.644 1278.72 L156.644 1270.57 L141.042 1270.57 L141.042 1266.05 L155.417 1244.16 Z\" fill=\"#000000\" fill-rule=\"evenodd\" fill-opacity=\"1\" /><path clip-path=\"url(#clip340)\" d=\"M154.7 924.883 Q151.552 924.883 149.7 927.036 Q147.871 929.189 147.871 932.939 Q147.871 936.666 149.7 938.841 Q151.552 940.994 154.7 940.994 Q157.848 940.994 159.677 938.841 Q161.528 936.666 161.528 932.939 Q161.528 929.189 159.677 927.036 Q157.848 924.883 154.7 924.883 M163.982 910.231 L163.982 914.49 Q162.223 913.656 160.417 913.217 Q158.635 912.777 156.876 912.777 Q152.246 912.777 149.792 915.902 Q147.362 919.027 147.015 925.346 Q148.38 923.332 150.441 922.268 Q152.501 921.18 154.978 921.18 Q160.186 921.18 163.195 924.351 Q166.227 927.499 166.227 932.939 Q166.227 938.263 163.079 941.48 Q159.931 944.698 154.7 944.698 Q148.704 944.698 145.533 940.115 Q142.362 935.508 142.362 926.781 Q142.362 918.587 146.251 913.726 Q150.14 908.842 156.69 908.842 Q158.45 908.842 160.232 909.189 Q162.038 909.536 163.982 910.231 Z\" fill=\"#000000\" fill-rule=\"evenodd\" fill-opacity=\"1\" /><path clip-path=\"url(#clip340)\" d=\"M154.376 592.925 Q151.042 592.925 149.121 594.707 Q147.223 596.489 147.223 599.614 Q147.223 602.739 149.121 604.522 Q151.042 606.304 154.376 606.304 Q157.709 606.304 159.63 604.522 Q161.552 602.716 161.552 599.614 Q161.552 596.489 159.63 594.707 Q157.732 592.925 154.376 592.925 M149.7 590.934 Q146.691 590.193 145.001 588.133 Q143.334 586.073 143.334 583.11 Q143.334 578.966 146.274 576.559 Q149.237 574.152 154.376 574.152 Q159.538 574.152 162.477 576.559 Q165.417 578.966 165.417 583.11 Q165.417 586.073 163.727 588.133 Q162.061 590.193 159.075 590.934 Q162.454 591.721 164.329 594.013 Q166.227 596.304 166.227 599.614 Q166.227 604.638 163.149 607.323 Q160.093 610.008 154.376 610.008 Q148.658 610.008 145.579 607.323 Q142.524 604.638 142.524 599.614 Q142.524 596.304 144.422 594.013 Q146.32 591.721 149.7 590.934 M147.987 583.55 Q147.987 586.235 149.653 587.74 Q151.343 589.244 154.376 589.244 Q157.385 589.244 159.075 587.74 Q160.788 586.235 160.788 583.55 Q160.788 580.865 159.075 579.36 Q157.385 577.855 154.376 577.855 Q151.343 577.855 149.653 579.36 Q147.987 580.865 147.987 583.55 Z\" fill=\"#000000\" fill-rule=\"evenodd\" fill-opacity=\"1\" /><path clip-path=\"url(#clip340)\" d=\"M114.931 270.711 L122.57 270.711 L122.57 244.346 L114.26 246.013 L114.26 241.753 L122.524 240.087 L127.2 240.087 L127.2 270.711 L134.839 270.711 L134.839 274.647 L114.931 274.647 L114.931 270.711 Z\" fill=\"#000000\" fill-rule=\"evenodd\" fill-opacity=\"1\" /><path clip-path=\"url(#clip340)\" d=\"M154.283 243.165 Q150.672 243.165 148.843 246.73 Q147.038 250.272 147.038 257.401 Q147.038 264.508 148.843 268.073 Q150.672 271.614 154.283 271.614 Q157.917 271.614 159.723 268.073 Q161.552 264.508 161.552 257.401 Q161.552 250.272 159.723 246.73 Q157.917 243.165 154.283 243.165 M154.283 239.462 Q160.093 239.462 163.149 244.068 Q166.227 248.651 166.227 257.401 Q166.227 266.128 163.149 270.735 Q160.093 275.318 154.283 275.318 Q148.473 275.318 145.394 270.735 Q142.339 266.128 142.339 257.401 Q142.339 248.651 145.394 244.068 Q148.473 239.462 154.283 239.462 Z\" fill=\"#000000\" fill-rule=\"evenodd\" fill-opacity=\"1\" /><path clip-path=\"url(#clip340)\" d=\"M22.818 1126.31 L46.4666 1135.03 L46.4666 1117.55 L22.818 1126.31 M16.4842 1129.93 L16.4842 1122.65 L64.0042 1104.54 L64.0042 1111.22 L51.8138 1115.55 L51.8138 1136.97 L64.0042 1141.3 L64.0042 1148.08 L16.4842 1129.93 Z\" fill=\"#000000\" fill-rule=\"evenodd\" fill-opacity=\"1\" /><path clip-path=\"url(#clip340)\" d=\"M28.3562 1105.87 L28.3562 1099.67 L58.275 1088.53 L28.3562 1077.39 L28.3562 1071.18 L64.0042 1084.55 L64.0042 1092.5 L28.3562 1105.87 Z\" fill=\"#000000\" fill-rule=\"evenodd\" fill-opacity=\"1\" /><path clip-path=\"url(#clip340)\" d=\"M44.7161 1032.6 L47.5806 1032.6 L47.5806 1059.53 Q53.6281 1059.15 56.8109 1055.9 Q59.9619 1052.62 59.9619 1046.8 Q59.9619 1043.42 59.1344 1040.27 Q58.3069 1037.09 56.6518 1033.97 L62.1899 1033.97 Q63.5267 1037.12 64.227 1040.43 Q64.9272 1043.74 64.9272 1047.15 Q64.9272 1055.68 59.9619 1060.68 Q54.9967 1065.64 46.5303 1065.64 Q37.7774 1065.64 32.6531 1060.93 Q27.4968 1056.19 27.4968 1048.17 Q27.4968 1040.97 32.1438 1036.8 Q36.7589 1032.6 44.7161 1032.6 M42.9973 1038.46 Q38.1912 1038.52 35.3266 1041.17 Q32.4621 1043.77 32.4621 1048.1 Q32.4621 1053.01 35.2312 1055.97 Q38.0002 1058.89 43.0292 1059.34 L42.9973 1038.46 Z\" fill=\"#000000\" fill-rule=\"evenodd\" fill-opacity=\"1\" /><path clip-path=\"url(#clip340)\" d=\"M33.8307 1002.33 Q33.2578 1003.32 33.0032 1004.5 Q32.7167 1005.64 32.7167 1007.04 Q32.7167 1012.01 35.9632 1014.68 Q39.1779 1017.33 45.2253 1017.33 L64.0042 1017.33 L64.0042 1023.21 L28.3562 1023.21 L28.3562 1017.33 L33.8944 1017.33 Q30.6479 1015.48 29.0883 1012.52 Q27.4968 1009.56 27.4968 1005.33 Q27.4968 1004.72 27.5923 1003.99 Q27.656 1003.26 27.8151 1002.37 L33.8307 1002.33 Z\" fill=\"#000000\" fill-rule=\"evenodd\" fill-opacity=\"1\" /><path clip-path=\"url(#clip340)\" d=\"M46.0847 979.991 Q46.0847 987.088 47.7079 989.826 Q49.3312 992.563 53.2461 992.563 Q56.3653 992.563 58.2114 990.526 Q60.0256 988.457 60.0256 984.924 Q60.0256 980.054 56.5881 977.126 Q53.1188 974.166 47.3897 974.166 L46.0847 974.166 L46.0847 979.991 M43.6657 968.31 L64.0042 968.31 L64.0042 974.166 L58.5933 974.166 Q61.8398 976.171 63.3994 979.163 Q64.9272 982.155 64.9272 986.484 Q64.9272 991.958 61.8716 995.205 Q58.7843 998.419 53.6281 998.419 Q47.6125 998.419 44.5569 994.409 Q41.5014 990.367 41.5014 982.378 L41.5014 974.166 L40.9285 974.166 Q36.8862 974.166 34.6901 976.84 Q32.4621 979.481 32.4621 984.287 Q32.4621 987.343 33.1941 990.239 Q33.9262 993.136 35.3903 995.809 L29.9795 995.809 Q28.7381 992.595 28.1334 989.571 Q27.4968 986.547 27.4968 983.683 Q27.4968 975.948 31.5072 972.129 Q35.5176 968.31 43.6657 968.31 Z\" fill=\"#000000\" fill-rule=\"evenodd\" fill-opacity=\"1\" /><path clip-path=\"url(#clip340)\" d=\"M45.7664 932.789 Q39.4007 932.789 35.8996 935.431 Q32.3984 938.041 32.3984 942.783 Q32.3984 947.494 35.8996 950.135 Q39.4007 952.745 45.7664 952.745 Q52.1003 952.745 55.6014 950.135 Q59.1026 947.494 59.1026 942.783 Q59.1026 938.041 55.6014 935.431 Q52.1003 932.789 45.7664 932.789 M59.58 926.932 Q68.683 926.932 73.1071 930.975 Q77.5631 935.017 77.5631 943.356 Q77.5631 946.443 77.0857 949.181 Q76.6401 951.918 75.6852 954.496 L69.9879 954.496 Q71.3884 951.918 72.0568 949.403 Q72.7252 946.889 72.7252 944.279 Q72.7252 938.518 69.7015 935.653 Q66.7096 932.789 60.6303 932.789 L57.7339 932.789 Q60.885 934.603 62.4446 937.436 Q64.0042 940.269 64.0042 944.215 Q64.0042 950.772 59.0071 954.782 Q54.01 958.793 45.7664 958.793 Q37.491 958.793 32.4939 954.782 Q27.4968 950.772 27.4968 944.215 Q27.4968 940.269 29.0564 937.436 Q30.616 934.603 33.7671 932.789 L28.3562 932.789 L28.3562 926.932 L59.58 926.932 Z\" fill=\"#000000\" fill-rule=\"evenodd\" fill-opacity=\"1\" /><path clip-path=\"url(#clip340)\" d=\"M44.7161 884.378 L47.5806 884.378 L47.5806 911.305 Q53.6281 910.923 56.8109 907.676 Q59.9619 904.398 59.9619 898.573 Q59.9619 895.199 59.1344 892.048 Q58.3069 888.866 56.6518 885.746 L62.1899 885.746 Q63.5267 888.897 64.227 892.208 Q64.9272 895.518 64.9272 898.923 Q64.9272 907.453 59.9619 912.45 Q54.9967 917.416 46.5303 917.416 Q37.7774 917.416 32.6531 912.705 Q27.4968 907.963 27.4968 899.942 Q27.4968 892.749 32.1438 888.579 Q36.7589 884.378 44.7161 884.378 M42.9973 890.234 Q38.1912 890.298 35.3266 892.94 Q32.4621 895.55 32.4621 899.878 Q32.4621 904.78 35.2312 907.74 Q38.0002 910.668 43.0292 911.114 L42.9973 890.234 Z\" fill=\"#000000\" fill-rule=\"evenodd\" fill-opacity=\"1\" /><path clip-path=\"url(#clip340)\" d=\"M20.1444 818.206 L26.9239 818.206 Q23.9002 821.453 22.4043 825.145 Q20.9083 828.805 20.9083 832.943 Q20.9083 841.091 25.9054 845.42 Q30.8707 849.748 40.2919 849.748 Q49.6813 849.748 54.6784 845.42 Q59.6436 841.091 59.6436 832.943 Q59.6436 828.805 58.1477 825.145 Q56.6518 821.453 53.6281 818.206 L60.3439 818.206 Q62.6355 821.58 63.7814 825.368 Q64.9272 829.123 64.9272 833.325 Q64.9272 844.115 58.3387 850.321 Q51.7183 856.528 40.2919 856.528 Q28.8336 856.528 22.2451 850.321 Q15.6248 844.115 15.6248 833.325 Q15.6248 829.06 16.7706 825.304 Q17.8846 821.516 20.1444 818.206 Z\" fill=\"#000000\" fill-rule=\"evenodd\" fill-opacity=\"1\" /><path clip-path=\"url(#clip340)\" d=\"M32.4621 794.717 Q32.4621 799.427 36.1542 802.165 Q39.8145 804.902 46.212 804.902 Q52.6095 804.902 56.3017 802.196 Q59.9619 799.459 59.9619 794.717 Q59.9619 790.038 56.2698 787.301 Q52.5777 784.563 46.212 784.563 Q39.8781 784.563 36.186 787.301 Q32.4621 790.038 32.4621 794.717 M27.4968 794.717 Q27.4968 787.078 32.4621 782.717 Q37.4273 778.357 46.212 778.357 Q54.9649 778.357 59.9619 782.717 Q64.9272 787.078 64.9272 794.717 Q64.9272 802.387 59.9619 806.748 Q54.9649 811.077 46.212 811.077 Q37.4273 811.077 32.4621 806.748 Q27.4968 802.387 27.4968 794.717 Z\" fill=\"#000000\" fill-rule=\"evenodd\" fill-opacity=\"1\" /><path clip-path=\"url(#clip340)\" d=\"M35.1993 740.895 Q31.2526 738.698 29.3747 735.643 Q27.4968 732.587 27.4968 728.45 Q27.4968 722.88 31.4117 719.856 Q35.2948 716.832 42.4881 716.832 L64.0042 716.832 L64.0042 722.721 L42.679 722.721 Q37.5546 722.721 35.072 724.535 Q32.5894 726.349 32.5894 730.073 Q32.5894 734.624 35.6131 737.266 Q38.6368 739.908 43.8567 739.908 L64.0042 739.908 L64.0042 745.796 L42.679 745.796 Q37.5228 745.796 35.072 747.61 Q32.5894 749.425 32.5894 753.212 Q32.5894 757.7 35.6449 760.342 Q38.6686 762.984 43.8567 762.984 L64.0042 762.984 L64.0042 768.872 L28.3562 768.872 L28.3562 762.984 L33.8944 762.984 Q30.616 760.978 29.0564 758.178 Q27.4968 755.377 27.4968 751.525 Q27.4968 747.642 29.4702 744.937 Q31.4436 742.2 35.1993 740.895 Z\" fill=\"#000000\" fill-rule=\"evenodd\" fill-opacity=\"1\" /><path clip-path=\"url(#clip340)\" d=\"M58.657 699.486 L77.5631 699.486 L77.5631 705.374 L28.3562 705.374 L28.3562 699.486 L33.7671 699.486 Q30.5842 697.64 29.0564 694.839 Q27.4968 692.006 27.4968 688.091 Q27.4968 681.598 32.6531 677.556 Q37.8093 673.482 46.212 673.482 Q54.6147 673.482 59.771 677.556 Q64.9272 681.598 64.9272 688.091 Q64.9272 692.006 63.3994 694.839 Q61.8398 697.64 58.657 699.486 M46.212 679.561 Q39.7508 679.561 36.0905 682.235 Q32.3984 684.876 32.3984 689.523 Q32.3984 694.17 36.0905 696.844 Q39.7508 699.486 46.212 699.486 Q52.6732 699.486 56.3653 696.844 Q60.0256 694.17 60.0256 689.523 Q60.0256 684.876 56.3653 682.235 Q52.6732 679.561 46.212 679.561 Z\" fill=\"#000000\" fill-rule=\"evenodd\" fill-opacity=\"1\" /><path clip-path=\"url(#clip340)\" d=\"M14.479 663.774 L14.479 657.918 L64.0042 657.918 L64.0042 663.774 L14.479 663.774 Z\" fill=\"#000000\" fill-rule=\"evenodd\" fill-opacity=\"1\" /><path clip-path=\"url(#clip340)\" d=\"M44.7161 615.172 L47.5806 615.172 L47.5806 642.099 Q53.6281 641.717 56.8109 638.47 Q59.9619 635.192 59.9619 629.367 Q59.9619 625.994 59.1344 622.843 Q58.3069 619.66 56.6518 616.541 L62.1899 616.541 Q63.5267 619.692 64.227 623.002 Q64.9272 626.312 64.9272 629.718 Q64.9272 638.248 59.9619 643.245 Q54.9967 648.21 46.5303 648.21 Q37.7774 648.21 32.6531 643.499 Q27.4968 638.757 27.4968 630.736 Q27.4968 623.543 32.1438 619.373 Q36.7589 615.172 44.7161 615.172 M42.9973 621.028 Q38.1912 621.092 35.3266 623.734 Q32.4621 626.344 32.4621 630.672 Q32.4621 635.574 35.2312 638.534 Q38.0002 641.462 43.0292 641.908 L42.9973 621.028 Z\" fill=\"#000000\" fill-rule=\"evenodd\" fill-opacity=\"1\" /><path clip-path=\"url(#clip340)\" d=\"M18.2347 599.767 L28.3562 599.767 L28.3562 587.704 L32.9077 587.704 L32.9077 599.767 L52.2594 599.767 Q56.6199 599.767 57.8613 598.589 Q59.1026 597.38 59.1026 593.72 L59.1026 587.704 L64.0042 587.704 L64.0042 593.72 Q64.0042 600.499 61.4897 603.077 Q58.9434 605.655 52.2594 605.655 L32.9077 605.655 L32.9077 609.952 L28.3562 609.952 L28.3562 605.655 L18.2347 605.655 L18.2347 599.767 Z\" fill=\"#000000\" fill-rule=\"evenodd\" fill-opacity=\"1\" /><path clip-path=\"url(#clip340)\" d=\"M28.3562 580.001 L28.3562 574.145 L64.0042 574.145 L64.0042 580.001 L28.3562 580.001 M14.479 580.001 L14.479 574.145 L21.895 574.145 L21.895 580.001 L14.479 580.001 Z\" fill=\"#000000\" fill-rule=\"evenodd\" fill-opacity=\"1\" /><path clip-path=\"url(#clip340)\" d=\"M32.4621 548.077 Q32.4621 552.788 36.1542 555.525 Q39.8145 558.263 46.212 558.263 Q52.6095 558.263 56.3017 555.557 Q59.9619 552.82 59.9619 548.077 Q59.9619 543.399 56.2698 540.661 Q52.5777 537.924 46.212 537.924 Q39.8781 537.924 36.186 540.661 Q32.4621 543.399 32.4621 548.077 M27.4968 548.077 Q27.4968 540.439 32.4621 536.078 Q37.4273 531.718 46.212 531.718 Q54.9649 531.718 59.9619 536.078 Q64.9272 540.439 64.9272 548.077 Q64.9272 555.748 59.9619 560.109 Q54.9649 564.437 46.212 564.437 Q37.4273 564.437 32.4621 560.109 Q27.4968 555.748 27.4968 548.077 Z\" fill=\"#000000\" fill-rule=\"evenodd\" fill-opacity=\"1\" /><path clip-path=\"url(#clip340)\" d=\"M42.4881 492.377 L64.0042 492.377 L64.0042 498.234 L42.679 498.234 Q37.6183 498.234 35.1038 500.207 Q32.5894 502.181 32.5894 506.127 Q32.5894 510.87 35.6131 513.607 Q38.6368 516.344 43.8567 516.344 L64.0042 516.344 L64.0042 522.233 L28.3562 522.233 L28.3562 516.344 L33.8944 516.344 Q30.6797 514.244 29.0883 511.411 Q27.4968 508.546 27.4968 504.822 Q27.4968 498.68 31.3163 495.529 Q35.1038 492.377 42.4881 492.377 Z\" fill=\"#000000\" fill-rule=\"evenodd\" fill-opacity=\"1\" /><path clip-path=\"url(#clip340)\" d=\"M16.4842 466.31 L16.4842 426.11 L21.895 426.11 L21.895 442.98 L64.0042 442.98 L64.0042 449.441 L21.895 449.441 L21.895 466.31 L16.4842 466.31 Z\" fill=\"#000000\" fill-rule=\"evenodd\" fill-opacity=\"1\" /><path clip-path=\"url(#clip340)\" d=\"M28.3562 422.164 L28.3562 416.307 L64.0042 416.307 L64.0042 422.164 L28.3562 422.164 M14.479 422.164 L14.479 416.307 L21.895 416.307 L21.895 422.164 L14.479 422.164 Z\" fill=\"#000000\" fill-rule=\"evenodd\" fill-opacity=\"1\" /><path clip-path=\"url(#clip340)\" d=\"M35.1993 376.299 Q31.2526 374.103 29.3747 371.047 Q27.4968 367.992 27.4968 363.854 Q27.4968 358.284 31.4117 355.26 Q35.2948 352.236 42.4881 352.236 L64.0042 352.236 L64.0042 358.125 L42.679 358.125 Q37.5546 358.125 35.072 359.939 Q32.5894 361.753 32.5894 365.477 Q32.5894 370.029 35.6131 372.67 Q38.6368 375.312 43.8567 375.312 L64.0042 375.312 L64.0042 381.2 L42.679 381.2 Q37.5228 381.2 35.072 383.015 Q32.5894 384.829 32.5894 388.616 Q32.5894 393.104 35.6449 395.746 Q38.6686 398.388 43.8567 398.388 L64.0042 398.388 L64.0042 404.276 L28.3562 404.276 L28.3562 398.388 L33.8944 398.388 Q30.616 396.383 29.0564 393.582 Q27.4968 390.781 27.4968 386.93 Q27.4968 383.046 29.4702 380.341 Q31.4436 377.604 35.1993 376.299 Z\" fill=\"#000000\" fill-rule=\"evenodd\" fill-opacity=\"1\" /><path clip-path=\"url(#clip340)\" d=\"M44.7161 310.064 L47.5806 310.064 L47.5806 336.991 Q53.6281 336.609 56.8109 333.362 Q59.9619 330.084 59.9619 324.259 Q59.9619 320.885 59.1344 317.734 Q58.3069 314.551 56.6518 311.432 L62.1899 311.432 Q63.5267 314.583 64.227 317.893 Q64.9272 321.204 64.9272 324.609 Q64.9272 333.139 59.9619 338.136 Q54.9967 343.102 46.5303 343.102 Q37.7774 343.102 32.6531 338.391 Q27.4968 333.649 27.4968 325.628 Q27.4968 318.435 32.1438 314.265 Q36.7589 310.064 44.7161 310.064 M42.9973 315.92 Q38.1912 315.984 35.3266 318.626 Q32.4621 321.235 32.4621 325.564 Q32.4621 330.466 35.2312 333.426 Q38.0002 336.354 43.0292 336.8 L42.9973 315.92 Z\" fill=\"#000000\" fill-rule=\"evenodd\" fill-opacity=\"1\" /><polyline clip-path=\"url(#clip342)\" style=\"stroke:#009af9; stroke-linecap:round; stroke-linejoin:round; stroke-width:4; stroke-opacity:1; fill:none\" points=\"\n",
       "  1323.37,621.342 1333.56,824.945 1343.76,914.196 1353.95,876.543 1364.15,1372.3 1374.34,85.838 1384.54,885.84 1394.73,922.943 1404.93,1076.31 1415.12,913.847 \n",
       "  1425.32,1030.96 1435.51,931.628 1445.71,1098.28 1455.9,966.36 1466.1,1104.01 1476.29,1049.75 1486.49,1042.1 1496.68,1105.98 1506.88,1076.5 1517.07,1041.75 \n",
       "  1527.27,1139.17 1537.46,1202.65 1547.66,1135.48 1557.85,1107.09 1568.05,1170.59 1578.24,1147.23 1588.44,1178.42 1598.63,1179.62 1608.83,1195.4 1619.02,1176.91 \n",
       "  1629.22,1205.16 1639.41,1240.69 1649.61,1273.82 1659.8,1248.1 1670,1258.3 1680.19,1271.43 1690.39,1239.35 1700.58,1265.47 1710.78,1260.15 1720.97,1296.36 \n",
       "  1731.17,1268.96 1741.36,1265.66 1751.56,1296 1761.75,1299.61 1771.95,1306.46 1782.14,1291.35 1792.34,1300.94 1802.53,1302.14 1812.73,1292.54 1822.92,1313.72 \n",
       "  1833.12,1352.68 1843.31,1325.2 1853.51,1275 1863.7,1259.99 1873.9,1311.28 1884.09,1304.93 1894.29,1314.19 1904.48,1272.34 1914.68,1330.83 1924.87,1350.53 \n",
       "  1935.07,1343.5 1945.26,1339.38 1955.46,1311.62 1965.65,1314.15 1975.85,1336.95 1986.04,1345.05 1996.24,1315.99 2006.43,1344.6 2016.63,1327.51 2026.82,1347.4 \n",
       "  2037.02,1346.99 2047.21,1320.84 2057.41,1349.93 2067.6,1321.63 2077.8,1307.92 2087.99,1351.48 2098.19,1351.58 2108.38,1351.61 2118.58,1353.16 2128.77,1329.94 \n",
       "  2138.97,1345.61 2149.16,1368.06 2159.36,1338.02 2169.55,1345.67 2179.75,1341.26 2189.94,1342.41 2200.14,1328.86 2210.33,1327.1 2220.53,1345.85 2230.72,1335.13 \n",
       "  2240.92,1327.18 2251.11,1352.95 2261.31,1354.42 2271.5,1344.36 2281.7,1348.39 2291.89,1357.1 \n",
       "  \"/>\n",
       "</svg>\n"
      ]
     },
     "execution_count": 48,
     "metadata": {},
     "output_type": "execute_result"
    }
   ],
   "source": [
    "plot(iterations, avg_compl_time, xlabel=\"Iterations\", ylabel=\"Average Completion Time\", legend = false, xformatter = :scientific)"
   ]
  },
  {
   "cell_type": "code",
   "execution_count": 49,
   "id": "4739f3dc",
   "metadata": {},
   "outputs": [
    {
     "data": {
      "text/plain": [
       "\"/home/larissa/Documents/Projects/ADLR/ADLR_project/src/RL_PPO_quadcopter_3D/plots/slow/avg_comp_time.svg\""
      ]
     },
     "execution_count": 49,
     "metadata": {},
     "output_type": "execute_result"
    }
   ],
   "source": [
    "savefig(fig_path * \"avg_comp_time.svg\")"
   ]
  },
  {
   "cell_type": "markdown",
   "id": "ed305f8e",
   "metadata": {},
   "source": [
    "# Create Videos"
   ]
  },
  {
   "cell_type": "code",
   "execution_count": 50,
   "id": "1f30d98a",
   "metadata": {},
   "outputs": [
    {
     "name": "stderr",
     "output_type": "stream",
     "text": [
      "\u001b[36m\u001b[1m┌ \u001b[22m\u001b[39m\u001b[36m\u001b[1mInfo: \u001b[22m\u001b[39mMeshCat server started. You can open the visualizer by visiting the following URL in your browser:\n",
      "\u001b[36m\u001b[1m└ \u001b[22m\u001b[39mhttp://127.0.0.1:8700\n"
     ]
    }
   ],
   "source": [
    "create_visualization();"
   ]
  },
  {
   "cell_type": "code",
   "execution_count": 51,
   "id": "260d79dd",
   "metadata": {},
   "outputs": [],
   "source": [
    "if VIDEO  \n",
    "  # TODO: load_model as desired\n",
    "    vid_env = VtolEnv(;name = \"testVTOL\", visualization = true, realtime = true);\n",
    "\n",
    "    if SLOW_MODE\n",
    "        path = \"./RL_models_slow/\"\n",
    "        load_model = 500_000\n",
    "        println(\"slow mode\")\n",
    "    else\n",
    "        path = \"./RL_models_fast/\"\n",
    "        load_model = 1_250_000\n",
    "        println(\"fast mode\")\n",
    "    end\n",
    "    agent.policy.approximator = loadModel(path,load_model); \n",
    "    RLBase.reset!(vid_env)\n",
    "    run(agent.policy, vid_env, StopAfterEpisode(2))\n",
    "end;"
   ]
  },
  {
   "cell_type": "code",
   "execution_count": 52,
   "id": "1bebf7cc",
   "metadata": {},
   "outputs": [],
   "source": [
    "close_visualization();"
   ]
  },
  {
   "cell_type": "markdown",
   "id": "57443b44",
   "metadata": {},
   "source": [
    "done"
   ]
  }
 ],
 "metadata": {
  "@webio": {
   "lastCommId": null,
   "lastKernelId": null
  },
  "kernelspec": {
   "display_name": "Julia 1.8.0",
   "language": "julia",
   "name": "julia-1.8"
  },
  "language_info": {
   "file_extension": ".jl",
   "mimetype": "application/julia",
   "name": "julia",
   "version": "1.8.0"
  }
 },
 "nbformat": 4,
 "nbformat_minor": 5
}
