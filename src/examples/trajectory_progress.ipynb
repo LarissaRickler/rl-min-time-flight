{
 "cells": [
  {
   "cell_type": "code",
   "execution_count": 1,
   "id": "d399147e",
   "metadata": {},
   "outputs": [],
   "source": [
    "include(\"../Flyonic.jl\");\n",
    "using .Flyonic;\n",
    "\n",
    "using Plots;"
   ]
  },
  {
   "cell_type": "code",
   "execution_count": 2,
   "id": "119340d2",
   "metadata": {},
   "outputs": [
    {
     "data": {
      "text/plain": [
       "4-element Vector{Vector{Float64}}:\n",
       " [0.0, 0.0, 0.0]\n",
       " [5.918893392910466, 0.0, 2.276704909732835]\n",
       " [10.512488076821521, 0.0, 9.214210390293555]\n",
       " [15.81883218564874, 0.0, 13.374694404403403]"
      ]
     },
     "execution_count": 2,
     "metadata": {},
     "output_type": "execute_result"
    }
   ],
   "source": [
    "points = generate_trajectory(4)"
   ]
  },
  {
   "cell_type": "code",
   "execution_count": 3,
   "id": "84dd8e1c",
   "metadata": {},
   "outputs": [],
   "source": [
    "x = zeros(size(points))\n",
    "y = zeros(size(points))\n",
    "\n",
    "for i in eachindex(points)\n",
    "    x[i] = points[i][1]\n",
    "    y[i] = points[i][3]\n",
    "end"
   ]
  },
  {
   "cell_type": "code",
   "execution_count": 4,
   "id": "394748e7",
   "metadata": {},
   "outputs": [
    {
     "data": {
      "image/svg+xml": [
       "<?xml version=\"1.0\" encoding=\"utf-8\"?>\n",
       "<svg xmlns=\"http://www.w3.org/2000/svg\" xmlns:xlink=\"http://www.w3.org/1999/xlink\" width=\"600\" height=\"400\" viewBox=\"0 0 2400 1600\">\n",
       "<defs>\n",
       "  <clipPath id=\"clip040\">\n",
       "    <rect x=\"0\" y=\"0\" width=\"2400\" height=\"1600\"/>\n",
       "  </clipPath>\n",
       "</defs>\n",
       "<path clip-path=\"url(#clip040)\" d=\"\n",
       "M0 1600 L2400 1600 L2400 0 L0 0  Z\n",
       "  \" fill=\"#ffffff\" fill-rule=\"evenodd\" fill-opacity=\"1\"/>\n",
       "<defs>\n",
       "  <clipPath id=\"clip041\">\n",
       "    <rect x=\"480\" y=\"0\" width=\"1681\" height=\"1600\"/>\n",
       "  </clipPath>\n",
       "</defs>\n",
       "<path clip-path=\"url(#clip040)\" d=\"\n",
       "M138.959 1486.45 L2352.76 1486.45 L2352.76 47.2441 L138.959 47.2441  Z\n",
       "  \" fill=\"#ffffff\" fill-rule=\"evenodd\" fill-opacity=\"1\"/>\n",
       "<defs>\n",
       "  <clipPath id=\"clip042\">\n",
       "    <rect x=\"138\" y=\"47\" width=\"2215\" height=\"1440\"/>\n",
       "  </clipPath>\n",
       "</defs>\n",
       "<polyline clip-path=\"url(#clip042)\" style=\"stroke:#000000; stroke-linecap:round; stroke-linejoin:round; stroke-width:2; stroke-opacity:0.1; fill:none\" points=\"\n",
       "  442.929,1486.45 442.929,47.2441 \n",
       "  \"/>\n",
       "<polyline clip-path=\"url(#clip042)\" style=\"stroke:#000000; stroke-linecap:round; stroke-linejoin:round; stroke-width:2; stroke-opacity:0.1; fill:none\" points=\"\n",
       "  950.507,1486.45 950.507,47.2441 \n",
       "  \"/>\n",
       "<polyline clip-path=\"url(#clip042)\" style=\"stroke:#000000; stroke-linecap:round; stroke-linejoin:round; stroke-width:2; stroke-opacity:0.1; fill:none\" points=\"\n",
       "  1458.08,1486.45 1458.08,47.2441 \n",
       "  \"/>\n",
       "<polyline clip-path=\"url(#clip042)\" style=\"stroke:#000000; stroke-linecap:round; stroke-linejoin:round; stroke-width:2; stroke-opacity:0.1; fill:none\" points=\"\n",
       "  1965.66,1486.45 1965.66,47.2441 \n",
       "  \"/>\n",
       "<polyline clip-path=\"url(#clip040)\" style=\"stroke:#000000; stroke-linecap:round; stroke-linejoin:round; stroke-width:4; stroke-opacity:1; fill:none\" points=\"\n",
       "  138.959,1486.45 2352.76,1486.45 \n",
       "  \"/>\n",
       "<polyline clip-path=\"url(#clip040)\" style=\"stroke:#000000; stroke-linecap:round; stroke-linejoin:round; stroke-width:4; stroke-opacity:1; fill:none\" points=\"\n",
       "  442.929,1486.45 442.929,1467.55 \n",
       "  \"/>\n",
       "<polyline clip-path=\"url(#clip040)\" style=\"stroke:#000000; stroke-linecap:round; stroke-linejoin:round; stroke-width:4; stroke-opacity:1; fill:none\" points=\"\n",
       "  950.507,1486.45 950.507,1467.55 \n",
       "  \"/>\n",
       "<polyline clip-path=\"url(#clip040)\" style=\"stroke:#000000; stroke-linecap:round; stroke-linejoin:round; stroke-width:4; stroke-opacity:1; fill:none\" points=\"\n",
       "  1458.08,1486.45 1458.08,1467.55 \n",
       "  \"/>\n",
       "<polyline clip-path=\"url(#clip040)\" style=\"stroke:#000000; stroke-linecap:round; stroke-linejoin:round; stroke-width:4; stroke-opacity:1; fill:none\" points=\"\n",
       "  1965.66,1486.45 1965.66,1467.55 \n",
       "  \"/>\n",
       "<path clip-path=\"url(#clip040)\" d=\"M442.929 1517.37 Q439.318 1517.37 437.489 1520.93 Q435.684 1524.47 435.684 1531.6 Q435.684 1538.71 437.489 1542.27 Q439.318 1545.82 442.929 1545.82 Q446.563 1545.82 448.369 1542.27 Q450.197 1538.71 450.197 1531.6 Q450.197 1524.47 448.369 1520.93 Q446.563 1517.37 442.929 1517.37 M442.929 1513.66 Q448.739 1513.66 451.795 1518.27 Q454.873 1522.85 454.873 1531.6 Q454.873 1540.33 451.795 1544.94 Q448.739 1549.52 442.929 1549.52 Q437.119 1549.52 434.04 1544.94 Q430.985 1540.33 430.985 1531.6 Q430.985 1522.85 434.04 1518.27 Q437.119 1513.66 442.929 1513.66 Z\" fill=\"#000000\" fill-rule=\"evenodd\" fill-opacity=\"1\" /><path clip-path=\"url(#clip040)\" d=\"M940.785 1514.29 L959.141 1514.29 L959.141 1518.22 L945.067 1518.22 L945.067 1526.7 Q946.085 1526.35 947.104 1526.19 Q948.122 1526 949.141 1526 Q954.928 1526 958.308 1529.17 Q961.687 1532.34 961.687 1537.76 Q961.687 1543.34 958.215 1546.44 Q954.743 1549.52 948.423 1549.52 Q946.247 1549.52 943.979 1549.15 Q941.734 1548.78 939.326 1548.04 L939.326 1543.34 Q941.41 1544.47 943.632 1545.03 Q945.854 1545.58 948.331 1545.58 Q952.335 1545.58 954.673 1543.48 Q957.011 1541.37 957.011 1537.76 Q957.011 1534.15 954.673 1532.04 Q952.335 1529.94 948.331 1529.94 Q946.456 1529.94 944.581 1530.35 Q942.729 1530.77 940.785 1531.65 L940.785 1514.29 Z\" fill=\"#000000\" fill-rule=\"evenodd\" fill-opacity=\"1\" /><path clip-path=\"url(#clip040)\" d=\"M1432.77 1544.91 L1440.41 1544.91 L1440.41 1518.55 L1432.1 1520.21 L1432.1 1515.95 L1440.36 1514.29 L1445.04 1514.29 L1445.04 1544.91 L1452.68 1544.91 L1452.68 1548.85 L1432.77 1548.85 L1432.77 1544.91 Z\" fill=\"#000000\" fill-rule=\"evenodd\" fill-opacity=\"1\" /><path clip-path=\"url(#clip040)\" d=\"M1472.12 1517.37 Q1468.51 1517.37 1466.68 1520.93 Q1464.88 1524.47 1464.88 1531.6 Q1464.88 1538.71 1466.68 1542.27 Q1468.51 1545.82 1472.12 1545.82 Q1475.76 1545.82 1477.56 1542.27 Q1479.39 1538.71 1479.39 1531.6 Q1479.39 1524.47 1477.56 1520.93 Q1475.76 1517.37 1472.12 1517.37 M1472.12 1513.66 Q1477.93 1513.66 1480.99 1518.27 Q1484.07 1522.85 1484.07 1531.6 Q1484.07 1540.33 1480.99 1544.94 Q1477.93 1549.52 1472.12 1549.52 Q1466.31 1549.52 1463.23 1544.94 Q1460.18 1540.33 1460.18 1531.6 Q1460.18 1522.85 1463.23 1518.27 Q1466.31 1513.66 1472.12 1513.66 Z\" fill=\"#000000\" fill-rule=\"evenodd\" fill-opacity=\"1\" /><path clip-path=\"url(#clip040)\" d=\"M1940.85 1544.91 L1948.49 1544.91 L1948.49 1518.55 L1940.18 1520.21 L1940.18 1515.95 L1948.44 1514.29 L1953.12 1514.29 L1953.12 1544.91 L1960.75 1544.91 L1960.75 1548.85 L1940.85 1548.85 L1940.85 1544.91 Z\" fill=\"#000000\" fill-rule=\"evenodd\" fill-opacity=\"1\" /><path clip-path=\"url(#clip040)\" d=\"M1970.25 1514.29 L1988.6 1514.29 L1988.6 1518.22 L1974.53 1518.22 L1974.53 1526.7 Q1975.55 1526.35 1976.56 1526.19 Q1977.58 1526 1978.6 1526 Q1984.39 1526 1987.77 1529.17 Q1991.15 1532.34 1991.15 1537.76 Q1991.15 1543.34 1987.68 1546.44 Q1984.2 1549.52 1977.88 1549.52 Q1975.71 1549.52 1973.44 1549.15 Q1971.19 1548.78 1968.79 1548.04 L1968.79 1543.34 Q1970.87 1544.47 1973.09 1545.03 Q1975.31 1545.58 1977.79 1545.58 Q1981.8 1545.58 1984.13 1543.48 Q1986.47 1541.37 1986.47 1537.76 Q1986.47 1534.15 1984.13 1532.04 Q1981.8 1529.94 1977.79 1529.94 Q1975.92 1529.94 1974.04 1530.35 Q1972.19 1530.77 1970.25 1531.65 L1970.25 1514.29 Z\" fill=\"#000000\" fill-rule=\"evenodd\" fill-opacity=\"1\" /><polyline clip-path=\"url(#clip042)\" style=\"stroke:#000000; stroke-linecap:round; stroke-linejoin:round; stroke-width:2; stroke-opacity:0.1; fill:none\" points=\"\n",
       "  138.959,1445.72 2352.76,1445.72 \n",
       "  \"/>\n",
       "<polyline clip-path=\"url(#clip042)\" style=\"stroke:#000000; stroke-linecap:round; stroke-linejoin:round; stroke-width:2; stroke-opacity:0.1; fill:none\" points=\"\n",
       "  138.959,1242.68 2352.76,1242.68 \n",
       "  \"/>\n",
       "<polyline clip-path=\"url(#clip042)\" style=\"stroke:#000000; stroke-linecap:round; stroke-linejoin:round; stroke-width:2; stroke-opacity:0.1; fill:none\" points=\"\n",
       "  138.959,1039.65 2352.76,1039.65 \n",
       "  \"/>\n",
       "<polyline clip-path=\"url(#clip042)\" style=\"stroke:#000000; stroke-linecap:round; stroke-linejoin:round; stroke-width:2; stroke-opacity:0.1; fill:none\" points=\"\n",
       "  138.959,836.622 2352.76,836.622 \n",
       "  \"/>\n",
       "<polyline clip-path=\"url(#clip042)\" style=\"stroke:#000000; stroke-linecap:round; stroke-linejoin:round; stroke-width:2; stroke-opacity:0.1; fill:none\" points=\"\n",
       "  138.959,633.591 2352.76,633.591 \n",
       "  \"/>\n",
       "<polyline clip-path=\"url(#clip042)\" style=\"stroke:#000000; stroke-linecap:round; stroke-linejoin:round; stroke-width:2; stroke-opacity:0.1; fill:none\" points=\"\n",
       "  138.959,430.56 2352.76,430.56 \n",
       "  \"/>\n",
       "<polyline clip-path=\"url(#clip042)\" style=\"stroke:#000000; stroke-linecap:round; stroke-linejoin:round; stroke-width:2; stroke-opacity:0.1; fill:none\" points=\"\n",
       "  138.959,227.529 2352.76,227.529 \n",
       "  \"/>\n",
       "<polyline clip-path=\"url(#clip040)\" style=\"stroke:#000000; stroke-linecap:round; stroke-linejoin:round; stroke-width:4; stroke-opacity:1; fill:none\" points=\"\n",
       "  138.959,1486.45 138.959,47.2441 \n",
       "  \"/>\n",
       "<polyline clip-path=\"url(#clip040)\" style=\"stroke:#000000; stroke-linecap:round; stroke-linejoin:round; stroke-width:4; stroke-opacity:1; fill:none\" points=\"\n",
       "  138.959,1445.72 157.857,1445.72 \n",
       "  \"/>\n",
       "<polyline clip-path=\"url(#clip040)\" style=\"stroke:#000000; stroke-linecap:round; stroke-linejoin:round; stroke-width:4; stroke-opacity:1; fill:none\" points=\"\n",
       "  138.959,1242.68 157.857,1242.68 \n",
       "  \"/>\n",
       "<polyline clip-path=\"url(#clip040)\" style=\"stroke:#000000; stroke-linecap:round; stroke-linejoin:round; stroke-width:4; stroke-opacity:1; fill:none\" points=\"\n",
       "  138.959,1039.65 157.857,1039.65 \n",
       "  \"/>\n",
       "<polyline clip-path=\"url(#clip040)\" style=\"stroke:#000000; stroke-linecap:round; stroke-linejoin:round; stroke-width:4; stroke-opacity:1; fill:none\" points=\"\n",
       "  138.959,836.622 157.857,836.622 \n",
       "  \"/>\n",
       "<polyline clip-path=\"url(#clip040)\" style=\"stroke:#000000; stroke-linecap:round; stroke-linejoin:round; stroke-width:4; stroke-opacity:1; fill:none\" points=\"\n",
       "  138.959,633.591 157.857,633.591 \n",
       "  \"/>\n",
       "<polyline clip-path=\"url(#clip040)\" style=\"stroke:#000000; stroke-linecap:round; stroke-linejoin:round; stroke-width:4; stroke-opacity:1; fill:none\" points=\"\n",
       "  138.959,430.56 157.857,430.56 \n",
       "  \"/>\n",
       "<polyline clip-path=\"url(#clip040)\" style=\"stroke:#000000; stroke-linecap:round; stroke-linejoin:round; stroke-width:4; stroke-opacity:1; fill:none\" points=\"\n",
       "  138.959,227.529 157.857,227.529 \n",
       "  \"/>\n",
       "<path clip-path=\"url(#clip040)\" d=\"M91.0151 1431.51 Q87.404 1431.51 85.5753 1435.08 Q83.7697 1438.62 83.7697 1445.75 Q83.7697 1452.86 85.5753 1456.42 Q87.404 1459.96 91.0151 1459.96 Q94.6493 1459.96 96.4548 1456.42 Q98.2835 1452.86 98.2835 1445.75 Q98.2835 1438.62 96.4548 1435.08 Q94.6493 1431.51 91.0151 1431.51 M91.0151 1427.81 Q96.8252 1427.81 99.8808 1432.42 Q102.959 1437 102.959 1445.75 Q102.959 1454.48 99.8808 1459.08 Q96.8252 1463.67 91.0151 1463.67 Q85.2049 1463.67 82.1262 1459.08 Q79.0707 1454.48 79.0707 1445.75 Q79.0707 1437 82.1262 1432.42 Q85.2049 1427.81 91.0151 1427.81 Z\" fill=\"#000000\" fill-rule=\"evenodd\" fill-opacity=\"1\" /><path clip-path=\"url(#clip040)\" d=\"M86.6401 1256.03 L102.959 1256.03 L102.959 1259.96 L81.0151 1259.96 L81.0151 1256.03 Q83.6771 1253.27 88.2604 1248.65 Q92.8669 1243.99 94.0475 1242.65 Q96.2928 1240.13 97.1724 1238.39 Q98.0752 1236.63 98.0752 1234.94 Q98.0752 1232.19 96.1308 1230.45 Q94.2095 1228.71 91.1077 1228.71 Q88.9086 1228.71 86.4549 1229.48 Q84.0244 1230.24 81.2466 1231.79 L81.2466 1227.07 Q84.0707 1225.94 86.5243 1225.36 Q88.978 1224.78 91.0151 1224.78 Q96.3854 1224.78 99.5798 1227.46 Q102.774 1230.15 102.774 1234.64 Q102.774 1236.77 101.964 1238.69 Q101.177 1240.59 99.0706 1243.18 Q98.4919 1243.85 95.39 1247.07 Q92.2882 1250.27 86.6401 1256.03 Z\" fill=\"#000000\" fill-rule=\"evenodd\" fill-opacity=\"1\" /><path clip-path=\"url(#clip040)\" d=\"M93.3762 1026.45 L81.5707 1044.9 L93.3762 1044.9 L93.3762 1026.45 M92.1493 1022.37 L98.0289 1022.37 L98.0289 1044.9 L102.959 1044.9 L102.959 1048.79 L98.0289 1048.79 L98.0289 1056.93 L93.3762 1056.93 L93.3762 1048.79 L77.7744 1048.79 L77.7744 1044.27 L92.1493 1022.37 Z\" fill=\"#000000\" fill-rule=\"evenodd\" fill-opacity=\"1\" /><path clip-path=\"url(#clip040)\" d=\"M91.4317 834.759 Q88.2836 834.759 86.4318 836.912 Q84.6031 839.065 84.6031 842.815 Q84.6031 846.541 86.4318 848.717 Q88.2836 850.87 91.4317 850.87 Q94.5799 850.87 96.4085 848.717 Q98.2604 846.541 98.2604 842.815 Q98.2604 839.065 96.4085 836.912 Q94.5799 834.759 91.4317 834.759 M100.714 820.106 L100.714 824.366 Q98.9548 823.532 97.1493 823.092 Q95.3669 822.653 93.6076 822.653 Q88.978 822.653 86.5243 825.778 Q84.0938 828.903 83.7466 835.222 Q85.1123 833.208 87.1725 832.143 Q89.2327 831.055 91.7095 831.055 Q96.9178 831.055 99.927 834.227 Q102.959 837.375 102.959 842.815 Q102.959 848.139 99.8113 851.356 Q96.6632 854.574 91.4317 854.574 Q85.4364 854.574 82.2651 849.99 Q79.0938 845.384 79.0938 836.657 Q79.0938 828.463 82.9827 823.602 Q86.8716 818.717 93.4225 818.717 Q95.1817 818.717 96.9641 819.065 Q98.7696 819.412 100.714 820.106 Z\" fill=\"#000000\" fill-rule=\"evenodd\" fill-opacity=\"1\" /><path clip-path=\"url(#clip040)\" d=\"M91.1077 634.459 Q87.7743 634.459 85.8531 636.242 Q83.9549 638.024 83.9549 641.149 Q83.9549 644.274 85.8531 646.057 Q87.7743 647.839 91.1077 647.839 Q94.441 647.839 96.3623 646.057 Q98.2835 644.251 98.2835 641.149 Q98.2835 638.024 96.3623 636.242 Q94.4641 634.459 91.1077 634.459 M86.4318 632.469 Q83.4225 631.728 81.7327 629.668 Q80.066 627.608 80.066 624.645 Q80.066 620.501 83.0058 618.094 Q85.9688 615.686 91.1077 615.686 Q96.2697 615.686 99.2095 618.094 Q102.149 620.501 102.149 624.645 Q102.149 627.608 100.459 629.668 Q98.7928 631.728 95.8067 632.469 Q99.1863 633.256 101.061 635.547 Q102.959 637.839 102.959 641.149 Q102.959 646.172 99.8808 648.857 Q96.8252 651.543 91.1077 651.543 Q85.3901 651.543 82.3114 648.857 Q79.2559 646.172 79.2559 641.149 Q79.2559 637.839 81.154 635.547 Q83.0521 633.256 86.4318 632.469 M84.7188 625.084 Q84.7188 627.77 86.3855 629.274 Q88.0753 630.779 91.1077 630.779 Q94.1169 630.779 95.8067 629.274 Q97.5197 627.77 97.5197 625.084 Q97.5197 622.399 95.8067 620.895 Q94.1169 619.39 91.1077 619.39 Q88.0753 619.39 86.3855 620.895 Q84.7188 622.399 84.7188 625.084 Z\" fill=\"#000000\" fill-rule=\"evenodd\" fill-opacity=\"1\" /><path clip-path=\"url(#clip040)\" d=\"M51.6634 443.905 L59.3023 443.905 L59.3023 417.539 L50.9921 419.206 L50.9921 414.947 L59.256 413.28 L63.9319 413.28 L63.9319 443.905 L71.5707 443.905 L71.5707 447.84 L51.6634 447.84 L51.6634 443.905 Z\" fill=\"#000000\" fill-rule=\"evenodd\" fill-opacity=\"1\" /><path clip-path=\"url(#clip040)\" d=\"M91.0151 416.359 Q87.404 416.359 85.5753 419.924 Q83.7697 423.465 83.7697 430.595 Q83.7697 437.701 85.5753 441.266 Q87.404 444.808 91.0151 444.808 Q94.6493 444.808 96.4548 441.266 Q98.2835 437.701 98.2835 430.595 Q98.2835 423.465 96.4548 419.924 Q94.6493 416.359 91.0151 416.359 M91.0151 412.655 Q96.8252 412.655 99.8808 417.262 Q102.959 421.845 102.959 430.595 Q102.959 439.322 99.8808 443.928 Q96.8252 448.512 91.0151 448.512 Q85.2049 448.512 82.1262 443.928 Q79.0707 439.322 79.0707 430.595 Q79.0707 421.845 82.1262 417.262 Q85.2049 412.655 91.0151 412.655 Z\" fill=\"#000000\" fill-rule=\"evenodd\" fill-opacity=\"1\" /><path clip-path=\"url(#clip040)\" d=\"M53.2606 240.874 L60.8995 240.874 L60.8995 214.508 L52.5893 216.175 L52.5893 211.916 L60.8532 210.249 L65.5291 210.249 L65.5291 240.874 L73.1679 240.874 L73.1679 244.809 L53.2606 244.809 L53.2606 240.874 Z\" fill=\"#000000\" fill-rule=\"evenodd\" fill-opacity=\"1\" /><path clip-path=\"url(#clip040)\" d=\"M86.6401 240.874 L102.959 240.874 L102.959 244.809 L81.0151 244.809 L81.0151 240.874 Q83.6771 238.119 88.2604 233.49 Q92.8669 228.837 94.0475 227.494 Q96.2928 224.971 97.1724 223.235 Q98.0752 221.476 98.0752 219.786 Q98.0752 217.032 96.1308 215.295 Q94.2095 213.559 91.1077 213.559 Q88.9086 213.559 86.4549 214.323 Q84.0244 215.087 81.2466 216.638 L81.2466 211.916 Q84.0707 210.782 86.5243 210.203 Q88.978 209.624 91.0151 209.624 Q96.3854 209.624 99.5798 212.309 Q102.774 214.994 102.774 219.485 Q102.774 221.615 101.964 223.536 Q101.177 225.434 99.0706 228.027 Q98.4919 228.698 95.39 231.916 Q92.2882 235.11 86.6401 240.874 Z\" fill=\"#000000\" fill-rule=\"evenodd\" fill-opacity=\"1\" /><polyline clip-path=\"url(#clip042)\" style=\"stroke:#009af9; stroke-linecap:round; stroke-linejoin:round; stroke-width:4; stroke-opacity:1; fill:none\" points=\"\n",
       "  442.929,1445.72 1043.79,1214.59 1510.11,510.33 2048.79,87.9763 \n",
       "  \"/>\n",
       "<circle clip-path=\"url(#clip042)\" cx=\"442.929\" cy=\"1445.72\" r=\"14.4\" fill=\"#e26f46\" fill-rule=\"evenodd\" fill-opacity=\"1\" stroke=\"#000000\" stroke-opacity=\"1\" stroke-width=\"3.2\"/>\n",
       "<circle clip-path=\"url(#clip042)\" cx=\"1043.79\" cy=\"1214.59\" r=\"14.4\" fill=\"#e26f46\" fill-rule=\"evenodd\" fill-opacity=\"1\" stroke=\"#000000\" stroke-opacity=\"1\" stroke-width=\"3.2\"/>\n",
       "<circle clip-path=\"url(#clip042)\" cx=\"1510.11\" cy=\"510.33\" r=\"14.4\" fill=\"#e26f46\" fill-rule=\"evenodd\" fill-opacity=\"1\" stroke=\"#000000\" stroke-opacity=\"1\" stroke-width=\"3.2\"/>\n",
       "<circle clip-path=\"url(#clip042)\" cx=\"2048.79\" cy=\"87.9763\" r=\"14.4\" fill=\"#e26f46\" fill-rule=\"evenodd\" fill-opacity=\"1\" stroke=\"#000000\" stroke-opacity=\"1\" stroke-width=\"3.2\"/>\n",
       "</svg>\n"
      ]
     },
     "execution_count": 4,
     "metadata": {},
     "output_type": "execute_result"
    }
   ],
   "source": [
    "plot(x,y,aspect_ratio = 1,legend = false)\n",
    "plot!(x,y,seriestype=:scatter)"
   ]
  },
  {
   "cell_type": "code",
   "execution_count": 5,
   "id": "9964a118",
   "metadata": {},
   "outputs": [
    {
     "data": {
      "text/plain": [
       "3-element Vector{Float64}:\n",
       " 12.0\n",
       "  0.0\n",
       "  8.0"
      ]
     },
     "execution_count": 5,
     "metadata": {},
     "output_type": "execute_result"
    }
   ],
   "source": [
    "position = [12.0, 0.0, 8.0]"
   ]
  },
  {
   "cell_type": "code",
   "execution_count": 6,
   "id": "c5076275",
   "metadata": {},
   "outputs": [
    {
     "data": {
      "text/plain": [
       "(3, [10.844118830662813, 0.0, 9.474228289933471])"
      ]
     },
     "execution_count": 6,
     "metadata": {},
     "output_type": "execute_result"
    }
   ],
   "source": [
    "line_segment, progress = calculate_progress(points,position)"
   ]
  },
  {
   "cell_type": "code",
   "execution_count": 7,
   "id": "0f78aace",
   "metadata": {},
   "outputs": [
    {
     "data": {
      "image/svg+xml": [
       "<?xml version=\"1.0\" encoding=\"utf-8\"?>\n",
       "<svg xmlns=\"http://www.w3.org/2000/svg\" xmlns:xlink=\"http://www.w3.org/1999/xlink\" width=\"600\" height=\"400\" viewBox=\"0 0 2400 1600\">\n",
       "<defs>\n",
       "  <clipPath id=\"clip080\">\n",
       "    <rect x=\"0\" y=\"0\" width=\"2400\" height=\"1600\"/>\n",
       "  </clipPath>\n",
       "</defs>\n",
       "<path clip-path=\"url(#clip080)\" d=\"\n",
       "M0 1600 L2400 1600 L2400 0 L0 0  Z\n",
       "  \" fill=\"#ffffff\" fill-rule=\"evenodd\" fill-opacity=\"1\"/>\n",
       "<defs>\n",
       "  <clipPath id=\"clip081\">\n",
       "    <rect x=\"480\" y=\"0\" width=\"1681\" height=\"1600\"/>\n",
       "  </clipPath>\n",
       "</defs>\n",
       "<path clip-path=\"url(#clip080)\" d=\"\n",
       "M138.959 1486.45 L2352.76 1486.45 L2352.76 47.2441 L138.959 47.2441  Z\n",
       "  \" fill=\"#ffffff\" fill-rule=\"evenodd\" fill-opacity=\"1\"/>\n",
       "<defs>\n",
       "  <clipPath id=\"clip082\">\n",
       "    <rect x=\"138\" y=\"47\" width=\"2215\" height=\"1440\"/>\n",
       "  </clipPath>\n",
       "</defs>\n",
       "<polyline clip-path=\"url(#clip082)\" style=\"stroke:#000000; stroke-linecap:round; stroke-linejoin:round; stroke-width:2; stroke-opacity:0.1; fill:none\" points=\"\n",
       "  442.929,1486.45 442.929,47.2441 \n",
       "  \"/>\n",
       "<polyline clip-path=\"url(#clip082)\" style=\"stroke:#000000; stroke-linecap:round; stroke-linejoin:round; stroke-width:2; stroke-opacity:0.1; fill:none\" points=\"\n",
       "  950.507,1486.45 950.507,47.2441 \n",
       "  \"/>\n",
       "<polyline clip-path=\"url(#clip082)\" style=\"stroke:#000000; stroke-linecap:round; stroke-linejoin:round; stroke-width:2; stroke-opacity:0.1; fill:none\" points=\"\n",
       "  1458.08,1486.45 1458.08,47.2441 \n",
       "  \"/>\n",
       "<polyline clip-path=\"url(#clip082)\" style=\"stroke:#000000; stroke-linecap:round; stroke-linejoin:round; stroke-width:2; stroke-opacity:0.1; fill:none\" points=\"\n",
       "  1965.66,1486.45 1965.66,47.2441 \n",
       "  \"/>\n",
       "<polyline clip-path=\"url(#clip080)\" style=\"stroke:#000000; stroke-linecap:round; stroke-linejoin:round; stroke-width:4; stroke-opacity:1; fill:none\" points=\"\n",
       "  138.959,1486.45 2352.76,1486.45 \n",
       "  \"/>\n",
       "<polyline clip-path=\"url(#clip080)\" style=\"stroke:#000000; stroke-linecap:round; stroke-linejoin:round; stroke-width:4; stroke-opacity:1; fill:none\" points=\"\n",
       "  442.929,1486.45 442.929,1467.55 \n",
       "  \"/>\n",
       "<polyline clip-path=\"url(#clip080)\" style=\"stroke:#000000; stroke-linecap:round; stroke-linejoin:round; stroke-width:4; stroke-opacity:1; fill:none\" points=\"\n",
       "  950.507,1486.45 950.507,1467.55 \n",
       "  \"/>\n",
       "<polyline clip-path=\"url(#clip080)\" style=\"stroke:#000000; stroke-linecap:round; stroke-linejoin:round; stroke-width:4; stroke-opacity:1; fill:none\" points=\"\n",
       "  1458.08,1486.45 1458.08,1467.55 \n",
       "  \"/>\n",
       "<polyline clip-path=\"url(#clip080)\" style=\"stroke:#000000; stroke-linecap:round; stroke-linejoin:round; stroke-width:4; stroke-opacity:1; fill:none\" points=\"\n",
       "  1965.66,1486.45 1965.66,1467.55 \n",
       "  \"/>\n",
       "<path clip-path=\"url(#clip080)\" d=\"M442.929 1517.37 Q439.318 1517.37 437.489 1520.93 Q435.684 1524.47 435.684 1531.6 Q435.684 1538.71 437.489 1542.27 Q439.318 1545.82 442.929 1545.82 Q446.563 1545.82 448.369 1542.27 Q450.197 1538.71 450.197 1531.6 Q450.197 1524.47 448.369 1520.93 Q446.563 1517.37 442.929 1517.37 M442.929 1513.66 Q448.739 1513.66 451.795 1518.27 Q454.873 1522.85 454.873 1531.6 Q454.873 1540.33 451.795 1544.94 Q448.739 1549.52 442.929 1549.52 Q437.119 1549.52 434.04 1544.94 Q430.985 1540.33 430.985 1531.6 Q430.985 1522.85 434.04 1518.27 Q437.119 1513.66 442.929 1513.66 Z\" fill=\"#000000\" fill-rule=\"evenodd\" fill-opacity=\"1\" /><path clip-path=\"url(#clip080)\" d=\"M940.785 1514.29 L959.141 1514.29 L959.141 1518.22 L945.067 1518.22 L945.067 1526.7 Q946.085 1526.35 947.104 1526.19 Q948.122 1526 949.141 1526 Q954.928 1526 958.308 1529.17 Q961.687 1532.34 961.687 1537.76 Q961.687 1543.34 958.215 1546.44 Q954.743 1549.52 948.423 1549.52 Q946.247 1549.52 943.979 1549.15 Q941.734 1548.78 939.326 1548.04 L939.326 1543.34 Q941.41 1544.47 943.632 1545.03 Q945.854 1545.58 948.331 1545.58 Q952.335 1545.58 954.673 1543.48 Q957.011 1541.37 957.011 1537.76 Q957.011 1534.15 954.673 1532.04 Q952.335 1529.94 948.331 1529.94 Q946.456 1529.94 944.581 1530.35 Q942.729 1530.77 940.785 1531.65 L940.785 1514.29 Z\" fill=\"#000000\" fill-rule=\"evenodd\" fill-opacity=\"1\" /><path clip-path=\"url(#clip080)\" d=\"M1432.77 1544.91 L1440.41 1544.91 L1440.41 1518.55 L1432.1 1520.21 L1432.1 1515.95 L1440.36 1514.29 L1445.04 1514.29 L1445.04 1544.91 L1452.68 1544.91 L1452.68 1548.85 L1432.77 1548.85 L1432.77 1544.91 Z\" fill=\"#000000\" fill-rule=\"evenodd\" fill-opacity=\"1\" /><path clip-path=\"url(#clip080)\" d=\"M1472.12 1517.37 Q1468.51 1517.37 1466.68 1520.93 Q1464.88 1524.47 1464.88 1531.6 Q1464.88 1538.71 1466.68 1542.27 Q1468.51 1545.82 1472.12 1545.82 Q1475.76 1545.82 1477.56 1542.27 Q1479.39 1538.71 1479.39 1531.6 Q1479.39 1524.47 1477.56 1520.93 Q1475.76 1517.37 1472.12 1517.37 M1472.12 1513.66 Q1477.93 1513.66 1480.99 1518.27 Q1484.07 1522.85 1484.07 1531.6 Q1484.07 1540.33 1480.99 1544.94 Q1477.93 1549.52 1472.12 1549.52 Q1466.31 1549.52 1463.23 1544.94 Q1460.18 1540.33 1460.18 1531.6 Q1460.18 1522.85 1463.23 1518.27 Q1466.31 1513.66 1472.12 1513.66 Z\" fill=\"#000000\" fill-rule=\"evenodd\" fill-opacity=\"1\" /><path clip-path=\"url(#clip080)\" d=\"M1940.85 1544.91 L1948.49 1544.91 L1948.49 1518.55 L1940.18 1520.21 L1940.18 1515.95 L1948.44 1514.29 L1953.12 1514.29 L1953.12 1544.91 L1960.75 1544.91 L1960.75 1548.85 L1940.85 1548.85 L1940.85 1544.91 Z\" fill=\"#000000\" fill-rule=\"evenodd\" fill-opacity=\"1\" /><path clip-path=\"url(#clip080)\" d=\"M1970.25 1514.29 L1988.6 1514.29 L1988.6 1518.22 L1974.53 1518.22 L1974.53 1526.7 Q1975.55 1526.35 1976.56 1526.19 Q1977.58 1526 1978.6 1526 Q1984.39 1526 1987.77 1529.17 Q1991.15 1532.34 1991.15 1537.76 Q1991.15 1543.34 1987.68 1546.44 Q1984.2 1549.52 1977.88 1549.52 Q1975.71 1549.52 1973.44 1549.15 Q1971.19 1548.78 1968.79 1548.04 L1968.79 1543.34 Q1970.87 1544.47 1973.09 1545.03 Q1975.31 1545.58 1977.79 1545.58 Q1981.8 1545.58 1984.13 1543.48 Q1986.47 1541.37 1986.47 1537.76 Q1986.47 1534.15 1984.13 1532.04 Q1981.8 1529.94 1977.79 1529.94 Q1975.92 1529.94 1974.04 1530.35 Q1972.19 1530.77 1970.25 1531.65 L1970.25 1514.29 Z\" fill=\"#000000\" fill-rule=\"evenodd\" fill-opacity=\"1\" /><polyline clip-path=\"url(#clip082)\" style=\"stroke:#000000; stroke-linecap:round; stroke-linejoin:round; stroke-width:2; stroke-opacity:0.1; fill:none\" points=\"\n",
       "  138.959,1445.72 2352.76,1445.72 \n",
       "  \"/>\n",
       "<polyline clip-path=\"url(#clip082)\" style=\"stroke:#000000; stroke-linecap:round; stroke-linejoin:round; stroke-width:2; stroke-opacity:0.1; fill:none\" points=\"\n",
       "  138.959,1242.68 2352.76,1242.68 \n",
       "  \"/>\n",
       "<polyline clip-path=\"url(#clip082)\" style=\"stroke:#000000; stroke-linecap:round; stroke-linejoin:round; stroke-width:2; stroke-opacity:0.1; fill:none\" points=\"\n",
       "  138.959,1039.65 2352.76,1039.65 \n",
       "  \"/>\n",
       "<polyline clip-path=\"url(#clip082)\" style=\"stroke:#000000; stroke-linecap:round; stroke-linejoin:round; stroke-width:2; stroke-opacity:0.1; fill:none\" points=\"\n",
       "  138.959,836.622 2352.76,836.622 \n",
       "  \"/>\n",
       "<polyline clip-path=\"url(#clip082)\" style=\"stroke:#000000; stroke-linecap:round; stroke-linejoin:round; stroke-width:2; stroke-opacity:0.1; fill:none\" points=\"\n",
       "  138.959,633.591 2352.76,633.591 \n",
       "  \"/>\n",
       "<polyline clip-path=\"url(#clip082)\" style=\"stroke:#000000; stroke-linecap:round; stroke-linejoin:round; stroke-width:2; stroke-opacity:0.1; fill:none\" points=\"\n",
       "  138.959,430.56 2352.76,430.56 \n",
       "  \"/>\n",
       "<polyline clip-path=\"url(#clip082)\" style=\"stroke:#000000; stroke-linecap:round; stroke-linejoin:round; stroke-width:2; stroke-opacity:0.1; fill:none\" points=\"\n",
       "  138.959,227.529 2352.76,227.529 \n",
       "  \"/>\n",
       "<polyline clip-path=\"url(#clip080)\" style=\"stroke:#000000; stroke-linecap:round; stroke-linejoin:round; stroke-width:4; stroke-opacity:1; fill:none\" points=\"\n",
       "  138.959,1486.45 138.959,47.2441 \n",
       "  \"/>\n",
       "<polyline clip-path=\"url(#clip080)\" style=\"stroke:#000000; stroke-linecap:round; stroke-linejoin:round; stroke-width:4; stroke-opacity:1; fill:none\" points=\"\n",
       "  138.959,1445.72 157.857,1445.72 \n",
       "  \"/>\n",
       "<polyline clip-path=\"url(#clip080)\" style=\"stroke:#000000; stroke-linecap:round; stroke-linejoin:round; stroke-width:4; stroke-opacity:1; fill:none\" points=\"\n",
       "  138.959,1242.68 157.857,1242.68 \n",
       "  \"/>\n",
       "<polyline clip-path=\"url(#clip080)\" style=\"stroke:#000000; stroke-linecap:round; stroke-linejoin:round; stroke-width:4; stroke-opacity:1; fill:none\" points=\"\n",
       "  138.959,1039.65 157.857,1039.65 \n",
       "  \"/>\n",
       "<polyline clip-path=\"url(#clip080)\" style=\"stroke:#000000; stroke-linecap:round; stroke-linejoin:round; stroke-width:4; stroke-opacity:1; fill:none\" points=\"\n",
       "  138.959,836.622 157.857,836.622 \n",
       "  \"/>\n",
       "<polyline clip-path=\"url(#clip080)\" style=\"stroke:#000000; stroke-linecap:round; stroke-linejoin:round; stroke-width:4; stroke-opacity:1; fill:none\" points=\"\n",
       "  138.959,633.591 157.857,633.591 \n",
       "  \"/>\n",
       "<polyline clip-path=\"url(#clip080)\" style=\"stroke:#000000; stroke-linecap:round; stroke-linejoin:round; stroke-width:4; stroke-opacity:1; fill:none\" points=\"\n",
       "  138.959,430.56 157.857,430.56 \n",
       "  \"/>\n",
       "<polyline clip-path=\"url(#clip080)\" style=\"stroke:#000000; stroke-linecap:round; stroke-linejoin:round; stroke-width:4; stroke-opacity:1; fill:none\" points=\"\n",
       "  138.959,227.529 157.857,227.529 \n",
       "  \"/>\n",
       "<path clip-path=\"url(#clip080)\" d=\"M91.0151 1431.51 Q87.404 1431.51 85.5753 1435.08 Q83.7697 1438.62 83.7697 1445.75 Q83.7697 1452.86 85.5753 1456.42 Q87.404 1459.96 91.0151 1459.96 Q94.6493 1459.96 96.4548 1456.42 Q98.2835 1452.86 98.2835 1445.75 Q98.2835 1438.62 96.4548 1435.08 Q94.6493 1431.51 91.0151 1431.51 M91.0151 1427.81 Q96.8252 1427.81 99.8808 1432.42 Q102.959 1437 102.959 1445.75 Q102.959 1454.48 99.8808 1459.08 Q96.8252 1463.67 91.0151 1463.67 Q85.2049 1463.67 82.1262 1459.08 Q79.0707 1454.48 79.0707 1445.75 Q79.0707 1437 82.1262 1432.42 Q85.2049 1427.81 91.0151 1427.81 Z\" fill=\"#000000\" fill-rule=\"evenodd\" fill-opacity=\"1\" /><path clip-path=\"url(#clip080)\" d=\"M86.6401 1256.03 L102.959 1256.03 L102.959 1259.96 L81.0151 1259.96 L81.0151 1256.03 Q83.6771 1253.27 88.2604 1248.65 Q92.8669 1243.99 94.0475 1242.65 Q96.2928 1240.13 97.1724 1238.39 Q98.0752 1236.63 98.0752 1234.94 Q98.0752 1232.19 96.1308 1230.45 Q94.2095 1228.71 91.1077 1228.71 Q88.9086 1228.71 86.4549 1229.48 Q84.0244 1230.24 81.2466 1231.79 L81.2466 1227.07 Q84.0707 1225.94 86.5243 1225.36 Q88.978 1224.78 91.0151 1224.78 Q96.3854 1224.78 99.5798 1227.46 Q102.774 1230.15 102.774 1234.64 Q102.774 1236.77 101.964 1238.69 Q101.177 1240.59 99.0706 1243.18 Q98.4919 1243.85 95.39 1247.07 Q92.2882 1250.27 86.6401 1256.03 Z\" fill=\"#000000\" fill-rule=\"evenodd\" fill-opacity=\"1\" /><path clip-path=\"url(#clip080)\" d=\"M93.3762 1026.45 L81.5707 1044.9 L93.3762 1044.9 L93.3762 1026.45 M92.1493 1022.37 L98.0289 1022.37 L98.0289 1044.9 L102.959 1044.9 L102.959 1048.79 L98.0289 1048.79 L98.0289 1056.93 L93.3762 1056.93 L93.3762 1048.79 L77.7744 1048.79 L77.7744 1044.27 L92.1493 1022.37 Z\" fill=\"#000000\" fill-rule=\"evenodd\" fill-opacity=\"1\" /><path clip-path=\"url(#clip080)\" d=\"M91.4317 834.759 Q88.2836 834.759 86.4318 836.912 Q84.6031 839.065 84.6031 842.815 Q84.6031 846.541 86.4318 848.717 Q88.2836 850.87 91.4317 850.87 Q94.5799 850.87 96.4085 848.717 Q98.2604 846.541 98.2604 842.815 Q98.2604 839.065 96.4085 836.912 Q94.5799 834.759 91.4317 834.759 M100.714 820.106 L100.714 824.366 Q98.9548 823.532 97.1493 823.092 Q95.3669 822.653 93.6076 822.653 Q88.978 822.653 86.5243 825.778 Q84.0938 828.903 83.7466 835.222 Q85.1123 833.208 87.1725 832.143 Q89.2327 831.055 91.7095 831.055 Q96.9178 831.055 99.927 834.227 Q102.959 837.375 102.959 842.815 Q102.959 848.139 99.8113 851.356 Q96.6632 854.574 91.4317 854.574 Q85.4364 854.574 82.2651 849.99 Q79.0938 845.384 79.0938 836.657 Q79.0938 828.463 82.9827 823.602 Q86.8716 818.717 93.4225 818.717 Q95.1817 818.717 96.9641 819.065 Q98.7696 819.412 100.714 820.106 Z\" fill=\"#000000\" fill-rule=\"evenodd\" fill-opacity=\"1\" /><path clip-path=\"url(#clip080)\" d=\"M91.1077 634.459 Q87.7743 634.459 85.8531 636.242 Q83.9549 638.024 83.9549 641.149 Q83.9549 644.274 85.8531 646.057 Q87.7743 647.839 91.1077 647.839 Q94.441 647.839 96.3623 646.057 Q98.2835 644.251 98.2835 641.149 Q98.2835 638.024 96.3623 636.242 Q94.4641 634.459 91.1077 634.459 M86.4318 632.469 Q83.4225 631.728 81.7327 629.668 Q80.066 627.608 80.066 624.645 Q80.066 620.501 83.0058 618.094 Q85.9688 615.686 91.1077 615.686 Q96.2697 615.686 99.2095 618.094 Q102.149 620.501 102.149 624.645 Q102.149 627.608 100.459 629.668 Q98.7928 631.728 95.8067 632.469 Q99.1863 633.256 101.061 635.547 Q102.959 637.839 102.959 641.149 Q102.959 646.172 99.8808 648.857 Q96.8252 651.543 91.1077 651.543 Q85.3901 651.543 82.3114 648.857 Q79.2559 646.172 79.2559 641.149 Q79.2559 637.839 81.154 635.547 Q83.0521 633.256 86.4318 632.469 M84.7188 625.084 Q84.7188 627.77 86.3855 629.274 Q88.0753 630.779 91.1077 630.779 Q94.1169 630.779 95.8067 629.274 Q97.5197 627.77 97.5197 625.084 Q97.5197 622.399 95.8067 620.895 Q94.1169 619.39 91.1077 619.39 Q88.0753 619.39 86.3855 620.895 Q84.7188 622.399 84.7188 625.084 Z\" fill=\"#000000\" fill-rule=\"evenodd\" fill-opacity=\"1\" /><path clip-path=\"url(#clip080)\" d=\"M51.6634 443.905 L59.3023 443.905 L59.3023 417.539 L50.9921 419.206 L50.9921 414.947 L59.256 413.28 L63.9319 413.28 L63.9319 443.905 L71.5707 443.905 L71.5707 447.84 L51.6634 447.84 L51.6634 443.905 Z\" fill=\"#000000\" fill-rule=\"evenodd\" fill-opacity=\"1\" /><path clip-path=\"url(#clip080)\" d=\"M91.0151 416.359 Q87.404 416.359 85.5753 419.924 Q83.7697 423.465 83.7697 430.595 Q83.7697 437.701 85.5753 441.266 Q87.404 444.808 91.0151 444.808 Q94.6493 444.808 96.4548 441.266 Q98.2835 437.701 98.2835 430.595 Q98.2835 423.465 96.4548 419.924 Q94.6493 416.359 91.0151 416.359 M91.0151 412.655 Q96.8252 412.655 99.8808 417.262 Q102.959 421.845 102.959 430.595 Q102.959 439.322 99.8808 443.928 Q96.8252 448.512 91.0151 448.512 Q85.2049 448.512 82.1262 443.928 Q79.0707 439.322 79.0707 430.595 Q79.0707 421.845 82.1262 417.262 Q85.2049 412.655 91.0151 412.655 Z\" fill=\"#000000\" fill-rule=\"evenodd\" fill-opacity=\"1\" /><path clip-path=\"url(#clip080)\" d=\"M53.2606 240.874 L60.8995 240.874 L60.8995 214.508 L52.5893 216.175 L52.5893 211.916 L60.8532 210.249 L65.5291 210.249 L65.5291 240.874 L73.1679 240.874 L73.1679 244.809 L53.2606 244.809 L53.2606 240.874 Z\" fill=\"#000000\" fill-rule=\"evenodd\" fill-opacity=\"1\" /><path clip-path=\"url(#clip080)\" d=\"M86.6401 240.874 L102.959 240.874 L102.959 244.809 L81.0151 244.809 L81.0151 240.874 Q83.6771 238.119 88.2604 233.49 Q92.8669 228.837 94.0475 227.494 Q96.2928 224.971 97.1724 223.235 Q98.0752 221.476 98.0752 219.786 Q98.0752 217.032 96.1308 215.295 Q94.2095 213.559 91.1077 213.559 Q88.9086 213.559 86.4549 214.323 Q84.0244 215.087 81.2466 216.638 L81.2466 211.916 Q84.0707 210.782 86.5243 210.203 Q88.978 209.624 91.0151 209.624 Q96.3854 209.624 99.5798 212.309 Q102.774 214.994 102.774 219.485 Q102.774 221.615 101.964 223.536 Q101.177 225.434 99.0706 228.027 Q98.4919 228.698 95.39 231.916 Q92.2882 235.11 86.6401 240.874 Z\" fill=\"#000000\" fill-rule=\"evenodd\" fill-opacity=\"1\" /><polyline clip-path=\"url(#clip082)\" style=\"stroke:#009af9; stroke-linecap:round; stroke-linejoin:round; stroke-width:4; stroke-opacity:1; fill:none\" points=\"\n",
       "  442.929,1445.72 1043.79,1214.59 1510.11,510.33 2048.79,87.9763 \n",
       "  \"/>\n",
       "<circle clip-path=\"url(#clip082)\" cx=\"442.929\" cy=\"1445.72\" r=\"14.4\" fill=\"#e26f46\" fill-rule=\"evenodd\" fill-opacity=\"1\" stroke=\"#000000\" stroke-opacity=\"1\" stroke-width=\"3.2\"/>\n",
       "<circle clip-path=\"url(#clip082)\" cx=\"1043.79\" cy=\"1214.59\" r=\"14.4\" fill=\"#e26f46\" fill-rule=\"evenodd\" fill-opacity=\"1\" stroke=\"#000000\" stroke-opacity=\"1\" stroke-width=\"3.2\"/>\n",
       "<circle clip-path=\"url(#clip082)\" cx=\"1510.11\" cy=\"510.33\" r=\"14.4\" fill=\"#e26f46\" fill-rule=\"evenodd\" fill-opacity=\"1\" stroke=\"#000000\" stroke-opacity=\"1\" stroke-width=\"3.2\"/>\n",
       "<circle clip-path=\"url(#clip082)\" cx=\"2048.79\" cy=\"87.9763\" r=\"14.4\" fill=\"#e26f46\" fill-rule=\"evenodd\" fill-opacity=\"1\" stroke=\"#000000\" stroke-opacity=\"1\" stroke-width=\"3.2\"/>\n",
       "<circle clip-path=\"url(#clip082)\" cx=\"1543.78\" cy=\"483.934\" r=\"14.4\" fill=\"#3da44d\" fill-rule=\"evenodd\" fill-opacity=\"1\" stroke=\"#000000\" stroke-opacity=\"1\" stroke-width=\"3.2\"/>\n",
       "<circle clip-path=\"url(#clip082)\" cx=\"1661.12\" cy=\"633.591\" r=\"14.4\" fill=\"#c271d2\" fill-rule=\"evenodd\" fill-opacity=\"1\" stroke=\"#000000\" stroke-opacity=\"1\" stroke-width=\"3.2\"/>\n",
       "</svg>\n"
      ]
     },
     "execution_count": 7,
     "metadata": {},
     "output_type": "execute_result"
    }
   ],
   "source": [
    "plot!([progress[1]],[progress[3]],seriestype=:scatter)\n",
    "plot!([position[1]],[position[3]],seriestype=:scatter)"
   ]
  }
 ],
 "metadata": {
  "kernelspec": {
   "display_name": "Julia 1.8.0",
   "language": "julia",
   "name": "julia-1.8"
  },
  "language_info": {
   "file_extension": ".jl",
   "mimetype": "application/julia",
   "name": "julia",
   "version": "1.8.0"
  }
 },
 "nbformat": 4,
 "nbformat_minor": 5
}
