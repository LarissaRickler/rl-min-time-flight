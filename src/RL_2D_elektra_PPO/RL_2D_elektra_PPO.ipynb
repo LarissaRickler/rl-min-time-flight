{
 "cells": [
  {
   "cell_type": "markdown",
   "id": "0649b76a",
   "metadata": {},
   "source": [
    "# Init Bionic VTOL"
   ]
  },
  {
   "cell_type": "code",
   "execution_count": 1,
   "id": "96751412",
   "metadata": {},
   "outputs": [],
   "source": [
    "include(\"../Flyonic.jl\");\n",
    "using .Flyonic;\n",
    "\n",
    "using Rotations; # used for initial position\n",
    "\n",
    "using ReinforcementLearning;\n",
    "using StableRNGs;\n",
    "using Flux;\n",
    "using Flux.Losses;\n",
    "using Random;\n",
    "using IntervalSets;\n",
    "using LinearAlgebra;\n",
    "using Distributions;\n",
    "\n",
    "using Plots;\n",
    "using Statistics;\n",
    "\n",
    "using JLD;\n",
    "using BSON: @save, @load # save mode"
   ]
  },
  {
   "cell_type": "code",
   "execution_count": 2,
   "id": "f7e4ee64",
   "metadata": {},
   "outputs": [
    {
     "name": "stderr",
     "output_type": "stream",
     "text": [
      "\u001b[36m\u001b[1m┌ \u001b[22m\u001b[39m\u001b[36m\u001b[1mInfo: \u001b[22m\u001b[39mMeshCat server started. You can open the visualizer by visiting the following URL in your browser:\n",
      "\u001b[36m\u001b[1m└ \u001b[22m\u001b[39mhttp://127.0.0.1:8701\n"
     ]
    }
   ],
   "source": [
    "create_visualization();"
   ]
  },
  {
   "cell_type": "code",
   "execution_count": 3,
   "id": "7d9557df",
   "metadata": {},
   "outputs": [
    {
     "data": {
      "text/plain": [
       "1"
      ]
     },
     "execution_count": 3,
     "metadata": {},
     "output_type": "execute_result"
    }
   ],
   "source": [
    "# indicates how many threads Julia was started with. This is important for the multi-threaded environment\n",
    "Threads.nthreads()"
   ]
  },
  {
   "cell_type": "markdown",
   "id": "5411db62",
   "metadata": {},
   "source": [
    "# Create Reinforcement Learning Environment"
   ]
  },
  {
   "cell_type": "code",
   "execution_count": 4,
   "id": "c4ede3b2",
   "metadata": {},
   "outputs": [],
   "source": [
    "# TODO: set as desired\n",
    "R_TOL = 1.0;\n",
    "N_WAYPOINTS = 4; # including startpoint, >= 2\n",
    "SLOW_MODE = true;\n",
    "TRAINING = false;\n",
    "EVALUATION = false;"
   ]
  },
  {
   "cell_type": "code",
   "execution_count": 5,
   "id": "96af6ee0",
   "metadata": {},
   "outputs": [],
   "source": [
    "# Parametric Constructor for a subtype of AbstractEnv\n",
    "mutable struct VtolEnv{A,T,ACT,R<:AbstractRNG} <: AbstractEnv \n",
    "    action_space::A # action space\n",
    "    observation_space::Space{Vector{ClosedInterval{T}}} # observation space\n",
    "    state::Vector{T} # current state space\n",
    "    action::ACT # action space\n",
    "    done::Bool # done\n",
    "    t::T # time\n",
    "    rng::R # random number generator\n",
    "\n",
    "    name::String # for multible environoments\n",
    "    visualization::Bool # visualization\n",
    "    realtime::Bool # realtime\n",
    "    \n",
    "    # Everything you need aditionaly can also go in here.\n",
    "    x_W::Vector{T} # current position\n",
    "    v_B::Vector{T} # velocity\n",
    "    R_W::Matrix{T} # current rotation\n",
    "    ω_B::Vector{T} # rotation velocitiy\n",
    "    wind_W::Vector{T} # wind\n",
    "    Δt::T # Δ time\n",
    "    \n",
    "    # Current Bonus / Target\n",
    "    num_waypoints::Int # includig start point\n",
    "    waypoints::Vector{Vector{T}}\n",
    "    reached_goal::BitVector\n",
    "    \n",
    "    norm_way::T\n",
    "    progress::T\n",
    "    progress_prev::T\n",
    "    current_point::Int\n",
    "    reached_goal_in_step::Bool\n",
    "    \n",
    "    r_tol::T # tolerance within drones has to reach waypoint\n",
    "    projected_position::Vector{T} # projected position of drone along trajectory\n",
    "\n",
    "    slow_mode::Bool # slow flight learning mode\n",
    "end"
   ]
  },
  {
   "cell_type": "code",
   "execution_count": 6,
   "id": "14a6873d",
   "metadata": {},
   "outputs": [],
   "source": [
    "# define a keyword-based constructor for the type declared in the mutable struct typedef. \n",
    "# It could also be done with the macro Base.@kwdef.\n",
    "function VtolEnv(;\n",
    "    rng = Random.GLOBAL_RNG, # Random number generation\n",
    "    name = \"vtol\",\n",
    "    visualization = false,\n",
    "    realtime = false,\n",
    "    kwargs... # let the function take an arbitrary number of keyword arguments \n",
    ")\n",
    "    \n",
    "    T = Float64; # explicit type which is used e.g. in state. Cannot be altered due to the poor matrix defininon.\n",
    "\n",
    "    \n",
    "    action_space = Space(\n",
    "        ClosedInterval{T}[\n",
    "            0.0..2.0, # propeller 1\n",
    "            0.0..2.0, # propeller 2\n",
    "            ], \n",
    "    )\n",
    "\n",
    "    \n",
    "    state_space = Space( # Three continuous values in state space.\n",
    "        ClosedInterval{T}[\n",
    "            # orientate yourself on the state space from the paper\n",
    "            typemin(T)..typemax(T), # position along x\n",
    "            typemin(T)..typemax(T), # position along z\n",
    "            \n",
    "            typemin(T)..typemax(T), # orientation along x\n",
    "            typemin(T)..typemax(T), # orientation along z\n",
    "            \n",
    "            typemin(T)..typemax(T), # velocity along x BODY coordinates\n",
    "            typemin(T)..typemax(T), # velocity along y BODY coordinates\n",
    "            \n",
    "            typemin(T)..typemax(T), # rotational velocity along z BODY coordinates\n",
    "            \n",
    "            typemin(T)..typemax(T), # position error along x (next gate - current position)\n",
    "            typemin(T)..typemax(T), # position error along z (next gate - current position)\n",
    "            \n",
    "            typemin(T)..typemax(T), # way to next next gate x (next next gate - next gate)\n",
    "            typemin(T)..typemax(T), # way to next next gate z (next next gate - next gate)\n",
    "            ], \n",
    "    )\n",
    "    \n",
    "    num_waypoints = N_WAYPOINTS # number of waypoints, includig start point\n",
    "    waypoints = generate_trajectory_2D(num_waypoints + 1) # trajectory with num_waypoints waypoints (+ start point), (with dummy points) \n",
    "    reached_goal = falses(num_waypoints)\n",
    "    \n",
    "    norm_way = 0.0 \n",
    "    for i in 1:(num_waypoints - 1)\n",
    "        norm_way += norm(waypoints[i] - waypoints[i + 1])\n",
    "    end\n",
    "    \n",
    "    if visualization #visualizes VTOL and waypoints\n",
    "        create_VTOL(name, actuators = true, color_vec=[1.0; 1.0; 0.6; 1.0]);\n",
    "        visualize_waypoints(waypoints[1:num_waypoints], 0.15)\n",
    "    end\n",
    "\n",
    "    environment = VtolEnv(\n",
    "        action_space,\n",
    "        state_space, \n",
    "        zeros(T, length(state_space)), # current state, needs to be extended\n",
    "        rand(action_space), #initialization action\n",
    "        false, # episode done \n",
    "        0.0, # time\n",
    "        rng, # random number generator  \n",
    "        \n",
    "        name,\n",
    "        visualization,\n",
    "        realtime,\n",
    "        \n",
    "        zeros(T, 3), # x_W, current position\n",
    "        zeros(T, 3), # v_B, velocity\n",
    "        [1.0 0.0 0.0; 0.0 1.0 0.0; 0.0 0.0 1.0], # R_W, current rotation, Float64... so T needs to be Float64\n",
    "        zeros(T, 3), # ω_B\n",
    "        zeros(T, 3), # wind_W\n",
    "        T(0.025), # Δt \n",
    "        \n",
    "        num_waypoints, # includig start point\n",
    "        waypoints, \n",
    "        reached_goal,\n",
    "        \n",
    "        norm_way, # norm_way\n",
    "        0.0, # progress\n",
    "        0.0, # progress_prev\n",
    "        2, # current point\n",
    "        false, # reached_goal_in_step\n",
    "        \n",
    "        R_TOL, # r_tol\n",
    "        zeros(T, 3), # projected_position\n",
    "\n",
    "        SLOW_MODE # slow_mode\n",
    "    )\n",
    "    \n",
    "    \n",
    "    reset!(environment)\n",
    "    \n",
    "    return environment\n",
    "    \n",
    "end;"
   ]
  },
  {
   "cell_type": "markdown",
   "id": "ec660d5e",
   "metadata": {},
   "source": [
    "Just for explanation:\n",
    "\n",
    "1. A mutable Struct is created. A struct is a constructor and a constructor is a function that creates new objects.\n",
    "2. A outer keyword-based constructor method is added for the type declared in the mutable struct typedef before.\n",
    "\n",
    "So now we have a function with two methods. Julia will decide which method to call by multiple dispatch."
   ]
  },
  {
   "cell_type": "code",
   "execution_count": 7,
   "id": "dc3c4bb3",
   "metadata": {},
   "outputs": [
    {
     "data": {
      "text/html": [
       "# 2 methods for type constructor:<ul><li> VtolEnv(; <i>rng, name, visualization, realtime, kwargs...</i>) in Main at In[6]:3</li> <li> VtolEnv(action_space::<b>A</b>, observation_space::<b>Space{Array{ClosedInterval{T}, 1}}</b>, state::<b>Vector{T}</b>, action::<b>ACT</b>, done::<b>Bool</b>, t::<b>T</b>, rng::<b>R</b>, name::<b>String</b>, visualization::<b>Bool</b>, realtime::<b>Bool</b>, x_W::<b>Vector{T}</b>, v_B::<b>Vector{T}</b>, R_W::<b>Matrix{T}</b>, ω_B::<b>Vector{T}</b>, wind_W::<b>Vector{T}</b>, Δt::<b>T</b>, num_waypoints::<b>Int64</b>, waypoints::<b>Array{Vector{T}, 1}</b>, reached_goal::<b>BitVector</b>, norm_way::<b>T</b>, progress::<b>T</b>, progress_prev::<b>T</b>, current_point::<b>Int64</b>, reached_goal_in_step::<b>Bool</b>, r_tol::<b>T</b>, projected_position::<b>Vector{T}</b>, slow_mode::<b>Bool</b>)<i> where {A, T, ACT, R<:AbstractRNG}</i> in Main at In[5]:3</li> </ul>"
      ],
      "text/plain": [
       "# 2 methods for type constructor:\n",
       "[1] VtolEnv(; rng, name, visualization, realtime, kwargs...) in Main at In[6]:3\n",
       "[2] VtolEnv(action_space::A, observation_space::Space{Array{ClosedInterval{T}, 1}}, state::Vector{T}, action::ACT, done::Bool, t::T, rng::R, name::String, visualization::Bool, realtime::Bool, x_W::Vector{T}, v_B::Vector{T}, R_W::Matrix{T}, ω_B::Vector{T}, wind_W::Vector{T}, Δt::T, num_waypoints::Int64, waypoints::Array{Vector{T}, 1}, reached_goal::BitVector, norm_way::T, progress::T, progress_prev::T, current_point::Int64, reached_goal_in_step::Bool, r_tol::T, projected_position::Vector{T}, slow_mode::Bool) where {A, T, ACT, R<:AbstractRNG} in Main at In[5]:3"
      ]
     },
     "execution_count": 7,
     "metadata": {},
     "output_type": "execute_result"
    }
   ],
   "source": [
    "methods(VtolEnv)"
   ]
  },
  {
   "cell_type": "markdown",
   "id": "806413d1",
   "metadata": {},
   "source": [
    "# Define the RL interface"
   ]
  },
  {
   "cell_type": "code",
   "execution_count": 8,
   "id": "0f822029",
   "metadata": {},
   "outputs": [],
   "source": [
    "Random.seed!(env::VtolEnv, seed) = Random.seed!(env.rng, seed)\n",
    "RLBase.action_space(env::VtolEnv) = env.action_space\n",
    "RLBase.state_space(env::VtolEnv) = env.observation_space\n",
    "RLBase.is_terminated(env::VtolEnv) = env.done\n",
    "RLBase.state(env::VtolEnv) = env.state"
   ]
  },
  {
   "cell_type": "code",
   "execution_count": 9,
   "id": "2b48de74",
   "metadata": {},
   "outputs": [],
   "source": [
    "function scale_for_slowmode(slow_mode::Bool, v_min::T, v_max::T, d_max::T, x_W::Vector{T}, projected_position::Vector{T}, v_B::Vector{T}) where T\n",
    "    \n",
    "    if slow_mode == false\n",
    "        return 1\n",
    "    else\n",
    "        if norm(v_B) > v_max\n",
    "            s_vmax = 10^(v_max - norm(v_B))\n",
    "        else\n",
    "            s_vmax = 1\n",
    "        end\n",
    "\n",
    "        if norm(v_B) < v_min\n",
    "            s_vmin = 10^(norm(v_B) - v_min)\n",
    "        else\n",
    "            s_vmin = 1\n",
    "        end\n",
    "\n",
    "        if norm(x_W - projected_position) > d_max\n",
    "            s_gd = exp(-norm(x_W - projected_position) + d_max)\n",
    "        else\n",
    "            s_gd = 1\n",
    "        end\n",
    "        s = s_vmax * s_vmin * s_gd\n",
    "    end\n",
    "    return s\n",
    "end;"
   ]
  },
  {
   "cell_type": "code",
   "execution_count": 10,
   "id": "1f7fb89c",
   "metadata": {},
   "outputs": [],
   "source": [
    "function computeReward(env::VtolEnv{A,T}) where {A,T}\n",
    "    \n",
    "    \n",
    "    if env.slow_mode\n",
    "        v_min = 1.0 # min velocity\n",
    "        v_max = 3.0 # max velocity\n",
    "        d_max = 0.5 \n",
    "    else\n",
    "        v_min = 4.0 # min velocity\n",
    "        v_max = 50.0 # max velocity\n",
    "        d_max = 1.0 \n",
    "    end\n",
    "\n",
    "\n",
    "    s = scale_for_slowmode(true, v_min, v_max, d_max, env.x_W, env.projected_position, env.v_B)\n",
    "    \n",
    "    k_p = 5.0 * s #/ env.norm_way # factor for progress (between current position and last position) reward \n",
    "    r_p = (env.progress - env.progress_prev); # reward for progress (between current position and last position)\n",
    "\n",
    "    k_s = s * (2 * v_max * env.Δt) / env.norm_way # factor for reached distance (overall) reward\n",
    "    r_s = env.progress # reward for reached distance (overall)\n",
    "    \n",
    "    k_wp = 50.0 # factor for reached gate reward\n",
    "    r_wp = 0.0 # reward for reached gate\n",
    "    if env.reached_goal_in_step\n",
    "        r_wp = exp(-norm(env.x_W - env.waypoints[env.current_point - 1])/env.r_tol)\n",
    "    end \n",
    "\n",
    "    # factor for too high body rate penalty\n",
    "    if env.slow_mode\n",
    "        k_ω = 0.01\n",
    "    else\n",
    "        k_ω = 0.001\n",
    "    end\n",
    "    norm_ω = norm(env.ω_B[3]) # penalty for body rate\n",
    "\n",
    "    if env.x_W[3] < -2\n",
    "        fall = 1\n",
    "    else\n",
    "        fall = 0\n",
    "    end\n",
    "    \n",
    "    if !env.slow_mode\n",
    "        k_s /= env.norm_way\n",
    "        k_p /= env.norm_way\n",
    "    end\n",
    "\n",
    "    return k_p * r_p + k_s * r_s + k_wp * r_wp - k_ω * norm_ω - fall \n",
    "    \n",
    "end\n",
    "\n",
    "\n",
    "RLBase.reward(env::VtolEnv{A,T}) where {A,T} = computeReward(env)"
   ]
  },
  {
   "cell_type": "code",
   "execution_count": 11,
   "id": "ae45ec04",
   "metadata": {},
   "outputs": [],
   "source": [
    "function RLBase.reset!(env::VtolEnv{A,T}) where {A,T}\n",
    "    # Visualize initial state\n",
    "    if env.visualization\n",
    "        set_transform(env.name, env.x_W, QuatRotation(env.R_W));\n",
    "        set_actuators(env.name, [0.0; 0.0; 0.0; 0.0]);\n",
    "    end\n",
    "    \n",
    "    env.x_W = [0.0; 0.0; 0.0];\n",
    "    env.v_B = [0.0; 0.0; 0.0];\n",
    "    env.R_W = Matrix(UnitQuaternion(RotZ(-pi/2.0)*RotY(-pi/2.0)*RotX(pi)));\n",
    "\n",
    "    env.ω_B = [0.0; 0.0; 0.0];\n",
    "    env.wind_W = [0.0; 0.0; 0.0];\n",
    "    \n",
    "    \n",
    "    env.waypoints = generate_trajectory_2D(env.num_waypoints + 1); # Dummy points\n",
    "    env.reached_goal = falses(env.num_waypoints);\n",
    "    env.reached_goal[1] = true; # set first point to reached (start point)\n",
    "    \n",
    "    env.current_point = 2;\n",
    "    env.reached_goal_in_step = false;\n",
    "    \n",
    "    if env.visualization\n",
    "        visualize_waypoints(env.waypoints[1:env.num_waypoints], 0.15); \n",
    "    end\n",
    "    \n",
    "    norm_way = 0.0 \n",
    "    for i in 1:(env.num_waypoints - 1)\n",
    "        norm_way += norm(env.waypoints[i] - env.waypoints[i + 1])\n",
    "    end\n",
    "    \n",
    "    env.norm_way = norm_way\n",
    "    env.progress = 0.0;\n",
    "    env.progress_prev = 0.0;\n",
    "    \n",
    "    \n",
    "    env.state = [env.x_W[1]; # position along x\n",
    "                 env.x_W[3]; # position along z\n",
    "        \n",
    "                 env.R_W[1,1]; # orientation along x\n",
    "                 env.R_W[3,1]; # orientation along z\n",
    "        \n",
    "                 env.v_B[1]; # velocity along x BODY coordinates\n",
    "                 env.v_B[2]; # velocity along y BODY coordinates  \n",
    "        \n",
    "                 env.ω_B[3]; # rotational velocity along z BODY coordinates\n",
    "        \n",
    "                 env.waypoints[2][1] - env.x_W[1]; # position error to next gate along x\n",
    "                 env.waypoints[2][3] - env.x_W[3]; # position error to next gate along z\n",
    "                 \n",
    "                 env.waypoints[3][1] - env.waypoints[2][1]; # way to next next gate x \n",
    "                 env.waypoints[3][3] - env.waypoints[2][3]] # way to next next gate z \n",
    "        \n",
    "    env.t = 0.0;\n",
    "    env.action = [0.0, 0.0];\n",
    "    env.done = false;\n",
    "\n",
    "    env.projected_position = [0; 0; 0]\n",
    "    \n",
    "    nothing\n",
    "\n",
    "end;"
   ]
  },
  {
   "cell_type": "code",
   "execution_count": 12,
   "id": "1cf1a7b7",
   "metadata": {},
   "outputs": [],
   "source": [
    "# defines a methods for a callable object.\n",
    "# So when a VtolEnv object is created, it has this method that can be called\n",
    "function (env::VtolEnv)(a)\n",
    "    # set the propeller trust and the two flaps 2D case\n",
    "    next_action = [a[1], a[2], 0.0, 0.0]\n",
    "   \n",
    "    _step!(env, next_action)\n",
    "end"
   ]
  },
  {
   "cell_type": "code",
   "execution_count": 13,
   "id": "b0e9eb59",
   "metadata": {},
   "outputs": [],
   "source": [
    "env = VtolEnv();"
   ]
  },
  {
   "cell_type": "code",
   "execution_count": 14,
   "id": "26a116cb",
   "metadata": {},
   "outputs": [
    {
     "data": {
      "text/html": [
       "# 3 methods for callable object:<ul><li> (env::<b>VtolEnv</b>)(a) in Main at In[12]:3</li> <li> (env::<b>AbstractEnv</b>)(action) in ReinforcementLearningBase</li> <li> (env::<b>AbstractEnv</b>)(action, player) in ReinforcementLearningBase</li> </ul>"
      ],
      "text/plain": [
       "# 3 methods for callable object:\n",
       "[1] (env::VtolEnv)(a) in Main at In[12]:3\n",
       "[2] (env::AbstractEnv)(action) in ReinforcementLearningBase\n",
       "[3] (env::AbstractEnv)(action, player) in ReinforcementLearningBase"
      ]
     },
     "execution_count": 14,
     "metadata": {},
     "output_type": "execute_result"
    }
   ],
   "source": [
    "methods(env) # Just to explain which methods the object has"
   ]
  },
  {
   "cell_type": "code",
   "execution_count": 15,
   "id": "9e7d4727",
   "metadata": {},
   "outputs": [],
   "source": [
    "function _step!(env::VtolEnv, next_action)\n",
    "    # caluclate wind impact\n",
    "    v_in_wind_B = vtol_add_wind(env.v_B, env.R_W, env.wind_W)\n",
    "    # caluclate aerodynamic forces\n",
    "    torque_B, force_B = vtol_model(v_in_wind_B, next_action, eth_vtol_param);\n",
    "    # Limit to 2D\n",
    "    force_B[3] = 0.0; # Body Z\n",
    "    env.v_B[3] = 0.0;\n",
    "    torque_B[1] = 0.0; torque_B[2] = 0.0;  # Body X and Y\n",
    "    env.ω_B[1] = 0.0; env.ω_B[2] = 0.0;\n",
    "    # integrate rigid body dynamics for Δt\n",
    "    env.x_W, env.v_B, env.R_W, env.ω_B, time = rigid_body_simple(torque_B, force_B, env.x_W, env.v_B, env.R_W, env.ω_B, env.t, env.Δt, eth_vtol_param)\n",
    "    \n",
    "    \n",
    "    env.reached_goal_in_step = false;\n",
    "    if norm(env.x_W - env.waypoints[env.current_point]) < env.r_tol\n",
    "        env.reached_goal_in_step = true;\n",
    "        env.reached_goal[env.current_point] = true;\n",
    "        env.current_point += 1;\n",
    "    end\n",
    "        \n",
    "            \n",
    "    # calculate progress on trajectory\n",
    "    env.progress_prev = env.progress\n",
    "    \n",
    "    current_progress = 0.0\n",
    "    line_segment, env.projected_position = calculate_progress(env.waypoints, env.x_W)\n",
    "\n",
    "    for i in 2:(line_segment)\n",
    "       current_progress +=  norm(env.waypoints[i] - env.waypoints[i - 1])  \n",
    "    end\n",
    "    current_progress += norm(env.waypoints[line_segment] - env.projected_position)\n",
    "    \n",
    "    env.progress = current_progress\n",
    "    \n",
    "\n",
    "    if env.realtime\n",
    "        sleep(env.Δt) # TODO: just a dirty hack. this is of course slower than real time.\n",
    "    end\n",
    "\n",
    "    # Visualize the new state \n",
    "    if env.visualization\n",
    "        set_transform(env.name, env.x_W, QuatRotation(env.R_W));\n",
    "        set_actuators(env.name, next_action)\n",
    "        \n",
    "        for i in eachindex(env.reached_goal)\n",
    "            if env.reached_goal[i]\n",
    "                create_sphere(\"fixgoal_$i\", 0.2, color=RGBA{Float32}(1.0, 0.0, 0.0, 1.0));\n",
    "                set_transform(\"fixgoal_$i\", env.waypoints[i]);\n",
    "            end\n",
    "        end\n",
    "    end\n",
    " \n",
    "\n",
    "    env.t += env.Δt\n",
    "    \n",
    "    env.state[1] = env.x_W[1]; # position along x\n",
    "    env.state[2] = env.x_W[3]; # position along z\n",
    "    \n",
    "    env.state[3] = env.R_W[1,1]; # orientation along x\n",
    "    env.state[4] = env.R_W[3,1]; # orientation along z\n",
    "    \n",
    "    env.state[5] = env.v_B[1]; # velocity along x BODY coordinates\n",
    "    env.state[6] = env.v_B[2]; # velocity along y BODY coordinates\n",
    "    \n",
    "    env.state[7] = env.ω_B[3];  # rotational velocity along z BODY coordinates\n",
    "      \n",
    "    env.state[8] = env.waypoints[env.current_point][1] - env.x_W[1]; # position error along x, dummy integriert\n",
    "    env.state[9] = env.waypoints[env.current_point][3] - env.x_W[3]; # position error along z, dummy integriert\n",
    "    \n",
    "    if env.current_point <= env.num_waypoints\n",
    "        env.state[10] = env.waypoints[env.current_point + 1][1] - env.waypoints[env.current_point][1] ; # way to next next gate x (next next gate - next gate), dummy integriert\n",
    "        env.state[11] = env.waypoints[env.current_point + 1][3] - env.waypoints[env.current_point][3]; # way to next next gate z (next next gate - next gate), dummy integriert\n",
    "    end\n",
    "        \n",
    "    \n",
    "    # Termination criteria\n",
    "    env.done = #true\n",
    "        # After time... How fast is drone+Range of desired point\n",
    "        # After reaching position (circle of r_tol)\n",
    "        norm(env.ω_B) > 100.0 || \n",
    "        norm(env.v_B) > 100.0 || # stop if body is too fast_point \n",
    "        env.x_W[3] < -5.0 || # stop if body is below -5m\n",
    "        env.t > env.num_waypoints * 3.0 ||# stop after 3s per point\n",
    "        norm(env.x_W - env.projected_position) > 5.0 || # too far off the path \n",
    "        env.reached_goal == trues(env.num_waypoints)\n",
    "\n",
    "    nothing\n",
    "end;"
   ]
  },
  {
   "cell_type": "code",
   "execution_count": 16,
   "id": "6e1cd988",
   "metadata": {
    "scrolled": false
   },
   "outputs": [
    {
     "name": "stdout",
     "output_type": "stream",
     "text": [
      "\u001b[0m\u001b[1mTest Summary:              | \u001b[22m\u001b[32m\u001b[1mPass  \u001b[22m\u001b[39m\u001b[36m\u001b[1mTotal  \u001b[22m\u001b[39m\u001b[0m\u001b[1mTime\u001b[22m\n",
      "random policy with VtolEnv | \u001b[32m2000  \u001b[39m\u001b[36m 2000  \u001b[39m\u001b[0m2.7s\n"
     ]
    },
    {
     "data": {
      "text/plain": [
       "Test.DefaultTestSet(\"random policy with VtolEnv\", Any[], 2000, false, false, true, 1.674594454441571e9, 1.674594457167686e9)"
      ]
     },
     "execution_count": 16,
     "metadata": {},
     "output_type": "execute_result"
    }
   ],
   "source": [
    "RLBase.test_runnable!(env)"
   ]
  },
  {
   "cell_type": "markdown",
   "id": "c223a31f",
   "metadata": {},
   "source": [
    "Show an overview of the environment."
   ]
  },
  {
   "cell_type": "markdown",
   "id": "ffe6de74",
   "metadata": {},
   "source": [
    "# Setup of a reinforcement learning experiment."
   ]
  },
  {
   "cell_type": "code",
   "execution_count": 17,
   "id": "e5683fe8",
   "metadata": {},
   "outputs": [
    {
     "data": {
      "text/markdown": [
       "MultiThreadEnv(8 x VtolEnv)"
      ],
      "text/plain": [
       "MultiThreadEnv(8 x VtolEnv)"
      ]
     },
     "execution_count": 17,
     "metadata": {},
     "output_type": "execute_result"
    }
   ],
   "source": [
    "seed = 123    \n",
    "rng = StableRNG(seed)\n",
    "N_ENV = 8\n",
    "UPDATE_FREQ = 1024\n",
    "    \n",
    "    \n",
    "    # define multiple environments for parallel training\n",
    "    env = MultiThreadEnv([\n",
    "        # use different names for the visualization\n",
    "        VtolEnv(; rng = StableRNG(hash(seed+i)), name = \"vtol$i\") for i in 1:N_ENV\n",
    "    ])"
   ]
  },
  {
   "cell_type": "code",
   "execution_count": 18,
   "id": "d1f128b2",
   "metadata": {},
   "outputs": [],
   "source": [
    "# Define the function approximator\n",
    "    ns, na = length(state(env[1])), length(action_space(env[1]))\n",
    "    approximator = ActorCritic(\n",
    "                actor = GaussianNetwork(\n",
    "                    pre = Chain(\n",
    "                    Dense(ns, 128, tanh; initW = glorot_uniform(rng)),#\n",
    "                    Dense(128, 128, tanh; initW = glorot_uniform(rng)),\n",
    "                    ),\n",
    "                    μ = Chain(Dense(128, na; initW = glorot_uniform(rng))),\n",
    "                    logσ = Chain(Dense(128, na; initW = glorot_uniform(rng))),\n",
    "                ),\n",
    "                critic = Chain(\n",
    "                    Dense(ns, 128, tanh; initW = glorot_uniform(rng)),\n",
    "                    Dense(128, 128, tanh; initW = glorot_uniform(rng)),\n",
    "                    Dense(128, 1; initW = glorot_uniform(rng)),\n",
    "                ),\n",
    "                optimizer = ADAM(1e-3),\n",
    "            );"
   ]
  },
  {
   "cell_type": "code",
   "execution_count": 19,
   "id": "7ea4c37c",
   "metadata": {
    "scrolled": false
   },
   "outputs": [
    {
     "name": "stderr",
     "output_type": "stream",
     "text": [
      "\u001b[36m\u001b[1m┌ \u001b[22m\u001b[39m\u001b[36m\u001b[1mInfo: \u001b[22m\u001b[39mThe GPU function is being called but the GPU is not accessible. \n",
      "\u001b[36m\u001b[1m└ \u001b[22m\u001b[39mDefaulting back to the CPU. (No action is required if you want to run on the CPU).\n"
     ]
    }
   ],
   "source": [
    "    agent = Agent( # A wrapper of an AbstractPolicy\n",
    "        # AbstractPolicy: the policy to use\n",
    "        policy = PPOPolicy(;\n",
    "                    approximator = approximator |> gpu,\n",
    "                    update_freq=UPDATE_FREQ,\n",
    "                    dist = Normal,\n",
    "                    # For parameters visit the docu: https://juliareinforcementlearning.org/docs/rlzoo/#ReinforcementLearningZoo.PPOPolicy\n",
    "                    ),\n",
    "        \n",
    "        # AbstractTrajectory: used to store transitions between an agent and an environment source\n",
    "        trajectory = PPOTrajectory(;\n",
    "            capacity = UPDATE_FREQ,\n",
    "            state = Matrix{Float64} => (ns, N_ENV),\n",
    "            action = Matrix{Float64} => (na, N_ENV),\n",
    "            action_log_prob = Vector{Float64} => (N_ENV,),\n",
    "            reward = Vector{Float64} => (N_ENV,),\n",
    "            terminal = Vector{Bool} => (N_ENV,),\n",
    "        ),\n",
    "    );\n"
   ]
  },
  {
   "cell_type": "code",
   "execution_count": 20,
   "id": "7f158a93",
   "metadata": {},
   "outputs": [],
   "source": [
    "function saveModel(t, agent, env)\n",
    "    model = cpu(agent.policy.approximator)\n",
    "    if SLOW_MODE\n",
    "        f = joinpath(\"./RL_models_slow/\", \"vtol_2D_ppo_$t.bson\")\n",
    "    else\n",
    "        f = joinpath(\"./RL_models_fast/\", \"vtol_2D_ppo_$t.bson\") \n",
    "    end\n",
    "    @save f model\n",
    "    println(\"parameters at step $t saved to $f\")\n",
    "end;"
   ]
  },
  {
   "cell_type": "code",
   "execution_count": 21,
   "id": "c689a72a",
   "metadata": {},
   "outputs": [],
   "source": [
    "function loadModel()\n",
    "    f = joinpath(\"./RL_models_slow/\", \"vtol_2D_ppo_$(load_from_slow_step).bson\") \n",
    "    @load f model\n",
    "    return model\n",
    "end;"
   ]
  },
  {
   "cell_type": "code",
   "execution_count": 22,
   "id": "f3c1858c",
   "metadata": {},
   "outputs": [],
   "source": [
    "function validate_policy(t, agent, env)\n",
    "    run(agent.policy, test_env, StopAfterEpisode(1), episode_test_reward_hook)\n",
    "    # the result of the hook\n",
    "    println(\"test reward at step $t: $(episode_test_reward_hook.rewards[end])\")\n",
    "    \n",
    "end;\n",
    "\n",
    "visualize_validation = true; # TODO: set as desired\n",
    "episode_test_reward_hook = TotalRewardPerEpisode(;is_display_on_exit=false)\n",
    "# create a env only for reward test\n",
    "test_env = VtolEnv(;name = \"testVTOL\", visualization = visualize_validation, realtime = visualize_validation);"
   ]
  },
  {
   "cell_type": "code",
   "execution_count": 23,
   "id": "39983a6b",
   "metadata": {},
   "outputs": [
    {
     "data": {
      "text/plain": [
       "1500000"
      ]
     },
     "execution_count": 23,
     "metadata": {},
     "output_type": "execute_result"
    }
   ],
   "source": [
    "# TODO: set as desired\n",
    "# number of steps\n",
    "steps_slow = 1_500_000 \n",
    "steps_fast = 1_500_000\n",
    "load_from_slow_step = 500_000 \n",
    "\n",
    "save_freq = 10_000\n",
    "validate_freq = 10_000\n",
    "\n",
    "\n",
    "\n",
    "steps = 0\n",
    "if SLOW_MODE\n",
    "    steps = steps_slow\n",
    "else\n",
    "    steps = steps_fast\n",
    "end"
   ]
  },
  {
   "cell_type": "code",
   "execution_count": 24,
   "id": "af72d48e",
   "metadata": {},
   "outputs": [],
   "source": [
    "if !SLOW_MODE\n",
    "    agent.policy.approximator = loadModel(); \n",
    "end;"
   ]
  },
  {
   "cell_type": "code",
   "execution_count": 25,
   "id": "bb737010",
   "metadata": {},
   "outputs": [],
   "source": [
    "if TRAINING\n",
    "    ReinforcementLearning.run(\n",
    "        agent,\n",
    "        env,\n",
    "        StopAfterStep(steps),\n",
    "        ComposedHook(\n",
    "            DoEveryNStep(saveModel, n=save_freq), \n",
    "            DoEveryNStep(validate_policy, n=validate_freq)),\n",
    "    )\n",
    "end"
   ]
  },
  {
   "cell_type": "code",
   "execution_count": 26,
   "id": "49a302a6",
   "metadata": {},
   "outputs": [],
   "source": [
    "if TRAINING\n",
    "    plot(episode_test_reward_hook.rewards)\n",
    "end"
   ]
  },
  {
   "cell_type": "code",
   "execution_count": 27,
   "id": "fb0d4ec2",
   "metadata": {},
   "outputs": [],
   "source": [
    "close_visualization(); # closes the MeshCat visualization"
   ]
  },
  {
   "cell_type": "markdown",
   "id": "7cf8ffc2",
   "metadata": {},
   "source": [
    "# Evaluation"
   ]
  },
  {
   "cell_type": "code",
   "execution_count": 28,
   "id": "8a39200a",
   "metadata": {},
   "outputs": [],
   "source": [
    "test_env = VtolEnv(;name = \"testVTOL\");"
   ]
  },
  {
   "cell_type": "code",
   "execution_count": 29,
   "id": "345f65ce",
   "metadata": {},
   "outputs": [],
   "source": [
    "function loadModel(path, num)\n",
    "    f = joinpath(path, \"vtol_2D_ppo_$num.bson\") \n",
    "    @load f model\n",
    "    return model\n",
    "end;"
   ]
  },
  {
   "cell_type": "code",
   "execution_count": 30,
   "id": "ed379703",
   "metadata": {},
   "outputs": [],
   "source": [
    "function validate(num_models, num_test)\n",
    "    episode_test_reward_hook = TotalRewardPerEpisode(;is_display_on_exit=false)\n",
    "    # create a env only for reward test\n",
    "    for i in 1:num_models\n",
    "          \n",
    "        sum_rewards_model = 0;\n",
    "        sum_successes_model = 0;\n",
    "        sum_avg_vel_model = 0;\n",
    "        sum_compl_time = 0;\n",
    "        n_success = 0;\n",
    "        \n",
    "        for exp in 1:num_test\n",
    "            if SLOW_MODE\n",
    "                path = \"./RL_models_slow/\"\n",
    "            else\n",
    "                path = \"./RL_models_fast/\"\n",
    "            end\n",
    "            agent.policy.approximator = loadModel(path, i * save_freq); \n",
    "            RLBase.reset!(test_env)\n",
    "            run(agent.policy, test_env, StopAfterEpisode(1), episode_test_reward_hook)\n",
    "            # the result of the hook\n",
    "            sum_rewards_model += episode_test_reward_hook.rewards[end];\n",
    "            \n",
    "            if test_env.reached_goal == trues(test_env.num_waypoints)\n",
    "                n_success += 1\n",
    "                sum_avg_vel_model += test_env.norm_way / test_env.t\n",
    "                sum_compl_time += test_env.t\n",
    "            end\n",
    "        end\n",
    "        \n",
    "        rewards[i] = sum_rewards_model / num_test;\n",
    "        success_rate[i] = n_success / num_test;\n",
    "        if n_success > 0\n",
    "            avg_velocity[i] = sum_avg_vel_model / n_success;\n",
    "            avg_compl_time[i] = sum_compl_time / n_success;\n",
    "        else\n",
    "            avg_velocity[i] = NaN\n",
    "            avg_compl_time[i] = NaN\n",
    "        end\n",
    "        percent = percent = round(i * 100 / num_models, digits=2)\n",
    "        print(\"progress: $(percent)%   \\r\")\n",
    "        flush(stdout)\n",
    "        \n",
    "    end\n",
    "    \n",
    "    \n",
    "end;"
   ]
  },
  {
   "cell_type": "code",
   "execution_count": 31,
   "id": "21a98dd6",
   "metadata": {},
   "outputs": [],
   "source": [
    "if EVALUATION\n",
    "    \n",
    "    num_model = Int(steps / save_freq);\n",
    "    num_test = 200; # TODO: change as desired \n",
    "\n",
    "    rewards = zeros(num_model, 1);\n",
    "    success_rate = zeros(num_model, 1);\n",
    "    avg_velocity = zeros(num_model, 1);\n",
    "    avg_compl_time = zeros(num_model, 1);\n",
    "\n",
    "    validate(num_model, num_test);\n",
    "    \n",
    "    results_path = pwd() * \"/plots/\";\n",
    "    if SLOW_MODE\n",
    "        results_path = results_path * \"slow/\"\n",
    "    else\n",
    "        results_path = results_path * \"fast/\"\n",
    "    end\n",
    "    \n",
    "    save(results_path * \"iterations.jld\", \"data\", [1:num_model] * save_freq)\n",
    "    \n",
    "    save(results_path * \"avg_comp_time.jld\", \"data\", avg_compl_time)\n",
    "    \n",
    "    save(results_path * \"avg_velocity.jld\", \"data\", avg_velocity)\n",
    "    \n",
    "    save(results_path * \"reward.jld\", \"data\", rewards) \n",
    "        \n",
    "    save(results_path * \"success_rate.jld\", \"data\", success_rate)\n",
    "    \n",
    "end;"
   ]
  },
  {
   "cell_type": "code",
   "execution_count": 32,
   "id": "0ea2a032",
   "metadata": {},
   "outputs": [],
   "source": [
    "results_path = pwd() * \"/plots/\";\n",
    "if SLOW_MODE\n",
    "    results_path = results_path * \"slow/\"\n",
    "else\n",
    "    results_path = results_path * \"fast/\"\n",
    "end\n",
    "\n",
    "iterations = load(results_path * \"iterations.jld\")[\"data\"];\n",
    "avg_compl_time = load(results_path * \"avg_comp_time.jld\")[\"data\"];\n",
    "avg_velocity = load(results_path * \"avg_velocity.jld\")[\"data\"];\n",
    "rewards = load(results_path * \"reward.jld\")[\"data\"];\n",
    "success_rate = load(results_path * \"success_rate.jld\")[\"data\"];"
   ]
  },
  {
   "cell_type": "code",
   "execution_count": 33,
   "id": "26466af1",
   "metadata": {},
   "outputs": [
    {
     "data": {
      "text/plain": [
       "\"/home/larissa/Documents/Projects/Advanced Deep Learning for Robotics/ADLR_project/src/2d/plots/slow/\""
      ]
     },
     "execution_count": 33,
     "metadata": {},
     "output_type": "execute_result"
    }
   ],
   "source": [
    "fig_path = pwd() * \"/plots/\";\n",
    "if SLOW_MODE\n",
    "    fig_path = fig_path * \"slow/\"\n",
    "else\n",
    "    fig_path = fig_path * \"fast/\"\n",
    "end"
   ]
  },
  {
   "cell_type": "code",
   "execution_count": 34,
   "id": "c4cc649e",
   "metadata": {},
   "outputs": [
    {
     "data": {
      "image/svg+xml": [
       "<?xml version=\"1.0\" encoding=\"utf-8\"?>\n",
       "<svg xmlns=\"http://www.w3.org/2000/svg\" xmlns:xlink=\"http://www.w3.org/1999/xlink\" width=\"600\" height=\"400\" viewBox=\"0 0 2400 1600\">\n",
       "<defs>\n",
       "  <clipPath id=\"clip000\">\n",
       "    <rect x=\"0\" y=\"0\" width=\"2400\" height=\"1600\"/>\n",
       "  </clipPath>\n",
       "</defs>\n",
       "<path clip-path=\"url(#clip000)\" d=\"\n",
       "M0 1600 L2400 1600 L2400 0 L0 0  Z\n",
       "  \" fill=\"#ffffff\" fill-rule=\"evenodd\" fill-opacity=\"1\"/>\n",
       "<defs>\n",
       "  <clipPath id=\"clip001\">\n",
       "    <rect x=\"480\" y=\"0\" width=\"1681\" height=\"1600\"/>\n",
       "  </clipPath>\n",
       "</defs>\n",
       "<path clip-path=\"url(#clip000)\" d=\"\n",
       "M232.389 1410.9 L2352.76 1410.9 L2352.76 47.2441 L232.389 47.2441  Z\n",
       "  \" fill=\"#ffffff\" fill-rule=\"evenodd\" fill-opacity=\"1\"/>\n",
       "<defs>\n",
       "  <clipPath id=\"clip002\">\n",
       "    <rect x=\"232\" y=\"47\" width=\"2121\" height=\"1365\"/>\n",
       "  </clipPath>\n",
       "</defs>\n",
       "<polyline clip-path=\"url(#clip002)\" style=\"stroke:#000000; stroke-linecap:round; stroke-linejoin:round; stroke-width:2; stroke-opacity:0.1; fill:none\" points=\"\n",
       "  278.975,1410.9 278.975,47.2441 \n",
       "  \"/>\n",
       "<polyline clip-path=\"url(#clip002)\" style=\"stroke:#000000; stroke-linecap:round; stroke-linejoin:round; stroke-width:2; stroke-opacity:0.1; fill:none\" points=\"\n",
       "  950.232,1410.9 950.232,47.2441 \n",
       "  \"/>\n",
       "<polyline clip-path=\"url(#clip002)\" style=\"stroke:#000000; stroke-linecap:round; stroke-linejoin:round; stroke-width:2; stroke-opacity:0.1; fill:none\" points=\"\n",
       "  1621.49,1410.9 1621.49,47.2441 \n",
       "  \"/>\n",
       "<polyline clip-path=\"url(#clip002)\" style=\"stroke:#000000; stroke-linecap:round; stroke-linejoin:round; stroke-width:2; stroke-opacity:0.1; fill:none\" points=\"\n",
       "  2292.75,1410.9 2292.75,47.2441 \n",
       "  \"/>\n",
       "<polyline clip-path=\"url(#clip000)\" style=\"stroke:#000000; stroke-linecap:round; stroke-linejoin:round; stroke-width:4; stroke-opacity:1; fill:none\" points=\"\n",
       "  232.389,1410.9 2352.76,1410.9 \n",
       "  \"/>\n",
       "<polyline clip-path=\"url(#clip000)\" style=\"stroke:#000000; stroke-linecap:round; stroke-linejoin:round; stroke-width:4; stroke-opacity:1; fill:none\" points=\"\n",
       "  278.975,1410.9 278.975,1392 \n",
       "  \"/>\n",
       "<polyline clip-path=\"url(#clip000)\" style=\"stroke:#000000; stroke-linecap:round; stroke-linejoin:round; stroke-width:4; stroke-opacity:1; fill:none\" points=\"\n",
       "  950.232,1410.9 950.232,1392 \n",
       "  \"/>\n",
       "<polyline clip-path=\"url(#clip000)\" style=\"stroke:#000000; stroke-linecap:round; stroke-linejoin:round; stroke-width:4; stroke-opacity:1; fill:none\" points=\"\n",
       "  1621.49,1410.9 1621.49,1392 \n",
       "  \"/>\n",
       "<polyline clip-path=\"url(#clip000)\" style=\"stroke:#000000; stroke-linecap:round; stroke-linejoin:round; stroke-width:4; stroke-opacity:1; fill:none\" points=\"\n",
       "  2292.75,1410.9 2292.75,1392 \n",
       "  \"/>\n",
       "<path clip-path=\"url(#clip000)\" d=\"M278.975 1441.82 Q275.363 1441.82 273.535 1445.38 Q271.729 1448.92 271.729 1456.05 Q271.729 1463.16 273.535 1466.72 Q275.363 1470.26 278.975 1470.26 Q282.609 1470.26 284.414 1466.72 Q286.243 1463.16 286.243 1456.05 Q286.243 1448.92 284.414 1445.38 Q282.609 1441.82 278.975 1441.82 M278.975 1438.11 Q284.785 1438.11 287.84 1442.72 Q290.919 1447.3 290.919 1456.05 Q290.919 1464.78 287.84 1469.38 Q284.785 1473.97 278.975 1473.97 Q273.164 1473.97 270.086 1469.38 Q267.03 1464.78 267.03 1456.05 Q267.03 1447.3 270.086 1442.72 Q273.164 1438.11 278.975 1438.11 Z\" fill=\"#000000\" fill-rule=\"evenodd\" fill-opacity=\"1\" /><path clip-path=\"url(#clip000)\" d=\"M843.208 1454.4 L861.565 1454.4 L861.565 1458.33 L847.491 1458.33 L847.491 1466.8 Q848.509 1466.46 849.528 1466.29 Q850.546 1466.11 851.565 1466.11 Q857.352 1466.11 860.731 1469.28 Q864.111 1472.45 864.111 1477.87 Q864.111 1483.45 860.639 1486.55 Q857.166 1489.63 850.847 1489.63 Q848.671 1489.63 846.403 1489.26 Q844.157 1488.89 841.75 1488.15 L841.75 1483.45 Q843.833 1484.58 846.055 1485.14 Q848.278 1485.69 850.754 1485.69 Q854.759 1485.69 857.097 1483.59 Q859.435 1481.48 859.435 1477.87 Q859.435 1474.26 857.097 1472.15 Q854.759 1470.04 850.754 1470.04 Q848.879 1470.04 847.004 1470.46 Q845.153 1470.88 843.208 1471.76 L843.208 1454.4 Z\" fill=\"#000000\" fill-rule=\"evenodd\" fill-opacity=\"1\" /><path clip-path=\"url(#clip000)\" d=\"M873.324 1483.08 L878.208 1483.08 L878.208 1488.96 L873.324 1488.96 L873.324 1483.08 Z\" fill=\"#000000\" fill-rule=\"evenodd\" fill-opacity=\"1\" /><path clip-path=\"url(#clip000)\" d=\"M898.393 1457.48 Q894.782 1457.48 892.953 1461.04 Q891.148 1464.58 891.148 1471.71 Q891.148 1478.82 892.953 1482.38 Q894.782 1485.92 898.393 1485.92 Q902.027 1485.92 903.833 1482.38 Q905.661 1478.82 905.661 1471.71 Q905.661 1464.58 903.833 1461.04 Q902.027 1457.48 898.393 1457.48 M898.393 1453.77 Q904.203 1453.77 907.259 1458.38 Q910.337 1462.96 910.337 1471.71 Q910.337 1480.44 907.259 1485.04 Q904.203 1489.63 898.393 1489.63 Q892.583 1489.63 889.504 1485.04 Q886.449 1480.44 886.449 1471.71 Q886.449 1462.96 889.504 1458.38 Q892.583 1453.77 898.393 1453.77 Z\" fill=\"#000000\" fill-rule=\"evenodd\" fill-opacity=\"1\" /><path clip-path=\"url(#clip000)\" d=\"M928.555 1457.48 Q924.944 1457.48 923.115 1461.04 Q921.31 1464.58 921.31 1471.71 Q921.31 1478.82 923.115 1482.38 Q924.944 1485.92 928.555 1485.92 Q932.189 1485.92 933.995 1482.38 Q935.823 1478.82 935.823 1471.71 Q935.823 1464.58 933.995 1461.04 Q932.189 1457.48 928.555 1457.48 M928.555 1453.77 Q934.365 1453.77 937.421 1458.38 Q940.499 1462.96 940.499 1471.71 Q940.499 1480.44 937.421 1485.04 Q934.365 1489.63 928.555 1489.63 Q922.745 1489.63 919.666 1485.04 Q916.611 1480.44 916.611 1471.71 Q916.611 1462.96 919.666 1458.38 Q922.745 1453.77 928.555 1453.77 Z\" fill=\"#000000\" fill-rule=\"evenodd\" fill-opacity=\"1\" /><path clip-path=\"url(#clip000)\" d=\"M976.888 1463.49 L966.309 1474.12 L976.888 1484.7 L974.133 1487.5 L963.508 1476.87 L952.883 1487.5 L950.152 1484.7 L960.707 1474.12 L950.152 1463.49 L952.883 1460.69 L963.508 1471.32 L974.133 1460.69 L976.888 1463.49 Z\" fill=\"#000000\" fill-rule=\"evenodd\" fill-opacity=\"1\" /><path clip-path=\"url(#clip000)\" d=\"M989.249 1485.02 L996.888 1485.02 L996.888 1458.66 L988.578 1460.32 L988.578 1456.06 L996.842 1454.4 L1001.52 1454.4 L1001.52 1485.02 L1009.16 1485.02 L1009.16 1488.96 L989.249 1488.96 L989.249 1485.02 Z\" fill=\"#000000\" fill-rule=\"evenodd\" fill-opacity=\"1\" /><path clip-path=\"url(#clip000)\" d=\"M1028.6 1457.48 Q1024.99 1457.48 1023.16 1461.04 Q1021.36 1464.58 1021.36 1471.71 Q1021.36 1478.82 1023.16 1482.38 Q1024.99 1485.92 1028.6 1485.92 Q1032.23 1485.92 1034.04 1482.38 Q1035.87 1478.82 1035.87 1471.71 Q1035.87 1464.58 1034.04 1461.04 Q1032.23 1457.48 1028.6 1457.48 M1028.6 1453.77 Q1034.41 1453.77 1037.47 1458.38 Q1040.55 1462.96 1040.55 1471.71 Q1040.55 1480.44 1037.47 1485.04 Q1034.41 1489.63 1028.6 1489.63 Q1022.79 1489.63 1019.71 1485.04 Q1016.66 1480.44 1016.66 1471.71 Q1016.66 1462.96 1019.71 1458.38 Q1022.79 1453.77 1028.6 1453.77 Z\" fill=\"#000000\" fill-rule=\"evenodd\" fill-opacity=\"1\" /><path clip-path=\"url(#clip000)\" d=\"M1041.73 1433.47 L1056.64 1433.47 L1056.64 1436.66 L1045.21 1436.66 L1045.21 1443.55 Q1046.04 1443.27 1046.86 1443.13 Q1047.69 1442.98 1048.52 1442.98 Q1053.22 1442.98 1055.97 1445.56 Q1058.71 1448.14 1058.71 1452.54 Q1058.71 1457.07 1055.89 1459.59 Q1053.07 1462.09 1047.94 1462.09 Q1046.17 1462.09 1044.33 1461.79 Q1042.5 1461.49 1040.55 1460.89 L1040.55 1457.07 Q1042.24 1457.99 1044.04 1458.44 Q1045.85 1458.89 1047.86 1458.89 Q1051.11 1458.89 1053.01 1457.18 Q1054.91 1455.47 1054.91 1452.54 Q1054.91 1449.6 1053.01 1447.89 Q1051.11 1446.18 1047.86 1446.18 Q1046.34 1446.18 1044.81 1446.52 Q1043.31 1446.86 1041.73 1447.57 L1041.73 1433.47 Z\" fill=\"#000000\" fill-rule=\"evenodd\" fill-opacity=\"1\" /><path clip-path=\"url(#clip000)\" d=\"M1513.84 1485.02 L1521.48 1485.02 L1521.48 1458.66 L1513.17 1460.32 L1513.17 1456.06 L1521.43 1454.4 L1526.11 1454.4 L1526.11 1485.02 L1533.75 1485.02 L1533.75 1488.96 L1513.84 1488.96 L1513.84 1485.02 Z\" fill=\"#000000\" fill-rule=\"evenodd\" fill-opacity=\"1\" /><path clip-path=\"url(#clip000)\" d=\"M1543.19 1483.08 L1548.08 1483.08 L1548.08 1488.96 L1543.19 1488.96 L1543.19 1483.08 Z\" fill=\"#000000\" fill-rule=\"evenodd\" fill-opacity=\"1\" /><path clip-path=\"url(#clip000)\" d=\"M1568.26 1457.48 Q1564.65 1457.48 1562.82 1461.04 Q1561.02 1464.58 1561.02 1471.71 Q1561.02 1478.82 1562.82 1482.38 Q1564.65 1485.92 1568.26 1485.92 Q1571.9 1485.92 1573.7 1482.38 Q1575.53 1478.82 1575.53 1471.71 Q1575.53 1464.58 1573.7 1461.04 Q1571.9 1457.48 1568.26 1457.48 M1568.26 1453.77 Q1574.07 1453.77 1577.13 1458.38 Q1580.21 1462.96 1580.21 1471.71 Q1580.21 1480.44 1577.13 1485.04 Q1574.07 1489.63 1568.26 1489.63 Q1562.45 1489.63 1559.37 1485.04 Q1556.32 1480.44 1556.32 1471.71 Q1556.32 1462.96 1559.37 1458.38 Q1562.45 1453.77 1568.26 1453.77 Z\" fill=\"#000000\" fill-rule=\"evenodd\" fill-opacity=\"1\" /><path clip-path=\"url(#clip000)\" d=\"M1598.43 1457.48 Q1594.81 1457.48 1592.99 1461.04 Q1591.18 1464.58 1591.18 1471.71 Q1591.18 1478.82 1592.99 1482.38 Q1594.81 1485.92 1598.43 1485.92 Q1602.06 1485.92 1603.86 1482.38 Q1605.69 1478.82 1605.69 1471.71 Q1605.69 1464.58 1603.86 1461.04 Q1602.06 1457.48 1598.43 1457.48 M1598.43 1453.77 Q1604.24 1453.77 1607.29 1458.38 Q1610.37 1462.96 1610.37 1471.71 Q1610.37 1480.44 1607.29 1485.04 Q1604.24 1489.63 1598.43 1489.63 Q1592.62 1489.63 1589.54 1485.04 Q1586.48 1480.44 1586.48 1471.71 Q1586.48 1462.96 1589.54 1458.38 Q1592.62 1453.77 1598.43 1453.77 Z\" fill=\"#000000\" fill-rule=\"evenodd\" fill-opacity=\"1\" /><path clip-path=\"url(#clip000)\" d=\"M1646.76 1463.49 L1636.18 1474.12 L1646.76 1484.7 L1644 1487.5 L1633.38 1476.87 L1622.75 1487.5 L1620.02 1484.7 L1630.58 1474.12 L1620.02 1463.49 L1622.75 1460.69 L1633.38 1471.32 L1644 1460.69 L1646.76 1463.49 Z\" fill=\"#000000\" fill-rule=\"evenodd\" fill-opacity=\"1\" /><path clip-path=\"url(#clip000)\" d=\"M1659.12 1485.02 L1666.76 1485.02 L1666.76 1458.66 L1658.45 1460.32 L1658.45 1456.06 L1666.71 1454.4 L1671.39 1454.4 L1671.39 1485.02 L1679.03 1485.02 L1679.03 1488.96 L1659.12 1488.96 L1659.12 1485.02 Z\" fill=\"#000000\" fill-rule=\"evenodd\" fill-opacity=\"1\" /><path clip-path=\"url(#clip000)\" d=\"M1698.47 1457.48 Q1694.86 1457.48 1693.03 1461.04 Q1691.23 1464.58 1691.23 1471.71 Q1691.23 1478.82 1693.03 1482.38 Q1694.86 1485.92 1698.47 1485.92 Q1702.11 1485.92 1703.91 1482.38 Q1705.74 1478.82 1705.74 1471.71 Q1705.74 1464.58 1703.91 1461.04 Q1702.11 1457.48 1698.47 1457.48 M1698.47 1453.77 Q1704.28 1453.77 1707.34 1458.38 Q1710.42 1462.96 1710.42 1471.71 Q1710.42 1480.44 1707.34 1485.04 Q1704.28 1489.63 1698.47 1489.63 Q1692.66 1489.63 1689.58 1485.04 Q1686.53 1480.44 1686.53 1471.71 Q1686.53 1462.96 1689.58 1458.38 Q1692.66 1453.77 1698.47 1453.77 Z\" fill=\"#000000\" fill-rule=\"evenodd\" fill-opacity=\"1\" /><path clip-path=\"url(#clip000)\" d=\"M1720.44 1445.99 Q1717.88 1445.99 1716.38 1447.74 Q1714.89 1449.49 1714.89 1452.54 Q1714.89 1455.57 1716.38 1457.33 Q1717.88 1459.08 1720.44 1459.08 Q1723 1459.08 1724.48 1457.33 Q1725.99 1455.57 1725.99 1452.54 Q1725.99 1449.49 1724.48 1447.74 Q1723 1445.99 1720.44 1445.99 M1727.98 1434.09 L1727.98 1437.55 Q1726.55 1436.87 1725.09 1436.51 Q1723.64 1436.16 1722.21 1436.16 Q1718.45 1436.16 1716.45 1438.69 Q1714.48 1441.23 1714.2 1446.37 Q1715.31 1444.73 1716.98 1443.87 Q1718.65 1442.98 1720.67 1442.98 Q1724.9 1442.98 1727.34 1445.56 Q1729.81 1448.12 1729.81 1452.54 Q1729.81 1456.86 1727.25 1459.48 Q1724.69 1462.09 1720.44 1462.09 Q1715.57 1462.09 1712.99 1458.37 Q1710.42 1454.62 1710.42 1447.53 Q1710.42 1440.88 1713.58 1436.93 Q1716.73 1432.96 1722.06 1432.96 Q1723.49 1432.96 1724.93 1433.24 Q1726.4 1433.52 1727.98 1434.09 Z\" fill=\"#000000\" fill-rule=\"evenodd\" fill-opacity=\"1\" /><path clip-path=\"url(#clip000)\" d=\"M2185.1 1485.02 L2192.74 1485.02 L2192.74 1458.66 L2184.43 1460.32 L2184.43 1456.06 L2192.69 1454.4 L2197.37 1454.4 L2197.37 1485.02 L2205.01 1485.02 L2205.01 1488.96 L2185.1 1488.96 L2185.1 1485.02 Z\" fill=\"#000000\" fill-rule=\"evenodd\" fill-opacity=\"1\" /><path clip-path=\"url(#clip000)\" d=\"M2214.45 1483.08 L2219.34 1483.08 L2219.34 1488.96 L2214.45 1488.96 L2214.45 1483.08 Z\" fill=\"#000000\" fill-rule=\"evenodd\" fill-opacity=\"1\" /><path clip-path=\"url(#clip000)\" d=\"M2229.57 1454.4 L2247.92 1454.4 L2247.92 1458.33 L2233.85 1458.33 L2233.85 1466.8 Q2234.87 1466.46 2235.89 1466.29 Q2236.9 1466.11 2237.92 1466.11 Q2243.71 1466.11 2247.09 1469.28 Q2250.47 1472.45 2250.47 1477.87 Q2250.47 1483.45 2247 1486.55 Q2243.52 1489.63 2237.21 1489.63 Q2235.03 1489.63 2232.76 1489.26 Q2230.52 1488.89 2228.11 1488.15 L2228.11 1483.45 Q2230.19 1484.58 2232.41 1485.14 Q2234.64 1485.69 2237.11 1485.69 Q2241.12 1485.69 2243.46 1483.59 Q2245.79 1481.48 2245.79 1477.87 Q2245.79 1474.26 2243.46 1472.15 Q2241.12 1470.04 2237.11 1470.04 Q2235.24 1470.04 2233.36 1470.46 Q2231.51 1470.88 2229.57 1471.76 L2229.57 1454.4 Z\" fill=\"#000000\" fill-rule=\"evenodd\" fill-opacity=\"1\" /><path clip-path=\"url(#clip000)\" d=\"M2269.68 1457.48 Q2266.07 1457.48 2264.24 1461.04 Q2262.44 1464.58 2262.44 1471.71 Q2262.44 1478.82 2264.24 1482.38 Q2266.07 1485.92 2269.68 1485.92 Q2273.32 1485.92 2275.12 1482.38 Q2276.95 1478.82 2276.95 1471.71 Q2276.95 1464.58 2275.12 1461.04 Q2273.32 1457.48 2269.68 1457.48 M2269.68 1453.77 Q2275.49 1453.77 2278.55 1458.38 Q2281.63 1462.96 2281.63 1471.71 Q2281.63 1480.44 2278.55 1485.04 Q2275.49 1489.63 2269.68 1489.63 Q2263.87 1489.63 2260.79 1485.04 Q2257.74 1480.44 2257.74 1471.71 Q2257.74 1462.96 2260.79 1458.38 Q2263.87 1453.77 2269.68 1453.77 Z\" fill=\"#000000\" fill-rule=\"evenodd\" fill-opacity=\"1\" /><path clip-path=\"url(#clip000)\" d=\"M2318.02 1463.49 L2307.44 1474.12 L2318.02 1484.7 L2315.26 1487.5 L2304.64 1476.87 L2294.01 1487.5 L2291.28 1484.7 L2301.83 1474.12 L2291.28 1463.49 L2294.01 1460.69 L2304.64 1471.32 L2315.26 1460.69 L2318.02 1463.49 Z\" fill=\"#000000\" fill-rule=\"evenodd\" fill-opacity=\"1\" /><path clip-path=\"url(#clip000)\" d=\"M2330.38 1485.02 L2338.02 1485.02 L2338.02 1458.66 L2329.7 1460.32 L2329.7 1456.06 L2337.97 1454.4 L2342.64 1454.4 L2342.64 1485.02 L2350.28 1485.02 L2350.28 1488.96 L2330.38 1488.96 L2330.38 1485.02 Z\" fill=\"#000000\" fill-rule=\"evenodd\" fill-opacity=\"1\" /><path clip-path=\"url(#clip000)\" d=\"M2369.73 1457.48 Q2366.12 1457.48 2364.29 1461.04 Q2362.48 1464.58 2362.48 1471.71 Q2362.48 1478.82 2364.29 1482.38 Q2366.12 1485.92 2369.73 1485.92 Q2373.36 1485.92 2375.17 1482.38 Q2377 1478.82 2377 1471.71 Q2377 1464.58 2375.17 1461.04 Q2373.36 1457.48 2369.73 1457.48 M2369.73 1453.77 Q2375.54 1453.77 2378.59 1458.38 Q2381.67 1462.96 2381.67 1471.71 Q2381.67 1480.44 2378.59 1485.04 Q2375.54 1489.63 2369.73 1489.63 Q2363.92 1489.63 2360.84 1485.04 Q2357.78 1480.44 2357.78 1471.71 Q2357.78 1462.96 2360.84 1458.38 Q2363.92 1453.77 2369.73 1453.77 Z\" fill=\"#000000\" fill-rule=\"evenodd\" fill-opacity=\"1\" /><path clip-path=\"url(#clip000)\" d=\"M2391.7 1445.99 Q2389.14 1445.99 2387.63 1447.74 Q2386.15 1449.49 2386.15 1452.54 Q2386.15 1455.57 2387.63 1457.33 Q2389.14 1459.08 2391.7 1459.08 Q2394.25 1459.08 2395.74 1457.33 Q2397.25 1455.57 2397.25 1452.54 Q2397.25 1449.49 2395.74 1447.74 Q2394.25 1445.99 2391.7 1445.99 M2399.24 1434.09 L2399.24 1437.55 Q2397.81 1436.87 2396.34 1436.51 Q2394.89 1436.16 2393.46 1436.16 Q2389.7 1436.16 2387.71 1438.69 Q2385.73 1441.23 2385.45 1446.37 Q2386.56 1444.73 2388.24 1443.87 Q2389.91 1442.98 2391.92 1442.98 Q2396.15 1442.98 2398.6 1445.56 Q2401.06 1448.12 2401.06 1452.54 Q2401.06 1456.86 2398.51 1459.48 Q2395.95 1462.09 2391.7 1462.09 Q2386.83 1462.09 2384.25 1458.37 Q2381.67 1454.62 2381.67 1447.53 Q2381.67 1440.88 2384.83 1436.93 Q2387.99 1432.96 2393.31 1432.96 Q2394.74 1432.96 2396.19 1433.24 Q2397.66 1433.52 2399.24 1434.09 Z\" fill=\"#000000\" fill-rule=\"evenodd\" fill-opacity=\"1\" /><path clip-path=\"url(#clip000)\" d=\"M1142.14 1526.67 L1148.56 1526.67 L1148.56 1574.19 L1142.14 1574.19 L1142.14 1526.67 Z\" fill=\"#000000\" fill-rule=\"evenodd\" fill-opacity=\"1\" /><path clip-path=\"url(#clip000)\" d=\"M1166.9 1528.42 L1166.9 1538.54 L1178.96 1538.54 L1178.96 1543.09 L1166.9 1543.09 L1166.9 1562.44 Q1166.9 1566.8 1168.08 1568.04 Q1169.28 1569.28 1172.95 1569.28 L1178.96 1569.28 L1178.96 1574.19 L1172.95 1574.19 Q1166.17 1574.19 1163.59 1571.67 Q1161.01 1569.12 1161.01 1562.44 L1161.01 1543.09 L1156.71 1543.09 L1156.71 1538.54 L1161.01 1538.54 L1161.01 1528.42 L1166.9 1528.42 Z\" fill=\"#000000\" fill-rule=\"evenodd\" fill-opacity=\"1\" /><path clip-path=\"url(#clip000)\" d=\"M1217.15 1554.9 L1217.15 1557.76 L1190.23 1557.76 Q1190.61 1563.81 1193.86 1566.99 Q1197.13 1570.14 1202.96 1570.14 Q1206.33 1570.14 1209.48 1569.32 Q1212.67 1568.49 1215.79 1566.83 L1215.79 1572.37 Q1212.64 1573.71 1209.33 1574.41 Q1206.01 1575.11 1202.61 1575.11 Q1194.08 1575.11 1189.08 1570.14 Q1184.12 1565.18 1184.12 1556.71 Q1184.12 1547.96 1188.83 1542.83 Q1193.57 1537.68 1201.59 1537.68 Q1208.78 1537.68 1212.95 1542.33 Q1217.15 1546.94 1217.15 1554.9 M1211.3 1553.18 Q1211.23 1548.37 1208.59 1545.51 Q1205.98 1542.64 1201.65 1542.64 Q1196.75 1542.64 1193.79 1545.41 Q1190.86 1548.18 1190.42 1553.21 L1211.3 1553.18 Z\" fill=\"#000000\" fill-rule=\"evenodd\" fill-opacity=\"1\" /><path clip-path=\"url(#clip000)\" d=\"M1247.42 1544.01 Q1246.44 1543.44 1245.26 1543.18 Q1244.11 1542.9 1242.71 1542.9 Q1237.75 1542.9 1235.07 1546.14 Q1232.43 1549.36 1232.43 1555.41 L1232.43 1574.19 L1226.54 1574.19 L1226.54 1538.54 L1232.43 1538.54 L1232.43 1544.08 Q1234.28 1540.83 1237.24 1539.27 Q1240.2 1537.68 1244.43 1537.68 Q1245.04 1537.68 1245.77 1537.77 Q1246.5 1537.84 1247.39 1538 L1247.42 1544.01 Z\" fill=\"#000000\" fill-rule=\"evenodd\" fill-opacity=\"1\" /><path clip-path=\"url(#clip000)\" d=\"M1269.77 1556.27 Q1262.67 1556.27 1259.93 1557.89 Q1257.2 1559.51 1257.2 1563.43 Q1257.2 1566.55 1259.23 1568.39 Q1261.3 1570.21 1264.83 1570.21 Q1269.7 1570.21 1272.63 1566.77 Q1275.59 1563.3 1275.59 1557.57 L1275.59 1556.27 L1269.77 1556.27 M1281.45 1553.85 L1281.45 1574.19 L1275.59 1574.19 L1275.59 1568.77 Q1273.59 1572.02 1270.6 1573.58 Q1267.6 1575.11 1263.27 1575.11 Q1257.8 1575.11 1254.55 1572.05 Q1251.34 1568.97 1251.34 1563.81 Q1251.34 1557.79 1255.35 1554.74 Q1259.39 1551.68 1267.38 1551.68 L1275.59 1551.68 L1275.59 1551.11 Q1275.59 1547.07 1272.92 1544.87 Q1270.28 1542.64 1265.47 1542.64 Q1262.42 1542.64 1259.52 1543.38 Q1256.62 1544.11 1253.95 1545.57 L1253.95 1540.16 Q1257.16 1538.92 1260.19 1538.31 Q1263.21 1537.68 1266.08 1537.68 Q1273.81 1537.68 1277.63 1541.69 Q1281.45 1545.7 1281.45 1553.85 Z\" fill=\"#000000\" fill-rule=\"evenodd\" fill-opacity=\"1\" /><path clip-path=\"url(#clip000)\" d=\"M1299.3 1528.42 L1299.3 1538.54 L1311.37 1538.54 L1311.37 1543.09 L1299.3 1543.09 L1299.3 1562.44 Q1299.3 1566.8 1300.48 1568.04 Q1301.69 1569.28 1305.35 1569.28 L1311.37 1569.28 L1311.37 1574.19 L1305.35 1574.19 Q1298.57 1574.19 1295.99 1571.67 Q1293.42 1569.12 1293.42 1562.44 L1293.42 1543.09 L1289.12 1543.09 L1289.12 1538.54 L1293.42 1538.54 L1293.42 1528.42 L1299.3 1528.42 Z\" fill=\"#000000\" fill-rule=\"evenodd\" fill-opacity=\"1\" /><path clip-path=\"url(#clip000)\" d=\"M1319.07 1538.54 L1324.93 1538.54 L1324.93 1574.19 L1319.07 1574.19 L1319.07 1538.54 M1319.07 1524.66 L1324.93 1524.66 L1324.93 1532.08 L1319.07 1532.08 L1319.07 1524.66 Z\" fill=\"#000000\" fill-rule=\"evenodd\" fill-opacity=\"1\" /><path clip-path=\"url(#clip000)\" d=\"M1350.99 1542.64 Q1346.28 1542.64 1343.55 1546.34 Q1340.81 1550 1340.81 1556.39 Q1340.81 1562.79 1343.51 1566.48 Q1346.25 1570.14 1350.99 1570.14 Q1355.67 1570.14 1358.41 1566.45 Q1361.15 1562.76 1361.15 1556.39 Q1361.15 1550.06 1358.41 1546.37 Q1355.67 1542.64 1350.99 1542.64 M1350.99 1537.68 Q1358.63 1537.68 1362.99 1542.64 Q1367.35 1547.61 1367.35 1556.39 Q1367.35 1565.15 1362.99 1570.14 Q1358.63 1575.11 1350.99 1575.11 Q1343.32 1575.11 1338.96 1570.14 Q1334.63 1565.15 1334.63 1556.39 Q1334.63 1547.61 1338.96 1542.64 Q1343.32 1537.68 1350.99 1537.68 Z\" fill=\"#000000\" fill-rule=\"evenodd\" fill-opacity=\"1\" /><path clip-path=\"url(#clip000)\" d=\"M1406.69 1552.67 L1406.69 1574.19 L1400.84 1574.19 L1400.84 1552.86 Q1400.84 1547.8 1398.86 1545.29 Q1396.89 1542.77 1392.94 1542.77 Q1388.2 1542.77 1385.46 1545.79 Q1382.73 1548.82 1382.73 1554.04 L1382.73 1574.19 L1376.84 1574.19 L1376.84 1538.54 L1382.73 1538.54 L1382.73 1544.08 Q1384.83 1540.86 1387.66 1539.27 Q1390.52 1537.68 1394.25 1537.68 Q1400.39 1537.68 1403.54 1541.5 Q1406.69 1545.29 1406.69 1552.67 Z\" fill=\"#000000\" fill-rule=\"evenodd\" fill-opacity=\"1\" /><path clip-path=\"url(#clip000)\" d=\"M1441.1 1539.59 L1441.1 1545.13 Q1438.62 1543.85 1435.94 1543.22 Q1433.27 1542.58 1430.41 1542.58 Q1426.05 1542.58 1423.85 1543.92 Q1421.69 1545.25 1421.69 1547.93 Q1421.69 1549.96 1423.24 1551.14 Q1424.8 1552.29 1429.51 1553.34 L1431.52 1553.78 Q1437.76 1555.12 1440.37 1557.57 Q1443.01 1559.99 1443.01 1564.35 Q1443.01 1569.32 1439.06 1572.21 Q1435.15 1575.11 1428.27 1575.11 Q1425.41 1575.11 1422.29 1574.54 Q1419.2 1573.99 1415.76 1572.88 L1415.76 1566.83 Q1419.01 1568.52 1422.16 1569.38 Q1425.31 1570.21 1428.4 1570.21 Q1432.54 1570.21 1434.77 1568.81 Q1436.99 1567.37 1436.99 1564.8 Q1436.99 1562.41 1435.37 1561.14 Q1433.78 1559.86 1428.34 1558.68 L1426.3 1558.21 Q1420.86 1557.06 1418.44 1554.71 Q1416.02 1552.32 1416.02 1548.18 Q1416.02 1543.15 1419.58 1540.42 Q1423.15 1537.68 1429.71 1537.68 Q1432.95 1537.68 1435.82 1538.16 Q1438.68 1538.63 1441.1 1539.59 Z\" fill=\"#000000\" fill-rule=\"evenodd\" fill-opacity=\"1\" /><polyline clip-path=\"url(#clip002)\" style=\"stroke:#000000; stroke-linecap:round; stroke-linejoin:round; stroke-width:2; stroke-opacity:0.1; fill:none\" points=\"\n",
       "  232.389,1235.76 2352.76,1235.76 \n",
       "  \"/>\n",
       "<polyline clip-path=\"url(#clip002)\" style=\"stroke:#000000; stroke-linecap:round; stroke-linejoin:round; stroke-width:2; stroke-opacity:0.1; fill:none\" points=\"\n",
       "  232.389,861.096 2352.76,861.096 \n",
       "  \"/>\n",
       "<polyline clip-path=\"url(#clip002)\" style=\"stroke:#000000; stroke-linecap:round; stroke-linejoin:round; stroke-width:2; stroke-opacity:0.1; fill:none\" points=\"\n",
       "  232.389,486.428 2352.76,486.428 \n",
       "  \"/>\n",
       "<polyline clip-path=\"url(#clip002)\" style=\"stroke:#000000; stroke-linecap:round; stroke-linejoin:round; stroke-width:2; stroke-opacity:0.1; fill:none\" points=\"\n",
       "  232.389,111.759 2352.76,111.759 \n",
       "  \"/>\n",
       "<polyline clip-path=\"url(#clip000)\" style=\"stroke:#000000; stroke-linecap:round; stroke-linejoin:round; stroke-width:4; stroke-opacity:1; fill:none\" points=\"\n",
       "  232.389,1410.9 232.389,47.2441 \n",
       "  \"/>\n",
       "<polyline clip-path=\"url(#clip000)\" style=\"stroke:#000000; stroke-linecap:round; stroke-linejoin:round; stroke-width:4; stroke-opacity:1; fill:none\" points=\"\n",
       "  232.389,1235.76 251.287,1235.76 \n",
       "  \"/>\n",
       "<polyline clip-path=\"url(#clip000)\" style=\"stroke:#000000; stroke-linecap:round; stroke-linejoin:round; stroke-width:4; stroke-opacity:1; fill:none\" points=\"\n",
       "  232.389,861.096 251.287,861.096 \n",
       "  \"/>\n",
       "<polyline clip-path=\"url(#clip000)\" style=\"stroke:#000000; stroke-linecap:round; stroke-linejoin:round; stroke-width:4; stroke-opacity:1; fill:none\" points=\"\n",
       "  232.389,486.428 251.287,486.428 \n",
       "  \"/>\n",
       "<polyline clip-path=\"url(#clip000)\" style=\"stroke:#000000; stroke-linecap:round; stroke-linejoin:round; stroke-width:4; stroke-opacity:1; fill:none\" points=\"\n",
       "  232.389,111.759 251.287,111.759 \n",
       "  \"/>\n",
       "<path clip-path=\"url(#clip000)\" d=\"M184.445 1221.56 Q180.834 1221.56 179.005 1225.13 Q177.2 1228.67 177.2 1235.8 Q177.2 1242.91 179.005 1246.47 Q180.834 1250.01 184.445 1250.01 Q188.079 1250.01 189.885 1246.47 Q191.713 1242.91 191.713 1235.8 Q191.713 1228.67 189.885 1225.13 Q188.079 1221.56 184.445 1221.56 M184.445 1217.86 Q190.255 1217.86 193.311 1222.47 Q196.389 1227.05 196.389 1235.8 Q196.389 1244.53 193.311 1249.13 Q190.255 1253.72 184.445 1253.72 Q178.635 1253.72 175.556 1249.13 Q172.501 1244.53 172.501 1235.8 Q172.501 1227.05 175.556 1222.47 Q178.635 1217.86 184.445 1217.86 Z\" fill=\"#000000\" fill-rule=\"evenodd\" fill-opacity=\"1\" /><path clip-path=\"url(#clip000)\" d=\"M144.329 843.816 L162.686 843.816 L162.686 847.752 L148.612 847.752 L148.612 856.224 Q149.63 855.876 150.649 855.714 Q151.667 855.529 152.686 855.529 Q158.473 855.529 161.852 858.701 Q165.232 861.872 165.232 867.288 Q165.232 872.867 161.76 875.969 Q158.288 879.048 151.968 879.048 Q149.792 879.048 147.524 878.677 Q145.279 878.307 142.871 877.566 L142.871 872.867 Q144.954 874.001 147.177 874.557 Q149.399 875.112 151.876 875.112 Q155.88 875.112 158.218 873.006 Q160.556 870.9 160.556 867.288 Q160.556 863.677 158.218 861.571 Q155.88 859.464 151.876 859.464 Q150.001 859.464 148.126 859.881 Q146.274 860.298 144.329 861.177 L144.329 843.816 Z\" fill=\"#000000\" fill-rule=\"evenodd\" fill-opacity=\"1\" /><path clip-path=\"url(#clip000)\" d=\"M184.445 846.895 Q180.834 846.895 179.005 850.46 Q177.2 854.001 177.2 861.131 Q177.2 868.238 179.005 871.802 Q180.834 875.344 184.445 875.344 Q188.079 875.344 189.885 871.802 Q191.713 868.238 191.713 861.131 Q191.713 854.001 189.885 850.46 Q188.079 846.895 184.445 846.895 M184.445 843.191 Q190.255 843.191 193.311 847.798 Q196.389 852.381 196.389 861.131 Q196.389 869.858 193.311 874.464 Q190.255 879.048 184.445 879.048 Q178.635 879.048 175.556 874.464 Q172.501 869.858 172.501 861.131 Q172.501 852.381 175.556 847.798 Q178.635 843.191 184.445 843.191 Z\" fill=\"#000000\" fill-rule=\"evenodd\" fill-opacity=\"1\" /><path clip-path=\"url(#clip000)\" d=\"M114.931 499.773 L122.57 499.773 L122.57 473.407 L114.26 475.074 L114.26 470.814 L122.524 469.148 L127.2 469.148 L127.2 499.773 L134.839 499.773 L134.839 503.708 L114.931 503.708 L114.931 499.773 Z\" fill=\"#000000\" fill-rule=\"evenodd\" fill-opacity=\"1\" /><path clip-path=\"url(#clip000)\" d=\"M154.283 472.226 Q150.672 472.226 148.843 475.791 Q147.038 479.333 147.038 486.462 Q147.038 493.569 148.843 497.134 Q150.672 500.675 154.283 500.675 Q157.917 500.675 159.723 497.134 Q161.552 493.569 161.552 486.462 Q161.552 479.333 159.723 475.791 Q157.917 472.226 154.283 472.226 M154.283 468.523 Q160.093 468.523 163.149 473.129 Q166.227 477.713 166.227 486.462 Q166.227 495.189 163.149 499.796 Q160.093 504.379 154.283 504.379 Q148.473 504.379 145.394 499.796 Q142.339 495.189 142.339 486.462 Q142.339 477.713 145.394 473.129 Q148.473 468.523 154.283 468.523 Z\" fill=\"#000000\" fill-rule=\"evenodd\" fill-opacity=\"1\" /><path clip-path=\"url(#clip000)\" d=\"M184.445 472.226 Q180.834 472.226 179.005 475.791 Q177.2 479.333 177.2 486.462 Q177.2 493.569 179.005 497.134 Q180.834 500.675 184.445 500.675 Q188.079 500.675 189.885 497.134 Q191.713 493.569 191.713 486.462 Q191.713 479.333 189.885 475.791 Q188.079 472.226 184.445 472.226 M184.445 468.523 Q190.255 468.523 193.311 473.129 Q196.389 477.713 196.389 486.462 Q196.389 495.189 193.311 499.796 Q190.255 504.379 184.445 504.379 Q178.635 504.379 175.556 499.796 Q172.501 495.189 172.501 486.462 Q172.501 477.713 175.556 473.129 Q178.635 468.523 184.445 468.523 Z\" fill=\"#000000\" fill-rule=\"evenodd\" fill-opacity=\"1\" /><path clip-path=\"url(#clip000)\" d=\"M114.931 125.104 L122.57 125.104 L122.57 98.7384 L114.26 100.405 L114.26 96.1458 L122.524 94.4791 L127.2 94.4791 L127.2 125.104 L134.839 125.104 L134.839 129.039 L114.931 129.039 L114.931 125.104 Z\" fill=\"#000000\" fill-rule=\"evenodd\" fill-opacity=\"1\" /><path clip-path=\"url(#clip000)\" d=\"M144.329 94.4791 L162.686 94.4791 L162.686 98.4143 L148.612 98.4143 L148.612 106.886 Q149.63 106.539 150.649 106.377 Q151.667 106.192 152.686 106.192 Q158.473 106.192 161.852 109.363 Q165.232 112.535 165.232 117.951 Q165.232 123.53 161.76 126.632 Q158.288 129.71 151.968 129.71 Q149.792 129.71 147.524 129.34 Q145.279 128.97 142.871 128.229 L142.871 123.53 Q144.954 124.664 147.177 125.22 Q149.399 125.775 151.876 125.775 Q155.88 125.775 158.218 123.669 Q160.556 121.562 160.556 117.951 Q160.556 114.34 158.218 112.234 Q155.88 110.127 151.876 110.127 Q150.001 110.127 148.126 110.544 Q146.274 110.961 144.329 111.84 L144.329 94.4791 Z\" fill=\"#000000\" fill-rule=\"evenodd\" fill-opacity=\"1\" /><path clip-path=\"url(#clip000)\" d=\"M184.445 97.5578 Q180.834 97.5578 179.005 101.123 Q177.2 104.664 177.2 111.794 Q177.2 118.9 179.005 122.465 Q180.834 126.007 184.445 126.007 Q188.079 126.007 189.885 122.465 Q191.713 118.9 191.713 111.794 Q191.713 104.664 189.885 101.123 Q188.079 97.5578 184.445 97.5578 M184.445 93.8541 Q190.255 93.8541 193.311 98.4606 Q196.389 103.044 196.389 111.794 Q196.389 120.521 193.311 125.127 Q190.255 129.71 184.445 129.71 Q178.635 129.71 175.556 125.127 Q172.501 120.521 172.501 111.794 Q172.501 103.044 175.556 98.4606 Q178.635 93.8541 184.445 93.8541 Z\" fill=\"#000000\" fill-rule=\"evenodd\" fill-opacity=\"1\" /><path clip-path=\"url(#clip000)\" d=\"M41.7242 821.755 Q42.4244 819.686 44.7161 817.745 Q47.0077 815.771 51.0181 813.798 L64.0042 807.273 L64.0042 814.18 L51.8138 820.259 Q47.0395 822.614 45.48 824.842 Q43.9204 827.039 43.9204 830.858 L43.9204 837.86 L64.0042 837.86 L64.0042 844.29 L16.4842 844.29 L16.4842 829.776 Q16.4842 821.628 19.8898 817.617 Q23.2955 813.607 30.1704 813.607 Q34.6582 813.607 37.6183 815.708 Q40.5784 817.776 41.7242 821.755 M21.7677 837.86 L38.6368 837.86 L38.6368 829.776 Q38.6368 825.129 36.5043 822.774 Q34.34 820.386 30.1704 820.386 Q26.0009 820.386 23.9002 822.774 Q21.7677 825.129 21.7677 829.776 L21.7677 837.86 Z\" fill=\"#000000\" fill-rule=\"evenodd\" fill-opacity=\"1\" /><path clip-path=\"url(#clip000)\" d=\"M44.7161 771.689 L47.5806 771.689 L47.5806 798.616 Q53.6281 798.234 56.8109 794.987 Q59.9619 791.709 59.9619 785.884 Q59.9619 782.51 59.1344 779.359 Q58.3069 776.177 56.6518 773.057 L62.1899 773.057 Q63.5267 776.208 64.227 779.519 Q64.9272 782.829 64.9272 786.234 Q64.9272 794.764 59.9619 799.762 Q54.9967 804.727 46.5303 804.727 Q37.7774 804.727 32.6531 800.016 Q27.4968 795.274 27.4968 787.253 Q27.4968 780.06 32.1438 775.89 Q36.7589 771.689 44.7161 771.689 M42.9973 777.545 Q38.1912 777.609 35.3266 780.251 Q32.4621 782.861 32.4621 787.189 Q32.4621 792.091 35.2312 795.051 Q38.0002 797.979 43.0292 798.425 L42.9973 777.545 Z\" fill=\"#000000\" fill-rule=\"evenodd\" fill-opacity=\"1\" /><path clip-path=\"url(#clip000)\" d=\"M28.3562 765.482 L28.3562 759.626 L56.1743 752.305 L28.3562 745.016 L28.3562 738.11 L56.1743 730.789 L28.3562 723.5 L28.3562 717.644 L64.0042 726.97 L64.0042 733.876 L34.7856 741.547 L64.0042 749.25 L64.0042 756.156 L28.3562 765.482 Z\" fill=\"#000000\" fill-rule=\"evenodd\" fill-opacity=\"1\" /><path clip-path=\"url(#clip000)\" d=\"M46.0847 692.563 Q46.0847 699.661 47.7079 702.398 Q49.3312 705.135 53.2461 705.135 Q56.3653 705.135 58.2114 703.098 Q60.0256 701.029 60.0256 697.496 Q60.0256 692.627 56.5881 689.698 Q53.1188 686.738 47.3897 686.738 L46.0847 686.738 L46.0847 692.563 M43.6657 680.882 L64.0042 680.882 L64.0042 686.738 L58.5933 686.738 Q61.8398 688.744 63.3994 691.735 Q64.9272 694.727 64.9272 699.056 Q64.9272 704.531 61.8716 707.777 Q58.7843 710.992 53.6281 710.992 Q47.6125 710.992 44.5569 706.981 Q41.5014 702.939 41.5014 694.95 L41.5014 686.738 L40.9285 686.738 Q36.8862 686.738 34.6901 689.412 Q32.4621 692.054 32.4621 696.86 Q32.4621 699.915 33.1941 702.812 Q33.9262 705.708 35.3903 708.382 L29.9795 708.382 Q28.7381 705.167 28.1334 702.143 Q27.4968 699.12 27.4968 696.255 Q27.4968 688.521 31.5072 684.701 Q35.5176 680.882 43.6657 680.882 Z\" fill=\"#000000\" fill-rule=\"evenodd\" fill-opacity=\"1\" /><path clip-path=\"url(#clip000)\" d=\"M33.8307 648.162 Q33.2578 649.149 33.0032 650.327 Q32.7167 651.472 32.7167 652.873 Q32.7167 657.838 35.9632 660.512 Q39.1779 663.153 45.2253 663.153 L64.0042 663.153 L64.0042 669.042 L28.3562 669.042 L28.3562 663.153 L33.8944 663.153 Q30.6479 661.307 29.0883 658.347 Q27.4968 655.387 27.4968 651.154 Q27.4968 650.549 27.5923 649.817 Q27.656 649.085 27.8151 648.194 L33.8307 648.162 Z\" fill=\"#000000\" fill-rule=\"evenodd\" fill-opacity=\"1\" /><path clip-path=\"url(#clip000)\" d=\"M33.7671 619.708 L14.479 619.708 L14.479 613.851 L64.0042 613.851 L64.0042 619.708 L58.657 619.708 Q61.8398 621.554 63.3994 624.386 Q64.9272 627.187 64.9272 631.134 Q64.9272 637.595 59.771 641.669 Q54.6147 645.711 46.212 645.711 Q37.8093 645.711 32.6531 641.669 Q27.4968 637.595 27.4968 631.134 Q27.4968 627.187 29.0564 624.386 Q30.5842 621.554 33.7671 619.708 M46.212 639.664 Q52.6732 639.664 56.3653 637.022 Q60.0256 634.349 60.0256 629.702 Q60.0256 625.055 56.3653 622.381 Q52.6732 619.708 46.212 619.708 Q39.7508 619.708 36.0905 622.381 Q32.3984 625.055 32.3984 629.702 Q32.3984 634.349 36.0905 637.022 Q39.7508 639.664 46.212 639.664 Z\" fill=\"#000000\" fill-rule=\"evenodd\" fill-opacity=\"1\" /><polyline clip-path=\"url(#clip002)\" style=\"stroke:#009af9; stroke-linecap:round; stroke-linejoin:round; stroke-width:4; stroke-opacity:1; fill:none\" points=\"\n",
       "  292.4,1372.3 305.825,1359.85 319.25,1294.38 332.675,1238.26 346.1,1197.41 359.525,1153.81 372.951,1117.17 386.376,1038.34 399.801,1016.03 413.226,818.126 \n",
       "  426.651,554.591 440.076,488.639 453.501,351.886 466.927,364.837 480.352,398.624 493.777,284.991 507.202,224.699 520.627,224.386 534.052,171.014 547.477,215.238 \n",
       "  560.903,178.954 574.328,236.214 587.753,180.987 601.178,174.401 614.603,181.584 628.028,201.145 641.453,176.607 654.878,112.492 668.304,139.576 681.729,149.132 \n",
       "  695.154,163.823 708.579,191.189 722.004,150.68 735.429,187.123 748.854,139.045 762.28,148.295 775.705,154.644 789.13,134.502 802.555,141.677 815.98,159.466 \n",
       "  829.405,126.025 842.83,149.948 856.256,137.978 869.681,133.744 883.106,147.484 896.531,146.003 909.956,172.607 923.381,159.95 936.806,85.838 950.232,137.023 \n",
       "  963.657,175.14 977.082,162.483 990.507,150.479 1003.93,210.882 1017.36,124.614 1030.78,159.334 1044.21,112.428 1057.63,139.072 1071.06,131.829 1084.48,133.229 \n",
       "  1097.91,145.544 1111.33,128.254 1124.76,122.815 1138.18,126.316 1151.61,133.727 1165.03,147.336 1178.46,151.448 1191.88,129.135 1205.31,154.343 1218.73,157.941 \n",
       "  1232.16,133.377 1245.58,125.453 1259.01,135.501 1272.43,130.647 1285.86,121.687 1299.29,116.063 1312.71,116.141 1326.14,105.639 1339.56,125.87 1352.99,169.653 \n",
       "  1366.41,168.446 1379.84,161.649 1393.26,175.801 1406.69,147.5 1420.11,111.434 1433.54,104.332 1446.96,149.325 1460.39,190.162 1473.81,191.44 1487.24,177.49 \n",
       "  1500.66,149.645 1514.09,130.676 1527.51,124.35 1540.94,141.915 1554.36,133.743 1567.79,150.835 1581.21,174.049 1594.64,151.479 1608.06,193.733 1621.49,179.553 \n",
       "  1634.91,134.72 1648.34,139.557 1661.76,133.474 1675.19,158.605 1688.61,169.923 1702.04,174.149 1715.46,159.379 1728.89,192.818 1742.31,143.359 1755.74,165.322 \n",
       "  1769.17,186.338 1782.59,151.909 1796.02,185.115 1809.44,143.353 1822.87,147.594 1836.29,161.336 1849.72,151.498 1863.14,119.753 1876.57,137.906 1889.99,188.641 \n",
       "  1903.42,152.677 1916.84,182.527 1930.27,195.117 1943.69,196.957 1957.12,130.65 1970.54,131.093 1983.97,147.799 1997.39,166.28 2010.82,158.725 2024.24,129.009 \n",
       "  2037.67,148.91 2051.09,212.078 2064.52,206.672 2077.94,158.818 2091.37,242.781 2104.79,242.356 2118.22,199.156 2131.64,208.133 2145.07,185.461 2158.49,178.376 \n",
       "  2171.92,188.474 2185.34,173.104 2198.77,207.58 2212.19,262.091 2225.62,200.97 2239.04,197.675 2252.47,198.184 2265.9,212.545 2279.32,162.579 2292.75,192.203 \n",
       "  \n",
       "  \"/>\n",
       "</svg>\n"
      ]
     },
     "execution_count": 34,
     "metadata": {},
     "output_type": "execute_result"
    }
   ],
   "source": [
    "plot(iterations, rewards, xlabel=\"Iterations\", ylabel=\"Reward\", legend = false, xformatter = :scientific)"
   ]
  },
  {
   "cell_type": "code",
   "execution_count": 35,
   "id": "405bd6ad",
   "metadata": {},
   "outputs": [
    {
     "data": {
      "text/plain": [
       "\"/home/larissa/Documents/Projects/Advanced Deep Learning for Robotics/ADLR_project/src/2d/plots/slow/reward.svg\""
      ]
     },
     "execution_count": 35,
     "metadata": {},
     "output_type": "execute_result"
    }
   ],
   "source": [
    "savefig(fig_path * \"reward.svg\")"
   ]
  },
  {
   "cell_type": "code",
   "execution_count": 36,
   "id": "9535a7a5",
   "metadata": {},
   "outputs": [
    {
     "data": {
      "image/svg+xml": [
       "<?xml version=\"1.0\" encoding=\"utf-8\"?>\n",
       "<svg xmlns=\"http://www.w3.org/2000/svg\" xmlns:xlink=\"http://www.w3.org/1999/xlink\" width=\"600\" height=\"400\" viewBox=\"0 0 2400 1600\">\n",
       "<defs>\n",
       "  <clipPath id=\"clip080\">\n",
       "    <rect x=\"0\" y=\"0\" width=\"2400\" height=\"1600\"/>\n",
       "  </clipPath>\n",
       "</defs>\n",
       "<path clip-path=\"url(#clip080)\" d=\"\n",
       "M0 1600 L2400 1600 L2400 0 L0 0  Z\n",
       "  \" fill=\"#ffffff\" fill-rule=\"evenodd\" fill-opacity=\"1\"/>\n",
       "<defs>\n",
       "  <clipPath id=\"clip081\">\n",
       "    <rect x=\"480\" y=\"0\" width=\"1681\" height=\"1600\"/>\n",
       "  </clipPath>\n",
       "</defs>\n",
       "<path clip-path=\"url(#clip080)\" d=\"\n",
       "M249.542 1410.9 L2352.76 1410.9 L2352.76 47.2441 L249.542 47.2441  Z\n",
       "  \" fill=\"#ffffff\" fill-rule=\"evenodd\" fill-opacity=\"1\"/>\n",
       "<defs>\n",
       "  <clipPath id=\"clip082\">\n",
       "    <rect x=\"249\" y=\"47\" width=\"2104\" height=\"1365\"/>\n",
       "  </clipPath>\n",
       "</defs>\n",
       "<polyline clip-path=\"url(#clip082)\" style=\"stroke:#000000; stroke-linecap:round; stroke-linejoin:round; stroke-width:2; stroke-opacity:0.1; fill:none\" points=\"\n",
       "  295.75,1410.9 295.75,47.2441 \n",
       "  \"/>\n",
       "<polyline clip-path=\"url(#clip082)\" style=\"stroke:#000000; stroke-linecap:round; stroke-linejoin:round; stroke-width:2; stroke-opacity:0.1; fill:none\" points=\"\n",
       "  961.577,1410.9 961.577,47.2441 \n",
       "  \"/>\n",
       "<polyline clip-path=\"url(#clip082)\" style=\"stroke:#000000; stroke-linecap:round; stroke-linejoin:round; stroke-width:2; stroke-opacity:0.1; fill:none\" points=\"\n",
       "  1627.4,1410.9 1627.4,47.2441 \n",
       "  \"/>\n",
       "<polyline clip-path=\"url(#clip082)\" style=\"stroke:#000000; stroke-linecap:round; stroke-linejoin:round; stroke-width:2; stroke-opacity:0.1; fill:none\" points=\"\n",
       "  2293.23,1410.9 2293.23,47.2441 \n",
       "  \"/>\n",
       "<polyline clip-path=\"url(#clip080)\" style=\"stroke:#000000; stroke-linecap:round; stroke-linejoin:round; stroke-width:4; stroke-opacity:1; fill:none\" points=\"\n",
       "  249.542,1410.9 2352.76,1410.9 \n",
       "  \"/>\n",
       "<polyline clip-path=\"url(#clip080)\" style=\"stroke:#000000; stroke-linecap:round; stroke-linejoin:round; stroke-width:4; stroke-opacity:1; fill:none\" points=\"\n",
       "  295.75,1410.9 295.75,1392 \n",
       "  \"/>\n",
       "<polyline clip-path=\"url(#clip080)\" style=\"stroke:#000000; stroke-linecap:round; stroke-linejoin:round; stroke-width:4; stroke-opacity:1; fill:none\" points=\"\n",
       "  961.577,1410.9 961.577,1392 \n",
       "  \"/>\n",
       "<polyline clip-path=\"url(#clip080)\" style=\"stroke:#000000; stroke-linecap:round; stroke-linejoin:round; stroke-width:4; stroke-opacity:1; fill:none\" points=\"\n",
       "  1627.4,1410.9 1627.4,1392 \n",
       "  \"/>\n",
       "<polyline clip-path=\"url(#clip080)\" style=\"stroke:#000000; stroke-linecap:round; stroke-linejoin:round; stroke-width:4; stroke-opacity:1; fill:none\" points=\"\n",
       "  2293.23,1410.9 2293.23,1392 \n",
       "  \"/>\n",
       "<path clip-path=\"url(#clip080)\" d=\"M295.75 1441.82 Q292.139 1441.82 290.311 1445.38 Q288.505 1448.92 288.505 1456.05 Q288.505 1463.16 290.311 1466.72 Q292.139 1470.26 295.75 1470.26 Q299.385 1470.26 301.19 1466.72 Q303.019 1463.16 303.019 1456.05 Q303.019 1448.92 301.19 1445.38 Q299.385 1441.82 295.75 1441.82 M295.75 1438.11 Q301.561 1438.11 304.616 1442.72 Q307.695 1447.3 307.695 1456.05 Q307.695 1464.78 304.616 1469.38 Q301.561 1473.97 295.75 1473.97 Q289.94 1473.97 286.862 1469.38 Q283.806 1464.78 283.806 1456.05 Q283.806 1447.3 286.862 1442.72 Q289.94 1438.11 295.75 1438.11 Z\" fill=\"#000000\" fill-rule=\"evenodd\" fill-opacity=\"1\" /><path clip-path=\"url(#clip080)\" d=\"M854.554 1454.4 L872.91 1454.4 L872.91 1458.33 L858.836 1458.33 L858.836 1466.8 Q859.855 1466.46 860.873 1466.29 Q861.892 1466.11 862.91 1466.11 Q868.697 1466.11 872.077 1469.28 Q875.456 1472.45 875.456 1477.87 Q875.456 1483.45 871.984 1486.55 Q868.512 1489.63 862.193 1489.63 Q860.017 1489.63 857.748 1489.26 Q855.503 1488.89 853.096 1488.15 L853.096 1483.45 Q855.179 1484.58 857.401 1485.14 Q859.623 1485.69 862.1 1485.69 Q866.105 1485.69 868.443 1483.59 Q870.781 1481.48 870.781 1477.87 Q870.781 1474.26 868.443 1472.15 Q866.105 1470.04 862.1 1470.04 Q860.225 1470.04 858.35 1470.46 Q856.498 1470.88 854.554 1471.76 L854.554 1454.4 Z\" fill=\"#000000\" fill-rule=\"evenodd\" fill-opacity=\"1\" /><path clip-path=\"url(#clip080)\" d=\"M884.669 1483.08 L889.554 1483.08 L889.554 1488.96 L884.669 1488.96 L884.669 1483.08 Z\" fill=\"#000000\" fill-rule=\"evenodd\" fill-opacity=\"1\" /><path clip-path=\"url(#clip080)\" d=\"M909.739 1457.48 Q906.128 1457.48 904.299 1461.04 Q902.493 1464.58 902.493 1471.71 Q902.493 1478.82 904.299 1482.38 Q906.128 1485.92 909.739 1485.92 Q913.373 1485.92 915.179 1482.38 Q917.007 1478.82 917.007 1471.71 Q917.007 1464.58 915.179 1461.04 Q913.373 1457.48 909.739 1457.48 M909.739 1453.77 Q915.549 1453.77 918.604 1458.38 Q921.683 1462.96 921.683 1471.71 Q921.683 1480.44 918.604 1485.04 Q915.549 1489.63 909.739 1489.63 Q903.929 1489.63 900.85 1485.04 Q897.794 1480.44 897.794 1471.71 Q897.794 1462.96 900.85 1458.38 Q903.929 1453.77 909.739 1453.77 Z\" fill=\"#000000\" fill-rule=\"evenodd\" fill-opacity=\"1\" /><path clip-path=\"url(#clip080)\" d=\"M939.901 1457.48 Q936.29 1457.48 934.461 1461.04 Q932.655 1464.58 932.655 1471.71 Q932.655 1478.82 934.461 1482.38 Q936.29 1485.92 939.901 1485.92 Q943.535 1485.92 945.34 1482.38 Q947.169 1478.82 947.169 1471.71 Q947.169 1464.58 945.34 1461.04 Q943.535 1457.48 939.901 1457.48 M939.901 1453.77 Q945.711 1453.77 948.766 1458.38 Q951.845 1462.96 951.845 1471.71 Q951.845 1480.44 948.766 1485.04 Q945.711 1489.63 939.901 1489.63 Q934.09 1489.63 931.012 1485.04 Q927.956 1480.44 927.956 1471.71 Q927.956 1462.96 931.012 1458.38 Q934.09 1453.77 939.901 1453.77 Z\" fill=\"#000000\" fill-rule=\"evenodd\" fill-opacity=\"1\" /><path clip-path=\"url(#clip080)\" d=\"M988.234 1463.49 L977.655 1474.12 L988.234 1484.7 L985.479 1487.5 L974.854 1476.87 L964.229 1487.5 L961.498 1484.7 L972.053 1474.12 L961.498 1463.49 L964.229 1460.69 L974.854 1471.32 L985.479 1460.69 L988.234 1463.49 Z\" fill=\"#000000\" fill-rule=\"evenodd\" fill-opacity=\"1\" /><path clip-path=\"url(#clip080)\" d=\"M1000.59 1485.02 L1008.23 1485.02 L1008.23 1458.66 L999.923 1460.32 L999.923 1456.06 L1008.19 1454.4 L1012.86 1454.4 L1012.86 1485.02 L1020.5 1485.02 L1020.5 1488.96 L1000.59 1488.96 L1000.59 1485.02 Z\" fill=\"#000000\" fill-rule=\"evenodd\" fill-opacity=\"1\" /><path clip-path=\"url(#clip080)\" d=\"M1039.95 1457.48 Q1036.34 1457.48 1034.51 1461.04 Q1032.7 1464.58 1032.7 1471.71 Q1032.7 1478.82 1034.51 1482.38 Q1036.34 1485.92 1039.95 1485.92 Q1043.58 1485.92 1045.39 1482.38 Q1047.21 1478.82 1047.21 1471.71 Q1047.21 1464.58 1045.39 1461.04 Q1043.58 1457.48 1039.95 1457.48 M1039.95 1453.77 Q1045.76 1453.77 1048.81 1458.38 Q1051.89 1462.96 1051.89 1471.71 Q1051.89 1480.44 1048.81 1485.04 Q1045.76 1489.63 1039.95 1489.63 Q1034.14 1489.63 1031.06 1485.04 Q1028 1480.44 1028 1471.71 Q1028 1462.96 1031.06 1458.38 Q1034.14 1453.77 1039.95 1453.77 Z\" fill=\"#000000\" fill-rule=\"evenodd\" fill-opacity=\"1\" /><path clip-path=\"url(#clip080)\" d=\"M1053.08 1433.47 L1067.99 1433.47 L1067.99 1436.66 L1056.56 1436.66 L1056.56 1443.55 Q1057.38 1443.27 1058.21 1443.13 Q1059.04 1442.98 1059.87 1442.98 Q1064.57 1442.98 1067.31 1445.56 Q1070.06 1448.14 1070.06 1452.54 Q1070.06 1457.07 1067.24 1459.59 Q1064.42 1462.09 1059.28 1462.09 Q1057.51 1462.09 1055.67 1461.79 Q1053.85 1461.49 1051.89 1460.89 L1051.89 1457.07 Q1053.58 1457.99 1055.39 1458.44 Q1057.19 1458.89 1059.21 1458.89 Q1062.46 1458.89 1064.36 1457.18 Q1066.26 1455.47 1066.26 1452.54 Q1066.26 1449.6 1064.36 1447.89 Q1062.46 1446.18 1059.21 1446.18 Q1057.68 1446.18 1056.16 1446.52 Q1054.66 1446.86 1053.08 1447.57 L1053.08 1433.47 Z\" fill=\"#000000\" fill-rule=\"evenodd\" fill-opacity=\"1\" /><path clip-path=\"url(#clip080)\" d=\"M1519.76 1485.02 L1527.4 1485.02 L1527.4 1458.66 L1519.09 1460.32 L1519.09 1456.06 L1527.35 1454.4 L1532.03 1454.4 L1532.03 1485.02 L1539.67 1485.02 L1539.67 1488.96 L1519.76 1488.96 L1519.76 1485.02 Z\" fill=\"#000000\" fill-rule=\"evenodd\" fill-opacity=\"1\" /><path clip-path=\"url(#clip080)\" d=\"M1549.11 1483.08 L1553.99 1483.08 L1553.99 1488.96 L1549.11 1488.96 L1549.11 1483.08 Z\" fill=\"#000000\" fill-rule=\"evenodd\" fill-opacity=\"1\" /><path clip-path=\"url(#clip080)\" d=\"M1574.18 1457.48 Q1570.57 1457.48 1568.74 1461.04 Q1566.93 1464.58 1566.93 1471.71 Q1566.93 1478.82 1568.74 1482.38 Q1570.57 1485.92 1574.18 1485.92 Q1577.81 1485.92 1579.62 1482.38 Q1581.45 1478.82 1581.45 1471.71 Q1581.45 1464.58 1579.62 1461.04 Q1577.81 1457.48 1574.18 1457.48 M1574.18 1453.77 Q1579.99 1453.77 1583.04 1458.38 Q1586.12 1462.96 1586.12 1471.71 Q1586.12 1480.44 1583.04 1485.04 Q1579.99 1489.63 1574.18 1489.63 Q1568.37 1489.63 1565.29 1485.04 Q1562.23 1480.44 1562.23 1471.71 Q1562.23 1462.96 1565.29 1458.38 Q1568.37 1453.77 1574.18 1453.77 Z\" fill=\"#000000\" fill-rule=\"evenodd\" fill-opacity=\"1\" /><path clip-path=\"url(#clip080)\" d=\"M1604.34 1457.48 Q1600.73 1457.48 1598.9 1461.04 Q1597.1 1464.58 1597.1 1471.71 Q1597.1 1478.82 1598.9 1482.38 Q1600.73 1485.92 1604.34 1485.92 Q1607.97 1485.92 1609.78 1482.38 Q1611.61 1478.82 1611.61 1471.71 Q1611.61 1464.58 1609.78 1461.04 Q1607.97 1457.48 1604.34 1457.48 M1604.34 1453.77 Q1610.15 1453.77 1613.21 1458.38 Q1616.29 1462.96 1616.29 1471.71 Q1616.29 1480.44 1613.21 1485.04 Q1610.15 1489.63 1604.34 1489.63 Q1598.53 1489.63 1595.45 1485.04 Q1592.4 1480.44 1592.4 1471.71 Q1592.4 1462.96 1595.45 1458.38 Q1598.53 1453.77 1604.34 1453.77 Z\" fill=\"#000000\" fill-rule=\"evenodd\" fill-opacity=\"1\" /><path clip-path=\"url(#clip080)\" d=\"M1652.67 1463.49 L1642.1 1474.12 L1652.67 1484.7 L1649.92 1487.5 L1639.29 1476.87 L1628.67 1487.5 L1625.94 1484.7 L1636.49 1474.12 L1625.94 1463.49 L1628.67 1460.69 L1639.29 1471.32 L1649.92 1460.69 L1652.67 1463.49 Z\" fill=\"#000000\" fill-rule=\"evenodd\" fill-opacity=\"1\" /><path clip-path=\"url(#clip080)\" d=\"M1665.03 1485.02 L1672.67 1485.02 L1672.67 1458.66 L1664.36 1460.32 L1664.36 1456.06 L1672.63 1454.4 L1677.3 1454.4 L1677.3 1485.02 L1684.94 1485.02 L1684.94 1488.96 L1665.03 1488.96 L1665.03 1485.02 Z\" fill=\"#000000\" fill-rule=\"evenodd\" fill-opacity=\"1\" /><path clip-path=\"url(#clip080)\" d=\"M1704.39 1457.48 Q1700.78 1457.48 1698.95 1461.04 Q1697.14 1464.58 1697.14 1471.71 Q1697.14 1478.82 1698.95 1482.38 Q1700.78 1485.92 1704.39 1485.92 Q1708.02 1485.92 1709.83 1482.38 Q1711.65 1478.82 1711.65 1471.71 Q1711.65 1464.58 1709.83 1461.04 Q1708.02 1457.48 1704.39 1457.48 M1704.39 1453.77 Q1710.2 1453.77 1713.25 1458.38 Q1716.33 1462.96 1716.33 1471.71 Q1716.33 1480.44 1713.25 1485.04 Q1710.2 1489.63 1704.39 1489.63 Q1698.58 1489.63 1695.5 1485.04 Q1692.44 1480.44 1692.44 1471.71 Q1692.44 1462.96 1695.5 1458.38 Q1698.58 1453.77 1704.39 1453.77 Z\" fill=\"#000000\" fill-rule=\"evenodd\" fill-opacity=\"1\" /><path clip-path=\"url(#clip080)\" d=\"M1726.36 1445.99 Q1723.8 1445.99 1722.29 1447.74 Q1720.81 1449.49 1720.81 1452.54 Q1720.81 1455.57 1722.29 1457.33 Q1723.8 1459.08 1726.36 1459.08 Q1728.91 1459.08 1730.4 1457.33 Q1731.9 1455.57 1731.9 1452.54 Q1731.9 1449.49 1730.4 1447.74 Q1728.91 1445.99 1726.36 1445.99 M1733.9 1434.09 L1733.9 1437.55 Q1732.47 1436.87 1731 1436.51 Q1729.55 1436.16 1728.12 1436.16 Q1724.36 1436.16 1722.37 1438.69 Q1720.39 1441.23 1720.11 1446.37 Q1721.22 1444.73 1722.89 1443.87 Q1724.57 1442.98 1726.58 1442.98 Q1730.81 1442.98 1733.26 1445.56 Q1735.72 1448.12 1735.72 1452.54 Q1735.72 1456.86 1733.16 1459.48 Q1730.61 1462.09 1726.36 1462.09 Q1721.48 1462.09 1718.91 1458.37 Q1716.33 1454.62 1716.33 1447.53 Q1716.33 1440.88 1719.49 1436.93 Q1722.65 1432.96 1727.97 1432.96 Q1729.4 1432.96 1730.85 1433.24 Q1732.32 1433.52 1733.9 1434.09 Z\" fill=\"#000000\" fill-rule=\"evenodd\" fill-opacity=\"1\" /><path clip-path=\"url(#clip080)\" d=\"M2185.58 1485.02 L2193.22 1485.02 L2193.22 1458.66 L2184.91 1460.32 L2184.91 1456.06 L2193.18 1454.4 L2197.85 1454.4 L2197.85 1485.02 L2205.49 1485.02 L2205.49 1488.96 L2185.58 1488.96 L2185.58 1485.02 Z\" fill=\"#000000\" fill-rule=\"evenodd\" fill-opacity=\"1\" /><path clip-path=\"url(#clip080)\" d=\"M2214.94 1483.08 L2219.82 1483.08 L2219.82 1488.96 L2214.94 1488.96 L2214.94 1483.08 Z\" fill=\"#000000\" fill-rule=\"evenodd\" fill-opacity=\"1\" /><path clip-path=\"url(#clip080)\" d=\"M2230.05 1454.4 L2248.41 1454.4 L2248.41 1458.33 L2234.33 1458.33 L2234.33 1466.8 Q2235.35 1466.46 2236.37 1466.29 Q2237.39 1466.11 2238.41 1466.11 Q2244.2 1466.11 2247.58 1469.28 Q2250.95 1472.45 2250.95 1477.87 Q2250.95 1483.45 2247.48 1486.55 Q2244.01 1489.63 2237.69 1489.63 Q2235.52 1489.63 2233.25 1489.26 Q2231 1488.89 2228.59 1488.15 L2228.59 1483.45 Q2230.68 1484.58 2232.9 1485.14 Q2235.12 1485.69 2237.6 1485.69 Q2241.6 1485.69 2243.94 1483.59 Q2246.28 1481.48 2246.28 1477.87 Q2246.28 1474.26 2243.94 1472.15 Q2241.6 1470.04 2237.6 1470.04 Q2235.72 1470.04 2233.85 1470.46 Q2232 1470.88 2230.05 1471.76 L2230.05 1454.4 Z\" fill=\"#000000\" fill-rule=\"evenodd\" fill-opacity=\"1\" /><path clip-path=\"url(#clip080)\" d=\"M2270.17 1457.48 Q2266.56 1457.48 2264.73 1461.04 Q2262.92 1464.58 2262.92 1471.71 Q2262.92 1478.82 2264.73 1482.38 Q2266.56 1485.92 2270.17 1485.92 Q2273.8 1485.92 2275.61 1482.38 Q2277.44 1478.82 2277.44 1471.71 Q2277.44 1464.58 2275.61 1461.04 Q2273.8 1457.48 2270.17 1457.48 M2270.17 1453.77 Q2275.98 1453.77 2279.03 1458.38 Q2282.11 1462.96 2282.11 1471.71 Q2282.11 1480.44 2279.03 1485.04 Q2275.98 1489.63 2270.17 1489.63 Q2264.36 1489.63 2261.28 1485.04 Q2258.22 1480.44 2258.22 1471.71 Q2258.22 1462.96 2261.28 1458.38 Q2264.36 1453.77 2270.17 1453.77 Z\" fill=\"#000000\" fill-rule=\"evenodd\" fill-opacity=\"1\" /><path clip-path=\"url(#clip080)\" d=\"M2318.5 1463.49 L2307.92 1474.12 L2318.5 1484.7 L2315.75 1487.5 L2305.12 1476.87 L2294.5 1487.5 L2291.76 1484.7 L2302.32 1474.12 L2291.76 1463.49 L2294.5 1460.69 L2305.12 1471.32 L2315.75 1460.69 L2318.5 1463.49 Z\" fill=\"#000000\" fill-rule=\"evenodd\" fill-opacity=\"1\" /><path clip-path=\"url(#clip080)\" d=\"M2330.86 1485.02 L2338.5 1485.02 L2338.5 1458.66 L2330.19 1460.32 L2330.19 1456.06 L2338.45 1454.4 L2343.13 1454.4 L2343.13 1485.02 L2350.77 1485.02 L2350.77 1488.96 L2330.86 1488.96 L2330.86 1485.02 Z\" fill=\"#000000\" fill-rule=\"evenodd\" fill-opacity=\"1\" /><path clip-path=\"url(#clip080)\" d=\"M2370.21 1457.48 Q2366.6 1457.48 2364.77 1461.04 Q2362.97 1464.58 2362.97 1471.71 Q2362.97 1478.82 2364.77 1482.38 Q2366.6 1485.92 2370.21 1485.92 Q2373.85 1485.92 2375.65 1482.38 Q2377.48 1478.82 2377.48 1471.71 Q2377.48 1464.58 2375.65 1461.04 Q2373.85 1457.48 2370.21 1457.48 M2370.21 1453.77 Q2376.02 1453.77 2379.08 1458.38 Q2382.16 1462.96 2382.16 1471.71 Q2382.16 1480.44 2379.08 1485.04 Q2376.02 1489.63 2370.21 1489.63 Q2364.4 1489.63 2361.32 1485.04 Q2358.27 1480.44 2358.27 1471.71 Q2358.27 1462.96 2361.32 1458.38 Q2364.4 1453.77 2370.21 1453.77 Z\" fill=\"#000000\" fill-rule=\"evenodd\" fill-opacity=\"1\" /><path clip-path=\"url(#clip080)\" d=\"M2392.18 1445.99 Q2389.62 1445.99 2388.12 1447.74 Q2386.63 1449.49 2386.63 1452.54 Q2386.63 1455.57 2388.12 1457.33 Q2389.62 1459.08 2392.18 1459.08 Q2394.74 1459.08 2396.23 1457.33 Q2397.73 1455.57 2397.73 1452.54 Q2397.73 1449.49 2396.23 1447.74 Q2394.74 1445.99 2392.18 1445.99 M2399.72 1434.09 L2399.72 1437.55 Q2398.29 1436.87 2396.83 1436.51 Q2395.38 1436.16 2393.95 1436.16 Q2390.19 1436.16 2388.2 1438.69 Q2386.22 1441.23 2385.94 1446.37 Q2387.05 1444.73 2388.72 1443.87 Q2390.4 1442.98 2392.41 1442.98 Q2396.64 1442.98 2399.08 1445.56 Q2401.55 1448.12 2401.55 1452.54 Q2401.55 1456.86 2398.99 1459.48 Q2396.43 1462.09 2392.18 1462.09 Q2387.31 1462.09 2384.73 1458.37 Q2382.16 1454.62 2382.16 1447.53 Q2382.16 1440.88 2385.32 1436.93 Q2388.48 1432.96 2393.8 1432.96 Q2395.23 1432.96 2396.68 1433.24 Q2398.14 1433.52 2399.72 1434.09 Z\" fill=\"#000000\" fill-rule=\"evenodd\" fill-opacity=\"1\" /><path clip-path=\"url(#clip080)\" d=\"M1150.71 1526.67 L1157.14 1526.67 L1157.14 1574.19 L1150.71 1574.19 L1150.71 1526.67 Z\" fill=\"#000000\" fill-rule=\"evenodd\" fill-opacity=\"1\" /><path clip-path=\"url(#clip080)\" d=\"M1175.47 1528.42 L1175.47 1538.54 L1187.54 1538.54 L1187.54 1543.09 L1175.47 1543.09 L1175.47 1562.44 Q1175.47 1566.8 1176.65 1568.04 Q1177.86 1569.28 1181.52 1569.28 L1187.54 1569.28 L1187.54 1574.19 L1181.52 1574.19 Q1174.74 1574.19 1172.16 1571.67 Q1169.59 1569.12 1169.59 1562.44 L1169.59 1543.09 L1165.29 1543.09 L1165.29 1538.54 L1169.59 1538.54 L1169.59 1528.42 L1175.47 1528.42 Z\" fill=\"#000000\" fill-rule=\"evenodd\" fill-opacity=\"1\" /><path clip-path=\"url(#clip080)\" d=\"M1225.73 1554.9 L1225.73 1557.76 L1198.8 1557.76 Q1199.19 1563.81 1202.43 1566.99 Q1205.71 1570.14 1211.54 1570.14 Q1214.91 1570.14 1218.06 1569.32 Q1221.24 1568.49 1224.36 1566.83 L1224.36 1572.37 Q1221.21 1573.71 1217.9 1574.41 Q1214.59 1575.11 1211.19 1575.11 Q1202.66 1575.11 1197.66 1570.14 Q1192.69 1565.18 1192.69 1556.71 Q1192.69 1547.96 1197.4 1542.83 Q1202.15 1537.68 1210.17 1537.68 Q1217.36 1537.68 1221.53 1542.33 Q1225.73 1546.94 1225.73 1554.9 M1219.87 1553.18 Q1219.81 1548.37 1217.17 1545.51 Q1214.56 1542.64 1210.23 1542.64 Q1205.33 1542.64 1202.37 1545.41 Q1199.44 1548.18 1199 1553.21 L1219.87 1553.18 Z\" fill=\"#000000\" fill-rule=\"evenodd\" fill-opacity=\"1\" /><path clip-path=\"url(#clip080)\" d=\"M1256 1544.01 Q1255.01 1543.44 1253.84 1543.18 Q1252.69 1542.9 1251.29 1542.9 Q1246.32 1542.9 1243.65 1546.14 Q1241.01 1549.36 1241.01 1555.41 L1241.01 1574.19 L1235.12 1574.19 L1235.12 1538.54 L1241.01 1538.54 L1241.01 1544.08 Q1242.86 1540.83 1245.82 1539.27 Q1248.78 1537.68 1253.01 1537.68 Q1253.61 1537.68 1254.35 1537.77 Q1255.08 1537.84 1255.97 1538 L1256 1544.01 Z\" fill=\"#000000\" fill-rule=\"evenodd\" fill-opacity=\"1\" /><path clip-path=\"url(#clip080)\" d=\"M1278.34 1556.27 Q1271.25 1556.27 1268.51 1557.89 Q1265.77 1559.51 1265.77 1563.43 Q1265.77 1566.55 1267.81 1568.39 Q1269.88 1570.21 1273.41 1570.21 Q1278.28 1570.21 1281.21 1566.77 Q1284.17 1563.3 1284.17 1557.57 L1284.17 1556.27 L1278.34 1556.27 M1290.02 1553.85 L1290.02 1574.19 L1284.17 1574.19 L1284.17 1568.77 Q1282.16 1572.02 1279.17 1573.58 Q1276.18 1575.11 1271.85 1575.11 Q1266.38 1575.11 1263.13 1572.05 Q1259.92 1568.97 1259.92 1563.81 Q1259.92 1557.79 1263.93 1554.74 Q1267.97 1551.68 1275.96 1551.68 L1284.17 1551.68 L1284.17 1551.11 Q1284.17 1547.07 1281.49 1544.87 Q1278.85 1542.64 1274.05 1542.64 Q1270.99 1542.64 1268.1 1543.38 Q1265.2 1544.11 1262.53 1545.57 L1262.53 1540.16 Q1265.74 1538.92 1268.76 1538.31 Q1271.79 1537.68 1274.65 1537.68 Q1282.39 1537.68 1286.21 1541.69 Q1290.02 1545.7 1290.02 1553.85 Z\" fill=\"#000000\" fill-rule=\"evenodd\" fill-opacity=\"1\" /><path clip-path=\"url(#clip080)\" d=\"M1307.88 1528.42 L1307.88 1538.54 L1319.94 1538.54 L1319.94 1543.09 L1307.88 1543.09 L1307.88 1562.44 Q1307.88 1566.8 1309.06 1568.04 Q1310.27 1569.28 1313.93 1569.28 L1319.94 1569.28 L1319.94 1574.19 L1313.93 1574.19 Q1307.15 1574.19 1304.57 1571.67 Q1301.99 1569.12 1301.99 1562.44 L1301.99 1543.09 L1297.7 1543.09 L1297.7 1538.54 L1301.99 1538.54 L1301.99 1528.42 L1307.88 1528.42 Z\" fill=\"#000000\" fill-rule=\"evenodd\" fill-opacity=\"1\" /><path clip-path=\"url(#clip080)\" d=\"M1327.65 1538.54 L1333.5 1538.54 L1333.5 1574.19 L1327.65 1574.19 L1327.65 1538.54 M1327.65 1524.66 L1333.5 1524.66 L1333.5 1532.08 L1327.65 1532.08 L1327.65 1524.66 Z\" fill=\"#000000\" fill-rule=\"evenodd\" fill-opacity=\"1\" /><path clip-path=\"url(#clip080)\" d=\"M1359.57 1542.64 Q1354.86 1542.64 1352.12 1546.34 Q1349.39 1550 1349.39 1556.39 Q1349.39 1562.79 1352.09 1566.48 Q1354.83 1570.14 1359.57 1570.14 Q1364.25 1570.14 1366.99 1566.45 Q1369.72 1562.76 1369.72 1556.39 Q1369.72 1550.06 1366.99 1546.37 Q1364.25 1542.64 1359.57 1542.64 M1359.57 1537.68 Q1367.21 1537.68 1371.57 1542.64 Q1375.93 1547.61 1375.93 1556.39 Q1375.93 1565.15 1371.57 1570.14 Q1367.21 1575.11 1359.57 1575.11 Q1351.9 1575.11 1347.54 1570.14 Q1343.21 1565.15 1343.21 1556.39 Q1343.21 1547.61 1347.54 1542.64 Q1351.9 1537.68 1359.57 1537.68 Z\" fill=\"#000000\" fill-rule=\"evenodd\" fill-opacity=\"1\" /><path clip-path=\"url(#clip080)\" d=\"M1415.27 1552.67 L1415.27 1574.19 L1409.41 1574.19 L1409.41 1552.86 Q1409.41 1547.8 1407.44 1545.29 Q1405.47 1542.77 1401.52 1542.77 Q1396.78 1542.77 1394.04 1545.79 Q1391.3 1548.82 1391.3 1554.04 L1391.3 1574.19 L1385.42 1574.19 L1385.42 1538.54 L1391.3 1538.54 L1391.3 1544.08 Q1393.4 1540.86 1396.24 1539.27 Q1399.1 1537.68 1402.83 1537.68 Q1408.97 1537.68 1412.12 1541.5 Q1415.27 1545.29 1415.27 1552.67 Z\" fill=\"#000000\" fill-rule=\"evenodd\" fill-opacity=\"1\" /><path clip-path=\"url(#clip080)\" d=\"M1449.68 1539.59 L1449.68 1545.13 Q1447.19 1543.85 1444.52 1543.22 Q1441.85 1542.58 1438.98 1542.58 Q1434.62 1542.58 1432.43 1543.92 Q1430.26 1545.25 1430.26 1547.93 Q1430.26 1549.96 1431.82 1551.14 Q1433.38 1552.29 1438.09 1553.34 L1440.1 1553.78 Q1446.33 1555.12 1448.94 1557.57 Q1451.59 1559.99 1451.59 1564.35 Q1451.59 1569.32 1447.64 1572.21 Q1443.72 1575.11 1436.85 1575.11 Q1433.99 1575.11 1430.87 1574.54 Q1427.78 1573.99 1424.34 1572.88 L1424.34 1566.83 Q1427.59 1568.52 1430.74 1569.38 Q1433.89 1570.21 1436.98 1570.21 Q1441.11 1570.21 1443.34 1568.81 Q1445.57 1567.37 1445.57 1564.8 Q1445.57 1562.41 1443.95 1561.14 Q1442.36 1559.86 1436.91 1558.68 L1434.88 1558.21 Q1429.43 1557.06 1427.01 1554.71 Q1424.6 1552.32 1424.6 1548.18 Q1424.6 1543.15 1428.16 1540.42 Q1431.73 1537.68 1438.28 1537.68 Q1441.53 1537.68 1444.39 1538.16 Q1447.26 1538.63 1449.68 1539.59 Z\" fill=\"#000000\" fill-rule=\"evenodd\" fill-opacity=\"1\" /><polyline clip-path=\"url(#clip082)\" style=\"stroke:#000000; stroke-linecap:round; stroke-linejoin:round; stroke-width:2; stroke-opacity:0.1; fill:none\" points=\"\n",
       "  249.542,1372.3 2352.76,1372.3 \n",
       "  \"/>\n",
       "<polyline clip-path=\"url(#clip082)\" style=\"stroke:#000000; stroke-linecap:round; stroke-linejoin:round; stroke-width:2; stroke-opacity:0.1; fill:none\" points=\"\n",
       "  249.542,1050.69 2352.76,1050.69 \n",
       "  \"/>\n",
       "<polyline clip-path=\"url(#clip082)\" style=\"stroke:#000000; stroke-linecap:round; stroke-linejoin:round; stroke-width:2; stroke-opacity:0.1; fill:none\" points=\"\n",
       "  249.542,729.07 2352.76,729.07 \n",
       "  \"/>\n",
       "<polyline clip-path=\"url(#clip082)\" style=\"stroke:#000000; stroke-linecap:round; stroke-linejoin:round; stroke-width:2; stroke-opacity:0.1; fill:none\" points=\"\n",
       "  249.542,407.454 2352.76,407.454 \n",
       "  \"/>\n",
       "<polyline clip-path=\"url(#clip082)\" style=\"stroke:#000000; stroke-linecap:round; stroke-linejoin:round; stroke-width:2; stroke-opacity:0.1; fill:none\" points=\"\n",
       "  249.542,85.838 2352.76,85.838 \n",
       "  \"/>\n",
       "<polyline clip-path=\"url(#clip080)\" style=\"stroke:#000000; stroke-linecap:round; stroke-linejoin:round; stroke-width:4; stroke-opacity:1; fill:none\" points=\"\n",
       "  249.542,1410.9 249.542,47.2441 \n",
       "  \"/>\n",
       "<polyline clip-path=\"url(#clip080)\" style=\"stroke:#000000; stroke-linecap:round; stroke-linejoin:round; stroke-width:4; stroke-opacity:1; fill:none\" points=\"\n",
       "  249.542,1372.3 268.44,1372.3 \n",
       "  \"/>\n",
       "<polyline clip-path=\"url(#clip080)\" style=\"stroke:#000000; stroke-linecap:round; stroke-linejoin:round; stroke-width:4; stroke-opacity:1; fill:none\" points=\"\n",
       "  249.542,1050.69 268.44,1050.69 \n",
       "  \"/>\n",
       "<polyline clip-path=\"url(#clip080)\" style=\"stroke:#000000; stroke-linecap:round; stroke-linejoin:round; stroke-width:4; stroke-opacity:1; fill:none\" points=\"\n",
       "  249.542,729.07 268.44,729.07 \n",
       "  \"/>\n",
       "<polyline clip-path=\"url(#clip080)\" style=\"stroke:#000000; stroke-linecap:round; stroke-linejoin:round; stroke-width:4; stroke-opacity:1; fill:none\" points=\"\n",
       "  249.542,407.454 268.44,407.454 \n",
       "  \"/>\n",
       "<polyline clip-path=\"url(#clip080)\" style=\"stroke:#000000; stroke-linecap:round; stroke-linejoin:round; stroke-width:4; stroke-opacity:1; fill:none\" points=\"\n",
       "  249.542,85.838 268.44,85.838 \n",
       "  \"/>\n",
       "<path clip-path=\"url(#clip080)\" d=\"M126.205 1358.1 Q122.593 1358.1 120.765 1361.67 Q118.959 1365.21 118.959 1372.34 Q118.959 1379.44 120.765 1383.01 Q122.593 1386.55 126.205 1386.55 Q129.839 1386.55 131.644 1383.01 Q133.473 1379.44 133.473 1372.34 Q133.473 1365.21 131.644 1361.67 Q129.839 1358.1 126.205 1358.1 M126.205 1354.4 Q132.015 1354.4 135.07 1359 Q138.149 1363.59 138.149 1372.34 Q138.149 1381.06 135.07 1385.67 Q132.015 1390.25 126.205 1390.25 Q120.394 1390.25 117.316 1385.67 Q114.26 1381.06 114.26 1372.34 Q114.26 1363.59 117.316 1359 Q120.394 1354.4 126.205 1354.4 Z\" fill=\"#000000\" fill-rule=\"evenodd\" fill-opacity=\"1\" /><path clip-path=\"url(#clip080)\" d=\"M146.366 1383.7 L151.251 1383.7 L151.251 1389.58 L146.366 1389.58 L146.366 1383.7 Z\" fill=\"#000000\" fill-rule=\"evenodd\" fill-opacity=\"1\" /><path clip-path=\"url(#clip080)\" d=\"M171.436 1358.1 Q167.825 1358.1 165.996 1361.67 Q164.19 1365.21 164.19 1372.34 Q164.19 1379.44 165.996 1383.01 Q167.825 1386.55 171.436 1386.55 Q175.07 1386.55 176.876 1383.01 Q178.704 1379.44 178.704 1372.34 Q178.704 1365.21 176.876 1361.67 Q175.07 1358.1 171.436 1358.1 M171.436 1354.4 Q177.246 1354.4 180.301 1359 Q183.38 1363.59 183.38 1372.34 Q183.38 1381.06 180.301 1385.67 Q177.246 1390.25 171.436 1390.25 Q165.626 1390.25 162.547 1385.67 Q159.491 1381.06 159.491 1372.34 Q159.491 1363.59 162.547 1359 Q165.626 1354.4 171.436 1354.4 Z\" fill=\"#000000\" fill-rule=\"evenodd\" fill-opacity=\"1\" /><path clip-path=\"url(#clip080)\" d=\"M201.598 1358.1 Q197.987 1358.1 196.158 1361.67 Q194.352 1365.21 194.352 1372.34 Q194.352 1379.44 196.158 1383.01 Q197.987 1386.55 201.598 1386.55 Q205.232 1386.55 207.037 1383.01 Q208.866 1379.44 208.866 1372.34 Q208.866 1365.21 207.037 1361.67 Q205.232 1358.1 201.598 1358.1 M201.598 1354.4 Q207.408 1354.4 210.463 1359 Q213.542 1363.59 213.542 1372.34 Q213.542 1381.06 210.463 1385.67 Q207.408 1390.25 201.598 1390.25 Q195.787 1390.25 192.709 1385.67 Q189.653 1381.06 189.653 1372.34 Q189.653 1363.59 192.709 1359 Q195.787 1354.4 201.598 1354.4 Z\" fill=\"#000000\" fill-rule=\"evenodd\" fill-opacity=\"1\" /><path clip-path=\"url(#clip080)\" d=\"M127.2 1036.49 Q123.589 1036.49 121.76 1040.05 Q119.955 1043.59 119.955 1050.72 Q119.955 1057.83 121.76 1061.39 Q123.589 1064.93 127.2 1064.93 Q130.834 1064.93 132.64 1061.39 Q134.468 1057.83 134.468 1050.72 Q134.468 1043.59 132.64 1040.05 Q130.834 1036.49 127.2 1036.49 M127.2 1032.78 Q133.01 1032.78 136.066 1037.39 Q139.144 1041.97 139.144 1050.72 Q139.144 1059.45 136.066 1064.05 Q133.01 1068.64 127.2 1068.64 Q121.39 1068.64 118.311 1064.05 Q115.256 1059.45 115.256 1050.72 Q115.256 1041.97 118.311 1037.39 Q121.39 1032.78 127.2 1032.78 Z\" fill=\"#000000\" fill-rule=\"evenodd\" fill-opacity=\"1\" /><path clip-path=\"url(#clip080)\" d=\"M147.362 1062.09 L152.246 1062.09 L152.246 1067.97 L147.362 1067.97 L147.362 1062.09 Z\" fill=\"#000000\" fill-rule=\"evenodd\" fill-opacity=\"1\" /><path clip-path=\"url(#clip080)\" d=\"M166.459 1064.03 L182.778 1064.03 L182.778 1067.97 L160.834 1067.97 L160.834 1064.03 Q163.496 1061.28 168.079 1056.65 Q172.686 1051.99 173.866 1050.65 Q176.112 1048.13 176.991 1046.39 Q177.894 1044.63 177.894 1042.94 Q177.894 1040.19 175.95 1038.45 Q174.028 1036.72 170.927 1036.72 Q168.727 1036.72 166.274 1037.48 Q163.843 1038.24 161.065 1039.8 L161.065 1035.07 Q163.89 1033.94 166.343 1033.36 Q168.797 1032.78 170.834 1032.78 Q176.204 1032.78 179.399 1035.47 Q182.593 1038.15 182.593 1042.64 Q182.593 1044.77 181.783 1046.69 Q180.996 1048.59 178.889 1051.18 Q178.311 1051.86 175.209 1055.07 Q172.107 1058.27 166.459 1064.03 Z\" fill=\"#000000\" fill-rule=\"evenodd\" fill-opacity=\"1\" /><path clip-path=\"url(#clip080)\" d=\"M192.639 1033.41 L210.996 1033.41 L210.996 1037.34 L196.922 1037.34 L196.922 1045.81 Q197.94 1045.47 198.959 1045.3 Q199.977 1045.12 200.996 1045.12 Q206.783 1045.12 210.162 1048.29 Q213.542 1051.46 213.542 1056.88 Q213.542 1062.46 210.07 1065.56 Q206.598 1068.64 200.278 1068.64 Q198.102 1068.64 195.834 1068.27 Q193.588 1067.9 191.181 1067.16 L191.181 1062.46 Q193.264 1063.59 195.487 1064.15 Q197.709 1064.7 200.186 1064.7 Q204.19 1064.7 206.528 1062.6 Q208.866 1060.49 208.866 1056.88 Q208.866 1053.27 206.528 1051.16 Q204.19 1049.05 200.186 1049.05 Q198.311 1049.05 196.436 1049.47 Q194.584 1049.89 192.639 1050.77 L192.639 1033.41 Z\" fill=\"#000000\" fill-rule=\"evenodd\" fill-opacity=\"1\" /><path clip-path=\"url(#clip080)\" d=\"M126.205 714.869 Q122.593 714.869 120.765 718.434 Q118.959 721.975 118.959 729.105 Q118.959 736.212 120.765 739.776 Q122.593 743.318 126.205 743.318 Q129.839 743.318 131.644 739.776 Q133.473 736.212 133.473 729.105 Q133.473 721.975 131.644 718.434 Q129.839 714.869 126.205 714.869 M126.205 711.165 Q132.015 711.165 135.07 715.772 Q138.149 720.355 138.149 729.105 Q138.149 737.832 135.07 742.438 Q132.015 747.022 126.205 747.022 Q120.394 747.022 117.316 742.438 Q114.26 737.832 114.26 729.105 Q114.26 720.355 117.316 715.772 Q120.394 711.165 126.205 711.165 Z\" fill=\"#000000\" fill-rule=\"evenodd\" fill-opacity=\"1\" /><path clip-path=\"url(#clip080)\" d=\"M146.366 740.471 L151.251 740.471 L151.251 746.35 L146.366 746.35 L146.366 740.471 Z\" fill=\"#000000\" fill-rule=\"evenodd\" fill-opacity=\"1\" /><path clip-path=\"url(#clip080)\" d=\"M161.482 711.79 L179.839 711.79 L179.839 715.726 L165.765 715.726 L165.765 724.198 Q166.783 723.85 167.802 723.688 Q168.82 723.503 169.839 723.503 Q175.626 723.503 179.005 726.675 Q182.385 729.846 182.385 735.262 Q182.385 740.841 178.913 743.943 Q175.44 747.022 169.121 747.022 Q166.945 747.022 164.677 746.651 Q162.431 746.281 160.024 745.54 L160.024 740.841 Q162.107 741.975 164.329 742.531 Q166.552 743.086 169.028 743.086 Q173.033 743.086 175.371 740.98 Q177.709 738.874 177.709 735.262 Q177.709 731.651 175.371 729.545 Q173.033 727.438 169.028 727.438 Q167.153 727.438 165.278 727.855 Q163.427 728.272 161.482 729.151 L161.482 711.79 Z\" fill=\"#000000\" fill-rule=\"evenodd\" fill-opacity=\"1\" /><path clip-path=\"url(#clip080)\" d=\"M201.598 714.869 Q197.987 714.869 196.158 718.434 Q194.352 721.975 194.352 729.105 Q194.352 736.212 196.158 739.776 Q197.987 743.318 201.598 743.318 Q205.232 743.318 207.037 739.776 Q208.866 736.212 208.866 729.105 Q208.866 721.975 207.037 718.434 Q205.232 714.869 201.598 714.869 M201.598 711.165 Q207.408 711.165 210.463 715.772 Q213.542 720.355 213.542 729.105 Q213.542 737.832 210.463 742.438 Q207.408 747.022 201.598 747.022 Q195.787 747.022 192.709 742.438 Q189.653 737.832 189.653 729.105 Q189.653 720.355 192.709 715.772 Q195.787 711.165 201.598 711.165 Z\" fill=\"#000000\" fill-rule=\"evenodd\" fill-opacity=\"1\" /><path clip-path=\"url(#clip080)\" d=\"M127.2 393.253 Q123.589 393.253 121.76 396.818 Q119.955 400.359 119.955 407.489 Q119.955 414.595 121.76 418.16 Q123.589 421.702 127.2 421.702 Q130.834 421.702 132.64 418.16 Q134.468 414.595 134.468 407.489 Q134.468 400.359 132.64 396.818 Q130.834 393.253 127.2 393.253 M127.2 389.549 Q133.01 389.549 136.066 394.156 Q139.144 398.739 139.144 407.489 Q139.144 416.216 136.066 420.822 Q133.01 425.405 127.2 425.405 Q121.39 425.405 118.311 420.822 Q115.256 416.216 115.256 407.489 Q115.256 398.739 118.311 394.156 Q121.39 389.549 127.2 389.549 Z\" fill=\"#000000\" fill-rule=\"evenodd\" fill-opacity=\"1\" /><path clip-path=\"url(#clip080)\" d=\"M147.362 418.855 L152.246 418.855 L152.246 424.734 L147.362 424.734 L147.362 418.855 Z\" fill=\"#000000\" fill-rule=\"evenodd\" fill-opacity=\"1\" /><path clip-path=\"url(#clip080)\" d=\"M161.251 390.174 L183.473 390.174 L183.473 392.165 L170.927 424.734 L166.042 424.734 L177.848 394.109 L161.251 394.109 L161.251 390.174 Z\" fill=\"#000000\" fill-rule=\"evenodd\" fill-opacity=\"1\" /><path clip-path=\"url(#clip080)\" d=\"M192.639 390.174 L210.996 390.174 L210.996 394.109 L196.922 394.109 L196.922 402.582 Q197.94 402.234 198.959 402.072 Q199.977 401.887 200.996 401.887 Q206.783 401.887 210.162 405.058 Q213.542 408.23 213.542 413.646 Q213.542 419.225 210.07 422.327 Q206.598 425.405 200.278 425.405 Q198.102 425.405 195.834 425.035 Q193.588 424.665 191.181 423.924 L191.181 419.225 Q193.264 420.359 195.487 420.915 Q197.709 421.47 200.186 421.47 Q204.19 421.47 206.528 419.364 Q208.866 417.257 208.866 413.646 Q208.866 410.035 206.528 407.929 Q204.19 405.822 200.186 405.822 Q198.311 405.822 196.436 406.239 Q194.584 406.656 192.639 407.535 L192.639 390.174 Z\" fill=\"#000000\" fill-rule=\"evenodd\" fill-opacity=\"1\" /><path clip-path=\"url(#clip080)\" d=\"M117.015 99.1829 L124.654 99.1829 L124.654 72.8173 L116.343 74.4839 L116.343 70.2247 L124.607 68.558 L129.283 68.558 L129.283 99.1829 L136.922 99.1829 L136.922 103.118 L117.015 103.118 L117.015 99.1829 Z\" fill=\"#000000\" fill-rule=\"evenodd\" fill-opacity=\"1\" /><path clip-path=\"url(#clip080)\" d=\"M146.366 97.2384 L151.251 97.2384 L151.251 103.118 L146.366 103.118 L146.366 97.2384 Z\" fill=\"#000000\" fill-rule=\"evenodd\" fill-opacity=\"1\" /><path clip-path=\"url(#clip080)\" d=\"M171.436 71.6367 Q167.825 71.6367 165.996 75.2015 Q164.19 78.7432 164.19 85.8728 Q164.19 92.9792 165.996 96.544 Q167.825 100.086 171.436 100.086 Q175.07 100.086 176.876 96.544 Q178.704 92.9792 178.704 85.8728 Q178.704 78.7432 176.876 75.2015 Q175.07 71.6367 171.436 71.6367 M171.436 67.933 Q177.246 67.933 180.301 72.5395 Q183.38 77.1228 183.38 85.8728 Q183.38 94.5996 180.301 99.206 Q177.246 103.789 171.436 103.789 Q165.626 103.789 162.547 99.206 Q159.491 94.5996 159.491 85.8728 Q159.491 77.1228 162.547 72.5395 Q165.626 67.933 171.436 67.933 Z\" fill=\"#000000\" fill-rule=\"evenodd\" fill-opacity=\"1\" /><path clip-path=\"url(#clip080)\" d=\"M201.598 71.6367 Q197.987 71.6367 196.158 75.2015 Q194.352 78.7432 194.352 85.8728 Q194.352 92.9792 196.158 96.544 Q197.987 100.086 201.598 100.086 Q205.232 100.086 207.037 96.544 Q208.866 92.9792 208.866 85.8728 Q208.866 78.7432 207.037 75.2015 Q205.232 71.6367 201.598 71.6367 M201.598 67.933 Q207.408 67.933 210.463 72.5395 Q213.542 77.1228 213.542 85.8728 Q213.542 94.5996 210.463 99.206 Q207.408 103.789 201.598 103.789 Q195.787 103.789 192.709 99.206 Q189.653 94.5996 189.653 85.8728 Q189.653 77.1228 192.709 72.5395 Q195.787 67.933 201.598 67.933 Z\" fill=\"#000000\" fill-rule=\"evenodd\" fill-opacity=\"1\" /><path clip-path=\"url(#clip080)\" d=\"M18.0438 910.891 L24.314 910.891 Q22.5634 914.551 21.704 917.798 Q20.8447 921.044 20.8447 924.068 Q20.8447 929.32 22.8817 932.184 Q24.9187 935.017 28.6745 935.017 Q31.8255 935.017 33.4488 933.139 Q35.0402 931.229 36.0269 925.946 L36.8226 922.063 Q38.1912 914.869 41.6605 911.464 Q45.098 908.026 50.8908 908.026 Q57.7976 908.026 61.3624 912.673 Q64.9272 917.288 64.9272 926.232 Q64.9272 929.606 64.1633 933.425 Q63.3994 937.213 61.9035 941.287 L55.2831 941.287 Q57.4793 937.372 58.5933 933.616 Q59.7073 929.861 59.7073 926.232 Q59.7073 920.726 57.543 917.734 Q55.3786 914.742 51.3682 914.742 Q47.8671 914.742 45.8937 916.906 Q43.9204 919.039 42.9337 923.941 L42.1698 927.855 Q40.7375 935.049 37.682 938.263 Q34.6264 941.478 29.1837 941.478 Q22.8817 941.478 19.2532 937.054 Q15.6248 932.598 15.6248 924.8 Q15.6248 921.458 16.2295 917.989 Q16.8343 914.519 18.0438 910.891 Z\" fill=\"#000000\" fill-rule=\"evenodd\" fill-opacity=\"1\" /><path clip-path=\"url(#clip080)\" d=\"M49.9359 898.86 L28.3562 898.86 L28.3562 893.003 L49.7131 893.003 Q54.7739 893.003 57.3202 891.03 Q59.8346 889.056 59.8346 885.11 Q59.8346 880.367 56.8109 877.63 Q53.7872 874.861 48.5673 874.861 L28.3562 874.861 L28.3562 869.005 L64.0042 869.005 L64.0042 874.861 L58.5296 874.861 Q61.7762 876.993 63.3676 879.826 Q64.9272 882.627 64.9272 886.351 Q64.9272 892.494 61.1078 895.677 Q57.2883 898.86 49.9359 898.86 M27.4968 884.123 L27.4968 884.123 Z\" fill=\"#000000\" fill-rule=\"evenodd\" fill-opacity=\"1\" /><path clip-path=\"url(#clip080)\" d=\"M29.7248 831.288 L35.1993 831.288 Q33.8307 833.77 33.1623 836.285 Q32.4621 838.767 32.4621 841.314 Q32.4621 847.011 36.0905 850.162 Q39.6872 853.313 46.212 853.313 Q52.7369 853.313 56.3653 850.162 Q59.9619 847.011 59.9619 841.314 Q59.9619 838.767 59.2935 836.285 Q58.5933 833.77 57.2247 831.288 L62.6355 831.288 Q63.7814 833.738 64.3543 836.38 Q64.9272 838.99 64.9272 841.95 Q64.9272 850.003 59.8664 854.745 Q54.8057 859.488 46.212 859.488 Q37.491 859.488 32.4939 854.714 Q27.4968 849.907 27.4968 841.568 Q27.4968 838.863 28.0697 836.285 Q28.6108 833.707 29.7248 831.288 Z\" fill=\"#000000\" fill-rule=\"evenodd\" fill-opacity=\"1\" /><path clip-path=\"url(#clip080)\" d=\"M29.7248 795.449 L35.1993 795.449 Q33.8307 797.931 33.1623 800.446 Q32.4621 802.928 32.4621 805.475 Q32.4621 811.172 36.0905 814.323 Q39.6872 817.474 46.212 817.474 Q52.7369 817.474 56.3653 814.323 Q59.9619 811.172 59.9619 805.475 Q59.9619 802.928 59.2935 800.446 Q58.5933 797.931 57.2247 795.449 L62.6355 795.449 Q63.7814 797.9 64.3543 800.541 Q64.9272 803.151 64.9272 806.111 Q64.9272 814.164 59.8664 818.906 Q54.8057 823.649 46.212 823.649 Q37.491 823.649 32.4939 818.875 Q27.4968 814.068 27.4968 805.729 Q27.4968 803.024 28.0697 800.446 Q28.6108 797.868 29.7248 795.449 Z\" fill=\"#000000\" fill-rule=\"evenodd\" fill-opacity=\"1\" /><path clip-path=\"url(#clip080)\" d=\"M44.7161 754.772 L47.5806 754.772 L47.5806 781.699 Q53.6281 781.317 56.8109 778.07 Q59.9619 774.792 59.9619 768.967 Q59.9619 765.594 59.1344 762.443 Q58.3069 759.26 56.6518 756.141 L62.1899 756.141 Q63.5267 759.292 64.227 762.602 Q64.9272 765.912 64.9272 769.318 Q64.9272 777.848 59.9619 782.845 Q54.9967 787.81 46.5303 787.81 Q37.7774 787.81 32.6531 783.099 Q27.4968 778.357 27.4968 770.336 Q27.4968 763.143 32.1438 758.973 Q36.7589 754.772 44.7161 754.772 M42.9973 760.628 Q38.1912 760.692 35.3266 763.334 Q32.4621 765.944 32.4621 770.272 Q32.4621 775.174 35.2312 778.134 Q38.0002 781.062 43.0292 781.508 L42.9973 760.628 Z\" fill=\"#000000\" fill-rule=\"evenodd\" fill-opacity=\"1\" /><path clip-path=\"url(#clip080)\" d=\"M29.4065 722.434 L34.9447 722.434 Q33.6716 724.917 33.035 727.59 Q32.3984 730.264 32.3984 733.129 Q32.3984 737.489 33.7352 739.685 Q35.072 741.85 37.7456 741.85 Q39.7826 741.85 40.9603 740.29 Q42.1061 738.73 43.1565 734.02 L43.6021 732.015 Q44.9389 725.776 47.3897 723.166 Q49.8086 720.524 54.1691 720.524 Q59.1344 720.524 62.0308 724.471 Q64.9272 728.386 64.9272 735.261 Q64.9272 738.126 64.3543 741.245 Q63.8132 744.332 62.6992 747.77 L56.6518 747.77 Q58.3387 744.523 59.198 741.372 Q60.0256 738.221 60.0256 735.134 Q60.0256 730.996 58.6251 728.768 Q57.1929 726.54 54.6147 726.54 Q52.2276 726.54 50.9545 728.163 Q49.6813 729.755 48.5037 735.197 L48.0262 737.234 Q46.8804 742.677 44.5251 745.096 Q42.138 747.515 38.0002 747.515 Q32.9713 747.515 30.2341 743.95 Q27.4968 740.385 27.4968 733.829 Q27.4968 730.582 27.9743 727.718 Q28.4517 724.853 29.4065 722.434 Z\" fill=\"#000000\" fill-rule=\"evenodd\" fill-opacity=\"1\" /><path clip-path=\"url(#clip080)\" d=\"M29.4065 688.473 L34.9447 688.473 Q33.6716 690.956 33.035 693.629 Q32.3984 696.303 32.3984 699.167 Q32.3984 703.528 33.7352 705.724 Q35.072 707.888 37.7456 707.888 Q39.7826 707.888 40.9603 706.329 Q42.1061 704.769 43.1565 700.059 L43.6021 698.053 Q44.9389 691.815 47.3897 689.205 Q49.8086 686.563 54.1691 686.563 Q59.1344 686.563 62.0308 690.51 Q64.9272 694.425 64.9272 701.3 Q64.9272 704.165 64.3543 707.284 Q63.8132 710.371 62.6992 713.809 L56.6518 713.809 Q58.3387 710.562 59.198 707.411 Q60.0256 704.26 60.0256 701.173 Q60.0256 697.035 58.6251 694.807 Q57.1929 692.579 54.6147 692.579 Q52.2276 692.579 50.9545 694.202 Q49.6813 695.794 48.5037 701.236 L48.0262 703.273 Q46.8804 708.716 44.5251 711.135 Q42.138 713.554 38.0002 713.554 Q32.9713 713.554 30.2341 709.989 Q27.4968 706.424 27.4968 699.868 Q27.4968 696.621 27.9743 693.757 Q28.4517 690.892 29.4065 688.473 Z\" fill=\"#000000\" fill-rule=\"evenodd\" fill-opacity=\"1\" /><path clip-path=\"url(#clip080)\" d=\"M41.7242 633.728 Q42.4244 631.659 44.7161 629.718 Q47.0077 627.744 51.0181 625.771 L64.0042 619.246 L64.0042 626.153 L51.8138 632.232 Q47.0395 634.587 45.48 636.815 Q43.9204 639.012 43.9204 642.831 L43.9204 649.833 L64.0042 649.833 L64.0042 656.263 L16.4842 656.263 L16.4842 641.749 Q16.4842 633.601 19.8898 629.59 Q23.2955 625.58 30.1704 625.58 Q34.6582 625.58 37.6183 627.681 Q40.5784 629.749 41.7242 633.728 M21.7677 649.833 L38.6368 649.833 L38.6368 641.749 Q38.6368 637.102 36.5043 634.747 Q34.34 632.359 30.1704 632.359 Q26.0009 632.359 23.9002 634.747 Q21.7677 637.102 21.7677 641.749 L21.7677 649.833 Z\" fill=\"#000000\" fill-rule=\"evenodd\" fill-opacity=\"1\" /><path clip-path=\"url(#clip080)\" d=\"M46.0847 596.457 Q46.0847 603.555 47.7079 606.292 Q49.3312 609.029 53.2461 609.029 Q56.3653 609.029 58.2114 606.992 Q60.0256 604.923 60.0256 601.39 Q60.0256 596.52 56.5881 593.592 Q53.1188 590.632 47.3897 590.632 L46.0847 590.632 L46.0847 596.457 M43.6657 584.776 L64.0042 584.776 L64.0042 590.632 L58.5933 590.632 Q61.8398 592.637 63.3994 595.629 Q64.9272 598.621 64.9272 602.95 Q64.9272 608.424 61.8716 611.671 Q58.7843 614.886 53.6281 614.886 Q47.6125 614.886 44.5569 610.875 Q41.5014 606.833 41.5014 598.844 L41.5014 590.632 L40.9285 590.632 Q36.8862 590.632 34.6901 593.306 Q32.4621 595.948 32.4621 600.754 Q32.4621 603.809 33.1941 606.706 Q33.9262 609.602 35.3903 612.276 L29.9795 612.276 Q28.7381 609.061 28.1334 606.037 Q27.4968 603.013 27.4968 600.149 Q27.4968 592.415 31.5072 588.595 Q35.5176 584.776 43.6657 584.776 Z\" fill=\"#000000\" fill-rule=\"evenodd\" fill-opacity=\"1\" /><path clip-path=\"url(#clip080)\" d=\"M18.2347 566.92 L28.3562 566.92 L28.3562 554.857 L32.9077 554.857 L32.9077 566.92 L52.2594 566.92 Q56.6199 566.92 57.8613 565.742 Q59.1026 564.533 59.1026 560.872 L59.1026 554.857 L64.0042 554.857 L64.0042 560.872 Q64.0042 567.652 61.4897 570.23 Q58.9434 572.808 52.2594 572.808 L32.9077 572.808 L32.9077 577.105 L28.3562 577.105 L28.3562 572.808 L18.2347 572.808 L18.2347 566.92 Z\" fill=\"#000000\" fill-rule=\"evenodd\" fill-opacity=\"1\" /><path clip-path=\"url(#clip080)\" d=\"M44.7161 516.663 L47.5806 516.663 L47.5806 543.59 Q53.6281 543.208 56.8109 539.961 Q59.9619 536.683 59.9619 530.858 Q59.9619 527.484 59.1344 524.333 Q58.3069 521.15 56.6518 518.031 L62.1899 518.031 Q63.5267 521.182 64.227 524.492 Q64.9272 527.803 64.9272 531.208 Q64.9272 539.738 59.9619 544.735 Q54.9967 549.701 46.5303 549.701 Q37.7774 549.701 32.6531 544.99 Q27.4968 540.248 27.4968 532.227 Q27.4968 525.034 32.1438 520.864 Q36.7589 516.663 44.7161 516.663 M42.9973 522.519 Q38.1912 522.583 35.3266 525.225 Q32.4621 527.834 32.4621 532.163 Q32.4621 537.065 35.2312 540.025 Q38.0002 542.953 43.0292 543.399 L42.9973 522.519 Z\" fill=\"#000000\" fill-rule=\"evenodd\" fill-opacity=\"1\" /><polyline clip-path=\"url(#clip082)\" style=\"stroke:#009af9; stroke-linecap:round; stroke-linejoin:round; stroke-width:4; stroke-opacity:1; fill:none\" points=\"\n",
       "  309.067,1372.3 322.383,1372.3 335.7,1372.3 349.017,1372.3 362.333,1372.3 375.65,1372.3 388.966,1372.3 402.283,1340.14 415.599,1333.71 428.916,1140.74 \n",
       "  442.232,870.581 455.549,767.664 468.865,561.83 482.182,413.887 495.498,330.266 508.815,253.078 522.132,220.917 535.448,156.594 548.765,111.567 562.081,201.62 \n",
       "  575.398,233.781 588.714,124.432 602.031,111.567 615.347,124.432 628.664,137.297 641.98,214.485 655.297,201.62 668.613,156.594 681.93,150.161 695.247,137.297 \n",
       "  708.563,143.729 721.88,98.7027 735.196,85.838 748.513,130.864 761.829,111.567 775.146,137.297 788.462,111.567 801.779,92.2704 815.095,85.838 828.412,92.2704 \n",
       "  841.728,111.567 855.045,137.297 868.362,105.135 881.678,130.864 894.995,130.864 908.311,85.838 921.628,163.026 934.944,118 948.261,92.2704 961.577,124.432 \n",
       "  974.894,124.432 988.21,143.729 1001.53,124.432 1014.84,188.755 1028.16,98.7027 1041.48,105.135 1054.79,98.7027 1068.11,85.838 1081.43,130.864 1094.74,124.432 \n",
       "  1108.06,118 1121.38,143.729 1134.69,111.567 1148.01,124.432 1161.33,208.052 1174.64,163.026 1187.96,169.458 1201.27,169.458 1214.59,156.594 1227.91,124.432 \n",
       "  1241.22,163.026 1254.54,130.864 1267.86,105.135 1281.17,105.135 1294.49,85.838 1307.81,111.567 1321.12,105.135 1334.44,111.567 1347.76,92.2704 1361.07,92.2704 \n",
       "  1374.39,111.567 1387.71,111.567 1401.02,105.135 1414.34,92.2704 1427.66,98.7027 1440.97,85.838 1454.29,111.567 1467.61,111.567 1480.92,130.864 1494.24,118 \n",
       "  1507.56,130.864 1520.87,105.135 1534.19,137.297 1547.5,130.864 1560.82,150.161 1574.14,150.161 1587.45,130.864 1600.77,118 1614.09,137.297 1627.4,182.323 \n",
       "  1640.72,124.432 1654.04,130.864 1667.35,111.567 1680.67,130.864 1693.99,137.297 1707.3,169.458 1720.62,175.891 1733.94,208.052 1747.25,201.62 1760.57,175.891 \n",
       "  1773.89,118 1787.2,188.755 1800.52,182.323 1813.84,233.781 1827.15,182.323 1840.47,188.755 1853.79,182.323 1867.1,220.917 1880.42,111.567 1893.73,163.026 \n",
       "  1907.05,163.026 1920.37,143.729 1933.68,214.485 1947,201.62 1960.32,143.729 1973.63,182.323 1986.95,201.62 2000.27,182.323 2013.58,150.161 2026.9,169.458 \n",
       "  2040.22,188.755 2053.53,175.891 2066.85,143.729 2080.17,124.432 2093.48,201.62 2106.8,169.458 2120.12,182.323 2133.43,220.917 2146.75,208.052 2160.07,150.161 \n",
       "  2173.38,227.349 2186.7,246.646 2200.02,195.188 2213.33,381.725 2226.65,208.052 2239.96,285.24 2253.28,253.078 2266.6,208.052 2279.91,214.485 2293.23,175.891 \n",
       "  \n",
       "  \"/>\n",
       "</svg>\n"
      ]
     },
     "execution_count": 36,
     "metadata": {},
     "output_type": "execute_result"
    }
   ],
   "source": [
    "plot(iterations, success_rate, xlabel=\"Iterations\", ylabel=\"Success Rate\", legend = false, xformatter = :scientific)"
   ]
  },
  {
   "cell_type": "code",
   "execution_count": 37,
   "id": "4e57d828",
   "metadata": {},
   "outputs": [
    {
     "data": {
      "text/plain": [
       "\"/home/larissa/Documents/Projects/Advanced Deep Learning for Robotics/ADLR_project/src/2d/plots/slow/success_rate.svg\""
      ]
     },
     "execution_count": 37,
     "metadata": {},
     "output_type": "execute_result"
    }
   ],
   "source": [
    "savefig(fig_path * \"success_rate.svg\")"
   ]
  },
  {
   "cell_type": "code",
   "execution_count": 38,
   "id": "480d67d7",
   "metadata": {
    "scrolled": false
   },
   "outputs": [
    {
     "data": {
      "image/svg+xml": [
       "<?xml version=\"1.0\" encoding=\"utf-8\"?>\n",
       "<svg xmlns=\"http://www.w3.org/2000/svg\" xmlns:xlink=\"http://www.w3.org/1999/xlink\" width=\"600\" height=\"400\" viewBox=\"0 0 2400 1600\">\n",
       "<defs>\n",
       "  <clipPath id=\"clip160\">\n",
       "    <rect x=\"0\" y=\"0\" width=\"2400\" height=\"1600\"/>\n",
       "  </clipPath>\n",
       "</defs>\n",
       "<path clip-path=\"url(#clip160)\" d=\"\n",
       "M0 1600 L2400 1600 L2400 0 L0 0  Z\n",
       "  \" fill=\"#ffffff\" fill-rule=\"evenodd\" fill-opacity=\"1\"/>\n",
       "<defs>\n",
       "  <clipPath id=\"clip161\">\n",
       "    <rect x=\"480\" y=\"0\" width=\"1681\" height=\"1600\"/>\n",
       "  </clipPath>\n",
       "</defs>\n",
       "<path clip-path=\"url(#clip160)\" d=\"\n",
       "M249.195 1410.9 L2352.76 1410.9 L2352.76 47.2441 L249.195 47.2441  Z\n",
       "  \" fill=\"#ffffff\" fill-rule=\"evenodd\" fill-opacity=\"1\"/>\n",
       "<defs>\n",
       "  <clipPath id=\"clip162\">\n",
       "    <rect x=\"249\" y=\"47\" width=\"2105\" height=\"1365\"/>\n",
       "  </clipPath>\n",
       "</defs>\n",
       "<polyline clip-path=\"url(#clip162)\" style=\"stroke:#000000; stroke-linecap:round; stroke-linejoin:round; stroke-width:2; stroke-opacity:0.1; fill:none\" points=\"\n",
       "  295.411,1410.9 295.411,47.2441 \n",
       "  \"/>\n",
       "<polyline clip-path=\"url(#clip162)\" style=\"stroke:#000000; stroke-linecap:round; stroke-linejoin:round; stroke-width:2; stroke-opacity:0.1; fill:none\" points=\"\n",
       "  961.348,1410.9 961.348,47.2441 \n",
       "  \"/>\n",
       "<polyline clip-path=\"url(#clip162)\" style=\"stroke:#000000; stroke-linecap:round; stroke-linejoin:round; stroke-width:2; stroke-opacity:0.1; fill:none\" points=\"\n",
       "  1627.28,1410.9 1627.28,47.2441 \n",
       "  \"/>\n",
       "<polyline clip-path=\"url(#clip162)\" style=\"stroke:#000000; stroke-linecap:round; stroke-linejoin:round; stroke-width:2; stroke-opacity:0.1; fill:none\" points=\"\n",
       "  2293.22,1410.9 2293.22,47.2441 \n",
       "  \"/>\n",
       "<polyline clip-path=\"url(#clip160)\" style=\"stroke:#000000; stroke-linecap:round; stroke-linejoin:round; stroke-width:4; stroke-opacity:1; fill:none\" points=\"\n",
       "  249.195,1410.9 2352.76,1410.9 \n",
       "  \"/>\n",
       "<polyline clip-path=\"url(#clip160)\" style=\"stroke:#000000; stroke-linecap:round; stroke-linejoin:round; stroke-width:4; stroke-opacity:1; fill:none\" points=\"\n",
       "  295.411,1410.9 295.411,1392 \n",
       "  \"/>\n",
       "<polyline clip-path=\"url(#clip160)\" style=\"stroke:#000000; stroke-linecap:round; stroke-linejoin:round; stroke-width:4; stroke-opacity:1; fill:none\" points=\"\n",
       "  961.348,1410.9 961.348,1392 \n",
       "  \"/>\n",
       "<polyline clip-path=\"url(#clip160)\" style=\"stroke:#000000; stroke-linecap:round; stroke-linejoin:round; stroke-width:4; stroke-opacity:1; fill:none\" points=\"\n",
       "  1627.28,1410.9 1627.28,1392 \n",
       "  \"/>\n",
       "<polyline clip-path=\"url(#clip160)\" style=\"stroke:#000000; stroke-linecap:round; stroke-linejoin:round; stroke-width:4; stroke-opacity:1; fill:none\" points=\"\n",
       "  2293.22,1410.9 2293.22,1392 \n",
       "  \"/>\n",
       "<path clip-path=\"url(#clip160)\" d=\"M295.411 1441.82 Q291.8 1441.82 289.971 1445.38 Q288.165 1448.92 288.165 1456.05 Q288.165 1463.16 289.971 1466.72 Q291.8 1470.26 295.411 1470.26 Q299.045 1470.26 300.851 1466.72 Q302.679 1463.16 302.679 1456.05 Q302.679 1448.92 300.851 1445.38 Q299.045 1441.82 295.411 1441.82 M295.411 1438.11 Q301.221 1438.11 304.277 1442.72 Q307.355 1447.3 307.355 1456.05 Q307.355 1464.78 304.277 1469.38 Q301.221 1473.97 295.411 1473.97 Q289.601 1473.97 286.522 1469.38 Q283.466 1464.78 283.466 1456.05 Q283.466 1447.3 286.522 1442.72 Q289.601 1438.11 295.411 1438.11 Z\" fill=\"#000000\" fill-rule=\"evenodd\" fill-opacity=\"1\" /><path clip-path=\"url(#clip160)\" d=\"M854.324 1454.4 L872.681 1454.4 L872.681 1458.33 L858.607 1458.33 L858.607 1466.8 Q859.625 1466.46 860.644 1466.29 Q861.662 1466.11 862.681 1466.11 Q868.468 1466.11 871.847 1469.28 Q875.227 1472.45 875.227 1477.87 Q875.227 1483.45 871.755 1486.55 Q868.282 1489.63 861.963 1489.63 Q859.787 1489.63 857.519 1489.26 Q855.273 1488.89 852.866 1488.15 L852.866 1483.45 Q854.949 1484.58 857.171 1485.14 Q859.394 1485.69 861.87 1485.69 Q865.875 1485.69 868.213 1483.59 Q870.551 1481.48 870.551 1477.87 Q870.551 1474.26 868.213 1472.15 Q865.875 1470.04 861.87 1470.04 Q859.995 1470.04 858.12 1470.46 Q856.269 1470.88 854.324 1471.76 L854.324 1454.4 Z\" fill=\"#000000\" fill-rule=\"evenodd\" fill-opacity=\"1\" /><path clip-path=\"url(#clip160)\" d=\"M884.44 1483.08 L889.324 1483.08 L889.324 1488.96 L884.44 1488.96 L884.44 1483.08 Z\" fill=\"#000000\" fill-rule=\"evenodd\" fill-opacity=\"1\" /><path clip-path=\"url(#clip160)\" d=\"M909.509 1457.48 Q905.898 1457.48 904.069 1461.04 Q902.264 1464.58 902.264 1471.71 Q902.264 1478.82 904.069 1482.38 Q905.898 1485.92 909.509 1485.92 Q913.143 1485.92 914.949 1482.38 Q916.778 1478.82 916.778 1471.71 Q916.778 1464.58 914.949 1461.04 Q913.143 1457.48 909.509 1457.48 M909.509 1453.77 Q915.319 1453.77 918.375 1458.38 Q921.453 1462.96 921.453 1471.71 Q921.453 1480.44 918.375 1485.04 Q915.319 1489.63 909.509 1489.63 Q903.699 1489.63 900.62 1485.04 Q897.565 1480.44 897.565 1471.71 Q897.565 1462.96 900.62 1458.38 Q903.699 1453.77 909.509 1453.77 Z\" fill=\"#000000\" fill-rule=\"evenodd\" fill-opacity=\"1\" /><path clip-path=\"url(#clip160)\" d=\"M939.671 1457.48 Q936.06 1457.48 934.231 1461.04 Q932.426 1464.58 932.426 1471.71 Q932.426 1478.82 934.231 1482.38 Q936.06 1485.92 939.671 1485.92 Q943.305 1485.92 945.111 1482.38 Q946.939 1478.82 946.939 1471.71 Q946.939 1464.58 945.111 1461.04 Q943.305 1457.48 939.671 1457.48 M939.671 1453.77 Q945.481 1453.77 948.537 1458.38 Q951.615 1462.96 951.615 1471.71 Q951.615 1480.44 948.537 1485.04 Q945.481 1489.63 939.671 1489.63 Q933.861 1489.63 930.782 1485.04 Q927.727 1480.44 927.727 1471.71 Q927.727 1462.96 930.782 1458.38 Q933.861 1453.77 939.671 1453.77 Z\" fill=\"#000000\" fill-rule=\"evenodd\" fill-opacity=\"1\" /><path clip-path=\"url(#clip160)\" d=\"M988.004 1463.49 L977.425 1474.12 L988.004 1484.7 L985.249 1487.5 L974.624 1476.87 L963.999 1487.5 L961.268 1484.7 L971.824 1474.12 L961.268 1463.49 L963.999 1460.69 L974.624 1471.32 L985.249 1460.69 L988.004 1463.49 Z\" fill=\"#000000\" fill-rule=\"evenodd\" fill-opacity=\"1\" /><path clip-path=\"url(#clip160)\" d=\"M1000.37 1485.02 L1008 1485.02 L1008 1458.66 L999.694 1460.32 L999.694 1456.06 L1007.96 1454.4 L1012.63 1454.4 L1012.63 1485.02 L1020.27 1485.02 L1020.27 1488.96 L1000.37 1488.96 L1000.37 1485.02 Z\" fill=\"#000000\" fill-rule=\"evenodd\" fill-opacity=\"1\" /><path clip-path=\"url(#clip160)\" d=\"M1039.72 1457.48 Q1036.11 1457.48 1034.28 1461.04 Q1032.47 1464.58 1032.47 1471.71 Q1032.47 1478.82 1034.28 1482.38 Q1036.11 1485.92 1039.72 1485.92 Q1043.35 1485.92 1045.16 1482.38 Q1046.99 1478.82 1046.99 1471.71 Q1046.99 1464.58 1045.16 1461.04 Q1043.35 1457.48 1039.72 1457.48 M1039.72 1453.77 Q1045.53 1453.77 1048.58 1458.38 Q1051.66 1462.96 1051.66 1471.71 Q1051.66 1480.44 1048.58 1485.04 Q1045.53 1489.63 1039.72 1489.63 Q1033.91 1489.63 1030.83 1485.04 Q1027.77 1480.44 1027.77 1471.71 Q1027.77 1462.96 1030.83 1458.38 Q1033.91 1453.77 1039.72 1453.77 Z\" fill=\"#000000\" fill-rule=\"evenodd\" fill-opacity=\"1\" /><path clip-path=\"url(#clip160)\" d=\"M1052.85 1433.47 L1067.76 1433.47 L1067.76 1436.66 L1056.33 1436.66 L1056.33 1443.55 Q1057.15 1443.27 1057.98 1443.13 Q1058.81 1442.98 1059.64 1442.98 Q1064.34 1442.98 1067.08 1445.56 Q1069.83 1448.14 1069.83 1452.54 Q1069.83 1457.07 1067.01 1459.59 Q1064.19 1462.09 1059.05 1462.09 Q1057.28 1462.09 1055.44 1461.79 Q1053.62 1461.49 1051.66 1460.89 L1051.66 1457.07 Q1053.35 1457.99 1055.16 1458.44 Q1056.96 1458.89 1058.98 1458.89 Q1062.23 1458.89 1064.13 1457.18 Q1066.03 1455.47 1066.03 1452.54 Q1066.03 1449.6 1064.13 1447.89 Q1062.23 1446.18 1058.98 1446.18 Q1057.45 1446.18 1055.93 1446.52 Q1054.43 1446.86 1052.85 1447.57 L1052.85 1433.47 Z\" fill=\"#000000\" fill-rule=\"evenodd\" fill-opacity=\"1\" /><path clip-path=\"url(#clip160)\" d=\"M1519.64 1485.02 L1527.28 1485.02 L1527.28 1458.66 L1518.97 1460.32 L1518.97 1456.06 L1527.23 1454.4 L1531.91 1454.4 L1531.91 1485.02 L1539.55 1485.02 L1539.55 1488.96 L1519.64 1488.96 L1519.64 1485.02 Z\" fill=\"#000000\" fill-rule=\"evenodd\" fill-opacity=\"1\" /><path clip-path=\"url(#clip160)\" d=\"M1548.99 1483.08 L1553.87 1483.08 L1553.87 1488.96 L1548.99 1488.96 L1548.99 1483.08 Z\" fill=\"#000000\" fill-rule=\"evenodd\" fill-opacity=\"1\" /><path clip-path=\"url(#clip160)\" d=\"M1574.06 1457.48 Q1570.45 1457.48 1568.62 1461.04 Q1566.81 1464.58 1566.81 1471.71 Q1566.81 1478.82 1568.62 1482.38 Q1570.45 1485.92 1574.06 1485.92 Q1577.69 1485.92 1579.5 1482.38 Q1581.33 1478.82 1581.33 1471.71 Q1581.33 1464.58 1579.5 1461.04 Q1577.69 1457.48 1574.06 1457.48 M1574.06 1453.77 Q1579.87 1453.77 1582.92 1458.38 Q1586 1462.96 1586 1471.71 Q1586 1480.44 1582.92 1485.04 Q1579.87 1489.63 1574.06 1489.63 Q1568.25 1489.63 1565.17 1485.04 Q1562.11 1480.44 1562.11 1471.71 Q1562.11 1462.96 1565.17 1458.38 Q1568.25 1453.77 1574.06 1453.77 Z\" fill=\"#000000\" fill-rule=\"evenodd\" fill-opacity=\"1\" /><path clip-path=\"url(#clip160)\" d=\"M1604.22 1457.48 Q1600.61 1457.48 1598.78 1461.04 Q1596.98 1464.58 1596.98 1471.71 Q1596.98 1478.82 1598.78 1482.38 Q1600.61 1485.92 1604.22 1485.92 Q1607.86 1485.92 1609.66 1482.38 Q1611.49 1478.82 1611.49 1471.71 Q1611.49 1464.58 1609.66 1461.04 Q1607.86 1457.48 1604.22 1457.48 M1604.22 1453.77 Q1610.03 1453.77 1613.09 1458.38 Q1616.17 1462.96 1616.17 1471.71 Q1616.17 1480.44 1613.09 1485.04 Q1610.03 1489.63 1604.22 1489.63 Q1598.41 1489.63 1595.33 1485.04 Q1592.28 1480.44 1592.28 1471.71 Q1592.28 1462.96 1595.33 1458.38 Q1598.41 1453.77 1604.22 1453.77 Z\" fill=\"#000000\" fill-rule=\"evenodd\" fill-opacity=\"1\" /><path clip-path=\"url(#clip160)\" d=\"M1652.55 1463.49 L1641.98 1474.12 L1652.55 1484.7 L1649.8 1487.5 L1639.17 1476.87 L1628.55 1487.5 L1625.82 1484.7 L1636.37 1474.12 L1625.82 1463.49 L1628.55 1460.69 L1639.17 1471.32 L1649.8 1460.69 L1652.55 1463.49 Z\" fill=\"#000000\" fill-rule=\"evenodd\" fill-opacity=\"1\" /><path clip-path=\"url(#clip160)\" d=\"M1664.92 1485.02 L1672.55 1485.02 L1672.55 1458.66 L1664.24 1460.32 L1664.24 1456.06 L1672.51 1454.4 L1677.18 1454.4 L1677.18 1485.02 L1684.82 1485.02 L1684.82 1488.96 L1664.92 1488.96 L1664.92 1485.02 Z\" fill=\"#000000\" fill-rule=\"evenodd\" fill-opacity=\"1\" /><path clip-path=\"url(#clip160)\" d=\"M1704.27 1457.48 Q1700.66 1457.48 1698.83 1461.04 Q1697.02 1464.58 1697.02 1471.71 Q1697.02 1478.82 1698.83 1482.38 Q1700.66 1485.92 1704.27 1485.92 Q1707.9 1485.92 1709.71 1482.38 Q1711.54 1478.82 1711.54 1471.71 Q1711.54 1464.58 1709.71 1461.04 Q1707.9 1457.48 1704.27 1457.48 M1704.27 1453.77 Q1710.08 1453.77 1713.13 1458.38 Q1716.21 1462.96 1716.21 1471.71 Q1716.21 1480.44 1713.13 1485.04 Q1710.08 1489.63 1704.27 1489.63 Q1698.46 1489.63 1695.38 1485.04 Q1692.32 1480.44 1692.32 1471.71 Q1692.32 1462.96 1695.38 1458.38 Q1698.46 1453.77 1704.27 1453.77 Z\" fill=\"#000000\" fill-rule=\"evenodd\" fill-opacity=\"1\" /><path clip-path=\"url(#clip160)\" d=\"M1726.24 1445.99 Q1723.68 1445.99 1722.17 1447.74 Q1720.69 1449.49 1720.69 1452.54 Q1720.69 1455.57 1722.17 1457.33 Q1723.68 1459.08 1726.24 1459.08 Q1728.79 1459.08 1730.28 1457.33 Q1731.78 1455.57 1731.78 1452.54 Q1731.78 1449.49 1730.28 1447.74 Q1728.79 1445.99 1726.24 1445.99 M1733.78 1434.09 L1733.78 1437.55 Q1732.35 1436.87 1730.88 1436.51 Q1729.43 1436.16 1728 1436.16 Q1724.24 1436.16 1722.25 1438.69 Q1720.27 1441.23 1719.99 1446.37 Q1721.1 1444.73 1722.78 1443.87 Q1724.45 1442.98 1726.46 1442.98 Q1730.69 1442.98 1733.14 1445.56 Q1735.6 1448.12 1735.6 1452.54 Q1735.6 1456.86 1733.04 1459.48 Q1730.49 1462.09 1726.24 1462.09 Q1721.36 1462.09 1718.79 1458.37 Q1716.21 1454.62 1716.21 1447.53 Q1716.21 1440.88 1719.37 1436.93 Q1722.53 1432.96 1727.85 1432.96 Q1729.28 1432.96 1730.73 1433.24 Q1732.2 1433.52 1733.78 1434.09 Z\" fill=\"#000000\" fill-rule=\"evenodd\" fill-opacity=\"1\" /><path clip-path=\"url(#clip160)\" d=\"M2185.57 1485.02 L2193.21 1485.02 L2193.21 1458.66 L2184.9 1460.32 L2184.9 1456.06 L2193.17 1454.4 L2197.84 1454.4 L2197.84 1485.02 L2205.48 1485.02 L2205.48 1488.96 L2185.57 1488.96 L2185.57 1485.02 Z\" fill=\"#000000\" fill-rule=\"evenodd\" fill-opacity=\"1\" /><path clip-path=\"url(#clip160)\" d=\"M2214.93 1483.08 L2219.81 1483.08 L2219.81 1488.96 L2214.93 1488.96 L2214.93 1483.08 Z\" fill=\"#000000\" fill-rule=\"evenodd\" fill-opacity=\"1\" /><path clip-path=\"url(#clip160)\" d=\"M2230.04 1454.4 L2248.4 1454.4 L2248.4 1458.33 L2234.32 1458.33 L2234.32 1466.8 Q2235.34 1466.46 2236.36 1466.29 Q2237.38 1466.11 2238.4 1466.11 Q2244.19 1466.11 2247.57 1469.28 Q2250.94 1472.45 2250.94 1477.87 Q2250.94 1483.45 2247.47 1486.55 Q2244 1489.63 2237.68 1489.63 Q2235.51 1489.63 2233.24 1489.26 Q2230.99 1488.89 2228.58 1488.15 L2228.58 1483.45 Q2230.67 1484.58 2232.89 1485.14 Q2235.11 1485.69 2237.59 1485.69 Q2241.59 1485.69 2243.93 1483.59 Q2246.27 1481.48 2246.27 1477.87 Q2246.27 1474.26 2243.93 1472.15 Q2241.59 1470.04 2237.59 1470.04 Q2235.71 1470.04 2233.84 1470.46 Q2231.99 1470.88 2230.04 1471.76 L2230.04 1454.4 Z\" fill=\"#000000\" fill-rule=\"evenodd\" fill-opacity=\"1\" /><path clip-path=\"url(#clip160)\" d=\"M2270.16 1457.48 Q2266.55 1457.48 2264.72 1461.04 Q2262.91 1464.58 2262.91 1471.71 Q2262.91 1478.82 2264.72 1482.38 Q2266.55 1485.92 2270.16 1485.92 Q2273.79 1485.92 2275.6 1482.38 Q2277.43 1478.82 2277.43 1471.71 Q2277.43 1464.58 2275.6 1461.04 Q2273.79 1457.48 2270.16 1457.48 M2270.16 1453.77 Q2275.97 1453.77 2279.02 1458.38 Q2282.1 1462.96 2282.1 1471.71 Q2282.1 1480.44 2279.02 1485.04 Q2275.97 1489.63 2270.16 1489.63 Q2264.35 1489.63 2261.27 1485.04 Q2258.21 1480.44 2258.21 1471.71 Q2258.21 1462.96 2261.27 1458.38 Q2264.35 1453.77 2270.16 1453.77 Z\" fill=\"#000000\" fill-rule=\"evenodd\" fill-opacity=\"1\" /><path clip-path=\"url(#clip160)\" d=\"M2318.49 1463.49 L2307.91 1474.12 L2318.49 1484.7 L2315.74 1487.5 L2305.11 1476.87 L2294.49 1487.5 L2291.75 1484.7 L2302.31 1474.12 L2291.75 1463.49 L2294.49 1460.69 L2305.11 1471.32 L2315.74 1460.69 L2318.49 1463.49 Z\" fill=\"#000000\" fill-rule=\"evenodd\" fill-opacity=\"1\" /><path clip-path=\"url(#clip160)\" d=\"M2330.85 1485.02 L2338.49 1485.02 L2338.49 1458.66 L2330.18 1460.32 L2330.18 1456.06 L2338.44 1454.4 L2343.12 1454.4 L2343.12 1485.02 L2350.76 1485.02 L2350.76 1488.96 L2330.85 1488.96 L2330.85 1485.02 Z\" fill=\"#000000\" fill-rule=\"evenodd\" fill-opacity=\"1\" /><path clip-path=\"url(#clip160)\" d=\"M2370.2 1457.48 Q2366.59 1457.48 2364.76 1461.04 Q2362.96 1464.58 2362.96 1471.71 Q2362.96 1478.82 2364.76 1482.38 Q2366.59 1485.92 2370.2 1485.92 Q2373.84 1485.92 2375.64 1482.38 Q2377.47 1478.82 2377.47 1471.71 Q2377.47 1464.58 2375.64 1461.04 Q2373.84 1457.48 2370.2 1457.48 M2370.2 1453.77 Q2376.01 1453.77 2379.07 1458.38 Q2382.15 1462.96 2382.15 1471.71 Q2382.15 1480.44 2379.07 1485.04 Q2376.01 1489.63 2370.2 1489.63 Q2364.39 1489.63 2361.31 1485.04 Q2358.26 1480.44 2358.26 1471.71 Q2358.26 1462.96 2361.31 1458.38 Q2364.39 1453.77 2370.2 1453.77 Z\" fill=\"#000000\" fill-rule=\"evenodd\" fill-opacity=\"1\" /><path clip-path=\"url(#clip160)\" d=\"M2392.17 1445.99 Q2389.61 1445.99 2388.11 1447.74 Q2386.62 1449.49 2386.62 1452.54 Q2386.62 1455.57 2388.11 1457.33 Q2389.61 1459.08 2392.17 1459.08 Q2394.73 1459.08 2396.22 1457.33 Q2397.72 1455.57 2397.72 1452.54 Q2397.72 1449.49 2396.22 1447.74 Q2394.73 1445.99 2392.17 1445.99 M2399.71 1434.09 L2399.71 1437.55 Q2398.28 1436.87 2396.82 1436.51 Q2395.37 1436.16 2393.94 1436.16 Q2390.18 1436.16 2388.19 1438.69 Q2386.21 1441.23 2385.93 1446.37 Q2387.04 1444.73 2388.71 1443.87 Q2390.39 1442.98 2392.4 1442.98 Q2396.63 1442.98 2399.07 1445.56 Q2401.54 1448.12 2401.54 1452.54 Q2401.54 1456.86 2398.98 1459.48 Q2396.42 1462.09 2392.17 1462.09 Q2387.3 1462.09 2384.72 1458.37 Q2382.15 1454.62 2382.15 1447.53 Q2382.15 1440.88 2385.31 1436.93 Q2388.47 1432.96 2393.79 1432.96 Q2395.22 1432.96 2396.67 1433.24 Q2398.13 1433.52 2399.71 1434.09 Z\" fill=\"#000000\" fill-rule=\"evenodd\" fill-opacity=\"1\" /><path clip-path=\"url(#clip160)\" d=\"M1150.54 1526.67 L1156.97 1526.67 L1156.97 1574.19 L1150.54 1574.19 L1150.54 1526.67 Z\" fill=\"#000000\" fill-rule=\"evenodd\" fill-opacity=\"1\" /><path clip-path=\"url(#clip160)\" d=\"M1175.3 1528.42 L1175.3 1538.54 L1187.36 1538.54 L1187.36 1543.09 L1175.3 1543.09 L1175.3 1562.44 Q1175.3 1566.8 1176.48 1568.04 Q1177.69 1569.28 1181.35 1569.28 L1187.36 1569.28 L1187.36 1574.19 L1181.35 1574.19 Q1174.57 1574.19 1171.99 1571.67 Q1169.41 1569.12 1169.41 1562.44 L1169.41 1543.09 L1165.12 1543.09 L1165.12 1538.54 L1169.41 1538.54 L1169.41 1528.42 L1175.3 1528.42 Z\" fill=\"#000000\" fill-rule=\"evenodd\" fill-opacity=\"1\" /><path clip-path=\"url(#clip160)\" d=\"M1225.56 1554.9 L1225.56 1557.76 L1198.63 1557.76 Q1199.01 1563.81 1202.26 1566.99 Q1205.54 1570.14 1211.36 1570.14 Q1214.74 1570.14 1217.89 1569.32 Q1221.07 1568.49 1224.19 1566.83 L1224.19 1572.37 Q1221.04 1573.71 1217.73 1574.41 Q1214.42 1575.11 1211.01 1575.11 Q1202.48 1575.11 1197.48 1570.14 Q1192.52 1565.18 1192.52 1556.71 Q1192.52 1547.96 1197.23 1542.83 Q1201.97 1537.68 1209.99 1537.68 Q1217.19 1537.68 1221.36 1542.33 Q1225.56 1546.94 1225.56 1554.9 M1219.7 1553.18 Q1219.64 1548.37 1217 1545.51 Q1214.39 1542.64 1210.06 1542.64 Q1205.16 1542.64 1202.2 1545.41 Q1199.27 1548.18 1198.82 1553.21 L1219.7 1553.18 Z\" fill=\"#000000\" fill-rule=\"evenodd\" fill-opacity=\"1\" /><path clip-path=\"url(#clip160)\" d=\"M1255.83 1544.01 Q1254.84 1543.44 1253.66 1543.18 Q1252.52 1542.9 1251.12 1542.9 Q1246.15 1542.9 1243.48 1546.14 Q1240.84 1549.36 1240.84 1555.41 L1240.84 1574.19 L1234.95 1574.19 L1234.95 1538.54 L1240.84 1538.54 L1240.84 1544.08 Q1242.68 1540.83 1245.64 1539.27 Q1248.6 1537.68 1252.83 1537.68 Q1253.44 1537.68 1254.17 1537.77 Q1254.9 1537.84 1255.79 1538 L1255.83 1544.01 Z\" fill=\"#000000\" fill-rule=\"evenodd\" fill-opacity=\"1\" /><path clip-path=\"url(#clip160)\" d=\"M1278.17 1556.27 Q1271.07 1556.27 1268.34 1557.89 Q1265.6 1559.51 1265.6 1563.43 Q1265.6 1566.55 1267.63 1568.39 Q1269.7 1570.21 1273.24 1570.21 Q1278.11 1570.21 1281.03 1566.77 Q1283.99 1563.3 1283.99 1557.57 L1283.99 1556.27 L1278.17 1556.27 M1289.85 1553.85 L1289.85 1574.19 L1283.99 1574.19 L1283.99 1568.77 Q1281.99 1572.02 1279 1573.58 Q1276.01 1575.11 1271.68 1575.11 Q1266.2 1575.11 1262.96 1572.05 Q1259.74 1568.97 1259.74 1563.81 Q1259.74 1557.79 1263.75 1554.74 Q1267.79 1551.68 1275.78 1551.68 L1283.99 1551.68 L1283.99 1551.11 Q1283.99 1547.07 1281.32 1544.87 Q1278.68 1542.64 1273.87 1542.64 Q1270.82 1542.64 1267.92 1543.38 Q1265.03 1544.11 1262.35 1545.57 L1262.35 1540.16 Q1265.57 1538.92 1268.59 1538.31 Q1271.61 1537.68 1274.48 1537.68 Q1282.21 1537.68 1286.03 1541.69 Q1289.85 1545.7 1289.85 1553.85 Z\" fill=\"#000000\" fill-rule=\"evenodd\" fill-opacity=\"1\" /><path clip-path=\"url(#clip160)\" d=\"M1307.71 1528.42 L1307.71 1538.54 L1319.77 1538.54 L1319.77 1543.09 L1307.71 1543.09 L1307.71 1562.44 Q1307.71 1566.8 1308.88 1568.04 Q1310.09 1569.28 1313.75 1569.28 L1319.77 1569.28 L1319.77 1574.19 L1313.75 1574.19 Q1306.98 1574.19 1304.4 1571.67 Q1301.82 1569.12 1301.82 1562.44 L1301.82 1543.09 L1297.52 1543.09 L1297.52 1538.54 L1301.82 1538.54 L1301.82 1528.42 L1307.71 1528.42 Z\" fill=\"#000000\" fill-rule=\"evenodd\" fill-opacity=\"1\" /><path clip-path=\"url(#clip160)\" d=\"M1327.47 1538.54 L1333.33 1538.54 L1333.33 1574.19 L1327.47 1574.19 L1327.47 1538.54 M1327.47 1524.66 L1333.33 1524.66 L1333.33 1532.08 L1327.47 1532.08 L1327.47 1524.66 Z\" fill=\"#000000\" fill-rule=\"evenodd\" fill-opacity=\"1\" /><path clip-path=\"url(#clip160)\" d=\"M1359.4 1542.64 Q1354.69 1542.64 1351.95 1546.34 Q1349.21 1550 1349.21 1556.39 Q1349.21 1562.79 1351.92 1566.48 Q1354.65 1570.14 1359.4 1570.14 Q1364.08 1570.14 1366.81 1566.45 Q1369.55 1562.76 1369.55 1556.39 Q1369.55 1550.06 1366.81 1546.37 Q1364.08 1542.64 1359.4 1542.64 M1359.4 1537.68 Q1367.04 1537.68 1371.4 1542.64 Q1375.76 1547.61 1375.76 1556.39 Q1375.76 1565.15 1371.4 1570.14 Q1367.04 1575.11 1359.4 1575.11 Q1351.73 1575.11 1347.37 1570.14 Q1343.04 1565.15 1343.04 1556.39 Q1343.04 1547.61 1347.37 1542.64 Q1351.73 1537.68 1359.4 1537.68 Z\" fill=\"#000000\" fill-rule=\"evenodd\" fill-opacity=\"1\" /><path clip-path=\"url(#clip160)\" d=\"M1415.1 1552.67 L1415.1 1574.19 L1409.24 1574.19 L1409.24 1552.86 Q1409.24 1547.8 1407.27 1545.29 Q1405.29 1542.77 1401.35 1542.77 Q1396.6 1542.77 1393.87 1545.79 Q1391.13 1548.82 1391.13 1554.04 L1391.13 1574.19 L1385.24 1574.19 L1385.24 1538.54 L1391.13 1538.54 L1391.13 1544.08 Q1393.23 1540.86 1396.06 1539.27 Q1398.93 1537.68 1402.65 1537.68 Q1408.79 1537.68 1411.95 1541.5 Q1415.1 1545.29 1415.1 1552.67 Z\" fill=\"#000000\" fill-rule=\"evenodd\" fill-opacity=\"1\" /><path clip-path=\"url(#clip160)\" d=\"M1449.5 1539.59 L1449.5 1545.13 Q1447.02 1543.85 1444.35 1543.22 Q1441.67 1542.58 1438.81 1542.58 Q1434.45 1542.58 1432.25 1543.92 Q1430.09 1545.25 1430.09 1547.93 Q1430.09 1549.96 1431.65 1551.14 Q1433.21 1552.29 1437.92 1553.34 L1439.92 1553.78 Q1446.16 1555.12 1448.77 1557.57 Q1451.41 1559.99 1451.41 1564.35 Q1451.41 1569.32 1447.47 1572.21 Q1443.55 1575.11 1436.68 1575.11 Q1433.81 1575.11 1430.69 1574.54 Q1427.61 1573.99 1424.17 1572.88 L1424.17 1566.83 Q1427.41 1568.52 1430.57 1569.38 Q1433.72 1570.21 1436.8 1570.21 Q1440.94 1570.21 1443.17 1568.81 Q1445.4 1567.37 1445.4 1564.8 Q1445.4 1562.41 1443.77 1561.14 Q1442.18 1559.86 1436.74 1558.68 L1434.7 1558.21 Q1429.26 1557.06 1426.84 1554.71 Q1424.42 1552.32 1424.42 1548.18 Q1424.42 1543.15 1427.99 1540.42 Q1431.55 1537.68 1438.11 1537.68 Q1441.36 1537.68 1444.22 1538.16 Q1447.08 1538.63 1449.5 1539.59 Z\" fill=\"#000000\" fill-rule=\"evenodd\" fill-opacity=\"1\" /><polyline clip-path=\"url(#clip162)\" style=\"stroke:#000000; stroke-linecap:round; stroke-linejoin:round; stroke-width:2; stroke-opacity:0.1; fill:none\" points=\"\n",
       "  249.195,1206.43 2352.76,1206.43 \n",
       "  \"/>\n",
       "<polyline clip-path=\"url(#clip162)\" style=\"stroke:#000000; stroke-linecap:round; stroke-linejoin:round; stroke-width:2; stroke-opacity:0.1; fill:none\" points=\"\n",
       "  249.195,942.507 2352.76,942.507 \n",
       "  \"/>\n",
       "<polyline clip-path=\"url(#clip162)\" style=\"stroke:#000000; stroke-linecap:round; stroke-linejoin:round; stroke-width:2; stroke-opacity:0.1; fill:none\" points=\"\n",
       "  249.195,678.586 2352.76,678.586 \n",
       "  \"/>\n",
       "<polyline clip-path=\"url(#clip162)\" style=\"stroke:#000000; stroke-linecap:round; stroke-linejoin:round; stroke-width:2; stroke-opacity:0.1; fill:none\" points=\"\n",
       "  249.195,414.666 2352.76,414.666 \n",
       "  \"/>\n",
       "<polyline clip-path=\"url(#clip162)\" style=\"stroke:#000000; stroke-linecap:round; stroke-linejoin:round; stroke-width:2; stroke-opacity:0.1; fill:none\" points=\"\n",
       "  249.195,150.746 2352.76,150.746 \n",
       "  \"/>\n",
       "<polyline clip-path=\"url(#clip160)\" style=\"stroke:#000000; stroke-linecap:round; stroke-linejoin:round; stroke-width:4; stroke-opacity:1; fill:none\" points=\"\n",
       "  249.195,1410.9 249.195,47.2441 \n",
       "  \"/>\n",
       "<polyline clip-path=\"url(#clip160)\" style=\"stroke:#000000; stroke-linecap:round; stroke-linejoin:round; stroke-width:4; stroke-opacity:1; fill:none\" points=\"\n",
       "  249.195,1206.43 268.092,1206.43 \n",
       "  \"/>\n",
       "<polyline clip-path=\"url(#clip160)\" style=\"stroke:#000000; stroke-linecap:round; stroke-linejoin:round; stroke-width:4; stroke-opacity:1; fill:none\" points=\"\n",
       "  249.195,942.507 268.092,942.507 \n",
       "  \"/>\n",
       "<polyline clip-path=\"url(#clip160)\" style=\"stroke:#000000; stroke-linecap:round; stroke-linejoin:round; stroke-width:4; stroke-opacity:1; fill:none\" points=\"\n",
       "  249.195,678.586 268.092,678.586 \n",
       "  \"/>\n",
       "<polyline clip-path=\"url(#clip160)\" style=\"stroke:#000000; stroke-linecap:round; stroke-linejoin:round; stroke-width:4; stroke-opacity:1; fill:none\" points=\"\n",
       "  249.195,414.666 268.092,414.666 \n",
       "  \"/>\n",
       "<polyline clip-path=\"url(#clip160)\" style=\"stroke:#000000; stroke-linecap:round; stroke-linejoin:round; stroke-width:4; stroke-opacity:1; fill:none\" points=\"\n",
       "  249.195,150.746 268.092,150.746 \n",
       "  \"/>\n",
       "<path clip-path=\"url(#clip160)\" d=\"M120.88 1219.77 L137.2 1219.77 L137.2 1223.71 L115.256 1223.71 L115.256 1219.77 Q117.918 1217.02 122.501 1212.39 Q127.107 1207.73 128.288 1206.39 Q130.533 1203.87 131.413 1202.13 Q132.316 1200.37 132.316 1198.68 Q132.316 1195.93 130.371 1194.19 Q128.45 1192.46 125.348 1192.46 Q123.149 1192.46 120.695 1193.22 Q118.265 1193.98 115.487 1195.54 L115.487 1190.81 Q118.311 1189.68 120.765 1189.1 Q123.218 1188.52 125.255 1188.52 Q130.626 1188.52 133.82 1191.21 Q137.015 1193.89 137.015 1198.38 Q137.015 1200.51 136.204 1202.43 Q135.417 1204.33 133.311 1206.92 Q132.732 1207.6 129.63 1210.81 Q126.529 1214.01 120.88 1219.77 Z\" fill=\"#000000\" fill-rule=\"evenodd\" fill-opacity=\"1\" /><path clip-path=\"url(#clip160)\" d=\"M147.015 1217.83 L151.899 1217.83 L151.899 1223.71 L147.015 1223.71 L147.015 1217.83 Z\" fill=\"#000000\" fill-rule=\"evenodd\" fill-opacity=\"1\" /><path clip-path=\"url(#clip160)\" d=\"M166.112 1219.77 L182.431 1219.77 L182.431 1223.71 L160.487 1223.71 L160.487 1219.77 Q163.149 1217.02 167.732 1212.39 Q172.339 1207.73 173.519 1206.39 Q175.764 1203.87 176.644 1202.13 Q177.547 1200.37 177.547 1198.68 Q177.547 1195.93 175.602 1194.19 Q173.681 1192.46 170.579 1192.46 Q168.38 1192.46 165.927 1193.22 Q163.496 1193.98 160.718 1195.54 L160.718 1190.81 Q163.542 1189.68 165.996 1189.1 Q168.45 1188.52 170.487 1188.52 Q175.857 1188.52 179.051 1191.21 Q182.246 1193.89 182.246 1198.38 Q182.246 1200.51 181.436 1202.43 Q180.649 1204.33 178.542 1206.92 Q177.964 1207.6 174.862 1210.81 Q171.76 1214.01 166.112 1219.77 Z\" fill=\"#000000\" fill-rule=\"evenodd\" fill-opacity=\"1\" /><path clip-path=\"url(#clip160)\" d=\"M192.292 1189.15 L210.649 1189.15 L210.649 1193.08 L196.575 1193.08 L196.575 1201.55 Q197.593 1201.21 198.612 1201.04 Q199.63 1200.86 200.649 1200.86 Q206.436 1200.86 209.815 1204.03 Q213.195 1207.2 213.195 1212.62 Q213.195 1218.2 209.723 1221.3 Q206.25 1224.38 199.931 1224.38 Q197.755 1224.38 195.487 1224.01 Q193.241 1223.64 190.834 1222.9 L190.834 1218.2 Q192.917 1219.33 195.139 1219.89 Q197.362 1220.44 199.838 1220.44 Q203.843 1220.44 206.181 1218.34 Q208.519 1216.23 208.519 1212.62 Q208.519 1209.01 206.181 1206.9 Q203.843 1204.79 199.838 1204.79 Q197.963 1204.79 196.088 1205.21 Q194.237 1205.63 192.292 1206.51 L192.292 1189.15 Z\" fill=\"#000000\" fill-rule=\"evenodd\" fill-opacity=\"1\" /><path clip-path=\"url(#clip160)\" d=\"M119.885 955.851 L136.204 955.851 L136.204 959.787 L114.26 959.787 L114.26 955.851 Q116.922 953.097 121.505 948.467 Q126.112 943.814 127.292 942.472 Q129.538 939.949 130.417 938.213 Q131.32 936.453 131.32 934.763 Q131.32 932.009 129.376 930.273 Q127.455 928.537 124.353 928.537 Q122.154 928.537 119.7 929.301 Q117.269 930.064 114.492 931.615 L114.492 926.893 Q117.316 925.759 119.769 925.18 Q122.223 924.602 124.26 924.602 Q129.63 924.602 132.825 927.287 Q136.019 929.972 136.019 934.463 Q136.019 936.592 135.209 938.513 Q134.422 940.412 132.316 943.004 Q131.737 943.675 128.635 946.893 Q125.533 950.087 119.885 955.851 Z\" fill=\"#000000\" fill-rule=\"evenodd\" fill-opacity=\"1\" /><path clip-path=\"url(#clip160)\" d=\"M146.019 953.907 L150.903 953.907 L150.903 959.787 L146.019 959.787 L146.019 953.907 Z\" fill=\"#000000\" fill-rule=\"evenodd\" fill-opacity=\"1\" /><path clip-path=\"url(#clip160)\" d=\"M161.135 925.227 L179.491 925.227 L179.491 929.162 L165.417 929.162 L165.417 937.634 Q166.436 937.287 167.454 937.125 Q168.473 936.939 169.491 936.939 Q175.278 936.939 178.658 940.111 Q182.038 943.282 182.038 948.699 Q182.038 954.277 178.565 957.379 Q175.093 960.458 168.774 960.458 Q166.598 960.458 164.329 960.087 Q162.084 959.717 159.677 958.976 L159.677 954.277 Q161.76 955.412 163.982 955.967 Q166.204 956.523 168.681 956.523 Q172.686 956.523 175.024 954.416 Q177.362 952.31 177.362 948.699 Q177.362 945.088 175.024 942.981 Q172.686 940.875 168.681 940.875 Q166.806 940.875 164.931 941.291 Q163.079 941.708 161.135 942.588 L161.135 925.227 Z\" fill=\"#000000\" fill-rule=\"evenodd\" fill-opacity=\"1\" /><path clip-path=\"url(#clip160)\" d=\"M201.25 928.305 Q197.639 928.305 195.811 931.87 Q194.005 935.412 194.005 942.541 Q194.005 949.648 195.811 953.212 Q197.639 956.754 201.25 956.754 Q204.885 956.754 206.69 953.212 Q208.519 949.648 208.519 942.541 Q208.519 935.412 206.69 931.87 Q204.885 928.305 201.25 928.305 M201.25 924.602 Q207.061 924.602 210.116 929.208 Q213.195 933.791 213.195 942.541 Q213.195 951.268 210.116 955.874 Q207.061 960.458 201.25 960.458 Q195.44 960.458 192.362 955.874 Q189.306 951.268 189.306 942.541 Q189.306 933.791 192.362 929.208 Q195.44 924.602 201.25 924.602 Z\" fill=\"#000000\" fill-rule=\"evenodd\" fill-opacity=\"1\" /><path clip-path=\"url(#clip160)\" d=\"M120.88 691.931 L137.2 691.931 L137.2 695.866 L115.256 695.866 L115.256 691.931 Q117.918 689.177 122.501 684.547 Q127.107 679.894 128.288 678.552 Q130.533 676.029 131.413 674.292 Q132.316 672.533 132.316 670.843 Q132.316 668.089 130.371 666.353 Q128.45 664.617 125.348 664.617 Q123.149 664.617 120.695 665.38 Q118.265 666.144 115.487 667.695 L115.487 662.973 Q118.311 661.839 120.765 661.26 Q123.218 660.681 125.255 660.681 Q130.626 660.681 133.82 663.367 Q137.015 666.052 137.015 670.542 Q137.015 672.672 136.204 674.593 Q135.417 676.491 133.311 679.084 Q132.732 679.755 129.63 682.973 Q126.529 686.167 120.88 691.931 Z\" fill=\"#000000\" fill-rule=\"evenodd\" fill-opacity=\"1\" /><path clip-path=\"url(#clip160)\" d=\"M147.015 689.987 L151.899 689.987 L151.899 695.866 L147.015 695.866 L147.015 689.987 Z\" fill=\"#000000\" fill-rule=\"evenodd\" fill-opacity=\"1\" /><path clip-path=\"url(#clip160)\" d=\"M160.903 661.306 L183.126 661.306 L183.126 663.297 L170.579 695.866 L165.695 695.866 L177.501 665.242 L160.903 665.242 L160.903 661.306 Z\" fill=\"#000000\" fill-rule=\"evenodd\" fill-opacity=\"1\" /><path clip-path=\"url(#clip160)\" d=\"M192.292 661.306 L210.649 661.306 L210.649 665.242 L196.575 665.242 L196.575 673.714 Q197.593 673.367 198.612 673.204 Q199.63 673.019 200.649 673.019 Q206.436 673.019 209.815 676.191 Q213.195 679.362 213.195 684.778 Q213.195 690.357 209.723 693.459 Q206.25 696.538 199.931 696.538 Q197.755 696.538 195.487 696.167 Q193.241 695.797 190.834 695.056 L190.834 690.357 Q192.917 691.491 195.139 692.047 Q197.362 692.603 199.838 692.603 Q203.843 692.603 206.181 690.496 Q208.519 688.39 208.519 684.778 Q208.519 681.167 206.181 679.061 Q203.843 676.954 199.838 676.954 Q197.963 676.954 196.088 677.371 Q194.237 677.788 192.292 678.667 L192.292 661.306 Z\" fill=\"#000000\" fill-rule=\"evenodd\" fill-opacity=\"1\" /><path clip-path=\"url(#clip160)\" d=\"M130.024 413.312 Q133.38 414.03 135.255 416.298 Q137.154 418.567 137.154 421.9 Q137.154 427.016 133.635 429.817 Q130.117 432.618 123.635 432.618 Q121.459 432.618 119.144 432.178 Q116.853 431.761 114.399 430.905 L114.399 426.391 Q116.343 427.525 118.658 428.104 Q120.973 428.682 123.496 428.682 Q127.894 428.682 130.186 426.946 Q132.501 425.21 132.501 421.9 Q132.501 418.845 130.348 417.132 Q128.218 415.395 124.399 415.395 L120.371 415.395 L120.371 411.553 L124.584 411.553 Q128.033 411.553 129.862 410.187 Q131.691 408.798 131.691 406.206 Q131.691 403.544 129.792 402.132 Q127.917 400.696 124.399 400.696 Q122.478 400.696 120.279 401.113 Q118.08 401.53 115.441 402.409 L115.441 398.243 Q118.103 397.502 120.418 397.132 Q122.755 396.761 124.816 396.761 Q130.14 396.761 133.242 399.192 Q136.343 401.599 136.343 405.72 Q136.343 408.59 134.7 410.581 Q133.056 412.548 130.024 413.312 Z\" fill=\"#000000\" fill-rule=\"evenodd\" fill-opacity=\"1\" /><path clip-path=\"url(#clip160)\" d=\"M146.019 426.067 L150.903 426.067 L150.903 431.946 L146.019 431.946 L146.019 426.067 Z\" fill=\"#000000\" fill-rule=\"evenodd\" fill-opacity=\"1\" /><path clip-path=\"url(#clip160)\" d=\"M171.089 400.465 Q167.477 400.465 165.649 404.03 Q163.843 407.571 163.843 414.701 Q163.843 421.807 165.649 425.372 Q167.477 428.914 171.089 428.914 Q174.723 428.914 176.528 425.372 Q178.357 421.807 178.357 414.701 Q178.357 407.571 176.528 404.03 Q174.723 400.465 171.089 400.465 M171.089 396.761 Q176.899 396.761 179.954 401.368 Q183.033 405.951 183.033 414.701 Q183.033 423.428 179.954 428.034 Q176.899 432.618 171.089 432.618 Q165.278 432.618 162.2 428.034 Q159.144 423.428 159.144 414.701 Q159.144 405.951 162.2 401.368 Q165.278 396.761 171.089 396.761 Z\" fill=\"#000000\" fill-rule=\"evenodd\" fill-opacity=\"1\" /><path clip-path=\"url(#clip160)\" d=\"M201.25 400.465 Q197.639 400.465 195.811 404.03 Q194.005 407.571 194.005 414.701 Q194.005 421.807 195.811 425.372 Q197.639 428.914 201.25 428.914 Q204.885 428.914 206.69 425.372 Q208.519 421.807 208.519 414.701 Q208.519 407.571 206.69 404.03 Q204.885 400.465 201.25 400.465 M201.25 396.761 Q207.061 396.761 210.116 401.368 Q213.195 405.951 213.195 414.701 Q213.195 423.428 210.116 428.034 Q207.061 432.618 201.25 432.618 Q195.44 432.618 192.362 428.034 Q189.306 423.428 189.306 414.701 Q189.306 405.951 192.362 401.368 Q195.44 396.761 201.25 396.761 Z\" fill=\"#000000\" fill-rule=\"evenodd\" fill-opacity=\"1\" /><path clip-path=\"url(#clip160)\" d=\"M131.019 149.392 Q134.376 150.11 136.251 152.378 Q138.149 154.647 138.149 157.98 Q138.149 163.096 134.63 165.897 Q131.112 168.697 124.63 168.697 Q122.455 168.697 120.14 168.258 Q117.848 167.841 115.394 166.985 L115.394 162.471 Q117.339 163.605 119.654 164.184 Q121.968 164.762 124.492 164.762 Q128.89 164.762 131.181 163.026 Q133.496 161.29 133.496 157.98 Q133.496 154.924 131.343 153.211 Q129.214 151.475 125.394 151.475 L121.367 151.475 L121.367 147.633 L125.58 147.633 Q129.029 147.633 130.857 146.267 Q132.686 144.878 132.686 142.286 Q132.686 139.624 130.788 138.212 Q128.913 136.776 125.394 136.776 Q123.473 136.776 121.274 137.193 Q119.075 137.61 116.436 138.489 L116.436 134.323 Q119.098 133.582 121.413 133.212 Q123.751 132.841 125.811 132.841 Q131.135 132.841 134.237 135.272 Q137.339 137.679 137.339 141.799 Q137.339 144.67 135.695 146.661 Q134.052 148.628 131.019 149.392 Z\" fill=\"#000000\" fill-rule=\"evenodd\" fill-opacity=\"1\" /><path clip-path=\"url(#clip160)\" d=\"M147.015 162.147 L151.899 162.147 L151.899 168.026 L147.015 168.026 L147.015 162.147 Z\" fill=\"#000000\" fill-rule=\"evenodd\" fill-opacity=\"1\" /><path clip-path=\"url(#clip160)\" d=\"M166.112 164.091 L182.431 164.091 L182.431 168.026 L160.487 168.026 L160.487 164.091 Q163.149 161.336 167.732 156.707 Q172.339 152.054 173.519 150.711 Q175.764 148.188 176.644 146.452 Q177.547 144.693 177.547 143.003 Q177.547 140.249 175.602 138.512 Q173.681 136.776 170.579 136.776 Q168.38 136.776 165.927 137.54 Q163.496 138.304 160.718 139.855 L160.718 135.133 Q163.542 133.999 165.996 133.42 Q168.45 132.841 170.487 132.841 Q175.857 132.841 179.051 135.526 Q182.246 138.212 182.246 142.702 Q182.246 144.832 181.436 146.753 Q180.649 148.651 178.542 151.244 Q177.964 151.915 174.862 155.133 Q171.76 158.327 166.112 164.091 Z\" fill=\"#000000\" fill-rule=\"evenodd\" fill-opacity=\"1\" /><path clip-path=\"url(#clip160)\" d=\"M192.292 133.466 L210.649 133.466 L210.649 137.401 L196.575 137.401 L196.575 145.874 Q197.593 145.526 198.612 145.364 Q199.63 145.179 200.649 145.179 Q206.436 145.179 209.815 148.35 Q213.195 151.522 213.195 156.938 Q213.195 162.517 209.723 165.619 Q206.25 168.697 199.931 168.697 Q197.755 168.697 195.487 168.327 Q193.241 167.957 190.834 167.216 L190.834 162.517 Q192.917 163.651 195.139 164.207 Q197.362 164.762 199.838 164.762 Q203.843 164.762 206.181 162.656 Q208.519 160.549 208.519 156.938 Q208.519 153.327 206.181 151.221 Q203.843 149.114 199.838 149.114 Q197.963 149.114 196.088 149.531 Q194.237 149.948 192.292 150.827 L192.292 133.466 Z\" fill=\"#000000\" fill-rule=\"evenodd\" fill-opacity=\"1\" /><path clip-path=\"url(#clip160)\" d=\"M22.818 978.129 L46.4666 986.85 L46.4666 969.376 L22.818 978.129 M16.4842 981.757 L16.4842 974.468 L64.0042 956.358 L64.0042 963.042 L51.8138 967.371 L51.8138 988.791 L64.0042 993.12 L64.0042 999.899 L16.4842 981.757 Z\" fill=\"#000000\" fill-rule=\"evenodd\" fill-opacity=\"1\" /><path clip-path=\"url(#clip160)\" d=\"M28.3562 957.695 L28.3562 951.488 L58.275 940.348 L28.3562 929.208 L28.3562 923.002 L64.0042 936.37 L64.0042 944.327 L28.3562 957.695 Z\" fill=\"#000000\" fill-rule=\"evenodd\" fill-opacity=\"1\" /><path clip-path=\"url(#clip160)\" d=\"M44.7161 884.425 L47.5806 884.425 L47.5806 911.352 Q53.6281 910.97 56.8109 907.724 Q59.9619 904.446 59.9619 898.621 Q59.9619 895.247 59.1344 892.096 Q58.3069 888.913 56.6518 885.794 L62.1899 885.794 Q63.5267 888.945 64.227 892.255 Q64.9272 895.565 64.9272 898.971 Q64.9272 907.501 59.9619 912.498 Q54.9967 917.463 46.5303 917.463 Q37.7774 917.463 32.6531 912.753 Q27.4968 908.01 27.4968 899.99 Q27.4968 892.796 32.1438 888.627 Q36.7589 884.425 44.7161 884.425 M42.9973 890.282 Q38.1912 890.346 35.3266 892.987 Q32.4621 895.597 32.4621 899.926 Q32.4621 904.828 35.2312 907.788 Q38.0002 910.716 43.0292 911.161 L42.9973 890.282 Z\" fill=\"#000000\" fill-rule=\"evenodd\" fill-opacity=\"1\" /><path clip-path=\"url(#clip160)\" d=\"M33.8307 854.157 Q33.2578 855.143 33.0032 856.321 Q32.7167 857.467 32.7167 858.867 Q32.7167 863.832 35.9632 866.506 Q39.1779 869.148 45.2253 869.148 L64.0042 869.148 L64.0042 875.036 L28.3562 875.036 L28.3562 869.148 L33.8944 869.148 Q30.6479 867.302 29.0883 864.342 Q27.4968 861.382 27.4968 857.148 Q27.4968 856.544 27.5923 855.812 Q27.656 855.08 27.8151 854.188 L33.8307 854.157 Z\" fill=\"#000000\" fill-rule=\"evenodd\" fill-opacity=\"1\" /><path clip-path=\"url(#clip160)\" d=\"M46.0847 831.813 Q46.0847 838.911 47.7079 841.648 Q49.3312 844.385 53.2461 844.385 Q56.3653 844.385 58.2114 842.348 Q60.0256 840.279 60.0256 836.746 Q60.0256 831.877 56.5881 828.948 Q53.1188 825.988 47.3897 825.988 L46.0847 825.988 L46.0847 831.813 M43.6657 820.132 L64.0042 820.132 L64.0042 825.988 L58.5933 825.988 Q61.8398 827.993 63.3994 830.985 Q64.9272 833.977 64.9272 838.306 Q64.9272 843.78 61.8716 847.027 Q58.7843 850.242 53.6281 850.242 Q47.6125 850.242 44.5569 846.231 Q41.5014 842.189 41.5014 834.2 L41.5014 825.988 L40.9285 825.988 Q36.8862 825.988 34.6901 828.662 Q32.4621 831.304 32.4621 836.11 Q32.4621 839.165 33.1941 842.062 Q33.9262 844.958 35.3903 847.632 L29.9795 847.632 Q28.7381 844.417 28.1334 841.393 Q27.4968 838.37 27.4968 835.505 Q27.4968 827.771 31.5072 823.951 Q35.5176 820.132 43.6657 820.132 Z\" fill=\"#000000\" fill-rule=\"evenodd\" fill-opacity=\"1\" /><path clip-path=\"url(#clip160)\" d=\"M45.7664 784.611 Q39.4007 784.611 35.8996 787.253 Q32.3984 789.863 32.3984 794.605 Q32.3984 799.316 35.8996 801.958 Q39.4007 804.568 45.7664 804.568 Q52.1003 804.568 55.6014 801.958 Q59.1026 799.316 59.1026 794.605 Q59.1026 789.863 55.6014 787.253 Q52.1003 784.611 45.7664 784.611 M59.58 778.755 Q68.683 778.755 73.1071 782.797 Q77.5631 786.839 77.5631 795.178 Q77.5631 798.266 77.0857 801.003 Q76.6401 803.74 75.6852 806.318 L69.9879 806.318 Q71.3884 803.74 72.0568 801.226 Q72.7252 798.711 72.7252 796.101 Q72.7252 790.34 69.7015 787.476 Q66.7096 784.611 60.6303 784.611 L57.7339 784.611 Q60.885 786.425 62.4446 789.258 Q64.0042 792.091 64.0042 796.038 Q64.0042 802.594 59.0071 806.605 Q54.01 810.615 45.7664 810.615 Q37.491 810.615 32.4939 806.605 Q27.4968 802.594 27.4968 796.038 Q27.4968 792.091 29.0564 789.258 Q30.616 786.425 33.7671 784.611 L28.3562 784.611 L28.3562 778.755 L59.58 778.755 Z\" fill=\"#000000\" fill-rule=\"evenodd\" fill-opacity=\"1\" /><path clip-path=\"url(#clip160)\" d=\"M44.7161 736.2 L47.5806 736.2 L47.5806 763.127 Q53.6281 762.745 56.8109 759.498 Q59.9619 756.22 59.9619 750.395 Q59.9619 747.022 59.1344 743.871 Q58.3069 740.688 56.6518 737.569 L62.1899 737.569 Q63.5267 740.72 64.227 744.03 Q64.9272 747.34 64.9272 750.746 Q64.9272 759.276 59.9619 764.273 Q54.9967 769.238 46.5303 769.238 Q37.7774 769.238 32.6531 764.527 Q27.4968 759.785 27.4968 751.764 Q27.4968 744.571 32.1438 740.401 Q36.7589 736.2 44.7161 736.2 M42.9973 742.056 Q38.1912 742.12 35.3266 744.762 Q32.4621 747.372 32.4621 751.7 Q32.4621 756.602 35.2312 759.562 Q38.0002 762.49 43.0292 762.936 L42.9973 742.056 Z\" fill=\"#000000\" fill-rule=\"evenodd\" fill-opacity=\"1\" /><path clip-path=\"url(#clip160)\" d=\"M64.0042 693.359 L16.4842 711.501 L16.4842 704.785 L56.4926 689.73 L16.4842 674.644 L16.4842 667.96 L64.0042 686.07 L64.0042 693.359 Z\" fill=\"#000000\" fill-rule=\"evenodd\" fill-opacity=\"1\" /><path clip-path=\"url(#clip160)\" d=\"M44.7161 635.845 L47.5806 635.845 L47.5806 662.772 Q53.6281 662.39 56.8109 659.143 Q59.9619 655.865 59.9619 650.04 Q59.9619 646.666 59.1344 643.515 Q58.3069 640.332 56.6518 637.213 L62.1899 637.213 Q63.5267 640.364 64.227 643.674 Q64.9272 646.985 64.9272 650.39 Q64.9272 658.92 59.9619 663.917 Q54.9967 668.883 46.5303 668.883 Q37.7774 668.883 32.6531 664.172 Q27.4968 659.43 27.4968 651.409 Q27.4968 644.215 32.1438 640.046 Q36.7589 635.845 44.7161 635.845 M42.9973 641.701 Q38.1912 641.765 35.3266 644.406 Q32.4621 647.016 32.4621 651.345 Q32.4621 656.247 35.2312 659.207 Q38.0002 662.135 43.0292 662.581 L42.9973 641.701 Z\" fill=\"#000000\" fill-rule=\"evenodd\" fill-opacity=\"1\" /><path clip-path=\"url(#clip160)\" d=\"M14.479 626.232 L14.479 620.376 L64.0042 620.376 L64.0042 626.232 L14.479 626.232 Z\" fill=\"#000000\" fill-rule=\"evenodd\" fill-opacity=\"1\" /><path clip-path=\"url(#clip160)\" d=\"M32.4621 594.308 Q32.4621 599.019 36.1542 601.756 Q39.8145 604.493 46.212 604.493 Q52.6095 604.493 56.3017 601.788 Q59.9619 599.051 59.9619 594.308 Q59.9619 589.63 56.2698 586.892 Q52.5777 584.155 46.212 584.155 Q39.8781 584.155 36.186 586.892 Q32.4621 589.63 32.4621 594.308 M27.4968 594.308 Q27.4968 586.67 32.4621 582.309 Q37.4273 577.948 46.212 577.948 Q54.9649 577.948 59.9619 582.309 Q64.9272 586.67 64.9272 594.308 Q64.9272 601.979 59.9619 606.34 Q54.9649 610.668 46.212 610.668 Q37.4273 610.668 32.4621 606.34 Q27.4968 601.979 27.4968 594.308 Z\" fill=\"#000000\" fill-rule=\"evenodd\" fill-opacity=\"1\" /><path clip-path=\"url(#clip160)\" d=\"M29.7248 542.587 L35.1993 542.587 Q33.8307 545.07 33.1623 547.584 Q32.4621 550.067 32.4621 552.613 Q32.4621 558.31 36.0905 561.461 Q39.6872 564.612 46.212 564.612 Q52.7369 564.612 56.3653 561.461 Q59.9619 558.31 59.9619 552.613 Q59.9619 550.067 59.2935 547.584 Q58.5933 545.07 57.2247 542.587 L62.6355 542.587 Q63.7814 545.038 64.3543 547.68 Q64.9272 550.289 64.9272 553.25 Q64.9272 561.302 59.8664 566.045 Q54.8057 570.787 46.212 570.787 Q37.491 570.787 32.4939 566.013 Q27.4968 561.207 27.4968 552.868 Q27.4968 550.162 28.0697 547.584 Q28.6108 545.006 29.7248 542.587 Z\" fill=\"#000000\" fill-rule=\"evenodd\" fill-opacity=\"1\" /><path clip-path=\"url(#clip160)\" d=\"M28.3562 532.402 L28.3562 526.545 L64.0042 526.545 L64.0042 532.402 L28.3562 532.402 M14.479 532.402 L14.479 526.545 L21.895 526.545 L21.895 532.402 L14.479 532.402 Z\" fill=\"#000000\" fill-rule=\"evenodd\" fill-opacity=\"1\" /><path clip-path=\"url(#clip160)\" d=\"M18.2347 508.499 L28.3562 508.499 L28.3562 496.436 L32.9077 496.436 L32.9077 508.499 L52.2594 508.499 Q56.6199 508.499 57.8613 507.321 Q59.1026 506.111 59.1026 502.451 L59.1026 496.436 L64.0042 496.436 L64.0042 502.451 Q64.0042 509.231 61.4897 511.809 Q58.9434 514.387 52.2594 514.387 L32.9077 514.387 L32.9077 518.684 L28.3562 518.684 L28.3562 514.387 L18.2347 514.387 L18.2347 508.499 Z\" fill=\"#000000\" fill-rule=\"evenodd\" fill-opacity=\"1\" /><path clip-path=\"url(#clip160)\" d=\"M67.3143 473.901 Q73.68 476.384 75.6216 478.739 Q77.5631 481.094 77.5631 485.041 L77.5631 489.72 L72.6615 489.72 L72.6615 486.282 Q72.6615 483.863 71.5157 482.527 Q70.3699 481.19 66.1048 479.566 L63.4312 478.516 L28.3562 492.934 L28.3562 486.728 L56.238 475.588 L28.3562 464.448 L28.3562 458.241 L67.3143 473.901 Z\" fill=\"#000000\" fill-rule=\"evenodd\" fill-opacity=\"1\" /><polyline clip-path=\"url(#clip162)\" style=\"stroke:#009af9; stroke-linecap:round; stroke-linejoin:round; stroke-width:4; stroke-opacity:1; fill:none\" points=\"\n",
       "  401.961,161.981 415.279,85.838 428.598,1260.61 441.917,1372.3 455.236,1249.34 468.554,1252.23 481.873,1019.36 495.192,938.18 508.511,889.501 521.829,890.815 \n",
       "  535.148,811.225 548.467,854.501 561.786,1077.63 575.104,1022.24 588.423,678.863 601.742,703.635 615.06,785.357 628.379,776.496 641.698,760.056 655.017,708.545 \n",
       "  668.335,836.581 681.654,825.11 694.973,750.404 708.292,756.966 721.61,603.325 734.929,669.108 748.248,725.963 761.567,706.041 774.885,644.601 788.204,740.49 \n",
       "  801.523,686.146 814.842,662.673 828.16,545.893 841.479,675.765 854.798,651.45 868.116,612.939 881.435,666.159 894.754,766.704 908.073,649.332 921.391,726.698 \n",
       "  934.71,706.887 948.029,721.974 961.348,630.862 974.666,528.976 987.985,559.774 1001.3,599.179 1014.62,540.198 1027.94,655.048 1041.26,690.776 1054.58,738.689 \n",
       "  1067.9,650.307 1081.22,664.087 1094.53,570.294 1107.85,573.977 1121.17,664.187 1134.49,660.841 1147.81,582.894 1161.13,606.011 1174.45,635.794 1187.77,627.357 \n",
       "  1201.08,697.161 1214.4,639.369 1227.72,525.126 1241.04,572.114 1254.36,633.607 1267.68,617.777 1281,574.94 1294.32,589.937 1307.63,737.843 1320.95,714.842 \n",
       "  1334.27,770.878 1347.59,636.112 1360.91,618.653 1374.23,572.607 1387.55,580 1400.87,554.284 1414.18,592.857 1427.5,685.372 1440.82,648.506 1454.14,646.197 \n",
       "  1467.46,575.196 1480.78,553.504 1494.1,544.457 1507.42,664.039 1520.73,652.803 1534.05,670.534 1547.37,617.173 1560.69,730.054 1574.01,661.566 1587.33,586.339 \n",
       "  1600.65,690.131 1613.97,695.332 1627.28,651.927 1640.6,624.652 1653.92,675.564 1667.24,676.496 1680.56,623.575 1693.88,706.897 1707.2,712.356 1720.52,777.649 \n",
       "  1733.83,886.048 1747.15,935.763 1760.47,849.245 1773.79,638.069 1787.11,730.099 1800.43,591.656 1813.75,901.835 1827.07,785.16 1840.38,645.075 1853.7,705.241 \n",
       "  1867.02,765.94 1880.34,668.08 1893.66,556.128 1906.98,602.336 1920.3,521.741 1933.62,656.586 1946.93,559.441 1960.25,603.646 1973.57,578.331 1986.89,535.329 \n",
       "  2000.21,614.07 2013.53,615.025 2026.85,621.842 2040.17,557.292 2053.48,537.588 2066.8,478.391 2080.12,577.363 2093.44,454.42 2106.76,442.259 2120.08,550.329 \n",
       "  2133.4,548.639 2146.72,593.784 2160.03,619.792 2173.35,627.614 2186.67,628.146 2199.99,595.13 2213.31,604.306 2226.63,587.502 2239.95,589.377 2253.26,495.297 \n",
       "  2266.58,470.452 2279.9,534.499 2293.22,533.564 \n",
       "  \"/>\n",
       "</svg>\n"
      ]
     },
     "execution_count": 38,
     "metadata": {},
     "output_type": "execute_result"
    }
   ],
   "source": [
    "plot(iterations, avg_velocity, xlabel=\"Iterations\", ylabel=\"Average Velocity\", legend = false, xformatter = :scientific)"
   ]
  },
  {
   "cell_type": "code",
   "execution_count": 39,
   "id": "c3113dc1",
   "metadata": {},
   "outputs": [
    {
     "data": {
      "text/plain": [
       "\"/home/larissa/Documents/Projects/Advanced Deep Learning for Robotics/ADLR_project/src/2d/plots/slow/avg_velocity.svg\""
      ]
     },
     "execution_count": 39,
     "metadata": {},
     "output_type": "execute_result"
    }
   ],
   "source": [
    "savefig(fig_path * \"avg_velocity.svg\")"
   ]
  },
  {
   "cell_type": "code",
   "execution_count": 40,
   "id": "1b4de56f",
   "metadata": {},
   "outputs": [
    {
     "data": {
      "image/svg+xml": [
       "<?xml version=\"1.0\" encoding=\"utf-8\"?>\n",
       "<svg xmlns=\"http://www.w3.org/2000/svg\" xmlns:xlink=\"http://www.w3.org/1999/xlink\" width=\"600\" height=\"400\" viewBox=\"0 0 2400 1600\">\n",
       "<defs>\n",
       "  <clipPath id=\"clip240\">\n",
       "    <rect x=\"0\" y=\"0\" width=\"2400\" height=\"1600\"/>\n",
       "  </clipPath>\n",
       "</defs>\n",
       "<path clip-path=\"url(#clip240)\" d=\"\n",
       "M0 1600 L2400 1600 L2400 0 L0 0  Z\n",
       "  \" fill=\"#ffffff\" fill-rule=\"evenodd\" fill-opacity=\"1\"/>\n",
       "<defs>\n",
       "  <clipPath id=\"clip241\">\n",
       "    <rect x=\"480\" y=\"0\" width=\"1681\" height=\"1600\"/>\n",
       "  </clipPath>\n",
       "</defs>\n",
       "<path clip-path=\"url(#clip240)\" d=\"\n",
       "M219.195 1410.9 L2352.76 1410.9 L2352.76 47.2441 L219.195 47.2441  Z\n",
       "  \" fill=\"#ffffff\" fill-rule=\"evenodd\" fill-opacity=\"1\"/>\n",
       "<defs>\n",
       "  <clipPath id=\"clip242\">\n",
       "    <rect x=\"219\" y=\"47\" width=\"2135\" height=\"1365\"/>\n",
       "  </clipPath>\n",
       "</defs>\n",
       "<polyline clip-path=\"url(#clip242)\" style=\"stroke:#000000; stroke-linecap:round; stroke-linejoin:round; stroke-width:2; stroke-opacity:0.1; fill:none\" points=\"\n",
       "  266.07,1410.9 266.07,47.2441 \n",
       "  \"/>\n",
       "<polyline clip-path=\"url(#clip242)\" style=\"stroke:#000000; stroke-linecap:round; stroke-linejoin:round; stroke-width:2; stroke-opacity:0.1; fill:none\" points=\"\n",
       "  941.504,1410.9 941.504,47.2441 \n",
       "  \"/>\n",
       "<polyline clip-path=\"url(#clip242)\" style=\"stroke:#000000; stroke-linecap:round; stroke-linejoin:round; stroke-width:2; stroke-opacity:0.1; fill:none\" points=\"\n",
       "  1616.94,1410.9 1616.94,47.2441 \n",
       "  \"/>\n",
       "<polyline clip-path=\"url(#clip242)\" style=\"stroke:#000000; stroke-linecap:round; stroke-linejoin:round; stroke-width:2; stroke-opacity:0.1; fill:none\" points=\"\n",
       "  2292.37,1410.9 2292.37,47.2441 \n",
       "  \"/>\n",
       "<polyline clip-path=\"url(#clip240)\" style=\"stroke:#000000; stroke-linecap:round; stroke-linejoin:round; stroke-width:4; stroke-opacity:1; fill:none\" points=\"\n",
       "  219.195,1410.9 2352.76,1410.9 \n",
       "  \"/>\n",
       "<polyline clip-path=\"url(#clip240)\" style=\"stroke:#000000; stroke-linecap:round; stroke-linejoin:round; stroke-width:4; stroke-opacity:1; fill:none\" points=\"\n",
       "  266.07,1410.9 266.07,1392 \n",
       "  \"/>\n",
       "<polyline clip-path=\"url(#clip240)\" style=\"stroke:#000000; stroke-linecap:round; stroke-linejoin:round; stroke-width:4; stroke-opacity:1; fill:none\" points=\"\n",
       "  941.504,1410.9 941.504,1392 \n",
       "  \"/>\n",
       "<polyline clip-path=\"url(#clip240)\" style=\"stroke:#000000; stroke-linecap:round; stroke-linejoin:round; stroke-width:4; stroke-opacity:1; fill:none\" points=\"\n",
       "  1616.94,1410.9 1616.94,1392 \n",
       "  \"/>\n",
       "<polyline clip-path=\"url(#clip240)\" style=\"stroke:#000000; stroke-linecap:round; stroke-linejoin:round; stroke-width:4; stroke-opacity:1; fill:none\" points=\"\n",
       "  2292.37,1410.9 2292.37,1392 \n",
       "  \"/>\n",
       "<path clip-path=\"url(#clip240)\" d=\"M266.07 1441.82 Q262.459 1441.82 260.63 1445.38 Q258.825 1448.92 258.825 1456.05 Q258.825 1463.16 260.63 1466.72 Q262.459 1470.26 266.07 1470.26 Q269.704 1470.26 271.51 1466.72 Q273.339 1463.16 273.339 1456.05 Q273.339 1448.92 271.51 1445.38 Q269.704 1441.82 266.07 1441.82 M266.07 1438.11 Q271.88 1438.11 274.936 1442.72 Q278.014 1447.3 278.014 1456.05 Q278.014 1464.78 274.936 1469.38 Q271.88 1473.97 266.07 1473.97 Q260.26 1473.97 257.181 1469.38 Q254.126 1464.78 254.126 1456.05 Q254.126 1447.3 257.181 1442.72 Q260.26 1438.11 266.07 1438.11 Z\" fill=\"#000000\" fill-rule=\"evenodd\" fill-opacity=\"1\" /><path clip-path=\"url(#clip240)\" d=\"M834.481 1454.4 L852.837 1454.4 L852.837 1458.33 L838.763 1458.33 L838.763 1466.8 Q839.782 1466.46 840.8 1466.29 Q841.819 1466.11 842.837 1466.11 Q848.624 1466.11 852.004 1469.28 Q855.383 1472.45 855.383 1477.87 Q855.383 1483.45 851.911 1486.55 Q848.439 1489.63 842.12 1489.63 Q839.944 1489.63 837.675 1489.26 Q835.43 1488.89 833.022 1488.15 L833.022 1483.45 Q835.106 1484.58 837.328 1485.14 Q839.55 1485.69 842.027 1485.69 Q846.032 1485.69 848.369 1483.59 Q850.707 1481.48 850.707 1477.87 Q850.707 1474.26 848.369 1472.15 Q846.032 1470.04 842.027 1470.04 Q840.152 1470.04 838.277 1470.46 Q836.425 1470.88 834.481 1471.76 L834.481 1454.4 Z\" fill=\"#000000\" fill-rule=\"evenodd\" fill-opacity=\"1\" /><path clip-path=\"url(#clip240)\" d=\"M864.596 1483.08 L869.48 1483.08 L869.48 1488.96 L864.596 1488.96 L864.596 1483.08 Z\" fill=\"#000000\" fill-rule=\"evenodd\" fill-opacity=\"1\" /><path clip-path=\"url(#clip240)\" d=\"M889.666 1457.48 Q886.054 1457.48 884.226 1461.04 Q882.42 1464.58 882.42 1471.71 Q882.42 1478.82 884.226 1482.38 Q886.054 1485.92 889.666 1485.92 Q893.3 1485.92 895.105 1482.38 Q896.934 1478.82 896.934 1471.71 Q896.934 1464.58 895.105 1461.04 Q893.3 1457.48 889.666 1457.48 M889.666 1453.77 Q895.476 1453.77 898.531 1458.38 Q901.61 1462.96 901.61 1471.71 Q901.61 1480.44 898.531 1485.04 Q895.476 1489.63 889.666 1489.63 Q883.855 1489.63 880.777 1485.04 Q877.721 1480.44 877.721 1471.71 Q877.721 1462.96 880.777 1458.38 Q883.855 1453.77 889.666 1453.77 Z\" fill=\"#000000\" fill-rule=\"evenodd\" fill-opacity=\"1\" /><path clip-path=\"url(#clip240)\" d=\"M919.827 1457.48 Q916.216 1457.48 914.388 1461.04 Q912.582 1464.58 912.582 1471.71 Q912.582 1478.82 914.388 1482.38 Q916.216 1485.92 919.827 1485.92 Q923.462 1485.92 925.267 1482.38 Q927.096 1478.82 927.096 1471.71 Q927.096 1464.58 925.267 1461.04 Q923.462 1457.48 919.827 1457.48 M919.827 1453.77 Q925.638 1453.77 928.693 1458.38 Q931.772 1462.96 931.772 1471.71 Q931.772 1480.44 928.693 1485.04 Q925.638 1489.63 919.827 1489.63 Q914.017 1489.63 910.939 1485.04 Q907.883 1480.44 907.883 1471.71 Q907.883 1462.96 910.939 1458.38 Q914.017 1453.77 919.827 1453.77 Z\" fill=\"#000000\" fill-rule=\"evenodd\" fill-opacity=\"1\" /><path clip-path=\"url(#clip240)\" d=\"M968.16 1463.49 L957.582 1474.12 L968.16 1484.7 L965.406 1487.5 L954.781 1476.87 L944.156 1487.5 L941.425 1484.7 L951.98 1474.12 L941.425 1463.49 L944.156 1460.69 L954.781 1471.32 L965.406 1460.69 L968.16 1463.49 Z\" fill=\"#000000\" fill-rule=\"evenodd\" fill-opacity=\"1\" /><path clip-path=\"url(#clip240)\" d=\"M980.522 1485.02 L988.16 1485.02 L988.16 1458.66 L979.85 1460.32 L979.85 1456.06 L988.114 1454.4 L992.79 1454.4 L992.79 1485.02 L1000.43 1485.02 L1000.43 1488.96 L980.522 1488.96 L980.522 1485.02 Z\" fill=\"#000000\" fill-rule=\"evenodd\" fill-opacity=\"1\" /><path clip-path=\"url(#clip240)\" d=\"M1019.87 1457.48 Q1016.26 1457.48 1014.43 1461.04 Q1012.63 1464.58 1012.63 1471.71 Q1012.63 1478.82 1014.43 1482.38 Q1016.26 1485.92 1019.87 1485.92 Q1023.51 1485.92 1025.31 1482.38 Q1027.14 1478.82 1027.14 1471.71 Q1027.14 1464.58 1025.31 1461.04 Q1023.51 1457.48 1019.87 1457.48 M1019.87 1453.77 Q1025.68 1453.77 1028.74 1458.38 Q1031.82 1462.96 1031.82 1471.71 Q1031.82 1480.44 1028.74 1485.04 Q1025.68 1489.63 1019.87 1489.63 Q1014.06 1489.63 1010.98 1485.04 Q1007.93 1480.44 1007.93 1471.71 Q1007.93 1462.96 1010.98 1458.38 Q1014.06 1453.77 1019.87 1453.77 Z\" fill=\"#000000\" fill-rule=\"evenodd\" fill-opacity=\"1\" /><path clip-path=\"url(#clip240)\" d=\"M1033 1433.47 L1047.92 1433.47 L1047.92 1436.66 L1036.48 1436.66 L1036.48 1443.55 Q1037.31 1443.27 1038.14 1443.13 Q1038.96 1442.98 1039.79 1442.98 Q1044.49 1442.98 1047.24 1445.56 Q1049.99 1448.14 1049.99 1452.54 Q1049.99 1457.07 1047.16 1459.59 Q1044.34 1462.09 1039.21 1462.09 Q1037.44 1462.09 1035.6 1461.79 Q1033.77 1461.49 1031.82 1460.89 L1031.82 1457.07 Q1033.51 1457.99 1035.32 1458.44 Q1037.12 1458.89 1039.13 1458.89 Q1042.39 1458.89 1044.29 1457.18 Q1046.19 1455.47 1046.19 1452.54 Q1046.19 1449.6 1044.29 1447.89 Q1042.39 1446.18 1039.13 1446.18 Q1037.61 1446.18 1036.09 1446.52 Q1034.58 1446.86 1033 1447.57 L1033 1433.47 Z\" fill=\"#000000\" fill-rule=\"evenodd\" fill-opacity=\"1\" /><path clip-path=\"url(#clip240)\" d=\"M1509.29 1485.02 L1516.93 1485.02 L1516.93 1458.66 L1508.62 1460.32 L1508.62 1456.06 L1516.88 1454.4 L1521.56 1454.4 L1521.56 1485.02 L1529.2 1485.02 L1529.2 1488.96 L1509.29 1488.96 L1509.29 1485.02 Z\" fill=\"#000000\" fill-rule=\"evenodd\" fill-opacity=\"1\" /><path clip-path=\"url(#clip240)\" d=\"M1538.64 1483.08 L1543.53 1483.08 L1543.53 1488.96 L1538.64 1488.96 L1538.64 1483.08 Z\" fill=\"#000000\" fill-rule=\"evenodd\" fill-opacity=\"1\" /><path clip-path=\"url(#clip240)\" d=\"M1563.71 1457.48 Q1560.1 1457.48 1558.27 1461.04 Q1556.47 1464.58 1556.47 1471.71 Q1556.47 1478.82 1558.27 1482.38 Q1560.1 1485.92 1563.71 1485.92 Q1567.35 1485.92 1569.15 1482.38 Q1570.98 1478.82 1570.98 1471.71 Q1570.98 1464.58 1569.15 1461.04 Q1567.35 1457.48 1563.71 1457.48 M1563.71 1453.77 Q1569.52 1453.77 1572.58 1458.38 Q1575.66 1462.96 1575.66 1471.71 Q1575.66 1480.44 1572.58 1485.04 Q1569.52 1489.63 1563.71 1489.63 Q1557.9 1489.63 1554.82 1485.04 Q1551.77 1480.44 1551.77 1471.71 Q1551.77 1462.96 1554.82 1458.38 Q1557.9 1453.77 1563.71 1453.77 Z\" fill=\"#000000\" fill-rule=\"evenodd\" fill-opacity=\"1\" /><path clip-path=\"url(#clip240)\" d=\"M1593.87 1457.48 Q1590.26 1457.48 1588.43 1461.04 Q1586.63 1464.58 1586.63 1471.71 Q1586.63 1478.82 1588.43 1482.38 Q1590.26 1485.92 1593.87 1485.92 Q1597.51 1485.92 1599.31 1482.38 Q1601.14 1478.82 1601.14 1471.71 Q1601.14 1464.58 1599.31 1461.04 Q1597.51 1457.48 1593.87 1457.48 M1593.87 1453.77 Q1599.68 1453.77 1602.74 1458.38 Q1605.82 1462.96 1605.82 1471.71 Q1605.82 1480.44 1602.74 1485.04 Q1599.68 1489.63 1593.87 1489.63 Q1588.06 1489.63 1584.99 1485.04 Q1581.93 1480.44 1581.93 1471.71 Q1581.93 1462.96 1584.99 1458.38 Q1588.06 1453.77 1593.87 1453.77 Z\" fill=\"#000000\" fill-rule=\"evenodd\" fill-opacity=\"1\" /><path clip-path=\"url(#clip240)\" d=\"M1642.21 1463.49 L1631.63 1474.12 L1642.21 1484.7 L1639.45 1487.5 L1628.83 1476.87 L1618.2 1487.5 L1615.47 1484.7 L1626.03 1474.12 L1615.47 1463.49 L1618.2 1460.69 L1628.83 1471.32 L1639.45 1460.69 L1642.21 1463.49 Z\" fill=\"#000000\" fill-rule=\"evenodd\" fill-opacity=\"1\" /><path clip-path=\"url(#clip240)\" d=\"M1654.57 1485.02 L1662.21 1485.02 L1662.21 1458.66 L1653.9 1460.32 L1653.9 1456.06 L1662.16 1454.4 L1666.84 1454.4 L1666.84 1485.02 L1674.48 1485.02 L1674.48 1488.96 L1654.57 1488.96 L1654.57 1485.02 Z\" fill=\"#000000\" fill-rule=\"evenodd\" fill-opacity=\"1\" /><path clip-path=\"url(#clip240)\" d=\"M1693.92 1457.48 Q1690.31 1457.48 1688.48 1461.04 Q1686.68 1464.58 1686.68 1471.71 Q1686.68 1478.82 1688.48 1482.38 Q1690.31 1485.92 1693.92 1485.92 Q1697.55 1485.92 1699.36 1482.38 Q1701.19 1478.82 1701.19 1471.71 Q1701.19 1464.58 1699.36 1461.04 Q1697.55 1457.48 1693.92 1457.48 M1693.92 1453.77 Q1699.73 1453.77 1702.79 1458.38 Q1705.86 1462.96 1705.86 1471.71 Q1705.86 1480.44 1702.79 1485.04 Q1699.73 1489.63 1693.92 1489.63 Q1688.11 1489.63 1685.03 1485.04 Q1681.98 1480.44 1681.98 1471.71 Q1681.98 1462.96 1685.03 1458.38 Q1688.11 1453.77 1693.92 1453.77 Z\" fill=\"#000000\" fill-rule=\"evenodd\" fill-opacity=\"1\" /><path clip-path=\"url(#clip240)\" d=\"M1715.89 1445.99 Q1713.33 1445.99 1711.83 1447.74 Q1710.34 1449.49 1710.34 1452.54 Q1710.34 1455.57 1711.83 1457.33 Q1713.33 1459.08 1715.89 1459.08 Q1718.45 1459.08 1719.93 1457.33 Q1721.44 1455.57 1721.44 1452.54 Q1721.44 1449.49 1719.93 1447.74 Q1718.45 1445.99 1715.89 1445.99 M1723.43 1434.09 L1723.43 1437.55 Q1722 1436.87 1720.53 1436.51 Q1719.09 1436.16 1717.66 1436.16 Q1713.9 1436.16 1711.9 1438.69 Q1709.93 1441.23 1709.65 1446.37 Q1710.75 1444.73 1712.43 1443.87 Q1714.1 1442.98 1716.12 1442.98 Q1720.35 1442.98 1722.79 1445.56 Q1725.26 1448.12 1725.26 1452.54 Q1725.26 1456.86 1722.7 1459.48 Q1720.14 1462.09 1715.89 1462.09 Q1711.02 1462.09 1708.44 1458.37 Q1705.86 1454.62 1705.86 1447.53 Q1705.86 1440.88 1709.02 1436.93 Q1712.18 1432.96 1717.51 1432.96 Q1718.94 1432.96 1720.38 1433.24 Q1721.85 1433.52 1723.43 1434.09 Z\" fill=\"#000000\" fill-rule=\"evenodd\" fill-opacity=\"1\" /><path clip-path=\"url(#clip240)\" d=\"M2184.73 1485.02 L2192.36 1485.02 L2192.36 1458.66 L2184.05 1460.32 L2184.05 1456.06 L2192.32 1454.4 L2196.99 1454.4 L2196.99 1485.02 L2204.63 1485.02 L2204.63 1488.96 L2184.73 1488.96 L2184.73 1485.02 Z\" fill=\"#000000\" fill-rule=\"evenodd\" fill-opacity=\"1\" /><path clip-path=\"url(#clip240)\" d=\"M2214.08 1483.08 L2218.96 1483.08 L2218.96 1488.96 L2214.08 1488.96 L2214.08 1483.08 Z\" fill=\"#000000\" fill-rule=\"evenodd\" fill-opacity=\"1\" /><path clip-path=\"url(#clip240)\" d=\"M2229.19 1454.4 L2247.55 1454.4 L2247.55 1458.33 L2233.48 1458.33 L2233.48 1466.8 Q2234.49 1466.46 2235.51 1466.29 Q2236.53 1466.11 2237.55 1466.11 Q2243.34 1466.11 2246.72 1469.28 Q2250.1 1472.45 2250.1 1477.87 Q2250.1 1483.45 2246.62 1486.55 Q2243.15 1489.63 2236.83 1489.63 Q2234.66 1489.63 2232.39 1489.26 Q2230.14 1488.89 2227.73 1488.15 L2227.73 1483.45 Q2229.82 1484.58 2232.04 1485.14 Q2234.26 1485.69 2236.74 1485.69 Q2240.74 1485.69 2243.08 1483.59 Q2245.42 1481.48 2245.42 1477.87 Q2245.42 1474.26 2243.08 1472.15 Q2240.74 1470.04 2236.74 1470.04 Q2234.86 1470.04 2232.99 1470.46 Q2231.14 1470.88 2229.19 1471.76 L2229.19 1454.4 Z\" fill=\"#000000\" fill-rule=\"evenodd\" fill-opacity=\"1\" /><path clip-path=\"url(#clip240)\" d=\"M2269.31 1457.48 Q2265.7 1457.48 2263.87 1461.04 Q2262.06 1464.58 2262.06 1471.71 Q2262.06 1478.82 2263.87 1482.38 Q2265.7 1485.92 2269.31 1485.92 Q2272.94 1485.92 2274.75 1482.38 Q2276.58 1478.82 2276.58 1471.71 Q2276.58 1464.58 2274.75 1461.04 Q2272.94 1457.48 2269.31 1457.48 M2269.31 1453.77 Q2275.12 1453.77 2278.17 1458.38 Q2281.25 1462.96 2281.25 1471.71 Q2281.25 1480.44 2278.17 1485.04 Q2275.12 1489.63 2269.31 1489.63 Q2263.5 1489.63 2260.42 1485.04 Q2257.36 1480.44 2257.36 1471.71 Q2257.36 1462.96 2260.42 1458.38 Q2263.5 1453.77 2269.31 1453.77 Z\" fill=\"#000000\" fill-rule=\"evenodd\" fill-opacity=\"1\" /><path clip-path=\"url(#clip240)\" d=\"M2317.64 1463.49 L2307.06 1474.12 L2317.64 1484.7 L2314.89 1487.5 L2304.26 1476.87 L2293.64 1487.5 L2290.91 1484.7 L2301.46 1474.12 L2290.91 1463.49 L2293.64 1460.69 L2304.26 1471.32 L2314.89 1460.69 L2317.64 1463.49 Z\" fill=\"#000000\" fill-rule=\"evenodd\" fill-opacity=\"1\" /><path clip-path=\"url(#clip240)\" d=\"M2330 1485.02 L2337.64 1485.02 L2337.64 1458.66 L2329.33 1460.32 L2329.33 1456.06 L2337.6 1454.4 L2342.27 1454.4 L2342.27 1485.02 L2349.91 1485.02 L2349.91 1488.96 L2330 1488.96 L2330 1485.02 Z\" fill=\"#000000\" fill-rule=\"evenodd\" fill-opacity=\"1\" /><path clip-path=\"url(#clip240)\" d=\"M2369.35 1457.48 Q2365.74 1457.48 2363.91 1461.04 Q2362.11 1464.58 2362.11 1471.71 Q2362.11 1478.82 2363.91 1482.38 Q2365.74 1485.92 2369.35 1485.92 Q2372.99 1485.92 2374.79 1482.38 Q2376.62 1478.82 2376.62 1471.71 Q2376.62 1464.58 2374.79 1461.04 Q2372.99 1457.48 2369.35 1457.48 M2369.35 1453.77 Q2375.16 1453.77 2378.22 1458.38 Q2381.3 1462.96 2381.3 1471.71 Q2381.3 1480.44 2378.22 1485.04 Q2375.16 1489.63 2369.35 1489.63 Q2363.54 1489.63 2360.47 1485.04 Q2357.41 1480.44 2357.41 1471.71 Q2357.41 1462.96 2360.47 1458.38 Q2363.54 1453.77 2369.35 1453.77 Z\" fill=\"#000000\" fill-rule=\"evenodd\" fill-opacity=\"1\" /><path clip-path=\"url(#clip240)\" d=\"M2391.32 1445.99 Q2388.77 1445.99 2387.26 1447.74 Q2385.78 1449.49 2385.78 1452.54 Q2385.78 1455.57 2387.26 1457.33 Q2388.77 1459.08 2391.32 1459.08 Q2393.88 1459.08 2395.37 1457.33 Q2396.87 1455.57 2396.87 1452.54 Q2396.87 1449.49 2395.37 1447.74 Q2393.88 1445.99 2391.32 1445.99 M2398.87 1434.09 L2398.87 1437.55 Q2397.44 1436.87 2395.97 1436.51 Q2394.52 1436.16 2393.09 1436.16 Q2389.33 1436.16 2387.34 1438.69 Q2385.36 1441.23 2385.08 1446.37 Q2386.19 1444.73 2387.86 1443.87 Q2389.54 1442.98 2391.55 1442.98 Q2395.78 1442.98 2398.23 1445.56 Q2400.69 1448.12 2400.69 1452.54 Q2400.69 1456.86 2398.13 1459.48 Q2395.57 1462.09 2391.32 1462.09 Q2386.45 1462.09 2383.88 1458.37 Q2381.3 1454.62 2381.3 1447.53 Q2381.3 1440.88 2384.46 1436.93 Q2387.62 1432.96 2392.94 1432.96 Q2394.37 1432.96 2395.82 1433.24 Q2397.29 1433.52 2398.87 1434.09 Z\" fill=\"#000000\" fill-rule=\"evenodd\" fill-opacity=\"1\" /><path clip-path=\"url(#clip240)\" d=\"M1135.54 1526.67 L1141.97 1526.67 L1141.97 1574.19 L1135.54 1574.19 L1135.54 1526.67 Z\" fill=\"#000000\" fill-rule=\"evenodd\" fill-opacity=\"1\" /><path clip-path=\"url(#clip240)\" d=\"M1160.3 1528.42 L1160.3 1538.54 L1172.36 1538.54 L1172.36 1543.09 L1160.3 1543.09 L1160.3 1562.44 Q1160.3 1566.8 1161.48 1568.04 Q1162.69 1569.28 1166.35 1569.28 L1172.36 1569.28 L1172.36 1574.19 L1166.35 1574.19 Q1159.57 1574.19 1156.99 1571.67 Q1154.41 1569.12 1154.41 1562.44 L1154.41 1543.09 L1150.12 1543.09 L1150.12 1538.54 L1154.41 1538.54 L1154.41 1528.42 L1160.3 1528.42 Z\" fill=\"#000000\" fill-rule=\"evenodd\" fill-opacity=\"1\" /><path clip-path=\"url(#clip240)\" d=\"M1210.56 1554.9 L1210.56 1557.76 L1183.63 1557.76 Q1184.01 1563.81 1187.26 1566.99 Q1190.54 1570.14 1196.36 1570.14 Q1199.74 1570.14 1202.89 1569.32 Q1206.07 1568.49 1209.19 1566.83 L1209.19 1572.37 Q1206.04 1573.71 1202.73 1574.41 Q1199.42 1575.11 1196.01 1575.11 Q1187.48 1575.11 1182.48 1570.14 Q1177.52 1565.18 1177.52 1556.71 Q1177.52 1547.96 1182.23 1542.83 Q1186.97 1537.68 1194.99 1537.68 Q1202.19 1537.68 1206.36 1542.33 Q1210.56 1546.94 1210.56 1554.9 M1204.7 1553.18 Q1204.64 1548.37 1202 1545.51 Q1199.39 1542.64 1195.06 1542.64 Q1190.16 1542.64 1187.2 1545.41 Q1184.27 1548.18 1183.82 1553.21 L1204.7 1553.18 Z\" fill=\"#000000\" fill-rule=\"evenodd\" fill-opacity=\"1\" /><path clip-path=\"url(#clip240)\" d=\"M1240.83 1544.01 Q1239.84 1543.44 1238.66 1543.18 Q1237.52 1542.9 1236.12 1542.9 Q1231.15 1542.9 1228.48 1546.14 Q1225.84 1549.36 1225.84 1555.41 L1225.84 1574.19 L1219.95 1574.19 L1219.95 1538.54 L1225.84 1538.54 L1225.84 1544.08 Q1227.68 1540.83 1230.64 1539.27 Q1233.6 1537.68 1237.83 1537.68 Q1238.44 1537.68 1239.17 1537.77 Q1239.9 1537.84 1240.79 1538 L1240.83 1544.01 Z\" fill=\"#000000\" fill-rule=\"evenodd\" fill-opacity=\"1\" /><path clip-path=\"url(#clip240)\" d=\"M1263.17 1556.27 Q1256.07 1556.27 1253.34 1557.89 Q1250.6 1559.51 1250.6 1563.43 Q1250.6 1566.55 1252.64 1568.39 Q1254.7 1570.21 1258.24 1570.21 Q1263.11 1570.21 1266.03 1566.77 Q1268.99 1563.3 1268.99 1557.57 L1268.99 1556.27 L1263.17 1556.27 M1274.85 1553.85 L1274.85 1574.19 L1268.99 1574.19 L1268.99 1568.77 Q1266.99 1572.02 1264 1573.58 Q1261.01 1575.11 1256.68 1575.11 Q1251.2 1575.11 1247.96 1572.05 Q1244.74 1568.97 1244.74 1563.81 Q1244.74 1557.79 1248.75 1554.74 Q1252.79 1551.68 1260.78 1551.68 L1268.99 1551.68 L1268.99 1551.11 Q1268.99 1547.07 1266.32 1544.87 Q1263.68 1542.64 1258.87 1542.64 Q1255.82 1542.64 1252.92 1543.38 Q1250.03 1544.11 1247.35 1545.57 L1247.35 1540.16 Q1250.57 1538.92 1253.59 1538.31 Q1256.61 1537.68 1259.48 1537.68 Q1267.21 1537.68 1271.03 1541.69 Q1274.85 1545.7 1274.85 1553.85 Z\" fill=\"#000000\" fill-rule=\"evenodd\" fill-opacity=\"1\" /><path clip-path=\"url(#clip240)\" d=\"M1292.71 1528.42 L1292.71 1538.54 L1304.77 1538.54 L1304.77 1543.09 L1292.71 1543.09 L1292.71 1562.44 Q1292.71 1566.8 1293.88 1568.04 Q1295.09 1569.28 1298.75 1569.28 L1304.77 1569.28 L1304.77 1574.19 L1298.75 1574.19 Q1291.98 1574.19 1289.4 1571.67 Q1286.82 1569.12 1286.82 1562.44 L1286.82 1543.09 L1282.52 1543.09 L1282.52 1538.54 L1286.82 1538.54 L1286.82 1528.42 L1292.71 1528.42 Z\" fill=\"#000000\" fill-rule=\"evenodd\" fill-opacity=\"1\" /><path clip-path=\"url(#clip240)\" d=\"M1312.47 1538.54 L1318.33 1538.54 L1318.33 1574.19 L1312.47 1574.19 L1312.47 1538.54 M1312.47 1524.66 L1318.33 1524.66 L1318.33 1532.08 L1312.47 1532.08 L1312.47 1524.66 Z\" fill=\"#000000\" fill-rule=\"evenodd\" fill-opacity=\"1\" /><path clip-path=\"url(#clip240)\" d=\"M1344.4 1542.64 Q1339.69 1542.64 1336.95 1546.34 Q1334.21 1550 1334.21 1556.39 Q1334.21 1562.79 1336.92 1566.48 Q1339.65 1570.14 1344.4 1570.14 Q1349.08 1570.14 1351.81 1566.45 Q1354.55 1562.76 1354.55 1556.39 Q1354.55 1550.06 1351.81 1546.37 Q1349.08 1542.64 1344.4 1542.64 M1344.4 1537.68 Q1352.04 1537.68 1356.4 1542.64 Q1360.76 1547.61 1360.76 1556.39 Q1360.76 1565.15 1356.4 1570.14 Q1352.04 1575.11 1344.4 1575.11 Q1336.73 1575.11 1332.37 1570.14 Q1328.04 1565.15 1328.04 1556.39 Q1328.04 1547.61 1332.37 1542.64 Q1336.73 1537.68 1344.4 1537.68 Z\" fill=\"#000000\" fill-rule=\"evenodd\" fill-opacity=\"1\" /><path clip-path=\"url(#clip240)\" d=\"M1400.1 1552.67 L1400.1 1574.19 L1394.24 1574.19 L1394.24 1552.86 Q1394.24 1547.8 1392.27 1545.29 Q1390.29 1542.77 1386.35 1542.77 Q1381.6 1542.77 1378.87 1545.79 Q1376.13 1548.82 1376.13 1554.04 L1376.13 1574.19 L1370.24 1574.19 L1370.24 1538.54 L1376.13 1538.54 L1376.13 1544.08 Q1378.23 1540.86 1381.06 1539.27 Q1383.93 1537.68 1387.65 1537.68 Q1393.79 1537.68 1396.95 1541.5 Q1400.1 1545.29 1400.1 1552.67 Z\" fill=\"#000000\" fill-rule=\"evenodd\" fill-opacity=\"1\" /><path clip-path=\"url(#clip240)\" d=\"M1434.5 1539.59 L1434.5 1545.13 Q1432.02 1543.85 1429.35 1543.22 Q1426.67 1542.58 1423.81 1542.58 Q1419.45 1542.58 1417.25 1543.92 Q1415.09 1545.25 1415.09 1547.93 Q1415.09 1549.96 1416.65 1551.14 Q1418.21 1552.29 1422.92 1553.34 L1424.92 1553.78 Q1431.16 1555.12 1433.77 1557.57 Q1436.41 1559.99 1436.41 1564.35 Q1436.41 1569.32 1432.47 1572.21 Q1428.55 1575.11 1421.68 1575.11 Q1418.81 1575.11 1415.69 1574.54 Q1412.61 1573.99 1409.17 1572.88 L1409.17 1566.83 Q1412.41 1568.52 1415.57 1569.38 Q1418.72 1570.21 1421.8 1570.21 Q1425.94 1570.21 1428.17 1568.81 Q1430.4 1567.37 1430.4 1564.8 Q1430.4 1562.41 1428.77 1561.14 Q1427.18 1559.86 1421.74 1558.68 L1419.7 1558.21 Q1414.26 1557.06 1411.84 1554.71 Q1409.42 1552.32 1409.42 1548.18 Q1409.42 1543.15 1412.99 1540.42 Q1416.55 1537.68 1423.11 1537.68 Q1426.36 1537.68 1429.22 1538.16 Q1432.08 1538.63 1434.5 1539.59 Z\" fill=\"#000000\" fill-rule=\"evenodd\" fill-opacity=\"1\" /><polyline clip-path=\"url(#clip242)\" style=\"stroke:#000000; stroke-linecap:round; stroke-linejoin:round; stroke-width:2; stroke-opacity:0.1; fill:none\" points=\"\n",
       "  219.195,1355.87 2352.76,1355.87 \n",
       "  \"/>\n",
       "<polyline clip-path=\"url(#clip242)\" style=\"stroke:#000000; stroke-linecap:round; stroke-linejoin:round; stroke-width:2; stroke-opacity:0.1; fill:none\" points=\"\n",
       "  219.195,1136.8 2352.76,1136.8 \n",
       "  \"/>\n",
       "<polyline clip-path=\"url(#clip242)\" style=\"stroke:#000000; stroke-linecap:round; stroke-linejoin:round; stroke-width:2; stroke-opacity:0.1; fill:none\" points=\"\n",
       "  219.195,917.729 2352.76,917.729 \n",
       "  \"/>\n",
       "<polyline clip-path=\"url(#clip242)\" style=\"stroke:#000000; stroke-linecap:round; stroke-linejoin:round; stroke-width:2; stroke-opacity:0.1; fill:none\" points=\"\n",
       "  219.195,698.657 2352.76,698.657 \n",
       "  \"/>\n",
       "<polyline clip-path=\"url(#clip242)\" style=\"stroke:#000000; stroke-linecap:round; stroke-linejoin:round; stroke-width:2; stroke-opacity:0.1; fill:none\" points=\"\n",
       "  219.195,479.585 2352.76,479.585 \n",
       "  \"/>\n",
       "<polyline clip-path=\"url(#clip242)\" style=\"stroke:#000000; stroke-linecap:round; stroke-linejoin:round; stroke-width:2; stroke-opacity:0.1; fill:none\" points=\"\n",
       "  219.195,260.513 2352.76,260.513 \n",
       "  \"/>\n",
       "<polyline clip-path=\"url(#clip240)\" style=\"stroke:#000000; stroke-linecap:round; stroke-linejoin:round; stroke-width:4; stroke-opacity:1; fill:none\" points=\"\n",
       "  219.195,1410.9 219.195,47.2441 \n",
       "  \"/>\n",
       "<polyline clip-path=\"url(#clip240)\" style=\"stroke:#000000; stroke-linecap:round; stroke-linejoin:round; stroke-width:4; stroke-opacity:1; fill:none\" points=\"\n",
       "  219.195,1355.87 238.093,1355.87 \n",
       "  \"/>\n",
       "<polyline clip-path=\"url(#clip240)\" style=\"stroke:#000000; stroke-linecap:round; stroke-linejoin:round; stroke-width:4; stroke-opacity:1; fill:none\" points=\"\n",
       "  219.195,1136.8 238.093,1136.8 \n",
       "  \"/>\n",
       "<polyline clip-path=\"url(#clip240)\" style=\"stroke:#000000; stroke-linecap:round; stroke-linejoin:round; stroke-width:4; stroke-opacity:1; fill:none\" points=\"\n",
       "  219.195,917.729 238.093,917.729 \n",
       "  \"/>\n",
       "<polyline clip-path=\"url(#clip240)\" style=\"stroke:#000000; stroke-linecap:round; stroke-linejoin:round; stroke-width:4; stroke-opacity:1; fill:none\" points=\"\n",
       "  219.195,698.657 238.093,698.657 \n",
       "  \"/>\n",
       "<polyline clip-path=\"url(#clip240)\" style=\"stroke:#000000; stroke-linecap:round; stroke-linejoin:round; stroke-width:4; stroke-opacity:1; fill:none\" points=\"\n",
       "  219.195,479.585 238.093,479.585 \n",
       "  \"/>\n",
       "<polyline clip-path=\"url(#clip240)\" style=\"stroke:#000000; stroke-linecap:round; stroke-linejoin:round; stroke-width:4; stroke-opacity:1; fill:none\" points=\"\n",
       "  219.195,260.513 238.093,260.513 \n",
       "  \"/>\n",
       "<path clip-path=\"url(#clip240)\" d=\"M116.066 1338.59 L134.422 1338.59 L134.422 1342.53 L120.348 1342.53 L120.348 1351 Q121.367 1350.65 122.385 1350.49 Q123.404 1350.31 124.422 1350.31 Q130.209 1350.31 133.589 1353.48 Q136.968 1356.65 136.968 1362.06 Q136.968 1367.64 133.496 1370.74 Q130.024 1373.82 123.705 1373.82 Q121.529 1373.82 119.26 1373.45 Q117.015 1373.08 114.607 1372.34 L114.607 1367.64 Q116.691 1368.78 118.913 1369.33 Q121.135 1369.89 123.612 1369.89 Q127.617 1369.89 129.955 1367.78 Q132.292 1365.68 132.292 1362.06 Q132.292 1358.45 129.955 1356.35 Q127.617 1354.24 123.612 1354.24 Q121.737 1354.24 119.862 1354.66 Q118.01 1355.07 116.066 1355.95 L116.066 1338.59 Z\" fill=\"#000000\" fill-rule=\"evenodd\" fill-opacity=\"1\" /><path clip-path=\"url(#clip240)\" d=\"M146.181 1367.27 L151.066 1367.27 L151.066 1373.15 L146.181 1373.15 L146.181 1367.27 Z\" fill=\"#000000\" fill-rule=\"evenodd\" fill-opacity=\"1\" /><path clip-path=\"url(#clip240)\" d=\"M171.251 1341.67 Q167.64 1341.67 165.811 1345.24 Q164.005 1348.78 164.005 1355.91 Q164.005 1363.01 165.811 1366.58 Q167.64 1370.12 171.251 1370.12 Q174.885 1370.12 176.69 1366.58 Q178.519 1363.01 178.519 1355.91 Q178.519 1348.78 176.69 1345.24 Q174.885 1341.67 171.251 1341.67 M171.251 1337.97 Q177.061 1337.97 180.116 1342.57 Q183.195 1347.16 183.195 1355.91 Q183.195 1364.63 180.116 1369.24 Q177.061 1373.82 171.251 1373.82 Q165.44 1373.82 162.362 1369.24 Q159.306 1364.63 159.306 1355.91 Q159.306 1347.16 162.362 1342.57 Q165.44 1337.97 171.251 1337.97 Z\" fill=\"#000000\" fill-rule=\"evenodd\" fill-opacity=\"1\" /><path clip-path=\"url(#clip240)\" d=\"M117.061 1119.52 L135.417 1119.52 L135.417 1123.46 L121.343 1123.46 L121.343 1131.93 Q122.362 1131.58 123.38 1131.42 Q124.399 1131.23 125.418 1131.23 Q131.205 1131.23 134.584 1134.4 Q137.964 1137.58 137.964 1142.99 Q137.964 1148.57 134.492 1151.67 Q131.019 1154.75 124.7 1154.75 Q122.524 1154.75 120.255 1154.38 Q118.01 1154.01 115.603 1153.27 L115.603 1148.57 Q117.686 1149.71 119.908 1150.26 Q122.13 1150.82 124.607 1150.82 Q128.612 1150.82 130.95 1148.71 Q133.288 1146.6 133.288 1142.99 Q133.288 1139.38 130.95 1137.27 Q128.612 1135.17 124.607 1135.17 Q122.732 1135.17 120.857 1135.59 Q119.006 1136 117.061 1136.88 L117.061 1119.52 Z\" fill=\"#000000\" fill-rule=\"evenodd\" fill-opacity=\"1\" /><path clip-path=\"url(#clip240)\" d=\"M147.177 1148.2 L152.061 1148.2 L152.061 1154.08 L147.177 1154.08 L147.177 1148.2 Z\" fill=\"#000000\" fill-rule=\"evenodd\" fill-opacity=\"1\" /><path clip-path=\"url(#clip240)\" d=\"M162.292 1119.52 L180.649 1119.52 L180.649 1123.46 L166.575 1123.46 L166.575 1131.93 Q167.593 1131.58 168.612 1131.42 Q169.63 1131.23 170.649 1131.23 Q176.436 1131.23 179.815 1134.4 Q183.195 1137.58 183.195 1142.99 Q183.195 1148.57 179.723 1151.67 Q176.251 1154.75 169.931 1154.75 Q167.755 1154.75 165.487 1154.38 Q163.241 1154.01 160.834 1153.27 L160.834 1148.57 Q162.917 1149.71 165.14 1150.26 Q167.362 1150.82 169.839 1150.82 Q173.843 1150.82 176.181 1148.71 Q178.519 1146.6 178.519 1142.99 Q178.519 1139.38 176.181 1137.27 Q173.843 1135.17 169.839 1135.17 Q167.964 1135.17 166.089 1135.59 Q164.237 1136 162.292 1136.88 L162.292 1119.52 Z\" fill=\"#000000\" fill-rule=\"evenodd\" fill-opacity=\"1\" /><path clip-path=\"url(#clip240)\" d=\"M126.598 915.865 Q123.45 915.865 121.598 918.018 Q119.769 920.171 119.769 923.921 Q119.769 927.647 121.598 929.823 Q123.45 931.976 126.598 931.976 Q129.746 931.976 131.575 929.823 Q133.427 927.647 133.427 923.921 Q133.427 920.171 131.575 918.018 Q129.746 915.865 126.598 915.865 M135.88 901.212 L135.88 905.472 Q134.121 904.638 132.316 904.199 Q130.533 903.759 128.774 903.759 Q124.144 903.759 121.691 906.884 Q119.26 910.009 118.913 916.328 Q120.279 914.314 122.339 913.249 Q124.399 912.161 126.876 912.161 Q132.084 912.161 135.093 915.333 Q138.126 918.481 138.126 923.921 Q138.126 929.245 134.978 932.462 Q131.83 935.68 126.598 935.68 Q120.603 935.68 117.431 931.097 Q114.26 926.49 114.26 917.763 Q114.26 909.569 118.149 904.708 Q122.038 899.824 128.589 899.824 Q130.348 899.824 132.13 900.171 Q133.936 900.518 135.88 901.212 Z\" fill=\"#000000\" fill-rule=\"evenodd\" fill-opacity=\"1\" /><path clip-path=\"url(#clip240)\" d=\"M146.181 929.129 L151.066 929.129 L151.066 935.009 L146.181 935.009 L146.181 929.129 Z\" fill=\"#000000\" fill-rule=\"evenodd\" fill-opacity=\"1\" /><path clip-path=\"url(#clip240)\" d=\"M171.251 903.527 Q167.64 903.527 165.811 907.092 Q164.005 910.634 164.005 917.763 Q164.005 924.87 165.811 928.435 Q167.64 931.976 171.251 931.976 Q174.885 931.976 176.69 928.435 Q178.519 924.87 178.519 917.763 Q178.519 910.634 176.69 907.092 Q174.885 903.527 171.251 903.527 M171.251 899.824 Q177.061 899.824 180.116 904.43 Q183.195 909.013 183.195 917.763 Q183.195 926.49 180.116 931.097 Q177.061 935.68 171.251 935.68 Q165.44 935.68 162.362 931.097 Q159.306 926.49 159.306 917.763 Q159.306 909.013 162.362 904.43 Q165.44 899.824 171.251 899.824 Z\" fill=\"#000000\" fill-rule=\"evenodd\" fill-opacity=\"1\" /><path clip-path=\"url(#clip240)\" d=\"M127.593 696.793 Q124.445 696.793 122.593 698.946 Q120.765 701.099 120.765 704.849 Q120.765 708.576 122.593 710.752 Q124.445 712.904 127.593 712.904 Q130.742 712.904 132.57 710.752 Q134.422 708.576 134.422 704.849 Q134.422 701.099 132.57 698.946 Q130.742 696.793 127.593 696.793 M136.876 682.141 L136.876 686.4 Q135.117 685.566 133.311 685.127 Q131.529 684.687 129.769 684.687 Q125.14 684.687 122.686 687.812 Q120.255 690.937 119.908 697.256 Q121.274 695.242 123.334 694.178 Q125.394 693.09 127.871 693.09 Q133.08 693.09 136.089 696.261 Q139.121 699.409 139.121 704.849 Q139.121 710.173 135.973 713.39 Q132.825 716.608 127.593 716.608 Q121.598 716.608 118.427 712.025 Q115.256 707.418 115.256 698.691 Q115.256 690.497 119.144 685.636 Q123.033 680.752 129.584 680.752 Q131.343 680.752 133.126 681.099 Q134.931 681.446 136.876 682.141 Z\" fill=\"#000000\" fill-rule=\"evenodd\" fill-opacity=\"1\" /><path clip-path=\"url(#clip240)\" d=\"M147.177 710.057 L152.061 710.057 L152.061 715.937 L147.177 715.937 L147.177 710.057 Z\" fill=\"#000000\" fill-rule=\"evenodd\" fill-opacity=\"1\" /><path clip-path=\"url(#clip240)\" d=\"M162.292 681.377 L180.649 681.377 L180.649 685.312 L166.575 685.312 L166.575 693.784 Q167.593 693.437 168.612 693.275 Q169.63 693.09 170.649 693.09 Q176.436 693.09 179.815 696.261 Q183.195 699.432 183.195 704.849 Q183.195 710.427 179.723 713.529 Q176.251 716.608 169.931 716.608 Q167.755 716.608 165.487 716.238 Q163.241 715.867 160.834 715.126 L160.834 710.427 Q162.917 711.562 165.14 712.117 Q167.362 712.673 169.839 712.673 Q173.843 712.673 176.181 710.566 Q178.519 708.46 178.519 704.849 Q178.519 701.238 176.181 699.131 Q173.843 697.025 169.839 697.025 Q167.964 697.025 166.089 697.441 Q164.237 697.858 162.292 698.738 L162.292 681.377 Z\" fill=\"#000000\" fill-rule=\"evenodd\" fill-opacity=\"1\" /><path clip-path=\"url(#clip240)\" d=\"M114.839 462.305 L137.061 462.305 L137.061 464.296 L124.515 496.865 L119.63 496.865 L131.436 466.24 L114.839 466.24 L114.839 462.305 Z\" fill=\"#000000\" fill-rule=\"evenodd\" fill-opacity=\"1\" /><path clip-path=\"url(#clip240)\" d=\"M146.181 490.985 L151.066 490.985 L151.066 496.865 L146.181 496.865 L146.181 490.985 Z\" fill=\"#000000\" fill-rule=\"evenodd\" fill-opacity=\"1\" /><path clip-path=\"url(#clip240)\" d=\"M171.251 465.383 Q167.64 465.383 165.811 468.948 Q164.005 472.49 164.005 479.62 Q164.005 486.726 165.811 490.291 Q167.64 493.832 171.251 493.832 Q174.885 493.832 176.69 490.291 Q178.519 486.726 178.519 479.62 Q178.519 472.49 176.69 468.948 Q174.885 465.383 171.251 465.383 M171.251 461.68 Q177.061 461.68 180.116 466.286 Q183.195 470.87 183.195 479.62 Q183.195 488.346 180.116 492.953 Q177.061 497.536 171.251 497.536 Q165.44 497.536 162.362 492.953 Q159.306 488.346 159.306 479.62 Q159.306 470.87 162.362 466.286 Q165.44 461.68 171.251 461.68 Z\" fill=\"#000000\" fill-rule=\"evenodd\" fill-opacity=\"1\" /><path clip-path=\"url(#clip240)\" d=\"M115.834 243.233 L138.056 243.233 L138.056 245.224 L125.51 277.793 L120.626 277.793 L132.431 247.168 L115.834 247.168 L115.834 243.233 Z\" fill=\"#000000\" fill-rule=\"evenodd\" fill-opacity=\"1\" /><path clip-path=\"url(#clip240)\" d=\"M147.177 271.913 L152.061 271.913 L152.061 277.793 L147.177 277.793 L147.177 271.913 Z\" fill=\"#000000\" fill-rule=\"evenodd\" fill-opacity=\"1\" /><path clip-path=\"url(#clip240)\" d=\"M162.292 243.233 L180.649 243.233 L180.649 247.168 L166.575 247.168 L166.575 255.64 Q167.593 255.293 168.612 255.131 Q169.63 254.946 170.649 254.946 Q176.436 254.946 179.815 258.117 Q183.195 261.288 183.195 266.705 Q183.195 272.284 179.723 275.386 Q176.251 278.464 169.931 278.464 Q167.755 278.464 165.487 278.094 Q163.241 277.723 160.834 276.983 L160.834 272.284 Q162.917 273.418 165.14 273.973 Q167.362 274.529 169.839 274.529 Q173.843 274.529 176.181 272.423 Q178.519 270.316 178.519 266.705 Q178.519 263.094 176.181 260.987 Q173.843 258.881 169.839 258.881 Q167.964 258.881 166.089 259.298 Q164.237 259.714 162.292 260.594 L162.292 243.233 Z\" fill=\"#000000\" fill-rule=\"evenodd\" fill-opacity=\"1\" /><path clip-path=\"url(#clip240)\" d=\"M22.818 1126.31 L46.4666 1135.03 L46.4666 1117.55 L22.818 1126.31 M16.4842 1129.93 L16.4842 1122.65 L64.0042 1104.54 L64.0042 1111.22 L51.8138 1115.55 L51.8138 1136.97 L64.0042 1141.3 L64.0042 1148.08 L16.4842 1129.93 Z\" fill=\"#000000\" fill-rule=\"evenodd\" fill-opacity=\"1\" /><path clip-path=\"url(#clip240)\" d=\"M28.3562 1105.87 L28.3562 1099.67 L58.275 1088.53 L28.3562 1077.39 L28.3562 1071.18 L64.0042 1084.55 L64.0042 1092.5 L28.3562 1105.87 Z\" fill=\"#000000\" fill-rule=\"evenodd\" fill-opacity=\"1\" /><path clip-path=\"url(#clip240)\" d=\"M44.7161 1032.6 L47.5806 1032.6 L47.5806 1059.53 Q53.6281 1059.15 56.8109 1055.9 Q59.9619 1052.62 59.9619 1046.8 Q59.9619 1043.42 59.1344 1040.27 Q58.3069 1037.09 56.6518 1033.97 L62.1899 1033.97 Q63.5267 1037.12 64.227 1040.43 Q64.9272 1043.74 64.9272 1047.15 Q64.9272 1055.68 59.9619 1060.68 Q54.9967 1065.64 46.5303 1065.64 Q37.7774 1065.64 32.6531 1060.93 Q27.4968 1056.19 27.4968 1048.17 Q27.4968 1040.97 32.1438 1036.8 Q36.7589 1032.6 44.7161 1032.6 M42.9973 1038.46 Q38.1912 1038.52 35.3266 1041.17 Q32.4621 1043.77 32.4621 1048.1 Q32.4621 1053.01 35.2312 1055.97 Q38.0002 1058.89 43.0292 1059.34 L42.9973 1038.46 Z\" fill=\"#000000\" fill-rule=\"evenodd\" fill-opacity=\"1\" /><path clip-path=\"url(#clip240)\" d=\"M33.8307 1002.33 Q33.2578 1003.32 33.0032 1004.5 Q32.7167 1005.64 32.7167 1007.04 Q32.7167 1012.01 35.9632 1014.68 Q39.1779 1017.33 45.2253 1017.33 L64.0042 1017.33 L64.0042 1023.21 L28.3562 1023.21 L28.3562 1017.33 L33.8944 1017.33 Q30.6479 1015.48 29.0883 1012.52 Q27.4968 1009.56 27.4968 1005.33 Q27.4968 1004.72 27.5923 1003.99 Q27.656 1003.26 27.8151 1002.37 L33.8307 1002.33 Z\" fill=\"#000000\" fill-rule=\"evenodd\" fill-opacity=\"1\" /><path clip-path=\"url(#clip240)\" d=\"M46.0847 979.991 Q46.0847 987.088 47.7079 989.826 Q49.3312 992.563 53.2461 992.563 Q56.3653 992.563 58.2114 990.526 Q60.0256 988.457 60.0256 984.924 Q60.0256 980.054 56.5881 977.126 Q53.1188 974.166 47.3897 974.166 L46.0847 974.166 L46.0847 979.991 M43.6657 968.31 L64.0042 968.31 L64.0042 974.166 L58.5933 974.166 Q61.8398 976.171 63.3994 979.163 Q64.9272 982.155 64.9272 986.484 Q64.9272 991.958 61.8716 995.205 Q58.7843 998.419 53.6281 998.419 Q47.6125 998.419 44.5569 994.409 Q41.5014 990.367 41.5014 982.378 L41.5014 974.166 L40.9285 974.166 Q36.8862 974.166 34.6901 976.84 Q32.4621 979.481 32.4621 984.287 Q32.4621 987.343 33.1941 990.239 Q33.9262 993.136 35.3903 995.809 L29.9795 995.809 Q28.7381 992.595 28.1334 989.571 Q27.4968 986.547 27.4968 983.683 Q27.4968 975.948 31.5072 972.129 Q35.5176 968.31 43.6657 968.31 Z\" fill=\"#000000\" fill-rule=\"evenodd\" fill-opacity=\"1\" /><path clip-path=\"url(#clip240)\" d=\"M45.7664 932.789 Q39.4007 932.789 35.8996 935.431 Q32.3984 938.041 32.3984 942.783 Q32.3984 947.494 35.8996 950.135 Q39.4007 952.745 45.7664 952.745 Q52.1003 952.745 55.6014 950.135 Q59.1026 947.494 59.1026 942.783 Q59.1026 938.041 55.6014 935.431 Q52.1003 932.789 45.7664 932.789 M59.58 926.932 Q68.683 926.932 73.1071 930.975 Q77.5631 935.017 77.5631 943.356 Q77.5631 946.443 77.0857 949.181 Q76.6401 951.918 75.6852 954.496 L69.9879 954.496 Q71.3884 951.918 72.0568 949.403 Q72.7252 946.889 72.7252 944.279 Q72.7252 938.518 69.7015 935.653 Q66.7096 932.789 60.6303 932.789 L57.7339 932.789 Q60.885 934.603 62.4446 937.436 Q64.0042 940.269 64.0042 944.215 Q64.0042 950.772 59.0071 954.782 Q54.01 958.793 45.7664 958.793 Q37.491 958.793 32.4939 954.782 Q27.4968 950.772 27.4968 944.215 Q27.4968 940.269 29.0564 937.436 Q30.616 934.603 33.7671 932.789 L28.3562 932.789 L28.3562 926.932 L59.58 926.932 Z\" fill=\"#000000\" fill-rule=\"evenodd\" fill-opacity=\"1\" /><path clip-path=\"url(#clip240)\" d=\"M44.7161 884.378 L47.5806 884.378 L47.5806 911.305 Q53.6281 910.923 56.8109 907.676 Q59.9619 904.398 59.9619 898.573 Q59.9619 895.199 59.1344 892.048 Q58.3069 888.866 56.6518 885.746 L62.1899 885.746 Q63.5267 888.897 64.227 892.208 Q64.9272 895.518 64.9272 898.923 Q64.9272 907.453 59.9619 912.45 Q54.9967 917.416 46.5303 917.416 Q37.7774 917.416 32.6531 912.705 Q27.4968 907.963 27.4968 899.942 Q27.4968 892.749 32.1438 888.579 Q36.7589 884.378 44.7161 884.378 M42.9973 890.234 Q38.1912 890.298 35.3266 892.94 Q32.4621 895.55 32.4621 899.878 Q32.4621 904.78 35.2312 907.74 Q38.0002 910.668 43.0292 911.114 L42.9973 890.234 Z\" fill=\"#000000\" fill-rule=\"evenodd\" fill-opacity=\"1\" /><path clip-path=\"url(#clip240)\" d=\"M20.1444 818.206 L26.9239 818.206 Q23.9002 821.453 22.4043 825.145 Q20.9083 828.805 20.9083 832.943 Q20.9083 841.091 25.9054 845.42 Q30.8707 849.748 40.2919 849.748 Q49.6813 849.748 54.6784 845.42 Q59.6436 841.091 59.6436 832.943 Q59.6436 828.805 58.1477 825.145 Q56.6518 821.453 53.6281 818.206 L60.3439 818.206 Q62.6355 821.58 63.7814 825.368 Q64.9272 829.123 64.9272 833.325 Q64.9272 844.115 58.3387 850.321 Q51.7183 856.528 40.2919 856.528 Q28.8336 856.528 22.2451 850.321 Q15.6248 844.115 15.6248 833.325 Q15.6248 829.06 16.7706 825.304 Q17.8846 821.516 20.1444 818.206 Z\" fill=\"#000000\" fill-rule=\"evenodd\" fill-opacity=\"1\" /><path clip-path=\"url(#clip240)\" d=\"M32.4621 794.717 Q32.4621 799.427 36.1542 802.165 Q39.8145 804.902 46.212 804.902 Q52.6095 804.902 56.3017 802.196 Q59.9619 799.459 59.9619 794.717 Q59.9619 790.038 56.2698 787.301 Q52.5777 784.563 46.212 784.563 Q39.8781 784.563 36.186 787.301 Q32.4621 790.038 32.4621 794.717 M27.4968 794.717 Q27.4968 787.078 32.4621 782.717 Q37.4273 778.357 46.212 778.357 Q54.9649 778.357 59.9619 782.717 Q64.9272 787.078 64.9272 794.717 Q64.9272 802.387 59.9619 806.748 Q54.9649 811.077 46.212 811.077 Q37.4273 811.077 32.4621 806.748 Q27.4968 802.387 27.4968 794.717 Z\" fill=\"#000000\" fill-rule=\"evenodd\" fill-opacity=\"1\" /><path clip-path=\"url(#clip240)\" d=\"M35.1993 740.895 Q31.2526 738.698 29.3747 735.643 Q27.4968 732.587 27.4968 728.45 Q27.4968 722.88 31.4117 719.856 Q35.2948 716.832 42.4881 716.832 L64.0042 716.832 L64.0042 722.721 L42.679 722.721 Q37.5546 722.721 35.072 724.535 Q32.5894 726.349 32.5894 730.073 Q32.5894 734.624 35.6131 737.266 Q38.6368 739.908 43.8567 739.908 L64.0042 739.908 L64.0042 745.796 L42.679 745.796 Q37.5228 745.796 35.072 747.61 Q32.5894 749.425 32.5894 753.212 Q32.5894 757.7 35.6449 760.342 Q38.6686 762.984 43.8567 762.984 L64.0042 762.984 L64.0042 768.872 L28.3562 768.872 L28.3562 762.984 L33.8944 762.984 Q30.616 760.978 29.0564 758.178 Q27.4968 755.377 27.4968 751.525 Q27.4968 747.642 29.4702 744.937 Q31.4436 742.2 35.1993 740.895 Z\" fill=\"#000000\" fill-rule=\"evenodd\" fill-opacity=\"1\" /><path clip-path=\"url(#clip240)\" d=\"M58.657 699.486 L77.5631 699.486 L77.5631 705.374 L28.3562 705.374 L28.3562 699.486 L33.7671 699.486 Q30.5842 697.64 29.0564 694.839 Q27.4968 692.006 27.4968 688.091 Q27.4968 681.598 32.6531 677.556 Q37.8093 673.482 46.212 673.482 Q54.6147 673.482 59.771 677.556 Q64.9272 681.598 64.9272 688.091 Q64.9272 692.006 63.3994 694.839 Q61.8398 697.64 58.657 699.486 M46.212 679.561 Q39.7508 679.561 36.0905 682.235 Q32.3984 684.876 32.3984 689.523 Q32.3984 694.17 36.0905 696.844 Q39.7508 699.486 46.212 699.486 Q52.6732 699.486 56.3653 696.844 Q60.0256 694.17 60.0256 689.523 Q60.0256 684.876 56.3653 682.235 Q52.6732 679.561 46.212 679.561 Z\" fill=\"#000000\" fill-rule=\"evenodd\" fill-opacity=\"1\" /><path clip-path=\"url(#clip240)\" d=\"M14.479 663.774 L14.479 657.918 L64.0042 657.918 L64.0042 663.774 L14.479 663.774 Z\" fill=\"#000000\" fill-rule=\"evenodd\" fill-opacity=\"1\" /><path clip-path=\"url(#clip240)\" d=\"M44.7161 615.172 L47.5806 615.172 L47.5806 642.099 Q53.6281 641.717 56.8109 638.47 Q59.9619 635.192 59.9619 629.367 Q59.9619 625.994 59.1344 622.843 Q58.3069 619.66 56.6518 616.541 L62.1899 616.541 Q63.5267 619.692 64.227 623.002 Q64.9272 626.312 64.9272 629.718 Q64.9272 638.248 59.9619 643.245 Q54.9967 648.21 46.5303 648.21 Q37.7774 648.21 32.6531 643.499 Q27.4968 638.757 27.4968 630.736 Q27.4968 623.543 32.1438 619.373 Q36.7589 615.172 44.7161 615.172 M42.9973 621.028 Q38.1912 621.092 35.3266 623.734 Q32.4621 626.344 32.4621 630.672 Q32.4621 635.574 35.2312 638.534 Q38.0002 641.462 43.0292 641.908 L42.9973 621.028 Z\" fill=\"#000000\" fill-rule=\"evenodd\" fill-opacity=\"1\" /><path clip-path=\"url(#clip240)\" d=\"M18.2347 599.767 L28.3562 599.767 L28.3562 587.704 L32.9077 587.704 L32.9077 599.767 L52.2594 599.767 Q56.6199 599.767 57.8613 598.589 Q59.1026 597.38 59.1026 593.72 L59.1026 587.704 L64.0042 587.704 L64.0042 593.72 Q64.0042 600.499 61.4897 603.077 Q58.9434 605.655 52.2594 605.655 L32.9077 605.655 L32.9077 609.952 L28.3562 609.952 L28.3562 605.655 L18.2347 605.655 L18.2347 599.767 Z\" fill=\"#000000\" fill-rule=\"evenodd\" fill-opacity=\"1\" /><path clip-path=\"url(#clip240)\" d=\"M28.3562 580.001 L28.3562 574.145 L64.0042 574.145 L64.0042 580.001 L28.3562 580.001 M14.479 580.001 L14.479 574.145 L21.895 574.145 L21.895 580.001 L14.479 580.001 Z\" fill=\"#000000\" fill-rule=\"evenodd\" fill-opacity=\"1\" /><path clip-path=\"url(#clip240)\" d=\"M32.4621 548.077 Q32.4621 552.788 36.1542 555.525 Q39.8145 558.263 46.212 558.263 Q52.6095 558.263 56.3017 555.557 Q59.9619 552.82 59.9619 548.077 Q59.9619 543.399 56.2698 540.661 Q52.5777 537.924 46.212 537.924 Q39.8781 537.924 36.186 540.661 Q32.4621 543.399 32.4621 548.077 M27.4968 548.077 Q27.4968 540.439 32.4621 536.078 Q37.4273 531.718 46.212 531.718 Q54.9649 531.718 59.9619 536.078 Q64.9272 540.439 64.9272 548.077 Q64.9272 555.748 59.9619 560.109 Q54.9649 564.437 46.212 564.437 Q37.4273 564.437 32.4621 560.109 Q27.4968 555.748 27.4968 548.077 Z\" fill=\"#000000\" fill-rule=\"evenodd\" fill-opacity=\"1\" /><path clip-path=\"url(#clip240)\" d=\"M42.4881 492.377 L64.0042 492.377 L64.0042 498.234 L42.679 498.234 Q37.6183 498.234 35.1038 500.207 Q32.5894 502.181 32.5894 506.127 Q32.5894 510.87 35.6131 513.607 Q38.6368 516.344 43.8567 516.344 L64.0042 516.344 L64.0042 522.233 L28.3562 522.233 L28.3562 516.344 L33.8944 516.344 Q30.6797 514.244 29.0883 511.411 Q27.4968 508.546 27.4968 504.822 Q27.4968 498.68 31.3163 495.529 Q35.1038 492.377 42.4881 492.377 Z\" fill=\"#000000\" fill-rule=\"evenodd\" fill-opacity=\"1\" /><path clip-path=\"url(#clip240)\" d=\"M16.4842 466.31 L16.4842 426.11 L21.895 426.11 L21.895 442.98 L64.0042 442.98 L64.0042 449.441 L21.895 449.441 L21.895 466.31 L16.4842 466.31 Z\" fill=\"#000000\" fill-rule=\"evenodd\" fill-opacity=\"1\" /><path clip-path=\"url(#clip240)\" d=\"M28.3562 422.164 L28.3562 416.307 L64.0042 416.307 L64.0042 422.164 L28.3562 422.164 M14.479 422.164 L14.479 416.307 L21.895 416.307 L21.895 422.164 L14.479 422.164 Z\" fill=\"#000000\" fill-rule=\"evenodd\" fill-opacity=\"1\" /><path clip-path=\"url(#clip240)\" d=\"M35.1993 376.299 Q31.2526 374.103 29.3747 371.047 Q27.4968 367.992 27.4968 363.854 Q27.4968 358.284 31.4117 355.26 Q35.2948 352.236 42.4881 352.236 L64.0042 352.236 L64.0042 358.125 L42.679 358.125 Q37.5546 358.125 35.072 359.939 Q32.5894 361.753 32.5894 365.477 Q32.5894 370.029 35.6131 372.67 Q38.6368 375.312 43.8567 375.312 L64.0042 375.312 L64.0042 381.2 L42.679 381.2 Q37.5228 381.2 35.072 383.015 Q32.5894 384.829 32.5894 388.616 Q32.5894 393.104 35.6449 395.746 Q38.6686 398.388 43.8567 398.388 L64.0042 398.388 L64.0042 404.276 L28.3562 404.276 L28.3562 398.388 L33.8944 398.388 Q30.616 396.383 29.0564 393.582 Q27.4968 390.781 27.4968 386.93 Q27.4968 383.046 29.4702 380.341 Q31.4436 377.604 35.1993 376.299 Z\" fill=\"#000000\" fill-rule=\"evenodd\" fill-opacity=\"1\" /><path clip-path=\"url(#clip240)\" d=\"M44.7161 310.064 L47.5806 310.064 L47.5806 336.991 Q53.6281 336.609 56.8109 333.362 Q59.9619 330.084 59.9619 324.259 Q59.9619 320.885 59.1344 317.734 Q58.3069 314.551 56.6518 311.432 L62.1899 311.432 Q63.5267 314.583 64.227 317.893 Q64.9272 321.204 64.9272 324.609 Q64.9272 333.139 59.9619 338.136 Q54.9967 343.102 46.5303 343.102 Q37.7774 343.102 32.6531 338.391 Q27.4968 333.649 27.4968 325.628 Q27.4968 318.435 32.1438 314.265 Q36.7589 310.064 44.7161 310.064 M42.9973 315.92 Q38.1912 315.984 35.3266 318.626 Q32.4621 321.235 32.4621 325.564 Q32.4621 330.466 35.2312 333.426 Q38.0002 336.354 43.0292 336.8 L42.9973 315.92 Z\" fill=\"#000000\" fill-rule=\"evenodd\" fill-opacity=\"1\" /><polyline clip-path=\"url(#clip242)\" style=\"stroke:#009af9; stroke-linecap:round; stroke-linejoin:round; stroke-width:4; stroke-opacity:1; fill:none\" points=\"\n",
       "  374.14,1312.06 387.648,1372.3 401.157,358.791 414.666,131.176 428.174,85.838 441.683,162.104 455.192,311.532 468.7,395.81 482.209,560.289 495.718,572.537 \n",
       "  509.226,659.537 522.735,598.733 536.244,297.948 549.752,293.497 563.261,720.282 576.77,682.17 590.278,638.073 603.787,642.862 617.296,677.784 630.804,675.486 \n",
       "  644.313,513.489 657.822,611.893 671.33,701.623 684.839,674.8 698.348,889.349 711.857,775.715 725.365,696.727 738.874,688.877 752.383,729.977 765.891,752.139 \n",
       "  779.4,733.994 792.909,785.19 806.417,814.247 819.926,753.928 833.435,779.896 846.943,789.288 860.452,706.205 873.961,638.44 887.469,822.049 900.978,711.883 \n",
       "  914.487,772.523 927.995,614.771 941.504,762.571 955.013,873.914 968.521,855.448 982.03,816.831 995.539,898.619 1009.05,744.241 1022.56,766.88 1036.06,705.682 \n",
       "  1049.57,787.381 1063.08,820.679 1076.59,811.242 1090.1,831.223 1103.61,763.518 1117.12,713.913 1130.63,831.173 1144.13,819.691 1157.64,827.361 1171.15,802.569 \n",
       "  1184.66,715.878 1198.17,780.432 1211.68,889.611 1225.19,865.524 1238.7,833.959 1252.2,853.23 1265.71,827.82 1279.22,794.008 1292.73,729.561 1306.24,748.976 \n",
       "  1319.75,681.388 1333.26,774.781 1346.76,797.734 1360.27,868.27 1373.78,807.019 1387.29,874.581 1400.8,838.081 1414.31,729.194 1427.82,715.963 1441.33,806.404 \n",
       "  1454.83,863.016 1468.34,864.72 1481.85,837.346 1495.36,749.452 1508.87,767.27 1522.38,687.988 1535.89,791.45 1549.39,679.805 1562.9,797.527 1576.41,814.776 \n",
       "  1589.92,685.175 1603.43,767.915 1616.94,809.791 1630.45,779.849 1643.96,721.472 1657.46,746.662 1670.97,812.96 1684.48,739.961 1697.99,737.726 1711.5,679.753 \n",
       "  1725.01,492.656 1738.52,413.021 1752.02,573.22 1765.53,804.766 1779.04,677.107 1792.55,871.901 1806.06,450.747 1819.57,591.548 1833.08,767.593 1846.59,689.361 \n",
       "  1860.09,632.017 1873.6,742.974 1887.11,921.574 1900.62,829.692 1914.13,901.728 1927.64,772.654 1941.15,905.331 1954.66,847.19 1968.16,811.035 1981.67,863.924 \n",
       "  1995.18,788.239 2008.69,854.025 2022.2,791.909 2035.71,847.84 2049.22,881.275 2062.72,929.37 2076.23,854.435 2089.74,932.895 2103.25,1013.44 2116.76,820.153 \n",
       "  2130.27,799.748 2143.78,780.657 2157.29,854.255 2170.79,748.317 2184.3,767.445 2197.81,832.973 2211.32,742.4 2224.83,885.17 2238.34,839.109 2251.85,904.194 \n",
       "  2265.35,942.541 2278.86,878.6 2292.37,921.498 \n",
       "  \"/>\n",
       "</svg>\n"
      ]
     },
     "execution_count": 40,
     "metadata": {},
     "output_type": "execute_result"
    }
   ],
   "source": [
    "plot(iterations, avg_compl_time, xlabel=\"Iterations\", ylabel=\"Average Completion Time\", legend = false, xformatter = :scientific)"
   ]
  },
  {
   "cell_type": "code",
   "execution_count": 41,
   "id": "4739f3dc",
   "metadata": {},
   "outputs": [
    {
     "data": {
      "text/plain": [
       "\"/home/larissa/Documents/Projects/Advanced Deep Learning for Robotics/ADLR_project/src/2d/plots/slow/avg_comp_time.svg\""
      ]
     },
     "execution_count": 41,
     "metadata": {},
     "output_type": "execute_result"
    }
   ],
   "source": [
    "savefig(fig_path * \"avg_comp_time.svg\")"
   ]
  },
  {
   "cell_type": "markdown",
   "id": "ed305f8e",
   "metadata": {},
   "source": [
    "# Create Videos"
   ]
  },
  {
   "cell_type": "code",
   "execution_count": 44,
   "id": "1f30d98a",
   "metadata": {},
   "outputs": [
    {
     "name": "stderr",
     "output_type": "stream",
     "text": [
      "\u001b[36m\u001b[1m┌ \u001b[22m\u001b[39m\u001b[36m\u001b[1mInfo: \u001b[22m\u001b[39mMeshCat server started. You can open the visualizer by visiting the following URL in your browser:\n",
      "\u001b[36m\u001b[1m└ \u001b[22m\u001b[39mhttp://127.0.0.1:8703\n"
     ]
    }
   ],
   "source": [
    "create_visualization();"
   ]
  },
  {
   "cell_type": "code",
   "execution_count": 46,
   "id": "260d79dd",
   "metadata": {},
   "outputs": [
    {
     "name": "stdout",
     "output_type": "stream",
     "text": [
      "fast mode\n"
     ]
    },
    {
     "name": "stderr",
     "output_type": "stream",
     "text": [
      "\u001b[32mProgress: 100%|█████████████████████████████████████████| Time: 0:00:35\u001b[39m\n"
     ]
    },
    {
     "data": {
      "text/plain": [
       "EmptyHook()"
      ]
     },
     "execution_count": 46,
     "metadata": {},
     "output_type": "execute_result"
    }
   ],
   "source": [
    "# TODO: load_model as desired\n",
    "vid_env = VtolEnv(;name = \"testVTOL\", visualization = true, realtime = true);\n",
    "\n",
    "if SLOW_MODE\n",
    "    path = \"./RL_models_slow/\"\n",
    "    load_model = 500_000\n",
    "    println(\"slow mode\")\n",
    "else\n",
    "    path = \"./RL_models_fast/\"\n",
    "    load_model = 1_250_000\n",
    "    println(\"fast mode\")\n",
    "end\n",
    "agent.policy.approximator = loadModel(path,load_model); \n",
    "RLBase.reset!(vid_env)\n",
    "run(agent.policy, vid_env, StopAfterEpisode(1))"
   ]
  },
  {
   "cell_type": "code",
   "execution_count": 43,
   "id": "1bebf7cc",
   "metadata": {},
   "outputs": [],
   "source": [
    "close_visualization();"
   ]
  },
  {
   "cell_type": "markdown",
   "id": "57443b44",
   "metadata": {},
   "source": [
    "done"
   ]
  }
 ],
 "metadata": {
  "@webio": {
   "lastCommId": null,
   "lastKernelId": null
  },
  "kernelspec": {
   "display_name": "Julia 1.8.0",
   "language": "julia",
   "name": "julia-1.8"
  },
  "language_info": {
   "file_extension": ".jl",
   "mimetype": "application/julia",
   "name": "julia",
   "version": "1.8.0"
  }
 },
 "nbformat": 4,
 "nbformat_minor": 5
}
