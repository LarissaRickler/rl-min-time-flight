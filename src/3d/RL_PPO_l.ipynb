{
 "cells": [
  {
   "cell_type": "code",
   "execution_count": null,
   "id": "285d18fd",
   "metadata": {},
   "outputs": [],
   "source": [
    "using Pkg\n",
    "if isfile(\"Project.toml\") && isfile(\"Manifest.toml\")\n",
    "    Pkg.activate(\".\")\n",
    "end"
   ]
  },
  {
   "cell_type": "markdown",
   "id": "0649b76a",
   "metadata": {},
   "source": [
    "# Init Bionic VTOL"
   ]
  },
  {
   "cell_type": "code",
   "execution_count": 1,
   "id": "96751412",
   "metadata": {},
   "outputs": [],
   "source": [
    "include(\"../Flyonic.jl\");\n",
    "using .Flyonic;\n",
    "\n",
    "using Rotations; # used for initial position\n",
    "\n",
    "using ReinforcementLearning;\n",
    "using StableRNGs;\n",
    "using Flux;\n",
    "using Flux.Losses;\n",
    "using Random;\n",
    "using IntervalSets;\n",
    "using LinearAlgebra;\n",
    "using Distributions;\n",
    "\n",
    "using Plots;\n",
    "using Statistics;\n",
    "\n",
    "using TensorBoardLogger\n",
    "using Logging\n",
    "\n",
    "\n",
    "using JLD;\n",
    "using BSON: @save, @load # save mode"
   ]
  },
  {
   "cell_type": "code",
   "execution_count": 2,
   "id": "d435a5d6",
   "metadata": {},
   "outputs": [
    {
     "data": {
      "text/plain": [
       "3-element Vector{Vector{Float64}}:\n",
       " [0.0, 0.0, 0.0]\n",
       " [-2.5932652423671767, 0.21430435204962306, 1.1493848289172468]\n",
       " [-4.0092555753711085, 0.7541161407736685, 2.8694886032128837]"
      ]
     },
     "execution_count": 2,
     "metadata": {},
     "output_type": "execute_result"
    }
   ],
   "source": [
    "# TODO: set as desired\n",
    "R_TOL = 0.5;\n",
    "N_WAYPOINTS = 2; # including startpoint, >= 2\n",
    "SLOW_MODE = true;\n",
    "TRAINING = true;\n",
    "EVALUATION = true;\n",
    "TRAJECTORY = generate_trajectory(N_WAYPOINTS + 1)"
   ]
  },
  {
   "cell_type": "code",
   "execution_count": 3,
   "id": "f7e4ee64",
   "metadata": {},
   "outputs": [
    {
     "name": "stderr",
     "output_type": "stream",
     "text": [
      "\u001b[36m\u001b[1m┌ \u001b[22m\u001b[39m\u001b[36m\u001b[1mInfo: \u001b[22m\u001b[39mMeshCat server started. You can open the visualizer by visiting the following URL in your browser:\n",
      "\u001b[36m\u001b[1m└ \u001b[22m\u001b[39mhttp://127.0.0.1:8700\n"
     ]
    }
   ],
   "source": [
    "create_remote_visualization();"
   ]
  },
  {
   "cell_type": "code",
   "execution_count": 4,
   "id": "e19cce80",
   "metadata": {},
   "outputs": [
    {
     "data": {
      "text/plain": [
       "TBLogger:\n",
       "\t- Log level     : Info\n",
       "\t- Current step  : 0\n",
       "\t- Output        : /home/larissa/Documents/Projects/ADLR/ADLR_project/src/3d/tensorboard_PPO\n",
       "\t- open files    : 1\n"
      ]
     },
     "execution_count": 4,
     "metadata": {},
     "output_type": "execute_result"
    }
   ],
   "source": [
    "# TensorBoard\n",
    "logger = TBLogger(\"tensorboard_PPO\", tb_increment)"
   ]
  },
  {
   "cell_type": "raw",
   "id": "f38569b1",
   "metadata": {},
   "source": [
    "macro sh_str(s) open(`sh`,\"w\",stdout) do io; print(io, s); end; end\n",
    "\n",
    "sh\"\"\"\n",
    "tensorboard --logdir /home/larissa/Documents/Projects/ADLR/ADLR_project/src/3d/tensorboard_PPO\n",
    "\"\"\""
   ]
  },
  {
   "cell_type": "code",
   "execution_count": 5,
   "id": "7d9557df",
   "metadata": {},
   "outputs": [
    {
     "data": {
      "text/plain": [
       "1"
      ]
     },
     "execution_count": 5,
     "metadata": {},
     "output_type": "execute_result"
    }
   ],
   "source": [
    "# indicates how many threads Julia was started with. This is important for the multi-threaded environment\n",
    "Threads.nthreads()"
   ]
  },
  {
   "cell_type": "code",
   "execution_count": 6,
   "id": "10d945ff",
   "metadata": {},
   "outputs": [],
   "source": [
    "Δt = 0.025;"
   ]
  },
  {
   "cell_type": "markdown",
   "id": "5411db62",
   "metadata": {},
   "source": [
    "# Create Reinforcement Learning Environment"
   ]
  },
  {
   "cell_type": "code",
   "execution_count": 7,
   "id": "96af6ee0",
   "metadata": {},
   "outputs": [],
   "source": [
    "mutable struct VtolEnv{A,T,ACT,R<:AbstractRNG} <: AbstractEnv # Parametric Constructor for a subtype of AbstractEnv\n",
    "    action_space::A # All possible actions the agent can take\n",
    "    observation_space::Space{Vector{ClosedInterval{T}}} # All possible states that the agent can observe.\n",
    "    state::Vector{T} # Current state\n",
    "    action::ACT # next action the agent wants to apply in the environment.\n",
    "    done::Bool # shows whether a terminal condition has been reached.\n",
    "    t::T # time\n",
    "    rng::R # random number generator\n",
    "\n",
    "    name::String # for different naming of multible environoments\n",
    "    visualization::Bool # activate visualisation (Faster computation without visualisation)\n",
    "    realtime::Bool # visualization in \"real-world\" time (only for watching or filming).\n",
    "    \n",
    "    # Overall state of the environment. This does not correspond to the observation space of the agent but contains all states that describe the environment.\n",
    "    x_W::Vector{T} # Position in World frame\n",
    "    v_B::Vector{T} # Velocity in Body frame\n",
    "    R_W::Matrix{T} # Rotation (matrix) in World frame\n",
    "    ω_B::Vector{T} # Rotation velocity in Body frame\n",
    "    wind_W::Vector{T} # Externel linear velocity acting on the drone\n",
    "    Δt::T # Time step for physics simulation in seconds\n",
    "\n",
    "    ###NEW###\n",
    "    # Current Bonus / Target\n",
    "    num_waypoints::Int # includig start point\n",
    "    waypoints::Vector{Vector{T}}\n",
    "    reached_goal::BitVector\n",
    "    \n",
    "    norm_way::T\n",
    "    progress::T\n",
    "    progress_prev::T\n",
    "    current_point::Int\n",
    "    reached_goal_in_step::Bool\n",
    "    \n",
    "    r_tol::T\n",
    "    projected_position::Vector{T}\n",
    "\n",
    "    slow_mode::Bool\n",
    "    ######\n",
    "end"
   ]
  },
  {
   "cell_type": "code",
   "execution_count": 8,
   "id": "14a6873d",
   "metadata": {},
   "outputs": [],
   "source": [
    "# define a keyword-based constructor for the type declared in the mutable struct typedef. \n",
    "# It could also be done with the macro Base.@kwdef.\n",
    "function VtolEnv(;\n",
    "    rng = Random.GLOBAL_RNG, # Random number generation\n",
    "    name = \"Crazyflie\",\n",
    "    visualization = false,\n",
    "    realtime = false,\n",
    "    kwargs... # let the function take an arbitrary number of keyword arguments\n",
    ")\n",
    "    \n",
    "    T = Float64; # explicit type which is used e.g. in state. Cannot be altered due to the poor matrix defininon.\n",
    "    \n",
    "    # final PWM Values for Crazyflie. The interval definition has no effect in the current implementation.\n",
    "    action_space = Space(\n",
    "        ClosedInterval{T}[\n",
    "            0..1#0..65535, # motor 1\n",
    "            0..1#0..65535, # motor 2\n",
    "            0..1#0..65535, # motor 3\n",
    "            0..1#0..65535, # motor 4\n",
    "            ], \n",
    "    )\n",
    "\n",
    "    \n",
    "    state_space = Space( # Three continuous values in state space.\n",
    "        ClosedInterval{T}[#todo\n",
    "            typemin(T)..typemax(T), # 1 x\n",
    "            typemin(T)..typemax(T), # 2 y\n",
    "            typemin(T)..typemax(T), # 3 z\n",
    "\n",
    "            typemin(T)..typemax(T), # 4  World Vector UP x\n",
    "            typemin(T)..typemax(T), # 5  World Vector UP y\n",
    "            typemin(T)..typemax(T), # 6  World Vector UP z\n",
    "\n",
    "            typemin(T)..typemax(T), # 7  World Vector FRONT x\n",
    "            typemin(T)..typemax(T), # 8  World Vector FRONT y\n",
    "            typemin(T)..typemax(T), # 9  World Vector FRONT z\n",
    "            \n",
    "            typemin(T)..typemax(T), # 10 Body velocity along x\n",
    "            typemin(T)..typemax(T), # 11 Body velocity along y\n",
    "            typemin(T)..typemax(T), # 12 Body velocity along z\n",
    "            \n",
    "            typemin(T)..typemax(T), # 13 Body rotational velocity around x\n",
    "            typemin(T)..typemax(T), # 14 Body rotational velocity around y\n",
    "            typemin(T)..typemax(T), # 15 Body rotational velocity around z\n",
    "            \n",
    "            ###NEW###\n",
    "            typemin(T)..typemax(T), # 16 position error along x (next gate - current position)\n",
    "            typemin(T)..typemax(T), # 17 position error along y (next gate - current position)\n",
    "            typemin(T)..typemax(T), # 18 position error along z (next gate - current position)\n",
    "            \n",
    "            typemin(T)..typemax(T), # 19 way to next next gate x (next next gate - next gate)\n",
    "            typemin(T)..typemax(T), # 20 way to next next gate y (next next gate - next gate)\n",
    "            typemin(T)..typemax(T), # 21 way to next next gate z (next next gate - next gate)\n",
    "            ######\n",
    "            ], \n",
    "    )\n",
    "\n",
    "    ###NEW###\n",
    "    num_waypoints = N_WAYPOINTS # number of waypoints, includig start point\n",
    "    waypoints = generate_trajectory(num_waypoints + 1) # trajectory with num_waypoints waypoints (+ start point), (with dummy points) \n",
    "    reached_goal = falses(num_waypoints)\n",
    "    \n",
    "    norm_way = 0.0 \n",
    "    for i in 1:(num_waypoints - 1)\n",
    "        norm_way += norm(waypoints[i] - waypoints[i + 1])\n",
    "    end\n",
    "    ######\n",
    "    \n",
    "    if visualization\n",
    "        create_Crazyflie(name, actuators = true);\n",
    "        visualize_waypoints(waypoints[1:num_waypoints], 0.05)\n",
    "\n",
    "        set_Crazyflie_actuators(name, [0.0; 0.0; 0.0; 0.0]);\n",
    "        set_transform(name, [0.0; 0.0; 0.0] ,one(QuatRotation));\n",
    "        set_arrow(string(name, \"vel\"), color_vec=[0.0; 1.0; 0.0; 1.0]);\n",
    "        transform_arrow(string(name, \"vel\"), [0.0; 0.0; 0.0], [0.0; 0.0; 1.0], max_head_radius=0.05)\n",
    "#         set_arrow(string(name, \"_vel_current\"), color_vec=[1.0; 0.0; 0.0; 1.0]);\n",
    "#         transform_arrow(string(name, \"_vel_current\"), [0.0; 0.0; 0.0], [0.0; 0.0; 1.0], max_head_radius=0.02)                  \n",
    "    end\n",
    "    \n",
    "\n",
    "\n",
    "    environment = VtolEnv(\n",
    "        action_space,\n",
    "        state_space,\n",
    "        zeros(T, length(state_space)), # current state, needs to be extended.\n",
    "        [0.25; 0.25; 0.25; 0.25],#rand(action_space), #todo test with random\n",
    "        false, # episode done ?\n",
    "        0.0, # time\n",
    "        rng, # random number generator  \n",
    "\n",
    "        name,\n",
    "        visualization,\n",
    "        realtime,\n",
    "\n",
    "        zeros(T, 3), # x_W\n",
    "        zeros(T, 3), # v_B\n",
    "        Matrix(one(QuatRotation)), # Float64... so T needs to be Float64\n",
    "        zeros(T, 3), # ω_B\n",
    "        zeros(T, 3), # wind_W\n",
    "        Δt, # Δt\n",
    "\n",
    "        num_waypoints, # includig start point\n",
    "        waypoints, \n",
    "        reached_goal,\n",
    "\n",
    "        norm_way, # norm_way\n",
    "        0.0, # progress\n",
    "        0.0, # progress_prev\n",
    "        2, # current point\n",
    "        false, # reached_goal_in_step\n",
    "        \n",
    "        R_TOL, # r_tol\n",
    "        zeros(T, 3), # projected_position\n",
    "\n",
    "        SLOW_MODE # slow_mode\n",
    "\n",
    "        )\n",
    "    \n",
    "    \n",
    "    RLBase.reset!(environment)\n",
    "    \n",
    "    return environment\n",
    "    \n",
    "end;"
   ]
  },
  {
   "cell_type": "markdown",
   "id": "ec660d5e",
   "metadata": {},
   "source": [
    "Just for explanation:\n",
    "\n",
    "1. A mutable Struct is created. A struct is a constructor and a constructor is a function that creates new objects.\n",
    "2. A outer keyword-based constructor method is added for the type declared in the mutable struct typedef before.\n",
    "\n",
    "So now we have a function with two methods. Julia will decide which method to call by multiple dispatch."
   ]
  },
  {
   "cell_type": "code",
   "execution_count": 9,
   "id": "23dd4047",
   "metadata": {},
   "outputs": [
    {
     "data": {
      "text/html": [
       "# 2 methods for type constructor:<ul><li> VtolEnv(; <i>rng, name, visualization, realtime, kwargs...</i>) in Main at In[8]:3</li> <li> VtolEnv(action_space::<b>A</b>, observation_space::<b>Space{Array{ClosedInterval{T}, 1}}</b>, state::<b>Vector{T}</b>, action::<b>ACT</b>, done::<b>Bool</b>, t::<b>T</b>, rng::<b>R</b>, name::<b>String</b>, visualization::<b>Bool</b>, realtime::<b>Bool</b>, x_W::<b>Vector{T}</b>, v_B::<b>Vector{T}</b>, R_W::<b>Matrix{T}</b>, ω_B::<b>Vector{T}</b>, wind_W::<b>Vector{T}</b>, Δt::<b>T</b>, num_waypoints::<b>Int64</b>, waypoints::<b>Array{Vector{T}, 1}</b>, reached_goal::<b>BitVector</b>, norm_way::<b>T</b>, progress::<b>T</b>, progress_prev::<b>T</b>, current_point::<b>Int64</b>, reached_goal_in_step::<b>Bool</b>, r_tol::<b>T</b>, projected_position::<b>Vector{T}</b>, slow_mode::<b>Bool</b>)<i> where {A, T, ACT, R<:AbstractRNG}</i> in Main at In[7]:2</li> </ul>"
      ],
      "text/plain": [
       "# 2 methods for type constructor:\n",
       "[1] VtolEnv(; rng, name, visualization, realtime, kwargs...) in Main at In[8]:3\n",
       "[2] VtolEnv(action_space::A, observation_space::Space{Array{ClosedInterval{T}, 1}}, state::Vector{T}, action::ACT, done::Bool, t::T, rng::R, name::String, visualization::Bool, realtime::Bool, x_W::Vector{T}, v_B::Vector{T}, R_W::Matrix{T}, ω_B::Vector{T}, wind_W::Vector{T}, Δt::T, num_waypoints::Int64, waypoints::Array{Vector{T}, 1}, reached_goal::BitVector, norm_way::T, progress::T, progress_prev::T, current_point::Int64, reached_goal_in_step::Bool, r_tol::T, projected_position::Vector{T}, slow_mode::Bool) where {A, T, ACT, R<:AbstractRNG} in Main at In[7]:2"
      ]
     },
     "execution_count": 9,
     "metadata": {},
     "output_type": "execute_result"
    }
   ],
   "source": [
    "methods(VtolEnv)"
   ]
  },
  {
   "cell_type": "markdown",
   "id": "806413d1",
   "metadata": {},
   "source": [
    "# Define the RL interface"
   ]
  },
  {
   "cell_type": "code",
   "execution_count": 10,
   "id": "0f822029",
   "metadata": {},
   "outputs": [],
   "source": [
    "Random.seed!(env::VtolEnv, seed) = Random.seed!(env.rng, seed)\n",
    "RLBase.action_space(env::VtolEnv) = env.action_space\n",
    "RLBase.state_space(env::VtolEnv) = env.observation_space\n",
    "RLBase.is_terminated(env::VtolEnv) = env.done\n",
    "RLBase.state(env::VtolEnv) = env.state"
   ]
  },
  {
   "cell_type": "code",
   "execution_count": 11,
   "id": "b5e32e25",
   "metadata": {},
   "outputs": [],
   "source": [
    "function scale_for_slowmode(slow_mode::Bool, v_min::T, v_max::T, d_max::T, x_W::Vector{T}, projected_position::Vector{T}, v_B::Vector{T}) where T\n",
    "    \n",
    "    if slow_mode == false\n",
    "        return 1\n",
    "    else\n",
    "        if norm(v_B) > v_max\n",
    "            s_vmax = 10^(v_max - norm(v_B))\n",
    "        else\n",
    "            s_vmax = 1\n",
    "        end\n",
    "\n",
    "        if norm(v_B) < v_min\n",
    "            s_vmin = 10^(norm(v_B) - v_min)\n",
    "        else\n",
    "            s_vmin = 1\n",
    "        end\n",
    "\n",
    "        if norm(x_W - projected_position) > d_max\n",
    "            s_gd = exp(-norm(x_W - projected_position) + d_max)\n",
    "        else\n",
    "            s_gd = 1\n",
    "        end\n",
    "        s = s_vmax * s_vmin * s_gd\n",
    "    end\n",
    "    return s\n",
    "end;"
   ]
  },
  {
   "cell_type": "code",
   "execution_count": 12,
   "id": "1f7fb89c",
   "metadata": {},
   "outputs": [],
   "source": [
    "function computeReward(env::VtolEnv{A,T}) where {A,T}\n",
    "    \n",
    "    \n",
    "    if env.slow_mode\n",
    "        v_min = 1.0 # min velocity\n",
    "        v_max = 3.0 # max velocity\n",
    "        d_max = 0.5 \n",
    "    else\n",
    "        v_min = 4.0 # min velocity\n",
    "        v_max = 50.0 # max velocity\n",
    "        d_max = 1.0 \n",
    "    end\n",
    "\n",
    "\n",
    "    s = scale_for_slowmode(true, v_min, v_max, d_max, env.x_W, env.projected_position, env.v_B)\n",
    "    \n",
    "    # TODO: test norming\n",
    "    k_p = 5.0 * s #/ env.norm_way # factor for progress (between current position and last position) reward \n",
    "    r_p = (env.progress - env.progress_prev); # reward for progress (between current position and last position)\n",
    "\n",
    "    k_s = s * (2 * v_max * env.Δt) / env.norm_way # factor for reached distance (overall) reward\n",
    "    r_s = env.progress # reward for reached distance (overall)\n",
    "    \n",
    "    k_wp = 50.0 # factor for reached gate reward\n",
    "    r_wp = 0.0 # reward for reached gate\n",
    "    if env.reached_goal_in_step\n",
    "        r_wp = exp(-norm(env.x_W - env.waypoints[env.current_point - 1])/env.r_tol)\n",
    "    end \n",
    "\n",
    "    # factor for too high body rate penalty\n",
    "    if env.slow_mode\n",
    "        k_ω = 0.01\n",
    "    else\n",
    "        k_ω = 0.001\n",
    "    end\n",
    "    #norm_ω = norm(env.ω_B[3]) # penalty for body rate\n",
    "    norm_ω = norm(env.ω_B) # penalty for body rate\n",
    "\n",
    "    if env.x_W[3] < 0\n",
    "        fall = 1\n",
    "    else\n",
    "        fall = 0\n",
    "    end\n",
    "    \n",
    "    if !env.slow_mode\n",
    "        k_s /= env.norm_way\n",
    "        k_p /= env.norm_way\n",
    "    end\n",
    "    \n",
    "    return k_p * r_p + k_s * r_s + k_wp * r_wp - k_ω * norm_ω - fall\n",
    "    \n",
    "end\n",
    "\n",
    "\n",
    "RLBase.reward(env::VtolEnv{A,T}) where {A,T} = computeReward(env)"
   ]
  },
  {
   "cell_type": "code",
   "execution_count": 13,
   "id": "ae45ec04",
   "metadata": {},
   "outputs": [],
   "source": [
    "function RLBase.reset!(env::VtolEnv{A,T}) where {A,T}\n",
    "    \n",
    "    env.x_W = [0.0; 0.0; 0.0];\n",
    "    env.v_B = [0.0; 0.0; 0.0];\n",
    "    env.R_W = Matrix(one(QuatRotation)); # Identity matrix (no rotation)\n",
    "    env.ω_B = [0.0; 0.0; 0.0];\n",
    "    env.wind_W = [0.0; 0.0; 0.0];\n",
    "\n",
    "\n",
    "    env.waypoints = generate_trajectory(env.num_waypoints + 1); # Dummy points\n",
    "    env.reached_goal = falses(env.num_waypoints);\n",
    "    env.reached_goal[1] = true; # set first point to reached (start point)\n",
    "    \n",
    "    env.current_point = 2;\n",
    "    env.reached_goal_in_step = false;\n",
    "    #env.r_tol = 0.3;\n",
    "    \n",
    "    if env.visualization\n",
    "        visualize_waypoints(env.waypoints[1:env.num_waypoints], 0.05); \n",
    "    end\n",
    "    \n",
    "    norm_way = 0.0 \n",
    "    for i in 1:(env.num_waypoints - 1)\n",
    "        norm_way += norm(env.waypoints[i] - env.waypoints[i + 1])\n",
    "    end\n",
    "    \n",
    "    env.norm_way = norm_way\n",
    "    env.progress = 0.0;\n",
    "    env.progress_prev = 0.0;\n",
    "        \n",
    " #todo\n",
    "    env.state = [env.x_W[1]; # 1 position along x\n",
    "                 env.x_W[2]; # 2 position along y\n",
    "                 env.x_W[3]; # 3 position along z\n",
    "#todo right R_W?\n",
    "                 env.R_W[1,1];\n",
    "                 env.R_W[2,1];\n",
    "                 env.R_W[3,1];\n",
    "        \n",
    "                 env.R_W[1,3]; # 4  World Vector UP x\n",
    "                 env.R_W[2,3]; # 5  World Vector UP y\n",
    "                 env.R_W[3,3]; # 6  World Vector UP z\n",
    "\n",
    "#                  env.R_W[1,1]; # 7  World Vector FRONT x\n",
    "#                  env.R_W[2,1]; # 8  World Vector FRONT y\n",
    "#                  env.R_W[3,1]; # 9  World Vector FRONT z\n",
    "\n",
    "                 env.v_B[1]; #  10 Body velocity along x\n",
    "                 env.v_B[2]; #  11 Body velocity along y\n",
    "                 env.v_B[3]; #  12 Body velocity along z\n",
    "\n",
    "                 env.ω_B[1]; #  13  Body rotational velocity around x\n",
    "                 env.ω_B[2]; #  14  Body rotational velocity around y\n",
    "                 env.ω_B[3]; #  15  Body rotational velocity around z\n",
    "\n",
    "                 env.waypoints[2][1] - env.x_W[1]; # 16 position error to next gate along x\n",
    "                 env.waypoints[2][2] - env.x_W[2]; # 17 position error to next gate along z\n",
    "                 env.waypoints[2][3] - env.x_W[3]; # 18 position error to next gate along z\n",
    "                 \n",
    "                 env.waypoints[3][1] - env.waypoints[2][1]; # 19 way to next next gate x \n",
    "                 env.waypoints[3][2] - env.waypoints[2][2]; # 20 way to next next gate y\n",
    "                 env.waypoints[3][3] - env.waypoints[2][3]]  # 21 way to next next gate z \n",
    "    \n",
    "\n",
    "    env.t = 0.0; # time 0s\n",
    "    env.action = [0.25; 0.25; 0.25; 0.25] # normalized # todo try with 0.0\n",
    "    #env.last_action = [0.255; 0.255; 0.255; 0.255] # normalized\n",
    "    #env.current_action = [0.255; 0.255; 0.255; 0.255] # normalized\n",
    "\n",
    "    env.done = false # reset termination\n",
    "\n",
    "    env.projected_position = [0; 0; 0]\n",
    "    \n",
    "    if env.visualization\n",
    "        # Visualize initial state\n",
    "        set_transform(env.name, env.x_W,QuatRotation(env.R_W));\n",
    "        set_Crazyflie_actuators(env.name, [0.0; 0.0; 0.0; 0.0]);\n",
    "        #transform_arrow(string(env.name, \"_vel\"), env.x_W, env.v_W_target, max_head_radius=0.05) \n",
    "        transform_arrow(string(env.name, \"vel\"), env.x_W, [0.0; 0.0; 0.0], max_head_radius=0.05) \n",
    "    end\n",
    "    \n",
    "    nothing # return nothing\n",
    "end;"
   ]
  },
  {
   "cell_type": "code",
   "execution_count": 14,
   "id": "1cf1a7b7",
   "metadata": {},
   "outputs": [],
   "source": [
    "# defines a methods for a callable object.\n",
    "# So when a VtolEnv object is created, it has this method that can be called\n",
    "function (env::VtolEnv)(a)\n",
    "\n",
    "\n",
    "    # call the step on the environoment with the next action \n",
    "    _step!(env, a)\n",
    "        \n",
    "end"
   ]
  },
  {
   "cell_type": "code",
   "execution_count": 15,
   "id": "26a5a0da",
   "metadata": {},
   "outputs": [],
   "source": [
    "env = VtolEnv();"
   ]
  },
  {
   "cell_type": "code",
   "execution_count": 16,
   "id": "ff8f68a7",
   "metadata": {},
   "outputs": [
    {
     "data": {
      "text/html": [
       "# 3 methods for callable object:<ul><li> (env::<b>VtolEnv</b>)(a) in Main at In[14]:3</li> <li> (env::<b>AbstractEnv</b>)(action) in ReinforcementLearningBase</li> <li> (env::<b>AbstractEnv</b>)(action, player) in ReinforcementLearningBase</li> </ul>"
      ],
      "text/plain": [
       "# 3 methods for callable object:\n",
       "[1] (env::VtolEnv)(a) in Main at In[14]:3\n",
       "[2] (env::AbstractEnv)(action) in ReinforcementLearningBase\n",
       "[3] (env::AbstractEnv)(action, player) in ReinforcementLearningBase"
      ]
     },
     "execution_count": 16,
     "metadata": {},
     "output_type": "execute_result"
    }
   ],
   "source": [
    "methods(env) # Just to explain which methods the object has"
   ]
  },
  {
   "cell_type": "code",
   "execution_count": 17,
   "id": "d4d67302",
   "metadata": {},
   "outputs": [
    {
     "data": {
      "text/plain": [
       "scale_actions (generic function with 1 method)"
      ]
     },
     "execution_count": 17,
     "metadata": {},
     "output_type": "execute_result"
    }
   ],
   "source": [
    "function scale_actions(next_action)\n",
    "    return next_action*22000.0\n",
    "end"
   ]
  },
  {
   "cell_type": "code",
   "execution_count": 18,
   "id": "9e7d4727",
   "metadata": {},
   "outputs": [],
   "source": [
    "function _step!(env::VtolEnv, next_action)\n",
    "    \n",
    "\n",
    "    #env.last_action = copy(env.current_action)\n",
    "    #env.current_action[1] = next_action[1]\n",
    "    #env.current_action[2] = next_action[2]\n",
    "    #env.current_action[3] = next_action[3]\n",
    "    #env.current_action[4] = next_action[4]\n",
    "    \n",
    "    \n",
    "    \n",
    "    scaled_actions = scale_actions.(next_action) # between 0 and 1 for neual network\n",
    "    # caluclate wind impact\n",
    "    v_in_wind_B = vtol_add_wind(env.v_B, env.R_W, env.wind_W)\n",
    "    # caluclate aerodynamic forces\n",
    "    torque_B, force_B = crazyflie_model(scaled_actions);\n",
    "    # integrate rigid body dynamics for Δt\n",
    "    env.x_W, env.v_B, env.R_W, env.ω_B, env.t = rigid_body_simple(torque_B, force_B, env.x_W, env.v_B, env.R_W, env.ω_B, env.t, env.Δt, crazyflie_param)\n",
    "\n",
    "    \n",
    "    env.reached_goal_in_step = false;\n",
    "    if norm(env.x_W - env.waypoints[env.current_point]) < env.r_tol\n",
    "        env.reached_goal_in_step = true;\n",
    "        env.reached_goal[env.current_point] = true;\n",
    "        env.current_point += 1;\n",
    "    end\n",
    "        \n",
    "            \n",
    "    # calculate progress on trajectory\n",
    "    env.progress_prev = env.progress\n",
    "    \n",
    "    current_progress = 0.0\n",
    "    line_segment, env.projected_position = calculate_progress(env.waypoints, env.x_W)\n",
    "    \n",
    "    #env.current_point = line_segment + 1\n",
    "\n",
    "    for i in 2:(line_segment)\n",
    "       current_progress +=  norm(env.waypoints[i] - env.waypoints[i - 1])  \n",
    "    end\n",
    "    current_progress += norm(env.waypoints[line_segment] - env.projected_position)\n",
    "    \n",
    "    env.progress = current_progress\n",
    "    \n",
    "\n",
    "    if env.realtime\n",
    "        sleep(env.Δt) # TODO: just a dirty hack. this is of course slower than real time.\n",
    "    end\n",
    "\n",
    "    env.t += env.Δt\n",
    "\n",
    "\n",
    "    if env.visualization\n",
    "        set_transform(env.name, env.x_W,QuatRotation(env.R_W));\n",
    "        set_Crazyflie_actuators(env.name, next_action[1:4])\n",
    "        #transform_arrow(string(env.name, \"_vel\"), env.x_W, env.v_W_target, max_head_radius=0.05)               \n",
    "        transform_arrow(string(env.name, \"vel\"), env.x_W, env.R_W*env.v_B, max_head_radius=0.05) \n",
    "    \n",
    "        for i in eachindex(env.reached_goal)\n",
    "            if env.reached_goal[i]\n",
    "                create_sphere(\"fixgoal_$i\", 0.05, color=RGBA{Float32}(1.0, 0.0, 0.0, 1.0));\n",
    "                set_transform(\"fixgoal_$i\", env.waypoints[i]);\n",
    "            end\n",
    "        end\n",
    "\n",
    "    end\n",
    "    \n",
    "    \n",
    "    #v_B_target = transpose(env.R_W)*env.v_W_target\n",
    "    \n",
    "    \n",
    "    # State space\n",
    "    #todo\n",
    "    env.state[1] = env.x_W[1];\n",
    "    env.state[2] = env.x_W[2];\n",
    "    env.state[3] = env.x_W[3];\n",
    "    \n",
    "    env.state[4] = env.R_W[1,1] # 1  World Vector UP x\n",
    "    env.state[5] = env.R_W[2,1] # 2  World Vector UP y\n",
    "    env.state[6] = env.R_W[3,1] # 3  World Vector UP z\n",
    "\n",
    "    env.state[7] = env.R_W[1,3] # 4  World Vector FRONT x\n",
    "    env.state[8] = env.R_W[2,3] # 5  World Vector FRONT y\n",
    "    env.state[9] = env.R_W[3,3] # 6  World Vector FRONT z\n",
    "        \n",
    "    env.state[10] = env.v_B[1] # 7  Body velocity along x\n",
    "    env.state[11] = env.v_B[2] # 8  Body velocity along y\n",
    "    env.state[12] = env.v_B[3] # 9  Body velocity along z\n",
    "\n",
    "    env.state[13] = env.ω_B[1] # 10 Body rotational velocity around x\n",
    "    env.state[14] = env.ω_B[2] # 11 Body rotational velocity around y\n",
    "    env.state[15] = env.ω_B[3] # 12 Body rotational velocity around z\n",
    "\n",
    "    env.state[16] = env.waypoints[env.current_point][1] - env.x_W[1] # 13 position error to next gate along x\n",
    "    env.state[17] = env.waypoints[env.current_point][2] - env.x_W[2]; # 14 position error to next gate along z\n",
    "    env.state[18] = env.waypoints[env.current_point][3] - env.x_W[3]; # 15 position error to next gate along z\n",
    "     #todo            \n",
    "    if env.current_point <= env.num_waypoints\n",
    "        env.state[19] = env.waypoints[env.current_point + 1][1] - env.waypoints[env.current_point][1] ; # 16 way to next next gate x (next next gate - next gate), dummy integriert\n",
    "        env.state[20] = env.waypoints[env.current_point + 1][2] - env.waypoints[env.current_point][2]; # 17 way to next next gate y (next next gate - next gate), dummy integriert\n",
    "        env.state[21] = env.waypoints[env.current_point + 1][3] - env.waypoints[env.current_point][3]; # 18 way to next next gate z (next next gate - next gate), dummy integriert\n",
    "    end\n",
    "\n",
    "    \n",
    "    \n",
    "    # Termination criteria\n",
    "    env.done = #true\n",
    "        # After time... How fast is drone+Range of desired point\n",
    "        # After reaching position (circle of r_tol)\n",
    "         norm(env.ω_B) > 100.0 || \n",
    "         norm(env.v_B) > 100.0 || # stop if body is too fast_point \n",
    "        env.x_W[3] < -1.0 || # stop if body is below -5m\n",
    "        env.t > env.num_waypoints * 3.0 ||# stop after 3s per point #todo set in fast learning phase\n",
    "        norm(env.x_W - env.projected_position) > 5.0 || # too far off the path \n",
    "        env.reached_goal == trues(env.num_waypoints)\n",
    "\n",
    "    nothing\n",
    "end;"
   ]
  },
  {
   "cell_type": "code",
   "execution_count": 19,
   "id": "6e1cd988",
   "metadata": {},
   "outputs": [
    {
     "name": "stdout",
     "output_type": "stream",
     "text": [
      "\u001b[0m\u001b[1mTest Summary:              | \u001b[22m\u001b[32m\u001b[1mPass  \u001b[22m\u001b[39m\u001b[36m\u001b[1mTotal  \u001b[22m\u001b[39m\u001b[0m\u001b[1mTime\u001b[22m\n",
      "random policy with VtolEnv | \u001b[32m2000  \u001b[39m\u001b[36m 2000  \u001b[39m\u001b[0m2.1s\n"
     ]
    },
    {
     "data": {
      "text/plain": [
       "Test.DefaultTestSet(\"random policy with VtolEnv\", Any[], 2000, false, false, true, 1.675700059788594e9, 1.675700061925892e9)"
      ]
     },
     "execution_count": 19,
     "metadata": {},
     "output_type": "execute_result"
    }
   ],
   "source": [
    "RLBase.test_runnable!(env)"
   ]
  },
  {
   "cell_type": "markdown",
   "id": "c223a31f",
   "metadata": {},
   "source": [
    "Show an overview of the environment."
   ]
  },
  {
   "cell_type": "markdown",
   "id": "ffe6de74",
   "metadata": {},
   "source": [
    "# Setup of a reinforcement learning experiment."
   ]
  },
  {
   "cell_type": "code",
   "execution_count": 20,
   "id": "e5683fe8",
   "metadata": {},
   "outputs": [
    {
     "data": {
      "text/markdown": [
       "MultiThreadEnv(8 x VtolEnv)"
      ],
      "text/plain": [
       "MultiThreadEnv(8 x VtolEnv)"
      ]
     },
     "execution_count": 20,
     "metadata": {},
     "output_type": "execute_result"
    }
   ],
   "source": [
    "seed = 123    \n",
    "rng = StableRNG(seed)\n",
    "N_ENV = 8\n",
    "UPDATE_FREQ = 1024\n",
    "    \n",
    "    \n",
    "    # define multiple environments for parallel training\n",
    "    env = MultiThreadEnv([\n",
    "        # use different names for the visualization\n",
    "        VtolEnv(; rng = StableRNG(hash(seed+i)), name = \"cf_PPO$i\") for i in 1:N_ENV\n",
    "    ])\n",
    "\n"
   ]
  },
  {
   "cell_type": "code",
   "execution_count": 21,
   "id": "d1f128b2",
   "metadata": {},
   "outputs": [],
   "source": [
    "# Define the function approximator\n",
    "    ns, na = length(state(env[1])), length(action_space(env[1]))\n",
    "    approximator = ActorCritic(\n",
    "                actor = GaussianNetwork(\n",
    "                    pre = Chain(\n",
    "                    Dense(ns, 256, tanh; initW = glorot_uniform(rng)),\n",
    "                    Dense(256, 256, tanh; initW = glorot_uniform(rng)),\n",
    "                    ),\n",
    "                    μ = Chain(Dense(256, na; initW = glorot_uniform(rng))),\n",
    "                    logσ = Chain(Dense(256, na; initW = glorot_uniform(rng))),\n",
    "                ),\n",
    "                critic = Chain(\n",
    "                    Dense(ns, 256, tanh; initW = glorot_uniform(rng)),\n",
    "                    Dense(256, 256, tanh; initW = glorot_uniform(rng)),\n",
    "                    Dense(256, 1; initW = glorot_uniform(rng)),\n",
    "                ),\n",
    "                optimizer = ADAM(1e-4),\n",
    "            );"
   ]
  },
  {
   "cell_type": "code",
   "execution_count": 22,
   "id": "7ea4c37c",
   "metadata": {},
   "outputs": [],
   "source": [
    "    agent = Agent( # A wrapper of an AbstractPolicy\n",
    "         \n",
    "\n",
    "        # AbstractPolicy: the policy to use\n",
    "        policy = PPOPolicy(;\n",
    "                    approximator = approximator |> cpu,\n",
    "                    update_freq=UPDATE_FREQ,\n",
    "                    dist = Normal,\n",
    "                    # For parameters visit the docu: https://juliareinforcementlearning.org/docs/rlzoo/#ReinforcementLearningZoo.PPOPolicy\n",
    "                    ),\n",
    "        \n",
    "        # AbstractTrajectory: used to store transitions between an agent and an environment source\n",
    "        trajectory = PPOTrajectory(;\n",
    "            capacity = UPDATE_FREQ,\n",
    "            state = Matrix{Float64} => (ns, N_ENV),\n",
    "            action = Matrix{Float64} => (na, N_ENV),\n",
    "            action_log_prob = Vector{Float64} => (N_ENV,),\n",
    "            reward = Vector{Float64} => (N_ENV,),\n",
    "            terminal = Vector{Bool} => (N_ENV,),\n",
    "        ),\n",
    "    );\n"
   ]
  },
  {
   "cell_type": "code",
   "execution_count": 23,
   "id": "7f158a93",
   "metadata": {},
   "outputs": [],
   "source": [
    "function saveModel(t, agent, env)\n",
    "    model = cpu(agent.policy.approximator)\n",
    "    if SLOW_MODE\n",
    "        f = joinpath(\"./RL_models_slow/\", \"cf_ppo_$(t).bson\")\n",
    "    else\n",
    "        f = joinpath(\"./RL_models_fast/\", \"cf_ppo_$t.bson\") \n",
    "    end\n",
    "    @save f model\n",
    "    println(\"parameters at step $t saved to $f\")\n",
    "end;\n"
   ]
  },
  {
   "cell_type": "code",
   "execution_count": 24,
   "id": "301a9bd8",
   "metadata": {},
   "outputs": [],
   "source": [
    "function loadModel()\n",
    "    f = joinpath(\"./load_model/\", \"cf_ppo_$(load_from_slow_step).bson\")\n",
    "    @load f model\n",
    "    return model\n",
    "end;"
   ]
  },
  {
   "cell_type": "code",
   "execution_count": 25,
   "id": "2adefdb1",
   "metadata": {},
   "outputs": [],
   "source": [
    "function validate_policy_vis(t, agent, env)\n",
    "    run(agent.policy, test_env, StopAfterEpisode(1), episode_test_reward_hook)\n",
    "    # the result of the hook\n",
    "    println(\"test reward at step $t: $(episode_test_reward_hook.rewards[end])\")\n",
    "    \n",
    "end;\n",
    "\n",
    "visualize_validation = true; # TODO set as desired\n",
    "episode_test_reward_hook = TotalRewardPerEpisode(;is_display_on_exit=false)\n",
    "# create a env only for reward test\n",
    "test_env = VtolEnv(;name = \"test_cf\", visualization = visualize_validation, realtime = visualize_validation);"
   ]
  },
  {
   "cell_type": "code",
   "execution_count": 26,
   "id": "751137af",
   "metadata": {},
   "outputs": [],
   "source": [
    "# todo merge with above\n",
    "function validate_policy(t, agent, env)\n",
    "    # for validation extract the policy from the agend\n",
    "    run(agent.policy, test_env, StopAfterEpisode(1), \n",
    "        ComposedHook(\n",
    "        episode_test_step_hook, \n",
    "        episode_test_reward_hook\n",
    "    ),\n",
    "        )\n",
    "    # the result of the hook\n",
    "    reward = round((episode_test_reward_hook.rewards[end]),digits = 3)\n",
    "    length = episode_test_step_hook.steps[end-1]\n",
    "    \n",
    "    println(\"step: \", t, \" reward : \",reward, \" length: \", length)\n",
    "\n",
    "    with_logger(logger) do\n",
    "        @info \"evaluating\" avg_length = length  avg_reward = reward  log_step_increment = 0\n",
    "    end\n",
    "end;\n",
    "\n",
    "episode_test_reward_hook = TotalRewardPerEpisode( is_display_on_exit=false)\n",
    "episode_test_step_hook = StepsPerEpisode()\n",
    "# create a env only for reward test\n",
    "\n",
    "test_env = VtolEnv(;name = \"test_cf\", visualization = true, realtime = true);\n",
    "#test_env = VtolEnv(;name = \"test_cf\", visualization = false, realtime = false);"
   ]
  },
  {
   "cell_type": "code",
   "execution_count": 27,
   "id": "897ce270",
   "metadata": {},
   "outputs": [
    {
     "data": {
      "text/plain": [
       "20000000"
      ]
     },
     "execution_count": 27,
     "metadata": {},
     "output_type": "execute_result"
    }
   ],
   "source": [
    "# number of steps\n",
    "steps_slow = 20_000_000\n",
    "steps_fast = 20_000_000\n",
    "load_from_slow_step = 20_000_000 # TODO: choose slow model\n",
    "\n",
    "save_freq = 100_000\n",
    "validate_freq = 100_000\n",
    "\n",
    "steps = 0\n",
    "if SLOW_MODE\n",
    "    steps = steps_slow\n",
    "else\n",
    "    steps = steps_fast\n",
    "end"
   ]
  },
  {
   "cell_type": "code",
   "execution_count": 28,
   "id": "0e8fad8f",
   "metadata": {},
   "outputs": [],
   "source": [
    "# Define hook which is called during the training\n",
    "total_batch_reward_per_episode = TotalBatchRewardPerEpisode(N_ENV, is_display_on_exit = false)\n",
    "hook = ComposedHook(\n",
    "    total_batch_reward_per_episode,\n",
    "    DoEveryNStep(saveModel, n=save_freq),\n",
    "    DoEveryNStep(validate_policy, n=validate_freq),\n",
    "    #=\n",
    "    DoEveryNStep() do t, agent, env\n",
    "        p = agent.policy\n",
    "        with_logger(logger) do\n",
    "            @info \"training\" loss = mean(p.loss)  actor_loss = mean(p.actor_loss)  critic_loss = mean(p.critic_loss)\n",
    "        end\n",
    "    end,\n",
    "    =#\n",
    "    DoEveryNStep() do t, agent, env\n",
    "        with_logger(logger) do\n",
    "            rewards = [\n",
    "                total_batch_reward_per_episode.rewards[i][end] for i in 1:length(env)  if is_terminated(env[i])\n",
    "                    ]\n",
    "            if length(rewards) > 0\n",
    "                @info \"training\" reward = mean(rewards)\n",
    "            end\n",
    "        end\n",
    "    end,\n",
    "    #=\n",
    "    DoEveryNStep() do t, agent, env\n",
    "        with_logger(logger) do\n",
    "            @info \"training\" action_thrust_1 = env[1].action[1]  action_thrust_2 = env[1].action[2] action_thrust_3 = env[1].action[3] action_thrust_4 = env[1].action[4]\n",
    "        end\n",
    "    end,\n",
    "    =#\n",
    ");"
   ]
  },
  {
   "cell_type": "code",
   "execution_count": 29,
   "id": "174f8124",
   "metadata": {},
   "outputs": [
    {
     "ename": "LoadError",
     "evalue": "SystemError: opening file \"./RL_models_slow/cf_ppo_20000000.bson\": No such file or directory",
     "output_type": "error",
     "traceback": [
      "SystemError: opening file \"./RL_models_slow/cf_ppo_20000000.bson\": No such file or directory",
      "",
      "Stacktrace:",
      "  [1] systemerror(p::String, errno::Int32; extrainfo::Nothing)",
      "    @ Base ./error.jl:176",
      "  [2] #systemerror#80",
      "    @ ./error.jl:175 [inlined]",
      "  [3] systemerror",
      "    @ ./error.jl:175 [inlined]",
      "  [4] open(fname::String; lock::Bool, read::Nothing, write::Nothing, create::Nothing, truncate::Nothing, append::Nothing)",
      "    @ Base ./iostream.jl:293",
      "  [5] open",
      "    @ ./iostream.jl:275 [inlined]",
      "  [6] open(f::typeof(BSON.parse), args::String; kwargs::Base.Pairs{Symbol, Union{}, Tuple{}, NamedTuple{(), Tuple{}}})",
      "    @ Base ./io.jl:382",
      "  [7] open",
      "    @ ./io.jl:381 [inlined]",
      "  [8] parse",
      "    @ ~/.julia/packages/BSON/73cTU/src/read.jl:106 [inlined]",
      "  [9] load (repeats 2 times)",
      "    @ ~/.julia/packages/BSON/73cTU/src/read.jl:108 [inlined]",
      " [10] macro expansion",
      "    @ ~/.julia/packages/BSON/73cTU/src/BSON.jl:50 [inlined]",
      " [11] loadModel()",
      "    @ Main ./In[24]:3",
      " [12] top-level scope",
      "    @ In[29]:4"
     ]
    }
   ],
   "source": [
    "#todo load model\n",
    "agent.policy.approximator = loadModel(); "
   ]
  },
  {
   "cell_type": "code",
   "execution_count": 30,
   "id": "45dfdb68",
   "metadata": {
    "scrolled": false
   },
   "outputs": [
    {
     "name": "stderr",
     "output_type": "stream",
     "text": [
      "\u001b[32mProgress:   0%|▎                                        |  ETA: 14:49:17\u001b[39m03\u001b[39mm"
     ]
    },
    {
     "name": "stdout",
     "output_type": "stream",
     "text": [
      "parameters at step 100000 saved to ./RL_models_slow/cf_ppo_100000.bson\n",
      "step: 100000 reward : -1.086 length: 20\n"
     ]
    },
    {
     "name": "stderr",
     "output_type": "stream",
     "text": [
      "\u001b[32mProgress:   1%|▍                                        |  ETA: 12:51:05\u001b[39m"
     ]
    },
    {
     "name": "stdout",
     "output_type": "stream",
     "text": [
      "parameters at step 200000 saved to ./RL_models_slow/cf_ppo_200000.bson\n",
      "step: 200000 reward : -0.655 length: 17\n"
     ]
    },
    {
     "name": "stderr",
     "output_type": "stream",
     "text": [
      "\u001b[32mProgress:   1%|▋                                        |  ETA: 12:05:18\u001b[39m"
     ]
    },
    {
     "name": "stdout",
     "output_type": "stream",
     "text": [
      "parameters at step 300000 saved to ./RL_models_slow/cf_ppo_300000.bson\n",
      "step: 300000 reward : -2.807 length: 18\n"
     ]
    },
    {
     "name": "stderr",
     "output_type": "stream",
     "text": [
      "\u001b[32mProgress:   2%|▉                                        |  ETA: 11:41:53\u001b[39m"
     ]
    },
    {
     "name": "stdout",
     "output_type": "stream",
     "text": [
      "parameters at step 400000 saved to ./RL_models_slow/cf_ppo_400000.bson\n",
      "step: 400000 reward : -0.621 length: 18\n"
     ]
    },
    {
     "name": "stderr",
     "output_type": "stream",
     "text": [
      "\u001b[32mProgress:   2%|█                                        |  ETA: 11:25:35\u001b[39m"
     ]
    },
    {
     "name": "stdout",
     "output_type": "stream",
     "text": [
      "parameters at step 500000 saved to ./RL_models_slow/cf_ppo_500000.bson\n",
      "step: 500000 reward : -1.598 length: 15\n"
     ]
    },
    {
     "name": "stderr",
     "output_type": "stream",
     "text": [
      "\u001b[32mProgress:   3%|█▎                                       |  ETA: 11:19:28\u001b[39m"
     ]
    },
    {
     "name": "stdout",
     "output_type": "stream",
     "text": [
      "parameters at step 600000 saved to ./RL_models_slow/cf_ppo_600000.bson\n"
     ]
    },
    {
     "name": "stderr",
     "output_type": "stream",
     "text": [
      "\r",
      "\u001b[32mProgress:   3%|█▎                                       |  ETA: 11:19:07\u001b[39m"
     ]
    },
    {
     "name": "stdout",
     "output_type": "stream",
     "text": [
      "step: 600000 reward : -1.459 length: 20\n"
     ]
    },
    {
     "name": "stderr",
     "output_type": "stream",
     "text": [
      "\u001b[32mProgress:   3%|█▍                                       |  ETA: 11:10:11\u001b[39m"
     ]
    },
    {
     "name": "stdout",
     "output_type": "stream",
     "text": [
      "parameters at step 700000 saved to ./RL_models_slow/cf_ppo_700000.bson\n",
      "step: 700000 reward : 0.432 length: 20\n"
     ]
    },
    {
     "name": "stderr",
     "output_type": "stream",
     "text": [
      "\u001b[32mProgress:   4%|█▋                                       |  ETA: 11:02:01\u001b[39m"
     ]
    },
    {
     "name": "stdout",
     "output_type": "stream",
     "text": [
      "parameters at step 800000 saved to ./RL_models_slow/cf_ppo_800000.bson\n",
      "step: 800000 reward : 0.822 length: 21\n"
     ]
    },
    {
     "name": "stderr",
     "output_type": "stream",
     "text": [
      "\u001b[32mProgress:   4%|█▉                                       |  ETA: 10:55:06\u001b[39m"
     ]
    },
    {
     "name": "stdout",
     "output_type": "stream",
     "text": [
      "parameters at step 900000 saved to ./RL_models_slow/cf_ppo_900000.bson\n",
      "step: 900000 reward : -0.928 length: 22\n"
     ]
    },
    {
     "name": "stderr",
     "output_type": "stream",
     "text": [
      "\u001b[32mProgress:   5%|██                                       |  ETA: 10:48:47\u001b[39m"
     ]
    },
    {
     "name": "stdout",
     "output_type": "stream",
     "text": [
      "parameters at step 1000000 saved to ./RL_models_slow/cf_ppo_1000000.bson\n",
      "step: 1000000 reward : -0.55 length: 21\n"
     ]
    },
    {
     "name": "stderr",
     "output_type": "stream",
     "text": [
      "\u001b[32mProgress:   5%|██▎                                      |  ETA: 10:41:51\u001b[39m"
     ]
    },
    {
     "name": "stdout",
     "output_type": "stream",
     "text": [
      "parameters at step 1100000 saved to ./RL_models_slow/cf_ppo_1100000.bson\n",
      "step: 1100000 reward : 1.812 length: 21\n"
     ]
    },
    {
     "name": "stderr",
     "output_type": "stream",
     "text": [
      "\u001b[32mProgress:   6%|██▌                                      |  ETA: 10:38:20\u001b[39m"
     ]
    },
    {
     "name": "stdout",
     "output_type": "stream",
     "text": [
      "parameters at step 1200000 saved to ./RL_models_slow/cf_ppo_1200000.bson\n",
      "step: 1200000 reward : -1.16 length: 20\n"
     ]
    },
    {
     "name": "stderr",
     "output_type": "stream",
     "text": [
      "\u001b[32mProgress:   6%|██▋                                      |  ETA: 10:30:39\u001b[39m"
     ]
    },
    {
     "name": "stdout",
     "output_type": "stream",
     "text": [
      "parameters at step 1300000 saved to ./RL_models_slow/cf_ppo_1300000.bson\n",
      "step: 1300000 reward : 0.371 length: 21\n"
     ]
    },
    {
     "name": "stderr",
     "output_type": "stream",
     "text": [
      "\u001b[32mProgress:   7%|██▉                                      |  ETA: 10:23:35\u001b[39m"
     ]
    },
    {
     "name": "stdout",
     "output_type": "stream",
     "text": [
      "parameters at step 1400000 saved to ./RL_models_slow/cf_ppo_1400000.bson\n",
      "step: 1400000 reward : 0.092 length: 23\n"
     ]
    },
    {
     "name": "stderr",
     "output_type": "stream",
     "text": [
      "\u001b[32mProgress:   7%|███▏                                     |  ETA: 10:17:18\u001b[39m"
     ]
    },
    {
     "name": "stdout",
     "output_type": "stream",
     "text": [
      "parameters at step 1500000 saved to ./RL_models_slow/cf_ppo_1500000.bson\n",
      "step: 1500000 reward : 0.294 length: 21\n"
     ]
    },
    {
     "name": "stderr",
     "output_type": "stream",
     "text": [
      "\u001b[32mProgress:   8%|███▎                                     |  ETA: 10:11:22\u001b[39m"
     ]
    },
    {
     "name": "stdout",
     "output_type": "stream",
     "text": [
      "parameters at step 1600000 saved to ./RL_models_slow/cf_ppo_1600000.bson\n",
      "step: 1600000 reward : 1.225 length: 21\n"
     ]
    },
    {
     "name": "stderr",
     "output_type": "stream",
     "text": [
      "\u001b[32mProgress:   8%|███▌                                     |  ETA: 10:07:36\u001b[39m"
     ]
    },
    {
     "name": "stdout",
     "output_type": "stream",
     "text": [
      "parameters at step 1700000 saved to ./RL_models_slow/cf_ppo_1700000.bson\n",
      "step: 1700000 reward : 1.603 length: 22\n"
     ]
    },
    {
     "name": "stderr",
     "output_type": "stream",
     "text": [
      "\u001b[32mProgress:   9%|███▊                                     |  ETA: 10:03:35\u001b[39m"
     ]
    },
    {
     "name": "stdout",
     "output_type": "stream",
     "text": [
      "parameters at step 1800000 saved to ./RL_models_slow/cf_ppo_1800000.bson\n",
      "step: 1800000 reward : -0.214 length: 24\n"
     ]
    },
    {
     "name": "stderr",
     "output_type": "stream",
     "text": [
      "\u001b[32mProgress:   9%|███▉                                     |  ETA: 10:00:30\u001b[39m"
     ]
    },
    {
     "name": "stdout",
     "output_type": "stream",
     "text": [
      "parameters at step 1900000 saved to ./RL_models_slow/cf_ppo_1900000.bson\n",
      "step: 1900000 reward : -0.03 length: 23\n"
     ]
    },
    {
     "name": "stderr",
     "output_type": "stream",
     "text": [
      "\u001b[32mProgress:  10%|████▏                                    |  ETA: 9:55:15\u001b[39mm"
     ]
    },
    {
     "name": "stdout",
     "output_type": "stream",
     "text": [
      "parameters at step 2000000 saved to ./RL_models_slow/cf_ppo_2000000.bson\n",
      "step: 2000000 reward : -0.381 length: 16\n"
     ]
    },
    {
     "name": "stderr",
     "output_type": "stream",
     "text": [
      "\u001b[32mProgress:  10%|████▎                                    |  ETA: 9:49:52\u001b[39m"
     ]
    },
    {
     "name": "stdout",
     "output_type": "stream",
     "text": [
      "parameters at step 2100000 saved to ./RL_models_slow/cf_ppo_2100000.bson\n",
      "step: 2100000 reward : -2.445 length: 22\n"
     ]
    },
    {
     "name": "stderr",
     "output_type": "stream",
     "text": [
      "\u001b[32mProgress:  11%|████▌                                    |  ETA: 9:44:44\u001b[39m"
     ]
    },
    {
     "name": "stdout",
     "output_type": "stream",
     "text": [
      "parameters at step 2200000 saved to ./RL_models_slow/cf_ppo_2200000.bson\n",
      "step: 2200000 reward : -0.37 length: 24\n"
     ]
    },
    {
     "name": "stderr",
     "output_type": "stream",
     "text": [
      "\u001b[32mProgress:  11%|████▊                                    |  ETA: 9:40:00\u001b[39m"
     ]
    },
    {
     "name": "stdout",
     "output_type": "stream",
     "text": [
      "parameters at step 2300000 saved to ./RL_models_slow/cf_ppo_2300000.bson\n",
      "step: 2300000 reward : 22.697 length: 18\n"
     ]
    },
    {
     "name": "stderr",
     "output_type": "stream",
     "text": [
      "\u001b[32mProgress:  12%|████▉                                    |  ETA: 9:35:18\u001b[39m"
     ]
    },
    {
     "name": "stdout",
     "output_type": "stream",
     "text": [
      "parameters at step 2400000 saved to ./RL_models_slow/cf_ppo_2400000.bson\n",
      "step: 2400000 reward : 1.319 length: 25\n"
     ]
    },
    {
     "name": "stderr",
     "output_type": "stream",
     "text": [
      "\u001b[32mProgress:  12%|█████▏                                   |  ETA: 9:30:53\u001b[39m"
     ]
    },
    {
     "name": "stdout",
     "output_type": "stream",
     "text": [
      "parameters at step 2500000 saved to ./RL_models_slow/cf_ppo_2500000.bson\n",
      "step: 2500000 reward : 1.011 length: 23\n"
     ]
    },
    {
     "name": "stderr",
     "output_type": "stream",
     "text": [
      "\u001b[32mProgress:  13%|█████▍                                   |  ETA: 9:26:37\u001b[39m"
     ]
    },
    {
     "name": "stdout",
     "output_type": "stream",
     "text": [
      "parameters at step 2600000 saved to ./RL_models_slow/cf_ppo_2600000.bson\n",
      "step: 2600000 reward : -2.73 length: 28\n"
     ]
    },
    {
     "name": "stderr",
     "output_type": "stream",
     "text": [
      "\u001b[32mProgress:  13%|█████▌                                   |  ETA: 9:22:47\u001b[39m"
     ]
    },
    {
     "name": "stdout",
     "output_type": "stream",
     "text": [
      "parameters at step 2700000 saved to ./RL_models_slow/cf_ppo_2700000.bson\n",
      "step: 2700000 reward : -0.591 length: 24\n"
     ]
    },
    {
     "name": "stderr",
     "output_type": "stream",
     "text": [
      "\u001b[32mProgress:  14%|█████▊                                   |  ETA: 9:19:03\u001b[39m"
     ]
    },
    {
     "name": "stdout",
     "output_type": "stream",
     "text": [
      "parameters at step 2800000 saved to ./RL_models_slow/cf_ppo_2800000.bson\n",
      "step: 2800000 reward : 0.658 length: 27\n"
     ]
    },
    {
     "name": "stderr",
     "output_type": "stream",
     "text": [
      "\u001b[32mProgress:  14%|██████                                   |  ETA: 9:15:33\u001b[39m"
     ]
    },
    {
     "name": "stdout",
     "output_type": "stream",
     "text": [
      "parameters at step 2900000 saved to ./RL_models_slow/cf_ppo_2900000.bson\n",
      "step: 2900000 reward : -0.061 length: 24\n"
     ]
    },
    {
     "name": "stderr",
     "output_type": "stream",
     "text": [
      "\u001b[32mProgress:  15%|██████▏                                  |  ETA: 9:12:07\u001b[39m"
     ]
    },
    {
     "name": "stdout",
     "output_type": "stream",
     "text": [
      "parameters at step 3000000 saved to ./RL_models_slow/cf_ppo_3000000.bson\n",
      "step: 3000000 reward : -0.637 length: 18\n"
     ]
    },
    {
     "name": "stderr",
     "output_type": "stream",
     "text": [
      "\u001b[32mProgress:  15%|██████▍                                  |  ETA: 9:08:06\u001b[39m"
     ]
    },
    {
     "name": "stdout",
     "output_type": "stream",
     "text": [
      "parameters at step 3100000 saved to ./RL_models_slow/cf_ppo_3100000.bson\n",
      "step: 3100000 reward : -1.001 length: 22\n"
     ]
    },
    {
     "name": "stderr",
     "output_type": "stream",
     "text": [
      "\u001b[32mProgress:  16%|██████▌                                  |  ETA: 9:04:08\u001b[39m"
     ]
    },
    {
     "name": "stdout",
     "output_type": "stream",
     "text": [
      "parameters at step 3200000 saved to ./RL_models_slow/cf_ppo_3200000.bson\n",
      "step: 3200000 reward : -0.862 length: 21\n"
     ]
    },
    {
     "name": "stderr",
     "output_type": "stream",
     "text": [
      "\u001b[32mProgress:  16%|██████▊                                  |  ETA: 9:00:01\u001b[39m"
     ]
    },
    {
     "name": "stdout",
     "output_type": "stream",
     "text": [
      "parameters at step 3300000 saved to ./RL_models_slow/cf_ppo_3300000.bson\n",
      "step: 3300000 reward : 1.906 length: 34\n"
     ]
    },
    {
     "name": "stderr",
     "output_type": "stream",
     "text": [
      "\u001b[32mProgress:  17%|███████                                  |  ETA: 8:55:59\u001b[39m"
     ]
    },
    {
     "name": "stdout",
     "output_type": "stream",
     "text": [
      "parameters at step 3400000 saved to ./RL_models_slow/cf_ppo_3400000.bson\n",
      "step: 3400000 reward : -1.061 length: 36\n"
     ]
    },
    {
     "name": "stderr",
     "output_type": "stream",
     "text": [
      "\u001b[32mProgress:  17%|███████▏                                 |  ETA: 8:51:54\u001b[39m"
     ]
    },
    {
     "name": "stdout",
     "output_type": "stream",
     "text": [
      "parameters at step 3500000 saved to ./RL_models_slow/cf_ppo_3500000.bson\n",
      "step: 3500000 reward : 2.9 length: 33\n"
     ]
    },
    {
     "name": "stderr",
     "output_type": "stream",
     "text": [
      "\u001b[32mProgress:  18%|███████▍                                 |  ETA: 8:47:58\u001b[39m"
     ]
    },
    {
     "name": "stdout",
     "output_type": "stream",
     "text": [
      "parameters at step 3600000 saved to ./RL_models_slow/cf_ppo_3600000.bson\n",
      "step: 3600000 reward : -0.341 length: 23\n"
     ]
    },
    {
     "name": "stderr",
     "output_type": "stream",
     "text": [
      "\u001b[32mProgress:  18%|███████▋                                 |  ETA: 8:43:55\u001b[39m"
     ]
    },
    {
     "name": "stdout",
     "output_type": "stream",
     "text": [
      "parameters at step 3700000 saved to ./RL_models_slow/cf_ppo_3700000.bson\n",
      "step: 3700000 reward : 21.937 length: 34\n"
     ]
    },
    {
     "name": "stderr",
     "output_type": "stream",
     "text": [
      "\u001b[32mProgress:  19%|███████▊                                 |  ETA: 8:40:01\u001b[39m"
     ]
    },
    {
     "name": "stdout",
     "output_type": "stream",
     "text": [
      "parameters at step 3800000 saved to ./RL_models_slow/cf_ppo_3800000.bson\n",
      "step: 3800000 reward : -1.843 length: 42\n"
     ]
    },
    {
     "name": "stderr",
     "output_type": "stream",
     "text": [
      "\u001b[32mProgress:  19%|████████                                 |  ETA: 8:36:07\u001b[39m"
     ]
    },
    {
     "name": "stdout",
     "output_type": "stream",
     "text": [
      "parameters at step 3900000 saved to ./RL_models_slow/cf_ppo_3900000.bson\n",
      "step: 3900000 reward : 0.435 length: 23\n"
     ]
    },
    {
     "name": "stderr",
     "output_type": "stream",
     "text": [
      "\u001b[32mProgress:  20%|████████▎                                |  ETA: 8:32:18\u001b[39m"
     ]
    },
    {
     "name": "stdout",
     "output_type": "stream",
     "text": [
      "parameters at step 4000000 saved to ./RL_models_slow/cf_ppo_4000000.bson\n",
      "step: 4000000 reward : 24.789 length: 29\n"
     ]
    },
    {
     "name": "stderr",
     "output_type": "stream",
     "text": [
      "\u001b[32mProgress:  20%|████████▍                                |  ETA: 8:28:31\u001b[39m"
     ]
    },
    {
     "name": "stdout",
     "output_type": "stream",
     "text": [
      "parameters at step 4100000 saved to ./RL_models_slow/cf_ppo_4100000.bson\n",
      "step: 4100000 reward : -3.057 length: 42\n"
     ]
    },
    {
     "name": "stderr",
     "output_type": "stream",
     "text": [
      "\u001b[32mProgress:  21%|████████▋                                |  ETA: 8:24:42\u001b[39m"
     ]
    },
    {
     "name": "stdout",
     "output_type": "stream",
     "text": [
      "parameters at step 4200000 saved to ./RL_models_slow/cf_ppo_4200000.bson\n",
      "step: 4200000 reward : 20.024 length: 35\n"
     ]
    },
    {
     "name": "stderr",
     "output_type": "stream",
     "text": [
      "\u001b[32mProgress:  21%|████████▊                                |  ETA: 8:21:09\u001b[39m"
     ]
    },
    {
     "name": "stdout",
     "output_type": "stream",
     "text": [
      "parameters at step 4300000 saved to ./RL_models_slow/cf_ppo_4300000.bson\n",
      "step: 4300000 reward : -1.043 length: 20\n"
     ]
    },
    {
     "name": "stderr",
     "output_type": "stream",
     "text": [
      "\u001b[32mProgress:  22%|█████████                                |  ETA: 8:17:27\u001b[39m"
     ]
    },
    {
     "name": "stdout",
     "output_type": "stream",
     "text": [
      "parameters at step 4400000 saved to ./RL_models_slow/cf_ppo_4400000.bson\n",
      "step: 4400000 reward : 19.353 length: 45\n"
     ]
    },
    {
     "name": "stderr",
     "output_type": "stream",
     "text": [
      "\u001b[32mProgress:  22%|█████████▎                               |  ETA: 8:14:01\u001b[39m"
     ]
    },
    {
     "name": "stdout",
     "output_type": "stream",
     "text": [
      "parameters at step 4500000 saved to ./RL_models_slow/cf_ppo_4500000.bson\n"
     ]
    },
    {
     "name": "stderr",
     "output_type": "stream",
     "text": [
      "\r",
      "\u001b[32mProgress:  23%|█████████▎                               |  ETA: 8:14:01\u001b[39m"
     ]
    },
    {
     "name": "stdout",
     "output_type": "stream",
     "text": [
      "step: 4500000 reward : 20.57 length: 37\n"
     ]
    },
    {
     "name": "stderr",
     "output_type": "stream",
     "text": [
      "\u001b[32mProgress:  23%|█████████▍                               |  ETA: 8:11:00\u001b[39m"
     ]
    },
    {
     "name": "stdout",
     "output_type": "stream",
     "text": [
      "parameters at step 4600000 saved to ./RL_models_slow/cf_ppo_4600000.bson\n"
     ]
    },
    {
     "name": "stderr",
     "output_type": "stream",
     "text": [
      "\r",
      "\u001b[32mProgress:  23%|█████████▍                               |  ETA: 8:10:58\u001b[39m"
     ]
    },
    {
     "name": "stdout",
     "output_type": "stream",
     "text": [
      "step: 4600000 reward : 23.541 length: 30\n"
     ]
    },
    {
     "name": "stderr",
     "output_type": "stream",
     "text": [
      "\u001b[32mProgress:  23%|█████████▋                               |  ETA: 8:07:59\u001b[39m"
     ]
    },
    {
     "name": "stdout",
     "output_type": "stream",
     "text": [
      "parameters at step 4700000 saved to ./RL_models_slow/cf_ppo_4700000.bson\n",
      "step: 4700000 reward : 18.643 length: 44\n"
     ]
    },
    {
     "name": "stderr",
     "output_type": "stream",
     "text": [
      "\u001b[32mProgress:  24%|█████████▉                               |  ETA: 8:05:08\u001b[39m"
     ]
    },
    {
     "name": "stdout",
     "output_type": "stream",
     "text": [
      "parameters at step 4800000 saved to ./RL_models_slow/cf_ppo_4800000.bson\n",
      "step: 4800000 reward : 18.921 length: 42\n"
     ]
    },
    {
     "name": "stderr",
     "output_type": "stream",
     "text": [
      "\u001b[32mProgress:  24%|██████████                               |  ETA: 8:02:00\u001b[39m"
     ]
    },
    {
     "name": "stdout",
     "output_type": "stream",
     "text": [
      "parameters at step 4900000 saved to ./RL_models_slow/cf_ppo_4900000.bson\n",
      "step: 4900000 reward : 16.858 length: 53\n"
     ]
    },
    {
     "name": "stderr",
     "output_type": "stream",
     "text": [
      "\u001b[32mProgress:  25%|██████████▎                              |  ETA: 7:58:55\u001b[39m"
     ]
    },
    {
     "name": "stdout",
     "output_type": "stream",
     "text": [
      "parameters at step 5000000 saved to ./RL_models_slow/cf_ppo_5000000.bson\n",
      "step: 5000000 reward : -5.766 length: 54\n"
     ]
    },
    {
     "name": "stderr",
     "output_type": "stream",
     "text": [
      "\u001b[32mProgress:  25%|██████████▌                              |  ETA: 7:55:56\u001b[39m"
     ]
    },
    {
     "name": "stdout",
     "output_type": "stream",
     "text": [
      "parameters at step 5100000 saved to ./RL_models_slow/cf_ppo_5100000.bson\n",
      "step: 5100000 reward : 27.827 length: 37\n"
     ]
    },
    {
     "name": "stderr",
     "output_type": "stream",
     "text": [
      "\u001b[32mProgress:  26%|██████████▋                              |  ETA: 7:52:50\u001b[39m"
     ]
    },
    {
     "name": "stdout",
     "output_type": "stream",
     "text": [
      "parameters at step 5200000 saved to ./RL_models_slow/cf_ppo_5200000.bson\n",
      "step: 5200000 reward : 17.88 length: 43\n"
     ]
    },
    {
     "name": "stderr",
     "output_type": "stream",
     "text": [
      "\u001b[32mProgress:  26%|██████████▉                              |  ETA: 7:49:41\u001b[39m"
     ]
    },
    {
     "name": "stdout",
     "output_type": "stream",
     "text": [
      "parameters at step 5300000 saved to ./RL_models_slow/cf_ppo_5300000.bson\n",
      "step: 5300000 reward : 23.284 length: 34\n"
     ]
    },
    {
     "name": "stderr",
     "output_type": "stream",
     "text": [
      "\u001b[32mProgress:  27%|███████████▏                             |  ETA: 7:47:17\u001b[39m"
     ]
    },
    {
     "name": "stdout",
     "output_type": "stream",
     "text": [
      "parameters at step 5400000 saved to ./RL_models_slow/cf_ppo_5400000.bson\n",
      "step: 5400000 reward : 24.327 length: 29\n"
     ]
    },
    {
     "name": "stderr",
     "output_type": "stream",
     "text": [
      "\u001b[32mProgress:  27%|███████████▎                             |  ETA: 7:43:47\u001b[39m"
     ]
    },
    {
     "name": "stdout",
     "output_type": "stream",
     "text": [
      "parameters at step 5500000 saved to ./RL_models_slow/cf_ppo_5500000.bson\n",
      "step: 5500000 reward : 14.168 length: 70\n"
     ]
    },
    {
     "name": "stderr",
     "output_type": "stream",
     "text": [
      "\u001b[32mProgress:  28%|███████████▌                             |  ETA: 7:40:20\u001b[39m"
     ]
    },
    {
     "name": "stdout",
     "output_type": "stream",
     "text": [
      "parameters at step 5600000 saved to ./RL_models_slow/cf_ppo_5600000.bson\n",
      "step: 5600000 reward : 17.893 length: 52\n"
     ]
    },
    {
     "name": "stderr",
     "output_type": "stream",
     "text": [
      "\u001b[32mProgress:  28%|███████████▋                             |  ETA: 7:36:50\u001b[39m"
     ]
    },
    {
     "name": "stdout",
     "output_type": "stream",
     "text": [
      "parameters at step 5700000 saved to ./RL_models_slow/cf_ppo_5700000.bson\n"
     ]
    },
    {
     "name": "stderr",
     "output_type": "stream",
     "text": [
      "\r",
      "\u001b[32mProgress:  29%|███████████▋                             |  ETA: 7:36:51\u001b[39m"
     ]
    },
    {
     "name": "stdout",
     "output_type": "stream",
     "text": [
      "step: 5700000 reward : 19.693 length: 36\n"
     ]
    },
    {
     "name": "stderr",
     "output_type": "stream",
     "text": [
      "\u001b[32mProgress:  29%|███████████▉                             |  ETA: 7:33:57\u001b[39m"
     ]
    },
    {
     "name": "stdout",
     "output_type": "stream",
     "text": [
      "parameters at step 5800000 saved to ./RL_models_slow/cf_ppo_5800000.bson\n",
      "step: 5800000 reward : 21.548 length: 22\n"
     ]
    },
    {
     "name": "stderr",
     "output_type": "stream",
     "text": [
      "\u001b[32mProgress:  29%|████████████▏                            |  ETA: 7:30:30\u001b[39m"
     ]
    },
    {
     "name": "stdout",
     "output_type": "stream",
     "text": [
      "parameters at step 5900000 saved to ./RL_models_slow/cf_ppo_5900000.bson\n",
      "step: 5900000 reward : 21.586 length: 41\n"
     ]
    },
    {
     "name": "stderr",
     "output_type": "stream",
     "text": [
      "\u001b[32mProgress:  30%|████████████▎                            |  ETA: 7:27:01\u001b[39m"
     ]
    },
    {
     "name": "stdout",
     "output_type": "stream",
     "text": [
      "parameters at step 6000000 saved to ./RL_models_slow/cf_ppo_6000000.bson\n",
      "step: 6000000 reward : 14.469 length: 70\n"
     ]
    },
    {
     "name": "stderr",
     "output_type": "stream",
     "text": [
      "\u001b[32mProgress:  30%|████████████▌                            |  ETA: 7:23:40\u001b[39m"
     ]
    },
    {
     "name": "stdout",
     "output_type": "stream",
     "text": [
      "parameters at step 6100000 saved to ./RL_models_slow/cf_ppo_6100000.bson\n",
      "step: 6100000 reward : 23.892 length: 45\n"
     ]
    },
    {
     "name": "stderr",
     "output_type": "stream",
     "text": [
      "\u001b[32mProgress:  31%|████████████▊                            |  ETA: 7:20:13\u001b[39m"
     ]
    },
    {
     "name": "stdout",
     "output_type": "stream",
     "text": [
      "parameters at step 6200000 saved to ./RL_models_slow/cf_ppo_6200000.bson\n",
      "step: 6200000 reward : 19.598 length: 46\n"
     ]
    },
    {
     "name": "stderr",
     "output_type": "stream",
     "text": [
      "\u001b[32mProgress:  31%|████████████▉                            |  ETA: 7:16:46\u001b[39m"
     ]
    },
    {
     "name": "stdout",
     "output_type": "stream",
     "text": [
      "parameters at step 6300000 saved to ./RL_models_slow/cf_ppo_6300000.bson\n",
      "step: 6300000 reward : 24.664 length: 39\n"
     ]
    },
    {
     "name": "stderr",
     "output_type": "stream",
     "text": [
      "\u001b[32mProgress:  32%|█████████████▏                           |  ETA: 7:13:40\u001b[39m"
     ]
    },
    {
     "name": "stdout",
     "output_type": "stream",
     "text": [
      "parameters at step 6400000 saved to ./RL_models_slow/cf_ppo_6400000.bson\n",
      "step: 6400000 reward : 25.528 length: 46\n"
     ]
    },
    {
     "name": "stderr",
     "output_type": "stream",
     "text": [
      "\u001b[32mProgress:  32%|█████████████▍                           |  ETA: 7:10:18\u001b[39m"
     ]
    },
    {
     "name": "stdout",
     "output_type": "stream",
     "text": [
      "parameters at step 6500000 saved to ./RL_models_slow/cf_ppo_6500000.bson\n",
      "step: 6500000 reward : 21.809 length: 39\n"
     ]
    },
    {
     "name": "stderr",
     "output_type": "stream",
     "text": [
      "\u001b[32mProgress:  33%|█████████████▌                           |  ETA: 7:06:58\u001b[39m"
     ]
    },
    {
     "name": "stdout",
     "output_type": "stream",
     "text": [
      "parameters at step 6600000 saved to ./RL_models_slow/cf_ppo_6600000.bson\n",
      "step: 6600000 reward : 27.438 length: 37\n"
     ]
    },
    {
     "name": "stderr",
     "output_type": "stream",
     "text": [
      "\u001b[32mProgress:  33%|█████████████▊                           |  ETA: 7:03:46\u001b[39m"
     ]
    },
    {
     "name": "stdout",
     "output_type": "stream",
     "text": [
      "parameters at step 6700000 saved to ./RL_models_slow/cf_ppo_6700000.bson\n",
      "step: 6700000 reward : 25.065 length: 33\n"
     ]
    },
    {
     "name": "stderr",
     "output_type": "stream",
     "text": [
      "\u001b[32mProgress:  34%|█████████████▉                           |  ETA: 7:00:37\u001b[39m"
     ]
    },
    {
     "name": "stdout",
     "output_type": "stream",
     "text": [
      "parameters at step 6800000 saved to ./RL_models_slow/cf_ppo_6800000.bson\n",
      "step: 6800000 reward : 24.223 length: 37\n"
     ]
    },
    {
     "name": "stderr",
     "output_type": "stream",
     "text": [
      "\u001b[32mProgress:  34%|██████████████▏                          |  ETA: 6:57:28\u001b[39m"
     ]
    },
    {
     "name": "stdout",
     "output_type": "stream",
     "text": [
      "parameters at step 6900000 saved to ./RL_models_slow/cf_ppo_6900000.bson\n",
      "step: 6900000 reward : 24.346 length: 48\n"
     ]
    },
    {
     "name": "stderr",
     "output_type": "stream",
     "text": [
      "\u001b[32mProgress:  35%|██████████████▍                          |  ETA: 6:54:14\u001b[39m"
     ]
    },
    {
     "name": "stdout",
     "output_type": "stream",
     "text": [
      "parameters at step 7000000 saved to ./RL_models_slow/cf_ppo_7000000.bson\n",
      "step: 7000000 reward : 25.257 length: 51\n"
     ]
    },
    {
     "name": "stderr",
     "output_type": "stream",
     "text": [
      "\u001b[32mProgress:  35%|██████████████▌                          |  ETA: 6:50:59\u001b[39m"
     ]
    },
    {
     "name": "stdout",
     "output_type": "stream",
     "text": [
      "parameters at step 7100000 saved to ./RL_models_slow/cf_ppo_7100000.bson\n",
      "step: 7100000 reward : 21.912 length: 18\n"
     ]
    },
    {
     "name": "stderr",
     "output_type": "stream",
     "text": [
      "\u001b[32mProgress:  36%|██████████████▊                          |  ETA: 6:47:53\u001b[39m"
     ]
    },
    {
     "name": "stdout",
     "output_type": "stream",
     "text": [
      "parameters at step 7200000 saved to ./RL_models_slow/cf_ppo_7200000.bson\n",
      "step: 7200000 reward : 33.281 length: 56\n"
     ]
    },
    {
     "name": "stderr",
     "output_type": "stream",
     "text": [
      "\u001b[32mProgress:  36%|███████████████                          |  ETA: 6:44:50\u001b[39m"
     ]
    },
    {
     "name": "stdout",
     "output_type": "stream",
     "text": [
      "parameters at step 7300000 saved to ./RL_models_slow/cf_ppo_7300000.bson\n",
      "step: 7300000 reward : 26.357 length: 46\n"
     ]
    },
    {
     "name": "stderr",
     "output_type": "stream",
     "text": [
      "\u001b[32mProgress:  37%|███████████████▏                         |  ETA: 6:41:31\u001b[39m"
     ]
    },
    {
     "name": "stdout",
     "output_type": "stream",
     "text": [
      "parameters at step 7400000 saved to ./RL_models_slow/cf_ppo_7400000.bson\n",
      "step: 7400000 reward : 27.303 length: 37\n"
     ]
    },
    {
     "name": "stderr",
     "output_type": "stream",
     "text": [
      "\u001b[32mProgress:  37%|███████████████▍                         |  ETA: 6:38:11\u001b[39m"
     ]
    },
    {
     "name": "stdout",
     "output_type": "stream",
     "text": [
      "parameters at step 7500000 saved to ./RL_models_slow/cf_ppo_7500000.bson\n",
      "step: 7500000 reward : 25.754 length: 35\n"
     ]
    },
    {
     "name": "stderr",
     "output_type": "stream",
     "text": [
      "\u001b[32mProgress:  38%|███████████████▋                         |  ETA: 6:34:44\u001b[39m"
     ]
    },
    {
     "name": "stdout",
     "output_type": "stream",
     "text": [
      "parameters at step 7600000 saved to ./RL_models_slow/cf_ppo_7600000.bson\n",
      "step: 7600000 reward : 33.842 length: 75\n"
     ]
    },
    {
     "name": "stderr",
     "output_type": "stream",
     "text": [
      "\u001b[32mProgress:  38%|███████████████▊                         |  ETA: 6:31:20\u001b[39m"
     ]
    },
    {
     "name": "stdout",
     "output_type": "stream",
     "text": [
      "parameters at step 7700000 saved to ./RL_models_slow/cf_ppo_7700000.bson\n",
      "step: 7700000 reward : 31.077 length: 48\n"
     ]
    },
    {
     "name": "stderr",
     "output_type": "stream",
     "text": [
      "\u001b[32mProgress:  39%|████████████████                         |  ETA: 6:28:00\u001b[39m"
     ]
    },
    {
     "name": "stdout",
     "output_type": "stream",
     "text": [
      "parameters at step 7800000 saved to ./RL_models_slow/cf_ppo_7800000.bson\n",
      "step: 7800000 reward : 29.978 length: 46\n"
     ]
    },
    {
     "name": "stderr",
     "output_type": "stream",
     "text": [
      "\u001b[32mProgress:  39%|████████████████▎                        |  ETA: 6:24:36\u001b[39m"
     ]
    },
    {
     "name": "stdout",
     "output_type": "stream",
     "text": [
      "parameters at step 7900000 saved to ./RL_models_slow/cf_ppo_7900000.bson\n",
      "step: 7900000 reward : 28.184 length: 44\n"
     ]
    },
    {
     "name": "stderr",
     "output_type": "stream",
     "text": [
      "\u001b[32mProgress:  40%|████████████████▍                        |  ETA: 6:21:14\u001b[39m"
     ]
    },
    {
     "name": "stdout",
     "output_type": "stream",
     "text": [
      "parameters at step 8000000 saved to ./RL_models_slow/cf_ppo_8000000.bson\n"
     ]
    },
    {
     "name": "stderr",
     "output_type": "stream",
     "text": [
      "\r",
      "\u001b[32mProgress:  40%|████████████████▍                        |  ETA: 6:21:12\u001b[39m"
     ]
    },
    {
     "name": "stdout",
     "output_type": "stream",
     "text": [
      "step: 8000000 reward : 31.356 length: 46\n"
     ]
    },
    {
     "name": "stderr",
     "output_type": "stream",
     "text": [
      "\u001b[32mProgress:  40%|████████████████▋                        |  ETA: 6:17:53\u001b[39m"
     ]
    },
    {
     "name": "stdout",
     "output_type": "stream",
     "text": [
      "parameters at step 8100000 saved to ./RL_models_slow/cf_ppo_8100000.bson\n"
     ]
    },
    {
     "name": "stderr",
     "output_type": "stream",
     "text": [
      "\r",
      "\u001b[32mProgress:  41%|████████████████▋                        |  ETA: 6:17:52\u001b[39m"
     ]
    },
    {
     "name": "stdout",
     "output_type": "stream",
     "text": [
      "step: 8100000 reward : 32.494 length: 53\n"
     ]
    },
    {
     "name": "stderr",
     "output_type": "stream",
     "text": [
      "\u001b[32mProgress:  41%|████████████████▊                        |  ETA: 6:14:27\u001b[39m"
     ]
    },
    {
     "name": "stdout",
     "output_type": "stream",
     "text": [
      "parameters at step 8200000 saved to ./RL_models_slow/cf_ppo_8200000.bson\n"
     ]
    },
    {
     "name": "stderr",
     "output_type": "stream",
     "text": [
      "\r",
      "\u001b[32mProgress:  41%|████████████████▊                        |  ETA: 6:14:28\u001b[39m"
     ]
    },
    {
     "name": "stdout",
     "output_type": "stream",
     "text": [
      "step: 8200000 reward : 33.717 length: 56\n"
     ]
    },
    {
     "name": "stderr",
     "output_type": "stream",
     "text": [
      "\u001b[32mProgress:  41%|█████████████████                        |  ETA: 6:11:05\u001b[39m"
     ]
    },
    {
     "name": "stdout",
     "output_type": "stream",
     "text": [
      "parameters at step 8300000 saved to ./RL_models_slow/cf_ppo_8300000.bson\n",
      "step: 8300000 reward : -6.977 length: 120\n"
     ]
    },
    {
     "name": "stderr",
     "output_type": "stream",
     "text": [
      "\u001b[32mProgress:  42%|█████████████████▎                       |  ETA: 6:07:51\u001b[39m"
     ]
    },
    {
     "name": "stdout",
     "output_type": "stream",
     "text": [
      "parameters at step 8400000 saved to ./RL_models_slow/cf_ppo_8400000.bson\n",
      "step: 8400000 reward : 23.121 length: 20\n"
     ]
    },
    {
     "name": "stderr",
     "output_type": "stream",
     "text": [
      "\u001b[32mProgress:  42%|█████████████████▍                       |  ETA: 6:04:27\u001b[39m"
     ]
    },
    {
     "name": "stdout",
     "output_type": "stream",
     "text": [
      "parameters at step 8500000 saved to ./RL_models_slow/cf_ppo_8500000.bson\n",
      "step: 8500000 reward : 33.626 length: 53\n"
     ]
    },
    {
     "name": "stderr",
     "output_type": "stream",
     "text": [
      "\u001b[32mProgress:  43%|█████████████████▋                       |  ETA: 6:01:09\u001b[39m"
     ]
    },
    {
     "name": "stdout",
     "output_type": "stream",
     "text": [
      "parameters at step 8600000 saved to ./RL_models_slow/cf_ppo_8600000.bson\n",
      "step: 8600000 reward : 29.512 length: 46\n"
     ]
    },
    {
     "name": "stderr",
     "output_type": "stream",
     "text": [
      "\u001b[32mProgress:  43%|█████████████████▉                       |  ETA: 5:57:55\u001b[39m"
     ]
    },
    {
     "name": "stdout",
     "output_type": "stream",
     "text": [
      "parameters at step 8700000 saved to ./RL_models_slow/cf_ppo_8700000.bson\n",
      "step: 8700000 reward : 31.984 length: 52\n"
     ]
    },
    {
     "name": "stderr",
     "output_type": "stream",
     "text": [
      "\u001b[32mProgress:  44%|██████████████████                       |  ETA: 5:54:40\u001b[39m"
     ]
    },
    {
     "name": "stdout",
     "output_type": "stream",
     "text": [
      "parameters at step 8800000 saved to ./RL_models_slow/cf_ppo_8800000.bson\n",
      "step: 8800000 reward : 31.004 length: 39\n"
     ]
    },
    {
     "name": "stderr",
     "output_type": "stream",
     "text": [
      "\u001b[32mProgress:  44%|██████████████████▎                      |  ETA: 5:51:29\u001b[39m"
     ]
    },
    {
     "name": "stdout",
     "output_type": "stream",
     "text": [
      "parameters at step 8900000 saved to ./RL_models_slow/cf_ppo_8900000.bson\n",
      "step: 8900000 reward : 25.239 length: 27\n"
     ]
    },
    {
     "name": "stderr",
     "output_type": "stream",
     "text": [
      "\u001b[32mProgress:  45%|██████████████████▌                      |  ETA: 5:48:19\u001b[39m"
     ]
    },
    {
     "name": "stdout",
     "output_type": "stream",
     "text": [
      "parameters at step 9000000 saved to ./RL_models_slow/cf_ppo_9000000.bson\n",
      "step: 9000000 reward : 30.823 length: 44\n"
     ]
    },
    {
     "name": "stderr",
     "output_type": "stream",
     "text": [
      "\u001b[32mProgress:  45%|██████████████████▋                      |  ETA: 5:45:05\u001b[39m"
     ]
    },
    {
     "name": "stdout",
     "output_type": "stream",
     "text": [
      "parameters at step 9100000 saved to ./RL_models_slow/cf_ppo_9100000.bson\n",
      "step: 9100000 reward : 36.444 length: 51\n"
     ]
    },
    {
     "name": "stderr",
     "output_type": "stream",
     "text": [
      "\u001b[32mProgress:  46%|██████████████████▉                      |  ETA: 5:42:00\u001b[39m"
     ]
    },
    {
     "name": "stdout",
     "output_type": "stream",
     "text": [
      "parameters at step 9200000 saved to ./RL_models_slow/cf_ppo_9200000.bson\n",
      "step: 9200000 reward : 31.86 length: 44\n"
     ]
    },
    {
     "name": "stderr",
     "output_type": "stream",
     "text": [
      "\u001b[32mProgress:  46%|███████████████████▏                     |  ETA: 5:38:59\u001b[39m"
     ]
    },
    {
     "name": "stdout",
     "output_type": "stream",
     "text": [
      "parameters at step 9300000 saved to ./RL_models_slow/cf_ppo_9300000.bson\n",
      "step: 9300000 reward : 25.786 length: 31\n"
     ]
    },
    {
     "name": "stderr",
     "output_type": "stream",
     "text": [
      "\u001b[32mProgress:  47%|███████████████████▎                     |  ETA: 5:35:53\u001b[39m"
     ]
    },
    {
     "name": "stdout",
     "output_type": "stream",
     "text": [
      "parameters at step 9400000 saved to ./RL_models_slow/cf_ppo_9400000.bson\n",
      "step: 9400000 reward : 29.773 length: 40\n"
     ]
    },
    {
     "name": "stderr",
     "output_type": "stream",
     "text": [
      "\u001b[32mProgress:  47%|███████████████████▌                     |  ETA: 5:32:51\u001b[39m"
     ]
    },
    {
     "name": "stdout",
     "output_type": "stream",
     "text": [
      "parameters at step 9500000 saved to ./RL_models_slow/cf_ppo_9500000.bson\n",
      "step: 9500000 reward : 36.304 length: 68\n"
     ]
    },
    {
     "name": "stderr",
     "output_type": "stream",
     "text": [
      "\u001b[32mProgress:  48%|███████████████████▋                     |  ETA: 5:29:35\u001b[39m"
     ]
    },
    {
     "name": "stdout",
     "output_type": "stream",
     "text": [
      "parameters at step 9600000 saved to ./RL_models_slow/cf_ppo_9600000.bson\n",
      "step: 9600000 reward : 37.184 length: 54\n"
     ]
    },
    {
     "name": "stderr",
     "output_type": "stream",
     "text": [
      "\u001b[32mProgress:  48%|███████████████████▉                     |  ETA: 5:26:17\u001b[39m"
     ]
    },
    {
     "name": "stdout",
     "output_type": "stream",
     "text": [
      "parameters at step 9700000 saved to ./RL_models_slow/cf_ppo_9700000.bson\n",
      "step: 9700000 reward : 40.611 length: 70\n"
     ]
    },
    {
     "name": "stderr",
     "output_type": "stream",
     "text": [
      "\u001b[32mProgress:  49%|████████████████████▏                    |  ETA: 5:23:01\u001b[39m"
     ]
    },
    {
     "name": "stdout",
     "output_type": "stream",
     "text": [
      "parameters at step 9800000 saved to ./RL_models_slow/cf_ppo_9800000.bson\n",
      "step: 9800000 reward : 36.189 length: 54\n"
     ]
    },
    {
     "name": "stderr",
     "output_type": "stream",
     "text": [
      "\u001b[32mProgress:  49%|████████████████████▎                    |  ETA: 5:19:47\u001b[39m"
     ]
    },
    {
     "name": "stdout",
     "output_type": "stream",
     "text": [
      "parameters at step 9900000 saved to ./RL_models_slow/cf_ppo_9900000.bson\n",
      "step: 9900000 reward : 34.483 length: 51\n"
     ]
    },
    {
     "name": "stderr",
     "output_type": "stream",
     "text": [
      "\u001b[32mProgress:  50%|████████████████████▌                    |  ETA: 5:16:26\u001b[39m"
     ]
    },
    {
     "name": "stdout",
     "output_type": "stream",
     "text": [
      "parameters at step 10000000 saved to ./RL_models_slow/cf_ppo_10000000.bson\n",
      "step: 10000000 reward : 36.041 length: 66\n"
     ]
    },
    {
     "name": "stderr",
     "output_type": "stream",
     "text": [
      "\u001b[32mProgress:  50%|████████████████████▊                    |  ETA: 5:13:11\u001b[39m"
     ]
    },
    {
     "name": "stdout",
     "output_type": "stream",
     "text": [
      "parameters at step 10100000 saved to ./RL_models_slow/cf_ppo_10100000.bson\n",
      "step: 10100000 reward : 35.958 length: 66\n"
     ]
    },
    {
     "name": "stderr",
     "output_type": "stream",
     "text": [
      "\u001b[32mProgress:  51%|████████████████████▉                    |  ETA: 5:09:59\u001b[39m"
     ]
    },
    {
     "name": "stdout",
     "output_type": "stream",
     "text": [
      "parameters at step 10200000 saved to ./RL_models_slow/cf_ppo_10200000.bson\n",
      "step: 10200000 reward : 36.887 length: 57\n"
     ]
    },
    {
     "name": "stderr",
     "output_type": "stream",
     "text": [
      "\u001b[32mProgress:  51%|█████████████████████▏                   |  ETA: 5:06:41\u001b[39m"
     ]
    },
    {
     "name": "stdout",
     "output_type": "stream",
     "text": [
      "parameters at step 10300000 saved to ./RL_models_slow/cf_ppo_10300000.bson\n",
      "step: 10300000 reward : 27.114 length: 24\n"
     ]
    },
    {
     "name": "stderr",
     "output_type": "stream",
     "text": [
      "\u001b[32mProgress:  52%|█████████████████████▍                   |  ETA: 5:03:24\u001b[39m"
     ]
    },
    {
     "name": "stdout",
     "output_type": "stream",
     "text": [
      "parameters at step 10400000 saved to ./RL_models_slow/cf_ppo_10400000.bson\n",
      "step: 10400000 reward : 33.47 length: 48\n"
     ]
    },
    {
     "name": "stderr",
     "output_type": "stream",
     "text": [
      "\u001b[32mProgress:  52%|█████████████████████▌                   |  ETA: 5:00:06\u001b[39m"
     ]
    },
    {
     "name": "stdout",
     "output_type": "stream",
     "text": [
      "parameters at step 10500000 saved to ./RL_models_slow/cf_ppo_10500000.bson\n",
      "step: 10500000 reward : 36.364 length: 66\n"
     ]
    },
    {
     "name": "stderr",
     "output_type": "stream",
     "text": [
      "\u001b[32mProgress:  53%|█████████████████████▊                   |  ETA: 4:56:52\u001b[39m"
     ]
    },
    {
     "name": "stdout",
     "output_type": "stream",
     "text": [
      "parameters at step 10600000 saved to ./RL_models_slow/cf_ppo_10600000.bson\n",
      "step: 10600000 reward : 40.767 length: 58\n"
     ]
    },
    {
     "name": "stderr",
     "output_type": "stream",
     "text": [
      "\u001b[32mProgress:  53%|█████████████████████▉                   |  ETA: 4:53:34\u001b[39m"
     ]
    },
    {
     "name": "stdout",
     "output_type": "stream",
     "text": [
      "parameters at step 10700000 saved to ./RL_models_slow/cf_ppo_10700000.bson\n",
      "step: 10700000 reward : 30.015 length: 40\n"
     ]
    },
    {
     "name": "stderr",
     "output_type": "stream",
     "text": [
      "\u001b[32mProgress:  54%|██████████████████████▏                  |  ETA: 4:50:20\u001b[39m"
     ]
    },
    {
     "name": "stdout",
     "output_type": "stream",
     "text": [
      "parameters at step 10800000 saved to ./RL_models_slow/cf_ppo_10800000.bson\n",
      "step: 10800000 reward : 32.433 length: 39\n"
     ]
    },
    {
     "name": "stderr",
     "output_type": "stream",
     "text": [
      "\u001b[32mProgress:  54%|██████████████████████▍                  |  ETA: 4:47:03\u001b[39m"
     ]
    },
    {
     "name": "stdout",
     "output_type": "stream",
     "text": [
      "parameters at step 10900000 saved to ./RL_models_slow/cf_ppo_10900000.bson\n",
      "step: 10900000 reward : 36.483 length: 56\n"
     ]
    },
    {
     "name": "stderr",
     "output_type": "stream",
     "text": [
      "\u001b[32mProgress:  55%|██████████████████████▌                  |  ETA: 4:43:54\u001b[39m"
     ]
    },
    {
     "name": "stdout",
     "output_type": "stream",
     "text": [
      "parameters at step 11000000 saved to ./RL_models_slow/cf_ppo_11000000.bson\n",
      "step: 11000000 reward : 30.098 length: 32\n"
     ]
    },
    {
     "name": "stderr",
     "output_type": "stream",
     "text": [
      "\u001b[32mProgress:  55%|██████████████████████▊                  |  ETA: 4:40:39\u001b[39m"
     ]
    },
    {
     "name": "stdout",
     "output_type": "stream",
     "text": [
      "parameters at step 11100000 saved to ./RL_models_slow/cf_ppo_11100000.bson\n",
      "step: 11100000 reward : 28.609 length: 30\n"
     ]
    },
    {
     "name": "stderr",
     "output_type": "stream",
     "text": [
      "\u001b[32mProgress:  56%|███████████████████████                  |  ETA: 4:37:26\u001b[39m"
     ]
    },
    {
     "name": "stdout",
     "output_type": "stream",
     "text": [
      "parameters at step 11200000 saved to ./RL_models_slow/cf_ppo_11200000.bson\n",
      "step: 11200000 reward : 34.448 length: 55\n"
     ]
    },
    {
     "name": "stderr",
     "output_type": "stream",
     "text": [
      "\u001b[32mProgress:  56%|███████████████████████▏                 |  ETA: 4:34:19\u001b[39m"
     ]
    },
    {
     "name": "stdout",
     "output_type": "stream",
     "text": [
      "parameters at step 11300000 saved to ./RL_models_slow/cf_ppo_11300000.bson\n"
     ]
    },
    {
     "name": "stderr",
     "output_type": "stream",
     "text": [
      "\r",
      "\u001b[32mProgress:  57%|███████████████████████▏                 |  ETA: 4:34:16\u001b[39m"
     ]
    },
    {
     "name": "stdout",
     "output_type": "stream",
     "text": [
      "step: 11300000 reward : 33.912 length: 49\n"
     ]
    },
    {
     "name": "stderr",
     "output_type": "stream",
     "text": [
      "\u001b[32mProgress:  57%|███████████████████████▍                 |  ETA: 4:31:07\u001b[39m"
     ]
    },
    {
     "name": "stdout",
     "output_type": "stream",
     "text": [
      "parameters at step 11400000 saved to ./RL_models_slow/cf_ppo_11400000.bson\n",
      "step: 11400000 reward : 35.239 length: 71\n"
     ]
    },
    {
     "name": "stderr",
     "output_type": "stream",
     "text": [
      "\u001b[32mProgress:  57%|███████████████████████▋                 |  ETA: 4:28:00\u001b[39m"
     ]
    },
    {
     "name": "stdout",
     "output_type": "stream",
     "text": [
      "parameters at step 11500000 saved to ./RL_models_slow/cf_ppo_11500000.bson\n",
      "step: 11500000 reward : 30.008 length: 50\n"
     ]
    },
    {
     "name": "stderr",
     "output_type": "stream",
     "text": [
      "\u001b[32mProgress:  58%|███████████████████████▊                 |  ETA: 4:24:52\u001b[39m"
     ]
    },
    {
     "name": "stdout",
     "output_type": "stream",
     "text": [
      "parameters at step 11600000 saved to ./RL_models_slow/cf_ppo_11600000.bson\n",
      "step: 11600000 reward : 35.906 length: 56\n"
     ]
    },
    {
     "name": "stderr",
     "output_type": "stream",
     "text": [
      "\u001b[32mProgress:  58%|████████████████████████                 |  ETA: 4:21:50\u001b[39m"
     ]
    },
    {
     "name": "stdout",
     "output_type": "stream",
     "text": [
      "parameters at step 11700000 saved to ./RL_models_slow/cf_ppo_11700000.bson\n",
      "step: 11700000 reward : 27.978 length: 36\n"
     ]
    },
    {
     "name": "stderr",
     "output_type": "stream",
     "text": [
      "\u001b[32mProgress:  59%|████████████████████████▎                |  ETA: 4:18:43\u001b[39m"
     ]
    },
    {
     "name": "stdout",
     "output_type": "stream",
     "text": [
      "parameters at step 11800000 saved to ./RL_models_slow/cf_ppo_11800000.bson\n",
      "step: 11800000 reward : 27.147 length: 30\n"
     ]
    },
    {
     "name": "stderr",
     "output_type": "stream",
     "text": [
      "\u001b[32mProgress:  59%|████████████████████████▍                |  ETA: 4:15:40\u001b[39m"
     ]
    },
    {
     "name": "stdout",
     "output_type": "stream",
     "text": [
      "parameters at step 11900000 saved to ./RL_models_slow/cf_ppo_11900000.bson\n",
      "step: 11900000 reward : 30.497 length: 34\n"
     ]
    },
    {
     "name": "stderr",
     "output_type": "stream",
     "text": [
      "\u001b[32mProgress:  60%|████████████████████████▋                |  ETA: 4:12:28\u001b[39m"
     ]
    },
    {
     "name": "stdout",
     "output_type": "stream",
     "text": [
      "parameters at step 12000000 saved to ./RL_models_slow/cf_ppo_12000000.bson\n",
      "step: 12000000 reward : 34.461 length: 60\n"
     ]
    },
    {
     "name": "stderr",
     "output_type": "stream",
     "text": [
      "\u001b[32mProgress:  60%|████████████████████████▊                |  ETA: 4:09:16\u001b[39m"
     ]
    },
    {
     "name": "stdout",
     "output_type": "stream",
     "text": [
      "parameters at step 12100000 saved to ./RL_models_slow/cf_ppo_12100000.bson\n",
      "step: 12100000 reward : 32.403 length: 49\n"
     ]
    },
    {
     "name": "stderr",
     "output_type": "stream",
     "text": [
      "\u001b[32mProgress:  61%|█████████████████████████                |  ETA: 4:06:00\u001b[39m"
     ]
    },
    {
     "name": "stdout",
     "output_type": "stream",
     "text": [
      "parameters at step 12200000 saved to ./RL_models_slow/cf_ppo_12200000.bson\n"
     ]
    },
    {
     "name": "stderr",
     "output_type": "stream",
     "text": [
      "\r",
      "\u001b[32mProgress:  61%|█████████████████████████                |  ETA: 4:06:01\u001b[39m"
     ]
    },
    {
     "name": "stdout",
     "output_type": "stream",
     "text": [
      "step: 12200000 reward : 35.043 length: 47\n"
     ]
    },
    {
     "name": "stderr",
     "output_type": "stream",
     "text": [
      "\u001b[32mProgress:  61%|█████████████████████████▎               |  ETA: 4:02:48\u001b[39m"
     ]
    },
    {
     "name": "stdout",
     "output_type": "stream",
     "text": [
      "parameters at step 12300000 saved to ./RL_models_slow/cf_ppo_12300000.bson\n",
      "step: 12300000 reward : 29.183 length: 33\n"
     ]
    },
    {
     "name": "stderr",
     "output_type": "stream",
     "text": [
      "\u001b[32mProgress:  62%|█████████████████████████▍               |  ETA: 3:59:34\u001b[39m"
     ]
    },
    {
     "name": "stdout",
     "output_type": "stream",
     "text": [
      "parameters at step 12400000 saved to ./RL_models_slow/cf_ppo_12400000.bson\n",
      "step: 12400000 reward : 36.985 length: 66\n"
     ]
    },
    {
     "name": "stderr",
     "output_type": "stream",
     "text": [
      "\u001b[32mProgress:  62%|█████████████████████████▋               |  ETA: 3:56:21\u001b[39m"
     ]
    },
    {
     "name": "stdout",
     "output_type": "stream",
     "text": [
      "parameters at step 12500000 saved to ./RL_models_slow/cf_ppo_12500000.bson\n",
      "step: 12500000 reward : 32.756 length: 49\n"
     ]
    },
    {
     "name": "stderr",
     "output_type": "stream",
     "text": [
      "\u001b[32mProgress:  63%|█████████████████████████▉               |  ETA: 3:53:08\u001b[39m"
     ]
    },
    {
     "name": "stdout",
     "output_type": "stream",
     "text": [
      "parameters at step 12600000 saved to ./RL_models_slow/cf_ppo_12600000.bson\n",
      "step: 12600000 reward : 31.409 length: 47\n"
     ]
    },
    {
     "name": "stderr",
     "output_type": "stream",
     "text": [
      "\u001b[32mProgress:  63%|██████████████████████████               |  ETA: 3:49:54\u001b[39m"
     ]
    },
    {
     "name": "stdout",
     "output_type": "stream",
     "text": [
      "parameters at step 12700000 saved to ./RL_models_slow/cf_ppo_12700000.bson\n",
      "step: 12700000 reward : 40.599 length: 91\n"
     ]
    },
    {
     "name": "stderr",
     "output_type": "stream",
     "text": [
      "\u001b[32mProgress:  64%|██████████████████████████▎              |  ETA: 3:46:44\u001b[39m"
     ]
    },
    {
     "name": "stdout",
     "output_type": "stream",
     "text": [
      "parameters at step 12800000 saved to ./RL_models_slow/cf_ppo_12800000.bson\n",
      "step: 12800000 reward : 35.019 length: 61\n"
     ]
    },
    {
     "name": "stderr",
     "output_type": "stream",
     "text": [
      "\u001b[32mProgress:  64%|██████████████████████████▌              |  ETA: 3:43:37\u001b[39m"
     ]
    },
    {
     "name": "stdout",
     "output_type": "stream",
     "text": [
      "parameters at step 12900000 saved to ./RL_models_slow/cf_ppo_12900000.bson\n",
      "step: 12900000 reward : 37.345 length: 58\n"
     ]
    },
    {
     "name": "stderr",
     "output_type": "stream",
     "text": [
      "\u001b[32mProgress:  65%|██████████████████████████▋              |  ETA: 3:40:26\u001b[39m"
     ]
    },
    {
     "name": "stdout",
     "output_type": "stream",
     "text": [
      "parameters at step 13000000 saved to ./RL_models_slow/cf_ppo_13000000.bson\n",
      "step: 13000000 reward : 36.644 length: 64\n"
     ]
    },
    {
     "name": "stderr",
     "output_type": "stream",
     "text": [
      "\u001b[32mProgress:  65%|██████████████████████████▉              |  ETA: 3:37:12\u001b[39m"
     ]
    },
    {
     "name": "stdout",
     "output_type": "stream",
     "text": [
      "parameters at step 13100000 saved to ./RL_models_slow/cf_ppo_13100000.bson\n",
      "step: 13100000 reward : 35.584 length: 51\n"
     ]
    },
    {
     "name": "stderr",
     "output_type": "stream",
     "text": [
      "\u001b[32mProgress:  66%|███████████████████████████              |  ETA: 3:34:00\u001b[39m"
     ]
    },
    {
     "name": "stdout",
     "output_type": "stream",
     "text": [
      "parameters at step 13200000 saved to ./RL_models_slow/cf_ppo_13200000.bson\n",
      "step: 13200000 reward : 41.43 length: 71\n"
     ]
    },
    {
     "name": "stderr",
     "output_type": "stream",
     "text": [
      "\u001b[32mProgress:  66%|███████████████████████████▎             |  ETA: 3:30:52\u001b[39m"
     ]
    },
    {
     "name": "stdout",
     "output_type": "stream",
     "text": [
      "parameters at step 13300000 saved to ./RL_models_slow/cf_ppo_13300000.bson\n",
      "step: 13300000 reward : 29.784 length: 37\n"
     ]
    },
    {
     "name": "stderr",
     "output_type": "stream",
     "text": [
      "\u001b[32mProgress:  67%|███████████████████████████▌             |  ETA: 3:27:40\u001b[39m"
     ]
    },
    {
     "name": "stdout",
     "output_type": "stream",
     "text": [
      "parameters at step 13400000 saved to ./RL_models_slow/cf_ppo_13400000.bson\n",
      "step: 13400000 reward : 33.522 length: 43\n"
     ]
    },
    {
     "name": "stderr",
     "output_type": "stream",
     "text": [
      "\u001b[32mProgress:  67%|███████████████████████████▋             |  ETA: 3:24:33\u001b[39m"
     ]
    },
    {
     "name": "stdout",
     "output_type": "stream",
     "text": [
      "parameters at step 13500000 saved to ./RL_models_slow/cf_ppo_13500000.bson\n",
      "step: 13500000 reward : 31.549 length: 40\n"
     ]
    },
    {
     "name": "stderr",
     "output_type": "stream",
     "text": [
      "\u001b[32mProgress:  68%|███████████████████████████▉             |  ETA: 3:21:26\u001b[39m"
     ]
    },
    {
     "name": "stdout",
     "output_type": "stream",
     "text": [
      "parameters at step 13600000 saved to ./RL_models_slow/cf_ppo_13600000.bson\n",
      "step: 13600000 reward : 35.385 length: 46\n"
     ]
    },
    {
     "name": "stderr",
     "output_type": "stream",
     "text": [
      "\u001b[32mProgress:  68%|████████████████████████████▏            |  ETA: 3:18:19\u001b[39m"
     ]
    },
    {
     "name": "stdout",
     "output_type": "stream",
     "text": [
      "parameters at step 13700000 saved to ./RL_models_slow/cf_ppo_13700000.bson\n",
      "step: 13700000 reward : 35.827 length: 49\n"
     ]
    },
    {
     "name": "stderr",
     "output_type": "stream",
     "text": [
      "\u001b[32mProgress:  69%|████████████████████████████▎            |  ETA: 3:15:10\u001b[39m"
     ]
    },
    {
     "name": "stdout",
     "output_type": "stream",
     "text": [
      "parameters at step 13800000 saved to ./RL_models_slow/cf_ppo_13800000.bson\n",
      "step: 13800000 reward : 28.702 length: 28\n"
     ]
    },
    {
     "name": "stderr",
     "output_type": "stream",
     "text": [
      "\u001b[32mProgress:  69%|████████████████████████████▌            |  ETA: 3:12:04\u001b[39m"
     ]
    },
    {
     "name": "stdout",
     "output_type": "stream",
     "text": [
      "parameters at step 13900000 saved to ./RL_models_slow/cf_ppo_13900000.bson\n",
      "step: 13900000 reward : 35.487 length: 48\n"
     ]
    },
    {
     "name": "stderr",
     "output_type": "stream",
     "text": [
      "\u001b[32mProgress:  70%|████████████████████████████▊            |  ETA: 3:08:57\u001b[39m"
     ]
    },
    {
     "name": "stdout",
     "output_type": "stream",
     "text": [
      "parameters at step 14000000 saved to ./RL_models_slow/cf_ppo_14000000.bson\n",
      "step: 14000000 reward : 29.764 length: 36\n"
     ]
    },
    {
     "name": "stderr",
     "output_type": "stream",
     "text": [
      "\u001b[32mProgress:  70%|████████████████████████████▉            |  ETA: 3:05:52\u001b[39m"
     ]
    },
    {
     "name": "stdout",
     "output_type": "stream",
     "text": [
      "parameters at step 14100000 saved to ./RL_models_slow/cf_ppo_14100000.bson\n",
      "step: 14100000 reward : 34.6 length: 61\n"
     ]
    },
    {
     "name": "stderr",
     "output_type": "stream",
     "text": [
      "\u001b[32mProgress:  71%|█████████████████████████████▏           |  ETA: 3:02:46\u001b[39m"
     ]
    },
    {
     "name": "stdout",
     "output_type": "stream",
     "text": [
      "parameters at step 14200000 saved to ./RL_models_slow/cf_ppo_14200000.bson\n",
      "step: 14200000 reward : 35.896 length: 45\n"
     ]
    },
    {
     "name": "stderr",
     "output_type": "stream",
     "text": [
      "\u001b[32mProgress:  71%|█████████████████████████████▍           |  ETA: 2:59:41\u001b[39m"
     ]
    },
    {
     "name": "stdout",
     "output_type": "stream",
     "text": [
      "parameters at step 14300000 saved to ./RL_models_slow/cf_ppo_14300000.bson\n",
      "step: 14300000 reward : 35.26 length: 45\n"
     ]
    },
    {
     "name": "stderr",
     "output_type": "stream",
     "text": [
      "\u001b[32mProgress:  72%|█████████████████████████████▌           |  ETA: 2:56:36\u001b[39m"
     ]
    },
    {
     "name": "stdout",
     "output_type": "stream",
     "text": [
      "parameters at step 14400000 saved to ./RL_models_slow/cf_ppo_14400000.bson\n",
      "step: 14400000 reward : 34.702 length: 56\n"
     ]
    },
    {
     "name": "stderr",
     "output_type": "stream",
     "text": [
      "\u001b[32mProgress:  72%|█████████████████████████████▊           |  ETA: 2:53:25\u001b[39m"
     ]
    },
    {
     "name": "stdout",
     "output_type": "stream",
     "text": [
      "parameters at step 14500000 saved to ./RL_models_slow/cf_ppo_14500000.bson\n",
      "step: 14500000 reward : 38.615 length: 65\n"
     ]
    },
    {
     "name": "stderr",
     "output_type": "stream",
     "text": [
      "\u001b[32mProgress:  73%|█████████████████████████████▉           |  ETA: 2:50:11\u001b[39m"
     ]
    },
    {
     "name": "stdout",
     "output_type": "stream",
     "text": [
      "parameters at step 14600000 saved to ./RL_models_slow/cf_ppo_14600000.bson\n",
      "step: 14600000 reward : 36.358 length: 52\n"
     ]
    },
    {
     "name": "stderr",
     "output_type": "stream",
     "text": [
      "\u001b[32mProgress:  73%|██████████████████████████████▏          |  ETA: 2:47:03\u001b[39m"
     ]
    },
    {
     "name": "stdout",
     "output_type": "stream",
     "text": [
      "parameters at step 14700000 saved to ./RL_models_slow/cf_ppo_14700000.bson\n",
      "step: 14700000 reward : 33.506 length: 39\n"
     ]
    },
    {
     "name": "stderr",
     "output_type": "stream",
     "text": [
      "\u001b[32mProgress:  74%|██████████████████████████████▍          |  ETA: 2:43:49\u001b[39m"
     ]
    },
    {
     "name": "stdout",
     "output_type": "stream",
     "text": [
      "parameters at step 14800000 saved to ./RL_models_slow/cf_ppo_14800000.bson\n",
      "step: 14800000 reward : 30.737 length: 43\n"
     ]
    },
    {
     "name": "stderr",
     "output_type": "stream",
     "text": [
      "\u001b[32mProgress:  74%|██████████████████████████████▌          |  ETA: 2:40:39\u001b[39m"
     ]
    },
    {
     "name": "stdout",
     "output_type": "stream",
     "text": [
      "parameters at step 14900000 saved to ./RL_models_slow/cf_ppo_14900000.bson\n",
      "step: 14900000 reward : 36.275 length: 60\n"
     ]
    },
    {
     "name": "stderr",
     "output_type": "stream",
     "text": [
      "\u001b[32mProgress:  75%|██████████████████████████████▊          |  ETA: 2:37:26\u001b[39m"
     ]
    },
    {
     "name": "stdout",
     "output_type": "stream",
     "text": [
      "parameters at step 15000000 saved to ./RL_models_slow/cf_ppo_15000000.bson\n",
      "step: 15000000 reward : 44.008 length: 66\n"
     ]
    },
    {
     "name": "stderr",
     "output_type": "stream",
     "text": [
      "\u001b[32mProgress:  75%|███████████████████████████████          |  ETA: 2:34:13\u001b[39m"
     ]
    },
    {
     "name": "stdout",
     "output_type": "stream",
     "text": [
      "parameters at step 15100000 saved to ./RL_models_slow/cf_ppo_15100000.bson\n",
      "step: 15100000 reward : 32.757 length: 52\n"
     ]
    },
    {
     "name": "stderr",
     "output_type": "stream",
     "text": [
      "\u001b[32mProgress:  76%|███████████████████████████████▏         |  ETA: 2:31:03\u001b[39m"
     ]
    },
    {
     "name": "stdout",
     "output_type": "stream",
     "text": [
      "parameters at step 15200000 saved to ./RL_models_slow/cf_ppo_15200000.bson\n",
      "step: 15200000 reward : 31.83 length: 46\n"
     ]
    },
    {
     "name": "stderr",
     "output_type": "stream",
     "text": [
      "\u001b[32mProgress:  76%|███████████████████████████████▍         |  ETA: 2:27:55\u001b[39m"
     ]
    },
    {
     "name": "stdout",
     "output_type": "stream",
     "text": [
      "parameters at step 15300000 saved to ./RL_models_slow/cf_ppo_15300000.bson\n",
      "step: 15300000 reward : 37.898 length: 54\n"
     ]
    },
    {
     "name": "stderr",
     "output_type": "stream",
     "text": [
      "\u001b[32mProgress:  77%|███████████████████████████████▋         |  ETA: 2:24:44\u001b[39m"
     ]
    },
    {
     "name": "stdout",
     "output_type": "stream",
     "text": [
      "parameters at step 15400000 saved to ./RL_models_slow/cf_ppo_15400000.bson\n",
      "step: 15400000 reward : 36.872 length: 42\n"
     ]
    },
    {
     "name": "stderr",
     "output_type": "stream",
     "text": [
      "\u001b[32mProgress:  77%|███████████████████████████████▊         |  ETA: 2:21:30\u001b[39m"
     ]
    },
    {
     "name": "stdout",
     "output_type": "stream",
     "text": [
      "parameters at step 15500000 saved to ./RL_models_slow/cf_ppo_15500000.bson\n",
      "step: 15500000 reward : 33.043 length: 40\n"
     ]
    },
    {
     "name": "stderr",
     "output_type": "stream",
     "text": [
      "\u001b[32mProgress:  78%|████████████████████████████████         |  ETA: 2:18:23\u001b[39m"
     ]
    },
    {
     "name": "stdout",
     "output_type": "stream",
     "text": [
      "parameters at step 15600000 saved to ./RL_models_slow/cf_ppo_15600000.bson\n",
      "step: 15600000 reward : 26.802 length: 31\n"
     ]
    },
    {
     "name": "stderr",
     "output_type": "stream",
     "text": [
      "\u001b[32mProgress:  78%|████████████████████████████████▏        |  ETA: 2:15:11\u001b[39m"
     ]
    },
    {
     "name": "stdout",
     "output_type": "stream",
     "text": [
      "parameters at step 15700000 saved to ./RL_models_slow/cf_ppo_15700000.bson\n",
      "step: 15700000 reward : 37.231 length: 55\n"
     ]
    },
    {
     "name": "stderr",
     "output_type": "stream",
     "text": [
      "\u001b[32mProgress:  79%|████████████████████████████████▍        |  ETA: 2:11:58\u001b[39m"
     ]
    },
    {
     "name": "stdout",
     "output_type": "stream",
     "text": [
      "parameters at step 15800000 saved to ./RL_models_slow/cf_ppo_15800000.bson\n",
      "step: 15800000 reward : 33.487 length: 34\n"
     ]
    },
    {
     "name": "stderr",
     "output_type": "stream",
     "text": [
      "\u001b[32mProgress:  79%|████████████████████████████████▋        |  ETA: 2:08:49\u001b[39m"
     ]
    },
    {
     "name": "stdout",
     "output_type": "stream",
     "text": [
      "parameters at step 15900000 saved to ./RL_models_slow/cf_ppo_15900000.bson\n",
      "step: 15900000 reward : 43.234 length: 58\n"
     ]
    },
    {
     "name": "stderr",
     "output_type": "stream",
     "text": [
      "\u001b[32mProgress:  80%|████████████████████████████████▊        |  ETA: 2:05:37\u001b[39m"
     ]
    },
    {
     "name": "stdout",
     "output_type": "stream",
     "text": [
      "parameters at step 16000000 saved to ./RL_models_slow/cf_ppo_16000000.bson\n",
      "step: 16000000 reward : 33.262 length: 36\n"
     ]
    },
    {
     "name": "stderr",
     "output_type": "stream",
     "text": [
      "\u001b[32mProgress:  80%|█████████████████████████████████        |  ETA: 2:02:28\u001b[39m"
     ]
    },
    {
     "name": "stdout",
     "output_type": "stream",
     "text": [
      "parameters at step 16100000 saved to ./RL_models_slow/cf_ppo_16100000.bson\n",
      "step: 16100000 reward : 37.643 length: 48\n"
     ]
    },
    {
     "name": "stderr",
     "output_type": "stream",
     "text": [
      "\u001b[32mProgress:  81%|█████████████████████████████████▎       |  ETA: 1:59:19\u001b[39m"
     ]
    },
    {
     "name": "stdout",
     "output_type": "stream",
     "text": [
      "parameters at step 16200000 saved to ./RL_models_slow/cf_ppo_16200000.bson\n",
      "step: 16200000 reward : 39.925 length: 59\n"
     ]
    },
    {
     "name": "stderr",
     "output_type": "stream",
     "text": [
      "\u001b[32mProgress:  81%|█████████████████████████████████▍       |  ETA: 1:56:11\u001b[39m"
     ]
    },
    {
     "name": "stdout",
     "output_type": "stream",
     "text": [
      "parameters at step 16300000 saved to ./RL_models_slow/cf_ppo_16300000.bson\n",
      "step: 16300000 reward : 30.7 length: 40\n"
     ]
    },
    {
     "name": "stderr",
     "output_type": "stream",
     "text": [
      "\u001b[32mProgress:  82%|█████████████████████████████████▋       |  ETA: 1:53:02\u001b[39m"
     ]
    },
    {
     "name": "stdout",
     "output_type": "stream",
     "text": [
      "parameters at step 16400000 saved to ./RL_models_slow/cf_ppo_16400000.bson\n",
      "step: 16400000 reward : 34.347 length: 61\n"
     ]
    },
    {
     "name": "stderr",
     "output_type": "stream",
     "text": [
      "\u001b[32mProgress:  82%|█████████████████████████████████▉       |  ETA: 1:49:57\u001b[39m"
     ]
    },
    {
     "name": "stdout",
     "output_type": "stream",
     "text": [
      "parameters at step 16500000 saved to ./RL_models_slow/cf_ppo_16500000.bson\n",
      "step: 16500000 reward : 34.331 length: 52\n"
     ]
    },
    {
     "name": "stderr",
     "output_type": "stream",
     "text": [
      "\u001b[32mProgress:  83%|██████████████████████████████████       |  ETA: 1:46:47\u001b[39m"
     ]
    },
    {
     "name": "stdout",
     "output_type": "stream",
     "text": [
      "parameters at step 16600000 saved to ./RL_models_slow/cf_ppo_16600000.bson\n",
      "step: 16600000 reward : 38.789 length: 50\n"
     ]
    },
    {
     "name": "stderr",
     "output_type": "stream",
     "text": [
      "\u001b[32mProgress:  83%|██████████████████████████████████▎      |  ETA: 1:43:41\u001b[39m"
     ]
    },
    {
     "name": "stdout",
     "output_type": "stream",
     "text": [
      "parameters at step 16700000 saved to ./RL_models_slow/cf_ppo_16700000.bson\n",
      "step: 16700000 reward : 36.226 length: 69\n"
     ]
    },
    {
     "name": "stderr",
     "output_type": "stream",
     "text": [
      "\u001b[32mProgress:  84%|██████████████████████████████████▌      |  ETA: 1:40:32\u001b[39m"
     ]
    },
    {
     "name": "stdout",
     "output_type": "stream",
     "text": [
      "parameters at step 16800000 saved to ./RL_models_slow/cf_ppo_16800000.bson\n",
      "step: 16800000 reward : 28.438 length: 30\n"
     ]
    },
    {
     "name": "stderr",
     "output_type": "stream",
     "text": [
      "\u001b[32mProgress:  84%|██████████████████████████████████▋      |  ETA: 1:37:25\u001b[39m"
     ]
    },
    {
     "name": "stdout",
     "output_type": "stream",
     "text": [
      "parameters at step 16900000 saved to ./RL_models_slow/cf_ppo_16900000.bson\n",
      "step: 16900000 reward : 41.2 length: 56\n"
     ]
    },
    {
     "name": "stderr",
     "output_type": "stream",
     "text": [
      "\u001b[32mProgress:  85%|██████████████████████████████████▉      |  ETA: 1:34:12\u001b[39m"
     ]
    },
    {
     "name": "stdout",
     "output_type": "stream",
     "text": [
      "parameters at step 17000000 saved to ./RL_models_slow/cf_ppo_17000000.bson\n",
      "step: 17000000 reward : 34.082 length: 46\n"
     ]
    },
    {
     "name": "stderr",
     "output_type": "stream",
     "text": [
      "\u001b[32mProgress:  85%|███████████████████████████████████      |  ETA: 1:31:04\u001b[39m"
     ]
    },
    {
     "name": "stdout",
     "output_type": "stream",
     "text": [
      "parameters at step 17100000 saved to ./RL_models_slow/cf_ppo_17100000.bson\n",
      "step: 17100000 reward : 29.291 length: 32\n"
     ]
    },
    {
     "name": "stderr",
     "output_type": "stream",
     "text": [
      "\u001b[32mProgress:  86%|███████████████████████████████████▎     |  ETA: 1:27:53\u001b[39m"
     ]
    },
    {
     "name": "stdout",
     "output_type": "stream",
     "text": [
      "parameters at step 17200000 saved to ./RL_models_slow/cf_ppo_17200000.bson\n",
      "step: 17200000 reward : 27.813 length: 35\n"
     ]
    },
    {
     "name": "stderr",
     "output_type": "stream",
     "text": [
      "\u001b[32mProgress:  86%|███████████████████████████████████▌     |  ETA: 1:24:46\u001b[39m"
     ]
    },
    {
     "name": "stdout",
     "output_type": "stream",
     "text": [
      "parameters at step 17300000 saved to ./RL_models_slow/cf_ppo_17300000.bson\n",
      "step: 17300000 reward : 34.734 length: 78\n"
     ]
    },
    {
     "name": "stderr",
     "output_type": "stream",
     "text": [
      "\u001b[32mProgress:  87%|███████████████████████████████████▋     |  ETA: 1:21:38\u001b[39m"
     ]
    },
    {
     "name": "stdout",
     "output_type": "stream",
     "text": [
      "parameters at step 17400000 saved to ./RL_models_slow/cf_ppo_17400000.bson\n",
      "step: 17400000 reward : 36.816 length: 52\n"
     ]
    },
    {
     "name": "stderr",
     "output_type": "stream",
     "text": [
      "\u001b[32mProgress:  87%|███████████████████████████████████▉     |  ETA: 1:18:27\u001b[39m"
     ]
    },
    {
     "name": "stdout",
     "output_type": "stream",
     "text": [
      "parameters at step 17500000 saved to ./RL_models_slow/cf_ppo_17500000.bson\n",
      "step: 17500000 reward : 31.281 length: 38\n"
     ]
    },
    {
     "name": "stderr",
     "output_type": "stream",
     "text": [
      "\u001b[32mProgress:  88%|████████████████████████████████████▏    |  ETA: 1:15:18\u001b[39m"
     ]
    },
    {
     "name": "stdout",
     "output_type": "stream",
     "text": [
      "parameters at step 17600000 saved to ./RL_models_slow/cf_ppo_17600000.bson\n",
      "step: 17600000 reward : 35.75 length: 49\n"
     ]
    },
    {
     "name": "stderr",
     "output_type": "stream",
     "text": [
      "\u001b[32mProgress:  88%|████████████████████████████████████▎    |  ETA: 1:12:11\u001b[39m"
     ]
    },
    {
     "name": "stdout",
     "output_type": "stream",
     "text": [
      "parameters at step 17700000 saved to ./RL_models_slow/cf_ppo_17700000.bson\n",
      "step: 17700000 reward : 33.327 length: 43\n"
     ]
    },
    {
     "name": "stderr",
     "output_type": "stream",
     "text": [
      "\u001b[32mProgress:  89%|████████████████████████████████████▌    |  ETA: 1:09:01\u001b[39m"
     ]
    },
    {
     "name": "stdout",
     "output_type": "stream",
     "text": [
      "parameters at step 17800000 saved to ./RL_models_slow/cf_ppo_17800000.bson\n",
      "step: 17800000 reward : 31.054 length: 37\n"
     ]
    },
    {
     "name": "stderr",
     "output_type": "stream",
     "text": [
      "\u001b[32mProgress:  89%|████████████████████████████████████▊    |  ETA: 1:05:50\u001b[39m"
     ]
    },
    {
     "name": "stdout",
     "output_type": "stream",
     "text": [
      "parameters at step 17900000 saved to ./RL_models_slow/cf_ppo_17900000.bson\n",
      "step: 17900000 reward : 29.794 length: 31\n"
     ]
    },
    {
     "name": "stderr",
     "output_type": "stream",
     "text": [
      "\u001b[32mProgress:  90%|████████████████████████████████████▉    |  ETA: 1:02:44\u001b[39m"
     ]
    },
    {
     "name": "stdout",
     "output_type": "stream",
     "text": [
      "parameters at step 18000000 saved to ./RL_models_slow/cf_ppo_18000000.bson\n",
      "step: 18000000 reward : 28.331 length: 31\n"
     ]
    },
    {
     "name": "stderr",
     "output_type": "stream",
     "text": [
      "\u001b[32mProgress:  90%|█████████████████████████████████████▏   |  ETA: 0:59:32\u001b[39m"
     ]
    },
    {
     "name": "stdout",
     "output_type": "stream",
     "text": [
      "parameters at step 18100000 saved to ./RL_models_slow/cf_ppo_18100000.bson\n",
      "step: 18100000 reward : 36.971 length: 46\n"
     ]
    },
    {
     "name": "stderr",
     "output_type": "stream",
     "text": [
      "\u001b[32mProgress:  91%|█████████████████████████████████████▎   |  ETA: 0:56:25\u001b[39m"
     ]
    },
    {
     "name": "stdout",
     "output_type": "stream",
     "text": [
      "parameters at step 18200000 saved to ./RL_models_slow/cf_ppo_18200000.bson\n",
      "step: 18200000 reward : 32.799 length: 35\n"
     ]
    },
    {
     "name": "stderr",
     "output_type": "stream",
     "text": [
      "\u001b[32mProgress:  91%|█████████████████████████████████████▌   |  ETA: 0:53:16\u001b[39m"
     ]
    },
    {
     "name": "stdout",
     "output_type": "stream",
     "text": [
      "parameters at step 18300000 saved to ./RL_models_slow/cf_ppo_18300000.bson\n",
      "step: 18300000 reward : 36.158 length: 59\n"
     ]
    },
    {
     "name": "stderr",
     "output_type": "stream",
     "text": [
      "\u001b[32mProgress:  92%|█████████████████████████████████████▊   |  ETA: 0:50:07\u001b[39m"
     ]
    },
    {
     "name": "stdout",
     "output_type": "stream",
     "text": [
      "parameters at step 18400000 saved to ./RL_models_slow/cf_ppo_18400000.bson\n"
     ]
    },
    {
     "name": "stderr",
     "output_type": "stream",
     "text": [
      "\r",
      "\u001b[32mProgress:  92%|█████████████████████████████████████▊   |  ETA: 0:50:06\u001b[39m"
     ]
    },
    {
     "name": "stdout",
     "output_type": "stream",
     "text": [
      "step: 18400000 reward : 36.03 length: 49\n"
     ]
    },
    {
     "name": "stderr",
     "output_type": "stream",
     "text": [
      "\u001b[32mProgress:  92%|█████████████████████████████████████▉   |  ETA: 0:47:02\u001b[39m"
     ]
    },
    {
     "name": "stdout",
     "output_type": "stream",
     "text": [
      "parameters at step 18500000 saved to ./RL_models_slow/cf_ppo_18500000.bson\n",
      "step: 18500000 reward : 35.352 length: 50\n"
     ]
    },
    {
     "name": "stderr",
     "output_type": "stream",
     "text": [
      "\u001b[32mProgress:  93%|██████████████████████████████████████▏  |  ETA: 0:43:52\u001b[39m"
     ]
    },
    {
     "name": "stdout",
     "output_type": "stream",
     "text": [
      "parameters at step 18600000 saved to ./RL_models_slow/cf_ppo_18600000.bson\n",
      "step: 18600000 reward : 35.081 length: 44\n"
     ]
    },
    {
     "name": "stderr",
     "output_type": "stream",
     "text": [
      "\u001b[32mProgress:  93%|██████████████████████████████████████▍  |  ETA: 0:40:43\u001b[39m"
     ]
    },
    {
     "name": "stdout",
     "output_type": "stream",
     "text": [
      "parameters at step 18700000 saved to ./RL_models_slow/cf_ppo_18700000.bson\n",
      "step: 18700000 reward : 39.804 length: 57\n"
     ]
    },
    {
     "name": "stderr",
     "output_type": "stream",
     "text": [
      "\u001b[32mProgress:  94%|██████████████████████████████████████▌  |  ETA: 0:37:38\u001b[39m"
     ]
    },
    {
     "name": "stdout",
     "output_type": "stream",
     "text": [
      "parameters at step 18800000 saved to ./RL_models_slow/cf_ppo_18800000.bson\n",
      "step: 18800000 reward : 33.083 length: 36\n"
     ]
    },
    {
     "name": "stderr",
     "output_type": "stream",
     "text": [
      "\u001b[32mProgress:  94%|██████████████████████████████████████▊  |  ETA: 0:34:29\u001b[39m"
     ]
    },
    {
     "name": "stdout",
     "output_type": "stream",
     "text": [
      "parameters at step 18900000 saved to ./RL_models_slow/cf_ppo_18900000.bson\n",
      "step: 18900000 reward : 28.597 length: 34\n"
     ]
    },
    {
     "name": "stderr",
     "output_type": "stream",
     "text": [
      "\u001b[32mProgress:  95%|███████████████████████████████████████  |  ETA: 0:31:23\u001b[39m"
     ]
    },
    {
     "name": "stdout",
     "output_type": "stream",
     "text": [
      "parameters at step 19000000 saved to ./RL_models_slow/cf_ppo_19000000.bson\n",
      "step: 19000000 reward : 35.193 length: 47\n"
     ]
    },
    {
     "name": "stderr",
     "output_type": "stream",
     "text": [
      "\u001b[32mProgress:  95%|███████████████████████████████████████▏ |  ETA: 0:28:15\u001b[39m"
     ]
    },
    {
     "name": "stdout",
     "output_type": "stream",
     "text": [
      "parameters at step 19100000 saved to ./RL_models_slow/cf_ppo_19100000.bson\n",
      "step: 19100000 reward : 41.787 length: 63\n"
     ]
    },
    {
     "name": "stderr",
     "output_type": "stream",
     "text": [
      "\u001b[32mProgress:  96%|███████████████████████████████████████▍ |  ETA: 0:25:08\u001b[39m"
     ]
    },
    {
     "name": "stdout",
     "output_type": "stream",
     "text": [
      "parameters at step 19200000 saved to ./RL_models_slow/cf_ppo_19200000.bson\n",
      "step: 19200000 reward : 34.259 length: 40\n"
     ]
    },
    {
     "name": "stderr",
     "output_type": "stream",
     "text": [
      "\u001b[32mProgress:  96%|███████████████████████████████████████▋ |  ETA: 0:21:57\u001b[39m"
     ]
    },
    {
     "name": "stdout",
     "output_type": "stream",
     "text": [
      "parameters at step 19300000 saved to ./RL_models_slow/cf_ppo_19300000.bson\n",
      "step: 19300000 reward : 40.033 length: 67\n"
     ]
    },
    {
     "name": "stderr",
     "output_type": "stream",
     "text": [
      "\u001b[32mProgress:  97%|███████████████████████████████████████▊ |  ETA: 0:18:52\u001b[39m"
     ]
    },
    {
     "name": "stdout",
     "output_type": "stream",
     "text": [
      "parameters at step 19400000 saved to ./RL_models_slow/cf_ppo_19400000.bson\n",
      "step: 19400000 reward : 34.612 length: 47\n"
     ]
    },
    {
     "name": "stderr",
     "output_type": "stream",
     "text": [
      "\u001b[32mProgress:  97%|████████████████████████████████████████ |  ETA: 0:15:44\u001b[39m"
     ]
    },
    {
     "name": "stdout",
     "output_type": "stream",
     "text": [
      "parameters at step 19500000 saved to ./RL_models_slow/cf_ppo_19500000.bson\n",
      "step: 19500000 reward : 39.168 length: 61\n"
     ]
    },
    {
     "name": "stderr",
     "output_type": "stream",
     "text": [
      "\u001b[32mProgress:  98%|████████████████████████████████████████▏|  ETA: 0:12:33\u001b[39m"
     ]
    },
    {
     "name": "stdout",
     "output_type": "stream",
     "text": [
      "parameters at step 19600000 saved to ./RL_models_slow/cf_ppo_19600000.bson\n",
      "step: 19600000 reward : 40.463 length: 59\n"
     ]
    },
    {
     "name": "stderr",
     "output_type": "stream",
     "text": [
      "\u001b[32mProgress:  98%|████████████████████████████████████████▍|  ETA: 0:09:26\u001b[39m"
     ]
    },
    {
     "name": "stdout",
     "output_type": "stream",
     "text": [
      "parameters at step 19700000 saved to ./RL_models_slow/cf_ppo_19700000.bson\n",
      "step: 19700000 reward : 27.396 length: 32\n"
     ]
    },
    {
     "name": "stderr",
     "output_type": "stream",
     "text": [
      "\u001b[32mProgress:  99%|████████████████████████████████████████▋|  ETA: 0:06:17\u001b[39m"
     ]
    },
    {
     "name": "stdout",
     "output_type": "stream",
     "text": [
      "parameters at step 19800000 saved to ./RL_models_slow/cf_ppo_19800000.bson\n",
      "step: 19800000 reward : 29.961 length: 31\n"
     ]
    },
    {
     "name": "stderr",
     "output_type": "stream",
     "text": [
      "\u001b[32mProgress:  99%|████████████████████████████████████████▊|  ETA: 0:03:09\u001b[39m"
     ]
    },
    {
     "name": "stdout",
     "output_type": "stream",
     "text": [
      "parameters at step 19900000 saved to ./RL_models_slow/cf_ppo_19900000.bson\n",
      "step: 19900000 reward : 36.336 length: 55\n"
     ]
    },
    {
     "name": "stderr",
     "output_type": "stream",
     "text": [
      "\u001b[32mProgress: 100%|█████████████████████████████████████████| Time: 10:26:14\u001b[39m\n"
     ]
    },
    {
     "name": "stdout",
     "output_type": "stream",
     "text": [
      "parameters at step 20000000 saved to ./RL_models_slow/cf_ppo_20000000.bson\n",
      "step: 20000000 reward : 33.035 length: 104\n"
     ]
    }
   ],
   "source": [
    "if TRAINING\n",
    "    ReinforcementLearning.run(\n",
    "        agent,\n",
    "        env,\n",
    "        StopAfterStep(steps),\n",
    "        hook\n",
    "    )\n",
    "end"
   ]
  },
  {
   "cell_type": "code",
   "execution_count": 31,
   "id": "21a5d7b6",
   "metadata": {},
   "outputs": [
    {
     "data": {
      "image/svg+xml": [
       "<?xml version=\"1.0\" encoding=\"utf-8\"?>\n",
       "<svg xmlns=\"http://www.w3.org/2000/svg\" xmlns:xlink=\"http://www.w3.org/1999/xlink\" width=\"600\" height=\"400\" viewBox=\"0 0 2400 1600\">\n",
       "<defs>\n",
       "  <clipPath id=\"clip590\">\n",
       "    <rect x=\"0\" y=\"0\" width=\"2400\" height=\"1600\"/>\n",
       "  </clipPath>\n",
       "</defs>\n",
       "<path clip-path=\"url(#clip590)\" d=\"\n",
       "M0 1600 L2400 1600 L2400 0 L0 0  Z\n",
       "  \" fill=\"#ffffff\" fill-rule=\"evenodd\" fill-opacity=\"1\"/>\n",
       "<defs>\n",
       "  <clipPath id=\"clip591\">\n",
       "    <rect x=\"480\" y=\"0\" width=\"1681\" height=\"1600\"/>\n",
       "  </clipPath>\n",
       "</defs>\n",
       "<path clip-path=\"url(#clip590)\" d=\"\n",
       "M141.853 1486.45 L2352.76 1486.45 L2352.76 47.2441 L141.853 47.2441  Z\n",
       "  \" fill=\"#ffffff\" fill-rule=\"evenodd\" fill-opacity=\"1\"/>\n",
       "<defs>\n",
       "  <clipPath id=\"clip592\">\n",
       "    <rect x=\"141\" y=\"47\" width=\"2212\" height=\"1440\"/>\n",
       "  </clipPath>\n",
       "</defs>\n",
       "<polyline clip-path=\"url(#clip592)\" style=\"stroke:#000000; stroke-linecap:round; stroke-linejoin:round; stroke-width:2; stroke-opacity:0.1; fill:none\" points=\"\n",
       "  193.944,1486.45 193.944,47.2441 \n",
       "  \"/>\n",
       "<polyline clip-path=\"url(#clip592)\" style=\"stroke:#000000; stroke-linecap:round; stroke-linejoin:round; stroke-width:2; stroke-opacity:0.1; fill:none\" points=\"\n",
       "  718.004,1486.45 718.004,47.2441 \n",
       "  \"/>\n",
       "<polyline clip-path=\"url(#clip592)\" style=\"stroke:#000000; stroke-linecap:round; stroke-linejoin:round; stroke-width:2; stroke-opacity:0.1; fill:none\" points=\"\n",
       "  1242.06,1486.45 1242.06,47.2441 \n",
       "  \"/>\n",
       "<polyline clip-path=\"url(#clip592)\" style=\"stroke:#000000; stroke-linecap:round; stroke-linejoin:round; stroke-width:2; stroke-opacity:0.1; fill:none\" points=\"\n",
       "  1766.12,1486.45 1766.12,47.2441 \n",
       "  \"/>\n",
       "<polyline clip-path=\"url(#clip592)\" style=\"stroke:#000000; stroke-linecap:round; stroke-linejoin:round; stroke-width:2; stroke-opacity:0.1; fill:none\" points=\"\n",
       "  2290.18,1486.45 2290.18,47.2441 \n",
       "  \"/>\n",
       "<polyline clip-path=\"url(#clip590)\" style=\"stroke:#000000; stroke-linecap:round; stroke-linejoin:round; stroke-width:4; stroke-opacity:1; fill:none\" points=\"\n",
       "  141.853,1486.45 2352.76,1486.45 \n",
       "  \"/>\n",
       "<polyline clip-path=\"url(#clip590)\" style=\"stroke:#000000; stroke-linecap:round; stroke-linejoin:round; stroke-width:4; stroke-opacity:1; fill:none\" points=\"\n",
       "  193.944,1486.45 193.944,1467.55 \n",
       "  \"/>\n",
       "<polyline clip-path=\"url(#clip590)\" style=\"stroke:#000000; stroke-linecap:round; stroke-linejoin:round; stroke-width:4; stroke-opacity:1; fill:none\" points=\"\n",
       "  718.004,1486.45 718.004,1467.55 \n",
       "  \"/>\n",
       "<polyline clip-path=\"url(#clip590)\" style=\"stroke:#000000; stroke-linecap:round; stroke-linejoin:round; stroke-width:4; stroke-opacity:1; fill:none\" points=\"\n",
       "  1242.06,1486.45 1242.06,1467.55 \n",
       "  \"/>\n",
       "<polyline clip-path=\"url(#clip590)\" style=\"stroke:#000000; stroke-linecap:round; stroke-linejoin:round; stroke-width:4; stroke-opacity:1; fill:none\" points=\"\n",
       "  1766.12,1486.45 1766.12,1467.55 \n",
       "  \"/>\n",
       "<polyline clip-path=\"url(#clip590)\" style=\"stroke:#000000; stroke-linecap:round; stroke-linejoin:round; stroke-width:4; stroke-opacity:1; fill:none\" points=\"\n",
       "  2290.18,1486.45 2290.18,1467.55 \n",
       "  \"/>\n",
       "<path clip-path=\"url(#clip590)\" d=\"M193.944 1517.37 Q190.333 1517.37 188.505 1520.93 Q186.699 1524.47 186.699 1531.6 Q186.699 1538.71 188.505 1542.27 Q190.333 1545.82 193.944 1545.82 Q197.579 1545.82 199.384 1542.27 Q201.213 1538.71 201.213 1531.6 Q201.213 1524.47 199.384 1520.93 Q197.579 1517.37 193.944 1517.37 M193.944 1513.66 Q199.755 1513.66 202.81 1518.27 Q205.889 1522.85 205.889 1531.6 Q205.889 1540.33 202.81 1544.94 Q199.755 1549.52 193.944 1549.52 Q188.134 1549.52 185.056 1544.94 Q182 1540.33 182 1531.6 Q182 1522.85 185.056 1518.27 Q188.134 1513.66 193.944 1513.66 Z\" fill=\"#000000\" fill-rule=\"evenodd\" fill-opacity=\"1\" /><path clip-path=\"url(#clip590)\" d=\"M692.703 1514.29 L711.06 1514.29 L711.06 1518.22 L696.986 1518.22 L696.986 1526.7 Q698.004 1526.35 699.023 1526.19 Q700.041 1526 701.06 1526 Q706.847 1526 710.226 1529.17 Q713.606 1532.34 713.606 1537.76 Q713.606 1543.34 710.134 1546.44 Q706.662 1549.52 700.342 1549.52 Q698.166 1549.52 695.898 1549.15 Q693.652 1548.78 691.245 1548.04 L691.245 1543.34 Q693.328 1544.47 695.551 1545.03 Q697.773 1545.58 700.25 1545.58 Q704.254 1545.58 706.592 1543.48 Q708.93 1541.37 708.93 1537.76 Q708.93 1534.15 706.592 1532.04 Q704.254 1529.94 700.25 1529.94 Q698.375 1529.94 696.5 1530.35 Q694.648 1530.77 692.703 1531.65 L692.703 1514.29 Z\" fill=\"#000000\" fill-rule=\"evenodd\" fill-opacity=\"1\" /><path clip-path=\"url(#clip590)\" d=\"M732.819 1517.37 Q729.208 1517.37 727.379 1520.93 Q725.574 1524.47 725.574 1531.6 Q725.574 1538.71 727.379 1542.27 Q729.208 1545.82 732.819 1545.82 Q736.453 1545.82 738.259 1542.27 Q740.087 1538.71 740.087 1531.6 Q740.087 1524.47 738.259 1520.93 Q736.453 1517.37 732.819 1517.37 M732.819 1513.66 Q738.629 1513.66 741.685 1518.27 Q744.763 1522.85 744.763 1531.6 Q744.763 1540.33 741.685 1544.94 Q738.629 1549.52 732.819 1549.52 Q727.009 1549.52 723.93 1544.94 Q720.875 1540.33 720.875 1531.6 Q720.875 1522.85 723.93 1518.27 Q727.009 1513.66 732.819 1513.66 Z\" fill=\"#000000\" fill-rule=\"evenodd\" fill-opacity=\"1\" /><path clip-path=\"url(#clip590)\" d=\"M1201.67 1544.91 L1209.31 1544.91 L1209.31 1518.55 L1201 1520.21 L1201 1515.95 L1209.26 1514.29 L1213.94 1514.29 L1213.94 1544.91 L1221.58 1544.91 L1221.58 1548.85 L1201.67 1548.85 L1201.67 1544.91 Z\" fill=\"#000000\" fill-rule=\"evenodd\" fill-opacity=\"1\" /><path clip-path=\"url(#clip590)\" d=\"M1241.02 1517.37 Q1237.41 1517.37 1235.58 1520.93 Q1233.78 1524.47 1233.78 1531.6 Q1233.78 1538.71 1235.58 1542.27 Q1237.41 1545.82 1241.02 1545.82 Q1244.66 1545.82 1246.46 1542.27 Q1248.29 1538.71 1248.29 1531.6 Q1248.29 1524.47 1246.46 1520.93 Q1244.66 1517.37 1241.02 1517.37 M1241.02 1513.66 Q1246.83 1513.66 1249.89 1518.27 Q1252.97 1522.85 1252.97 1531.6 Q1252.97 1540.33 1249.89 1544.94 Q1246.83 1549.52 1241.02 1549.52 Q1235.21 1549.52 1232.13 1544.94 Q1229.08 1540.33 1229.08 1531.6 Q1229.08 1522.85 1232.13 1518.27 Q1235.21 1513.66 1241.02 1513.66 Z\" fill=\"#000000\" fill-rule=\"evenodd\" fill-opacity=\"1\" /><path clip-path=\"url(#clip590)\" d=\"M1271.18 1517.37 Q1267.57 1517.37 1265.74 1520.93 Q1263.94 1524.47 1263.94 1531.6 Q1263.94 1538.71 1265.74 1542.27 Q1267.57 1545.82 1271.18 1545.82 Q1274.82 1545.82 1276.62 1542.27 Q1278.45 1538.71 1278.45 1531.6 Q1278.45 1524.47 1276.62 1520.93 Q1274.82 1517.37 1271.18 1517.37 M1271.18 1513.66 Q1276.99 1513.66 1280.05 1518.27 Q1283.13 1522.85 1283.13 1531.6 Q1283.13 1540.33 1280.05 1544.94 Q1276.99 1549.52 1271.18 1549.52 Q1265.37 1549.52 1262.3 1544.94 Q1259.24 1540.33 1259.24 1531.6 Q1259.24 1522.85 1262.3 1518.27 Q1265.37 1513.66 1271.18 1513.66 Z\" fill=\"#000000\" fill-rule=\"evenodd\" fill-opacity=\"1\" /><path clip-path=\"url(#clip590)\" d=\"M1725.73 1544.91 L1733.37 1544.91 L1733.37 1518.55 L1725.06 1520.21 L1725.06 1515.95 L1733.32 1514.29 L1738 1514.29 L1738 1544.91 L1745.64 1544.91 L1745.64 1548.85 L1725.73 1548.85 L1725.73 1544.91 Z\" fill=\"#000000\" fill-rule=\"evenodd\" fill-opacity=\"1\" /><path clip-path=\"url(#clip590)\" d=\"M1755.13 1514.29 L1773.48 1514.29 L1773.48 1518.22 L1759.41 1518.22 L1759.41 1526.7 Q1760.43 1526.35 1761.45 1526.19 Q1762.47 1526 1763.48 1526 Q1769.27 1526 1772.65 1529.17 Q1776.03 1532.34 1776.03 1537.76 Q1776.03 1543.34 1772.56 1546.44 Q1769.09 1549.52 1762.77 1549.52 Q1760.59 1549.52 1758.32 1549.15 Q1756.08 1548.78 1753.67 1548.04 L1753.67 1543.34 Q1755.75 1544.47 1757.98 1545.03 Q1760.2 1545.58 1762.67 1545.58 Q1766.68 1545.58 1769.02 1543.48 Q1771.35 1541.37 1771.35 1537.76 Q1771.35 1534.15 1769.02 1532.04 Q1766.68 1529.94 1762.67 1529.94 Q1760.8 1529.94 1758.92 1530.35 Q1757.07 1530.77 1755.13 1531.65 L1755.13 1514.29 Z\" fill=\"#000000\" fill-rule=\"evenodd\" fill-opacity=\"1\" /><path clip-path=\"url(#clip590)\" d=\"M1795.24 1517.37 Q1791.63 1517.37 1789.8 1520.93 Q1788 1524.47 1788 1531.6 Q1788 1538.71 1789.8 1542.27 Q1791.63 1545.82 1795.24 1545.82 Q1798.88 1545.82 1800.68 1542.27 Q1802.51 1538.71 1802.51 1531.6 Q1802.51 1524.47 1800.68 1520.93 Q1798.88 1517.37 1795.24 1517.37 M1795.24 1513.66 Q1801.05 1513.66 1804.11 1518.27 Q1807.19 1522.85 1807.19 1531.6 Q1807.19 1540.33 1804.11 1544.94 Q1801.05 1549.52 1795.24 1549.52 Q1789.43 1549.52 1786.35 1544.94 Q1783.3 1540.33 1783.3 1531.6 Q1783.3 1522.85 1786.35 1518.27 Q1789.43 1513.66 1795.24 1513.66 Z\" fill=\"#000000\" fill-rule=\"evenodd\" fill-opacity=\"1\" /><path clip-path=\"url(#clip590)\" d=\"M2253.88 1544.91 L2270.19 1544.91 L2270.19 1548.85 L2248.25 1548.85 L2248.25 1544.91 Q2250.91 1542.16 2255.5 1537.53 Q2260.1 1532.88 2261.28 1531.53 Q2263.53 1529.01 2264.41 1527.27 Q2265.31 1525.51 2265.31 1523.82 Q2265.31 1521.07 2263.37 1519.33 Q2261.44 1517.6 2258.34 1517.6 Q2256.14 1517.6 2253.69 1518.36 Q2251.26 1519.13 2248.48 1520.68 L2248.48 1515.95 Q2251.31 1514.82 2253.76 1514.24 Q2256.21 1513.66 2258.25 1513.66 Q2263.62 1513.66 2266.82 1516.35 Q2270.01 1519.03 2270.01 1523.52 Q2270.01 1525.65 2269.2 1527.57 Q2268.41 1529.47 2266.31 1532.07 Q2265.73 1532.74 2262.63 1535.95 Q2259.52 1539.15 2253.88 1544.91 Z\" fill=\"#000000\" fill-rule=\"evenodd\" fill-opacity=\"1\" /><path clip-path=\"url(#clip590)\" d=\"M2290.01 1517.37 Q2286.4 1517.37 2284.57 1520.93 Q2282.76 1524.47 2282.76 1531.6 Q2282.76 1538.71 2284.57 1542.27 Q2286.4 1545.82 2290.01 1545.82 Q2293.64 1545.82 2295.45 1542.27 Q2297.28 1538.71 2297.28 1531.6 Q2297.28 1524.47 2295.45 1520.93 Q2293.64 1517.37 2290.01 1517.37 M2290.01 1513.66 Q2295.82 1513.66 2298.88 1518.27 Q2301.95 1522.85 2301.95 1531.6 Q2301.95 1540.33 2298.88 1544.94 Q2295.82 1549.52 2290.01 1549.52 Q2284.2 1549.52 2281.12 1544.94 Q2278.07 1540.33 2278.07 1531.6 Q2278.07 1522.85 2281.12 1518.27 Q2284.2 1513.66 2290.01 1513.66 Z\" fill=\"#000000\" fill-rule=\"evenodd\" fill-opacity=\"1\" /><path clip-path=\"url(#clip590)\" d=\"M2320.17 1517.37 Q2316.56 1517.37 2314.73 1520.93 Q2312.93 1524.47 2312.93 1531.6 Q2312.93 1538.71 2314.73 1542.27 Q2316.56 1545.82 2320.17 1545.82 Q2323.81 1545.82 2325.61 1542.27 Q2327.44 1538.71 2327.44 1531.6 Q2327.44 1524.47 2325.61 1520.93 Q2323.81 1517.37 2320.17 1517.37 M2320.17 1513.66 Q2325.98 1513.66 2329.04 1518.27 Q2332.12 1522.85 2332.12 1531.6 Q2332.12 1540.33 2329.04 1544.94 Q2325.98 1549.52 2320.17 1549.52 Q2314.36 1549.52 2311.28 1544.94 Q2308.23 1540.33 2308.23 1531.6 Q2308.23 1522.85 2311.28 1518.27 Q2314.36 1513.66 2320.17 1513.66 Z\" fill=\"#000000\" fill-rule=\"evenodd\" fill-opacity=\"1\" /><polyline clip-path=\"url(#clip592)\" style=\"stroke:#000000; stroke-linecap:round; stroke-linejoin:round; stroke-width:2; stroke-opacity:0.1; fill:none\" points=\"\n",
       "  141.853,1259.91 2352.76,1259.91 \n",
       "  \"/>\n",
       "<polyline clip-path=\"url(#clip592)\" style=\"stroke:#000000; stroke-linecap:round; stroke-linejoin:round; stroke-width:2; stroke-opacity:0.1; fill:none\" points=\"\n",
       "  141.853,993.613 2352.76,993.613 \n",
       "  \"/>\n",
       "<polyline clip-path=\"url(#clip592)\" style=\"stroke:#000000; stroke-linecap:round; stroke-linejoin:round; stroke-width:2; stroke-opacity:0.1; fill:none\" points=\"\n",
       "  141.853,727.315 2352.76,727.315 \n",
       "  \"/>\n",
       "<polyline clip-path=\"url(#clip592)\" style=\"stroke:#000000; stroke-linecap:round; stroke-linejoin:round; stroke-width:2; stroke-opacity:0.1; fill:none\" points=\"\n",
       "  141.853,461.017 2352.76,461.017 \n",
       "  \"/>\n",
       "<polyline clip-path=\"url(#clip592)\" style=\"stroke:#000000; stroke-linecap:round; stroke-linejoin:round; stroke-width:2; stroke-opacity:0.1; fill:none\" points=\"\n",
       "  141.853,194.719 2352.76,194.719 \n",
       "  \"/>\n",
       "<polyline clip-path=\"url(#clip590)\" style=\"stroke:#000000; stroke-linecap:round; stroke-linejoin:round; stroke-width:4; stroke-opacity:1; fill:none\" points=\"\n",
       "  141.853,1486.45 141.853,47.2441 \n",
       "  \"/>\n",
       "<polyline clip-path=\"url(#clip590)\" style=\"stroke:#000000; stroke-linecap:round; stroke-linejoin:round; stroke-width:4; stroke-opacity:1; fill:none\" points=\"\n",
       "  141.853,1259.91 160.751,1259.91 \n",
       "  \"/>\n",
       "<polyline clip-path=\"url(#clip590)\" style=\"stroke:#000000; stroke-linecap:round; stroke-linejoin:round; stroke-width:4; stroke-opacity:1; fill:none\" points=\"\n",
       "  141.853,993.613 160.751,993.613 \n",
       "  \"/>\n",
       "<polyline clip-path=\"url(#clip590)\" style=\"stroke:#000000; stroke-linecap:round; stroke-linejoin:round; stroke-width:4; stroke-opacity:1; fill:none\" points=\"\n",
       "  141.853,727.315 160.751,727.315 \n",
       "  \"/>\n",
       "<polyline clip-path=\"url(#clip590)\" style=\"stroke:#000000; stroke-linecap:round; stroke-linejoin:round; stroke-width:4; stroke-opacity:1; fill:none\" points=\"\n",
       "  141.853,461.017 160.751,461.017 \n",
       "  \"/>\n",
       "<polyline clip-path=\"url(#clip590)\" style=\"stroke:#000000; stroke-linecap:round; stroke-linejoin:round; stroke-width:4; stroke-opacity:1; fill:none\" points=\"\n",
       "  141.853,194.719 160.751,194.719 \n",
       "  \"/>\n",
       "<path clip-path=\"url(#clip590)\" d=\"M93.9086 1245.71 Q90.2975 1245.71 88.4688 1249.27 Q86.6632 1252.82 86.6632 1259.95 Q86.6632 1267.05 88.4688 1270.62 Q90.2975 1274.16 93.9086 1274.16 Q97.5428 1274.16 99.3483 1270.62 Q101.177 1267.05 101.177 1259.95 Q101.177 1252.82 99.3483 1249.27 Q97.5428 1245.71 93.9086 1245.71 M93.9086 1242.01 Q99.7187 1242.01 102.774 1246.61 Q105.853 1251.2 105.853 1259.95 Q105.853 1268.67 102.774 1273.28 Q99.7187 1277.86 93.9086 1277.86 Q88.0984 1277.86 85.0197 1273.28 Q81.9642 1268.67 81.9642 1259.95 Q81.9642 1251.2 85.0197 1246.61 Q88.0984 1242.01 93.9086 1242.01 Z\" fill=\"#000000\" fill-rule=\"evenodd\" fill-opacity=\"1\" /><path clip-path=\"url(#clip590)\" d=\"M54.5569 1006.96 L62.1958 1006.96 L62.1958 980.592 L53.8856 982.259 L53.8856 977.999 L62.1495 976.333 L66.8254 976.333 L66.8254 1006.96 L74.4642 1006.96 L74.4642 1010.89 L54.5569 1010.89 L54.5569 1006.96 Z\" fill=\"#000000\" fill-rule=\"evenodd\" fill-opacity=\"1\" /><path clip-path=\"url(#clip590)\" d=\"M93.9086 979.411 Q90.2975 979.411 88.4688 982.976 Q86.6632 986.518 86.6632 993.647 Q86.6632 1000.75 88.4688 1004.32 Q90.2975 1007.86 93.9086 1007.86 Q97.5428 1007.86 99.3483 1004.32 Q101.177 1000.75 101.177 993.647 Q101.177 986.518 99.3483 982.976 Q97.5428 979.411 93.9086 979.411 M93.9086 975.708 Q99.7187 975.708 102.774 980.314 Q105.853 984.897 105.853 993.647 Q105.853 1002.37 102.774 1006.98 Q99.7187 1011.56 93.9086 1011.56 Q88.0984 1011.56 85.0197 1006.98 Q81.9642 1002.37 81.9642 993.647 Q81.9642 984.897 85.0197 980.314 Q88.0984 975.708 93.9086 975.708 Z\" fill=\"#000000\" fill-rule=\"evenodd\" fill-opacity=\"1\" /><path clip-path=\"url(#clip590)\" d=\"M57.7745 740.66 L74.0939 740.66 L74.0939 744.595 L52.1495 744.595 L52.1495 740.66 Q54.8115 737.905 59.3949 733.275 Q64.0013 728.623 65.1819 727.28 Q67.4272 724.757 68.3068 723.021 Q69.2096 721.262 69.2096 719.572 Q69.2096 716.817 67.2652 715.081 Q65.3439 713.345 62.2421 713.345 Q60.043 713.345 57.5893 714.109 Q55.1588 714.873 52.381 716.424 L52.381 711.701 Q55.2051 710.567 57.6588 709.988 Q60.1124 709.41 62.1495 709.41 Q67.5198 709.41 70.7142 712.095 Q73.9087 714.78 73.9087 719.271 Q73.9087 721.4 73.0985 723.322 Q72.3115 725.22 70.205 727.812 Q69.6263 728.484 66.5245 731.701 Q63.4226 734.896 57.7745 740.66 Z\" fill=\"#000000\" fill-rule=\"evenodd\" fill-opacity=\"1\" /><path clip-path=\"url(#clip590)\" d=\"M93.9086 713.113 Q90.2975 713.113 88.4688 716.678 Q86.6632 720.22 86.6632 727.349 Q86.6632 734.456 88.4688 738.021 Q90.2975 741.562 93.9086 741.562 Q97.5428 741.562 99.3483 738.021 Q101.177 734.456 101.177 727.349 Q101.177 720.22 99.3483 716.678 Q97.5428 713.113 93.9086 713.113 M93.9086 709.41 Q99.7187 709.41 102.774 714.016 Q105.853 718.599 105.853 727.349 Q105.853 736.076 102.774 740.683 Q99.7187 745.266 93.9086 745.266 Q88.0984 745.266 85.0197 740.683 Q81.9642 736.076 81.9642 727.349 Q81.9642 718.599 85.0197 714.016 Q88.0984 709.41 93.9086 709.41 Z\" fill=\"#000000\" fill-rule=\"evenodd\" fill-opacity=\"1\" /><path clip-path=\"url(#clip590)\" d=\"M67.9133 459.663 Q71.2698 460.38 73.1448 462.649 Q75.0429 464.917 75.0429 468.251 Q75.0429 473.366 71.5244 476.167 Q68.0059 478.968 61.5245 478.968 Q59.3486 478.968 57.0338 478.528 Q54.7421 478.112 52.2884 477.255 L52.2884 472.741 Q54.2328 473.876 56.5477 474.454 Q58.8625 475.033 61.3856 475.033 Q65.7837 475.033 68.0754 473.297 Q70.3902 471.561 70.3902 468.251 Q70.3902 465.195 68.2374 463.482 Q66.1078 461.746 62.2884 461.746 L58.2606 461.746 L58.2606 457.903 L62.4735 457.903 Q65.9226 457.903 67.7513 456.538 Q69.58 455.149 69.58 452.556 Q69.58 449.894 67.6819 448.482 Q65.8069 447.047 62.2884 447.047 Q60.3671 447.047 58.168 447.464 Q55.969 447.88 53.3301 448.76 L53.3301 444.593 Q55.9921 443.853 58.3069 443.482 Q60.6449 443.112 62.705 443.112 Q68.0291 443.112 71.1309 445.542 Q74.2327 447.95 74.2327 452.07 Q74.2327 454.94 72.5892 456.931 Q70.9457 458.899 67.9133 459.663 Z\" fill=\"#000000\" fill-rule=\"evenodd\" fill-opacity=\"1\" /><path clip-path=\"url(#clip590)\" d=\"M93.9086 446.815 Q90.2975 446.815 88.4688 450.38 Q86.6632 453.922 86.6632 461.052 Q86.6632 468.158 88.4688 471.723 Q90.2975 475.264 93.9086 475.264 Q97.5428 475.264 99.3483 471.723 Q101.177 468.158 101.177 461.052 Q101.177 453.922 99.3483 450.38 Q97.5428 446.815 93.9086 446.815 M93.9086 443.112 Q99.7187 443.112 102.774 447.718 Q105.853 452.302 105.853 461.052 Q105.853 469.778 102.774 474.385 Q99.7187 478.968 93.9086 478.968 Q88.0984 478.968 85.0197 474.385 Q81.9642 469.778 81.9642 461.052 Q81.9642 452.302 85.0197 447.718 Q88.0984 443.112 93.9086 443.112 Z\" fill=\"#000000\" fill-rule=\"evenodd\" fill-opacity=\"1\" /><path clip-path=\"url(#clip590)\" d=\"M66.5939 181.513 L54.7884 199.962 L66.5939 199.962 L66.5939 181.513 M65.367 177.439 L71.2466 177.439 L71.2466 199.962 L76.1772 199.962 L76.1772 203.851 L71.2466 203.851 L71.2466 211.999 L66.5939 211.999 L66.5939 203.851 L50.9921 203.851 L50.9921 199.337 L65.367 177.439 Z\" fill=\"#000000\" fill-rule=\"evenodd\" fill-opacity=\"1\" /><path clip-path=\"url(#clip590)\" d=\"M93.9086 180.518 Q90.2975 180.518 88.4688 184.082 Q86.6632 187.624 86.6632 194.754 Q86.6632 201.86 88.4688 205.425 Q90.2975 208.966 93.9086 208.966 Q97.5428 208.966 99.3483 205.425 Q101.177 201.86 101.177 194.754 Q101.177 187.624 99.3483 184.082 Q97.5428 180.518 93.9086 180.518 M93.9086 176.814 Q99.7187 176.814 102.774 181.42 Q105.853 186.004 105.853 194.754 Q105.853 203.48 102.774 208.087 Q99.7187 212.67 93.9086 212.67 Q88.0984 212.67 85.0197 208.087 Q81.9642 203.48 81.9642 194.754 Q81.9642 186.004 85.0197 181.42 Q88.0984 176.814 93.9086 176.814 Z\" fill=\"#000000\" fill-rule=\"evenodd\" fill-opacity=\"1\" /><polyline clip-path=\"url(#clip592)\" style=\"stroke:#009af9; stroke-linecap:round; stroke-linejoin:round; stroke-width:4; stroke-opacity:1; fill:none\" points=\"\n",
       "  204.426,1288.82 214.907,1277.36 225.388,1334.66 235.869,1276.45 246.35,1302.47 256.832,1298.75 267.313,1248.4 277.794,1238.03 288.275,1284.61 298.756,1274.56 \n",
       "  309.238,1211.65 319.719,1290.81 330.2,1250.02 340.681,1257.45 351.162,1252.08 361.644,1227.29 372.125,1217.24 382.606,1265.61 393.087,1260.72 403.568,1270.05 \n",
       "  414.05,1325.02 424.531,1269.76 435.012,655.494 445.493,1224.79 455.974,1232.99 466.456,1332.61 476.937,1275.65 487.418,1242.38 497.899,1261.55 508.38,1276.86 \n",
       "  518.861,1286.56 529.343,1282.85 539.824,1209.16 550.305,1288.16 560.786,1182.68 571.267,1268.98 581.749,675.725 592.23,1309 602.711,1248.32 613.192,599.789 \n",
       "  623.673,1341.32 634.155,726.687 644.636,1287.69 655.117,744.551 665.598,712.139 676.079,633.012 686.561,763.455 697.042,756.046 707.523,810.975 718.004,1413.46 \n",
       "  728.485,518.893 738.967,783.758 749.448,639.853 759.929,612.086 770.41,882.614 780.891,783.434 791.373,735.499 801.854,686.087 812.335,685.091 822.816,874.608 \n",
       "  833.297,623.677 843.778,738.032 854.26,603.126 864.741,580.102 875.222,679.145 885.703,529.239 896.184,592.447 906.666,614.844 917.147,611.576 927.628,587.318 \n",
       "  938.109,676.394 948.59,373.643 959.072,558.037 969.553,532.841 980.034,574.079 990.515,358.695 1001,432.338 1011.48,461.609 1021.96,509.382 1032.44,424.912 \n",
       "  1042.92,394.595 1053.4,362.042 1063.88,1445.72 1074.36,644.197 1084.85,364.463 1095.33,474.019 1105.81,408.194 1116.29,434.281 1126.77,587.798 1137.25,439.112 \n",
       "  1147.73,289.42 1158.21,411.491 1168.7,573.238 1179.18,467.063 1189.66,293.153 1200.14,269.715 1210.62,178.451 1221.1,296.209 1231.58,341.636 1242.06,300.153 \n",
       "  1252.55,302.352 1263.03,277.628 1273.51,537.866 1283.99,368.606 1294.47,291.538 1304.95,174.282 1315.43,460.621 1325.91,396.222 1336.39,288.386 1346.88,458.396 \n",
       "  1357.36,498.052 1367.84,342.574 1378.32,356.854 1388.8,321.499 1399.28,460.815 1409.76,303.736 1420.24,514.851 1430.73,536.993 1441.21,447.79 1451.69,342.226 \n",
       "  1462.17,397.013 1472.65,326.718 1483.13,482.761 1493.61,275.012 1504.09,387.628 1514.57,423.496 1525.06,178.774 1535.54,327.363 1546.02,265.418 1556.5,284.092 \n",
       "  1566.98,312.305 1577.46,156.627 1587.94,466.77 1598.42,367.23 1608.91,419.781 1619.39,317.607 1629.87,305.843 1640.35,495.579 1650.83,314.896 1661.31,467.296 \n",
       "  1671.79,338.516 1682.27,304.013 1692.76,320.952 1703.24,335.805 1713.72,231.602 1724.2,291.709 1734.68,367.644 1745.16,441.39 1755.64,293.925 1766.12,87.9763 \n",
       "  1776.6,387.597 1787.09,412.289 1797.57,250.686 1808.05,278.029 1818.53,379.987 1829.01,546.175 1839.49,268.445 1849.97,368.164 1860.45,108.587 1870.94,374.141 \n",
       "  1881.42,257.481 1891.9,196.704 1902.38,442.374 1912.86,345.26 1923.34,345.696 1933.82,226.96 1944.3,295.221 1954.78,502.619 1965.27,162.771 1975.75,352.317 \n",
       "  1986.23,479.907 1996.71,519.261 2007.19,334.964 2017.67,279.513 2028.15,426.904 2038.63,307.886 2049.12,372.428 2059.6,432.955 2070.08,466.496 2080.56,505.45 \n",
       "  2091.04,275.373 2101.52,386.467 2112,297.026 2122.48,300.435 2132.97,318.504 2143.45,325.7 2153.93,199.931 2164.41,378.909 2174.89,498.375 2185.37,322.726 \n",
       "  2195.85,147.141 2206.33,347.591 2216.81,193.852 2227.3,338.206 2237.78,216.877 2248.26,182.388 2258.74,530.354 2269.22,462.053 2279.7,292.279 2290.18,380.188 \n",
       "  \n",
       "  \"/>\n",
       "<path clip-path=\"url(#clip590)\" d=\"\n",
       "M215.55 198.898 L489.07 198.898 L489.07 95.2176 L215.55 95.2176  Z\n",
       "  \" fill=\"#ffffff\" fill-rule=\"evenodd\" fill-opacity=\"1\"/>\n",
       "<polyline clip-path=\"url(#clip590)\" style=\"stroke:#000000; stroke-linecap:round; stroke-linejoin:round; stroke-width:4; stroke-opacity:1; fill:none\" points=\"\n",
       "  215.55,198.898 489.07,198.898 489.07,95.2176 215.55,95.2176 215.55,198.898 \n",
       "  \"/>\n",
       "<polyline clip-path=\"url(#clip590)\" style=\"stroke:#009af9; stroke-linecap:round; stroke-linejoin:round; stroke-width:4; stroke-opacity:1; fill:none\" points=\"\n",
       "  240.115,147.058 387.509,147.058 \n",
       "  \"/>\n",
       "<path clip-path=\"url(#clip590)\" d=\"M425.917 166.745 Q424.111 171.375 422.398 172.787 Q420.685 174.199 417.815 174.199 L414.412 174.199 L414.412 170.634 L416.912 170.634 Q418.672 170.634 419.644 169.8 Q420.616 168.967 421.797 165.865 L422.56 163.921 L412.074 138.412 L416.588 138.412 L424.69 158.689 L432.792 138.412 L437.306 138.412 L425.917 166.745 Z\" fill=\"#000000\" fill-rule=\"evenodd\" fill-opacity=\"1\" /><path clip-path=\"url(#clip590)\" d=\"M444.597 160.402 L452.236 160.402 L452.236 134.037 L443.926 135.703 L443.926 131.444 L452.19 129.778 L456.866 129.778 L456.866 160.402 L464.505 160.402 L464.505 164.338 L444.597 164.338 L444.597 160.402 Z\" fill=\"#000000\" fill-rule=\"evenodd\" fill-opacity=\"1\" /></svg>\n"
      ]
     },
     "execution_count": 31,
     "metadata": {},
     "output_type": "execute_result"
    }
   ],
   "source": [
    "if TRAINING\n",
    "    plot(episode_test_reward_hook.rewards)\n",
    "end"
   ]
  },
  {
   "cell_type": "code",
   "execution_count": 32,
   "id": "41c1dc36",
   "metadata": {},
   "outputs": [
    {
     "data": {
      "image/svg+xml": [
       "<?xml version=\"1.0\" encoding=\"utf-8\"?>\n",
       "<svg xmlns=\"http://www.w3.org/2000/svg\" xmlns:xlink=\"http://www.w3.org/1999/xlink\" width=\"600\" height=\"400\" viewBox=\"0 0 2400 1600\">\n",
       "<defs>\n",
       "  <clipPath id=\"clip630\">\n",
       "    <rect x=\"0\" y=\"0\" width=\"2400\" height=\"1600\"/>\n",
       "  </clipPath>\n",
       "</defs>\n",
       "<path clip-path=\"url(#clip630)\" d=\"\n",
       "M0 1600 L2400 1600 L2400 0 L0 0  Z\n",
       "  \" fill=\"#ffffff\" fill-rule=\"evenodd\" fill-opacity=\"1\"/>\n",
       "<defs>\n",
       "  <clipPath id=\"clip631\">\n",
       "    <rect x=\"480\" y=\"0\" width=\"1681\" height=\"1600\"/>\n",
       "  </clipPath>\n",
       "</defs>\n",
       "<path clip-path=\"url(#clip630)\" d=\"\n",
       "M169.121 1486.45 L2352.76 1486.45 L2352.76 47.2441 L169.121 47.2441  Z\n",
       "  \" fill=\"#ffffff\" fill-rule=\"evenodd\" fill-opacity=\"1\"/>\n",
       "<defs>\n",
       "  <clipPath id=\"clip632\">\n",
       "    <rect x=\"169\" y=\"47\" width=\"2185\" height=\"1440\"/>\n",
       "  </clipPath>\n",
       "</defs>\n",
       "<polyline clip-path=\"url(#clip632)\" style=\"stroke:#000000; stroke-linecap:round; stroke-linejoin:round; stroke-width:2; stroke-opacity:0.1; fill:none\" points=\"\n",
       "  220.57,1486.45 220.57,47.2441 \n",
       "  \"/>\n",
       "<polyline clip-path=\"url(#clip632)\" style=\"stroke:#000000; stroke-linecap:round; stroke-linejoin:round; stroke-width:2; stroke-opacity:0.1; fill:none\" points=\"\n",
       "  738.167,1486.45 738.167,47.2441 \n",
       "  \"/>\n",
       "<polyline clip-path=\"url(#clip632)\" style=\"stroke:#000000; stroke-linecap:round; stroke-linejoin:round; stroke-width:2; stroke-opacity:0.1; fill:none\" points=\"\n",
       "  1255.76,1486.45 1255.76,47.2441 \n",
       "  \"/>\n",
       "<polyline clip-path=\"url(#clip632)\" style=\"stroke:#000000; stroke-linecap:round; stroke-linejoin:round; stroke-width:2; stroke-opacity:0.1; fill:none\" points=\"\n",
       "  1773.36,1486.45 1773.36,47.2441 \n",
       "  \"/>\n",
       "<polyline clip-path=\"url(#clip632)\" style=\"stroke:#000000; stroke-linecap:round; stroke-linejoin:round; stroke-width:2; stroke-opacity:0.1; fill:none\" points=\"\n",
       "  2290.95,1486.45 2290.95,47.2441 \n",
       "  \"/>\n",
       "<polyline clip-path=\"url(#clip630)\" style=\"stroke:#000000; stroke-linecap:round; stroke-linejoin:round; stroke-width:4; stroke-opacity:1; fill:none\" points=\"\n",
       "  169.121,1486.45 2352.76,1486.45 \n",
       "  \"/>\n",
       "<polyline clip-path=\"url(#clip630)\" style=\"stroke:#000000; stroke-linecap:round; stroke-linejoin:round; stroke-width:4; stroke-opacity:1; fill:none\" points=\"\n",
       "  220.57,1486.45 220.57,1467.55 \n",
       "  \"/>\n",
       "<polyline clip-path=\"url(#clip630)\" style=\"stroke:#000000; stroke-linecap:round; stroke-linejoin:round; stroke-width:4; stroke-opacity:1; fill:none\" points=\"\n",
       "  738.167,1486.45 738.167,1467.55 \n",
       "  \"/>\n",
       "<polyline clip-path=\"url(#clip630)\" style=\"stroke:#000000; stroke-linecap:round; stroke-linejoin:round; stroke-width:4; stroke-opacity:1; fill:none\" points=\"\n",
       "  1255.76,1486.45 1255.76,1467.55 \n",
       "  \"/>\n",
       "<polyline clip-path=\"url(#clip630)\" style=\"stroke:#000000; stroke-linecap:round; stroke-linejoin:round; stroke-width:4; stroke-opacity:1; fill:none\" points=\"\n",
       "  1773.36,1486.45 1773.36,1467.55 \n",
       "  \"/>\n",
       "<polyline clip-path=\"url(#clip630)\" style=\"stroke:#000000; stroke-linecap:round; stroke-linejoin:round; stroke-width:4; stroke-opacity:1; fill:none\" points=\"\n",
       "  2290.95,1486.45 2290.95,1467.55 \n",
       "  \"/>\n",
       "<path clip-path=\"url(#clip630)\" d=\"M220.57 1517.37 Q216.959 1517.37 215.131 1520.93 Q213.325 1524.47 213.325 1531.6 Q213.325 1538.71 215.131 1542.27 Q216.959 1545.82 220.57 1545.82 Q224.205 1545.82 226.01 1542.27 Q227.839 1538.71 227.839 1531.6 Q227.839 1524.47 226.01 1520.93 Q224.205 1517.37 220.57 1517.37 M220.57 1513.66 Q226.381 1513.66 229.436 1518.27 Q232.515 1522.85 232.515 1531.6 Q232.515 1540.33 229.436 1544.94 Q226.381 1549.52 220.57 1549.52 Q214.76 1549.52 211.682 1544.94 Q208.626 1540.33 208.626 1531.6 Q208.626 1522.85 211.682 1518.27 Q214.76 1513.66 220.57 1513.66 Z\" fill=\"#000000\" fill-rule=\"evenodd\" fill-opacity=\"1\" /><path clip-path=\"url(#clip630)\" d=\"M712.866 1514.29 L731.222 1514.29 L731.222 1518.22 L717.148 1518.22 L717.148 1526.7 Q718.167 1526.35 719.185 1526.19 Q720.204 1526 721.222 1526 Q727.009 1526 730.389 1529.17 Q733.768 1532.34 733.768 1537.76 Q733.768 1543.34 730.296 1546.44 Q726.824 1549.52 720.505 1549.52 Q718.329 1549.52 716.06 1549.15 Q713.815 1548.78 711.407 1548.04 L711.407 1543.34 Q713.491 1544.47 715.713 1545.03 Q717.935 1545.58 720.412 1545.58 Q724.417 1545.58 726.755 1543.48 Q729.092 1541.37 729.092 1537.76 Q729.092 1534.15 726.755 1532.04 Q724.417 1529.94 720.412 1529.94 Q718.537 1529.94 716.662 1530.35 Q714.81 1530.77 712.866 1531.65 L712.866 1514.29 Z\" fill=\"#000000\" fill-rule=\"evenodd\" fill-opacity=\"1\" /><path clip-path=\"url(#clip630)\" d=\"M752.981 1517.37 Q749.37 1517.37 747.541 1520.93 Q745.736 1524.47 745.736 1531.6 Q745.736 1538.71 747.541 1542.27 Q749.37 1545.82 752.981 1545.82 Q756.615 1545.82 758.421 1542.27 Q760.25 1538.71 760.25 1531.6 Q760.25 1524.47 758.421 1520.93 Q756.615 1517.37 752.981 1517.37 M752.981 1513.66 Q758.791 1513.66 761.847 1518.27 Q764.926 1522.85 764.926 1531.6 Q764.926 1540.33 761.847 1544.94 Q758.791 1549.52 752.981 1549.52 Q747.171 1549.52 744.092 1544.94 Q741.037 1540.33 741.037 1531.6 Q741.037 1522.85 744.092 1518.27 Q747.171 1513.66 752.981 1513.66 Z\" fill=\"#000000\" fill-rule=\"evenodd\" fill-opacity=\"1\" /><path clip-path=\"url(#clip630)\" d=\"M1215.37 1544.91 L1223.01 1544.91 L1223.01 1518.55 L1214.7 1520.21 L1214.7 1515.95 L1222.96 1514.29 L1227.64 1514.29 L1227.64 1544.91 L1235.28 1544.91 L1235.28 1548.85 L1215.37 1548.85 L1215.37 1544.91 Z\" fill=\"#000000\" fill-rule=\"evenodd\" fill-opacity=\"1\" /><path clip-path=\"url(#clip630)\" d=\"M1254.72 1517.37 Q1251.11 1517.37 1249.28 1520.93 Q1247.48 1524.47 1247.48 1531.6 Q1247.48 1538.71 1249.28 1542.27 Q1251.11 1545.82 1254.72 1545.82 Q1258.36 1545.82 1260.16 1542.27 Q1261.99 1538.71 1261.99 1531.6 Q1261.99 1524.47 1260.16 1520.93 Q1258.36 1517.37 1254.72 1517.37 M1254.72 1513.66 Q1260.53 1513.66 1263.59 1518.27 Q1266.67 1522.85 1266.67 1531.6 Q1266.67 1540.33 1263.59 1544.94 Q1260.53 1549.52 1254.72 1549.52 Q1248.91 1549.52 1245.83 1544.94 Q1242.78 1540.33 1242.78 1531.6 Q1242.78 1522.85 1245.83 1518.27 Q1248.91 1513.66 1254.72 1513.66 Z\" fill=\"#000000\" fill-rule=\"evenodd\" fill-opacity=\"1\" /><path clip-path=\"url(#clip630)\" d=\"M1284.88 1517.37 Q1281.27 1517.37 1279.44 1520.93 Q1277.64 1524.47 1277.64 1531.6 Q1277.64 1538.71 1279.44 1542.27 Q1281.27 1545.82 1284.88 1545.82 Q1288.52 1545.82 1290.32 1542.27 Q1292.15 1538.71 1292.15 1531.6 Q1292.15 1524.47 1290.32 1520.93 Q1288.52 1517.37 1284.88 1517.37 M1284.88 1513.66 Q1290.69 1513.66 1293.75 1518.27 Q1296.83 1522.85 1296.83 1531.6 Q1296.83 1540.33 1293.75 1544.94 Q1290.69 1549.52 1284.88 1549.52 Q1279.07 1549.52 1275.99 1544.94 Q1272.94 1540.33 1272.94 1531.6 Q1272.94 1522.85 1275.99 1518.27 Q1279.07 1513.66 1284.88 1513.66 Z\" fill=\"#000000\" fill-rule=\"evenodd\" fill-opacity=\"1\" /><path clip-path=\"url(#clip630)\" d=\"M1732.97 1544.91 L1740.6 1544.91 L1740.6 1518.55 L1732.29 1520.21 L1732.29 1515.95 L1740.56 1514.29 L1745.23 1514.29 L1745.23 1544.91 L1752.87 1544.91 L1752.87 1548.85 L1732.97 1548.85 L1732.97 1544.91 Z\" fill=\"#000000\" fill-rule=\"evenodd\" fill-opacity=\"1\" /><path clip-path=\"url(#clip630)\" d=\"M1762.36 1514.29 L1780.72 1514.29 L1780.72 1518.22 L1766.65 1518.22 L1766.65 1526.7 Q1767.66 1526.35 1768.68 1526.19 Q1769.7 1526 1770.72 1526 Q1776.51 1526 1779.89 1529.17 Q1783.27 1532.34 1783.27 1537.76 Q1783.27 1543.34 1779.79 1546.44 Q1776.32 1549.52 1770 1549.52 Q1767.83 1549.52 1765.56 1549.15 Q1763.31 1548.78 1760.91 1548.04 L1760.91 1543.34 Q1762.99 1544.47 1765.21 1545.03 Q1767.43 1545.58 1769.91 1545.58 Q1773.91 1545.58 1776.25 1543.48 Q1778.59 1541.37 1778.59 1537.76 Q1778.59 1534.15 1776.25 1532.04 Q1773.91 1529.94 1769.91 1529.94 Q1768.03 1529.94 1766.16 1530.35 Q1764.31 1530.77 1762.36 1531.65 L1762.36 1514.29 Z\" fill=\"#000000\" fill-rule=\"evenodd\" fill-opacity=\"1\" /><path clip-path=\"url(#clip630)\" d=\"M1802.48 1517.37 Q1798.87 1517.37 1797.04 1520.93 Q1795.23 1524.47 1795.23 1531.6 Q1795.23 1538.71 1797.04 1542.27 Q1798.87 1545.82 1802.48 1545.82 Q1806.11 1545.82 1807.92 1542.27 Q1809.75 1538.71 1809.75 1531.6 Q1809.75 1524.47 1807.92 1520.93 Q1806.11 1517.37 1802.48 1517.37 M1802.48 1513.66 Q1808.29 1513.66 1811.34 1518.27 Q1814.42 1522.85 1814.42 1531.6 Q1814.42 1540.33 1811.34 1544.94 Q1808.29 1549.52 1802.48 1549.52 Q1796.67 1549.52 1793.59 1544.94 Q1790.53 1540.33 1790.53 1531.6 Q1790.53 1522.85 1793.59 1518.27 Q1796.67 1513.66 1802.48 1513.66 Z\" fill=\"#000000\" fill-rule=\"evenodd\" fill-opacity=\"1\" /><path clip-path=\"url(#clip630)\" d=\"M2254.65 1544.91 L2270.97 1544.91 L2270.97 1548.85 L2249.02 1548.85 L2249.02 1544.91 Q2251.68 1542.16 2256.27 1537.53 Q2260.87 1532.88 2262.05 1531.53 Q2264.3 1529.01 2265.18 1527.27 Q2266.08 1525.51 2266.08 1523.82 Q2266.08 1521.07 2264.14 1519.33 Q2262.22 1517.6 2259.11 1517.6 Q2256.92 1517.6 2254.46 1518.36 Q2252.03 1519.13 2249.25 1520.68 L2249.25 1515.95 Q2252.08 1514.82 2254.53 1514.24 Q2256.99 1513.66 2259.02 1513.66 Q2264.39 1513.66 2267.59 1516.35 Q2270.78 1519.03 2270.78 1523.52 Q2270.78 1525.65 2269.97 1527.57 Q2269.18 1529.47 2267.08 1532.07 Q2266.5 1532.74 2263.4 1535.95 Q2260.3 1539.15 2254.65 1544.91 Z\" fill=\"#000000\" fill-rule=\"evenodd\" fill-opacity=\"1\" /><path clip-path=\"url(#clip630)\" d=\"M2290.78 1517.37 Q2287.17 1517.37 2285.34 1520.93 Q2283.54 1524.47 2283.54 1531.6 Q2283.54 1538.71 2285.34 1542.27 Q2287.17 1545.82 2290.78 1545.82 Q2294.42 1545.82 2296.22 1542.27 Q2298.05 1538.71 2298.05 1531.6 Q2298.05 1524.47 2296.22 1520.93 Q2294.42 1517.37 2290.78 1517.37 M2290.78 1513.66 Q2296.59 1513.66 2299.65 1518.27 Q2302.73 1522.85 2302.73 1531.6 Q2302.73 1540.33 2299.65 1544.94 Q2296.59 1549.52 2290.78 1549.52 Q2284.97 1549.52 2281.89 1544.94 Q2278.84 1540.33 2278.84 1531.6 Q2278.84 1522.85 2281.89 1518.27 Q2284.97 1513.66 2290.78 1513.66 Z\" fill=\"#000000\" fill-rule=\"evenodd\" fill-opacity=\"1\" /><path clip-path=\"url(#clip630)\" d=\"M2320.94 1517.37 Q2317.33 1517.37 2315.5 1520.93 Q2313.7 1524.47 2313.7 1531.6 Q2313.7 1538.71 2315.5 1542.27 Q2317.33 1545.82 2320.94 1545.82 Q2324.58 1545.82 2326.38 1542.27 Q2328.21 1538.71 2328.21 1531.6 Q2328.21 1524.47 2326.38 1520.93 Q2324.58 1517.37 2320.94 1517.37 M2320.94 1513.66 Q2326.75 1513.66 2329.81 1518.27 Q2332.89 1522.85 2332.89 1531.6 Q2332.89 1540.33 2329.81 1544.94 Q2326.75 1549.52 2320.94 1549.52 Q2315.13 1549.52 2312.05 1544.94 Q2309 1540.33 2309 1531.6 Q2309 1522.85 2312.05 1518.27 Q2315.13 1513.66 2320.94 1513.66 Z\" fill=\"#000000\" fill-rule=\"evenodd\" fill-opacity=\"1\" /><polyline clip-path=\"url(#clip632)\" style=\"stroke:#000000; stroke-linecap:round; stroke-linejoin:round; stroke-width:2; stroke-opacity:0.1; fill:none\" points=\"\n",
       "  169.121,1316.41 2352.76,1316.41 \n",
       "  \"/>\n",
       "<polyline clip-path=\"url(#clip632)\" style=\"stroke:#000000; stroke-linecap:round; stroke-linejoin:round; stroke-width:2; stroke-opacity:0.1; fill:none\" points=\"\n",
       "  169.121,993.136 2352.76,993.136 \n",
       "  \"/>\n",
       "<polyline clip-path=\"url(#clip632)\" style=\"stroke:#000000; stroke-linecap:round; stroke-linejoin:round; stroke-width:2; stroke-opacity:0.1; fill:none\" points=\"\n",
       "  169.121,669.865 2352.76,669.865 \n",
       "  \"/>\n",
       "<polyline clip-path=\"url(#clip632)\" style=\"stroke:#000000; stroke-linecap:round; stroke-linejoin:round; stroke-width:2; stroke-opacity:0.1; fill:none\" points=\"\n",
       "  169.121,346.593 2352.76,346.593 \n",
       "  \"/>\n",
       "<polyline clip-path=\"url(#clip630)\" style=\"stroke:#000000; stroke-linecap:round; stroke-linejoin:round; stroke-width:4; stroke-opacity:1; fill:none\" points=\"\n",
       "  169.121,1486.45 169.121,47.2441 \n",
       "  \"/>\n",
       "<polyline clip-path=\"url(#clip630)\" style=\"stroke:#000000; stroke-linecap:round; stroke-linejoin:round; stroke-width:4; stroke-opacity:1; fill:none\" points=\"\n",
       "  169.121,1316.41 188.019,1316.41 \n",
       "  \"/>\n",
       "<polyline clip-path=\"url(#clip630)\" style=\"stroke:#000000; stroke-linecap:round; stroke-linejoin:round; stroke-width:4; stroke-opacity:1; fill:none\" points=\"\n",
       "  169.121,993.136 188.019,993.136 \n",
       "  \"/>\n",
       "<polyline clip-path=\"url(#clip630)\" style=\"stroke:#000000; stroke-linecap:round; stroke-linejoin:round; stroke-width:4; stroke-opacity:1; fill:none\" points=\"\n",
       "  169.121,669.865 188.019,669.865 \n",
       "  \"/>\n",
       "<polyline clip-path=\"url(#clip630)\" style=\"stroke:#000000; stroke-linecap:round; stroke-linejoin:round; stroke-width:4; stroke-opacity:1; fill:none\" points=\"\n",
       "  169.121,346.593 188.019,346.593 \n",
       "  \"/>\n",
       "<path clip-path=\"url(#clip630)\" d=\"M86.0382 1329.75 L102.358 1329.75 L102.358 1333.69 L80.4133 1333.69 L80.4133 1329.75 Q83.0753 1327 87.6586 1322.37 Q92.2651 1317.72 93.4456 1316.37 Q95.691 1313.85 96.5706 1312.11 Q97.4734 1310.35 97.4734 1308.66 Q97.4734 1305.91 95.5289 1304.17 Q93.6076 1302.44 90.5058 1302.44 Q88.3067 1302.44 85.8531 1303.2 Q83.4225 1303.97 80.6447 1305.52 L80.6447 1300.79 Q83.4688 1299.66 85.9225 1299.08 Q88.3762 1298.5 90.4132 1298.5 Q95.7836 1298.5 98.978 1301.19 Q102.172 1303.87 102.172 1308.36 Q102.172 1310.49 101.362 1312.41 Q100.575 1314.31 98.4687 1316.9 Q97.89 1317.58 94.7882 1320.79 Q91.6864 1323.99 86.0382 1329.75 Z\" fill=\"#000000\" fill-rule=\"evenodd\" fill-opacity=\"1\" /><path clip-path=\"url(#clip630)\" d=\"M112.219 1299.13 L130.575 1299.13 L130.575 1303.06 L116.501 1303.06 L116.501 1311.53 Q117.52 1311.19 118.538 1311.03 Q119.557 1310.84 120.575 1310.84 Q126.362 1310.84 129.742 1314.01 Q133.121 1317.18 133.121 1322.6 Q133.121 1328.18 129.649 1331.28 Q126.177 1334.36 119.857 1334.36 Q117.682 1334.36 115.413 1333.99 Q113.168 1333.62 110.76 1332.88 L110.76 1328.18 Q112.844 1329.31 115.066 1329.87 Q117.288 1330.42 119.765 1330.42 Q123.77 1330.42 126.107 1328.32 Q128.445 1326.21 128.445 1322.6 Q128.445 1318.99 126.107 1316.88 Q123.77 1314.78 119.765 1314.78 Q117.89 1314.78 116.015 1315.19 Q114.163 1315.61 112.219 1316.49 L112.219 1299.13 Z\" fill=\"#000000\" fill-rule=\"evenodd\" fill-opacity=\"1\" /><path clip-path=\"url(#clip630)\" d=\"M81.0614 975.856 L99.4178 975.856 L99.4178 979.791 L85.3438 979.791 L85.3438 988.263 Q86.3623 987.916 87.3808 987.754 Q88.3993 987.569 89.4178 987.569 Q95.2049 987.569 98.5845 990.74 Q101.964 993.911 101.964 999.328 Q101.964 1004.91 98.4919 1008.01 Q95.0197 1011.09 88.7003 1011.09 Q86.5243 1011.09 84.2558 1010.72 Q82.0105 1010.35 79.6031 1009.61 L79.6031 1004.91 Q81.6864 1006.04 83.9086 1006.6 Q86.1308 1007.15 88.6077 1007.15 Q92.6123 1007.15 94.9502 1005.05 Q97.2882 1002.94 97.2882 999.328 Q97.2882 995.717 94.9502 993.61 Q92.6123 991.504 88.6077 991.504 Q86.7327 991.504 84.8577 991.921 Q83.0058 992.337 81.0614 993.217 L81.0614 975.856 Z\" fill=\"#000000\" fill-rule=\"evenodd\" fill-opacity=\"1\" /><path clip-path=\"url(#clip630)\" d=\"M121.177 978.935 Q117.566 978.935 115.737 982.499 Q113.932 986.041 113.932 993.171 Q113.932 1000.28 115.737 1003.84 Q117.566 1007.38 121.177 1007.38 Q124.811 1007.38 126.617 1003.84 Q128.445 1000.28 128.445 993.171 Q128.445 986.041 126.617 982.499 Q124.811 978.935 121.177 978.935 M121.177 975.231 Q126.987 975.231 130.043 979.837 Q133.121 984.421 133.121 993.171 Q133.121 1001.9 130.043 1006.5 Q126.987 1011.09 121.177 1011.09 Q115.367 1011.09 112.288 1006.5 Q109.233 1001.9 109.233 993.171 Q109.233 984.421 112.288 979.837 Q115.367 975.231 121.177 975.231 Z\" fill=\"#000000\" fill-rule=\"evenodd\" fill-opacity=\"1\" /><path clip-path=\"url(#clip630)\" d=\"M80.8299 652.585 L103.052 652.585 L103.052 654.575 L90.5058 687.145 L85.6216 687.145 L97.4271 656.52 L80.8299 656.52 L80.8299 652.585 Z\" fill=\"#000000\" fill-rule=\"evenodd\" fill-opacity=\"1\" /><path clip-path=\"url(#clip630)\" d=\"M112.219 652.585 L130.575 652.585 L130.575 656.52 L116.501 656.52 L116.501 664.992 Q117.52 664.645 118.538 664.483 Q119.557 664.297 120.575 664.297 Q126.362 664.297 129.742 667.469 Q133.121 670.64 133.121 676.057 Q133.121 681.635 129.649 684.737 Q126.177 687.816 119.857 687.816 Q117.682 687.816 115.413 687.446 Q113.168 687.075 110.76 686.334 L110.76 681.635 Q112.844 682.77 115.066 683.325 Q117.288 683.881 119.765 683.881 Q123.77 683.881 126.107 681.774 Q128.445 679.668 128.445 676.057 Q128.445 672.446 126.107 670.339 Q123.77 668.233 119.765 668.233 Q117.89 668.233 116.015 668.649 Q114.163 669.066 112.219 669.946 L112.219 652.585 Z\" fill=\"#000000\" fill-rule=\"evenodd\" fill-opacity=\"1\" /><path clip-path=\"url(#clip630)\" d=\"M51.6634 359.938 L59.3023 359.938 L59.3023 333.573 L50.9921 335.239 L50.9921 330.98 L59.256 329.313 L63.9319 329.313 L63.9319 359.938 L71.5707 359.938 L71.5707 363.873 L51.6634 363.873 L51.6634 359.938 Z\" fill=\"#000000\" fill-rule=\"evenodd\" fill-opacity=\"1\" /><path clip-path=\"url(#clip630)\" d=\"M91.0151 332.392 Q87.404 332.392 85.5753 335.957 Q83.7697 339.498 83.7697 346.628 Q83.7697 353.734 85.5753 357.299 Q87.404 360.841 91.0151 360.841 Q94.6493 360.841 96.4548 357.299 Q98.2835 353.734 98.2835 346.628 Q98.2835 339.498 96.4548 335.957 Q94.6493 332.392 91.0151 332.392 M91.0151 328.688 Q96.8252 328.688 99.8808 333.295 Q102.959 337.878 102.959 346.628 Q102.959 355.355 99.8808 359.961 Q96.8252 364.545 91.0151 364.545 Q85.2049 364.545 82.1262 359.961 Q79.0707 355.355 79.0707 346.628 Q79.0707 337.878 82.1262 333.295 Q85.2049 328.688 91.0151 328.688 Z\" fill=\"#000000\" fill-rule=\"evenodd\" fill-opacity=\"1\" /><path clip-path=\"url(#clip630)\" d=\"M121.177 332.392 Q117.566 332.392 115.737 335.957 Q113.932 339.498 113.932 346.628 Q113.932 353.734 115.737 357.299 Q117.566 360.841 121.177 360.841 Q124.811 360.841 126.617 357.299 Q128.445 353.734 128.445 346.628 Q128.445 339.498 126.617 335.957 Q124.811 332.392 121.177 332.392 M121.177 328.688 Q126.987 328.688 130.043 333.295 Q133.121 337.878 133.121 346.628 Q133.121 355.355 130.043 359.961 Q126.987 364.545 121.177 364.545 Q115.367 364.545 112.288 359.961 Q109.233 355.355 109.233 346.628 Q109.233 337.878 112.288 333.295 Q115.367 328.688 121.177 328.688 Z\" fill=\"#000000\" fill-rule=\"evenodd\" fill-opacity=\"1\" /><polyline clip-path=\"url(#clip632)\" style=\"stroke:#009af9; stroke-linecap:round; stroke-linejoin:round; stroke-width:4; stroke-opacity:1; fill:none\" points=\"\n",
       "  230.922,1381.06 241.274,1419.85 251.626,1406.92 261.978,1406.92 272.33,1445.72 282.682,1381.06 293.034,1381.06 303.386,1368.13 313.738,1355.2 324.09,1368.13 \n",
       "  334.442,1368.13 344.793,1381.06 355.145,1368.13 365.497,1342.27 375.849,1368.13 386.201,1368.13 396.553,1355.2 406.905,1329.34 417.257,1342.27 427.609,1432.78 \n",
       "  437.961,1355.2 448.313,1329.34 458.665,1406.92 469.017,1316.41 479.368,1342.27 489.72,1277.61 500.072,1329.34 510.424,1290.55 520.776,1329.34 531.128,1406.92 \n",
       "  541.48,1355.2 551.832,1368.13 562.184,1200.03 572.536,1174.17 582.888,1212.96 593.24,1342.27 603.592,1200.03 613.943,1096.58 624.295,1342.27 634.647,1264.68 \n",
       "  644.999,1096.58 655.351,1187.1 665.703,1381.06 676.055,1057.79 686.407,1161.24 696.759,1251.75 707.111,1070.72 717.463,1096.58 727.815,954.343 738.167,941.412 \n",
       "  748.518,1161.24 758.87,1083.65 769.222,1200.03 779.574,1264.68 789.926,734.519 800.278,967.274 810.63,1174.17 820.982,1355.2 831.334,1109.51 841.686,734.519 \n",
       "  852.038,1057.79 862.39,1044.86 872.742,1135.38 883.093,1044.86 893.445,1135.38 903.797,1161.24 914.149,1212.96 924.501,1161.24 934.853,1019 945.205,980.205 \n",
       "  955.557,1406.92 965.909,915.551 976.261,1044.86 986.613,1161.24 996.965,1187.1 1007.32,669.865 1017.67,1019 1028.02,1044.86 1038.37,1070.72 1048.72,1044.86 \n",
       "  1059.08,954.343 1069.43,915.551 1079.78,87.9763 1090.13,1381.06 1100.48,954.343 1110.84,1044.86 1121.19,967.274 1131.54,1135.38 1141.89,1290.55 1152.24,1070.72 \n",
       "  1162.6,980.205 1172.95,1070.72 1183.3,1238.82 1193.65,1122.44 1204,760.381 1214.35,941.412 1224.71,734.519 1235.06,941.412 1245.41,980.205 1255.76,786.242 \n",
       "  1266.11,786.242 1276.47,902.62 1286.82,1329.34 1297.17,1019 1307.52,786.242 1317.87,889.689 1328.23,1122.44 1338.58,1135.38 1348.93,915.551 1359.28,1225.89 \n",
       "  1369.63,1251.75 1379.99,928.482 1390.34,1006.07 1400.69,721.588 1411.04,993.136 1421.39,915.551 1431.75,1174.17 1442.1,1251.75 1452.45,1200.03 1462.8,863.827 \n",
       "  1473.15,1006.07 1483.5,1031.93 1493.86,1212.96 1504.21,786.242 1514.56,1006.07 1524.91,1031.93 1535.26,462.971 1545.62,850.897 1555.97,889.689 1566.32,812.104 \n",
       "  1576.67,980.205 1587.02,721.588 1597.38,1161.24 1607.73,1083.65 1618.08,1122.44 1628.43,1044.86 1638.78,1006.07 1649.14,1277.61 1659.49,1019 1669.84,1174.17 \n",
       "  1680.19,850.897 1690.54,1057.79 1700.9,1057.79 1711.25,915.551 1721.6,799.173 1731.95,967.274 1742.3,1135.38 1752.65,1083.65 1763.01,863.827 1773.36,786.242 \n",
       "  1783.71,967.274 1794.06,1044.86 1804.41,941.412 1814.77,1096.58 1825.12,1122.44 1835.47,1238.82 1845.82,928.482 1856.17,1200.03 1866.53,889.689 1876.88,1174.17 \n",
       "  1887.23,1019 1897.58,876.758 1907.93,1122.44 1918.29,850.897 1928.64,967.274 1938.99,993.136 1949.34,747.45 1959.69,1251.75 1970.05,915.551 1980.4,1044.86 \n",
       "  1990.75,1225.89 2001.1,1187.1 2011.45,631.072 2021.8,967.274 2032.16,1148.31 2042.51,1006.07 2052.86,1083.65 2063.21,1161.24 2073.56,1238.82 2083.92,1238.82 \n",
       "  2094.27,1044.86 2104.62,1187.1 2114.97,876.758 2125.32,1006.07 2135.68,993.136 2146.03,1070.72 2156.38,902.62 2166.73,1174.17 2177.08,1200.03 2187.44,1031.93 \n",
       "  2197.79,825.035 2208.14,1122.44 2218.49,773.311 2228.84,1031.93 2239.2,850.897 2249.55,876.758 2259.9,1225.89 2270.25,1238.82 2280.6,928.482 2290.95,294.87 \n",
       "  \n",
       "  \"/>\n",
       "<path clip-path=\"url(#clip630)\" d=\"\n",
       "M241.909 198.898 L512.703 198.898 L512.703 95.2176 L241.909 95.2176  Z\n",
       "  \" fill=\"#ffffff\" fill-rule=\"evenodd\" fill-opacity=\"1\"/>\n",
       "<polyline clip-path=\"url(#clip630)\" style=\"stroke:#000000; stroke-linecap:round; stroke-linejoin:round; stroke-width:4; stroke-opacity:1; fill:none\" points=\"\n",
       "  241.909,198.898 512.703,198.898 512.703,95.2176 241.909,95.2176 241.909,198.898 \n",
       "  \"/>\n",
       "<polyline clip-path=\"url(#clip630)\" style=\"stroke:#009af9; stroke-linecap:round; stroke-linejoin:round; stroke-width:4; stroke-opacity:1; fill:none\" points=\"\n",
       "  266.172,147.058 411.747,147.058 \n",
       "  \"/>\n",
       "<path clip-path=\"url(#clip630)\" d=\"M449.853 166.745 Q448.047 171.375 446.334 172.787 Q444.621 174.199 441.751 174.199 L438.348 174.199 L438.348 170.634 L440.848 170.634 Q442.607 170.634 443.579 169.8 Q444.552 168.967 445.732 165.865 L446.496 163.921 L436.01 138.412 L440.524 138.412 L448.626 158.689 L456.727 138.412 L461.241 138.412 L449.853 166.745 Z\" fill=\"#000000\" fill-rule=\"evenodd\" fill-opacity=\"1\" /><path clip-path=\"url(#clip630)\" d=\"M468.533 160.402 L476.172 160.402 L476.172 134.037 L467.862 135.703 L467.862 131.444 L476.126 129.778 L480.801 129.778 L480.801 160.402 L488.44 160.402 L488.44 164.338 L468.533 164.338 L468.533 160.402 Z\" fill=\"#000000\" fill-rule=\"evenodd\" fill-opacity=\"1\" /></svg>\n"
      ]
     },
     "execution_count": 32,
     "metadata": {},
     "output_type": "execute_result"
    }
   ],
   "source": [
    "if TRAINING\n",
    "    plot(episode_test_step_hook.steps[1:2:end])\n",
    "end"
   ]
  },
  {
   "cell_type": "code",
   "execution_count": 33,
   "id": "0be19c7e",
   "metadata": {},
   "outputs": [],
   "source": [
    "close_visualization(); # closes the MeshCat visualization"
   ]
  },
  {
   "cell_type": "code",
   "execution_count": 34,
   "id": "04d683a2",
   "metadata": {},
   "outputs": [],
   "source": [
    "# Question: realtime is super fast , thrust wird sehr groß visuell\n",
    "# "
   ]
  },
  {
   "cell_type": "markdown",
   "id": "d1be7fc6",
   "metadata": {},
   "source": [
    "# Evaluation"
   ]
  },
  {
   "cell_type": "code",
   "execution_count": 35,
   "id": "8a39200a",
   "metadata": {},
   "outputs": [],
   "source": [
    "test_env = VtolEnv(;name = \"test_cf\");"
   ]
  },
  {
   "cell_type": "code",
   "execution_count": 36,
   "id": "345f65ce",
   "metadata": {},
   "outputs": [],
   "source": [
    "function loadModel(path, num)\n",
    "    f = joinpath(path, \"cf_ppo_$num.bson\") \n",
    "    @load f model\n",
    "    return model\n",
    "end;"
   ]
  },
  {
   "cell_type": "code",
   "execution_count": 37,
   "id": "ed379703",
   "metadata": {},
   "outputs": [],
   "source": [
    "function validate(num_models, num_test)\n",
    "    episode_test_reward_hook = TotalRewardPerEpisode(;is_display_on_exit=false)\n",
    "    # create a env only for reward test\n",
    "    #todo evtl mit multithreding\n",
    "    for i in 1:num_models\n",
    "          \n",
    "        sum_rewards_model = 0;\n",
    "        sum_successes_model = 0;\n",
    "        sum_avg_vel_model = 0;\n",
    "        sum_compl_time = 0;\n",
    "        n_success = 0;\n",
    "        \n",
    "        for exp in 1:num_test\n",
    "            if SLOW_MODE\n",
    "                path = \"./RL_models_slow/\"\n",
    "            else\n",
    "                path = \"./RL_models_fast/\"\n",
    "            end\n",
    "            agent.policy.approximator = loadModel(path, i * save_freq); \n",
    "            RLBase.reset!(test_env)\n",
    "            run(agent.policy, test_env, StopAfterEpisode(1), episode_test_reward_hook)\n",
    "            # the result of the hook\n",
    "            sum_rewards_model += episode_test_reward_hook.rewards[end];\n",
    "            \n",
    "            if test_env.reached_goal == trues(test_env.num_waypoints)\n",
    "                n_success += 1\n",
    "                sum_avg_vel_model += test_env.norm_way / test_env.t\n",
    "                sum_compl_time += test_env.t\n",
    "            end\n",
    "        end\n",
    "        \n",
    "        rewards[i] = sum_rewards_model / num_test;\n",
    "        success_rate[i] = n_success / num_test;\n",
    "        if n_success > 0\n",
    "            avg_velocity[i] = sum_avg_vel_model / n_success;\n",
    "            avg_compl_time[i] = sum_compl_time / n_success;\n",
    "        else\n",
    "            avg_velocity[i] = NaN\n",
    "            avg_compl_time[i] = NaN\n",
    "        end\n",
    "        percent = percent = round(i * 100 / num_models, digits=2)\n",
    "        print(\"progress: $(percent)%   \\r\")\n",
    "        flush(stdout)\n",
    "        \n",
    "    end\n",
    "    \n",
    "    \n",
    "end;"
   ]
  },
  {
   "cell_type": "code",
   "execution_count": 38,
   "id": "21a98dd6",
   "metadata": {
    "scrolled": true
   },
   "outputs": [
    {
     "name": "stdout",
     "output_type": "stream",
     "text": [
      "progress: 100.0%   \r"
     ]
    }
   ],
   "source": [
    "EVALUATION = true\n",
    "if EVALUATION\n",
    "    \n",
    "    num_model = Int(steps / save_freq); \n",
    "    num_test = 200; # TODO: change as desired \n",
    "\n",
    "    rewards = zeros(num_model, 1);\n",
    "    success_rate = zeros(num_model, 1);\n",
    "    avg_velocity = zeros(num_model, 1);\n",
    "    avg_compl_time = zeros(num_model, 1);\n",
    "\n",
    "    validate(num_model, num_test);\n",
    "    \n",
    "    results_path = pwd() * \"/plots/\";\n",
    "    if SLOW_MODE\n",
    "        results_path = results_path * \"slow/\"\n",
    "    else\n",
    "        results_path = results_path * \"fast/\"\n",
    "    end\n",
    "    \n",
    "    save(results_path * \"iterations.jld\", \"data\", [1:num_model] * save_freq) # todo save size auch in 2d\n",
    "    \n",
    "    save(results_path * \"avg_comp_time.jld\", \"data\", avg_compl_time)\n",
    "    \n",
    "    save(results_path * \"avg_velocity.jld\", \"data\", avg_velocity)\n",
    "    \n",
    "    save(results_path * \"reward.jld\", \"data\", rewards) \n",
    "        \n",
    "    save(results_path * \"success_rate.jld\", \"data\", success_rate)\n",
    "    \n",
    "end;"
   ]
  },
  {
   "cell_type": "code",
   "execution_count": 39,
   "id": "0ea2a032",
   "metadata": {},
   "outputs": [],
   "source": [
    "results_path = pwd() * \"/plots/\";\n",
    "if SLOW_MODE\n",
    "    results_path = results_path * \"slow/\"\n",
    "else\n",
    "    results_path = results_path * \"fast/\"\n",
    "end\n",
    "\n",
    "iterations = load(results_path * \"iterations.jld\")[\"data\"];\n",
    "avg_compl_time = load(results_path * \"avg_comp_time.jld\")[\"data\"];\n",
    "avg_velocity = load(results_path * \"avg_velocity.jld\")[\"data\"];\n",
    "rewards = load(results_path * \"reward.jld\")[\"data\"];\n",
    "success_rate = load(results_path * \"success_rate.jld\")[\"data\"];"
   ]
  },
  {
   "cell_type": "code",
   "execution_count": 40,
   "id": "26466af1",
   "metadata": {},
   "outputs": [
    {
     "data": {
      "text/plain": [
       "\"/home/larissa/Documents/Projects/ADLR/ADLR_project/src/3d/plots/slow/\""
      ]
     },
     "execution_count": 40,
     "metadata": {},
     "output_type": "execute_result"
    }
   ],
   "source": [
    "fig_path = pwd() * \"/plots/\";\n",
    "if SLOW_MODE\n",
    "    fig_path = fig_path * \"slow/\"\n",
    "else\n",
    "    fig_path = fig_path * \"fast/\"\n",
    "end"
   ]
  },
  {
   "cell_type": "code",
   "execution_count": 41,
   "id": "c4cc649e",
   "metadata": {},
   "outputs": [
    {
     "data": {
      "image/svg+xml": [
       "<?xml version=\"1.0\" encoding=\"utf-8\"?>\n",
       "<svg xmlns=\"http://www.w3.org/2000/svg\" xmlns:xlink=\"http://www.w3.org/1999/xlink\" width=\"600\" height=\"400\" viewBox=\"0 0 2400 1600\">\n",
       "<defs>\n",
       "  <clipPath id=\"clip670\">\n",
       "    <rect x=\"0\" y=\"0\" width=\"2400\" height=\"1600\"/>\n",
       "  </clipPath>\n",
       "</defs>\n",
       "<path clip-path=\"url(#clip670)\" d=\"\n",
       "M0 1600 L2400 1600 L2400 0 L0 0  Z\n",
       "  \" fill=\"#ffffff\" fill-rule=\"evenodd\" fill-opacity=\"1\"/>\n",
       "<defs>\n",
       "  <clipPath id=\"clip671\">\n",
       "    <rect x=\"480\" y=\"0\" width=\"1681\" height=\"1600\"/>\n",
       "  </clipPath>\n",
       "</defs>\n",
       "<path clip-path=\"url(#clip670)\" d=\"\n",
       "M203.964 1410.9 L2352.76 1410.9 L2352.76 47.2441 L203.964 47.2441  Z\n",
       "  \" fill=\"#ffffff\" fill-rule=\"evenodd\" fill-opacity=\"1\"/>\n",
       "<defs>\n",
       "  <clipPath id=\"clip672\">\n",
       "    <rect x=\"203\" y=\"47\" width=\"2150\" height=\"1365\"/>\n",
       "  </clipPath>\n",
       "</defs>\n",
       "<polyline clip-path=\"url(#clip672)\" style=\"stroke:#000000; stroke-linecap:round; stroke-linejoin:round; stroke-width:2; stroke-opacity:0.1; fill:none\" points=\"\n",
       "  254.592,1410.9 254.592,47.2441 \n",
       "  \"/>\n",
       "<polyline clip-path=\"url(#clip672)\" style=\"stroke:#000000; stroke-linecap:round; stroke-linejoin:round; stroke-width:2; stroke-opacity:0.1; fill:none\" points=\"\n",
       "  763.929,1410.9 763.929,47.2441 \n",
       "  \"/>\n",
       "<polyline clip-path=\"url(#clip672)\" style=\"stroke:#000000; stroke-linecap:round; stroke-linejoin:round; stroke-width:2; stroke-opacity:0.1; fill:none\" points=\"\n",
       "  1273.27,1410.9 1273.27,47.2441 \n",
       "  \"/>\n",
       "<polyline clip-path=\"url(#clip672)\" style=\"stroke:#000000; stroke-linecap:round; stroke-linejoin:round; stroke-width:2; stroke-opacity:0.1; fill:none\" points=\"\n",
       "  1782.6,1410.9 1782.6,47.2441 \n",
       "  \"/>\n",
       "<polyline clip-path=\"url(#clip672)\" style=\"stroke:#000000; stroke-linecap:round; stroke-linejoin:round; stroke-width:2; stroke-opacity:0.1; fill:none\" points=\"\n",
       "  2291.94,1410.9 2291.94,47.2441 \n",
       "  \"/>\n",
       "<polyline clip-path=\"url(#clip670)\" style=\"stroke:#000000; stroke-linecap:round; stroke-linejoin:round; stroke-width:4; stroke-opacity:1; fill:none\" points=\"\n",
       "  203.964,1410.9 2352.76,1410.9 \n",
       "  \"/>\n",
       "<polyline clip-path=\"url(#clip670)\" style=\"stroke:#000000; stroke-linecap:round; stroke-linejoin:round; stroke-width:4; stroke-opacity:1; fill:none\" points=\"\n",
       "  254.592,1410.9 254.592,1392 \n",
       "  \"/>\n",
       "<polyline clip-path=\"url(#clip670)\" style=\"stroke:#000000; stroke-linecap:round; stroke-linejoin:round; stroke-width:4; stroke-opacity:1; fill:none\" points=\"\n",
       "  763.929,1410.9 763.929,1392 \n",
       "  \"/>\n",
       "<polyline clip-path=\"url(#clip670)\" style=\"stroke:#000000; stroke-linecap:round; stroke-linejoin:round; stroke-width:4; stroke-opacity:1; fill:none\" points=\"\n",
       "  1273.27,1410.9 1273.27,1392 \n",
       "  \"/>\n",
       "<polyline clip-path=\"url(#clip670)\" style=\"stroke:#000000; stroke-linecap:round; stroke-linejoin:round; stroke-width:4; stroke-opacity:1; fill:none\" points=\"\n",
       "  1782.6,1410.9 1782.6,1392 \n",
       "  \"/>\n",
       "<polyline clip-path=\"url(#clip670)\" style=\"stroke:#000000; stroke-linecap:round; stroke-linejoin:round; stroke-width:4; stroke-opacity:1; fill:none\" points=\"\n",
       "  2291.94,1410.9 2291.94,1392 \n",
       "  \"/>\n",
       "<path clip-path=\"url(#clip670)\" d=\"M254.592 1441.82 Q250.981 1441.82 249.152 1445.38 Q247.346 1448.92 247.346 1456.05 Q247.346 1463.16 249.152 1466.72 Q250.981 1470.26 254.592 1470.26 Q258.226 1470.26 260.031 1466.72 Q261.86 1463.16 261.86 1456.05 Q261.86 1448.92 260.031 1445.38 Q258.226 1441.82 254.592 1441.82 M254.592 1438.11 Q260.402 1438.11 263.457 1442.72 Q266.536 1447.3 266.536 1456.05 Q266.536 1464.78 263.457 1469.38 Q260.402 1473.97 254.592 1473.97 Q248.782 1473.97 245.703 1469.38 Q242.647 1464.78 242.647 1456.05 Q242.647 1447.3 245.703 1442.72 Q248.782 1438.11 254.592 1438.11 Z\" fill=\"#000000\" fill-rule=\"evenodd\" fill-opacity=\"1\" /><path clip-path=\"url(#clip670)\" d=\"M656.294 1454.4 L674.651 1454.4 L674.651 1458.33 L660.577 1458.33 L660.577 1466.8 Q661.595 1466.46 662.614 1466.29 Q663.632 1466.11 664.651 1466.11 Q670.438 1466.11 673.817 1469.28 Q677.197 1472.45 677.197 1477.87 Q677.197 1483.45 673.725 1486.55 Q670.253 1489.63 663.933 1489.63 Q661.757 1489.63 659.489 1489.26 Q657.243 1488.89 654.836 1488.15 L654.836 1483.45 Q656.919 1484.58 659.142 1485.14 Q661.364 1485.69 663.841 1485.69 Q667.845 1485.69 670.183 1483.59 Q672.521 1481.48 672.521 1477.87 Q672.521 1474.26 670.183 1472.15 Q667.845 1470.04 663.841 1470.04 Q661.966 1470.04 660.091 1470.46 Q658.239 1470.88 656.294 1471.76 L656.294 1454.4 Z\" fill=\"#000000\" fill-rule=\"evenodd\" fill-opacity=\"1\" /><path clip-path=\"url(#clip670)\" d=\"M686.41 1483.08 L691.294 1483.08 L691.294 1488.96 L686.41 1488.96 L686.41 1483.08 Z\" fill=\"#000000\" fill-rule=\"evenodd\" fill-opacity=\"1\" /><path clip-path=\"url(#clip670)\" d=\"M711.479 1457.48 Q707.868 1457.48 706.039 1461.04 Q704.234 1464.58 704.234 1471.71 Q704.234 1478.82 706.039 1482.38 Q707.868 1485.92 711.479 1485.92 Q715.113 1485.92 716.919 1482.38 Q718.748 1478.82 718.748 1471.71 Q718.748 1464.58 716.919 1461.04 Q715.113 1457.48 711.479 1457.48 M711.479 1453.77 Q717.289 1453.77 720.345 1458.38 Q723.424 1462.96 723.424 1471.71 Q723.424 1480.44 720.345 1485.04 Q717.289 1489.63 711.479 1489.63 Q705.669 1489.63 702.59 1485.04 Q699.535 1480.44 699.535 1471.71 Q699.535 1462.96 702.59 1458.38 Q705.669 1453.77 711.479 1453.77 Z\" fill=\"#000000\" fill-rule=\"evenodd\" fill-opacity=\"1\" /><path clip-path=\"url(#clip670)\" d=\"M741.641 1457.48 Q738.03 1457.48 736.201 1461.04 Q734.396 1464.58 734.396 1471.71 Q734.396 1478.82 736.201 1482.38 Q738.03 1485.92 741.641 1485.92 Q745.275 1485.92 747.081 1482.38 Q748.91 1478.82 748.91 1471.71 Q748.91 1464.58 747.081 1461.04 Q745.275 1457.48 741.641 1457.48 M741.641 1453.77 Q747.451 1453.77 750.507 1458.38 Q753.585 1462.96 753.585 1471.71 Q753.585 1480.44 750.507 1485.04 Q747.451 1489.63 741.641 1489.63 Q735.831 1489.63 732.752 1485.04 Q729.697 1480.44 729.697 1471.71 Q729.697 1462.96 732.752 1458.38 Q735.831 1453.77 741.641 1453.77 Z\" fill=\"#000000\" fill-rule=\"evenodd\" fill-opacity=\"1\" /><path clip-path=\"url(#clip670)\" d=\"M789.974 1463.49 L779.396 1474.12 L789.974 1484.7 L787.22 1487.5 L776.595 1476.87 L765.97 1487.5 L763.238 1484.7 L773.794 1474.12 L763.238 1463.49 L765.97 1460.69 L776.595 1471.32 L787.22 1460.69 L789.974 1463.49 Z\" fill=\"#000000\" fill-rule=\"evenodd\" fill-opacity=\"1\" /><path clip-path=\"url(#clip670)\" d=\"M802.335 1485.02 L809.974 1485.02 L809.974 1458.66 L801.664 1460.32 L801.664 1456.06 L809.928 1454.4 L814.604 1454.4 L814.604 1485.02 L822.243 1485.02 L822.243 1488.96 L802.335 1488.96 L802.335 1485.02 Z\" fill=\"#000000\" fill-rule=\"evenodd\" fill-opacity=\"1\" /><path clip-path=\"url(#clip670)\" d=\"M841.687 1457.48 Q838.076 1457.48 836.247 1461.04 Q834.442 1464.58 834.442 1471.71 Q834.442 1478.82 836.247 1482.38 Q838.076 1485.92 841.687 1485.92 Q845.321 1485.92 847.127 1482.38 Q848.955 1478.82 848.955 1471.71 Q848.955 1464.58 847.127 1461.04 Q845.321 1457.48 841.687 1457.48 M841.687 1453.77 Q847.497 1453.77 850.553 1458.38 Q853.631 1462.96 853.631 1471.71 Q853.631 1480.44 850.553 1485.04 Q847.497 1489.63 841.687 1489.63 Q835.877 1489.63 832.798 1485.04 Q829.742 1480.44 829.742 1471.71 Q829.742 1462.96 832.798 1458.38 Q835.877 1453.77 841.687 1453.77 Z\" fill=\"#000000\" fill-rule=\"evenodd\" fill-opacity=\"1\" /><path clip-path=\"url(#clip670)\" d=\"M863.656 1445.99 Q861.098 1445.99 859.593 1447.74 Q858.107 1449.49 858.107 1452.54 Q858.107 1455.57 859.593 1457.33 Q861.098 1459.08 863.656 1459.08 Q866.214 1459.08 867.699 1457.33 Q869.204 1455.57 869.204 1452.54 Q869.204 1449.49 867.699 1447.74 Q866.214 1445.99 863.656 1445.99 M871.198 1434.09 L871.198 1437.55 Q869.768 1436.87 868.301 1436.51 Q866.853 1436.16 865.424 1436.16 Q861.662 1436.16 859.669 1438.69 Q857.694 1441.23 857.412 1446.37 Q858.521 1444.73 860.195 1443.87 Q861.869 1442.98 863.881 1442.98 Q868.113 1442.98 870.558 1445.56 Q873.022 1448.12 873.022 1452.54 Q873.022 1456.86 870.464 1459.48 Q867.906 1462.09 863.656 1462.09 Q858.785 1462.09 856.208 1458.37 Q853.631 1454.62 853.631 1447.53 Q853.631 1440.88 856.791 1436.93 Q859.951 1432.96 865.273 1432.96 Q866.703 1432.96 868.151 1433.24 Q869.618 1433.52 871.198 1434.09 Z\" fill=\"#000000\" fill-rule=\"evenodd\" fill-opacity=\"1\" /><path clip-path=\"url(#clip670)\" d=\"M1166.29 1485.02 L1173.93 1485.02 L1173.93 1458.66 L1165.62 1460.32 L1165.62 1456.06 L1173.88 1454.4 L1178.56 1454.4 L1178.56 1485.02 L1186.2 1485.02 L1186.2 1488.96 L1166.29 1488.96 L1166.29 1485.02 Z\" fill=\"#000000\" fill-rule=\"evenodd\" fill-opacity=\"1\" /><path clip-path=\"url(#clip670)\" d=\"M1195.64 1483.08 L1200.52 1483.08 L1200.52 1488.96 L1195.64 1488.96 L1195.64 1483.08 Z\" fill=\"#000000\" fill-rule=\"evenodd\" fill-opacity=\"1\" /><path clip-path=\"url(#clip670)\" d=\"M1220.71 1457.48 Q1217.1 1457.48 1215.27 1461.04 Q1213.46 1464.58 1213.46 1471.71 Q1213.46 1478.82 1215.27 1482.38 Q1217.1 1485.92 1220.71 1485.92 Q1224.34 1485.92 1226.15 1482.38 Q1227.98 1478.82 1227.98 1471.71 Q1227.98 1464.58 1226.15 1461.04 Q1224.34 1457.48 1220.71 1457.48 M1220.71 1453.77 Q1226.52 1453.77 1229.57 1458.38 Q1232.65 1462.96 1232.65 1471.71 Q1232.65 1480.44 1229.57 1485.04 Q1226.52 1489.63 1220.71 1489.63 Q1214.9 1489.63 1211.82 1485.04 Q1208.76 1480.44 1208.76 1471.71 Q1208.76 1462.96 1211.82 1458.38 Q1214.9 1453.77 1220.71 1453.77 Z\" fill=\"#000000\" fill-rule=\"evenodd\" fill-opacity=\"1\" /><path clip-path=\"url(#clip670)\" d=\"M1250.87 1457.48 Q1247.26 1457.48 1245.43 1461.04 Q1243.63 1464.58 1243.63 1471.71 Q1243.63 1478.82 1245.43 1482.38 Q1247.26 1485.92 1250.87 1485.92 Q1254.5 1485.92 1256.31 1482.38 Q1258.14 1478.82 1258.14 1471.71 Q1258.14 1464.58 1256.31 1461.04 Q1254.5 1457.48 1250.87 1457.48 M1250.87 1453.77 Q1256.68 1453.77 1259.74 1458.38 Q1262.82 1462.96 1262.82 1471.71 Q1262.82 1480.44 1259.74 1485.04 Q1256.68 1489.63 1250.87 1489.63 Q1245.06 1489.63 1241.98 1485.04 Q1238.93 1480.44 1238.93 1471.71 Q1238.93 1462.96 1241.98 1458.38 Q1245.06 1453.77 1250.87 1453.77 Z\" fill=\"#000000\" fill-rule=\"evenodd\" fill-opacity=\"1\" /><path clip-path=\"url(#clip670)\" d=\"M1299.2 1463.49 L1288.63 1474.12 L1299.2 1484.7 L1296.45 1487.5 L1285.82 1476.87 L1275.2 1487.5 L1272.47 1484.7 L1283.02 1474.12 L1272.47 1463.49 L1275.2 1460.69 L1285.82 1471.32 L1296.45 1460.69 L1299.2 1463.49 Z\" fill=\"#000000\" fill-rule=\"evenodd\" fill-opacity=\"1\" /><path clip-path=\"url(#clip670)\" d=\"M1311.56 1485.02 L1319.2 1485.02 L1319.2 1458.66 L1310.89 1460.32 L1310.89 1456.06 L1319.16 1454.4 L1323.83 1454.4 L1323.83 1485.02 L1331.47 1485.02 L1331.47 1488.96 L1311.56 1488.96 L1311.56 1485.02 Z\" fill=\"#000000\" fill-rule=\"evenodd\" fill-opacity=\"1\" /><path clip-path=\"url(#clip670)\" d=\"M1350.92 1457.48 Q1347.31 1457.48 1345.48 1461.04 Q1343.67 1464.58 1343.67 1471.71 Q1343.67 1478.82 1345.48 1482.38 Q1347.31 1485.92 1350.92 1485.92 Q1354.55 1485.92 1356.36 1482.38 Q1358.18 1478.82 1358.18 1471.71 Q1358.18 1464.58 1356.36 1461.04 Q1354.55 1457.48 1350.92 1457.48 M1350.92 1453.77 Q1356.73 1453.77 1359.78 1458.38 Q1362.86 1462.96 1362.86 1471.71 Q1362.86 1480.44 1359.78 1485.04 Q1356.73 1489.63 1350.92 1489.63 Q1345.11 1489.63 1342.03 1485.04 Q1338.97 1480.44 1338.97 1471.71 Q1338.97 1462.96 1342.03 1458.38 Q1345.11 1453.77 1350.92 1453.77 Z\" fill=\"#000000\" fill-rule=\"evenodd\" fill-opacity=\"1\" /><path clip-path=\"url(#clip670)\" d=\"M1362.86 1433.47 L1380.92 1433.47 L1380.92 1435.08 L1370.72 1461.55 L1366.75 1461.55 L1376.35 1436.66 L1362.86 1436.66 L1362.86 1433.47 Z\" fill=\"#000000\" fill-rule=\"evenodd\" fill-opacity=\"1\" /><path clip-path=\"url(#clip670)\" d=\"M1675.63 1485.02 L1683.26 1485.02 L1683.26 1458.66 L1674.95 1460.32 L1674.95 1456.06 L1683.22 1454.4 L1687.89 1454.4 L1687.89 1485.02 L1695.53 1485.02 L1695.53 1488.96 L1675.63 1488.96 L1675.63 1485.02 Z\" fill=\"#000000\" fill-rule=\"evenodd\" fill-opacity=\"1\" /><path clip-path=\"url(#clip670)\" d=\"M1704.98 1483.08 L1709.86 1483.08 L1709.86 1488.96 L1704.98 1488.96 L1704.98 1483.08 Z\" fill=\"#000000\" fill-rule=\"evenodd\" fill-opacity=\"1\" /><path clip-path=\"url(#clip670)\" d=\"M1720.09 1454.4 L1738.45 1454.4 L1738.45 1458.33 L1724.37 1458.33 L1724.37 1466.8 Q1725.39 1466.46 1726.41 1466.29 Q1727.43 1466.11 1728.45 1466.11 Q1734.24 1466.11 1737.62 1469.28 Q1741 1472.45 1741 1477.87 Q1741 1483.45 1737.52 1486.55 Q1734.05 1489.63 1727.73 1489.63 Q1725.56 1489.63 1723.29 1489.26 Q1721.04 1488.89 1718.63 1488.15 L1718.63 1483.45 Q1720.72 1484.58 1722.94 1485.14 Q1725.16 1485.69 1727.64 1485.69 Q1731.64 1485.69 1733.98 1483.59 Q1736.32 1481.48 1736.32 1477.87 Q1736.32 1474.26 1733.98 1472.15 Q1731.64 1470.04 1727.64 1470.04 Q1725.76 1470.04 1723.89 1470.46 Q1722.04 1470.88 1720.09 1471.76 L1720.09 1454.4 Z\" fill=\"#000000\" fill-rule=\"evenodd\" fill-opacity=\"1\" /><path clip-path=\"url(#clip670)\" d=\"M1760.21 1457.48 Q1756.6 1457.48 1754.77 1461.04 Q1752.96 1464.58 1752.96 1471.71 Q1752.96 1478.82 1754.77 1482.38 Q1756.6 1485.92 1760.21 1485.92 Q1763.84 1485.92 1765.65 1482.38 Q1767.48 1478.82 1767.48 1471.71 Q1767.48 1464.58 1765.65 1461.04 Q1763.84 1457.48 1760.21 1457.48 M1760.21 1453.77 Q1766.02 1453.77 1769.07 1458.38 Q1772.15 1462.96 1772.15 1471.71 Q1772.15 1480.44 1769.07 1485.04 Q1766.02 1489.63 1760.21 1489.63 Q1754.4 1489.63 1751.32 1485.04 Q1748.26 1480.44 1748.26 1471.71 Q1748.26 1462.96 1751.32 1458.38 Q1754.4 1453.77 1760.21 1453.77 Z\" fill=\"#000000\" fill-rule=\"evenodd\" fill-opacity=\"1\" /><path clip-path=\"url(#clip670)\" d=\"M1808.54 1463.49 L1797.96 1474.12 L1808.54 1484.7 L1805.79 1487.5 L1795.16 1476.87 L1784.54 1487.5 L1781.81 1484.7 L1792.36 1474.12 L1781.81 1463.49 L1784.54 1460.69 L1795.16 1471.32 L1805.79 1460.69 L1808.54 1463.49 Z\" fill=\"#000000\" fill-rule=\"evenodd\" fill-opacity=\"1\" /><path clip-path=\"url(#clip670)\" d=\"M1820.9 1485.02 L1828.54 1485.02 L1828.54 1458.66 L1820.23 1460.32 L1820.23 1456.06 L1828.49 1454.4 L1833.17 1454.4 L1833.17 1485.02 L1840.81 1485.02 L1840.81 1488.96 L1820.9 1488.96 L1820.9 1485.02 Z\" fill=\"#000000\" fill-rule=\"evenodd\" fill-opacity=\"1\" /><path clip-path=\"url(#clip670)\" d=\"M1860.25 1457.48 Q1856.64 1457.48 1854.81 1461.04 Q1853.01 1464.58 1853.01 1471.71 Q1853.01 1478.82 1854.81 1482.38 Q1856.64 1485.92 1860.25 1485.92 Q1863.89 1485.92 1865.69 1482.38 Q1867.52 1478.82 1867.52 1471.71 Q1867.52 1464.58 1865.69 1461.04 Q1863.89 1457.48 1860.25 1457.48 M1860.25 1453.77 Q1866.06 1453.77 1869.12 1458.38 Q1872.2 1462.96 1872.2 1471.71 Q1872.2 1480.44 1869.12 1485.04 Q1866.06 1489.63 1860.25 1489.63 Q1854.44 1489.63 1851.36 1485.04 Q1848.31 1480.44 1848.31 1471.71 Q1848.31 1462.96 1851.36 1458.38 Q1854.44 1453.77 1860.25 1453.77 Z\" fill=\"#000000\" fill-rule=\"evenodd\" fill-opacity=\"1\" /><path clip-path=\"url(#clip670)\" d=\"M1872.2 1433.47 L1890.25 1433.47 L1890.25 1435.08 L1880.06 1461.55 L1876.09 1461.55 L1885.68 1436.66 L1872.2 1436.66 L1872.2 1433.47 Z\" fill=\"#000000\" fill-rule=\"evenodd\" fill-opacity=\"1\" /><path clip-path=\"url(#clip670)\" d=\"M2189.05 1485.02 L2205.37 1485.02 L2205.37 1488.96 L2183.42 1488.96 L2183.42 1485.02 Q2186.09 1482.27 2190.67 1477.64 Q2195.27 1472.98 2196.46 1471.64 Q2198.7 1469.12 2199.58 1467.38 Q2200.48 1465.62 2200.48 1463.93 Q2200.48 1461.18 2198.54 1459.44 Q2196.62 1457.71 2193.52 1457.71 Q2191.32 1457.71 2188.86 1458.47 Q2186.43 1459.23 2183.65 1460.79 L2183.65 1456.06 Q2186.48 1454.93 2188.93 1454.35 Q2191.39 1453.77 2193.42 1453.77 Q2198.79 1453.77 2201.99 1456.46 Q2205.18 1459.14 2205.18 1463.63 Q2205.18 1465.76 2204.37 1467.68 Q2203.59 1469.58 2201.48 1472.17 Q2200.9 1472.85 2197.8 1476.06 Q2194.7 1479.26 2189.05 1485.02 Z\" fill=\"#000000\" fill-rule=\"evenodd\" fill-opacity=\"1\" /><path clip-path=\"url(#clip670)\" d=\"M2215.18 1483.08 L2220.07 1483.08 L2220.07 1488.96 L2215.18 1488.96 L2215.18 1483.08 Z\" fill=\"#000000\" fill-rule=\"evenodd\" fill-opacity=\"1\" /><path clip-path=\"url(#clip670)\" d=\"M2240.25 1457.48 Q2236.64 1457.48 2234.81 1461.04 Q2233.01 1464.58 2233.01 1471.71 Q2233.01 1478.82 2234.81 1482.38 Q2236.64 1485.92 2240.25 1485.92 Q2243.89 1485.92 2245.69 1482.38 Q2247.52 1478.82 2247.52 1471.71 Q2247.52 1464.58 2245.69 1461.04 Q2243.89 1457.48 2240.25 1457.48 M2240.25 1453.77 Q2246.06 1453.77 2249.12 1458.38 Q2252.2 1462.96 2252.2 1471.71 Q2252.2 1480.44 2249.12 1485.04 Q2246.06 1489.63 2240.25 1489.63 Q2234.44 1489.63 2231.36 1485.04 Q2228.31 1480.44 2228.31 1471.71 Q2228.31 1462.96 2231.36 1458.38 Q2234.44 1453.77 2240.25 1453.77 Z\" fill=\"#000000\" fill-rule=\"evenodd\" fill-opacity=\"1\" /><path clip-path=\"url(#clip670)\" d=\"M2270.41 1457.48 Q2266.8 1457.48 2264.97 1461.04 Q2263.17 1464.58 2263.17 1471.71 Q2263.17 1478.82 2264.97 1482.38 Q2266.8 1485.92 2270.41 1485.92 Q2274.05 1485.92 2275.85 1482.38 Q2277.68 1478.82 2277.68 1471.71 Q2277.68 1464.58 2275.85 1461.04 Q2274.05 1457.48 2270.41 1457.48 M2270.41 1453.77 Q2276.22 1453.77 2279.28 1458.38 Q2282.36 1462.96 2282.36 1471.71 Q2282.36 1480.44 2279.28 1485.04 Q2276.22 1489.63 2270.41 1489.63 Q2264.6 1489.63 2261.52 1485.04 Q2258.47 1480.44 2258.47 1471.71 Q2258.47 1462.96 2261.52 1458.38 Q2264.6 1453.77 2270.41 1453.77 Z\" fill=\"#000000\" fill-rule=\"evenodd\" fill-opacity=\"1\" /><path clip-path=\"url(#clip670)\" d=\"M2318.75 1463.49 L2308.17 1474.12 L2318.75 1484.7 L2315.99 1487.5 L2305.37 1476.87 L2294.74 1487.5 L2292.01 1484.7 L2302.57 1474.12 L2292.01 1463.49 L2294.74 1460.69 L2305.37 1471.32 L2315.99 1460.69 L2318.75 1463.49 Z\" fill=\"#000000\" fill-rule=\"evenodd\" fill-opacity=\"1\" /><path clip-path=\"url(#clip670)\" d=\"M2331.11 1485.02 L2338.75 1485.02 L2338.75 1458.66 L2330.44 1460.32 L2330.44 1456.06 L2338.7 1454.4 L2343.38 1454.4 L2343.38 1485.02 L2351.01 1485.02 L2351.01 1488.96 L2331.11 1488.96 L2331.11 1485.02 Z\" fill=\"#000000\" fill-rule=\"evenodd\" fill-opacity=\"1\" /><path clip-path=\"url(#clip670)\" d=\"M2370.46 1457.48 Q2366.85 1457.48 2365.02 1461.04 Q2363.21 1464.58 2363.21 1471.71 Q2363.21 1478.82 2365.02 1482.38 Q2366.85 1485.92 2370.46 1485.92 Q2374.09 1485.92 2375.9 1482.38 Q2377.73 1478.82 2377.73 1471.71 Q2377.73 1464.58 2375.9 1461.04 Q2374.09 1457.48 2370.46 1457.48 M2370.46 1453.77 Q2376.27 1453.77 2379.32 1458.38 Q2382.4 1462.96 2382.4 1471.71 Q2382.4 1480.44 2379.32 1485.04 Q2376.27 1489.63 2370.46 1489.63 Q2364.65 1489.63 2361.57 1485.04 Q2358.51 1480.44 2358.51 1471.71 Q2358.51 1462.96 2361.57 1458.38 Q2364.65 1453.77 2370.46 1453.77 Z\" fill=\"#000000\" fill-rule=\"evenodd\" fill-opacity=\"1\" /><path clip-path=\"url(#clip670)\" d=\"M2382.4 1433.47 L2400.46 1433.47 L2400.46 1435.08 L2390.27 1461.55 L2386.3 1461.55 L2395.89 1436.66 L2382.4 1436.66 L2382.4 1433.47 Z\" fill=\"#000000\" fill-rule=\"evenodd\" fill-opacity=\"1\" /><path clip-path=\"url(#clip670)\" d=\"M1127.92 1526.67 L1134.35 1526.67 L1134.35 1574.19 L1127.92 1574.19 L1127.92 1526.67 Z\" fill=\"#000000\" fill-rule=\"evenodd\" fill-opacity=\"1\" /><path clip-path=\"url(#clip670)\" d=\"M1152.68 1528.42 L1152.68 1538.54 L1164.75 1538.54 L1164.75 1543.09 L1152.68 1543.09 L1152.68 1562.44 Q1152.68 1566.8 1153.86 1568.04 Q1155.07 1569.28 1158.73 1569.28 L1164.75 1569.28 L1164.75 1574.19 L1158.73 1574.19 Q1151.95 1574.19 1149.37 1571.67 Q1146.8 1569.12 1146.8 1562.44 L1146.8 1543.09 L1142.5 1543.09 L1142.5 1538.54 L1146.8 1538.54 L1146.8 1528.42 L1152.68 1528.42 Z\" fill=\"#000000\" fill-rule=\"evenodd\" fill-opacity=\"1\" /><path clip-path=\"url(#clip670)\" d=\"M1202.94 1554.9 L1202.94 1557.76 L1176.02 1557.76 Q1176.4 1563.81 1179.64 1566.99 Q1182.92 1570.14 1188.75 1570.14 Q1192.12 1570.14 1195.27 1569.32 Q1198.45 1568.49 1201.57 1566.83 L1201.57 1572.37 Q1198.42 1573.71 1195.11 1574.41 Q1191.8 1575.11 1188.4 1575.11 Q1179.87 1575.11 1174.87 1570.14 Q1169.9 1565.18 1169.9 1556.71 Q1169.9 1547.96 1174.61 1542.83 Q1179.36 1537.68 1187.38 1537.68 Q1194.57 1537.68 1198.74 1542.33 Q1202.94 1546.94 1202.94 1554.9 M1197.09 1553.18 Q1197.02 1548.37 1194.38 1545.51 Q1191.77 1542.64 1187.44 1542.64 Q1182.54 1542.64 1179.58 1545.41 Q1176.65 1548.18 1176.21 1553.21 L1197.09 1553.18 Z\" fill=\"#000000\" fill-rule=\"evenodd\" fill-opacity=\"1\" /><path clip-path=\"url(#clip670)\" d=\"M1233.21 1544.01 Q1232.22 1543.44 1231.05 1543.18 Q1229.9 1542.9 1228.5 1542.9 Q1223.54 1542.9 1220.86 1546.14 Q1218.22 1549.36 1218.22 1555.41 L1218.22 1574.19 L1212.33 1574.19 L1212.33 1538.54 L1218.22 1538.54 L1218.22 1544.08 Q1220.07 1540.83 1223.03 1539.27 Q1225.99 1537.68 1230.22 1537.68 Q1230.82 1537.68 1231.56 1537.77 Q1232.29 1537.84 1233.18 1538 L1233.21 1544.01 Z\" fill=\"#000000\" fill-rule=\"evenodd\" fill-opacity=\"1\" /><path clip-path=\"url(#clip670)\" d=\"M1255.55 1556.27 Q1248.46 1556.27 1245.72 1557.89 Q1242.98 1559.51 1242.98 1563.43 Q1242.98 1566.55 1245.02 1568.39 Q1247.09 1570.21 1250.62 1570.21 Q1255.49 1570.21 1258.42 1566.77 Q1261.38 1563.3 1261.38 1557.57 L1261.38 1556.27 L1255.55 1556.27 M1267.24 1553.85 L1267.24 1574.19 L1261.38 1574.19 L1261.38 1568.77 Q1259.37 1572.02 1256.38 1573.58 Q1253.39 1575.11 1249.06 1575.11 Q1243.59 1575.11 1240.34 1572.05 Q1237.13 1568.97 1237.13 1563.81 Q1237.13 1557.79 1241.14 1554.74 Q1245.18 1551.68 1253.17 1551.68 L1261.38 1551.68 L1261.38 1551.11 Q1261.38 1547.07 1258.71 1544.87 Q1256.06 1542.64 1251.26 1542.64 Q1248.2 1542.64 1245.31 1543.38 Q1242.41 1544.11 1239.74 1545.57 L1239.74 1540.16 Q1242.95 1538.92 1245.97 1538.31 Q1249 1537.68 1251.86 1537.68 Q1259.6 1537.68 1263.42 1541.69 Q1267.24 1545.7 1267.24 1553.85 Z\" fill=\"#000000\" fill-rule=\"evenodd\" fill-opacity=\"1\" /><path clip-path=\"url(#clip670)\" d=\"M1285.09 1528.42 L1285.09 1538.54 L1297.15 1538.54 L1297.15 1543.09 L1285.09 1543.09 L1285.09 1562.44 Q1285.09 1566.8 1286.27 1568.04 Q1287.48 1569.28 1291.14 1569.28 L1297.15 1569.28 L1297.15 1574.19 L1291.14 1574.19 Q1284.36 1574.19 1281.78 1571.67 Q1279.2 1569.12 1279.2 1562.44 L1279.2 1543.09 L1274.91 1543.09 L1274.91 1538.54 L1279.2 1538.54 L1279.2 1528.42 L1285.09 1528.42 Z\" fill=\"#000000\" fill-rule=\"evenodd\" fill-opacity=\"1\" /><path clip-path=\"url(#clip670)\" d=\"M1304.86 1538.54 L1310.71 1538.54 L1310.71 1574.19 L1304.86 1574.19 L1304.86 1538.54 M1304.86 1524.66 L1310.71 1524.66 L1310.71 1532.08 L1304.86 1532.08 L1304.86 1524.66 Z\" fill=\"#000000\" fill-rule=\"evenodd\" fill-opacity=\"1\" /><path clip-path=\"url(#clip670)\" d=\"M1336.78 1542.64 Q1332.07 1542.64 1329.33 1546.34 Q1326.6 1550 1326.6 1556.39 Q1326.6 1562.79 1329.3 1566.48 Q1332.04 1570.14 1336.78 1570.14 Q1341.46 1570.14 1344.2 1566.45 Q1346.93 1562.76 1346.93 1556.39 Q1346.93 1550.06 1344.2 1546.37 Q1341.46 1542.64 1336.78 1542.64 M1336.78 1537.68 Q1344.42 1537.68 1348.78 1542.64 Q1353.14 1547.61 1353.14 1556.39 Q1353.14 1565.15 1348.78 1570.14 Q1344.42 1575.11 1336.78 1575.11 Q1329.11 1575.11 1324.75 1570.14 Q1320.42 1565.15 1320.42 1556.39 Q1320.42 1547.61 1324.75 1542.64 Q1329.11 1537.68 1336.78 1537.68 Z\" fill=\"#000000\" fill-rule=\"evenodd\" fill-opacity=\"1\" /><path clip-path=\"url(#clip670)\" d=\"M1392.48 1552.67 L1392.48 1574.19 L1386.62 1574.19 L1386.62 1552.86 Q1386.62 1547.8 1384.65 1545.29 Q1382.68 1542.77 1378.73 1542.77 Q1373.99 1542.77 1371.25 1545.79 Q1368.51 1548.82 1368.51 1554.04 L1368.51 1574.19 L1362.63 1574.19 L1362.63 1538.54 L1368.51 1538.54 L1368.51 1544.08 Q1370.61 1540.86 1373.45 1539.27 Q1376.31 1537.68 1380.04 1537.68 Q1386.18 1537.68 1389.33 1541.5 Q1392.48 1545.29 1392.48 1552.67 Z\" fill=\"#000000\" fill-rule=\"evenodd\" fill-opacity=\"1\" /><path clip-path=\"url(#clip670)\" d=\"M1426.89 1539.59 L1426.89 1545.13 Q1424.4 1543.85 1421.73 1543.22 Q1419.06 1542.58 1416.19 1542.58 Q1411.83 1542.58 1409.64 1543.92 Q1407.47 1545.25 1407.47 1547.93 Q1407.47 1549.96 1409.03 1551.14 Q1410.59 1552.29 1415.3 1553.34 L1417.31 1553.78 Q1423.55 1555.12 1426.16 1557.57 Q1428.8 1559.99 1428.8 1564.35 Q1428.8 1569.32 1424.85 1572.21 Q1420.94 1575.11 1414.06 1575.11 Q1411.2 1575.11 1408.08 1574.54 Q1404.99 1573.99 1401.55 1572.88 L1401.55 1566.83 Q1404.8 1568.52 1407.95 1569.38 Q1411.1 1570.21 1414.19 1570.21 Q1418.33 1570.21 1420.55 1568.81 Q1422.78 1567.37 1422.78 1564.8 Q1422.78 1562.41 1421.16 1561.14 Q1419.57 1559.86 1414.12 1558.68 L1412.09 1558.21 Q1406.64 1557.06 1404.23 1554.71 Q1401.81 1552.32 1401.81 1548.18 Q1401.81 1543.15 1405.37 1540.42 Q1408.94 1537.68 1415.49 1537.68 Q1418.74 1537.68 1421.6 1538.16 Q1424.47 1538.63 1426.89 1539.59 Z\" fill=\"#000000\" fill-rule=\"evenodd\" fill-opacity=\"1\" /><polyline clip-path=\"url(#clip672)\" style=\"stroke:#000000; stroke-linecap:round; stroke-linejoin:round; stroke-width:2; stroke-opacity:0.1; fill:none\" points=\"\n",
       "  203.964,1325.19 2352.76,1325.19 \n",
       "  \"/>\n",
       "<polyline clip-path=\"url(#clip672)\" style=\"stroke:#000000; stroke-linecap:round; stroke-linejoin:round; stroke-width:2; stroke-opacity:0.1; fill:none\" points=\"\n",
       "  203.964,984.079 2352.76,984.079 \n",
       "  \"/>\n",
       "<polyline clip-path=\"url(#clip672)\" style=\"stroke:#000000; stroke-linecap:round; stroke-linejoin:round; stroke-width:2; stroke-opacity:0.1; fill:none\" points=\"\n",
       "  203.964,642.97 2352.76,642.97 \n",
       "  \"/>\n",
       "<polyline clip-path=\"url(#clip672)\" style=\"stroke:#000000; stroke-linecap:round; stroke-linejoin:round; stroke-width:2; stroke-opacity:0.1; fill:none\" points=\"\n",
       "  203.964,301.861 2352.76,301.861 \n",
       "  \"/>\n",
       "<polyline clip-path=\"url(#clip670)\" style=\"stroke:#000000; stroke-linecap:round; stroke-linejoin:round; stroke-width:4; stroke-opacity:1; fill:none\" points=\"\n",
       "  203.964,1410.9 203.964,47.2441 \n",
       "  \"/>\n",
       "<polyline clip-path=\"url(#clip670)\" style=\"stroke:#000000; stroke-linecap:round; stroke-linejoin:round; stroke-width:4; stroke-opacity:1; fill:none\" points=\"\n",
       "  203.964,1325.19 222.861,1325.19 \n",
       "  \"/>\n",
       "<polyline clip-path=\"url(#clip670)\" style=\"stroke:#000000; stroke-linecap:round; stroke-linejoin:round; stroke-width:4; stroke-opacity:1; fill:none\" points=\"\n",
       "  203.964,984.079 222.861,984.079 \n",
       "  \"/>\n",
       "<polyline clip-path=\"url(#clip670)\" style=\"stroke:#000000; stroke-linecap:round; stroke-linejoin:round; stroke-width:4; stroke-opacity:1; fill:none\" points=\"\n",
       "  203.964,642.97 222.861,642.97 \n",
       "  \"/>\n",
       "<polyline clip-path=\"url(#clip670)\" style=\"stroke:#000000; stroke-linecap:round; stroke-linejoin:round; stroke-width:4; stroke-opacity:1; fill:none\" points=\"\n",
       "  203.964,301.861 222.861,301.861 \n",
       "  \"/>\n",
       "<path clip-path=\"url(#clip670)\" d=\"M156.019 1310.99 Q152.408 1310.99 150.579 1314.55 Q148.774 1318.09 148.774 1325.22 Q148.774 1332.33 150.579 1335.89 Q152.408 1339.43 156.019 1339.43 Q159.653 1339.43 161.459 1335.89 Q163.288 1332.33 163.288 1325.22 Q163.288 1318.09 161.459 1314.55 Q159.653 1310.99 156.019 1310.99 M156.019 1307.28 Q161.829 1307.28 164.885 1311.89 Q167.964 1316.47 167.964 1325.22 Q167.964 1333.95 164.885 1338.56 Q161.829 1343.14 156.019 1343.14 Q150.209 1343.14 147.13 1338.56 Q144.075 1333.95 144.075 1325.22 Q144.075 1316.47 147.13 1311.89 Q150.209 1307.28 156.019 1307.28 Z\" fill=\"#000000\" fill-rule=\"evenodd\" fill-opacity=\"1\" /><path clip-path=\"url(#clip670)\" d=\"M116.668 997.423 L124.306 997.423 L124.306 971.058 L115.996 972.724 L115.996 968.465 L124.26 966.799 L128.936 966.799 L128.936 997.423 L136.575 997.423 L136.575 1001.36 L116.668 1001.36 L116.668 997.423 Z\" fill=\"#000000\" fill-rule=\"evenodd\" fill-opacity=\"1\" /><path clip-path=\"url(#clip670)\" d=\"M156.019 969.877 Q152.408 969.877 150.579 973.442 Q148.774 976.984 148.774 984.113 Q148.774 991.22 150.579 994.785 Q152.408 998.326 156.019 998.326 Q159.653 998.326 161.459 994.785 Q163.288 991.22 163.288 984.113 Q163.288 976.984 161.459 973.442 Q159.653 969.877 156.019 969.877 M156.019 966.174 Q161.829 966.174 164.885 970.78 Q167.964 975.363 167.964 984.113 Q167.964 992.84 164.885 997.447 Q161.829 1002.03 156.019 1002.03 Q150.209 1002.03 147.13 997.447 Q144.075 992.84 144.075 984.113 Q144.075 975.363 147.13 970.78 Q150.209 966.174 156.019 966.174 Z\" fill=\"#000000\" fill-rule=\"evenodd\" fill-opacity=\"1\" /><path clip-path=\"url(#clip670)\" d=\"M119.885 656.315 L136.204 656.315 L136.204 660.25 L114.26 660.25 L114.26 656.315 Q116.922 653.56 121.505 648.931 Q126.112 644.278 127.292 642.935 Q129.538 640.412 130.417 638.676 Q131.32 636.917 131.32 635.227 Q131.32 632.472 129.376 630.736 Q127.455 629 124.353 629 Q122.154 629 119.7 629.764 Q117.269 630.528 114.492 632.079 L114.492 627.357 Q117.316 626.222 119.769 625.644 Q122.223 625.065 124.26 625.065 Q129.63 625.065 132.825 627.75 Q136.019 630.435 136.019 634.926 Q136.019 637.056 135.209 638.977 Q134.422 640.875 132.316 643.468 Q131.737 644.139 128.635 647.357 Q125.533 650.551 119.885 656.315 Z\" fill=\"#000000\" fill-rule=\"evenodd\" fill-opacity=\"1\" /><path clip-path=\"url(#clip670)\" d=\"M156.019 628.769 Q152.408 628.769 150.579 632.333 Q148.774 635.875 148.774 643.005 Q148.774 650.111 150.579 653.676 Q152.408 657.218 156.019 657.218 Q159.653 657.218 161.459 653.676 Q163.288 650.111 163.288 643.005 Q163.288 635.875 161.459 632.333 Q159.653 628.769 156.019 628.769 M156.019 625.065 Q161.829 625.065 164.885 629.671 Q167.964 634.255 167.964 643.005 Q167.964 651.732 164.885 656.338 Q161.829 660.921 156.019 660.921 Q150.209 660.921 147.13 656.338 Q144.075 651.732 144.075 643.005 Q144.075 634.255 147.13 629.671 Q150.209 625.065 156.019 625.065 Z\" fill=\"#000000\" fill-rule=\"evenodd\" fill-opacity=\"1\" /><path clip-path=\"url(#clip670)\" d=\"M130.024 300.507 Q133.38 301.225 135.255 303.493 Q137.154 305.762 137.154 309.095 Q137.154 314.211 133.635 317.012 Q130.117 319.813 123.635 319.813 Q121.459 319.813 119.144 319.373 Q116.853 318.956 114.399 318.1 L114.399 313.586 Q116.343 314.72 118.658 315.299 Q120.973 315.878 123.496 315.878 Q127.894 315.878 130.186 314.141 Q132.501 312.405 132.501 309.095 Q132.501 306.04 130.348 304.327 Q128.218 302.591 124.399 302.591 L120.371 302.591 L120.371 298.748 L124.584 298.748 Q128.033 298.748 129.862 297.382 Q131.691 295.993 131.691 293.401 Q131.691 290.739 129.792 289.327 Q127.917 287.892 124.399 287.892 Q122.478 287.892 120.279 288.308 Q118.08 288.725 115.441 289.605 L115.441 285.438 Q118.103 284.697 120.418 284.327 Q122.755 283.956 124.816 283.956 Q130.14 283.956 133.242 286.387 Q136.343 288.794 136.343 292.915 Q136.343 295.785 134.7 297.776 Q133.056 299.743 130.024 300.507 Z\" fill=\"#000000\" fill-rule=\"evenodd\" fill-opacity=\"1\" /><path clip-path=\"url(#clip670)\" d=\"M156.019 287.66 Q152.408 287.66 150.579 291.225 Q148.774 294.767 148.774 301.896 Q148.774 309.003 150.579 312.567 Q152.408 316.109 156.019 316.109 Q159.653 316.109 161.459 312.567 Q163.288 309.003 163.288 301.896 Q163.288 294.767 161.459 291.225 Q159.653 287.66 156.019 287.66 M156.019 283.956 Q161.829 283.956 164.885 288.563 Q167.964 293.146 167.964 301.896 Q167.964 310.623 164.885 315.229 Q161.829 319.813 156.019 319.813 Q150.209 319.813 147.13 315.229 Q144.075 310.623 144.075 301.896 Q144.075 293.146 147.13 288.563 Q150.209 283.956 156.019 283.956 Z\" fill=\"#000000\" fill-rule=\"evenodd\" fill-opacity=\"1\" /><path clip-path=\"url(#clip670)\" d=\"M41.7242 821.755 Q42.4244 819.686 44.7161 817.745 Q47.0077 815.771 51.0181 813.798 L64.0042 807.273 L64.0042 814.18 L51.8138 820.259 Q47.0395 822.614 45.48 824.842 Q43.9204 827.039 43.9204 830.858 L43.9204 837.86 L64.0042 837.86 L64.0042 844.29 L16.4842 844.29 L16.4842 829.776 Q16.4842 821.628 19.8898 817.617 Q23.2955 813.607 30.1704 813.607 Q34.6582 813.607 37.6183 815.708 Q40.5784 817.776 41.7242 821.755 M21.7677 837.86 L38.6368 837.86 L38.6368 829.776 Q38.6368 825.129 36.5043 822.774 Q34.34 820.386 30.1704 820.386 Q26.0009 820.386 23.9002 822.774 Q21.7677 825.129 21.7677 829.776 L21.7677 837.86 Z\" fill=\"#000000\" fill-rule=\"evenodd\" fill-opacity=\"1\" /><path clip-path=\"url(#clip670)\" d=\"M44.7161 771.689 L47.5806 771.689 L47.5806 798.616 Q53.6281 798.234 56.8109 794.987 Q59.9619 791.709 59.9619 785.884 Q59.9619 782.51 59.1344 779.359 Q58.3069 776.177 56.6518 773.057 L62.1899 773.057 Q63.5267 776.208 64.227 779.519 Q64.9272 782.829 64.9272 786.234 Q64.9272 794.764 59.9619 799.762 Q54.9967 804.727 46.5303 804.727 Q37.7774 804.727 32.6531 800.016 Q27.4968 795.274 27.4968 787.253 Q27.4968 780.06 32.1438 775.89 Q36.7589 771.689 44.7161 771.689 M42.9973 777.545 Q38.1912 777.609 35.3266 780.251 Q32.4621 782.861 32.4621 787.189 Q32.4621 792.091 35.2312 795.051 Q38.0002 797.979 43.0292 798.425 L42.9973 777.545 Z\" fill=\"#000000\" fill-rule=\"evenodd\" fill-opacity=\"1\" /><path clip-path=\"url(#clip670)\" d=\"M28.3562 765.482 L28.3562 759.626 L56.1743 752.305 L28.3562 745.016 L28.3562 738.11 L56.1743 730.789 L28.3562 723.5 L28.3562 717.644 L64.0042 726.97 L64.0042 733.876 L34.7856 741.547 L64.0042 749.25 L64.0042 756.156 L28.3562 765.482 Z\" fill=\"#000000\" fill-rule=\"evenodd\" fill-opacity=\"1\" /><path clip-path=\"url(#clip670)\" d=\"M46.0847 692.563 Q46.0847 699.661 47.7079 702.398 Q49.3312 705.135 53.2461 705.135 Q56.3653 705.135 58.2114 703.098 Q60.0256 701.029 60.0256 697.496 Q60.0256 692.627 56.5881 689.698 Q53.1188 686.738 47.3897 686.738 L46.0847 686.738 L46.0847 692.563 M43.6657 680.882 L64.0042 680.882 L64.0042 686.738 L58.5933 686.738 Q61.8398 688.744 63.3994 691.735 Q64.9272 694.727 64.9272 699.056 Q64.9272 704.531 61.8716 707.777 Q58.7843 710.992 53.6281 710.992 Q47.6125 710.992 44.5569 706.981 Q41.5014 702.939 41.5014 694.95 L41.5014 686.738 L40.9285 686.738 Q36.8862 686.738 34.6901 689.412 Q32.4621 692.054 32.4621 696.86 Q32.4621 699.915 33.1941 702.812 Q33.9262 705.708 35.3903 708.382 L29.9795 708.382 Q28.7381 705.167 28.1334 702.143 Q27.4968 699.12 27.4968 696.255 Q27.4968 688.521 31.5072 684.701 Q35.5176 680.882 43.6657 680.882 Z\" fill=\"#000000\" fill-rule=\"evenodd\" fill-opacity=\"1\" /><path clip-path=\"url(#clip670)\" d=\"M33.8307 648.162 Q33.2578 649.149 33.0032 650.327 Q32.7167 651.472 32.7167 652.873 Q32.7167 657.838 35.9632 660.512 Q39.1779 663.153 45.2253 663.153 L64.0042 663.153 L64.0042 669.042 L28.3562 669.042 L28.3562 663.153 L33.8944 663.153 Q30.6479 661.307 29.0883 658.347 Q27.4968 655.387 27.4968 651.154 Q27.4968 650.549 27.5923 649.817 Q27.656 649.085 27.8151 648.194 L33.8307 648.162 Z\" fill=\"#000000\" fill-rule=\"evenodd\" fill-opacity=\"1\" /><path clip-path=\"url(#clip670)\" d=\"M33.7671 619.708 L14.479 619.708 L14.479 613.851 L64.0042 613.851 L64.0042 619.708 L58.657 619.708 Q61.8398 621.554 63.3994 624.386 Q64.9272 627.187 64.9272 631.134 Q64.9272 637.595 59.771 641.669 Q54.6147 645.711 46.212 645.711 Q37.8093 645.711 32.6531 641.669 Q27.4968 637.595 27.4968 631.134 Q27.4968 627.187 29.0564 624.386 Q30.5842 621.554 33.7671 619.708 M46.212 639.664 Q52.6732 639.664 56.3653 637.022 Q60.0256 634.349 60.0256 629.702 Q60.0256 625.055 56.3653 622.381 Q52.6732 619.708 46.212 619.708 Q39.7508 619.708 36.0905 622.381 Q32.3984 625.055 32.3984 629.702 Q32.3984 634.349 36.0905 637.022 Q39.7508 639.664 46.212 639.664 Z\" fill=\"#000000\" fill-rule=\"evenodd\" fill-opacity=\"1\" /><polyline clip-path=\"url(#clip672)\" style=\"stroke:#009af9; stroke-linecap:round; stroke-linejoin:round; stroke-width:4; stroke-opacity:1; fill:none\" points=\"\n",
       "  264.778,1372.3 274.965,1345.82 285.152,1350.56 295.339,1334.42 305.525,1333.34 315.712,1321.98 325.899,1325.72 336.086,1328.12 346.272,1321.74 356.459,1319.31 \n",
       "  366.646,1307.25 376.833,1311.52 387.019,1307.67 397.206,1312.08 407.393,1291.75 417.58,1297.25 427.766,1304.61 437.953,1298.26 448.14,1300.92 458.327,1292.17 \n",
       "  468.513,1293.74 478.7,1304.38 488.887,1284.82 499.074,1301.27 509.26,1287.2 519.447,1278.7 529.634,1273.59 539.821,1276.35 550.007,1257.78 560.194,1266.83 \n",
       "  570.381,1276.75 580.568,1286.49 590.754,1271.83 600.941,1273.93 611.128,1243.12 621.315,1223.36 631.501,1248.91 641.688,1184.87 651.875,1204.42 662.062,1137.07 \n",
       "  672.248,1137.22 682.435,1090.62 692.622,976.675 702.809,982.907 712.995,1006.43 723.182,946.255 733.369,845.508 743.556,870.635 753.742,768.146 763.929,795.292 \n",
       "  774.116,817.486 784.303,764.354 794.489,746.524 804.676,694.377 814.863,722.446 825.05,704.101 835.236,665.595 845.423,661.926 855.61,630.167 865.797,687.213 \n",
       "  875.983,691.431 886.17,607.907 896.357,596.327 906.543,586.074 916.73,538.39 926.917,550.618 937.104,537.747 947.29,519.535 957.477,458.506 967.664,422.32 \n",
       "  977.851,403.507 988.037,387.803 998.224,350.022 1008.41,325.535 1018.6,325.774 1028.78,309.554 1038.97,325.949 1049.16,307.005 1059.34,305.057 1069.53,326.809 \n",
       "  1079.72,294.844 1089.9,288.992 1100.09,269.817 1110.28,297.538 1120.47,269.165 1130.65,273.388 1140.84,295.22 1151.03,270.659 1161.21,260.669 1171.4,262.993 \n",
       "  1181.59,273.486 1191.77,239.514 1201.96,256.328 1212.15,274.898 1222.33,252.559 1232.52,234.945 1242.71,228.38 1252.89,227.962 1263.08,240.602 1273.27,224.775 \n",
       "  1283.45,257.686 1293.64,236.087 1303.83,261.785 1314.01,214.463 1324.2,235.469 1334.39,252.733 1344.57,225.092 1354.76,212.066 1364.95,220.15 1375.13,212.876 \n",
       "  1385.32,228.015 1395.51,199.05 1405.69,215.648 1415.88,200.597 1426.07,211.167 1436.25,210.845 1446.44,186.885 1456.63,193.531 1466.81,198.802 1477,202.636 \n",
       "  1487.19,183.868 1497.37,203.099 1507.56,168.644 1517.75,166.932 1527.94,175.88 1538.12,194.496 1548.31,193.544 1558.5,190.235 1568.68,172.005 1578.87,192.854 \n",
       "  1589.06,139.714 1599.24,161.847 1609.43,170.65 1619.62,157.36 1629.8,154.375 1639.99,137.072 1650.18,142.842 1660.36,164.325 1670.55,151.846 1680.74,145.308 \n",
       "  1690.92,157.702 1701.11,138.158 1711.3,162.2 1721.48,153.537 1731.67,134.766 1741.86,130.784 1752.04,143.155 1762.23,164.122 1772.42,149.356 1782.6,135.115 \n",
       "  1792.79,123.973 1802.98,134.336 1813.16,126.948 1823.35,157.259 1833.54,129.722 1843.72,119.527 1853.91,117.555 1864.1,121.761 1874.28,146.658 1884.47,119.626 \n",
       "  1894.66,116.748 1904.84,104.004 1915.03,138.866 1925.22,118.793 1935.4,114.701 1945.59,110.865 1955.78,120.962 1965.97,103.391 1976.15,134.578 1986.34,108.085 \n",
       "  1996.53,109.885 2006.71,112.418 2016.9,108.856 2027.09,121.697 2037.27,110.407 2047.46,136.916 2057.65,119.846 2067.83,86.7154 2078.02,120.034 2088.21,93.6377 \n",
       "  2098.39,112.208 2108.58,122.571 2118.77,115.491 2128.95,108.268 2139.14,107.326 2149.33,104.554 2159.51,107.083 2169.7,96.4232 2179.89,91.1636 2190.07,86.6981 \n",
       "  2200.26,99.5501 2210.45,90.8985 2220.63,92.3002 2230.82,95.5116 2241.01,103.442 2251.19,96.3033 2261.38,97.9012 2271.57,85.838 2281.75,101.477 2291.94,108.782 \n",
       "  \n",
       "  \"/>\n",
       "</svg>\n"
      ]
     },
     "execution_count": 41,
     "metadata": {},
     "output_type": "execute_result"
    }
   ],
   "source": [
    "plot(iterations, rewards, xlabel=\"Iterations\", ylabel=\"Reward\", legend = false, xformatter = :scientific)"
   ]
  },
  {
   "cell_type": "code",
   "execution_count": 42,
   "id": "405bd6ad",
   "metadata": {},
   "outputs": [
    {
     "data": {
      "text/plain": [
       "\"/home/larissa/Documents/Projects/ADLR/ADLR_project/src/3d/plots/slow/reward.svg\""
      ]
     },
     "execution_count": 42,
     "metadata": {},
     "output_type": "execute_result"
    }
   ],
   "source": [
    "savefig(fig_path * \"reward.svg\")"
   ]
  },
  {
   "cell_type": "code",
   "execution_count": 43,
   "id": "9535a7a5",
   "metadata": {},
   "outputs": [
    {
     "data": {
      "image/svg+xml": [
       "<?xml version=\"1.0\" encoding=\"utf-8\"?>\n",
       "<svg xmlns=\"http://www.w3.org/2000/svg\" xmlns:xlink=\"http://www.w3.org/1999/xlink\" width=\"600\" height=\"400\" viewBox=\"0 0 2400 1600\">\n",
       "<defs>\n",
       "  <clipPath id=\"clip750\">\n",
       "    <rect x=\"0\" y=\"0\" width=\"2400\" height=\"1600\"/>\n",
       "  </clipPath>\n",
       "</defs>\n",
       "<path clip-path=\"url(#clip750)\" d=\"\n",
       "M0 1600 L2400 1600 L2400 0 L0 0  Z\n",
       "  \" fill=\"#ffffff\" fill-rule=\"evenodd\" fill-opacity=\"1\"/>\n",
       "<defs>\n",
       "  <clipPath id=\"clip751\">\n",
       "    <rect x=\"480\" y=\"0\" width=\"1681\" height=\"1600\"/>\n",
       "  </clipPath>\n",
       "</defs>\n",
       "<path clip-path=\"url(#clip750)\" d=\"\n",
       "M249.542 1410.9 L2352.76 1410.9 L2352.76 47.2441 L249.542 47.2441  Z\n",
       "  \" fill=\"#ffffff\" fill-rule=\"evenodd\" fill-opacity=\"1\"/>\n",
       "<defs>\n",
       "  <clipPath id=\"clip752\">\n",
       "    <rect x=\"249\" y=\"47\" width=\"2104\" height=\"1365\"/>\n",
       "  </clipPath>\n",
       "</defs>\n",
       "<polyline clip-path=\"url(#clip752)\" style=\"stroke:#000000; stroke-linecap:round; stroke-linejoin:round; stroke-width:2; stroke-opacity:0.1; fill:none\" points=\"\n",
       "  299.096,1410.9 299.096,47.2441 \n",
       "  \"/>\n",
       "<polyline clip-path=\"url(#clip752)\" style=\"stroke:#000000; stroke-linecap:round; stroke-linejoin:round; stroke-width:2; stroke-opacity:0.1; fill:none\" points=\"\n",
       "  797.63,1410.9 797.63,47.2441 \n",
       "  \"/>\n",
       "<polyline clip-path=\"url(#clip752)\" style=\"stroke:#000000; stroke-linecap:round; stroke-linejoin:round; stroke-width:2; stroke-opacity:0.1; fill:none\" points=\"\n",
       "  1296.16,1410.9 1296.16,47.2441 \n",
       "  \"/>\n",
       "<polyline clip-path=\"url(#clip752)\" style=\"stroke:#000000; stroke-linecap:round; stroke-linejoin:round; stroke-width:2; stroke-opacity:0.1; fill:none\" points=\"\n",
       "  1794.7,1410.9 1794.7,47.2441 \n",
       "  \"/>\n",
       "<polyline clip-path=\"url(#clip752)\" style=\"stroke:#000000; stroke-linecap:round; stroke-linejoin:round; stroke-width:2; stroke-opacity:0.1; fill:none\" points=\"\n",
       "  2293.23,1410.9 2293.23,47.2441 \n",
       "  \"/>\n",
       "<polyline clip-path=\"url(#clip750)\" style=\"stroke:#000000; stroke-linecap:round; stroke-linejoin:round; stroke-width:4; stroke-opacity:1; fill:none\" points=\"\n",
       "  249.542,1410.9 2352.76,1410.9 \n",
       "  \"/>\n",
       "<polyline clip-path=\"url(#clip750)\" style=\"stroke:#000000; stroke-linecap:round; stroke-linejoin:round; stroke-width:4; stroke-opacity:1; fill:none\" points=\"\n",
       "  299.096,1410.9 299.096,1392 \n",
       "  \"/>\n",
       "<polyline clip-path=\"url(#clip750)\" style=\"stroke:#000000; stroke-linecap:round; stroke-linejoin:round; stroke-width:4; stroke-opacity:1; fill:none\" points=\"\n",
       "  797.63,1410.9 797.63,1392 \n",
       "  \"/>\n",
       "<polyline clip-path=\"url(#clip750)\" style=\"stroke:#000000; stroke-linecap:round; stroke-linejoin:round; stroke-width:4; stroke-opacity:1; fill:none\" points=\"\n",
       "  1296.16,1410.9 1296.16,1392 \n",
       "  \"/>\n",
       "<polyline clip-path=\"url(#clip750)\" style=\"stroke:#000000; stroke-linecap:round; stroke-linejoin:round; stroke-width:4; stroke-opacity:1; fill:none\" points=\"\n",
       "  1794.7,1410.9 1794.7,1392 \n",
       "  \"/>\n",
       "<polyline clip-path=\"url(#clip750)\" style=\"stroke:#000000; stroke-linecap:round; stroke-linejoin:round; stroke-width:4; stroke-opacity:1; fill:none\" points=\"\n",
       "  2293.23,1410.9 2293.23,1392 \n",
       "  \"/>\n",
       "<path clip-path=\"url(#clip750)\" d=\"M299.096 1441.82 Q295.485 1441.82 293.656 1445.38 Q291.851 1448.92 291.851 1456.05 Q291.851 1463.16 293.656 1466.72 Q295.485 1470.26 299.096 1470.26 Q302.731 1470.26 304.536 1466.72 Q306.365 1463.16 306.365 1456.05 Q306.365 1448.92 304.536 1445.38 Q302.731 1441.82 299.096 1441.82 M299.096 1438.11 Q304.906 1438.11 307.962 1442.72 Q311.041 1447.3 311.041 1456.05 Q311.041 1464.78 307.962 1469.38 Q304.906 1473.97 299.096 1473.97 Q293.286 1473.97 290.207 1469.38 Q287.152 1464.78 287.152 1456.05 Q287.152 1447.3 290.207 1442.72 Q293.286 1438.11 299.096 1438.11 Z\" fill=\"#000000\" fill-rule=\"evenodd\" fill-opacity=\"1\" /><path clip-path=\"url(#clip750)\" d=\"M689.995 1454.4 L708.352 1454.4 L708.352 1458.33 L694.278 1458.33 L694.278 1466.8 Q695.296 1466.46 696.315 1466.29 Q697.333 1466.11 698.352 1466.11 Q704.139 1466.11 707.518 1469.28 Q710.898 1472.45 710.898 1477.87 Q710.898 1483.45 707.426 1486.55 Q703.954 1489.63 697.634 1489.63 Q695.458 1489.63 693.19 1489.26 Q690.944 1488.89 688.537 1488.15 L688.537 1483.45 Q690.62 1484.58 692.842 1485.14 Q695.065 1485.69 697.542 1485.69 Q701.546 1485.69 703.884 1483.59 Q706.222 1481.48 706.222 1477.87 Q706.222 1474.26 703.884 1472.15 Q701.546 1470.04 697.542 1470.04 Q695.667 1470.04 693.792 1470.46 Q691.94 1470.88 689.995 1471.76 L689.995 1454.4 Z\" fill=\"#000000\" fill-rule=\"evenodd\" fill-opacity=\"1\" /><path clip-path=\"url(#clip750)\" d=\"M720.111 1483.08 L724.995 1483.08 L724.995 1488.96 L720.111 1488.96 L720.111 1483.08 Z\" fill=\"#000000\" fill-rule=\"evenodd\" fill-opacity=\"1\" /><path clip-path=\"url(#clip750)\" d=\"M745.18 1457.48 Q741.569 1457.48 739.74 1461.04 Q737.935 1464.58 737.935 1471.71 Q737.935 1478.82 739.74 1482.38 Q741.569 1485.92 745.18 1485.92 Q748.814 1485.92 750.62 1482.38 Q752.449 1478.82 752.449 1471.71 Q752.449 1464.58 750.62 1461.04 Q748.814 1457.48 745.18 1457.48 M745.18 1453.77 Q750.99 1453.77 754.046 1458.38 Q757.125 1462.96 757.125 1471.71 Q757.125 1480.44 754.046 1485.04 Q750.99 1489.63 745.18 1489.63 Q739.37 1489.63 736.291 1485.04 Q733.236 1480.44 733.236 1471.71 Q733.236 1462.96 736.291 1458.38 Q739.37 1453.77 745.18 1453.77 Z\" fill=\"#000000\" fill-rule=\"evenodd\" fill-opacity=\"1\" /><path clip-path=\"url(#clip750)\" d=\"M775.342 1457.48 Q771.731 1457.48 769.902 1461.04 Q768.097 1464.58 768.097 1471.71 Q768.097 1478.82 769.902 1482.38 Q771.731 1485.92 775.342 1485.92 Q778.976 1485.92 780.782 1482.38 Q782.611 1478.82 782.611 1471.71 Q782.611 1464.58 780.782 1461.04 Q778.976 1457.48 775.342 1457.48 M775.342 1453.77 Q781.152 1453.77 784.208 1458.38 Q787.286 1462.96 787.286 1471.71 Q787.286 1480.44 784.208 1485.04 Q781.152 1489.63 775.342 1489.63 Q769.532 1489.63 766.453 1485.04 Q763.398 1480.44 763.398 1471.71 Q763.398 1462.96 766.453 1458.38 Q769.532 1453.77 775.342 1453.77 Z\" fill=\"#000000\" fill-rule=\"evenodd\" fill-opacity=\"1\" /><path clip-path=\"url(#clip750)\" d=\"M823.675 1463.49 L813.096 1474.12 L823.675 1484.7 L820.92 1487.5 L810.296 1476.87 L799.671 1487.5 L796.939 1484.7 L807.495 1474.12 L796.939 1463.49 L799.671 1460.69 L810.296 1471.32 L820.92 1460.69 L823.675 1463.49 Z\" fill=\"#000000\" fill-rule=\"evenodd\" fill-opacity=\"1\" /><path clip-path=\"url(#clip750)\" d=\"M836.036 1485.02 L843.675 1485.02 L843.675 1458.66 L835.365 1460.32 L835.365 1456.06 L843.629 1454.4 L848.305 1454.4 L848.305 1485.02 L855.943 1485.02 L855.943 1488.96 L836.036 1488.96 L836.036 1485.02 Z\" fill=\"#000000\" fill-rule=\"evenodd\" fill-opacity=\"1\" /><path clip-path=\"url(#clip750)\" d=\"M875.388 1457.48 Q871.777 1457.48 869.948 1461.04 Q868.142 1464.58 868.142 1471.71 Q868.142 1478.82 869.948 1482.38 Q871.777 1485.92 875.388 1485.92 Q879.022 1485.92 880.828 1482.38 Q882.656 1478.82 882.656 1471.71 Q882.656 1464.58 880.828 1461.04 Q879.022 1457.48 875.388 1457.48 M875.388 1453.77 Q881.198 1453.77 884.253 1458.38 Q887.332 1462.96 887.332 1471.71 Q887.332 1480.44 884.253 1485.04 Q881.198 1489.63 875.388 1489.63 Q869.578 1489.63 866.499 1485.04 Q863.443 1480.44 863.443 1471.71 Q863.443 1462.96 866.499 1458.38 Q869.578 1453.77 875.388 1453.77 Z\" fill=\"#000000\" fill-rule=\"evenodd\" fill-opacity=\"1\" /><path clip-path=\"url(#clip750)\" d=\"M897.357 1445.99 Q894.799 1445.99 893.294 1447.74 Q891.808 1449.49 891.808 1452.54 Q891.808 1455.57 893.294 1457.33 Q894.799 1459.08 897.357 1459.08 Q899.915 1459.08 901.4 1457.33 Q902.905 1455.57 902.905 1452.54 Q902.905 1449.49 901.4 1447.74 Q899.915 1445.99 897.357 1445.99 M904.899 1434.09 L904.899 1437.55 Q903.469 1436.87 902.002 1436.51 Q900.554 1436.16 899.125 1436.16 Q895.363 1436.16 893.369 1438.69 Q891.395 1441.23 891.113 1446.37 Q892.222 1444.73 893.896 1443.87 Q895.57 1442.98 897.582 1442.98 Q901.814 1442.98 904.259 1445.56 Q906.723 1448.12 906.723 1452.54 Q906.723 1456.86 904.165 1459.48 Q901.607 1462.09 897.357 1462.09 Q892.485 1462.09 889.909 1458.37 Q887.332 1454.62 887.332 1447.53 Q887.332 1440.88 890.492 1436.93 Q893.652 1432.96 898.974 1432.96 Q900.404 1432.96 901.852 1433.24 Q903.319 1433.52 904.899 1434.09 Z\" fill=\"#000000\" fill-rule=\"evenodd\" fill-opacity=\"1\" /><path clip-path=\"url(#clip750)\" d=\"M1189.19 1485.02 L1196.82 1485.02 L1196.82 1458.66 L1188.51 1460.32 L1188.51 1456.06 L1196.78 1454.4 L1201.45 1454.4 L1201.45 1485.02 L1209.09 1485.02 L1209.09 1488.96 L1189.19 1488.96 L1189.19 1485.02 Z\" fill=\"#000000\" fill-rule=\"evenodd\" fill-opacity=\"1\" /><path clip-path=\"url(#clip750)\" d=\"M1218.54 1483.08 L1223.42 1483.08 L1223.42 1488.96 L1218.54 1488.96 L1218.54 1483.08 Z\" fill=\"#000000\" fill-rule=\"evenodd\" fill-opacity=\"1\" /><path clip-path=\"url(#clip750)\" d=\"M1243.61 1457.48 Q1239.99 1457.48 1238.17 1461.04 Q1236.36 1464.58 1236.36 1471.71 Q1236.36 1478.82 1238.17 1482.38 Q1239.99 1485.92 1243.61 1485.92 Q1247.24 1485.92 1249.05 1482.38 Q1250.87 1478.82 1250.87 1471.71 Q1250.87 1464.58 1249.05 1461.04 Q1247.24 1457.48 1243.61 1457.48 M1243.61 1453.77 Q1249.42 1453.77 1252.47 1458.38 Q1255.55 1462.96 1255.55 1471.71 Q1255.55 1480.44 1252.47 1485.04 Q1249.42 1489.63 1243.61 1489.63 Q1237.8 1489.63 1234.72 1485.04 Q1231.66 1480.44 1231.66 1471.71 Q1231.66 1462.96 1234.72 1458.38 Q1237.8 1453.77 1243.61 1453.77 Z\" fill=\"#000000\" fill-rule=\"evenodd\" fill-opacity=\"1\" /><path clip-path=\"url(#clip750)\" d=\"M1273.77 1457.48 Q1270.16 1457.48 1268.33 1461.04 Q1266.52 1464.58 1266.52 1471.71 Q1266.52 1478.82 1268.33 1482.38 Q1270.16 1485.92 1273.77 1485.92 Q1277.4 1485.92 1279.21 1482.38 Q1281.04 1478.82 1281.04 1471.71 Q1281.04 1464.58 1279.21 1461.04 Q1277.4 1457.48 1273.77 1457.48 M1273.77 1453.77 Q1279.58 1453.77 1282.63 1458.38 Q1285.71 1462.96 1285.71 1471.71 Q1285.71 1480.44 1282.63 1485.04 Q1279.58 1489.63 1273.77 1489.63 Q1267.96 1489.63 1264.88 1485.04 Q1261.82 1480.44 1261.82 1471.71 Q1261.82 1462.96 1264.88 1458.38 Q1267.96 1453.77 1273.77 1453.77 Z\" fill=\"#000000\" fill-rule=\"evenodd\" fill-opacity=\"1\" /><path clip-path=\"url(#clip750)\" d=\"M1322.1 1463.49 L1311.52 1474.12 L1322.1 1484.7 L1319.35 1487.5 L1308.72 1476.87 L1298.1 1487.5 L1295.37 1484.7 L1305.92 1474.12 L1295.37 1463.49 L1298.1 1460.69 L1308.72 1471.32 L1319.35 1460.69 L1322.1 1463.49 Z\" fill=\"#000000\" fill-rule=\"evenodd\" fill-opacity=\"1\" /><path clip-path=\"url(#clip750)\" d=\"M1334.46 1485.02 L1342.1 1485.02 L1342.1 1458.66 L1333.79 1460.32 L1333.79 1456.06 L1342.05 1454.4 L1346.73 1454.4 L1346.73 1485.02 L1354.37 1485.02 L1354.37 1488.96 L1334.46 1488.96 L1334.46 1485.02 Z\" fill=\"#000000\" fill-rule=\"evenodd\" fill-opacity=\"1\" /><path clip-path=\"url(#clip750)\" d=\"M1373.81 1457.48 Q1370.2 1457.48 1368.37 1461.04 Q1366.57 1464.58 1366.57 1471.71 Q1366.57 1478.82 1368.37 1482.38 Q1370.2 1485.92 1373.81 1485.92 Q1377.45 1485.92 1379.25 1482.38 Q1381.08 1478.82 1381.08 1471.71 Q1381.08 1464.58 1379.25 1461.04 Q1377.45 1457.48 1373.81 1457.48 M1373.81 1453.77 Q1379.62 1453.77 1382.68 1458.38 Q1385.76 1462.96 1385.76 1471.71 Q1385.76 1480.44 1382.68 1485.04 Q1379.62 1489.63 1373.81 1489.63 Q1368 1489.63 1364.92 1485.04 Q1361.87 1480.44 1361.87 1471.71 Q1361.87 1462.96 1364.92 1458.38 Q1368 1453.77 1373.81 1453.77 Z\" fill=\"#000000\" fill-rule=\"evenodd\" fill-opacity=\"1\" /><path clip-path=\"url(#clip750)\" d=\"M1385.76 1433.47 L1403.81 1433.47 L1403.81 1435.08 L1393.62 1461.55 L1389.65 1461.55 L1399.24 1436.66 L1385.76 1436.66 L1385.76 1433.47 Z\" fill=\"#000000\" fill-rule=\"evenodd\" fill-opacity=\"1\" /><path clip-path=\"url(#clip750)\" d=\"M1687.72 1485.02 L1695.36 1485.02 L1695.36 1458.66 L1687.05 1460.32 L1687.05 1456.06 L1695.31 1454.4 L1699.99 1454.4 L1699.99 1485.02 L1707.63 1485.02 L1707.63 1488.96 L1687.72 1488.96 L1687.72 1485.02 Z\" fill=\"#000000\" fill-rule=\"evenodd\" fill-opacity=\"1\" /><path clip-path=\"url(#clip750)\" d=\"M1717.07 1483.08 L1721.95 1483.08 L1721.95 1488.96 L1717.07 1488.96 L1717.07 1483.08 Z\" fill=\"#000000\" fill-rule=\"evenodd\" fill-opacity=\"1\" /><path clip-path=\"url(#clip750)\" d=\"M1732.19 1454.4 L1750.54 1454.4 L1750.54 1458.33 L1736.47 1458.33 L1736.47 1466.8 Q1737.49 1466.46 1738.51 1466.29 Q1739.52 1466.11 1740.54 1466.11 Q1746.33 1466.11 1749.71 1469.28 Q1753.09 1472.45 1753.09 1477.87 Q1753.09 1483.45 1749.62 1486.55 Q1746.14 1489.63 1739.82 1489.63 Q1737.65 1489.63 1735.38 1489.26 Q1733.14 1488.89 1730.73 1488.15 L1730.73 1483.45 Q1732.81 1484.58 1735.03 1485.14 Q1737.26 1485.69 1739.73 1485.69 Q1743.74 1485.69 1746.07 1483.59 Q1748.41 1481.48 1748.41 1477.87 Q1748.41 1474.26 1746.07 1472.15 Q1743.74 1470.04 1739.73 1470.04 Q1737.86 1470.04 1735.98 1470.46 Q1734.13 1470.88 1732.19 1471.76 L1732.19 1454.4 Z\" fill=\"#000000\" fill-rule=\"evenodd\" fill-opacity=\"1\" /><path clip-path=\"url(#clip750)\" d=\"M1772.3 1457.48 Q1768.69 1457.48 1766.86 1461.04 Q1765.06 1464.58 1765.06 1471.71 Q1765.06 1478.82 1766.86 1482.38 Q1768.69 1485.92 1772.3 1485.92 Q1775.94 1485.92 1777.74 1482.38 Q1779.57 1478.82 1779.57 1471.71 Q1779.57 1464.58 1777.74 1461.04 Q1775.94 1457.48 1772.3 1457.48 M1772.3 1453.77 Q1778.11 1453.77 1781.17 1458.38 Q1784.25 1462.96 1784.25 1471.71 Q1784.25 1480.44 1781.17 1485.04 Q1778.11 1489.63 1772.3 1489.63 Q1766.49 1489.63 1763.41 1485.04 Q1760.36 1480.44 1760.36 1471.71 Q1760.36 1462.96 1763.41 1458.38 Q1766.49 1453.77 1772.3 1453.77 Z\" fill=\"#000000\" fill-rule=\"evenodd\" fill-opacity=\"1\" /><path clip-path=\"url(#clip750)\" d=\"M1820.63 1463.49 L1810.06 1474.12 L1820.63 1484.7 L1817.88 1487.5 L1807.26 1476.87 L1796.63 1487.5 L1793.9 1484.7 L1804.45 1474.12 L1793.9 1463.49 L1796.63 1460.69 L1807.26 1471.32 L1817.88 1460.69 L1820.63 1463.49 Z\" fill=\"#000000\" fill-rule=\"evenodd\" fill-opacity=\"1\" /><path clip-path=\"url(#clip750)\" d=\"M1833 1485.02 L1840.63 1485.02 L1840.63 1458.66 L1832.32 1460.32 L1832.32 1456.06 L1840.59 1454.4 L1845.26 1454.4 L1845.26 1485.02 L1852.9 1485.02 L1852.9 1488.96 L1833 1488.96 L1833 1485.02 Z\" fill=\"#000000\" fill-rule=\"evenodd\" fill-opacity=\"1\" /><path clip-path=\"url(#clip750)\" d=\"M1872.35 1457.48 Q1868.74 1457.48 1866.91 1461.04 Q1865.1 1464.58 1865.1 1471.71 Q1865.1 1478.82 1866.91 1482.38 Q1868.74 1485.92 1872.35 1485.92 Q1875.98 1485.92 1877.79 1482.38 Q1879.62 1478.82 1879.62 1471.71 Q1879.62 1464.58 1877.79 1461.04 Q1875.98 1457.48 1872.35 1457.48 M1872.35 1453.77 Q1878.16 1453.77 1881.21 1458.38 Q1884.29 1462.96 1884.29 1471.71 Q1884.29 1480.44 1881.21 1485.04 Q1878.16 1489.63 1872.35 1489.63 Q1866.54 1489.63 1863.46 1485.04 Q1860.4 1480.44 1860.4 1471.71 Q1860.4 1462.96 1863.46 1458.38 Q1866.54 1453.77 1872.35 1453.77 Z\" fill=\"#000000\" fill-rule=\"evenodd\" fill-opacity=\"1\" /><path clip-path=\"url(#clip750)\" d=\"M1884.29 1433.47 L1902.35 1433.47 L1902.35 1435.08 L1892.15 1461.55 L1888.18 1461.55 L1897.78 1436.66 L1884.29 1436.66 L1884.29 1433.47 Z\" fill=\"#000000\" fill-rule=\"evenodd\" fill-opacity=\"1\" /><path clip-path=\"url(#clip750)\" d=\"M2190.34 1485.02 L2206.66 1485.02 L2206.66 1488.96 L2184.71 1488.96 L2184.71 1485.02 Q2187.38 1482.27 2191.96 1477.64 Q2196.56 1472.98 2197.75 1471.64 Q2199.99 1469.12 2200.87 1467.38 Q2201.77 1465.62 2201.77 1463.93 Q2201.77 1461.18 2199.83 1459.44 Q2197.91 1457.71 2194.81 1457.71 Q2192.61 1457.71 2190.15 1458.47 Q2187.72 1459.23 2184.94 1460.79 L2184.94 1456.06 Q2187.77 1454.93 2190.22 1454.35 Q2192.68 1453.77 2194.71 1453.77 Q2200.08 1453.77 2203.28 1456.46 Q2206.47 1459.14 2206.47 1463.63 Q2206.47 1465.76 2205.66 1467.68 Q2204.87 1469.58 2202.77 1472.17 Q2202.19 1472.85 2199.09 1476.06 Q2195.99 1479.26 2190.34 1485.02 Z\" fill=\"#000000\" fill-rule=\"evenodd\" fill-opacity=\"1\" /><path clip-path=\"url(#clip750)\" d=\"M2216.47 1483.08 L2221.36 1483.08 L2221.36 1488.96 L2216.47 1488.96 L2216.47 1483.08 Z\" fill=\"#000000\" fill-rule=\"evenodd\" fill-opacity=\"1\" /><path clip-path=\"url(#clip750)\" d=\"M2241.54 1457.48 Q2237.93 1457.48 2236.1 1461.04 Q2234.3 1464.58 2234.3 1471.71 Q2234.3 1478.82 2236.1 1482.38 Q2237.93 1485.92 2241.54 1485.92 Q2245.18 1485.92 2246.98 1482.38 Q2248.81 1478.82 2248.81 1471.71 Q2248.81 1464.58 2246.98 1461.04 Q2245.18 1457.48 2241.54 1457.48 M2241.54 1453.77 Q2247.35 1453.77 2250.41 1458.38 Q2253.49 1462.96 2253.49 1471.71 Q2253.49 1480.44 2250.41 1485.04 Q2247.35 1489.63 2241.54 1489.63 Q2235.73 1489.63 2232.65 1485.04 Q2229.6 1480.44 2229.6 1471.71 Q2229.6 1462.96 2232.65 1458.38 Q2235.73 1453.77 2241.54 1453.77 Z\" fill=\"#000000\" fill-rule=\"evenodd\" fill-opacity=\"1\" /><path clip-path=\"url(#clip750)\" d=\"M2271.7 1457.48 Q2268.09 1457.48 2266.26 1461.04 Q2264.46 1464.58 2264.46 1471.71 Q2264.46 1478.82 2266.26 1482.38 Q2268.09 1485.92 2271.7 1485.92 Q2275.34 1485.92 2277.14 1482.38 Q2278.97 1478.82 2278.97 1471.71 Q2278.97 1464.58 2277.14 1461.04 Q2275.34 1457.48 2271.7 1457.48 M2271.7 1453.77 Q2277.51 1453.77 2280.57 1458.38 Q2283.65 1462.96 2283.65 1471.71 Q2283.65 1480.44 2280.57 1485.04 Q2277.51 1489.63 2271.7 1489.63 Q2265.89 1489.63 2262.81 1485.04 Q2259.76 1480.44 2259.76 1471.71 Q2259.76 1462.96 2262.81 1458.38 Q2265.89 1453.77 2271.7 1453.77 Z\" fill=\"#000000\" fill-rule=\"evenodd\" fill-opacity=\"1\" /><path clip-path=\"url(#clip750)\" d=\"M2320.04 1463.49 L2309.46 1474.12 L2320.04 1484.7 L2317.28 1487.5 L2306.66 1476.87 L2296.03 1487.5 L2293.3 1484.7 L2303.86 1474.12 L2293.3 1463.49 L2296.03 1460.69 L2306.66 1471.32 L2317.28 1460.69 L2320.04 1463.49 Z\" fill=\"#000000\" fill-rule=\"evenodd\" fill-opacity=\"1\" /><path clip-path=\"url(#clip750)\" d=\"M2332.4 1485.02 L2340.04 1485.02 L2340.04 1458.66 L2331.73 1460.32 L2331.73 1456.06 L2339.99 1454.4 L2344.67 1454.4 L2344.67 1485.02 L2352.3 1485.02 L2352.3 1488.96 L2332.4 1488.96 L2332.4 1485.02 Z\" fill=\"#000000\" fill-rule=\"evenodd\" fill-opacity=\"1\" /><path clip-path=\"url(#clip750)\" d=\"M2371.75 1457.48 Q2368.14 1457.48 2366.31 1461.04 Q2364.5 1464.58 2364.5 1471.71 Q2364.5 1478.82 2366.31 1482.38 Q2368.14 1485.92 2371.75 1485.92 Q2375.38 1485.92 2377.19 1482.38 Q2379.02 1478.82 2379.02 1471.71 Q2379.02 1464.58 2377.19 1461.04 Q2375.38 1457.48 2371.75 1457.48 M2371.75 1453.77 Q2377.56 1453.77 2380.61 1458.38 Q2383.69 1462.96 2383.69 1471.71 Q2383.69 1480.44 2380.61 1485.04 Q2377.56 1489.63 2371.75 1489.63 Q2365.94 1489.63 2362.86 1485.04 Q2359.8 1480.44 2359.8 1471.71 Q2359.8 1462.96 2362.86 1458.38 Q2365.94 1453.77 2371.75 1453.77 Z\" fill=\"#000000\" fill-rule=\"evenodd\" fill-opacity=\"1\" /><path clip-path=\"url(#clip750)\" d=\"M2383.69 1433.47 L2401.75 1433.47 L2401.75 1435.08 L2391.56 1461.55 L2387.59 1461.55 L2397.18 1436.66 L2383.69 1436.66 L2383.69 1433.47 Z\" fill=\"#000000\" fill-rule=\"evenodd\" fill-opacity=\"1\" /><path clip-path=\"url(#clip750)\" d=\"M1150.71 1526.67 L1157.14 1526.67 L1157.14 1574.19 L1150.71 1574.19 L1150.71 1526.67 Z\" fill=\"#000000\" fill-rule=\"evenodd\" fill-opacity=\"1\" /><path clip-path=\"url(#clip750)\" d=\"M1175.47 1528.42 L1175.47 1538.54 L1187.54 1538.54 L1187.54 1543.09 L1175.47 1543.09 L1175.47 1562.44 Q1175.47 1566.8 1176.65 1568.04 Q1177.86 1569.28 1181.52 1569.28 L1187.54 1569.28 L1187.54 1574.19 L1181.52 1574.19 Q1174.74 1574.19 1172.16 1571.67 Q1169.59 1569.12 1169.59 1562.44 L1169.59 1543.09 L1165.29 1543.09 L1165.29 1538.54 L1169.59 1538.54 L1169.59 1528.42 L1175.47 1528.42 Z\" fill=\"#000000\" fill-rule=\"evenodd\" fill-opacity=\"1\" /><path clip-path=\"url(#clip750)\" d=\"M1225.73 1554.9 L1225.73 1557.76 L1198.8 1557.76 Q1199.19 1563.81 1202.43 1566.99 Q1205.71 1570.14 1211.54 1570.14 Q1214.91 1570.14 1218.06 1569.32 Q1221.24 1568.49 1224.36 1566.83 L1224.36 1572.37 Q1221.21 1573.71 1217.9 1574.41 Q1214.59 1575.11 1211.19 1575.11 Q1202.66 1575.11 1197.66 1570.14 Q1192.69 1565.18 1192.69 1556.71 Q1192.69 1547.96 1197.4 1542.83 Q1202.15 1537.68 1210.17 1537.68 Q1217.36 1537.68 1221.53 1542.33 Q1225.73 1546.94 1225.73 1554.9 M1219.87 1553.18 Q1219.81 1548.37 1217.17 1545.51 Q1214.56 1542.64 1210.23 1542.64 Q1205.33 1542.64 1202.37 1545.41 Q1199.44 1548.18 1199 1553.21 L1219.87 1553.18 Z\" fill=\"#000000\" fill-rule=\"evenodd\" fill-opacity=\"1\" /><path clip-path=\"url(#clip750)\" d=\"M1256 1544.01 Q1255.01 1543.44 1253.84 1543.18 Q1252.69 1542.9 1251.29 1542.9 Q1246.32 1542.9 1243.65 1546.14 Q1241.01 1549.36 1241.01 1555.41 L1241.01 1574.19 L1235.12 1574.19 L1235.12 1538.54 L1241.01 1538.54 L1241.01 1544.08 Q1242.86 1540.83 1245.82 1539.27 Q1248.78 1537.68 1253.01 1537.68 Q1253.61 1537.68 1254.35 1537.77 Q1255.08 1537.84 1255.97 1538 L1256 1544.01 Z\" fill=\"#000000\" fill-rule=\"evenodd\" fill-opacity=\"1\" /><path clip-path=\"url(#clip750)\" d=\"M1278.34 1556.27 Q1271.25 1556.27 1268.51 1557.89 Q1265.77 1559.51 1265.77 1563.43 Q1265.77 1566.55 1267.81 1568.39 Q1269.88 1570.21 1273.41 1570.21 Q1278.28 1570.21 1281.21 1566.77 Q1284.17 1563.3 1284.17 1557.57 L1284.17 1556.27 L1278.34 1556.27 M1290.02 1553.85 L1290.02 1574.19 L1284.17 1574.19 L1284.17 1568.77 Q1282.16 1572.02 1279.17 1573.58 Q1276.18 1575.11 1271.85 1575.11 Q1266.38 1575.11 1263.13 1572.05 Q1259.92 1568.97 1259.92 1563.81 Q1259.92 1557.79 1263.93 1554.74 Q1267.97 1551.68 1275.96 1551.68 L1284.17 1551.68 L1284.17 1551.11 Q1284.17 1547.07 1281.49 1544.87 Q1278.85 1542.64 1274.05 1542.64 Q1270.99 1542.64 1268.1 1543.38 Q1265.2 1544.11 1262.53 1545.57 L1262.53 1540.16 Q1265.74 1538.92 1268.76 1538.31 Q1271.79 1537.68 1274.65 1537.68 Q1282.39 1537.68 1286.21 1541.69 Q1290.02 1545.7 1290.02 1553.85 Z\" fill=\"#000000\" fill-rule=\"evenodd\" fill-opacity=\"1\" /><path clip-path=\"url(#clip750)\" d=\"M1307.88 1528.42 L1307.88 1538.54 L1319.94 1538.54 L1319.94 1543.09 L1307.88 1543.09 L1307.88 1562.44 Q1307.88 1566.8 1309.06 1568.04 Q1310.27 1569.28 1313.93 1569.28 L1319.94 1569.28 L1319.94 1574.19 L1313.93 1574.19 Q1307.15 1574.19 1304.57 1571.67 Q1301.99 1569.12 1301.99 1562.44 L1301.99 1543.09 L1297.7 1543.09 L1297.7 1538.54 L1301.99 1538.54 L1301.99 1528.42 L1307.88 1528.42 Z\" fill=\"#000000\" fill-rule=\"evenodd\" fill-opacity=\"1\" /><path clip-path=\"url(#clip750)\" d=\"M1327.65 1538.54 L1333.5 1538.54 L1333.5 1574.19 L1327.65 1574.19 L1327.65 1538.54 M1327.65 1524.66 L1333.5 1524.66 L1333.5 1532.08 L1327.65 1532.08 L1327.65 1524.66 Z\" fill=\"#000000\" fill-rule=\"evenodd\" fill-opacity=\"1\" /><path clip-path=\"url(#clip750)\" d=\"M1359.57 1542.64 Q1354.86 1542.64 1352.12 1546.34 Q1349.39 1550 1349.39 1556.39 Q1349.39 1562.79 1352.09 1566.48 Q1354.83 1570.14 1359.57 1570.14 Q1364.25 1570.14 1366.99 1566.45 Q1369.72 1562.76 1369.72 1556.39 Q1369.72 1550.06 1366.99 1546.37 Q1364.25 1542.64 1359.57 1542.64 M1359.57 1537.68 Q1367.21 1537.68 1371.57 1542.64 Q1375.93 1547.61 1375.93 1556.39 Q1375.93 1565.15 1371.57 1570.14 Q1367.21 1575.11 1359.57 1575.11 Q1351.9 1575.11 1347.54 1570.14 Q1343.21 1565.15 1343.21 1556.39 Q1343.21 1547.61 1347.54 1542.64 Q1351.9 1537.68 1359.57 1537.68 Z\" fill=\"#000000\" fill-rule=\"evenodd\" fill-opacity=\"1\" /><path clip-path=\"url(#clip750)\" d=\"M1415.27 1552.67 L1415.27 1574.19 L1409.41 1574.19 L1409.41 1552.86 Q1409.41 1547.8 1407.44 1545.29 Q1405.47 1542.77 1401.52 1542.77 Q1396.78 1542.77 1394.04 1545.79 Q1391.3 1548.82 1391.3 1554.04 L1391.3 1574.19 L1385.42 1574.19 L1385.42 1538.54 L1391.3 1538.54 L1391.3 1544.08 Q1393.4 1540.86 1396.24 1539.27 Q1399.1 1537.68 1402.83 1537.68 Q1408.97 1537.68 1412.12 1541.5 Q1415.27 1545.29 1415.27 1552.67 Z\" fill=\"#000000\" fill-rule=\"evenodd\" fill-opacity=\"1\" /><path clip-path=\"url(#clip750)\" d=\"M1449.68 1539.59 L1449.68 1545.13 Q1447.19 1543.85 1444.52 1543.22 Q1441.85 1542.58 1438.98 1542.58 Q1434.62 1542.58 1432.43 1543.92 Q1430.26 1545.25 1430.26 1547.93 Q1430.26 1549.96 1431.82 1551.14 Q1433.38 1552.29 1438.09 1553.34 L1440.1 1553.78 Q1446.33 1555.12 1448.94 1557.57 Q1451.59 1559.99 1451.59 1564.35 Q1451.59 1569.32 1447.64 1572.21 Q1443.72 1575.11 1436.85 1575.11 Q1433.99 1575.11 1430.87 1574.54 Q1427.78 1573.99 1424.34 1572.88 L1424.34 1566.83 Q1427.59 1568.52 1430.74 1569.38 Q1433.89 1570.21 1436.98 1570.21 Q1441.11 1570.21 1443.34 1568.81 Q1445.57 1567.37 1445.57 1564.8 Q1445.57 1562.41 1443.95 1561.14 Q1442.36 1559.86 1436.91 1558.68 L1434.88 1558.21 Q1429.43 1557.06 1427.01 1554.71 Q1424.6 1552.32 1424.6 1548.18 Q1424.6 1543.15 1428.16 1540.42 Q1431.73 1537.68 1438.28 1537.68 Q1441.53 1537.68 1444.39 1538.16 Q1447.26 1538.63 1449.68 1539.59 Z\" fill=\"#000000\" fill-rule=\"evenodd\" fill-opacity=\"1\" /><polyline clip-path=\"url(#clip752)\" style=\"stroke:#000000; stroke-linecap:round; stroke-linejoin:round; stroke-width:2; stroke-opacity:0.1; fill:none\" points=\"\n",
       "  249.542,1372.3 2352.76,1372.3 \n",
       "  \"/>\n",
       "<polyline clip-path=\"url(#clip752)\" style=\"stroke:#000000; stroke-linecap:round; stroke-linejoin:round; stroke-width:2; stroke-opacity:0.1; fill:none\" points=\"\n",
       "  249.542,1050.69 2352.76,1050.69 \n",
       "  \"/>\n",
       "<polyline clip-path=\"url(#clip752)\" style=\"stroke:#000000; stroke-linecap:round; stroke-linejoin:round; stroke-width:2; stroke-opacity:0.1; fill:none\" points=\"\n",
       "  249.542,729.07 2352.76,729.07 \n",
       "  \"/>\n",
       "<polyline clip-path=\"url(#clip752)\" style=\"stroke:#000000; stroke-linecap:round; stroke-linejoin:round; stroke-width:2; stroke-opacity:0.1; fill:none\" points=\"\n",
       "  249.542,407.454 2352.76,407.454 \n",
       "  \"/>\n",
       "<polyline clip-path=\"url(#clip752)\" style=\"stroke:#000000; stroke-linecap:round; stroke-linejoin:round; stroke-width:2; stroke-opacity:0.1; fill:none\" points=\"\n",
       "  249.542,85.838 2352.76,85.838 \n",
       "  \"/>\n",
       "<polyline clip-path=\"url(#clip750)\" style=\"stroke:#000000; stroke-linecap:round; stroke-linejoin:round; stroke-width:4; stroke-opacity:1; fill:none\" points=\"\n",
       "  249.542,1410.9 249.542,47.2441 \n",
       "  \"/>\n",
       "<polyline clip-path=\"url(#clip750)\" style=\"stroke:#000000; stroke-linecap:round; stroke-linejoin:round; stroke-width:4; stroke-opacity:1; fill:none\" points=\"\n",
       "  249.542,1372.3 268.44,1372.3 \n",
       "  \"/>\n",
       "<polyline clip-path=\"url(#clip750)\" style=\"stroke:#000000; stroke-linecap:round; stroke-linejoin:round; stroke-width:4; stroke-opacity:1; fill:none\" points=\"\n",
       "  249.542,1050.69 268.44,1050.69 \n",
       "  \"/>\n",
       "<polyline clip-path=\"url(#clip750)\" style=\"stroke:#000000; stroke-linecap:round; stroke-linejoin:round; stroke-width:4; stroke-opacity:1; fill:none\" points=\"\n",
       "  249.542,729.07 268.44,729.07 \n",
       "  \"/>\n",
       "<polyline clip-path=\"url(#clip750)\" style=\"stroke:#000000; stroke-linecap:round; stroke-linejoin:round; stroke-width:4; stroke-opacity:1; fill:none\" points=\"\n",
       "  249.542,407.454 268.44,407.454 \n",
       "  \"/>\n",
       "<polyline clip-path=\"url(#clip750)\" style=\"stroke:#000000; stroke-linecap:round; stroke-linejoin:round; stroke-width:4; stroke-opacity:1; fill:none\" points=\"\n",
       "  249.542,85.838 268.44,85.838 \n",
       "  \"/>\n",
       "<path clip-path=\"url(#clip750)\" d=\"M126.205 1358.1 Q122.593 1358.1 120.765 1361.67 Q118.959 1365.21 118.959 1372.34 Q118.959 1379.44 120.765 1383.01 Q122.593 1386.55 126.205 1386.55 Q129.839 1386.55 131.644 1383.01 Q133.473 1379.44 133.473 1372.34 Q133.473 1365.21 131.644 1361.67 Q129.839 1358.1 126.205 1358.1 M126.205 1354.4 Q132.015 1354.4 135.07 1359 Q138.149 1363.59 138.149 1372.34 Q138.149 1381.06 135.07 1385.67 Q132.015 1390.25 126.205 1390.25 Q120.394 1390.25 117.316 1385.67 Q114.26 1381.06 114.26 1372.34 Q114.26 1363.59 117.316 1359 Q120.394 1354.4 126.205 1354.4 Z\" fill=\"#000000\" fill-rule=\"evenodd\" fill-opacity=\"1\" /><path clip-path=\"url(#clip750)\" d=\"M146.366 1383.7 L151.251 1383.7 L151.251 1389.58 L146.366 1389.58 L146.366 1383.7 Z\" fill=\"#000000\" fill-rule=\"evenodd\" fill-opacity=\"1\" /><path clip-path=\"url(#clip750)\" d=\"M171.436 1358.1 Q167.825 1358.1 165.996 1361.67 Q164.19 1365.21 164.19 1372.34 Q164.19 1379.44 165.996 1383.01 Q167.825 1386.55 171.436 1386.55 Q175.07 1386.55 176.876 1383.01 Q178.704 1379.44 178.704 1372.34 Q178.704 1365.21 176.876 1361.67 Q175.07 1358.1 171.436 1358.1 M171.436 1354.4 Q177.246 1354.4 180.301 1359 Q183.38 1363.59 183.38 1372.34 Q183.38 1381.06 180.301 1385.67 Q177.246 1390.25 171.436 1390.25 Q165.626 1390.25 162.547 1385.67 Q159.491 1381.06 159.491 1372.34 Q159.491 1363.59 162.547 1359 Q165.626 1354.4 171.436 1354.4 Z\" fill=\"#000000\" fill-rule=\"evenodd\" fill-opacity=\"1\" /><path clip-path=\"url(#clip750)\" d=\"M201.598 1358.1 Q197.987 1358.1 196.158 1361.67 Q194.352 1365.21 194.352 1372.34 Q194.352 1379.44 196.158 1383.01 Q197.987 1386.55 201.598 1386.55 Q205.232 1386.55 207.037 1383.01 Q208.866 1379.44 208.866 1372.34 Q208.866 1365.21 207.037 1361.67 Q205.232 1358.1 201.598 1358.1 M201.598 1354.4 Q207.408 1354.4 210.463 1359 Q213.542 1363.59 213.542 1372.34 Q213.542 1381.06 210.463 1385.67 Q207.408 1390.25 201.598 1390.25 Q195.787 1390.25 192.709 1385.67 Q189.653 1381.06 189.653 1372.34 Q189.653 1363.59 192.709 1359 Q195.787 1354.4 201.598 1354.4 Z\" fill=\"#000000\" fill-rule=\"evenodd\" fill-opacity=\"1\" /><path clip-path=\"url(#clip750)\" d=\"M127.2 1036.49 Q123.589 1036.49 121.76 1040.05 Q119.955 1043.59 119.955 1050.72 Q119.955 1057.83 121.76 1061.39 Q123.589 1064.93 127.2 1064.93 Q130.834 1064.93 132.64 1061.39 Q134.468 1057.83 134.468 1050.72 Q134.468 1043.59 132.64 1040.05 Q130.834 1036.49 127.2 1036.49 M127.2 1032.78 Q133.01 1032.78 136.066 1037.39 Q139.144 1041.97 139.144 1050.72 Q139.144 1059.45 136.066 1064.05 Q133.01 1068.64 127.2 1068.64 Q121.39 1068.64 118.311 1064.05 Q115.256 1059.45 115.256 1050.72 Q115.256 1041.97 118.311 1037.39 Q121.39 1032.78 127.2 1032.78 Z\" fill=\"#000000\" fill-rule=\"evenodd\" fill-opacity=\"1\" /><path clip-path=\"url(#clip750)\" d=\"M147.362 1062.09 L152.246 1062.09 L152.246 1067.97 L147.362 1067.97 L147.362 1062.09 Z\" fill=\"#000000\" fill-rule=\"evenodd\" fill-opacity=\"1\" /><path clip-path=\"url(#clip750)\" d=\"M166.459 1064.03 L182.778 1064.03 L182.778 1067.97 L160.834 1067.97 L160.834 1064.03 Q163.496 1061.28 168.079 1056.65 Q172.686 1051.99 173.866 1050.65 Q176.112 1048.13 176.991 1046.39 Q177.894 1044.63 177.894 1042.94 Q177.894 1040.19 175.95 1038.45 Q174.028 1036.72 170.927 1036.72 Q168.727 1036.72 166.274 1037.48 Q163.843 1038.24 161.065 1039.8 L161.065 1035.07 Q163.89 1033.94 166.343 1033.36 Q168.797 1032.78 170.834 1032.78 Q176.204 1032.78 179.399 1035.47 Q182.593 1038.15 182.593 1042.64 Q182.593 1044.77 181.783 1046.69 Q180.996 1048.59 178.889 1051.18 Q178.311 1051.86 175.209 1055.07 Q172.107 1058.27 166.459 1064.03 Z\" fill=\"#000000\" fill-rule=\"evenodd\" fill-opacity=\"1\" /><path clip-path=\"url(#clip750)\" d=\"M192.639 1033.41 L210.996 1033.41 L210.996 1037.34 L196.922 1037.34 L196.922 1045.81 Q197.94 1045.47 198.959 1045.3 Q199.977 1045.12 200.996 1045.12 Q206.783 1045.12 210.162 1048.29 Q213.542 1051.46 213.542 1056.88 Q213.542 1062.46 210.07 1065.56 Q206.598 1068.64 200.278 1068.64 Q198.102 1068.64 195.834 1068.27 Q193.588 1067.9 191.181 1067.16 L191.181 1062.46 Q193.264 1063.59 195.487 1064.15 Q197.709 1064.7 200.186 1064.7 Q204.19 1064.7 206.528 1062.6 Q208.866 1060.49 208.866 1056.88 Q208.866 1053.27 206.528 1051.16 Q204.19 1049.05 200.186 1049.05 Q198.311 1049.05 196.436 1049.47 Q194.584 1049.89 192.639 1050.77 L192.639 1033.41 Z\" fill=\"#000000\" fill-rule=\"evenodd\" fill-opacity=\"1\" /><path clip-path=\"url(#clip750)\" d=\"M126.205 714.869 Q122.593 714.869 120.765 718.434 Q118.959 721.975 118.959 729.105 Q118.959 736.212 120.765 739.776 Q122.593 743.318 126.205 743.318 Q129.839 743.318 131.644 739.776 Q133.473 736.212 133.473 729.105 Q133.473 721.975 131.644 718.434 Q129.839 714.869 126.205 714.869 M126.205 711.165 Q132.015 711.165 135.07 715.772 Q138.149 720.355 138.149 729.105 Q138.149 737.832 135.07 742.438 Q132.015 747.022 126.205 747.022 Q120.394 747.022 117.316 742.438 Q114.26 737.832 114.26 729.105 Q114.26 720.355 117.316 715.772 Q120.394 711.165 126.205 711.165 Z\" fill=\"#000000\" fill-rule=\"evenodd\" fill-opacity=\"1\" /><path clip-path=\"url(#clip750)\" d=\"M146.366 740.471 L151.251 740.471 L151.251 746.35 L146.366 746.35 L146.366 740.471 Z\" fill=\"#000000\" fill-rule=\"evenodd\" fill-opacity=\"1\" /><path clip-path=\"url(#clip750)\" d=\"M161.482 711.79 L179.839 711.79 L179.839 715.726 L165.765 715.726 L165.765 724.198 Q166.783 723.85 167.802 723.688 Q168.82 723.503 169.839 723.503 Q175.626 723.503 179.005 726.675 Q182.385 729.846 182.385 735.262 Q182.385 740.841 178.913 743.943 Q175.44 747.022 169.121 747.022 Q166.945 747.022 164.677 746.651 Q162.431 746.281 160.024 745.54 L160.024 740.841 Q162.107 741.975 164.329 742.531 Q166.552 743.086 169.028 743.086 Q173.033 743.086 175.371 740.98 Q177.709 738.874 177.709 735.262 Q177.709 731.651 175.371 729.545 Q173.033 727.438 169.028 727.438 Q167.153 727.438 165.278 727.855 Q163.427 728.272 161.482 729.151 L161.482 711.79 Z\" fill=\"#000000\" fill-rule=\"evenodd\" fill-opacity=\"1\" /><path clip-path=\"url(#clip750)\" d=\"M201.598 714.869 Q197.987 714.869 196.158 718.434 Q194.352 721.975 194.352 729.105 Q194.352 736.212 196.158 739.776 Q197.987 743.318 201.598 743.318 Q205.232 743.318 207.037 739.776 Q208.866 736.212 208.866 729.105 Q208.866 721.975 207.037 718.434 Q205.232 714.869 201.598 714.869 M201.598 711.165 Q207.408 711.165 210.463 715.772 Q213.542 720.355 213.542 729.105 Q213.542 737.832 210.463 742.438 Q207.408 747.022 201.598 747.022 Q195.787 747.022 192.709 742.438 Q189.653 737.832 189.653 729.105 Q189.653 720.355 192.709 715.772 Q195.787 711.165 201.598 711.165 Z\" fill=\"#000000\" fill-rule=\"evenodd\" fill-opacity=\"1\" /><path clip-path=\"url(#clip750)\" d=\"M127.2 393.253 Q123.589 393.253 121.76 396.818 Q119.955 400.359 119.955 407.489 Q119.955 414.595 121.76 418.16 Q123.589 421.702 127.2 421.702 Q130.834 421.702 132.64 418.16 Q134.468 414.595 134.468 407.489 Q134.468 400.359 132.64 396.818 Q130.834 393.253 127.2 393.253 M127.2 389.549 Q133.01 389.549 136.066 394.156 Q139.144 398.739 139.144 407.489 Q139.144 416.216 136.066 420.822 Q133.01 425.405 127.2 425.405 Q121.39 425.405 118.311 420.822 Q115.256 416.216 115.256 407.489 Q115.256 398.739 118.311 394.156 Q121.39 389.549 127.2 389.549 Z\" fill=\"#000000\" fill-rule=\"evenodd\" fill-opacity=\"1\" /><path clip-path=\"url(#clip750)\" d=\"M147.362 418.855 L152.246 418.855 L152.246 424.734 L147.362 424.734 L147.362 418.855 Z\" fill=\"#000000\" fill-rule=\"evenodd\" fill-opacity=\"1\" /><path clip-path=\"url(#clip750)\" d=\"M161.251 390.174 L183.473 390.174 L183.473 392.165 L170.927 424.734 L166.042 424.734 L177.848 394.109 L161.251 394.109 L161.251 390.174 Z\" fill=\"#000000\" fill-rule=\"evenodd\" fill-opacity=\"1\" /><path clip-path=\"url(#clip750)\" d=\"M192.639 390.174 L210.996 390.174 L210.996 394.109 L196.922 394.109 L196.922 402.582 Q197.94 402.234 198.959 402.072 Q199.977 401.887 200.996 401.887 Q206.783 401.887 210.162 405.058 Q213.542 408.23 213.542 413.646 Q213.542 419.225 210.07 422.327 Q206.598 425.405 200.278 425.405 Q198.102 425.405 195.834 425.035 Q193.588 424.665 191.181 423.924 L191.181 419.225 Q193.264 420.359 195.487 420.915 Q197.709 421.47 200.186 421.47 Q204.19 421.47 206.528 419.364 Q208.866 417.257 208.866 413.646 Q208.866 410.035 206.528 407.929 Q204.19 405.822 200.186 405.822 Q198.311 405.822 196.436 406.239 Q194.584 406.656 192.639 407.535 L192.639 390.174 Z\" fill=\"#000000\" fill-rule=\"evenodd\" fill-opacity=\"1\" /><path clip-path=\"url(#clip750)\" d=\"M117.015 99.1829 L124.654 99.1829 L124.654 72.8173 L116.343 74.4839 L116.343 70.2247 L124.607 68.558 L129.283 68.558 L129.283 99.1829 L136.922 99.1829 L136.922 103.118 L117.015 103.118 L117.015 99.1829 Z\" fill=\"#000000\" fill-rule=\"evenodd\" fill-opacity=\"1\" /><path clip-path=\"url(#clip750)\" d=\"M146.366 97.2384 L151.251 97.2384 L151.251 103.118 L146.366 103.118 L146.366 97.2384 Z\" fill=\"#000000\" fill-rule=\"evenodd\" fill-opacity=\"1\" /><path clip-path=\"url(#clip750)\" d=\"M171.436 71.6367 Q167.825 71.6367 165.996 75.2015 Q164.19 78.7432 164.19 85.8728 Q164.19 92.9792 165.996 96.544 Q167.825 100.086 171.436 100.086 Q175.07 100.086 176.876 96.544 Q178.704 92.9792 178.704 85.8728 Q178.704 78.7432 176.876 75.2015 Q175.07 71.6367 171.436 71.6367 M171.436 67.933 Q177.246 67.933 180.301 72.5395 Q183.38 77.1228 183.38 85.8728 Q183.38 94.5996 180.301 99.206 Q177.246 103.789 171.436 103.789 Q165.626 103.789 162.547 99.206 Q159.491 94.5996 159.491 85.8728 Q159.491 77.1228 162.547 72.5395 Q165.626 67.933 171.436 67.933 Z\" fill=\"#000000\" fill-rule=\"evenodd\" fill-opacity=\"1\" /><path clip-path=\"url(#clip750)\" d=\"M201.598 71.6367 Q197.987 71.6367 196.158 75.2015 Q194.352 78.7432 194.352 85.8728 Q194.352 92.9792 196.158 96.544 Q197.987 100.086 201.598 100.086 Q205.232 100.086 207.037 96.544 Q208.866 92.9792 208.866 85.8728 Q208.866 78.7432 207.037 75.2015 Q205.232 71.6367 201.598 71.6367 M201.598 67.933 Q207.408 67.933 210.463 72.5395 Q213.542 77.1228 213.542 85.8728 Q213.542 94.5996 210.463 99.206 Q207.408 103.789 201.598 103.789 Q195.787 103.789 192.709 99.206 Q189.653 94.5996 189.653 85.8728 Q189.653 77.1228 192.709 72.5395 Q195.787 67.933 201.598 67.933 Z\" fill=\"#000000\" fill-rule=\"evenodd\" fill-opacity=\"1\" /><path clip-path=\"url(#clip750)\" d=\"M18.0438 910.891 L24.314 910.891 Q22.5634 914.551 21.704 917.798 Q20.8447 921.044 20.8447 924.068 Q20.8447 929.32 22.8817 932.184 Q24.9187 935.017 28.6745 935.017 Q31.8255 935.017 33.4488 933.139 Q35.0402 931.229 36.0269 925.946 L36.8226 922.063 Q38.1912 914.869 41.6605 911.464 Q45.098 908.026 50.8908 908.026 Q57.7976 908.026 61.3624 912.673 Q64.9272 917.288 64.9272 926.232 Q64.9272 929.606 64.1633 933.425 Q63.3994 937.213 61.9035 941.287 L55.2831 941.287 Q57.4793 937.372 58.5933 933.616 Q59.7073 929.861 59.7073 926.232 Q59.7073 920.726 57.543 917.734 Q55.3786 914.742 51.3682 914.742 Q47.8671 914.742 45.8937 916.906 Q43.9204 919.039 42.9337 923.941 L42.1698 927.855 Q40.7375 935.049 37.682 938.263 Q34.6264 941.478 29.1837 941.478 Q22.8817 941.478 19.2532 937.054 Q15.6248 932.598 15.6248 924.8 Q15.6248 921.458 16.2295 917.989 Q16.8343 914.519 18.0438 910.891 Z\" fill=\"#000000\" fill-rule=\"evenodd\" fill-opacity=\"1\" /><path clip-path=\"url(#clip750)\" d=\"M49.9359 898.86 L28.3562 898.86 L28.3562 893.003 L49.7131 893.003 Q54.7739 893.003 57.3202 891.03 Q59.8346 889.056 59.8346 885.11 Q59.8346 880.367 56.8109 877.63 Q53.7872 874.861 48.5673 874.861 L28.3562 874.861 L28.3562 869.005 L64.0042 869.005 L64.0042 874.861 L58.5296 874.861 Q61.7762 876.993 63.3676 879.826 Q64.9272 882.627 64.9272 886.351 Q64.9272 892.494 61.1078 895.677 Q57.2883 898.86 49.9359 898.86 M27.4968 884.123 L27.4968 884.123 Z\" fill=\"#000000\" fill-rule=\"evenodd\" fill-opacity=\"1\" /><path clip-path=\"url(#clip750)\" d=\"M29.7248 831.288 L35.1993 831.288 Q33.8307 833.77 33.1623 836.285 Q32.4621 838.767 32.4621 841.314 Q32.4621 847.011 36.0905 850.162 Q39.6872 853.313 46.212 853.313 Q52.7369 853.313 56.3653 850.162 Q59.9619 847.011 59.9619 841.314 Q59.9619 838.767 59.2935 836.285 Q58.5933 833.77 57.2247 831.288 L62.6355 831.288 Q63.7814 833.738 64.3543 836.38 Q64.9272 838.99 64.9272 841.95 Q64.9272 850.003 59.8664 854.745 Q54.8057 859.488 46.212 859.488 Q37.491 859.488 32.4939 854.714 Q27.4968 849.907 27.4968 841.568 Q27.4968 838.863 28.0697 836.285 Q28.6108 833.707 29.7248 831.288 Z\" fill=\"#000000\" fill-rule=\"evenodd\" fill-opacity=\"1\" /><path clip-path=\"url(#clip750)\" d=\"M29.7248 795.449 L35.1993 795.449 Q33.8307 797.931 33.1623 800.446 Q32.4621 802.928 32.4621 805.475 Q32.4621 811.172 36.0905 814.323 Q39.6872 817.474 46.212 817.474 Q52.7369 817.474 56.3653 814.323 Q59.9619 811.172 59.9619 805.475 Q59.9619 802.928 59.2935 800.446 Q58.5933 797.931 57.2247 795.449 L62.6355 795.449 Q63.7814 797.9 64.3543 800.541 Q64.9272 803.151 64.9272 806.111 Q64.9272 814.164 59.8664 818.906 Q54.8057 823.649 46.212 823.649 Q37.491 823.649 32.4939 818.875 Q27.4968 814.068 27.4968 805.729 Q27.4968 803.024 28.0697 800.446 Q28.6108 797.868 29.7248 795.449 Z\" fill=\"#000000\" fill-rule=\"evenodd\" fill-opacity=\"1\" /><path clip-path=\"url(#clip750)\" d=\"M44.7161 754.772 L47.5806 754.772 L47.5806 781.699 Q53.6281 781.317 56.8109 778.07 Q59.9619 774.792 59.9619 768.967 Q59.9619 765.594 59.1344 762.443 Q58.3069 759.26 56.6518 756.141 L62.1899 756.141 Q63.5267 759.292 64.227 762.602 Q64.9272 765.912 64.9272 769.318 Q64.9272 777.848 59.9619 782.845 Q54.9967 787.81 46.5303 787.81 Q37.7774 787.81 32.6531 783.099 Q27.4968 778.357 27.4968 770.336 Q27.4968 763.143 32.1438 758.973 Q36.7589 754.772 44.7161 754.772 M42.9973 760.628 Q38.1912 760.692 35.3266 763.334 Q32.4621 765.944 32.4621 770.272 Q32.4621 775.174 35.2312 778.134 Q38.0002 781.062 43.0292 781.508 L42.9973 760.628 Z\" fill=\"#000000\" fill-rule=\"evenodd\" fill-opacity=\"1\" /><path clip-path=\"url(#clip750)\" d=\"M29.4065 722.434 L34.9447 722.434 Q33.6716 724.917 33.035 727.59 Q32.3984 730.264 32.3984 733.129 Q32.3984 737.489 33.7352 739.685 Q35.072 741.85 37.7456 741.85 Q39.7826 741.85 40.9603 740.29 Q42.1061 738.73 43.1565 734.02 L43.6021 732.015 Q44.9389 725.776 47.3897 723.166 Q49.8086 720.524 54.1691 720.524 Q59.1344 720.524 62.0308 724.471 Q64.9272 728.386 64.9272 735.261 Q64.9272 738.126 64.3543 741.245 Q63.8132 744.332 62.6992 747.77 L56.6518 747.77 Q58.3387 744.523 59.198 741.372 Q60.0256 738.221 60.0256 735.134 Q60.0256 730.996 58.6251 728.768 Q57.1929 726.54 54.6147 726.54 Q52.2276 726.54 50.9545 728.163 Q49.6813 729.755 48.5037 735.197 L48.0262 737.234 Q46.8804 742.677 44.5251 745.096 Q42.138 747.515 38.0002 747.515 Q32.9713 747.515 30.2341 743.95 Q27.4968 740.385 27.4968 733.829 Q27.4968 730.582 27.9743 727.718 Q28.4517 724.853 29.4065 722.434 Z\" fill=\"#000000\" fill-rule=\"evenodd\" fill-opacity=\"1\" /><path clip-path=\"url(#clip750)\" d=\"M29.4065 688.473 L34.9447 688.473 Q33.6716 690.956 33.035 693.629 Q32.3984 696.303 32.3984 699.167 Q32.3984 703.528 33.7352 705.724 Q35.072 707.888 37.7456 707.888 Q39.7826 707.888 40.9603 706.329 Q42.1061 704.769 43.1565 700.059 L43.6021 698.053 Q44.9389 691.815 47.3897 689.205 Q49.8086 686.563 54.1691 686.563 Q59.1344 686.563 62.0308 690.51 Q64.9272 694.425 64.9272 701.3 Q64.9272 704.165 64.3543 707.284 Q63.8132 710.371 62.6992 713.809 L56.6518 713.809 Q58.3387 710.562 59.198 707.411 Q60.0256 704.26 60.0256 701.173 Q60.0256 697.035 58.6251 694.807 Q57.1929 692.579 54.6147 692.579 Q52.2276 692.579 50.9545 694.202 Q49.6813 695.794 48.5037 701.236 L48.0262 703.273 Q46.8804 708.716 44.5251 711.135 Q42.138 713.554 38.0002 713.554 Q32.9713 713.554 30.2341 709.989 Q27.4968 706.424 27.4968 699.868 Q27.4968 696.621 27.9743 693.757 Q28.4517 690.892 29.4065 688.473 Z\" fill=\"#000000\" fill-rule=\"evenodd\" fill-opacity=\"1\" /><path clip-path=\"url(#clip750)\" d=\"M41.7242 633.728 Q42.4244 631.659 44.7161 629.718 Q47.0077 627.744 51.0181 625.771 L64.0042 619.246 L64.0042 626.153 L51.8138 632.232 Q47.0395 634.587 45.48 636.815 Q43.9204 639.012 43.9204 642.831 L43.9204 649.833 L64.0042 649.833 L64.0042 656.263 L16.4842 656.263 L16.4842 641.749 Q16.4842 633.601 19.8898 629.59 Q23.2955 625.58 30.1704 625.58 Q34.6582 625.58 37.6183 627.681 Q40.5784 629.749 41.7242 633.728 M21.7677 649.833 L38.6368 649.833 L38.6368 641.749 Q38.6368 637.102 36.5043 634.747 Q34.34 632.359 30.1704 632.359 Q26.0009 632.359 23.9002 634.747 Q21.7677 637.102 21.7677 641.749 L21.7677 649.833 Z\" fill=\"#000000\" fill-rule=\"evenodd\" fill-opacity=\"1\" /><path clip-path=\"url(#clip750)\" d=\"M46.0847 596.457 Q46.0847 603.555 47.7079 606.292 Q49.3312 609.029 53.2461 609.029 Q56.3653 609.029 58.2114 606.992 Q60.0256 604.923 60.0256 601.39 Q60.0256 596.52 56.5881 593.592 Q53.1188 590.632 47.3897 590.632 L46.0847 590.632 L46.0847 596.457 M43.6657 584.776 L64.0042 584.776 L64.0042 590.632 L58.5933 590.632 Q61.8398 592.637 63.3994 595.629 Q64.9272 598.621 64.9272 602.95 Q64.9272 608.424 61.8716 611.671 Q58.7843 614.886 53.6281 614.886 Q47.6125 614.886 44.5569 610.875 Q41.5014 606.833 41.5014 598.844 L41.5014 590.632 L40.9285 590.632 Q36.8862 590.632 34.6901 593.306 Q32.4621 595.948 32.4621 600.754 Q32.4621 603.809 33.1941 606.706 Q33.9262 609.602 35.3903 612.276 L29.9795 612.276 Q28.7381 609.061 28.1334 606.037 Q27.4968 603.013 27.4968 600.149 Q27.4968 592.415 31.5072 588.595 Q35.5176 584.776 43.6657 584.776 Z\" fill=\"#000000\" fill-rule=\"evenodd\" fill-opacity=\"1\" /><path clip-path=\"url(#clip750)\" d=\"M18.2347 566.92 L28.3562 566.92 L28.3562 554.857 L32.9077 554.857 L32.9077 566.92 L52.2594 566.92 Q56.6199 566.92 57.8613 565.742 Q59.1026 564.533 59.1026 560.872 L59.1026 554.857 L64.0042 554.857 L64.0042 560.872 Q64.0042 567.652 61.4897 570.23 Q58.9434 572.808 52.2594 572.808 L32.9077 572.808 L32.9077 577.105 L28.3562 577.105 L28.3562 572.808 L18.2347 572.808 L18.2347 566.92 Z\" fill=\"#000000\" fill-rule=\"evenodd\" fill-opacity=\"1\" /><path clip-path=\"url(#clip750)\" d=\"M44.7161 516.663 L47.5806 516.663 L47.5806 543.59 Q53.6281 543.208 56.8109 539.961 Q59.9619 536.683 59.9619 530.858 Q59.9619 527.484 59.1344 524.333 Q58.3069 521.15 56.6518 518.031 L62.1899 518.031 Q63.5267 521.182 64.227 524.492 Q64.9272 527.803 64.9272 531.208 Q64.9272 539.738 59.9619 544.735 Q54.9967 549.701 46.5303 549.701 Q37.7774 549.701 32.6531 544.99 Q27.4968 540.248 27.4968 532.227 Q27.4968 525.034 32.1438 520.864 Q36.7589 516.663 44.7161 516.663 M42.9973 522.519 Q38.1912 522.583 35.3266 525.225 Q32.4621 527.834 32.4621 532.163 Q32.4621 537.065 35.2312 540.025 Q38.0002 542.953 43.0292 543.399 L42.9973 522.519 Z\" fill=\"#000000\" fill-rule=\"evenodd\" fill-opacity=\"1\" /><polyline clip-path=\"url(#clip752)\" style=\"stroke:#009af9; stroke-linecap:round; stroke-linejoin:round; stroke-width:4; stroke-opacity:1; fill:none\" points=\"\n",
       "  309.067,1359.44 319.038,1346.57 329.008,1365.87 338.979,1359.44 348.95,1359.44 358.92,1353.01 368.891,1365.87 378.862,1372.3 388.832,1365.87 398.803,1372.3 \n",
       "  408.774,1340.14 418.744,1359.44 428.715,1359.44 438.686,1365.87 448.656,1353.01 458.627,1353.01 468.598,1353.01 478.568,1333.71 488.539,1353.01 498.51,1353.01 \n",
       "  508.48,1346.57 518.451,1353.01 528.422,1333.71 538.392,1346.57 548.363,1333.71 558.334,1333.71 568.304,1320.84 578.275,1340.14 588.246,1307.98 598.216,1314.41 \n",
       "  608.187,1346.57 618.158,1353.01 628.129,1327.28 638.099,1333.71 648.07,1288.68 658.041,1282.25 668.011,1230.79 677.982,1127.87 687.953,1102.15 697.923,954.202 \n",
       "  707.894,928.472 717.865,883.446 727.835,696.909 737.806,690.476 747.777,729.07 757.747,619.721 767.718,478.21 777.689,484.642 787.659,323.834 797.63,368.86 \n",
       "  807.601,388.157 817.571,291.672 827.542,240.214 837.513,163.026 847.483,188.755 857.454,175.891 867.425,130.864 877.395,150.161 887.366,118 897.337,188.755 \n",
       "  907.307,182.323 917.278,98.7027 927.249,130.864 937.219,137.297 947.19,124.432 957.161,150.161 967.131,118 977.102,124.432 987.073,111.567 997.043,111.567 \n",
       "  1007.01,111.567 1016.98,98.7027 1026.96,85.838 1036.93,85.838 1046.9,105.135 1056.87,98.7027 1066.84,98.7027 1076.81,98.7027 1086.78,98.7027 1096.75,111.567 \n",
       "  1106.72,105.135 1116.69,92.2704 1126.66,111.567 1136.63,111.567 1146.6,85.838 1156.57,105.135 1166.54,98.7027 1176.52,111.567 1186.49,111.567 1196.46,92.2704 \n",
       "  1206.43,105.135 1216.4,92.2704 1226.37,111.567 1236.34,130.864 1246.31,98.7027 1256.28,98.7027 1266.25,98.7027 1276.22,85.838 1286.19,98.7027 1296.16,85.838 \n",
       "  1306.13,124.432 1316.1,98.7027 1326.08,92.2704 1336.05,92.2704 1346.02,118 1355.99,118 1365.96,92.2704 1375.93,92.2704 1385.9,111.567 1395.87,85.838 \n",
       "  1405.84,105.135 1415.81,85.838 1425.78,85.838 1435.75,98.7027 1445.72,92.2704 1455.69,98.7027 1465.67,92.2704 1475.64,85.838 1485.61,98.7027 1495.58,98.7027 \n",
       "  1505.55,98.7027 1515.52,92.2704 1525.49,92.2704 1535.46,98.7027 1545.43,92.2704 1555.4,118 1565.37,92.2704 1575.34,98.7027 1585.31,92.2704 1595.28,92.2704 \n",
       "  1605.25,85.838 1615.23,98.7027 1625.2,92.2704 1635.17,92.2704 1645.14,92.2704 1655.11,85.838 1665.08,85.838 1675.05,85.838 1685.02,85.838 1694.99,98.7027 \n",
       "  1704.96,85.838 1714.93,85.838 1724.9,92.2704 1734.87,85.838 1744.84,85.838 1754.81,85.838 1764.79,98.7027 1774.76,92.2704 1784.73,85.838 1794.7,105.135 \n",
       "  1804.67,85.838 1814.64,98.7027 1824.61,85.838 1834.58,98.7027 1844.55,85.838 1854.52,85.838 1864.49,92.2704 1874.46,85.838 1884.43,98.7027 1894.4,85.838 \n",
       "  1904.37,85.838 1914.35,85.838 1924.32,85.838 1934.29,92.2704 1944.26,85.838 1954.23,85.838 1964.2,85.838 1974.17,85.838 1984.14,85.838 1994.11,92.2704 \n",
       "  2004.08,85.838 2014.05,85.838 2024.02,85.838 2033.99,92.2704 2043.96,98.7027 2053.93,98.7027 2063.91,85.838 2073.88,85.838 2083.85,85.838 2093.82,85.838 \n",
       "  2103.79,85.838 2113.76,85.838 2123.73,98.7027 2133.7,105.135 2143.67,85.838 2153.64,92.2704 2163.61,85.838 2173.58,85.838 2183.55,85.838 2193.52,92.2704 \n",
       "  2203.49,85.838 2213.47,92.2704 2223.44,85.838 2233.41,92.2704 2243.38,85.838 2253.35,92.2704 2263.32,85.838 2273.29,85.838 2283.26,85.838 2293.23,85.838 \n",
       "  \n",
       "  \"/>\n",
       "</svg>\n"
      ]
     },
     "execution_count": 43,
     "metadata": {},
     "output_type": "execute_result"
    }
   ],
   "source": [
    "plot(iterations, success_rate, xlabel=\"Iterations\", ylabel=\"Success Rate\", legend = false, xformatter = :scientific)"
   ]
  },
  {
   "cell_type": "code",
   "execution_count": 44,
   "id": "4e57d828",
   "metadata": {},
   "outputs": [
    {
     "data": {
      "text/plain": [
       "\"/home/larissa/Documents/Projects/ADLR/ADLR_project/src/3d/plots/slow/success_rate.svg\""
      ]
     },
     "execution_count": 44,
     "metadata": {},
     "output_type": "execute_result"
    }
   ],
   "source": [
    "savefig(fig_path * \"success_rate.svg\")"
   ]
  },
  {
   "cell_type": "code",
   "execution_count": 45,
   "id": "480d67d7",
   "metadata": {
    "scrolled": false
   },
   "outputs": [
    {
     "data": {
      "image/svg+xml": [
       "<?xml version=\"1.0\" encoding=\"utf-8\"?>\n",
       "<svg xmlns=\"http://www.w3.org/2000/svg\" xmlns:xlink=\"http://www.w3.org/1999/xlink\" width=\"600\" height=\"400\" viewBox=\"0 0 2400 1600\">\n",
       "<defs>\n",
       "  <clipPath id=\"clip830\">\n",
       "    <rect x=\"0\" y=\"0\" width=\"2400\" height=\"1600\"/>\n",
       "  </clipPath>\n",
       "</defs>\n",
       "<path clip-path=\"url(#clip830)\" d=\"\n",
       "M0 1600 L2400 1600 L2400 0 L0 0  Z\n",
       "  \" fill=\"#ffffff\" fill-rule=\"evenodd\" fill-opacity=\"1\"/>\n",
       "<defs>\n",
       "  <clipPath id=\"clip831\">\n",
       "    <rect x=\"480\" y=\"0\" width=\"1681\" height=\"1600\"/>\n",
       "  </clipPath>\n",
       "</defs>\n",
       "<path clip-path=\"url(#clip830)\" d=\"\n",
       "M219.033 1410.9 L2352.76 1410.9 L2352.76 47.2441 L219.033 47.2441  Z\n",
       "  \" fill=\"#ffffff\" fill-rule=\"evenodd\" fill-opacity=\"1\"/>\n",
       "<defs>\n",
       "  <clipPath id=\"clip832\">\n",
       "    <rect x=\"219\" y=\"47\" width=\"2135\" height=\"1365\"/>\n",
       "  </clipPath>\n",
       "</defs>\n",
       "<polyline clip-path=\"url(#clip832)\" style=\"stroke:#000000; stroke-linecap:round; stroke-linejoin:round; stroke-width:2; stroke-opacity:0.1; fill:none\" points=\"\n",
       "  269.306,1410.9 269.306,47.2441 \n",
       "  \"/>\n",
       "<polyline clip-path=\"url(#clip832)\" style=\"stroke:#000000; stroke-linecap:round; stroke-linejoin:round; stroke-width:2; stroke-opacity:0.1; fill:none\" points=\"\n",
       "  775.071,1410.9 775.071,47.2441 \n",
       "  \"/>\n",
       "<polyline clip-path=\"url(#clip832)\" style=\"stroke:#000000; stroke-linecap:round; stroke-linejoin:round; stroke-width:2; stroke-opacity:0.1; fill:none\" points=\"\n",
       "  1280.84,1410.9 1280.84,47.2441 \n",
       "  \"/>\n",
       "<polyline clip-path=\"url(#clip832)\" style=\"stroke:#000000; stroke-linecap:round; stroke-linejoin:round; stroke-width:2; stroke-opacity:0.1; fill:none\" points=\"\n",
       "  1786.6,1410.9 1786.6,47.2441 \n",
       "  \"/>\n",
       "<polyline clip-path=\"url(#clip832)\" style=\"stroke:#000000; stroke-linecap:round; stroke-linejoin:round; stroke-width:2; stroke-opacity:0.1; fill:none\" points=\"\n",
       "  2292.37,1410.9 2292.37,47.2441 \n",
       "  \"/>\n",
       "<polyline clip-path=\"url(#clip830)\" style=\"stroke:#000000; stroke-linecap:round; stroke-linejoin:round; stroke-width:4; stroke-opacity:1; fill:none\" points=\"\n",
       "  219.033,1410.9 2352.76,1410.9 \n",
       "  \"/>\n",
       "<polyline clip-path=\"url(#clip830)\" style=\"stroke:#000000; stroke-linecap:round; stroke-linejoin:round; stroke-width:4; stroke-opacity:1; fill:none\" points=\"\n",
       "  269.306,1410.9 269.306,1392 \n",
       "  \"/>\n",
       "<polyline clip-path=\"url(#clip830)\" style=\"stroke:#000000; stroke-linecap:round; stroke-linejoin:round; stroke-width:4; stroke-opacity:1; fill:none\" points=\"\n",
       "  775.071,1410.9 775.071,1392 \n",
       "  \"/>\n",
       "<polyline clip-path=\"url(#clip830)\" style=\"stroke:#000000; stroke-linecap:round; stroke-linejoin:round; stroke-width:4; stroke-opacity:1; fill:none\" points=\"\n",
       "  1280.84,1410.9 1280.84,1392 \n",
       "  \"/>\n",
       "<polyline clip-path=\"url(#clip830)\" style=\"stroke:#000000; stroke-linecap:round; stroke-linejoin:round; stroke-width:4; stroke-opacity:1; fill:none\" points=\"\n",
       "  1786.6,1410.9 1786.6,1392 \n",
       "  \"/>\n",
       "<polyline clip-path=\"url(#clip830)\" style=\"stroke:#000000; stroke-linecap:round; stroke-linejoin:round; stroke-width:4; stroke-opacity:1; fill:none\" points=\"\n",
       "  2292.37,1410.9 2292.37,1392 \n",
       "  \"/>\n",
       "<path clip-path=\"url(#clip830)\" d=\"M269.306 1441.82 Q265.695 1441.82 263.866 1445.38 Q262.061 1448.92 262.061 1456.05 Q262.061 1463.16 263.866 1466.72 Q265.695 1470.26 269.306 1470.26 Q272.94 1470.26 274.746 1466.72 Q276.574 1463.16 276.574 1456.05 Q276.574 1448.92 274.746 1445.38 Q272.94 1441.82 269.306 1441.82 M269.306 1438.11 Q275.116 1438.11 278.172 1442.72 Q281.25 1447.3 281.25 1456.05 Q281.25 1464.78 278.172 1469.38 Q275.116 1473.97 269.306 1473.97 Q263.496 1473.97 260.417 1469.38 Q257.362 1464.78 257.362 1456.05 Q257.362 1447.3 260.417 1442.72 Q263.496 1438.11 269.306 1438.11 Z\" fill=\"#000000\" fill-rule=\"evenodd\" fill-opacity=\"1\" /><path clip-path=\"url(#clip830)\" d=\"M667.437 1454.4 L685.793 1454.4 L685.793 1458.33 L671.719 1458.33 L671.719 1466.8 Q672.738 1466.46 673.756 1466.29 Q674.775 1466.11 675.793 1466.11 Q681.58 1466.11 684.96 1469.28 Q688.339 1472.45 688.339 1477.87 Q688.339 1483.45 684.867 1486.55 Q681.395 1489.63 675.076 1489.63 Q672.9 1489.63 670.631 1489.26 Q668.386 1488.89 665.978 1488.15 L665.978 1483.45 Q668.062 1484.58 670.284 1485.14 Q672.506 1485.69 674.983 1485.69 Q678.988 1485.69 681.326 1483.59 Q683.663 1481.48 683.663 1477.87 Q683.663 1474.26 681.326 1472.15 Q678.988 1470.04 674.983 1470.04 Q673.108 1470.04 671.233 1470.46 Q669.381 1470.88 667.437 1471.76 L667.437 1454.4 Z\" fill=\"#000000\" fill-rule=\"evenodd\" fill-opacity=\"1\" /><path clip-path=\"url(#clip830)\" d=\"M697.552 1483.08 L702.437 1483.08 L702.437 1488.96 L697.552 1488.96 L697.552 1483.08 Z\" fill=\"#000000\" fill-rule=\"evenodd\" fill-opacity=\"1\" /><path clip-path=\"url(#clip830)\" d=\"M722.622 1457.48 Q719.01 1457.48 717.182 1461.04 Q715.376 1464.58 715.376 1471.71 Q715.376 1478.82 717.182 1482.38 Q719.01 1485.92 722.622 1485.92 Q726.256 1485.92 728.061 1482.38 Q729.89 1478.82 729.89 1471.71 Q729.89 1464.58 728.061 1461.04 Q726.256 1457.48 722.622 1457.48 M722.622 1453.77 Q728.432 1453.77 731.487 1458.38 Q734.566 1462.96 734.566 1471.71 Q734.566 1480.44 731.487 1485.04 Q728.432 1489.63 722.622 1489.63 Q716.811 1489.63 713.733 1485.04 Q710.677 1480.44 710.677 1471.71 Q710.677 1462.96 713.733 1458.38 Q716.811 1453.77 722.622 1453.77 Z\" fill=\"#000000\" fill-rule=\"evenodd\" fill-opacity=\"1\" /><path clip-path=\"url(#clip830)\" d=\"M752.783 1457.48 Q749.172 1457.48 747.344 1461.04 Q745.538 1464.58 745.538 1471.71 Q745.538 1478.82 747.344 1482.38 Q749.172 1485.92 752.783 1485.92 Q756.418 1485.92 758.223 1482.38 Q760.052 1478.82 760.052 1471.71 Q760.052 1464.58 758.223 1461.04 Q756.418 1457.48 752.783 1457.48 M752.783 1453.77 Q758.594 1453.77 761.649 1458.38 Q764.728 1462.96 764.728 1471.71 Q764.728 1480.44 761.649 1485.04 Q758.594 1489.63 752.783 1489.63 Q746.973 1489.63 743.895 1485.04 Q740.839 1480.44 740.839 1471.71 Q740.839 1462.96 743.895 1458.38 Q746.973 1453.77 752.783 1453.77 Z\" fill=\"#000000\" fill-rule=\"evenodd\" fill-opacity=\"1\" /><path clip-path=\"url(#clip830)\" d=\"M801.117 1463.49 L790.538 1474.12 L801.117 1484.7 L798.362 1487.5 L787.737 1476.87 L777.112 1487.5 L774.381 1484.7 L784.936 1474.12 L774.381 1463.49 L777.112 1460.69 L787.737 1471.32 L798.362 1460.69 L801.117 1463.49 Z\" fill=\"#000000\" fill-rule=\"evenodd\" fill-opacity=\"1\" /><path clip-path=\"url(#clip830)\" d=\"M813.478 1485.02 L821.116 1485.02 L821.116 1458.66 L812.806 1460.32 L812.806 1456.06 L821.07 1454.4 L825.746 1454.4 L825.746 1485.02 L833.385 1485.02 L833.385 1488.96 L813.478 1488.96 L813.478 1485.02 Z\" fill=\"#000000\" fill-rule=\"evenodd\" fill-opacity=\"1\" /><path clip-path=\"url(#clip830)\" d=\"M852.829 1457.48 Q849.218 1457.48 847.389 1461.04 Q845.584 1464.58 845.584 1471.71 Q845.584 1478.82 847.389 1482.38 Q849.218 1485.92 852.829 1485.92 Q856.463 1485.92 858.269 1482.38 Q860.098 1478.82 860.098 1471.71 Q860.098 1464.58 858.269 1461.04 Q856.463 1457.48 852.829 1457.48 M852.829 1453.77 Q858.639 1453.77 861.695 1458.38 Q864.774 1462.96 864.774 1471.71 Q864.774 1480.44 861.695 1485.04 Q858.639 1489.63 852.829 1489.63 Q847.019 1489.63 843.94 1485.04 Q840.885 1480.44 840.885 1471.71 Q840.885 1462.96 843.94 1458.38 Q847.019 1453.77 852.829 1453.77 Z\" fill=\"#000000\" fill-rule=\"evenodd\" fill-opacity=\"1\" /><path clip-path=\"url(#clip830)\" d=\"M874.798 1445.99 Q872.24 1445.99 870.736 1447.74 Q869.25 1449.49 869.25 1452.54 Q869.25 1455.57 870.736 1457.33 Q872.24 1459.08 874.798 1459.08 Q877.356 1459.08 878.842 1457.33 Q880.346 1455.57 880.346 1452.54 Q880.346 1449.49 878.842 1447.74 Q877.356 1445.99 874.798 1445.99 M882.34 1434.09 L882.34 1437.55 Q880.911 1436.87 879.444 1436.51 Q877.995 1436.16 876.566 1436.16 Q872.805 1436.16 870.811 1438.69 Q868.836 1441.23 868.554 1446.37 Q869.664 1444.73 871.338 1443.87 Q873.011 1442.98 875.024 1442.98 Q879.256 1442.98 881.701 1445.56 Q884.164 1448.12 884.164 1452.54 Q884.164 1456.86 881.607 1459.48 Q879.049 1462.09 874.798 1462.09 Q869.927 1462.09 867.35 1458.37 Q864.774 1454.62 864.774 1447.53 Q864.774 1440.88 867.933 1436.93 Q871.093 1432.96 876.416 1432.96 Q877.845 1432.96 879.293 1433.24 Q880.76 1433.52 882.34 1434.09 Z\" fill=\"#000000\" fill-rule=\"evenodd\" fill-opacity=\"1\" /><path clip-path=\"url(#clip830)\" d=\"M1173.86 1485.02 L1181.5 1485.02 L1181.5 1458.66 L1173.19 1460.32 L1173.19 1456.06 L1181.45 1454.4 L1186.13 1454.4 L1186.13 1485.02 L1193.77 1485.02 L1193.77 1488.96 L1173.86 1488.96 L1173.86 1485.02 Z\" fill=\"#000000\" fill-rule=\"evenodd\" fill-opacity=\"1\" /><path clip-path=\"url(#clip830)\" d=\"M1203.21 1483.08 L1208.09 1483.08 L1208.09 1488.96 L1203.21 1488.96 L1203.21 1483.08 Z\" fill=\"#000000\" fill-rule=\"evenodd\" fill-opacity=\"1\" /><path clip-path=\"url(#clip830)\" d=\"M1228.28 1457.48 Q1224.67 1457.48 1222.84 1461.04 Q1221.03 1464.58 1221.03 1471.71 Q1221.03 1478.82 1222.84 1482.38 Q1224.67 1485.92 1228.28 1485.92 Q1231.91 1485.92 1233.72 1482.38 Q1235.55 1478.82 1235.55 1471.71 Q1235.55 1464.58 1233.72 1461.04 Q1231.91 1457.48 1228.28 1457.48 M1228.28 1453.77 Q1234.09 1453.77 1237.14 1458.38 Q1240.22 1462.96 1240.22 1471.71 Q1240.22 1480.44 1237.14 1485.04 Q1234.09 1489.63 1228.28 1489.63 Q1222.47 1489.63 1219.39 1485.04 Q1216.33 1480.44 1216.33 1471.71 Q1216.33 1462.96 1219.39 1458.38 Q1222.47 1453.77 1228.28 1453.77 Z\" fill=\"#000000\" fill-rule=\"evenodd\" fill-opacity=\"1\" /><path clip-path=\"url(#clip830)\" d=\"M1258.44 1457.48 Q1254.83 1457.48 1253 1461.04 Q1251.2 1464.58 1251.2 1471.71 Q1251.2 1478.82 1253 1482.38 Q1254.83 1485.92 1258.44 1485.92 Q1262.08 1485.92 1263.88 1482.38 Q1265.71 1478.82 1265.71 1471.71 Q1265.71 1464.58 1263.88 1461.04 Q1262.08 1457.48 1258.44 1457.48 M1258.44 1453.77 Q1264.25 1453.77 1267.31 1458.38 Q1270.39 1462.96 1270.39 1471.71 Q1270.39 1480.44 1267.31 1485.04 Q1264.25 1489.63 1258.44 1489.63 Q1252.63 1489.63 1249.55 1485.04 Q1246.5 1480.44 1246.5 1471.71 Q1246.5 1462.96 1249.55 1458.38 Q1252.63 1453.77 1258.44 1453.77 Z\" fill=\"#000000\" fill-rule=\"evenodd\" fill-opacity=\"1\" /><path clip-path=\"url(#clip830)\" d=\"M1306.77 1463.49 L1296.2 1474.12 L1306.77 1484.7 L1304.02 1487.5 L1293.39 1476.87 L1282.77 1487.5 L1280.04 1484.7 L1290.59 1474.12 L1280.04 1463.49 L1282.77 1460.69 L1293.39 1471.32 L1304.02 1460.69 L1306.77 1463.49 Z\" fill=\"#000000\" fill-rule=\"evenodd\" fill-opacity=\"1\" /><path clip-path=\"url(#clip830)\" d=\"M1319.14 1485.02 L1326.77 1485.02 L1326.77 1458.66 L1318.46 1460.32 L1318.46 1456.06 L1326.73 1454.4 L1331.4 1454.4 L1331.4 1485.02 L1339.04 1485.02 L1339.04 1488.96 L1319.14 1488.96 L1319.14 1485.02 Z\" fill=\"#000000\" fill-rule=\"evenodd\" fill-opacity=\"1\" /><path clip-path=\"url(#clip830)\" d=\"M1358.49 1457.48 Q1354.88 1457.48 1353.05 1461.04 Q1351.24 1464.58 1351.24 1471.71 Q1351.24 1478.82 1353.05 1482.38 Q1354.88 1485.92 1358.49 1485.92 Q1362.12 1485.92 1363.93 1482.38 Q1365.76 1478.82 1365.76 1471.71 Q1365.76 1464.58 1363.93 1461.04 Q1362.12 1457.48 1358.49 1457.48 M1358.49 1453.77 Q1364.3 1453.77 1367.35 1458.38 Q1370.43 1462.96 1370.43 1471.71 Q1370.43 1480.44 1367.35 1485.04 Q1364.3 1489.63 1358.49 1489.63 Q1352.68 1489.63 1349.6 1485.04 Q1346.54 1480.44 1346.54 1471.71 Q1346.54 1462.96 1349.6 1458.38 Q1352.68 1453.77 1358.49 1453.77 Z\" fill=\"#000000\" fill-rule=\"evenodd\" fill-opacity=\"1\" /><path clip-path=\"url(#clip830)\" d=\"M1370.43 1433.47 L1388.49 1433.47 L1388.49 1435.08 L1378.29 1461.55 L1374.32 1461.55 L1383.92 1436.66 L1370.43 1436.66 L1370.43 1433.47 Z\" fill=\"#000000\" fill-rule=\"evenodd\" fill-opacity=\"1\" /><path clip-path=\"url(#clip830)\" d=\"M1679.62 1485.02 L1687.26 1485.02 L1687.26 1458.66 L1678.95 1460.32 L1678.95 1456.06 L1687.22 1454.4 L1691.89 1454.4 L1691.89 1485.02 L1699.53 1485.02 L1699.53 1488.96 L1679.62 1488.96 L1679.62 1485.02 Z\" fill=\"#000000\" fill-rule=\"evenodd\" fill-opacity=\"1\" /><path clip-path=\"url(#clip830)\" d=\"M1708.98 1483.08 L1713.86 1483.08 L1713.86 1488.96 L1708.98 1488.96 L1708.98 1483.08 Z\" fill=\"#000000\" fill-rule=\"evenodd\" fill-opacity=\"1\" /><path clip-path=\"url(#clip830)\" d=\"M1724.09 1454.4 L1742.45 1454.4 L1742.45 1458.33 L1728.37 1458.33 L1728.37 1466.8 Q1729.39 1466.46 1730.41 1466.29 Q1731.43 1466.11 1732.45 1466.11 Q1738.23 1466.11 1741.61 1469.28 Q1744.99 1472.45 1744.99 1477.87 Q1744.99 1483.45 1741.52 1486.55 Q1738.05 1489.63 1731.73 1489.63 Q1729.55 1489.63 1727.29 1489.26 Q1725.04 1488.89 1722.63 1488.15 L1722.63 1483.45 Q1724.72 1484.58 1726.94 1485.14 Q1729.16 1485.69 1731.64 1485.69 Q1735.64 1485.69 1737.98 1483.59 Q1740.32 1481.48 1740.32 1477.87 Q1740.32 1474.26 1737.98 1472.15 Q1735.64 1470.04 1731.64 1470.04 Q1729.76 1470.04 1727.89 1470.46 Q1726.04 1470.88 1724.09 1471.76 L1724.09 1454.4 Z\" fill=\"#000000\" fill-rule=\"evenodd\" fill-opacity=\"1\" /><path clip-path=\"url(#clip830)\" d=\"M1764.21 1457.48 Q1760.6 1457.48 1758.77 1461.04 Q1756.96 1464.58 1756.96 1471.71 Q1756.96 1478.82 1758.77 1482.38 Q1760.6 1485.92 1764.21 1485.92 Q1767.84 1485.92 1769.65 1482.38 Q1771.47 1478.82 1771.47 1471.71 Q1771.47 1464.58 1769.65 1461.04 Q1767.84 1457.48 1764.21 1457.48 M1764.21 1453.77 Q1770.02 1453.77 1773.07 1458.38 Q1776.15 1462.96 1776.15 1471.71 Q1776.15 1480.44 1773.07 1485.04 Q1770.02 1489.63 1764.21 1489.63 Q1758.4 1489.63 1755.32 1485.04 Q1752.26 1480.44 1752.26 1471.71 Q1752.26 1462.96 1755.32 1458.38 Q1758.4 1453.77 1764.21 1453.77 Z\" fill=\"#000000\" fill-rule=\"evenodd\" fill-opacity=\"1\" /><path clip-path=\"url(#clip830)\" d=\"M1812.54 1463.49 L1801.96 1474.12 L1812.54 1484.7 L1809.78 1487.5 L1799.16 1476.87 L1788.54 1487.5 L1785.8 1484.7 L1796.36 1474.12 L1785.8 1463.49 L1788.54 1460.69 L1799.16 1471.32 L1809.78 1460.69 L1812.54 1463.49 Z\" fill=\"#000000\" fill-rule=\"evenodd\" fill-opacity=\"1\" /><path clip-path=\"url(#clip830)\" d=\"M1824.9 1485.02 L1832.54 1485.02 L1832.54 1458.66 L1824.23 1460.32 L1824.23 1456.06 L1832.49 1454.4 L1837.17 1454.4 L1837.17 1485.02 L1844.81 1485.02 L1844.81 1488.96 L1824.9 1488.96 L1824.9 1485.02 Z\" fill=\"#000000\" fill-rule=\"evenodd\" fill-opacity=\"1\" /><path clip-path=\"url(#clip830)\" d=\"M1864.25 1457.48 Q1860.64 1457.48 1858.81 1461.04 Q1857.01 1464.58 1857.01 1471.71 Q1857.01 1478.82 1858.81 1482.38 Q1860.64 1485.92 1864.25 1485.92 Q1867.89 1485.92 1869.69 1482.38 Q1871.52 1478.82 1871.52 1471.71 Q1871.52 1464.58 1869.69 1461.04 Q1867.89 1457.48 1864.25 1457.48 M1864.25 1453.77 Q1870.06 1453.77 1873.12 1458.38 Q1876.2 1462.96 1876.2 1471.71 Q1876.2 1480.44 1873.12 1485.04 Q1870.06 1489.63 1864.25 1489.63 Q1858.44 1489.63 1855.36 1485.04 Q1852.31 1480.44 1852.31 1471.71 Q1852.31 1462.96 1855.36 1458.38 Q1858.44 1453.77 1864.25 1453.77 Z\" fill=\"#000000\" fill-rule=\"evenodd\" fill-opacity=\"1\" /><path clip-path=\"url(#clip830)\" d=\"M1876.2 1433.47 L1894.25 1433.47 L1894.25 1435.08 L1884.06 1461.55 L1880.09 1461.55 L1889.68 1436.66 L1876.2 1436.66 L1876.2 1433.47 Z\" fill=\"#000000\" fill-rule=\"evenodd\" fill-opacity=\"1\" /><path clip-path=\"url(#clip830)\" d=\"M2189.47 1485.02 L2205.79 1485.02 L2205.79 1488.96 L2183.85 1488.96 L2183.85 1485.02 Q2186.51 1482.27 2191.09 1477.64 Q2195.7 1472.98 2196.88 1471.64 Q2199.13 1469.12 2200.01 1467.38 Q2200.91 1465.62 2200.91 1463.93 Q2200.91 1461.18 2198.97 1459.44 Q2197.04 1457.71 2193.94 1457.71 Q2191.74 1457.71 2189.29 1458.47 Q2186.86 1459.23 2184.08 1460.79 L2184.08 1456.06 Q2186.91 1454.93 2189.36 1454.35 Q2191.81 1453.77 2193.85 1453.77 Q2199.22 1453.77 2202.41 1456.46 Q2205.61 1459.14 2205.61 1463.63 Q2205.61 1465.76 2204.8 1467.68 Q2204.01 1469.58 2201.91 1472.17 Q2201.33 1472.85 2198.22 1476.06 Q2195.12 1479.26 2189.47 1485.02 Z\" fill=\"#000000\" fill-rule=\"evenodd\" fill-opacity=\"1\" /><path clip-path=\"url(#clip830)\" d=\"M2215.61 1483.08 L2220.49 1483.08 L2220.49 1488.96 L2215.61 1488.96 L2215.61 1483.08 Z\" fill=\"#000000\" fill-rule=\"evenodd\" fill-opacity=\"1\" /><path clip-path=\"url(#clip830)\" d=\"M2240.68 1457.48 Q2237.07 1457.48 2235.24 1461.04 Q2233.43 1464.58 2233.43 1471.71 Q2233.43 1478.82 2235.24 1482.38 Q2237.07 1485.92 2240.68 1485.92 Q2244.31 1485.92 2246.12 1482.38 Q2247.95 1478.82 2247.95 1471.71 Q2247.95 1464.58 2246.12 1461.04 Q2244.31 1457.48 2240.68 1457.48 M2240.68 1453.77 Q2246.49 1453.77 2249.54 1458.38 Q2252.62 1462.96 2252.62 1471.71 Q2252.62 1480.44 2249.54 1485.04 Q2246.49 1489.63 2240.68 1489.63 Q2234.87 1489.63 2231.79 1485.04 Q2228.73 1480.44 2228.73 1471.71 Q2228.73 1462.96 2231.79 1458.38 Q2234.87 1453.77 2240.68 1453.77 Z\" fill=\"#000000\" fill-rule=\"evenodd\" fill-opacity=\"1\" /><path clip-path=\"url(#clip830)\" d=\"M2270.84 1457.48 Q2267.23 1457.48 2265.4 1461.04 Q2263.59 1464.58 2263.59 1471.71 Q2263.59 1478.82 2265.4 1482.38 Q2267.23 1485.92 2270.84 1485.92 Q2274.47 1485.92 2276.28 1482.38 Q2278.11 1478.82 2278.11 1471.71 Q2278.11 1464.58 2276.28 1461.04 Q2274.47 1457.48 2270.84 1457.48 M2270.84 1453.77 Q2276.65 1453.77 2279.71 1458.38 Q2282.78 1462.96 2282.78 1471.71 Q2282.78 1480.44 2279.71 1485.04 Q2276.65 1489.63 2270.84 1489.63 Q2265.03 1489.63 2261.95 1485.04 Q2258.9 1480.44 2258.9 1471.71 Q2258.9 1462.96 2261.95 1458.38 Q2265.03 1453.77 2270.84 1453.77 Z\" fill=\"#000000\" fill-rule=\"evenodd\" fill-opacity=\"1\" /><path clip-path=\"url(#clip830)\" d=\"M2319.17 1463.49 L2308.59 1474.12 L2319.17 1484.7 L2316.42 1487.5 L2305.79 1476.87 L2295.17 1487.5 L2292.44 1484.7 L2302.99 1474.12 L2292.44 1463.49 L2295.17 1460.69 L2305.79 1471.32 L2316.42 1460.69 L2319.17 1463.49 Z\" fill=\"#000000\" fill-rule=\"evenodd\" fill-opacity=\"1\" /><path clip-path=\"url(#clip830)\" d=\"M2331.53 1485.02 L2339.17 1485.02 L2339.17 1458.66 L2330.86 1460.32 L2330.86 1456.06 L2339.13 1454.4 L2343.8 1454.4 L2343.8 1485.02 L2351.44 1485.02 L2351.44 1488.96 L2331.53 1488.96 L2331.53 1485.02 Z\" fill=\"#000000\" fill-rule=\"evenodd\" fill-opacity=\"1\" /><path clip-path=\"url(#clip830)\" d=\"M2370.89 1457.48 Q2367.27 1457.48 2365.45 1461.04 Q2363.64 1464.58 2363.64 1471.71 Q2363.64 1478.82 2365.45 1482.38 Q2367.27 1485.92 2370.89 1485.92 Q2374.52 1485.92 2376.33 1482.38 Q2378.15 1478.82 2378.15 1471.71 Q2378.15 1464.58 2376.33 1461.04 Q2374.52 1457.48 2370.89 1457.48 M2370.89 1453.77 Q2376.7 1453.77 2379.75 1458.38 Q2382.83 1462.96 2382.83 1471.71 Q2382.83 1480.44 2379.75 1485.04 Q2376.7 1489.63 2370.89 1489.63 Q2365.08 1489.63 2362 1485.04 Q2358.94 1480.44 2358.94 1471.71 Q2358.94 1462.96 2362 1458.38 Q2365.08 1453.77 2370.89 1453.77 Z\" fill=\"#000000\" fill-rule=\"evenodd\" fill-opacity=\"1\" /><path clip-path=\"url(#clip830)\" d=\"M2382.83 1433.47 L2400.89 1433.47 L2400.89 1435.08 L2390.69 1461.55 L2386.72 1461.55 L2396.32 1436.66 L2382.83 1436.66 L2382.83 1433.47 Z\" fill=\"#000000\" fill-rule=\"evenodd\" fill-opacity=\"1\" /><path clip-path=\"url(#clip830)\" d=\"M1135.46 1526.67 L1141.89 1526.67 L1141.89 1574.19 L1135.46 1574.19 L1135.46 1526.67 Z\" fill=\"#000000\" fill-rule=\"evenodd\" fill-opacity=\"1\" /><path clip-path=\"url(#clip830)\" d=\"M1160.22 1528.42 L1160.22 1538.54 L1172.28 1538.54 L1172.28 1543.09 L1160.22 1543.09 L1160.22 1562.44 Q1160.22 1566.8 1161.4 1568.04 Q1162.61 1569.28 1166.27 1569.28 L1172.28 1569.28 L1172.28 1574.19 L1166.27 1574.19 Q1159.49 1574.19 1156.91 1571.67 Q1154.33 1569.12 1154.33 1562.44 L1154.33 1543.09 L1150.03 1543.09 L1150.03 1538.54 L1154.33 1538.54 L1154.33 1528.42 L1160.22 1528.42 Z\" fill=\"#000000\" fill-rule=\"evenodd\" fill-opacity=\"1\" /><path clip-path=\"url(#clip830)\" d=\"M1210.48 1554.9 L1210.48 1557.76 L1183.55 1557.76 Q1183.93 1563.81 1187.18 1566.99 Q1190.46 1570.14 1196.28 1570.14 Q1199.66 1570.14 1202.81 1569.32 Q1205.99 1568.49 1209.11 1566.83 L1209.11 1572.37 Q1205.96 1573.71 1202.65 1574.41 Q1199.34 1575.11 1195.93 1575.11 Q1187.4 1575.11 1182.4 1570.14 Q1177.44 1565.18 1177.44 1556.71 Q1177.44 1547.96 1182.15 1542.83 Q1186.89 1537.68 1194.91 1537.68 Q1202.11 1537.68 1206.28 1542.33 Q1210.48 1546.94 1210.48 1554.9 M1204.62 1553.18 Q1204.56 1548.37 1201.91 1545.51 Q1199.3 1542.64 1194.98 1542.64 Q1190.07 1542.64 1187.11 1545.41 Q1184.19 1548.18 1183.74 1553.21 L1204.62 1553.18 Z\" fill=\"#000000\" fill-rule=\"evenodd\" fill-opacity=\"1\" /><path clip-path=\"url(#clip830)\" d=\"M1240.75 1544.01 Q1239.76 1543.44 1238.58 1543.18 Q1237.44 1542.9 1236.04 1542.9 Q1231.07 1542.9 1228.4 1546.14 Q1225.75 1549.36 1225.75 1555.41 L1225.75 1574.19 L1219.87 1574.19 L1219.87 1538.54 L1225.75 1538.54 L1225.75 1544.08 Q1227.6 1540.83 1230.56 1539.27 Q1233.52 1537.68 1237.75 1537.68 Q1238.36 1537.68 1239.09 1537.77 Q1239.82 1537.84 1240.71 1538 L1240.75 1544.01 Z\" fill=\"#000000\" fill-rule=\"evenodd\" fill-opacity=\"1\" /><path clip-path=\"url(#clip830)\" d=\"M1263.09 1556.27 Q1255.99 1556.27 1253.25 1557.89 Q1250.52 1559.51 1250.52 1563.43 Q1250.52 1566.55 1252.55 1568.39 Q1254.62 1570.21 1258.16 1570.21 Q1263.03 1570.21 1265.95 1566.77 Q1268.91 1563.3 1268.91 1557.57 L1268.91 1556.27 L1263.09 1556.27 M1274.77 1553.85 L1274.77 1574.19 L1268.91 1574.19 L1268.91 1568.77 Q1266.91 1572.02 1263.92 1573.58 Q1260.92 1575.11 1256.6 1575.11 Q1251.12 1575.11 1247.88 1572.05 Q1244.66 1568.97 1244.66 1563.81 Q1244.66 1557.79 1248.67 1554.74 Q1252.71 1551.68 1260.7 1551.68 L1268.91 1551.68 L1268.91 1551.11 Q1268.91 1547.07 1266.24 1544.87 Q1263.6 1542.64 1258.79 1542.64 Q1255.74 1542.64 1252.84 1543.38 Q1249.94 1544.11 1247.27 1545.57 L1247.27 1540.16 Q1250.49 1538.92 1253.51 1538.31 Q1256.53 1537.68 1259.4 1537.68 Q1267.13 1537.68 1270.95 1541.69 Q1274.77 1545.7 1274.77 1553.85 Z\" fill=\"#000000\" fill-rule=\"evenodd\" fill-opacity=\"1\" /><path clip-path=\"url(#clip830)\" d=\"M1292.63 1528.42 L1292.63 1538.54 L1304.69 1538.54 L1304.69 1543.09 L1292.63 1543.09 L1292.63 1562.44 Q1292.63 1566.8 1293.8 1568.04 Q1295.01 1569.28 1298.67 1569.28 L1304.69 1569.28 L1304.69 1574.19 L1298.67 1574.19 Q1291.89 1574.19 1289.32 1571.67 Q1286.74 1569.12 1286.74 1562.44 L1286.74 1543.09 L1282.44 1543.09 L1282.44 1538.54 L1286.74 1538.54 L1286.74 1528.42 L1292.63 1528.42 Z\" fill=\"#000000\" fill-rule=\"evenodd\" fill-opacity=\"1\" /><path clip-path=\"url(#clip830)\" d=\"M1312.39 1538.54 L1318.25 1538.54 L1318.25 1574.19 L1312.39 1574.19 L1312.39 1538.54 M1312.39 1524.66 L1318.25 1524.66 L1318.25 1532.08 L1312.39 1532.08 L1312.39 1524.66 Z\" fill=\"#000000\" fill-rule=\"evenodd\" fill-opacity=\"1\" /><path clip-path=\"url(#clip830)\" d=\"M1344.32 1542.64 Q1339.61 1542.64 1336.87 1546.34 Q1334.13 1550 1334.13 1556.39 Q1334.13 1562.79 1336.84 1566.48 Q1339.57 1570.14 1344.32 1570.14 Q1348.99 1570.14 1351.73 1566.45 Q1354.47 1562.76 1354.47 1556.39 Q1354.47 1550.06 1351.73 1546.37 Q1348.99 1542.64 1344.32 1542.64 M1344.32 1537.68 Q1351.95 1537.68 1356.32 1542.64 Q1360.68 1547.61 1360.68 1556.39 Q1360.68 1565.15 1356.32 1570.14 Q1351.95 1575.11 1344.32 1575.11 Q1336.65 1575.11 1332.28 1570.14 Q1327.96 1565.15 1327.96 1556.39 Q1327.96 1547.61 1332.28 1542.64 Q1336.65 1537.68 1344.32 1537.68 Z\" fill=\"#000000\" fill-rule=\"evenodd\" fill-opacity=\"1\" /><path clip-path=\"url(#clip830)\" d=\"M1400.02 1552.67 L1400.02 1574.19 L1394.16 1574.19 L1394.16 1552.86 Q1394.16 1547.8 1392.19 1545.29 Q1390.21 1542.77 1386.27 1542.77 Q1381.52 1542.77 1378.79 1545.79 Q1376.05 1548.82 1376.05 1554.04 L1376.05 1574.19 L1370.16 1574.19 L1370.16 1538.54 L1376.05 1538.54 L1376.05 1544.08 Q1378.15 1540.86 1380.98 1539.27 Q1383.85 1537.68 1387.57 1537.68 Q1393.71 1537.68 1396.86 1541.5 Q1400.02 1545.29 1400.02 1552.67 Z\" fill=\"#000000\" fill-rule=\"evenodd\" fill-opacity=\"1\" /><path clip-path=\"url(#clip830)\" d=\"M1434.42 1539.59 L1434.42 1545.13 Q1431.94 1543.85 1429.27 1543.22 Q1426.59 1542.58 1423.73 1542.58 Q1419.37 1542.58 1417.17 1543.92 Q1415.01 1545.25 1415.01 1547.93 Q1415.01 1549.96 1416.57 1551.14 Q1418.13 1552.29 1422.84 1553.34 L1424.84 1553.78 Q1431.08 1555.12 1433.69 1557.57 Q1436.33 1559.99 1436.33 1564.35 Q1436.33 1569.32 1432.39 1572.21 Q1428.47 1575.11 1421.6 1575.11 Q1418.73 1575.11 1415.61 1574.54 Q1412.52 1573.99 1409.09 1572.88 L1409.09 1566.83 Q1412.33 1568.52 1415.48 1569.38 Q1418.64 1570.21 1421.72 1570.21 Q1425.86 1570.21 1428.09 1568.81 Q1430.32 1567.37 1430.32 1564.8 Q1430.32 1562.41 1428.69 1561.14 Q1427.1 1559.86 1421.66 1558.68 L1419.62 1558.21 Q1414.18 1557.06 1411.76 1554.71 Q1409.34 1552.32 1409.34 1548.18 Q1409.34 1543.15 1412.91 1540.42 Q1416.47 1537.68 1423.03 1537.68 Q1426.27 1537.68 1429.14 1538.16 Q1432 1538.63 1434.42 1539.59 Z\" fill=\"#000000\" fill-rule=\"evenodd\" fill-opacity=\"1\" /><polyline clip-path=\"url(#clip832)\" style=\"stroke:#000000; stroke-linecap:round; stroke-linejoin:round; stroke-width:2; stroke-opacity:0.1; fill:none\" points=\"\n",
       "  219.033,1350.07 2352.76,1350.07 \n",
       "  \"/>\n",
       "<polyline clip-path=\"url(#clip832)\" style=\"stroke:#000000; stroke-linecap:round; stroke-linejoin:round; stroke-width:2; stroke-opacity:0.1; fill:none\" points=\"\n",
       "  219.033,1047.54 2352.76,1047.54 \n",
       "  \"/>\n",
       "<polyline clip-path=\"url(#clip832)\" style=\"stroke:#000000; stroke-linecap:round; stroke-linejoin:round; stroke-width:2; stroke-opacity:0.1; fill:none\" points=\"\n",
       "  219.033,745.008 2352.76,745.008 \n",
       "  \"/>\n",
       "<polyline clip-path=\"url(#clip832)\" style=\"stroke:#000000; stroke-linecap:round; stroke-linejoin:round; stroke-width:2; stroke-opacity:0.1; fill:none\" points=\"\n",
       "  219.033,442.477 2352.76,442.477 \n",
       "  \"/>\n",
       "<polyline clip-path=\"url(#clip832)\" style=\"stroke:#000000; stroke-linecap:round; stroke-linejoin:round; stroke-width:2; stroke-opacity:0.1; fill:none\" points=\"\n",
       "  219.033,139.947 2352.76,139.947 \n",
       "  \"/>\n",
       "<polyline clip-path=\"url(#clip830)\" style=\"stroke:#000000; stroke-linecap:round; stroke-linejoin:round; stroke-width:4; stroke-opacity:1; fill:none\" points=\"\n",
       "  219.033,1410.9 219.033,47.2441 \n",
       "  \"/>\n",
       "<polyline clip-path=\"url(#clip830)\" style=\"stroke:#000000; stroke-linecap:round; stroke-linejoin:round; stroke-width:4; stroke-opacity:1; fill:none\" points=\"\n",
       "  219.033,1350.07 237.931,1350.07 \n",
       "  \"/>\n",
       "<polyline clip-path=\"url(#clip830)\" style=\"stroke:#000000; stroke-linecap:round; stroke-linejoin:round; stroke-width:4; stroke-opacity:1; fill:none\" points=\"\n",
       "  219.033,1047.54 237.931,1047.54 \n",
       "  \"/>\n",
       "<polyline clip-path=\"url(#clip830)\" style=\"stroke:#000000; stroke-linecap:round; stroke-linejoin:round; stroke-width:4; stroke-opacity:1; fill:none\" points=\"\n",
       "  219.033,745.008 237.931,745.008 \n",
       "  \"/>\n",
       "<polyline clip-path=\"url(#clip830)\" style=\"stroke:#000000; stroke-linecap:round; stroke-linejoin:round; stroke-width:4; stroke-opacity:1; fill:none\" points=\"\n",
       "  219.033,442.477 237.931,442.477 \n",
       "  \"/>\n",
       "<polyline clip-path=\"url(#clip830)\" style=\"stroke:#000000; stroke-linecap:round; stroke-linejoin:round; stroke-width:4; stroke-opacity:1; fill:none\" points=\"\n",
       "  219.033,139.947 237.931,139.947 \n",
       "  \"/>\n",
       "<path clip-path=\"url(#clip830)\" d=\"M118.265 1363.41 L125.904 1363.41 L125.904 1337.05 L117.593 1338.72 L117.593 1334.46 L125.857 1332.79 L130.533 1332.79 L130.533 1363.41 L138.172 1363.41 L138.172 1367.35 L118.265 1367.35 L118.265 1363.41 Z\" fill=\"#000000\" fill-rule=\"evenodd\" fill-opacity=\"1\" /><path clip-path=\"url(#clip830)\" d=\"M147.616 1361.47 L152.501 1361.47 L152.501 1367.35 L147.616 1367.35 L147.616 1361.47 Z\" fill=\"#000000\" fill-rule=\"evenodd\" fill-opacity=\"1\" /><path clip-path=\"url(#clip830)\" d=\"M166.714 1363.41 L183.033 1363.41 L183.033 1367.35 L161.089 1367.35 L161.089 1363.41 Q163.751 1360.66 168.334 1356.03 Q172.94 1351.38 174.121 1350.03 Q176.366 1347.51 177.246 1345.78 Q178.149 1344.02 178.149 1342.33 Q178.149 1339.57 176.204 1337.84 Q174.283 1336.1 171.181 1336.1 Q168.982 1336.1 166.528 1336.86 Q164.098 1337.63 161.32 1339.18 L161.32 1334.46 Q164.144 1333.32 166.598 1332.74 Q169.052 1332.16 171.089 1332.16 Q176.459 1332.16 179.653 1334.85 Q182.848 1337.53 182.848 1342.03 Q182.848 1344.16 182.038 1346.08 Q181.251 1347.97 179.144 1350.57 Q178.565 1351.24 175.464 1354.46 Q172.362 1357.65 166.714 1363.41 Z\" fill=\"#000000\" fill-rule=\"evenodd\" fill-opacity=\"1\" /><path clip-path=\"url(#clip830)\" d=\"M116.181 1060.88 L123.82 1060.88 L123.82 1034.52 L115.51 1036.18 L115.51 1031.93 L123.774 1030.26 L128.45 1030.26 L128.45 1060.88 L136.089 1060.88 L136.089 1064.82 L116.181 1064.82 L116.181 1060.88 Z\" fill=\"#000000\" fill-rule=\"evenodd\" fill-opacity=\"1\" /><path clip-path=\"url(#clip830)\" d=\"M145.533 1058.94 L150.417 1058.94 L150.417 1064.82 L145.533 1064.82 L145.533 1058.94 Z\" fill=\"#000000\" fill-rule=\"evenodd\" fill-opacity=\"1\" /><path clip-path=\"url(#clip830)\" d=\"M173.45 1034.33 L161.644 1052.78 L173.45 1052.78 L173.45 1034.33 M172.223 1030.26 L178.102 1030.26 L178.102 1052.78 L183.033 1052.78 L183.033 1056.67 L178.102 1056.67 L178.102 1064.82 L173.45 1064.82 L173.45 1056.67 L157.848 1056.67 L157.848 1052.16 L172.223 1030.26 Z\" fill=\"#000000\" fill-rule=\"evenodd\" fill-opacity=\"1\" /><path clip-path=\"url(#clip830)\" d=\"M116.506 758.353 L124.144 758.353 L124.144 731.987 L115.834 733.654 L115.834 729.395 L124.098 727.728 L128.774 727.728 L128.774 758.353 L136.413 758.353 L136.413 762.288 L116.506 762.288 L116.506 758.353 Z\" fill=\"#000000\" fill-rule=\"evenodd\" fill-opacity=\"1\" /><path clip-path=\"url(#clip830)\" d=\"M145.857 756.408 L150.741 756.408 L150.741 762.288 L145.857 762.288 L145.857 756.408 Z\" fill=\"#000000\" fill-rule=\"evenodd\" fill-opacity=\"1\" /><path clip-path=\"url(#clip830)\" d=\"M171.505 743.145 Q168.357 743.145 166.505 745.297 Q164.677 747.45 164.677 751.2 Q164.677 754.927 166.505 757.103 Q168.357 759.256 171.505 759.256 Q174.653 759.256 176.482 757.103 Q178.334 754.927 178.334 751.2 Q178.334 747.45 176.482 745.297 Q174.653 743.145 171.505 743.145 M180.788 728.492 L180.788 732.751 Q179.028 731.918 177.223 731.478 Q175.44 731.038 173.681 731.038 Q169.052 731.038 166.598 734.163 Q164.167 737.288 163.82 743.608 Q165.186 741.594 167.246 740.529 Q169.306 739.441 171.783 739.441 Q176.991 739.441 180.001 742.612 Q183.033 745.76 183.033 751.2 Q183.033 756.524 179.885 759.742 Q176.737 762.959 171.505 762.959 Q165.51 762.959 162.339 758.376 Q159.167 753.77 159.167 745.043 Q159.167 736.848 163.056 731.987 Q166.945 727.103 173.496 727.103 Q175.255 727.103 177.038 727.45 Q178.843 727.797 180.788 728.492 Z\" fill=\"#000000\" fill-rule=\"evenodd\" fill-opacity=\"1\" /><path clip-path=\"url(#clip830)\" d=\"M116.76 455.822 L124.399 455.822 L124.399 429.457 L116.089 431.123 L116.089 426.864 L124.353 425.197 L129.029 425.197 L129.029 455.822 L136.667 455.822 L136.667 459.757 L116.76 459.757 L116.76 455.822 Z\" fill=\"#000000\" fill-rule=\"evenodd\" fill-opacity=\"1\" /><path clip-path=\"url(#clip830)\" d=\"M146.112 453.878 L150.996 453.878 L150.996 459.757 L146.112 459.757 L146.112 453.878 Z\" fill=\"#000000\" fill-rule=\"evenodd\" fill-opacity=\"1\" /><path clip-path=\"url(#clip830)\" d=\"M171.181 443.345 Q167.848 443.345 165.927 445.128 Q164.028 446.91 164.028 450.035 Q164.028 453.16 165.927 454.943 Q167.848 456.725 171.181 456.725 Q174.514 456.725 176.436 454.943 Q178.357 453.137 178.357 450.035 Q178.357 446.91 176.436 445.128 Q174.538 443.345 171.181 443.345 M166.505 441.355 Q163.496 440.614 161.806 438.554 Q160.14 436.494 160.14 433.531 Q160.14 429.387 163.079 426.98 Q166.042 424.572 171.181 424.572 Q176.343 424.572 179.283 426.98 Q182.223 429.387 182.223 433.531 Q182.223 436.494 180.533 438.554 Q178.866 440.614 175.88 441.355 Q179.26 442.142 181.135 444.433 Q183.033 446.725 183.033 450.035 Q183.033 455.058 179.954 457.744 Q176.899 460.429 171.181 460.429 Q165.464 460.429 162.385 457.744 Q159.329 455.058 159.329 450.035 Q159.329 446.725 161.227 444.433 Q163.126 442.142 166.505 441.355 M164.792 433.971 Q164.792 436.656 166.459 438.16 Q168.149 439.665 171.181 439.665 Q174.19 439.665 175.88 438.16 Q177.593 436.656 177.593 433.971 Q177.593 431.285 175.88 429.781 Q174.19 428.276 171.181 428.276 Q168.149 428.276 166.459 429.781 Q164.792 431.285 164.792 433.971 Z\" fill=\"#000000\" fill-rule=\"evenodd\" fill-opacity=\"1\" /><path clip-path=\"url(#clip830)\" d=\"M119.885 153.292 L136.204 153.292 L136.204 157.227 L114.26 157.227 L114.26 153.292 Q116.922 150.537 121.505 145.907 Q126.112 141.255 127.292 139.912 Q129.538 137.389 130.417 135.653 Q131.32 133.894 131.32 132.204 Q131.32 129.449 129.376 127.713 Q127.455 125.977 124.353 125.977 Q122.154 125.977 119.7 126.741 Q117.269 127.505 114.492 129.056 L114.492 124.333 Q117.316 123.199 119.769 122.62 Q122.223 122.042 124.26 122.042 Q129.63 122.042 132.825 124.727 Q136.019 127.412 136.019 131.903 Q136.019 134.032 135.209 135.954 Q134.422 137.852 132.316 140.444 Q131.737 141.116 128.635 144.333 Q125.533 147.528 119.885 153.292 Z\" fill=\"#000000\" fill-rule=\"evenodd\" fill-opacity=\"1\" /><path clip-path=\"url(#clip830)\" d=\"M146.019 151.347 L150.903 151.347 L150.903 157.227 L146.019 157.227 L146.019 151.347 Z\" fill=\"#000000\" fill-rule=\"evenodd\" fill-opacity=\"1\" /><path clip-path=\"url(#clip830)\" d=\"M171.089 125.745 Q167.477 125.745 165.649 129.31 Q163.843 132.852 163.843 139.981 Q163.843 147.088 165.649 150.653 Q167.477 154.194 171.089 154.194 Q174.723 154.194 176.528 150.653 Q178.357 147.088 178.357 139.981 Q178.357 132.852 176.528 129.31 Q174.723 125.745 171.089 125.745 M171.089 122.042 Q176.899 122.042 179.954 126.648 Q183.033 131.232 183.033 139.981 Q183.033 148.708 179.954 153.315 Q176.899 157.898 171.089 157.898 Q165.278 157.898 162.2 153.315 Q159.144 148.708 159.144 139.981 Q159.144 131.232 162.2 126.648 Q165.278 122.042 171.089 122.042 Z\" fill=\"#000000\" fill-rule=\"evenodd\" fill-opacity=\"1\" /><path clip-path=\"url(#clip830)\" d=\"M22.818 978.129 L46.4666 986.85 L46.4666 969.376 L22.818 978.129 M16.4842 981.757 L16.4842 974.468 L64.0042 956.358 L64.0042 963.042 L51.8138 967.371 L51.8138 988.791 L64.0042 993.12 L64.0042 999.899 L16.4842 981.757 Z\" fill=\"#000000\" fill-rule=\"evenodd\" fill-opacity=\"1\" /><path clip-path=\"url(#clip830)\" d=\"M28.3562 957.695 L28.3562 951.488 L58.275 940.348 L28.3562 929.208 L28.3562 923.002 L64.0042 936.37 L64.0042 944.327 L28.3562 957.695 Z\" fill=\"#000000\" fill-rule=\"evenodd\" fill-opacity=\"1\" /><path clip-path=\"url(#clip830)\" d=\"M44.7161 884.425 L47.5806 884.425 L47.5806 911.352 Q53.6281 910.97 56.8109 907.724 Q59.9619 904.446 59.9619 898.621 Q59.9619 895.247 59.1344 892.096 Q58.3069 888.913 56.6518 885.794 L62.1899 885.794 Q63.5267 888.945 64.227 892.255 Q64.9272 895.565 64.9272 898.971 Q64.9272 907.501 59.9619 912.498 Q54.9967 917.463 46.5303 917.463 Q37.7774 917.463 32.6531 912.753 Q27.4968 908.01 27.4968 899.99 Q27.4968 892.796 32.1438 888.627 Q36.7589 884.425 44.7161 884.425 M42.9973 890.282 Q38.1912 890.346 35.3266 892.987 Q32.4621 895.597 32.4621 899.926 Q32.4621 904.828 35.2312 907.788 Q38.0002 910.716 43.0292 911.161 L42.9973 890.282 Z\" fill=\"#000000\" fill-rule=\"evenodd\" fill-opacity=\"1\" /><path clip-path=\"url(#clip830)\" d=\"M33.8307 854.157 Q33.2578 855.143 33.0032 856.321 Q32.7167 857.467 32.7167 858.867 Q32.7167 863.832 35.9632 866.506 Q39.1779 869.148 45.2253 869.148 L64.0042 869.148 L64.0042 875.036 L28.3562 875.036 L28.3562 869.148 L33.8944 869.148 Q30.6479 867.302 29.0883 864.342 Q27.4968 861.382 27.4968 857.148 Q27.4968 856.544 27.5923 855.812 Q27.656 855.08 27.8151 854.188 L33.8307 854.157 Z\" fill=\"#000000\" fill-rule=\"evenodd\" fill-opacity=\"1\" /><path clip-path=\"url(#clip830)\" d=\"M46.0847 831.813 Q46.0847 838.911 47.7079 841.648 Q49.3312 844.385 53.2461 844.385 Q56.3653 844.385 58.2114 842.348 Q60.0256 840.279 60.0256 836.746 Q60.0256 831.877 56.5881 828.948 Q53.1188 825.988 47.3897 825.988 L46.0847 825.988 L46.0847 831.813 M43.6657 820.132 L64.0042 820.132 L64.0042 825.988 L58.5933 825.988 Q61.8398 827.993 63.3994 830.985 Q64.9272 833.977 64.9272 838.306 Q64.9272 843.78 61.8716 847.027 Q58.7843 850.242 53.6281 850.242 Q47.6125 850.242 44.5569 846.231 Q41.5014 842.189 41.5014 834.2 L41.5014 825.988 L40.9285 825.988 Q36.8862 825.988 34.6901 828.662 Q32.4621 831.304 32.4621 836.11 Q32.4621 839.165 33.1941 842.062 Q33.9262 844.958 35.3903 847.632 L29.9795 847.632 Q28.7381 844.417 28.1334 841.393 Q27.4968 838.37 27.4968 835.505 Q27.4968 827.771 31.5072 823.951 Q35.5176 820.132 43.6657 820.132 Z\" fill=\"#000000\" fill-rule=\"evenodd\" fill-opacity=\"1\" /><path clip-path=\"url(#clip830)\" d=\"M45.7664 784.611 Q39.4007 784.611 35.8996 787.253 Q32.3984 789.863 32.3984 794.605 Q32.3984 799.316 35.8996 801.958 Q39.4007 804.568 45.7664 804.568 Q52.1003 804.568 55.6014 801.958 Q59.1026 799.316 59.1026 794.605 Q59.1026 789.863 55.6014 787.253 Q52.1003 784.611 45.7664 784.611 M59.58 778.755 Q68.683 778.755 73.1071 782.797 Q77.5631 786.839 77.5631 795.178 Q77.5631 798.266 77.0857 801.003 Q76.6401 803.74 75.6852 806.318 L69.9879 806.318 Q71.3884 803.74 72.0568 801.226 Q72.7252 798.711 72.7252 796.101 Q72.7252 790.34 69.7015 787.476 Q66.7096 784.611 60.6303 784.611 L57.7339 784.611 Q60.885 786.425 62.4446 789.258 Q64.0042 792.091 64.0042 796.038 Q64.0042 802.594 59.0071 806.605 Q54.01 810.615 45.7664 810.615 Q37.491 810.615 32.4939 806.605 Q27.4968 802.594 27.4968 796.038 Q27.4968 792.091 29.0564 789.258 Q30.616 786.425 33.7671 784.611 L28.3562 784.611 L28.3562 778.755 L59.58 778.755 Z\" fill=\"#000000\" fill-rule=\"evenodd\" fill-opacity=\"1\" /><path clip-path=\"url(#clip830)\" d=\"M44.7161 736.2 L47.5806 736.2 L47.5806 763.127 Q53.6281 762.745 56.8109 759.498 Q59.9619 756.22 59.9619 750.395 Q59.9619 747.022 59.1344 743.871 Q58.3069 740.688 56.6518 737.569 L62.1899 737.569 Q63.5267 740.72 64.227 744.03 Q64.9272 747.34 64.9272 750.746 Q64.9272 759.276 59.9619 764.273 Q54.9967 769.238 46.5303 769.238 Q37.7774 769.238 32.6531 764.527 Q27.4968 759.785 27.4968 751.764 Q27.4968 744.571 32.1438 740.401 Q36.7589 736.2 44.7161 736.2 M42.9973 742.056 Q38.1912 742.12 35.3266 744.762 Q32.4621 747.372 32.4621 751.7 Q32.4621 756.602 35.2312 759.562 Q38.0002 762.49 43.0292 762.936 L42.9973 742.056 Z\" fill=\"#000000\" fill-rule=\"evenodd\" fill-opacity=\"1\" /><path clip-path=\"url(#clip830)\" d=\"M64.0042 693.359 L16.4842 711.501 L16.4842 704.785 L56.4926 689.73 L16.4842 674.644 L16.4842 667.96 L64.0042 686.07 L64.0042 693.359 Z\" fill=\"#000000\" fill-rule=\"evenodd\" fill-opacity=\"1\" /><path clip-path=\"url(#clip830)\" d=\"M44.7161 635.845 L47.5806 635.845 L47.5806 662.772 Q53.6281 662.39 56.8109 659.143 Q59.9619 655.865 59.9619 650.04 Q59.9619 646.666 59.1344 643.515 Q58.3069 640.332 56.6518 637.213 L62.1899 637.213 Q63.5267 640.364 64.227 643.674 Q64.9272 646.985 64.9272 650.39 Q64.9272 658.92 59.9619 663.917 Q54.9967 668.883 46.5303 668.883 Q37.7774 668.883 32.6531 664.172 Q27.4968 659.43 27.4968 651.409 Q27.4968 644.215 32.1438 640.046 Q36.7589 635.845 44.7161 635.845 M42.9973 641.701 Q38.1912 641.765 35.3266 644.406 Q32.4621 647.016 32.4621 651.345 Q32.4621 656.247 35.2312 659.207 Q38.0002 662.135 43.0292 662.581 L42.9973 641.701 Z\" fill=\"#000000\" fill-rule=\"evenodd\" fill-opacity=\"1\" /><path clip-path=\"url(#clip830)\" d=\"M14.479 626.232 L14.479 620.376 L64.0042 620.376 L64.0042 626.232 L14.479 626.232 Z\" fill=\"#000000\" fill-rule=\"evenodd\" fill-opacity=\"1\" /><path clip-path=\"url(#clip830)\" d=\"M32.4621 594.308 Q32.4621 599.019 36.1542 601.756 Q39.8145 604.493 46.212 604.493 Q52.6095 604.493 56.3017 601.788 Q59.9619 599.051 59.9619 594.308 Q59.9619 589.63 56.2698 586.892 Q52.5777 584.155 46.212 584.155 Q39.8781 584.155 36.186 586.892 Q32.4621 589.63 32.4621 594.308 M27.4968 594.308 Q27.4968 586.67 32.4621 582.309 Q37.4273 577.948 46.212 577.948 Q54.9649 577.948 59.9619 582.309 Q64.9272 586.67 64.9272 594.308 Q64.9272 601.979 59.9619 606.34 Q54.9649 610.668 46.212 610.668 Q37.4273 610.668 32.4621 606.34 Q27.4968 601.979 27.4968 594.308 Z\" fill=\"#000000\" fill-rule=\"evenodd\" fill-opacity=\"1\" /><path clip-path=\"url(#clip830)\" d=\"M29.7248 542.587 L35.1993 542.587 Q33.8307 545.07 33.1623 547.584 Q32.4621 550.067 32.4621 552.613 Q32.4621 558.31 36.0905 561.461 Q39.6872 564.612 46.212 564.612 Q52.7369 564.612 56.3653 561.461 Q59.9619 558.31 59.9619 552.613 Q59.9619 550.067 59.2935 547.584 Q58.5933 545.07 57.2247 542.587 L62.6355 542.587 Q63.7814 545.038 64.3543 547.68 Q64.9272 550.289 64.9272 553.25 Q64.9272 561.302 59.8664 566.045 Q54.8057 570.787 46.212 570.787 Q37.491 570.787 32.4939 566.013 Q27.4968 561.207 27.4968 552.868 Q27.4968 550.162 28.0697 547.584 Q28.6108 545.006 29.7248 542.587 Z\" fill=\"#000000\" fill-rule=\"evenodd\" fill-opacity=\"1\" /><path clip-path=\"url(#clip830)\" d=\"M28.3562 532.402 L28.3562 526.545 L64.0042 526.545 L64.0042 532.402 L28.3562 532.402 M14.479 532.402 L14.479 526.545 L21.895 526.545 L21.895 532.402 L14.479 532.402 Z\" fill=\"#000000\" fill-rule=\"evenodd\" fill-opacity=\"1\" /><path clip-path=\"url(#clip830)\" d=\"M18.2347 508.499 L28.3562 508.499 L28.3562 496.436 L32.9077 496.436 L32.9077 508.499 L52.2594 508.499 Q56.6199 508.499 57.8613 507.321 Q59.1026 506.111 59.1026 502.451 L59.1026 496.436 L64.0042 496.436 L64.0042 502.451 Q64.0042 509.231 61.4897 511.809 Q58.9434 514.387 52.2594 514.387 L32.9077 514.387 L32.9077 518.684 L28.3562 518.684 L28.3562 514.387 L18.2347 514.387 L18.2347 508.499 Z\" fill=\"#000000\" fill-rule=\"evenodd\" fill-opacity=\"1\" /><path clip-path=\"url(#clip830)\" d=\"M67.3143 473.901 Q73.68 476.384 75.6216 478.739 Q77.5631 481.094 77.5631 485.041 L77.5631 489.72 L72.6615 489.72 L72.6615 486.282 Q72.6615 483.863 71.5157 482.527 Q70.3699 481.19 66.1048 479.566 L63.4312 478.516 L28.3562 492.934 L28.3562 486.728 L56.238 475.588 L28.3562 464.448 L28.3562 458.241 L67.3143 473.901 Z\" fill=\"#000000\" fill-rule=\"evenodd\" fill-opacity=\"1\" /><polyline clip-path=\"url(#clip832)\" style=\"stroke:#009af9; stroke-linecap:round; stroke-linejoin:round; stroke-width:4; stroke-opacity:1; fill:none\" points=\"\n",
       "  279.421,725.741 289.537,800.42 299.652,215.151 309.767,1023.87 319.883,85.838 329.998,788.526 340.113,1020.73 \n",
       "  \"/>\n",
       "<polyline clip-path=\"url(#clip832)\" style=\"stroke:#009af9; stroke-linecap:round; stroke-linejoin:round; stroke-width:4; stroke-opacity:1; fill:none\" points=\"\n",
       "  380.574,860.949 390.69,988.889 400.805,717.542 410.92,941.435 421.036,876.562 431.151,600.591 441.266,487.91 451.382,882.064 461.497,533.476 471.612,842.69 \n",
       "  481.727,962.275 491.843,974.436 501.958,248.87 512.073,1029.06 522.189,870.554 532.304,932.144 542.419,848.371 552.535,895.922 562.65,949.042 572.765,695.29 \n",
       "  582.881,952.912 592.996,816.315 603.111,939.075 613.226,578.731 623.342,981.852 633.457,1000.37 643.572,906.238 653.688,975.19 663.803,983.798 673.918,934.509 \n",
       "  684.034,807.664 694.149,912.493 704.264,848.256 714.38,882.417 724.495,885.682 734.61,919.806 744.725,903.724 754.841,953.633 764.956,924.646 775.071,986.455 \n",
       "  785.187,946.772 795.302,1006.77 805.417,977.623 815.533,966.246 825.648,940.342 835.763,942.335 845.879,875.304 855.994,957.596 866.109,910.336 876.224,931.563 \n",
       "  886.34,923.109 896.455,943.974 906.57,1028.39 916.686,1085.24 926.801,1157.79 936.916,1179.9 947.032,1176.09 957.147,1265.61 967.262,1282.2 977.378,1325.04 \n",
       "  987.493,1356.21 997.608,1372.3 1007.72,1324.23 1017.84,1331.29 1027.95,1313.65 1038.07,1255.81 1048.18,1244.88 1058.3,1272.45 1068.42,1269.68 1078.53,1265.76 \n",
       "  1088.65,1265.71 1098.76,1272.84 1108.88,1248.47 1118.99,1255.91 1129.11,1301.55 1139.22,1239.24 1149.34,1209.56 1159.45,1253.97 1169.57,1238.79 1179.68,1263.15 \n",
       "  1189.8,1234.11 1199.91,1250.87 1210.03,1232.02 1220.14,1209.36 1230.26,1224.89 1240.38,1246.38 1250.49,1204.78 1260.61,1236.89 1270.72,1211.36 1280.84,1214.46 \n",
       "  1290.95,1262.3 1301.07,1209.46 1311.18,1212.37 1321.3,1195.81 1331.41,1209.29 1341.53,1173.87 1351.64,1192.5 1361.76,1181.04 1371.87,1214.25 1381.99,1219.42 \n",
       "  1392.11,1232.18 1402.22,1207.37 1412.34,1232.32 1422.45,1223.02 1432.57,1195.54 1442.68,1218.26 1452.8,1255.42 1462.91,1237.81 1473.03,1183.37 1483.14,1257.17 \n",
       "  1493.26,1207.13 1503.37,1218.84 1513.49,1214.72 1523.6,1210.96 1533.72,1203.24 1543.83,1223.09 1553.95,1249.36 1564.07,1208.31 1574.18,1258.23 1584.3,1212.84 \n",
       "  1594.41,1240.94 1604.53,1241.92 1614.64,1286.78 1624.76,1242.19 1634.87,1242.38 1644.99,1247.34 1655.1,1278.07 1665.22,1230.76 1675.33,1253.81 1685.45,1199.04 \n",
       "  1695.56,1226.82 1705.68,1272.63 1715.79,1271.59 1725.91,1234.26 1736.03,1232.76 1746.14,1255.98 1756.26,1268.39 1766.37,1238.27 1776.49,1275.85 1786.6,1230.83 \n",
       "  1796.72,1270.44 1806.83,1259.68 1816.95,1239.66 1827.06,1233.43 1837.18,1314.07 1847.29,1275.7 1857.41,1226.78 1867.52,1259.02 1877.64,1284.07 1887.76,1278.1 \n",
       "  1897.87,1267.35 1907.99,1321.15 1918.1,1266.36 1928.22,1281.93 1938.33,1288.9 1948.45,1270.63 1958.56,1256.02 1968.68,1282.34 1978.79,1252.23 1988.91,1254.14 \n",
       "  1999.02,1268.99 2009.14,1248.21 2019.25,1276.71 2029.37,1294.73 2039.48,1258.03 2049.6,1304.34 2059.72,1302.93 2069.83,1301.63 2079.95,1305.06 2090.06,1312.47 \n",
       "  2100.18,1293.84 2110.29,1282.38 2120.41,1283.33 2130.52,1316.18 2140.64,1271.91 2150.75,1272.09 2160.87,1276.81 2170.98,1365.4 2181.1,1310.41 2191.21,1278.3 \n",
       "  2201.33,1266.55 2211.45,1325 2221.56,1323.25 2231.68,1296.06 2241.79,1323.49 2251.91,1364.66 2262.02,1280 2272.14,1293.15 2282.25,1289.49 2292.37,1295.57 \n",
       "  \n",
       "  \"/>\n",
       "</svg>\n"
      ]
     },
     "execution_count": 45,
     "metadata": {},
     "output_type": "execute_result"
    }
   ],
   "source": [
    "plot(iterations, avg_velocity, xlabel=\"Iterations\", ylabel=\"Average Velocity\", legend = false, xformatter = :scientific)"
   ]
  },
  {
   "cell_type": "code",
   "execution_count": 46,
   "id": "c3113dc1",
   "metadata": {},
   "outputs": [
    {
     "data": {
      "text/plain": [
       "\"/home/larissa/Documents/Projects/ADLR/ADLR_project/src/3d/plots/slow/avg_velocity.svg\""
      ]
     },
     "execution_count": 46,
     "metadata": {},
     "output_type": "execute_result"
    }
   ],
   "source": [
    "savefig(fig_path * \"avg_velocity.svg\")"
   ]
  },
  {
   "cell_type": "code",
   "execution_count": 47,
   "id": "1b4de56f",
   "metadata": {},
   "outputs": [
    {
     "data": {
      "image/svg+xml": [
       "<?xml version=\"1.0\" encoding=\"utf-8\"?>\n",
       "<svg xmlns=\"http://www.w3.org/2000/svg\" xmlns:xlink=\"http://www.w3.org/1999/xlink\" width=\"600\" height=\"400\" viewBox=\"0 0 2400 1600\">\n",
       "<defs>\n",
       "  <clipPath id=\"clip910\">\n",
       "    <rect x=\"0\" y=\"0\" width=\"2400\" height=\"1600\"/>\n",
       "  </clipPath>\n",
       "</defs>\n",
       "<path clip-path=\"url(#clip910)\" d=\"\n",
       "M0 1600 L2400 1600 L2400 0 L0 0  Z\n",
       "  \" fill=\"#ffffff\" fill-rule=\"evenodd\" fill-opacity=\"1\"/>\n",
       "<defs>\n",
       "  <clipPath id=\"clip911\">\n",
       "    <rect x=\"480\" y=\"0\" width=\"1681\" height=\"1600\"/>\n",
       "  </clipPath>\n",
       "</defs>\n",
       "<path clip-path=\"url(#clip910)\" d=\"\n",
       "M219.033 1410.9 L2352.76 1410.9 L2352.76 47.2441 L219.033 47.2441  Z\n",
       "  \" fill=\"#ffffff\" fill-rule=\"evenodd\" fill-opacity=\"1\"/>\n",
       "<defs>\n",
       "  <clipPath id=\"clip912\">\n",
       "    <rect x=\"219\" y=\"47\" width=\"2135\" height=\"1365\"/>\n",
       "  </clipPath>\n",
       "</defs>\n",
       "<polyline clip-path=\"url(#clip912)\" style=\"stroke:#000000; stroke-linecap:round; stroke-linejoin:round; stroke-width:2; stroke-opacity:0.1; fill:none\" points=\"\n",
       "  269.306,1410.9 269.306,47.2441 \n",
       "  \"/>\n",
       "<polyline clip-path=\"url(#clip912)\" style=\"stroke:#000000; stroke-linecap:round; stroke-linejoin:round; stroke-width:2; stroke-opacity:0.1; fill:none\" points=\"\n",
       "  775.071,1410.9 775.071,47.2441 \n",
       "  \"/>\n",
       "<polyline clip-path=\"url(#clip912)\" style=\"stroke:#000000; stroke-linecap:round; stroke-linejoin:round; stroke-width:2; stroke-opacity:0.1; fill:none\" points=\"\n",
       "  1280.84,1410.9 1280.84,47.2441 \n",
       "  \"/>\n",
       "<polyline clip-path=\"url(#clip912)\" style=\"stroke:#000000; stroke-linecap:round; stroke-linejoin:round; stroke-width:2; stroke-opacity:0.1; fill:none\" points=\"\n",
       "  1786.6,1410.9 1786.6,47.2441 \n",
       "  \"/>\n",
       "<polyline clip-path=\"url(#clip912)\" style=\"stroke:#000000; stroke-linecap:round; stroke-linejoin:round; stroke-width:2; stroke-opacity:0.1; fill:none\" points=\"\n",
       "  2292.37,1410.9 2292.37,47.2441 \n",
       "  \"/>\n",
       "<polyline clip-path=\"url(#clip910)\" style=\"stroke:#000000; stroke-linecap:round; stroke-linejoin:round; stroke-width:4; stroke-opacity:1; fill:none\" points=\"\n",
       "  219.033,1410.9 2352.76,1410.9 \n",
       "  \"/>\n",
       "<polyline clip-path=\"url(#clip910)\" style=\"stroke:#000000; stroke-linecap:round; stroke-linejoin:round; stroke-width:4; stroke-opacity:1; fill:none\" points=\"\n",
       "  269.306,1410.9 269.306,1392 \n",
       "  \"/>\n",
       "<polyline clip-path=\"url(#clip910)\" style=\"stroke:#000000; stroke-linecap:round; stroke-linejoin:round; stroke-width:4; stroke-opacity:1; fill:none\" points=\"\n",
       "  775.071,1410.9 775.071,1392 \n",
       "  \"/>\n",
       "<polyline clip-path=\"url(#clip910)\" style=\"stroke:#000000; stroke-linecap:round; stroke-linejoin:round; stroke-width:4; stroke-opacity:1; fill:none\" points=\"\n",
       "  1280.84,1410.9 1280.84,1392 \n",
       "  \"/>\n",
       "<polyline clip-path=\"url(#clip910)\" style=\"stroke:#000000; stroke-linecap:round; stroke-linejoin:round; stroke-width:4; stroke-opacity:1; fill:none\" points=\"\n",
       "  1786.6,1410.9 1786.6,1392 \n",
       "  \"/>\n",
       "<polyline clip-path=\"url(#clip910)\" style=\"stroke:#000000; stroke-linecap:round; stroke-linejoin:round; stroke-width:4; stroke-opacity:1; fill:none\" points=\"\n",
       "  2292.37,1410.9 2292.37,1392 \n",
       "  \"/>\n",
       "<path clip-path=\"url(#clip910)\" d=\"M269.306 1441.82 Q265.695 1441.82 263.866 1445.38 Q262.061 1448.92 262.061 1456.05 Q262.061 1463.16 263.866 1466.72 Q265.695 1470.26 269.306 1470.26 Q272.94 1470.26 274.746 1466.72 Q276.574 1463.16 276.574 1456.05 Q276.574 1448.92 274.746 1445.38 Q272.94 1441.82 269.306 1441.82 M269.306 1438.11 Q275.116 1438.11 278.172 1442.72 Q281.25 1447.3 281.25 1456.05 Q281.25 1464.78 278.172 1469.38 Q275.116 1473.97 269.306 1473.97 Q263.496 1473.97 260.417 1469.38 Q257.362 1464.78 257.362 1456.05 Q257.362 1447.3 260.417 1442.72 Q263.496 1438.11 269.306 1438.11 Z\" fill=\"#000000\" fill-rule=\"evenodd\" fill-opacity=\"1\" /><path clip-path=\"url(#clip910)\" d=\"M667.437 1454.4 L685.793 1454.4 L685.793 1458.33 L671.719 1458.33 L671.719 1466.8 Q672.738 1466.46 673.756 1466.29 Q674.775 1466.11 675.793 1466.11 Q681.58 1466.11 684.96 1469.28 Q688.339 1472.45 688.339 1477.87 Q688.339 1483.45 684.867 1486.55 Q681.395 1489.63 675.076 1489.63 Q672.9 1489.63 670.631 1489.26 Q668.386 1488.89 665.978 1488.15 L665.978 1483.45 Q668.062 1484.58 670.284 1485.14 Q672.506 1485.69 674.983 1485.69 Q678.988 1485.69 681.326 1483.59 Q683.663 1481.48 683.663 1477.87 Q683.663 1474.26 681.326 1472.15 Q678.988 1470.04 674.983 1470.04 Q673.108 1470.04 671.233 1470.46 Q669.381 1470.88 667.437 1471.76 L667.437 1454.4 Z\" fill=\"#000000\" fill-rule=\"evenodd\" fill-opacity=\"1\" /><path clip-path=\"url(#clip910)\" d=\"M697.552 1483.08 L702.437 1483.08 L702.437 1488.96 L697.552 1488.96 L697.552 1483.08 Z\" fill=\"#000000\" fill-rule=\"evenodd\" fill-opacity=\"1\" /><path clip-path=\"url(#clip910)\" d=\"M722.622 1457.48 Q719.01 1457.48 717.182 1461.04 Q715.376 1464.58 715.376 1471.71 Q715.376 1478.82 717.182 1482.38 Q719.01 1485.92 722.622 1485.92 Q726.256 1485.92 728.061 1482.38 Q729.89 1478.82 729.89 1471.71 Q729.89 1464.58 728.061 1461.04 Q726.256 1457.48 722.622 1457.48 M722.622 1453.77 Q728.432 1453.77 731.487 1458.38 Q734.566 1462.96 734.566 1471.71 Q734.566 1480.44 731.487 1485.04 Q728.432 1489.63 722.622 1489.63 Q716.811 1489.63 713.733 1485.04 Q710.677 1480.44 710.677 1471.71 Q710.677 1462.96 713.733 1458.38 Q716.811 1453.77 722.622 1453.77 Z\" fill=\"#000000\" fill-rule=\"evenodd\" fill-opacity=\"1\" /><path clip-path=\"url(#clip910)\" d=\"M752.783 1457.48 Q749.172 1457.48 747.344 1461.04 Q745.538 1464.58 745.538 1471.71 Q745.538 1478.82 747.344 1482.38 Q749.172 1485.92 752.783 1485.92 Q756.418 1485.92 758.223 1482.38 Q760.052 1478.82 760.052 1471.71 Q760.052 1464.58 758.223 1461.04 Q756.418 1457.48 752.783 1457.48 M752.783 1453.77 Q758.594 1453.77 761.649 1458.38 Q764.728 1462.96 764.728 1471.71 Q764.728 1480.44 761.649 1485.04 Q758.594 1489.63 752.783 1489.63 Q746.973 1489.63 743.895 1485.04 Q740.839 1480.44 740.839 1471.71 Q740.839 1462.96 743.895 1458.38 Q746.973 1453.77 752.783 1453.77 Z\" fill=\"#000000\" fill-rule=\"evenodd\" fill-opacity=\"1\" /><path clip-path=\"url(#clip910)\" d=\"M801.117 1463.49 L790.538 1474.12 L801.117 1484.7 L798.362 1487.5 L787.737 1476.87 L777.112 1487.5 L774.381 1484.7 L784.936 1474.12 L774.381 1463.49 L777.112 1460.69 L787.737 1471.32 L798.362 1460.69 L801.117 1463.49 Z\" fill=\"#000000\" fill-rule=\"evenodd\" fill-opacity=\"1\" /><path clip-path=\"url(#clip910)\" d=\"M813.478 1485.02 L821.116 1485.02 L821.116 1458.66 L812.806 1460.32 L812.806 1456.06 L821.07 1454.4 L825.746 1454.4 L825.746 1485.02 L833.385 1485.02 L833.385 1488.96 L813.478 1488.96 L813.478 1485.02 Z\" fill=\"#000000\" fill-rule=\"evenodd\" fill-opacity=\"1\" /><path clip-path=\"url(#clip910)\" d=\"M852.829 1457.48 Q849.218 1457.48 847.389 1461.04 Q845.584 1464.58 845.584 1471.71 Q845.584 1478.82 847.389 1482.38 Q849.218 1485.92 852.829 1485.92 Q856.463 1485.92 858.269 1482.38 Q860.098 1478.82 860.098 1471.71 Q860.098 1464.58 858.269 1461.04 Q856.463 1457.48 852.829 1457.48 M852.829 1453.77 Q858.639 1453.77 861.695 1458.38 Q864.774 1462.96 864.774 1471.71 Q864.774 1480.44 861.695 1485.04 Q858.639 1489.63 852.829 1489.63 Q847.019 1489.63 843.94 1485.04 Q840.885 1480.44 840.885 1471.71 Q840.885 1462.96 843.94 1458.38 Q847.019 1453.77 852.829 1453.77 Z\" fill=\"#000000\" fill-rule=\"evenodd\" fill-opacity=\"1\" /><path clip-path=\"url(#clip910)\" d=\"M874.798 1445.99 Q872.24 1445.99 870.736 1447.74 Q869.25 1449.49 869.25 1452.54 Q869.25 1455.57 870.736 1457.33 Q872.24 1459.08 874.798 1459.08 Q877.356 1459.08 878.842 1457.33 Q880.346 1455.57 880.346 1452.54 Q880.346 1449.49 878.842 1447.74 Q877.356 1445.99 874.798 1445.99 M882.34 1434.09 L882.34 1437.55 Q880.911 1436.87 879.444 1436.51 Q877.995 1436.16 876.566 1436.16 Q872.805 1436.16 870.811 1438.69 Q868.836 1441.23 868.554 1446.37 Q869.664 1444.73 871.338 1443.87 Q873.011 1442.98 875.024 1442.98 Q879.256 1442.98 881.701 1445.56 Q884.164 1448.12 884.164 1452.54 Q884.164 1456.86 881.607 1459.48 Q879.049 1462.09 874.798 1462.09 Q869.927 1462.09 867.35 1458.37 Q864.774 1454.62 864.774 1447.53 Q864.774 1440.88 867.933 1436.93 Q871.093 1432.96 876.416 1432.96 Q877.845 1432.96 879.293 1433.24 Q880.76 1433.52 882.34 1434.09 Z\" fill=\"#000000\" fill-rule=\"evenodd\" fill-opacity=\"1\" /><path clip-path=\"url(#clip910)\" d=\"M1173.86 1485.02 L1181.5 1485.02 L1181.5 1458.66 L1173.19 1460.32 L1173.19 1456.06 L1181.45 1454.4 L1186.13 1454.4 L1186.13 1485.02 L1193.77 1485.02 L1193.77 1488.96 L1173.86 1488.96 L1173.86 1485.02 Z\" fill=\"#000000\" fill-rule=\"evenodd\" fill-opacity=\"1\" /><path clip-path=\"url(#clip910)\" d=\"M1203.21 1483.08 L1208.09 1483.08 L1208.09 1488.96 L1203.21 1488.96 L1203.21 1483.08 Z\" fill=\"#000000\" fill-rule=\"evenodd\" fill-opacity=\"1\" /><path clip-path=\"url(#clip910)\" d=\"M1228.28 1457.48 Q1224.67 1457.48 1222.84 1461.04 Q1221.03 1464.58 1221.03 1471.71 Q1221.03 1478.82 1222.84 1482.38 Q1224.67 1485.92 1228.28 1485.92 Q1231.91 1485.92 1233.72 1482.38 Q1235.55 1478.82 1235.55 1471.71 Q1235.55 1464.58 1233.72 1461.04 Q1231.91 1457.48 1228.28 1457.48 M1228.28 1453.77 Q1234.09 1453.77 1237.14 1458.38 Q1240.22 1462.96 1240.22 1471.71 Q1240.22 1480.44 1237.14 1485.04 Q1234.09 1489.63 1228.28 1489.63 Q1222.47 1489.63 1219.39 1485.04 Q1216.33 1480.44 1216.33 1471.71 Q1216.33 1462.96 1219.39 1458.38 Q1222.47 1453.77 1228.28 1453.77 Z\" fill=\"#000000\" fill-rule=\"evenodd\" fill-opacity=\"1\" /><path clip-path=\"url(#clip910)\" d=\"M1258.44 1457.48 Q1254.83 1457.48 1253 1461.04 Q1251.2 1464.58 1251.2 1471.71 Q1251.2 1478.82 1253 1482.38 Q1254.83 1485.92 1258.44 1485.92 Q1262.08 1485.92 1263.88 1482.38 Q1265.71 1478.82 1265.71 1471.71 Q1265.71 1464.58 1263.88 1461.04 Q1262.08 1457.48 1258.44 1457.48 M1258.44 1453.77 Q1264.25 1453.77 1267.31 1458.38 Q1270.39 1462.96 1270.39 1471.71 Q1270.39 1480.44 1267.31 1485.04 Q1264.25 1489.63 1258.44 1489.63 Q1252.63 1489.63 1249.55 1485.04 Q1246.5 1480.44 1246.5 1471.71 Q1246.5 1462.96 1249.55 1458.38 Q1252.63 1453.77 1258.44 1453.77 Z\" fill=\"#000000\" fill-rule=\"evenodd\" fill-opacity=\"1\" /><path clip-path=\"url(#clip910)\" d=\"M1306.77 1463.49 L1296.2 1474.12 L1306.77 1484.7 L1304.02 1487.5 L1293.39 1476.87 L1282.77 1487.5 L1280.04 1484.7 L1290.59 1474.12 L1280.04 1463.49 L1282.77 1460.69 L1293.39 1471.32 L1304.02 1460.69 L1306.77 1463.49 Z\" fill=\"#000000\" fill-rule=\"evenodd\" fill-opacity=\"1\" /><path clip-path=\"url(#clip910)\" d=\"M1319.14 1485.02 L1326.77 1485.02 L1326.77 1458.66 L1318.46 1460.32 L1318.46 1456.06 L1326.73 1454.4 L1331.4 1454.4 L1331.4 1485.02 L1339.04 1485.02 L1339.04 1488.96 L1319.14 1488.96 L1319.14 1485.02 Z\" fill=\"#000000\" fill-rule=\"evenodd\" fill-opacity=\"1\" /><path clip-path=\"url(#clip910)\" d=\"M1358.49 1457.48 Q1354.88 1457.48 1353.05 1461.04 Q1351.24 1464.58 1351.24 1471.71 Q1351.24 1478.82 1353.05 1482.38 Q1354.88 1485.92 1358.49 1485.92 Q1362.12 1485.92 1363.93 1482.38 Q1365.76 1478.82 1365.76 1471.71 Q1365.76 1464.58 1363.93 1461.04 Q1362.12 1457.48 1358.49 1457.48 M1358.49 1453.77 Q1364.3 1453.77 1367.35 1458.38 Q1370.43 1462.96 1370.43 1471.71 Q1370.43 1480.44 1367.35 1485.04 Q1364.3 1489.63 1358.49 1489.63 Q1352.68 1489.63 1349.6 1485.04 Q1346.54 1480.44 1346.54 1471.71 Q1346.54 1462.96 1349.6 1458.38 Q1352.68 1453.77 1358.49 1453.77 Z\" fill=\"#000000\" fill-rule=\"evenodd\" fill-opacity=\"1\" /><path clip-path=\"url(#clip910)\" d=\"M1370.43 1433.47 L1388.49 1433.47 L1388.49 1435.08 L1378.29 1461.55 L1374.32 1461.55 L1383.92 1436.66 L1370.43 1436.66 L1370.43 1433.47 Z\" fill=\"#000000\" fill-rule=\"evenodd\" fill-opacity=\"1\" /><path clip-path=\"url(#clip910)\" d=\"M1679.62 1485.02 L1687.26 1485.02 L1687.26 1458.66 L1678.95 1460.32 L1678.95 1456.06 L1687.22 1454.4 L1691.89 1454.4 L1691.89 1485.02 L1699.53 1485.02 L1699.53 1488.96 L1679.62 1488.96 L1679.62 1485.02 Z\" fill=\"#000000\" fill-rule=\"evenodd\" fill-opacity=\"1\" /><path clip-path=\"url(#clip910)\" d=\"M1708.98 1483.08 L1713.86 1483.08 L1713.86 1488.96 L1708.98 1488.96 L1708.98 1483.08 Z\" fill=\"#000000\" fill-rule=\"evenodd\" fill-opacity=\"1\" /><path clip-path=\"url(#clip910)\" d=\"M1724.09 1454.4 L1742.45 1454.4 L1742.45 1458.33 L1728.37 1458.33 L1728.37 1466.8 Q1729.39 1466.46 1730.41 1466.29 Q1731.43 1466.11 1732.45 1466.11 Q1738.23 1466.11 1741.61 1469.28 Q1744.99 1472.45 1744.99 1477.87 Q1744.99 1483.45 1741.52 1486.55 Q1738.05 1489.63 1731.73 1489.63 Q1729.55 1489.63 1727.29 1489.26 Q1725.04 1488.89 1722.63 1488.15 L1722.63 1483.45 Q1724.72 1484.58 1726.94 1485.14 Q1729.16 1485.69 1731.64 1485.69 Q1735.64 1485.69 1737.98 1483.59 Q1740.32 1481.48 1740.32 1477.87 Q1740.32 1474.26 1737.98 1472.15 Q1735.64 1470.04 1731.64 1470.04 Q1729.76 1470.04 1727.89 1470.46 Q1726.04 1470.88 1724.09 1471.76 L1724.09 1454.4 Z\" fill=\"#000000\" fill-rule=\"evenodd\" fill-opacity=\"1\" /><path clip-path=\"url(#clip910)\" d=\"M1764.21 1457.48 Q1760.6 1457.48 1758.77 1461.04 Q1756.96 1464.58 1756.96 1471.71 Q1756.96 1478.82 1758.77 1482.38 Q1760.6 1485.92 1764.21 1485.92 Q1767.84 1485.92 1769.65 1482.38 Q1771.47 1478.82 1771.47 1471.71 Q1771.47 1464.58 1769.65 1461.04 Q1767.84 1457.48 1764.21 1457.48 M1764.21 1453.77 Q1770.02 1453.77 1773.07 1458.38 Q1776.15 1462.96 1776.15 1471.71 Q1776.15 1480.44 1773.07 1485.04 Q1770.02 1489.63 1764.21 1489.63 Q1758.4 1489.63 1755.32 1485.04 Q1752.26 1480.44 1752.26 1471.71 Q1752.26 1462.96 1755.32 1458.38 Q1758.4 1453.77 1764.21 1453.77 Z\" fill=\"#000000\" fill-rule=\"evenodd\" fill-opacity=\"1\" /><path clip-path=\"url(#clip910)\" d=\"M1812.54 1463.49 L1801.96 1474.12 L1812.54 1484.7 L1809.78 1487.5 L1799.16 1476.87 L1788.54 1487.5 L1785.8 1484.7 L1796.36 1474.12 L1785.8 1463.49 L1788.54 1460.69 L1799.16 1471.32 L1809.78 1460.69 L1812.54 1463.49 Z\" fill=\"#000000\" fill-rule=\"evenodd\" fill-opacity=\"1\" /><path clip-path=\"url(#clip910)\" d=\"M1824.9 1485.02 L1832.54 1485.02 L1832.54 1458.66 L1824.23 1460.32 L1824.23 1456.06 L1832.49 1454.4 L1837.17 1454.4 L1837.17 1485.02 L1844.81 1485.02 L1844.81 1488.96 L1824.9 1488.96 L1824.9 1485.02 Z\" fill=\"#000000\" fill-rule=\"evenodd\" fill-opacity=\"1\" /><path clip-path=\"url(#clip910)\" d=\"M1864.25 1457.48 Q1860.64 1457.48 1858.81 1461.04 Q1857.01 1464.58 1857.01 1471.71 Q1857.01 1478.82 1858.81 1482.38 Q1860.64 1485.92 1864.25 1485.92 Q1867.89 1485.92 1869.69 1482.38 Q1871.52 1478.82 1871.52 1471.71 Q1871.52 1464.58 1869.69 1461.04 Q1867.89 1457.48 1864.25 1457.48 M1864.25 1453.77 Q1870.06 1453.77 1873.12 1458.38 Q1876.2 1462.96 1876.2 1471.71 Q1876.2 1480.44 1873.12 1485.04 Q1870.06 1489.63 1864.25 1489.63 Q1858.44 1489.63 1855.36 1485.04 Q1852.31 1480.44 1852.31 1471.71 Q1852.31 1462.96 1855.36 1458.38 Q1858.44 1453.77 1864.25 1453.77 Z\" fill=\"#000000\" fill-rule=\"evenodd\" fill-opacity=\"1\" /><path clip-path=\"url(#clip910)\" d=\"M1876.2 1433.47 L1894.25 1433.47 L1894.25 1435.08 L1884.06 1461.55 L1880.09 1461.55 L1889.68 1436.66 L1876.2 1436.66 L1876.2 1433.47 Z\" fill=\"#000000\" fill-rule=\"evenodd\" fill-opacity=\"1\" /><path clip-path=\"url(#clip910)\" d=\"M2189.47 1485.02 L2205.79 1485.02 L2205.79 1488.96 L2183.85 1488.96 L2183.85 1485.02 Q2186.51 1482.27 2191.09 1477.64 Q2195.7 1472.98 2196.88 1471.64 Q2199.13 1469.12 2200.01 1467.38 Q2200.91 1465.62 2200.91 1463.93 Q2200.91 1461.18 2198.97 1459.44 Q2197.04 1457.71 2193.94 1457.71 Q2191.74 1457.71 2189.29 1458.47 Q2186.86 1459.23 2184.08 1460.79 L2184.08 1456.06 Q2186.91 1454.93 2189.36 1454.35 Q2191.81 1453.77 2193.85 1453.77 Q2199.22 1453.77 2202.41 1456.46 Q2205.61 1459.14 2205.61 1463.63 Q2205.61 1465.76 2204.8 1467.68 Q2204.01 1469.58 2201.91 1472.17 Q2201.33 1472.85 2198.22 1476.06 Q2195.12 1479.26 2189.47 1485.02 Z\" fill=\"#000000\" fill-rule=\"evenodd\" fill-opacity=\"1\" /><path clip-path=\"url(#clip910)\" d=\"M2215.61 1483.08 L2220.49 1483.08 L2220.49 1488.96 L2215.61 1488.96 L2215.61 1483.08 Z\" fill=\"#000000\" fill-rule=\"evenodd\" fill-opacity=\"1\" /><path clip-path=\"url(#clip910)\" d=\"M2240.68 1457.48 Q2237.07 1457.48 2235.24 1461.04 Q2233.43 1464.58 2233.43 1471.71 Q2233.43 1478.82 2235.24 1482.38 Q2237.07 1485.92 2240.68 1485.92 Q2244.31 1485.92 2246.12 1482.38 Q2247.95 1478.82 2247.95 1471.71 Q2247.95 1464.58 2246.12 1461.04 Q2244.31 1457.48 2240.68 1457.48 M2240.68 1453.77 Q2246.49 1453.77 2249.54 1458.38 Q2252.62 1462.96 2252.62 1471.71 Q2252.62 1480.44 2249.54 1485.04 Q2246.49 1489.63 2240.68 1489.63 Q2234.87 1489.63 2231.79 1485.04 Q2228.73 1480.44 2228.73 1471.71 Q2228.73 1462.96 2231.79 1458.38 Q2234.87 1453.77 2240.68 1453.77 Z\" fill=\"#000000\" fill-rule=\"evenodd\" fill-opacity=\"1\" /><path clip-path=\"url(#clip910)\" d=\"M2270.84 1457.48 Q2267.23 1457.48 2265.4 1461.04 Q2263.59 1464.58 2263.59 1471.71 Q2263.59 1478.82 2265.4 1482.38 Q2267.23 1485.92 2270.84 1485.92 Q2274.47 1485.92 2276.28 1482.38 Q2278.11 1478.82 2278.11 1471.71 Q2278.11 1464.58 2276.28 1461.04 Q2274.47 1457.48 2270.84 1457.48 M2270.84 1453.77 Q2276.65 1453.77 2279.71 1458.38 Q2282.78 1462.96 2282.78 1471.71 Q2282.78 1480.44 2279.71 1485.04 Q2276.65 1489.63 2270.84 1489.63 Q2265.03 1489.63 2261.95 1485.04 Q2258.9 1480.44 2258.9 1471.71 Q2258.9 1462.96 2261.95 1458.38 Q2265.03 1453.77 2270.84 1453.77 Z\" fill=\"#000000\" fill-rule=\"evenodd\" fill-opacity=\"1\" /><path clip-path=\"url(#clip910)\" d=\"M2319.17 1463.49 L2308.59 1474.12 L2319.17 1484.7 L2316.42 1487.5 L2305.79 1476.87 L2295.17 1487.5 L2292.44 1484.7 L2302.99 1474.12 L2292.44 1463.49 L2295.17 1460.69 L2305.79 1471.32 L2316.42 1460.69 L2319.17 1463.49 Z\" fill=\"#000000\" fill-rule=\"evenodd\" fill-opacity=\"1\" /><path clip-path=\"url(#clip910)\" d=\"M2331.53 1485.02 L2339.17 1485.02 L2339.17 1458.66 L2330.86 1460.32 L2330.86 1456.06 L2339.13 1454.4 L2343.8 1454.4 L2343.8 1485.02 L2351.44 1485.02 L2351.44 1488.96 L2331.53 1488.96 L2331.53 1485.02 Z\" fill=\"#000000\" fill-rule=\"evenodd\" fill-opacity=\"1\" /><path clip-path=\"url(#clip910)\" d=\"M2370.89 1457.48 Q2367.27 1457.48 2365.45 1461.04 Q2363.64 1464.58 2363.64 1471.71 Q2363.64 1478.82 2365.45 1482.38 Q2367.27 1485.92 2370.89 1485.92 Q2374.52 1485.92 2376.33 1482.38 Q2378.15 1478.82 2378.15 1471.71 Q2378.15 1464.58 2376.33 1461.04 Q2374.52 1457.48 2370.89 1457.48 M2370.89 1453.77 Q2376.7 1453.77 2379.75 1458.38 Q2382.83 1462.96 2382.83 1471.71 Q2382.83 1480.44 2379.75 1485.04 Q2376.7 1489.63 2370.89 1489.63 Q2365.08 1489.63 2362 1485.04 Q2358.94 1480.44 2358.94 1471.71 Q2358.94 1462.96 2362 1458.38 Q2365.08 1453.77 2370.89 1453.77 Z\" fill=\"#000000\" fill-rule=\"evenodd\" fill-opacity=\"1\" /><path clip-path=\"url(#clip910)\" d=\"M2382.83 1433.47 L2400.89 1433.47 L2400.89 1435.08 L2390.69 1461.55 L2386.72 1461.55 L2396.32 1436.66 L2382.83 1436.66 L2382.83 1433.47 Z\" fill=\"#000000\" fill-rule=\"evenodd\" fill-opacity=\"1\" /><path clip-path=\"url(#clip910)\" d=\"M1135.46 1526.67 L1141.89 1526.67 L1141.89 1574.19 L1135.46 1574.19 L1135.46 1526.67 Z\" fill=\"#000000\" fill-rule=\"evenodd\" fill-opacity=\"1\" /><path clip-path=\"url(#clip910)\" d=\"M1160.22 1528.42 L1160.22 1538.54 L1172.28 1538.54 L1172.28 1543.09 L1160.22 1543.09 L1160.22 1562.44 Q1160.22 1566.8 1161.4 1568.04 Q1162.61 1569.28 1166.27 1569.28 L1172.28 1569.28 L1172.28 1574.19 L1166.27 1574.19 Q1159.49 1574.19 1156.91 1571.67 Q1154.33 1569.12 1154.33 1562.44 L1154.33 1543.09 L1150.03 1543.09 L1150.03 1538.54 L1154.33 1538.54 L1154.33 1528.42 L1160.22 1528.42 Z\" fill=\"#000000\" fill-rule=\"evenodd\" fill-opacity=\"1\" /><path clip-path=\"url(#clip910)\" d=\"M1210.48 1554.9 L1210.48 1557.76 L1183.55 1557.76 Q1183.93 1563.81 1187.18 1566.99 Q1190.46 1570.14 1196.28 1570.14 Q1199.66 1570.14 1202.81 1569.32 Q1205.99 1568.49 1209.11 1566.83 L1209.11 1572.37 Q1205.96 1573.71 1202.65 1574.41 Q1199.34 1575.11 1195.93 1575.11 Q1187.4 1575.11 1182.4 1570.14 Q1177.44 1565.18 1177.44 1556.71 Q1177.44 1547.96 1182.15 1542.83 Q1186.89 1537.68 1194.91 1537.68 Q1202.11 1537.68 1206.28 1542.33 Q1210.48 1546.94 1210.48 1554.9 M1204.62 1553.18 Q1204.56 1548.37 1201.91 1545.51 Q1199.3 1542.64 1194.98 1542.64 Q1190.07 1542.64 1187.11 1545.41 Q1184.19 1548.18 1183.74 1553.21 L1204.62 1553.18 Z\" fill=\"#000000\" fill-rule=\"evenodd\" fill-opacity=\"1\" /><path clip-path=\"url(#clip910)\" d=\"M1240.75 1544.01 Q1239.76 1543.44 1238.58 1543.18 Q1237.44 1542.9 1236.04 1542.9 Q1231.07 1542.9 1228.4 1546.14 Q1225.75 1549.36 1225.75 1555.41 L1225.75 1574.19 L1219.87 1574.19 L1219.87 1538.54 L1225.75 1538.54 L1225.75 1544.08 Q1227.6 1540.83 1230.56 1539.27 Q1233.52 1537.68 1237.75 1537.68 Q1238.36 1537.68 1239.09 1537.77 Q1239.82 1537.84 1240.71 1538 L1240.75 1544.01 Z\" fill=\"#000000\" fill-rule=\"evenodd\" fill-opacity=\"1\" /><path clip-path=\"url(#clip910)\" d=\"M1263.09 1556.27 Q1255.99 1556.27 1253.25 1557.89 Q1250.52 1559.51 1250.52 1563.43 Q1250.52 1566.55 1252.55 1568.39 Q1254.62 1570.21 1258.16 1570.21 Q1263.03 1570.21 1265.95 1566.77 Q1268.91 1563.3 1268.91 1557.57 L1268.91 1556.27 L1263.09 1556.27 M1274.77 1553.85 L1274.77 1574.19 L1268.91 1574.19 L1268.91 1568.77 Q1266.91 1572.02 1263.92 1573.58 Q1260.92 1575.11 1256.6 1575.11 Q1251.12 1575.11 1247.88 1572.05 Q1244.66 1568.97 1244.66 1563.81 Q1244.66 1557.79 1248.67 1554.74 Q1252.71 1551.68 1260.7 1551.68 L1268.91 1551.68 L1268.91 1551.11 Q1268.91 1547.07 1266.24 1544.87 Q1263.6 1542.64 1258.79 1542.64 Q1255.74 1542.64 1252.84 1543.38 Q1249.94 1544.11 1247.27 1545.57 L1247.27 1540.16 Q1250.49 1538.92 1253.51 1538.31 Q1256.53 1537.68 1259.4 1537.68 Q1267.13 1537.68 1270.95 1541.69 Q1274.77 1545.7 1274.77 1553.85 Z\" fill=\"#000000\" fill-rule=\"evenodd\" fill-opacity=\"1\" /><path clip-path=\"url(#clip910)\" d=\"M1292.63 1528.42 L1292.63 1538.54 L1304.69 1538.54 L1304.69 1543.09 L1292.63 1543.09 L1292.63 1562.44 Q1292.63 1566.8 1293.8 1568.04 Q1295.01 1569.28 1298.67 1569.28 L1304.69 1569.28 L1304.69 1574.19 L1298.67 1574.19 Q1291.89 1574.19 1289.32 1571.67 Q1286.74 1569.12 1286.74 1562.44 L1286.74 1543.09 L1282.44 1543.09 L1282.44 1538.54 L1286.74 1538.54 L1286.74 1528.42 L1292.63 1528.42 Z\" fill=\"#000000\" fill-rule=\"evenodd\" fill-opacity=\"1\" /><path clip-path=\"url(#clip910)\" d=\"M1312.39 1538.54 L1318.25 1538.54 L1318.25 1574.19 L1312.39 1574.19 L1312.39 1538.54 M1312.39 1524.66 L1318.25 1524.66 L1318.25 1532.08 L1312.39 1532.08 L1312.39 1524.66 Z\" fill=\"#000000\" fill-rule=\"evenodd\" fill-opacity=\"1\" /><path clip-path=\"url(#clip910)\" d=\"M1344.32 1542.64 Q1339.61 1542.64 1336.87 1546.34 Q1334.13 1550 1334.13 1556.39 Q1334.13 1562.79 1336.84 1566.48 Q1339.57 1570.14 1344.32 1570.14 Q1348.99 1570.14 1351.73 1566.45 Q1354.47 1562.76 1354.47 1556.39 Q1354.47 1550.06 1351.73 1546.37 Q1348.99 1542.64 1344.32 1542.64 M1344.32 1537.68 Q1351.95 1537.68 1356.32 1542.64 Q1360.68 1547.61 1360.68 1556.39 Q1360.68 1565.15 1356.32 1570.14 Q1351.95 1575.11 1344.32 1575.11 Q1336.65 1575.11 1332.28 1570.14 Q1327.96 1565.15 1327.96 1556.39 Q1327.96 1547.61 1332.28 1542.64 Q1336.65 1537.68 1344.32 1537.68 Z\" fill=\"#000000\" fill-rule=\"evenodd\" fill-opacity=\"1\" /><path clip-path=\"url(#clip910)\" d=\"M1400.02 1552.67 L1400.02 1574.19 L1394.16 1574.19 L1394.16 1552.86 Q1394.16 1547.8 1392.19 1545.29 Q1390.21 1542.77 1386.27 1542.77 Q1381.52 1542.77 1378.79 1545.79 Q1376.05 1548.82 1376.05 1554.04 L1376.05 1574.19 L1370.16 1574.19 L1370.16 1538.54 L1376.05 1538.54 L1376.05 1544.08 Q1378.15 1540.86 1380.98 1539.27 Q1383.85 1537.68 1387.57 1537.68 Q1393.71 1537.68 1396.86 1541.5 Q1400.02 1545.29 1400.02 1552.67 Z\" fill=\"#000000\" fill-rule=\"evenodd\" fill-opacity=\"1\" /><path clip-path=\"url(#clip910)\" d=\"M1434.42 1539.59 L1434.42 1545.13 Q1431.94 1543.85 1429.27 1543.22 Q1426.59 1542.58 1423.73 1542.58 Q1419.37 1542.58 1417.17 1543.92 Q1415.01 1545.25 1415.01 1547.93 Q1415.01 1549.96 1416.57 1551.14 Q1418.13 1552.29 1422.84 1553.34 L1424.84 1553.78 Q1431.08 1555.12 1433.69 1557.57 Q1436.33 1559.99 1436.33 1564.35 Q1436.33 1569.32 1432.39 1572.21 Q1428.47 1575.11 1421.6 1575.11 Q1418.73 1575.11 1415.61 1574.54 Q1412.52 1573.99 1409.09 1572.88 L1409.09 1566.83 Q1412.33 1568.52 1415.48 1569.38 Q1418.64 1570.21 1421.72 1570.21 Q1425.86 1570.21 1428.09 1568.81 Q1430.32 1567.37 1430.32 1564.8 Q1430.32 1562.41 1428.69 1561.14 Q1427.1 1559.86 1421.66 1558.68 L1419.62 1558.21 Q1414.18 1557.06 1411.76 1554.71 Q1409.34 1552.32 1409.34 1548.18 Q1409.34 1543.15 1412.91 1540.42 Q1416.47 1537.68 1423.03 1537.68 Q1426.27 1537.68 1429.14 1538.16 Q1432 1538.63 1434.42 1539.59 Z\" fill=\"#000000\" fill-rule=\"evenodd\" fill-opacity=\"1\" /><polyline clip-path=\"url(#clip912)\" style=\"stroke:#000000; stroke-linecap:round; stroke-linejoin:round; stroke-width:2; stroke-opacity:0.1; fill:none\" points=\"\n",
       "  219.033,1284.19 2352.76,1284.19 \n",
       "  \"/>\n",
       "<polyline clip-path=\"url(#clip912)\" style=\"stroke:#000000; stroke-linecap:round; stroke-linejoin:round; stroke-width:2; stroke-opacity:0.1; fill:none\" points=\"\n",
       "  219.033,990.467 2352.76,990.467 \n",
       "  \"/>\n",
       "<polyline clip-path=\"url(#clip912)\" style=\"stroke:#000000; stroke-linecap:round; stroke-linejoin:round; stroke-width:2; stroke-opacity:0.1; fill:none\" points=\"\n",
       "  219.033,696.746 2352.76,696.746 \n",
       "  \"/>\n",
       "<polyline clip-path=\"url(#clip912)\" style=\"stroke:#000000; stroke-linecap:round; stroke-linejoin:round; stroke-width:2; stroke-opacity:0.1; fill:none\" points=\"\n",
       "  219.033,403.026 2352.76,403.026 \n",
       "  \"/>\n",
       "<polyline clip-path=\"url(#clip912)\" style=\"stroke:#000000; stroke-linecap:round; stroke-linejoin:round; stroke-width:2; stroke-opacity:0.1; fill:none\" points=\"\n",
       "  219.033,109.306 2352.76,109.306 \n",
       "  \"/>\n",
       "<polyline clip-path=\"url(#clip910)\" style=\"stroke:#000000; stroke-linecap:round; stroke-linejoin:round; stroke-width:4; stroke-opacity:1; fill:none\" points=\"\n",
       "  219.033,1410.9 219.033,47.2441 \n",
       "  \"/>\n",
       "<polyline clip-path=\"url(#clip910)\" style=\"stroke:#000000; stroke-linecap:round; stroke-linejoin:round; stroke-width:4; stroke-opacity:1; fill:none\" points=\"\n",
       "  219.033,1284.19 237.931,1284.19 \n",
       "  \"/>\n",
       "<polyline clip-path=\"url(#clip910)\" style=\"stroke:#000000; stroke-linecap:round; stroke-linejoin:round; stroke-width:4; stroke-opacity:1; fill:none\" points=\"\n",
       "  219.033,990.467 237.931,990.467 \n",
       "  \"/>\n",
       "<polyline clip-path=\"url(#clip910)\" style=\"stroke:#000000; stroke-linecap:round; stroke-linejoin:round; stroke-width:4; stroke-opacity:1; fill:none\" points=\"\n",
       "  219.033,696.746 237.931,696.746 \n",
       "  \"/>\n",
       "<polyline clip-path=\"url(#clip910)\" style=\"stroke:#000000; stroke-linecap:round; stroke-linejoin:round; stroke-width:4; stroke-opacity:1; fill:none\" points=\"\n",
       "  219.033,403.026 237.931,403.026 \n",
       "  \"/>\n",
       "<polyline clip-path=\"url(#clip910)\" style=\"stroke:#000000; stroke-linecap:round; stroke-linejoin:round; stroke-width:4; stroke-opacity:1; fill:none\" points=\"\n",
       "  219.033,109.306 237.931,109.306 \n",
       "  \"/>\n",
       "<path clip-path=\"url(#clip910)\" d=\"M126.853 1269.99 Q123.242 1269.99 121.413 1273.55 Q119.607 1277.09 119.607 1284.22 Q119.607 1291.33 121.413 1294.89 Q123.242 1298.43 126.853 1298.43 Q130.487 1298.43 132.292 1294.89 Q134.121 1291.33 134.121 1284.22 Q134.121 1277.09 132.292 1273.55 Q130.487 1269.99 126.853 1269.99 M126.853 1266.28 Q132.663 1266.28 135.718 1270.89 Q138.797 1275.47 138.797 1284.22 Q138.797 1292.95 135.718 1297.55 Q132.663 1302.14 126.853 1302.14 Q121.043 1302.14 117.964 1297.55 Q114.908 1292.95 114.908 1284.22 Q114.908 1275.47 117.964 1270.89 Q121.043 1266.28 126.853 1266.28 Z\" fill=\"#000000\" fill-rule=\"evenodd\" fill-opacity=\"1\" /><path clip-path=\"url(#clip910)\" d=\"M147.015 1295.59 L151.899 1295.59 L151.899 1301.47 L147.015 1301.47 L147.015 1295.59 Z\" fill=\"#000000\" fill-rule=\"evenodd\" fill-opacity=\"1\" /><path clip-path=\"url(#clip910)\" d=\"M162.13 1266.91 L180.487 1266.91 L180.487 1270.84 L166.413 1270.84 L166.413 1279.31 Q167.431 1278.97 168.45 1278.8 Q169.468 1278.62 170.487 1278.62 Q176.274 1278.62 179.653 1281.79 Q183.033 1284.96 183.033 1290.38 Q183.033 1295.96 179.561 1299.06 Q176.089 1302.14 169.769 1302.14 Q167.593 1302.14 165.325 1301.77 Q163.079 1301.4 160.672 1300.66 L160.672 1295.96 Q162.755 1297.09 164.977 1297.65 Q167.2 1298.2 169.677 1298.2 Q173.681 1298.2 176.019 1296.1 Q178.357 1293.99 178.357 1290.38 Q178.357 1286.77 176.019 1284.66 Q173.681 1282.55 169.677 1282.55 Q167.802 1282.55 165.927 1282.97 Q164.075 1283.39 162.13 1284.27 L162.13 1266.91 Z\" fill=\"#000000\" fill-rule=\"evenodd\" fill-opacity=\"1\" /><path clip-path=\"url(#clip910)\" d=\"M116.668 1003.81 L124.306 1003.81 L124.306 977.446 L115.996 979.112 L115.996 974.853 L124.26 973.187 L128.936 973.187 L128.936 1003.81 L136.575 1003.81 L136.575 1007.75 L116.668 1007.75 L116.668 1003.81 Z\" fill=\"#000000\" fill-rule=\"evenodd\" fill-opacity=\"1\" /><path clip-path=\"url(#clip910)\" d=\"M146.019 1001.87 L150.903 1001.87 L150.903 1007.75 L146.019 1007.75 L146.019 1001.87 Z\" fill=\"#000000\" fill-rule=\"evenodd\" fill-opacity=\"1\" /><path clip-path=\"url(#clip910)\" d=\"M171.089 976.265 Q167.477 976.265 165.649 979.83 Q163.843 983.372 163.843 990.501 Q163.843 997.608 165.649 1001.17 Q167.477 1004.71 171.089 1004.71 Q174.723 1004.71 176.528 1001.17 Q178.357 997.608 178.357 990.501 Q178.357 983.372 176.528 979.83 Q174.723 976.265 171.089 976.265 M171.089 972.562 Q176.899 972.562 179.954 977.168 Q183.033 981.751 183.033 990.501 Q183.033 999.228 179.954 1003.83 Q176.899 1008.42 171.089 1008.42 Q165.278 1008.42 162.2 1003.83 Q159.144 999.228 159.144 990.501 Q159.144 981.751 162.2 977.168 Q165.278 972.562 171.089 972.562 Z\" fill=\"#000000\" fill-rule=\"evenodd\" fill-opacity=\"1\" /><path clip-path=\"url(#clip910)\" d=\"M117.663 710.091 L125.302 710.091 L125.302 683.726 L116.992 685.392 L116.992 681.133 L125.255 679.466 L129.931 679.466 L129.931 710.091 L137.57 710.091 L137.57 714.026 L117.663 714.026 L117.663 710.091 Z\" fill=\"#000000\" fill-rule=\"evenodd\" fill-opacity=\"1\" /><path clip-path=\"url(#clip910)\" d=\"M147.015 708.147 L151.899 708.147 L151.899 714.026 L147.015 714.026 L147.015 708.147 Z\" fill=\"#000000\" fill-rule=\"evenodd\" fill-opacity=\"1\" /><path clip-path=\"url(#clip910)\" d=\"M162.13 679.466 L180.487 679.466 L180.487 683.402 L166.413 683.402 L166.413 691.874 Q167.431 691.527 168.45 691.364 Q169.468 691.179 170.487 691.179 Q176.274 691.179 179.653 694.351 Q183.033 697.522 183.033 702.938 Q183.033 708.517 179.561 711.619 Q176.089 714.698 169.769 714.698 Q167.593 714.698 165.325 714.327 Q163.079 713.957 160.672 713.216 L160.672 708.517 Q162.755 709.651 164.977 710.207 Q167.2 710.763 169.677 710.763 Q173.681 710.763 176.019 708.656 Q178.357 706.55 178.357 702.938 Q178.357 699.327 176.019 697.221 Q173.681 695.114 169.677 695.114 Q167.802 695.114 165.927 695.531 Q164.075 695.948 162.13 696.827 L162.13 679.466 Z\" fill=\"#000000\" fill-rule=\"evenodd\" fill-opacity=\"1\" /><path clip-path=\"url(#clip910)\" d=\"M119.885 416.371 L136.204 416.371 L136.204 420.306 L114.26 420.306 L114.26 416.371 Q116.922 413.616 121.505 408.987 Q126.112 404.334 127.292 402.992 Q129.538 400.468 130.417 398.732 Q131.32 396.973 131.32 395.283 Q131.32 392.529 129.376 390.793 Q127.455 389.056 124.353 389.056 Q122.154 389.056 119.7 389.82 Q117.269 390.584 114.492 392.135 L114.492 387.413 Q117.316 386.279 119.769 385.7 Q122.223 385.121 124.26 385.121 Q129.63 385.121 132.825 387.806 Q136.019 390.492 136.019 394.982 Q136.019 397.112 135.209 399.033 Q134.422 400.931 132.316 403.524 Q131.737 404.195 128.635 407.413 Q125.533 410.607 119.885 416.371 Z\" fill=\"#000000\" fill-rule=\"evenodd\" fill-opacity=\"1\" /><path clip-path=\"url(#clip910)\" d=\"M146.019 414.427 L150.903 414.427 L150.903 420.306 L146.019 420.306 L146.019 414.427 Z\" fill=\"#000000\" fill-rule=\"evenodd\" fill-opacity=\"1\" /><path clip-path=\"url(#clip910)\" d=\"M171.089 388.825 Q167.477 388.825 165.649 392.39 Q163.843 395.931 163.843 403.061 Q163.843 410.167 165.649 413.732 Q167.477 417.274 171.089 417.274 Q174.723 417.274 176.528 413.732 Q178.357 410.167 178.357 403.061 Q178.357 395.931 176.528 392.39 Q174.723 388.825 171.089 388.825 M171.089 385.121 Q176.899 385.121 179.954 389.728 Q183.033 394.311 183.033 403.061 Q183.033 411.788 179.954 416.394 Q176.899 420.978 171.089 420.978 Q165.278 420.978 162.2 416.394 Q159.144 411.788 159.144 403.061 Q159.144 394.311 162.2 389.728 Q165.278 385.121 171.089 385.121 Z\" fill=\"#000000\" fill-rule=\"evenodd\" fill-opacity=\"1\" /><path clip-path=\"url(#clip910)\" d=\"M120.88 122.651 L137.2 122.651 L137.2 126.586 L115.256 126.586 L115.256 122.651 Q117.918 119.896 122.501 115.267 Q127.107 110.614 128.288 109.271 Q130.533 106.748 131.413 105.012 Q132.316 103.253 132.316 101.563 Q132.316 98.8085 130.371 97.0724 Q128.45 95.3363 125.348 95.3363 Q123.149 95.3363 120.695 96.1002 Q118.265 96.8641 115.487 98.415 L115.487 93.6928 Q118.311 92.5585 120.765 91.9798 Q123.218 91.4011 125.255 91.4011 Q130.626 91.4011 133.82 94.0863 Q137.015 96.7715 137.015 101.262 Q137.015 103.392 136.204 105.313 Q135.417 107.211 133.311 109.804 Q132.732 110.475 129.63 113.693 Q126.529 116.887 120.88 122.651 Z\" fill=\"#000000\" fill-rule=\"evenodd\" fill-opacity=\"1\" /><path clip-path=\"url(#clip910)\" d=\"M147.015 120.707 L151.899 120.707 L151.899 126.586 L147.015 126.586 L147.015 120.707 Z\" fill=\"#000000\" fill-rule=\"evenodd\" fill-opacity=\"1\" /><path clip-path=\"url(#clip910)\" d=\"M162.13 92.0261 L180.487 92.0261 L180.487 95.9613 L166.413 95.9613 L166.413 104.433 Q167.431 104.086 168.45 103.924 Q169.468 103.739 170.487 103.739 Q176.274 103.739 179.653 106.91 Q183.033 110.082 183.033 115.498 Q183.033 121.077 179.561 124.179 Q176.089 127.257 169.769 127.257 Q167.593 127.257 165.325 126.887 Q163.079 126.517 160.672 125.776 L160.672 121.077 Q162.755 122.211 164.977 122.767 Q167.2 123.322 169.677 123.322 Q173.681 123.322 176.019 121.216 Q178.357 119.109 178.357 115.498 Q178.357 111.887 176.019 109.781 Q173.681 107.674 169.677 107.674 Q167.802 107.674 165.927 108.091 Q164.075 108.508 162.13 109.387 L162.13 92.0261 Z\" fill=\"#000000\" fill-rule=\"evenodd\" fill-opacity=\"1\" /><path clip-path=\"url(#clip910)\" d=\"M22.818 1126.31 L46.4666 1135.03 L46.4666 1117.55 L22.818 1126.31 M16.4842 1129.93 L16.4842 1122.65 L64.0042 1104.54 L64.0042 1111.22 L51.8138 1115.55 L51.8138 1136.97 L64.0042 1141.3 L64.0042 1148.08 L16.4842 1129.93 Z\" fill=\"#000000\" fill-rule=\"evenodd\" fill-opacity=\"1\" /><path clip-path=\"url(#clip910)\" d=\"M28.3562 1105.87 L28.3562 1099.67 L58.275 1088.53 L28.3562 1077.39 L28.3562 1071.18 L64.0042 1084.55 L64.0042 1092.5 L28.3562 1105.87 Z\" fill=\"#000000\" fill-rule=\"evenodd\" fill-opacity=\"1\" /><path clip-path=\"url(#clip910)\" d=\"M44.7161 1032.6 L47.5806 1032.6 L47.5806 1059.53 Q53.6281 1059.15 56.8109 1055.9 Q59.9619 1052.62 59.9619 1046.8 Q59.9619 1043.42 59.1344 1040.27 Q58.3069 1037.09 56.6518 1033.97 L62.1899 1033.97 Q63.5267 1037.12 64.227 1040.43 Q64.9272 1043.74 64.9272 1047.15 Q64.9272 1055.68 59.9619 1060.68 Q54.9967 1065.64 46.5303 1065.64 Q37.7774 1065.64 32.6531 1060.93 Q27.4968 1056.19 27.4968 1048.17 Q27.4968 1040.97 32.1438 1036.8 Q36.7589 1032.6 44.7161 1032.6 M42.9973 1038.46 Q38.1912 1038.52 35.3266 1041.17 Q32.4621 1043.77 32.4621 1048.1 Q32.4621 1053.01 35.2312 1055.97 Q38.0002 1058.89 43.0292 1059.34 L42.9973 1038.46 Z\" fill=\"#000000\" fill-rule=\"evenodd\" fill-opacity=\"1\" /><path clip-path=\"url(#clip910)\" d=\"M33.8307 1002.33 Q33.2578 1003.32 33.0032 1004.5 Q32.7167 1005.64 32.7167 1007.04 Q32.7167 1012.01 35.9632 1014.68 Q39.1779 1017.33 45.2253 1017.33 L64.0042 1017.33 L64.0042 1023.21 L28.3562 1023.21 L28.3562 1017.33 L33.8944 1017.33 Q30.6479 1015.48 29.0883 1012.52 Q27.4968 1009.56 27.4968 1005.33 Q27.4968 1004.72 27.5923 1003.99 Q27.656 1003.26 27.8151 1002.37 L33.8307 1002.33 Z\" fill=\"#000000\" fill-rule=\"evenodd\" fill-opacity=\"1\" /><path clip-path=\"url(#clip910)\" d=\"M46.0847 979.991 Q46.0847 987.088 47.7079 989.826 Q49.3312 992.563 53.2461 992.563 Q56.3653 992.563 58.2114 990.526 Q60.0256 988.457 60.0256 984.924 Q60.0256 980.054 56.5881 977.126 Q53.1188 974.166 47.3897 974.166 L46.0847 974.166 L46.0847 979.991 M43.6657 968.31 L64.0042 968.31 L64.0042 974.166 L58.5933 974.166 Q61.8398 976.171 63.3994 979.163 Q64.9272 982.155 64.9272 986.484 Q64.9272 991.958 61.8716 995.205 Q58.7843 998.419 53.6281 998.419 Q47.6125 998.419 44.5569 994.409 Q41.5014 990.367 41.5014 982.378 L41.5014 974.166 L40.9285 974.166 Q36.8862 974.166 34.6901 976.84 Q32.4621 979.481 32.4621 984.287 Q32.4621 987.343 33.1941 990.239 Q33.9262 993.136 35.3903 995.809 L29.9795 995.809 Q28.7381 992.595 28.1334 989.571 Q27.4968 986.547 27.4968 983.683 Q27.4968 975.948 31.5072 972.129 Q35.5176 968.31 43.6657 968.31 Z\" fill=\"#000000\" fill-rule=\"evenodd\" fill-opacity=\"1\" /><path clip-path=\"url(#clip910)\" d=\"M45.7664 932.789 Q39.4007 932.789 35.8996 935.431 Q32.3984 938.041 32.3984 942.783 Q32.3984 947.494 35.8996 950.135 Q39.4007 952.745 45.7664 952.745 Q52.1003 952.745 55.6014 950.135 Q59.1026 947.494 59.1026 942.783 Q59.1026 938.041 55.6014 935.431 Q52.1003 932.789 45.7664 932.789 M59.58 926.932 Q68.683 926.932 73.1071 930.975 Q77.5631 935.017 77.5631 943.356 Q77.5631 946.443 77.0857 949.181 Q76.6401 951.918 75.6852 954.496 L69.9879 954.496 Q71.3884 951.918 72.0568 949.403 Q72.7252 946.889 72.7252 944.279 Q72.7252 938.518 69.7015 935.653 Q66.7096 932.789 60.6303 932.789 L57.7339 932.789 Q60.885 934.603 62.4446 937.436 Q64.0042 940.269 64.0042 944.215 Q64.0042 950.772 59.0071 954.782 Q54.01 958.793 45.7664 958.793 Q37.491 958.793 32.4939 954.782 Q27.4968 950.772 27.4968 944.215 Q27.4968 940.269 29.0564 937.436 Q30.616 934.603 33.7671 932.789 L28.3562 932.789 L28.3562 926.932 L59.58 926.932 Z\" fill=\"#000000\" fill-rule=\"evenodd\" fill-opacity=\"1\" /><path clip-path=\"url(#clip910)\" d=\"M44.7161 884.378 L47.5806 884.378 L47.5806 911.305 Q53.6281 910.923 56.8109 907.676 Q59.9619 904.398 59.9619 898.573 Q59.9619 895.199 59.1344 892.048 Q58.3069 888.866 56.6518 885.746 L62.1899 885.746 Q63.5267 888.897 64.227 892.208 Q64.9272 895.518 64.9272 898.923 Q64.9272 907.453 59.9619 912.45 Q54.9967 917.416 46.5303 917.416 Q37.7774 917.416 32.6531 912.705 Q27.4968 907.963 27.4968 899.942 Q27.4968 892.749 32.1438 888.579 Q36.7589 884.378 44.7161 884.378 M42.9973 890.234 Q38.1912 890.298 35.3266 892.94 Q32.4621 895.55 32.4621 899.878 Q32.4621 904.78 35.2312 907.74 Q38.0002 910.668 43.0292 911.114 L42.9973 890.234 Z\" fill=\"#000000\" fill-rule=\"evenodd\" fill-opacity=\"1\" /><path clip-path=\"url(#clip910)\" d=\"M20.1444 818.206 L26.9239 818.206 Q23.9002 821.453 22.4043 825.145 Q20.9083 828.805 20.9083 832.943 Q20.9083 841.091 25.9054 845.42 Q30.8707 849.748 40.2919 849.748 Q49.6813 849.748 54.6784 845.42 Q59.6436 841.091 59.6436 832.943 Q59.6436 828.805 58.1477 825.145 Q56.6518 821.453 53.6281 818.206 L60.3439 818.206 Q62.6355 821.58 63.7814 825.368 Q64.9272 829.123 64.9272 833.325 Q64.9272 844.115 58.3387 850.321 Q51.7183 856.528 40.2919 856.528 Q28.8336 856.528 22.2451 850.321 Q15.6248 844.115 15.6248 833.325 Q15.6248 829.06 16.7706 825.304 Q17.8846 821.516 20.1444 818.206 Z\" fill=\"#000000\" fill-rule=\"evenodd\" fill-opacity=\"1\" /><path clip-path=\"url(#clip910)\" d=\"M32.4621 794.717 Q32.4621 799.427 36.1542 802.165 Q39.8145 804.902 46.212 804.902 Q52.6095 804.902 56.3017 802.196 Q59.9619 799.459 59.9619 794.717 Q59.9619 790.038 56.2698 787.301 Q52.5777 784.563 46.212 784.563 Q39.8781 784.563 36.186 787.301 Q32.4621 790.038 32.4621 794.717 M27.4968 794.717 Q27.4968 787.078 32.4621 782.717 Q37.4273 778.357 46.212 778.357 Q54.9649 778.357 59.9619 782.717 Q64.9272 787.078 64.9272 794.717 Q64.9272 802.387 59.9619 806.748 Q54.9649 811.077 46.212 811.077 Q37.4273 811.077 32.4621 806.748 Q27.4968 802.387 27.4968 794.717 Z\" fill=\"#000000\" fill-rule=\"evenodd\" fill-opacity=\"1\" /><path clip-path=\"url(#clip910)\" d=\"M35.1993 740.895 Q31.2526 738.698 29.3747 735.643 Q27.4968 732.587 27.4968 728.45 Q27.4968 722.88 31.4117 719.856 Q35.2948 716.832 42.4881 716.832 L64.0042 716.832 L64.0042 722.721 L42.679 722.721 Q37.5546 722.721 35.072 724.535 Q32.5894 726.349 32.5894 730.073 Q32.5894 734.624 35.6131 737.266 Q38.6368 739.908 43.8567 739.908 L64.0042 739.908 L64.0042 745.796 L42.679 745.796 Q37.5228 745.796 35.072 747.61 Q32.5894 749.425 32.5894 753.212 Q32.5894 757.7 35.6449 760.342 Q38.6686 762.984 43.8567 762.984 L64.0042 762.984 L64.0042 768.872 L28.3562 768.872 L28.3562 762.984 L33.8944 762.984 Q30.616 760.978 29.0564 758.178 Q27.4968 755.377 27.4968 751.525 Q27.4968 747.642 29.4702 744.937 Q31.4436 742.2 35.1993 740.895 Z\" fill=\"#000000\" fill-rule=\"evenodd\" fill-opacity=\"1\" /><path clip-path=\"url(#clip910)\" d=\"M58.657 699.486 L77.5631 699.486 L77.5631 705.374 L28.3562 705.374 L28.3562 699.486 L33.7671 699.486 Q30.5842 697.64 29.0564 694.839 Q27.4968 692.006 27.4968 688.091 Q27.4968 681.598 32.6531 677.556 Q37.8093 673.482 46.212 673.482 Q54.6147 673.482 59.771 677.556 Q64.9272 681.598 64.9272 688.091 Q64.9272 692.006 63.3994 694.839 Q61.8398 697.64 58.657 699.486 M46.212 679.561 Q39.7508 679.561 36.0905 682.235 Q32.3984 684.876 32.3984 689.523 Q32.3984 694.17 36.0905 696.844 Q39.7508 699.486 46.212 699.486 Q52.6732 699.486 56.3653 696.844 Q60.0256 694.17 60.0256 689.523 Q60.0256 684.876 56.3653 682.235 Q52.6732 679.561 46.212 679.561 Z\" fill=\"#000000\" fill-rule=\"evenodd\" fill-opacity=\"1\" /><path clip-path=\"url(#clip910)\" d=\"M14.479 663.774 L14.479 657.918 L64.0042 657.918 L64.0042 663.774 L14.479 663.774 Z\" fill=\"#000000\" fill-rule=\"evenodd\" fill-opacity=\"1\" /><path clip-path=\"url(#clip910)\" d=\"M44.7161 615.172 L47.5806 615.172 L47.5806 642.099 Q53.6281 641.717 56.8109 638.47 Q59.9619 635.192 59.9619 629.367 Q59.9619 625.994 59.1344 622.843 Q58.3069 619.66 56.6518 616.541 L62.1899 616.541 Q63.5267 619.692 64.227 623.002 Q64.9272 626.312 64.9272 629.718 Q64.9272 638.248 59.9619 643.245 Q54.9967 648.21 46.5303 648.21 Q37.7774 648.21 32.6531 643.499 Q27.4968 638.757 27.4968 630.736 Q27.4968 623.543 32.1438 619.373 Q36.7589 615.172 44.7161 615.172 M42.9973 621.028 Q38.1912 621.092 35.3266 623.734 Q32.4621 626.344 32.4621 630.672 Q32.4621 635.574 35.2312 638.534 Q38.0002 641.462 43.0292 641.908 L42.9973 621.028 Z\" fill=\"#000000\" fill-rule=\"evenodd\" fill-opacity=\"1\" /><path clip-path=\"url(#clip910)\" d=\"M18.2347 599.767 L28.3562 599.767 L28.3562 587.704 L32.9077 587.704 L32.9077 599.767 L52.2594 599.767 Q56.6199 599.767 57.8613 598.589 Q59.1026 597.38 59.1026 593.72 L59.1026 587.704 L64.0042 587.704 L64.0042 593.72 Q64.0042 600.499 61.4897 603.077 Q58.9434 605.655 52.2594 605.655 L32.9077 605.655 L32.9077 609.952 L28.3562 609.952 L28.3562 605.655 L18.2347 605.655 L18.2347 599.767 Z\" fill=\"#000000\" fill-rule=\"evenodd\" fill-opacity=\"1\" /><path clip-path=\"url(#clip910)\" d=\"M28.3562 580.001 L28.3562 574.145 L64.0042 574.145 L64.0042 580.001 L28.3562 580.001 M14.479 580.001 L14.479 574.145 L21.895 574.145 L21.895 580.001 L14.479 580.001 Z\" fill=\"#000000\" fill-rule=\"evenodd\" fill-opacity=\"1\" /><path clip-path=\"url(#clip910)\" d=\"M32.4621 548.077 Q32.4621 552.788 36.1542 555.525 Q39.8145 558.263 46.212 558.263 Q52.6095 558.263 56.3017 555.557 Q59.9619 552.82 59.9619 548.077 Q59.9619 543.399 56.2698 540.661 Q52.5777 537.924 46.212 537.924 Q39.8781 537.924 36.186 540.661 Q32.4621 543.399 32.4621 548.077 M27.4968 548.077 Q27.4968 540.439 32.4621 536.078 Q37.4273 531.718 46.212 531.718 Q54.9649 531.718 59.9619 536.078 Q64.9272 540.439 64.9272 548.077 Q64.9272 555.748 59.9619 560.109 Q54.9649 564.437 46.212 564.437 Q37.4273 564.437 32.4621 560.109 Q27.4968 555.748 27.4968 548.077 Z\" fill=\"#000000\" fill-rule=\"evenodd\" fill-opacity=\"1\" /><path clip-path=\"url(#clip910)\" d=\"M42.4881 492.377 L64.0042 492.377 L64.0042 498.234 L42.679 498.234 Q37.6183 498.234 35.1038 500.207 Q32.5894 502.181 32.5894 506.127 Q32.5894 510.87 35.6131 513.607 Q38.6368 516.344 43.8567 516.344 L64.0042 516.344 L64.0042 522.233 L28.3562 522.233 L28.3562 516.344 L33.8944 516.344 Q30.6797 514.244 29.0883 511.411 Q27.4968 508.546 27.4968 504.822 Q27.4968 498.68 31.3163 495.529 Q35.1038 492.377 42.4881 492.377 Z\" fill=\"#000000\" fill-rule=\"evenodd\" fill-opacity=\"1\" /><path clip-path=\"url(#clip910)\" d=\"M16.4842 466.31 L16.4842 426.11 L21.895 426.11 L21.895 442.98 L64.0042 442.98 L64.0042 449.441 L21.895 449.441 L21.895 466.31 L16.4842 466.31 Z\" fill=\"#000000\" fill-rule=\"evenodd\" fill-opacity=\"1\" /><path clip-path=\"url(#clip910)\" d=\"M28.3562 422.164 L28.3562 416.307 L64.0042 416.307 L64.0042 422.164 L28.3562 422.164 M14.479 422.164 L14.479 416.307 L21.895 416.307 L21.895 422.164 L14.479 422.164 Z\" fill=\"#000000\" fill-rule=\"evenodd\" fill-opacity=\"1\" /><path clip-path=\"url(#clip910)\" d=\"M35.1993 376.299 Q31.2526 374.103 29.3747 371.047 Q27.4968 367.992 27.4968 363.854 Q27.4968 358.284 31.4117 355.26 Q35.2948 352.236 42.4881 352.236 L64.0042 352.236 L64.0042 358.125 L42.679 358.125 Q37.5546 358.125 35.072 359.939 Q32.5894 361.753 32.5894 365.477 Q32.5894 370.029 35.6131 372.67 Q38.6368 375.312 43.8567 375.312 L64.0042 375.312 L64.0042 381.2 L42.679 381.2 Q37.5228 381.2 35.072 383.015 Q32.5894 384.829 32.5894 388.616 Q32.5894 393.104 35.6449 395.746 Q38.6686 398.388 43.8567 398.388 L64.0042 398.388 L64.0042 404.276 L28.3562 404.276 L28.3562 398.388 L33.8944 398.388 Q30.616 396.383 29.0564 393.582 Q27.4968 390.781 27.4968 386.93 Q27.4968 383.046 29.4702 380.341 Q31.4436 377.604 35.1993 376.299 Z\" fill=\"#000000\" fill-rule=\"evenodd\" fill-opacity=\"1\" /><path clip-path=\"url(#clip910)\" d=\"M44.7161 310.064 L47.5806 310.064 L47.5806 336.991 Q53.6281 336.609 56.8109 333.362 Q59.9619 330.084 59.9619 324.259 Q59.9619 320.885 59.1344 317.734 Q58.3069 314.551 56.6518 311.432 L62.1899 311.432 Q63.5267 314.583 64.227 317.893 Q64.9272 321.204 64.9272 324.609 Q64.9272 333.139 59.9619 338.136 Q54.9967 343.102 46.5303 343.102 Q37.7774 343.102 32.6531 338.391 Q27.4968 333.649 27.4968 325.628 Q27.4968 318.435 32.1438 314.265 Q36.7589 310.064 44.7161 310.064 M42.9973 315.92 Q38.1912 315.984 35.3266 318.626 Q32.4621 321.235 32.4621 325.564 Q32.4621 330.466 35.2312 333.426 Q38.0002 336.354 43.0292 336.8 L42.9973 315.92 Z\" fill=\"#000000\" fill-rule=\"evenodd\" fill-opacity=\"1\" /><polyline clip-path=\"url(#clip912)\" style=\"stroke:#009af9; stroke-linecap:round; stroke-linejoin:round; stroke-width:4; stroke-opacity:1; fill:none\" points=\"\n",
       "  279.421,1240.13 289.537,1181.38 299.652,1372.3 309.767,1181.38 319.883,1357.62 329.998,1156.91 340.113,1166.7 \n",
       "  \"/>\n",
       "<polyline clip-path=\"url(#clip912)\" style=\"stroke:#009af9; stroke-linecap:round; stroke-linejoin:round; stroke-width:4; stroke-opacity:1; fill:none\" points=\"\n",
       "  380.574,1166.7 390.69,1034.52 400.805,1093.27 410.92,1049.21 421.036,1088.37 431.151,1264.61 441.266,1313.56 451.382,1127.54 461.497,1215.65 471.612,1117.75 \n",
       "  481.727,1122.64 491.843,1039.42 501.958,1142.22 512.073,968.438 522.189,1044.32 532.304,975.781 542.419,1067.57 552.535,1002.22 562.65,1031.59 572.765,1091.64 \n",
       "  582.881,909.693 592.996,970.885 603.111,898.154 613.226,946.409 623.342,906.869 633.457,745 643.572,527.19 653.688,600.128 663.803,442.888 673.918,448.666 \n",
       "  684.034,428.993 694.149,509.693 704.264,453.378 714.38,465.373 724.495,471.169 734.61,464.783 744.725,432.187 754.841,438.145 764.956,446.273 775.071,436.729 \n",
       "  785.187,427.791 795.302,346.905 805.417,367.98 815.533,371.936 825.648,352.902 835.763,354.547 845.879,400.591 855.994,382.93 866.109,393.989 876.224,403.505 \n",
       "  886.34,363.017 896.455,354.963 906.57,338.499 916.686,290.892 926.801,252.987 936.916,247.818 947.032,253.154 957.147,221.344 967.262,195.324 977.378,115.3 \n",
       "  987.493,87.8765 997.608,120.877 1007.72,120.321 1017.84,113.565 1027.95,123.321 1038.07,170.72 1048.18,191.785 1058.3,179.769 1068.42,149.507 1078.53,191.578 \n",
       "  1088.65,199.211 1098.76,157.571 1108.88,140.476 1118.99,221.549 1129.11,154.98 1139.22,143.002 1149.34,221.602 1159.45,171.647 1169.57,172.995 1179.68,191.813 \n",
       "  1189.8,199.808 1199.91,182.81 1210.03,188.131 1220.14,220.098 1230.26,211.07 1240.38,148.172 1250.49,190.302 1260.61,183.03 1270.72,226.349 1280.84,202.122 \n",
       "  1290.95,190.609 1301.07,179.769 1311.18,269.155 1321.3,196.241 1331.41,196.368 1341.53,253.606 1351.64,207.606 1361.76,244.358 1371.87,193.676 1381.99,226.5 \n",
       "  1392.11,230.074 1402.22,216.661 1412.34,248.089 1422.45,192.082 1432.57,250.557 1442.68,210.921 1452.8,164.065 1462.91,194.338 1473.03,210.031 1483.14,184.516 \n",
       "  1493.26,185.703 1503.37,243.178 1513.49,189.452 1523.6,177.247 1533.72,203.916 1543.83,205.857 1553.95,223.99 1564.07,213.888 1574.18,163.917 1584.3,219.119 \n",
       "  1594.41,130.748 1604.53,157.518 1614.64,189.157 1624.76,177.939 1634.87,140.892 1644.99,145.874 1655.1,147.343 1665.22,206.381 1675.33,182.883 1685.45,172.352 \n",
       "  1695.56,185.967 1705.68,135.447 1715.79,205.54 1725.91,200.506 1736.03,158.945 1746.14,129.279 1756.26,167.605 1766.37,240.816 1776.49,187.729 1786.6,172.821 \n",
       "  1796.72,152.777 1806.83,171.907 1816.95,169.666 1827.06,228.871 1837.18,147.196 1847.29,143.084 1857.41,170.117 1867.52,162.323 1877.64,200.982 1887.76,151.161 \n",
       "  1897.87,170.106 1907.99,112.39 1918.1,212.989 1928.22,141.778 1938.33,145.727 1948.45,164.526 1958.56,185.527 1968.68,124.433 1978.79,208.437 1988.91,160.67 \n",
       "  1999.02,158.357 2009.14,173.19 2019.25,157.329 2029.37,175.43 2039.48,151.732 2049.6,172.5 2059.72,183.764 2069.83,108.131 2079.95,182.296 2090.06,118.705 \n",
       "  2100.18,166.288 2110.29,155.861 2120.41,156.183 2130.52,122.576 2140.64,188.317 2150.75,172.478 2160.87,184.498 2170.98,94.3264 2181.1,118.705 2191.21,141.63 \n",
       "  2201.33,179.652 2211.45,125.099 2221.56,138.678 2231.68,132.774 2241.79,135.741 2251.91,85.838 2262.02,175.687 2272.14,142.497 2282.25,185.673 2292.37,201.534 \n",
       "  \n",
       "  \"/>\n",
       "</svg>\n"
      ]
     },
     "execution_count": 47,
     "metadata": {},
     "output_type": "execute_result"
    }
   ],
   "source": [
    "plot(iterations, avg_compl_time, xlabel=\"Iterations\", ylabel=\"Average Completion Time\", legend = false, xformatter = :scientific)"
   ]
  },
  {
   "cell_type": "code",
   "execution_count": 48,
   "id": "4739f3dc",
   "metadata": {},
   "outputs": [
    {
     "data": {
      "text/plain": [
       "\"/home/larissa/Documents/Projects/ADLR/ADLR_project/src/3d/plots/slow/avg_comp_time.svg\""
      ]
     },
     "execution_count": 48,
     "metadata": {},
     "output_type": "execute_result"
    }
   ],
   "source": [
    "savefig(fig_path * \"avg_comp_time.svg\")"
   ]
  },
  {
   "cell_type": "markdown",
   "id": "ed305f8e",
   "metadata": {},
   "source": [
    "# Create Videos"
   ]
  },
  {
   "cell_type": "code",
   "execution_count": 49,
   "id": "1f30d98a",
   "metadata": {},
   "outputs": [
    {
     "name": "stderr",
     "output_type": "stream",
     "text": [
      "\u001b[36m\u001b[1m┌ \u001b[22m\u001b[39m\u001b[36m\u001b[1mInfo: \u001b[22m\u001b[39mMeshCat server started. You can open the visualizer by visiting the following URL in your browser:\n",
      "\u001b[36m\u001b[1m└ \u001b[22m\u001b[39mhttp://127.0.0.1:8701\n"
     ]
    }
   ],
   "source": [
    "create_visualization();"
   ]
  },
  {
   "cell_type": "code",
   "execution_count": 50,
   "id": "260d79dd",
   "metadata": {},
   "outputs": [
    {
     "name": "stdout",
     "output_type": "stream",
     "text": [
      "slow mode\n"
     ]
    },
    {
     "data": {
      "text/plain": [
       "EmptyHook()"
      ]
     },
     "execution_count": 50,
     "metadata": {},
     "output_type": "execute_result"
    }
   ],
   "source": [
    "# TODO: load_model as desired\n",
    "vid_env = VtolEnv(;name = \"testVTOL\", visualization = true, realtime = true);\n",
    "\n",
    "if SLOW_MODE\n",
    "    path = \"./RL_models_slow/\"\n",
    "    load_model = 500_000\n",
    "    println(\"slow mode\")\n",
    "else\n",
    "    path = \"./RL_models_fast/\"\n",
    "    load_model = 1_250_000\n",
    "    println(\"fast mode\")\n",
    "end\n",
    "agent.policy.approximator = loadModel(path,load_model); \n",
    "RLBase.reset!(vid_env)\n",
    "run(agent.policy, vid_env, StopAfterEpisode(2))"
   ]
  },
  {
   "cell_type": "code",
   "execution_count": 51,
   "id": "1bebf7cc",
   "metadata": {},
   "outputs": [],
   "source": [
    "close_visualization();"
   ]
  },
  {
   "cell_type": "markdown",
   "id": "57443b44",
   "metadata": {},
   "source": [
    "done"
   ]
  }
 ],
 "metadata": {
  "@webio": {
   "lastCommId": null,
   "lastKernelId": null
  },
  "kernelspec": {
   "display_name": "Julia 1.8.0",
   "language": "julia",
   "name": "julia-1.8"
  },
  "language_info": {
   "file_extension": ".jl",
   "mimetype": "application/julia",
   "name": "julia",
   "version": "1.8.0"
  }
 },
 "nbformat": 4,
 "nbformat_minor": 5
}
