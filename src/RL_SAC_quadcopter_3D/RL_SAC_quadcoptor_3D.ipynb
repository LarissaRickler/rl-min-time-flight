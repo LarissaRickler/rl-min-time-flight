{
 "cells": [
  {
   "cell_type": "code",
   "execution_count": 1,
   "id": "1f85185f",
   "metadata": {},
   "outputs": [],
   "source": [
    "using Pkg\n",
    "if isfile(\"Project.toml\") && isfile(\"Manifest.toml\")\n",
    "    Pkg.activate(\".\")\n",
    "end"
   ]
  },
  {
   "cell_type": "markdown",
   "id": "0649b76a",
   "metadata": {},
   "source": [
    "# Init Bionic VTOL"
   ]
  },
  {
   "cell_type": "code",
   "execution_count": 2,
   "id": "96751412",
   "metadata": {},
   "outputs": [],
   "source": [
    "include(\"../Flyonic.jl\");\n",
    "using .Flyonic;\n",
    "\n",
    "using Rotations; # used for initial position\n",
    "\n",
    "using ReinforcementLearning;\n",
    "using StableRNGs;\n",
    "using Flux;\n",
    "using Flux.Losses;\n",
    "using Random;\n",
    "using IntervalSets;\n",
    "using LinearAlgebra;\n",
    "using Distributions;\n",
    "\n",
    "using Plots;\n",
    "using Statistics;\n",
    "\n",
    "using TensorBoardLogger\n",
    "using Logging\n",
    "\n",
    "using BSON: @save, @load # save mode"
   ]
  },
  {
   "cell_type": "code",
   "execution_count": 3,
   "id": "917bb919",
   "metadata": {},
   "outputs": [],
   "source": [
    "# TODO: set as desired\n",
    "R_TOL = 0.5;\n",
    "N_WAYPOINTS = 4; # including startpoint, >= 2\n",
    "SLOW_MODE = true;\n",
    "TRAINING = true;\n",
    "EVALUATION = true;\n",
    "VIDEO = false;"
   ]
  },
  {
   "cell_type": "code",
   "execution_count": 4,
   "id": "f7e4ee64",
   "metadata": {},
   "outputs": [
    {
     "name": "stderr",
     "output_type": "stream",
     "text": [
      "\u001b[36m\u001b[1m┌ \u001b[22m\u001b[39m\u001b[36m\u001b[1mInfo: \u001b[22m\u001b[39mMeshCat server started. You can open the visualizer by visiting the following URL in your browser:\n",
      "\u001b[36m\u001b[1m└ \u001b[22m\u001b[39mhttp://10.183.60.226:8700\n"
     ]
    }
   ],
   "source": [
    "create_remote_visualization();"
   ]
  },
  {
   "cell_type": "code",
   "execution_count": 5,
   "id": "e19cce80",
   "metadata": {},
   "outputs": [
    {
     "data": {
      "text/plain": [
       "TBLogger:\n",
       "\t- Log level     : Info\n",
       "\t- Current step  : 0\n",
       "\t- Output        : /home/larissa/Documents/Projects/ADLR/ADLR_project/src/RL_SAC_quadcopter_3D/tensorboard_SAC_4\n",
       "\t- open files    : 1\n"
      ]
     },
     "execution_count": 5,
     "metadata": {},
     "output_type": "execute_result"
    }
   ],
   "source": [
    "# TensorBoard\n",
    "logger = TBLogger(\"tensorboard_SAC\", tb_increment)"
   ]
  },
  {
   "cell_type": "code",
   "execution_count": 6,
   "id": "7d9557df",
   "metadata": {},
   "outputs": [
    {
     "data": {
      "text/plain": [
       "1"
      ]
     },
     "execution_count": 6,
     "metadata": {},
     "output_type": "execute_result"
    }
   ],
   "source": [
    "# indicates how many threads Julia was started with. This is important for the multi-threaded environment\n",
    "Threads.nthreads()"
   ]
  },
  {
   "cell_type": "code",
   "execution_count": 7,
   "id": "10d945ff",
   "metadata": {},
   "outputs": [],
   "source": [
    "Δt = 0.025;"
   ]
  },
  {
   "cell_type": "markdown",
   "id": "5411db62",
   "metadata": {},
   "source": [
    "# Create Reinforcement Learning Environment"
   ]
  },
  {
   "cell_type": "code",
   "execution_count": 8,
   "id": "96af6ee0",
   "metadata": {},
   "outputs": [],
   "source": [
    "mutable struct VtolEnv{A,T,ACT,R<:AbstractRNG} <: AbstractEnv # Parametric Constructor for a subtype of AbstractEnv\n",
    "    action_space::A # All possible actions the agent can take\n",
    "    observation_space::Space{Vector{ClosedInterval{T}}} # All possible states that the agent can observe.\n",
    "    state::Vector{T} # Current state\n",
    "    action::ACT # next action the agent wants to apply in the environment.\n",
    "    done::Bool # shows whether a terminal condition has been reached.\n",
    "    t::T # time\n",
    "    rng::R # random number generator\n",
    "\n",
    "    name::String # for different naming of multible environoments\n",
    "    visualization::Bool # activate visualisation (Faster computation without visualisation)\n",
    "    realtime::Bool # visualization in \"real-world\" time (only for watching or filming).\n",
    "    \n",
    "    # Overall state of the environment. This does not correspond to the observation space of the agent but contains all states that describe the environment.\n",
    "    x_W::Vector{T} # Position in World frame\n",
    "    v_B::Vector{T} # Velocity in Body frame\n",
    "    R_W::Matrix{T} # Rotation (matrix) in World frame\n",
    "    ω_B::Vector{T} # Rotation velocity in Body frame\n",
    "    wind_W::Vector{T} # Externel linear velocity acting on the drone\n",
    "    Δt::T # Time step for physics simulation in seconds\n",
    "\n",
    "    ###NEW###\n",
    "    # Current Bonus / Target\n",
    "    num_waypoints::Int # includig start point\n",
    "    waypoints::Vector{Vector{T}}\n",
    "    reached_goal::BitVector\n",
    "    \n",
    "    norm_way::T\n",
    "    progress::T\n",
    "    progress_prev::T\n",
    "    current_point::Int\n",
    "    reached_goal_in_step::Bool\n",
    "    \n",
    "    r_tol::T\n",
    "    projected_position::Vector{T}\n",
    "\n",
    "    slow_mode::Bool\n",
    "    ######\n",
    "end"
   ]
  },
  {
   "cell_type": "code",
   "execution_count": 9,
   "id": "14a6873d",
   "metadata": {},
   "outputs": [],
   "source": [
    "# define a keyword-based constructor for the type declared in the mutable struct typedef. \n",
    "# It could also be done with the macro Base.@kwdef.\n",
    "function VtolEnv(;\n",
    "    rng = Random.GLOBAL_RNG, # Random number generation\n",
    "    name = \"Crazyflie\",\n",
    "    visualization = false,\n",
    "    realtime = false,\n",
    "    kwargs... # let the function take an arbitrary number of keyword arguments\n",
    ")\n",
    "    \n",
    "    T = Float64; # explicit type which is used e.g. in state. Cannot be altered due to the poor matrix defininon.\n",
    "    \n",
    "    # final PWM Values for Crazyflie. The interval definition has no effect in the current implementation.\n",
    "    action_space = Space(\n",
    "        ClosedInterval{T}[\n",
    "            0..1#0..65535, # motor 1\n",
    "            0..1#0..65535, # motor 2\n",
    "            0..1#0..65535, # motor 3\n",
    "            0..1#0..65535, # motor 4\n",
    "            ], \n",
    "    )\n",
    "\n",
    "    \n",
    "    state_space = Space( # Three continuous values in state space.\n",
    "        ClosedInterval{T}[#todo\n",
    "            typemin(T)..typemax(T), # 1 x\n",
    "            typemin(T)..typemax(T), # 2 y\n",
    "            typemin(T)..typemax(T), # 3 z\n",
    "\n",
    "            typemin(T)..typemax(T), # 4  World Vector UP x\n",
    "            typemin(T)..typemax(T), # 5  World Vector UP y\n",
    "            typemin(T)..typemax(T), # 6  World Vector UP z\n",
    "\n",
    "            typemin(T)..typemax(T), # 7  World Vector FRONT x\n",
    "            typemin(T)..typemax(T), # 8  World Vector FRONT y\n",
    "            typemin(T)..typemax(T), # 9  World Vector FRONT z\n",
    "            \n",
    "            typemin(T)..typemax(T), # 10 Body velocity along x\n",
    "            typemin(T)..typemax(T), # 11 Body velocity along y\n",
    "            typemin(T)..typemax(T), # 12 Body velocity along z\n",
    "            \n",
    "            typemin(T)..typemax(T), # 13 Body rotational velocity around x\n",
    "            typemin(T)..typemax(T), # 14 Body rotational velocity around y\n",
    "            typemin(T)..typemax(T), # 15 Body rotational velocity around z\n",
    "            \n",
    "            ###NEW###\n",
    "            typemin(T)..typemax(T), # 16 position error along x (next gate - current position)\n",
    "            typemin(T)..typemax(T), # 17 position error along y (next gate - current position)\n",
    "            typemin(T)..typemax(T), # 18 position error along z (next gate - current position)\n",
    "            \n",
    "            typemin(T)..typemax(T), # 19 way to next next gate x (next next gate - next gate)\n",
    "            typemin(T)..typemax(T), # 20 way to next next gate y (next next gate - next gate)\n",
    "            typemin(T)..typemax(T), # 21 way to next next gate z (next next gate - next gate)\n",
    "            ######\n",
    "            ], \n",
    "    )\n",
    "\n",
    "    ###NEW###\n",
    "    num_waypoints = N_WAYPOINTS # number of waypoints, includig start point\n",
    "    waypoints = generate_trajectory(num_waypoints + 1) # trajectory with num_waypoints waypoints (+ start point), (with dummy points) \n",
    "    reached_goal = falses(num_waypoints)\n",
    "    \n",
    "    norm_way = 0.0 \n",
    "    for i in 1:(num_waypoints - 1)\n",
    "        norm_way += norm(waypoints[i] - waypoints[i + 1])\n",
    "    end\n",
    "    ######\n",
    "    \n",
    "    if visualization\n",
    "        create_Crazyflie(name, actuators = true);\n",
    "        visualize_waypoints(waypoints[1:num_waypoints], 0.05)\n",
    "\n",
    "        set_Crazyflie_actuators(name, [0.0; 0.0; 0.0; 0.0]);\n",
    "        set_transform(name, [0.0; 0.0; 0.0] ,one(QuatRotation));\n",
    "        set_arrow(string(name, \"vel\"), color_vec=[0.0; 1.0; 0.0; 1.0]);\n",
    "        transform_arrow(string(name, \"vel\"), [0.0; 0.0; 0.0], [0.0; 0.0; 1.0], max_head_radius=0.05)\n",
    "#         set_arrow(string(name, \"_vel_current\"), color_vec=[1.0; 0.0; 0.0; 1.0]);\n",
    "#         transform_arrow(string(name, \"_vel_current\"), [0.0; 0.0; 0.0], [0.0; 0.0; 1.0], max_head_radius=0.02)                  \n",
    "    end\n",
    "    \n",
    "\n",
    "\n",
    "    environment = VtolEnv(\n",
    "        action_space,\n",
    "        state_space,\n",
    "        zeros(T, length(state_space)), # current state, needs to be extended.\n",
    "        [0.25; 0.25; 0.25; 0.25],#rand(action_space), #todo test with random\n",
    "        false, # episode done ?\n",
    "        0.0, # time\n",
    "        rng, # random number generator  \n",
    "\n",
    "        name,\n",
    "        visualization,\n",
    "        realtime,\n",
    "\n",
    "        zeros(T, 3), # x_W\n",
    "        zeros(T, 3), # v_B\n",
    "        Matrix(one(QuatRotation)), # Float64... so T needs to be Float64\n",
    "        zeros(T, 3), # ω_B\n",
    "        zeros(T, 3), # wind_W\n",
    "        Δt, # Δt\n",
    "\n",
    "        num_waypoints, # includig start point\n",
    "        waypoints, \n",
    "        reached_goal,\n",
    "\n",
    "        norm_way, # norm_way\n",
    "        0.0, # progress\n",
    "        0.0, # progress_prev\n",
    "        2, # current point\n",
    "        false, # reached_goal_in_step\n",
    "        \n",
    "        R_TOL, # r_tol\n",
    "        zeros(T, 3), # projected_position\n",
    "\n",
    "        SLOW_MODE # slow_mode\n",
    "\n",
    "        )\n",
    "    \n",
    "    \n",
    "    RLBase.reset!(environment)\n",
    "    \n",
    "    return environment\n",
    "    \n",
    "end;"
   ]
  },
  {
   "cell_type": "markdown",
   "id": "ec660d5e",
   "metadata": {},
   "source": [
    "Just for explanation:\n",
    "\n",
    "1. A mutable Struct is created. A struct is a constructor and a constructor is a function that creates new objects.\n",
    "2. A outer keyword-based constructor method is added for the type declared in the mutable struct typedef before.\n",
    "\n",
    "So now we have a function with two methods. Julia will decide which method to call by multiple dispatch."
   ]
  },
  {
   "cell_type": "raw",
   "id": "23dd4047",
   "metadata": {},
   "source": [
    "methods(VtolEnv)"
   ]
  },
  {
   "cell_type": "markdown",
   "id": "806413d1",
   "metadata": {},
   "source": [
    "# Define the RL interface"
   ]
  },
  {
   "cell_type": "code",
   "execution_count": 10,
   "id": "0f822029",
   "metadata": {},
   "outputs": [],
   "source": [
    "Random.seed!(env::VtolEnv, seed) = Random.seed!(env.rng, seed)\n",
    "RLBase.action_space(env::VtolEnv) = env.action_space\n",
    "RLBase.state_space(env::VtolEnv) = env.observation_space\n",
    "RLBase.is_terminated(env::VtolEnv) = env.done\n",
    "RLBase.state(env::VtolEnv) = env.state"
   ]
  },
  {
   "cell_type": "code",
   "execution_count": 11,
   "id": "aad040d9",
   "metadata": {},
   "outputs": [],
   "source": [
    "function scale_for_slowmode(slow_mode::Bool, v_min::T, v_max::T, d_max::T, x_W::Vector{T}, projected_position::Vector{T}, v_B::Vector{T}) where T\n",
    "    \n",
    "    if slow_mode == false\n",
    "        return 1\n",
    "    else\n",
    "        if norm(v_B) > v_max\n",
    "            s_vmax = 10^(v_max - norm(v_B))\n",
    "        else\n",
    "            s_vmax = 1\n",
    "        end\n",
    "\n",
    "        if norm(v_B) < v_min\n",
    "            s_vmin = 10^(norm(v_B) - v_min)\n",
    "        else\n",
    "            s_vmin = 1\n",
    "        end\n",
    "\n",
    "        if norm(x_W - projected_position) > d_max\n",
    "            s_gd = exp(-norm(x_W - projected_position) + d_max)\n",
    "        else\n",
    "            s_gd = 1\n",
    "        end\n",
    "        s = s_vmax * s_vmin * s_gd\n",
    "    end\n",
    "    return s\n",
    "end;"
   ]
  },
  {
   "cell_type": "code",
   "execution_count": 12,
   "id": "1f7fb89c",
   "metadata": {},
   "outputs": [],
   "source": [
    "function computeReward(env::VtolEnv{A,T}) where {A,T}\n",
    "    \n",
    "    \n",
    "    if env.slow_mode\n",
    "        v_min = 1.0 # min velocity\n",
    "        v_max = 3.0 # max velocity\n",
    "        d_max = 0.5 \n",
    "    else\n",
    "        v_min = 4.0 # min velocity\n",
    "        v_max = 50.0 # max velocity\n",
    "        d_max = 1.0 \n",
    "    end\n",
    "\n",
    "\n",
    "    s = scale_for_slowmode(true, v_min, v_max, d_max, env.x_W, env.projected_position, env.v_B)\n",
    "    \n",
    "    # TODO: test norming\n",
    "    k_p = 5.0 * s #/ env.norm_way # factor for progress (between current position and last position) reward \n",
    "    r_p = (env.progress - env.progress_prev); # reward for progress (between current position and last position)\n",
    "\n",
    "    k_s = s * (2 * v_max * env.Δt) / env.norm_way # factor for reached distance (overall) reward\n",
    "    r_s = env.progress # reward for reached distance (overall)\n",
    "    \n",
    "    k_wp = 50.0 # factor for reached gate reward\n",
    "    r_wp = 0.0 # reward for reached gate\n",
    "    if env.reached_goal_in_step\n",
    "        r_wp = exp(-norm(env.x_W - env.waypoints[env.current_point - 1])/env.r_tol)\n",
    "    end \n",
    "\n",
    "    # factor for too high body rate penalty\n",
    "    if env.slow_mode\n",
    "        k_ω = 0.01\n",
    "    else\n",
    "        k_ω = 0.001\n",
    "    end\n",
    "    #norm_ω = norm(env.ω_B[3]) # penalty for body rate\n",
    "    norm_ω = norm(env.ω_B) # penalty for body rate\n",
    "\n",
    "    if env.x_W[3] < 0\n",
    "        fall = 1\n",
    "    else\n",
    "        fall = 0\n",
    "    end\n",
    "    \n",
    "    if !env.slow_mode\n",
    "        k_s /= env.norm_way\n",
    "        k_p /= env.norm_way\n",
    "    end\n",
    "    \n",
    "    return k_p * r_p + k_s * r_s + k_wp * r_wp - k_ω * norm_ω - fall\n",
    "    \n",
    "end\n",
    "\n",
    "\n",
    "RLBase.reward(env::VtolEnv{A,T}) where {A,T} = computeReward(env)"
   ]
  },
  {
   "cell_type": "code",
   "execution_count": 13,
   "id": "ae45ec04",
   "metadata": {},
   "outputs": [],
   "source": [
    "function RLBase.reset!(env::VtolEnv{A,T}) where {A,T}\n",
    "    \n",
    "    env.x_W = [0.0; 0.0; 0.0];\n",
    "    env.v_B = [0.0; 0.0; 0.0];\n",
    "    env.R_W = Matrix(one(QuatRotation)); # Identity matrix (no rotation)\n",
    "    env.ω_B = [0.0; 0.0; 0.0];\n",
    "    env.wind_W = [0.0; 0.0; 0.0];\n",
    "\n",
    "\n",
    "    env.waypoints = generate_trajectory(env.num_waypoints + 1); # Dummy points\n",
    "    env.reached_goal = falses(env.num_waypoints);\n",
    "    env.reached_goal[1] = true; # set first point to reached (start point)\n",
    "    \n",
    "    env.current_point = 2;\n",
    "    env.reached_goal_in_step = false;\n",
    "    #env.r_tol = 0.3;\n",
    "    \n",
    "    if env.visualization\n",
    "        visualize_waypoints(env.waypoints[1:env.num_waypoints], 0.05); \n",
    "    end\n",
    "    \n",
    "    norm_way = 0.0 \n",
    "    for i in 1:(env.num_waypoints - 1)\n",
    "        norm_way += norm(env.waypoints[i] - env.waypoints[i + 1])\n",
    "    end\n",
    "    \n",
    "    env.norm_way = norm_way\n",
    "    env.progress = 0.0;\n",
    "    env.progress_prev = 0.0;\n",
    "        \n",
    " #todo\n",
    "    env.state = [env.x_W[1]; # 1 position along x\n",
    "                 env.x_W[2]; # 2 position along y\n",
    "                 env.x_W[3]; # 3 position along z\n",
    "#todo right R_W?\n",
    "                 env.R_W[1,1];\n",
    "                 env.R_W[2,1];\n",
    "                 env.R_W[3,1];\n",
    "        \n",
    "                 env.R_W[1,3]; # 4  World Vector UP x\n",
    "                 env.R_W[2,3]; # 5  World Vector UP y\n",
    "                 env.R_W[3,3]; # 6  World Vector UP z\n",
    "\n",
    "#                  env.R_W[1,1]; # 7  World Vector FRONT x\n",
    "#                  env.R_W[2,1]; # 8  World Vector FRONT y\n",
    "#                  env.R_W[3,1]; # 9  World Vector FRONT z\n",
    "\n",
    "                 env.v_B[1]; #  10 Body velocity along x\n",
    "                 env.v_B[2]; #  11 Body velocity along y\n",
    "                 env.v_B[3]; #  12 Body velocity along z\n",
    "\n",
    "                 env.ω_B[1]; #  13  Body rotational velocity around x\n",
    "                 env.ω_B[2]; #  14  Body rotational velocity around y\n",
    "                 env.ω_B[3]; #  15  Body rotational velocity around z\n",
    "\n",
    "                 env.waypoints[2][1] - env.x_W[1]; # 16 position error to next gate along x\n",
    "                 env.waypoints[2][2] - env.x_W[2]; # 17 position error to next gate along z\n",
    "                 env.waypoints[2][3] - env.x_W[3]; # 18 position error to next gate along z\n",
    "                 \n",
    "                 env.waypoints[3][1] - env.waypoints[2][1]; # 19 way to next next gate x \n",
    "                 env.waypoints[3][2] - env.waypoints[2][2]; # 20 way to next next gate y\n",
    "                 env.waypoints[3][3] - env.waypoints[2][3]]  # 21 way to next next gate z \n",
    "    \n",
    "\n",
    "    env.t = 0.0; # time 0s\n",
    "    env.action = [0.25; 0.25; 0.25; 0.25] # normalized # todo try with 0.0\n",
    "    #env.last_action = [0.255; 0.255; 0.255; 0.255] # normalized\n",
    "    #env.current_action = [0.255; 0.255; 0.255; 0.255] # normalized\n",
    "\n",
    "    env.done = false # reset termination\n",
    "\n",
    "    env.projected_position = [0; 0; 0]\n",
    "    \n",
    "    if env.visualization\n",
    "        # Visualize initial state\n",
    "        set_transform(env.name, env.x_W,QuatRotation(env.R_W));\n",
    "        set_Crazyflie_actuators(env.name, [0.0; 0.0; 0.0; 0.0]);\n",
    "        #transform_arrow(string(env.name, \"_vel\"), env.x_W, env.v_W_target, max_head_radius=0.05) \n",
    "        transform_arrow(string(env.name, \"vel\"), env.x_W, [0.0; 0.0; 0.0], max_head_radius=0.05) \n",
    "    end\n",
    "    \n",
    "    nothing # return nothing\n",
    "end;"
   ]
  },
  {
   "cell_type": "code",
   "execution_count": 14,
   "id": "1cf1a7b7",
   "metadata": {},
   "outputs": [],
   "source": [
    "# defines a methods for a callable object.\n",
    "# So when a VtolEnv object is created, it has this method that can be called\n",
    "function (env::VtolEnv)(a)\n",
    "\n",
    "\n",
    "    # call the step on the environoment with the next action \n",
    "    _step!(env, a)\n",
    "        \n",
    "end"
   ]
  },
  {
   "cell_type": "code",
   "execution_count": 15,
   "id": "26a5a0da",
   "metadata": {},
   "outputs": [],
   "source": [
    "env = VtolEnv();"
   ]
  },
  {
   "cell_type": "code",
   "execution_count": 16,
   "id": "5fa04886",
   "metadata": {},
   "outputs": [
    {
     "data": {
      "text/html": [
       "# 3 methods for callable object:<ul><li> (env::<b>VtolEnv</b>)(a) in Main at In[14]:3</li> <li> (env::<b>AbstractEnv</b>)(action) in ReinforcementLearningBase</li> <li> (env::<b>AbstractEnv</b>)(action, player) in ReinforcementLearningBase</li> </ul>"
      ],
      "text/plain": [
       "# 3 methods for callable object:\n",
       "[1] (env::VtolEnv)(a) in Main at In[14]:3\n",
       "[2] (env::AbstractEnv)(action) in ReinforcementLearningBase\n",
       "[3] (env::AbstractEnv)(action, player) in ReinforcementLearningBase"
      ]
     },
     "execution_count": 16,
     "metadata": {},
     "output_type": "execute_result"
    }
   ],
   "source": [
    "methods(env) # Just to explain which methods the object has"
   ]
  },
  {
   "cell_type": "code",
   "execution_count": 17,
   "id": "d4d67302",
   "metadata": {},
   "outputs": [
    {
     "data": {
      "text/plain": [
       "scale_actions (generic function with 1 method)"
      ]
     },
     "execution_count": 17,
     "metadata": {},
     "output_type": "execute_result"
    }
   ],
   "source": [
    "function scale_actions(next_action)\n",
    "    return next_action*22000.0\n",
    "end"
   ]
  },
  {
   "cell_type": "code",
   "execution_count": 18,
   "id": "9e7d4727",
   "metadata": {},
   "outputs": [],
   "source": [
    "function _step!(env::VtolEnv, next_action)\n",
    "    \n",
    "\n",
    "    #env.last_action = copy(env.current_action)\n",
    "    #env.current_action[1] = next_action[1]\n",
    "    #env.current_action[2] = next_action[2]\n",
    "    #env.current_action[3] = next_action[3]\n",
    "    #env.current_action[4] = next_action[4]\n",
    "    \n",
    "    \n",
    "    \n",
    "    scaled_actions = scale_actions.(next_action) # between 0 and 1 for neual network\n",
    "    # caluclate wind impact\n",
    "    v_in_wind_B = vtol_add_wind(env.v_B, env.R_W, env.wind_W)\n",
    "    # caluclate aerodynamic forces\n",
    "    torque_B, force_B = crazyflie_model(scaled_actions);\n",
    "    # integrate rigid body dynamics for Δt\n",
    "    env.x_W, env.v_B, env.R_W, env.ω_B, env.t = rigid_body_simple(torque_B, force_B, env.x_W, env.v_B, env.R_W, env.ω_B, env.t, env.Δt, crazyflie_param)\n",
    "\n",
    "    \n",
    "    env.reached_goal_in_step = false;\n",
    "    if norm(env.x_W - env.waypoints[env.current_point]) < env.r_tol\n",
    "        env.reached_goal_in_step = true;\n",
    "        env.reached_goal[env.current_point] = true;\n",
    "        env.current_point += 1;\n",
    "    end\n",
    "        \n",
    "            \n",
    "    # calculate progress on trajectory\n",
    "    env.progress_prev = env.progress\n",
    "    \n",
    "    current_progress = 0.0\n",
    "    line_segment, env.projected_position = calculate_progress(env.waypoints, env.x_W)\n",
    "    \n",
    "    #env.current_point = line_segment + 1\n",
    "\n",
    "    for i in 2:(line_segment)\n",
    "       current_progress +=  norm(env.waypoints[i] - env.waypoints[i - 1])  \n",
    "    end\n",
    "    current_progress += norm(env.waypoints[line_segment] - env.projected_position)\n",
    "    \n",
    "    env.progress = current_progress\n",
    "    \n",
    "\n",
    "    if env.realtime\n",
    "        sleep(env.Δt) # TODO: just a dirty hack. this is of course slower than real time.\n",
    "    end\n",
    "\n",
    "    # env.t += env.Δt # todo reevaluate\n",
    "\n",
    "\n",
    "    if env.visualization\n",
    "        set_transform(env.name, env.x_W,QuatRotation(env.R_W));\n",
    "        set_Crazyflie_actuators(env.name, next_action[1:4])\n",
    "        #transform_arrow(string(env.name, \"_vel\"), env.x_W, env.v_W_target, max_head_radius=0.05)               \n",
    "        transform_arrow(string(env.name, \"vel\"), env.x_W, env.R_W*env.v_B, max_head_radius=0.05) \n",
    "    \n",
    "        for i in eachindex(env.reached_goal)\n",
    "            if env.reached_goal[i]\n",
    "                create_sphere(\"fixgoal_$i\", 0.05, color=RGBA{Float32}(1.0, 0.0, 0.0, 1.0));\n",
    "                set_transform(\"fixgoal_$i\", env.waypoints[i]);\n",
    "            end\n",
    "        end\n",
    "\n",
    "    end\n",
    "    \n",
    "    \n",
    "    #v_B_target = transpose(env.R_W)*env.v_W_target\n",
    "    \n",
    "    \n",
    "    # State space\n",
    "    #todo\n",
    "    env.state[1] = env.x_W[1];\n",
    "    env.state[2] = env.x_W[2];\n",
    "    env.state[3] = env.x_W[3];\n",
    "    \n",
    "    env.state[4] = env.R_W[1,1] # 1  World Vector UP x\n",
    "    env.state[5] = env.R_W[2,1] # 2  World Vector UP y\n",
    "    env.state[6] = env.R_W[3,1] # 3  World Vector UP z\n",
    "\n",
    "    env.state[7] = env.R_W[1,3] # 4  World Vector FRONT x\n",
    "    env.state[8] = env.R_W[2,3] # 5  World Vector FRONT y\n",
    "    env.state[9] = env.R_W[3,3] # 6  World Vector FRONT z\n",
    "        \n",
    "    env.state[10] = env.v_B[1] # 7  Body velocity along x\n",
    "    env.state[11] = env.v_B[2] # 8  Body velocity along y\n",
    "    env.state[12] = env.v_B[3] # 9  Body velocity along z\n",
    "\n",
    "    env.state[13] = env.ω_B[1] # 10 Body rotational velocity around x\n",
    "    env.state[14] = env.ω_B[2] # 11 Body rotational velocity around y\n",
    "    env.state[15] = env.ω_B[3] # 12 Body rotational velocity around z\n",
    "\n",
    "    env.state[16] = env.waypoints[env.current_point][1] - env.x_W[1] # 13 position error to next gate along x\n",
    "    env.state[17] = env.waypoints[env.current_point][2] - env.x_W[2]; # 14 position error to next gate along z\n",
    "    env.state[18] = env.waypoints[env.current_point][3] - env.x_W[3]; # 15 position error to next gate along z\n",
    "     #todo            \n",
    "    if env.current_point <= env.num_waypoints\n",
    "        env.state[19] = env.waypoints[env.current_point + 1][1] - env.waypoints[env.current_point][1] ; # 16 way to next next gate x (next next gate - next gate), dummy integriert\n",
    "        env.state[20] = env.waypoints[env.current_point + 1][2] - env.waypoints[env.current_point][2]; # 17 way to next next gate y (next next gate - next gate), dummy integriert\n",
    "        env.state[21] = env.waypoints[env.current_point + 1][3] - env.waypoints[env.current_point][3]; # 18 way to next next gate z (next next gate - next gate), dummy integriert\n",
    "    end\n",
    "\n",
    "    \n",
    "    \n",
    "    # Termination criteria\n",
    "    env.done = #true\n",
    "        # After time... How fast is drone+Range of desired point\n",
    "        # After reaching position (circle of r_tol)\n",
    "         norm(env.ω_B) > 100.0 || \n",
    "         norm(env.v_B) > 100.0 || # stop if body is too fast_point \n",
    "        env.x_W[3] < -1.0 || # stop if body is below -5m\n",
    "        env.t > env.num_waypoints * 3.0 ||# stop after 3s per point #todo set in fast learning phase\n",
    "        norm(env.x_W - env.projected_position) > 5.0 || # too far off the path \n",
    "        env.reached_goal == trues(env.num_waypoints)\n",
    "\n",
    "    nothing\n",
    "end;"
   ]
  },
  {
   "cell_type": "code",
   "execution_count": 19,
   "id": "6e1cd988",
   "metadata": {},
   "outputs": [
    {
     "name": "stdout",
     "output_type": "stream",
     "text": [
      "\u001b[0m\u001b[1mTest Summary:              | \u001b[22m\u001b[32m\u001b[1mPass  \u001b[22m\u001b[39m\u001b[36m\u001b[1mTotal  \u001b[22m\u001b[39m\u001b[0m\u001b[1mTime\u001b[22m\n",
      "random policy with VtolEnv | \u001b[32m2000  \u001b[39m\u001b[36m 2000  \u001b[39m\u001b[0m2.8s\n"
     ]
    },
    {
     "data": {
      "text/plain": [
       "Test.DefaultTestSet(\"random policy with VtolEnv\", Any[], 2000, false, false, true, 1.67688947109684e9, 1.676889473882697e9)"
      ]
     },
     "execution_count": 19,
     "metadata": {},
     "output_type": "execute_result"
    }
   ],
   "source": [
    "RLBase.test_runnable!(env)"
   ]
  },
  {
   "cell_type": "markdown",
   "id": "c223a31f",
   "metadata": {},
   "source": [
    "Show an overview of the environment."
   ]
  },
  {
   "cell_type": "markdown",
   "id": "ffe6de74",
   "metadata": {},
   "source": [
    "# Setup of a reinforcement learning experiment."
   ]
  },
  {
   "cell_type": "code",
   "execution_count": 20,
   "id": "e5683fe8",
   "metadata": {},
   "outputs": [
    {
     "data": {
      "text/markdown": [
       "# VtolEnv\n",
       "\n",
       "## Traits\n",
       "\n",
       "| Trait Type        |                  Value |\n",
       "|:----------------- | ----------------------:|\n",
       "| NumAgentStyle     |          SingleAgent() |\n",
       "| DynamicStyle      |           Sequential() |\n",
       "| InformationStyle  | ImperfectInformation() |\n",
       "| ChanceStyle       |           Stochastic() |\n",
       "| RewardStyle       |           StepReward() |\n",
       "| UtilityStyle      |           GeneralSum() |\n",
       "| ActionStyle       |     MinimalActionSet() |\n",
       "| StateStyle        |     Observation{Any}() |\n",
       "| DefaultStateStyle |     Observation{Any}() |\n",
       "\n",
       "## Is Environment Terminated?\n",
       "\n",
       "No\n",
       "\n",
       "## State Space\n",
       "\n",
       "`Space{Vector{ClosedInterval{Float64}}}(ClosedInterval{Float64}[-Inf..Inf, -Inf..Inf, -Inf..Inf, -Inf..Inf, -Inf..Inf, -Inf..Inf, -Inf..Inf, -Inf..Inf, -Inf..Inf, -Inf..Inf, -Inf..Inf, -Inf..Inf, -Inf..Inf, -Inf..Inf, -Inf..Inf, -Inf..Inf, -Inf..Inf, -Inf..Inf, -Inf..Inf, -Inf..Inf, -Inf..Inf])`\n",
       "\n",
       "## Action Space\n",
       "\n",
       "`Space{Vector{ClosedInterval{Float64}}}(ClosedInterval{Float64}[0.0..1.0, 0.0..1.0, 0.0..1.0, 0.0..1.0])`\n",
       "\n",
       "## Current State\n",
       "\n",
       "```\n",
       "[0.0, 0.0, 0.0, 1.0, 0.0, 0.0, 0.0, 0.0, 1.0, 0.0, 0.0, 0.0, 0.0, 0.0, 0.0, 2.170879518051267, -2.7772226734713055, 1.332242604207609, -1.6809010824262567, 2.095002283427654, 1.8235068733348776]\n",
       "```\n"
      ],
      "text/plain": [
       "# VtolEnv\n",
       "\n",
       "## Traits\n",
       "\n",
       "| Trait Type        |                  Value |\n",
       "|:----------------- | ----------------------:|\n",
       "| NumAgentStyle     |          SingleAgent() |\n",
       "| DynamicStyle      |           Sequential() |\n",
       "| InformationStyle  | ImperfectInformation() |\n",
       "| ChanceStyle       |           Stochastic() |\n",
       "| RewardStyle       |           StepReward() |\n",
       "| UtilityStyle      |           GeneralSum() |\n",
       "| ActionStyle       |     MinimalActionSet() |\n",
       "| StateStyle        |     Observation{Any}() |\n",
       "| DefaultStateStyle |     Observation{Any}() |\n",
       "\n",
       "## Is Environment Terminated?\n",
       "\n",
       "No\n",
       "\n",
       "## State Space\n",
       "\n",
       "`Space{Vector{ClosedInterval{Float64}}}(ClosedInterval{Float64}[-Inf..Inf, -Inf..Inf, -Inf..Inf, -Inf..Inf, -Inf..Inf, -Inf..Inf, -Inf..Inf, -Inf..Inf, -Inf..Inf, -Inf..Inf, -Inf..Inf, -Inf..Inf, -Inf..Inf, -Inf..Inf, -Inf..Inf, -Inf..Inf, -Inf..Inf, -Inf..Inf, -Inf..Inf, -Inf..Inf, -Inf..Inf])`\n",
       "\n",
       "## Action Space\n",
       "\n",
       "`Space{Vector{ClosedInterval{Float64}}}(ClosedInterval{Float64}[0.0..1.0, 0.0..1.0, 0.0..1.0, 0.0..1.0])`\n",
       "\n",
       "## Current State\n",
       "\n",
       "```\n",
       "[0.0, 0.0, 0.0, 1.0, 0.0, 0.0, 0.0, 0.0, 1.0, 0.0, 0.0, 0.0, 0.0, 0.0, 0.0, 2.170879518051267, -2.7772226734713055, 1.332242604207609, -1.6809010824262567, 2.095002283427654, 1.8235068733348776]\n",
       "```\n"
      ]
     },
     "execution_count": 20,
     "metadata": {},
     "output_type": "execute_result"
    }
   ],
   "source": [
    "seed = 123    \n",
    "rng = StableRNG(seed)\n",
    "#N_ENV = 8 # TODO 1 environment\n",
    "UPDATE_FREQ = 2048\n",
    "EVALUATION_FREQ = 10_000\n",
    "SAVE_FREQ = 100_000\n",
    "\n",
    "# define multiple environments for parallel training\n",
    "env = VtolEnv(; rng = StableRNG(hash(seed)), name = \"cf_SAC\") "
   ]
  },
  {
   "cell_type": "code",
   "execution_count": 21,
   "id": "d1f128b2",
   "metadata": {},
   "outputs": [
    {
     "data": {
      "text/plain": [
       "create_q_net (generic function with 1 method)"
      ]
     },
     "execution_count": 21,
     "metadata": {},
     "output_type": "execute_result"
    }
   ],
   "source": [
    "# Define the function approximator\n",
    "# TODO ?\n",
    "    ns, na = length(state(env)), length(action_space(env))\n",
    "\n",
    "create_policy_net() = NeuralNetworkApproximator(\n",
    "        model = GaussianNetwork(\n",
    "            pre = Chain(\n",
    "                Dense(ns, 256, tanh, init = glorot_uniform(rng)),\n",
    "                Dense(256, 256, tanh, init = glorot_uniform(rng)),\n",
    "            ),\n",
    "            μ = Chain(Dense(256, na, init = glorot_uniform(rng))),\n",
    "            logσ = Chain(Dense(256, na, x -> clamp.(x, typeof(x)(-10), typeof(x)(2)), init = glorot_uniform(rng))),\n",
    "        ),\n",
    "        optimizer = ADAM(1e-4),\n",
    "    )\n",
    "\n",
    "create_q_net() = NeuralNetworkApproximator(\n",
    "        model = Chain(\n",
    "            Dense(ns + na, 256, tanh; init = glorot_uniform(rng)),\n",
    "            Dense(256, 256, tanh; init = glorot_uniform(rng)),\n",
    "            Dense(256, 1; init = glorot_uniform(rng)),\n",
    "        ),\n",
    "        optimizer = ADAM(1e-4),\n",
    "    )"
   ]
  },
  {
   "cell_type": "code",
   "execution_count": 22,
   "id": "05ab2a0a",
   "metadata": {},
   "outputs": [
    {
     "data": {
      "text/plain": [
       "100000000"
      ]
     },
     "execution_count": 22,
     "metadata": {},
     "output_type": "execute_result"
    }
   ],
   "source": [
    "dataset_size = 100_000_000\n",
    "start_steps = dataset_size # puffer size\n",
    "trajectory_num = dataset_size\n",
    "#TODO ? "
   ]
  },
  {
   "cell_type": "code",
   "execution_count": 23,
   "id": "7ea4c37c",
   "metadata": {},
   "outputs": [],
   "source": [
    "    agent = Agent( # A wrapper of an AbstractPolicy\n",
    "     # TODO ?    \n",
    "    \n",
    "    policy = SACPolicy(\n",
    "            policy = create_policy_net(),\n",
    "            qnetwork1 = create_q_net(),\n",
    "            qnetwork2 = create_q_net(),\n",
    "            #target_qnetwork1 = create_q_net(),\n",
    "            #target_qnetwork2 = create_q_net(),\n",
    "            γ = 0.99f0,\n",
    "            τ = 0.005f0,\n",
    "            α = 0.2f0,\n",
    "            batch_size = 256,\n",
    "            start_steps = start_steps,\n",
    "            start_policy = RandomPolicy(Space([-1.0..1.0 for _ in 1:na]); rng = rng),\n",
    "            update_after = start_steps,\n",
    "            update_freq = UPDATE_FREQ,\n",
    "            automatic_entropy_tuning = true,\n",
    "            lr_alpha = 0.003f0,\n",
    "            action_dims = na,\n",
    "            rng = rng,\n",
    "        ),\n",
    "        trajectory = CircularArraySARTTrajectory(\n",
    "            capacity = dataset_size+1,\n",
    "            state = Vector{Float32} => (ns,),\n",
    "            action = Vector{Float32} => (na,),\n",
    "        ),\n",
    "\n",
    "    \n",
    "    );\n",
    "\n",
    "\n",
    "\n",
    "\n"
   ]
  },
  {
   "cell_type": "code",
   "execution_count": 24,
   "id": "aafcb113",
   "metadata": {},
   "outputs": [
    {
     "data": {
      "text/plain": [
       "saveModel (generic function with 1 method)"
      ]
     },
     "execution_count": 24,
     "metadata": {},
     "output_type": "execute_result"
    }
   ],
   "source": [
    "function saveModel(t, agent, env)\n",
    "    model = cpu(agent.policy)  \n",
    "    if SLOW_MODE\n",
    "        f = joinpath(\"./RL_models_slow/\", \"cf_sac_$t.bson\")\n",
    "    else\n",
    "        f = joinpath(\"./RL_models_fast/\", \"cf_sac_$t.bson\")\n",
    "    end;\n",
    "    @save f model\n",
    "    println(\"parameters at step $t saved to $f\")\n",
    "end"
   ]
  },
  {
   "cell_type": "code",
   "execution_count": 25,
   "id": "50638c74",
   "metadata": {},
   "outputs": [
    {
     "data": {
      "text/plain": [
       "loadModel (generic function with 1 method)"
      ]
     },
     "execution_count": 25,
     "metadata": {},
     "output_type": "execute_result"
    }
   ],
   "source": [
    "function loadModel()\n",
    "    f = joinpath(\"./RL_models_slow/\", \"cf_sac_$(load_from_slow_step).bson\")\n",
    "    @load f model\n",
    "    return model\n",
    "end"
   ]
  },
  {
   "cell_type": "code",
   "execution_count": 26,
   "id": "7470f200",
   "metadata": {},
   "outputs": [],
   "source": [
    "function validate_policy(t, agent, env)\n",
    "    # for validation extract the policy from the agend\n",
    "    run(agent.policy, test_env, StopAfterEpisode(1), \n",
    "        ComposedHook(\n",
    "        episode_test_step_hook, \n",
    "        episode_test_reward_hook\n",
    "    ),\n",
    "        )\n",
    "    # the result of the hook\n",
    "    reward = round((episode_test_reward_hook.rewards[end]),digits = 3)\n",
    "    length = episode_test_step_hook.steps[end-1]\n",
    "    \n",
    "    println(\"step: \", t, \" reward : \",reward, \" length: \", length)\n",
    "\n",
    "    with_logger(logger) do\n",
    "        @info \"evaluating\" avg_length = length  avg_reward = reward  log_step_increment = 0\n",
    "    end\n",
    "    end;\n",
    "\n",
    "episode_test_reward_hook = TotalRewardPerEpisode( is_display_on_exit=false)\n",
    "episode_test_step_hook = StepsPerEpisode()\n",
    "# create a env only for reward test\n",
    "\n",
    "test_env = VtolEnv(;name = \"test_cf\", visualization = true, worldtime = true);"
   ]
  },
  {
   "cell_type": "code",
   "execution_count": 27,
   "id": "af9745c2",
   "metadata": {},
   "outputs": [
    {
     "data": {
      "text/plain": [
       "20000000"
      ]
     },
     "execution_count": 27,
     "metadata": {},
     "output_type": "execute_result"
    }
   ],
   "source": [
    "# number of steps\n",
    "steps_slow = 20_000_000\n",
    "steps_fast = 20_000_000\n",
    "load_from_slow_step = 20_000_000 # TODO: choose slow model\n",
    "\n",
    "save_freq = 100_000\n",
    "validate_freq = 100_000\n",
    "\n",
    "steps = 0\n",
    "if SLOW_MODE\n",
    "    steps = steps_slow\n",
    "else\n",
    "    steps = steps_fast\n",
    "end"
   ]
  },
  {
   "cell_type": "code",
   "execution_count": 28,
   "id": "6aadbfce",
   "metadata": {},
   "outputs": [],
   "source": [
    "# Define hook which is called during the training\n",
    "total_reward_per_episode = TotalRewardPerEpisode(is_display_on_exit = false)\n",
    "hook = ComposedHook(\n",
    "    #total_batch_reward_per_episode,\n",
    "    DoEveryNStep(saveModel, n=SAVE_FREQ),\n",
    "    DoEveryNStep(validate_policy, n=EVALUATION_FREQ),\n",
    "    #=\n",
    "    DoEveryNStep() do t, agent, env\n",
    "        p = agent.policy\n",
    "        with_logger(logger) do\n",
    "            @info \"training\" loss = mean(p.loss)  actor_loss = mean(p.actor_loss)  critic_loss = mean(p.critic_loss)\n",
    "        end\n",
    "    end,\n",
    "    =#\n",
    "    DoEveryNStep() do t, agent, env\n",
    "        with_logger(logger) do\n",
    "            if length(total_reward_per_episode.rewards) > 1\n",
    "                @info \"training\" total_reward_per_episode.rewards[end]\n",
    "            end\n",
    "        end\n",
    "    end,\n",
    "    #=\n",
    "    DoEveryNStep() do t, agent, env\n",
    "        with_logger(logger) do\n",
    "            @info \"training\" action_thrust_1 = env[1].action[1]  action_thrust_2 = env[1].action[2] action_thrust_3 = env[1].action[3] action_thrust_4 = env[1].action[4]\n",
    "        end\n",
    "    end,\n",
    "    =#\n",
    ");"
   ]
  },
  {
   "cell_type": "code",
   "execution_count": 29,
   "id": "2d479e76",
   "metadata": {},
   "outputs": [],
   "source": [
    "#todo load model\n",
    "if !SLOW_MODE\n",
    "    agent.policy.approximator = loadModel(); \n",
    "end;"
   ]
  },
  {
   "cell_type": "code",
   "execution_count": 30,
   "id": "45dfdb68",
   "metadata": {
    "scrolled": false
   },
   "outputs": [
    {
     "name": "stderr",
     "output_type": "stream",
     "text": [
      "\r",
      "\u001b[32mProgress:   0%|                                         |  ETA: 635.19 days\u001b[39m"
     ]
    },
    {
     "name": "stdout",
     "output_type": "stream",
     "text": [
      "step: 10000 reward : -20.243 length: 19\n"
     ]
    },
    {
     "name": "stderr",
     "output_type": "stream",
     "text": [
      "\r",
      "\u001b[32mProgress:   0%|                                         |  ETA: 5:35:16\u001b[39m"
     ]
    },
    {
     "name": "stdout",
     "output_type": "stream",
     "text": [
      "step: 20000 reward : -19.555 length: 19\n",
      "step: 30000 reward : -19.384 length: 19\n",
      "step: 40000 reward : -20.717 length: 19\n",
      "step: 50000 reward : -19.685 length: 19\n"
     ]
    },
    {
     "name": "stderr",
     "output_type": "stream",
     "text": [
      "\r",
      "\u001b[32mProgress:   0%|▏                                        |  ETA: 1:10:01\u001b[39m"
     ]
    },
    {
     "name": "stdout",
     "output_type": "stream",
     "text": [
      "step: 60000 reward : -19.799 length: 19\n",
      "step: 70000 reward : -19.881 length: 19\n",
      "step: 80000 reward : -20.059 length: 19\n",
      "step: 90000 reward : -20.847 length: 19\n"
     ]
    },
    {
     "name": "stderr",
     "output_type": "stream",
     "text": [
      "\r",
      "\u001b[32mProgress:   0%|▎                                        |  ETA: 0:43:36\u001b[39m"
     ]
    },
    {
     "name": "stdout",
     "output_type": "stream",
     "text": [
      "parameters at step 100000 saved to ./RL_models_slow/cf_sac_100000.bson\n",
      "step: 100000 reward : -20.239 length: 19\n",
      "step: 110000 reward : -19.928 length: 19\n",
      "step: 120000 reward : -19.857 length: 19\n"
     ]
    },
    {
     "name": "stderr",
     "output_type": "stream",
     "text": [
      "\r",
      "\u001b[32mProgress:   1%|▎                                        |  ETA: 0:47:25\u001b[39m"
     ]
    },
    {
     "name": "stdout",
     "output_type": "stream",
     "text": [
      "step: 130000 reward : -19.806 length: 19\n",
      "step: 140000 reward : -20.009 length: 19\n",
      "step: 150000 reward : -19.745 length: 19\n",
      "step: 160000 reward : -20.361 length: 19\n",
      "step: 170000 reward : -20.454 length: 19\n"
     ]
    },
    {
     "name": "stderr",
     "output_type": "stream",
     "text": [
      "\r",
      "\u001b[32mProgress:   1%|▍                                        |  ETA: 0:37:26\u001b[39m"
     ]
    },
    {
     "name": "stdout",
     "output_type": "stream",
     "text": [
      "step: 180000 reward : -20.359 length: 19\n",
      "step: 190000 reward : -20.222 length: 19\n",
      "parameters at step 200000 saved to ./RL_models_slow/cf_sac_200000.bson\n",
      "step: 200000 reward : -20.009 length: 19\n",
      "step: 210000 reward : -20.235 length: 19\n"
     ]
    },
    {
     "name": "stderr",
     "output_type": "stream",
     "text": [
      "\r",
      "\u001b[32mProgress:   1%|▌                                        |  ETA: 0:32:40\u001b[39m"
     ]
    },
    {
     "name": "stdout",
     "output_type": "stream",
     "text": [
      "step: 220000 reward : -20.656 length: 19\n",
      "step: 230000 reward : -20.63 length: 19\n",
      "step: 240000 reward : -19.914 length: 19\n",
      "step: 250000 reward : -20.113 length: 19\n",
      "step: 260000 reward : -20.706 length: 19\n"
     ]
    },
    {
     "name": "stderr",
     "output_type": "stream",
     "text": [
      "\r",
      "\u001b[32mProgress:   1%|▌                                        |  ETA: 0:28:19\u001b[39m"
     ]
    },
    {
     "name": "stdout",
     "output_type": "stream",
     "text": [
      "step: 270000 reward : -19.498 length: 19\n",
      "step: 280000 reward : -20.357 length: 19\n",
      "step: 290000 reward : -20.8 length: 19\n",
      "parameters at step 300000 saved to ./RL_models_slow/cf_sac_300000.bson\n",
      "step: 300000 reward : -20.561 length: 19\n"
     ]
    },
    {
     "name": "stderr",
     "output_type": "stream",
     "text": [
      "\r",
      "\u001b[32mProgress:   2%|▋                                        |  ETA: 0:25:19\u001b[39m"
     ]
    },
    {
     "name": "stdout",
     "output_type": "stream",
     "text": [
      "step: 310000 reward : -20.088 length: 19\n",
      "step: 320000 reward : -20.148 length: 19\n",
      "step: 330000 reward : -19.933 length: 19\n",
      "step: 340000 reward : -20.272 length: 19\n"
     ]
    },
    {
     "name": "stderr",
     "output_type": "stream",
     "text": [
      "\r",
      "\u001b[32mProgress:   2%|▊                                        |  ETA: 0:23:12\u001b[39m"
     ]
    },
    {
     "name": "stdout",
     "output_type": "stream",
     "text": [
      "step: 350000 reward : -19.84 length: 19\n",
      "step: 360000 reward : -19.857 length: 19\n",
      "step: 370000 reward : -20.473 length: 19\n",
      "step: 380000 reward : -19.778 length: 18\n",
      "step: 390000 reward : -19.969 length: 19\n"
     ]
    },
    {
     "name": "stderr",
     "output_type": "stream",
     "text": [
      "\r",
      "\u001b[32mProgress:   2%|▊                                        |  ETA: 0:21:24\u001b[39m"
     ]
    },
    {
     "name": "stdout",
     "output_type": "stream",
     "text": [
      "parameters at step 400000 saved to ./RL_models_slow/cf_sac_400000.bson\n",
      "step: 400000 reward : -20.362 length: 19\n",
      "step: 410000 reward : -19.99 length: 19\n",
      "step: 420000 reward : -20.784 length: 19\n",
      "step: 430000 reward : -20.087 length: 19\n"
     ]
    },
    {
     "name": "stderr",
     "output_type": "stream",
     "text": [
      "\r",
      "\u001b[32mProgress:   2%|▉                                        |  ETA: 0:20:00\u001b[39m"
     ]
    },
    {
     "name": "stdout",
     "output_type": "stream",
     "text": [
      "step: 440000 reward : -20.248 length: 19\n",
      "step: 450000 reward : -19.921 length: 19\n",
      "step: 460000 reward : -19.969 length: 19\n",
      "step: 470000 reward : -20.664 length: 19\n"
     ]
    },
    {
     "name": "stderr",
     "output_type": "stream",
     "text": [
      "\r",
      "\u001b[32mProgress:   2%|█                                        |  ETA: 0:18:51\u001b[39m"
     ]
    },
    {
     "name": "stdout",
     "output_type": "stream",
     "text": [
      "step: 480000 reward : -20.214 length: 19\n",
      "step: 490000 reward : -19.781 length: 19\n",
      "parameters at step 500000 saved to ./RL_models_slow/cf_sac_500000.bson\n",
      "step: 500000 reward : -19.864 length: 19\n",
      "step: 510000 reward : -20.027 length: 19\n",
      "step: 520000 reward : -20.876 length: 19\n"
     ]
    },
    {
     "name": "stderr",
     "output_type": "stream",
     "text": [
      "\r",
      "\u001b[32mProgress:   3%|█▏                                       |  ETA: 0:18:01\u001b[39m"
     ]
    },
    {
     "name": "stdout",
     "output_type": "stream",
     "text": [
      "step: 530000 reward : -20.313 length: 19\n",
      "step: 540000 reward : -19.805 length: 19\n",
      "step: 550000 reward : -20.486 length: 19\n",
      "step: 560000 reward : -20.518 length: 19\n"
     ]
    },
    {
     "name": "stderr",
     "output_type": "stream",
     "text": [
      "\r",
      "\u001b[32mProgress:   3%|█▏                                       |  ETA: 0:17:15\u001b[39m"
     ]
    },
    {
     "name": "stdout",
     "output_type": "stream",
     "text": [
      "step: 570000 reward : -20.093 length: 19\n",
      "step: 580000 reward : -20.45 length: 19\n",
      "step: 590000 reward : -19.606 length: 19\n",
      "parameters at step 600000 saved to ./RL_models_slow/cf_sac_600000.bson\n",
      "step: 600000 reward : -19.811 length: 19\n"
     ]
    },
    {
     "name": "stderr",
     "output_type": "stream",
     "text": [
      "\r",
      "\u001b[32mProgress:   3%|█▎                                       |  ETA: 0:16:40\u001b[39m"
     ]
    },
    {
     "name": "stdout",
     "output_type": "stream",
     "text": [
      "step: 610000 reward : -20.166 length: 19\n",
      "step: 620000 reward : -20.163 length: 19\n",
      "step: 630000 reward : -19.914 length: 19\n",
      "step: 640000 reward : -19.695 length: 19\n"
     ]
    },
    {
     "name": "stderr",
     "output_type": "stream",
     "text": [
      "\r",
      "\u001b[32mProgress:   3%|█▍                                       |  ETA: 0:16:14\u001b[39m"
     ]
    },
    {
     "name": "stdout",
     "output_type": "stream",
     "text": [
      "step: 650000 reward : -20.6 length: 19\n",
      "step: 660000 reward : -20.24 length: 19\n",
      "step: 670000 reward : -20.247 length: 19\n"
     ]
    },
    {
     "name": "stderr",
     "output_type": "stream",
     "text": [
      "\r",
      "\u001b[32mProgress:   3%|█▍                                       |  ETA: 0:15:51\u001b[39m"
     ]
    },
    {
     "name": "stdout",
     "output_type": "stream",
     "text": [
      "step: 680000 reward : -20.16 length: 19\n",
      "step: 690000 reward : -20.105 length: 19\n",
      "parameters at step 700000 saved to ./RL_models_slow/cf_sac_700000.bson\n",
      "step: 700000 reward : -20.934 length: 19\n",
      "step: 710000 reward : -20.435 length: 19\n"
     ]
    },
    {
     "name": "stderr",
     "output_type": "stream",
     "text": [
      "\r",
      "\u001b[32mProgress:   4%|█▌                                       |  ETA: 0:16:00\u001b[39m"
     ]
    },
    {
     "name": "stdout",
     "output_type": "stream",
     "text": [
      "step: 720000 reward : -20.203 length: 19\n",
      "step: 730000 reward : -20.812 length: 19\n",
      "step: 740000 reward : -19.802 length: 19\n",
      "step: 750000 reward : -21.561 length: 19\n"
     ]
    },
    {
     "name": "stderr",
     "output_type": "stream",
     "text": [
      "\r",
      "\u001b[32mProgress:   4%|█▌                                       |  ETA: 0:15:27\u001b[39m"
     ]
    },
    {
     "name": "stdout",
     "output_type": "stream",
     "text": [
      "step: 760000 reward : -19.458 length: 19\n",
      "step: 770000 reward : -20.28 length: 19\n",
      "step: 780000 reward : -19.82 length: 19\n",
      "step: 790000 reward : -19.775 length: 19\n",
      "parameters at step 800000 saved to ./RL_models_slow/cf_sac_800000.bson"
     ]
    },
    {
     "name": "stderr",
     "output_type": "stream",
     "text": [
      "\r",
      "\u001b[32mProgress:   4%|█▋                                       |  ETA: 0:15:03\u001b[39m"
     ]
    },
    {
     "name": "stdout",
     "output_type": "stream",
     "text": [
      "\n",
      "step: 800000 reward : -19.646 length: 19\n",
      "step: 810000 reward : -20.585 length: 19\n",
      "step: 820000 reward : -20.204 length: 19\n",
      "step: 830000 reward : -20.53 length: 19\n",
      "step: 840000 reward : -20.342 length: 19\n"
     ]
    },
    {
     "name": "stderr",
     "output_type": "stream",
     "text": [
      "\r",
      "\u001b[32mProgress:   4%|█▊                                       |  ETA: 0:14:43\u001b[39m"
     ]
    },
    {
     "name": "stdout",
     "output_type": "stream",
     "text": [
      "step: 850000 reward : -20.663 length: 19\n",
      "step: 860000 reward : -20.066 length: 19\n",
      "step: 870000 reward : -19.708 length: 19\n",
      "step: 880000 reward : -19.778 length: 19\n"
     ]
    },
    {
     "name": "stderr",
     "output_type": "stream",
     "text": [
      "\r",
      "\u001b[32mProgress:   4%|█▉                                       |  ETA: 0:14:17\u001b[39m"
     ]
    },
    {
     "name": "stdout",
     "output_type": "stream",
     "text": [
      "step: 890000 reward : -20.069 length: 19\n",
      "parameters at step 900000 saved to ./RL_models_slow/cf_sac_900000.bson\n",
      "step: 900000 reward : -20.018 length: 19\n",
      "step: 910000 reward : -19.916 length: 19\n",
      "step: 920000 reward : -20.188 length: 19\n",
      "step: 930000 reward : -19.888 length: 19\n"
     ]
    },
    {
     "name": "stderr",
     "output_type": "stream",
     "text": [
      "\r",
      "\u001b[32mProgress:   5%|█▉                                       |  ETA: 0:13:59\u001b[39m"
     ]
    },
    {
     "name": "stdout",
     "output_type": "stream",
     "text": [
      "step: 940000 reward : -19.649 length: 19\n",
      "step: 950000 reward : -19.934 length: 19\n",
      "step: 960000 reward : -19.559 length: 19\n"
     ]
    },
    {
     "name": "stderr",
     "output_type": "stream",
     "text": [
      "\r",
      "\u001b[32mProgress:   5%|██                                       |  ETA: 0:13:45\u001b[39m"
     ]
    },
    {
     "name": "stdout",
     "output_type": "stream",
     "text": [
      "step: 970000 reward : -19.94 length: 19\n",
      "step: 980000 reward : -19.77 length: 19\n",
      "step: 990000 reward : -19.558 length: 19\n",
      "parameters at step 1000000 saved to ./RL_models_slow/cf_sac_1000000.bson\n",
      "step: 1000000 reward : -20.034 length: 19\n"
     ]
    },
    {
     "name": "stderr",
     "output_type": "stream",
     "text": [
      "\r",
      "\u001b[32mProgress:   5%|██▏                                      |  ETA: 0:13:34\u001b[39m"
     ]
    },
    {
     "name": "stdout",
     "output_type": "stream",
     "text": [
      "step: 1010000 reward : -19.695 length: 19\n",
      "step: 1020000 reward : -19.374 length: 19\n",
      "step: 1030000 reward : -19.408 length: 19\n",
      "step: 1040000 reward : -19.944 length: 19\n"
     ]
    },
    {
     "name": "stderr",
     "output_type": "stream",
     "text": [
      "\r",
      "\u001b[32mProgress:   5%|██▏                                      |  ETA: 0:13:21\u001b[39m"
     ]
    },
    {
     "name": "stdout",
     "output_type": "stream",
     "text": [
      "step: 1050000 reward : -19.309 length: 18\n",
      "step: 1060000 reward : -19.854 length: 19\n",
      "step: 1070000 reward : -20.245 length: 19\n",
      "step: 1080000 reward : -19.763 length: 19\n"
     ]
    },
    {
     "name": "stderr",
     "output_type": "stream",
     "text": [
      "\r",
      "\u001b[32mProgress:   5%|██▎                                      |  ETA: 0:13:08\u001b[39m"
     ]
    },
    {
     "name": "stdout",
     "output_type": "stream",
     "text": [
      "step: 1090000 reward : -19.743 length: 19\n",
      "parameters at step 1100000 saved to ./RL_models_slow/cf_sac_1100000.bson\n",
      "step: 1100000 reward : -20.377 length: 19\n",
      "step: 1110000 reward : -20.752 length: 19\n",
      "step: 1120000 reward : -20.392 length: 19\n"
     ]
    },
    {
     "name": "stderr",
     "output_type": "stream",
     "text": [
      "\r",
      "\u001b[32mProgress:   6%|██▎                                      |  ETA: 0:12:56\u001b[39m"
     ]
    },
    {
     "name": "stdout",
     "output_type": "stream",
     "text": [
      "step: 1130000 reward : -20.391 length: 19\n",
      "step: 1140000 reward : -19.665 length: 19\n",
      "step: 1150000 reward : -20.237 length: 19\n"
     ]
    },
    {
     "name": "stderr",
     "output_type": "stream",
     "text": [
      "\r",
      "\u001b[32mProgress:   6%|██▍                                      |  ETA: 0:13:02\u001b[39m"
     ]
    },
    {
     "name": "stdout",
     "output_type": "stream",
     "text": [
      "step: 1160000 reward : -20.873 length: 19\n",
      "step: 1170000 reward : -20.037 length: 19\n",
      "step: 1180000 reward : -19.728 length: 19\n",
      "step: 1190000 reward : -19.846 length: 19\n",
      "parameters at step 1200000 saved to ./RL_models_slow/cf_sac_1200000.bson\n",
      "step: 1200000 reward : -20.054 length: 19\n"
     ]
    },
    {
     "name": "stderr",
     "output_type": "stream",
     "text": [
      "\r",
      "\u001b[32mProgress:   6%|██▌                                      |  ETA: 0:12:44\u001b[39m"
     ]
    },
    {
     "name": "stdout",
     "output_type": "stream",
     "text": [
      "step: 1210000 reward : -20.568 length: 19\n",
      "step: 1220000 reward : -19.95 length: 19\n",
      "step: 1230000 reward : -20.33 length: 19\n",
      "step: 1240000 reward : -19.687 length: 19\n",
      "step: 1250000 reward : -20.66 length: 19\n"
     ]
    },
    {
     "name": "stderr",
     "output_type": "stream",
     "text": [
      "\r",
      "\u001b[32mProgress:   6%|██▋                                      |  ETA: 0:12:30\u001b[39m"
     ]
    },
    {
     "name": "stdout",
     "output_type": "stream",
     "text": [
      "step: 1260000 reward : -19.946 length: 19\n",
      "step: 1270000 reward : -19.557 length: 19\n",
      "step: 1280000 reward : -20.065 length: 19\n",
      "step: 1290000 reward : -20.703 length: 19\n",
      "parameters at step 1300000 saved to ./RL_models_slow/cf_sac_1300000.bson"
     ]
    },
    {
     "name": "stderr",
     "output_type": "stream",
     "text": [
      "\r",
      "\u001b[32mProgress:   7%|██▋                                      |  ETA: 0:12:19\u001b[39m"
     ]
    },
    {
     "name": "stdout",
     "output_type": "stream",
     "text": [
      "\n",
      "step: 1300000 reward : -20.628 length: 19\n",
      "step: 1310000 reward : -20.311 length: 19\n",
      "step: 1320000 reward : -20.271 length: 19\n",
      "step: 1330000 reward : -19.498 length: 19\n",
      "step: 1340000 reward : -20.212 length: 19\n"
     ]
    },
    {
     "name": "stderr",
     "output_type": "stream",
     "text": [
      "\r",
      "\u001b[32mProgress:   7%|██▊                                      |  ETA: 0:12:06\u001b[39m"
     ]
    },
    {
     "name": "stdout",
     "output_type": "stream",
     "text": [
      "step: 1350000 reward : -19.663 length: 19\n",
      "step: 1360000 reward : -19.439 length: 19\n",
      "step: 1370000 reward : -20.664 length: 19\n",
      "step: 1380000 reward : -20.601 length: 19\n",
      "step: 1390000 reward : -19.409 length: 19\n"
     ]
    },
    {
     "name": "stderr",
     "output_type": "stream",
     "text": [
      "\r",
      "\u001b[32mProgress:   7%|██▉                                      |  ETA: 0:11:53\u001b[39m"
     ]
    },
    {
     "name": "stdout",
     "output_type": "stream",
     "text": [
      "parameters at step 1400000 saved to ./RL_models_slow/cf_sac_1400000.bson\n",
      "step: 1400000 reward : -19.923 length: 19\n",
      "step: 1410000 reward : -19.97 length: 19\n",
      "step: 1420000 reward : -20.422 length: 19\n",
      "step: 1430000 reward : -19.758 length: 19\n"
     ]
    },
    {
     "name": "stderr",
     "output_type": "stream",
     "text": [
      "\r",
      "\u001b[32mProgress:   7%|███                                      |  ETA: 0:11:43\u001b[39m"
     ]
    },
    {
     "name": "stdout",
     "output_type": "stream",
     "text": [
      "step: 1440000 reward : -20.423 length: 19\n",
      "step: 1450000 reward : -19.97 length: 19\n",
      "step: 1460000 reward : -19.836 length: 19\n",
      "step: 1470000 reward : -19.503 length: 19\n",
      "step: 1480000 reward : -19.859 length: 19\n"
     ]
    },
    {
     "name": "stderr",
     "output_type": "stream",
     "text": [
      "\r",
      "\u001b[32mProgress:   7%|███                                      |  ETA: 0:11:32\u001b[39m"
     ]
    },
    {
     "name": "stdout",
     "output_type": "stream",
     "text": [
      "step: 1490000 reward : -20.324 length: 19\n",
      "parameters at step 1500000 saved to ./RL_models_slow/cf_sac_1500000.bson\n",
      "step: 1500000 reward : -20.758 length: 19\n",
      "step: 1510000 reward : -20.233 length: 19\n",
      "step: 1520000 reward : -20.457 length: 19\n"
     ]
    },
    {
     "name": "stderr",
     "output_type": "stream",
     "text": [
      "\r",
      "\u001b[32mProgress:   8%|███▏                                     |  ETA: 0:11:24\u001b[39m"
     ]
    },
    {
     "name": "stdout",
     "output_type": "stream",
     "text": [
      "step: 1530000 reward : -19.669 length: 19\n",
      "step: 1540000 reward : -20.128 length: 19\n",
      "step: 1550000 reward : -20.345 length: 19\n",
      "step: 1560000 reward : -19.707 length: 19\n",
      "step: 1570000 reward : -19.296 length: 19\n"
     ]
    },
    {
     "name": "stderr",
     "output_type": "stream",
     "text": [
      "\r",
      "\u001b[32mProgress:   8%|███▎                                     |  ETA: 0:11:13\u001b[39m"
     ]
    },
    {
     "name": "stdout",
     "output_type": "stream",
     "text": [
      "step: 1580000 reward : -19.695 length: 19\n",
      "step: 1590000 reward : -20.722 length: 19\n",
      "parameters at step 1600000 saved to ./RL_models_slow/cf_sac_1600000.bson\n",
      "step: 1600000 reward : -19.666 length: 19\n",
      "step: 1610000 reward : -20.246 length: 19\n",
      "step: 1620000 reward : -20.191 length: 19\n"
     ]
    },
    {
     "name": "stderr",
     "output_type": "stream",
     "text": [
      "\r",
      "\u001b[32mProgress:   8%|███▍                                     |  ETA: 0:11:04\u001b[39m"
     ]
    },
    {
     "name": "stdout",
     "output_type": "stream",
     "text": [
      "step: 1630000 reward : -20.43 length: 19\n",
      "step: 1640000 reward : -19.816 length: 19\n",
      "step: 1650000 reward : -20.639 length: 19\n",
      "step: 1660000 reward : -20.417 length: 19\n"
     ]
    },
    {
     "name": "stderr",
     "output_type": "stream",
     "text": [
      "\r",
      "\u001b[32mProgress:   8%|███▍                                     |  ETA: 0:10:57\u001b[39m"
     ]
    },
    {
     "name": "stdout",
     "output_type": "stream",
     "text": [
      "step: 1670000 reward : -19.413 length: 19\n",
      "step: 1680000 reward : -19.597 length: 19\n",
      "step: 1690000 reward : -19.921 length: 19\n",
      "parameters at step 1700000 saved to ./RL_models_slow/cf_sac_1700000.bson\n",
      "step: 1700000 reward : -19.825 length: 19\n"
     ]
    },
    {
     "name": "stderr",
     "output_type": "stream",
     "text": [
      "\r",
      "\u001b[32mProgress:   9%|███▌                                     |  ETA: 0:10:50\u001b[39m"
     ]
    },
    {
     "name": "stdout",
     "output_type": "stream",
     "text": [
      "step: 1710000 reward : -19.822 length: 19\n",
      "step: 1720000 reward : -20.224 length: 19\n",
      "step: 1730000 reward : -19.819 length: 19\n",
      "step: 1740000 reward : -19.972 length: 19\n",
      "step: 1750000 reward : -20.49 length: 19\n"
     ]
    },
    {
     "name": "stderr",
     "output_type": "stream",
     "text": [
      "\r",
      "\u001b[32mProgress:   9%|███▋                                     |  ETA: 0:10:52\u001b[39m"
     ]
    },
    {
     "name": "stdout",
     "output_type": "stream",
     "text": [
      "step: 1760000 reward : -19.713 length: 18\n",
      "step: 1770000 reward : -19.989 length: 19\n",
      "step: 1780000 reward : -20.118 length: 19\n",
      "step: 1790000 reward : -21.454 length: 19\n",
      "parameters at step 1800000 saved to ./RL_models_slow/cf_sac_1800000.bson\n",
      "step: 1800000 reward : -20.141 length: 19\n"
     ]
    },
    {
     "name": "stderr",
     "output_type": "stream",
     "text": [
      "\r",
      "\u001b[32mProgress:   9%|███▊                                     |  ETA: 0:10:43\u001b[39m"
     ]
    },
    {
     "name": "stdout",
     "output_type": "stream",
     "text": [
      "step: 1810000 reward : -19.996 length: 19\n",
      "step: 1820000 reward : -19.806 length: 19\n",
      "step: 1830000 reward : -19.687 length: 19\n",
      "step: 1840000 reward : -20.164 length: 19\n"
     ]
    },
    {
     "name": "stderr",
     "output_type": "stream",
     "text": [
      "\r",
      "\u001b[32mProgress:   9%|███▊                                     |  ETA: 0:10:37\u001b[39m"
     ]
    },
    {
     "name": "stdout",
     "output_type": "stream",
     "text": [
      "step: 1850000 reward : -20.104 length: 19\n",
      "step: 1860000 reward : -20.889 length: 19\n",
      "step: 1870000 reward : -19.503 length: 19\n",
      "step: 1880000 reward : -19.476 length: 19\n"
     ]
    },
    {
     "name": "stderr",
     "output_type": "stream",
     "text": [
      "\r",
      "\u001b[32mProgress:   9%|███▉                                     |  ETA: 0:10:32\u001b[39m"
     ]
    },
    {
     "name": "stdout",
     "output_type": "stream",
     "text": [
      "step: 1890000 reward : -20.019 length: 19\n",
      "parameters at step 1900000 saved to ./RL_models_slow/cf_sac_1900000.bson\n",
      "step: 1900000 reward : -19.618 length: 19\n",
      "step: 1910000 reward : -19.303 length: 19\n",
      "step: 1920000 reward : -19.734 length: 19\n"
     ]
    },
    {
     "name": "stderr",
     "output_type": "stream",
     "text": [
      "\r",
      "\u001b[32mProgress:  10%|████                                     |  ETA: 0:10:26\u001b[39m"
     ]
    },
    {
     "name": "stdout",
     "output_type": "stream",
     "text": [
      "step: 1930000 reward : -19.661 length: 19\n",
      "step: 1940000 reward : -19.817 length: 19\n",
      "step: 1950000 reward : -19.73 length: 19\n",
      "step: 1960000 reward : -19.897 length: 19\n",
      "step: 1970000 reward : -19.52 length: 19\n"
     ]
    },
    {
     "name": "stderr",
     "output_type": "stream",
     "text": [
      "\r",
      "\u001b[32mProgress:  10%|████                                     |  ETA: 0:10:21\u001b[39m"
     ]
    },
    {
     "name": "stdout",
     "output_type": "stream",
     "text": [
      "step: 1980000 reward : -19.932 length: 19\n",
      "step: 1990000 reward : -19.469 length: 19\n",
      "parameters at step 2000000 saved to ./RL_models_slow/cf_sac_2000000.bson\n",
      "step: 2000000 reward : -20.037 length: 19\n",
      "step: 2010000 reward : -19.524 length: 19\n"
     ]
    },
    {
     "name": "stderr",
     "output_type": "stream",
     "text": [
      "\r",
      "\u001b[32mProgress:  10%|████▏                                    |  ETA: 0:10:16\u001b[39m"
     ]
    },
    {
     "name": "stdout",
     "output_type": "stream",
     "text": [
      "step: 2020000 reward : -20.113 length: 19\n",
      "step: 2030000 reward : -20.319 length: 19\n",
      "step: 2040000 reward : -20.387 length: 19\n",
      "step: 2050000 reward : -20.672 length: 19\n"
     ]
    },
    {
     "name": "stderr",
     "output_type": "stream",
     "text": [
      "\r",
      "\u001b[32mProgress:  10%|████▎                                    |  ETA: 0:10:12\u001b[39m"
     ]
    },
    {
     "name": "stdout",
     "output_type": "stream",
     "text": [
      "step: 2060000 reward : -19.885 length: 19\n",
      "step: 2070000 reward : -19.808 length: 19\n",
      "step: 2080000 reward : -19.683 length: 19\n",
      "step: 2090000 reward : -20.117 length: 19\n"
     ]
    },
    {
     "name": "stderr",
     "output_type": "stream",
     "text": [
      "\r",
      "\u001b[32mProgress:  10%|████▎                                    |  ETA: 0:10:08\u001b[39m"
     ]
    },
    {
     "name": "stdout",
     "output_type": "stream",
     "text": [
      "parameters at step 2100000 saved to ./RL_models_slow/cf_sac_2100000.bson\n",
      "step: 2100000 reward : -19.843 length: 19\n",
      "step: 2110000 reward : -19.757 length: 19\n",
      "step: 2120000 reward : -19.471 length: 19\n",
      "step: 2130000 reward : -19.651 length: 19\n"
     ]
    },
    {
     "name": "stderr",
     "output_type": "stream",
     "text": [
      "\r",
      "\u001b[32mProgress:  11%|████▍                                    |  ETA: 0:10:04\u001b[39m"
     ]
    },
    {
     "name": "stdout",
     "output_type": "stream",
     "text": [
      "step: 2140000 reward : -21.026 length: 19\n",
      "step: 2150000 reward : -20.447 length: 19\n",
      "step: 2160000 reward : -19.943 length: 19\n",
      "step: 2170000 reward : -20.89 length: 19\n"
     ]
    },
    {
     "name": "stderr",
     "output_type": "stream",
     "text": [
      "\r",
      "\u001b[32mProgress:  11%|████▌                                    |  ETA: 0:09:59\u001b[39m"
     ]
    },
    {
     "name": "stdout",
     "output_type": "stream",
     "text": [
      "step: 2180000 reward : -19.611 length: 19\n",
      "step: 2190000 reward : -20.514 length: 19\n",
      "parameters at step 2200000 saved to ./RL_models_slow/cf_sac_2200000.bson\n",
      "step: 2200000 reward : -20.693 length: 19\n",
      "step: 2210000 reward : -20.264 length: 19\n"
     ]
    },
    {
     "name": "stderr",
     "output_type": "stream",
     "text": [
      "\r",
      "\u001b[32mProgress:  11%|████▌                                    |  ETA: 0:09:55\u001b[39m"
     ]
    },
    {
     "name": "stdout",
     "output_type": "stream",
     "text": [
      "step: 2220000 reward : -19.631 length: 19\n",
      "step: 2230000 reward : -19.543 length: 19\n",
      "step: 2240000 reward : -20.832 length: 19\n",
      "step: 2250000 reward : -20.021 length: 19\n"
     ]
    },
    {
     "name": "stderr",
     "output_type": "stream",
     "text": [
      "\r",
      "\u001b[32mProgress:  11%|████▋                                    |  ETA: 0:09:50\u001b[39m"
     ]
    },
    {
     "name": "stdout",
     "output_type": "stream",
     "text": [
      "step: 2260000 reward : -19.952 length: 19\n",
      "step: 2270000 reward : -19.686 length: 19\n",
      "step: 2280000 reward : -20.611 length: 19\n",
      "step: 2290000 reward : -19.546 length: 19\n",
      "parameters at step 2300000 saved to ./RL_models_slow/cf_sac_2300000.bson"
     ]
    },
    {
     "name": "stderr",
     "output_type": "stream",
     "text": [
      "\r",
      "\u001b[32mProgress:  12%|████▊                                    |  ETA: 0:09:47\u001b[39m"
     ]
    },
    {
     "name": "stdout",
     "output_type": "stream",
     "text": [
      "\n",
      "step: 2300000 reward : -19.509 length: 19\n",
      "step: 2310000 reward : -20.95 length: 19\n",
      "step: 2320000 reward : -19.633 length: 19\n",
      "step: 2330000 reward : -19.874 length: 19\n"
     ]
    },
    {
     "name": "stderr",
     "output_type": "stream",
     "text": [
      "\r",
      "\u001b[32mProgress:  12%|████▊                                    |  ETA: 0:09:44\u001b[39m"
     ]
    },
    {
     "name": "stdout",
     "output_type": "stream",
     "text": [
      "step: 2340000 reward : -19.708 length: 19\n",
      "step: 2350000 reward : -19.833 length: 19\n",
      "step: 2360000 reward : -19.599 length: 19\n",
      "step: 2370000 reward : -20.154 length: 19\n"
     ]
    },
    {
     "name": "stderr",
     "output_type": "stream",
     "text": [
      "\r",
      "\u001b[32mProgress:  12%|████▉                                    |  ETA: 0:09:45\u001b[39m"
     ]
    },
    {
     "name": "stdout",
     "output_type": "stream",
     "text": [
      "step: 2380000 reward : -20.071 length: 19\n",
      "step: 2390000 reward : -20.242 length: 19\n",
      "parameters at step 2400000 saved to ./RL_models_slow/cf_sac_2400000.bson\n",
      "step: 2400000 reward : -20.019 length: 19\n",
      "step: 2410000 reward : -20.389 length: 19\n"
     ]
    },
    {
     "name": "stderr",
     "output_type": "stream",
     "text": [
      "\r",
      "\u001b[32mProgress:  12%|█████                                    |  ETA: 0:09:42\u001b[39m"
     ]
    },
    {
     "name": "stdout",
     "output_type": "stream",
     "text": [
      "step: 2420000 reward : -19.836 length: 19\n",
      "step: 2430000 reward : -20.124 length: 19\n",
      "step: 2440000 reward : -20.383 length: 19\n",
      "step: 2450000 reward : -19.473 length: 19\n"
     ]
    },
    {
     "name": "stderr",
     "output_type": "stream",
     "text": [
      "\r",
      "\u001b[32mProgress:  12%|█████                                    |  ETA: 0:09:40\u001b[39m"
     ]
    },
    {
     "name": "stdout",
     "output_type": "stream",
     "text": [
      "step: 2460000 reward : -19.515 length: 19\n",
      "step: 2470000 reward : -21.621 length: 19\n",
      "step: 2480000 reward : -19.885 length: 19\n"
     ]
    },
    {
     "name": "stderr",
     "output_type": "stream",
     "text": [
      "\r",
      "\u001b[32mProgress:  12%|█████▏                                   |  ETA: 0:09:37\u001b[39m"
     ]
    },
    {
     "name": "stdout",
     "output_type": "stream",
     "text": [
      "step: 2490000 reward : -19.856 length: 19\n",
      "parameters at step 2500000 saved to ./RL_models_slow/cf_sac_2500000.bson\n",
      "step: 2500000 reward : -20.685 length: 19\n",
      "step: 2510000 reward : -19.988 length: 19\n",
      "step: 2520000 reward : -19.859 length: 19\n"
     ]
    },
    {
     "name": "stderr",
     "output_type": "stream",
     "text": [
      "\r",
      "\u001b[32mProgress:  13%|█████▏                                   |  ETA: 0:09:34\u001b[39m"
     ]
    },
    {
     "name": "stdout",
     "output_type": "stream",
     "text": [
      "step: 2530000 reward : -19.86 length: 19\n",
      "step: 2540000 reward : -19.52 length: 19\n",
      "step: 2550000 reward : -20.967 length: 19\n",
      "step: 2560000 reward : -20.034 length: 19\n"
     ]
    },
    {
     "name": "stderr",
     "output_type": "stream",
     "text": [
      "\r",
      "\u001b[32mProgress:  13%|█████▎                                   |  ETA: 0:09:31\u001b[39m"
     ]
    },
    {
     "name": "stdout",
     "output_type": "stream",
     "text": [
      "step: 2570000 reward : -19.91 length: 19\n",
      "step: 2580000 reward : -19.974 length: 19\n",
      "step: 2590000 reward : -20.569 length: 19\n",
      "parameters at step 2600000 saved to ./RL_models_slow/cf_sac_2600000.bson\n",
      "step: 2600000 reward : -19.877 length: 19\n"
     ]
    },
    {
     "name": "stderr",
     "output_type": "stream",
     "text": [
      "\r",
      "\u001b[32mProgress:  13%|█████▍                                   |  ETA: 0:09:27\u001b[39m"
     ]
    },
    {
     "name": "stdout",
     "output_type": "stream",
     "text": [
      "step: 2610000 reward : -20.489 length: 19\n",
      "step: 2620000 reward : -19.873 length: 19\n",
      "step: 2630000 reward : -20.86 length: 19\n",
      "step: 2640000 reward : -19.674 length: 19\n",
      "step: 2650000 reward : -19.783 length: 19\n"
     ]
    },
    {
     "name": "stderr",
     "output_type": "stream",
     "text": [
      "\r",
      "\u001b[32mProgress:  13%|█████▌                                   |  ETA: 0:09:23\u001b[39m"
     ]
    },
    {
     "name": "stdout",
     "output_type": "stream",
     "text": [
      "step: 2660000 reward : -20.584 length: 20\n",
      "step: 2670000 reward : -19.628 length: 19\n",
      "step: 2680000 reward : -19.502 length: 19\n",
      "step: 2690000 reward : -19.87 length: 19\n",
      "parameters at step 2700000 saved to ./RL_models_slow/cf_sac_2700000.bson\n",
      "step: 2700000 reward : -20.734 length: 19\n"
     ]
    },
    {
     "name": "stderr",
     "output_type": "stream",
     "text": [
      "\r",
      "\u001b[32mProgress:  14%|█████▌                                   |  ETA: 0:09:17\u001b[39m"
     ]
    },
    {
     "name": "stdout",
     "output_type": "stream",
     "text": [
      "step: 2710000 reward : -20.257 length: 19\n",
      "step: 2720000 reward : -20.413 length: 19\n",
      "step: 2730000 reward : -21.134 length: 19\n",
      "step: 2740000 reward : -19.85 length: 19\n"
     ]
    },
    {
     "name": "stderr",
     "output_type": "stream",
     "text": [
      "\r",
      "\u001b[32mProgress:  14%|█████▋                                   |  ETA: 0:09:14\u001b[39m"
     ]
    },
    {
     "name": "stdout",
     "output_type": "stream",
     "text": [
      "step: 2750000 reward : -19.779 length: 19\n",
      "step: 2760000 reward : -19.819 length: 19\n",
      "step: 2770000 reward : -20.891 length: 19\n",
      "step: 2780000 reward : -20.073 length: 19\n",
      "step: 2790000 reward : -21.616 length: 19\n"
     ]
    },
    {
     "name": "stderr",
     "output_type": "stream",
     "text": [
      "\r",
      "\u001b[32mProgress:  14%|█████▊                                   |  ETA: 0:09:09\u001b[39m"
     ]
    },
    {
     "name": "stdout",
     "output_type": "stream",
     "text": [
      "parameters at step 2800000 saved to ./RL_models_slow/cf_sac_2800000.bson\n",
      "step: 2800000 reward : -20.064 length: 19\n",
      "step: 2810000 reward : -19.998 length: 19\n",
      "step: 2820000 reward : -20.09 length: 19\n",
      "step: 2830000 reward : -19.861 length: 19\n",
      "step: 2840000 reward : -20.252 length: 19\n"
     ]
    },
    {
     "name": "stderr",
     "output_type": "stream",
     "text": [
      "\r",
      "\u001b[32mProgress:  14%|█████▉                                   |  ETA: 0:09:05\u001b[39m"
     ]
    },
    {
     "name": "stdout",
     "output_type": "stream",
     "text": [
      "step: 2850000 reward : -19.699 length: 19\n",
      "step: 2860000 reward : -19.845 length: 19\n",
      "step: 2870000 reward : -19.344 length: 19\n",
      "step: 2880000 reward : -20.506 length: 19\n"
     ]
    },
    {
     "name": "stderr",
     "output_type": "stream",
     "text": [
      "\r",
      "\u001b[32mProgress:  14%|█████▉                                   |  ETA: 0:09:00\u001b[39m"
     ]
    },
    {
     "name": "stdout",
     "output_type": "stream",
     "text": [
      "step: 2890000 reward : -20.458 length: 19\n",
      "parameters at step 2900000 saved to ./RL_models_slow/cf_sac_2900000.bson\n",
      "step: 2900000 reward : -19.518 length: 19\n",
      "step: 2910000 reward : -20.872 length: 19\n",
      "step: 2920000 reward : -20.031 length: 19\n",
      "step: 2930000 reward : -19.655 length: 19\n",
      "step: 2940000 reward : -20.121 length: 19\n"
     ]
    },
    {
     "name": "stderr",
     "output_type": "stream",
     "text": [
      "\r",
      "\u001b[32mProgress:  15%|██████                                   |  ETA: 0:09:01\u001b[39m"
     ]
    },
    {
     "name": "stdout",
     "output_type": "stream",
     "text": [
      "step: 2950000 reward : -21.226 length: 19\n",
      "step: 2960000 reward : -19.632 length: 19\n",
      "step: 2970000 reward : -19.517 length: 19\n",
      "step: 2980000 reward : -20.058 length: 19\n",
      "step: 2990000 reward : -19.947 length: 19\n"
     ]
    },
    {
     "name": "stderr",
     "output_type": "stream",
     "text": [
      "\r",
      "\u001b[32mProgress:  15%|██████▏                                  |  ETA: 0:08:56\u001b[39m"
     ]
    },
    {
     "name": "stdout",
     "output_type": "stream",
     "text": [
      "parameters at step 3000000 saved to ./RL_models_slow/cf_sac_3000000.bson\n",
      "step: 3000000 reward : -20.157 length: 19\n",
      "step: 3010000 reward : -19.741 length: 19\n",
      "step: 3020000 reward : -20.438 length: 19\n",
      "step: 3030000 reward : -20.134 length: 19\n",
      "step: 3040000 reward : -20.093 length: 19\n"
     ]
    },
    {
     "name": "stderr",
     "output_type": "stream",
     "text": [
      "\r",
      "\u001b[32mProgress:  15%|██████▎                                  |  ETA: 0:08:52\u001b[39m"
     ]
    },
    {
     "name": "stdout",
     "output_type": "stream",
     "text": [
      "step: 3050000 reward : -20.886 length: 19\n",
      "step: 3060000 reward : -20.571 length: 20\n",
      "step: 3070000 reward : -19.932 length: 19\n",
      "step: 3080000 reward : -19.822 length: 19\n"
     ]
    },
    {
     "name": "stderr",
     "output_type": "stream",
     "text": [
      "\r",
      "\u001b[32mProgress:  15%|██████▍                                  |  ETA: 0:08:50\u001b[39m"
     ]
    },
    {
     "name": "stdout",
     "output_type": "stream",
     "text": [
      "step: 3090000 reward : -19.565 length: 19\n",
      "parameters at step 3100000 saved to ./RL_models_slow/cf_sac_3100000.bson\n",
      "step: 3100000 reward : -20.174 length: 19\n",
      "step: 3110000 reward : -20.171 length: 19\n",
      "step: 3120000 reward : -20.211 length: 19\n"
     ]
    },
    {
     "name": "stderr",
     "output_type": "stream",
     "text": [
      "\r",
      "\u001b[32mProgress:  16%|██████▍                                  |  ETA: 0:08:47\u001b[39m"
     ]
    },
    {
     "name": "stdout",
     "output_type": "stream",
     "text": [
      "step: 3130000 reward : -19.911 length: 19\n",
      "step: 3140000 reward : -19.944 length: 19\n",
      "step: 3150000 reward : -19.982 length: 19\n",
      "step: 3160000 reward : -20.049 length: 19\n"
     ]
    },
    {
     "name": "stderr",
     "output_type": "stream",
     "text": [
      "\r",
      "\u001b[32mProgress:  16%|██████▌                                  |  ETA: 0:08:44\u001b[39m"
     ]
    },
    {
     "name": "stdout",
     "output_type": "stream",
     "text": [
      "step: 3170000 reward : -20.568 length: 19\n",
      "step: 3180000 reward : -19.787 length: 19\n",
      "step: 3190000 reward : -20.539 length: 19\n",
      "parameters at step 3200000 saved to ./RL_models_slow/cf_sac_3200000.bson\n",
      "step: 3200000 reward : -20.675 length: 19\n"
     ]
    },
    {
     "name": "stderr",
     "output_type": "stream",
     "text": [
      "\r",
      "\u001b[32mProgress:  16%|██████▋                                  |  ETA: 0:08:42\u001b[39m"
     ]
    },
    {
     "name": "stdout",
     "output_type": "stream",
     "text": [
      "step: 3210000 reward : -20.595 length: 19\n",
      "step: 3220000 reward : -19.949 length: 19\n",
      "step: 3230000 reward : -20.045 length: 19\n",
      "step: 3240000 reward : -19.943 length: 19\n",
      "step: 3250000 reward : -20.143 length: 19\n"
     ]
    },
    {
     "name": "stderr",
     "output_type": "stream",
     "text": [
      "\r",
      "\u001b[32mProgress:  16%|██████▋                                  |  ETA: 0:08:40\u001b[39m"
     ]
    },
    {
     "name": "stdout",
     "output_type": "stream",
     "text": [
      "step: 3260000 reward : -19.548 length: 19\n",
      "step: 3270000 reward : -19.658 length: 19\n",
      "step: 3280000 reward : -19.473 length: 19\n",
      "step: 3290000 reward : -20.344 length: 19\n"
     ]
    },
    {
     "name": "stderr",
     "output_type": "stream",
     "text": [
      "\r",
      "\u001b[32mProgress:  16%|██████▊                                  |  ETA: 0:08:37\u001b[39m"
     ]
    },
    {
     "name": "stdout",
     "output_type": "stream",
     "text": [
      "parameters at step 3300000 saved to ./RL_models_slow/cf_sac_3300000.bson\n",
      "step: 3300000 reward : -19.926 length: 19\n",
      "step: 3310000 reward : -20.808 length: 19\n",
      "step: 3320000 reward : -19.744 length: 19\n",
      "step: 3330000 reward : -19.952 length: 19\n"
     ]
    },
    {
     "name": "stderr",
     "output_type": "stream",
     "text": [
      "\r",
      "\u001b[32mProgress:  17%|██████▉                                  |  ETA: 0:08:36\u001b[39m"
     ]
    },
    {
     "name": "stdout",
     "output_type": "stream",
     "text": [
      "step: 3340000 reward : -19.419 length: 19\n",
      "step: 3350000 reward : -19.77 length: 19\n",
      "step: 3360000 reward : -19.859 length: 19\n",
      "step: 3370000 reward : -20.156 length: 19\n"
     ]
    },
    {
     "name": "stderr",
     "output_type": "stream",
     "text": [
      "\r",
      "\u001b[32mProgress:  17%|██████▉                                  |  ETA: 0:08:32\u001b[39m"
     ]
    },
    {
     "name": "stdout",
     "output_type": "stream",
     "text": [
      "step: 3380000 reward : -20.102 length: 19\n",
      "step: 3390000 reward : -19.823 length: 19\n",
      "parameters at step 3400000 saved to ./RL_models_slow/cf_sac_3400000.bson\n",
      "step: 3400000 reward : -19.891 length: 19\n",
      "step: 3410000 reward : -19.85 length: 19\n",
      "step: 3420000 reward : -19.687 length: 19\n"
     ]
    },
    {
     "name": "stderr",
     "output_type": "stream",
     "text": [
      "\r",
      "\u001b[32mProgress:  17%|███████                                  |  ETA: 0:08:30\u001b[39m"
     ]
    },
    {
     "name": "stdout",
     "output_type": "stream",
     "text": [
      "step: 3430000 reward : -19.906 length: 19\n",
      "step: 3440000 reward : -20.27 length: 19\n",
      "step: 3450000 reward : -20.328 length: 19\n",
      "step: 3460000 reward : -20.886 length: 19\n"
     ]
    },
    {
     "name": "stderr",
     "output_type": "stream",
     "text": [
      "\r",
      "\u001b[32mProgress:  17%|███████▏                                 |  ETA: 0:08:28\u001b[39m"
     ]
    },
    {
     "name": "stdout",
     "output_type": "stream",
     "text": [
      "step: 3470000 reward : -19.854 length: 19\n",
      "step: 3480000 reward : -20.636 length: 19\n",
      "step: 3490000 reward : -20.626 length: 19\n",
      "parameters at step 3500000 saved to ./RL_models_slow/cf_sac_3500000.bson\n",
      "step: 3500000 reward : -19.865 length: 19\n"
     ]
    },
    {
     "name": "stderr",
     "output_type": "stream",
     "text": [
      "\r",
      "\u001b[32mProgress:  18%|███████▏                                 |  ETA: 0:08:25\u001b[39m"
     ]
    },
    {
     "name": "stdout",
     "output_type": "stream",
     "text": [
      "step: 3510000 reward : -20.487 length: 19\n",
      "step: 3520000 reward : -19.675 length: 19\n",
      "step: 3530000 reward : -20.389 length: 19\n",
      "step: 3540000 reward : -20.841 length: 19\n"
     ]
    },
    {
     "name": "stderr",
     "output_type": "stream",
     "text": [
      "\r",
      "\u001b[32mProgress:  18%|███████▎                                 |  ETA: 0:08:28\u001b[39m"
     ]
    },
    {
     "name": "stdout",
     "output_type": "stream",
     "text": [
      "step: 3550000 reward : -19.493 length: 19\n",
      "step: 3560000 reward : -19.522 length: 19\n",
      "step: 3570000 reward : -20.205 length: 19\n",
      "step: 3580000 reward : -19.996 length: 19\n"
     ]
    },
    {
     "name": "stderr",
     "output_type": "stream",
     "text": [
      "\r",
      "\u001b[32mProgress:  18%|███████▍                                 |  ETA: 0:08:25\u001b[39m"
     ]
    },
    {
     "name": "stdout",
     "output_type": "stream",
     "text": [
      "step: 3590000 reward : -20.014 length: 19\n",
      "parameters at step 3600000 saved to ./RL_models_slow/cf_sac_3600000.bson\n",
      "step: 3600000 reward : -20.347 length: 19\n",
      "step: 3610000 reward : -20.274 length: 19\n",
      "step: 3620000 reward : -19.583 length: 19\n"
     ]
    },
    {
     "name": "stderr",
     "output_type": "stream",
     "text": [
      "\r",
      "\u001b[32mProgress:  18%|███████▍                                 |  ETA: 0:08:24\u001b[39m"
     ]
    },
    {
     "name": "stdout",
     "output_type": "stream",
     "text": [
      "step: 3630000 reward : -20.089 length: 19\n",
      "step: 3640000 reward : -20.138 length: 19\n",
      "step: 3650000 reward : -19.731 length: 19\n"
     ]
    },
    {
     "name": "stderr",
     "output_type": "stream",
     "text": [
      "\r",
      "\u001b[32mProgress:  18%|███████▌                                 |  ETA: 0:08:22\u001b[39m"
     ]
    },
    {
     "name": "stdout",
     "output_type": "stream",
     "text": [
      "step: 3660000 reward : -20.596 length: 19\n",
      "step: 3670000 reward : -19.548 length: 19\n",
      "step: 3680000 reward : -20.918 length: 19\n",
      "step: 3690000 reward : -21.137 length: 19\n",
      "parameters at step 3700000 saved to ./RL_models_slow/cf_sac_3700000.bson"
     ]
    },
    {
     "name": "stderr",
     "output_type": "stream",
     "text": [
      "\r",
      "\u001b[32mProgress:  19%|███████▋                                 |  ETA: 0:08:21\u001b[39m"
     ]
    },
    {
     "name": "stdout",
     "output_type": "stream",
     "text": [
      "\n",
      "step: 3700000 reward : -20.164 length: 19\n",
      "step: 3710000 reward : -20.569 length: 19\n",
      "step: 3720000 reward : -19.981 length: 19\n",
      "step: 3730000 reward : -19.819 length: 19\n"
     ]
    },
    {
     "name": "stderr",
     "output_type": "stream",
     "text": [
      "\r",
      "\u001b[32mProgress:  19%|███████▋                                 |  ETA: 0:08:19\u001b[39m"
     ]
    },
    {
     "name": "stdout",
     "output_type": "stream",
     "text": [
      "step: 3740000 reward : -20.538 length: 19\n",
      "step: 3750000 reward : -20.118 length: 19\n",
      "step: 3760000 reward : -19.645 length: 19\n"
     ]
    },
    {
     "name": "stderr",
     "output_type": "stream",
     "text": [
      "\r",
      "\u001b[32mProgress:  19%|███████▊                                 |  ETA: 0:08:18\u001b[39m"
     ]
    },
    {
     "name": "stdout",
     "output_type": "stream",
     "text": [
      "step: 3770000 reward : -20.127 length: 19\n",
      "step: 3780000 reward : -20.811 length: 19\n",
      "step: 3790000 reward : -19.805 length: 19\n",
      "parameters at step 3800000 saved to ./RL_models_slow/cf_sac_3800000.bson\n",
      "step: 3800000 reward : -21.956 length: 19\n"
     ]
    },
    {
     "name": "stderr",
     "output_type": "stream",
     "text": [
      "\r",
      "\u001b[32mProgress:  19%|███████▊                                 |  ETA: 0:08:16\u001b[39m"
     ]
    },
    {
     "name": "stdout",
     "output_type": "stream",
     "text": [
      "step: 3810000 reward : -19.759 length: 19\n",
      "step: 3820000 reward : -19.844 length: 19\n",
      "step: 3830000 reward : -19.595 length: 19\n",
      "step: 3840000 reward : -19.897 length: 19\n"
     ]
    },
    {
     "name": "stderr",
     "output_type": "stream",
     "text": [
      "\r",
      "\u001b[32mProgress:  19%|███████▉                                 |  ETA: 0:08:14\u001b[39m"
     ]
    },
    {
     "name": "stdout",
     "output_type": "stream",
     "text": [
      "step: 3850000 reward : -20.028 length: 19\n",
      "step: 3860000 reward : -20.579 length: 19\n",
      "step: 3870000 reward : -19.604 length: 19\n",
      "step: 3880000 reward : -19.945 length: 19\n"
     ]
    },
    {
     "name": "stderr",
     "output_type": "stream",
     "text": [
      "\r",
      "\u001b[32mProgress:  19%|████████                                 |  ETA: 0:08:11\u001b[39m"
     ]
    },
    {
     "name": "stdout",
     "output_type": "stream",
     "text": [
      "step: 3890000 reward : -19.894 length: 19\n",
      "parameters at step 3900000 saved to ./RL_models_slow/cf_sac_3900000.bson\n",
      "step: 3900000 reward : -19.416 length: 19\n",
      "step: 3910000 reward : -19.623 length: 19\n",
      "step: 3920000 reward : -19.528 length: 19\n",
      "step: 3930000 reward : -20.553 length: 19\n"
     ]
    },
    {
     "name": "stderr",
     "output_type": "stream",
     "text": [
      "\r",
      "\u001b[32mProgress:  20%|████████▏                                |  ETA: 0:08:09\u001b[39m"
     ]
    },
    {
     "name": "stdout",
     "output_type": "stream",
     "text": [
      "step: 3940000 reward : -19.899 length: 19\n",
      "step: 3950000 reward : -19.51 length: 19\n",
      "step: 3960000 reward : -20.018 length: 19\n",
      "step: 3970000 reward : -20.378 length: 19\n"
     ]
    },
    {
     "name": "stderr",
     "output_type": "stream",
     "text": [
      "\r",
      "\u001b[32mProgress:  20%|████████▏                                |  ETA: 0:08:08\u001b[39m"
     ]
    },
    {
     "name": "stdout",
     "output_type": "stream",
     "text": [
      "step: 3980000 reward : -20.165 length: 19\n",
      "step: 3990000 reward : -19.629 length: 19\n",
      "parameters at step 4000000 saved to ./RL_models_slow/cf_sac_4000000.bson\n",
      "step: 4000000 reward : -19.94 length: 19\n"
     ]
    },
    {
     "name": "stderr",
     "output_type": "stream",
     "text": [
      "\r",
      "\u001b[32mProgress:  20%|████████▎                                |  ETA: 0:08:06\u001b[39m"
     ]
    },
    {
     "name": "stdout",
     "output_type": "stream",
     "text": [
      "step: 4010000 reward : -20.042 length: 19\n",
      "step: 4020000 reward : -20.39 length: 19\n",
      "step: 4030000 reward : -21.418 length: 19\n",
      "step: 4040000 reward : -19.7 length: 19\n"
     ]
    },
    {
     "name": "stderr",
     "output_type": "stream",
     "text": [
      "\r",
      "\u001b[32mProgress:  20%|████████▎                                |  ETA: 0:08:04\u001b[39m"
     ]
    },
    {
     "name": "stdout",
     "output_type": "stream",
     "text": [
      "step: 4050000 reward : -19.685 length: 19\n",
      "step: 4060000 reward : -19.992 length: 19\n",
      "step: 4070000 reward : -20.149 length: 19\n",
      "step: 4080000 reward : -19.445 length: 19\n",
      "step: 4090000 reward : -19.678 length: 19\n"
     ]
    },
    {
     "name": "stderr",
     "output_type": "stream",
     "text": [
      "\r",
      "\u001b[32mProgress:  20%|████████▍                                |  ETA: 0:08:02\u001b[39m"
     ]
    },
    {
     "name": "stdout",
     "output_type": "stream",
     "text": [
      "parameters at step 4100000 saved to ./RL_models_slow/cf_sac_4100000.bson\n",
      "step: 4100000 reward : -20.429 length: 19\n",
      "step: 4110000 reward : -19.939 length: 19\n",
      "step: 4120000 reward : -19.841 length: 19\n",
      "step: 4130000 reward : -20.235 length: 19\n"
     ]
    },
    {
     "name": "stderr",
     "output_type": "stream",
     "text": [
      "\r",
      "\u001b[32mProgress:  21%|████████▌                                |  ETA: 0:08:02\u001b[39m"
     ]
    },
    {
     "name": "stdout",
     "output_type": "stream",
     "text": [
      "step: 4140000 reward : -19.639 length: 19\n",
      "step: 4150000 reward : -21.577 length: 19\n",
      "step: 4160000 reward : -20.247 length: 19\n",
      "step: 4170000 reward : -19.752 length: 19\n",
      "step: 4180000 reward : -19.808 length: 19\n"
     ]
    },
    {
     "name": "stderr",
     "output_type": "stream",
     "text": [
      "\r",
      "\u001b[32mProgress:  21%|████████▋                                |  ETA: 0:07:59\u001b[39m"
     ]
    },
    {
     "name": "stdout",
     "output_type": "stream",
     "text": [
      "step: 4190000 reward : -19.841 length: 19\n",
      "parameters at step 4200000 saved to ./RL_models_slow/cf_sac_4200000.bson\n",
      "step: 4200000 reward : -19.745 length: 19\n",
      "step: 4210000 reward : -20.424 length: 19\n",
      "step: 4220000 reward : -19.811 length: 19\n",
      "step: 4230000 reward : -21.294 length: 19\n"
     ]
    },
    {
     "name": "stderr",
     "output_type": "stream",
     "text": [
      "\r",
      "\u001b[32mProgress:  21%|████████▋                                |  ETA: 0:07:56\u001b[39m"
     ]
    },
    {
     "name": "stdout",
     "output_type": "stream",
     "text": [
      "step: 4240000 reward : -19.725 length: 19\n",
      "step: 4250000 reward : -19.608 length: 19\n",
      "step: 4260000 reward : -19.961 length: 19\n",
      "step: 4270000 reward : -19.527 length: 19\n"
     ]
    },
    {
     "name": "stderr",
     "output_type": "stream",
     "text": [
      "\r",
      "\u001b[32mProgress:  21%|████████▊                                |  ETA: 0:07:53\u001b[39m"
     ]
    },
    {
     "name": "stdout",
     "output_type": "stream",
     "text": [
      "step: 4280000 reward : -20.434 length: 19\n",
      "step: 4290000 reward : -19.606 length: 19\n",
      "parameters at step 4300000 saved to ./RL_models_slow/cf_sac_4300000.bson\n",
      "step: 4300000 reward : -20.218 length: 19\n",
      "step: 4310000 reward : -19.369 length: 19\n",
      "step: 4320000 reward : -20.464 length: 19\n"
     ]
    },
    {
     "name": "stderr",
     "output_type": "stream",
     "text": [
      "\r",
      "\u001b[32mProgress:  22%|████████▉                                |  ETA: 0:07:50\u001b[39m"
     ]
    },
    {
     "name": "stdout",
     "output_type": "stream",
     "text": [
      "step: 4330000 reward : -19.954 length: 19\n",
      "step: 4340000 reward : -20.459 length: 19\n",
      "step: 4350000 reward : -20.385 length: 19\n",
      "step: 4360000 reward : -19.661 length: 19\n",
      "step: 4370000 reward : -20.959 length: 19\n"
     ]
    },
    {
     "name": "stderr",
     "output_type": "stream",
     "text": [
      "\r",
      "\u001b[32mProgress:  22%|█████████                                |  ETA: 0:07:48\u001b[39m"
     ]
    },
    {
     "name": "stdout",
     "output_type": "stream",
     "text": [
      "step: 4380000 reward : -19.929 length: 19\n",
      "step: 4390000 reward : -20.196 length: 19\n",
      "parameters at step 4400000 saved to ./RL_models_slow/cf_sac_4400000.bson\n",
      "step: 4400000 reward : -19.605 length: 19\n",
      "step: 4410000 reward : -19.343 length: 19\n"
     ]
    },
    {
     "name": "stderr",
     "output_type": "stream",
     "text": [
      "\r",
      "\u001b[32mProgress:  22%|█████████▏                               |  ETA: 0:07:45\u001b[39m"
     ]
    },
    {
     "name": "stdout",
     "output_type": "stream",
     "text": [
      "step: 4420000 reward : -21.328 length: 19\n",
      "step: 4430000 reward : -20.368 length: 19\n",
      "step: 4440000 reward : -19.64 length: 19\n",
      "step: 4450000 reward : -20.337 length: 19\n",
      "step: 4460000 reward : -19.828 length: 19\n"
     ]
    },
    {
     "name": "stderr",
     "output_type": "stream",
     "text": [
      "\r",
      "\u001b[32mProgress:  22%|█████████▏                               |  ETA: 0:07:42\u001b[39m"
     ]
    },
    {
     "name": "stdout",
     "output_type": "stream",
     "text": [
      "step: 4470000 reward : -19.596 length: 19\n",
      "step: 4480000 reward : -20.004 length: 19\n",
      "step: 4490000 reward : -20.757 length: 19\n",
      "parameters at step 4500000 saved to ./RL_models_slow/cf_sac_4500000.bson\n",
      "step: 4500000 reward : -21.575 length: 19\n",
      "step: 4510000 reward : -19.876 length: 19\n"
     ]
    },
    {
     "name": "stderr",
     "output_type": "stream",
     "text": [
      "\r",
      "\u001b[32mProgress:  23%|█████████▎                               |  ETA: 0:07:39\u001b[39m"
     ]
    },
    {
     "name": "stdout",
     "output_type": "stream",
     "text": [
      "step: 4520000 reward : -20.043 length: 19\n",
      "step: 4530000 reward : -19.883 length: 19\n",
      "step: 4540000 reward : -19.602 length: 19\n",
      "step: 4550000 reward : -20.249 length: 19\n",
      "step: 4560000 reward : -20.359 length: 19\n"
     ]
    },
    {
     "name": "stderr",
     "output_type": "stream",
     "text": [
      "\r",
      "\u001b[32mProgress:  23%|█████████▍                               |  ETA: 0:07:36\u001b[39m"
     ]
    },
    {
     "name": "stdout",
     "output_type": "stream",
     "text": [
      "step: 4570000 reward : -20.704 length: 19\n",
      "step: 4580000 reward : -20.388 length: 19\n",
      "step: 4590000 reward : -19.846 length: 19\n",
      "parameters at step 4600000 saved to ./RL_models_slow/cf_sac_4600000.bson\n",
      "step: 4600000 reward : -19.792 length: 19\n",
      "step: 4610000 reward : -19.465 length: 19\n"
     ]
    },
    {
     "name": "stderr",
     "output_type": "stream",
     "text": [
      "\r",
      "\u001b[32mProgress:  23%|█████████▌                               |  ETA: 0:07:34\u001b[39m"
     ]
    },
    {
     "name": "stdout",
     "output_type": "stream",
     "text": [
      "step: 4620000 reward : -20.054 length: 19\n",
      "step: 4630000 reward : -20.526 length: 19\n",
      "step: 4640000 reward : -20.406 length: 19\n",
      "step: 4650000 reward : -19.607 length: 19\n",
      "step: 4660000 reward : -19.565 length: 19\n"
     ]
    },
    {
     "name": "stderr",
     "output_type": "stream",
     "text": [
      "\r",
      "\u001b[32mProgress:  23%|█████████▌                               |  ETA: 0:07:31\u001b[39m"
     ]
    },
    {
     "name": "stdout",
     "output_type": "stream",
     "text": [
      "step: 4670000 reward : -20.305 length: 19\n",
      "step: 4680000 reward : -20.514 length: 19\n",
      "step: 4690000 reward : -20.182 length: 19\n",
      "parameters at step 4700000 saved to ./RL_models_slow/cf_sac_4700000.bson\n",
      "step: 4700000 reward : -19.537 length: 19\n"
     ]
    },
    {
     "name": "stderr",
     "output_type": "stream",
     "text": [
      "\r",
      "\u001b[32mProgress:  24%|█████████▋                               |  ETA: 0:07:29\u001b[39m"
     ]
    },
    {
     "name": "stdout",
     "output_type": "stream",
     "text": [
      "step: 4710000 reward : -20.297 length: 19\n",
      "step: 4720000 reward : -20.353 length: 19\n",
      "step: 4730000 reward : -19.97 length: 19\n",
      "step: 4740000 reward : -20.074 length: 19\n"
     ]
    },
    {
     "name": "stderr",
     "output_type": "stream",
     "text": [
      "\r",
      "\u001b[32mProgress:  24%|█████████▊                               |  ETA: 0:07:29\u001b[39m"
     ]
    },
    {
     "name": "stdout",
     "output_type": "stream",
     "text": [
      "step: 4750000 reward : -19.565 length: 19\n",
      "step: 4760000 reward : -19.78 length: 19\n",
      "step: 4770000 reward : -21.011 length: 19\n",
      "step: 4780000 reward : -19.34 length: 19\n",
      "step: 4790000 reward : -21.001 length: 19\n",
      "parameters at step 4800000 saved to ./RL_models_slow/cf_sac_4800000.bson"
     ]
    },
    {
     "name": "stderr",
     "output_type": "stream",
     "text": [
      "\r",
      "\u001b[32mProgress:  24%|█████████▉                               |  ETA: 0:07:26\u001b[39m"
     ]
    },
    {
     "name": "stdout",
     "output_type": "stream",
     "text": [
      "\n",
      "step: 4800000 reward : -19.923 length: 19\n",
      "step: 4810000 reward : -19.878 length: 19\n",
      "step: 4820000 reward : -20.162 length: 19\n",
      "step: 4830000 reward : -20.695 length: 19\n",
      "step: 4840000 reward : -19.648 length: 19\n"
     ]
    },
    {
     "name": "stderr",
     "output_type": "stream",
     "text": [
      "\r",
      "\u001b[32mProgress:  24%|██████████                               |  ETA: 0:07:23\u001b[39m"
     ]
    },
    {
     "name": "stdout",
     "output_type": "stream",
     "text": [
      "step: 4850000 reward : -19.555 length: 19\n",
      "step: 4860000 reward : -19.616 length: 19\n",
      "step: 4870000 reward : -19.616 length: 19\n",
      "step: 4880000 reward : -20.016 length: 19\n",
      "step: 4890000 reward : -19.991 length: 19\n"
     ]
    },
    {
     "name": "stderr",
     "output_type": "stream",
     "text": [
      "\r",
      "\u001b[32mProgress:  24%|██████████                               |  ETA: 0:07:21\u001b[39m"
     ]
    },
    {
     "name": "stdout",
     "output_type": "stream",
     "text": [
      "parameters at step 4900000 saved to ./RL_models_slow/cf_sac_4900000.bson\n",
      "step: 4900000 reward : -21.153 length: 19\n",
      "step: 4910000 reward : -19.472 length: 19\n",
      "step: 4920000 reward : -19.786 length: 19\n",
      "step: 4930000 reward : -19.604 length: 19\n"
     ]
    },
    {
     "name": "stderr",
     "output_type": "stream",
     "text": [
      "\r",
      "\u001b[32mProgress:  25%|██████████▏                              |  ETA: 0:07:18\u001b[39m"
     ]
    },
    {
     "name": "stdout",
     "output_type": "stream",
     "text": [
      "step: 4940000 reward : -20.728 length: 19\n",
      "step: 4950000 reward : -20.115 length: 19\n",
      "step: 4960000 reward : -20.013 length: 19\n",
      "step: 4970000 reward : -19.781 length: 19\n",
      "step: 4980000 reward : -20.358 length: 19\n",
      "step: 4990000 reward : -20.019 length: 19\n"
     ]
    },
    {
     "name": "stderr",
     "output_type": "stream",
     "text": [
      "\r",
      "\u001b[32mProgress:  25%|██████████▎                              |  ETA: 0:07:16\u001b[39m"
     ]
    },
    {
     "name": "stdout",
     "output_type": "stream",
     "text": [
      "parameters at step 5000000 saved to ./RL_models_slow/cf_sac_5000000.bson\n",
      "step: 5000000 reward : -19.944 length: 19\n",
      "step: 5010000 reward : -19.71 length: 19\n",
      "step: 5020000 reward : -20.487 length: 19\n",
      "step: 5030000 reward : -20.527 length: 19\n"
     ]
    },
    {
     "name": "stderr",
     "output_type": "stream",
     "text": [
      "\r",
      "\u001b[32mProgress:  25%|██████████▍                              |  ETA: 0:07:13\u001b[39m"
     ]
    },
    {
     "name": "stdout",
     "output_type": "stream",
     "text": [
      "step: 5040000 reward : -19.447 length: 19\n",
      "step: 5050000 reward : -20.106 length: 19\n",
      "step: 5060000 reward : -19.914 length: 19\n",
      "step: 5070000 reward : -20.123 length: 19\n",
      "step: 5080000 reward : -19.806 length: 19\n",
      "step: 5090000 reward : -19.966 length: 19\n"
     ]
    },
    {
     "name": "stderr",
     "output_type": "stream",
     "text": [
      "\r",
      "\u001b[32mProgress:  25%|██████████▌                              |  ETA: 0:07:11\u001b[39m"
     ]
    },
    {
     "name": "stdout",
     "output_type": "stream",
     "text": [
      "parameters at step 5100000 saved to ./RL_models_slow/cf_sac_5100000.bson\n",
      "step: 5100000 reward : -21.031 length: 19\n",
      "step: 5110000 reward : -19.947 length: 19\n",
      "step: 5120000 reward : -20.205 length: 19\n",
      "step: 5130000 reward : -20.838 length: 19\n"
     ]
    },
    {
     "name": "stderr",
     "output_type": "stream",
     "text": [
      "\r",
      "\u001b[32mProgress:  26%|██████████▌                              |  ETA: 0:07:08\u001b[39m"
     ]
    },
    {
     "name": "stdout",
     "output_type": "stream",
     "text": [
      "step: 5140000 reward : -20.218 length: 19\n",
      "step: 5150000 reward : -19.905 length: 19\n",
      "step: 5160000 reward : -20.358 length: 19\n",
      "step: 5170000 reward : -19.997 length: 19\n",
      "step: 5180000 reward : -19.751 length: 19\n"
     ]
    },
    {
     "name": "stderr",
     "output_type": "stream",
     "text": [
      "\r",
      "\u001b[32mProgress:  26%|██████████▋                              |  ETA: 0:07:06\u001b[39m"
     ]
    },
    {
     "name": "stdout",
     "output_type": "stream",
     "text": [
      "step: 5190000 reward : -20.553 length: 19\n",
      "parameters at step 5200000 saved to ./RL_models_slow/cf_sac_5200000.bson\n",
      "step: 5200000 reward : -20.305 length: 19\n",
      "step: 5210000 reward : -19.633 length: 19\n",
      "step: 5220000 reward : -19.885 length: 19\n",
      "step: 5230000 reward : -19.65 length: 19\n"
     ]
    },
    {
     "name": "stderr",
     "output_type": "stream",
     "text": [
      "\r",
      "\u001b[32mProgress:  26%|██████████▊                              |  ETA: 0:07:03\u001b[39m"
     ]
    },
    {
     "name": "stdout",
     "output_type": "stream",
     "text": [
      "step: 5240000 reward : -20.106 length: 19\n",
      "step: 5250000 reward : -20.663 length: 19\n",
      "step: 5260000 reward : -19.907 length: 19\n",
      "step: 5270000 reward : -19.94 length: 19\n",
      "step: 5280000 reward : -20.481 length: 19\n"
     ]
    },
    {
     "name": "stderr",
     "output_type": "stream",
     "text": [
      "\r",
      "\u001b[32mProgress:  26%|██████████▉                              |  ETA: 0:07:01\u001b[39m"
     ]
    },
    {
     "name": "stdout",
     "output_type": "stream",
     "text": [
      "step: 5290000 reward : -19.859 length: 19\n",
      "parameters at step 5300000 saved to ./RL_models_slow/cf_sac_5300000.bson\n",
      "step: 5300000 reward : -20.39 length: 19\n",
      "step: 5310000 reward : -20.145 length: 19\n",
      "step: 5320000 reward : -20.068 length: 19\n"
     ]
    },
    {
     "name": "stderr",
     "output_type": "stream",
     "text": [
      "\r",
      "\u001b[32mProgress:  27%|██████████▉                              |  ETA: 0:07:01\u001b[39m"
     ]
    },
    {
     "name": "stdout",
     "output_type": "stream",
     "text": [
      "step: 5330000 reward : -19.879 length: 19\n",
      "step: 5340000 reward : -20.34 length: 19\n",
      "step: 5350000 reward : -19.795 length: 19\n",
      "step: 5360000 reward : -19.805 length: 19\n",
      "step: 5370000 reward : -19.937 length: 19\n"
     ]
    },
    {
     "name": "stderr",
     "output_type": "stream",
     "text": [
      "\r",
      "\u001b[32mProgress:  27%|███████████                              |  ETA: 0:06:58\u001b[39m"
     ]
    },
    {
     "name": "stdout",
     "output_type": "stream",
     "text": [
      "step: 5380000 reward : -19.959 length: 19\n",
      "step: 5390000 reward : -20.375 length: 19\n",
      "parameters at step 5400000 saved to ./RL_models_slow/cf_sac_5400000.bson\n",
      "step: 5400000 reward : -20.826 length: 19\n",
      "step: 5410000 reward : -20.345 length: 19\n",
      "step: 5420000 reward : -19.492 length: 19\n"
     ]
    },
    {
     "name": "stderr",
     "output_type": "stream",
     "text": [
      "\r",
      "\u001b[32mProgress:  27%|███████████▏                             |  ETA: 0:06:56\u001b[39m"
     ]
    },
    {
     "name": "stdout",
     "output_type": "stream",
     "text": [
      "step: 5430000 reward : -19.581 length: 19\n",
      "step: 5440000 reward : -20.205 length: 19\n",
      "step: 5450000 reward : -19.978 length: 19\n",
      "step: 5460000 reward : -20.613 length: 19\n",
      "step: 5470000 reward : -19.634 length: 19\n"
     ]
    },
    {
     "name": "stderr",
     "output_type": "stream",
     "text": [
      "\r",
      "\u001b[32mProgress:  27%|███████████▎                             |  ETA: 0:06:54\u001b[39m"
     ]
    },
    {
     "name": "stdout",
     "output_type": "stream",
     "text": [
      "step: 5480000 reward : -19.683 length: 19\n",
      "step: 5490000 reward : -20.124 length: 19\n",
      "parameters at step 5500000 saved to ./RL_models_slow/cf_sac_5500000.bson\n",
      "step: 5500000 reward : -20.405 length: 19\n",
      "step: 5510000 reward : -19.813 length: 19\n",
      "step: 5520000 reward : -19.751 length: 19\n"
     ]
    },
    {
     "name": "stderr",
     "output_type": "stream",
     "text": [
      "\r",
      "\u001b[32mProgress:  28%|███████████▍                             |  ETA: 0:06:52\u001b[39m"
     ]
    },
    {
     "name": "stdout",
     "output_type": "stream",
     "text": [
      "step: 5530000 reward : -19.693 length: 19\n",
      "step: 5540000 reward : -20.743 length: 19\n",
      "step: 5550000 reward : -20.615 length: 19\n",
      "step: 5560000 reward : -19.997 length: 19\n"
     ]
    },
    {
     "name": "stderr",
     "output_type": "stream",
     "text": [
      "\r",
      "\u001b[32mProgress:  28%|███████████▍                             |  ETA: 0:06:50\u001b[39m"
     ]
    },
    {
     "name": "stdout",
     "output_type": "stream",
     "text": [
      "step: 5570000 reward : -19.504 length: 19\n",
      "step: 5580000 reward : -21.001 length: 19\n",
      "step: 5590000 reward : -20.587 length: 19\n",
      "parameters at step 5600000 saved to ./RL_models_slow/cf_sac_5600000.bson\n",
      "step: 5600000 reward : -20.849 length: 19\n",
      "step: 5610000 reward : -19.604 length: 19\n"
     ]
    },
    {
     "name": "stderr",
     "output_type": "stream",
     "text": [
      "\r",
      "\u001b[32mProgress:  28%|███████████▌                             |  ETA: 0:06:47\u001b[39m"
     ]
    },
    {
     "name": "stdout",
     "output_type": "stream",
     "text": [
      "step: 5620000 reward : -20.071 length: 19\n",
      "step: 5630000 reward : -20.028 length: 19\n",
      "step: 5640000 reward : -19.937 length: 19\n",
      "step: 5650000 reward : -20.619 length: 19\n",
      "step: 5660000 reward : -19.578 length: 19\n"
     ]
    },
    {
     "name": "stderr",
     "output_type": "stream",
     "text": [
      "\r",
      "\u001b[32mProgress:  28%|███████████▋                             |  ETA: 0:06:45\u001b[39m"
     ]
    },
    {
     "name": "stdout",
     "output_type": "stream",
     "text": [
      "step: 5670000 reward : -20.443 length: 19\n",
      "step: 5680000 reward : -20.78 length: 19\n",
      "step: 5690000 reward : -20.378 length: 19\n",
      "parameters at step 5700000 saved to ./RL_models_slow/cf_sac_5700000.bson\n",
      "step: 5700000 reward : -20.839 length: 20\n"
     ]
    },
    {
     "name": "stderr",
     "output_type": "stream",
     "text": [
      "\r",
      "\u001b[32mProgress:  29%|███████████▊                             |  ETA: 0:06:43\u001b[39m"
     ]
    },
    {
     "name": "stdout",
     "output_type": "stream",
     "text": [
      "step: 5710000 reward : -19.659 length: 18\n",
      "step: 5720000 reward : -19.854 length: 19\n",
      "step: 5730000 reward : -20.368 length: 19\n",
      "step: 5740000 reward : -21.88 length: 19\n",
      "step: 5750000 reward : -19.694 length: 19\n"
     ]
    },
    {
     "name": "stderr",
     "output_type": "stream",
     "text": [
      "\r",
      "\u001b[32mProgress:  29%|███████████▊                             |  ETA: 0:06:41\u001b[39m"
     ]
    },
    {
     "name": "stdout",
     "output_type": "stream",
     "text": [
      "step: 5760000 reward : -20.227 length: 19\n",
      "step: 5770000 reward : -20.032 length: 19\n",
      "step: 5780000 reward : -19.956 length: 19\n",
      "step: 5790000 reward : -21.242 length: 19\n",
      "parameters at step 5800000 saved to ./RL_models_slow/cf_sac_5800000.bson\n",
      "step: 5800000 reward : -20.428 length: 19\n"
     ]
    },
    {
     "name": "stderr",
     "output_type": "stream",
     "text": [
      "\r",
      "\u001b[32mProgress:  29%|███████████▉                             |  ETA: 0:06:39\u001b[39m"
     ]
    },
    {
     "name": "stdout",
     "output_type": "stream",
     "text": [
      "step: 5810000 reward : -20.409 length: 19\n",
      "step: 5820000 reward : -20.261 length: 19\n",
      "step: 5830000 reward : -20.483 length: 19\n",
      "step: 5840000 reward : -20.077 length: 19\n",
      "step: 5850000 reward : -19.675 length: 19\n"
     ]
    },
    {
     "name": "stderr",
     "output_type": "stream",
     "text": [
      "\r",
      "\u001b[32mProgress:  29%|████████████                             |  ETA: 0:06:37\u001b[39m"
     ]
    },
    {
     "name": "stdout",
     "output_type": "stream",
     "text": [
      "step: 5860000 reward : -20.052 length: 19\n",
      "step: 5870000 reward : -19.677 length: 19\n",
      "step: 5880000 reward : -19.647 length: 19\n",
      "step: 5890000 reward : -19.842 length: 19\n",
      "parameters at step 5900000 saved to ./RL_models_slow/cf_sac_5900000.bson"
     ]
    },
    {
     "name": "stderr",
     "output_type": "stream",
     "text": [
      "\r",
      "\u001b[32mProgress:  30%|████████████▏                            |  ETA: 0:06:35\u001b[39m"
     ]
    },
    {
     "name": "stdout",
     "output_type": "stream",
     "text": [
      "\n",
      "step: 5900000 reward : -20.194 length: 19\n",
      "step: 5910000 reward : -19.689 length: 19\n",
      "step: 5920000 reward : -20.65 length: 19\n",
      "step: 5930000 reward : -19.867 length: 19\n",
      "step: 5940000 reward : -20.211 length: 19\n"
     ]
    },
    {
     "name": "stderr",
     "output_type": "stream",
     "text": [
      "\r",
      "\u001b[32mProgress:  30%|████████████▏                            |  ETA: 0:06:35\u001b[39m"
     ]
    },
    {
     "name": "stdout",
     "output_type": "stream",
     "text": [
      "step: 5950000 reward : -19.298 length: 19\n",
      "step: 5960000 reward : -20.234 length: 19\n",
      "step: 5970000 reward : -20.327 length: 19\n",
      "step: 5980000 reward : -19.857 length: 19\n"
     ]
    },
    {
     "name": "stderr",
     "output_type": "stream",
     "text": [
      "\r",
      "\u001b[32mProgress:  30%|████████████▎                            |  ETA: 0:06:33\u001b[39m"
     ]
    },
    {
     "name": "stdout",
     "output_type": "stream",
     "text": [
      "step: 5990000 reward : -20.486 length: 19\n",
      "parameters at step 6000000 saved to ./RL_models_slow/cf_sac_6000000.bson\n",
      "step: 6000000 reward : -20.013 length: 19\n",
      "step: 6010000 reward : -20.032 length: 19\n",
      "step: 6020000 reward : -20.18 length: 19\n",
      "step: 6030000 reward : -20.672 length: 19\n"
     ]
    },
    {
     "name": "stderr",
     "output_type": "stream",
     "text": [
      "\r",
      "\u001b[32mProgress:  30%|████████████▍                            |  ETA: 0:06:31\u001b[39m"
     ]
    },
    {
     "name": "stdout",
     "output_type": "stream",
     "text": [
      "step: 6040000 reward : -20.001 length: 19\n",
      "step: 6050000 reward : -19.777 length: 19\n",
      "step: 6060000 reward : -20.636 length: 19\n",
      "step: 6070000 reward : -20.196 length: 19\n",
      "step: 6080000 reward : -20.207 length: 19\n"
     ]
    },
    {
     "name": "stderr",
     "output_type": "stream",
     "text": [
      "\r",
      "\u001b[32mProgress:  30%|████████████▌                            |  ETA: 0:06:29\u001b[39m"
     ]
    },
    {
     "name": "stdout",
     "output_type": "stream",
     "text": [
      "step: 6090000 reward : -20.359 length: 19\n",
      "parameters at step 6100000 saved to ./RL_models_slow/cf_sac_6100000.bson\n",
      "step: 6100000 reward : -19.517 length: 19\n",
      "step: 6110000 reward : -19.799 length: 19\n",
      "step: 6120000 reward : -19.824 length: 19\n"
     ]
    },
    {
     "name": "stderr",
     "output_type": "stream",
     "text": [
      "\r",
      "\u001b[32mProgress:  31%|████████████▋                            |  ETA: 0:06:27\u001b[39m"
     ]
    },
    {
     "name": "stdout",
     "output_type": "stream",
     "text": [
      "step: 6130000 reward : -20.246 length: 19\n",
      "step: 6140000 reward : -19.521 length: 19\n",
      "step: 6150000 reward : -19.551 length: 19\n",
      "step: 6160000 reward : -20.46 length: 19\n",
      "step: 6170000 reward : -19.603 length: 19\n"
     ]
    },
    {
     "name": "stderr",
     "output_type": "stream",
     "text": [
      "\r",
      "\u001b[32mProgress:  31%|████████████▋                            |  ETA: 0:06:24\u001b[39m"
     ]
    },
    {
     "name": "stdout",
     "output_type": "stream",
     "text": [
      "step: 6180000 reward : -20.239 length: 19\n",
      "step: 6190000 reward : -20.39 length: 19\n",
      "parameters at step 6200000 saved to ./RL_models_slow/cf_sac_6200000.bson\n",
      "step: 6200000 reward : -19.807 length: 19\n",
      "step: 6210000 reward : -21.99 length: 19\n",
      "step: 6220000 reward : -20.859 length: 19\n"
     ]
    },
    {
     "name": "stderr",
     "output_type": "stream",
     "text": [
      "\r",
      "\u001b[32mProgress:  31%|████████████▊                            |  ETA: 0:06:22\u001b[39m"
     ]
    },
    {
     "name": "stdout",
     "output_type": "stream",
     "text": [
      "step: 6230000 reward : -21.486 length: 19\n",
      "step: 6240000 reward : -20.288 length: 19\n",
      "step: 6250000 reward : -21.064 length: 19\n",
      "step: 6260000 reward : -19.606 length: 19\n",
      "step: 6270000 reward : -20.09 length: 19\n"
     ]
    },
    {
     "name": "stderr",
     "output_type": "stream",
     "text": [
      "\r",
      "\u001b[32mProgress:  31%|████████████▉                            |  ETA: 0:06:20\u001b[39m"
     ]
    },
    {
     "name": "stdout",
     "output_type": "stream",
     "text": [
      "step: 6280000 reward : -19.826 length: 19\n",
      "step: 6290000 reward : -20.515 length: 19\n",
      "parameters at step 6300000 saved to ./RL_models_slow/cf_sac_6300000.bson\n",
      "step: 6300000 reward : -20.212 length: 19\n",
      "step: 6310000 reward : -20.232 length: 19\n",
      "step: 6320000 reward : -19.541 length: 19\n",
      "step: 6330000 reward : -19.679 length: 19\n"
     ]
    },
    {
     "name": "stderr",
     "output_type": "stream",
     "text": [
      "\r",
      "\u001b[32mProgress:  32%|█████████████                            |  ETA: 0:06:18\u001b[39m"
     ]
    },
    {
     "name": "stdout",
     "output_type": "stream",
     "text": [
      "step: 6340000 reward : -20.581 length: 19\n",
      "step: 6350000 reward : -19.835 length: 19\n",
      "step: 6360000 reward : -20.178 length: 19\n",
      "step: 6370000 reward : -19.83 length: 19\n"
     ]
    },
    {
     "name": "stderr",
     "output_type": "stream",
     "text": [
      "\r",
      "\u001b[32mProgress:  32%|█████████████▏                           |  ETA: 0:06:16\u001b[39m"
     ]
    },
    {
     "name": "stdout",
     "output_type": "stream",
     "text": [
      "step: 6380000 reward : -19.761 length: 19\n",
      "step: 6390000 reward : -20.566 length: 19\n",
      "parameters at step 6400000 saved to ./RL_models_slow/cf_sac_6400000.bson\n",
      "step: 6400000 reward : -20.316 length: 19\n",
      "step: 6410000 reward : -20.299 length: 19\n",
      "step: 6420000 reward : -20.224 length: 19\n"
     ]
    },
    {
     "name": "stderr",
     "output_type": "stream",
     "text": [
      "\r",
      "\u001b[32mProgress:  32%|█████████████▏                           |  ETA: 0:06:14\u001b[39m"
     ]
    },
    {
     "name": "stdout",
     "output_type": "stream",
     "text": [
      "step: 6430000 reward : -20.79 length: 19\n",
      "step: 6440000 reward : -20.409 length: 19\n",
      "step: 6450000 reward : -19.489 length: 19\n",
      "step: 6460000 reward : -20.263 length: 19\n",
      "step: 6470000 reward : -19.671 length: 19\n"
     ]
    },
    {
     "name": "stderr",
     "output_type": "stream",
     "text": [
      "\r",
      "\u001b[32mProgress:  32%|█████████████▎                           |  ETA: 0:06:12\u001b[39m"
     ]
    },
    {
     "name": "stdout",
     "output_type": "stream",
     "text": [
      "step: 6480000 reward : -20.116 length: 19\n",
      "step: 6490000 reward : -19.601 length: 19\n",
      "parameters at step 6500000 saved to ./RL_models_slow/cf_sac_6500000.bson\n",
      "step: 6500000 reward : -19.817 length: 19\n",
      "step: 6510000 reward : -20.293 length: 19\n",
      "step: 6520000 reward : -20.886 length: 19\n"
     ]
    },
    {
     "name": "stderr",
     "output_type": "stream",
     "text": [
      "\r",
      "\u001b[32mProgress:  33%|█████████████▍                           |  ETA: 0:06:12\u001b[39m"
     ]
    },
    {
     "name": "stdout",
     "output_type": "stream",
     "text": [
      "step: 6530000 reward : -20.613 length: 19\n",
      "step: 6540000 reward : -20.249 length: 19\n",
      "step: 6550000 reward : -20.783 length: 19\n",
      "step: 6560000 reward : -19.81 length: 19\n"
     ]
    },
    {
     "name": "stderr",
     "output_type": "stream",
     "text": [
      "\r",
      "\u001b[32mProgress:  33%|█████████████▌                           |  ETA: 0:06:10\u001b[39m"
     ]
    },
    {
     "name": "stdout",
     "output_type": "stream",
     "text": [
      "step: 6570000 reward : -19.825 length: 19\n",
      "step: 6580000 reward : -19.847 length: 19\n",
      "step: 6590000 reward : -20.483 length: 19\n",
      "parameters at step 6600000 saved to ./RL_models_slow/cf_sac_6600000.bson\n",
      "step: 6600000 reward : -19.81 length: 19\n"
     ]
    },
    {
     "name": "stderr",
     "output_type": "stream",
     "text": [
      "\r",
      "\u001b[32mProgress:  33%|█████████████▌                           |  ETA: 0:06:09\u001b[39m"
     ]
    },
    {
     "name": "stdout",
     "output_type": "stream",
     "text": [
      "step: 6610000 reward : -20.076 length: 19\n",
      "step: 6620000 reward : -20.726 length: 19\n",
      "step: 6630000 reward : -19.686 length: 19\n",
      "step: 6640000 reward : -19.62 length: 19\n",
      "step: 6650000 reward : -19.706 length: 19\n"
     ]
    },
    {
     "name": "stderr",
     "output_type": "stream",
     "text": [
      "\r",
      "\u001b[32mProgress:  33%|█████████████▋                           |  ETA: 0:06:07\u001b[39m"
     ]
    },
    {
     "name": "stdout",
     "output_type": "stream",
     "text": [
      "step: 6660000 reward : -20.454 length: 19\n",
      "step: 6670000 reward : -20.639 length: 19\n",
      "step: 6680000 reward : -19.908 length: 19\n",
      "step: 6690000 reward : -20.267 length: 19\n",
      "parameters at step 6700000 saved to ./RL_models_slow/cf_sac_6700000.bson\n",
      "step: 6700000 reward : -20.524 length: 19\n"
     ]
    },
    {
     "name": "stderr",
     "output_type": "stream",
     "text": [
      "\r",
      "\u001b[32mProgress:  34%|█████████████▊                           |  ETA: 0:06:05\u001b[39m"
     ]
    },
    {
     "name": "stdout",
     "output_type": "stream",
     "text": [
      "step: 6710000 reward : -20.754 length: 19\n",
      "step: 6720000 reward : -20.743 length: 19\n",
      "step: 6730000 reward : -21.444 length: 19\n",
      "step: 6740000 reward : -19.69 length: 19\n",
      "step: 6750000 reward : -20.255 length: 19\n"
     ]
    },
    {
     "name": "stderr",
     "output_type": "stream",
     "text": [
      "\r",
      "\u001b[32mProgress:  34%|█████████████▉                           |  ETA: 0:06:03\u001b[39m"
     ]
    },
    {
     "name": "stdout",
     "output_type": "stream",
     "text": [
      "step: 6760000 reward : -19.759 length: 19\n",
      "step: 6770000 reward : -20.387 length: 19\n",
      "step: 6780000 reward : -19.947 length: 19\n",
      "step: 6790000 reward : -21.088 length: 19\n",
      "parameters at step 6800000 saved to ./RL_models_slow/cf_sac_6800000.bson\n",
      "step: 6800000 reward : -19.476 length: 19\n"
     ]
    },
    {
     "name": "stderr",
     "output_type": "stream",
     "text": [
      "\r",
      "\u001b[32mProgress:  34%|██████████████                           |  ETA: 0:06:01\u001b[39m"
     ]
    },
    {
     "name": "stdout",
     "output_type": "stream",
     "text": [
      "step: 6810000 reward : -20.762 length: 19\n",
      "step: 6820000 reward : -20.395 length: 19\n",
      "step: 6830000 reward : -19.862 length: 19\n",
      "step: 6840000 reward : -19.544 length: 19\n"
     ]
    },
    {
     "name": "stderr",
     "output_type": "stream",
     "text": [
      "\r",
      "\u001b[32mProgress:  34%|██████████████                           |  ETA: 0:05:59\u001b[39m"
     ]
    },
    {
     "name": "stdout",
     "output_type": "stream",
     "text": [
      "step: 6850000 reward : -20.18 length: 19\n",
      "step: 6860000 reward : -19.632 length: 19\n",
      "step: 6870000 reward : -20.379 length: 19\n",
      "step: 6880000 reward : -20.102 length: 19\n",
      "step: 6890000 reward : -20.213 length: 19\n",
      "parameters at step 6900000 saved to ./RL_models_slow/cf_sac_6900000.bson"
     ]
    },
    {
     "name": "stderr",
     "output_type": "stream",
     "text": [
      "\r",
      "\u001b[32mProgress:  35%|██████████████▏                          |  ETA: 0:05:57\u001b[39m"
     ]
    },
    {
     "name": "stdout",
     "output_type": "stream",
     "text": [
      "\n",
      "step: 6900000 reward : -20.701 length: 19\n",
      "step: 6910000 reward : -19.871 length: 19\n",
      "step: 6920000 reward : -19.535 length: 18\n",
      "step: 6930000 reward : -19.92 length: 19\n",
      "step: 6940000 reward : -21.106 length: 19\n"
     ]
    },
    {
     "name": "stderr",
     "output_type": "stream",
     "text": [
      "\r",
      "\u001b[32mProgress:  35%|██████████████▎                          |  ETA: 0:05:55\u001b[39m"
     ]
    },
    {
     "name": "stdout",
     "output_type": "stream",
     "text": [
      "step: 6950000 reward : -20.7 length: 19\n",
      "step: 6960000 reward : -20.104 length: 19\n",
      "step: 6970000 reward : -20.738 length: 19\n",
      "step: 6980000 reward : -20.232 length: 18\n",
      "step: 6990000 reward : -20.509 length: 19\n"
     ]
    },
    {
     "name": "stderr",
     "output_type": "stream",
     "text": [
      "\r",
      "\u001b[32mProgress:  35%|██████████████▍                          |  ETA: 0:05:53\u001b[39m"
     ]
    },
    {
     "name": "stdout",
     "output_type": "stream",
     "text": [
      "parameters at step 7000000 saved to ./RL_models_slow/cf_sac_7000000.bson\n",
      "step: 7000000 reward : -20.27 length: 19\n",
      "step: 7010000 reward : -19.403 length: 19\n",
      "step: 7020000 reward : -20.058 length: 19\n",
      "step: 7030000 reward : -19.813 length: 18\n",
      "step: 7040000 reward : -19.728 length: 19\n"
     ]
    },
    {
     "name": "stderr",
     "output_type": "stream",
     "text": [
      "\r",
      "\u001b[32mProgress:  35%|██████████████▌                          |  ETA: 0:05:52\u001b[39m"
     ]
    },
    {
     "name": "stdout",
     "output_type": "stream",
     "text": [
      "step: 7050000 reward : -20.89 length: 19\n",
      "step: 7060000 reward : -21.536 length: 19\n",
      "step: 7070000 reward : -19.673 length: 19\n",
      "step: 7080000 reward : -19.738 length: 19\n",
      "step: 7090000 reward : -19.746 length: 19\n"
     ]
    },
    {
     "name": "stderr",
     "output_type": "stream",
     "text": [
      "\r",
      "\u001b[32mProgress:  35%|██████████████▌                          |  ETA: 0:05:50\u001b[39m"
     ]
    },
    {
     "name": "stdout",
     "output_type": "stream",
     "text": [
      "parameters at step 7100000 saved to ./RL_models_slow/cf_sac_7100000.bson\n",
      "step: 7100000 reward : -20.201 length: 19\n",
      "step: 7110000 reward : -20.542 length: 19\n",
      "step: 7120000 reward : -19.779 length: 19\n",
      "step: 7130000 reward : -20.137 length: 19\n",
      "step: 7140000 reward : -19.825 length: 19\n"
     ]
    },
    {
     "name": "stderr",
     "output_type": "stream",
     "text": [
      "\r",
      "\u001b[32mProgress:  36%|██████████████▋                          |  ETA: 0:05:50\u001b[39m"
     ]
    },
    {
     "name": "stdout",
     "output_type": "stream",
     "text": [
      "step: 7150000 reward : -20.536 length: 19\n",
      "step: 7160000 reward : -19.737 length: 19\n",
      "step: 7170000 reward : -20.035 length: 19\n",
      "step: 7180000 reward : -19.727 length: 19\n"
     ]
    },
    {
     "name": "stderr",
     "output_type": "stream",
     "text": [
      "\r",
      "\u001b[32mProgress:  36%|██████████████▊                          |  ETA: 0:05:48\u001b[39m"
     ]
    },
    {
     "name": "stdout",
     "output_type": "stream",
     "text": [
      "step: 7190000 reward : -20.442 length: 19\n",
      "parameters at step 7200000 saved to ./RL_models_slow/cf_sac_7200000.bson\n",
      "step: 7200000 reward : -21.534 length: 19\n",
      "step: 7210000 reward : -19.692 length: 19\n",
      "step: 7220000 reward : -19.969 length: 19\n",
      "step: 7230000 reward : -20.1 length: 19\n"
     ]
    },
    {
     "name": "stderr",
     "output_type": "stream",
     "text": [
      "\r",
      "\u001b[32mProgress:  36%|██████████████▉                          |  ETA: 0:05:46\u001b[39m"
     ]
    },
    {
     "name": "stdout",
     "output_type": "stream",
     "text": [
      "step: 7240000 reward : -19.392 length: 19\n",
      "step: 7250000 reward : -19.999 length: 19\n",
      "step: 7260000 reward : -19.836 length: 19\n",
      "step: 7270000 reward : -19.584 length: 19\n",
      "step: 7280000 reward : -20.961 length: 20\n"
     ]
    },
    {
     "name": "stderr",
     "output_type": "stream",
     "text": [
      "\r",
      "\u001b[32mProgress:  36%|███████████████                          |  ETA: 0:05:44\u001b[39m"
     ]
    },
    {
     "name": "stdout",
     "output_type": "stream",
     "text": [
      "step: 7290000 reward : -19.666 length: 19\n",
      "parameters at step 7300000 saved to ./RL_models_slow/cf_sac_7300000.bson\n",
      "step: 7300000 reward : -19.559 length: 19\n",
      "step: 7310000 reward : -19.755 length: 19\n",
      "step: 7320000 reward : -20.709 length: 19\n",
      "step: 7330000 reward : -20.187 length: 19\n"
     ]
    },
    {
     "name": "stderr",
     "output_type": "stream",
     "text": [
      "\r",
      "\u001b[32mProgress:  37%|███████████████                          |  ETA: 0:05:43\u001b[39m"
     ]
    },
    {
     "name": "stdout",
     "output_type": "stream",
     "text": [
      "step: 7340000 reward : -19.788 length: 19\n",
      "step: 7350000 reward : -20.234 length: 19\n",
      "step: 7360000 reward : -19.363 length: 19\n",
      "step: 7370000 reward : -19.607 length: 19\n"
     ]
    },
    {
     "name": "stderr",
     "output_type": "stream",
     "text": [
      "\r",
      "\u001b[32mProgress:  37%|███████████████▏                         |  ETA: 0:05:41\u001b[39m"
     ]
    },
    {
     "name": "stdout",
     "output_type": "stream",
     "text": [
      "step: 7380000 reward : -20.185 length: 19\n",
      "step: 7390000 reward : -20.118 length: 19\n",
      "parameters at step 7400000 saved to ./RL_models_slow/cf_sac_7400000.bson\n",
      "step: 7400000 reward : -19.795 length: 19\n",
      "step: 7410000 reward : -19.898 length: 19\n",
      "step: 7420000 reward : -20.129 length: 19\n"
     ]
    },
    {
     "name": "stderr",
     "output_type": "stream",
     "text": [
      "\r",
      "\u001b[32mProgress:  37%|███████████████▎                         |  ETA: 0:05:39\u001b[39m"
     ]
    },
    {
     "name": "stdout",
     "output_type": "stream",
     "text": [
      "step: 7430000 reward : -19.753 length: 19\n",
      "step: 7440000 reward : -20.0 length: 19\n",
      "step: 7450000 reward : -20.422 length: 19\n",
      "step: 7460000 reward : -19.796 length: 19\n",
      "step: 7470000 reward : -19.621 length: 19\n"
     ]
    },
    {
     "name": "stderr",
     "output_type": "stream",
     "text": [
      "\r",
      "\u001b[32mProgress:  37%|███████████████▍                         |  ETA: 0:05:37\u001b[39m"
     ]
    },
    {
     "name": "stdout",
     "output_type": "stream",
     "text": [
      "step: 7480000 reward : -19.57 length: 19\n",
      "step: 7490000 reward : -19.7 length: 19\n",
      "parameters at step 7500000 saved to ./RL_models_slow/cf_sac_7500000.bson\n",
      "step: 7500000 reward : -19.656 length: 19\n",
      "step: 7510000 reward : -20.272 length: 19\n",
      "step: 7520000 reward : -20.972 length: 19\n"
     ]
    },
    {
     "name": "stderr",
     "output_type": "stream",
     "text": [
      "\r",
      "\u001b[32mProgress:  38%|███████████████▍                         |  ETA: 0:05:36\u001b[39m"
     ]
    },
    {
     "name": "stdout",
     "output_type": "stream",
     "text": [
      "step: 7530000 reward : -20.216 length: 19\n",
      "step: 7540000 reward : -20.28 length: 19\n",
      "step: 7550000 reward : -19.549 length: 19\n",
      "step: 7560000 reward : -20.305 length: 19\n",
      "step: 7570000 reward : -19.479 length: 19\n"
     ]
    },
    {
     "name": "stderr",
     "output_type": "stream",
     "text": [
      "\r",
      "\u001b[32mProgress:  38%|███████████████▌                         |  ETA: 0:05:34\u001b[39m"
     ]
    },
    {
     "name": "stdout",
     "output_type": "stream",
     "text": [
      "step: 7580000 reward : -19.608 length: 19\n",
      "step: 7590000 reward : -20.363 length: 19\n",
      "parameters at step 7600000 saved to ./RL_models_slow/cf_sac_7600000.bson\n",
      "step: 7600000 reward : -19.74 length: 19\n",
      "step: 7610000 reward : -20.604 length: 19\n",
      "step: 7620000 reward : -20.135 length: 19\n"
     ]
    },
    {
     "name": "stderr",
     "output_type": "stream",
     "text": [
      "\r",
      "\u001b[32mProgress:  38%|███████████████▋                         |  ETA: 0:05:32\u001b[39m"
     ]
    },
    {
     "name": "stdout",
     "output_type": "stream",
     "text": [
      "step: 7630000 reward : -20.15 length: 19\n",
      "step: 7640000 reward : -19.541 length: 19\n",
      "step: 7650000 reward : -20.056 length: 19\n",
      "step: 7660000 reward : -19.81 length: 19\n",
      "step: 7670000 reward : -20.072 length: 19\n"
     ]
    },
    {
     "name": "stderr",
     "output_type": "stream",
     "text": [
      "\r",
      "\u001b[32mProgress:  38%|███████████████▊                         |  ETA: 0:05:30\u001b[39m"
     ]
    },
    {
     "name": "stdout",
     "output_type": "stream",
     "text": [
      "step: 7680000 reward : -19.796 length: 19\n",
      "step: 7690000 reward : -19.538 length: 19\n",
      "parameters at step 7700000 saved to ./RL_models_slow/cf_sac_7700000.bson\n",
      "step: 7700000 reward : -20.094 length: 19\n",
      "step: 7710000 reward : -20.727 length: 19\n"
     ]
    },
    {
     "name": "stderr",
     "output_type": "stream",
     "text": [
      "\r",
      "\u001b[32mProgress:  39%|███████████████▉                         |  ETA: 0:05:30\u001b[39m"
     ]
    },
    {
     "name": "stdout",
     "output_type": "stream",
     "text": [
      "step: 7720000 reward : -20.153 length: 19\n",
      "step: 7730000 reward : -19.619 length: 19\n",
      "step: 7740000 reward : -19.772 length: 19\n",
      "step: 7750000 reward : -20.514 length: 19\n",
      "step: 7760000 reward : -19.875 length: 19\n"
     ]
    },
    {
     "name": "stderr",
     "output_type": "stream",
     "text": [
      "\r",
      "\u001b[32mProgress:  39%|███████████████▉                         |  ETA: 0:05:29\u001b[39m"
     ]
    },
    {
     "name": "stdout",
     "output_type": "stream",
     "text": [
      "step: 7770000 reward : -19.763 length: 18\n",
      "step: 7780000 reward : -19.8 length: 19\n",
      "step: 7790000 reward : -20.24 length: 19\n",
      "parameters at step 7800000 saved to ./RL_models_slow/cf_sac_7800000.bson\n",
      "step: 7800000 reward : -20.147 length: 19\n"
     ]
    },
    {
     "name": "stderr",
     "output_type": "stream",
     "text": [
      "\r",
      "\u001b[32mProgress:  39%|████████████████                         |  ETA: 0:05:27\u001b[39m"
     ]
    },
    {
     "name": "stdout",
     "output_type": "stream",
     "text": [
      "step: 7810000 reward : -19.771 length: 19\n",
      "step: 7820000 reward : -20.953 length: 19\n",
      "step: 7830000 reward : -20.493 length: 19\n",
      "step: 7840000 reward : -20.228 length: 19\n",
      "step: 7850000 reward : -19.543 length: 19\n"
     ]
    },
    {
     "name": "stderr",
     "output_type": "stream",
     "text": [
      "\r",
      "\u001b[32mProgress:  39%|████████████████▏                        |  ETA: 0:05:25\u001b[39m"
     ]
    },
    {
     "name": "stdout",
     "output_type": "stream",
     "text": [
      "step: 7860000 reward : -20.121 length: 19\n",
      "step: 7870000 reward : -19.587 length: 19\n",
      "step: 7880000 reward : -19.579 length: 19\n",
      "step: 7890000 reward : -20.281 length: 19\n",
      "parameters at step 7900000 saved to ./RL_models_slow/cf_sac_7900000.bson"
     ]
    },
    {
     "name": "stderr",
     "output_type": "stream",
     "text": [
      "\r",
      "\u001b[32mProgress:  40%|████████████████▎                        |  ETA: 0:05:24\u001b[39m"
     ]
    },
    {
     "name": "stdout",
     "output_type": "stream",
     "text": [
      "\n",
      "step: 7900000 reward : -19.939 length: 19\n",
      "step: 7910000 reward : -19.776 length: 19\n",
      "step: 7920000 reward : -20.571 length: 19\n",
      "step: 7930000 reward : -19.76 length: 19\n",
      "step: 7940000 reward : -20.035 length: 19\n"
     ]
    },
    {
     "name": "stderr",
     "output_type": "stream",
     "text": [
      "\r",
      "\u001b[32mProgress:  40%|████████████████▎                        |  ETA: 0:05:22\u001b[39m"
     ]
    },
    {
     "name": "stdout",
     "output_type": "stream",
     "text": [
      "step: 7950000 reward : -19.463 length: 19\n",
      "step: 7960000 reward : -20.482 length: 20\n",
      "step: 7970000 reward : -19.581 length: 19\n",
      "step: 7980000 reward : -19.33 length: 18\n",
      "step: 7990000 reward : -19.629 length: 19\n"
     ]
    },
    {
     "name": "stderr",
     "output_type": "stream",
     "text": [
      "\r",
      "\u001b[32mProgress:  40%|████████████████▍                        |  ETA: 0:05:20\u001b[39m"
     ]
    },
    {
     "name": "stdout",
     "output_type": "stream",
     "text": [
      "parameters at step 8000000 saved to ./RL_models_slow/cf_sac_8000000.bson\n",
      "step: 8000000 reward : -19.88 length: 19\n",
      "step: 8010000 reward : -20.003 length: 19\n",
      "step: 8020000 reward : -19.598 length: 19\n",
      "step: 8030000 reward : -19.979 length: 19\n",
      "step: 8040000 reward : -20.391 length: 19\n"
     ]
    },
    {
     "name": "stderr",
     "output_type": "stream",
     "text": [
      "\r",
      "\u001b[32mProgress:  40%|████████████████▌                        |  ETA: 0:05:19\u001b[39m"
     ]
    },
    {
     "name": "stdout",
     "output_type": "stream",
     "text": [
      "step: 8050000 reward : -20.084 length: 19\n",
      "step: 8060000 reward : -20.018 length: 19\n",
      "step: 8070000 reward : -19.995 length: 19\n",
      "step: 8080000 reward : -20.692 length: 19\n",
      "step: 8090000 reward : -20.266 length: 19\n"
     ]
    },
    {
     "name": "stderr",
     "output_type": "stream",
     "text": [
      "\r",
      "\u001b[32mProgress:  40%|████████████████▋                        |  ETA: 0:05:17\u001b[39m"
     ]
    },
    {
     "name": "stdout",
     "output_type": "stream",
     "text": [
      "parameters at step 8100000 saved to ./RL_models_slow/cf_sac_8100000.bson\n",
      "step: 8100000 reward : -19.841 length: 19\n",
      "step: 8110000 reward : -19.57 length: 19\n",
      "step: 8120000 reward : -19.564 length: 19\n",
      "step: 8130000 reward : -19.317 length: 19\n",
      "step: 8140000 reward : -20.089 length: 19\n"
     ]
    },
    {
     "name": "stderr",
     "output_type": "stream",
     "text": [
      "\r",
      "\u001b[32mProgress:  41%|████████████████▊                        |  ETA: 0:05:15\u001b[39m"
     ]
    },
    {
     "name": "stdout",
     "output_type": "stream",
     "text": [
      "step: 8150000 reward : -19.736 length: 19\n",
      "step: 8160000 reward : -19.57 length: 19\n",
      "step: 8170000 reward : -19.696 length: 19\n",
      "step: 8180000 reward : -20.551 length: 19\n"
     ]
    },
    {
     "name": "stderr",
     "output_type": "stream",
     "text": [
      "\r",
      "\u001b[32mProgress:  41%|████████████████▊                        |  ETA: 0:05:14\u001b[39m"
     ]
    },
    {
     "name": "stdout",
     "output_type": "stream",
     "text": [
      "step: 8190000 reward : -19.76 length: 19\n",
      "parameters at step 8200000 saved to ./RL_models_slow/cf_sac_8200000.bson\n",
      "step: 8200000 reward : -20.435 length: 19\n",
      "step: 8210000 reward : -19.703 length: 19\n",
      "step: 8220000 reward : -19.981 length: 19\n",
      "step: 8230000 reward : -20.436 length: 19\n"
     ]
    },
    {
     "name": "stderr",
     "output_type": "stream",
     "text": [
      "\r",
      "\u001b[32mProgress:  41%|████████████████▉                        |  ETA: 0:05:13\u001b[39m"
     ]
    },
    {
     "name": "stdout",
     "output_type": "stream",
     "text": [
      "step: 8240000 reward : -19.588 length: 19\n",
      "step: 8250000 reward : -20.576 length: 19\n",
      "step: 8260000 reward : -20.437 length: 19\n"
     ]
    },
    {
     "name": "stderr",
     "output_type": "stream",
     "text": [
      "\r",
      "\u001b[32mProgress:  41%|█████████████████                        |  ETA: 0:05:12\u001b[39m"
     ]
    },
    {
     "name": "stdout",
     "output_type": "stream",
     "text": [
      "step: 8270000 reward : -19.882 length: 19\n",
      "step: 8280000 reward : -19.745 length: 19\n",
      "step: 8290000 reward : -20.103 length: 19\n",
      "parameters at step 8300000 saved to ./RL_models_slow/cf_sac_8300000.bson\n",
      "step: 8300000 reward : -20.955 length: 19\n"
     ]
    },
    {
     "name": "stderr",
     "output_type": "stream",
     "text": [
      "\r",
      "\u001b[32mProgress:  42%|█████████████████                        |  ETA: 0:05:12\u001b[39m"
     ]
    },
    {
     "name": "stdout",
     "output_type": "stream",
     "text": [
      "step: 8310000 reward : -20.661 length: 19\n",
      "step: 8320000 reward : -20.896 length: 19\n",
      "step: 8330000 reward : -20.095 length: 19\n",
      "step: 8340000 reward : -20.217 length: 19\n"
     ]
    },
    {
     "name": "stderr",
     "output_type": "stream",
     "text": [
      "\r",
      "\u001b[32mProgress:  42%|█████████████████▏                       |  ETA: 0:05:11\u001b[39m"
     ]
    },
    {
     "name": "stdout",
     "output_type": "stream",
     "text": [
      "step: 8350000 reward : -20.095 length: 19\n",
      "step: 8360000 reward : -20.93 length: 19\n",
      "step: 8370000 reward : -20.2 length: 19\n",
      "step: 8380000 reward : -20.358 length: 19\n"
     ]
    },
    {
     "name": "stderr",
     "output_type": "stream",
     "text": [
      "\r",
      "\u001b[32mProgress:  42%|█████████████████▎                       |  ETA: 0:05:10\u001b[39m"
     ]
    },
    {
     "name": "stdout",
     "output_type": "stream",
     "text": [
      "step: 8390000 reward : -19.725 length: 19\n",
      "parameters at step 8400000 saved to ./RL_models_slow/cf_sac_8400000.bson\n",
      "step: 8400000 reward : -19.948 length: 19\n",
      "step: 8410000 reward : -19.536 length: 19\n",
      "step: 8420000 reward : -20.046 length: 19\n"
     ]
    },
    {
     "name": "stderr",
     "output_type": "stream",
     "text": [
      "\r",
      "\u001b[32mProgress:  42%|█████████████████▎                       |  ETA: 0:05:09\u001b[39m"
     ]
    },
    {
     "name": "stdout",
     "output_type": "stream",
     "text": [
      "step: 8430000 reward : -20.42 length: 19\n",
      "step: 8440000 reward : -21.293 length: 19\n",
      "step: 8450000 reward : -19.951 length: 19\n",
      "step: 8460000 reward : -21.007 length: 19\n"
     ]
    },
    {
     "name": "stderr",
     "output_type": "stream",
     "text": [
      "\r",
      "\u001b[32mProgress:  42%|█████████████████▍                       |  ETA: 0:05:08\u001b[39m"
     ]
    },
    {
     "name": "stdout",
     "output_type": "stream",
     "text": [
      "step: 8470000 reward : -19.639 length: 19\n",
      "step: 8480000 reward : -20.595 length: 19\n",
      "step: 8490000 reward : -20.255 length: 19\n",
      "parameters at step 8500000 saved to ./RL_models_slow/cf_sac_8500000.bson\n",
      "step: 8500000 reward : -19.988 length: 19\n"
     ]
    },
    {
     "name": "stderr",
     "output_type": "stream",
     "text": [
      "\r",
      "\u001b[32mProgress:  43%|█████████████████▌                       |  ETA: 0:05:07\u001b[39m"
     ]
    },
    {
     "name": "stdout",
     "output_type": "stream",
     "text": [
      "step: 8510000 reward : -19.435 length: 19\n",
      "step: 8520000 reward : -19.653 length: 19\n",
      "step: 8530000 reward : -19.984 length: 19\n",
      "step: 8540000 reward : -20.424 length: 19\n"
     ]
    },
    {
     "name": "stderr",
     "output_type": "stream",
     "text": [
      "\r",
      "\u001b[32mProgress:  43%|█████████████████▌                       |  ETA: 0:05:06\u001b[39m"
     ]
    },
    {
     "name": "stdout",
     "output_type": "stream",
     "text": [
      "step: 8550000 reward : -19.808 length: 19\n",
      "step: 8560000 reward : -19.852 length: 19\n",
      "step: 8570000 reward : -20.416 length: 19\n"
     ]
    },
    {
     "name": "stderr",
     "output_type": "stream",
     "text": [
      "\r",
      "\u001b[32mProgress:  43%|█████████████████▋                       |  ETA: 0:05:05\u001b[39m"
     ]
    },
    {
     "name": "stdout",
     "output_type": "stream",
     "text": [
      "step: 8580000 reward : -20.222 length: 19\n",
      "step: 8590000 reward : -20.621 length: 19\n",
      "parameters at step 8600000 saved to ./RL_models_slow/cf_sac_8600000.bson\n",
      "step: 8600000 reward : -20.019 length: 19\n",
      "step: 8610000 reward : -19.991 length: 19\n"
     ]
    },
    {
     "name": "stderr",
     "output_type": "stream",
     "text": [
      "\r",
      "\u001b[32mProgress:  43%|█████████████████▋                       |  ETA: 0:05:04\u001b[39m"
     ]
    },
    {
     "name": "stdout",
     "output_type": "stream",
     "text": [
      "step: 8620000 reward : -19.684 length: 19\n",
      "step: 8630000 reward : -21.247 length: 19\n",
      "step: 8640000 reward : -20.277 length: 19\n",
      "step: 8650000 reward : -19.986 length: 19\n"
     ]
    },
    {
     "name": "stderr",
     "output_type": "stream",
     "text": [
      "\r",
      "\u001b[32mProgress:  43%|█████████████████▊                       |  ETA: 0:05:03\u001b[39m"
     ]
    },
    {
     "name": "stdout",
     "output_type": "stream",
     "text": [
      "step: 8660000 reward : -19.716 length: 19\n",
      "step: 8670000 reward : -20.82 length: 19\n",
      "step: 8680000 reward : -20.312 length: 19\n",
      "step: 8690000 reward : -20.869 length: 19\n",
      "parameters at step 8700000 saved to ./RL_models_slow/cf_sac_8700000.bson"
     ]
    },
    {
     "name": "stderr",
     "output_type": "stream",
     "text": [
      "\r",
      "\u001b[32mProgress:  44%|█████████████████▉                       |  ETA: 0:05:02\u001b[39m"
     ]
    },
    {
     "name": "stdout",
     "output_type": "stream",
     "text": [
      "\n",
      "step: 8700000 reward : -20.236 length: 19\n",
      "step: 8710000 reward : -20.294 length: 19\n",
      "step: 8720000 reward : -19.726 length: 19\n",
      "step: 8730000 reward : -19.577 length: 19\n",
      "step: 8740000 reward : -20.71 length: 19\n"
     ]
    },
    {
     "name": "stderr",
     "output_type": "stream",
     "text": [
      "\r",
      "\u001b[32mProgress:  44%|█████████████████▉                       |  ETA: 0:05:00\u001b[39m"
     ]
    },
    {
     "name": "stdout",
     "output_type": "stream",
     "text": [
      "step: 8750000 reward : -20.767 length: 19\n",
      "step: 8760000 reward : -19.999 length: 19\n",
      "step: 8770000 reward : -20.58 length: 19\n",
      "step: 8780000 reward : -20.688 length: 19\n"
     ]
    },
    {
     "name": "stderr",
     "output_type": "stream",
     "text": [
      "\r",
      "\u001b[32mProgress:  44%|██████████████████                       |  ETA: 0:04:59\u001b[39m"
     ]
    },
    {
     "name": "stdout",
     "output_type": "stream",
     "text": [
      "step: 8790000 reward : -19.572 length: 19\n",
      "parameters at step 8800000 saved to ./RL_models_slow/cf_sac_8800000.bson\n",
      "step: 8800000 reward : -19.967 length: 19\n",
      "step: 8810000 reward : -19.958 length: 19\n",
      "step: 8820000 reward : -19.764 length: 19\n"
     ]
    },
    {
     "name": "stderr",
     "output_type": "stream",
     "text": [
      "\r",
      "\u001b[32mProgress:  44%|██████████████████▏                      |  ETA: 0:04:58\u001b[39m"
     ]
    },
    {
     "name": "stdout",
     "output_type": "stream",
     "text": [
      "step: 8830000 reward : -19.64 length: 19\n",
      "step: 8840000 reward : -19.772 length: 19\n",
      "step: 8850000 reward : -19.861 length: 19\n",
      "step: 8860000 reward : -19.786 length: 19\n",
      "step: 8870000 reward : -20.182 length: 19\n"
     ]
    },
    {
     "name": "stderr",
     "output_type": "stream",
     "text": [
      "\r",
      "\u001b[32mProgress:  44%|██████████████████▎                      |  ETA: 0:04:56\u001b[39m"
     ]
    },
    {
     "name": "stdout",
     "output_type": "stream",
     "text": [
      "step: 8880000 reward : -21.291 length: 19\n",
      "step: 8890000 reward : -20.839 length: 19\n",
      "parameters at step 8900000 saved to ./RL_models_slow/cf_sac_8900000.bson\n",
      "step: 8900000 reward : -19.495 length: 19\n",
      "step: 8910000 reward : -19.987 length: 19\n",
      "step: 8920000 reward : -19.749 length: 19\n"
     ]
    },
    {
     "name": "stderr",
     "output_type": "stream",
     "text": [
      "\r",
      "\u001b[32mProgress:  45%|██████████████████▎                      |  ETA: 0:04:56\u001b[39m"
     ]
    },
    {
     "name": "stdout",
     "output_type": "stream",
     "text": [
      "step: 8930000 reward : -19.617 length: 19\n",
      "step: 8940000 reward : -20.879 length: 19\n",
      "step: 8950000 reward : -19.939 length: 19\n"
     ]
    },
    {
     "name": "stderr",
     "output_type": "stream",
     "text": [
      "\r",
      "\u001b[32mProgress:  45%|██████████████████▍                      |  ETA: 0:04:55\u001b[39m"
     ]
    },
    {
     "name": "stdout",
     "output_type": "stream",
     "text": [
      "step: 8960000 reward : -19.991 length: 19\n",
      "step: 8970000 reward : -20.289 length: 19\n",
      "step: 8980000 reward : -20.555 length: 19\n",
      "step: 8990000 reward : -20.717 length: 19\n"
     ]
    },
    {
     "name": "stderr",
     "output_type": "stream",
     "text": [
      "\r",
      "\u001b[32mProgress:  45%|██████████████████▌                      |  ETA: 0:04:54\u001b[39m"
     ]
    },
    {
     "name": "stdout",
     "output_type": "stream",
     "text": [
      "parameters at step 9000000 saved to ./RL_models_slow/cf_sac_9000000.bson\n",
      "step: 9000000 reward : -19.344 length: 19\n",
      "step: 9010000 reward : -19.867 length: 19\n",
      "step: 9020000 reward : -20.001 length: 19\n"
     ]
    },
    {
     "name": "stderr",
     "output_type": "stream",
     "text": [
      "\r",
      "\u001b[32mProgress:  45%|██████████████████▌                      |  ETA: 0:04:53\u001b[39m"
     ]
    },
    {
     "name": "stdout",
     "output_type": "stream",
     "text": [
      "step: 9030000 reward : -19.606 length: 19\n",
      "step: 9040000 reward : -20.341 length: 19\n",
      "step: 9050000 reward : -19.942 length: 19\n",
      "step: 9060000 reward : -19.906 length: 19\n"
     ]
    },
    {
     "name": "stderr",
     "output_type": "stream",
     "text": [
      "\r",
      "\u001b[32mProgress:  45%|██████████████████▋                      |  ETA: 0:04:52\u001b[39m"
     ]
    },
    {
     "name": "stdout",
     "output_type": "stream",
     "text": [
      "step: 9070000 reward : -21.032 length: 19\n",
      "step: 9080000 reward : -20.128 length: 19\n",
      "step: 9090000 reward : -19.885 length: 19\n",
      "parameters at step 9100000 saved to ./RL_models_slow/cf_sac_9100000.bson\n",
      "step: 9100000 reward : -19.644 length: 19\n"
     ]
    },
    {
     "name": "stderr",
     "output_type": "stream",
     "text": [
      "\r",
      "\u001b[32mProgress:  46%|██████████████████▋                      |  ETA: 0:04:52\u001b[39m"
     ]
    },
    {
     "name": "stdout",
     "output_type": "stream",
     "text": [
      "step: 9110000 reward : -20.172 length: 19\n",
      "step: 9120000 reward : -19.978 length: 19\n",
      "step: 9130000 reward : -19.498 length: 19\n",
      "step: 9140000 reward : -20.693 length: 19\n"
     ]
    },
    {
     "name": "stderr",
     "output_type": "stream",
     "text": [
      "\r",
      "\u001b[32mProgress:  46%|██████████████████▊                      |  ETA: 0:04:51\u001b[39m"
     ]
    },
    {
     "name": "stdout",
     "output_type": "stream",
     "text": [
      "step: 9150000 reward : -19.898 length: 19\n",
      "step: 9160000 reward : -19.748 length: 19\n",
      "step: 9170000 reward : -19.835 length: 19\n"
     ]
    },
    {
     "name": "stderr",
     "output_type": "stream",
     "text": [
      "\r",
      "\u001b[32mProgress:  46%|██████████████████▉                      |  ETA: 0:04:50\u001b[39m"
     ]
    },
    {
     "name": "stdout",
     "output_type": "stream",
     "text": [
      "step: 9180000 reward : -21.87 length: 19\n",
      "step: 9190000 reward : -20.949 length: 19\n",
      "parameters at step 9200000 saved to ./RL_models_slow/cf_sac_9200000.bson\n",
      "step: 9200000 reward : -20.306 length: 19\n",
      "step: 9210000 reward : -20.485 length: 19\n"
     ]
    },
    {
     "name": "stderr",
     "output_type": "stream",
     "text": [
      "\r",
      "\u001b[32mProgress:  46%|██████████████████▉                      |  ETA: 0:04:49\u001b[39m"
     ]
    },
    {
     "name": "stdout",
     "output_type": "stream",
     "text": [
      "step: 9220000 reward : -19.743 length: 19\n",
      "step: 9230000 reward : -19.453 length: 19\n",
      "step: 9240000 reward : -20.702 length: 19\n",
      "step: 9250000 reward : -20.105 length: 19\n"
     ]
    },
    {
     "name": "stderr",
     "output_type": "stream",
     "text": [
      "\r",
      "\u001b[32mProgress:  46%|███████████████████                      |  ETA: 0:04:48\u001b[39m"
     ]
    },
    {
     "name": "stdout",
     "output_type": "stream",
     "text": [
      "step: 9260000 reward : -20.273 length: 19\n",
      "step: 9270000 reward : -22.171 length: 19\n",
      "step: 9280000 reward : -20.61 length: 19\n",
      "step: 9290000 reward : -19.895 length: 19\n"
     ]
    },
    {
     "name": "stderr",
     "output_type": "stream",
     "text": [
      "\r",
      "\u001b[32mProgress:  46%|███████████████████                      |  ETA: 0:04:47\u001b[39m"
     ]
    },
    {
     "name": "stdout",
     "output_type": "stream",
     "text": [
      "parameters at step 9300000 saved to ./RL_models_slow/cf_sac_9300000.bson\n",
      "step: 9300000 reward : -20.182 length: 19\n",
      "step: 9310000 reward : -20.183 length: 19\n",
      "step: 9320000 reward : -19.509 length: 19\n",
      "step: 9330000 reward : -20.564 length: 19\n"
     ]
    },
    {
     "name": "stderr",
     "output_type": "stream",
     "text": [
      "\r",
      "\u001b[32mProgress:  47%|███████████████████▏                     |  ETA: 0:04:46\u001b[39m"
     ]
    },
    {
     "name": "stdout",
     "output_type": "stream",
     "text": [
      "step: 9340000 reward : -20.31 length: 19\n",
      "step: 9350000 reward : -19.696 length: 19\n",
      "step: 9360000 reward : -20.014 length: 19\n"
     ]
    },
    {
     "name": "stderr",
     "output_type": "stream",
     "text": [
      "\r",
      "\u001b[32mProgress:  47%|███████████████████▎                     |  ETA: 0:04:45\u001b[39m"
     ]
    },
    {
     "name": "stdout",
     "output_type": "stream",
     "text": [
      "step: 9370000 reward : -20.325 length: 19\n",
      "step: 9380000 reward : -20.324 length: 19\n",
      "step: 9390000 reward : -19.644 length: 19\n",
      "parameters at step 9400000 saved to ./RL_models_slow/cf_sac_9400000.bson\n",
      "step: 9400000 reward : -19.821 length: 19\n"
     ]
    },
    {
     "name": "stderr",
     "output_type": "stream",
     "text": [
      "\r",
      "\u001b[32mProgress:  47%|███████████████████▎                     |  ETA: 0:04:44\u001b[39m"
     ]
    },
    {
     "name": "stdout",
     "output_type": "stream",
     "text": [
      "step: 9410000 reward : -20.375 length: 19\n",
      "step: 9420000 reward : -20.338 length: 19\n",
      "step: 9430000 reward : -19.781 length: 19\n",
      "step: 9440000 reward : -20.672 length: 19\n"
     ]
    },
    {
     "name": "stderr",
     "output_type": "stream",
     "text": [
      "\r",
      "\u001b[32mProgress:  47%|███████████████████▍                     |  ETA: 0:04:43\u001b[39m"
     ]
    },
    {
     "name": "stdout",
     "output_type": "stream",
     "text": [
      "step: 9450000 reward : -19.576 length: 19\n",
      "step: 9460000 reward : -20.081 length: 19\n",
      "step: 9470000 reward : -20.142 length: 19\n",
      "step: 9480000 reward : -20.34 length: 19\n"
     ]
    },
    {
     "name": "stderr",
     "output_type": "stream",
     "text": [
      "\r",
      "\u001b[32mProgress:  47%|███████████████████▌                     |  ETA: 0:04:41\u001b[39m"
     ]
    },
    {
     "name": "stdout",
     "output_type": "stream",
     "text": [
      "step: 9490000 reward : -19.558 length: 19\n",
      "parameters at step 9500000 saved to ./RL_models_slow/cf_sac_9500000.bson\n",
      "step: 9500000 reward : -20.35 length: 19\n",
      "step: 9510000 reward : -20.262 length: 19\n",
      "step: 9520000 reward : -19.633 length: 19\n"
     ]
    },
    {
     "name": "stderr",
     "output_type": "stream",
     "text": [
      "\r",
      "\u001b[32mProgress:  48%|███████████████████▌                     |  ETA: 0:04:41\u001b[39m"
     ]
    },
    {
     "name": "stdout",
     "output_type": "stream",
     "text": [
      "step: 9530000 reward : -20.815 length: 19\n",
      "step: 9540000 reward : -20.33 length: 19\n",
      "step: 9550000 reward : -20.119 length: 19\n",
      "step: 9560000 reward : -19.756 length: 19\n",
      "step: 9570000 reward : -20.487 length: 19\n"
     ]
    },
    {
     "name": "stderr",
     "output_type": "stream",
     "text": [
      "\r",
      "\u001b[32mProgress:  48%|███████████████████▋                     |  ETA: 0:04:40\u001b[39m"
     ]
    },
    {
     "name": "stdout",
     "output_type": "stream",
     "text": [
      "step: 9580000 reward : -20.388 length: 19\n",
      "step: 9590000 reward : -19.748 length: 19\n",
      "parameters at step 9600000 saved to ./RL_models_slow/cf_sac_9600000.bson\n",
      "step: 9600000 reward : -19.905 length: 19\n",
      "step: 9610000 reward : -20.279 length: 19\n"
     ]
    },
    {
     "name": "stderr",
     "output_type": "stream",
     "text": [
      "\r",
      "\u001b[32mProgress:  48%|███████████████████▊                     |  ETA: 0:04:39\u001b[39m"
     ]
    },
    {
     "name": "stdout",
     "output_type": "stream",
     "text": [
      "step: 9620000 reward : -19.53 length: 19\n",
      "step: 9630000 reward : -20.587 length: 19\n",
      "step: 9640000 reward : -19.575 length: 19\n",
      "step: 9650000 reward : -20.685 length: 19\n"
     ]
    },
    {
     "name": "stderr",
     "output_type": "stream",
     "text": [
      "\r",
      "\u001b[32mProgress:  48%|███████████████████▊                     |  ETA: 0:04:37\u001b[39m"
     ]
    },
    {
     "name": "stdout",
     "output_type": "stream",
     "text": [
      "step: 9660000 reward : -20.832 length: 19\n",
      "step: 9670000 reward : -19.943 length: 19\n",
      "step: 9680000 reward : -20.163 length: 19\n",
      "step: 9690000 reward : -19.657 length: 19\n",
      "parameters at step 9700000 saved to ./RL_models_slow/cf_sac_9700000.bson"
     ]
    },
    {
     "name": "stderr",
     "output_type": "stream",
     "text": [
      "\r",
      "\u001b[32mProgress:  49%|███████████████████▉                     |  ETA: 0:04:36\u001b[39m"
     ]
    },
    {
     "name": "stdout",
     "output_type": "stream",
     "text": [
      "\n",
      "step: 9700000 reward : -20.826 length: 19\n",
      "step: 9710000 reward : -19.71 length: 19\n",
      "step: 9720000 reward : -19.781 length: 19\n",
      "step: 9730000 reward : -20.156 length: 19\n"
     ]
    },
    {
     "name": "stderr",
     "output_type": "stream",
     "text": [
      "\r",
      "\u001b[32mProgress:  49%|████████████████████                     |  ETA: 0:04:35\u001b[39m"
     ]
    },
    {
     "name": "stdout",
     "output_type": "stream",
     "text": [
      "step: 9740000 reward : -19.964 length: 19\n",
      "step: 9750000 reward : -20.605 length: 19\n",
      "step: 9760000 reward : -20.542 length: 19\n",
      "step: 9770000 reward : -21.143 length: 19\n",
      "step: 9780000 reward : -19.749 length: 19\n"
     ]
    },
    {
     "name": "stderr",
     "output_type": "stream",
     "text": [
      "\r",
      "\u001b[32mProgress:  49%|████████████████████                     |  ETA: 0:04:34\u001b[39m"
     ]
    },
    {
     "name": "stdout",
     "output_type": "stream",
     "text": [
      "step: 9790000 reward : -19.92 length: 19\n",
      "parameters at step 9800000 saved to ./RL_models_slow/cf_sac_9800000.bson\n",
      "step: 9800000 reward : -19.911 length: 19\n",
      "step: 9810000 reward : -20.48 length: 19\n",
      "step: 9820000 reward : -19.482 length: 19\n"
     ]
    },
    {
     "name": "stderr",
     "output_type": "stream",
     "text": [
      "\r",
      "\u001b[32mProgress:  49%|████████████████████▏                    |  ETA: 0:04:33\u001b[39m"
     ]
    },
    {
     "name": "stdout",
     "output_type": "stream",
     "text": [
      "step: 9830000 reward : -19.828 length: 19\n",
      "step: 9840000 reward : -20.549 length: 19\n",
      "step: 9850000 reward : -19.726 length: 19\n",
      "step: 9860000 reward : -19.583 length: 19\n"
     ]
    },
    {
     "name": "stderr",
     "output_type": "stream",
     "text": [
      "\r",
      "\u001b[32mProgress:  49%|████████████████████▎                    |  ETA: 0:04:31\u001b[39m"
     ]
    },
    {
     "name": "stdout",
     "output_type": "stream",
     "text": [
      "step: 9870000 reward : -19.777 length: 19\n",
      "step: 9880000 reward : -19.801 length: 19\n",
      "step: 9890000 reward : -20.069 length: 19\n",
      "parameters at step 9900000 saved to ./RL_models_slow/cf_sac_9900000.bson\n",
      "step: 9900000 reward : -20.286 length: 19\n"
     ]
    },
    {
     "name": "stderr",
     "output_type": "stream",
     "text": [
      "\r",
      "\u001b[32mProgress:  50%|████████████████████▎                    |  ETA: 0:04:30\u001b[39m"
     ]
    },
    {
     "name": "stdout",
     "output_type": "stream",
     "text": [
      "step: 9910000 reward : -19.827 length: 19\n",
      "step: 9920000 reward : -19.138 length: 18\n",
      "step: 9930000 reward : -20.152 length: 19\n",
      "step: 9940000 reward : -19.941 length: 19\n"
     ]
    },
    {
     "name": "stderr",
     "output_type": "stream",
     "text": [
      "\r",
      "\u001b[32mProgress:  50%|████████████████████▍                    |  ETA: 0:04:29\u001b[39m"
     ]
    },
    {
     "name": "stdout",
     "output_type": "stream",
     "text": [
      "step: 9950000 reward : -20.55 length: 19\n",
      "step: 9960000 reward : -20.744 length: 19\n",
      "step: 9970000 reward : -19.976 length: 19\n",
      "step: 9980000 reward : -20.311 length: 19\n"
     ]
    },
    {
     "name": "stderr",
     "output_type": "stream",
     "text": [
      "\r",
      "\u001b[32mProgress:  50%|████████████████████▌                    |  ETA: 0:04:28\u001b[39m"
     ]
    },
    {
     "name": "stdout",
     "output_type": "stream",
     "text": [
      "step: 9990000 reward : -19.605 length: 19\n",
      "parameters at step 10000000 saved to ./RL_models_slow/cf_sac_10000000.bson\n",
      "step: 10000000 reward : -20.413 length: 19\n",
      "step: 10010000 reward : -20.563 length: 19\n",
      "step: 10020000 reward : -20.18 length: 18\n"
     ]
    },
    {
     "name": "stderr",
     "output_type": "stream",
     "text": [
      "\r",
      "\u001b[32mProgress:  50%|████████████████████▌                    |  ETA: 0:04:27\u001b[39m"
     ]
    },
    {
     "name": "stdout",
     "output_type": "stream",
     "text": [
      "step: 10030000 reward : -19.722 length: 19\n",
      "step: 10040000 reward : -20.685 length: 19\n",
      "step: 10050000 reward : -19.737 length: 19\n",
      "step: 10060000 reward : -20.333 length: 19\n"
     ]
    },
    {
     "name": "stderr",
     "output_type": "stream",
     "text": [
      "\r",
      "\u001b[32mProgress:  50%|████████████████████▋                    |  ETA: 0:04:26\u001b[39m"
     ]
    },
    {
     "name": "stdout",
     "output_type": "stream",
     "text": [
      "step: 10070000 reward : -19.61 length: 19\n",
      "step: 10080000 reward : -19.768 length: 19\n",
      "step: 10090000 reward : -20.025 length: 19\n",
      "parameters at step 10100000 saved to ./RL_models_slow/cf_sac_10100000.bson\n",
      "step: 10100000 reward : -19.676 length: 19\n",
      "step: 10110000 reward : -20.813 length: 19\n"
     ]
    },
    {
     "name": "stderr",
     "output_type": "stream",
     "text": [
      "\r",
      "\u001b[32mProgress:  51%|████████████████████▊                    |  ETA: 0:04:25\u001b[39m"
     ]
    },
    {
     "name": "stdout",
     "output_type": "stream",
     "text": [
      "step: 10120000 reward : -19.841 length: 19\n",
      "step: 10130000 reward : -20.41 length: 19\n",
      "step: 10140000 reward : -19.795 length: 19\n",
      "step: 10150000 reward : -20.521 length: 19\n"
     ]
    },
    {
     "name": "stderr",
     "output_type": "stream",
     "text": [
      "\r",
      "\u001b[32mProgress:  51%|████████████████████▉                    |  ETA: 0:04:24\u001b[39m"
     ]
    },
    {
     "name": "stdout",
     "output_type": "stream",
     "text": [
      "step: 10160000 reward : -20.402 length: 19\n",
      "step: 10170000 reward : -20.521 length: 19\n",
      "step: 10180000 reward : -20.094 length: 19\n",
      "step: 10190000 reward : -19.799 length: 19\n"
     ]
    },
    {
     "name": "stderr",
     "output_type": "stream",
     "text": [
      "\r",
      "\u001b[32mProgress:  51%|████████████████████▉                    |  ETA: 0:04:23\u001b[39m"
     ]
    },
    {
     "name": "stdout",
     "output_type": "stream",
     "text": [
      "parameters at step 10200000 saved to ./RL_models_slow/cf_sac_10200000.bson\n",
      "step: 10200000 reward : -20.404 length: 19\n",
      "step: 10210000 reward : -20.194 length: 19\n",
      "step: 10220000 reward : -20.162 length: 19\n",
      "step: 10230000 reward : -19.965 length: 19\n"
     ]
    },
    {
     "name": "stderr",
     "output_type": "stream",
     "text": [
      "\r",
      "\u001b[32mProgress:  51%|█████████████████████                    |  ETA: 0:04:22\u001b[39m"
     ]
    },
    {
     "name": "stdout",
     "output_type": "stream",
     "text": [
      "step: 10240000 reward : -20.346 length: 19\n",
      "step: 10250000 reward : -20.291 length: 19\n",
      "step: 10260000 reward : -19.963 length: 19\n",
      "step: 10270000 reward : -20.493 length: 19\n"
     ]
    },
    {
     "name": "stderr",
     "output_type": "stream",
     "text": [
      "\r",
      "\u001b[32mProgress:  51%|█████████████████████▏                   |  ETA: 0:04:20\u001b[39m"
     ]
    },
    {
     "name": "stdout",
     "output_type": "stream",
     "text": [
      "step: 10280000 reward : -19.576 length: 19\n",
      "step: 10290000 reward : -19.96 length: 19\n",
      "parameters at step 10300000 saved to ./RL_models_slow/cf_sac_10300000.bson\n",
      "step: 10300000 reward : -19.801 length: 19\n",
      "step: 10310000 reward : -20.07 length: 19\n"
     ]
    },
    {
     "name": "stderr",
     "output_type": "stream",
     "text": [
      "\r",
      "\u001b[32mProgress:  52%|█████████████████████▏                   |  ETA: 0:04:19\u001b[39m"
     ]
    },
    {
     "name": "stdout",
     "output_type": "stream",
     "text": [
      "step: 10320000 reward : -20.733 length: 19\n",
      "step: 10330000 reward : -20.679 length: 19\n",
      "step: 10340000 reward : -19.799 length: 19\n"
     ]
    },
    {
     "name": "stderr",
     "output_type": "stream",
     "text": [
      "\r",
      "\u001b[32mProgress:  52%|█████████████████████▎                   |  ETA: 0:04:19\u001b[39m"
     ]
    },
    {
     "name": "stdout",
     "output_type": "stream",
     "text": [
      "step: 10350000 reward : -20.063 length: 19\n",
      "step: 10360000 reward : -20.815 length: 19\n",
      "step: 10370000 reward : -20.176 length: 19\n",
      "step: 10380000 reward : -19.691 length: 19\n",
      "step: 10390000 reward : -19.993 length: 19\n"
     ]
    },
    {
     "name": "stderr",
     "output_type": "stream",
     "text": [
      "\r",
      "\u001b[32mProgress:  52%|█████████████████████▎                   |  ETA: 0:04:17\u001b[39m"
     ]
    },
    {
     "name": "stdout",
     "output_type": "stream",
     "text": [
      "parameters at step 10400000 saved to ./RL_models_slow/cf_sac_10400000.bson\n",
      "step: 10400000 reward : -20.011 length: 19\n",
      "step: 10410000 reward : -20.317 length: 19\n",
      "step: 10420000 reward : -19.841 length: 19\n",
      "step: 10430000 reward : -20.074 length: 19\n"
     ]
    },
    {
     "name": "stderr",
     "output_type": "stream",
     "text": [
      "\r",
      "\u001b[32mProgress:  52%|█████████████████████▍                   |  ETA: 0:04:16\u001b[39m"
     ]
    },
    {
     "name": "stdout",
     "output_type": "stream",
     "text": [
      "step: 10440000 reward : -20.18 length: 19\n",
      "step: 10450000 reward : -20.304 length: 19\n",
      "step: 10460000 reward : -19.479 length: 19\n",
      "step: 10470000 reward : -20.564 length: 19\n"
     ]
    },
    {
     "name": "stderr",
     "output_type": "stream",
     "text": [
      "\r",
      "\u001b[32mProgress:  52%|█████████████████████▌                   |  ETA: 0:04:15\u001b[39m"
     ]
    },
    {
     "name": "stdout",
     "output_type": "stream",
     "text": [
      "step: 10480000 reward : -19.791 length: 19\n",
      "step: 10490000 reward : -19.838 length: 19\n",
      "parameters at step 10500000 saved to ./RL_models_slow/cf_sac_10500000.bson\n",
      "step: 10500000 reward : -19.998 length: 19\n",
      "step: 10510000 reward : -20.056 length: 19\n"
     ]
    },
    {
     "name": "stderr",
     "output_type": "stream",
     "text": [
      "\r",
      "\u001b[32mProgress:  53%|█████████████████████▋                   |  ETA: 0:04:14\u001b[39m"
     ]
    },
    {
     "name": "stdout",
     "output_type": "stream",
     "text": [
      "step: 10520000 reward : -20.02 length: 19\n",
      "step: 10530000 reward : -19.47 length: 19\n",
      "step: 10540000 reward : -20.308 length: 19\n",
      "step: 10550000 reward : -20.529 length: 19\n"
     ]
    },
    {
     "name": "stderr",
     "output_type": "stream",
     "text": [
      "\r",
      "\u001b[32mProgress:  53%|█████████████████████▋                   |  ETA: 0:04:13\u001b[39m"
     ]
    },
    {
     "name": "stdout",
     "output_type": "stream",
     "text": [
      "step: 10560000 reward : -19.876 length: 19\n",
      "step: 10570000 reward : -19.969 length: 19\n",
      "step: 10580000 reward : -20.045 length: 19\n",
      "step: 10590000 reward : -19.976 length: 19\n"
     ]
    },
    {
     "name": "stderr",
     "output_type": "stream",
     "text": [
      "\r",
      "\u001b[32mProgress:  53%|█████████████████████▊                   |  ETA: 0:04:12\u001b[39m"
     ]
    },
    {
     "name": "stdout",
     "output_type": "stream",
     "text": [
      "parameters at step 10600000 saved to ./RL_models_slow/cf_sac_10600000.bson\n",
      "step: 10600000 reward : -20.881 length: 19\n",
      "step: 10610000 reward : -19.707 length: 19\n",
      "step: 10620000 reward : -20.001 length: 19\n"
     ]
    },
    {
     "name": "stderr",
     "output_type": "stream",
     "text": [
      "\r",
      "\u001b[32mProgress:  53%|█████████████████████▊                   |  ETA: 0:04:11\u001b[39m"
     ]
    },
    {
     "name": "stdout",
     "output_type": "stream",
     "text": [
      "step: 10630000 reward : -20.32 length: 19\n",
      "step: 10640000 reward : -19.739 length: 19\n",
      "step: 10650000 reward : -20.242 length: 19\n",
      "step: 10660000 reward : -20.409 length: 20\n"
     ]
    },
    {
     "name": "stderr",
     "output_type": "stream",
     "text": [
      "\r",
      "\u001b[32mProgress:  53%|█████████████████████▉                   |  ETA: 0:04:10\u001b[39m"
     ]
    },
    {
     "name": "stdout",
     "output_type": "stream",
     "text": [
      "step: 10670000 reward : -20.684 length: 19\n",
      "step: 10680000 reward : -21.152 length: 19\n",
      "step: 10690000 reward : -20.864 length: 19\n",
      "parameters at step 10700000 saved to ./RL_models_slow/cf_sac_10700000.bson\n",
      "step: 10700000 reward : -20.1 length: 19\n"
     ]
    },
    {
     "name": "stderr",
     "output_type": "stream",
     "text": [
      "\r",
      "\u001b[32mProgress:  54%|██████████████████████                   |  ETA: 0:04:10\u001b[39m"
     ]
    },
    {
     "name": "stdout",
     "output_type": "stream",
     "text": [
      "step: 10710000 reward : -20.756 length: 19\n",
      "step: 10720000 reward : -20.743 length: 19\n",
      "step: 10730000 reward : -19.908 length: 19\n",
      "step: 10740000 reward : -20.011 length: 19\n"
     ]
    },
    {
     "name": "stderr",
     "output_type": "stream",
     "text": [
      "\r",
      "\u001b[32mProgress:  54%|██████████████████████                   |  ETA: 0:04:09\u001b[39m"
     ]
    },
    {
     "name": "stdout",
     "output_type": "stream",
     "text": [
      "step: 10750000 reward : -19.617 length: 19\n",
      "step: 10760000 reward : -19.852 length: 19\n",
      "step: 10770000 reward : -19.803 length: 19\n",
      "step: 10780000 reward : -21.55 length: 19\n"
     ]
    },
    {
     "name": "stderr",
     "output_type": "stream",
     "text": [
      "\r",
      "\u001b[32mProgress:  54%|██████████████████████▏                  |  ETA: 0:04:07\u001b[39m"
     ]
    },
    {
     "name": "stdout",
     "output_type": "stream",
     "text": [
      "step: 10790000 reward : -20.263 length: 19\n",
      "parameters at step 10800000 saved to ./RL_models_slow/cf_sac_10800000.bson\n",
      "step: 10800000 reward : -19.77 length: 19\n",
      "step: 10810000 reward : -19.898 length: 19\n",
      "step: 10820000 reward : -20.378 length: 19\n"
     ]
    },
    {
     "name": "stderr",
     "output_type": "stream",
     "text": [
      "\r",
      "\u001b[32mProgress:  54%|██████████████████████▎                  |  ETA: 0:04:06\u001b[39m"
     ]
    },
    {
     "name": "stdout",
     "output_type": "stream",
     "text": [
      "step: 10830000 reward : -19.737 length: 19\n",
      "step: 10840000 reward : -19.6 length: 19\n",
      "step: 10850000 reward : -19.482 length: 19\n",
      "step: 10860000 reward : -19.568 length: 19\n"
     ]
    },
    {
     "name": "stderr",
     "output_type": "stream",
     "text": [
      "\r",
      "\u001b[32mProgress:  54%|██████████████████████▎                  |  ETA: 0:04:05\u001b[39m"
     ]
    },
    {
     "name": "stdout",
     "output_type": "stream",
     "text": [
      "step: 10870000 reward : -19.658 length: 19\n",
      "step: 10880000 reward : -19.985 length: 19\n",
      "step: 10890000 reward : -19.593 length: 19\n",
      "parameters at step 10900000 saved to ./RL_models_slow/cf_sac_10900000.bson\n",
      "step: 10900000 reward : -19.752 length: 19\n",
      "step: 10910000 reward : -20.541 length: 19\n"
     ]
    },
    {
     "name": "stderr",
     "output_type": "stream",
     "text": [
      "\r",
      "\u001b[32mProgress:  55%|██████████████████████▍                  |  ETA: 0:04:04\u001b[39m"
     ]
    },
    {
     "name": "stdout",
     "output_type": "stream",
     "text": [
      "step: 10920000 reward : -21.195 length: 19\n",
      "step: 10930000 reward : -20.419 length: 19\n",
      "step: 10940000 reward : -20.014 length: 19\n",
      "step: 10950000 reward : -20.143 length: 19\n"
     ]
    },
    {
     "name": "stderr",
     "output_type": "stream",
     "text": [
      "\r",
      "\u001b[32mProgress:  55%|██████████████████████▌                  |  ETA: 0:04:02\u001b[39m"
     ]
    },
    {
     "name": "stdout",
     "output_type": "stream",
     "text": [
      "step: 10960000 reward : -20.265 length: 19\n",
      "step: 10970000 reward : -19.748 length: 19\n",
      "step: 10980000 reward : -19.549 length: 19\n",
      "step: 10990000 reward : -20.004 length: 19\n",
      "parameters at step 11000000 saved to ./RL_models_slow/cf_sac_11000000.bson\n",
      "step: 11000000 reward : -20.555 length: 19\n"
     ]
    },
    {
     "name": "stderr",
     "output_type": "stream",
     "text": [
      "\r",
      "\u001b[32mProgress:  55%|██████████████████████▌                  |  ETA: 0:04:01\u001b[39m"
     ]
    },
    {
     "name": "stdout",
     "output_type": "stream",
     "text": [
      "step: 11010000 reward : -21.165 length: 19\n",
      "step: 11020000 reward : -20.041 length: 19\n",
      "step: 11030000 reward : -20.005 length: 19\n",
      "step: 11040000 reward : -20.321 length: 19\n"
     ]
    },
    {
     "name": "stderr",
     "output_type": "stream",
     "text": [
      "\r",
      "\u001b[32mProgress:  55%|██████████████████████▋                  |  ETA: 0:04:00\u001b[39m"
     ]
    },
    {
     "name": "stdout",
     "output_type": "stream",
     "text": [
      "step: 11050000 reward : -19.909 length: 19\n",
      "step: 11060000 reward : -19.788 length: 19\n",
      "step: 11070000 reward : -19.988 length: 19\n",
      "step: 11080000 reward : -20.101 length: 19\n",
      "step: 11090000 reward : -19.662 length: 19\n"
     ]
    },
    {
     "name": "stderr",
     "output_type": "stream",
     "text": [
      "\r",
      "\u001b[32mProgress:  55%|██████████████████████▊                  |  ETA: 0:03:58\u001b[39m"
     ]
    },
    {
     "name": "stdout",
     "output_type": "stream",
     "text": [
      "parameters at step 11100000 saved to ./RL_models_slow/cf_sac_11100000.bson\n",
      "step: 11100000 reward : -20.006 length: 19\n",
      "step: 11110000 reward : -19.664 length: 19\n",
      "step: 11120000 reward : -20.141 length: 19\n",
      "step: 11130000 reward : -19.511 length: 19\n"
     ]
    },
    {
     "name": "stderr",
     "output_type": "stream",
     "text": [
      "\r",
      "\u001b[32mProgress:  56%|██████████████████████▉                  |  ETA: 0:03:57\u001b[39m"
     ]
    },
    {
     "name": "stdout",
     "output_type": "stream",
     "text": [
      "step: 11140000 reward : -20.454 length: 19\n",
      "step: 11150000 reward : -21.509 length: 19\n",
      "step: 11160000 reward : -19.438 length: 19\n",
      "step: 11170000 reward : -19.761 length: 19\n",
      "step: 11180000 reward : -19.914 length: 19\n"
     ]
    },
    {
     "name": "stderr",
     "output_type": "stream",
     "text": [
      "\r",
      "\u001b[32mProgress:  56%|██████████████████████▉                  |  ETA: 0:03:55\u001b[39m"
     ]
    },
    {
     "name": "stdout",
     "output_type": "stream",
     "text": [
      "step: 11190000 reward : -19.99 length: 19\n",
      "parameters at step 11200000 saved to ./RL_models_slow/cf_sac_11200000.bson\n",
      "step: 11200000 reward : -20.339 length: 19\n",
      "step: 11210000 reward : -19.536 length: 18\n",
      "step: 11220000 reward : -20.17 length: 19\n"
     ]
    },
    {
     "name": "stderr",
     "output_type": "stream",
     "text": [
      "\r",
      "\u001b[32mProgress:  56%|███████████████████████                  |  ETA: 0:03:54\u001b[39m"
     ]
    },
    {
     "name": "stdout",
     "output_type": "stream",
     "text": [
      "step: 11230000 reward : -19.862 length: 19\n",
      "step: 11240000 reward : -20.273 length: 19\n",
      "step: 11250000 reward : -19.656 length: 19\n",
      "step: 11260000 reward : -20.24 length: 19\n",
      "step: 11270000 reward : -19.502 length: 19\n"
     ]
    },
    {
     "name": "stderr",
     "output_type": "stream",
     "text": [
      "\r",
      "\u001b[32mProgress:  56%|███████████████████████▏                 |  ETA: 0:03:53\u001b[39m"
     ]
    },
    {
     "name": "stdout",
     "output_type": "stream",
     "text": [
      "step: 11280000 reward : -19.724 length: 19\n",
      "step: 11290000 reward : -20.96 length: 19\n",
      "parameters at step 11300000 saved to ./RL_models_slow/cf_sac_11300000.bson\n",
      "step: 11300000 reward : -19.509 length: 19\n",
      "step: 11310000 reward : -19.847 length: 19\n"
     ]
    },
    {
     "name": "stderr",
     "output_type": "stream",
     "text": [
      "\r",
      "\u001b[32mProgress:  57%|███████████████████████▎                 |  ETA: 0:03:52\u001b[39m"
     ]
    },
    {
     "name": "stdout",
     "output_type": "stream",
     "text": [
      "step: 11320000 reward : -20.836 length: 19\n",
      "step: 11330000 reward : -19.934 length: 19\n",
      "step: 11340000 reward : -20.361 length: 19\n",
      "step: 11350000 reward : -19.751 length: 19\n",
      "step: 11360000 reward : -19.775 length: 19\n"
     ]
    },
    {
     "name": "stderr",
     "output_type": "stream",
     "text": [
      "\r",
      "\u001b[32mProgress:  57%|███████████████████████▎                 |  ETA: 0:03:51\u001b[39m"
     ]
    },
    {
     "name": "stdout",
     "output_type": "stream",
     "text": [
      "step: 11370000 reward : -20.145 length: 19\n",
      "step: 11380000 reward : -19.821 length: 19\n",
      "step: 11390000 reward : -19.913 length: 19\n",
      "parameters at step 11400000 saved to ./RL_models_slow/cf_sac_11400000.bson\n",
      "step: 11400000 reward : -19.608 length: 19\n"
     ]
    },
    {
     "name": "stderr",
     "output_type": "stream",
     "text": [
      "\r",
      "\u001b[32mProgress:  57%|███████████████████████▍                 |  ETA: 0:03:50\u001b[39m"
     ]
    },
    {
     "name": "stdout",
     "output_type": "stream",
     "text": [
      "step: 11410000 reward : -20.292 length: 19\n",
      "step: 11420000 reward : -19.752 length: 18\n",
      "step: 11430000 reward : -19.753 length: 19\n",
      "step: 11440000 reward : -20.349 length: 19\n"
     ]
    },
    {
     "name": "stderr",
     "output_type": "stream",
     "text": [
      "\r",
      "\u001b[32mProgress:  57%|███████████████████████▌                 |  ETA: 0:03:48\u001b[39m"
     ]
    },
    {
     "name": "stdout",
     "output_type": "stream",
     "text": [
      "step: 11450000 reward : -19.547 length: 19\n",
      "step: 11460000 reward : -20.323 length: 19\n",
      "step: 11470000 reward : -20.25 length: 19\n",
      "step: 11480000 reward : -19.937 length: 19\n",
      "step: 11490000 reward : -20.237 length: 19\n"
     ]
    },
    {
     "name": "stderr",
     "output_type": "stream",
     "text": [
      "\r",
      "\u001b[32mProgress:  57%|███████████████████████▋                 |  ETA: 0:03:47\u001b[39m"
     ]
    },
    {
     "name": "stdout",
     "output_type": "stream",
     "text": [
      "parameters at step 11500000 saved to ./RL_models_slow/cf_sac_11500000.bson\n",
      "step: 11500000 reward : -19.726 length: 19\n",
      "step: 11510000 reward : -19.445 length: 19\n",
      "step: 11520000 reward : -20.091 length: 18\n",
      "step: 11530000 reward : -19.46 length: 19\n",
      "step: 11540000 reward : -19.816 length: 19\n"
     ]
    },
    {
     "name": "stderr",
     "output_type": "stream",
     "text": [
      "\r",
      "\u001b[32mProgress:  58%|███████████████████████▋                 |  ETA: 0:03:46\u001b[39m"
     ]
    },
    {
     "name": "stdout",
     "output_type": "stream",
     "text": [
      "step: 11550000 reward : -19.627 length: 19\n",
      "step: 11560000 reward : -20.436 length: 19\n",
      "step: 11570000 reward : -20.062 length: 19\n",
      "step: 11580000 reward : -20.47 length: 19\n"
     ]
    },
    {
     "name": "stderr",
     "output_type": "stream",
     "text": [
      "\r",
      "\u001b[32mProgress:  58%|███████████████████████▊                 |  ETA: 0:03:44\u001b[39m"
     ]
    },
    {
     "name": "stdout",
     "output_type": "stream",
     "text": [
      "step: 11590000 reward : -20.013 length: 19\n",
      "parameters at step 11600000 saved to ./RL_models_slow/cf_sac_11600000.bson\n",
      "step: 11600000 reward : -19.647 length: 19\n",
      "step: 11610000 reward : -19.605 length: 19\n",
      "step: 11620000 reward : -20.119 length: 19\n",
      "step: 11630000 reward : -19.555 length: 19\n"
     ]
    },
    {
     "name": "stderr",
     "output_type": "stream",
     "text": [
      "\r",
      "\u001b[32mProgress:  58%|███████████████████████▉                 |  ETA: 0:03:43\u001b[39m"
     ]
    },
    {
     "name": "stdout",
     "output_type": "stream",
     "text": [
      "step: 11640000 reward : -19.767 length: 19\n",
      "step: 11650000 reward : -20.207 length: 19\n",
      "step: 11660000 reward : -20.591 length: 19\n",
      "step: 11670000 reward : -20.048 length: 19\n",
      "step: 11680000 reward : -19.922 length: 19\n"
     ]
    },
    {
     "name": "stderr",
     "output_type": "stream",
     "text": [
      "\r",
      "\u001b[32mProgress:  58%|████████████████████████                 |  ETA: 0:03:41\u001b[39m"
     ]
    },
    {
     "name": "stdout",
     "output_type": "stream",
     "text": [
      "step: 11690000 reward : -19.64 length: 19\n",
      "parameters at step 11700000 saved to ./RL_models_slow/cf_sac_11700000.bson\n",
      "step: 11700000 reward : -20.342 length: 19\n",
      "step: 11710000 reward : -19.772 length: 19\n",
      "step: 11720000 reward : -19.981 length: 19\n",
      "step: 11730000 reward : -19.323 length: 19\n"
     ]
    },
    {
     "name": "stderr",
     "output_type": "stream",
     "text": [
      "\r",
      "\u001b[32mProgress:  59%|████████████████████████                 |  ETA: 0:03:40\u001b[39m"
     ]
    },
    {
     "name": "stdout",
     "output_type": "stream",
     "text": [
      "step: 11740000 reward : -20.157 length: 19\n",
      "step: 11750000 reward : -19.495 length: 19\n",
      "step: 11760000 reward : -19.698 length: 19\n",
      "step: 11770000 reward : -21.084 length: 19\n"
     ]
    },
    {
     "name": "stderr",
     "output_type": "stream",
     "text": [
      "\r",
      "\u001b[32mProgress:  59%|████████████████████████▏                |  ETA: 0:03:38\u001b[39m"
     ]
    },
    {
     "name": "stdout",
     "output_type": "stream",
     "text": [
      "step: 11780000 reward : -19.925 length: 19\n",
      "step: 11790000 reward : -20.091 length: 19\n",
      "parameters at step 11800000 saved to ./RL_models_slow/cf_sac_11800000.bson\n",
      "step: 11800000 reward : -20.215 length: 19\n",
      "step: 11810000 reward : -19.818 length: 19\n"
     ]
    },
    {
     "name": "stderr",
     "output_type": "stream",
     "text": [
      "\r",
      "\u001b[32mProgress:  59%|████████████████████████▎                |  ETA: 0:03:37\u001b[39m"
     ]
    },
    {
     "name": "stdout",
     "output_type": "stream",
     "text": [
      "step: 11820000 reward : -19.666 length: 19\n",
      "step: 11830000 reward : -20.109 length: 19\n",
      "step: 11840000 reward : -20.802 length: 19\n",
      "step: 11850000 reward : -20.061 length: 19\n",
      "step: 11860000 reward : -19.999 length: 19\n"
     ]
    },
    {
     "name": "stderr",
     "output_type": "stream",
     "text": [
      "\r",
      "\u001b[32mProgress:  59%|████████████████████████▍                |  ETA: 0:03:36\u001b[39m"
     ]
    },
    {
     "name": "stdout",
     "output_type": "stream",
     "text": [
      "step: 11870000 reward : -20.365 length: 19\n",
      "step: 11880000 reward : -20.782 length: 19\n",
      "step: 11890000 reward : -19.805 length: 19\n",
      "parameters at step 11900000 saved to ./RL_models_slow/cf_sac_11900000.bson\n",
      "step: 11900000 reward : -19.982 length: 19\n"
     ]
    },
    {
     "name": "stderr",
     "output_type": "stream",
     "text": [
      "\r",
      "\u001b[32mProgress:  60%|████████████████████████▍                |  ETA: 0:03:35\u001b[39m"
     ]
    },
    {
     "name": "stdout",
     "output_type": "stream",
     "text": [
      "step: 11910000 reward : -20.392 length: 19\n",
      "step: 11920000 reward : -19.962 length: 18\n",
      "step: 11930000 reward : -20.177 length: 19\n",
      "step: 11940000 reward : -19.503 length: 19\n",
      "step: 11950000 reward : -20.177 length: 19\n"
     ]
    },
    {
     "name": "stderr",
     "output_type": "stream",
     "text": [
      "\r",
      "\u001b[32mProgress:  60%|████████████████████████▌                |  ETA: 0:03:34\u001b[39m"
     ]
    },
    {
     "name": "stdout",
     "output_type": "stream",
     "text": [
      "step: 11960000 reward : -19.698 length: 19\n",
      "step: 11970000 reward : -20.421 length: 19\n",
      "step: 11980000 reward : -19.798 length: 19\n",
      "step: 11990000 reward : -20.166 length: 19\n",
      "parameters at step 12000000 saved to ./RL_models_slow/cf_sac_12000000.bson\n",
      "step: 12000000 reward : -19.833 length: 19\n"
     ]
    },
    {
     "name": "stderr",
     "output_type": "stream",
     "text": [
      "\r",
      "\u001b[32mProgress:  60%|████████████████████████▋                |  ETA: 0:03:32\u001b[39m"
     ]
    },
    {
     "name": "stdout",
     "output_type": "stream",
     "text": [
      "step: 12010000 reward : -19.596 length: 19\n",
      "step: 12020000 reward : -20.771 length: 19\n",
      "step: 12030000 reward : -20.491 length: 19\n",
      "step: 12040000 reward : -19.978 length: 19\n"
     ]
    },
    {
     "name": "stderr",
     "output_type": "stream",
     "text": [
      "\r",
      "\u001b[32mProgress:  60%|████████████████████████▊                |  ETA: 0:03:31\u001b[39m"
     ]
    },
    {
     "name": "stdout",
     "output_type": "stream",
     "text": [
      "step: 12050000 reward : -19.75 length: 19\n",
      "step: 12060000 reward : -19.949 length: 19\n",
      "step: 12070000 reward : -20.143 length: 19\n",
      "step: 12080000 reward : -20.096 length: 19\n",
      "step: 12090000 reward : -20.238 length: 19\n"
     ]
    },
    {
     "name": "stderr",
     "output_type": "stream",
     "text": [
      "\r",
      "\u001b[32mProgress:  60%|████████████████████████▊                |  ETA: 0:03:30\u001b[39m"
     ]
    },
    {
     "name": "stdout",
     "output_type": "stream",
     "text": [
      "parameters at step 12100000 saved to ./RL_models_slow/cf_sac_12100000.bson\n",
      "step: 12100000 reward : -19.993 length: 19\n",
      "step: 12110000 reward : -20.081 length: 19\n",
      "step: 12120000 reward : -19.683 length: 19\n",
      "step: 12130000 reward : -20.639 length: 19\n",
      "step: 12140000 reward : -20.042 length: 19\n"
     ]
    },
    {
     "name": "stderr",
     "output_type": "stream",
     "text": [
      "\r",
      "\u001b[32mProgress:  61%|████████████████████████▉                |  ETA: 0:03:28\u001b[39m"
     ]
    },
    {
     "name": "stdout",
     "output_type": "stream",
     "text": [
      "step: 12150000 reward : -20.099 length: 19\n",
      "step: 12160000 reward : -20.325 length: 19\n",
      "step: 12170000 reward : -20.109 length: 19\n",
      "step: 12180000 reward : -19.687 length: 19\n"
     ]
    },
    {
     "name": "stderr",
     "output_type": "stream",
     "text": [
      "\r",
      "\u001b[32mProgress:  61%|█████████████████████████                |  ETA: 0:03:27\u001b[39m"
     ]
    },
    {
     "name": "stdout",
     "output_type": "stream",
     "text": [
      "step: 12190000 reward : -20.049 length: 19\n",
      "parameters at step 12200000 saved to ./RL_models_slow/cf_sac_12200000.bson\n",
      "step: 12200000 reward : -19.964 length: 19\n",
      "step: 12210000 reward : -20.035 length: 19\n",
      "step: 12220000 reward : -19.845 length: 19\n",
      "step: 12230000 reward : -19.879 length: 19\n"
     ]
    },
    {
     "name": "stderr",
     "output_type": "stream",
     "text": [
      "\r",
      "\u001b[32mProgress:  61%|█████████████████████████▏               |  ETA: 0:03:25\u001b[39m"
     ]
    },
    {
     "name": "stdout",
     "output_type": "stream",
     "text": [
      "step: 12240000 reward : -20.248 length: 19\n",
      "step: 12250000 reward : -19.623 length: 19\n",
      "step: 12260000 reward : -20.155 length: 19\n",
      "step: 12270000 reward : -20.794 length: 19\n",
      "step: 12280000 reward : -19.999 length: 19\n"
     ]
    },
    {
     "name": "stderr",
     "output_type": "stream",
     "text": [
      "\r",
      "\u001b[32mProgress:  61%|█████████████████████████▏               |  ETA: 0:03:24\u001b[39m"
     ]
    },
    {
     "name": "stdout",
     "output_type": "stream",
     "text": [
      "step: 12290000 reward : -19.896 length: 19\n",
      "parameters at step 12300000 saved to ./RL_models_slow/cf_sac_12300000.bson\n",
      "step: 12300000 reward : -20.453 length: 19\n",
      "step: 12310000 reward : -19.919 length: 19\n",
      "step: 12320000 reward : -19.977 length: 19\n"
     ]
    },
    {
     "name": "stderr",
     "output_type": "stream",
     "text": [
      "\r",
      "\u001b[32mProgress:  62%|█████████████████████████▎               |  ETA: 0:03:23\u001b[39m"
     ]
    },
    {
     "name": "stdout",
     "output_type": "stream",
     "text": [
      "step: 12330000 reward : -19.636 length: 19\n",
      "step: 12340000 reward : -19.808 length: 19\n",
      "step: 12350000 reward : -20.129 length: 19\n",
      "step: 12360000 reward : -19.488 length: 19\n",
      "step: 12370000 reward : -19.874 length: 19\n"
     ]
    },
    {
     "name": "stderr",
     "output_type": "stream",
     "text": [
      "\r",
      "\u001b[32mProgress:  62%|█████████████████████████▍               |  ETA: 0:03:21\u001b[39m"
     ]
    },
    {
     "name": "stdout",
     "output_type": "stream",
     "text": [
      "step: 12380000 reward : -20.159 length: 19\n",
      "step: 12390000 reward : -20.028 length: 19\n",
      "parameters at step 12400000 saved to ./RL_models_slow/cf_sac_12400000.bson\n",
      "step: 12400000 reward : -21.144 length: 19\n",
      "step: 12410000 reward : -19.821 length: 19\n",
      "step: 12420000 reward : -20.355 length: 19\n"
     ]
    },
    {
     "name": "stderr",
     "output_type": "stream",
     "text": [
      "\r",
      "\u001b[32mProgress:  62%|█████████████████████████▌               |  ETA: 0:03:20\u001b[39m"
     ]
    },
    {
     "name": "stdout",
     "output_type": "stream",
     "text": [
      "step: 12430000 reward : -20.188 length: 19\n",
      "step: 12440000 reward : -20.044 length: 19\n",
      "step: 12450000 reward : -19.462 length: 19\n",
      "step: 12460000 reward : -19.784 length: 19\n"
     ]
    },
    {
     "name": "stderr",
     "output_type": "stream",
     "text": [
      "\r",
      "\u001b[32mProgress:  62%|█████████████████████████▋               |  ETA: 0:03:19\u001b[39m"
     ]
    },
    {
     "name": "stdout",
     "output_type": "stream",
     "text": [
      "step: 12470000 reward : -19.581 length: 19\n",
      "step: 12480000 reward : -21.951 length: 19\n",
      "step: 12490000 reward : -20.025 length: 19\n",
      "parameters at step 12500000 saved to ./RL_models_slow/cf_sac_12500000.bson\n",
      "step: 12500000 reward : -19.387 length: 19\n",
      "step: 12510000 reward : -19.867 length: 19\n",
      "step: 12520000 reward : -20.028 length: 19\n"
     ]
    },
    {
     "name": "stderr",
     "output_type": "stream",
     "text": [
      "\r",
      "\u001b[32mProgress:  63%|█████████████████████████▋               |  ETA: 0:03:18\u001b[39m"
     ]
    },
    {
     "name": "stdout",
     "output_type": "stream",
     "text": [
      "step: 12530000 reward : -20.59 length: 19\n",
      "step: 12540000 reward : -19.522 length: 19\n",
      "step: 12550000 reward : -20.412 length: 19\n",
      "step: 12560000 reward : -19.364 length: 18\n"
     ]
    },
    {
     "name": "stderr",
     "output_type": "stream",
     "text": [
      "\r",
      "\u001b[32mProgress:  63%|█████████████████████████▊               |  ETA: 0:03:16\u001b[39m"
     ]
    },
    {
     "name": "stdout",
     "output_type": "stream",
     "text": [
      "step: 12570000 reward : -19.947 length: 19\n",
      "step: 12580000 reward : -19.528 length: 19\n",
      "step: 12590000 reward : -20.492 length: 19\n",
      "parameters at step 12600000 saved to ./RL_models_slow/cf_sac_12600000.bson\n",
      "step: 12600000 reward : -19.642 length: 19\n"
     ]
    },
    {
     "name": "stderr",
     "output_type": "stream",
     "text": [
      "\r",
      "\u001b[32mProgress:  63%|█████████████████████████▉               |  ETA: 0:03:15\u001b[39m"
     ]
    },
    {
     "name": "stdout",
     "output_type": "stream",
     "text": [
      "step: 12610000 reward : -19.815 length: 19\n",
      "step: 12620000 reward : -19.977 length: 19\n",
      "step: 12630000 reward : -20.45 length: 19\n",
      "step: 12640000 reward : -20.066 length: 19\n",
      "step: 12650000 reward : -20.4 length: 19\n"
     ]
    },
    {
     "name": "stderr",
     "output_type": "stream",
     "text": [
      "\r",
      "\u001b[32mProgress:  63%|██████████████████████████               |  ETA: 0:03:14\u001b[39m"
     ]
    },
    {
     "name": "stdout",
     "output_type": "stream",
     "text": [
      "step: 12660000 reward : -19.436 length: 19\n",
      "step: 12670000 reward : -20.452 length: 19\n",
      "step: 12680000 reward : -19.606 length: 19\n",
      "step: 12690000 reward : -19.69 length: 19\n",
      "parameters at step 12700000 saved to ./RL_models_slow/cf_sac_12700000.bson\n",
      "step: 12700000 reward : -20.234 length: 19\n"
     ]
    },
    {
     "name": "stderr",
     "output_type": "stream",
     "text": [
      "\r",
      "\u001b[32mProgress:  64%|██████████████████████████               |  ETA: 0:03:12\u001b[39m"
     ]
    },
    {
     "name": "stdout",
     "output_type": "stream",
     "text": [
      "step: 12710000 reward : -19.946 length: 19\n",
      "step: 12720000 reward : -20.683 length: 20\n",
      "step: 12730000 reward : -19.923 length: 19\n",
      "step: 12740000 reward : -19.815 length: 19\n"
     ]
    },
    {
     "name": "stderr",
     "output_type": "stream",
     "text": [
      "\r",
      "\u001b[32mProgress:  64%|██████████████████████████▏              |  ETA: 0:03:11\u001b[39m"
     ]
    },
    {
     "name": "stdout",
     "output_type": "stream",
     "text": [
      "step: 12750000 reward : -19.503 length: 19\n",
      "step: 12760000 reward : -19.485 length: 19\n",
      "step: 12770000 reward : -20.467 length: 19\n",
      "step: 12780000 reward : -20.745 length: 19\n",
      "step: 12790000 reward : -20.518 length: 19\n",
      "parameters at step 12800000 saved to ./RL_models_slow/cf_sac_12800000.bson"
     ]
    },
    {
     "name": "stderr",
     "output_type": "stream",
     "text": [
      "\r",
      "\u001b[32mProgress:  64%|██████████████████████████▎              |  ETA: 0:03:10\u001b[39m"
     ]
    },
    {
     "name": "stdout",
     "output_type": "stream",
     "text": [
      "\n",
      "step: 12800000 reward : -20.0 length: 19\n",
      "step: 12810000 reward : -19.903 length: 19\n",
      "step: 12820000 reward : -19.792 length: 19\n",
      "step: 12830000 reward : -19.769 length: 19\n",
      "step: 12840000 reward : -20.02 length: 19\n"
     ]
    },
    {
     "name": "stderr",
     "output_type": "stream",
     "text": [
      "\r",
      "\u001b[32mProgress:  64%|██████████████████████████▍              |  ETA: 0:03:08\u001b[39m"
     ]
    },
    {
     "name": "stdout",
     "output_type": "stream",
     "text": [
      "step: 12850000 reward : -20.033 length: 19\n",
      "step: 12860000 reward : -19.69 length: 19\n",
      "step: 12870000 reward : -19.793 length: 19\n",
      "step: 12880000 reward : -19.852 length: 19\n",
      "step: 12890000 reward : -19.608 length: 19\n"
     ]
    },
    {
     "name": "stderr",
     "output_type": "stream",
     "text": [
      "\r",
      "\u001b[32mProgress:  64%|██████████████████████████▌              |  ETA: 0:03:07\u001b[39m"
     ]
    },
    {
     "name": "stdout",
     "output_type": "stream",
     "text": [
      "parameters at step 12900000 saved to ./RL_models_slow/cf_sac_12900000.bson\n",
      "step: 12900000 reward : -20.002 length: 19\n",
      "step: 12910000 reward : -20.949 length: 19\n",
      "step: 12920000 reward : -19.664 length: 19\n",
      "step: 12930000 reward : -19.477 length: 19\n",
      "step: 12940000 reward : -19.973 length: 19\n"
     ]
    },
    {
     "name": "stderr",
     "output_type": "stream",
     "text": [
      "\r",
      "\u001b[32mProgress:  65%|██████████████████████████▌              |  ETA: 0:03:05\u001b[39m"
     ]
    },
    {
     "name": "stdout",
     "output_type": "stream",
     "text": [
      "step: 12950000 reward : -19.838 length: 19\n",
      "step: 12960000 reward : -20.526 length: 19\n",
      "step: 12970000 reward : -19.47 length: 19\n",
      "step: 12980000 reward : -20.238 length: 19\n"
     ]
    },
    {
     "name": "stderr",
     "output_type": "stream",
     "text": [
      "\r",
      "\u001b[32mProgress:  65%|██████████████████████████▋              |  ETA: 0:03:04\u001b[39m"
     ]
    },
    {
     "name": "stdout",
     "output_type": "stream",
     "text": [
      "step: 12990000 reward : -19.921 length: 19\n",
      "parameters at step 13000000 saved to ./RL_models_slow/cf_sac_13000000.bson\n",
      "step: 13000000 reward : -19.778 length: 19\n",
      "step: 13010000 reward : -19.525 length: 19\n",
      "step: 13020000 reward : -20.137 length: 19\n",
      "step: 13030000 reward : -20.108 length: 19\n"
     ]
    },
    {
     "name": "stderr",
     "output_type": "stream",
     "text": [
      "\r",
      "\u001b[32mProgress:  65%|██████████████████████████▊              |  ETA: 0:03:03\u001b[39m"
     ]
    },
    {
     "name": "stdout",
     "output_type": "stream",
     "text": [
      "step: 13040000 reward : -20.164 length: 19\n",
      "step: 13050000 reward : -20.316 length: 19\n",
      "step: 13060000 reward : -20.308 length: 19\n",
      "step: 13070000 reward : -20.529 length: 19\n",
      "step: 13080000 reward : -20.918 length: 19\n"
     ]
    },
    {
     "name": "stderr",
     "output_type": "stream",
     "text": [
      "\r",
      "\u001b[32mProgress:  65%|██████████████████████████▉              |  ETA: 0:03:02\u001b[39m"
     ]
    },
    {
     "name": "stdout",
     "output_type": "stream",
     "text": [
      "step: 13090000 reward : -19.986 length: 19\n",
      "parameters at step 13100000 saved to ./RL_models_slow/cf_sac_13100000.bson\n",
      "step: 13100000 reward : -20.451 length: 19\n",
      "step: 13110000 reward : -20.681 length: 19\n",
      "step: 13120000 reward : -20.059 length: 19\n"
     ]
    },
    {
     "name": "stderr",
     "output_type": "stream",
     "text": [
      "\r",
      "\u001b[32mProgress:  66%|██████████████████████████▉              |  ETA: 0:03:01\u001b[39m"
     ]
    },
    {
     "name": "stdout",
     "output_type": "stream",
     "text": [
      "step: 13130000 reward : -20.728 length: 19\n",
      "step: 13140000 reward : -19.471 length: 19\n",
      "step: 13150000 reward : -19.945 length: 19\n",
      "step: 13160000 reward : -20.208 length: 19\n"
     ]
    },
    {
     "name": "stderr",
     "output_type": "stream",
     "text": [
      "\r",
      "\u001b[32mProgress:  66%|███████████████████████████              |  ETA: 0:02:59\u001b[39m"
     ]
    },
    {
     "name": "stdout",
     "output_type": "stream",
     "text": [
      "step: 13170000 reward : -20.225 length: 19\n",
      "step: 13180000 reward : -19.486 length: 19\n",
      "step: 13190000 reward : -19.985 length: 19\n",
      "parameters at step 13200000 saved to ./RL_models_slow/cf_sac_13200000.bson\n",
      "step: 13200000 reward : -20.66 length: 19\n",
      "step: 13210000 reward : -19.43 length: 19\n"
     ]
    },
    {
     "name": "stderr",
     "output_type": "stream",
     "text": [
      "\r",
      "\u001b[32mProgress:  66%|███████████████████████████▏             |  ETA: 0:02:58\u001b[39m"
     ]
    },
    {
     "name": "stdout",
     "output_type": "stream",
     "text": [
      "step: 13220000 reward : -19.595 length: 19\n",
      "step: 13230000 reward : -19.973 length: 19\n",
      "step: 13240000 reward : -19.536 length: 19\n",
      "step: 13250000 reward : -20.287 length: 19\n"
     ]
    },
    {
     "name": "stderr",
     "output_type": "stream",
     "text": [
      "\r",
      "\u001b[32mProgress:  66%|███████████████████████████▏             |  ETA: 0:02:57\u001b[39m"
     ]
    },
    {
     "name": "stdout",
     "output_type": "stream",
     "text": [
      "step: 13260000 reward : -21.275 length: 19\n",
      "step: 13270000 reward : -19.901 length: 19\n",
      "step: 13280000 reward : -20.153 length: 19\n",
      "step: 13290000 reward : -19.933 length: 19\n",
      "parameters at step 13300000 saved to ./RL_models_slow/cf_sac_13300000.bson\n",
      "step: 13300000 reward : -20.111 length: 19\n"
     ]
    },
    {
     "name": "stderr",
     "output_type": "stream",
     "text": [
      "\r",
      "\u001b[32mProgress:  67%|███████████████████████████▎             |  ETA: 0:02:56\u001b[39m"
     ]
    },
    {
     "name": "stdout",
     "output_type": "stream",
     "text": [
      "step: 13310000 reward : -20.457 length: 19\n",
      "step: 13320000 reward : -19.593 length: 19\n",
      "step: 13330000 reward : -20.001 length: 19\n",
      "step: 13340000 reward : -20.014 length: 19\n",
      "step: 13350000 reward : -19.08 length: 18\n"
     ]
    },
    {
     "name": "stderr",
     "output_type": "stream",
     "text": [
      "\r",
      "\u001b[32mProgress:  67%|███████████████████████████▍             |  ETA: 0:02:54\u001b[39m"
     ]
    },
    {
     "name": "stdout",
     "output_type": "stream",
     "text": [
      "step: 13360000 reward : -19.835 length: 19\n",
      "step: 13370000 reward : -20.009 length: 19\n",
      "step: 13380000 reward : -20.359 length: 19\n",
      "step: 13390000 reward : -19.443 length: 19\n",
      "parameters at step 13400000 saved to ./RL_models_slow/cf_sac_13400000.bson"
     ]
    },
    {
     "name": "stderr",
     "output_type": "stream",
     "text": [
      "\r",
      "\u001b[32mProgress:  67%|███████████████████████████▌             |  ETA: 0:02:53\u001b[39m"
     ]
    },
    {
     "name": "stdout",
     "output_type": "stream",
     "text": [
      "\n",
      "step: 13400000 reward : -20.131 length: 19\n",
      "step: 13410000 reward : -20.773 length: 19\n",
      "step: 13420000 reward : -20.089 length: 19\n",
      "step: 13430000 reward : -20.144 length: 19\n",
      "step: 13440000 reward : -20.887 length: 19\n"
     ]
    },
    {
     "name": "stderr",
     "output_type": "stream",
     "text": [
      "\r",
      "\u001b[32mProgress:  67%|███████████████████████████▋             |  ETA: 0:02:51\u001b[39m"
     ]
    },
    {
     "name": "stdout",
     "output_type": "stream",
     "text": [
      "step: 13450000 reward : -19.644 length: 19\n",
      "step: 13460000 reward : -20.411 length: 19\n",
      "step: 13470000 reward : -20.786 length: 19\n",
      "step: 13480000 reward : -19.839 length: 19\n",
      "step: 13490000 reward : -19.801 length: 19\n",
      "parameters at step 13500000 saved to ./RL_models_slow/cf_sac_13500000.bson"
     ]
    },
    {
     "name": "stderr",
     "output_type": "stream",
     "text": [
      "\r",
      "\u001b[32mProgress:  68%|███████████████████████████▋             |  ETA: 0:02:50\u001b[39m"
     ]
    },
    {
     "name": "stdout",
     "output_type": "stream",
     "text": [
      "\n",
      "step: 13500000 reward : -19.987 length: 19\n",
      "step: 13510000 reward : -19.48 length: 19\n",
      "step: 13520000 reward : -19.934 length: 19\n",
      "step: 13530000 reward : -20.206 length: 19\n",
      "step: 13540000 reward : -20.074 length: 19\n"
     ]
    },
    {
     "name": "stderr",
     "output_type": "stream",
     "text": [
      "\r",
      "\u001b[32mProgress:  68%|███████████████████████████▊             |  ETA: 0:02:49\u001b[39m"
     ]
    },
    {
     "name": "stdout",
     "output_type": "stream",
     "text": [
      "step: 13550000 reward : -20.838 length: 19\n",
      "step: 13560000 reward : -19.933 length: 19\n",
      "step: 13570000 reward : -20.499 length: 19\n",
      "step: 13580000 reward : -19.763 length: 19\n",
      "step: 13590000 reward : -20.02 length: 19\n"
     ]
    },
    {
     "name": "stderr",
     "output_type": "stream",
     "text": [
      "\r",
      "\u001b[32mProgress:  68%|███████████████████████████▉             |  ETA: 0:02:47\u001b[39m"
     ]
    },
    {
     "name": "stdout",
     "output_type": "stream",
     "text": [
      "parameters at step 13600000 saved to ./RL_models_slow/cf_sac_13600000.bson\n",
      "step: 13600000 reward : -20.491 length: 19\n",
      "step: 13610000 reward : -20.347 length: 19\n",
      "step: 13620000 reward : -20.365 length: 19\n",
      "step: 13630000 reward : -20.315 length: 19\n"
     ]
    },
    {
     "name": "stderr",
     "output_type": "stream",
     "text": [
      "\r",
      "\u001b[32mProgress:  68%|████████████████████████████             |  ETA: 0:02:46\u001b[39m"
     ]
    },
    {
     "name": "stdout",
     "output_type": "stream",
     "text": [
      "step: 13640000 reward : -20.037 length: 19\n",
      "step: 13650000 reward : -20.411 length: 19\n",
      "step: 13660000 reward : -19.473 length: 19\n",
      "step: 13670000 reward : -19.383 length: 19\n",
      "step: 13680000 reward : -20.582 length: 19\n"
     ]
    },
    {
     "name": "stderr",
     "output_type": "stream",
     "text": [
      "\r",
      "\u001b[32mProgress:  68%|████████████████████████████             |  ETA: 0:02:45\u001b[39m"
     ]
    },
    {
     "name": "stdout",
     "output_type": "stream",
     "text": [
      "step: 13690000 reward : -20.089 length: 19\n",
      "parameters at step 13700000 saved to ./RL_models_slow/cf_sac_13700000.bson\n",
      "step: 13700000 reward : -19.445 length: 19\n",
      "step: 13710000 reward : -20.187 length: 19\n",
      "step: 13720000 reward : -19.775 length: 19\n"
     ]
    },
    {
     "name": "stderr",
     "output_type": "stream",
     "text": [
      "\r",
      "\u001b[32mProgress:  69%|████████████████████████████▏            |  ETA: 0:02:44\u001b[39m"
     ]
    },
    {
     "name": "stdout",
     "output_type": "stream",
     "text": [
      "step: 13730000 reward : -19.844 length: 19\n",
      "step: 13740000 reward : -21.243 length: 19\n",
      "step: 13750000 reward : -19.907 length: 19\n",
      "step: 13760000 reward : -19.93 length: 19\n"
     ]
    },
    {
     "name": "stderr",
     "output_type": "stream",
     "text": [
      "\r",
      "\u001b[32mProgress:  69%|████████████████████████████▎            |  ETA: 0:02:43\u001b[39m"
     ]
    },
    {
     "name": "stdout",
     "output_type": "stream",
     "text": [
      "step: 13770000 reward : -19.698 length: 19\n",
      "step: 13780000 reward : -19.674 length: 19\n",
      "step: 13790000 reward : -19.711 length: 19\n",
      "parameters at step 13800000 saved to ./RL_models_slow/cf_sac_13800000.bson\n",
      "step: 13800000 reward : -19.921 length: 19\n",
      "step: 13810000 reward : -20.256 length: 19\n"
     ]
    },
    {
     "name": "stderr",
     "output_type": "stream",
     "text": [
      "\r",
      "\u001b[32mProgress:  69%|████████████████████████████▍            |  ETA: 0:02:42\u001b[39m"
     ]
    },
    {
     "name": "stdout",
     "output_type": "stream",
     "text": [
      "step: 13820000 reward : -20.794 length: 19\n",
      "step: 13830000 reward : -20.492 length: 19\n",
      "step: 13840000 reward : -19.552 length: 19\n",
      "step: 13850000 reward : -19.757 length: 19\n"
     ]
    },
    {
     "name": "stderr",
     "output_type": "stream",
     "text": [
      "\r",
      "\u001b[32mProgress:  69%|████████████████████████████▍            |  ETA: 0:02:40\u001b[39m"
     ]
    },
    {
     "name": "stdout",
     "output_type": "stream",
     "text": [
      "step: 13860000 reward : -20.06 length: 19\n",
      "step: 13870000 reward : -19.768 length: 19\n",
      "step: 13880000 reward : -20.328 length: 19\n",
      "step: 13890000 reward : -19.969 length: 19\n",
      "parameters at step 13900000 saved to ./RL_models_slow/cf_sac_13900000.bson\n",
      "step: 13900000 reward : -19.822 length: 19\n"
     ]
    },
    {
     "name": "stderr",
     "output_type": "stream",
     "text": [
      "\r",
      "\u001b[32mProgress:  70%|████████████████████████████▌            |  ETA: 0:02:39\u001b[39m"
     ]
    },
    {
     "name": "stdout",
     "output_type": "stream",
     "text": [
      "step: 13910000 reward : -19.458 length: 19\n",
      "step: 13920000 reward : -20.731 length: 19\n",
      "step: 13930000 reward : -19.733 length: 19\n",
      "step: 13940000 reward : -21.277 length: 19\n"
     ]
    },
    {
     "name": "stderr",
     "output_type": "stream",
     "text": [
      "\r",
      "\u001b[32mProgress:  70%|████████████████████████████▋            |  ETA: 0:02:38\u001b[39m"
     ]
    },
    {
     "name": "stdout",
     "output_type": "stream",
     "text": [
      "step: 13950000 reward : -19.698 length: 19\n",
      "step: 13960000 reward : -19.447 length: 19\n",
      "step: 13970000 reward : -20.026 length: 19\n",
      "step: 13980000 reward : -19.547 length: 19\n",
      "step: 13990000 reward : -20.117 length: 19\n"
     ]
    },
    {
     "name": "stderr",
     "output_type": "stream",
     "text": [
      "\r",
      "\u001b[32mProgress:  70%|████████████████████████████▊            |  ETA: 0:02:37\u001b[39m"
     ]
    },
    {
     "name": "stdout",
     "output_type": "stream",
     "text": [
      "parameters at step 14000000 saved to ./RL_models_slow/cf_sac_14000000.bson\n",
      "step: 14000000 reward : -19.591 length: 19\n",
      "step: 14010000 reward : -20.082 length: 19\n",
      "step: 14020000 reward : -20.958 length: 19\n",
      "step: 14030000 reward : -19.988 length: 19\n",
      "step: 14040000 reward : -19.752 length: 19\n"
     ]
    },
    {
     "name": "stderr",
     "output_type": "stream",
     "text": [
      "\r",
      "\u001b[32mProgress:  70%|████████████████████████████▊            |  ETA: 0:02:35\u001b[39m"
     ]
    },
    {
     "name": "stdout",
     "output_type": "stream",
     "text": [
      "step: 14050000 reward : -20.169 length: 19\n",
      "step: 14060000 reward : -19.961 length: 19\n",
      "step: 14070000 reward : -20.051 length: 19\n",
      "step: 14080000 reward : -19.928 length: 19\n",
      "step: 14090000 reward : -20.414 length: 19\n"
     ]
    },
    {
     "name": "stderr",
     "output_type": "stream",
     "text": [
      "\r",
      "\u001b[32mProgress:  70%|████████████████████████████▉            |  ETA: 0:02:34\u001b[39m"
     ]
    },
    {
     "name": "stdout",
     "output_type": "stream",
     "text": [
      "parameters at step 14100000 saved to ./RL_models_slow/cf_sac_14100000.bson\n",
      "step: 14100000 reward : -20.464 length: 19\n",
      "step: 14110000 reward : -20.203 length: 19\n",
      "step: 14120000 reward : -20.224 length: 19\n",
      "step: 14130000 reward : -19.881 length: 19\n",
      "step: 14140000 reward : -19.563 length: 19\n"
     ]
    },
    {
     "name": "stderr",
     "output_type": "stream",
     "text": [
      "\r",
      "\u001b[32mProgress:  71%|█████████████████████████████            |  ETA: 0:02:32\u001b[39m"
     ]
    },
    {
     "name": "stdout",
     "output_type": "stream",
     "text": [
      "step: 14150000 reward : -20.394 length: 19\n",
      "step: 14160000 reward : -19.769 length: 19\n",
      "step: 14170000 reward : -19.634 length: 19\n",
      "step: 14180000 reward : -20.92 length: 19\n"
     ]
    },
    {
     "name": "stderr",
     "output_type": "stream",
     "text": [
      "\r",
      "\u001b[32mProgress:  71%|█████████████████████████████▏           |  ETA: 0:02:31\u001b[39m"
     ]
    },
    {
     "name": "stdout",
     "output_type": "stream",
     "text": [
      "step: 14190000 reward : -20.437 length: 19\n",
      "parameters at step 14200000 saved to ./RL_models_slow/cf_sac_14200000.bson\n",
      "step: 14200000 reward : -20.543 length: 19\n",
      "step: 14210000 reward : -19.626 length: 19\n",
      "step: 14220000 reward : -19.766 length: 19\n",
      "step: 14230000 reward : -20.333 length: 19\n"
     ]
    },
    {
     "name": "stderr",
     "output_type": "stream",
     "text": [
      "\r",
      "\u001b[32mProgress:  71%|█████████████████████████████▏           |  ETA: 0:02:30\u001b[39m"
     ]
    },
    {
     "name": "stdout",
     "output_type": "stream",
     "text": [
      "step: 14240000 reward : -20.134 length: 19\n",
      "step: 14250000 reward : -21.03 length: 19\n",
      "step: 14260000 reward : -19.642 length: 19\n",
      "step: 14270000 reward : -20.097 length: 19\n",
      "step: 14280000 reward : -19.776 length: 19\n"
     ]
    },
    {
     "name": "stderr",
     "output_type": "stream",
     "text": [
      "\r",
      "\u001b[32mProgress:  71%|█████████████████████████████▎           |  ETA: 0:02:29\u001b[39m"
     ]
    },
    {
     "name": "stdout",
     "output_type": "stream",
     "text": [
      "step: 14290000 reward : -21.206 length: 20\n",
      "parameters at step 14300000 saved to ./RL_models_slow/cf_sac_14300000.bson\n",
      "step: 14300000 reward : -19.941 length: 19\n",
      "step: 14310000 reward : -19.896 length: 19\n",
      "step: 14320000 reward : -19.587 length: 19\n"
     ]
    },
    {
     "name": "stderr",
     "output_type": "stream",
     "text": [
      "\r",
      "\u001b[32mProgress:  72%|█████████████████████████████▍           |  ETA: 0:02:28\u001b[39m"
     ]
    },
    {
     "name": "stdout",
     "output_type": "stream",
     "text": [
      "step: 14330000 reward : -19.909 length: 19\n",
      "step: 14340000 reward : -19.928 length: 19\n",
      "step: 14350000 reward : -20.202 length: 19\n",
      "step: 14360000 reward : -20.26 length: 19\n"
     ]
    },
    {
     "name": "stderr",
     "output_type": "stream",
     "text": [
      "\r",
      "\u001b[32mProgress:  72%|█████████████████████████████▌           |  ETA: 0:02:27\u001b[39m"
     ]
    },
    {
     "name": "stdout",
     "output_type": "stream",
     "text": [
      "step: 14370000 reward : -19.773 length: 19\n",
      "step: 14380000 reward : -20.328 length: 19\n",
      "step: 14390000 reward : -19.641 length: 19\n",
      "parameters at step 14400000 saved to ./RL_models_slow/cf_sac_14400000.bson\n",
      "step: 14400000 reward : -19.885 length: 19\n",
      "step: 14410000 reward : -19.826 length: 19\n"
     ]
    },
    {
     "name": "stderr",
     "output_type": "stream",
     "text": [
      "\r",
      "\u001b[32mProgress:  72%|█████████████████████████████▌           |  ETA: 0:02:25\u001b[39m"
     ]
    },
    {
     "name": "stdout",
     "output_type": "stream",
     "text": [
      "step: 14420000 reward : -20.484 length: 19\n",
      "step: 14430000 reward : -20.072 length: 19\n",
      "step: 14440000 reward : -20.236 length: 19\n",
      "step: 14450000 reward : -20.088 length: 19\n"
     ]
    },
    {
     "name": "stderr",
     "output_type": "stream",
     "text": [
      "\r",
      "\u001b[32mProgress:  72%|█████████████████████████████▋           |  ETA: 0:02:24\u001b[39m"
     ]
    },
    {
     "name": "stdout",
     "output_type": "stream",
     "text": [
      "step: 14460000 reward : -20.466 length: 19\n",
      "step: 14470000 reward : -20.215 length: 19\n",
      "step: 14480000 reward : -20.659 length: 19\n",
      "step: 14490000 reward : -19.81 length: 19\n",
      "parameters at step 14500000 saved to ./RL_models_slow/cf_sac_14500000.bson\n",
      "step: 14500000 reward : -19.773 length: 19\n"
     ]
    },
    {
     "name": "stderr",
     "output_type": "stream",
     "text": [
      "\r",
      "\u001b[32mProgress:  73%|█████████████████████████████▊           |  ETA: 0:02:23\u001b[39m"
     ]
    },
    {
     "name": "stdout",
     "output_type": "stream",
     "text": [
      "step: 14510000 reward : -19.47 length: 19\n",
      "step: 14520000 reward : -20.259 length: 19\n",
      "step: 14530000 reward : -20.147 length: 19\n",
      "step: 14540000 reward : -19.641 length: 19\n"
     ]
    },
    {
     "name": "stderr",
     "output_type": "stream",
     "text": [
      "\r",
      "\u001b[32mProgress:  73%|█████████████████████████████▉           |  ETA: 0:02:22\u001b[39m"
     ]
    },
    {
     "name": "stdout",
     "output_type": "stream",
     "text": [
      "step: 14550000 reward : -20.664 length: 19\n",
      "step: 14560000 reward : -20.285 length: 19\n",
      "step: 14570000 reward : -19.544 length: 19\n",
      "step: 14580000 reward : -19.513 length: 19\n",
      "step: 14590000 reward : -20.52 length: 19\n"
     ]
    },
    {
     "name": "stderr",
     "output_type": "stream",
     "text": [
      "\r",
      "\u001b[32mProgress:  73%|█████████████████████████████▉           |  ETA: 0:02:20\u001b[39m"
     ]
    },
    {
     "name": "stdout",
     "output_type": "stream",
     "text": [
      "parameters at step 14600000 saved to ./RL_models_slow/cf_sac_14600000.bson\n",
      "step: 14600000 reward : -19.87 length: 19\n",
      "step: 14610000 reward : -19.631 length: 19\n",
      "step: 14620000 reward : -20.651 length: 19\n",
      "step: 14630000 reward : -20.157 length: 19\n",
      "step: 14640000 reward : -20.056 length: 19\n"
     ]
    },
    {
     "name": "stderr",
     "output_type": "stream",
     "text": [
      "\r",
      "\u001b[32mProgress:  73%|██████████████████████████████           |  ETA: 0:02:19\u001b[39m"
     ]
    },
    {
     "name": "stdout",
     "output_type": "stream",
     "text": [
      "step: 14650000 reward : -20.44 length: 19\n",
      "step: 14660000 reward : -19.805 length: 19\n",
      "step: 14670000 reward : -20.673 length: 20\n",
      "step: 14680000 reward : -20.542 length: 19\n",
      "step: 14690000 reward : -19.786 length: 19\n"
     ]
    },
    {
     "name": "stderr",
     "output_type": "stream",
     "text": [
      "\r",
      "\u001b[32mProgress:  73%|██████████████████████████████▏          |  ETA: 0:02:18\u001b[39m"
     ]
    },
    {
     "name": "stdout",
     "output_type": "stream",
     "text": [
      "parameters at step 14700000 saved to ./RL_models_slow/cf_sac_14700000.bson\n",
      "step: 14700000 reward : -19.826 length: 19\n",
      "step: 14710000 reward : -20.001 length: 19\n",
      "step: 14720000 reward : -19.446 length: 19\n",
      "step: 14730000 reward : -20.517 length: 19\n",
      "step: 14740000 reward : -19.582 length: 19\n"
     ]
    },
    {
     "name": "stderr",
     "output_type": "stream",
     "text": [
      "\r",
      "\u001b[32mProgress:  74%|██████████████████████████████▎          |  ETA: 0:02:16\u001b[39m"
     ]
    },
    {
     "name": "stdout",
     "output_type": "stream",
     "text": [
      "step: 14750000 reward : -20.376 length: 19\n",
      "step: 14760000 reward : -20.802 length: 19\n",
      "step: 14770000 reward : -19.946 length: 19\n",
      "step: 14780000 reward : -19.773 length: 19\n"
     ]
    },
    {
     "name": "stderr",
     "output_type": "stream",
     "text": [
      "\r",
      "\u001b[32mProgress:  74%|██████████████████████████████▍          |  ETA: 0:02:15\u001b[39m"
     ]
    },
    {
     "name": "stdout",
     "output_type": "stream",
     "text": [
      "step: 14790000 reward : -20.518 length: 19\n",
      "parameters at step 14800000 saved to ./RL_models_slow/cf_sac_14800000.bson\n",
      "step: 14800000 reward : -20.025 length: 19\n",
      "step: 14810000 reward : -21.251 length: 19\n",
      "step: 14820000 reward : -19.475 length: 19\n",
      "step: 14830000 reward : -19.856 length: 19\n"
     ]
    },
    {
     "name": "stderr",
     "output_type": "stream",
     "text": [
      "\r",
      "\u001b[32mProgress:  74%|██████████████████████████████▍          |  ETA: 0:02:14\u001b[39m"
     ]
    },
    {
     "name": "stdout",
     "output_type": "stream",
     "text": [
      "step: 14840000 reward : -19.99 length: 19\n",
      "step: 14850000 reward : -20.19 length: 19\n",
      "step: 14860000 reward : -20.307 length: 19\n",
      "step: 14870000 reward : -20.306 length: 19\n"
     ]
    },
    {
     "name": "stderr",
     "output_type": "stream",
     "text": [
      "\r",
      "\u001b[32mProgress:  74%|██████████████████████████████▌          |  ETA: 0:02:13\u001b[39m"
     ]
    },
    {
     "name": "stdout",
     "output_type": "stream",
     "text": [
      "step: 14880000 reward : -19.857 length: 19\n",
      "step: 14890000 reward : -20.256 length: 19\n",
      "parameters at step 14900000 saved to ./RL_models_slow/cf_sac_14900000.bson\n",
      "step: 14900000 reward : -20.386 length: 19\n",
      "step: 14910000 reward : -19.445 length: 19\n",
      "step: 14920000 reward : -19.902 length: 19\n"
     ]
    },
    {
     "name": "stderr",
     "output_type": "stream",
     "text": [
      "\r",
      "\u001b[32mProgress:  75%|██████████████████████████████▋          |  ETA: 0:02:12\u001b[39m"
     ]
    },
    {
     "name": "stdout",
     "output_type": "stream",
     "text": [
      "step: 14930000 reward : -20.253 length: 19\n",
      "step: 14940000 reward : -19.652 length: 19\n",
      "step: 14950000 reward : -19.843 length: 19\n",
      "step: 14960000 reward : -20.11 length: 19\n"
     ]
    },
    {
     "name": "stderr",
     "output_type": "stream",
     "text": [
      "\r",
      "\u001b[32mProgress:  75%|██████████████████████████████▊          |  ETA: 0:02:10\u001b[39m"
     ]
    },
    {
     "name": "stdout",
     "output_type": "stream",
     "text": [
      "step: 14970000 reward : -19.875 length: 19\n",
      "step: 14980000 reward : -19.956 length: 19\n",
      "step: 14990000 reward : -20.116 length: 19\n",
      "parameters at step 15000000 saved to ./RL_models_slow/cf_sac_15000000.bson\n",
      "step: 15000000 reward : -20.123 length: 19\n",
      "step: 15010000 reward : -19.676 length: 19\n"
     ]
    },
    {
     "name": "stderr",
     "output_type": "stream",
     "text": [
      "\r",
      "\u001b[32mProgress:  75%|██████████████████████████████▊          |  ETA: 0:02:09\u001b[39m"
     ]
    },
    {
     "name": "stdout",
     "output_type": "stream",
     "text": [
      "step: 15020000 reward : -19.986 length: 19\n",
      "step: 15030000 reward : -20.13 length: 19\n",
      "step: 15040000 reward : -20.053 length: 19\n",
      "step: 15050000 reward : -19.649 length: 19\n"
     ]
    },
    {
     "name": "stderr",
     "output_type": "stream",
     "text": [
      "\r",
      "\u001b[32mProgress:  75%|██████████████████████████████▉          |  ETA: 0:02:08\u001b[39m"
     ]
    },
    {
     "name": "stdout",
     "output_type": "stream",
     "text": [
      "step: 15060000 reward : -19.638 length: 19\n",
      "step: 15070000 reward : -19.75 length: 19\n",
      "step: 15080000 reward : -19.516 length: 19\n",
      "step: 15090000 reward : -19.914 length: 19\n",
      "parameters at step 15100000 saved to ./RL_models_slow/cf_sac_15100000.bson\n",
      "step: 15100000 reward : -20.587 length: 19\n"
     ]
    },
    {
     "name": "stderr",
     "output_type": "stream",
     "text": [
      "\r",
      "\u001b[32mProgress:  76%|███████████████████████████████          |  ETA: 0:02:07\u001b[39m"
     ]
    },
    {
     "name": "stdout",
     "output_type": "stream",
     "text": [
      "step: 15110000 reward : -19.698 length: 19\n",
      "step: 15120000 reward : -19.869 length: 19\n",
      "step: 15130000 reward : -20.303 length: 19\n",
      "step: 15140000 reward : -19.808 length: 19\n",
      "step: 15150000 reward : -20.467 length: 19\n"
     ]
    },
    {
     "name": "stderr",
     "output_type": "stream",
     "text": [
      "\r",
      "\u001b[32mProgress:  76%|███████████████████████████████▏         |  ETA: 0:02:05\u001b[39m"
     ]
    },
    {
     "name": "stdout",
     "output_type": "stream",
     "text": [
      "step: 15160000 reward : -19.954 length: 19\n",
      "step: 15170000 reward : -19.799 length: 19\n",
      "step: 15180000 reward : -19.493 length: 19\n",
      "step: 15190000 reward : -19.796 length: 19\n",
      "parameters at step 15200000 saved to ./RL_models_slow/cf_sac_15200000.bson"
     ]
    },
    {
     "name": "stderr",
     "output_type": "stream",
     "text": [
      "\r",
      "\u001b[32mProgress:  76%|███████████████████████████████▏         |  ETA: 0:02:04\u001b[39m"
     ]
    },
    {
     "name": "stdout",
     "output_type": "stream",
     "text": [
      "\n",
      "step: 15200000 reward : -19.939 length: 19\n",
      "step: 15210000 reward : -20.187 length: 19\n",
      "step: 15220000 reward : -20.274 length: 19\n",
      "step: 15230000 reward : -20.429 length: 19\n",
      "step: 15240000 reward : -20.675 length: 19\n"
     ]
    },
    {
     "name": "stderr",
     "output_type": "stream",
     "text": [
      "\r",
      "\u001b[32mProgress:  76%|███████████████████████████████▎         |  ETA: 0:02:03\u001b[39m"
     ]
    },
    {
     "name": "stdout",
     "output_type": "stream",
     "text": [
      "step: 15250000 reward : -20.028 length: 19\n",
      "step: 15260000 reward : -19.475 length: 19\n",
      "step: 15270000 reward : -19.55 length: 19\n",
      "step: 15280000 reward : -21.024 length: 19\n",
      "step: 15290000 reward : -19.643 length: 19\n"
     ]
    },
    {
     "name": "stderr",
     "output_type": "stream",
     "text": [
      "\r",
      "\u001b[32mProgress:  76%|███████████████████████████████▍         |  ETA: 0:02:02\u001b[39m"
     ]
    },
    {
     "name": "stdout",
     "output_type": "stream",
     "text": [
      "parameters at step 15300000 saved to ./RL_models_slow/cf_sac_15300000.bson\n",
      "step: 15300000 reward : -20.096 length: 19\n",
      "step: 15310000 reward : -20.128 length: 19\n",
      "step: 15320000 reward : -19.884 length: 19\n",
      "step: 15330000 reward : -19.76 length: 19\n",
      "step: 15340000 reward : -19.766 length: 19\n"
     ]
    },
    {
     "name": "stderr",
     "output_type": "stream",
     "text": [
      "\r",
      "\u001b[32mProgress:  77%|███████████████████████████████▌         |  ETA: 0:02:00\u001b[39m"
     ]
    },
    {
     "name": "stdout",
     "output_type": "stream",
     "text": [
      "step: 15350000 reward : -20.035 length: 19\n",
      "step: 15360000 reward : -20.842 length: 19\n",
      "step: 15370000 reward : -19.877 length: 19\n",
      "step: 15380000 reward : -20.052 length: 19\n"
     ]
    },
    {
     "name": "stderr",
     "output_type": "stream",
     "text": [
      "\r",
      "\u001b[32mProgress:  77%|███████████████████████████████▌         |  ETA: 0:01:59\u001b[39m"
     ]
    },
    {
     "name": "stdout",
     "output_type": "stream",
     "text": [
      "step: 15390000 reward : -20.389 length: 19\n",
      "parameters at step 15400000 saved to ./RL_models_slow/cf_sac_15400000.bson\n",
      "step: 15400000 reward : -19.609 length: 19\n",
      "step: 15410000 reward : -20.396 length: 19\n",
      "step: 15420000 reward : -19.53 length: 19\n",
      "step: 15430000 reward : -20.086 length: 19\n"
     ]
    },
    {
     "name": "stderr",
     "output_type": "stream",
     "text": [
      "\r",
      "\u001b[32mProgress:  77%|███████████████████████████████▋         |  ETA: 0:01:58\u001b[39m"
     ]
    },
    {
     "name": "stdout",
     "output_type": "stream",
     "text": [
      "step: 15440000 reward : -19.454 length: 19\n",
      "step: 15450000 reward : -19.724 length: 19\n",
      "step: 15460000 reward : -19.897 length: 19\n",
      "step: 15470000 reward : -19.894 length: 19\n"
     ]
    },
    {
     "name": "stderr",
     "output_type": "stream",
     "text": [
      "\r",
      "\u001b[32mProgress:  77%|███████████████████████████████▊         |  ETA: 0:01:57\u001b[39m"
     ]
    },
    {
     "name": "stdout",
     "output_type": "stream",
     "text": [
      "step: 15480000 reward : -20.431 length: 19\n",
      "step: 15490000 reward : -20.442 length: 19\n",
      "parameters at step 15500000 saved to ./RL_models_slow/cf_sac_15500000.bson\n",
      "step: 15500000 reward : -20.434 length: 19\n",
      "step: 15510000 reward : -19.6 length: 19\n"
     ]
    },
    {
     "name": "stderr",
     "output_type": "stream",
     "text": [
      "\r",
      "\u001b[32mProgress:  78%|███████████████████████████████▉         |  ETA: 0:01:56\u001b[39m"
     ]
    },
    {
     "name": "stdout",
     "output_type": "stream",
     "text": [
      "step: 15520000 reward : -20.247 length: 19\n",
      "step: 15530000 reward : -19.709 length: 19\n",
      "step: 15540000 reward : -20.091 length: 19\n",
      "step: 15550000 reward : -19.767 length: 19\n",
      "step: 15560000 reward : -19.751 length: 19\n"
     ]
    },
    {
     "name": "stderr",
     "output_type": "stream",
     "text": [
      "\r",
      "\u001b[32mProgress:  78%|███████████████████████████████▉         |  ETA: 0:01:55\u001b[39m"
     ]
    },
    {
     "name": "stdout",
     "output_type": "stream",
     "text": [
      "step: 15570000 reward : -19.991 length: 19\n",
      "step: 15580000 reward : -20.335 length: 19\n",
      "step: 15590000 reward : -19.733 length: 19\n",
      "parameters at step 15600000 saved to ./RL_models_slow/cf_sac_15600000.bson\n",
      "step: 15600000 reward : -21.462 length: 19\n",
      "step: 15610000 reward : -19.453 length: 19\n"
     ]
    },
    {
     "name": "stderr",
     "output_type": "stream",
     "text": [
      "\r",
      "\u001b[32mProgress:  78%|████████████████████████████████         |  ETA: 0:01:53\u001b[39m"
     ]
    },
    {
     "name": "stdout",
     "output_type": "stream",
     "text": [
      "step: 15620000 reward : -20.075 length: 19\n",
      "step: 15630000 reward : -19.694 length: 19\n",
      "step: 15640000 reward : -20.101 length: 19\n",
      "step: 15650000 reward : -20.223 length: 19\n"
     ]
    },
    {
     "name": "stderr",
     "output_type": "stream",
     "text": [
      "\r",
      "\u001b[32mProgress:  78%|████████████████████████████████▏        |  ETA: 0:01:52\u001b[39m"
     ]
    },
    {
     "name": "stdout",
     "output_type": "stream",
     "text": [
      "step: 15660000 reward : -19.908 length: 19\n",
      "step: 15670000 reward : -20.479 length: 19\n",
      "step: 15680000 reward : -20.0 length: 19\n",
      "step: 15690000 reward : -20.33 length: 19\n",
      "parameters at step 15700000 saved to ./RL_models_slow/cf_sac_15700000.bson\n",
      "step: 15700000 reward : -19.635 length: 19\n"
     ]
    },
    {
     "name": "stderr",
     "output_type": "stream",
     "text": [
      "\r",
      "\u001b[32mProgress:  79%|████████████████████████████████▎        |  ETA: 0:01:51\u001b[39m"
     ]
    },
    {
     "name": "stdout",
     "output_type": "stream",
     "text": [
      "step: 15710000 reward : -19.781 length: 19\n",
      "step: 15720000 reward : -19.504 length: 19\n",
      "step: 15730000 reward : -19.798 length: 19\n",
      "step: 15740000 reward : -21.103 length: 19\n",
      "step: 15750000 reward : -20.345 length: 19\n"
     ]
    },
    {
     "name": "stderr",
     "output_type": "stream",
     "text": [
      "\r",
      "\u001b[32mProgress:  79%|████████████████████████████████▎        |  ETA: 0:01:50\u001b[39m"
     ]
    },
    {
     "name": "stdout",
     "output_type": "stream",
     "text": [
      "step: 15760000 reward : -19.538 length: 19\n",
      "step: 15770000 reward : -20.371 length: 19\n",
      "step: 15780000 reward : -19.605 length: 19\n",
      "step: 15790000 reward : -19.881 length: 19\n",
      "parameters at step 15800000 saved to ./RL_models_slow/cf_sac_15800000.bson"
     ]
    },
    {
     "name": "stderr",
     "output_type": "stream",
     "text": [
      "\r",
      "\u001b[32mProgress:  79%|████████████████████████████████▍        |  ETA: 0:01:48\u001b[39m"
     ]
    },
    {
     "name": "stdout",
     "output_type": "stream",
     "text": [
      "\n",
      "step: 15800000 reward : -19.683 length: 19\n",
      "step: 15810000 reward : -20.775 length: 20\n",
      "step: 15820000 reward : -19.639 length: 19\n",
      "step: 15830000 reward : -20.448 length: 19\n",
      "step: 15840000 reward : -19.817 length: 19\n"
     ]
    },
    {
     "name": "stderr",
     "output_type": "stream",
     "text": [
      "\r",
      "\u001b[32mProgress:  79%|████████████████████████████████▌        |  ETA: 0:01:47\u001b[39m"
     ]
    },
    {
     "name": "stdout",
     "output_type": "stream",
     "text": [
      "step: 15850000 reward : -20.347 length: 19\n",
      "step: 15860000 reward : -19.782 length: 19\n",
      "step: 15870000 reward : -19.739 length: 19\n",
      "step: 15880000 reward : -19.726 length: 19\n",
      "step: 15890000 reward : -20.375 length: 19\n"
     ]
    },
    {
     "name": "stderr",
     "output_type": "stream",
     "text": [
      "\r",
      "\u001b[32mProgress:  79%|████████████████████████████████▋        |  ETA: 0:01:46\u001b[39m"
     ]
    },
    {
     "name": "stdout",
     "output_type": "stream",
     "text": [
      "parameters at step 15900000 saved to ./RL_models_slow/cf_sac_15900000.bson\n",
      "step: 15900000 reward : -20.119 length: 19\n",
      "step: 15910000 reward : -20.239 length: 19\n",
      "step: 15920000 reward : -19.607 length: 19\n",
      "step: 15930000 reward : -20.531 length: 19\n",
      "step: 15940000 reward : -19.79 length: 19\n"
     ]
    },
    {
     "name": "stderr",
     "output_type": "stream",
     "text": [
      "\r",
      "\u001b[32mProgress:  80%|████████████████████████████████▊        |  ETA: 0:01:44\u001b[39m"
     ]
    },
    {
     "name": "stdout",
     "output_type": "stream",
     "text": [
      "step: 15950000 reward : -19.398 length: 19\n",
      "step: 15960000 reward : -20.105 length: 19\n",
      "step: 15970000 reward : -19.499 length: 19\n",
      "step: 15980000 reward : -20.445 length: 19\n"
     ]
    },
    {
     "name": "stderr",
     "output_type": "stream",
     "text": [
      "\r",
      "\u001b[32mProgress:  80%|████████████████████████████████▊        |  ETA: 0:01:43\u001b[39m"
     ]
    },
    {
     "name": "stdout",
     "output_type": "stream",
     "text": [
      "step: 15990000 reward : -20.049 length: 19\n",
      "parameters at step 16000000 saved to ./RL_models_slow/cf_sac_16000000.bson\n",
      "step: 16000000 reward : -20.102 length: 19\n",
      "step: 16010000 reward : -19.981 length: 19\n",
      "step: 16020000 reward : -20.129 length: 19\n",
      "step: 16030000 reward : -20.106 length: 19\n"
     ]
    },
    {
     "name": "stderr",
     "output_type": "stream",
     "text": [
      "\r",
      "\u001b[32mProgress:  80%|████████████████████████████████▉        |  ETA: 0:01:42\u001b[39m"
     ]
    },
    {
     "name": "stdout",
     "output_type": "stream",
     "text": [
      "step: 16040000 reward : -19.764 length: 19\n",
      "step: 16050000 reward : -20.229 length: 19\n",
      "step: 16060000 reward : -20.009 length: 19\n",
      "step: 16070000 reward : -20.588 length: 19\n",
      "step: 16080000 reward : -20.054 length: 19\n"
     ]
    },
    {
     "name": "stderr",
     "output_type": "stream",
     "text": [
      "\r",
      "\u001b[32mProgress:  80%|█████████████████████████████████        |  ETA: 0:01:41\u001b[39m"
     ]
    },
    {
     "name": "stdout",
     "output_type": "stream",
     "text": [
      "step: 16090000 reward : -19.698 length: 19\n",
      "parameters at step 16100000 saved to ./RL_models_slow/cf_sac_16100000.bson\n",
      "step: 16100000 reward : -19.592 length: 19\n",
      "step: 16110000 reward : -20.356 length: 19\n",
      "step: 16120000 reward : -19.687 length: 19\n",
      "step: 16130000 reward : -20.052 length: 19\n"
     ]
    },
    {
     "name": "stderr",
     "output_type": "stream",
     "text": [
      "\r",
      "\u001b[32mProgress:  81%|█████████████████████████████████▏       |  ETA: 0:01:39\u001b[39m"
     ]
    },
    {
     "name": "stdout",
     "output_type": "stream",
     "text": [
      "step: 16140000 reward : -19.68 length: 19\n",
      "step: 16150000 reward : -19.844 length: 19\n",
      "step: 16160000 reward : -19.768 length: 19\n",
      "step: 16170000 reward : -19.971 length: 19\n"
     ]
    },
    {
     "name": "stderr",
     "output_type": "stream",
     "text": [
      "\r",
      "\u001b[32mProgress:  81%|█████████████████████████████████▏       |  ETA: 0:01:38\u001b[39m"
     ]
    },
    {
     "name": "stdout",
     "output_type": "stream",
     "text": [
      "step: 16180000 reward : -20.048 length: 19\n",
      "step: 16190000 reward : -19.701 length: 19\n",
      "parameters at step 16200000 saved to ./RL_models_slow/cf_sac_16200000.bson\n",
      "step: 16200000 reward : -19.701 length: 19\n",
      "step: 16210000 reward : -19.977 length: 19\n",
      "step: 16220000 reward : -19.993 length: 19\n"
     ]
    },
    {
     "name": "stderr",
     "output_type": "stream",
     "text": [
      "\r",
      "\u001b[32mProgress:  81%|█████████████████████████████████▎       |  ETA: 0:01:37\u001b[39m"
     ]
    },
    {
     "name": "stdout",
     "output_type": "stream",
     "text": [
      "step: 16230000 reward : -20.31 length: 19\n",
      "step: 16240000 reward : -19.545 length: 19\n",
      "step: 16250000 reward : -20.526 length: 19\n",
      "step: 16260000 reward : -20.199 length: 19\n",
      "step: 16270000 reward : -19.76 length: 19\n"
     ]
    },
    {
     "name": "stderr",
     "output_type": "stream",
     "text": [
      "\r",
      "\u001b[32mProgress:  81%|█████████████████████████████████▍       |  ETA: 0:01:36\u001b[39m"
     ]
    },
    {
     "name": "stdout",
     "output_type": "stream",
     "text": [
      "step: 16280000 reward : -19.901 length: 19\n",
      "step: 16290000 reward : -19.897 length: 19\n",
      "parameters at step 16300000 saved to ./RL_models_slow/cf_sac_16300000.bson\n",
      "step: 16300000 reward : -20.078 length: 19\n",
      "step: 16310000 reward : -20.243 length: 19\n"
     ]
    },
    {
     "name": "stderr",
     "output_type": "stream",
     "text": [
      "\r",
      "\u001b[32mProgress:  82%|█████████████████████████████████▌       |  ETA: 0:01:35\u001b[39m"
     ]
    },
    {
     "name": "stdout",
     "output_type": "stream",
     "text": [
      "step: 16320000 reward : -19.662 length: 19\n",
      "step: 16330000 reward : -20.356 length: 19\n",
      "step: 16340000 reward : -20.907 length: 20\n",
      "step: 16350000 reward : -19.607 length: 19\n"
     ]
    },
    {
     "name": "stderr",
     "output_type": "stream",
     "text": [
      "\r",
      "\u001b[32mProgress:  82%|█████████████████████████████████▌       |  ETA: 0:01:34\u001b[39m"
     ]
    },
    {
     "name": "stdout",
     "output_type": "stream",
     "text": [
      "step: 16360000 reward : -20.139 length: 19\n",
      "step: 16370000 reward : -20.234 length: 19\n",
      "step: 16380000 reward : -19.69 length: 19\n",
      "step: 16390000 reward : -20.273 length: 19\n"
     ]
    },
    {
     "name": "stderr",
     "output_type": "stream",
     "text": [
      "\r",
      "\u001b[32mProgress:  82%|█████████████████████████████████▋       |  ETA: 0:01:33\u001b[39m"
     ]
    },
    {
     "name": "stdout",
     "output_type": "stream",
     "text": [
      "parameters at step 16400000 saved to ./RL_models_slow/cf_sac_16400000.bson\n",
      "step: 16400000 reward : -19.693 length: 19\n",
      "step: 16410000 reward : -19.86 length: 19\n",
      "step: 16420000 reward : -19.693 length: 19\n"
     ]
    },
    {
     "name": "stderr",
     "output_type": "stream",
     "text": [
      "\r",
      "\u001b[32mProgress:  82%|█████████████████████████████████▋       |  ETA: 0:01:32\u001b[39m"
     ]
    },
    {
     "name": "stdout",
     "output_type": "stream",
     "text": [
      "step: 16430000 reward : -20.045 length: 19\n",
      "step: 16440000 reward : -19.723 length: 19\n",
      "step: 16450000 reward : -20.376 length: 19\n",
      "step: 16460000 reward : -19.921 length: 19\n"
     ]
    },
    {
     "name": "stderr",
     "output_type": "stream",
     "text": [
      "\r",
      "\u001b[32mProgress:  82%|█████████████████████████████████▊       |  ETA: 0:01:31\u001b[39m"
     ]
    },
    {
     "name": "stdout",
     "output_type": "stream",
     "text": [
      "step: 16470000 reward : -20.188 length: 19\n",
      "step: 16480000 reward : -20.073 length: 19\n",
      "step: 16490000 reward : -20.412 length: 19\n",
      "parameters at step 16500000 saved to ./RL_models_slow/cf_sac_16500000.bson\n",
      "step: 16500000 reward : -20.252 length: 19\n"
     ]
    },
    {
     "name": "stderr",
     "output_type": "stream",
     "text": [
      "\r",
      "\u001b[32mProgress:  83%|█████████████████████████████████▉       |  ETA: 0:01:30\u001b[39m"
     ]
    },
    {
     "name": "stdout",
     "output_type": "stream",
     "text": [
      "step: 16510000 reward : -20.756 length: 19\n",
      "step: 16520000 reward : -19.603 length: 19\n",
      "step: 16530000 reward : -20.217 length: 19\n",
      "step: 16540000 reward : -19.623 length: 19\n"
     ]
    },
    {
     "name": "stderr",
     "output_type": "stream",
     "text": [
      "\r",
      "\u001b[32mProgress:  83%|█████████████████████████████████▉       |  ETA: 0:01:29\u001b[39m"
     ]
    },
    {
     "name": "stdout",
     "output_type": "stream",
     "text": [
      "step: 16550000 reward : -20.193 length: 19\n",
      "step: 16560000 reward : -20.023 length: 19\n",
      "step: 16570000 reward : -19.748 length: 19\n",
      "step: 16580000 reward : -19.85 length: 19\n",
      "step: 16590000 reward : -20.045 length: 19\n"
     ]
    },
    {
     "name": "stderr",
     "output_type": "stream",
     "text": [
      "\r",
      "\u001b[32mProgress:  83%|██████████████████████████████████       |  ETA: 0:01:28\u001b[39m"
     ]
    },
    {
     "name": "stdout",
     "output_type": "stream",
     "text": [
      "parameters at step 16600000 saved to ./RL_models_slow/cf_sac_16600000.bson\n",
      "step: 16600000 reward : -20.37 length: 19\n",
      "step: 16610000 reward : -20.537 length: 19\n",
      "step: 16620000 reward : -20.113 length: 19\n",
      "step: 16630000 reward : -19.948 length: 19\n"
     ]
    },
    {
     "name": "stderr",
     "output_type": "stream",
     "text": [
      "\r",
      "\u001b[32mProgress:  83%|██████████████████████████████████▏      |  ETA: 0:01:27\u001b[39m"
     ]
    },
    {
     "name": "stdout",
     "output_type": "stream",
     "text": [
      "step: 16640000 reward : -19.94 length: 19\n",
      "step: 16650000 reward : -20.446 length: 19\n",
      "step: 16660000 reward : -19.804 length: 19\n",
      "step: 16670000 reward : -19.971 length: 19\n",
      "step: 16680000 reward : -19.794 length: 19\n"
     ]
    },
    {
     "name": "stderr",
     "output_type": "stream",
     "text": [
      "\r",
      "\u001b[32mProgress:  83%|██████████████████████████████████▎      |  ETA: 0:01:25\u001b[39m"
     ]
    },
    {
     "name": "stdout",
     "output_type": "stream",
     "text": [
      "step: 16690000 reward : -19.628 length: 19\n",
      "parameters at step 16700000 saved to ./RL_models_slow/cf_sac_16700000.bson\n",
      "step: 16700000 reward : -20.187 length: 19\n",
      "step: 16710000 reward : -20.082 length: 19\n",
      "step: 16720000 reward : -19.387 length: 19\n"
     ]
    },
    {
     "name": "stderr",
     "output_type": "stream",
     "text": [
      "\r",
      "\u001b[32mProgress:  84%|██████████████████████████████████▎      |  ETA: 0:01:24\u001b[39m"
     ]
    },
    {
     "name": "stdout",
     "output_type": "stream",
     "text": [
      "step: 16730000 reward : -19.32 length: 18\n",
      "step: 16740000 reward : -19.546 length: 19\n",
      "step: 16750000 reward : -20.258 length: 19\n"
     ]
    },
    {
     "name": "stderr",
     "output_type": "stream",
     "text": [
      "\r",
      "\u001b[32mProgress:  84%|██████████████████████████████████▍      |  ETA: 0:01:24\u001b[39m"
     ]
    },
    {
     "name": "stdout",
     "output_type": "stream",
     "text": [
      "step: 16760000 reward : -20.553 length: 19\n",
      "step: 16770000 reward : -19.86 length: 19\n",
      "step: 16780000 reward : -19.817 length: 19\n",
      "step: 16790000 reward : -19.719 length: 19\n"
     ]
    },
    {
     "name": "stderr",
     "output_type": "stream",
     "text": [
      "\r",
      "\u001b[32mProgress:  84%|██████████████████████████████████▍      |  ETA: 0:01:23\u001b[39m"
     ]
    },
    {
     "name": "stdout",
     "output_type": "stream",
     "text": [
      "parameters at step 16800000 saved to ./RL_models_slow/cf_sac_16800000.bson\n",
      "step: 16800000 reward : -20.39 length: 19\n",
      "step: 16810000 reward : -20.115 length: 19\n",
      "step: 16820000 reward : -20.831 length: 19\n",
      "step: 16830000 reward : -19.474 length: 19\n"
     ]
    },
    {
     "name": "stderr",
     "output_type": "stream",
     "text": [
      "\r",
      "\u001b[32mProgress:  84%|██████████████████████████████████▌      |  ETA: 0:01:22\u001b[39m"
     ]
    },
    {
     "name": "stdout",
     "output_type": "stream",
     "text": [
      "step: 16840000 reward : -19.832 length: 19\n",
      "step: 16850000 reward : -19.862 length: 19\n",
      "step: 16860000 reward : -20.08 length: 19\n",
      "step: 16870000 reward : -20.328 length: 19\n"
     ]
    },
    {
     "name": "stderr",
     "output_type": "stream",
     "text": [
      "\r",
      "\u001b[32mProgress:  84%|██████████████████████████████████▋      |  ETA: 0:01:20\u001b[39m"
     ]
    },
    {
     "name": "stdout",
     "output_type": "stream",
     "text": [
      "step: 16880000 reward : -20.08 length: 19\n",
      "step: 16890000 reward : -19.862 length: 19\n",
      "parameters at step 16900000 saved to ./RL_models_slow/cf_sac_16900000.bson\n",
      "step: 16900000 reward : -19.549 length: 19\n",
      "step: 16910000 reward : -20.747 length: 19\n",
      "step: 16920000 reward : -20.148 length: 19\n"
     ]
    },
    {
     "name": "stderr",
     "output_type": "stream",
     "text": [
      "\r",
      "\u001b[32mProgress:  85%|██████████████████████████████████▊      |  ETA: 0:01:19\u001b[39m"
     ]
    },
    {
     "name": "stdout",
     "output_type": "stream",
     "text": [
      "step: 16930000 reward : -19.818 length: 19\n",
      "step: 16940000 reward : -19.554 length: 19\n",
      "step: 16950000 reward : -19.867 length: 19\n",
      "step: 16960000 reward : -20.734 length: 19\n",
      "step: 16970000 reward : -20.418 length: 19\n"
     ]
    },
    {
     "name": "stderr",
     "output_type": "stream",
     "text": [
      "\r",
      "\u001b[32mProgress:  85%|██████████████████████████████████▊      |  ETA: 0:01:18\u001b[39m"
     ]
    },
    {
     "name": "stdout",
     "output_type": "stream",
     "text": [
      "step: 16980000 reward : -19.551 length: 19\n",
      "step: 16990000 reward : -19.915 length: 19\n",
      "parameters at step 17000000 saved to ./RL_models_slow/cf_sac_17000000.bson\n",
      "step: 17000000 reward : -19.686 length: 19\n",
      "step: 17010000 reward : -20.417 length: 19\n"
     ]
    },
    {
     "name": "stderr",
     "output_type": "stream",
     "text": [
      "\r",
      "\u001b[32mProgress:  85%|██████████████████████████████████▉      |  ETA: 0:01:17\u001b[39m"
     ]
    },
    {
     "name": "stdout",
     "output_type": "stream",
     "text": [
      "step: 17020000 reward : -20.09 length: 19\n",
      "step: 17030000 reward : -20.768 length: 19\n",
      "step: 17040000 reward : -19.985 length: 19\n",
      "step: 17050000 reward : -19.738 length: 19\n",
      "step: 17060000 reward : -20.638 length: 19\n"
     ]
    },
    {
     "name": "stderr",
     "output_type": "stream",
     "text": [
      "\r",
      "\u001b[32mProgress:  85%|███████████████████████████████████      |  ETA: 0:01:15\u001b[39m"
     ]
    },
    {
     "name": "stdout",
     "output_type": "stream",
     "text": [
      "step: 17070000 reward : -19.422 length: 19\n",
      "step: 17080000 reward : -21.345 length: 19\n",
      "step: 17090000 reward : -21.256 length: 19\n",
      "parameters at step 17100000 saved to ./RL_models_slow/cf_sac_17100000.bson\n",
      "step: 17100000 reward : -19.964 length: 19\n",
      "step: 17110000 reward : -20.165 length: 19\n"
     ]
    },
    {
     "name": "stderr",
     "output_type": "stream",
     "text": [
      "\r",
      "\u001b[32mProgress:  86%|███████████████████████████████████▏     |  ETA: 0:01:14\u001b[39m"
     ]
    },
    {
     "name": "stdout",
     "output_type": "stream",
     "text": [
      "step: 17120000 reward : -19.691 length: 19\n",
      "step: 17130000 reward : -20.26 length: 19\n",
      "step: 17140000 reward : -19.995 length: 19\n",
      "step: 17150000 reward : -19.847 length: 19\n",
      "step: 17160000 reward : -20.438 length: 19\n"
     ]
    },
    {
     "name": "stderr",
     "output_type": "stream",
     "text": [
      "\r",
      "\u001b[32mProgress:  86%|███████████████████████████████████▎     |  ETA: 0:01:13\u001b[39m"
     ]
    },
    {
     "name": "stdout",
     "output_type": "stream",
     "text": [
      "step: 17170000 reward : -20.09 length: 19\n",
      "step: 17180000 reward : -19.97 length: 19\n",
      "step: 17190000 reward : -20.405 length: 18\n",
      "parameters at step 17200000 saved to ./RL_models_slow/cf_sac_17200000.bson\n",
      "step: 17200000 reward : -19.931 length: 19\n",
      "step: 17210000 reward : -21.092 length: 19\n"
     ]
    },
    {
     "name": "stderr",
     "output_type": "stream",
     "text": [
      "\r",
      "\u001b[32mProgress:  86%|███████████████████████████████████▎     |  ETA: 0:01:12\u001b[39m"
     ]
    },
    {
     "name": "stdout",
     "output_type": "stream",
     "text": [
      "step: 17220000 reward : -20.041 length: 19\n",
      "step: 17230000 reward : -19.882 length: 19\n",
      "step: 17240000 reward : -20.477 length: 19\n",
      "step: 17250000 reward : -20.13 length: 19\n"
     ]
    },
    {
     "name": "stderr",
     "output_type": "stream",
     "text": [
      "\r",
      "\u001b[32mProgress:  86%|███████████████████████████████████▍     |  ETA: 0:01:11\u001b[39m"
     ]
    },
    {
     "name": "stdout",
     "output_type": "stream",
     "text": [
      "step: 17260000 reward : -19.818 length: 19\n",
      "step: 17270000 reward : -19.935 length: 19\n",
      "step: 17280000 reward : -19.47 length: 19\n",
      "step: 17290000 reward : -21.543 length: 19\n",
      "parameters at step 17300000 saved to ./RL_models_slow/cf_sac_17300000.bson\n",
      "step: 17300000 reward : -20.152 length: 19\n"
     ]
    },
    {
     "name": "stderr",
     "output_type": "stream",
     "text": [
      "\r",
      "\u001b[32mProgress:  87%|███████████████████████████████████▌     |  ETA: 0:01:09\u001b[39m"
     ]
    },
    {
     "name": "stdout",
     "output_type": "stream",
     "text": [
      "step: 17310000 reward : -20.801 length: 19\n",
      "step: 17320000 reward : -19.758 length: 19\n",
      "step: 17330000 reward : -19.715 length: 19\n",
      "step: 17340000 reward : -19.738 length: 19\n"
     ]
    },
    {
     "name": "stderr",
     "output_type": "stream",
     "text": [
      "\r",
      "\u001b[32mProgress:  87%|███████████████████████████████████▋     |  ETA: 0:01:08\u001b[39m"
     ]
    },
    {
     "name": "stdout",
     "output_type": "stream",
     "text": [
      "step: 17350000 reward : -19.819 length: 19\n",
      "step: 17360000 reward : -20.763 length: 19\n",
      "step: 17370000 reward : -19.922 length: 19\n",
      "step: 17380000 reward : -20.852 length: 19\n",
      "step: 17390000 reward : -19.918 length: 19\n"
     ]
    },
    {
     "name": "stderr",
     "output_type": "stream",
     "text": [
      "\r",
      "\u001b[32mProgress:  87%|███████████████████████████████████▋     |  ETA: 0:01:07\u001b[39m"
     ]
    },
    {
     "name": "stdout",
     "output_type": "stream",
     "text": [
      "parameters at step 17400000 saved to ./RL_models_slow/cf_sac_17400000.bson\n",
      "step: 17400000 reward : -19.892 length: 19\n",
      "step: 17410000 reward : -19.47 length: 19\n",
      "step: 17420000 reward : -20.551 length: 19\n",
      "step: 17430000 reward : -20.286 length: 19\n",
      "step: 17440000 reward : -19.476 length: 19\n"
     ]
    },
    {
     "name": "stderr",
     "output_type": "stream",
     "text": [
      "\r",
      "\u001b[32mProgress:  87%|███████████████████████████████████▊     |  ETA: 0:01:06\u001b[39m"
     ]
    },
    {
     "name": "stdout",
     "output_type": "stream",
     "text": [
      "step: 17450000 reward : -20.034 length: 19\n",
      "step: 17460000 reward : -20.49 length: 19\n",
      "step: 17470000 reward : -19.647 length: 19\n",
      "step: 17480000 reward : -19.749 length: 19\n",
      "step: 17490000 reward : -20.249 length: 19\n"
     ]
    },
    {
     "name": "stderr",
     "output_type": "stream",
     "text": [
      "\r",
      "\u001b[32mProgress:  87%|███████████████████████████████████▉     |  ETA: 0:01:04\u001b[39m"
     ]
    },
    {
     "name": "stdout",
     "output_type": "stream",
     "text": [
      "parameters at step 17500000 saved to ./RL_models_slow/cf_sac_17500000.bson\n",
      "step: 17500000 reward : -20.022 length: 19\n",
      "step: 17510000 reward : -19.969 length: 19\n",
      "step: 17520000 reward : -20.957 length: 19\n",
      "step: 17530000 reward : -19.72 length: 19\n",
      "step: 17540000 reward : -19.737 length: 19\n"
     ]
    },
    {
     "name": "stderr",
     "output_type": "stream",
     "text": [
      "\r",
      "\u001b[32mProgress:  88%|████████████████████████████████████     |  ETA: 0:01:03\u001b[39m"
     ]
    },
    {
     "name": "stdout",
     "output_type": "stream",
     "text": [
      "step: 17550000 reward : -19.971 length: 19\n",
      "step: 17560000 reward : -19.802 length: 19\n",
      "step: 17570000 reward : -19.965 length: 19\n",
      "step: 17580000 reward : -20.364 length: 19\n"
     ]
    },
    {
     "name": "stderr",
     "output_type": "stream",
     "text": [
      "\r",
      "\u001b[32mProgress:  88%|████████████████████████████████████▏    |  ETA: 0:01:02\u001b[39m"
     ]
    },
    {
     "name": "stdout",
     "output_type": "stream",
     "text": [
      "step: 17590000 reward : -19.484 length: 19\n",
      "parameters at step 17600000 saved to ./RL_models_slow/cf_sac_17600000.bson\n",
      "step: 17600000 reward : -20.104 length: 19\n",
      "step: 17610000 reward : -19.635 length: 19\n",
      "step: 17620000 reward : -19.947 length: 19\n",
      "step: 17630000 reward : -20.376 length: 19\n"
     ]
    },
    {
     "name": "stderr",
     "output_type": "stream",
     "text": [
      "\r",
      "\u001b[32mProgress:  88%|████████████████████████████████████▏    |  ETA: 0:01:01\u001b[39m"
     ]
    },
    {
     "name": "stdout",
     "output_type": "stream",
     "text": [
      "step: 17640000 reward : -19.721 length: 19\n",
      "step: 17650000 reward : -20.64 length: 19\n",
      "step: 17660000 reward : -20.165 length: 19\n",
      "step: 17670000 reward : -20.085 length: 19\n"
     ]
    },
    {
     "name": "stderr",
     "output_type": "stream",
     "text": [
      "\r",
      "\u001b[32mProgress:  88%|████████████████████████████████████▎    |  ETA: 0:01:00\u001b[39m"
     ]
    },
    {
     "name": "stdout",
     "output_type": "stream",
     "text": [
      "step: 17680000 reward : -21.044 length: 19\n",
      "step: 17690000 reward : -19.794 length: 19\n",
      "parameters at step 17700000 saved to ./RL_models_slow/cf_sac_17700000.bson\n",
      "step: 17700000 reward : -20.293 length: 19\n",
      "step: 17710000 reward : -19.949 length: 19\n",
      "step: 17720000 reward : -19.598 length: 19\n"
     ]
    },
    {
     "name": "stderr",
     "output_type": "stream",
     "text": [
      "\r",
      "\u001b[32mProgress:  89%|████████████████████████████████████▍    |  ETA: 0:00:58\u001b[39m"
     ]
    },
    {
     "name": "stdout",
     "output_type": "stream",
     "text": [
      "step: 17730000 reward : -19.514 length: 19\n",
      "step: 17740000 reward : -20.028 length: 19\n",
      "step: 17750000 reward : -19.931 length: 19\n",
      "step: 17760000 reward : -20.128 length: 19\n",
      "step: 17770000 reward : -21.309 length: 19\n"
     ]
    },
    {
     "name": "stderr",
     "output_type": "stream",
     "text": [
      "\r",
      "\u001b[32mProgress:  89%|████████████████████████████████████▍    |  ETA: 0:00:57\u001b[39m"
     ]
    },
    {
     "name": "stdout",
     "output_type": "stream",
     "text": [
      "step: 17780000 reward : -20.017 length: 19\n",
      "step: 17790000 reward : -20.274 length: 19\n",
      "parameters at step 17800000 saved to ./RL_models_slow/cf_sac_17800000.bson\n",
      "step: 17800000 reward : -19.661 length: 19\n",
      "step: 17810000 reward : -19.562 length: 19\n"
     ]
    },
    {
     "name": "stderr",
     "output_type": "stream",
     "text": [
      "\r",
      "\u001b[32mProgress:  89%|████████████████████████████████████▌    |  ETA: 0:00:56\u001b[39m"
     ]
    },
    {
     "name": "stdout",
     "output_type": "stream",
     "text": [
      "step: 17820000 reward : -19.906 length: 19\n",
      "step: 17830000 reward : -20.591 length: 19\n",
      "step: 17840000 reward : -19.749 length: 19\n",
      "step: 17850000 reward : -19.478 length: 19\n"
     ]
    },
    {
     "name": "stderr",
     "output_type": "stream",
     "text": [
      "\r",
      "\u001b[32mProgress:  89%|████████████████████████████████████▋    |  ETA: 0:00:55\u001b[39m"
     ]
    },
    {
     "name": "stdout",
     "output_type": "stream",
     "text": [
      "step: 17860000 reward : -19.527 length: 19\n",
      "step: 17870000 reward : -20.605 length: 19\n",
      "step: 17880000 reward : -19.602 length: 19\n",
      "step: 17890000 reward : -19.813 length: 19\n",
      "parameters at step 17900000 saved to ./RL_models_slow/cf_sac_17900000.bson"
     ]
    },
    {
     "name": "stderr",
     "output_type": "stream",
     "text": [
      "\r",
      "\u001b[32mProgress:  90%|████████████████████████████████████▊    |  ETA: 0:00:54\u001b[39m"
     ]
    },
    {
     "name": "stdout",
     "output_type": "stream",
     "text": [
      "\n",
      "step: 17900000 reward : -20.045 length: 19\n",
      "step: 17910000 reward : -20.523 length: 19\n",
      "step: 17920000 reward : -20.432 length: 19\n",
      "step: 17930000 reward : -19.707 length: 19\n"
     ]
    },
    {
     "name": "stderr",
     "output_type": "stream",
     "text": [
      "\r",
      "\u001b[32mProgress:  90%|████████████████████████████████████▊    |  ETA: 0:00:53\u001b[39m"
     ]
    },
    {
     "name": "stdout",
     "output_type": "stream",
     "text": [
      "step: 17940000 reward : -19.686 length: 19\n",
      "step: 17950000 reward : -20.85 length: 19\n",
      "step: 17960000 reward : -20.234 length: 19\n",
      "step: 17970000 reward : -19.878 length: 19\n",
      "step: 17980000 reward : -20.96 length: 19\n"
     ]
    },
    {
     "name": "stderr",
     "output_type": "stream",
     "text": [
      "\r",
      "\u001b[32mProgress:  90%|████████████████████████████████████▉    |  ETA: 0:00:52\u001b[39m"
     ]
    },
    {
     "name": "stdout",
     "output_type": "stream",
     "text": [
      "step: 17990000 reward : -19.984 length: 19\n",
      "parameters at step 18000000 saved to ./RL_models_slow/cf_sac_18000000.bson\n",
      "step: 18000000 reward : -21.39 length: 19\n",
      "step: 18010000 reward : -20.011 length: 19\n",
      "step: 18020000 reward : -19.638 length: 19\n"
     ]
    },
    {
     "name": "stderr",
     "output_type": "stream",
     "text": [
      "\r",
      "\u001b[32mProgress:  90%|█████████████████████████████████████    |  ETA: 0:00:51\u001b[39m"
     ]
    },
    {
     "name": "stdout",
     "output_type": "stream",
     "text": [
      "step: 18030000 reward : -20.013 length: 19\n",
      "step: 18040000 reward : -19.95 length: 19\n",
      "step: 18050000 reward : -20.145 length: 19\n",
      "step: 18060000 reward : -19.953 length: 19\n"
     ]
    },
    {
     "name": "stderr",
     "output_type": "stream",
     "text": [
      "\r",
      "\u001b[32mProgress:  90%|█████████████████████████████████████    |  ETA: 0:00:49\u001b[39m"
     ]
    },
    {
     "name": "stdout",
     "output_type": "stream",
     "text": [
      "step: 18070000 reward : -20.068 length: 18\n",
      "step: 18080000 reward : -19.566 length: 19\n",
      "step: 18090000 reward : -19.89 length: 19\n",
      "parameters at step 18100000 saved to ./RL_models_slow/cf_sac_18100000.bson\n",
      "step: 18100000 reward : -19.737 length: 19\n",
      "step: 18110000 reward : -19.879 length: 19\n"
     ]
    },
    {
     "name": "stderr",
     "output_type": "stream",
     "text": [
      "\r",
      "\u001b[32mProgress:  91%|█████████████████████████████████████▏   |  ETA: 0:00:48\u001b[39m"
     ]
    },
    {
     "name": "stdout",
     "output_type": "stream",
     "text": [
      "step: 18120000 reward : -19.816 length: 19\n",
      "step: 18130000 reward : -20.008 length: 19\n",
      "step: 18140000 reward : -19.93 length: 19\n",
      "step: 18150000 reward : -20.338 length: 19\n"
     ]
    },
    {
     "name": "stderr",
     "output_type": "stream",
     "text": [
      "\r",
      "\u001b[32mProgress:  91%|█████████████████████████████████████▎   |  ETA: 0:00:47\u001b[39m"
     ]
    },
    {
     "name": "stdout",
     "output_type": "stream",
     "text": [
      "step: 18160000 reward : -20.731 length: 19\n",
      "step: 18170000 reward : -20.16 length: 19\n",
      "step: 18180000 reward : -19.845 length: 19\n",
      "step: 18190000 reward : -20.31 length: 19\n",
      "parameters at step 18200000 saved to ./RL_models_slow/cf_sac_18200000.bson"
     ]
    },
    {
     "name": "stderr",
     "output_type": "stream",
     "text": [
      "\r",
      "\u001b[32mProgress:  91%|█████████████████████████████████████▍   |  ETA: 0:00:46\u001b[39m"
     ]
    },
    {
     "name": "stdout",
     "output_type": "stream",
     "text": [
      "\n",
      "step: 18200000 reward : -20.448 length: 19\n",
      "step: 18210000 reward : -20.529 length: 19\n",
      "step: 18220000 reward : -19.553 length: 19\n",
      "step: 18230000 reward : -20.117 length: 19\n",
      "step: 18240000 reward : -20.007 length: 19\n"
     ]
    },
    {
     "name": "stderr",
     "output_type": "stream",
     "text": [
      "\r",
      "\u001b[32mProgress:  91%|█████████████████████████████████████▍   |  ETA: 0:00:45\u001b[39m"
     ]
    },
    {
     "name": "stdout",
     "output_type": "stream",
     "text": [
      "step: 18250000 reward : -21.764 length: 19\n",
      "step: 18260000 reward : -20.16 length: 19\n",
      "step: 18270000 reward : -20.129 length: 19\n",
      "step: 18280000 reward : -19.568 length: 19\n",
      "step: 18290000 reward : -19.87 length: 19\n"
     ]
    },
    {
     "name": "stderr",
     "output_type": "stream",
     "text": [
      "\r",
      "\u001b[32mProgress:  91%|█████████████████████████████████████▌   |  ETA: 0:00:44\u001b[39m"
     ]
    },
    {
     "name": "stdout",
     "output_type": "stream",
     "text": [
      "parameters at step 18300000 saved to ./RL_models_slow/cf_sac_18300000.bson\n",
      "step: 18300000 reward : -20.368 length: 19\n",
      "step: 18310000 reward : -19.452 length: 19\n",
      "step: 18320000 reward : -20.906 length: 19\n",
      "step: 18330000 reward : -20.768 length: 19\n"
     ]
    },
    {
     "name": "stderr",
     "output_type": "stream",
     "text": [
      "\r",
      "\u001b[32mProgress:  92%|█████████████████████████████████████▋   |  ETA: 0:00:42\u001b[39m"
     ]
    },
    {
     "name": "stdout",
     "output_type": "stream",
     "text": [
      "step: 18340000 reward : -19.974 length: 19\n",
      "step: 18350000 reward : -19.655 length: 19\n",
      "step: 18360000 reward : -20.819 length: 19\n",
      "step: 18370000 reward : -19.811 length: 19\n",
      "step: 18380000 reward : -19.728 length: 19\n"
     ]
    },
    {
     "name": "stderr",
     "output_type": "stream",
     "text": [
      "\r",
      "\u001b[32mProgress:  92%|█████████████████████████████████████▊   |  ETA: 0:00:41\u001b[39m"
     ]
    },
    {
     "name": "stdout",
     "output_type": "stream",
     "text": [
      "step: 18390000 reward : -19.791 length: 19\n",
      "parameters at step 18400000 saved to ./RL_models_slow/cf_sac_18400000.bson\n",
      "step: 18400000 reward : -20.014 length: 19\n",
      "step: 18410000 reward : -21.097 length: 19\n",
      "step: 18420000 reward : -19.679 length: 19\n",
      "step: 18430000 reward : -20.006 length: 19\n"
     ]
    },
    {
     "name": "stderr",
     "output_type": "stream",
     "text": [
      "\r",
      "\u001b[32mProgress:  92%|█████████████████████████████████████▊   |  ETA: 0:00:40\u001b[39m"
     ]
    },
    {
     "name": "stdout",
     "output_type": "stream",
     "text": [
      "step: 18440000 reward : -20.078 length: 19\n",
      "step: 18450000 reward : -20.13 length: 19\n",
      "step: 18460000 reward : -20.183 length: 19\n",
      "step: 18470000 reward : -19.34 length: 19\n"
     ]
    },
    {
     "name": "stderr",
     "output_type": "stream",
     "text": [
      "\r",
      "\u001b[32mProgress:  92%|█████████████████████████████████████▉   |  ETA: 0:00:39\u001b[39m"
     ]
    },
    {
     "name": "stdout",
     "output_type": "stream",
     "text": [
      "step: 18480000 reward : -20.254 length: 19\n",
      "step: 18490000 reward : -20.172 length: 19\n",
      "parameters at step 18500000 saved to ./RL_models_slow/cf_sac_18500000.bson\n",
      "step: 18500000 reward : -20.449 length: 19\n",
      "step: 18510000 reward : -19.903 length: 19\n",
      "step: 18520000 reward : -19.716 length: 19\n"
     ]
    },
    {
     "name": "stderr",
     "output_type": "stream",
     "text": [
      "\r",
      "\u001b[32mProgress:  93%|██████████████████████████████████████   |  ETA: 0:00:38\u001b[39m"
     ]
    },
    {
     "name": "stdout",
     "output_type": "stream",
     "text": [
      "step: 18530000 reward : -20.202 length: 19\n",
      "step: 18540000 reward : -19.949 length: 19\n",
      "step: 18550000 reward : -20.228 length: 19\n",
      "step: 18560000 reward : -19.829 length: 19\n"
     ]
    },
    {
     "name": "stderr",
     "output_type": "stream",
     "text": [
      "\r",
      "\u001b[32mProgress:  93%|██████████████████████████████████████▏  |  ETA: 0:00:37\u001b[39m"
     ]
    },
    {
     "name": "stdout",
     "output_type": "stream",
     "text": [
      "step: 18570000 reward : -19.795 length: 19\n",
      "step: 18580000 reward : -20.33 length: 19\n",
      "step: 18590000 reward : -20.509 length: 19\n",
      "parameters at step 18600000 saved to ./RL_models_slow/cf_sac_18600000.bson\n",
      "step: 18600000 reward : -20.462 length: 19\n",
      "step: 18610000 reward : -19.867 length: 19\n"
     ]
    },
    {
     "name": "stderr",
     "output_type": "stream",
     "text": [
      "\r",
      "\u001b[32mProgress:  93%|██████████████████████████████████████▏  |  ETA: 0:00:36\u001b[39m"
     ]
    },
    {
     "name": "stdout",
     "output_type": "stream",
     "text": [
      "step: 18620000 reward : -19.506 length: 19\n",
      "step: 18630000 reward : -19.639 length: 19\n",
      "step: 18640000 reward : -20.57 length: 19\n",
      "step: 18650000 reward : -20.961 length: 19\n"
     ]
    },
    {
     "name": "stderr",
     "output_type": "stream",
     "text": [
      "\r",
      "\u001b[32mProgress:  93%|██████████████████████████████████████▎  |  ETA: 0:00:34\u001b[39m"
     ]
    },
    {
     "name": "stdout",
     "output_type": "stream",
     "text": [
      "step: 18660000 reward : -20.563 length: 19\n",
      "step: 18670000 reward : -20.449 length: 19\n",
      "step: 18680000 reward : -19.58 length: 19\n",
      "step: 18690000 reward : -19.97 length: 19\n",
      "parameters at step 18700000 saved to ./RL_models_slow/cf_sac_18700000.bson\n",
      "step: 18700000 reward : -21.332 length: 19\n"
     ]
    },
    {
     "name": "stderr",
     "output_type": "stream",
     "text": [
      "\r",
      "\u001b[32mProgress:  94%|██████████████████████████████████████▍  |  ETA: 0:00:33\u001b[39m"
     ]
    },
    {
     "name": "stdout",
     "output_type": "stream",
     "text": [
      "step: 18710000 reward : -20.334 length: 19\n",
      "step: 18720000 reward : -19.702 length: 19\n",
      "step: 18730000 reward : -20.217 length: 19\n",
      "step: 18740000 reward : -20.35 length: 19\n"
     ]
    },
    {
     "name": "stderr",
     "output_type": "stream",
     "text": [
      "\r",
      "\u001b[32mProgress:  94%|██████████████████████████████████████▌  |  ETA: 0:00:32\u001b[39m"
     ]
    },
    {
     "name": "stdout",
     "output_type": "stream",
     "text": [
      "step: 18750000 reward : -20.645 length: 19\n",
      "step: 18760000 reward : -20.123 length: 19\n",
      "step: 18770000 reward : -19.748 length: 18\n",
      "step: 18780000 reward : -20.077 length: 19\n",
      "step: 18790000 reward : -20.16 length: 19\n"
     ]
    },
    {
     "name": "stderr",
     "output_type": "stream",
     "text": [
      "\r",
      "\u001b[32mProgress:  94%|██████████████████████████████████████▌  |  ETA: 0:00:31\u001b[39m"
     ]
    },
    {
     "name": "stdout",
     "output_type": "stream",
     "text": [
      "parameters at step 18800000 saved to ./RL_models_slow/cf_sac_18800000.bson\n",
      "step: 18800000 reward : -20.347 length: 19\n",
      "step: 18810000 reward : -20.189 length: 19\n",
      "step: 18820000 reward : -19.723 length: 19\n",
      "step: 18830000 reward : -19.684 length: 19\n",
      "step: 18840000 reward : -20.015 length: 19\n"
     ]
    },
    {
     "name": "stderr",
     "output_type": "stream",
     "text": [
      "\r",
      "\u001b[32mProgress:  94%|██████████████████████████████████████▋  |  ETA: 0:00:30\u001b[39m"
     ]
    },
    {
     "name": "stdout",
     "output_type": "stream",
     "text": [
      "step: 18850000 reward : -19.757 length: 19\n",
      "step: 18860000 reward : -19.833 length: 19\n",
      "step: 18870000 reward : -20.455 length: 19\n",
      "step: 18880000 reward : -20.217 length: 19\n"
     ]
    },
    {
     "name": "stderr",
     "output_type": "stream",
     "text": [
      "\r",
      "\u001b[32mProgress:  94%|██████████████████████████████████████▊  |  ETA: 0:00:28\u001b[39m"
     ]
    },
    {
     "name": "stdout",
     "output_type": "stream",
     "text": [
      "step: 18890000 reward : -19.64 length: 19\n",
      "parameters at step 18900000 saved to ./RL_models_slow/cf_sac_18900000.bson\n",
      "step: 18900000 reward : -20.39 length: 19\n",
      "step: 18910000 reward : -20.104 length: 19\n",
      "step: 18920000 reward : -20.225 length: 19\n",
      "step: 18930000 reward : -20.287 length: 19\n"
     ]
    },
    {
     "name": "stderr",
     "output_type": "stream",
     "text": [
      "\r",
      "\u001b[32mProgress:  95%|██████████████████████████████████████▉  |  ETA: 0:00:27\u001b[39m"
     ]
    },
    {
     "name": "stdout",
     "output_type": "stream",
     "text": [
      "step: 18940000 reward : -21.139 length: 19\n",
      "step: 18950000 reward : -19.783 length: 19\n",
      "step: 18960000 reward : -20.275 length: 19\n",
      "step: 18970000 reward : -19.897 length: 19\n",
      "step: 18980000 reward : -20.165 length: 19\n"
     ]
    },
    {
     "name": "stderr",
     "output_type": "stream",
     "text": [
      "\r",
      "\u001b[32mProgress:  95%|██████████████████████████████████████▉  |  ETA: 0:00:26\u001b[39m"
     ]
    },
    {
     "name": "stdout",
     "output_type": "stream",
     "text": [
      "step: 18990000 reward : -19.958 length: 19\n",
      "parameters at step 19000000 saved to ./RL_models_slow/cf_sac_19000000.bson\n",
      "step: 19000000 reward : -20.451 length: 19\n",
      "step: 19010000 reward : -19.593 length: 19\n",
      "step: 19020000 reward : -20.312 length: 19\n"
     ]
    },
    {
     "name": "stderr",
     "output_type": "stream",
     "text": [
      "\r",
      "\u001b[32mProgress:  95%|███████████████████████████████████████  |  ETA: 0:00:25\u001b[39m"
     ]
    },
    {
     "name": "stdout",
     "output_type": "stream",
     "text": [
      "step: 19030000 reward : -20.175 length: 19\n",
      "step: 19040000 reward : -19.947 length: 19\n",
      "step: 19050000 reward : -19.685 length: 19\n",
      "step: 19060000 reward : -19.886 length: 19\n"
     ]
    },
    {
     "name": "stderr",
     "output_type": "stream",
     "text": [
      "\r",
      "\u001b[32mProgress:  95%|███████████████████████████████████████▏ |  ETA: 0:00:24\u001b[39m"
     ]
    },
    {
     "name": "stdout",
     "output_type": "stream",
     "text": [
      "step: 19070000 reward : -19.898 length: 19\n",
      "step: 19080000 reward : -19.588 length: 19\n",
      "step: 19090000 reward : -19.652 length: 19\n",
      "parameters at step 19100000 saved to ./RL_models_slow/cf_sac_19100000.bson\n",
      "step: 19100000 reward : -19.629 length: 19\n"
     ]
    },
    {
     "name": "stderr",
     "output_type": "stream",
     "text": [
      "\r",
      "\u001b[32mProgress:  96%|███████████████████████████████████████▏ |  ETA: 0:00:23\u001b[39m"
     ]
    },
    {
     "name": "stdout",
     "output_type": "stream",
     "text": [
      "step: 19110000 reward : -19.854 length: 19\n",
      "step: 19120000 reward : -19.743 length: 19\n",
      "step: 19130000 reward : -19.726 length: 19\n",
      "step: 19140000 reward : -20.451 length: 19\n",
      "step: 19150000 reward : -19.794 length: 19\n"
     ]
    },
    {
     "name": "stderr",
     "output_type": "stream",
     "text": [
      "\r",
      "\u001b[32mProgress:  96%|███████████████████████████████████████▎ |  ETA: 0:00:22\u001b[39m"
     ]
    },
    {
     "name": "stdout",
     "output_type": "stream",
     "text": [
      "step: 19160000 reward : -20.443 length: 19\n",
      "step: 19170000 reward : -20.448 length: 19\n",
      "step: 19180000 reward : -19.694 length: 19\n",
      "step: 19190000 reward : -20.046 length: 19\n"
     ]
    },
    {
     "name": "stderr",
     "output_type": "stream",
     "text": [
      "\r",
      "\u001b[32mProgress:  96%|███████████████████████████████████████▍ |  ETA: 0:00:21\u001b[39m"
     ]
    },
    {
     "name": "stdout",
     "output_type": "stream",
     "text": [
      "parameters at step 19200000 saved to ./RL_models_slow/cf_sac_19200000.bson\n",
      "step: 19200000 reward : -20.61 length: 19\n",
      "step: 19210000 reward : -19.791 length: 19\n",
      "step: 19220000 reward : -20.371 length: 19\n",
      "step: 19230000 reward : -20.556 length: 19\n"
     ]
    },
    {
     "name": "stderr",
     "output_type": "stream",
     "text": [
      "\r",
      "\u001b[32mProgress:  96%|███████████████████████████████████████▌ |  ETA: 0:00:19\u001b[39m"
     ]
    },
    {
     "name": "stdout",
     "output_type": "stream",
     "text": [
      "step: 19240000 reward : -19.824 length: 19\n",
      "step: 19250000 reward : -19.648 length: 19\n",
      "step: 19260000 reward : -19.928 length: 19\n",
      "step: 19270000 reward : -20.494 length: 19\n",
      "step: 19280000 reward : -19.819 length: 19\n"
     ]
    },
    {
     "name": "stderr",
     "output_type": "stream",
     "text": [
      "\r",
      "\u001b[32mProgress:  96%|███████████████████████████████████████▌ |  ETA: 0:00:18\u001b[39m"
     ]
    },
    {
     "name": "stdout",
     "output_type": "stream",
     "text": [
      "step: 19290000 reward : -20.114 length: 19\n",
      "parameters at step 19300000 saved to ./RL_models_slow/cf_sac_19300000.bson\n",
      "step: 19300000 reward : -20.407 length: 19\n",
      "step: 19310000 reward : -21.069 length: 19\n",
      "step: 19320000 reward : -20.368 length: 19\n",
      "step: 19330000 reward : -19.731 length: 19\n"
     ]
    },
    {
     "name": "stderr",
     "output_type": "stream",
     "text": [
      "\r",
      "\u001b[32mProgress:  97%|███████████████████████████████████████▋ |  ETA: 0:00:17\u001b[39m"
     ]
    },
    {
     "name": "stdout",
     "output_type": "stream",
     "text": [
      "step: 19340000 reward : -19.612 length: 19\n",
      "step: 19350000 reward : -19.503 length: 19\n",
      "step: 19360000 reward : -19.509 length: 19\n",
      "step: 19370000 reward : -20.403 length: 19\n"
     ]
    },
    {
     "name": "stderr",
     "output_type": "stream",
     "text": [
      "\r",
      "\u001b[32mProgress:  97%|███████████████████████████████████████▊ |  ETA: 0:00:16\u001b[39m"
     ]
    },
    {
     "name": "stdout",
     "output_type": "stream",
     "text": [
      "step: 19380000 reward : -19.604 length: 19\n",
      "step: 19390000 reward : -20.655 length: 19\n",
      "parameters at step 19400000 saved to ./RL_models_slow/cf_sac_19400000.bson\n",
      "step: 19400000 reward : -20.582 length: 19\n",
      "step: 19410000 reward : -20.539 length: 19\n",
      "step: 19420000 reward : -20.906 length: 19\n",
      "step: 19430000 reward : -19.686 length: 19\n"
     ]
    },
    {
     "name": "stderr",
     "output_type": "stream",
     "text": [
      "\r",
      "\u001b[32mProgress:  97%|███████████████████████████████████████▉ |  ETA: 0:00:15\u001b[39m"
     ]
    },
    {
     "name": "stdout",
     "output_type": "stream",
     "text": [
      "step: 19440000 reward : -20.244 length: 19\n",
      "step: 19450000 reward : -20.224 length: 19\n",
      "step: 19460000 reward : -19.815 length: 19\n"
     ]
    },
    {
     "name": "stderr",
     "output_type": "stream",
     "text": [
      "\r",
      "\u001b[32mProgress:  97%|███████████████████████████████████████▉ |  ETA: 0:00:14\u001b[39m"
     ]
    },
    {
     "name": "stdout",
     "output_type": "stream",
     "text": [
      "step: 19470000 reward : -20.547 length: 19\n",
      "step: 19480000 reward : -19.776 length: 19\n",
      "step: 19490000 reward : -20.047 length: 19\n",
      "parameters at step 19500000 saved to ./RL_models_slow/cf_sac_19500000.bson"
     ]
    },
    {
     "name": "stderr",
     "output_type": "stream",
     "text": [
      "\r",
      "\u001b[32mProgress:  98%|████████████████████████████████████████ |  ETA: 0:00:13\u001b[39m"
     ]
    },
    {
     "name": "stdout",
     "output_type": "stream",
     "text": [
      "\n",
      "step: 19500000 reward : -19.502 length: 19\n",
      "step: 19510000 reward : -20.879 length: 19\n",
      "step: 19520000 reward : -20.25 length: 19\n",
      "step: 19530000 reward : -20.016 length: 19\n",
      "step: 19540000 reward : -19.861 length: 19\n"
     ]
    },
    {
     "name": "stderr",
     "output_type": "stream",
     "text": [
      "\r",
      "\u001b[32mProgress:  98%|████████████████████████████████████████ |  ETA: 0:00:12\u001b[39m"
     ]
    },
    {
     "name": "stdout",
     "output_type": "stream",
     "text": [
      "step: 19550000 reward : -19.502 length: 19\n",
      "step: 19560000 reward : -19.882 length: 19\n",
      "step: 19570000 reward : -19.92 length: 19\n",
      "step: 19580000 reward : -19.619 length: 19\n"
     ]
    },
    {
     "name": "stderr",
     "output_type": "stream",
     "text": [
      "\r",
      "\u001b[32mProgress:  98%|████████████████████████████████████████▏|  ETA: 0:00:11\u001b[39m"
     ]
    },
    {
     "name": "stdout",
     "output_type": "stream",
     "text": [
      "step: 19590000 reward : -20.065 length: 19\n",
      "parameters at step 19600000 saved to ./RL_models_slow/cf_sac_19600000.bson\n",
      "step: 19600000 reward : -19.893 length: 19\n",
      "step: 19610000 reward : -21.366 length: 19\n",
      "step: 19620000 reward : -20.383 length: 19\n",
      "step: 19630000 reward : -20.509 length: 19\n"
     ]
    },
    {
     "name": "stderr",
     "output_type": "stream",
     "text": [
      "\r",
      "\u001b[32mProgress:  98%|████████████████████████████████████████▎|  ETA: 0:00:09\u001b[39m"
     ]
    },
    {
     "name": "stdout",
     "output_type": "stream",
     "text": [
      "step: 19640000 reward : -20.737 length: 19\n",
      "step: 19650000 reward : -20.468 length: 19\n",
      "step: 19660000 reward : -19.883 length: 19\n"
     ]
    },
    {
     "name": "stderr",
     "output_type": "stream",
     "text": [
      "\r",
      "\u001b[32mProgress:  98%|████████████████████████████████████████▍|  ETA: 0:00:08\u001b[39m"
     ]
    },
    {
     "name": "stdout",
     "output_type": "stream",
     "text": [
      "step: 19670000 reward : -20.135 length: 19\n",
      "step: 19680000 reward : -20.9 length: 19\n",
      "step: 19690000 reward : -20.002 length: 19\n",
      "parameters at step 19700000 saved to ./RL_models_slow/cf_sac_19700000.bson\n",
      "step: 19700000 reward : -20.151 length: 19\n"
     ]
    },
    {
     "name": "stderr",
     "output_type": "stream",
     "text": [
      "\r",
      "\u001b[32mProgress:  99%|████████████████████████████████████████▍|  ETA: 0:00:07\u001b[39m"
     ]
    },
    {
     "name": "stdout",
     "output_type": "stream",
     "text": [
      "step: 19710000 reward : -20.142 length: 19\n",
      "step: 19720000 reward : -20.485 length: 19\n",
      "step: 19730000 reward : -19.954 length: 19\n",
      "step: 19740000 reward : -20.021 length: 19\n",
      "step: 19750000 reward : -20.784 length: 19\n"
     ]
    },
    {
     "name": "stderr",
     "output_type": "stream",
     "text": [
      "\r",
      "\u001b[32mProgress:  99%|████████████████████████████████████████▌|  ETA: 0:00:06\u001b[39m"
     ]
    },
    {
     "name": "stdout",
     "output_type": "stream",
     "text": [
      "step: 19760000 reward : -19.515 length: 19\n",
      "step: 19770000 reward : -22.157 length: 19\n",
      "step: 19780000 reward : -20.007 length: 19\n",
      "step: 19790000 reward : -19.99 length: 19\n",
      "parameters at step 19800000 saved to ./RL_models_slow/cf_sac_19800000.bson"
     ]
    },
    {
     "name": "stderr",
     "output_type": "stream",
     "text": [
      "\r",
      "\u001b[32mProgress:  99%|████████████████████████████████████████▋|  ETA: 0:00:05\u001b[39m"
     ]
    },
    {
     "name": "stdout",
     "output_type": "stream",
     "text": [
      "\n",
      "step: 19800000 reward : -20.483 length: 19\n",
      "step: 19810000 reward : -20.015 length: 19\n",
      "step: 19820000 reward : -20.719 length: 20\n",
      "step: 19830000 reward : -19.833 length: 19\n",
      "step: 19840000 reward : -20.213 length: 19\n"
     ]
    },
    {
     "name": "stderr",
     "output_type": "stream",
     "text": [
      "\r",
      "\u001b[32mProgress:  99%|████████████████████████████████████████▋|  ETA: 0:00:04\u001b[39m"
     ]
    },
    {
     "name": "stdout",
     "output_type": "stream",
     "text": [
      "step: 19850000 reward : -19.832 length: 19\n",
      "step: 19860000 reward : -20.173 length: 19\n",
      "step: 19870000 reward : -19.73 length: 19\n",
      "step: 19880000 reward : -20.226 length: 19\n"
     ]
    },
    {
     "name": "stderr",
     "output_type": "stream",
     "text": [
      "\r",
      "\u001b[32mProgress:  99%|████████████████████████████████████████▊|  ETA: 0:00:03\u001b[39m"
     ]
    },
    {
     "name": "stdout",
     "output_type": "stream",
     "text": [
      "step: 19890000 reward : -19.766 length: 19\n",
      "parameters at step 19900000 saved to ./RL_models_slow/cf_sac_19900000.bson\n",
      "step: 19900000 reward : -19.998 length: 19\n",
      "step: 19910000 reward : -19.727 length: 19\n",
      "step: 19920000 reward : -20.201 length: 19\n",
      "step: 19930000 reward : -20.194 length: 19\n"
     ]
    },
    {
     "name": "stderr",
     "output_type": "stream",
     "text": [
      "\r",
      "\u001b[32mProgress: 100%|████████████████████████████████████████▉|  ETA: 0:00:02\u001b[39m"
     ]
    },
    {
     "name": "stdout",
     "output_type": "stream",
     "text": [
      "step: 19940000 reward : -20.409 length: 19\n",
      "step: 19950000 reward : -19.694 length: 19\n",
      "step: 19960000 reward : -19.915 length: 19\n",
      "step: 19970000 reward : -19.824 length: 19\n"
     ]
    },
    {
     "name": "stderr",
     "output_type": "stream",
     "text": [
      "\r",
      "\u001b[32mProgress: 100%|█████████████████████████████████████████|  ETA: 0:00:00\u001b[39m"
     ]
    },
    {
     "name": "stdout",
     "output_type": "stream",
     "text": [
      "step: 19980000 reward : -20.272 length: 19\n",
      "step: 19990000 reward : -19.972 length: 19\n"
     ]
    },
    {
     "name": "stderr",
     "output_type": "stream",
     "text": [
      "\r",
      "\u001b[32mProgress: 100%|█████████████████████████████████████████| Time: 0:08:31\u001b[39m\n"
     ]
    },
    {
     "name": "stdout",
     "output_type": "stream",
     "text": [
      "parameters at step 20000000 saved to ./RL_models_slow/cf_sac_20000000.bson\n",
      "step: 20000000 reward : -20.218 length: 19\n"
     ]
    },
    {
     "data": {
      "text/plain": [
       "ComposedHook{Tuple{DoEveryNStep{typeof(saveModel)}, DoEveryNStep{typeof(validate_policy)}, DoEveryNStep{var\"#8#10\"}}}((DoEveryNStep{typeof(saveModel)}(saveModel, 100000, 20000000), DoEveryNStep{typeof(validate_policy)}(validate_policy, 10000, 20000000), DoEveryNStep{var\"#8#10\"}(var\"#8#10\"(), 1, 20000000)))"
      ]
     },
     "execution_count": 30,
     "metadata": {},
     "output_type": "execute_result"
    }
   ],
   "source": [
    "if TRAINING\n",
    "    ReinforcementLearning.run(\n",
    "        agent,\n",
    "        env,\n",
    "        StopAfterStep(steps),\n",
    "        hook\n",
    "    )\n",
    "end"
   ]
  },
  {
   "cell_type": "code",
   "execution_count": 31,
   "id": "21a5d7b6",
   "metadata": {},
   "outputs": [
    {
     "data": {
      "image/svg+xml": [
       "<?xml version=\"1.0\" encoding=\"utf-8\"?>\n",
       "<svg xmlns=\"http://www.w3.org/2000/svg\" xmlns:xlink=\"http://www.w3.org/1999/xlink\" width=\"600\" height=\"400\" viewBox=\"0 0 2400 1600\">\n",
       "<defs>\n",
       "  <clipPath id=\"clip620\">\n",
       "    <rect x=\"0\" y=\"0\" width=\"2400\" height=\"1600\"/>\n",
       "  </clipPath>\n",
       "</defs>\n",
       "<path clip-path=\"url(#clip620)\" d=\"\n",
       "M0 1600 L2400 1600 L2400 0 L0 0  Z\n",
       "  \" fill=\"#ffffff\" fill-rule=\"evenodd\" fill-opacity=\"1\"/>\n",
       "<defs>\n",
       "  <clipPath id=\"clip621\">\n",
       "    <rect x=\"480\" y=\"0\" width=\"1681\" height=\"1600\"/>\n",
       "  </clipPath>\n",
       "</defs>\n",
       "<path clip-path=\"url(#clip620)\" d=\"\n",
       "M178.867 1486.45 L2352.76 1486.45 L2352.76 47.2441 L178.867 47.2441  Z\n",
       "  \" fill=\"#ffffff\" fill-rule=\"evenodd\" fill-opacity=\"1\"/>\n",
       "<defs>\n",
       "  <clipPath id=\"clip622\">\n",
       "    <rect x=\"178\" y=\"47\" width=\"2175\" height=\"1440\"/>\n",
       "  </clipPath>\n",
       "</defs>\n",
       "<polyline clip-path=\"url(#clip622)\" style=\"stroke:#000000; stroke-linecap:round; stroke-linejoin:round; stroke-width:2; stroke-opacity:0.1; fill:none\" points=\"\n",
       "  239.366,1486.45 239.366,47.2441 \n",
       "  \"/>\n",
       "<polyline clip-path=\"url(#clip622)\" style=\"stroke:#000000; stroke-linecap:round; stroke-linejoin:round; stroke-width:2; stroke-opacity:0.1; fill:none\" points=\"\n",
       "  752.332,1486.45 752.332,47.2441 \n",
       "  \"/>\n",
       "<polyline clip-path=\"url(#clip622)\" style=\"stroke:#000000; stroke-linecap:round; stroke-linejoin:round; stroke-width:2; stroke-opacity:0.1; fill:none\" points=\"\n",
       "  1265.3,1486.45 1265.3,47.2441 \n",
       "  \"/>\n",
       "<polyline clip-path=\"url(#clip622)\" style=\"stroke:#000000; stroke-linecap:round; stroke-linejoin:round; stroke-width:2; stroke-opacity:0.1; fill:none\" points=\"\n",
       "  1778.26,1486.45 1778.26,47.2441 \n",
       "  \"/>\n",
       "<polyline clip-path=\"url(#clip622)\" style=\"stroke:#000000; stroke-linecap:round; stroke-linejoin:round; stroke-width:2; stroke-opacity:0.1; fill:none\" points=\"\n",
       "  2291.23,1486.45 2291.23,47.2441 \n",
       "  \"/>\n",
       "<polyline clip-path=\"url(#clip620)\" style=\"stroke:#000000; stroke-linecap:round; stroke-linejoin:round; stroke-width:4; stroke-opacity:1; fill:none\" points=\"\n",
       "  178.867,1486.45 2352.76,1486.45 \n",
       "  \"/>\n",
       "<polyline clip-path=\"url(#clip620)\" style=\"stroke:#000000; stroke-linecap:round; stroke-linejoin:round; stroke-width:4; stroke-opacity:1; fill:none\" points=\"\n",
       "  239.366,1486.45 239.366,1467.55 \n",
       "  \"/>\n",
       "<polyline clip-path=\"url(#clip620)\" style=\"stroke:#000000; stroke-linecap:round; stroke-linejoin:round; stroke-width:4; stroke-opacity:1; fill:none\" points=\"\n",
       "  752.332,1486.45 752.332,1467.55 \n",
       "  \"/>\n",
       "<polyline clip-path=\"url(#clip620)\" style=\"stroke:#000000; stroke-linecap:round; stroke-linejoin:round; stroke-width:4; stroke-opacity:1; fill:none\" points=\"\n",
       "  1265.3,1486.45 1265.3,1467.55 \n",
       "  \"/>\n",
       "<polyline clip-path=\"url(#clip620)\" style=\"stroke:#000000; stroke-linecap:round; stroke-linejoin:round; stroke-width:4; stroke-opacity:1; fill:none\" points=\"\n",
       "  1778.26,1486.45 1778.26,1467.55 \n",
       "  \"/>\n",
       "<polyline clip-path=\"url(#clip620)\" style=\"stroke:#000000; stroke-linecap:round; stroke-linejoin:round; stroke-width:4; stroke-opacity:1; fill:none\" points=\"\n",
       "  2291.23,1486.45 2291.23,1467.55 \n",
       "  \"/>\n",
       "<path clip-path=\"url(#clip620)\" d=\"M239.366 1517.37 Q235.755 1517.37 233.926 1520.93 Q232.121 1524.47 232.121 1531.6 Q232.121 1538.71 233.926 1542.27 Q235.755 1545.82 239.366 1545.82 Q243 1545.82 244.806 1542.27 Q246.634 1538.71 246.634 1531.6 Q246.634 1524.47 244.806 1520.93 Q243 1517.37 239.366 1517.37 M239.366 1513.66 Q245.176 1513.66 248.232 1518.27 Q251.31 1522.85 251.31 1531.6 Q251.31 1540.33 248.232 1544.94 Q245.176 1549.52 239.366 1549.52 Q233.556 1549.52 230.477 1544.94 Q227.421 1540.33 227.421 1531.6 Q227.421 1522.85 230.477 1518.27 Q233.556 1513.66 239.366 1513.66 Z\" fill=\"#000000\" fill-rule=\"evenodd\" fill-opacity=\"1\" /><path clip-path=\"url(#clip620)\" d=\"M711.95 1514.29 L730.307 1514.29 L730.307 1518.22 L716.233 1518.22 L716.233 1526.7 Q717.251 1526.35 718.27 1526.19 Q719.288 1526 720.307 1526 Q726.094 1526 729.473 1529.17 Q732.853 1532.34 732.853 1537.76 Q732.853 1543.34 729.381 1546.44 Q725.909 1549.52 719.589 1549.52 Q717.413 1549.52 715.145 1549.15 Q712.899 1548.78 710.492 1548.04 L710.492 1543.34 Q712.575 1544.47 714.798 1545.03 Q717.02 1545.58 719.497 1545.58 Q723.501 1545.58 725.839 1543.48 Q728.177 1541.37 728.177 1537.76 Q728.177 1534.15 725.839 1532.04 Q723.501 1529.94 719.497 1529.94 Q717.622 1529.94 715.747 1530.35 Q713.895 1530.77 711.95 1531.65 L711.95 1514.29 Z\" fill=\"#000000\" fill-rule=\"evenodd\" fill-opacity=\"1\" /><path clip-path=\"url(#clip620)\" d=\"M752.066 1517.37 Q748.455 1517.37 746.626 1520.93 Q744.821 1524.47 744.821 1531.6 Q744.821 1538.71 746.626 1542.27 Q748.455 1545.82 752.066 1545.82 Q755.7 1545.82 757.506 1542.27 Q759.334 1538.71 759.334 1531.6 Q759.334 1524.47 757.506 1520.93 Q755.7 1517.37 752.066 1517.37 M752.066 1513.66 Q757.876 1513.66 760.932 1518.27 Q764.01 1522.85 764.01 1531.6 Q764.01 1540.33 760.932 1544.94 Q757.876 1549.52 752.066 1549.52 Q746.256 1549.52 743.177 1544.94 Q740.122 1540.33 740.122 1531.6 Q740.122 1522.85 743.177 1518.27 Q746.256 1513.66 752.066 1513.66 Z\" fill=\"#000000\" fill-rule=\"evenodd\" fill-opacity=\"1\" /><path clip-path=\"url(#clip620)\" d=\"M782.228 1517.37 Q778.617 1517.37 776.788 1520.93 Q774.982 1524.47 774.982 1531.6 Q774.982 1538.71 776.788 1542.27 Q778.617 1545.82 782.228 1545.82 Q785.862 1545.82 787.668 1542.27 Q789.496 1538.71 789.496 1531.6 Q789.496 1524.47 787.668 1520.93 Q785.862 1517.37 782.228 1517.37 M782.228 1513.66 Q788.038 1513.66 791.093 1518.27 Q794.172 1522.85 794.172 1531.6 Q794.172 1540.33 791.093 1544.94 Q788.038 1549.52 782.228 1549.52 Q776.418 1549.52 773.339 1544.94 Q770.283 1540.33 770.283 1531.6 Q770.283 1522.85 773.339 1518.27 Q776.418 1513.66 782.228 1513.66 Z\" fill=\"#000000\" fill-rule=\"evenodd\" fill-opacity=\"1\" /><path clip-path=\"url(#clip620)\" d=\"M1209.82 1544.91 L1217.46 1544.91 L1217.46 1518.55 L1209.15 1520.21 L1209.15 1515.95 L1217.42 1514.29 L1222.09 1514.29 L1222.09 1544.91 L1229.73 1544.91 L1229.73 1548.85 L1209.82 1548.85 L1209.82 1544.91 Z\" fill=\"#000000\" fill-rule=\"evenodd\" fill-opacity=\"1\" /><path clip-path=\"url(#clip620)\" d=\"M1249.18 1517.37 Q1245.56 1517.37 1243.74 1520.93 Q1241.93 1524.47 1241.93 1531.6 Q1241.93 1538.71 1243.74 1542.27 Q1245.56 1545.82 1249.18 1545.82 Q1252.81 1545.82 1254.62 1542.27 Q1256.44 1538.71 1256.44 1531.6 Q1256.44 1524.47 1254.62 1520.93 Q1252.81 1517.37 1249.18 1517.37 M1249.18 1513.66 Q1254.99 1513.66 1258.04 1518.27 Q1261.12 1522.85 1261.12 1531.6 Q1261.12 1540.33 1258.04 1544.94 Q1254.99 1549.52 1249.18 1549.52 Q1243.37 1549.52 1240.29 1544.94 Q1237.23 1540.33 1237.23 1531.6 Q1237.23 1522.85 1240.29 1518.27 Q1243.37 1513.66 1249.18 1513.66 Z\" fill=\"#000000\" fill-rule=\"evenodd\" fill-opacity=\"1\" /><path clip-path=\"url(#clip620)\" d=\"M1279.34 1517.37 Q1275.73 1517.37 1273.9 1520.93 Q1272.09 1524.47 1272.09 1531.6 Q1272.09 1538.71 1273.9 1542.27 Q1275.73 1545.82 1279.34 1545.82 Q1282.97 1545.82 1284.78 1542.27 Q1286.61 1538.71 1286.61 1531.6 Q1286.61 1524.47 1284.78 1520.93 Q1282.97 1517.37 1279.34 1517.37 M1279.34 1513.66 Q1285.15 1513.66 1288.2 1518.27 Q1291.28 1522.85 1291.28 1531.6 Q1291.28 1540.33 1288.2 1544.94 Q1285.15 1549.52 1279.34 1549.52 Q1273.53 1549.52 1270.45 1544.94 Q1267.39 1540.33 1267.39 1531.6 Q1267.39 1522.85 1270.45 1518.27 Q1273.53 1513.66 1279.34 1513.66 Z\" fill=\"#000000\" fill-rule=\"evenodd\" fill-opacity=\"1\" /><path clip-path=\"url(#clip620)\" d=\"M1309.5 1517.37 Q1305.89 1517.37 1304.06 1520.93 Q1302.25 1524.47 1302.25 1531.6 Q1302.25 1538.71 1304.06 1542.27 Q1305.89 1545.82 1309.5 1545.82 Q1313.13 1545.82 1314.94 1542.27 Q1316.77 1538.71 1316.77 1531.6 Q1316.77 1524.47 1314.94 1520.93 Q1313.13 1517.37 1309.5 1517.37 M1309.5 1513.66 Q1315.31 1513.66 1318.37 1518.27 Q1321.44 1522.85 1321.44 1531.6 Q1321.44 1540.33 1318.37 1544.94 Q1315.31 1549.52 1309.5 1549.52 Q1303.69 1549.52 1300.61 1544.94 Q1297.56 1540.33 1297.56 1531.6 Q1297.56 1522.85 1300.61 1518.27 Q1303.69 1513.66 1309.5 1513.66 Z\" fill=\"#000000\" fill-rule=\"evenodd\" fill-opacity=\"1\" /><path clip-path=\"url(#clip620)\" d=\"M1722.79 1544.91 L1730.43 1544.91 L1730.43 1518.55 L1722.12 1520.21 L1722.12 1515.95 L1730.38 1514.29 L1735.06 1514.29 L1735.06 1544.91 L1742.7 1544.91 L1742.7 1548.85 L1722.79 1548.85 L1722.79 1544.91 Z\" fill=\"#000000\" fill-rule=\"evenodd\" fill-opacity=\"1\" /><path clip-path=\"url(#clip620)\" d=\"M1752.19 1514.29 L1770.54 1514.29 L1770.54 1518.22 L1756.47 1518.22 L1756.47 1526.7 Q1757.49 1526.35 1758.51 1526.19 Q1759.53 1526 1760.54 1526 Q1766.33 1526 1769.71 1529.17 Q1773.09 1532.34 1773.09 1537.76 Q1773.09 1543.34 1769.62 1546.44 Q1766.15 1549.52 1759.83 1549.52 Q1757.65 1549.52 1755.38 1549.15 Q1753.14 1548.78 1750.73 1548.04 L1750.73 1543.34 Q1752.81 1544.47 1755.04 1545.03 Q1757.26 1545.58 1759.73 1545.58 Q1763.74 1545.58 1766.08 1543.48 Q1768.42 1541.37 1768.42 1537.76 Q1768.42 1534.15 1766.08 1532.04 Q1763.74 1529.94 1759.73 1529.94 Q1757.86 1529.94 1755.98 1530.35 Q1754.13 1530.77 1752.19 1531.65 L1752.19 1514.29 Z\" fill=\"#000000\" fill-rule=\"evenodd\" fill-opacity=\"1\" /><path clip-path=\"url(#clip620)\" d=\"M1792.3 1517.37 Q1788.69 1517.37 1786.86 1520.93 Q1785.06 1524.47 1785.06 1531.6 Q1785.06 1538.71 1786.86 1542.27 Q1788.69 1545.82 1792.3 1545.82 Q1795.94 1545.82 1797.74 1542.27 Q1799.57 1538.71 1799.57 1531.6 Q1799.57 1524.47 1797.74 1520.93 Q1795.94 1517.37 1792.3 1517.37 M1792.3 1513.66 Q1798.11 1513.66 1801.17 1518.27 Q1804.25 1522.85 1804.25 1531.6 Q1804.25 1540.33 1801.17 1544.94 Q1798.11 1549.52 1792.3 1549.52 Q1786.49 1549.52 1783.41 1544.94 Q1780.36 1540.33 1780.36 1531.6 Q1780.36 1522.85 1783.41 1518.27 Q1786.49 1513.66 1792.3 1513.66 Z\" fill=\"#000000\" fill-rule=\"evenodd\" fill-opacity=\"1\" /><path clip-path=\"url(#clip620)\" d=\"M1822.47 1517.37 Q1818.85 1517.37 1817.03 1520.93 Q1815.22 1524.47 1815.22 1531.6 Q1815.22 1538.71 1817.03 1542.27 Q1818.85 1545.82 1822.47 1545.82 Q1826.1 1545.82 1827.91 1542.27 Q1829.73 1538.71 1829.73 1531.6 Q1829.73 1524.47 1827.91 1520.93 Q1826.1 1517.37 1822.47 1517.37 M1822.47 1513.66 Q1828.28 1513.66 1831.33 1518.27 Q1834.41 1522.85 1834.41 1531.6 Q1834.41 1540.33 1831.33 1544.94 Q1828.28 1549.52 1822.47 1549.52 Q1816.66 1549.52 1813.58 1544.94 Q1810.52 1540.33 1810.52 1531.6 Q1810.52 1522.85 1813.58 1518.27 Q1816.66 1513.66 1822.47 1513.66 Z\" fill=\"#000000\" fill-rule=\"evenodd\" fill-opacity=\"1\" /><path clip-path=\"url(#clip620)\" d=\"M2239.84 1544.91 L2256.16 1544.91 L2256.16 1548.85 L2234.22 1548.85 L2234.22 1544.91 Q2236.88 1542.16 2241.46 1537.53 Q2246.07 1532.88 2247.25 1531.53 Q2249.49 1529.01 2250.37 1527.27 Q2251.28 1525.51 2251.28 1523.82 Q2251.28 1521.07 2249.33 1519.33 Q2247.41 1517.6 2244.31 1517.6 Q2242.11 1517.6 2239.66 1518.36 Q2237.23 1519.13 2234.45 1520.68 L2234.45 1515.95 Q2237.27 1514.82 2239.73 1514.24 Q2242.18 1513.66 2244.22 1513.66 Q2249.59 1513.66 2252.78 1516.35 Q2255.98 1519.03 2255.98 1523.52 Q2255.98 1525.65 2255.17 1527.57 Q2254.38 1529.47 2252.27 1532.07 Q2251.69 1532.74 2248.59 1535.95 Q2245.49 1539.15 2239.84 1544.91 Z\" fill=\"#000000\" fill-rule=\"evenodd\" fill-opacity=\"1\" /><path clip-path=\"url(#clip620)\" d=\"M2275.98 1517.37 Q2272.37 1517.37 2270.54 1520.93 Q2268.73 1524.47 2268.73 1531.6 Q2268.73 1538.71 2270.54 1542.27 Q2272.37 1545.82 2275.98 1545.82 Q2279.61 1545.82 2281.42 1542.27 Q2283.24 1538.71 2283.24 1531.6 Q2283.24 1524.47 2281.42 1520.93 Q2279.61 1517.37 2275.98 1517.37 M2275.98 1513.66 Q2281.79 1513.66 2284.84 1518.27 Q2287.92 1522.85 2287.92 1531.6 Q2287.92 1540.33 2284.84 1544.94 Q2281.79 1549.52 2275.98 1549.52 Q2270.17 1549.52 2267.09 1544.94 Q2264.03 1540.33 2264.03 1531.6 Q2264.03 1522.85 2267.09 1518.27 Q2270.17 1513.66 2275.98 1513.66 Z\" fill=\"#000000\" fill-rule=\"evenodd\" fill-opacity=\"1\" /><path clip-path=\"url(#clip620)\" d=\"M2306.14 1517.37 Q2302.53 1517.37 2300.7 1520.93 Q2298.89 1524.47 2298.89 1531.6 Q2298.89 1538.71 2300.7 1542.27 Q2302.53 1545.82 2306.14 1545.82 Q2309.77 1545.82 2311.58 1542.27 Q2313.41 1538.71 2313.41 1531.6 Q2313.41 1524.47 2311.58 1520.93 Q2309.77 1517.37 2306.14 1517.37 M2306.14 1513.66 Q2311.95 1513.66 2315 1518.27 Q2318.08 1522.85 2318.08 1531.6 Q2318.08 1540.33 2315 1544.94 Q2311.95 1549.52 2306.14 1549.52 Q2300.33 1549.52 2297.25 1544.94 Q2294.19 1540.33 2294.19 1531.6 Q2294.19 1522.85 2297.25 1518.27 Q2300.33 1513.66 2306.14 1513.66 Z\" fill=\"#000000\" fill-rule=\"evenodd\" fill-opacity=\"1\" /><path clip-path=\"url(#clip620)\" d=\"M2336.3 1517.37 Q2332.69 1517.37 2330.86 1520.93 Q2329.05 1524.47 2329.05 1531.6 Q2329.05 1538.71 2330.86 1542.27 Q2332.69 1545.82 2336.3 1545.82 Q2339.93 1545.82 2341.74 1542.27 Q2343.57 1538.71 2343.57 1531.6 Q2343.57 1524.47 2341.74 1520.93 Q2339.93 1517.37 2336.3 1517.37 M2336.3 1513.66 Q2342.11 1513.66 2345.17 1518.27 Q2348.24 1522.85 2348.24 1531.6 Q2348.24 1540.33 2345.17 1544.94 Q2342.11 1549.52 2336.3 1549.52 Q2330.49 1549.52 2327.41 1544.94 Q2324.36 1540.33 2324.36 1531.6 Q2324.36 1522.85 2327.41 1518.27 Q2330.49 1513.66 2336.3 1513.66 Z\" fill=\"#000000\" fill-rule=\"evenodd\" fill-opacity=\"1\" /><polyline clip-path=\"url(#clip622)\" style=\"stroke:#000000; stroke-linecap:round; stroke-linejoin:round; stroke-width:2; stroke-opacity:0.1; fill:none\" points=\"\n",
       "  178.867,1370.74 2352.76,1370.74 \n",
       "  \"/>\n",
       "<polyline clip-path=\"url(#clip622)\" style=\"stroke:#000000; stroke-linecap:round; stroke-linejoin:round; stroke-width:2; stroke-opacity:0.1; fill:none\" points=\"\n",
       "  178.867,931.395 2352.76,931.395 \n",
       "  \"/>\n",
       "<polyline clip-path=\"url(#clip622)\" style=\"stroke:#000000; stroke-linecap:round; stroke-linejoin:round; stroke-width:2; stroke-opacity:0.1; fill:none\" points=\"\n",
       "  178.867,492.051 2352.76,492.051 \n",
       "  \"/>\n",
       "<polyline clip-path=\"url(#clip622)\" style=\"stroke:#000000; stroke-linecap:round; stroke-linejoin:round; stroke-width:2; stroke-opacity:0.1; fill:none\" points=\"\n",
       "  178.867,52.7069 2352.76,52.7069 \n",
       "  \"/>\n",
       "<polyline clip-path=\"url(#clip620)\" style=\"stroke:#000000; stroke-linecap:round; stroke-linejoin:round; stroke-width:4; stroke-opacity:1; fill:none\" points=\"\n",
       "  178.867,1486.45 178.867,47.2441 \n",
       "  \"/>\n",
       "<polyline clip-path=\"url(#clip620)\" style=\"stroke:#000000; stroke-linecap:round; stroke-linejoin:round; stroke-width:4; stroke-opacity:1; fill:none\" points=\"\n",
       "  178.867,1370.74 197.764,1370.74 \n",
       "  \"/>\n",
       "<polyline clip-path=\"url(#clip620)\" style=\"stroke:#000000; stroke-linecap:round; stroke-linejoin:round; stroke-width:4; stroke-opacity:1; fill:none\" points=\"\n",
       "  178.867,931.395 197.764,931.395 \n",
       "  \"/>\n",
       "<polyline clip-path=\"url(#clip620)\" style=\"stroke:#000000; stroke-linecap:round; stroke-linejoin:round; stroke-width:4; stroke-opacity:1; fill:none\" points=\"\n",
       "  178.867,492.051 197.764,492.051 \n",
       "  \"/>\n",
       "<polyline clip-path=\"url(#clip620)\" style=\"stroke:#000000; stroke-linecap:round; stroke-linejoin:round; stroke-width:4; stroke-opacity:1; fill:none\" points=\"\n",
       "  178.867,52.7069 197.764,52.7069 \n",
       "  \"/>\n",
       "<path clip-path=\"url(#clip620)\" d=\"M52.5893 1371.19 L82.2651 1371.19 L82.2651 1375.13 L52.5893 1375.13 L52.5893 1371.19 Z\" fill=\"#000000\" fill-rule=\"evenodd\" fill-opacity=\"1\" /><path clip-path=\"url(#clip620)\" d=\"M96.3854 1384.08 L112.705 1384.08 L112.705 1388.02 L90.7604 1388.02 L90.7604 1384.08 Q93.4225 1381.33 98.0058 1376.7 Q102.612 1372.05 103.793 1370.7 Q106.038 1368.18 106.918 1366.45 Q107.821 1364.69 107.821 1363 Q107.821 1360.24 105.876 1358.51 Q103.955 1356.77 100.853 1356.77 Q98.6539 1356.77 96.2002 1357.53 Q93.7697 1358.3 90.9919 1359.85 L90.9919 1355.13 Q93.816 1353.99 96.2697 1353.41 Q98.7234 1352.83 100.76 1352.83 Q106.131 1352.83 109.325 1355.52 Q112.52 1358.2 112.52 1362.7 Q112.52 1364.82 111.709 1366.75 Q110.922 1368.64 108.816 1371.24 Q108.237 1371.91 105.135 1375.13 Q102.034 1378.32 96.3854 1384.08 Z\" fill=\"#000000\" fill-rule=\"evenodd\" fill-opacity=\"1\" /><path clip-path=\"url(#clip620)\" d=\"M126.547 1384.08 L142.867 1384.08 L142.867 1388.02 L120.922 1388.02 L120.922 1384.08 Q123.584 1381.33 128.168 1376.7 Q132.774 1372.05 133.955 1370.7 Q136.2 1368.18 137.08 1366.45 Q137.982 1364.69 137.982 1363 Q137.982 1360.24 136.038 1358.51 Q134.117 1356.77 131.015 1356.77 Q128.816 1356.77 126.362 1357.53 Q123.932 1358.3 121.154 1359.85 L121.154 1355.13 Q123.978 1353.99 126.432 1353.41 Q128.885 1352.83 130.922 1352.83 Q136.293 1352.83 139.487 1355.52 Q142.681 1358.2 142.681 1362.7 Q142.681 1364.82 141.871 1366.75 Q141.084 1368.64 138.978 1371.24 Q138.399 1371.91 135.297 1375.13 Q132.195 1378.32 126.547 1384.08 Z\" fill=\"#000000\" fill-rule=\"evenodd\" fill-opacity=\"1\" /><path clip-path=\"url(#clip620)\" d=\"M52.219 931.846 L81.8947 931.846 L81.8947 935.782 L52.219 935.782 L52.219 931.846 Z\" fill=\"#000000\" fill-rule=\"evenodd\" fill-opacity=\"1\" /><path clip-path=\"url(#clip620)\" d=\"M96.015 944.74 L112.334 944.74 L112.334 948.675 L90.3901 948.675 L90.3901 944.74 Q93.0521 941.985 97.6354 937.356 Q102.242 932.703 103.422 931.36 Q105.668 928.837 106.547 927.101 Q107.45 925.342 107.45 923.652 Q107.45 920.897 105.506 919.161 Q103.584 917.425 100.483 917.425 Q98.2835 917.425 95.8298 918.189 Q93.3993 918.953 90.6215 920.504 L90.6215 915.782 Q93.4456 914.647 95.8993 914.069 Q98.353 913.49 100.39 913.49 Q105.76 913.49 108.955 916.175 Q112.149 918.86 112.149 923.351 Q112.149 925.481 111.339 927.402 Q110.552 929.3 108.446 931.893 Q107.867 932.564 104.765 935.782 Q101.663 938.976 96.015 944.74 Z\" fill=\"#000000\" fill-rule=\"evenodd\" fill-opacity=\"1\" /><path clip-path=\"url(#clip620)\" d=\"M122.959 944.74 L130.598 944.74 L130.598 918.374 L122.288 920.041 L122.288 915.782 L130.552 914.115 L135.228 914.115 L135.228 944.74 L142.867 944.74 L142.867 948.675 L122.959 948.675 L122.959 944.74 Z\" fill=\"#000000\" fill-rule=\"evenodd\" fill-opacity=\"1\" /><path clip-path=\"url(#clip620)\" d=\"M50.9921 492.502 L80.6679 492.502 L80.6679 496.437 L50.9921 496.437 L50.9921 492.502 Z\" fill=\"#000000\" fill-rule=\"evenodd\" fill-opacity=\"1\" /><path clip-path=\"url(#clip620)\" d=\"M94.7882 505.396 L111.108 505.396 L111.108 509.331 L89.1632 509.331 L89.1632 505.396 Q91.8252 502.641 96.4085 498.012 Q101.015 493.359 102.196 492.016 Q104.441 489.493 105.321 487.757 Q106.223 485.998 106.223 484.308 Q106.223 481.553 104.279 479.817 Q102.358 478.081 99.2558 478.081 Q97.0567 478.081 94.603 478.845 Q92.1725 479.609 89.3947 481.16 L89.3947 476.438 Q92.2188 475.303 94.6724 474.725 Q97.1261 474.146 99.1632 474.146 Q104.534 474.146 107.728 476.831 Q110.922 479.516 110.922 484.007 Q110.922 486.137 110.112 488.058 Q109.325 489.956 107.219 492.549 Q106.64 493.22 103.538 496.437 Q100.436 499.632 94.7882 505.396 Z\" fill=\"#000000\" fill-rule=\"evenodd\" fill-opacity=\"1\" /><path clip-path=\"url(#clip620)\" d=\"M130.922 477.85 Q127.311 477.85 125.482 481.414 Q123.677 484.956 123.677 492.086 Q123.677 499.192 125.482 502.757 Q127.311 506.299 130.922 506.299 Q134.556 506.299 136.362 502.757 Q138.191 499.192 138.191 492.086 Q138.191 484.956 136.362 481.414 Q134.556 477.85 130.922 477.85 M130.922 474.146 Q136.732 474.146 139.788 478.752 Q142.867 483.336 142.867 492.086 Q142.867 500.812 139.788 505.419 Q136.732 510.002 130.922 510.002 Q125.112 510.002 122.033 505.419 Q118.978 500.812 118.978 492.086 Q118.978 483.336 122.033 478.752 Q125.112 474.146 130.922 474.146 Z\" fill=\"#000000\" fill-rule=\"evenodd\" fill-opacity=\"1\" /><path clip-path=\"url(#clip620)\" d=\"M51.1773 53.1582 L80.8531 53.1582 L80.8531 57.0934 L51.1773 57.0934 L51.1773 53.1582 Z\" fill=\"#000000\" fill-rule=\"evenodd\" fill-opacity=\"1\" /><path clip-path=\"url(#clip620)\" d=\"M91.7558 66.0517 L99.3946 66.0517 L99.3946 39.6861 L91.0845 41.3528 L91.0845 37.0935 L99.3483 35.4269 L104.024 35.4269 L104.024 66.0517 L111.663 66.0517 L111.663 69.9869 L91.7558 69.9869 L91.7558 66.0517 Z\" fill=\"#000000\" fill-rule=\"evenodd\" fill-opacity=\"1\" /><path clip-path=\"url(#clip620)\" d=\"M121.246 69.2693 L121.246 65.01 Q123.006 65.8434 124.811 66.2832 Q126.617 66.723 128.353 66.723 Q132.982 66.723 135.413 63.6212 Q137.867 60.4962 138.214 54.1536 Q136.871 56.1443 134.811 57.2092 Q132.751 58.274 130.251 58.274 Q125.066 58.274 122.033 55.149 Q119.024 52.0008 119.024 46.5611 Q119.024 41.237 122.172 38.0194 Q125.32 34.8019 130.552 34.8019 Q136.547 34.8019 139.695 39.4083 Q142.867 43.9916 142.867 52.7416 Q142.867 60.9128 138.978 65.7971 Q135.112 70.6582 128.561 70.6582 Q126.802 70.6582 124.996 70.3109 Q123.191 69.9637 121.246 69.2693 M130.552 54.6166 Q133.7 54.6166 135.529 52.4638 Q137.381 50.311 137.381 46.5611 Q137.381 42.8342 135.529 40.6815 Q133.7 38.5055 130.552 38.5055 Q127.404 38.5055 125.552 40.6815 Q123.723 42.8342 123.723 46.5611 Q123.723 50.311 125.552 52.4638 Q127.404 54.6166 130.552 54.6166 Z\" fill=\"#000000\" fill-rule=\"evenodd\" fill-opacity=\"1\" /><polyline clip-path=\"url(#clip622)\" style=\"stroke:#009af9; stroke-linecap:round; stroke-linejoin:round; stroke-width:4; stroke-opacity:1; fill:none\" points=\"\n",
       "  240.392,598.671 241.418,296.683 242.444,221.489 243.47,807.203 244.496,353.652 245.521,403.95 246.547,439.555 247.573,517.997 248.599,863.986 249.625,597.211 \n",
       "  250.651,460.433 251.677,429.284 252.703,406.73 253.729,495.881 254.755,379.962 255.781,650.673 256.807,691.551 257.833,649.828 258.859,589.721 259.885,495.975 \n",
       "  260.91,595.183 261.936,780.306 262.962,769.025 263.988,454.409 265.014,541.496 266.04,802.26 267.066,271.671 268.092,648.972 269.118,843.443 270.144,738.398 \n",
       "  271.17,530.76 272.196,556.875 273.222,462.673 274.248,611.52 275.274,421.631 276.299,429.254 277.325,699.825 278.351,394.345 279.377,478.381 280.403,651.179 \n",
       "  281.429,487.799 282.455,836.653 283.481,530.234 284.507,601.221 285.533,457.529 286.559,478.349 287.585,783.908 288.611,586.243 289.637,395.804 290.662,432.229 \n",
       "  291.688,503.879 292.714,877.072 293.74,629.415 294.766,406.463 295.792,705.579 296.818,719.642 297.844,533.102 298.87,689.889 299.896,318.786 300.922,409.08 \n",
       "  301.948,565.122 302.974,563.682 304,454.449 305.026,358.215 306.051,755.633 307.077,597.473 308.103,600.462 309.129,562.482 310.155,538.378 311.181,902.296 \n",
       "  312.207,682.949 313.233,581.299 314.259,848.838 315.285,404.965 316.311,1178.04 317.337,253.779 318.363,615.215 319.389,413.107 320.415,393.385 321.44,336.643 \n",
       "  322.466,749.24 323.492,581.513 324.518,725.056 325.544,642.234 326.57,783.262 327.596,520.874 328.622,363.573 329.648,394.552 330.674,522.297 331.7,499.938 \n",
       "  332.726,455.02 333.752,574.759 334.778,443.029 335.804,337.789 336.829,462.98 337.855,298.479 338.881,465.715 339.907,390.786 340.933,297.953 341.959,506.995 \n",
       "  342.985,357.883 344.011,217.08 345.037,231.792 346.063,467.65 347.089,188.377 348.115,427.814 349.141,599.578 350.167,387.835 351.193,379.228 352.218,657.797 \n",
       "  353.244,822.312 354.27,664.273 355.296,663.975 356.322,344.774 357.348,596.041 358.374,875.475 359.4,508.301 360.426,372.734 361.452,424.271 362.478,515.575 \n",
       "  363.504,741.585 364.53,470.028 365.556,637.186 366.581,354.583 367.607,781.835 368.633,468.526 369.659,297.329 370.685,520.655 371.711,801.013 372.737,768.079 \n",
       "  373.763,628.546 374.789,610.98 375.815,271.338 376.841,585.314 377.867,344.033 378.893,245.429 379.919,783.689 380.945,756.199 381.97,232.325 382.996,458.202 \n",
       "  384.022,478.973 385.048,677.373 386.074,385.808 387.1,677.945 388.126,478.672 389.152,420.215 390.178,273.795 391.204,429.911 392.23,634.282 393.256,824.858 \n",
       "  394.282,594.426 395.308,693.032 396.334,346.809 397.359,548.364 398.385,643.844 399.411,363.43 400.437,182.623 401.463,358.047 402.489,809.383 403.515,345.16 \n",
       "  404.541,600.284 405.567,576.044 406.593,680.955 407.619,411.355 408.645,772.641 409.671,675.17 410.697,234.183 411.723,315.024 412.748,457.243 413.774,415.055 \n",
       "  414.8,413.922 415.826,590.246 416.852,412.434 417.878,479.656 418.904,707.258 419.93,366.177 420.956,487.15 421.982,544.045 423.008,1130.73 424.034,554.101 \n",
       "  425.06,490.252 426.086,406.657 427.112,354.486 428.137,564.298 429.163,537.662 430.189,882.571 431.215,273.734 432.241,261.8 433.267,500.285 434.293,324.323 \n",
       "  435.319,185.627 436.345,375.174 437.371,342.971 438.397,411.599 439.423,373.471 440.449,446.719 441.475,281.105 442.5,462.06 443.526,258.961 444.552,508.164 \n",
       "  445.578,283.021 446.604,541.702 447.63,632.35 448.656,662.268 449.682,787.485 450.708,441.695 451.734,407.878 452.76,352.631 453.786,543.313 454.812,423.279 \n",
       "  455.838,385.163 456.864,259.61 457.889,338.684 458.915,943.016 459.941,688.55 460.967,467.168 461.993,883.199 463.019,321.311 464.045,717.68 465.071,796.454 \n",
       "  466.097,608.118 467.123,330.113 468.149,291.176 469.175,857.412 470.201,501.232 471.227,471.048 472.253,354.304 473.278,760.522 474.304,292.608 475.33,276.384 \n",
       "  476.356,909.587 477.382,330.832 478.408,436.858 479.434,363.767 480.46,418.601 481.486,315.961 482.512,559.507 483.538,523.299 484.564,598.399 485.59,500.547 \n",
       "  486.616,662.94 487.642,420.042 488.667,546.567 489.693,660.172 490.719,260.621 491.745,278.789 492.771,1204.11 493.797,441.539 494.823,428.596 495.849,792.933 \n",
       "  496.875,486.631 497.901,430.259 498.927,430.339 499.953,280.956 500.979,916.93 502.005,507.071 503.031,452.723 504.056,480.456 505.082,742.02 506.108,438.001 \n",
       "  507.134,706.855 508.16,436.379 509.186,869.724 510.212,349.021 511.238,396.898 512.264,748.443 513.29,328.614 514.316,273.067 515.342,435.015 516.368,814.529 \n",
       "  517.394,605.056 518.419,673.413 519.445,990.419 520.471,425.964 521.497,394.91 522.523,412.641 523.549,883.492 524.575,524.001 525.601,1202.04 526.627,520.3 \n",
       "  527.653,491.124 528.679,531.426 529.705,430.981 530.731,602.805 531.757,359.872 532.783,423.934 533.808,203.753 534.834,714.288 535.86,693.242 536.886,280.464 \n",
       "  537.912,875.338 538.938,505.682 539.964,340.355 540.99,545.165 542.016,1030.88 543.042,330.24 544.068,279.908 545.094,517.68 546.12,468.619 547.146,561.12 \n",
       "  548.172,378.109 549.197,684.276 550.223,550.722 551.249,532.784 552.275,881.513 553.301,742.794 554.327,462.197 555.353,413.978 556.379,300.903 557.405,568.31 \n",
       "  558.431,566.998 559.457,584.577 560.483,452.732 561.509,467.602 562.535,484.202 563.561,513.442 564.586,741.404 565.612,398.667 566.638,728.933 567.664,788.607 \n",
       "  568.69,753.54 569.716,469.483 570.742,512.01 571.768,467.128 572.794,554.679 573.82,293.397 574.846,341.665 575.872,260.473 576.898,643.343 577.924,459.482 \n",
       "  578.95,847.163 579.975,379.465 581.001,470.987 582.027,236.752 583.053,390.932 584.079,430.173 585.105,560.641 586.131,536.742 587.157,414.49 588.183,444.326 \n",
       "  589.209,426.179 590.235,354.641 591.261,450.871 592.287,610.784 593.313,636.361 594.338,881.363 595.364,427.941 596.39,771.318 597.416,767.271 598.442,432.891 \n",
       "  599.468,706.109 600.494,349.375 601.52,663.153 602.546,861.579 603.572,269.409 604.598,282.177 605.624,582.131 606.65,490.355 607.676,498.305 608.702,644.578 \n",
       "  609.727,612.438 610.753,308.773 611.779,531.322 612.805,552.498 613.831,373.907 614.857,753.721 615.883,293.27 616.909,895.429 617.935,991.457 618.961,564.123 \n",
       "  619.987,741.925 621.013,483.49 622.039,412.442 623.065,728.533 624.091,543.914 625.116,335.964 626.142,548.007 627.168,848.21 628.194,406.405 629.22,1351.57 \n",
       "  630.246,386.118 631.272,423.386 632.298,314.249 633.324,446.737 634.35,504.365 635.376,746.272 636.402,317.89 637.428,468.062 638.454,445.47 639.48,235.43 \n",
       "  640.505,326.247 641.531,284.515 642.557,734.822 643.583,447.484 644.609,276.723 645.635,500.018 646.661,658.06 647.687,564.613 648.713,329.274 649.739,465.767 \n",
       "  650.765,510.347 651.791,663.24 652.817,1114.99 653.843,360.138 654.869,353.839 655.894,488.582 656.92,557.605 657.946,248.139 658.972,350.792 659.998,680.635 \n",
       "  661.024,465.418 662.05,422.109 663.076,595.418 664.102,333.647 665.128,1184.77 666.154,600.733 667.18,383.253 668.206,407.486 669.232,422.009 670.257,380.153 \n",
       "  671.283,678.183 672.309,409.162 673.335,1060.61 674.361,371.141 675.387,319.957 676.413,474.873 677.439,284.366 678.465,682.554 679.491,319.06 680.517,587.771 \n",
       "  681.543,214.887 682.569,695.877 683.595,472.029 684.621,693.766 685.646,661.131 686.672,342.912 687.698,913.248 688.724,460.71 689.75,578.181 690.776,318.719 \n",
       "  691.802,203.548 692.828,1075.49 693.854,653.857 694.88,333.967 695.906,640.312 696.932,416.565 697.958,314.586 698.984,493.964 700.01,824.638 701.035,1183.85 \n",
       "  702.061,437.677 703.087,510.915 704.113,440.825 705.139,317.21 706.165,601.483 707.191,649.879 708.217,801.213 709.243,662.644 710.269,424.387 711.295,400.565 \n",
       "  712.321,257.058 713.347,515.772 714.373,723.354 715.399,670.445 716.424,319.606 717.45,300.894 718.476,625.928 719.502,717.827 720.528,571.809 721.554,288.46 \n",
       "  722.58,622.523 723.606,646.927 724.632,478.698 725.658,524.634 726.684,301.124 727.71,395.427 728.736,936.353 729.762,201.896 730.788,931.893 731.813,458.284 \n",
       "  732.839,438.393 733.865,563.194 734.891,797.334 735.917,337.568 736.943,296.437 737.969,323.512 738.995,323.418 740.021,498.891 741.047,488.056 742.073,998.621 \n",
       "  743.099,260.252 744.125,398.138 745.151,317.995 746.176,812.092 747.202,542.626 748.228,497.593 749.254,396.015 750.28,649.237 751.306,500.306 752.332,467.452 \n",
       "  753.358,364.733 754.384,706.092 755.41,723.755 756.436,248.95 757.462,538.576 758.488,454.387 759.514,546.171 760.54,406.983 761.565,476.929 762.591,945.079 \n",
       "  763.617,468.865 764.643,582.056 765.669,860.089 766.695,588.025 767.721,450.489 768.747,649.447 769.773,490.813 770.799,382.65 771.825,735.16 772.851,625.989 \n",
       "  773.877,330.969 774.903,441.578 775.929,338.108 776.954,538.787 777.98,783.174 779.006,451.271 780.032,465.479 781.058,703.217 782.084,429.94 783.11,663.239 \n",
       "  784.136,555.862 785.162,521.953 786.188,438.716 787.214,641.253 788.24,401.989 789.266,406.408 790.292,464.18 791.318,473.975 792.343,656.641 793.369,854.992 \n",
       "  794.395,643.458 795.421,268.826 796.447,307.983 797.473,582.313 798.499,482.597 799.525,761.285 800.551,331.347 801.577,352.924 802.603,546.311 803.629,670.05 \n",
       "  804.655,409.892 805.681,382.784 806.707,357.33 807.732,818.538 808.758,762.414 809.784,490.685 810.81,274.308 811.836,931.747 812.862,749.735 813.888,865.174 \n",
       "  814.914,318.03 815.94,523.424 816.966,504.361 817.992,464.355 819.018,764.133 820.044,306.683 821.07,686.66 822.095,834.686 823.121,658.001 824.147,860.542 \n",
       "  825.173,342.084 826.199,427.744 827.225,653.801 828.251,1318.16 829.277,357.414 830.303,591.589 831.329,505.984 832.355,472.842 833.381,1037.79 834.407,679.987 \n",
       "  835.433,671.672 836.459,606.878 837.484,704.2 838.51,525.925 839.536,349.198 840.562,515.098 841.588,350.295 842.614,337.07 843.64,422.566 844.666,577.324 \n",
       "  845.692,355.195 846.718,777.788 847.744,433.446 848.77,584.96 849.796,183.774 850.822,594.769 851.848,635.861 852.873,429.412 853.899,705.774 854.925,497.573 \n",
       "  855.951,506.257 856.977,571.267 858.003,787.246 859.029,492.524 860.055,394.173 861.081,771.32 862.107,578.131 863.133,583.08 864.159,649.801 865.185,279.995 \n",
       "  866.211,403.778 867.237,414.802 868.262,600.346 869.288,281.498 870.314,294.59 871.34,693.997 872.366,317.457 873.392,597.067 874.418,663.582 875.444,407.44 \n",
       "  876.47,1366.34 877.496,869.43 878.522,1144.96 879.548,618.683 880.574,959.696 881.6,318.813 882.626,531.47 883.651,415.81 884.677,718.351 885.703,585.185 \n",
       "  886.729,593.84 887.755,290.392 888.781,351.026 889.807,747.512 890.833,419.415 891.859,570.394 892.885,417.242 893.911,387.088 894.937,740.855 895.963,631.083 \n",
       "  896.989,623.38 898.014,590.342 899.04,839.329 900.066,671.681 901.092,267.574 902.118,607.564 903.144,347.552 904.17,543.226 905.196,316.909 906.222,411.816 \n",
       "  907.248,620.763 908.274,881.232 909.3,761.177 910.326,601.391 911.352,835.889 912.378,408.629 913.403,415.319 914.429,424.7 915.455,704.215 916.481,408.581 \n",
       "  917.507,525.25 918.533,811.085 919.559,354.052 920.585,325.21 921.611,362.902 922.637,691.412 923.663,772.728 924.689,451.693 925.715,609.434 926.741,722.317 \n",
       "  927.767,823.236 928.792,818.423 929.818,1126.24 930.844,355.896 931.87,604.293 932.896,386.316 933.922,662.069 934.948,468.795 935.974,969.84 937,261.968 \n",
       "  938.026,826.801 939.052,665.688 940.078,431.46 941.104,291.821 942.13,571.14 943.156,330.188 944.181,658.666 945.207,536.94 946.233,585.466 947.259,799.82 \n",
       "  948.285,435.337 949.311,287.841 950.337,456.972 951.363,977.898 952.389,799.48 953.415,537.855 954.441,816.169 955.467,594.086 956.493,715.518 957.519,610.874 \n",
       "  958.545,229.837 959.57,517.598 960.596,410.008 961.622,372.364 962.648,882.954 963.674,1167.04 964.7,348.419 965.726,376.921 966.752,380.25 967.778,580.185 \n",
       "  968.804,730.142 969.83,395.013 970.856,552.381 971.882,415.012 972.908,727.451 973.933,376.381 974.959,507.565 975.985,372.085 977.011,686.398 978.037,1165.98 \n",
       "  979.063,356.516 980.089,478.5 981.115,535.895 982.141,224.932 983.167,491.739 984.193,419.897 985.219,309.217 986.245,914.232 987.271,345.412 988.297,298.314 \n",
       "  989.322,384.546 990.348,803.386 991.374,574.007 992.4,398.817 993.426,594.922 994.452,212.239 995.478,319.256 996.504,573.138 997.53,543.778 998.556,401.976 \n",
       "  999.582,447.137 1000.61,548.603 1001.63,383.367 1002.66,491.99 1003.69,677.401 1004.71,402.268 1005.74,325.443 1006.76,303.095 1007.79,360.307 1008.82,341.076 \n",
       "  1009.84,611.772 1010.87,919.178 1011.89,587.166 1012.92,615.049 1013.94,294.037 1014.97,625.997 1016,263.19 1017.02,319.991 1018.05,651.418 1019.07,377.617 \n",
       "  1020.1,757.311 1021.13,551.269 1022.15,558.145 1023.18,290.338 1024.2,516.709 1025.23,408.397 1026.26,523.804 1027.28,402.618 1028.31,289.075 1029.33,533.504 \n",
       "  1030.36,811.544 1031.39,559.308 1032.41,324.518 1033.44,391.87 1034.46,717.887 1035.49,437.273 1036.52,388.017 1037.54,404.153 1038.57,597.589 1039.59,556.616 \n",
       "  1040.62,391.531 1041.65,910.809 1042.67,708.691 1043.7,592.074 1044.72,291.284 1045.75,545.202 1046.77,310.414 1047.8,306.905 1048.83,615.67 1049.85,465.276 \n",
       "  1050.88,393.673 1051.9,742.771 1052.93,386.409 1053.96,507.301 1054.98,256.188 1056.01,703.678 1057.03,307.77 1058.06,197.878 1059.09,328.846 1060.11,439.541 \n",
       "  1061.14,493.515 1062.16,315.626 1063.19,482.912 1064.22,663.66 1065.24,528.792 1066.27,499.903 1067.29,490 1068.32,796.145 1069.35,608.725 1070.37,422.196 \n",
       "  1071.4,303.099 1072.42,300.341 1073.45,192.003 1074.47,531.263 1075.5,375.856 1076.53,303.03 1077.55,358.541 1078.58,733.953 1079.6,386.632 1080.63,683.297 \n",
       "  1081.66,361.494 1082.68,483.77 1083.71,683.635 1084.73,311.245 1085.76,745.201 1086.79,683.986 1087.81,440.171 1088.84,380.021 1089.86,537.483 1090.89,911.581 \n",
       "  1091.92,782.526 1092.94,885.581 1093.97,533.974 1094.99,587.494 1096.02,534.008 1097.05,900.482 1098.07,579.864 1099.1,649.466 1100.12,371.37 1101.15,469.154 \n",
       "  1102.18,288.141 1103.2,512.073 1104.23,676.579 1105.25,1060.08 1106.28,470.653 1107.3,934.386 1108.33,333.461 1109.36,753.509 1110.38,604.1 1111.41,486.976 \n",
       "  1112.43,243.965 1113.46,339.775 1114.49,484.862 1115.51,678.519 1116.54,407.753 1117.56,426.957 1118.59,674.998 1119.62,589.74 1120.64,765.076 1121.67,500.509 \n",
       "  1122.69,488.089 1123.72,353.009 1124.75,1040.09 1125.77,613.619 1126.8,486.049 1127.82,367.117 1128.85,852.401 1129.88,629.342 1130.9,873.862 1131.93,595.535 \n",
       "  1132.95,621.43 1133.98,371.462 1135,306.111 1136.03,803.799 1137.06,829.134 1138.08,491.63 1139.11,746.733 1140.13,794.535 1141.16,304.093 1142.19,477.424 \n",
       "  1143.21,473.434 1144.24,388.27 1145.26,334.046 1146.29,392.099 1147.32,430.95 1148.34,398.063 1149.37,572.172 1150.39,1059.16 1151.42,860.483 1152.45,270.092 \n",
       "  1153.47,486.407 1154.5,381.871 1155.52,323.688 1156.55,878.329 1157.58,465.19 1158.6,488.174 1159.63,619.005 1160.65,736.041 1161.68,807.048 1162.71,203.69 \n",
       "  1163.73,433.726 1164.76,492.378 1165.78,318.985 1166.81,641.777 1167.83,466.671 1168.86,450.661 1169.89,945.395 1170.91,548.384 1171.94,441.308 1172.96,335.483 \n",
       "  1173.99,567.698 1175.02,482.428 1176.04,271.472 1177.07,796.543 1178.09,447.223 1179.12,381.24 1180.15,419.64 1181.17,1313.68 1182.2,909.013 1183.22,626.289 \n",
       "  1184.25,705.273 1185.28,379.343 1186.3,251.682 1187.33,800.368 1188.35,538.239 1189.38,611.954 1190.41,1445.72 1191.43,760.186 1192.46,445.752 1193.48,572.166 \n",
       "  1194.51,572.547 1195.53,276.329 1196.56,739.831 1197.59,628.354 1198.61,358.552 1199.64,498.167 1200.66,634.67 1201.69,634.38 1202.72,335.434 1203.74,413.565 \n",
       "  1204.77,656.707 1205.79,640.699 1206.82,395.772 1207.85,787.111 1208.87,305.652 1209.9,527.809 1210.92,554.466 1211.95,641.434 1212.98,297.67 1214,645.901 \n",
       "  1215.03,607.112 1216.05,330.873 1217.08,850.053 1218.11,636.953 1219.13,544.191 1220.16,384.872 1221.18,705.939 1222.21,662.486 1223.24,381.554 1224.26,450.455 \n",
       "  1225.29,614.434 1226.31,285.638 1227.34,749.753 1228.36,305.43 1229.39,793.048 1230.42,857.624 1231.44,466.859 1232.47,563.594 1233.49,341.469 1234.52,854.988 \n",
       "  1235.55,364.454 1236.57,395.943 1237.6,560.569 1238.62,476.097 1239.65,757.683 1240.68,730.106 1241.7,994.086 1242.73,381.778 1243.75,456.931 1244.78,452.843 \n",
       "  1245.81,703.085 1246.83,264.374 1247.86,416.657 1248.88,733.434 1249.91,371.526 1250.94,308.896 1251.96,394.217 1252.99,404.747 1254.01,522.303 1255.04,617.869 \n",
       "  1256.06,416.101 1257.09,113.267 1258.12,558.969 1259.14,466.239 1260.17,733.864 1261.19,819.105 1262.22,481.696 1263.25,628.828 1264.27,318.496 1265.3,673.717 \n",
       "  1266.32,739.228 1267.35,571.056 1268.38,370.13 1269.4,792.783 1270.43,376.417 1271.45,638.497 1272.48,320.605 1273.51,390.333 1274.53,502.825 1275.56,349.761 \n",
       "  1276.58,849.124 1277.61,422.252 1278.64,672.005 1279.66,402.019 1280.69,720.911 1281.71,668.667 1282.74,720.792 1283.77,533.382 1284.79,403.527 1285.82,669.583 \n",
       "  1286.84,577.349 1287.87,563.192 1288.89,476.718 1289.92,644.111 1290.95,619.854 1291.97,475.876 1293,708.48 1294.02,305.743 1295.05,474.528 1296.08,404.467 \n",
       "  1297.1,522.988 1298.13,814.259 1299.15,790.347 1300.18,403.552 1301.21,519.621 1302.23,850.225 1303.26,569.439 1304.28,356.422 1305.31,489.124 1306.34,497.027 \n",
       "  1307.36,631.383 1308.39,422.282 1309.41,524.782 1310.44,571.086 1311.47,625.466 1312.49,263.251 1313.52,739.749 1314.54,400.442 1315.57,421.026 1316.59,491.191 \n",
       "  1317.62,516.567 1318.65,501.022 1319.67,259.275 1320.7,627.177 1321.72,724.436 1322.75,437.778 1323.78,478.506 1324.8,511.994 1325.83,481.459 1326.85,879.054 \n",
       "  1327.88,363.118 1328.91,492.498 1329.93,632.49 1330.96,377.428 1331.98,598.233 1333.01,671.732 1334.04,792.608 1335.06,997.996 1336.09,871.58 1337.11,536.071 \n",
       "  1338.14,824.264 1339.17,818.506 1340.19,451.727 1341.22,496.729 1342.24,323.659 1343.27,426.898 1344.3,405.293 1345.32,1173.17 1346.35,607.461 1347.37,390.87 \n",
       "  1348.4,447.072 1349.42,658.017 1350.45,376.641 1351.48,316.488 1352.5,264.665 1353.53,302.276 1354.55,341.928 1355.58,485.284 1356.61,313.326 1357.63,383.209 \n",
       "  1358.66,729.788 1359.68,1017.06 1360.71,676.059 1361.74,498.15 1362.76,554.978 1363.79,608.665 1364.81,381.358 1365.84,293.819 1366.87,493.596 1367.89,735.885 \n",
       "  1368.92,1003.84 1369.94,509.934 1370.97,494.123 1372,633.136 1373.02,452.126 1374.05,398.736 1375.07,486.962 1376.1,536.472 1377.12,343.369 1378.15,494.49 \n",
       "  1379.18,344.272 1380.2,554.081 1381.23,277.004 1382.25,691.552 1383.28,1155.21 1384.31,245.104 1385.33,386.881 1386.36,454.292 1387.38,487.591 1388.41,641.162 \n",
       "  1389.44,288.24 1390.46,566.708 1391.49,431.29 1392.51,611.994 1393.54,340.787 1394.57,597.38 1395.59,273.288 1396.62,370.797 1397.64,914.004 1398.67,276.534 \n",
       "  1399.7,424.973 1400.72,859.307 1401.75,462.945 1402.77,650.57 1403.8,382.633 1404.83,393.153 1405.85,555.693 1406.88,413.523 1407.9,453.858 1408.93,319.719 \n",
       "  1409.95,620.125 1410.98,383.007 1412.01,383.365 1413.03,645.494 1414.06,293.218 1415.08,634.1 1416.11,601.722 1417.14,464.31 1418.16,596.381 1419.19,371.55 \n",
       "  1420.21,248.432 1421.24,532.248 1422.27,254.804 1423.29,411.314 1424.32,328.234 1425.34,683.404 1426.37,519.272 1427.4,698.443 1428.42,497.664 1429.45,337.141 \n",
       "  1430.47,318.332 1431.5,544.339 1432.53,296.583 1433.55,389.571 1434.58,582.788 1435.6,751.857 1436.63,513.207 1437.65,457.972 1438.68,334.072 1439.71,642.265 \n",
       "  1440.73,392.017 1441.76,483.645 1442.78,194.609 1443.81,560.961 1444.84,270.304 1445.86,359.463 1446.89,968.323 1447.91,458.883 1448.94,532.021 1449.97,586.379 \n",
       "  1450.99,412.294 1452.02,345.236 1453.04,539.983 1454.07,844.206 1455.1,518.711 1456.12,491.521 1457.15,652.243 1458.17,835.772 1459.2,406.534 1460.23,484.091 \n",
       "  1461.25,664.1 1462.28,475.455 1463.3,569.724 1464.33,273.885 1465.36,569.818 1466.38,359.306 1467.41,677.115 1468.43,403.398 1469.46,565.13 1470.48,418.607 \n",
       "  1471.51,314.773 1472.54,830.611 1473.56,707.689 1474.59,482.32 1475.61,382.143 1476.64,469.861 1477.67,554.847 1478.69,534.43 1479.72,596.51 1480.74,488.825 \n",
       "  1481.77,527.816 1482.8,352.941 1483.82,772.89 1484.85,510.533 1485.87,535.759 1486.9,634.976 1487.93,539.906 1488.95,354.371 1489.98,513.506 1491,476.225 \n",
       "  1492.03,507.339 1493.06,423.928 1494.08,438.81 1495.11,601.024 1496.13,326.598 1497.16,560.081 1498.18,840.877 1499.21,491.725 1500.24,446.403 1501.26,691.223 \n",
       "  1502.29,456.461 1503.31,482.1 1504.34,332.211 1505.37,407.715 1506.39,548.811 1507.42,267.245 1508.44,436.595 1509.47,561.972 1510.5,504.478 1511.52,994.719 \n",
       "  1512.55,413.294 1513.57,648.06 1514.6,574.56 1515.63,511.482 1516.65,255.495 1517.68,397.004 1518.7,307.98 1519.73,1349.36 1520.76,503.192 1521.78,222.869 \n",
       "  1522.81,433.62 1523.83,504.572 1524.86,751.415 1525.89,282.217 1526.91,673.201 1527.94,212.526 1528.96,468.881 1529.99,284.591 1531.01,708.119 1532.04,334.681 \n",
       "  1533.07,410.825 1534.09,481.894 1535.12,689.894 1536.14,521.239 1537.17,667.867 1538.2,244.224 1539.22,690.43 1540.25,318.769 1541.27,355.845 1542.3,594.973 \n",
       "  1543.33,468.161 1544.35,792.249 1545.38,458.422 1546.4,410.914 1547.43,273.678 1548.46,265.618 1549.48,697.169 1550.51,819.203 1551.53,719.67 1552.56,491.84 \n",
       "  1553.59,449.3 1554.61,400.783 1555.64,390.628 1556.66,500.999 1557.69,506.342 1558.71,355.796 1559.74,401.072 1560.77,426.888 1561.79,319.78 1562.82,492.796 \n",
       "  1563.84,908.88 1564.87,344.243 1565.9,262.198 1566.92,480.102 1567.95,420.971 1568.97,723.038 1570,259.144 1571.03,596.716 1572.05,457.38 1573.08,394.618 \n",
       "  1574.1,283.403 1575.13,552.29 1576.16,539.677 1577.18,564.213 1578.21,630.692 1579.23,627.574 1580.26,724.464 1581.29,895.442 1582.31,485.682 1583.34,690.192 \n",
       "  1584.36,791.403 1585.39,517.758 1586.42,811.845 1587.44,259.614 1588.47,467.804 1589.49,583.242 1590.52,590.688 1591.54,266.403 1592.57,485.464 1593.6,782.219 \n",
       "  1594.62,241.594 1595.65,314.223 1596.67,480.18 1597.7,288.03 1598.73,618.148 1599.75,1052.42 1600.78,448.386 1601.8,559.431 1602.83,462.671 1603.86,540.854 \n",
       "  1604.88,693.042 1605.91,313.258 1606.93,492.398 1607.96,498.271 1608.99,87.9763 1610.01,419.63 1611.04,496.206 1612.06,649.667 1613.09,247.496 1614.12,549.714 \n",
       "  1615.14,831.677 1616.17,531.171 1617.19,555.339 1618.22,881.754 1619.24,335.637 1620.27,672.784 1621.3,837.523 1622.32,421.34 1623.35,404.527 1624.37,486.308 \n",
       "  1625.4,263.55 1626.43,463.11 1627.45,582.716 1628.48,524.493 1629.5,860.241 1630.53,462.478 1631.56,711.215 1632.58,387.959 1633.61,500.701 1634.63,707.868 \n",
       "  1635.66,644.581 1636.69,652.562 1637.71,630.598 1638.74,508.452 1639.76,672.742 1640.79,260.717 1641.82,221.115 1642.84,747.76 1643.87,530.992 1644.89,248.038 \n",
       "  1645.92,573.998 1646.95,393.025 1647.97,423.487 1649,1038.26 1650.02,451.245 1651.05,461.195 1652.07,359.339 1653.1,348.682 1654.13,364.903 1655.15,457.321 \n",
       "  1656.18,604.36 1657.2,841.009 1658.23,708.104 1659.26,295.439 1660.28,385.5 1661.31,518.49 1662.33,390.229 1663.36,636.374 1664.39,478.379 1665.41,413.947 \n",
       "  1666.44,253.927 1667.46,813.134 1668.49,374.908 1669.52,1052.89 1670.54,359.209 1671.57,249.103 1672.59,503.61 1673.62,292.946 1674.65,543.435 1675.67,312.395 \n",
       "  1676.7,528.106 1677.72,912.895 1678.75,486.949 1679.78,383.105 1680.8,566.223 1681.83,475.073 1682.85,514.626 1683.88,460.51 1684.9,673.721 1685.93,695.702 \n",
       "  1686.96,581.15 1687.98,590.59 1689.01,439.763 1690.03,300.175 1691.06,665.251 1692.09,390.697 1693.11,331.252 1694.14,896.311 1695.16,683.914 1696.19,730.49 \n",
       "  1697.22,327.789 1698.24,389.057 1699.27,638.57 1700.29,550.86 1701.32,944.389 1702.35,334.818 1703.37,534.806 1704.4,393.465 1705.42,1021.98 1706.45,466.213 \n",
       "  1707.48,446.445 1708.5,310.411 1709.53,451.931 1710.55,460.6 1711.58,580.631 1712.6,606.254 1713.63,392.183 1714.66,636.319 1715.68,334.455 1716.71,441.639 \n",
       "  1717.73,415.442 1718.76,704.816 1719.79,523.696 1720.81,595.851 1721.84,530.598 1722.86,696.592 1723.89,586.574 1724.92,781.752 1725.94,408.6 1726.97,392.407 \n",
       "  1727.99,259.223 1729.02,605.884 1730.05,556.533 1731.07,334.246 1732.1,783.823 1733.12,617.39 1734.15,291.5 1735.18,277.993 1736.2,720.667 1737.23,434.758 \n",
       "  1738.25,330.06 1739.28,778.093 1740.31,560.818 1741.33,516.656 1742.36,685.176 1743.38,406.521 1744.41,787.945 1745.43,730.351 1746.46,397.86 1747.49,415.635 \n",
       "  1748.51,492.675 1749.54,248.452 1750.56,719.243 1751.59,308.359 1752.62,657.358 1753.64,844.249 1754.67,468.276 1755.69,392.286 1756.72,719.755 1757.75,503.225 \n",
       "  1758.77,1041.61 1759.8,261.365 1760.82,428.63 1761.85,487.709 1762.88,575.346 1763.9,626.746 1764.93,626.527 1765.95,429.191 1766.98,604.308 1768.01,661.661 \n",
       "  1769.03,248.403 1770.06,448.917 1771.08,603.386 1772.11,339.066 1773.13,422.915 1774.16,540.273 1775.19,437.02 1776.21,472.852 1777.24,543.188 1778.26,546.303 \n",
       "  1779.29,349.643 1780.32,486.048 1781.34,549.302 1782.37,515.395 1783.39,337.767 1784.42,333.05 1785.45,382.384 1786.47,279.238 1787.5,454.136 1788.52,749.897 \n",
       "  1789.55,359.492 1790.58,434.473 1791.6,625.016 1792.63,407.898 1793.65,697.076 1794.68,471.818 1795.71,403.572 1796.73,269.442 1797.76,402.464 1798.78,465.233 \n",
       "  1799.81,574.074 1800.84,612.644 1801.86,680.539 1802.89,788.781 1803.91,504.545 1804.94,261.225 1805.96,294.312 1806.99,941.842 1808.02,335.36 1809.04,534.031 \n",
       "  1810.07,548.186 1811.09,440.993 1812.12,386.726 1813.15,389.08 1814.17,507.448 1815.2,862.006 1816.22,438.021 1817.25,514.69 1818.28,662.88 1819.3,320.097 \n",
       "  1820.33,666.239 1821.35,285.679 1822.38,529.619 1823.41,252.327 1824.43,370.92 1825.46,446.876 1826.48,445.668 1827.51,681.23 1828.54,686.297 1829.56,682.634 \n",
       "  1830.59,316.243 1831.61,600.629 1832.64,364.198 1833.66,532.247 1834.69,389.889 1835.72,382.658 1836.74,487.945 1837.77,639.138 1838.79,374.905 1839.82,1134.51 \n",
       "  1840.85,251.752 1841.87,525.117 1842.9,357.576 1843.92,536.244 1844.95,590.19 1845.98,451.756 1847,702.684 1848.03,491.971 1849.05,637.119 1850.08,331.732 \n",
       "  1851.11,395.703 1852.13,274.092 1853.16,403.175 1854.18,976.509 1855.21,643.727 1856.24,288.968 1857.26,654.955 1858.29,318.642 1859.31,439.667 1860.34,352.817 \n",
       "  1861.37,832.504 1862.39,333.332 1863.42,688.737 1864.44,411.798 1865.47,644.429 1866.49,396.217 1867.52,377.51 1868.55,371.744 1869.57,656.694 1870.6,544.202 \n",
       "  1871.62,596.874 1872.65,319.288 1873.68,725.203 1874.7,399.712 1875.73,227.493 1876.75,538.09 1877.78,271.981 1878.81,687.635 1879.83,513.532 1880.86,537.009 \n",
       "  1881.88,483.635 1882.91,548.586 1883.94,538.828 1884.96,388.48 1885.99,592.572 1887.01,496.036 1888.04,750.584 1889.07,515.899 1890.09,359.413 1891.12,312.914 \n",
       "  1892.14,648.544 1893.17,354.367 1894.19,515.072 1895.22,351.323 1896.25,423.604 1897.27,390.168 1898.3,479.444 1899.32,513.256 1900.35,360.696 1901.38,360.702 \n",
       "  1902.4,481.893 1903.43,489.022 1904.45,628.382 1905.48,292.341 1906.51,723.006 1907.53,579.669 1908.56,386.75 1909.58,448.513 1910.61,446.802 1911.64,526.122 \n",
       "  1912.66,598.785 1913.69,343.361 1914.71,648.297 1915.74,890.399 1916.77,319.413 1917.79,553.252 1918.82,594.999 1919.84,355.683 1920.87,611.984 1921.9,357.128 \n",
       "  1922.92,430.74 1923.95,357.064 1924.97,511.913 1926,370.513 1927.02,657.438 1928.05,457.46 1929.08,574.443 1930.1,524.101 1931.13,672.976 1932.15,602.67 \n",
       "  1933.18,824.04 1934.21,317.761 1935.23,587.593 1936.26,326.324 1937.28,576.705 1938.31,502.26 1939.34,381.442 1940.36,426.366 1941.39,511.994 1942.41,654.68 \n",
       "  1943.44,727.831 1944.47,541.666 1945.49,469.213 1946.52,465.813 1947.54,688.185 1948.57,406.032 1949.6,479.321 1950.62,401.723 1951.65,328.544 1952.67,574.132 \n",
       "  1953.7,527.966 1954.72,222.909 1955.75,193.144 1956.78,292.712 1957.8,605.573 1958.83,734.882 1959.85,430.33 1960.88,411.852 1961.91,368.801 1962.93,663.248 \n",
       "  1963.96,542.666 1964.98,857.032 1966.01,260.788 1967.04,418.041 1968.06,431.519 1969.09,527.049 1970.11,636.375 1971.14,527.105 1972.17,431.212 1973.19,293.936 \n",
       "  1974.22,820.044 1975.24,557.293 1976.27,411.89 1977.3,296.297 1978.32,433.794 1979.35,814.602 1980.37,675.641 1981.4,294.706 1982.43,454.878 1983.45,354.126 \n",
       "  1984.48,675.038 1985.5,531.562 1986.53,829.271 1987.55,485.653 1988.58,376.844 1989.61,772.474 1990.63,238.047 1991.66,1083.15 1992.68,1043.79 1993.71,476.109 \n",
       "  1994.74,564.443 1995.76,356.241 1996.79,606.165 1997.81,489.985 1998.84,424.938 1999.87,684.682 2000.89,531.639 2001.92,478.73 2002.94,670.199 2003.97,461.742 \n",
       "  2005,971.987 2006.02,510.238 2007.05,440.088 2008.07,701.558 2009.1,549.13 2010.13,411.897 2011.15,463.705 2012.18,259.405 2013.2,1170.08 2014.23,558.676 \n",
       "  2015.25,843.787 2016.28,385.609 2017.31,366.986 2018.33,377.041 2019.36,412.711 2020.38,827.208 2021.41,457.973 2022.44,866.421 2023.46,456.015 2024.49,444.63 \n",
       "  2025.51,259.149 2026.54,734.234 2027.57,617.496 2028.59,261.784 2029.62,507.034 2030.64,707.147 2031.67,337.165 2032.7,381.567 2033.72,601.545 2034.75,501.84 \n",
       "  2035.77,478.551 2036.8,912.552 2037.83,369.199 2038.85,376.682 2039.88,479.469 2040.9,405.168 2041.93,476.703 2042.96,652.049 2043.98,265.491 2045.01,537.533 \n",
       "  2046.03,331.743 2047.06,468.682 2048.08,657.261 2049.11,369.602 2050.14,773.417 2051.16,564.608 2052.19,529.563 2053.21,950.562 2054.24,401.695 2055.27,620.574 \n",
       "  2056.29,469.453 2057.32,315.232 2058.34,278.602 2059.37,504.133 2060.4,461.657 2061.42,548.414 2062.45,1067.05 2063.47,499.335 2064.5,612.275 2065.53,343.041 \n",
       "  2066.55,299.694 2067.58,450.895 2068.6,751.607 2069.63,381.641 2070.66,262.83 2071.68,284.367 2072.71,757.864 2073.73,317.027 2074.76,410.017 2075.78,511.662 \n",
       "  2076.81,721.88 2077.84,681.849 2078.86,363.484 2079.89,354.233 2080.91,865.598 2081.94,594.785 2082.97,438.273 2083.99,914.003 2085.02,484.85 2086.04,1102.88 \n",
       "  2087.07,497.067 2088.1,332.929 2089.12,497.729 2090.15,469.876 2091.17,555.566 2092.2,471.435 2093.23,521.779 2094.25,301.447 2095.28,443.767 2096.3,376.336 \n",
       "  2097.33,439.103 2098.36,411.364 2099.38,495.635 2100.41,461.344 2101.43,640.365 2102.46,813.387 2103.49,562.211 2104.51,423.862 2105.54,628.049 2106.56,688.768 \n",
       "  2107.59,724.282 2108.61,295.815 2109.64,543.539 2110.67,495.161 2111.69,1266.91 2112.72,562.431 2113.74,548.749 2114.77,302.456 2115.8,434.77 2116.82,653.846 \n",
       "  2117.85,251.448 2118.87,890.061 2119.9,829.275 2120.93,480.64 2121.95,340.492 2122.98,851.912 2124,409.071 2125.03,372.331 2126.06,400.228 2127.08,498.354 \n",
       "  2128.11,974.207 2129.13,350.865 2130.16,494.74 2131.19,526.397 2132.21,549.214 2133.24,572.364 2134.26,202.234 2135.29,603.834 2136.31,567.577 2137.34,689.313 \n",
       "  2138.37,449.433 2139.39,367.433 2140.42,580.73 2141.44,469.821 2142.47,592.098 2143.5,416.912 2144.52,401.807 2145.55,636.892 2146.57,715.529 2147.6,694.945 \n",
       "  2148.63,433.627 2149.65,274.832 2150.68,333.435 2151.7,742.346 2152.73,914.305 2153.76,739.541 2154.78,689.506 2155.81,307.684 2156.83,478.683 2157.86,1077.21 \n",
       "  2158.89,638.8 2159.91,361.276 2160.94,587.571 2161.96,645.619 2162.99,775.626 2164.02,546.107 2165.04,381.169 2166.07,525.904 2167.09,562.296 2168.12,644.668 \n",
       "  2169.14,574.989 2170.17,370.32 2171.2,353.008 2172.22,498.811 2173.25,385.074 2174.27,418.468 2175.3,691.875 2176.33,587.241 2177.35,334.094 2178.38,663.263 \n",
       "  2179.4,537.666 2180.43,590.868 2181.46,618.086 2182.48,992.616 2183.51,396.888 2184.53,612.704 2185.56,446.648 2186.59,564.506 2187.61,473.813 2188.64,690.095 \n",
       "  2189.66,313.086 2190.69,629.193 2191.72,568.875 2192.74,468.553 2193.77,353.799 2194.79,442.018 2195.82,447.165 2196.84,310.865 2197.87,339.278 2198.9,329.138 \n",
       "  2199.92,427.717 2200.95,379.123 2201.97,371.88 2203,690.284 2204.03,401.464 2205.05,686.682 2206.08,688.781 2207.1,357.443 2208.13,512.276 2209.16,760.054 \n",
       "  2210.18,400.246 2211.21,654.91 2212.23,736.341 2213.26,414.84 2214.29,337.46 2215.31,460.487 2216.34,708.907 2217.36,412.562 2218.39,541.975 2219.42,670.652 \n",
       "  2220.44,961.595 2221.47,653.841 2222.49,373.843 2223.52,321.374 2224.55,273.591 2225.57,276.16 2226.6,669.255 2227.62,318.057 2228.65,779.894 2229.67,747.873 \n",
       "  2230.7,728.768 2231.73,890.193 2232.75,354.221 2233.78,599.372 2234.8,590.393 2235.83,410.859 2236.86,732.225 2237.88,393.534 2238.91,512.567 2239.93,273.397 \n",
       "  2240.96,878.052 2241.99,601.902 2243.01,499.273 2244.04,431.019 2245.06,273.255 2246.09,440.052 2247.12,456.806 2248.14,324.74 2249.17,520.689 2250.19,445.154 \n",
       "  2251.22,1092.34 2252.25,660.177 2253.27,715.654 2254.3,815.701 2255.32,697.772 2256.35,440.636 2257.37,551.406 2258.4,887.276 2259.43,493.066 2260.45,558.528 \n",
       "  2261.48,554.268 2262.5,705.158 2263.53,471.648 2264.56,501.432 2265.58,836.459 2266.61,278.849 2267.63,1439.76 2268.66,495.065 2269.69,487.532 2270.71,704.243 \n",
       "  2271.74,498.53 2272.76,808 2273.79,418.478 2274.82,585.677 2275.84,418.395 2276.87,568.244 2277.89,373.595 2278.92,591.285 2279.95,389.446 2280.97,491.367 \n",
       "  2282,372.019 2283.02,580.281 2284.05,577.472 2285.08,671.693 2286.1,357.702 2287.13,454.914 2288.15,414.864 2289.18,611.417 2290.2,479.547 2291.23,587.979 \n",
       "  \n",
       "  \"/>\n",
       "<path clip-path=\"url(#clip620)\" d=\"\n",
       "M251.33 1438.47 L521.149 1438.47 L521.149 1334.79 L251.33 1334.79  Z\n",
       "  \" fill=\"#ffffff\" fill-rule=\"evenodd\" fill-opacity=\"1\"/>\n",
       "<polyline clip-path=\"url(#clip620)\" style=\"stroke:#000000; stroke-linecap:round; stroke-linejoin:round; stroke-width:4; stroke-opacity:1; fill:none\" points=\"\n",
       "  251.33,1438.47 521.149,1438.47 521.149,1334.79 251.33,1334.79 251.33,1438.47 \n",
       "  \"/>\n",
       "<polyline clip-path=\"url(#clip620)\" style=\"stroke:#009af9; stroke-linecap:round; stroke-linejoin:round; stroke-width:4; stroke-opacity:1; fill:none\" points=\"\n",
       "  275.484,1386.63 420.41,1386.63 \n",
       "  \"/>\n",
       "<path clip-path=\"url(#clip620)\" d=\"M458.407 1406.32 Q456.601 1410.95 454.888 1412.36 Q453.175 1413.78 450.305 1413.78 L446.902 1413.78 L446.902 1410.21 L449.402 1410.21 Q451.161 1410.21 452.134 1409.38 Q453.106 1408.54 454.286 1405.44 L455.05 1403.5 L444.564 1377.99 L449.078 1377.99 L457.18 1398.27 L465.282 1377.99 L469.796 1377.99 L458.407 1406.32 Z\" fill=\"#000000\" fill-rule=\"evenodd\" fill-opacity=\"1\" /><path clip-path=\"url(#clip620)\" d=\"M477.087 1399.98 L484.726 1399.98 L484.726 1373.61 L476.416 1375.28 L476.416 1371.02 L484.68 1369.35 L489.356 1369.35 L489.356 1399.98 L496.994 1399.98 L496.994 1403.91 L477.087 1403.91 L477.087 1399.98 Z\" fill=\"#000000\" fill-rule=\"evenodd\" fill-opacity=\"1\" /></svg>\n"
      ]
     },
     "execution_count": 31,
     "metadata": {},
     "output_type": "execute_result"
    }
   ],
   "source": [
    "if TRAINING\n",
    "    plot(episode_test_reward_hook.rewards)\n",
    "end"
   ]
  },
  {
   "cell_type": "code",
   "execution_count": 32,
   "id": "41c1dc36",
   "metadata": {},
   "outputs": [
    {
     "data": {
      "image/svg+xml": [
       "<?xml version=\"1.0\" encoding=\"utf-8\"?>\n",
       "<svg xmlns=\"http://www.w3.org/2000/svg\" xmlns:xlink=\"http://www.w3.org/1999/xlink\" width=\"600\" height=\"400\" viewBox=\"0 0 2400 1600\">\n",
       "<defs>\n",
       "  <clipPath id=\"clip660\">\n",
       "    <rect x=\"0\" y=\"0\" width=\"2400\" height=\"1600\"/>\n",
       "  </clipPath>\n",
       "</defs>\n",
       "<path clip-path=\"url(#clip660)\" d=\"\n",
       "M0 1600 L2400 1600 L2400 0 L0 0  Z\n",
       "  \" fill=\"#ffffff\" fill-rule=\"evenodd\" fill-opacity=\"1\"/>\n",
       "<defs>\n",
       "  <clipPath id=\"clip661\">\n",
       "    <rect x=\"480\" y=\"0\" width=\"1681\" height=\"1600\"/>\n",
       "  </clipPath>\n",
       "</defs>\n",
       "<path clip-path=\"url(#clip660)\" d=\"\n",
       "M185.927 1486.45 L2352.76 1486.45 L2352.76 47.2441 L185.927 47.2441  Z\n",
       "  \" fill=\"#ffffff\" fill-rule=\"evenodd\" fill-opacity=\"1\"/>\n",
       "<defs>\n",
       "  <clipPath id=\"clip662\">\n",
       "    <rect x=\"185\" y=\"47\" width=\"2168\" height=\"1440\"/>\n",
       "  </clipPath>\n",
       "</defs>\n",
       "<polyline clip-path=\"url(#clip662)\" style=\"stroke:#000000; stroke-linecap:round; stroke-linejoin:round; stroke-width:2; stroke-opacity:0.1; fill:none\" points=\"\n",
       "  246.23,1486.45 246.23,47.2441 \n",
       "  \"/>\n",
       "<polyline clip-path=\"url(#clip662)\" style=\"stroke:#000000; stroke-linecap:round; stroke-linejoin:round; stroke-width:2; stroke-opacity:0.1; fill:none\" points=\"\n",
       "  757.53,1486.45 757.53,47.2441 \n",
       "  \"/>\n",
       "<polyline clip-path=\"url(#clip662)\" style=\"stroke:#000000; stroke-linecap:round; stroke-linejoin:round; stroke-width:2; stroke-opacity:0.1; fill:none\" points=\"\n",
       "  1268.83,1486.45 1268.83,47.2441 \n",
       "  \"/>\n",
       "<polyline clip-path=\"url(#clip662)\" style=\"stroke:#000000; stroke-linecap:round; stroke-linejoin:round; stroke-width:2; stroke-opacity:0.1; fill:none\" points=\"\n",
       "  1780.13,1486.45 1780.13,47.2441 \n",
       "  \"/>\n",
       "<polyline clip-path=\"url(#clip662)\" style=\"stroke:#000000; stroke-linecap:round; stroke-linejoin:round; stroke-width:2; stroke-opacity:0.1; fill:none\" points=\"\n",
       "  2291.43,1486.45 2291.43,47.2441 \n",
       "  \"/>\n",
       "<polyline clip-path=\"url(#clip660)\" style=\"stroke:#000000; stroke-linecap:round; stroke-linejoin:round; stroke-width:4; stroke-opacity:1; fill:none\" points=\"\n",
       "  185.927,1486.45 2352.76,1486.45 \n",
       "  \"/>\n",
       "<polyline clip-path=\"url(#clip660)\" style=\"stroke:#000000; stroke-linecap:round; stroke-linejoin:round; stroke-width:4; stroke-opacity:1; fill:none\" points=\"\n",
       "  246.23,1486.45 246.23,1467.55 \n",
       "  \"/>\n",
       "<polyline clip-path=\"url(#clip660)\" style=\"stroke:#000000; stroke-linecap:round; stroke-linejoin:round; stroke-width:4; stroke-opacity:1; fill:none\" points=\"\n",
       "  757.53,1486.45 757.53,1467.55 \n",
       "  \"/>\n",
       "<polyline clip-path=\"url(#clip660)\" style=\"stroke:#000000; stroke-linecap:round; stroke-linejoin:round; stroke-width:4; stroke-opacity:1; fill:none\" points=\"\n",
       "  1268.83,1486.45 1268.83,1467.55 \n",
       "  \"/>\n",
       "<polyline clip-path=\"url(#clip660)\" style=\"stroke:#000000; stroke-linecap:round; stroke-linejoin:round; stroke-width:4; stroke-opacity:1; fill:none\" points=\"\n",
       "  1780.13,1486.45 1780.13,1467.55 \n",
       "  \"/>\n",
       "<polyline clip-path=\"url(#clip660)\" style=\"stroke:#000000; stroke-linecap:round; stroke-linejoin:round; stroke-width:4; stroke-opacity:1; fill:none\" points=\"\n",
       "  2291.43,1486.45 2291.43,1467.55 \n",
       "  \"/>\n",
       "<path clip-path=\"url(#clip660)\" d=\"M246.23 1517.37 Q242.618 1517.37 240.79 1520.93 Q238.984 1524.47 238.984 1531.6 Q238.984 1538.71 240.79 1542.27 Q242.618 1545.82 246.23 1545.82 Q249.864 1545.82 251.669 1542.27 Q253.498 1538.71 253.498 1531.6 Q253.498 1524.47 251.669 1520.93 Q249.864 1517.37 246.23 1517.37 M246.23 1513.66 Q252.04 1513.66 255.095 1518.27 Q258.174 1522.85 258.174 1531.6 Q258.174 1540.33 255.095 1544.94 Q252.04 1549.52 246.23 1549.52 Q240.419 1549.52 237.341 1544.94 Q234.285 1540.33 234.285 1531.6 Q234.285 1522.85 237.341 1518.27 Q240.419 1513.66 246.23 1513.66 Z\" fill=\"#000000\" fill-rule=\"evenodd\" fill-opacity=\"1\" /><path clip-path=\"url(#clip660)\" d=\"M717.148 1514.29 L735.504 1514.29 L735.504 1518.22 L721.43 1518.22 L721.43 1526.7 Q722.449 1526.35 723.467 1526.19 Q724.486 1526 725.504 1526 Q731.292 1526 734.671 1529.17 Q738.051 1532.34 738.051 1537.76 Q738.051 1543.34 734.579 1546.44 Q731.106 1549.52 724.787 1549.52 Q722.611 1549.52 720.342 1549.15 Q718.097 1548.78 715.69 1548.04 L715.69 1543.34 Q717.773 1544.47 719.995 1545.03 Q722.217 1545.58 724.694 1545.58 Q728.699 1545.58 731.037 1543.48 Q733.375 1541.37 733.375 1537.76 Q733.375 1534.15 731.037 1532.04 Q728.699 1529.94 724.694 1529.94 Q722.819 1529.94 720.944 1530.35 Q719.092 1530.77 717.148 1531.65 L717.148 1514.29 Z\" fill=\"#000000\" fill-rule=\"evenodd\" fill-opacity=\"1\" /><path clip-path=\"url(#clip660)\" d=\"M757.264 1517.37 Q753.652 1517.37 751.824 1520.93 Q750.018 1524.47 750.018 1531.6 Q750.018 1538.71 751.824 1542.27 Q753.652 1545.82 757.264 1545.82 Q760.898 1545.82 762.703 1542.27 Q764.532 1538.71 764.532 1531.6 Q764.532 1524.47 762.703 1520.93 Q760.898 1517.37 757.264 1517.37 M757.264 1513.66 Q763.074 1513.66 766.129 1518.27 Q769.208 1522.85 769.208 1531.6 Q769.208 1540.33 766.129 1544.94 Q763.074 1549.52 757.264 1549.52 Q751.453 1549.52 748.375 1544.94 Q745.319 1540.33 745.319 1531.6 Q745.319 1522.85 748.375 1518.27 Q751.453 1513.66 757.264 1513.66 Z\" fill=\"#000000\" fill-rule=\"evenodd\" fill-opacity=\"1\" /><path clip-path=\"url(#clip660)\" d=\"M787.425 1517.37 Q783.814 1517.37 781.986 1520.93 Q780.18 1524.47 780.18 1531.6 Q780.18 1538.71 781.986 1542.27 Q783.814 1545.82 787.425 1545.82 Q791.06 1545.82 792.865 1542.27 Q794.694 1538.71 794.694 1531.6 Q794.694 1524.47 792.865 1520.93 Q791.06 1517.37 787.425 1517.37 M787.425 1513.66 Q793.236 1513.66 796.291 1518.27 Q799.37 1522.85 799.37 1531.6 Q799.37 1540.33 796.291 1544.94 Q793.236 1549.52 787.425 1549.52 Q781.615 1549.52 778.537 1544.94 Q775.481 1540.33 775.481 1531.6 Q775.481 1522.85 778.537 1518.27 Q781.615 1513.66 787.425 1513.66 Z\" fill=\"#000000\" fill-rule=\"evenodd\" fill-opacity=\"1\" /><path clip-path=\"url(#clip660)\" d=\"M1213.36 1544.91 L1220.99 1544.91 L1220.99 1518.55 L1212.68 1520.21 L1212.68 1515.95 L1220.95 1514.29 L1225.62 1514.29 L1225.62 1544.91 L1233.26 1544.91 L1233.26 1548.85 L1213.36 1548.85 L1213.36 1544.91 Z\" fill=\"#000000\" fill-rule=\"evenodd\" fill-opacity=\"1\" /><path clip-path=\"url(#clip660)\" d=\"M1252.71 1517.37 Q1249.1 1517.37 1247.27 1520.93 Q1245.46 1524.47 1245.46 1531.6 Q1245.46 1538.71 1247.27 1542.27 Q1249.1 1545.82 1252.71 1545.82 Q1256.34 1545.82 1258.15 1542.27 Q1259.98 1538.71 1259.98 1531.6 Q1259.98 1524.47 1258.15 1520.93 Q1256.34 1517.37 1252.71 1517.37 M1252.71 1513.66 Q1258.52 1513.66 1261.57 1518.27 Q1264.65 1522.85 1264.65 1531.6 Q1264.65 1540.33 1261.57 1544.94 Q1258.52 1549.52 1252.71 1549.52 Q1246.9 1549.52 1243.82 1544.94 Q1240.76 1540.33 1240.76 1531.6 Q1240.76 1522.85 1243.82 1518.27 Q1246.9 1513.66 1252.71 1513.66 Z\" fill=\"#000000\" fill-rule=\"evenodd\" fill-opacity=\"1\" /><path clip-path=\"url(#clip660)\" d=\"M1282.87 1517.37 Q1279.26 1517.37 1277.43 1520.93 Q1275.62 1524.47 1275.62 1531.6 Q1275.62 1538.71 1277.43 1542.27 Q1279.26 1545.82 1282.87 1545.82 Q1286.5 1545.82 1288.31 1542.27 Q1290.14 1538.71 1290.14 1531.6 Q1290.14 1524.47 1288.31 1520.93 Q1286.5 1517.37 1282.87 1517.37 M1282.87 1513.66 Q1288.68 1513.66 1291.74 1518.27 Q1294.81 1522.85 1294.81 1531.6 Q1294.81 1540.33 1291.74 1544.94 Q1288.68 1549.52 1282.87 1549.52 Q1277.06 1549.52 1273.98 1544.94 Q1270.92 1540.33 1270.92 1531.6 Q1270.92 1522.85 1273.98 1518.27 Q1277.06 1513.66 1282.87 1513.66 Z\" fill=\"#000000\" fill-rule=\"evenodd\" fill-opacity=\"1\" /><path clip-path=\"url(#clip660)\" d=\"M1313.03 1517.37 Q1309.42 1517.37 1307.59 1520.93 Q1305.79 1524.47 1305.79 1531.6 Q1305.79 1538.71 1307.59 1542.27 Q1309.42 1545.82 1313.03 1545.82 Q1316.67 1545.82 1318.47 1542.27 Q1320.3 1538.71 1320.3 1531.6 Q1320.3 1524.47 1318.47 1520.93 Q1316.67 1517.37 1313.03 1517.37 M1313.03 1513.66 Q1318.84 1513.66 1321.9 1518.27 Q1324.98 1522.85 1324.98 1531.6 Q1324.98 1540.33 1321.9 1544.94 Q1318.84 1549.52 1313.03 1549.52 Q1307.22 1549.52 1304.14 1544.94 Q1301.09 1540.33 1301.09 1531.6 Q1301.09 1522.85 1304.14 1518.27 Q1307.22 1513.66 1313.03 1513.66 Z\" fill=\"#000000\" fill-rule=\"evenodd\" fill-opacity=\"1\" /><path clip-path=\"url(#clip660)\" d=\"M1724.66 1544.91 L1732.29 1544.91 L1732.29 1518.55 L1723.98 1520.21 L1723.98 1515.95 L1732.25 1514.29 L1736.92 1514.29 L1736.92 1544.91 L1744.56 1544.91 L1744.56 1548.85 L1724.66 1548.85 L1724.66 1544.91 Z\" fill=\"#000000\" fill-rule=\"evenodd\" fill-opacity=\"1\" /><path clip-path=\"url(#clip660)\" d=\"M1754.05 1514.29 L1772.41 1514.29 L1772.41 1518.22 L1758.34 1518.22 L1758.34 1526.7 Q1759.35 1526.35 1760.37 1526.19 Q1761.39 1526 1762.41 1526 Q1768.2 1526 1771.58 1529.17 Q1774.96 1532.34 1774.96 1537.76 Q1774.96 1543.34 1771.48 1546.44 Q1768.01 1549.52 1761.69 1549.52 Q1759.52 1549.52 1757.25 1549.15 Q1755 1548.78 1752.6 1548.04 L1752.6 1543.34 Q1754.68 1544.47 1756.9 1545.03 Q1759.12 1545.58 1761.6 1545.58 Q1765.6 1545.58 1767.94 1543.48 Q1770.28 1541.37 1770.28 1537.76 Q1770.28 1534.15 1767.94 1532.04 Q1765.6 1529.94 1761.6 1529.94 Q1759.73 1529.94 1757.85 1530.35 Q1756 1530.77 1754.05 1531.65 L1754.05 1514.29 Z\" fill=\"#000000\" fill-rule=\"evenodd\" fill-opacity=\"1\" /><path clip-path=\"url(#clip660)\" d=\"M1794.17 1517.37 Q1790.56 1517.37 1788.73 1520.93 Q1786.92 1524.47 1786.92 1531.6 Q1786.92 1538.71 1788.73 1542.27 Q1790.56 1545.82 1794.17 1545.82 Q1797.8 1545.82 1799.61 1542.27 Q1801.44 1538.71 1801.44 1531.6 Q1801.44 1524.47 1799.61 1520.93 Q1797.8 1517.37 1794.17 1517.37 M1794.17 1513.66 Q1799.98 1513.66 1803.04 1518.27 Q1806.11 1522.85 1806.11 1531.6 Q1806.11 1540.33 1803.04 1544.94 Q1799.98 1549.52 1794.17 1549.52 Q1788.36 1549.52 1785.28 1544.94 Q1782.23 1540.33 1782.23 1531.6 Q1782.23 1522.85 1785.28 1518.27 Q1788.36 1513.66 1794.17 1513.66 Z\" fill=\"#000000\" fill-rule=\"evenodd\" fill-opacity=\"1\" /><path clip-path=\"url(#clip660)\" d=\"M1824.33 1517.37 Q1820.72 1517.37 1818.89 1520.93 Q1817.09 1524.47 1817.09 1531.6 Q1817.09 1538.71 1818.89 1542.27 Q1820.72 1545.82 1824.33 1545.82 Q1827.97 1545.82 1829.77 1542.27 Q1831.6 1538.71 1831.6 1531.6 Q1831.6 1524.47 1829.77 1520.93 Q1827.97 1517.37 1824.33 1517.37 M1824.33 1513.66 Q1830.14 1513.66 1833.2 1518.27 Q1836.28 1522.85 1836.28 1531.6 Q1836.28 1540.33 1833.2 1544.94 Q1830.14 1549.52 1824.33 1549.52 Q1818.52 1549.52 1815.44 1544.94 Q1812.39 1540.33 1812.39 1531.6 Q1812.39 1522.85 1815.44 1518.27 Q1818.52 1513.66 1824.33 1513.66 Z\" fill=\"#000000\" fill-rule=\"evenodd\" fill-opacity=\"1\" /><path clip-path=\"url(#clip660)\" d=\"M2240.04 1544.91 L2256.36 1544.91 L2256.36 1548.85 L2234.42 1548.85 L2234.42 1544.91 Q2237.08 1542.16 2241.66 1537.53 Q2246.27 1532.88 2247.45 1531.53 Q2249.69 1529.01 2250.57 1527.27 Q2251.48 1525.51 2251.48 1523.82 Q2251.48 1521.07 2249.53 1519.33 Q2247.61 1517.6 2244.51 1517.6 Q2242.31 1517.6 2239.86 1518.36 Q2237.43 1519.13 2234.65 1520.68 L2234.65 1515.95 Q2237.47 1514.82 2239.93 1514.24 Q2242.38 1513.66 2244.42 1513.66 Q2249.79 1513.66 2252.98 1516.35 Q2256.18 1519.03 2256.18 1523.52 Q2256.18 1525.65 2255.37 1527.57 Q2254.58 1529.47 2252.47 1532.07 Q2251.89 1532.74 2248.79 1535.95 Q2245.69 1539.15 2240.04 1544.91 Z\" fill=\"#000000\" fill-rule=\"evenodd\" fill-opacity=\"1\" /><path clip-path=\"url(#clip660)\" d=\"M2276.18 1517.37 Q2272.56 1517.37 2270.74 1520.93 Q2268.93 1524.47 2268.93 1531.6 Q2268.93 1538.71 2270.74 1542.27 Q2272.56 1545.82 2276.18 1545.82 Q2279.81 1545.82 2281.62 1542.27 Q2283.44 1538.71 2283.44 1531.6 Q2283.44 1524.47 2281.62 1520.93 Q2279.81 1517.37 2276.18 1517.37 M2276.18 1513.66 Q2281.99 1513.66 2285.04 1518.27 Q2288.12 1522.85 2288.12 1531.6 Q2288.12 1540.33 2285.04 1544.94 Q2281.99 1549.52 2276.18 1549.52 Q2270.37 1549.52 2267.29 1544.94 Q2264.23 1540.33 2264.23 1531.6 Q2264.23 1522.85 2267.29 1518.27 Q2270.37 1513.66 2276.18 1513.66 Z\" fill=\"#000000\" fill-rule=\"evenodd\" fill-opacity=\"1\" /><path clip-path=\"url(#clip660)\" d=\"M2306.34 1517.37 Q2302.73 1517.37 2300.9 1520.93 Q2299.09 1524.47 2299.09 1531.6 Q2299.09 1538.71 2300.9 1542.27 Q2302.73 1545.82 2306.34 1545.82 Q2309.97 1545.82 2311.78 1542.27 Q2313.61 1538.71 2313.61 1531.6 Q2313.61 1524.47 2311.78 1520.93 Q2309.97 1517.37 2306.34 1517.37 M2306.34 1513.66 Q2312.15 1513.66 2315.2 1518.27 Q2318.28 1522.85 2318.28 1531.6 Q2318.28 1540.33 2315.2 1544.94 Q2312.15 1549.52 2306.34 1549.52 Q2300.53 1549.52 2297.45 1544.94 Q2294.39 1540.33 2294.39 1531.6 Q2294.39 1522.85 2297.45 1518.27 Q2300.53 1513.66 2306.34 1513.66 Z\" fill=\"#000000\" fill-rule=\"evenodd\" fill-opacity=\"1\" /><path clip-path=\"url(#clip660)\" d=\"M2336.5 1517.37 Q2332.89 1517.37 2331.06 1520.93 Q2329.25 1524.47 2329.25 1531.6 Q2329.25 1538.71 2331.06 1542.27 Q2332.89 1545.82 2336.5 1545.82 Q2340.13 1545.82 2341.94 1542.27 Q2343.77 1538.71 2343.77 1531.6 Q2343.77 1524.47 2341.94 1520.93 Q2340.13 1517.37 2336.5 1517.37 M2336.5 1513.66 Q2342.31 1513.66 2345.37 1518.27 Q2348.44 1522.85 2348.44 1531.6 Q2348.44 1540.33 2345.37 1544.94 Q2342.31 1549.52 2336.5 1549.52 Q2330.69 1549.52 2327.61 1544.94 Q2324.56 1540.33 2324.56 1531.6 Q2324.56 1522.85 2327.61 1518.27 Q2330.69 1513.66 2336.5 1513.66 Z\" fill=\"#000000\" fill-rule=\"evenodd\" fill-opacity=\"1\" /><polyline clip-path=\"url(#clip662)\" style=\"stroke:#000000; stroke-linecap:round; stroke-linejoin:round; stroke-width:2; stroke-opacity:0.1; fill:none\" points=\"\n",
       "  185.927,1445.72 2352.76,1445.72 \n",
       "  \"/>\n",
       "<polyline clip-path=\"url(#clip662)\" style=\"stroke:#000000; stroke-linecap:round; stroke-linejoin:round; stroke-width:2; stroke-opacity:0.1; fill:none\" points=\"\n",
       "  185.927,1106.28 2352.76,1106.28 \n",
       "  \"/>\n",
       "<polyline clip-path=\"url(#clip662)\" style=\"stroke:#000000; stroke-linecap:round; stroke-linejoin:round; stroke-width:2; stroke-opacity:0.1; fill:none\" points=\"\n",
       "  185.927,766.846 2352.76,766.846 \n",
       "  \"/>\n",
       "<polyline clip-path=\"url(#clip662)\" style=\"stroke:#000000; stroke-linecap:round; stroke-linejoin:round; stroke-width:2; stroke-opacity:0.1; fill:none\" points=\"\n",
       "  185.927,427.411 2352.76,427.411 \n",
       "  \"/>\n",
       "<polyline clip-path=\"url(#clip662)\" style=\"stroke:#000000; stroke-linecap:round; stroke-linejoin:round; stroke-width:2; stroke-opacity:0.1; fill:none\" points=\"\n",
       "  185.927,87.9763 2352.76,87.9763 \n",
       "  \"/>\n",
       "<polyline clip-path=\"url(#clip660)\" style=\"stroke:#000000; stroke-linecap:round; stroke-linejoin:round; stroke-width:4; stroke-opacity:1; fill:none\" points=\"\n",
       "  185.927,1486.45 185.927,47.2441 \n",
       "  \"/>\n",
       "<polyline clip-path=\"url(#clip660)\" style=\"stroke:#000000; stroke-linecap:round; stroke-linejoin:round; stroke-width:4; stroke-opacity:1; fill:none\" points=\"\n",
       "  185.927,1445.72 204.824,1445.72 \n",
       "  \"/>\n",
       "<polyline clip-path=\"url(#clip660)\" style=\"stroke:#000000; stroke-linecap:round; stroke-linejoin:round; stroke-width:4; stroke-opacity:1; fill:none\" points=\"\n",
       "  185.927,1106.28 204.824,1106.28 \n",
       "  \"/>\n",
       "<polyline clip-path=\"url(#clip660)\" style=\"stroke:#000000; stroke-linecap:round; stroke-linejoin:round; stroke-width:4; stroke-opacity:1; fill:none\" points=\"\n",
       "  185.927,766.846 204.824,766.846 \n",
       "  \"/>\n",
       "<polyline clip-path=\"url(#clip660)\" style=\"stroke:#000000; stroke-linecap:round; stroke-linejoin:round; stroke-width:4; stroke-opacity:1; fill:none\" points=\"\n",
       "  185.927,427.411 204.824,427.411 \n",
       "  \"/>\n",
       "<polyline clip-path=\"url(#clip660)\" style=\"stroke:#000000; stroke-linecap:round; stroke-linejoin:round; stroke-width:4; stroke-opacity:1; fill:none\" points=\"\n",
       "  185.927,87.9763 204.824,87.9763 \n",
       "  \"/>\n",
       "<path clip-path=\"url(#clip660)\" d=\"M53.3995 1459.06 L61.0384 1459.06 L61.0384 1432.69 L52.7282 1434.36 L52.7282 1430.1 L60.9921 1428.44 L65.668 1428.44 L65.668 1459.06 L73.3068 1459.06 L73.3068 1463 L53.3995 1463 L53.3995 1459.06 Z\" fill=\"#000000\" fill-rule=\"evenodd\" fill-opacity=\"1\" /><path clip-path=\"url(#clip660)\" d=\"M92.7512 1446.58 Q89.4178 1446.58 87.4966 1448.37 Q85.5984 1450.15 85.5984 1453.27 Q85.5984 1456.4 87.4966 1458.18 Q89.4178 1459.96 92.7512 1459.96 Q96.0845 1459.96 98.0058 1458.18 Q99.927 1456.38 99.927 1453.27 Q99.927 1450.15 98.0058 1448.37 Q96.1076 1446.58 92.7512 1446.58 M88.0753 1444.59 Q85.066 1443.85 83.3762 1441.79 Q81.7096 1439.73 81.7096 1436.77 Q81.7096 1432.63 84.6494 1430.22 Q87.6123 1427.81 92.7512 1427.81 Q97.9132 1427.81 100.853 1430.22 Q103.793 1432.63 103.793 1436.77 Q103.793 1439.73 102.103 1441.79 Q100.436 1443.85 97.4502 1444.59 Q100.83 1445.38 102.705 1447.67 Q104.603 1449.96 104.603 1453.27 Q104.603 1458.3 101.524 1460.98 Q98.4687 1463.67 92.7512 1463.67 Q87.0336 1463.67 83.9549 1460.98 Q80.8994 1458.3 80.8994 1453.27 Q80.8994 1449.96 82.7975 1447.67 Q84.6956 1445.38 88.0753 1444.59 M86.3623 1437.21 Q86.3623 1439.89 88.029 1441.4 Q89.7188 1442.9 92.7512 1442.9 Q95.7604 1442.9 97.4502 1441.4 Q99.1632 1439.89 99.1632 1437.21 Q99.1632 1434.52 97.4502 1433.02 Q95.7604 1431.51 92.7512 1431.51 Q89.7188 1431.51 88.029 1433.02 Q86.3623 1434.52 86.3623 1437.21 Z\" fill=\"#000000\" fill-rule=\"evenodd\" fill-opacity=\"1\" /><path clip-path=\"url(#clip660)\" d=\"M112.913 1457.12 L117.797 1457.12 L117.797 1463 L112.913 1463 L112.913 1457.12 Z\" fill=\"#000000\" fill-rule=\"evenodd\" fill-opacity=\"1\" /><path clip-path=\"url(#clip660)\" d=\"M137.982 1431.51 Q134.371 1431.51 132.543 1435.08 Q130.737 1438.62 130.737 1445.75 Q130.737 1452.86 132.543 1456.42 Q134.371 1459.96 137.982 1459.96 Q141.617 1459.96 143.422 1456.42 Q145.251 1452.86 145.251 1445.75 Q145.251 1438.62 143.422 1435.08 Q141.617 1431.51 137.982 1431.51 M137.982 1427.81 Q143.793 1427.81 146.848 1432.42 Q149.927 1437 149.927 1445.75 Q149.927 1454.48 146.848 1459.08 Q143.793 1463.67 137.982 1463.67 Q132.172 1463.67 129.094 1459.08 Q126.038 1454.48 126.038 1445.75 Q126.038 1437 129.094 1432.42 Q132.172 1427.81 137.982 1427.81 Z\" fill=\"#000000\" fill-rule=\"evenodd\" fill-opacity=\"1\" /><path clip-path=\"url(#clip660)\" d=\"M54.3949 1119.63 L62.0337 1119.63 L62.0337 1093.26 L53.7236 1094.93 L53.7236 1090.67 L61.9874 1089 L66.6633 1089 L66.6633 1119.63 L74.3022 1119.63 L74.3022 1123.56 L54.3949 1123.56 L54.3949 1119.63 Z\" fill=\"#000000\" fill-rule=\"evenodd\" fill-opacity=\"1\" /><path clip-path=\"url(#clip660)\" d=\"M93.7465 1107.15 Q90.4132 1107.15 88.4919 1108.93 Q86.5938 1110.71 86.5938 1113.84 Q86.5938 1116.96 88.4919 1118.75 Q90.4132 1120.53 93.7465 1120.53 Q97.0798 1120.53 99.0011 1118.75 Q100.922 1116.94 100.922 1113.84 Q100.922 1110.71 99.0011 1108.93 Q97.103 1107.15 93.7465 1107.15 M89.0706 1105.16 Q86.0614 1104.42 84.3716 1102.36 Q82.7049 1100.3 82.7049 1097.33 Q82.7049 1093.19 85.6447 1090.78 Q88.6077 1088.38 93.7465 1088.38 Q98.9085 1088.38 101.848 1090.78 Q104.788 1093.19 104.788 1097.33 Q104.788 1100.3 103.098 1102.36 Q101.432 1104.42 98.4456 1105.16 Q101.825 1105.95 103.7 1108.24 Q105.598 1110.53 105.598 1113.84 Q105.598 1118.86 102.52 1121.55 Q99.4641 1124.23 93.7465 1124.23 Q88.029 1124.23 84.9503 1121.55 Q81.8947 1118.86 81.8947 1113.84 Q81.8947 1110.53 83.7929 1108.24 Q85.691 1105.95 89.0706 1105.16 M87.3577 1097.77 Q87.3577 1100.46 89.0243 1101.96 Q90.7141 1103.47 93.7465 1103.47 Q96.7558 1103.47 98.4456 1101.96 Q100.159 1100.46 100.159 1097.77 Q100.159 1095.09 98.4456 1093.58 Q96.7558 1092.08 93.7465 1092.08 Q90.7141 1092.08 89.0243 1093.58 Q87.3577 1095.09 87.3577 1097.77 Z\" fill=\"#000000\" fill-rule=\"evenodd\" fill-opacity=\"1\" /><path clip-path=\"url(#clip660)\" d=\"M113.908 1117.68 L118.793 1117.68 L118.793 1123.56 L113.908 1123.56 L113.908 1117.68 Z\" fill=\"#000000\" fill-rule=\"evenodd\" fill-opacity=\"1\" /><path clip-path=\"url(#clip660)\" d=\"M129.024 1089 L147.38 1089 L147.38 1092.94 L133.306 1092.94 L133.306 1101.41 Q134.325 1101.06 135.344 1100.9 Q136.362 1100.71 137.381 1100.71 Q143.168 1100.71 146.547 1103.89 Q149.927 1107.06 149.927 1112.47 Q149.927 1118.05 146.455 1121.15 Q142.982 1124.23 136.663 1124.23 Q134.487 1124.23 132.219 1123.86 Q129.973 1123.49 127.566 1122.75 L127.566 1118.05 Q129.649 1119.19 131.871 1119.74 Q134.094 1120.3 136.57 1120.3 Q140.575 1120.3 142.913 1118.19 Q145.251 1116.08 145.251 1112.47 Q145.251 1108.86 142.913 1106.76 Q140.575 1104.65 136.57 1104.65 Q134.695 1104.65 132.82 1105.07 Q130.969 1105.48 129.024 1106.36 L129.024 1089 Z\" fill=\"#000000\" fill-rule=\"evenodd\" fill-opacity=\"1\" /><path clip-path=\"url(#clip660)\" d=\"M53.3995 780.191 L61.0384 780.191 L61.0384 753.825 L52.7282 755.492 L52.7282 751.233 L60.9921 749.566 L65.668 749.566 L65.668 780.191 L73.3068 780.191 L73.3068 784.126 L53.3995 784.126 L53.3995 780.191 Z\" fill=\"#000000\" fill-rule=\"evenodd\" fill-opacity=\"1\" /><path clip-path=\"url(#clip660)\" d=\"M82.8901 783.408 L82.8901 779.149 Q84.6494 779.982 86.4549 780.422 Q88.2604 780.862 89.9965 780.862 Q94.6262 780.862 97.0567 777.76 Q99.5104 774.635 99.8576 768.293 Q98.515 770.283 96.4548 771.348 Q94.3947 772.413 91.8947 772.413 Q86.7095 772.413 83.6771 769.288 Q80.6679 766.14 80.6679 760.7 Q80.6679 755.376 83.816 752.159 Q86.9642 748.941 92.1956 748.941 Q98.1909 748.941 101.339 753.547 Q104.51 758.131 104.51 766.881 Q104.51 775.052 100.621 779.936 Q96.7558 784.797 90.2049 784.797 Q88.4456 784.797 86.6401 784.45 Q84.8345 784.103 82.8901 783.408 M92.1956 768.756 Q95.3437 768.756 97.1724 766.603 Q99.0243 764.45 99.0243 760.7 Q99.0243 756.973 97.1724 754.821 Q95.3437 752.645 92.1956 752.645 Q89.0475 752.645 87.1956 754.821 Q85.3669 756.973 85.3669 760.7 Q85.3669 764.45 87.1956 766.603 Q89.0475 768.756 92.1956 768.756 Z\" fill=\"#000000\" fill-rule=\"evenodd\" fill-opacity=\"1\" /><path clip-path=\"url(#clip660)\" d=\"M112.913 778.246 L117.797 778.246 L117.797 784.126 L112.913 784.126 L112.913 778.246 Z\" fill=\"#000000\" fill-rule=\"evenodd\" fill-opacity=\"1\" /><path clip-path=\"url(#clip660)\" d=\"M137.982 752.645 Q134.371 752.645 132.543 756.209 Q130.737 759.751 130.737 766.881 Q130.737 773.987 132.543 777.552 Q134.371 781.094 137.982 781.094 Q141.617 781.094 143.422 777.552 Q145.251 773.987 145.251 766.881 Q145.251 759.751 143.422 756.209 Q141.617 752.645 137.982 752.645 M137.982 748.941 Q143.793 748.941 146.848 753.547 Q149.927 758.131 149.927 766.881 Q149.927 775.608 146.848 780.214 Q143.793 784.797 137.982 784.797 Q132.172 784.797 129.094 780.214 Q126.038 775.608 126.038 766.881 Q126.038 758.131 129.094 753.547 Q132.172 748.941 137.982 748.941 Z\" fill=\"#000000\" fill-rule=\"evenodd\" fill-opacity=\"1\" /><path clip-path=\"url(#clip660)\" d=\"M54.3949 440.756 L62.0337 440.756 L62.0337 414.39 L53.7236 416.057 L53.7236 411.798 L61.9874 410.131 L66.6633 410.131 L66.6633 440.756 L74.3022 440.756 L74.3022 444.691 L54.3949 444.691 L54.3949 440.756 Z\" fill=\"#000000\" fill-rule=\"evenodd\" fill-opacity=\"1\" /><path clip-path=\"url(#clip660)\" d=\"M83.8855 443.974 L83.8855 439.714 Q85.6447 440.548 87.4503 440.987 Q89.2558 441.427 90.9919 441.427 Q95.6215 441.427 98.0521 438.325 Q100.506 435.2 100.853 428.858 Q99.5104 430.849 97.4502 431.913 Q95.39 432.978 92.89 432.978 Q87.7049 432.978 84.6725 429.853 Q81.6633 426.705 81.6633 421.265 Q81.6633 415.941 84.8114 412.724 Q87.9595 409.506 93.191 409.506 Q99.1863 409.506 102.334 414.113 Q105.506 418.696 105.506 427.446 Q105.506 435.617 101.617 440.501 Q97.7511 445.362 91.2002 445.362 Q89.441 445.362 87.6354 445.015 Q85.8299 444.668 83.8855 443.974 M93.191 429.321 Q96.3391 429.321 98.1678 427.168 Q100.02 425.015 100.02 421.265 Q100.02 417.538 98.1678 415.386 Q96.3391 413.21 93.191 413.21 Q90.0428 413.21 88.191 415.386 Q86.3623 417.538 86.3623 421.265 Q86.3623 425.015 88.191 427.168 Q90.0428 429.321 93.191 429.321 Z\" fill=\"#000000\" fill-rule=\"evenodd\" fill-opacity=\"1\" /><path clip-path=\"url(#clip660)\" d=\"M113.908 438.812 L118.793 438.812 L118.793 444.691 L113.908 444.691 L113.908 438.812 Z\" fill=\"#000000\" fill-rule=\"evenodd\" fill-opacity=\"1\" /><path clip-path=\"url(#clip660)\" d=\"M129.024 410.131 L147.38 410.131 L147.38 414.066 L133.306 414.066 L133.306 422.538 Q134.325 422.191 135.344 422.029 Q136.362 421.844 137.381 421.844 Q143.168 421.844 146.547 425.015 Q149.927 428.187 149.927 433.603 Q149.927 439.182 146.455 442.284 Q142.982 445.362 136.663 445.362 Q134.487 445.362 132.219 444.992 Q129.973 444.622 127.566 443.881 L127.566 439.182 Q129.649 440.316 131.871 440.872 Q134.094 441.427 136.57 441.427 Q140.575 441.427 142.913 439.321 Q145.251 437.214 145.251 433.603 Q145.251 429.992 142.913 427.886 Q140.575 425.779 136.57 425.779 Q134.695 425.779 132.82 426.196 Q130.969 426.613 129.024 427.492 L129.024 410.131 Z\" fill=\"#000000\" fill-rule=\"evenodd\" fill-opacity=\"1\" /><path clip-path=\"url(#clip660)\" d=\"M56.6171 101.321 L72.9365 101.321 L72.9365 105.256 L50.9921 105.256 L50.9921 101.321 Q53.6541 98.5665 58.2375 93.9369 Q62.8439 89.2841 64.0245 87.9416 Q66.2698 85.4184 67.1494 83.6823 Q68.0522 81.9231 68.0522 80.2333 Q68.0522 77.4786 66.1078 75.7425 Q64.1865 74.0064 61.0847 74.0064 Q58.8856 74.0064 56.4319 74.7703 Q54.0014 75.5342 51.2236 77.0851 L51.2236 72.3629 Q54.0477 71.2287 56.5014 70.65 Q58.955 70.0713 60.9921 70.0713 Q66.3624 70.0713 69.5568 72.7565 Q72.7513 75.4416 72.7513 79.9323 Q72.7513 82.062 71.9411 83.9832 Q71.1541 85.8814 69.0476 88.474 Q68.4689 89.1453 65.367 92.3628 Q62.2652 95.5573 56.6171 101.321 Z\" fill=\"#000000\" fill-rule=\"evenodd\" fill-opacity=\"1\" /><path clip-path=\"url(#clip660)\" d=\"M92.7512 73.775 Q89.1401 73.775 87.3114 77.3398 Q85.5058 80.8814 85.5058 88.011 Q85.5058 95.1174 87.3114 98.6822 Q89.1401 102.224 92.7512 102.224 Q96.3854 102.224 98.1909 98.6822 Q100.02 95.1174 100.02 88.011 Q100.02 80.8814 98.1909 77.3398 Q96.3854 73.775 92.7512 73.775 M92.7512 70.0713 Q98.5613 70.0713 101.617 74.6777 Q104.696 79.261 104.696 88.011 Q104.696 96.7378 101.617 101.344 Q98.5613 105.928 92.7512 105.928 Q86.941 105.928 83.8623 101.344 Q80.8068 96.7378 80.8068 88.011 Q80.8068 79.261 83.8623 74.6777 Q86.941 70.0713 92.7512 70.0713 Z\" fill=\"#000000\" fill-rule=\"evenodd\" fill-opacity=\"1\" /><path clip-path=\"url(#clip660)\" d=\"M112.913 99.3767 L117.797 99.3767 L117.797 105.256 L112.913 105.256 L112.913 99.3767 Z\" fill=\"#000000\" fill-rule=\"evenodd\" fill-opacity=\"1\" /><path clip-path=\"url(#clip660)\" d=\"M137.982 73.775 Q134.371 73.775 132.543 77.3398 Q130.737 80.8814 130.737 88.011 Q130.737 95.1174 132.543 98.6822 Q134.371 102.224 137.982 102.224 Q141.617 102.224 143.422 98.6822 Q145.251 95.1174 145.251 88.011 Q145.251 80.8814 143.422 77.3398 Q141.617 73.775 137.982 73.775 M137.982 70.0713 Q143.793 70.0713 146.848 74.6777 Q149.927 79.261 149.927 88.011 Q149.927 96.7378 146.848 101.344 Q143.793 105.928 137.982 105.928 Q132.172 105.928 129.094 101.344 Q126.038 96.7378 126.038 88.011 Q126.038 79.261 129.094 74.6777 Q132.172 70.0713 137.982 70.0713 Z\" fill=\"#000000\" fill-rule=\"evenodd\" fill-opacity=\"1\" /><polyline clip-path=\"url(#clip662)\" style=\"stroke:#009af9; stroke-linecap:round; stroke-linejoin:round; stroke-width:4; stroke-opacity:1; fill:none\" points=\"\n",
       "  247.252,766.846 248.275,766.846 249.297,766.846 250.32,766.846 251.343,766.846 252.365,766.846 253.388,766.846 254.41,766.846 255.433,766.846 256.456,766.846 \n",
       "  257.478,766.846 258.501,766.846 259.523,766.846 260.546,766.846 261.569,766.846 262.591,766.846 263.614,766.846 264.636,766.846 265.659,766.846 266.682,766.846 \n",
       "  267.704,766.846 268.727,766.846 269.749,766.846 270.772,766.846 271.795,766.846 272.817,766.846 273.84,766.846 274.862,766.846 275.885,766.846 276.908,766.846 \n",
       "  277.93,766.846 278.953,766.846 279.975,766.846 280.998,766.846 282.021,766.846 283.043,766.846 284.066,766.846 285.088,1445.72 286.111,766.846 287.134,766.846 \n",
       "  288.156,766.846 289.179,766.846 290.201,766.846 291.224,766.846 292.247,766.846 293.269,766.846 294.292,766.846 295.314,766.846 296.337,766.846 297.36,766.846 \n",
       "  298.382,766.846 299.405,766.846 300.427,766.846 301.45,766.846 302.473,766.846 303.495,766.846 304.518,766.846 305.54,766.846 306.563,766.846 307.586,766.846 \n",
       "  308.608,766.846 309.631,766.846 310.653,766.846 311.676,766.846 312.699,766.846 313.721,766.846 314.744,766.846 315.766,766.846 316.789,766.846 317.812,766.846 \n",
       "  318.834,766.846 319.857,766.846 320.879,766.846 321.902,766.846 322.925,766.846 323.947,766.846 324.97,766.846 325.992,766.846 327.015,766.846 328.038,766.846 \n",
       "  329.06,766.846 330.083,766.846 331.105,766.846 332.128,766.846 333.151,766.846 334.173,766.846 335.196,766.846 336.218,766.846 337.241,766.846 338.264,766.846 \n",
       "  339.286,766.846 340.309,766.846 341.331,766.846 342.354,766.846 343.377,766.846 344.399,766.846 345.422,766.846 346.444,766.846 347.467,766.846 348.49,766.846 \n",
       "  349.512,766.846 350.535,766.846 351.557,766.846 352.58,766.846 353.603,1445.72 354.625,766.846 355.648,766.846 356.67,766.846 357.693,766.846 358.716,766.846 \n",
       "  359.738,766.846 360.761,766.846 361.783,766.846 362.806,766.846 363.829,766.846 364.851,766.846 365.874,766.846 366.896,766.846 367.919,766.846 368.942,766.846 \n",
       "  369.964,766.846 370.987,766.846 372.009,766.846 373.032,766.846 374.055,766.846 375.077,766.846 376.1,766.846 377.122,766.846 378.145,766.846 379.168,766.846 \n",
       "  380.19,766.846 381.213,766.846 382.235,766.846 383.258,766.846 384.281,766.846 385.303,766.846 386.326,766.846 387.348,766.846 388.371,766.846 389.394,766.846 \n",
       "  390.416,766.846 391.439,766.846 392.461,766.846 393.484,766.846 394.507,766.846 395.529,766.846 396.552,766.846 397.574,766.846 398.597,766.846 399.62,766.846 \n",
       "  400.642,766.846 401.665,766.846 402.687,766.846 403.71,766.846 404.733,766.846 405.755,766.846 406.778,766.846 407.8,766.846 408.823,766.846 409.846,766.846 \n",
       "  410.868,766.846 411.891,766.846 412.913,766.846 413.936,766.846 414.959,766.846 415.981,766.846 417.004,766.846 418.026,766.846 419.049,766.846 420.072,766.846 \n",
       "  421.094,766.846 422.117,766.846 423.139,766.846 424.162,766.846 425.185,766.846 426.207,1445.72 427.23,766.846 428.252,766.846 429.275,766.846 430.298,766.846 \n",
       "  431.32,766.846 432.343,766.846 433.365,766.846 434.388,766.846 435.411,766.846 436.433,766.846 437.456,766.846 438.478,766.846 439.501,766.846 440.524,766.846 \n",
       "  441.546,766.846 442.569,766.846 443.591,766.846 444.614,766.846 445.637,766.846 446.659,766.846 447.682,766.846 448.704,766.846 449.727,766.846 450.75,766.846 \n",
       "  451.772,766.846 452.795,766.846 453.817,766.846 454.84,766.846 455.863,766.846 456.885,766.846 457.908,766.846 458.93,766.846 459.953,766.846 460.976,766.846 \n",
       "  461.998,766.846 463.021,766.846 464.043,766.846 465.066,766.846 466.089,766.846 467.111,766.846 468.134,766.846 469.156,766.846 470.179,766.846 471.202,766.846 \n",
       "  472.224,766.846 473.247,766.846 474.269,766.846 475.292,766.846 476.315,766.846 477.337,766.846 478.36,766.846 479.382,766.846 480.405,766.846 481.428,766.846 \n",
       "  482.45,766.846 483.473,766.846 484.495,766.846 485.518,766.846 486.541,766.846 487.563,766.846 488.586,766.846 489.608,766.846 490.631,766.846 491.654,766.846 \n",
       "  492.676,766.846 493.699,766.846 494.721,766.846 495.744,766.846 496.767,766.846 497.789,766.846 498.812,766.846 499.834,766.846 500.857,766.846 501.88,766.846 \n",
       "  502.902,766.846 503.925,766.846 504.947,766.846 505.97,766.846 506.993,766.846 508.015,766.846 509.038,766.846 510.06,766.846 511.083,766.846 512.106,766.846 \n",
       "  513.128,766.846 514.151,766.846 515.173,766.846 516.196,766.846 517.219,766.846 518.241,87.9763 519.264,766.846 520.286,766.846 521.309,766.846 522.332,766.846 \n",
       "  523.354,766.846 524.377,766.846 525.399,766.846 526.422,766.846 527.445,766.846 528.467,766.846 529.49,766.846 530.512,766.846 531.535,766.846 532.558,766.846 \n",
       "  533.58,766.846 534.603,766.846 535.625,766.846 536.648,766.846 537.671,766.846 538.693,766.846 539.716,766.846 540.738,766.846 541.761,766.846 542.784,766.846 \n",
       "  543.806,766.846 544.829,766.846 545.851,766.846 546.874,766.846 547.897,766.846 548.919,766.846 549.942,766.846 550.964,766.846 551.987,766.846 553.01,766.846 \n",
       "  554.032,766.846 555.055,766.846 556.077,766.846 557.1,766.846 558.123,766.846 559.145,87.9763 560.168,766.846 561.19,766.846 562.213,766.846 563.236,766.846 \n",
       "  564.258,766.846 565.281,766.846 566.303,766.846 567.326,766.846 568.349,766.846 569.371,766.846 570.394,766.846 571.416,766.846 572.439,766.846 573.462,766.846 \n",
       "  574.484,766.846 575.507,766.846 576.529,766.846 577.552,766.846 578.575,766.846 579.597,766.846 580.62,766.846 581.643,766.846 582.665,766.846 583.688,766.846 \n",
       "  584.71,766.846 585.733,766.846 586.756,766.846 587.778,766.846 588.801,766.846 589.823,766.846 590.846,766.846 591.869,766.846 592.891,766.846 593.914,766.846 \n",
       "  594.936,766.846 595.959,766.846 596.982,766.846 598.004,766.846 599.027,766.846 600.049,766.846 601.072,766.846 602.095,766.846 603.117,766.846 604.14,766.846 \n",
       "  605.162,766.846 606.185,766.846 607.208,766.846 608.23,766.846 609.253,766.846 610.275,766.846 611.298,766.846 612.321,766.846 613.343,766.846 614.366,766.846 \n",
       "  615.388,766.846 616.411,766.846 617.434,766.846 618.456,766.846 619.479,766.846 620.501,766.846 621.524,766.846 622.547,766.846 623.569,766.846 624.592,766.846 \n",
       "  625.614,766.846 626.637,766.846 627.66,766.846 628.682,766.846 629.705,766.846 630.727,766.846 631.75,766.846 632.773,766.846 633.795,766.846 634.818,766.846 \n",
       "  635.84,766.846 636.863,766.846 637.886,766.846 638.908,766.846 639.931,766.846 640.953,766.846 641.976,766.846 642.999,766.846 644.021,766.846 645.044,766.846 \n",
       "  646.066,766.846 647.089,766.846 648.112,766.846 649.134,766.846 650.157,766.846 651.179,766.846 652.202,766.846 653.225,766.846 654.247,766.846 655.27,766.846 \n",
       "  656.292,766.846 657.315,766.846 658.338,766.846 659.36,766.846 660.383,766.846 661.405,766.846 662.428,766.846 663.451,766.846 664.473,766.846 665.496,766.846 \n",
       "  666.518,766.846 667.541,766.846 668.564,766.846 669.586,766.846 670.609,766.846 671.631,766.846 672.654,766.846 673.677,766.846 674.699,766.846 675.722,766.846 \n",
       "  676.744,766.846 677.767,766.846 678.79,766.846 679.812,766.846 680.835,766.846 681.857,766.846 682.88,766.846 683.903,766.846 684.925,766.846 685.948,766.846 \n",
       "  686.97,766.846 687.993,766.846 689.016,766.846 690.038,766.846 691.061,766.846 692.083,766.846 693.106,766.846 694.129,766.846 695.151,766.846 696.174,766.846 \n",
       "  697.196,766.846 698.219,766.846 699.242,766.846 700.264,766.846 701.287,766.846 702.309,766.846 703.332,766.846 704.355,766.846 705.377,766.846 706.4,766.846 \n",
       "  707.422,766.846 708.445,766.846 709.468,766.846 710.49,766.846 711.513,766.846 712.535,766.846 713.558,766.846 714.581,766.846 715.603,766.846 716.626,766.846 \n",
       "  717.648,766.846 718.671,766.846 719.694,766.846 720.716,766.846 721.739,766.846 722.761,766.846 723.784,766.846 724.807,766.846 725.829,766.846 726.852,766.846 \n",
       "  727.874,766.846 728.897,766.846 729.92,766.846 730.942,766.846 731.965,766.846 732.987,766.846 734.01,766.846 735.033,766.846 736.055,766.846 737.078,766.846 \n",
       "  738.1,766.846 739.123,766.846 740.146,766.846 741.168,766.846 742.191,766.846 743.213,766.846 744.236,766.846 745.259,766.846 746.281,766.846 747.304,766.846 \n",
       "  748.326,766.846 749.349,766.846 750.372,766.846 751.394,766.846 752.417,766.846 753.439,766.846 754.462,766.846 755.485,766.846 756.507,766.846 757.53,766.846 \n",
       "  758.552,766.846 759.575,766.846 760.598,766.846 761.62,766.846 762.643,766.846 763.665,766.846 764.688,766.846 765.711,766.846 766.733,766.846 767.756,766.846 \n",
       "  768.778,766.846 769.801,766.846 770.824,766.846 771.846,766.846 772.869,766.846 773.891,766.846 774.914,766.846 775.937,766.846 776.959,766.846 777.982,766.846 \n",
       "  779.004,766.846 780.027,766.846 781.05,766.846 782.072,766.846 783.095,766.846 784.117,766.846 785.14,766.846 786.163,766.846 787.185,766.846 788.208,766.846 \n",
       "  789.23,766.846 790.253,766.846 791.276,766.846 792.298,766.846 793.321,766.846 794.343,766.846 795.366,766.846 796.389,766.846 797.411,766.846 798.434,766.846 \n",
       "  799.456,766.846 800.479,766.846 801.502,766.846 802.524,766.846 803.547,766.846 804.569,766.846 805.592,766.846 806.615,766.846 807.637,766.846 808.66,766.846 \n",
       "  809.682,766.846 810.705,766.846 811.728,766.846 812.75,766.846 813.773,766.846 814.795,766.846 815.818,766.846 816.841,766.846 817.863,766.846 818.886,766.846 \n",
       "  819.908,766.846 820.931,766.846 821.954,766.846 822.976,766.846 823.999,766.846 825.021,766.846 826.044,766.846 827.067,766.846 828.089,766.846 829.112,87.9763 \n",
       "  830.134,1445.72 831.157,766.846 832.18,766.846 833.202,766.846 834.225,766.846 835.247,766.846 836.27,766.846 837.293,766.846 838.315,766.846 839.338,766.846 \n",
       "  840.36,766.846 841.383,766.846 842.406,766.846 843.428,766.846 844.451,766.846 845.473,766.846 846.496,766.846 847.519,766.846 848.541,766.846 849.564,766.846 \n",
       "  850.586,766.846 851.609,766.846 852.632,766.846 853.654,766.846 854.677,766.846 855.699,766.846 856.722,766.846 857.745,766.846 858.767,766.846 859.79,766.846 \n",
       "  860.812,766.846 861.835,766.846 862.858,766.846 863.88,766.846 864.903,766.846 865.925,766.846 866.948,766.846 867.971,766.846 868.993,766.846 870.016,766.846 \n",
       "  871.038,766.846 872.061,766.846 873.084,766.846 874.106,766.846 875.129,766.846 876.151,766.846 877.174,766.846 878.197,766.846 879.219,766.846 880.242,766.846 \n",
       "  881.264,766.846 882.287,766.846 883.31,766.846 884.332,766.846 885.355,766.846 886.377,766.846 887.4,766.846 888.423,766.846 889.445,766.846 890.468,766.846 \n",
       "  891.49,766.846 892.513,766.846 893.536,766.846 894.558,766.846 895.581,766.846 896.603,766.846 897.626,766.846 898.649,766.846 899.671,766.846 900.694,766.846 \n",
       "  901.716,766.846 902.739,766.846 903.762,766.846 904.784,766.846 905.807,766.846 906.829,766.846 907.852,766.846 908.875,766.846 909.897,766.846 910.92,766.846 \n",
       "  911.942,766.846 912.965,766.846 913.988,766.846 915.01,766.846 916.033,766.846 917.055,766.846 918.078,766.846 919.101,766.846 920.123,766.846 921.146,766.846 \n",
       "  922.168,766.846 923.191,766.846 924.214,766.846 925.236,766.846 926.259,766.846 927.281,766.846 928.304,766.846 929.327,766.846 930.349,766.846 931.372,766.846 \n",
       "  932.394,766.846 933.417,766.846 934.44,766.846 935.462,766.846 936.485,766.846 937.507,766.846 938.53,766.846 939.553,766.846 940.575,766.846 941.598,766.846 \n",
       "  942.62,766.846 943.643,766.846 944.666,766.846 945.688,766.846 946.711,766.846 947.733,766.846 948.756,766.846 949.779,766.846 950.801,766.846 951.824,766.846 \n",
       "  952.846,766.846 953.869,1445.72 954.892,766.846 955.914,766.846 956.937,766.846 957.959,766.846 958.982,766.846 960.005,1445.72 961.027,766.846 962.05,766.846 \n",
       "  963.072,766.846 964.095,766.846 965.118,1445.72 966.14,766.846 967.163,766.846 968.185,766.846 969.208,766.846 970.231,766.846 971.253,766.846 972.276,766.846 \n",
       "  973.298,766.846 974.321,766.846 975.344,766.846 976.366,766.846 977.389,766.846 978.411,766.846 979.434,766.846 980.457,766.846 981.479,766.846 982.502,766.846 \n",
       "  983.525,766.846 984.547,766.846 985.57,766.846 986.592,766.846 987.615,766.846 988.638,766.846 989.66,766.846 990.683,87.9763 991.705,766.846 992.728,766.846 \n",
       "  993.751,766.846 994.773,766.846 995.796,766.846 996.818,766.846 997.841,766.846 998.864,766.846 999.886,766.846 1000.91,766.846 1001.93,766.846 1002.95,766.846 \n",
       "  1003.98,766.846 1005,766.846 1006.02,766.846 1007.04,766.846 1008.07,766.846 1009.09,766.846 1010.11,766.846 1011.13,766.846 1012.16,766.846 1013.18,766.846 \n",
       "  1014.2,766.846 1015.23,766.846 1016.25,766.846 1017.27,766.846 1018.29,766.846 1019.32,766.846 1020.34,766.846 1021.36,766.846 1022.38,766.846 1023.41,766.846 \n",
       "  1024.43,766.846 1025.45,766.846 1026.47,766.846 1027.5,766.846 1028.52,766.846 1029.54,766.846 1030.56,766.846 1031.59,766.846 1032.61,766.846 1033.63,766.846 \n",
       "  1034.65,766.846 1035.68,766.846 1036.7,766.846 1037.72,766.846 1038.74,766.846 1039.77,766.846 1040.79,1445.72 1041.81,766.846 1042.84,766.846 1043.86,766.846 \n",
       "  1044.88,766.846 1045.9,766.846 1046.93,766.846 1047.95,766.846 1048.97,766.846 1049.99,766.846 1051.02,766.846 1052.04,766.846 1053.06,766.846 1054.08,766.846 \n",
       "  1055.11,766.846 1056.13,766.846 1057.15,766.846 1058.17,766.846 1059.2,766.846 1060.22,87.9763 1061.24,766.846 1062.26,1445.72 1063.29,766.846 1064.31,766.846 \n",
       "  1065.33,766.846 1066.36,766.846 1067.38,766.846 1068.4,766.846 1069.42,766.846 1070.45,766.846 1071.47,766.846 1072.49,766.846 1073.51,766.846 1074.54,766.846 \n",
       "  1075.56,766.846 1076.58,766.846 1077.6,766.846 1078.63,766.846 1079.65,766.846 1080.67,766.846 1081.69,766.846 1082.72,766.846 1083.74,766.846 1084.76,766.846 \n",
       "  1085.78,766.846 1086.81,766.846 1087.83,766.846 1088.85,766.846 1089.87,766.846 1090.9,766.846 1091.92,766.846 1092.94,766.846 1093.97,766.846 1094.99,766.846 \n",
       "  1096.01,766.846 1097.03,766.846 1098.06,766.846 1099.08,766.846 1100.1,766.846 1101.12,766.846 1102.15,766.846 1103.17,766.846 1104.19,766.846 1105.21,766.846 \n",
       "  1106.24,766.846 1107.26,766.846 1108.28,766.846 1109.3,766.846 1110.33,766.846 1111.35,766.846 1112.37,766.846 1113.39,766.846 1114.42,766.846 1115.44,766.846 \n",
       "  1116.46,766.846 1117.49,766.846 1118.51,766.846 1119.53,766.846 1120.55,766.846 1121.58,766.846 1122.6,766.846 1123.62,766.846 1124.64,766.846 1125.67,766.846 \n",
       "  1126.69,766.846 1127.71,766.846 1128.73,766.846 1129.76,766.846 1130.78,766.846 1131.8,766.846 1132.82,766.846 1133.85,766.846 1134.87,766.846 1135.89,766.846 \n",
       "  1136.91,766.846 1137.94,766.846 1138.96,766.846 1139.98,766.846 1141,766.846 1142.03,766.846 1143.05,766.846 1144.07,766.846 1145.1,766.846 1146.12,766.846 \n",
       "  1147.14,766.846 1148.16,766.846 1149.19,766.846 1150.21,766.846 1151.23,766.846 1152.25,766.846 1153.28,766.846 1154.3,766.846 1155.32,766.846 1156.34,766.846 \n",
       "  1157.37,766.846 1158.39,766.846 1159.41,766.846 1160.43,766.846 1161.46,766.846 1162.48,766.846 1163.5,766.846 1164.52,766.846 1165.55,766.846 1166.57,766.846 \n",
       "  1167.59,766.846 1168.62,766.846 1169.64,766.846 1170.66,766.846 1171.68,766.846 1172.71,766.846 1173.73,766.846 1174.75,766.846 1175.77,766.846 1176.8,766.846 \n",
       "  1177.82,766.846 1178.84,766.846 1179.86,766.846 1180.89,766.846 1181.91,766.846 1182.93,766.846 1183.95,766.846 1184.98,766.846 1186,766.846 1187.02,766.846 \n",
       "  1188.04,766.846 1189.07,766.846 1190.09,766.846 1191.11,766.846 1192.14,766.846 1193.16,766.846 1194.18,766.846 1195.2,766.846 1196.23,766.846 1197.25,766.846 \n",
       "  1198.27,766.846 1199.29,766.846 1200.32,766.846 1201.34,766.846 1202.36,766.846 1203.38,766.846 1204.41,766.846 1205.43,766.846 1206.45,766.846 1207.47,766.846 \n",
       "  1208.5,766.846 1209.52,766.846 1210.54,766.846 1211.56,766.846 1212.59,766.846 1213.61,766.846 1214.63,766.846 1215.65,766.846 1216.68,766.846 1217.7,766.846 \n",
       "  1218.72,766.846 1219.75,766.846 1220.77,766.846 1221.79,766.846 1222.81,766.846 1223.84,766.846 1224.86,766.846 1225.88,766.846 1226.9,766.846 1227.93,766.846 \n",
       "  1228.95,766.846 1229.97,766.846 1230.99,766.846 1232.02,766.846 1233.04,766.846 1234.06,766.846 1235.08,766.846 1236.11,766.846 1237.13,766.846 1238.15,766.846 \n",
       "  1239.17,766.846 1240.2,766.846 1241.22,766.846 1242.24,766.846 1243.27,766.846 1244.29,766.846 1245.31,766.846 1246.33,766.846 1247.36,766.846 1248.38,766.846 \n",
       "  1249.4,766.846 1250.42,766.846 1251.45,766.846 1252.47,766.846 1253.49,766.846 1254.51,766.846 1255.54,766.846 1256.56,766.846 1257.58,766.846 1258.6,766.846 \n",
       "  1259.63,766.846 1260.65,1445.72 1261.67,766.846 1262.69,766.846 1263.72,766.846 1264.74,766.846 1265.76,766.846 1266.78,766.846 1267.81,766.846 1268.83,766.846 \n",
       "  1269.85,766.846 1270.88,1445.72 1271.9,766.846 1272.92,766.846 1273.94,766.846 1274.97,766.846 1275.99,766.846 1277.01,766.846 1278.03,766.846 1279.06,766.846 \n",
       "  1280.08,766.846 1281.1,766.846 1282.12,766.846 1283.15,766.846 1284.17,766.846 1285.19,766.846 1286.21,766.846 1287.24,766.846 1288.26,766.846 1289.28,766.846 \n",
       "  1290.3,766.846 1291.33,766.846 1292.35,766.846 1293.37,766.846 1294.4,766.846 1295.42,766.846 1296.44,766.846 1297.46,766.846 1298.49,766.846 1299.51,766.846 \n",
       "  1300.53,766.846 1301.55,766.846 1302.58,766.846 1303.6,766.846 1304.62,766.846 1305.64,766.846 1306.67,766.846 1307.69,766.846 1308.71,766.846 1309.73,766.846 \n",
       "  1310.76,766.846 1311.78,766.846 1312.8,766.846 1313.82,766.846 1314.85,766.846 1315.87,766.846 1316.89,766.846 1317.91,766.846 1318.94,766.846 1319.96,766.846 \n",
       "  1320.98,766.846 1322.01,766.846 1323.03,766.846 1324.05,766.846 1325.07,766.846 1326.1,766.846 1327.12,766.846 1328.14,766.846 1329.16,766.846 1330.19,766.846 \n",
       "  1331.21,766.846 1332.23,766.846 1333.25,766.846 1334.28,766.846 1335.3,766.846 1336.32,87.9763 1337.34,766.846 1338.37,766.846 1339.39,766.846 1340.41,766.846 \n",
       "  1341.43,766.846 1342.46,766.846 1343.48,766.846 1344.5,766.846 1345.53,766.846 1346.55,766.846 1347.57,766.846 1348.59,766.846 1349.62,766.846 1350.64,766.846 \n",
       "  1351.66,766.846 1352.68,766.846 1353.71,766.846 1354.73,766.846 1355.75,766.846 1356.77,766.846 1357.8,766.846 1358.82,766.846 1359.84,766.846 1360.86,766.846 \n",
       "  1361.89,766.846 1362.91,766.846 1363.93,766.846 1364.95,766.846 1365.98,766.846 1367,766.846 1368.02,766.846 1369.04,766.846 1370.07,766.846 1371.09,766.846 \n",
       "  1372.11,766.846 1373.14,766.846 1374.16,766.846 1375.18,766.846 1376.2,766.846 1377.23,766.846 1378.25,766.846 1379.27,766.846 1380.29,766.846 1381.32,766.846 \n",
       "  1382.34,766.846 1383.36,766.846 1384.38,766.846 1385.41,766.846 1386.43,766.846 1387.45,766.846 1388.47,766.846 1389.5,766.846 1390.52,766.846 1391.54,766.846 \n",
       "  1392.56,1445.72 1393.59,766.846 1394.61,766.846 1395.63,766.846 1396.66,766.846 1397.68,766.846 1398.7,766.846 1399.72,766.846 1400.75,766.846 1401.77,766.846 \n",
       "  1402.79,766.846 1403.81,766.846 1404.84,766.846 1405.86,766.846 1406.88,766.846 1407.9,766.846 1408.93,766.846 1409.95,766.846 1410.97,766.846 1411.99,766.846 \n",
       "  1413.02,766.846 1414.04,1445.72 1415.06,766.846 1416.08,766.846 1417.11,766.846 1418.13,766.846 1419.15,766.846 1420.17,766.846 1421.2,766.846 1422.22,766.846 \n",
       "  1423.24,766.846 1424.27,1445.72 1425.29,766.846 1426.31,766.846 1427.33,766.846 1428.36,766.846 1429.38,766.846 1430.4,766.846 1431.42,766.846 1432.45,766.846 \n",
       "  1433.47,766.846 1434.49,766.846 1435.51,766.846 1436.54,766.846 1437.56,766.846 1438.58,766.846 1439.6,766.846 1440.63,766.846 1441.65,766.846 1442.67,766.846 \n",
       "  1443.69,766.846 1444.72,766.846 1445.74,766.846 1446.76,766.846 1447.79,766.846 1448.81,766.846 1449.83,766.846 1450.85,766.846 1451.88,766.846 1452.9,766.846 \n",
       "  1453.92,766.846 1454.94,766.846 1455.97,766.846 1456.99,766.846 1458.01,766.846 1459.03,766.846 1460.06,766.846 1461.08,766.846 1462.1,766.846 1463.12,766.846 \n",
       "  1464.15,766.846 1465.17,1445.72 1466.19,766.846 1467.21,766.846 1468.24,766.846 1469.26,766.846 1470.28,766.846 1471.3,766.846 1472.33,766.846 1473.35,766.846 \n",
       "  1474.37,766.846 1475.4,766.846 1476.42,766.846 1477.44,766.846 1478.46,766.846 1479.49,766.846 1480.51,766.846 1481.53,766.846 1482.55,766.846 1483.58,766.846 \n",
       "  1484.6,766.846 1485.62,766.846 1486.64,766.846 1487.67,766.846 1488.69,766.846 1489.71,766.846 1490.73,766.846 1491.76,766.846 1492.78,766.846 1493.8,766.846 \n",
       "  1494.82,766.846 1495.85,766.846 1496.87,766.846 1497.89,766.846 1498.92,766.846 1499.94,766.846 1500.96,766.846 1501.98,766.846 1503.01,766.846 1504.03,766.846 \n",
       "  1505.05,766.846 1506.07,766.846 1507.1,766.846 1508.12,766.846 1509.14,766.846 1510.16,766.846 1511.19,766.846 1512.21,766.846 1513.23,766.846 1514.25,766.846 \n",
       "  1515.28,766.846 1516.3,766.846 1517.32,766.846 1518.34,766.846 1519.37,766.846 1520.39,766.846 1521.41,766.846 1522.43,766.846 1523.46,766.846 1524.48,766.846 \n",
       "  1525.5,766.846 1526.53,766.846 1527.55,766.846 1528.57,766.846 1529.59,766.846 1530.62,1445.72 1531.64,766.846 1532.66,766.846 1533.68,766.846 1534.71,766.846 \n",
       "  1535.73,766.846 1536.75,766.846 1537.77,766.846 1538.8,766.846 1539.82,766.846 1540.84,766.846 1541.86,766.846 1542.89,766.846 1543.91,766.846 1544.93,766.846 \n",
       "  1545.95,766.846 1546.98,87.9763 1548,766.846 1549.02,766.846 1550.05,766.846 1551.07,766.846 1552.09,766.846 1553.11,766.846 1554.14,766.846 1555.16,766.846 \n",
       "  1556.18,766.846 1557.2,766.846 1558.23,766.846 1559.25,766.846 1560.27,766.846 1561.29,766.846 1562.32,766.846 1563.34,766.846 1564.36,766.846 1565.38,766.846 \n",
       "  1566.41,766.846 1567.43,766.846 1568.45,766.846 1569.47,766.846 1570.5,766.846 1571.52,766.846 1572.54,766.846 1573.56,766.846 1574.59,766.846 1575.61,766.846 \n",
       "  1576.63,766.846 1577.66,766.846 1578.68,766.846 1579.7,766.846 1580.72,766.846 1581.75,766.846 1582.77,766.846 1583.79,766.846 1584.81,766.846 1585.84,766.846 \n",
       "  1586.86,766.846 1587.88,766.846 1588.9,766.846 1589.93,766.846 1590.95,766.846 1591.97,766.846 1592.99,766.846 1594.02,766.846 1595.04,766.846 1596.06,766.846 \n",
       "  1597.08,766.846 1598.11,766.846 1599.13,766.846 1600.15,766.846 1601.18,766.846 1602.2,766.846 1603.22,766.846 1604.24,766.846 1605.27,766.846 1606.29,766.846 \n",
       "  1607.31,766.846 1608.33,766.846 1609.36,766.846 1610.38,766.846 1611.4,1445.72 1612.42,766.846 1613.45,766.846 1614.47,766.846 1615.49,766.846 1616.51,766.846 \n",
       "  1617.54,766.846 1618.56,766.846 1619.58,766.846 1620.6,766.846 1621.63,766.846 1622.65,766.846 1623.67,766.846 1624.7,766.846 1625.72,766.846 1626.74,766.846 \n",
       "  1627.76,766.846 1628.79,766.846 1629.81,766.846 1630.83,766.846 1631.85,766.846 1632.88,766.846 1633.9,766.846 1634.92,766.846 1635.94,766.846 1636.97,766.846 \n",
       "  1637.99,766.846 1639.01,766.846 1640.03,766.846 1641.06,766.846 1642.08,766.846 1643.1,766.846 1644.12,766.846 1645.15,766.846 1646.17,766.846 1647.19,766.846 \n",
       "  1648.21,766.846 1649.24,766.846 1650.26,766.846 1651.28,766.846 1652.31,766.846 1653.33,766.846 1654.35,766.846 1655.37,766.846 1656.4,766.846 1657.42,766.846 \n",
       "  1658.44,766.846 1659.46,766.846 1660.49,766.846 1661.51,766.846 1662.53,766.846 1663.55,766.846 1664.58,766.846 1665.6,766.846 1666.62,766.846 1667.64,766.846 \n",
       "  1668.67,766.846 1669.69,766.846 1670.71,766.846 1671.73,766.846 1672.76,766.846 1673.78,766.846 1674.8,766.846 1675.83,766.846 1676.85,766.846 1677.87,766.846 \n",
       "  1678.89,766.846 1679.92,766.846 1680.94,766.846 1681.96,766.846 1682.98,766.846 1684.01,766.846 1685.03,766.846 1686.05,766.846 1687.07,766.846 1688.1,766.846 \n",
       "  1689.12,766.846 1690.14,766.846 1691.16,766.846 1692.19,766.846 1693.21,766.846 1694.23,766.846 1695.25,766.846 1696.28,766.846 1697.3,766.846 1698.32,766.846 \n",
       "  1699.34,766.846 1700.37,766.846 1701.39,766.846 1702.41,766.846 1703.44,766.846 1704.46,766.846 1705.48,766.846 1706.5,766.846 1707.53,87.9763 1708.55,766.846 \n",
       "  1709.57,766.846 1710.59,766.846 1711.62,766.846 1712.64,766.846 1713.66,766.846 1714.68,766.846 1715.71,766.846 1716.73,766.846 1717.75,766.846 1718.77,766.846 \n",
       "  1719.8,766.846 1720.82,766.846 1721.84,766.846 1722.86,766.846 1723.89,766.846 1724.91,766.846 1725.93,766.846 1726.96,766.846 1727.98,766.846 1729,766.846 \n",
       "  1730.02,766.846 1731.05,766.846 1732.07,766.846 1733.09,766.846 1734.11,766.846 1735.14,766.846 1736.16,766.846 1737.18,766.846 1738.2,766.846 1739.23,766.846 \n",
       "  1740.25,766.846 1741.27,766.846 1742.29,766.846 1743.32,766.846 1744.34,766.846 1745.36,766.846 1746.38,87.9763 1747.41,766.846 1748.43,766.846 1749.45,766.846 \n",
       "  1750.47,766.846 1751.5,766.846 1752.52,766.846 1753.54,766.846 1754.57,766.846 1755.59,766.846 1756.61,766.846 1757.63,766.846 1758.66,766.846 1759.68,766.846 \n",
       "  1760.7,766.846 1761.72,766.846 1762.75,766.846 1763.77,766.846 1764.79,766.846 1765.81,766.846 1766.84,766.846 1767.86,766.846 1768.88,766.846 1769.9,766.846 \n",
       "  1770.93,766.846 1771.95,766.846 1772.97,766.846 1773.99,766.846 1775.02,766.846 1776.04,766.846 1777.06,766.846 1778.09,766.846 1779.11,766.846 1780.13,766.846 \n",
       "  1781.15,766.846 1782.18,766.846 1783.2,766.846 1784.22,766.846 1785.24,766.846 1786.27,766.846 1787.29,766.846 1788.31,766.846 1789.33,766.846 1790.36,766.846 \n",
       "  1791.38,766.846 1792.4,766.846 1793.42,766.846 1794.45,766.846 1795.47,766.846 1796.49,766.846 1797.51,766.846 1798.54,766.846 1799.56,766.846 1800.58,766.846 \n",
       "  1801.6,766.846 1802.63,766.846 1803.65,766.846 1804.67,766.846 1805.7,766.846 1806.72,766.846 1807.74,766.846 1808.76,766.846 1809.79,766.846 1810.81,766.846 \n",
       "  1811.83,766.846 1812.85,766.846 1813.88,766.846 1814.9,766.846 1815.92,766.846 1816.94,766.846 1817.97,766.846 1818.99,766.846 1820.01,766.846 1821.03,766.846 \n",
       "  1822.06,766.846 1823.08,766.846 1824.1,766.846 1825.12,766.846 1826.15,766.846 1827.17,766.846 1828.19,766.846 1829.22,766.846 1830.24,766.846 1831.26,766.846 \n",
       "  1832.28,766.846 1833.31,766.846 1834.33,766.846 1835.35,766.846 1836.37,766.846 1837.4,766.846 1838.42,766.846 1839.44,766.846 1840.46,766.846 1841.49,766.846 \n",
       "  1842.51,766.846 1843.53,766.846 1844.55,766.846 1845.58,766.846 1846.6,766.846 1847.62,766.846 1848.64,766.846 1849.67,766.846 1850.69,766.846 1851.71,766.846 \n",
       "  1852.73,766.846 1853.76,766.846 1854.78,766.846 1855.8,766.846 1856.83,766.846 1857.85,766.846 1858.87,766.846 1859.89,766.846 1860.92,766.846 1861.94,766.846 \n",
       "  1862.96,87.9763 1863.98,766.846 1865.01,766.846 1866.03,766.846 1867.05,766.846 1868.07,766.846 1869.1,766.846 1870.12,766.846 1871.14,766.846 1872.16,766.846 \n",
       "  1873.19,766.846 1874.21,766.846 1875.23,766.846 1876.25,766.846 1877.28,766.846 1878.3,766.846 1879.32,766.846 1880.35,766.846 1881.37,766.846 1882.39,766.846 \n",
       "  1883.41,766.846 1884.44,766.846 1885.46,766.846 1886.48,766.846 1887.5,766.846 1888.53,766.846 1889.55,766.846 1890.57,766.846 1891.59,766.846 1892.62,766.846 \n",
       "  1893.64,766.846 1894.66,766.846 1895.68,766.846 1896.71,766.846 1897.73,766.846 1898.75,766.846 1899.77,766.846 1900.8,766.846 1901.82,766.846 1902.84,766.846 \n",
       "  1903.86,766.846 1904.89,766.846 1905.91,766.846 1906.93,766.846 1907.96,766.846 1908.98,766.846 1910,766.846 1911.02,766.846 1912.05,766.846 1913.07,766.846 \n",
       "  1914.09,766.846 1915.11,766.846 1916.14,766.846 1917.16,87.9763 1918.18,766.846 1919.2,766.846 1920.23,766.846 1921.25,766.846 1922.27,766.846 1923.29,766.846 \n",
       "  1924.32,766.846 1925.34,766.846 1926.36,766.846 1927.38,766.846 1928.41,766.846 1929.43,766.846 1930.45,766.846 1931.48,766.846 1932.5,766.846 1933.52,766.846 \n",
       "  1934.54,766.846 1935.57,766.846 1936.59,766.846 1937.61,766.846 1938.63,766.846 1939.66,766.846 1940.68,766.846 1941.7,766.846 1942.72,766.846 1943.75,766.846 \n",
       "  1944.77,766.846 1945.79,766.846 1946.81,766.846 1947.84,766.846 1948.86,766.846 1949.88,766.846 1950.9,766.846 1951.93,766.846 1952.95,766.846 1953.97,766.846 \n",
       "  1954.99,766.846 1956.02,766.846 1957.04,1445.72 1958.06,766.846 1959.09,766.846 1960.11,766.846 1961.13,766.846 1962.15,766.846 1963.18,766.846 1964.2,766.846 \n",
       "  1965.22,766.846 1966.24,766.846 1967.27,766.846 1968.29,766.846 1969.31,766.846 1970.33,766.846 1971.36,766.846 1972.38,766.846 1973.4,766.846 1974.42,766.846 \n",
       "  1975.45,766.846 1976.47,766.846 1977.49,766.846 1978.51,766.846 1979.54,766.846 1980.56,766.846 1981.58,766.846 1982.61,766.846 1983.63,766.846 1984.65,766.846 \n",
       "  1985.67,766.846 1986.7,766.846 1987.72,766.846 1988.74,766.846 1989.76,766.846 1990.79,766.846 1991.81,766.846 1992.83,766.846 1993.85,766.846 1994.88,766.846 \n",
       "  1995.9,766.846 1996.92,766.846 1997.94,766.846 1998.97,766.846 1999.99,766.846 2001.01,766.846 2002.03,766.846 2003.06,766.846 2004.08,1445.72 2005.1,766.846 \n",
       "  2006.13,766.846 2007.15,766.846 2008.17,766.846 2009.19,766.846 2010.22,766.846 2011.24,766.846 2012.26,766.846 2013.28,766.846 2014.31,766.846 2015.33,766.846 \n",
       "  2016.35,766.846 2017.37,766.846 2018.4,766.846 2019.42,766.846 2020.44,766.846 2021.46,766.846 2022.49,766.846 2023.51,766.846 2024.53,766.846 2025.55,766.846 \n",
       "  2026.58,766.846 2027.6,766.846 2028.62,766.846 2029.64,766.846 2030.67,766.846 2031.69,766.846 2032.71,766.846 2033.74,766.846 2034.76,766.846 2035.78,766.846 \n",
       "  2036.8,766.846 2037.83,766.846 2038.85,766.846 2039.87,766.846 2040.89,766.846 2041.92,766.846 2042.94,766.846 2043.96,766.846 2044.98,766.846 2046.01,766.846 \n",
       "  2047.03,766.846 2048.05,766.846 2049.07,766.846 2050.1,766.846 2051.12,766.846 2052.14,766.846 2053.16,766.846 2054.19,766.846 2055.21,766.846 2056.23,766.846 \n",
       "  2057.26,766.846 2058.28,766.846 2059.3,766.846 2060.32,766.846 2061.35,766.846 2062.37,766.846 2063.39,766.846 2064.41,766.846 2065.44,766.846 2066.46,766.846 \n",
       "  2067.48,766.846 2068.5,766.846 2069.53,766.846 2070.55,766.846 2071.57,766.846 2072.59,766.846 2073.62,766.846 2074.64,766.846 2075.66,766.846 2076.68,766.846 \n",
       "  2077.71,766.846 2078.73,766.846 2079.75,766.846 2080.77,766.846 2081.8,766.846 2082.82,766.846 2083.84,766.846 2084.87,766.846 2085.89,766.846 2086.91,766.846 \n",
       "  2087.93,766.846 2088.96,766.846 2089.98,766.846 2091,766.846 2092.02,766.846 2093.05,766.846 2094.07,1445.72 2095.09,766.846 2096.11,766.846 2097.14,766.846 \n",
       "  2098.16,766.846 2099.18,766.846 2100.2,766.846 2101.23,766.846 2102.25,766.846 2103.27,766.846 2104.29,766.846 2105.32,766.846 2106.34,766.846 2107.36,766.846 \n",
       "  2108.39,766.846 2109.41,766.846 2110.43,766.846 2111.45,766.846 2112.48,766.846 2113.5,766.846 2114.52,766.846 2115.54,766.846 2116.57,766.846 2117.59,766.846 \n",
       "  2118.61,766.846 2119.63,766.846 2120.66,766.846 2121.68,766.846 2122.7,766.846 2123.72,766.846 2124.75,766.846 2125.77,766.846 2126.79,766.846 2127.81,766.846 \n",
       "  2128.84,766.846 2129.86,766.846 2130.88,766.846 2131.9,766.846 2132.93,766.846 2133.95,766.846 2134.97,766.846 2136,766.846 2137.02,766.846 2138.04,766.846 \n",
       "  2139.06,766.846 2140.09,766.846 2141.11,766.846 2142.13,766.846 2143.15,766.846 2144.18,766.846 2145.2,766.846 2146.22,766.846 2147.24,766.846 2148.27,766.846 \n",
       "  2149.29,766.846 2150.31,766.846 2151.33,766.846 2152.36,766.846 2153.38,766.846 2154.4,766.846 2155.42,766.846 2156.45,766.846 2157.47,766.846 2158.49,766.846 \n",
       "  2159.52,766.846 2160.54,766.846 2161.56,766.846 2162.58,766.846 2163.61,766.846 2164.63,766.846 2165.65,1445.72 2166.67,766.846 2167.7,766.846 2168.72,766.846 \n",
       "  2169.74,766.846 2170.76,766.846 2171.79,766.846 2172.81,766.846 2173.83,766.846 2174.85,766.846 2175.88,766.846 2176.9,766.846 2177.92,766.846 2178.94,766.846 \n",
       "  2179.97,766.846 2180.99,766.846 2182.01,766.846 2183.03,766.846 2184.06,766.846 2185.08,766.846 2186.1,766.846 2187.13,766.846 2188.15,766.846 2189.17,766.846 \n",
       "  2190.19,766.846 2191.22,766.846 2192.24,766.846 2193.26,766.846 2194.28,766.846 2195.31,766.846 2196.33,766.846 2197.35,766.846 2198.37,766.846 2199.4,766.846 \n",
       "  2200.42,766.846 2201.44,766.846 2202.46,766.846 2203.49,766.846 2204.51,766.846 2205.53,766.846 2206.55,766.846 2207.58,766.846 2208.6,766.846 2209.62,766.846 \n",
       "  2210.65,766.846 2211.67,766.846 2212.69,766.846 2213.71,766.846 2214.74,766.846 2215.76,766.846 2216.78,766.846 2217.8,766.846 2218.83,766.846 2219.85,766.846 \n",
       "  2220.87,766.846 2221.89,766.846 2222.92,766.846 2223.94,766.846 2224.96,766.846 2225.98,766.846 2227.01,766.846 2228.03,766.846 2229.05,766.846 2230.07,766.846 \n",
       "  2231.1,766.846 2232.12,766.846 2233.14,766.846 2234.16,766.846 2235.19,766.846 2236.21,766.846 2237.23,766.846 2238.26,766.846 2239.28,766.846 2240.3,766.846 \n",
       "  2241.32,766.846 2242.35,766.846 2243.37,766.846 2244.39,766.846 2245.41,766.846 2246.44,766.846 2247.46,766.846 2248.48,766.846 2249.5,766.846 2250.53,766.846 \n",
       "  2251.55,766.846 2252.57,766.846 2253.59,766.846 2254.62,766.846 2255.64,766.846 2256.66,766.846 2257.68,766.846 2258.71,766.846 2259.73,766.846 2260.75,766.846 \n",
       "  2261.78,766.846 2262.8,766.846 2263.82,766.846 2264.84,766.846 2265.87,766.846 2266.89,766.846 2267.91,766.846 2268.93,766.846 2269.96,766.846 2270.98,766.846 \n",
       "  2272,766.846 2273.02,87.9763 2274.05,766.846 2275.07,766.846 2276.09,766.846 2277.11,766.846 2278.14,766.846 2279.16,766.846 2280.18,766.846 2281.2,766.846 \n",
       "  2282.23,766.846 2283.25,766.846 2284.27,766.846 2285.29,766.846 2286.32,766.846 2287.34,766.846 2288.36,766.846 2289.39,766.846 2290.41,766.846 2291.43,766.846 \n",
       "  \n",
       "  \"/>\n",
       "<path clip-path=\"url(#clip660)\" d=\"\n",
       "M258.154 198.898 L527.268 198.898 L527.268 95.2176 L258.154 95.2176  Z\n",
       "  \" fill=\"#ffffff\" fill-rule=\"evenodd\" fill-opacity=\"1\"/>\n",
       "<polyline clip-path=\"url(#clip660)\" style=\"stroke:#000000; stroke-linecap:round; stroke-linejoin:round; stroke-width:4; stroke-opacity:1; fill:none\" points=\"\n",
       "  258.154,198.898 527.268,198.898 527.268,95.2176 258.154,95.2176 258.154,198.898 \n",
       "  \"/>\n",
       "<polyline clip-path=\"url(#clip660)\" style=\"stroke:#009af9; stroke-linecap:round; stroke-linejoin:round; stroke-width:4; stroke-opacity:1; fill:none\" points=\"\n",
       "  282.23,147.058 426.686,147.058 \n",
       "  \"/>\n",
       "<path clip-path=\"url(#clip660)\" d=\"M464.604 166.745 Q462.798 171.375 461.085 172.787 Q459.373 174.199 456.502 174.199 L453.099 174.199 L453.099 170.634 L455.599 170.634 Q457.359 170.634 458.331 169.8 Q459.303 168.967 460.484 165.865 L461.248 163.921 L450.761 138.412 L455.275 138.412 L463.377 158.689 L471.479 138.412 L475.993 138.412 L464.604 166.745 Z\" fill=\"#000000\" fill-rule=\"evenodd\" fill-opacity=\"1\" /><path clip-path=\"url(#clip660)\" d=\"M483.284 160.402 L490.923 160.402 L490.923 134.037 L482.613 135.703 L482.613 131.444 L490.877 129.778 L495.553 129.778 L495.553 160.402 L503.192 160.402 L503.192 164.338 L483.284 164.338 L483.284 160.402 Z\" fill=\"#000000\" fill-rule=\"evenodd\" fill-opacity=\"1\" /></svg>\n"
      ]
     },
     "execution_count": 32,
     "metadata": {},
     "output_type": "execute_result"
    }
   ],
   "source": [
    "if TRAINING\n",
    "    plot(episode_test_step_hook.steps[1:2:end])\n",
    "end"
   ]
  },
  {
   "cell_type": "code",
   "execution_count": 33,
   "id": "d2c89b70",
   "metadata": {},
   "outputs": [],
   "source": [
    "close_visualization(); # closes the MeshCat visualization"
   ]
  }
 ],
 "metadata": {
  "@webio": {
   "lastCommId": null,
   "lastKernelId": null
  },
  "kernelspec": {
   "display_name": "Julia 1.8.0",
   "language": "julia",
   "name": "julia-1.8"
  },
  "language_info": {
   "file_extension": ".jl",
   "mimetype": "application/julia",
   "name": "julia",
   "version": "1.8.0"
  }
 },
 "nbformat": 4,
 "nbformat_minor": 5
}
